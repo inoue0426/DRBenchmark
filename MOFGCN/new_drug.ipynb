{
 "cells": [
  {
   "cell_type": "code",
   "execution_count": 1,
   "id": "572a0fa8-b250-47bc-b76d-a2ec8c923717",
   "metadata": {},
   "outputs": [],
   "source": [
    "import argparse\n",
    "\n",
    "import numpy as np\n",
    "import pandas as pd\n",
    "import scipy.sparse as sp\n",
    "import torch\n",
    "from tqdm import tqdm\n",
    "from sklearn.model_selection import KFold"
   ]
  },
  {
   "cell_type": "code",
   "execution_count": 2,
   "id": "807ed612-b85a-46b4-9f14-9df64631581d",
   "metadata": {},
   "outputs": [],
   "source": [
    "%load_ext autoreload\n",
    "%autoreload 2\n",
    "\n",
    "from load_data import load_data\n",
    "from model import GModel\n",
    "from myutils import roc_auc, translate_result\n",
    "from optimizer import Optimizer\n",
    "from sampler import NewSampler"
   ]
  },
  {
   "cell_type": "code",
   "execution_count": 3,
   "id": "377e2120-1fee-4f37-acac-6b5693543ff4",
   "metadata": {},
   "outputs": [
    {
     "name": "stdout",
     "output_type": "stream",
     "text": [
      "load gdsc2\n"
     ]
    }
   ],
   "source": [
    "class Args:\n",
    "    def __init__(self):\n",
    "        self.device = \"cpu\"  # cuda:number or cpu\n",
    "        self.data = \"gdsc2\"  # Dataset{gdsc or ccle}\n",
    "\n",
    "\n",
    "args = Args()\n",
    "res, drug_finger, exprs, mut, cna, null_mask, pos_num = load_data(args)"
   ]
  },
  {
   "cell_type": "code",
   "execution_count": 4,
   "id": "e4830366-799a-4b1e-8395-7d4121b83a73",
   "metadata": {},
   "outputs": [],
   "source": [
    "cell_sum = np.sum(res, axis=1)\n",
    "drug_sum = np.sum(res, axis=0)\n",
    "\n",
    "target_dim = [\n",
    "    # 0,  # Cell\n",
    "    1  # Drug\n",
    "]\n",
    "device=torch.device(\n",
    "            \"cuda\" if torch.cuda.is_available() else \"cpu\"\n",
    "        )"
   ]
  },
  {
   "cell_type": "code",
   "execution_count": 5,
   "id": "f7186080-2927-47ab-82ec-1334f60f6777",
   "metadata": {},
   "outputs": [],
   "source": [
    "def mofgcn_new(\n",
    "    exprs,\n",
    "    cna,\n",
    "    mut,\n",
    "    drug_finger,\n",
    "    res_mat,\n",
    "    null_mask,\n",
    "    target_dim,\n",
    "    target_index,\n",
    "    evaluate_fun,\n",
    "    args,\n",
    "    seed,\n",
    "    device\n",
    "):\n",
    "    sampler = NewSampler(res_mat, null_mask, target_dim, target_index, seed)\n",
    "    model = GModel(\n",
    "        adj_mat=sampler.train_data,\n",
    "        gene=exprs,\n",
    "        cna=cna,\n",
    "        mutation=mut,\n",
    "        sigma=2,\n",
    "        k=11,\n",
    "        iterates=3,\n",
    "        feature_drug=drug_finger,\n",
    "        n_hid1=192,\n",
    "        n_hid2=36,\n",
    "        alpha=5.74,\n",
    "        device=device,\n",
    "    )\n",
    "    opt = Optimizer(\n",
    "        model,\n",
    "        sampler.train_data,\n",
    "        sampler.test_data,\n",
    "        sampler.test_mask,\n",
    "        sampler.train_mask,\n",
    "        roc_auc,\n",
    "        lr=5e-4,\n",
    "        epochs=1000,\n",
    "        device=device,\n",
    "    ).to(device)\n",
    "    epoch, true_data, predict_data = opt()\n",
    "    return true_data, predict_data"
   ]
  },
  {
   "cell_type": "code",
   "execution_count": 6,
   "id": "c23b7d83-33d7-4868-8981-12ae43bc19ec",
   "metadata": {
    "scrolled": true
   },
   "outputs": [
    {
     "name": "stderr",
     "output_type": "stream",
     "text": [
      "  0%|          | 0/240 [00:00<?, ?it/s]"
     ]
    },
    {
     "name": "stdout",
     "output_type": "stream",
     "text": [
      "epoch:   0 loss:0.489531 auc:0.5615\n",
      "epoch:  20 loss:0.221061 auc:0.5444\n",
      "epoch:  40 loss:0.178891 auc:0.6734\n",
      "epoch:  60 loss:0.166933 auc:0.6771\n",
      "epoch:  80 loss:0.154018 auc:0.7095\n",
      "epoch: 100 loss:0.150552 auc:0.7137\n",
      "epoch: 120 loss:0.145129 auc:0.7200\n",
      "epoch: 140 loss:0.142264 auc:0.7107\n",
      "epoch: 160 loss:0.142207 auc:0.7092\n",
      "epoch: 180 loss:0.137917 auc:0.6492\n"
     ]
    },
    {
     "name": "stderr",
     "output_type": "stream",
     "text": [
      "  2%|▏         | 4/240 [00:03<03:12,  1.23it/s]"
     ]
    },
    {
     "name": "stdout",
     "output_type": "stream",
     "text": [
      "epoch: 200 loss:0.135118 auc:0.6592\n",
      "Fit finished.\n",
      "epoch:   0 loss:0.568385 auc:0.4004\n",
      "epoch:  20 loss:0.238864 auc:0.5289\n",
      "epoch:  40 loss:0.184063 auc:0.8362\n",
      "epoch:  60 loss:0.171039 auc:0.8609\n",
      "epoch:  80 loss:0.161997 auc:0.8784\n",
      "epoch: 100 loss:0.151418 auc:0.9010\n",
      "epoch: 120 loss:0.147054 auc:0.9135\n",
      "epoch: 140 loss:0.144381 auc:0.9141\n",
      "epoch: 160 loss:0.142638 auc:0.9146\n",
      "epoch: 180 loss:0.140472 auc:0.8977\n",
      "epoch: 200 loss:0.136910 auc:0.8920\n",
      "epoch: 220 loss:0.135262 auc:0.9045\n",
      "epoch: 240 loss:0.133145 auc:0.8963\n"
     ]
    },
    {
     "name": "stderr",
     "output_type": "stream",
     "text": [
      "  5%|▍         | 11/240 [00:07<02:23,  1.60it/s]"
     ]
    },
    {
     "name": "stdout",
     "output_type": "stream",
     "text": [
      "epoch: 260 loss:0.132877 auc:0.8341\n",
      "Fit finished.\n",
      "epoch:   0 loss:0.596056 auc:0.4059\n",
      "epoch:  20 loss:0.271550 auc:0.8656\n",
      "epoch:  40 loss:0.193742 auc:0.8656\n",
      "epoch:  60 loss:0.175314 auc:0.8668\n",
      "epoch:  80 loss:0.165654 auc:0.8685\n",
      "epoch: 100 loss:0.155116 auc:0.8844\n",
      "epoch: 120 loss:0.148930 auc:0.8855\n",
      "epoch: 140 loss:0.146145 auc:0.8753\n",
      "epoch: 160 loss:0.144640 auc:0.8719\n",
      "epoch: 180 loss:0.142676 auc:0.8696\n"
     ]
    },
    {
     "name": "stderr",
     "output_type": "stream",
     "text": [
      "  6%|▌         | 14/240 [00:10<02:53,  1.30it/s]"
     ]
    },
    {
     "name": "stdout",
     "output_type": "stream",
     "text": [
      "epoch: 200 loss:0.141667 auc:0.8617\n",
      "Fit finished.\n",
      "epoch:   0 loss:1.023593 auc:0.5606\n",
      "epoch:  20 loss:0.288020 auc:0.7266\n",
      "epoch:  40 loss:0.206302 auc:0.7128\n",
      "epoch:  60 loss:0.180978 auc:0.7439\n",
      "epoch:  80 loss:0.170904 auc:0.6851\n",
      "epoch: 100 loss:0.161082 auc:0.6747\n",
      "epoch: 120 loss:0.150536 auc:0.7509\n",
      "epoch: 140 loss:0.146901 auc:0.7405\n",
      "epoch: 160 loss:0.144501 auc:0.7163\n"
     ]
    },
    {
     "name": "stderr",
     "output_type": "stream",
     "text": [
      "  6%|▋         | 15/240 [00:13<03:57,  1.05s/it]"
     ]
    },
    {
     "name": "stdout",
     "output_type": "stream",
     "text": [
      "epoch: 180 loss:0.142391 auc:0.6021\n",
      "Fit finished.\n",
      "epoch:   0 loss:0.808240 auc:0.6405\n",
      "epoch:  20 loss:0.283709 auc:0.6529\n",
      "epoch:  40 loss:0.212684 auc:0.7355\n",
      "epoch:  60 loss:0.181971 auc:0.7376\n",
      "epoch:  80 loss:0.171818 auc:0.7438\n",
      "epoch: 100 loss:0.164174 auc:0.7479\n",
      "epoch: 120 loss:0.154623 auc:0.7583\n",
      "epoch: 140 loss:0.148804 auc:0.7500\n",
      "epoch: 160 loss:0.146113 auc:0.7355\n",
      "epoch: 180 loss:0.144159 auc:0.7355\n"
     ]
    },
    {
     "name": "stderr",
     "output_type": "stream",
     "text": [
      "  7%|▋         | 16/240 [00:16<04:51,  1.30s/it]"
     ]
    },
    {
     "name": "stdout",
     "output_type": "stream",
     "text": [
      "epoch: 200 loss:0.142516 auc:0.7293\n",
      "Fit finished.\n",
      "epoch:   0 loss:0.990745 auc:0.4473\n",
      "epoch:  20 loss:0.265332 auc:0.5349\n",
      "epoch:  40 loss:0.188575 auc:0.6715\n",
      "epoch:  60 loss:0.175459 auc:0.7992\n",
      "epoch:  80 loss:0.167694 auc:0.8079\n",
      "epoch: 100 loss:0.158977 auc:0.8284\n",
      "epoch: 120 loss:0.149267 auc:0.8446\n",
      "epoch: 140 loss:0.145879 auc:0.8520\n",
      "epoch: 160 loss:0.143639 auc:0.8587\n",
      "epoch: 180 loss:0.142142 auc:0.8575\n",
      "epoch: 200 loss:0.139871 auc:0.8462\n",
      "epoch: 220 loss:0.139615 auc:0.8567\n",
      "epoch: 240 loss:0.136245 auc:0.8469\n",
      "epoch: 260 loss:0.134836 auc:0.8344\n"
     ]
    },
    {
     "name": "stderr",
     "output_type": "stream",
     "text": [
      "  7%|▋         | 17/240 [00:19<06:13,  1.68s/it]"
     ]
    },
    {
     "name": "stdout",
     "output_type": "stream",
     "text": [
      "epoch: 280 loss:0.133117 auc:0.8202\n",
      "Fit finished.\n",
      "epoch:   0 loss:0.588793 auc:0.3691\n",
      "epoch:  20 loss:0.294043 auc:0.6670\n",
      "epoch:  40 loss:0.228996 auc:0.8340\n",
      "epoch:  60 loss:0.187864 auc:0.8818\n",
      "epoch:  80 loss:0.173135 auc:0.8662\n",
      "epoch: 100 loss:0.163475 auc:0.8623\n",
      "epoch: 120 loss:0.151955 auc:0.8887\n",
      "epoch: 140 loss:0.147648 auc:0.8906\n",
      "epoch: 160 loss:0.145393 auc:0.8877\n",
      "epoch: 180 loss:0.143865 auc:0.8809\n",
      "epoch: 200 loss:0.143978 auc:0.8721\n"
     ]
    },
    {
     "name": "stderr",
     "output_type": "stream",
     "text": [
      "  8%|▊         | 18/240 [00:21<06:46,  1.83s/it]"
     ]
    },
    {
     "name": "stdout",
     "output_type": "stream",
     "text": [
      "epoch: 220 loss:0.141307 auc:0.8438\n",
      "Fit finished.\n",
      "epoch:   0 loss:1.428499 auc:0.3203\n",
      "epoch:  20 loss:0.282646 auc:0.8477\n",
      "epoch:  40 loss:0.218786 auc:0.8555\n",
      "epoch:  60 loss:0.183499 auc:0.9219\n",
      "epoch:  80 loss:0.170350 auc:0.9297\n",
      "epoch: 100 loss:0.160304 auc:0.9258\n",
      "epoch: 120 loss:0.150908 auc:0.9180\n",
      "epoch: 140 loss:0.147912 auc:0.9102\n",
      "epoch: 160 loss:0.145980 auc:0.9141\n",
      "epoch: 180 loss:0.144709 auc:0.9141\n",
      "epoch: 200 loss:0.143446 auc:0.9102\n"
     ]
    },
    {
     "name": "stderr",
     "output_type": "stream",
     "text": [
      "  8%|▊         | 19/240 [00:25<07:56,  2.16s/it]"
     ]
    },
    {
     "name": "stdout",
     "output_type": "stream",
     "text": [
      "epoch: 220 loss:0.142467 auc:0.9023\n",
      "Fit finished.\n",
      "epoch:   0 loss:0.696962 auc:0.4893\n",
      "epoch:  20 loss:0.238549 auc:0.4729\n",
      "epoch:  40 loss:0.185438 auc:0.4954\n",
      "epoch:  60 loss:0.171111 auc:0.5711\n",
      "epoch:  80 loss:0.162352 auc:0.5796\n",
      "epoch: 100 loss:0.151702 auc:0.5943\n",
      "epoch: 120 loss:0.146464 auc:0.6049\n",
      "epoch: 140 loss:0.144939 auc:0.5856\n",
      "epoch: 160 loss:0.141750 auc:0.5848\n",
      "epoch: 180 loss:0.140197 auc:0.5331\n",
      "epoch: 200 loss:0.137075 auc:0.5196\n"
     ]
    },
    {
     "name": "stderr",
     "output_type": "stream",
     "text": [
      "  8%|▊         | 20/240 [00:29<09:33,  2.61s/it]"
     ]
    },
    {
     "name": "stdout",
     "output_type": "stream",
     "text": [
      "epoch: 220 loss:0.135536 auc:0.5110\n",
      "Fit finished.\n",
      "epoch:   0 loss:1.068416 auc:0.5617\n",
      "epoch:  20 loss:0.269174 auc:0.5238\n",
      "epoch:  40 loss:0.199646 auc:0.4364\n",
      "epoch:  60 loss:0.179042 auc:0.6256\n",
      "epoch:  80 loss:0.169109 auc:0.6794\n",
      "epoch: 100 loss:0.159588 auc:0.7298\n",
      "epoch: 120 loss:0.150357 auc:0.7676\n",
      "epoch: 140 loss:0.147097 auc:0.7654\n",
      "epoch: 160 loss:0.144988 auc:0.7629\n",
      "epoch: 180 loss:0.143616 auc:0.7528\n",
      "epoch: 200 loss:0.142202 auc:0.7469\n",
      "epoch: 220 loss:0.140660 auc:0.7175\n",
      "epoch: 240 loss:0.138943 auc:0.6832\n"
     ]
    },
    {
     "name": "stderr",
     "output_type": "stream",
     "text": [
      "  9%|▉         | 21/240 [00:33<10:44,  2.94s/it]"
     ]
    },
    {
     "name": "stdout",
     "output_type": "stream",
     "text": [
      "epoch: 260 loss:0.137417 auc:0.6539\n",
      "Fit finished.\n",
      "epoch:   0 loss:0.576120 auc:0.5648\n",
      "epoch:  20 loss:0.222767 auc:0.5689\n",
      "epoch:  40 loss:0.181839 auc:0.7253\n",
      "epoch:  60 loss:0.170856 auc:0.7802\n",
      "epoch:  80 loss:0.162291 auc:0.8121\n",
      "epoch: 100 loss:0.150210 auc:0.8539\n",
      "epoch: 120 loss:0.146470 auc:0.8608\n",
      "epoch: 140 loss:0.143620 auc:0.8450\n",
      "epoch: 160 loss:0.140619 auc:0.8416\n",
      "epoch: 180 loss:0.138367 auc:0.8100\n",
      "epoch: 200 loss:0.136149 auc:0.8230\n",
      "epoch: 220 loss:0.135913 auc:0.8296\n",
      "epoch: 240 loss:0.132366 auc:0.8234\n"
     ]
    },
    {
     "name": "stderr",
     "output_type": "stream",
     "text": [
      " 10%|▉         | 23/240 [00:36<09:00,  2.49s/it]"
     ]
    },
    {
     "name": "stdout",
     "output_type": "stream",
     "text": [
      "epoch: 260 loss:0.130895 auc:0.7932\n",
      "Fit finished.\n",
      "epoch:   0 loss:0.680470 auc:0.4706\n",
      "epoch:  20 loss:0.285264 auc:0.5501\n",
      "epoch:  40 loss:0.207265 auc:0.4298\n",
      "epoch:  60 loss:0.179006 auc:0.6625\n",
      "epoch:  80 loss:0.169503 auc:0.7281\n",
      "epoch: 100 loss:0.162050 auc:0.7558\n",
      "epoch: 120 loss:0.151988 auc:0.7917\n",
      "epoch: 140 loss:0.146306 auc:0.7950\n",
      "epoch: 160 loss:0.143824 auc:0.7928\n",
      "epoch: 180 loss:0.141855 auc:0.7739\n",
      "epoch: 200 loss:0.139773 auc:0.6804\n"
     ]
    },
    {
     "name": "stderr",
     "output_type": "stream",
     "text": [
      " 10%|█         | 24/240 [00:40<09:31,  2.64s/it]"
     ]
    },
    {
     "name": "stdout",
     "output_type": "stream",
     "text": [
      "epoch: 220 loss:0.137439 auc:0.6315\n",
      "Fit finished.\n",
      "epoch:   0 loss:0.803995 auc:0.4807\n",
      "epoch:  20 loss:0.289826 auc:0.5417\n",
      "epoch:  40 loss:0.219243 auc:0.5429\n",
      "epoch:  60 loss:0.179544 auc:0.6630\n",
      "epoch:  80 loss:0.168082 auc:0.6805\n",
      "epoch: 100 loss:0.159588 auc:0.7014\n",
      "epoch: 120 loss:0.150779 auc:0.7189\n",
      "epoch: 140 loss:0.146553 auc:0.7212\n",
      "epoch: 160 loss:0.144135 auc:0.7162\n",
      "epoch: 180 loss:0.143504 auc:0.6751\n",
      "epoch: 200 loss:0.141556 auc:0.6608\n"
     ]
    },
    {
     "name": "stderr",
     "output_type": "stream",
     "text": [
      " 10%|█         | 25/240 [00:43<10:02,  2.80s/it]"
     ]
    },
    {
     "name": "stdout",
     "output_type": "stream",
     "text": [
      "epoch: 220 loss:0.140991 auc:0.5909\n",
      "Fit finished.\n",
      "epoch:   0 loss:0.613026 auc:0.5734\n",
      "epoch:  20 loss:0.254690 auc:0.7368\n",
      "epoch:  40 loss:0.188834 auc:0.9030\n",
      "epoch:  60 loss:0.175663 auc:0.9030\n",
      "epoch:  80 loss:0.166905 auc:0.9030\n",
      "epoch: 100 loss:0.156748 auc:0.9197\n",
      "epoch: 120 loss:0.149293 auc:0.9114\n",
      "epoch: 140 loss:0.146534 auc:0.9030\n",
      "epoch: 160 loss:0.144399 auc:0.8975\n",
      "epoch: 180 loss:0.142740 auc:0.9030\n",
      "epoch: 200 loss:0.140456 auc:0.9030\n"
     ]
    },
    {
     "name": "stderr",
     "output_type": "stream",
     "text": [
      " 11%|█         | 26/240 [00:46<10:00,  2.80s/it]"
     ]
    },
    {
     "name": "stdout",
     "output_type": "stream",
     "text": [
      "epoch: 220 loss:0.138352 auc:0.8975\n",
      "Fit finished.\n",
      "epoch:   0 loss:1.233147 auc:0.5949\n",
      "epoch:  20 loss:0.281208 auc:0.5111\n",
      "epoch:  40 loss:0.223515 auc:0.4792\n",
      "epoch:  60 loss:0.186131 auc:0.4624\n",
      "epoch:  80 loss:0.172486 auc:0.4527\n",
      "epoch: 100 loss:0.162516 auc:0.4754\n",
      "epoch: 120 loss:0.151882 auc:0.5457\n",
      "epoch: 140 loss:0.147682 auc:0.5495\n"
     ]
    },
    {
     "name": "stderr",
     "output_type": "stream",
     "text": [
      " 12%|█▏        | 28/240 [00:48<07:43,  2.19s/it]"
     ]
    },
    {
     "name": "stdout",
     "output_type": "stream",
     "text": [
      "epoch: 160 loss:0.145359 auc:0.5084\n",
      "Fit finished.\n",
      "epoch:   0 loss:0.640829 auc:0.4693\n",
      "epoch:  20 loss:0.269562 auc:0.5397\n",
      "epoch:  40 loss:0.192877 auc:0.4827\n",
      "epoch:  60 loss:0.175693 auc:0.6296\n",
      "epoch:  80 loss:0.167659 auc:0.6345\n",
      "epoch: 100 loss:0.160039 auc:0.6448\n",
      "epoch: 120 loss:0.150653 auc:0.6702\n",
      "epoch: 140 loss:0.146605 auc:0.6571\n",
      "epoch: 160 loss:0.144350 auc:0.6458\n",
      "epoch: 180 loss:0.142560 auc:0.6107\n",
      "epoch: 200 loss:0.142358 auc:0.5410\n"
     ]
    },
    {
     "name": "stderr",
     "output_type": "stream",
     "text": [
      " 12%|█▏        | 29/240 [00:53<09:20,  2.66s/it]"
     ]
    },
    {
     "name": "stdout",
     "output_type": "stream",
     "text": [
      "epoch: 220 loss:0.140062 auc:0.5429\n",
      "Fit finished.\n",
      "epoch:   0 loss:1.079555 auc:0.4907\n",
      "epoch:  20 loss:0.292699 auc:0.6100\n",
      "epoch:  40 loss:0.227231 auc:0.6973\n",
      "epoch:  60 loss:0.187216 auc:0.8042\n",
      "epoch:  80 loss:0.173348 auc:0.8213\n",
      "epoch: 100 loss:0.163364 auc:0.8471\n",
      "epoch: 120 loss:0.153008 auc:0.8796\n",
      "epoch: 140 loss:0.148101 auc:0.8760\n",
      "epoch: 160 loss:0.145803 auc:0.8709\n",
      "epoch: 180 loss:0.144356 auc:0.8605\n",
      "epoch: 200 loss:0.142996 auc:0.8440\n",
      "epoch: 220 loss:0.141708 auc:0.8254\n"
     ]
    },
    {
     "name": "stderr",
     "output_type": "stream",
     "text": [
      " 12%|█▎        | 30/240 [00:56<10:00,  2.86s/it]"
     ]
    },
    {
     "name": "stdout",
     "output_type": "stream",
     "text": [
      "epoch: 240 loss:0.141734 auc:0.8073\n",
      "Fit finished.\n",
      "epoch:   0 loss:0.906022 auc:0.4782\n",
      "epoch:  20 loss:0.277782 auc:0.5418\n",
      "epoch:  40 loss:0.205780 auc:0.4377\n",
      "epoch:  60 loss:0.178692 auc:0.8067\n",
      "epoch:  80 loss:0.168620 auc:0.8074\n",
      "epoch: 100 loss:0.160881 auc:0.8282\n",
      "epoch: 120 loss:0.152110 auc:0.8569\n",
      "epoch: 140 loss:0.147372 auc:0.8634\n",
      "epoch: 160 loss:0.145110 auc:0.8658\n",
      "epoch: 180 loss:0.143403 auc:0.8658\n",
      "epoch: 200 loss:0.142169 auc:0.8598\n",
      "epoch: 220 loss:0.140596 auc:0.8323\n"
     ]
    },
    {
     "name": "stderr",
     "output_type": "stream",
     "text": [
      " 13%|█▎        | 31/240 [01:00<10:34,  3.04s/it]"
     ]
    },
    {
     "name": "stdout",
     "output_type": "stream",
     "text": [
      "epoch: 240 loss:0.140422 auc:0.7590\n",
      "Fit finished.\n",
      "epoch:   0 loss:0.624845 auc:0.5355\n",
      "epoch:  20 loss:0.264127 auc:0.5614\n",
      "epoch:  40 loss:0.187879 auc:0.3573\n",
      "epoch:  60 loss:0.173533 auc:0.8304\n",
      "epoch:  80 loss:0.162757 auc:0.8469\n",
      "epoch: 100 loss:0.150672 auc:0.8642\n",
      "epoch: 120 loss:0.146764 auc:0.8616\n",
      "epoch: 140 loss:0.147068 auc:0.8529\n",
      "epoch: 160 loss:0.142968 auc:0.8382\n",
      "epoch: 180 loss:0.140718 auc:0.8348\n",
      "epoch: 200 loss:0.141284 auc:0.8322\n"
     ]
    },
    {
     "name": "stderr",
     "output_type": "stream",
     "text": [
      " 14%|█▍        | 34/240 [01:03<06:56,  2.02s/it]"
     ]
    },
    {
     "name": "stdout",
     "output_type": "stream",
     "text": [
      "epoch: 220 loss:0.137077 auc:0.8157\n",
      "Fit finished.\n",
      "epoch:   0 loss:1.091743 auc:0.4983\n",
      "epoch:  20 loss:0.296962 auc:0.6528\n",
      "epoch:  40 loss:0.231859 auc:0.7031\n",
      "epoch:  60 loss:0.187726 auc:0.7031\n",
      "epoch:  80 loss:0.175443 auc:0.7135\n",
      "epoch: 100 loss:0.168227 auc:0.7240\n",
      "epoch: 120 loss:0.161392 auc:0.7569\n",
      "epoch: 140 loss:0.153816 auc:0.7587\n",
      "epoch: 160 loss:0.148441 auc:0.7552\n",
      "epoch: 180 loss:0.146156 auc:0.7622\n",
      "epoch: 200 loss:0.144588 auc:0.7691\n",
      "epoch: 220 loss:0.143287 auc:0.7674\n",
      "epoch: 240 loss:0.142478 auc:0.7778\n"
     ]
    },
    {
     "name": "stderr",
     "output_type": "stream",
     "text": [
      " 15%|█▍        | 35/240 [01:06<07:43,  2.26s/it]"
     ]
    },
    {
     "name": "stdout",
     "output_type": "stream",
     "text": [
      "epoch: 260 loss:0.140992 auc:0.7031\n",
      "Fit finished.\n",
      "epoch:   0 loss:0.591329 auc:0.4672\n",
      "epoch:  20 loss:0.264726 auc:0.4351\n",
      "epoch:  40 loss:0.188222 auc:0.3118\n",
      "epoch:  60 loss:0.172900 auc:0.6967\n",
      "epoch:  80 loss:0.163272 auc:0.7409\n",
      "epoch: 100 loss:0.153038 auc:0.7784\n",
      "epoch: 120 loss:0.146883 auc:0.7386\n",
      "epoch: 140 loss:0.144349 auc:0.7176\n",
      "epoch: 160 loss:0.142638 auc:0.6819\n",
      "epoch: 180 loss:0.140958 auc:0.5942\n",
      "epoch: 200 loss:0.145737 auc:0.6041\n"
     ]
    },
    {
     "name": "stderr",
     "output_type": "stream",
     "text": [
      " 15%|█▌        | 36/240 [01:09<08:01,  2.36s/it]"
     ]
    },
    {
     "name": "stdout",
     "output_type": "stream",
     "text": [
      "epoch: 220 loss:0.138232 auc:0.4490\n",
      "Fit finished.\n",
      "epoch:   0 loss:1.167911 auc:0.4984\n",
      "epoch:  20 loss:0.290760 auc:0.6687\n",
      "epoch:  40 loss:0.224853 auc:0.7612\n",
      "epoch:  60 loss:0.187022 auc:0.8055\n",
      "epoch:  80 loss:0.175066 auc:0.8214\n",
      "epoch: 100 loss:0.168275 auc:0.8240\n",
      "epoch: 120 loss:0.161311 auc:0.8444\n",
      "epoch: 140 loss:0.152974 auc:0.8654\n",
      "epoch: 160 loss:0.148370 auc:0.8683\n",
      "epoch: 180 loss:0.146232 auc:0.8651\n",
      "epoch: 200 loss:0.144643 auc:0.8629\n",
      "epoch: 220 loss:0.144095 auc:0.8587\n",
      "epoch: 240 loss:0.141795 auc:0.8508\n",
      "epoch: 260 loss:0.140259 auc:0.8335\n"
     ]
    },
    {
     "name": "stderr",
     "output_type": "stream",
     "text": [
      " 16%|█▋        | 39/240 [01:13<06:12,  1.85s/it]"
     ]
    },
    {
     "name": "stdout",
     "output_type": "stream",
     "text": [
      "epoch: 280 loss:0.139838 auc:0.7978\n",
      "Fit finished.\n",
      "epoch:   0 loss:0.726111 auc:0.5164\n",
      "epoch:  20 loss:0.279287 auc:0.4982\n",
      "epoch:  40 loss:0.200176 auc:0.4301\n",
      "epoch:  60 loss:0.172312 auc:0.7899\n",
      "epoch:  80 loss:0.159001 auc:0.8110\n",
      "epoch: 100 loss:0.149842 auc:0.8272\n",
      "epoch: 120 loss:0.146759 auc:0.8309\n",
      "epoch: 140 loss:0.144577 auc:0.8255\n",
      "epoch: 160 loss:0.144757 auc:0.7765\n",
      "epoch: 180 loss:0.141040 auc:0.7847\n",
      "epoch: 200 loss:0.140214 auc:0.6865\n"
     ]
    },
    {
     "name": "stderr",
     "output_type": "stream",
     "text": [
      " 17%|█▋        | 40/240 [01:16<07:03,  2.12s/it]"
     ]
    },
    {
     "name": "stdout",
     "output_type": "stream",
     "text": [
      "epoch: 220 loss:0.137210 auc:0.7256\n",
      "Fit finished.\n",
      "epoch:   0 loss:0.690807 auc:0.4996\n",
      "epoch:  20 loss:0.255446 auc:0.5918\n",
      "epoch:  40 loss:0.189767 auc:0.6147\n",
      "epoch:  60 loss:0.174579 auc:0.6278\n",
      "epoch:  80 loss:0.166139 auc:0.6482\n",
      "epoch: 100 loss:0.156496 auc:0.6849\n",
      "epoch: 120 loss:0.149163 auc:0.7192\n",
      "epoch: 140 loss:0.146291 auc:0.7216\n",
      "epoch: 160 loss:0.144023 auc:0.7200\n",
      "epoch: 180 loss:0.141675 auc:0.6865\n",
      "epoch: 200 loss:0.140236 auc:0.6229\n"
     ]
    },
    {
     "name": "stderr",
     "output_type": "stream",
     "text": [
      " 18%|█▊        | 43/240 [01:19<05:29,  1.67s/it]"
     ]
    },
    {
     "name": "stdout",
     "output_type": "stream",
     "text": [
      "epoch: 220 loss:0.137908 auc:0.6204\n",
      "Fit finished.\n",
      "epoch:   0 loss:0.471913 auc:0.4732\n",
      "epoch:  20 loss:0.221057 auc:0.4429\n",
      "epoch:  40 loss:0.180089 auc:0.6522\n",
      "epoch:  60 loss:0.168559 auc:0.7327\n",
      "epoch:  80 loss:0.156250 auc:0.7396\n",
      "epoch: 100 loss:0.148177 auc:0.7388\n",
      "epoch: 120 loss:0.147109 auc:0.7119\n",
      "epoch: 140 loss:0.142559 auc:0.7033\n",
      "epoch: 160 loss:0.139710 auc:0.6929\n",
      "epoch: 180 loss:0.137373 auc:0.6600\n"
     ]
    },
    {
     "name": "stderr",
     "output_type": "stream",
     "text": [
      " 18%|█▊        | 44/240 [01:22<05:50,  1.79s/it]"
     ]
    },
    {
     "name": "stdout",
     "output_type": "stream",
     "text": [
      "epoch: 200 loss:0.135387 auc:0.6194\n",
      "Fit finished.\n",
      "epoch:   0 loss:0.751223 auc:0.3219\n",
      "epoch:  20 loss:0.254730 auc:0.8098\n",
      "epoch:  40 loss:0.187931 auc:0.7854\n",
      "epoch:  60 loss:0.172110 auc:0.8865\n",
      "epoch:  80 loss:0.162381 auc:0.9298\n",
      "epoch: 100 loss:0.151618 auc:0.9522\n",
      "epoch: 120 loss:0.147811 auc:0.8297\n",
      "epoch: 140 loss:0.145960 auc:0.6379\n",
      "epoch: 160 loss:0.143606 auc:0.3728\n"
     ]
    },
    {
     "name": "stderr",
     "output_type": "stream",
     "text": [
      " 19%|█▉        | 45/240 [01:25<06:38,  2.04s/it]"
     ]
    },
    {
     "name": "stdout",
     "output_type": "stream",
     "text": [
      "epoch: 180 loss:0.141677 auc:0.2472\n",
      "Fit finished.\n",
      "epoch:   0 loss:0.778119 auc:0.4813\n",
      "epoch:  20 loss:0.245397 auc:0.6193\n",
      "epoch:  40 loss:0.185008 auc:0.7390\n",
      "epoch:  60 loss:0.170120 auc:0.8659\n",
      "epoch:  80 loss:0.157831 auc:0.9099\n",
      "epoch: 100 loss:0.149542 auc:0.9185\n",
      "epoch: 120 loss:0.146373 auc:0.9198\n",
      "epoch: 140 loss:0.144200 auc:0.9034\n",
      "epoch: 160 loss:0.142858 auc:0.8994\n",
      "epoch: 180 loss:0.147959 auc:0.8501\n",
      "epoch: 200 loss:0.138862 auc:0.8711\n"
     ]
    },
    {
     "name": "stderr",
     "output_type": "stream",
     "text": [
      " 19%|█▉        | 46/240 [01:29<08:14,  2.55s/it]"
     ]
    },
    {
     "name": "stdout",
     "output_type": "stream",
     "text": [
      "epoch: 220 loss:0.136196 auc:0.8600\n",
      "Fit finished.\n",
      "epoch:   0 loss:0.847205 auc:0.5266\n",
      "epoch:  20 loss:0.280760 auc:0.1686\n",
      "epoch:  40 loss:0.213874 auc:0.1243\n",
      "epoch:  60 loss:0.180396 auc:0.3757\n",
      "epoch:  80 loss:0.169461 auc:0.8609\n",
      "epoch: 100 loss:0.160582 auc:0.8728\n",
      "epoch: 120 loss:0.151251 auc:0.9112\n",
      "epoch: 140 loss:0.147857 auc:0.9246\n",
      "epoch: 160 loss:0.145896 auc:0.9216\n",
      "epoch: 180 loss:0.144351 auc:0.9127\n",
      "epoch: 200 loss:0.143197 auc:0.8580\n",
      "epoch: 220 loss:0.141582 auc:0.8136\n"
     ]
    },
    {
     "name": "stderr",
     "output_type": "stream",
     "text": [
      " 20%|█▉        | 47/240 [01:33<09:10,  2.85s/it]"
     ]
    },
    {
     "name": "stdout",
     "output_type": "stream",
     "text": [
      "epoch: 240 loss:0.141579 auc:0.8166\n",
      "Fit finished.\n",
      "epoch:   0 loss:1.518340 auc:0.4119\n",
      "epoch:  20 loss:0.279110 auc:0.7250\n",
      "epoch:  40 loss:0.214034 auc:0.8077\n",
      "epoch:  60 loss:0.183467 auc:0.8389\n",
      "epoch:  80 loss:0.172871 auc:0.8775\n",
      "epoch: 100 loss:0.166228 auc:0.8915\n",
      "epoch: 120 loss:0.158784 auc:0.9050\n",
      "epoch: 140 loss:0.151068 auc:0.9147\n",
      "epoch: 160 loss:0.147739 auc:0.9162\n",
      "epoch: 180 loss:0.145819 auc:0.9151\n",
      "epoch: 200 loss:0.144284 auc:0.9154\n",
      "epoch: 220 loss:0.142854 auc:0.9123\n",
      "epoch: 240 loss:0.143211 auc:0.9125\n",
      "epoch: 260 loss:0.140593 auc:0.8917\n"
     ]
    },
    {
     "name": "stderr",
     "output_type": "stream",
     "text": [
      " 20%|██        | 48/240 [01:37<09:59,  3.12s/it]"
     ]
    },
    {
     "name": "stdout",
     "output_type": "stream",
     "text": [
      "epoch: 280 loss:0.138585 auc:0.8806\n",
      "Fit finished.\n",
      "epoch:   0 loss:0.496445 auc:0.5339\n",
      "epoch:  20 loss:0.248240 auc:0.6577\n",
      "epoch:  40 loss:0.182929 auc:0.6841\n",
      "epoch:  60 loss:0.170177 auc:0.7559\n",
      "epoch:  80 loss:0.160559 auc:0.7848\n",
      "epoch: 100 loss:0.149190 auc:0.8055\n",
      "epoch: 120 loss:0.145719 auc:0.8096\n",
      "epoch: 140 loss:0.144099 auc:0.7677\n",
      "epoch: 160 loss:0.140930 auc:0.6988\n"
     ]
    },
    {
     "name": "stderr",
     "output_type": "stream",
     "text": [
      " 22%|██▎       | 54/240 [01:40<04:03,  1.31s/it]"
     ]
    },
    {
     "name": "stdout",
     "output_type": "stream",
     "text": [
      "epoch: 180 loss:0.138302 auc:0.5584\n",
      "Fit finished.\n",
      "epoch:   0 loss:1.229802 auc:0.5069\n",
      "epoch:  20 loss:0.294089 auc:0.4583\n",
      "epoch:  40 loss:0.228891 auc:0.6597\n",
      "epoch:  60 loss:0.186836 auc:0.8333\n",
      "epoch:  80 loss:0.175620 auc:0.8750\n",
      "epoch: 100 loss:0.168841 auc:0.8750\n",
      "epoch: 120 loss:0.160393 auc:0.8750\n",
      "epoch: 140 loss:0.150097 auc:0.8472\n",
      "epoch: 160 loss:0.146973 auc:0.7986\n",
      "epoch: 180 loss:0.145267 auc:0.7986\n",
      "epoch: 200 loss:0.142837 auc:0.7222\n"
     ]
    },
    {
     "name": "stderr",
     "output_type": "stream",
     "text": [
      " 23%|██▎       | 55/240 [01:43<04:59,  1.62s/it]"
     ]
    },
    {
     "name": "stdout",
     "output_type": "stream",
     "text": [
      "epoch: 220 loss:0.140993 auc:0.7153\n",
      "Fit finished.\n",
      "epoch:   0 loss:0.988685 auc:0.7175\n",
      "epoch:  20 loss:0.281500 auc:0.5623\n",
      "epoch:  40 loss:0.211007 auc:0.3906\n",
      "epoch:  60 loss:0.179863 auc:0.6787\n",
      "epoch:  80 loss:0.166779 auc:0.7341\n",
      "epoch: 100 loss:0.154072 auc:0.7452\n",
      "epoch: 120 loss:0.148144 auc:0.7701\n",
      "epoch: 140 loss:0.145674 auc:0.7618\n",
      "epoch: 160 loss:0.143845 auc:0.7701\n",
      "epoch: 180 loss:0.142555 auc:0.7645\n",
      "epoch: 200 loss:0.141446 auc:0.7673\n",
      "epoch: 220 loss:0.139572 auc:0.7285\n",
      "epoch: 240 loss:0.137513 auc:0.7341\n"
     ]
    },
    {
     "name": "stderr",
     "output_type": "stream",
     "text": [
      " 23%|██▎       | 56/240 [01:47<06:06,  1.99s/it]"
     ]
    },
    {
     "name": "stdout",
     "output_type": "stream",
     "text": [
      "epoch: 260 loss:0.135612 auc:0.7424\n",
      "Fit finished.\n",
      "epoch:   0 loss:0.760320 auc:0.5011\n",
      "epoch:  20 loss:0.225659 auc:0.6944\n",
      "epoch:  40 loss:0.180833 auc:0.7967\n",
      "epoch:  60 loss:0.168208 auc:0.8233\n",
      "epoch:  80 loss:0.155944 auc:0.8500\n",
      "epoch: 100 loss:0.148760 auc:0.8467\n",
      "epoch: 120 loss:0.146315 auc:0.8511\n",
      "epoch: 140 loss:0.144468 auc:0.8356\n",
      "epoch: 160 loss:0.142392 auc:0.8156\n",
      "epoch: 180 loss:0.140269 auc:0.7756\n"
     ]
    },
    {
     "name": "stderr",
     "output_type": "stream",
     "text": [
      " 24%|██▍       | 57/240 [01:50<06:32,  2.14s/it]"
     ]
    },
    {
     "name": "stdout",
     "output_type": "stream",
     "text": [
      "epoch: 200 loss:0.137798 auc:0.7267\n",
      "Fit finished.\n",
      "epoch:   0 loss:0.521713 auc:0.5642\n",
      "epoch:  20 loss:0.220565 auc:0.5374\n",
      "epoch:  40 loss:0.178755 auc:0.7822\n",
      "epoch:  60 loss:0.166349 auc:0.8439\n",
      "epoch:  80 loss:0.153905 auc:0.8702\n",
      "epoch: 100 loss:0.147320 auc:0.8775\n",
      "epoch: 120 loss:0.144313 auc:0.8661\n",
      "epoch: 140 loss:0.143666 auc:0.7681\n",
      "epoch: 160 loss:0.140595 auc:0.7867\n",
      "epoch: 180 loss:0.138129 auc:0.7593\n"
     ]
    },
    {
     "name": "stderr",
     "output_type": "stream",
     "text": [
      " 25%|██▍       | 59/240 [01:53<06:01,  2.00s/it]"
     ]
    },
    {
     "name": "stdout",
     "output_type": "stream",
     "text": [
      "epoch: 200 loss:0.136698 auc:0.7619\n",
      "Fit finished.\n",
      "epoch:   0 loss:0.924460 auc:0.2922\n",
      "epoch:  20 loss:0.286559 auc:0.5816\n",
      "epoch:  40 loss:0.229450 auc:0.4239\n",
      "epoch:  60 loss:0.187643 auc:0.3073\n",
      "epoch:  80 loss:0.174597 auc:0.7435\n",
      "epoch: 100 loss:0.165883 auc:0.7257\n",
      "epoch: 120 loss:0.155475 auc:0.6228\n",
      "epoch: 140 loss:0.148812 auc:0.5857\n",
      "epoch: 160 loss:0.146220 auc:0.5734\n"
     ]
    },
    {
     "name": "stderr",
     "output_type": "stream",
     "text": [
      " 25%|██▌       | 60/240 [01:56<06:16,  2.09s/it]"
     ]
    },
    {
     "name": "stdout",
     "output_type": "stream",
     "text": [
      "epoch: 180 loss:0.144435 auc:0.5514\n",
      "Fit finished.\n",
      "epoch:   0 loss:1.015178 auc:0.4999\n",
      "epoch:  20 loss:0.295232 auc:0.6634\n",
      "epoch:  40 loss:0.236319 auc:0.6257\n",
      "epoch:  60 loss:0.187548 auc:0.5906\n",
      "epoch:  80 loss:0.173962 auc:0.8175\n",
      "epoch: 100 loss:0.164375 auc:0.8335\n",
      "epoch: 120 loss:0.155285 auc:0.8866\n",
      "epoch: 140 loss:0.149652 auc:0.8918\n",
      "epoch: 160 loss:0.147269 auc:0.8777\n",
      "epoch: 180 loss:0.145530 auc:0.8278\n",
      "epoch: 200 loss:0.144146 auc:0.7372\n"
     ]
    },
    {
     "name": "stderr",
     "output_type": "stream",
     "text": [
      " 26%|██▌       | 62/240 [01:59<05:45,  1.94s/it]"
     ]
    },
    {
     "name": "stdout",
     "output_type": "stream",
     "text": [
      "epoch: 220 loss:0.143050 auc:0.5858\n",
      "Fit finished.\n",
      "epoch:   0 loss:0.617329 auc:0.7765\n",
      "epoch:  20 loss:0.258300 auc:0.4669\n",
      "epoch:  40 loss:0.192480 auc:0.2315\n",
      "epoch:  60 loss:0.177249 auc:0.8174\n",
      "epoch:  80 loss:0.168660 auc:0.9005\n",
      "epoch: 100 loss:0.160585 auc:0.9304\n",
      "epoch: 120 loss:0.151378 auc:0.9064\n",
      "epoch: 140 loss:0.147527 auc:0.7010\n"
     ]
    },
    {
     "name": "stderr",
     "output_type": "stream",
     "text": [
      " 26%|██▋       | 63/240 [02:01<05:54,  2.00s/it]"
     ]
    },
    {
     "name": "stdout",
     "output_type": "stream",
     "text": [
      "epoch: 160 loss:0.145281 auc:0.4973\n",
      "Fit finished.\n",
      "epoch:   0 loss:0.658130 auc:0.5039\n",
      "epoch:  20 loss:0.279881 auc:0.5007\n",
      "epoch:  40 loss:0.209998 auc:0.4841\n",
      "epoch:  60 loss:0.181170 auc:0.6899\n",
      "epoch:  80 loss:0.171116 auc:0.7146\n",
      "epoch: 100 loss:0.163776 auc:0.7343\n",
      "epoch: 120 loss:0.154966 auc:0.7796\n",
      "epoch: 140 loss:0.147933 auc:0.7944\n",
      "epoch: 160 loss:0.145509 auc:0.7706\n",
      "epoch: 180 loss:0.143728 auc:0.7203\n",
      "epoch: 200 loss:0.143457 auc:0.7109\n"
     ]
    },
    {
     "name": "stderr",
     "output_type": "stream",
     "text": [
      " 27%|██▋       | 64/240 [02:04<06:26,  2.19s/it]"
     ]
    },
    {
     "name": "stdout",
     "output_type": "stream",
     "text": [
      "epoch: 220 loss:0.140761 auc:0.5394\n",
      "Fit finished.\n",
      "epoch:   0 loss:0.550493 auc:0.4418\n",
      "epoch:  20 loss:0.226823 auc:0.4286\n",
      "epoch:  40 loss:0.179546 auc:0.4784\n",
      "epoch:  60 loss:0.168928 auc:0.5937\n",
      "epoch:  80 loss:0.159466 auc:0.5930\n",
      "epoch: 100 loss:0.148850 auc:0.5327\n",
      "epoch: 120 loss:0.145396 auc:0.5077\n",
      "epoch: 140 loss:0.144726 auc:0.4598\n",
      "epoch: 160 loss:0.141071 auc:0.4551\n",
      "epoch: 180 loss:0.138818 auc:0.4363\n"
     ]
    },
    {
     "name": "stderr",
     "output_type": "stream",
     "text": [
      " 27%|██▋       | 65/240 [02:07<06:38,  2.28s/it]"
     ]
    },
    {
     "name": "stdout",
     "output_type": "stream",
     "text": [
      "epoch: 200 loss:0.138218 auc:0.4446\n",
      "Fit finished.\n",
      "epoch:   0 loss:1.016204 auc:0.5513\n",
      "epoch:  20 loss:0.272178 auc:0.4811\n",
      "epoch:  40 loss:0.204452 auc:0.4389\n",
      "epoch:  60 loss:0.177959 auc:0.5137\n",
      "epoch:  80 loss:0.167237 auc:0.5328\n",
      "epoch: 100 loss:0.158635 auc:0.5359\n",
      "epoch: 120 loss:0.149097 auc:0.5341\n",
      "epoch: 140 loss:0.145520 auc:0.5305\n"
     ]
    },
    {
     "name": "stderr",
     "output_type": "stream",
     "text": [
      " 28%|██▊       | 66/240 [02:10<07:01,  2.42s/it]"
     ]
    },
    {
     "name": "stdout",
     "output_type": "stream",
     "text": [
      "epoch: 160 loss:0.143533 auc:0.5247\n",
      "Fit finished.\n",
      "epoch:   0 loss:0.597483 auc:0.4734\n",
      "epoch:  20 loss:0.210657 auc:0.4929\n",
      "epoch:  40 loss:0.177716 auc:0.4782\n",
      "epoch:  60 loss:0.165727 auc:0.4944\n",
      "epoch:  80 loss:0.152292 auc:0.4774\n",
      "epoch: 100 loss:0.145731 auc:0.4813\n",
      "epoch: 120 loss:0.142907 auc:0.4985\n",
      "epoch: 140 loss:0.144478 auc:0.5075\n",
      "epoch: 160 loss:0.139690 auc:0.5067\n",
      "epoch: 180 loss:0.137065 auc:0.5294\n",
      "epoch: 200 loss:0.135665 auc:0.5337\n",
      "epoch: 220 loss:0.131979 auc:0.5163\n",
      "epoch: 240 loss:0.138598 auc:0.4913\n",
      "epoch: 260 loss:0.128141 auc:0.5196\n",
      "epoch: 280 loss:0.126836 auc:0.5079\n",
      "epoch: 300 loss:0.123423 auc:0.5177\n",
      "epoch: 320 loss:0.120763 auc:0.5234\n",
      "epoch: 340 loss:0.125717 auc:0.5491\n",
      "epoch: 360 loss:0.127787 auc:0.5466\n",
      "epoch: 380 loss:0.119138 auc:0.5204\n",
      "epoch: 400 loss:0.116158 auc:0.5170\n"
     ]
    },
    {
     "name": "stderr",
     "output_type": "stream",
     "text": [
      " 28%|██▊       | 67/240 [02:16<10:13,  3.55s/it]"
     ]
    },
    {
     "name": "stdout",
     "output_type": "stream",
     "text": [
      "epoch: 420 loss:0.114556 auc:0.5188\n",
      "Fit finished.\n",
      "epoch:   0 loss:0.773227 auc:0.5575\n",
      "epoch:  20 loss:0.276761 auc:0.5708\n",
      "epoch:  40 loss:0.211728 auc:0.5526\n",
      "epoch:  60 loss:0.179804 auc:0.6847\n",
      "epoch:  80 loss:0.166771 auc:0.7488\n",
      "epoch: 100 loss:0.154231 auc:0.7990\n",
      "epoch: 120 loss:0.148233 auc:0.8003\n",
      "epoch: 140 loss:0.145704 auc:0.7416\n",
      "epoch: 160 loss:0.143733 auc:0.6187\n"
     ]
    },
    {
     "name": "stderr",
     "output_type": "stream",
     "text": [
      " 28%|██▊       | 68/240 [02:19<09:44,  3.40s/it]"
     ]
    },
    {
     "name": "stdout",
     "output_type": "stream",
     "text": [
      "epoch: 180 loss:0.143266 auc:0.3492\n",
      "Fit finished.\n",
      "epoch:   0 loss:0.924897 auc:0.5428\n",
      "epoch:  20 loss:0.299104 auc:0.8070\n",
      "epoch:  40 loss:0.252360 auc:0.7729\n",
      "epoch:  60 loss:0.200094 auc:0.5909\n",
      "epoch:  80 loss:0.174347 auc:0.7719\n",
      "epoch: 100 loss:0.158186 auc:0.8964\n",
      "epoch: 120 loss:0.150498 auc:0.9526\n",
      "epoch: 140 loss:0.147706 auc:0.9562\n",
      "epoch: 160 loss:0.145855 auc:0.8094\n"
     ]
    },
    {
     "name": "stderr",
     "output_type": "stream",
     "text": [
      " 29%|██▉       | 69/240 [02:22<09:09,  3.21s/it]"
     ]
    },
    {
     "name": "stdout",
     "output_type": "stream",
     "text": [
      "epoch: 180 loss:0.144547 auc:0.7458\n",
      "Fit finished.\n",
      "epoch:   0 loss:0.663571 auc:0.4963\n",
      "epoch:  20 loss:0.214291 auc:0.4197\n",
      "epoch:  40 loss:0.179025 auc:0.6023\n",
      "epoch:  60 loss:0.169405 auc:0.7138\n",
      "epoch:  80 loss:0.159803 auc:0.7502\n",
      "epoch: 100 loss:0.148514 auc:0.7578\n",
      "epoch: 120 loss:0.144858 auc:0.6915\n",
      "epoch: 140 loss:0.145323 auc:0.4273\n",
      "epoch: 160 loss:0.140899 auc:0.5580\n"
     ]
    },
    {
     "name": "stderr",
     "output_type": "stream",
     "text": [
      " 29%|██▉       | 70/240 [02:24<08:31,  3.01s/it]"
     ]
    },
    {
     "name": "stdout",
     "output_type": "stream",
     "text": [
      "epoch: 180 loss:0.139000 auc:0.3779\n",
      "Fit finished.\n",
      "epoch:   0 loss:0.763022 auc:0.3995\n",
      "epoch:  20 loss:0.249472 auc:0.3818\n",
      "epoch:  40 loss:0.186683 auc:0.3253\n",
      "epoch:  60 loss:0.170886 auc:0.5830\n",
      "epoch:  80 loss:0.160288 auc:0.6380\n",
      "epoch: 100 loss:0.150419 auc:0.6601\n",
      "epoch: 120 loss:0.146965 auc:0.5938\n",
      "epoch: 140 loss:0.144620 auc:0.5484\n",
      "epoch: 160 loss:0.142533 auc:0.4584\n",
      "epoch: 180 loss:0.141571 auc:0.4345\n",
      "epoch: 200 loss:0.138706 auc:0.3817\n"
     ]
    },
    {
     "name": "stderr",
     "output_type": "stream",
     "text": [
      " 32%|███▏      | 76/240 [02:28<03:31,  1.29s/it]"
     ]
    },
    {
     "name": "stdout",
     "output_type": "stream",
     "text": [
      "epoch: 220 loss:0.137532 auc:0.3413\n",
      "Fit finished.\n",
      "epoch:   0 loss:0.637204 auc:0.4789\n",
      "epoch:  20 loss:0.267402 auc:0.5850\n",
      "epoch:  40 loss:0.191538 auc:0.5895\n",
      "epoch:  60 loss:0.174185 auc:0.7401\n",
      "epoch:  80 loss:0.164556 auc:0.7688\n",
      "epoch: 100 loss:0.153456 auc:0.7984\n",
      "epoch: 120 loss:0.148046 auc:0.8082\n",
      "epoch: 140 loss:0.145332 auc:0.8130\n",
      "epoch: 160 loss:0.143742 auc:0.8082\n",
      "epoch: 180 loss:0.142297 auc:0.7904\n",
      "epoch: 200 loss:0.140323 auc:0.7856\n"
     ]
    },
    {
     "name": "stderr",
     "output_type": "stream",
     "text": [
      " 32%|███▏      | 77/240 [02:31<04:05,  1.51s/it]"
     ]
    },
    {
     "name": "stdout",
     "output_type": "stream",
     "text": [
      "epoch: 220 loss:0.139572 auc:0.7343\n",
      "Fit finished.\n",
      "epoch:   0 loss:1.298894 auc:0.5011\n",
      "epoch:  20 loss:0.259202 auc:0.5466\n",
      "epoch:  40 loss:0.194633 auc:0.3216\n",
      "epoch:  60 loss:0.176249 auc:0.7099\n",
      "epoch:  80 loss:0.166932 auc:0.7691\n",
      "epoch: 100 loss:0.158002 auc:0.7991\n",
      "epoch: 120 loss:0.149512 auc:0.7955\n",
      "epoch: 140 loss:0.146454 auc:0.7757\n",
      "epoch: 160 loss:0.144563 auc:0.7567\n",
      "epoch: 180 loss:0.143109 auc:0.7196\n",
      "epoch: 200 loss:0.142369 auc:0.6114\n"
     ]
    },
    {
     "name": "stderr",
     "output_type": "stream",
     "text": [
      " 33%|███▎      | 79/240 [02:34<03:59,  1.49s/it]"
     ]
    },
    {
     "name": "stdout",
     "output_type": "stream",
     "text": [
      "epoch: 220 loss:0.140630 auc:0.5451\n",
      "Fit finished.\n",
      "epoch:   0 loss:0.545257 auc:0.4628\n",
      "epoch:  20 loss:0.255905 auc:0.6136\n",
      "epoch:  40 loss:0.188102 auc:0.5971\n",
      "epoch:  60 loss:0.172563 auc:0.8492\n",
      "epoch:  80 loss:0.163836 auc:0.8512\n",
      "epoch: 100 loss:0.152927 auc:0.8347\n",
      "epoch: 120 loss:0.147629 auc:0.7893\n",
      "epoch: 140 loss:0.144942 auc:0.7851\n",
      "epoch: 160 loss:0.143190 auc:0.7789\n",
      "epoch: 180 loss:0.141003 auc:0.7376\n",
      "epoch: 200 loss:0.139055 auc:0.6818\n"
     ]
    },
    {
     "name": "stderr",
     "output_type": "stream",
     "text": [
      " 33%|███▎      | 80/240 [02:37<04:45,  1.78s/it]"
     ]
    },
    {
     "name": "stdout",
     "output_type": "stream",
     "text": [
      "epoch: 220 loss:0.137253 auc:0.6281\n",
      "Fit finished.\n",
      "epoch:   0 loss:0.616888 auc:0.4800\n",
      "epoch:  20 loss:0.218429 auc:0.2356\n",
      "epoch:  40 loss:0.178932 auc:0.6356\n",
      "epoch:  60 loss:0.167239 auc:0.6756\n",
      "epoch:  80 loss:0.155319 auc:0.7067\n",
      "epoch: 100 loss:0.148615 auc:0.7289\n",
      "epoch: 120 loss:0.145829 auc:0.6933\n",
      "epoch: 140 loss:0.143417 auc:0.6667\n",
      "epoch: 160 loss:0.142885 auc:0.6489\n",
      "epoch: 180 loss:0.139584 auc:0.6133\n"
     ]
    },
    {
     "name": "stderr",
     "output_type": "stream",
     "text": [
      " 34%|███▍      | 81/240 [02:40<05:38,  2.13s/it]"
     ]
    },
    {
     "name": "stdout",
     "output_type": "stream",
     "text": [
      "epoch: 200 loss:0.136825 auc:0.6178\n",
      "Fit finished.\n",
      "epoch:   0 loss:1.494339 auc:0.4205\n",
      "epoch:  20 loss:0.289655 auc:0.3916\n",
      "epoch:  40 loss:0.225464 auc:0.3690\n",
      "epoch:  60 loss:0.184842 auc:0.5727\n",
      "epoch:  80 loss:0.171011 auc:0.7731\n",
      "epoch: 100 loss:0.161492 auc:0.7982\n",
      "epoch: 120 loss:0.151086 auc:0.8137\n",
      "epoch: 140 loss:0.146312 auc:0.8150\n",
      "epoch: 160 loss:0.144222 auc:0.8130\n",
      "epoch: 180 loss:0.142932 auc:0.7903\n",
      "epoch: 200 loss:0.140885 auc:0.7951\n",
      "epoch: 220 loss:0.140226 auc:0.7655\n"
     ]
    },
    {
     "name": "stderr",
     "output_type": "stream",
     "text": [
      " 34%|███▍      | 82/240 [02:44<06:31,  2.48s/it]"
     ]
    },
    {
     "name": "stdout",
     "output_type": "stream",
     "text": [
      "epoch: 240 loss:0.137576 auc:0.7163\n",
      "Fit finished.\n",
      "epoch:   0 loss:0.644892 auc:0.5637\n",
      "epoch:  20 loss:0.269143 auc:0.5940\n",
      "epoch:  40 loss:0.197451 auc:0.6344\n",
      "epoch:  60 loss:0.173858 auc:0.6846\n",
      "epoch:  80 loss:0.162327 auc:0.7015\n",
      "epoch: 100 loss:0.150927 auc:0.7459\n",
      "epoch: 120 loss:0.146453 auc:0.7591\n",
      "epoch: 140 loss:0.144767 auc:0.7604\n",
      "epoch: 160 loss:0.141886 auc:0.7307\n",
      "epoch: 180 loss:0.140912 auc:0.7020\n",
      "epoch: 200 loss:0.137996 auc:0.6490\n"
     ]
    },
    {
     "name": "stderr",
     "output_type": "stream",
     "text": [
      " 36%|███▌      | 86/240 [02:47<04:00,  1.56s/it]"
     ]
    },
    {
     "name": "stdout",
     "output_type": "stream",
     "text": [
      "epoch: 220 loss:0.136235 auc:0.6288\n",
      "Fit finished.\n",
      "epoch:   0 loss:0.818850 auc:0.5325\n",
      "epoch:  20 loss:0.276883 auc:0.7325\n",
      "epoch:  40 loss:0.205738 auc:0.6175\n",
      "epoch:  60 loss:0.176078 auc:0.9000\n",
      "epoch:  80 loss:0.162947 auc:0.8900\n",
      "epoch: 100 loss:0.151211 auc:0.9125\n",
      "epoch: 120 loss:0.147657 auc:0.9200\n",
      "epoch: 140 loss:0.145446 auc:0.9125\n",
      "epoch: 160 loss:0.143803 auc:0.9000\n",
      "epoch: 180 loss:0.144564 auc:0.8500\n",
      "epoch: 200 loss:0.141583 auc:0.8775\n"
     ]
    },
    {
     "name": "stderr",
     "output_type": "stream",
     "text": [
      " 37%|███▋      | 89/240 [02:51<03:36,  1.44s/it]"
     ]
    },
    {
     "name": "stdout",
     "output_type": "stream",
     "text": [
      "epoch: 220 loss:0.141413 auc:0.7550\n",
      "Fit finished.\n",
      "epoch:   0 loss:0.592446 auc:0.5190\n",
      "epoch:  20 loss:0.263510 auc:0.7785\n",
      "epoch:  40 loss:0.190160 auc:0.7163\n",
      "epoch:  60 loss:0.174481 auc:0.8408\n",
      "epoch:  80 loss:0.164752 auc:0.8478\n",
      "epoch: 100 loss:0.154135 auc:0.8547\n",
      "epoch: 120 loss:0.148276 auc:0.8374\n",
      "epoch: 140 loss:0.145698 auc:0.8270\n",
      "epoch: 160 loss:0.143572 auc:0.8235\n",
      "epoch: 180 loss:0.142566 auc:0.8304\n",
      "epoch: 200 loss:0.139831 auc:0.7785\n"
     ]
    },
    {
     "name": "stderr",
     "output_type": "stream",
     "text": [
      " 38%|███▊      | 92/240 [02:55<03:19,  1.35s/it]"
     ]
    },
    {
     "name": "stdout",
     "output_type": "stream",
     "text": [
      "epoch: 220 loss:0.137799 auc:0.7578\n",
      "Fit finished.\n",
      "epoch:   0 loss:0.677305 auc:0.5822\n",
      "epoch:  20 loss:0.221151 auc:0.3956\n",
      "epoch:  40 loss:0.179383 auc:0.3111\n",
      "epoch:  60 loss:0.166386 auc:0.5067\n",
      "epoch:  80 loss:0.154893 auc:0.5289\n",
      "epoch: 100 loss:0.148996 auc:0.5200\n",
      "epoch: 120 loss:0.145884 auc:0.5022\n",
      "epoch: 140 loss:0.145058 auc:0.4844\n"
     ]
    },
    {
     "name": "stderr",
     "output_type": "stream",
     "text": [
      " 41%|████      | 98/240 [02:57<02:08,  1.10it/s]"
     ]
    },
    {
     "name": "stdout",
     "output_type": "stream",
     "text": [
      "epoch: 160 loss:0.141453 auc:0.4356\n",
      "Fit finished.\n",
      "epoch:   0 loss:0.614159 auc:0.4562\n",
      "epoch:  20 loss:0.277334 auc:0.6137\n",
      "epoch:  40 loss:0.202538 auc:0.5873\n",
      "epoch:  60 loss:0.177391 auc:0.7068\n",
      "epoch:  80 loss:0.167398 auc:0.7461\n",
      "epoch: 100 loss:0.158653 auc:0.7761\n",
      "epoch: 120 loss:0.149336 auc:0.7932\n",
      "epoch: 140 loss:0.146006 auc:0.8003\n",
      "epoch: 160 loss:0.144547 auc:0.7813\n",
      "epoch: 180 loss:0.143087 auc:0.7554\n",
      "epoch: 200 loss:0.141141 auc:0.7433\n",
      "epoch: 220 loss:0.146666 auc:0.7353\n"
     ]
    },
    {
     "name": "stderr",
     "output_type": "stream",
     "text": [
      " 41%|████▏     | 99/240 [03:02<02:57,  1.26s/it]"
     ]
    },
    {
     "name": "stdout",
     "output_type": "stream",
     "text": [
      "epoch: 240 loss:0.139425 auc:0.7109\n",
      "Fit finished.\n",
      "epoch:   0 loss:0.553712 auc:0.5917\n",
      "epoch:  20 loss:0.223864 auc:0.4896\n",
      "epoch:  40 loss:0.185040 auc:0.6627\n",
      "epoch:  60 loss:0.174313 auc:0.9142\n",
      "epoch:  80 loss:0.166767 auc:0.9186\n",
      "epoch: 100 loss:0.154273 auc:0.9467\n",
      "epoch: 120 loss:0.147787 auc:0.9571\n",
      "epoch: 140 loss:0.145430 auc:0.9571\n",
      "epoch: 160 loss:0.143452 auc:0.9541\n",
      "epoch: 180 loss:0.141583 auc:0.9556\n",
      "epoch: 200 loss:0.138403 auc:0.9482\n",
      "epoch: 220 loss:0.136159 auc:0.9541\n",
      "epoch: 240 loss:0.134331 auc:0.9527\n",
      "epoch: 260 loss:0.134773 auc:0.9601\n"
     ]
    },
    {
     "name": "stderr",
     "output_type": "stream",
     "text": [
      " 42%|████▏     | 100/240 [03:06<03:54,  1.68s/it]"
     ]
    },
    {
     "name": "stdout",
     "output_type": "stream",
     "text": [
      "epoch: 280 loss:0.130716 auc:0.9527\n",
      "Fit finished.\n",
      "epoch:   0 loss:1.017412 auc:0.6736\n",
      "epoch:  20 loss:0.276606 auc:0.4236\n",
      "epoch:  40 loss:0.205513 auc:0.4097\n",
      "epoch:  60 loss:0.181454 auc:0.3611\n",
      "epoch:  80 loss:0.172421 auc:0.3542\n",
      "epoch: 100 loss:0.165906 auc:0.3889\n",
      "epoch: 120 loss:0.157649 auc:0.4306\n",
      "epoch: 140 loss:0.149807 auc:0.4583\n"
     ]
    },
    {
     "name": "stderr",
     "output_type": "stream",
     "text": [
      " 42%|████▎     | 102/240 [03:09<03:44,  1.63s/it]"
     ]
    },
    {
     "name": "stdout",
     "output_type": "stream",
     "text": [
      "epoch: 160 loss:0.147404 auc:0.4861\n",
      "Fit finished.\n",
      "epoch:   0 loss:1.334747 auc:0.6879\n",
      "epoch:  20 loss:0.285796 auc:0.8195\n",
      "epoch:  40 loss:0.212064 auc:0.8817\n",
      "epoch:  60 loss:0.180541 auc:0.8240\n",
      "epoch:  80 loss:0.170135 auc:0.7840\n",
      "epoch: 100 loss:0.161375 auc:0.8195\n",
      "epoch: 120 loss:0.150820 auc:0.8328\n",
      "epoch: 140 loss:0.147698 auc:0.8107\n",
      "epoch: 160 loss:0.145223 auc:0.7959\n"
     ]
    },
    {
     "name": "stderr",
     "output_type": "stream",
     "text": [
      " 44%|████▍     | 106/240 [03:12<02:38,  1.18s/it]"
     ]
    },
    {
     "name": "stdout",
     "output_type": "stream",
     "text": [
      "epoch: 180 loss:0.144923 auc:0.7663\n",
      "Fit finished.\n",
      "epoch:   0 loss:1.106480 auc:0.7000\n",
      "epoch:  20 loss:0.293753 auc:0.4700\n",
      "epoch:  40 loss:0.233600 auc:0.3825\n",
      "epoch:  60 loss:0.188299 auc:0.6350\n",
      "epoch:  80 loss:0.174319 auc:0.9025\n",
      "epoch: 100 loss:0.164826 auc:0.9275\n",
      "epoch: 120 loss:0.154861 auc:0.9600\n",
      "epoch: 140 loss:0.149249 auc:0.9675\n",
      "epoch: 160 loss:0.146740 auc:0.9625\n",
      "epoch: 180 loss:0.145419 auc:0.9600\n",
      "epoch: 200 loss:0.143871 auc:0.9600\n",
      "epoch: 220 loss:0.143041 auc:0.9475\n",
      "epoch: 240 loss:0.143635 auc:0.9325\n",
      "epoch: 260 loss:0.140662 auc:0.9450\n"
     ]
    },
    {
     "name": "stderr",
     "output_type": "stream",
     "text": [
      " 45%|████▍     | 107/240 [03:16<03:31,  1.59s/it]"
     ]
    },
    {
     "name": "stdout",
     "output_type": "stream",
     "text": [
      "epoch: 280 loss:0.139633 auc:0.9300\n",
      "Fit finished.\n",
      "epoch:   0 loss:0.424648 auc:0.4083\n",
      "epoch:  20 loss:0.235566 auc:0.5309\n",
      "epoch:  40 loss:0.187879 auc:0.7572\n",
      "epoch:  60 loss:0.174748 auc:0.8133\n",
      "epoch:  80 loss:0.167586 auc:0.8162\n",
      "epoch: 100 loss:0.159020 auc:0.8320\n",
      "epoch: 120 loss:0.149170 auc:0.8508\n",
      "epoch: 140 loss:0.145563 auc:0.8572\n",
      "epoch: 160 loss:0.142863 auc:0.8549\n",
      "epoch: 180 loss:0.141550 auc:0.8466\n",
      "epoch: 200 loss:0.138537 auc:0.8373\n",
      "epoch: 220 loss:0.136494 auc:0.8292\n",
      "epoch: 240 loss:0.136162 auc:0.8519\n"
     ]
    },
    {
     "name": "stderr",
     "output_type": "stream",
     "text": [
      " 45%|████▌     | 108/240 [03:20<04:23,  1.99s/it]"
     ]
    },
    {
     "name": "stdout",
     "output_type": "stream",
     "text": [
      "epoch: 260 loss:0.132948 auc:0.8184\n",
      "Fit finished.\n",
      "epoch:   0 loss:0.544825 auc:0.3958\n",
      "epoch:  20 loss:0.251704 auc:0.2153\n",
      "epoch:  40 loss:0.189831 auc:0.1181\n",
      "epoch:  60 loss:0.173735 auc:0.8472\n",
      "epoch:  80 loss:0.163291 auc:0.8958\n",
      "epoch: 100 loss:0.151601 auc:0.8472\n",
      "epoch: 120 loss:0.147750 auc:0.8403\n",
      "epoch: 140 loss:0.145535 auc:0.8056\n",
      "epoch: 160 loss:0.144037 auc:0.8056\n",
      "epoch: 180 loss:0.142318 auc:0.7639\n"
     ]
    },
    {
     "name": "stderr",
     "output_type": "stream",
     "text": [
      " 45%|████▌     | 109/240 [03:22<04:29,  2.06s/it]"
     ]
    },
    {
     "name": "stdout",
     "output_type": "stream",
     "text": [
      "epoch: 200 loss:0.140729 auc:0.7569\n",
      "epoch: 220 loss:0.139101 auc:0.7569\n",
      "Fit finished.\n",
      "epoch:   0 loss:0.664301 auc:0.5487\n",
      "epoch:  20 loss:0.277663 auc:0.6004\n",
      "epoch:  40 loss:0.205625 auc:0.3952\n",
      "epoch:  60 loss:0.178249 auc:0.8211\n",
      "epoch:  80 loss:0.167485 auc:0.8572\n",
      "epoch: 100 loss:0.157532 auc:0.8874\n",
      "epoch: 120 loss:0.149000 auc:0.8959\n",
      "epoch: 140 loss:0.145918 auc:0.8949\n",
      "epoch: 160 loss:0.143784 auc:0.8967\n",
      "epoch: 180 loss:0.141935 auc:0.8808\n"
     ]
    },
    {
     "name": "stderr",
     "output_type": "stream",
     "text": [
      " 46%|████▋     | 111/240 [03:24<03:36,  1.68s/it]"
     ]
    },
    {
     "name": "stdout",
     "output_type": "stream",
     "text": [
      "epoch: 200 loss:0.140051 auc:0.8592\n",
      "epoch: 220 loss:0.138770 auc:0.7783\n",
      "Fit finished.\n",
      "epoch:   0 loss:0.825647 auc:0.4797\n",
      "epoch:  20 loss:0.262350 auc:0.6128\n",
      "epoch:  40 loss:0.189948 auc:0.6883\n",
      "epoch:  60 loss:0.173931 auc:0.7313\n",
      "epoch:  80 loss:0.164455 auc:0.7536\n",
      "epoch: 100 loss:0.153983 auc:0.7860\n",
      "epoch: 120 loss:0.148182 auc:0.8116\n",
      "epoch: 140 loss:0.145758 auc:0.8196\n",
      "epoch: 160 loss:0.143921 auc:0.8268\n",
      "epoch: 180 loss:0.142174 auc:0.8266\n",
      "epoch: 200 loss:0.142375 auc:0.7539\n",
      "epoch: 220 loss:0.139577 auc:0.7483\n"
     ]
    },
    {
     "name": "stderr",
     "output_type": "stream",
     "text": [
      " 49%|████▉     | 117/240 [03:26<01:46,  1.15it/s]"
     ]
    },
    {
     "name": "stdout",
     "output_type": "stream",
     "text": [
      "epoch: 240 loss:0.137410 auc:0.7168\n",
      "Fit finished.\n",
      "epoch:   0 loss:0.822692 auc:0.4846\n",
      "epoch:  20 loss:0.276471 auc:0.4290\n",
      "epoch:  40 loss:0.207398 auc:0.3519\n",
      "epoch:  60 loss:0.180734 auc:0.3920\n",
      "epoch:  80 loss:0.170730 auc:0.5031\n",
      "epoch: 100 loss:0.163289 auc:0.5247\n",
      "epoch: 120 loss:0.154385 auc:0.5463\n",
      "epoch: 140 loss:0.148849 auc:0.5432\n",
      "epoch: 160 loss:0.146503 auc:0.5525\n",
      "epoch: 180 loss:0.144638 auc:0.5093\n",
      "epoch: 200 loss:0.142934 auc:0.4753\n"
     ]
    },
    {
     "name": "stderr",
     "output_type": "stream",
     "text": [
      " 50%|████▉     | 119/240 [03:28<01:46,  1.13it/s]"
     ]
    },
    {
     "name": "stdout",
     "output_type": "stream",
     "text": [
      "epoch: 220 loss:0.141733 auc:0.4321\n",
      "epoch: 240 loss:0.140916 auc:0.3735\n",
      "Fit finished.\n",
      "epoch:   0 loss:0.698349 auc:0.4655\n",
      "epoch:  20 loss:0.267546 auc:0.4710\n",
      "epoch:  40 loss:0.197327 auc:0.3474\n",
      "epoch:  60 loss:0.172262 auc:0.7761\n",
      "epoch:  80 loss:0.160225 auc:0.8104\n",
      "epoch: 100 loss:0.150260 auc:0.8290\n",
      "epoch: 120 loss:0.146630 auc:0.8297\n",
      "epoch: 140 loss:0.144294 auc:0.8236\n",
      "epoch: 160 loss:0.142384 auc:0.7916\n",
      "epoch: 180 loss:0.140779 auc:0.7283\n"
     ]
    },
    {
     "name": "stderr",
     "output_type": "stream",
     "text": [
      " 51%|█████     | 122/240 [03:30<01:32,  1.27it/s]"
     ]
    },
    {
     "name": "stdout",
     "output_type": "stream",
     "text": [
      "epoch: 200 loss:0.139179 auc:0.7067\n",
      "epoch: 220 loss:0.136815 auc:0.6308\n",
      "Fit finished.\n",
      "epoch:   0 loss:0.711310 auc:0.4548\n",
      "epoch:  20 loss:0.278693 auc:0.5050\n",
      "epoch:  40 loss:0.206831 auc:0.3887\n",
      "epoch:  60 loss:0.179361 auc:0.6069\n",
      "epoch:  80 loss:0.168134 auc:0.7518\n",
      "epoch: 100 loss:0.159620 auc:0.7727\n",
      "epoch: 120 loss:0.150858 auc:0.7986\n",
      "epoch: 140 loss:0.147625 auc:0.7744\n",
      "epoch: 160 loss:0.145584 auc:0.7288\n",
      "epoch: 180 loss:0.143927 auc:0.6630\n"
     ]
    },
    {
     "name": "stderr",
     "output_type": "stream",
     "text": [
      " 52%|█████▏    | 124/240 [03:31<01:33,  1.24it/s]"
     ]
    },
    {
     "name": "stdout",
     "output_type": "stream",
     "text": [
      "epoch: 200 loss:0.142315 auc:0.5615\n",
      "epoch: 220 loss:0.142775 auc:0.4205\n",
      "Fit finished.\n",
      "epoch:   0 loss:0.586977 auc:0.4074\n",
      "epoch:  20 loss:0.255938 auc:0.5376\n",
      "epoch:  40 loss:0.188332 auc:0.5757\n",
      "epoch:  60 loss:0.168700 auc:0.7683\n",
      "epoch:  80 loss:0.155545 auc:0.7988\n",
      "epoch: 100 loss:0.149222 auc:0.8067\n",
      "epoch: 120 loss:0.146395 auc:0.7703\n",
      "epoch: 140 loss:0.144058 auc:0.6644\n"
     ]
    },
    {
     "name": "stderr",
     "output_type": "stream",
     "text": [
      " 52%|█████▏    | 125/240 [03:33<01:42,  1.12it/s]"
     ]
    },
    {
     "name": "stdout",
     "output_type": "stream",
     "text": [
      "epoch: 160 loss:0.142135 auc:0.4958\n",
      "epoch: 180 loss:0.140119 auc:0.4377\n",
      "Fit finished.\n",
      "epoch:   0 loss:0.842496 auc:0.5563\n",
      "epoch:  20 loss:0.281601 auc:0.6837\n",
      "epoch:  40 loss:0.208401 auc:0.6503\n",
      "epoch:  60 loss:0.177479 auc:0.7886\n",
      "epoch:  80 loss:0.165545 auc:0.8233\n",
      "epoch: 100 loss:0.154965 auc:0.8502\n",
      "epoch: 120 loss:0.147930 auc:0.8604\n",
      "epoch: 140 loss:0.145232 auc:0.8636\n",
      "epoch: 160 loss:0.143930 auc:0.8678\n",
      "epoch: 180 loss:0.142179 auc:0.8453\n",
      "epoch: 200 loss:0.140711 auc:0.8352\n",
      "epoch: 220 loss:0.140078 auc:0.8199\n"
     ]
    },
    {
     "name": "stderr",
     "output_type": "stream",
     "text": [
      " 53%|█████▎    | 128/240 [03:35<01:32,  1.21it/s]"
     ]
    },
    {
     "name": "stdout",
     "output_type": "stream",
     "text": [
      "epoch: 240 loss:0.137669 auc:0.7752\n",
      "Fit finished.\n",
      "epoch:   0 loss:0.755332 auc:0.4414\n",
      "epoch:  20 loss:0.213263 auc:0.3557\n",
      "epoch:  40 loss:0.178279 auc:0.8364\n",
      "epoch:  60 loss:0.168369 auc:0.8810\n",
      "epoch:  80 loss:0.157846 auc:0.9007\n",
      "epoch: 100 loss:0.149401 auc:0.9185\n",
      "epoch: 120 loss:0.146316 auc:0.9262\n",
      "epoch: 140 loss:0.144663 auc:0.9197\n",
      "epoch: 160 loss:0.142545 auc:0.9060\n",
      "epoch: 180 loss:0.141411 auc:0.8769\n",
      "epoch: 200 loss:0.139594 auc:0.8400\n"
     ]
    },
    {
     "name": "stderr",
     "output_type": "stream",
     "text": [
      " 54%|█████▍    | 129/240 [03:37<01:47,  1.04it/s]"
     ]
    },
    {
     "name": "stdout",
     "output_type": "stream",
     "text": [
      "epoch: 220 loss:0.136303 auc:0.8334\n",
      "Fit finished.\n",
      "epoch:   0 loss:0.867753 auc:0.5519\n",
      "epoch:  20 loss:0.231326 auc:0.3297\n",
      "epoch:  40 loss:0.182306 auc:0.8375\n",
      "epoch:  60 loss:0.169397 auc:0.8871\n",
      "epoch:  80 loss:0.157257 auc:0.8962\n",
      "epoch: 100 loss:0.148889 auc:0.9017\n",
      "epoch: 120 loss:0.148309 auc:0.9045\n",
      "epoch: 140 loss:0.143431 auc:0.8898\n",
      "epoch: 160 loss:0.140982 auc:0.8751\n",
      "epoch: 180 loss:0.139304 auc:0.8705\n"
     ]
    },
    {
     "name": "stderr",
     "output_type": "stream",
     "text": [
      " 54%|█████▍    | 130/240 [03:38<02:00,  1.09s/it]"
     ]
    },
    {
     "name": "stdout",
     "output_type": "stream",
     "text": [
      "epoch: 200 loss:0.136606 auc:0.8338\n",
      "Fit finished.\n",
      "epoch:   0 loss:0.918288 auc:0.4170\n",
      "epoch:  20 loss:0.283108 auc:0.5269\n",
      "epoch:  40 loss:0.205268 auc:0.5931\n",
      "epoch:  60 loss:0.177866 auc:0.6288\n",
      "epoch:  80 loss:0.167200 auc:0.6471\n",
      "epoch: 100 loss:0.158678 auc:0.6517\n",
      "epoch: 120 loss:0.149625 auc:0.6451\n",
      "epoch: 140 loss:0.145436 auc:0.6380\n",
      "epoch: 160 loss:0.143229 auc:0.6344\n",
      "epoch: 180 loss:0.141390 auc:0.6322\n",
      "epoch: 200 loss:0.139489 auc:0.6220\n"
     ]
    },
    {
     "name": "stderr",
     "output_type": "stream",
     "text": [
      " 55%|█████▌    | 133/240 [03:40<01:32,  1.15it/s]"
     ]
    },
    {
     "name": "stdout",
     "output_type": "stream",
     "text": [
      "epoch: 220 loss:0.137552 auc:0.5941\n",
      "Fit finished.\n",
      "epoch:   0 loss:0.522283 auc:0.5188\n",
      "epoch:  20 loss:0.243106 auc:0.5380\n",
      "epoch:  40 loss:0.183169 auc:0.6420\n",
      "epoch:  60 loss:0.168985 auc:0.7270\n",
      "epoch:  80 loss:0.158012 auc:0.7787\n",
      "epoch: 100 loss:0.148100 auc:0.7874\n",
      "epoch: 120 loss:0.144714 auc:0.7911\n",
      "epoch: 140 loss:0.144243 auc:0.7999\n",
      "epoch: 160 loss:0.140723 auc:0.7403\n"
     ]
    },
    {
     "name": "stderr",
     "output_type": "stream",
     "text": [
      " 56%|█████▋    | 135/240 [03:42<01:29,  1.17it/s]"
     ]
    },
    {
     "name": "stdout",
     "output_type": "stream",
     "text": [
      "epoch: 180 loss:0.138785 auc:0.6828\n",
      "epoch: 200 loss:0.136613 auc:0.5977\n",
      "Fit finished.\n",
      "epoch:   0 loss:0.867732 auc:0.6116\n",
      "epoch:  20 loss:0.267719 auc:0.7045\n",
      "epoch:  40 loss:0.193887 auc:0.6419\n",
      "epoch:  60 loss:0.172294 auc:0.8103\n",
      "epoch:  80 loss:0.160344 auc:0.8164\n",
      "epoch: 100 loss:0.150425 auc:0.8064\n",
      "epoch: 120 loss:0.147121 auc:0.8154\n",
      "epoch: 140 loss:0.144901 auc:0.8123\n",
      "epoch: 160 loss:0.142875 auc:0.8081\n",
      "epoch: 180 loss:0.142356 auc:0.8129\n"
     ]
    },
    {
     "name": "stderr",
     "output_type": "stream",
     "text": [
      " 57%|█████▋    | 137/240 [03:43<01:27,  1.18it/s]"
     ]
    },
    {
     "name": "stdout",
     "output_type": "stream",
     "text": [
      "epoch: 200 loss:0.139405 auc:0.7913\n",
      "epoch: 220 loss:0.137546 auc:0.7605\n",
      "Fit finished.\n",
      "epoch:   0 loss:0.525663 auc:0.6328\n",
      "epoch:  20 loss:0.258249 auc:0.6211\n",
      "epoch:  40 loss:0.190506 auc:0.7656\n",
      "epoch:  60 loss:0.177001 auc:0.8320\n",
      "epoch:  80 loss:0.170886 auc:0.8516\n",
      "epoch: 100 loss:0.164143 auc:0.8867\n",
      "epoch: 120 loss:0.154133 auc:0.9102\n",
      "epoch: 140 loss:0.148227 auc:0.9297\n",
      "epoch: 160 loss:0.145479 auc:0.9336\n",
      "epoch: 180 loss:0.143651 auc:0.9336\n"
     ]
    },
    {
     "name": "stderr",
     "output_type": "stream",
     "text": [
      " 58%|█████▊    | 140/240 [03:45<01:14,  1.35it/s]"
     ]
    },
    {
     "name": "stdout",
     "output_type": "stream",
     "text": [
      "epoch: 200 loss:0.141760 auc:0.9297\n",
      "epoch: 220 loss:0.140670 auc:0.8281\n",
      "Fit finished.\n",
      "epoch:   0 loss:0.842676 auc:0.5410\n",
      "epoch:  20 loss:0.270116 auc:0.5383\n",
      "epoch:  40 loss:0.201579 auc:0.5045\n",
      "epoch:  60 loss:0.177583 auc:0.6485\n",
      "epoch:  80 loss:0.167611 auc:0.7044\n",
      "epoch: 100 loss:0.158284 auc:0.7224\n",
      "epoch: 120 loss:0.148581 auc:0.7236\n",
      "epoch: 140 loss:0.145260 auc:0.7231\n",
      "epoch: 160 loss:0.143000 auc:0.7215\n",
      "epoch: 180 loss:0.141792 auc:0.7090\n",
      "epoch: 200 loss:0.140146 auc:0.7002\n",
      "epoch: 220 loss:0.138601 auc:0.6881\n"
     ]
    },
    {
     "name": "stderr",
     "output_type": "stream",
     "text": [
      " 59%|█████▉    | 141/240 [03:47<01:29,  1.11it/s]"
     ]
    },
    {
     "name": "stdout",
     "output_type": "stream",
     "text": [
      "epoch: 240 loss:0.136201 auc:0.6603\n",
      "Fit finished.\n",
      "epoch:   0 loss:0.712213 auc:0.4844\n",
      "epoch:  20 loss:0.260466 auc:0.6719\n",
      "epoch:  40 loss:0.192536 auc:0.7070\n",
      "epoch:  60 loss:0.176706 auc:0.8242\n",
      "epoch:  80 loss:0.168113 auc:0.8516\n",
      "epoch: 100 loss:0.158657 auc:0.8711\n",
      "epoch: 120 loss:0.149323 auc:0.9102\n",
      "epoch: 140 loss:0.146298 auc:0.9062\n",
      "epoch: 160 loss:0.144538 auc:0.9102\n",
      "epoch: 180 loss:0.142978 auc:0.9141\n",
      "epoch: 200 loss:0.142313 auc:0.8828\n",
      "epoch: 220 loss:0.138829 auc:0.8906\n",
      "epoch: 240 loss:0.137561 auc:0.8945\n"
     ]
    },
    {
     "name": "stderr",
     "output_type": "stream",
     "text": [
      " 60%|█████▉    | 143/240 [03:49<01:30,  1.07it/s]"
     ]
    },
    {
     "name": "stdout",
     "output_type": "stream",
     "text": [
      "epoch: 260 loss:0.137040 auc:0.8984\n",
      "epoch: 280 loss:0.134565 auc:0.8984\n",
      "Fit finished.\n",
      "epoch:   0 loss:0.820788 auc:0.5444\n",
      "epoch:  20 loss:0.265750 auc:0.5488\n",
      "epoch:  40 loss:0.189545 auc:0.5444\n",
      "epoch:  60 loss:0.175710 auc:0.7678\n",
      "epoch:  80 loss:0.167286 auc:0.7692\n",
      "epoch: 100 loss:0.157254 auc:0.7870\n",
      "epoch: 120 loss:0.149528 auc:0.7737\n",
      "epoch: 140 loss:0.146641 auc:0.7796\n",
      "epoch: 160 loss:0.145051 auc:0.7678\n",
      "epoch: 180 loss:0.143059 auc:0.7411\n"
     ]
    },
    {
     "name": "stderr",
     "output_type": "stream",
     "text": [
      " 61%|██████    | 146/240 [03:51<01:14,  1.26it/s]"
     ]
    },
    {
     "name": "stdout",
     "output_type": "stream",
     "text": [
      "epoch: 200 loss:0.141615 auc:0.7204\n",
      "epoch: 220 loss:0.139649 auc:0.6642\n",
      "Fit finished.\n",
      "epoch:   0 loss:0.667275 auc:0.5001\n",
      "epoch:  20 loss:0.242233 auc:0.6185\n",
      "epoch:  40 loss:0.183927 auc:0.7651\n",
      "epoch:  60 loss:0.173131 auc:0.8160\n",
      "epoch:  80 loss:0.166291 auc:0.8444\n",
      "epoch: 100 loss:0.155654 auc:0.8608\n",
      "epoch: 120 loss:0.147914 auc:0.8654\n",
      "epoch: 140 loss:0.144643 auc:0.8699\n",
      "epoch: 160 loss:0.142220 auc:0.8605\n",
      "epoch: 180 loss:0.140873 auc:0.8474\n",
      "epoch: 200 loss:0.137789 auc:0.8592\n",
      "epoch: 220 loss:0.136310 auc:0.8310\n"
     ]
    },
    {
     "name": "stderr",
     "output_type": "stream",
     "text": [
      " 61%|██████▏   | 147/240 [03:53<01:37,  1.05s/it]"
     ]
    },
    {
     "name": "stdout",
     "output_type": "stream",
     "text": [
      "epoch: 240 loss:0.137318 auc:0.8462\n",
      "epoch: 260 loss:0.132825 auc:0.8478\n",
      "Fit finished.\n",
      "epoch:   0 loss:0.824841 auc:0.4818\n",
      "epoch:  20 loss:0.269083 auc:0.4074\n",
      "epoch:  40 loss:0.196684 auc:0.4064\n",
      "epoch:  60 loss:0.176701 auc:0.6580\n",
      "epoch:  80 loss:0.167035 auc:0.6907\n",
      "epoch: 100 loss:0.158180 auc:0.7078\n",
      "epoch: 120 loss:0.149105 auc:0.7124\n",
      "epoch: 140 loss:0.145587 auc:0.7086\n",
      "epoch: 160 loss:0.143552 auc:0.7011\n",
      "epoch: 180 loss:0.141865 auc:0.6769\n"
     ]
    },
    {
     "name": "stderr",
     "output_type": "stream",
     "text": [
      " 62%|██████▏   | 148/240 [03:55<01:49,  1.20s/it]"
     ]
    },
    {
     "name": "stdout",
     "output_type": "stream",
     "text": [
      "epoch: 200 loss:0.141093 auc:0.6607\n",
      "epoch: 220 loss:0.138722 auc:0.6148\n",
      "Fit finished.\n",
      "epoch:   0 loss:0.558722 auc:0.5143\n",
      "epoch:  20 loss:0.282058 auc:0.6106\n",
      "epoch:  40 loss:0.201816 auc:0.6082\n",
      "epoch:  60 loss:0.172827 auc:0.6552\n",
      "epoch:  80 loss:0.159307 auc:0.6749\n",
      "epoch: 100 loss:0.149569 auc:0.6829\n",
      "epoch: 120 loss:0.146478 auc:0.6767\n",
      "epoch: 140 loss:0.144389 auc:0.6596\n",
      "epoch: 160 loss:0.143373 auc:0.6377\n",
      "epoch: 180 loss:0.141769 auc:0.6248\n"
     ]
    },
    {
     "name": "stderr",
     "output_type": "stream",
     "text": [
      " 62%|██████▎   | 150/240 [03:57<01:36,  1.08s/it]"
     ]
    },
    {
     "name": "stdout",
     "output_type": "stream",
     "text": [
      "epoch: 200 loss:0.140450 auc:0.5975\n",
      "Fit finished.\n",
      "epoch:   0 loss:0.584604 auc:0.8194\n",
      "epoch:  20 loss:0.246275 auc:0.8611\n",
      "epoch:  40 loss:0.185699 auc:0.9236\n",
      "epoch:  60 loss:0.170860 auc:0.9306\n",
      "epoch:  80 loss:0.160275 auc:0.9444\n",
      "epoch: 100 loss:0.150344 auc:0.9444\n",
      "epoch: 120 loss:0.147057 auc:0.9583\n",
      "epoch: 140 loss:0.144830 auc:0.9653\n",
      "epoch: 160 loss:0.143340 auc:0.9653\n",
      "epoch: 180 loss:0.142111 auc:0.9653\n",
      "epoch: 200 loss:0.140387 auc:0.9583\n",
      "epoch: 220 loss:0.137691 auc:0.9583\n",
      "epoch: 240 loss:0.141248 auc:0.9583\n",
      "epoch: 260 loss:0.134415 auc:0.9583\n",
      "epoch: 280 loss:0.132031 auc:0.9653\n"
     ]
    },
    {
     "name": "stderr",
     "output_type": "stream",
     "text": [
      " 63%|██████▎   | 151/240 [03:59<01:59,  1.34s/it]"
     ]
    },
    {
     "name": "stdout",
     "output_type": "stream",
     "text": [
      "epoch: 300 loss:0.130544 auc:0.9583\n",
      "Fit finished.\n",
      "epoch:   0 loss:0.926889 auc:0.7041\n",
      "epoch:  20 loss:0.285383 auc:0.4260\n",
      "epoch:  40 loss:0.222661 auc:0.4734\n",
      "epoch:  60 loss:0.184773 auc:0.7515\n",
      "epoch:  80 loss:0.172318 auc:0.8284\n",
      "epoch: 100 loss:0.163541 auc:0.8521\n",
      "epoch: 120 loss:0.153543 auc:0.8402\n",
      "epoch: 140 loss:0.148801 auc:0.8343\n",
      "epoch: 160 loss:0.146522 auc:0.8402\n",
      "epoch: 180 loss:0.145247 auc:0.8225\n",
      "epoch: 200 loss:0.143710 auc:0.8343\n",
      "epoch: 220 loss:0.142927 auc:0.8225\n",
      "epoch: 240 loss:0.141096 auc:0.8402\n"
     ]
    },
    {
     "name": "stderr",
     "output_type": "stream",
     "text": [
      " 64%|██████▍   | 154/240 [04:01<01:28,  1.03s/it]"
     ]
    },
    {
     "name": "stdout",
     "output_type": "stream",
     "text": [
      "epoch: 260 loss:0.139100 auc:0.8402\n",
      "Fit finished.\n",
      "epoch:   0 loss:0.562041 auc:0.5231\n",
      "epoch:  20 loss:0.219794 auc:0.4840\n",
      "epoch:  40 loss:0.178293 auc:0.5752\n",
      "epoch:  60 loss:0.168016 auc:0.6204\n",
      "epoch:  80 loss:0.157424 auc:0.6218\n",
      "epoch: 100 loss:0.146750 auc:0.6133\n",
      "epoch: 120 loss:0.144051 auc:0.6029\n",
      "epoch: 140 loss:0.139969 auc:0.5783\n",
      "epoch: 160 loss:0.137012 auc:0.5615\n"
     ]
    },
    {
     "name": "stderr",
     "output_type": "stream",
     "text": [
      " 65%|██████▌   | 156/240 [04:03<01:22,  1.02it/s]"
     ]
    },
    {
     "name": "stdout",
     "output_type": "stream",
     "text": [
      "epoch: 180 loss:0.135532 auc:0.5635\n",
      "epoch: 200 loss:0.133552 auc:0.5451\n",
      "Fit finished.\n",
      "epoch:   0 loss:0.927870 auc:0.4911\n",
      "epoch:  20 loss:0.276481 auc:0.4911\n",
      "epoch:  40 loss:0.204057 auc:0.5562\n",
      "epoch:  60 loss:0.176981 auc:0.6154\n",
      "epoch:  80 loss:0.164768 auc:0.6213\n",
      "epoch: 100 loss:0.153037 auc:0.6095\n",
      "epoch: 120 loss:0.148648 auc:0.6154\n",
      "epoch: 140 loss:0.146050 auc:0.6036\n",
      "epoch: 160 loss:0.144457 auc:0.6036\n",
      "epoch: 180 loss:0.142611 auc:0.5740\n",
      "epoch: 200 loss:0.141810 auc:0.5680\n"
     ]
    },
    {
     "name": "stderr",
     "output_type": "stream",
     "text": [
      " 67%|██████▋   | 161/240 [04:05<00:55,  1.42it/s]"
     ]
    },
    {
     "name": "stdout",
     "output_type": "stream",
     "text": [
      "epoch: 220 loss:0.140571 auc:0.4615\n",
      "Fit finished.\n",
      "epoch:   0 loss:0.897860 auc:0.5137\n",
      "epoch:  20 loss:0.282853 auc:0.6328\n",
      "epoch:  40 loss:0.215346 auc:0.6088\n",
      "epoch:  60 loss:0.179992 auc:0.6901\n",
      "epoch:  80 loss:0.167879 auc:0.7443\n",
      "epoch: 100 loss:0.156178 auc:0.7859\n",
      "epoch: 120 loss:0.148296 auc:0.7999\n",
      "epoch: 140 loss:0.146290 auc:0.8126\n",
      "epoch: 160 loss:0.144182 auc:0.8131\n",
      "epoch: 180 loss:0.142682 auc:0.8011\n",
      "epoch: 200 loss:0.142753 auc:0.7573\n"
     ]
    },
    {
     "name": "stderr",
     "output_type": "stream",
     "text": [
      " 68%|██████▊   | 162/240 [04:07<01:06,  1.17it/s]"
     ]
    },
    {
     "name": "stdout",
     "output_type": "stream",
     "text": [
      "epoch: 220 loss:0.140384 auc:0.7383\n",
      "epoch: 240 loss:0.138342 auc:0.7064\n",
      "Fit finished.\n",
      "epoch:   0 loss:0.776559 auc:0.3800\n",
      "epoch:  20 loss:0.275531 auc:0.4800\n",
      "epoch:  40 loss:0.192557 auc:0.4800\n",
      "epoch:  60 loss:0.175961 auc:0.9400\n",
      "epoch:  80 loss:0.166805 auc:0.9300\n",
      "epoch: 100 loss:0.156163 auc:0.9500\n",
      "epoch: 120 loss:0.149732 auc:0.9400\n",
      "epoch: 140 loss:0.147195 auc:0.9400\n",
      "epoch: 160 loss:0.145165 auc:0.9400\n",
      "epoch: 180 loss:0.148508 auc:0.9100\n"
     ]
    },
    {
     "name": "stderr",
     "output_type": "stream",
     "text": [
      " 68%|██████▊   | 164/240 [04:09<01:04,  1.19it/s]"
     ]
    },
    {
     "name": "stdout",
     "output_type": "stream",
     "text": [
      "epoch: 200 loss:0.141675 auc:0.9500\n",
      "epoch: 220 loss:0.139109 auc:0.9100\n",
      "Fit finished.\n",
      "epoch:   0 loss:1.092229 auc:0.5108\n",
      "epoch:  20 loss:0.275051 auc:0.6138\n",
      "epoch:  40 loss:0.211478 auc:0.4542\n",
      "epoch:  60 loss:0.181219 auc:0.6283\n",
      "epoch:  80 loss:0.168118 auc:0.7237\n",
      "epoch: 100 loss:0.157519 auc:0.7826\n",
      "epoch: 120 loss:0.149616 auc:0.8260\n",
      "epoch: 140 loss:0.146732 auc:0.7996\n",
      "epoch: 160 loss:0.145024 auc:0.7799\n",
      "epoch: 180 loss:0.143759 auc:0.6375\n"
     ]
    },
    {
     "name": "stderr",
     "output_type": "stream",
     "text": [
      " 69%|██████▉   | 165/240 [04:10<01:13,  1.02it/s]"
     ]
    },
    {
     "name": "stdout",
     "output_type": "stream",
     "text": [
      "epoch: 200 loss:0.142023 auc:0.5796\n",
      "epoch: 220 loss:0.140916 auc:0.5449\n",
      "Fit finished.\n",
      "epoch:   0 loss:0.929054 auc:0.5850\n",
      "epoch:  20 loss:0.286850 auc:0.5900\n",
      "epoch:  40 loss:0.213819 auc:0.7800\n",
      "epoch:  60 loss:0.182523 auc:0.9125\n",
      "epoch:  80 loss:0.171552 auc:0.9100\n",
      "epoch: 100 loss:0.163840 auc:0.9125\n",
      "epoch: 120 loss:0.154557 auc:0.9175\n",
      "epoch: 140 loss:0.149097 auc:0.9100\n",
      "epoch: 160 loss:0.146641 auc:0.9175\n",
      "epoch: 180 loss:0.144806 auc:0.9200\n",
      "epoch: 200 loss:0.142990 auc:0.9250\n",
      "epoch: 220 loss:0.142411 auc:0.9275\n"
     ]
    },
    {
     "name": "stderr",
     "output_type": "stream",
     "text": [
      " 69%|██████▉   | 166/240 [04:12<01:25,  1.15s/it]"
     ]
    },
    {
     "name": "stdout",
     "output_type": "stream",
     "text": [
      "epoch: 240 loss:0.139335 auc:0.9375\n",
      "epoch: 260 loss:0.141906 auc:0.9000\n",
      "Fit finished.\n",
      "epoch:   0 loss:0.583380 auc:0.5910\n",
      "epoch:  20 loss:0.278060 auc:0.4815\n",
      "epoch:  40 loss:0.208577 auc:0.3592\n",
      "epoch:  60 loss:0.179028 auc:0.5997\n",
      "epoch:  80 loss:0.168732 auc:0.7397\n",
      "epoch: 100 loss:0.160709 auc:0.7655\n",
      "epoch: 120 loss:0.151224 auc:0.7888\n",
      "epoch: 140 loss:0.146615 auc:0.7826\n",
      "epoch: 160 loss:0.144469 auc:0.7721\n",
      "epoch: 180 loss:0.142855 auc:0.7548\n",
      "epoch: 200 loss:0.141585 auc:0.6960\n",
      "epoch: 220 loss:0.140343 auc:0.6355\n"
     ]
    },
    {
     "name": "stderr",
     "output_type": "stream",
     "text": [
      " 70%|██████▉   | 167/240 [04:14<01:32,  1.27s/it]"
     ]
    },
    {
     "name": "stdout",
     "output_type": "stream",
     "text": [
      "epoch: 240 loss:0.139723 auc:0.6490\n",
      "Fit finished.\n",
      "epoch:   0 loss:0.684404 auc:0.5680\n",
      "epoch:  20 loss:0.243588 auc:0.6210\n",
      "epoch:  40 loss:0.182239 auc:0.7456\n",
      "epoch:  60 loss:0.169082 auc:0.7524\n",
      "epoch:  80 loss:0.158667 auc:0.7745\n",
      "epoch: 100 loss:0.149129 auc:0.8166\n",
      "epoch: 120 loss:0.145371 auc:0.8111\n",
      "epoch: 140 loss:0.142340 auc:0.8019\n",
      "epoch: 160 loss:0.140628 auc:0.7959\n",
      "epoch: 180 loss:0.136741 auc:0.7409\n",
      "epoch: 200 loss:0.133582 auc:0.7603\n",
      "epoch: 220 loss:0.130830 auc:0.7601\n",
      "epoch: 240 loss:0.132052 auc:0.7880\n"
     ]
    },
    {
     "name": "stderr",
     "output_type": "stream",
     "text": [
      " 70%|███████   | 168/240 [04:16<01:40,  1.40s/it]"
     ]
    },
    {
     "name": "stdout",
     "output_type": "stream",
     "text": [
      "epoch: 260 loss:0.126560 auc:0.7601\n",
      "Fit finished.\n",
      "epoch:   0 loss:0.711582 auc:0.4849\n",
      "epoch:  20 loss:0.282944 auc:0.5156\n",
      "epoch:  40 loss:0.203734 auc:0.4045\n",
      "epoch:  60 loss:0.180176 auc:0.6431\n",
      "epoch:  80 loss:0.170175 auc:0.7286\n",
      "epoch: 100 loss:0.162868 auc:0.7586\n",
      "epoch: 120 loss:0.153099 auc:0.8165\n",
      "epoch: 140 loss:0.147461 auc:0.8227\n",
      "epoch: 160 loss:0.144990 auc:0.8178\n",
      "epoch: 180 loss:0.143213 auc:0.7536\n",
      "epoch: 200 loss:0.142220 auc:0.6976\n"
     ]
    },
    {
     "name": "stderr",
     "output_type": "stream",
     "text": [
      " 71%|███████   | 170/240 [04:17<01:23,  1.20s/it]"
     ]
    },
    {
     "name": "stdout",
     "output_type": "stream",
     "text": [
      "epoch: 220 loss:0.139660 auc:0.6001\n",
      "Fit finished.\n",
      "epoch:   0 loss:0.805941 auc:0.4807\n",
      "epoch:  20 loss:0.271436 auc:0.4687\n",
      "epoch:  40 loss:0.198413 auc:0.4253\n",
      "epoch:  60 loss:0.178006 auc:0.6491\n",
      "epoch:  80 loss:0.167920 auc:0.7138\n",
      "epoch: 100 loss:0.157651 auc:0.7537\n",
      "epoch: 120 loss:0.148797 auc:0.7239\n",
      "epoch: 140 loss:0.146023 auc:0.6905\n",
      "epoch: 160 loss:0.144119 auc:0.6413\n",
      "epoch: 180 loss:0.146722 auc:0.6703\n",
      "epoch: 200 loss:0.141719 auc:0.5168\n"
     ]
    },
    {
     "name": "stderr",
     "output_type": "stream",
     "text": [
      " 72%|███████▎  | 174/240 [04:19<00:51,  1.27it/s]"
     ]
    },
    {
     "name": "stdout",
     "output_type": "stream",
     "text": [
      "epoch: 220 loss:0.139299 auc:0.3832\n",
      "Fit finished.\n",
      "epoch:   0 loss:0.915207 auc:0.4859\n",
      "epoch:  20 loss:0.300982 auc:0.5781\n",
      "epoch:  40 loss:0.240528 auc:0.6962\n",
      "epoch:  60 loss:0.188758 auc:0.7168\n",
      "epoch:  80 loss:0.172864 auc:0.7414\n",
      "epoch: 100 loss:0.161962 auc:0.7487\n",
      "epoch: 120 loss:0.150666 auc:0.7456\n",
      "epoch: 140 loss:0.146879 auc:0.7439\n",
      "epoch: 160 loss:0.144539 auc:0.7417\n",
      "epoch: 180 loss:0.143555 auc:0.7300\n",
      "epoch: 200 loss:0.141427 auc:0.7121\n"
     ]
    },
    {
     "name": "stderr",
     "output_type": "stream",
     "text": [
      " 73%|███████▎  | 175/240 [04:21<01:02,  1.05it/s]"
     ]
    },
    {
     "name": "stdout",
     "output_type": "stream",
     "text": [
      "epoch: 220 loss:0.140025 auc:0.6910\n",
      "Fit finished.\n",
      "epoch:   0 loss:0.753787 auc:0.5036\n",
      "epoch:  20 loss:0.284796 auc:0.3059\n",
      "epoch:  40 loss:0.207281 auc:0.5159\n",
      "epoch:  60 loss:0.178839 auc:0.6739\n",
      "epoch:  80 loss:0.167994 auc:0.7345\n",
      "epoch: 100 loss:0.157985 auc:0.8124\n",
      "epoch: 120 loss:0.150355 auc:0.8860\n",
      "epoch: 140 loss:0.147486 auc:0.8975\n",
      "epoch: 160 loss:0.145450 auc:0.8975\n",
      "epoch: 180 loss:0.144568 auc:0.7864\n",
      "epoch: 200 loss:0.142375 auc:0.6479\n"
     ]
    },
    {
     "name": "stderr",
     "output_type": "stream",
     "text": [
      " 74%|███████▍  | 178/240 [04:23<00:48,  1.27it/s]"
     ]
    },
    {
     "name": "stdout",
     "output_type": "stream",
     "text": [
      "epoch: 220 loss:0.141454 auc:0.3766\n",
      "Fit finished.\n",
      "epoch:   0 loss:0.542305 auc:0.6400\n",
      "epoch:  20 loss:0.238430 auc:0.8000\n",
      "epoch:  40 loss:0.187629 auc:0.8300\n",
      "epoch:  60 loss:0.175428 auc:0.9100\n",
      "epoch:  80 loss:0.167799 auc:0.8900\n",
      "epoch: 100 loss:0.156680 auc:0.9300\n",
      "epoch: 120 loss:0.148726 auc:0.9200\n",
      "epoch: 140 loss:0.145713 auc:0.9000\n",
      "epoch: 160 loss:0.144908 auc:0.8200\n"
     ]
    },
    {
     "name": "stderr",
     "output_type": "stream",
     "text": [
      " 76%|███████▋  | 183/240 [04:24<00:30,  1.89it/s]"
     ]
    },
    {
     "name": "stdout",
     "output_type": "stream",
     "text": [
      "epoch: 180 loss:0.142112 auc:0.7500\n",
      "Fit finished.\n",
      "epoch:   0 loss:0.632803 auc:0.4974\n",
      "epoch:  20 loss:0.252365 auc:0.5886\n",
      "epoch:  40 loss:0.187754 auc:0.6264\n",
      "epoch:  60 loss:0.173927 auc:0.7033\n",
      "epoch:  80 loss:0.166943 auc:0.7084\n",
      "epoch: 100 loss:0.158578 auc:0.7074\n",
      "epoch: 120 loss:0.149043 auc:0.6884\n",
      "epoch: 140 loss:0.146287 auc:0.6819\n",
      "epoch: 160 loss:0.144225 auc:0.6729\n",
      "epoch: 180 loss:0.146005 auc:0.6701\n",
      "epoch: 200 loss:0.141912 auc:0.6471\n"
     ]
    },
    {
     "name": "stderr",
     "output_type": "stream",
     "text": [
      " 77%|███████▋  | 184/240 [04:26<00:37,  1.51it/s]"
     ]
    },
    {
     "name": "stdout",
     "output_type": "stream",
     "text": [
      "epoch: 220 loss:0.139791 auc:0.5975\n",
      "Fit finished.\n",
      "epoch:   0 loss:0.820252 auc:0.4694\n",
      "epoch:  20 loss:0.269035 auc:0.5407\n",
      "epoch:  40 loss:0.201648 auc:0.5605\n",
      "epoch:  60 loss:0.175759 auc:0.7012\n",
      "epoch:  80 loss:0.164547 auc:0.7238\n",
      "epoch: 100 loss:0.153996 auc:0.7500\n",
      "epoch: 120 loss:0.147623 auc:0.7489\n",
      "epoch: 140 loss:0.145005 auc:0.7493\n",
      "epoch: 160 loss:0.143257 auc:0.7482\n",
      "epoch: 180 loss:0.142699 auc:0.6962\n",
      "epoch: 200 loss:0.140484 auc:0.6588\n"
     ]
    },
    {
     "name": "stderr",
     "output_type": "stream",
     "text": [
      " 78%|███████▊  | 188/240 [04:29<00:36,  1.42it/s]"
     ]
    },
    {
     "name": "stdout",
     "output_type": "stream",
     "text": [
      "epoch: 220 loss:0.138890 auc:0.5679\n",
      "Fit finished.\n",
      "epoch:   0 loss:0.697807 auc:0.4608\n",
      "epoch:  20 loss:0.261202 auc:0.5938\n",
      "epoch:  40 loss:0.191981 auc:0.6624\n",
      "epoch:  60 loss:0.172442 auc:0.7348\n",
      "epoch:  80 loss:0.161256 auc:0.7534\n",
      "epoch: 100 loss:0.150782 auc:0.7769\n",
      "epoch: 120 loss:0.146336 auc:0.7712\n",
      "epoch: 140 loss:0.143935 auc:0.7704\n",
      "epoch: 160 loss:0.142409 auc:0.7444\n",
      "epoch: 180 loss:0.140521 auc:0.7057\n"
     ]
    },
    {
     "name": "stderr",
     "output_type": "stream",
     "text": [
      " 79%|███████▉  | 189/240 [04:30<00:42,  1.20it/s]"
     ]
    },
    {
     "name": "stdout",
     "output_type": "stream",
     "text": [
      "epoch: 200 loss:0.139767 auc:0.6521\n",
      "Fit finished.\n",
      "epoch:   0 loss:0.891983 auc:0.6147\n",
      "epoch:  20 loss:0.285628 auc:0.5049\n",
      "epoch:  40 loss:0.224027 auc:0.5178\n",
      "epoch:  60 loss:0.185817 auc:0.4878\n",
      "epoch:  80 loss:0.172159 auc:0.5634\n",
      "epoch: 100 loss:0.162838 auc:0.5694\n",
      "epoch: 120 loss:0.153333 auc:0.5825\n"
     ]
    },
    {
     "name": "stderr",
     "output_type": "stream",
     "text": [
      " 79%|███████▉  | 190/240 [04:31<00:44,  1.12it/s]"
     ]
    },
    {
     "name": "stdout",
     "output_type": "stream",
     "text": [
      "epoch: 140 loss:0.148663 auc:0.5838\n",
      "epoch: 160 loss:0.146393 auc:0.5832\n",
      "Fit finished.\n",
      "epoch:   0 loss:0.890746 auc:0.5644\n",
      "epoch:  20 loss:0.264810 auc:0.4518\n",
      "epoch:  40 loss:0.197800 auc:0.4571\n",
      "epoch:  60 loss:0.175875 auc:0.6725\n",
      "epoch:  80 loss:0.165281 auc:0.7177\n",
      "epoch: 100 loss:0.154993 auc:0.7688\n",
      "epoch: 120 loss:0.148215 auc:0.7814\n",
      "epoch: 140 loss:0.145523 auc:0.7761\n",
      "epoch: 160 loss:0.143599 auc:0.7662\n",
      "epoch: 180 loss:0.142297 auc:0.7604\n"
     ]
    },
    {
     "name": "stderr",
     "output_type": "stream",
     "text": [
      " 80%|████████  | 192/240 [04:33<00:42,  1.13it/s]"
     ]
    },
    {
     "name": "stdout",
     "output_type": "stream",
     "text": [
      "epoch: 200 loss:0.141093 auc:0.6725\n",
      "epoch: 220 loss:0.139571 auc:0.6157\n",
      "Fit finished.\n",
      "epoch:   0 loss:0.441333 auc:0.5862\n",
      "epoch:  20 loss:0.214079 auc:0.5370\n",
      "epoch:  40 loss:0.177994 auc:0.6490\n",
      "epoch:  60 loss:0.163134 auc:0.6694\n",
      "epoch:  80 loss:0.150573 auc:0.6257\n",
      "epoch: 100 loss:0.145885 auc:0.6335\n",
      "epoch: 120 loss:0.143466 auc:0.6239\n",
      "epoch: 140 loss:0.153959 auc:0.4131\n"
     ]
    },
    {
     "name": "stderr",
     "output_type": "stream",
     "text": [
      " 80%|████████  | 193/240 [04:35<00:45,  1.04it/s]"
     ]
    },
    {
     "name": "stdout",
     "output_type": "stream",
     "text": [
      "epoch: 160 loss:0.140715 auc:0.4560\n",
      "Fit finished.\n",
      "epoch:   0 loss:0.728638 auc:0.5242\n",
      "epoch:  20 loss:0.284508 auc:0.5009\n",
      "epoch:  40 loss:0.214969 auc:0.5000\n",
      "epoch:  60 loss:0.181344 auc:0.7517\n",
      "epoch:  80 loss:0.170412 auc:0.8097\n",
      "epoch: 100 loss:0.160488 auc:0.8218\n",
      "epoch: 120 loss:0.150440 auc:0.8175\n",
      "epoch: 140 loss:0.147171 auc:0.8287\n",
      "epoch: 160 loss:0.145096 auc:0.8330\n",
      "epoch: 180 loss:0.144197 auc:0.8330\n",
      "epoch: 200 loss:0.142120 auc:0.8279\n"
     ]
    },
    {
     "name": "stderr",
     "output_type": "stream",
     "text": [
      " 81%|████████  | 194/240 [04:36<00:51,  1.12s/it]"
     ]
    },
    {
     "name": "stdout",
     "output_type": "stream",
     "text": [
      "epoch: 220 loss:0.148870 auc:0.7102\n",
      "Fit finished.\n",
      "epoch:   0 loss:0.892562 auc:0.4650\n",
      "epoch:  20 loss:0.261539 auc:0.3353\n",
      "epoch:  40 loss:0.195196 auc:0.3875\n",
      "epoch:  60 loss:0.175572 auc:0.3676\n",
      "epoch:  80 loss:0.164058 auc:0.3888\n",
      "epoch: 100 loss:0.152832 auc:0.4180\n",
      "epoch: 120 loss:0.148347 auc:0.3833\n"
     ]
    },
    {
     "name": "stderr",
     "output_type": "stream",
     "text": [
      " 81%|████████▏ | 195/240 [04:38<00:53,  1.19s/it]"
     ]
    },
    {
     "name": "stdout",
     "output_type": "stream",
     "text": [
      "epoch: 140 loss:0.145766 auc:0.3623\n",
      "epoch: 160 loss:0.146476 auc:0.3265\n",
      "Fit finished.\n",
      "epoch:   0 loss:0.482466 auc:0.3967\n",
      "epoch:  20 loss:0.210050 auc:0.5537\n",
      "epoch:  40 loss:0.179580 auc:0.6446\n",
      "epoch:  60 loss:0.168633 auc:0.7603\n",
      "epoch:  80 loss:0.155593 auc:0.8347\n",
      "epoch: 100 loss:0.148284 auc:0.8760\n",
      "epoch: 120 loss:0.144809 auc:0.8430\n",
      "epoch: 140 loss:0.145000 auc:0.7934\n",
      "epoch: 160 loss:0.140400 auc:0.8430\n",
      "epoch: 180 loss:0.136841 auc:0.7851\n",
      "epoch: 200 loss:0.134839 auc:0.8099\n",
      "epoch: 220 loss:0.134576 auc:0.8430\n"
     ]
    },
    {
     "name": "stderr",
     "output_type": "stream",
     "text": [
      " 82%|████████▎ | 198/240 [04:39<00:37,  1.11it/s]"
     ]
    },
    {
     "name": "stdout",
     "output_type": "stream",
     "text": [
      "epoch: 240 loss:0.130292 auc:0.7686\n",
      "Fit finished.\n",
      "epoch:   0 loss:0.890913 auc:0.3518\n",
      "epoch:  20 loss:0.283759 auc:0.4811\n",
      "epoch:  40 loss:0.220119 auc:0.4834\n",
      "epoch:  60 loss:0.182533 auc:0.4990\n",
      "epoch:  80 loss:0.168340 auc:0.5697\n",
      "epoch: 100 loss:0.156799 auc:0.7203\n",
      "epoch: 120 loss:0.149901 auc:0.8078\n",
      "epoch: 140 loss:0.147224 auc:0.8126\n",
      "epoch: 160 loss:0.145318 auc:0.7563\n",
      "epoch: 180 loss:0.144953 auc:0.6061\n",
      "epoch: 200 loss:0.142868 auc:0.5783\n"
     ]
    },
    {
     "name": "stderr",
     "output_type": "stream",
     "text": [
      " 83%|████████▎ | 199/240 [04:41<00:43,  1.05s/it]"
     ]
    },
    {
     "name": "stdout",
     "output_type": "stream",
     "text": [
      "epoch: 220 loss:0.141510 auc:0.4780\n",
      "Fit finished.\n",
      "epoch:   0 loss:0.795486 auc:0.4034\n",
      "epoch:  20 loss:0.270024 auc:0.5490\n",
      "epoch:  40 loss:0.195745 auc:0.4800\n",
      "epoch:  60 loss:0.174494 auc:0.7906\n",
      "epoch:  80 loss:0.162996 auc:0.8138\n",
      "epoch: 100 loss:0.152200 auc:0.8181\n",
      "epoch: 120 loss:0.148043 auc:0.8073\n",
      "epoch: 140 loss:0.145656 auc:0.8105\n",
      "epoch: 160 loss:0.144190 auc:0.8110\n",
      "epoch: 180 loss:0.142638 auc:0.8103\n",
      "epoch: 200 loss:0.142141 auc:0.7624\n"
     ]
    },
    {
     "name": "stderr",
     "output_type": "stream",
     "text": [
      " 83%|████████▎ | 200/240 [04:43<00:46,  1.17s/it]"
     ]
    },
    {
     "name": "stdout",
     "output_type": "stream",
     "text": [
      "epoch: 220 loss:0.139575 auc:0.7725\n",
      "Fit finished.\n",
      "epoch:   0 loss:0.996103 auc:0.4683\n",
      "epoch:  20 loss:0.271628 auc:0.3535\n",
      "epoch:  40 loss:0.201847 auc:0.3187\n",
      "epoch:  60 loss:0.180237 auc:0.6506\n",
      "epoch:  80 loss:0.171734 auc:0.8146\n",
      "epoch: 100 loss:0.165286 auc:0.8331\n",
      "epoch: 120 loss:0.157126 auc:0.8560\n",
      "epoch: 140 loss:0.149428 auc:0.8562\n",
      "epoch: 160 loss:0.146324 auc:0.8565\n",
      "epoch: 180 loss:0.144347 auc:0.8450\n",
      "epoch: 200 loss:0.143127 auc:0.8452\n"
     ]
    },
    {
     "name": "stderr",
     "output_type": "stream",
     "text": [
      " 84%|████████▍ | 201/240 [04:45<00:51,  1.31s/it]"
     ]
    },
    {
     "name": "stdout",
     "output_type": "stream",
     "text": [
      "epoch: 220 loss:0.141455 auc:0.7862\n",
      "epoch: 240 loss:0.140528 auc:0.7733\n",
      "Fit finished.\n",
      "epoch:   0 loss:0.738609 auc:0.5199\n",
      "epoch:  20 loss:0.266374 auc:0.5380\n",
      "epoch:  40 loss:0.188756 auc:0.5509\n",
      "epoch:  60 loss:0.173869 auc:0.6142\n",
      "epoch:  80 loss:0.165095 auc:0.6365\n",
      "epoch: 100 loss:0.154679 auc:0.6677\n",
      "epoch: 120 loss:0.146672 auc:0.6809\n",
      "epoch: 140 loss:0.143886 auc:0.6803\n",
      "epoch: 160 loss:0.143207 auc:0.6653\n",
      "epoch: 180 loss:0.140508 auc:0.6589\n"
     ]
    },
    {
     "name": "stderr",
     "output_type": "stream",
     "text": [
      " 85%|████████▍ | 203/240 [04:46<00:40,  1.11s/it]"
     ]
    },
    {
     "name": "stdout",
     "output_type": "stream",
     "text": [
      "epoch: 200 loss:0.138710 auc:0.6212\n",
      "epoch: 220 loss:0.136837 auc:0.5439\n",
      "Fit finished.\n",
      "epoch:   0 loss:0.498344 auc:0.5048\n",
      "epoch:  20 loss:0.223434 auc:0.5381\n",
      "epoch:  40 loss:0.180834 auc:0.6610\n",
      "epoch:  60 loss:0.167959 auc:0.7149\n",
      "epoch:  80 loss:0.157346 auc:0.7548\n",
      "epoch: 100 loss:0.148320 auc:0.7744\n",
      "epoch: 120 loss:0.144881 auc:0.7689\n",
      "epoch: 140 loss:0.142614 auc:0.7339\n",
      "epoch: 160 loss:0.141232 auc:0.6562\n",
      "epoch: 180 loss:0.137709 auc:0.6306\n"
     ]
    },
    {
     "name": "stderr",
     "output_type": "stream",
     "text": [
      " 85%|████████▌ | 204/240 [04:48<00:42,  1.19s/it]"
     ]
    },
    {
     "name": "stdout",
     "output_type": "stream",
     "text": [
      "epoch: 200 loss:0.135687 auc:0.6355\n",
      "Fit finished.\n",
      "epoch:   0 loss:0.930208 auc:0.5107\n",
      "epoch:  20 loss:0.272762 auc:0.5990\n",
      "epoch:  40 loss:0.199813 auc:0.4866\n",
      "epoch:  60 loss:0.177568 auc:0.7418\n",
      "epoch:  80 loss:0.168123 auc:0.7556\n",
      "epoch: 100 loss:0.159561 auc:0.7703\n",
      "epoch: 120 loss:0.149403 auc:0.7856\n",
      "epoch: 140 loss:0.145996 auc:0.7850\n",
      "epoch: 160 loss:0.143723 auc:0.7778\n",
      "epoch: 180 loss:0.141886 auc:0.7586\n",
      "epoch: 200 loss:0.141176 auc:0.7275\n"
     ]
    },
    {
     "name": "stderr",
     "output_type": "stream",
     "text": [
      " 85%|████████▌ | 205/240 [04:49<00:45,  1.29s/it]"
     ]
    },
    {
     "name": "stdout",
     "output_type": "stream",
     "text": [
      "epoch: 220 loss:0.138458 auc:0.6919\n",
      "Fit finished.\n",
      "epoch:   0 loss:0.514625 auc:0.4405\n",
      "epoch:  20 loss:0.220310 auc:0.5514\n",
      "epoch:  40 loss:0.179926 auc:0.6283\n",
      "epoch:  60 loss:0.168507 auc:0.6813\n",
      "epoch:  80 loss:0.157878 auc:0.7027\n",
      "epoch: 100 loss:0.147893 auc:0.7165\n",
      "epoch: 120 loss:0.144076 auc:0.6886\n",
      "epoch: 140 loss:0.143469 auc:0.5943\n",
      "epoch: 160 loss:0.138703 auc:0.5494\n"
     ]
    },
    {
     "name": "stderr",
     "output_type": "stream",
     "text": [
      " 86%|████████▋ | 207/240 [04:51<00:34,  1.05s/it]"
     ]
    },
    {
     "name": "stdout",
     "output_type": "stream",
     "text": [
      "epoch: 180 loss:0.141694 auc:0.5482\n",
      "Fit finished.\n",
      "epoch:   0 loss:0.828482 auc:0.5150\n",
      "epoch:  20 loss:0.281784 auc:0.5111\n",
      "epoch:  40 loss:0.207775 auc:0.4599\n",
      "epoch:  60 loss:0.181673 auc:0.7004\n",
      "epoch:  80 loss:0.170961 auc:0.7403\n",
      "epoch: 100 loss:0.163108 auc:0.7777\n",
      "epoch: 120 loss:0.153083 auc:0.8292\n",
      "epoch: 140 loss:0.147837 auc:0.8374\n",
      "epoch: 160 loss:0.145493 auc:0.8443\n",
      "epoch: 180 loss:0.143809 auc:0.8523\n",
      "epoch: 200 loss:0.142960 auc:0.8585\n",
      "epoch: 220 loss:0.141560 auc:0.8508\n",
      "epoch: 240 loss:0.140880 auc:0.8399\n"
     ]
    },
    {
     "name": "stderr",
     "output_type": "stream",
     "text": [
      " 87%|████████▋ | 208/240 [04:53<00:41,  1.31s/it]"
     ]
    },
    {
     "name": "stdout",
     "output_type": "stream",
     "text": [
      "epoch: 260 loss:0.138701 auc:0.7533\n",
      "Fit finished.\n",
      "epoch:   0 loss:0.840437 auc:0.4644\n",
      "epoch:  20 loss:0.268948 auc:0.5797\n",
      "epoch:  40 loss:0.194932 auc:0.5766\n",
      "epoch:  60 loss:0.173937 auc:0.6901\n",
      "epoch:  80 loss:0.162913 auc:0.7232\n",
      "epoch: 100 loss:0.152203 auc:0.7618\n",
      "epoch: 120 loss:0.147358 auc:0.7762\n",
      "epoch: 140 loss:0.144973 auc:0.7787\n",
      "epoch: 160 loss:0.143146 auc:0.7594\n",
      "epoch: 180 loss:0.142595 auc:0.7630\n",
      "epoch: 200 loss:0.140119 auc:0.6727\n"
     ]
    },
    {
     "name": "stderr",
     "output_type": "stream",
     "text": [
      " 87%|████████▋ | 209/240 [04:55<00:44,  1.42s/it]"
     ]
    },
    {
     "name": "stdout",
     "output_type": "stream",
     "text": [
      "epoch: 220 loss:0.139215 auc:0.6436\n",
      "Fit finished.\n",
      "epoch:   0 loss:0.721063 auc:0.4731\n",
      "epoch:  20 loss:0.271690 auc:0.4375\n",
      "epoch:  40 loss:0.195151 auc:0.6594\n",
      "epoch:  60 loss:0.177653 auc:0.7038\n",
      "epoch:  80 loss:0.169674 auc:0.7300\n",
      "epoch: 100 loss:0.161478 auc:0.7675\n",
      "epoch: 120 loss:0.150929 auc:0.8387\n",
      "epoch: 140 loss:0.147288 auc:0.8488\n",
      "epoch: 160 loss:0.144963 auc:0.8512\n",
      "epoch: 180 loss:0.143424 auc:0.8356\n",
      "epoch: 200 loss:0.141629 auc:0.8356\n",
      "epoch: 220 loss:0.141021 auc:0.8269\n",
      "epoch: 240 loss:0.137982 auc:0.7650\n"
     ]
    },
    {
     "name": "stderr",
     "output_type": "stream",
     "text": [
      " 88%|████████▊ | 210/240 [04:56<00:45,  1.52s/it]"
     ]
    },
    {
     "name": "stdout",
     "output_type": "stream",
     "text": [
      "epoch: 260 loss:0.137201 auc:0.7588\n",
      "Fit finished.\n",
      "epoch:   0 loss:0.697669 auc:0.5495\n",
      "epoch:  20 loss:0.256716 auc:0.5136\n",
      "epoch:  40 loss:0.187168 auc:0.4826\n",
      "epoch:  60 loss:0.172024 auc:0.5463\n",
      "epoch:  80 loss:0.162455 auc:0.5532\n",
      "epoch: 100 loss:0.151623 auc:0.5540\n",
      "epoch: 120 loss:0.145574 auc:0.5490\n"
     ]
    },
    {
     "name": "stderr",
     "output_type": "stream",
     "text": [
      " 88%|████████▊ | 211/240 [04:58<00:41,  1.43s/it]"
     ]
    },
    {
     "name": "stdout",
     "output_type": "stream",
     "text": [
      "epoch: 140 loss:0.142879 auc:0.5457\n",
      "epoch: 160 loss:0.141276 auc:0.5349\n",
      "Fit finished.\n",
      "epoch:   0 loss:0.602621 auc:0.5830\n",
      "epoch:  20 loss:0.281791 auc:0.7441\n",
      "epoch:  40 loss:0.205170 auc:0.8086\n",
      "epoch:  60 loss:0.178934 auc:0.8828\n",
      "epoch:  80 loss:0.169271 auc:0.8877\n",
      "epoch: 100 loss:0.160737 auc:0.8877\n",
      "epoch: 120 loss:0.151623 auc:0.8750\n",
      "epoch: 140 loss:0.147875 auc:0.8701\n",
      "epoch: 160 loss:0.145843 auc:0.8721\n",
      "epoch: 180 loss:0.144244 auc:0.8711\n"
     ]
    },
    {
     "name": "stderr",
     "output_type": "stream",
     "text": [
      " 90%|█████████ | 216/240 [04:59<00:16,  1.43it/s]"
     ]
    },
    {
     "name": "stdout",
     "output_type": "stream",
     "text": [
      "epoch: 200 loss:0.142664 auc:0.8662\n",
      "epoch: 220 loss:0.143135 auc:0.8271\n",
      "Fit finished.\n",
      "epoch:   0 loss:0.747558 auc:0.4936\n",
      "epoch:  20 loss:0.214929 auc:0.5083\n",
      "epoch:  40 loss:0.181589 auc:0.6359\n",
      "epoch:  60 loss:0.172242 auc:0.7124\n",
      "epoch:  80 loss:0.164092 auc:0.7289\n",
      "epoch: 100 loss:0.152382 auc:0.7424\n",
      "epoch: 120 loss:0.147401 auc:0.7498\n",
      "epoch: 140 loss:0.146072 auc:0.7507\n",
      "epoch: 160 loss:0.142396 auc:0.7188\n",
      "epoch: 180 loss:0.141561 auc:0.6731\n"
     ]
    },
    {
     "name": "stderr",
     "output_type": "stream",
     "text": [
      " 90%|█████████ | 217/240 [05:01<00:19,  1.18it/s]"
     ]
    },
    {
     "name": "stdout",
     "output_type": "stream",
     "text": [
      "epoch: 200 loss:0.138811 auc:0.6931\n",
      "epoch: 220 loss:0.136795 auc:0.6625\n",
      "Fit finished.\n",
      "epoch:   0 loss:0.779059 auc:0.5937\n",
      "epoch:  20 loss:0.266973 auc:0.4707\n",
      "epoch:  40 loss:0.193864 auc:0.4339\n",
      "epoch:  60 loss:0.175134 auc:0.8291\n",
      "epoch:  80 loss:0.164992 auc:0.8567\n",
      "epoch: 100 loss:0.153539 auc:0.8974\n",
      "epoch: 120 loss:0.147998 auc:0.9001\n",
      "epoch: 140 loss:0.146647 auc:0.8941\n",
      "epoch: 160 loss:0.144076 auc:0.8863\n",
      "epoch: 180 loss:0.142096 auc:0.8521\n"
     ]
    },
    {
     "name": "stderr",
     "output_type": "stream",
     "text": [
      " 91%|█████████ | 218/240 [05:02<00:21,  1.01it/s]"
     ]
    },
    {
     "name": "stdout",
     "output_type": "stream",
     "text": [
      "epoch: 200 loss:0.141246 auc:0.8534\n",
      "epoch: 220 loss:0.138167 auc:0.7738\n",
      "Fit finished.\n",
      "epoch:   0 loss:0.532989 auc:0.5548\n",
      "epoch:  20 loss:0.228171 auc:0.5910\n",
      "epoch:  40 loss:0.181334 auc:0.6273\n",
      "epoch:  60 loss:0.168564 auc:0.6613\n",
      "epoch:  80 loss:0.155011 auc:0.6998\n",
      "epoch: 100 loss:0.148406 auc:0.7245\n",
      "epoch: 120 loss:0.144661 auc:0.7091\n",
      "epoch: 140 loss:0.142029 auc:0.6860\n",
      "epoch: 160 loss:0.140178 auc:0.6520\n",
      "epoch: 180 loss:0.136878 auc:0.6366\n"
     ]
    },
    {
     "name": "stderr",
     "output_type": "stream",
     "text": [
      " 91%|█████████▏| 219/240 [05:04<00:23,  1.12s/it]"
     ]
    },
    {
     "name": "stdout",
     "output_type": "stream",
     "text": [
      "epoch: 200 loss:0.136248 auc:0.6497\n",
      "epoch: 220 loss:0.133857 auc:0.6427\n",
      "Fit finished.\n",
      "epoch:   0 loss:0.918982 auc:0.4446\n",
      "epoch:  20 loss:0.282718 auc:0.4273\n",
      "epoch:  40 loss:0.212371 auc:0.2958\n",
      "epoch:  60 loss:0.181693 auc:0.6246\n",
      "epoch:  80 loss:0.170406 auc:0.7751\n",
      "epoch: 100 loss:0.161452 auc:0.8140\n",
      "epoch: 120 loss:0.151674 auc:0.8607\n",
      "epoch: 140 loss:0.147545 auc:0.8711\n",
      "epoch: 160 loss:0.145161 auc:0.8720\n",
      "epoch: 180 loss:0.143327 auc:0.8780\n",
      "epoch: 200 loss:0.142111 auc:0.8867\n",
      "epoch: 220 loss:0.143725 auc:0.8564\n",
      "epoch: 240 loss:0.138344 auc:0.8815\n",
      "epoch: 260 loss:0.138051 auc:0.8711\n"
     ]
    },
    {
     "name": "stderr",
     "output_type": "stream",
     "text": [
      " 92%|█████████▏| 220/240 [05:06<00:26,  1.35s/it]"
     ]
    },
    {
     "name": "stdout",
     "output_type": "stream",
     "text": [
      "epoch: 280 loss:0.135655 auc:0.8763\n",
      "epoch: 300 loss:0.134953 auc:0.8625\n",
      "Fit finished.\n",
      "epoch:   0 loss:1.019559 auc:0.5100\n",
      "epoch:  20 loss:0.265765 auc:0.8025\n",
      "epoch:  40 loss:0.190593 auc:0.8403\n",
      "epoch:  60 loss:0.175179 auc:0.8426\n",
      "epoch:  80 loss:0.165729 auc:0.8465\n",
      "epoch: 100 loss:0.153696 auc:0.8465\n",
      "epoch: 120 loss:0.147930 auc:0.8441\n",
      "epoch: 140 loss:0.145315 auc:0.8465\n"
     ]
    },
    {
     "name": "stderr",
     "output_type": "stream",
     "text": [
      " 92%|█████████▎| 222/240 [05:08<00:19,  1.09s/it]"
     ]
    },
    {
     "name": "stdout",
     "output_type": "stream",
     "text": [
      "epoch: 160 loss:0.144129 auc:0.8210\n",
      "epoch: 180 loss:0.142300 auc:0.7731\n",
      "Fit finished.\n",
      "epoch:   0 loss:0.795462 auc:0.4988\n",
      "epoch:  20 loss:0.268340 auc:0.4631\n",
      "epoch:  40 loss:0.201864 auc:0.3783\n",
      "epoch:  60 loss:0.179250 auc:0.7388\n",
      "epoch:  80 loss:0.168912 auc:0.7861\n",
      "epoch: 100 loss:0.160421 auc:0.7937\n",
      "epoch: 120 loss:0.151534 auc:0.7852\n",
      "epoch: 140 loss:0.147634 auc:0.7854\n",
      "epoch: 160 loss:0.145499 auc:0.7882\n",
      "epoch: 180 loss:0.143893 auc:0.7836\n",
      "epoch: 200 loss:0.142584 auc:0.7815\n",
      "epoch: 220 loss:0.141165 auc:0.7667\n"
     ]
    },
    {
     "name": "stderr",
     "output_type": "stream",
     "text": [
      " 93%|█████████▎| 224/240 [05:09<00:16,  1.02s/it]"
     ]
    },
    {
     "name": "stdout",
     "output_type": "stream",
     "text": [
      "epoch: 240 loss:0.139598 auc:0.7582\n",
      "Fit finished.\n",
      "epoch:   0 loss:0.833010 auc:0.5522\n",
      "epoch:  20 loss:0.281074 auc:0.5443\n",
      "epoch:  40 loss:0.205432 auc:0.6053\n",
      "epoch:  60 loss:0.181615 auc:0.6923\n",
      "epoch:  80 loss:0.172108 auc:0.7492\n",
      "epoch: 100 loss:0.165070 auc:0.7820\n",
      "epoch: 120 loss:0.154785 auc:0.8441\n",
      "epoch: 140 loss:0.148887 auc:0.8648\n",
      "epoch: 160 loss:0.146301 auc:0.8679\n",
      "epoch: 180 loss:0.144598 auc:0.8429\n"
     ]
    },
    {
     "name": "stderr",
     "output_type": "stream",
     "text": [
      " 94%|█████████▍| 225/240 [05:11<00:17,  1.19s/it]"
     ]
    },
    {
     "name": "stdout",
     "output_type": "stream",
     "text": [
      "epoch: 200 loss:0.142819 auc:0.7400\n",
      "epoch: 220 loss:0.141836 auc:0.5070\n",
      "Fit finished.\n",
      "epoch:   0 loss:0.822593 auc:0.4770\n",
      "epoch:  20 loss:0.274248 auc:0.5676\n",
      "epoch:  40 loss:0.207019 auc:0.6293\n",
      "epoch:  60 loss:0.180879 auc:0.7352\n",
      "epoch:  80 loss:0.170825 auc:0.7573\n",
      "epoch: 100 loss:0.162593 auc:0.7911\n",
      "epoch: 120 loss:0.153066 auc:0.8487\n",
      "epoch: 140 loss:0.148183 auc:0.8551\n",
      "epoch: 160 loss:0.145774 auc:0.8465\n",
      "epoch: 180 loss:0.143985 auc:0.8014\n"
     ]
    },
    {
     "name": "stderr",
     "output_type": "stream",
     "text": [
      " 94%|█████████▍| 226/240 [05:13<00:18,  1.32s/it]"
     ]
    },
    {
     "name": "stdout",
     "output_type": "stream",
     "text": [
      "epoch: 200 loss:0.142439 auc:0.7061\n",
      "epoch: 220 loss:0.141246 auc:0.5264\n",
      "Fit finished.\n",
      "epoch:   0 loss:0.794378 auc:0.5959\n",
      "epoch:  20 loss:0.238109 auc:0.6904\n",
      "epoch:  40 loss:0.185993 auc:0.7510\n",
      "epoch:  60 loss:0.173660 auc:0.8396\n",
      "epoch:  80 loss:0.166844 auc:0.8682\n",
      "epoch: 100 loss:0.157607 auc:0.8906\n",
      "epoch: 120 loss:0.149197 auc:0.9214\n",
      "epoch: 140 loss:0.146014 auc:0.9238\n",
      "epoch: 160 loss:0.144617 auc:0.9214\n",
      "epoch: 180 loss:0.142250 auc:0.9214\n",
      "epoch: 200 loss:0.141885 auc:0.9019\n",
      "epoch: 220 loss:0.138265 auc:0.9185\n",
      "epoch: 240 loss:0.136095 auc:0.9299\n",
      "epoch: 260 loss:0.134805 auc:0.9043\n"
     ]
    },
    {
     "name": "stderr",
     "output_type": "stream",
     "text": [
      " 95%|█████████▌| 228/240 [05:15<00:14,  1.25s/it]"
     ]
    },
    {
     "name": "stdout",
     "output_type": "stream",
     "text": [
      "epoch: 280 loss:0.133641 auc:0.8909\n",
      "Fit finished.\n",
      "epoch:   0 loss:1.139428 auc:0.5263\n",
      "epoch:  20 loss:0.284145 auc:0.6011\n",
      "epoch:  40 loss:0.212899 auc:0.5866\n",
      "epoch:  60 loss:0.182342 auc:0.7701\n",
      "epoch:  80 loss:0.171174 auc:0.8082\n",
      "epoch: 100 loss:0.163295 auc:0.7992\n",
      "epoch: 120 loss:0.154726 auc:0.8310\n",
      "epoch: 140 loss:0.149014 auc:0.8386\n",
      "epoch: 160 loss:0.146623 auc:0.8359\n",
      "epoch: 180 loss:0.144931 auc:0.8407\n",
      "epoch: 200 loss:0.143500 auc:0.8331\n"
     ]
    },
    {
     "name": "stderr",
     "output_type": "stream",
     "text": [
      " 95%|█████████▌| 229/240 [05:17<00:15,  1.38s/it]"
     ]
    },
    {
     "name": "stdout",
     "output_type": "stream",
     "text": [
      "epoch: 220 loss:0.143137 auc:0.8366\n",
      "epoch: 240 loss:0.140764 auc:0.8054\n",
      "Fit finished.\n",
      "epoch:   0 loss:0.996294 auc:0.5041\n",
      "epoch:  20 loss:0.287061 auc:0.4504\n",
      "epoch:  40 loss:0.214399 auc:0.3515\n",
      "epoch:  60 loss:0.182778 auc:0.5841\n",
      "epoch:  80 loss:0.171216 auc:0.8009\n",
      "epoch: 100 loss:0.163799 auc:0.8166\n",
      "epoch: 120 loss:0.154508 auc:0.8194\n",
      "epoch: 140 loss:0.147971 auc:0.8220\n",
      "epoch: 160 loss:0.145462 auc:0.8218\n",
      "epoch: 180 loss:0.143849 auc:0.8071\n",
      "epoch: 200 loss:0.143016 auc:0.8125\n",
      "epoch: 220 loss:0.142096 auc:0.7541\n"
     ]
    },
    {
     "name": "stderr",
     "output_type": "stream",
     "text": [
      " 97%|█████████▋| 232/240 [05:19<00:07,  1.00it/s]"
     ]
    },
    {
     "name": "stdout",
     "output_type": "stream",
     "text": [
      "epoch: 240 loss:0.140133 auc:0.7269\n",
      "Fit finished.\n",
      "epoch:   0 loss:1.129012 auc:0.5956\n",
      "epoch:  20 loss:0.289376 auc:0.8082\n",
      "epoch:  40 loss:0.228878 auc:0.8372\n",
      "epoch:  60 loss:0.187400 auc:0.8584\n",
      "epoch:  80 loss:0.174804 auc:0.8790\n",
      "epoch: 100 loss:0.167553 auc:0.8846\n",
      "epoch: 120 loss:0.159534 auc:0.8960\n",
      "epoch: 140 loss:0.151186 auc:0.9012\n",
      "epoch: 160 loss:0.147975 auc:0.9021\n",
      "epoch: 180 loss:0.145843 auc:0.9095\n",
      "epoch: 200 loss:0.144965 auc:0.9144\n",
      "epoch: 220 loss:0.143140 auc:0.9194\n",
      "epoch: 240 loss:0.142022 auc:0.9181\n",
      "epoch: 260 loss:0.141784 auc:0.9157\n",
      "epoch: 280 loss:0.139707 auc:0.9209\n",
      "epoch: 300 loss:0.137729 auc:0.9126\n",
      "epoch: 320 loss:0.137170 auc:0.9160\n",
      "epoch: 340 loss:0.135328 auc:0.9191\n",
      "epoch: 360 loss:0.134386 auc:0.9246\n",
      "epoch: 380 loss:0.133494 auc:0.9283\n",
      "epoch: 400 loss:0.131985 auc:0.9295\n"
     ]
    },
    {
     "name": "stderr",
     "output_type": "stream",
     "text": [
      " 98%|█████████▊| 235/240 [05:22<00:04,  1.01it/s]"
     ]
    },
    {
     "name": "stdout",
     "output_type": "stream",
     "text": [
      "epoch: 420 loss:0.142451 auc:0.8873\n",
      "Fit finished.\n",
      "epoch:   0 loss:0.847488 auc:0.3860\n",
      "epoch:  20 loss:0.280315 auc:0.4933\n",
      "epoch:  40 loss:0.209428 auc:0.2018\n",
      "epoch:  60 loss:0.182682 auc:0.3268\n",
      "epoch:  80 loss:0.172375 auc:0.8519\n",
      "epoch: 100 loss:0.164726 auc:0.8889\n",
      "epoch: 120 loss:0.154765 auc:0.9206\n",
      "epoch: 140 loss:0.147883 auc:0.9186\n",
      "epoch: 160 loss:0.145591 auc:0.9098\n",
      "epoch: 180 loss:0.143883 auc:0.9000\n",
      "epoch: 200 loss:0.143771 auc:0.8020\n"
     ]
    },
    {
     "name": "stderr",
     "output_type": "stream",
     "text": [
      "100%|██████████| 240/240 [05:24<00:00,  1.35s/it]"
     ]
    },
    {
     "name": "stdout",
     "output_type": "stream",
     "text": [
      "epoch: 220 loss:0.141355 auc:0.8493\n",
      "epoch: 240 loss:0.140108 auc:0.7382\n",
      "Fit finished.\n"
     ]
    },
    {
     "name": "stderr",
     "output_type": "stream",
     "text": [
      "\n"
     ]
    }
   ],
   "source": [
    "n_kfold = 1\n",
    "true_data_s = pd.DataFrame()\n",
    "predict_data_s = pd.DataFrame()\n",
    "for dim in target_dim:\n",
    "    for seed, target_index in enumerate(tqdm(np.arange(res.shape[dim]))):\n",
    "        if dim:\n",
    "            if drug_sum[target_index] < 10:\n",
    "                continue\n",
    "        else:\n",
    "            if cell_sum[target_index] < 10:\n",
    "                continue\n",
    "        epochs = []\n",
    "        for fold in range(n_kfold):\n",
    "            true_data, predict_data = mofgcn_new(\n",
    "                exprs=exprs,\n",
    "                cna=cna,\n",
    "                mut=mut,\n",
    "                drug_finger=drug_finger,\n",
    "                res_mat=res,\n",
    "                null_mask=null_mask,\n",
    "                target_dim=dim,\n",
    "                target_index=target_index,\n",
    "                evaluate_fun=roc_auc,\n",
    "                args=args,\n",
    "                seed=seed,\n",
    "                device=device\n",
    "            )\n",
    "\n",
    "        true_data_s = pd.concat(\n",
    "            [true_data_s, translate_result(true_data)], ignore_index=True\n",
    "        )\n",
    "        predict_data_s = pd.concat(\n",
    "            [predict_data_s, translate_result(predict_data)], ignore_index=True\n",
    "        )"
   ]
  },
  {
   "cell_type": "code",
   "execution_count": 7,
   "id": "ee74598b-d6ba-4763-81e3-4b54516ce071",
   "metadata": {},
   "outputs": [],
   "source": [
    "true_data_s.to_csv(f\"new_drug_true_{args.data}.csv\")\n",
    "predict_data_s.to_csv(f\"new_drug_pred_{args.data}.csv\")"
   ]
  },
  {
   "cell_type": "code",
   "execution_count": null,
   "id": "ffc0c1e3-9f77-41a8-829f-8e9a1bf52edb",
   "metadata": {},
   "outputs": [],
   "source": []
  },
  {
   "cell_type": "code",
   "execution_count": null,
   "id": "e68325c4-cbaa-4dc5-8958-2020b8ae7162",
   "metadata": {},
   "outputs": [],
   "source": []
  },
  {
   "cell_type": "code",
   "execution_count": null,
   "id": "185a0098-e177-4b95-82cc-58c735363c60",
   "metadata": {},
   "outputs": [],
   "source": []
  },
  {
   "cell_type": "code",
   "execution_count": null,
   "id": "ee3e9e61-1f5a-4e9c-abcd-c8a6a99201e3",
   "metadata": {},
   "outputs": [],
   "source": []
  },
  {
   "cell_type": "code",
   "execution_count": null,
   "id": "3c602424-24bb-4876-ad7c-157226a1db15",
   "metadata": {},
   "outputs": [],
   "source": []
  },
  {
   "cell_type": "code",
   "execution_count": null,
   "id": "bc598152-9bfd-49cb-94a1-e06bf3b9adfa",
   "metadata": {},
   "outputs": [],
   "source": []
  },
  {
   "cell_type": "code",
   "execution_count": null,
   "id": "3b2ae018-e508-46da-b0e6-0c4d3c803692",
   "metadata": {},
   "outputs": [],
   "source": []
  }
 ],
 "metadata": {
  "kernelspec": {
   "display_name": "torch",
   "language": "python",
   "name": "torch"
  },
  "language_info": {
   "codemirror_mode": {
    "name": "ipython",
    "version": 3
   },
   "file_extension": ".py",
   "mimetype": "text/x-python",
   "name": "python",
   "nbconvert_exporter": "python",
   "pygments_lexer": "ipython3",
   "version": "3.10.15"
  }
 },
 "nbformat": 4,
 "nbformat_minor": 5
}
