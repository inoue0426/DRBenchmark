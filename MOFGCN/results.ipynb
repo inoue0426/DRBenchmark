{
 "cells": [
  {
   "cell_type": "code",
   "execution_count": 1,
   "id": "9f6669c5-50f2-4110-9b32-a0843a937cd1",
   "metadata": {},
   "outputs": [],
   "source": [
    "import os\n",
    "import sys\n",
    "from pathlib import Path\n",
    "\n",
    "import numpy as np\n",
    "import pandas as pd"
   ]
  },
  {
   "cell_type": "code",
   "execution_count": 2,
   "id": "c51bcb68-4b6e-4c82-973e-cf6ac094f437",
   "metadata": {},
   "outputs": [],
   "source": [
    "%load_ext autoreload\n",
    "%autoreload 2\n",
    "\n",
    "current_dir = Path(os.getcwd())\n",
    "sys.path.append(str(current_dir.parent))  # 1階層上を追加\n",
    "\n",
    "from metrics import get_result"
   ]
  },
  {
   "cell_type": "code",
   "execution_count": 6,
   "id": "2d16eb77-5f8c-468a-ba85-d2245adb9a39",
   "metadata": {
    "scrolled": true
   },
   "outputs": [
    {
     "name": "stdout",
     "output_type": "stream",
     "text": [
      "nci\n",
      "gdsc1\n",
      "gdsc2\n",
      "ctrp\n"
     ]
    }
   ],
   "source": [
    "res = pd.DataFrame()\n",
    "for i in [\"nci\", \"gdsc1\", \"gdsc2\", \"ctrp\"]:\n",
    "    print(i)\n",
    "    true = pd.read_csv(f\"true_{i}.csv\", index_col=0)\n",
    "    pred = pd.read_csv(f\"pred_{i}.csv\", index_col=0)\n",
    "    res = pd.concat([res, get_result(true, pred, i)], axis=1)"
   ]
  },
  {
   "cell_type": "code",
   "execution_count": 8,
   "id": "ded8fd18-66dd-4b99-a5f4-9ac0fb5a3ab7",
   "metadata": {},
   "outputs": [
    {
     "data": {
      "text/html": [
       "<div>\n",
       "<style scoped>\n",
       "    .dataframe tbody tr th:only-of-type {\n",
       "        vertical-align: middle;\n",
       "    }\n",
       "\n",
       "    .dataframe tbody tr th {\n",
       "        vertical-align: top;\n",
       "    }\n",
       "\n",
       "    .dataframe thead th {\n",
       "        text-align: right;\n",
       "    }\n",
       "</style>\n",
       "<table border=\"1\" class=\"dataframe\">\n",
       "  <thead>\n",
       "    <tr style=\"text-align: right;\">\n",
       "      <th></th>\n",
       "      <th>ACC</th>\n",
       "      <th>Precision</th>\n",
       "      <th>Recall</th>\n",
       "      <th>Specificity</th>\n",
       "      <th>F1</th>\n",
       "      <th>F2</th>\n",
       "      <th>Balanced ACC</th>\n",
       "      <th>G-Mean</th>\n",
       "      <th>AUROC</th>\n",
       "      <th>AUPR</th>\n",
       "      <th>LogLoss</th>\n",
       "      <th>Brier</th>\n",
       "      <th>MCC</th>\n",
       "      <th>Kappa</th>\n",
       "      <th>Youden J</th>\n",
       "      <th>Cost Ratio</th>\n",
       "    </tr>\n",
       "  </thead>\n",
       "  <tbody>\n",
       "    <tr>\n",
       "      <th>NCI</th>\n",
       "      <td>0.891 (± 0.006)</td>\n",
       "      <td>0.882 (± 0.013)</td>\n",
       "      <td>0.901 (± 0.007)</td>\n",
       "      <td>0.882 (± 0.016)</td>\n",
       "      <td>0.891 (± 0.004)</td>\n",
       "      <td>0.897 (± 0.004)</td>\n",
       "      <td>0.892 (± 0.006)</td>\n",
       "      <td>0.891 (± 0.006)</td>\n",
       "      <td>0.956 (± 0.003)</td>\n",
       "      <td>0.952 (± 0.004)</td>\n",
       "      <td>0.270 (± 0.010)</td>\n",
       "      <td>0.080 (± 0.003)</td>\n",
       "      <td>0.783 (± 0.012)</td>\n",
       "      <td>0.783 (± 0.012)</td>\n",
       "      <td>0.912 (± 0.007)</td>\n",
       "      <td>8.928 (± 0.575)</td>\n",
       "    </tr>\n",
       "    <tr>\n",
       "      <th>GDSC1</th>\n",
       "      <td>0.819 (± 0.004)</td>\n",
       "      <td>0.840 (± 0.019)</td>\n",
       "      <td>0.778 (± 0.015)</td>\n",
       "      <td>0.859 (± 0.019)</td>\n",
       "      <td>0.808 (± 0.003)</td>\n",
       "      <td>0.790 (± 0.009)</td>\n",
       "      <td>0.819 (± 0.004)</td>\n",
       "      <td>0.818 (± 0.003)</td>\n",
       "      <td>0.897 (± 0.002)</td>\n",
       "      <td>0.902 (± 0.004)</td>\n",
       "      <td>0.406 (± 0.002)</td>\n",
       "      <td>0.128 (± 0.001)</td>\n",
       "      <td>0.640 (± 0.008)</td>\n",
       "      <td>0.638 (± 0.008)</td>\n",
       "      <td>0.794 (± 0.004)</td>\n",
       "      <td>3.800 (± 0.177)</td>\n",
       "    </tr>\n",
       "    <tr>\n",
       "      <th>GDSC2</th>\n",
       "      <td>0.834 (± 0.011)</td>\n",
       "      <td>0.874 (± 0.018)</td>\n",
       "      <td>0.795 (± 0.027)</td>\n",
       "      <td>0.877 (± 0.020)</td>\n",
       "      <td>0.832 (± 0.014)</td>\n",
       "      <td>0.809 (± 0.021)</td>\n",
       "      <td>0.836 (± 0.011)</td>\n",
       "      <td>0.834 (± 0.011)</td>\n",
       "      <td>0.908 (± 0.007)</td>\n",
       "      <td>0.920 (± 0.009)</td>\n",
       "      <td>0.389 (± 0.016)</td>\n",
       "      <td>0.122 (± 0.006)</td>\n",
       "      <td>0.672 (± 0.022)</td>\n",
       "      <td>0.669 (± 0.022)</td>\n",
       "      <td>0.816 (± 0.015)</td>\n",
       "      <td>4.324 (± 0.649)</td>\n",
       "    </tr>\n",
       "    <tr>\n",
       "      <th>CTRP</th>\n",
       "      <td>0.882 (± 0.005)</td>\n",
       "      <td>0.890 (± 0.009)</td>\n",
       "      <td>0.883 (± 0.009)</td>\n",
       "      <td>0.881 (± 0.011)</td>\n",
       "      <td>0.886 (± 0.004)</td>\n",
       "      <td>0.884 (± 0.006)</td>\n",
       "      <td>0.882 (± 0.005)</td>\n",
       "      <td>0.882 (± 0.005)</td>\n",
       "      <td>0.951 (± 0.003)</td>\n",
       "      <td>0.956 (± 0.003)</td>\n",
       "      <td>0.288 (± 0.007)</td>\n",
       "      <td>0.087 (± 0.003)</td>\n",
       "      <td>0.764 (± 0.010)</td>\n",
       "      <td>0.763 (± 0.010)</td>\n",
       "      <td>0.903 (± 0.006)</td>\n",
       "      <td>7.611 (± 0.534)</td>\n",
       "    </tr>\n",
       "  </tbody>\n",
       "</table>\n",
       "</div>"
      ],
      "text/plain": [
       "                   ACC        Precision           Recall      Specificity  \\\n",
       "NCI    0.891 (± 0.006)  0.882 (± 0.013)  0.901 (± 0.007)  0.882 (± 0.016)   \n",
       "GDSC1  0.819 (± 0.004)  0.840 (± 0.019)  0.778 (± 0.015)  0.859 (± 0.019)   \n",
       "GDSC2  0.834 (± 0.011)  0.874 (± 0.018)  0.795 (± 0.027)  0.877 (± 0.020)   \n",
       "CTRP   0.882 (± 0.005)  0.890 (± 0.009)  0.883 (± 0.009)  0.881 (± 0.011)   \n",
       "\n",
       "                    F1               F2     Balanced ACC           G-Mean  \\\n",
       "NCI    0.891 (± 0.004)  0.897 (± 0.004)  0.892 (± 0.006)  0.891 (± 0.006)   \n",
       "GDSC1  0.808 (± 0.003)  0.790 (± 0.009)  0.819 (± 0.004)  0.818 (± 0.003)   \n",
       "GDSC2  0.832 (± 0.014)  0.809 (± 0.021)  0.836 (± 0.011)  0.834 (± 0.011)   \n",
       "CTRP   0.886 (± 0.004)  0.884 (± 0.006)  0.882 (± 0.005)  0.882 (± 0.005)   \n",
       "\n",
       "                 AUROC             AUPR          LogLoss            Brier  \\\n",
       "NCI    0.956 (± 0.003)  0.952 (± 0.004)  0.270 (± 0.010)  0.080 (± 0.003)   \n",
       "GDSC1  0.897 (± 0.002)  0.902 (± 0.004)  0.406 (± 0.002)  0.128 (± 0.001)   \n",
       "GDSC2  0.908 (± 0.007)  0.920 (± 0.009)  0.389 (± 0.016)  0.122 (± 0.006)   \n",
       "CTRP   0.951 (± 0.003)  0.956 (± 0.003)  0.288 (± 0.007)  0.087 (± 0.003)   \n",
       "\n",
       "                   MCC            Kappa         Youden J       Cost Ratio  \n",
       "NCI    0.783 (± 0.012)  0.783 (± 0.012)  0.912 (± 0.007)  8.928 (± 0.575)  \n",
       "GDSC1  0.640 (± 0.008)  0.638 (± 0.008)  0.794 (± 0.004)  3.800 (± 0.177)  \n",
       "GDSC2  0.672 (± 0.022)  0.669 (± 0.022)  0.816 (± 0.015)  4.324 (± 0.649)  \n",
       "CTRP   0.764 (± 0.010)  0.763 (± 0.010)  0.903 (± 0.006)  7.611 (± 0.534)  "
      ]
     },
     "execution_count": 8,
     "metadata": {},
     "output_type": "execute_result"
    }
   ],
   "source": [
    "res.T"
   ]
  },
  {
   "cell_type": "code",
   "execution_count": null,
   "id": "c0ce2243-3273-4667-a7e0-e0dc1e4c307f",
   "metadata": {},
   "outputs": [],
   "source": []
  },
  {
   "cell_type": "code",
   "execution_count": null,
   "id": "9fbfd9eb-688f-4308-a97f-83abc440b90e",
   "metadata": {},
   "outputs": [],
   "source": []
  },
  {
   "cell_type": "code",
   "execution_count": null,
   "id": "b90c022d-2032-491a-84db-7a03db900f95",
   "metadata": {},
   "outputs": [],
   "source": []
  },
  {
   "cell_type": "code",
   "execution_count": null,
   "id": "cef3027f-53c9-48e6-b961-1ba10ada11e8",
   "metadata": {},
   "outputs": [],
   "source": []
  }
 ],
 "metadata": {
  "kernelspec": {
   "display_name": "base",
   "language": "python",
   "name": "base"
  },
  "language_info": {
   "codemirror_mode": {
    "name": "ipython",
    "version": 3
   },
   "file_extension": ".py",
   "mimetype": "text/x-python",
   "name": "python",
   "nbconvert_exporter": "python",
   "pygments_lexer": "ipython3",
   "version": "3.11.0"
  }
 },
 "nbformat": 4,
 "nbformat_minor": 5
}
