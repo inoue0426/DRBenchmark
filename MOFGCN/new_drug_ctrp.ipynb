{
 "cells": [
  {
   "cell_type": "code",
   "execution_count": 1,
   "id": "572a0fa8-b250-47bc-b76d-a2ec8c923717",
   "metadata": {},
   "outputs": [],
   "source": [
    "import argparse\n",
    "\n",
    "import numpy as np\n",
    "import pandas as pd\n",
    "import scipy.sparse as sp\n",
    "import torch\n",
    "from sklearn.model_selection import KFold\n",
    "from tqdm import tqdm"
   ]
  },
  {
   "cell_type": "code",
   "execution_count": 2,
   "id": "807ed612-b85a-46b4-9f14-9df64631581d",
   "metadata": {},
   "outputs": [],
   "source": [
    "%load_ext autoreload\n",
    "%autoreload 2\n",
    "\n",
    "from load_data import load_data\n",
    "from model import GModel\n",
    "from myutils import roc_auc, translate_result\n",
    "from optimizer import Optimizer\n",
    "from sampler import NewSampler"
   ]
  },
  {
   "cell_type": "code",
   "execution_count": 3,
   "id": "377e2120-1fee-4f37-acac-6b5693543ff4",
   "metadata": {},
   "outputs": [],
   "source": [
    "class Args:\n",
    "    def __init__(self):\n",
    "        self.device = \"cpu\"  # cuda:number or cpu\n",
    "        self.data = \"ctrp\"  # Dataset{gdsc or ccle}\n",
    "\n",
    "\n",
    "args = Args()\n",
    "res, drug_finger, exprs, mut, cna, null_mask, pos_num = load_data(args)"
   ]
  },
  {
   "cell_type": "code",
   "execution_count": 4,
   "id": "e4830366-799a-4b1e-8395-7d4121b83a73",
   "metadata": {},
   "outputs": [],
   "source": [
    "cell_sum = np.sum(res, axis=1)\n",
    "drug_sum = np.sum(res, axis=0)\n",
    "\n",
    "target_dim = [\n",
    "    # 0,  # Cell\n",
    "    1  # Drug\n",
    "]\n",
    "device = torch.device(\"cuda\" if torch.cuda.is_available() else \"cpu\")"
   ]
  },
  {
   "cell_type": "code",
   "execution_count": 5,
   "id": "f7186080-2927-47ab-82ec-1334f60f6777",
   "metadata": {},
   "outputs": [],
   "source": [
    "def mofgcn_new(\n",
    "    exprs,\n",
    "    cna,\n",
    "    mut,\n",
    "    drug_finger,\n",
    "    res_mat,\n",
    "    null_mask,\n",
    "    target_dim,\n",
    "    target_index,\n",
    "    evaluate_fun,\n",
    "    args,\n",
    "    seed,\n",
    "    device,\n",
    "):\n",
    "    sampler = NewSampler(res_mat, null_mask, target_dim, target_index, seed)\n",
    "    val_labels = sampler.test_data[sampler.test_mask] \n",
    "\n",
    "    if len(np.unique(val_labels)) < 2:\n",
    "        print(f\"Target {target_index} skipped: Validation set has only one class.\")\n",
    "        return None, None \n",
    "    \n",
    "    model = GModel(\n",
    "        adj_mat=sampler.train_data,\n",
    "        gene=exprs,\n",
    "        cna=cna,\n",
    "        mutation=mut,\n",
    "        sigma=2,\n",
    "        k=11,\n",
    "        iterates=3,\n",
    "        feature_drug=drug_finger,\n",
    "        n_hid1=192,\n",
    "        n_hid2=36,\n",
    "        alpha=5.74,\n",
    "        device=device,\n",
    "    )\n",
    "    opt = Optimizer(\n",
    "        model,\n",
    "        sampler.train_data,\n",
    "        sampler.test_data,\n",
    "        sampler.test_mask,\n",
    "        sampler.train_mask,\n",
    "        roc_auc,\n",
    "        lr=5e-4,\n",
    "        epochs=1000,\n",
    "        device=device,\n",
    "    ).to(device)\n",
    "    epoch, true_data, predict_data = opt()\n",
    "    return true_data, predict_data"
   ]
  },
  {
   "cell_type": "code",
   "execution_count": 6,
   "id": "c23b7d83-33d7-4868-8981-12ae43bc19ec",
   "metadata": {
    "scrolled": true
   },
   "outputs": [
    {
     "name": "stderr",
     "output_type": "stream",
     "text": [
      "  0%|          | 0/460 [00:00<?, ?it/s]"
     ]
    },
    {
     "name": "stdout",
     "output_type": "stream",
     "text": [
      "epoch:   0 loss:0.711093 auc:0.4744\n",
      "epoch:  20 loss:0.391045 auc:0.4458\n",
      "epoch:  40 loss:0.375316 auc:0.4244\n",
      "epoch:  60 loss:0.372069 auc:0.4115\n",
      "epoch:  80 loss:0.370801 auc:0.3993\n",
      "epoch: 100 loss:0.369826 auc:0.3904\n",
      "epoch: 120 loss:0.368474 auc:0.3729\n",
      "epoch: 140 loss:0.365840 auc:0.3576\n"
     ]
    },
    {
     "name": "stderr",
     "output_type": "stream",
     "text": [
      "  0%|          | 1/460 [00:10<1:24:03, 10.99s/it]"
     ]
    },
    {
     "name": "stdout",
     "output_type": "stream",
     "text": [
      "epoch: 160 loss:0.360472 auc:0.3504\n",
      "Fit finished.\n",
      "epoch:   0 loss:0.784080 auc:0.3467\n",
      "epoch:  20 loss:0.396339 auc:0.5067\n",
      "epoch:  40 loss:0.377669 auc:0.4978\n",
      "epoch:  60 loss:0.373083 auc:0.5156\n",
      "epoch:  80 loss:0.371605 auc:0.5511\n",
      "epoch: 100 loss:0.370387 auc:0.6178\n",
      "epoch: 120 loss:0.368649 auc:0.6844\n",
      "epoch: 140 loss:0.365435 auc:0.7111\n",
      "epoch: 160 loss:0.360587 auc:0.7556\n",
      "epoch: 180 loss:0.355866 auc:0.8089\n",
      "epoch: 200 loss:0.352895 auc:0.8178\n",
      "epoch: 220 loss:0.343606 auc:0.8311\n",
      "epoch: 240 loss:0.340357 auc:0.6978\n",
      "epoch: 260 loss:0.325761 auc:0.7378\n",
      "epoch: 280 loss:0.317652 auc:0.7289\n"
     ]
    },
    {
     "name": "stderr",
     "output_type": "stream",
     "text": [
      "  0%|          | 2/460 [00:27<1:49:34, 14.35s/it]"
     ]
    },
    {
     "name": "stdout",
     "output_type": "stream",
     "text": [
      "epoch: 300 loss:0.310828 auc:0.6933\n",
      "Fit finished.\n",
      "epoch:   0 loss:0.829418 auc:0.4883\n",
      "epoch:  20 loss:0.405721 auc:0.5541\n",
      "epoch:  40 loss:0.379474 auc:0.5598\n",
      "epoch:  60 loss:0.373742 auc:0.5660\n",
      "epoch:  80 loss:0.371839 auc:0.5689\n",
      "epoch: 100 loss:0.371029 auc:0.5716\n",
      "epoch: 120 loss:0.370405 auc:0.5791\n",
      "epoch: 140 loss:0.369706 auc:0.5844\n",
      "epoch: 160 loss:0.368744 auc:0.5899\n",
      "epoch: 180 loss:0.367187 auc:0.5852\n",
      "epoch: 200 loss:0.364470 auc:0.5886\n",
      "epoch: 220 loss:0.360565 auc:0.5927\n",
      "epoch: 240 loss:0.356504 auc:0.5949\n",
      "epoch: 260 loss:0.352404 auc:0.5983\n",
      "epoch: 280 loss:0.347313 auc:0.5944\n",
      "epoch: 300 loss:0.344072 auc:0.6004\n",
      "epoch: 320 loss:0.335798 auc:0.6042\n",
      "epoch: 340 loss:0.329277 auc:0.6151\n",
      "epoch: 360 loss:0.322536 auc:0.6130\n",
      "epoch: 380 loss:0.319970 auc:0.6025\n"
     ]
    },
    {
     "name": "stderr",
     "output_type": "stream",
     "text": [
      "  1%|          | 3/460 [00:49<2:16:41, 17.95s/it]"
     ]
    },
    {
     "name": "stdout",
     "output_type": "stream",
     "text": [
      "epoch: 400 loss:0.314931 auc:0.5735\n",
      "Fit finished.\n",
      "epoch:   0 loss:0.805370 auc:0.4563\n",
      "epoch:  20 loss:0.389933 auc:0.4741\n",
      "epoch:  40 loss:0.375408 auc:0.4926\n",
      "epoch:  60 loss:0.371726 auc:0.5046\n",
      "epoch:  80 loss:0.370612 auc:0.5167\n",
      "epoch: 100 loss:0.369830 auc:0.5305\n",
      "epoch: 120 loss:0.368925 auc:0.5452\n",
      "epoch: 140 loss:0.367552 auc:0.5583\n",
      "epoch: 160 loss:0.365012 auc:0.5630\n",
      "epoch: 180 loss:0.360367 auc:0.5608\n",
      "epoch: 200 loss:0.355202 auc:0.5733\n",
      "epoch: 220 loss:0.349735 auc:0.5716\n",
      "epoch: 240 loss:0.346916 auc:0.5621\n",
      "epoch: 260 loss:0.336980 auc:0.5607\n",
      "epoch: 280 loss:0.329569 auc:0.5529\n"
     ]
    },
    {
     "name": "stderr",
     "output_type": "stream",
     "text": [
      "  1%|          | 4/460 [01:03<2:04:15, 16.35s/it]"
     ]
    },
    {
     "name": "stdout",
     "output_type": "stream",
     "text": [
      "epoch: 300 loss:0.321411 auc:0.5543\n",
      "Fit finished.\n",
      "epoch:   0 loss:0.932952 auc:0.5457\n",
      "epoch:  20 loss:0.394363 auc:0.6150\n",
      "epoch:  40 loss:0.377138 auc:0.6898\n",
      "epoch:  60 loss:0.373338 auc:0.7230\n",
      "epoch:  80 loss:0.372048 auc:0.7091\n",
      "epoch: 100 loss:0.371212 auc:0.7230\n",
      "epoch: 120 loss:0.370281 auc:0.7147\n",
      "epoch: 140 loss:0.368917 auc:0.7230\n",
      "epoch: 160 loss:0.366564 auc:0.7396\n",
      "epoch: 180 loss:0.362409 auc:0.7424\n",
      "epoch: 200 loss:0.357237 auc:0.7590\n",
      "epoch: 220 loss:0.351586 auc:0.7839\n",
      "epoch: 240 loss:0.347267 auc:0.7729\n",
      "epoch: 260 loss:0.336450 auc:0.7701\n",
      "epoch: 280 loss:0.327437 auc:0.7175\n"
     ]
    },
    {
     "name": "stderr",
     "output_type": "stream",
     "text": [
      "  1%|          | 5/460 [01:18<2:00:36, 15.90s/it]"
     ]
    },
    {
     "name": "stdout",
     "output_type": "stream",
     "text": [
      "epoch: 300 loss:0.319194 auc:0.7064\n",
      "Fit finished.\n",
      "epoch:   0 loss:0.740672 auc:0.4336\n",
      "epoch:  20 loss:0.394208 auc:0.6608\n",
      "epoch:  40 loss:0.376153 auc:0.6816\n",
      "epoch:  60 loss:0.372669 auc:0.6848\n",
      "epoch:  80 loss:0.371476 auc:0.6960\n",
      "epoch: 100 loss:0.370329 auc:0.7088\n",
      "epoch: 120 loss:0.368215 auc:0.7136\n",
      "epoch: 140 loss:0.363487 auc:0.7264\n",
      "epoch: 160 loss:0.358183 auc:0.7328\n",
      "epoch: 180 loss:0.353126 auc:0.7440\n",
      "epoch: 200 loss:0.347485 auc:0.7296\n",
      "epoch: 220 loss:0.341882 auc:0.7184\n",
      "epoch: 240 loss:0.331588 auc:0.7040\n"
     ]
    },
    {
     "name": "stderr",
     "output_type": "stream",
     "text": [
      "  1%|▏         | 6/460 [01:32<1:53:28, 15.00s/it]"
     ]
    },
    {
     "name": "stdout",
     "output_type": "stream",
     "text": [
      "epoch: 260 loss:0.320283 auc:0.6576\n",
      "Fit finished.\n",
      "epoch:   0 loss:0.738325 auc:0.5150\n",
      "epoch:  20 loss:0.388551 auc:0.4863\n",
      "epoch:  40 loss:0.373658 auc:0.5192\n",
      "epoch:  60 loss:0.370636 auc:0.5351\n",
      "epoch:  80 loss:0.369086 auc:0.5506\n",
      "epoch: 100 loss:0.367091 auc:0.5570\n",
      "epoch: 120 loss:0.363162 auc:0.5562\n",
      "epoch: 140 loss:0.357350 auc:0.5522\n",
      "epoch: 160 loss:0.350817 auc:0.5603\n",
      "epoch: 180 loss:0.344888 auc:0.5434\n",
      "epoch: 200 loss:0.336131 auc:0.5237\n",
      "epoch: 220 loss:0.325865 auc:0.5363\n"
     ]
    },
    {
     "name": "stderr",
     "output_type": "stream",
     "text": [
      "  2%|▏         | 7/460 [01:43<1:43:46, 13.75s/it]"
     ]
    },
    {
     "name": "stdout",
     "output_type": "stream",
     "text": [
      "epoch: 240 loss:0.320177 auc:0.4805\n",
      "Fit finished.\n",
      "epoch:   0 loss:0.855955 auc:0.4482\n",
      "epoch:  20 loss:0.395237 auc:0.5356\n",
      "epoch:  40 loss:0.376354 auc:0.5890\n",
      "epoch:  60 loss:0.372429 auc:0.5778\n",
      "epoch:  80 loss:0.371378 auc:0.5817\n",
      "epoch: 100 loss:0.370687 auc:0.5806\n",
      "epoch: 120 loss:0.369945 auc:0.5757\n",
      "epoch: 140 loss:0.368890 auc:0.5637\n",
      "epoch: 160 loss:0.366964 auc:0.5619\n",
      "epoch: 180 loss:0.363055 auc:0.5531\n"
     ]
    },
    {
     "name": "stderr",
     "output_type": "stream",
     "text": [
      "  2%|▏         | 8/460 [01:53<1:34:24, 12.53s/it]"
     ]
    },
    {
     "name": "stdout",
     "output_type": "stream",
     "text": [
      "epoch: 200 loss:0.358245 auc:0.5338\n",
      "Fit finished.\n",
      "epoch:   0 loss:0.728527 auc:0.4153\n",
      "epoch:  20 loss:0.406762 auc:0.3510\n",
      "epoch:  40 loss:0.378330 auc:0.3120\n",
      "epoch:  60 loss:0.373378 auc:0.2981\n",
      "epoch:  80 loss:0.371658 auc:0.2910\n",
      "epoch: 100 loss:0.370778 auc:0.2949\n",
      "epoch: 120 loss:0.369925 auc:0.3003\n",
      "epoch: 140 loss:0.368795 auc:0.3067\n"
     ]
    },
    {
     "name": "stderr",
     "output_type": "stream",
     "text": [
      "  2%|▏         | 9/460 [02:01<1:24:12, 11.20s/it]"
     ]
    },
    {
     "name": "stdout",
     "output_type": "stream",
     "text": [
      "epoch: 160 loss:0.366859 auc:0.2939\n",
      "Fit finished.\n",
      "epoch:   0 loss:0.787914 auc:0.5220\n",
      "epoch:  20 loss:0.396176 auc:0.5360\n",
      "epoch:  40 loss:0.376675 auc:0.5261\n",
      "epoch:  60 loss:0.372532 auc:0.5130\n",
      "epoch:  80 loss:0.371254 auc:0.5079\n",
      "epoch: 100 loss:0.370498 auc:0.5022\n",
      "epoch: 120 loss:0.369779 auc:0.4993\n",
      "epoch: 140 loss:0.368781 auc:0.4968\n"
     ]
    },
    {
     "name": "stderr",
     "output_type": "stream",
     "text": [
      "  2%|▏         | 10/460 [02:10<1:17:47, 10.37s/it]"
     ]
    },
    {
     "name": "stdout",
     "output_type": "stream",
     "text": [
      "epoch: 160 loss:0.367051 auc:0.4924\n",
      "Fit finished.\n",
      "epoch:   0 loss:0.817818 auc:0.4599\n",
      "epoch:  20 loss:0.408987 auc:0.4655\n",
      "epoch:  40 loss:0.381257 auc:0.4763\n",
      "epoch:  60 loss:0.374291 auc:0.5014\n",
      "epoch:  80 loss:0.371871 auc:0.5201\n",
      "epoch: 100 loss:0.370786 auc:0.5409\n",
      "epoch: 120 loss:0.369916 auc:0.5612\n",
      "epoch: 140 loss:0.368848 auc:0.5823\n",
      "epoch: 160 loss:0.367094 auc:0.5992\n",
      "epoch: 180 loss:0.363736 auc:0.6010\n",
      "epoch: 200 loss:0.359037 auc:0.5754\n",
      "epoch: 220 loss:0.354574 auc:0.5672\n",
      "epoch: 240 loss:0.350608 auc:0.5674\n",
      "epoch: 260 loss:0.346672 auc:0.5658\n",
      "epoch: 280 loss:0.342571 auc:0.5639\n"
     ]
    },
    {
     "name": "stderr",
     "output_type": "stream",
     "text": [
      "  2%|▏         | 11/460 [02:23<1:24:37, 11.31s/it]"
     ]
    },
    {
     "name": "stdout",
     "output_type": "stream",
     "text": [
      "epoch: 300 loss:0.335288 auc:0.5727\n",
      "Fit finished.\n",
      "epoch:   0 loss:0.769146 auc:0.4606\n",
      "epoch:  20 loss:0.385203 auc:0.3491\n",
      "epoch:  40 loss:0.374709 auc:0.3929\n",
      "epoch:  60 loss:0.372126 auc:0.4517\n",
      "epoch:  80 loss:0.370675 auc:0.4983\n",
      "epoch: 100 loss:0.369257 auc:0.5440\n",
      "epoch: 120 loss:0.366764 auc:0.5875\n",
      "epoch: 140 loss:0.361410 auc:0.6086\n",
      "epoch: 160 loss:0.355232 auc:0.6140\n",
      "epoch: 180 loss:0.348767 auc:0.5825\n",
      "epoch: 200 loss:0.340880 auc:0.5409\n",
      "epoch: 220 loss:0.330035 auc:0.5160\n",
      "epoch: 240 loss:0.323042 auc:0.5152\n"
     ]
    },
    {
     "name": "stderr",
     "output_type": "stream",
     "text": [
      "  3%|▎         | 12/460 [02:35<1:26:45, 11.62s/it]"
     ]
    },
    {
     "name": "stdout",
     "output_type": "stream",
     "text": [
      "epoch: 260 loss:0.314165 auc:0.5113\n",
      "Fit finished.\n",
      "epoch:   0 loss:0.809276 auc:0.4547\n",
      "epoch:  20 loss:0.402534 auc:0.4619\n",
      "epoch:  40 loss:0.379055 auc:0.4653\n",
      "epoch:  60 loss:0.372480 auc:0.4757\n",
      "epoch:  80 loss:0.370564 auc:0.4813\n",
      "epoch: 100 loss:0.369453 auc:0.4883\n",
      "epoch: 120 loss:0.368164 auc:0.4967\n",
      "epoch: 140 loss:0.365900 auc:0.5068\n",
      "epoch: 160 loss:0.361423 auc:0.5252\n",
      "epoch: 180 loss:0.355749 auc:0.5482\n",
      "epoch: 200 loss:0.351337 auc:0.5545\n",
      "epoch: 220 loss:0.346955 auc:0.5579\n",
      "epoch: 240 loss:0.343197 auc:0.5372\n",
      "epoch: 260 loss:0.333482 auc:0.5352\n",
      "epoch: 280 loss:0.325322 auc:0.5166\n"
     ]
    },
    {
     "name": "stderr",
     "output_type": "stream",
     "text": [
      "  3%|▎         | 13/460 [02:49<1:30:43, 12.18s/it]"
     ]
    },
    {
     "name": "stdout",
     "output_type": "stream",
     "text": [
      "epoch: 300 loss:0.317681 auc:0.4851\n",
      "Fit finished.\n",
      "epoch:   0 loss:0.784432 auc:0.5030\n",
      "epoch:  20 loss:0.388289 auc:0.4802\n",
      "epoch:  40 loss:0.374697 auc:0.4765\n",
      "epoch:  60 loss:0.371694 auc:0.4845\n",
      "epoch:  80 loss:0.370571 auc:0.4892\n",
      "epoch: 100 loss:0.369813 auc:0.4948\n",
      "epoch: 120 loss:0.369051 auc:0.4990\n",
      "epoch: 140 loss:0.368095 auc:0.5016\n",
      "epoch: 160 loss:0.366662 auc:0.5059\n",
      "epoch: 180 loss:0.363996 auc:0.5164\n",
      "epoch: 200 loss:0.358485 auc:0.5381\n",
      "epoch: 220 loss:0.351369 auc:0.5499\n",
      "epoch: 240 loss:0.341248 auc:0.5462\n",
      "epoch: 260 loss:0.329227 auc:0.5370\n",
      "epoch: 280 loss:0.319848 auc:0.5004\n"
     ]
    },
    {
     "name": "stderr",
     "output_type": "stream",
     "text": [
      "  3%|▎         | 14/460 [03:04<1:36:41, 13.01s/it]"
     ]
    },
    {
     "name": "stdout",
     "output_type": "stream",
     "text": [
      "epoch: 300 loss:0.312223 auc:0.4642\n",
      "Fit finished.\n",
      "epoch:   0 loss:0.863774 auc:0.4398\n",
      "epoch:  20 loss:0.391201 auc:0.5372\n",
      "epoch:  40 loss:0.374226 auc:0.5627\n",
      "epoch:  60 loss:0.371702 auc:0.5704\n",
      "epoch:  80 loss:0.370482 auc:0.5744\n",
      "epoch: 100 loss:0.369079 auc:0.5730\n",
      "epoch: 120 loss:0.366542 auc:0.5826\n",
      "epoch: 140 loss:0.361684 auc:0.5861\n",
      "epoch: 160 loss:0.355966 auc:0.5772\n",
      "epoch: 180 loss:0.356108 auc:0.5875\n",
      "epoch: 200 loss:0.344921 auc:0.5883\n",
      "epoch: 220 loss:0.334619 auc:0.5705\n"
     ]
    },
    {
     "name": "stderr",
     "output_type": "stream",
     "text": [
      "  3%|▎         | 15/460 [03:15<1:32:16, 12.44s/it]"
     ]
    },
    {
     "name": "stdout",
     "output_type": "stream",
     "text": [
      "epoch: 240 loss:0.325383 auc:0.5676\n",
      "Fit finished.\n",
      "epoch:   0 loss:0.838904 auc:0.4453\n",
      "epoch:  20 loss:0.412891 auc:0.5081\n",
      "epoch:  40 loss:0.380493 auc:0.5057\n",
      "epoch:  60 loss:0.374695 auc:0.5283\n",
      "epoch:  80 loss:0.372898 auc:0.5428\n",
      "epoch: 100 loss:0.372068 auc:0.5595\n",
      "epoch: 120 loss:0.371409 auc:0.5664\n",
      "epoch: 140 loss:0.370671 auc:0.5589\n",
      "epoch: 160 loss:0.369652 auc:0.5417\n",
      "epoch: 180 loss:0.367966 auc:0.5150\n"
     ]
    },
    {
     "name": "stderr",
     "output_type": "stream",
     "text": [
      "  3%|▎         | 16/460 [03:25<1:27:18, 11.80s/it]"
     ]
    },
    {
     "name": "stdout",
     "output_type": "stream",
     "text": [
      "epoch: 200 loss:0.364779 auc:0.4648\n",
      "Fit finished.\n",
      "epoch:   0 loss:0.739321 auc:0.6880\n",
      "epoch:  20 loss:0.398544 auc:0.4342\n",
      "epoch:  40 loss:0.375769 auc:0.4150\n",
      "epoch:  60 loss:0.372740 auc:0.4246\n",
      "epoch:  80 loss:0.371395 auc:0.4376\n",
      "epoch: 100 loss:0.370015 auc:0.4481\n",
      "epoch: 120 loss:0.367566 auc:0.4555\n",
      "epoch: 140 loss:0.361867 auc:0.4071\n"
     ]
    },
    {
     "name": "stderr",
     "output_type": "stream",
     "text": [
      "  4%|▎         | 17/460 [03:34<1:20:07, 10.85s/it]"
     ]
    },
    {
     "name": "stdout",
     "output_type": "stream",
     "text": [
      "epoch: 160 loss:0.355531 auc:0.3570\n",
      "Fit finished.\n",
      "epoch:   0 loss:0.752122 auc:0.4823\n",
      "epoch:  20 loss:0.395289 auc:0.4659\n",
      "epoch:  40 loss:0.376914 auc:0.4634\n",
      "epoch:  60 loss:0.371927 auc:0.4641\n",
      "epoch:  80 loss:0.370590 auc:0.4663\n",
      "epoch: 100 loss:0.369730 auc:0.4653\n",
      "epoch: 120 loss:0.368809 auc:0.4660\n",
      "epoch: 140 loss:0.367497 auc:0.4716\n"
     ]
    },
    {
     "name": "stderr",
     "output_type": "stream",
     "text": [
      "  4%|▍         | 18/460 [03:42<1:14:04, 10.06s/it]"
     ]
    },
    {
     "name": "stdout",
     "output_type": "stream",
     "text": [
      "epoch: 160 loss:0.365217 auc:0.4749\n",
      "Fit finished.\n",
      "epoch:   0 loss:0.737620 auc:0.5841\n",
      "epoch:  20 loss:0.392197 auc:0.5118\n",
      "epoch:  40 loss:0.378362 auc:0.4418\n",
      "epoch:  60 loss:0.373556 auc:0.4446\n",
      "epoch:  80 loss:0.371977 auc:0.4380\n",
      "epoch: 100 loss:0.370933 auc:0.4329\n",
      "epoch: 120 loss:0.369661 auc:0.4142\n",
      "epoch: 140 loss:0.367340 auc:0.3854\n"
     ]
    },
    {
     "name": "stderr",
     "output_type": "stream",
     "text": [
      "  5%|▍         | 21/460 [03:52<45:56,  6.28s/it]  "
     ]
    },
    {
     "name": "stdout",
     "output_type": "stream",
     "text": [
      "epoch: 160 loss:0.362963 auc:0.3721\n",
      "Fit finished.\n",
      "epoch:   0 loss:0.815361 auc:0.5534\n",
      "epoch:  20 loss:0.407300 auc:0.5091\n",
      "epoch:  40 loss:0.378041 auc:0.5459\n",
      "epoch:  60 loss:0.373257 auc:0.5661\n",
      "epoch:  80 loss:0.371502 auc:0.5870\n",
      "epoch: 100 loss:0.370489 auc:0.6110\n",
      "epoch: 120 loss:0.369396 auc:0.6211\n",
      "epoch: 140 loss:0.367739 auc:0.6253\n",
      "epoch: 160 loss:0.364724 auc:0.6269\n",
      "epoch: 180 loss:0.360331 auc:0.6209\n",
      "epoch: 200 loss:0.356220 auc:0.6132\n",
      "epoch: 220 loss:0.352050 auc:0.6044\n",
      "epoch: 240 loss:0.351526 auc:0.5988\n",
      "epoch: 260 loss:0.341940 auc:0.6236\n",
      "epoch: 280 loss:0.334699 auc:0.6346\n",
      "epoch: 300 loss:0.327601 auc:0.6356\n",
      "epoch: 320 loss:0.318846 auc:0.6532\n",
      "epoch: 340 loss:0.316208 auc:0.7022\n",
      "epoch: 360 loss:0.306653 auc:0.6921\n",
      "epoch: 380 loss:0.299337 auc:0.6990\n",
      "epoch: 400 loss:0.293846 auc:0.7046\n",
      "epoch: 420 loss:0.289137 auc:0.7020\n",
      "epoch: 440 loss:0.286537 auc:0.6851\n",
      "epoch: 460 loss:0.282298 auc:0.7022\n",
      "epoch: 480 loss:0.280430 auc:0.6846\n"
     ]
    },
    {
     "name": "stderr",
     "output_type": "stream",
     "text": [
      "  5%|▍         | 22/460 [04:18<1:16:44, 10.51s/it]"
     ]
    },
    {
     "name": "stdout",
     "output_type": "stream",
     "text": [
      "epoch: 500 loss:0.277282 auc:0.6870\n",
      "Fit finished.\n",
      "epoch:   0 loss:0.773450 auc:0.5618\n",
      "epoch:  20 loss:0.411261 auc:0.4700\n",
      "epoch:  40 loss:0.381214 auc:0.5089\n",
      "epoch:  60 loss:0.374210 auc:0.5566\n",
      "epoch:  80 loss:0.372003 auc:0.5643\n",
      "epoch: 100 loss:0.370988 auc:0.5828\n",
      "epoch: 120 loss:0.370151 auc:0.5895\n",
      "epoch: 140 loss:0.369053 auc:0.5917\n",
      "epoch: 160 loss:0.367144 auc:0.5865\n",
      "epoch: 180 loss:0.363655 auc:0.5999\n",
      "epoch: 200 loss:0.359029 auc:0.6487\n",
      "epoch: 220 loss:0.354497 auc:0.6694\n",
      "epoch: 240 loss:0.349450 auc:0.6472\n",
      "epoch: 260 loss:0.343821 auc:0.6283\n",
      "epoch: 280 loss:0.336025 auc:0.6376\n",
      "epoch: 300 loss:0.328981 auc:0.6283\n"
     ]
    },
    {
     "name": "stderr",
     "output_type": "stream",
     "text": [
      "  5%|▌         | 23/460 [04:34<1:24:57, 11.67s/it]"
     ]
    },
    {
     "name": "stdout",
     "output_type": "stream",
     "text": [
      "epoch: 320 loss:0.320372 auc:0.5847\n",
      "Fit finished.\n",
      "epoch:   0 loss:0.898083 auc:0.5122\n",
      "epoch:  20 loss:0.405796 auc:0.5032\n",
      "epoch:  40 loss:0.380577 auc:0.5295\n",
      "epoch:  60 loss:0.373348 auc:0.5352\n",
      "epoch:  80 loss:0.371200 auc:0.5433\n",
      "epoch: 100 loss:0.370177 auc:0.5481\n",
      "epoch: 120 loss:0.369338 auc:0.5537\n",
      "epoch: 140 loss:0.368403 auc:0.5588\n",
      "epoch: 160 loss:0.367101 auc:0.5628\n",
      "epoch: 180 loss:0.364870 auc:0.5716\n",
      "epoch: 200 loss:0.360721 auc:0.5906\n",
      "epoch: 220 loss:0.355657 auc:0.6161\n",
      "epoch: 240 loss:0.350759 auc:0.6218\n",
      "epoch: 260 loss:0.344445 auc:0.6213\n",
      "epoch: 280 loss:0.338331 auc:0.6256\n",
      "epoch: 300 loss:0.330635 auc:0.6284\n",
      "epoch: 320 loss:0.324108 auc:0.6389\n",
      "epoch: 340 loss:0.319502 auc:0.6289\n",
      "epoch: 360 loss:0.316701 auc:0.6436\n",
      "epoch: 380 loss:0.306242 auc:0.6355\n"
     ]
    },
    {
     "name": "stderr",
     "output_type": "stream",
     "text": [
      "  5%|▌         | 24/460 [04:53<1:38:05, 13.50s/it]"
     ]
    },
    {
     "name": "stdout",
     "output_type": "stream",
     "text": [
      "epoch: 400 loss:0.300152 auc:0.6200\n",
      "Fit finished.\n",
      "epoch:   0 loss:0.782962 auc:0.4681\n",
      "epoch:  20 loss:0.393521 auc:0.4488\n",
      "epoch:  40 loss:0.377175 auc:0.5429\n",
      "epoch:  60 loss:0.373318 auc:0.5817\n",
      "epoch:  80 loss:0.371928 auc:0.6233\n",
      "epoch: 100 loss:0.370999 auc:0.6537\n",
      "epoch: 120 loss:0.370016 auc:0.6731\n",
      "epoch: 140 loss:0.368675 auc:0.7036\n",
      "epoch: 160 loss:0.366354 auc:0.7368\n",
      "epoch: 180 loss:0.361865 auc:0.7673\n",
      "epoch: 200 loss:0.354863 auc:0.7313\n",
      "epoch: 220 loss:0.346205 auc:0.7535\n",
      "epoch: 240 loss:0.340279 auc:0.7535\n",
      "epoch: 260 loss:0.331852 auc:0.7479\n",
      "epoch: 280 loss:0.325020 auc:0.7507\n",
      "epoch: 300 loss:0.315080 auc:0.7452\n",
      "epoch: 320 loss:0.306970 auc:0.7479\n"
     ]
    },
    {
     "name": "stderr",
     "output_type": "stream",
     "text": [
      "  5%|▌         | 25/460 [05:11<1:46:38, 14.71s/it]"
     ]
    },
    {
     "name": "stdout",
     "output_type": "stream",
     "text": [
      "epoch: 340 loss:0.299683 auc:0.7590\n",
      "Fit finished.\n",
      "epoch:   0 loss:0.694405 auc:0.5208\n",
      "epoch:  20 loss:0.384040 auc:0.5956\n",
      "epoch:  40 loss:0.374578 auc:0.6704\n",
      "epoch:  60 loss:0.372283 auc:0.6925\n",
      "epoch:  80 loss:0.370754 auc:0.7064\n",
      "epoch: 100 loss:0.368912 auc:0.7285\n",
      "epoch: 120 loss:0.365485 auc:0.7618\n",
      "epoch: 140 loss:0.360128 auc:0.8089\n",
      "epoch: 160 loss:0.354458 auc:0.8643\n",
      "epoch: 180 loss:0.347791 auc:0.8698\n",
      "epoch: 200 loss:0.340933 auc:0.8144\n",
      "epoch: 220 loss:0.329387 auc:0.6925\n",
      "epoch: 240 loss:0.318031 auc:0.7091\n",
      "epoch: 260 loss:0.311683 auc:0.7424\n",
      "epoch: 280 loss:0.300876 auc:0.7756\n"
     ]
    },
    {
     "name": "stderr",
     "output_type": "stream",
     "text": [
      "  6%|▌         | 26/460 [05:26<1:47:52, 14.91s/it]"
     ]
    },
    {
     "name": "stdout",
     "output_type": "stream",
     "text": [
      "epoch: 300 loss:0.293359 auc:0.7978\n",
      "Fit finished.\n",
      "epoch:   0 loss:0.732637 auc:0.4835\n",
      "epoch:  20 loss:0.399545 auc:0.4490\n",
      "epoch:  40 loss:0.378107 auc:0.4311\n",
      "epoch:  60 loss:0.372745 auc:0.4204\n",
      "epoch:  80 loss:0.371208 auc:0.4123\n",
      "epoch: 100 loss:0.370326 auc:0.4086\n",
      "epoch: 120 loss:0.369429 auc:0.4049\n",
      "epoch: 140 loss:0.368076 auc:0.4068\n"
     ]
    },
    {
     "name": "stderr",
     "output_type": "stream",
     "text": [
      "  6%|▌         | 27/460 [05:35<1:34:39, 13.12s/it]"
     ]
    },
    {
     "name": "stdout",
     "output_type": "stream",
     "text": [
      "epoch: 160 loss:0.365260 auc:0.4075\n",
      "Fit finished.\n",
      "epoch:   0 loss:0.872734 auc:0.5135\n",
      "epoch:  20 loss:0.404992 auc:0.4999\n",
      "epoch:  40 loss:0.379507 auc:0.4977\n",
      "epoch:  60 loss:0.372759 auc:0.5228\n",
      "epoch:  80 loss:0.370855 auc:0.5358\n",
      "epoch: 100 loss:0.369974 auc:0.5484\n",
      "epoch: 120 loss:0.369217 auc:0.5604\n",
      "epoch: 140 loss:0.368258 auc:0.5686\n",
      "epoch: 160 loss:0.366740 auc:0.5736\n",
      "epoch: 180 loss:0.364076 auc:0.5782\n",
      "epoch: 200 loss:0.360213 auc:0.5856\n",
      "epoch: 220 loss:0.356315 auc:0.5944\n",
      "epoch: 240 loss:0.352305 auc:0.5994\n",
      "epoch: 260 loss:0.347506 auc:0.6057\n",
      "epoch: 280 loss:0.342655 auc:0.6069\n",
      "epoch: 300 loss:0.335482 auc:0.5919\n"
     ]
    },
    {
     "name": "stderr",
     "output_type": "stream",
     "text": [
      "  6%|▌         | 28/460 [05:55<1:49:14, 15.17s/it]"
     ]
    },
    {
     "name": "stdout",
     "output_type": "stream",
     "text": [
      "epoch: 320 loss:0.328598 auc:0.5572\n",
      "Fit finished.\n",
      "epoch:   0 loss:0.857563 auc:0.5024\n",
      "epoch:  20 loss:0.392069 auc:0.4924\n",
      "epoch:  40 loss:0.375871 auc:0.5024\n",
      "epoch:  60 loss:0.372123 auc:0.5120\n",
      "epoch:  80 loss:0.371015 auc:0.5195\n",
      "epoch: 100 loss:0.370243 auc:0.5235\n",
      "epoch: 120 loss:0.369410 auc:0.5298\n",
      "epoch: 140 loss:0.368195 auc:0.5325\n",
      "epoch: 160 loss:0.366053 auc:0.5344\n",
      "epoch: 180 loss:0.362343 auc:0.5343\n",
      "epoch: 200 loss:0.357895 auc:0.5336\n",
      "epoch: 220 loss:0.353108 auc:0.5283\n",
      "epoch: 240 loss:0.346900 auc:0.5274\n"
     ]
    },
    {
     "name": "stderr",
     "output_type": "stream",
     "text": [
      "  6%|▋         | 29/460 [06:11<1:50:28, 15.38s/it]"
     ]
    },
    {
     "name": "stdout",
     "output_type": "stream",
     "text": [
      "epoch: 260 loss:0.339371 auc:0.5169\n",
      "Fit finished.\n",
      "epoch:   0 loss:0.723375 auc:0.4352\n",
      "epoch:  20 loss:0.387244 auc:0.6451\n",
      "epoch:  40 loss:0.375504 auc:0.6451\n",
      "epoch:  60 loss:0.372259 auc:0.6667\n",
      "epoch:  80 loss:0.371005 auc:0.6605\n",
      "epoch: 100 loss:0.369769 auc:0.6420\n",
      "epoch: 120 loss:0.367748 auc:0.6296\n",
      "epoch: 140 loss:0.363684 auc:0.6605\n",
      "epoch: 160 loss:0.357649 auc:0.7068\n",
      "epoch: 180 loss:0.354672 auc:0.7299\n",
      "epoch: 200 loss:0.343495 auc:0.7438\n",
      "epoch: 220 loss:0.333621 auc:0.7346\n",
      "epoch: 240 loss:0.322810 auc:0.6975\n",
      "epoch: 260 loss:0.313265 auc:0.7840\n",
      "epoch: 280 loss:0.309921 auc:0.7778\n",
      "epoch: 300 loss:0.297442 auc:0.7377\n",
      "epoch: 320 loss:0.290158 auc:0.7716\n",
      "epoch: 340 loss:0.285188 auc:0.7809\n",
      "epoch: 360 loss:0.280689 auc:0.7685\n",
      "epoch: 380 loss:0.278130 auc:0.7623\n",
      "epoch: 400 loss:0.275647 auc:0.7623\n"
     ]
    },
    {
     "name": "stderr",
     "output_type": "stream",
     "text": [
      "  7%|▋         | 30/460 [06:33<2:04:12, 17.33s/it]"
     ]
    },
    {
     "name": "stdout",
     "output_type": "stream",
     "text": [
      "epoch: 420 loss:0.273297 auc:0.7716\n",
      "Fit finished.\n",
      "epoch:   0 loss:0.824833 auc:0.5028\n",
      "epoch:  20 loss:0.402189 auc:0.5350\n",
      "epoch:  40 loss:0.377211 auc:0.5803\n",
      "epoch:  60 loss:0.373707 auc:0.6106\n",
      "epoch:  80 loss:0.372276 auc:0.6408\n",
      "epoch: 100 loss:0.371399 auc:0.6371\n",
      "epoch: 120 loss:0.370223 auc:0.6560\n",
      "epoch: 140 loss:0.368107 auc:0.6578\n",
      "epoch: 160 loss:0.364287 auc:0.6938\n",
      "epoch: 180 loss:0.358993 auc:0.7051\n",
      "epoch: 200 loss:0.353623 auc:0.7013\n",
      "epoch: 220 loss:0.347578 auc:0.6597\n",
      "epoch: 240 loss:0.341207 auc:0.6503\n",
      "epoch: 260 loss:0.333920 auc:0.6616\n"
     ]
    },
    {
     "name": "stderr",
     "output_type": "stream",
     "text": [
      "  7%|▋         | 32/460 [06:47<1:29:26, 12.54s/it]"
     ]
    },
    {
     "name": "stdout",
     "output_type": "stream",
     "text": [
      "epoch: 280 loss:0.326778 auc:0.6427\n",
      "Fit finished.\n",
      "epoch:   0 loss:0.784494 auc:0.5311\n",
      "epoch:  20 loss:0.393813 auc:0.5038\n",
      "epoch:  40 loss:0.375164 auc:0.5108\n",
      "epoch:  60 loss:0.371585 auc:0.5153\n",
      "epoch:  80 loss:0.370192 auc:0.5232\n",
      "epoch: 100 loss:0.368881 auc:0.5282\n",
      "epoch: 120 loss:0.366883 auc:0.5304\n",
      "epoch: 140 loss:0.363120 auc:0.5275\n"
     ]
    },
    {
     "name": "stderr",
     "output_type": "stream",
     "text": [
      "  7%|▋         | 33/460 [06:55<1:22:12, 11.55s/it]"
     ]
    },
    {
     "name": "stdout",
     "output_type": "stream",
     "text": [
      "epoch: 160 loss:0.357796 auc:0.5142\n",
      "Fit finished.\n",
      "epoch:   0 loss:0.903420 auc:0.4506\n",
      "epoch:  20 loss:0.410573 auc:0.5401\n",
      "epoch:  40 loss:0.382859 auc:0.5494\n",
      "epoch:  60 loss:0.375160 auc:0.5031\n",
      "epoch:  80 loss:0.372712 auc:0.4907\n",
      "epoch: 100 loss:0.371746 auc:0.4938\n",
      "epoch: 120 loss:0.371094 auc:0.5031\n",
      "epoch: 140 loss:0.370449 auc:0.5062\n",
      "epoch: 160 loss:0.369682 auc:0.5031\n"
     ]
    },
    {
     "name": "stderr",
     "output_type": "stream",
     "text": [
      "  7%|▋         | 34/460 [07:03<1:15:26, 10.62s/it]"
     ]
    },
    {
     "name": "stdout",
     "output_type": "stream",
     "text": [
      "epoch: 180 loss:0.368602 auc:0.5093\n",
      "Fit finished.\n",
      "epoch:   0 loss:0.825710 auc:0.4490\n",
      "epoch:  20 loss:0.393146 auc:0.6049\n",
      "epoch:  40 loss:0.376684 auc:0.6302\n",
      "epoch:  60 loss:0.372607 auc:0.6269\n",
      "epoch:  80 loss:0.371265 auc:0.6400\n",
      "epoch: 100 loss:0.370213 auc:0.6482\n",
      "epoch: 120 loss:0.368776 auc:0.6637\n",
      "epoch: 140 loss:0.366230 auc:0.6931\n",
      "epoch: 160 loss:0.361583 auc:0.7527\n",
      "epoch: 180 loss:0.356155 auc:0.7624\n",
      "epoch: 200 loss:0.349823 auc:0.7616\n",
      "epoch: 220 loss:0.343214 auc:0.7420\n",
      "epoch: 240 loss:0.333775 auc:0.7641\n",
      "epoch: 260 loss:0.325434 auc:0.7714\n",
      "epoch: 280 loss:0.320043 auc:0.7935\n",
      "epoch: 300 loss:0.310381 auc:0.7918\n",
      "epoch: 320 loss:0.303563 auc:0.8237\n",
      "epoch: 340 loss:0.297999 auc:0.8302\n",
      "epoch: 360 loss:0.290707 auc:0.8555\n",
      "epoch: 380 loss:0.285589 auc:0.8702\n",
      "epoch: 400 loss:0.308775 auc:0.8384\n",
      "epoch: 420 loss:0.283471 auc:0.8563\n",
      "epoch: 440 loss:0.278210 auc:0.8604\n",
      "epoch: 460 loss:0.275526 auc:0.8620\n",
      "epoch: 480 loss:0.273457 auc:0.8612\n",
      "epoch: 500 loss:0.271683 auc:0.8563\n",
      "epoch: 520 loss:0.270831 auc:0.8563\n"
     ]
    },
    {
     "name": "stderr",
     "output_type": "stream",
     "text": [
      "  8%|▊         | 35/460 [07:34<1:53:17, 15.99s/it]"
     ]
    },
    {
     "name": "stdout",
     "output_type": "stream",
     "text": [
      "epoch: 540 loss:0.269044 auc:0.8580\n",
      "Fit finished.\n",
      "epoch:   0 loss:0.814285 auc:0.4043\n",
      "epoch:  20 loss:0.405634 auc:0.6636\n",
      "epoch:  40 loss:0.379333 auc:0.7963\n",
      "epoch:  60 loss:0.373639 auc:0.8673\n",
      "epoch:  80 loss:0.372311 auc:0.8735\n",
      "epoch: 100 loss:0.371645 auc:0.8488\n",
      "epoch: 120 loss:0.371055 auc:0.8241\n",
      "epoch: 140 loss:0.370358 auc:0.8025\n",
      "epoch: 160 loss:0.369365 auc:0.7685\n",
      "epoch: 180 loss:0.367687 auc:0.7747\n",
      "epoch: 200 loss:0.364620 auc:0.8148\n",
      "epoch: 220 loss:0.360104 auc:0.8704\n"
     ]
    },
    {
     "name": "stderr",
     "output_type": "stream",
     "text": [
      "  8%|▊         | 37/460 [07:46<1:22:05, 11.64s/it]"
     ]
    },
    {
     "name": "stdout",
     "output_type": "stream",
     "text": [
      "epoch: 240 loss:0.355212 auc:0.8488\n",
      "Fit finished.\n",
      "epoch:   0 loss:0.756081 auc:0.6458\n",
      "epoch:  20 loss:0.397944 auc:0.6250\n",
      "epoch:  40 loss:0.376821 auc:0.6319\n",
      "epoch:  60 loss:0.373397 auc:0.6458\n",
      "epoch:  80 loss:0.372338 auc:0.6667\n",
      "epoch: 100 loss:0.371711 auc:0.6736\n",
      "epoch: 120 loss:0.371119 auc:0.7083\n",
      "epoch: 140 loss:0.370312 auc:0.7361\n",
      "epoch: 160 loss:0.368887 auc:0.7708\n",
      "epoch: 180 loss:0.365937 auc:0.7986\n",
      "epoch: 200 loss:0.361412 auc:0.7986\n",
      "epoch: 220 loss:0.357160 auc:0.8403\n",
      "epoch: 240 loss:0.352772 auc:0.8264\n",
      "epoch: 260 loss:0.348305 auc:0.8333\n",
      "epoch: 280 loss:0.340990 auc:0.7986\n",
      "epoch: 300 loss:0.332884 auc:0.7639\n",
      "epoch: 320 loss:0.325194 auc:0.7847\n"
     ]
    },
    {
     "name": "stderr",
     "output_type": "stream",
     "text": [
      "  8%|▊         | 39/460 [08:03<1:13:37, 10.49s/it]"
     ]
    },
    {
     "name": "stdout",
     "output_type": "stream",
     "text": [
      "epoch: 340 loss:0.319076 auc:0.7917\n",
      "Fit finished.\n",
      "epoch:   0 loss:0.704460 auc:0.4931\n",
      "epoch:  20 loss:0.400282 auc:0.5301\n",
      "epoch:  40 loss:0.377027 auc:0.5466\n",
      "epoch:  60 loss:0.373251 auc:0.5294\n",
      "epoch:  80 loss:0.371727 auc:0.5341\n",
      "epoch: 100 loss:0.370981 auc:0.5469\n",
      "epoch: 120 loss:0.370277 auc:0.5590\n",
      "epoch: 140 loss:0.369359 auc:0.5656\n",
      "epoch: 160 loss:0.367989 auc:0.5518\n",
      "epoch: 180 loss:0.365480 auc:0.5429\n",
      "epoch: 200 loss:0.360740 auc:0.5596\n",
      "epoch: 220 loss:0.355194 auc:0.5739\n",
      "epoch: 240 loss:0.349722 auc:0.5616\n",
      "epoch: 260 loss:0.343503 auc:0.5538\n",
      "epoch: 280 loss:0.338177 auc:0.5859\n",
      "epoch: 300 loss:0.331375 auc:0.6139\n",
      "epoch: 320 loss:0.324558 auc:0.6432\n",
      "epoch: 340 loss:0.319135 auc:0.6399\n",
      "epoch: 360 loss:0.313105 auc:0.6389\n",
      "epoch: 380 loss:0.305126 auc:0.6333\n",
      "epoch: 400 loss:0.298968 auc:0.6285\n",
      "epoch: 420 loss:0.296090 auc:0.6184\n",
      "epoch: 440 loss:0.289685 auc:0.6221\n",
      "epoch: 460 loss:0.287010 auc:0.6153\n"
     ]
    },
    {
     "name": "stderr",
     "output_type": "stream",
     "text": [
      "  9%|▊         | 40/460 [08:29<1:36:27, 13.78s/it]"
     ]
    },
    {
     "name": "stdout",
     "output_type": "stream",
     "text": [
      "epoch: 480 loss:0.281916 auc:0.6157\n",
      "Fit finished.\n",
      "epoch:   0 loss:0.818952 auc:0.4903\n",
      "epoch:  20 loss:0.405121 auc:0.5568\n",
      "epoch:  40 loss:0.378659 auc:0.5762\n",
      "epoch:  60 loss:0.374142 auc:0.5596\n",
      "epoch:  80 loss:0.372561 auc:0.5734\n",
      "epoch: 100 loss:0.371737 auc:0.6011\n",
      "epoch: 120 loss:0.370999 auc:0.6233\n",
      "epoch: 140 loss:0.370091 auc:0.6454\n",
      "epoch: 160 loss:0.368719 auc:0.6593\n",
      "epoch: 180 loss:0.366282 auc:0.7036\n",
      "epoch: 200 loss:0.362331 auc:0.7701\n",
      "epoch: 220 loss:0.357984 auc:0.7562\n",
      "epoch: 240 loss:0.353455 auc:0.7479\n",
      "epoch: 260 loss:0.348060 auc:0.7479\n",
      "epoch: 280 loss:0.342930 auc:0.7590\n",
      "epoch: 300 loss:0.336833 auc:0.7535\n",
      "epoch: 320 loss:0.330373 auc:0.7368\n"
     ]
    },
    {
     "name": "stderr",
     "output_type": "stream",
     "text": [
      "  9%|▉         | 41/460 [08:47<1:42:39, 14.70s/it]"
     ]
    },
    {
     "name": "stdout",
     "output_type": "stream",
     "text": [
      "epoch: 340 loss:0.323733 auc:0.6676\n",
      "Fit finished.\n",
      "epoch:   0 loss:0.788821 auc:0.4746\n",
      "epoch:  20 loss:0.400767 auc:0.6475\n",
      "epoch:  40 loss:0.379985 auc:0.6502\n",
      "epoch:  60 loss:0.374257 auc:0.6283\n",
      "epoch:  80 loss:0.372736 auc:0.6310\n",
      "epoch: 100 loss:0.372000 auc:0.6324\n",
      "epoch: 120 loss:0.371446 auc:0.6392\n",
      "epoch: 140 loss:0.370827 auc:0.6420\n",
      "epoch: 160 loss:0.369984 auc:0.6365\n"
     ]
    },
    {
     "name": "stderr",
     "output_type": "stream",
     "text": [
      "  9%|▉         | 42/460 [08:56<1:33:06, 13.37s/it]"
     ]
    },
    {
     "name": "stdout",
     "output_type": "stream",
     "text": [
      "epoch: 180 loss:0.368640 auc:0.6447\n",
      "Fit finished.\n",
      "epoch:   0 loss:0.803738 auc:0.4615\n",
      "epoch:  20 loss:0.405989 auc:0.6627\n",
      "epoch:  40 loss:0.379849 auc:0.7692\n",
      "epoch:  60 loss:0.373760 auc:0.7811\n",
      "epoch:  80 loss:0.372057 auc:0.7811\n",
      "epoch: 100 loss:0.371129 auc:0.7870\n",
      "epoch: 120 loss:0.370150 auc:0.7988\n",
      "epoch: 140 loss:0.368671 auc:0.8047\n",
      "epoch: 160 loss:0.365994 auc:0.8343\n",
      "epoch: 180 loss:0.361528 auc:0.8817\n",
      "epoch: 200 loss:0.356616 auc:0.8994\n",
      "epoch: 220 loss:0.351773 auc:0.8817\n",
      "epoch: 240 loss:0.349411 auc:0.8580\n",
      "epoch: 260 loss:0.340574 auc:0.8462\n",
      "epoch: 280 loss:0.334277 auc:0.8521\n",
      "epoch: 300 loss:0.328500 auc:0.8698\n",
      "epoch: 320 loss:0.320824 auc:0.8698\n",
      "epoch: 340 loss:0.313270 auc:0.8876\n"
     ]
    },
    {
     "name": "stderr",
     "output_type": "stream",
     "text": [
      " 10%|▉         | 44/460 [09:17<1:24:19, 12.16s/it]"
     ]
    },
    {
     "name": "stdout",
     "output_type": "stream",
     "text": [
      "epoch: 360 loss:0.307109 auc:0.8935\n",
      "Fit finished.\n",
      "epoch:   0 loss:0.866260 auc:0.3850\n",
      "epoch:  20 loss:0.402188 auc:0.4765\n",
      "epoch:  40 loss:0.377209 auc:0.5291\n",
      "epoch:  60 loss:0.373185 auc:0.5651\n",
      "epoch:  80 loss:0.372063 auc:0.5983\n",
      "epoch: 100 loss:0.371324 auc:0.6233\n",
      "epoch: 120 loss:0.370576 auc:0.6925\n",
      "epoch: 140 loss:0.369558 auc:0.7507\n",
      "epoch: 160 loss:0.367882 auc:0.8227\n",
      "epoch: 180 loss:0.364688 auc:0.8698\n",
      "epoch: 200 loss:0.359405 auc:0.8781\n",
      "epoch: 220 loss:0.353667 auc:0.8781\n",
      "epoch: 240 loss:0.347788 auc:0.9030\n",
      "epoch: 260 loss:0.340355 auc:0.8892\n",
      "epoch: 280 loss:0.336769 auc:0.8061\n",
      "epoch: 300 loss:0.324240 auc:0.8504\n"
     ]
    },
    {
     "name": "stderr",
     "output_type": "stream",
     "text": [
      " 10%|▉         | 45/460 [09:33<1:31:07, 13.17s/it]"
     ]
    },
    {
     "name": "stdout",
     "output_type": "stream",
     "text": [
      "epoch: 320 loss:0.317238 auc:0.7812\n",
      "Fit finished.\n",
      "epoch:   0 loss:0.708130 auc:0.5895\n",
      "epoch:  20 loss:0.381043 auc:0.5556\n",
      "epoch:  40 loss:0.372898 auc:0.5675\n",
      "epoch:  60 loss:0.370819 auc:0.5767\n",
      "epoch:  80 loss:0.368708 auc:0.6033\n",
      "epoch: 100 loss:0.364444 auc:0.6419\n",
      "epoch: 120 loss:0.357513 auc:0.6731\n",
      "epoch: 140 loss:0.350087 auc:0.6777\n",
      "epoch: 160 loss:0.340283 auc:0.6768\n",
      "epoch: 180 loss:0.334053 auc:0.6648\n",
      "epoch: 200 loss:0.322367 auc:0.6786\n",
      "epoch: 220 loss:0.310819 auc:0.6722\n",
      "epoch: 240 loss:0.302897 auc:0.6676\n",
      "epoch: 260 loss:0.294927 auc:0.6639\n"
     ]
    },
    {
     "name": "stderr",
     "output_type": "stream",
     "text": [
      " 10%|█         | 46/460 [09:46<1:30:08, 13.06s/it]"
     ]
    },
    {
     "name": "stdout",
     "output_type": "stream",
     "text": [
      "epoch: 280 loss:0.289436 auc:0.6538\n",
      "Fit finished.\n",
      "epoch:   0 loss:0.769790 auc:0.5074\n",
      "epoch:  20 loss:0.392101 auc:0.5781\n",
      "epoch:  40 loss:0.376555 auc:0.6033\n",
      "epoch:  60 loss:0.372826 auc:0.6097\n",
      "epoch:  80 loss:0.371706 auc:0.6095\n",
      "epoch: 100 loss:0.371049 auc:0.6095\n",
      "epoch: 120 loss:0.370375 auc:0.6082\n",
      "epoch: 140 loss:0.369469 auc:0.6054\n",
      "epoch: 160 loss:0.368018 auc:0.6076\n",
      "epoch: 180 loss:0.365379 auc:0.6147\n",
      "epoch: 200 loss:0.361247 auc:0.6172\n"
     ]
    },
    {
     "name": "stderr",
     "output_type": "stream",
     "text": [
      " 10%|█         | 47/460 [09:57<1:25:30, 12.42s/it]"
     ]
    },
    {
     "name": "stdout",
     "output_type": "stream",
     "text": [
      "epoch: 220 loss:0.356816 auc:0.5998\n",
      "Fit finished.\n",
      "epoch:   0 loss:0.757647 auc:0.5605\n",
      "epoch:  20 loss:0.390564 auc:0.6234\n",
      "epoch:  40 loss:0.375884 auc:0.6360\n",
      "epoch:  60 loss:0.372534 auc:0.6362\n",
      "epoch:  80 loss:0.371332 auc:0.6488\n",
      "epoch: 100 loss:0.370494 auc:0.6544\n",
      "epoch: 120 loss:0.369541 auc:0.6507\n",
      "epoch: 140 loss:0.368117 auc:0.6573\n",
      "epoch: 160 loss:0.365609 auc:0.6724\n",
      "epoch: 180 loss:0.361573 auc:0.6942\n",
      "epoch: 200 loss:0.357153 auc:0.6949\n",
      "epoch: 220 loss:0.352509 auc:0.6975\n",
      "epoch: 240 loss:0.357160 auc:0.6999\n",
      "epoch: 260 loss:0.342488 auc:0.6970\n",
      "epoch: 280 loss:0.333364 auc:0.6980\n",
      "epoch: 300 loss:0.326771 auc:0.6831\n"
     ]
    },
    {
     "name": "stderr",
     "output_type": "stream",
     "text": [
      " 11%|█         | 50/460 [10:11<56:41,  8.30s/it]  "
     ]
    },
    {
     "name": "stdout",
     "output_type": "stream",
     "text": [
      "epoch: 320 loss:0.316801 auc:0.6701\n",
      "Fit finished.\n",
      "epoch:   0 loss:0.753079 auc:0.2646\n",
      "epoch:  20 loss:0.392859 auc:0.3766\n",
      "epoch:  40 loss:0.375048 auc:0.2760\n",
      "epoch:  60 loss:0.371925 auc:0.2370\n",
      "epoch:  80 loss:0.370654 auc:0.2192\n",
      "epoch: 100 loss:0.369551 auc:0.1883\n",
      "epoch: 120 loss:0.367659 auc:0.1672\n",
      "epoch: 140 loss:0.363482 auc:0.1104\n"
     ]
    },
    {
     "name": "stderr",
     "output_type": "stream",
     "text": [
      " 12%|█▏        | 53/460 [10:18<39:09,  5.77s/it]"
     ]
    },
    {
     "name": "stdout",
     "output_type": "stream",
     "text": [
      "epoch: 160 loss:0.357654 auc:0.0812\n",
      "Fit finished.\n",
      "epoch:   0 loss:0.719923 auc:0.5743\n",
      "epoch:  20 loss:0.404738 auc:0.6171\n",
      "epoch:  40 loss:0.378728 auc:0.6849\n",
      "epoch:  60 loss:0.373520 auc:0.7015\n",
      "epoch:  80 loss:0.371808 auc:0.7277\n",
      "epoch: 100 loss:0.370830 auc:0.7455\n",
      "epoch: 120 loss:0.369720 auc:0.7479\n",
      "epoch: 140 loss:0.367876 auc:0.7491\n",
      "epoch: 160 loss:0.364132 auc:0.7622\n",
      "epoch: 180 loss:0.358343 auc:0.8002\n",
      "epoch: 200 loss:0.353108 auc:0.7788\n",
      "epoch: 220 loss:0.346428 auc:0.7479\n",
      "epoch: 240 loss:0.340303 auc:0.7384\n",
      "epoch: 260 loss:0.332343 auc:0.7503\n"
     ]
    },
    {
     "name": "stderr",
     "output_type": "stream",
     "text": [
      " 12%|█▏        | 54/460 [10:29<45:36,  6.74s/it]"
     ]
    },
    {
     "name": "stdout",
     "output_type": "stream",
     "text": [
      "epoch: 280 loss:0.326113 auc:0.7396\n",
      "Fit finished.\n",
      "epoch:   0 loss:0.808929 auc:0.5061\n",
      "epoch:  20 loss:0.401620 auc:0.5168\n",
      "epoch:  40 loss:0.379081 auc:0.5318\n",
      "epoch:  60 loss:0.374157 auc:0.5386\n",
      "epoch:  80 loss:0.372573 auc:0.5423\n",
      "epoch: 100 loss:0.371737 auc:0.5484\n",
      "epoch: 120 loss:0.371042 auc:0.5502\n",
      "epoch: 140 loss:0.370230 auc:0.5491\n",
      "epoch: 160 loss:0.369038 auc:0.5456\n",
      "epoch: 180 loss:0.366981 auc:0.5364\n"
     ]
    },
    {
     "name": "stderr",
     "output_type": "stream",
     "text": [
      " 12%|█▏        | 57/460 [10:38<34:24,  5.12s/it]"
     ]
    },
    {
     "name": "stdout",
     "output_type": "stream",
     "text": [
      "epoch: 200 loss:0.363548 auc:0.5088\n",
      "Fit finished.\n",
      "epoch:   0 loss:0.708025 auc:0.3611\n",
      "epoch:  20 loss:0.391124 auc:0.6111\n",
      "epoch:  40 loss:0.375536 auc:0.6944\n",
      "epoch:  60 loss:0.372620 auc:0.7361\n",
      "epoch:  80 loss:0.371149 auc:0.7569\n",
      "epoch: 100 loss:0.369408 auc:0.7569\n",
      "epoch: 120 loss:0.366125 auc:0.7569\n",
      "epoch: 140 loss:0.360809 auc:0.7222\n",
      "epoch: 160 loss:0.355542 auc:0.6250\n"
     ]
    },
    {
     "name": "stderr",
     "output_type": "stream",
     "text": [
      " 13%|█▎        | 59/460 [10:46<31:52,  4.77s/it]"
     ]
    },
    {
     "name": "stdout",
     "output_type": "stream",
     "text": [
      "epoch: 180 loss:0.350301 auc:0.5556\n",
      "Fit finished.\n",
      "epoch:   0 loss:0.818718 auc:0.4893\n",
      "epoch:  20 loss:0.404852 auc:0.5801\n",
      "epoch:  40 loss:0.378095 auc:0.6553\n",
      "epoch:  60 loss:0.373705 auc:0.6621\n",
      "epoch:  80 loss:0.372248 auc:0.6689\n",
      "epoch: 100 loss:0.371536 auc:0.6641\n",
      "epoch: 120 loss:0.370894 auc:0.6719\n",
      "epoch: 140 loss:0.370079 auc:0.6846\n",
      "epoch: 160 loss:0.368832 auc:0.6992\n",
      "epoch: 180 loss:0.366497 auc:0.7236\n",
      "epoch: 200 loss:0.362019 auc:0.7676\n",
      "epoch: 220 loss:0.356472 auc:0.8008\n",
      "epoch: 240 loss:0.350035 auc:0.8193\n",
      "epoch: 260 loss:0.343438 auc:0.8184\n",
      "epoch: 280 loss:0.336211 auc:0.7881\n",
      "epoch: 300 loss:0.328631 auc:0.7852\n",
      "epoch: 320 loss:0.321825 auc:0.7559\n",
      "epoch: 340 loss:0.316050 auc:0.7266\n"
     ]
    },
    {
     "name": "stderr",
     "output_type": "stream",
     "text": [
      " 13%|█▎        | 61/460 [11:01<37:30,  5.64s/it]"
     ]
    },
    {
     "name": "stdout",
     "output_type": "stream",
     "text": [
      "epoch: 360 loss:0.306753 auc:0.7480\n",
      "Fit finished.\n",
      "epoch:   0 loss:0.651882 auc:0.4105\n",
      "epoch:  20 loss:0.393581 auc:0.3426\n",
      "epoch:  40 loss:0.375607 auc:0.3549\n",
      "epoch:  60 loss:0.372284 auc:0.3426\n",
      "epoch:  80 loss:0.371209 auc:0.3457\n",
      "epoch: 100 loss:0.370242 auc:0.3148\n",
      "epoch: 120 loss:0.368790 auc:0.3210\n",
      "epoch: 140 loss:0.365808 auc:0.3241\n"
     ]
    },
    {
     "name": "stderr",
     "output_type": "stream",
     "text": [
      " 13%|█▎        | 62/460 [11:09<40:07,  6.05s/it]"
     ]
    },
    {
     "name": "stdout",
     "output_type": "stream",
     "text": [
      "epoch: 160 loss:0.359999 auc:0.3488\n",
      "Fit finished.\n",
      "epoch:   0 loss:0.771116 auc:0.5011\n",
      "epoch:  20 loss:0.387198 auc:0.5094\n",
      "epoch:  40 loss:0.374761 auc:0.5698\n",
      "epoch:  60 loss:0.371238 auc:0.5806\n",
      "epoch:  80 loss:0.369960 auc:0.5890\n",
      "epoch: 100 loss:0.368708 auc:0.6003\n",
      "epoch: 120 loss:0.366844 auc:0.6125\n",
      "epoch: 140 loss:0.363564 auc:0.6361\n",
      "epoch: 160 loss:0.358784 auc:0.6652\n",
      "epoch: 180 loss:0.353674 auc:0.6840\n",
      "epoch: 200 loss:0.349747 auc:0.6915\n",
      "epoch: 220 loss:0.340469 auc:0.6855\n",
      "epoch: 240 loss:0.337489 auc:0.6695\n",
      "epoch: 260 loss:0.324688 auc:0.6226\n",
      "epoch: 280 loss:0.314724 auc:0.6312\n"
     ]
    },
    {
     "name": "stderr",
     "output_type": "stream",
     "text": [
      " 14%|█▍        | 64/460 [11:24<42:40,  6.47s/it]"
     ]
    },
    {
     "name": "stdout",
     "output_type": "stream",
     "text": [
      "epoch: 300 loss:0.315166 auc:0.5622\n",
      "Fit finished.\n",
      "epoch:   0 loss:0.898128 auc:0.3937\n",
      "epoch:  20 loss:0.393435 auc:0.6488\n",
      "epoch:  40 loss:0.376439 auc:0.6529\n",
      "epoch:  60 loss:0.372977 auc:0.6941\n",
      "epoch:  80 loss:0.371584 auc:0.7023\n",
      "epoch: 100 loss:0.370467 auc:0.7243\n",
      "epoch: 120 loss:0.368711 auc:0.7394\n",
      "epoch: 140 loss:0.364828 auc:0.7723\n",
      "epoch: 160 loss:0.358165 auc:0.8162\n",
      "epoch: 180 loss:0.352184 auc:0.7956\n",
      "epoch: 200 loss:0.349631 auc:0.7874\n",
      "epoch: 220 loss:0.338765 auc:0.7888\n",
      "epoch: 240 loss:0.337252 auc:0.7586\n",
      "epoch: 260 loss:0.322480 auc:0.7641\n",
      "epoch: 280 loss:0.312947 auc:0.7462\n"
     ]
    },
    {
     "name": "stderr",
     "output_type": "stream",
     "text": [
      " 15%|█▍        | 68/460 [11:41<35:16,  5.40s/it]"
     ]
    },
    {
     "name": "stdout",
     "output_type": "stream",
     "text": [
      "epoch: 300 loss:0.312458 auc:0.6776\n",
      "Fit finished.\n",
      "epoch:   0 loss:0.703568 auc:0.4541\n",
      "epoch:  20 loss:0.391930 auc:0.5344\n",
      "epoch:  40 loss:0.375588 auc:0.5676\n",
      "epoch:  60 loss:0.372452 auc:0.6084\n",
      "epoch:  80 loss:0.371003 auc:0.6301\n",
      "epoch: 100 loss:0.369426 auc:0.6378\n",
      "epoch: 120 loss:0.366581 auc:0.6633\n",
      "epoch: 140 loss:0.361449 auc:0.6977\n",
      "epoch: 160 loss:0.355864 auc:0.7117\n",
      "epoch: 180 loss:0.351582 auc:0.7207\n",
      "epoch: 200 loss:0.343808 auc:0.6990\n",
      "epoch: 220 loss:0.340119 auc:0.6097\n"
     ]
    },
    {
     "name": "stderr",
     "output_type": "stream",
     "text": [
      " 15%|█▌        | 69/460 [11:52<40:45,  6.26s/it]"
     ]
    },
    {
     "name": "stdout",
     "output_type": "stream",
     "text": [
      "epoch: 240 loss:0.328051 auc:0.6148\n",
      "Fit finished.\n",
      "epoch:   0 loss:0.863246 auc:0.4775\n",
      "epoch:  20 loss:0.393890 auc:0.5813\n",
      "epoch:  40 loss:0.378964 auc:0.6367\n",
      "epoch:  60 loss:0.374187 auc:0.6228\n",
      "epoch:  80 loss:0.372756 auc:0.6298\n",
      "epoch: 100 loss:0.372057 auc:0.6194\n",
      "epoch: 120 loss:0.371496 auc:0.6471\n",
      "epoch: 140 loss:0.370910 auc:0.6713\n",
      "epoch: 160 loss:0.370184 auc:0.6851\n",
      "epoch: 180 loss:0.369159 auc:0.6920\n",
      "epoch: 200 loss:0.367452 auc:0.7059\n",
      "epoch: 220 loss:0.364322 auc:0.7024\n",
      "epoch: 240 loss:0.359919 auc:0.7197\n",
      "epoch: 260 loss:0.355363 auc:0.7474\n",
      "epoch: 280 loss:0.349861 auc:0.7612\n",
      "epoch: 300 loss:0.344360 auc:0.7301\n"
     ]
    },
    {
     "name": "stderr",
     "output_type": "stream",
     "text": [
      " 15%|█▌        | 71/460 [12:06<41:52,  6.46s/it]"
     ]
    },
    {
     "name": "stdout",
     "output_type": "stream",
     "text": [
      "epoch: 320 loss:0.334848 auc:0.6747\n",
      "Fit finished.\n",
      "epoch:   0 loss:0.811098 auc:0.5042\n",
      "epoch:  20 loss:0.391077 auc:0.5067\n",
      "epoch:  40 loss:0.374640 auc:0.5251\n",
      "epoch:  60 loss:0.371914 auc:0.5438\n",
      "epoch:  80 loss:0.370768 auc:0.5570\n",
      "epoch: 100 loss:0.369981 auc:0.5695\n",
      "epoch: 120 loss:0.369041 auc:0.5817\n",
      "epoch: 140 loss:0.367526 auc:0.5895\n",
      "epoch: 160 loss:0.364699 auc:0.5960\n",
      "epoch: 180 loss:0.360219 auc:0.5962\n",
      "epoch: 200 loss:0.355118 auc:0.5930\n",
      "epoch: 220 loss:0.349162 auc:0.5887\n",
      "epoch: 240 loss:0.342651 auc:0.5861\n",
      "epoch: 260 loss:0.332033 auc:0.5704\n"
     ]
    },
    {
     "name": "stderr",
     "output_type": "stream",
     "text": [
      " 16%|█▌        | 72/460 [12:18<48:20,  7.48s/it]"
     ]
    },
    {
     "name": "stdout",
     "output_type": "stream",
     "text": [
      "epoch: 280 loss:0.323556 auc:0.5552\n",
      "Fit finished.\n",
      "epoch:   0 loss:0.875829 auc:0.5175\n",
      "epoch:  20 loss:0.403758 auc:0.4816\n",
      "epoch:  40 loss:0.376570 auc:0.4980\n",
      "epoch:  60 loss:0.372317 auc:0.5149\n",
      "epoch:  80 loss:0.370804 auc:0.5239\n",
      "epoch: 100 loss:0.370074 auc:0.5339\n",
      "epoch: 120 loss:0.369446 auc:0.5401\n",
      "epoch: 140 loss:0.368714 auc:0.5446\n",
      "epoch: 160 loss:0.367661 auc:0.5464\n",
      "epoch: 180 loss:0.365764 auc:0.5430\n",
      "epoch: 200 loss:0.362035 auc:0.5300\n"
     ]
    },
    {
     "name": "stderr",
     "output_type": "stream",
     "text": [
      " 16%|█▌        | 73/460 [12:29<52:00,  8.06s/it]"
     ]
    },
    {
     "name": "stdout",
     "output_type": "stream",
     "text": [
      "epoch: 220 loss:0.357148 auc:0.5121\n",
      "Fit finished.\n",
      "epoch:   0 loss:0.798887 auc:0.5099\n",
      "epoch:  20 loss:0.384170 auc:0.4940\n",
      "epoch:  40 loss:0.374015 auc:0.4905\n",
      "epoch:  60 loss:0.371126 auc:0.4836\n",
      "epoch:  80 loss:0.369969 auc:0.4863\n",
      "epoch: 100 loss:0.368678 auc:0.4913\n",
      "epoch: 120 loss:0.366495 auc:0.4794\n",
      "epoch: 140 loss:0.361880 auc:0.4388\n"
     ]
    },
    {
     "name": "stderr",
     "output_type": "stream",
     "text": [
      " 16%|█▌        | 74/460 [12:37<52:00,  8.08s/it]"
     ]
    },
    {
     "name": "stdout",
     "output_type": "stream",
     "text": [
      "epoch: 160 loss:0.355730 auc:0.3928\n",
      "Fit finished.\n",
      "epoch:   0 loss:0.801107 auc:0.4921\n",
      "epoch:  20 loss:0.392853 auc:0.4707\n",
      "epoch:  40 loss:0.377979 auc:0.5022\n",
      "epoch:  60 loss:0.373154 auc:0.4985\n",
      "epoch:  80 loss:0.371583 auc:0.5008\n",
      "epoch: 100 loss:0.370623 auc:0.5129\n",
      "epoch: 120 loss:0.369688 auc:0.5216\n",
      "epoch: 140 loss:0.368461 auc:0.5267\n",
      "epoch: 160 loss:0.366555 auc:0.5240\n",
      "epoch: 180 loss:0.363308 auc:0.5147\n",
      "epoch: 200 loss:0.358783 auc:0.5024\n",
      "epoch: 220 loss:0.354142 auc:0.5031\n",
      "epoch: 240 loss:0.349148 auc:0.5028\n"
     ]
    },
    {
     "name": "stderr",
     "output_type": "stream",
     "text": [
      " 16%|█▋        | 75/460 [12:48<56:19,  8.78s/it]"
     ]
    },
    {
     "name": "stdout",
     "output_type": "stream",
     "text": [
      "epoch: 260 loss:0.342580 auc:0.5004\n",
      "Fit finished.\n",
      "epoch:   0 loss:0.962878 auc:0.4650\n",
      "epoch:  20 loss:0.401138 auc:0.3912\n",
      "epoch:  40 loss:0.378483 auc:0.4200\n",
      "epoch:  60 loss:0.373667 auc:0.4406\n",
      "epoch:  80 loss:0.372132 auc:0.4406\n",
      "epoch: 100 loss:0.371394 auc:0.4425\n",
      "epoch: 120 loss:0.370736 auc:0.4506\n",
      "epoch: 140 loss:0.369910 auc:0.4637\n",
      "epoch: 160 loss:0.368620 auc:0.4688\n",
      "epoch: 180 loss:0.366338 auc:0.4956\n",
      "epoch: 200 loss:0.362465 auc:0.5469\n",
      "epoch: 220 loss:0.357896 auc:0.5431\n",
      "epoch: 240 loss:0.353195 auc:0.5225\n",
      "epoch: 260 loss:0.347636 auc:0.4931\n",
      "epoch: 280 loss:0.341165 auc:0.4650\n"
     ]
    },
    {
     "name": "stderr",
     "output_type": "stream",
     "text": [
      " 17%|█▋        | 76/460 [13:02<1:04:30, 10.08s/it]"
     ]
    },
    {
     "name": "stdout",
     "output_type": "stream",
     "text": [
      "epoch: 300 loss:0.333163 auc:0.4419\n",
      "Fit finished.\n",
      "epoch:   0 loss:0.786204 auc:0.4996\n",
      "epoch:  20 loss:0.402775 auc:0.5316\n",
      "epoch:  40 loss:0.377219 auc:0.5324\n",
      "epoch:  60 loss:0.373013 auc:0.5436\n",
      "epoch:  80 loss:0.371508 auc:0.5477\n",
      "epoch: 100 loss:0.370455 auc:0.5579\n",
      "epoch: 120 loss:0.369253 auc:0.5612\n",
      "epoch: 140 loss:0.367294 auc:0.5561\n",
      "epoch: 160 loss:0.363642 auc:0.5378\n",
      "epoch: 180 loss:0.358346 auc:0.5324\n",
      "epoch: 200 loss:0.352166 auc:0.5509\n",
      "epoch: 220 loss:0.344789 auc:0.5698\n",
      "epoch: 240 loss:0.336049 auc:0.5605\n",
      "epoch: 260 loss:0.327659 auc:0.5806\n",
      "epoch: 280 loss:0.320258 auc:0.5964\n",
      "epoch: 300 loss:0.311893 auc:0.5881\n",
      "epoch: 320 loss:0.307990 auc:0.5769\n",
      "epoch: 340 loss:0.312364 auc:0.5870\n"
     ]
    },
    {
     "name": "stderr",
     "output_type": "stream",
     "text": [
      " 17%|█▋        | 79/460 [13:18<48:37,  7.66s/it]  "
     ]
    },
    {
     "name": "stdout",
     "output_type": "stream",
     "text": [
      "epoch: 360 loss:0.294717 auc:0.5429\n",
      "Fit finished.\n",
      "epoch:   0 loss:0.794614 auc:0.5372\n",
      "epoch:  20 loss:0.392455 auc:0.5917\n",
      "epoch:  40 loss:0.376700 auc:0.6505\n",
      "epoch:  60 loss:0.373278 auc:0.6618\n",
      "epoch:  80 loss:0.371959 auc:0.6747\n",
      "epoch: 100 loss:0.371089 auc:0.6869\n",
      "epoch: 120 loss:0.370003 auc:0.6920\n",
      "epoch: 140 loss:0.368407 auc:0.7189\n",
      "epoch: 160 loss:0.365547 auc:0.7266\n",
      "epoch: 180 loss:0.360672 auc:0.7561\n",
      "epoch: 200 loss:0.355796 auc:0.7578\n",
      "epoch: 220 loss:0.350784 auc:0.7552\n",
      "epoch: 240 loss:0.343501 auc:0.7690\n",
      "epoch: 260 loss:0.336722 auc:0.7535\n",
      "epoch: 280 loss:0.327308 auc:0.7621\n",
      "epoch: 300 loss:0.320471 auc:0.7336\n",
      "epoch: 320 loss:0.311883 auc:0.7526\n"
     ]
    },
    {
     "name": "stderr",
     "output_type": "stream",
     "text": [
      " 18%|█▊        | 81/460 [13:34<48:24,  7.66s/it]"
     ]
    },
    {
     "name": "stdout",
     "output_type": "stream",
     "text": [
      "epoch: 340 loss:0.304617 auc:0.7465\n",
      "Fit finished.\n",
      "epoch:   0 loss:0.772778 auc:0.5254\n",
      "epoch:  20 loss:0.391559 auc:0.5902\n",
      "epoch:  40 loss:0.375731 auc:0.5933\n",
      "epoch:  60 loss:0.372490 auc:0.5960\n",
      "epoch:  80 loss:0.371520 auc:0.6084\n",
      "epoch: 100 loss:0.370733 auc:0.6118\n",
      "epoch: 120 loss:0.369707 auc:0.6187\n",
      "epoch: 140 loss:0.368005 auc:0.6156\n",
      "epoch: 160 loss:0.364742 auc:0.6211\n",
      "epoch: 180 loss:0.359772 auc:0.6361\n",
      "epoch: 200 loss:0.354700 auc:0.6197\n",
      "epoch: 220 loss:0.349988 auc:0.6231\n",
      "epoch: 240 loss:0.343214 auc:0.6101\n",
      "epoch: 260 loss:0.336826 auc:0.6276\n"
     ]
    },
    {
     "name": "stderr",
     "output_type": "stream",
     "text": [
      " 18%|█▊        | 84/460 [13:45<37:50,  6.04s/it]"
     ]
    },
    {
     "name": "stdout",
     "output_type": "stream",
     "text": [
      "epoch: 280 loss:0.324325 auc:0.6132\n",
      "Fit finished.\n",
      "epoch:   0 loss:0.870540 auc:0.5185\n",
      "epoch:  20 loss:0.410134 auc:0.4829\n",
      "epoch:  40 loss:0.380931 auc:0.4925\n",
      "epoch:  60 loss:0.373217 auc:0.5033\n",
      "epoch:  80 loss:0.371152 auc:0.5100\n",
      "epoch: 100 loss:0.370084 auc:0.5156\n",
      "epoch: 120 loss:0.369038 auc:0.5186\n",
      "epoch: 140 loss:0.367465 auc:0.5211\n",
      "epoch: 160 loss:0.364536 auc:0.5197\n",
      "epoch: 180 loss:0.360413 auc:0.5134\n",
      "epoch: 200 loss:0.356421 auc:0.5055\n"
     ]
    },
    {
     "name": "stderr",
     "output_type": "stream",
     "text": [
      " 19%|█▉        | 87/460 [13:53<30:04,  4.84s/it]"
     ]
    },
    {
     "name": "stdout",
     "output_type": "stream",
     "text": [
      "epoch: 220 loss:0.352453 auc:0.4998\n",
      "Fit finished.\n",
      "epoch:   0 loss:0.778850 auc:0.6072\n",
      "epoch:  20 loss:0.399976 auc:0.4527\n",
      "epoch:  40 loss:0.376085 auc:0.5308\n",
      "epoch:  60 loss:0.372325 auc:0.5681\n",
      "epoch:  80 loss:0.370990 auc:0.5738\n",
      "epoch: 100 loss:0.370063 auc:0.5916\n",
      "epoch: 120 loss:0.368916 auc:0.6011\n",
      "epoch: 140 loss:0.366902 auc:0.6072\n",
      "epoch: 160 loss:0.362878 auc:0.6137\n",
      "epoch: 180 loss:0.357435 auc:0.6155\n",
      "epoch: 200 loss:0.352237 auc:0.6146\n",
      "epoch: 220 loss:0.346461 auc:0.6150\n",
      "epoch: 240 loss:0.338127 auc:0.6185\n",
      "epoch: 260 loss:0.328780 auc:0.6137\n",
      "epoch: 280 loss:0.320417 auc:0.6011\n"
     ]
    },
    {
     "name": "stderr",
     "output_type": "stream",
     "text": [
      " 19%|█▉        | 88/460 [14:06<37:44,  6.09s/it]"
     ]
    },
    {
     "name": "stdout",
     "output_type": "stream",
     "text": [
      "epoch: 300 loss:0.313297 auc:0.5903\n",
      "Fit finished.\n",
      "epoch:   0 loss:0.835097 auc:0.5694\n",
      "epoch:  20 loss:0.386847 auc:0.5211\n",
      "epoch:  40 loss:0.374276 auc:0.5041\n",
      "epoch:  60 loss:0.371346 auc:0.4950\n",
      "epoch:  80 loss:0.369950 auc:0.4845\n",
      "epoch: 100 loss:0.368219 auc:0.4868\n",
      "epoch: 120 loss:0.365025 auc:0.4949\n",
      "epoch: 140 loss:0.359658 auc:0.4888\n"
     ]
    },
    {
     "name": "stderr",
     "output_type": "stream",
     "text": [
      " 19%|█▉        | 89/460 [14:13<38:35,  6.24s/it]"
     ]
    },
    {
     "name": "stdout",
     "output_type": "stream",
     "text": [
      "epoch: 160 loss:0.354313 auc:0.4924\n",
      "Fit finished.\n",
      "epoch:   0 loss:0.879600 auc:0.4236\n",
      "epoch:  20 loss:0.407978 auc:0.5255\n",
      "epoch:  40 loss:0.377490 auc:0.5266\n",
      "epoch:  60 loss:0.372583 auc:0.5359\n",
      "epoch:  80 loss:0.370854 auc:0.5336\n",
      "epoch: 100 loss:0.369891 auc:0.5330\n",
      "epoch: 120 loss:0.368859 auc:0.5316\n",
      "epoch: 140 loss:0.367243 auc:0.5401\n",
      "epoch: 160 loss:0.364378 auc:0.5524\n",
      "epoch: 180 loss:0.360248 auc:0.5575\n",
      "epoch: 200 loss:0.355998 auc:0.5643\n",
      "epoch: 220 loss:0.351417 auc:0.5772\n",
      "epoch: 240 loss:0.347189 auc:0.5813\n",
      "epoch: 260 loss:0.339904 auc:0.5726\n",
      "epoch: 280 loss:0.331280 auc:0.5603\n",
      "epoch: 300 loss:0.322195 auc:0.5549\n",
      "epoch: 320 loss:0.314582 auc:0.5735\n",
      "epoch: 340 loss:0.307617 auc:0.5621\n"
     ]
    },
    {
     "name": "stderr",
     "output_type": "stream",
     "text": [
      " 20%|█▉        | 90/460 [14:28<49:06,  7.96s/it]"
     ]
    },
    {
     "name": "stdout",
     "output_type": "stream",
     "text": [
      "epoch: 360 loss:0.301000 auc:0.5413\n",
      "Fit finished.\n",
      "epoch:   0 loss:0.848253 auc:0.5074\n",
      "epoch:  20 loss:0.409208 auc:0.6154\n",
      "epoch:  40 loss:0.378136 auc:0.6938\n",
      "epoch:  60 loss:0.373752 auc:0.7337\n",
      "epoch:  80 loss:0.372204 auc:0.7470\n",
      "epoch: 100 loss:0.371301 auc:0.7426\n",
      "epoch: 120 loss:0.370419 auc:0.7500\n",
      "epoch: 140 loss:0.369227 auc:0.7337\n",
      "epoch: 160 loss:0.367316 auc:0.7322\n",
      "epoch: 180 loss:0.364199 auc:0.7648\n",
      "epoch: 200 loss:0.360063 auc:0.7929\n",
      "epoch: 220 loss:0.355572 auc:0.7766\n",
      "epoch: 240 loss:0.350689 auc:0.7663\n",
      "epoch: 260 loss:0.343875 auc:0.7633\n"
     ]
    },
    {
     "name": "stderr",
     "output_type": "stream",
     "text": [
      " 20%|█▉        | 91/460 [14:38<51:41,  8.40s/it]"
     ]
    },
    {
     "name": "stdout",
     "output_type": "stream",
     "text": [
      "epoch: 280 loss:0.335813 auc:0.7278\n",
      "Fit finished.\n",
      "epoch:   0 loss:0.815697 auc:0.4883\n",
      "epoch:  20 loss:0.423400 auc:0.5444\n",
      "epoch:  40 loss:0.383619 auc:0.5484\n",
      "epoch:  60 loss:0.373753 auc:0.5326\n",
      "epoch:  80 loss:0.371256 auc:0.5184\n",
      "epoch: 100 loss:0.370144 auc:0.5057\n",
      "epoch: 120 loss:0.369308 auc:0.4950\n",
      "epoch: 140 loss:0.368356 auc:0.4891\n",
      "epoch: 160 loss:0.366937 auc:0.4886\n"
     ]
    },
    {
     "name": "stderr",
     "output_type": "stream",
     "text": [
      " 20%|██        | 92/460 [14:44<48:12,  7.86s/it]"
     ]
    },
    {
     "name": "stdout",
     "output_type": "stream",
     "text": [
      "epoch: 180 loss:0.364442 auc:0.4893\n",
      "Fit finished.\n",
      "epoch:   0 loss:0.931770 auc:0.4585\n",
      "epoch:  20 loss:0.386788 auc:0.5093\n",
      "epoch:  40 loss:0.373842 auc:0.5174\n",
      "epoch:  60 loss:0.371157 auc:0.5247\n",
      "epoch:  80 loss:0.370041 auc:0.5376\n",
      "epoch: 100 loss:0.368709 auc:0.5530\n",
      "epoch: 120 loss:0.366101 auc:0.5648\n",
      "epoch: 140 loss:0.360906 auc:0.5840\n",
      "epoch: 160 loss:0.354298 auc:0.6010\n",
      "epoch: 180 loss:0.347322 auc:0.6104\n",
      "epoch: 200 loss:0.338593 auc:0.6125\n",
      "epoch: 220 loss:0.328794 auc:0.6133\n",
      "epoch: 240 loss:0.319281 auc:0.6183\n",
      "epoch: 260 loss:0.319374 auc:0.6146\n",
      "epoch: 280 loss:0.305574 auc:0.6162\n",
      "epoch: 300 loss:0.298364 auc:0.6165\n",
      "epoch: 320 loss:0.292268 auc:0.6154\n",
      "epoch: 340 loss:0.288885 auc:0.6253\n",
      "epoch: 360 loss:0.283077 auc:0.6229\n",
      "epoch: 380 loss:0.280398 auc:0.6274\n",
      "epoch: 400 loss:0.277468 auc:0.6285\n",
      "epoch: 420 loss:0.274619 auc:0.6254\n",
      "epoch: 440 loss:0.273228 auc:0.6231\n",
      "epoch: 460 loss:0.271310 auc:0.6261\n",
      "epoch: 480 loss:0.269723 auc:0.6301\n",
      "epoch: 500 loss:0.268554 auc:0.6336\n",
      "epoch: 520 loss:0.266954 auc:0.6302\n"
     ]
    },
    {
     "name": "stderr",
     "output_type": "stream",
     "text": [
      " 20%|██        | 93/460 [15:04<1:06:46, 10.92s/it]"
     ]
    },
    {
     "name": "stdout",
     "output_type": "stream",
     "text": [
      "epoch: 540 loss:0.265520 auc:0.6264\n",
      "Fit finished.\n",
      "epoch:   0 loss:0.771440 auc:0.4159\n",
      "epoch:  20 loss:0.404375 auc:0.4026\n",
      "epoch:  40 loss:0.380087 auc:0.5274\n",
      "epoch:  60 loss:0.374345 auc:0.5633\n",
      "epoch:  80 loss:0.372303 auc:0.5747\n",
      "epoch: 100 loss:0.371281 auc:0.5898\n",
      "epoch: 120 loss:0.370365 auc:0.5992\n",
      "epoch: 140 loss:0.369121 auc:0.6219\n",
      "epoch: 160 loss:0.366945 auc:0.6163\n",
      "epoch: 180 loss:0.362839 auc:0.6049\n",
      "epoch: 200 loss:0.357699 auc:0.5898\n",
      "epoch: 220 loss:0.352742 auc:0.5747\n"
     ]
    },
    {
     "name": "stderr",
     "output_type": "stream",
     "text": [
      " 20%|██        | 94/460 [15:13<1:04:11, 10.52s/it]"
     ]
    },
    {
     "name": "stdout",
     "output_type": "stream",
     "text": [
      "epoch: 240 loss:0.345441 auc:0.5520\n",
      "Fit finished.\n",
      "epoch:   0 loss:0.697328 auc:0.4089\n",
      "epoch:  20 loss:0.384205 auc:0.5511\n",
      "epoch:  40 loss:0.374903 auc:0.6356\n",
      "epoch:  60 loss:0.371646 auc:0.6878\n",
      "epoch:  80 loss:0.369666 auc:0.7267\n",
      "epoch: 100 loss:0.366056 auc:0.7800\n",
      "epoch: 120 loss:0.359574 auc:0.8222\n",
      "epoch: 140 loss:0.352942 auc:0.8300\n",
      "epoch: 160 loss:0.345311 auc:0.8156\n",
      "epoch: 180 loss:0.334894 auc:0.8378\n",
      "epoch: 200 loss:0.328738 auc:0.8222\n",
      "epoch: 220 loss:0.316421 auc:0.8289\n",
      "epoch: 240 loss:0.306339 auc:0.8333\n",
      "epoch: 260 loss:0.298478 auc:0.8244\n",
      "epoch: 280 loss:0.291824 auc:0.8222\n"
     ]
    },
    {
     "name": "stderr",
     "output_type": "stream",
     "text": [
      " 21%|██        | 96/460 [15:26<52:21,  8.63s/it]  "
     ]
    },
    {
     "name": "stdout",
     "output_type": "stream",
     "text": [
      "epoch: 300 loss:0.286334 auc:0.8133\n",
      "Fit finished.\n",
      "epoch:   0 loss:0.751002 auc:0.5181\n",
      "epoch:  20 loss:0.403092 auc:0.4993\n",
      "epoch:  40 loss:0.375668 auc:0.4835\n",
      "epoch:  60 loss:0.371968 auc:0.4793\n",
      "epoch:  80 loss:0.370573 auc:0.4747\n",
      "epoch: 100 loss:0.369425 auc:0.4710\n",
      "epoch: 120 loss:0.367757 auc:0.4627\n",
      "epoch: 140 loss:0.364573 auc:0.4505\n"
     ]
    },
    {
     "name": "stderr",
     "output_type": "stream",
     "text": [
      " 21%|██        | 97/460 [15:33<50:17,  8.31s/it]"
     ]
    },
    {
     "name": "stdout",
     "output_type": "stream",
     "text": [
      "epoch: 160 loss:0.359728 auc:0.4230\n",
      "Fit finished.\n",
      "epoch:   0 loss:0.973999 auc:0.4748\n",
      "epoch:  20 loss:0.400415 auc:0.5165\n",
      "epoch:  40 loss:0.377956 auc:0.5331\n",
      "epoch:  60 loss:0.372545 auc:0.5242\n",
      "epoch:  80 loss:0.371018 auc:0.5156\n",
      "epoch: 100 loss:0.370235 auc:0.5122\n",
      "epoch: 120 loss:0.369408 auc:0.5105\n",
      "epoch: 140 loss:0.368246 auc:0.5155\n",
      "epoch: 160 loss:0.366266 auc:0.5254\n",
      "epoch: 180 loss:0.362617 auc:0.5391\n",
      "epoch: 200 loss:0.357605 auc:0.5556\n",
      "epoch: 220 loss:0.352320 auc:0.5683\n",
      "epoch: 240 loss:0.345849 auc:0.5808\n",
      "epoch: 260 loss:0.339652 auc:0.5867\n",
      "epoch: 280 loss:0.333934 auc:0.5875\n",
      "epoch: 300 loss:0.329772 auc:0.5835\n",
      "epoch: 320 loss:0.323559 auc:0.5364\n"
     ]
    },
    {
     "name": "stderr",
     "output_type": "stream",
     "text": [
      " 21%|██▏       | 98/460 [15:47<58:39,  9.72s/it]"
     ]
    },
    {
     "name": "stdout",
     "output_type": "stream",
     "text": [
      "epoch: 340 loss:0.316613 auc:0.5286\n",
      "Fit finished.\n",
      "epoch:   0 loss:0.845437 auc:0.5685\n",
      "epoch:  20 loss:0.402894 auc:0.5356\n",
      "epoch:  40 loss:0.376703 auc:0.6068\n",
      "epoch:  60 loss:0.372534 auc:0.6531\n",
      "epoch:  80 loss:0.370971 auc:0.6919\n",
      "epoch: 100 loss:0.369755 auc:0.7165\n",
      "epoch: 120 loss:0.368058 auc:0.7226\n",
      "epoch: 140 loss:0.364732 auc:0.7259\n",
      "epoch: 160 loss:0.359162 auc:0.7330\n",
      "epoch: 180 loss:0.354037 auc:0.7336\n",
      "epoch: 200 loss:0.348658 auc:0.7299\n",
      "epoch: 220 loss:0.342986 auc:0.7271\n",
      "epoch: 240 loss:0.336024 auc:0.7235\n"
     ]
    },
    {
     "name": "stderr",
     "output_type": "stream",
     "text": [
      " 22%|██▏       | 99/460 [15:57<59:31,  9.89s/it]"
     ]
    },
    {
     "name": "stdout",
     "output_type": "stream",
     "text": [
      "epoch: 260 loss:0.327808 auc:0.6798\n",
      "Fit finished.\n",
      "epoch:   0 loss:0.971239 auc:0.5115\n",
      "epoch:  20 loss:0.413094 auc:0.4904\n",
      "epoch:  40 loss:0.383805 auc:0.4968\n",
      "epoch:  60 loss:0.375491 auc:0.4949\n",
      "epoch:  80 loss:0.373010 auc:0.4977\n",
      "epoch: 100 loss:0.372116 auc:0.4922\n",
      "epoch: 120 loss:0.371592 auc:0.4959\n",
      "epoch: 140 loss:0.371121 auc:0.4995\n",
      "epoch: 160 loss:0.370608 auc:0.5124\n",
      "epoch: 180 loss:0.369978 auc:0.5280\n",
      "epoch: 200 loss:0.369120 auc:0.5390\n",
      "epoch: 220 loss:0.367812 auc:0.5500\n",
      "epoch: 240 loss:0.365685 auc:0.5620\n",
      "epoch: 260 loss:0.362449 auc:0.5859\n",
      "epoch: 280 loss:0.358761 auc:0.5987\n",
      "epoch: 300 loss:0.355115 auc:0.6189\n",
      "epoch: 320 loss:0.351176 auc:0.6455\n",
      "epoch: 340 loss:0.346819 auc:0.6612\n",
      "epoch: 360 loss:0.339169 auc:0.6795\n",
      "epoch: 380 loss:0.330542 auc:0.6860\n",
      "epoch: 400 loss:0.323110 auc:0.6777\n",
      "epoch: 420 loss:0.316670 auc:0.6850\n",
      "epoch: 440 loss:0.309536 auc:0.6749\n",
      "epoch: 460 loss:0.304227 auc:0.6850\n",
      "epoch: 480 loss:0.298260 auc:0.6768\n",
      "epoch: 500 loss:0.293233 auc:0.6915\n",
      "epoch: 520 loss:0.292551 auc:0.6887\n",
      "epoch: 540 loss:0.285833 auc:0.6878\n",
      "epoch: 560 loss:0.282202 auc:0.6878\n",
      "epoch: 580 loss:0.279410 auc:0.6933\n",
      "epoch: 600 loss:0.278882 auc:0.6970\n",
      "epoch: 620 loss:0.276144 auc:0.6869\n",
      "epoch: 640 loss:0.274367 auc:0.6850\n"
     ]
    },
    {
     "name": "stderr",
     "output_type": "stream",
     "text": [
      " 22%|██▏       | 100/460 [16:22<1:23:05, 13.85s/it]"
     ]
    },
    {
     "name": "stdout",
     "output_type": "stream",
     "text": [
      "epoch: 660 loss:0.272025 auc:0.6814\n",
      "Fit finished.\n",
      "epoch:   0 loss:0.683675 auc:0.5295\n",
      "epoch:  20 loss:0.411122 auc:0.5439\n",
      "epoch:  40 loss:0.381579 auc:0.5597\n",
      "epoch:  60 loss:0.374157 auc:0.5837\n",
      "epoch:  80 loss:0.371774 auc:0.6048\n",
      "epoch: 100 loss:0.370712 auc:0.6203\n",
      "epoch: 120 loss:0.369976 auc:0.6356\n",
      "epoch: 140 loss:0.369234 auc:0.6463\n",
      "epoch: 160 loss:0.368238 auc:0.6547\n",
      "epoch: 180 loss:0.366581 auc:0.6620\n",
      "epoch: 200 loss:0.363526 auc:0.6742\n",
      "epoch: 220 loss:0.359288 auc:0.6944\n",
      "epoch: 240 loss:0.355261 auc:0.7024\n",
      "epoch: 260 loss:0.351035 auc:0.7006\n",
      "epoch: 280 loss:0.345163 auc:0.6878\n",
      "epoch: 300 loss:0.338159 auc:0.6749\n",
      "epoch: 320 loss:0.329958 auc:0.6757\n",
      "epoch: 340 loss:0.326020 auc:0.6773\n",
      "epoch: 360 loss:0.317806 auc:0.6820\n"
     ]
    },
    {
     "name": "stderr",
     "output_type": "stream",
     "text": [
      " 22%|██▏       | 101/460 [16:35<1:21:56, 13.69s/it]"
     ]
    },
    {
     "name": "stdout",
     "output_type": "stream",
     "text": [
      "epoch: 380 loss:0.309729 auc:0.6792\n",
      "Fit finished.\n",
      "epoch:   0 loss:0.819375 auc:0.4836\n",
      "epoch:  20 loss:0.401885 auc:0.5138\n",
      "epoch:  40 loss:0.380308 auc:0.5061\n",
      "epoch:  60 loss:0.374600 auc:0.4879\n",
      "epoch:  80 loss:0.372419 auc:0.4740\n",
      "epoch: 100 loss:0.371483 auc:0.4671\n",
      "epoch: 120 loss:0.370751 auc:0.4559\n",
      "epoch: 140 loss:0.369907 auc:0.4438\n"
     ]
    },
    {
     "name": "stderr",
     "output_type": "stream",
     "text": [
      " 22%|██▏       | 102/460 [16:41<1:07:56, 11.39s/it]"
     ]
    },
    {
     "name": "stdout",
     "output_type": "stream",
     "text": [
      "epoch: 160 loss:0.368683 auc:0.4438\n",
      "Fit finished.\n",
      "epoch:   0 loss:0.771885 auc:0.4881\n",
      "epoch:  20 loss:0.396797 auc:0.5012\n",
      "epoch:  40 loss:0.376574 auc:0.5850\n",
      "epoch:  60 loss:0.373150 auc:0.6131\n",
      "epoch:  80 loss:0.371970 auc:0.6613\n",
      "epoch: 100 loss:0.371165 auc:0.6738\n",
      "epoch: 120 loss:0.370163 auc:0.6875\n",
      "epoch: 140 loss:0.368556 auc:0.7006\n",
      "epoch: 160 loss:0.365562 auc:0.7344\n",
      "epoch: 180 loss:0.360842 auc:0.7688\n",
      "epoch: 200 loss:0.355912 auc:0.7963\n",
      "epoch: 220 loss:0.351138 auc:0.8094\n",
      "epoch: 240 loss:0.343710 auc:0.8106\n",
      "epoch: 260 loss:0.338642 auc:0.7925\n",
      "epoch: 280 loss:0.329423 auc:0.8056\n",
      "epoch: 300 loss:0.321013 auc:0.7919\n",
      "epoch: 320 loss:0.313566 auc:0.7444\n"
     ]
    },
    {
     "name": "stderr",
     "output_type": "stream",
     "text": [
      " 22%|██▏       | 103/460 [16:54<1:11:53, 12.08s/it]"
     ]
    },
    {
     "name": "stdout",
     "output_type": "stream",
     "text": [
      "epoch: 340 loss:0.306341 auc:0.7131\n",
      "Fit finished.\n",
      "epoch:   0 loss:0.713666 auc:0.4569\n",
      "epoch:  20 loss:0.389711 auc:0.5113\n",
      "epoch:  40 loss:0.376474 auc:0.4744\n",
      "epoch:  60 loss:0.371941 auc:0.4498\n",
      "epoch:  80 loss:0.370602 auc:0.4326\n",
      "epoch: 100 loss:0.369503 auc:0.4152\n",
      "epoch: 120 loss:0.368043 auc:0.3994\n",
      "epoch: 140 loss:0.365363 auc:0.3795\n"
     ]
    },
    {
     "name": "stderr",
     "output_type": "stream",
     "text": [
      " 23%|██▎       | 104/460 [17:03<1:04:57, 10.95s/it]"
     ]
    },
    {
     "name": "stdout",
     "output_type": "stream",
     "text": [
      "epoch: 160 loss:0.360587 auc:0.3429\n",
      "Fit finished.\n",
      "epoch:   0 loss:0.869013 auc:0.4215\n",
      "epoch:  20 loss:0.402640 auc:0.3802\n",
      "epoch:  40 loss:0.377792 auc:0.5455\n",
      "epoch:  60 loss:0.373501 auc:0.6281\n",
      "epoch:  80 loss:0.371780 auc:0.6529\n",
      "epoch: 100 loss:0.370760 auc:0.6860\n",
      "epoch: 120 loss:0.369627 auc:0.7273\n",
      "epoch: 140 loss:0.367850 auc:0.7438\n",
      "epoch: 160 loss:0.364701 auc:0.7769\n",
      "epoch: 180 loss:0.360236 auc:0.8017\n",
      "epoch: 200 loss:0.355609 auc:0.8099\n",
      "epoch: 220 loss:0.350766 auc:0.8017\n",
      "epoch: 240 loss:0.345532 auc:0.7603\n",
      "epoch: 260 loss:0.339197 auc:0.7438\n",
      "epoch: 280 loss:0.332184 auc:0.7438\n"
     ]
    },
    {
     "name": "stderr",
     "output_type": "stream",
     "text": [
      " 23%|██▎       | 105/460 [17:14<1:06:04, 11.17s/it]"
     ]
    },
    {
     "name": "stdout",
     "output_type": "stream",
     "text": [
      "epoch: 300 loss:0.325987 auc:0.6777\n",
      "Fit finished.\n",
      "epoch:   0 loss:0.812700 auc:0.3489\n",
      "epoch:  20 loss:0.401254 auc:0.6278\n",
      "epoch:  40 loss:0.377281 auc:0.7189\n",
      "epoch:  60 loss:0.373179 auc:0.7533\n",
      "epoch:  80 loss:0.371808 auc:0.7711\n",
      "epoch: 100 loss:0.370905 auc:0.7700\n",
      "epoch: 120 loss:0.369897 auc:0.7922\n",
      "epoch: 140 loss:0.368367 auc:0.8156\n",
      "epoch: 160 loss:0.365428 auc:0.8456\n",
      "epoch: 180 loss:0.360420 auc:0.8556\n",
      "epoch: 200 loss:0.354821 auc:0.8456\n",
      "epoch: 220 loss:0.347963 auc:0.8222\n",
      "epoch: 240 loss:0.341163 auc:0.8367\n",
      "epoch: 260 loss:0.331723 auc:0.8511\n",
      "epoch: 280 loss:0.321966 auc:0.8589\n",
      "epoch: 300 loss:0.313131 auc:0.8589\n",
      "epoch: 320 loss:0.305214 auc:0.8567\n",
      "epoch: 340 loss:0.299138 auc:0.8578\n",
      "epoch: 360 loss:0.293614 auc:0.8656\n",
      "epoch: 380 loss:0.308617 auc:0.8544\n",
      "epoch: 400 loss:0.287824 auc:0.8533\n",
      "epoch: 420 loss:0.282770 auc:0.8667\n"
     ]
    },
    {
     "name": "stderr",
     "output_type": "stream",
     "text": [
      " 23%|██▎       | 106/460 [17:32<1:17:59, 13.22s/it]"
     ]
    },
    {
     "name": "stdout",
     "output_type": "stream",
     "text": [
      "epoch: 440 loss:0.280018 auc:0.8556\n",
      "Fit finished.\n",
      "epoch:   0 loss:0.854034 auc:0.4703\n",
      "epoch:  20 loss:0.397696 auc:0.5148\n",
      "epoch:  40 loss:0.376204 auc:0.5212\n",
      "epoch:  60 loss:0.372319 auc:0.5242\n",
      "epoch:  80 loss:0.370753 auc:0.5250\n",
      "epoch: 100 loss:0.369539 auc:0.5197\n",
      "epoch: 120 loss:0.367774 auc:0.5142\n",
      "epoch: 140 loss:0.364374 auc:0.5234\n",
      "epoch: 160 loss:0.359681 auc:0.5462\n",
      "epoch: 180 loss:0.355042 auc:0.5566\n",
      "epoch: 200 loss:0.350429 auc:0.5681\n",
      "epoch: 220 loss:0.342052 auc:0.5910\n",
      "epoch: 240 loss:0.335647 auc:0.6143\n",
      "epoch: 260 loss:0.326461 auc:0.6228\n",
      "epoch: 280 loss:0.319155 auc:0.6221\n",
      "epoch: 300 loss:0.317566 auc:0.6069\n",
      "epoch: 320 loss:0.305070 auc:0.6306\n",
      "epoch: 340 loss:0.299350 auc:0.6167\n",
      "epoch: 360 loss:0.291722 auc:0.6217\n",
      "epoch: 380 loss:0.288117 auc:0.6277\n",
      "epoch: 400 loss:0.284529 auc:0.6297\n",
      "epoch: 420 loss:0.280368 auc:0.6287\n",
      "epoch: 440 loss:0.277732 auc:0.6231\n",
      "epoch: 460 loss:0.275638 auc:0.6293\n"
     ]
    },
    {
     "name": "stderr",
     "output_type": "stream",
     "text": [
      " 23%|██▎       | 107/460 [17:51<1:27:50, 14.93s/it]"
     ]
    },
    {
     "name": "stdout",
     "output_type": "stream",
     "text": [
      "epoch: 480 loss:0.273655 auc:0.6271\n",
      "Fit finished.\n",
      "epoch:   0 loss:0.835229 auc:0.5063\n",
      "epoch:  20 loss:0.405609 auc:0.4779\n",
      "epoch:  40 loss:0.381528 auc:0.4617\n",
      "epoch:  60 loss:0.375000 auc:0.4554\n",
      "epoch:  80 loss:0.372607 auc:0.4556\n",
      "epoch: 100 loss:0.371602 auc:0.4578\n",
      "epoch: 120 loss:0.370931 auc:0.4588\n",
      "epoch: 140 loss:0.370292 auc:0.4588\n"
     ]
    },
    {
     "name": "stderr",
     "output_type": "stream",
     "text": [
      " 23%|██▎       | 108/460 [17:58<1:12:57, 12.44s/it]"
     ]
    },
    {
     "name": "stdout",
     "output_type": "stream",
     "text": [
      "epoch: 160 loss:0.369538 auc:0.4591\n",
      "Fit finished.\n",
      "epoch:   0 loss:0.768742 auc:0.4607\n",
      "epoch:  20 loss:0.390300 auc:0.4646\n",
      "epoch:  40 loss:0.376379 auc:0.5143\n",
      "epoch:  60 loss:0.372219 auc:0.5039\n",
      "epoch:  80 loss:0.370849 auc:0.5167\n",
      "epoch: 100 loss:0.369756 auc:0.5337\n",
      "epoch: 120 loss:0.368282 auc:0.5493\n",
      "epoch: 140 loss:0.365475 auc:0.5606\n",
      "epoch: 160 loss:0.360448 auc:0.5441\n",
      "epoch: 180 loss:0.354629 auc:0.5493\n",
      "epoch: 200 loss:0.348003 auc:0.5156\n"
     ]
    },
    {
     "name": "stderr",
     "output_type": "stream",
     "text": [
      " 24%|██▎       | 109/460 [18:06<1:05:13, 11.15s/it]"
     ]
    },
    {
     "name": "stdout",
     "output_type": "stream",
     "text": [
      "epoch: 220 loss:0.337987 auc:0.4932\n",
      "Fit finished.\n",
      "epoch:   0 loss:0.854107 auc:0.5244\n",
      "epoch:  20 loss:0.390887 auc:0.4745\n",
      "epoch:  40 loss:0.374109 auc:0.4170\n",
      "epoch:  60 loss:0.371344 auc:0.3874\n",
      "epoch:  80 loss:0.369938 auc:0.3703\n",
      "epoch: 100 loss:0.368579 auc:0.3582\n",
      "epoch: 120 loss:0.366494 auc:0.3425\n",
      "epoch: 140 loss:0.362576 auc:0.3190\n"
     ]
    },
    {
     "name": "stderr",
     "output_type": "stream",
     "text": [
      " 24%|██▍       | 110/460 [18:13<58:14,  9.98s/it]  "
     ]
    },
    {
     "name": "stdout",
     "output_type": "stream",
     "text": [
      "epoch: 160 loss:0.357176 auc:0.2954\n",
      "Fit finished.\n",
      "epoch:   0 loss:0.790815 auc:0.5068\n",
      "epoch:  20 loss:0.398970 auc:0.4928\n",
      "epoch:  40 loss:0.378052 auc:0.5572\n",
      "epoch:  60 loss:0.372824 auc:0.5685\n",
      "epoch:  80 loss:0.371367 auc:0.5791\n",
      "epoch: 100 loss:0.370518 auc:0.5785\n",
      "epoch: 120 loss:0.369655 auc:0.5739\n",
      "epoch: 140 loss:0.368461 auc:0.5723\n",
      "epoch: 160 loss:0.366275 auc:0.5747\n",
      "epoch: 180 loss:0.361747 auc:0.5808\n",
      "epoch: 200 loss:0.356276 auc:0.6118\n",
      "epoch: 220 loss:0.351150 auc:0.6316\n",
      "epoch: 240 loss:0.345183 auc:0.6560\n",
      "epoch: 260 loss:0.337005 auc:0.6673\n",
      "epoch: 280 loss:0.328374 auc:0.6550\n",
      "epoch: 300 loss:0.319581 auc:0.6493\n",
      "epoch: 320 loss:0.311685 auc:0.6279\n",
      "epoch: 340 loss:0.305229 auc:0.6828\n",
      "epoch: 360 loss:0.299436 auc:0.6751\n",
      "epoch: 380 loss:0.292413 auc:0.6634\n",
      "epoch: 400 loss:0.289025 auc:0.6929\n",
      "epoch: 420 loss:0.285495 auc:0.6854\n",
      "epoch: 440 loss:0.282093 auc:0.7040\n",
      "epoch: 460 loss:0.279511 auc:0.7094\n",
      "epoch: 480 loss:0.277274 auc:0.7217\n",
      "epoch: 500 loss:0.275512 auc:0.7272\n",
      "epoch: 520 loss:0.275658 auc:0.7350\n",
      "epoch: 540 loss:0.272307 auc:0.7171\n",
      "epoch: 560 loss:0.270879 auc:0.7201\n",
      "epoch: 580 loss:0.270551 auc:0.7189\n",
      "epoch: 600 loss:0.269175 auc:0.7153\n",
      "epoch: 620 loss:0.268411 auc:0.7233\n"
     ]
    },
    {
     "name": "stderr",
     "output_type": "stream",
     "text": [
      " 24%|██▍       | 111/460 [18:37<1:22:20, 14.16s/it]"
     ]
    },
    {
     "name": "stdout",
     "output_type": "stream",
     "text": [
      "epoch: 640 loss:0.266776 auc:0.7074\n",
      "Fit finished.\n",
      "epoch:   0 loss:0.711179 auc:0.4337\n",
      "epoch:  20 loss:0.389177 auc:0.4500\n",
      "epoch:  40 loss:0.375954 auc:0.4575\n",
      "epoch:  60 loss:0.372428 auc:0.4700\n",
      "epoch:  80 loss:0.370929 auc:0.4743\n",
      "epoch: 100 loss:0.369405 auc:0.4754\n",
      "epoch: 120 loss:0.366651 auc:0.5019\n",
      "epoch: 140 loss:0.360633 auc:0.5262\n",
      "epoch: 160 loss:0.354612 auc:0.5565\n",
      "epoch: 180 loss:0.348190 auc:0.5571\n",
      "epoch: 200 loss:0.339592 auc:0.5500\n",
      "epoch: 220 loss:0.330675 auc:0.5414\n",
      "epoch: 240 loss:0.321899 auc:0.5457\n",
      "epoch: 260 loss:0.321496 auc:0.5452\n",
      "epoch: 280 loss:0.308293 auc:0.6111\n",
      "epoch: 300 loss:0.301588 auc:0.5895\n",
      "epoch: 320 loss:0.295769 auc:0.5965\n",
      "epoch: 340 loss:0.291637 auc:0.5863\n",
      "epoch: 360 loss:0.287596 auc:0.5819\n",
      "epoch: 380 loss:0.283934 auc:0.5679\n",
      "epoch: 400 loss:0.282095 auc:0.5690\n",
      "epoch: 420 loss:0.278637 auc:0.5571\n"
     ]
    },
    {
     "name": "stderr",
     "output_type": "stream",
     "text": [
      " 25%|██▍       | 113/460 [18:53<1:04:40, 11.18s/it]"
     ]
    },
    {
     "name": "stdout",
     "output_type": "stream",
     "text": [
      "epoch: 440 loss:0.276333 auc:0.5500\n",
      "Fit finished.\n",
      "epoch:   0 loss:0.766311 auc:0.4766\n",
      "epoch:  20 loss:0.389557 auc:0.4883\n",
      "epoch:  40 loss:0.377424 auc:0.5469\n",
      "epoch:  60 loss:0.373156 auc:0.5664\n",
      "epoch:  80 loss:0.371725 auc:0.5703\n",
      "epoch: 100 loss:0.370860 auc:0.5977\n",
      "epoch: 120 loss:0.369873 auc:0.6328\n",
      "epoch: 140 loss:0.368365 auc:0.6523\n",
      "epoch: 160 loss:0.365619 auc:0.7070\n",
      "epoch: 180 loss:0.361001 auc:0.7188\n",
      "epoch: 200 loss:0.355983 auc:0.6797\n",
      "epoch: 220 loss:0.351235 auc:0.6719\n",
      "epoch: 240 loss:0.345579 auc:0.7031\n",
      "epoch: 260 loss:0.340337 auc:0.6953\n",
      "epoch: 280 loss:0.330073 auc:0.6953\n",
      "epoch: 300 loss:0.320095 auc:0.6914\n"
     ]
    },
    {
     "name": "stderr",
     "output_type": "stream",
     "text": [
      " 25%|██▍       | 114/460 [19:05<1:06:36, 11.55s/it]"
     ]
    },
    {
     "name": "stdout",
     "output_type": "stream",
     "text": [
      "epoch: 320 loss:0.319347 auc:0.6953\n",
      "Fit finished.\n",
      "epoch:   0 loss:0.775172 auc:0.4522\n",
      "epoch:  20 loss:0.392705 auc:0.4903\n",
      "epoch:  40 loss:0.376343 auc:0.5002\n",
      "epoch:  60 loss:0.372319 auc:0.5091\n",
      "epoch:  80 loss:0.371013 auc:0.5260\n",
      "epoch: 100 loss:0.370135 auc:0.5357\n",
      "epoch: 120 loss:0.369010 auc:0.5476\n",
      "epoch: 140 loss:0.367094 auc:0.5579\n",
      "epoch: 160 loss:0.363304 auc:0.5668\n",
      "epoch: 180 loss:0.357979 auc:0.5914\n",
      "epoch: 200 loss:0.352228 auc:0.6020\n",
      "epoch: 220 loss:0.348073 auc:0.6016\n",
      "epoch: 240 loss:0.341343 auc:0.5991\n",
      "epoch: 260 loss:0.333319 auc:0.6016\n",
      "epoch: 280 loss:0.324322 auc:0.5893\n",
      "epoch: 300 loss:0.315985 auc:0.5835\n"
     ]
    },
    {
     "name": "stderr",
     "output_type": "stream",
     "text": [
      " 25%|██▌       | 115/460 [19:17<1:07:11, 11.68s/it]"
     ]
    },
    {
     "name": "stdout",
     "output_type": "stream",
     "text": [
      "epoch: 320 loss:0.306649 auc:0.5516\n",
      "Fit finished.\n",
      "epoch:   0 loss:0.706432 auc:0.5286\n",
      "epoch:  20 loss:0.386979 auc:0.4636\n",
      "epoch:  40 loss:0.374558 auc:0.4741\n",
      "epoch:  60 loss:0.372039 auc:0.4643\n",
      "epoch:  80 loss:0.370953 auc:0.4553\n",
      "epoch: 100 loss:0.370198 auc:0.4412\n",
      "epoch: 120 loss:0.369310 auc:0.4349\n",
      "epoch: 140 loss:0.367964 auc:0.4364\n"
     ]
    },
    {
     "name": "stderr",
     "output_type": "stream",
     "text": [
      " 25%|██▌       | 116/460 [19:24<59:41, 10.41s/it]  "
     ]
    },
    {
     "name": "stdout",
     "output_type": "stream",
     "text": [
      "epoch: 160 loss:0.365298 auc:0.4375\n",
      "Fit finished.\n",
      "epoch:   0 loss:0.822964 auc:0.4793\n",
      "epoch:  20 loss:0.403234 auc:0.3671\n",
      "epoch:  40 loss:0.379309 auc:0.3768\n",
      "epoch:  60 loss:0.373754 auc:0.3823\n",
      "epoch:  80 loss:0.371830 auc:0.3861\n",
      "epoch: 100 loss:0.371065 auc:0.3896\n",
      "epoch: 120 loss:0.370493 auc:0.3947\n",
      "epoch: 140 loss:0.369865 auc:0.3999\n"
     ]
    },
    {
     "name": "stderr",
     "output_type": "stream",
     "text": [
      " 25%|██▌       | 117/460 [19:31<53:17,  9.32s/it]"
     ]
    },
    {
     "name": "stdout",
     "output_type": "stream",
     "text": [
      "epoch: 160 loss:0.369003 auc:0.4106\n",
      "Fit finished.\n",
      "epoch:   0 loss:0.841646 auc:0.4995\n",
      "epoch:  20 loss:0.390518 auc:0.4908\n",
      "epoch:  40 loss:0.377118 auc:0.5043\n",
      "epoch:  60 loss:0.372453 auc:0.4991\n",
      "epoch:  80 loss:0.371099 auc:0.4999\n",
      "epoch: 100 loss:0.370283 auc:0.5100\n",
      "epoch: 120 loss:0.369449 auc:0.5227\n",
      "epoch: 140 loss:0.368201 auc:0.5304\n",
      "epoch: 160 loss:0.365930 auc:0.5238\n"
     ]
    },
    {
     "name": "stderr",
     "output_type": "stream",
     "text": [
      " 26%|██▌       | 118/460 [19:38<50:19,  8.83s/it]"
     ]
    },
    {
     "name": "stdout",
     "output_type": "stream",
     "text": [
      "epoch: 180 loss:0.361927 auc:0.4900\n",
      "Fit finished.\n",
      "epoch:   0 loss:0.854140 auc:0.4743\n",
      "epoch:  20 loss:0.391993 auc:0.4383\n",
      "epoch:  40 loss:0.376211 auc:0.2956\n",
      "epoch:  60 loss:0.373037 auc:0.2321\n",
      "epoch:  80 loss:0.371796 auc:0.2114\n",
      "epoch: 100 loss:0.370870 auc:0.2070\n",
      "epoch: 120 loss:0.369718 auc:0.2086\n",
      "epoch: 140 loss:0.367731 auc:0.2163\n"
     ]
    },
    {
     "name": "stderr",
     "output_type": "stream",
     "text": [
      " 26%|██▌       | 119/460 [19:45<47:05,  8.29s/it]"
     ]
    },
    {
     "name": "stdout",
     "output_type": "stream",
     "text": [
      "epoch: 160 loss:0.363897 auc:0.2118\n",
      "Fit finished.\n",
      "epoch:   0 loss:1.298043 auc:0.5361\n",
      "epoch:  20 loss:0.404177 auc:0.5055\n",
      "epoch:  40 loss:0.377055 auc:0.5412\n",
      "epoch:  60 loss:0.372509 auc:0.5369\n",
      "epoch:  80 loss:0.370956 auc:0.5352\n",
      "epoch: 100 loss:0.370091 auc:0.5359\n",
      "epoch: 120 loss:0.369194 auc:0.5337\n",
      "epoch: 140 loss:0.367869 auc:0.5287\n"
     ]
    },
    {
     "name": "stderr",
     "output_type": "stream",
     "text": [
      " 26%|██▌       | 120/460 [19:52<44:19,  7.82s/it]"
     ]
    },
    {
     "name": "stdout",
     "output_type": "stream",
     "text": [
      "epoch: 160 loss:0.365349 auc:0.5249\n",
      "Fit finished.\n",
      "epoch:   0 loss:0.739766 auc:0.4900\n",
      "epoch:  20 loss:0.388669 auc:0.3400\n",
      "epoch:  40 loss:0.375596 auc:0.4800\n",
      "epoch:  60 loss:0.372550 auc:0.4800\n",
      "epoch:  80 loss:0.371391 auc:0.5300\n",
      "epoch: 100 loss:0.370339 auc:0.5500\n",
      "epoch: 120 loss:0.368803 auc:0.6100\n",
      "epoch: 140 loss:0.365778 auc:0.6500\n",
      "epoch: 160 loss:0.360265 auc:0.6800\n",
      "epoch: 180 loss:0.353228 auc:0.7100\n",
      "epoch: 200 loss:0.349474 auc:0.7300\n",
      "epoch: 220 loss:0.336186 auc:0.7200\n",
      "epoch: 240 loss:0.325981 auc:0.6800\n",
      "epoch: 260 loss:0.316241 auc:0.7000\n",
      "epoch: 280 loss:0.305127 auc:0.7300\n"
     ]
    },
    {
     "name": "stderr",
     "output_type": "stream",
     "text": [
      " 26%|██▋       | 121/460 [20:04<51:32,  9.12s/it]"
     ]
    },
    {
     "name": "stdout",
     "output_type": "stream",
     "text": [
      "epoch: 300 loss:0.324813 auc:0.6400\n",
      "Fit finished.\n",
      "epoch:   0 loss:0.806694 auc:0.4662\n",
      "epoch:  20 loss:0.410852 auc:0.5516\n",
      "epoch:  40 loss:0.379993 auc:0.5792\n",
      "epoch:  60 loss:0.372847 auc:0.6112\n",
      "epoch:  80 loss:0.371191 auc:0.6326\n",
      "epoch: 100 loss:0.370409 auc:0.6462\n",
      "epoch: 120 loss:0.369690 auc:0.6568\n",
      "epoch: 140 loss:0.368746 auc:0.6631\n",
      "epoch: 160 loss:0.367222 auc:0.6655\n",
      "epoch: 180 loss:0.364496 auc:0.6668\n",
      "epoch: 200 loss:0.360232 auc:0.6620\n",
      "epoch: 220 loss:0.355486 auc:0.6269\n"
     ]
    },
    {
     "name": "stderr",
     "output_type": "stream",
     "text": [
      " 27%|██▋       | 122/460 [20:15<53:09,  9.44s/it]"
     ]
    },
    {
     "name": "stdout",
     "output_type": "stream",
     "text": [
      "epoch: 240 loss:0.351575 auc:0.6093\n",
      "Fit finished.\n",
      "epoch:   0 loss:0.713628 auc:0.4973\n",
      "epoch:  20 loss:0.403816 auc:0.5337\n",
      "epoch:  40 loss:0.379245 auc:0.5325\n",
      "epoch:  60 loss:0.373234 auc:0.5406\n",
      "epoch:  80 loss:0.371308 auc:0.5509\n",
      "epoch: 100 loss:0.370221 auc:0.5646\n",
      "epoch: 120 loss:0.369082 auc:0.5766\n",
      "epoch: 140 loss:0.367391 auc:0.5916\n",
      "epoch: 160 loss:0.364360 auc:0.5992\n",
      "epoch: 180 loss:0.359970 auc:0.6017\n",
      "epoch: 200 loss:0.355893 auc:0.6067\n",
      "epoch: 220 loss:0.352102 auc:0.6043\n",
      "epoch: 240 loss:0.349055 auc:0.5937\n",
      "epoch: 260 loss:0.344564 auc:0.5879\n",
      "epoch: 280 loss:0.339292 auc:0.5907\n",
      "epoch: 300 loss:0.332184 auc:0.5945\n",
      "epoch: 320 loss:0.324406 auc:0.6048\n",
      "epoch: 340 loss:0.316130 auc:0.6117\n"
     ]
    },
    {
     "name": "stderr",
     "output_type": "stream",
     "text": [
      " 27%|██▋       | 123/460 [20:30<1:02:38, 11.15s/it]"
     ]
    },
    {
     "name": "stdout",
     "output_type": "stream",
     "text": [
      "epoch: 360 loss:0.311064 auc:0.5933\n",
      "Fit finished.\n",
      "epoch:   0 loss:0.677569 auc:0.5330\n",
      "epoch:  20 loss:0.388735 auc:0.4307\n",
      "epoch:  40 loss:0.376377 auc:0.4249\n",
      "epoch:  60 loss:0.372499 auc:0.4170\n",
      "epoch:  80 loss:0.371216 auc:0.4132\n",
      "epoch: 100 loss:0.370242 auc:0.4063\n",
      "epoch: 120 loss:0.369028 auc:0.4085\n",
      "epoch: 140 loss:0.366932 auc:0.4212\n"
     ]
    },
    {
     "name": "stderr",
     "output_type": "stream",
     "text": [
      " 27%|██▋       | 124/460 [20:37<55:42,  9.95s/it]  "
     ]
    },
    {
     "name": "stdout",
     "output_type": "stream",
     "text": [
      "epoch: 160 loss:0.362504 auc:0.4355\n",
      "Fit finished.\n",
      "epoch:   0 loss:0.807844 auc:0.5842\n",
      "epoch:  20 loss:0.395129 auc:0.5510\n",
      "epoch:  40 loss:0.376844 auc:0.5770\n",
      "epoch:  60 loss:0.372658 auc:0.5868\n",
      "epoch:  80 loss:0.371231 auc:0.5972\n",
      "epoch: 100 loss:0.369926 auc:0.6079\n",
      "epoch: 120 loss:0.367667 auc:0.6087\n",
      "epoch: 140 loss:0.362586 auc:0.6086\n",
      "epoch: 160 loss:0.356467 auc:0.6121\n",
      "epoch: 180 loss:0.350186 auc:0.6238\n",
      "epoch: 200 loss:0.342456 auc:0.6252\n",
      "epoch: 220 loss:0.334272 auc:0.6164\n",
      "epoch: 240 loss:0.325541 auc:0.6228\n",
      "epoch: 260 loss:0.318167 auc:0.6127\n"
     ]
    },
    {
     "name": "stderr",
     "output_type": "stream",
     "text": [
      " 27%|██▋       | 125/460 [20:49<59:30, 10.66s/it]"
     ]
    },
    {
     "name": "stdout",
     "output_type": "stream",
     "text": [
      "epoch: 280 loss:0.309479 auc:0.6058\n",
      "Fit finished.\n",
      "epoch:   0 loss:0.712585 auc:0.5206\n",
      "epoch:  20 loss:0.384841 auc:0.4460\n",
      "epoch:  40 loss:0.372730 auc:0.4417\n",
      "epoch:  60 loss:0.370233 auc:0.4402\n",
      "epoch:  80 loss:0.368284 auc:0.4400\n",
      "epoch: 100 loss:0.364626 auc:0.4355\n",
      "epoch: 120 loss:0.358480 auc:0.4149\n",
      "epoch: 140 loss:0.351189 auc:0.3747\n"
     ]
    },
    {
     "name": "stderr",
     "output_type": "stream",
     "text": [
      " 27%|██▋       | 126/460 [20:56<52:55,  9.51s/it]"
     ]
    },
    {
     "name": "stdout",
     "output_type": "stream",
     "text": [
      "epoch: 160 loss:0.342332 auc:0.3635\n",
      "Fit finished.\n",
      "epoch:   0 loss:0.746947 auc:0.4913\n",
      "epoch:  20 loss:0.403091 auc:0.4893\n",
      "epoch:  40 loss:0.379372 auc:0.5065\n",
      "epoch:  60 loss:0.373789 auc:0.5282\n",
      "epoch:  80 loss:0.371581 auc:0.5460\n",
      "epoch: 100 loss:0.370491 auc:0.5602\n",
      "epoch: 120 loss:0.369533 auc:0.5788\n",
      "epoch: 140 loss:0.368135 auc:0.5977\n",
      "epoch: 160 loss:0.365397 auc:0.6090\n",
      "epoch: 180 loss:0.360453 auc:0.6184\n",
      "epoch: 200 loss:0.355572 auc:0.6054\n",
      "epoch: 220 loss:0.350586 auc:0.5939\n",
      "epoch: 240 loss:0.345603 auc:0.5959\n",
      "epoch: 260 loss:0.340054 auc:0.5874\n",
      "epoch: 280 loss:0.330663 auc:0.5879\n"
     ]
    },
    {
     "name": "stderr",
     "output_type": "stream",
     "text": [
      " 28%|██▊       | 127/460 [21:08<56:48, 10.23s/it]"
     ]
    },
    {
     "name": "stdout",
     "output_type": "stream",
     "text": [
      "epoch: 300 loss:0.322205 auc:0.5790\n",
      "Fit finished.\n",
      "epoch:   0 loss:0.832923 auc:0.5709\n",
      "epoch:  20 loss:0.396821 auc:0.6263\n",
      "epoch:  40 loss:0.376675 auc:0.6471\n",
      "epoch:  60 loss:0.372554 auc:0.6609\n",
      "epoch:  80 loss:0.371205 auc:0.6436\n",
      "epoch: 100 loss:0.370136 auc:0.6540\n",
      "epoch: 120 loss:0.368742 auc:0.6644\n",
      "epoch: 140 loss:0.366350 auc:0.6817\n",
      "epoch: 160 loss:0.362106 auc:0.7266\n",
      "epoch: 180 loss:0.357006 auc:0.7474\n",
      "epoch: 200 loss:0.353008 auc:0.7682\n",
      "epoch: 220 loss:0.344299 auc:0.7958\n",
      "epoch: 240 loss:0.334763 auc:0.8166\n",
      "epoch: 260 loss:0.325690 auc:0.8235\n",
      "epoch: 280 loss:0.319844 auc:0.8270\n",
      "epoch: 300 loss:0.312084 auc:0.8304\n",
      "epoch: 320 loss:0.319970 auc:0.7716\n",
      "epoch: 340 loss:0.301014 auc:0.8062\n",
      "epoch: 360 loss:0.293786 auc:0.8062\n",
      "epoch: 380 loss:0.288673 auc:0.8028\n"
     ]
    },
    {
     "name": "stderr",
     "output_type": "stream",
     "text": [
      " 28%|██▊       | 128/460 [21:25<1:07:24, 12.18s/it]"
     ]
    },
    {
     "name": "stdout",
     "output_type": "stream",
     "text": [
      "epoch: 400 loss:0.285759 auc:0.8097\n",
      "Fit finished.\n",
      "epoch:   0 loss:1.052981 auc:0.5542\n",
      "epoch:  20 loss:0.416550 auc:0.4846\n",
      "epoch:  40 loss:0.383417 auc:0.4623\n",
      "epoch:  60 loss:0.374722 auc:0.4603\n",
      "epoch:  80 loss:0.372332 auc:0.4614\n",
      "epoch: 100 loss:0.371410 auc:0.4554\n",
      "epoch: 120 loss:0.370832 auc:0.4532\n",
      "epoch: 140 loss:0.370310 auc:0.4508\n"
     ]
    },
    {
     "name": "stderr",
     "output_type": "stream",
     "text": [
      " 28%|██▊       | 130/460 [21:32<44:56,  8.17s/it]  "
     ]
    },
    {
     "name": "stdout",
     "output_type": "stream",
     "text": [
      "epoch: 160 loss:0.369747 auc:0.4494\n",
      "Fit finished.\n",
      "epoch:   0 loss:0.756000 auc:0.5208\n",
      "epoch:  20 loss:0.391570 auc:0.4624\n",
      "epoch:  40 loss:0.375016 auc:0.4666\n",
      "epoch:  60 loss:0.371030 auc:0.4755\n",
      "epoch:  80 loss:0.369760 auc:0.4797\n",
      "epoch: 100 loss:0.368515 auc:0.4757\n",
      "epoch: 120 loss:0.366515 auc:0.4619\n",
      "epoch: 140 loss:0.362918 auc:0.4272\n"
     ]
    },
    {
     "name": "stderr",
     "output_type": "stream",
     "text": [
      " 28%|██▊       | 131/460 [21:39<43:29,  7.93s/it]"
     ]
    },
    {
     "name": "stdout",
     "output_type": "stream",
     "text": [
      "epoch: 160 loss:0.358051 auc:0.3854\n",
      "Fit finished.\n",
      "epoch:   0 loss:0.791824 auc:0.5007\n",
      "epoch:  20 loss:0.398864 auc:0.5012\n",
      "epoch:  40 loss:0.377284 auc:0.5230\n",
      "epoch:  60 loss:0.373474 auc:0.5247\n",
      "epoch:  80 loss:0.372018 auc:0.5408\n",
      "epoch: 100 loss:0.371191 auc:0.5518\n",
      "epoch: 120 loss:0.370413 auc:0.5705\n",
      "epoch: 140 loss:0.369327 auc:0.5988\n",
      "epoch: 160 loss:0.367350 auc:0.6182\n",
      "epoch: 180 loss:0.363552 auc:0.6351\n",
      "epoch: 200 loss:0.358547 auc:0.6634\n",
      "epoch: 220 loss:0.353312 auc:0.6864\n",
      "epoch: 240 loss:0.349360 auc:0.6958\n",
      "epoch: 260 loss:0.340205 auc:0.6836\n",
      "epoch: 280 loss:0.330064 auc:0.6519\n",
      "epoch: 300 loss:0.321536 auc:0.6169\n"
     ]
    },
    {
     "name": "stderr",
     "output_type": "stream",
     "text": [
      " 29%|██▉       | 133/460 [21:54<42:05,  7.72s/it]"
     ]
    },
    {
     "name": "stdout",
     "output_type": "stream",
     "text": [
      "epoch: 320 loss:0.315667 auc:0.6050\n",
      "Fit finished.\n",
      "epoch:   0 loss:0.763236 auc:0.5404\n",
      "epoch:  20 loss:0.407524 auc:0.5089\n",
      "epoch:  40 loss:0.379971 auc:0.5351\n",
      "epoch:  60 loss:0.373997 auc:0.5437\n",
      "epoch:  80 loss:0.372126 auc:0.5472\n",
      "epoch: 100 loss:0.371156 auc:0.5373\n",
      "epoch: 120 loss:0.370251 auc:0.5292\n",
      "epoch: 140 loss:0.369058 auc:0.5243\n"
     ]
    },
    {
     "name": "stderr",
     "output_type": "stream",
     "text": [
      " 29%|██▉       | 134/460 [22:01<40:55,  7.53s/it]"
     ]
    },
    {
     "name": "stdout",
     "output_type": "stream",
     "text": [
      "epoch: 160 loss:0.367060 auc:0.5295\n",
      "Fit finished.\n",
      "epoch:   0 loss:0.895783 auc:0.5017\n",
      "epoch:  20 loss:0.398703 auc:0.5443\n",
      "epoch:  40 loss:0.376795 auc:0.5435\n",
      "epoch:  60 loss:0.372781 auc:0.5449\n",
      "epoch:  80 loss:0.371362 auc:0.5493\n",
      "epoch: 100 loss:0.370356 auc:0.5540\n",
      "epoch: 120 loss:0.369203 auc:0.5537\n",
      "epoch: 140 loss:0.367255 auc:0.5552\n",
      "epoch: 160 loss:0.363331 auc:0.5579\n",
      "epoch: 180 loss:0.357884 auc:0.5532\n",
      "epoch: 200 loss:0.352471 auc:0.5605\n",
      "epoch: 220 loss:0.345943 auc:0.5640\n"
     ]
    },
    {
     "name": "stderr",
     "output_type": "stream",
     "text": [
      " 29%|██▉       | 135/460 [22:12<45:51,  8.47s/it]"
     ]
    },
    {
     "name": "stdout",
     "output_type": "stream",
     "text": [
      "epoch: 240 loss:0.337300 auc:0.5301\n",
      "Fit finished.\n",
      "epoch:   0 loss:0.869189 auc:0.4794\n",
      "epoch:  20 loss:0.399326 auc:0.4747\n",
      "epoch:  40 loss:0.376599 auc:0.4412\n",
      "epoch:  60 loss:0.371778 auc:0.4227\n",
      "epoch:  80 loss:0.370536 auc:0.4117\n",
      "epoch: 100 loss:0.369787 auc:0.4041\n",
      "epoch: 120 loss:0.369053 auc:0.3980\n",
      "epoch: 140 loss:0.368061 auc:0.3893\n"
     ]
    },
    {
     "name": "stderr",
     "output_type": "stream",
     "text": [
      " 30%|██▉       | 136/460 [22:19<44:19,  8.21s/it]"
     ]
    },
    {
     "name": "stdout",
     "output_type": "stream",
     "text": [
      "epoch: 160 loss:0.366313 auc:0.3792\n",
      "Fit finished.\n",
      "epoch:   0 loss:0.704587 auc:0.4225\n",
      "epoch:  20 loss:0.390384 auc:0.4817\n",
      "epoch:  40 loss:0.374494 auc:0.4832\n",
      "epoch:  60 loss:0.370970 auc:0.4761\n",
      "epoch:  80 loss:0.369456 auc:0.4666\n",
      "epoch: 100 loss:0.367555 auc:0.4573\n",
      "epoch: 120 loss:0.364056 auc:0.4459\n",
      "epoch: 140 loss:0.358479 auc:0.4277\n",
      "epoch: 160 loss:0.352803 auc:0.4315\n"
     ]
    },
    {
     "name": "stderr",
     "output_type": "stream",
     "text": [
      " 30%|██▉       | 137/460 [22:27<43:40,  8.11s/it]"
     ]
    },
    {
     "name": "stdout",
     "output_type": "stream",
     "text": [
      "epoch: 180 loss:0.348205 auc:0.4256\n",
      "Fit finished.\n",
      "epoch:   0 loss:0.855995 auc:0.5580\n",
      "epoch:  20 loss:0.401304 auc:0.6114\n",
      "epoch:  40 loss:0.378691 auc:0.6431\n",
      "epoch:  60 loss:0.373629 auc:0.6187\n",
      "epoch:  80 loss:0.371807 auc:0.6033\n",
      "epoch: 100 loss:0.371018 auc:0.5707\n",
      "epoch: 120 loss:0.370447 auc:0.5335\n",
      "epoch: 140 loss:0.369857 auc:0.5127\n"
     ]
    },
    {
     "name": "stderr",
     "output_type": "stream",
     "text": [
      " 30%|███       | 138/460 [22:34<42:16,  7.88s/it]"
     ]
    },
    {
     "name": "stdout",
     "output_type": "stream",
     "text": [
      "epoch: 160 loss:0.369099 auc:0.5072\n",
      "Fit finished.\n",
      "epoch:   0 loss:0.815374 auc:0.4320\n",
      "epoch:  20 loss:0.386784 auc:0.4129\n",
      "epoch:  40 loss:0.374795 auc:0.4246\n",
      "epoch:  60 loss:0.371567 auc:0.4249\n",
      "epoch:  80 loss:0.370165 auc:0.4213\n",
      "epoch: 100 loss:0.368382 auc:0.4174\n",
      "epoch: 120 loss:0.364871 auc:0.4139\n",
      "epoch: 140 loss:0.359055 auc:0.4162\n",
      "epoch: 160 loss:0.352454 auc:0.4327\n",
      "epoch: 180 loss:0.345192 auc:0.4587\n",
      "epoch: 200 loss:0.335749 auc:0.5022\n",
      "epoch: 220 loss:0.323700 auc:0.4859\n",
      "epoch: 240 loss:0.315217 auc:0.4515\n",
      "epoch: 260 loss:0.306994 auc:0.4379\n",
      "epoch: 280 loss:0.301961 auc:0.4724\n"
     ]
    },
    {
     "name": "stderr",
     "output_type": "stream",
     "text": [
      " 30%|███       | 139/460 [22:47<49:25,  9.24s/it]"
     ]
    },
    {
     "name": "stdout",
     "output_type": "stream",
     "text": [
      "epoch: 300 loss:0.315372 auc:0.3953\n",
      "Fit finished.\n",
      "epoch:   0 loss:0.933804 auc:0.5201\n",
      "epoch:  20 loss:0.402637 auc:0.5446\n",
      "epoch:  40 loss:0.378567 auc:0.5482\n",
      "epoch:  60 loss:0.373076 auc:0.5663\n",
      "epoch:  80 loss:0.371542 auc:0.5817\n",
      "epoch: 100 loss:0.370673 auc:0.5998\n",
      "epoch: 120 loss:0.369851 auc:0.6039\n",
      "epoch: 140 loss:0.368774 auc:0.5967\n",
      "epoch: 160 loss:0.366917 auc:0.5953\n",
      "epoch: 180 loss:0.363101 auc:0.6120\n",
      "epoch: 200 loss:0.358062 auc:0.6329\n",
      "epoch: 220 loss:0.353483 auc:0.6546\n",
      "epoch: 240 loss:0.348455 auc:0.6795\n",
      "epoch: 260 loss:0.342138 auc:0.6845\n",
      "epoch: 280 loss:0.335555 auc:0.6890\n",
      "epoch: 300 loss:0.326126 auc:0.6895\n",
      "epoch: 320 loss:0.318803 auc:0.6863\n",
      "epoch: 340 loss:0.313508 auc:0.6895\n",
      "epoch: 360 loss:0.304763 auc:0.6908\n",
      "epoch: 380 loss:0.297904 auc:0.6872\n",
      "epoch: 400 loss:0.292870 auc:0.6872\n"
     ]
    },
    {
     "name": "stderr",
     "output_type": "stream",
     "text": [
      " 30%|███       | 140/460 [23:06<1:03:51, 11.97s/it]"
     ]
    },
    {
     "name": "stdout",
     "output_type": "stream",
     "text": [
      "epoch: 420 loss:0.287739 auc:0.6709\n",
      "Fit finished.\n",
      "epoch:   0 loss:0.773928 auc:0.4745\n",
      "epoch:  20 loss:0.388055 auc:0.4796\n",
      "epoch:  40 loss:0.377326 auc:0.5051\n",
      "epoch:  60 loss:0.373413 auc:0.5306\n",
      "epoch:  80 loss:0.372080 auc:0.5714\n",
      "epoch: 100 loss:0.371199 auc:0.5714\n",
      "epoch: 120 loss:0.370119 auc:0.5612\n",
      "epoch: 140 loss:0.368295 auc:0.5561\n",
      "epoch: 160 loss:0.364862 auc:0.5663\n",
      "epoch: 180 loss:0.360140 auc:0.6071\n",
      "epoch: 200 loss:0.355554 auc:0.6020\n",
      "epoch: 220 loss:0.350595 auc:0.6071\n",
      "epoch: 240 loss:0.346275 auc:0.6173\n",
      "epoch: 260 loss:0.338883 auc:0.6122\n",
      "epoch: 280 loss:0.330277 auc:0.6224\n",
      "epoch: 300 loss:0.322912 auc:0.5918\n",
      "epoch: 320 loss:0.314130 auc:0.5918\n"
     ]
    },
    {
     "name": "stderr",
     "output_type": "stream",
     "text": [
      " 31%|███       | 141/460 [23:19<1:06:05, 12.43s/it]"
     ]
    },
    {
     "name": "stdout",
     "output_type": "stream",
     "text": [
      "epoch: 340 loss:0.306175 auc:0.5918\n",
      "Fit finished.\n",
      "epoch:   0 loss:0.755748 auc:0.4677\n",
      "epoch:  20 loss:0.391509 auc:0.4658\n",
      "epoch:  40 loss:0.376435 auc:0.4102\n",
      "epoch:  60 loss:0.373378 auc:0.3588\n",
      "epoch:  80 loss:0.372106 auc:0.3306\n",
      "epoch: 100 loss:0.371181 auc:0.3055\n",
      "epoch: 120 loss:0.370071 auc:0.2783\n",
      "epoch: 140 loss:0.368220 auc:0.2656\n"
     ]
    },
    {
     "name": "stderr",
     "output_type": "stream",
     "text": [
      " 31%|███       | 142/460 [23:25<55:44, 10.52s/it]  "
     ]
    },
    {
     "name": "stdout",
     "output_type": "stream",
     "text": [
      "epoch: 160 loss:0.364591 auc:0.2456\n",
      "Fit finished.\n",
      "epoch:   0 loss:0.943299 auc:0.5304\n",
      "epoch:  20 loss:0.430723 auc:0.5133\n",
      "epoch:  40 loss:0.384573 auc:0.5098\n",
      "epoch:  60 loss:0.373969 auc:0.5333\n",
      "epoch:  80 loss:0.371653 auc:0.5444\n",
      "epoch: 100 loss:0.370783 auc:0.5563\n",
      "epoch: 120 loss:0.370276 auc:0.5681\n",
      "epoch: 140 loss:0.369827 auc:0.5793\n",
      "epoch: 160 loss:0.369328 auc:0.5889\n",
      "epoch: 180 loss:0.368688 auc:0.5964\n",
      "epoch: 200 loss:0.367752 auc:0.5993\n",
      "epoch: 220 loss:0.366139 auc:0.5981\n",
      "epoch: 240 loss:0.363089 auc:0.5950\n",
      "epoch: 260 loss:0.358614 auc:0.5809\n"
     ]
    },
    {
     "name": "stderr",
     "output_type": "stream",
     "text": [
      " 31%|███       | 143/460 [23:37<57:24, 10.87s/it]"
     ]
    },
    {
     "name": "stdout",
     "output_type": "stream",
     "text": [
      "epoch: 280 loss:0.354691 auc:0.5560\n",
      "Fit finished.\n",
      "epoch:   0 loss:0.778181 auc:0.5064\n",
      "epoch:  20 loss:0.395434 auc:0.5272\n",
      "epoch:  40 loss:0.375712 auc:0.5513\n",
      "epoch:  60 loss:0.371647 auc:0.5778\n",
      "epoch:  80 loss:0.370374 auc:0.6032\n",
      "epoch: 100 loss:0.369201 auc:0.6279\n",
      "epoch: 120 loss:0.367391 auc:0.6426\n",
      "epoch: 140 loss:0.363425 auc:0.6587\n",
      "epoch: 160 loss:0.356464 auc:0.6841\n",
      "epoch: 180 loss:0.348140 auc:0.6862\n",
      "epoch: 200 loss:0.339319 auc:0.6654\n",
      "epoch: 220 loss:0.328074 auc:0.6383\n",
      "epoch: 240 loss:0.318247 auc:0.6178\n"
     ]
    },
    {
     "name": "stderr",
     "output_type": "stream",
     "text": [
      " 31%|███▏      | 144/460 [23:49<58:22, 11.08s/it]"
     ]
    },
    {
     "name": "stdout",
     "output_type": "stream",
     "text": [
      "epoch: 260 loss:0.313033 auc:0.6249\n",
      "Fit finished.\n",
      "epoch:   0 loss:0.751642 auc:0.5156\n",
      "epoch:  20 loss:0.390151 auc:0.4529\n",
      "epoch:  40 loss:0.375035 auc:0.4758\n",
      "epoch:  60 loss:0.371443 auc:0.4883\n",
      "epoch:  80 loss:0.370332 auc:0.4970\n",
      "epoch: 100 loss:0.369349 auc:0.5048\n",
      "epoch: 120 loss:0.367983 auc:0.5056\n",
      "epoch: 140 loss:0.365485 auc:0.4981\n"
     ]
    },
    {
     "name": "stderr",
     "output_type": "stream",
     "text": [
      " 32%|███▏      | 145/460 [23:55<51:22,  9.79s/it]"
     ]
    },
    {
     "name": "stdout",
     "output_type": "stream",
     "text": [
      "epoch: 160 loss:0.361156 auc:0.4745\n",
      "Fit finished.\n",
      "epoch:   0 loss:0.733986 auc:0.5303\n",
      "epoch:  20 loss:0.385276 auc:0.5268\n",
      "epoch:  40 loss:0.372660 auc:0.5451\n",
      "epoch:  60 loss:0.369924 auc:0.5633\n",
      "epoch:  80 loss:0.367223 auc:0.5742\n",
      "epoch: 100 loss:0.362204 auc:0.5930\n",
      "epoch: 120 loss:0.355261 auc:0.5992\n",
      "epoch: 140 loss:0.347485 auc:0.6123\n",
      "epoch: 160 loss:0.337481 auc:0.6145\n",
      "epoch: 180 loss:0.325600 auc:0.6105\n",
      "epoch: 200 loss:0.315311 auc:0.6074\n",
      "epoch: 220 loss:0.305564 auc:0.5993\n",
      "epoch: 240 loss:0.296350 auc:0.6029\n"
     ]
    },
    {
     "name": "stderr",
     "output_type": "stream",
     "text": [
      " 32%|███▏      | 146/460 [24:05<51:47,  9.90s/it]"
     ]
    },
    {
     "name": "stdout",
     "output_type": "stream",
     "text": [
      "epoch: 260 loss:0.288495 auc:0.5839\n",
      "Fit finished.\n",
      "epoch:   0 loss:0.782604 auc:0.4816\n",
      "epoch:  20 loss:0.396860 auc:0.4853\n",
      "epoch:  40 loss:0.377801 auc:0.5983\n",
      "epoch:  60 loss:0.373008 auc:0.6243\n",
      "epoch:  80 loss:0.371534 auc:0.6503\n",
      "epoch: 100 loss:0.370497 auc:0.6711\n",
      "epoch: 120 loss:0.369249 auc:0.6838\n",
      "epoch: 140 loss:0.367176 auc:0.6938\n",
      "epoch: 160 loss:0.363511 auc:0.7325\n",
      "epoch: 180 loss:0.358968 auc:0.7415\n",
      "epoch: 200 loss:0.354371 auc:0.7448\n",
      "epoch: 220 loss:0.348704 auc:0.7434\n",
      "epoch: 240 loss:0.342645 auc:0.7377\n",
      "epoch: 260 loss:0.330940 auc:0.7316\n",
      "epoch: 280 loss:0.321757 auc:0.7164\n",
      "epoch: 300 loss:0.313157 auc:0.7231\n"
     ]
    },
    {
     "name": "stderr",
     "output_type": "stream",
     "text": [
      " 32%|███▏      | 147/460 [24:18<55:32, 10.65s/it]"
     ]
    },
    {
     "name": "stdout",
     "output_type": "stream",
     "text": [
      "epoch: 320 loss:0.308034 auc:0.7004\n",
      "Fit finished.\n",
      "epoch:   0 loss:0.763596 auc:0.4705\n",
      "epoch:  20 loss:0.406976 auc:0.5477\n",
      "epoch:  40 loss:0.380083 auc:0.6231\n",
      "epoch:  60 loss:0.374358 auc:0.6156\n",
      "epoch:  80 loss:0.372370 auc:0.6056\n",
      "epoch: 100 loss:0.371471 auc:0.6039\n",
      "epoch: 120 loss:0.370715 auc:0.5991\n",
      "epoch: 140 loss:0.369819 auc:0.5926\n",
      "epoch: 160 loss:0.368469 auc:0.5977\n",
      "epoch: 180 loss:0.366090 auc:0.6097\n",
      "epoch: 200 loss:0.362073 auc:0.6238\n",
      "epoch: 220 loss:0.356537 auc:0.6413\n",
      "epoch: 240 loss:0.351649 auc:0.6698\n",
      "epoch: 260 loss:0.343866 auc:0.6876\n",
      "epoch: 280 loss:0.337656 auc:0.6855\n",
      "epoch: 300 loss:0.332590 auc:0.6667\n",
      "epoch: 320 loss:0.327733 auc:0.6307\n",
      "epoch: 340 loss:0.320007 auc:0.6660\n",
      "epoch: 360 loss:0.312629 auc:0.6461\n",
      "epoch: 380 loss:0.306583 auc:0.6553\n"
     ]
    },
    {
     "name": "stderr",
     "output_type": "stream",
     "text": [
      " 32%|███▏      | 148/460 [24:34<1:03:10, 12.15s/it]"
     ]
    },
    {
     "name": "stdout",
     "output_type": "stream",
     "text": [
      "epoch: 400 loss:0.302271 auc:0.6279\n",
      "Fit finished.\n",
      "epoch:   0 loss:0.750128 auc:0.5089\n",
      "epoch:  20 loss:0.389504 auc:0.4898\n",
      "epoch:  40 loss:0.374499 auc:0.4990\n",
      "epoch:  60 loss:0.371660 auc:0.5003\n",
      "epoch:  80 loss:0.370496 auc:0.5062\n",
      "epoch: 100 loss:0.369589 auc:0.5069\n",
      "epoch: 120 loss:0.368447 auc:0.5035\n",
      "epoch: 140 loss:0.366440 auc:0.4904\n"
     ]
    },
    {
     "name": "stderr",
     "output_type": "stream",
     "text": [
      " 32%|███▏      | 149/460 [24:40<54:35, 10.53s/it]  "
     ]
    },
    {
     "name": "stdout",
     "output_type": "stream",
     "text": [
      "epoch: 160 loss:0.362111 auc:0.4814\n",
      "Fit finished.\n",
      "epoch:   0 loss:0.790660 auc:0.4737\n",
      "epoch:  20 loss:0.395042 auc:0.4404\n",
      "epoch:  40 loss:0.376744 auc:0.4349\n",
      "epoch:  60 loss:0.373359 auc:0.4100\n",
      "epoch:  80 loss:0.372125 auc:0.4737\n",
      "epoch: 100 loss:0.371298 auc:0.5180\n",
      "epoch: 120 loss:0.370402 auc:0.5845\n",
      "epoch: 140 loss:0.369156 auc:0.6150\n",
      "epoch: 160 loss:0.367047 auc:0.6288\n",
      "epoch: 180 loss:0.363294 auc:0.6177\n",
      "epoch: 200 loss:0.358766 auc:0.6399\n",
      "epoch: 220 loss:0.354310 auc:0.6510\n",
      "epoch: 240 loss:0.351347 auc:0.6482\n",
      "epoch: 260 loss:0.343510 auc:0.6510\n",
      "epoch: 280 loss:0.334319 auc:0.6233\n",
      "epoch: 300 loss:0.322870 auc:0.6177\n",
      "epoch: 320 loss:0.313881 auc:0.6814\n",
      "epoch: 340 loss:0.315039 auc:0.6427\n",
      "epoch: 360 loss:0.302887 auc:0.6953\n",
      "epoch: 380 loss:0.296127 auc:0.7008\n",
      "epoch: 400 loss:0.291038 auc:0.6925\n",
      "epoch: 420 loss:0.298328 auc:0.6731\n",
      "epoch: 440 loss:0.289483 auc:0.7008\n",
      "epoch: 460 loss:0.282563 auc:0.6842\n"
     ]
    },
    {
     "name": "stderr",
     "output_type": "stream",
     "text": [
      " 33%|███▎      | 150/460 [25:00<1:08:05, 13.18s/it]"
     ]
    },
    {
     "name": "stdout",
     "output_type": "stream",
     "text": [
      "epoch: 480 loss:0.279507 auc:0.6759\n",
      "Fit finished.\n",
      "epoch:   0 loss:0.802274 auc:0.5042\n",
      "epoch:  20 loss:0.386263 auc:0.5517\n",
      "epoch:  40 loss:0.373612 auc:0.6718\n",
      "epoch:  60 loss:0.371334 auc:0.7122\n",
      "epoch:  80 loss:0.369480 auc:0.7432\n",
      "epoch: 100 loss:0.366457 auc:0.7943\n",
      "epoch: 120 loss:0.360700 auc:0.8490\n",
      "epoch: 140 loss:0.352988 auc:0.8835\n",
      "epoch: 160 loss:0.345360 auc:0.8918\n",
      "epoch: 180 loss:0.334936 auc:0.8633\n",
      "epoch: 200 loss:0.322172 auc:0.8775\n",
      "epoch: 220 loss:0.311638 auc:0.8573\n",
      "epoch: 240 loss:0.304080 auc:0.8514\n",
      "epoch: 260 loss:0.307570 auc:0.8359\n"
     ]
    },
    {
     "name": "stderr",
     "output_type": "stream",
     "text": [
      " 33%|███▎      | 151/460 [25:12<1:06:21, 12.89s/it]"
     ]
    },
    {
     "name": "stdout",
     "output_type": "stream",
     "text": [
      "epoch: 280 loss:0.292830 auc:0.8359\n",
      "Fit finished.\n",
      "epoch:   0 loss:0.766446 auc:0.4375\n",
      "epoch:  20 loss:0.393711 auc:0.4141\n",
      "epoch:  40 loss:0.376437 auc:0.5508\n",
      "epoch:  60 loss:0.372758 auc:0.5664\n",
      "epoch:  80 loss:0.371591 auc:0.5742\n",
      "epoch: 100 loss:0.370507 auc:0.5703\n",
      "epoch: 120 loss:0.368833 auc:0.5859\n",
      "epoch: 140 loss:0.365107 auc:0.6406\n",
      "epoch: 160 loss:0.359112 auc:0.6172\n",
      "epoch: 180 loss:0.352678 auc:0.5977\n",
      "epoch: 200 loss:0.346529 auc:0.5859\n"
     ]
    },
    {
     "name": "stderr",
     "output_type": "stream",
     "text": [
      " 33%|███▎      | 152/460 [25:20<58:04, 11.31s/it]  "
     ]
    },
    {
     "name": "stdout",
     "output_type": "stream",
     "text": [
      "epoch: 220 loss:0.338458 auc:0.5625\n",
      "Fit finished.\n",
      "epoch:   0 loss:0.726418 auc:0.5150\n",
      "epoch:  20 loss:0.384351 auc:0.5067\n",
      "epoch:  40 loss:0.374626 auc:0.5121\n",
      "epoch:  60 loss:0.371423 auc:0.5331\n",
      "epoch:  80 loss:0.370168 auc:0.5427\n",
      "epoch: 100 loss:0.368805 auc:0.5468\n",
      "epoch: 120 loss:0.366474 auc:0.5394\n",
      "epoch: 140 loss:0.361660 auc:0.5263\n"
     ]
    },
    {
     "name": "stderr",
     "output_type": "stream",
     "text": [
      " 33%|███▎      | 153/460 [25:25<49:30,  9.67s/it]"
     ]
    },
    {
     "name": "stdout",
     "output_type": "stream",
     "text": [
      "epoch: 160 loss:0.354817 auc:0.5072\n",
      "Fit finished.\n",
      "epoch:   0 loss:0.797262 auc:0.6578\n",
      "epoch:  20 loss:0.394724 auc:0.8356\n",
      "epoch:  40 loss:0.378599 auc:0.8311\n",
      "epoch:  60 loss:0.373948 auc:0.8356\n",
      "epoch:  80 loss:0.372485 auc:0.8133\n",
      "epoch: 100 loss:0.371663 auc:0.8089\n",
      "epoch: 120 loss:0.370849 auc:0.7956\n",
      "epoch: 140 loss:0.369725 auc:0.7822\n",
      "epoch: 160 loss:0.367620 auc:0.7289\n"
     ]
    },
    {
     "name": "stderr",
     "output_type": "stream",
     "text": [
      " 33%|███▎      | 154/460 [25:33<45:59,  9.02s/it]"
     ]
    },
    {
     "name": "stdout",
     "output_type": "stream",
     "text": [
      "epoch: 180 loss:0.363212 auc:0.7111\n",
      "Fit finished.\n",
      "epoch:   0 loss:0.826791 auc:0.4201\n",
      "epoch:  20 loss:0.386594 auc:0.5207\n",
      "epoch:  40 loss:0.376375 auc:0.5503\n",
      "epoch:  60 loss:0.372540 auc:0.5503\n",
      "epoch:  80 loss:0.371322 auc:0.5740\n",
      "epoch: 100 loss:0.370345 auc:0.5799\n",
      "epoch: 120 loss:0.369033 auc:0.6036\n",
      "epoch: 140 loss:0.366632 auc:0.6805\n",
      "epoch: 160 loss:0.361979 auc:0.7692\n",
      "epoch: 180 loss:0.356325 auc:0.8284\n",
      "epoch: 200 loss:0.350658 auc:0.8225\n",
      "epoch: 220 loss:0.344613 auc:0.8343\n",
      "epoch: 240 loss:0.335183 auc:0.8462\n",
      "epoch: 260 loss:0.323000 auc:0.8402\n",
      "epoch: 280 loss:0.313281 auc:0.8757\n",
      "epoch: 300 loss:0.306432 auc:0.8107\n",
      "epoch: 320 loss:0.298606 auc:0.7929\n"
     ]
    },
    {
     "name": "stderr",
     "output_type": "stream",
     "text": [
      " 34%|███▎      | 155/460 [25:47<53:42, 10.57s/it]"
     ]
    },
    {
     "name": "stdout",
     "output_type": "stream",
     "text": [
      "epoch: 340 loss:0.293087 auc:0.8166\n",
      "Fit finished.\n",
      "epoch:   0 loss:0.745446 auc:0.5400\n",
      "epoch:  20 loss:0.406819 auc:0.5800\n",
      "epoch:  40 loss:0.379463 auc:0.5844\n",
      "epoch:  60 loss:0.373771 auc:0.6013\n",
      "epoch:  80 loss:0.371797 auc:0.6131\n",
      "epoch: 100 loss:0.370842 auc:0.6287\n",
      "epoch: 120 loss:0.369887 auc:0.6331\n",
      "epoch: 140 loss:0.368489 auc:0.6431\n",
      "epoch: 160 loss:0.365849 auc:0.6669\n",
      "epoch: 180 loss:0.361179 auc:0.6969\n",
      "epoch: 200 loss:0.356507 auc:0.7156\n",
      "epoch: 220 loss:0.351708 auc:0.7037\n",
      "epoch: 240 loss:0.352253 auc:0.6931\n",
      "epoch: 260 loss:0.340667 auc:0.6856\n",
      "epoch: 280 loss:0.333569 auc:0.6631\n",
      "epoch: 300 loss:0.328080 auc:0.6650\n"
     ]
    },
    {
     "name": "stderr",
     "output_type": "stream",
     "text": [
      " 34%|███▍      | 156/460 [26:00<57:30, 11.35s/it]"
     ]
    },
    {
     "name": "stdout",
     "output_type": "stream",
     "text": [
      "epoch: 320 loss:0.318497 auc:0.6625\n",
      "Fit finished.\n",
      "epoch:   0 loss:0.776257 auc:0.4772\n",
      "epoch:  20 loss:0.397908 auc:0.5198\n",
      "epoch:  40 loss:0.374925 auc:0.5227\n",
      "epoch:  60 loss:0.371702 auc:0.5266\n",
      "epoch:  80 loss:0.370422 auc:0.5266\n",
      "epoch: 100 loss:0.369339 auc:0.5292\n",
      "epoch: 120 loss:0.367880 auc:0.5352\n",
      "epoch: 140 loss:0.365106 auc:0.5404\n",
      "epoch: 160 loss:0.360060 auc:0.5312\n"
     ]
    },
    {
     "name": "stderr",
     "output_type": "stream",
     "text": [
      " 34%|███▍      | 158/460 [26:08<39:56,  7.94s/it]"
     ]
    },
    {
     "name": "stdout",
     "output_type": "stream",
     "text": [
      "epoch: 180 loss:0.354699 auc:0.5149\n",
      "Fit finished.\n",
      "epoch:   0 loss:0.933534 auc:0.4745\n",
      "epoch:  20 loss:0.429655 auc:0.4641\n",
      "epoch:  40 loss:0.385707 auc:0.4289\n",
      "epoch:  60 loss:0.375187 auc:0.4018\n",
      "epoch:  80 loss:0.372712 auc:0.3940\n",
      "epoch: 100 loss:0.371744 auc:0.3969\n",
      "epoch: 120 loss:0.371072 auc:0.3946\n",
      "epoch: 140 loss:0.370414 auc:0.3928\n"
     ]
    },
    {
     "name": "stderr",
     "output_type": "stream",
     "text": [
      " 35%|███▍      | 159/460 [26:14<37:31,  7.48s/it]"
     ]
    },
    {
     "name": "stdout",
     "output_type": "stream",
     "text": [
      "epoch: 160 loss:0.369630 auc:0.3907\n",
      "Fit finished.\n",
      "epoch:   0 loss:0.738927 auc:0.5270\n",
      "epoch:  20 loss:0.389443 auc:0.4986\n",
      "epoch:  40 loss:0.374342 auc:0.5128\n",
      "epoch:  60 loss:0.371906 auc:0.5337\n",
      "epoch:  80 loss:0.370750 auc:0.5478\n",
      "epoch: 100 loss:0.369525 auc:0.5633\n",
      "epoch: 120 loss:0.367173 auc:0.5695\n",
      "epoch: 140 loss:0.361710 auc:0.5621\n",
      "epoch: 160 loss:0.354720 auc:0.5442\n",
      "epoch: 180 loss:0.347654 auc:0.5219\n",
      "epoch: 200 loss:0.340846 auc:0.5170\n"
     ]
    },
    {
     "name": "stderr",
     "output_type": "stream",
     "text": [
      " 35%|███▍      | 160/460 [26:23<39:40,  7.94s/it]"
     ]
    },
    {
     "name": "stdout",
     "output_type": "stream",
     "text": [
      "epoch: 220 loss:0.330965 auc:0.5318\n",
      "Fit finished.\n",
      "epoch:   0 loss:0.984356 auc:0.5264\n",
      "epoch:  20 loss:0.402831 auc:0.4792\n",
      "epoch:  40 loss:0.378445 auc:0.4727\n",
      "epoch:  60 loss:0.373120 auc:0.4779\n",
      "epoch:  80 loss:0.371293 auc:0.4797\n",
      "epoch: 100 loss:0.370329 auc:0.4793\n",
      "epoch: 120 loss:0.369445 auc:0.4783\n",
      "epoch: 140 loss:0.368313 auc:0.4767\n"
     ]
    },
    {
     "name": "stderr",
     "output_type": "stream",
     "text": [
      " 35%|███▌      | 161/460 [26:31<38:46,  7.78s/it]"
     ]
    },
    {
     "name": "stdout",
     "output_type": "stream",
     "text": [
      "epoch: 160 loss:0.366456 auc:0.4729\n",
      "Fit finished.\n",
      "epoch:   0 loss:0.786091 auc:0.4896\n",
      "epoch:  20 loss:0.405586 auc:0.5133\n",
      "epoch:  40 loss:0.377627 auc:0.5582\n",
      "epoch:  60 loss:0.373059 auc:0.5855\n",
      "epoch:  80 loss:0.371396 auc:0.6158\n",
      "epoch: 100 loss:0.370413 auc:0.6366\n",
      "epoch: 120 loss:0.369449 auc:0.6605\n",
      "epoch: 140 loss:0.368178 auc:0.6798\n",
      "epoch: 160 loss:0.366193 auc:0.7002\n",
      "epoch: 180 loss:0.362907 auc:0.7100\n",
      "epoch: 200 loss:0.358244 auc:0.7143\n",
      "epoch: 220 loss:0.353020 auc:0.7284\n",
      "epoch: 240 loss:0.345939 auc:0.7142\n",
      "epoch: 260 loss:0.336979 auc:0.6625\n"
     ]
    },
    {
     "name": "stderr",
     "output_type": "stream",
     "text": [
      " 35%|███▌      | 162/460 [26:43<44:23,  8.94s/it]"
     ]
    },
    {
     "name": "stdout",
     "output_type": "stream",
     "text": [
      "epoch: 280 loss:0.324959 auc:0.5982\n",
      "Fit finished.\n",
      "epoch:   0 loss:0.813101 auc:0.5045\n",
      "epoch:  20 loss:0.424080 auc:0.5460\n",
      "epoch:  40 loss:0.384319 auc:0.5783\n",
      "epoch:  60 loss:0.374637 auc:0.5943\n",
      "epoch:  80 loss:0.372290 auc:0.6067\n",
      "epoch: 100 loss:0.371330 auc:0.6110\n",
      "epoch: 120 loss:0.370641 auc:0.6191\n",
      "epoch: 140 loss:0.369820 auc:0.6280\n",
      "epoch: 160 loss:0.368578 auc:0.6439\n",
      "epoch: 180 loss:0.366366 auc:0.6596\n",
      "epoch: 200 loss:0.362069 auc:0.6841\n",
      "epoch: 220 loss:0.356897 auc:0.6955\n",
      "epoch: 240 loss:0.351647 auc:0.6876\n",
      "epoch: 260 loss:0.345597 auc:0.6790\n",
      "epoch: 280 loss:0.339064 auc:0.6596\n",
      "epoch: 300 loss:0.333235 auc:0.6431\n"
     ]
    },
    {
     "name": "stderr",
     "output_type": "stream",
     "text": [
      " 35%|███▌      | 163/460 [26:56<49:52, 10.08s/it]"
     ]
    },
    {
     "name": "stdout",
     "output_type": "stream",
     "text": [
      "epoch: 320 loss:0.329940 auc:0.6022\n",
      "Fit finished.\n",
      "epoch:   0 loss:0.702384 auc:0.5000\n",
      "epoch:  20 loss:0.394805 auc:0.4509\n",
      "epoch:  40 loss:0.376305 auc:0.4518\n",
      "epoch:  60 loss:0.372179 auc:0.4566\n",
      "epoch:  80 loss:0.370744 auc:0.4571\n",
      "epoch: 100 loss:0.369899 auc:0.4572\n",
      "epoch: 120 loss:0.368958 auc:0.4607\n",
      "epoch: 140 loss:0.367494 auc:0.4643\n"
     ]
    },
    {
     "name": "stderr",
     "output_type": "stream",
     "text": [
      " 36%|███▌      | 164/460 [27:03<45:39,  9.26s/it]"
     ]
    },
    {
     "name": "stdout",
     "output_type": "stream",
     "text": [
      "epoch: 160 loss:0.364699 auc:0.4632\n",
      "Fit finished.\n",
      "epoch:   0 loss:0.867541 auc:0.4597\n",
      "epoch:  20 loss:0.396621 auc:0.3691\n",
      "epoch:  40 loss:0.377976 auc:0.3162\n",
      "epoch:  60 loss:0.373243 auc:0.2951\n",
      "epoch:  80 loss:0.371949 auc:0.2826\n",
      "epoch: 100 loss:0.371192 auc:0.2815\n",
      "epoch: 120 loss:0.370424 auc:0.2868\n",
      "epoch: 140 loss:0.369393 auc:0.2904\n"
     ]
    },
    {
     "name": "stderr",
     "output_type": "stream",
     "text": [
      " 36%|███▌      | 165/460 [27:10<42:49,  8.71s/it]"
     ]
    },
    {
     "name": "stdout",
     "output_type": "stream",
     "text": [
      "epoch: 160 loss:0.367650 auc:0.2855\n",
      "Fit finished.\n",
      "epoch:   0 loss:0.769033 auc:0.4656\n",
      "epoch:  20 loss:0.390649 auc:0.4819\n",
      "epoch:  40 loss:0.377533 auc:0.4961\n",
      "epoch:  60 loss:0.372835 auc:0.5022\n",
      "epoch:  80 loss:0.371424 auc:0.4986\n",
      "epoch: 100 loss:0.370670 auc:0.4916\n",
      "epoch: 120 loss:0.370000 auc:0.4821\n",
      "epoch: 140 loss:0.369179 auc:0.4747\n"
     ]
    },
    {
     "name": "stderr",
     "output_type": "stream",
     "text": [
      " 36%|███▌      | 166/460 [27:17<40:29,  8.26s/it]"
     ]
    },
    {
     "name": "stdout",
     "output_type": "stream",
     "text": [
      "epoch: 160 loss:0.367956 auc:0.4653\n",
      "Fit finished.\n",
      "epoch:   0 loss:1.093278 auc:0.5042\n",
      "epoch:  20 loss:0.416616 auc:0.5996\n",
      "epoch:  40 loss:0.382251 auc:0.6220\n",
      "epoch:  60 loss:0.374239 auc:0.6266\n",
      "epoch:  80 loss:0.372428 auc:0.6352\n",
      "epoch: 100 loss:0.371652 auc:0.6420\n",
      "epoch: 120 loss:0.371056 auc:0.6449\n",
      "epoch: 140 loss:0.370436 auc:0.6505\n",
      "epoch: 160 loss:0.369671 auc:0.6489\n",
      "epoch: 180 loss:0.368639 auc:0.6490\n",
      "epoch: 200 loss:0.367146 auc:0.6511\n",
      "epoch: 220 loss:0.364836 auc:0.6579\n",
      "epoch: 240 loss:0.361405 auc:0.6614\n",
      "epoch: 260 loss:0.357300 auc:0.6742\n",
      "epoch: 280 loss:0.352759 auc:0.6981\n",
      "epoch: 300 loss:0.347024 auc:0.7070\n",
      "epoch: 320 loss:0.341363 auc:0.7075\n",
      "epoch: 340 loss:0.336025 auc:0.7012\n",
      "epoch: 360 loss:0.331181 auc:0.6927\n",
      "epoch: 380 loss:0.325843 auc:0.6855\n",
      "epoch: 400 loss:0.318023 auc:0.6898\n",
      "epoch: 420 loss:0.311107 auc:0.6950\n",
      "epoch: 440 loss:0.306474 auc:0.7040\n"
     ]
    },
    {
     "name": "stderr",
     "output_type": "stream",
     "text": [
      " 36%|███▋      | 167/460 [27:36<54:38, 11.19s/it]"
     ]
    },
    {
     "name": "stdout",
     "output_type": "stream",
     "text": [
      "epoch: 460 loss:0.299504 auc:0.7023\n",
      "Fit finished.\n",
      "epoch:   0 loss:0.808619 auc:0.5848\n",
      "epoch:  20 loss:0.390239 auc:0.6817\n",
      "epoch:  40 loss:0.376271 auc:0.7474\n",
      "epoch:  60 loss:0.373025 auc:0.7958\n",
      "epoch:  80 loss:0.371897 auc:0.8097\n",
      "epoch: 100 loss:0.371103 auc:0.8443\n",
      "epoch: 120 loss:0.370131 auc:0.8616\n",
      "epoch: 140 loss:0.368417 auc:0.8651\n",
      "epoch: 160 loss:0.364424 auc:0.8547\n",
      "epoch: 180 loss:0.358315 auc:0.8270\n",
      "epoch: 200 loss:0.352864 auc:0.8304\n",
      "epoch: 220 loss:0.346256 auc:0.8304\n"
     ]
    },
    {
     "name": "stderr",
     "output_type": "stream",
     "text": [
      " 37%|███▋      | 168/460 [27:47<54:14, 11.14s/it]"
     ]
    },
    {
     "name": "stdout",
     "output_type": "stream",
     "text": [
      "epoch: 240 loss:0.335963 auc:0.7232\n",
      "Fit finished.\n",
      "epoch:   0 loss:0.850602 auc:0.4789\n",
      "epoch:  20 loss:0.389489 auc:0.4704\n",
      "epoch:  40 loss:0.374244 auc:0.4876\n",
      "epoch:  60 loss:0.372028 auc:0.4848\n",
      "epoch:  80 loss:0.370939 auc:0.4724\n",
      "epoch: 100 loss:0.370047 auc:0.4534\n",
      "epoch: 120 loss:0.368822 auc:0.4431\n",
      "epoch: 140 loss:0.366697 auc:0.4388\n"
     ]
    },
    {
     "name": "stderr",
     "output_type": "stream",
     "text": [
      " 37%|███▋      | 169/460 [27:53<47:20,  9.76s/it]"
     ]
    },
    {
     "name": "stdout",
     "output_type": "stream",
     "text": [
      "epoch: 160 loss:0.362732 auc:0.4452\n",
      "Fit finished.\n",
      "epoch:   0 loss:0.861131 auc:0.5203\n",
      "epoch:  20 loss:0.402807 auc:0.4796\n",
      "epoch:  40 loss:0.378306 auc:0.4714\n",
      "epoch:  60 loss:0.372690 auc:0.4925\n",
      "epoch:  80 loss:0.371178 auc:0.5070\n",
      "epoch: 100 loss:0.370401 auc:0.5228\n",
      "epoch: 120 loss:0.369741 auc:0.5325\n",
      "epoch: 140 loss:0.368967 auc:0.5415\n",
      "epoch: 160 loss:0.367836 auc:0.5425\n",
      "epoch: 180 loss:0.365844 auc:0.5395\n",
      "epoch: 200 loss:0.362300 auc:0.5412\n",
      "epoch: 220 loss:0.357945 auc:0.5402\n",
      "epoch: 240 loss:0.353447 auc:0.5227\n"
     ]
    },
    {
     "name": "stderr",
     "output_type": "stream",
     "text": [
      " 37%|███▋      | 170/460 [28:04<48:13,  9.98s/it]"
     ]
    },
    {
     "name": "stdout",
     "output_type": "stream",
     "text": [
      "epoch: 260 loss:0.347903 auc:0.4823\n",
      "Fit finished.\n",
      "epoch:   0 loss:0.849537 auc:0.5082\n",
      "epoch:  20 loss:0.402185 auc:0.5108\n",
      "epoch:  40 loss:0.377138 auc:0.4758\n",
      "epoch:  60 loss:0.372191 auc:0.4646\n",
      "epoch:  80 loss:0.370550 auc:0.4590\n",
      "epoch: 100 loss:0.369552 auc:0.4525\n",
      "epoch: 120 loss:0.368497 auc:0.4439\n",
      "epoch: 140 loss:0.367070 auc:0.4306\n"
     ]
    },
    {
     "name": "stderr",
     "output_type": "stream",
     "text": [
      " 37%|███▋      | 172/460 [28:10<33:14,  6.93s/it]"
     ]
    },
    {
     "name": "stdout",
     "output_type": "stream",
     "text": [
      "epoch: 160 loss:0.364824 auc:0.4162\n",
      "Fit finished.\n",
      "epoch:   0 loss:0.872478 auc:0.5418\n",
      "epoch:  20 loss:0.391675 auc:0.5701\n",
      "epoch:  40 loss:0.375762 auc:0.5436\n",
      "epoch:  60 loss:0.372719 auc:0.5303\n",
      "epoch:  80 loss:0.371511 auc:0.5204\n",
      "epoch: 100 loss:0.370697 auc:0.5089\n",
      "epoch: 120 loss:0.369752 auc:0.4998\n",
      "epoch: 140 loss:0.368251 auc:0.4781\n"
     ]
    },
    {
     "name": "stderr",
     "output_type": "stream",
     "text": [
      " 38%|███▊      | 173/460 [28:17<32:57,  6.89s/it]"
     ]
    },
    {
     "name": "stdout",
     "output_type": "stream",
     "text": [
      "epoch: 160 loss:0.365455 auc:0.4368\n",
      "Fit finished.\n",
      "epoch:   0 loss:0.706567 auc:0.4941\n",
      "epoch:  20 loss:0.384748 auc:0.5296\n",
      "epoch:  40 loss:0.374004 auc:0.5699\n",
      "epoch:  60 loss:0.371291 auc:0.5896\n",
      "epoch:  80 loss:0.370169 auc:0.6124\n",
      "epoch: 100 loss:0.368876 auc:0.6344\n",
      "epoch: 120 loss:0.366634 auc:0.6452\n",
      "epoch: 140 loss:0.362047 auc:0.6264\n",
      "epoch: 160 loss:0.355045 auc:0.6036\n",
      "epoch: 180 loss:0.346255 auc:0.6099\n",
      "epoch: 200 loss:0.339092 auc:0.6253\n",
      "epoch: 220 loss:0.329583 auc:0.6125\n"
     ]
    },
    {
     "name": "stderr",
     "output_type": "stream",
     "text": [
      " 38%|███▊      | 174/460 [28:27<36:01,  7.56s/it]"
     ]
    },
    {
     "name": "stdout",
     "output_type": "stream",
     "text": [
      "epoch: 240 loss:0.320146 auc:0.5914\n",
      "Fit finished.\n",
      "epoch:   0 loss:0.870040 auc:0.5816\n",
      "epoch:  20 loss:0.401379 auc:0.4444\n",
      "epoch:  40 loss:0.376596 auc:0.4966\n",
      "epoch:  60 loss:0.372802 auc:0.5624\n",
      "epoch:  80 loss:0.371297 auc:0.5953\n",
      "epoch: 100 loss:0.370375 auc:0.6214\n",
      "epoch: 120 loss:0.369332 auc:0.6543\n",
      "epoch: 140 loss:0.367749 auc:0.6941\n",
      "epoch: 160 loss:0.364841 auc:0.7202\n",
      "epoch: 180 loss:0.360059 auc:0.7490\n",
      "epoch: 200 loss:0.354924 auc:0.7833\n",
      "epoch: 220 loss:0.349417 auc:0.7750\n",
      "epoch: 240 loss:0.342022 auc:0.7353\n",
      "epoch: 260 loss:0.336315 auc:0.6776\n",
      "epoch: 280 loss:0.327129 auc:0.6639\n"
     ]
    },
    {
     "name": "stderr",
     "output_type": "stream",
     "text": [
      " 38%|███▊      | 176/460 [28:39<32:47,  6.93s/it]"
     ]
    },
    {
     "name": "stdout",
     "output_type": "stream",
     "text": [
      "epoch: 300 loss:0.319536 auc:0.6433\n",
      "Fit finished.\n",
      "epoch:   0 loss:0.880553 auc:0.5350\n",
      "epoch:  20 loss:0.405485 auc:0.5369\n",
      "epoch:  40 loss:0.381464 auc:0.6900\n",
      "epoch:  60 loss:0.374346 auc:0.7108\n",
      "epoch:  80 loss:0.372397 auc:0.7297\n",
      "epoch: 100 loss:0.371524 auc:0.7335\n",
      "epoch: 120 loss:0.370811 auc:0.7259\n",
      "epoch: 140 loss:0.369904 auc:0.7429\n",
      "epoch: 160 loss:0.368309 auc:0.7845\n",
      "epoch: 180 loss:0.364750 auc:0.8204\n",
      "epoch: 200 loss:0.359165 auc:0.8242\n",
      "epoch: 220 loss:0.353699 auc:0.8129\n",
      "epoch: 240 loss:0.349301 auc:0.7940\n",
      "epoch: 260 loss:0.341944 auc:0.7921\n",
      "epoch: 280 loss:0.334267 auc:0.7713\n",
      "epoch: 300 loss:0.331116 auc:0.7618\n"
     ]
    },
    {
     "name": "stderr",
     "output_type": "stream",
     "text": [
      " 38%|███▊      | 177/460 [28:51<38:36,  8.19s/it]"
     ]
    },
    {
     "name": "stdout",
     "output_type": "stream",
     "text": [
      "epoch: 320 loss:0.321292 auc:0.7732\n",
      "Fit finished.\n",
      "epoch:   0 loss:0.759438 auc:0.5328\n",
      "epoch:  20 loss:0.389932 auc:0.5158\n",
      "epoch:  40 loss:0.375838 auc:0.4923\n",
      "epoch:  60 loss:0.372120 auc:0.4794\n",
      "epoch:  80 loss:0.370723 auc:0.4601\n",
      "epoch: 100 loss:0.369341 auc:0.4439\n",
      "epoch: 120 loss:0.366958 auc:0.4211\n",
      "epoch: 140 loss:0.362106 auc:0.3613\n"
     ]
    },
    {
     "name": "stderr",
     "output_type": "stream",
     "text": [
      " 39%|███▊      | 178/460 [28:58<36:40,  7.80s/it]"
     ]
    },
    {
     "name": "stdout",
     "output_type": "stream",
     "text": [
      "epoch: 160 loss:0.356195 auc:0.3002\n",
      "Fit finished.\n",
      "epoch:   0 loss:0.693254 auc:0.5192\n",
      "epoch:  20 loss:0.396697 auc:0.5154\n",
      "epoch:  40 loss:0.376674 auc:0.5224\n",
      "epoch:  60 loss:0.371881 auc:0.5367\n",
      "epoch:  80 loss:0.370456 auc:0.5486\n",
      "epoch: 100 loss:0.369571 auc:0.5579\n",
      "epoch: 120 loss:0.368379 auc:0.5667\n",
      "epoch: 140 loss:0.366047 auc:0.5767\n",
      "epoch: 160 loss:0.361654 auc:0.5814\n",
      "epoch: 180 loss:0.356719 auc:0.5817\n",
      "epoch: 200 loss:0.352445 auc:0.5799\n",
      "epoch: 220 loss:0.347940 auc:0.5767\n",
      "epoch: 240 loss:0.342400 auc:0.5781\n",
      "epoch: 260 loss:0.335420 auc:0.5708\n"
     ]
    },
    {
     "name": "stderr",
     "output_type": "stream",
     "text": [
      " 39%|███▉      | 179/460 [29:09<40:52,  8.73s/it]"
     ]
    },
    {
     "name": "stdout",
     "output_type": "stream",
     "text": [
      "epoch: 280 loss:0.328252 auc:0.5430\n",
      "Fit finished.\n",
      "epoch:   0 loss:0.717809 auc:0.5475\n",
      "epoch:  20 loss:0.387733 auc:0.6007\n",
      "epoch:  40 loss:0.374910 auc:0.6335\n",
      "epoch:  60 loss:0.372225 auc:0.6379\n",
      "epoch:  80 loss:0.371136 auc:0.6433\n",
      "epoch: 100 loss:0.370174 auc:0.6356\n",
      "epoch: 120 loss:0.368825 auc:0.6316\n",
      "epoch: 140 loss:0.366287 auc:0.6420\n",
      "epoch: 160 loss:0.361361 auc:0.6717\n",
      "epoch: 180 loss:0.355421 auc:0.7112\n",
      "epoch: 200 loss:0.348443 auc:0.7247\n",
      "epoch: 220 loss:0.340624 auc:0.7242\n",
      "epoch: 240 loss:0.333238 auc:0.7286\n",
      "epoch: 260 loss:0.324846 auc:0.7022\n",
      "epoch: 280 loss:0.316547 auc:0.6931\n"
     ]
    },
    {
     "name": "stderr",
     "output_type": "stream",
     "text": [
      " 39%|███▉      | 180/460 [29:19<42:21,  9.08s/it]"
     ]
    },
    {
     "name": "stdout",
     "output_type": "stream",
     "text": [
      "epoch: 300 loss:0.307654 auc:0.6308\n",
      "Fit finished.\n",
      "epoch:   0 loss:0.768395 auc:0.6444\n",
      "epoch:  20 loss:0.398961 auc:0.6844\n",
      "epoch:  40 loss:0.378238 auc:0.6533\n",
      "epoch:  60 loss:0.373745 auc:0.6444\n",
      "epoch:  80 loss:0.372111 auc:0.6400\n",
      "epoch: 100 loss:0.371337 auc:0.6311\n",
      "epoch: 120 loss:0.370702 auc:0.6267\n",
      "epoch: 140 loss:0.370000 auc:0.6444\n",
      "epoch: 160 loss:0.369043 auc:0.6622\n"
     ]
    },
    {
     "name": "stderr",
     "output_type": "stream",
     "text": [
      " 39%|███▉      | 181/460 [29:27<41:22,  8.90s/it]"
     ]
    },
    {
     "name": "stdout",
     "output_type": "stream",
     "text": [
      "epoch: 180 loss:0.367505 auc:0.6711\n",
      "Fit finished.\n",
      "epoch:   0 loss:0.747963 auc:0.4421\n",
      "epoch:  20 loss:0.388091 auc:0.4966\n",
      "epoch:  40 loss:0.376024 auc:0.5128\n",
      "epoch:  60 loss:0.372054 auc:0.5011\n",
      "epoch:  80 loss:0.370736 auc:0.4847\n",
      "epoch: 100 loss:0.369698 auc:0.4791\n",
      "epoch: 120 loss:0.368275 auc:0.4764\n",
      "epoch: 140 loss:0.365499 auc:0.4756\n",
      "epoch: 160 loss:0.359678 auc:0.4778\n"
     ]
    },
    {
     "name": "stderr",
     "output_type": "stream",
     "text": [
      " 40%|███▉      | 182/460 [29:35<39:17,  8.48s/it]"
     ]
    },
    {
     "name": "stdout",
     "output_type": "stream",
     "text": [
      "epoch: 180 loss:0.352382 auc:0.4943\n",
      "Fit finished.\n",
      "epoch:   0 loss:0.725459 auc:0.4852\n",
      "epoch:  20 loss:0.396096 auc:0.4349\n",
      "epoch:  40 loss:0.377140 auc:0.4512\n",
      "epoch:  60 loss:0.373414 auc:0.4704\n",
      "epoch:  80 loss:0.372130 auc:0.4985\n",
      "epoch: 100 loss:0.371303 auc:0.5251\n",
      "epoch: 120 loss:0.370348 auc:0.5370\n",
      "epoch: 140 loss:0.368862 auc:0.5503\n",
      "epoch: 160 loss:0.366054 auc:0.5769\n",
      "epoch: 180 loss:0.361074 auc:0.5917\n",
      "epoch: 200 loss:0.355705 auc:0.6642\n",
      "epoch: 220 loss:0.349970 auc:0.6997\n",
      "epoch: 240 loss:0.346192 auc:0.6908\n",
      "epoch: 260 loss:0.335558 auc:0.6464\n",
      "epoch: 280 loss:0.326450 auc:0.5976\n",
      "epoch: 300 loss:0.316707 auc:0.5725\n"
     ]
    },
    {
     "name": "stderr",
     "output_type": "stream",
     "text": [
      " 40%|███▉      | 183/460 [29:48<45:01,  9.75s/it]"
     ]
    },
    {
     "name": "stdout",
     "output_type": "stream",
     "text": [
      "epoch: 320 loss:0.308232 auc:0.5725\n",
      "Fit finished.\n",
      "epoch:   0 loss:0.825248 auc:0.4286\n",
      "epoch:  20 loss:0.391931 auc:0.5986\n",
      "epoch:  40 loss:0.378076 auc:0.6032\n",
      "epoch:  60 loss:0.373649 auc:0.6236\n",
      "epoch:  80 loss:0.372298 auc:0.6327\n",
      "epoch: 100 loss:0.371566 auc:0.6100\n",
      "epoch: 120 loss:0.370826 auc:0.6032\n",
      "epoch: 140 loss:0.369783 auc:0.5986\n",
      "epoch: 160 loss:0.367825 auc:0.6077\n",
      "epoch: 180 loss:0.363247 auc:0.6916\n",
      "epoch: 200 loss:0.356248 auc:0.8163\n",
      "epoch: 220 loss:0.347907 auc:0.8503\n",
      "epoch: 240 loss:0.338307 auc:0.8549\n",
      "epoch: 260 loss:0.332615 auc:0.8390\n",
      "epoch: 280 loss:0.324043 auc:0.8299\n",
      "epoch: 300 loss:0.316043 auc:0.8322\n",
      "epoch: 320 loss:0.335601 auc:0.8163\n",
      "epoch: 340 loss:0.307562 auc:0.8322\n",
      "epoch: 360 loss:0.300179 auc:0.8413\n"
     ]
    },
    {
     "name": "stderr",
     "output_type": "stream",
     "text": [
      " 40%|████      | 184/460 [30:00<48:24, 10.52s/it]"
     ]
    },
    {
     "name": "stdout",
     "output_type": "stream",
     "text": [
      "epoch: 380 loss:0.294694 auc:0.8345\n",
      "Fit finished.\n",
      "epoch:   0 loss:0.760303 auc:0.5600\n",
      "epoch:  20 loss:0.389423 auc:0.4868\n",
      "epoch:  40 loss:0.374999 auc:0.4621\n",
      "epoch:  60 loss:0.371649 auc:0.4659\n",
      "epoch:  80 loss:0.370087 auc:0.4640\n",
      "epoch: 100 loss:0.367959 auc:0.4587\n",
      "epoch: 120 loss:0.363658 auc:0.4519\n",
      "epoch: 140 loss:0.357494 auc:0.4521\n"
     ]
    },
    {
     "name": "stderr",
     "output_type": "stream",
     "text": [
      " 40%|████      | 185/460 [30:08<44:00,  9.60s/it]"
     ]
    },
    {
     "name": "stdout",
     "output_type": "stream",
     "text": [
      "epoch: 160 loss:0.351597 auc:0.4808\n",
      "Fit finished.\n",
      "epoch:   0 loss:0.747456 auc:0.5669\n",
      "epoch:  20 loss:0.398111 auc:0.5714\n",
      "epoch:  40 loss:0.376623 auc:0.6190\n",
      "epoch:  60 loss:0.372970 auc:0.6395\n",
      "epoch:  80 loss:0.371558 auc:0.6735\n",
      "epoch: 100 loss:0.370508 auc:0.6984\n",
      "epoch: 120 loss:0.369063 auc:0.7211\n",
      "epoch: 140 loss:0.366486 auc:0.7279\n",
      "epoch: 160 loss:0.362151 auc:0.7370\n",
      "epoch: 180 loss:0.357259 auc:0.7188\n",
      "epoch: 200 loss:0.351785 auc:0.7256\n",
      "epoch: 220 loss:0.344730 auc:0.7370\n",
      "epoch: 240 loss:0.337511 auc:0.7256\n",
      "epoch: 260 loss:0.327765 auc:0.7098\n"
     ]
    },
    {
     "name": "stderr",
     "output_type": "stream",
     "text": [
      " 40%|████      | 186/460 [30:20<47:07, 10.32s/it]"
     ]
    },
    {
     "name": "stdout",
     "output_type": "stream",
     "text": [
      "epoch: 280 loss:0.321049 auc:0.7166\n",
      "Fit finished.\n",
      "epoch:   0 loss:0.799815 auc:0.5279\n",
      "epoch:  20 loss:0.398425 auc:0.4610\n",
      "epoch:  40 loss:0.377203 auc:0.4688\n",
      "epoch:  60 loss:0.372156 auc:0.4561\n",
      "epoch:  80 loss:0.370694 auc:0.4591\n",
      "epoch: 100 loss:0.369511 auc:0.4690\n",
      "epoch: 120 loss:0.367775 auc:0.4733\n",
      "epoch: 140 loss:0.364246 auc:0.4752\n"
     ]
    },
    {
     "name": "stderr",
     "output_type": "stream",
     "text": [
      " 41%|████      | 187/460 [30:27<42:29,  9.34s/it]"
     ]
    },
    {
     "name": "stdout",
     "output_type": "stream",
     "text": [
      "epoch: 160 loss:0.359282 auc:0.4830\n",
      "Fit finished.\n",
      "epoch:   0 loss:0.783298 auc:0.4835\n",
      "epoch:  20 loss:0.405461 auc:0.5199\n",
      "epoch:  40 loss:0.379719 auc:0.5379\n",
      "epoch:  60 loss:0.373737 auc:0.5462\n",
      "epoch:  80 loss:0.371963 auc:0.5530\n",
      "epoch: 100 loss:0.371113 auc:0.5662\n",
      "epoch: 120 loss:0.370408 auc:0.5826\n",
      "epoch: 140 loss:0.369517 auc:0.5985\n",
      "epoch: 160 loss:0.368106 auc:0.6083\n",
      "epoch: 180 loss:0.365542 auc:0.6075\n",
      "epoch: 200 loss:0.361282 auc:0.6039\n",
      "epoch: 220 loss:0.356295 auc:0.6016\n",
      "epoch: 240 loss:0.351067 auc:0.5980\n",
      "epoch: 260 loss:0.344804 auc:0.6100\n",
      "epoch: 280 loss:0.338215 auc:0.6119\n",
      "epoch: 300 loss:0.330395 auc:0.6343\n",
      "epoch: 320 loss:0.321390 auc:0.6279\n",
      "epoch: 340 loss:0.313329 auc:0.6195\n"
     ]
    },
    {
     "name": "stderr",
     "output_type": "stream",
     "text": [
      " 41%|████      | 188/460 [30:41<48:59, 10.81s/it]"
     ]
    },
    {
     "name": "stdout",
     "output_type": "stream",
     "text": [
      "epoch: 360 loss:0.321517 auc:0.6029\n",
      "Fit finished.\n",
      "epoch:   0 loss:0.814375 auc:0.3047\n",
      "epoch:  20 loss:0.407761 auc:0.7422\n",
      "epoch:  40 loss:0.378301 auc:0.7852\n",
      "epoch:  60 loss:0.373803 auc:0.7578\n",
      "epoch:  80 loss:0.372175 auc:0.7578\n",
      "epoch: 100 loss:0.371332 auc:0.7891\n",
      "epoch: 120 loss:0.370426 auc:0.7930\n",
      "epoch: 140 loss:0.368936 auc:0.8242\n",
      "epoch: 160 loss:0.365860 auc:0.8086\n",
      "epoch: 180 loss:0.361164 auc:0.7578\n",
      "epoch: 200 loss:0.356117 auc:0.7930\n",
      "epoch: 220 loss:0.351419 auc:0.8008\n",
      "epoch: 240 loss:0.344673 auc:0.7969\n"
     ]
    },
    {
     "name": "stderr",
     "output_type": "stream",
     "text": [
      " 41%|████      | 189/460 [30:50<47:08, 10.44s/it]"
     ]
    },
    {
     "name": "stdout",
     "output_type": "stream",
     "text": [
      "epoch: 260 loss:0.335992 auc:0.7773\n",
      "Fit finished.\n",
      "epoch:   0 loss:0.897972 auc:0.5153\n",
      "epoch:  20 loss:0.409206 auc:0.5362\n",
      "epoch:  40 loss:0.381722 auc:0.5051\n",
      "epoch:  60 loss:0.374051 auc:0.4944\n",
      "epoch:  80 loss:0.371880 auc:0.4958\n",
      "epoch: 100 loss:0.370945 auc:0.4962\n",
      "epoch: 120 loss:0.370171 auc:0.4953\n",
      "epoch: 140 loss:0.369196 auc:0.4883\n"
     ]
    },
    {
     "name": "stderr",
     "output_type": "stream",
     "text": [
      " 41%|████▏     | 190/460 [30:58<43:00,  9.56s/it]"
     ]
    },
    {
     "name": "stdout",
     "output_type": "stream",
     "text": [
      "epoch: 160 loss:0.367604 auc:0.4773\n",
      "Fit finished.\n",
      "epoch:   0 loss:0.820495 auc:0.4622\n",
      "epoch:  20 loss:0.394859 auc:0.5063\n",
      "epoch:  40 loss:0.376312 auc:0.5409\n",
      "epoch:  60 loss:0.372229 auc:0.5577\n",
      "epoch:  80 loss:0.370985 auc:0.5751\n",
      "epoch: 100 loss:0.369962 auc:0.5988\n",
      "epoch: 120 loss:0.368518 auc:0.6172\n",
      "epoch: 140 loss:0.365676 auc:0.6288\n",
      "epoch: 160 loss:0.360685 auc:0.6239\n",
      "epoch: 180 loss:0.355147 auc:0.6336\n",
      "epoch: 200 loss:0.350400 auc:0.6118\n"
     ]
    },
    {
     "name": "stderr",
     "output_type": "stream",
     "text": [
      " 42%|████▏     | 192/460 [31:08<33:05,  7.41s/it]"
     ]
    },
    {
     "name": "stdout",
     "output_type": "stream",
     "text": [
      "epoch: 220 loss:0.340644 auc:0.5263\n",
      "Fit finished.\n",
      "epoch:   0 loss:0.693992 auc:0.4690\n",
      "epoch:  20 loss:0.390568 auc:0.5411\n",
      "epoch:  40 loss:0.375785 auc:0.4366\n",
      "epoch:  60 loss:0.373194 auc:0.4105\n",
      "epoch:  80 loss:0.372122 auc:0.3956\n",
      "epoch: 100 loss:0.371407 auc:0.3824\n",
      "epoch: 120 loss:0.370515 auc:0.3700\n",
      "epoch: 140 loss:0.368958 auc:0.3558\n"
     ]
    },
    {
     "name": "stderr",
     "output_type": "stream",
     "text": [
      " 42%|████▏     | 193/460 [31:15<32:44,  7.36s/it]"
     ]
    },
    {
     "name": "stdout",
     "output_type": "stream",
     "text": [
      "epoch: 160 loss:0.365587 auc:0.3160\n",
      "Fit finished.\n",
      "epoch:   0 loss:0.784621 auc:0.5007\n",
      "epoch:  20 loss:0.391157 auc:0.4993\n",
      "epoch:  40 loss:0.375702 auc:0.5242\n",
      "epoch:  60 loss:0.372512 auc:0.5388\n",
      "epoch:  80 loss:0.371274 auc:0.5478\n",
      "epoch: 100 loss:0.370436 auc:0.5568\n",
      "epoch: 120 loss:0.369423 auc:0.5748\n",
      "epoch: 140 loss:0.367812 auc:0.6025\n",
      "epoch: 160 loss:0.364800 auc:0.6447\n",
      "epoch: 180 loss:0.360176 auc:0.6884\n",
      "epoch: 200 loss:0.354918 auc:0.7043\n",
      "epoch: 220 loss:0.350401 auc:0.7119\n",
      "epoch: 240 loss:0.341107 auc:0.7299\n",
      "epoch: 260 loss:0.343130 auc:0.7278\n",
      "epoch: 280 loss:0.326274 auc:0.7576\n",
      "epoch: 300 loss:0.317820 auc:0.7659\n",
      "epoch: 320 loss:0.311050 auc:0.7680\n",
      "epoch: 340 loss:0.310417 auc:0.7756\n",
      "epoch: 360 loss:0.301119 auc:0.7735\n",
      "epoch: 380 loss:0.294923 auc:0.7611\n",
      "epoch: 400 loss:0.289715 auc:0.7583\n",
      "epoch: 420 loss:0.285554 auc:0.7576\n"
     ]
    },
    {
     "name": "stderr",
     "output_type": "stream",
     "text": [
      " 42%|████▏     | 194/460 [31:33<45:14, 10.20s/it]"
     ]
    },
    {
     "name": "stdout",
     "output_type": "stream",
     "text": [
      "epoch: 440 loss:0.319290 auc:0.6918\n",
      "Fit finished.\n",
      "epoch:   0 loss:0.690065 auc:0.4796\n",
      "epoch:  20 loss:0.393061 auc:0.4424\n",
      "epoch:  40 loss:0.375305 auc:0.4279\n",
      "epoch:  60 loss:0.371458 auc:0.4231\n",
      "epoch:  80 loss:0.369950 auc:0.4198\n",
      "epoch: 100 loss:0.368270 auc:0.4203\n",
      "epoch: 120 loss:0.364995 auc:0.4203\n",
      "epoch: 140 loss:0.359339 auc:0.4052\n"
     ]
    },
    {
     "name": "stderr",
     "output_type": "stream",
     "text": [
      " 42%|████▏     | 195/460 [31:40<41:00,  9.29s/it]"
     ]
    },
    {
     "name": "stdout",
     "output_type": "stream",
     "text": [
      "epoch: 160 loss:0.353593 auc:0.3908\n",
      "Fit finished.\n",
      "epoch:   0 loss:0.812863 auc:0.5002\n",
      "epoch:  20 loss:0.400864 auc:0.5447\n",
      "epoch:  40 loss:0.377259 auc:0.5728\n",
      "epoch:  60 loss:0.372980 auc:0.5995\n",
      "epoch:  80 loss:0.371520 auc:0.6074\n",
      "epoch: 100 loss:0.370572 auc:0.6158\n",
      "epoch: 120 loss:0.369560 auc:0.6173\n",
      "epoch: 140 loss:0.368100 auc:0.6351\n",
      "epoch: 160 loss:0.365605 auc:0.6691\n",
      "epoch: 180 loss:0.361402 auc:0.7210\n",
      "epoch: 200 loss:0.356238 auc:0.7714\n",
      "epoch: 220 loss:0.350037 auc:0.7847\n",
      "epoch: 240 loss:0.342568 auc:0.7862\n",
      "epoch: 260 loss:0.334832 auc:0.7852\n",
      "epoch: 280 loss:0.327446 auc:0.7842\n",
      "epoch: 300 loss:0.320184 auc:0.7812\n",
      "epoch: 320 loss:0.314842 auc:0.7615\n",
      "epoch: 340 loss:0.305550 auc:0.7630\n"
     ]
    },
    {
     "name": "stderr",
     "output_type": "stream",
     "text": [
      " 43%|████▎     | 196/460 [31:55<47:25, 10.78s/it]"
     ]
    },
    {
     "name": "stdout",
     "output_type": "stream",
     "text": [
      "epoch: 360 loss:0.298405 auc:0.7684\n",
      "Fit finished.\n",
      "epoch:   0 loss:0.825797 auc:0.5064\n",
      "epoch:  20 loss:0.400486 auc:0.4508\n",
      "epoch:  40 loss:0.378796 auc:0.4572\n",
      "epoch:  60 loss:0.372918 auc:0.4667\n",
      "epoch:  80 loss:0.371145 auc:0.4714\n",
      "epoch: 100 loss:0.370297 auc:0.4746\n",
      "epoch: 120 loss:0.369633 auc:0.4759\n",
      "epoch: 140 loss:0.368959 auc:0.4779\n"
     ]
    },
    {
     "name": "stderr",
     "output_type": "stream",
     "text": [
      " 43%|████▎     | 197/460 [32:02<43:10,  9.85s/it]"
     ]
    },
    {
     "name": "stdout",
     "output_type": "stream",
     "text": [
      "epoch: 160 loss:0.368150 auc:0.4777\n",
      "Fit finished.\n",
      "epoch:   0 loss:0.820558 auc:0.5299\n",
      "epoch:  20 loss:0.403189 auc:0.5208\n",
      "epoch:  40 loss:0.378764 auc:0.5248\n",
      "epoch:  60 loss:0.372822 auc:0.5271\n",
      "epoch:  80 loss:0.370971 auc:0.5323\n",
      "epoch: 100 loss:0.370001 auc:0.5379\n",
      "epoch: 120 loss:0.369049 auc:0.5447\n",
      "epoch: 140 loss:0.367690 auc:0.5527\n",
      "epoch: 160 loss:0.365013 auc:0.5609\n",
      "epoch: 180 loss:0.360202 auc:0.5583\n",
      "epoch: 200 loss:0.355193 auc:0.5433\n",
      "epoch: 220 loss:0.349857 auc:0.5471\n",
      "epoch: 240 loss:0.346255 auc:0.5518\n",
      "epoch: 260 loss:0.336379 auc:0.5475\n"
     ]
    },
    {
     "name": "stderr",
     "output_type": "stream",
     "text": [
      " 43%|████▎     | 198/460 [32:14<45:18, 10.38s/it]"
     ]
    },
    {
     "name": "stdout",
     "output_type": "stream",
     "text": [
      "epoch: 280 loss:0.327022 auc:0.5414\n",
      "Fit finished.\n",
      "epoch:   0 loss:0.718269 auc:0.5511\n",
      "epoch:  20 loss:0.400354 auc:0.4958\n",
      "epoch:  40 loss:0.377665 auc:0.5572\n",
      "epoch:  60 loss:0.373009 auc:0.5644\n",
      "epoch:  80 loss:0.371284 auc:0.5761\n",
      "epoch: 100 loss:0.370297 auc:0.5922\n",
      "epoch: 120 loss:0.369222 auc:0.6133\n",
      "epoch: 140 loss:0.367587 auc:0.6328\n",
      "epoch: 160 loss:0.364550 auc:0.6456\n",
      "epoch: 180 loss:0.359923 auc:0.6292\n",
      "epoch: 200 loss:0.354897 auc:0.5947\n",
      "epoch: 220 loss:0.348722 auc:0.5892\n",
      "epoch: 240 loss:0.342901 auc:0.5939\n"
     ]
    },
    {
     "name": "stderr",
     "output_type": "stream",
     "text": [
      " 43%|████▎     | 199/460 [32:26<46:59, 10.80s/it]"
     ]
    },
    {
     "name": "stdout",
     "output_type": "stream",
     "text": [
      "epoch: 260 loss:0.333339 auc:0.5831\n",
      "Fit finished.\n",
      "epoch:   0 loss:0.724621 auc:0.5953\n",
      "epoch:  20 loss:0.387379 auc:0.4815\n",
      "epoch:  40 loss:0.374619 auc:0.5885\n",
      "epoch:  60 loss:0.371845 auc:0.6310\n",
      "epoch:  80 loss:0.370221 auc:0.6502\n",
      "epoch: 100 loss:0.367883 auc:0.6626\n",
      "epoch: 120 loss:0.362825 auc:0.6982\n",
      "epoch: 140 loss:0.356060 auc:0.7078\n",
      "epoch: 160 loss:0.350398 auc:0.7229\n",
      "epoch: 180 loss:0.339469 auc:0.7023\n",
      "epoch: 200 loss:0.329995 auc:0.6694\n",
      "epoch: 220 loss:0.318961 auc:0.6804\n"
     ]
    },
    {
     "name": "stderr",
     "output_type": "stream",
     "text": [
      " 43%|████▎     | 200/460 [32:36<46:05, 10.64s/it]"
     ]
    },
    {
     "name": "stdout",
     "output_type": "stream",
     "text": [
      "epoch: 240 loss:0.307409 auc:0.6379\n",
      "Fit finished.\n",
      "epoch:   0 loss:1.075582 auc:0.5054\n",
      "epoch:  20 loss:0.419219 auc:0.5031\n",
      "epoch:  40 loss:0.384524 auc:0.5141\n",
      "epoch:  60 loss:0.374580 auc:0.5280\n",
      "epoch:  80 loss:0.372220 auc:0.5409\n",
      "epoch: 100 loss:0.371260 auc:0.5486\n",
      "epoch: 120 loss:0.370581 auc:0.5592\n",
      "epoch: 140 loss:0.369865 auc:0.5721\n",
      "epoch: 160 loss:0.368932 auc:0.5831\n",
      "epoch: 180 loss:0.367535 auc:0.6011\n",
      "epoch: 200 loss:0.365130 auc:0.6200\n",
      "epoch: 220 loss:0.361140 auc:0.6412\n",
      "epoch: 240 loss:0.356503 auc:0.6572\n",
      "epoch: 260 loss:0.351657 auc:0.6582\n",
      "epoch: 280 loss:0.346574 auc:0.6343\n",
      "epoch: 300 loss:0.340420 auc:0.6084\n"
     ]
    },
    {
     "name": "stderr",
     "output_type": "stream",
     "text": [
      " 44%|████▎     | 201/460 [32:50<50:18, 11.65s/it]"
     ]
    },
    {
     "name": "stdout",
     "output_type": "stream",
     "text": [
      "epoch: 320 loss:0.334673 auc:0.5693\n",
      "Fit finished.\n",
      "epoch:   0 loss:0.839040 auc:0.4767\n",
      "epoch:  20 loss:0.384964 auc:0.5412\n",
      "epoch:  40 loss:0.374135 auc:0.5446\n",
      "epoch:  60 loss:0.371033 auc:0.5548\n",
      "epoch:  80 loss:0.369783 auc:0.5610\n",
      "epoch: 100 loss:0.368542 auc:0.5629\n",
      "epoch: 120 loss:0.366417 auc:0.5617\n",
      "epoch: 140 loss:0.361996 auc:0.5606\n",
      "epoch: 160 loss:0.356014 auc:0.5678\n",
      "epoch: 180 loss:0.349176 auc:0.5634\n"
     ]
    },
    {
     "name": "stderr",
     "output_type": "stream",
     "text": [
      " 44%|████▍     | 202/460 [32:59<47:04, 10.95s/it]"
     ]
    },
    {
     "name": "stdout",
     "output_type": "stream",
     "text": [
      "epoch: 200 loss:0.343901 auc:0.5426\n",
      "Fit finished.\n",
      "epoch:   0 loss:0.764878 auc:0.5457\n",
      "epoch:  20 loss:0.391664 auc:0.4654\n",
      "epoch:  40 loss:0.376215 auc:0.5152\n",
      "epoch:  60 loss:0.373032 auc:0.5651\n",
      "epoch:  80 loss:0.371815 auc:0.6150\n",
      "epoch: 100 loss:0.370816 auc:0.6427\n",
      "epoch: 120 loss:0.369408 auc:0.6814\n",
      "epoch: 140 loss:0.366680 auc:0.7147\n",
      "epoch: 160 loss:0.361795 auc:0.7618\n",
      "epoch: 180 loss:0.356187 auc:0.7562\n",
      "epoch: 200 loss:0.352897 auc:0.7756\n",
      "epoch: 220 loss:0.343338 auc:0.7867\n",
      "epoch: 240 loss:0.335228 auc:0.7784\n",
      "epoch: 260 loss:0.323844 auc:0.7424\n",
      "epoch: 280 loss:0.313130 auc:0.6870\n"
     ]
    },
    {
     "name": "stderr",
     "output_type": "stream",
     "text": [
      " 44%|████▍     | 203/460 [33:12<49:07, 11.47s/it]"
     ]
    },
    {
     "name": "stdout",
     "output_type": "stream",
     "text": [
      "epoch: 300 loss:0.303536 auc:0.6399\n",
      "Fit finished.\n",
      "epoch:   0 loss:0.764901 auc:0.5208\n",
      "epoch:  20 loss:0.386151 auc:0.4305\n",
      "epoch:  40 loss:0.373120 auc:0.4579\n",
      "epoch:  60 loss:0.371042 auc:0.4945\n",
      "epoch:  80 loss:0.369495 auc:0.5097\n",
      "epoch: 100 loss:0.367037 auc:0.5208\n",
      "epoch: 120 loss:0.362174 auc:0.5433\n",
      "epoch: 140 loss:0.355499 auc:0.5592\n",
      "epoch: 160 loss:0.347169 auc:0.5553\n",
      "epoch: 180 loss:0.336604 auc:0.5577\n",
      "epoch: 200 loss:0.325106 auc:0.5998\n",
      "epoch: 220 loss:0.313741 auc:0.5882\n",
      "epoch: 240 loss:0.305705 auc:0.6150\n",
      "epoch: 260 loss:0.298749 auc:0.6222\n",
      "epoch: 280 loss:0.291457 auc:0.6414\n",
      "epoch: 300 loss:0.286152 auc:0.6474\n",
      "epoch: 320 loss:0.282174 auc:0.6504\n",
      "epoch: 340 loss:0.278482 auc:0.6475\n",
      "epoch: 360 loss:0.276313 auc:0.6541\n",
      "epoch: 380 loss:0.273537 auc:0.6496\n",
      "epoch: 400 loss:0.271262 auc:0.6460\n",
      "epoch: 420 loss:0.269589 auc:0.6454\n",
      "epoch: 440 loss:0.267909 auc:0.6541\n",
      "epoch: 460 loss:0.266567 auc:0.6547\n",
      "epoch: 480 loss:0.265633 auc:0.6507\n"
     ]
    },
    {
     "name": "stderr",
     "output_type": "stream",
     "text": [
      " 44%|████▍     | 204/460 [33:33<1:01:34, 14.43s/it]"
     ]
    },
    {
     "name": "stdout",
     "output_type": "stream",
     "text": [
      "epoch: 500 loss:0.264991 auc:0.6437\n",
      "Fit finished.\n",
      "epoch:   0 loss:0.762702 auc:0.5231\n",
      "epoch:  20 loss:0.387215 auc:0.4740\n",
      "epoch:  40 loss:0.375143 auc:0.4702\n",
      "epoch:  60 loss:0.371698 auc:0.4736\n",
      "epoch:  80 loss:0.370421 auc:0.4768\n",
      "epoch: 100 loss:0.369354 auc:0.4811\n",
      "epoch: 120 loss:0.367876 auc:0.4830\n",
      "epoch: 140 loss:0.365169 auc:0.4735\n"
     ]
    },
    {
     "name": "stderr",
     "output_type": "stream",
     "text": [
      " 45%|████▍     | 205/460 [33:40<51:37, 12.15s/it]  "
     ]
    },
    {
     "name": "stdout",
     "output_type": "stream",
     "text": [
      "epoch: 160 loss:0.360784 auc:0.4480\n",
      "Fit finished.\n",
      "epoch:   0 loss:0.836303 auc:0.5055\n",
      "epoch:  20 loss:0.392403 auc:0.5002\n",
      "epoch:  40 loss:0.375632 auc:0.5213\n",
      "epoch:  60 loss:0.371971 auc:0.5438\n",
      "epoch:  80 loss:0.370721 auc:0.5549\n",
      "epoch: 100 loss:0.369668 auc:0.5633\n",
      "epoch: 120 loss:0.368222 auc:0.5686\n",
      "epoch: 140 loss:0.365671 auc:0.5746\n",
      "epoch: 160 loss:0.361045 auc:0.5836\n",
      "epoch: 180 loss:0.355768 auc:0.5885\n",
      "epoch: 200 loss:0.349176 auc:0.5564\n",
      "epoch: 220 loss:0.340598 auc:0.5497\n",
      "epoch: 240 loss:0.331646 auc:0.5833\n",
      "epoch: 260 loss:0.322587 auc:0.6338\n",
      "epoch: 280 loss:0.314541 auc:0.6382\n",
      "epoch: 300 loss:0.307239 auc:0.6523\n",
      "epoch: 320 loss:0.300852 auc:0.6632\n",
      "epoch: 340 loss:0.296984 auc:0.6113\n",
      "epoch: 360 loss:0.301091 auc:0.5629\n",
      "epoch: 380 loss:0.287972 auc:0.6283\n",
      "epoch: 400 loss:0.283445 auc:0.6329\n"
     ]
    },
    {
     "name": "stderr",
     "output_type": "stream",
     "text": [
      " 45%|████▍     | 206/460 [33:56<56:47, 13.41s/it]"
     ]
    },
    {
     "name": "stdout",
     "output_type": "stream",
     "text": [
      "epoch: 420 loss:0.280367 auc:0.6313\n",
      "Fit finished.\n",
      "epoch:   0 loss:0.732130 auc:0.4876\n",
      "epoch:  20 loss:0.392366 auc:0.4960\n",
      "epoch:  40 loss:0.376932 auc:0.4776\n",
      "epoch:  60 loss:0.372137 auc:0.4718\n",
      "epoch:  80 loss:0.370752 auc:0.4737\n",
      "epoch: 100 loss:0.369721 auc:0.4747\n",
      "epoch: 120 loss:0.368329 auc:0.4755\n",
      "epoch: 140 loss:0.365738 auc:0.4669\n"
     ]
    },
    {
     "name": "stderr",
     "output_type": "stream",
     "text": [
      " 45%|████▌     | 207/460 [34:03<48:29, 11.50s/it]"
     ]
    },
    {
     "name": "stdout",
     "output_type": "stream",
     "text": [
      "epoch: 160 loss:0.361130 auc:0.4375\n",
      "Fit finished.\n",
      "epoch:   0 loss:0.863987 auc:0.5501\n",
      "epoch:  20 loss:0.400816 auc:0.5272\n",
      "epoch:  40 loss:0.378865 auc:0.5396\n",
      "epoch:  60 loss:0.373014 auc:0.5435\n",
      "epoch:  80 loss:0.371255 auc:0.5553\n",
      "epoch: 100 loss:0.370398 auc:0.5658\n",
      "epoch: 120 loss:0.369668 auc:0.5781\n",
      "epoch: 140 loss:0.368773 auc:0.5910\n",
      "epoch: 160 loss:0.367416 auc:0.6018\n",
      "epoch: 180 loss:0.365008 auc:0.6123\n",
      "epoch: 200 loss:0.360998 auc:0.6208\n",
      "epoch: 220 loss:0.356658 auc:0.6230\n",
      "epoch: 240 loss:0.352042 auc:0.6293\n",
      "epoch: 260 loss:0.346090 auc:0.6407\n",
      "epoch: 280 loss:0.340258 auc:0.6259\n",
      "epoch: 300 loss:0.332216 auc:0.6283\n",
      "epoch: 320 loss:0.325106 auc:0.6066\n",
      "epoch: 340 loss:0.319201 auc:0.6133\n"
     ]
    },
    {
     "name": "stderr",
     "output_type": "stream",
     "text": [
      " 45%|████▌     | 208/460 [34:18<51:30, 12.26s/it]"
     ]
    },
    {
     "name": "stdout",
     "output_type": "stream",
     "text": [
      "epoch: 360 loss:0.311633 auc:0.5624\n",
      "Fit finished.\n",
      "epoch:   0 loss:0.805462 auc:0.5145\n",
      "epoch:  20 loss:0.409803 auc:0.5179\n",
      "epoch:  40 loss:0.380521 auc:0.4196\n",
      "epoch:  60 loss:0.374056 auc:0.3982\n",
      "epoch:  80 loss:0.372282 auc:0.3921\n",
      "epoch: 100 loss:0.371484 auc:0.3909\n",
      "epoch: 120 loss:0.370890 auc:0.3904\n",
      "epoch: 140 loss:0.370261 auc:0.3834\n"
     ]
    },
    {
     "name": "stderr",
     "output_type": "stream",
     "text": [
      " 45%|████▌     | 209/460 [34:24<44:12, 10.57s/it]"
     ]
    },
    {
     "name": "stdout",
     "output_type": "stream",
     "text": [
      "epoch: 160 loss:0.369417 auc:0.3775\n",
      "Fit finished.\n",
      "epoch:   0 loss:0.710132 auc:0.5212\n",
      "epoch:  20 loss:0.393309 auc:0.5565\n",
      "epoch:  40 loss:0.375220 auc:0.6012\n",
      "epoch:  60 loss:0.371151 auc:0.6327\n",
      "epoch:  80 loss:0.369701 auc:0.6529\n",
      "epoch: 100 loss:0.368097 auc:0.6593\n",
      "epoch: 120 loss:0.365061 auc:0.6607\n",
      "epoch: 140 loss:0.359959 auc:0.6489\n",
      "epoch: 160 loss:0.354680 auc:0.6314\n",
      "epoch: 180 loss:0.350138 auc:0.6279\n",
      "epoch: 200 loss:0.344264 auc:0.6213\n"
     ]
    },
    {
     "name": "stderr",
     "output_type": "stream",
     "text": [
      " 46%|████▌     | 210/460 [34:33<41:54, 10.06s/it]"
     ]
    },
    {
     "name": "stdout",
     "output_type": "stream",
     "text": [
      "epoch: 220 loss:0.338025 auc:0.6076\n",
      "Fit finished.\n",
      "epoch:   0 loss:0.766932 auc:0.4082\n",
      "epoch:  20 loss:0.405891 auc:0.5705\n",
      "epoch:  40 loss:0.378002 auc:0.5974\n",
      "epoch:  60 loss:0.373768 auc:0.5998\n",
      "epoch:  80 loss:0.372293 auc:0.6012\n",
      "epoch: 100 loss:0.371463 auc:0.6010\n",
      "epoch: 120 loss:0.370657 auc:0.6023\n",
      "epoch: 140 loss:0.369577 auc:0.6005\n",
      "epoch: 160 loss:0.367758 auc:0.5964\n",
      "epoch: 180 loss:0.364239 auc:0.5895\n"
     ]
    },
    {
     "name": "stderr",
     "output_type": "stream",
     "text": [
      " 46%|████▌     | 211/460 [34:42<39:59,  9.64s/it]"
     ]
    },
    {
     "name": "stdout",
     "output_type": "stream",
     "text": [
      "epoch: 200 loss:0.359188 auc:0.5802\n",
      "Fit finished.\n",
      "epoch:   0 loss:0.768591 auc:0.4814\n",
      "epoch:  20 loss:0.394448 auc:0.4546\n",
      "epoch:  40 loss:0.375219 auc:0.4892\n",
      "epoch:  60 loss:0.372070 auc:0.5082\n",
      "epoch:  80 loss:0.370640 auc:0.5190\n",
      "epoch: 100 loss:0.369469 auc:0.5268\n",
      "epoch: 120 loss:0.367630 auc:0.5322\n",
      "epoch: 140 loss:0.364189 auc:0.5277\n",
      "epoch: 160 loss:0.359317 auc:0.5222\n",
      "epoch: 180 loss:0.354233 auc:0.5171\n",
      "epoch: 200 loss:0.348137 auc:0.5151\n",
      "epoch: 220 loss:0.340516 auc:0.5109\n"
     ]
    },
    {
     "name": "stderr",
     "output_type": "stream",
     "text": [
      " 46%|████▋     | 213/460 [34:52<30:43,  7.46s/it]"
     ]
    },
    {
     "name": "stdout",
     "output_type": "stream",
     "text": [
      "epoch: 240 loss:0.331443 auc:0.5083\n",
      "Fit finished.\n",
      "epoch:   0 loss:0.782268 auc:0.4488\n",
      "epoch:  20 loss:0.410254 auc:0.5212\n",
      "epoch:  40 loss:0.380247 auc:0.5228\n",
      "epoch:  60 loss:0.373855 auc:0.5355\n",
      "epoch:  80 loss:0.371858 auc:0.5434\n",
      "epoch: 100 loss:0.371057 auc:0.5526\n",
      "epoch: 120 loss:0.370475 auc:0.5629\n",
      "epoch: 140 loss:0.369885 auc:0.5722\n",
      "epoch: 160 loss:0.369150 auc:0.5831\n",
      "epoch: 180 loss:0.368004 auc:0.5950\n",
      "epoch: 200 loss:0.365824 auc:0.5995\n",
      "epoch: 220 loss:0.361411 auc:0.5927\n",
      "epoch: 240 loss:0.355954 auc:0.5647\n",
      "epoch: 260 loss:0.351070 auc:0.5598\n",
      "epoch: 280 loss:0.344976 auc:0.5632\n",
      "epoch: 300 loss:0.338841 auc:0.5871\n",
      "epoch: 320 loss:0.332130 auc:0.5939\n"
     ]
    },
    {
     "name": "stderr",
     "output_type": "stream",
     "text": [
      " 47%|████▋     | 214/460 [35:05<36:57,  9.01s/it]"
     ]
    },
    {
     "name": "stdout",
     "output_type": "stream",
     "text": [
      "epoch: 340 loss:0.324005 auc:0.5867\n",
      "Fit finished.\n",
      "epoch:   0 loss:1.156547 auc:0.4652\n",
      "epoch:  20 loss:0.409424 auc:0.4387\n",
      "epoch:  40 loss:0.381026 auc:0.4381\n",
      "epoch:  60 loss:0.373290 auc:0.4517\n",
      "epoch:  80 loss:0.371513 auc:0.4618\n",
      "epoch: 100 loss:0.370696 auc:0.4719\n",
      "epoch: 120 loss:0.370057 auc:0.4840\n",
      "epoch: 140 loss:0.369355 auc:0.4965\n",
      "epoch: 160 loss:0.368413 auc:0.5125\n",
      "epoch: 180 loss:0.366966 auc:0.5306\n",
      "epoch: 200 loss:0.364532 auc:0.5474\n",
      "epoch: 220 loss:0.360869 auc:0.5607\n",
      "epoch: 240 loss:0.356898 auc:0.5618\n",
      "epoch: 260 loss:0.353000 auc:0.5618\n",
      "epoch: 280 loss:0.348314 auc:0.5673\n",
      "epoch: 300 loss:0.342201 auc:0.5617\n",
      "epoch: 320 loss:0.334896 auc:0.5488\n"
     ]
    },
    {
     "name": "stderr",
     "output_type": "stream",
     "text": [
      " 47%|████▋     | 215/460 [35:19<41:29, 10.16s/it]"
     ]
    },
    {
     "name": "stdout",
     "output_type": "stream",
     "text": [
      "epoch: 340 loss:0.328326 auc:0.5184\n",
      "Fit finished.\n",
      "epoch:   0 loss:0.804912 auc:0.4861\n",
      "epoch:  20 loss:0.402843 auc:0.5847\n",
      "epoch:  40 loss:0.375953 auc:0.5682\n",
      "epoch:  60 loss:0.372315 auc:0.5594\n",
      "epoch:  80 loss:0.371069 auc:0.5506\n",
      "epoch: 100 loss:0.370153 auc:0.5497\n",
      "epoch: 120 loss:0.369003 auc:0.5443\n",
      "epoch: 140 loss:0.366964 auc:0.5422\n",
      "epoch: 160 loss:0.362279 auc:0.5519\n"
     ]
    },
    {
     "name": "stderr",
     "output_type": "stream",
     "text": [
      " 47%|████▋     | 216/460 [35:26<38:10,  9.39s/it]"
     ]
    },
    {
     "name": "stdout",
     "output_type": "stream",
     "text": [
      "epoch: 180 loss:0.356326 auc:0.5715\n",
      "Fit finished.\n",
      "epoch:   0 loss:0.814687 auc:0.4897\n",
      "epoch:  20 loss:0.397518 auc:0.5436\n",
      "epoch:  40 loss:0.376619 auc:0.5311\n",
      "epoch:  60 loss:0.372842 auc:0.5272\n",
      "epoch:  80 loss:0.371250 auc:0.5367\n",
      "epoch: 100 loss:0.370497 auc:0.5435\n",
      "epoch: 120 loss:0.369902 auc:0.5492\n",
      "epoch: 140 loss:0.369233 auc:0.5522\n",
      "epoch: 160 loss:0.368314 auc:0.5580\n",
      "epoch: 180 loss:0.366546 auc:0.5647\n",
      "epoch: 200 loss:0.362540 auc:0.5681\n",
      "epoch: 220 loss:0.356865 auc:0.5520\n",
      "epoch: 240 loss:0.351790 auc:0.5421\n",
      "epoch: 260 loss:0.345974 auc:0.5627\n",
      "epoch: 280 loss:0.340563 auc:0.5699\n",
      "epoch: 300 loss:0.334114 auc:0.5700\n",
      "epoch: 320 loss:0.326358 auc:0.5600\n"
     ]
    },
    {
     "name": "stderr",
     "output_type": "stream",
     "text": [
      " 47%|████▋     | 217/460 [35:40<43:11, 10.66s/it]"
     ]
    },
    {
     "name": "stdout",
     "output_type": "stream",
     "text": [
      "epoch: 340 loss:0.320173 auc:0.5521\n",
      "Fit finished.\n",
      "epoch:   0 loss:0.799192 auc:0.5114\n",
      "epoch:  20 loss:0.406634 auc:0.5106\n",
      "epoch:  40 loss:0.379936 auc:0.5273\n",
      "epoch:  60 loss:0.373240 auc:0.5412\n",
      "epoch:  80 loss:0.371284 auc:0.5501\n",
      "epoch: 100 loss:0.370288 auc:0.5611\n",
      "epoch: 120 loss:0.369285 auc:0.5732\n",
      "epoch: 140 loss:0.367838 auc:0.5873\n",
      "epoch: 160 loss:0.365251 auc:0.6093\n",
      "epoch: 180 loss:0.360435 auc:0.6490\n",
      "epoch: 200 loss:0.354778 auc:0.7002\n",
      "epoch: 220 loss:0.349285 auc:0.7245\n",
      "epoch: 240 loss:0.342512 auc:0.7309\n",
      "epoch: 260 loss:0.334225 auc:0.7311\n",
      "epoch: 280 loss:0.326309 auc:0.7300\n",
      "epoch: 300 loss:0.320428 auc:0.7131\n",
      "epoch: 320 loss:0.312766 auc:0.7295\n",
      "epoch: 340 loss:0.308391 auc:0.6803\n"
     ]
    },
    {
     "name": "stderr",
     "output_type": "stream",
     "text": [
      " 47%|████▋     | 218/460 [35:54<46:34, 11.55s/it]"
     ]
    },
    {
     "name": "stdout",
     "output_type": "stream",
     "text": [
      "epoch: 360 loss:0.300368 auc:0.6984\n",
      "Fit finished.\n",
      "epoch:   0 loss:0.884574 auc:0.4610\n",
      "epoch:  20 loss:0.419943 auc:0.5214\n",
      "epoch:  40 loss:0.382239 auc:0.4827\n",
      "epoch:  60 loss:0.373773 auc:0.4792\n",
      "epoch:  80 loss:0.371246 auc:0.4871\n",
      "epoch: 100 loss:0.370119 auc:0.4940\n",
      "epoch: 120 loss:0.369194 auc:0.4957\n",
      "epoch: 140 loss:0.368104 auc:0.4962\n",
      "epoch: 160 loss:0.366597 auc:0.4969\n"
     ]
    },
    {
     "name": "stderr",
     "output_type": "stream",
     "text": [
      " 48%|████▊     | 219/460 [36:01<41:46, 10.40s/it]"
     ]
    },
    {
     "name": "stdout",
     "output_type": "stream",
     "text": [
      "epoch: 180 loss:0.364135 auc:0.4912\n",
      "Fit finished.\n",
      "epoch:   0 loss:0.792844 auc:0.6218\n",
      "epoch:  20 loss:0.397964 auc:0.8625\n",
      "epoch:  40 loss:0.377643 auc:0.8711\n",
      "epoch:  60 loss:0.373330 auc:0.7851\n",
      "epoch:  80 loss:0.372032 auc:0.6046\n",
      "epoch: 100 loss:0.371156 auc:0.4628\n",
      "epoch: 120 loss:0.370212 auc:0.3725\n",
      "epoch: 140 loss:0.368836 auc:0.3123\n"
     ]
    },
    {
     "name": "stderr",
     "output_type": "stream",
     "text": [
      " 48%|████▊     | 220/460 [36:09<37:59,  9.50s/it]"
     ]
    },
    {
     "name": "stdout",
     "output_type": "stream",
     "text": [
      "epoch: 160 loss:0.366387 auc:0.2708\n",
      "Fit finished.\n",
      "epoch:   0 loss:0.798468 auc:0.4667\n",
      "epoch:  20 loss:0.392252 auc:0.2800\n",
      "epoch:  40 loss:0.376308 auc:0.2889\n",
      "epoch:  60 loss:0.372457 auc:0.3022\n",
      "epoch:  80 loss:0.371209 auc:0.3556\n",
      "epoch: 100 loss:0.370115 auc:0.4178\n",
      "epoch: 120 loss:0.368568 auc:0.4844\n",
      "epoch: 140 loss:0.365608 auc:0.5600\n",
      "epoch: 160 loss:0.360896 auc:0.6844\n",
      "epoch: 180 loss:0.356023 auc:0.7422\n",
      "epoch: 200 loss:0.350389 auc:0.7644\n",
      "epoch: 220 loss:0.348240 auc:0.7422\n",
      "epoch: 240 loss:0.336615 auc:0.6889\n",
      "epoch: 260 loss:0.329108 auc:0.6178\n",
      "epoch: 280 loss:0.323645 auc:0.6000\n",
      "epoch: 300 loss:0.314946 auc:0.6000\n"
     ]
    },
    {
     "name": "stderr",
     "output_type": "stream",
     "text": [
      " 48%|████▊     | 221/460 [36:22<42:36, 10.70s/it]"
     ]
    },
    {
     "name": "stdout",
     "output_type": "stream",
     "text": [
      "epoch: 320 loss:0.308386 auc:0.6089\n",
      "Fit finished.\n",
      "epoch:   0 loss:0.758676 auc:0.5482\n",
      "epoch:  20 loss:0.393077 auc:0.5238\n",
      "epoch:  40 loss:0.377653 auc:0.5775\n",
      "epoch:  60 loss:0.373191 auc:0.5890\n",
      "epoch:  80 loss:0.371753 auc:0.6075\n",
      "epoch: 100 loss:0.370800 auc:0.6288\n",
      "epoch: 120 loss:0.369507 auc:0.6626\n",
      "epoch: 140 loss:0.367070 auc:0.6974\n",
      "epoch: 160 loss:0.362564 auc:0.7229\n",
      "epoch: 180 loss:0.357339 auc:0.7219\n",
      "epoch: 200 loss:0.352003 auc:0.7366\n",
      "epoch: 220 loss:0.346591 auc:0.7366\n",
      "epoch: 240 loss:0.338783 auc:0.7299\n",
      "epoch: 260 loss:0.330988 auc:0.7140\n",
      "epoch: 280 loss:0.321484 auc:0.6910\n"
     ]
    },
    {
     "name": "stderr",
     "output_type": "stream",
     "text": [
      " 48%|████▊     | 222/460 [36:34<44:22, 11.19s/it]"
     ]
    },
    {
     "name": "stdout",
     "output_type": "stream",
     "text": [
      "epoch: 300 loss:0.320400 auc:0.6690\n",
      "Fit finished.\n",
      "epoch:   0 loss:0.894700 auc:0.5136\n",
      "epoch:  20 loss:0.410672 auc:0.5094\n",
      "epoch:  40 loss:0.380216 auc:0.5178\n",
      "epoch:  60 loss:0.373102 auc:0.5317\n",
      "epoch:  80 loss:0.371283 auc:0.5440\n",
      "epoch: 100 loss:0.370524 auc:0.5547\n",
      "epoch: 120 loss:0.369983 auc:0.5658\n",
      "epoch: 140 loss:0.369441 auc:0.5780\n",
      "epoch: 160 loss:0.368802 auc:0.5859\n",
      "epoch: 180 loss:0.367920 auc:0.5895\n",
      "epoch: 200 loss:0.366370 auc:0.5906\n",
      "epoch: 220 loss:0.362951 auc:0.5902\n",
      "epoch: 240 loss:0.357229 auc:0.5818\n",
      "epoch: 260 loss:0.351687 auc:0.5587\n"
     ]
    },
    {
     "name": "stderr",
     "output_type": "stream",
     "text": [
      " 48%|████▊     | 223/460 [36:46<44:46, 11.33s/it]"
     ]
    },
    {
     "name": "stdout",
     "output_type": "stream",
     "text": [
      "epoch: 280 loss:0.344921 auc:0.5371\n",
      "Fit finished.\n",
      "epoch:   0 loss:0.887995 auc:0.5110\n",
      "epoch:  20 loss:0.401882 auc:0.5041\n",
      "epoch:  40 loss:0.377293 auc:0.5326\n",
      "epoch:  60 loss:0.372977 auc:0.5392\n",
      "epoch:  80 loss:0.371378 auc:0.5432\n",
      "epoch: 100 loss:0.370499 auc:0.5473\n",
      "epoch: 120 loss:0.369767 auc:0.5516\n",
      "epoch: 140 loss:0.368896 auc:0.5561\n",
      "epoch: 160 loss:0.367539 auc:0.5614\n",
      "epoch: 180 loss:0.365042 auc:0.5695\n",
      "epoch: 200 loss:0.360919 auc:0.5785\n",
      "epoch: 220 loss:0.356114 auc:0.5855\n",
      "epoch: 240 loss:0.350821 auc:0.5934\n",
      "epoch: 260 loss:0.348222 auc:0.6044\n",
      "epoch: 280 loss:0.338066 auc:0.6122\n",
      "epoch: 300 loss:0.331003 auc:0.6210\n",
      "epoch: 320 loss:0.324349 auc:0.6316\n",
      "epoch: 340 loss:0.316503 auc:0.6482\n",
      "epoch: 360 loss:0.319879 auc:0.6779\n",
      "epoch: 380 loss:0.315311 auc:0.6538\n",
      "epoch: 400 loss:0.302232 auc:0.6674\n",
      "epoch: 420 loss:0.296210 auc:0.6727\n",
      "epoch: 440 loss:0.291546 auc:0.6745\n",
      "epoch: 460 loss:0.288021 auc:0.6763\n",
      "epoch: 480 loss:0.283856 auc:0.6695\n",
      "epoch: 500 loss:0.281126 auc:0.6620\n"
     ]
    },
    {
     "name": "stderr",
     "output_type": "stream",
     "text": [
      " 49%|████▊     | 224/460 [37:07<55:51, 14.20s/it]"
     ]
    },
    {
     "name": "stdout",
     "output_type": "stream",
     "text": [
      "epoch: 520 loss:0.279613 auc:0.6575\n",
      "Fit finished.\n",
      "epoch:   0 loss:0.740275 auc:0.4514\n",
      "epoch:  20 loss:0.381753 auc:0.4401\n",
      "epoch:  40 loss:0.373447 auc:0.4258\n",
      "epoch:  60 loss:0.370760 auc:0.4247\n",
      "epoch:  80 loss:0.369315 auc:0.4246\n",
      "epoch: 100 loss:0.366986 auc:0.4165\n",
      "epoch: 120 loss:0.361795 auc:0.3846\n",
      "epoch: 140 loss:0.354798 auc:0.3456\n"
     ]
    },
    {
     "name": "stderr",
     "output_type": "stream",
     "text": [
      " 49%|████▉     | 225/460 [37:14<46:33, 11.89s/it]"
     ]
    },
    {
     "name": "stdout",
     "output_type": "stream",
     "text": [
      "epoch: 160 loss:0.346660 auc:0.3298\n",
      "Fit finished.\n",
      "epoch:   0 loss:0.817939 auc:0.5037\n",
      "epoch:  20 loss:0.389252 auc:0.4697\n",
      "epoch:  40 loss:0.376576 auc:0.4507\n",
      "epoch:  60 loss:0.372175 auc:0.4439\n",
      "epoch:  80 loss:0.370816 auc:0.4381\n",
      "epoch: 100 loss:0.369920 auc:0.4359\n",
      "epoch: 120 loss:0.368963 auc:0.4344\n",
      "epoch: 140 loss:0.367573 auc:0.4305\n"
     ]
    },
    {
     "name": "stderr",
     "output_type": "stream",
     "text": [
      " 49%|████▉     | 226/460 [37:20<39:24, 10.11s/it]"
     ]
    },
    {
     "name": "stdout",
     "output_type": "stream",
     "text": [
      "epoch: 160 loss:0.365054 auc:0.4237\n",
      "Fit finished.\n",
      "epoch:   0 loss:0.749961 auc:0.5300\n",
      "epoch:  20 loss:0.392904 auc:0.5309\n",
      "epoch:  40 loss:0.375629 auc:0.5259\n",
      "epoch:  60 loss:0.372023 auc:0.5183\n",
      "epoch:  80 loss:0.370955 auc:0.5139\n",
      "epoch: 100 loss:0.370165 auc:0.5109\n",
      "epoch: 120 loss:0.369243 auc:0.5112\n",
      "epoch: 140 loss:0.367741 auc:0.5077\n"
     ]
    },
    {
     "name": "stderr",
     "output_type": "stream",
     "text": [
      " 49%|████▉     | 227/460 [37:27<35:45,  9.21s/it]"
     ]
    },
    {
     "name": "stdout",
     "output_type": "stream",
     "text": [
      "epoch: 160 loss:0.364410 auc:0.5025\n",
      "Fit finished.\n",
      "epoch:   0 loss:0.806177 auc:0.5345\n",
      "epoch:  20 loss:0.393049 auc:0.5305\n",
      "epoch:  40 loss:0.376453 auc:0.5074\n",
      "epoch:  60 loss:0.373369 auc:0.4888\n",
      "epoch:  80 loss:0.372391 auc:0.4807\n",
      "epoch: 100 loss:0.371688 auc:0.4721\n",
      "epoch: 120 loss:0.370896 auc:0.4700\n",
      "epoch: 140 loss:0.369642 auc:0.4664\n"
     ]
    },
    {
     "name": "stderr",
     "output_type": "stream",
     "text": [
      " 50%|████▉     | 228/460 [37:34<33:04,  8.55s/it]"
     ]
    },
    {
     "name": "stdout",
     "output_type": "stream",
     "text": [
      "epoch: 160 loss:0.367058 auc:0.4566\n",
      "Fit finished.\n",
      "epoch:   0 loss:0.852149 auc:0.4473\n",
      "epoch:  20 loss:0.404611 auc:0.3707\n",
      "epoch:  40 loss:0.377469 auc:0.4059\n",
      "epoch:  60 loss:0.372877 auc:0.4365\n",
      "epoch:  80 loss:0.371311 auc:0.4694\n",
      "epoch: 100 loss:0.370391 auc:0.4802\n",
      "epoch: 120 loss:0.369438 auc:0.4841\n",
      "epoch: 140 loss:0.368133 auc:0.4904\n",
      "epoch: 160 loss:0.365863 auc:0.5045\n",
      "epoch: 180 loss:0.361568 auc:0.5510\n",
      "epoch: 200 loss:0.356578 auc:0.6117\n",
      "epoch: 220 loss:0.349021 auc:0.6440\n",
      "epoch: 240 loss:0.342358 auc:0.6854\n",
      "epoch: 260 loss:0.331190 auc:0.6803\n",
      "epoch: 280 loss:0.321869 auc:0.6616\n",
      "epoch: 300 loss:0.313788 auc:0.6820\n",
      "epoch: 320 loss:0.309364 auc:0.6752\n",
      "epoch: 340 loss:0.301120 auc:0.7041\n",
      "epoch: 360 loss:0.296604 auc:0.7046\n",
      "epoch: 380 loss:0.291692 auc:0.7177\n",
      "epoch: 400 loss:0.317572 auc:0.7007\n"
     ]
    },
    {
     "name": "stderr",
     "output_type": "stream",
     "text": [
      " 50%|████▉     | 229/460 [37:52<43:46, 11.37s/it]"
     ]
    },
    {
     "name": "stdout",
     "output_type": "stream",
     "text": [
      "epoch: 420 loss:0.346875 auc:0.6791\n",
      "Fit finished.\n",
      "epoch:   0 loss:0.782423 auc:0.4962\n",
      "epoch:  20 loss:0.399569 auc:0.5320\n",
      "epoch:  40 loss:0.377501 auc:0.5302\n",
      "epoch:  60 loss:0.372510 auc:0.5313\n",
      "epoch:  80 loss:0.370911 auc:0.5387\n",
      "epoch: 100 loss:0.370049 auc:0.5489\n",
      "epoch: 120 loss:0.369249 auc:0.5530\n",
      "epoch: 140 loss:0.368188 auc:0.5548\n",
      "epoch: 160 loss:0.366356 auc:0.5525\n",
      "epoch: 180 loss:0.362872 auc:0.5557\n",
      "epoch: 200 loss:0.358075 auc:0.5613\n",
      "epoch: 220 loss:0.353286 auc:0.5656\n",
      "epoch: 240 loss:0.349081 auc:0.5590\n",
      "epoch: 260 loss:0.340777 auc:0.5610\n",
      "epoch: 280 loss:0.332924 auc:0.5823\n",
      "epoch: 300 loss:0.325135 auc:0.6138\n",
      "epoch: 320 loss:0.328708 auc:0.6230\n",
      "epoch: 340 loss:0.312115 auc:0.6500\n",
      "epoch: 360 loss:0.304115 auc:0.6467\n",
      "epoch: 380 loss:0.297377 auc:0.6497\n",
      "epoch: 400 loss:0.291527 auc:0.6426\n",
      "epoch: 420 loss:0.287238 auc:0.6480\n",
      "epoch: 440 loss:0.282916 auc:0.6361\n",
      "epoch: 460 loss:0.280187 auc:0.6325\n",
      "epoch: 480 loss:0.277607 auc:0.6402\n"
     ]
    },
    {
     "name": "stderr",
     "output_type": "stream",
     "text": [
      " 50%|█████     | 230/460 [38:12<53:49, 14.04s/it]"
     ]
    },
    {
     "name": "stdout",
     "output_type": "stream",
     "text": [
      "epoch: 500 loss:0.275658 auc:0.6442\n",
      "Fit finished.\n",
      "epoch:   0 loss:0.769609 auc:0.3964\n",
      "epoch:  20 loss:0.393479 auc:0.6154\n",
      "epoch:  40 loss:0.375731 auc:0.6479\n",
      "epoch:  60 loss:0.372028 auc:0.6627\n",
      "epoch:  80 loss:0.370757 auc:0.6657\n",
      "epoch: 100 loss:0.369412 auc:0.6775\n",
      "epoch: 120 loss:0.367105 auc:0.6820\n",
      "epoch: 140 loss:0.362628 auc:0.6657\n",
      "epoch: 160 loss:0.357125 auc:0.6834\n",
      "epoch: 180 loss:0.351295 auc:0.6864\n",
      "epoch: 200 loss:0.343386 auc:0.6790\n",
      "epoch: 220 loss:0.336192 auc:0.6731\n",
      "epoch: 240 loss:0.327302 auc:0.6820\n",
      "epoch: 260 loss:0.318868 auc:0.6938\n",
      "epoch: 280 loss:0.309331 auc:0.7086\n",
      "epoch: 300 loss:0.301662 auc:0.7544\n",
      "epoch: 320 loss:0.293694 auc:0.7663\n",
      "epoch: 340 loss:0.290754 auc:0.7589\n",
      "epoch: 360 loss:0.284688 auc:0.7707\n",
      "epoch: 380 loss:0.282113 auc:0.7648\n",
      "epoch: 400 loss:0.278256 auc:0.7781\n",
      "epoch: 420 loss:0.275986 auc:0.7766\n",
      "epoch: 440 loss:0.273389 auc:0.7707\n",
      "epoch: 460 loss:0.271679 auc:0.7751\n",
      "epoch: 480 loss:0.270220 auc:0.7678\n",
      "epoch: 500 loss:0.268662 auc:0.7678\n",
      "epoch: 520 loss:0.268001 auc:0.7737\n",
      "epoch: 540 loss:0.267073 auc:0.7692\n"
     ]
    },
    {
     "name": "stderr",
     "output_type": "stream",
     "text": [
      " 50%|█████     | 231/460 [38:34<1:03:14, 16.57s/it]"
     ]
    },
    {
     "name": "stdout",
     "output_type": "stream",
     "text": [
      "epoch: 560 loss:0.265471 auc:0.7737\n",
      "Fit finished.\n",
      "epoch:   0 loss:0.791152 auc:0.4815\n",
      "epoch:  20 loss:0.391378 auc:0.6543\n",
      "epoch:  40 loss:0.377973 auc:0.6975\n",
      "epoch:  60 loss:0.373678 auc:0.7346\n",
      "epoch:  80 loss:0.372410 auc:0.7685\n",
      "epoch: 100 loss:0.371737 auc:0.7932\n",
      "epoch: 120 loss:0.371067 auc:0.8210\n",
      "epoch: 140 loss:0.370173 auc:0.8302\n",
      "epoch: 160 loss:0.368685 auc:0.8272\n",
      "epoch: 180 loss:0.365902 auc:0.8302\n",
      "epoch: 200 loss:0.361582 auc:0.8056\n",
      "epoch: 220 loss:0.356821 auc:0.7994\n",
      "epoch: 240 loss:0.351817 auc:0.7685\n"
     ]
    },
    {
     "name": "stderr",
     "output_type": "stream",
     "text": [
      " 50%|█████     | 232/460 [38:44<55:09, 14.51s/it]  "
     ]
    },
    {
     "name": "stdout",
     "output_type": "stream",
     "text": [
      "epoch: 260 loss:0.349071 auc:0.7562\n",
      "Fit finished.\n",
      "epoch:   0 loss:0.729082 auc:0.4643\n",
      "epoch:  20 loss:0.390754 auc:0.5285\n",
      "epoch:  40 loss:0.374531 auc:0.5413\n",
      "epoch:  60 loss:0.371370 auc:0.5417\n",
      "epoch:  80 loss:0.370187 auc:0.5462\n",
      "epoch: 100 loss:0.369030 auc:0.5465\n",
      "epoch: 120 loss:0.367143 auc:0.5436\n",
      "epoch: 140 loss:0.363463 auc:0.5346\n",
      "epoch: 160 loss:0.357625 auc:0.5193\n"
     ]
    },
    {
     "name": "stderr",
     "output_type": "stream",
     "text": [
      " 51%|█████     | 233/460 [38:52<47:05, 12.45s/it]"
     ]
    },
    {
     "name": "stdout",
     "output_type": "stream",
     "text": [
      "epoch: 180 loss:0.350881 auc:0.5025\n",
      "Fit finished.\n",
      "epoch:   0 loss:0.959686 auc:0.7438\n",
      "epoch:  20 loss:0.415468 auc:0.5950\n",
      "epoch:  40 loss:0.381967 auc:0.6860\n",
      "epoch:  60 loss:0.374819 auc:0.6694\n",
      "epoch:  80 loss:0.372799 auc:0.6529\n",
      "epoch: 100 loss:0.371862 auc:0.6364\n",
      "epoch: 120 loss:0.371118 auc:0.6281\n",
      "epoch: 140 loss:0.370247 auc:0.6364\n"
     ]
    },
    {
     "name": "stderr",
     "output_type": "stream",
     "text": [
      " 51%|█████     | 234/460 [38:58<40:31, 10.76s/it]"
     ]
    },
    {
     "name": "stdout",
     "output_type": "stream",
     "text": [
      "epoch: 160 loss:0.368939 auc:0.6612\n",
      "Fit finished.\n",
      "epoch:   0 loss:0.768730 auc:0.6281\n",
      "epoch:  20 loss:0.385334 auc:0.5455\n",
      "epoch:  40 loss:0.374058 auc:0.5868\n",
      "epoch:  60 loss:0.371549 auc:0.6033\n",
      "epoch:  80 loss:0.370187 auc:0.5950\n",
      "epoch: 100 loss:0.368193 auc:0.6033\n",
      "epoch: 120 loss:0.364303 auc:0.6033\n",
      "epoch: 140 loss:0.358638 auc:0.6777\n",
      "epoch: 160 loss:0.352353 auc:0.6612\n",
      "epoch: 180 loss:0.344259 auc:0.6612\n",
      "epoch: 200 loss:0.333842 auc:0.6446\n",
      "epoch: 220 loss:0.324209 auc:0.6446\n",
      "epoch: 240 loss:0.316121 auc:0.6612\n",
      "epoch: 260 loss:0.307269 auc:0.6860\n",
      "epoch: 280 loss:0.299024 auc:0.6694\n",
      "epoch: 300 loss:0.291116 auc:0.6942\n",
      "epoch: 320 loss:0.286459 auc:0.7025\n",
      "epoch: 340 loss:0.283204 auc:0.7025\n",
      "epoch: 360 loss:0.278012 auc:0.6942\n",
      "epoch: 380 loss:0.274813 auc:0.7107\n",
      "epoch: 400 loss:0.273089 auc:0.7025\n",
      "epoch: 420 loss:0.270367 auc:0.7025\n",
      "epoch: 440 loss:0.268921 auc:0.7107\n",
      "epoch: 460 loss:0.267482 auc:0.6942\n",
      "epoch: 480 loss:0.266389 auc:0.7025\n",
      "epoch: 500 loss:0.265834 auc:0.7273\n",
      "epoch: 520 loss:0.263930 auc:0.7190\n",
      "epoch: 540 loss:0.263219 auc:0.7355\n",
      "epoch: 560 loss:0.262306 auc:0.7025\n",
      "epoch: 580 loss:0.261289 auc:0.7190\n",
      "epoch: 600 loss:0.261594 auc:0.7107\n",
      "epoch: 620 loss:0.260123 auc:0.7107\n"
     ]
    },
    {
     "name": "stderr",
     "output_type": "stream",
     "text": [
      " 51%|█████     | 235/460 [39:25<57:33, 15.35s/it]"
     ]
    },
    {
     "name": "stdout",
     "output_type": "stream",
     "text": [
      "epoch: 640 loss:0.261128 auc:0.6860\n",
      "Fit finished.\n",
      "epoch:   0 loss:0.811527 auc:0.5376\n",
      "epoch:  20 loss:0.403566 auc:0.4796\n",
      "epoch:  40 loss:0.378843 auc:0.4891\n",
      "epoch:  60 loss:0.373752 auc:0.4938\n",
      "epoch:  80 loss:0.371859 auc:0.4946\n",
      "epoch: 100 loss:0.370996 auc:0.4928\n",
      "epoch: 120 loss:0.370221 auc:0.4876\n",
      "epoch: 140 loss:0.369233 auc:0.4811\n"
     ]
    },
    {
     "name": "stderr",
     "output_type": "stream",
     "text": [
      " 51%|█████▏    | 236/460 [39:31<47:49, 12.81s/it]"
     ]
    },
    {
     "name": "stdout",
     "output_type": "stream",
     "text": [
      "epoch: 160 loss:0.367637 auc:0.4747\n",
      "Fit finished.\n",
      "epoch:   0 loss:0.729157 auc:0.5456\n",
      "epoch:  20 loss:0.391242 auc:0.5325\n",
      "epoch:  40 loss:0.376065 auc:0.5184\n",
      "epoch:  60 loss:0.372182 auc:0.5110\n",
      "epoch:  80 loss:0.370790 auc:0.5015\n",
      "epoch: 100 loss:0.369793 auc:0.4972\n",
      "epoch: 120 loss:0.368498 auc:0.4882\n",
      "epoch: 140 loss:0.366052 auc:0.4779\n"
     ]
    },
    {
     "name": "stderr",
     "output_type": "stream",
     "text": [
      " 52%|█████▏    | 237/460 [39:37<39:25, 10.61s/it]"
     ]
    },
    {
     "name": "stdout",
     "output_type": "stream",
     "text": [
      "epoch: 160 loss:0.360864 auc:0.4512\n",
      "Fit finished.\n",
      "epoch:   0 loss:0.854257 auc:0.5294\n",
      "epoch:  20 loss:0.403724 auc:0.4647\n",
      "epoch:  40 loss:0.377652 auc:0.5190\n",
      "epoch:  60 loss:0.372923 auc:0.5253\n",
      "epoch:  80 loss:0.371356 auc:0.5452\n",
      "epoch: 100 loss:0.370505 auc:0.5571\n",
      "epoch: 120 loss:0.369672 auc:0.5718\n",
      "epoch: 140 loss:0.368570 auc:0.5757\n",
      "epoch: 160 loss:0.366569 auc:0.5729\n",
      "epoch: 180 loss:0.361589 auc:0.5333\n"
     ]
    },
    {
     "name": "stderr",
     "output_type": "stream",
     "text": [
      " 52%|█████▏    | 238/460 [39:45<36:37,  9.90s/it]"
     ]
    },
    {
     "name": "stdout",
     "output_type": "stream",
     "text": [
      "epoch: 200 loss:0.355508 auc:0.5104\n",
      "Fit finished.\n",
      "epoch:   0 loss:0.681862 auc:0.4879\n",
      "epoch:  20 loss:0.382361 auc:0.5045\n",
      "epoch:  40 loss:0.373657 auc:0.5126\n",
      "epoch:  60 loss:0.370807 auc:0.5176\n",
      "epoch:  80 loss:0.369482 auc:0.5172\n",
      "epoch: 100 loss:0.367750 auc:0.5228\n",
      "epoch: 120 loss:0.364202 auc:0.5397\n",
      "epoch: 140 loss:0.358449 auc:0.5594\n",
      "epoch: 160 loss:0.352922 auc:0.5585\n",
      "epoch: 180 loss:0.347124 auc:0.5636\n",
      "epoch: 200 loss:0.340083 auc:0.5644\n",
      "epoch: 220 loss:0.328397 auc:0.5833\n",
      "epoch: 240 loss:0.318072 auc:0.6115\n",
      "epoch: 260 loss:0.308502 auc:0.6393\n",
      "epoch: 280 loss:0.298638 auc:0.6430\n",
      "epoch: 300 loss:0.291507 auc:0.6346\n",
      "epoch: 320 loss:0.285689 auc:0.6408\n",
      "epoch: 340 loss:0.282099 auc:0.6456\n",
      "epoch: 360 loss:0.278284 auc:0.6353\n",
      "epoch: 380 loss:0.275495 auc:0.6348\n",
      "epoch: 400 loss:0.272697 auc:0.6405\n"
     ]
    },
    {
     "name": "stderr",
     "output_type": "stream",
     "text": [
      " 52%|█████▏    | 239/460 [40:03<45:28, 12.35s/it]"
     ]
    },
    {
     "name": "stdout",
     "output_type": "stream",
     "text": [
      "epoch: 420 loss:0.271636 auc:0.6305\n",
      "Fit finished.\n",
      "epoch:   0 loss:0.748300 auc:0.6746\n",
      "epoch:  20 loss:0.395312 auc:0.6746\n",
      "epoch:  40 loss:0.376052 auc:0.6568\n",
      "epoch:  60 loss:0.372602 auc:0.6568\n",
      "epoch:  80 loss:0.371434 auc:0.6686\n",
      "epoch: 100 loss:0.370616 auc:0.6450\n",
      "epoch: 120 loss:0.369543 auc:0.6391\n",
      "epoch: 140 loss:0.367604 auc:0.6331\n"
     ]
    },
    {
     "name": "stderr",
     "output_type": "stream",
     "text": [
      " 52%|█████▏    | 240/460 [40:08<37:07, 10.12s/it]"
     ]
    },
    {
     "name": "stdout",
     "output_type": "stream",
     "text": [
      "epoch: 160 loss:0.363573 auc:0.6095\n",
      "Fit finished.\n",
      "epoch:   0 loss:0.774977 auc:0.4897\n",
      "epoch:  20 loss:0.392257 auc:0.5343\n",
      "epoch:  40 loss:0.376318 auc:0.6276\n",
      "epoch:  60 loss:0.372452 auc:0.6533\n",
      "epoch:  80 loss:0.371200 auc:0.6742\n",
      "epoch: 100 loss:0.370110 auc:0.6800\n",
      "epoch: 120 loss:0.368446 auc:0.6735\n",
      "epoch: 140 loss:0.365389 auc:0.6584\n",
      "epoch: 160 loss:0.360829 auc:0.6101\n",
      "epoch: 180 loss:0.356540 auc:0.5909\n"
     ]
    },
    {
     "name": "stderr",
     "output_type": "stream",
     "text": [
      " 52%|█████▏    | 241/460 [40:17<35:25,  9.71s/it]"
     ]
    },
    {
     "name": "stdout",
     "output_type": "stream",
     "text": [
      "epoch: 200 loss:0.351361 auc:0.5826\n",
      "Fit finished.\n",
      "epoch:   0 loss:0.860776 auc:0.5056\n",
      "epoch:  20 loss:0.394998 auc:0.4552\n",
      "epoch:  40 loss:0.375864 auc:0.4269\n",
      "epoch:  60 loss:0.371993 auc:0.4241\n",
      "epoch:  80 loss:0.370741 auc:0.4167\n",
      "epoch: 100 loss:0.369872 auc:0.4130\n",
      "epoch: 120 loss:0.368863 auc:0.4094\n",
      "epoch: 140 loss:0.367289 auc:0.4072\n"
     ]
    },
    {
     "name": "stderr",
     "output_type": "stream",
     "text": [
      " 53%|█████▎    | 242/460 [40:24<32:13,  8.87s/it]"
     ]
    },
    {
     "name": "stdout",
     "output_type": "stream",
     "text": [
      "epoch: 160 loss:0.364317 auc:0.3962\n",
      "Fit finished.\n",
      "epoch:   0 loss:0.856198 auc:0.5556\n",
      "epoch:  20 loss:0.395180 auc:0.6656\n",
      "epoch:  40 loss:0.378581 auc:0.7089\n",
      "epoch:  60 loss:0.373877 auc:0.7267\n",
      "epoch:  80 loss:0.372619 auc:0.7289\n",
      "epoch: 100 loss:0.371961 auc:0.7422\n",
      "epoch: 120 loss:0.371470 auc:0.7356\n",
      "epoch: 140 loss:0.370963 auc:0.7378\n",
      "epoch: 160 loss:0.370321 auc:0.7522\n",
      "epoch: 180 loss:0.369361 auc:0.7567\n",
      "epoch: 200 loss:0.367664 auc:0.7756\n",
      "epoch: 220 loss:0.364314 auc:0.7811\n",
      "epoch: 240 loss:0.358653 auc:0.7933\n",
      "epoch: 260 loss:0.352276 auc:0.7556\n"
     ]
    },
    {
     "name": "stderr",
     "output_type": "stream",
     "text": [
      " 53%|█████▎    | 243/460 [40:35<34:08,  9.44s/it]"
     ]
    },
    {
     "name": "stdout",
     "output_type": "stream",
     "text": [
      "epoch: 280 loss:0.346378 auc:0.7311\n",
      "Fit finished.\n",
      "epoch:   0 loss:0.782812 auc:0.5924\n",
      "epoch:  20 loss:0.389495 auc:0.5586\n",
      "epoch:  40 loss:0.374936 auc:0.5717\n",
      "epoch:  60 loss:0.372175 auc:0.5808\n",
      "epoch:  80 loss:0.370928 auc:0.5820\n",
      "epoch: 100 loss:0.369937 auc:0.5860\n",
      "epoch: 120 loss:0.368457 auc:0.5943\n",
      "epoch: 140 loss:0.365080 auc:0.6218\n",
      "epoch: 160 loss:0.358762 auc:0.6934\n",
      "epoch: 180 loss:0.353027 auc:0.7024\n",
      "epoch: 200 loss:0.347725 auc:0.7019\n",
      "epoch: 220 loss:0.345198 auc:0.6861\n",
      "epoch: 240 loss:0.334463 auc:0.6838\n",
      "epoch: 260 loss:0.326922 auc:0.6816\n",
      "epoch: 280 loss:0.317975 auc:0.6777\n",
      "epoch: 300 loss:0.309567 auc:0.6683\n"
     ]
    },
    {
     "name": "stderr",
     "output_type": "stream",
     "text": [
      " 53%|█████▎    | 244/460 [40:47<37:41, 10.47s/it]"
     ]
    },
    {
     "name": "stdout",
     "output_type": "stream",
     "text": [
      "epoch: 320 loss:0.301276 auc:0.6798\n",
      "Fit finished.\n",
      "epoch:   0 loss:0.840719 auc:0.5506\n",
      "epoch:  20 loss:0.391851 auc:0.3988\n",
      "epoch:  40 loss:0.376007 auc:0.3414\n",
      "epoch:  60 loss:0.373073 auc:0.3222\n",
      "epoch:  80 loss:0.371701 auc:0.3083\n",
      "epoch: 100 loss:0.370829 auc:0.2968\n",
      "epoch: 120 loss:0.369855 auc:0.2885\n",
      "epoch: 140 loss:0.368439 auc:0.2799\n"
     ]
    },
    {
     "name": "stderr",
     "output_type": "stream",
     "text": [
      " 53%|█████▎    | 245/460 [40:54<33:21,  9.31s/it]"
     ]
    },
    {
     "name": "stdout",
     "output_type": "stream",
     "text": [
      "epoch: 160 loss:0.366060 auc:0.2658\n",
      "Fit finished.\n",
      "epoch:   0 loss:0.730133 auc:0.5641\n",
      "epoch:  20 loss:0.395188 auc:0.5311\n",
      "epoch:  40 loss:0.375133 auc:0.5673\n",
      "epoch:  60 loss:0.371506 auc:0.5612\n",
      "epoch:  80 loss:0.370139 auc:0.5613\n",
      "epoch: 100 loss:0.369028 auc:0.5672\n",
      "epoch: 120 loss:0.367511 auc:0.5754\n",
      "epoch: 140 loss:0.364533 auc:0.5966\n",
      "epoch: 160 loss:0.359731 auc:0.6156\n",
      "epoch: 180 loss:0.354764 auc:0.6133\n",
      "epoch: 200 loss:0.349012 auc:0.6376\n",
      "epoch: 220 loss:0.343193 auc:0.6462\n",
      "epoch: 240 loss:0.332366 auc:0.6407\n",
      "epoch: 260 loss:0.323663 auc:0.6271\n",
      "epoch: 280 loss:0.313815 auc:0.6286\n",
      "epoch: 300 loss:0.305103 auc:0.6276\n",
      "epoch: 320 loss:0.297463 auc:0.6383\n",
      "epoch: 340 loss:0.291205 auc:0.6401\n"
     ]
    },
    {
     "name": "stderr",
     "output_type": "stream",
     "text": [
      " 53%|█████▎    | 246/460 [41:08<38:33, 10.81s/it]"
     ]
    },
    {
     "name": "stdout",
     "output_type": "stream",
     "text": [
      "epoch: 360 loss:0.286061 auc:0.6307\n",
      "Fit finished.\n",
      "epoch:   0 loss:0.759824 auc:0.4621\n",
      "epoch:  20 loss:0.388451 auc:0.5112\n",
      "epoch:  40 loss:0.376454 auc:0.5710\n",
      "epoch:  60 loss:0.372893 auc:0.5776\n",
      "epoch:  80 loss:0.371592 auc:0.5684\n",
      "epoch: 100 loss:0.370469 auc:0.5577\n",
      "epoch: 120 loss:0.368673 auc:0.5588\n",
      "epoch: 140 loss:0.365084 auc:0.5682\n",
      "epoch: 160 loss:0.359416 auc:0.5520\n"
     ]
    },
    {
     "name": "stderr",
     "output_type": "stream",
     "text": [
      " 54%|█████▎    | 247/460 [41:17<35:35, 10.02s/it]"
     ]
    },
    {
     "name": "stdout",
     "output_type": "stream",
     "text": [
      "epoch: 180 loss:0.353418 auc:0.4878\n",
      "Fit finished.\n",
      "epoch:   0 loss:0.882632 auc:0.4780\n",
      "epoch:  20 loss:0.401924 auc:0.4241\n",
      "epoch:  40 loss:0.378739 auc:0.4878\n",
      "epoch:  60 loss:0.373914 auc:0.5043\n",
      "epoch:  80 loss:0.372489 auc:0.5279\n",
      "epoch: 100 loss:0.371726 auc:0.5477\n",
      "epoch: 120 loss:0.371054 auc:0.5661\n",
      "epoch: 140 loss:0.370224 auc:0.5759\n",
      "epoch: 160 loss:0.368931 auc:0.5930\n",
      "epoch: 180 loss:0.366598 auc:0.6042\n",
      "epoch: 200 loss:0.362591 auc:0.6345\n",
      "epoch: 220 loss:0.357881 auc:0.6476\n",
      "epoch: 240 loss:0.353067 auc:0.6568\n",
      "epoch: 260 loss:0.346929 auc:0.6601\n",
      "epoch: 280 loss:0.341669 auc:0.6607\n",
      "epoch: 300 loss:0.334928 auc:0.6548\n",
      "epoch: 320 loss:0.328900 auc:0.6575\n",
      "epoch: 340 loss:0.322728 auc:0.6542\n"
     ]
    },
    {
     "name": "stderr",
     "output_type": "stream",
     "text": [
      " 54%|█████▍    | 248/460 [41:31<40:22, 11.43s/it]"
     ]
    },
    {
     "name": "stdout",
     "output_type": "stream",
     "text": [
      "epoch: 360 loss:0.313934 auc:0.6331\n",
      "Fit finished.\n",
      "epoch:   0 loss:0.750102 auc:0.4844\n",
      "epoch:  20 loss:0.386194 auc:0.5006\n",
      "epoch:  40 loss:0.374545 auc:0.5307\n",
      "epoch:  60 loss:0.371126 auc:0.5590\n",
      "epoch:  80 loss:0.369478 auc:0.5794\n",
      "epoch: 100 loss:0.367333 auc:0.5922\n",
      "epoch: 120 loss:0.363033 auc:0.5952\n",
      "epoch: 140 loss:0.357304 auc:0.5790\n",
      "epoch: 160 loss:0.351838 auc:0.5772\n",
      "epoch: 180 loss:0.346458 auc:0.5863\n",
      "epoch: 200 loss:0.337054 auc:0.5865\n",
      "epoch: 220 loss:0.328246 auc:0.5863\n",
      "epoch: 240 loss:0.318178 auc:0.5796\n"
     ]
    },
    {
     "name": "stderr",
     "output_type": "stream",
     "text": [
      " 54%|█████▍    | 249/460 [41:41<38:30, 10.95s/it]"
     ]
    },
    {
     "name": "stdout",
     "output_type": "stream",
     "text": [
      "epoch: 260 loss:0.310308 auc:0.5891\n",
      "Fit finished.\n",
      "epoch:   0 loss:0.765440 auc:0.5612\n",
      "epoch:  20 loss:0.401848 auc:0.5000\n",
      "epoch:  40 loss:0.379921 auc:0.4694\n",
      "epoch:  60 loss:0.374406 auc:0.4592\n",
      "epoch:  80 loss:0.372545 auc:0.5153\n",
      "epoch: 100 loss:0.371416 auc:0.5408\n",
      "epoch: 120 loss:0.370312 auc:0.5561\n",
      "epoch: 140 loss:0.369158 auc:0.5918\n",
      "epoch: 160 loss:0.367761 auc:0.5867\n",
      "epoch: 180 loss:0.365545 auc:0.5765\n",
      "epoch: 200 loss:0.361527 auc:0.5408\n",
      "epoch: 220 loss:0.356397 auc:0.5612\n",
      "epoch: 240 loss:0.350557 auc:0.6122\n",
      "epoch: 260 loss:0.345239 auc:0.6173\n",
      "epoch: 280 loss:0.337837 auc:0.6173\n",
      "epoch: 300 loss:0.332970 auc:0.6276\n",
      "epoch: 320 loss:0.324933 auc:0.6122\n",
      "epoch: 340 loss:0.317219 auc:0.6020\n",
      "epoch: 360 loss:0.309363 auc:0.5867\n",
      "epoch: 380 loss:0.308169 auc:0.6224\n"
     ]
    },
    {
     "name": "stderr",
     "output_type": "stream",
     "text": [
      " 55%|█████▍    | 251/460 [41:57<33:30,  9.62s/it]"
     ]
    },
    {
     "name": "stdout",
     "output_type": "stream",
     "text": [
      "epoch: 400 loss:0.299429 auc:0.6071\n",
      "Fit finished.\n",
      "epoch:   0 loss:1.041810 auc:0.4938\n",
      "epoch:  20 loss:0.424946 auc:0.5158\n",
      "epoch:  40 loss:0.383865 auc:0.4934\n",
      "epoch:  60 loss:0.374545 auc:0.4796\n",
      "epoch:  80 loss:0.371959 auc:0.4768\n",
      "epoch: 100 loss:0.370870 auc:0.4737\n",
      "epoch: 120 loss:0.370072 auc:0.4773\n",
      "epoch: 140 loss:0.369173 auc:0.4821\n"
     ]
    },
    {
     "name": "stderr",
     "output_type": "stream",
     "text": [
      " 55%|█████▍    | 252/460 [42:05<31:22,  9.05s/it]"
     ]
    },
    {
     "name": "stdout",
     "output_type": "stream",
     "text": [
      "epoch: 160 loss:0.367917 auc:0.4863\n",
      "Fit finished.\n",
      "epoch:   0 loss:0.722315 auc:0.5165\n",
      "epoch:  20 loss:0.392766 auc:0.3981\n",
      "epoch:  40 loss:0.375185 auc:0.3785\n",
      "epoch:  60 loss:0.371460 auc:0.3836\n",
      "epoch:  80 loss:0.370187 auc:0.3850\n",
      "epoch: 100 loss:0.368968 auc:0.3847\n",
      "epoch: 120 loss:0.366848 auc:0.3829\n",
      "epoch: 140 loss:0.362334 auc:0.3710\n"
     ]
    },
    {
     "name": "stderr",
     "output_type": "stream",
     "text": [
      " 55%|█████▌    | 253/460 [42:11<28:59,  8.40s/it]"
     ]
    },
    {
     "name": "stdout",
     "output_type": "stream",
     "text": [
      "epoch: 160 loss:0.355352 auc:0.3278\n",
      "Fit finished.\n",
      "epoch:   0 loss:0.737704 auc:0.4578\n",
      "epoch:  20 loss:0.390786 auc:0.5289\n",
      "epoch:  40 loss:0.375764 auc:0.4205\n",
      "epoch:  60 loss:0.372647 auc:0.4021\n",
      "epoch:  80 loss:0.371693 auc:0.4039\n",
      "epoch: 100 loss:0.370847 auc:0.4137\n",
      "epoch: 120 loss:0.369718 auc:0.4292\n",
      "epoch: 140 loss:0.367752 auc:0.4395\n"
     ]
    },
    {
     "name": "stderr",
     "output_type": "stream",
     "text": [
      " 55%|█████▌    | 254/460 [42:17<26:34,  7.74s/it]"
     ]
    },
    {
     "name": "stdout",
     "output_type": "stream",
     "text": [
      "epoch: 160 loss:0.363928 auc:0.4193\n",
      "Fit finished.\n",
      "epoch:   0 loss:0.844023 auc:0.5703\n",
      "epoch:  20 loss:0.404337 auc:0.3904\n",
      "epoch:  40 loss:0.378854 auc:0.3496\n",
      "epoch:  60 loss:0.373266 auc:0.3331\n",
      "epoch:  80 loss:0.371385 auc:0.3253\n",
      "epoch: 100 loss:0.370307 auc:0.3198\n",
      "epoch: 120 loss:0.369085 auc:0.3137\n",
      "epoch: 140 loss:0.367141 auc:0.3045\n"
     ]
    },
    {
     "name": "stderr",
     "output_type": "stream",
     "text": [
      " 55%|█████▌    | 255/460 [42:24<25:17,  7.40s/it]"
     ]
    },
    {
     "name": "stdout",
     "output_type": "stream",
     "text": [
      "epoch: 160 loss:0.364036 auc:0.2867\n",
      "Fit finished.\n",
      "epoch:   0 loss:0.718462 auc:0.4774\n",
      "epoch:  20 loss:0.395188 auc:0.4806\n",
      "epoch:  40 loss:0.375022 auc:0.5498\n",
      "epoch:  60 loss:0.371678 auc:0.5753\n",
      "epoch:  80 loss:0.370227 auc:0.6127\n",
      "epoch: 100 loss:0.368744 auc:0.6095\n",
      "epoch: 120 loss:0.366095 auc:0.6134\n",
      "epoch: 140 loss:0.360984 auc:0.5986\n",
      "epoch: 160 loss:0.354622 auc:0.6151\n",
      "epoch: 180 loss:0.348903 auc:0.6056\n",
      "epoch: 200 loss:0.337728 auc:0.5945\n",
      "epoch: 220 loss:0.325375 auc:0.5967\n"
     ]
    },
    {
     "name": "stderr",
     "output_type": "stream",
     "text": [
      " 56%|█████▌    | 258/460 [42:33<17:17,  5.14s/it]"
     ]
    },
    {
     "name": "stdout",
     "output_type": "stream",
     "text": [
      "epoch: 240 loss:0.314932 auc:0.5791\n",
      "Fit finished.\n",
      "epoch:   0 loss:0.840860 auc:0.5156\n",
      "epoch:  20 loss:0.406689 auc:0.4634\n",
      "epoch:  40 loss:0.380826 auc:0.4321\n",
      "epoch:  60 loss:0.373351 auc:0.4076\n",
      "epoch:  80 loss:0.371578 auc:0.3974\n",
      "epoch: 100 loss:0.370746 auc:0.3899\n",
      "epoch: 120 loss:0.370016 auc:0.3831\n",
      "epoch: 140 loss:0.369062 auc:0.3755\n"
     ]
    },
    {
     "name": "stderr",
     "output_type": "stream",
     "text": [
      " 56%|█████▋    | 259/460 [42:40<18:32,  5.53s/it]"
     ]
    },
    {
     "name": "stdout",
     "output_type": "stream",
     "text": [
      "epoch: 160 loss:0.367531 auc:0.3654\n",
      "Fit finished.\n",
      "epoch:   0 loss:0.810892 auc:0.5375\n",
      "epoch:  20 loss:0.400532 auc:0.5521\n",
      "epoch:  40 loss:0.376607 auc:0.5605\n",
      "epoch:  60 loss:0.372533 auc:0.5705\n",
      "epoch:  80 loss:0.371074 auc:0.5784\n",
      "epoch: 100 loss:0.370150 auc:0.5841\n",
      "epoch: 120 loss:0.369148 auc:0.5851\n",
      "epoch: 140 loss:0.367638 auc:0.5833\n",
      "epoch: 160 loss:0.364714 auc:0.5720\n",
      "epoch: 180 loss:0.359446 auc:0.5620\n"
     ]
    },
    {
     "name": "stderr",
     "output_type": "stream",
     "text": [
      " 57%|█████▋    | 260/460 [42:49<20:40,  6.20s/it]"
     ]
    },
    {
     "name": "stdout",
     "output_type": "stream",
     "text": [
      "epoch: 200 loss:0.354332 auc:0.5547\n",
      "Fit finished.\n",
      "epoch:   0 loss:0.839435 auc:0.4405\n",
      "epoch:  20 loss:0.385488 auc:0.4745\n",
      "epoch:  40 loss:0.374642 auc:0.5281\n",
      "epoch:  60 loss:0.371678 auc:0.5659\n",
      "epoch:  80 loss:0.370418 auc:0.5889\n",
      "epoch: 100 loss:0.369308 auc:0.6062\n",
      "epoch: 120 loss:0.367606 auc:0.6270\n",
      "epoch: 140 loss:0.364423 auc:0.6389\n",
      "epoch: 160 loss:0.359561 auc:0.6381\n",
      "epoch: 180 loss:0.354627 auc:0.6200\n",
      "epoch: 200 loss:0.348606 auc:0.6126\n",
      "epoch: 220 loss:0.339535 auc:0.5891\n"
     ]
    },
    {
     "name": "stderr",
     "output_type": "stream",
     "text": [
      " 57%|█████▋    | 262/460 [42:58<18:12,  5.52s/it]"
     ]
    },
    {
     "name": "stdout",
     "output_type": "stream",
     "text": [
      "epoch: 240 loss:0.330776 auc:0.5512\n",
      "Fit finished.\n",
      "epoch:   0 loss:0.749598 auc:0.4228\n",
      "epoch:  20 loss:0.407265 auc:0.4375\n",
      "epoch:  40 loss:0.378273 auc:0.5910\n",
      "epoch:  60 loss:0.373380 auc:0.6242\n",
      "epoch:  80 loss:0.371718 auc:0.6520\n",
      "epoch: 100 loss:0.370733 auc:0.6806\n",
      "epoch: 120 loss:0.369594 auc:0.6960\n",
      "epoch: 140 loss:0.367662 auc:0.7099\n",
      "epoch: 160 loss:0.363829 auc:0.7415\n",
      "epoch: 180 loss:0.358582 auc:0.7639\n",
      "epoch: 200 loss:0.352986 auc:0.7392\n",
      "epoch: 220 loss:0.347576 auc:0.7045\n",
      "epoch: 240 loss:0.338928 auc:0.6767\n"
     ]
    },
    {
     "name": "stderr",
     "output_type": "stream",
     "text": [
      " 57%|█████▋    | 263/460 [43:10<22:41,  6.91s/it]"
     ]
    },
    {
     "name": "stdout",
     "output_type": "stream",
     "text": [
      "epoch: 260 loss:0.330428 auc:0.6235\n",
      "Fit finished.\n",
      "epoch:   0 loss:0.768337 auc:0.4913\n",
      "epoch:  20 loss:0.392178 auc:0.5440\n",
      "epoch:  40 loss:0.376414 auc:0.5489\n",
      "epoch:  60 loss:0.372536 auc:0.5720\n",
      "epoch:  80 loss:0.371304 auc:0.5849\n",
      "epoch: 100 loss:0.370422 auc:0.6028\n",
      "epoch: 120 loss:0.369436 auc:0.6246\n",
      "epoch: 140 loss:0.367973 auc:0.6343\n",
      "epoch: 160 loss:0.365287 auc:0.6423\n",
      "epoch: 180 loss:0.360329 auc:0.6602\n",
      "epoch: 200 loss:0.354076 auc:0.6315\n",
      "epoch: 220 loss:0.347069 auc:0.5841\n"
     ]
    },
    {
     "name": "stderr",
     "output_type": "stream",
     "text": [
      " 57%|█████▋    | 264/460 [43:19<24:45,  7.58s/it]"
     ]
    },
    {
     "name": "stdout",
     "output_type": "stream",
     "text": [
      "epoch: 240 loss:0.340105 auc:0.5153\n",
      "Fit finished.\n",
      "epoch:   0 loss:0.695436 auc:0.4968\n",
      "epoch:  20 loss:0.389155 auc:0.5430\n",
      "epoch:  40 loss:0.375552 auc:0.5742\n",
      "epoch:  60 loss:0.372057 auc:0.5874\n",
      "epoch:  80 loss:0.370970 auc:0.5868\n",
      "epoch: 100 loss:0.370052 auc:0.5867\n",
      "epoch: 120 loss:0.368659 auc:0.5957\n",
      "epoch: 140 loss:0.365893 auc:0.6217\n",
      "epoch: 160 loss:0.360130 auc:0.6929\n",
      "epoch: 180 loss:0.353406 auc:0.7287\n",
      "epoch: 200 loss:0.346104 auc:0.7257\n",
      "epoch: 220 loss:0.337195 auc:0.6453\n",
      "epoch: 240 loss:0.325064 auc:0.6415\n",
      "epoch: 260 loss:0.315024 auc:0.6185\n"
     ]
    },
    {
     "name": "stderr",
     "output_type": "stream",
     "text": [
      " 58%|█████▊    | 265/460 [43:30<27:23,  8.43s/it]"
     ]
    },
    {
     "name": "stdout",
     "output_type": "stream",
     "text": [
      "epoch: 280 loss:0.312873 auc:0.5876\n",
      "Fit finished.\n",
      "epoch:   0 loss:0.983134 auc:0.5103\n",
      "epoch:  20 loss:0.408489 auc:0.4998\n",
      "epoch:  40 loss:0.379227 auc:0.5153\n",
      "epoch:  60 loss:0.372888 auc:0.5387\n",
      "epoch:  80 loss:0.371114 auc:0.5536\n",
      "epoch: 100 loss:0.370385 auc:0.5675\n",
      "epoch: 120 loss:0.369814 auc:0.5801\n",
      "epoch: 140 loss:0.369191 auc:0.5912\n",
      "epoch: 160 loss:0.368355 auc:0.6023\n",
      "epoch: 180 loss:0.367055 auc:0.6091\n",
      "epoch: 200 loss:0.364726 auc:0.6098\n",
      "epoch: 220 loss:0.360409 auc:0.6105\n",
      "epoch: 240 loss:0.355194 auc:0.6052\n",
      "epoch: 260 loss:0.349316 auc:0.5839\n"
     ]
    },
    {
     "name": "stderr",
     "output_type": "stream",
     "text": [
      " 58%|█████▊    | 266/460 [43:43<30:35,  9.46s/it]"
     ]
    },
    {
     "name": "stdout",
     "output_type": "stream",
     "text": [
      "epoch: 280 loss:0.343745 auc:0.5647\n",
      "Fit finished.\n",
      "epoch:   0 loss:0.858161 auc:0.5044\n",
      "epoch:  20 loss:0.404896 auc:0.5183\n",
      "epoch:  40 loss:0.377567 auc:0.4901\n",
      "epoch:  60 loss:0.372380 auc:0.4729\n",
      "epoch:  80 loss:0.370768 auc:0.4584\n",
      "epoch: 100 loss:0.369824 auc:0.4474\n",
      "epoch: 120 loss:0.368829 auc:0.4365\n",
      "epoch: 140 loss:0.367312 auc:0.4237\n"
     ]
    },
    {
     "name": "stderr",
     "output_type": "stream",
     "text": [
      " 58%|█████▊    | 267/460 [43:49<27:55,  8.68s/it]"
     ]
    },
    {
     "name": "stdout",
     "output_type": "stream",
     "text": [
      "epoch: 160 loss:0.364392 auc:0.4102\n",
      "Fit finished.\n",
      "epoch:   0 loss:0.829633 auc:0.4894\n",
      "epoch:  20 loss:0.391761 auc:0.4898\n",
      "epoch:  40 loss:0.375256 auc:0.5050\n",
      "epoch:  60 loss:0.371827 auc:0.5227\n",
      "epoch:  80 loss:0.370669 auc:0.5370\n",
      "epoch: 100 loss:0.369742 auc:0.5431\n",
      "epoch: 120 loss:0.368578 auc:0.5499\n",
      "epoch: 140 loss:0.366676 auc:0.5579\n",
      "epoch: 160 loss:0.362912 auc:0.5759\n",
      "epoch: 180 loss:0.356506 auc:0.5993\n",
      "epoch: 200 loss:0.349861 auc:0.6146\n",
      "epoch: 220 loss:0.339691 auc:0.6103\n",
      "epoch: 240 loss:0.330675 auc:0.6018\n",
      "epoch: 260 loss:0.321165 auc:0.5807\n",
      "epoch: 280 loss:0.313071 auc:0.5850\n",
      "epoch: 300 loss:0.304589 auc:0.5724\n"
     ]
    },
    {
     "name": "stderr",
     "output_type": "stream",
     "text": [
      " 58%|█████▊    | 269/460 [44:03<25:06,  7.88s/it]"
     ]
    },
    {
     "name": "stdout",
     "output_type": "stream",
     "text": [
      "epoch: 320 loss:0.296191 auc:0.5532\n",
      "Fit finished.\n",
      "epoch:   0 loss:0.736773 auc:0.4270\n",
      "epoch:  20 loss:0.400226 auc:0.4476\n",
      "epoch:  40 loss:0.376896 auc:0.4942\n",
      "epoch:  60 loss:0.373089 auc:0.5121\n",
      "epoch:  80 loss:0.371559 auc:0.5330\n",
      "epoch: 100 loss:0.370671 auc:0.5567\n",
      "epoch: 120 loss:0.369663 auc:0.5664\n",
      "epoch: 140 loss:0.367903 auc:0.5941\n",
      "epoch: 160 loss:0.364367 auc:0.6030\n",
      "epoch: 180 loss:0.359326 auc:0.6277\n",
      "epoch: 200 loss:0.354077 auc:0.6408\n",
      "epoch: 220 loss:0.348364 auc:0.6272\n",
      "epoch: 240 loss:0.340008 auc:0.6138\n",
      "epoch: 260 loss:0.331337 auc:0.5820\n",
      "epoch: 280 loss:0.324168 auc:0.5920\n"
     ]
    },
    {
     "name": "stderr",
     "output_type": "stream",
     "text": [
      " 59%|█████▊    | 270/460 [44:16<28:42,  9.07s/it]"
     ]
    },
    {
     "name": "stdout",
     "output_type": "stream",
     "text": [
      "epoch: 300 loss:0.316472 auc:0.5680\n",
      "Fit finished.\n",
      "epoch:   0 loss:0.808659 auc:0.2825\n",
      "epoch:  20 loss:0.394051 auc:0.2325\n",
      "epoch:  40 loss:0.376151 auc:0.3600\n",
      "epoch:  60 loss:0.372579 auc:0.4900\n",
      "epoch:  80 loss:0.371378 auc:0.5750\n",
      "epoch: 100 loss:0.370326 auc:0.6250\n",
      "epoch: 120 loss:0.368759 auc:0.6775\n",
      "epoch: 140 loss:0.365737 auc:0.7225\n",
      "epoch: 160 loss:0.360351 auc:0.7625\n",
      "epoch: 180 loss:0.354650 auc:0.8175\n",
      "epoch: 200 loss:0.349048 auc:0.8525\n",
      "epoch: 220 loss:0.342822 auc:0.8400\n",
      "epoch: 240 loss:0.332589 auc:0.8050\n",
      "epoch: 260 loss:0.322816 auc:0.7625\n",
      "epoch: 280 loss:0.315226 auc:0.7375\n"
     ]
    },
    {
     "name": "stderr",
     "output_type": "stream",
     "text": [
      " 59%|█████▉    | 271/460 [44:28<31:14,  9.92s/it]"
     ]
    },
    {
     "name": "stdout",
     "output_type": "stream",
     "text": [
      "epoch: 300 loss:0.306179 auc:0.6650\n",
      "Fit finished.\n",
      "epoch:   0 loss:0.739672 auc:0.5208\n",
      "epoch:  20 loss:0.403062 auc:0.7153\n",
      "epoch:  40 loss:0.380851 auc:0.7778\n",
      "epoch:  60 loss:0.374605 auc:0.7639\n",
      "epoch:  80 loss:0.372698 auc:0.7639\n",
      "epoch: 100 loss:0.371823 auc:0.7361\n",
      "epoch: 120 loss:0.371102 auc:0.7222\n",
      "epoch: 140 loss:0.370282 auc:0.7222\n",
      "epoch: 160 loss:0.369108 auc:0.7292\n",
      "epoch: 180 loss:0.366997 auc:0.7431\n"
     ]
    },
    {
     "name": "stderr",
     "output_type": "stream",
     "text": [
      " 59%|█████▉    | 272/460 [44:37<29:45,  9.50s/it]"
     ]
    },
    {
     "name": "stdout",
     "output_type": "stream",
     "text": [
      "epoch: 200 loss:0.362736 auc:0.7569\n",
      "Fit finished.\n",
      "epoch:   0 loss:0.770199 auc:0.4307\n",
      "epoch:  20 loss:0.393256 auc:0.4637\n",
      "epoch:  40 loss:0.375658 auc:0.4757\n",
      "epoch:  60 loss:0.372715 auc:0.4795\n",
      "epoch:  80 loss:0.371575 auc:0.4811\n",
      "epoch: 100 loss:0.370668 auc:0.4818\n",
      "epoch: 120 loss:0.369452 auc:0.4842\n",
      "epoch: 140 loss:0.367311 auc:0.4830\n",
      "epoch: 160 loss:0.362842 auc:0.4662\n"
     ]
    },
    {
     "name": "stderr",
     "output_type": "stream",
     "text": [
      " 59%|█████▉    | 273/460 [44:44<27:57,  8.97s/it]"
     ]
    },
    {
     "name": "stdout",
     "output_type": "stream",
     "text": [
      "epoch: 180 loss:0.356223 auc:0.4323\n",
      "Fit finished.\n",
      "epoch:   0 loss:0.736246 auc:0.5111\n",
      "epoch:  20 loss:0.388633 auc:0.5104\n",
      "epoch:  40 loss:0.375496 auc:0.5413\n",
      "epoch:  60 loss:0.371484 auc:0.5643\n",
      "epoch:  80 loss:0.370242 auc:0.5861\n",
      "epoch: 100 loss:0.369158 auc:0.6064\n",
      "epoch: 120 loss:0.367618 auc:0.6221\n",
      "epoch: 140 loss:0.364905 auc:0.6365\n",
      "epoch: 160 loss:0.360437 auc:0.6580\n",
      "epoch: 180 loss:0.354985 auc:0.6816\n",
      "epoch: 200 loss:0.348162 auc:0.6981\n",
      "epoch: 220 loss:0.343297 auc:0.6824\n",
      "epoch: 240 loss:0.331078 auc:0.6693\n",
      "epoch: 260 loss:0.321796 auc:0.6442\n"
     ]
    },
    {
     "name": "stderr",
     "output_type": "stream",
     "text": [
      " 60%|█████▉    | 274/460 [44:56<30:35,  9.87s/it]"
     ]
    },
    {
     "name": "stdout",
     "output_type": "stream",
     "text": [
      "epoch: 280 loss:0.312996 auc:0.5949\n",
      "Fit finished.\n",
      "epoch:   0 loss:0.818072 auc:0.4804\n",
      "epoch:  20 loss:0.391893 auc:0.4366\n",
      "epoch:  40 loss:0.377141 auc:0.4557\n",
      "epoch:  60 loss:0.372819 auc:0.4647\n",
      "epoch:  80 loss:0.371505 auc:0.4773\n",
      "epoch: 100 loss:0.370540 auc:0.4941\n",
      "epoch: 120 loss:0.369339 auc:0.5101\n",
      "epoch: 140 loss:0.367337 auc:0.5229\n",
      "epoch: 160 loss:0.363787 auc:0.5306\n",
      "epoch: 180 loss:0.359362 auc:0.5347\n",
      "epoch: 200 loss:0.354788 auc:0.5232\n",
      "epoch: 220 loss:0.349031 auc:0.5152\n",
      "epoch: 240 loss:0.342141 auc:0.5034\n"
     ]
    },
    {
     "name": "stderr",
     "output_type": "stream",
     "text": [
      " 60%|█████▉    | 275/460 [45:06<30:31,  9.90s/it]"
     ]
    },
    {
     "name": "stdout",
     "output_type": "stream",
     "text": [
      "epoch: 260 loss:0.332396 auc:0.4924\n",
      "Fit finished.\n",
      "epoch:   0 loss:0.804640 auc:0.4221\n",
      "epoch:  20 loss:0.389947 auc:0.4948\n",
      "epoch:  40 loss:0.375237 auc:0.5225\n",
      "epoch:  60 loss:0.372424 auc:0.5190\n",
      "epoch:  80 loss:0.371052 auc:0.5156\n",
      "epoch: 100 loss:0.369742 auc:0.5121\n",
      "epoch: 120 loss:0.367808 auc:0.5502\n",
      "epoch: 140 loss:0.364302 auc:0.5917\n",
      "epoch: 160 loss:0.358881 auc:0.6471\n",
      "epoch: 180 loss:0.352411 auc:0.6782\n",
      "epoch: 200 loss:0.345021 auc:0.7197\n",
      "epoch: 220 loss:0.335419 auc:0.6851\n",
      "epoch: 240 loss:0.326252 auc:0.6955\n",
      "epoch: 260 loss:0.317776 auc:0.6713\n",
      "epoch: 280 loss:0.309934 auc:0.6817\n",
      "epoch: 300 loss:0.302549 auc:0.6782\n",
      "epoch: 320 loss:0.296858 auc:0.6955\n",
      "epoch: 340 loss:0.292269 auc:0.6920\n"
     ]
    },
    {
     "name": "stderr",
     "output_type": "stream",
     "text": [
      " 60%|██████    | 276/460 [45:20<33:41, 10.99s/it]"
     ]
    },
    {
     "name": "stdout",
     "output_type": "stream",
     "text": [
      "epoch: 360 loss:0.286511 auc:0.6955\n",
      "Fit finished.\n",
      "epoch:   0 loss:0.751005 auc:0.5130\n",
      "epoch:  20 loss:0.400795 auc:0.4459\n",
      "epoch:  40 loss:0.377219 auc:0.4433\n",
      "epoch:  60 loss:0.372560 auc:0.4558\n",
      "epoch:  80 loss:0.370815 auc:0.4682\n",
      "epoch: 100 loss:0.370109 auc:0.4775\n",
      "epoch: 120 loss:0.369536 auc:0.4864\n",
      "epoch: 140 loss:0.368851 auc:0.4931\n"
     ]
    },
    {
     "name": "stderr",
     "output_type": "stream",
     "text": [
      " 60%|██████    | 277/460 [45:27<29:48,  9.78s/it]"
     ]
    },
    {
     "name": "stdout",
     "output_type": "stream",
     "text": [
      "epoch: 160 loss:0.367691 auc:0.4924\n",
      "Fit finished.\n",
      "epoch:   0 loss:0.755421 auc:0.5206\n",
      "epoch:  20 loss:0.390516 auc:0.4978\n",
      "epoch:  40 loss:0.375837 auc:0.4624\n",
      "epoch:  60 loss:0.372193 auc:0.4482\n",
      "epoch:  80 loss:0.370763 auc:0.4350\n",
      "epoch: 100 loss:0.369389 auc:0.4212\n",
      "epoch: 120 loss:0.367236 auc:0.4091\n",
      "epoch: 140 loss:0.363038 auc:0.4038\n"
     ]
    },
    {
     "name": "stderr",
     "output_type": "stream",
     "text": [
      " 60%|██████    | 278/460 [45:33<26:21,  8.69s/it]"
     ]
    },
    {
     "name": "stdout",
     "output_type": "stream",
     "text": [
      "epoch: 160 loss:0.357061 auc:0.4142\n",
      "Fit finished.\n",
      "epoch:   0 loss:0.694230 auc:0.5444\n",
      "epoch:  20 loss:0.386294 auc:0.5302\n",
      "epoch:  40 loss:0.374130 auc:0.5443\n",
      "epoch:  60 loss:0.371653 auc:0.5438\n",
      "epoch:  80 loss:0.370469 auc:0.5477\n",
      "epoch: 100 loss:0.369318 auc:0.5463\n",
      "epoch: 120 loss:0.366837 auc:0.5418\n",
      "epoch: 140 loss:0.360643 auc:0.5587\n",
      "epoch: 160 loss:0.354195 auc:0.5982\n",
      "epoch: 180 loss:0.347654 auc:0.5953\n",
      "epoch: 200 loss:0.340487 auc:0.5956\n",
      "epoch: 220 loss:0.332474 auc:0.6027\n",
      "epoch: 240 loss:0.323220 auc:0.5896\n",
      "epoch: 260 loss:0.314469 auc:0.5920\n",
      "epoch: 280 loss:0.305794 auc:0.5797\n",
      "epoch: 300 loss:0.299321 auc:0.5653\n"
     ]
    },
    {
     "name": "stderr",
     "output_type": "stream",
     "text": [
      " 61%|██████    | 279/460 [45:45<29:03,  9.63s/it]"
     ]
    },
    {
     "name": "stdout",
     "output_type": "stream",
     "text": [
      "epoch: 320 loss:0.293719 auc:0.5616\n",
      "Fit finished.\n",
      "epoch:   0 loss:0.748360 auc:0.5332\n",
      "epoch:  20 loss:0.386553 auc:0.5064\n",
      "epoch:  40 loss:0.374814 auc:0.4815\n",
      "epoch:  60 loss:0.372190 auc:0.4413\n",
      "epoch:  80 loss:0.371043 auc:0.4198\n",
      "epoch: 100 loss:0.369657 auc:0.4085\n",
      "epoch: 120 loss:0.367212 auc:0.3919\n",
      "epoch: 140 loss:0.362378 auc:0.3637\n"
     ]
    },
    {
     "name": "stderr",
     "output_type": "stream",
     "text": [
      " 61%|██████    | 281/460 [45:51<20:10,  6.76s/it]"
     ]
    },
    {
     "name": "stdout",
     "output_type": "stream",
     "text": [
      "epoch: 160 loss:0.356043 auc:0.3244\n",
      "Fit finished.\n",
      "epoch:   0 loss:0.722245 auc:0.5391\n",
      "epoch:  20 loss:0.392397 auc:0.4617\n",
      "epoch:  40 loss:0.376413 auc:0.4490\n",
      "epoch:  60 loss:0.371763 auc:0.4467\n",
      "epoch:  80 loss:0.370437 auc:0.4446\n",
      "epoch: 100 loss:0.369517 auc:0.4445\n",
      "epoch: 120 loss:0.368353 auc:0.4447\n",
      "epoch: 140 loss:0.366323 auc:0.4408\n"
     ]
    },
    {
     "name": "stderr",
     "output_type": "stream",
     "text": [
      " 61%|██████▏   | 282/460 [45:58<20:09,  6.80s/it]"
     ]
    },
    {
     "name": "stdout",
     "output_type": "stream",
     "text": [
      "epoch: 160 loss:0.362469 auc:0.4255\n",
      "Fit finished.\n",
      "epoch:   0 loss:0.834859 auc:0.5997\n",
      "epoch:  20 loss:0.399509 auc:0.5435\n",
      "epoch:  40 loss:0.377147 auc:0.4847\n",
      "epoch:  60 loss:0.373815 auc:0.4353\n",
      "epoch:  80 loss:0.372419 auc:0.3832\n",
      "epoch: 100 loss:0.371698 auc:0.3281\n",
      "epoch: 120 loss:0.371031 auc:0.2812\n",
      "epoch: 140 loss:0.370195 auc:0.2455\n"
     ]
    },
    {
     "name": "stderr",
     "output_type": "stream",
     "text": [
      " 62%|██████▏   | 283/460 [46:06<20:43,  7.02s/it]"
     ]
    },
    {
     "name": "stdout",
     "output_type": "stream",
     "text": [
      "epoch: 160 loss:0.368917 auc:0.2143\n",
      "Fit finished.\n",
      "epoch:   0 loss:0.719682 auc:0.5559\n",
      "epoch:  20 loss:0.390700 auc:0.3268\n",
      "epoch:  40 loss:0.376909 auc:0.2519\n",
      "epoch:  60 loss:0.373598 auc:0.2298\n",
      "epoch:  80 loss:0.372379 auc:0.2178\n",
      "epoch: 100 loss:0.371651 auc:0.2031\n",
      "epoch: 120 loss:0.370883 auc:0.1917\n",
      "epoch: 140 loss:0.369821 auc:0.1835\n"
     ]
    },
    {
     "name": "stderr",
     "output_type": "stream",
     "text": [
      " 62%|██████▏   | 284/460 [46:13<20:18,  6.93s/it]"
     ]
    },
    {
     "name": "stdout",
     "output_type": "stream",
     "text": [
      "epoch: 160 loss:0.367940 auc:0.1827\n",
      "Fit finished.\n",
      "epoch:   0 loss:0.802070 auc:0.5542\n",
      "epoch:  20 loss:0.390273 auc:0.5123\n",
      "epoch:  40 loss:0.373662 auc:0.5220\n",
      "epoch:  60 loss:0.371302 auc:0.5270\n",
      "epoch:  80 loss:0.369972 auc:0.5344\n",
      "epoch: 100 loss:0.368356 auc:0.5417\n",
      "epoch: 120 loss:0.365256 auc:0.5493\n",
      "epoch: 140 loss:0.359884 auc:0.5538\n",
      "epoch: 160 loss:0.353791 auc:0.5592\n",
      "epoch: 180 loss:0.347235 auc:0.5798\n",
      "epoch: 200 loss:0.338761 auc:0.5706\n",
      "epoch: 220 loss:0.328890 auc:0.5689\n"
     ]
    },
    {
     "name": "stderr",
     "output_type": "stream",
     "text": [
      " 62%|██████▏   | 285/460 [46:23<22:55,  7.86s/it]"
     ]
    },
    {
     "name": "stdout",
     "output_type": "stream",
     "text": [
      "epoch: 240 loss:0.320248 auc:0.5253\n",
      "Fit finished.\n",
      "epoch:   0 loss:0.782038 auc:0.5091\n",
      "epoch:  20 loss:0.396403 auc:0.4939\n",
      "epoch:  40 loss:0.375893 auc:0.5584\n",
      "epoch:  60 loss:0.372936 auc:0.5365\n",
      "epoch:  80 loss:0.371839 auc:0.5140\n",
      "epoch: 100 loss:0.371114 auc:0.5091\n",
      "epoch: 120 loss:0.370265 auc:0.5140\n",
      "epoch: 140 loss:0.368900 auc:0.5096\n"
     ]
    },
    {
     "name": "stderr",
     "output_type": "stream",
     "text": [
      " 62%|██████▏   | 286/460 [46:30<21:46,  7.51s/it]"
     ]
    },
    {
     "name": "stdout",
     "output_type": "stream",
     "text": [
      "epoch: 160 loss:0.366290 auc:0.4645\n",
      "Fit finished.\n",
      "epoch:   0 loss:0.929073 auc:0.5794\n",
      "epoch:  20 loss:0.419590 auc:0.5380\n",
      "epoch:  40 loss:0.383552 auc:0.5675\n",
      "epoch:  60 loss:0.374866 auc:0.5743\n",
      "epoch:  80 loss:0.372593 auc:0.5833\n",
      "epoch: 100 loss:0.371694 auc:0.5856\n",
      "epoch: 120 loss:0.371117 auc:0.5890\n",
      "epoch: 140 loss:0.370552 auc:0.6003\n",
      "epoch: 160 loss:0.369854 auc:0.6020\n",
      "epoch: 180 loss:0.368826 auc:0.6117\n",
      "epoch: 200 loss:0.367054 auc:0.6173\n",
      "epoch: 220 loss:0.363951 auc:0.6224\n",
      "epoch: 240 loss:0.360525 auc:0.6327\n",
      "epoch: 260 loss:0.357271 auc:0.6400\n",
      "epoch: 280 loss:0.353859 auc:0.6468\n",
      "epoch: 300 loss:0.354562 auc:0.6480\n",
      "epoch: 320 loss:0.345749 auc:0.6542\n"
     ]
    },
    {
     "name": "stderr",
     "output_type": "stream",
     "text": [
      " 62%|██████▏   | 287/460 [46:43<26:44,  9.27s/it]"
     ]
    },
    {
     "name": "stdout",
     "output_type": "stream",
     "text": [
      "epoch: 340 loss:0.343481 auc:0.5998\n",
      "Fit finished.\n",
      "epoch:   0 loss:0.762936 auc:0.4702\n",
      "epoch:  20 loss:0.392612 auc:0.4610\n",
      "epoch:  40 loss:0.375571 auc:0.4556\n",
      "epoch:  60 loss:0.371537 auc:0.4645\n",
      "epoch:  80 loss:0.370247 auc:0.4711\n",
      "epoch: 100 loss:0.369172 auc:0.4739\n",
      "epoch: 120 loss:0.367663 auc:0.4713\n",
      "epoch: 140 loss:0.364751 auc:0.4586\n"
     ]
    },
    {
     "name": "stderr",
     "output_type": "stream",
     "text": [
      " 63%|██████▎   | 288/460 [46:50<24:29,  8.54s/it]"
     ]
    },
    {
     "name": "stdout",
     "output_type": "stream",
     "text": [
      "epoch: 160 loss:0.359799 auc:0.4440\n",
      "Fit finished.\n",
      "epoch:   0 loss:0.844926 auc:0.5283\n",
      "epoch:  20 loss:0.385444 auc:0.5186\n",
      "epoch:  40 loss:0.375609 auc:0.5693\n",
      "epoch:  60 loss:0.372418 auc:0.5889\n",
      "epoch:  80 loss:0.371145 auc:0.6064\n",
      "epoch: 100 loss:0.369965 auc:0.6260\n",
      "epoch: 120 loss:0.368094 auc:0.6221\n",
      "epoch: 140 loss:0.364403 auc:0.6357\n",
      "epoch: 160 loss:0.359064 auc:0.6406\n",
      "epoch: 180 loss:0.352851 auc:0.6602\n",
      "epoch: 200 loss:0.343703 auc:0.6855\n",
      "epoch: 220 loss:0.337138 auc:0.7275\n",
      "epoch: 240 loss:0.324767 auc:0.7158\n",
      "epoch: 260 loss:0.317469 auc:0.7158\n",
      "epoch: 280 loss:0.308447 auc:0.7256\n",
      "epoch: 300 loss:0.300184 auc:0.7256\n",
      "epoch: 320 loss:0.294005 auc:0.7139\n",
      "epoch: 340 loss:0.292124 auc:0.7334\n",
      "epoch: 360 loss:0.285823 auc:0.7432\n",
      "epoch: 380 loss:0.291075 auc:0.7861\n"
     ]
    },
    {
     "name": "stderr",
     "output_type": "stream",
     "text": [
      " 63%|██████▎   | 289/460 [47:06<30:29, 10.70s/it]"
     ]
    },
    {
     "name": "stdout",
     "output_type": "stream",
     "text": [
      "epoch: 400 loss:0.289384 auc:0.6777\n",
      "Fit finished.\n",
      "epoch:   0 loss:0.766761 auc:0.6939\n",
      "epoch:  20 loss:0.392135 auc:0.4697\n",
      "epoch:  40 loss:0.374981 auc:0.5758\n",
      "epoch:  60 loss:0.371669 auc:0.5652\n",
      "epoch:  80 loss:0.370360 auc:0.5652\n",
      "epoch: 100 loss:0.369012 auc:0.5364\n",
      "epoch: 120 loss:0.366592 auc:0.5303\n",
      "epoch: 140 loss:0.361978 auc:0.5909\n"
     ]
    },
    {
     "name": "stderr",
     "output_type": "stream",
     "text": [
      " 63%|██████▎   | 290/460 [47:13<26:54,  9.49s/it]"
     ]
    },
    {
     "name": "stdout",
     "output_type": "stream",
     "text": [
      "epoch: 160 loss:0.356641 auc:0.6394\n",
      "Fit finished.\n",
      "epoch:   0 loss:0.755775 auc:0.4662\n",
      "epoch:  20 loss:0.390948 auc:0.4818\n",
      "epoch:  40 loss:0.377178 auc:0.4757\n",
      "epoch:  60 loss:0.372604 auc:0.4828\n",
      "epoch:  80 loss:0.371195 auc:0.4992\n",
      "epoch: 100 loss:0.370510 auc:0.5121\n",
      "epoch: 120 loss:0.369928 auc:0.5194\n",
      "epoch: 140 loss:0.369256 auc:0.5252\n",
      "epoch: 160 loss:0.368293 auc:0.5263\n",
      "epoch: 180 loss:0.366562 auc:0.5237\n",
      "epoch: 200 loss:0.363157 auc:0.5252\n",
      "epoch: 220 loss:0.358599 auc:0.5318\n",
      "epoch: 240 loss:0.353603 auc:0.5269\n"
     ]
    },
    {
     "name": "stderr",
     "output_type": "stream",
     "text": [
      " 63%|██████▎   | 291/460 [47:23<27:25,  9.74s/it]"
     ]
    },
    {
     "name": "stdout",
     "output_type": "stream",
     "text": [
      "epoch: 260 loss:0.346251 auc:0.5097\n",
      "Fit finished.\n",
      "epoch:   0 loss:0.737986 auc:0.4089\n",
      "epoch:  20 loss:0.385282 auc:0.4357\n",
      "epoch:  40 loss:0.375771 auc:0.2975\n",
      "epoch:  60 loss:0.372692 auc:0.2274\n",
      "epoch:  80 loss:0.371422 auc:0.1920\n",
      "epoch: 100 loss:0.370215 auc:0.1704\n",
      "epoch: 120 loss:0.368258 auc:0.1564\n",
      "epoch: 140 loss:0.364312 auc:0.1417\n"
     ]
    },
    {
     "name": "stderr",
     "output_type": "stream",
     "text": [
      " 63%|██████▎   | 292/460 [47:30<24:53,  8.89s/it]"
     ]
    },
    {
     "name": "stdout",
     "output_type": "stream",
     "text": [
      "epoch: 160 loss:0.358608 auc:0.1016\n",
      "Fit finished.\n",
      "epoch:   0 loss:0.747242 auc:0.7231\n",
      "epoch:  20 loss:0.388187 auc:0.4315\n",
      "epoch:  40 loss:0.375135 auc:0.4244\n",
      "epoch:  60 loss:0.372702 auc:0.4068\n",
      "epoch:  80 loss:0.371432 auc:0.3783\n",
      "epoch: 100 loss:0.370287 auc:0.3699\n",
      "epoch: 120 loss:0.368466 auc:0.3557\n",
      "epoch: 140 loss:0.364655 auc:0.3326\n"
     ]
    },
    {
     "name": "stderr",
     "output_type": "stream",
     "text": [
      " 64%|██████▎   | 293/460 [47:36<22:42,  8.16s/it]"
     ]
    },
    {
     "name": "stdout",
     "output_type": "stream",
     "text": [
      "epoch: 160 loss:0.358653 auc:0.3025\n",
      "Fit finished.\n",
      "epoch:   0 loss:0.715765 auc:0.5280\n",
      "epoch:  20 loss:0.393173 auc:0.6694\n",
      "epoch:  40 loss:0.377501 auc:0.6566\n",
      "epoch:  60 loss:0.372843 auc:0.6529\n",
      "epoch:  80 loss:0.371339 auc:0.6529\n",
      "epoch: 100 loss:0.370167 auc:0.6327\n",
      "epoch: 120 loss:0.368525 auc:0.6263\n",
      "epoch: 140 loss:0.365562 auc:0.6180\n",
      "epoch: 160 loss:0.360761 auc:0.6208\n"
     ]
    },
    {
     "name": "stderr",
     "output_type": "stream",
     "text": [
      " 64%|██████▍   | 294/460 [47:44<22:03,  7.97s/it]"
     ]
    },
    {
     "name": "stdout",
     "output_type": "stream",
     "text": [
      "epoch: 180 loss:0.355769 auc:0.6253\n",
      "Fit finished.\n",
      "epoch:   0 loss:0.799939 auc:0.4812\n",
      "epoch:  20 loss:0.393112 auc:0.5413\n",
      "epoch:  40 loss:0.376911 auc:0.5938\n",
      "epoch:  60 loss:0.372546 auc:0.6044\n",
      "epoch:  80 loss:0.371153 auc:0.6069\n",
      "epoch: 100 loss:0.369952 auc:0.5988\n",
      "epoch: 120 loss:0.368205 auc:0.5956\n",
      "epoch: 140 loss:0.364656 auc:0.6000\n",
      "epoch: 160 loss:0.359225 auc:0.6206\n",
      "epoch: 180 loss:0.353987 auc:0.6419\n",
      "epoch: 200 loss:0.349057 auc:0.6650\n",
      "epoch: 220 loss:0.340046 auc:0.7044\n",
      "epoch: 240 loss:0.332360 auc:0.7544\n",
      "epoch: 260 loss:0.324507 auc:0.7631\n",
      "epoch: 280 loss:0.316541 auc:0.7812\n",
      "epoch: 300 loss:0.309311 auc:0.7806\n",
      "epoch: 320 loss:0.301829 auc:0.7656\n",
      "epoch: 340 loss:0.296235 auc:0.7806\n",
      "epoch: 360 loss:0.292107 auc:0.7569\n",
      "epoch: 380 loss:0.286071 auc:0.7594\n"
     ]
    },
    {
     "name": "stderr",
     "output_type": "stream",
     "text": [
      " 64%|██████▍   | 295/460 [47:59<28:20, 10.31s/it]"
     ]
    },
    {
     "name": "stdout",
     "output_type": "stream",
     "text": [
      "epoch: 400 loss:0.282802 auc:0.7419\n",
      "Fit finished.\n",
      "epoch:   0 loss:0.878651 auc:0.5866\n",
      "epoch:  20 loss:0.401675 auc:0.6113\n",
      "epoch:  40 loss:0.377533 auc:0.6014\n",
      "epoch:  60 loss:0.373585 auc:0.5848\n",
      "epoch:  80 loss:0.372064 auc:0.5666\n",
      "epoch: 100 loss:0.371307 auc:0.5531\n",
      "epoch: 120 loss:0.370602 auc:0.5429\n",
      "epoch: 140 loss:0.369711 auc:0.5432\n"
     ]
    },
    {
     "name": "stderr",
     "output_type": "stream",
     "text": [
      " 64%|██████▍   | 296/460 [48:07<25:31,  9.34s/it]"
     ]
    },
    {
     "name": "stdout",
     "output_type": "stream",
     "text": [
      "epoch: 160 loss:0.368364 auc:0.5463\n",
      "Fit finished.\n",
      "epoch:   0 loss:0.785039 auc:0.5051\n",
      "epoch:  20 loss:0.401031 auc:0.5212\n",
      "epoch:  40 loss:0.376234 auc:0.5327\n",
      "epoch:  60 loss:0.372496 auc:0.5348\n",
      "epoch:  80 loss:0.371094 auc:0.5416\n",
      "epoch: 100 loss:0.370137 auc:0.5438\n",
      "epoch: 120 loss:0.369000 auc:0.5413\n",
      "epoch: 140 loss:0.367098 auc:0.5376\n",
      "epoch: 160 loss:0.362888 auc:0.5333\n",
      "epoch: 180 loss:0.356764 auc:0.5381\n",
      "epoch: 200 loss:0.351331 auc:0.5524\n",
      "epoch: 220 loss:0.345757 auc:0.5492\n"
     ]
    },
    {
     "name": "stderr",
     "output_type": "stream",
     "text": [
      " 65%|██████▍   | 297/460 [48:16<25:14,  9.29s/it]"
     ]
    },
    {
     "name": "stdout",
     "output_type": "stream",
     "text": [
      "epoch: 240 loss:0.337043 auc:0.5387\n",
      "Fit finished.\n",
      "epoch:   0 loss:1.032964 auc:0.4659\n",
      "epoch:  20 loss:0.410071 auc:0.5040\n",
      "epoch:  40 loss:0.378373 auc:0.5068\n",
      "epoch:  60 loss:0.372842 auc:0.5099\n",
      "epoch:  80 loss:0.371136 auc:0.5123\n",
      "epoch: 100 loss:0.370345 auc:0.5123\n",
      "epoch: 120 loss:0.369535 auc:0.5143\n",
      "epoch: 140 loss:0.368317 auc:0.5138\n",
      "epoch: 160 loss:0.365931 auc:0.5101\n"
     ]
    },
    {
     "name": "stderr",
     "output_type": "stream",
     "text": [
      " 65%|██████▌   | 299/460 [48:24<18:34,  6.93s/it]"
     ]
    },
    {
     "name": "stdout",
     "output_type": "stream",
     "text": [
      "epoch: 180 loss:0.361566 auc:0.4995\n",
      "Fit finished.\n",
      "epoch:   0 loss:0.776832 auc:0.5335\n",
      "epoch:  20 loss:0.401225 auc:0.4754\n",
      "epoch:  40 loss:0.377279 auc:0.4498\n",
      "epoch:  60 loss:0.372451 auc:0.4347\n",
      "epoch:  80 loss:0.370921 auc:0.4224\n",
      "epoch: 100 loss:0.369318 auc:0.4123\n",
      "epoch: 120 loss:0.366022 auc:0.4013\n",
      "epoch: 140 loss:0.359570 auc:0.3715\n"
     ]
    },
    {
     "name": "stderr",
     "output_type": "stream",
     "text": [
      " 65%|██████▌   | 300/460 [48:31<18:27,  6.92s/it]"
     ]
    },
    {
     "name": "stdout",
     "output_type": "stream",
     "text": [
      "epoch: 160 loss:0.353505 auc:0.3608\n",
      "Fit finished.\n",
      "epoch:   0 loss:0.698800 auc:0.4326\n",
      "epoch:  20 loss:0.399970 auc:0.4350\n",
      "epoch:  40 loss:0.376205 auc:0.4588\n",
      "epoch:  60 loss:0.372613 auc:0.4615\n",
      "epoch:  80 loss:0.371466 auc:0.4620\n",
      "epoch: 100 loss:0.370642 auc:0.4676\n",
      "epoch: 120 loss:0.369634 auc:0.4695\n",
      "epoch: 140 loss:0.367979 auc:0.4683\n",
      "epoch: 160 loss:0.364849 auc:0.4613\n",
      "epoch: 180 loss:0.360056 auc:0.4499\n"
     ]
    },
    {
     "name": "stderr",
     "output_type": "stream",
     "text": [
      " 65%|██████▌   | 301/460 [48:39<19:01,  7.18s/it]"
     ]
    },
    {
     "name": "stdout",
     "output_type": "stream",
     "text": [
      "epoch: 200 loss:0.355217 auc:0.4400\n",
      "Fit finished.\n",
      "epoch:   0 loss:0.734298 auc:0.5528\n",
      "epoch:  20 loss:0.388957 auc:0.2707\n",
      "epoch:  40 loss:0.375106 auc:0.2691\n",
      "epoch:  60 loss:0.372339 auc:0.2973\n",
      "epoch:  80 loss:0.371019 auc:0.3090\n",
      "epoch: 100 loss:0.369702 auc:0.3176\n",
      "epoch: 120 loss:0.367341 auc:0.3084\n",
      "epoch: 140 loss:0.362664 auc:0.2696\n"
     ]
    },
    {
     "name": "stderr",
     "output_type": "stream",
     "text": [
      " 66%|██████▌   | 302/460 [48:45<18:30,  7.03s/it]"
     ]
    },
    {
     "name": "stdout",
     "output_type": "stream",
     "text": [
      "epoch: 160 loss:0.357272 auc:0.2411\n",
      "Fit finished.\n",
      "epoch:   0 loss:0.833141 auc:0.4942\n",
      "epoch:  20 loss:0.405351 auc:0.5894\n",
      "epoch:  40 loss:0.378889 auc:0.5869\n",
      "epoch:  60 loss:0.374075 auc:0.5944\n",
      "epoch:  80 loss:0.372327 auc:0.6106\n",
      "epoch: 100 loss:0.371487 auc:0.6239\n",
      "epoch: 120 loss:0.370811 auc:0.6214\n",
      "epoch: 140 loss:0.370027 auc:0.6189\n",
      "epoch: 160 loss:0.368829 auc:0.6208\n",
      "epoch: 180 loss:0.366709 auc:0.6247\n",
      "epoch: 200 loss:0.363097 auc:0.6217\n",
      "epoch: 220 loss:0.358741 auc:0.6331\n",
      "epoch: 240 loss:0.354567 auc:0.6367\n",
      "epoch: 260 loss:0.350120 auc:0.6361\n",
      "epoch: 280 loss:0.345336 auc:0.6303\n",
      "epoch: 300 loss:0.338675 auc:0.6303\n"
     ]
    },
    {
     "name": "stderr",
     "output_type": "stream",
     "text": [
      " 66%|██████▌   | 303/460 [48:57<21:33,  8.24s/it]"
     ]
    },
    {
     "name": "stdout",
     "output_type": "stream",
     "text": [
      "epoch: 320 loss:0.335528 auc:0.6206\n",
      "Fit finished.\n",
      "epoch:   0 loss:0.813415 auc:0.4878\n",
      "epoch:  20 loss:0.390237 auc:0.5281\n",
      "epoch:  40 loss:0.374088 auc:0.5255\n",
      "epoch:  60 loss:0.371381 auc:0.5237\n",
      "epoch:  80 loss:0.370179 auc:0.5220\n",
      "epoch: 100 loss:0.369070 auc:0.5180\n",
      "epoch: 120 loss:0.367316 auc:0.5111\n",
      "epoch: 140 loss:0.363660 auc:0.5059\n",
      "epoch: 160 loss:0.357726 auc:0.5235\n",
      "epoch: 180 loss:0.351885 auc:0.5423\n",
      "epoch: 200 loss:0.345565 auc:0.5491\n",
      "epoch: 220 loss:0.338739 auc:0.5485\n",
      "epoch: 240 loss:0.328931 auc:0.5402\n",
      "epoch: 260 loss:0.319937 auc:0.5195\n",
      "epoch: 280 loss:0.312323 auc:0.5186\n"
     ]
    },
    {
     "name": "stderr",
     "output_type": "stream",
     "text": [
      " 66%|██████▌   | 304/460 [49:07<23:10,  8.91s/it]"
     ]
    },
    {
     "name": "stdout",
     "output_type": "stream",
     "text": [
      "epoch: 300 loss:0.316193 auc:0.5009\n",
      "Fit finished.\n",
      "epoch:   0 loss:0.838151 auc:0.4896\n",
      "epoch:  20 loss:0.397274 auc:0.4712\n",
      "epoch:  40 loss:0.377292 auc:0.4824\n",
      "epoch:  60 loss:0.372418 auc:0.4886\n",
      "epoch:  80 loss:0.370824 auc:0.4954\n",
      "epoch: 100 loss:0.369948 auc:0.5036\n",
      "epoch: 120 loss:0.369018 auc:0.5130\n",
      "epoch: 140 loss:0.367641 auc:0.5253\n",
      "epoch: 160 loss:0.365153 auc:0.5398\n",
      "epoch: 180 loss:0.361080 auc:0.5466\n",
      "epoch: 200 loss:0.356825 auc:0.5430\n",
      "epoch: 220 loss:0.352688 auc:0.5437\n",
      "epoch: 240 loss:0.347790 auc:0.5492\n",
      "epoch: 260 loss:0.344020 auc:0.5558\n",
      "epoch: 280 loss:0.334556 auc:0.5610\n",
      "epoch: 300 loss:0.324884 auc:0.5689\n",
      "epoch: 320 loss:0.317913 auc:0.5599\n",
      "epoch: 340 loss:0.308754 auc:0.5540\n",
      "epoch: 360 loss:0.302705 auc:0.5545\n",
      "epoch: 380 loss:0.295652 auc:0.5515\n"
     ]
    },
    {
     "name": "stderr",
     "output_type": "stream",
     "text": [
      " 66%|██████▋   | 305/460 [49:23<28:11, 10.92s/it]"
     ]
    },
    {
     "name": "stdout",
     "output_type": "stream",
     "text": [
      "epoch: 400 loss:0.291166 auc:0.5479\n",
      "Fit finished.\n",
      "epoch:   0 loss:0.704825 auc:0.4711\n",
      "epoch:  20 loss:0.389872 auc:0.5396\n",
      "epoch:  40 loss:0.375605 auc:0.5346\n",
      "epoch:  60 loss:0.372126 auc:0.5466\n",
      "epoch:  80 loss:0.370823 auc:0.5468\n",
      "epoch: 100 loss:0.369552 auc:0.5538\n",
      "epoch: 120 loss:0.367512 auc:0.5653\n",
      "epoch: 140 loss:0.363467 auc:0.5887\n",
      "epoch: 160 loss:0.357444 auc:0.5955\n",
      "epoch: 180 loss:0.351000 auc:0.6032\n",
      "epoch: 200 loss:0.343404 auc:0.6233\n",
      "epoch: 220 loss:0.334851 auc:0.5864\n"
     ]
    },
    {
     "name": "stderr",
     "output_type": "stream",
     "text": [
      " 67%|██████▋   | 306/460 [49:32<26:29, 10.32s/it]"
     ]
    },
    {
     "name": "stdout",
     "output_type": "stream",
     "text": [
      "epoch: 240 loss:0.326357 auc:0.5150\n",
      "Fit finished.\n",
      "epoch:   0 loss:0.702189 auc:0.4835\n",
      "epoch:  20 loss:0.393328 auc:0.5242\n",
      "epoch:  40 loss:0.375255 auc:0.5287\n",
      "epoch:  60 loss:0.371586 auc:0.5363\n",
      "epoch:  80 loss:0.370069 auc:0.5486\n",
      "epoch: 100 loss:0.368941 auc:0.5591\n",
      "epoch: 120 loss:0.367410 auc:0.5692\n",
      "epoch: 140 loss:0.364625 auc:0.5756\n",
      "epoch: 160 loss:0.359634 auc:0.5706\n",
      "epoch: 180 loss:0.353511 auc:0.5530\n",
      "epoch: 200 loss:0.347356 auc:0.5424\n",
      "epoch: 220 loss:0.338013 auc:0.5436\n"
     ]
    },
    {
     "name": "stderr",
     "output_type": "stream",
     "text": [
      " 67%|██████▋   | 307/460 [49:42<25:38, 10.06s/it]"
     ]
    },
    {
     "name": "stdout",
     "output_type": "stream",
     "text": [
      "epoch: 240 loss:0.328539 auc:0.5463\n",
      "Fit finished.\n",
      "epoch:   0 loss:0.800688 auc:0.5037\n",
      "epoch:  20 loss:0.391246 auc:0.5019\n",
      "epoch:  40 loss:0.376543 auc:0.5004\n",
      "epoch:  60 loss:0.372439 auc:0.5051\n",
      "epoch:  80 loss:0.371036 auc:0.5054\n",
      "epoch: 100 loss:0.370220 auc:0.5009\n",
      "epoch: 120 loss:0.369414 auc:0.4935\n",
      "epoch: 140 loss:0.368341 auc:0.4861\n"
     ]
    },
    {
     "name": "stderr",
     "output_type": "stream",
     "text": [
      " 67%|██████▋   | 308/460 [49:48<22:28,  8.87s/it]"
     ]
    },
    {
     "name": "stdout",
     "output_type": "stream",
     "text": [
      "epoch: 160 loss:0.366606 auc:0.4716\n",
      "Fit finished.\n",
      "epoch:   0 loss:0.786795 auc:0.4876\n",
      "epoch:  20 loss:0.397341 auc:0.4675\n",
      "epoch:  40 loss:0.376303 auc:0.4538\n",
      "epoch:  60 loss:0.372213 auc:0.4472\n",
      "epoch:  80 loss:0.370883 auc:0.4431\n",
      "epoch: 100 loss:0.369909 auc:0.4404\n",
      "epoch: 120 loss:0.368725 auc:0.4393\n",
      "epoch: 140 loss:0.366670 auc:0.4372\n"
     ]
    },
    {
     "name": "stderr",
     "output_type": "stream",
     "text": [
      " 67%|██████▋   | 309/460 [49:54<20:39,  8.21s/it]"
     ]
    },
    {
     "name": "stdout",
     "output_type": "stream",
     "text": [
      "epoch: 160 loss:0.362619 auc:0.4278\n",
      "Fit finished.\n",
      "epoch:   0 loss:0.859651 auc:0.4681\n",
      "epoch:  20 loss:0.403701 auc:0.4756\n",
      "epoch:  40 loss:0.377022 auc:0.5387\n",
      "epoch:  60 loss:0.372754 auc:0.5554\n",
      "epoch:  80 loss:0.371403 auc:0.5741\n",
      "epoch: 100 loss:0.370485 auc:0.5951\n",
      "epoch: 120 loss:0.369463 auc:0.6128\n",
      "epoch: 140 loss:0.367944 auc:0.6274\n",
      "epoch: 160 loss:0.365285 auc:0.6339\n",
      "epoch: 180 loss:0.361035 auc:0.6386\n",
      "epoch: 200 loss:0.356466 auc:0.6410\n",
      "epoch: 220 loss:0.352169 auc:0.6404\n",
      "epoch: 240 loss:0.345952 auc:0.6460\n",
      "epoch: 260 loss:0.339566 auc:0.6395\n",
      "epoch: 280 loss:0.331686 auc:0.6271\n"
     ]
    },
    {
     "name": "stderr",
     "output_type": "stream",
     "text": [
      " 67%|██████▋   | 310/460 [50:06<22:46,  9.11s/it]"
     ]
    },
    {
     "name": "stdout",
     "output_type": "stream",
     "text": [
      "epoch: 300 loss:0.324302 auc:0.6181\n",
      "Fit finished.\n",
      "epoch:   0 loss:0.847449 auc:0.5130\n",
      "epoch:  20 loss:0.397759 auc:0.4697\n",
      "epoch:  40 loss:0.377524 auc:0.4473\n",
      "epoch:  60 loss:0.372699 auc:0.4433\n",
      "epoch:  80 loss:0.371154 auc:0.4330\n",
      "epoch: 100 loss:0.370269 auc:0.4269\n",
      "epoch: 120 loss:0.369388 auc:0.4216\n",
      "epoch: 140 loss:0.368152 auc:0.4148\n"
     ]
    },
    {
     "name": "stderr",
     "output_type": "stream",
     "text": [
      " 68%|██████▊   | 312/460 [50:13<16:10,  6.56s/it]"
     ]
    },
    {
     "name": "stdout",
     "output_type": "stream",
     "text": [
      "epoch: 160 loss:0.365947 auc:0.4029\n",
      "Fit finished.\n",
      "epoch:   0 loss:0.956110 auc:0.4108\n",
      "epoch:  20 loss:0.420984 auc:0.3990\n",
      "epoch:  40 loss:0.385510 auc:0.4138\n",
      "epoch:  60 loss:0.375923 auc:0.4252\n",
      "epoch:  80 loss:0.373420 auc:0.4312\n",
      "epoch: 100 loss:0.372469 auc:0.4336\n",
      "epoch: 120 loss:0.371874 auc:0.4403\n",
      "epoch: 140 loss:0.371310 auc:0.4564\n",
      "epoch: 160 loss:0.370654 auc:0.4898\n",
      "epoch: 180 loss:0.369878 auc:0.5247\n",
      "epoch: 200 loss:0.368969 auc:0.5533\n",
      "epoch: 220 loss:0.367795 auc:0.5677\n",
      "epoch: 240 loss:0.365872 auc:0.5805\n",
      "epoch: 260 loss:0.362376 auc:0.5990\n",
      "epoch: 280 loss:0.357583 auc:0.5828\n",
      "epoch: 300 loss:0.352886 auc:0.4991\n"
     ]
    },
    {
     "name": "stderr",
     "output_type": "stream",
     "text": [
      " 68%|██████▊   | 313/460 [50:26<20:09,  8.23s/it]"
     ]
    },
    {
     "name": "stdout",
     "output_type": "stream",
     "text": [
      "epoch: 320 loss:0.347568 auc:0.3971\n",
      "Fit finished.\n",
      "epoch:   0 loss:0.797284 auc:0.5968\n",
      "epoch:  20 loss:0.403340 auc:0.4182\n",
      "epoch:  40 loss:0.379113 auc:0.3904\n",
      "epoch:  60 loss:0.373985 auc:0.3892\n",
      "epoch:  80 loss:0.372433 auc:0.3908\n",
      "epoch: 100 loss:0.371681 auc:0.3910\n",
      "epoch: 120 loss:0.371055 auc:0.3907\n",
      "epoch: 140 loss:0.370287 auc:0.3882\n"
     ]
    },
    {
     "name": "stderr",
     "output_type": "stream",
     "text": [
      " 68%|██████▊   | 314/460 [50:33<19:18,  7.93s/it]"
     ]
    },
    {
     "name": "stdout",
     "output_type": "stream",
     "text": [
      "epoch: 160 loss:0.369036 auc:0.3755\n",
      "Fit finished.\n",
      "epoch:   0 loss:0.792449 auc:0.5364\n",
      "epoch:  20 loss:0.397144 auc:0.5146\n",
      "epoch:  40 loss:0.377092 auc:0.5374\n",
      "epoch:  60 loss:0.373232 auc:0.5473\n",
      "epoch:  80 loss:0.371838 auc:0.5725\n",
      "epoch: 100 loss:0.370883 auc:0.5858\n",
      "epoch: 120 loss:0.369817 auc:0.5919\n",
      "epoch: 140 loss:0.368159 auc:0.5867\n",
      "epoch: 160 loss:0.365098 auc:0.5691\n",
      "epoch: 180 loss:0.360388 auc:0.5374\n"
     ]
    },
    {
     "name": "stderr",
     "output_type": "stream",
     "text": [
      " 68%|██████▊   | 315/460 [50:41<19:17,  7.98s/it]"
     ]
    },
    {
     "name": "stdout",
     "output_type": "stream",
     "text": [
      "epoch: 200 loss:0.355362 auc:0.5155\n",
      "Fit finished.\n",
      "epoch:   0 loss:0.745763 auc:0.4200\n",
      "epoch:  20 loss:0.390234 auc:0.5209\n",
      "epoch:  40 loss:0.375902 auc:0.5743\n",
      "epoch:  60 loss:0.371882 auc:0.5803\n",
      "epoch:  80 loss:0.370567 auc:0.5972\n",
      "epoch: 100 loss:0.369501 auc:0.6112\n",
      "epoch: 120 loss:0.367920 auc:0.6272\n",
      "epoch: 140 loss:0.364910 auc:0.6472\n",
      "epoch: 160 loss:0.359641 auc:0.6786\n",
      "epoch: 180 loss:0.355106 auc:0.6828\n",
      "epoch: 200 loss:0.346659 auc:0.7020\n",
      "epoch: 220 loss:0.337652 auc:0.7109\n",
      "epoch: 240 loss:0.332309 auc:0.7099\n",
      "epoch: 260 loss:0.323910 auc:0.6930\n",
      "epoch: 280 loss:0.316285 auc:0.6759\n",
      "epoch: 300 loss:0.308905 auc:0.6643\n"
     ]
    },
    {
     "name": "stderr",
     "output_type": "stream",
     "text": [
      " 69%|██████▊   | 316/460 [50:55<22:47,  9.50s/it]"
     ]
    },
    {
     "name": "stdout",
     "output_type": "stream",
     "text": [
      "epoch: 320 loss:0.300660 auc:0.6391\n",
      "Fit finished.\n",
      "epoch:   0 loss:0.797864 auc:0.5244\n",
      "epoch:  20 loss:0.397979 auc:0.5467\n",
      "epoch:  40 loss:0.377097 auc:0.5511\n",
      "epoch:  60 loss:0.372277 auc:0.5956\n",
      "epoch:  80 loss:0.370755 auc:0.6222\n",
      "epoch: 100 loss:0.369509 auc:0.6267\n",
      "epoch: 120 loss:0.367780 auc:0.6400\n",
      "epoch: 140 loss:0.364669 auc:0.6756\n",
      "epoch: 160 loss:0.359712 auc:0.7378\n",
      "epoch: 180 loss:0.354184 auc:0.7956\n",
      "epoch: 200 loss:0.348458 auc:0.7778\n",
      "epoch: 220 loss:0.340198 auc:0.7867\n",
      "epoch: 240 loss:0.329493 auc:0.7289\n",
      "epoch: 260 loss:0.320917 auc:0.7689\n",
      "epoch: 280 loss:0.313032 auc:0.7867\n",
      "epoch: 300 loss:0.304365 auc:0.7822\n",
      "epoch: 320 loss:0.298584 auc:0.8089\n",
      "epoch: 340 loss:0.295892 auc:0.8489\n",
      "epoch: 360 loss:0.300431 auc:0.8400\n"
     ]
    },
    {
     "name": "stderr",
     "output_type": "stream",
     "text": [
      " 69%|██████▉   | 317/460 [51:09<25:52, 10.86s/it]"
     ]
    },
    {
     "name": "stdout",
     "output_type": "stream",
     "text": [
      "epoch: 380 loss:0.287736 auc:0.7600\n",
      "Fit finished.\n",
      "epoch:   0 loss:0.663017 auc:0.4917\n",
      "epoch:  20 loss:0.388367 auc:0.4272\n",
      "epoch:  40 loss:0.373539 auc:0.4289\n",
      "epoch:  60 loss:0.370515 auc:0.4355\n",
      "epoch:  80 loss:0.368988 auc:0.4404\n",
      "epoch: 100 loss:0.367029 auc:0.4400\n",
      "epoch: 120 loss:0.363297 auc:0.4362\n",
      "epoch: 140 loss:0.357505 auc:0.4332\n"
     ]
    },
    {
     "name": "stderr",
     "output_type": "stream",
     "text": [
      " 69%|██████▉   | 318/460 [51:16<23:05,  9.75s/it]"
     ]
    },
    {
     "name": "stdout",
     "output_type": "stream",
     "text": [
      "epoch: 160 loss:0.350499 auc:0.4017\n",
      "Fit finished.\n",
      "epoch:   0 loss:0.872360 auc:0.4837\n",
      "epoch:  20 loss:0.404517 auc:0.5062\n",
      "epoch:  40 loss:0.378352 auc:0.5108\n",
      "epoch:  60 loss:0.373345 auc:0.5174\n",
      "epoch:  80 loss:0.371436 auc:0.5229\n",
      "epoch: 100 loss:0.370466 auc:0.5285\n",
      "epoch: 120 loss:0.369648 auc:0.5377\n",
      "epoch: 140 loss:0.368672 auc:0.5438\n",
      "epoch: 160 loss:0.367230 auc:0.5469\n",
      "epoch: 180 loss:0.364740 auc:0.5465\n",
      "epoch: 200 loss:0.360925 auc:0.5469\n",
      "epoch: 220 loss:0.356773 auc:0.5530\n",
      "epoch: 240 loss:0.352429 auc:0.5594\n",
      "epoch: 260 loss:0.348815 auc:0.5581\n",
      "epoch: 280 loss:0.338977 auc:0.5579\n",
      "epoch: 300 loss:0.331200 auc:0.5576\n",
      "epoch: 320 loss:0.325013 auc:0.5491\n"
     ]
    },
    {
     "name": "stderr",
     "output_type": "stream",
     "text": [
      " 69%|██████▉   | 319/460 [51:29<25:28, 10.84s/it]"
     ]
    },
    {
     "name": "stdout",
     "output_type": "stream",
     "text": [
      "epoch: 340 loss:0.316597 auc:0.5455\n",
      "Fit finished.\n",
      "epoch:   0 loss:0.797957 auc:0.4966\n",
      "epoch:  20 loss:0.404489 auc:0.4060\n",
      "epoch:  40 loss:0.376506 auc:0.3992\n",
      "epoch:  60 loss:0.372792 auc:0.4082\n",
      "epoch:  80 loss:0.371462 auc:0.4062\n",
      "epoch: 100 loss:0.370689 auc:0.4080\n",
      "epoch: 120 loss:0.369967 auc:0.4084\n",
      "epoch: 140 loss:0.369054 auc:0.4182\n"
     ]
    },
    {
     "name": "stderr",
     "output_type": "stream",
     "text": [
      " 70%|██████▉   | 320/460 [51:36<22:11,  9.51s/it]"
     ]
    },
    {
     "name": "stdout",
     "output_type": "stream",
     "text": [
      "epoch: 160 loss:0.367631 auc:0.4370\n",
      "Fit finished.\n",
      "epoch:   0 loss:0.781513 auc:0.5414\n",
      "epoch:  20 loss:0.405779 auc:0.5102\n",
      "epoch:  40 loss:0.379284 auc:0.5221\n",
      "epoch:  60 loss:0.373503 auc:0.5387\n",
      "epoch:  80 loss:0.371990 auc:0.5466\n",
      "epoch: 100 loss:0.371299 auc:0.5589\n",
      "epoch: 120 loss:0.370835 auc:0.5650\n",
      "epoch: 140 loss:0.370385 auc:0.5681\n",
      "epoch: 160 loss:0.369849 auc:0.5697\n",
      "epoch: 180 loss:0.369086 auc:0.5689\n",
      "epoch: 200 loss:0.367712 auc:0.5557\n",
      "epoch: 220 loss:0.364775 auc:0.5398\n"
     ]
    },
    {
     "name": "stderr",
     "output_type": "stream",
     "text": [
      " 70%|██████▉   | 321/460 [51:45<21:58,  9.48s/it]"
     ]
    },
    {
     "name": "stdout",
     "output_type": "stream",
     "text": [
      "epoch: 240 loss:0.359697 auc:0.5163\n",
      "Fit finished.\n",
      "epoch:   0 loss:0.831966 auc:0.4489\n",
      "epoch:  20 loss:0.401078 auc:0.4151\n",
      "epoch:  40 loss:0.379397 auc:0.3711\n",
      "epoch:  60 loss:0.374000 auc:0.3648\n",
      "epoch:  80 loss:0.371913 auc:0.3561\n",
      "epoch: 100 loss:0.371036 auc:0.3496\n",
      "epoch: 120 loss:0.370389 auc:0.3464\n",
      "epoch: 140 loss:0.369683 auc:0.3464\n"
     ]
    },
    {
     "name": "stderr",
     "output_type": "stream",
     "text": [
      " 70%|███████   | 322/460 [51:52<19:44,  8.58s/it]"
     ]
    },
    {
     "name": "stdout",
     "output_type": "stream",
     "text": [
      "epoch: 160 loss:0.368664 auc:0.3505\n",
      "Fit finished.\n",
      "epoch:   0 loss:0.863222 auc:0.4952\n",
      "epoch:  20 loss:0.399016 auc:0.4942\n",
      "epoch:  40 loss:0.379535 auc:0.4963\n",
      "epoch:  60 loss:0.374146 auc:0.4993\n",
      "epoch:  80 loss:0.372313 auc:0.5079\n",
      "epoch: 100 loss:0.371331 auc:0.5186\n",
      "epoch: 120 loss:0.370507 auc:0.5264\n",
      "epoch: 140 loss:0.369495 auc:0.5341\n",
      "epoch: 160 loss:0.367896 auc:0.5406\n",
      "epoch: 180 loss:0.364933 auc:0.5388\n",
      "epoch: 200 loss:0.360207 auc:0.5240\n",
      "epoch: 220 loss:0.355140 auc:0.5219\n",
      "epoch: 240 loss:0.350133 auc:0.5233\n"
     ]
    },
    {
     "name": "stderr",
     "output_type": "stream",
     "text": [
      " 70%|███████   | 324/460 [52:01<15:36,  6.89s/it]"
     ]
    },
    {
     "name": "stdout",
     "output_type": "stream",
     "text": [
      "epoch: 260 loss:0.346440 auc:0.5170\n",
      "Fit finished.\n",
      "epoch:   0 loss:0.821774 auc:0.4590\n",
      "epoch:  20 loss:0.404220 auc:0.4189\n",
      "epoch:  40 loss:0.376973 auc:0.4175\n",
      "epoch:  60 loss:0.372838 auc:0.4181\n",
      "epoch:  80 loss:0.371415 auc:0.4275\n",
      "epoch: 100 loss:0.370523 auc:0.4459\n",
      "epoch: 120 loss:0.369477 auc:0.4719\n",
      "epoch: 140 loss:0.367706 auc:0.5120\n",
      "epoch: 160 loss:0.364122 auc:0.5197\n",
      "epoch: 180 loss:0.358946 auc:0.4938\n",
      "epoch: 200 loss:0.354645 auc:0.4790\n",
      "epoch: 220 loss:0.350936 auc:0.4610\n",
      "epoch: 240 loss:0.346104 auc:0.4497\n",
      "epoch: 260 loss:0.339491 auc:0.4906\n",
      "epoch: 280 loss:0.331651 auc:0.5669\n",
      "epoch: 300 loss:0.323786 auc:0.6230\n",
      "epoch: 320 loss:0.322328 auc:0.7032\n",
      "epoch: 340 loss:0.309489 auc:0.6774\n",
      "epoch: 360 loss:0.302485 auc:0.6788\n",
      "epoch: 380 loss:0.296689 auc:0.6618\n",
      "epoch: 400 loss:0.291546 auc:0.6438\n",
      "epoch: 420 loss:0.287615 auc:0.6170\n",
      "epoch: 440 loss:0.284847 auc:0.5999\n"
     ]
    },
    {
     "name": "stderr",
     "output_type": "stream",
     "text": [
      " 71%|███████   | 325/460 [52:18<21:03,  9.36s/it]"
     ]
    },
    {
     "name": "stdout",
     "output_type": "stream",
     "text": [
      "epoch: 460 loss:0.280986 auc:0.5906\n",
      "Fit finished.\n",
      "epoch:   0 loss:0.795513 auc:0.5578\n",
      "epoch:  20 loss:0.394136 auc:0.5035\n",
      "epoch:  40 loss:0.375518 auc:0.5084\n",
      "epoch:  60 loss:0.372567 auc:0.5083\n",
      "epoch:  80 loss:0.371202 auc:0.4990\n",
      "epoch: 100 loss:0.370072 auc:0.4843\n",
      "epoch: 120 loss:0.368285 auc:0.4681\n",
      "epoch: 140 loss:0.364241 auc:0.4605\n"
     ]
    },
    {
     "name": "stderr",
     "output_type": "stream",
     "text": [
      " 71%|███████   | 326/460 [52:24<18:55,  8.48s/it]"
     ]
    },
    {
     "name": "stdout",
     "output_type": "stream",
     "text": [
      "epoch: 160 loss:0.357872 auc:0.4900\n",
      "Fit finished.\n",
      "epoch:   0 loss:0.848492 auc:0.4336\n",
      "epoch:  20 loss:0.406170 auc:0.1742\n",
      "epoch:  40 loss:0.378757 auc:0.1295\n",
      "epoch:  60 loss:0.373379 auc:0.1074\n",
      "epoch:  80 loss:0.371804 auc:0.0902\n",
      "epoch: 100 loss:0.370923 auc:0.0823\n",
      "epoch: 120 loss:0.370058 auc:0.0911\n",
      "epoch: 140 loss:0.368908 auc:0.1023\n"
     ]
    },
    {
     "name": "stderr",
     "output_type": "stream",
     "text": [
      " 71%|███████   | 327/460 [52:32<18:10,  8.20s/it]"
     ]
    },
    {
     "name": "stdout",
     "output_type": "stream",
     "text": [
      "epoch: 160 loss:0.367133 auc:0.1032\n",
      "Fit finished.\n",
      "epoch:   0 loss:1.084349 auc:0.5136\n",
      "epoch:  20 loss:0.402281 auc:0.3981\n",
      "epoch:  40 loss:0.380732 auc:0.3708\n",
      "epoch:  60 loss:0.374595 auc:0.3498\n",
      "epoch:  80 loss:0.372448 auc:0.3223\n",
      "epoch: 100 loss:0.371410 auc:0.2990\n",
      "epoch: 120 loss:0.370562 auc:0.2859\n",
      "epoch: 140 loss:0.369532 auc:0.2854\n"
     ]
    },
    {
     "name": "stderr",
     "output_type": "stream",
     "text": [
      " 71%|███████▏  | 328/460 [52:39<17:21,  7.89s/it]"
     ]
    },
    {
     "name": "stdout",
     "output_type": "stream",
     "text": [
      "epoch: 160 loss:0.367929 auc:0.2838\n",
      "Fit finished.\n",
      "epoch:   0 loss:0.863406 auc:0.9795\n",
      "epoch:  20 loss:0.428525 auc:0.9850\n",
      "epoch:  40 loss:0.385843 auc:0.8238\n",
      "epoch:  60 loss:0.375541 auc:0.5314\n",
      "epoch:  80 loss:0.373282 auc:0.3811\n",
      "epoch: 100 loss:0.372477 auc:0.2213\n",
      "epoch: 120 loss:0.371926 auc:0.1407\n",
      "epoch: 140 loss:0.371387 auc:0.0997\n"
     ]
    },
    {
     "name": "stderr",
     "output_type": "stream",
     "text": [
      " 72%|███████▏  | 329/460 [52:45<16:28,  7.55s/it]"
     ]
    },
    {
     "name": "stdout",
     "output_type": "stream",
     "text": [
      "epoch: 160 loss:0.370748 auc:0.0710\n",
      "Fit finished.\n",
      "epoch:   0 loss:0.977553 auc:0.5228\n",
      "epoch:  20 loss:0.402757 auc:0.5420\n",
      "epoch:  40 loss:0.379221 auc:0.5467\n",
      "epoch:  60 loss:0.373577 auc:0.5334\n",
      "epoch:  80 loss:0.371784 auc:0.5467\n",
      "epoch: 100 loss:0.370907 auc:0.5522\n",
      "epoch: 120 loss:0.370175 auc:0.5520\n",
      "epoch: 140 loss:0.369292 auc:0.5540\n",
      "epoch: 160 loss:0.367945 auc:0.5506\n",
      "epoch: 180 loss:0.365494 auc:0.5484\n"
     ]
    },
    {
     "name": "stderr",
     "output_type": "stream",
     "text": [
      " 72%|███████▏  | 330/460 [52:54<16:57,  7.82s/it]"
     ]
    },
    {
     "name": "stdout",
     "output_type": "stream",
     "text": [
      "epoch: 200 loss:0.361468 auc:0.5386\n",
      "Fit finished.\n",
      "epoch:   0 loss:0.737329 auc:0.5729\n",
      "epoch:  20 loss:0.389126 auc:0.4593\n",
      "epoch:  40 loss:0.377327 auc:0.4610\n",
      "epoch:  60 loss:0.373040 auc:0.4598\n",
      "epoch:  80 loss:0.371723 auc:0.4618\n",
      "epoch: 100 loss:0.370605 auc:0.4650\n",
      "epoch: 120 loss:0.368763 auc:0.4542\n",
      "epoch: 140 loss:0.364885 auc:0.4388\n"
     ]
    },
    {
     "name": "stderr",
     "output_type": "stream",
     "text": [
      " 72%|███████▏  | 331/460 [53:01<16:04,  7.47s/it]"
     ]
    },
    {
     "name": "stdout",
     "output_type": "stream",
     "text": [
      "epoch: 160 loss:0.359418 auc:0.4198\n",
      "Fit finished.\n",
      "epoch:   0 loss:0.830699 auc:0.5150\n",
      "epoch:  20 loss:0.391545 auc:0.4950\n",
      "epoch:  40 loss:0.374052 auc:0.5069\n",
      "epoch:  60 loss:0.371526 auc:0.5374\n",
      "epoch:  80 loss:0.370485 auc:0.5718\n",
      "epoch: 100 loss:0.369436 auc:0.6126\n",
      "epoch: 120 loss:0.367756 auc:0.6479\n",
      "epoch: 140 loss:0.364518 auc:0.6554\n",
      "epoch: 160 loss:0.359620 auc:0.6544\n",
      "epoch: 180 loss:0.354440 auc:0.6525\n",
      "epoch: 200 loss:0.352122 auc:0.6299\n",
      "epoch: 220 loss:0.342020 auc:0.6166\n",
      "epoch: 240 loss:0.333503 auc:0.5928\n"
     ]
    },
    {
     "name": "stderr",
     "output_type": "stream",
     "text": [
      " 72%|███████▏  | 332/460 [53:11<17:46,  8.33s/it]"
     ]
    },
    {
     "name": "stdout",
     "output_type": "stream",
     "text": [
      "epoch: 260 loss:0.324308 auc:0.5428\n",
      "Fit finished.\n",
      "epoch:   0 loss:0.696396 auc:0.4823\n",
      "epoch:  20 loss:0.401361 auc:0.4863\n",
      "epoch:  40 loss:0.377486 auc:0.4838\n",
      "epoch:  60 loss:0.372762 auc:0.4874\n",
      "epoch:  80 loss:0.371249 auc:0.4894\n",
      "epoch: 100 loss:0.370471 auc:0.4958\n",
      "epoch: 120 loss:0.369795 auc:0.5047\n",
      "epoch: 140 loss:0.368950 auc:0.5142\n",
      "epoch: 160 loss:0.367567 auc:0.5220\n",
      "epoch: 180 loss:0.364973 auc:0.5254\n",
      "epoch: 200 loss:0.360832 auc:0.5262\n",
      "epoch: 220 loss:0.356562 auc:0.5320\n",
      "epoch: 240 loss:0.352641 auc:0.5276\n",
      "epoch: 260 loss:0.348535 auc:0.5147\n"
     ]
    },
    {
     "name": "stderr",
     "output_type": "stream",
     "text": [
      " 72%|███████▏  | 333/460 [53:21<18:30,  8.75s/it]"
     ]
    },
    {
     "name": "stdout",
     "output_type": "stream",
     "text": [
      "epoch: 280 loss:0.344385 auc:0.5009\n",
      "Fit finished.\n",
      "epoch:   0 loss:0.758782 auc:0.4675\n",
      "epoch:  20 loss:0.391996 auc:0.6849\n",
      "epoch:  40 loss:0.376709 auc:0.7175\n",
      "epoch:  60 loss:0.372736 auc:0.7530\n",
      "epoch:  80 loss:0.371324 auc:0.7574\n",
      "epoch: 100 loss:0.370263 auc:0.7574\n",
      "epoch: 120 loss:0.368872 auc:0.7648\n",
      "epoch: 140 loss:0.366345 auc:0.7796\n",
      "epoch: 160 loss:0.361717 auc:0.7840\n",
      "epoch: 180 loss:0.356154 auc:0.7885\n",
      "epoch: 200 loss:0.348844 auc:0.7737\n",
      "epoch: 220 loss:0.342058 auc:0.7544\n"
     ]
    },
    {
     "name": "stderr",
     "output_type": "stream",
     "text": [
      " 73%|███████▎  | 334/460 [53:30<18:54,  9.00s/it]"
     ]
    },
    {
     "name": "stdout",
     "output_type": "stream",
     "text": [
      "epoch: 240 loss:0.328710 auc:0.7485\n",
      "Fit finished.\n",
      "epoch:   0 loss:0.980847 auc:0.5149\n",
      "epoch:  20 loss:0.404439 auc:0.5410\n",
      "epoch:  40 loss:0.378058 auc:0.5633\n",
      "epoch:  60 loss:0.372778 auc:0.5786\n",
      "epoch:  80 loss:0.371122 auc:0.5825\n",
      "epoch: 100 loss:0.370281 auc:0.5831\n",
      "epoch: 120 loss:0.369501 auc:0.5826\n",
      "epoch: 140 loss:0.368489 auc:0.5833\n",
      "epoch: 160 loss:0.366809 auc:0.5865\n",
      "epoch: 180 loss:0.363812 auc:0.5866\n",
      "epoch: 200 loss:0.359827 auc:0.5848\n",
      "epoch: 220 loss:0.355809 auc:0.5823\n",
      "epoch: 240 loss:0.352638 auc:0.6009\n",
      "epoch: 260 loss:0.348209 auc:0.6170\n",
      "epoch: 280 loss:0.343164 auc:0.6284\n",
      "epoch: 300 loss:0.335730 auc:0.6206\n",
      "epoch: 320 loss:0.328722 auc:0.6157\n"
     ]
    },
    {
     "name": "stderr",
     "output_type": "stream",
     "text": [
      " 73%|███████▎  | 335/460 [53:42<20:16,  9.73s/it]"
     ]
    },
    {
     "name": "stdout",
     "output_type": "stream",
     "text": [
      "epoch: 340 loss:0.321715 auc:0.5222\n",
      "Fit finished.\n",
      "epoch:   0 loss:0.762784 auc:0.6032\n",
      "epoch:  20 loss:0.395678 auc:0.7370\n",
      "epoch:  40 loss:0.378129 auc:0.7596\n",
      "epoch:  60 loss:0.373779 auc:0.7778\n",
      "epoch:  80 loss:0.372143 auc:0.7778\n",
      "epoch: 100 loss:0.371115 auc:0.7982\n",
      "epoch: 120 loss:0.370006 auc:0.8073\n",
      "epoch: 140 loss:0.368184 auc:0.8209\n",
      "epoch: 160 loss:0.364495 auc:0.8503\n",
      "epoch: 180 loss:0.359328 auc:0.8299\n",
      "epoch: 200 loss:0.354444 auc:0.8141\n",
      "epoch: 220 loss:0.349729 auc:0.8095\n",
      "epoch: 240 loss:0.341745 auc:0.8073\n"
     ]
    },
    {
     "name": "stderr",
     "output_type": "stream",
     "text": [
      " 73%|███████▎  | 336/460 [53:53<21:06, 10.21s/it]"
     ]
    },
    {
     "name": "stdout",
     "output_type": "stream",
     "text": [
      "epoch: 260 loss:0.334621 auc:0.7914\n",
      "Fit finished.\n",
      "epoch:   0 loss:0.772697 auc:0.5035\n",
      "epoch:  20 loss:0.405891 auc:0.4645\n",
      "epoch:  40 loss:0.378569 auc:0.4405\n",
      "epoch:  60 loss:0.372696 auc:0.4356\n",
      "epoch:  80 loss:0.371029 auc:0.4333\n",
      "epoch: 100 loss:0.370177 auc:0.4317\n",
      "epoch: 120 loss:0.369451 auc:0.4284\n",
      "epoch: 140 loss:0.368561 auc:0.4229\n"
     ]
    },
    {
     "name": "stderr",
     "output_type": "stream",
     "text": [
      " 73%|███████▎  | 337/460 [53:59<18:29,  9.02s/it]"
     ]
    },
    {
     "name": "stdout",
     "output_type": "stream",
     "text": [
      "epoch: 160 loss:0.367160 auc:0.4137\n",
      "Fit finished.\n",
      "epoch:   0 loss:0.765675 auc:0.4994\n",
      "epoch:  20 loss:0.382283 auc:0.5578\n",
      "epoch:  40 loss:0.373657 auc:0.5894\n",
      "epoch:  60 loss:0.371354 auc:0.5988\n",
      "epoch:  80 loss:0.370116 auc:0.6073\n",
      "epoch: 100 loss:0.368473 auc:0.6198\n",
      "epoch: 120 loss:0.364845 auc:0.6433\n",
      "epoch: 140 loss:0.358809 auc:0.6509\n",
      "epoch: 160 loss:0.349456 auc:0.6348\n",
      "epoch: 180 loss:0.339540 auc:0.6132\n"
     ]
    },
    {
     "name": "stderr",
     "output_type": "stream",
     "text": [
      " 73%|███████▎  | 338/460 [54:07<17:17,  8.50s/it]"
     ]
    },
    {
     "name": "stdout",
     "output_type": "stream",
     "text": [
      "epoch: 200 loss:0.328891 auc:0.5262\n",
      "Fit finished.\n",
      "epoch:   0 loss:0.820335 auc:0.4376\n",
      "epoch:  20 loss:0.402547 auc:0.4819\n",
      "epoch:  40 loss:0.377530 auc:0.4709\n",
      "epoch:  60 loss:0.372614 auc:0.4579\n",
      "epoch:  80 loss:0.370869 auc:0.4554\n",
      "epoch: 100 loss:0.369864 auc:0.4575\n",
      "epoch: 120 loss:0.368764 auc:0.4562\n",
      "epoch: 140 loss:0.366729 auc:0.4512\n",
      "epoch: 160 loss:0.362517 auc:0.4428\n"
     ]
    },
    {
     "name": "stderr",
     "output_type": "stream",
     "text": [
      " 74%|███████▎  | 339/460 [54:15<16:57,  8.41s/it]"
     ]
    },
    {
     "name": "stdout",
     "output_type": "stream",
     "text": [
      "epoch: 180 loss:0.357561 auc:0.4079\n",
      "Fit finished.\n",
      "epoch:   0 loss:0.716919 auc:0.5093\n",
      "epoch:  20 loss:0.392855 auc:0.5701\n",
      "epoch:  40 loss:0.374734 auc:0.5514\n",
      "epoch:  60 loss:0.371369 auc:0.5405\n",
      "epoch:  80 loss:0.370032 auc:0.5311\n",
      "epoch: 100 loss:0.368737 auc:0.5222\n",
      "epoch: 120 loss:0.366657 auc:0.5128\n",
      "epoch: 140 loss:0.362607 auc:0.4985\n"
     ]
    },
    {
     "name": "stderr",
     "output_type": "stream",
     "text": [
      " 74%|███████▍  | 340/460 [54:20<15:09,  7.58s/it]"
     ]
    },
    {
     "name": "stdout",
     "output_type": "stream",
     "text": [
      "epoch: 160 loss:0.357226 auc:0.4844\n",
      "Fit finished.\n",
      "epoch:   0 loss:1.165186 auc:0.5207\n",
      "epoch:  20 loss:0.402319 auc:0.3259\n",
      "epoch:  40 loss:0.379983 auc:0.2877\n",
      "epoch:  60 loss:0.374584 auc:0.2825\n",
      "epoch:  80 loss:0.372720 auc:0.2833\n",
      "epoch: 100 loss:0.371891 auc:0.2832\n",
      "epoch: 120 loss:0.371243 auc:0.2932\n",
      "epoch: 140 loss:0.370519 auc:0.3057\n"
     ]
    },
    {
     "name": "stderr",
     "output_type": "stream",
     "text": [
      " 74%|███████▍  | 341/460 [54:28<15:01,  7.58s/it]"
     ]
    },
    {
     "name": "stdout",
     "output_type": "stream",
     "text": [
      "epoch: 160 loss:0.369530 auc:0.3205\n",
      "Fit finished.\n",
      "epoch:   0 loss:0.791539 auc:0.5486\n",
      "epoch:  20 loss:0.391424 auc:0.8750\n",
      "epoch:  40 loss:0.376969 auc:0.8889\n",
      "epoch:  60 loss:0.372773 auc:0.8958\n",
      "epoch:  80 loss:0.371473 auc:0.8958\n",
      "epoch: 100 loss:0.370631 auc:0.8958\n",
      "epoch: 120 loss:0.369610 auc:0.9028\n",
      "epoch: 140 loss:0.367879 auc:0.8889\n",
      "epoch: 160 loss:0.364479 auc:0.8750\n"
     ]
    },
    {
     "name": "stderr",
     "output_type": "stream",
     "text": [
      " 74%|███████▍  | 342/460 [54:35<14:49,  7.54s/it]"
     ]
    },
    {
     "name": "stdout",
     "output_type": "stream",
     "text": [
      "epoch: 180 loss:0.359520 auc:0.8611\n",
      "Fit finished.\n",
      "epoch:   0 loss:0.748645 auc:0.4896\n",
      "epoch:  20 loss:0.396419 auc:0.6389\n",
      "epoch:  40 loss:0.376439 auc:0.7257\n",
      "epoch:  60 loss:0.372520 auc:0.7031\n",
      "epoch:  80 loss:0.371299 auc:0.7049\n",
      "epoch: 100 loss:0.370284 auc:0.7153\n",
      "epoch: 120 loss:0.368856 auc:0.6910\n",
      "epoch: 140 loss:0.366019 auc:0.6875\n",
      "epoch: 160 loss:0.360834 auc:0.6701\n",
      "epoch: 180 loss:0.355151 auc:0.7031\n",
      "epoch: 200 loss:0.349087 auc:0.7274\n",
      "epoch: 220 loss:0.340602 auc:0.7153\n",
      "epoch: 240 loss:0.332120 auc:0.7222\n",
      "epoch: 260 loss:0.322262 auc:0.7188\n",
      "epoch: 280 loss:0.314189 auc:0.7326\n",
      "epoch: 300 loss:0.329596 auc:0.7413\n",
      "epoch: 320 loss:0.305040 auc:0.7205\n",
      "epoch: 340 loss:0.296161 auc:0.7500\n",
      "epoch: 360 loss:0.290243 auc:0.7396\n",
      "epoch: 380 loss:0.285641 auc:0.7552\n",
      "epoch: 400 loss:0.282464 auc:0.7622\n",
      "epoch: 420 loss:0.279226 auc:0.7778\n"
     ]
    },
    {
     "name": "stderr",
     "output_type": "stream",
     "text": [
      " 75%|███████▍  | 343/460 [54:52<19:57, 10.23s/it]"
     ]
    },
    {
     "name": "stdout",
     "output_type": "stream",
     "text": [
      "epoch: 440 loss:0.352502 auc:0.6441\n",
      "Fit finished.\n",
      "epoch:   0 loss:0.808905 auc:0.4512\n",
      "epoch:  20 loss:0.390205 auc:0.5317\n",
      "epoch:  40 loss:0.375507 auc:0.5412\n",
      "epoch:  60 loss:0.371576 auc:0.5579\n",
      "epoch:  80 loss:0.370304 auc:0.5669\n",
      "epoch: 100 loss:0.369395 auc:0.5752\n",
      "epoch: 120 loss:0.368191 auc:0.5828\n",
      "epoch: 140 loss:0.366097 auc:0.5932\n",
      "epoch: 160 loss:0.361893 auc:0.6045\n",
      "epoch: 180 loss:0.356570 auc:0.6052\n",
      "epoch: 200 loss:0.351124 auc:0.6160\n",
      "epoch: 220 loss:0.346367 auc:0.6311\n",
      "epoch: 240 loss:0.334273 auc:0.6257\n",
      "epoch: 260 loss:0.330995 auc:0.6106\n",
      "epoch: 280 loss:0.319600 auc:0.5926\n"
     ]
    },
    {
     "name": "stderr",
     "output_type": "stream",
     "text": [
      " 75%|███████▍  | 344/460 [55:02<19:55, 10.31s/it]"
     ]
    },
    {
     "name": "stdout",
     "output_type": "stream",
     "text": [
      "epoch: 300 loss:0.311828 auc:0.5874\n",
      "Fit finished.\n",
      "epoch:   0 loss:0.846253 auc:0.4638\n",
      "epoch:  20 loss:0.391661 auc:0.5209\n",
      "epoch:  40 loss:0.375609 auc:0.5260\n",
      "epoch:  60 loss:0.372161 auc:0.5185\n",
      "epoch:  80 loss:0.370908 auc:0.5097\n",
      "epoch: 100 loss:0.369862 auc:0.4946\n",
      "epoch: 120 loss:0.368221 auc:0.4644\n",
      "epoch: 140 loss:0.364848 auc:0.4202\n"
     ]
    },
    {
     "name": "stderr",
     "output_type": "stream",
     "text": [
      " 75%|███████▌  | 345/460 [55:09<17:30,  9.13s/it]"
     ]
    },
    {
     "name": "stdout",
     "output_type": "stream",
     "text": [
      "epoch: 160 loss:0.359204 auc:0.3704\n",
      "Fit finished.\n",
      "epoch:   0 loss:0.819991 auc:0.4974\n",
      "epoch:  20 loss:0.391994 auc:0.5056\n",
      "epoch:  40 loss:0.377747 auc:0.4805\n",
      "epoch:  60 loss:0.372777 auc:0.4610\n",
      "epoch:  80 loss:0.371304 auc:0.4545\n",
      "epoch: 100 loss:0.370603 auc:0.4473\n",
      "epoch: 120 loss:0.370000 auc:0.4376\n",
      "epoch: 140 loss:0.369283 auc:0.4336\n"
     ]
    },
    {
     "name": "stderr",
     "output_type": "stream",
     "text": [
      " 75%|███████▌  | 346/460 [55:15<15:25,  8.12s/it]"
     ]
    },
    {
     "name": "stdout",
     "output_type": "stream",
     "text": [
      "epoch: 160 loss:0.368210 auc:0.4302\n",
      "Fit finished.\n",
      "epoch:   0 loss:0.658392 auc:0.4955\n",
      "epoch:  20 loss:0.388548 auc:0.5149\n",
      "epoch:  40 loss:0.376740 auc:0.5301\n",
      "epoch:  60 loss:0.372229 auc:0.5411\n",
      "epoch:  80 loss:0.370846 auc:0.5557\n",
      "epoch: 100 loss:0.369910 auc:0.5629\n",
      "epoch: 120 loss:0.368795 auc:0.5673\n",
      "epoch: 140 loss:0.367017 auc:0.5704\n",
      "epoch: 160 loss:0.363811 auc:0.5758\n",
      "epoch: 180 loss:0.358701 auc:0.5678\n",
      "epoch: 200 loss:0.352913 auc:0.5527\n",
      "epoch: 220 loss:0.346614 auc:0.5628\n",
      "epoch: 240 loss:0.338926 auc:0.5639\n"
     ]
    },
    {
     "name": "stderr",
     "output_type": "stream",
     "text": [
      " 75%|███████▌  | 347/460 [55:25<16:22,  8.69s/it]"
     ]
    },
    {
     "name": "stdout",
     "output_type": "stream",
     "text": [
      "epoch: 260 loss:0.328766 auc:0.5626\n",
      "Fit finished.\n",
      "epoch:   0 loss:0.738928 auc:0.4576\n",
      "epoch:  20 loss:0.389087 auc:0.4765\n",
      "epoch:  40 loss:0.374990 auc:0.4957\n",
      "epoch:  60 loss:0.371144 auc:0.5019\n",
      "epoch:  80 loss:0.369884 auc:0.5190\n",
      "epoch: 100 loss:0.368677 auc:0.5287\n",
      "epoch: 120 loss:0.366481 auc:0.5294\n",
      "epoch: 140 loss:0.361496 auc:0.5330\n",
      "epoch: 160 loss:0.354736 auc:0.5684\n",
      "epoch: 180 loss:0.348274 auc:0.5732\n",
      "epoch: 200 loss:0.340762 auc:0.5943\n",
      "epoch: 220 loss:0.331074 auc:0.5790\n",
      "epoch: 240 loss:0.321693 auc:0.5778\n"
     ]
    },
    {
     "name": "stderr",
     "output_type": "stream",
     "text": [
      " 76%|███████▌  | 348/460 [55:35<17:13,  9.22s/it]"
     ]
    },
    {
     "name": "stdout",
     "output_type": "stream",
     "text": [
      "epoch: 260 loss:0.312612 auc:0.5180\n",
      "Fit finished.\n",
      "epoch:   0 loss:0.766921 auc:0.5632\n",
      "epoch:  20 loss:0.395850 auc:0.5616\n",
      "epoch:  40 loss:0.375867 auc:0.5676\n",
      "epoch:  60 loss:0.372297 auc:0.5591\n",
      "epoch:  80 loss:0.370786 auc:0.5567\n",
      "epoch: 100 loss:0.369332 auc:0.5436\n",
      "epoch: 120 loss:0.366792 auc:0.5237\n",
      "epoch: 140 loss:0.361596 auc:0.5195\n"
     ]
    },
    {
     "name": "stderr",
     "output_type": "stream",
     "text": [
      " 76%|███████▌  | 350/460 [55:41<11:39,  6.36s/it]"
     ]
    },
    {
     "name": "stdout",
     "output_type": "stream",
     "text": [
      "epoch: 160 loss:0.355365 auc:0.5375\n",
      "Fit finished.\n",
      "epoch:   0 loss:0.811937 auc:0.4909\n",
      "epoch:  20 loss:0.399501 auc:0.5057\n",
      "epoch:  40 loss:0.377841 auc:0.4803\n",
      "epoch:  60 loss:0.373124 auc:0.4702\n",
      "epoch:  80 loss:0.371341 auc:0.4668\n",
      "epoch: 100 loss:0.370541 auc:0.4679\n",
      "epoch: 120 loss:0.369948 auc:0.4679\n",
      "epoch: 140 loss:0.369301 auc:0.4710\n"
     ]
    },
    {
     "name": "stderr",
     "output_type": "stream",
     "text": [
      " 76%|███████▋  | 351/460 [55:47<11:20,  6.24s/it]"
     ]
    },
    {
     "name": "stdout",
     "output_type": "stream",
     "text": [
      "epoch: 160 loss:0.368393 auc:0.4776\n",
      "Fit finished.\n",
      "epoch:   0 loss:0.781429 auc:0.5021\n",
      "epoch:  20 loss:0.403992 auc:0.5235\n",
      "epoch:  40 loss:0.378910 auc:0.5203\n",
      "epoch:  60 loss:0.373098 auc:0.5142\n",
      "epoch:  80 loss:0.371274 auc:0.5097\n",
      "epoch: 100 loss:0.370294 auc:0.5063\n",
      "epoch: 120 loss:0.369320 auc:0.5059\n",
      "epoch: 140 loss:0.367914 auc:0.5044\n"
     ]
    },
    {
     "name": "stderr",
     "output_type": "stream",
     "text": [
      " 77%|███████▋  | 352/460 [55:54<11:22,  6.32s/it]"
     ]
    },
    {
     "name": "stdout",
     "output_type": "stream",
     "text": [
      "epoch: 160 loss:0.365297 auc:0.4925\n",
      "Fit finished.\n",
      "epoch:   0 loss:0.863481 auc:0.5146\n",
      "epoch:  20 loss:0.391505 auc:0.5061\n",
      "epoch:  40 loss:0.374846 auc:0.4973\n",
      "epoch:  60 loss:0.371618 auc:0.4976\n",
      "epoch:  80 loss:0.370227 auc:0.4936\n",
      "epoch: 100 loss:0.369144 auc:0.4859\n",
      "epoch: 120 loss:0.367541 auc:0.4744\n",
      "epoch: 140 loss:0.364230 auc:0.4472\n"
     ]
    },
    {
     "name": "stderr",
     "output_type": "stream",
     "text": [
      " 77%|███████▋  | 353/460 [56:00<11:26,  6.42s/it]"
     ]
    },
    {
     "name": "stdout",
     "output_type": "stream",
     "text": [
      "epoch: 160 loss:0.358585 auc:0.4071\n",
      "Fit finished.\n",
      "epoch:   0 loss:0.953090 auc:0.6116\n",
      "epoch:  20 loss:0.403815 auc:0.6612\n",
      "epoch:  40 loss:0.377387 auc:0.6364\n",
      "epoch:  60 loss:0.373080 auc:0.6446\n",
      "epoch:  80 loss:0.371592 auc:0.6612\n",
      "epoch: 100 loss:0.370643 auc:0.6777\n",
      "epoch: 120 loss:0.369618 auc:0.6942\n",
      "epoch: 140 loss:0.368122 auc:0.6942\n",
      "epoch: 160 loss:0.365433 auc:0.7025\n",
      "epoch: 180 loss:0.360938 auc:0.7355\n",
      "epoch: 200 loss:0.355994 auc:0.7190\n",
      "epoch: 220 loss:0.350370 auc:0.7521\n",
      "epoch: 240 loss:0.344126 auc:0.7190\n",
      "epoch: 260 loss:0.336924 auc:0.7107\n"
     ]
    },
    {
     "name": "stderr",
     "output_type": "stream",
     "text": [
      " 77%|███████▋  | 354/460 [56:12<13:44,  7.78s/it]"
     ]
    },
    {
     "name": "stdout",
     "output_type": "stream",
     "text": [
      "epoch: 280 loss:0.329843 auc:0.6694\n",
      "Fit finished.\n",
      "epoch:   0 loss:0.831396 auc:0.4518\n",
      "epoch:  20 loss:0.396009 auc:0.6485\n",
      "epoch:  40 loss:0.377673 auc:0.6616\n",
      "epoch:  60 loss:0.373102 auc:0.6599\n",
      "epoch:  80 loss:0.371694 auc:0.6763\n",
      "epoch: 100 loss:0.370885 auc:0.6820\n",
      "epoch: 120 loss:0.370017 auc:0.6888\n",
      "epoch: 140 loss:0.368741 auc:0.6916\n",
      "epoch: 160 loss:0.366495 auc:0.6820\n",
      "epoch: 180 loss:0.362896 auc:0.6485\n"
     ]
    },
    {
     "name": "stderr",
     "output_type": "stream",
     "text": [
      " 78%|███████▊  | 357/460 [56:21<09:00,  5.25s/it]"
     ]
    },
    {
     "name": "stdout",
     "output_type": "stream",
     "text": [
      "epoch: 200 loss:0.359050 auc:0.6276\n",
      "Fit finished.\n",
      "epoch:   0 loss:0.760185 auc:0.5107\n",
      "epoch:  20 loss:0.400741 auc:0.5384\n",
      "epoch:  40 loss:0.377108 auc:0.5404\n",
      "epoch:  60 loss:0.372555 auc:0.5414\n",
      "epoch:  80 loss:0.370938 auc:0.5404\n",
      "epoch: 100 loss:0.370124 auc:0.5382\n",
      "epoch: 120 loss:0.369371 auc:0.5385\n",
      "epoch: 140 loss:0.368401 auc:0.5447\n",
      "epoch: 160 loss:0.366803 auc:0.5494\n",
      "epoch: 180 loss:0.363887 auc:0.5574\n",
      "epoch: 200 loss:0.359619 auc:0.5667\n",
      "epoch: 220 loss:0.355496 auc:0.5706\n",
      "epoch: 240 loss:0.352527 auc:0.5893\n",
      "epoch: 260 loss:0.347425 auc:0.6052\n",
      "epoch: 280 loss:0.345921 auc:0.6204\n",
      "epoch: 300 loss:0.336094 auc:0.6003\n",
      "epoch: 320 loss:0.328597 auc:0.6102\n",
      "epoch: 340 loss:0.320375 auc:0.5869\n",
      "epoch: 360 loss:0.318003 auc:0.5982\n"
     ]
    },
    {
     "name": "stderr",
     "output_type": "stream",
     "text": [
      " 78%|███████▊  | 358/460 [56:35<12:10,  7.16s/it]"
     ]
    },
    {
     "name": "stdout",
     "output_type": "stream",
     "text": [
      "epoch: 380 loss:0.308397 auc:0.5619\n",
      "Fit finished.\n",
      "epoch:   0 loss:0.808197 auc:0.5373\n",
      "epoch:  20 loss:0.392467 auc:0.5509\n",
      "epoch:  40 loss:0.374582 auc:0.5782\n",
      "epoch:  60 loss:0.371977 auc:0.5925\n",
      "epoch:  80 loss:0.370777 auc:0.6038\n",
      "epoch: 100 loss:0.369728 auc:0.6176\n",
      "epoch: 120 loss:0.368168 auc:0.6212\n",
      "epoch: 140 loss:0.364861 auc:0.6258\n",
      "epoch: 160 loss:0.358621 auc:0.6395\n",
      "epoch: 180 loss:0.351656 auc:0.6560\n",
      "epoch: 200 loss:0.348246 auc:0.6411\n",
      "epoch: 220 loss:0.334584 auc:0.6054\n"
     ]
    },
    {
     "name": "stderr",
     "output_type": "stream",
     "text": [
      " 78%|███████▊  | 359/460 [56:44<12:32,  7.45s/it]"
     ]
    },
    {
     "name": "stdout",
     "output_type": "stream",
     "text": [
      "epoch: 240 loss:0.325345 auc:0.5906\n",
      "Fit finished.\n",
      "epoch:   0 loss:0.763128 auc:0.3948\n",
      "epoch:  20 loss:0.391356 auc:0.4352\n",
      "epoch:  40 loss:0.376354 auc:0.2935\n",
      "epoch:  60 loss:0.373465 auc:0.2444\n",
      "epoch:  80 loss:0.372359 auc:0.2188\n",
      "epoch: 100 loss:0.371572 auc:0.1975\n",
      "epoch: 120 loss:0.370636 auc:0.1810\n",
      "epoch: 140 loss:0.369144 auc:0.1653\n"
     ]
    },
    {
     "name": "stderr",
     "output_type": "stream",
     "text": [
      " 78%|███████▊  | 360/460 [56:50<12:00,  7.21s/it]"
     ]
    },
    {
     "name": "stdout",
     "output_type": "stream",
     "text": [
      "epoch: 160 loss:0.366252 auc:0.1322\n",
      "Fit finished.\n",
      "epoch:   0 loss:0.813722 auc:0.4692\n",
      "epoch:  20 loss:0.393181 auc:0.4786\n",
      "epoch:  40 loss:0.374920 auc:0.5026\n",
      "epoch:  60 loss:0.372039 auc:0.5166\n",
      "epoch:  80 loss:0.371109 auc:0.5282\n",
      "epoch: 100 loss:0.370483 auc:0.5366\n",
      "epoch: 120 loss:0.369830 auc:0.5430\n",
      "epoch: 140 loss:0.368953 auc:0.5463\n",
      "epoch: 160 loss:0.367524 auc:0.5467\n",
      "epoch: 180 loss:0.364776 auc:0.5488\n",
      "epoch: 200 loss:0.359880 auc:0.5466\n",
      "epoch: 220 loss:0.354364 auc:0.5336\n",
      "epoch: 240 loss:0.349189 auc:0.5376\n"
     ]
    },
    {
     "name": "stderr",
     "output_type": "stream",
     "text": [
      " 78%|███████▊  | 361/460 [57:02<13:37,  8.25s/it]"
     ]
    },
    {
     "name": "stdout",
     "output_type": "stream",
     "text": [
      "epoch: 260 loss:0.342432 auc:0.5294\n",
      "Fit finished.\n",
      "epoch:   0 loss:0.879418 auc:0.5598\n",
      "epoch:  20 loss:0.401575 auc:0.5535\n",
      "epoch:  40 loss:0.379072 auc:0.5519\n",
      "epoch:  60 loss:0.373329 auc:0.5556\n",
      "epoch:  80 loss:0.371713 auc:0.5622\n",
      "epoch: 100 loss:0.370891 auc:0.5669\n",
      "epoch: 120 loss:0.370099 auc:0.5696\n",
      "epoch: 140 loss:0.368985 auc:0.5729\n",
      "epoch: 160 loss:0.367007 auc:0.5742\n",
      "epoch: 180 loss:0.363357 auc:0.5863\n",
      "epoch: 200 loss:0.359144 auc:0.6016\n",
      "epoch: 220 loss:0.354899 auc:0.6063\n",
      "epoch: 240 loss:0.349868 auc:0.6228\n",
      "epoch: 260 loss:0.345233 auc:0.6364\n",
      "epoch: 280 loss:0.335107 auc:0.5992\n"
     ]
    },
    {
     "name": "stderr",
     "output_type": "stream",
     "text": [
      " 79%|███████▊  | 362/460 [57:12<14:21,  8.79s/it]"
     ]
    },
    {
     "name": "stdout",
     "output_type": "stream",
     "text": [
      "epoch: 300 loss:0.326478 auc:0.5647\n",
      "Fit finished.\n",
      "epoch:   0 loss:0.736083 auc:0.4267\n",
      "epoch:  20 loss:0.386017 auc:0.4278\n",
      "epoch:  40 loss:0.374108 auc:0.4867\n",
      "epoch:  60 loss:0.371782 auc:0.5222\n",
      "epoch:  80 loss:0.370463 auc:0.5211\n",
      "epoch: 100 loss:0.368665 auc:0.5433\n",
      "epoch: 120 loss:0.364907 auc:0.5611\n",
      "epoch: 140 loss:0.358484 auc:0.5789\n",
      "epoch: 160 loss:0.353500 auc:0.5944\n",
      "epoch: 180 loss:0.341027 auc:0.5811\n",
      "epoch: 200 loss:0.330685 auc:0.6067\n",
      "epoch: 220 loss:0.320331 auc:0.6244\n",
      "epoch: 240 loss:0.309165 auc:0.6133\n",
      "epoch: 260 loss:0.300041 auc:0.6178\n",
      "epoch: 280 loss:0.297699 auc:0.6044\n",
      "epoch: 300 loss:0.295698 auc:0.6400\n",
      "epoch: 320 loss:0.286214 auc:0.6267\n",
      "epoch: 340 loss:0.281681 auc:0.6333\n",
      "epoch: 360 loss:0.278741 auc:0.6378\n",
      "epoch: 380 loss:0.276319 auc:0.6511\n",
      "epoch: 400 loss:0.276827 auc:0.6344\n",
      "epoch: 420 loss:0.272553 auc:0.6544\n",
      "epoch: 440 loss:0.271654 auc:0.6600\n",
      "epoch: 460 loss:0.270110 auc:0.6567\n",
      "epoch: 480 loss:0.269248 auc:0.6489\n",
      "epoch: 500 loss:0.267336 auc:0.6544\n",
      "epoch: 520 loss:0.266467 auc:0.6567\n",
      "epoch: 540 loss:0.266237 auc:0.6578\n",
      "epoch: 560 loss:0.265440 auc:0.6578\n",
      "epoch: 580 loss:0.263922 auc:0.6556\n"
     ]
    },
    {
     "name": "stderr",
     "output_type": "stream",
     "text": [
      " 79%|███████▉  | 363/460 [57:36<21:02, 13.01s/it]"
     ]
    },
    {
     "name": "stdout",
     "output_type": "stream",
     "text": [
      "epoch: 600 loss:0.263691 auc:0.6556\n",
      "Fit finished.\n",
      "epoch:   0 loss:0.702121 auc:0.4988\n",
      "epoch:  20 loss:0.396191 auc:0.5258\n",
      "epoch:  40 loss:0.375737 auc:0.5235\n",
      "epoch:  60 loss:0.371498 auc:0.5199\n",
      "epoch:  80 loss:0.370046 auc:0.5182\n",
      "epoch: 100 loss:0.368755 auc:0.5150\n",
      "epoch: 120 loss:0.366639 auc:0.5135\n",
      "epoch: 140 loss:0.362595 auc:0.5037\n",
      "epoch: 160 loss:0.357309 auc:0.4997\n"
     ]
    },
    {
     "name": "stderr",
     "output_type": "stream",
     "text": [
      " 79%|███████▉  | 364/460 [57:44<18:31, 11.58s/it]"
     ]
    },
    {
     "name": "stdout",
     "output_type": "stream",
     "text": [
      "epoch: 180 loss:0.351920 auc:0.5108\n",
      "Fit finished.\n",
      "epoch:   0 loss:0.782893 auc:0.5113\n",
      "epoch:  20 loss:0.388786 auc:0.4816\n",
      "epoch:  40 loss:0.374464 auc:0.4944\n",
      "epoch:  60 loss:0.371645 auc:0.5003\n",
      "epoch:  80 loss:0.370449 auc:0.5063\n",
      "epoch: 100 loss:0.369310 auc:0.5103\n",
      "epoch: 120 loss:0.367363 auc:0.5102\n",
      "epoch: 140 loss:0.363282 auc:0.4969\n"
     ]
    },
    {
     "name": "stderr",
     "output_type": "stream",
     "text": [
      " 79%|███████▉  | 365/460 [57:50<16:06, 10.18s/it]"
     ]
    },
    {
     "name": "stdout",
     "output_type": "stream",
     "text": [
      "epoch: 160 loss:0.357723 auc:0.4718\n",
      "Fit finished.\n",
      "epoch:   0 loss:0.975716 auc:0.4068\n",
      "epoch:  20 loss:0.409466 auc:0.6380\n",
      "epoch:  40 loss:0.379323 auc:0.6002\n",
      "epoch:  60 loss:0.374044 auc:0.5770\n",
      "epoch:  80 loss:0.372174 auc:0.5490\n",
      "epoch: 100 loss:0.371334 auc:0.5230\n",
      "epoch: 120 loss:0.370672 auc:0.5066\n",
      "epoch: 140 loss:0.369943 auc:0.4986\n",
      "epoch: 160 loss:0.368951 auc:0.5021\n"
     ]
    },
    {
     "name": "stderr",
     "output_type": "stream",
     "text": [
      " 80%|███████▉  | 366/460 [57:58<14:50,  9.48s/it]"
     ]
    },
    {
     "name": "stdout",
     "output_type": "stream",
     "text": [
      "epoch: 180 loss:0.367370 auc:0.5128\n",
      "Fit finished.\n",
      "epoch:   0 loss:0.769939 auc:0.4999\n",
      "epoch:  20 loss:0.387508 auc:0.5363\n",
      "epoch:  40 loss:0.374823 auc:0.5538\n",
      "epoch:  60 loss:0.371713 auc:0.5632\n",
      "epoch:  80 loss:0.370566 auc:0.5806\n",
      "epoch: 100 loss:0.369651 auc:0.5944\n",
      "epoch: 120 loss:0.368485 auc:0.6082\n",
      "epoch: 140 loss:0.366530 auc:0.6244\n",
      "epoch: 160 loss:0.362929 auc:0.6376\n",
      "epoch: 180 loss:0.357669 auc:0.6412\n",
      "epoch: 200 loss:0.351643 auc:0.6460\n",
      "epoch: 220 loss:0.343443 auc:0.6638\n",
      "epoch: 240 loss:0.331872 auc:0.6724\n",
      "epoch: 260 loss:0.320288 auc:0.6725\n",
      "epoch: 280 loss:0.310881 auc:0.6627\n",
      "epoch: 300 loss:0.303344 auc:0.6559\n",
      "epoch: 320 loss:0.296373 auc:0.6818\n",
      "epoch: 340 loss:0.293683 auc:0.6711\n",
      "epoch: 360 loss:0.285933 auc:0.6729\n"
     ]
    },
    {
     "name": "stderr",
     "output_type": "stream",
     "text": [
      " 80%|███████▉  | 367/460 [58:13<17:02, 11.00s/it]"
     ]
    },
    {
     "name": "stdout",
     "output_type": "stream",
     "text": [
      "epoch: 380 loss:0.284196 auc:0.6532\n",
      "Fit finished.\n",
      "epoch:   0 loss:0.840161 auc:0.5185\n",
      "epoch:  20 loss:0.392214 auc:0.4847\n",
      "epoch:  40 loss:0.375666 auc:0.4667\n",
      "epoch:  60 loss:0.372468 auc:0.4696\n",
      "epoch:  80 loss:0.371232 auc:0.4719\n",
      "epoch: 100 loss:0.370278 auc:0.4705\n",
      "epoch: 120 loss:0.369073 auc:0.4662\n",
      "epoch: 140 loss:0.367091 auc:0.4544\n"
     ]
    },
    {
     "name": "stderr",
     "output_type": "stream",
     "text": [
      " 80%|████████  | 368/460 [58:20<15:09,  9.88s/it]"
     ]
    },
    {
     "name": "stdout",
     "output_type": "stream",
     "text": [
      "epoch: 160 loss:0.363571 auc:0.4306\n",
      "Fit finished.\n",
      "epoch:   0 loss:0.856901 auc:0.4685\n",
      "epoch:  20 loss:0.403029 auc:0.5163\n",
      "epoch:  40 loss:0.378428 auc:0.5528\n",
      "epoch:  60 loss:0.372984 auc:0.5730\n",
      "epoch:  80 loss:0.371426 auc:0.5840\n",
      "epoch: 100 loss:0.370572 auc:0.5935\n",
      "epoch: 120 loss:0.369681 auc:0.6007\n",
      "epoch: 140 loss:0.368313 auc:0.6046\n",
      "epoch: 160 loss:0.365644 auc:0.6141\n",
      "epoch: 180 loss:0.361365 auc:0.6211\n",
      "epoch: 200 loss:0.357214 auc:0.6028\n",
      "epoch: 220 loss:0.352852 auc:0.5925\n"
     ]
    },
    {
     "name": "stderr",
     "output_type": "stream",
     "text": [
      " 80%|████████  | 369/460 [58:31<15:15, 10.06s/it]"
     ]
    },
    {
     "name": "stdout",
     "output_type": "stream",
     "text": [
      "epoch: 240 loss:0.351584 auc:0.5772\n",
      "Fit finished.\n",
      "epoch:   0 loss:0.826012 auc:0.4917\n",
      "epoch:  20 loss:0.385699 auc:0.4832\n",
      "epoch:  40 loss:0.374539 auc:0.4713\n",
      "epoch:  60 loss:0.372153 auc:0.4720\n",
      "epoch:  80 loss:0.370946 auc:0.4723\n",
      "epoch: 100 loss:0.370071 auc:0.4694\n",
      "epoch: 120 loss:0.368921 auc:0.4661\n",
      "epoch: 140 loss:0.366747 auc:0.4572\n"
     ]
    },
    {
     "name": "stderr",
     "output_type": "stream",
     "text": [
      " 80%|████████  | 370/460 [58:37<13:36,  9.07s/it]"
     ]
    },
    {
     "name": "stdout",
     "output_type": "stream",
     "text": [
      "epoch: 160 loss:0.361937 auc:0.4349\n",
      "Fit finished.\n",
      "epoch:   0 loss:0.872637 auc:0.5236\n",
      "epoch:  20 loss:0.397861 auc:0.5076\n",
      "epoch:  40 loss:0.377816 auc:0.4959\n",
      "epoch:  60 loss:0.372603 auc:0.4882\n",
      "epoch:  80 loss:0.371298 auc:0.4807\n",
      "epoch: 100 loss:0.370665 auc:0.4750\n",
      "epoch: 120 loss:0.370156 auc:0.4691\n",
      "epoch: 140 loss:0.369590 auc:0.4621\n"
     ]
    },
    {
     "name": "stderr",
     "output_type": "stream",
     "text": [
      " 81%|████████  | 371/460 [58:44<12:25,  8.37s/it]"
     ]
    },
    {
     "name": "stdout",
     "output_type": "stream",
     "text": [
      "epoch: 160 loss:0.368853 auc:0.4545\n",
      "Fit finished.\n",
      "epoch:   0 loss:0.729056 auc:0.3378\n",
      "epoch:  20 loss:0.392621 auc:0.5289\n",
      "epoch:  40 loss:0.376248 auc:0.5822\n",
      "epoch:  60 loss:0.372660 auc:0.6444\n",
      "epoch:  80 loss:0.371254 auc:0.6667\n",
      "epoch: 100 loss:0.369935 auc:0.6889\n",
      "epoch: 120 loss:0.367774 auc:0.7022\n",
      "epoch: 140 loss:0.363671 auc:0.7244\n",
      "epoch: 160 loss:0.358305 auc:0.7333\n",
      "epoch: 180 loss:0.352154 auc:0.7689\n",
      "epoch: 200 loss:0.346509 auc:0.7511\n",
      "epoch: 220 loss:0.338676 auc:0.7378\n",
      "epoch: 240 loss:0.330067 auc:0.7422\n",
      "epoch: 260 loss:0.322130 auc:0.7556\n",
      "epoch: 280 loss:0.312582 auc:0.7333\n",
      "epoch: 300 loss:0.345590 auc:0.8044\n"
     ]
    },
    {
     "name": "stderr",
     "output_type": "stream",
     "text": [
      " 81%|████████  | 372/460 [58:57<14:20,  9.78s/it]"
     ]
    },
    {
     "name": "stdout",
     "output_type": "stream",
     "text": [
      "epoch: 320 loss:0.306617 auc:0.6889\n",
      "Fit finished.\n",
      "epoch:   0 loss:0.821614 auc:0.4896\n",
      "epoch:  20 loss:0.406048 auc:0.4749\n",
      "epoch:  40 loss:0.381019 auc:0.4985\n",
      "epoch:  60 loss:0.374411 auc:0.4970\n",
      "epoch:  80 loss:0.372395 auc:0.5192\n",
      "epoch: 100 loss:0.371448 auc:0.5355\n",
      "epoch: 120 loss:0.370751 auc:0.5444\n",
      "epoch: 140 loss:0.370038 auc:0.5607\n",
      "epoch: 160 loss:0.369140 auc:0.5621\n",
      "epoch: 180 loss:0.367785 auc:0.5769\n",
      "epoch: 200 loss:0.365410 auc:0.5843\n",
      "epoch: 220 loss:0.361332 auc:0.6006\n",
      "epoch: 240 loss:0.356400 auc:0.6124\n",
      "epoch: 260 loss:0.351435 auc:0.6213\n",
      "epoch: 280 loss:0.345282 auc:0.6065\n",
      "epoch: 300 loss:0.343905 auc:0.5991\n",
      "epoch: 320 loss:0.332301 auc:0.6243\n",
      "epoch: 340 loss:0.325539 auc:0.6361\n",
      "epoch: 360 loss:0.318576 auc:0.6450\n",
      "epoch: 380 loss:0.312706 auc:0.6686\n",
      "epoch: 400 loss:0.307261 auc:0.6731\n",
      "epoch: 420 loss:0.299942 auc:0.6716\n",
      "epoch: 440 loss:0.295008 auc:0.6657\n",
      "epoch: 460 loss:0.292910 auc:0.6627\n",
      "epoch: 480 loss:0.287381 auc:0.6775\n",
      "epoch: 500 loss:0.283491 auc:0.6583\n",
      "epoch: 520 loss:0.280662 auc:0.6701\n",
      "epoch: 540 loss:0.277864 auc:0.6731\n"
     ]
    },
    {
     "name": "stderr",
     "output_type": "stream",
     "text": [
      " 81%|████████  | 373/460 [59:19<19:24, 13.38s/it]"
     ]
    },
    {
     "name": "stdout",
     "output_type": "stream",
     "text": [
      "epoch: 560 loss:0.275857 auc:0.6716\n",
      "Fit finished.\n",
      "epoch:   0 loss:0.809691 auc:0.4522\n",
      "epoch:  20 loss:0.389697 auc:0.4290\n",
      "epoch:  40 loss:0.377392 auc:0.4183\n",
      "epoch:  60 loss:0.373187 auc:0.4172\n",
      "epoch:  80 loss:0.371903 auc:0.4140\n",
      "epoch: 100 loss:0.371040 auc:0.4141\n",
      "epoch: 120 loss:0.370045 auc:0.4110\n",
      "epoch: 140 loss:0.368554 auc:0.4019\n"
     ]
    },
    {
     "name": "stderr",
     "output_type": "stream",
     "text": [
      " 81%|████████▏ | 374/460 [59:24<15:45, 11.00s/it]"
     ]
    },
    {
     "name": "stdout",
     "output_type": "stream",
     "text": [
      "epoch: 160 loss:0.365916 auc:0.3813\n",
      "Fit finished.\n",
      "epoch:   0 loss:0.942957 auc:0.5651\n",
      "epoch:  20 loss:0.404299 auc:0.4630\n",
      "epoch:  40 loss:0.379936 auc:0.3876\n",
      "epoch:  60 loss:0.374760 auc:0.3425\n",
      "epoch:  80 loss:0.372810 auc:0.3197\n",
      "epoch: 100 loss:0.372029 auc:0.3066\n",
      "epoch: 120 loss:0.371475 auc:0.2991\n",
      "epoch: 140 loss:0.370899 auc:0.2946\n"
     ]
    },
    {
     "name": "stderr",
     "output_type": "stream",
     "text": [
      " 82%|████████▏ | 375/460 [59:30<13:25,  9.48s/it]"
     ]
    },
    {
     "name": "stdout",
     "output_type": "stream",
     "text": [
      "epoch: 160 loss:0.370160 auc:0.2940\n",
      "Fit finished.\n",
      "epoch:   0 loss:0.744447 auc:0.5337\n",
      "epoch:  20 loss:0.403053 auc:0.5178\n",
      "epoch:  40 loss:0.377096 auc:0.5544\n",
      "epoch:  60 loss:0.372036 auc:0.5705\n",
      "epoch:  80 loss:0.370760 auc:0.5748\n",
      "epoch: 100 loss:0.369900 auc:0.5774\n",
      "epoch: 120 loss:0.368919 auc:0.5801\n",
      "epoch: 140 loss:0.367296 auc:0.5803\n",
      "epoch: 160 loss:0.363702 auc:0.5816\n",
      "epoch: 180 loss:0.358864 auc:0.5862\n",
      "epoch: 200 loss:0.352393 auc:0.5766\n"
     ]
    },
    {
     "name": "stderr",
     "output_type": "stream",
     "text": [
      " 82%|████████▏ | 376/460 [59:39<12:54,  9.22s/it]"
     ]
    },
    {
     "name": "stdout",
     "output_type": "stream",
     "text": [
      "epoch: 220 loss:0.345827 auc:0.5611\n",
      "Fit finished.\n",
      "epoch:   0 loss:0.793083 auc:0.5251\n",
      "epoch:  20 loss:0.403680 auc:0.5096\n",
      "epoch:  40 loss:0.377604 auc:0.5405\n",
      "epoch:  60 loss:0.372899 auc:0.5665\n",
      "epoch:  80 loss:0.371405 auc:0.5873\n",
      "epoch: 100 loss:0.370606 auc:0.6012\n",
      "epoch: 120 loss:0.369823 auc:0.6093\n",
      "epoch: 140 loss:0.368796 auc:0.6152\n",
      "epoch: 160 loss:0.367014 auc:0.6241\n",
      "epoch: 180 loss:0.363397 auc:0.6552\n",
      "epoch: 200 loss:0.358124 auc:0.7078\n",
      "epoch: 220 loss:0.352059 auc:0.7140\n",
      "epoch: 240 loss:0.344557 auc:0.7063\n",
      "epoch: 260 loss:0.337405 auc:0.6871\n",
      "epoch: 280 loss:0.331569 auc:0.6693\n",
      "epoch: 300 loss:0.325621 auc:0.6273\n",
      "epoch: 320 loss:0.317229 auc:0.6638\n"
     ]
    },
    {
     "name": "stderr",
     "output_type": "stream",
     "text": [
      " 82%|████████▏ | 377/460 [59:51<14:06, 10.20s/it]"
     ]
    },
    {
     "name": "stdout",
     "output_type": "stream",
     "text": [
      "epoch: 340 loss:0.308711 auc:0.6237\n",
      "Fit finished.\n",
      "epoch:   0 loss:0.762441 auc:0.5571\n",
      "epoch:  20 loss:0.393174 auc:0.6592\n",
      "epoch:  40 loss:0.375786 auc:0.6929\n",
      "epoch:  60 loss:0.372527 auc:0.7007\n",
      "epoch:  80 loss:0.370989 auc:0.7128\n",
      "epoch: 100 loss:0.369482 auc:0.7154\n",
      "epoch: 120 loss:0.367049 auc:0.7284\n",
      "epoch: 140 loss:0.363132 auc:0.7561\n",
      "epoch: 160 loss:0.358557 auc:0.7630\n",
      "epoch: 180 loss:0.353648 auc:0.7682\n",
      "epoch: 200 loss:0.347843 auc:0.7612\n",
      "epoch: 220 loss:0.340107 auc:0.7552\n",
      "epoch: 240 loss:0.329782 auc:0.7388\n",
      "epoch: 260 loss:0.323981 auc:0.7310\n"
     ]
    },
    {
     "name": "stderr",
     "output_type": "stream",
     "text": [
      " 82%|████████▏ | 378/460 [1:00:02<14:05, 10.31s/it]"
     ]
    },
    {
     "name": "stdout",
     "output_type": "stream",
     "text": [
      "epoch: 280 loss:0.313155 auc:0.7249\n",
      "Fit finished.\n",
      "epoch:   0 loss:0.742751 auc:0.5306\n",
      "epoch:  20 loss:0.392076 auc:0.4435\n",
      "epoch:  40 loss:0.374302 auc:0.4366\n",
      "epoch:  60 loss:0.371229 auc:0.4364\n",
      "epoch:  80 loss:0.369684 auc:0.4365\n",
      "epoch: 100 loss:0.367908 auc:0.4331\n",
      "epoch: 120 loss:0.364602 auc:0.4265\n",
      "epoch: 140 loss:0.359003 auc:0.4126\n"
     ]
    },
    {
     "name": "stderr",
     "output_type": "stream",
     "text": [
      " 82%|████████▏ | 379/460 [1:00:08<12:12,  9.04s/it]"
     ]
    },
    {
     "name": "stdout",
     "output_type": "stream",
     "text": [
      "epoch: 160 loss:0.353651 auc:0.4004\n",
      "Fit finished.\n",
      "epoch:   0 loss:0.766488 auc:0.4370\n",
      "epoch:  20 loss:0.392622 auc:0.4558\n",
      "epoch:  40 loss:0.377625 auc:0.4516\n",
      "epoch:  60 loss:0.372985 auc:0.4610\n",
      "epoch:  80 loss:0.371377 auc:0.4693\n",
      "epoch: 100 loss:0.370198 auc:0.4714\n",
      "epoch: 120 loss:0.368629 auc:0.4766\n",
      "epoch: 140 loss:0.365814 auc:0.4818\n",
      "epoch: 160 loss:0.360930 auc:0.4984\n",
      "epoch: 180 loss:0.355029 auc:0.4860\n"
     ]
    },
    {
     "name": "stderr",
     "output_type": "stream",
     "text": [
      " 83%|████████▎ | 380/460 [1:00:17<11:54,  8.93s/it]"
     ]
    },
    {
     "name": "stdout",
     "output_type": "stream",
     "text": [
      "epoch: 200 loss:0.348318 auc:0.4433\n",
      "Fit finished.\n",
      "epoch:   0 loss:0.735985 auc:0.5531\n",
      "epoch:  20 loss:0.390972 auc:0.4536\n",
      "epoch:  40 loss:0.374399 auc:0.3915\n",
      "epoch:  60 loss:0.371983 auc:0.3583\n",
      "epoch:  80 loss:0.370891 auc:0.3400\n",
      "epoch: 100 loss:0.369806 auc:0.3177\n",
      "epoch: 120 loss:0.368077 auc:0.2791\n",
      "epoch: 140 loss:0.364556 auc:0.2291\n"
     ]
    },
    {
     "name": "stderr",
     "output_type": "stream",
     "text": [
      " 83%|████████▎ | 381/460 [1:00:24<10:55,  8.30s/it]"
     ]
    },
    {
     "name": "stdout",
     "output_type": "stream",
     "text": [
      "epoch: 160 loss:0.359382 auc:0.1850\n",
      "Fit finished.\n",
      "epoch:   0 loss:0.806820 auc:0.5418\n",
      "epoch:  20 loss:0.399693 auc:0.5105\n",
      "epoch:  40 loss:0.378613 auc:0.4996\n",
      "epoch:  60 loss:0.373663 auc:0.4945\n",
      "epoch:  80 loss:0.371943 auc:0.4928\n",
      "epoch: 100 loss:0.371152 auc:0.4914\n",
      "epoch: 120 loss:0.370604 auc:0.4960\n",
      "epoch: 140 loss:0.370061 auc:0.5008\n"
     ]
    },
    {
     "name": "stderr",
     "output_type": "stream",
     "text": [
      " 83%|████████▎ | 382/460 [1:00:30<10:13,  7.87s/it]"
     ]
    },
    {
     "name": "stdout",
     "output_type": "stream",
     "text": [
      "epoch: 160 loss:0.369413 auc:0.5076\n",
      "Fit finished.\n",
      "epoch:   0 loss:0.990584 auc:0.4798\n",
      "epoch:  20 loss:0.410490 auc:0.4727\n",
      "epoch:  40 loss:0.380644 auc:0.4714\n",
      "epoch:  60 loss:0.373837 auc:0.4772\n",
      "epoch:  80 loss:0.371580 auc:0.4794\n",
      "epoch: 100 loss:0.370660 auc:0.4787\n",
      "epoch: 120 loss:0.369994 auc:0.4763\n",
      "epoch: 140 loss:0.369304 auc:0.4711\n"
     ]
    },
    {
     "name": "stderr",
     "output_type": "stream",
     "text": [
      " 83%|████████▎ | 383/460 [1:00:37<09:43,  7.58s/it]"
     ]
    },
    {
     "name": "stdout",
     "output_type": "stream",
     "text": [
      "epoch: 160 loss:0.368412 auc:0.4661\n",
      "Fit finished.\n",
      "epoch:   0 loss:0.835489 auc:0.5076\n",
      "epoch:  20 loss:0.405080 auc:0.4808\n",
      "epoch:  40 loss:0.376890 auc:0.4745\n",
      "epoch:  60 loss:0.372097 auc:0.4729\n",
      "epoch:  80 loss:0.370568 auc:0.4692\n",
      "epoch: 100 loss:0.369446 auc:0.4653\n",
      "epoch: 120 loss:0.368000 auc:0.4654\n",
      "epoch: 140 loss:0.365426 auc:0.4656\n"
     ]
    },
    {
     "name": "stderr",
     "output_type": "stream",
     "text": [
      " 83%|████████▎ | 384/460 [1:00:44<09:14,  7.30s/it]"
     ]
    },
    {
     "name": "stdout",
     "output_type": "stream",
     "text": [
      "epoch: 160 loss:0.361210 auc:0.4605\n",
      "Fit finished.\n",
      "epoch:   0 loss:0.754874 auc:0.5244\n",
      "epoch:  20 loss:0.392796 auc:0.5838\n",
      "epoch:  40 loss:0.375414 auc:0.6053\n",
      "epoch:  60 loss:0.372213 auc:0.6045\n",
      "epoch:  80 loss:0.371060 auc:0.6037\n",
      "epoch: 100 loss:0.370280 auc:0.5991\n",
      "epoch: 120 loss:0.369362 auc:0.5929\n",
      "epoch: 140 loss:0.367940 auc:0.5889\n",
      "epoch: 160 loss:0.365300 auc:0.5921\n",
      "epoch: 180 loss:0.360585 auc:0.6059\n",
      "epoch: 200 loss:0.354930 auc:0.6221\n",
      "epoch: 220 loss:0.350116 auc:0.6312\n",
      "epoch: 240 loss:0.341994 auc:0.6293\n",
      "epoch: 260 loss:0.332835 auc:0.6084\n"
     ]
    },
    {
     "name": "stderr",
     "output_type": "stream",
     "text": [
      " 84%|████████▎ | 385/460 [1:00:54<10:14,  8.20s/it]"
     ]
    },
    {
     "name": "stdout",
     "output_type": "stream",
     "text": [
      "epoch: 280 loss:0.323781 auc:0.5799\n",
      "Fit finished.\n",
      "epoch:   0 loss:0.706879 auc:0.5432\n",
      "epoch:  20 loss:0.404613 auc:0.5350\n",
      "epoch:  40 loss:0.380494 auc:0.6045\n",
      "epoch:  60 loss:0.374123 auc:0.6246\n",
      "epoch:  80 loss:0.371924 auc:0.6291\n",
      "epoch: 100 loss:0.370954 auc:0.6230\n",
      "epoch: 120 loss:0.370218 auc:0.6133\n",
      "epoch: 140 loss:0.369444 auc:0.6042\n",
      "epoch: 160 loss:0.368434 auc:0.5956\n",
      "epoch: 180 loss:0.366837 auc:0.5868\n"
     ]
    },
    {
     "name": "stderr",
     "output_type": "stream",
     "text": [
      " 84%|████████▍ | 386/460 [1:01:03<10:21,  8.40s/it]"
     ]
    },
    {
     "name": "stdout",
     "output_type": "stream",
     "text": [
      "epoch: 200 loss:0.364058 auc:0.5815\n",
      "Fit finished.\n",
      "epoch:   0 loss:0.732933 auc:0.4481\n",
      "epoch:  20 loss:0.388420 auc:0.4349\n",
      "epoch:  40 loss:0.373264 auc:0.4563\n",
      "epoch:  60 loss:0.370772 auc:0.4903\n",
      "epoch:  80 loss:0.369522 auc:0.4933\n",
      "epoch: 100 loss:0.368130 auc:0.4992\n",
      "epoch: 120 loss:0.365703 auc:0.5176\n",
      "epoch: 140 loss:0.361294 auc:0.5592\n",
      "epoch: 160 loss:0.355881 auc:0.5777\n",
      "epoch: 180 loss:0.349183 auc:0.5663\n",
      "epoch: 200 loss:0.341364 auc:0.5685\n",
      "epoch: 220 loss:0.330285 auc:0.5783\n",
      "epoch: 240 loss:0.320332 auc:0.5957\n",
      "epoch: 260 loss:0.311593 auc:0.6033\n",
      "epoch: 280 loss:0.305818 auc:0.5830\n",
      "epoch: 300 loss:0.297186 auc:0.5927\n"
     ]
    },
    {
     "name": "stderr",
     "output_type": "stream",
     "text": [
      " 84%|████████▍ | 387/460 [1:01:17<12:02,  9.90s/it]"
     ]
    },
    {
     "name": "stdout",
     "output_type": "stream",
     "text": [
      "epoch: 320 loss:0.327344 auc:0.4939\n",
      "Fit finished.\n",
      "epoch:   0 loss:0.788012 auc:0.5845\n",
      "epoch:  20 loss:0.406815 auc:0.2133\n",
      "epoch:  40 loss:0.379556 auc:0.2156\n",
      "epoch:  60 loss:0.373956 auc:0.2285\n",
      "epoch:  80 loss:0.372395 auc:0.2465\n",
      "epoch: 100 loss:0.371507 auc:0.2673\n",
      "epoch: 120 loss:0.370634 auc:0.2862\n",
      "epoch: 140 loss:0.369480 auc:0.3430\n"
     ]
    },
    {
     "name": "stderr",
     "output_type": "stream",
     "text": [
      " 84%|████████▍ | 388/460 [1:01:22<10:13,  8.52s/it]"
     ]
    },
    {
     "name": "stdout",
     "output_type": "stream",
     "text": [
      "epoch: 160 loss:0.367591 auc:0.3952\n",
      "Fit finished.\n",
      "epoch:   0 loss:0.741452 auc:0.5269\n",
      "epoch:  20 loss:0.388942 auc:0.5115\n",
      "epoch:  40 loss:0.374222 auc:0.5068\n",
      "epoch:  60 loss:0.371537 auc:0.5090\n",
      "epoch:  80 loss:0.370229 auc:0.5173\n",
      "epoch: 100 loss:0.368815 auc:0.5277\n",
      "epoch: 120 loss:0.366062 auc:0.5346\n",
      "epoch: 140 loss:0.360930 auc:0.5498\n",
      "epoch: 160 loss:0.355322 auc:0.5303\n"
     ]
    },
    {
     "name": "stderr",
     "output_type": "stream",
     "text": [
      " 85%|████████▍ | 389/460 [1:01:29<09:43,  8.22s/it]"
     ]
    },
    {
     "name": "stdout",
     "output_type": "stream",
     "text": [
      "epoch: 180 loss:0.349776 auc:0.5091\n",
      "Fit finished.\n",
      "epoch:   0 loss:0.857114 auc:0.4827\n",
      "epoch:  20 loss:0.395736 auc:0.4594\n",
      "epoch:  40 loss:0.377409 auc:0.4318\n",
      "epoch:  60 loss:0.372850 auc:0.4236\n",
      "epoch:  80 loss:0.371253 auc:0.4165\n",
      "epoch: 100 loss:0.370222 auc:0.4116\n",
      "epoch: 120 loss:0.368942 auc:0.4071\n",
      "epoch: 140 loss:0.366701 auc:0.4041\n"
     ]
    },
    {
     "name": "stderr",
     "output_type": "stream",
     "text": [
      " 85%|████████▍ | 390/460 [1:01:36<09:07,  7.81s/it]"
     ]
    },
    {
     "name": "stdout",
     "output_type": "stream",
     "text": [
      "epoch: 160 loss:0.362698 auc:0.3923\n",
      "Fit finished.\n",
      "epoch:   0 loss:0.816779 auc:0.7155\n",
      "epoch:  20 loss:0.420593 auc:0.8971\n",
      "epoch:  40 loss:0.383317 auc:0.8822\n",
      "epoch:  60 loss:0.375175 auc:0.6810\n",
      "epoch:  80 loss:0.372859 auc:0.4603\n",
      "epoch: 100 loss:0.371908 auc:0.2305\n",
      "epoch: 120 loss:0.371194 auc:0.1641\n",
      "epoch: 140 loss:0.370404 auc:0.1289\n"
     ]
    },
    {
     "name": "stderr",
     "output_type": "stream",
     "text": [
      " 85%|████████▌ | 391/460 [1:01:43<08:38,  7.51s/it]"
     ]
    },
    {
     "name": "stdout",
     "output_type": "stream",
     "text": [
      "epoch: 160 loss:0.369333 auc:0.1152\n",
      "Fit finished.\n",
      "epoch:   0 loss:0.841633 auc:0.6907\n",
      "epoch:  20 loss:0.397141 auc:0.3603\n",
      "epoch:  40 loss:0.378490 auc:0.2362\n",
      "epoch:  60 loss:0.373732 auc:0.2127\n",
      "epoch:  80 loss:0.372195 auc:0.1934\n",
      "epoch: 100 loss:0.371305 auc:0.1799\n",
      "epoch: 120 loss:0.370399 auc:0.1693\n",
      "epoch: 140 loss:0.369178 auc:0.1573\n"
     ]
    },
    {
     "name": "stderr",
     "output_type": "stream",
     "text": [
      " 85%|████████▌ | 392/460 [1:01:50<08:20,  7.36s/it]"
     ]
    },
    {
     "name": "stdout",
     "output_type": "stream",
     "text": [
      "epoch: 160 loss:0.367210 auc:0.1484\n",
      "Fit finished.\n",
      "epoch:   0 loss:0.792170 auc:0.5012\n",
      "epoch:  20 loss:0.384041 auc:0.3302\n",
      "epoch:  40 loss:0.374259 auc:0.2569\n",
      "epoch:  60 loss:0.371709 auc:0.2466\n",
      "epoch:  80 loss:0.370369 auc:0.2416\n",
      "epoch: 100 loss:0.368368 auc:0.2357\n",
      "epoch: 120 loss:0.364072 auc:0.2185\n",
      "epoch: 140 loss:0.357721 auc:0.2088\n"
     ]
    },
    {
     "name": "stderr",
     "output_type": "stream",
     "text": [
      " 85%|████████▌ | 393/460 [1:01:57<08:02,  7.20s/it]"
     ]
    },
    {
     "name": "stdout",
     "output_type": "stream",
     "text": [
      "epoch: 160 loss:0.360989 auc:0.1773\n",
      "Fit finished.\n",
      "epoch:   0 loss:0.905534 auc:0.4306\n",
      "epoch:  20 loss:0.408145 auc:0.6806\n",
      "epoch:  40 loss:0.380837 auc:0.7083\n",
      "epoch:  60 loss:0.374160 auc:0.7222\n",
      "epoch:  80 loss:0.372403 auc:0.7153\n",
      "epoch: 100 loss:0.371605 auc:0.7500\n",
      "epoch: 120 loss:0.370977 auc:0.7639\n",
      "epoch: 140 loss:0.370233 auc:0.7708\n",
      "epoch: 160 loss:0.369089 auc:0.7708\n",
      "epoch: 180 loss:0.366876 auc:0.7708\n",
      "epoch: 200 loss:0.362228 auc:0.8333\n",
      "epoch: 220 loss:0.356613 auc:0.8611\n",
      "epoch: 240 loss:0.349607 auc:0.9028\n",
      "epoch: 260 loss:0.341838 auc:0.8958\n",
      "epoch: 280 loss:0.334787 auc:0.8889\n",
      "epoch: 300 loss:0.328240 auc:0.8958\n",
      "epoch: 320 loss:0.319890 auc:0.8889\n",
      "epoch: 340 loss:0.311771 auc:0.8611\n",
      "epoch: 360 loss:0.303769 auc:0.8611\n"
     ]
    },
    {
     "name": "stderr",
     "output_type": "stream",
     "text": [
      " 86%|████████▌ | 394/460 [1:02:14<11:08, 10.13s/it]"
     ]
    },
    {
     "name": "stdout",
     "output_type": "stream",
     "text": [
      "epoch: 380 loss:0.297860 auc:0.8472\n",
      "Fit finished.\n",
      "epoch:   0 loss:0.809936 auc:0.6187\n",
      "epoch:  20 loss:0.397732 auc:0.6722\n",
      "epoch:  40 loss:0.376318 auc:0.7051\n",
      "epoch:  60 loss:0.372947 auc:0.7160\n",
      "epoch:  80 loss:0.371603 auc:0.7188\n",
      "epoch: 100 loss:0.370741 auc:0.7284\n",
      "epoch: 120 loss:0.369718 auc:0.7339\n",
      "epoch: 140 loss:0.368124 auc:0.7503\n",
      "epoch: 160 loss:0.365122 auc:0.7654\n",
      "epoch: 180 loss:0.360264 auc:0.7888\n",
      "epoch: 200 loss:0.354269 auc:0.8038\n",
      "epoch: 220 loss:0.352086 auc:0.8272\n",
      "epoch: 240 loss:0.340514 auc:0.8258\n",
      "epoch: 260 loss:0.329184 auc:0.7956\n",
      "epoch: 280 loss:0.318151 auc:0.7791\n",
      "epoch: 300 loss:0.309232 auc:0.7682\n",
      "epoch: 320 loss:0.308622 auc:0.7805\n",
      "epoch: 340 loss:0.297164 auc:0.7915\n"
     ]
    },
    {
     "name": "stderr",
     "output_type": "stream",
     "text": [
      " 86%|████████▌ | 395/460 [1:02:27<12:00, 11.09s/it]"
     ]
    },
    {
     "name": "stdout",
     "output_type": "stream",
     "text": [
      "epoch: 360 loss:0.291346 auc:0.7929\n",
      "Fit finished.\n",
      "epoch:   0 loss:0.814082 auc:0.5113\n",
      "epoch:  20 loss:0.400469 auc:0.4065\n",
      "epoch:  40 loss:0.377365 auc:0.3256\n",
      "epoch:  60 loss:0.373189 auc:0.3256\n",
      "epoch:  80 loss:0.371604 auc:0.3347\n",
      "epoch: 100 loss:0.370348 auc:0.3341\n",
      "epoch: 120 loss:0.368515 auc:0.3454\n",
      "epoch: 140 loss:0.365177 auc:0.3442\n"
     ]
    },
    {
     "name": "stderr",
     "output_type": "stream",
     "text": [
      " 86%|████████▌ | 396/460 [1:02:34<10:28,  9.82s/it]"
     ]
    },
    {
     "name": "stdout",
     "output_type": "stream",
     "text": [
      "epoch: 160 loss:0.360438 auc:0.3158\n",
      "Fit finished.\n",
      "epoch:   0 loss:0.976699 auc:0.5023\n",
      "epoch:  20 loss:0.398879 auc:0.5229\n",
      "epoch:  40 loss:0.379608 auc:0.4457\n",
      "epoch:  60 loss:0.374359 auc:0.4208\n",
      "epoch:  80 loss:0.372521 auc:0.3982\n",
      "epoch: 100 loss:0.371728 auc:0.3809\n",
      "epoch: 120 loss:0.371210 auc:0.3697\n",
      "epoch: 140 loss:0.370728 auc:0.3581\n"
     ]
    },
    {
     "name": "stderr",
     "output_type": "stream",
     "text": [
      " 86%|████████▋ | 397/460 [1:02:42<09:38,  9.19s/it]"
     ]
    },
    {
     "name": "stdout",
     "output_type": "stream",
     "text": [
      "epoch: 160 loss:0.370180 auc:0.3450\n",
      "Fit finished.\n",
      "epoch:   0 loss:0.827574 auc:0.4282\n",
      "epoch:  20 loss:0.402770 auc:0.4418\n",
      "epoch:  40 loss:0.376431 auc:0.3989\n",
      "epoch:  60 loss:0.372020 auc:0.3643\n",
      "epoch:  80 loss:0.370485 auc:0.3403\n",
      "epoch: 100 loss:0.369430 auc:0.3296\n",
      "epoch: 120 loss:0.368063 auc:0.3308\n",
      "epoch: 140 loss:0.365526 auc:0.3427\n"
     ]
    },
    {
     "name": "stderr",
     "output_type": "stream",
     "text": [
      " 87%|████████▋ | 398/460 [1:02:49<08:48,  8.52s/it]"
     ]
    },
    {
     "name": "stdout",
     "output_type": "stream",
     "text": [
      "epoch: 160 loss:0.360903 auc:0.3566\n",
      "Fit finished.\n",
      "epoch:   0 loss:1.192584 auc:0.5285\n",
      "epoch:  20 loss:0.400022 auc:0.4948\n",
      "epoch:  40 loss:0.377761 auc:0.5429\n",
      "epoch:  60 loss:0.372564 auc:0.5677\n",
      "epoch:  80 loss:0.371049 auc:0.5827\n",
      "epoch: 100 loss:0.370282 auc:0.5946\n",
      "epoch: 120 loss:0.369527 auc:0.6000\n",
      "epoch: 140 loss:0.368477 auc:0.6041\n",
      "epoch: 160 loss:0.366535 auc:0.6069\n",
      "epoch: 180 loss:0.362301 auc:0.6041\n",
      "epoch: 200 loss:0.356385 auc:0.6025\n",
      "epoch: 220 loss:0.350939 auc:0.5945\n",
      "epoch: 240 loss:0.344769 auc:0.5833\n"
     ]
    },
    {
     "name": "stderr",
     "output_type": "stream",
     "text": [
      " 87%|████████▋ | 399/460 [1:03:00<09:25,  9.27s/it]"
     ]
    },
    {
     "name": "stdout",
     "output_type": "stream",
     "text": [
      "epoch: 260 loss:0.338801 auc:0.5812\n",
      "Fit finished.\n",
      "epoch:   0 loss:0.908781 auc:0.5195\n",
      "epoch:  20 loss:0.408459 auc:0.5037\n",
      "epoch:  40 loss:0.379320 auc:0.4962\n",
      "epoch:  60 loss:0.373125 auc:0.4980\n",
      "epoch:  80 loss:0.371254 auc:0.4956\n",
      "epoch: 100 loss:0.370373 auc:0.4897\n",
      "epoch: 120 loss:0.369613 auc:0.4827\n",
      "epoch: 140 loss:0.368648 auc:0.4756\n"
     ]
    },
    {
     "name": "stderr",
     "output_type": "stream",
     "text": [
      " 87%|████████▋ | 400/460 [1:03:06<08:29,  8.49s/it]"
     ]
    },
    {
     "name": "stdout",
     "output_type": "stream",
     "text": [
      "epoch: 160 loss:0.367087 auc:0.4690\n",
      "Fit finished.\n",
      "epoch:   0 loss:0.716387 auc:0.5275\n",
      "epoch:  20 loss:0.394918 auc:0.5417\n",
      "epoch:  40 loss:0.376178 auc:0.5669\n",
      "epoch:  60 loss:0.372325 auc:0.5646\n",
      "epoch:  80 loss:0.370893 auc:0.5639\n",
      "epoch: 100 loss:0.369841 auc:0.5598\n",
      "epoch: 120 loss:0.368458 auc:0.5521\n",
      "epoch: 140 loss:0.365819 auc:0.5344\n"
     ]
    },
    {
     "name": "stderr",
     "output_type": "stream",
     "text": [
      " 87%|████████▋ | 401/460 [1:03:13<07:50,  7.97s/it]"
     ]
    },
    {
     "name": "stdout",
     "output_type": "stream",
     "text": [
      "epoch: 160 loss:0.360055 auc:0.5153\n",
      "Fit finished.\n",
      "epoch:   0 loss:0.735452 auc:0.5184\n",
      "epoch:  20 loss:0.393055 auc:0.4915\n",
      "epoch:  40 loss:0.377220 auc:0.5291\n",
      "epoch:  60 loss:0.372720 auc:0.5454\n",
      "epoch:  80 loss:0.371341 auc:0.5610\n",
      "epoch: 100 loss:0.370381 auc:0.5781\n",
      "epoch: 120 loss:0.369297 auc:0.5940\n",
      "epoch: 140 loss:0.367574 auc:0.6114\n",
      "epoch: 160 loss:0.363943 auc:0.6429\n",
      "epoch: 180 loss:0.357911 auc:0.6627\n",
      "epoch: 200 loss:0.351644 auc:0.6624\n",
      "epoch: 220 loss:0.343691 auc:0.6605\n",
      "epoch: 240 loss:0.333809 auc:0.6477\n",
      "epoch: 260 loss:0.325952 auc:0.6349\n",
      "epoch: 280 loss:0.316047 auc:0.6328\n",
      "epoch: 300 loss:0.307943 auc:0.6230\n"
     ]
    },
    {
     "name": "stderr",
     "output_type": "stream",
     "text": [
      " 87%|████████▋ | 402/460 [1:03:26<09:04,  9.39s/it]"
     ]
    },
    {
     "name": "stdout",
     "output_type": "stream",
     "text": [
      "epoch: 320 loss:0.300466 auc:0.6153\n",
      "Fit finished.\n",
      "epoch:   0 loss:0.737504 auc:0.5693\n",
      "epoch:  20 loss:0.392959 auc:0.6351\n",
      "epoch:  40 loss:0.375707 auc:0.6365\n",
      "epoch:  60 loss:0.372311 auc:0.6337\n",
      "epoch:  80 loss:0.371244 auc:0.6420\n",
      "epoch: 100 loss:0.370310 auc:0.6283\n",
      "epoch: 120 loss:0.368940 auc:0.6461\n",
      "epoch: 140 loss:0.366230 auc:0.6872\n",
      "epoch: 160 loss:0.360620 auc:0.7064\n",
      "epoch: 180 loss:0.354218 auc:0.7407\n",
      "epoch: 200 loss:0.347593 auc:0.7846\n",
      "epoch: 220 loss:0.337576 auc:0.7970\n",
      "epoch: 240 loss:0.333079 auc:0.7874\n",
      "epoch: 260 loss:0.317805 auc:0.7641\n",
      "epoch: 280 loss:0.310917 auc:0.7819\n",
      "epoch: 300 loss:0.300615 auc:0.7586\n",
      "epoch: 320 loss:0.293647 auc:0.7613\n",
      "epoch: 340 loss:0.288340 auc:0.7586\n"
     ]
    },
    {
     "name": "stderr",
     "output_type": "stream",
     "text": [
      " 88%|████████▊ | 403/460 [1:03:40<10:24, 10.95s/it]"
     ]
    },
    {
     "name": "stdout",
     "output_type": "stream",
     "text": [
      "epoch: 360 loss:0.283913 auc:0.7586\n",
      "Fit finished.\n",
      "epoch:   0 loss:0.813145 auc:0.5180\n",
      "epoch:  20 loss:0.396879 auc:0.5066\n",
      "epoch:  40 loss:0.377237 auc:0.4816\n",
      "epoch:  60 loss:0.372588 auc:0.4873\n",
      "epoch:  80 loss:0.370855 auc:0.4917\n",
      "epoch: 100 loss:0.370021 auc:0.4955\n",
      "epoch: 120 loss:0.369134 auc:0.5004\n",
      "epoch: 140 loss:0.367841 auc:0.5067\n",
      "epoch: 160 loss:0.365582 auc:0.5181\n",
      "epoch: 180 loss:0.361656 auc:0.5338\n",
      "epoch: 200 loss:0.356979 auc:0.5308\n",
      "epoch: 220 loss:0.352276 auc:0.5232\n",
      "epoch: 240 loss:0.347047 auc:0.5095\n"
     ]
    },
    {
     "name": "stderr",
     "output_type": "stream",
     "text": [
      " 88%|████████▊ | 404/460 [1:03:50<09:51, 10.56s/it]"
     ]
    },
    {
     "name": "stdout",
     "output_type": "stream",
     "text": [
      "epoch: 260 loss:0.340592 auc:0.4916\n",
      "Fit finished.\n",
      "epoch:   0 loss:0.711445 auc:0.6044\n",
      "epoch:  20 loss:0.391677 auc:0.5022\n",
      "epoch:  40 loss:0.375673 auc:0.5244\n",
      "epoch:  60 loss:0.372677 auc:0.5733\n",
      "epoch:  80 loss:0.371407 auc:0.5822\n",
      "epoch: 100 loss:0.370454 auc:0.5956\n",
      "epoch: 120 loss:0.369228 auc:0.6044\n",
      "epoch: 140 loss:0.367113 auc:0.6178\n",
      "epoch: 160 loss:0.363175 auc:0.6667\n",
      "epoch: 180 loss:0.357952 auc:0.7733\n",
      "epoch: 200 loss:0.352116 auc:0.8000\n",
      "epoch: 220 loss:0.345632 auc:0.7911\n",
      "epoch: 240 loss:0.338076 auc:0.7200\n",
      "epoch: 260 loss:0.328620 auc:0.7289\n",
      "epoch: 280 loss:0.319423 auc:0.7333\n",
      "epoch: 300 loss:0.311728 auc:0.6667\n",
      "epoch: 320 loss:0.304460 auc:0.6889\n"
     ]
    },
    {
     "name": "stderr",
     "output_type": "stream",
     "text": [
      " 88%|████████▊ | 405/460 [1:04:03<10:26, 11.39s/it]"
     ]
    },
    {
     "name": "stdout",
     "output_type": "stream",
     "text": [
      "epoch: 340 loss:0.298889 auc:0.6889\n",
      "Fit finished.\n",
      "epoch:   0 loss:0.677783 auc:0.5575\n",
      "epoch:  20 loss:0.397294 auc:0.5173\n",
      "epoch:  40 loss:0.376837 auc:0.4693\n",
      "epoch:  60 loss:0.373296 auc:0.4564\n",
      "epoch:  80 loss:0.371754 auc:0.4417\n",
      "epoch: 100 loss:0.370674 auc:0.4139\n",
      "epoch: 120 loss:0.369292 auc:0.3923\n",
      "epoch: 140 loss:0.366913 auc:0.3773\n"
     ]
    },
    {
     "name": "stderr",
     "output_type": "stream",
     "text": [
      " 88%|████████▊ | 406/460 [1:04:10<08:52,  9.86s/it]"
     ]
    },
    {
     "name": "stdout",
     "output_type": "stream",
     "text": [
      "epoch: 160 loss:0.362387 auc:0.3544\n",
      "Fit finished.\n",
      "epoch:   0 loss:0.771439 auc:0.4989\n",
      "epoch:  20 loss:0.393853 auc:0.5044\n",
      "epoch:  40 loss:0.376449 auc:0.5800\n",
      "epoch:  60 loss:0.372736 auc:0.6100\n",
      "epoch:  80 loss:0.371435 auc:0.6289\n",
      "epoch: 100 loss:0.370327 auc:0.6611\n",
      "epoch: 120 loss:0.368780 auc:0.6811\n",
      "epoch: 140 loss:0.365931 auc:0.7033\n",
      "epoch: 160 loss:0.360928 auc:0.7278\n",
      "epoch: 180 loss:0.354812 auc:0.7367\n",
      "epoch: 200 loss:0.348442 auc:0.7444\n",
      "epoch: 220 loss:0.338792 auc:0.7222\n",
      "epoch: 240 loss:0.328558 auc:0.6844\n",
      "epoch: 260 loss:0.325565 auc:0.6989\n"
     ]
    },
    {
     "name": "stderr",
     "output_type": "stream",
     "text": [
      " 88%|████████▊ | 407/460 [1:04:21<09:12, 10.42s/it]"
     ]
    },
    {
     "name": "stdout",
     "output_type": "stream",
     "text": [
      "epoch: 280 loss:0.311022 auc:0.6722\n",
      "Fit finished.\n",
      "epoch:   0 loss:0.790265 auc:0.5210\n",
      "epoch:  20 loss:0.403105 auc:0.5675\n",
      "epoch:  40 loss:0.378044 auc:0.5847\n",
      "epoch:  60 loss:0.373333 auc:0.6045\n",
      "epoch:  80 loss:0.371633 auc:0.6225\n",
      "epoch: 100 loss:0.370910 auc:0.6351\n",
      "epoch: 120 loss:0.370387 auc:0.6484\n",
      "epoch: 140 loss:0.369875 auc:0.6555\n",
      "epoch: 160 loss:0.369299 auc:0.6599\n",
      "epoch: 180 loss:0.368584 auc:0.6628\n",
      "epoch: 200 loss:0.367569 auc:0.6666\n",
      "epoch: 220 loss:0.365779 auc:0.6744\n",
      "epoch: 240 loss:0.362141 auc:0.6961\n",
      "epoch: 260 loss:0.356637 auc:0.7250\n",
      "epoch: 280 loss:0.353102 auc:0.7352\n",
      "epoch: 300 loss:0.346150 auc:0.7444\n",
      "epoch: 320 loss:0.337303 auc:0.7382\n",
      "epoch: 340 loss:0.333505 auc:0.6980\n",
      "epoch: 360 loss:0.323097 auc:0.7365\n",
      "epoch: 380 loss:0.315308 auc:0.7336\n",
      "epoch: 400 loss:0.308503 auc:0.7389\n",
      "epoch: 420 loss:0.302372 auc:0.7326\n"
     ]
    },
    {
     "name": "stderr",
     "output_type": "stream",
     "text": [
      " 89%|████████▊ | 408/460 [1:04:39<10:49, 12.49s/it]"
     ]
    },
    {
     "name": "stdout",
     "output_type": "stream",
     "text": [
      "epoch: 440 loss:0.314506 auc:0.7300\n",
      "Fit finished.\n",
      "epoch:   0 loss:0.733879 auc:0.4104\n",
      "epoch:  20 loss:0.391345 auc:0.5388\n",
      "epoch:  40 loss:0.374450 auc:0.5027\n",
      "epoch:  60 loss:0.371956 auc:0.4921\n",
      "epoch:  80 loss:0.370874 auc:0.4897\n",
      "epoch: 100 loss:0.369876 auc:0.4764\n",
      "epoch: 120 loss:0.368439 auc:0.4686\n",
      "epoch: 140 loss:0.365726 auc:0.4619\n",
      "epoch: 160 loss:0.361198 auc:0.4608\n"
     ]
    },
    {
     "name": "stderr",
     "output_type": "stream",
     "text": [
      " 89%|████████▉ | 409/460 [1:04:45<08:56, 10.53s/it]"
     ]
    },
    {
     "name": "stdout",
     "output_type": "stream",
     "text": [
      "epoch: 180 loss:0.356313 auc:0.4728\n",
      "Fit finished.\n",
      "epoch:   0 loss:0.803771 auc:0.4458\n",
      "epoch:  20 loss:0.390762 auc:0.4409\n",
      "epoch:  40 loss:0.377403 auc:0.4746\n",
      "epoch:  60 loss:0.373288 auc:0.4949\n",
      "epoch:  80 loss:0.371948 auc:0.5441\n",
      "epoch: 100 loss:0.371068 auc:0.5742\n",
      "epoch: 120 loss:0.370046 auc:0.6182\n",
      "epoch: 140 loss:0.368352 auc:0.6453\n",
      "epoch: 160 loss:0.364868 auc:0.6633\n",
      "epoch: 180 loss:0.359422 auc:0.6851\n",
      "epoch: 200 loss:0.354845 auc:0.6938\n",
      "epoch: 220 loss:0.350326 auc:0.6960\n",
      "epoch: 240 loss:0.345421 auc:0.6902\n",
      "epoch: 260 loss:0.337243 auc:0.6768\n",
      "epoch: 280 loss:0.328134 auc:0.6292\n"
     ]
    },
    {
     "name": "stderr",
     "output_type": "stream",
     "text": [
      " 89%|████████▉ | 410/460 [1:04:57<09:17, 11.16s/it]"
     ]
    },
    {
     "name": "stdout",
     "output_type": "stream",
     "text": [
      "epoch: 300 loss:0.322710 auc:0.5784\n",
      "Fit finished.\n",
      "epoch:   0 loss:0.844458 auc:0.4984\n",
      "epoch:  20 loss:0.393684 auc:0.5101\n",
      "epoch:  40 loss:0.375513 auc:0.5388\n",
      "epoch:  60 loss:0.372265 auc:0.5356\n",
      "epoch:  80 loss:0.370910 auc:0.5281\n",
      "epoch: 100 loss:0.369633 auc:0.5294\n",
      "epoch: 120 loss:0.367396 auc:0.5164\n",
      "epoch: 140 loss:0.362474 auc:0.5364\n",
      "epoch: 160 loss:0.356812 auc:0.5518\n",
      "epoch: 180 loss:0.350317 auc:0.5471\n"
     ]
    },
    {
     "name": "stderr",
     "output_type": "stream",
     "text": [
      " 89%|████████▉ | 411/460 [1:05:05<08:12, 10.06s/it]"
     ]
    },
    {
     "name": "stdout",
     "output_type": "stream",
     "text": [
      "epoch: 200 loss:0.342052 auc:0.5351\n",
      "Fit finished.\n",
      "epoch:   0 loss:0.830611 auc:0.5336\n",
      "epoch:  20 loss:0.397520 auc:0.4979\n",
      "epoch:  40 loss:0.375129 auc:0.4980\n",
      "epoch:  60 loss:0.371516 auc:0.4896\n",
      "epoch:  80 loss:0.369972 auc:0.4844\n",
      "epoch: 100 loss:0.368731 auc:0.4789\n",
      "epoch: 120 loss:0.367033 auc:0.4741\n",
      "epoch: 140 loss:0.364011 auc:0.4680\n"
     ]
    },
    {
     "name": "stderr",
     "output_type": "stream",
     "text": [
      " 90%|████████▉ | 412/460 [1:05:12<07:18,  9.13s/it]"
     ]
    },
    {
     "name": "stdout",
     "output_type": "stream",
     "text": [
      "epoch: 160 loss:0.358962 auc:0.4615\n",
      "Fit finished.\n",
      "epoch:   0 loss:0.795927 auc:0.4834\n",
      "epoch:  20 loss:0.403918 auc:0.4021\n",
      "epoch:  40 loss:0.376712 auc:0.3731\n",
      "epoch:  60 loss:0.372884 auc:0.3616\n",
      "epoch:  80 loss:0.371536 auc:0.3523\n",
      "epoch: 100 loss:0.370543 auc:0.3514\n",
      "epoch: 120 loss:0.369306 auc:0.3523\n",
      "epoch: 140 loss:0.367127 auc:0.3433\n"
     ]
    },
    {
     "name": "stderr",
     "output_type": "stream",
     "text": [
      " 90%|████████▉ | 413/460 [1:05:19<06:38,  8.48s/it]"
     ]
    },
    {
     "name": "stdout",
     "output_type": "stream",
     "text": [
      "epoch: 160 loss:0.363041 auc:0.3231\n",
      "Fit finished.\n",
      "epoch:   0 loss:0.828437 auc:0.4622\n",
      "epoch:  20 loss:0.387984 auc:0.5170\n",
      "epoch:  40 loss:0.375612 auc:0.5469\n",
      "epoch:  60 loss:0.372136 auc:0.5690\n",
      "epoch:  80 loss:0.370690 auc:0.5822\n",
      "epoch: 100 loss:0.369296 auc:0.5731\n",
      "epoch: 120 loss:0.366857 auc:0.5595\n",
      "epoch: 140 loss:0.361740 auc:0.5695\n",
      "epoch: 160 loss:0.354750 auc:0.5749\n",
      "epoch: 180 loss:0.349577 auc:0.5473\n",
      "epoch: 200 loss:0.340407 auc:0.5478\n"
     ]
    },
    {
     "name": "stderr",
     "output_type": "stream",
     "text": [
      " 90%|█████████ | 414/460 [1:05:29<06:48,  8.87s/it]"
     ]
    },
    {
     "name": "stdout",
     "output_type": "stream",
     "text": [
      "epoch: 220 loss:0.330877 auc:0.5564\n",
      "Fit finished.\n",
      "epoch:   0 loss:0.843257 auc:0.5332\n",
      "epoch:  20 loss:0.407391 auc:0.4956\n",
      "epoch:  40 loss:0.379681 auc:0.5310\n",
      "epoch:  60 loss:0.372898 auc:0.5337\n",
      "epoch:  80 loss:0.371079 auc:0.5252\n",
      "epoch: 100 loss:0.370158 auc:0.5212\n",
      "epoch: 120 loss:0.369233 auc:0.5112\n",
      "epoch: 140 loss:0.367942 auc:0.5073\n"
     ]
    },
    {
     "name": "stderr",
     "output_type": "stream",
     "text": [
      " 90%|█████████ | 415/460 [1:05:36<06:16,  8.38s/it]"
     ]
    },
    {
     "name": "stdout",
     "output_type": "stream",
     "text": [
      "epoch: 160 loss:0.365751 auc:0.5046\n",
      "Fit finished.\n",
      "epoch:   0 loss:0.855365 auc:0.4848\n",
      "epoch:  20 loss:0.403886 auc:0.4902\n",
      "epoch:  40 loss:0.377492 auc:0.5058\n",
      "epoch:  60 loss:0.372654 auc:0.5146\n",
      "epoch:  80 loss:0.371001 auc:0.5264\n",
      "epoch: 100 loss:0.370218 auc:0.5379\n",
      "epoch: 120 loss:0.369517 auc:0.5466\n",
      "epoch: 140 loss:0.368663 auc:0.5556\n",
      "epoch: 160 loss:0.367440 auc:0.5655\n",
      "epoch: 180 loss:0.365379 auc:0.5746\n",
      "epoch: 200 loss:0.361719 auc:0.5795\n",
      "epoch: 220 loss:0.356993 auc:0.5884\n",
      "epoch: 240 loss:0.352134 auc:0.5962\n",
      "epoch: 260 loss:0.346344 auc:0.5977\n",
      "epoch: 280 loss:0.340885 auc:0.5614\n"
     ]
    },
    {
     "name": "stderr",
     "output_type": "stream",
     "text": [
      " 90%|█████████ | 416/460 [1:05:48<07:00,  9.55s/it]"
     ]
    },
    {
     "name": "stdout",
     "output_type": "stream",
     "text": [
      "epoch: 300 loss:0.332739 auc:0.5237\n",
      "Fit finished.\n",
      "epoch:   0 loss:0.810854 auc:0.4855\n",
      "epoch:  20 loss:0.392727 auc:0.5289\n",
      "epoch:  40 loss:0.375812 auc:0.5328\n",
      "epoch:  60 loss:0.372073 auc:0.5408\n",
      "epoch:  80 loss:0.371036 auc:0.5525\n",
      "epoch: 100 loss:0.370405 auc:0.5645\n",
      "epoch: 120 loss:0.369762 auc:0.5778\n",
      "epoch: 140 loss:0.368883 auc:0.5902\n",
      "epoch: 160 loss:0.367368 auc:0.6000\n",
      "epoch: 180 loss:0.364217 auc:0.6083\n",
      "epoch: 200 loss:0.358376 auc:0.6001\n",
      "epoch: 220 loss:0.352701 auc:0.5888\n",
      "epoch: 240 loss:0.346867 auc:0.6040\n",
      "epoch: 260 loss:0.338946 auc:0.6216\n",
      "epoch: 280 loss:0.332114 auc:0.6252\n",
      "epoch: 300 loss:0.319563 auc:0.6297\n",
      "epoch: 320 loss:0.311720 auc:0.6310\n",
      "epoch: 340 loss:0.301859 auc:0.6261\n",
      "epoch: 360 loss:0.295571 auc:0.6146\n",
      "epoch: 380 loss:0.289778 auc:0.6270\n"
     ]
    },
    {
     "name": "stderr",
     "output_type": "stream",
     "text": [
      " 91%|█████████ | 417/460 [1:06:04<08:09, 11.38s/it]"
     ]
    },
    {
     "name": "stdout",
     "output_type": "stream",
     "text": [
      "epoch: 400 loss:0.298825 auc:0.5753\n",
      "Fit finished.\n",
      "epoch:   0 loss:0.762057 auc:0.4646\n",
      "epoch:  20 loss:0.395821 auc:0.5657\n",
      "epoch:  40 loss:0.376715 auc:0.5846\n",
      "epoch:  60 loss:0.373188 auc:0.6160\n",
      "epoch:  80 loss:0.371978 auc:0.6425\n",
      "epoch: 100 loss:0.371191 auc:0.6696\n",
      "epoch: 120 loss:0.370298 auc:0.6879\n",
      "epoch: 140 loss:0.368966 auc:0.7101\n",
      "epoch: 160 loss:0.366509 auc:0.7317\n",
      "epoch: 180 loss:0.361833 auc:0.7664\n",
      "epoch: 200 loss:0.356351 auc:0.7626\n",
      "epoch: 220 loss:0.350469 auc:0.7647\n",
      "epoch: 240 loss:0.345790 auc:0.7680\n",
      "epoch: 260 loss:0.336440 auc:0.7480\n",
      "epoch: 280 loss:0.328890 auc:0.7236\n"
     ]
    },
    {
     "name": "stderr",
     "output_type": "stream",
     "text": [
      " 91%|█████████ | 418/460 [1:06:15<07:55, 11.32s/it]"
     ]
    },
    {
     "name": "stdout",
     "output_type": "stream",
     "text": [
      "epoch: 300 loss:0.320979 auc:0.6863\n",
      "Fit finished.\n",
      "epoch:   0 loss:0.932406 auc:0.3927\n",
      "epoch:  20 loss:0.392014 auc:0.4610\n",
      "epoch:  40 loss:0.375866 auc:0.4506\n",
      "epoch:  60 loss:0.372293 auc:0.4385\n",
      "epoch:  80 loss:0.371246 auc:0.4322\n",
      "epoch: 100 loss:0.370568 auc:0.4271\n",
      "epoch: 120 loss:0.369794 auc:0.4219\n",
      "epoch: 140 loss:0.368647 auc:0.4161\n",
      "epoch: 160 loss:0.366532 auc:0.4174\n"
     ]
    },
    {
     "name": "stderr",
     "output_type": "stream",
     "text": [
      " 91%|█████████ | 419/460 [1:06:22<06:57, 10.18s/it]"
     ]
    },
    {
     "name": "stdout",
     "output_type": "stream",
     "text": [
      "epoch: 180 loss:0.362287 auc:0.4417\n",
      "Fit finished.\n",
      "epoch:   0 loss:0.776130 auc:0.5657\n",
      "epoch:  20 loss:0.397970 auc:0.5035\n",
      "epoch:  40 loss:0.379203 auc:0.5581\n",
      "epoch:  60 loss:0.373830 auc:0.6106\n",
      "epoch:  80 loss:0.372285 auc:0.6528\n",
      "epoch: 100 loss:0.371500 auc:0.6831\n",
      "epoch: 120 loss:0.370795 auc:0.7047\n",
      "epoch: 140 loss:0.369871 auc:0.7242\n",
      "epoch: 160 loss:0.368359 auc:0.7507\n",
      "epoch: 180 loss:0.365403 auc:0.7810\n",
      "epoch: 200 loss:0.360466 auc:0.8226\n",
      "epoch: 220 loss:0.355417 auc:0.8540\n",
      "epoch: 240 loss:0.349604 auc:0.8810\n",
      "epoch: 260 loss:0.341590 auc:0.8648\n",
      "epoch: 280 loss:0.332941 auc:0.8210\n",
      "epoch: 300 loss:0.323717 auc:0.7810\n",
      "epoch: 320 loss:0.316344 auc:0.7566\n"
     ]
    },
    {
     "name": "stderr",
     "output_type": "stream",
     "text": [
      " 91%|█████████▏| 420/460 [1:06:35<07:15, 10.89s/it]"
     ]
    },
    {
     "name": "stdout",
     "output_type": "stream",
     "text": [
      "epoch: 340 loss:0.309163 auc:0.7409\n",
      "Fit finished.\n",
      "epoch:   0 loss:0.987918 auc:0.4798\n",
      "epoch:  20 loss:0.419581 auc:0.5101\n",
      "epoch:  40 loss:0.382178 auc:0.5076\n",
      "epoch:  60 loss:0.374004 auc:0.5025\n",
      "epoch:  80 loss:0.371520 auc:0.5011\n",
      "epoch: 100 loss:0.370511 auc:0.4980\n",
      "epoch: 120 loss:0.369847 auc:0.4962\n",
      "epoch: 140 loss:0.369205 auc:0.4935\n",
      "epoch: 160 loss:0.368422 auc:0.4907\n"
     ]
    },
    {
     "name": "stderr",
     "output_type": "stream",
     "text": [
      " 92%|█████████▏| 421/460 [1:06:42<06:23,  9.85s/it]"
     ]
    },
    {
     "name": "stdout",
     "output_type": "stream",
     "text": [
      "epoch: 180 loss:0.367303 auc:0.4876\n",
      "Fit finished.\n",
      "epoch:   0 loss:0.699542 auc:0.5036\n",
      "epoch:  20 loss:0.392998 auc:0.4942\n",
      "epoch:  40 loss:0.374765 auc:0.5078\n",
      "epoch:  60 loss:0.371780 auc:0.5182\n",
      "epoch:  80 loss:0.370485 auc:0.5272\n",
      "epoch: 100 loss:0.369551 auc:0.5372\n",
      "epoch: 120 loss:0.368331 auc:0.5477\n",
      "epoch: 140 loss:0.366198 auc:0.5593\n",
      "epoch: 160 loss:0.361685 auc:0.5626\n",
      "epoch: 180 loss:0.355531 auc:0.5564\n",
      "epoch: 200 loss:0.349469 auc:0.5586\n",
      "epoch: 220 loss:0.341714 auc:0.5617\n",
      "epoch: 240 loss:0.332261 auc:0.5615\n",
      "epoch: 260 loss:0.324659 auc:0.5602\n",
      "epoch: 280 loss:0.313717 auc:0.5704\n"
     ]
    },
    {
     "name": "stderr",
     "output_type": "stream",
     "text": [
      " 92%|█████████▏| 422/460 [1:06:55<06:43, 10.63s/it]"
     ]
    },
    {
     "name": "stdout",
     "output_type": "stream",
     "text": [
      "epoch: 300 loss:0.331089 auc:0.5417\n",
      "Fit finished.\n",
      "epoch:   0 loss:0.825167 auc:0.4470\n",
      "epoch:  20 loss:0.390014 auc:0.4605\n",
      "epoch:  40 loss:0.376626 auc:0.4708\n",
      "epoch:  60 loss:0.372149 auc:0.4687\n",
      "epoch:  80 loss:0.370674 auc:0.4658\n",
      "epoch: 100 loss:0.369686 auc:0.4632\n",
      "epoch: 120 loss:0.368447 auc:0.4586\n",
      "epoch: 140 loss:0.366380 auc:0.4561\n",
      "epoch: 160 loss:0.362593 auc:0.4574\n",
      "epoch: 180 loss:0.357793 auc:0.4606\n"
     ]
    },
    {
     "name": "stderr",
     "output_type": "stream",
     "text": [
      " 92%|█████████▏| 423/460 [1:07:03<06:06,  9.91s/it]"
     ]
    },
    {
     "name": "stdout",
     "output_type": "stream",
     "text": [
      "epoch: 200 loss:0.352997 auc:0.4634\n",
      "Fit finished.\n",
      "epoch:   0 loss:0.711998 auc:0.4981\n",
      "epoch:  20 loss:0.402329 auc:0.4721\n",
      "epoch:  40 loss:0.377478 auc:0.5592\n",
      "epoch:  60 loss:0.372295 auc:0.5809\n",
      "epoch:  80 loss:0.370802 auc:0.5933\n",
      "epoch: 100 loss:0.369723 auc:0.5857\n",
      "epoch: 120 loss:0.368237 auc:0.5809\n",
      "epoch: 140 loss:0.365268 auc:0.5782\n",
      "epoch: 160 loss:0.360074 auc:0.5895\n",
      "epoch: 180 loss:0.355096 auc:0.6203\n",
      "epoch: 200 loss:0.350062 auc:0.6214\n",
      "epoch: 220 loss:0.344350 auc:0.6225\n",
      "epoch: 240 loss:0.335490 auc:0.6274\n",
      "epoch: 260 loss:0.324603 auc:0.6398\n",
      "epoch: 280 loss:0.315262 auc:0.6771\n",
      "epoch: 300 loss:0.313041 auc:0.6593\n",
      "epoch: 320 loss:0.302020 auc:0.6750\n",
      "epoch: 340 loss:0.294689 auc:0.6971\n",
      "epoch: 360 loss:0.289877 auc:0.6955\n",
      "epoch: 380 loss:0.297962 auc:0.6625\n",
      "epoch: 400 loss:0.284838 auc:0.6906\n",
      "epoch: 420 loss:0.280399 auc:0.7063\n",
      "epoch: 440 loss:0.277588 auc:0.7090\n",
      "epoch: 460 loss:0.275290 auc:0.7085\n",
      "epoch: 480 loss:0.273318 auc:0.7123\n",
      "epoch: 500 loss:0.271594 auc:0.7123\n",
      "epoch: 520 loss:0.270100 auc:0.7107\n",
      "epoch: 540 loss:0.269022 auc:0.7112\n",
      "epoch: 560 loss:0.267798 auc:0.7020\n",
      "epoch: 580 loss:0.266967 auc:0.7069\n"
     ]
    },
    {
     "name": "stderr",
     "output_type": "stream",
     "text": [
      " 92%|█████████▏| 425/460 [1:07:27<06:16, 10.76s/it]"
     ]
    },
    {
     "name": "stdout",
     "output_type": "stream",
     "text": [
      "epoch: 600 loss:0.265879 auc:0.6988\n",
      "Fit finished.\n",
      "epoch:   0 loss:0.710476 auc:0.5231\n",
      "epoch:  20 loss:0.386106 auc:0.5229\n",
      "epoch:  40 loss:0.372498 auc:0.5114\n",
      "epoch:  60 loss:0.370249 auc:0.5060\n",
      "epoch:  80 loss:0.368708 auc:0.5010\n",
      "epoch: 100 loss:0.366386 auc:0.4957\n",
      "epoch: 120 loss:0.361747 auc:0.4857\n",
      "epoch: 140 loss:0.355679 auc:0.4841\n"
     ]
    },
    {
     "name": "stderr",
     "output_type": "stream",
     "text": [
      " 93%|█████████▎| 426/460 [1:07:34<05:36,  9.89s/it]"
     ]
    },
    {
     "name": "stdout",
     "output_type": "stream",
     "text": [
      "epoch: 160 loss:0.349127 auc:0.4930\n",
      "Fit finished.\n",
      "epoch:   0 loss:0.792009 auc:0.5312\n",
      "epoch:  20 loss:0.379286 auc:0.4477\n",
      "epoch:  40 loss:0.372913 auc:0.4753\n",
      "epoch:  60 loss:0.371134 auc:0.4839\n",
      "epoch:  80 loss:0.369378 auc:0.5023\n",
      "epoch: 100 loss:0.365878 auc:0.5207\n",
      "epoch: 120 loss:0.360919 auc:0.5411\n",
      "epoch: 140 loss:0.353594 auc:0.5917\n",
      "epoch: 160 loss:0.350381 auc:0.5556\n",
      "epoch: 180 loss:0.333750 auc:0.4773\n",
      "epoch: 200 loss:0.326355 auc:0.5102\n"
     ]
    },
    {
     "name": "stderr",
     "output_type": "stream",
     "text": [
      " 93%|█████████▎| 427/460 [1:07:42<05:14,  9.54s/it]"
     ]
    },
    {
     "name": "stdout",
     "output_type": "stream",
     "text": [
      "epoch: 220 loss:0.312361 auc:0.4747\n",
      "Fit finished.\n",
      "epoch:   0 loss:0.749739 auc:0.4676\n",
      "epoch:  20 loss:0.408373 auc:0.5314\n",
      "epoch:  40 loss:0.376127 auc:0.5526\n",
      "epoch:  60 loss:0.371803 auc:0.5385\n",
      "epoch:  80 loss:0.370107 auc:0.5323\n",
      "epoch: 100 loss:0.368998 auc:0.5248\n",
      "epoch: 120 loss:0.367551 auc:0.5205\n",
      "epoch: 140 loss:0.364977 auc:0.5173\n",
      "epoch: 160 loss:0.360598 auc:0.5093\n"
     ]
    },
    {
     "name": "stderr",
     "output_type": "stream",
     "text": [
      " 93%|█████████▎| 428/460 [1:07:50<04:46,  8.96s/it]"
     ]
    },
    {
     "name": "stdout",
     "output_type": "stream",
     "text": [
      "epoch: 180 loss:0.355626 auc:0.5173\n",
      "Fit finished.\n",
      "epoch:   0 loss:0.906482 auc:0.7194\n",
      "epoch:  20 loss:0.398115 auc:0.6582\n",
      "epoch:  40 loss:0.378212 auc:0.6837\n",
      "epoch:  60 loss:0.373491 auc:0.6735\n",
      "epoch:  80 loss:0.371723 auc:0.6735\n",
      "epoch: 100 loss:0.370930 auc:0.6684\n",
      "epoch: 120 loss:0.370270 auc:0.6837\n",
      "epoch: 140 loss:0.369436 auc:0.6786\n"
     ]
    },
    {
     "name": "stderr",
     "output_type": "stream",
     "text": [
      " 93%|█████████▎| 429/460 [1:07:56<04:16,  8.28s/it]"
     ]
    },
    {
     "name": "stdout",
     "output_type": "stream",
     "text": [
      "epoch: 160 loss:0.368057 auc:0.6888\n",
      "Fit finished.\n",
      "epoch:   0 loss:0.921864 auc:0.4598\n",
      "epoch:  20 loss:0.395824 auc:0.4419\n",
      "epoch:  40 loss:0.378202 auc:0.4592\n",
      "epoch:  60 loss:0.373511 auc:0.4901\n",
      "epoch:  80 loss:0.371955 auc:0.5139\n",
      "epoch: 100 loss:0.371065 auc:0.5348\n",
      "epoch: 120 loss:0.370190 auc:0.5532\n",
      "epoch: 140 loss:0.369038 auc:0.5676\n",
      "epoch: 160 loss:0.367163 auc:0.5750\n",
      "epoch: 180 loss:0.363827 auc:0.5881\n",
      "epoch: 200 loss:0.359393 auc:0.5950\n",
      "epoch: 220 loss:0.354684 auc:0.5760\n",
      "epoch: 240 loss:0.348874 auc:0.5391\n"
     ]
    },
    {
     "name": "stderr",
     "output_type": "stream",
     "text": [
      " 93%|█████████▎| 430/460 [1:08:06<04:23,  8.80s/it]"
     ]
    },
    {
     "name": "stdout",
     "output_type": "stream",
     "text": [
      "epoch: 260 loss:0.341723 auc:0.4916\n",
      "Fit finished.\n",
      "epoch:   0 loss:0.802816 auc:0.4797\n",
      "epoch:  20 loss:0.381361 auc:0.5562\n",
      "epoch:  40 loss:0.372465 auc:0.5520\n",
      "epoch:  60 loss:0.370424 auc:0.5582\n",
      "epoch:  80 loss:0.368619 auc:0.5657\n",
      "epoch: 100 loss:0.365193 auc:0.5701\n",
      "epoch: 120 loss:0.359062 auc:0.5913\n",
      "epoch: 140 loss:0.352202 auc:0.5651\n",
      "epoch: 160 loss:0.348191 auc:0.5449\n"
     ]
    },
    {
     "name": "stderr",
     "output_type": "stream",
     "text": [
      " 94%|█████████▎| 431/460 [1:08:14<04:04,  8.41s/it]"
     ]
    },
    {
     "name": "stdout",
     "output_type": "stream",
     "text": [
      "epoch: 180 loss:0.335649 auc:0.5345\n",
      "Fit finished.\n",
      "epoch:   0 loss:0.794195 auc:0.4041\n",
      "epoch:  20 loss:0.404905 auc:0.4929\n",
      "epoch:  40 loss:0.379085 auc:0.5246\n",
      "epoch:  60 loss:0.374162 auc:0.5336\n",
      "epoch:  80 loss:0.372411 auc:0.5317\n",
      "epoch: 100 loss:0.371521 auc:0.5326\n",
      "epoch: 120 loss:0.370740 auc:0.5336\n",
      "epoch: 140 loss:0.369785 auc:0.5449\n",
      "epoch: 160 loss:0.368338 auc:0.5510\n",
      "epoch: 180 loss:0.365828 auc:0.5525\n",
      "epoch: 200 loss:0.361952 auc:0.5591\n",
      "epoch: 220 loss:0.357877 auc:0.5529\n",
      "epoch: 240 loss:0.353846 auc:0.5558\n",
      "epoch: 260 loss:0.349128 auc:0.5392\n"
     ]
    },
    {
     "name": "stderr",
     "output_type": "stream",
     "text": [
      " 94%|█████████▍| 432/460 [1:08:26<04:24,  9.43s/it]"
     ]
    },
    {
     "name": "stdout",
     "output_type": "stream",
     "text": [
      "epoch: 280 loss:0.344770 auc:0.5151\n",
      "Fit finished.\n",
      "epoch:   0 loss:0.786648 auc:0.5052\n",
      "epoch:  20 loss:0.381570 auc:0.5006\n",
      "epoch:  40 loss:0.373181 auc:0.5096\n",
      "epoch:  60 loss:0.370984 auc:0.5240\n",
      "epoch:  80 loss:0.369455 auc:0.5344\n",
      "epoch: 100 loss:0.367482 auc:0.5462\n",
      "epoch: 120 loss:0.363412 auc:0.5618\n",
      "epoch: 140 loss:0.357156 auc:0.5676\n",
      "epoch: 160 loss:0.347393 auc:0.5541\n",
      "epoch: 180 loss:0.336464 auc:0.5199\n"
     ]
    },
    {
     "name": "stderr",
     "output_type": "stream",
     "text": [
      " 94%|█████████▍| 433/460 [1:08:34<04:02,  8.98s/it]"
     ]
    },
    {
     "name": "stdout",
     "output_type": "stream",
     "text": [
      "epoch: 200 loss:0.325931 auc:0.4954\n",
      "Fit finished.\n",
      "epoch:   0 loss:0.831565 auc:0.5674\n",
      "epoch:  20 loss:0.396292 auc:0.6211\n",
      "epoch:  40 loss:0.375926 auc:0.6446\n",
      "epoch:  60 loss:0.372396 auc:0.6725\n",
      "epoch:  80 loss:0.370982 auc:0.6863\n",
      "epoch: 100 loss:0.370004 auc:0.7008\n",
      "epoch: 120 loss:0.368788 auc:0.7169\n",
      "epoch: 140 loss:0.366765 auc:0.7356\n",
      "epoch: 160 loss:0.363105 auc:0.7708\n",
      "epoch: 180 loss:0.358594 auc:0.7928\n",
      "epoch: 200 loss:0.354066 auc:0.8065\n",
      "epoch: 220 loss:0.348444 auc:0.8178\n",
      "epoch: 240 loss:0.340317 auc:0.8233\n",
      "epoch: 260 loss:0.330136 auc:0.8147\n",
      "epoch: 280 loss:0.320350 auc:0.8081\n",
      "epoch: 300 loss:0.311468 auc:0.7955\n",
      "epoch: 320 loss:0.303197 auc:0.8005\n",
      "epoch: 340 loss:0.297575 auc:0.8063\n",
      "epoch: 360 loss:0.291830 auc:0.8069\n"
     ]
    },
    {
     "name": "stderr",
     "output_type": "stream",
     "text": [
      " 94%|█████████▍| 434/460 [1:08:47<04:28, 10.32s/it]"
     ]
    },
    {
     "name": "stdout",
     "output_type": "stream",
     "text": [
      "epoch: 380 loss:0.287692 auc:0.8055\n",
      "Fit finished.\n",
      "epoch:   0 loss:0.910971 auc:0.5392\n",
      "epoch:  20 loss:0.402694 auc:0.5139\n",
      "epoch:  40 loss:0.377612 auc:0.4868\n",
      "epoch:  60 loss:0.372911 auc:0.4619\n",
      "epoch:  80 loss:0.371041 auc:0.4385\n",
      "epoch: 100 loss:0.370087 auc:0.4227\n",
      "epoch: 120 loss:0.369175 auc:0.4082\n",
      "epoch: 140 loss:0.367906 auc:0.4034\n"
     ]
    },
    {
     "name": "stderr",
     "output_type": "stream",
     "text": [
      " 95%|█████████▍| 435/460 [1:08:53<03:47,  9.10s/it]"
     ]
    },
    {
     "name": "stdout",
     "output_type": "stream",
     "text": [
      "epoch: 160 loss:0.365770 auc:0.4119\n",
      "Fit finished.\n",
      "epoch:   0 loss:0.791579 auc:0.5020\n",
      "epoch:  20 loss:0.404327 auc:0.5129\n",
      "epoch:  40 loss:0.378141 auc:0.4786\n",
      "epoch:  60 loss:0.373679 auc:0.4605\n",
      "epoch:  80 loss:0.371981 auc:0.4517\n",
      "epoch: 100 loss:0.371168 auc:0.4450\n",
      "epoch: 120 loss:0.370455 auc:0.4342\n",
      "epoch: 140 loss:0.369599 auc:0.4243\n"
     ]
    },
    {
     "name": "stderr",
     "output_type": "stream",
     "text": [
      " 95%|█████████▍| 436/460 [1:09:00<03:22,  8.43s/it]"
     ]
    },
    {
     "name": "stdout",
     "output_type": "stream",
     "text": [
      "epoch: 160 loss:0.368299 auc:0.4129\n",
      "Fit finished.\n",
      "epoch:   0 loss:0.736360 auc:0.4322\n",
      "epoch:  20 loss:0.399848 auc:0.4263\n",
      "epoch:  40 loss:0.377829 auc:0.4287\n",
      "epoch:  60 loss:0.373105 auc:0.4380\n",
      "epoch:  80 loss:0.371491 auc:0.4645\n",
      "epoch: 100 loss:0.370525 auc:0.4994\n",
      "epoch: 120 loss:0.369367 auc:0.5274\n",
      "epoch: 140 loss:0.367386 auc:0.5368\n",
      "epoch: 160 loss:0.363231 auc:0.5622\n",
      "epoch: 180 loss:0.357565 auc:0.5702\n",
      "epoch: 200 loss:0.351522 auc:0.5357\n",
      "epoch: 220 loss:0.343540 auc:0.4547\n",
      "epoch: 240 loss:0.334665 auc:0.4694\n"
     ]
    },
    {
     "name": "stderr",
     "output_type": "stream",
     "text": [
      " 95%|█████████▌| 438/460 [1:09:10<02:31,  6.90s/it]"
     ]
    },
    {
     "name": "stdout",
     "output_type": "stream",
     "text": [
      "epoch: 260 loss:0.325354 auc:0.4151\n",
      "Fit finished.\n",
      "epoch:   0 loss:0.907993 auc:0.2851\n",
      "epoch:  20 loss:0.412359 auc:0.1240\n",
      "epoch:  40 loss:0.382691 auc:0.1018\n",
      "epoch:  60 loss:0.374552 auc:0.0911\n",
      "epoch:  80 loss:0.372598 auc:0.0796\n",
      "epoch: 100 loss:0.371735 auc:0.0716\n",
      "epoch: 120 loss:0.371123 auc:0.0652\n",
      "epoch: 140 loss:0.370514 auc:0.0623\n"
     ]
    },
    {
     "name": "stderr",
     "output_type": "stream",
     "text": [
      " 95%|█████████▌| 439/460 [1:09:17<02:24,  6.87s/it]"
     ]
    },
    {
     "name": "stdout",
     "output_type": "stream",
     "text": [
      "epoch: 160 loss:0.369765 auc:0.0621\n",
      "Fit finished.\n",
      "epoch:   0 loss:0.755226 auc:0.6684\n",
      "epoch:  20 loss:0.392953 auc:0.6327\n",
      "epoch:  40 loss:0.376084 auc:0.6837\n",
      "epoch:  60 loss:0.372647 auc:0.7092\n",
      "epoch:  80 loss:0.371328 auc:0.7398\n",
      "epoch: 100 loss:0.370391 auc:0.7551\n",
      "epoch: 120 loss:0.369251 auc:0.7551\n",
      "epoch: 140 loss:0.367433 auc:0.7602\n",
      "epoch: 160 loss:0.364016 auc:0.7449\n",
      "epoch: 180 loss:0.359029 auc:0.8061\n",
      "epoch: 200 loss:0.353400 auc:0.8265\n",
      "epoch: 220 loss:0.348172 auc:0.8163\n",
      "epoch: 240 loss:0.337778 auc:0.8469\n",
      "epoch: 260 loss:0.328517 auc:0.8469\n",
      "epoch: 280 loss:0.320676 auc:0.8571\n",
      "epoch: 300 loss:0.314726 auc:0.8520\n",
      "epoch: 320 loss:0.305605 auc:0.8418\n",
      "epoch: 340 loss:0.300594 auc:0.8367\n",
      "epoch: 360 loss:0.293798 auc:0.8520\n",
      "epoch: 380 loss:0.289192 auc:0.8520\n",
      "epoch: 400 loss:0.286158 auc:0.8520\n",
      "epoch: 420 loss:0.282778 auc:0.8469\n"
     ]
    },
    {
     "name": "stderr",
     "output_type": "stream",
     "text": [
      " 96%|█████████▌| 440/460 [1:09:34<03:11,  9.58s/it]"
     ]
    },
    {
     "name": "stdout",
     "output_type": "stream",
     "text": [
      "epoch: 440 loss:0.280250 auc:0.8367\n",
      "Fit finished.\n",
      "epoch:   0 loss:0.773360 auc:0.5201\n",
      "epoch:  20 loss:0.399784 auc:0.4726\n",
      "epoch:  40 loss:0.378742 auc:0.4452\n",
      "epoch:  60 loss:0.372939 auc:0.4552\n",
      "epoch:  80 loss:0.371145 auc:0.4498\n",
      "epoch: 100 loss:0.370072 auc:0.4394\n",
      "epoch: 120 loss:0.368834 auc:0.4300\n",
      "epoch: 140 loss:0.366796 auc:0.4284\n"
     ]
    },
    {
     "name": "stderr",
     "output_type": "stream",
     "text": [
      " 96%|█████████▌| 441/460 [1:09:42<02:49,  8.93s/it]"
     ]
    },
    {
     "name": "stdout",
     "output_type": "stream",
     "text": [
      "epoch: 160 loss:0.362886 auc:0.4545\n",
      "Fit finished.\n",
      "epoch:   0 loss:1.081481 auc:0.4626\n",
      "epoch:  20 loss:0.403668 auc:0.4623\n",
      "epoch:  40 loss:0.381908 auc:0.4327\n",
      "epoch:  60 loss:0.375101 auc:0.4091\n",
      "epoch:  80 loss:0.372914 auc:0.4050\n",
      "epoch: 100 loss:0.372005 auc:0.3967\n",
      "epoch: 120 loss:0.371449 auc:0.3901\n",
      "epoch: 140 loss:0.370962 auc:0.3845\n"
     ]
    },
    {
     "name": "stderr",
     "output_type": "stream",
     "text": [
      " 96%|█████████▌| 442/460 [1:09:48<02:29,  8.31s/it]"
     ]
    },
    {
     "name": "stdout",
     "output_type": "stream",
     "text": [
      "epoch: 160 loss:0.370428 auc:0.3795\n",
      "Fit finished.\n",
      "epoch:   0 loss:0.802601 auc:0.4900\n",
      "epoch:  20 loss:0.391153 auc:0.5134\n",
      "epoch:  40 loss:0.376160 auc:0.5329\n",
      "epoch:  60 loss:0.371772 auc:0.5359\n",
      "epoch:  80 loss:0.370360 auc:0.5375\n",
      "epoch: 100 loss:0.369264 auc:0.5350\n",
      "epoch: 120 loss:0.367799 auc:0.5353\n",
      "epoch: 140 loss:0.365148 auc:0.5348\n",
      "epoch: 160 loss:0.360373 auc:0.5334\n",
      "epoch: 180 loss:0.354585 auc:0.5400\n",
      "epoch: 200 loss:0.347403 auc:0.5461\n",
      "epoch: 220 loss:0.340347 auc:0.5570\n",
      "epoch: 240 loss:0.328450 auc:0.5722\n",
      "epoch: 260 loss:0.318115 auc:0.5783\n",
      "epoch: 280 loss:0.316105 auc:0.5992\n",
      "epoch: 300 loss:0.305043 auc:0.5931\n",
      "epoch: 320 loss:0.295723 auc:0.6139\n",
      "epoch: 340 loss:0.290163 auc:0.6199\n",
      "epoch: 360 loss:0.285583 auc:0.6277\n",
      "epoch: 380 loss:0.284916 auc:0.6315\n",
      "epoch: 400 loss:0.279926 auc:0.6288\n",
      "epoch: 420 loss:0.276354 auc:0.6323\n",
      "epoch: 440 loss:0.275033 auc:0.6308\n",
      "epoch: 460 loss:0.272498 auc:0.6306\n",
      "epoch: 480 loss:0.270607 auc:0.6268\n",
      "epoch: 500 loss:0.269336 auc:0.6298\n"
     ]
    },
    {
     "name": "stderr",
     "output_type": "stream",
     "text": [
      " 96%|█████████▋| 443/460 [1:10:10<03:24, 12.02s/it]"
     ]
    },
    {
     "name": "stdout",
     "output_type": "stream",
     "text": [
      "epoch: 520 loss:0.268367 auc:0.6225\n",
      "Fit finished.\n",
      "epoch:   0 loss:0.942682 auc:0.5192\n",
      "epoch:  20 loss:0.412918 auc:0.3928\n",
      "epoch:  40 loss:0.381853 auc:0.3498\n",
      "epoch:  60 loss:0.374940 auc:0.3272\n",
      "epoch:  80 loss:0.372806 auc:0.3346\n",
      "epoch: 100 loss:0.371929 auc:0.3456\n",
      "epoch: 120 loss:0.371186 auc:0.3563\n",
      "epoch: 140 loss:0.370299 auc:0.3606\n"
     ]
    },
    {
     "name": "stderr",
     "output_type": "stream",
     "text": [
      " 97%|█████████▋| 444/460 [1:10:16<02:46, 10.39s/it]"
     ]
    },
    {
     "name": "stdout",
     "output_type": "stream",
     "text": [
      "epoch: 160 loss:0.369190 auc:0.3660\n",
      "Fit finished.\n",
      "epoch:   0 loss:0.839057 auc:0.5223\n",
      "epoch:  20 loss:0.399764 auc:0.5257\n",
      "epoch:  40 loss:0.377770 auc:0.5414\n",
      "epoch:  60 loss:0.373297 auc:0.5469\n",
      "epoch:  80 loss:0.371774 auc:0.5521\n",
      "epoch: 100 loss:0.371045 auc:0.5638\n",
      "epoch: 120 loss:0.370344 auc:0.5771\n",
      "epoch: 140 loss:0.369259 auc:0.5775\n",
      "epoch: 160 loss:0.367104 auc:0.5645\n"
     ]
    },
    {
     "name": "stderr",
     "output_type": "stream",
     "text": [
      " 97%|█████████▋| 445/460 [1:10:23<02:22,  9.51s/it]"
     ]
    },
    {
     "name": "stdout",
     "output_type": "stream",
     "text": [
      "epoch: 180 loss:0.363255 auc:0.5253\n",
      "Fit finished.\n",
      "epoch:   0 loss:0.700863 auc:0.4786\n",
      "epoch:  20 loss:0.388111 auc:0.3191\n",
      "epoch:  40 loss:0.375149 auc:0.3458\n",
      "epoch:  60 loss:0.372294 auc:0.3654\n",
      "epoch:  80 loss:0.371196 auc:0.3743\n",
      "epoch: 100 loss:0.370300 auc:0.3913\n",
      "epoch: 120 loss:0.369079 auc:0.4198\n",
      "epoch: 140 loss:0.366912 auc:0.4376\n"
     ]
    },
    {
     "name": "stderr",
     "output_type": "stream",
     "text": [
      " 97%|█████████▋| 446/460 [1:10:30<02:01,  8.67s/it]"
     ]
    },
    {
     "name": "stdout",
     "output_type": "stream",
     "text": [
      "epoch: 160 loss:0.362880 auc:0.4314\n",
      "Fit finished.\n",
      "epoch:   0 loss:0.761546 auc:0.4860\n",
      "epoch:  20 loss:0.381533 auc:0.4534\n",
      "epoch:  40 loss:0.372775 auc:0.4610\n",
      "epoch:  60 loss:0.370567 auc:0.4761\n",
      "epoch:  80 loss:0.369000 auc:0.4965\n",
      "epoch: 100 loss:0.366282 auc:0.5122\n",
      "epoch: 120 loss:0.360817 auc:0.5154\n",
      "epoch: 140 loss:0.359040 auc:0.5136\n",
      "epoch: 160 loss:0.348793 auc:0.5310\n",
      "epoch: 180 loss:0.339160 auc:0.5236\n",
      "epoch: 200 loss:0.327236 auc:0.5315\n",
      "epoch: 220 loss:0.320754 auc:0.5426\n",
      "epoch: 240 loss:0.307440 auc:0.5304\n",
      "epoch: 260 loss:0.297335 auc:0.5411\n",
      "epoch: 280 loss:0.291497 auc:0.5281\n",
      "epoch: 300 loss:0.285200 auc:0.5670\n",
      "epoch: 320 loss:0.281394 auc:0.5786\n",
      "epoch: 340 loss:0.277178 auc:0.5602\n",
      "epoch: 360 loss:0.274809 auc:0.5580\n",
      "epoch: 380 loss:0.271568 auc:0.5703\n",
      "epoch: 400 loss:0.270108 auc:0.5716\n",
      "epoch: 420 loss:0.268158 auc:0.5619\n",
      "epoch: 440 loss:0.266715 auc:0.5656\n",
      "epoch: 460 loss:0.266584 auc:0.5674\n"
     ]
    },
    {
     "name": "stderr",
     "output_type": "stream",
     "text": [
      " 97%|█████████▋| 447/460 [1:10:50<02:34, 11.90s/it]"
     ]
    },
    {
     "name": "stdout",
     "output_type": "stream",
     "text": [
      "epoch: 480 loss:0.264355 auc:0.5596\n",
      "Fit finished.\n",
      "epoch:   0 loss:0.730429 auc:0.4691\n",
      "epoch:  20 loss:0.387617 auc:0.5143\n",
      "epoch:  40 loss:0.372861 auc:0.5389\n",
      "epoch:  60 loss:0.370351 auc:0.5395\n",
      "epoch:  80 loss:0.368149 auc:0.5355\n",
      "epoch: 100 loss:0.364193 auc:0.5380\n",
      "epoch: 120 loss:0.357766 auc:0.5656\n",
      "epoch: 140 loss:0.350499 auc:0.5850\n",
      "epoch: 160 loss:0.341911 auc:0.5834\n",
      "epoch: 180 loss:0.330288 auc:0.5951\n",
      "epoch: 200 loss:0.321010 auc:0.5997\n",
      "epoch: 220 loss:0.314008 auc:0.5978\n",
      "epoch: 240 loss:0.303838 auc:0.5889\n",
      "epoch: 260 loss:0.296200 auc:0.5896\n",
      "epoch: 280 loss:0.291727 auc:0.6005\n",
      "epoch: 300 loss:0.287005 auc:0.6056\n",
      "epoch: 320 loss:0.282609 auc:0.6040\n",
      "epoch: 340 loss:0.278427 auc:0.6096\n",
      "epoch: 360 loss:0.274794 auc:0.6234\n",
      "epoch: 380 loss:0.273143 auc:0.6225\n",
      "epoch: 400 loss:0.271177 auc:0.6272\n",
      "epoch: 420 loss:0.269306 auc:0.6258\n",
      "epoch: 440 loss:0.267821 auc:0.6342\n",
      "epoch: 460 loss:0.266903 auc:0.6283\n",
      "epoch: 480 loss:0.265505 auc:0.6274\n",
      "epoch: 500 loss:0.264518 auc:0.6322\n"
     ]
    },
    {
     "name": "stderr",
     "output_type": "stream",
     "text": [
      " 97%|█████████▋| 448/460 [1:11:10<02:52, 14.36s/it]"
     ]
    },
    {
     "name": "stdout",
     "output_type": "stream",
     "text": [
      "epoch: 520 loss:0.263954 auc:0.6189\n",
      "Fit finished.\n",
      "epoch:   0 loss:0.676878 auc:0.5523\n",
      "epoch:  20 loss:0.380221 auc:0.4834\n",
      "epoch:  40 loss:0.372999 auc:0.4188\n",
      "epoch:  60 loss:0.371131 auc:0.3674\n",
      "epoch:  80 loss:0.369518 auc:0.3311\n",
      "epoch: 100 loss:0.366221 auc:0.2957\n",
      "epoch: 120 loss:0.359020 auc:0.2550\n",
      "epoch: 140 loss:0.350599 auc:0.2384\n"
     ]
    },
    {
     "name": "stderr",
     "output_type": "stream",
     "text": [
      " 98%|█████████▊| 449/460 [1:11:16<02:11, 11.95s/it]"
     ]
    },
    {
     "name": "stdout",
     "output_type": "stream",
     "text": [
      "epoch: 160 loss:0.339746 auc:0.2212\n",
      "Fit finished.\n",
      "epoch:   0 loss:0.751875 auc:0.4277\n",
      "epoch:  20 loss:0.390091 auc:0.5931\n",
      "epoch:  40 loss:0.375599 auc:0.6139\n",
      "epoch:  60 loss:0.372509 auc:0.6067\n",
      "epoch:  80 loss:0.370957 auc:0.6056\n",
      "epoch: 100 loss:0.369176 auc:0.6150\n",
      "epoch: 120 loss:0.365952 auc:0.6493\n",
      "epoch: 140 loss:0.360789 auc:0.6837\n",
      "epoch: 160 loss:0.354835 auc:0.6930\n",
      "epoch: 180 loss:0.357906 auc:0.6743\n",
      "epoch: 200 loss:0.342772 auc:0.6816\n",
      "epoch: 220 loss:0.334573 auc:0.6785\n",
      "epoch: 240 loss:0.327326 auc:0.6618\n",
      "epoch: 260 loss:0.318322 auc:0.6618\n"
     ]
    },
    {
     "name": "stderr",
     "output_type": "stream",
     "text": [
      " 98%|█████████▊| 450/460 [1:11:27<01:57, 11.78s/it]"
     ]
    },
    {
     "name": "stdout",
     "output_type": "stream",
     "text": [
      "epoch: 280 loss:0.312143 auc:0.6420\n",
      "Fit finished.\n",
      "epoch:   0 loss:0.842366 auc:0.4990\n",
      "epoch:  20 loss:0.430730 auc:0.4906\n",
      "epoch:  40 loss:0.384371 auc:0.4900\n",
      "epoch:  60 loss:0.374235 auc:0.4859\n",
      "epoch:  80 loss:0.371847 auc:0.4796\n",
      "epoch: 100 loss:0.370836 auc:0.4742\n",
      "epoch: 120 loss:0.370092 auc:0.4697\n",
      "epoch: 140 loss:0.369272 auc:0.4678\n"
     ]
    },
    {
     "name": "stderr",
     "output_type": "stream",
     "text": [
      " 98%|█████████▊| 451/460 [1:11:33<01:30, 10.06s/it]"
     ]
    },
    {
     "name": "stdout",
     "output_type": "stream",
     "text": [
      "epoch: 160 loss:0.368135 auc:0.4666\n",
      "Fit finished.\n",
      "epoch:   0 loss:0.796230 auc:0.5789\n",
      "epoch:  20 loss:0.393007 auc:0.5956\n",
      "epoch:  40 loss:0.376306 auc:0.5956\n",
      "epoch:  60 loss:0.372907 auc:0.6205\n",
      "epoch:  80 loss:0.371796 auc:0.6205\n",
      "epoch: 100 loss:0.371074 auc:0.6316\n",
      "epoch: 120 loss:0.370254 auc:0.6288\n",
      "epoch: 140 loss:0.368897 auc:0.6260\n",
      "epoch: 160 loss:0.365946 auc:0.6427\n",
      "epoch: 180 loss:0.360189 auc:0.6122\n"
     ]
    },
    {
     "name": "stderr",
     "output_type": "stream",
     "text": [
      " 98%|█████████▊| 452/460 [1:11:42<01:16,  9.59s/it]"
     ]
    },
    {
     "name": "stdout",
     "output_type": "stream",
     "text": [
      "epoch: 200 loss:0.354323 auc:0.5734\n",
      "Fit finished.\n",
      "epoch:   0 loss:0.724792 auc:0.5014\n",
      "epoch:  20 loss:0.393859 auc:0.5276\n",
      "epoch:  40 loss:0.375110 auc:0.5500\n",
      "epoch:  60 loss:0.371230 auc:0.5741\n",
      "epoch:  80 loss:0.369896 auc:0.5940\n",
      "epoch: 100 loss:0.368683 auc:0.6084\n",
      "epoch: 120 loss:0.366681 auc:0.6175\n",
      "epoch: 140 loss:0.362394 auc:0.6252\n",
      "epoch: 160 loss:0.356109 auc:0.6339\n",
      "epoch: 180 loss:0.349479 auc:0.6203\n",
      "epoch: 200 loss:0.341420 auc:0.5893\n"
     ]
    },
    {
     "name": "stderr",
     "output_type": "stream",
     "text": [
      " 98%|█████████▊| 453/460 [1:11:51<01:06,  9.45s/it]"
     ]
    },
    {
     "name": "stdout",
     "output_type": "stream",
     "text": [
      "epoch: 220 loss:0.330565 auc:0.5737\n",
      "Fit finished.\n",
      "epoch:   0 loss:0.822258 auc:0.5259\n",
      "epoch:  20 loss:0.393821 auc:0.5377\n",
      "epoch:  40 loss:0.376612 auc:0.5563\n",
      "epoch:  60 loss:0.372247 auc:0.5638\n",
      "epoch:  80 loss:0.370733 auc:0.5721\n",
      "epoch: 100 loss:0.369957 auc:0.5765\n",
      "epoch: 120 loss:0.369235 auc:0.5785\n",
      "epoch: 140 loss:0.368313 auc:0.5809\n",
      "epoch: 160 loss:0.366859 auc:0.5843\n",
      "epoch: 180 loss:0.364296 auc:0.5871\n",
      "epoch: 200 loss:0.360473 auc:0.5946\n",
      "epoch: 220 loss:0.356294 auc:0.6084\n",
      "epoch: 240 loss:0.351775 auc:0.6225\n",
      "epoch: 260 loss:0.345696 auc:0.6359\n",
      "epoch: 280 loss:0.339030 auc:0.6387\n"
     ]
    },
    {
     "name": "stderr",
     "output_type": "stream",
     "text": [
      " 99%|█████████▊| 454/460 [1:12:03<01:01, 10.31s/it]"
     ]
    },
    {
     "name": "stdout",
     "output_type": "stream",
     "text": [
      "epoch: 300 loss:0.331420 auc:0.5712\n",
      "Fit finished.\n",
      "epoch:   0 loss:0.819191 auc:0.5263\n",
      "epoch:  20 loss:0.393856 auc:0.7424\n",
      "epoch:  40 loss:0.378437 auc:0.7590\n",
      "epoch:  60 loss:0.373769 auc:0.7701\n",
      "epoch:  80 loss:0.372516 auc:0.7507\n",
      "epoch: 100 loss:0.371833 auc:0.7618\n",
      "epoch: 120 loss:0.371230 auc:0.7590\n",
      "epoch: 140 loss:0.370483 auc:0.7535\n",
      "epoch: 160 loss:0.369323 auc:0.7396\n"
     ]
    },
    {
     "name": "stderr",
     "output_type": "stream",
     "text": [
      " 99%|█████████▉| 455/460 [1:12:11<00:47,  9.59s/it]"
     ]
    },
    {
     "name": "stdout",
     "output_type": "stream",
     "text": [
      "epoch: 180 loss:0.367129 auc:0.7202\n",
      "Fit finished.\n",
      "epoch:   0 loss:0.770936 auc:0.4028\n",
      "epoch:  20 loss:0.395041 auc:0.5169\n",
      "epoch:  40 loss:0.377343 auc:0.5479\n",
      "epoch:  60 loss:0.372846 auc:0.5137\n",
      "epoch:  80 loss:0.371283 auc:0.5042\n",
      "epoch: 100 loss:0.370167 auc:0.5071\n",
      "epoch: 120 loss:0.368731 auc:0.5000\n",
      "epoch: 140 loss:0.366211 auc:0.4917\n",
      "epoch: 160 loss:0.362070 auc:0.4837\n"
     ]
    },
    {
     "name": "stderr",
     "output_type": "stream",
     "text": [
      " 99%|█████████▉| 456/460 [1:12:19<00:35,  9.00s/it]"
     ]
    },
    {
     "name": "stdout",
     "output_type": "stream",
     "text": [
      "epoch: 180 loss:0.357681 auc:0.5137\n",
      "Fit finished.\n",
      "epoch:   0 loss:0.783808 auc:0.5914\n",
      "epoch:  20 loss:0.395736 auc:0.4482\n",
      "epoch:  40 loss:0.376401 auc:0.3463\n",
      "epoch:  60 loss:0.372507 auc:0.2943\n",
      "epoch:  80 loss:0.371198 auc:0.2598\n",
      "epoch: 100 loss:0.370021 auc:0.2367\n",
      "epoch: 120 loss:0.368290 auc:0.2122\n",
      "epoch: 140 loss:0.364930 auc:0.1763\n"
     ]
    },
    {
     "name": "stderr",
     "output_type": "stream",
     "text": [
      " 99%|█████████▉| 457/460 [1:12:26<00:25,  8.47s/it]"
     ]
    },
    {
     "name": "stdout",
     "output_type": "stream",
     "text": [
      "epoch: 160 loss:0.359615 auc:0.1333\n",
      "Fit finished.\n",
      "epoch:   0 loss:0.726105 auc:0.4658\n",
      "epoch:  20 loss:0.396558 auc:0.5609\n",
      "epoch:  40 loss:0.377263 auc:0.6383\n",
      "epoch:  60 loss:0.372819 auc:0.6587\n",
      "epoch:  80 loss:0.371256 auc:0.6736\n",
      "epoch: 100 loss:0.370283 auc:0.6890\n",
      "epoch: 120 loss:0.369169 auc:0.7012\n",
      "epoch: 140 loss:0.367415 auc:0.7039\n",
      "epoch: 160 loss:0.364275 auc:0.7148\n",
      "epoch: 180 loss:0.359861 auc:0.7379\n",
      "epoch: 200 loss:0.355499 auc:0.7592\n",
      "epoch: 220 loss:0.350722 auc:0.7546\n",
      "epoch: 240 loss:0.345221 auc:0.7447\n",
      "epoch: 260 loss:0.336744 auc:0.7374\n",
      "epoch: 280 loss:0.328509 auc:0.7230\n",
      "epoch: 300 loss:0.319411 auc:0.7338\n",
      "epoch: 320 loss:0.312115 auc:0.7347\n"
     ]
    },
    {
     "name": "stderr",
     "output_type": "stream",
     "text": [
      "100%|█████████▉| 458/460 [1:12:40<00:20, 10.01s/it]"
     ]
    },
    {
     "name": "stdout",
     "output_type": "stream",
     "text": [
      "epoch: 340 loss:0.305421 auc:0.7284\n",
      "Fit finished.\n",
      "epoch:   0 loss:0.728217 auc:0.4842\n",
      "epoch:  20 loss:0.395622 auc:0.4635\n",
      "epoch:  40 loss:0.375892 auc:0.4750\n",
      "epoch:  60 loss:0.372337 auc:0.4840\n",
      "epoch:  80 loss:0.371043 auc:0.4920\n",
      "epoch: 100 loss:0.369972 auc:0.5008\n",
      "epoch: 120 loss:0.368500 auc:0.5084\n",
      "epoch: 140 loss:0.365734 auc:0.5139\n",
      "epoch: 160 loss:0.360815 auc:0.5219\n",
      "epoch: 180 loss:0.354997 auc:0.5065\n"
     ]
    },
    {
     "name": "stderr",
     "output_type": "stream",
     "text": [
      "100%|█████████▉| 459/460 [1:12:48<00:09,  9.49s/it]"
     ]
    },
    {
     "name": "stdout",
     "output_type": "stream",
     "text": [
      "epoch: 200 loss:0.351647 auc:0.4585\n",
      "Fit finished.\n",
      "epoch:   0 loss:0.817471 auc:0.3457\n",
      "epoch:  20 loss:0.399250 auc:0.4078\n",
      "epoch:  40 loss:0.377660 auc:0.4559\n",
      "epoch:  60 loss:0.372903 auc:0.4720\n",
      "epoch:  80 loss:0.371231 auc:0.4967\n",
      "epoch: 100 loss:0.370101 auc:0.5082\n",
      "epoch: 120 loss:0.368832 auc:0.5216\n",
      "epoch: 140 loss:0.366849 auc:0.5302\n",
      "epoch: 160 loss:0.363052 auc:0.5310\n",
      "epoch: 180 loss:0.357752 auc:0.5086\n",
      "epoch: 200 loss:0.351583 auc:0.4814\n",
      "epoch: 220 loss:0.342846 auc:0.4724\n"
     ]
    },
    {
     "name": "stderr",
     "output_type": "stream",
     "text": [
      "100%|██████████| 460/460 [1:12:58<00:00,  9.52s/it]"
     ]
    },
    {
     "name": "stdout",
     "output_type": "stream",
     "text": [
      "epoch: 240 loss:0.334630 auc:0.4755\n",
      "Fit finished.\n"
     ]
    },
    {
     "name": "stderr",
     "output_type": "stream",
     "text": [
      "\n"
     ]
    }
   ],
   "source": [
    "n_kfold = 1\n",
    "true_data_s = pd.DataFrame()\n",
    "predict_data_s = pd.DataFrame()\n",
    "for dim in target_dim:\n",
    "    for seed, target_index in enumerate(tqdm(np.arange(res.shape[dim]))):\n",
    "        if dim:\n",
    "            if drug_sum[target_index] < 10:\n",
    "                continue\n",
    "        else:\n",
    "            if cell_sum[target_index] < 10:\n",
    "                continue\n",
    "        epochs = []\n",
    "        for fold in range(n_kfold):\n",
    "            true_data, predict_data = mofgcn_new(\n",
    "                exprs=exprs,\n",
    "                cna=cna,\n",
    "                mut=mut,\n",
    "                drug_finger=drug_finger,\n",
    "                res_mat=res,\n",
    "                null_mask=null_mask,\n",
    "                target_dim=dim,\n",
    "                target_index=target_index,\n",
    "                evaluate_fun=roc_auc,\n",
    "                args=args,\n",
    "                seed=seed,\n",
    "                device=device,\n",
    "            )\n",
    "\n",
    "        true_data_s = pd.concat(\n",
    "            [true_data_s, translate_result(true_data)], ignore_index=True\n",
    "        )\n",
    "        predict_data_s = pd.concat(\n",
    "            [predict_data_s, translate_result(predict_data)], ignore_index=True\n",
    "        )"
   ]
  },
  {
   "cell_type": "code",
   "execution_count": 7,
   "id": "ee74598b-d6ba-4763-81e3-4b54516ce071",
   "metadata": {},
   "outputs": [],
   "source": [
    "true_data_s.to_csv(f\"new_drug_true_{args.data}.csv\")\n",
    "predict_data_s.to_csv(f\"new_drug_pred_{args.data}.csv\")"
   ]
  },
  {
   "cell_type": "code",
   "execution_count": null,
   "id": "ffc0c1e3-9f77-41a8-829f-8e9a1bf52edb",
   "metadata": {},
   "outputs": [],
   "source": []
  },
  {
   "cell_type": "code",
   "execution_count": null,
   "id": "e68325c4-cbaa-4dc5-8958-2020b8ae7162",
   "metadata": {},
   "outputs": [],
   "source": []
  },
  {
   "cell_type": "code",
   "execution_count": null,
   "id": "185a0098-e177-4b95-82cc-58c735363c60",
   "metadata": {},
   "outputs": [],
   "source": []
  },
  {
   "cell_type": "code",
   "execution_count": null,
   "id": "ee3e9e61-1f5a-4e9c-abcd-c8a6a99201e3",
   "metadata": {},
   "outputs": [],
   "source": []
  },
  {
   "cell_type": "code",
   "execution_count": null,
   "id": "3c602424-24bb-4876-ad7c-157226a1db15",
   "metadata": {},
   "outputs": [],
   "source": []
  },
  {
   "cell_type": "code",
   "execution_count": null,
   "id": "bc598152-9bfd-49cb-94a1-e06bf3b9adfa",
   "metadata": {},
   "outputs": [],
   "source": []
  },
  {
   "cell_type": "code",
   "execution_count": null,
   "id": "3b2ae018-e508-46da-b0e6-0c4d3c803692",
   "metadata": {},
   "outputs": [],
   "source": []
  }
 ],
 "metadata": {
  "kernelspec": {
   "display_name": "torch",
   "language": "python",
   "name": "torch"
  },
  "language_info": {
   "codemirror_mode": {
    "name": "ipython",
    "version": 3
   },
   "file_extension": ".py",
   "mimetype": "text/x-python",
   "name": "python",
   "nbconvert_exporter": "python",
   "pygments_lexer": "ipython3",
   "version": "3.10.15"
  }
 },
 "nbformat": 4,
 "nbformat_minor": 5
}
