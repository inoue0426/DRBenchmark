{
 "cells": [
  {
   "cell_type": "code",
   "execution_count": 1,
   "id": "572a0fa8-b250-47bc-b76d-a2ec8c923717",
   "metadata": {},
   "outputs": [],
   "source": [
    "import argparse\n",
    "\n",
    "import numpy as np\n",
    "import pandas as pd\n",
    "import scipy.sparse as sp\n",
    "import torch\n",
    "from sklearn.model_selection import KFold\n",
    "from tqdm import tqdm"
   ]
  },
  {
   "cell_type": "code",
   "execution_count": 2,
   "id": "807ed612-b85a-46b4-9f14-9df64631581d",
   "metadata": {},
   "outputs": [],
   "source": [
    "%load_ext autoreload\n",
    "%autoreload 2\n",
    "\n",
    "from load_data import load_data\n",
    "from model import GModel\n",
    "from myutils import roc_auc, translate_result\n",
    "from optimizer import Optimizer\n",
    "from sampler import NewSampler"
   ]
  },
  {
   "cell_type": "code",
   "execution_count": 3,
   "id": "377e2120-1fee-4f37-acac-6b5693543ff4",
   "metadata": {},
   "outputs": [
    {
     "name": "stdout",
     "output_type": "stream",
     "text": [
      "load gdsc1\n"
     ]
    }
   ],
   "source": [
    "class Args:\n",
    "    def __init__(self):\n",
    "        self.device = \"cpu\"  # cuda:number or cpu\n",
    "        self.data = \"gdsc1\"  # Dataset{gdsc or ccle}\n",
    "\n",
    "\n",
    "args = Args()\n",
    "res, drug_finger, exprs, mut, cna, null_mask, pos_num = load_data(args)"
   ]
  },
  {
   "cell_type": "code",
   "execution_count": 4,
   "id": "e4830366-799a-4b1e-8395-7d4121b83a73",
   "metadata": {},
   "outputs": [],
   "source": [
    "cell_sum = np.sum(res, axis=1)\n",
    "drug_sum = np.sum(res, axis=0)\n",
    "\n",
    "target_dim = [\n",
    "    0,  # Cell\n",
    "    # 1  # Drug\n",
    "]\n",
    "device = torch.device(\"cuda\" if torch.cuda.is_available() else \"cpu\")"
   ]
  },
  {
   "cell_type": "code",
   "execution_count": 5,
   "id": "f7186080-2927-47ab-82ec-1334f60f6777",
   "metadata": {},
   "outputs": [],
   "source": [
    "def mofgcn_new(\n",
    "    exprs,\n",
    "    cna,\n",
    "    mut,\n",
    "    drug_finger,\n",
    "    res_mat,\n",
    "    null_mask,\n",
    "    target_dim,\n",
    "    target_index,\n",
    "    evaluate_fun,\n",
    "    args,\n",
    "    seed,\n",
    "    device,\n",
    "):\n",
    "    sampler = NewSampler(res_mat, null_mask, target_dim, target_index, seed)\n",
    "    val_labels = sampler.test_data[sampler.test_mask] \n",
    "\n",
    "    if len(np.unique(val_labels)) < 2:\n",
    "        print(f\"Target {target_index} skipped: Validation set has only one class.\")\n",
    "        return None, None \n",
    "\n",
    "    model = GModel(\n",
    "        adj_mat=sampler.train_data,\n",
    "        gene=exprs,\n",
    "        cna=cna,\n",
    "        mutation=mut,\n",
    "        sigma=2,\n",
    "        k=11,\n",
    "        iterates=3,\n",
    "        feature_drug=drug_finger,\n",
    "        n_hid1=192,\n",
    "        n_hid2=36,\n",
    "        alpha=5.74,\n",
    "        device=device,\n",
    "    )\n",
    "    opt = Optimizer(\n",
    "        model,\n",
    "        sampler.train_data,\n",
    "        sampler.test_data,\n",
    "        sampler.test_mask,\n",
    "        sampler.train_mask,\n",
    "        roc_auc,\n",
    "        lr=5e-4,\n",
    "        epochs=1000,\n",
    "        device=device,\n",
    "    ).to(device)\n",
    "    epoch, true_data, predict_data = opt()\n",
    "    return true_data, predict_data"
   ]
  },
  {
   "cell_type": "code",
   "execution_count": 6,
   "id": "c23b7d83-33d7-4868-8981-12ae43bc19ec",
   "metadata": {
    "scrolled": true
   },
   "outputs": [
    {
     "name": "stderr",
     "output_type": "stream",
     "text": [
      "  0%|          | 0/916 [00:00<?, ?it/s]"
     ]
    },
    {
     "name": "stdout",
     "output_type": "stream",
     "text": [
      "epoch:   0 loss:0.666842 auc:0.7328\n",
      "epoch:  20 loss:0.326294 auc:0.9619\n",
      "epoch:  40 loss:0.245101 auc:0.9731\n",
      "epoch:  60 loss:0.218875 auc:0.9769\n",
      "epoch:  80 loss:0.209594 auc:0.9769\n",
      "epoch: 100 loss:0.203713 auc:0.9773\n",
      "epoch: 120 loss:0.197820 auc:0.9785\n",
      "epoch: 140 loss:0.194403 auc:0.9789\n",
      "epoch: 160 loss:0.192896 auc:0.9789\n",
      "epoch: 180 loss:0.191845 auc:0.9781\n",
      "epoch: 200 loss:0.191864 auc:0.9777\n",
      "epoch: 220 loss:0.190489 auc:0.9777\n"
     ]
    },
    {
     "name": "stderr",
     "output_type": "stream",
     "text": [
      "  0%|          | 1/916 [00:11<2:55:53, 11.53s/it]"
     ]
    },
    {
     "name": "stdout",
     "output_type": "stream",
     "text": [
      "epoch: 240 loss:0.189674 auc:0.9762\n",
      "Fit finished.\n",
      "epoch:   0 loss:1.254310 auc:0.6774\n",
      "epoch:  20 loss:0.320894 auc:0.9769\n",
      "epoch:  40 loss:0.246896 auc:0.9798\n",
      "epoch:  60 loss:0.220178 auc:0.9772\n",
      "epoch:  80 loss:0.210168 auc:0.9792\n",
      "epoch: 100 loss:0.203317 auc:0.9785\n",
      "epoch: 120 loss:0.196363 auc:0.9785\n",
      "epoch: 140 loss:0.193730 auc:0.9785\n",
      "epoch: 160 loss:0.192339 auc:0.9785\n",
      "epoch: 180 loss:0.191549 auc:0.9779\n"
     ]
    },
    {
     "name": "stderr",
     "output_type": "stream",
     "text": [
      "  0%|          | 2/916 [00:19<2:24:21,  9.48s/it]"
     ]
    },
    {
     "name": "stdout",
     "output_type": "stream",
     "text": [
      "epoch: 200 loss:0.190866 auc:0.9775\n",
      "Fit finished.\n",
      "epoch:   0 loss:1.153182 auc:0.4874\n",
      "epoch:  20 loss:0.307931 auc:0.9479\n",
      "epoch:  40 loss:0.233835 auc:0.9549\n",
      "epoch:  60 loss:0.217708 auc:0.9553\n",
      "epoch:  80 loss:0.210003 auc:0.9544\n",
      "epoch: 100 loss:0.204773 auc:0.9553\n",
      "epoch: 120 loss:0.199336 auc:0.9553\n",
      "epoch: 140 loss:0.195214 auc:0.9553\n",
      "epoch: 160 loss:0.193319 auc:0.9549\n",
      "epoch: 180 loss:0.192153 auc:0.9544\n"
     ]
    },
    {
     "name": "stderr",
     "output_type": "stream",
     "text": [
      "  0%|          | 3/916 [00:28<2:22:27,  9.36s/it]"
     ]
    },
    {
     "name": "stdout",
     "output_type": "stream",
     "text": [
      "epoch: 200 loss:0.191194 auc:0.9540\n",
      "Fit finished.\n",
      "epoch:   0 loss:0.882983 auc:0.7716\n",
      "epoch:  20 loss:0.328204 auc:0.9506\n",
      "epoch:  40 loss:0.241469 auc:0.9513\n",
      "epoch:  60 loss:0.218170 auc:0.9499\n",
      "epoch:  80 loss:0.209356 auc:0.9496\n",
      "epoch: 100 loss:0.203585 auc:0.9496\n",
      "epoch: 120 loss:0.197707 auc:0.9503\n",
      "epoch: 140 loss:0.194017 auc:0.9496\n",
      "epoch: 160 loss:0.192279 auc:0.9496\n"
     ]
    },
    {
     "name": "stderr",
     "output_type": "stream",
     "text": [
      "  0%|          | 4/916 [00:36<2:14:54,  8.88s/it]"
     ]
    },
    {
     "name": "stdout",
     "output_type": "stream",
     "text": [
      "epoch: 180 loss:0.191320 auc:0.9499\n",
      "Fit finished.\n",
      "epoch:   0 loss:0.612156 auc:0.5334\n",
      "epoch:  20 loss:0.266492 auc:0.9655\n",
      "epoch:  40 loss:0.219083 auc:0.9675\n",
      "epoch:  60 loss:0.207810 auc:0.9667\n",
      "epoch:  80 loss:0.201010 auc:0.9667\n",
      "epoch: 100 loss:0.195710 auc:0.9667\n",
      "epoch: 120 loss:0.193402 auc:0.9670\n",
      "epoch: 140 loss:0.191787 auc:0.9672\n",
      "epoch: 160 loss:0.190272 auc:0.9667\n",
      "epoch: 180 loss:0.189376 auc:0.9660\n"
     ]
    },
    {
     "name": "stderr",
     "output_type": "stream",
     "text": [
      "  1%|          | 5/916 [00:44<2:05:00,  8.23s/it]"
     ]
    },
    {
     "name": "stdout",
     "output_type": "stream",
     "text": [
      "epoch: 200 loss:0.187902 auc:0.9662\n",
      "Fit finished.\n",
      "epoch:   0 loss:0.894210 auc:0.8327\n",
      "epoch:  20 loss:0.336977 auc:0.9617\n",
      "epoch:  40 loss:0.254426 auc:0.9689\n",
      "epoch:  60 loss:0.221983 auc:0.9709\n",
      "epoch:  80 loss:0.209493 auc:0.9702\n",
      "epoch: 100 loss:0.202718 auc:0.9699\n",
      "epoch: 120 loss:0.197233 auc:0.9699\n",
      "epoch: 140 loss:0.194383 auc:0.9696\n",
      "epoch: 160 loss:0.192802 auc:0.9689\n",
      "epoch: 180 loss:0.191737 auc:0.9693\n",
      "epoch: 200 loss:0.190825 auc:0.9693\n"
     ]
    },
    {
     "name": "stderr",
     "output_type": "stream",
     "text": [
      "  1%|          | 6/916 [00:53<2:13:31,  8.80s/it]"
     ]
    },
    {
     "name": "stdout",
     "output_type": "stream",
     "text": [
      "epoch: 220 loss:0.190175 auc:0.9689\n",
      "Fit finished.\n",
      "epoch:   0 loss:0.828922 auc:0.1266\n",
      "epoch:  20 loss:0.293439 auc:0.9821\n",
      "epoch:  40 loss:0.231921 auc:0.9804\n",
      "epoch:  60 loss:0.217064 auc:0.9796\n",
      "epoch:  80 loss:0.209451 auc:0.9804\n",
      "epoch: 100 loss:0.203192 auc:0.9804\n",
      "epoch: 120 loss:0.196996 auc:0.9804\n",
      "epoch: 140 loss:0.193822 auc:0.9804\n",
      "epoch: 160 loss:0.192299 auc:0.9804\n"
     ]
    },
    {
     "name": "stderr",
     "output_type": "stream",
     "text": [
      "  1%|          | 7/916 [01:01<2:09:12,  8.53s/it]"
     ]
    },
    {
     "name": "stdout",
     "output_type": "stream",
     "text": [
      "epoch: 180 loss:0.191944 auc:0.9800\n",
      "Fit finished.\n",
      "epoch:   0 loss:0.640691 auc:0.3380\n",
      "epoch:  20 loss:0.241706 auc:0.9331\n",
      "epoch:  40 loss:0.215257 auc:0.9405\n",
      "epoch:  60 loss:0.207652 auc:0.9423\n",
      "epoch:  80 loss:0.201293 auc:0.9424\n",
      "epoch: 100 loss:0.195383 auc:0.9442\n",
      "epoch: 120 loss:0.192890 auc:0.9432\n",
      "epoch: 140 loss:0.194104 auc:0.9408\n",
      "epoch: 160 loss:0.190318 auc:0.9374\n"
     ]
    },
    {
     "name": "stderr",
     "output_type": "stream",
     "text": [
      "  1%|          | 8/916 [01:08<1:59:53,  7.92s/it]"
     ]
    },
    {
     "name": "stdout",
     "output_type": "stream",
     "text": [
      "epoch: 180 loss:0.190169 auc:0.9288\n",
      "Fit finished.\n",
      "epoch:   0 loss:0.989950 auc:0.3727\n",
      "epoch:  20 loss:0.310968 auc:0.9697\n",
      "epoch:  40 loss:0.232563 auc:0.9675\n",
      "epoch:  60 loss:0.215824 auc:0.9679\n",
      "epoch:  80 loss:0.207798 auc:0.9679\n",
      "epoch: 100 loss:0.202107 auc:0.9682\n",
      "epoch: 120 loss:0.196785 auc:0.9679\n",
      "epoch: 140 loss:0.193920 auc:0.9680\n",
      "epoch: 160 loss:0.192560 auc:0.9682\n"
     ]
    },
    {
     "name": "stderr",
     "output_type": "stream",
     "text": [
      "  1%|          | 9/916 [01:16<2:00:25,  7.97s/it]"
     ]
    },
    {
     "name": "stdout",
     "output_type": "stream",
     "text": [
      "epoch: 180 loss:0.191593 auc:0.9679\n",
      "Fit finished.\n",
      "epoch:   0 loss:0.937487 auc:0.6037\n",
      "epoch:  20 loss:0.318376 auc:0.9545\n",
      "epoch:  40 loss:0.238754 auc:0.9562\n",
      "epoch:  60 loss:0.217478 auc:0.9604\n",
      "epoch:  80 loss:0.210045 auc:0.9607\n",
      "epoch: 100 loss:0.205221 auc:0.9613\n",
      "epoch: 120 loss:0.200107 auc:0.9604\n",
      "epoch: 140 loss:0.195614 auc:0.9598\n",
      "epoch: 160 loss:0.193571 auc:0.9598\n",
      "epoch: 180 loss:0.192204 auc:0.9593\n",
      "epoch: 200 loss:0.191701 auc:0.9587\n"
     ]
    },
    {
     "name": "stderr",
     "output_type": "stream",
     "text": [
      "  1%|          | 10/916 [01:25<2:05:09,  8.29s/it]"
     ]
    },
    {
     "name": "stdout",
     "output_type": "stream",
     "text": [
      "epoch: 220 loss:0.190753 auc:0.9576\n",
      "Fit finished.\n",
      "epoch:   0 loss:1.620354 auc:0.7157\n",
      "epoch:  20 loss:0.309585 auc:0.9709\n",
      "epoch:  40 loss:0.236912 auc:0.9747\n",
      "epoch:  60 loss:0.217142 auc:0.9713\n",
      "epoch:  80 loss:0.209489 auc:0.9703\n",
      "epoch: 100 loss:0.204445 auc:0.9712\n",
      "epoch: 120 loss:0.199340 auc:0.9713\n",
      "epoch: 140 loss:0.195415 auc:0.9715\n",
      "epoch: 160 loss:0.193479 auc:0.9713\n",
      "epoch: 180 loss:0.192266 auc:0.9713\n"
     ]
    },
    {
     "name": "stderr",
     "output_type": "stream",
     "text": [
      "  1%|          | 11/916 [01:33<2:05:05,  8.29s/it]"
     ]
    },
    {
     "name": "stdout",
     "output_type": "stream",
     "text": [
      "epoch: 200 loss:0.191468 auc:0.9717\n",
      "Fit finished.\n",
      "epoch:   0 loss:0.979585 auc:0.3947\n",
      "epoch:  20 loss:0.308288 auc:0.9855\n",
      "epoch:  40 loss:0.229008 auc:0.9882\n",
      "epoch:  60 loss:0.214358 auc:0.9869\n",
      "epoch:  80 loss:0.208554 auc:0.9860\n",
      "epoch: 100 loss:0.204143 auc:0.9864\n",
      "epoch: 120 loss:0.199340 auc:0.9864\n",
      "epoch: 140 loss:0.195415 auc:0.9860\n",
      "epoch: 160 loss:0.193609 auc:0.9855\n",
      "epoch: 180 loss:0.192405 auc:0.9855\n"
     ]
    },
    {
     "name": "stderr",
     "output_type": "stream",
     "text": [
      "  1%|▏         | 12/916 [01:42<2:05:53,  8.36s/it]"
     ]
    },
    {
     "name": "stdout",
     "output_type": "stream",
     "text": [
      "epoch: 200 loss:0.191318 auc:0.9855\n",
      "Fit finished.\n",
      "epoch:   0 loss:1.003111 auc:0.3721\n",
      "epoch:  20 loss:0.310202 auc:0.9806\n",
      "epoch:  40 loss:0.232889 auc:0.9828\n",
      "epoch:  60 loss:0.216806 auc:0.9880\n",
      "epoch:  80 loss:0.209510 auc:0.9892\n",
      "epoch: 100 loss:0.204582 auc:0.9889\n",
      "epoch: 120 loss:0.199421 auc:0.9889\n",
      "epoch: 140 loss:0.195176 auc:0.9886\n",
      "epoch: 160 loss:0.193262 auc:0.9883\n",
      "epoch: 180 loss:0.192027 auc:0.9877\n",
      "epoch: 200 loss:0.191046 auc:0.9874\n"
     ]
    },
    {
     "name": "stderr",
     "output_type": "stream",
     "text": [
      "  1%|▏         | 13/916 [01:51<2:07:46,  8.49s/it]"
     ]
    },
    {
     "name": "stdout",
     "output_type": "stream",
     "text": [
      "epoch: 220 loss:0.190427 auc:0.9868\n",
      "Fit finished.\n",
      "epoch:   0 loss:0.689883 auc:0.3918\n",
      "epoch:  20 loss:0.261096 auc:0.9234\n",
      "epoch:  40 loss:0.217459 auc:0.9244\n",
      "epoch:  60 loss:0.207815 auc:0.9273\n",
      "epoch:  80 loss:0.202036 auc:0.9285\n",
      "epoch: 100 loss:0.196968 auc:0.9278\n",
      "epoch: 120 loss:0.194253 auc:0.9275\n",
      "epoch: 140 loss:0.192817 auc:0.9266\n",
      "epoch: 160 loss:0.191701 auc:0.9271\n",
      "epoch: 180 loss:0.190665 auc:0.9288\n",
      "epoch: 200 loss:0.191452 auc:0.9303\n",
      "epoch: 220 loss:0.189103 auc:0.9339\n",
      "epoch: 240 loss:0.187500 auc:0.9342\n",
      "epoch: 260 loss:0.187988 auc:0.9368\n",
      "epoch: 280 loss:0.185201 auc:0.9427\n",
      "epoch: 300 loss:0.183363 auc:0.9491\n",
      "epoch: 320 loss:0.182375 auc:0.9519\n",
      "epoch: 340 loss:0.179026 auc:0.9558\n",
      "epoch: 360 loss:0.186184 auc:0.9534\n",
      "epoch: 380 loss:0.176206 auc:0.9553\n"
     ]
    },
    {
     "name": "stderr",
     "output_type": "stream",
     "text": [
      "  2%|▏         | 14/916 [02:07<2:43:43, 10.89s/it]"
     ]
    },
    {
     "name": "stdout",
     "output_type": "stream",
     "text": [
      "epoch: 400 loss:0.185823 auc:0.9233\n",
      "Fit finished.\n",
      "epoch:   0 loss:1.010843 auc:0.2211\n",
      "epoch:  20 loss:0.288230 auc:0.9789\n",
      "epoch:  40 loss:0.228087 auc:0.9739\n",
      "epoch:  60 loss:0.213197 auc:0.9696\n",
      "epoch:  80 loss:0.207449 auc:0.9692\n",
      "epoch: 100 loss:0.202401 auc:0.9692\n",
      "epoch: 120 loss:0.197476 auc:0.9689\n",
      "epoch: 140 loss:0.194587 auc:0.9689\n",
      "epoch: 160 loss:0.193076 auc:0.9689\n"
     ]
    },
    {
     "name": "stderr",
     "output_type": "stream",
     "text": [
      "  2%|▏         | 15/916 [02:15<2:29:57,  9.99s/it]"
     ]
    },
    {
     "name": "stdout",
     "output_type": "stream",
     "text": [
      "epoch: 180 loss:0.191966 auc:0.9692\n",
      "Fit finished.\n",
      "epoch:   0 loss:0.610449 auc:0.5495\n",
      "epoch:  20 loss:0.270592 auc:0.9347\n",
      "epoch:  40 loss:0.222111 auc:0.9351\n",
      "epoch:  60 loss:0.211059 auc:0.9365\n",
      "epoch:  80 loss:0.205433 auc:0.9367\n",
      "epoch: 100 loss:0.199139 auc:0.9367\n",
      "epoch: 120 loss:0.194380 auc:0.9363\n",
      "epoch: 140 loss:0.192553 auc:0.9365\n",
      "epoch: 160 loss:0.191218 auc:0.9367\n",
      "epoch: 180 loss:0.190612 auc:0.9359\n"
     ]
    },
    {
     "name": "stderr",
     "output_type": "stream",
     "text": [
      "  2%|▏         | 16/916 [02:23<2:18:43,  9.25s/it]"
     ]
    },
    {
     "name": "stdout",
     "output_type": "stream",
     "text": [
      "epoch: 200 loss:0.189391 auc:0.9347\n",
      "Fit finished.\n",
      "epoch:   0 loss:0.726110 auc:0.3121\n",
      "epoch:  20 loss:0.264694 auc:0.9470\n",
      "epoch:  40 loss:0.220443 auc:0.9611\n",
      "epoch:  60 loss:0.210351 auc:0.9648\n",
      "epoch:  80 loss:0.204098 auc:0.9681\n",
      "epoch: 100 loss:0.197640 auc:0.9670\n",
      "epoch: 120 loss:0.193923 auc:0.9665\n",
      "epoch: 140 loss:0.191814 auc:0.9692\n",
      "epoch: 160 loss:0.190502 auc:0.9686\n",
      "epoch: 180 loss:0.189137 auc:0.9681\n",
      "epoch: 200 loss:0.187347 auc:0.9692\n",
      "epoch: 220 loss:0.187199 auc:0.9686\n"
     ]
    },
    {
     "name": "stderr",
     "output_type": "stream",
     "text": [
      "  2%|▏         | 17/916 [02:38<2:47:06, 11.15s/it]"
     ]
    },
    {
     "name": "stdout",
     "output_type": "stream",
     "text": [
      "epoch: 240 loss:0.184736 auc:0.9676\n",
      "Fit finished.\n",
      "epoch:   0 loss:1.144990 auc:0.6761\n",
      "epoch:  20 loss:0.318653 auc:0.9633\n",
      "epoch:  40 loss:0.241853 auc:0.9712\n",
      "epoch:  60 loss:0.220128 auc:0.9729\n",
      "epoch:  80 loss:0.211776 auc:0.9729\n",
      "epoch: 100 loss:0.206896 auc:0.9733\n",
      "epoch: 120 loss:0.202185 auc:0.9733\n",
      "epoch: 140 loss:0.197281 auc:0.9733\n",
      "epoch: 160 loss:0.194479 auc:0.9733\n",
      "epoch: 180 loss:0.193056 auc:0.9729\n",
      "epoch: 200 loss:0.192008 auc:0.9729\n",
      "epoch: 220 loss:0.191621 auc:0.9733\n",
      "epoch: 240 loss:0.190427 auc:0.9729\n",
      "epoch: 260 loss:0.189523 auc:0.9736\n",
      "epoch: 280 loss:0.189171 auc:0.9757\n",
      "epoch: 300 loss:0.187879 auc:0.9763\n",
      "epoch: 320 loss:0.186746 auc:0.9781\n",
      "epoch: 340 loss:0.186227 auc:0.9774\n",
      "epoch: 360 loss:0.184319 auc:0.9784\n",
      "epoch: 380 loss:0.183764 auc:0.9805\n",
      "epoch: 400 loss:0.181874 auc:0.9808\n",
      "epoch: 420 loss:0.180982 auc:0.9818\n",
      "epoch: 440 loss:0.177122 auc:0.9829\n",
      "epoch: 460 loss:0.179804 auc:0.9808\n",
      "epoch: 480 loss:0.176213 auc:0.9794\n",
      "epoch: 500 loss:0.173018 auc:0.9791\n"
     ]
    },
    {
     "name": "stderr",
     "output_type": "stream",
     "text": [
      "  2%|▏         | 18/916 [03:12<4:31:02, 18.11s/it]"
     ]
    },
    {
     "name": "stdout",
     "output_type": "stream",
     "text": [
      "epoch: 520 loss:0.172200 auc:0.9733\n",
      "Fit finished.\n",
      "epoch:   0 loss:0.754067 auc:0.5294\n",
      "epoch:  20 loss:0.299444 auc:0.9639\n",
      "epoch:  40 loss:0.230687 auc:0.9647\n",
      "epoch:  60 loss:0.215842 auc:0.9649\n",
      "epoch:  80 loss:0.209221 auc:0.9673\n",
      "epoch: 100 loss:0.204093 auc:0.9670\n",
      "epoch: 120 loss:0.198261 auc:0.9670\n",
      "epoch: 140 loss:0.194402 auc:0.9676\n",
      "epoch: 160 loss:0.192585 auc:0.9675\n",
      "epoch: 180 loss:0.191467 auc:0.9660\n",
      "epoch: 200 loss:0.190489 auc:0.9660\n"
     ]
    },
    {
     "name": "stderr",
     "output_type": "stream",
     "text": [
      "  2%|▏         | 19/916 [03:26<4:10:58, 16.79s/it]"
     ]
    },
    {
     "name": "stdout",
     "output_type": "stream",
     "text": [
      "epoch: 220 loss:0.190261 auc:0.9631\n",
      "Fit finished.\n",
      "epoch:   0 loss:0.993829 auc:0.5234\n",
      "epoch:  20 loss:0.318562 auc:0.9259\n",
      "epoch:  40 loss:0.244804 auc:0.9322\n",
      "epoch:  60 loss:0.218392 auc:0.9353\n",
      "epoch:  80 loss:0.209260 auc:0.9380\n",
      "epoch: 100 loss:0.203084 auc:0.9380\n",
      "epoch: 120 loss:0.197372 auc:0.9378\n",
      "epoch: 140 loss:0.194054 auc:0.9378\n",
      "epoch: 160 loss:0.192447 auc:0.9371\n",
      "epoch: 180 loss:0.191993 auc:0.9368\n",
      "epoch: 200 loss:0.190497 auc:0.9358\n"
     ]
    },
    {
     "name": "stderr",
     "output_type": "stream",
     "text": [
      "  2%|▏         | 20/916 [03:39<3:54:47, 15.72s/it]"
     ]
    },
    {
     "name": "stdout",
     "output_type": "stream",
     "text": [
      "epoch: 220 loss:0.189851 auc:0.9335\n",
      "Fit finished.\n",
      "epoch:   0 loss:0.596479 auc:0.4186\n",
      "epoch:  20 loss:0.266059 auc:0.9640\n",
      "epoch:  40 loss:0.219862 auc:0.9636\n",
      "epoch:  60 loss:0.210150 auc:0.9622\n",
      "epoch:  80 loss:0.204193 auc:0.9628\n",
      "epoch: 100 loss:0.197647 auc:0.9631\n",
      "epoch: 120 loss:0.194049 auc:0.9633\n",
      "epoch: 140 loss:0.192278 auc:0.9638\n",
      "epoch: 160 loss:0.191039 auc:0.9651\n",
      "epoch: 180 loss:0.190393 auc:0.9656\n",
      "epoch: 200 loss:0.189210 auc:0.9676\n",
      "epoch: 220 loss:0.188051 auc:0.9700\n",
      "epoch: 240 loss:0.187928 auc:0.9694\n",
      "epoch: 260 loss:0.186244 auc:0.9731\n",
      "epoch: 280 loss:0.187511 auc:0.9739\n",
      "epoch: 300 loss:0.181755 auc:0.9712\n",
      "epoch: 320 loss:0.179571 auc:0.9763\n",
      "epoch: 340 loss:0.180103 auc:0.9728\n",
      "epoch: 360 loss:0.178723 auc:0.9764\n",
      "epoch: 380 loss:0.173789 auc:0.9739\n"
     ]
    },
    {
     "name": "stderr",
     "output_type": "stream",
     "text": [
      "  2%|▏         | 21/916 [04:03<4:27:58, 17.97s/it]"
     ]
    },
    {
     "name": "stdout",
     "output_type": "stream",
     "text": [
      "epoch: 400 loss:0.169962 auc:0.9657\n",
      "Fit finished.\n",
      "epoch:   0 loss:0.583044 auc:0.4724\n",
      "epoch:  20 loss:0.280833 auc:0.9382\n",
      "epoch:  40 loss:0.223839 auc:0.9472\n",
      "epoch:  60 loss:0.211442 auc:0.9541\n",
      "epoch:  80 loss:0.205572 auc:0.9522\n",
      "epoch: 100 loss:0.199084 auc:0.9524\n",
      "epoch: 120 loss:0.194565 auc:0.9522\n",
      "epoch: 140 loss:0.192717 auc:0.9517\n",
      "epoch: 160 loss:0.191483 auc:0.9520\n",
      "epoch: 180 loss:0.190365 auc:0.9522\n",
      "epoch: 200 loss:0.191260 auc:0.9527\n",
      "epoch: 220 loss:0.188892 auc:0.9541\n",
      "epoch: 240 loss:0.187476 auc:0.9569\n",
      "epoch: 260 loss:0.187878 auc:0.9579\n",
      "epoch: 280 loss:0.185257 auc:0.9607\n",
      "epoch: 300 loss:0.186301 auc:0.9636\n",
      "epoch: 320 loss:0.182486 auc:0.9636\n",
      "epoch: 340 loss:0.187761 auc:0.9636\n",
      "epoch: 360 loss:0.181283 auc:0.9640\n",
      "epoch: 380 loss:0.177149 auc:0.9628\n",
      "epoch: 400 loss:0.174223 auc:0.9633\n"
     ]
    },
    {
     "name": "stderr",
     "output_type": "stream",
     "text": [
      "  2%|▏         | 22/916 [04:25<4:46:03, 19.20s/it]"
     ]
    },
    {
     "name": "stdout",
     "output_type": "stream",
     "text": [
      "epoch: 420 loss:0.172559 auc:0.9489\n",
      "Fit finished.\n",
      "epoch:   0 loss:0.710280 auc:0.2862\n",
      "epoch:  20 loss:0.283868 auc:0.9424\n",
      "epoch:  40 loss:0.226650 auc:0.9480\n",
      "epoch:  60 loss:0.213413 auc:0.9523\n",
      "epoch:  80 loss:0.208098 auc:0.9493\n",
      "epoch: 100 loss:0.202539 auc:0.9495\n",
      "epoch: 120 loss:0.196263 auc:0.9490\n",
      "epoch: 140 loss:0.193214 auc:0.9488\n",
      "epoch: 160 loss:0.194184 auc:0.9490\n",
      "epoch: 180 loss:0.190728 auc:0.9480\n"
     ]
    },
    {
     "name": "stderr",
     "output_type": "stream",
     "text": [
      "  3%|▎         | 23/916 [04:36<4:12:29, 16.96s/it]"
     ]
    },
    {
     "name": "stdout",
     "output_type": "stream",
     "text": [
      "epoch: 200 loss:0.189488 auc:0.9471\n",
      "Fit finished.\n",
      "epoch:   0 loss:0.929017 auc:0.7019\n",
      "epoch:  20 loss:0.307724 auc:0.9371\n",
      "epoch:  40 loss:0.234642 auc:0.9556\n",
      "epoch:  60 loss:0.217108 auc:0.9571\n",
      "epoch:  80 loss:0.210022 auc:0.9575\n",
      "epoch: 100 loss:0.205409 auc:0.9582\n",
      "epoch: 120 loss:0.200609 auc:0.9575\n",
      "epoch: 140 loss:0.195985 auc:0.9575\n",
      "epoch: 160 loss:0.193635 auc:0.9571\n",
      "epoch: 180 loss:0.192357 auc:0.9571\n",
      "epoch: 200 loss:0.191402 auc:0.9575\n",
      "epoch: 220 loss:0.190515 auc:0.9593\n",
      "epoch: 240 loss:0.190078 auc:0.9604\n",
      "epoch: 260 loss:0.189251 auc:0.9608\n",
      "epoch: 280 loss:0.189561 auc:0.9604\n",
      "epoch: 300 loss:0.187650 auc:0.9604\n",
      "epoch: 320 loss:0.187817 auc:0.9589\n",
      "epoch: 340 loss:0.187399 auc:0.9589\n",
      "epoch: 360 loss:0.184285 auc:0.9593\n",
      "epoch: 380 loss:0.185757 auc:0.9597\n"
     ]
    },
    {
     "name": "stderr",
     "output_type": "stream",
     "text": [
      "  3%|▎         | 24/916 [04:59<4:35:54, 18.56s/it]"
     ]
    },
    {
     "name": "stdout",
     "output_type": "stream",
     "text": [
      "epoch: 400 loss:0.181487 auc:0.9589\n",
      "Fit finished.\n",
      "epoch:   0 loss:0.571243 auc:0.5422\n",
      "epoch:  20 loss:0.273332 auc:0.9776\n",
      "epoch:  40 loss:0.222342 auc:0.9791\n",
      "epoch:  60 loss:0.211384 auc:0.9798\n",
      "epoch:  80 loss:0.204894 auc:0.9783\n",
      "epoch: 100 loss:0.197948 auc:0.9786\n",
      "epoch: 120 loss:0.194074 auc:0.9783\n",
      "epoch: 140 loss:0.192226 auc:0.9768\n",
      "epoch: 160 loss:0.190692 auc:0.9760\n"
     ]
    },
    {
     "name": "stderr",
     "output_type": "stream",
     "text": [
      "  3%|▎         | 25/916 [05:08<3:54:53, 15.82s/it]"
     ]
    },
    {
     "name": "stdout",
     "output_type": "stream",
     "text": [
      "epoch: 180 loss:0.191590 auc:0.9752\n",
      "Fit finished.\n",
      "epoch:   0 loss:0.685908 auc:0.6431\n",
      "epoch:  20 loss:0.316635 auc:0.8594\n",
      "epoch:  40 loss:0.238825 auc:0.8756\n",
      "epoch:  60 loss:0.219255 auc:0.8794\n",
      "epoch:  80 loss:0.211983 auc:0.8794\n",
      "epoch: 100 loss:0.207497 auc:0.8775\n",
      "epoch: 120 loss:0.202705 auc:0.8794\n",
      "epoch: 140 loss:0.197261 auc:0.8794\n",
      "epoch: 160 loss:0.193898 auc:0.8787\n",
      "epoch: 180 loss:0.192339 auc:0.8781\n",
      "epoch: 200 loss:0.191246 auc:0.8788\n",
      "epoch: 220 loss:0.190808 auc:0.8812\n",
      "epoch: 240 loss:0.189650 auc:0.8825\n",
      "epoch: 260 loss:0.188795 auc:0.8812\n",
      "epoch: 280 loss:0.188145 auc:0.8844\n",
      "epoch: 300 loss:0.186821 auc:0.8850\n",
      "epoch: 320 loss:0.185700 auc:0.8944\n",
      "epoch: 340 loss:0.185355 auc:0.8950\n",
      "epoch: 360 loss:0.184807 auc:0.8975\n",
      "epoch: 380 loss:0.181879 auc:0.8975\n",
      "epoch: 400 loss:0.180557 auc:0.9012\n",
      "epoch: 420 loss:0.179495 auc:0.9019\n",
      "epoch: 440 loss:0.183746 auc:0.9050\n",
      "epoch: 460 loss:0.174856 auc:0.9037\n",
      "epoch: 480 loss:0.172279 auc:0.9006\n",
      "epoch: 500 loss:0.171101 auc:0.9069\n",
      "epoch: 520 loss:0.169338 auc:0.8975\n",
      "epoch: 540 loss:0.169220 auc:0.8975\n",
      "epoch: 560 loss:0.169142 auc:0.9025\n",
      "epoch: 580 loss:0.166573 auc:0.9081\n"
     ]
    },
    {
     "name": "stderr",
     "output_type": "stream",
     "text": [
      "  3%|▎         | 26/916 [05:40<5:08:01, 20.77s/it]"
     ]
    },
    {
     "name": "stdout",
     "output_type": "stream",
     "text": [
      "epoch: 600 loss:0.168675 auc:0.9031\n",
      "Fit finished.\n",
      "epoch:   0 loss:0.888404 auc:0.3190\n",
      "epoch:  20 loss:0.321737 auc:0.9583\n",
      "epoch:  40 loss:0.239723 auc:0.9587\n",
      "epoch:  60 loss:0.218157 auc:0.9626\n",
      "epoch:  80 loss:0.210251 auc:0.9633\n",
      "epoch: 100 loss:0.204822 auc:0.9640\n",
      "epoch: 120 loss:0.199152 auc:0.9643\n",
      "epoch: 140 loss:0.194953 auc:0.9630\n",
      "epoch: 160 loss:0.193189 auc:0.9643\n",
      "epoch: 180 loss:0.192101 auc:0.9643\n",
      "epoch: 200 loss:0.191278 auc:0.9646\n",
      "epoch: 220 loss:0.191200 auc:0.9640\n",
      "epoch: 240 loss:0.190092 auc:0.9636\n"
     ]
    },
    {
     "name": "stderr",
     "output_type": "stream",
     "text": [
      "  3%|▎         | 27/916 [05:55<4:38:20, 18.79s/it]"
     ]
    },
    {
     "name": "stdout",
     "output_type": "stream",
     "text": [
      "epoch: 260 loss:0.189572 auc:0.9636\n",
      "Fit finished.\n",
      "epoch:   0 loss:0.769067 auc:0.3578\n",
      "epoch:  20 loss:0.299740 auc:0.9589\n",
      "epoch:  40 loss:0.230043 auc:0.9601\n",
      "epoch:  60 loss:0.214783 auc:0.9617\n",
      "epoch:  80 loss:0.208253 auc:0.9649\n",
      "epoch: 100 loss:0.202498 auc:0.9633\n",
      "epoch: 120 loss:0.196506 auc:0.9636\n",
      "epoch: 140 loss:0.193786 auc:0.9643\n",
      "epoch: 160 loss:0.192315 auc:0.9646\n",
      "epoch: 180 loss:0.191168 auc:0.9649\n",
      "epoch: 200 loss:0.193803 auc:0.9646\n",
      "epoch: 220 loss:0.189674 auc:0.9665\n",
      "epoch: 240 loss:0.188276 auc:0.9672\n",
      "epoch: 260 loss:0.191949 auc:0.9665\n",
      "epoch: 280 loss:0.186270 auc:0.9656\n",
      "epoch: 300 loss:0.184361 auc:0.9659\n"
     ]
    },
    {
     "name": "stderr",
     "output_type": "stream",
     "text": [
      "  3%|▎         | 28/916 [06:12<4:32:37, 18.42s/it]"
     ]
    },
    {
     "name": "stdout",
     "output_type": "stream",
     "text": [
      "epoch: 320 loss:0.182742 auc:0.9640\n",
      "Fit finished.\n",
      "epoch:   0 loss:0.932060 auc:0.6010\n",
      "epoch:  20 loss:0.333567 auc:0.9171\n",
      "epoch:  40 loss:0.249451 auc:0.9325\n",
      "epoch:  60 loss:0.219385 auc:0.9467\n",
      "epoch:  80 loss:0.208910 auc:0.9488\n",
      "epoch: 100 loss:0.202773 auc:0.9484\n",
      "epoch: 120 loss:0.197177 auc:0.9475\n",
      "epoch: 140 loss:0.194233 auc:0.9463\n",
      "epoch: 160 loss:0.192836 auc:0.9459\n",
      "epoch: 180 loss:0.191920 auc:0.9454\n",
      "epoch: 200 loss:0.191129 auc:0.9454\n"
     ]
    },
    {
     "name": "stderr",
     "output_type": "stream",
     "text": [
      "  3%|▎         | 29/916 [06:28<4:20:47, 17.64s/it]"
     ]
    },
    {
     "name": "stdout",
     "output_type": "stream",
     "text": [
      "epoch: 220 loss:0.191598 auc:0.9454\n",
      "Fit finished.\n",
      "epoch:   0 loss:0.796965 auc:0.0726\n",
      "epoch:  20 loss:0.280370 auc:0.9840\n",
      "epoch:  40 loss:0.225290 auc:0.9875\n",
      "epoch:  60 loss:0.213021 auc:0.9883\n",
      "epoch:  80 loss:0.207667 auc:0.9872\n",
      "epoch: 100 loss:0.202199 auc:0.9868\n",
      "epoch: 120 loss:0.196096 auc:0.9865\n",
      "epoch: 140 loss:0.193350 auc:0.9872\n",
      "epoch: 160 loss:0.191851 auc:0.9875\n",
      "epoch: 180 loss:0.191951 auc:0.9879\n",
      "epoch: 200 loss:0.190165 auc:0.9883\n"
     ]
    },
    {
     "name": "stderr",
     "output_type": "stream",
     "text": [
      "  3%|▎         | 30/916 [06:41<4:00:15, 16.27s/it]"
     ]
    },
    {
     "name": "stdout",
     "output_type": "stream",
     "text": [
      "epoch: 220 loss:0.188926 auc:0.9875\n",
      "Fit finished.\n",
      "epoch:   0 loss:0.652884 auc:0.6293\n",
      "epoch:  20 loss:0.254588 auc:0.9576\n",
      "epoch:  40 loss:0.217665 auc:0.9579\n",
      "epoch:  60 loss:0.207031 auc:0.9579\n",
      "epoch:  80 loss:0.200129 auc:0.9568\n",
      "epoch: 100 loss:0.195352 auc:0.9550\n",
      "epoch: 120 loss:0.193168 auc:0.9558\n",
      "epoch: 140 loss:0.191663 auc:0.9553\n",
      "epoch: 160 loss:0.193195 auc:0.9558\n"
     ]
    },
    {
     "name": "stderr",
     "output_type": "stream",
     "text": [
      "  3%|▎         | 31/916 [06:52<3:37:11, 14.73s/it]"
     ]
    },
    {
     "name": "stdout",
     "output_type": "stream",
     "text": [
      "epoch: 180 loss:0.189546 auc:0.9571\n",
      "Fit finished.\n",
      "epoch:   0 loss:1.409047 auc:0.7952\n",
      "epoch:  20 loss:0.314269 auc:0.9595\n",
      "epoch:  40 loss:0.238263 auc:0.9641\n",
      "epoch:  60 loss:0.218162 auc:0.9651\n",
      "epoch:  80 loss:0.210241 auc:0.9626\n",
      "epoch: 100 loss:0.204989 auc:0.9629\n",
      "epoch: 120 loss:0.199507 auc:0.9634\n",
      "epoch: 140 loss:0.195110 auc:0.9634\n",
      "epoch: 160 loss:0.193111 auc:0.9622\n",
      "epoch: 180 loss:0.191969 auc:0.9624\n"
     ]
    },
    {
     "name": "stderr",
     "output_type": "stream",
     "text": [
      "  3%|▎         | 32/916 [07:03<3:18:40, 13.49s/it]"
     ]
    },
    {
     "name": "stdout",
     "output_type": "stream",
     "text": [
      "epoch: 200 loss:0.191152 auc:0.9624\n",
      "Fit finished.\n",
      "epoch:   0 loss:0.689466 auc:0.6524\n",
      "epoch:  20 loss:0.323785 auc:0.8710\n",
      "epoch:  40 loss:0.245828 auc:0.8697\n",
      "epoch:  60 loss:0.219068 auc:0.8731\n",
      "epoch:  80 loss:0.209663 auc:0.8747\n",
      "epoch: 100 loss:0.203931 auc:0.8770\n",
      "epoch: 120 loss:0.197373 auc:0.8769\n",
      "epoch: 140 loss:0.193591 auc:0.8775\n",
      "epoch: 160 loss:0.191838 auc:0.8757\n"
     ]
    },
    {
     "name": "stderr",
     "output_type": "stream",
     "text": [
      "  4%|▎         | 33/916 [07:14<3:06:53, 12.70s/it]"
     ]
    },
    {
     "name": "stdout",
     "output_type": "stream",
     "text": [
      "epoch: 180 loss:0.191119 auc:0.8665\n",
      "Fit finished.\n",
      "epoch:   0 loss:0.643735 auc:0.4077\n",
      "epoch:  20 loss:0.272775 auc:0.9249\n",
      "epoch:  40 loss:0.223687 auc:0.9294\n",
      "epoch:  60 loss:0.211194 auc:0.9368\n",
      "epoch:  80 loss:0.205248 auc:0.9368\n",
      "epoch: 100 loss:0.199015 auc:0.9373\n",
      "epoch: 120 loss:0.194467 auc:0.9371\n",
      "epoch: 140 loss:0.192561 auc:0.9368\n",
      "epoch: 160 loss:0.190959 auc:0.9345\n",
      "epoch: 180 loss:0.190143 auc:0.9285\n"
     ]
    },
    {
     "name": "stderr",
     "output_type": "stream",
     "text": [
      "  4%|▎         | 34/916 [07:25<3:01:05, 12.32s/it]"
     ]
    },
    {
     "name": "stdout",
     "output_type": "stream",
     "text": [
      "epoch: 200 loss:0.189162 auc:0.9223\n",
      "Fit finished.\n",
      "epoch:   0 loss:0.620898 auc:0.2107\n",
      "epoch:  20 loss:0.287696 auc:0.9758\n",
      "epoch:  40 loss:0.227202 auc:0.9785\n",
      "epoch:  60 loss:0.212108 auc:0.9696\n",
      "epoch:  80 loss:0.205095 auc:0.9708\n",
      "epoch: 100 loss:0.198832 auc:0.9708\n",
      "epoch: 120 loss:0.194882 auc:0.9708\n",
      "epoch: 140 loss:0.192944 auc:0.9719\n",
      "epoch: 160 loss:0.191640 auc:0.9712\n"
     ]
    },
    {
     "name": "stderr",
     "output_type": "stream",
     "text": [
      "  4%|▍         | 35/916 [07:36<2:55:01, 11.92s/it]"
     ]
    },
    {
     "name": "stdout",
     "output_type": "stream",
     "text": [
      "epoch: 180 loss:0.190607 auc:0.9715\n",
      "Fit finished.\n",
      "epoch:   0 loss:0.772013 auc:0.5872\n",
      "epoch:  20 loss:0.314129 auc:0.9703\n",
      "epoch:  40 loss:0.235420 auc:0.9749\n",
      "epoch:  60 loss:0.215643 auc:0.9740\n",
      "epoch:  80 loss:0.207068 auc:0.9739\n",
      "epoch: 100 loss:0.200790 auc:0.9746\n",
      "epoch: 120 loss:0.196009 auc:0.9746\n",
      "epoch: 140 loss:0.193678 auc:0.9755\n",
      "epoch: 160 loss:0.192395 auc:0.9753\n",
      "epoch: 180 loss:0.191413 auc:0.9748\n"
     ]
    },
    {
     "name": "stderr",
     "output_type": "stream",
     "text": [
      "  4%|▍         | 36/916 [07:48<2:55:18, 11.95s/it]"
     ]
    },
    {
     "name": "stdout",
     "output_type": "stream",
     "text": [
      "epoch: 200 loss:0.190563 auc:0.9746\n",
      "Fit finished.\n",
      "epoch:   0 loss:0.826308 auc:0.5927\n",
      "epoch:  20 loss:0.317482 auc:0.9231\n",
      "epoch:  40 loss:0.232326 auc:0.9241\n",
      "epoch:  60 loss:0.216611 auc:0.9235\n",
      "epoch:  80 loss:0.209829 auc:0.9239\n",
      "epoch: 100 loss:0.204873 auc:0.9239\n",
      "epoch: 120 loss:0.198750 auc:0.9233\n",
      "epoch: 140 loss:0.194259 auc:0.9237\n",
      "epoch: 160 loss:0.192461 auc:0.9247\n",
      "epoch: 180 loss:0.191372 auc:0.9249\n",
      "epoch: 200 loss:0.190257 auc:0.9255\n"
     ]
    },
    {
     "name": "stderr",
     "output_type": "stream",
     "text": [
      "  4%|▍         | 37/916 [08:01<3:01:19, 12.38s/it]"
     ]
    },
    {
     "name": "stdout",
     "output_type": "stream",
     "text": [
      "epoch: 220 loss:0.190252 auc:0.9233\n",
      "Fit finished.\n",
      "epoch:   0 loss:0.730730 auc:0.4181\n",
      "epoch:  20 loss:0.289370 auc:0.9638\n",
      "epoch:  40 loss:0.226040 auc:0.9740\n",
      "epoch:  60 loss:0.212926 auc:0.9784\n",
      "epoch:  80 loss:0.207057 auc:0.9784\n",
      "epoch: 100 loss:0.201222 auc:0.9787\n",
      "epoch: 120 loss:0.195816 auc:0.9787\n",
      "epoch: 140 loss:0.193430 auc:0.9787\n",
      "epoch: 160 loss:0.192372 auc:0.9792\n",
      "epoch: 180 loss:0.190858 auc:0.9789\n",
      "epoch: 200 loss:0.190336 auc:0.9784\n"
     ]
    },
    {
     "name": "stderr",
     "output_type": "stream",
     "text": [
      "  4%|▍         | 38/916 [08:15<3:06:08, 12.72s/it]"
     ]
    },
    {
     "name": "stdout",
     "output_type": "stream",
     "text": [
      "epoch: 220 loss:0.188939 auc:0.9768\n",
      "Fit finished.\n",
      "epoch:   0 loss:1.069016 auc:0.4887\n",
      "epoch:  20 loss:0.318947 auc:0.9228\n",
      "epoch:  40 loss:0.240864 auc:0.9328\n",
      "epoch:  60 loss:0.218496 auc:0.9331\n",
      "epoch:  80 loss:0.210509 auc:0.9335\n",
      "epoch: 100 loss:0.205385 auc:0.9328\n",
      "epoch: 120 loss:0.200263 auc:0.9338\n",
      "epoch: 140 loss:0.195694 auc:0.9342\n",
      "epoch: 160 loss:0.193484 auc:0.9342\n",
      "epoch: 180 loss:0.192233 auc:0.9352\n",
      "epoch: 200 loss:0.191344 auc:0.9348\n",
      "epoch: 220 loss:0.190753 auc:0.9352\n",
      "epoch: 240 loss:0.190101 auc:0.9348\n",
      "epoch: 260 loss:0.190948 auc:0.9362\n",
      "epoch: 280 loss:0.189097 auc:0.9372\n",
      "epoch: 300 loss:0.188408 auc:0.9396\n",
      "epoch: 320 loss:0.188620 auc:0.9438\n",
      "epoch: 340 loss:0.186868 auc:0.9431\n",
      "epoch: 360 loss:0.186076 auc:0.9451\n",
      "epoch: 380 loss:0.184661 auc:0.9455\n",
      "epoch: 400 loss:0.185394 auc:0.9455\n",
      "epoch: 420 loss:0.182299 auc:0.9479\n",
      "epoch: 440 loss:0.181428 auc:0.9486\n",
      "epoch: 460 loss:0.180320 auc:0.9489\n",
      "epoch: 480 loss:0.178381 auc:0.9472\n",
      "epoch: 500 loss:0.178129 auc:0.9468\n"
     ]
    },
    {
     "name": "stderr",
     "output_type": "stream",
     "text": [
      "  4%|▍         | 39/916 [08:54<5:02:25, 20.69s/it]"
     ]
    },
    {
     "name": "stdout",
     "output_type": "stream",
     "text": [
      "epoch: 520 loss:0.174414 auc:0.9417\n",
      "Fit finished.\n",
      "epoch:   0 loss:0.533594 auc:0.4521\n",
      "epoch:  20 loss:0.270400 auc:0.9355\n",
      "epoch:  40 loss:0.217841 auc:0.9463\n",
      "epoch:  60 loss:0.207247 auc:0.9472\n",
      "epoch:  80 loss:0.200342 auc:0.9470\n",
      "epoch: 100 loss:0.195211 auc:0.9478\n",
      "epoch: 120 loss:0.192954 auc:0.9480\n",
      "epoch: 140 loss:0.191555 auc:0.9459\n",
      "epoch: 160 loss:0.191435 auc:0.9428\n",
      "epoch: 180 loss:0.189267 auc:0.9375\n"
     ]
    },
    {
     "name": "stderr",
     "output_type": "stream",
     "text": [
      "  4%|▍         | 40/916 [09:05<4:18:09, 17.68s/it]"
     ]
    },
    {
     "name": "stdout",
     "output_type": "stream",
     "text": [
      "epoch: 200 loss:0.188232 auc:0.9254\n",
      "Fit finished.\n",
      "epoch:   0 loss:0.681620 auc:0.7093\n",
      "epoch:  20 loss:0.337263 auc:0.9275\n",
      "epoch:  40 loss:0.260587 auc:0.9382\n",
      "epoch:  60 loss:0.222723 auc:0.9441\n",
      "epoch:  80 loss:0.209498 auc:0.9432\n",
      "epoch: 100 loss:0.202397 auc:0.9453\n",
      "epoch: 120 loss:0.196825 auc:0.9462\n",
      "epoch: 140 loss:0.194128 auc:0.9462\n",
      "epoch: 160 loss:0.192721 auc:0.9456\n",
      "epoch: 180 loss:0.191683 auc:0.9456\n",
      "epoch: 200 loss:0.190931 auc:0.9459\n",
      "epoch: 220 loss:0.190175 auc:0.9465\n",
      "epoch: 240 loss:0.190068 auc:0.9474\n",
      "epoch: 260 loss:0.188932 auc:0.9480\n",
      "epoch: 280 loss:0.188775 auc:0.9495\n",
      "epoch: 300 loss:0.188012 auc:0.9512\n",
      "epoch: 320 loss:0.187423 auc:0.9545\n",
      "epoch: 340 loss:0.186090 auc:0.9542\n",
      "epoch: 360 loss:0.184960 auc:0.9572\n",
      "epoch: 380 loss:0.184070 auc:0.9578\n",
      "epoch: 400 loss:0.182719 auc:0.9587\n",
      "epoch: 420 loss:0.180544 auc:0.9581\n",
      "epoch: 440 loss:0.181738 auc:0.9572\n",
      "epoch: 460 loss:0.177553 auc:0.9578\n",
      "epoch: 480 loss:0.178726 auc:0.9590\n",
      "epoch: 500 loss:0.174298 auc:0.9569\n",
      "epoch: 520 loss:0.170976 auc:0.9581\n",
      "epoch: 540 loss:0.170899 auc:0.9620\n",
      "epoch: 560 loss:0.168747 auc:0.9605\n"
     ]
    },
    {
     "name": "stderr",
     "output_type": "stream",
     "text": [
      "  4%|▍         | 41/916 [09:37<5:18:59, 21.87s/it]"
     ]
    },
    {
     "name": "stdout",
     "output_type": "stream",
     "text": [
      "epoch: 580 loss:0.167245 auc:0.9492\n",
      "Fit finished.\n",
      "epoch:   0 loss:0.660393 auc:0.8054\n",
      "epoch:  20 loss:0.291047 auc:0.9865\n",
      "epoch:  40 loss:0.224751 auc:0.9854\n",
      "epoch:  60 loss:0.211380 auc:0.9865\n",
      "epoch:  80 loss:0.205592 auc:0.9875\n",
      "epoch: 100 loss:0.200290 auc:0.9875\n",
      "epoch: 120 loss:0.195778 auc:0.9875\n",
      "epoch: 140 loss:0.193643 auc:0.9875\n",
      "epoch: 160 loss:0.192354 auc:0.9875\n",
      "epoch: 180 loss:0.191459 auc:0.9875\n",
      "epoch: 200 loss:0.190633 auc:0.9875\n",
      "epoch: 220 loss:0.191420 auc:0.9886\n",
      "epoch: 240 loss:0.189937 auc:0.9886\n",
      "epoch: 260 loss:0.188350 auc:0.9886\n",
      "epoch: 280 loss:0.191936 auc:0.9875\n",
      "epoch: 300 loss:0.186395 auc:0.9875\n"
     ]
    },
    {
     "name": "stderr",
     "output_type": "stream",
     "text": [
      "  5%|▍         | 42/916 [09:59<5:22:39, 22.15s/it]"
     ]
    },
    {
     "name": "stdout",
     "output_type": "stream",
     "text": [
      "epoch: 320 loss:0.184892 auc:0.9865\n",
      "Fit finished.\n",
      "epoch:   0 loss:0.657075 auc:0.2626\n",
      "epoch:  20 loss:0.259741 auc:0.9817\n",
      "epoch:  40 loss:0.220145 auc:0.9866\n",
      "epoch:  60 loss:0.211336 auc:0.9874\n",
      "epoch:  80 loss:0.206655 auc:0.9868\n",
      "epoch: 100 loss:0.201405 auc:0.9866\n",
      "epoch: 120 loss:0.196170 auc:0.9855\n",
      "epoch: 140 loss:0.193540 auc:0.9852\n",
      "epoch: 160 loss:0.191818 auc:0.9850\n",
      "epoch: 180 loss:0.194777 auc:0.9823\n"
     ]
    },
    {
     "name": "stderr",
     "output_type": "stream",
     "text": [
      "  5%|▍         | 43/916 [10:11<4:37:23, 19.06s/it]"
     ]
    },
    {
     "name": "stdout",
     "output_type": "stream",
     "text": [
      "epoch: 200 loss:0.189158 auc:0.9809\n",
      "Fit finished.\n",
      "epoch:   0 loss:1.296164 auc:0.6233\n",
      "epoch:  20 loss:0.331220 auc:0.9730\n",
      "epoch:  40 loss:0.253132 auc:0.9773\n",
      "epoch:  60 loss:0.220372 auc:0.9803\n",
      "epoch:  80 loss:0.208615 auc:0.9778\n",
      "epoch: 100 loss:0.202282 auc:0.9786\n",
      "epoch: 120 loss:0.197391 auc:0.9800\n",
      "epoch: 140 loss:0.194662 auc:0.9803\n",
      "epoch: 160 loss:0.193223 auc:0.9801\n",
      "epoch: 180 loss:0.192207 auc:0.9804\n",
      "epoch: 200 loss:0.191381 auc:0.9807\n",
      "epoch: 220 loss:0.190871 auc:0.9811\n",
      "epoch: 240 loss:0.190134 auc:0.9820\n",
      "epoch: 260 loss:0.189550 auc:0.9830\n",
      "epoch: 280 loss:0.189194 auc:0.9832\n",
      "epoch: 300 loss:0.188317 auc:0.9851\n",
      "epoch: 320 loss:0.187539 auc:0.9840\n",
      "epoch: 340 loss:0.186782 auc:0.9835\n",
      "epoch: 360 loss:0.186485 auc:0.9838\n",
      "epoch: 380 loss:0.184962 auc:0.9824\n"
     ]
    },
    {
     "name": "stderr",
     "output_type": "stream",
     "text": [
      "  5%|▍         | 44/916 [10:35<4:58:31, 20.54s/it]"
     ]
    },
    {
     "name": "stdout",
     "output_type": "stream",
     "text": [
      "epoch: 400 loss:0.186910 auc:0.9816\n",
      "Fit finished.\n",
      "epoch:   0 loss:0.527407 auc:0.7167\n",
      "epoch:  20 loss:0.277721 auc:0.9180\n",
      "epoch:  40 loss:0.221635 auc:0.9117\n",
      "epoch:  60 loss:0.206853 auc:0.9124\n",
      "epoch:  80 loss:0.198462 auc:0.9147\n",
      "epoch: 100 loss:0.194316 auc:0.9157\n",
      "epoch: 120 loss:0.192420 auc:0.9147\n",
      "epoch: 140 loss:0.191361 auc:0.9180\n",
      "epoch: 160 loss:0.190026 auc:0.9200\n",
      "epoch: 180 loss:0.189838 auc:0.9240\n",
      "epoch: 200 loss:0.187908 auc:0.9260\n",
      "epoch: 220 loss:0.190286 auc:0.9312\n",
      "epoch: 240 loss:0.184916 auc:0.9355\n",
      "epoch: 260 loss:0.183134 auc:0.9375\n",
      "epoch: 280 loss:0.180522 auc:0.9385\n",
      "epoch: 300 loss:0.181600 auc:0.9329\n",
      "epoch: 320 loss:0.176948 auc:0.9326\n"
     ]
    },
    {
     "name": "stderr",
     "output_type": "stream",
     "text": [
      "  5%|▍         | 45/916 [10:56<5:00:09, 20.68s/it]"
     ]
    },
    {
     "name": "stdout",
     "output_type": "stream",
     "text": [
      "epoch: 340 loss:0.175550 auc:0.9193\n",
      "Fit finished.\n",
      "epoch:   0 loss:1.333664 auc:0.8609\n",
      "epoch:  20 loss:0.296219 auc:0.9675\n",
      "epoch:  40 loss:0.229300 auc:0.9714\n",
      "epoch:  60 loss:0.213284 auc:0.9732\n",
      "epoch:  80 loss:0.206030 auc:0.9754\n",
      "epoch: 100 loss:0.199660 auc:0.9752\n",
      "epoch: 120 loss:0.195232 auc:0.9756\n",
      "epoch: 140 loss:0.193452 auc:0.9754\n",
      "epoch: 160 loss:0.192255 auc:0.9764\n",
      "epoch: 180 loss:0.192964 auc:0.9774\n",
      "epoch: 200 loss:0.190969 auc:0.9772\n",
      "epoch: 220 loss:0.189993 auc:0.9776\n",
      "epoch: 240 loss:0.189751 auc:0.9768\n",
      "epoch: 260 loss:0.191328 auc:0.9764\n"
     ]
    },
    {
     "name": "stderr",
     "output_type": "stream",
     "text": [
      "  5%|▌         | 46/916 [11:13<4:42:13, 19.46s/it]"
     ]
    },
    {
     "name": "stdout",
     "output_type": "stream",
     "text": [
      "epoch: 280 loss:0.188463 auc:0.9750\n",
      "Fit finished.\n",
      "epoch:   0 loss:1.002752 auc:0.3074\n",
      "epoch:  20 loss:0.312493 auc:0.9601\n",
      "epoch:  40 loss:0.235402 auc:0.9615\n",
      "epoch:  60 loss:0.216650 auc:0.9601\n",
      "epoch:  80 loss:0.209015 auc:0.9596\n",
      "epoch: 100 loss:0.203971 auc:0.9597\n",
      "epoch: 120 loss:0.198546 auc:0.9594\n",
      "epoch: 140 loss:0.194707 auc:0.9594\n",
      "epoch: 160 loss:0.192960 auc:0.9596\n"
     ]
    },
    {
     "name": "stderr",
     "output_type": "stream",
     "text": [
      "  5%|▌         | 47/916 [11:25<4:09:32, 17.23s/it]"
     ]
    },
    {
     "name": "stdout",
     "output_type": "stream",
     "text": [
      "epoch: 180 loss:0.191844 auc:0.9583\n",
      "Fit finished.\n",
      "epoch:   0 loss:0.654088 auc:0.2546\n",
      "epoch:  20 loss:0.283750 auc:0.9262\n",
      "epoch:  40 loss:0.226662 auc:0.9336\n",
      "epoch:  60 loss:0.212103 auc:0.9375\n",
      "epoch:  80 loss:0.205884 auc:0.9379\n",
      "epoch: 100 loss:0.199626 auc:0.9379\n",
      "epoch: 120 loss:0.194858 auc:0.9380\n",
      "epoch: 140 loss:0.192787 auc:0.9377\n",
      "epoch: 160 loss:0.191260 auc:0.9361\n",
      "epoch: 180 loss:0.191549 auc:0.9327\n"
     ]
    },
    {
     "name": "stderr",
     "output_type": "stream",
     "text": [
      "  5%|▌         | 48/916 [11:39<3:53:49, 16.16s/it]"
     ]
    },
    {
     "name": "stdout",
     "output_type": "stream",
     "text": [
      "epoch: 200 loss:0.189264 auc:0.9257\n",
      "Fit finished.\n",
      "epoch:   0 loss:0.780625 auc:0.6044\n",
      "epoch:  20 loss:0.323662 auc:0.9653\n",
      "epoch:  40 loss:0.238005 auc:0.9653\n",
      "epoch:  60 loss:0.217621 auc:0.9683\n",
      "epoch:  80 loss:0.209244 auc:0.9692\n",
      "epoch: 100 loss:0.204053 auc:0.9683\n",
      "epoch: 120 loss:0.198751 auc:0.9686\n",
      "epoch: 140 loss:0.195007 auc:0.9686\n",
      "epoch: 160 loss:0.193254 auc:0.9686\n",
      "epoch: 180 loss:0.192124 auc:0.9683\n",
      "epoch: 200 loss:0.191195 auc:0.9683\n"
     ]
    },
    {
     "name": "stderr",
     "output_type": "stream",
     "text": [
      "  5%|▌         | 49/916 [11:53<3:44:27, 15.53s/it]"
     ]
    },
    {
     "name": "stdout",
     "output_type": "stream",
     "text": [
      "epoch: 220 loss:0.191285 auc:0.9681\n",
      "Fit finished.\n",
      "epoch:   0 loss:0.734168 auc:0.2971\n",
      "epoch:  20 loss:0.279520 auc:0.9747\n",
      "epoch:  40 loss:0.224142 auc:0.9722\n",
      "epoch:  60 loss:0.213043 auc:0.9722\n",
      "epoch:  80 loss:0.208085 auc:0.9714\n",
      "epoch: 100 loss:0.202774 auc:0.9722\n",
      "epoch: 120 loss:0.196569 auc:0.9722\n",
      "epoch: 140 loss:0.193617 auc:0.9731\n",
      "epoch: 160 loss:0.192279 auc:0.9731\n"
     ]
    },
    {
     "name": "stderr",
     "output_type": "stream",
     "text": [
      "  5%|▌         | 50/916 [12:04<3:28:05, 14.42s/it]"
     ]
    },
    {
     "name": "stdout",
     "output_type": "stream",
     "text": [
      "epoch: 180 loss:0.191028 auc:0.9739\n",
      "Fit finished.\n",
      "epoch:   0 loss:1.192751 auc:0.2710\n",
      "epoch:  20 loss:0.309967 auc:0.9453\n",
      "epoch:  40 loss:0.233414 auc:0.9500\n",
      "epoch:  60 loss:0.216440 auc:0.9536\n",
      "epoch:  80 loss:0.209722 auc:0.9543\n",
      "epoch: 100 loss:0.205157 auc:0.9531\n",
      "epoch: 120 loss:0.200233 auc:0.9529\n",
      "epoch: 140 loss:0.195780 auc:0.9531\n",
      "epoch: 160 loss:0.193619 auc:0.9529\n",
      "epoch: 180 loss:0.192373 auc:0.9531\n",
      "epoch: 200 loss:0.191426 auc:0.9524\n"
     ]
    },
    {
     "name": "stderr",
     "output_type": "stream",
     "text": [
      "  6%|▌         | 51/916 [12:17<3:20:34, 13.91s/it]"
     ]
    },
    {
     "name": "stdout",
     "output_type": "stream",
     "text": [
      "epoch: 220 loss:0.191111 auc:0.9531\n",
      "Fit finished.\n",
      "epoch:   0 loss:0.725132 auc:0.7669\n",
      "epoch:  20 loss:0.310521 auc:0.9813\n",
      "epoch:  40 loss:0.230114 auc:0.9805\n",
      "epoch:  60 loss:0.214513 auc:0.9805\n",
      "epoch:  80 loss:0.208296 auc:0.9805\n",
      "epoch: 100 loss:0.203303 auc:0.9800\n",
      "epoch: 120 loss:0.197717 auc:0.9800\n",
      "epoch: 140 loss:0.194232 auc:0.9796\n",
      "epoch: 160 loss:0.192483 auc:0.9800\n"
     ]
    },
    {
     "name": "stderr",
     "output_type": "stream",
     "text": [
      "  6%|▌         | 52/916 [12:26<2:59:09, 12.44s/it]"
     ]
    },
    {
     "name": "stdout",
     "output_type": "stream",
     "text": [
      "epoch: 180 loss:0.192019 auc:0.9805\n",
      "Fit finished.\n",
      "epoch:   0 loss:1.438433 auc:0.4124\n",
      "epoch:  20 loss:0.310286 auc:0.9123\n",
      "epoch:  40 loss:0.232096 auc:0.9195\n",
      "epoch:  60 loss:0.216646 auc:0.9208\n",
      "epoch:  80 loss:0.209261 auc:0.9203\n",
      "epoch: 100 loss:0.203828 auc:0.9205\n",
      "epoch: 120 loss:0.197920 auc:0.9201\n",
      "epoch: 140 loss:0.194117 auc:0.9197\n",
      "epoch: 160 loss:0.192453 auc:0.9199\n",
      "epoch: 180 loss:0.191446 auc:0.9224\n",
      "epoch: 200 loss:0.190442 auc:0.9220\n",
      "epoch: 220 loss:0.190002 auc:0.9242\n",
      "epoch: 240 loss:0.188894 auc:0.9242\n",
      "epoch: 260 loss:0.188293 auc:0.9248\n",
      "epoch: 280 loss:0.188403 auc:0.9238\n",
      "epoch: 300 loss:0.188028 auc:0.9238\n",
      "epoch: 320 loss:0.186038 auc:0.9244\n",
      "epoch: 340 loss:0.184801 auc:0.9238\n",
      "epoch: 360 loss:0.187900 auc:0.9224\n"
     ]
    },
    {
     "name": "stderr",
     "output_type": "stream",
     "text": [
      "  6%|▌         | 53/916 [12:45<3:27:32, 14.43s/it]"
     ]
    },
    {
     "name": "stdout",
     "output_type": "stream",
     "text": [
      "epoch: 380 loss:0.182257 auc:0.9236\n",
      "Fit finished.\n",
      "epoch:   0 loss:0.928586 auc:0.8490\n",
      "epoch:  20 loss:0.329427 auc:0.9804\n",
      "epoch:  40 loss:0.245340 auc:0.9853\n",
      "epoch:  60 loss:0.218264 auc:0.9856\n",
      "epoch:  80 loss:0.208034 auc:0.9844\n",
      "epoch: 100 loss:0.201243 auc:0.9851\n",
      "epoch: 120 loss:0.195792 auc:0.9851\n",
      "epoch: 140 loss:0.193597 auc:0.9846\n",
      "epoch: 160 loss:0.192300 auc:0.9849\n",
      "epoch: 180 loss:0.192034 auc:0.9849\n"
     ]
    },
    {
     "name": "stderr",
     "output_type": "stream",
     "text": [
      "  6%|▌         | 54/916 [12:54<3:03:51, 12.80s/it]"
     ]
    },
    {
     "name": "stdout",
     "output_type": "stream",
     "text": [
      "epoch: 200 loss:0.190801 auc:0.9849\n",
      "Fit finished.\n",
      "epoch:   0 loss:1.035016 auc:0.3698\n",
      "epoch:  20 loss:0.335609 auc:0.9831\n",
      "epoch:  40 loss:0.249028 auc:0.9805\n",
      "epoch:  60 loss:0.220552 auc:0.9774\n",
      "epoch:  80 loss:0.211719 auc:0.9766\n",
      "epoch: 100 loss:0.206650 auc:0.9766\n",
      "epoch: 120 loss:0.201851 auc:0.9761\n",
      "epoch: 140 loss:0.196860 auc:0.9761\n",
      "epoch: 160 loss:0.194176 auc:0.9757\n"
     ]
    },
    {
     "name": "stderr",
     "output_type": "stream",
     "text": [
      "  6%|▌         | 55/916 [13:03<2:46:43, 11.62s/it]"
     ]
    },
    {
     "name": "stdout",
     "output_type": "stream",
     "text": [
      "epoch: 180 loss:0.192847 auc:0.9757\n",
      "Fit finished.\n",
      "epoch:   0 loss:0.684220 auc:0.7643\n",
      "epoch:  20 loss:0.293416 auc:0.9527\n",
      "epoch:  40 loss:0.228289 auc:0.9495\n",
      "epoch:  60 loss:0.213996 auc:0.9448\n",
      "epoch:  80 loss:0.207964 auc:0.9472\n",
      "epoch: 100 loss:0.202892 auc:0.9482\n",
      "epoch: 120 loss:0.197575 auc:0.9480\n",
      "epoch: 140 loss:0.194184 auc:0.9475\n",
      "epoch: 160 loss:0.192440 auc:0.9477\n"
     ]
    },
    {
     "name": "stderr",
     "output_type": "stream",
     "text": [
      "  6%|▌         | 56/916 [13:12<2:33:02, 10.68s/it]"
     ]
    },
    {
     "name": "stdout",
     "output_type": "stream",
     "text": [
      "epoch: 180 loss:0.191372 auc:0.9480\n",
      "Fit finished.\n",
      "epoch:   0 loss:0.693475 auc:0.1953\n",
      "epoch:  20 loss:0.301135 auc:0.9926\n",
      "epoch:  40 loss:0.231206 auc:0.9896\n",
      "epoch:  60 loss:0.213877 auc:0.9896\n",
      "epoch:  80 loss:0.206220 auc:0.9896\n",
      "epoch: 100 loss:0.200001 auc:0.9896\n",
      "epoch: 120 loss:0.195006 auc:0.9896\n",
      "epoch: 140 loss:0.193000 auc:0.9911\n",
      "epoch: 160 loss:0.191809 auc:0.9896\n"
     ]
    },
    {
     "name": "stderr",
     "output_type": "stream",
     "text": [
      "  6%|▌         | 57/916 [13:21<2:29:24, 10.44s/it]"
     ]
    },
    {
     "name": "stdout",
     "output_type": "stream",
     "text": [
      "epoch: 180 loss:0.192162 auc:0.9896\n",
      "Fit finished.\n",
      "epoch:   0 loss:0.714470 auc:0.3843\n",
      "epoch:  20 loss:0.263128 auc:0.9540\n",
      "epoch:  40 loss:0.220620 auc:0.9592\n",
      "epoch:  60 loss:0.211374 auc:0.9605\n",
      "epoch:  80 loss:0.206395 auc:0.9597\n",
      "epoch: 100 loss:0.200731 auc:0.9605\n",
      "epoch: 120 loss:0.195481 auc:0.9605\n",
      "epoch: 140 loss:0.193142 auc:0.9597\n",
      "epoch: 160 loss:0.192014 auc:0.9583\n",
      "epoch: 180 loss:0.190668 auc:0.9573\n"
     ]
    },
    {
     "name": "stderr",
     "output_type": "stream",
     "text": [
      "  6%|▋         | 58/916 [13:31<2:27:04, 10.29s/it]"
     ]
    },
    {
     "name": "stdout",
     "output_type": "stream",
     "text": [
      "epoch: 200 loss:0.189864 auc:0.9557\n",
      "Fit finished.\n",
      "epoch:   0 loss:0.759507 auc:0.2408\n",
      "epoch:  20 loss:0.248757 auc:0.9253\n",
      "epoch:  40 loss:0.214834 auc:0.9328\n",
      "epoch:  60 loss:0.206685 auc:0.9329\n",
      "epoch:  80 loss:0.199595 auc:0.9324\n",
      "epoch: 100 loss:0.194617 auc:0.9319\n",
      "epoch: 120 loss:0.192767 auc:0.9301\n",
      "epoch: 140 loss:0.191339 auc:0.9278\n",
      "epoch: 160 loss:0.191327 auc:0.9227\n"
     ]
    },
    {
     "name": "stderr",
     "output_type": "stream",
     "text": [
      "  6%|▋         | 59/916 [13:42<2:26:15, 10.24s/it]"
     ]
    },
    {
     "name": "stdout",
     "output_type": "stream",
     "text": [
      "epoch: 180 loss:0.189349 auc:0.9202\n",
      "Fit finished.\n",
      "epoch:   0 loss:0.899119 auc:0.6271\n",
      "epoch:  20 loss:0.314966 auc:0.9477\n",
      "epoch:  40 loss:0.236050 auc:0.9501\n",
      "epoch:  60 loss:0.215721 auc:0.9513\n",
      "epoch:  80 loss:0.207578 auc:0.9519\n",
      "epoch: 100 loss:0.202024 auc:0.9513\n",
      "epoch: 120 loss:0.196984 auc:0.9513\n",
      "epoch: 140 loss:0.194070 auc:0.9511\n",
      "epoch: 160 loss:0.192661 auc:0.9513\n",
      "epoch: 180 loss:0.191720 auc:0.9514\n",
      "epoch: 200 loss:0.190960 auc:0.9515\n",
      "epoch: 220 loss:0.190469 auc:0.9520\n"
     ]
    },
    {
     "name": "stderr",
     "output_type": "stream",
     "text": [
      "  7%|▋         | 60/916 [13:56<2:42:32, 11.39s/it]"
     ]
    },
    {
     "name": "stdout",
     "output_type": "stream",
     "text": [
      "epoch: 240 loss:0.189671 auc:0.9518\n",
      "Fit finished.\n",
      "epoch:   0 loss:0.879155 auc:0.6645\n",
      "epoch:  20 loss:0.309970 auc:0.9685\n",
      "epoch:  40 loss:0.233148 auc:0.9768\n",
      "epoch:  60 loss:0.216479 auc:0.9726\n",
      "epoch:  80 loss:0.208755 auc:0.9732\n",
      "epoch: 100 loss:0.203220 auc:0.9744\n",
      "epoch: 120 loss:0.197712 auc:0.9738\n",
      "epoch: 140 loss:0.194425 auc:0.9738\n",
      "epoch: 160 loss:0.192830 auc:0.9732\n",
      "epoch: 180 loss:0.191718 auc:0.9738\n"
     ]
    },
    {
     "name": "stderr",
     "output_type": "stream",
     "text": [
      "  7%|▋         | 61/916 [14:08<2:45:45, 11.63s/it]"
     ]
    },
    {
     "name": "stdout",
     "output_type": "stream",
     "text": [
      "epoch: 200 loss:0.191429 auc:0.9738\n",
      "Fit finished.\n",
      "epoch:   0 loss:0.644365 auc:0.2738\n",
      "epoch:  20 loss:0.273234 auc:0.9155\n",
      "epoch:  40 loss:0.222231 auc:0.9178\n",
      "epoch:  60 loss:0.209725 auc:0.9216\n",
      "epoch:  80 loss:0.202581 auc:0.9219\n",
      "epoch: 100 loss:0.195807 auc:0.9227\n",
      "epoch: 120 loss:0.193217 auc:0.9221\n",
      "epoch: 140 loss:0.191903 auc:0.9221\n",
      "epoch: 160 loss:0.191311 auc:0.9233\n",
      "epoch: 180 loss:0.189910 auc:0.9267\n",
      "epoch: 200 loss:0.190059 auc:0.9273\n",
      "epoch: 220 loss:0.188199 auc:0.9285\n",
      "epoch: 240 loss:0.186249 auc:0.9267\n"
     ]
    },
    {
     "name": "stderr",
     "output_type": "stream",
     "text": [
      "  7%|▋         | 62/916 [14:24<3:03:13, 12.87s/it]"
     ]
    },
    {
     "name": "stdout",
     "output_type": "stream",
     "text": [
      "epoch: 260 loss:0.185039 auc:0.9176\n",
      "Fit finished.\n",
      "epoch:   0 loss:0.566352 auc:0.5145\n",
      "epoch:  20 loss:0.253134 auc:0.9504\n",
      "epoch:  40 loss:0.217933 auc:0.9669\n",
      "epoch:  60 loss:0.208907 auc:0.9669\n",
      "epoch:  80 loss:0.201951 auc:0.9669\n",
      "epoch: 100 loss:0.195694 auc:0.9649\n",
      "epoch: 120 loss:0.192901 auc:0.9669\n",
      "epoch: 140 loss:0.191959 auc:0.9649\n",
      "epoch: 160 loss:0.190853 auc:0.9649\n",
      "epoch: 180 loss:0.188733 auc:0.9628\n"
     ]
    },
    {
     "name": "stderr",
     "output_type": "stream",
     "text": [
      "  7%|▋         | 63/916 [14:34<2:51:14, 12.05s/it]"
     ]
    },
    {
     "name": "stdout",
     "output_type": "stream",
     "text": [
      "epoch: 200 loss:0.188038 auc:0.9587\n",
      "Fit finished.\n",
      "epoch:   0 loss:0.523271 auc:0.5686\n",
      "epoch:  20 loss:0.241001 auc:0.9585\n",
      "epoch:  40 loss:0.216630 auc:0.9642\n",
      "epoch:  60 loss:0.208783 auc:0.9639\n",
      "epoch:  80 loss:0.202364 auc:0.9619\n",
      "epoch: 100 loss:0.196320 auc:0.9646\n",
      "epoch: 120 loss:0.193509 auc:0.9631\n",
      "epoch: 140 loss:0.191983 auc:0.9631\n",
      "epoch: 160 loss:0.190866 auc:0.9627\n",
      "epoch: 180 loss:0.191558 auc:0.9596\n"
     ]
    },
    {
     "name": "stderr",
     "output_type": "stream",
     "text": [
      "  7%|▋         | 64/916 [14:45<2:46:07, 11.70s/it]"
     ]
    },
    {
     "name": "stdout",
     "output_type": "stream",
     "text": [
      "epoch: 200 loss:0.188713 auc:0.9569\n",
      "Fit finished.\n",
      "epoch:   0 loss:0.942281 auc:0.1544\n",
      "epoch:  20 loss:0.280264 auc:0.9406\n",
      "epoch:  40 loss:0.222529 auc:0.9461\n",
      "epoch:  60 loss:0.211404 auc:0.9476\n",
      "epoch:  80 loss:0.205324 auc:0.9470\n",
      "epoch: 100 loss:0.198506 auc:0.9466\n",
      "epoch: 120 loss:0.194796 auc:0.9476\n",
      "epoch: 140 loss:0.192356 auc:0.9472\n",
      "epoch: 160 loss:0.192632 auc:0.9447\n",
      "epoch: 180 loss:0.189848 auc:0.9408\n"
     ]
    },
    {
     "name": "stderr",
     "output_type": "stream",
     "text": [
      "  7%|▋         | 65/916 [14:55<2:41:16, 11.37s/it]"
     ]
    },
    {
     "name": "stdout",
     "output_type": "stream",
     "text": [
      "epoch: 200 loss:0.193079 auc:0.9388\n",
      "Fit finished.\n",
      "epoch:   0 loss:0.758761 auc:0.3639\n",
      "epoch:  20 loss:0.289642 auc:0.9292\n",
      "epoch:  40 loss:0.228071 auc:0.9411\n",
      "epoch:  60 loss:0.213523 auc:0.9428\n",
      "epoch:  80 loss:0.207648 auc:0.9417\n",
      "epoch: 100 loss:0.202197 auc:0.9442\n",
      "epoch: 120 loss:0.196551 auc:0.9436\n",
      "epoch: 140 loss:0.193754 auc:0.9431\n",
      "epoch: 160 loss:0.192249 auc:0.9436\n",
      "epoch: 180 loss:0.191053 auc:0.9444\n",
      "epoch: 200 loss:0.190694 auc:0.9453\n",
      "epoch: 220 loss:0.189064 auc:0.9472\n",
      "epoch: 240 loss:0.188906 auc:0.9472\n",
      "epoch: 260 loss:0.186498 auc:0.9472\n",
      "epoch: 280 loss:0.188095 auc:0.9458\n"
     ]
    },
    {
     "name": "stderr",
     "output_type": "stream",
     "text": [
      "  7%|▋         | 66/916 [15:12<3:03:47, 12.97s/it]"
     ]
    },
    {
     "name": "stdout",
     "output_type": "stream",
     "text": [
      "epoch: 300 loss:0.183713 auc:0.9408\n",
      "Fit finished.\n",
      "epoch:   0 loss:1.092811 auc:0.6321\n",
      "epoch:  20 loss:0.315047 auc:0.9660\n",
      "epoch:  40 loss:0.244605 auc:0.9726\n",
      "epoch:  60 loss:0.220675 auc:0.9749\n",
      "epoch:  80 loss:0.212136 auc:0.9752\n",
      "epoch: 100 loss:0.207244 auc:0.9759\n",
      "epoch: 120 loss:0.202278 auc:0.9752\n",
      "epoch: 140 loss:0.196244 auc:0.9755\n",
      "epoch: 160 loss:0.193538 auc:0.9755\n",
      "epoch: 180 loss:0.191993 auc:0.9759\n",
      "epoch: 200 loss:0.191531 auc:0.9759\n",
      "epoch: 220 loss:0.189854 auc:0.9759\n",
      "epoch: 240 loss:0.189062 auc:0.9762\n",
      "epoch: 260 loss:0.189900 auc:0.9759\n",
      "epoch: 280 loss:0.187277 auc:0.9752\n",
      "epoch: 300 loss:0.186469 auc:0.9759\n"
     ]
    },
    {
     "name": "stderr",
     "output_type": "stream",
     "text": [
      "  7%|▋         | 67/916 [15:29<3:22:33, 14.31s/it]"
     ]
    },
    {
     "name": "stdout",
     "output_type": "stream",
     "text": [
      "epoch: 320 loss:0.186112 auc:0.9752\n",
      "Fit finished.\n",
      "epoch:   0 loss:0.755670 auc:0.1470\n",
      "epoch:  20 loss:0.262869 auc:0.9593\n",
      "epoch:  40 loss:0.219164 auc:0.9616\n",
      "epoch:  60 loss:0.208801 auc:0.9603\n",
      "epoch:  80 loss:0.200981 auc:0.9597\n",
      "epoch: 100 loss:0.194790 auc:0.9586\n",
      "epoch: 120 loss:0.191829 auc:0.9584\n",
      "epoch: 140 loss:0.192737 auc:0.9565\n",
      "epoch: 160 loss:0.189416 auc:0.9561\n"
     ]
    },
    {
     "name": "stderr",
     "output_type": "stream",
     "text": [
      "  7%|▋         | 68/916 [15:40<3:06:49, 13.22s/it]"
     ]
    },
    {
     "name": "stdout",
     "output_type": "stream",
     "text": [
      "epoch: 180 loss:0.188053 auc:0.9548\n",
      "Fit finished.\n",
      "epoch:   0 loss:1.128811 auc:0.2988\n",
      "epoch:  20 loss:0.311479 auc:0.9787\n",
      "epoch:  40 loss:0.232741 auc:0.9801\n",
      "epoch:  60 loss:0.216380 auc:0.9833\n",
      "epoch:  80 loss:0.209257 auc:0.9823\n",
      "epoch: 100 loss:0.204329 auc:0.9819\n",
      "epoch: 120 loss:0.199172 auc:0.9819\n",
      "epoch: 140 loss:0.195209 auc:0.9814\n",
      "epoch: 160 loss:0.193331 auc:0.9801\n",
      "epoch: 180 loss:0.192125 auc:0.9801\n",
      "epoch: 200 loss:0.191183 auc:0.9801\n"
     ]
    },
    {
     "name": "stderr",
     "output_type": "stream",
     "text": [
      "  8%|▊         | 69/916 [15:51<2:55:47, 12.45s/it]"
     ]
    },
    {
     "name": "stdout",
     "output_type": "stream",
     "text": [
      "epoch: 220 loss:0.190714 auc:0.9796\n",
      "Fit finished.\n",
      "epoch:   0 loss:0.616191 auc:0.8345\n",
      "epoch:  20 loss:0.321686 auc:0.9484\n",
      "epoch:  40 loss:0.237406 auc:0.9546\n",
      "epoch:  60 loss:0.216887 auc:0.9615\n",
      "epoch:  80 loss:0.208927 auc:0.9649\n",
      "epoch: 100 loss:0.202920 auc:0.9654\n",
      "epoch: 120 loss:0.196859 auc:0.9654\n",
      "epoch: 140 loss:0.193794 auc:0.9649\n",
      "epoch: 160 loss:0.192391 auc:0.9649\n",
      "epoch: 180 loss:0.191428 auc:0.9649\n",
      "epoch: 200 loss:0.190891 auc:0.9643\n",
      "epoch: 220 loss:0.190225 auc:0.9649\n",
      "epoch: 240 loss:0.189585 auc:0.9654\n",
      "epoch: 260 loss:0.188754 auc:0.9671\n",
      "epoch: 280 loss:0.188401 auc:0.9671\n",
      "epoch: 300 loss:0.187532 auc:0.9683\n",
      "epoch: 320 loss:0.185862 auc:0.9694\n",
      "epoch: 340 loss:0.184897 auc:0.9677\n",
      "epoch: 360 loss:0.183655 auc:0.9671\n",
      "epoch: 380 loss:0.182636 auc:0.9660\n",
      "epoch: 400 loss:0.182744 auc:0.9671\n"
     ]
    },
    {
     "name": "stderr",
     "output_type": "stream",
     "text": [
      "  8%|▊         | 70/916 [16:14<3:39:40, 15.58s/it]"
     ]
    },
    {
     "name": "stdout",
     "output_type": "stream",
     "text": [
      "epoch: 420 loss:0.183752 auc:0.9649\n",
      "Fit finished.\n",
      "epoch:   0 loss:0.630987 auc:0.3228\n",
      "epoch:  20 loss:0.280045 auc:0.8800\n",
      "epoch:  40 loss:0.224669 auc:0.8932\n",
      "epoch:  60 loss:0.211029 auc:0.8977\n",
      "epoch:  80 loss:0.204448 auc:0.8990\n",
      "epoch: 100 loss:0.197911 auc:0.9004\n",
      "epoch: 120 loss:0.193964 auc:0.9004\n",
      "epoch: 140 loss:0.192128 auc:0.9004\n",
      "epoch: 160 loss:0.190810 auc:0.9018\n",
      "epoch: 180 loss:0.190420 auc:0.9040\n",
      "epoch: 200 loss:0.188844 auc:0.9013\n",
      "epoch: 220 loss:0.188589 auc:0.9004\n",
      "epoch: 240 loss:0.186666 auc:0.9058\n",
      "epoch: 260 loss:0.184096 auc:0.9131\n",
      "epoch: 280 loss:0.181413 auc:0.9149\n",
      "epoch: 300 loss:0.179288 auc:0.9126\n",
      "epoch: 320 loss:0.175393 auc:0.9144\n",
      "epoch: 340 loss:0.179950 auc:0.9199\n",
      "epoch: 360 loss:0.173007 auc:0.9049\n",
      "epoch: 380 loss:0.172878 auc:0.9081\n"
     ]
    },
    {
     "name": "stderr",
     "output_type": "stream",
     "text": [
      "  8%|▊         | 71/916 [16:31<3:47:09, 16.13s/it]"
     ]
    },
    {
     "name": "stdout",
     "output_type": "stream",
     "text": [
      "epoch: 400 loss:0.171468 auc:0.8873\n",
      "Fit finished.\n",
      "epoch:   0 loss:0.804822 auc:0.3297\n",
      "epoch:  20 loss:0.316753 auc:0.9835\n",
      "epoch:  40 loss:0.231917 auc:0.9908\n",
      "epoch:  60 loss:0.216715 auc:0.9936\n",
      "epoch:  80 loss:0.210066 auc:0.9927\n",
      "epoch: 100 loss:0.205437 auc:0.9927\n",
      "epoch: 120 loss:0.200086 auc:0.9917\n",
      "epoch: 140 loss:0.195393 auc:0.9917\n",
      "epoch: 160 loss:0.193222 auc:0.9917\n",
      "epoch: 180 loss:0.191822 auc:0.9927\n",
      "epoch: 200 loss:0.190761 auc:0.9936\n",
      "epoch: 220 loss:0.189883 auc:0.9936\n",
      "epoch: 240 loss:0.189419 auc:0.9954\n",
      "epoch: 260 loss:0.187692 auc:0.9963\n",
      "epoch: 280 loss:0.188519 auc:0.9963\n",
      "epoch: 300 loss:0.188024 auc:0.9972\n",
      "epoch: 320 loss:0.185362 auc:0.9954\n",
      "epoch: 340 loss:0.184293 auc:0.9945\n"
     ]
    },
    {
     "name": "stderr",
     "output_type": "stream",
     "text": [
      "  8%|▊         | 72/916 [16:48<3:49:44, 16.33s/it]"
     ]
    },
    {
     "name": "stdout",
     "output_type": "stream",
     "text": [
      "epoch: 360 loss:0.183057 auc:0.9917\n",
      "Fit finished.\n",
      "epoch:   0 loss:0.695851 auc:0.6701\n",
      "epoch:  20 loss:0.308006 auc:0.9549\n",
      "epoch:  40 loss:0.228733 auc:0.9551\n",
      "epoch:  60 loss:0.211954 auc:0.9549\n",
      "epoch:  80 loss:0.204765 auc:0.9560\n",
      "epoch: 100 loss:0.198134 auc:0.9558\n",
      "epoch: 120 loss:0.194296 auc:0.9568\n",
      "epoch: 140 loss:0.192595 auc:0.9570\n",
      "epoch: 160 loss:0.191554 auc:0.9562\n",
      "epoch: 180 loss:0.190981 auc:0.9556\n"
     ]
    },
    {
     "name": "stderr",
     "output_type": "stream",
     "text": [
      "  8%|▊         | 73/916 [16:57<3:18:01, 14.09s/it]"
     ]
    },
    {
     "name": "stdout",
     "output_type": "stream",
     "text": [
      "epoch: 200 loss:0.190842 auc:0.9535\n",
      "Fit finished.\n",
      "epoch:   0 loss:0.681890 auc:0.8369\n",
      "epoch:  20 loss:0.305260 auc:0.9487\n",
      "epoch:  40 loss:0.228006 auc:0.9619\n",
      "epoch:  60 loss:0.210920 auc:0.9652\n",
      "epoch:  80 loss:0.201916 auc:0.9665\n",
      "epoch: 100 loss:0.195743 auc:0.9658\n",
      "epoch: 120 loss:0.193391 auc:0.9658\n",
      "epoch: 140 loss:0.192472 auc:0.9652\n",
      "epoch: 160 loss:0.190745 auc:0.9652\n",
      "epoch: 180 loss:0.191484 auc:0.9645\n"
     ]
    },
    {
     "name": "stderr",
     "output_type": "stream",
     "text": [
      "  8%|▊         | 74/916 [17:06<2:59:17, 12.78s/it]"
     ]
    },
    {
     "name": "stdout",
     "output_type": "stream",
     "text": [
      "epoch: 200 loss:0.188857 auc:0.9612\n",
      "Fit finished.\n",
      "epoch:   0 loss:0.986207 auc:0.4341\n",
      "epoch:  20 loss:0.343752 auc:0.9446\n",
      "epoch:  40 loss:0.259391 auc:0.9619\n",
      "epoch:  60 loss:0.223435 auc:0.9612\n",
      "epoch:  80 loss:0.212315 auc:0.9623\n",
      "epoch: 100 loss:0.206710 auc:0.9619\n",
      "epoch: 120 loss:0.201653 auc:0.9623\n",
      "epoch: 140 loss:0.196669 auc:0.9627\n",
      "epoch: 160 loss:0.193909 auc:0.9631\n",
      "epoch: 180 loss:0.192426 auc:0.9631\n",
      "epoch: 200 loss:0.191580 auc:0.9631\n",
      "epoch: 220 loss:0.190746 auc:0.9631\n",
      "epoch: 240 loss:0.190965 auc:0.9631\n",
      "epoch: 260 loss:0.189447 auc:0.9635\n",
      "epoch: 280 loss:0.189045 auc:0.9635\n",
      "epoch: 300 loss:0.188485 auc:0.9639\n",
      "epoch: 320 loss:0.187653 auc:0.9635\n"
     ]
    },
    {
     "name": "stderr",
     "output_type": "stream",
     "text": [
      "  8%|▊         | 75/916 [17:20<3:03:23, 13.08s/it]"
     ]
    },
    {
     "name": "stdout",
     "output_type": "stream",
     "text": [
      "epoch: 340 loss:0.187017 auc:0.9627\n",
      "Fit finished.\n",
      "epoch:   0 loss:1.296558 auc:0.8548\n",
      "epoch:  20 loss:0.331759 auc:0.9511\n",
      "epoch:  40 loss:0.260918 auc:0.9669\n",
      "epoch:  60 loss:0.224082 auc:0.9689\n",
      "epoch:  80 loss:0.211686 auc:0.9684\n",
      "epoch: 100 loss:0.205693 auc:0.9679\n",
      "epoch: 120 loss:0.200093 auc:0.9679\n",
      "epoch: 140 loss:0.195611 auc:0.9679\n",
      "epoch: 160 loss:0.193612 auc:0.9679\n",
      "epoch: 180 loss:0.192446 auc:0.9679\n",
      "epoch: 200 loss:0.191587 auc:0.9679\n"
     ]
    },
    {
     "name": "stderr",
     "output_type": "stream",
     "text": [
      "  8%|▊         | 76/916 [17:29<2:43:28, 11.68s/it]"
     ]
    },
    {
     "name": "stdout",
     "output_type": "stream",
     "text": [
      "epoch: 220 loss:0.190885 auc:0.9679\n",
      "Fit finished.\n",
      "epoch:   0 loss:0.520659 auc:0.5583\n",
      "epoch:  20 loss:0.257148 auc:0.9766\n",
      "epoch:  40 loss:0.217824 auc:0.9786\n",
      "epoch:  60 loss:0.208194 auc:0.9788\n",
      "epoch:  80 loss:0.200881 auc:0.9791\n",
      "epoch: 100 loss:0.194994 auc:0.9783\n",
      "epoch: 120 loss:0.192668 auc:0.9798\n",
      "epoch: 140 loss:0.192176 auc:0.9798\n",
      "epoch: 160 loss:0.190393 auc:0.9803\n",
      "epoch: 180 loss:0.189761 auc:0.9798\n",
      "epoch: 200 loss:0.188340 auc:0.9798\n"
     ]
    },
    {
     "name": "stderr",
     "output_type": "stream",
     "text": [
      "  8%|▊         | 77/916 [17:39<2:37:50, 11.29s/it]"
     ]
    },
    {
     "name": "stdout",
     "output_type": "stream",
     "text": [
      "epoch: 220 loss:0.197522 auc:0.9728\n",
      "Fit finished.\n",
      "epoch:   0 loss:0.780577 auc:0.1956\n",
      "epoch:  20 loss:0.258218 auc:0.9609\n",
      "epoch:  40 loss:0.217124 auc:0.9575\n",
      "epoch:  60 loss:0.206303 auc:0.9563\n",
      "epoch:  80 loss:0.197788 auc:0.9592\n",
      "epoch: 100 loss:0.193633 auc:0.9586\n",
      "epoch: 120 loss:0.192678 auc:0.9546\n",
      "epoch: 140 loss:0.190789 auc:0.9512\n",
      "epoch: 160 loss:0.192347 auc:0.9501\n"
     ]
    },
    {
     "name": "stderr",
     "output_type": "stream",
     "text": [
      "  9%|▊         | 78/916 [17:47<2:25:45, 10.44s/it]"
     ]
    },
    {
     "name": "stdout",
     "output_type": "stream",
     "text": [
      "epoch: 180 loss:0.188712 auc:0.9439\n",
      "Fit finished.\n",
      "epoch:   0 loss:0.889838 auc:0.6097\n",
      "epoch:  20 loss:0.316391 auc:0.9598\n",
      "epoch:  40 loss:0.238390 auc:0.9628\n",
      "epoch:  60 loss:0.215779 auc:0.9640\n",
      "epoch:  80 loss:0.206986 auc:0.9607\n",
      "epoch: 100 loss:0.200272 auc:0.9605\n",
      "epoch: 120 loss:0.195201 auc:0.9605\n",
      "epoch: 140 loss:0.193108 auc:0.9607\n",
      "epoch: 160 loss:0.191866 auc:0.9603\n",
      "epoch: 180 loss:0.191377 auc:0.9614\n"
     ]
    },
    {
     "name": "stderr",
     "output_type": "stream",
     "text": [
      "  9%|▊         | 79/916 [17:56<2:19:54, 10.03s/it]"
     ]
    },
    {
     "name": "stdout",
     "output_type": "stream",
     "text": [
      "epoch: 200 loss:0.190360 auc:0.9617\n",
      "Fit finished.\n",
      "epoch:   0 loss:1.384122 auc:0.2706\n",
      "epoch:  20 loss:0.311520 auc:0.9315\n",
      "epoch:  40 loss:0.232343 auc:0.9417\n",
      "epoch:  60 loss:0.217688 auc:0.9403\n",
      "epoch:  80 loss:0.210358 auc:0.9385\n",
      "epoch: 100 loss:0.205803 auc:0.9393\n",
      "epoch: 120 loss:0.201144 auc:0.9395\n",
      "epoch: 140 loss:0.196363 auc:0.9393\n",
      "epoch: 160 loss:0.193485 auc:0.9393\n",
      "epoch: 180 loss:0.192042 auc:0.9395\n"
     ]
    },
    {
     "name": "stderr",
     "output_type": "stream",
     "text": [
      "  9%|▊         | 80/916 [18:06<2:17:51,  9.89s/it]"
     ]
    },
    {
     "name": "stdout",
     "output_type": "stream",
     "text": [
      "epoch: 200 loss:0.191098 auc:0.9395\n",
      "Fit finished.\n",
      "epoch:   0 loss:0.722104 auc:0.3908\n",
      "epoch:  20 loss:0.302527 auc:0.9708\n",
      "epoch:  40 loss:0.235201 auc:0.9730\n",
      "epoch:  60 loss:0.217573 auc:0.9735\n",
      "epoch:  80 loss:0.209809 auc:0.9738\n",
      "epoch: 100 loss:0.204683 auc:0.9733\n",
      "epoch: 120 loss:0.199613 auc:0.9730\n",
      "epoch: 140 loss:0.195499 auc:0.9735\n",
      "epoch: 160 loss:0.193369 auc:0.9735\n",
      "epoch: 180 loss:0.192072 auc:0.9740\n",
      "epoch: 200 loss:0.191036 auc:0.9735\n",
      "epoch: 220 loss:0.190016 auc:0.9740\n",
      "epoch: 240 loss:0.189132 auc:0.9740\n",
      "epoch: 260 loss:0.187860 auc:0.9740\n"
     ]
    },
    {
     "name": "stderr",
     "output_type": "stream",
     "text": [
      "  9%|▉         | 81/916 [18:18<2:26:20, 10.52s/it]"
     ]
    },
    {
     "name": "stdout",
     "output_type": "stream",
     "text": [
      "epoch: 280 loss:0.187271 auc:0.9693\n",
      "Fit finished.\n",
      "epoch:   0 loss:0.857688 auc:0.2964\n",
      "epoch:  20 loss:0.319414 auc:0.9375\n",
      "epoch:  40 loss:0.233789 auc:0.9428\n",
      "epoch:  60 loss:0.217330 auc:0.9403\n",
      "epoch:  80 loss:0.209746 auc:0.9391\n",
      "epoch: 100 loss:0.204086 auc:0.9397\n",
      "epoch: 120 loss:0.197297 auc:0.9394\n",
      "epoch: 140 loss:0.193817 auc:0.9394\n",
      "epoch: 160 loss:0.192269 auc:0.9409\n",
      "epoch: 180 loss:0.191581 auc:0.9421\n"
     ]
    },
    {
     "name": "stderr",
     "output_type": "stream",
     "text": [
      "  9%|▉         | 82/916 [18:28<2:25:18, 10.45s/it]"
     ]
    },
    {
     "name": "stdout",
     "output_type": "stream",
     "text": [
      "epoch: 200 loss:0.190365 auc:0.9424\n",
      "Fit finished.\n",
      "epoch:   0 loss:0.832116 auc:0.3939\n",
      "epoch:  20 loss:0.312417 auc:0.9285\n",
      "epoch:  40 loss:0.228749 auc:0.9351\n",
      "epoch:  60 loss:0.214126 auc:0.9374\n",
      "epoch:  80 loss:0.208747 auc:0.9368\n",
      "epoch: 100 loss:0.204282 auc:0.9391\n",
      "epoch: 120 loss:0.198999 auc:0.9391\n",
      "epoch: 140 loss:0.194687 auc:0.9391\n",
      "epoch: 160 loss:0.192876 auc:0.9374\n",
      "epoch: 180 loss:0.191702 auc:0.9374\n",
      "epoch: 200 loss:0.190661 auc:0.9354\n"
     ]
    },
    {
     "name": "stderr",
     "output_type": "stream",
     "text": [
      "  9%|▉         | 83/916 [18:37<2:19:19, 10.04s/it]"
     ]
    },
    {
     "name": "stdout",
     "output_type": "stream",
     "text": [
      "epoch: 220 loss:0.190354 auc:0.9296\n",
      "Fit finished.\n",
      "epoch:   0 loss:0.805315 auc:0.4845\n",
      "epoch:  20 loss:0.297502 auc:0.9423\n",
      "epoch:  40 loss:0.227614 auc:0.9445\n",
      "epoch:  60 loss:0.212934 auc:0.9423\n",
      "epoch:  80 loss:0.207180 auc:0.9430\n",
      "epoch: 100 loss:0.201618 auc:0.9427\n",
      "epoch: 120 loss:0.195664 auc:0.9420\n",
      "epoch: 140 loss:0.193282 auc:0.9423\n",
      "epoch: 160 loss:0.191824 auc:0.9423\n",
      "epoch: 180 loss:0.190975 auc:0.9427\n"
     ]
    },
    {
     "name": "stderr",
     "output_type": "stream",
     "text": [
      "  9%|▉         | 84/916 [18:47<2:18:38, 10.00s/it]"
     ]
    },
    {
     "name": "stdout",
     "output_type": "stream",
     "text": [
      "epoch: 200 loss:0.190273 auc:0.9427\n",
      "Fit finished.\n",
      "epoch:   0 loss:0.718747 auc:0.4530\n",
      "epoch:  20 loss:0.303253 auc:0.9672\n",
      "epoch:  40 loss:0.227972 auc:0.9695\n",
      "epoch:  60 loss:0.212931 auc:0.9715\n",
      "epoch:  80 loss:0.205962 auc:0.9735\n",
      "epoch: 100 loss:0.199790 auc:0.9735\n",
      "epoch: 120 loss:0.195099 auc:0.9735\n",
      "epoch: 140 loss:0.193013 auc:0.9735\n",
      "epoch: 160 loss:0.191840 auc:0.9740\n",
      "epoch: 180 loss:0.191178 auc:0.9746\n",
      "epoch: 200 loss:0.190219 auc:0.9756\n",
      "epoch: 220 loss:0.190526 auc:0.9748\n",
      "epoch: 240 loss:0.188856 auc:0.9743\n"
     ]
    },
    {
     "name": "stderr",
     "output_type": "stream",
     "text": [
      "  9%|▉         | 85/916 [18:58<2:21:08, 10.19s/it]"
     ]
    },
    {
     "name": "stdout",
     "output_type": "stream",
     "text": [
      "epoch: 260 loss:0.188962 auc:0.9728\n",
      "Fit finished.\n",
      "epoch:   0 loss:0.767701 auc:0.6371\n",
      "epoch:  20 loss:0.308200 auc:0.9763\n",
      "epoch:  40 loss:0.233846 auc:0.9744\n",
      "epoch:  60 loss:0.215114 auc:0.9698\n",
      "epoch:  80 loss:0.206949 auc:0.9684\n",
      "epoch: 100 loss:0.200526 auc:0.9691\n",
      "epoch: 120 loss:0.195212 auc:0.9698\n",
      "epoch: 140 loss:0.193153 auc:0.9704\n",
      "epoch: 160 loss:0.191953 auc:0.9691\n"
     ]
    },
    {
     "name": "stderr",
     "output_type": "stream",
     "text": [
      "  9%|▉         | 86/916 [19:06<2:13:26,  9.65s/it]"
     ]
    },
    {
     "name": "stdout",
     "output_type": "stream",
     "text": [
      "epoch: 180 loss:0.191191 auc:0.9704\n",
      "Fit finished.\n",
      "epoch:   0 loss:0.785518 auc:0.3672\n",
      "epoch:  20 loss:0.318129 auc:0.9863\n",
      "epoch:  40 loss:0.237156 auc:0.9912\n",
      "epoch:  60 loss:0.216224 auc:0.9922\n",
      "epoch:  80 loss:0.207136 auc:0.9922\n",
      "epoch: 100 loss:0.199909 auc:0.9922\n",
      "epoch: 120 loss:0.195009 auc:0.9922\n",
      "epoch: 140 loss:0.192946 auc:0.9922\n",
      "epoch: 160 loss:0.192160 auc:0.9922\n",
      "epoch: 180 loss:0.190897 auc:0.9922\n",
      "epoch: 200 loss:0.191894 auc:0.9922\n",
      "epoch: 220 loss:0.189481 auc:0.9922\n",
      "epoch: 240 loss:0.188366 auc:0.9922\n",
      "epoch: 260 loss:0.188127 auc:0.9922\n"
     ]
    },
    {
     "name": "stderr",
     "output_type": "stream",
     "text": [
      "  9%|▉         | 87/916 [19:19<2:25:36, 10.54s/it]"
     ]
    },
    {
     "name": "stdout",
     "output_type": "stream",
     "text": [
      "epoch: 280 loss:0.186231 auc:0.9902\n",
      "Fit finished.\n",
      "epoch:   0 loss:1.260642 auc:0.7644\n",
      "epoch:  20 loss:0.334981 auc:0.9101\n",
      "epoch:  40 loss:0.257359 auc:0.9314\n",
      "epoch:  60 loss:0.223092 auc:0.9338\n",
      "epoch:  80 loss:0.211326 auc:0.9353\n",
      "epoch: 100 loss:0.205354 auc:0.9348\n",
      "epoch: 120 loss:0.200197 auc:0.9338\n",
      "epoch: 140 loss:0.196214 auc:0.9358\n",
      "epoch: 160 loss:0.194087 auc:0.9348\n",
      "epoch: 180 loss:0.192850 auc:0.9348\n",
      "epoch: 200 loss:0.191948 auc:0.9348\n",
      "epoch: 220 loss:0.191201 auc:0.9348\n"
     ]
    },
    {
     "name": "stderr",
     "output_type": "stream",
     "text": [
      " 10%|▉         | 88/916 [19:31<2:31:09, 10.95s/it]"
     ]
    },
    {
     "name": "stdout",
     "output_type": "stream",
     "text": [
      "epoch: 240 loss:0.190516 auc:0.9348\n",
      "Fit finished.\n",
      "epoch:   0 loss:1.101168 auc:0.5408\n",
      "epoch:  20 loss:0.339655 auc:0.9757\n",
      "epoch:  40 loss:0.264769 auc:0.9778\n",
      "epoch:  60 loss:0.226314 auc:0.9762\n",
      "epoch:  80 loss:0.212701 auc:0.9768\n",
      "epoch: 100 loss:0.205899 auc:0.9768\n",
      "epoch: 120 loss:0.199813 auc:0.9762\n",
      "epoch: 140 loss:0.195085 auc:0.9768\n",
      "epoch: 160 loss:0.193276 auc:0.9768\n",
      "epoch: 180 loss:0.192217 auc:0.9762\n"
     ]
    },
    {
     "name": "stderr",
     "output_type": "stream",
     "text": [
      " 10%|▉         | 89/916 [19:40<2:23:26, 10.41s/it]"
     ]
    },
    {
     "name": "stdout",
     "output_type": "stream",
     "text": [
      "epoch: 200 loss:0.191401 auc:0.9768\n",
      "Fit finished.\n",
      "epoch:   0 loss:0.651967 auc:0.4776\n",
      "epoch:  20 loss:0.275957 auc:0.9923\n",
      "epoch:  40 loss:0.222121 auc:0.9923\n",
      "epoch:  60 loss:0.208799 auc:0.9892\n",
      "epoch:  80 loss:0.201844 auc:0.9892\n",
      "epoch: 100 loss:0.195932 auc:0.9892\n",
      "epoch: 120 loss:0.193385 auc:0.9884\n",
      "epoch: 140 loss:0.192040 auc:0.9907\n",
      "epoch: 160 loss:0.190445 auc:0.9907\n"
     ]
    },
    {
     "name": "stderr",
     "output_type": "stream",
     "text": [
      " 10%|▉         | 90/916 [19:48<2:14:33,  9.77s/it]"
     ]
    },
    {
     "name": "stdout",
     "output_type": "stream",
     "text": [
      "epoch: 180 loss:0.189109 auc:0.9907\n",
      "Fit finished.\n",
      "epoch:   0 loss:0.681639 auc:0.3936\n",
      "epoch:  20 loss:0.248282 auc:0.9620\n",
      "epoch:  40 loss:0.218532 auc:0.9644\n",
      "epoch:  60 loss:0.210289 auc:0.9664\n",
      "epoch:  80 loss:0.205009 auc:0.9669\n",
      "epoch: 100 loss:0.199272 auc:0.9669\n",
      "epoch: 120 loss:0.195245 auc:0.9669\n",
      "epoch: 140 loss:0.193272 auc:0.9669\n",
      "epoch: 160 loss:0.191730 auc:0.9674\n",
      "epoch: 180 loss:0.190201 auc:0.9684\n",
      "epoch: 200 loss:0.189348 auc:0.9694\n",
      "epoch: 220 loss:0.187552 auc:0.9709\n",
      "epoch: 240 loss:0.185790 auc:0.9689\n"
     ]
    },
    {
     "name": "stderr",
     "output_type": "stream",
     "text": [
      " 10%|▉         | 91/916 [20:00<2:23:41, 10.45s/it]"
     ]
    },
    {
     "name": "stdout",
     "output_type": "stream",
     "text": [
      "epoch: 260 loss:0.184326 auc:0.9654\n",
      "Fit finished.\n",
      "epoch:   0 loss:0.676856 auc:0.3938\n",
      "epoch:  20 loss:0.300396 auc:0.9679\n",
      "epoch:  40 loss:0.231568 auc:0.9688\n",
      "epoch:  60 loss:0.216137 auc:0.9688\n",
      "epoch:  80 loss:0.210135 auc:0.9674\n",
      "epoch: 100 loss:0.205506 auc:0.9683\n",
      "epoch: 120 loss:0.199716 auc:0.9697\n",
      "epoch: 140 loss:0.194652 auc:0.9683\n",
      "epoch: 160 loss:0.192637 auc:0.9679\n",
      "epoch: 180 loss:0.191392 auc:0.9701\n",
      "epoch: 200 loss:0.190421 auc:0.9697\n"
     ]
    },
    {
     "name": "stderr",
     "output_type": "stream",
     "text": [
      " 10%|█         | 92/916 [20:11<2:25:40, 10.61s/it]"
     ]
    },
    {
     "name": "stdout",
     "output_type": "stream",
     "text": [
      "epoch: 220 loss:0.192289 auc:0.9670\n",
      "Fit finished.\n",
      "epoch:   0 loss:1.448798 auc:0.6284\n",
      "epoch:  20 loss:0.315423 auc:0.9399\n",
      "epoch:  40 loss:0.241173 auc:0.9438\n",
      "epoch:  60 loss:0.215935 auc:0.9499\n",
      "epoch:  80 loss:0.206495 auc:0.9515\n",
      "epoch: 100 loss:0.199398 auc:0.9519\n",
      "epoch: 120 loss:0.194815 auc:0.9524\n",
      "epoch: 140 loss:0.192845 auc:0.9529\n",
      "epoch: 160 loss:0.191853 auc:0.9529\n",
      "epoch: 180 loss:0.190653 auc:0.9513\n",
      "epoch: 200 loss:0.190074 auc:0.9488\n"
     ]
    },
    {
     "name": "stderr",
     "output_type": "stream",
     "text": [
      " 10%|█         | 93/916 [20:21<2:21:25, 10.31s/it]"
     ]
    },
    {
     "name": "stdout",
     "output_type": "stream",
     "text": [
      "epoch: 220 loss:0.188925 auc:0.9393\n",
      "Fit finished.\n",
      "epoch:   0 loss:1.262824 auc:0.6936\n",
      "epoch:  20 loss:0.332990 auc:0.9251\n",
      "epoch:  40 loss:0.248642 auc:0.9233\n",
      "epoch:  60 loss:0.218137 auc:0.9240\n",
      "epoch:  80 loss:0.207928 auc:0.9240\n",
      "epoch: 100 loss:0.201843 auc:0.9260\n",
      "epoch: 120 loss:0.196624 auc:0.9270\n",
      "epoch: 140 loss:0.194016 auc:0.9282\n",
      "epoch: 160 loss:0.192690 auc:0.9286\n",
      "epoch: 180 loss:0.191723 auc:0.9283\n",
      "epoch: 200 loss:0.192189 auc:0.9277\n",
      "epoch: 220 loss:0.190392 auc:0.9267\n",
      "epoch: 240 loss:0.189746 auc:0.9250\n"
     ]
    },
    {
     "name": "stderr",
     "output_type": "stream",
     "text": [
      " 10%|█         | 94/916 [20:33<2:28:37, 10.85s/it]"
     ]
    },
    {
     "name": "stdout",
     "output_type": "stream",
     "text": [
      "epoch: 260 loss:0.191523 auc:0.9231\n",
      "Fit finished.\n",
      "epoch:   0 loss:1.010620 auc:0.7330\n",
      "epoch:  20 loss:0.335448 auc:0.9876\n",
      "epoch:  40 loss:0.247647 auc:0.9866\n",
      "epoch:  60 loss:0.219630 auc:0.9861\n",
      "epoch:  80 loss:0.210043 auc:0.9861\n",
      "epoch: 100 loss:0.204067 auc:0.9855\n",
      "epoch: 120 loss:0.198311 auc:0.9861\n",
      "epoch: 140 loss:0.194684 auc:0.9855\n",
      "epoch: 160 loss:0.192926 auc:0.9855\n"
     ]
    },
    {
     "name": "stderr",
     "output_type": "stream",
     "text": [
      " 10%|█         | 95/916 [20:42<2:20:26, 10.26s/it]"
     ]
    },
    {
     "name": "stdout",
     "output_type": "stream",
     "text": [
      "epoch: 180 loss:0.191967 auc:0.9855\n",
      "Fit finished.\n",
      "epoch:   0 loss:0.872678 auc:0.5481\n",
      "epoch:  20 loss:0.321474 auc:0.9073\n",
      "epoch:  40 loss:0.236247 auc:0.9101\n",
      "epoch:  60 loss:0.217077 auc:0.9126\n",
      "epoch:  80 loss:0.209313 auc:0.9146\n",
      "epoch: 100 loss:0.204428 auc:0.9167\n",
      "epoch: 120 loss:0.198900 auc:0.9174\n",
      "epoch: 140 loss:0.194383 auc:0.9186\n",
      "epoch: 160 loss:0.193071 auc:0.9178\n",
      "epoch: 180 loss:0.191588 auc:0.9176\n",
      "epoch: 200 loss:0.190841 auc:0.9176\n",
      "epoch: 220 loss:0.190223 auc:0.9163\n",
      "epoch: 240 loss:0.189178 auc:0.9171\n"
     ]
    },
    {
     "name": "stderr",
     "output_type": "stream",
     "text": [
      " 10%|█         | 96/916 [20:53<2:23:56, 10.53s/it]"
     ]
    },
    {
     "name": "stdout",
     "output_type": "stream",
     "text": [
      "epoch: 260 loss:0.188836 auc:0.9156\n",
      "Fit finished.\n",
      "epoch:   0 loss:0.806442 auc:0.6500\n",
      "epoch:  20 loss:0.310865 auc:0.9670\n",
      "epoch:  40 loss:0.233666 auc:0.9660\n",
      "epoch:  60 loss:0.215015 auc:0.9658\n",
      "epoch:  80 loss:0.207138 auc:0.9658\n",
      "epoch: 100 loss:0.200960 auc:0.9656\n",
      "epoch: 120 loss:0.195805 auc:0.9659\n",
      "epoch: 140 loss:0.193401 auc:0.9659\n",
      "epoch: 160 loss:0.192113 auc:0.9658\n"
     ]
    },
    {
     "name": "stderr",
     "output_type": "stream",
     "text": [
      " 11%|█         | 97/916 [21:01<2:12:39,  9.72s/it]"
     ]
    },
    {
     "name": "stdout",
     "output_type": "stream",
     "text": [
      "epoch: 180 loss:0.192319 auc:0.9647\n",
      "Fit finished.\n",
      "epoch:   0 loss:0.736258 auc:0.6193\n",
      "epoch:  20 loss:0.318240 auc:0.9370\n",
      "epoch:  40 loss:0.233557 auc:0.9509\n",
      "epoch:  60 loss:0.213490 auc:0.9597\n",
      "epoch:  80 loss:0.205202 auc:0.9613\n",
      "epoch: 100 loss:0.198821 auc:0.9613\n",
      "epoch: 120 loss:0.194837 auc:0.9607\n",
      "epoch: 140 loss:0.193081 auc:0.9607\n",
      "epoch: 160 loss:0.191909 auc:0.9602\n",
      "epoch: 180 loss:0.192501 auc:0.9597\n",
      "epoch: 200 loss:0.190257 auc:0.9613\n",
      "epoch: 220 loss:0.189443 auc:0.9597\n"
     ]
    },
    {
     "name": "stderr",
     "output_type": "stream",
     "text": [
      " 11%|█         | 98/916 [21:12<2:18:10, 10.14s/it]"
     ]
    },
    {
     "name": "stdout",
     "output_type": "stream",
     "text": [
      "epoch: 240 loss:0.189071 auc:0.9592\n",
      "Fit finished.\n",
      "epoch:   0 loss:0.826266 auc:0.8559\n",
      "epoch:  20 loss:0.296647 auc:0.9337\n",
      "epoch:  40 loss:0.228946 auc:0.9375\n",
      "epoch:  60 loss:0.213935 auc:0.9362\n",
      "epoch:  80 loss:0.206808 auc:0.9362\n",
      "epoch: 100 loss:0.200941 auc:0.9362\n",
      "epoch: 120 loss:0.195860 auc:0.9362\n",
      "epoch: 140 loss:0.193566 auc:0.9375\n",
      "epoch: 160 loss:0.192325 auc:0.9375\n",
      "epoch: 180 loss:0.191427 auc:0.9375\n",
      "epoch: 200 loss:0.192482 auc:0.9388\n",
      "epoch: 220 loss:0.190624 auc:0.9362\n",
      "epoch: 240 loss:0.189928 auc:0.9362\n"
     ]
    },
    {
     "name": "stderr",
     "output_type": "stream",
     "text": [
      " 11%|█         | 99/916 [21:22<2:19:46, 10.26s/it]"
     ]
    },
    {
     "name": "stdout",
     "output_type": "stream",
     "text": [
      "epoch: 260 loss:0.189395 auc:0.9337\n",
      "Fit finished.\n",
      "epoch:   0 loss:0.907171 auc:0.4102\n",
      "epoch:  20 loss:0.315812 auc:0.9175\n",
      "epoch:  40 loss:0.232903 auc:0.9202\n",
      "epoch:  60 loss:0.215747 auc:0.9180\n",
      "epoch:  80 loss:0.207738 auc:0.9189\n",
      "epoch: 100 loss:0.201317 auc:0.9201\n",
      "epoch: 120 loss:0.195540 auc:0.9211\n",
      "epoch: 140 loss:0.193253 auc:0.9197\n",
      "epoch: 160 loss:0.191988 auc:0.9202\n",
      "epoch: 180 loss:0.191002 auc:0.9214\n",
      "epoch: 200 loss:0.191168 auc:0.9214\n",
      "epoch: 220 loss:0.189856 auc:0.9214\n",
      "epoch: 240 loss:0.188909 auc:0.9212\n"
     ]
    },
    {
     "name": "stderr",
     "output_type": "stream",
     "text": [
      " 11%|█         | 100/916 [21:34<2:24:40, 10.64s/it]"
     ]
    },
    {
     "name": "stdout",
     "output_type": "stream",
     "text": [
      "epoch: 260 loss:0.191072 auc:0.9157\n",
      "Fit finished.\n",
      "epoch:   0 loss:1.087851 auc:0.7778\n",
      "epoch:  20 loss:0.347986 auc:0.9411\n",
      "epoch:  40 loss:0.270821 auc:0.9344\n",
      "epoch:  60 loss:0.227126 auc:0.9322\n",
      "epoch:  80 loss:0.214631 auc:0.9356\n",
      "epoch: 100 loss:0.207672 auc:0.9378\n",
      "epoch: 120 loss:0.201734 auc:0.9433\n",
      "epoch: 140 loss:0.196339 auc:0.9467\n",
      "epoch: 160 loss:0.193777 auc:0.9456\n",
      "epoch: 180 loss:0.192474 auc:0.9456\n",
      "epoch: 200 loss:0.191617 auc:0.9456\n",
      "epoch: 220 loss:0.190933 auc:0.9456\n",
      "epoch: 240 loss:0.191210 auc:0.9456\n",
      "epoch: 260 loss:0.190103 auc:0.9456\n",
      "epoch: 280 loss:0.189533 auc:0.9456\n"
     ]
    },
    {
     "name": "stderr",
     "output_type": "stream",
     "text": [
      " 11%|█         | 101/916 [21:48<2:36:33, 11.53s/it]"
     ]
    },
    {
     "name": "stdout",
     "output_type": "stream",
     "text": [
      "epoch: 300 loss:0.189063 auc:0.9456\n",
      "Fit finished.\n",
      "epoch:   0 loss:0.733515 auc:0.4683\n",
      "epoch:  20 loss:0.283024 auc:0.9717\n",
      "epoch:  40 loss:0.227411 auc:0.9666\n",
      "epoch:  60 loss:0.212093 auc:0.9626\n",
      "epoch:  80 loss:0.206369 auc:0.9609\n",
      "epoch: 100 loss:0.201276 auc:0.9620\n",
      "epoch: 120 loss:0.196470 auc:0.9620\n",
      "epoch: 140 loss:0.194020 auc:0.9603\n",
      "epoch: 160 loss:0.192694 auc:0.9603\n"
     ]
    },
    {
     "name": "stderr",
     "output_type": "stream",
     "text": [
      " 11%|█         | 102/916 [21:56<2:23:59, 10.61s/it]"
     ]
    },
    {
     "name": "stdout",
     "output_type": "stream",
     "text": [
      "epoch: 180 loss:0.191694 auc:0.9609\n",
      "Fit finished.\n",
      "epoch:   0 loss:0.886824 auc:0.9205\n",
      "epoch:  20 loss:0.302844 auc:0.9475\n",
      "epoch:  40 loss:0.231278 auc:0.9491\n",
      "epoch:  60 loss:0.216022 auc:0.9537\n",
      "epoch:  80 loss:0.209404 auc:0.9576\n",
      "epoch: 100 loss:0.204603 auc:0.9576\n",
      "epoch: 120 loss:0.199521 auc:0.9583\n",
      "epoch: 140 loss:0.195034 auc:0.9576\n",
      "epoch: 160 loss:0.193070 auc:0.9583\n",
      "epoch: 180 loss:0.191903 auc:0.9583\n",
      "epoch: 200 loss:0.191233 auc:0.9583\n",
      "epoch: 220 loss:0.190935 auc:0.9583\n",
      "epoch: 240 loss:0.189740 auc:0.9591\n",
      "epoch: 260 loss:0.189923 auc:0.9606\n"
     ]
    },
    {
     "name": "stderr",
     "output_type": "stream",
     "text": [
      " 11%|█         | 103/916 [22:10<2:36:17, 11.53s/it]"
     ]
    },
    {
     "name": "stdout",
     "output_type": "stream",
     "text": [
      "epoch: 280 loss:0.188013 auc:0.9522\n",
      "Fit finished.\n",
      "epoch:   0 loss:0.758780 auc:0.4555\n",
      "epoch:  20 loss:0.313787 auc:0.9698\n",
      "epoch:  40 loss:0.233288 auc:0.9682\n",
      "epoch:  60 loss:0.216499 auc:0.9673\n",
      "epoch:  80 loss:0.209017 auc:0.9641\n",
      "epoch: 100 loss:0.203842 auc:0.9665\n",
      "epoch: 120 loss:0.198349 auc:0.9673\n",
      "epoch: 140 loss:0.194392 auc:0.9665\n",
      "epoch: 160 loss:0.192735 auc:0.9657\n"
     ]
    },
    {
     "name": "stderr",
     "output_type": "stream",
     "text": [
      " 11%|█▏        | 104/916 [22:18<2:23:45, 10.62s/it]"
     ]
    },
    {
     "name": "stdout",
     "output_type": "stream",
     "text": [
      "epoch: 180 loss:0.191620 auc:0.9657\n",
      "Fit finished.\n",
      "epoch:   0 loss:0.720330 auc:0.3663\n",
      "epoch:  20 loss:0.238109 auc:0.9601\n",
      "epoch:  40 loss:0.215224 auc:0.9740\n",
      "epoch:  60 loss:0.207396 auc:0.9722\n",
      "epoch:  80 loss:0.200941 auc:0.9740\n",
      "epoch: 100 loss:0.195295 auc:0.9740\n",
      "epoch: 120 loss:0.192846 auc:0.9722\n",
      "epoch: 140 loss:0.191170 auc:0.9705\n",
      "epoch: 160 loss:0.191926 auc:0.9688\n",
      "epoch: 180 loss:0.188757 auc:0.9670\n"
     ]
    },
    {
     "name": "stderr",
     "output_type": "stream",
     "text": [
      " 11%|█▏        | 105/916 [22:28<2:18:16, 10.23s/it]"
     ]
    },
    {
     "name": "stdout",
     "output_type": "stream",
     "text": [
      "epoch: 200 loss:0.192466 auc:0.9601\n",
      "Fit finished.\n",
      "epoch:   0 loss:1.011544 auc:0.6443\n",
      "epoch:  20 loss:0.291862 auc:0.9627\n",
      "epoch:  40 loss:0.229618 auc:0.9606\n",
      "epoch:  60 loss:0.215706 auc:0.9620\n",
      "epoch:  80 loss:0.209952 auc:0.9606\n",
      "epoch: 100 loss:0.205226 auc:0.9613\n",
      "epoch: 120 loss:0.199692 auc:0.9613\n",
      "epoch: 140 loss:0.195031 auc:0.9627\n",
      "epoch: 160 loss:0.192979 auc:0.9635\n",
      "epoch: 180 loss:0.191761 auc:0.9635\n",
      "epoch: 200 loss:0.193698 auc:0.9642\n",
      "epoch: 220 loss:0.190674 auc:0.9620\n",
      "epoch: 240 loss:0.189842 auc:0.9620\n"
     ]
    },
    {
     "name": "stderr",
     "output_type": "stream",
     "text": [
      " 12%|█▏        | 106/916 [22:41<2:29:40, 11.09s/it]"
     ]
    },
    {
     "name": "stdout",
     "output_type": "stream",
     "text": [
      "epoch: 260 loss:0.189235 auc:0.9598\n",
      "Fit finished.\n",
      "epoch:   0 loss:0.685467 auc:0.2316\n",
      "epoch:  20 loss:0.235254 auc:0.9488\n",
      "epoch:  40 loss:0.216157 auc:0.9522\n",
      "epoch:  60 loss:0.208596 auc:0.9552\n",
      "epoch:  80 loss:0.201770 auc:0.9541\n",
      "epoch: 100 loss:0.195250 auc:0.9555\n",
      "epoch: 120 loss:0.194436 auc:0.9557\n",
      "epoch: 140 loss:0.190814 auc:0.9568\n",
      "epoch: 160 loss:0.188499 auc:0.9552\n",
      "epoch: 180 loss:0.187628 auc:0.9575\n",
      "epoch: 200 loss:0.184230 auc:0.9552\n"
     ]
    },
    {
     "name": "stderr",
     "output_type": "stream",
     "text": [
      " 12%|█▏        | 107/916 [22:51<2:26:12, 10.84s/it]"
     ]
    },
    {
     "name": "stdout",
     "output_type": "stream",
     "text": [
      "epoch: 220 loss:0.181735 auc:0.9502\n",
      "Fit finished.\n",
      "epoch:   0 loss:0.786858 auc:0.2722\n",
      "epoch:  20 loss:0.305340 auc:0.9512\n",
      "epoch:  40 loss:0.229631 auc:0.9671\n",
      "epoch:  60 loss:0.214766 auc:0.9675\n",
      "epoch:  80 loss:0.208915 auc:0.9675\n",
      "epoch: 100 loss:0.203929 auc:0.9682\n",
      "epoch: 120 loss:0.198119 auc:0.9682\n",
      "epoch: 140 loss:0.194356 auc:0.9682\n",
      "epoch: 160 loss:0.192569 auc:0.9682\n",
      "epoch: 180 loss:0.191286 auc:0.9682\n",
      "epoch: 200 loss:0.191610 auc:0.9693\n",
      "epoch: 220 loss:0.189441 auc:0.9686\n"
     ]
    },
    {
     "name": "stderr",
     "output_type": "stream",
     "text": [
      " 12%|█▏        | 108/916 [23:03<2:29:24, 11.09s/it]"
     ]
    },
    {
     "name": "stdout",
     "output_type": "stream",
     "text": [
      "epoch: 240 loss:0.188155 auc:0.9671\n",
      "Fit finished.\n",
      "epoch:   0 loss:0.877785 auc:0.5498\n",
      "epoch:  20 loss:0.307012 auc:0.9700\n",
      "epoch:  40 loss:0.232331 auc:0.9767\n",
      "epoch:  60 loss:0.217178 auc:0.9775\n",
      "epoch:  80 loss:0.210684 auc:0.9792\n",
      "epoch: 100 loss:0.205967 auc:0.9788\n",
      "epoch: 120 loss:0.200712 auc:0.9792\n",
      "epoch: 140 loss:0.195757 auc:0.9800\n",
      "epoch: 160 loss:0.193528 auc:0.9804\n",
      "epoch: 180 loss:0.192264 auc:0.9804\n",
      "epoch: 200 loss:0.191840 auc:0.9804\n",
      "epoch: 220 loss:0.190762 auc:0.9804\n",
      "epoch: 240 loss:0.189962 auc:0.9796\n",
      "epoch: 260 loss:0.189422 auc:0.9792\n",
      "epoch: 280 loss:0.189053 auc:0.9808\n"
     ]
    },
    {
     "name": "stderr",
     "output_type": "stream",
     "text": [
      " 12%|█▏        | 109/916 [23:18<2:46:53, 12.41s/it]"
     ]
    },
    {
     "name": "stdout",
     "output_type": "stream",
     "text": [
      "epoch: 300 loss:0.189264 auc:0.9788\n",
      "Fit finished.\n",
      "epoch:   0 loss:0.631244 auc:0.2640\n",
      "epoch:  20 loss:0.290272 auc:0.9620\n",
      "epoch:  40 loss:0.227971 auc:0.9738\n",
      "epoch:  60 loss:0.213864 auc:0.9738\n",
      "epoch:  80 loss:0.208126 auc:0.9750\n",
      "epoch: 100 loss:0.203174 auc:0.9738\n",
      "epoch: 120 loss:0.197414 auc:0.9738\n",
      "epoch: 140 loss:0.194002 auc:0.9750\n",
      "epoch: 160 loss:0.192273 auc:0.9750\n",
      "epoch: 180 loss:0.190975 auc:0.9762\n",
      "epoch: 200 loss:0.189943 auc:0.9774\n",
      "epoch: 220 loss:0.189120 auc:0.9798\n",
      "epoch: 240 loss:0.188316 auc:0.9810\n",
      "epoch: 260 loss:0.187101 auc:0.9845\n",
      "epoch: 280 loss:0.184989 auc:0.9869\n",
      "epoch: 300 loss:0.183780 auc:0.9881\n",
      "epoch: 320 loss:0.182832 auc:0.9893\n",
      "epoch: 340 loss:0.179954 auc:0.9869\n",
      "epoch: 360 loss:0.231866 auc:0.9786\n"
     ]
    },
    {
     "name": "stderr",
     "output_type": "stream",
     "text": [
      " 12%|█▏        | 110/916 [23:36<3:08:55, 14.06s/it]"
     ]
    },
    {
     "name": "stdout",
     "output_type": "stream",
     "text": [
      "epoch: 380 loss:0.197599 auc:0.9738\n",
      "Fit finished.\n",
      "epoch:   0 loss:0.592025 auc:0.3063\n",
      "epoch:  20 loss:0.260122 auc:0.9640\n",
      "epoch:  40 loss:0.218588 auc:0.9640\n",
      "epoch:  60 loss:0.209579 auc:0.9636\n",
      "epoch:  80 loss:0.204033 auc:0.9647\n",
      "epoch: 100 loss:0.198033 auc:0.9640\n",
      "epoch: 120 loss:0.194463 auc:0.9643\n",
      "epoch: 140 loss:0.192744 auc:0.9636\n",
      "epoch: 160 loss:0.191438 auc:0.9628\n"
     ]
    },
    {
     "name": "stderr",
     "output_type": "stream",
     "text": [
      " 12%|█▏        | 111/916 [23:44<2:43:23, 12.18s/it]"
     ]
    },
    {
     "name": "stdout",
     "output_type": "stream",
     "text": [
      "epoch: 180 loss:0.190409 auc:0.9631\n",
      "Fit finished.\n",
      "epoch:   0 loss:0.874636 auc:0.0825\n",
      "epoch:  20 loss:0.276364 auc:0.9620\n",
      "epoch:  40 loss:0.220463 auc:0.9744\n",
      "epoch:  60 loss:0.210550 auc:0.9737\n",
      "epoch:  80 loss:0.204225 auc:0.9744\n",
      "epoch: 100 loss:0.197332 auc:0.9744\n",
      "epoch: 120 loss:0.194819 auc:0.9744\n",
      "epoch: 140 loss:0.192336 auc:0.9744\n",
      "epoch: 160 loss:0.191937 auc:0.9744\n",
      "epoch: 180 loss:0.191723 auc:0.9744\n",
      "epoch: 200 loss:0.189675 auc:0.9744\n"
     ]
    },
    {
     "name": "stderr",
     "output_type": "stream",
     "text": [
      " 12%|█▏        | 112/916 [23:55<2:37:41, 11.77s/it]"
     ]
    },
    {
     "name": "stdout",
     "output_type": "stream",
     "text": [
      "epoch: 220 loss:0.188168 auc:0.9730\n",
      "Fit finished.\n",
      "epoch:   0 loss:0.712427 auc:0.3470\n",
      "epoch:  20 loss:0.283335 auc:0.9718\n",
      "epoch:  40 loss:0.223525 auc:0.9716\n",
      "epoch:  60 loss:0.210326 auc:0.9673\n",
      "epoch:  80 loss:0.204072 auc:0.9685\n",
      "epoch: 100 loss:0.198483 auc:0.9683\n",
      "epoch: 120 loss:0.194827 auc:0.9685\n",
      "epoch: 140 loss:0.193057 auc:0.9690\n",
      "epoch: 160 loss:0.192201 auc:0.9683\n"
     ]
    },
    {
     "name": "stderr",
     "output_type": "stream",
     "text": [
      " 12%|█▏        | 113/916 [24:03<2:24:48, 10.82s/it]"
     ]
    },
    {
     "name": "stdout",
     "output_type": "stream",
     "text": [
      "epoch: 180 loss:0.191886 auc:0.9669\n",
      "Fit finished.\n",
      "epoch:   0 loss:0.718633 auc:0.6644\n",
      "epoch:  20 loss:0.332122 auc:0.9421\n",
      "epoch:  40 loss:0.239790 auc:0.9406\n",
      "epoch:  60 loss:0.216462 auc:0.9398\n",
      "epoch:  80 loss:0.207463 auc:0.9390\n",
      "epoch: 100 loss:0.201119 auc:0.9390\n",
      "epoch: 120 loss:0.195736 auc:0.9406\n",
      "epoch: 140 loss:0.193520 auc:0.9390\n",
      "epoch: 160 loss:0.192751 auc:0.9383\n"
     ]
    },
    {
     "name": "stderr",
     "output_type": "stream",
     "text": [
      " 12%|█▏        | 114/916 [24:12<2:16:22, 10.20s/it]"
     ]
    },
    {
     "name": "stdout",
     "output_type": "stream",
     "text": [
      "epoch: 180 loss:0.191753 auc:0.9390\n",
      "Fit finished.\n",
      "epoch:   0 loss:0.570338 auc:0.7296\n",
      "epoch:  20 loss:0.281512 auc:0.9605\n",
      "epoch:  40 loss:0.225637 auc:0.9643\n",
      "epoch:  60 loss:0.211999 auc:0.9643\n",
      "epoch:  80 loss:0.205478 auc:0.9638\n",
      "epoch: 100 loss:0.198906 auc:0.9648\n",
      "epoch: 120 loss:0.194677 auc:0.9638\n",
      "epoch: 140 loss:0.192738 auc:0.9643\n",
      "epoch: 160 loss:0.191398 auc:0.9627\n",
      "epoch: 180 loss:0.192166 auc:0.9632\n",
      "epoch: 200 loss:0.189703 auc:0.9659\n",
      "epoch: 220 loss:0.188093 auc:0.9654\n"
     ]
    },
    {
     "name": "stderr",
     "output_type": "stream",
     "text": [
      " 13%|█▎        | 115/916 [24:24<2:25:19, 10.89s/it]"
     ]
    },
    {
     "name": "stdout",
     "output_type": "stream",
     "text": [
      "epoch: 240 loss:0.186659 auc:0.9632\n",
      "Fit finished.\n",
      "epoch:   0 loss:0.873826 auc:0.4688\n",
      "epoch:  20 loss:0.304902 auc:0.9261\n",
      "epoch:  40 loss:0.233481 auc:0.9267\n",
      "epoch:  60 loss:0.218380 auc:0.9235\n",
      "epoch:  80 loss:0.211037 auc:0.9224\n",
      "epoch: 100 loss:0.205521 auc:0.9216\n",
      "epoch: 120 loss:0.199191 auc:0.9224\n",
      "epoch: 140 loss:0.194792 auc:0.9218\n",
      "epoch: 160 loss:0.192858 auc:0.9224\n"
     ]
    },
    {
     "name": "stderr",
     "output_type": "stream",
     "text": [
      " 13%|█▎        | 116/916 [24:33<2:17:10, 10.29s/it]"
     ]
    },
    {
     "name": "stdout",
     "output_type": "stream",
     "text": [
      "epoch: 180 loss:0.191678 auc:0.9233\n",
      "Fit finished.\n",
      "epoch:   0 loss:1.013313 auc:0.0958\n",
      "epoch:  20 loss:0.295604 auc:0.9675\n",
      "epoch:  40 loss:0.228616 auc:0.9692\n",
      "epoch:  60 loss:0.213444 auc:0.9721\n",
      "epoch:  80 loss:0.208005 auc:0.9725\n",
      "epoch: 100 loss:0.202877 auc:0.9733\n",
      "epoch: 120 loss:0.197225 auc:0.9733\n",
      "epoch: 140 loss:0.193935 auc:0.9733\n",
      "epoch: 160 loss:0.192300 auc:0.9738\n",
      "epoch: 180 loss:0.191910 auc:0.9738\n",
      "epoch: 200 loss:0.190186 auc:0.9738\n",
      "epoch: 220 loss:0.189002 auc:0.9729\n"
     ]
    },
    {
     "name": "stderr",
     "output_type": "stream",
     "text": [
      " 13%|█▎        | 117/916 [24:46<2:25:59, 10.96s/it]"
     ]
    },
    {
     "name": "stdout",
     "output_type": "stream",
     "text": [
      "epoch: 240 loss:0.187892 auc:0.9721\n",
      "Fit finished.\n",
      "epoch:   0 loss:0.894810 auc:0.2248\n",
      "epoch:  20 loss:0.262983 auc:0.9431\n",
      "epoch:  40 loss:0.221003 auc:0.9405\n",
      "epoch:  60 loss:0.211261 auc:0.9402\n",
      "epoch:  80 loss:0.206401 auc:0.9385\n",
      "epoch: 100 loss:0.200820 auc:0.9395\n",
      "epoch: 120 loss:0.195438 auc:0.9385\n",
      "epoch: 140 loss:0.193034 auc:0.9375\n",
      "epoch: 160 loss:0.191690 auc:0.9408\n",
      "epoch: 180 loss:0.191112 auc:0.9431\n",
      "epoch: 200 loss:0.189421 auc:0.9488\n",
      "epoch: 220 loss:0.187798 auc:0.9524\n",
      "epoch: 240 loss:0.186400 auc:0.9514\n",
      "epoch: 260 loss:0.185863 auc:0.9517\n",
      "epoch: 280 loss:0.184335 auc:0.9560\n",
      "epoch: 300 loss:0.184435 auc:0.9534\n",
      "epoch: 320 loss:0.180563 auc:0.9544\n",
      "epoch: 340 loss:0.177098 auc:0.9570\n"
     ]
    },
    {
     "name": "stderr",
     "output_type": "stream",
     "text": [
      " 13%|█▎        | 118/916 [25:04<2:52:45, 12.99s/it]"
     ]
    },
    {
     "name": "stdout",
     "output_type": "stream",
     "text": [
      "epoch: 360 loss:0.199278 auc:0.9355\n",
      "Fit finished.\n",
      "epoch:   0 loss:0.872820 auc:0.1408\n",
      "epoch:  20 loss:0.293787 auc:0.9512\n",
      "epoch:  40 loss:0.227134 auc:0.9535\n",
      "epoch:  60 loss:0.212160 auc:0.9492\n",
      "epoch:  80 loss:0.205739 auc:0.9480\n",
      "epoch: 100 loss:0.199190 auc:0.9477\n",
      "epoch: 120 loss:0.194545 auc:0.9483\n",
      "epoch: 140 loss:0.192463 auc:0.9480\n",
      "epoch: 160 loss:0.191773 auc:0.9483\n"
     ]
    },
    {
     "name": "stderr",
     "output_type": "stream",
     "text": [
      " 13%|█▎        | 119/916 [25:13<2:37:06, 11.83s/it]"
     ]
    },
    {
     "name": "stdout",
     "output_type": "stream",
     "text": [
      "epoch: 180 loss:0.189947 auc:0.9489\n",
      "Fit finished.\n",
      "epoch:   0 loss:0.565884 auc:0.7044\n",
      "epoch:  20 loss:0.300250 auc:0.9815\n",
      "epoch:  40 loss:0.224453 auc:0.9834\n",
      "epoch:  60 loss:0.212073 auc:0.9850\n",
      "epoch:  80 loss:0.206298 auc:0.9841\n",
      "epoch: 100 loss:0.200206 auc:0.9844\n",
      "epoch: 120 loss:0.195005 auc:0.9841\n",
      "epoch: 140 loss:0.192989 auc:0.9850\n",
      "epoch: 160 loss:0.191665 auc:0.9844\n",
      "epoch: 180 loss:0.190560 auc:0.9844\n",
      "epoch: 200 loss:0.189907 auc:0.9847\n"
     ]
    },
    {
     "name": "stderr",
     "output_type": "stream",
     "text": [
      " 13%|█▎        | 120/916 [25:24<2:35:08, 11.69s/it]"
     ]
    },
    {
     "name": "stdout",
     "output_type": "stream",
     "text": [
      "epoch: 220 loss:0.188416 auc:0.9834\n",
      "Fit finished.\n",
      "epoch:   0 loss:0.672046 auc:0.3515\n",
      "epoch:  20 loss:0.315439 auc:0.9478\n",
      "epoch:  40 loss:0.233517 auc:0.9660\n",
      "epoch:  60 loss:0.214601 auc:0.9705\n",
      "epoch:  80 loss:0.207277 auc:0.9683\n",
      "epoch: 100 loss:0.201416 auc:0.9705\n",
      "epoch: 120 loss:0.196059 auc:0.9705\n",
      "epoch: 140 loss:0.193660 auc:0.9705\n",
      "epoch: 160 loss:0.192304 auc:0.9705\n",
      "epoch: 180 loss:0.191832 auc:0.9705\n",
      "epoch: 200 loss:0.190424 auc:0.9705\n"
     ]
    },
    {
     "name": "stderr",
     "output_type": "stream",
     "text": [
      " 13%|█▎        | 121/916 [25:35<2:31:54, 11.46s/it]"
     ]
    },
    {
     "name": "stdout",
     "output_type": "stream",
     "text": [
      "epoch: 220 loss:0.190281 auc:0.9683\n",
      "Fit finished.\n",
      "epoch:   0 loss:0.606342 auc:0.1680\n",
      "epoch:  20 loss:0.286653 auc:0.9632\n",
      "epoch:  40 loss:0.224818 auc:0.9648\n",
      "epoch:  60 loss:0.213116 auc:0.9712\n",
      "epoch:  80 loss:0.207459 auc:0.9712\n",
      "epoch: 100 loss:0.201724 auc:0.9712\n",
      "epoch: 120 loss:0.195836 auc:0.9712\n",
      "epoch: 140 loss:0.193355 auc:0.9712\n",
      "epoch: 160 loss:0.191935 auc:0.9712\n",
      "epoch: 180 loss:0.190759 auc:0.9712\n",
      "epoch: 200 loss:0.191256 auc:0.9712\n"
     ]
    },
    {
     "name": "stderr",
     "output_type": "stream",
     "text": [
      " 13%|█▎        | 122/916 [25:46<2:30:35, 11.38s/it]"
     ]
    },
    {
     "name": "stdout",
     "output_type": "stream",
     "text": [
      "epoch: 220 loss:0.188750 auc:0.9680\n",
      "Fit finished.\n",
      "epoch:   0 loss:0.620805 auc:0.3119\n",
      "epoch:  20 loss:0.286431 auc:0.9641\n",
      "epoch:  40 loss:0.224781 auc:0.9679\n",
      "epoch:  60 loss:0.212827 auc:0.9698\n",
      "epoch:  80 loss:0.207809 auc:0.9698\n",
      "epoch: 100 loss:0.203147 auc:0.9698\n",
      "epoch: 120 loss:0.197698 auc:0.9698\n",
      "epoch: 140 loss:0.194217 auc:0.9698\n",
      "epoch: 160 loss:0.192537 auc:0.9698\n",
      "epoch: 180 loss:0.191227 auc:0.9679\n"
     ]
    },
    {
     "name": "stderr",
     "output_type": "stream",
     "text": [
      " 13%|█▎        | 123/916 [25:56<2:22:20, 10.77s/it]"
     ]
    },
    {
     "name": "stdout",
     "output_type": "stream",
     "text": [
      "epoch: 200 loss:0.191287 auc:0.9660\n",
      "Fit finished.\n",
      "epoch:   0 loss:1.126899 auc:0.2024\n",
      "epoch:  20 loss:0.305957 auc:0.9339\n",
      "epoch:  40 loss:0.229956 auc:0.9306\n",
      "epoch:  60 loss:0.214007 auc:0.9306\n",
      "epoch:  80 loss:0.207523 auc:0.9314\n",
      "epoch: 100 loss:0.202703 auc:0.9322\n",
      "epoch: 120 loss:0.197617 auc:0.9331\n",
      "epoch: 140 loss:0.194273 auc:0.9339\n",
      "epoch: 160 loss:0.192679 auc:0.9331\n",
      "epoch: 180 loss:0.192160 auc:0.9339\n",
      "epoch: 200 loss:0.191184 auc:0.9322\n"
     ]
    },
    {
     "name": "stderr",
     "output_type": "stream",
     "text": [
      " 14%|█▎        | 125/916 [26:06<1:48:22,  8.22s/it]"
     ]
    },
    {
     "name": "stdout",
     "output_type": "stream",
     "text": [
      "epoch: 220 loss:0.189907 auc:0.9298\n",
      "Fit finished.\n",
      "epoch:   0 loss:0.586966 auc:0.5396\n",
      "epoch:  20 loss:0.278824 auc:0.9613\n",
      "epoch:  40 loss:0.220994 auc:0.9661\n",
      "epoch:  60 loss:0.210430 auc:0.9613\n",
      "epoch:  80 loss:0.204719 auc:0.9601\n",
      "epoch: 100 loss:0.198797 auc:0.9613\n",
      "epoch: 120 loss:0.194717 auc:0.9601\n",
      "epoch: 140 loss:0.192754 auc:0.9590\n",
      "epoch: 160 loss:0.191633 auc:0.9590\n"
     ]
    },
    {
     "name": "stderr",
     "output_type": "stream",
     "text": [
      " 14%|█▍        | 126/916 [26:15<1:50:10,  8.37s/it]"
     ]
    },
    {
     "name": "stdout",
     "output_type": "stream",
     "text": [
      "epoch: 180 loss:0.190570 auc:0.9601\n",
      "Fit finished.\n",
      "epoch:   0 loss:0.734781 auc:0.5536\n",
      "epoch:  20 loss:0.326574 auc:0.8793\n",
      "epoch:  40 loss:0.242540 auc:0.9147\n",
      "epoch:  60 loss:0.216254 auc:0.9240\n",
      "epoch:  80 loss:0.207260 auc:0.9188\n",
      "epoch: 100 loss:0.201748 auc:0.9157\n",
      "epoch: 120 loss:0.196731 auc:0.9136\n",
      "epoch: 140 loss:0.194231 auc:0.9147\n",
      "epoch: 160 loss:0.192962 auc:0.9147\n",
      "epoch: 180 loss:0.191973 auc:0.9147\n",
      "epoch: 200 loss:0.191070 auc:0.9147\n"
     ]
    },
    {
     "name": "stderr",
     "output_type": "stream",
     "text": [
      " 14%|█▍        | 127/916 [26:25<1:55:18,  8.77s/it]"
     ]
    },
    {
     "name": "stdout",
     "output_type": "stream",
     "text": [
      "epoch: 220 loss:0.190165 auc:0.9157\n",
      "Fit finished.\n",
      "epoch:   0 loss:0.686211 auc:0.2051\n",
      "epoch:  20 loss:0.254128 auc:0.9563\n",
      "epoch:  40 loss:0.218831 auc:0.9518\n",
      "epoch:  60 loss:0.210281 auc:0.9501\n",
      "epoch:  80 loss:0.204802 auc:0.9510\n",
      "epoch: 100 loss:0.197982 auc:0.9521\n",
      "epoch: 120 loss:0.194000 auc:0.9518\n",
      "epoch: 140 loss:0.191893 auc:0.9510\n",
      "epoch: 160 loss:0.190808 auc:0.9554\n",
      "epoch: 180 loss:0.189157 auc:0.9622\n",
      "epoch: 200 loss:0.189734 auc:0.9712\n",
      "epoch: 220 loss:0.184932 auc:0.9795\n",
      "epoch: 240 loss:0.184264 auc:0.9810\n",
      "epoch: 260 loss:0.180727 auc:0.9828\n",
      "epoch: 280 loss:0.179823 auc:0.9816\n",
      "epoch: 300 loss:0.188910 auc:0.9744\n",
      "epoch: 320 loss:0.176358 auc:0.9786\n",
      "epoch: 340 loss:0.182844 auc:0.9634\n",
      "epoch: 360 loss:0.175553 auc:0.9744\n",
      "epoch: 380 loss:0.169341 auc:0.9822\n",
      "epoch: 400 loss:0.166535 auc:0.9810\n"
     ]
    },
    {
     "name": "stderr",
     "output_type": "stream",
     "text": [
      " 14%|█▍        | 128/916 [26:44<2:34:15, 11.75s/it]"
     ]
    },
    {
     "name": "stdout",
     "output_type": "stream",
     "text": [
      "epoch: 420 loss:0.163542 auc:0.9786\n",
      "Fit finished.\n",
      "epoch:   0 loss:1.108768 auc:0.2872\n",
      "epoch:  20 loss:0.321790 auc:0.9320\n",
      "epoch:  40 loss:0.247354 auc:0.9352\n",
      "epoch:  60 loss:0.219930 auc:0.9372\n",
      "epoch:  80 loss:0.209401 auc:0.9400\n",
      "epoch: 100 loss:0.203002 auc:0.9380\n",
      "epoch: 120 loss:0.197790 auc:0.9388\n",
      "epoch: 140 loss:0.194888 auc:0.9388\n",
      "epoch: 160 loss:0.193311 auc:0.9380\n",
      "epoch: 180 loss:0.192271 auc:0.9384\n",
      "epoch: 200 loss:0.192269 auc:0.9388\n",
      "epoch: 220 loss:0.191178 auc:0.9384\n"
     ]
    },
    {
     "name": "stderr",
     "output_type": "stream",
     "text": [
      " 14%|█▍        | 129/916 [26:54<2:25:07, 11.06s/it]"
     ]
    },
    {
     "name": "stdout",
     "output_type": "stream",
     "text": [
      "epoch: 240 loss:0.190441 auc:0.9388\n",
      "Fit finished.\n",
      "epoch:   0 loss:0.555939 auc:0.4805\n",
      "epoch:  20 loss:0.255747 auc:0.9741\n",
      "epoch:  40 loss:0.218593 auc:0.9834\n",
      "epoch:  60 loss:0.208843 auc:0.9840\n",
      "epoch:  80 loss:0.201770 auc:0.9852\n",
      "epoch: 100 loss:0.195091 auc:0.9855\n",
      "epoch: 120 loss:0.193877 auc:0.9846\n",
      "epoch: 140 loss:0.191290 auc:0.9840\n",
      "epoch: 160 loss:0.189841 auc:0.9825\n",
      "epoch: 180 loss:0.189997 auc:0.9806\n"
     ]
    },
    {
     "name": "stderr",
     "output_type": "stream",
     "text": [
      " 14%|█▍        | 130/916 [27:03<2:18:40, 10.59s/it]"
     ]
    },
    {
     "name": "stdout",
     "output_type": "stream",
     "text": [
      "epoch: 200 loss:0.187885 auc:0.9769\n",
      "Fit finished.\n",
      "epoch:   0 loss:1.437683 auc:0.7577\n",
      "epoch:  20 loss:0.321238 auc:0.9275\n",
      "epoch:  40 loss:0.243227 auc:0.9344\n",
      "epoch:  60 loss:0.219413 auc:0.9390\n",
      "epoch:  80 loss:0.211364 auc:0.9390\n",
      "epoch: 100 loss:0.206194 auc:0.9414\n",
      "epoch: 120 loss:0.200814 auc:0.9390\n",
      "epoch: 140 loss:0.195857 auc:0.9414\n",
      "epoch: 160 loss:0.193534 auc:0.9421\n",
      "epoch: 180 loss:0.192251 auc:0.9429\n",
      "epoch: 200 loss:0.191470 auc:0.9437\n",
      "epoch: 220 loss:0.190660 auc:0.9421\n",
      "epoch: 240 loss:0.190297 auc:0.9390\n"
     ]
    },
    {
     "name": "stderr",
     "output_type": "stream",
     "text": [
      " 14%|█▍        | 131/916 [27:17<2:29:50, 11.45s/it]"
     ]
    },
    {
     "name": "stdout",
     "output_type": "stream",
     "text": [
      "epoch: 260 loss:0.189418 auc:0.9390\n",
      "Fit finished.\n",
      "epoch:   0 loss:0.742065 auc:0.5281\n",
      "epoch:  20 loss:0.319201 auc:0.9704\n",
      "epoch:  40 loss:0.233821 auc:0.9734\n",
      "epoch:  60 loss:0.216105 auc:0.9737\n",
      "epoch:  80 loss:0.208169 auc:0.9737\n",
      "epoch: 100 loss:0.202323 auc:0.9737\n",
      "epoch: 120 loss:0.196490 auc:0.9737\n",
      "epoch: 140 loss:0.193691 auc:0.9741\n",
      "epoch: 160 loss:0.192269 auc:0.9737\n",
      "epoch: 180 loss:0.191270 auc:0.9745\n",
      "epoch: 200 loss:0.191975 auc:0.9737\n",
      "epoch: 220 loss:0.190251 auc:0.9741\n",
      "epoch: 240 loss:0.189508 auc:0.9741\n",
      "epoch: 260 loss:0.188674 auc:0.9749\n",
      "epoch: 280 loss:0.189035 auc:0.9737\n"
     ]
    },
    {
     "name": "stderr",
     "output_type": "stream",
     "text": [
      " 14%|█▍        | 132/916 [27:31<2:39:07, 12.18s/it]"
     ]
    },
    {
     "name": "stdout",
     "output_type": "stream",
     "text": [
      "epoch: 300 loss:0.187339 auc:0.9737\n",
      "Fit finished.\n",
      "epoch:   0 loss:0.630165 auc:0.2665\n",
      "epoch:  20 loss:0.263172 auc:0.9410\n",
      "epoch:  40 loss:0.219455 auc:0.9424\n",
      "epoch:  60 loss:0.207682 auc:0.9444\n",
      "epoch:  80 loss:0.200299 auc:0.9445\n",
      "epoch: 100 loss:0.194987 auc:0.9444\n",
      "epoch: 120 loss:0.192717 auc:0.9433\n",
      "epoch: 140 loss:0.191200 auc:0.9394\n",
      "epoch: 160 loss:0.190711 auc:0.9388\n"
     ]
    },
    {
     "name": "stderr",
     "output_type": "stream",
     "text": [
      " 15%|█▍        | 133/916 [27:39<2:23:22, 10.99s/it]"
     ]
    },
    {
     "name": "stdout",
     "output_type": "stream",
     "text": [
      "epoch: 180 loss:0.188613 auc:0.9346\n",
      "Fit finished.\n",
      "epoch:   0 loss:1.055931 auc:0.7651\n",
      "epoch:  20 loss:0.325085 auc:0.9152\n",
      "epoch:  40 loss:0.250357 auc:0.9164\n",
      "epoch:  60 loss:0.219054 auc:0.9198\n",
      "epoch:  80 loss:0.207542 auc:0.9219\n",
      "epoch: 100 loss:0.200114 auc:0.9201\n",
      "epoch: 120 loss:0.195259 auc:0.9216\n",
      "epoch: 140 loss:0.193241 auc:0.9217\n",
      "epoch: 160 loss:0.191977 auc:0.9221\n",
      "epoch: 180 loss:0.191157 auc:0.9220\n",
      "epoch: 200 loss:0.190478 auc:0.9213\n",
      "epoch: 220 loss:0.189664 auc:0.9205\n"
     ]
    },
    {
     "name": "stderr",
     "output_type": "stream",
     "text": [
      " 15%|█▍        | 134/916 [27:49<2:20:35, 10.79s/it]"
     ]
    },
    {
     "name": "stdout",
     "output_type": "stream",
     "text": [
      "epoch: 240 loss:0.188982 auc:0.9203\n",
      "Fit finished.\n",
      "epoch:   0 loss:1.000247 auc:0.8241\n",
      "epoch:  20 loss:0.311097 auc:0.9136\n",
      "epoch:  40 loss:0.246768 auc:0.9043\n",
      "epoch:  60 loss:0.221518 auc:0.9167\n",
      "epoch:  80 loss:0.211526 auc:0.9259\n",
      "epoch: 100 loss:0.205657 auc:0.9414\n",
      "epoch: 120 loss:0.199963 auc:0.9414\n",
      "epoch: 140 loss:0.195602 auc:0.9414\n",
      "epoch: 160 loss:0.193633 auc:0.9444\n",
      "epoch: 180 loss:0.192476 auc:0.9475\n",
      "epoch: 200 loss:0.191582 auc:0.9475\n",
      "epoch: 220 loss:0.190780 auc:0.9506\n",
      "epoch: 240 loss:0.190782 auc:0.9506\n",
      "epoch: 260 loss:0.189751 auc:0.9475\n",
      "epoch: 280 loss:0.189012 auc:0.9475\n",
      "epoch: 300 loss:0.189559 auc:0.9506\n",
      "epoch: 320 loss:0.187356 auc:0.9475\n",
      "epoch: 340 loss:0.191074 auc:0.9475\n",
      "epoch: 360 loss:0.185670 auc:0.9475\n"
     ]
    },
    {
     "name": "stderr",
     "output_type": "stream",
     "text": [
      " 15%|█▍        | 135/916 [28:05<2:40:16, 12.31s/it]"
     ]
    },
    {
     "name": "stdout",
     "output_type": "stream",
     "text": [
      "epoch: 380 loss:0.183797 auc:0.9475\n",
      "Fit finished.\n",
      "epoch:   0 loss:0.542864 auc:0.5550\n",
      "epoch:  20 loss:0.246967 auc:0.9769\n",
      "epoch:  40 loss:0.213740 auc:0.9790\n",
      "epoch:  60 loss:0.204099 auc:0.9781\n",
      "epoch:  80 loss:0.196289 auc:0.9780\n",
      "epoch: 100 loss:0.193245 auc:0.9785\n",
      "epoch: 120 loss:0.193963 auc:0.9790\n",
      "epoch: 140 loss:0.190242 auc:0.9781\n",
      "epoch: 160 loss:0.188654 auc:0.9742\n"
     ]
    },
    {
     "name": "stderr",
     "output_type": "stream",
     "text": [
      " 15%|█▍        | 136/916 [28:13<2:24:01, 11.08s/it]"
     ]
    },
    {
     "name": "stdout",
     "output_type": "stream",
     "text": [
      "epoch: 180 loss:0.190061 auc:0.9760\n",
      "Fit finished.\n",
      "epoch:   0 loss:0.909709 auc:0.7177\n",
      "epoch:  20 loss:0.301188 auc:0.9772\n",
      "epoch:  40 loss:0.229567 auc:0.9783\n",
      "epoch:  60 loss:0.213812 auc:0.9778\n",
      "epoch:  80 loss:0.207417 auc:0.9776\n",
      "epoch: 100 loss:0.201743 auc:0.9783\n",
      "epoch: 120 loss:0.196395 auc:0.9781\n",
      "epoch: 140 loss:0.193827 auc:0.9781\n",
      "epoch: 160 loss:0.192355 auc:0.9783\n",
      "epoch: 180 loss:0.192989 auc:0.9788\n",
      "epoch: 200 loss:0.190580 auc:0.9794\n",
      "epoch: 220 loss:0.189522 auc:0.9783\n"
     ]
    },
    {
     "name": "stderr",
     "output_type": "stream",
     "text": [
      " 15%|█▍        | 137/916 [28:25<2:26:19, 11.27s/it]"
     ]
    },
    {
     "name": "stdout",
     "output_type": "stream",
     "text": [
      "epoch: 240 loss:0.189051 auc:0.9774\n",
      "Fit finished.\n",
      "epoch:   0 loss:0.771237 auc:0.4497\n",
      "epoch:  20 loss:0.320735 auc:0.9595\n",
      "epoch:  40 loss:0.230680 auc:0.9584\n",
      "epoch:  60 loss:0.213865 auc:0.9649\n",
      "epoch:  80 loss:0.205243 auc:0.9655\n",
      "epoch: 100 loss:0.198131 auc:0.9667\n",
      "epoch: 120 loss:0.194522 auc:0.9667\n",
      "epoch: 140 loss:0.192932 auc:0.9673\n",
      "epoch: 160 loss:0.192306 auc:0.9673\n",
      "epoch: 180 loss:0.191077 auc:0.9673\n",
      "epoch: 200 loss:0.190723 auc:0.9673\n",
      "epoch: 220 loss:0.189312 auc:0.9673\n",
      "epoch: 240 loss:0.188469 auc:0.9691\n",
      "epoch: 260 loss:0.191855 auc:0.9703\n",
      "epoch: 280 loss:0.186849 auc:0.9720\n",
      "epoch: 300 loss:0.185152 auc:0.9738\n",
      "epoch: 320 loss:0.188028 auc:0.9750\n",
      "epoch: 340 loss:0.182770 auc:0.9762\n",
      "epoch: 360 loss:0.180255 auc:0.9780\n",
      "epoch: 380 loss:0.191828 auc:0.9798\n",
      "epoch: 400 loss:0.181000 auc:0.9709\n",
      "epoch: 420 loss:0.178848 auc:0.9744\n",
      "epoch: 440 loss:0.174332 auc:0.9738\n"
     ]
    },
    {
     "name": "stderr",
     "output_type": "stream",
     "text": [
      " 15%|█▌        | 138/916 [28:46<3:05:38, 14.32s/it]"
     ]
    },
    {
     "name": "stdout",
     "output_type": "stream",
     "text": [
      "epoch: 460 loss:0.172646 auc:0.9732\n",
      "Fit finished.\n",
      "epoch:   0 loss:0.956496 auc:0.5742\n",
      "epoch:  20 loss:0.316410 auc:0.9240\n",
      "epoch:  40 loss:0.238548 auc:0.9375\n",
      "epoch:  60 loss:0.218521 auc:0.9392\n",
      "epoch:  80 loss:0.210555 auc:0.9397\n",
      "epoch: 100 loss:0.205512 auc:0.9401\n",
      "epoch: 120 loss:0.199599 auc:0.9384\n",
      "epoch: 140 loss:0.194878 auc:0.9388\n",
      "epoch: 160 loss:0.192966 auc:0.9375\n",
      "epoch: 180 loss:0.191972 auc:0.9379\n",
      "epoch: 200 loss:0.191049 auc:0.9388\n",
      "epoch: 220 loss:0.190260 auc:0.9397\n",
      "epoch: 240 loss:0.189503 auc:0.9423\n",
      "epoch: 260 loss:0.189682 auc:0.9436\n",
      "epoch: 280 loss:0.188088 auc:0.9449\n",
      "epoch: 300 loss:0.190260 auc:0.9449\n",
      "epoch: 320 loss:0.187479 auc:0.9479\n",
      "epoch: 340 loss:0.185694 auc:0.9470\n",
      "epoch: 360 loss:0.185135 auc:0.9453\n",
      "epoch: 380 loss:0.184059 auc:0.9444\n",
      "epoch: 400 loss:0.183446 auc:0.9427\n"
     ]
    },
    {
     "name": "stderr",
     "output_type": "stream",
     "text": [
      " 15%|█▌        | 139/916 [29:05<3:21:52, 15.59s/it]"
     ]
    },
    {
     "name": "stdout",
     "output_type": "stream",
     "text": [
      "epoch: 420 loss:0.194107 auc:0.9293\n",
      "Fit finished.\n",
      "epoch:   0 loss:0.648855 auc:0.6621\n",
      "epoch:  20 loss:0.277885 auc:0.9666\n",
      "epoch:  40 loss:0.222010 auc:0.9696\n",
      "epoch:  60 loss:0.210769 auc:0.9735\n",
      "epoch:  80 loss:0.204777 auc:0.9708\n",
      "epoch: 100 loss:0.198584 auc:0.9719\n",
      "epoch: 120 loss:0.194444 auc:0.9712\n",
      "epoch: 140 loss:0.192575 auc:0.9719\n",
      "epoch: 160 loss:0.191330 auc:0.9715\n",
      "epoch: 180 loss:0.190426 auc:0.9723\n",
      "epoch: 200 loss:0.189094 auc:0.9731\n",
      "epoch: 220 loss:0.188710 auc:0.9758\n",
      "epoch: 240 loss:0.186609 auc:0.9762\n",
      "epoch: 260 loss:0.185550 auc:0.9769\n",
      "epoch: 280 loss:0.183166 auc:0.9777\n",
      "epoch: 300 loss:0.180763 auc:0.9773\n",
      "epoch: 320 loss:0.187258 auc:0.9739\n",
      "epoch: 340 loss:0.178574 auc:0.9785\n",
      "epoch: 360 loss:0.173779 auc:0.9804\n",
      "epoch: 380 loss:0.171865 auc:0.9773\n",
      "epoch: 400 loss:0.171103 auc:0.9789\n",
      "epoch: 420 loss:0.167211 auc:0.9800\n",
      "epoch: 440 loss:0.165268 auc:0.9800\n",
      "epoch: 460 loss:0.164698 auc:0.9789\n",
      "epoch: 480 loss:0.161992 auc:0.9808\n"
     ]
    },
    {
     "name": "stderr",
     "output_type": "stream",
     "text": [
      " 15%|█▌        | 140/916 [29:27<3:45:54, 17.47s/it]"
     ]
    },
    {
     "name": "stdout",
     "output_type": "stream",
     "text": [
      "epoch: 500 loss:0.165211 auc:0.9769\n",
      "Fit finished.\n",
      "epoch:   0 loss:0.829750 auc:0.1308\n",
      "epoch:  20 loss:0.288276 auc:0.9620\n",
      "epoch:  40 loss:0.223468 auc:0.9560\n",
      "epoch:  60 loss:0.211422 auc:0.9584\n",
      "epoch:  80 loss:0.205256 auc:0.9596\n",
      "epoch: 100 loss:0.197811 auc:0.9584\n",
      "epoch: 120 loss:0.194045 auc:0.9608\n",
      "epoch: 140 loss:0.194569 auc:0.9596\n",
      "epoch: 160 loss:0.191394 auc:0.9572\n"
     ]
    },
    {
     "name": "stderr",
     "output_type": "stream",
     "text": [
      " 15%|█▌        | 141/916 [29:36<3:13:23, 14.97s/it]"
     ]
    },
    {
     "name": "stdout",
     "output_type": "stream",
     "text": [
      "epoch: 180 loss:0.190961 auc:0.9441\n",
      "Fit finished.\n",
      "epoch:   0 loss:0.648336 auc:0.2153\n",
      "epoch:  20 loss:0.264064 auc:0.9823\n",
      "epoch:  40 loss:0.220481 auc:0.9861\n",
      "epoch:  60 loss:0.210324 auc:0.9838\n",
      "epoch:  80 loss:0.205053 auc:0.9846\n",
      "epoch: 100 loss:0.198899 auc:0.9853\n",
      "epoch: 120 loss:0.194558 auc:0.9846\n",
      "epoch: 140 loss:0.193619 auc:0.9846\n",
      "epoch: 160 loss:0.191190 auc:0.9853\n",
      "epoch: 180 loss:0.189742 auc:0.9853\n",
      "epoch: 200 loss:0.188784 auc:0.9861\n",
      "epoch: 220 loss:0.186887 auc:0.9853\n",
      "epoch: 240 loss:0.193139 auc:0.9846\n"
     ]
    },
    {
     "name": "stderr",
     "output_type": "stream",
     "text": [
      " 16%|█▌        | 142/916 [29:48<3:01:09, 14.04s/it]"
     ]
    },
    {
     "name": "stdout",
     "output_type": "stream",
     "text": [
      "epoch: 260 loss:0.185439 auc:0.9830\n",
      "Fit finished.\n",
      "epoch:   0 loss:0.653710 auc:0.8089\n",
      "epoch:  20 loss:0.311194 auc:0.9293\n",
      "epoch:  40 loss:0.230844 auc:0.9381\n",
      "epoch:  60 loss:0.215110 auc:0.9400\n",
      "epoch:  80 loss:0.208683 auc:0.9454\n",
      "epoch: 100 loss:0.203883 auc:0.9466\n",
      "epoch: 120 loss:0.198701 auc:0.9454\n",
      "epoch: 140 loss:0.194892 auc:0.9454\n",
      "epoch: 160 loss:0.193130 auc:0.9435\n",
      "epoch: 180 loss:0.191862 auc:0.9435\n",
      "epoch: 200 loss:0.191062 auc:0.9427\n",
      "epoch: 220 loss:0.190666 auc:0.9427\n"
     ]
    },
    {
     "name": "stderr",
     "output_type": "stream",
     "text": [
      " 16%|█▌        | 143/916 [29:59<2:49:03, 13.12s/it]"
     ]
    },
    {
     "name": "stdout",
     "output_type": "stream",
     "text": [
      "epoch: 240 loss:0.190111 auc:0.9431\n",
      "Fit finished.\n",
      "epoch:   0 loss:0.649656 auc:0.5213\n",
      "epoch:  20 loss:0.288171 auc:0.9472\n",
      "epoch:  40 loss:0.226156 auc:0.9493\n",
      "epoch:  60 loss:0.213097 auc:0.9498\n",
      "epoch:  80 loss:0.207639 auc:0.9495\n",
      "epoch: 100 loss:0.202792 auc:0.9511\n",
      "epoch: 120 loss:0.197481 auc:0.9508\n",
      "epoch: 140 loss:0.194312 auc:0.9501\n",
      "epoch: 160 loss:0.192757 auc:0.9501\n",
      "epoch: 180 loss:0.191599 auc:0.9508\n",
      "epoch: 200 loss:0.195353 auc:0.9524\n",
      "epoch: 220 loss:0.189978 auc:0.9532\n",
      "epoch: 240 loss:0.188866 auc:0.9571\n",
      "epoch: 260 loss:0.198472 auc:0.9612\n",
      "epoch: 280 loss:0.187644 auc:0.9615\n",
      "epoch: 300 loss:0.186161 auc:0.9667\n",
      "epoch: 320 loss:0.185198 auc:0.9649\n",
      "epoch: 340 loss:0.184421 auc:0.9667\n",
      "epoch: 360 loss:0.184780 auc:0.9651\n",
      "epoch: 380 loss:0.181120 auc:0.9628\n",
      "epoch: 400 loss:0.178710 auc:0.9599\n"
     ]
    },
    {
     "name": "stderr",
     "output_type": "stream",
     "text": [
      " 16%|█▌        | 144/916 [30:19<3:14:51, 15.14s/it]"
     ]
    },
    {
     "name": "stdout",
     "output_type": "stream",
     "text": [
      "epoch: 420 loss:0.178642 auc:0.9498\n",
      "Fit finished.\n",
      "epoch:   0 loss:1.119642 auc:0.5679\n",
      "epoch:  20 loss:0.303775 auc:0.9633\n",
      "epoch:  40 loss:0.233090 auc:0.9619\n",
      "epoch:  60 loss:0.216984 auc:0.9612\n",
      "epoch:  80 loss:0.209771 auc:0.9609\n",
      "epoch: 100 loss:0.204847 auc:0.9619\n",
      "epoch: 120 loss:0.199346 auc:0.9616\n",
      "epoch: 140 loss:0.194890 auc:0.9619\n",
      "epoch: 160 loss:0.192881 auc:0.9616\n"
     ]
    },
    {
     "name": "stderr",
     "output_type": "stream",
     "text": [
      " 16%|█▌        | 145/916 [30:27<2:49:35, 13.20s/it]"
     ]
    },
    {
     "name": "stdout",
     "output_type": "stream",
     "text": [
      "epoch: 180 loss:0.191633 auc:0.9616\n",
      "Fit finished.\n",
      "epoch:   0 loss:1.256050 auc:0.8393\n",
      "epoch:  20 loss:0.312979 auc:0.9511\n",
      "epoch:  40 loss:0.238173 auc:0.9549\n",
      "epoch:  60 loss:0.215146 auc:0.9597\n",
      "epoch:  80 loss:0.206770 auc:0.9651\n",
      "epoch: 100 loss:0.199912 auc:0.9626\n",
      "epoch: 120 loss:0.194896 auc:0.9618\n",
      "epoch: 140 loss:0.193009 auc:0.9656\n",
      "epoch: 160 loss:0.191902 auc:0.9667\n",
      "epoch: 180 loss:0.191575 auc:0.9664\n",
      "epoch: 200 loss:0.190424 auc:0.9672\n",
      "epoch: 220 loss:0.191699 auc:0.9678\n",
      "epoch: 240 loss:0.189267 auc:0.9656\n",
      "epoch: 260 loss:0.188413 auc:0.9669\n",
      "epoch: 280 loss:0.188864 auc:0.9672\n",
      "epoch: 300 loss:0.187095 auc:0.9675\n",
      "epoch: 320 loss:0.186047 auc:0.9680\n",
      "epoch: 340 loss:0.186302 auc:0.9683\n",
      "epoch: 360 loss:0.184340 auc:0.9686\n",
      "epoch: 380 loss:0.183330 auc:0.9683\n",
      "epoch: 400 loss:0.182013 auc:0.9683\n",
      "epoch: 420 loss:0.183220 auc:0.9686\n",
      "epoch: 440 loss:0.178085 auc:0.9734\n"
     ]
    },
    {
     "name": "stderr",
     "output_type": "stream",
     "text": [
      " 16%|█▌        | 146/916 [30:48<3:19:23, 15.54s/it]"
     ]
    },
    {
     "name": "stdout",
     "output_type": "stream",
     "text": [
      "epoch: 460 loss:0.183440 auc:0.9664\n",
      "Fit finished.\n",
      "epoch:   0 loss:0.750712 auc:0.3629\n",
      "epoch:  20 loss:0.289468 auc:0.9394\n",
      "epoch:  40 loss:0.224326 auc:0.9400\n",
      "epoch:  60 loss:0.211178 auc:0.9438\n",
      "epoch:  80 loss:0.204478 auc:0.9454\n",
      "epoch: 100 loss:0.197845 auc:0.9486\n",
      "epoch: 120 loss:0.194185 auc:0.9513\n",
      "epoch: 140 loss:0.192416 auc:0.9502\n",
      "epoch: 160 loss:0.191768 auc:0.9502\n",
      "epoch: 180 loss:0.191067 auc:0.9508\n",
      "epoch: 200 loss:0.189447 auc:0.9508\n",
      "epoch: 220 loss:0.188632 auc:0.9513\n",
      "epoch: 240 loss:0.187825 auc:0.9540\n",
      "epoch: 260 loss:0.185590 auc:0.9529\n",
      "epoch: 280 loss:0.183116 auc:0.9519\n",
      "epoch: 300 loss:0.180439 auc:0.9546\n",
      "epoch: 320 loss:0.180774 auc:0.9529\n",
      "epoch: 340 loss:0.175140 auc:0.9584\n",
      "epoch: 360 loss:0.178024 auc:0.9616\n",
      "epoch: 380 loss:0.172260 auc:0.9551\n"
     ]
    },
    {
     "name": "stderr",
     "output_type": "stream",
     "text": [
      " 16%|█▌        | 147/916 [31:05<3:23:26, 15.87s/it]"
     ]
    },
    {
     "name": "stdout",
     "output_type": "stream",
     "text": [
      "epoch: 400 loss:0.171288 auc:0.9502\n",
      "Fit finished.\n",
      "epoch:   0 loss:0.657281 auc:0.7542\n",
      "epoch:  20 loss:0.321124 auc:0.9563\n",
      "epoch:  40 loss:0.235647 auc:0.9631\n",
      "epoch:  60 loss:0.215350 auc:0.9667\n",
      "epoch:  80 loss:0.206642 auc:0.9649\n",
      "epoch: 100 loss:0.200101 auc:0.9655\n",
      "epoch: 120 loss:0.195252 auc:0.9655\n",
      "epoch: 140 loss:0.193096 auc:0.9655\n",
      "epoch: 160 loss:0.192037 auc:0.9664\n",
      "epoch: 180 loss:0.190916 auc:0.9667\n",
      "epoch: 200 loss:0.190940 auc:0.9670\n"
     ]
    },
    {
     "name": "stderr",
     "output_type": "stream",
     "text": [
      " 16%|█▌        | 148/916 [31:15<2:59:29, 14.02s/it]"
     ]
    },
    {
     "name": "stdout",
     "output_type": "stream",
     "text": [
      "epoch: 220 loss:0.189483 auc:0.9658\n",
      "Fit finished.\n",
      "epoch:   0 loss:0.937140 auc:0.1992\n",
      "epoch:  20 loss:0.322419 auc:0.9727\n",
      "epoch:  40 loss:0.239515 auc:0.9766\n",
      "epoch:  60 loss:0.218585 auc:0.9727\n",
      "epoch:  80 loss:0.211164 auc:0.9727\n",
      "epoch: 100 loss:0.206620 auc:0.9717\n",
      "epoch: 120 loss:0.201416 auc:0.9717\n",
      "epoch: 140 loss:0.195754 auc:0.9717\n",
      "epoch: 160 loss:0.193272 auc:0.9727\n"
     ]
    },
    {
     "name": "stderr",
     "output_type": "stream",
     "text": [
      " 16%|█▋        | 149/916 [31:23<2:36:37, 12.25s/it]"
     ]
    },
    {
     "name": "stdout",
     "output_type": "stream",
     "text": [
      "epoch: 180 loss:0.191914 auc:0.9688\n",
      "Fit finished.\n",
      "epoch:   0 loss:0.827697 auc:0.3719\n",
      "epoch:  20 loss:0.314452 auc:0.9606\n",
      "epoch:  40 loss:0.230711 auc:0.9694\n",
      "epoch:  60 loss:0.215502 auc:0.9750\n",
      "epoch:  80 loss:0.209465 auc:0.9750\n",
      "epoch: 100 loss:0.205138 auc:0.9756\n",
      "epoch: 120 loss:0.199617 auc:0.9756\n",
      "epoch: 140 loss:0.194932 auc:0.9756\n",
      "epoch: 160 loss:0.192949 auc:0.9756\n",
      "epoch: 180 loss:0.192232 auc:0.9750\n",
      "epoch: 200 loss:0.190887 auc:0.9750\n",
      "epoch: 220 loss:0.190654 auc:0.9756\n",
      "epoch: 240 loss:0.189724 auc:0.9762\n",
      "epoch: 260 loss:0.188280 auc:0.9762\n",
      "epoch: 280 loss:0.187578 auc:0.9769\n",
      "epoch: 300 loss:0.186544 auc:0.9769\n",
      "epoch: 320 loss:0.184266 auc:0.9769\n",
      "epoch: 340 loss:0.184359 auc:0.9781\n",
      "epoch: 360 loss:0.180749 auc:0.9775\n",
      "epoch: 380 loss:0.180883 auc:0.9788\n",
      "epoch: 400 loss:0.176353 auc:0.9812\n"
     ]
    },
    {
     "name": "stderr",
     "output_type": "stream",
     "text": [
      " 16%|█▋        | 150/916 [31:42<3:02:09, 14.27s/it]"
     ]
    },
    {
     "name": "stdout",
     "output_type": "stream",
     "text": [
      "epoch: 420 loss:0.179666 auc:0.9750\n",
      "Fit finished.\n",
      "epoch:   0 loss:0.926719 auc:0.4059\n",
      "epoch:  20 loss:0.322949 auc:0.9741\n",
      "epoch:  40 loss:0.241641 auc:0.9704\n",
      "epoch:  60 loss:0.218727 auc:0.9707\n",
      "epoch:  80 loss:0.210254 auc:0.9698\n",
      "epoch: 100 loss:0.204818 auc:0.9707\n",
      "epoch: 120 loss:0.199299 auc:0.9704\n",
      "epoch: 140 loss:0.194985 auc:0.9704\n",
      "epoch: 160 loss:0.193062 auc:0.9695\n"
     ]
    },
    {
     "name": "stderr",
     "output_type": "stream",
     "text": [
      " 16%|█▋        | 151/916 [31:49<2:34:57, 12.15s/it]"
     ]
    },
    {
     "name": "stdout",
     "output_type": "stream",
     "text": [
      "epoch: 180 loss:0.191815 auc:0.9698\n",
      "Fit finished.\n",
      "epoch:   0 loss:0.995325 auc:0.8983\n",
      "epoch:  20 loss:0.327813 auc:0.9756\n",
      "epoch:  40 loss:0.243693 auc:0.9810\n",
      "epoch:  60 loss:0.216043 auc:0.9816\n",
      "epoch:  80 loss:0.206666 auc:0.9827\n",
      "epoch: 100 loss:0.199745 auc:0.9822\n",
      "epoch: 120 loss:0.195001 auc:0.9822\n",
      "epoch: 140 loss:0.193065 auc:0.9827\n",
      "epoch: 160 loss:0.192027 auc:0.9822\n",
      "epoch: 180 loss:0.190984 auc:0.9822\n",
      "epoch: 200 loss:0.190557 auc:0.9822\n",
      "epoch: 220 loss:0.189729 auc:0.9833\n",
      "epoch: 240 loss:0.188886 auc:0.9833\n",
      "epoch: 260 loss:0.188242 auc:0.9845\n",
      "epoch: 280 loss:0.188360 auc:0.9845\n",
      "epoch: 300 loss:0.187199 auc:0.9857\n",
      "epoch: 320 loss:0.185586 auc:0.9857\n",
      "epoch: 340 loss:0.186806 auc:0.9833\n",
      "epoch: 360 loss:0.183330 auc:0.9822\n"
     ]
    },
    {
     "name": "stderr",
     "output_type": "stream",
     "text": [
      " 17%|█▋        | 152/916 [32:06<2:53:12, 13.60s/it]"
     ]
    },
    {
     "name": "stdout",
     "output_type": "stream",
     "text": [
      "epoch: 380 loss:0.181021 auc:0.9798\n",
      "Fit finished.\n",
      "epoch:   0 loss:0.920897 auc:0.5718\n",
      "epoch:  20 loss:0.341367 auc:0.9677\n",
      "epoch:  40 loss:0.252917 auc:0.9708\n",
      "epoch:  60 loss:0.219313 auc:0.9715\n",
      "epoch:  80 loss:0.209489 auc:0.9717\n",
      "epoch: 100 loss:0.203934 auc:0.9726\n",
      "epoch: 120 loss:0.198196 auc:0.9726\n",
      "epoch: 140 loss:0.194385 auc:0.9726\n",
      "epoch: 160 loss:0.192736 auc:0.9726\n",
      "epoch: 180 loss:0.191698 auc:0.9724\n",
      "epoch: 200 loss:0.191221 auc:0.9724\n",
      "epoch: 220 loss:0.190482 auc:0.9726\n",
      "epoch: 240 loss:0.189973 auc:0.9722\n"
     ]
    },
    {
     "name": "stderr",
     "output_type": "stream",
     "text": [
      " 17%|█▋        | 153/916 [32:18<2:47:43, 13.19s/it]"
     ]
    },
    {
     "name": "stdout",
     "output_type": "stream",
     "text": [
      "epoch: 260 loss:0.189283 auc:0.9710\n",
      "Fit finished.\n",
      "epoch:   0 loss:0.835014 auc:0.5941\n",
      "epoch:  20 loss:0.330879 auc:0.9609\n",
      "epoch:  40 loss:0.245088 auc:0.9773\n",
      "epoch:  60 loss:0.217262 auc:0.9841\n",
      "epoch:  80 loss:0.208182 auc:0.9864\n",
      "epoch: 100 loss:0.202176 auc:0.9853\n",
      "epoch: 120 loss:0.196909 auc:0.9847\n",
      "epoch: 140 loss:0.193866 auc:0.9847\n",
      "epoch: 160 loss:0.192450 auc:0.9853\n",
      "epoch: 180 loss:0.191541 auc:0.9853\n",
      "epoch: 200 loss:0.191255 auc:0.9864\n",
      "epoch: 220 loss:0.190357 auc:0.9858\n",
      "epoch: 240 loss:0.189547 auc:0.9881\n",
      "epoch: 260 loss:0.189711 auc:0.9875\n",
      "epoch: 280 loss:0.187916 auc:0.9887\n",
      "epoch: 300 loss:0.187017 auc:0.9870\n",
      "epoch: 320 loss:0.193005 auc:0.9858\n",
      "epoch: 340 loss:0.185564 auc:0.9858\n",
      "epoch: 360 loss:0.184178 auc:0.9870\n",
      "epoch: 380 loss:0.182893 auc:0.9881\n",
      "epoch: 400 loss:0.182257 auc:0.9904\n",
      "epoch: 420 loss:0.179477 auc:0.9904\n"
     ]
    },
    {
     "name": "stderr",
     "output_type": "stream",
     "text": [
      " 17%|█▋        | 154/916 [32:37<3:07:07, 14.73s/it]"
     ]
    },
    {
     "name": "stdout",
     "output_type": "stream",
     "text": [
      "epoch: 440 loss:0.188142 auc:0.9853\n",
      "Fit finished.\n",
      "epoch:   0 loss:0.883404 auc:0.6089\n",
      "epoch:  20 loss:0.297749 auc:0.9585\n",
      "epoch:  40 loss:0.227813 auc:0.9601\n",
      "epoch:  60 loss:0.212941 auc:0.9611\n",
      "epoch:  80 loss:0.206140 auc:0.9602\n",
      "epoch: 100 loss:0.199988 auc:0.9617\n",
      "epoch: 120 loss:0.194860 auc:0.9615\n",
      "epoch: 140 loss:0.192855 auc:0.9614\n",
      "epoch: 160 loss:0.191624 auc:0.9618\n",
      "epoch: 180 loss:0.190639 auc:0.9608\n"
     ]
    },
    {
     "name": "stderr",
     "output_type": "stream",
     "text": [
      " 17%|█▋        | 155/916 [32:46<2:46:48, 13.15s/it]"
     ]
    },
    {
     "name": "stdout",
     "output_type": "stream",
     "text": [
      "epoch: 200 loss:0.194421 auc:0.9592\n",
      "Fit finished.\n",
      "epoch:   0 loss:0.666626 auc:0.5021\n",
      "epoch:  20 loss:0.269382 auc:0.9654\n",
      "epoch:  40 loss:0.222102 auc:0.9662\n",
      "epoch:  60 loss:0.212067 auc:0.9654\n",
      "epoch:  80 loss:0.207790 auc:0.9662\n",
      "epoch: 100 loss:0.203482 auc:0.9662\n",
      "epoch: 120 loss:0.198146 auc:0.9669\n",
      "epoch: 140 loss:0.194471 auc:0.9658\n",
      "epoch: 160 loss:0.192742 auc:0.9669\n",
      "epoch: 180 loss:0.191490 auc:0.9669\n",
      "epoch: 200 loss:0.190328 auc:0.9669\n"
     ]
    },
    {
     "name": "stderr",
     "output_type": "stream",
     "text": [
      " 17%|█▋        | 156/916 [32:56<2:35:55, 12.31s/it]"
     ]
    },
    {
     "name": "stdout",
     "output_type": "stream",
     "text": [
      "epoch: 220 loss:0.189059 auc:0.9639\n",
      "Fit finished.\n",
      "epoch:   0 loss:0.570656 auc:0.4856\n",
      "epoch:  20 loss:0.264256 auc:0.9874\n",
      "epoch:  40 loss:0.220406 auc:0.9889\n",
      "epoch:  60 loss:0.210778 auc:0.9871\n",
      "epoch:  80 loss:0.205340 auc:0.9882\n",
      "epoch: 100 loss:0.198381 auc:0.9878\n",
      "epoch: 120 loss:0.193892 auc:0.9882\n",
      "epoch: 140 loss:0.193423 auc:0.9878\n",
      "epoch: 160 loss:0.191023 auc:0.9878\n",
      "epoch: 180 loss:0.190513 auc:0.9893\n",
      "epoch: 200 loss:0.188633 auc:0.9896\n",
      "epoch: 220 loss:0.188114 auc:0.9896\n",
      "epoch: 240 loss:0.185321 auc:0.9882\n"
     ]
    },
    {
     "name": "stderr",
     "output_type": "stream",
     "text": [
      " 17%|█▋        | 157/916 [33:09<2:35:36, 12.30s/it]"
     ]
    },
    {
     "name": "stdout",
     "output_type": "stream",
     "text": [
      "epoch: 260 loss:0.184487 auc:0.9848\n",
      "Fit finished.\n",
      "epoch:   0 loss:1.202944 auc:0.3344\n",
      "epoch:  20 loss:0.344030 auc:0.9429\n",
      "epoch:  40 loss:0.257114 auc:0.9454\n",
      "epoch:  60 loss:0.220843 auc:0.9454\n",
      "epoch:  80 loss:0.210223 auc:0.9450\n",
      "epoch: 100 loss:0.204119 auc:0.9471\n",
      "epoch: 120 loss:0.198260 auc:0.9467\n",
      "epoch: 140 loss:0.194758 auc:0.9463\n",
      "epoch: 160 loss:0.193147 auc:0.9459\n",
      "epoch: 180 loss:0.192160 auc:0.9475\n",
      "epoch: 200 loss:0.191406 auc:0.9475\n",
      "epoch: 220 loss:0.190635 auc:0.9479\n",
      "epoch: 240 loss:0.190772 auc:0.9475\n",
      "epoch: 260 loss:0.189888 auc:0.9471\n",
      "epoch: 280 loss:0.188990 auc:0.9467\n"
     ]
    },
    {
     "name": "stderr",
     "output_type": "stream",
     "text": [
      " 17%|█▋        | 158/916 [33:22<2:41:02, 12.75s/it]"
     ]
    },
    {
     "name": "stdout",
     "output_type": "stream",
     "text": [
      "epoch: 300 loss:0.187824 auc:0.9438\n",
      "Fit finished.\n",
      "epoch:   0 loss:0.825901 auc:0.1557\n",
      "epoch:  20 loss:0.294836 auc:0.9796\n",
      "epoch:  40 loss:0.225867 auc:0.9805\n",
      "epoch:  60 loss:0.211397 auc:0.9805\n",
      "epoch:  80 loss:0.204542 auc:0.9810\n",
      "epoch: 100 loss:0.198221 auc:0.9810\n",
      "epoch: 120 loss:0.194374 auc:0.9810\n",
      "epoch: 140 loss:0.192643 auc:0.9801\n",
      "epoch: 160 loss:0.191497 auc:0.9805\n",
      "epoch: 180 loss:0.190666 auc:0.9810\n",
      "epoch: 200 loss:0.189856 auc:0.9819\n",
      "epoch: 220 loss:0.190284 auc:0.9823\n",
      "epoch: 240 loss:0.188387 auc:0.9823\n",
      "epoch: 260 loss:0.187596 auc:0.9819\n"
     ]
    },
    {
     "name": "stderr",
     "output_type": "stream",
     "text": [
      " 17%|█▋        | 159/916 [33:36<2:42:07, 12.85s/it]"
     ]
    },
    {
     "name": "stdout",
     "output_type": "stream",
     "text": [
      "epoch: 280 loss:0.185207 auc:0.9792\n",
      "Fit finished.\n",
      "epoch:   0 loss:0.825612 auc:0.3749\n",
      "epoch:  20 loss:0.276964 auc:0.9433\n",
      "epoch:  40 loss:0.221661 auc:0.9498\n",
      "epoch:  60 loss:0.210705 auc:0.9511\n",
      "epoch:  80 loss:0.204800 auc:0.9498\n",
      "epoch: 100 loss:0.197863 auc:0.9498\n",
      "epoch: 120 loss:0.194324 auc:0.9501\n",
      "epoch: 140 loss:0.192615 auc:0.9503\n",
      "epoch: 160 loss:0.191981 auc:0.9490\n",
      "epoch: 180 loss:0.190340 auc:0.9480\n"
     ]
    },
    {
     "name": "stderr",
     "output_type": "stream",
     "text": [
      " 17%|█▋        | 160/916 [33:45<2:28:21, 11.77s/it]"
     ]
    },
    {
     "name": "stdout",
     "output_type": "stream",
     "text": [
      "epoch: 200 loss:0.189081 auc:0.9467\n",
      "Fit finished.\n",
      "epoch:   0 loss:0.524005 auc:0.5799\n",
      "epoch:  20 loss:0.246675 auc:0.9127\n",
      "epoch:  40 loss:0.215569 auc:0.9112\n",
      "epoch:  60 loss:0.206405 auc:0.9172\n",
      "epoch:  80 loss:0.197993 auc:0.9157\n",
      "epoch: 100 loss:0.195510 auc:0.9216\n",
      "epoch: 120 loss:0.191820 auc:0.9186\n",
      "epoch: 140 loss:0.190215 auc:0.9246\n",
      "epoch: 160 loss:0.190694 auc:0.9246\n",
      "epoch: 180 loss:0.187296 auc:0.9320\n",
      "epoch: 200 loss:0.187352 auc:0.9320\n",
      "epoch: 220 loss:0.183811 auc:0.9305\n",
      "epoch: 240 loss:0.182290 auc:0.9290\n",
      "epoch: 260 loss:0.179182 auc:0.9260\n",
      "epoch: 280 loss:0.178042 auc:0.9260\n",
      "epoch: 300 loss:0.183333 auc:0.9290\n"
     ]
    },
    {
     "name": "stderr",
     "output_type": "stream",
     "text": [
      " 18%|█▊        | 161/916 [34:00<2:42:21, 12.90s/it]"
     ]
    },
    {
     "name": "stdout",
     "output_type": "stream",
     "text": [
      "epoch: 320 loss:0.178667 auc:0.9216\n",
      "Fit finished.\n",
      "epoch:   0 loss:0.700215 auc:0.7024\n",
      "epoch:  20 loss:0.317398 auc:0.9552\n",
      "epoch:  40 loss:0.229677 auc:0.9520\n",
      "epoch:  60 loss:0.214596 auc:0.9664\n",
      "epoch:  80 loss:0.208877 auc:0.9696\n",
      "epoch: 100 loss:0.203838 auc:0.9696\n",
      "epoch: 120 loss:0.197088 auc:0.9696\n",
      "epoch: 140 loss:0.193840 auc:0.9696\n",
      "epoch: 160 loss:0.192240 auc:0.9680\n",
      "epoch: 180 loss:0.191152 auc:0.9712\n",
      "epoch: 200 loss:0.190018 auc:0.9696\n",
      "epoch: 220 loss:0.189666 auc:0.9712\n",
      "epoch: 240 loss:0.187865 auc:0.9696\n",
      "epoch: 260 loss:0.186679 auc:0.9712\n",
      "epoch: 280 loss:0.185292 auc:0.9712\n",
      "epoch: 300 loss:0.185275 auc:0.9712\n"
     ]
    },
    {
     "name": "stderr",
     "output_type": "stream",
     "text": [
      " 18%|█▊        | 162/916 [34:15<2:49:20, 13.48s/it]"
     ]
    },
    {
     "name": "stdout",
     "output_type": "stream",
     "text": [
      "epoch: 320 loss:0.183379 auc:0.9616\n",
      "Fit finished.\n",
      "epoch:   0 loss:0.719687 auc:0.2694\n",
      "epoch:  20 loss:0.283227 auc:0.9462\n",
      "epoch:  40 loss:0.226187 auc:0.9468\n",
      "epoch:  60 loss:0.212552 auc:0.9461\n",
      "epoch:  80 loss:0.205637 auc:0.9476\n",
      "epoch: 100 loss:0.198643 auc:0.9485\n",
      "epoch: 120 loss:0.194468 auc:0.9492\n",
      "epoch: 140 loss:0.193252 auc:0.9490\n",
      "epoch: 160 loss:0.191494 auc:0.9491\n",
      "epoch: 180 loss:0.191101 auc:0.9473\n"
     ]
    },
    {
     "name": "stderr",
     "output_type": "stream",
     "text": [
      " 18%|█▊        | 163/916 [34:24<2:31:39, 12.08s/it]"
     ]
    },
    {
     "name": "stdout",
     "output_type": "stream",
     "text": [
      "epoch: 200 loss:0.191491 auc:0.9432\n",
      "Fit finished.\n",
      "epoch:   0 loss:1.071019 auc:0.1779\n",
      "epoch:  20 loss:0.323764 auc:0.9413\n",
      "epoch:  40 loss:0.239130 auc:0.9455\n",
      "epoch:  60 loss:0.219418 auc:0.9506\n",
      "epoch:  80 loss:0.211307 auc:0.9480\n",
      "epoch: 100 loss:0.206112 auc:0.9480\n",
      "epoch: 120 loss:0.201028 auc:0.9480\n",
      "epoch: 140 loss:0.196132 auc:0.9474\n",
      "epoch: 160 loss:0.193711 auc:0.9467\n",
      "epoch: 180 loss:0.192505 auc:0.9477\n",
      "epoch: 200 loss:0.192117 auc:0.9471\n"
     ]
    },
    {
     "name": "stderr",
     "output_type": "stream",
     "text": [
      " 18%|█▊        | 164/916 [34:36<2:31:52, 12.12s/it]"
     ]
    },
    {
     "name": "stdout",
     "output_type": "stream",
     "text": [
      "epoch: 220 loss:0.190854 auc:0.9461\n",
      "Fit finished.\n",
      "epoch:   0 loss:0.550519 auc:0.5721\n",
      "epoch:  20 loss:0.235395 auc:0.9555\n",
      "epoch:  40 loss:0.214337 auc:0.9544\n",
      "epoch:  60 loss:0.206936 auc:0.9509\n",
      "epoch:  80 loss:0.199522 auc:0.9519\n",
      "epoch: 100 loss:0.194788 auc:0.9512\n",
      "epoch: 120 loss:0.193875 auc:0.9516\n",
      "epoch: 140 loss:0.190308 auc:0.9551\n",
      "epoch: 160 loss:0.191526 auc:0.9566\n",
      "epoch: 180 loss:0.187579 auc:0.9619\n",
      "epoch: 200 loss:0.185999 auc:0.9697\n",
      "epoch: 220 loss:0.185044 auc:0.9722\n",
      "epoch: 240 loss:0.180163 auc:0.9733\n",
      "epoch: 260 loss:0.181856 auc:0.9708\n"
     ]
    },
    {
     "name": "stderr",
     "output_type": "stream",
     "text": [
      " 18%|█▊        | 165/916 [34:50<2:38:34, 12.67s/it]"
     ]
    },
    {
     "name": "stdout",
     "output_type": "stream",
     "text": [
      "epoch: 280 loss:0.180472 auc:0.9502\n",
      "Fit finished.\n",
      "epoch:   0 loss:0.673350 auc:0.5249\n",
      "epoch:  20 loss:0.295426 auc:0.9224\n",
      "epoch:  40 loss:0.230217 auc:0.9266\n",
      "epoch:  60 loss:0.213977 auc:0.9307\n",
      "epoch:  80 loss:0.208818 auc:0.9356\n",
      "epoch: 100 loss:0.204305 auc:0.9391\n",
      "epoch: 120 loss:0.198372 auc:0.9384\n",
      "epoch: 140 loss:0.194213 auc:0.9384\n",
      "epoch: 160 loss:0.192393 auc:0.9384\n",
      "epoch: 180 loss:0.191766 auc:0.9411\n",
      "epoch: 200 loss:0.190835 auc:0.9411\n",
      "epoch: 220 loss:0.189061 auc:0.9411\n",
      "epoch: 240 loss:0.188730 auc:0.9404\n",
      "epoch: 260 loss:0.186731 auc:0.9391\n",
      "epoch: 280 loss:0.185514 auc:0.9391\n",
      "epoch: 300 loss:0.184998 auc:0.9432\n",
      "epoch: 320 loss:0.182798 auc:0.9398\n",
      "epoch: 340 loss:0.181391 auc:0.9432\n"
     ]
    },
    {
     "name": "stderr",
     "output_type": "stream",
     "text": [
      " 18%|█▊        | 166/916 [35:08<2:57:21, 14.19s/it]"
     ]
    },
    {
     "name": "stdout",
     "output_type": "stream",
     "text": [
      "epoch: 360 loss:0.185959 auc:0.9391\n",
      "Fit finished.\n",
      "epoch:   0 loss:0.566312 auc:0.4438\n",
      "epoch:  20 loss:0.276466 auc:0.9353\n",
      "epoch:  40 loss:0.220770 auc:0.9389\n",
      "epoch:  60 loss:0.207952 auc:0.9369\n",
      "epoch:  80 loss:0.200707 auc:0.9362\n",
      "epoch: 100 loss:0.195439 auc:0.9369\n",
      "epoch: 120 loss:0.193175 auc:0.9364\n",
      "epoch: 140 loss:0.191768 auc:0.9369\n",
      "epoch: 160 loss:0.190586 auc:0.9392\n",
      "epoch: 180 loss:0.190744 auc:0.9412\n",
      "epoch: 200 loss:0.188661 auc:0.9444\n",
      "epoch: 220 loss:0.187530 auc:0.9435\n",
      "epoch: 240 loss:0.186934 auc:0.9442\n",
      "epoch: 260 loss:0.184229 auc:0.9451\n",
      "epoch: 280 loss:0.184627 auc:0.9467\n",
      "epoch: 300 loss:0.183790 auc:0.9458\n",
      "epoch: 320 loss:0.179233 auc:0.9474\n",
      "epoch: 340 loss:0.177316 auc:0.9428\n",
      "epoch: 360 loss:0.184773 auc:0.9465\n",
      "epoch: 380 loss:0.173285 auc:0.9529\n",
      "epoch: 400 loss:0.168908 auc:0.9509\n",
      "epoch: 420 loss:0.168943 auc:0.9458\n",
      "epoch: 440 loss:0.165542 auc:0.9486\n"
     ]
    },
    {
     "name": "stderr",
     "output_type": "stream",
     "text": [
      " 18%|█▊        | 167/916 [35:31<3:30:07, 16.83s/it]"
     ]
    },
    {
     "name": "stdout",
     "output_type": "stream",
     "text": [
      "epoch: 460 loss:0.163559 auc:0.9456\n",
      "Fit finished.\n",
      "epoch:   0 loss:0.525979 auc:0.5552\n",
      "epoch:  20 loss:0.243771 auc:0.9489\n",
      "epoch:  40 loss:0.217014 auc:0.9441\n",
      "epoch:  60 loss:0.208620 auc:0.9430\n",
      "epoch:  80 loss:0.201391 auc:0.9444\n",
      "epoch: 100 loss:0.194907 auc:0.9438\n",
      "epoch: 120 loss:0.192496 auc:0.9406\n",
      "epoch: 140 loss:0.191227 auc:0.9417\n",
      "epoch: 160 loss:0.189599 auc:0.9398\n"
     ]
    },
    {
     "name": "stderr",
     "output_type": "stream",
     "text": [
      " 18%|█▊        | 168/916 [35:39<2:58:50, 14.35s/it]"
     ]
    },
    {
     "name": "stdout",
     "output_type": "stream",
     "text": [
      "epoch: 180 loss:0.192824 auc:0.9382\n",
      "Fit finished.\n",
      "epoch:   0 loss:1.034089 auc:0.5796\n",
      "epoch:  20 loss:0.322509 auc:0.9760\n",
      "epoch:  40 loss:0.236919 auc:0.9734\n",
      "epoch:  60 loss:0.214787 auc:0.9714\n",
      "epoch:  80 loss:0.206273 auc:0.9709\n",
      "epoch: 100 loss:0.199492 auc:0.9719\n",
      "epoch: 120 loss:0.194973 auc:0.9717\n",
      "epoch: 140 loss:0.193041 auc:0.9708\n",
      "epoch: 160 loss:0.191748 auc:0.9709\n"
     ]
    },
    {
     "name": "stderr",
     "output_type": "stream",
     "text": [
      " 18%|█▊        | 169/916 [35:49<2:41:14, 12.95s/it]"
     ]
    },
    {
     "name": "stdout",
     "output_type": "stream",
     "text": [
      "epoch: 180 loss:0.191033 auc:0.9714\n",
      "Fit finished.\n",
      "epoch:   0 loss:0.695630 auc:0.6302\n",
      "epoch:  20 loss:0.322926 auc:0.9639\n",
      "epoch:  40 loss:0.236132 auc:0.9645\n",
      "epoch:  60 loss:0.216682 auc:0.9675\n",
      "epoch:  80 loss:0.209021 auc:0.9685\n",
      "epoch: 100 loss:0.203460 auc:0.9677\n",
      "epoch: 120 loss:0.197563 auc:0.9679\n",
      "epoch: 140 loss:0.194111 auc:0.9669\n",
      "epoch: 160 loss:0.192548 auc:0.9669\n",
      "epoch: 180 loss:0.194233 auc:0.9667\n",
      "epoch: 200 loss:0.190853 auc:0.9661\n"
     ]
    },
    {
     "name": "stderr",
     "output_type": "stream",
     "text": [
      " 19%|█▊        | 170/916 [36:01<2:35:58, 12.55s/it]"
     ]
    },
    {
     "name": "stdout",
     "output_type": "stream",
     "text": [
      "epoch: 220 loss:0.190260 auc:0.9657\n",
      "Fit finished.\n",
      "epoch:   0 loss:1.011438 auc:0.8462\n",
      "epoch:  20 loss:0.319172 auc:0.9689\n",
      "epoch:  40 loss:0.242548 auc:0.9740\n",
      "epoch:  60 loss:0.219076 auc:0.9796\n",
      "epoch:  80 loss:0.209301 auc:0.9819\n",
      "epoch: 100 loss:0.203224 auc:0.9817\n",
      "epoch: 120 loss:0.197240 auc:0.9808\n",
      "epoch: 140 loss:0.193930 auc:0.9812\n",
      "epoch: 160 loss:0.192357 auc:0.9808\n",
      "epoch: 180 loss:0.191400 auc:0.9812\n",
      "epoch: 200 loss:0.191600 auc:0.9806\n",
      "epoch: 220 loss:0.189897 auc:0.9803\n"
     ]
    },
    {
     "name": "stderr",
     "output_type": "stream",
     "text": [
      " 19%|█▊        | 171/916 [36:13<2:33:03, 12.33s/it]"
     ]
    },
    {
     "name": "stdout",
     "output_type": "stream",
     "text": [
      "epoch: 240 loss:0.189050 auc:0.9780\n",
      "Fit finished.\n",
      "epoch:   0 loss:1.129699 auc:0.4067\n",
      "epoch:  20 loss:0.322605 auc:0.9919\n",
      "epoch:  40 loss:0.243403 auc:0.9930\n",
      "epoch:  60 loss:0.218542 auc:0.9924\n",
      "epoch:  80 loss:0.209811 auc:0.9930\n",
      "epoch: 100 loss:0.205235 auc:0.9924\n",
      "epoch: 120 loss:0.200729 auc:0.9930\n",
      "epoch: 140 loss:0.196418 auc:0.9924\n",
      "epoch: 160 loss:0.193983 auc:0.9935\n",
      "epoch: 180 loss:0.192694 auc:0.9935\n",
      "epoch: 200 loss:0.191766 auc:0.9935\n",
      "epoch: 220 loss:0.191212 auc:0.9941\n",
      "epoch: 240 loss:0.190341 auc:0.9951\n",
      "epoch: 260 loss:0.189608 auc:0.9957\n",
      "epoch: 280 loss:0.189266 auc:0.9968\n",
      "epoch: 300 loss:0.188227 auc:0.9968\n",
      "epoch: 320 loss:0.187042 auc:0.9978\n",
      "epoch: 340 loss:0.188530 auc:0.9962\n",
      "epoch: 360 loss:0.185047 auc:0.9962\n"
     ]
    },
    {
     "name": "stderr",
     "output_type": "stream",
     "text": [
      " 19%|█▉        | 172/916 [36:29<2:48:35, 13.60s/it]"
     ]
    },
    {
     "name": "stdout",
     "output_type": "stream",
     "text": [
      "epoch: 380 loss:0.184196 auc:0.9919\n",
      "Fit finished.\n",
      "epoch:   0 loss:0.575519 auc:0.4440\n",
      "epoch:  20 loss:0.249439 auc:0.9757\n",
      "epoch:  40 loss:0.215442 auc:0.9779\n",
      "epoch:  60 loss:0.205411 auc:0.9748\n",
      "epoch:  80 loss:0.198463 auc:0.9753\n",
      "epoch: 100 loss:0.194702 auc:0.9748\n",
      "epoch: 120 loss:0.192706 auc:0.9753\n",
      "epoch: 140 loss:0.195005 auc:0.9753\n",
      "epoch: 160 loss:0.190408 auc:0.9753\n",
      "epoch: 180 loss:0.188537 auc:0.9779\n",
      "epoch: 200 loss:0.188523 auc:0.9800\n",
      "epoch: 220 loss:0.186080 auc:0.9861\n",
      "epoch: 240 loss:0.185547 auc:0.9878\n",
      "epoch: 260 loss:0.183448 auc:0.9905\n",
      "epoch: 280 loss:0.182387 auc:0.9905\n",
      "epoch: 300 loss:0.185203 auc:0.9926\n",
      "epoch: 320 loss:0.175490 auc:0.9900\n",
      "epoch: 340 loss:0.173717 auc:0.9957\n"
     ]
    },
    {
     "name": "stderr",
     "output_type": "stream",
     "text": [
      " 19%|█▉        | 173/916 [36:47<3:03:34, 14.82s/it]"
     ]
    },
    {
     "name": "stdout",
     "output_type": "stream",
     "text": [
      "epoch: 360 loss:0.173256 auc:0.9787\n",
      "Fit finished.\n",
      "epoch:   0 loss:0.676419 auc:0.2650\n",
      "epoch:  20 loss:0.254571 auc:0.9742\n",
      "epoch:  40 loss:0.218872 auc:0.9774\n",
      "epoch:  60 loss:0.209753 auc:0.9774\n",
      "epoch:  80 loss:0.203223 auc:0.9777\n",
      "epoch: 100 loss:0.196139 auc:0.9783\n",
      "epoch: 120 loss:0.193083 auc:0.9783\n",
      "epoch: 140 loss:0.196098 auc:0.9770\n",
      "epoch: 160 loss:0.190525 auc:0.9761\n"
     ]
    },
    {
     "name": "stderr",
     "output_type": "stream",
     "text": [
      " 19%|█▉        | 174/916 [36:55<2:37:34, 12.74s/it]"
     ]
    },
    {
     "name": "stdout",
     "output_type": "stream",
     "text": [
      "epoch: 180 loss:0.189013 auc:0.9739\n",
      "Fit finished.\n",
      "epoch:   0 loss:0.631193 auc:0.5157\n",
      "epoch:  20 loss:0.299484 auc:0.9289\n",
      "epoch:  40 loss:0.226755 auc:0.9345\n",
      "epoch:  60 loss:0.212886 auc:0.9351\n",
      "epoch:  80 loss:0.207368 auc:0.9384\n",
      "epoch: 100 loss:0.202553 auc:0.9400\n",
      "epoch: 120 loss:0.197284 auc:0.9396\n",
      "epoch: 140 loss:0.194226 auc:0.9413\n",
      "epoch: 160 loss:0.192673 auc:0.9416\n",
      "epoch: 180 loss:0.191520 auc:0.9403\n",
      "epoch: 200 loss:0.191487 auc:0.9386\n",
      "epoch: 220 loss:0.190378 auc:0.9383\n"
     ]
    },
    {
     "name": "stderr",
     "output_type": "stream",
     "text": [
      " 19%|█▉        | 175/916 [37:05<2:28:11, 12.00s/it]"
     ]
    },
    {
     "name": "stdout",
     "output_type": "stream",
     "text": [
      "epoch: 240 loss:0.189183 auc:0.9315\n",
      "Fit finished.\n",
      "epoch:   0 loss:0.922859 auc:0.2223\n",
      "epoch:  20 loss:0.299529 auc:0.9575\n",
      "epoch:  40 loss:0.230107 auc:0.9575\n",
      "epoch:  60 loss:0.216243 auc:0.9557\n",
      "epoch:  80 loss:0.210497 auc:0.9551\n",
      "epoch: 100 loss:0.206910 auc:0.9562\n",
      "epoch: 120 loss:0.202858 auc:0.9570\n",
      "epoch: 140 loss:0.197968 auc:0.9567\n",
      "epoch: 160 loss:0.194474 auc:0.9557\n"
     ]
    },
    {
     "name": "stderr",
     "output_type": "stream",
     "text": [
      " 19%|█▉        | 176/916 [37:13<2:14:16, 10.89s/it]"
     ]
    },
    {
     "name": "stdout",
     "output_type": "stream",
     "text": [
      "epoch: 180 loss:0.192930 auc:0.9565\n",
      "Fit finished.\n",
      "epoch:   0 loss:0.816805 auc:0.3521\n",
      "epoch:  20 loss:0.318041 auc:0.9430\n",
      "epoch:  40 loss:0.232695 auc:0.9455\n",
      "epoch:  60 loss:0.217319 auc:0.9409\n",
      "epoch:  80 loss:0.211190 auc:0.9434\n",
      "epoch: 100 loss:0.206865 auc:0.9452\n",
      "epoch: 120 loss:0.201194 auc:0.9455\n",
      "epoch: 140 loss:0.195141 auc:0.9452\n",
      "epoch: 160 loss:0.192939 auc:0.9455\n",
      "epoch: 180 loss:0.191514 auc:0.9452\n"
     ]
    },
    {
     "name": "stderr",
     "output_type": "stream",
     "text": [
      " 19%|█▉        | 177/916 [37:23<2:09:47, 10.54s/it]"
     ]
    },
    {
     "name": "stdout",
     "output_type": "stream",
     "text": [
      "epoch: 200 loss:0.190528 auc:0.9448\n",
      "Fit finished.\n",
      "epoch:   0 loss:0.712412 auc:0.4156\n",
      "epoch:  20 loss:0.297168 auc:0.9361\n",
      "epoch:  40 loss:0.226540 auc:0.9474\n",
      "epoch:  60 loss:0.212286 auc:0.9450\n",
      "epoch:  80 loss:0.206617 auc:0.9441\n",
      "epoch: 100 loss:0.201178 auc:0.9447\n",
      "epoch: 120 loss:0.195652 auc:0.9438\n",
      "epoch: 140 loss:0.193330 auc:0.9429\n",
      "epoch: 160 loss:0.192188 auc:0.9453\n",
      "epoch: 180 loss:0.190759 auc:0.9486\n",
      "epoch: 200 loss:0.189643 auc:0.9504\n",
      "epoch: 220 loss:0.188398 auc:0.9518\n",
      "epoch: 240 loss:0.187782 auc:0.9530\n",
      "epoch: 260 loss:0.186505 auc:0.9510\n",
      "epoch: 280 loss:0.185131 auc:0.9501\n",
      "epoch: 300 loss:0.185432 auc:0.9465\n",
      "epoch: 320 loss:0.181910 auc:0.9462\n"
     ]
    },
    {
     "name": "stderr",
     "output_type": "stream",
     "text": [
      " 19%|█▉        | 178/916 [37:38<2:27:11, 11.97s/it]"
     ]
    },
    {
     "name": "stdout",
     "output_type": "stream",
     "text": [
      "epoch: 340 loss:0.220053 auc:0.9447\n",
      "Fit finished.\n",
      "epoch:   0 loss:0.835913 auc:0.5115\n",
      "epoch:  20 loss:0.293004 auc:0.9620\n",
      "epoch:  40 loss:0.228662 auc:0.9561\n",
      "epoch:  60 loss:0.213171 auc:0.9579\n",
      "epoch:  80 loss:0.206620 auc:0.9574\n",
      "epoch: 100 loss:0.200884 auc:0.9565\n",
      "epoch: 120 loss:0.195697 auc:0.9565\n",
      "epoch: 140 loss:0.193567 auc:0.9574\n",
      "epoch: 160 loss:0.192231 auc:0.9565\n"
     ]
    },
    {
     "name": "stderr",
     "output_type": "stream",
     "text": [
      " 20%|█▉        | 180/916 [37:46<1:41:42,  8.29s/it]"
     ]
    },
    {
     "name": "stdout",
     "output_type": "stream",
     "text": [
      "epoch: 180 loss:0.191541 auc:0.9561\n",
      "Fit finished.\n",
      "epoch:   0 loss:0.897356 auc:0.2446\n",
      "epoch:  20 loss:0.315679 auc:0.8790\n",
      "epoch:  40 loss:0.234315 auc:0.8815\n",
      "epoch:  60 loss:0.216032 auc:0.8811\n",
      "epoch:  80 loss:0.208910 auc:0.8818\n",
      "epoch: 100 loss:0.204209 auc:0.8822\n",
      "epoch: 120 loss:0.199213 auc:0.8807\n",
      "epoch: 140 loss:0.194906 auc:0.8804\n",
      "epoch: 160 loss:0.192999 auc:0.8793\n",
      "epoch: 180 loss:0.191787 auc:0.8804\n"
     ]
    },
    {
     "name": "stderr",
     "output_type": "stream",
     "text": [
      " 20%|█▉        | 181/916 [37:55<1:42:37,  8.38s/it]"
     ]
    },
    {
     "name": "stdout",
     "output_type": "stream",
     "text": [
      "epoch: 200 loss:0.190785 auc:0.8790\n",
      "Fit finished.\n",
      "epoch:   0 loss:0.761046 auc:0.2469\n",
      "epoch:  20 loss:0.256951 auc:0.9774\n",
      "epoch:  40 loss:0.218987 auc:0.9774\n",
      "epoch:  60 loss:0.209845 auc:0.9752\n",
      "epoch:  80 loss:0.204073 auc:0.9737\n",
      "epoch: 100 loss:0.197003 auc:0.9744\n",
      "epoch: 120 loss:0.193527 auc:0.9737\n",
      "epoch: 140 loss:0.193376 auc:0.9737\n",
      "epoch: 160 loss:0.190560 auc:0.9730\n"
     ]
    },
    {
     "name": "stderr",
     "output_type": "stream",
     "text": [
      " 20%|█▉        | 182/916 [38:04<1:43:57,  8.50s/it]"
     ]
    },
    {
     "name": "stdout",
     "output_type": "stream",
     "text": [
      "epoch: 180 loss:0.189870 auc:0.9715\n",
      "Fit finished.\n",
      "epoch:   0 loss:0.746807 auc:0.2590\n",
      "epoch:  20 loss:0.284599 auc:0.9477\n",
      "epoch:  40 loss:0.226929 auc:0.9500\n",
      "epoch:  60 loss:0.212994 auc:0.9500\n",
      "epoch:  80 loss:0.207260 auc:0.9500\n",
      "epoch: 100 loss:0.201988 auc:0.9506\n",
      "epoch: 120 loss:0.196459 auc:0.9511\n",
      "epoch: 140 loss:0.193609 auc:0.9509\n",
      "epoch: 160 loss:0.191986 auc:0.9506\n",
      "epoch: 180 loss:0.190825 auc:0.9511\n",
      "epoch: 200 loss:0.190041 auc:0.9534\n",
      "epoch: 220 loss:0.189075 auc:0.9557\n",
      "epoch: 240 loss:0.187785 auc:0.9578\n",
      "epoch: 260 loss:0.186140 auc:0.9571\n",
      "epoch: 280 loss:0.185318 auc:0.9584\n"
     ]
    },
    {
     "name": "stderr",
     "output_type": "stream",
     "text": [
      " 20%|█▉        | 183/916 [38:16<1:56:15,  9.52s/it]"
     ]
    },
    {
     "name": "stdout",
     "output_type": "stream",
     "text": [
      "epoch: 300 loss:0.183207 auc:0.9495\n",
      "Fit finished.\n",
      "epoch:   0 loss:0.685211 auc:0.6714\n",
      "epoch:  20 loss:0.325910 auc:0.9246\n",
      "epoch:  40 loss:0.237173 auc:0.9313\n",
      "epoch:  60 loss:0.217622 auc:0.9304\n",
      "epoch:  80 loss:0.209945 auc:0.9304\n",
      "epoch: 100 loss:0.204879 auc:0.9309\n",
      "epoch: 120 loss:0.199235 auc:0.9321\n",
      "epoch: 140 loss:0.194874 auc:0.9325\n",
      "epoch: 160 loss:0.193006 auc:0.9334\n",
      "epoch: 180 loss:0.191770 auc:0.9334\n",
      "epoch: 200 loss:0.191287 auc:0.9338\n",
      "epoch: 220 loss:0.190054 auc:0.9338\n",
      "epoch: 240 loss:0.189126 auc:0.9309\n"
     ]
    },
    {
     "name": "stderr",
     "output_type": "stream",
     "text": [
      " 20%|██        | 184/916 [38:28<2:05:26, 10.28s/it]"
     ]
    },
    {
     "name": "stdout",
     "output_type": "stream",
     "text": [
      "epoch: 260 loss:0.188603 auc:0.9288\n",
      "Fit finished.\n",
      "epoch:   0 loss:0.615334 auc:0.4389\n",
      "epoch:  20 loss:0.233994 auc:0.9808\n",
      "epoch:  40 loss:0.212578 auc:0.9792\n",
      "epoch:  60 loss:0.205901 auc:0.9789\n",
      "epoch:  80 loss:0.198580 auc:0.9794\n",
      "epoch: 100 loss:0.194841 auc:0.9797\n",
      "epoch: 120 loss:0.191661 auc:0.9775\n",
      "epoch: 140 loss:0.212472 auc:0.9769\n",
      "epoch: 160 loss:0.191190 auc:0.9761\n"
     ]
    },
    {
     "name": "stderr",
     "output_type": "stream",
     "text": [
      " 20%|██        | 185/916 [38:38<2:03:20, 10.12s/it]"
     ]
    },
    {
     "name": "stdout",
     "output_type": "stream",
     "text": [
      "epoch: 180 loss:0.187469 auc:0.9722\n",
      "Fit finished.\n",
      "epoch:   0 loss:0.560747 auc:0.4473\n",
      "epoch:  20 loss:0.281062 auc:0.9322\n",
      "epoch:  40 loss:0.224002 auc:0.9331\n",
      "epoch:  60 loss:0.210565 auc:0.9290\n",
      "epoch:  80 loss:0.203476 auc:0.9290\n",
      "epoch: 100 loss:0.196283 auc:0.9290\n",
      "epoch: 120 loss:0.193500 auc:0.9290\n",
      "epoch: 140 loss:0.191781 auc:0.9241\n",
      "epoch: 160 loss:0.190649 auc:0.9192\n"
     ]
    },
    {
     "name": "stderr",
     "output_type": "stream",
     "text": [
      " 20%|██        | 186/916 [38:46<1:56:49,  9.60s/it]"
     ]
    },
    {
     "name": "stdout",
     "output_type": "stream",
     "text": [
      "epoch: 180 loss:0.189642 auc:0.9208\n",
      "Fit finished.\n",
      "epoch:   0 loss:0.840839 auc:0.5251\n",
      "epoch:  20 loss:0.305811 auc:0.9015\n",
      "epoch:  40 loss:0.229984 auc:0.9057\n",
      "epoch:  60 loss:0.213472 auc:0.9138\n",
      "epoch:  80 loss:0.206741 auc:0.9132\n",
      "epoch: 100 loss:0.200934 auc:0.9143\n",
      "epoch: 120 loss:0.195628 auc:0.9146\n",
      "epoch: 140 loss:0.193265 auc:0.9144\n",
      "epoch: 160 loss:0.191836 auc:0.9140\n",
      "epoch: 180 loss:0.191366 auc:0.9134\n",
      "epoch: 200 loss:0.189763 auc:0.9103\n"
     ]
    },
    {
     "name": "stderr",
     "output_type": "stream",
     "text": [
      " 20%|██        | 187/916 [38:56<1:57:50,  9.70s/it]"
     ]
    },
    {
     "name": "stdout",
     "output_type": "stream",
     "text": [
      "epoch: 220 loss:0.188843 auc:0.8934\n",
      "Fit finished.\n",
      "epoch:   0 loss:0.643324 auc:0.7544\n",
      "epoch:  20 loss:0.317874 auc:0.9756\n",
      "epoch:  40 loss:0.232729 auc:0.9781\n",
      "epoch:  60 loss:0.216212 auc:0.9800\n",
      "epoch:  80 loss:0.208725 auc:0.9788\n",
      "epoch: 100 loss:0.203546 auc:0.9775\n",
      "epoch: 120 loss:0.198232 auc:0.9775\n",
      "epoch: 140 loss:0.194772 auc:0.9775\n",
      "epoch: 160 loss:0.193131 auc:0.9762\n",
      "epoch: 180 loss:0.191995 auc:0.9775\n",
      "epoch: 200 loss:0.191040 auc:0.9788\n"
     ]
    },
    {
     "name": "stderr",
     "output_type": "stream",
     "text": [
      " 21%|██        | 188/916 [39:07<2:01:20, 10.00s/it]"
     ]
    },
    {
     "name": "stdout",
     "output_type": "stream",
     "text": [
      "epoch: 220 loss:0.190931 auc:0.9788\n",
      "Fit finished.\n",
      "epoch:   0 loss:0.722268 auc:0.1860\n",
      "epoch:  20 loss:0.322717 auc:0.9760\n",
      "epoch:  40 loss:0.233100 auc:0.9752\n",
      "epoch:  60 loss:0.214265 auc:0.9760\n",
      "epoch:  80 loss:0.206444 auc:0.9760\n",
      "epoch: 100 loss:0.199383 auc:0.9789\n",
      "epoch: 120 loss:0.194277 auc:0.9786\n",
      "epoch: 140 loss:0.193019 auc:0.9778\n",
      "epoch: 160 loss:0.191205 auc:0.9771\n",
      "epoch: 180 loss:0.190170 auc:0.9774\n",
      "epoch: 200 loss:0.189459 auc:0.9767\n",
      "epoch: 220 loss:0.187654 auc:0.9767\n"
     ]
    },
    {
     "name": "stderr",
     "output_type": "stream",
     "text": [
      " 21%|██        | 189/916 [39:19<2:07:19, 10.51s/it]"
     ]
    },
    {
     "name": "stdout",
     "output_type": "stream",
     "text": [
      "epoch: 240 loss:0.186112 auc:0.9723\n",
      "Fit finished.\n",
      "epoch:   0 loss:0.625138 auc:0.6746\n",
      "epoch:  20 loss:0.292422 auc:0.9552\n",
      "epoch:  40 loss:0.228479 auc:0.9671\n",
      "epoch:  60 loss:0.213218 auc:0.9677\n",
      "epoch:  80 loss:0.207449 auc:0.9683\n",
      "epoch: 100 loss:0.202174 auc:0.9683\n",
      "epoch: 120 loss:0.196614 auc:0.9688\n",
      "epoch: 140 loss:0.193870 auc:0.9666\n",
      "epoch: 160 loss:0.192416 auc:0.9671\n",
      "epoch: 180 loss:0.192634 auc:0.9671\n"
     ]
    },
    {
     "name": "stderr",
     "output_type": "stream",
     "text": [
      " 21%|██        | 190/916 [39:28<2:02:23, 10.11s/it]"
     ]
    },
    {
     "name": "stdout",
     "output_type": "stream",
     "text": [
      "epoch: 200 loss:0.190849 auc:0.9660\n",
      "Fit finished.\n",
      "epoch:   0 loss:0.885733 auc:0.6739\n",
      "epoch:  20 loss:0.330799 auc:0.9785\n",
      "epoch:  40 loss:0.244782 auc:0.9814\n",
      "epoch:  60 loss:0.219026 auc:0.9829\n",
      "epoch:  80 loss:0.210370 auc:0.9837\n",
      "epoch: 100 loss:0.204851 auc:0.9837\n",
      "epoch: 120 loss:0.199667 auc:0.9836\n",
      "epoch: 140 loss:0.195537 auc:0.9836\n",
      "epoch: 160 loss:0.193505 auc:0.9836\n",
      "epoch: 180 loss:0.192355 auc:0.9836\n",
      "epoch: 200 loss:0.191535 auc:0.9836\n",
      "epoch: 220 loss:0.190860 auc:0.9836\n"
     ]
    },
    {
     "name": "stderr",
     "output_type": "stream",
     "text": [
      " 21%|██        | 191/916 [39:38<2:03:48, 10.25s/it]"
     ]
    },
    {
     "name": "stdout",
     "output_type": "stream",
     "text": [
      "epoch: 240 loss:0.190379 auc:0.9834\n",
      "Fit finished.\n",
      "epoch:   0 loss:1.146268 auc:0.6707\n",
      "epoch:  20 loss:0.318906 auc:0.9701\n",
      "epoch:  40 loss:0.239190 auc:0.9735\n",
      "epoch:  60 loss:0.215438 auc:0.9714\n",
      "epoch:  80 loss:0.206587 auc:0.9701\n",
      "epoch: 100 loss:0.199946 auc:0.9701\n",
      "epoch: 120 loss:0.195254 auc:0.9703\n",
      "epoch: 140 loss:0.193285 auc:0.9696\n",
      "epoch: 160 loss:0.192671 auc:0.9698\n",
      "epoch: 180 loss:0.191182 auc:0.9701\n"
     ]
    },
    {
     "name": "stderr",
     "output_type": "stream",
     "text": [
      " 21%|██        | 192/916 [39:49<2:04:48, 10.34s/it]"
     ]
    },
    {
     "name": "stdout",
     "output_type": "stream",
     "text": [
      "epoch: 200 loss:0.190429 auc:0.9706\n",
      "Fit finished.\n",
      "epoch:   0 loss:0.578459 auc:0.4839\n",
      "epoch:  20 loss:0.256503 auc:0.9681\n",
      "epoch:  40 loss:0.215036 auc:0.9649\n",
      "epoch:  60 loss:0.204632 auc:0.9624\n",
      "epoch:  80 loss:0.196478 auc:0.9620\n",
      "epoch: 100 loss:0.193433 auc:0.9638\n",
      "epoch: 120 loss:0.191609 auc:0.9624\n",
      "epoch: 140 loss:0.191329 auc:0.9616\n",
      "epoch: 160 loss:0.189485 auc:0.9571\n"
     ]
    },
    {
     "name": "stderr",
     "output_type": "stream",
     "text": [
      " 21%|██        | 193/916 [39:58<1:58:38,  9.85s/it]"
     ]
    },
    {
     "name": "stdout",
     "output_type": "stream",
     "text": [
      "epoch: 180 loss:0.202065 auc:0.9353\n",
      "Fit finished.\n",
      "epoch:   0 loss:0.719926 auc:0.3554\n",
      "epoch:  20 loss:0.306659 auc:0.9598\n",
      "epoch:  40 loss:0.231460 auc:0.9659\n",
      "epoch:  60 loss:0.216411 auc:0.9708\n",
      "epoch:  80 loss:0.210407 auc:0.9712\n",
      "epoch: 100 loss:0.206178 auc:0.9704\n",
      "epoch: 120 loss:0.200949 auc:0.9702\n",
      "epoch: 140 loss:0.195411 auc:0.9702\n",
      "epoch: 160 loss:0.192893 auc:0.9700\n",
      "epoch: 180 loss:0.191460 auc:0.9699\n",
      "epoch: 200 loss:0.190999 auc:0.9696\n"
     ]
    },
    {
     "name": "stderr",
     "output_type": "stream",
     "text": [
      " 21%|██        | 194/916 [40:07<1:58:29,  9.85s/it]"
     ]
    },
    {
     "name": "stdout",
     "output_type": "stream",
     "text": [
      "epoch: 220 loss:0.189854 auc:0.9694\n",
      "Fit finished.\n",
      "epoch:   0 loss:0.724095 auc:0.3945\n",
      "epoch:  20 loss:0.318107 auc:0.9336\n",
      "epoch:  40 loss:0.238366 auc:0.9325\n",
      "epoch:  60 loss:0.216866 auc:0.9293\n",
      "epoch:  80 loss:0.208764 auc:0.9317\n",
      "epoch: 100 loss:0.203175 auc:0.9347\n",
      "epoch: 120 loss:0.197356 auc:0.9351\n",
      "epoch: 140 loss:0.194240 auc:0.9362\n",
      "epoch: 160 loss:0.192575 auc:0.9371\n",
      "epoch: 180 loss:0.191450 auc:0.9364\n",
      "epoch: 200 loss:0.191176 auc:0.9353\n",
      "epoch: 220 loss:0.190048 auc:0.9338\n"
     ]
    },
    {
     "name": "stderr",
     "output_type": "stream",
     "text": [
      " 21%|██▏       | 195/916 [40:19<2:03:18, 10.26s/it]"
     ]
    },
    {
     "name": "stdout",
     "output_type": "stream",
     "text": [
      "epoch: 240 loss:0.189152 auc:0.9308\n",
      "Fit finished.\n",
      "epoch:   0 loss:0.647398 auc:0.3932\n",
      "epoch:  20 loss:0.252007 auc:0.9628\n",
      "epoch:  40 loss:0.218703 auc:0.9713\n",
      "epoch:  60 loss:0.209091 auc:0.9742\n",
      "epoch:  80 loss:0.203392 auc:0.9744\n",
      "epoch: 100 loss:0.197162 auc:0.9753\n",
      "epoch: 120 loss:0.194102 auc:0.9755\n",
      "epoch: 140 loss:0.192373 auc:0.9757\n",
      "epoch: 160 loss:0.194525 auc:0.9746\n",
      "epoch: 180 loss:0.190451 auc:0.9757\n",
      "epoch: 200 loss:0.188796 auc:0.9751\n"
     ]
    },
    {
     "name": "stderr",
     "output_type": "stream",
     "text": [
      " 21%|██▏       | 196/916 [40:29<2:01:51, 10.15s/it]"
     ]
    },
    {
     "name": "stdout",
     "output_type": "stream",
     "text": [
      "epoch: 220 loss:0.188485 auc:0.9719\n",
      "Fit finished.\n",
      "epoch:   0 loss:0.674405 auc:0.4074\n",
      "epoch:  20 loss:0.289555 auc:0.9301\n",
      "epoch:  40 loss:0.229004 auc:0.9245\n",
      "epoch:  60 loss:0.213515 auc:0.9168\n",
      "epoch:  80 loss:0.207118 auc:0.9192\n",
      "epoch: 100 loss:0.201646 auc:0.9199\n",
      "epoch: 120 loss:0.196304 auc:0.9204\n",
      "epoch: 140 loss:0.193509 auc:0.9216\n",
      "epoch: 160 loss:0.191973 auc:0.9209\n"
     ]
    },
    {
     "name": "stderr",
     "output_type": "stream",
     "text": [
      " 22%|██▏       | 197/916 [40:37<1:55:42,  9.66s/it]"
     ]
    },
    {
     "name": "stdout",
     "output_type": "stream",
     "text": [
      "epoch: 180 loss:0.190783 auc:0.9183\n",
      "Fit finished.\n",
      "epoch:   0 loss:0.576341 auc:0.5872\n",
      "epoch:  20 loss:0.309786 auc:0.9666\n",
      "epoch:  40 loss:0.230243 auc:0.9683\n",
      "epoch:  60 loss:0.213408 auc:0.9694\n",
      "epoch:  80 loss:0.205063 auc:0.9694\n",
      "epoch: 100 loss:0.198385 auc:0.9703\n",
      "epoch: 120 loss:0.194477 auc:0.9702\n",
      "epoch: 140 loss:0.192697 auc:0.9704\n",
      "epoch: 160 loss:0.191621 auc:0.9701\n",
      "epoch: 180 loss:0.190587 auc:0.9696\n"
     ]
    },
    {
     "name": "stderr",
     "output_type": "stream",
     "text": [
      " 22%|██▏       | 198/916 [40:48<1:59:23,  9.98s/it]"
     ]
    },
    {
     "name": "stdout",
     "output_type": "stream",
     "text": [
      "epoch: 200 loss:0.189868 auc:0.9679\n",
      "Fit finished.\n",
      "epoch:   0 loss:1.366119 auc:0.5809\n",
      "epoch:  20 loss:0.295076 auc:0.9569\n",
      "epoch:  40 loss:0.229911 auc:0.9542\n",
      "epoch:  60 loss:0.215921 auc:0.9542\n",
      "epoch:  80 loss:0.209788 auc:0.9531\n",
      "epoch: 100 loss:0.205325 auc:0.9519\n",
      "epoch: 120 loss:0.200424 auc:0.9531\n",
      "epoch: 140 loss:0.195809 auc:0.9531\n",
      "epoch: 160 loss:0.193607 auc:0.9535\n"
     ]
    },
    {
     "name": "stderr",
     "output_type": "stream",
     "text": [
      " 22%|██▏       | 199/916 [40:56<1:51:00,  9.29s/it]"
     ]
    },
    {
     "name": "stdout",
     "output_type": "stream",
     "text": [
      "epoch: 180 loss:0.192347 auc:0.9527\n",
      "Fit finished.\n",
      "epoch:   0 loss:0.732858 auc:0.6767\n",
      "epoch:  20 loss:0.320176 auc:0.9529\n",
      "epoch:  40 loss:0.231944 auc:0.9537\n",
      "epoch:  60 loss:0.215733 auc:0.9498\n",
      "epoch:  80 loss:0.208175 auc:0.9498\n",
      "epoch: 100 loss:0.202074 auc:0.9498\n",
      "epoch: 120 loss:0.195601 auc:0.9498\n",
      "epoch: 140 loss:0.193061 auc:0.9506\n",
      "epoch: 160 loss:0.191621 auc:0.9491\n"
     ]
    },
    {
     "name": "stderr",
     "output_type": "stream",
     "text": [
      " 22%|██▏       | 200/916 [41:03<1:45:50,  8.87s/it]"
     ]
    },
    {
     "name": "stdout",
     "output_type": "stream",
     "text": [
      "epoch: 180 loss:0.190669 auc:0.9483\n",
      "Fit finished.\n",
      "epoch:   0 loss:0.928168 auc:0.2241\n",
      "epoch:  20 loss:0.293260 auc:0.9680\n",
      "epoch:  40 loss:0.227745 auc:0.9680\n",
      "epoch:  60 loss:0.214062 auc:0.9649\n",
      "epoch:  80 loss:0.208053 auc:0.9668\n",
      "epoch: 100 loss:0.203173 auc:0.9665\n",
      "epoch: 120 loss:0.198135 auc:0.9658\n",
      "epoch: 140 loss:0.194656 auc:0.9658\n",
      "epoch: 160 loss:0.193018 auc:0.9652\n"
     ]
    },
    {
     "name": "stderr",
     "output_type": "stream",
     "text": [
      " 22%|██▏       | 201/916 [41:12<1:44:23,  8.76s/it]"
     ]
    },
    {
     "name": "stdout",
     "output_type": "stream",
     "text": [
      "epoch: 180 loss:0.191960 auc:0.9652\n",
      "Fit finished.\n",
      "epoch:   0 loss:0.819014 auc:0.4938\n",
      "epoch:  20 loss:0.332676 auc:0.9617\n",
      "epoch:  40 loss:0.242238 auc:0.9675\n",
      "epoch:  60 loss:0.215850 auc:0.9696\n",
      "epoch:  80 loss:0.206420 auc:0.9706\n",
      "epoch: 100 loss:0.198976 auc:0.9711\n",
      "epoch: 120 loss:0.194954 auc:0.9706\n",
      "epoch: 140 loss:0.192872 auc:0.9706\n",
      "epoch: 160 loss:0.192713 auc:0.9717\n",
      "epoch: 180 loss:0.191002 auc:0.9714\n",
      "epoch: 200 loss:0.190040 auc:0.9716\n",
      "epoch: 220 loss:0.189623 auc:0.9729\n",
      "epoch: 240 loss:0.188426 auc:0.9727\n",
      "epoch: 260 loss:0.188398 auc:0.9721\n",
      "epoch: 280 loss:0.186443 auc:0.9729\n",
      "epoch: 300 loss:0.186757 auc:0.9739\n",
      "epoch: 320 loss:0.184507 auc:0.9721\n"
     ]
    },
    {
     "name": "stderr",
     "output_type": "stream",
     "text": [
      " 22%|██▏       | 202/916 [41:28<2:09:23, 10.87s/it]"
     ]
    },
    {
     "name": "stdout",
     "output_type": "stream",
     "text": [
      "epoch: 340 loss:0.182331 auc:0.9689\n",
      "Fit finished.\n",
      "epoch:   0 loss:0.877488 auc:0.7998\n",
      "epoch:  20 loss:0.306984 auc:0.9511\n",
      "epoch:  40 loss:0.232621 auc:0.9583\n",
      "epoch:  60 loss:0.216329 auc:0.9605\n",
      "epoch:  80 loss:0.210221 auc:0.9592\n",
      "epoch: 100 loss:0.206046 auc:0.9594\n",
      "epoch: 120 loss:0.201525 auc:0.9589\n",
      "epoch: 140 loss:0.197080 auc:0.9592\n",
      "epoch: 160 loss:0.194354 auc:0.9592\n",
      "epoch: 180 loss:0.192880 auc:0.9589\n",
      "epoch: 200 loss:0.191846 auc:0.9592\n"
     ]
    },
    {
     "name": "stderr",
     "output_type": "stream",
     "text": [
      " 22%|██▏       | 203/916 [41:38<2:08:33, 10.82s/it]"
     ]
    },
    {
     "name": "stdout",
     "output_type": "stream",
     "text": [
      "epoch: 220 loss:0.191052 auc:0.9597\n",
      "Fit finished.\n",
      "epoch:   0 loss:1.029110 auc:0.8236\n",
      "epoch:  20 loss:0.314916 auc:0.9600\n",
      "epoch:  40 loss:0.234610 auc:0.9598\n",
      "epoch:  60 loss:0.218149 auc:0.9646\n",
      "epoch:  80 loss:0.211510 auc:0.9669\n",
      "epoch: 100 loss:0.207513 auc:0.9668\n",
      "epoch: 120 loss:0.203451 auc:0.9660\n",
      "epoch: 140 loss:0.199040 auc:0.9655\n",
      "epoch: 160 loss:0.195450 auc:0.9653\n",
      "epoch: 180 loss:0.193360 auc:0.9655\n",
      "epoch: 200 loss:0.192123 auc:0.9653\n",
      "epoch: 220 loss:0.191181 auc:0.9648\n"
     ]
    },
    {
     "name": "stderr",
     "output_type": "stream",
     "text": [
      " 22%|██▏       | 204/916 [41:50<2:09:29, 10.91s/it]"
     ]
    },
    {
     "name": "stdout",
     "output_type": "stream",
     "text": [
      "epoch: 240 loss:0.190352 auc:0.9643\n",
      "Fit finished.\n",
      "epoch:   0 loss:1.108000 auc:0.7120\n",
      "epoch:  20 loss:0.310451 auc:0.9185\n",
      "epoch:  40 loss:0.237082 auc:0.9217\n",
      "epoch:  60 loss:0.219201 auc:0.9160\n",
      "epoch:  80 loss:0.211181 auc:0.9163\n",
      "epoch: 100 loss:0.206127 auc:0.9160\n",
      "epoch: 120 loss:0.201245 auc:0.9160\n",
      "epoch: 140 loss:0.196451 auc:0.9174\n",
      "epoch: 160 loss:0.193941 auc:0.9167\n"
     ]
    },
    {
     "name": "stderr",
     "output_type": "stream",
     "text": [
      " 22%|██▏       | 205/916 [41:58<2:00:01, 10.13s/it]"
     ]
    },
    {
     "name": "stdout",
     "output_type": "stream",
     "text": [
      "epoch: 180 loss:0.192491 auc:0.9160\n",
      "Fit finished.\n",
      "epoch:   0 loss:0.851055 auc:0.4718\n",
      "epoch:  20 loss:0.292580 auc:0.9476\n",
      "epoch:  40 loss:0.228748 auc:0.9410\n",
      "epoch:  60 loss:0.214037 auc:0.9414\n",
      "epoch:  80 loss:0.208304 auc:0.9410\n",
      "epoch: 100 loss:0.203663 auc:0.9416\n",
      "epoch: 120 loss:0.198621 auc:0.9419\n",
      "epoch: 140 loss:0.194788 auc:0.9419\n",
      "epoch: 160 loss:0.192988 auc:0.9416\n"
     ]
    },
    {
     "name": "stderr",
     "output_type": "stream",
     "text": [
      " 23%|██▎       | 207/916 [42:06<1:27:29,  7.40s/it]"
     ]
    },
    {
     "name": "stdout",
     "output_type": "stream",
     "text": [
      "epoch: 180 loss:0.191795 auc:0.9414\n",
      "Fit finished.\n",
      "epoch:   0 loss:0.531826 auc:0.6510\n",
      "epoch:  20 loss:0.290630 auc:0.9756\n",
      "epoch:  40 loss:0.225376 auc:0.9772\n",
      "epoch:  60 loss:0.209772 auc:0.9816\n",
      "epoch:  80 loss:0.202902 auc:0.9817\n",
      "epoch: 100 loss:0.196793 auc:0.9822\n",
      "epoch: 120 loss:0.194161 auc:0.9811\n",
      "epoch: 140 loss:0.192768 auc:0.9808\n",
      "epoch: 160 loss:0.191630 auc:0.9801\n",
      "epoch: 180 loss:0.190576 auc:0.9787\n",
      "epoch: 200 loss:0.190104 auc:0.9782\n"
     ]
    },
    {
     "name": "stderr",
     "output_type": "stream",
     "text": [
      " 23%|██▎       | 208/916 [42:16<1:33:14,  7.90s/it]"
     ]
    },
    {
     "name": "stdout",
     "output_type": "stream",
     "text": [
      "epoch: 220 loss:0.188807 auc:0.9769\n",
      "Fit finished.\n",
      "epoch:   0 loss:0.670422 auc:0.4533\n",
      "epoch:  20 loss:0.272280 auc:0.9564\n",
      "epoch:  40 loss:0.223368 auc:0.9564\n",
      "epoch:  60 loss:0.211338 auc:0.9584\n",
      "epoch:  80 loss:0.205317 auc:0.9589\n",
      "epoch: 100 loss:0.199389 auc:0.9579\n",
      "epoch: 120 loss:0.194962 auc:0.9589\n",
      "epoch: 140 loss:0.192956 auc:0.9577\n",
      "epoch: 160 loss:0.191535 auc:0.9557\n"
     ]
    },
    {
     "name": "stderr",
     "output_type": "stream",
     "text": [
      " 23%|██▎       | 209/916 [42:24<1:34:04,  7.98s/it]"
     ]
    },
    {
     "name": "stdout",
     "output_type": "stream",
     "text": [
      "epoch: 180 loss:0.190091 auc:0.9534\n",
      "Fit finished.\n",
      "epoch:   0 loss:0.752028 auc:0.6349\n",
      "epoch:  20 loss:0.273749 auc:0.9796\n",
      "epoch:  40 loss:0.220694 auc:0.9790\n",
      "epoch:  60 loss:0.209406 auc:0.9779\n",
      "epoch:  80 loss:0.203356 auc:0.9768\n",
      "epoch: 100 loss:0.197420 auc:0.9762\n",
      "epoch: 120 loss:0.194152 auc:0.9768\n",
      "epoch: 140 loss:0.192515 auc:0.9768\n",
      "epoch: 160 loss:0.191187 auc:0.9756\n"
     ]
    },
    {
     "name": "stderr",
     "output_type": "stream",
     "text": [
      " 23%|██▎       | 210/916 [42:32<1:34:37,  8.04s/it]"
     ]
    },
    {
     "name": "stdout",
     "output_type": "stream",
     "text": [
      "epoch: 180 loss:0.191987 auc:0.9745\n",
      "Fit finished.\n",
      "epoch:   0 loss:0.719390 auc:0.3927\n",
      "epoch:  20 loss:0.287591 auc:0.9298\n",
      "epoch:  40 loss:0.227463 auc:0.9383\n",
      "epoch:  60 loss:0.213631 auc:0.9491\n",
      "epoch:  80 loss:0.208158 auc:0.9522\n",
      "epoch: 100 loss:0.203082 auc:0.9529\n",
      "epoch: 120 loss:0.197359 auc:0.9522\n",
      "epoch: 140 loss:0.196909 auc:0.9514\n",
      "epoch: 160 loss:0.193079 auc:0.9491\n",
      "epoch: 180 loss:0.191959 auc:0.9506\n",
      "epoch: 200 loss:0.191089 auc:0.9514\n",
      "epoch: 220 loss:0.190245 auc:0.9537\n",
      "epoch: 240 loss:0.189482 auc:0.9545\n",
      "epoch: 260 loss:0.188583 auc:0.9552\n",
      "epoch: 280 loss:0.187148 auc:0.9568\n",
      "epoch: 300 loss:0.187468 auc:0.9576\n",
      "epoch: 320 loss:0.184401 auc:0.9606\n",
      "epoch: 340 loss:0.184445 auc:0.9653\n",
      "epoch: 360 loss:0.181450 auc:0.9653\n",
      "epoch: 380 loss:0.179250 auc:0.9645\n",
      "epoch: 400 loss:0.176957 auc:0.9653\n",
      "epoch: 420 loss:0.175772 auc:0.9653\n",
      "epoch: 440 loss:0.171768 auc:0.9676\n",
      "epoch: 460 loss:0.170300 auc:0.9668\n",
      "epoch: 480 loss:0.171994 auc:0.9691\n",
      "epoch: 500 loss:0.167734 auc:0.9676\n",
      "epoch: 520 loss:0.167441 auc:0.9691\n"
     ]
    },
    {
     "name": "stderr",
     "output_type": "stream",
     "text": [
      " 23%|██▎       | 211/916 [42:56<2:27:44, 12.57s/it]"
     ]
    },
    {
     "name": "stdout",
     "output_type": "stream",
     "text": [
      "epoch: 540 loss:0.169520 auc:0.9630\n",
      "Fit finished.\n",
      "epoch:   0 loss:0.723209 auc:0.3483\n",
      "epoch:  20 loss:0.250300 auc:0.9885\n",
      "epoch:  40 loss:0.219111 auc:0.9819\n",
      "epoch:  60 loss:0.210363 auc:0.9830\n",
      "epoch:  80 loss:0.204809 auc:0.9837\n",
      "epoch: 100 loss:0.197872 auc:0.9832\n",
      "epoch: 120 loss:0.193897 auc:0.9832\n",
      "epoch: 140 loss:0.192312 auc:0.9828\n",
      "epoch: 160 loss:0.191161 auc:0.9826\n"
     ]
    },
    {
     "name": "stderr",
     "output_type": "stream",
     "text": [
      " 23%|██▎       | 212/916 [43:05<2:13:17, 11.36s/it]"
     ]
    },
    {
     "name": "stdout",
     "output_type": "stream",
     "text": [
      "epoch: 180 loss:0.191056 auc:0.9791\n",
      "Fit finished.\n",
      "epoch:   0 loss:1.007396 auc:0.8360\n",
      "epoch:  20 loss:0.340627 auc:0.9540\n",
      "epoch:  40 loss:0.253510 auc:0.9572\n",
      "epoch:  60 loss:0.220285 auc:0.9582\n",
      "epoch:  80 loss:0.210446 auc:0.9607\n",
      "epoch: 100 loss:0.204871 auc:0.9599\n",
      "epoch: 120 loss:0.199402 auc:0.9594\n",
      "epoch: 140 loss:0.195289 auc:0.9588\n",
      "epoch: 160 loss:0.193532 auc:0.9592\n",
      "epoch: 180 loss:0.192403 auc:0.9594\n",
      "epoch: 200 loss:0.191524 auc:0.9591\n",
      "epoch: 220 loss:0.190749 auc:0.9592\n"
     ]
    },
    {
     "name": "stderr",
     "output_type": "stream",
     "text": [
      " 23%|██▎       | 213/916 [43:16<2:13:09, 11.36s/it]"
     ]
    },
    {
     "name": "stdout",
     "output_type": "stream",
     "text": [
      "epoch: 240 loss:0.191104 auc:0.9595\n",
      "Fit finished.\n",
      "epoch:   0 loss:0.517955 auc:0.5441\n",
      "epoch:  20 loss:0.261158 auc:0.8869\n",
      "epoch:  40 loss:0.218844 auc:0.8836\n",
      "epoch:  60 loss:0.208855 auc:0.8844\n",
      "epoch:  80 loss:0.202439 auc:0.8863\n",
      "epoch: 100 loss:0.196140 auc:0.8870\n",
      "epoch: 120 loss:0.193170 auc:0.8876\n",
      "epoch: 140 loss:0.191577 auc:0.8856\n",
      "epoch: 160 loss:0.191285 auc:0.8777\n"
     ]
    },
    {
     "name": "stderr",
     "output_type": "stream",
     "text": [
      " 23%|██▎       | 214/916 [43:24<2:02:42, 10.49s/it]"
     ]
    },
    {
     "name": "stdout",
     "output_type": "stream",
     "text": [
      "epoch: 180 loss:0.189220 auc:0.8734\n",
      "Fit finished.\n",
      "epoch:   0 loss:0.671251 auc:0.8290\n",
      "epoch:  20 loss:0.310876 auc:0.9809\n",
      "epoch:  40 loss:0.231788 auc:0.9814\n",
      "epoch:  60 loss:0.215317 auc:0.9835\n",
      "epoch:  80 loss:0.207908 auc:0.9835\n",
      "epoch: 100 loss:0.202387 auc:0.9840\n",
      "epoch: 120 loss:0.196984 auc:0.9845\n",
      "epoch: 140 loss:0.194025 auc:0.9850\n",
      "epoch: 160 loss:0.192535 auc:0.9855\n",
      "epoch: 180 loss:0.191835 auc:0.9855\n",
      "epoch: 200 loss:0.190626 auc:0.9861\n",
      "epoch: 220 loss:0.190437 auc:0.9861\n",
      "epoch: 240 loss:0.189002 auc:0.9866\n",
      "epoch: 260 loss:0.188140 auc:0.9861\n",
      "epoch: 280 loss:0.186890 auc:0.9866\n",
      "epoch: 300 loss:0.186976 auc:0.9876\n",
      "epoch: 320 loss:0.187106 auc:0.9876\n",
      "epoch: 340 loss:0.182769 auc:0.9871\n",
      "epoch: 360 loss:0.195273 auc:0.9866\n"
     ]
    },
    {
     "name": "stderr",
     "output_type": "stream",
     "text": [
      " 23%|██▎       | 215/916 [43:41<2:24:38, 12.38s/it]"
     ]
    },
    {
     "name": "stdout",
     "output_type": "stream",
     "text": [
      "epoch: 380 loss:0.182307 auc:0.9845\n",
      "Fit finished.\n",
      "epoch:   0 loss:0.631664 auc:0.6878\n",
      "epoch:  20 loss:0.307608 auc:0.9546\n",
      "epoch:  40 loss:0.231721 auc:0.9623\n",
      "epoch:  60 loss:0.212798 auc:0.9666\n",
      "epoch:  80 loss:0.205772 auc:0.9666\n",
      "epoch: 100 loss:0.200596 auc:0.9639\n",
      "epoch: 120 loss:0.196434 auc:0.9635\n",
      "epoch: 140 loss:0.194175 auc:0.9635\n",
      "epoch: 160 loss:0.192905 auc:0.9635\n",
      "epoch: 180 loss:0.191947 auc:0.9635\n",
      "epoch: 200 loss:0.191124 auc:0.9639\n"
     ]
    },
    {
     "name": "stderr",
     "output_type": "stream",
     "text": [
      " 24%|██▎       | 216/916 [43:52<2:18:58, 11.91s/it]"
     ]
    },
    {
     "name": "stdout",
     "output_type": "stream",
     "text": [
      "epoch: 220 loss:0.190335 auc:0.9642\n",
      "Fit finished.\n",
      "epoch:   0 loss:1.208675 auc:0.6016\n",
      "epoch:  20 loss:0.337191 auc:0.9110\n",
      "epoch:  40 loss:0.262986 auc:0.9298\n",
      "epoch:  60 loss:0.224036 auc:0.9355\n",
      "epoch:  80 loss:0.212381 auc:0.9322\n",
      "epoch: 100 loss:0.206203 auc:0.9322\n",
      "epoch: 120 loss:0.200728 auc:0.9339\n",
      "epoch: 140 loss:0.196084 auc:0.9331\n",
      "epoch: 160 loss:0.193913 auc:0.9339\n",
      "epoch: 180 loss:0.192721 auc:0.9331\n",
      "epoch: 200 loss:0.192056 auc:0.9331\n"
     ]
    },
    {
     "name": "stderr",
     "output_type": "stream",
     "text": [
      " 24%|██▎       | 217/916 [44:03<2:13:55, 11.50s/it]"
     ]
    },
    {
     "name": "stdout",
     "output_type": "stream",
     "text": [
      "epoch: 220 loss:0.191372 auc:0.9339\n",
      "Fit finished.\n",
      "epoch:   0 loss:1.060921 auc:0.5713\n",
      "epoch:  20 loss:0.322731 auc:0.9750\n",
      "epoch:  40 loss:0.239950 auc:0.9750\n",
      "epoch:  60 loss:0.216833 auc:0.9729\n",
      "epoch:  80 loss:0.209554 auc:0.9729\n",
      "epoch: 100 loss:0.204674 auc:0.9740\n",
      "epoch: 120 loss:0.199843 auc:0.9740\n",
      "epoch: 140 loss:0.195707 auc:0.9740\n",
      "epoch: 160 loss:0.193814 auc:0.9729\n"
     ]
    },
    {
     "name": "stderr",
     "output_type": "stream",
     "text": [
      " 24%|██▍       | 218/916 [44:11<2:02:28, 10.53s/it]"
     ]
    },
    {
     "name": "stdout",
     "output_type": "stream",
     "text": [
      "epoch: 180 loss:0.192700 auc:0.9729\n",
      "Fit finished.\n",
      "epoch:   0 loss:0.710575 auc:0.8182\n",
      "epoch:  20 loss:0.305681 auc:0.9529\n",
      "epoch:  40 loss:0.227684 auc:0.9589\n",
      "epoch:  60 loss:0.211231 auc:0.9597\n",
      "epoch:  80 loss:0.203936 auc:0.9576\n",
      "epoch: 100 loss:0.198112 auc:0.9581\n",
      "epoch: 120 loss:0.194764 auc:0.9581\n",
      "epoch: 140 loss:0.193119 auc:0.9581\n",
      "epoch: 160 loss:0.191942 auc:0.9579\n",
      "epoch: 180 loss:0.190958 auc:0.9579\n"
     ]
    },
    {
     "name": "stderr",
     "output_type": "stream",
     "text": [
      " 24%|██▍       | 219/916 [44:20<1:58:54, 10.24s/it]"
     ]
    },
    {
     "name": "stdout",
     "output_type": "stream",
     "text": [
      "epoch: 200 loss:0.190034 auc:0.9586\n",
      "Fit finished.\n",
      "epoch:   0 loss:0.630683 auc:0.2157\n",
      "epoch:  20 loss:0.280594 auc:0.9242\n",
      "epoch:  40 loss:0.224444 auc:0.9296\n",
      "epoch:  60 loss:0.211220 auc:0.9311\n",
      "epoch:  80 loss:0.204533 auc:0.9357\n",
      "epoch: 100 loss:0.197880 auc:0.9359\n",
      "epoch: 120 loss:0.194779 auc:0.9362\n",
      "epoch: 140 loss:0.192516 auc:0.9366\n",
      "epoch: 160 loss:0.192246 auc:0.9358\n",
      "epoch: 180 loss:0.190447 auc:0.9355\n",
      "epoch: 200 loss:0.189851 auc:0.9334\n"
     ]
    },
    {
     "name": "stderr",
     "output_type": "stream",
     "text": [
      " 24%|██▍       | 220/916 [44:31<1:58:36, 10.23s/it]"
     ]
    },
    {
     "name": "stdout",
     "output_type": "stream",
     "text": [
      "epoch: 220 loss:0.189294 auc:0.9291\n",
      "Fit finished.\n",
      "epoch:   0 loss:0.550878 auc:0.5622\n",
      "epoch:  20 loss:0.254300 auc:0.8705\n",
      "epoch:  40 loss:0.215478 auc:0.8687\n",
      "epoch:  60 loss:0.206429 auc:0.8696\n",
      "epoch:  80 loss:0.199508 auc:0.8687\n",
      "epoch: 100 loss:0.194724 auc:0.8696\n",
      "epoch: 120 loss:0.192300 auc:0.8714\n",
      "epoch: 140 loss:0.191542 auc:0.8732\n",
      "epoch: 160 loss:0.189084 auc:0.8764\n",
      "epoch: 180 loss:0.190898 auc:0.8818\n",
      "epoch: 200 loss:0.186443 auc:0.8841\n",
      "epoch: 220 loss:0.192117 auc:0.8859\n",
      "epoch: 240 loss:0.183323 auc:0.8832\n",
      "epoch: 260 loss:0.180487 auc:0.8868\n",
      "epoch: 280 loss:0.177592 auc:0.8873\n",
      "epoch: 300 loss:0.176807 auc:0.8828\n"
     ]
    },
    {
     "name": "stderr",
     "output_type": "stream",
     "text": [
      " 24%|██▍       | 221/916 [44:46<2:16:22, 11.77s/it]"
     ]
    },
    {
     "name": "stdout",
     "output_type": "stream",
     "text": [
      "epoch: 320 loss:0.173607 auc:0.8656\n",
      "Fit finished.\n",
      "epoch:   0 loss:0.815490 auc:0.5043\n",
      "epoch:  20 loss:0.338956 auc:0.9708\n",
      "epoch:  40 loss:0.257758 auc:0.9737\n",
      "epoch:  60 loss:0.221765 auc:0.9762\n",
      "epoch:  80 loss:0.209699 auc:0.9755\n",
      "epoch: 100 loss:0.202804 auc:0.9764\n",
      "epoch: 120 loss:0.197070 auc:0.9766\n",
      "epoch: 140 loss:0.194160 auc:0.9764\n",
      "epoch: 160 loss:0.192657 auc:0.9759\n",
      "epoch: 180 loss:0.191561 auc:0.9771\n",
      "epoch: 200 loss:0.191016 auc:0.9773\n",
      "epoch: 220 loss:0.190004 auc:0.9782\n",
      "epoch: 240 loss:0.189366 auc:0.9784\n",
      "epoch: 260 loss:0.188526 auc:0.9791\n",
      "epoch: 280 loss:0.188764 auc:0.9788\n",
      "epoch: 300 loss:0.186650 auc:0.9802\n",
      "epoch: 320 loss:0.185972 auc:0.9777\n"
     ]
    },
    {
     "name": "stderr",
     "output_type": "stream",
     "text": [
      " 24%|██▍       | 222/916 [45:00<2:23:38, 12.42s/it]"
     ]
    },
    {
     "name": "stdout",
     "output_type": "stream",
     "text": [
      "epoch: 340 loss:0.185370 auc:0.9746\n",
      "Fit finished.\n",
      "epoch:   0 loss:0.820067 auc:0.8617\n",
      "epoch:  20 loss:0.319587 auc:0.9700\n",
      "epoch:  40 loss:0.238813 auc:0.9724\n",
      "epoch:  60 loss:0.218099 auc:0.9730\n",
      "epoch:  80 loss:0.210212 auc:0.9734\n",
      "epoch: 100 loss:0.205534 auc:0.9734\n",
      "epoch: 120 loss:0.200719 auc:0.9734\n",
      "epoch: 140 loss:0.196080 auc:0.9730\n",
      "epoch: 160 loss:0.193640 auc:0.9724\n",
      "epoch: 180 loss:0.192305 auc:0.9728\n",
      "epoch: 200 loss:0.191332 auc:0.9736\n",
      "epoch: 220 loss:0.192489 auc:0.9732\n",
      "epoch: 240 loss:0.189843 auc:0.9742\n",
      "epoch: 260 loss:0.188857 auc:0.9734\n"
     ]
    },
    {
     "name": "stderr",
     "output_type": "stream",
     "text": [
      " 24%|██▍       | 223/916 [45:11<2:20:17, 12.15s/it]"
     ]
    },
    {
     "name": "stdout",
     "output_type": "stream",
     "text": [
      "epoch: 280 loss:0.188000 auc:0.9730\n",
      "Fit finished.\n",
      "epoch:   0 loss:0.577996 auc:0.3620\n",
      "epoch:  20 loss:0.296082 auc:0.9440\n",
      "epoch:  40 loss:0.229331 auc:0.9406\n",
      "epoch:  60 loss:0.212869 auc:0.9406\n",
      "epoch:  80 loss:0.206396 auc:0.9403\n",
      "epoch: 100 loss:0.200925 auc:0.9420\n",
      "epoch: 120 loss:0.195938 auc:0.9424\n",
      "epoch: 140 loss:0.193569 auc:0.9422\n",
      "epoch: 160 loss:0.192132 auc:0.9422\n"
     ]
    },
    {
     "name": "stderr",
     "output_type": "stream",
     "text": [
      " 24%|██▍       | 224/916 [45:21<2:11:29, 11.40s/it]"
     ]
    },
    {
     "name": "stdout",
     "output_type": "stream",
     "text": [
      "epoch: 180 loss:0.190947 auc:0.9417\n",
      "Fit finished.\n",
      "epoch:   0 loss:0.759574 auc:0.1543\n",
      "epoch:  20 loss:0.254364 auc:0.9116\n",
      "epoch:  40 loss:0.220337 auc:0.9159\n",
      "epoch:  60 loss:0.211002 auc:0.9161\n",
      "epoch:  80 loss:0.205746 auc:0.9156\n",
      "epoch: 100 loss:0.199510 auc:0.9164\n",
      "epoch: 120 loss:0.194568 auc:0.9161\n",
      "epoch: 140 loss:0.192425 auc:0.9166\n",
      "epoch: 160 loss:0.191441 auc:0.9182\n",
      "epoch: 180 loss:0.189962 auc:0.9195\n",
      "epoch: 200 loss:0.189348 auc:0.9200\n",
      "epoch: 220 loss:0.191298 auc:0.9202\n",
      "epoch: 240 loss:0.187835 auc:0.9221\n",
      "epoch: 260 loss:0.185854 auc:0.9200\n"
     ]
    },
    {
     "name": "stderr",
     "output_type": "stream",
     "text": [
      " 25%|██▍       | 225/916 [45:33<2:13:33, 11.60s/it]"
     ]
    },
    {
     "name": "stdout",
     "output_type": "stream",
     "text": [
      "epoch: 280 loss:0.184068 auc:0.9129\n",
      "Fit finished.\n",
      "epoch:   0 loss:0.831978 auc:0.3202\n",
      "epoch:  20 loss:0.311147 auc:0.9365\n",
      "epoch:  40 loss:0.226883 auc:0.9428\n",
      "epoch:  60 loss:0.214152 auc:0.9467\n",
      "epoch:  80 loss:0.208304 auc:0.9488\n",
      "epoch: 100 loss:0.203715 auc:0.9485\n",
      "epoch: 120 loss:0.198383 auc:0.9482\n",
      "epoch: 140 loss:0.194470 auc:0.9490\n",
      "epoch: 160 loss:0.192753 auc:0.9490\n",
      "epoch: 180 loss:0.191685 auc:0.9485\n",
      "epoch: 200 loss:0.193457 auc:0.9475\n",
      "epoch: 220 loss:0.190678 auc:0.9482\n"
     ]
    },
    {
     "name": "stderr",
     "output_type": "stream",
     "text": [
      " 25%|██▍       | 226/916 [45:45<2:14:29, 11.69s/it]"
     ]
    },
    {
     "name": "stdout",
     "output_type": "stream",
     "text": [
      "epoch: 240 loss:0.189592 auc:0.9477\n",
      "Fit finished.\n",
      "epoch:   0 loss:0.499004 auc:0.6823\n",
      "epoch:  20 loss:0.237501 auc:0.9822\n",
      "epoch:  40 loss:0.212879 auc:0.9826\n",
      "epoch:  60 loss:0.202475 auc:0.9822\n",
      "epoch:  80 loss:0.195452 auc:0.9831\n",
      "epoch: 100 loss:0.193430 auc:0.9835\n",
      "epoch: 120 loss:0.191996 auc:0.9857\n",
      "epoch: 140 loss:0.193356 auc:0.9852\n",
      "epoch: 160 loss:0.191275 auc:0.9874\n",
      "epoch: 180 loss:0.186183 auc:0.9874\n",
      "epoch: 200 loss:0.184515 auc:0.9896\n",
      "epoch: 220 loss:0.182035 auc:0.9909\n",
      "epoch: 240 loss:0.180014 auc:0.9935\n",
      "epoch: 260 loss:0.180069 auc:0.9839\n",
      "epoch: 280 loss:0.171608 auc:0.9905\n",
      "epoch: 300 loss:0.169543 auc:0.9870\n",
      "epoch: 320 loss:0.166671 auc:0.9874\n"
     ]
    },
    {
     "name": "stderr",
     "output_type": "stream",
     "text": [
      " 25%|██▍       | 227/916 [46:00<2:26:03, 12.72s/it]"
     ]
    },
    {
     "name": "stdout",
     "output_type": "stream",
     "text": [
      "epoch: 340 loss:0.164568 auc:0.9818\n",
      "Fit finished.\n",
      "epoch:   0 loss:0.835800 auc:0.2884\n",
      "epoch:  20 loss:0.301727 auc:0.9820\n",
      "epoch:  40 loss:0.229356 auc:0.9865\n",
      "epoch:  60 loss:0.214011 auc:0.9886\n",
      "epoch:  80 loss:0.208259 auc:0.9886\n",
      "epoch: 100 loss:0.203549 auc:0.9892\n",
      "epoch: 120 loss:0.197822 auc:0.9892\n",
      "epoch: 140 loss:0.194024 auc:0.9886\n",
      "epoch: 160 loss:0.192215 auc:0.9882\n",
      "epoch: 180 loss:0.190816 auc:0.9886\n",
      "epoch: 200 loss:0.189742 auc:0.9890\n",
      "epoch: 220 loss:0.188771 auc:0.9898\n",
      "epoch: 240 loss:0.187033 auc:0.9886\n"
     ]
    },
    {
     "name": "stderr",
     "output_type": "stream",
     "text": [
      " 25%|██▍       | 228/916 [46:11<2:20:37, 12.26s/it]"
     ]
    },
    {
     "name": "stdout",
     "output_type": "stream",
     "text": [
      "epoch: 260 loss:0.185968 auc:0.9873\n",
      "Fit finished.\n",
      "epoch:   0 loss:0.545857 auc:0.7981\n",
      "epoch:  20 loss:0.304343 auc:0.9542\n",
      "epoch:  40 loss:0.234498 auc:0.9617\n",
      "epoch:  60 loss:0.217767 auc:0.9685\n",
      "epoch:  80 loss:0.209908 auc:0.9685\n",
      "epoch: 100 loss:0.204231 auc:0.9673\n",
      "epoch: 120 loss:0.198438 auc:0.9667\n",
      "epoch: 140 loss:0.194672 auc:0.9665\n",
      "epoch: 160 loss:0.192929 auc:0.9665\n",
      "epoch: 180 loss:0.191728 auc:0.9663\n",
      "epoch: 200 loss:0.194335 auc:0.9663\n"
     ]
    },
    {
     "name": "stderr",
     "output_type": "stream",
     "text": [
      " 25%|██▌       | 229/916 [46:22<2:13:22, 11.65s/it]"
     ]
    },
    {
     "name": "stdout",
     "output_type": "stream",
     "text": [
      "epoch: 220 loss:0.190103 auc:0.9657\n",
      "Fit finished.\n",
      "epoch:   0 loss:0.541900 auc:0.5814\n",
      "epoch:  20 loss:0.245829 auc:0.9747\n",
      "epoch:  40 loss:0.217214 auc:0.9733\n",
      "epoch:  60 loss:0.206820 auc:0.9719\n",
      "epoch:  80 loss:0.198480 auc:0.9753\n",
      "epoch: 100 loss:0.193875 auc:0.9742\n",
      "epoch: 120 loss:0.192084 auc:0.9761\n",
      "epoch: 140 loss:0.190509 auc:0.9794\n",
      "epoch: 160 loss:0.188761 auc:0.9825\n",
      "epoch: 180 loss:0.188577 auc:0.9850\n",
      "epoch: 200 loss:0.185266 auc:0.9856\n",
      "epoch: 220 loss:0.183755 auc:0.9847\n",
      "epoch: 240 loss:0.205247 auc:0.9844\n",
      "epoch: 260 loss:0.181821 auc:0.9822\n",
      "epoch: 280 loss:0.178266 auc:0.9842\n",
      "epoch: 300 loss:0.174723 auc:0.9828\n"
     ]
    },
    {
     "name": "stderr",
     "output_type": "stream",
     "text": [
      " 25%|██▌       | 230/916 [46:36<2:23:17, 12.53s/it]"
     ]
    },
    {
     "name": "stdout",
     "output_type": "stream",
     "text": [
      "epoch: 320 loss:0.177168 auc:0.9822\n",
      "Fit finished.\n",
      "epoch:   0 loss:1.456989 auc:0.8790\n",
      "epoch:  20 loss:0.332162 auc:0.9220\n",
      "epoch:  40 loss:0.253696 auc:0.9263\n",
      "epoch:  60 loss:0.223212 auc:0.9226\n",
      "epoch:  80 loss:0.211224 auc:0.9302\n",
      "epoch: 100 loss:0.205058 auc:0.9319\n",
      "epoch: 120 loss:0.199522 auc:0.9309\n",
      "epoch: 140 loss:0.195118 auc:0.9302\n",
      "epoch: 160 loss:0.193140 auc:0.9309\n",
      "epoch: 180 loss:0.191958 auc:0.9312\n",
      "epoch: 200 loss:0.191143 auc:0.9296\n",
      "epoch: 220 loss:0.190466 auc:0.9299\n"
     ]
    },
    {
     "name": "stderr",
     "output_type": "stream",
     "text": [
      " 25%|██▌       | 231/916 [46:47<2:18:44, 12.15s/it]"
     ]
    },
    {
     "name": "stdout",
     "output_type": "stream",
     "text": [
      "epoch: 240 loss:0.190264 auc:0.9276\n",
      "Fit finished.\n",
      "epoch:   0 loss:0.626582 auc:0.4831\n",
      "epoch:  20 loss:0.274038 auc:0.8574\n",
      "epoch:  40 loss:0.219798 auc:0.8606\n",
      "epoch:  60 loss:0.208465 auc:0.8596\n",
      "epoch:  80 loss:0.202529 auc:0.8608\n",
      "epoch: 100 loss:0.196668 auc:0.8616\n",
      "epoch: 120 loss:0.193491 auc:0.8643\n",
      "epoch: 140 loss:0.193087 auc:0.8641\n",
      "epoch: 160 loss:0.190958 auc:0.8600\n"
     ]
    },
    {
     "name": "stderr",
     "output_type": "stream",
     "text": [
      " 25%|██▌       | 232/916 [46:56<2:06:37, 11.11s/it]"
     ]
    },
    {
     "name": "stdout",
     "output_type": "stream",
     "text": [
      "epoch: 180 loss:0.189491 auc:0.8547\n",
      "Fit finished.\n",
      "epoch:   0 loss:1.010858 auc:0.8446\n",
      "epoch:  20 loss:0.337906 auc:0.9607\n",
      "epoch:  40 loss:0.258890 auc:0.9692\n",
      "epoch:  60 loss:0.222991 auc:0.9710\n",
      "epoch:  80 loss:0.211381 auc:0.9691\n",
      "epoch: 100 loss:0.205667 auc:0.9702\n",
      "epoch: 120 loss:0.200198 auc:0.9705\n",
      "epoch: 140 loss:0.195574 auc:0.9702\n",
      "epoch: 160 loss:0.193629 auc:0.9702\n",
      "epoch: 180 loss:0.192399 auc:0.9707\n",
      "epoch: 200 loss:0.191676 auc:0.9705\n"
     ]
    },
    {
     "name": "stderr",
     "output_type": "stream",
     "text": [
      " 25%|██▌       | 233/916 [47:06<2:01:07, 10.64s/it]"
     ]
    },
    {
     "name": "stdout",
     "output_type": "stream",
     "text": [
      "epoch: 220 loss:0.190812 auc:0.9708\n",
      "Fit finished.\n",
      "epoch:   0 loss:1.681754 auc:0.4304\n",
      "epoch:  20 loss:0.317160 auc:0.9468\n",
      "epoch:  40 loss:0.239343 auc:0.9453\n",
      "epoch:  60 loss:0.218282 auc:0.9473\n",
      "epoch:  80 loss:0.210858 auc:0.9467\n",
      "epoch: 100 loss:0.206074 auc:0.9468\n",
      "epoch: 120 loss:0.201345 auc:0.9481\n",
      "epoch: 140 loss:0.196633 auc:0.9478\n",
      "epoch: 160 loss:0.193955 auc:0.9459\n"
     ]
    },
    {
     "name": "stderr",
     "output_type": "stream",
     "text": [
      " 26%|██▌       | 234/916 [47:15<1:55:49, 10.19s/it]"
     ]
    },
    {
     "name": "stdout",
     "output_type": "stream",
     "text": [
      "epoch: 180 loss:0.192639 auc:0.9451\n",
      "Fit finished.\n",
      "epoch:   0 loss:0.799358 auc:0.6364\n",
      "epoch:  20 loss:0.315776 auc:0.9635\n",
      "epoch:  40 loss:0.234345 auc:0.9693\n",
      "epoch:  60 loss:0.215694 auc:0.9665\n",
      "epoch:  80 loss:0.208031 auc:0.9669\n",
      "epoch: 100 loss:0.202376 auc:0.9667\n",
      "epoch: 120 loss:0.196928 auc:0.9667\n",
      "epoch: 140 loss:0.194139 auc:0.9663\n",
      "epoch: 160 loss:0.192695 auc:0.9665\n",
      "epoch: 180 loss:0.191576 auc:0.9661\n"
     ]
    },
    {
     "name": "stderr",
     "output_type": "stream",
     "text": [
      " 26%|██▌       | 235/916 [47:24<1:51:30,  9.82s/it]"
     ]
    },
    {
     "name": "stdout",
     "output_type": "stream",
     "text": [
      "epoch: 200 loss:0.190651 auc:0.9659\n",
      "Fit finished.\n",
      "epoch:   0 loss:0.949237 auc:0.7518\n",
      "epoch:  20 loss:0.310627 auc:0.9822\n",
      "epoch:  40 loss:0.229343 auc:0.9856\n",
      "epoch:  60 loss:0.215638 auc:0.9871\n",
      "epoch:  80 loss:0.209836 auc:0.9863\n",
      "epoch: 100 loss:0.205601 auc:0.9863\n",
      "epoch: 120 loss:0.200659 auc:0.9859\n",
      "epoch: 140 loss:0.196061 auc:0.9863\n",
      "epoch: 160 loss:0.193782 auc:0.9867\n",
      "epoch: 180 loss:0.192464 auc:0.9867\n",
      "epoch: 200 loss:0.191474 auc:0.9863\n",
      "epoch: 220 loss:0.191291 auc:0.9871\n",
      "epoch: 240 loss:0.190306 auc:0.9871\n",
      "epoch: 260 loss:0.189613 auc:0.9867\n",
      "epoch: 280 loss:0.188743 auc:0.9863\n"
     ]
    },
    {
     "name": "stderr",
     "output_type": "stream",
     "text": [
      " 26%|██▌       | 236/916 [47:38<2:05:10, 11.04s/it]"
     ]
    },
    {
     "name": "stdout",
     "output_type": "stream",
     "text": [
      "epoch: 300 loss:0.192818 auc:0.9856\n",
      "Fit finished.\n",
      "epoch:   0 loss:0.823670 auc:0.3924\n",
      "epoch:  20 loss:0.325755 auc:0.9765\n",
      "epoch:  40 loss:0.236886 auc:0.9827\n",
      "epoch:  60 loss:0.218119 auc:0.9846\n",
      "epoch:  80 loss:0.211063 auc:0.9842\n",
      "epoch: 100 loss:0.206925 auc:0.9848\n",
      "epoch: 120 loss:0.202249 auc:0.9848\n",
      "epoch: 140 loss:0.196747 auc:0.9846\n",
      "epoch: 160 loss:0.193678 auc:0.9852\n",
      "epoch: 180 loss:0.192301 auc:0.9854\n",
      "epoch: 200 loss:0.191374 auc:0.9840\n"
     ]
    },
    {
     "name": "stderr",
     "output_type": "stream",
     "text": [
      " 26%|██▌       | 237/916 [47:47<2:00:27, 10.64s/it]"
     ]
    },
    {
     "name": "stdout",
     "output_type": "stream",
     "text": [
      "epoch: 220 loss:0.190633 auc:0.9827\n",
      "Fit finished.\n",
      "epoch:   0 loss:0.709083 auc:0.1732\n",
      "epoch:  20 loss:0.286139 auc:0.9691\n",
      "epoch:  40 loss:0.225908 auc:0.9735\n",
      "epoch:  60 loss:0.211568 auc:0.9774\n",
      "epoch:  80 loss:0.205592 auc:0.9777\n",
      "epoch: 100 loss:0.199601 auc:0.9761\n",
      "epoch: 120 loss:0.194748 auc:0.9764\n",
      "epoch: 140 loss:0.192796 auc:0.9767\n",
      "epoch: 160 loss:0.191828 auc:0.9770\n",
      "epoch: 180 loss:0.190666 auc:0.9777\n",
      "epoch: 200 loss:0.192295 auc:0.9786\n",
      "epoch: 220 loss:0.189209 auc:0.9786\n",
      "epoch: 240 loss:0.189365 auc:0.9790\n",
      "epoch: 260 loss:0.186873 auc:0.9790\n",
      "epoch: 280 loss:0.186731 auc:0.9783\n"
     ]
    },
    {
     "name": "stderr",
     "output_type": "stream",
     "text": [
      " 26%|██▌       | 238/916 [48:01<2:10:24, 11.54s/it]"
     ]
    },
    {
     "name": "stdout",
     "output_type": "stream",
     "text": [
      "epoch: 300 loss:0.184809 auc:0.9745\n",
      "Fit finished.\n",
      "epoch:   0 loss:0.920037 auc:0.6921\n",
      "epoch:  20 loss:0.337819 auc:0.8918\n",
      "epoch:  40 loss:0.256683 auc:0.8970\n",
      "epoch:  60 loss:0.221452 auc:0.9011\n",
      "epoch:  80 loss:0.209464 auc:0.8992\n",
      "epoch: 100 loss:0.202086 auc:0.8997\n",
      "epoch: 120 loss:0.196295 auc:0.8994\n",
      "epoch: 140 loss:0.193707 auc:0.9009\n",
      "epoch: 160 loss:0.192374 auc:0.9006\n",
      "epoch: 180 loss:0.191393 auc:0.8999\n",
      "epoch: 200 loss:0.190764 auc:0.9001\n"
     ]
    },
    {
     "name": "stderr",
     "output_type": "stream",
     "text": [
      " 26%|██▌       | 239/916 [48:10<2:00:14, 10.66s/it]"
     ]
    },
    {
     "name": "stdout",
     "output_type": "stream",
     "text": [
      "epoch: 220 loss:0.190023 auc:0.8999\n",
      "Fit finished.\n",
      "epoch:   0 loss:0.695149 auc:0.1853\n",
      "epoch:  20 loss:0.283952 auc:0.9527\n",
      "epoch:  40 loss:0.226305 auc:0.9544\n",
      "epoch:  60 loss:0.212175 auc:0.9553\n",
      "epoch:  80 loss:0.206239 auc:0.9527\n",
      "epoch: 100 loss:0.200749 auc:0.9531\n",
      "epoch: 120 loss:0.195959 auc:0.9531\n",
      "epoch: 140 loss:0.193548 auc:0.9544\n",
      "epoch: 160 loss:0.192203 auc:0.9536\n",
      "epoch: 180 loss:0.191145 auc:0.9536\n",
      "epoch: 200 loss:0.192714 auc:0.9549\n"
     ]
    },
    {
     "name": "stderr",
     "output_type": "stream",
     "text": [
      " 26%|██▌       | 240/916 [48:20<1:59:02, 10.57s/it]"
     ]
    },
    {
     "name": "stdout",
     "output_type": "stream",
     "text": [
      "epoch: 220 loss:0.189396 auc:0.9540\n",
      "Fit finished.\n",
      "epoch:   0 loss:0.739108 auc:0.6025\n",
      "epoch:  20 loss:0.328669 auc:0.9698\n",
      "epoch:  40 loss:0.248855 auc:0.9711\n",
      "epoch:  60 loss:0.221035 auc:0.9683\n",
      "epoch:  80 loss:0.212037 auc:0.9659\n",
      "epoch: 100 loss:0.206735 auc:0.9654\n",
      "epoch: 120 loss:0.201043 auc:0.9659\n",
      "epoch: 140 loss:0.195403 auc:0.9664\n",
      "epoch: 160 loss:0.193145 auc:0.9662\n"
     ]
    },
    {
     "name": "stderr",
     "output_type": "stream",
     "text": [
      " 26%|██▋       | 241/916 [48:29<1:52:42, 10.02s/it]"
     ]
    },
    {
     "name": "stdout",
     "output_type": "stream",
     "text": [
      "epoch: 180 loss:0.191924 auc:0.9662\n",
      "Fit finished.\n",
      "epoch:   0 loss:1.308948 auc:0.6925\n",
      "epoch:  20 loss:0.318629 auc:0.9686\n",
      "epoch:  40 loss:0.237809 auc:0.9728\n",
      "epoch:  60 loss:0.214641 auc:0.9769\n",
      "epoch:  80 loss:0.204371 auc:0.9750\n",
      "epoch: 100 loss:0.197230 auc:0.9747\n",
      "epoch: 120 loss:0.194189 auc:0.9762\n",
      "epoch: 140 loss:0.193721 auc:0.9750\n",
      "epoch: 160 loss:0.191691 auc:0.9757\n",
      "epoch: 180 loss:0.190974 auc:0.9757\n",
      "epoch: 200 loss:0.190957 auc:0.9755\n"
     ]
    },
    {
     "name": "stderr",
     "output_type": "stream",
     "text": [
      " 26%|██▋       | 242/916 [48:39<1:54:59, 10.24s/it]"
     ]
    },
    {
     "name": "stdout",
     "output_type": "stream",
     "text": [
      "epoch: 220 loss:0.189648 auc:0.9749\n",
      "Fit finished.\n",
      "epoch:   0 loss:0.878433 auc:0.1080\n",
      "epoch:  20 loss:0.287031 auc:0.9767\n",
      "epoch:  40 loss:0.224152 auc:0.9831\n",
      "epoch:  60 loss:0.213326 auc:0.9785\n",
      "epoch:  80 loss:0.208603 auc:0.9802\n",
      "epoch: 100 loss:0.203910 auc:0.9802\n",
      "epoch: 120 loss:0.198056 auc:0.9805\n",
      "epoch: 140 loss:0.194058 auc:0.9808\n",
      "epoch: 160 loss:0.192250 auc:0.9808\n",
      "epoch: 180 loss:0.192099 auc:0.9808\n"
     ]
    },
    {
     "name": "stderr",
     "output_type": "stream",
     "text": [
      " 27%|██▋       | 243/916 [48:49<1:52:28, 10.03s/it]"
     ]
    },
    {
     "name": "stdout",
     "output_type": "stream",
     "text": [
      "epoch: 200 loss:0.190062 auc:0.9805\n",
      "Fit finished.\n",
      "epoch:   0 loss:0.621789 auc:0.2443\n",
      "epoch:  20 loss:0.279107 auc:0.9370\n",
      "epoch:  40 loss:0.223319 auc:0.9365\n",
      "epoch:  60 loss:0.209802 auc:0.9341\n",
      "epoch:  80 loss:0.202039 auc:0.9343\n",
      "epoch: 100 loss:0.195683 auc:0.9334\n",
      "epoch: 120 loss:0.192994 auc:0.9343\n",
      "epoch: 140 loss:0.191625 auc:0.9332\n",
      "epoch: 160 loss:0.190357 auc:0.9315\n"
     ]
    },
    {
     "name": "stderr",
     "output_type": "stream",
     "text": [
      " 27%|██▋       | 244/916 [48:57<1:45:45,  9.44s/it]"
     ]
    },
    {
     "name": "stdout",
     "output_type": "stream",
     "text": [
      "epoch: 180 loss:0.193325 auc:0.9298\n",
      "Fit finished.\n",
      "epoch:   0 loss:0.958802 auc:0.3620\n",
      "epoch:  20 loss:0.321318 auc:0.9874\n",
      "epoch:  40 loss:0.244260 auc:0.9899\n",
      "epoch:  60 loss:0.218822 auc:0.9911\n",
      "epoch:  80 loss:0.210620 auc:0.9922\n",
      "epoch: 100 loss:0.205726 auc:0.9920\n",
      "epoch: 120 loss:0.201010 auc:0.9911\n",
      "epoch: 140 loss:0.196567 auc:0.9911\n",
      "epoch: 160 loss:0.194132 auc:0.9911\n",
      "epoch: 180 loss:0.192894 auc:0.9911\n",
      "epoch: 200 loss:0.191986 auc:0.9911\n",
      "epoch: 220 loss:0.191214 auc:0.9911\n"
     ]
    },
    {
     "name": "stderr",
     "output_type": "stream",
     "text": [
      " 27%|██▋       | 245/916 [49:09<1:52:14, 10.04s/it]"
     ]
    },
    {
     "name": "stdout",
     "output_type": "stream",
     "text": [
      "epoch: 240 loss:0.190477 auc:0.9914\n",
      "Fit finished.\n",
      "epoch:   0 loss:0.751463 auc:0.2180\n",
      "epoch:  20 loss:0.289919 auc:0.9638\n",
      "epoch:  40 loss:0.223830 auc:0.9706\n",
      "epoch:  60 loss:0.212004 auc:0.9741\n",
      "epoch:  80 loss:0.206566 auc:0.9734\n",
      "epoch: 100 loss:0.200837 auc:0.9741\n",
      "epoch: 120 loss:0.195323 auc:0.9736\n",
      "epoch: 140 loss:0.193131 auc:0.9736\n",
      "epoch: 160 loss:0.191933 auc:0.9730\n",
      "epoch: 180 loss:0.190789 auc:0.9720\n"
     ]
    },
    {
     "name": "stderr",
     "output_type": "stream",
     "text": [
      " 27%|██▋       | 246/916 [49:18<1:48:47,  9.74s/it]"
     ]
    },
    {
     "name": "stdout",
     "output_type": "stream",
     "text": [
      "epoch: 200 loss:0.189876 auc:0.9683\n",
      "Fit finished.\n",
      "epoch:   0 loss:1.080391 auc:0.4390\n",
      "epoch:  20 loss:0.312752 auc:0.9667\n",
      "epoch:  40 loss:0.236841 auc:0.9720\n",
      "epoch:  60 loss:0.217255 auc:0.9738\n",
      "epoch:  80 loss:0.208757 auc:0.9738\n",
      "epoch: 100 loss:0.202538 auc:0.9744\n",
      "epoch: 120 loss:0.197028 auc:0.9744\n",
      "epoch: 140 loss:0.194143 auc:0.9726\n",
      "epoch: 160 loss:0.192672 auc:0.9732\n",
      "epoch: 180 loss:0.191670 auc:0.9744\n",
      "epoch: 200 loss:0.190922 auc:0.9738\n",
      "epoch: 220 loss:0.190370 auc:0.9744\n",
      "epoch: 240 loss:0.190057 auc:0.9744\n",
      "epoch: 260 loss:0.190310 auc:0.9756\n",
      "epoch: 280 loss:0.188953 auc:0.9762\n",
      "epoch: 300 loss:0.188021 auc:0.9774\n",
      "epoch: 320 loss:0.187990 auc:0.9804\n",
      "epoch: 340 loss:0.186957 auc:0.9804\n",
      "epoch: 360 loss:0.185029 auc:0.9822\n",
      "epoch: 380 loss:0.190203 auc:0.9839\n",
      "epoch: 400 loss:0.184006 auc:0.9863\n",
      "epoch: 420 loss:0.181804 auc:0.9905\n",
      "epoch: 440 loss:0.179637 auc:0.9917\n",
      "epoch: 460 loss:0.181988 auc:0.9863\n",
      "epoch: 480 loss:0.176816 auc:0.9851\n",
      "epoch: 500 loss:0.173861 auc:0.9827\n",
      "epoch: 520 loss:0.174645 auc:0.9822\n"
     ]
    },
    {
     "name": "stderr",
     "output_type": "stream",
     "text": [
      " 27%|██▋       | 247/916 [49:43<2:41:04, 14.45s/it]"
     ]
    },
    {
     "name": "stdout",
     "output_type": "stream",
     "text": [
      "epoch: 540 loss:0.171753 auc:0.9792\n",
      "Fit finished.\n",
      "epoch:   0 loss:0.634658 auc:0.4325\n",
      "epoch:  20 loss:0.257764 auc:0.9650\n",
      "epoch:  40 loss:0.220836 auc:0.9650\n",
      "epoch:  60 loss:0.210470 auc:0.9650\n",
      "epoch:  80 loss:0.204382 auc:0.9625\n",
      "epoch: 100 loss:0.197661 auc:0.9625\n",
      "epoch: 120 loss:0.193884 auc:0.9625\n",
      "epoch: 140 loss:0.192049 auc:0.9625\n",
      "epoch: 160 loss:0.191507 auc:0.9625\n",
      "epoch: 180 loss:0.190104 auc:0.9675\n",
      "epoch: 200 loss:0.188277 auc:0.9650\n",
      "epoch: 220 loss:0.187111 auc:0.9675\n",
      "epoch: 240 loss:0.185125 auc:0.9675\n",
      "epoch: 260 loss:0.185654 auc:0.9675\n",
      "epoch: 280 loss:0.181876 auc:0.9675\n",
      "epoch: 300 loss:0.179217 auc:0.9675\n",
      "epoch: 320 loss:0.179184 auc:0.9675\n",
      "epoch: 340 loss:0.172347 auc:0.9700\n"
     ]
    },
    {
     "name": "stderr",
     "output_type": "stream",
     "text": [
      " 27%|██▋       | 248/916 [49:59<2:45:49, 14.89s/it]"
     ]
    },
    {
     "name": "stdout",
     "output_type": "stream",
     "text": [
      "epoch: 360 loss:0.170990 auc:0.9300\n",
      "Fit finished.\n",
      "epoch:   0 loss:0.787094 auc:0.6215\n",
      "epoch:  20 loss:0.337731 auc:0.9341\n",
      "epoch:  40 loss:0.254333 auc:0.9430\n",
      "epoch:  60 loss:0.219906 auc:0.9460\n",
      "epoch:  80 loss:0.210175 auc:0.9490\n",
      "epoch: 100 loss:0.204420 auc:0.9490\n",
      "epoch: 120 loss:0.198601 auc:0.9486\n",
      "epoch: 140 loss:0.194530 auc:0.9487\n",
      "epoch: 160 loss:0.192781 auc:0.9481\n",
      "epoch: 180 loss:0.191556 auc:0.9490\n",
      "epoch: 200 loss:0.190728 auc:0.9494\n",
      "epoch: 220 loss:0.189792 auc:0.9500\n"
     ]
    },
    {
     "name": "stderr",
     "output_type": "stream",
     "text": [
      " 27%|██▋       | 249/916 [50:09<2:29:01, 13.41s/it]"
     ]
    },
    {
     "name": "stdout",
     "output_type": "stream",
     "text": [
      "epoch: 240 loss:0.188976 auc:0.9482\n",
      "Fit finished.\n",
      "epoch:   0 loss:1.145608 auc:0.7959\n",
      "epoch:  20 loss:0.315143 auc:0.9505\n",
      "epoch:  40 loss:0.241099 auc:0.9557\n",
      "epoch:  60 loss:0.218104 auc:0.9588\n",
      "epoch:  80 loss:0.210146 auc:0.9583\n",
      "epoch: 100 loss:0.205199 auc:0.9583\n",
      "epoch: 120 loss:0.200219 auc:0.9581\n",
      "epoch: 140 loss:0.196014 auc:0.9581\n",
      "epoch: 160 loss:0.193970 auc:0.9577\n",
      "epoch: 180 loss:0.192740 auc:0.9572\n",
      "epoch: 200 loss:0.191802 auc:0.9575\n"
     ]
    },
    {
     "name": "stderr",
     "output_type": "stream",
     "text": [
      " 27%|██▋       | 250/916 [50:19<2:17:21, 12.37s/it]"
     ]
    },
    {
     "name": "stdout",
     "output_type": "stream",
     "text": [
      "epoch: 220 loss:0.191293 auc:0.9559\n",
      "Fit finished.\n",
      "epoch:   0 loss:0.665965 auc:0.3332\n",
      "epoch:  20 loss:0.268036 auc:0.9107\n",
      "epoch:  40 loss:0.218922 auc:0.9206\n",
      "epoch:  60 loss:0.208761 auc:0.9206\n",
      "epoch:  80 loss:0.201992 auc:0.9173\n",
      "epoch: 100 loss:0.195760 auc:0.9206\n",
      "epoch: 120 loss:0.193275 auc:0.9201\n",
      "epoch: 140 loss:0.191692 auc:0.9206\n",
      "epoch: 160 loss:0.192239 auc:0.9211\n",
      "epoch: 180 loss:0.190275 auc:0.9211\n",
      "epoch: 200 loss:0.188757 auc:0.9230\n",
      "epoch: 220 loss:0.191497 auc:0.9211\n",
      "epoch: 240 loss:0.187797 auc:0.9244\n",
      "epoch: 260 loss:0.185941 auc:0.9291\n",
      "epoch: 280 loss:0.185201 auc:0.9315\n",
      "epoch: 300 loss:0.182921 auc:0.9291\n",
      "epoch: 320 loss:0.181407 auc:0.9282\n",
      "epoch: 340 loss:0.183417 auc:0.9267\n",
      "epoch: 360 loss:0.173499 auc:0.9376\n",
      "epoch: 380 loss:0.172522 auc:0.9381\n",
      "epoch: 400 loss:0.169468 auc:0.9244\n",
      "epoch: 420 loss:0.164774 auc:0.9334\n"
     ]
    },
    {
     "name": "stderr",
     "output_type": "stream",
     "text": [
      " 27%|██▋       | 251/916 [50:39<2:42:11, 14.63s/it]"
     ]
    },
    {
     "name": "stdout",
     "output_type": "stream",
     "text": [
      "epoch: 440 loss:0.166039 auc:0.9296\n",
      "Fit finished.\n",
      "epoch:   0 loss:0.674348 auc:0.1551\n",
      "epoch:  20 loss:0.286087 auc:0.9889\n",
      "epoch:  40 loss:0.226011 auc:0.9889\n",
      "epoch:  60 loss:0.212975 auc:0.9889\n",
      "epoch:  80 loss:0.207578 auc:0.9834\n",
      "epoch: 100 loss:0.202254 auc:0.9861\n",
      "epoch: 120 loss:0.195930 auc:0.9861\n",
      "epoch: 140 loss:0.193032 auc:0.9834\n",
      "epoch: 160 loss:0.191642 auc:0.9861\n",
      "epoch: 180 loss:0.190310 auc:0.9889\n",
      "epoch: 200 loss:0.189861 auc:0.9917\n",
      "epoch: 220 loss:0.188060 auc:0.9945\n",
      "epoch: 240 loss:0.186152 auc:0.9945\n",
      "epoch: 260 loss:0.185002 auc:0.9945\n",
      "epoch: 280 loss:0.183363 auc:0.9889\n",
      "epoch: 300 loss:0.183568 auc:0.9889\n",
      "epoch: 320 loss:0.179989 auc:0.9945\n",
      "epoch: 340 loss:0.178256 auc:0.9917\n",
      "epoch: 360 loss:0.175904 auc:0.9917\n",
      "epoch: 380 loss:0.174683 auc:0.9945\n",
      "epoch: 400 loss:0.173776 auc:0.9945\n"
     ]
    },
    {
     "name": "stderr",
     "output_type": "stream",
     "text": [
      " 28%|██▊       | 252/916 [50:57<2:55:07, 15.82s/it]"
     ]
    },
    {
     "name": "stdout",
     "output_type": "stream",
     "text": [
      "epoch: 420 loss:0.172187 auc:0.9917\n",
      "Fit finished.\n",
      "epoch:   0 loss:0.751723 auc:0.2849\n",
      "epoch:  20 loss:0.261092 auc:0.9243\n",
      "epoch:  40 loss:0.218074 auc:0.9365\n",
      "epoch:  60 loss:0.208387 auc:0.9381\n",
      "epoch:  80 loss:0.202461 auc:0.9383\n",
      "epoch: 100 loss:0.196169 auc:0.9381\n",
      "epoch: 120 loss:0.193504 auc:0.9381\n",
      "epoch: 140 loss:0.192054 auc:0.9370\n",
      "epoch: 160 loss:0.191265 auc:0.9365\n",
      "epoch: 180 loss:0.190553 auc:0.9363\n"
     ]
    },
    {
     "name": "stderr",
     "output_type": "stream",
     "text": [
      " 28%|██▊       | 253/916 [51:06<2:31:06, 13.68s/it]"
     ]
    },
    {
     "name": "stdout",
     "output_type": "stream",
     "text": [
      "epoch: 200 loss:0.190214 auc:0.9358\n",
      "Fit finished.\n",
      "epoch:   0 loss:0.758106 auc:0.8865\n",
      "epoch:  20 loss:0.327359 auc:0.9371\n",
      "epoch:  40 loss:0.240609 auc:0.9494\n",
      "epoch:  60 loss:0.217715 auc:0.9486\n",
      "epoch:  80 loss:0.208380 auc:0.9453\n",
      "epoch: 100 loss:0.202081 auc:0.9469\n",
      "epoch: 120 loss:0.196312 auc:0.9478\n",
      "epoch: 140 loss:0.193560 auc:0.9486\n",
      "epoch: 160 loss:0.192186 auc:0.9478\n",
      "epoch: 180 loss:0.191287 auc:0.9494\n",
      "epoch: 200 loss:0.190696 auc:0.9502\n",
      "epoch: 220 loss:0.190042 auc:0.9510\n",
      "epoch: 240 loss:0.189104 auc:0.9502\n",
      "epoch: 260 loss:0.188338 auc:0.9527\n",
      "epoch: 280 loss:0.189618 auc:0.9543\n",
      "epoch: 300 loss:0.187362 auc:0.9535\n",
      "epoch: 320 loss:0.185901 auc:0.9518\n",
      "epoch: 340 loss:0.184518 auc:0.9551\n",
      "epoch: 360 loss:0.183265 auc:0.9559\n",
      "epoch: 380 loss:0.182060 auc:0.9559\n",
      "epoch: 400 loss:0.180309 auc:0.9535\n",
      "epoch: 420 loss:0.176490 auc:0.9551\n"
     ]
    },
    {
     "name": "stderr",
     "output_type": "stream",
     "text": [
      " 28%|██▊       | 254/916 [51:24<2:45:44, 15.02s/it]"
     ]
    },
    {
     "name": "stdout",
     "output_type": "stream",
     "text": [
      "epoch: 440 loss:0.175040 auc:0.9518\n",
      "Fit finished.\n",
      "epoch:   0 loss:0.765773 auc:0.3240\n",
      "epoch:  20 loss:0.283591 auc:0.9443\n",
      "epoch:  40 loss:0.225708 auc:0.9573\n",
      "epoch:  60 loss:0.212899 auc:0.9584\n",
      "epoch:  80 loss:0.207257 auc:0.9578\n",
      "epoch: 100 loss:0.201642 auc:0.9578\n",
      "epoch: 120 loss:0.196101 auc:0.9573\n",
      "epoch: 140 loss:0.193562 auc:0.9562\n",
      "epoch: 160 loss:0.192193 auc:0.9578\n",
      "epoch: 180 loss:0.193825 auc:0.9584\n",
      "epoch: 200 loss:0.190696 auc:0.9578\n",
      "epoch: 220 loss:0.189714 auc:0.9589\n",
      "epoch: 240 loss:0.188853 auc:0.9616\n",
      "epoch: 260 loss:0.188826 auc:0.9621\n",
      "epoch: 280 loss:0.190676 auc:0.9632\n",
      "epoch: 300 loss:0.185716 auc:0.9616\n",
      "epoch: 320 loss:0.183697 auc:0.9594\n",
      "epoch: 340 loss:0.183418 auc:0.9627\n"
     ]
    },
    {
     "name": "stderr",
     "output_type": "stream",
     "text": [
      " 28%|██▊       | 255/916 [51:39<2:43:55, 14.88s/it]"
     ]
    },
    {
     "name": "stdout",
     "output_type": "stream",
     "text": [
      "epoch: 360 loss:0.180403 auc:0.9551\n",
      "Fit finished.\n",
      "epoch:   0 loss:0.596448 auc:0.4144\n",
      "epoch:  20 loss:0.233089 auc:0.9244\n",
      "epoch:  40 loss:0.214578 auc:0.9352\n",
      "epoch:  60 loss:0.207292 auc:0.9460\n",
      "epoch:  80 loss:0.200425 auc:0.9475\n",
      "epoch: 100 loss:0.195007 auc:0.9468\n",
      "epoch: 120 loss:0.192539 auc:0.9452\n",
      "epoch: 140 loss:0.191183 auc:0.9460\n",
      "epoch: 160 loss:0.189513 auc:0.9452\n",
      "epoch: 180 loss:0.188068 auc:0.9437\n",
      "epoch: 200 loss:0.186716 auc:0.9444\n"
     ]
    },
    {
     "name": "stderr",
     "output_type": "stream",
     "text": [
      " 28%|██▊       | 256/916 [51:48<2:25:31, 13.23s/it]"
     ]
    },
    {
     "name": "stdout",
     "output_type": "stream",
     "text": [
      "epoch: 220 loss:0.184098 auc:0.9421\n",
      "Fit finished.\n",
      "epoch:   0 loss:0.540566 auc:0.6536\n",
      "epoch:  20 loss:0.282617 auc:0.9614\n",
      "epoch:  40 loss:0.227008 auc:0.9683\n",
      "epoch:  60 loss:0.211271 auc:0.9714\n",
      "epoch:  80 loss:0.204319 auc:0.9727\n",
      "epoch: 100 loss:0.198325 auc:0.9731\n",
      "epoch: 120 loss:0.194526 auc:0.9731\n",
      "epoch: 140 loss:0.192743 auc:0.9727\n",
      "epoch: 160 loss:0.191576 auc:0.9727\n",
      "epoch: 180 loss:0.190789 auc:0.9727\n",
      "epoch: 200 loss:0.189898 auc:0.9727\n",
      "epoch: 220 loss:0.191455 auc:0.9731\n"
     ]
    },
    {
     "name": "stderr",
     "output_type": "stream",
     "text": [
      " 28%|██▊       | 257/916 [52:00<2:19:30, 12.70s/it]"
     ]
    },
    {
     "name": "stdout",
     "output_type": "stream",
     "text": [
      "epoch: 240 loss:0.188326 auc:0.9709\n",
      "Fit finished.\n",
      "epoch:   0 loss:0.896673 auc:0.1436\n",
      "epoch:  20 loss:0.283263 auc:0.9652\n",
      "epoch:  40 loss:0.225430 auc:0.9704\n",
      "epoch:  60 loss:0.212232 auc:0.9696\n",
      "epoch:  80 loss:0.206704 auc:0.9708\n",
      "epoch: 100 loss:0.201200 auc:0.9704\n",
      "epoch: 120 loss:0.195902 auc:0.9704\n",
      "epoch: 140 loss:0.193304 auc:0.9708\n",
      "epoch: 160 loss:0.191800 auc:0.9704\n",
      "epoch: 180 loss:0.191256 auc:0.9712\n",
      "epoch: 200 loss:0.190079 auc:0.9712\n",
      "epoch: 220 loss:0.188758 auc:0.9740\n",
      "epoch: 240 loss:0.187774 auc:0.9756\n",
      "epoch: 260 loss:0.187063 auc:0.9724\n"
     ]
    },
    {
     "name": "stderr",
     "output_type": "stream",
     "text": [
      " 28%|██▊       | 258/916 [52:12<2:17:22, 12.53s/it]"
     ]
    },
    {
     "name": "stdout",
     "output_type": "stream",
     "text": [
      "epoch: 280 loss:0.186188 auc:0.9684\n",
      "Fit finished.\n",
      "epoch:   0 loss:0.873971 auc:0.4458\n",
      "epoch:  20 loss:0.295669 auc:0.9463\n",
      "epoch:  40 loss:0.228414 auc:0.9490\n",
      "epoch:  60 loss:0.213456 auc:0.9482\n",
      "epoch:  80 loss:0.207445 auc:0.9497\n",
      "epoch: 100 loss:0.201851 auc:0.9500\n",
      "epoch: 120 loss:0.195989 auc:0.9502\n",
      "epoch: 140 loss:0.193484 auc:0.9497\n",
      "epoch: 160 loss:0.192011 auc:0.9497\n",
      "epoch: 180 loss:0.191023 auc:0.9492\n"
     ]
    },
    {
     "name": "stderr",
     "output_type": "stream",
     "text": [
      " 28%|██▊       | 259/916 [52:21<2:07:53, 11.68s/it]"
     ]
    },
    {
     "name": "stdout",
     "output_type": "stream",
     "text": [
      "epoch: 200 loss:0.190359 auc:0.9473\n",
      "Fit finished.\n",
      "epoch:   0 loss:0.613479 auc:0.5651\n",
      "epoch:  20 loss:0.309522 auc:0.9411\n",
      "epoch:  40 loss:0.230274 auc:0.9590\n",
      "epoch:  60 loss:0.214676 auc:0.9602\n",
      "epoch:  80 loss:0.207970 auc:0.9602\n",
      "epoch: 100 loss:0.202180 auc:0.9596\n",
      "epoch: 120 loss:0.196360 auc:0.9599\n",
      "epoch: 140 loss:0.193580 auc:0.9599\n",
      "epoch: 160 loss:0.192064 auc:0.9602\n",
      "epoch: 180 loss:0.191268 auc:0.9596\n"
     ]
    },
    {
     "name": "stderr",
     "output_type": "stream",
     "text": [
      " 28%|██▊       | 260/916 [52:30<1:57:28, 10.74s/it]"
     ]
    },
    {
     "name": "stdout",
     "output_type": "stream",
     "text": [
      "epoch: 200 loss:0.190124 auc:0.9584\n",
      "Fit finished.\n",
      "epoch:   0 loss:0.775079 auc:0.1469\n",
      "epoch:  20 loss:0.247328 auc:0.9927\n",
      "epoch:  40 loss:0.218476 auc:0.9951\n",
      "epoch:  60 loss:0.210054 auc:0.9951\n",
      "epoch:  80 loss:0.204718 auc:0.9951\n",
      "epoch: 100 loss:0.198499 auc:0.9951\n",
      "epoch: 120 loss:0.194504 auc:0.9951\n",
      "epoch: 140 loss:0.192479 auc:0.9951\n",
      "epoch: 160 loss:0.193710 auc:0.9951\n",
      "epoch: 180 loss:0.189925 auc:0.9967\n",
      "epoch: 200 loss:0.188403 auc:0.9967\n",
      "epoch: 220 loss:0.188351 auc:0.9967\n",
      "epoch: 240 loss:0.185552 auc:0.9959\n",
      "epoch: 260 loss:0.184660 auc:0.9959\n",
      "epoch: 280 loss:0.184721 auc:0.9951\n",
      "epoch: 300 loss:0.186825 auc:0.9951\n",
      "epoch: 320 loss:0.179795 auc:0.9951\n"
     ]
    },
    {
     "name": "stderr",
     "output_type": "stream",
     "text": [
      " 28%|██▊       | 261/916 [52:45<2:12:06, 12.10s/it]"
     ]
    },
    {
     "name": "stdout",
     "output_type": "stream",
     "text": [
      "epoch: 340 loss:0.175781 auc:0.9943\n",
      "Fit finished.\n",
      "epoch:   0 loss:1.031749 auc:0.7463\n",
      "epoch:  20 loss:0.348503 auc:0.9069\n",
      "epoch:  40 loss:0.263764 auc:0.9363\n",
      "epoch:  60 loss:0.224196 auc:0.9525\n",
      "epoch:  80 loss:0.213531 auc:0.9556\n",
      "epoch: 100 loss:0.208221 auc:0.9556\n",
      "epoch: 120 loss:0.203507 auc:0.9556\n",
      "epoch: 140 loss:0.198227 auc:0.9550\n",
      "epoch: 160 loss:0.194789 auc:0.9550\n",
      "epoch: 180 loss:0.193181 auc:0.9550\n",
      "epoch: 200 loss:0.192074 auc:0.9550\n",
      "epoch: 220 loss:0.192062 auc:0.9550\n",
      "epoch: 240 loss:0.190879 auc:0.9556\n",
      "epoch: 260 loss:0.189670 auc:0.9569\n",
      "epoch: 280 loss:0.189641 auc:0.9569\n",
      "epoch: 300 loss:0.187654 auc:0.9556\n"
     ]
    },
    {
     "name": "stderr",
     "output_type": "stream",
     "text": [
      " 29%|██▊       | 262/916 [53:00<2:19:32, 12.80s/it]"
     ]
    },
    {
     "name": "stdout",
     "output_type": "stream",
     "text": [
      "epoch: 320 loss:0.186867 auc:0.9531\n",
      "Fit finished.\n",
      "epoch:   0 loss:0.588831 auc:0.3741\n",
      "epoch:  20 loss:0.288430 auc:0.9145\n",
      "epoch:  40 loss:0.223275 auc:0.9237\n",
      "epoch:  60 loss:0.210893 auc:0.9303\n",
      "epoch:  80 loss:0.204652 auc:0.9316\n",
      "epoch: 100 loss:0.198220 auc:0.9323\n",
      "epoch: 120 loss:0.194300 auc:0.9316\n",
      "epoch: 140 loss:0.192387 auc:0.9316\n",
      "epoch: 160 loss:0.192535 auc:0.9323\n",
      "epoch: 180 loss:0.190498 auc:0.9303\n",
      "epoch: 200 loss:0.189082 auc:0.9270\n"
     ]
    },
    {
     "name": "stderr",
     "output_type": "stream",
     "text": [
      " 29%|██▊       | 263/916 [53:09<2:08:10, 11.78s/it]"
     ]
    },
    {
     "name": "stdout",
     "output_type": "stream",
     "text": [
      "epoch: 220 loss:0.188772 auc:0.9257\n",
      "Fit finished.\n",
      "epoch:   0 loss:0.899509 auc:0.7167\n",
      "epoch:  20 loss:0.312918 auc:0.9554\n",
      "epoch:  40 loss:0.241825 auc:0.9527\n",
      "epoch:  60 loss:0.219415 auc:0.9476\n",
      "epoch:  80 loss:0.210759 auc:0.9433\n",
      "epoch: 100 loss:0.205301 auc:0.9436\n",
      "epoch: 120 loss:0.199632 auc:0.9430\n",
      "epoch: 140 loss:0.194597 auc:0.9430\n",
      "epoch: 160 loss:0.192686 auc:0.9430\n"
     ]
    },
    {
     "name": "stderr",
     "output_type": "stream",
     "text": [
      " 29%|██▉       | 264/916 [53:17<1:56:35, 10.73s/it]"
     ]
    },
    {
     "name": "stdout",
     "output_type": "stream",
     "text": [
      "epoch: 180 loss:0.191448 auc:0.9430\n",
      "Fit finished.\n",
      "epoch:   0 loss:0.784206 auc:0.6073\n",
      "epoch:  20 loss:0.317392 auc:0.9231\n",
      "epoch:  40 loss:0.233416 auc:0.9338\n",
      "epoch:  60 loss:0.215229 auc:0.9381\n",
      "epoch:  80 loss:0.207834 auc:0.9373\n",
      "epoch: 100 loss:0.202234 auc:0.9377\n",
      "epoch: 120 loss:0.196582 auc:0.9373\n",
      "epoch: 140 loss:0.193755 auc:0.9377\n",
      "epoch: 160 loss:0.192283 auc:0.9373\n",
      "epoch: 180 loss:0.191593 auc:0.9384\n",
      "epoch: 200 loss:0.190481 auc:0.9388\n",
      "epoch: 220 loss:0.189930 auc:0.9405\n",
      "epoch: 240 loss:0.189048 auc:0.9430\n",
      "epoch: 260 loss:0.191244 auc:0.9455\n",
      "epoch: 280 loss:0.187283 auc:0.9487\n",
      "epoch: 300 loss:0.185932 auc:0.9534\n",
      "epoch: 320 loss:0.186457 auc:0.9562\n",
      "epoch: 340 loss:0.184969 auc:0.9573\n",
      "epoch: 360 loss:0.182928 auc:0.9605\n",
      "epoch: 380 loss:0.181568 auc:0.9594\n",
      "epoch: 400 loss:0.179231 auc:0.9587\n"
     ]
    },
    {
     "name": "stderr",
     "output_type": "stream",
     "text": [
      " 29%|██▉       | 265/916 [53:35<2:19:42, 12.88s/it]"
     ]
    },
    {
     "name": "stdout",
     "output_type": "stream",
     "text": [
      "epoch: 420 loss:0.185460 auc:0.9430\n",
      "Fit finished.\n",
      "epoch:   0 loss:0.759664 auc:0.4247\n",
      "epoch:  20 loss:0.312487 auc:0.9357\n",
      "epoch:  40 loss:0.230545 auc:0.9428\n",
      "epoch:  60 loss:0.215903 auc:0.9440\n",
      "epoch:  80 loss:0.208790 auc:0.9446\n",
      "epoch: 100 loss:0.203921 auc:0.9452\n",
      "epoch: 120 loss:0.198546 auc:0.9458\n",
      "epoch: 140 loss:0.194386 auc:0.9461\n",
      "epoch: 160 loss:0.192669 auc:0.9424\n",
      "epoch: 180 loss:0.192497 auc:0.9424\n",
      "epoch: 200 loss:0.191006 auc:0.9428\n"
     ]
    },
    {
     "name": "stderr",
     "output_type": "stream",
     "text": [
      " 29%|██▉       | 266/916 [53:46<2:12:04, 12.19s/it]"
     ]
    },
    {
     "name": "stdout",
     "output_type": "stream",
     "text": [
      "epoch: 220 loss:0.190166 auc:0.9424\n",
      "Fit finished.\n",
      "epoch:   0 loss:0.784696 auc:0.4382\n",
      "epoch:  20 loss:0.308407 auc:0.9914\n",
      "epoch:  40 loss:0.228860 auc:0.9919\n",
      "epoch:  60 loss:0.214037 auc:0.9928\n",
      "epoch:  80 loss:0.207589 auc:0.9909\n",
      "epoch: 100 loss:0.201794 auc:0.9923\n",
      "epoch: 120 loss:0.195909 auc:0.9923\n",
      "epoch: 140 loss:0.193377 auc:0.9914\n",
      "epoch: 160 loss:0.195887 auc:0.9919\n",
      "epoch: 180 loss:0.191510 auc:0.9923\n",
      "epoch: 200 loss:0.189907 auc:0.9928\n",
      "epoch: 220 loss:0.190651 auc:0.9932\n",
      "epoch: 240 loss:0.187883 auc:0.9928\n",
      "epoch: 260 loss:0.187471 auc:0.9928\n",
      "epoch: 280 loss:0.185051 auc:0.9923\n",
      "epoch: 300 loss:0.187035 auc:0.9932\n"
     ]
    },
    {
     "name": "stderr",
     "output_type": "stream",
     "text": [
      " 29%|██▉       | 267/916 [53:58<2:13:13, 12.32s/it]"
     ]
    },
    {
     "name": "stdout",
     "output_type": "stream",
     "text": [
      "epoch: 320 loss:0.183648 auc:0.9882\n",
      "Fit finished.\n",
      "epoch:   0 loss:0.768537 auc:0.3257\n",
      "epoch:  20 loss:0.309016 auc:0.9406\n",
      "epoch:  40 loss:0.231396 auc:0.9436\n",
      "epoch:  60 loss:0.214745 auc:0.9457\n",
      "epoch:  80 loss:0.208318 auc:0.9452\n",
      "epoch: 100 loss:0.202621 auc:0.9454\n",
      "epoch: 120 loss:0.196275 auc:0.9457\n",
      "epoch: 140 loss:0.193311 auc:0.9457\n",
      "epoch: 160 loss:0.193011 auc:0.9460\n",
      "epoch: 180 loss:0.190885 auc:0.9463\n",
      "epoch: 200 loss:0.191884 auc:0.9476\n",
      "epoch: 220 loss:0.189058 auc:0.9484\n",
      "epoch: 240 loss:0.188729 auc:0.9481\n"
     ]
    },
    {
     "name": "stderr",
     "output_type": "stream",
     "text": [
      " 29%|██▉       | 268/916 [54:11<2:12:50, 12.30s/it]"
     ]
    },
    {
     "name": "stdout",
     "output_type": "stream",
     "text": [
      "epoch: 260 loss:0.186171 auc:0.9444\n",
      "Fit finished.\n",
      "epoch:   0 loss:1.218742 auc:0.2399\n",
      "epoch:  20 loss:0.318598 auc:0.9457\n",
      "epoch:  40 loss:0.232527 auc:0.9500\n",
      "epoch:  60 loss:0.215576 auc:0.9572\n",
      "epoch:  80 loss:0.208074 auc:0.9566\n",
      "epoch: 100 loss:0.202931 auc:0.9560\n",
      "epoch: 120 loss:0.197728 auc:0.9560\n",
      "epoch: 140 loss:0.194653 auc:0.9555\n",
      "epoch: 160 loss:0.193089 auc:0.9555\n",
      "epoch: 180 loss:0.192002 auc:0.9552\n",
      "epoch: 200 loss:0.191063 auc:0.9555\n"
     ]
    },
    {
     "name": "stderr",
     "output_type": "stream",
     "text": [
      " 29%|██▉       | 269/916 [54:20<2:04:15, 11.52s/it]"
     ]
    },
    {
     "name": "stdout",
     "output_type": "stream",
     "text": [
      "epoch: 220 loss:0.191245 auc:0.9560\n",
      "Fit finished.\n",
      "epoch:   0 loss:0.738509 auc:0.1585\n",
      "epoch:  20 loss:0.256385 auc:0.9741\n",
      "epoch:  40 loss:0.219921 auc:0.9794\n",
      "epoch:  60 loss:0.209790 auc:0.9777\n",
      "epoch:  80 loss:0.203474 auc:0.9781\n",
      "epoch: 100 loss:0.196409 auc:0.9779\n",
      "epoch: 120 loss:0.193764 auc:0.9786\n",
      "epoch: 140 loss:0.191572 auc:0.9788\n",
      "epoch: 160 loss:0.195367 auc:0.9790\n",
      "epoch: 180 loss:0.189101 auc:0.9764\n"
     ]
    },
    {
     "name": "stderr",
     "output_type": "stream",
     "text": [
      " 29%|██▉       | 270/916 [54:30<1:58:18, 10.99s/it]"
     ]
    },
    {
     "name": "stdout",
     "output_type": "stream",
     "text": [
      "epoch: 200 loss:0.187085 auc:0.9710\n",
      "Fit finished.\n",
      "epoch:   0 loss:0.884526 auc:0.5073\n",
      "epoch:  20 loss:0.308093 auc:0.9589\n",
      "epoch:  40 loss:0.231197 auc:0.9665\n",
      "epoch:  60 loss:0.213563 auc:0.9697\n",
      "epoch:  80 loss:0.205203 auc:0.9697\n",
      "epoch: 100 loss:0.198772 auc:0.9708\n",
      "epoch: 120 loss:0.194811 auc:0.9692\n",
      "epoch: 140 loss:0.193090 auc:0.9697\n",
      "epoch: 160 loss:0.191897 auc:0.9697\n",
      "epoch: 180 loss:0.191166 auc:0.9697\n",
      "epoch: 200 loss:0.190571 auc:0.9692\n",
      "epoch: 220 loss:0.189490 auc:0.9697\n"
     ]
    },
    {
     "name": "stderr",
     "output_type": "stream",
     "text": [
      " 30%|██▉       | 271/916 [54:40<1:53:55, 10.60s/it]"
     ]
    },
    {
     "name": "stdout",
     "output_type": "stream",
     "text": [
      "epoch: 240 loss:0.191507 auc:0.9692\n",
      "Fit finished.\n",
      "epoch:   0 loss:0.548827 auc:0.6007\n",
      "epoch:  20 loss:0.253595 auc:0.9622\n",
      "epoch:  40 loss:0.216789 auc:0.9683\n",
      "epoch:  60 loss:0.206288 auc:0.9670\n",
      "epoch:  80 loss:0.198898 auc:0.9679\n",
      "epoch: 100 loss:0.194532 auc:0.9679\n",
      "epoch: 120 loss:0.192500 auc:0.9674\n",
      "epoch: 140 loss:0.191213 auc:0.9670\n",
      "epoch: 160 loss:0.189971 auc:0.9666\n",
      "epoch: 180 loss:0.188757 auc:0.9631\n"
     ]
    },
    {
     "name": "stderr",
     "output_type": "stream",
     "text": [
      " 30%|██▉       | 272/916 [54:47<1:44:11,  9.71s/it]"
     ]
    },
    {
     "name": "stdout",
     "output_type": "stream",
     "text": [
      "epoch: 200 loss:0.187959 auc:0.9622\n",
      "Fit finished.\n",
      "epoch:   0 loss:1.223875 auc:0.6903\n",
      "epoch:  20 loss:0.320243 auc:0.9455\n",
      "epoch:  40 loss:0.242327 auc:0.9637\n",
      "epoch:  60 loss:0.218010 auc:0.9715\n",
      "epoch:  80 loss:0.209223 auc:0.9740\n",
      "epoch: 100 loss:0.203671 auc:0.9732\n",
      "epoch: 120 loss:0.198407 auc:0.9732\n",
      "epoch: 140 loss:0.195084 auc:0.9740\n",
      "epoch: 160 loss:0.193525 auc:0.9732\n",
      "epoch: 180 loss:0.192494 auc:0.9740\n",
      "epoch: 200 loss:0.191684 auc:0.9740\n",
      "epoch: 220 loss:0.190982 auc:0.9740\n",
      "epoch: 240 loss:0.190396 auc:0.9740\n",
      "epoch: 260 loss:0.189724 auc:0.9749\n",
      "epoch: 280 loss:0.189162 auc:0.9740\n",
      "epoch: 300 loss:0.188618 auc:0.9749\n",
      "epoch: 320 loss:0.187927 auc:0.9775\n",
      "epoch: 340 loss:0.186841 auc:0.9801\n",
      "epoch: 360 loss:0.190885 auc:0.9810\n",
      "epoch: 380 loss:0.185214 auc:0.9827\n",
      "epoch: 400 loss:0.183172 auc:0.9810\n",
      "epoch: 420 loss:0.181937 auc:0.9810\n",
      "epoch: 440 loss:0.182149 auc:0.9801\n",
      "epoch: 460 loss:0.182968 auc:0.9810\n",
      "epoch: 480 loss:0.176500 auc:0.9836\n",
      "epoch: 500 loss:0.174567 auc:0.9836\n",
      "epoch: 520 loss:0.173520 auc:0.9836\n"
     ]
    },
    {
     "name": "stderr",
     "output_type": "stream",
     "text": [
      " 30%|██▉       | 273/916 [55:12<2:32:45, 14.25s/it]"
     ]
    },
    {
     "name": "stdout",
     "output_type": "stream",
     "text": [
      "epoch: 540 loss:0.171631 auc:0.9810\n",
      "Fit finished.\n",
      "epoch:   0 loss:0.673974 auc:0.6811\n",
      "epoch:  20 loss:0.310952 auc:0.9786\n",
      "epoch:  40 loss:0.231237 auc:0.9762\n",
      "epoch:  60 loss:0.214706 auc:0.9762\n",
      "epoch:  80 loss:0.206574 auc:0.9738\n",
      "epoch: 100 loss:0.200169 auc:0.9732\n",
      "epoch: 120 loss:0.195358 auc:0.9732\n",
      "epoch: 140 loss:0.193307 auc:0.9732\n",
      "epoch: 160 loss:0.192169 auc:0.9732\n"
     ]
    },
    {
     "name": "stderr",
     "output_type": "stream",
     "text": [
      " 30%|██▉       | 274/916 [55:20<2:11:58, 12.33s/it]"
     ]
    },
    {
     "name": "stdout",
     "output_type": "stream",
     "text": [
      "epoch: 180 loss:0.191112 auc:0.9732\n",
      "Fit finished.\n",
      "epoch:   0 loss:0.567552 auc:0.4331\n",
      "epoch:  20 loss:0.283595 auc:0.9528\n",
      "epoch:  40 loss:0.223720 auc:0.9543\n",
      "epoch:  60 loss:0.209212 auc:0.9533\n",
      "epoch:  80 loss:0.200793 auc:0.9538\n",
      "epoch: 100 loss:0.195044 auc:0.9543\n",
      "epoch: 120 loss:0.192734 auc:0.9543\n",
      "epoch: 140 loss:0.193020 auc:0.9541\n",
      "epoch: 160 loss:0.190375 auc:0.9540\n"
     ]
    },
    {
     "name": "stderr",
     "output_type": "stream",
     "text": [
      " 30%|███       | 275/916 [55:29<1:59:22, 11.17s/it]"
     ]
    },
    {
     "name": "stdout",
     "output_type": "stream",
     "text": [
      "epoch: 180 loss:0.189049 auc:0.9494\n",
      "Fit finished.\n",
      "epoch:   0 loss:0.887922 auc:0.6402\n",
      "epoch:  20 loss:0.299960 auc:0.9581\n",
      "epoch:  40 loss:0.230921 auc:0.9614\n",
      "epoch:  60 loss:0.215810 auc:0.9624\n",
      "epoch:  80 loss:0.208355 auc:0.9633\n",
      "epoch: 100 loss:0.202769 auc:0.9638\n",
      "epoch: 120 loss:0.197069 auc:0.9629\n",
      "epoch: 140 loss:0.194038 auc:0.9637\n",
      "epoch: 160 loss:0.192557 auc:0.9629\n",
      "epoch: 180 loss:0.191422 auc:0.9624\n",
      "epoch: 200 loss:0.190629 auc:0.9619\n"
     ]
    },
    {
     "name": "stderr",
     "output_type": "stream",
     "text": [
      " 30%|███       | 276/916 [55:40<1:58:35, 11.12s/it]"
     ]
    },
    {
     "name": "stdout",
     "output_type": "stream",
     "text": [
      "epoch: 220 loss:0.190280 auc:0.9536\n",
      "Fit finished.\n",
      "epoch:   0 loss:0.721414 auc:0.3949\n",
      "epoch:  20 loss:0.287318 auc:0.9224\n",
      "epoch:  40 loss:0.227141 auc:0.9297\n",
      "epoch:  60 loss:0.213149 auc:0.9284\n",
      "epoch:  80 loss:0.207086 auc:0.9283\n",
      "epoch: 100 loss:0.201392 auc:0.9283\n",
      "epoch: 120 loss:0.195833 auc:0.9289\n",
      "epoch: 140 loss:0.193393 auc:0.9296\n",
      "epoch: 160 loss:0.191991 auc:0.9282\n",
      "epoch: 180 loss:0.192955 auc:0.9277\n"
     ]
    },
    {
     "name": "stderr",
     "output_type": "stream",
     "text": [
      " 30%|███       | 277/916 [55:48<1:50:14, 10.35s/it]"
     ]
    },
    {
     "name": "stdout",
     "output_type": "stream",
     "text": [
      "epoch: 200 loss:0.190555 auc:0.9250\n",
      "Fit finished.\n",
      "epoch:   0 loss:0.530725 auc:0.5760\n",
      "epoch:  20 loss:0.270091 auc:0.9643\n",
      "epoch:  40 loss:0.220283 auc:0.9675\n",
      "epoch:  60 loss:0.209064 auc:0.9662\n",
      "epoch:  80 loss:0.202734 auc:0.9657\n",
      "epoch: 100 loss:0.195959 auc:0.9659\n",
      "epoch: 120 loss:0.194774 auc:0.9651\n",
      "epoch: 140 loss:0.191732 auc:0.9649\n",
      "epoch: 160 loss:0.191520 auc:0.9646\n"
     ]
    },
    {
     "name": "stderr",
     "output_type": "stream",
     "text": [
      " 30%|███       | 278/916 [55:55<1:39:41,  9.37s/it]"
     ]
    },
    {
     "name": "stdout",
     "output_type": "stream",
     "text": [
      "epoch: 180 loss:0.189515 auc:0.9631\n",
      "Fit finished.\n",
      "epoch:   0 loss:0.911174 auc:0.2016\n",
      "epoch:  20 loss:0.318670 auc:0.9914\n",
      "epoch:  40 loss:0.232906 auc:0.9942\n",
      "epoch:  60 loss:0.216314 auc:0.9969\n",
      "epoch:  80 loss:0.209499 auc:0.9972\n",
      "epoch: 100 loss:0.204865 auc:0.9972\n",
      "epoch: 120 loss:0.199691 auc:0.9969\n",
      "epoch: 140 loss:0.195168 auc:0.9969\n",
      "epoch: 160 loss:0.193141 auc:0.9972\n",
      "epoch: 180 loss:0.191818 auc:0.9969\n",
      "epoch: 200 loss:0.191165 auc:0.9969\n"
     ]
    },
    {
     "name": "stderr",
     "output_type": "stream",
     "text": [
      " 30%|███       | 279/916 [56:05<1:40:26,  9.46s/it]"
     ]
    },
    {
     "name": "stdout",
     "output_type": "stream",
     "text": [
      "epoch: 220 loss:0.190239 auc:0.9960\n",
      "Fit finished.\n",
      "epoch:   0 loss:0.683943 auc:0.7666\n",
      "epoch:  20 loss:0.285473 auc:0.9693\n",
      "epoch:  40 loss:0.222491 auc:0.9704\n",
      "epoch:  60 loss:0.209451 auc:0.9697\n",
      "epoch:  80 loss:0.202716 auc:0.9689\n",
      "epoch: 100 loss:0.196716 auc:0.9689\n",
      "epoch: 120 loss:0.193972 auc:0.9693\n",
      "epoch: 140 loss:0.192474 auc:0.9697\n",
      "epoch: 160 loss:0.191235 auc:0.9700\n",
      "epoch: 180 loss:0.191881 auc:0.9708\n",
      "epoch: 200 loss:0.189433 auc:0.9734\n",
      "epoch: 220 loss:0.188289 auc:0.9789\n",
      "epoch: 240 loss:0.187121 auc:0.9815\n",
      "epoch: 260 loss:0.186891 auc:0.9841\n",
      "epoch: 280 loss:0.183742 auc:0.9848\n",
      "epoch: 300 loss:0.183404 auc:0.9871\n",
      "epoch: 320 loss:0.184647 auc:0.9878\n",
      "epoch: 340 loss:0.177215 auc:0.9811\n",
      "epoch: 360 loss:0.176601 auc:0.9815\n",
      "epoch: 380 loss:0.177058 auc:0.9874\n",
      "epoch: 400 loss:0.171813 auc:0.9867\n"
     ]
    },
    {
     "name": "stderr",
     "output_type": "stream",
     "text": [
      " 31%|███       | 280/916 [56:22<2:05:42, 11.86s/it]"
     ]
    },
    {
     "name": "stdout",
     "output_type": "stream",
     "text": [
      "epoch: 420 loss:0.168902 auc:0.9793\n",
      "Fit finished.\n",
      "epoch:   0 loss:1.078014 auc:0.8648\n",
      "epoch:  20 loss:0.316131 auc:0.9572\n",
      "epoch:  40 loss:0.236570 auc:0.9561\n",
      "epoch:  60 loss:0.217034 auc:0.9519\n",
      "epoch:  80 loss:0.208913 auc:0.9521\n",
      "epoch: 100 loss:0.203540 auc:0.9530\n",
      "epoch: 120 loss:0.198037 auc:0.9526\n",
      "epoch: 140 loss:0.194440 auc:0.9528\n",
      "epoch: 160 loss:0.192834 auc:0.9530\n"
     ]
    },
    {
     "name": "stderr",
     "output_type": "stream",
     "text": [
      " 31%|███       | 281/916 [56:31<1:55:08, 10.88s/it]"
     ]
    },
    {
     "name": "stdout",
     "output_type": "stream",
     "text": [
      "epoch: 180 loss:0.191823 auc:0.9532\n",
      "Fit finished.\n",
      "epoch:   0 loss:0.678862 auc:0.1703\n",
      "epoch:  20 loss:0.258452 auc:0.9635\n",
      "epoch:  40 loss:0.220318 auc:0.9696\n",
      "epoch:  60 loss:0.209843 auc:0.9696\n",
      "epoch:  80 loss:0.203444 auc:0.9692\n",
      "epoch: 100 loss:0.196567 auc:0.9692\n",
      "epoch: 120 loss:0.195467 auc:0.9692\n",
      "epoch: 140 loss:0.192402 auc:0.9692\n",
      "epoch: 160 loss:0.190841 auc:0.9700\n",
      "epoch: 180 loss:0.189766 auc:0.9700\n",
      "epoch: 200 loss:0.188841 auc:0.9715\n",
      "epoch: 220 loss:0.187607 auc:0.9731\n",
      "epoch: 240 loss:0.186580 auc:0.9742\n",
      "epoch: 260 loss:0.184338 auc:0.9739\n",
      "epoch: 280 loss:0.183944 auc:0.9758\n",
      "epoch: 300 loss:0.180101 auc:0.9750\n",
      "epoch: 320 loss:0.179778 auc:0.9742\n",
      "epoch: 340 loss:0.175789 auc:0.9731\n"
     ]
    },
    {
     "name": "stderr",
     "output_type": "stream",
     "text": [
      " 31%|███       | 282/916 [56:45<2:06:00, 11.93s/it]"
     ]
    },
    {
     "name": "stdout",
     "output_type": "stream",
     "text": [
      "epoch: 360 loss:0.173835 auc:0.9712\n",
      "Fit finished.\n",
      "epoch:   0 loss:0.805406 auc:0.2882\n",
      "epoch:  20 loss:0.294777 auc:0.9704\n",
      "epoch:  40 loss:0.229304 auc:0.9722\n",
      "epoch:  60 loss:0.214692 auc:0.9692\n",
      "epoch:  80 loss:0.208751 auc:0.9706\n",
      "epoch: 100 loss:0.204466 auc:0.9700\n",
      "epoch: 120 loss:0.199817 auc:0.9692\n",
      "epoch: 140 loss:0.195798 auc:0.9694\n",
      "epoch: 160 loss:0.193685 auc:0.9694\n"
     ]
    },
    {
     "name": "stderr",
     "output_type": "stream",
     "text": [
      " 31%|███       | 283/916 [56:54<1:56:27, 11.04s/it]"
     ]
    },
    {
     "name": "stdout",
     "output_type": "stream",
     "text": [
      "epoch: 180 loss:0.192448 auc:0.9698\n",
      "Fit finished.\n",
      "epoch:   0 loss:1.062524 auc:0.8906\n",
      "epoch:  20 loss:0.338256 auc:0.9737\n",
      "epoch:  40 loss:0.243177 auc:0.9744\n",
      "epoch:  60 loss:0.218943 auc:0.9737\n",
      "epoch:  80 loss:0.211172 auc:0.9723\n",
      "epoch: 100 loss:0.206562 auc:0.9730\n",
      "epoch: 120 loss:0.201480 auc:0.9730\n",
      "epoch: 140 loss:0.195632 auc:0.9737\n",
      "epoch: 160 loss:0.193049 auc:0.9730\n",
      "epoch: 180 loss:0.193707 auc:0.9751\n"
     ]
    },
    {
     "name": "stderr",
     "output_type": "stream",
     "text": [
      " 31%|███       | 284/916 [57:04<1:52:42, 10.70s/it]"
     ]
    },
    {
     "name": "stdout",
     "output_type": "stream",
     "text": [
      "epoch: 200 loss:0.190847 auc:0.9737\n",
      "Fit finished.\n",
      "epoch:   0 loss:0.958490 auc:0.5062\n",
      "epoch:  20 loss:0.325138 auc:0.9943\n",
      "epoch:  40 loss:0.241809 auc:0.9948\n",
      "epoch:  60 loss:0.217129 auc:0.9945\n",
      "epoch:  80 loss:0.209234 auc:0.9940\n",
      "epoch: 100 loss:0.202847 auc:0.9937\n",
      "epoch: 120 loss:0.196647 auc:0.9934\n",
      "epoch: 140 loss:0.193717 auc:0.9931\n",
      "epoch: 160 loss:0.192206 auc:0.9937\n"
     ]
    },
    {
     "name": "stderr",
     "output_type": "stream",
     "text": [
      " 31%|███       | 285/916 [57:12<1:44:48,  9.97s/it]"
     ]
    },
    {
     "name": "stdout",
     "output_type": "stream",
     "text": [
      "epoch: 180 loss:0.191241 auc:0.9937\n",
      "Fit finished.\n",
      "epoch:   0 loss:0.821723 auc:0.5127\n",
      "epoch:  20 loss:0.275760 auc:0.9500\n",
      "epoch:  40 loss:0.221459 auc:0.9488\n",
      "epoch:  60 loss:0.211113 auc:0.9529\n",
      "epoch:  80 loss:0.206113 auc:0.9517\n",
      "epoch: 100 loss:0.201009 auc:0.9513\n",
      "epoch: 120 loss:0.196126 auc:0.9521\n",
      "epoch: 140 loss:0.193634 auc:0.9529\n",
      "epoch: 160 loss:0.192208 auc:0.9542\n",
      "epoch: 180 loss:0.190993 auc:0.9538\n",
      "epoch: 200 loss:0.194427 auc:0.9538\n",
      "epoch: 220 loss:0.189370 auc:0.9529\n",
      "epoch: 240 loss:0.188100 auc:0.9538\n",
      "epoch: 260 loss:0.187148 auc:0.9525\n"
     ]
    },
    {
     "name": "stderr",
     "output_type": "stream",
     "text": [
      " 31%|███       | 286/916 [57:26<1:54:48, 10.93s/it]"
     ]
    },
    {
     "name": "stdout",
     "output_type": "stream",
     "text": [
      "epoch: 280 loss:0.185940 auc:0.9492\n",
      "Fit finished.\n",
      "epoch:   0 loss:0.743256 auc:0.6118\n",
      "epoch:  20 loss:0.319683 auc:0.9725\n",
      "epoch:  40 loss:0.235196 auc:0.9729\n",
      "epoch:  60 loss:0.216154 auc:0.9721\n",
      "epoch:  80 loss:0.208351 auc:0.9704\n",
      "epoch: 100 loss:0.202364 auc:0.9713\n",
      "epoch: 120 loss:0.196747 auc:0.9713\n",
      "epoch: 140 loss:0.193832 auc:0.9717\n",
      "epoch: 160 loss:0.192307 auc:0.9708\n"
     ]
    },
    {
     "name": "stderr",
     "output_type": "stream",
     "text": [
      " 31%|███▏      | 287/916 [57:33<1:42:50,  9.81s/it]"
     ]
    },
    {
     "name": "stdout",
     "output_type": "stream",
     "text": [
      "epoch: 180 loss:0.191265 auc:0.9717\n",
      "Fit finished.\n",
      "epoch:   0 loss:0.724705 auc:0.2754\n",
      "epoch:  20 loss:0.289121 auc:0.9577\n",
      "epoch:  40 loss:0.227783 auc:0.9613\n",
      "epoch:  60 loss:0.212478 auc:0.9590\n",
      "epoch:  80 loss:0.206913 auc:0.9583\n",
      "epoch: 100 loss:0.201283 auc:0.9583\n",
      "epoch: 120 loss:0.195720 auc:0.9577\n",
      "epoch: 140 loss:0.193277 auc:0.9570\n",
      "epoch: 160 loss:0.191978 auc:0.9570\n"
     ]
    },
    {
     "name": "stderr",
     "output_type": "stream",
     "text": [
      " 31%|███▏      | 288/916 [57:41<1:37:40,  9.33s/it]"
     ]
    },
    {
     "name": "stdout",
     "output_type": "stream",
     "text": [
      "epoch: 180 loss:0.191034 auc:0.9574\n",
      "Fit finished.\n",
      "epoch:   0 loss:0.604573 auc:0.4671\n",
      "epoch:  20 loss:0.234375 auc:0.9679\n",
      "epoch:  40 loss:0.215524 auc:0.9666\n",
      "epoch:  60 loss:0.208442 auc:0.9653\n",
      "epoch:  80 loss:0.202131 auc:0.9668\n",
      "epoch: 100 loss:0.195399 auc:0.9662\n",
      "epoch: 120 loss:0.192729 auc:0.9649\n",
      "epoch: 140 loss:0.192090 auc:0.9675\n",
      "epoch: 160 loss:0.190348 auc:0.9709\n",
      "epoch: 180 loss:0.189439 auc:0.9717\n",
      "epoch: 200 loss:0.187526 auc:0.9752\n",
      "epoch: 220 loss:0.186550 auc:0.9734\n",
      "epoch: 240 loss:0.184012 auc:0.9673\n",
      "epoch: 260 loss:0.182570 auc:0.9720\n"
     ]
    },
    {
     "name": "stderr",
     "output_type": "stream",
     "text": [
      " 32%|███▏      | 289/916 [57:54<1:48:13, 10.36s/it]"
     ]
    },
    {
     "name": "stdout",
     "output_type": "stream",
     "text": [
      "epoch: 280 loss:0.183385 auc:0.9628\n",
      "Fit finished.\n",
      "epoch:   0 loss:0.794564 auc:0.3293\n",
      "epoch:  20 loss:0.306463 auc:0.9283\n",
      "epoch:  40 loss:0.227364 auc:0.9328\n",
      "epoch:  60 loss:0.211721 auc:0.9323\n",
      "epoch:  80 loss:0.205443 auc:0.9309\n",
      "epoch: 100 loss:0.199295 auc:0.9315\n",
      "epoch: 120 loss:0.194287 auc:0.9293\n",
      "epoch: 140 loss:0.192463 auc:0.9296\n",
      "epoch: 160 loss:0.191282 auc:0.9298\n",
      "epoch: 180 loss:0.190689 auc:0.9311\n"
     ]
    },
    {
     "name": "stderr",
     "output_type": "stream",
     "text": [
      " 32%|███▏      | 290/916 [58:03<1:44:27, 10.01s/it]"
     ]
    },
    {
     "name": "stdout",
     "output_type": "stream",
     "text": [
      "epoch: 200 loss:0.190162 auc:0.9319\n",
      "Fit finished.\n",
      "epoch:   0 loss:0.892300 auc:0.4093\n",
      "epoch:  20 loss:0.331160 auc:0.9382\n",
      "epoch:  40 loss:0.241796 auc:0.9432\n",
      "epoch:  60 loss:0.219100 auc:0.9438\n",
      "epoch:  80 loss:0.210730 auc:0.9429\n",
      "epoch: 100 loss:0.205429 auc:0.9438\n",
      "epoch: 120 loss:0.199570 auc:0.9444\n",
      "epoch: 140 loss:0.194844 auc:0.9438\n",
      "epoch: 160 loss:0.193047 auc:0.9441\n",
      "epoch: 180 loss:0.191999 auc:0.9444\n",
      "epoch: 200 loss:0.190894 auc:0.9441\n",
      "epoch: 220 loss:0.190303 auc:0.9444\n",
      "epoch: 240 loss:0.189632 auc:0.9456\n",
      "epoch: 260 loss:0.189167 auc:0.9456\n",
      "epoch: 280 loss:0.191088 auc:0.9456\n",
      "epoch: 300 loss:0.187541 auc:0.9456\n"
     ]
    },
    {
     "name": "stderr",
     "output_type": "stream",
     "text": [
      " 32%|███▏      | 291/916 [58:16<1:54:49, 11.02s/it]"
     ]
    },
    {
     "name": "stdout",
     "output_type": "stream",
     "text": [
      "epoch: 320 loss:0.186121 auc:0.9423\n",
      "Fit finished.\n",
      "epoch:   0 loss:0.737415 auc:0.3442\n",
      "epoch:  20 loss:0.310964 auc:0.9500\n",
      "epoch:  40 loss:0.230943 auc:0.9492\n",
      "epoch:  60 loss:0.214572 auc:0.9483\n",
      "epoch:  80 loss:0.207473 auc:0.9489\n",
      "epoch: 100 loss:0.201969 auc:0.9489\n",
      "epoch: 120 loss:0.196480 auc:0.9492\n",
      "epoch: 140 loss:0.193733 auc:0.9497\n",
      "epoch: 160 loss:0.192322 auc:0.9500\n",
      "epoch: 180 loss:0.191294 auc:0.9500\n",
      "epoch: 200 loss:0.190402 auc:0.9497\n",
      "epoch: 220 loss:0.189561 auc:0.9508\n",
      "epoch: 240 loss:0.191470 auc:0.9508\n",
      "epoch: 260 loss:0.188342 auc:0.9522\n",
      "epoch: 280 loss:0.186471 auc:0.9536\n",
      "epoch: 300 loss:0.188380 auc:0.9519\n",
      "epoch: 320 loss:0.183628 auc:0.9556\n",
      "epoch: 340 loss:0.184224 auc:0.9608\n",
      "epoch: 360 loss:0.181102 auc:0.9681\n",
      "epoch: 380 loss:0.179320 auc:0.9631\n",
      "epoch: 400 loss:0.176248 auc:0.9547\n"
     ]
    },
    {
     "name": "stderr",
     "output_type": "stream",
     "text": [
      " 32%|███▏      | 292/916 [58:34<2:16:11, 13.10s/it]"
     ]
    },
    {
     "name": "stdout",
     "output_type": "stream",
     "text": [
      "epoch: 420 loss:0.213349 auc:0.9492\n",
      "Fit finished.\n",
      "epoch:   0 loss:0.577254 auc:0.4107\n",
      "epoch:  20 loss:0.273209 auc:0.9398\n",
      "epoch:  40 loss:0.222713 auc:0.9418\n",
      "epoch:  60 loss:0.210821 auc:0.9418\n",
      "epoch:  80 loss:0.203461 auc:0.9439\n",
      "epoch: 100 loss:0.196979 auc:0.9446\n",
      "epoch: 120 loss:0.193826 auc:0.9446\n",
      "epoch: 140 loss:0.192185 auc:0.9453\n",
      "epoch: 160 loss:0.191398 auc:0.9460\n",
      "epoch: 180 loss:0.190081 auc:0.9460\n",
      "epoch: 200 loss:0.189843 auc:0.9460\n",
      "epoch: 220 loss:0.188191 auc:0.9481\n",
      "epoch: 240 loss:0.186501 auc:0.9481\n",
      "epoch: 260 loss:0.184856 auc:0.9494\n",
      "epoch: 280 loss:0.183646 auc:0.9494\n",
      "epoch: 300 loss:0.182225 auc:0.9467\n",
      "epoch: 320 loss:0.180079 auc:0.9508\n",
      "epoch: 340 loss:0.190911 auc:0.9501\n",
      "epoch: 360 loss:0.175931 auc:0.9515\n",
      "epoch: 380 loss:0.171751 auc:0.9494\n",
      "epoch: 400 loss:0.170879 auc:0.9481\n"
     ]
    },
    {
     "name": "stderr",
     "output_type": "stream",
     "text": [
      " 32%|███▏      | 293/916 [58:53<2:32:15, 14.66s/it]"
     ]
    },
    {
     "name": "stdout",
     "output_type": "stream",
     "text": [
      "epoch: 420 loss:0.168757 auc:0.9425\n",
      "Fit finished.\n",
      "epoch:   0 loss:0.908422 auc:0.1904\n",
      "epoch:  20 loss:0.320822 auc:0.9896\n",
      "epoch:  40 loss:0.234213 auc:0.9917\n",
      "epoch:  60 loss:0.214655 auc:0.9917\n",
      "epoch:  80 loss:0.206107 auc:0.9927\n",
      "epoch: 100 loss:0.199675 auc:0.9927\n",
      "epoch: 120 loss:0.195433 auc:0.9917\n",
      "epoch: 140 loss:0.193523 auc:0.9917\n",
      "epoch: 160 loss:0.192304 auc:0.9917\n",
      "epoch: 180 loss:0.193079 auc:0.9917\n",
      "epoch: 200 loss:0.190690 auc:0.9917\n",
      "epoch: 220 loss:0.190301 auc:0.9917\n"
     ]
    },
    {
     "name": "stderr",
     "output_type": "stream",
     "text": [
      " 32%|███▏      | 294/916 [59:04<2:22:11, 13.72s/it]"
     ]
    },
    {
     "name": "stdout",
     "output_type": "stream",
     "text": [
      "epoch: 240 loss:0.189230 auc:0.9917\n",
      "Fit finished.\n",
      "epoch:   0 loss:0.949456 auc:0.2500\n",
      "epoch:  20 loss:0.315605 auc:0.9800\n",
      "epoch:  40 loss:0.231539 auc:0.9933\n",
      "epoch:  60 loss:0.216520 auc:0.9933\n",
      "epoch:  80 loss:0.209308 auc:0.9922\n",
      "epoch: 100 loss:0.203980 auc:0.9933\n",
      "epoch: 120 loss:0.197841 auc:0.9933\n",
      "epoch: 140 loss:0.194202 auc:0.9933\n",
      "epoch: 160 loss:0.192558 auc:0.9933\n",
      "epoch: 180 loss:0.192349 auc:0.9933\n",
      "epoch: 200 loss:0.190839 auc:0.9933\n",
      "epoch: 220 loss:0.190072 auc:0.9933\n",
      "epoch: 240 loss:0.189767 auc:0.9933\n",
      "epoch: 260 loss:0.188761 auc:0.9933\n",
      "epoch: 280 loss:0.187862 auc:0.9933\n",
      "epoch: 300 loss:0.192486 auc:0.9933\n",
      "epoch: 320 loss:0.187353 auc:0.9933\n",
      "epoch: 340 loss:0.185420 auc:0.9944\n",
      "epoch: 360 loss:0.184181 auc:0.9956\n",
      "epoch: 380 loss:0.186996 auc:0.9956\n",
      "epoch: 400 loss:0.181938 auc:0.9956\n",
      "epoch: 420 loss:0.179344 auc:0.9944\n",
      "epoch: 440 loss:0.177569 auc:0.9944\n",
      "epoch: 460 loss:0.177213 auc:0.9956\n"
     ]
    },
    {
     "name": "stderr",
     "output_type": "stream",
     "text": [
      " 32%|███▏      | 295/916 [59:25<2:42:39, 15.72s/it]"
     ]
    },
    {
     "name": "stdout",
     "output_type": "stream",
     "text": [
      "epoch: 480 loss:0.172122 auc:0.9922\n",
      "Fit finished.\n",
      "epoch:   0 loss:0.586972 auc:0.3488\n",
      "epoch:  20 loss:0.277667 auc:0.9145\n",
      "epoch:  40 loss:0.228063 auc:0.9267\n",
      "epoch:  60 loss:0.213573 auc:0.9288\n",
      "epoch:  80 loss:0.206709 auc:0.9288\n",
      "epoch: 100 loss:0.200367 auc:0.9285\n",
      "epoch: 120 loss:0.194975 auc:0.9269\n",
      "epoch: 140 loss:0.192771 auc:0.9262\n",
      "epoch: 160 loss:0.191523 auc:0.9275\n",
      "epoch: 180 loss:0.190389 auc:0.9287\n",
      "epoch: 200 loss:0.189286 auc:0.9290\n",
      "epoch: 220 loss:0.188232 auc:0.9298\n",
      "epoch: 240 loss:0.187419 auc:0.9323\n",
      "epoch: 260 loss:0.187321 auc:0.9343\n",
      "epoch: 280 loss:0.185168 auc:0.9339\n",
      "epoch: 300 loss:0.182857 auc:0.9311\n",
      "epoch: 320 loss:0.181916 auc:0.9351\n",
      "epoch: 340 loss:0.178164 auc:0.9352\n",
      "epoch: 360 loss:0.177888 auc:0.9347\n"
     ]
    },
    {
     "name": "stderr",
     "output_type": "stream",
     "text": [
      " 32%|███▏      | 296/916 [59:42<2:46:29, 16.11s/it]"
     ]
    },
    {
     "name": "stdout",
     "output_type": "stream",
     "text": [
      "epoch: 380 loss:0.174862 auc:0.9278\n",
      "Fit finished.\n",
      "epoch:   0 loss:0.951251 auc:0.8362\n",
      "epoch:  20 loss:0.320954 auc:0.9583\n",
      "epoch:  40 loss:0.248906 auc:0.9616\n",
      "epoch:  60 loss:0.222423 auc:0.9644\n",
      "epoch:  80 loss:0.212423 auc:0.9655\n",
      "epoch: 100 loss:0.206641 auc:0.9648\n",
      "epoch: 120 loss:0.200982 auc:0.9637\n",
      "epoch: 140 loss:0.195719 auc:0.9637\n",
      "epoch: 160 loss:0.193385 auc:0.9633\n",
      "epoch: 180 loss:0.192191 auc:0.9633\n",
      "epoch: 200 loss:0.191366 auc:0.9637\n",
      "epoch: 220 loss:0.190463 auc:0.9651\n",
      "epoch: 240 loss:0.189916 auc:0.9669\n",
      "epoch: 260 loss:0.188872 auc:0.9690\n",
      "epoch: 280 loss:0.188784 auc:0.9697\n",
      "epoch: 300 loss:0.187651 auc:0.9737\n",
      "epoch: 320 loss:0.185902 auc:0.9758\n",
      "epoch: 340 loss:0.184983 auc:0.9765\n",
      "epoch: 360 loss:0.183378 auc:0.9772\n",
      "epoch: 380 loss:0.185593 auc:0.9769\n",
      "epoch: 400 loss:0.180339 auc:0.9747\n",
      "epoch: 420 loss:0.177839 auc:0.9740\n",
      "epoch: 440 loss:0.175363 auc:0.9719\n",
      "epoch: 460 loss:0.174232 auc:0.9737\n"
     ]
    },
    {
     "name": "stderr",
     "output_type": "stream",
     "text": [
      " 32%|███▏      | 297/916 [1:00:02<3:00:02, 17.45s/it]"
     ]
    },
    {
     "name": "stdout",
     "output_type": "stream",
     "text": [
      "epoch: 480 loss:0.171482 auc:0.9633\n",
      "Fit finished.\n",
      "epoch:   0 loss:1.001426 auc:0.2427\n",
      "epoch:  20 loss:0.319454 auc:0.9585\n",
      "epoch:  40 loss:0.229780 auc:0.9627\n",
      "epoch:  60 loss:0.214689 auc:0.9617\n",
      "epoch:  80 loss:0.208260 auc:0.9608\n",
      "epoch: 100 loss:0.203350 auc:0.9605\n",
      "epoch: 120 loss:0.198032 auc:0.9601\n",
      "epoch: 140 loss:0.194600 auc:0.9598\n",
      "epoch: 160 loss:0.193051 auc:0.9608\n",
      "epoch: 180 loss:0.191913 auc:0.9605\n"
     ]
    },
    {
     "name": "stderr",
     "output_type": "stream",
     "text": [
      " 33%|███▎      | 298/916 [1:00:11<2:33:58, 14.95s/it]"
     ]
    },
    {
     "name": "stdout",
     "output_type": "stream",
     "text": [
      "epoch: 200 loss:0.190850 auc:0.9611\n",
      "Fit finished.\n",
      "epoch:   0 loss:0.652297 auc:0.3478\n",
      "epoch:  20 loss:0.254389 auc:0.9509\n",
      "epoch:  40 loss:0.217927 auc:0.9849\n",
      "epoch:  60 loss:0.208195 auc:0.9868\n",
      "epoch:  80 loss:0.201536 auc:0.9868\n",
      "epoch: 100 loss:0.195234 auc:0.9868\n",
      "epoch: 120 loss:0.192907 auc:0.9868\n",
      "epoch: 140 loss:0.192011 auc:0.9887\n",
      "epoch: 160 loss:0.190574 auc:0.9887\n",
      "epoch: 180 loss:0.190813 auc:0.9905\n",
      "epoch: 200 loss:0.187036 auc:0.9905\n",
      "epoch: 220 loss:0.184667 auc:0.9943\n",
      "epoch: 240 loss:0.184140 auc:0.9924\n",
      "epoch: 260 loss:0.180731 auc:0.9943\n",
      "epoch: 280 loss:0.185645 auc:0.9905\n",
      "epoch: 300 loss:0.176866 auc:0.9924\n",
      "epoch: 320 loss:0.174520 auc:0.9943\n",
      "epoch: 340 loss:0.176003 auc:0.9943\n",
      "epoch: 360 loss:0.168489 auc:0.9943\n"
     ]
    },
    {
     "name": "stderr",
     "output_type": "stream",
     "text": [
      " 33%|███▎      | 299/916 [1:00:28<2:39:53, 15.55s/it]"
     ]
    },
    {
     "name": "stdout",
     "output_type": "stream",
     "text": [
      "epoch: 380 loss:0.165983 auc:0.9924\n",
      "Fit finished.\n",
      "epoch:   0 loss:0.729869 auc:0.3238\n",
      "epoch:  20 loss:0.262557 auc:0.9264\n",
      "epoch:  40 loss:0.220766 auc:0.9307\n",
      "epoch:  60 loss:0.212061 auc:0.9312\n",
      "epoch:  80 loss:0.207618 auc:0.9327\n",
      "epoch: 100 loss:0.202806 auc:0.9330\n",
      "epoch: 120 loss:0.197227 auc:0.9327\n",
      "epoch: 140 loss:0.194096 auc:0.9327\n",
      "epoch: 160 loss:0.192482 auc:0.9330\n",
      "epoch: 180 loss:0.191382 auc:0.9330\n",
      "epoch: 200 loss:0.191275 auc:0.9330\n",
      "epoch: 220 loss:0.189391 auc:0.9340\n"
     ]
    },
    {
     "name": "stderr",
     "output_type": "stream",
     "text": [
      " 33%|███▎      | 300/916 [1:00:40<2:27:26, 14.36s/it]"
     ]
    },
    {
     "name": "stdout",
     "output_type": "stream",
     "text": [
      "epoch: 240 loss:0.187969 auc:0.9325\n",
      "Fit finished.\n",
      "epoch:   0 loss:0.743326 auc:0.4992\n",
      "epoch:  20 loss:0.319073 auc:0.9848\n",
      "epoch:  40 loss:0.233716 auc:0.9856\n",
      "epoch:  60 loss:0.216472 auc:0.9832\n",
      "epoch:  80 loss:0.208572 auc:0.9844\n",
      "epoch: 100 loss:0.202778 auc:0.9840\n",
      "epoch: 120 loss:0.196692 auc:0.9844\n",
      "epoch: 140 loss:0.193659 auc:0.9840\n",
      "epoch: 160 loss:0.192282 auc:0.9840\n"
     ]
    },
    {
     "name": "stderr",
     "output_type": "stream",
     "text": [
      " 33%|███▎      | 301/916 [1:00:47<2:05:28, 12.24s/it]"
     ]
    },
    {
     "name": "stdout",
     "output_type": "stream",
     "text": [
      "epoch: 180 loss:0.191343 auc:0.9840\n",
      "Fit finished.\n",
      "epoch:   0 loss:0.694232 auc:0.6812\n",
      "epoch:  20 loss:0.316858 auc:0.9660\n",
      "epoch:  40 loss:0.233676 auc:0.9654\n",
      "epoch:  60 loss:0.216784 auc:0.9641\n",
      "epoch:  80 loss:0.208772 auc:0.9645\n",
      "epoch: 100 loss:0.202316 auc:0.9639\n",
      "epoch: 120 loss:0.195775 auc:0.9647\n",
      "epoch: 140 loss:0.193164 auc:0.9652\n",
      "epoch: 160 loss:0.194315 auc:0.9663\n",
      "epoch: 180 loss:0.191101 auc:0.9663\n",
      "epoch: 200 loss:0.190151 auc:0.9658\n",
      "epoch: 220 loss:0.189791 auc:0.9656\n",
      "epoch: 240 loss:0.189728 auc:0.9645\n",
      "epoch: 260 loss:0.187660 auc:0.9650\n"
     ]
    },
    {
     "name": "stderr",
     "output_type": "stream",
     "text": [
      " 33%|███▎      | 302/916 [1:01:00<2:08:07, 12.52s/it]"
     ]
    },
    {
     "name": "stdout",
     "output_type": "stream",
     "text": [
      "epoch: 280 loss:0.187169 auc:0.9628\n",
      "Fit finished.\n",
      "epoch:   0 loss:0.841666 auc:0.7886\n",
      "epoch:  20 loss:0.315746 auc:0.9617\n",
      "epoch:  40 loss:0.236724 auc:0.9685\n",
      "epoch:  60 loss:0.215629 auc:0.9693\n",
      "epoch:  80 loss:0.207441 auc:0.9705\n",
      "epoch: 100 loss:0.201341 auc:0.9728\n",
      "epoch: 120 loss:0.195918 auc:0.9740\n",
      "epoch: 140 loss:0.194059 auc:0.9746\n",
      "epoch: 160 loss:0.192401 auc:0.9746\n",
      "epoch: 180 loss:0.191417 auc:0.9748\n",
      "epoch: 200 loss:0.190686 auc:0.9743\n",
      "epoch: 220 loss:0.189921 auc:0.9733\n",
      "epoch: 240 loss:0.189737 auc:0.9723\n"
     ]
    },
    {
     "name": "stderr",
     "output_type": "stream",
     "text": [
      " 33%|███▎      | 303/916 [1:01:13<2:07:48, 12.51s/it]"
     ]
    },
    {
     "name": "stdout",
     "output_type": "stream",
     "text": [
      "epoch: 260 loss:0.188819 auc:0.9713\n",
      "Fit finished.\n",
      "epoch:   0 loss:0.607652 auc:0.4355\n",
      "epoch:  20 loss:0.280392 auc:0.9660\n",
      "epoch:  40 loss:0.220795 auc:0.9681\n",
      "epoch:  60 loss:0.210434 auc:0.9681\n",
      "epoch:  80 loss:0.203844 auc:0.9674\n",
      "epoch: 100 loss:0.196531 auc:0.9671\n",
      "epoch: 120 loss:0.193401 auc:0.9678\n",
      "epoch: 140 loss:0.191884 auc:0.9671\n",
      "epoch: 160 loss:0.190816 auc:0.9667\n"
     ]
    },
    {
     "name": "stderr",
     "output_type": "stream",
     "text": [
      " 33%|███▎      | 304/916 [1:01:22<1:57:28, 11.52s/it]"
     ]
    },
    {
     "name": "stdout",
     "output_type": "stream",
     "text": [
      "epoch: 180 loss:0.190700 auc:0.9650\n",
      "Fit finished.\n",
      "epoch:   0 loss:0.706465 auc:0.7462\n",
      "epoch:  20 loss:0.312481 auc:0.9283\n",
      "epoch:  40 loss:0.235404 auc:0.9244\n",
      "epoch:  60 loss:0.213751 auc:0.9264\n",
      "epoch:  80 loss:0.204387 auc:0.9297\n",
      "epoch: 100 loss:0.197908 auc:0.9277\n",
      "epoch: 120 loss:0.194702 auc:0.9283\n",
      "epoch: 140 loss:0.193191 auc:0.9316\n",
      "epoch: 160 loss:0.192145 auc:0.9316\n",
      "epoch: 180 loss:0.191317 auc:0.9329\n",
      "epoch: 200 loss:0.190688 auc:0.9316\n",
      "epoch: 220 loss:0.190195 auc:0.9310\n",
      "epoch: 240 loss:0.189562 auc:0.9316\n",
      "epoch: 260 loss:0.189999 auc:0.9297\n",
      "epoch: 280 loss:0.188403 auc:0.9323\n",
      "epoch: 300 loss:0.187495 auc:0.9329\n"
     ]
    },
    {
     "name": "stderr",
     "output_type": "stream",
     "text": [
      " 33%|███▎      | 305/916 [1:01:35<2:03:07, 12.09s/it]"
     ]
    },
    {
     "name": "stdout",
     "output_type": "stream",
     "text": [
      "epoch: 320 loss:0.186244 auc:0.9283\n",
      "Fit finished.\n",
      "epoch:   0 loss:1.550821 auc:0.3439\n",
      "epoch:  20 loss:0.302314 auc:0.9691\n",
      "epoch:  40 loss:0.231868 auc:0.9689\n",
      "epoch:  60 loss:0.216827 auc:0.9691\n",
      "epoch:  80 loss:0.210964 auc:0.9670\n",
      "epoch: 100 loss:0.206866 auc:0.9675\n",
      "epoch: 120 loss:0.202213 auc:0.9675\n",
      "epoch: 140 loss:0.197227 auc:0.9675\n",
      "epoch: 160 loss:0.194243 auc:0.9669\n"
     ]
    },
    {
     "name": "stderr",
     "output_type": "stream",
     "text": [
      " 33%|███▎      | 306/916 [1:01:44<1:51:25, 10.96s/it]"
     ]
    },
    {
     "name": "stdout",
     "output_type": "stream",
     "text": [
      "epoch: 180 loss:0.192708 auc:0.9668\n",
      "Fit finished.\n",
      "epoch:   0 loss:0.725004 auc:0.2669\n",
      "epoch:  20 loss:0.278683 auc:0.9688\n",
      "epoch:  40 loss:0.224434 auc:0.9731\n",
      "epoch:  60 loss:0.211708 auc:0.9727\n",
      "epoch:  80 loss:0.204304 auc:0.9714\n",
      "epoch: 100 loss:0.197512 auc:0.9718\n",
      "epoch: 120 loss:0.194086 auc:0.9714\n",
      "epoch: 140 loss:0.192559 auc:0.9718\n",
      "epoch: 160 loss:0.191360 auc:0.9722\n",
      "epoch: 180 loss:0.191161 auc:0.9718\n"
     ]
    },
    {
     "name": "stderr",
     "output_type": "stream",
     "text": [
      " 34%|███▎      | 307/916 [1:01:53<1:47:11, 10.56s/it]"
     ]
    },
    {
     "name": "stdout",
     "output_type": "stream",
     "text": [
      "epoch: 200 loss:0.189770 auc:0.9722\n",
      "Fit finished.\n",
      "epoch:   0 loss:0.947202 auc:0.2959\n",
      "epoch:  20 loss:0.318791 auc:0.9860\n",
      "epoch:  40 loss:0.239525 auc:0.9949\n",
      "epoch:  60 loss:0.216614 auc:0.9974\n",
      "epoch:  80 loss:0.207502 auc:0.9987\n",
      "epoch: 100 loss:0.199183 auc:0.9987\n",
      "epoch: 120 loss:0.194529 auc:0.9987\n",
      "epoch: 140 loss:0.192613 auc:0.9987\n",
      "epoch: 160 loss:0.191610 auc:0.9987\n",
      "epoch: 180 loss:0.191182 auc:0.9987\n",
      "epoch: 200 loss:0.189913 auc:0.9987\n",
      "epoch: 220 loss:0.188790 auc:0.9987\n"
     ]
    },
    {
     "name": "stderr",
     "output_type": "stream",
     "text": [
      " 34%|███▎      | 308/916 [1:02:03<1:44:08, 10.28s/it]"
     ]
    },
    {
     "name": "stdout",
     "output_type": "stream",
     "text": [
      "epoch: 240 loss:0.188381 auc:0.9974\n",
      "Fit finished.\n",
      "epoch:   0 loss:0.737750 auc:0.7756\n",
      "epoch:  20 loss:0.305382 auc:0.9418\n",
      "epoch:  40 loss:0.227960 auc:0.9488\n",
      "epoch:  60 loss:0.211692 auc:0.9481\n",
      "epoch:  80 loss:0.204915 auc:0.9494\n",
      "epoch: 100 loss:0.198578 auc:0.9501\n",
      "epoch: 120 loss:0.194730 auc:0.9501\n",
      "epoch: 140 loss:0.193037 auc:0.9501\n",
      "epoch: 160 loss:0.191908 auc:0.9501\n",
      "epoch: 180 loss:0.192326 auc:0.9508\n",
      "epoch: 200 loss:0.190589 auc:0.9515\n",
      "epoch: 220 loss:0.189711 auc:0.9522\n",
      "epoch: 240 loss:0.188711 auc:0.9522\n",
      "epoch: 260 loss:0.190144 auc:0.9508\n",
      "epoch: 280 loss:0.187560 auc:0.9522\n",
      "epoch: 300 loss:0.186413 auc:0.9571\n",
      "epoch: 320 loss:0.185438 auc:0.9578\n",
      "epoch: 340 loss:0.184108 auc:0.9584\n",
      "epoch: 360 loss:0.192605 auc:0.9598\n",
      "epoch: 380 loss:0.182914 auc:0.9571\n",
      "epoch: 400 loss:0.180477 auc:0.9550\n",
      "epoch: 420 loss:0.181481 auc:0.9591\n",
      "epoch: 440 loss:0.176352 auc:0.9571\n"
     ]
    },
    {
     "name": "stderr",
     "output_type": "stream",
     "text": [
      " 34%|███▎      | 309/916 [1:02:23<2:13:17, 13.18s/it]"
     ]
    },
    {
     "name": "stdout",
     "output_type": "stream",
     "text": [
      "epoch: 460 loss:0.182727 auc:0.9494\n",
      "Fit finished.\n",
      "epoch:   0 loss:0.858391 auc:0.7595\n",
      "epoch:  20 loss:0.318894 auc:0.9784\n",
      "epoch:  40 loss:0.232772 auc:0.9773\n",
      "epoch:  60 loss:0.215843 auc:0.9756\n",
      "epoch:  80 loss:0.208458 auc:0.9749\n",
      "epoch: 100 loss:0.203187 auc:0.9747\n",
      "epoch: 120 loss:0.197931 auc:0.9749\n",
      "epoch: 140 loss:0.194583 auc:0.9749\n",
      "epoch: 160 loss:0.192969 auc:0.9747\n"
     ]
    },
    {
     "name": "stderr",
     "output_type": "stream",
     "text": [
      " 34%|███▍      | 310/916 [1:02:31<1:57:05, 11.59s/it]"
     ]
    },
    {
     "name": "stdout",
     "output_type": "stream",
     "text": [
      "epoch: 180 loss:0.191950 auc:0.9745\n",
      "Fit finished.\n",
      "epoch:   0 loss:0.876218 auc:0.4223\n",
      "epoch:  20 loss:0.311154 auc:0.9492\n",
      "epoch:  40 loss:0.233513 auc:0.9518\n",
      "epoch:  60 loss:0.216651 auc:0.9510\n",
      "epoch:  80 loss:0.209577 auc:0.9518\n",
      "epoch: 100 loss:0.204347 auc:0.9505\n",
      "epoch: 120 loss:0.198714 auc:0.9505\n",
      "epoch: 140 loss:0.194680 auc:0.9497\n",
      "epoch: 160 loss:0.192775 auc:0.9492\n",
      "epoch: 180 loss:0.191627 auc:0.9497\n"
     ]
    },
    {
     "name": "stderr",
     "output_type": "stream",
     "text": [
      " 34%|███▍      | 311/916 [1:02:39<1:46:04, 10.52s/it]"
     ]
    },
    {
     "name": "stdout",
     "output_type": "stream",
     "text": [
      "epoch: 200 loss:0.190835 auc:0.9505\n",
      "Fit finished.\n",
      "epoch:   0 loss:1.057615 auc:0.6371\n",
      "epoch:  20 loss:0.337329 auc:0.9546\n",
      "epoch:  40 loss:0.256451 auc:0.9678\n",
      "epoch:  60 loss:0.223095 auc:0.9704\n",
      "epoch:  80 loss:0.212658 auc:0.9717\n",
      "epoch: 100 loss:0.207513 auc:0.9717\n",
      "epoch: 120 loss:0.202302 auc:0.9717\n",
      "epoch: 140 loss:0.196300 auc:0.9717\n",
      "epoch: 160 loss:0.193299 auc:0.9711\n",
      "epoch: 180 loss:0.192018 auc:0.9711\n",
      "epoch: 200 loss:0.191697 auc:0.9717\n",
      "epoch: 220 loss:0.190200 auc:0.9717\n",
      "epoch: 240 loss:0.190354 auc:0.9730\n",
      "epoch: 260 loss:0.188894 auc:0.9737\n",
      "epoch: 280 loss:0.188431 auc:0.9744\n",
      "epoch: 300 loss:0.188030 auc:0.9730\n",
      "epoch: 320 loss:0.186285 auc:0.9770\n",
      "epoch: 340 loss:0.186720 auc:0.9750\n",
      "epoch: 360 loss:0.184473 auc:0.9776\n",
      "epoch: 380 loss:0.183206 auc:0.9770\n",
      "epoch: 400 loss:0.182755 auc:0.9763\n"
     ]
    },
    {
     "name": "stderr",
     "output_type": "stream",
     "text": [
      " 34%|███▍      | 312/916 [1:02:58<2:12:20, 13.15s/it]"
     ]
    },
    {
     "name": "stdout",
     "output_type": "stream",
     "text": [
      "epoch: 420 loss:0.181181 auc:0.9717\n",
      "Fit finished.\n",
      "epoch:   0 loss:1.025796 auc:0.5825\n",
      "epoch:  20 loss:0.290945 auc:0.9539\n",
      "epoch:  40 loss:0.228487 auc:0.9504\n",
      "epoch:  60 loss:0.214086 auc:0.9566\n",
      "epoch:  80 loss:0.208939 auc:0.9585\n",
      "epoch: 100 loss:0.204699 auc:0.9600\n",
      "epoch: 120 loss:0.199925 auc:0.9604\n",
      "epoch: 140 loss:0.195548 auc:0.9608\n",
      "epoch: 160 loss:0.193308 auc:0.9596\n",
      "epoch: 180 loss:0.191954 auc:0.9585\n",
      "epoch: 200 loss:0.190865 auc:0.9581\n",
      "epoch: 220 loss:0.189758 auc:0.9577\n"
     ]
    },
    {
     "name": "stderr",
     "output_type": "stream",
     "text": [
      " 34%|███▍      | 313/916 [1:03:08<2:02:40, 12.21s/it]"
     ]
    },
    {
     "name": "stdout",
     "output_type": "stream",
     "text": [
      "epoch: 240 loss:0.188994 auc:0.9581\n",
      "Fit finished.\n",
      "epoch:   0 loss:0.991414 auc:0.9541\n",
      "epoch:  20 loss:0.335867 auc:0.9837\n",
      "epoch:  40 loss:0.258432 auc:0.9946\n",
      "epoch:  60 loss:0.223691 auc:0.9956\n",
      "epoch:  80 loss:0.212434 auc:0.9941\n",
      "epoch: 100 loss:0.207538 auc:0.9946\n",
      "epoch: 120 loss:0.203386 auc:0.9946\n",
      "epoch: 140 loss:0.198931 auc:0.9951\n",
      "epoch: 160 loss:0.195245 auc:0.9946\n",
      "epoch: 180 loss:0.193427 auc:0.9946\n"
     ]
    },
    {
     "name": "stderr",
     "output_type": "stream",
     "text": [
      " 34%|███▍      | 314/916 [1:03:18<1:54:42, 11.43s/it]"
     ]
    },
    {
     "name": "stdout",
     "output_type": "stream",
     "text": [
      "epoch: 200 loss:0.192354 auc:0.9941\n",
      "Fit finished.\n",
      "epoch:   0 loss:0.679853 auc:0.2836\n",
      "epoch:  20 loss:0.259908 auc:0.9678\n",
      "epoch:  40 loss:0.220275 auc:0.9686\n",
      "epoch:  60 loss:0.211508 auc:0.9706\n",
      "epoch:  80 loss:0.206666 auc:0.9728\n",
      "epoch: 100 loss:0.200601 auc:0.9725\n",
      "epoch: 120 loss:0.195169 auc:0.9725\n",
      "epoch: 140 loss:0.192936 auc:0.9728\n",
      "epoch: 160 loss:0.191507 auc:0.9722\n",
      "epoch: 180 loss:0.190141 auc:0.9728\n",
      "epoch: 200 loss:0.189305 auc:0.9722\n"
     ]
    },
    {
     "name": "stderr",
     "output_type": "stream",
     "text": [
      " 34%|███▍      | 315/916 [1:03:26<1:43:39, 10.35s/it]"
     ]
    },
    {
     "name": "stdout",
     "output_type": "stream",
     "text": [
      "epoch: 220 loss:0.187654 auc:0.9697\n",
      "Fit finished.\n",
      "epoch:   0 loss:0.817327 auc:0.6353\n",
      "epoch:  20 loss:0.312674 auc:0.9560\n",
      "epoch:  40 loss:0.234098 auc:0.9673\n",
      "epoch:  60 loss:0.216390 auc:0.9709\n",
      "epoch:  80 loss:0.209288 auc:0.9709\n",
      "epoch: 100 loss:0.204502 auc:0.9709\n",
      "epoch: 120 loss:0.199437 auc:0.9709\n",
      "epoch: 140 loss:0.195321 auc:0.9714\n",
      "epoch: 160 loss:0.193381 auc:0.9714\n",
      "epoch: 180 loss:0.192290 auc:0.9709\n",
      "epoch: 200 loss:0.191654 auc:0.9709\n",
      "epoch: 220 loss:0.190845 auc:0.9709\n",
      "epoch: 240 loss:0.190315 auc:0.9709\n",
      "epoch: 260 loss:0.190993 auc:0.9709\n"
     ]
    },
    {
     "name": "stderr",
     "output_type": "stream",
     "text": [
      " 34%|███▍      | 316/916 [1:03:39<1:53:05, 11.31s/it]"
     ]
    },
    {
     "name": "stdout",
     "output_type": "stream",
     "text": [
      "epoch: 280 loss:0.189159 auc:0.9703\n",
      "Fit finished.\n",
      "epoch:   0 loss:0.599931 auc:0.5768\n",
      "epoch:  20 loss:0.283893 auc:0.9813\n",
      "epoch:  40 loss:0.224045 auc:0.9839\n",
      "epoch:  60 loss:0.210126 auc:0.9836\n",
      "epoch:  80 loss:0.202866 auc:0.9836\n",
      "epoch: 100 loss:0.196550 auc:0.9831\n",
      "epoch: 120 loss:0.193632 auc:0.9819\n",
      "epoch: 140 loss:0.192019 auc:0.9816\n",
      "epoch: 160 loss:0.191622 auc:0.9813\n",
      "epoch: 180 loss:0.189985 auc:0.9813\n"
     ]
    },
    {
     "name": "stderr",
     "output_type": "stream",
     "text": [
      " 35%|███▍      | 317/916 [1:03:48<1:44:14, 10.44s/it]"
     ]
    },
    {
     "name": "stdout",
     "output_type": "stream",
     "text": [
      "epoch: 200 loss:0.188889 auc:0.9799\n",
      "Fit finished.\n",
      "epoch:   0 loss:0.763239 auc:0.2565\n",
      "epoch:  20 loss:0.254808 auc:0.9599\n",
      "epoch:  40 loss:0.218415 auc:0.9578\n",
      "epoch:  60 loss:0.208469 auc:0.9577\n",
      "epoch:  80 loss:0.201751 auc:0.9587\n",
      "epoch: 100 loss:0.195097 auc:0.9594\n",
      "epoch: 120 loss:0.192627 auc:0.9585\n",
      "epoch: 140 loss:0.195296 auc:0.9597\n",
      "epoch: 160 loss:0.190776 auc:0.9612\n"
     ]
    },
    {
     "name": "stderr",
     "output_type": "stream",
     "text": [
      " 35%|███▍      | 318/916 [1:03:56<1:37:54,  9.82s/it]"
     ]
    },
    {
     "name": "stdout",
     "output_type": "stream",
     "text": [
      "epoch: 180 loss:0.189106 auc:0.9597\n",
      "Fit finished.\n",
      "epoch:   0 loss:1.064353 auc:0.5924\n",
      "epoch:  20 loss:0.328861 auc:0.9171\n",
      "epoch:  40 loss:0.251857 auc:0.9188\n",
      "epoch:  60 loss:0.221848 auc:0.9188\n",
      "epoch:  80 loss:0.210650 auc:0.9188\n",
      "epoch: 100 loss:0.204315 auc:0.9192\n",
      "epoch: 120 loss:0.198206 auc:0.9198\n",
      "epoch: 140 loss:0.194471 auc:0.9196\n",
      "epoch: 160 loss:0.192732 auc:0.9190\n",
      "epoch: 180 loss:0.191593 auc:0.9200\n"
     ]
    },
    {
     "name": "stderr",
     "output_type": "stream",
     "text": [
      " 35%|███▍      | 319/916 [1:04:06<1:37:54,  9.84s/it]"
     ]
    },
    {
     "name": "stdout",
     "output_type": "stream",
     "text": [
      "epoch: 200 loss:0.191037 auc:0.9178\n",
      "Fit finished.\n",
      "epoch:   0 loss:0.613532 auc:0.2624\n",
      "epoch:  20 loss:0.279575 auc:0.9740\n",
      "epoch:  40 loss:0.221697 auc:0.9765\n",
      "epoch:  60 loss:0.210031 auc:0.9757\n",
      "epoch:  80 loss:0.203752 auc:0.9753\n",
      "epoch: 100 loss:0.197371 auc:0.9752\n",
      "epoch: 120 loss:0.194064 auc:0.9753\n",
      "epoch: 140 loss:0.192618 auc:0.9753\n",
      "epoch: 160 loss:0.191242 auc:0.9761\n",
      "epoch: 180 loss:0.193623 auc:0.9753\n"
     ]
    },
    {
     "name": "stderr",
     "output_type": "stream",
     "text": [
      " 35%|███▍      | 320/916 [1:04:15<1:35:55,  9.66s/it]"
     ]
    },
    {
     "name": "stdout",
     "output_type": "stream",
     "text": [
      "epoch: 200 loss:0.189668 auc:0.9762\n",
      "Fit finished.\n",
      "epoch:   0 loss:0.912283 auc:0.3590\n",
      "epoch:  20 loss:0.275224 auc:0.9560\n",
      "epoch:  40 loss:0.223447 auc:0.9579\n",
      "epoch:  60 loss:0.212208 auc:0.9638\n",
      "epoch:  80 loss:0.207084 auc:0.9652\n",
      "epoch: 100 loss:0.201921 auc:0.9652\n",
      "epoch: 120 loss:0.196667 auc:0.9652\n",
      "epoch: 140 loss:0.194418 auc:0.9665\n",
      "epoch: 160 loss:0.192428 auc:0.9645\n",
      "epoch: 180 loss:0.191329 auc:0.9632\n",
      "epoch: 200 loss:0.191121 auc:0.9638\n"
     ]
    },
    {
     "name": "stderr",
     "output_type": "stream",
     "text": [
      " 35%|███▌      | 321/916 [1:04:26<1:39:12, 10.00s/it]"
     ]
    },
    {
     "name": "stdout",
     "output_type": "stream",
     "text": [
      "epoch: 220 loss:0.189355 auc:0.9632\n",
      "Fit finished.\n",
      "epoch:   0 loss:0.611700 auc:0.3740\n",
      "epoch:  20 loss:0.250791 auc:0.9780\n",
      "epoch:  40 loss:0.214831 auc:0.9739\n",
      "epoch:  60 loss:0.204974 auc:0.9729\n",
      "epoch:  80 loss:0.197333 auc:0.9735\n",
      "epoch: 100 loss:0.194896 auc:0.9732\n",
      "epoch: 120 loss:0.192090 auc:0.9726\n",
      "epoch: 140 loss:0.193766 auc:0.9723\n",
      "epoch: 160 loss:0.189422 auc:0.9716\n"
     ]
    },
    {
     "name": "stderr",
     "output_type": "stream",
     "text": [
      " 35%|███▌      | 322/916 [1:04:34<1:33:15,  9.42s/it]"
     ]
    },
    {
     "name": "stdout",
     "output_type": "stream",
     "text": [
      "epoch: 180 loss:0.192621 auc:0.9707\n",
      "Fit finished.\n",
      "epoch:   0 loss:0.954338 auc:0.6709\n",
      "epoch:  20 loss:0.316288 auc:0.9326\n",
      "epoch:  40 loss:0.233830 auc:0.9324\n",
      "epoch:  60 loss:0.216385 auc:0.9369\n",
      "epoch:  80 loss:0.209004 auc:0.9381\n",
      "epoch: 100 loss:0.203772 auc:0.9366\n",
      "epoch: 120 loss:0.198283 auc:0.9368\n",
      "epoch: 140 loss:0.194589 auc:0.9354\n",
      "epoch: 160 loss:0.192894 auc:0.9349\n",
      "epoch: 180 loss:0.191804 auc:0.9336\n",
      "epoch: 200 loss:0.190932 auc:0.9324\n"
     ]
    },
    {
     "name": "stderr",
     "output_type": "stream",
     "text": [
      " 35%|███▌      | 323/916 [1:04:44<1:34:54,  9.60s/it]"
     ]
    },
    {
     "name": "stdout",
     "output_type": "stream",
     "text": [
      "epoch: 220 loss:0.190095 auc:0.9283\n",
      "Fit finished.\n",
      "epoch:   0 loss:0.863292 auc:0.6125\n",
      "epoch:  20 loss:0.318500 auc:0.9615\n",
      "epoch:  40 loss:0.236454 auc:0.9627\n",
      "epoch:  60 loss:0.219012 auc:0.9584\n",
      "epoch:  80 loss:0.211073 auc:0.9577\n",
      "epoch: 100 loss:0.206029 auc:0.9584\n",
      "epoch: 120 loss:0.200917 auc:0.9579\n",
      "epoch: 140 loss:0.196269 auc:0.9582\n",
      "epoch: 160 loss:0.193833 auc:0.9582\n"
     ]
    },
    {
     "name": "stderr",
     "output_type": "stream",
     "text": [
      " 35%|███▌      | 324/916 [1:04:52<1:30:01,  9.12s/it]"
     ]
    },
    {
     "name": "stdout",
     "output_type": "stream",
     "text": [
      "epoch: 180 loss:0.192512 auc:0.9582\n",
      "Fit finished.\n",
      "epoch:   0 loss:0.657762 auc:0.4145\n",
      "epoch:  20 loss:0.257348 auc:0.9697\n",
      "epoch:  40 loss:0.219992 auc:0.9755\n",
      "epoch:  60 loss:0.211209 auc:0.9778\n",
      "epoch:  80 loss:0.206290 auc:0.9786\n",
      "epoch: 100 loss:0.200612 auc:0.9780\n",
      "epoch: 120 loss:0.195313 auc:0.9778\n",
      "epoch: 140 loss:0.192919 auc:0.9774\n",
      "epoch: 160 loss:0.191475 auc:0.9778\n",
      "epoch: 180 loss:0.190098 auc:0.9782\n",
      "epoch: 200 loss:0.189971 auc:0.9796\n",
      "epoch: 220 loss:0.187241 auc:0.9801\n",
      "epoch: 240 loss:0.185798 auc:0.9801\n"
     ]
    },
    {
     "name": "stderr",
     "output_type": "stream",
     "text": [
      " 35%|███▌      | 325/916 [1:05:04<1:38:17,  9.98s/it]"
     ]
    },
    {
     "name": "stdout",
     "output_type": "stream",
     "text": [
      "epoch: 260 loss:0.183755 auc:0.9770\n",
      "Fit finished.\n",
      "epoch:   0 loss:0.640274 auc:0.5437\n",
      "epoch:  20 loss:0.307502 auc:0.9709\n",
      "epoch:  40 loss:0.232673 auc:0.9738\n",
      "epoch:  60 loss:0.214675 auc:0.9773\n",
      "epoch:  80 loss:0.206646 auc:0.9728\n",
      "epoch: 100 loss:0.199891 auc:0.9748\n",
      "epoch: 120 loss:0.195178 auc:0.9743\n",
      "epoch: 140 loss:0.193117 auc:0.9738\n",
      "epoch: 160 loss:0.191800 auc:0.9748\n",
      "epoch: 180 loss:0.190807 auc:0.9753\n",
      "epoch: 200 loss:0.189886 auc:0.9753\n"
     ]
    },
    {
     "name": "stderr",
     "output_type": "stream",
     "text": [
      " 36%|███▌      | 326/916 [1:05:14<1:38:55, 10.06s/it]"
     ]
    },
    {
     "name": "stdout",
     "output_type": "stream",
     "text": [
      "epoch: 220 loss:0.190439 auc:0.9768\n",
      "Fit finished.\n",
      "epoch:   0 loss:1.137619 auc:0.7223\n",
      "epoch:  20 loss:0.326977 auc:0.9526\n",
      "epoch:  40 loss:0.248251 auc:0.9577\n",
      "epoch:  60 loss:0.217404 auc:0.9620\n",
      "epoch:  80 loss:0.207481 auc:0.9640\n",
      "epoch: 100 loss:0.200538 auc:0.9645\n",
      "epoch: 120 loss:0.195450 auc:0.9642\n",
      "epoch: 140 loss:0.193305 auc:0.9650\n",
      "epoch: 160 loss:0.192574 auc:0.9650\n",
      "epoch: 180 loss:0.191314 auc:0.9647\n",
      "epoch: 200 loss:0.190643 auc:0.9645\n",
      "epoch: 220 loss:0.190515 auc:0.9642\n"
     ]
    },
    {
     "name": "stderr",
     "output_type": "stream",
     "text": [
      " 36%|███▌      | 327/916 [1:05:26<1:44:38, 10.66s/it]"
     ]
    },
    {
     "name": "stdout",
     "output_type": "stream",
     "text": [
      "epoch: 240 loss:0.189906 auc:0.9630\n",
      "Fit finished.\n",
      "epoch:   0 loss:0.625544 auc:0.2999\n",
      "epoch:  20 loss:0.272545 auc:0.9602\n",
      "epoch:  40 loss:0.220980 auc:0.9629\n",
      "epoch:  60 loss:0.210213 auc:0.9583\n",
      "epoch:  80 loss:0.204747 auc:0.9608\n",
      "epoch: 100 loss:0.199201 auc:0.9618\n",
      "epoch: 120 loss:0.194869 auc:0.9624\n",
      "epoch: 140 loss:0.192864 auc:0.9616\n",
      "epoch: 160 loss:0.191543 auc:0.9613\n"
     ]
    },
    {
     "name": "stderr",
     "output_type": "stream",
     "text": [
      " 36%|███▌      | 328/916 [1:05:34<1:36:47,  9.88s/it]"
     ]
    },
    {
     "name": "stdout",
     "output_type": "stream",
     "text": [
      "epoch: 180 loss:0.195296 auc:0.9583\n",
      "Fit finished.\n",
      "epoch:   0 loss:0.629804 auc:0.4086\n",
      "epoch:  20 loss:0.253244 auc:0.9681\n",
      "epoch:  40 loss:0.216839 auc:0.9709\n",
      "epoch:  60 loss:0.207753 auc:0.9681\n",
      "epoch:  80 loss:0.201872 auc:0.9681\n",
      "epoch: 100 loss:0.196325 auc:0.9681\n",
      "epoch: 120 loss:0.193761 auc:0.9681\n",
      "epoch: 140 loss:0.192214 auc:0.9681\n",
      "epoch: 160 loss:0.193100 auc:0.9681\n",
      "epoch: 180 loss:0.190121 auc:0.9695\n",
      "epoch: 200 loss:0.189028 auc:0.9716\n",
      "epoch: 220 loss:0.186851 auc:0.9723\n",
      "epoch: 240 loss:0.185541 auc:0.9737\n",
      "epoch: 260 loss:0.183667 auc:0.9744\n",
      "epoch: 280 loss:0.180349 auc:0.9737\n",
      "epoch: 300 loss:0.178316 auc:0.9744\n",
      "epoch: 320 loss:0.177849 auc:0.9723\n",
      "epoch: 340 loss:0.172556 auc:0.9730\n"
     ]
    },
    {
     "name": "stderr",
     "output_type": "stream",
     "text": [
      " 36%|███▌      | 329/916 [1:05:51<1:56:30, 11.91s/it]"
     ]
    },
    {
     "name": "stdout",
     "output_type": "stream",
     "text": [
      "epoch: 360 loss:0.170739 auc:0.9681\n",
      "Fit finished.\n",
      "epoch:   0 loss:0.997873 auc:0.6734\n",
      "epoch:  20 loss:0.297323 auc:0.9412\n",
      "epoch:  40 loss:0.230809 auc:0.9507\n",
      "epoch:  60 loss:0.216539 auc:0.9653\n",
      "epoch:  80 loss:0.210683 auc:0.9656\n",
      "epoch: 100 loss:0.206274 auc:0.9650\n",
      "epoch: 120 loss:0.201236 auc:0.9650\n",
      "epoch: 140 loss:0.196239 auc:0.9650\n",
      "epoch: 160 loss:0.193622 auc:0.9643\n",
      "epoch: 180 loss:0.192214 auc:0.9633\n",
      "epoch: 200 loss:0.191200 auc:0.9640\n"
     ]
    },
    {
     "name": "stderr",
     "output_type": "stream",
     "text": [
      " 36%|███▌      | 330/916 [1:06:01<1:52:08, 11.48s/it]"
     ]
    },
    {
     "name": "stdout",
     "output_type": "stream",
     "text": [
      "epoch: 220 loss:0.190629 auc:0.9640\n",
      "Fit finished.\n",
      "epoch:   0 loss:0.637785 auc:0.2593\n",
      "epoch:  20 loss:0.273388 auc:0.9737\n",
      "epoch:  40 loss:0.221208 auc:0.9788\n",
      "epoch:  60 loss:0.210431 auc:0.9744\n",
      "epoch:  80 loss:0.204407 auc:0.9752\n",
      "epoch: 100 loss:0.197784 auc:0.9752\n",
      "epoch: 120 loss:0.193948 auc:0.9752\n",
      "epoch: 140 loss:0.200832 auc:0.9759\n",
      "epoch: 160 loss:0.191813 auc:0.9766\n",
      "epoch: 180 loss:0.189962 auc:0.9766\n"
     ]
    },
    {
     "name": "stderr",
     "output_type": "stream",
     "text": [
      " 36%|███▌      | 331/916 [1:06:10<1:44:19, 10.70s/it]"
     ]
    },
    {
     "name": "stdout",
     "output_type": "stream",
     "text": [
      "epoch: 200 loss:0.196604 auc:0.9774\n",
      "Fit finished.\n",
      "epoch:   0 loss:0.943360 auc:0.5864\n",
      "epoch:  20 loss:0.318290 auc:0.8951\n",
      "epoch:  40 loss:0.233505 auc:0.9082\n",
      "epoch:  60 loss:0.216225 auc:0.9167\n",
      "epoch:  80 loss:0.209381 auc:0.9190\n",
      "epoch: 100 loss:0.204713 auc:0.9182\n",
      "epoch: 120 loss:0.199740 auc:0.9174\n",
      "epoch: 140 loss:0.195435 auc:0.9182\n",
      "epoch: 160 loss:0.193248 auc:0.9182\n",
      "epoch: 180 loss:0.192079 auc:0.9159\n",
      "epoch: 200 loss:0.190876 auc:0.9136\n"
     ]
    },
    {
     "name": "stderr",
     "output_type": "stream",
     "text": [
      " 36%|███▌      | 332/916 [1:06:21<1:43:48, 10.66s/it]"
     ]
    },
    {
     "name": "stdout",
     "output_type": "stream",
     "text": [
      "epoch: 220 loss:0.192601 auc:0.9035\n",
      "Fit finished.\n",
      "epoch:   0 loss:0.675125 auc:0.6429\n",
      "epoch:  20 loss:0.301974 auc:0.9613\n",
      "epoch:  40 loss:0.230368 auc:0.9599\n",
      "epoch:  60 loss:0.212991 auc:0.9585\n",
      "epoch:  80 loss:0.204687 auc:0.9579\n",
      "epoch: 100 loss:0.198044 auc:0.9581\n",
      "epoch: 120 loss:0.194543 auc:0.9575\n",
      "epoch: 140 loss:0.192979 auc:0.9585\n",
      "epoch: 160 loss:0.191818 auc:0.9579\n"
     ]
    },
    {
     "name": "stderr",
     "output_type": "stream",
     "text": [
      " 36%|███▋      | 333/916 [1:06:29<1:36:31,  9.93s/it]"
     ]
    },
    {
     "name": "stdout",
     "output_type": "stream",
     "text": [
      "epoch: 180 loss:0.195399 auc:0.9577\n",
      "Fit finished.\n",
      "epoch:   0 loss:0.905223 auc:0.3354\n",
      "epoch:  20 loss:0.335139 auc:0.9331\n",
      "epoch:  40 loss:0.242057 auc:0.9349\n",
      "epoch:  60 loss:0.219755 auc:0.9397\n",
      "epoch:  80 loss:0.212009 auc:0.9427\n",
      "epoch: 100 loss:0.207531 auc:0.9453\n",
      "epoch: 120 loss:0.202873 auc:0.9456\n",
      "epoch: 140 loss:0.197701 auc:0.9460\n",
      "epoch: 160 loss:0.194328 auc:0.9460\n",
      "epoch: 180 loss:0.192774 auc:0.9460\n",
      "epoch: 200 loss:0.191693 auc:0.9460\n",
      "epoch: 220 loss:0.192168 auc:0.9456\n",
      "epoch: 240 loss:0.190165 auc:0.9456\n",
      "epoch: 260 loss:0.189250 auc:0.9464\n",
      "epoch: 280 loss:0.188720 auc:0.9460\n"
     ]
    },
    {
     "name": "stderr",
     "output_type": "stream",
     "text": [
      " 36%|███▋      | 334/916 [1:06:42<1:45:08, 10.84s/it]"
     ]
    },
    {
     "name": "stdout",
     "output_type": "stream",
     "text": [
      "epoch: 300 loss:0.187435 auc:0.9442\n",
      "Fit finished.\n",
      "epoch:   0 loss:0.992940 auc:0.5995\n",
      "epoch:  20 loss:0.308357 auc:0.9719\n",
      "epoch:  40 loss:0.237004 auc:0.9770\n",
      "epoch:  60 loss:0.219124 auc:0.9777\n",
      "epoch:  80 loss:0.211458 auc:0.9777\n",
      "epoch: 100 loss:0.207300 auc:0.9777\n",
      "epoch: 120 loss:0.203344 auc:0.9767\n",
      "epoch: 140 loss:0.198808 auc:0.9767\n",
      "epoch: 160 loss:0.195115 auc:0.9758\n",
      "epoch: 180 loss:0.193438 auc:0.9764\n"
     ]
    },
    {
     "name": "stderr",
     "output_type": "stream",
     "text": [
      " 37%|███▋      | 335/916 [1:06:52<1:41:27, 10.48s/it]"
     ]
    },
    {
     "name": "stdout",
     "output_type": "stream",
     "text": [
      "epoch: 200 loss:0.192403 auc:0.9767\n",
      "Fit finished.\n",
      "epoch:   0 loss:0.627560 auc:0.2558\n",
      "epoch:  20 loss:0.240396 auc:0.9836\n",
      "epoch:  40 loss:0.214458 auc:0.9816\n",
      "epoch:  60 loss:0.207349 auc:0.9803\n",
      "epoch:  80 loss:0.200428 auc:0.9803\n",
      "epoch: 100 loss:0.194828 auc:0.9803\n",
      "epoch: 120 loss:0.192451 auc:0.9790\n",
      "epoch: 140 loss:0.191509 auc:0.9803\n",
      "epoch: 160 loss:0.190470 auc:0.9803\n"
     ]
    },
    {
     "name": "stderr",
     "output_type": "stream",
     "text": [
      " 37%|███▋      | 336/916 [1:07:00<1:34:09,  9.74s/it]"
     ]
    },
    {
     "name": "stdout",
     "output_type": "stream",
     "text": [
      "epoch: 180 loss:0.187414 auc:0.9809\n",
      "Fit finished.\n",
      "epoch:   0 loss:0.629053 auc:0.5663\n",
      "epoch:  20 loss:0.303079 auc:0.9464\n",
      "epoch:  40 loss:0.228789 auc:0.9557\n",
      "epoch:  60 loss:0.212889 auc:0.9566\n",
      "epoch:  80 loss:0.206623 auc:0.9551\n",
      "epoch: 100 loss:0.201251 auc:0.9560\n",
      "epoch: 120 loss:0.195771 auc:0.9563\n",
      "epoch: 140 loss:0.193152 auc:0.9560\n",
      "epoch: 160 loss:0.191777 auc:0.9557\n",
      "epoch: 180 loss:0.190585 auc:0.9563\n",
      "epoch: 200 loss:0.189802 auc:0.9560\n"
     ]
    },
    {
     "name": "stderr",
     "output_type": "stream",
     "text": [
      " 37%|███▋      | 337/916 [1:07:09<1:32:52,  9.62s/it]"
     ]
    },
    {
     "name": "stdout",
     "output_type": "stream",
     "text": [
      "epoch: 220 loss:0.189157 auc:0.9551\n",
      "Fit finished.\n",
      "epoch:   0 loss:0.762286 auc:0.4824\n",
      "epoch:  20 loss:0.284767 auc:0.9499\n",
      "epoch:  40 loss:0.227645 auc:0.9587\n",
      "epoch:  60 loss:0.212924 auc:0.9592\n",
      "epoch:  80 loss:0.206777 auc:0.9597\n",
      "epoch: 100 loss:0.201297 auc:0.9597\n",
      "epoch: 120 loss:0.195876 auc:0.9597\n",
      "epoch: 140 loss:0.193354 auc:0.9613\n",
      "epoch: 160 loss:0.191890 auc:0.9618\n",
      "epoch: 180 loss:0.191083 auc:0.9633\n",
      "epoch: 200 loss:0.189952 auc:0.9623\n",
      "epoch: 220 loss:0.189063 auc:0.9623\n",
      "epoch: 240 loss:0.187512 auc:0.9613\n",
      "epoch: 260 loss:0.186886 auc:0.9654\n",
      "epoch: 280 loss:0.185167 auc:0.9644\n",
      "epoch: 300 loss:0.183813 auc:0.9685\n",
      "epoch: 320 loss:0.181149 auc:0.9685\n"
     ]
    },
    {
     "name": "stderr",
     "output_type": "stream",
     "text": [
      " 37%|███▋      | 338/916 [1:07:23<1:46:39, 11.07s/it]"
     ]
    },
    {
     "name": "stdout",
     "output_type": "stream",
     "text": [
      "epoch: 340 loss:0.187463 auc:0.9597\n",
      "Fit finished.\n",
      "epoch:   0 loss:0.907849 auc:0.7535\n",
      "epoch:  20 loss:0.312117 auc:0.9778\n",
      "epoch:  40 loss:0.237040 auc:0.9834\n",
      "epoch:  60 loss:0.217925 auc:0.9917\n",
      "epoch:  80 loss:0.210534 auc:0.9917\n",
      "epoch: 100 loss:0.205533 auc:0.9917\n",
      "epoch: 120 loss:0.200255 auc:0.9917\n",
      "epoch: 140 loss:0.195669 auc:0.9917\n",
      "epoch: 160 loss:0.193671 auc:0.9917\n",
      "epoch: 180 loss:0.192538 auc:0.9917\n",
      "epoch: 200 loss:0.191619 auc:0.9917\n",
      "epoch: 220 loss:0.190747 auc:0.9917\n",
      "epoch: 240 loss:0.190406 auc:0.9945\n",
      "epoch: 260 loss:0.189250 auc:0.9972\n",
      "epoch: 280 loss:0.188419 auc:0.9945\n",
      "epoch: 300 loss:0.187566 auc:0.9917\n",
      "epoch: 320 loss:0.186471 auc:0.9917\n",
      "epoch: 340 loss:0.186649 auc:0.9917\n",
      "epoch: 360 loss:0.185058 auc:0.9917\n",
      "epoch: 380 loss:0.187187 auc:0.9917\n"
     ]
    },
    {
     "name": "stderr",
     "output_type": "stream",
     "text": [
      " 37%|███▋      | 339/916 [1:07:42<2:09:11, 13.43s/it]"
     ]
    },
    {
     "name": "stdout",
     "output_type": "stream",
     "text": [
      "epoch: 400 loss:0.182159 auc:0.9889\n",
      "Fit finished.\n",
      "epoch:   0 loss:0.694640 auc:0.8844\n",
      "epoch:  20 loss:0.287168 auc:0.9433\n",
      "epoch:  40 loss:0.224541 auc:0.9511\n",
      "epoch:  60 loss:0.213436 auc:0.9522\n",
      "epoch:  80 loss:0.208431 auc:0.9556\n",
      "epoch: 100 loss:0.202741 auc:0.9544\n",
      "epoch: 120 loss:0.197142 auc:0.9556\n",
      "epoch: 140 loss:0.193453 auc:0.9556\n",
      "epoch: 160 loss:0.191921 auc:0.9567\n",
      "epoch: 180 loss:0.191253 auc:0.9556\n",
      "epoch: 200 loss:0.189971 auc:0.9556\n",
      "epoch: 220 loss:0.192249 auc:0.9544\n"
     ]
    },
    {
     "name": "stderr",
     "output_type": "stream",
     "text": [
      " 37%|███▋      | 340/916 [1:07:53<1:59:18, 12.43s/it]"
     ]
    },
    {
     "name": "stdout",
     "output_type": "stream",
     "text": [
      "epoch: 240 loss:0.189182 auc:0.9544\n",
      "Fit finished.\n",
      "epoch:   0 loss:1.099718 auc:0.5185\n",
      "epoch:  20 loss:0.321748 auc:0.9756\n",
      "epoch:  40 loss:0.245315 auc:0.9777\n",
      "epoch:  60 loss:0.220519 auc:0.9792\n",
      "epoch:  80 loss:0.212264 auc:0.9786\n",
      "epoch: 100 loss:0.207654 auc:0.9790\n",
      "epoch: 120 loss:0.203010 auc:0.9786\n",
      "epoch: 140 loss:0.197642 auc:0.9786\n",
      "epoch: 160 loss:0.194424 auc:0.9780\n",
      "epoch: 180 loss:0.192912 auc:0.9779\n",
      "epoch: 200 loss:0.191870 auc:0.9780\n"
     ]
    },
    {
     "name": "stderr",
     "output_type": "stream",
     "text": [
      " 37%|███▋      | 341/916 [1:08:03<1:52:25, 11.73s/it]"
     ]
    },
    {
     "name": "stdout",
     "output_type": "stream",
     "text": [
      "epoch: 220 loss:0.191708 auc:0.9777\n",
      "Fit finished.\n",
      "epoch:   0 loss:0.687856 auc:0.5390\n",
      "epoch:  20 loss:0.271063 auc:0.9646\n",
      "epoch:  40 loss:0.220567 auc:0.9639\n",
      "epoch:  60 loss:0.208865 auc:0.9642\n",
      "epoch:  80 loss:0.201878 auc:0.9631\n",
      "epoch: 100 loss:0.195803 auc:0.9627\n",
      "epoch: 120 loss:0.193530 auc:0.9623\n",
      "epoch: 140 loss:0.192122 auc:0.9642\n",
      "epoch: 160 loss:0.190911 auc:0.9642\n",
      "epoch: 180 loss:0.191971 auc:0.9650\n",
      "epoch: 200 loss:0.188893 auc:0.9677\n",
      "epoch: 220 loss:0.187628 auc:0.9692\n",
      "epoch: 240 loss:0.187527 auc:0.9715\n",
      "epoch: 260 loss:0.185243 auc:0.9739\n",
      "epoch: 280 loss:0.182093 auc:0.9785\n",
      "epoch: 300 loss:0.180138 auc:0.9758\n",
      "epoch: 320 loss:0.179118 auc:0.9735\n",
      "epoch: 340 loss:0.174103 auc:0.9735\n",
      "epoch: 360 loss:0.180800 auc:0.9746\n",
      "epoch: 380 loss:0.171254 auc:0.9735\n"
     ]
    },
    {
     "name": "stderr",
     "output_type": "stream",
     "text": [
      " 37%|███▋      | 342/916 [1:08:20<2:07:10, 13.29s/it]"
     ]
    },
    {
     "name": "stdout",
     "output_type": "stream",
     "text": [
      "epoch: 400 loss:0.167364 auc:0.9531\n",
      "Fit finished.\n",
      "epoch:   0 loss:0.718233 auc:0.6931\n",
      "epoch:  20 loss:0.302929 auc:0.9717\n",
      "epoch:  40 loss:0.229020 auc:0.9674\n",
      "epoch:  60 loss:0.214516 auc:0.9714\n",
      "epoch:  80 loss:0.208372 auc:0.9723\n",
      "epoch: 100 loss:0.202819 auc:0.9732\n",
      "epoch: 120 loss:0.196702 auc:0.9732\n",
      "epoch: 140 loss:0.193610 auc:0.9738\n",
      "epoch: 160 loss:0.192228 auc:0.9735\n",
      "epoch: 180 loss:0.191237 auc:0.9735\n",
      "epoch: 200 loss:0.190336 auc:0.9741\n",
      "epoch: 220 loss:0.190421 auc:0.9735\n"
     ]
    },
    {
     "name": "stderr",
     "output_type": "stream",
     "text": [
      " 37%|███▋      | 343/916 [1:08:31<2:01:08, 12.68s/it]"
     ]
    },
    {
     "name": "stdout",
     "output_type": "stream",
     "text": [
      "epoch: 240 loss:0.188913 auc:0.9692\n",
      "Fit finished.\n",
      "epoch:   0 loss:0.701222 auc:0.6621\n",
      "epoch:  20 loss:0.319213 auc:0.9813\n",
      "epoch:  40 loss:0.233242 auc:0.9836\n",
      "epoch:  60 loss:0.212827 auc:0.9841\n",
      "epoch:  80 loss:0.204855 auc:0.9841\n",
      "epoch: 100 loss:0.198664 auc:0.9847\n",
      "epoch: 120 loss:0.194766 auc:0.9847\n",
      "epoch: 140 loss:0.193022 auc:0.9847\n",
      "epoch: 160 loss:0.191885 auc:0.9847\n",
      "epoch: 180 loss:0.190935 auc:0.9841\n",
      "epoch: 200 loss:0.191302 auc:0.9841\n",
      "epoch: 220 loss:0.189618 auc:0.9841\n",
      "epoch: 240 loss:0.188300 auc:0.9847\n",
      "epoch: 260 loss:0.188070 auc:0.9853\n"
     ]
    },
    {
     "name": "stderr",
     "output_type": "stream",
     "text": [
      " 38%|███▊      | 344/916 [1:08:44<2:01:30, 12.74s/it]"
     ]
    },
    {
     "name": "stdout",
     "output_type": "stream",
     "text": [
      "epoch: 280 loss:0.186618 auc:0.9830\n",
      "Fit finished.\n",
      "epoch:   0 loss:0.978012 auc:0.3772\n",
      "epoch:  20 loss:0.318235 auc:0.9786\n",
      "epoch:  40 loss:0.234600 auc:0.9816\n",
      "epoch:  60 loss:0.217558 auc:0.9809\n",
      "epoch:  80 loss:0.209460 auc:0.9805\n",
      "epoch: 100 loss:0.203787 auc:0.9809\n",
      "epoch: 120 loss:0.197704 auc:0.9810\n",
      "epoch: 140 loss:0.194135 auc:0.9814\n",
      "epoch: 160 loss:0.192606 auc:0.9814\n",
      "epoch: 180 loss:0.192797 auc:0.9809\n"
     ]
    },
    {
     "name": "stderr",
     "output_type": "stream",
     "text": [
      " 38%|███▊      | 345/916 [1:08:53<1:50:28, 11.61s/it]"
     ]
    },
    {
     "name": "stdout",
     "output_type": "stream",
     "text": [
      "epoch: 200 loss:0.191257 auc:0.9803\n",
      "Fit finished.\n",
      "epoch:   0 loss:0.769279 auc:0.4330\n",
      "epoch:  20 loss:0.329323 auc:0.9394\n",
      "epoch:  40 loss:0.234394 auc:0.9403\n",
      "epoch:  60 loss:0.215750 auc:0.9516\n",
      "epoch:  80 loss:0.208084 auc:0.9512\n",
      "epoch: 100 loss:0.201655 auc:0.9509\n",
      "epoch: 120 loss:0.195928 auc:0.9514\n",
      "epoch: 140 loss:0.193557 auc:0.9505\n",
      "epoch: 160 loss:0.192163 auc:0.9495\n",
      "epoch: 180 loss:0.191205 auc:0.9460\n",
      "epoch: 200 loss:0.190586 auc:0.9425\n"
     ]
    },
    {
     "name": "stderr",
     "output_type": "stream",
     "text": [
      " 38%|███▊      | 346/916 [1:09:02<1:43:33, 10.90s/it]"
     ]
    },
    {
     "name": "stdout",
     "output_type": "stream",
     "text": [
      "epoch: 220 loss:0.189268 auc:0.9395\n",
      "Fit finished.\n",
      "epoch:   0 loss:0.983437 auc:0.5661\n",
      "epoch:  20 loss:0.326845 auc:0.9313\n",
      "epoch:  40 loss:0.242454 auc:0.9402\n",
      "epoch:  60 loss:0.219143 auc:0.9447\n",
      "epoch:  80 loss:0.211098 auc:0.9478\n",
      "epoch: 100 loss:0.206916 auc:0.9480\n",
      "epoch: 120 loss:0.202942 auc:0.9474\n",
      "epoch: 140 loss:0.198587 auc:0.9472\n",
      "epoch: 160 loss:0.195011 auc:0.9468\n",
      "epoch: 180 loss:0.193255 auc:0.9471\n",
      "epoch: 200 loss:0.192204 auc:0.9473\n",
      "epoch: 220 loss:0.191354 auc:0.9462\n"
     ]
    },
    {
     "name": "stderr",
     "output_type": "stream",
     "text": [
      " 38%|███▊      | 347/916 [1:09:12<1:41:45, 10.73s/it]"
     ]
    },
    {
     "name": "stdout",
     "output_type": "stream",
     "text": [
      "epoch: 240 loss:0.190537 auc:0.9447\n",
      "Fit finished.\n",
      "epoch:   0 loss:0.681933 auc:0.2509\n",
      "epoch:  20 loss:0.256822 auc:0.9463\n",
      "epoch:  40 loss:0.216149 auc:0.9465\n",
      "epoch:  60 loss:0.207094 auc:0.9471\n",
      "epoch:  80 loss:0.199996 auc:0.9471\n",
      "epoch: 100 loss:0.194630 auc:0.9463\n",
      "epoch: 120 loss:0.192432 auc:0.9458\n",
      "epoch: 140 loss:0.194073 auc:0.9426\n",
      "epoch: 160 loss:0.190254 auc:0.9399\n"
     ]
    },
    {
     "name": "stderr",
     "output_type": "stream",
     "text": [
      " 38%|███▊      | 348/916 [1:09:21<1:34:59, 10.03s/it]"
     ]
    },
    {
     "name": "stdout",
     "output_type": "stream",
     "text": [
      "epoch: 180 loss:0.188808 auc:0.9164\n",
      "Fit finished.\n",
      "epoch:   0 loss:0.706325 auc:0.7663\n",
      "epoch:  20 loss:0.328621 auc:0.9620\n",
      "epoch:  40 loss:0.248854 auc:0.9627\n",
      "epoch:  60 loss:0.220192 auc:0.9635\n",
      "epoch:  80 loss:0.210008 auc:0.9591\n",
      "epoch: 100 loss:0.204687 auc:0.9606\n",
      "epoch: 120 loss:0.199745 auc:0.9606\n",
      "epoch: 140 loss:0.195789 auc:0.9613\n",
      "epoch: 160 loss:0.193733 auc:0.9613\n"
     ]
    },
    {
     "name": "stderr",
     "output_type": "stream",
     "text": [
      " 38%|███▊      | 349/916 [1:09:29<1:29:56,  9.52s/it]"
     ]
    },
    {
     "name": "stdout",
     "output_type": "stream",
     "text": [
      "epoch: 180 loss:0.192588 auc:0.9606\n",
      "Fit finished.\n",
      "epoch:   0 loss:0.779859 auc:0.6726\n",
      "epoch:  20 loss:0.335487 auc:0.9055\n",
      "epoch:  40 loss:0.249274 auc:0.9192\n",
      "epoch:  60 loss:0.219292 auc:0.9275\n",
      "epoch:  80 loss:0.210089 auc:0.9321\n",
      "epoch: 100 loss:0.204530 auc:0.9325\n",
      "epoch: 120 loss:0.199127 auc:0.9338\n",
      "epoch: 140 loss:0.195437 auc:0.9342\n",
      "epoch: 160 loss:0.193624 auc:0.9334\n",
      "epoch: 180 loss:0.192417 auc:0.9338\n",
      "epoch: 200 loss:0.191415 auc:0.9342\n",
      "epoch: 220 loss:0.190787 auc:0.9329\n",
      "epoch: 240 loss:0.189989 auc:0.9329\n"
     ]
    },
    {
     "name": "stderr",
     "output_type": "stream",
     "text": [
      " 38%|███▊      | 350/916 [1:09:41<1:37:30, 10.34s/it]"
     ]
    },
    {
     "name": "stdout",
     "output_type": "stream",
     "text": [
      "epoch: 260 loss:0.191409 auc:0.9317\n",
      "Fit finished.\n",
      "epoch:   0 loss:0.715648 auc:0.2478\n",
      "epoch:  20 loss:0.262008 auc:0.9851\n",
      "epoch:  40 loss:0.220017 auc:0.9863\n",
      "epoch:  60 loss:0.208618 auc:0.9858\n",
      "epoch:  80 loss:0.201219 auc:0.9861\n",
      "epoch: 100 loss:0.195475 auc:0.9858\n",
      "epoch: 120 loss:0.193152 auc:0.9858\n",
      "epoch: 140 loss:0.191732 auc:0.9858\n",
      "epoch: 160 loss:0.190538 auc:0.9858\n",
      "epoch: 180 loss:0.190007 auc:0.9854\n"
     ]
    },
    {
     "name": "stderr",
     "output_type": "stream",
     "text": [
      " 38%|███▊      | 351/916 [1:09:51<1:34:34, 10.04s/it]"
     ]
    },
    {
     "name": "stdout",
     "output_type": "stream",
     "text": [
      "epoch: 200 loss:0.188440 auc:0.9841\n",
      "Fit finished.\n",
      "epoch:   0 loss:0.583034 auc:0.4514\n",
      "epoch:  20 loss:0.277083 auc:0.9715\n",
      "epoch:  40 loss:0.225632 auc:0.9684\n",
      "epoch:  60 loss:0.210275 auc:0.9684\n",
      "epoch:  80 loss:0.203043 auc:0.9707\n",
      "epoch: 100 loss:0.196670 auc:0.9691\n",
      "epoch: 120 loss:0.193659 auc:0.9699\n",
      "epoch: 140 loss:0.192163 auc:0.9699\n",
      "epoch: 160 loss:0.191021 auc:0.9707\n",
      "epoch: 180 loss:0.190163 auc:0.9738\n",
      "epoch: 200 loss:0.189414 auc:0.9738\n",
      "epoch: 220 loss:0.186748 auc:0.9722\n"
     ]
    },
    {
     "name": "stderr",
     "output_type": "stream",
     "text": [
      " 38%|███▊      | 352/916 [1:10:01<1:35:02, 10.11s/it]"
     ]
    },
    {
     "name": "stdout",
     "output_type": "stream",
     "text": [
      "epoch: 240 loss:0.184868 auc:0.9699\n",
      "Fit finished.\n",
      "epoch:   0 loss:0.607788 auc:0.5853\n",
      "epoch:  20 loss:0.280026 auc:0.9213\n",
      "epoch:  40 loss:0.222466 auc:0.9264\n",
      "epoch:  60 loss:0.208673 auc:0.9277\n",
      "epoch:  80 loss:0.201534 auc:0.9277\n",
      "epoch: 100 loss:0.195733 auc:0.9284\n",
      "epoch: 120 loss:0.193221 auc:0.9271\n",
      "epoch: 140 loss:0.191697 auc:0.9275\n",
      "epoch: 160 loss:0.190304 auc:0.9257\n",
      "epoch: 180 loss:0.191204 auc:0.9270\n"
     ]
    },
    {
     "name": "stderr",
     "output_type": "stream",
     "text": [
      " 39%|███▊      | 353/916 [1:10:11<1:33:41,  9.98s/it]"
     ]
    },
    {
     "name": "stdout",
     "output_type": "stream",
     "text": [
      "epoch: 200 loss:0.188665 auc:0.9226\n",
      "Fit finished.\n",
      "epoch:   0 loss:0.698268 auc:0.2715\n",
      "epoch:  20 loss:0.240672 auc:0.9343\n",
      "epoch:  40 loss:0.214815 auc:0.9310\n",
      "epoch:  60 loss:0.206951 auc:0.9310\n",
      "epoch:  80 loss:0.200141 auc:0.9316\n",
      "epoch: 100 loss:0.194461 auc:0.9323\n",
      "epoch: 120 loss:0.193193 auc:0.9310\n",
      "epoch: 140 loss:0.190806 auc:0.9336\n",
      "epoch: 160 loss:0.191120 auc:0.9389\n",
      "epoch: 180 loss:0.188438 auc:0.9395\n",
      "epoch: 200 loss:0.187655 auc:0.9408\n",
      "epoch: 220 loss:0.185903 auc:0.9441\n",
      "epoch: 240 loss:0.185532 auc:0.9481\n",
      "epoch: 260 loss:0.186690 auc:0.9527\n",
      "epoch: 280 loss:0.182603 auc:0.9612\n",
      "epoch: 300 loss:0.181426 auc:0.9579\n",
      "epoch: 320 loss:0.174548 auc:0.9671\n"
     ]
    },
    {
     "name": "stderr",
     "output_type": "stream",
     "text": [
      " 39%|███▊      | 354/916 [1:10:27<1:50:47, 11.83s/it]"
     ]
    },
    {
     "name": "stdout",
     "output_type": "stream",
     "text": [
      "epoch: 340 loss:0.178596 auc:0.9382\n",
      "Fit finished.\n",
      "epoch:   0 loss:1.306410 auc:0.6240\n",
      "epoch:  20 loss:0.330820 auc:0.9710\n",
      "epoch:  40 loss:0.259574 auc:0.9684\n",
      "epoch:  60 loss:0.224963 auc:0.9680\n",
      "epoch:  80 loss:0.212759 auc:0.9696\n",
      "epoch: 100 loss:0.206134 auc:0.9687\n",
      "epoch: 120 loss:0.200229 auc:0.9684\n",
      "epoch: 140 loss:0.195611 auc:0.9684\n",
      "epoch: 160 loss:0.193530 auc:0.9675\n"
     ]
    },
    {
     "name": "stderr",
     "output_type": "stream",
     "text": [
      " 39%|███▉      | 355/916 [1:10:35<1:40:44, 10.78s/it]"
     ]
    },
    {
     "name": "stdout",
     "output_type": "stream",
     "text": [
      "epoch: 180 loss:0.192405 auc:0.9671\n",
      "Fit finished.\n",
      "epoch:   0 loss:0.708485 auc:0.1967\n",
      "epoch:  20 loss:0.273736 auc:0.9706\n",
      "epoch:  40 loss:0.223698 auc:0.9772\n",
      "epoch:  60 loss:0.210259 auc:0.9808\n",
      "epoch:  80 loss:0.202523 auc:0.9831\n",
      "epoch: 100 loss:0.196432 auc:0.9831\n",
      "epoch: 120 loss:0.193757 auc:0.9835\n",
      "epoch: 140 loss:0.192176 auc:0.9831\n",
      "epoch: 160 loss:0.192005 auc:0.9835\n",
      "epoch: 180 loss:0.190358 auc:0.9838\n",
      "epoch: 200 loss:0.189164 auc:0.9838\n",
      "epoch: 220 loss:0.189997 auc:0.9841\n",
      "epoch: 240 loss:0.187195 auc:0.9845\n"
     ]
    },
    {
     "name": "stderr",
     "output_type": "stream",
     "text": [
      " 39%|███▉      | 356/916 [1:10:46<1:42:03, 10.94s/it]"
     ]
    },
    {
     "name": "stdout",
     "output_type": "stream",
     "text": [
      "epoch: 260 loss:0.187018 auc:0.9812\n",
      "Fit finished.\n",
      "epoch:   0 loss:0.854828 auc:0.6510\n",
      "epoch:  20 loss:0.296605 auc:0.9722\n",
      "epoch:  40 loss:0.228795 auc:0.9722\n",
      "epoch:  60 loss:0.214023 auc:0.9653\n",
      "epoch:  80 loss:0.207980 auc:0.9670\n",
      "epoch: 100 loss:0.202912 auc:0.9653\n",
      "epoch: 120 loss:0.197683 auc:0.9670\n",
      "epoch: 140 loss:0.194345 auc:0.9670\n",
      "epoch: 160 loss:0.192754 auc:0.9670\n"
     ]
    },
    {
     "name": "stderr",
     "output_type": "stream",
     "text": [
      " 39%|███▉      | 357/916 [1:10:54<1:34:09, 10.11s/it]"
     ]
    },
    {
     "name": "stdout",
     "output_type": "stream",
     "text": [
      "epoch: 180 loss:0.191584 auc:0.9670\n",
      "Fit finished.\n",
      "epoch:   0 loss:0.579406 auc:0.3598\n",
      "epoch:  20 loss:0.271614 auc:0.9306\n",
      "epoch:  40 loss:0.221963 auc:0.9249\n",
      "epoch:  60 loss:0.210582 auc:0.9282\n",
      "epoch:  80 loss:0.204237 auc:0.9282\n",
      "epoch: 100 loss:0.197834 auc:0.9265\n",
      "epoch: 120 loss:0.193980 auc:0.9256\n",
      "epoch: 140 loss:0.192054 auc:0.9236\n",
      "epoch: 160 loss:0.191442 auc:0.9169\n"
     ]
    },
    {
     "name": "stderr",
     "output_type": "stream",
     "text": [
      " 39%|███▉      | 358/916 [1:11:04<1:31:21,  9.82s/it]"
     ]
    },
    {
     "name": "stdout",
     "output_type": "stream",
     "text": [
      "epoch: 180 loss:0.189688 auc:0.9107\n",
      "Fit finished.\n",
      "epoch:   0 loss:0.747949 auc:0.3800\n",
      "epoch:  20 loss:0.280823 auc:0.9576\n",
      "epoch:  40 loss:0.224590 auc:0.9583\n",
      "epoch:  60 loss:0.211968 auc:0.9596\n",
      "epoch:  80 loss:0.206479 auc:0.9613\n",
      "epoch: 100 loss:0.200804 auc:0.9615\n",
      "epoch: 120 loss:0.195252 auc:0.9626\n",
      "epoch: 140 loss:0.192890 auc:0.9615\n",
      "epoch: 160 loss:0.191454 auc:0.9615\n",
      "epoch: 180 loss:0.191449 auc:0.9606\n",
      "epoch: 200 loss:0.189554 auc:0.9598\n"
     ]
    },
    {
     "name": "stderr",
     "output_type": "stream",
     "text": [
      " 39%|███▉      | 359/916 [1:11:14<1:32:15,  9.94s/it]"
     ]
    },
    {
     "name": "stdout",
     "output_type": "stream",
     "text": [
      "epoch: 220 loss:0.188607 auc:0.9580\n",
      "Fit finished.\n",
      "epoch:   0 loss:0.634290 auc:0.2515\n",
      "epoch:  20 loss:0.288164 auc:0.9539\n",
      "epoch:  40 loss:0.225985 auc:0.9570\n",
      "epoch:  60 loss:0.211455 auc:0.9583\n",
      "epoch:  80 loss:0.205356 auc:0.9580\n",
      "epoch: 100 loss:0.200118 auc:0.9585\n",
      "epoch: 120 loss:0.195428 auc:0.9590\n",
      "epoch: 140 loss:0.193273 auc:0.9590\n",
      "epoch: 160 loss:0.191891 auc:0.9590\n",
      "epoch: 180 loss:0.190706 auc:0.9590\n",
      "epoch: 200 loss:0.190438 auc:0.9578\n",
      "epoch: 220 loss:0.189515 auc:0.9597\n"
     ]
    },
    {
     "name": "stderr",
     "output_type": "stream",
     "text": [
      " 39%|███▉      | 360/916 [1:11:23<1:31:02,  9.83s/it]"
     ]
    },
    {
     "name": "stdout",
     "output_type": "stream",
     "text": [
      "epoch: 240 loss:0.188107 auc:0.9575\n",
      "Fit finished.\n",
      "epoch:   0 loss:0.994017 auc:0.3674\n",
      "epoch:  20 loss:0.300812 auc:0.9522\n",
      "epoch:  40 loss:0.230127 auc:0.9545\n",
      "epoch:  60 loss:0.214888 auc:0.9557\n",
      "epoch:  80 loss:0.208278 auc:0.9558\n",
      "epoch: 100 loss:0.203136 auc:0.9564\n",
      "epoch: 120 loss:0.197456 auc:0.9566\n",
      "epoch: 140 loss:0.194255 auc:0.9570\n",
      "epoch: 160 loss:0.192666 auc:0.9553\n",
      "epoch: 180 loss:0.192038 auc:0.9544\n"
     ]
    },
    {
     "name": "stderr",
     "output_type": "stream",
     "text": [
      " 39%|███▉      | 361/916 [1:11:32<1:27:28,  9.46s/it]"
     ]
    },
    {
     "name": "stdout",
     "output_type": "stream",
     "text": [
      "epoch: 200 loss:0.190934 auc:0.9517\n",
      "Fit finished.\n",
      "epoch:   0 loss:0.486130 auc:0.8373\n",
      "epoch:  20 loss:0.306700 auc:0.9598\n",
      "epoch:  40 loss:0.229840 auc:0.9610\n",
      "epoch:  60 loss:0.211994 auc:0.9648\n",
      "epoch:  80 loss:0.204054 auc:0.9646\n",
      "epoch: 100 loss:0.197442 auc:0.9636\n",
      "epoch: 120 loss:0.194097 auc:0.9639\n",
      "epoch: 140 loss:0.192443 auc:0.9637\n",
      "epoch: 160 loss:0.191484 auc:0.9629\n",
      "epoch: 180 loss:0.190086 auc:0.9613\n"
     ]
    },
    {
     "name": "stderr",
     "output_type": "stream",
     "text": [
      " 40%|███▉      | 362/916 [1:11:42<1:27:56,  9.52s/it]"
     ]
    },
    {
     "name": "stdout",
     "output_type": "stream",
     "text": [
      "epoch: 200 loss:0.188905 auc:0.9586\n",
      "Fit finished.\n",
      "epoch:   0 loss:1.019031 auc:0.5640\n",
      "epoch:  20 loss:0.317631 auc:0.8571\n",
      "epoch:  40 loss:0.234103 auc:0.8561\n",
      "epoch:  60 loss:0.217862 auc:0.8455\n",
      "epoch:  80 loss:0.210502 auc:0.8453\n",
      "epoch: 100 loss:0.205646 auc:0.8501\n",
      "epoch: 120 loss:0.200577 auc:0.8492\n",
      "epoch: 140 loss:0.195851 auc:0.8515\n",
      "epoch: 160 loss:0.193511 auc:0.8515\n"
     ]
    },
    {
     "name": "stderr",
     "output_type": "stream",
     "text": [
      " 40%|███▉      | 363/916 [1:11:51<1:26:05,  9.34s/it]"
     ]
    },
    {
     "name": "stdout",
     "output_type": "stream",
     "text": [
      "epoch: 180 loss:0.192225 auc:0.8519\n",
      "Fit finished.\n",
      "epoch:   0 loss:1.058892 auc:0.7206\n",
      "epoch:  20 loss:0.335857 auc:0.9334\n",
      "epoch:  40 loss:0.246860 auc:0.9351\n",
      "epoch:  60 loss:0.220843 auc:0.9369\n",
      "epoch:  80 loss:0.211837 auc:0.9386\n",
      "epoch: 100 loss:0.206971 auc:0.9377\n",
      "epoch: 120 loss:0.202456 auc:0.9369\n",
      "epoch: 140 loss:0.197508 auc:0.9369\n",
      "epoch: 160 loss:0.194237 auc:0.9360\n",
      "epoch: 180 loss:0.192627 auc:0.9369\n",
      "epoch: 200 loss:0.191512 auc:0.9369\n",
      "epoch: 220 loss:0.191584 auc:0.9386\n",
      "epoch: 240 loss:0.189690 auc:0.9386\n",
      "epoch: 260 loss:0.188739 auc:0.9377\n"
     ]
    },
    {
     "name": "stderr",
     "output_type": "stream",
     "text": [
      " 40%|███▉      | 364/916 [1:12:04<1:36:04, 10.44s/it]"
     ]
    },
    {
     "name": "stdout",
     "output_type": "stream",
     "text": [
      "epoch: 280 loss:0.187690 auc:0.9334\n",
      "Fit finished.\n",
      "epoch:   0 loss:0.794438 auc:0.1764\n",
      "epoch:  20 loss:0.272409 auc:0.9505\n",
      "epoch:  40 loss:0.223364 auc:0.9524\n",
      "epoch:  60 loss:0.210546 auc:0.9565\n",
      "epoch:  80 loss:0.204469 auc:0.9574\n",
      "epoch: 100 loss:0.198896 auc:0.9575\n",
      "epoch: 120 loss:0.194655 auc:0.9577\n",
      "epoch: 140 loss:0.192757 auc:0.9580\n",
      "epoch: 160 loss:0.191428 auc:0.9579\n",
      "epoch: 180 loss:0.190475 auc:0.9579\n",
      "epoch: 200 loss:0.189682 auc:0.9558\n"
     ]
    },
    {
     "name": "stderr",
     "output_type": "stream",
     "text": [
      " 40%|███▉      | 365/916 [1:12:14<1:35:53, 10.44s/it]"
     ]
    },
    {
     "name": "stdout",
     "output_type": "stream",
     "text": [
      "epoch: 220 loss:0.188434 auc:0.9524\n",
      "Fit finished.\n",
      "epoch:   0 loss:0.664230 auc:0.7082\n",
      "epoch:  20 loss:0.314079 auc:0.9526\n",
      "epoch:  40 loss:0.231609 auc:0.9543\n",
      "epoch:  60 loss:0.215044 auc:0.9564\n",
      "epoch:  80 loss:0.207827 auc:0.9576\n",
      "epoch: 100 loss:0.202245 auc:0.9580\n",
      "epoch: 120 loss:0.196551 auc:0.9579\n",
      "epoch: 140 loss:0.193714 auc:0.9585\n",
      "epoch: 160 loss:0.192263 auc:0.9578\n",
      "epoch: 180 loss:0.191445 auc:0.9559\n"
     ]
    },
    {
     "name": "stderr",
     "output_type": "stream",
     "text": [
      " 40%|███▉      | 366/916 [1:12:23<1:32:23, 10.08s/it]"
     ]
    },
    {
     "name": "stdout",
     "output_type": "stream",
     "text": [
      "epoch: 200 loss:0.190577 auc:0.9527\n",
      "Fit finished.\n",
      "epoch:   0 loss:1.369734 auc:0.7082\n",
      "epoch:  20 loss:0.313035 auc:0.9598\n",
      "epoch:  40 loss:0.241505 auc:0.9645\n",
      "epoch:  60 loss:0.220692 auc:0.9628\n",
      "epoch:  80 loss:0.211958 auc:0.9636\n",
      "epoch: 100 loss:0.206929 auc:0.9638\n",
      "epoch: 120 loss:0.202529 auc:0.9628\n",
      "epoch: 140 loss:0.198039 auc:0.9627\n",
      "epoch: 160 loss:0.194676 auc:0.9625\n",
      "epoch: 180 loss:0.193052 auc:0.9627\n"
     ]
    },
    {
     "name": "stderr",
     "output_type": "stream",
     "text": [
      " 40%|████      | 367/916 [1:12:33<1:31:49, 10.03s/it]"
     ]
    },
    {
     "name": "stdout",
     "output_type": "stream",
     "text": [
      "epoch: 200 loss:0.192024 auc:0.9628\n",
      "Fit finished.\n",
      "epoch:   0 loss:0.740422 auc:0.5307\n",
      "epoch:  20 loss:0.314286 auc:0.9568\n",
      "epoch:  40 loss:0.230547 auc:0.9517\n",
      "epoch:  60 loss:0.215097 auc:0.9489\n",
      "epoch:  80 loss:0.208233 auc:0.9505\n",
      "epoch: 100 loss:0.203128 auc:0.9507\n",
      "epoch: 120 loss:0.197281 auc:0.9520\n",
      "epoch: 140 loss:0.193877 auc:0.9520\n",
      "epoch: 160 loss:0.192331 auc:0.9522\n"
     ]
    },
    {
     "name": "stderr",
     "output_type": "stream",
     "text": [
      " 40%|████      | 368/916 [1:12:42<1:27:15,  9.55s/it]"
     ]
    },
    {
     "name": "stdout",
     "output_type": "stream",
     "text": [
      "epoch: 180 loss:0.191247 auc:0.9523\n",
      "Fit finished.\n",
      "epoch:   0 loss:0.833871 auc:0.3323\n",
      "epoch:  20 loss:0.296387 auc:0.9620\n",
      "epoch:  40 loss:0.227522 auc:0.9696\n",
      "epoch:  60 loss:0.213969 auc:0.9746\n",
      "epoch:  80 loss:0.207862 auc:0.9739\n",
      "epoch: 100 loss:0.202184 auc:0.9739\n",
      "epoch: 120 loss:0.196216 auc:0.9738\n",
      "epoch: 140 loss:0.193404 auc:0.9738\n",
      "epoch: 160 loss:0.191931 auc:0.9734\n",
      "epoch: 180 loss:0.191736 auc:0.9734\n",
      "epoch: 200 loss:0.190158 auc:0.9728\n"
     ]
    },
    {
     "name": "stderr",
     "output_type": "stream",
     "text": [
      " 40%|████      | 369/916 [1:12:53<1:31:53, 10.08s/it]"
     ]
    },
    {
     "name": "stdout",
     "output_type": "stream",
     "text": [
      "epoch: 220 loss:0.189058 auc:0.9721\n",
      "Fit finished.\n",
      "epoch:   0 loss:1.000026 auc:0.2656\n",
      "epoch:  20 loss:0.328596 auc:0.9103\n",
      "epoch:  40 loss:0.240603 auc:0.9302\n",
      "epoch:  60 loss:0.217354 auc:0.9377\n",
      "epoch:  80 loss:0.210073 auc:0.9409\n",
      "epoch: 100 loss:0.205292 auc:0.9420\n",
      "epoch: 120 loss:0.199894 auc:0.9416\n",
      "epoch: 140 loss:0.195284 auc:0.9413\n",
      "epoch: 160 loss:0.193334 auc:0.9416\n",
      "epoch: 180 loss:0.193050 auc:0.9416\n",
      "epoch: 200 loss:0.191376 auc:0.9409\n",
      "epoch: 220 loss:0.190732 auc:0.9409\n",
      "epoch: 240 loss:0.189874 auc:0.9416\n",
      "epoch: 260 loss:0.189308 auc:0.9441\n",
      "epoch: 280 loss:0.192344 auc:0.9438\n",
      "epoch: 300 loss:0.187543 auc:0.9452\n"
     ]
    },
    {
     "name": "stderr",
     "output_type": "stream",
     "text": [
      " 40%|████      | 370/916 [1:13:07<1:42:56, 11.31s/it]"
     ]
    },
    {
     "name": "stdout",
     "output_type": "stream",
     "text": [
      "epoch: 320 loss:0.185613 auc:0.9391\n",
      "Fit finished.\n",
      "epoch:   0 loss:0.790717 auc:0.4193\n",
      "epoch:  20 loss:0.324255 auc:0.9540\n",
      "epoch:  40 loss:0.235266 auc:0.9788\n",
      "epoch:  60 loss:0.216585 auc:0.9832\n",
      "epoch:  80 loss:0.209698 auc:0.9854\n",
      "epoch: 100 loss:0.205050 auc:0.9839\n",
      "epoch: 120 loss:0.200277 auc:0.9839\n",
      "epoch: 140 loss:0.195906 auc:0.9839\n",
      "epoch: 160 loss:0.193703 auc:0.9839\n",
      "epoch: 180 loss:0.192503 auc:0.9839\n",
      "epoch: 200 loss:0.191561 auc:0.9847\n",
      "epoch: 220 loss:0.190657 auc:0.9854\n",
      "epoch: 240 loss:0.190306 auc:0.9861\n",
      "epoch: 260 loss:0.189113 auc:0.9861\n",
      "epoch: 280 loss:0.187721 auc:0.9905\n",
      "epoch: 300 loss:0.188850 auc:0.9905\n",
      "epoch: 320 loss:0.185794 auc:0.9912\n",
      "epoch: 340 loss:0.184760 auc:0.9905\n",
      "epoch: 360 loss:0.184285 auc:0.9905\n",
      "epoch: 380 loss:0.182984 auc:0.9912\n",
      "epoch: 400 loss:0.184576 auc:0.9920\n",
      "epoch: 420 loss:0.179865 auc:0.9927\n"
     ]
    },
    {
     "name": "stderr",
     "output_type": "stream",
     "text": [
      " 41%|████      | 371/916 [1:13:27<2:06:13, 13.90s/it]"
     ]
    },
    {
     "name": "stdout",
     "output_type": "stream",
     "text": [
      "epoch: 440 loss:0.187920 auc:0.9839\n",
      "Fit finished.\n",
      "epoch:   0 loss:0.643006 auc:0.1999\n",
      "epoch:  20 loss:0.278407 auc:0.9886\n",
      "epoch:  40 loss:0.224563 auc:0.9907\n",
      "epoch:  60 loss:0.211554 auc:0.9892\n",
      "epoch:  80 loss:0.205407 auc:0.9897\n",
      "epoch: 100 loss:0.198508 auc:0.9897\n",
      "epoch: 120 loss:0.194462 auc:0.9897\n",
      "epoch: 140 loss:0.192472 auc:0.9897\n",
      "epoch: 160 loss:0.192146 auc:0.9897\n",
      "epoch: 180 loss:0.190565 auc:0.9892\n"
     ]
    },
    {
     "name": "stderr",
     "output_type": "stream",
     "text": [
      " 41%|████      | 372/916 [1:13:37<1:54:24, 12.62s/it]"
     ]
    },
    {
     "name": "stdout",
     "output_type": "stream",
     "text": [
      "epoch: 200 loss:0.190071 auc:0.9886\n",
      "Fit finished.\n",
      "epoch:   0 loss:0.736949 auc:0.4587\n",
      "epoch:  20 loss:0.297621 auc:0.9254\n",
      "epoch:  40 loss:0.229281 auc:0.9256\n",
      "epoch:  60 loss:0.214695 auc:0.9318\n",
      "epoch:  80 loss:0.208992 auc:0.9307\n",
      "epoch: 100 loss:0.204176 auc:0.9300\n",
      "epoch: 120 loss:0.198592 auc:0.9300\n",
      "epoch: 140 loss:0.194662 auc:0.9302\n",
      "epoch: 160 loss:0.192822 auc:0.9298\n",
      "epoch: 180 loss:0.191589 auc:0.9288\n"
     ]
    },
    {
     "name": "stderr",
     "output_type": "stream",
     "text": [
      " 41%|████      | 373/916 [1:13:46<1:45:56, 11.71s/it]"
     ]
    },
    {
     "name": "stdout",
     "output_type": "stream",
     "text": [
      "epoch: 200 loss:0.190504 auc:0.9240\n",
      "Fit finished.\n",
      "epoch:   0 loss:0.958096 auc:0.1875\n",
      "epoch:  20 loss:0.289682 auc:0.9487\n",
      "epoch:  40 loss:0.228650 auc:0.9540\n",
      "epoch:  60 loss:0.214688 auc:0.9543\n",
      "epoch:  80 loss:0.208806 auc:0.9567\n",
      "epoch: 100 loss:0.203675 auc:0.9567\n",
      "epoch: 120 loss:0.197459 auc:0.9570\n",
      "epoch: 140 loss:0.193920 auc:0.9576\n",
      "epoch: 160 loss:0.192252 auc:0.9572\n",
      "epoch: 180 loss:0.191491 auc:0.9569\n",
      "epoch: 200 loss:0.190111 auc:0.9575\n",
      "epoch: 220 loss:0.190369 auc:0.9572\n"
     ]
    },
    {
     "name": "stderr",
     "output_type": "stream",
     "text": [
      " 41%|████      | 374/916 [1:13:57<1:41:47, 11.27s/it]"
     ]
    },
    {
     "name": "stdout",
     "output_type": "stream",
     "text": [
      "epoch: 240 loss:0.187878 auc:0.9549\n",
      "Fit finished.\n",
      "epoch:   0 loss:0.660710 auc:0.2489\n",
      "epoch:  20 loss:0.273589 auc:0.9669\n",
      "epoch:  40 loss:0.222598 auc:0.9752\n",
      "epoch:  60 loss:0.210413 auc:0.9743\n",
      "epoch:  80 loss:0.204337 auc:0.9743\n",
      "epoch: 100 loss:0.198165 auc:0.9743\n",
      "epoch: 120 loss:0.194467 auc:0.9743\n",
      "epoch: 140 loss:0.192691 auc:0.9743\n",
      "epoch: 160 loss:0.191434 auc:0.9743\n",
      "epoch: 180 loss:0.190534 auc:0.9743\n",
      "epoch: 200 loss:0.189604 auc:0.9761\n",
      "epoch: 220 loss:0.188644 auc:0.9780\n",
      "epoch: 240 loss:0.187074 auc:0.9780\n",
      "epoch: 260 loss:0.186255 auc:0.9780\n",
      "epoch: 280 loss:0.184222 auc:0.9789\n",
      "epoch: 300 loss:0.182187 auc:0.9798\n",
      "epoch: 320 loss:0.179382 auc:0.9816\n",
      "epoch: 340 loss:0.179622 auc:0.9770\n",
      "epoch: 360 loss:0.177104 auc:0.9780\n"
     ]
    },
    {
     "name": "stderr",
     "output_type": "stream",
     "text": [
      " 41%|████      | 375/916 [1:14:15<2:00:55, 13.41s/it]"
     ]
    },
    {
     "name": "stdout",
     "output_type": "stream",
     "text": [
      "epoch: 380 loss:0.171798 auc:0.9770\n",
      "Fit finished.\n",
      "epoch:   0 loss:0.950085 auc:0.1777\n",
      "epoch:  20 loss:0.296204 auc:0.9883\n",
      "epoch:  40 loss:0.228799 auc:0.9873\n",
      "epoch:  60 loss:0.214906 auc:0.9854\n",
      "epoch:  80 loss:0.209788 auc:0.9844\n",
      "epoch: 100 loss:0.205893 auc:0.9844\n",
      "epoch: 120 loss:0.201358 auc:0.9844\n",
      "epoch: 140 loss:0.196621 auc:0.9844\n",
      "epoch: 160 loss:0.194075 auc:0.9854\n"
     ]
    },
    {
     "name": "stderr",
     "output_type": "stream",
     "text": [
      " 41%|████      | 376/916 [1:14:24<1:47:40, 11.96s/it]"
     ]
    },
    {
     "name": "stdout",
     "output_type": "stream",
     "text": [
      "epoch: 180 loss:0.192713 auc:0.9844\n",
      "Fit finished.\n",
      "epoch:   0 loss:0.644916 auc:0.3608\n",
      "epoch:  20 loss:0.281588 auc:0.9561\n",
      "epoch:  40 loss:0.224420 auc:0.9593\n",
      "epoch:  60 loss:0.211576 auc:0.9597\n",
      "epoch:  80 loss:0.205328 auc:0.9597\n",
      "epoch: 100 loss:0.198423 auc:0.9602\n",
      "epoch: 120 loss:0.194123 auc:0.9615\n",
      "epoch: 140 loss:0.192278 auc:0.9615\n",
      "epoch: 160 loss:0.192410 auc:0.9615\n",
      "epoch: 180 loss:0.190408 auc:0.9615\n",
      "epoch: 200 loss:0.189089 auc:0.9615\n",
      "epoch: 220 loss:0.190996 auc:0.9606\n"
     ]
    },
    {
     "name": "stderr",
     "output_type": "stream",
     "text": [
      " 41%|████      | 377/916 [1:14:34<1:43:05, 11.48s/it]"
     ]
    },
    {
     "name": "stdout",
     "output_type": "stream",
     "text": [
      "epoch: 240 loss:0.187702 auc:0.9579\n",
      "Fit finished.\n",
      "epoch:   0 loss:0.672149 auc:0.4746\n",
      "epoch:  20 loss:0.302930 auc:0.9573\n",
      "epoch:  40 loss:0.230868 auc:0.9561\n",
      "epoch:  60 loss:0.215942 auc:0.9509\n",
      "epoch:  80 loss:0.209313 auc:0.9514\n",
      "epoch: 100 loss:0.203815 auc:0.9524\n",
      "epoch: 120 loss:0.197520 auc:0.9531\n",
      "epoch: 140 loss:0.193967 auc:0.9531\n",
      "epoch: 160 loss:0.192281 auc:0.9526\n"
     ]
    },
    {
     "name": "stderr",
     "output_type": "stream",
     "text": [
      " 41%|████▏     | 378/916 [1:14:44<1:38:43, 11.01s/it]"
     ]
    },
    {
     "name": "stdout",
     "output_type": "stream",
     "text": [
      "epoch: 180 loss:0.192129 auc:0.9521\n",
      "Fit finished.\n",
      "epoch:   0 loss:0.932677 auc:0.1867\n",
      "epoch:  20 loss:0.333463 auc:0.9961\n",
      "epoch:  40 loss:0.247611 auc:0.9980\n",
      "epoch:  60 loss:0.217496 auc:0.9987\n",
      "epoch:  80 loss:0.207665 auc:0.9987\n",
      "epoch: 100 loss:0.200870 auc:0.9987\n",
      "epoch: 120 loss:0.195687 auc:0.9987\n",
      "epoch: 140 loss:0.193630 auc:0.9987\n",
      "epoch: 160 loss:0.192415 auc:0.9987\n",
      "epoch: 180 loss:0.191466 auc:0.9987\n",
      "epoch: 200 loss:0.190782 auc:0.9987\n",
      "epoch: 220 loss:0.189915 auc:0.9987\n",
      "epoch: 240 loss:0.189389 auc:0.9993\n",
      "epoch: 260 loss:0.188525 auc:0.9993\n",
      "epoch: 280 loss:0.187380 auc:0.9987\n"
     ]
    },
    {
     "name": "stderr",
     "output_type": "stream",
     "text": [
      " 41%|████▏     | 379/916 [1:14:59<1:49:00, 12.18s/it]"
     ]
    },
    {
     "name": "stdout",
     "output_type": "stream",
     "text": [
      "epoch: 300 loss:0.187341 auc:0.9980\n",
      "Fit finished.\n",
      "epoch:   0 loss:1.231603 auc:0.6211\n",
      "epoch:  20 loss:0.318511 auc:0.9622\n",
      "epoch:  40 loss:0.243049 auc:0.9644\n",
      "epoch:  60 loss:0.218162 auc:0.9589\n",
      "epoch:  80 loss:0.209344 auc:0.9556\n",
      "epoch: 100 loss:0.203766 auc:0.9567\n",
      "epoch: 120 loss:0.198346 auc:0.9567\n",
      "epoch: 140 loss:0.194532 auc:0.9567\n",
      "epoch: 160 loss:0.192958 auc:0.9556\n"
     ]
    },
    {
     "name": "stderr",
     "output_type": "stream",
     "text": [
      " 41%|████▏     | 380/916 [1:15:07<1:37:47, 10.95s/it]"
     ]
    },
    {
     "name": "stdout",
     "output_type": "stream",
     "text": [
      "epoch: 180 loss:0.191987 auc:0.9567\n",
      "Fit finished.\n",
      "epoch:   0 loss:0.747307 auc:0.5339\n",
      "epoch:  20 loss:0.306874 auc:0.9598\n",
      "epoch:  40 loss:0.231248 auc:0.9820\n",
      "epoch:  60 loss:0.214575 auc:0.9861\n",
      "epoch:  80 loss:0.207665 auc:0.9861\n",
      "epoch: 100 loss:0.202106 auc:0.9861\n",
      "epoch: 120 loss:0.196145 auc:0.9861\n",
      "epoch: 140 loss:0.193396 auc:0.9861\n",
      "epoch: 160 loss:0.191960 auc:0.9861\n",
      "epoch: 180 loss:0.190763 auc:0.9875\n",
      "epoch: 200 loss:0.191307 auc:0.9875\n",
      "epoch: 220 loss:0.188903 auc:0.9896\n",
      "epoch: 240 loss:0.194550 auc:0.9882\n",
      "epoch: 260 loss:0.187845 auc:0.9896\n",
      "epoch: 280 loss:0.186203 auc:0.9903\n",
      "epoch: 300 loss:0.184956 auc:0.9889\n",
      "epoch: 320 loss:0.184171 auc:0.9896\n",
      "epoch: 340 loss:0.182159 auc:0.9882\n"
     ]
    },
    {
     "name": "stderr",
     "output_type": "stream",
     "text": [
      " 42%|████▏     | 381/916 [1:15:23<1:53:03, 12.68s/it]"
     ]
    },
    {
     "name": "stdout",
     "output_type": "stream",
     "text": [
      "epoch: 360 loss:0.182760 auc:0.9868\n",
      "Fit finished.\n",
      "epoch:   0 loss:0.681686 auc:0.2352\n",
      "epoch:  20 loss:0.300137 auc:0.9363\n",
      "epoch:  40 loss:0.230640 auc:0.9355\n",
      "epoch:  60 loss:0.213150 auc:0.9363\n",
      "epoch:  80 loss:0.205733 auc:0.9376\n",
      "epoch: 100 loss:0.199590 auc:0.9378\n",
      "epoch: 120 loss:0.194902 auc:0.9376\n",
      "epoch: 140 loss:0.192849 auc:0.9373\n",
      "epoch: 160 loss:0.191530 auc:0.9365\n",
      "epoch: 180 loss:0.192220 auc:0.9363\n"
     ]
    },
    {
     "name": "stderr",
     "output_type": "stream",
     "text": [
      " 42%|████▏     | 382/916 [1:15:32<1:41:40, 11.42s/it]"
     ]
    },
    {
     "name": "stdout",
     "output_type": "stream",
     "text": [
      "epoch: 200 loss:0.189644 auc:0.9352\n",
      "Fit finished.\n",
      "epoch:   0 loss:0.570434 auc:0.4800\n",
      "epoch:  20 loss:0.281855 auc:0.9723\n",
      "epoch:  40 loss:0.224424 auc:0.9728\n",
      "epoch:  60 loss:0.210567 auc:0.9716\n",
      "epoch:  80 loss:0.203198 auc:0.9723\n",
      "epoch: 100 loss:0.196062 auc:0.9728\n",
      "epoch: 120 loss:0.193130 auc:0.9723\n",
      "epoch: 140 loss:0.191700 auc:0.9691\n",
      "epoch: 160 loss:0.190373 auc:0.9662\n"
     ]
    },
    {
     "name": "stderr",
     "output_type": "stream",
     "text": [
      " 42%|████▏     | 383/916 [1:15:38<1:27:07,  9.81s/it]"
     ]
    },
    {
     "name": "stdout",
     "output_type": "stream",
     "text": [
      "epoch: 180 loss:0.195436 auc:0.9408\n",
      "Fit finished.\n",
      "epoch:   0 loss:0.914829 auc:0.2779\n",
      "epoch:  20 loss:0.293303 auc:0.9800\n",
      "epoch:  40 loss:0.224240 auc:0.9732\n",
      "epoch:  60 loss:0.212419 auc:0.9705\n",
      "epoch:  80 loss:0.207315 auc:0.9705\n",
      "epoch: 100 loss:0.202093 auc:0.9705\n",
      "epoch: 120 loss:0.196427 auc:0.9711\n",
      "epoch: 140 loss:0.193417 auc:0.9714\n",
      "epoch: 160 loss:0.191859 auc:0.9711\n"
     ]
    },
    {
     "name": "stderr",
     "output_type": "stream",
     "text": [
      " 42%|████▏     | 384/916 [1:15:44<1:17:43,  8.77s/it]"
     ]
    },
    {
     "name": "stdout",
     "output_type": "stream",
     "text": [
      "epoch: 180 loss:0.190846 auc:0.9711\n",
      "Fit finished.\n",
      "epoch:   0 loss:1.416769 auc:0.8727\n",
      "epoch:  20 loss:0.307086 auc:0.9590\n",
      "epoch:  40 loss:0.236221 auc:0.9631\n",
      "epoch:  60 loss:0.217507 auc:0.9655\n",
      "epoch:  80 loss:0.209164 auc:0.9655\n",
      "epoch: 100 loss:0.203052 auc:0.9655\n",
      "epoch: 120 loss:0.197049 auc:0.9649\n",
      "epoch: 140 loss:0.194115 auc:0.9655\n",
      "epoch: 160 loss:0.192631 auc:0.9655\n",
      "epoch: 180 loss:0.191595 auc:0.9655\n",
      "epoch: 200 loss:0.190836 auc:0.9661\n",
      "epoch: 220 loss:0.190077 auc:0.9667\n",
      "epoch: 240 loss:0.190268 auc:0.9655\n",
      "epoch: 260 loss:0.188711 auc:0.9661\n",
      "epoch: 280 loss:0.189001 auc:0.9649\n"
     ]
    },
    {
     "name": "stderr",
     "output_type": "stream",
     "text": [
      " 42%|████▏     | 385/916 [1:15:56<1:26:02,  9.72s/it]"
     ]
    },
    {
     "name": "stdout",
     "output_type": "stream",
     "text": [
      "epoch: 300 loss:0.186488 auc:0.9601\n",
      "Fit finished.\n",
      "epoch:   0 loss:1.254232 auc:0.7350\n",
      "epoch:  20 loss:0.340212 auc:0.9545\n",
      "epoch:  40 loss:0.254506 auc:0.9587\n",
      "epoch:  60 loss:0.222100 auc:0.9618\n",
      "epoch:  80 loss:0.211937 auc:0.9628\n",
      "epoch: 100 loss:0.206471 auc:0.9618\n",
      "epoch: 120 loss:0.201282 auc:0.9628\n",
      "epoch: 140 loss:0.196137 auc:0.9628\n",
      "epoch: 160 loss:0.193598 auc:0.9628\n",
      "epoch: 180 loss:0.192180 auc:0.9628\n",
      "epoch: 200 loss:0.191422 auc:0.9618\n",
      "epoch: 220 loss:0.190491 auc:0.9628\n",
      "epoch: 240 loss:0.189633 auc:0.9649\n",
      "epoch: 260 loss:0.188772 auc:0.9654\n",
      "epoch: 280 loss:0.187780 auc:0.9649\n",
      "epoch: 300 loss:0.187676 auc:0.9664\n",
      "epoch: 320 loss:0.186015 auc:0.9659\n",
      "epoch: 340 loss:0.184900 auc:0.9654\n",
      "epoch: 360 loss:0.184481 auc:0.9649\n",
      "epoch: 380 loss:0.182557 auc:0.9644\n",
      "epoch: 400 loss:0.181681 auc:0.9659\n",
      "epoch: 420 loss:0.178345 auc:0.9659\n",
      "epoch: 440 loss:0.183917 auc:0.9659\n",
      "epoch: 460 loss:0.176524 auc:0.9669\n",
      "epoch: 480 loss:0.173713 auc:0.9706\n",
      "epoch: 500 loss:0.172641 auc:0.9669\n",
      "epoch: 520 loss:0.171960 auc:0.9680\n"
     ]
    },
    {
     "name": "stderr",
     "output_type": "stream",
     "text": [
      " 42%|████▏     | 386/916 [1:16:16<1:51:22, 12.61s/it]"
     ]
    },
    {
     "name": "stdout",
     "output_type": "stream",
     "text": [
      "epoch: 540 loss:0.169878 auc:0.9618\n",
      "Fit finished.\n",
      "epoch:   0 loss:1.261939 auc:0.5686\n",
      "epoch:  20 loss:0.321393 auc:0.9785\n",
      "epoch:  40 loss:0.244545 auc:0.9882\n",
      "epoch:  60 loss:0.218898 auc:0.9896\n",
      "epoch:  80 loss:0.210346 auc:0.9910\n",
      "epoch: 100 loss:0.204830 auc:0.9910\n",
      "epoch: 120 loss:0.199318 auc:0.9910\n",
      "epoch: 140 loss:0.195091 auc:0.9910\n",
      "epoch: 160 loss:0.193218 auc:0.9910\n",
      "epoch: 180 loss:0.192076 auc:0.9910\n",
      "epoch: 200 loss:0.191312 auc:0.9910\n",
      "epoch: 220 loss:0.190817 auc:0.9910\n",
      "epoch: 240 loss:0.190216 auc:0.9910\n",
      "epoch: 260 loss:0.189654 auc:0.9910\n",
      "epoch: 280 loss:0.189127 auc:0.9910\n",
      "epoch: 300 loss:0.188522 auc:0.9910\n",
      "epoch: 320 loss:0.189520 auc:0.9924\n",
      "epoch: 340 loss:0.187345 auc:0.9931\n",
      "epoch: 360 loss:0.186932 auc:0.9931\n",
      "epoch: 380 loss:0.184774 auc:0.9931\n",
      "epoch: 400 loss:0.183554 auc:0.9931\n",
      "epoch: 420 loss:0.182363 auc:0.9910\n",
      "epoch: 440 loss:0.180994 auc:0.9931\n",
      "epoch: 460 loss:0.181547 auc:0.9938\n",
      "epoch: 480 loss:0.181401 auc:0.9924\n"
     ]
    },
    {
     "name": "stderr",
     "output_type": "stream",
     "text": [
      " 42%|████▏     | 387/916 [1:16:34<2:07:23, 14.45s/it]"
     ]
    },
    {
     "name": "stdout",
     "output_type": "stream",
     "text": [
      "epoch: 500 loss:0.175930 auc:0.9924\n",
      "Fit finished.\n",
      "epoch:   0 loss:1.278739 auc:0.7921\n",
      "epoch:  20 loss:0.315221 auc:0.9579\n",
      "epoch:  40 loss:0.239697 auc:0.9654\n",
      "epoch:  60 loss:0.218369 auc:0.9677\n",
      "epoch:  80 loss:0.210777 auc:0.9690\n",
      "epoch: 100 loss:0.206017 auc:0.9696\n",
      "epoch: 120 loss:0.200940 auc:0.9696\n",
      "epoch: 140 loss:0.195844 auc:0.9701\n",
      "epoch: 160 loss:0.193450 auc:0.9698\n",
      "epoch: 180 loss:0.192175 auc:0.9696\n",
      "epoch: 200 loss:0.191245 auc:0.9696\n",
      "epoch: 220 loss:0.193358 auc:0.9698\n",
      "epoch: 240 loss:0.190316 auc:0.9711\n",
      "epoch: 260 loss:0.189085 auc:0.9719\n",
      "epoch: 280 loss:0.189533 auc:0.9719\n",
      "epoch: 300 loss:0.187716 auc:0.9727\n",
      "epoch: 320 loss:0.187253 auc:0.9719\n",
      "epoch: 340 loss:0.185553 auc:0.9706\n"
     ]
    },
    {
     "name": "stderr",
     "output_type": "stream",
     "text": [
      " 42%|████▏     | 388/916 [1:16:47<2:02:16, 13.90s/it]"
     ]
    },
    {
     "name": "stdout",
     "output_type": "stream",
     "text": [
      "epoch: 360 loss:0.184571 auc:0.9664\n",
      "Fit finished.\n",
      "epoch:   0 loss:0.783031 auc:0.1201\n",
      "epoch:  20 loss:0.276080 auc:0.9405\n",
      "epoch:  40 loss:0.222456 auc:0.9600\n",
      "epoch:  60 loss:0.209462 auc:0.9681\n",
      "epoch:  80 loss:0.202721 auc:0.9681\n",
      "epoch: 100 loss:0.196917 auc:0.9670\n",
      "epoch: 120 loss:0.194025 auc:0.9670\n",
      "epoch: 140 loss:0.192440 auc:0.9676\n",
      "epoch: 160 loss:0.191205 auc:0.9676\n",
      "epoch: 180 loss:0.190248 auc:0.9676\n",
      "epoch: 200 loss:0.189251 auc:0.9670\n"
     ]
    },
    {
     "name": "stderr",
     "output_type": "stream",
     "text": [
      " 42%|████▏     | 389/916 [1:16:55<1:47:12, 12.21s/it]"
     ]
    },
    {
     "name": "stdout",
     "output_type": "stream",
     "text": [
      "epoch: 220 loss:0.188767 auc:0.9638\n",
      "Fit finished.\n",
      "epoch:   0 loss:0.737842 auc:0.6002\n",
      "epoch:  20 loss:0.312380 auc:0.9372\n",
      "epoch:  40 loss:0.231773 auc:0.9481\n",
      "epoch:  60 loss:0.215535 auc:0.9625\n",
      "epoch:  80 loss:0.207568 auc:0.9625\n",
      "epoch: 100 loss:0.201366 auc:0.9595\n",
      "epoch: 120 loss:0.195668 auc:0.9587\n",
      "epoch: 140 loss:0.193085 auc:0.9579\n",
      "epoch: 160 loss:0.192074 auc:0.9585\n",
      "epoch: 180 loss:0.190987 auc:0.9579\n",
      "epoch: 200 loss:0.190981 auc:0.9566\n"
     ]
    },
    {
     "name": "stderr",
     "output_type": "stream",
     "text": [
      " 43%|████▎     | 390/916 [1:17:04<1:38:49, 11.27s/it]"
     ]
    },
    {
     "name": "stdout",
     "output_type": "stream",
     "text": [
      "epoch: 220 loss:0.189513 auc:0.9571\n",
      "Fit finished.\n",
      "epoch:   0 loss:0.749649 auc:0.5922\n",
      "epoch:  20 loss:0.332570 auc:0.9366\n",
      "epoch:  40 loss:0.245170 auc:0.9393\n",
      "epoch:  60 loss:0.219134 auc:0.9369\n",
      "epoch:  80 loss:0.209775 auc:0.9362\n",
      "epoch: 100 loss:0.203536 auc:0.9345\n",
      "epoch: 120 loss:0.197592 auc:0.9328\n",
      "epoch: 140 loss:0.194171 auc:0.9318\n",
      "epoch: 160 loss:0.192659 auc:0.9318\n"
     ]
    },
    {
     "name": "stderr",
     "output_type": "stream",
     "text": [
      " 43%|████▎     | 391/916 [1:17:11<1:27:20,  9.98s/it]"
     ]
    },
    {
     "name": "stdout",
     "output_type": "stream",
     "text": [
      "epoch: 180 loss:0.191596 auc:0.9318\n",
      "Fit finished.\n",
      "epoch:   0 loss:0.790585 auc:0.5676\n",
      "epoch:  20 loss:0.323215 auc:0.9206\n",
      "epoch:  40 loss:0.233918 auc:0.9197\n",
      "epoch:  60 loss:0.212668 auc:0.9212\n",
      "epoch:  80 loss:0.204950 auc:0.9203\n",
      "epoch: 100 loss:0.198683 auc:0.9210\n",
      "epoch: 120 loss:0.194690 auc:0.9214\n",
      "epoch: 140 loss:0.192823 auc:0.9218\n",
      "epoch: 160 loss:0.191645 auc:0.9216\n",
      "epoch: 180 loss:0.190933 auc:0.9216\n",
      "epoch: 200 loss:0.190507 auc:0.9205\n"
     ]
    },
    {
     "name": "stderr",
     "output_type": "stream",
     "text": [
      " 43%|████▎     | 392/916 [1:17:20<1:23:46,  9.59s/it]"
     ]
    },
    {
     "name": "stdout",
     "output_type": "stream",
     "text": [
      "epoch: 220 loss:0.189566 auc:0.9210\n",
      "Fit finished.\n",
      "epoch:   0 loss:0.685867 auc:0.4942\n",
      "epoch:  20 loss:0.260875 auc:0.9510\n",
      "epoch:  40 loss:0.219777 auc:0.9709\n",
      "epoch:  60 loss:0.210357 auc:0.9746\n",
      "epoch:  80 loss:0.205510 auc:0.9746\n",
      "epoch: 100 loss:0.200003 auc:0.9746\n",
      "epoch: 120 loss:0.195123 auc:0.9743\n",
      "epoch: 140 loss:0.193192 auc:0.9750\n",
      "epoch: 160 loss:0.191426 auc:0.9746\n",
      "epoch: 180 loss:0.190735 auc:0.9739\n",
      "epoch: 200 loss:0.188892 auc:0.9739\n"
     ]
    },
    {
     "name": "stderr",
     "output_type": "stream",
     "text": [
      " 43%|████▎     | 393/916 [1:17:29<1:20:55,  9.28s/it]"
     ]
    },
    {
     "name": "stdout",
     "output_type": "stream",
     "text": [
      "epoch: 220 loss:0.188934 auc:0.9739\n",
      "Fit finished.\n",
      "epoch:   0 loss:1.044630 auc:0.8698\n",
      "epoch:  20 loss:0.323340 auc:0.9438\n",
      "epoch:  40 loss:0.243866 auc:0.9516\n",
      "epoch:  60 loss:0.219497 auc:0.9530\n",
      "epoch:  80 loss:0.211481 auc:0.9549\n",
      "epoch: 100 loss:0.207070 auc:0.9549\n",
      "epoch: 120 loss:0.203138 auc:0.9549\n",
      "epoch: 140 loss:0.198915 auc:0.9549\n",
      "epoch: 160 loss:0.195440 auc:0.9549\n",
      "epoch: 180 loss:0.193612 auc:0.9549\n",
      "epoch: 200 loss:0.192489 auc:0.9545\n",
      "epoch: 220 loss:0.191602 auc:0.9545\n"
     ]
    },
    {
     "name": "stderr",
     "output_type": "stream",
     "text": [
      " 43%|████▎     | 394/916 [1:17:39<1:22:39,  9.50s/it]"
     ]
    },
    {
     "name": "stdout",
     "output_type": "stream",
     "text": [
      "epoch: 240 loss:0.190800 auc:0.9545\n",
      "Fit finished.\n",
      "epoch:   0 loss:1.572095 auc:0.4684\n",
      "epoch:  20 loss:0.308060 auc:0.9046\n",
      "epoch:  40 loss:0.233905 auc:0.9041\n",
      "epoch:  60 loss:0.217801 auc:0.9057\n",
      "epoch:  80 loss:0.211303 auc:0.9033\n",
      "epoch: 100 loss:0.207482 auc:0.9022\n",
      "epoch: 120 loss:0.203602 auc:0.9030\n",
      "epoch: 140 loss:0.199013 auc:0.9024\n",
      "epoch: 160 loss:0.194842 auc:0.9014\n"
     ]
    },
    {
     "name": "stderr",
     "output_type": "stream",
     "text": [
      " 43%|████▎     | 395/916 [1:17:47<1:19:04,  9.11s/it]"
     ]
    },
    {
     "name": "stdout",
     "output_type": "stream",
     "text": [
      "epoch: 180 loss:0.192905 auc:0.9033\n",
      "Fit finished.\n",
      "epoch:   0 loss:0.801293 auc:0.3835\n",
      "epoch:  20 loss:0.300639 auc:0.9483\n",
      "epoch:  40 loss:0.228821 auc:0.9503\n",
      "epoch:  60 loss:0.213740 auc:0.9466\n",
      "epoch:  80 loss:0.207011 auc:0.9480\n",
      "epoch: 100 loss:0.201333 auc:0.9477\n",
      "epoch: 120 loss:0.196212 auc:0.9480\n",
      "epoch: 140 loss:0.193584 auc:0.9494\n",
      "epoch: 160 loss:0.192142 auc:0.9512\n",
      "epoch: 180 loss:0.190994 auc:0.9532\n",
      "epoch: 200 loss:0.190580 auc:0.9566\n",
      "epoch: 220 loss:0.188856 auc:0.9609\n",
      "epoch: 240 loss:0.189134 auc:0.9632\n",
      "epoch: 260 loss:0.186384 auc:0.9681\n",
      "epoch: 280 loss:0.187240 auc:0.9687\n",
      "epoch: 300 loss:0.184261 auc:0.9690\n",
      "epoch: 320 loss:0.182660 auc:0.9701\n",
      "epoch: 340 loss:0.180605 auc:0.9707\n",
      "epoch: 360 loss:0.177792 auc:0.9704\n"
     ]
    },
    {
     "name": "stderr",
     "output_type": "stream",
     "text": [
      " 43%|████▎     | 396/916 [1:18:00<1:30:06, 10.40s/it]"
     ]
    },
    {
     "name": "stdout",
     "output_type": "stream",
     "text": [
      "epoch: 380 loss:0.197276 auc:0.9515\n",
      "Fit finished.\n",
      "epoch:   0 loss:0.580987 auc:0.5217\n",
      "epoch:  20 loss:0.271042 auc:0.9658\n",
      "epoch:  40 loss:0.222142 auc:0.9621\n",
      "epoch:  60 loss:0.210943 auc:0.9638\n",
      "epoch:  80 loss:0.203967 auc:0.9644\n",
      "epoch: 100 loss:0.196890 auc:0.9644\n",
      "epoch: 120 loss:0.193804 auc:0.9627\n",
      "epoch: 140 loss:0.191942 auc:0.9632\n",
      "epoch: 160 loss:0.190751 auc:0.9644\n"
     ]
    },
    {
     "name": "stderr",
     "output_type": "stream",
     "text": [
      " 43%|████▎     | 397/916 [1:18:09<1:24:36,  9.78s/it]"
     ]
    },
    {
     "name": "stdout",
     "output_type": "stream",
     "text": [
      "epoch: 180 loss:0.189733 auc:0.9655\n",
      "Fit finished.\n",
      "epoch:   0 loss:0.954888 auc:0.5781\n",
      "epoch:  20 loss:0.308676 auc:0.9725\n",
      "epoch:  40 loss:0.229803 auc:0.9758\n",
      "epoch:  60 loss:0.216214 auc:0.9792\n",
      "epoch:  80 loss:0.210166 auc:0.9804\n",
      "epoch: 100 loss:0.206035 auc:0.9804\n",
      "epoch: 120 loss:0.201162 auc:0.9808\n",
      "epoch: 140 loss:0.195988 auc:0.9808\n",
      "epoch: 160 loss:0.193556 auc:0.9804\n",
      "epoch: 180 loss:0.192279 auc:0.9808\n",
      "epoch: 200 loss:0.191355 auc:0.9804\n",
      "epoch: 220 loss:0.190757 auc:0.9800\n"
     ]
    },
    {
     "name": "stderr",
     "output_type": "stream",
     "text": [
      " 43%|████▎     | 398/916 [1:18:17<1:21:21,  9.42s/it]"
     ]
    },
    {
     "name": "stdout",
     "output_type": "stream",
     "text": [
      "epoch: 240 loss:0.190499 auc:0.9800\n",
      "Fit finished.\n",
      "epoch:   0 loss:0.703093 auc:0.2250\n",
      "epoch:  20 loss:0.266103 auc:0.9705\n",
      "epoch:  40 loss:0.220143 auc:0.9691\n",
      "epoch:  60 loss:0.209110 auc:0.9695\n",
      "epoch:  80 loss:0.202515 auc:0.9705\n",
      "epoch: 100 loss:0.196628 auc:0.9719\n",
      "epoch: 120 loss:0.193848 auc:0.9719\n",
      "epoch: 140 loss:0.192331 auc:0.9719\n",
      "epoch: 160 loss:0.191369 auc:0.9726\n",
      "epoch: 180 loss:0.190180 auc:0.9726\n",
      "epoch: 200 loss:0.189064 auc:0.9729\n",
      "epoch: 220 loss:0.193845 auc:0.9733\n",
      "epoch: 240 loss:0.188346 auc:0.9733\n"
     ]
    },
    {
     "name": "stderr",
     "output_type": "stream",
     "text": [
      " 44%|████▎     | 399/916 [1:18:28<1:23:46,  9.72s/it]"
     ]
    },
    {
     "name": "stdout",
     "output_type": "stream",
     "text": [
      "epoch: 260 loss:0.186240 auc:0.9705\n",
      "Fit finished.\n",
      "epoch:   0 loss:0.781048 auc:0.2158\n",
      "epoch:  20 loss:0.274374 auc:0.9745\n",
      "epoch:  40 loss:0.224779 auc:0.9729\n",
      "epoch:  60 loss:0.213113 auc:0.9714\n",
      "epoch:  80 loss:0.208192 auc:0.9714\n",
      "epoch: 100 loss:0.203596 auc:0.9708\n",
      "epoch: 120 loss:0.198021 auc:0.9708\n",
      "epoch: 140 loss:0.194235 auc:0.9705\n",
      "epoch: 160 loss:0.192491 auc:0.9708\n"
     ]
    },
    {
     "name": "stderr",
     "output_type": "stream",
     "text": [
      " 44%|████▎     | 400/916 [1:18:34<1:16:14,  8.87s/it]"
     ]
    },
    {
     "name": "stdout",
     "output_type": "stream",
     "text": [
      "epoch: 180 loss:0.191193 auc:0.9717\n",
      "Fit finished.\n",
      "epoch:   0 loss:0.706983 auc:0.4503\n",
      "epoch:  20 loss:0.313484 auc:0.9750\n",
      "epoch:  40 loss:0.230953 auc:0.9779\n",
      "epoch:  60 loss:0.214101 auc:0.9810\n",
      "epoch:  80 loss:0.206236 auc:0.9807\n",
      "epoch: 100 loss:0.199385 auc:0.9807\n",
      "epoch: 120 loss:0.194953 auc:0.9807\n",
      "epoch: 140 loss:0.193000 auc:0.9810\n",
      "epoch: 160 loss:0.192105 auc:0.9810\n",
      "epoch: 180 loss:0.190907 auc:0.9815\n",
      "epoch: 200 loss:0.190748 auc:0.9818\n",
      "epoch: 220 loss:0.189457 auc:0.9820\n",
      "epoch: 240 loss:0.190757 auc:0.9823\n",
      "epoch: 260 loss:0.187920 auc:0.9820\n",
      "epoch: 280 loss:0.186382 auc:0.9820\n"
     ]
    },
    {
     "name": "stderr",
     "output_type": "stream",
     "text": [
      " 44%|████▍     | 401/916 [1:18:47<1:26:21, 10.06s/it]"
     ]
    },
    {
     "name": "stdout",
     "output_type": "stream",
     "text": [
      "epoch: 300 loss:0.185037 auc:0.9802\n",
      "Fit finished.\n",
      "epoch:   0 loss:0.785011 auc:0.6745\n",
      "epoch:  20 loss:0.327693 auc:0.9706\n",
      "epoch:  40 loss:0.243755 auc:0.9769\n",
      "epoch:  60 loss:0.219344 auc:0.9805\n",
      "epoch:  80 loss:0.210084 auc:0.9823\n",
      "epoch: 100 loss:0.203674 auc:0.9842\n",
      "epoch: 120 loss:0.197354 auc:0.9860\n",
      "epoch: 140 loss:0.194239 auc:0.9882\n",
      "epoch: 160 loss:0.192874 auc:0.9873\n",
      "epoch: 180 loss:0.191845 auc:0.9882\n",
      "epoch: 200 loss:0.190943 auc:0.9882\n",
      "epoch: 220 loss:0.190409 auc:0.9882\n",
      "epoch: 240 loss:0.189615 auc:0.9873\n",
      "epoch: 260 loss:0.189494 auc:0.9887\n",
      "epoch: 280 loss:0.188341 auc:0.9896\n",
      "epoch: 300 loss:0.187148 auc:0.9900\n",
      "epoch: 320 loss:0.186415 auc:0.9887\n",
      "epoch: 340 loss:0.184641 auc:0.9900\n",
      "epoch: 360 loss:0.183694 auc:0.9887\n"
     ]
    },
    {
     "name": "stderr",
     "output_type": "stream",
     "text": [
      " 44%|████▍     | 402/916 [1:19:01<1:35:31, 11.15s/it]"
     ]
    },
    {
     "name": "stdout",
     "output_type": "stream",
     "text": [
      "epoch: 380 loss:0.181841 auc:0.9860\n",
      "Fit finished.\n",
      "epoch:   0 loss:0.829290 auc:0.3694\n",
      "epoch:  20 loss:0.321076 auc:0.9797\n",
      "epoch:  40 loss:0.237229 auc:0.9824\n",
      "epoch:  60 loss:0.217187 auc:0.9831\n",
      "epoch:  80 loss:0.209917 auc:0.9835\n",
      "epoch: 100 loss:0.205439 auc:0.9829\n",
      "epoch: 120 loss:0.200161 auc:0.9824\n",
      "epoch: 140 loss:0.195325 auc:0.9824\n",
      "epoch: 160 loss:0.193205 auc:0.9819\n",
      "epoch: 180 loss:0.191998 auc:0.9820\n",
      "epoch: 200 loss:0.193500 auc:0.9824\n"
     ]
    },
    {
     "name": "stderr",
     "output_type": "stream",
     "text": [
      " 44%|████▍     | 403/916 [1:19:09<1:26:26, 10.11s/it]"
     ]
    },
    {
     "name": "stdout",
     "output_type": "stream",
     "text": [
      "epoch: 220 loss:0.190542 auc:0.9826\n",
      "Fit finished.\n",
      "epoch:   0 loss:0.670133 auc:0.5264\n",
      "epoch:  20 loss:0.268558 auc:0.9606\n",
      "epoch:  40 loss:0.220386 auc:0.9667\n",
      "epoch:  60 loss:0.208999 auc:0.9698\n",
      "epoch:  80 loss:0.202062 auc:0.9695\n",
      "epoch: 100 loss:0.195765 auc:0.9688\n",
      "epoch: 120 loss:0.193206 auc:0.9705\n",
      "epoch: 140 loss:0.191888 auc:0.9709\n",
      "epoch: 160 loss:0.191049 auc:0.9709\n",
      "epoch: 180 loss:0.190197 auc:0.9709\n",
      "epoch: 200 loss:0.189526 auc:0.9712\n",
      "epoch: 220 loss:0.189522 auc:0.9698\n"
     ]
    },
    {
     "name": "stderr",
     "output_type": "stream",
     "text": [
      " 44%|████▍     | 404/916 [1:19:18<1:23:43,  9.81s/it]"
     ]
    },
    {
     "name": "stdout",
     "output_type": "stream",
     "text": [
      "epoch: 240 loss:0.188514 auc:0.9688\n",
      "Fit finished.\n",
      "epoch:   0 loss:1.142468 auc:0.6785\n",
      "epoch:  20 loss:0.331476 auc:0.9771\n",
      "epoch:  40 loss:0.249948 auc:0.9775\n",
      "epoch:  60 loss:0.220163 auc:0.9771\n",
      "epoch:  80 loss:0.210793 auc:0.9775\n",
      "epoch: 100 loss:0.205468 auc:0.9771\n",
      "epoch: 120 loss:0.200247 auc:0.9771\n",
      "epoch: 140 loss:0.195806 auc:0.9771\n",
      "epoch: 160 loss:0.193624 auc:0.9767\n",
      "epoch: 180 loss:0.192355 auc:0.9775\n",
      "epoch: 200 loss:0.191416 auc:0.9779\n",
      "epoch: 220 loss:0.190867 auc:0.9783\n",
      "epoch: 240 loss:0.190027 auc:0.9792\n",
      "epoch: 260 loss:0.189509 auc:0.9788\n",
      "epoch: 280 loss:0.188704 auc:0.9779\n",
      "epoch: 300 loss:0.187933 auc:0.9771\n"
     ]
    },
    {
     "name": "stderr",
     "output_type": "stream",
     "text": [
      " 44%|████▍     | 405/916 [1:19:30<1:28:38, 10.41s/it]"
     ]
    },
    {
     "name": "stdout",
     "output_type": "stream",
     "text": [
      "epoch: 320 loss:0.191732 auc:0.9754\n",
      "Fit finished.\n",
      "epoch:   0 loss:0.747004 auc:0.5473\n",
      "epoch:  20 loss:0.350426 auc:0.9787\n",
      "epoch:  40 loss:0.260263 auc:0.9773\n",
      "epoch:  60 loss:0.223689 auc:0.9759\n",
      "epoch:  80 loss:0.211279 auc:0.9750\n",
      "epoch: 100 loss:0.204801 auc:0.9745\n",
      "epoch: 120 loss:0.198582 auc:0.9740\n",
      "epoch: 140 loss:0.194602 auc:0.9740\n",
      "epoch: 160 loss:0.192890 auc:0.9735\n"
     ]
    },
    {
     "name": "stderr",
     "output_type": "stream",
     "text": [
      " 44%|████▍     | 406/916 [1:19:36<1:18:49,  9.27s/it]"
     ]
    },
    {
     "name": "stdout",
     "output_type": "stream",
     "text": [
      "epoch: 180 loss:0.191846 auc:0.9735\n",
      "Fit finished.\n",
      "epoch:   0 loss:0.573845 auc:0.5515\n",
      "epoch:  20 loss:0.259379 auc:0.9883\n",
      "epoch:  40 loss:0.220443 auc:0.9861\n",
      "epoch:  60 loss:0.211108 auc:0.9825\n",
      "epoch:  80 loss:0.205019 auc:0.9832\n",
      "epoch: 100 loss:0.197140 auc:0.9832\n",
      "epoch: 120 loss:0.193553 auc:0.9832\n",
      "epoch: 140 loss:0.192388 auc:0.9861\n",
      "epoch: 160 loss:0.190148 auc:0.9876\n"
     ]
    },
    {
     "name": "stderr",
     "output_type": "stream",
     "text": [
      " 44%|████▍     | 407/916 [1:19:43<1:12:52,  8.59s/it]"
     ]
    },
    {
     "name": "stdout",
     "output_type": "stream",
     "text": [
      "epoch: 180 loss:0.188227 auc:0.9861\n",
      "Fit finished.\n",
      "epoch:   0 loss:0.616242 auc:0.6692\n",
      "epoch:  20 loss:0.286416 auc:0.9607\n",
      "epoch:  40 loss:0.226888 auc:0.9600\n",
      "epoch:  60 loss:0.212743 auc:0.9629\n",
      "epoch:  80 loss:0.207019 auc:0.9634\n",
      "epoch: 100 loss:0.201681 auc:0.9631\n",
      "epoch: 120 loss:0.196295 auc:0.9629\n",
      "epoch: 140 loss:0.193674 auc:0.9626\n",
      "epoch: 160 loss:0.192231 auc:0.9626\n",
      "epoch: 180 loss:0.191045 auc:0.9622\n",
      "epoch: 200 loss:0.189860 auc:0.9619\n"
     ]
    },
    {
     "name": "stderr",
     "output_type": "stream",
     "text": [
      " 45%|████▍     | 408/916 [1:19:51<1:11:31,  8.45s/it]"
     ]
    },
    {
     "name": "stdout",
     "output_type": "stream",
     "text": [
      "epoch: 220 loss:0.190073 auc:0.9600\n",
      "Fit finished.\n",
      "epoch:   0 loss:0.677500 auc:0.2501\n",
      "epoch:  20 loss:0.267028 auc:0.9636\n",
      "epoch:  40 loss:0.220789 auc:0.9676\n",
      "epoch:  60 loss:0.209486 auc:0.9681\n",
      "epoch:  80 loss:0.202617 auc:0.9662\n",
      "epoch: 100 loss:0.196467 auc:0.9676\n",
      "epoch: 120 loss:0.193498 auc:0.9673\n",
      "epoch: 140 loss:0.191724 auc:0.9676\n",
      "epoch: 160 loss:0.192489 auc:0.9672\n",
      "epoch: 180 loss:0.189764 auc:0.9668\n"
     ]
    },
    {
     "name": "stderr",
     "output_type": "stream",
     "text": [
      " 45%|████▍     | 409/916 [1:19:59<1:08:45,  8.14s/it]"
     ]
    },
    {
     "name": "stdout",
     "output_type": "stream",
     "text": [
      "epoch: 200 loss:0.188444 auc:0.9647\n",
      "Fit finished.\n",
      "epoch:   0 loss:0.846904 auc:0.5362\n",
      "epoch:  20 loss:0.324739 auc:0.9840\n",
      "epoch:  40 loss:0.243862 auc:0.9850\n",
      "epoch:  60 loss:0.220454 auc:0.9840\n",
      "epoch:  80 loss:0.212242 auc:0.9819\n",
      "epoch: 100 loss:0.207796 auc:0.9819\n",
      "epoch: 120 loss:0.203777 auc:0.9819\n",
      "epoch: 140 loss:0.199336 auc:0.9830\n",
      "epoch: 160 loss:0.195710 auc:0.9814\n"
     ]
    },
    {
     "name": "stderr",
     "output_type": "stream",
     "text": [
      " 45%|████▍     | 410/916 [1:20:05<1:05:03,  7.71s/it]"
     ]
    },
    {
     "name": "stdout",
     "output_type": "stream",
     "text": [
      "epoch: 180 loss:0.193900 auc:0.9809\n",
      "Fit finished.\n",
      "epoch:   0 loss:1.193008 auc:0.7560\n",
      "epoch:  20 loss:0.292450 auc:0.9725\n",
      "epoch:  40 loss:0.229534 auc:0.9713\n",
      "epoch:  60 loss:0.215185 auc:0.9692\n",
      "epoch:  80 loss:0.210012 auc:0.9683\n",
      "epoch: 100 loss:0.206100 auc:0.9674\n",
      "epoch: 120 loss:0.201819 auc:0.9683\n",
      "epoch: 140 loss:0.197382 auc:0.9681\n",
      "epoch: 160 loss:0.194468 auc:0.9679\n"
     ]
    },
    {
     "name": "stderr",
     "output_type": "stream",
     "text": [
      " 45%|████▍     | 411/916 [1:20:13<1:05:15,  7.75s/it]"
     ]
    },
    {
     "name": "stdout",
     "output_type": "stream",
     "text": [
      "epoch: 180 loss:0.193016 auc:0.9679\n",
      "Fit finished.\n",
      "epoch:   0 loss:0.889689 auc:0.6161\n",
      "epoch:  20 loss:0.333202 auc:0.8821\n",
      "epoch:  40 loss:0.245984 auc:0.8880\n",
      "epoch:  60 loss:0.218788 auc:0.8932\n",
      "epoch:  80 loss:0.210611 auc:0.8976\n",
      "epoch: 100 loss:0.205918 auc:0.8971\n",
      "epoch: 120 loss:0.200775 auc:0.8977\n",
      "epoch: 140 loss:0.195463 auc:0.8976\n",
      "epoch: 160 loss:0.193044 auc:0.8968\n",
      "epoch: 180 loss:0.191782 auc:0.8973\n",
      "epoch: 200 loss:0.192244 auc:0.8986\n",
      "epoch: 220 loss:0.190443 auc:0.8985\n"
     ]
    },
    {
     "name": "stderr",
     "output_type": "stream",
     "text": [
      " 45%|████▍     | 412/916 [1:20:22<1:07:20,  8.02s/it]"
     ]
    },
    {
     "name": "stdout",
     "output_type": "stream",
     "text": [
      "epoch: 240 loss:0.189604 auc:0.8953\n",
      "Fit finished.\n",
      "epoch:   0 loss:1.054725 auc:0.3720\n",
      "epoch:  20 loss:0.326523 auc:0.9492\n",
      "epoch:  40 loss:0.244566 auc:0.9596\n",
      "epoch:  60 loss:0.219894 auc:0.9624\n",
      "epoch:  80 loss:0.210832 auc:0.9624\n",
      "epoch: 100 loss:0.205485 auc:0.9612\n",
      "epoch: 120 loss:0.200485 auc:0.9604\n",
      "epoch: 140 loss:0.196025 auc:0.9596\n",
      "epoch: 160 loss:0.193773 auc:0.9600\n",
      "epoch: 180 loss:0.192547 auc:0.9592\n",
      "epoch: 200 loss:0.191637 auc:0.9596\n"
     ]
    },
    {
     "name": "stderr",
     "output_type": "stream",
     "text": [
      " 45%|████▌     | 413/916 [1:20:31<1:09:10,  8.25s/it]"
     ]
    },
    {
     "name": "stdout",
     "output_type": "stream",
     "text": [
      "epoch: 220 loss:0.190945 auc:0.9600\n",
      "Fit finished.\n",
      "epoch:   0 loss:0.629872 auc:0.6838\n",
      "epoch:  20 loss:0.289217 auc:0.9592\n",
      "epoch:  40 loss:0.226103 auc:0.9645\n",
      "epoch:  60 loss:0.211294 auc:0.9660\n",
      "epoch:  80 loss:0.204172 auc:0.9662\n",
      "epoch: 100 loss:0.197658 auc:0.9656\n",
      "epoch: 120 loss:0.194129 auc:0.9658\n",
      "epoch: 140 loss:0.192508 auc:0.9662\n",
      "epoch: 160 loss:0.191564 auc:0.9653\n",
      "epoch: 180 loss:0.190300 auc:0.9658\n",
      "epoch: 200 loss:0.189921 auc:0.9658\n",
      "epoch: 220 loss:0.189169 auc:0.9668\n"
     ]
    },
    {
     "name": "stderr",
     "output_type": "stream",
     "text": [
      " 45%|████▌     | 414/916 [1:20:40<1:12:23,  8.65s/it]"
     ]
    },
    {
     "name": "stdout",
     "output_type": "stream",
     "text": [
      "epoch: 240 loss:0.187222 auc:0.9651\n",
      "Fit finished.\n",
      "epoch:   0 loss:0.874669 auc:0.4456\n",
      "epoch:  20 loss:0.301786 auc:0.8984\n",
      "epoch:  40 loss:0.227925 auc:0.8961\n",
      "epoch:  60 loss:0.213776 auc:0.8935\n",
      "epoch:  80 loss:0.207915 auc:0.8912\n",
      "epoch: 100 loss:0.202771 auc:0.8923\n",
      "epoch: 120 loss:0.196838 auc:0.8918\n",
      "epoch: 140 loss:0.193768 auc:0.8915\n",
      "epoch: 160 loss:0.192321 auc:0.8923\n"
     ]
    },
    {
     "name": "stderr",
     "output_type": "stream",
     "text": [
      " 45%|████▌     | 415/916 [1:20:47<1:07:51,  8.13s/it]"
     ]
    },
    {
     "name": "stdout",
     "output_type": "stream",
     "text": [
      "epoch: 180 loss:0.191307 auc:0.8925\n",
      "Fit finished.\n",
      "epoch:   0 loss:0.582435 auc:0.6516\n",
      "epoch:  20 loss:0.266567 auc:0.9578\n",
      "epoch:  40 loss:0.218988 auc:0.9646\n",
      "epoch:  60 loss:0.208783 auc:0.9646\n",
      "epoch:  80 loss:0.202750 auc:0.9640\n",
      "epoch: 100 loss:0.196241 auc:0.9643\n",
      "epoch: 120 loss:0.193518 auc:0.9628\n",
      "epoch: 140 loss:0.191852 auc:0.9640\n",
      "epoch: 160 loss:0.192158 auc:0.9637\n",
      "epoch: 180 loss:0.190055 auc:0.9640\n",
      "epoch: 200 loss:0.188724 auc:0.9655\n",
      "epoch: 220 loss:0.187677 auc:0.9668\n",
      "epoch: 240 loss:0.189758 auc:0.9705\n",
      "epoch: 260 loss:0.184876 auc:0.9735\n",
      "epoch: 280 loss:0.184072 auc:0.9760\n",
      "epoch: 300 loss:0.181132 auc:0.9757\n",
      "epoch: 320 loss:0.178232 auc:0.9748\n",
      "epoch: 340 loss:0.186115 auc:0.9643\n",
      "epoch: 360 loss:0.186800 auc:0.9671\n",
      "epoch: 380 loss:0.176400 auc:0.9772\n",
      "epoch: 400 loss:0.172431 auc:0.9763\n",
      "epoch: 420 loss:0.171946 auc:0.9745\n"
     ]
    },
    {
     "name": "stderr",
     "output_type": "stream",
     "text": [
      " 45%|████▌     | 416/916 [1:21:01<1:22:56,  9.95s/it]"
     ]
    },
    {
     "name": "stdout",
     "output_type": "stream",
     "text": [
      "epoch: 440 loss:0.169577 auc:0.9708\n",
      "Fit finished.\n",
      "epoch:   0 loss:0.632728 auc:0.3784\n",
      "epoch:  20 loss:0.267173 auc:0.9608\n",
      "epoch:  40 loss:0.219305 auc:0.9616\n",
      "epoch:  60 loss:0.209332 auc:0.9619\n",
      "epoch:  80 loss:0.203360 auc:0.9630\n",
      "epoch: 100 loss:0.196825 auc:0.9623\n",
      "epoch: 120 loss:0.193688 auc:0.9623\n",
      "epoch: 140 loss:0.192061 auc:0.9633\n",
      "epoch: 160 loss:0.195428 auc:0.9626\n",
      "epoch: 180 loss:0.190055 auc:0.9640\n",
      "epoch: 200 loss:0.188241 auc:0.9644\n",
      "epoch: 220 loss:0.189975 auc:0.9626\n",
      "epoch: 240 loss:0.186241 auc:0.9640\n",
      "epoch: 260 loss:0.184232 auc:0.9651\n"
     ]
    },
    {
     "name": "stderr",
     "output_type": "stream",
     "text": [
      " 46%|████▌     | 417/916 [1:21:12<1:24:14, 10.13s/it]"
     ]
    },
    {
     "name": "stdout",
     "output_type": "stream",
     "text": [
      "epoch: 280 loss:0.186222 auc:0.9619\n",
      "Fit finished.\n",
      "epoch:   0 loss:0.624988 auc:0.6680\n",
      "epoch:  20 loss:0.300879 auc:0.9359\n",
      "epoch:  40 loss:0.228357 auc:0.9420\n",
      "epoch:  60 loss:0.213937 auc:0.9496\n",
      "epoch:  80 loss:0.208736 auc:0.9503\n",
      "epoch: 100 loss:0.204285 auc:0.9518\n",
      "epoch: 120 loss:0.198779 auc:0.9509\n",
      "epoch: 140 loss:0.194356 auc:0.9503\n",
      "epoch: 160 loss:0.192482 auc:0.9512\n",
      "epoch: 180 loss:0.191315 auc:0.9499\n",
      "epoch: 200 loss:0.190474 auc:0.9503\n"
     ]
    },
    {
     "name": "stderr",
     "output_type": "stream",
     "text": [
      " 46%|████▌     | 418/916 [1:21:20<1:18:08,  9.42s/it]"
     ]
    },
    {
     "name": "stdout",
     "output_type": "stream",
     "text": [
      "epoch: 220 loss:0.189524 auc:0.9487\n",
      "Fit finished.\n",
      "epoch:   0 loss:0.821025 auc:0.3549\n",
      "epoch:  20 loss:0.304869 auc:0.9434\n",
      "epoch:  40 loss:0.233219 auc:0.9488\n",
      "epoch:  60 loss:0.216655 auc:0.9588\n",
      "epoch:  80 loss:0.209243 auc:0.9654\n",
      "epoch: 100 loss:0.203498 auc:0.9658\n",
      "epoch: 120 loss:0.197489 auc:0.9650\n",
      "epoch: 140 loss:0.194046 auc:0.9654\n",
      "epoch: 160 loss:0.192384 auc:0.9658\n",
      "epoch: 180 loss:0.191301 auc:0.9663\n",
      "epoch: 200 loss:0.190300 auc:0.9663\n",
      "epoch: 220 loss:0.189443 auc:0.9667\n",
      "epoch: 240 loss:0.188500 auc:0.9675\n",
      "epoch: 260 loss:0.187345 auc:0.9683\n",
      "epoch: 280 loss:0.186133 auc:0.9696\n",
      "epoch: 300 loss:0.186335 auc:0.9713\n",
      "epoch: 320 loss:0.183896 auc:0.9713\n",
      "epoch: 340 loss:0.183032 auc:0.9713\n",
      "epoch: 360 loss:0.180452 auc:0.9704\n",
      "epoch: 380 loss:0.183531 auc:0.9683\n",
      "epoch: 400 loss:0.178120 auc:0.9708\n",
      "epoch: 420 loss:0.185689 auc:0.9721\n",
      "epoch: 440 loss:0.174059 auc:0.9708\n"
     ]
    },
    {
     "name": "stderr",
     "output_type": "stream",
     "text": [
      " 46%|████▌     | 419/916 [1:21:37<1:37:18, 11.75s/it]"
     ]
    },
    {
     "name": "stdout",
     "output_type": "stream",
     "text": [
      "epoch: 460 loss:0.171972 auc:0.9692\n",
      "Fit finished.\n",
      "epoch:   0 loss:0.715833 auc:0.3261\n",
      "epoch:  20 loss:0.304876 auc:0.9426\n",
      "epoch:  40 loss:0.229955 auc:0.9590\n",
      "epoch:  60 loss:0.213692 auc:0.9661\n",
      "epoch:  80 loss:0.206537 auc:0.9640\n",
      "epoch: 100 loss:0.200421 auc:0.9649\n",
      "epoch: 120 loss:0.195509 auc:0.9646\n",
      "epoch: 140 loss:0.193307 auc:0.9646\n",
      "epoch: 160 loss:0.191831 auc:0.9643\n",
      "epoch: 180 loss:0.190418 auc:0.9637\n",
      "epoch: 200 loss:0.190492 auc:0.9658\n"
     ]
    },
    {
     "name": "stderr",
     "output_type": "stream",
     "text": [
      " 46%|████▌     | 420/916 [1:21:44<1:26:25, 10.46s/it]"
     ]
    },
    {
     "name": "stdout",
     "output_type": "stream",
     "text": [
      "epoch: 220 loss:0.187875 auc:0.9572\n",
      "Fit finished.\n",
      "epoch:   0 loss:1.141026 auc:0.7692\n",
      "epoch:  20 loss:0.330543 auc:0.9181\n",
      "epoch:  40 loss:0.251049 auc:0.9256\n",
      "epoch:  60 loss:0.219863 auc:0.9350\n",
      "epoch:  80 loss:0.209844 auc:0.9367\n",
      "epoch: 100 loss:0.204409 auc:0.9356\n",
      "epoch: 120 loss:0.199613 auc:0.9353\n",
      "epoch: 140 loss:0.195733 auc:0.9356\n",
      "epoch: 160 loss:0.193765 auc:0.9356\n",
      "epoch: 180 loss:0.192605 auc:0.9358\n",
      "epoch: 200 loss:0.191681 auc:0.9358\n",
      "epoch: 220 loss:0.190864 auc:0.9364\n",
      "epoch: 240 loss:0.190185 auc:0.9369\n",
      "epoch: 260 loss:0.189475 auc:0.9386\n",
      "epoch: 280 loss:0.188598 auc:0.9414\n",
      "epoch: 300 loss:0.187721 auc:0.9425\n",
      "epoch: 320 loss:0.187022 auc:0.9486\n",
      "epoch: 340 loss:0.187822 auc:0.9503\n",
      "epoch: 360 loss:0.185146 auc:0.9550\n",
      "epoch: 380 loss:0.184249 auc:0.9517\n",
      "epoch: 400 loss:0.184362 auc:0.9517\n",
      "epoch: 420 loss:0.182244 auc:0.9536\n",
      "epoch: 440 loss:0.181846 auc:0.9533\n",
      "epoch: 460 loss:0.178671 auc:0.9519\n",
      "epoch: 480 loss:0.178704 auc:0.9519\n"
     ]
    },
    {
     "name": "stderr",
     "output_type": "stream",
     "text": [
      " 46%|████▌     | 421/916 [1:22:03<1:45:27, 12.78s/it]"
     ]
    },
    {
     "name": "stdout",
     "output_type": "stream",
     "text": [
      "epoch: 500 loss:0.175985 auc:0.9469\n",
      "Fit finished.\n",
      "epoch:   0 loss:0.588074 auc:0.4186\n",
      "epoch:  20 loss:0.281251 auc:0.9635\n",
      "epoch:  40 loss:0.223560 auc:0.9635\n",
      "epoch:  60 loss:0.209637 auc:0.9635\n",
      "epoch:  80 loss:0.203072 auc:0.9642\n",
      "epoch: 100 loss:0.196812 auc:0.9635\n",
      "epoch: 120 loss:0.193658 auc:0.9635\n",
      "epoch: 140 loss:0.191900 auc:0.9635\n",
      "epoch: 160 loss:0.190734 auc:0.9642\n",
      "epoch: 180 loss:0.189351 auc:0.9649\n",
      "epoch: 200 loss:0.189261 auc:0.9649\n",
      "epoch: 220 loss:0.187401 auc:0.9635\n"
     ]
    },
    {
     "name": "stderr",
     "output_type": "stream",
     "text": [
      " 46%|████▌     | 422/916 [1:22:11<1:35:42, 11.62s/it]"
     ]
    },
    {
     "name": "stdout",
     "output_type": "stream",
     "text": [
      "epoch: 240 loss:0.185578 auc:0.9635\n",
      "Fit finished.\n",
      "epoch:   0 loss:0.708251 auc:0.3947\n",
      "epoch:  20 loss:0.304506 auc:0.9556\n",
      "epoch:  40 loss:0.228674 auc:0.9670\n",
      "epoch:  60 loss:0.212937 auc:0.9760\n",
      "epoch:  80 loss:0.206052 auc:0.9749\n",
      "epoch: 100 loss:0.199565 auc:0.9742\n",
      "epoch: 120 loss:0.194863 auc:0.9738\n",
      "epoch: 140 loss:0.192913 auc:0.9732\n",
      "epoch: 160 loss:0.191931 auc:0.9729\n",
      "epoch: 180 loss:0.191599 auc:0.9734\n",
      "epoch: 200 loss:0.190130 auc:0.9732\n"
     ]
    },
    {
     "name": "stderr",
     "output_type": "stream",
     "text": [
      " 46%|████▌     | 423/916 [1:22:19<1:24:43, 10.31s/it]"
     ]
    },
    {
     "name": "stdout",
     "output_type": "stream",
     "text": [
      "epoch: 220 loss:0.189194 auc:0.9722\n",
      "Fit finished.\n",
      "epoch:   0 loss:0.675166 auc:0.4846\n",
      "epoch:  20 loss:0.300816 auc:0.9496\n",
      "epoch:  40 loss:0.229681 auc:0.9544\n",
      "epoch:  60 loss:0.213982 auc:0.9582\n",
      "epoch:  80 loss:0.206707 auc:0.9588\n",
      "epoch: 100 loss:0.199988 auc:0.9576\n",
      "epoch: 120 loss:0.194939 auc:0.9601\n",
      "epoch: 140 loss:0.192895 auc:0.9607\n",
      "epoch: 160 loss:0.191885 auc:0.9593\n",
      "epoch: 180 loss:0.190937 auc:0.9584\n",
      "epoch: 200 loss:0.190206 auc:0.9559\n"
     ]
    },
    {
     "name": "stderr",
     "output_type": "stream",
     "text": [
      " 46%|████▋     | 424/916 [1:22:28<1:21:24,  9.93s/it]"
     ]
    },
    {
     "name": "stdout",
     "output_type": "stream",
     "text": [
      "epoch: 220 loss:0.189979 auc:0.9530\n",
      "Fit finished.\n",
      "epoch:   0 loss:0.547905 auc:0.4484\n",
      "epoch:  20 loss:0.291197 auc:0.9701\n",
      "epoch:  40 loss:0.231399 auc:0.9692\n",
      "epoch:  60 loss:0.215588 auc:0.9692\n",
      "epoch:  80 loss:0.207970 auc:0.9683\n",
      "epoch: 100 loss:0.201812 auc:0.9683\n",
      "epoch: 120 loss:0.196240 auc:0.9674\n",
      "epoch: 140 loss:0.193607 auc:0.9679\n",
      "epoch: 160 loss:0.192423 auc:0.9679\n"
     ]
    },
    {
     "name": "stderr",
     "output_type": "stream",
     "text": [
      " 46%|████▋     | 425/916 [1:22:34<1:13:29,  8.98s/it]"
     ]
    },
    {
     "name": "stdout",
     "output_type": "stream",
     "text": [
      "epoch: 180 loss:0.191304 auc:0.9679\n",
      "Fit finished.\n",
      "epoch:   0 loss:0.815820 auc:0.6357\n",
      "epoch:  20 loss:0.335794 auc:0.9657\n",
      "epoch:  40 loss:0.251959 auc:0.9699\n",
      "epoch:  60 loss:0.221484 auc:0.9706\n",
      "epoch:  80 loss:0.212113 auc:0.9730\n",
      "epoch: 100 loss:0.207130 auc:0.9726\n",
      "epoch: 120 loss:0.202682 auc:0.9726\n",
      "epoch: 140 loss:0.197592 auc:0.9726\n",
      "epoch: 160 loss:0.194418 auc:0.9724\n",
      "epoch: 180 loss:0.192992 auc:0.9724\n",
      "epoch: 200 loss:0.191989 auc:0.9724\n",
      "epoch: 220 loss:0.191115 auc:0.9719\n"
     ]
    },
    {
     "name": "stderr",
     "output_type": "stream",
     "text": [
      " 47%|████▋     | 426/916 [1:22:44<1:14:14,  9.09s/it]"
     ]
    },
    {
     "name": "stdout",
     "output_type": "stream",
     "text": [
      "epoch: 240 loss:0.190776 auc:0.9717\n",
      "Fit finished.\n",
      "epoch:   0 loss:0.656919 auc:0.8239\n",
      "epoch:  20 loss:0.282968 auc:0.9517\n",
      "epoch:  40 loss:0.223956 auc:0.9569\n",
      "epoch:  60 loss:0.210865 auc:0.9572\n",
      "epoch:  80 loss:0.203840 auc:0.9567\n",
      "epoch: 100 loss:0.198008 auc:0.9558\n",
      "epoch: 120 loss:0.194605 auc:0.9547\n",
      "epoch: 140 loss:0.192923 auc:0.9542\n",
      "epoch: 160 loss:0.191774 auc:0.9542\n",
      "epoch: 180 loss:0.190840 auc:0.9544\n"
     ]
    },
    {
     "name": "stderr",
     "output_type": "stream",
     "text": [
      " 47%|████▋     | 427/916 [1:22:52<1:12:23,  8.88s/it]"
     ]
    },
    {
     "name": "stdout",
     "output_type": "stream",
     "text": [
      "epoch: 200 loss:0.193390 auc:0.9547\n",
      "Fit finished.\n",
      "epoch:   0 loss:0.969610 auc:0.7536\n",
      "epoch:  20 loss:0.292159 auc:0.9747\n",
      "epoch:  40 loss:0.230991 auc:0.9733\n",
      "epoch:  60 loss:0.216062 auc:0.9697\n",
      "epoch:  80 loss:0.209292 auc:0.9680\n",
      "epoch: 100 loss:0.204406 auc:0.9687\n",
      "epoch: 120 loss:0.198943 auc:0.9687\n",
      "epoch: 140 loss:0.194648 auc:0.9687\n",
      "epoch: 160 loss:0.192736 auc:0.9687\n"
     ]
    },
    {
     "name": "stderr",
     "output_type": "stream",
     "text": [
      " 47%|████▋     | 428/916 [1:22:59<1:06:11,  8.14s/it]"
     ]
    },
    {
     "name": "stdout",
     "output_type": "stream",
     "text": [
      "epoch: 180 loss:0.191511 auc:0.9690\n",
      "Fit finished.\n",
      "epoch:   0 loss:0.835966 auc:0.8199\n",
      "epoch:  20 loss:0.301689 auc:0.9946\n",
      "epoch:  40 loss:0.229764 auc:0.9951\n",
      "epoch:  60 loss:0.216137 auc:0.9951\n",
      "epoch:  80 loss:0.210922 auc:0.9946\n",
      "epoch: 100 loss:0.207015 auc:0.9946\n",
      "epoch: 120 loss:0.202224 auc:0.9946\n",
      "epoch: 140 loss:0.196495 auc:0.9946\n",
      "epoch: 160 loss:0.193544 auc:0.9946\n",
      "epoch: 180 loss:0.193803 auc:0.9951\n",
      "epoch: 200 loss:0.190721 auc:0.9957\n",
      "epoch: 220 loss:0.190089 auc:0.9957\n",
      "epoch: 240 loss:0.188328 auc:0.9962\n",
      "epoch: 260 loss:0.189074 auc:0.9962\n",
      "epoch: 280 loss:0.190391 auc:0.9962\n",
      "epoch: 300 loss:0.184915 auc:0.9973\n",
      "epoch: 320 loss:0.187841 auc:0.9978\n",
      "epoch: 340 loss:0.182726 auc:0.9968\n",
      "epoch: 360 loss:0.184769 auc:0.9962\n",
      "epoch: 380 loss:0.178937 auc:0.9978\n"
     ]
    },
    {
     "name": "stderr",
     "output_type": "stream",
     "text": [
      " 47%|████▋     | 429/916 [1:23:13<1:22:05, 10.11s/it]"
     ]
    },
    {
     "name": "stdout",
     "output_type": "stream",
     "text": [
      "epoch: 400 loss:0.177244 auc:0.9957\n",
      "Fit finished.\n",
      "epoch:   0 loss:0.590268 auc:0.3516\n",
      "epoch:  20 loss:0.249048 auc:0.9609\n",
      "epoch:  40 loss:0.216511 auc:0.9785\n",
      "epoch:  60 loss:0.207936 auc:0.9795\n",
      "epoch:  80 loss:0.201242 auc:0.9785\n",
      "epoch: 100 loss:0.195694 auc:0.9795\n",
      "epoch: 120 loss:0.193399 auc:0.9795\n",
      "epoch: 140 loss:0.191910 auc:0.9805\n",
      "epoch: 160 loss:0.190653 auc:0.9814\n",
      "epoch: 180 loss:0.197855 auc:0.9805\n",
      "epoch: 200 loss:0.188630 auc:0.9805\n",
      "epoch: 220 loss:0.186854 auc:0.9805\n",
      "epoch: 240 loss:0.185302 auc:0.9805\n",
      "epoch: 260 loss:0.183963 auc:0.9805\n",
      "epoch: 280 loss:0.180040 auc:0.9805\n"
     ]
    },
    {
     "name": "stderr",
     "output_type": "stream",
     "text": [
      " 47%|████▋     | 430/916 [1:23:24<1:23:53, 10.36s/it]"
     ]
    },
    {
     "name": "stdout",
     "output_type": "stream",
     "text": [
      "epoch: 300 loss:0.182569 auc:0.9795\n",
      "Fit finished.\n",
      "epoch:   0 loss:0.807555 auc:0.4958\n",
      "epoch:  20 loss:0.297002 auc:0.9322\n",
      "epoch:  40 loss:0.228691 auc:0.9431\n",
      "epoch:  60 loss:0.211254 auc:0.9442\n",
      "epoch:  80 loss:0.203466 auc:0.9469\n",
      "epoch: 100 loss:0.196757 auc:0.9469\n",
      "epoch: 120 loss:0.193885 auc:0.9472\n",
      "epoch: 140 loss:0.192151 auc:0.9481\n",
      "epoch: 160 loss:0.191418 auc:0.9464\n",
      "epoch: 180 loss:0.190054 auc:0.9456\n",
      "epoch: 200 loss:0.189106 auc:0.9447\n",
      "epoch: 220 loss:0.187941 auc:0.9464\n"
     ]
    },
    {
     "name": "stderr",
     "output_type": "stream",
     "text": [
      " 47%|████▋     | 431/916 [1:23:32<1:17:13,  9.55s/it]"
     ]
    },
    {
     "name": "stdout",
     "output_type": "stream",
     "text": [
      "epoch: 240 loss:0.187026 auc:0.9406\n",
      "Fit finished.\n",
      "epoch:   0 loss:0.889553 auc:0.7761\n",
      "epoch:  20 loss:0.322374 auc:0.9930\n",
      "epoch:  40 loss:0.248156 auc:0.9935\n",
      "epoch:  60 loss:0.222387 auc:0.9919\n",
      "epoch:  80 loss:0.211794 auc:0.9908\n",
      "epoch: 100 loss:0.206252 auc:0.9908\n",
      "epoch: 120 loss:0.201189 auc:0.9908\n",
      "epoch: 140 loss:0.196659 auc:0.9908\n",
      "epoch: 160 loss:0.194206 auc:0.9908\n"
     ]
    },
    {
     "name": "stderr",
     "output_type": "stream",
     "text": [
      " 47%|████▋     | 432/916 [1:23:39<1:10:10,  8.70s/it]"
     ]
    },
    {
     "name": "stdout",
     "output_type": "stream",
     "text": [
      "epoch: 180 loss:0.192960 auc:0.9908\n",
      "Fit finished.\n",
      "epoch:   0 loss:0.726646 auc:0.8376\n",
      "epoch:  20 loss:0.313439 auc:0.9512\n",
      "epoch:  40 loss:0.234117 auc:0.9590\n",
      "epoch:  60 loss:0.215022 auc:0.9619\n",
      "epoch:  80 loss:0.207068 auc:0.9619\n",
      "epoch: 100 loss:0.201780 auc:0.9613\n",
      "epoch: 120 loss:0.196752 auc:0.9613\n",
      "epoch: 140 loss:0.194683 auc:0.9613\n",
      "epoch: 160 loss:0.192592 auc:0.9613\n",
      "epoch: 180 loss:0.191768 auc:0.9619\n",
      "epoch: 200 loss:0.191281 auc:0.9625\n",
      "epoch: 220 loss:0.190744 auc:0.9625\n",
      "epoch: 240 loss:0.189518 auc:0.9631\n",
      "epoch: 260 loss:0.189451 auc:0.9649\n",
      "epoch: 280 loss:0.188069 auc:0.9673\n",
      "epoch: 300 loss:0.189918 auc:0.9709\n",
      "epoch: 320 loss:0.187381 auc:0.9709\n",
      "epoch: 340 loss:0.185720 auc:0.9709\n",
      "epoch: 360 loss:0.185948 auc:0.9732\n",
      "epoch: 380 loss:0.186511 auc:0.9732\n",
      "epoch: 400 loss:0.183827 auc:0.9709\n",
      "epoch: 420 loss:0.181787 auc:0.9750\n",
      "epoch: 440 loss:0.177695 auc:0.9738\n",
      "epoch: 460 loss:0.181361 auc:0.9744\n"
     ]
    },
    {
     "name": "stderr",
     "output_type": "stream",
     "text": [
      " 47%|████▋     | 433/916 [1:23:56<1:30:57, 11.30s/it]"
     ]
    },
    {
     "name": "stdout",
     "output_type": "stream",
     "text": [
      "epoch: 480 loss:0.173368 auc:0.9703\n",
      "Fit finished.\n",
      "epoch:   0 loss:1.034842 auc:0.5766\n",
      "epoch:  20 loss:0.309190 auc:0.9276\n",
      "epoch:  40 loss:0.233331 auc:0.9276\n",
      "epoch:  60 loss:0.214705 auc:0.9311\n",
      "epoch:  80 loss:0.206463 auc:0.9340\n",
      "epoch: 100 loss:0.200210 auc:0.9347\n",
      "epoch: 120 loss:0.195648 auc:0.9353\n",
      "epoch: 140 loss:0.193705 auc:0.9358\n",
      "epoch: 160 loss:0.192456 auc:0.9363\n",
      "epoch: 180 loss:0.191500 auc:0.9348\n",
      "epoch: 200 loss:0.191225 auc:0.9335\n",
      "epoch: 220 loss:0.190212 auc:0.9326\n"
     ]
    },
    {
     "name": "stderr",
     "output_type": "stream",
     "text": [
      " 47%|████▋     | 434/916 [1:24:04<1:23:52, 10.44s/it]"
     ]
    },
    {
     "name": "stdout",
     "output_type": "stream",
     "text": [
      "epoch: 240 loss:0.189692 auc:0.9305\n",
      "Fit finished.\n",
      "epoch:   0 loss:0.938877 auc:0.2857\n",
      "epoch:  20 loss:0.300540 auc:0.9583\n",
      "epoch:  40 loss:0.228170 auc:0.9567\n",
      "epoch:  60 loss:0.214464 auc:0.9558\n",
      "epoch:  80 loss:0.208913 auc:0.9563\n",
      "epoch: 100 loss:0.204215 auc:0.9563\n",
      "epoch: 120 loss:0.198652 auc:0.9567\n",
      "epoch: 140 loss:0.194600 auc:0.9569\n",
      "epoch: 160 loss:0.192888 auc:0.9569\n"
     ]
    },
    {
     "name": "stderr",
     "output_type": "stream",
     "text": [
      " 47%|████▋     | 435/916 [1:24:11<1:14:19,  9.27s/it]"
     ]
    },
    {
     "name": "stdout",
     "output_type": "stream",
     "text": [
      "epoch: 180 loss:0.191749 auc:0.9579\n",
      "Fit finished.\n",
      "epoch:   0 loss:1.014010 auc:0.8803\n",
      "epoch:  20 loss:0.325868 auc:0.9726\n",
      "epoch:  40 loss:0.247036 auc:0.9753\n",
      "epoch:  60 loss:0.222340 auc:0.9787\n",
      "epoch:  80 loss:0.213262 auc:0.9777\n",
      "epoch: 100 loss:0.207708 auc:0.9784\n",
      "epoch: 120 loss:0.201931 auc:0.9784\n",
      "epoch: 140 loss:0.195958 auc:0.9784\n",
      "epoch: 160 loss:0.193580 auc:0.9791\n",
      "epoch: 180 loss:0.192070 auc:0.9787\n",
      "epoch: 200 loss:0.191419 auc:0.9791\n"
     ]
    },
    {
     "name": "stderr",
     "output_type": "stream",
     "text": [
      " 48%|████▊     | 436/916 [1:24:20<1:13:12,  9.15s/it]"
     ]
    },
    {
     "name": "stdout",
     "output_type": "stream",
     "text": [
      "epoch: 220 loss:0.190559 auc:0.9781\n",
      "Fit finished.\n",
      "epoch:   0 loss:0.889202 auc:0.3563\n",
      "epoch:  20 loss:0.293210 auc:0.9527\n",
      "epoch:  40 loss:0.229571 auc:0.9596\n",
      "epoch:  60 loss:0.214916 auc:0.9627\n",
      "epoch:  80 loss:0.209353 auc:0.9635\n",
      "epoch: 100 loss:0.204830 auc:0.9631\n",
      "epoch: 120 loss:0.199525 auc:0.9631\n",
      "epoch: 140 loss:0.195107 auc:0.9627\n",
      "epoch: 160 loss:0.193107 auc:0.9622\n",
      "epoch: 180 loss:0.191881 auc:0.9627\n",
      "epoch: 200 loss:0.191133 auc:0.9631\n",
      "epoch: 220 loss:0.190226 auc:0.9648\n",
      "epoch: 240 loss:0.188936 auc:0.9657\n",
      "epoch: 260 loss:0.188452 auc:0.9657\n",
      "epoch: 280 loss:0.186942 auc:0.9683\n",
      "epoch: 300 loss:0.185175 auc:0.9683\n",
      "epoch: 320 loss:0.183579 auc:0.9688\n",
      "epoch: 340 loss:0.182549 auc:0.9666\n",
      "epoch: 360 loss:0.181698 auc:0.9644\n",
      "epoch: 380 loss:0.177673 auc:0.9683\n",
      "epoch: 400 loss:0.176007 auc:0.9674\n",
      "epoch: 420 loss:0.174426 auc:0.9683\n"
     ]
    },
    {
     "name": "stderr",
     "output_type": "stream",
     "text": [
      " 48%|████▊     | 437/916 [1:24:36<1:29:19, 11.19s/it]"
     ]
    },
    {
     "name": "stdout",
     "output_type": "stream",
     "text": [
      "epoch: 440 loss:0.173659 auc:0.9679\n",
      "Fit finished.\n",
      "epoch:   0 loss:0.969828 auc:0.3634\n",
      "epoch:  20 loss:0.291919 auc:0.9527\n",
      "epoch:  40 loss:0.225662 auc:0.9674\n",
      "epoch:  60 loss:0.211407 auc:0.9702\n",
      "epoch:  80 loss:0.204963 auc:0.9693\n",
      "epoch: 100 loss:0.198921 auc:0.9688\n",
      "epoch: 120 loss:0.194839 auc:0.9693\n",
      "epoch: 140 loss:0.193001 auc:0.9693\n",
      "epoch: 160 loss:0.192476 auc:0.9693\n",
      "epoch: 180 loss:0.190865 auc:0.9693\n",
      "epoch: 200 loss:0.190239 auc:0.9693\n"
     ]
    },
    {
     "name": "stderr",
     "output_type": "stream",
     "text": [
      " 48%|████▊     | 438/916 [1:24:45<1:24:26, 10.60s/it]"
     ]
    },
    {
     "name": "stdout",
     "output_type": "stream",
     "text": [
      "epoch: 220 loss:0.189334 auc:0.9693\n",
      "Fit finished.\n",
      "epoch:   0 loss:0.769930 auc:0.3559\n",
      "epoch:  20 loss:0.324856 auc:0.9849\n",
      "epoch:  40 loss:0.239183 auc:0.9870\n",
      "epoch:  60 loss:0.214206 auc:0.9892\n",
      "epoch:  80 loss:0.204671 auc:0.9913\n",
      "epoch: 100 loss:0.197912 auc:0.9908\n",
      "epoch: 120 loss:0.194568 auc:0.9908\n",
      "epoch: 140 loss:0.192872 auc:0.9903\n",
      "epoch: 160 loss:0.191674 auc:0.9903\n",
      "epoch: 180 loss:0.191077 auc:0.9903\n",
      "epoch: 200 loss:0.190009 auc:0.9903\n",
      "epoch: 220 loss:0.189343 auc:0.9913\n",
      "epoch: 240 loss:0.188410 auc:0.9924\n",
      "epoch: 260 loss:0.187950 auc:0.9919\n",
      "epoch: 280 loss:0.186325 auc:0.9935\n",
      "epoch: 300 loss:0.185192 auc:0.9946\n",
      "epoch: 320 loss:0.186084 auc:0.9941\n",
      "epoch: 340 loss:0.183057 auc:0.9935\n",
      "epoch: 360 loss:0.181294 auc:0.9924\n"
     ]
    },
    {
     "name": "stderr",
     "output_type": "stream",
     "text": [
      " 48%|████▊     | 439/916 [1:24:59<1:31:13, 11.48s/it]"
     ]
    },
    {
     "name": "stdout",
     "output_type": "stream",
     "text": [
      "epoch: 380 loss:0.269038 auc:0.9589\n",
      "Fit finished.\n",
      "epoch:   0 loss:0.904897 auc:0.2938\n",
      "epoch:  20 loss:0.322000 auc:0.9439\n",
      "epoch:  40 loss:0.239019 auc:0.9514\n",
      "epoch:  60 loss:0.214875 auc:0.9554\n",
      "epoch:  80 loss:0.206448 auc:0.9556\n",
      "epoch: 100 loss:0.201005 auc:0.9556\n",
      "epoch: 120 loss:0.196495 auc:0.9558\n",
      "epoch: 140 loss:0.193980 auc:0.9539\n",
      "epoch: 160 loss:0.192657 auc:0.9537\n",
      "epoch: 180 loss:0.191739 auc:0.9535\n",
      "epoch: 200 loss:0.190970 auc:0.9543\n"
     ]
    },
    {
     "name": "stderr",
     "output_type": "stream",
     "text": [
      " 48%|████▊     | 440/916 [1:25:07<1:24:21, 10.63s/it]"
     ]
    },
    {
     "name": "stdout",
     "output_type": "stream",
     "text": [
      "epoch: 220 loss:0.190227 auc:0.9551\n",
      "Fit finished.\n",
      "epoch:   0 loss:0.558804 auc:0.5063\n",
      "epoch:  20 loss:0.245457 auc:0.9377\n",
      "epoch:  40 loss:0.216103 auc:0.9427\n",
      "epoch:  60 loss:0.207839 auc:0.9466\n",
      "epoch:  80 loss:0.201495 auc:0.9466\n",
      "epoch: 100 loss:0.196009 auc:0.9462\n",
      "epoch: 120 loss:0.193327 auc:0.9462\n",
      "epoch: 140 loss:0.193639 auc:0.9477\n",
      "epoch: 160 loss:0.190580 auc:0.9508\n",
      "epoch: 180 loss:0.188461 auc:0.9516\n",
      "epoch: 200 loss:0.188741 auc:0.9527\n"
     ]
    },
    {
     "name": "stderr",
     "output_type": "stream",
     "text": [
      " 48%|████▊     | 441/916 [1:25:15<1:17:49,  9.83s/it]"
     ]
    },
    {
     "name": "stdout",
     "output_type": "stream",
     "text": [
      "epoch: 220 loss:0.185136 auc:0.9462\n",
      "Fit finished.\n",
      "epoch:   0 loss:0.691662 auc:0.2634\n",
      "epoch:  20 loss:0.262542 auc:0.9660\n",
      "epoch:  40 loss:0.220718 auc:0.9684\n",
      "epoch:  60 loss:0.210339 auc:0.9671\n",
      "epoch:  80 loss:0.205127 auc:0.9657\n",
      "epoch: 100 loss:0.199147 auc:0.9664\n",
      "epoch: 120 loss:0.194668 auc:0.9664\n",
      "epoch: 140 loss:0.192352 auc:0.9678\n",
      "epoch: 160 loss:0.192108 auc:0.9657\n"
     ]
    },
    {
     "name": "stderr",
     "output_type": "stream",
     "text": [
      " 48%|████▊     | 442/916 [1:25:22<1:11:25,  9.04s/it]"
     ]
    },
    {
     "name": "stdout",
     "output_type": "stream",
     "text": [
      "epoch: 180 loss:0.189511 auc:0.9657\n",
      "Fit finished.\n",
      "epoch:   0 loss:0.744084 auc:0.3316\n",
      "epoch:  20 loss:0.294550 auc:0.9709\n",
      "epoch:  40 loss:0.227510 auc:0.9788\n",
      "epoch:  60 loss:0.213763 auc:0.9782\n",
      "epoch:  80 loss:0.207429 auc:0.9785\n",
      "epoch: 100 loss:0.201087 auc:0.9788\n",
      "epoch: 120 loss:0.195240 auc:0.9788\n",
      "epoch: 140 loss:0.193232 auc:0.9792\n",
      "epoch: 160 loss:0.191978 auc:0.9792\n",
      "epoch: 180 loss:0.190835 auc:0.9788\n"
     ]
    },
    {
     "name": "stderr",
     "output_type": "stream",
     "text": [
      " 48%|████▊     | 443/916 [1:25:31<1:09:54,  8.87s/it]"
     ]
    },
    {
     "name": "stdout",
     "output_type": "stream",
     "text": [
      "epoch: 200 loss:0.191943 auc:0.9772\n",
      "Fit finished.\n",
      "epoch:   0 loss:0.959802 auc:0.2909\n",
      "epoch:  20 loss:0.304073 auc:0.9600\n",
      "epoch:  40 loss:0.230037 auc:0.9693\n",
      "epoch:  60 loss:0.215193 auc:0.9722\n",
      "epoch:  80 loss:0.208956 auc:0.9736\n",
      "epoch: 100 loss:0.204161 auc:0.9729\n",
      "epoch: 120 loss:0.198934 auc:0.9732\n",
      "epoch: 140 loss:0.195032 auc:0.9732\n",
      "epoch: 160 loss:0.193171 auc:0.9736\n",
      "epoch: 180 loss:0.191991 auc:0.9736\n",
      "epoch: 200 loss:0.191042 auc:0.9732\n",
      "epoch: 220 loss:0.190183 auc:0.9732\n"
     ]
    },
    {
     "name": "stderr",
     "output_type": "stream",
     "text": [
      " 48%|████▊     | 444/916 [1:25:40<1:09:21,  8.82s/it]"
     ]
    },
    {
     "name": "stdout",
     "output_type": "stream",
     "text": [
      "epoch: 240 loss:0.189556 auc:0.9732\n",
      "Fit finished.\n",
      "epoch:   0 loss:0.629728 auc:0.4718\n",
      "epoch:  20 loss:0.316868 auc:0.9241\n",
      "epoch:  40 loss:0.236199 auc:0.9355\n",
      "epoch:  60 loss:0.217676 auc:0.9331\n",
      "epoch:  80 loss:0.209731 auc:0.9347\n",
      "epoch: 100 loss:0.204350 auc:0.9339\n",
      "epoch: 120 loss:0.198193 auc:0.9331\n",
      "epoch: 140 loss:0.194113 auc:0.9331\n",
      "epoch: 160 loss:0.192456 auc:0.9331\n",
      "epoch: 180 loss:0.192034 auc:0.9322\n"
     ]
    },
    {
     "name": "stderr",
     "output_type": "stream",
     "text": [
      " 49%|████▊     | 445/916 [1:25:47<1:04:58,  8.28s/it]"
     ]
    },
    {
     "name": "stdout",
     "output_type": "stream",
     "text": [
      "epoch: 200 loss:0.190707 auc:0.9322\n",
      "Fit finished.\n",
      "epoch:   0 loss:0.822592 auc:0.0937\n",
      "epoch:  20 loss:0.267699 auc:0.9431\n",
      "epoch:  40 loss:0.222304 auc:0.9403\n",
      "epoch:  60 loss:0.211963 auc:0.9394\n",
      "epoch:  80 loss:0.206748 auc:0.9385\n",
      "epoch: 100 loss:0.201145 auc:0.9412\n",
      "epoch: 120 loss:0.195582 auc:0.9458\n",
      "epoch: 140 loss:0.193141 auc:0.9458\n",
      "epoch: 160 loss:0.191640 auc:0.9467\n",
      "epoch: 180 loss:0.191795 auc:0.9458\n",
      "epoch: 200 loss:0.189515 auc:0.9467\n",
      "epoch: 220 loss:0.188176 auc:0.9467\n",
      "epoch: 240 loss:0.192525 auc:0.9440\n",
      "epoch: 260 loss:0.186025 auc:0.9440\n"
     ]
    },
    {
     "name": "stderr",
     "output_type": "stream",
     "text": [
      " 49%|████▊     | 446/916 [1:25:57<1:10:29,  9.00s/it]"
     ]
    },
    {
     "name": "stdout",
     "output_type": "stream",
     "text": [
      "epoch: 280 loss:0.184250 auc:0.9431\n",
      "Fit finished.\n",
      "epoch:   0 loss:0.891691 auc:0.3441\n",
      "epoch:  20 loss:0.304152 auc:0.9605\n",
      "epoch:  40 loss:0.233091 auc:0.9681\n",
      "epoch:  60 loss:0.216599 auc:0.9672\n",
      "epoch:  80 loss:0.209250 auc:0.9675\n",
      "epoch: 100 loss:0.204359 auc:0.9681\n",
      "epoch: 120 loss:0.199206 auc:0.9675\n",
      "epoch: 140 loss:0.195249 auc:0.9675\n",
      "epoch: 160 loss:0.193418 auc:0.9672\n",
      "epoch: 180 loss:0.192255 auc:0.9675\n",
      "epoch: 200 loss:0.191298 auc:0.9684\n",
      "epoch: 220 loss:0.190347 auc:0.9684\n",
      "epoch: 240 loss:0.189464 auc:0.9684\n"
     ]
    },
    {
     "name": "stderr",
     "output_type": "stream",
     "text": [
      " 49%|████▉     | 447/916 [1:26:07<1:12:41,  9.30s/it]"
     ]
    },
    {
     "name": "stdout",
     "output_type": "stream",
     "text": [
      "epoch: 260 loss:0.189040 auc:0.9678\n",
      "Fit finished.\n",
      "epoch:   0 loss:0.906264 auc:0.6439\n",
      "epoch:  20 loss:0.332038 auc:0.9525\n",
      "epoch:  40 loss:0.249784 auc:0.9641\n",
      "epoch:  60 loss:0.220956 auc:0.9712\n",
      "epoch:  80 loss:0.209820 auc:0.9744\n",
      "epoch: 100 loss:0.203372 auc:0.9730\n",
      "epoch: 120 loss:0.197769 auc:0.9726\n",
      "epoch: 140 loss:0.194381 auc:0.9719\n",
      "epoch: 160 loss:0.192929 auc:0.9721\n",
      "epoch: 180 loss:0.191959 auc:0.9721\n",
      "epoch: 200 loss:0.191176 auc:0.9719\n",
      "epoch: 220 loss:0.190889 auc:0.9719\n"
     ]
    },
    {
     "name": "stderr",
     "output_type": "stream",
     "text": [
      " 49%|████▉     | 448/916 [1:26:17<1:12:58,  9.36s/it]"
     ]
    },
    {
     "name": "stdout",
     "output_type": "stream",
     "text": [
      "epoch: 240 loss:0.189969 auc:0.9721\n",
      "Fit finished.\n",
      "epoch:   0 loss:0.557986 auc:0.6972\n",
      "epoch:  20 loss:0.254676 auc:0.9214\n",
      "epoch:  40 loss:0.215663 auc:0.9327\n",
      "epoch:  60 loss:0.205406 auc:0.9307\n",
      "epoch:  80 loss:0.197128 auc:0.9295\n",
      "epoch: 100 loss:0.193743 auc:0.9274\n",
      "epoch: 120 loss:0.191831 auc:0.9272\n",
      "epoch: 140 loss:0.191592 auc:0.9287\n",
      "epoch: 160 loss:0.188520 auc:0.9257\n",
      "epoch: 180 loss:0.188585 auc:0.9237\n"
     ]
    },
    {
     "name": "stderr",
     "output_type": "stream",
     "text": [
      " 49%|████▉     | 449/916 [1:26:24<1:07:31,  8.68s/it]"
     ]
    },
    {
     "name": "stdout",
     "output_type": "stream",
     "text": [
      "epoch: 200 loss:0.188331 auc:0.9196\n",
      "Fit finished.\n",
      "epoch:   0 loss:0.471076 auc:0.7292\n",
      "epoch:  20 loss:0.255066 auc:0.9714\n",
      "epoch:  40 loss:0.219090 auc:0.9770\n",
      "epoch:  60 loss:0.209443 auc:0.9770\n",
      "epoch:  80 loss:0.202084 auc:0.9779\n",
      "epoch: 100 loss:0.195278 auc:0.9779\n",
      "epoch: 120 loss:0.192620 auc:0.9774\n",
      "epoch: 140 loss:0.192398 auc:0.9774\n",
      "epoch: 160 loss:0.190083 auc:0.9753\n",
      "epoch: 180 loss:0.188658 auc:0.9727\n"
     ]
    },
    {
     "name": "stderr",
     "output_type": "stream",
     "text": [
      " 49%|████▉     | 450/916 [1:26:32<1:06:44,  8.59s/it]"
     ]
    },
    {
     "name": "stdout",
     "output_type": "stream",
     "text": [
      "epoch: 200 loss:0.187830 auc:0.9666\n",
      "Fit finished.\n",
      "epoch:   0 loss:1.058862 auc:0.6302\n",
      "epoch:  20 loss:0.319124 auc:0.9287\n",
      "epoch:  40 loss:0.240643 auc:0.9287\n",
      "epoch:  60 loss:0.217402 auc:0.9310\n",
      "epoch:  80 loss:0.209412 auc:0.9301\n",
      "epoch: 100 loss:0.203473 auc:0.9316\n",
      "epoch: 120 loss:0.197086 auc:0.9319\n",
      "epoch: 140 loss:0.193659 auc:0.9310\n",
      "epoch: 160 loss:0.192233 auc:0.9293\n",
      "epoch: 180 loss:0.191270 auc:0.9319\n",
      "epoch: 200 loss:0.191116 auc:0.9301\n"
     ]
    },
    {
     "name": "stderr",
     "output_type": "stream",
     "text": [
      " 49%|████▉     | 451/916 [1:26:40<1:04:39,  8.34s/it]"
     ]
    },
    {
     "name": "stdout",
     "output_type": "stream",
     "text": [
      "epoch: 220 loss:0.189872 auc:0.9295\n",
      "Fit finished.\n",
      "epoch:   0 loss:0.742380 auc:0.2110\n",
      "epoch:  20 loss:0.280979 auc:0.9591\n",
      "epoch:  40 loss:0.223699 auc:0.9684\n",
      "epoch:  60 loss:0.210403 auc:0.9689\n",
      "epoch:  80 loss:0.203650 auc:0.9701\n",
      "epoch: 100 loss:0.197031 auc:0.9695\n",
      "epoch: 120 loss:0.193931 auc:0.9695\n",
      "epoch: 140 loss:0.192268 auc:0.9686\n",
      "epoch: 160 loss:0.191451 auc:0.9678\n",
      "epoch: 180 loss:0.191135 auc:0.9662\n"
     ]
    },
    {
     "name": "stderr",
     "output_type": "stream",
     "text": [
      " 49%|████▉     | 452/916 [1:26:49<1:05:20,  8.45s/it]"
     ]
    },
    {
     "name": "stdout",
     "output_type": "stream",
     "text": [
      "epoch: 200 loss:0.188722 auc:0.9645\n",
      "Fit finished.\n",
      "epoch:   0 loss:0.987749 auc:0.8016\n",
      "epoch:  20 loss:0.336993 auc:0.9562\n",
      "epoch:  40 loss:0.254078 auc:0.9708\n",
      "epoch:  60 loss:0.221363 auc:0.9731\n",
      "epoch:  80 loss:0.209735 auc:0.9735\n",
      "epoch: 100 loss:0.203239 auc:0.9735\n",
      "epoch: 120 loss:0.197554 auc:0.9723\n",
      "epoch: 140 loss:0.194615 auc:0.9731\n",
      "epoch: 160 loss:0.193197 auc:0.9731\n",
      "epoch: 180 loss:0.192196 auc:0.9731\n",
      "epoch: 200 loss:0.191356 auc:0.9731\n"
     ]
    },
    {
     "name": "stderr",
     "output_type": "stream",
     "text": [
      " 49%|████▉     | 453/916 [1:26:57<1:03:58,  8.29s/it]"
     ]
    },
    {
     "name": "stdout",
     "output_type": "stream",
     "text": [
      "epoch: 220 loss:0.190999 auc:0.9723\n",
      "Fit finished.\n",
      "epoch:   0 loss:0.748567 auc:0.3797\n",
      "epoch:  20 loss:0.293726 auc:0.9757\n",
      "epoch:  40 loss:0.227400 auc:0.9757\n",
      "epoch:  60 loss:0.212179 auc:0.9740\n",
      "epoch:  80 loss:0.205623 auc:0.9746\n",
      "epoch: 100 loss:0.199173 auc:0.9740\n",
      "epoch: 120 loss:0.194817 auc:0.9735\n",
      "epoch: 140 loss:0.193015 auc:0.9740\n",
      "epoch: 160 loss:0.191799 auc:0.9740\n"
     ]
    },
    {
     "name": "stderr",
     "output_type": "stream",
     "text": [
      " 50%|████▉     | 454/916 [1:27:03<59:44,  7.76s/it]  "
     ]
    },
    {
     "name": "stdout",
     "output_type": "stream",
     "text": [
      "epoch: 180 loss:0.190902 auc:0.9735\n",
      "Fit finished.\n",
      "epoch:   0 loss:1.705779 auc:0.8895\n",
      "epoch:  20 loss:0.322657 auc:0.9685\n",
      "epoch:  40 loss:0.257158 auc:0.9737\n",
      "epoch:  60 loss:0.224785 auc:0.9737\n",
      "epoch:  80 loss:0.213309 auc:0.9737\n",
      "epoch: 100 loss:0.207132 auc:0.9731\n",
      "epoch: 120 loss:0.201788 auc:0.9731\n",
      "epoch: 140 loss:0.196949 auc:0.9731\n",
      "epoch: 160 loss:0.194517 auc:0.9747\n",
      "epoch: 180 loss:0.193223 auc:0.9747\n",
      "epoch: 200 loss:0.192267 auc:0.9747\n",
      "epoch: 220 loss:0.191475 auc:0.9747\n",
      "epoch: 240 loss:0.190780 auc:0.9747\n",
      "epoch: 260 loss:0.190610 auc:0.9747\n",
      "epoch: 280 loss:0.189826 auc:0.9752\n",
      "epoch: 300 loss:0.189120 auc:0.9752\n",
      "epoch: 320 loss:0.189054 auc:0.9752\n"
     ]
    },
    {
     "name": "stderr",
     "output_type": "stream",
     "text": [
      " 50%|████▉     | 455/916 [1:27:17<1:12:36,  9.45s/it]"
     ]
    },
    {
     "name": "stdout",
     "output_type": "stream",
     "text": [
      "epoch: 340 loss:0.188827 auc:0.9737\n",
      "Fit finished.\n",
      "epoch:   0 loss:0.788249 auc:0.4238\n",
      "epoch:  20 loss:0.284498 auc:0.9281\n",
      "epoch:  40 loss:0.224485 auc:0.9437\n",
      "epoch:  60 loss:0.211957 auc:0.9444\n",
      "epoch:  80 loss:0.205449 auc:0.9437\n",
      "epoch: 100 loss:0.199160 auc:0.9450\n",
      "epoch: 120 loss:0.194709 auc:0.9487\n",
      "epoch: 140 loss:0.192857 auc:0.9469\n",
      "epoch: 160 loss:0.191564 auc:0.9475\n",
      "epoch: 180 loss:0.191224 auc:0.9506\n",
      "epoch: 200 loss:0.190385 auc:0.9531\n",
      "epoch: 220 loss:0.188908 auc:0.9525\n",
      "epoch: 240 loss:0.188107 auc:0.9556\n",
      "epoch: 260 loss:0.186153 auc:0.9544\n"
     ]
    },
    {
     "name": "stderr",
     "output_type": "stream",
     "text": [
      " 50%|████▉     | 456/916 [1:27:27<1:15:21,  9.83s/it]"
     ]
    },
    {
     "name": "stdout",
     "output_type": "stream",
     "text": [
      "epoch: 280 loss:0.185309 auc:0.9463\n",
      "Fit finished.\n",
      "epoch:   0 loss:0.659220 auc:0.4448\n",
      "epoch:  20 loss:0.254560 auc:0.9608\n",
      "epoch:  40 loss:0.218576 auc:0.9658\n",
      "epoch:  60 loss:0.208969 auc:0.9667\n",
      "epoch:  80 loss:0.202426 auc:0.9658\n",
      "epoch: 100 loss:0.195729 auc:0.9667\n",
      "epoch: 120 loss:0.193171 auc:0.9671\n",
      "epoch: 140 loss:0.191794 auc:0.9671\n",
      "epoch: 160 loss:0.190932 auc:0.9658\n",
      "epoch: 180 loss:0.189227 auc:0.9667\n",
      "epoch: 200 loss:0.187764 auc:0.9658\n"
     ]
    },
    {
     "name": "stderr",
     "output_type": "stream",
     "text": [
      " 50%|████▉     | 457/916 [1:27:35<1:10:48,  9.26s/it]"
     ]
    },
    {
     "name": "stdout",
     "output_type": "stream",
     "text": [
      "epoch: 220 loss:0.186801 auc:0.9629\n",
      "Fit finished.\n",
      "epoch:   0 loss:0.599206 auc:0.2874\n",
      "epoch:  20 loss:0.275757 auc:0.9219\n",
      "epoch:  40 loss:0.224936 auc:0.9284\n",
      "epoch:  60 loss:0.211909 auc:0.9293\n",
      "epoch:  80 loss:0.204894 auc:0.9339\n",
      "epoch: 100 loss:0.197318 auc:0.9348\n",
      "epoch: 120 loss:0.194025 auc:0.9357\n",
      "epoch: 140 loss:0.191952 auc:0.9357\n",
      "epoch: 160 loss:0.190605 auc:0.9403\n",
      "epoch: 180 loss:0.190595 auc:0.9403\n",
      "epoch: 200 loss:0.188460 auc:0.9449\n",
      "epoch: 220 loss:0.187259 auc:0.9458\n",
      "epoch: 240 loss:0.187152 auc:0.9449\n",
      "epoch: 260 loss:0.183938 auc:0.9421\n",
      "epoch: 280 loss:0.184201 auc:0.9403\n",
      "epoch: 300 loss:0.179664 auc:0.9403\n",
      "epoch: 320 loss:0.177096 auc:0.9421\n",
      "epoch: 340 loss:0.186888 auc:0.9412\n"
     ]
    },
    {
     "name": "stderr",
     "output_type": "stream",
     "text": [
      " 50%|█████     | 458/916 [1:27:49<1:21:01, 10.61s/it]"
     ]
    },
    {
     "name": "stdout",
     "output_type": "stream",
     "text": [
      "epoch: 360 loss:0.173065 auc:0.9403\n",
      "Fit finished.\n",
      "epoch:   0 loss:0.660412 auc:0.3979\n",
      "epoch:  20 loss:0.239050 auc:0.9689\n",
      "epoch:  40 loss:0.217379 auc:0.9822\n",
      "epoch:  60 loss:0.210413 auc:0.9852\n",
      "epoch:  80 loss:0.205135 auc:0.9852\n",
      "epoch: 100 loss:0.198745 auc:0.9852\n",
      "epoch: 120 loss:0.194452 auc:0.9852\n",
      "epoch: 140 loss:0.192585 auc:0.9852\n",
      "epoch: 160 loss:0.190917 auc:0.9852\n",
      "epoch: 180 loss:0.190197 auc:0.9852\n",
      "epoch: 200 loss:0.188496 auc:0.9867\n",
      "epoch: 220 loss:0.186675 auc:0.9882\n",
      "epoch: 240 loss:0.184696 auc:0.9882\n",
      "epoch: 260 loss:0.186247 auc:0.9882\n",
      "epoch: 280 loss:0.181753 auc:0.9882\n",
      "epoch: 300 loss:0.180497 auc:0.9896\n",
      "epoch: 320 loss:0.176086 auc:0.9882\n",
      "epoch: 340 loss:0.174654 auc:0.9896\n",
      "epoch: 360 loss:0.171521 auc:0.9882\n"
     ]
    },
    {
     "name": "stderr",
     "output_type": "stream",
     "text": [
      " 50%|█████     | 459/916 [1:28:02<1:26:31, 11.36s/it]"
     ]
    },
    {
     "name": "stdout",
     "output_type": "stream",
     "text": [
      "epoch: 380 loss:0.168998 auc:0.9837\n",
      "Fit finished.\n",
      "epoch:   0 loss:0.655803 auc:0.5027\n",
      "epoch:  20 loss:0.292479 auc:0.9738\n",
      "epoch:  40 loss:0.227052 auc:0.9771\n",
      "epoch:  60 loss:0.211750 auc:0.9763\n",
      "epoch:  80 loss:0.205170 auc:0.9763\n",
      "epoch: 100 loss:0.198747 auc:0.9758\n",
      "epoch: 120 loss:0.194444 auc:0.9763\n",
      "epoch: 140 loss:0.192675 auc:0.9775\n",
      "epoch: 160 loss:0.191525 auc:0.9767\n",
      "epoch: 180 loss:0.190616 auc:0.9758\n"
     ]
    },
    {
     "name": "stderr",
     "output_type": "stream",
     "text": [
      " 50%|█████     | 460/916 [1:28:09<1:16:39, 10.09s/it]"
     ]
    },
    {
     "name": "stdout",
     "output_type": "stream",
     "text": [
      "epoch: 200 loss:0.190531 auc:0.9758\n",
      "Fit finished.\n",
      "epoch:   0 loss:0.572854 auc:0.5165\n",
      "epoch:  20 loss:0.262205 auc:0.9770\n",
      "epoch:  40 loss:0.219042 auc:0.9770\n",
      "epoch:  60 loss:0.208226 auc:0.9773\n",
      "epoch:  80 loss:0.201036 auc:0.9782\n",
      "epoch: 100 loss:0.195195 auc:0.9776\n",
      "epoch: 120 loss:0.192777 auc:0.9773\n",
      "epoch: 140 loss:0.191311 auc:0.9779\n",
      "epoch: 160 loss:0.191939 auc:0.9773\n"
     ]
    },
    {
     "name": "stderr",
     "output_type": "stream",
     "text": [
      " 50%|█████     | 461/916 [1:28:16<1:08:39,  9.05s/it]"
     ]
    },
    {
     "name": "stdout",
     "output_type": "stream",
     "text": [
      "epoch: 180 loss:0.189668 auc:0.9747\n",
      "Fit finished.\n",
      "epoch:   0 loss:1.051392 auc:0.7377\n",
      "epoch:  20 loss:0.303332 auc:0.9345\n",
      "epoch:  40 loss:0.230051 auc:0.9434\n",
      "epoch:  60 loss:0.213498 auc:0.9440\n",
      "epoch:  80 loss:0.206220 auc:0.9457\n",
      "epoch: 100 loss:0.200232 auc:0.9454\n",
      "epoch: 120 loss:0.195307 auc:0.9443\n",
      "epoch: 140 loss:0.193168 auc:0.9446\n",
      "epoch: 160 loss:0.192070 auc:0.9443\n",
      "epoch: 180 loss:0.191088 auc:0.9443\n",
      "epoch: 200 loss:0.190682 auc:0.9443\n",
      "epoch: 220 loss:0.189868 auc:0.9443\n"
     ]
    },
    {
     "name": "stderr",
     "output_type": "stream",
     "text": [
      " 50%|█████     | 462/916 [1:28:24<1:07:12,  8.88s/it]"
     ]
    },
    {
     "name": "stdout",
     "output_type": "stream",
     "text": [
      "epoch: 240 loss:0.189640 auc:0.9440\n",
      "Fit finished.\n",
      "epoch:   0 loss:0.754983 auc:0.3972\n",
      "epoch:  20 loss:0.316702 auc:0.9561\n",
      "epoch:  40 loss:0.229934 auc:0.9680\n",
      "epoch:  60 loss:0.213302 auc:0.9695\n",
      "epoch:  80 loss:0.205601 auc:0.9716\n",
      "epoch: 100 loss:0.199084 auc:0.9726\n",
      "epoch: 120 loss:0.195010 auc:0.9731\n",
      "epoch: 140 loss:0.193194 auc:0.9731\n",
      "epoch: 160 loss:0.192001 auc:0.9731\n",
      "epoch: 180 loss:0.190964 auc:0.9726\n",
      "epoch: 200 loss:0.190316 auc:0.9726\n",
      "epoch: 220 loss:0.189693 auc:0.9721\n",
      "epoch: 240 loss:0.188526 auc:0.9731\n"
     ]
    },
    {
     "name": "stderr",
     "output_type": "stream",
     "text": [
      " 51%|█████     | 463/916 [1:28:34<1:09:17,  9.18s/it]"
     ]
    },
    {
     "name": "stdout",
     "output_type": "stream",
     "text": [
      "epoch: 260 loss:0.189597 auc:0.9695\n",
      "Fit finished.\n",
      "epoch:   0 loss:0.967244 auc:0.6709\n",
      "epoch:  20 loss:0.323070 auc:0.9542\n",
      "epoch:  40 loss:0.245947 auc:0.9525\n",
      "epoch:  60 loss:0.218846 auc:0.9512\n",
      "epoch:  80 loss:0.209827 auc:0.9501\n",
      "epoch: 100 loss:0.204010 auc:0.9495\n",
      "epoch: 120 loss:0.198480 auc:0.9501\n",
      "epoch: 140 loss:0.194920 auc:0.9499\n",
      "epoch: 160 loss:0.193326 auc:0.9506\n"
     ]
    },
    {
     "name": "stderr",
     "output_type": "stream",
     "text": [
      " 51%|█████     | 464/916 [1:28:41<1:03:47,  8.47s/it]"
     ]
    },
    {
     "name": "stdout",
     "output_type": "stream",
     "text": [
      "epoch: 180 loss:0.192189 auc:0.9505\n",
      "Fit finished.\n",
      "epoch:   0 loss:0.907145 auc:0.3476\n",
      "epoch:  20 loss:0.303796 auc:0.9274\n",
      "epoch:  40 loss:0.230148 auc:0.9321\n",
      "epoch:  60 loss:0.214566 auc:0.9329\n",
      "epoch:  80 loss:0.207548 auc:0.9360\n",
      "epoch: 100 loss:0.202143 auc:0.9363\n",
      "epoch: 120 loss:0.196700 auc:0.9359\n",
      "epoch: 140 loss:0.193897 auc:0.9360\n",
      "epoch: 160 loss:0.192540 auc:0.9365\n",
      "epoch: 180 loss:0.191563 auc:0.9363\n",
      "epoch: 200 loss:0.190707 auc:0.9354\n",
      "epoch: 220 loss:0.190483 auc:0.9333\n"
     ]
    },
    {
     "name": "stderr",
     "output_type": "stream",
     "text": [
      " 51%|█████     | 465/916 [1:28:51<1:07:20,  8.96s/it]"
     ]
    },
    {
     "name": "stdout",
     "output_type": "stream",
     "text": [
      "epoch: 240 loss:0.189151 auc:0.9320\n",
      "Fit finished.\n",
      "epoch:   0 loss:0.674429 auc:0.4692\n",
      "epoch:  20 loss:0.294585 auc:0.9453\n",
      "epoch:  40 loss:0.227093 auc:0.9486\n",
      "epoch:  60 loss:0.211837 auc:0.9464\n",
      "epoch:  80 loss:0.205002 auc:0.9466\n",
      "epoch: 100 loss:0.197930 auc:0.9459\n",
      "epoch: 120 loss:0.193996 auc:0.9441\n",
      "epoch: 140 loss:0.192027 auc:0.9441\n",
      "epoch: 160 loss:0.191273 auc:0.9450\n"
     ]
    },
    {
     "name": "stderr",
     "output_type": "stream",
     "text": [
      " 51%|█████     | 466/916 [1:28:58<1:03:05,  8.41s/it]"
     ]
    },
    {
     "name": "stdout",
     "output_type": "stream",
     "text": [
      "epoch: 180 loss:0.190262 auc:0.9442\n",
      "Fit finished.\n",
      "epoch:   0 loss:0.685464 auc:0.8726\n",
      "epoch:  20 loss:0.321572 auc:0.9872\n",
      "epoch:  40 loss:0.240545 auc:0.9861\n",
      "epoch:  60 loss:0.217312 auc:0.9865\n",
      "epoch:  80 loss:0.208934 auc:0.9865\n",
      "epoch: 100 loss:0.203391 auc:0.9869\n",
      "epoch: 120 loss:0.198108 auc:0.9871\n",
      "epoch: 140 loss:0.194655 auc:0.9871\n",
      "epoch: 160 loss:0.193066 auc:0.9874\n",
      "epoch: 180 loss:0.192028 auc:0.9880\n",
      "epoch: 200 loss:0.191242 auc:0.9880\n",
      "epoch: 220 loss:0.190711 auc:0.9884\n",
      "epoch: 240 loss:0.190296 auc:0.9886\n",
      "epoch: 260 loss:0.189410 auc:0.9893\n",
      "epoch: 280 loss:0.188924 auc:0.9895\n",
      "epoch: 300 loss:0.188878 auc:0.9882\n"
     ]
    },
    {
     "name": "stderr",
     "output_type": "stream",
     "text": [
      " 51%|█████     | 467/916 [1:29:10<1:11:14,  9.52s/it]"
     ]
    },
    {
     "name": "stdout",
     "output_type": "stream",
     "text": [
      "epoch: 320 loss:0.187220 auc:0.9852\n",
      "Fit finished.\n",
      "epoch:   0 loss:0.763259 auc:0.3983\n",
      "epoch:  20 loss:0.300875 auc:0.9683\n",
      "epoch:  40 loss:0.228674 auc:0.9650\n",
      "epoch:  60 loss:0.214441 auc:0.9656\n",
      "epoch:  80 loss:0.208805 auc:0.9656\n",
      "epoch: 100 loss:0.203200 auc:0.9666\n",
      "epoch: 120 loss:0.196253 auc:0.9669\n",
      "epoch: 140 loss:0.193762 auc:0.9660\n",
      "epoch: 160 loss:0.192348 auc:0.9666\n"
     ]
    },
    {
     "name": "stderr",
     "output_type": "stream",
     "text": [
      " 51%|█████     | 468/916 [1:29:18<1:06:40,  8.93s/it]"
     ]
    },
    {
     "name": "stdout",
     "output_type": "stream",
     "text": [
      "epoch: 180 loss:0.190890 auc:0.9663\n",
      "Fit finished.\n",
      "epoch:   0 loss:0.818169 auc:0.6534\n",
      "epoch:  20 loss:0.344126 auc:0.9411\n",
      "epoch:  40 loss:0.264416 auc:0.9339\n",
      "epoch:  60 loss:0.224391 auc:0.9329\n",
      "epoch:  80 loss:0.211327 auc:0.9339\n",
      "epoch: 100 loss:0.204993 auc:0.9360\n",
      "epoch: 120 loss:0.199316 auc:0.9375\n",
      "epoch: 140 loss:0.194969 auc:0.9375\n",
      "epoch: 160 loss:0.193076 auc:0.9385\n"
     ]
    },
    {
     "name": "stderr",
     "output_type": "stream",
     "text": [
      " 51%|█████     | 469/916 [1:29:25<1:01:42,  8.28s/it]"
     ]
    },
    {
     "name": "stdout",
     "output_type": "stream",
     "text": [
      "epoch: 180 loss:0.191942 auc:0.9390\n",
      "Fit finished.\n",
      "epoch:   0 loss:1.034843 auc:0.4563\n",
      "epoch:  20 loss:0.303753 auc:0.9430\n",
      "epoch:  40 loss:0.236134 auc:0.9446\n",
      "epoch:  60 loss:0.215152 auc:0.9477\n",
      "epoch:  80 loss:0.206189 auc:0.9475\n",
      "epoch: 100 loss:0.199078 auc:0.9477\n",
      "epoch: 120 loss:0.194869 auc:0.9472\n",
      "epoch: 140 loss:0.192989 auc:0.9469\n",
      "epoch: 160 loss:0.191839 auc:0.9467\n",
      "epoch: 180 loss:0.191071 auc:0.9467\n",
      "epoch: 200 loss:0.190509 auc:0.9464\n"
     ]
    },
    {
     "name": "stderr",
     "output_type": "stream",
     "text": [
      " 51%|█████▏    | 470/916 [1:29:33<1:01:36,  8.29s/it]"
     ]
    },
    {
     "name": "stdout",
     "output_type": "stream",
     "text": [
      "epoch: 220 loss:0.189923 auc:0.9454\n",
      "Fit finished.\n",
      "epoch:   0 loss:0.581888 auc:0.6694\n",
      "epoch:  20 loss:0.313555 auc:0.9878\n",
      "epoch:  40 loss:0.228789 auc:0.9863\n",
      "epoch:  60 loss:0.213974 auc:0.9841\n",
      "epoch:  80 loss:0.207290 auc:0.9834\n",
      "epoch: 100 loss:0.201251 auc:0.9852\n",
      "epoch: 120 loss:0.195691 auc:0.9852\n",
      "epoch: 140 loss:0.193419 auc:0.9845\n",
      "epoch: 160 loss:0.191877 auc:0.9837\n"
     ]
    },
    {
     "name": "stderr",
     "output_type": "stream",
     "text": [
      " 51%|█████▏    | 471/916 [1:29:40<58:58,  7.95s/it]  "
     ]
    },
    {
     "name": "stdout",
     "output_type": "stream",
     "text": [
      "epoch: 180 loss:0.190667 auc:0.9841\n",
      "Fit finished.\n",
      "epoch:   0 loss:0.768060 auc:0.6660\n",
      "epoch:  20 loss:0.310666 auc:0.9373\n",
      "epoch:  40 loss:0.236813 auc:0.9418\n",
      "epoch:  60 loss:0.216828 auc:0.9463\n",
      "epoch:  80 loss:0.208951 auc:0.9471\n",
      "epoch: 100 loss:0.203476 auc:0.9458\n",
      "epoch: 120 loss:0.198262 auc:0.9452\n",
      "epoch: 140 loss:0.194759 auc:0.9437\n",
      "epoch: 160 loss:0.193067 auc:0.9439\n",
      "epoch: 180 loss:0.191993 auc:0.9450\n",
      "epoch: 200 loss:0.191152 auc:0.9454\n"
     ]
    },
    {
     "name": "stderr",
     "output_type": "stream",
     "text": [
      " 52%|█████▏    | 472/916 [1:29:49<1:01:14,  8.28s/it]"
     ]
    },
    {
     "name": "stdout",
     "output_type": "stream",
     "text": [
      "epoch: 220 loss:0.190672 auc:0.9452\n",
      "Fit finished.\n",
      "epoch:   0 loss:0.649236 auc:0.3611\n",
      "epoch:  20 loss:0.271974 auc:0.9354\n",
      "epoch:  40 loss:0.222036 auc:0.9446\n",
      "epoch:  60 loss:0.210607 auc:0.9459\n",
      "epoch:  80 loss:0.203852 auc:0.9488\n",
      "epoch: 100 loss:0.196709 auc:0.9504\n",
      "epoch: 120 loss:0.193316 auc:0.9488\n",
      "epoch: 140 loss:0.192131 auc:0.9492\n",
      "epoch: 160 loss:0.190898 auc:0.9525\n",
      "epoch: 180 loss:0.192571 auc:0.9538\n",
      "epoch: 200 loss:0.188421 auc:0.9584\n",
      "epoch: 220 loss:0.187114 auc:0.9604\n",
      "epoch: 240 loss:0.186346 auc:0.9554\n",
      "epoch: 260 loss:0.183181 auc:0.9534\n",
      "epoch: 280 loss:0.180879 auc:0.9542\n",
      "epoch: 300 loss:0.183896 auc:0.9575\n",
      "epoch: 320 loss:0.178590 auc:0.9534\n"
     ]
    },
    {
     "name": "stderr",
     "output_type": "stream",
     "text": [
      " 52%|█████▏    | 473/916 [1:30:00<1:06:22,  8.99s/it]"
     ]
    },
    {
     "name": "stdout",
     "output_type": "stream",
     "text": [
      "epoch: 340 loss:0.177292 auc:0.9529\n",
      "Fit finished.\n",
      "epoch:   0 loss:0.577552 auc:0.5777\n",
      "epoch:  20 loss:0.271900 auc:0.9099\n",
      "epoch:  40 loss:0.222888 auc:0.9184\n",
      "epoch:  60 loss:0.210477 auc:0.9246\n",
      "epoch:  80 loss:0.204648 auc:0.9274\n",
      "epoch: 100 loss:0.198433 auc:0.9280\n",
      "epoch: 120 loss:0.194362 auc:0.9280\n",
      "epoch: 140 loss:0.192459 auc:0.9274\n",
      "epoch: 160 loss:0.191552 auc:0.9263\n",
      "epoch: 180 loss:0.190301 auc:0.9252\n",
      "epoch: 200 loss:0.188797 auc:0.9246\n"
     ]
    },
    {
     "name": "stderr",
     "output_type": "stream",
     "text": [
      " 52%|█████▏    | 474/916 [1:30:08<1:03:29,  8.62s/it]"
     ]
    },
    {
     "name": "stdout",
     "output_type": "stream",
     "text": [
      "epoch: 220 loss:0.188192 auc:0.9223\n",
      "Fit finished.\n",
      "epoch:   0 loss:0.737645 auc:0.3855\n",
      "epoch:  20 loss:0.290821 auc:0.9887\n",
      "epoch:  40 loss:0.227494 auc:1.0000\n",
      "epoch:  60 loss:0.211788 auc:1.0000\n",
      "epoch:  80 loss:0.204115 auc:1.0000\n",
      "epoch: 100 loss:0.197014 auc:1.0000\n",
      "epoch: 120 loss:0.193794 auc:1.0000\n",
      "epoch: 140 loss:0.192235 auc:1.0000\n",
      "epoch: 160 loss:0.191243 auc:1.0000\n",
      "epoch: 180 loss:0.190389 auc:1.0000\n",
      "epoch: 200 loss:0.189519 auc:1.0000\n",
      "epoch: 220 loss:0.188547 auc:1.0000\n",
      "epoch: 240 loss:0.188864 auc:1.0000\n"
     ]
    },
    {
     "name": "stderr",
     "output_type": "stream",
     "text": [
      " 52%|█████▏    | 475/916 [1:30:17<1:06:09,  9.00s/it]"
     ]
    },
    {
     "name": "stdout",
     "output_type": "stream",
     "text": [
      "epoch: 260 loss:0.185933 auc:0.9955\n",
      "Fit finished.\n",
      "epoch:   0 loss:0.791173 auc:0.3426\n",
      "epoch:  20 loss:0.290948 auc:0.9170\n",
      "epoch:  40 loss:0.227464 auc:0.9220\n",
      "epoch:  60 loss:0.213998 auc:0.9243\n",
      "epoch:  80 loss:0.207835 auc:0.9250\n",
      "epoch: 100 loss:0.202798 auc:0.9270\n",
      "epoch: 120 loss:0.197697 auc:0.9273\n",
      "epoch: 140 loss:0.194262 auc:0.9277\n",
      "epoch: 160 loss:0.192684 auc:0.9281\n",
      "epoch: 180 loss:0.191676 auc:0.9277\n",
      "epoch: 200 loss:0.190891 auc:0.9266\n",
      "epoch: 220 loss:0.190173 auc:0.9258\n"
     ]
    },
    {
     "name": "stderr",
     "output_type": "stream",
     "text": [
      " 52%|█████▏    | 476/916 [1:30:27<1:06:50,  9.11s/it]"
     ]
    },
    {
     "name": "stdout",
     "output_type": "stream",
     "text": [
      "epoch: 240 loss:0.189506 auc:0.9246\n",
      "Fit finished.\n",
      "epoch:   0 loss:0.612392 auc:0.4708\n",
      "epoch:  20 loss:0.238006 auc:0.9662\n",
      "epoch:  40 loss:0.214741 auc:0.9664\n",
      "epoch:  60 loss:0.206310 auc:0.9680\n",
      "epoch:  80 loss:0.199600 auc:0.9675\n",
      "epoch: 100 loss:0.194765 auc:0.9668\n",
      "epoch: 120 loss:0.192595 auc:0.9665\n",
      "epoch: 140 loss:0.191928 auc:0.9652\n",
      "epoch: 160 loss:0.190173 auc:0.9628\n"
     ]
    },
    {
     "name": "stderr",
     "output_type": "stream",
     "text": [
      " 52%|█████▏    | 477/916 [1:30:33<1:00:27,  8.26s/it]"
     ]
    },
    {
     "name": "stdout",
     "output_type": "stream",
     "text": [
      "epoch: 180 loss:0.188368 auc:0.9516\n",
      "Fit finished.\n",
      "epoch:   0 loss:0.780128 auc:0.6757\n",
      "epoch:  20 loss:0.322030 auc:0.9560\n",
      "epoch:  40 loss:0.238394 auc:0.9608\n",
      "epoch:  60 loss:0.216379 auc:0.9615\n",
      "epoch:  80 loss:0.208511 auc:0.9601\n",
      "epoch: 100 loss:0.202938 auc:0.9604\n",
      "epoch: 120 loss:0.197731 auc:0.9612\n",
      "epoch: 140 loss:0.194505 auc:0.9608\n",
      "epoch: 160 loss:0.192904 auc:0.9601\n",
      "epoch: 180 loss:0.191823 auc:0.9608\n",
      "epoch: 200 loss:0.191312 auc:0.9608\n",
      "epoch: 220 loss:0.190368 auc:0.9619\n",
      "epoch: 240 loss:0.189749 auc:0.9630\n",
      "epoch: 260 loss:0.189027 auc:0.9638\n",
      "epoch: 280 loss:0.188556 auc:0.9660\n",
      "epoch: 300 loss:0.187316 auc:0.9704\n",
      "epoch: 320 loss:0.186291 auc:0.9723\n",
      "epoch: 340 loss:0.185182 auc:0.9749\n",
      "epoch: 360 loss:0.187948 auc:0.9760\n",
      "epoch: 380 loss:0.182263 auc:0.9778\n",
      "epoch: 400 loss:0.180515 auc:0.9763\n",
      "epoch: 420 loss:0.179129 auc:0.9760\n",
      "epoch: 440 loss:0.186828 auc:0.9686\n",
      "epoch: 460 loss:0.176342 auc:0.9712\n"
     ]
    },
    {
     "name": "stderr",
     "output_type": "stream",
     "text": [
      " 52%|█████▏    | 478/916 [1:30:51<1:20:23, 11.01s/it]"
     ]
    },
    {
     "name": "stdout",
     "output_type": "stream",
     "text": [
      "epoch: 480 loss:0.171973 auc:0.9571\n",
      "Fit finished.\n",
      "epoch:   0 loss:0.865314 auc:0.8298\n",
      "epoch:  20 loss:0.319889 auc:0.9640\n",
      "epoch:  40 loss:0.240840 auc:0.9697\n",
      "epoch:  60 loss:0.216169 auc:0.9680\n",
      "epoch:  80 loss:0.207267 auc:0.9665\n",
      "epoch: 100 loss:0.200834 auc:0.9676\n",
      "epoch: 120 loss:0.195923 auc:0.9676\n",
      "epoch: 140 loss:0.193663 auc:0.9676\n",
      "epoch: 160 loss:0.192336 auc:0.9669\n",
      "epoch: 180 loss:0.191343 auc:0.9669\n"
     ]
    },
    {
     "name": "stderr",
     "output_type": "stream",
     "text": [
      " 52%|█████▏    | 479/916 [1:30:58<1:11:47,  9.86s/it]"
     ]
    },
    {
     "name": "stdout",
     "output_type": "stream",
     "text": [
      "epoch: 200 loss:0.190842 auc:0.9672\n",
      "Fit finished.\n",
      "epoch:   0 loss:0.800494 auc:0.5021\n",
      "epoch:  20 loss:0.316082 auc:0.9626\n",
      "epoch:  40 loss:0.238396 auc:0.9626\n",
      "epoch:  60 loss:0.216779 auc:0.9695\n",
      "epoch:  80 loss:0.208361 auc:0.9695\n",
      "epoch: 100 loss:0.201687 auc:0.9695\n",
      "epoch: 120 loss:0.195760 auc:0.9688\n",
      "epoch: 140 loss:0.193304 auc:0.9681\n",
      "epoch: 160 loss:0.191861 auc:0.9675\n",
      "epoch: 180 loss:0.190891 auc:0.9681\n",
      "epoch: 200 loss:0.190231 auc:0.9681\n",
      "epoch: 220 loss:0.189154 auc:0.9695\n",
      "epoch: 240 loss:0.187956 auc:0.9737\n",
      "epoch: 260 loss:0.186825 auc:0.9751\n",
      "epoch: 280 loss:0.186095 auc:0.9744\n",
      "epoch: 300 loss:0.184844 auc:0.9744\n",
      "epoch: 320 loss:0.184727 auc:0.9751\n",
      "epoch: 340 loss:0.181656 auc:0.9744\n",
      "epoch: 360 loss:0.184404 auc:0.9765\n",
      "epoch: 380 loss:0.178723 auc:0.9744\n"
     ]
    },
    {
     "name": "stderr",
     "output_type": "stream",
     "text": [
      " 52%|█████▏    | 480/916 [1:31:13<1:22:45, 11.39s/it]"
     ]
    },
    {
     "name": "stdout",
     "output_type": "stream",
     "text": [
      "epoch: 400 loss:0.176952 auc:0.9695\n",
      "Fit finished.\n",
      "epoch:   0 loss:0.597140 auc:0.3268\n",
      "epoch:  20 loss:0.257620 auc:0.9208\n",
      "epoch:  40 loss:0.217202 auc:0.9226\n",
      "epoch:  60 loss:0.207950 auc:0.9199\n",
      "epoch:  80 loss:0.201606 auc:0.9203\n",
      "epoch: 100 loss:0.195556 auc:0.9212\n",
      "epoch: 120 loss:0.193062 auc:0.9217\n",
      "epoch: 140 loss:0.191189 auc:0.9226\n",
      "epoch: 160 loss:0.191778 auc:0.9262\n",
      "epoch: 180 loss:0.188915 auc:0.9267\n"
     ]
    },
    {
     "name": "stderr",
     "output_type": "stream",
     "text": [
      " 53%|█████▎    | 481/916 [1:31:21<1:15:18, 10.39s/it]"
     ]
    },
    {
     "name": "stdout",
     "output_type": "stream",
     "text": [
      "epoch: 200 loss:0.187515 auc:0.9153\n",
      "Fit finished.\n",
      "epoch:   0 loss:0.660775 auc:0.2220\n",
      "epoch:  20 loss:0.272121 auc:0.9706\n",
      "epoch:  40 loss:0.219365 auc:0.9796\n",
      "epoch:  60 loss:0.207092 auc:0.9820\n",
      "epoch:  80 loss:0.197696 auc:0.9820\n",
      "epoch: 100 loss:0.194244 auc:0.9829\n",
      "epoch: 120 loss:0.192019 auc:0.9829\n",
      "epoch: 140 loss:0.197608 auc:0.9829\n",
      "epoch: 160 loss:0.190202 auc:0.9820\n",
      "epoch: 180 loss:0.188833 auc:0.9837\n",
      "epoch: 200 loss:0.187325 auc:0.9829\n"
     ]
    },
    {
     "name": "stderr",
     "output_type": "stream",
     "text": [
      " 53%|█████▎    | 482/916 [1:31:29<1:11:03,  9.82s/it]"
     ]
    },
    {
     "name": "stdout",
     "output_type": "stream",
     "text": [
      "epoch: 220 loss:0.186565 auc:0.9804\n",
      "Fit finished.\n",
      "epoch:   0 loss:0.810348 auc:0.7268\n",
      "epoch:  20 loss:0.289871 auc:0.9376\n",
      "epoch:  40 loss:0.228166 auc:0.9390\n",
      "epoch:  60 loss:0.214435 auc:0.9405\n",
      "epoch:  80 loss:0.208628 auc:0.9419\n",
      "epoch: 100 loss:0.203753 auc:0.9423\n",
      "epoch: 120 loss:0.198208 auc:0.9423\n",
      "epoch: 140 loss:0.194556 auc:0.9409\n",
      "epoch: 160 loss:0.192797 auc:0.9409\n",
      "epoch: 180 loss:0.191733 auc:0.9414\n",
      "epoch: 200 loss:0.190801 auc:0.9405\n"
     ]
    },
    {
     "name": "stderr",
     "output_type": "stream",
     "text": [
      " 53%|█████▎    | 483/916 [1:31:39<1:09:51,  9.68s/it]"
     ]
    },
    {
     "name": "stdout",
     "output_type": "stream",
     "text": [
      "epoch: 220 loss:0.189962 auc:0.9400\n",
      "Fit finished.\n",
      "epoch:   0 loss:0.695943 auc:0.1912\n",
      "epoch:  20 loss:0.263696 auc:0.9589\n",
      "epoch:  40 loss:0.220434 auc:0.9642\n",
      "epoch:  60 loss:0.210705 auc:0.9668\n",
      "epoch:  80 loss:0.205058 auc:0.9650\n",
      "epoch: 100 loss:0.198377 auc:0.9654\n",
      "epoch: 120 loss:0.194243 auc:0.9652\n",
      "epoch: 140 loss:0.192909 auc:0.9654\n",
      "epoch: 160 loss:0.191053 auc:0.9650\n",
      "epoch: 180 loss:0.192094 auc:0.9631\n"
     ]
    },
    {
     "name": "stderr",
     "output_type": "stream",
     "text": [
      " 53%|█████▎    | 484/916 [1:31:46<1:04:35,  8.97s/it]"
     ]
    },
    {
     "name": "stdout",
     "output_type": "stream",
     "text": [
      "epoch: 200 loss:0.189632 auc:0.9627\n",
      "Fit finished.\n",
      "epoch:   0 loss:0.851630 auc:0.6527\n",
      "epoch:  20 loss:0.332135 auc:0.9359\n",
      "epoch:  40 loss:0.250998 auc:0.9392\n",
      "epoch:  60 loss:0.221547 auc:0.9379\n",
      "epoch:  80 loss:0.212485 auc:0.9366\n",
      "epoch: 100 loss:0.207775 auc:0.9377\n",
      "epoch: 120 loss:0.203658 auc:0.9380\n",
      "epoch: 140 loss:0.199115 auc:0.9382\n",
      "epoch: 160 loss:0.195245 auc:0.9387\n",
      "epoch: 180 loss:0.193404 auc:0.9387\n",
      "epoch: 200 loss:0.192246 auc:0.9397\n",
      "epoch: 220 loss:0.191287 auc:0.9384\n"
     ]
    },
    {
     "name": "stderr",
     "output_type": "stream",
     "text": [
      " 53%|█████▎    | 485/916 [1:31:56<1:06:44,  9.29s/it]"
     ]
    },
    {
     "name": "stdout",
     "output_type": "stream",
     "text": [
      "epoch: 240 loss:0.192642 auc:0.9357\n",
      "Fit finished.\n",
      "epoch:   0 loss:0.628280 auc:0.3102\n",
      "epoch:  20 loss:0.267780 auc:0.9418\n",
      "epoch:  40 loss:0.219966 auc:0.9446\n",
      "epoch:  60 loss:0.208530 auc:0.9501\n",
      "epoch:  80 loss:0.201303 auc:0.9501\n",
      "epoch: 100 loss:0.195662 auc:0.9501\n",
      "epoch: 120 loss:0.193155 auc:0.9501\n",
      "epoch: 140 loss:0.191663 auc:0.9501\n",
      "epoch: 160 loss:0.191076 auc:0.9501\n",
      "epoch: 180 loss:0.190318 auc:0.9446\n"
     ]
    },
    {
     "name": "stderr",
     "output_type": "stream",
     "text": [
      " 53%|█████▎    | 486/916 [1:32:03<1:02:27,  8.71s/it]"
     ]
    },
    {
     "name": "stdout",
     "output_type": "stream",
     "text": [
      "epoch: 200 loss:0.188261 auc:0.9391\n",
      "Fit finished.\n",
      "epoch:   0 loss:0.710199 auc:0.3594\n",
      "epoch:  20 loss:0.308776 auc:0.9305\n",
      "epoch:  40 loss:0.234401 auc:0.9436\n",
      "epoch:  60 loss:0.217811 auc:0.9550\n",
      "epoch:  80 loss:0.210506 auc:0.9576\n",
      "epoch: 100 loss:0.205275 auc:0.9570\n",
      "epoch: 120 loss:0.199491 auc:0.9573\n",
      "epoch: 140 loss:0.194967 auc:0.9573\n",
      "epoch: 160 loss:0.193015 auc:0.9576\n",
      "epoch: 180 loss:0.191764 auc:0.9576\n",
      "epoch: 200 loss:0.191609 auc:0.9570\n",
      "epoch: 220 loss:0.190058 auc:0.9554\n"
     ]
    },
    {
     "name": "stderr",
     "output_type": "stream",
     "text": [
      " 53%|█████▎    | 487/916 [1:32:13<1:04:11,  8.98s/it]"
     ]
    },
    {
     "name": "stdout",
     "output_type": "stream",
     "text": [
      "epoch: 240 loss:0.189402 auc:0.9538\n",
      "Fit finished.\n",
      "epoch:   0 loss:0.562658 auc:0.8340\n",
      "epoch:  20 loss:0.304720 auc:0.9825\n",
      "epoch:  40 loss:0.226917 auc:0.9868\n",
      "epoch:  60 loss:0.212741 auc:0.9861\n",
      "epoch:  80 loss:0.205517 auc:0.9861\n",
      "epoch: 100 loss:0.199625 auc:0.9864\n",
      "epoch: 120 loss:0.195325 auc:0.9864\n",
      "epoch: 140 loss:0.193474 auc:0.9864\n",
      "epoch: 160 loss:0.192374 auc:0.9861\n",
      "epoch: 180 loss:0.191499 auc:0.9861\n"
     ]
    },
    {
     "name": "stderr",
     "output_type": "stream",
     "text": [
      " 53%|█████▎    | 488/916 [1:32:20<1:00:02,  8.42s/it]"
     ]
    },
    {
     "name": "stdout",
     "output_type": "stream",
     "text": [
      "epoch: 200 loss:0.190685 auc:0.9861\n",
      "Fit finished.\n",
      "epoch:   0 loss:0.784642 auc:0.4130\n",
      "epoch:  20 loss:0.292745 auc:0.9595\n",
      "epoch:  40 loss:0.227837 auc:0.9624\n",
      "epoch:  60 loss:0.213703 auc:0.9606\n",
      "epoch:  80 loss:0.208243 auc:0.9626\n",
      "epoch: 100 loss:0.203551 auc:0.9615\n",
      "epoch: 120 loss:0.198036 auc:0.9612\n",
      "epoch: 140 loss:0.194144 auc:0.9617\n",
      "epoch: 160 loss:0.192744 auc:0.9610\n",
      "epoch: 180 loss:0.191466 auc:0.9601\n"
     ]
    },
    {
     "name": "stderr",
     "output_type": "stream",
     "text": [
      " 53%|█████▎    | 489/916 [1:32:27<56:47,  7.98s/it]  "
     ]
    },
    {
     "name": "stdout",
     "output_type": "stream",
     "text": [
      "epoch: 200 loss:0.190900 auc:0.9610\n",
      "Fit finished.\n",
      "epoch:   0 loss:0.841674 auc:0.5851\n",
      "epoch:  20 loss:0.315920 auc:0.9231\n",
      "epoch:  40 loss:0.232907 auc:0.9236\n",
      "epoch:  60 loss:0.215698 auc:0.9281\n",
      "epoch:  80 loss:0.209279 auc:0.9281\n",
      "epoch: 100 loss:0.204817 auc:0.9284\n",
      "epoch: 120 loss:0.199822 auc:0.9287\n",
      "epoch: 140 loss:0.195281 auc:0.9296\n",
      "epoch: 160 loss:0.193083 auc:0.9300\n",
      "epoch: 180 loss:0.191845 auc:0.9287\n",
      "epoch: 200 loss:0.192395 auc:0.9249\n"
     ]
    },
    {
     "name": "stderr",
     "output_type": "stream",
     "text": [
      " 53%|█████▎    | 490/916 [1:32:36<58:20,  8.22s/it]"
     ]
    },
    {
     "name": "stdout",
     "output_type": "stream",
     "text": [
      "epoch: 220 loss:0.190366 auc:0.9223\n",
      "Fit finished.\n",
      "epoch:   0 loss:0.514261 auc:0.6101\n",
      "epoch:  20 loss:0.264262 auc:0.9211\n",
      "epoch:  40 loss:0.221707 auc:0.9169\n",
      "epoch:  60 loss:0.211758 auc:0.9148\n",
      "epoch:  80 loss:0.206844 auc:0.9141\n",
      "epoch: 100 loss:0.201704 auc:0.9148\n",
      "epoch: 120 loss:0.196243 auc:0.9134\n",
      "epoch: 140 loss:0.193455 auc:0.9114\n",
      "epoch: 160 loss:0.191883 auc:0.9107\n"
     ]
    },
    {
     "name": "stderr",
     "output_type": "stream",
     "text": [
      " 54%|█████▎    | 491/916 [1:32:42<54:50,  7.74s/it]"
     ]
    },
    {
     "name": "stdout",
     "output_type": "stream",
     "text": [
      "epoch: 180 loss:0.190577 auc:0.9051\n",
      "Fit finished.\n",
      "epoch:   0 loss:0.577898 auc:0.2873\n",
      "epoch:  20 loss:0.247314 auc:0.9696\n",
      "epoch:  40 loss:0.214746 auc:0.9740\n",
      "epoch:  60 loss:0.206272 auc:0.9736\n",
      "epoch:  80 loss:0.199585 auc:0.9745\n",
      "epoch: 100 loss:0.194899 auc:0.9748\n",
      "epoch: 120 loss:0.192643 auc:0.9734\n",
      "epoch: 140 loss:0.190944 auc:0.9712\n",
      "epoch: 160 loss:0.189814 auc:0.9695\n"
     ]
    },
    {
     "name": "stderr",
     "output_type": "stream",
     "text": [
      " 54%|█████▎    | 492/916 [1:32:49<52:26,  7.42s/it]"
     ]
    },
    {
     "name": "stdout",
     "output_type": "stream",
     "text": [
      "epoch: 180 loss:0.188287 auc:0.9614\n",
      "Fit finished.\n",
      "epoch:   0 loss:1.040394 auc:0.5038\n",
      "epoch:  20 loss:0.339076 auc:0.9618\n",
      "epoch:  40 loss:0.267794 auc:0.9613\n",
      "epoch:  60 loss:0.227198 auc:0.9580\n",
      "epoch:  80 loss:0.214717 auc:0.9538\n",
      "epoch: 100 loss:0.208850 auc:0.9534\n",
      "epoch: 120 loss:0.203530 auc:0.9551\n",
      "epoch: 140 loss:0.197692 auc:0.9558\n",
      "epoch: 160 loss:0.193945 auc:0.9571\n"
     ]
    },
    {
     "name": "stderr",
     "output_type": "stream",
     "text": [
      " 54%|█████▍    | 493/916 [1:32:56<50:35,  7.18s/it]"
     ]
    },
    {
     "name": "stdout",
     "output_type": "stream",
     "text": [
      "epoch: 180 loss:0.192194 auc:0.9573\n",
      "Fit finished.\n",
      "epoch:   0 loss:0.623262 auc:0.3908\n",
      "epoch:  20 loss:0.293067 auc:0.9383\n",
      "epoch:  40 loss:0.228497 auc:0.9404\n",
      "epoch:  60 loss:0.212674 auc:0.9395\n",
      "epoch:  80 loss:0.205941 auc:0.9393\n",
      "epoch: 100 loss:0.199879 auc:0.9384\n",
      "epoch: 120 loss:0.194625 auc:0.9383\n",
      "epoch: 140 loss:0.192574 auc:0.9392\n",
      "epoch: 160 loss:0.191702 auc:0.9381\n"
     ]
    },
    {
     "name": "stderr",
     "output_type": "stream",
     "text": [
      " 54%|█████▍    | 494/916 [1:33:02<48:59,  6.97s/it]"
     ]
    },
    {
     "name": "stdout",
     "output_type": "stream",
     "text": [
      "epoch: 180 loss:0.190709 auc:0.9346\n",
      "Fit finished.\n",
      "epoch:   0 loss:0.773701 auc:0.3361\n",
      "epoch:  20 loss:0.318569 auc:0.9634\n",
      "epoch:  40 loss:0.234409 auc:0.9660\n",
      "epoch:  60 loss:0.216634 auc:0.9684\n",
      "epoch:  80 loss:0.208969 auc:0.9698\n",
      "epoch: 100 loss:0.203770 auc:0.9706\n",
      "epoch: 120 loss:0.198102 auc:0.9701\n",
      "epoch: 140 loss:0.194567 auc:0.9702\n",
      "epoch: 160 loss:0.192929 auc:0.9701\n",
      "epoch: 180 loss:0.191764 auc:0.9693\n",
      "epoch: 200 loss:0.192924 auc:0.9689\n"
     ]
    },
    {
     "name": "stderr",
     "output_type": "stream",
     "text": [
      " 54%|█████▍    | 495/916 [1:33:11<53:05,  7.57s/it]"
     ]
    },
    {
     "name": "stdout",
     "output_type": "stream",
     "text": [
      "epoch: 220 loss:0.190627 auc:0.9665\n",
      "Fit finished.\n",
      "epoch:   0 loss:0.644428 auc:0.5480\n",
      "epoch:  20 loss:0.268265 auc:0.9300\n",
      "epoch:  40 loss:0.221694 auc:0.9314\n",
      "epoch:  60 loss:0.210301 auc:0.9340\n",
      "epoch:  80 loss:0.204686 auc:0.9336\n",
      "epoch: 100 loss:0.198800 auc:0.9333\n",
      "epoch: 120 loss:0.194688 auc:0.9340\n",
      "epoch: 140 loss:0.192755 auc:0.9348\n",
      "epoch: 160 loss:0.191547 auc:0.9335\n",
      "epoch: 180 loss:0.190465 auc:0.9315\n"
     ]
    },
    {
     "name": "stderr",
     "output_type": "stream",
     "text": [
      " 54%|█████▍    | 496/916 [1:33:18<52:39,  7.52s/it]"
     ]
    },
    {
     "name": "stdout",
     "output_type": "stream",
     "text": [
      "epoch: 200 loss:0.189362 auc:0.9288\n",
      "Fit finished.\n",
      "epoch:   0 loss:1.188667 auc:0.6169\n",
      "epoch:  20 loss:0.330453 auc:0.9527\n",
      "epoch:  40 loss:0.256000 auc:0.9663\n",
      "epoch:  60 loss:0.225047 auc:0.9722\n",
      "epoch:  80 loss:0.213811 auc:0.9736\n",
      "epoch: 100 loss:0.208146 auc:0.9736\n",
      "epoch: 120 loss:0.203378 auc:0.9732\n",
      "epoch: 140 loss:0.198417 auc:0.9729\n",
      "epoch: 160 loss:0.194805 auc:0.9732\n",
      "epoch: 180 loss:0.193191 auc:0.9729\n",
      "epoch: 200 loss:0.192211 auc:0.9726\n",
      "epoch: 220 loss:0.191437 auc:0.9729\n"
     ]
    },
    {
     "name": "stderr",
     "output_type": "stream",
     "text": [
      " 54%|█████▍    | 497/916 [1:33:28<55:51,  8.00s/it]"
     ]
    },
    {
     "name": "stdout",
     "output_type": "stream",
     "text": [
      "epoch: 240 loss:0.190799 auc:0.9729\n",
      "Fit finished.\n",
      "epoch:   0 loss:0.691549 auc:0.3321\n",
      "epoch:  20 loss:0.238306 auc:0.9811\n",
      "epoch:  40 loss:0.216607 auc:0.9811\n",
      "epoch:  60 loss:0.209658 auc:0.9852\n",
      "epoch:  80 loss:0.204321 auc:0.9852\n",
      "epoch: 100 loss:0.197816 auc:0.9848\n",
      "epoch: 120 loss:0.194394 auc:0.9848\n",
      "epoch: 140 loss:0.192419 auc:0.9848\n",
      "epoch: 160 loss:0.192200 auc:0.9841\n",
      "epoch: 180 loss:0.190165 auc:0.9822\n"
     ]
    },
    {
     "name": "stderr",
     "output_type": "stream",
     "text": [
      " 54%|█████▍    | 498/916 [1:33:35<53:30,  7.68s/it]"
     ]
    },
    {
     "name": "stdout",
     "output_type": "stream",
     "text": [
      "epoch: 200 loss:0.189125 auc:0.9771\n",
      "Fit finished.\n",
      "epoch:   0 loss:0.870549 auc:0.4393\n",
      "epoch:  20 loss:0.317360 auc:0.9630\n",
      "epoch:  40 loss:0.237873 auc:0.9744\n",
      "epoch:  60 loss:0.216424 auc:0.9769\n",
      "epoch:  80 loss:0.208588 auc:0.9776\n",
      "epoch: 100 loss:0.203484 auc:0.9779\n",
      "epoch: 120 loss:0.197921 auc:0.9779\n",
      "epoch: 140 loss:0.194480 auc:0.9779\n",
      "epoch: 160 loss:0.192859 auc:0.9779\n",
      "epoch: 180 loss:0.191755 auc:0.9779\n",
      "epoch: 200 loss:0.190872 auc:0.9783\n",
      "epoch: 220 loss:0.190025 auc:0.9779\n",
      "epoch: 240 loss:0.193895 auc:0.9779\n"
     ]
    },
    {
     "name": "stderr",
     "output_type": "stream",
     "text": [
      " 54%|█████▍    | 499/916 [1:33:45<59:03,  8.50s/it]"
     ]
    },
    {
     "name": "stdout",
     "output_type": "stream",
     "text": [
      "epoch: 260 loss:0.189270 auc:0.9776\n",
      "Fit finished.\n",
      "epoch:   0 loss:0.503890 auc:0.5913\n",
      "epoch:  20 loss:0.286007 auc:0.9938\n",
      "epoch:  40 loss:0.227222 auc:0.9906\n",
      "epoch:  60 loss:0.211215 auc:0.9906\n",
      "epoch:  80 loss:0.204404 auc:0.9900\n",
      "epoch: 100 loss:0.198445 auc:0.9906\n",
      "epoch: 120 loss:0.194864 auc:0.9900\n",
      "epoch: 140 loss:0.192977 auc:0.9900\n",
      "epoch: 160 loss:0.191688 auc:0.9900\n"
     ]
    },
    {
     "name": "stderr",
     "output_type": "stream",
     "text": [
      " 55%|█████▍    | 500/916 [1:33:52<55:17,  7.98s/it]"
     ]
    },
    {
     "name": "stdout",
     "output_type": "stream",
     "text": [
      "epoch: 180 loss:0.190523 auc:0.9894\n",
      "Fit finished.\n",
      "epoch:   0 loss:0.978773 auc:0.3126\n",
      "epoch:  20 loss:0.310145 auc:0.9569\n",
      "epoch:  40 loss:0.229108 auc:0.9569\n",
      "epoch:  60 loss:0.215710 auc:0.9566\n",
      "epoch:  80 loss:0.209262 auc:0.9558\n",
      "epoch: 100 loss:0.203673 auc:0.9554\n",
      "epoch: 120 loss:0.196631 auc:0.9558\n",
      "epoch: 140 loss:0.195406 auc:0.9562\n",
      "epoch: 160 loss:0.192350 auc:0.9566\n",
      "epoch: 180 loss:0.191312 auc:0.9573\n",
      "epoch: 200 loss:0.190724 auc:0.9573\n",
      "epoch: 220 loss:0.190228 auc:0.9566\n",
      "epoch: 240 loss:0.189235 auc:0.9573\n",
      "epoch: 260 loss:0.189153 auc:0.9566\n",
      "epoch: 280 loss:0.189021 auc:0.9573\n",
      "epoch: 300 loss:0.187004 auc:0.9581\n"
     ]
    },
    {
     "name": "stderr",
     "output_type": "stream",
     "text": [
      " 55%|█████▍    | 501/916 [1:34:04<1:04:10,  9.28s/it]"
     ]
    },
    {
     "name": "stdout",
     "output_type": "stream",
     "text": [
      "epoch: 320 loss:0.186280 auc:0.9516\n",
      "Fit finished.\n",
      "epoch:   0 loss:0.640377 auc:0.6989\n",
      "epoch:  20 loss:0.279090 auc:0.9453\n",
      "epoch:  40 loss:0.221289 auc:0.9445\n",
      "epoch:  60 loss:0.210018 auc:0.9440\n",
      "epoch:  80 loss:0.203537 auc:0.9448\n",
      "epoch: 100 loss:0.197106 auc:0.9451\n",
      "epoch: 120 loss:0.193779 auc:0.9462\n",
      "epoch: 140 loss:0.192024 auc:0.9454\n",
      "epoch: 160 loss:0.192274 auc:0.9445\n"
     ]
    },
    {
     "name": "stderr",
     "output_type": "stream",
     "text": [
      " 55%|█████▍    | 502/916 [1:34:10<57:05,  8.27s/it]  "
     ]
    },
    {
     "name": "stdout",
     "output_type": "stream",
     "text": [
      "epoch: 180 loss:0.189720 auc:0.9424\n",
      "Fit finished.\n",
      "epoch:   0 loss:0.593560 auc:0.7405\n",
      "epoch:  20 loss:0.314042 auc:0.9370\n",
      "epoch:  40 loss:0.230018 auc:0.9386\n",
      "epoch:  60 loss:0.212636 auc:0.9480\n",
      "epoch:  80 loss:0.204938 auc:0.9478\n",
      "epoch: 100 loss:0.198469 auc:0.9469\n",
      "epoch: 120 loss:0.194389 auc:0.9467\n",
      "epoch: 140 loss:0.192601 auc:0.9470\n",
      "epoch: 160 loss:0.192296 auc:0.9473\n",
      "epoch: 180 loss:0.190595 auc:0.9477\n",
      "epoch: 200 loss:0.189729 auc:0.9477\n",
      "epoch: 220 loss:0.188698 auc:0.9489\n",
      "epoch: 240 loss:0.188204 auc:0.9503\n",
      "epoch: 260 loss:0.186605 auc:0.9473\n"
     ]
    },
    {
     "name": "stderr",
     "output_type": "stream",
     "text": [
      " 55%|█████▍    | 503/916 [1:34:20<59:48,  8.69s/it]"
     ]
    },
    {
     "name": "stdout",
     "output_type": "stream",
     "text": [
      "epoch: 280 loss:0.186532 auc:0.9448\n",
      "Fit finished.\n",
      "epoch:   0 loss:0.747736 auc:0.7049\n",
      "epoch:  20 loss:0.330821 auc:0.9689\n",
      "epoch:  40 loss:0.245521 auc:0.9769\n",
      "epoch:  60 loss:0.218234 auc:0.9809\n",
      "epoch:  80 loss:0.209705 auc:0.9803\n",
      "epoch: 100 loss:0.204041 auc:0.9811\n",
      "epoch: 120 loss:0.198043 auc:0.9813\n",
      "epoch: 140 loss:0.194306 auc:0.9811\n",
      "epoch: 160 loss:0.192690 auc:0.9813\n",
      "epoch: 180 loss:0.191647 auc:0.9815\n",
      "epoch: 200 loss:0.191079 auc:0.9815\n",
      "epoch: 220 loss:0.190152 auc:0.9817\n",
      "epoch: 240 loss:0.190512 auc:0.9826\n",
      "epoch: 260 loss:0.188552 auc:0.9828\n",
      "epoch: 280 loss:0.188429 auc:0.9832\n",
      "epoch: 300 loss:0.186522 auc:0.9813\n"
     ]
    },
    {
     "name": "stderr",
     "output_type": "stream",
     "text": [
      " 55%|█████▌    | 504/916 [1:34:31<1:04:36,  9.41s/it]"
     ]
    },
    {
     "name": "stdout",
     "output_type": "stream",
     "text": [
      "epoch: 320 loss:0.185803 auc:0.9786\n",
      "Fit finished.\n",
      "epoch:   0 loss:0.740526 auc:0.5045\n",
      "epoch:  20 loss:0.302756 auc:0.9431\n",
      "epoch:  40 loss:0.228851 auc:0.9539\n",
      "epoch:  60 loss:0.214211 auc:0.9546\n",
      "epoch:  80 loss:0.209022 auc:0.9552\n",
      "epoch: 100 loss:0.204862 auc:0.9546\n",
      "epoch: 120 loss:0.199967 auc:0.9548\n",
      "epoch: 140 loss:0.195492 auc:0.9542\n",
      "epoch: 160 loss:0.193378 auc:0.9529\n",
      "epoch: 180 loss:0.192182 auc:0.9535\n",
      "epoch: 200 loss:0.191303 auc:0.9539\n"
     ]
    },
    {
     "name": "stderr",
     "output_type": "stream",
     "text": [
      " 55%|█████▌    | 505/916 [1:34:40<1:03:53,  9.33s/it]"
     ]
    },
    {
     "name": "stdout",
     "output_type": "stream",
     "text": [
      "epoch: 220 loss:0.190723 auc:0.9537\n",
      "Fit finished.\n",
      "epoch:   0 loss:0.653235 auc:0.6601\n",
      "epoch:  20 loss:0.265151 auc:0.9507\n",
      "epoch:  40 loss:0.219063 auc:0.9579\n",
      "epoch:  60 loss:0.208723 auc:0.9586\n",
      "epoch:  80 loss:0.201709 auc:0.9592\n",
      "epoch: 100 loss:0.195671 auc:0.9599\n",
      "epoch: 120 loss:0.193149 auc:0.9606\n",
      "epoch: 140 loss:0.193450 auc:0.9599\n",
      "epoch: 160 loss:0.190559 auc:0.9586\n",
      "epoch: 180 loss:0.189335 auc:0.9592\n",
      "epoch: 200 loss:0.189354 auc:0.9592\n",
      "epoch: 220 loss:0.188004 auc:0.9632\n",
      "epoch: 240 loss:0.186183 auc:0.9632\n",
      "epoch: 260 loss:0.184001 auc:0.9606\n"
     ]
    },
    {
     "name": "stderr",
     "output_type": "stream",
     "text": [
      " 55%|█████▌    | 506/916 [1:34:50<1:04:58,  9.51s/it]"
     ]
    },
    {
     "name": "stdout",
     "output_type": "stream",
     "text": [
      "epoch: 280 loss:0.181701 auc:0.9592\n",
      "Fit finished.\n",
      "epoch:   0 loss:0.614969 auc:0.2840\n",
      "epoch:  20 loss:0.244248 auc:0.9390\n",
      "epoch:  40 loss:0.214154 auc:0.9428\n",
      "epoch:  60 loss:0.205903 auc:0.9447\n",
      "epoch:  80 loss:0.197719 auc:0.9457\n",
      "epoch: 100 loss:0.193596 auc:0.9452\n",
      "epoch: 120 loss:0.193784 auc:0.9447\n",
      "epoch: 140 loss:0.191092 auc:0.9423\n",
      "epoch: 160 loss:0.189976 auc:0.9390\n"
     ]
    },
    {
     "name": "stderr",
     "output_type": "stream",
     "text": [
      " 55%|█████▌    | 507/916 [1:34:58<1:02:08,  9.12s/it]"
     ]
    },
    {
     "name": "stdout",
     "output_type": "stream",
     "text": [
      "epoch: 180 loss:0.187872 auc:0.9258\n",
      "Fit finished.\n",
      "epoch:   0 loss:0.740568 auc:0.2744\n",
      "epoch:  20 loss:0.281535 auc:0.9341\n",
      "epoch:  40 loss:0.224746 auc:0.9399\n",
      "epoch:  60 loss:0.211300 auc:0.9421\n",
      "epoch:  80 loss:0.205341 auc:0.9417\n",
      "epoch: 100 loss:0.199566 auc:0.9417\n",
      "epoch: 120 loss:0.194999 auc:0.9419\n",
      "epoch: 140 loss:0.192902 auc:0.9416\n",
      "epoch: 160 loss:0.191551 auc:0.9387\n",
      "epoch: 180 loss:0.190664 auc:0.9360\n"
     ]
    },
    {
     "name": "stderr",
     "output_type": "stream",
     "text": [
      " 55%|█████▌    | 508/916 [1:35:05<57:36,  8.47s/it]  "
     ]
    },
    {
     "name": "stdout",
     "output_type": "stream",
     "text": [
      "epoch: 200 loss:0.189521 auc:0.9322\n",
      "Fit finished.\n",
      "epoch:   0 loss:0.711097 auc:0.2446\n",
      "epoch:  20 loss:0.267672 auc:0.9671\n",
      "epoch:  40 loss:0.221186 auc:0.9710\n",
      "epoch:  60 loss:0.210949 auc:0.9708\n",
      "epoch:  80 loss:0.205283 auc:0.9701\n",
      "epoch: 100 loss:0.198675 auc:0.9716\n",
      "epoch: 120 loss:0.194596 auc:0.9712\n",
      "epoch: 140 loss:0.192534 auc:0.9708\n",
      "epoch: 160 loss:0.193773 auc:0.9668\n"
     ]
    },
    {
     "name": "stderr",
     "output_type": "stream",
     "text": [
      " 56%|█████▌    | 509/916 [1:35:12<53:58,  7.96s/it]"
     ]
    },
    {
     "name": "stdout",
     "output_type": "stream",
     "text": [
      "epoch: 180 loss:0.190301 auc:0.9632\n",
      "Fit finished.\n",
      "epoch:   0 loss:0.513162 auc:0.8021\n",
      "epoch:  20 loss:0.301060 auc:0.9359\n",
      "epoch:  40 loss:0.229398 auc:0.9366\n",
      "epoch:  60 loss:0.211355 auc:0.9335\n",
      "epoch:  80 loss:0.202822 auc:0.9369\n",
      "epoch: 100 loss:0.195775 auc:0.9345\n",
      "epoch: 120 loss:0.193100 auc:0.9335\n",
      "epoch: 140 loss:0.191653 auc:0.9342\n",
      "epoch: 160 loss:0.190649 auc:0.9324\n"
     ]
    },
    {
     "name": "stderr",
     "output_type": "stream",
     "text": [
      " 56%|█████▌    | 510/916 [1:35:19<51:40,  7.64s/it]"
     ]
    },
    {
     "name": "stdout",
     "output_type": "stream",
     "text": [
      "epoch: 180 loss:0.189944 auc:0.9304\n",
      "Fit finished.\n",
      "epoch:   0 loss:0.711101 auc:0.6513\n",
      "epoch:  20 loss:0.334107 auc:0.9118\n",
      "epoch:  40 loss:0.250563 auc:0.9227\n",
      "epoch:  60 loss:0.220515 auc:0.9315\n",
      "epoch:  80 loss:0.209644 auc:0.9332\n",
      "epoch: 100 loss:0.203593 auc:0.9342\n",
      "epoch: 120 loss:0.197840 auc:0.9355\n",
      "epoch: 140 loss:0.194276 auc:0.9375\n",
      "epoch: 160 loss:0.192777 auc:0.9388\n",
      "epoch: 180 loss:0.191807 auc:0.9390\n",
      "epoch: 200 loss:0.191059 auc:0.9378\n",
      "epoch: 220 loss:0.191470 auc:0.9375\n",
      "epoch: 240 loss:0.190095 auc:0.9375\n",
      "epoch: 260 loss:0.189571 auc:0.9373\n",
      "epoch: 280 loss:0.189857 auc:0.9375\n"
     ]
    },
    {
     "name": "stderr",
     "output_type": "stream",
     "text": [
      " 56%|█████▌    | 511/916 [1:35:30<58:33,  8.68s/it]"
     ]
    },
    {
     "name": "stdout",
     "output_type": "stream",
     "text": [
      "epoch: 300 loss:0.188528 auc:0.9370\n",
      "Fit finished.\n",
      "epoch:   0 loss:0.666548 auc:0.4069\n",
      "epoch:  20 loss:0.276014 auc:0.9331\n",
      "epoch:  40 loss:0.223436 auc:0.9274\n",
      "epoch:  60 loss:0.211451 auc:0.9285\n",
      "epoch:  80 loss:0.205065 auc:0.9312\n",
      "epoch: 100 loss:0.198508 auc:0.9312\n",
      "epoch: 120 loss:0.194347 auc:0.9291\n",
      "epoch: 140 loss:0.192400 auc:0.9282\n",
      "epoch: 160 loss:0.191175 auc:0.9266\n"
     ]
    },
    {
     "name": "stderr",
     "output_type": "stream",
     "text": [
      " 56%|█████▌    | 512/916 [1:35:38<57:12,  8.50s/it]"
     ]
    },
    {
     "name": "stdout",
     "output_type": "stream",
     "text": [
      "epoch: 180 loss:0.190281 auc:0.9280\n",
      "Fit finished.\n",
      "epoch:   0 loss:1.555804 auc:0.8430\n",
      "epoch:  20 loss:0.283399 auc:0.9415\n",
      "epoch:  40 loss:0.227093 auc:0.9491\n",
      "epoch:  60 loss:0.214375 auc:0.9499\n",
      "epoch:  80 loss:0.209329 auc:0.9529\n",
      "epoch: 100 loss:0.204973 auc:0.9521\n",
      "epoch: 120 loss:0.199446 auc:0.9524\n",
      "epoch: 140 loss:0.194827 auc:0.9514\n",
      "epoch: 160 loss:0.193069 auc:0.9516\n",
      "epoch: 180 loss:0.191705 auc:0.9516\n",
      "epoch: 200 loss:0.191173 auc:0.9509\n",
      "epoch: 220 loss:0.190812 auc:0.9501\n"
     ]
    },
    {
     "name": "stderr",
     "output_type": "stream",
     "text": [
      " 56%|█████▌    | 513/916 [1:35:47<57:51,  8.61s/it]"
     ]
    },
    {
     "name": "stdout",
     "output_type": "stream",
     "text": [
      "epoch: 240 loss:0.189901 auc:0.9491\n",
      "Fit finished.\n",
      "epoch:   0 loss:0.656801 auc:0.2830\n",
      "epoch:  20 loss:0.248337 auc:0.9700\n",
      "epoch:  40 loss:0.220259 auc:0.9775\n",
      "epoch:  60 loss:0.210894 auc:0.9771\n",
      "epoch:  80 loss:0.205062 auc:0.9771\n",
      "epoch: 100 loss:0.198301 auc:0.9773\n",
      "epoch: 120 loss:0.194669 auc:0.9775\n",
      "epoch: 140 loss:0.192962 auc:0.9768\n",
      "epoch: 160 loss:0.191371 auc:0.9775\n",
      "epoch: 180 loss:0.193286 auc:0.9778\n",
      "epoch: 200 loss:0.190115 auc:0.9775\n"
     ]
    },
    {
     "name": "stderr",
     "output_type": "stream",
     "text": [
      " 56%|█████▌    | 514/916 [1:35:55<56:55,  8.50s/it]"
     ]
    },
    {
     "name": "stdout",
     "output_type": "stream",
     "text": [
      "epoch: 220 loss:0.189192 auc:0.9727\n",
      "Fit finished.\n",
      "epoch:   0 loss:0.878560 auc:0.7581\n",
      "epoch:  20 loss:0.313978 auc:0.9288\n",
      "epoch:  40 loss:0.237296 auc:0.9334\n",
      "epoch:  60 loss:0.217313 auc:0.9389\n",
      "epoch:  80 loss:0.209965 auc:0.9408\n",
      "epoch: 100 loss:0.205167 auc:0.9383\n",
      "epoch: 120 loss:0.199962 auc:0.9392\n",
      "epoch: 140 loss:0.195291 auc:0.9390\n",
      "epoch: 160 loss:0.193295 auc:0.9387\n",
      "epoch: 180 loss:0.191988 auc:0.9389\n",
      "epoch: 200 loss:0.190921 auc:0.9390\n"
     ]
    },
    {
     "name": "stderr",
     "output_type": "stream",
     "text": [
      " 56%|█████▌    | 515/916 [1:36:04<57:59,  8.68s/it]"
     ]
    },
    {
     "name": "stdout",
     "output_type": "stream",
     "text": [
      "epoch: 220 loss:0.190568 auc:0.9387\n",
      "Fit finished.\n",
      "epoch:   0 loss:0.697375 auc:0.4313\n",
      "epoch:  20 loss:0.315920 auc:0.8400\n",
      "epoch:  40 loss:0.230532 auc:0.8870\n",
      "epoch:  60 loss:0.214520 auc:0.9048\n",
      "epoch:  80 loss:0.208658 auc:0.9066\n",
      "epoch: 100 loss:0.203967 auc:0.9078\n",
      "epoch: 120 loss:0.198603 auc:0.9072\n",
      "epoch: 140 loss:0.194887 auc:0.9072\n",
      "epoch: 160 loss:0.193172 auc:0.9072\n",
      "epoch: 180 loss:0.191956 auc:0.9054\n",
      "epoch: 200 loss:0.190870 auc:0.9054\n"
     ]
    },
    {
     "name": "stderr",
     "output_type": "stream",
     "text": [
      " 56%|█████▋    | 516/916 [1:36:12<55:36,  8.34s/it]"
     ]
    },
    {
     "name": "stdout",
     "output_type": "stream",
     "text": [
      "epoch: 220 loss:0.189906 auc:0.9024\n",
      "Fit finished.\n",
      "epoch:   0 loss:0.686953 auc:0.4218\n",
      "epoch:  20 loss:0.275299 auc:0.9535\n",
      "epoch:  40 loss:0.225296 auc:0.9548\n",
      "epoch:  60 loss:0.212533 auc:0.9596\n",
      "epoch:  80 loss:0.207308 auc:0.9597\n",
      "epoch: 100 loss:0.202236 auc:0.9598\n",
      "epoch: 120 loss:0.196262 auc:0.9595\n",
      "epoch: 140 loss:0.193411 auc:0.9591\n",
      "epoch: 160 loss:0.191891 auc:0.9570\n",
      "epoch: 180 loss:0.191239 auc:0.9553\n"
     ]
    },
    {
     "name": "stderr",
     "output_type": "stream",
     "text": [
      " 56%|█████▋    | 517/916 [1:36:19<53:37,  8.06s/it]"
     ]
    },
    {
     "name": "stdout",
     "output_type": "stream",
     "text": [
      "epoch: 200 loss:0.190362 auc:0.9520\n",
      "Fit finished.\n",
      "epoch:   0 loss:1.051009 auc:0.8683\n",
      "epoch:  20 loss:0.344735 auc:0.9650\n",
      "epoch:  40 loss:0.262623 auc:0.9708\n",
      "epoch:  60 loss:0.222330 auc:0.9681\n",
      "epoch:  80 loss:0.209458 auc:0.9642\n",
      "epoch: 100 loss:0.201971 auc:0.9639\n",
      "epoch: 120 loss:0.195859 auc:0.9639\n",
      "epoch: 140 loss:0.193356 auc:0.9639\n",
      "epoch: 160 loss:0.192061 auc:0.9639\n"
     ]
    },
    {
     "name": "stderr",
     "output_type": "stream",
     "text": [
      " 57%|█████▋    | 518/916 [1:36:26<51:14,  7.73s/it]"
     ]
    },
    {
     "name": "stdout",
     "output_type": "stream",
     "text": [
      "epoch: 180 loss:0.191117 auc:0.9636\n",
      "Fit finished.\n",
      "epoch:   0 loss:0.747480 auc:0.5717\n",
      "epoch:  20 loss:0.310029 auc:0.9667\n",
      "epoch:  40 loss:0.232091 auc:0.9655\n",
      "epoch:  60 loss:0.217167 auc:0.9595\n",
      "epoch:  80 loss:0.211613 auc:0.9655\n",
      "epoch: 100 loss:0.207807 auc:0.9679\n",
      "epoch: 120 loss:0.203490 auc:0.9679\n",
      "epoch: 140 loss:0.198296 auc:0.9679\n",
      "epoch: 160 loss:0.194512 auc:0.9679\n",
      "epoch: 180 loss:0.192817 auc:0.9679\n",
      "epoch: 200 loss:0.191606 auc:0.9673\n",
      "epoch: 220 loss:0.191654 auc:0.9649\n"
     ]
    },
    {
     "name": "stderr",
     "output_type": "stream",
     "text": [
      " 57%|█████▋    | 519/916 [1:36:35<52:58,  8.01s/it]"
     ]
    },
    {
     "name": "stdout",
     "output_type": "stream",
     "text": [
      "epoch: 240 loss:0.190129 auc:0.9637\n",
      "Fit finished.\n",
      "epoch:   0 loss:0.640835 auc:0.4014\n",
      "epoch:  20 loss:0.287610 auc:0.9682\n",
      "epoch:  40 loss:0.226383 auc:0.9713\n",
      "epoch:  60 loss:0.211517 auc:0.9742\n",
      "epoch:  80 loss:0.204677 auc:0.9761\n",
      "epoch: 100 loss:0.197850 auc:0.9769\n",
      "epoch: 120 loss:0.194089 auc:0.9780\n",
      "epoch: 140 loss:0.192308 auc:0.9785\n",
      "epoch: 160 loss:0.191768 auc:0.9792\n",
      "epoch: 180 loss:0.190027 auc:0.9784\n",
      "epoch: 200 loss:0.189070 auc:0.9780\n"
     ]
    },
    {
     "name": "stderr",
     "output_type": "stream",
     "text": [
      " 57%|█████▋    | 520/916 [1:36:43<54:05,  8.20s/it]"
     ]
    },
    {
     "name": "stdout",
     "output_type": "stream",
     "text": [
      "epoch: 220 loss:0.190955 auc:0.9700\n",
      "Fit finished.\n",
      "epoch:   0 loss:0.783103 auc:0.5273\n",
      "epoch:  20 loss:0.295083 auc:0.9514\n",
      "epoch:  40 loss:0.227341 auc:0.9494\n",
      "epoch:  60 loss:0.212462 auc:0.9484\n",
      "epoch:  80 loss:0.204899 auc:0.9486\n",
      "epoch: 100 loss:0.197266 auc:0.9498\n",
      "epoch: 120 loss:0.194027 auc:0.9486\n",
      "epoch: 140 loss:0.192483 auc:0.9492\n",
      "epoch: 160 loss:0.191381 auc:0.9467\n"
     ]
    },
    {
     "name": "stderr",
     "output_type": "stream",
     "text": [
      " 57%|█████▋    | 521/916 [1:36:50<51:33,  7.83s/it]"
     ]
    },
    {
     "name": "stdout",
     "output_type": "stream",
     "text": [
      "epoch: 180 loss:0.190470 auc:0.9443\n",
      "Fit finished.\n",
      "epoch:   0 loss:0.717640 auc:0.2831\n",
      "epoch:  20 loss:0.283378 auc:0.9855\n",
      "epoch:  40 loss:0.223650 auc:0.9855\n",
      "epoch:  60 loss:0.211602 auc:0.9835\n",
      "epoch:  80 loss:0.204919 auc:0.9835\n",
      "epoch: 100 loss:0.198304 auc:0.9835\n",
      "epoch: 120 loss:0.194609 auc:0.9835\n",
      "epoch: 140 loss:0.192616 auc:0.9835\n",
      "epoch: 160 loss:0.191349 auc:0.9835\n"
     ]
    },
    {
     "name": "stderr",
     "output_type": "stream",
     "text": [
      " 57%|█████▋    | 522/916 [1:36:57<49:45,  7.58s/it]"
     ]
    },
    {
     "name": "stdout",
     "output_type": "stream",
     "text": [
      "epoch: 180 loss:0.190448 auc:0.9835\n",
      "Fit finished.\n",
      "epoch:   0 loss:0.593467 auc:0.6865\n",
      "epoch:  20 loss:0.264573 auc:0.9649\n",
      "epoch:  40 loss:0.218485 auc:0.9641\n",
      "epoch:  60 loss:0.209125 auc:0.9641\n",
      "epoch:  80 loss:0.202426 auc:0.9649\n",
      "epoch: 100 loss:0.195885 auc:0.9641\n",
      "epoch: 120 loss:0.193134 auc:0.9641\n",
      "epoch: 140 loss:0.192077 auc:0.9624\n",
      "epoch: 160 loss:0.190416 auc:0.9600\n"
     ]
    },
    {
     "name": "stderr",
     "output_type": "stream",
     "text": [
      " 57%|█████▋    | 523/916 [1:37:04<48:53,  7.46s/it]"
     ]
    },
    {
     "name": "stdout",
     "output_type": "stream",
     "text": [
      "epoch: 180 loss:0.190244 auc:0.9608\n",
      "Fit finished.\n",
      "epoch:   0 loss:0.924216 auc:0.6513\n",
      "epoch:  20 loss:0.324189 auc:0.9824\n",
      "epoch:  40 loss:0.243292 auc:0.9835\n",
      "epoch:  60 loss:0.219013 auc:0.9861\n",
      "epoch:  80 loss:0.210433 auc:0.9845\n",
      "epoch: 100 loss:0.205600 auc:0.9855\n",
      "epoch: 120 loss:0.200738 auc:0.9861\n",
      "epoch: 140 loss:0.196274 auc:0.9866\n",
      "epoch: 160 loss:0.193800 auc:0.9866\n",
      "epoch: 180 loss:0.192454 auc:0.9861\n",
      "epoch: 200 loss:0.191478 auc:0.9861\n",
      "epoch: 220 loss:0.191176 auc:0.9861\n",
      "epoch: 240 loss:0.190220 auc:0.9866\n",
      "epoch: 260 loss:0.189448 auc:0.9866\n",
      "epoch: 280 loss:0.188533 auc:0.9871\n",
      "epoch: 300 loss:0.189745 auc:0.9871\n"
     ]
    },
    {
     "name": "stderr",
     "output_type": "stream",
     "text": [
      " 57%|█████▋    | 524/916 [1:37:16<56:52,  8.71s/it]"
     ]
    },
    {
     "name": "stdout",
     "output_type": "stream",
     "text": [
      "epoch: 320 loss:0.187450 auc:0.9861\n",
      "Fit finished.\n",
      "epoch:   0 loss:0.840707 auc:0.6918\n",
      "epoch:  20 loss:0.316654 auc:0.9609\n",
      "epoch:  40 loss:0.234525 auc:0.9617\n",
      "epoch:  60 loss:0.217498 auc:0.9645\n",
      "epoch:  80 loss:0.210290 auc:0.9643\n",
      "epoch: 100 loss:0.205195 auc:0.9637\n",
      "epoch: 120 loss:0.199265 auc:0.9641\n",
      "epoch: 140 loss:0.194614 auc:0.9647\n",
      "epoch: 160 loss:0.192711 auc:0.9658\n",
      "epoch: 180 loss:0.191821 auc:0.9652\n",
      "epoch: 200 loss:0.190750 auc:0.9647\n"
     ]
    },
    {
     "name": "stderr",
     "output_type": "stream",
     "text": [
      " 57%|█████▋    | 525/916 [1:37:24<54:44,  8.40s/it]"
     ]
    },
    {
     "name": "stdout",
     "output_type": "stream",
     "text": [
      "epoch: 220 loss:0.189946 auc:0.9637\n",
      "Fit finished.\n",
      "epoch:   0 loss:0.876157 auc:0.3441\n",
      "epoch:  20 loss:0.288004 auc:0.9637\n",
      "epoch:  40 loss:0.226556 auc:0.9699\n",
      "epoch:  60 loss:0.212950 auc:0.9653\n",
      "epoch:  80 loss:0.208015 auc:0.9668\n",
      "epoch: 100 loss:0.203299 auc:0.9645\n",
      "epoch: 120 loss:0.197900 auc:0.9637\n",
      "epoch: 140 loss:0.194425 auc:0.9645\n",
      "epoch: 160 loss:0.192796 auc:0.9645\n",
      "epoch: 180 loss:0.191536 auc:0.9637\n"
     ]
    },
    {
     "name": "stderr",
     "output_type": "stream",
     "text": [
      " 57%|█████▋    | 526/916 [1:37:32<54:35,  8.40s/it]"
     ]
    },
    {
     "name": "stdout",
     "output_type": "stream",
     "text": [
      "epoch: 200 loss:0.194492 auc:0.9614\n",
      "Fit finished.\n",
      "epoch:   0 loss:0.961566 auc:0.2640\n",
      "epoch:  20 loss:0.332412 auc:0.8944\n",
      "epoch:  40 loss:0.251141 auc:0.9200\n",
      "epoch:  60 loss:0.219188 auc:0.9328\n",
      "epoch:  80 loss:0.209624 auc:0.9344\n",
      "epoch: 100 loss:0.203891 auc:0.9344\n",
      "epoch: 120 loss:0.198573 auc:0.9344\n",
      "epoch: 140 loss:0.194807 auc:0.9344\n",
      "epoch: 160 loss:0.193092 auc:0.9344\n",
      "epoch: 180 loss:0.191932 auc:0.9344\n",
      "epoch: 200 loss:0.190969 auc:0.9344\n",
      "epoch: 220 loss:0.190845 auc:0.9328\n"
     ]
    },
    {
     "name": "stderr",
     "output_type": "stream",
     "text": [
      " 58%|█████▊    | 527/916 [1:37:40<53:45,  8.29s/it]"
     ]
    },
    {
     "name": "stdout",
     "output_type": "stream",
     "text": [
      "epoch: 240 loss:0.189484 auc:0.9328\n",
      "Fit finished.\n",
      "epoch:   0 loss:0.807634 auc:0.4647\n",
      "epoch:  20 loss:0.321743 auc:0.9911\n",
      "epoch:  40 loss:0.234650 auc:0.9936\n",
      "epoch:  60 loss:0.216883 auc:0.9939\n",
      "epoch:  80 loss:0.209579 auc:0.9936\n",
      "epoch: 100 loss:0.205110 auc:0.9950\n",
      "epoch: 120 loss:0.200647 auc:0.9950\n",
      "epoch: 140 loss:0.196489 auc:0.9944\n",
      "epoch: 160 loss:0.194097 auc:0.9947\n",
      "epoch: 180 loss:0.192779 auc:0.9944\n",
      "epoch: 200 loss:0.191809 auc:0.9947\n",
      "epoch: 220 loss:0.190960 auc:0.9947\n",
      "epoch: 240 loss:0.192690 auc:0.9950\n"
     ]
    },
    {
     "name": "stderr",
     "output_type": "stream",
     "text": [
      " 58%|█████▊    | 528/916 [1:37:49<55:04,  8.52s/it]"
     ]
    },
    {
     "name": "stdout",
     "output_type": "stream",
     "text": [
      "epoch: 260 loss:0.189987 auc:0.9939\n",
      "Fit finished.\n",
      "epoch:   0 loss:0.862591 auc:0.7197\n",
      "epoch:  20 loss:0.307538 auc:0.9654\n",
      "epoch:  40 loss:0.235088 auc:0.9673\n",
      "epoch:  60 loss:0.214016 auc:0.9666\n",
      "epoch:  80 loss:0.205574 auc:0.9673\n",
      "epoch: 100 loss:0.199222 auc:0.9681\n",
      "epoch: 120 loss:0.194965 auc:0.9681\n",
      "epoch: 140 loss:0.193141 auc:0.9681\n",
      "epoch: 160 loss:0.191973 auc:0.9689\n",
      "epoch: 180 loss:0.191475 auc:0.9692\n",
      "epoch: 200 loss:0.190643 auc:0.9704\n",
      "epoch: 220 loss:0.189668 auc:0.9708\n",
      "epoch: 240 loss:0.189473 auc:0.9712\n",
      "epoch: 260 loss:0.188594 auc:0.9715\n",
      "epoch: 280 loss:0.187619 auc:0.9723\n",
      "epoch: 300 loss:0.193302 auc:0.9746\n",
      "epoch: 320 loss:0.185189 auc:0.9750\n",
      "epoch: 340 loss:0.183721 auc:0.9742\n",
      "epoch: 360 loss:0.183353 auc:0.9765\n",
      "epoch: 380 loss:0.181246 auc:0.9758\n",
      "epoch: 400 loss:0.186168 auc:0.9750\n",
      "epoch: 420 loss:0.176793 auc:0.9758\n",
      "epoch: 440 loss:0.176567 auc:0.9723\n",
      "epoch: 460 loss:0.173148 auc:0.9754\n"
     ]
    },
    {
     "name": "stderr",
     "output_type": "stream",
     "text": [
      " 58%|█████▊    | 529/916 [1:38:06<1:11:25, 11.07s/it]"
     ]
    },
    {
     "name": "stdout",
     "output_type": "stream",
     "text": [
      "epoch: 480 loss:0.171058 auc:0.9742\n",
      "Fit finished.\n",
      "epoch:   0 loss:0.785995 auc:0.4993\n",
      "epoch:  20 loss:0.304228 auc:0.9106\n",
      "epoch:  40 loss:0.229023 auc:0.9254\n",
      "epoch:  60 loss:0.213140 auc:0.9314\n",
      "epoch:  80 loss:0.207668 auc:0.9319\n",
      "epoch: 100 loss:0.202337 auc:0.9323\n",
      "epoch: 120 loss:0.195787 auc:0.9314\n",
      "epoch: 140 loss:0.193256 auc:0.9333\n",
      "epoch: 160 loss:0.191665 auc:0.9314\n",
      "epoch: 180 loss:0.190514 auc:0.9289\n",
      "epoch: 200 loss:0.190838 auc:0.9274\n"
     ]
    },
    {
     "name": "stderr",
     "output_type": "stream",
     "text": [
      " 58%|█████▊    | 530/916 [1:38:13<1:02:54,  9.78s/it]"
     ]
    },
    {
     "name": "stdout",
     "output_type": "stream",
     "text": [
      "epoch: 220 loss:0.189743 auc:0.9225\n",
      "Fit finished.\n",
      "epoch:   0 loss:0.759622 auc:0.4093\n",
      "epoch:  20 loss:0.318054 auc:0.9564\n",
      "epoch:  40 loss:0.238535 auc:0.9591\n",
      "epoch:  60 loss:0.216675 auc:0.9668\n",
      "epoch:  80 loss:0.208796 auc:0.9675\n",
      "epoch: 100 loss:0.204050 auc:0.9675\n",
      "epoch: 120 loss:0.199160 auc:0.9681\n",
      "epoch: 140 loss:0.194977 auc:0.9681\n",
      "epoch: 160 loss:0.193121 auc:0.9675\n",
      "epoch: 180 loss:0.191920 auc:0.9675\n",
      "epoch: 200 loss:0.192942 auc:0.9668\n",
      "epoch: 220 loss:0.190459 auc:0.9675\n"
     ]
    },
    {
     "name": "stderr",
     "output_type": "stream",
     "text": [
      " 58%|█████▊    | 531/916 [1:38:22<1:01:37,  9.60s/it]"
     ]
    },
    {
     "name": "stdout",
     "output_type": "stream",
     "text": [
      "epoch: 240 loss:0.189538 auc:0.9668\n",
      "Fit finished.\n",
      "epoch:   0 loss:0.877202 auc:0.6698\n",
      "epoch:  20 loss:0.315603 auc:0.9101\n",
      "epoch:  40 loss:0.235087 auc:0.9289\n",
      "epoch:  60 loss:0.214463 auc:0.9372\n",
      "epoch:  80 loss:0.205695 auc:0.9382\n",
      "epoch: 100 loss:0.199079 auc:0.9392\n",
      "epoch: 120 loss:0.195213 auc:0.9388\n",
      "epoch: 140 loss:0.193453 auc:0.9388\n",
      "epoch: 160 loss:0.192345 auc:0.9388\n",
      "epoch: 180 loss:0.191545 auc:0.9385\n",
      "epoch: 200 loss:0.190754 auc:0.9379\n",
      "epoch: 220 loss:0.190280 auc:0.9382\n",
      "epoch: 240 loss:0.189560 auc:0.9398\n",
      "epoch: 260 loss:0.188706 auc:0.9412\n",
      "epoch: 280 loss:0.187819 auc:0.9428\n",
      "epoch: 300 loss:0.187466 auc:0.9471\n",
      "epoch: 320 loss:0.185591 auc:0.9501\n",
      "epoch: 340 loss:0.186213 auc:0.9451\n",
      "epoch: 360 loss:0.184554 auc:0.9514\n",
      "epoch: 380 loss:0.182933 auc:0.9537\n",
      "epoch: 400 loss:0.181248 auc:0.9534\n",
      "epoch: 420 loss:0.183047 auc:0.9540\n",
      "epoch: 440 loss:0.178168 auc:0.9527\n",
      "epoch: 460 loss:0.176685 auc:0.9481\n"
     ]
    },
    {
     "name": "stderr",
     "output_type": "stream",
     "text": [
      " 58%|█████▊    | 532/916 [1:38:38<1:14:23, 11.62s/it]"
     ]
    },
    {
     "name": "stdout",
     "output_type": "stream",
     "text": [
      "epoch: 480 loss:0.173313 auc:0.9455\n",
      "Fit finished.\n",
      "epoch:   0 loss:0.851167 auc:0.6492\n",
      "epoch:  20 loss:0.316100 auc:0.9936\n",
      "epoch:  40 loss:0.229128 auc:0.9962\n",
      "epoch:  60 loss:0.215387 auc:0.9962\n",
      "epoch:  80 loss:0.210502 auc:0.9962\n",
      "epoch: 100 loss:0.206517 auc:0.9962\n",
      "epoch: 120 loss:0.201822 auc:0.9962\n",
      "epoch: 140 loss:0.196806 auc:0.9962\n",
      "epoch: 160 loss:0.194069 auc:0.9962\n",
      "epoch: 180 loss:0.192547 auc:0.9962\n",
      "epoch: 200 loss:0.191427 auc:0.9962\n",
      "epoch: 220 loss:0.190801 auc:0.9962\n",
      "epoch: 240 loss:0.189607 auc:0.9974\n",
      "epoch: 260 loss:0.188492 auc:0.9974\n",
      "epoch: 280 loss:0.187352 auc:1.0000\n",
      "epoch: 300 loss:0.186134 auc:1.0000\n",
      "epoch: 320 loss:0.185097 auc:1.0000\n",
      "epoch: 340 loss:0.186145 auc:0.9962\n",
      "epoch: 360 loss:0.183901 auc:0.9962\n",
      "epoch: 380 loss:0.181439 auc:0.9962\n"
     ]
    },
    {
     "name": "stderr",
     "output_type": "stream",
     "text": [
      " 58%|█████▊    | 533/916 [1:38:53<1:19:22, 12.43s/it]"
     ]
    },
    {
     "name": "stdout",
     "output_type": "stream",
     "text": [
      "epoch: 400 loss:0.179695 auc:0.9949\n",
      "Fit finished.\n",
      "epoch:   0 loss:0.952087 auc:0.7992\n",
      "epoch:  20 loss:0.308446 auc:0.9197\n",
      "epoch:  40 loss:0.231648 auc:0.9266\n",
      "epoch:  60 loss:0.215133 auc:0.9273\n",
      "epoch:  80 loss:0.207928 auc:0.9370\n",
      "epoch: 100 loss:0.203296 auc:0.9404\n",
      "epoch: 120 loss:0.198776 auc:0.9418\n",
      "epoch: 140 loss:0.195333 auc:0.9432\n",
      "epoch: 160 loss:0.193618 auc:0.9439\n",
      "epoch: 180 loss:0.192540 auc:0.9439\n",
      "epoch: 200 loss:0.191671 auc:0.9439\n",
      "epoch: 220 loss:0.190882 auc:0.9439\n",
      "epoch: 240 loss:0.195819 auc:0.9453\n",
      "epoch: 260 loss:0.190319 auc:0.9453\n",
      "epoch: 280 loss:0.188872 auc:0.9453\n",
      "epoch: 300 loss:0.188007 auc:0.9460\n",
      "epoch: 320 loss:0.187822 auc:0.9446\n"
     ]
    },
    {
     "name": "stderr",
     "output_type": "stream",
     "text": [
      " 58%|█████▊    | 534/916 [1:39:03<1:15:11, 11.81s/it]"
     ]
    },
    {
     "name": "stdout",
     "output_type": "stream",
     "text": [
      "epoch: 340 loss:0.186439 auc:0.9432\n",
      "Fit finished.\n",
      "epoch:   0 loss:0.817731 auc:0.6597\n",
      "epoch:  20 loss:0.339743 auc:1.0000\n",
      "epoch:  40 loss:0.255688 auc:1.0000\n",
      "epoch:  60 loss:0.220219 auc:1.0000\n",
      "epoch:  80 loss:0.208852 auc:1.0000\n",
      "epoch: 100 loss:0.202628 auc:1.0000\n",
      "epoch: 120 loss:0.197459 auc:1.0000\n",
      "epoch: 140 loss:0.194469 auc:1.0000\n",
      "epoch: 160 loss:0.192986 auc:1.0000\n",
      "epoch: 180 loss:0.191910 auc:1.0000\n",
      "epoch: 200 loss:0.191400 auc:1.0000\n",
      "epoch: 220 loss:0.190146 auc:1.0000\n",
      "epoch: 240 loss:0.190652 auc:1.0000\n"
     ]
    },
    {
     "name": "stderr",
     "output_type": "stream",
     "text": [
      " 58%|█████▊    | 535/916 [1:39:13<1:12:09, 11.36s/it]"
     ]
    },
    {
     "name": "stdout",
     "output_type": "stream",
     "text": [
      "epoch: 260 loss:0.188499 auc:0.9983\n",
      "Fit finished.\n",
      "epoch:   0 loss:0.774741 auc:0.5187\n",
      "epoch:  20 loss:0.322929 auc:0.9460\n",
      "epoch:  40 loss:0.239396 auc:0.9494\n",
      "epoch:  60 loss:0.217588 auc:0.9501\n",
      "epoch:  80 loss:0.209740 auc:0.9508\n",
      "epoch: 100 loss:0.204352 auc:0.9508\n",
      "epoch: 120 loss:0.198618 auc:0.9515\n",
      "epoch: 140 loss:0.194386 auc:0.9515\n",
      "epoch: 160 loss:0.192640 auc:0.9515\n",
      "epoch: 180 loss:0.191654 auc:0.9515\n",
      "epoch: 200 loss:0.191135 auc:0.9522\n",
      "epoch: 220 loss:0.190147 auc:0.9515\n",
      "epoch: 240 loss:0.189776 auc:0.9522\n",
      "epoch: 260 loss:0.188781 auc:0.9522\n",
      "epoch: 280 loss:0.188096 auc:0.9522\n",
      "epoch: 300 loss:0.187225 auc:0.9529\n",
      "epoch: 320 loss:0.186264 auc:0.9543\n"
     ]
    },
    {
     "name": "stderr",
     "output_type": "stream",
     "text": [
      " 59%|█████▊    | 536/916 [1:39:27<1:15:56, 11.99s/it]"
     ]
    },
    {
     "name": "stdout",
     "output_type": "stream",
     "text": [
      "epoch: 340 loss:0.186537 auc:0.9439\n",
      "Fit finished.\n",
      "epoch:   0 loss:0.729158 auc:0.6746\n",
      "epoch:  20 loss:0.320768 auc:0.9167\n",
      "epoch:  40 loss:0.245112 auc:0.9324\n",
      "epoch:  60 loss:0.218757 auc:0.9369\n",
      "epoch:  80 loss:0.209915 auc:0.9348\n",
      "epoch: 100 loss:0.204655 auc:0.9362\n",
      "epoch: 120 loss:0.199328 auc:0.9362\n",
      "epoch: 140 loss:0.195041 auc:0.9359\n",
      "epoch: 160 loss:0.193098 auc:0.9362\n",
      "epoch: 180 loss:0.192090 auc:0.9359\n",
      "epoch: 200 loss:0.191157 auc:0.9359\n"
     ]
    },
    {
     "name": "stderr",
     "output_type": "stream",
     "text": [
      " 59%|█████▊    | 537/916 [1:39:38<1:14:55, 11.86s/it]"
     ]
    },
    {
     "name": "stdout",
     "output_type": "stream",
     "text": [
      "epoch: 220 loss:0.190519 auc:0.9359\n",
      "Fit finished.\n",
      "epoch:   0 loss:0.713657 auc:0.4511\n",
      "epoch:  20 loss:0.305332 auc:0.9767\n",
      "epoch:  40 loss:0.229518 auc:0.9889\n",
      "epoch:  60 loss:0.212396 auc:0.9889\n",
      "epoch:  80 loss:0.205728 auc:0.9889\n",
      "epoch: 100 loss:0.199966 auc:0.9889\n",
      "epoch: 120 loss:0.195320 auc:0.9889\n",
      "epoch: 140 loss:0.193370 auc:0.9889\n",
      "epoch: 160 loss:0.192130 auc:0.9889\n",
      "epoch: 180 loss:0.191119 auc:0.9889\n",
      "epoch: 200 loss:0.190139 auc:0.9889\n",
      "epoch: 220 loss:0.190698 auc:0.9911\n",
      "epoch: 240 loss:0.188534 auc:0.9911\n",
      "epoch: 260 loss:0.187166 auc:0.9933\n",
      "epoch: 280 loss:0.191468 auc:0.9933\n",
      "epoch: 300 loss:0.185334 auc:0.9944\n",
      "epoch: 320 loss:0.183856 auc:0.9944\n",
      "epoch: 340 loss:0.182314 auc:0.9944\n",
      "epoch: 360 loss:0.181036 auc:0.9933\n",
      "epoch: 380 loss:0.178135 auc:0.9944\n",
      "epoch: 400 loss:0.178431 auc:0.9933\n",
      "epoch: 420 loss:0.174582 auc:0.9933\n",
      "epoch: 440 loss:0.173277 auc:0.9944\n"
     ]
    },
    {
     "name": "stderr",
     "output_type": "stream",
     "text": [
      " 59%|█████▊    | 538/916 [1:40:01<1:35:09, 15.10s/it]"
     ]
    },
    {
     "name": "stdout",
     "output_type": "stream",
     "text": [
      "epoch: 460 loss:0.171589 auc:0.9933\n",
      "Fit finished.\n",
      "epoch:   0 loss:0.595670 auc:0.5133\n",
      "epoch:  20 loss:0.281221 auc:0.9420\n",
      "epoch:  40 loss:0.224384 auc:0.9446\n",
      "epoch:  60 loss:0.210760 auc:0.9492\n",
      "epoch:  80 loss:0.204046 auc:0.9500\n",
      "epoch: 100 loss:0.197451 auc:0.9508\n",
      "epoch: 120 loss:0.193975 auc:0.9503\n",
      "epoch: 140 loss:0.192103 auc:0.9514\n",
      "epoch: 160 loss:0.192672 auc:0.9511\n",
      "epoch: 180 loss:0.189828 auc:0.9519\n",
      "epoch: 200 loss:0.189052 auc:0.9514\n",
      "epoch: 220 loss:0.187481 auc:0.9514\n"
     ]
    },
    {
     "name": "stderr",
     "output_type": "stream",
     "text": [
      " 59%|█████▉    | 539/916 [1:40:12<1:26:44, 13.81s/it]"
     ]
    },
    {
     "name": "stdout",
     "output_type": "stream",
     "text": [
      "epoch: 240 loss:0.188588 auc:0.9495\n",
      "Fit finished.\n",
      "epoch:   0 loss:0.967098 auc:0.6851\n",
      "epoch:  20 loss:0.296561 auc:0.9371\n",
      "epoch:  40 loss:0.228299 auc:0.9342\n",
      "epoch:  60 loss:0.214539 auc:0.9325\n",
      "epoch:  80 loss:0.207496 auc:0.9304\n",
      "epoch: 100 loss:0.201926 auc:0.9300\n",
      "epoch: 120 loss:0.196546 auc:0.9296\n",
      "epoch: 140 loss:0.193752 auc:0.9284\n",
      "epoch: 160 loss:0.192322 auc:0.9279\n"
     ]
    },
    {
     "name": "stderr",
     "output_type": "stream",
     "text": [
      " 59%|█████▉    | 540/916 [1:40:20<1:16:06, 12.14s/it]"
     ]
    },
    {
     "name": "stdout",
     "output_type": "stream",
     "text": [
      "epoch: 180 loss:0.191888 auc:0.9296\n",
      "Fit finished.\n",
      "epoch:   0 loss:0.850044 auc:0.3089\n",
      "epoch:  20 loss:0.317009 auc:0.9308\n",
      "epoch:  40 loss:0.236238 auc:0.9403\n",
      "epoch:  60 loss:0.217655 auc:0.9466\n",
      "epoch:  80 loss:0.209737 auc:0.9473\n",
      "epoch: 100 loss:0.204500 auc:0.9453\n",
      "epoch: 120 loss:0.198743 auc:0.9462\n",
      "epoch: 140 loss:0.194686 auc:0.9458\n",
      "epoch: 160 loss:0.192897 auc:0.9463\n",
      "epoch: 180 loss:0.192122 auc:0.9467\n",
      "epoch: 200 loss:0.191744 auc:0.9480\n",
      "epoch: 220 loss:0.190312 auc:0.9486\n",
      "epoch: 240 loss:0.190384 auc:0.9514\n",
      "epoch: 260 loss:0.188585 auc:0.9541\n",
      "epoch: 280 loss:0.189320 auc:0.9569\n",
      "epoch: 300 loss:0.186894 auc:0.9602\n",
      "epoch: 320 loss:0.186235 auc:0.9606\n",
      "epoch: 340 loss:0.184771 auc:0.9639\n",
      "epoch: 360 loss:0.184495 auc:0.9633\n",
      "epoch: 380 loss:0.191944 auc:0.9647\n",
      "epoch: 400 loss:0.180961 auc:0.9663\n",
      "epoch: 420 loss:0.178273 auc:0.9641\n",
      "epoch: 440 loss:0.177466 auc:0.9702\n"
     ]
    },
    {
     "name": "stderr",
     "output_type": "stream",
     "text": [
      " 59%|█████▉    | 541/916 [2:40:04<112:52:41, 1083.63s/it]"
     ]
    },
    {
     "name": "stdout",
     "output_type": "stream",
     "text": [
      "epoch: 460 loss:0.190494 auc:0.9472\n",
      "Fit finished.\n",
      "epoch:   0 loss:0.702408 auc:0.3871\n",
      "epoch:  20 loss:0.266371 auc:0.9598\n",
      "epoch:  40 loss:0.220684 auc:0.9657\n",
      "epoch:  60 loss:0.209592 auc:0.9635\n",
      "epoch:  80 loss:0.202877 auc:0.9635\n",
      "epoch: 100 loss:0.195777 auc:0.9635\n",
      "epoch: 120 loss:0.192891 auc:0.9635\n",
      "epoch: 140 loss:0.191873 auc:0.9635\n",
      "epoch: 160 loss:0.191547 auc:0.9635\n",
      "epoch: 180 loss:0.189979 auc:0.9657\n",
      "epoch: 200 loss:0.188534 auc:0.9664\n",
      "epoch: 220 loss:0.188551 auc:0.9693\n",
      "epoch: 240 loss:0.186918 auc:0.9701\n",
      "epoch: 260 loss:0.183945 auc:0.9722\n",
      "epoch: 280 loss:0.181885 auc:0.9708\n"
     ]
    },
    {
     "name": "stderr",
     "output_type": "stream",
     "text": [
      " 59%|█████▉    | 542/916 [2:40:17<79:12:33, 762.44s/it]  "
     ]
    },
    {
     "name": "stdout",
     "output_type": "stream",
     "text": [
      "epoch: 300 loss:0.193175 auc:0.9620\n",
      "Fit finished.\n",
      "epoch:   0 loss:0.904195 auc:0.5838\n",
      "epoch:  20 loss:0.307270 auc:0.9750\n",
      "epoch:  40 loss:0.232437 auc:0.9809\n",
      "epoch:  60 loss:0.217792 auc:0.9796\n",
      "epoch:  80 loss:0.210565 auc:0.9809\n",
      "epoch: 100 loss:0.205669 auc:0.9809\n",
      "epoch: 120 loss:0.200317 auc:0.9803\n",
      "epoch: 140 loss:0.195704 auc:0.9803\n",
      "epoch: 160 loss:0.193579 auc:0.9803\n",
      "epoch: 180 loss:0.192348 auc:0.9803\n"
     ]
    },
    {
     "name": "stderr",
     "output_type": "stream",
     "text": [
      " 59%|█████▉    | 543/916 [2:40:28<55:39:06, 537.12s/it]"
     ]
    },
    {
     "name": "stdout",
     "output_type": "stream",
     "text": [
      "epoch: 200 loss:0.191483 auc:0.9803\n",
      "Fit finished.\n",
      "epoch:   0 loss:0.975654 auc:0.2158\n",
      "epoch:  20 loss:0.303808 auc:0.8853\n",
      "epoch:  40 loss:0.231175 auc:0.8967\n",
      "epoch:  60 loss:0.215531 auc:0.9032\n",
      "epoch:  80 loss:0.209399 auc:0.8978\n",
      "epoch: 100 loss:0.205130 auc:0.8978\n",
      "epoch: 120 loss:0.200452 auc:0.8999\n",
      "epoch: 140 loss:0.196057 auc:0.8989\n",
      "epoch: 160 loss:0.193832 auc:0.8989\n",
      "epoch: 180 loss:0.192604 auc:0.8994\n",
      "epoch: 200 loss:0.191663 auc:0.8999\n"
     ]
    },
    {
     "name": "stderr",
     "output_type": "stream",
     "text": [
      " 59%|█████▉    | 544/916 [2:40:41<39:13:56, 379.67s/it]"
     ]
    },
    {
     "name": "stdout",
     "output_type": "stream",
     "text": [
      "epoch: 220 loss:0.190801 auc:0.9005\n",
      "Fit finished.\n",
      "epoch:   0 loss:0.916663 auc:0.6612\n",
      "epoch:  20 loss:0.322874 auc:0.9616\n",
      "epoch:  40 loss:0.244977 auc:0.9714\n",
      "epoch:  60 loss:0.220334 auc:0.9714\n",
      "epoch:  80 loss:0.211999 auc:0.9714\n",
      "epoch: 100 loss:0.206990 auc:0.9714\n",
      "epoch: 120 loss:0.202448 auc:0.9722\n",
      "epoch: 140 loss:0.197855 auc:0.9722\n",
      "epoch: 160 loss:0.194793 auc:0.9722\n",
      "epoch: 180 loss:0.193328 auc:0.9722\n",
      "epoch: 200 loss:0.192389 auc:0.9714\n",
      "epoch: 220 loss:0.191641 auc:0.9714\n"
     ]
    },
    {
     "name": "stderr",
     "output_type": "stream",
     "text": [
      " 59%|█████▉    | 545/916 [2:40:51<27:42:45, 268.91s/it]"
     ]
    },
    {
     "name": "stdout",
     "output_type": "stream",
     "text": [
      "epoch: 240 loss:0.190969 auc:0.9706\n",
      "Fit finished.\n",
      "epoch:   0 loss:0.844307 auc:0.4568\n",
      "epoch:  20 loss:0.293977 auc:0.9959\n",
      "epoch:  40 loss:0.229815 auc:0.9945\n",
      "epoch:  60 loss:0.215430 auc:0.9918\n",
      "epoch:  80 loss:0.210714 auc:0.9904\n",
      "epoch: 100 loss:0.207005 auc:0.9918\n",
      "epoch: 120 loss:0.202354 auc:0.9918\n",
      "epoch: 140 loss:0.196696 auc:0.9918\n",
      "epoch: 160 loss:0.193559 auc:0.9918\n"
     ]
    },
    {
     "name": "stderr",
     "output_type": "stream",
     "text": [
      " 60%|█████▉    | 546/916 [2:40:59<19:35:20, 190.60s/it]"
     ]
    },
    {
     "name": "stdout",
     "output_type": "stream",
     "text": [
      "epoch: 180 loss:0.191851 auc:0.9918\n",
      "Fit finished.\n",
      "epoch:   0 loss:0.751793 auc:0.5122\n",
      "epoch:  20 loss:0.317239 auc:0.9845\n",
      "epoch:  40 loss:0.229831 auc:0.9893\n",
      "epoch:  60 loss:0.215313 auc:0.9878\n",
      "epoch:  80 loss:0.209833 auc:0.9871\n",
      "epoch: 100 loss:0.205290 auc:0.9874\n",
      "epoch: 120 loss:0.199185 auc:0.9874\n",
      "epoch: 140 loss:0.195023 auc:0.9878\n",
      "epoch: 160 loss:0.193034 auc:0.9878\n",
      "epoch: 180 loss:0.191883 auc:0.9874\n"
     ]
    },
    {
     "name": "stderr",
     "output_type": "stream",
     "text": [
      " 60%|█████▉    | 547/916 [2:41:07<13:56:07, 135.95s/it]"
     ]
    },
    {
     "name": "stdout",
     "output_type": "stream",
     "text": [
      "epoch: 200 loss:0.190989 auc:0.9874\n",
      "Fit finished.\n",
      "epoch:   0 loss:0.687201 auc:0.2051\n",
      "epoch:  20 loss:0.285328 auc:0.9213\n",
      "epoch:  40 loss:0.220804 auc:0.9159\n",
      "epoch:  60 loss:0.209465 auc:0.9170\n",
      "epoch:  80 loss:0.203119 auc:0.9170\n",
      "epoch: 100 loss:0.196863 auc:0.9178\n",
      "epoch: 120 loss:0.193867 auc:0.9172\n",
      "epoch: 140 loss:0.192038 auc:0.9153\n",
      "epoch: 160 loss:0.190341 auc:0.9102\n"
     ]
    },
    {
     "name": "stderr",
     "output_type": "stream",
     "text": [
      " 60%|█████▉    | 548/916 [2:41:15<9:57:31, 97.42s/it]  "
     ]
    },
    {
     "name": "stdout",
     "output_type": "stream",
     "text": [
      "epoch: 180 loss:0.189669 auc:0.9108\n",
      "Fit finished.\n",
      "epoch:   0 loss:0.814028 auc:0.4931\n",
      "epoch:  20 loss:0.278295 auc:0.9954\n",
      "epoch:  40 loss:0.224769 auc:0.9954\n",
      "epoch:  60 loss:0.212182 auc:0.9946\n",
      "epoch:  80 loss:0.206597 auc:0.9977\n",
      "epoch: 100 loss:0.200476 auc:0.9946\n",
      "epoch: 120 loss:0.194974 auc:0.9954\n",
      "epoch: 140 loss:0.192792 auc:0.9961\n",
      "epoch: 160 loss:0.191958 auc:0.9977\n",
      "epoch: 180 loss:0.190540 auc:0.9977\n",
      "epoch: 200 loss:0.190103 auc:0.9985\n",
      "epoch: 220 loss:0.188412 auc:0.9985\n",
      "epoch: 240 loss:0.186976 auc:1.0000\n",
      "epoch: 260 loss:0.186632 auc:1.0000\n",
      "epoch: 280 loss:0.184730 auc:1.0000\n",
      "epoch: 300 loss:0.184146 auc:1.0000\n",
      "epoch: 320 loss:0.182802 auc:1.0000\n",
      "epoch: 340 loss:0.182244 auc:1.0000\n",
      "epoch: 360 loss:0.177866 auc:0.9992\n"
     ]
    },
    {
     "name": "stderr",
     "output_type": "stream",
     "text": [
      " 60%|█████▉    | 549/916 [3:40:55<116:27:25, 1142.36s/it]"
     ]
    },
    {
     "name": "stdout",
     "output_type": "stream",
     "text": [
      "epoch: 380 loss:0.205701 auc:0.9877\n",
      "Fit finished.\n",
      "epoch:   0 loss:0.935059 auc:0.2747\n",
      "epoch:  20 loss:0.302913 auc:0.9064\n",
      "epoch:  40 loss:0.229171 auc:0.9038\n",
      "epoch:  60 loss:0.214621 auc:0.9071\n",
      "epoch:  80 loss:0.208573 auc:0.9088\n",
      "epoch: 100 loss:0.203517 auc:0.9084\n",
      "epoch: 120 loss:0.197119 auc:0.9098\n",
      "epoch: 140 loss:0.193678 auc:0.9114\n",
      "epoch: 160 loss:0.192199 auc:0.9117\n",
      "epoch: 180 loss:0.191128 auc:0.9088\n",
      "epoch: 200 loss:0.190219 auc:0.9071\n",
      "epoch: 220 loss:0.191328 auc:0.9074\n"
     ]
    },
    {
     "name": "stderr",
     "output_type": "stream",
     "text": [
      " 60%|██████    | 550/916 [3:41:07<81:38:21, 803.01s/it]  "
     ]
    },
    {
     "name": "stdout",
     "output_type": "stream",
     "text": [
      "epoch: 240 loss:0.189274 auc:0.9041\n",
      "Fit finished.\n",
      "epoch:   0 loss:0.598837 auc:0.3762\n",
      "epoch:  20 loss:0.283160 auc:0.9153\n",
      "epoch:  40 loss:0.226547 auc:0.9362\n",
      "epoch:  60 loss:0.212623 auc:0.9366\n",
      "epoch:  80 loss:0.206095 auc:0.9380\n",
      "epoch: 100 loss:0.198724 auc:0.9389\n",
      "epoch: 120 loss:0.194231 auc:0.9398\n",
      "epoch: 140 loss:0.192138 auc:0.9398\n",
      "epoch: 160 loss:0.191037 auc:0.9402\n",
      "epoch: 180 loss:0.189566 auc:0.9389\n",
      "epoch: 200 loss:0.188662 auc:0.9371\n"
     ]
    },
    {
     "name": "stderr",
     "output_type": "stream",
     "text": [
      " 60%|██████    | 551/916 [3:41:16<57:16:02, 564.83s/it]"
     ]
    },
    {
     "name": "stdout",
     "output_type": "stream",
     "text": [
      "epoch: 220 loss:0.190551 auc:0.9357\n",
      "Fit finished.\n",
      "epoch:   0 loss:0.904988 auc:0.8005\n",
      "epoch:  20 loss:0.312763 auc:0.9234\n",
      "epoch:  40 loss:0.237833 auc:0.9317\n",
      "epoch:  60 loss:0.218001 auc:0.9329\n",
      "epoch:  80 loss:0.209562 auc:0.9342\n",
      "epoch: 100 loss:0.204075 auc:0.9354\n",
      "epoch: 120 loss:0.198752 auc:0.9346\n",
      "epoch: 140 loss:0.194940 auc:0.9338\n",
      "epoch: 160 loss:0.193112 auc:0.9338\n",
      "epoch: 180 loss:0.192005 auc:0.9338\n",
      "epoch: 200 loss:0.191095 auc:0.9354\n",
      "epoch: 220 loss:0.190688 auc:0.9371\n",
      "epoch: 240 loss:0.189591 auc:0.9384\n",
      "epoch: 260 loss:0.191191 auc:0.9409\n",
      "epoch: 280 loss:0.188194 auc:0.9429\n",
      "epoch: 300 loss:0.187297 auc:0.9434\n",
      "epoch: 320 loss:0.186235 auc:0.9459\n",
      "epoch: 340 loss:0.184833 auc:0.9463\n",
      "epoch: 360 loss:0.183709 auc:0.9484\n",
      "epoch: 380 loss:0.182774 auc:0.9496\n",
      "epoch: 400 loss:0.184197 auc:0.9479\n",
      "epoch: 420 loss:0.179526 auc:0.9500\n",
      "epoch: 440 loss:0.177048 auc:0.9488\n"
     ]
    },
    {
     "name": "stderr",
     "output_type": "stream",
     "text": [
      " 60%|██████    | 552/916 [4:41:49<150:12:00, 1485.49s/it]"
     ]
    },
    {
     "name": "stdout",
     "output_type": "stream",
     "text": [
      "epoch: 460 loss:0.182266 auc:0.9317\n",
      "Fit finished.\n",
      "epoch:   0 loss:1.181731 auc:0.6697\n",
      "epoch:  20 loss:0.343282 auc:0.9520\n",
      "epoch:  40 loss:0.261292 auc:0.9538\n",
      "epoch:  60 loss:0.222784 auc:0.9566\n",
      "epoch:  80 loss:0.210808 auc:0.9563\n",
      "epoch: 100 loss:0.203705 auc:0.9557\n",
      "epoch: 120 loss:0.197350 auc:0.9563\n",
      "epoch: 140 loss:0.194136 auc:0.9566\n",
      "epoch: 160 loss:0.192490 auc:0.9569\n",
      "epoch: 180 loss:0.191682 auc:0.9572\n",
      "epoch: 200 loss:0.190657 auc:0.9575\n",
      "epoch: 220 loss:0.191411 auc:0.9566\n",
      "epoch: 240 loss:0.188975 auc:0.9578\n",
      "epoch: 260 loss:0.188475 auc:0.9584\n",
      "epoch: 280 loss:0.187323 auc:0.9609\n",
      "epoch: 300 loss:0.186519 auc:0.9588\n",
      "epoch: 320 loss:0.186744 auc:0.9581\n"
     ]
    },
    {
     "name": "stderr",
     "output_type": "stream",
     "text": [
      " 60%|██████    | 553/916 [4:42:04<105:17:05, 1044.15s/it]"
     ]
    },
    {
     "name": "stdout",
     "output_type": "stream",
     "text": [
      "epoch: 340 loss:0.184995 auc:0.9526\n",
      "Fit finished.\n",
      "epoch:   0 loss:0.504684 auc:0.5109\n",
      "epoch:  20 loss:0.259258 auc:0.9688\n",
      "epoch:  40 loss:0.216833 auc:0.9802\n",
      "epoch:  60 loss:0.205335 auc:0.9844\n",
      "epoch:  80 loss:0.197663 auc:0.9834\n",
      "epoch: 100 loss:0.194069 auc:0.9834\n",
      "epoch: 120 loss:0.192207 auc:0.9844\n",
      "epoch: 140 loss:0.191173 auc:0.9844\n",
      "epoch: 160 loss:0.190046 auc:0.9844\n",
      "epoch: 180 loss:0.188650 auc:0.9854\n",
      "epoch: 200 loss:0.187208 auc:0.9854\n"
     ]
    },
    {
     "name": "stderr",
     "output_type": "stream",
     "text": [
      " 60%|██████    | 554/916 [4:42:13<73:45:45, 733.55s/it]  "
     ]
    },
    {
     "name": "stdout",
     "output_type": "stream",
     "text": [
      "epoch: 220 loss:0.184906 auc:0.9813\n",
      "Fit finished.\n",
      "epoch:   0 loss:0.877472 auc:0.4288\n",
      "epoch:  20 loss:0.316673 auc:0.9100\n",
      "epoch:  40 loss:0.231923 auc:0.9421\n",
      "epoch:  60 loss:0.216094 auc:0.9532\n",
      "epoch:  80 loss:0.208843 auc:0.9578\n",
      "epoch: 100 loss:0.203567 auc:0.9578\n",
      "epoch: 120 loss:0.197882 auc:0.9578\n",
      "epoch: 140 loss:0.194420 auc:0.9568\n",
      "epoch: 160 loss:0.192843 auc:0.9568\n",
      "epoch: 180 loss:0.191778 auc:0.9587\n",
      "epoch: 200 loss:0.193082 auc:0.9587\n",
      "epoch: 220 loss:0.190536 auc:0.9587\n",
      "epoch: 240 loss:0.189726 auc:0.9605\n",
      "epoch: 260 loss:0.188947 auc:0.9605\n",
      "epoch: 280 loss:0.188660 auc:0.9596\n",
      "epoch: 300 loss:0.187542 auc:0.9633\n",
      "epoch: 320 loss:0.186352 auc:0.9624\n",
      "epoch: 340 loss:0.186469 auc:0.9605\n"
     ]
    },
    {
     "name": "stderr",
     "output_type": "stream",
     "text": [
      " 61%|██████    | 555/916 [4:42:28<51:56:44, 518.02s/it]"
     ]
    },
    {
     "name": "stdout",
     "output_type": "stream",
     "text": [
      "epoch: 360 loss:0.184547 auc:0.9578\n",
      "Fit finished.\n",
      "epoch:   0 loss:1.001476 auc:0.7410\n",
      "epoch:  20 loss:0.305221 auc:0.9811\n",
      "epoch:  40 loss:0.232176 auc:0.9830\n",
      "epoch:  60 loss:0.214972 auc:0.9830\n",
      "epoch:  80 loss:0.207040 auc:0.9830\n",
      "epoch: 100 loss:0.200954 auc:0.9830\n",
      "epoch: 120 loss:0.195929 auc:0.9830\n",
      "epoch: 140 loss:0.193641 auc:0.9830\n",
      "epoch: 160 loss:0.192393 auc:0.9830\n",
      "epoch: 180 loss:0.191486 auc:0.9830\n",
      "epoch: 200 loss:0.190830 auc:0.9830\n",
      "epoch: 220 loss:0.190146 auc:0.9830\n",
      "epoch: 240 loss:0.189533 auc:0.9868\n",
      "epoch: 260 loss:0.188913 auc:0.9868\n",
      "epoch: 280 loss:0.188194 auc:0.9887\n",
      "epoch: 300 loss:0.187563 auc:0.9905\n",
      "epoch: 320 loss:0.188307 auc:0.9924\n",
      "epoch: 340 loss:0.185841 auc:0.9924\n",
      "epoch: 360 loss:0.185403 auc:0.9924\n",
      "epoch: 380 loss:0.188267 auc:0.9943\n",
      "epoch: 400 loss:0.181631 auc:0.9943\n",
      "epoch: 420 loss:0.182467 auc:0.9924\n",
      "epoch: 440 loss:0.177737 auc:0.9924\n",
      "epoch: 460 loss:0.174761 auc:0.9924\n",
      "epoch: 480 loss:0.188636 auc:0.9924\n",
      "epoch: 500 loss:0.173785 auc:0.9924\n",
      "epoch: 520 loss:0.170593 auc:0.9924\n"
     ]
    },
    {
     "name": "stderr",
     "output_type": "stream",
     "text": [
      " 61%|██████    | 556/916 [5:26:17<115:08:05, 1151.35s/it]"
     ]
    },
    {
     "name": "stdout",
     "output_type": "stream",
     "text": [
      "epoch: 540 loss:0.168771 auc:0.9905\n",
      "Fit finished.\n",
      "epoch:   0 loss:1.356438 auc:0.6451\n",
      "epoch:  20 loss:0.323843 auc:0.9707\n",
      "epoch:  40 loss:0.246640 auc:0.9773\n",
      "epoch:  60 loss:0.220810 auc:0.9802\n",
      "epoch:  80 loss:0.211344 auc:0.9830\n",
      "epoch: 100 loss:0.205821 auc:0.9816\n",
      "epoch: 120 loss:0.199991 auc:0.9806\n",
      "epoch: 140 loss:0.195157 auc:0.9806\n",
      "epoch: 160 loss:0.193086 auc:0.9806\n",
      "epoch: 180 loss:0.192760 auc:0.9806\n",
      "epoch: 200 loss:0.191140 auc:0.9806\n",
      "epoch: 220 loss:0.190378 auc:0.9816\n"
     ]
    },
    {
     "name": "stderr",
     "output_type": "stream",
     "text": [
      " 61%|██████    | 557/916 [5:26:27<80:40:03, 808.92s/it]  "
     ]
    },
    {
     "name": "stdout",
     "output_type": "stream",
     "text": [
      "epoch: 240 loss:0.189630 auc:0.9820\n",
      "Fit finished.\n",
      "epoch:   0 loss:0.629126 auc:0.8789\n",
      "epoch:  20 loss:0.319827 auc:0.9622\n",
      "epoch:  40 loss:0.234985 auc:0.9657\n",
      "epoch:  60 loss:0.216251 auc:0.9674\n",
      "epoch:  80 loss:0.208346 auc:0.9666\n",
      "epoch: 100 loss:0.202464 auc:0.9674\n",
      "epoch: 120 loss:0.196356 auc:0.9679\n",
      "epoch: 140 loss:0.193512 auc:0.9679\n",
      "epoch: 160 loss:0.193145 auc:0.9674\n",
      "epoch: 180 loss:0.191072 auc:0.9674\n",
      "epoch: 200 loss:0.190573 auc:0.9670\n",
      "epoch: 220 loss:0.190630 auc:0.9674\n"
     ]
    },
    {
     "name": "stderr",
     "output_type": "stream",
     "text": [
      " 61%|██████    | 558/916 [5:26:37<56:36:50, 569.30s/it]"
     ]
    },
    {
     "name": "stdout",
     "output_type": "stream",
     "text": [
      "epoch: 240 loss:0.188290 auc:0.9648\n",
      "Fit finished.\n",
      "epoch:   0 loss:1.047871 auc:0.2283\n",
      "epoch:  20 loss:0.337257 auc:0.9771\n",
      "epoch:  40 loss:0.257513 auc:0.9871\n",
      "epoch:  60 loss:0.223734 auc:0.9875\n",
      "epoch:  80 loss:0.212085 auc:0.9866\n",
      "epoch: 100 loss:0.206484 auc:0.9871\n",
      "epoch: 120 loss:0.201697 auc:0.9875\n",
      "epoch: 140 loss:0.197165 auc:0.9875\n",
      "epoch: 160 loss:0.194446 auc:0.9873\n",
      "epoch: 180 loss:0.193171 auc:0.9871\n",
      "epoch: 200 loss:0.192275 auc:0.9873\n"
     ]
    },
    {
     "name": "stderr",
     "output_type": "stream",
     "text": [
      " 61%|██████    | 559/916 [5:26:45<39:44:53, 400.82s/it]"
     ]
    },
    {
     "name": "stdout",
     "output_type": "stream",
     "text": [
      "epoch: 220 loss:0.191529 auc:0.9873\n",
      "Fit finished.\n",
      "epoch:   0 loss:0.613072 auc:0.4277\n",
      "epoch:  20 loss:0.264287 auc:0.9625\n",
      "epoch:  40 loss:0.220854 auc:0.9685\n",
      "epoch:  60 loss:0.210419 auc:0.9685\n",
      "epoch:  80 loss:0.204053 auc:0.9685\n",
      "epoch: 100 loss:0.197268 auc:0.9679\n",
      "epoch: 120 loss:0.193994 auc:0.9685\n",
      "epoch: 140 loss:0.192222 auc:0.9679\n",
      "epoch: 160 loss:0.190706 auc:0.9679\n",
      "epoch: 180 loss:0.190732 auc:0.9697\n",
      "epoch: 200 loss:0.188034 auc:0.9703\n",
      "epoch: 220 loss:0.186288 auc:0.9744\n",
      "epoch: 240 loss:0.185608 auc:0.9732\n",
      "epoch: 260 loss:0.182915 auc:0.9726\n",
      "epoch: 280 loss:0.184187 auc:0.9714\n",
      "epoch: 300 loss:0.190128 auc:0.9703\n",
      "epoch: 320 loss:0.180190 auc:0.9714\n",
      "epoch: 340 loss:0.174690 auc:0.9750\n",
      "epoch: 360 loss:0.180365 auc:0.9714\n"
     ]
    },
    {
     "name": "stderr",
     "output_type": "stream",
     "text": [
      " 61%|██████    | 560/916 [5:27:02<28:15:37, 285.78s/it]"
     ]
    },
    {
     "name": "stdout",
     "output_type": "stream",
     "text": [
      "epoch: 380 loss:0.171564 auc:0.9714\n",
      "Fit finished.\n",
      "epoch:   0 loss:1.162787 auc:0.2646\n",
      "epoch:  20 loss:0.320990 auc:0.9681\n",
      "epoch:  40 loss:0.245321 auc:0.9727\n",
      "epoch:  60 loss:0.221589 auc:0.9721\n",
      "epoch:  80 loss:0.212280 auc:0.9698\n",
      "epoch: 100 loss:0.206672 auc:0.9698\n",
      "epoch: 120 loss:0.200873 auc:0.9690\n",
      "epoch: 140 loss:0.195856 auc:0.9690\n",
      "epoch: 160 loss:0.193482 auc:0.9693\n",
      "epoch: 180 loss:0.192197 auc:0.9693\n"
     ]
    },
    {
     "name": "stderr",
     "output_type": "stream",
     "text": [
      " 61%|██████    | 561/916 [5:27:14<20:04:20, 203.55s/it]"
     ]
    },
    {
     "name": "stdout",
     "output_type": "stream",
     "text": [
      "epoch: 200 loss:0.191413 auc:0.9695\n",
      "Fit finished.\n",
      "epoch:   0 loss:0.497349 auc:0.6133\n",
      "epoch:  20 loss:0.261071 auc:0.9863\n",
      "epoch:  40 loss:0.216707 auc:0.9873\n",
      "epoch:  60 loss:0.206284 auc:0.9873\n",
      "epoch:  80 loss:0.197909 auc:0.9873\n",
      "epoch: 100 loss:0.193832 auc:0.9873\n",
      "epoch: 120 loss:0.191790 auc:0.9873\n",
      "epoch: 140 loss:0.191642 auc:0.9873\n",
      "epoch: 160 loss:0.190126 auc:0.9863\n",
      "epoch: 180 loss:0.188226 auc:0.9883\n"
     ]
    },
    {
     "name": "stderr",
     "output_type": "stream",
     "text": [
      " 61%|██████▏   | 562/916 [5:27:24<14:19:25, 145.66s/it]"
     ]
    },
    {
     "name": "stdout",
     "output_type": "stream",
     "text": [
      "epoch: 200 loss:0.187028 auc:0.9834\n",
      "Fit finished.\n",
      "epoch:   0 loss:0.597793 auc:0.5987\n",
      "epoch:  20 loss:0.267203 auc:0.9908\n",
      "epoch:  40 loss:0.220426 auc:0.9954\n",
      "epoch:  60 loss:0.209882 auc:0.9963\n",
      "epoch:  80 loss:0.203624 auc:0.9954\n",
      "epoch: 100 loss:0.197617 auc:0.9945\n",
      "epoch: 120 loss:0.194257 auc:0.9945\n",
      "epoch: 140 loss:0.193520 auc:0.9945\n",
      "epoch: 160 loss:0.191454 auc:0.9945\n",
      "epoch: 180 loss:0.190809 auc:0.9936\n"
     ]
    },
    {
     "name": "stderr",
     "output_type": "stream",
     "text": [
      " 61%|██████▏   | 563/916 [5:27:33<10:14:54, 104.52s/it]"
     ]
    },
    {
     "name": "stdout",
     "output_type": "stream",
     "text": [
      "epoch: 200 loss:0.189147 auc:0.9945\n",
      "Fit finished.\n",
      "epoch:   0 loss:0.550206 auc:0.4697\n",
      "epoch:  20 loss:0.258351 auc:0.9384\n",
      "epoch:  40 loss:0.216478 auc:0.9443\n",
      "epoch:  60 loss:0.205878 auc:0.9461\n",
      "epoch:  80 loss:0.197613 auc:0.9460\n",
      "epoch: 100 loss:0.193746 auc:0.9448\n",
      "epoch: 120 loss:0.192767 auc:0.9460\n",
      "epoch: 140 loss:0.191467 auc:0.9501\n",
      "epoch: 160 loss:0.190621 auc:0.9529\n",
      "epoch: 180 loss:0.188189 auc:0.9552\n",
      "epoch: 200 loss:0.187936 auc:0.9574\n",
      "epoch: 220 loss:0.185404 auc:0.9520\n",
      "epoch: 240 loss:0.184244 auc:0.9523\n",
      "epoch: 260 loss:0.181462 auc:0.9536\n",
      "epoch: 280 loss:0.181063 auc:0.9585\n"
     ]
    },
    {
     "name": "stderr",
     "output_type": "stream",
     "text": [
      " 62%|██████▏   | 564/916 [5:27:47<7:34:09, 77.41s/it]  "
     ]
    },
    {
     "name": "stdout",
     "output_type": "stream",
     "text": [
      "epoch: 300 loss:0.191325 auc:0.9401\n",
      "Fit finished.\n",
      "epoch:   0 loss:0.741170 auc:0.7128\n",
      "epoch:  20 loss:0.317275 auc:0.9587\n",
      "epoch:  40 loss:0.236803 auc:0.9607\n",
      "epoch:  60 loss:0.216540 auc:0.9628\n",
      "epoch:  80 loss:0.207797 auc:0.9607\n",
      "epoch: 100 loss:0.201315 auc:0.9607\n",
      "epoch: 120 loss:0.195608 auc:0.9607\n",
      "epoch: 140 loss:0.193441 auc:0.9607\n",
      "epoch: 160 loss:0.192037 auc:0.9607\n",
      "epoch: 180 loss:0.191133 auc:0.9628\n",
      "epoch: 200 loss:0.190446 auc:0.9628\n"
     ]
    },
    {
     "name": "stderr",
     "output_type": "stream",
     "text": [
      " 62%|██████▏   | 565/916 [5:27:56<5:33:12, 56.96s/it]"
     ]
    },
    {
     "name": "stdout",
     "output_type": "stream",
     "text": [
      "epoch: 220 loss:0.189076 auc:0.9607\n",
      "Fit finished.\n",
      "epoch:   0 loss:0.934256 auc:0.7107\n",
      "epoch:  20 loss:0.326605 auc:0.9767\n",
      "epoch:  40 loss:0.247961 auc:0.9832\n",
      "epoch:  60 loss:0.220193 auc:0.9822\n",
      "epoch:  80 loss:0.211170 auc:0.9827\n",
      "epoch: 100 loss:0.205867 auc:0.9827\n",
      "epoch: 120 loss:0.200745 auc:0.9822\n",
      "epoch: 140 loss:0.196025 auc:0.9822\n",
      "epoch: 160 loss:0.193536 auc:0.9827\n",
      "epoch: 180 loss:0.192238 auc:0.9827\n"
     ]
    },
    {
     "name": "stderr",
     "output_type": "stream",
     "text": [
      " 62%|██████▏   | 566/916 [5:28:10<4:16:53, 44.04s/it]"
     ]
    },
    {
     "name": "stdout",
     "output_type": "stream",
     "text": [
      "epoch: 200 loss:0.191431 auc:0.9827\n",
      "Fit finished.\n",
      "epoch:   0 loss:0.843376 auc:0.4997\n",
      "epoch:  20 loss:0.308237 auc:0.9536\n",
      "epoch:  40 loss:0.231436 auc:0.9673\n",
      "epoch:  60 loss:0.214648 auc:0.9703\n",
      "epoch:  80 loss:0.206944 auc:0.9709\n",
      "epoch: 100 loss:0.200915 auc:0.9703\n",
      "epoch: 120 loss:0.195770 auc:0.9709\n",
      "epoch: 140 loss:0.193432 auc:0.9709\n",
      "epoch: 160 loss:0.192140 auc:0.9709\n",
      "epoch: 180 loss:0.191459 auc:0.9709\n",
      "epoch: 200 loss:0.191106 auc:0.9709\n",
      "epoch: 220 loss:0.190021 auc:0.9709\n"
     ]
    },
    {
     "name": "stderr",
     "output_type": "stream",
     "text": [
      " 62%|██████▏   | 567/916 [5:28:21<3:18:17, 34.09s/it]"
     ]
    },
    {
     "name": "stdout",
     "output_type": "stream",
     "text": [
      "epoch: 240 loss:0.189204 auc:0.9703\n",
      "Fit finished.\n",
      "epoch:   0 loss:0.822104 auc:0.1478\n",
      "epoch:  20 loss:0.314620 auc:0.9489\n",
      "epoch:  40 loss:0.232800 auc:0.9578\n",
      "epoch:  60 loss:0.215704 auc:0.9611\n",
      "epoch:  80 loss:0.209700 auc:0.9689\n",
      "epoch: 100 loss:0.205592 auc:0.9700\n",
      "epoch: 120 loss:0.201113 auc:0.9711\n",
      "epoch: 140 loss:0.196529 auc:0.9700\n",
      "epoch: 160 loss:0.193972 auc:0.9700\n",
      "epoch: 180 loss:0.192483 auc:0.9700\n",
      "epoch: 200 loss:0.191197 auc:0.9700\n",
      "epoch: 220 loss:0.190612 auc:0.9722\n",
      "epoch: 240 loss:0.189313 auc:0.9711\n",
      "epoch: 260 loss:0.188256 auc:0.9722\n",
      "epoch: 280 loss:0.186665 auc:0.9711\n"
     ]
    },
    {
     "name": "stderr",
     "output_type": "stream",
     "text": [
      " 62%|██████▏   | 568/916 [5:42:57<27:42:51, 286.70s/it]"
     ]
    },
    {
     "name": "stdout",
     "output_type": "stream",
     "text": [
      "epoch: 300 loss:0.186466 auc:0.9667\n",
      "Fit finished.\n",
      "epoch:   0 loss:1.298065 auc:0.4671\n",
      "epoch:  20 loss:0.332442 auc:0.9739\n",
      "epoch:  40 loss:0.243171 auc:0.9781\n",
      "epoch:  60 loss:0.219977 auc:0.9791\n",
      "epoch:  80 loss:0.210619 auc:0.9794\n",
      "epoch: 100 loss:0.204926 auc:0.9801\n",
      "epoch: 120 loss:0.198938 auc:0.9805\n",
      "epoch: 140 loss:0.194635 auc:0.9815\n",
      "epoch: 160 loss:0.193322 auc:0.9818\n",
      "epoch: 180 loss:0.191879 auc:0.9815\n",
      "epoch: 200 loss:0.191054 auc:0.9811\n",
      "epoch: 220 loss:0.190056 auc:0.9808\n",
      "epoch: 240 loss:0.189268 auc:0.9811\n",
      "epoch: 260 loss:0.193956 auc:0.9808\n",
      "epoch: 280 loss:0.187858 auc:0.9808\n"
     ]
    },
    {
     "name": "stderr",
     "output_type": "stream",
     "text": [
      " 62%|██████▏   | 569/916 [5:43:10<19:43:08, 204.58s/it]"
     ]
    },
    {
     "name": "stdout",
     "output_type": "stream",
     "text": [
      "epoch: 300 loss:0.189523 auc:0.9801\n",
      "Fit finished.\n",
      "epoch:   0 loss:0.960836 auc:0.8300\n",
      "epoch:  20 loss:0.333704 auc:0.9334\n",
      "epoch:  40 loss:0.255365 auc:0.9620\n",
      "epoch:  60 loss:0.221704 auc:0.9667\n",
      "epoch:  80 loss:0.210229 auc:0.9679\n",
      "epoch: 100 loss:0.203541 auc:0.9691\n",
      "epoch: 120 loss:0.197964 auc:0.9679\n",
      "epoch: 140 loss:0.194726 auc:0.9667\n",
      "epoch: 160 loss:0.193220 auc:0.9667\n",
      "epoch: 180 loss:0.192211 auc:0.9655\n",
      "epoch: 200 loss:0.191370 auc:0.9655\n"
     ]
    },
    {
     "name": "stderr",
     "output_type": "stream",
     "text": [
      " 62%|██████▏   | 570/916 [5:43:19<14:00:53, 145.82s/it]"
     ]
    },
    {
     "name": "stdout",
     "output_type": "stream",
     "text": [
      "epoch: 220 loss:0.191152 auc:0.9655\n",
      "Fit finished.\n",
      "epoch:   0 loss:0.922314 auc:0.3728\n",
      "epoch:  20 loss:0.311081 auc:0.9941\n",
      "epoch:  40 loss:0.236170 auc:0.9941\n",
      "epoch:  60 loss:0.216973 auc:0.9941\n",
      "epoch:  80 loss:0.209236 auc:0.9941\n",
      "epoch: 100 loss:0.203720 auc:0.9941\n",
      "epoch: 120 loss:0.198073 auc:0.9941\n",
      "epoch: 140 loss:0.194617 auc:0.9941\n",
      "epoch: 160 loss:0.193010 auc:0.9882\n"
     ]
    },
    {
     "name": "stderr",
     "output_type": "stream",
     "text": [
      " 62%|██████▏   | 571/916 [5:43:27<10:01:10, 104.55s/it]"
     ]
    },
    {
     "name": "stdout",
     "output_type": "stream",
     "text": [
      "epoch: 180 loss:0.191917 auc:0.9882\n",
      "Fit finished.\n",
      "epoch:   0 loss:0.851791 auc:0.0741\n",
      "epoch:  20 loss:0.263108 auc:0.9595\n",
      "epoch:  40 loss:0.219384 auc:0.9699\n",
      "epoch:  60 loss:0.208830 auc:0.9679\n",
      "epoch:  80 loss:0.202454 auc:0.9674\n",
      "epoch: 100 loss:0.196619 auc:0.9679\n",
      "epoch: 120 loss:0.193766 auc:0.9684\n",
      "epoch: 140 loss:0.192067 auc:0.9689\n",
      "epoch: 160 loss:0.190770 auc:0.9684\n",
      "epoch: 180 loss:0.191035 auc:0.9709\n",
      "epoch: 200 loss:0.188229 auc:0.9714\n",
      "epoch: 220 loss:0.189420 auc:0.9689\n"
     ]
    },
    {
     "name": "stderr",
     "output_type": "stream",
     "text": [
      " 62%|██████▏   | 572/916 [5:43:37<7:16:51, 76.20s/it]  "
     ]
    },
    {
     "name": "stdout",
     "output_type": "stream",
     "text": [
      "epoch: 240 loss:0.185118 auc:0.9654\n",
      "Fit finished.\n",
      "epoch:   0 loss:0.647226 auc:0.4304\n",
      "epoch:  20 loss:0.258216 auc:0.9812\n",
      "epoch:  40 loss:0.219056 auc:0.9820\n",
      "epoch:  60 loss:0.208149 auc:0.9840\n",
      "epoch:  80 loss:0.199274 auc:0.9828\n",
      "epoch: 100 loss:0.194543 auc:0.9828\n",
      "epoch: 120 loss:0.192126 auc:0.9824\n",
      "epoch: 140 loss:0.190549 auc:0.9832\n",
      "epoch: 160 loss:0.191354 auc:0.9828\n",
      "epoch: 180 loss:0.188703 auc:0.9824\n"
     ]
    },
    {
     "name": "stderr",
     "output_type": "stream",
     "text": [
      " 63%|██████▎   | 573/916 [5:43:47<5:22:02, 56.33s/it]"
     ]
    },
    {
     "name": "stdout",
     "output_type": "stream",
     "text": [
      "epoch: 200 loss:0.186606 auc:0.9788\n",
      "Fit finished.\n",
      "epoch:   0 loss:0.880841 auc:0.7458\n",
      "epoch:  20 loss:0.313502 auc:0.9637\n",
      "epoch:  40 loss:0.239286 auc:0.9673\n",
      "epoch:  60 loss:0.218076 auc:0.9706\n",
      "epoch:  80 loss:0.211103 auc:0.9682\n",
      "epoch: 100 loss:0.206535 auc:0.9676\n",
      "epoch: 120 loss:0.201425 auc:0.9673\n",
      "epoch: 140 loss:0.196365 auc:0.9670\n",
      "epoch: 160 loss:0.193851 auc:0.9664\n",
      "epoch: 180 loss:0.192437 auc:0.9658\n"
     ]
    },
    {
     "name": "stderr",
     "output_type": "stream",
     "text": [
      " 63%|██████▎   | 574/916 [5:43:57<4:01:09, 42.31s/it]"
     ]
    },
    {
     "name": "stdout",
     "output_type": "stream",
     "text": [
      "epoch: 200 loss:0.191429 auc:0.9655\n",
      "Fit finished.\n",
      "epoch:   0 loss:1.007845 auc:0.6833\n",
      "epoch:  20 loss:0.326404 auc:0.9663\n",
      "epoch:  40 loss:0.248168 auc:0.9700\n",
      "epoch:  60 loss:0.220561 auc:0.9718\n",
      "epoch:  80 loss:0.211493 auc:0.9741\n",
      "epoch: 100 loss:0.204937 auc:0.9733\n",
      "epoch: 120 loss:0.198154 auc:0.9733\n",
      "epoch: 140 loss:0.194557 auc:0.9731\n",
      "epoch: 160 loss:0.192890 auc:0.9729\n",
      "epoch: 180 loss:0.191835 auc:0.9722\n",
      "epoch: 200 loss:0.190950 auc:0.9708\n"
     ]
    },
    {
     "name": "stderr",
     "output_type": "stream",
     "text": [
      " 63%|██████▎   | 575/916 [5:44:10<3:10:51, 33.58s/it]"
     ]
    },
    {
     "name": "stdout",
     "output_type": "stream",
     "text": [
      "epoch: 220 loss:0.190472 auc:0.9702\n",
      "Fit finished.\n",
      "epoch:   0 loss:0.602898 auc:0.5028\n",
      "epoch:  20 loss:0.274792 auc:0.9699\n",
      "epoch:  40 loss:0.225196 auc:0.9732\n",
      "epoch:  60 loss:0.212332 auc:0.9726\n",
      "epoch:  80 loss:0.207042 auc:0.9712\n",
      "epoch: 100 loss:0.201964 auc:0.9722\n",
      "epoch: 120 loss:0.196579 auc:0.9716\n",
      "epoch: 140 loss:0.193814 auc:0.9726\n",
      "epoch: 160 loss:0.192283 auc:0.9726\n",
      "epoch: 180 loss:0.191133 auc:0.9729\n",
      "epoch: 200 loss:0.190334 auc:0.9736\n",
      "epoch: 220 loss:0.189347 auc:0.9742\n",
      "epoch: 240 loss:0.188891 auc:0.9736\n",
      "epoch: 260 loss:0.187614 auc:0.9732\n"
     ]
    },
    {
     "name": "stderr",
     "output_type": "stream",
     "text": [
      " 63%|██████▎   | 576/916 [5:44:22<2:34:10, 27.21s/it]"
     ]
    },
    {
     "name": "stdout",
     "output_type": "stream",
     "text": [
      "epoch: 280 loss:0.186197 auc:0.9683\n",
      "Fit finished.\n",
      "epoch:   0 loss:0.845050 auc:0.7528\n",
      "epoch:  20 loss:0.334946 auc:0.9196\n",
      "epoch:  40 loss:0.250755 auc:0.9239\n",
      "epoch:  60 loss:0.217539 auc:0.9293\n",
      "epoch:  80 loss:0.207311 auc:0.9323\n",
      "epoch: 100 loss:0.200383 auc:0.9339\n",
      "epoch: 120 loss:0.195196 auc:0.9335\n",
      "epoch: 140 loss:0.193191 auc:0.9335\n",
      "epoch: 160 loss:0.192119 auc:0.9331\n",
      "epoch: 180 loss:0.191368 auc:0.9339\n",
      "epoch: 200 loss:0.190759 auc:0.9346\n",
      "epoch: 220 loss:0.190558 auc:0.9350\n",
      "epoch: 240 loss:0.189390 auc:0.9366\n",
      "epoch: 260 loss:0.189300 auc:0.9366\n",
      "epoch: 280 loss:0.188139 auc:0.9393\n",
      "epoch: 300 loss:0.188650 auc:0.9396\n",
      "epoch: 320 loss:0.187100 auc:0.9412\n",
      "epoch: 340 loss:0.185793 auc:0.9431\n",
      "epoch: 360 loss:0.184777 auc:0.9408\n",
      "epoch: 380 loss:0.183525 auc:0.9416\n",
      "epoch: 400 loss:0.182590 auc:0.9443\n",
      "epoch: 420 loss:0.181690 auc:0.9454\n",
      "epoch: 440 loss:0.178480 auc:0.9466\n"
     ]
    },
    {
     "name": "stderr",
     "output_type": "stream",
     "text": [
      " 63%|██████▎   | 577/916 [5:44:43<2:23:04, 25.32s/it]"
     ]
    },
    {
     "name": "stdout",
     "output_type": "stream",
     "text": [
      "epoch: 460 loss:0.180594 auc:0.9319\n",
      "Fit finished.\n",
      "epoch:   0 loss:0.591857 auc:0.5714\n",
      "epoch:  20 loss:0.278340 auc:0.9779\n",
      "epoch:  40 loss:0.219267 auc:0.9796\n",
      "epoch:  60 loss:0.208742 auc:0.9802\n",
      "epoch:  80 loss:0.202132 auc:0.9807\n",
      "epoch: 100 loss:0.196457 auc:0.9802\n",
      "epoch: 120 loss:0.193946 auc:0.9807\n",
      "epoch: 140 loss:0.192482 auc:0.9807\n",
      "epoch: 160 loss:0.191293 auc:0.9813\n",
      "epoch: 180 loss:0.191160 auc:0.9813\n",
      "epoch: 200 loss:0.189467 auc:0.9824\n",
      "epoch: 220 loss:0.188722 auc:0.9836\n",
      "epoch: 240 loss:0.187570 auc:0.9830\n"
     ]
    },
    {
     "name": "stderr",
     "output_type": "stream",
     "text": [
      " 63%|██████▎   | 578/916 [5:44:54<1:58:45, 21.08s/it]"
     ]
    },
    {
     "name": "stdout",
     "output_type": "stream",
     "text": [
      "epoch: 260 loss:0.186143 auc:0.9745\n",
      "Fit finished.\n",
      "epoch:   0 loss:0.550191 auc:0.4809\n",
      "epoch:  20 loss:0.261522 auc:0.9866\n",
      "epoch:  40 loss:0.220350 auc:0.9907\n",
      "epoch:  60 loss:0.210094 auc:0.9917\n",
      "epoch:  80 loss:0.203744 auc:0.9917\n",
      "epoch: 100 loss:0.197066 auc:0.9912\n",
      "epoch: 120 loss:0.193817 auc:0.9907\n",
      "epoch: 140 loss:0.192165 auc:0.9912\n",
      "epoch: 160 loss:0.190927 auc:0.9917\n",
      "epoch: 180 loss:0.190303 auc:0.9917\n",
      "epoch: 200 loss:0.189018 auc:0.9917\n"
     ]
    },
    {
     "name": "stderr",
     "output_type": "stream",
     "text": [
      " 63%|██████▎   | 579/916 [5:45:05<1:40:27, 17.89s/it]"
     ]
    },
    {
     "name": "stdout",
     "output_type": "stream",
     "text": [
      "epoch: 220 loss:0.189423 auc:0.9907\n",
      "Fit finished.\n",
      "epoch:   0 loss:0.554243 auc:0.5279\n",
      "epoch:  20 loss:0.277188 auc:0.9605\n",
      "epoch:  40 loss:0.220564 auc:0.9584\n",
      "epoch:  60 loss:0.208370 auc:0.9557\n",
      "epoch:  80 loss:0.200564 auc:0.9584\n",
      "epoch: 100 loss:0.195065 auc:0.9584\n",
      "epoch: 120 loss:0.192657 auc:0.9589\n",
      "epoch: 140 loss:0.194842 auc:0.9600\n",
      "epoch: 160 loss:0.190757 auc:0.9648\n",
      "epoch: 180 loss:0.188858 auc:0.9665\n",
      "epoch: 200 loss:0.188613 auc:0.9681\n",
      "epoch: 220 loss:0.187109 auc:0.9746\n",
      "epoch: 240 loss:0.184903 auc:0.9751\n",
      "epoch: 260 loss:0.184574 auc:0.9757\n",
      "epoch: 280 loss:0.180254 auc:0.9746\n"
     ]
    },
    {
     "name": "stderr",
     "output_type": "stream",
     "text": [
      " 63%|██████▎   | 580/916 [5:45:22<1:38:47, 17.64s/it]"
     ]
    },
    {
     "name": "stdout",
     "output_type": "stream",
     "text": [
      "epoch: 300 loss:0.188511 auc:0.9557\n",
      "Fit finished.\n",
      "epoch:   0 loss:0.550577 auc:0.5806\n",
      "epoch:  20 loss:0.256047 auc:0.9525\n",
      "epoch:  40 loss:0.217006 auc:0.9752\n",
      "epoch:  60 loss:0.207244 auc:0.9669\n",
      "epoch:  80 loss:0.200661 auc:0.9690\n",
      "epoch: 100 loss:0.195672 auc:0.9711\n",
      "epoch: 120 loss:0.193441 auc:0.9711\n",
      "epoch: 140 loss:0.192030 auc:0.9711\n",
      "epoch: 160 loss:0.191036 auc:0.9731\n",
      "epoch: 180 loss:0.190240 auc:0.9731\n",
      "epoch: 200 loss:0.188629 auc:0.9773\n",
      "epoch: 220 loss:0.189030 auc:0.9814\n",
      "epoch: 240 loss:0.185904 auc:0.9793\n",
      "epoch: 260 loss:0.185964 auc:0.9814\n",
      "epoch: 280 loss:0.183923 auc:0.9793\n",
      "epoch: 300 loss:0.179877 auc:0.9814\n",
      "epoch: 320 loss:0.181112 auc:0.9814\n",
      "epoch: 340 loss:0.174558 auc:0.9814\n",
      "epoch: 360 loss:0.177234 auc:0.9835\n",
      "epoch: 380 loss:0.173131 auc:0.9814\n",
      "epoch: 400 loss:0.168431 auc:0.9814\n",
      "epoch: 420 loss:0.167050 auc:0.9835\n"
     ]
    },
    {
     "name": "stderr",
     "output_type": "stream",
     "text": [
      " 63%|██████▎   | 581/916 [5:45:45<1:48:39, 19.46s/it]"
     ]
    },
    {
     "name": "stdout",
     "output_type": "stream",
     "text": [
      "epoch: 440 loss:0.165418 auc:0.9628\n",
      "Fit finished.\n",
      "epoch:   0 loss:0.833929 auc:0.5440\n",
      "epoch:  20 loss:0.285683 auc:0.9877\n",
      "epoch:  40 loss:0.227619 auc:0.9923\n",
      "epoch:  60 loss:0.214319 auc:0.9892\n",
      "epoch:  80 loss:0.209439 auc:0.9923\n",
      "epoch: 100 loss:0.205849 auc:0.9907\n",
      "epoch: 120 loss:0.201584 auc:0.9915\n",
      "epoch: 140 loss:0.196719 auc:0.9915\n",
      "epoch: 160 loss:0.193874 auc:0.9923\n",
      "epoch: 180 loss:0.192427 auc:0.9915\n"
     ]
    },
    {
     "name": "stderr",
     "output_type": "stream",
     "text": [
      " 64%|██████▎   | 582/916 [5:45:57<1:34:53, 17.05s/it]"
     ]
    },
    {
     "name": "stdout",
     "output_type": "stream",
     "text": [
      "epoch: 200 loss:0.191323 auc:0.9915\n",
      "Fit finished.\n",
      "epoch:   0 loss:0.816435 auc:0.6253\n",
      "epoch:  20 loss:0.339132 auc:0.9745\n",
      "epoch:  40 loss:0.252876 auc:0.9688\n",
      "epoch:  60 loss:0.222391 auc:0.9688\n",
      "epoch:  80 loss:0.212525 auc:0.9700\n",
      "epoch: 100 loss:0.208145 auc:0.9694\n",
      "epoch: 120 loss:0.204160 auc:0.9694\n",
      "epoch: 140 loss:0.199220 auc:0.9688\n",
      "epoch: 160 loss:0.195117 auc:0.9694\n"
     ]
    },
    {
     "name": "stderr",
     "output_type": "stream",
     "text": [
      " 64%|██████▎   | 583/916 [5:46:09<1:25:42, 15.44s/it]"
     ]
    },
    {
     "name": "stdout",
     "output_type": "stream",
     "text": [
      "epoch: 180 loss:0.193145 auc:0.9700\n",
      "Fit finished.\n",
      "epoch:   0 loss:1.041144 auc:0.8287\n",
      "epoch:  20 loss:0.311057 auc:0.9487\n",
      "epoch:  40 loss:0.240397 auc:0.9581\n",
      "epoch:  60 loss:0.217536 auc:0.9594\n",
      "epoch:  80 loss:0.207398 auc:0.9575\n",
      "epoch: 100 loss:0.201066 auc:0.9581\n",
      "epoch: 120 loss:0.196457 auc:0.9587\n",
      "epoch: 140 loss:0.194209 auc:0.9581\n",
      "epoch: 160 loss:0.192917 auc:0.9581\n",
      "epoch: 180 loss:0.191948 auc:0.9581\n",
      "epoch: 200 loss:0.191243 auc:0.9581\n"
     ]
    },
    {
     "name": "stderr",
     "output_type": "stream",
     "text": [
      " 64%|██████▍   | 584/916 [5:46:22<1:21:37, 14.75s/it]"
     ]
    },
    {
     "name": "stdout",
     "output_type": "stream",
     "text": [
      "epoch: 220 loss:0.190591 auc:0.9581\n",
      "Fit finished.\n",
      "epoch:   0 loss:0.567243 auc:0.2428\n",
      "epoch:  20 loss:0.256291 auc:0.9529\n",
      "epoch:  40 loss:0.220165 auc:0.9648\n",
      "epoch:  60 loss:0.210753 auc:0.9648\n",
      "epoch:  80 loss:0.204932 auc:0.9659\n",
      "epoch: 100 loss:0.198112 auc:0.9654\n",
      "epoch: 120 loss:0.194181 auc:0.9643\n",
      "epoch: 140 loss:0.192370 auc:0.9643\n",
      "epoch: 160 loss:0.191380 auc:0.9638\n",
      "epoch: 180 loss:0.190084 auc:0.9648\n"
     ]
    },
    {
     "name": "stderr",
     "output_type": "stream",
     "text": [
      " 64%|██████▍   | 585/916 [5:46:35<1:19:18, 14.38s/it]"
     ]
    },
    {
     "name": "stdout",
     "output_type": "stream",
     "text": [
      "epoch: 200 loss:0.188943 auc:0.9632\n",
      "Fit finished.\n",
      "epoch:   0 loss:0.812994 auc:0.4127\n",
      "epoch:  20 loss:0.303343 auc:0.8447\n",
      "epoch:  40 loss:0.230220 auc:0.8402\n",
      "epoch:  60 loss:0.215345 auc:0.8417\n",
      "epoch:  80 loss:0.208645 auc:0.8447\n",
      "epoch: 100 loss:0.203589 auc:0.8462\n",
      "epoch: 120 loss:0.198152 auc:0.8476\n",
      "epoch: 140 loss:0.194484 auc:0.8491\n",
      "epoch: 160 loss:0.192707 auc:0.8491\n",
      "epoch: 180 loss:0.191636 auc:0.8491\n",
      "epoch: 200 loss:0.190820 auc:0.8506\n",
      "epoch: 220 loss:0.190057 auc:0.8536\n",
      "epoch: 240 loss:0.189253 auc:0.8550\n",
      "epoch: 260 loss:0.188498 auc:0.8609\n",
      "epoch: 280 loss:0.187569 auc:0.8698\n",
      "epoch: 300 loss:0.186808 auc:0.8713\n",
      "epoch: 320 loss:0.185482 auc:0.8802\n",
      "epoch: 340 loss:0.184268 auc:0.8861\n",
      "epoch: 360 loss:0.183884 auc:0.8846\n",
      "epoch: 380 loss:0.182222 auc:0.8846\n",
      "epoch: 400 loss:0.179899 auc:0.8772\n",
      "epoch: 420 loss:0.178712 auc:0.8639\n"
     ]
    },
    {
     "name": "stderr",
     "output_type": "stream",
     "text": [
      " 64%|██████▍   | 586/916 [5:47:03<1:41:02, 18.37s/it]"
     ]
    },
    {
     "name": "stdout",
     "output_type": "stream",
     "text": [
      "epoch: 440 loss:0.178420 auc:0.8476\n",
      "Fit finished.\n",
      "epoch:   0 loss:0.805874 auc:0.6048\n",
      "epoch:  20 loss:0.317955 auc:0.9669\n",
      "epoch:  40 loss:0.234012 auc:0.9747\n",
      "epoch:  60 loss:0.214343 auc:0.9769\n",
      "epoch:  80 loss:0.206451 auc:0.9747\n",
      "epoch: 100 loss:0.200314 auc:0.9751\n",
      "epoch: 120 loss:0.195432 auc:0.9754\n",
      "epoch: 140 loss:0.193338 auc:0.9751\n",
      "epoch: 160 loss:0.191973 auc:0.9747\n",
      "epoch: 180 loss:0.191795 auc:0.9758\n",
      "epoch: 200 loss:0.190455 auc:0.9747\n"
     ]
    },
    {
     "name": "stderr",
     "output_type": "stream",
     "text": [
      " 64%|██████▍   | 587/916 [5:47:23<1:44:06, 18.99s/it]"
     ]
    },
    {
     "name": "stdout",
     "output_type": "stream",
     "text": [
      "epoch: 220 loss:0.188920 auc:0.9733\n",
      "Fit finished.\n",
      "epoch:   0 loss:1.168123 auc:0.7436\n",
      "epoch:  20 loss:0.320921 auc:0.9191\n",
      "epoch:  40 loss:0.245255 auc:0.9298\n",
      "epoch:  60 loss:0.215253 auc:0.9316\n",
      "epoch:  80 loss:0.205017 auc:0.9328\n",
      "epoch: 100 loss:0.198042 auc:0.9310\n",
      "epoch: 120 loss:0.194647 auc:0.9322\n",
      "epoch: 140 loss:0.193073 auc:0.9316\n",
      "epoch: 160 loss:0.191994 auc:0.9316\n",
      "epoch: 180 loss:0.191239 auc:0.9310\n",
      "epoch: 200 loss:0.190650 auc:0.9316\n",
      "epoch: 220 loss:0.190072 auc:0.9328\n",
      "epoch: 240 loss:0.189442 auc:0.9340\n"
     ]
    },
    {
     "name": "stderr",
     "output_type": "stream",
     "text": [
      " 64%|██████▍   | 588/916 [5:47:46<1:50:16, 20.17s/it]"
     ]
    },
    {
     "name": "stdout",
     "output_type": "stream",
     "text": [
      "epoch: 260 loss:0.191607 auc:0.9304\n",
      "Fit finished.\n",
      "epoch:   0 loss:0.657352 auc:0.6016\n",
      "epoch:  20 loss:0.301797 auc:0.9826\n",
      "epoch:  40 loss:0.227845 auc:0.9852\n",
      "epoch:  60 loss:0.212684 auc:0.9844\n",
      "epoch:  80 loss:0.206131 auc:0.9844\n",
      "epoch: 100 loss:0.200636 auc:0.9844\n",
      "epoch: 120 loss:0.195939 auc:0.9844\n",
      "epoch: 140 loss:0.193601 auc:0.9848\n",
      "epoch: 160 loss:0.192192 auc:0.9857\n",
      "epoch: 180 loss:0.192682 auc:0.9865\n",
      "epoch: 200 loss:0.190143 auc:0.9896\n",
      "epoch: 220 loss:0.189044 auc:0.9909\n",
      "epoch: 240 loss:0.190667 auc:0.9918\n",
      "epoch: 260 loss:0.186763 auc:0.9918\n",
      "epoch: 280 loss:0.188053 auc:0.9931\n",
      "epoch: 300 loss:0.185073 auc:0.9935\n",
      "epoch: 320 loss:0.184325 auc:0.9926\n",
      "epoch: 340 loss:0.183943 auc:0.9931\n",
      "epoch: 360 loss:0.183703 auc:0.9909\n"
     ]
    },
    {
     "name": "stderr",
     "output_type": "stream",
     "text": [
      " 64%|██████▍   | 589/916 [5:48:04<1:46:30, 19.54s/it]"
     ]
    },
    {
     "name": "stdout",
     "output_type": "stream",
     "text": [
      "epoch: 380 loss:0.178786 auc:0.9905\n",
      "Fit finished.\n",
      "epoch:   0 loss:0.912124 auc:0.5506\n",
      "epoch:  20 loss:0.306666 auc:0.9369\n",
      "epoch:  40 loss:0.228649 auc:0.9406\n",
      "epoch:  60 loss:0.215457 auc:0.9437\n",
      "epoch:  80 loss:0.210505 auc:0.9500\n",
      "epoch: 100 loss:0.206427 auc:0.9500\n",
      "epoch: 120 loss:0.201303 auc:0.9506\n",
      "epoch: 140 loss:0.195746 auc:0.9500\n",
      "epoch: 160 loss:0.193473 auc:0.9487\n",
      "epoch: 180 loss:0.191951 auc:0.9487\n",
      "epoch: 200 loss:0.190953 auc:0.9500\n",
      "epoch: 220 loss:0.190014 auc:0.9506\n",
      "epoch: 240 loss:0.189158 auc:0.9506\n",
      "epoch: 260 loss:0.188808 auc:0.9500\n"
     ]
    },
    {
     "name": "stderr",
     "output_type": "stream",
     "text": [
      " 64%|██████▍   | 590/916 [5:48:15<1:32:20, 16.99s/it]"
     ]
    },
    {
     "name": "stdout",
     "output_type": "stream",
     "text": [
      "epoch: 280 loss:0.186512 auc:0.9494\n",
      "Fit finished.\n",
      "epoch:   0 loss:0.947466 auc:0.7598\n",
      "epoch:  20 loss:0.323647 auc:0.9620\n",
      "epoch:  40 loss:0.241719 auc:0.9727\n",
      "epoch:  60 loss:0.217285 auc:0.9727\n",
      "epoch:  80 loss:0.209963 auc:0.9738\n",
      "epoch: 100 loss:0.205346 auc:0.9727\n",
      "epoch: 120 loss:0.200393 auc:0.9715\n",
      "epoch: 140 loss:0.195826 auc:0.9715\n",
      "epoch: 160 loss:0.193641 auc:0.9715\n",
      "epoch: 180 loss:0.192414 auc:0.9715\n"
     ]
    },
    {
     "name": "stderr",
     "output_type": "stream",
     "text": [
      " 65%|██████▍   | 591/916 [5:48:24<1:17:46, 14.36s/it]"
     ]
    },
    {
     "name": "stdout",
     "output_type": "stream",
     "text": [
      "epoch: 200 loss:0.191480 auc:0.9715\n",
      "Fit finished.\n",
      "epoch:   0 loss:0.731950 auc:0.6978\n",
      "epoch:  20 loss:0.297441 auc:0.9467\n",
      "epoch:  40 loss:0.227968 auc:0.9522\n",
      "epoch:  60 loss:0.214399 auc:0.9578\n",
      "epoch:  80 loss:0.209259 auc:0.9622\n",
      "epoch: 100 loss:0.204998 auc:0.9622\n",
      "epoch: 120 loss:0.200061 auc:0.9622\n",
      "epoch: 140 loss:0.195614 auc:0.9622\n",
      "epoch: 160 loss:0.193368 auc:0.9622\n",
      "epoch: 180 loss:0.192185 auc:0.9633\n",
      "epoch: 200 loss:0.191334 auc:0.9633\n",
      "epoch: 220 loss:0.190585 auc:0.9633\n",
      "epoch: 240 loss:0.189830 auc:0.9644\n",
      "epoch: 260 loss:0.189622 auc:0.9644\n",
      "epoch: 280 loss:0.188155 auc:0.9644\n",
      "epoch: 300 loss:0.187408 auc:0.9656\n",
      "epoch: 320 loss:0.186064 auc:0.9656\n"
     ]
    },
    {
     "name": "stderr",
     "output_type": "stream",
     "text": [
      " 65%|██████▍   | 592/916 [6:43:59<90:57:20, 1010.62s/it]"
     ]
    },
    {
     "name": "stdout",
     "output_type": "stream",
     "text": [
      "epoch: 340 loss:0.186868 auc:0.9622\n",
      "Fit finished.\n",
      "epoch:   0 loss:0.947708 auc:0.3083\n",
      "epoch:  20 loss:0.300598 auc:0.9795\n",
      "epoch:  40 loss:0.229706 auc:0.9788\n",
      "epoch:  60 loss:0.214643 auc:0.9839\n",
      "epoch:  80 loss:0.208654 auc:0.9847\n",
      "epoch: 100 loss:0.203945 auc:0.9847\n",
      "epoch: 120 loss:0.198626 auc:0.9847\n",
      "epoch: 140 loss:0.194787 auc:0.9847\n",
      "epoch: 160 loss:0.192951 auc:0.9847\n",
      "epoch: 180 loss:0.191736 auc:0.9847\n",
      "epoch: 200 loss:0.190679 auc:0.9847\n",
      "epoch: 220 loss:0.191334 auc:0.9839\n",
      "epoch: 240 loss:0.189214 auc:0.9847\n",
      "epoch: 260 loss:0.187807 auc:0.9869\n",
      "epoch: 280 loss:0.188099 auc:0.9869\n",
      "epoch: 300 loss:0.185367 auc:0.9898\n",
      "epoch: 320 loss:0.183931 auc:0.9898\n",
      "epoch: 340 loss:0.182519 auc:0.9920\n",
      "epoch: 360 loss:0.181733 auc:0.9912\n",
      "epoch: 380 loss:0.182915 auc:0.9912\n",
      "epoch: 400 loss:0.176621 auc:0.9920\n",
      "epoch: 420 loss:0.177251 auc:0.9949\n",
      "epoch: 440 loss:0.172522 auc:0.9898\n"
     ]
    },
    {
     "name": "stderr",
     "output_type": "stream",
     "text": [
      " 65%|██████▍   | 594/916 [6:44:18<49:03:52, 548.55s/it] "
     ]
    },
    {
     "name": "stdout",
     "output_type": "stream",
     "text": [
      "epoch: 460 loss:0.170951 auc:0.9890\n",
      "Fit finished.\n",
      "epoch:   0 loss:0.778086 auc:0.4418\n",
      "epoch:  20 loss:0.288325 auc:0.9371\n",
      "epoch:  40 loss:0.226475 auc:0.9392\n",
      "epoch:  60 loss:0.212433 auc:0.9360\n",
      "epoch:  80 loss:0.206324 auc:0.9356\n",
      "epoch: 100 loss:0.201098 auc:0.9348\n",
      "epoch: 120 loss:0.196153 auc:0.9351\n",
      "epoch: 140 loss:0.193865 auc:0.9346\n",
      "epoch: 160 loss:0.192234 auc:0.9344\n"
     ]
    },
    {
     "name": "stderr",
     "output_type": "stream",
     "text": [
      " 65%|██████▍   | 595/916 [6:44:26<36:57:26, 414.48s/it]"
     ]
    },
    {
     "name": "stdout",
     "output_type": "stream",
     "text": [
      "epoch: 180 loss:0.190994 auc:0.9349\n",
      "Fit finished.\n",
      "epoch:   0 loss:0.731199 auc:0.5949\n",
      "epoch:  20 loss:0.295381 auc:0.9581\n",
      "epoch:  40 loss:0.223890 auc:0.9517\n",
      "epoch:  60 loss:0.210213 auc:0.9558\n",
      "epoch:  80 loss:0.204053 auc:0.9555\n",
      "epoch: 100 loss:0.198534 auc:0.9555\n",
      "epoch: 120 loss:0.194974 auc:0.9546\n",
      "epoch: 140 loss:0.193156 auc:0.9543\n",
      "epoch: 160 loss:0.192017 auc:0.9540\n"
     ]
    },
    {
     "name": "stderr",
     "output_type": "stream",
     "text": [
      " 65%|██████▌   | 596/916 [6:44:33<27:22:50, 308.03s/it]"
     ]
    },
    {
     "name": "stdout",
     "output_type": "stream",
     "text": [
      "epoch: 180 loss:0.191119 auc:0.9535\n",
      "Fit finished.\n",
      "epoch:   0 loss:0.936192 auc:0.4554\n",
      "epoch:  20 loss:0.331751 auc:0.9620\n",
      "epoch:  40 loss:0.252402 auc:0.9703\n",
      "epoch:  60 loss:0.220957 auc:0.9691\n",
      "epoch:  80 loss:0.211884 auc:0.9560\n",
      "epoch: 100 loss:0.206693 auc:0.9536\n",
      "epoch: 120 loss:0.201760 auc:0.9536\n",
      "epoch: 140 loss:0.196782 auc:0.9548\n",
      "epoch: 160 loss:0.193936 auc:0.9548\n"
     ]
    },
    {
     "name": "stderr",
     "output_type": "stream",
     "text": [
      " 65%|██████▌   | 597/916 [6:44:42<20:04:35, 226.57s/it]"
     ]
    },
    {
     "name": "stdout",
     "output_type": "stream",
     "text": [
      "epoch: 180 loss:0.192583 auc:0.9548\n",
      "Fit finished.\n",
      "epoch:   0 loss:0.873184 auc:0.2246\n",
      "epoch:  20 loss:0.299438 auc:0.9502\n",
      "epoch:  40 loss:0.231133 auc:0.9521\n",
      "epoch:  60 loss:0.215815 auc:0.9561\n",
      "epoch:  80 loss:0.210221 auc:0.9609\n",
      "epoch: 100 loss:0.205375 auc:0.9619\n",
      "epoch: 120 loss:0.199132 auc:0.9609\n",
      "epoch: 140 loss:0.194329 auc:0.9609\n",
      "epoch: 160 loss:0.192481 auc:0.9619\n",
      "epoch: 180 loss:0.191978 auc:0.9619\n",
      "epoch: 200 loss:0.190206 auc:0.9619\n",
      "epoch: 220 loss:0.189302 auc:0.9609\n",
      "epoch: 240 loss:0.188686 auc:0.9609\n"
     ]
    },
    {
     "name": "stderr",
     "output_type": "stream",
     "text": [
      " 65%|██████▌   | 598/916 [6:44:51<14:38:36, 165.78s/it]"
     ]
    },
    {
     "name": "stdout",
     "output_type": "stream",
     "text": [
      "epoch: 260 loss:0.187504 auc:0.9600\n",
      "Fit finished.\n",
      "epoch:   0 loss:0.779437 auc:0.3195\n",
      "epoch:  20 loss:0.262300 auc:0.9635\n",
      "epoch:  40 loss:0.219138 auc:0.9718\n",
      "epoch:  60 loss:0.209594 auc:0.9707\n",
      "epoch:  80 loss:0.203621 auc:0.9704\n",
      "epoch: 100 loss:0.197136 auc:0.9699\n",
      "epoch: 120 loss:0.194029 auc:0.9696\n",
      "epoch: 140 loss:0.192381 auc:0.9688\n",
      "epoch: 160 loss:0.191261 auc:0.9696\n",
      "epoch: 180 loss:0.189986 auc:0.9688\n"
     ]
    },
    {
     "name": "stderr",
     "output_type": "stream",
     "text": [
      " 65%|██████▌   | 599/916 [6:45:01<10:41:11, 121.36s/it]"
     ]
    },
    {
     "name": "stdout",
     "output_type": "stream",
     "text": [
      "epoch: 200 loss:0.189165 auc:0.9675\n",
      "Fit finished.\n",
      "epoch:   0 loss:0.618454 auc:0.5765\n",
      "epoch:  20 loss:0.271762 auc:0.9796\n",
      "epoch:  40 loss:0.220848 auc:0.9923\n",
      "epoch:  60 loss:0.209456 auc:0.9923\n",
      "epoch:  80 loss:0.202122 auc:0.9923\n",
      "epoch: 100 loss:0.195911 auc:0.9923\n",
      "epoch: 120 loss:0.193375 auc:0.9923\n",
      "epoch: 140 loss:0.196495 auc:0.9923\n",
      "epoch: 160 loss:0.190739 auc:0.9923\n",
      "epoch: 180 loss:0.189558 auc:0.9923\n",
      "epoch: 200 loss:0.188141 auc:0.9923\n",
      "epoch: 220 loss:0.188011 auc:0.9923\n",
      "epoch: 240 loss:0.185949 auc:0.9936\n",
      "epoch: 260 loss:0.185931 auc:0.9949\n",
      "epoch: 280 loss:0.181543 auc:0.9949\n",
      "epoch: 300 loss:0.180661 auc:0.9923\n"
     ]
    },
    {
     "name": "stderr",
     "output_type": "stream",
     "text": [
      " 66%|██████▌   | 600/916 [6:45:17<7:57:31, 90.67s/it]  "
     ]
    },
    {
     "name": "stdout",
     "output_type": "stream",
     "text": [
      "epoch: 320 loss:0.179575 auc:0.9898\n",
      "Fit finished.\n",
      "epoch:   0 loss:1.075822 auc:0.7472\n",
      "epoch:  20 loss:0.325656 auc:0.9555\n",
      "epoch:  40 loss:0.242548 auc:0.9525\n",
      "epoch:  60 loss:0.220017 auc:0.9520\n",
      "epoch:  80 loss:0.211994 auc:0.9543\n",
      "epoch: 100 loss:0.207230 auc:0.9552\n",
      "epoch: 120 loss:0.202660 auc:0.9564\n",
      "epoch: 140 loss:0.197932 auc:0.9571\n",
      "epoch: 160 loss:0.194791 auc:0.9575\n",
      "epoch: 180 loss:0.193111 auc:0.9580\n",
      "epoch: 200 loss:0.191901 auc:0.9573\n",
      "epoch: 220 loss:0.191369 auc:0.9568\n",
      "epoch: 240 loss:0.191242 auc:0.9566\n",
      "epoch: 260 loss:0.189860 auc:0.9555\n"
     ]
    },
    {
     "name": "stderr",
     "output_type": "stream",
     "text": [
      " 66%|██████▌   | 601/916 [6:45:31<5:59:24, 68.46s/it]"
     ]
    },
    {
     "name": "stdout",
     "output_type": "stream",
     "text": [
      "epoch: 280 loss:0.189178 auc:0.9525\n",
      "Fit finished.\n",
      "epoch:   0 loss:0.650503 auc:0.6424\n",
      "epoch:  20 loss:0.318804 auc:0.9627\n",
      "epoch:  40 loss:0.240325 auc:0.9692\n",
      "epoch:  60 loss:0.216863 auc:0.9704\n",
      "epoch:  80 loss:0.208638 auc:0.9715\n",
      "epoch: 100 loss:0.202887 auc:0.9715\n",
      "epoch: 120 loss:0.196982 auc:0.9715\n",
      "epoch: 140 loss:0.193905 auc:0.9715\n",
      "epoch: 160 loss:0.192344 auc:0.9712\n",
      "epoch: 180 loss:0.191419 auc:0.9704\n",
      "epoch: 200 loss:0.190624 auc:0.9696\n"
     ]
    },
    {
     "name": "stderr",
     "output_type": "stream",
     "text": [
      " 66%|██████▌   | 602/916 [6:45:40<4:25:54, 50.81s/it]"
     ]
    },
    {
     "name": "stdout",
     "output_type": "stream",
     "text": [
      "epoch: 220 loss:0.189927 auc:0.9692\n",
      "Fit finished.\n",
      "epoch:   0 loss:0.640217 auc:0.1894\n",
      "epoch:  20 loss:0.281628 auc:0.9596\n",
      "epoch:  40 loss:0.226538 auc:0.9617\n",
      "epoch:  60 loss:0.212408 auc:0.9622\n",
      "epoch:  80 loss:0.206854 auc:0.9628\n",
      "epoch: 100 loss:0.201533 auc:0.9625\n",
      "epoch: 120 loss:0.196051 auc:0.9631\n",
      "epoch: 140 loss:0.193427 auc:0.9634\n",
      "epoch: 160 loss:0.191887 auc:0.9625\n",
      "epoch: 180 loss:0.190839 auc:0.9605\n"
     ]
    },
    {
     "name": "stderr",
     "output_type": "stream",
     "text": [
      " 66%|██████▌   | 603/916 [6:45:48<3:18:12, 38.00s/it]"
     ]
    },
    {
     "name": "stdout",
     "output_type": "stream",
     "text": [
      "epoch: 200 loss:0.189521 auc:0.9557\n",
      "Fit finished.\n",
      "epoch:   0 loss:0.680467 auc:0.8005\n",
      "epoch:  20 loss:0.318606 auc:0.9683\n",
      "epoch:  40 loss:0.238935 auc:0.9722\n",
      "epoch:  60 loss:0.217686 auc:0.9711\n",
      "epoch:  80 loss:0.209408 auc:0.9694\n",
      "epoch: 100 loss:0.203772 auc:0.9694\n",
      "epoch: 120 loss:0.198292 auc:0.9705\n",
      "epoch: 140 loss:0.194600 auc:0.9700\n",
      "epoch: 160 loss:0.192983 auc:0.9694\n",
      "epoch: 180 loss:0.191914 auc:0.9688\n"
     ]
    },
    {
     "name": "stderr",
     "output_type": "stream",
     "text": [
      " 66%|██████▌   | 604/916 [6:45:57<2:33:23, 29.50s/it]"
     ]
    },
    {
     "name": "stdout",
     "output_type": "stream",
     "text": [
      "epoch: 200 loss:0.191071 auc:0.9688\n",
      "Fit finished.\n",
      "epoch:   0 loss:0.658419 auc:0.4665\n",
      "epoch:  20 loss:0.263654 auc:0.9285\n",
      "epoch:  40 loss:0.222037 auc:0.9486\n",
      "epoch:  60 loss:0.211688 auc:0.9549\n",
      "epoch:  80 loss:0.206683 auc:0.9546\n",
      "epoch: 100 loss:0.201023 auc:0.9549\n",
      "epoch: 120 loss:0.195460 auc:0.9543\n",
      "epoch: 140 loss:0.192877 auc:0.9532\n",
      "epoch: 160 loss:0.192484 auc:0.9529\n",
      "epoch: 180 loss:0.190254 auc:0.9523\n",
      "epoch: 200 loss:0.187884 auc:0.9506\n"
     ]
    },
    {
     "name": "stderr",
     "output_type": "stream",
     "text": [
      " 66%|██████▌   | 605/916 [6:46:10<2:06:55, 24.49s/it]"
     ]
    },
    {
     "name": "stdout",
     "output_type": "stream",
     "text": [
      "epoch: 220 loss:0.185729 auc:0.9497\n",
      "Fit finished.\n",
      "epoch:   0 loss:0.914992 auc:0.2637\n",
      "epoch:  20 loss:0.301532 auc:0.9518\n",
      "epoch:  40 loss:0.226406 auc:0.9584\n",
      "epoch:  60 loss:0.213944 auc:0.9622\n",
      "epoch:  80 loss:0.208018 auc:0.9643\n",
      "epoch: 100 loss:0.203232 auc:0.9634\n",
      "epoch: 120 loss:0.198014 auc:0.9637\n",
      "epoch: 140 loss:0.194372 auc:0.9640\n",
      "epoch: 160 loss:0.192764 auc:0.9637\n",
      "epoch: 180 loss:0.191584 auc:0.9634\n",
      "epoch: 200 loss:0.190687 auc:0.9637\n",
      "epoch: 220 loss:0.189845 auc:0.9622\n"
     ]
    },
    {
     "name": "stderr",
     "output_type": "stream",
     "text": [
      " 66%|██████▌   | 606/916 [6:46:22<1:47:28, 20.80s/it]"
     ]
    },
    {
     "name": "stdout",
     "output_type": "stream",
     "text": [
      "epoch: 240 loss:0.189886 auc:0.9611\n",
      "Fit finished.\n",
      "epoch:   0 loss:1.249784 auc:0.3175\n",
      "epoch:  20 loss:0.292516 auc:0.9671\n",
      "epoch:  40 loss:0.228554 auc:0.9813\n",
      "epoch:  60 loss:0.215162 auc:0.9824\n",
      "epoch:  80 loss:0.210184 auc:0.9841\n",
      "epoch: 100 loss:0.206020 auc:0.9836\n",
      "epoch: 120 loss:0.200582 auc:0.9830\n",
      "epoch: 140 loss:0.195255 auc:0.9830\n",
      "epoch: 160 loss:0.193132 auc:0.9836\n",
      "epoch: 180 loss:0.192326 auc:0.9836\n",
      "epoch: 200 loss:0.191423 auc:0.9836\n",
      "epoch: 220 loss:0.190645 auc:0.9836\n",
      "epoch: 240 loss:0.189869 auc:0.9847\n",
      "epoch: 260 loss:0.192007 auc:0.9847\n",
      "epoch: 280 loss:0.188237 auc:0.9847\n",
      "epoch: 300 loss:0.187601 auc:0.9847\n",
      "epoch: 320 loss:0.191930 auc:0.9853\n",
      "epoch: 340 loss:0.187554 auc:0.9853\n",
      "epoch: 360 loss:0.185081 auc:0.9847\n"
     ]
    },
    {
     "name": "stderr",
     "output_type": "stream",
     "text": [
      " 66%|██████▋   | 607/916 [6:46:36<1:37:00, 18.84s/it]"
     ]
    },
    {
     "name": "stdout",
     "output_type": "stream",
     "text": [
      "epoch: 380 loss:0.183551 auc:0.9813\n",
      "Fit finished.\n",
      "epoch:   0 loss:0.864161 auc:0.6528\n",
      "epoch:  20 loss:0.317862 auc:0.9557\n",
      "epoch:  40 loss:0.233043 auc:0.9629\n",
      "epoch:  60 loss:0.218151 auc:0.9659\n",
      "epoch:  80 loss:0.212364 auc:0.9675\n",
      "epoch: 100 loss:0.208843 auc:0.9678\n",
      "epoch: 120 loss:0.205082 auc:0.9680\n",
      "epoch: 140 loss:0.200203 auc:0.9683\n",
      "epoch: 160 loss:0.195269 auc:0.9688\n",
      "epoch: 180 loss:0.193207 auc:0.9688\n",
      "epoch: 200 loss:0.191917 auc:0.9680\n",
      "epoch: 220 loss:0.191026 auc:0.9686\n",
      "epoch: 240 loss:0.190118 auc:0.9686\n"
     ]
    },
    {
     "name": "stderr",
     "output_type": "stream",
     "text": [
      " 66%|██████▋   | 608/916 [6:46:48<1:25:11, 16.59s/it]"
     ]
    },
    {
     "name": "stdout",
     "output_type": "stream",
     "text": [
      "epoch: 260 loss:0.189464 auc:0.9672\n",
      "Fit finished.\n",
      "epoch:   0 loss:0.831470 auc:0.8199\n",
      "epoch:  20 loss:0.306560 auc:0.9549\n",
      "epoch:  40 loss:0.235010 auc:0.9543\n",
      "epoch:  60 loss:0.217860 auc:0.9503\n",
      "epoch:  80 loss:0.209905 auc:0.9497\n",
      "epoch: 100 loss:0.204408 auc:0.9494\n",
      "epoch: 120 loss:0.198606 auc:0.9500\n",
      "epoch: 140 loss:0.194351 auc:0.9503\n",
      "epoch: 160 loss:0.192539 auc:0.9506\n"
     ]
    },
    {
     "name": "stderr",
     "output_type": "stream",
     "text": [
      " 66%|██████▋   | 609/916 [6:46:57<1:13:46, 14.42s/it]"
     ]
    },
    {
     "name": "stdout",
     "output_type": "stream",
     "text": [
      "epoch: 180 loss:0.191567 auc:0.9500\n",
      "Fit finished.\n",
      "epoch:   0 loss:1.285781 auc:0.7377\n",
      "epoch:  20 loss:0.325770 auc:0.9565\n",
      "epoch:  40 loss:0.250369 auc:0.9802\n",
      "epoch:  60 loss:0.222744 auc:0.9825\n",
      "epoch:  80 loss:0.212391 auc:0.9825\n",
      "epoch: 100 loss:0.206882 auc:0.9820\n",
      "epoch: 120 loss:0.201247 auc:0.9820\n",
      "epoch: 140 loss:0.195922 auc:0.9820\n",
      "epoch: 160 loss:0.193615 auc:0.9820\n",
      "epoch: 180 loss:0.192412 auc:0.9825\n",
      "epoch: 200 loss:0.191445 auc:0.9830\n",
      "epoch: 220 loss:0.190726 auc:0.9825\n",
      "epoch: 240 loss:0.190075 auc:0.9835\n",
      "epoch: 260 loss:0.189956 auc:0.9835\n",
      "epoch: 280 loss:0.188866 auc:0.9835\n",
      "epoch: 300 loss:0.188089 auc:0.9830\n",
      "epoch: 320 loss:0.198771 auc:0.9830\n",
      "epoch: 340 loss:0.186853 auc:0.9825\n"
     ]
    },
    {
     "name": "stderr",
     "output_type": "stream",
     "text": [
      " 67%|██████▋   | 610/916 [6:47:14<1:17:31, 15.20s/it]"
     ]
    },
    {
     "name": "stdout",
     "output_type": "stream",
     "text": [
      "epoch: 360 loss:0.185696 auc:0.9825\n",
      "Fit finished.\n",
      "epoch:   0 loss:0.971504 auc:0.1886\n",
      "epoch:  20 loss:0.291288 auc:0.9839\n",
      "epoch:  40 loss:0.229315 auc:0.9901\n",
      "epoch:  60 loss:0.214817 auc:0.9901\n",
      "epoch:  80 loss:0.209302 auc:0.9901\n",
      "epoch: 100 loss:0.204747 auc:0.9905\n",
      "epoch: 120 loss:0.198705 auc:0.9910\n",
      "epoch: 140 loss:0.194244 auc:0.9905\n",
      "epoch: 160 loss:0.192560 auc:0.9905\n",
      "epoch: 180 loss:0.191379 auc:0.9901\n",
      "epoch: 200 loss:0.190471 auc:0.9910\n",
      "epoch: 220 loss:0.189662 auc:0.9910\n"
     ]
    },
    {
     "name": "stderr",
     "output_type": "stream",
     "text": [
      " 67%|██████▋   | 611/916 [6:47:23<1:07:23, 13.26s/it]"
     ]
    },
    {
     "name": "stdout",
     "output_type": "stream",
     "text": [
      "epoch: 240 loss:0.189627 auc:0.9896\n",
      "Fit finished.\n",
      "epoch:   0 loss:0.674557 auc:0.4268\n",
      "epoch:  20 loss:0.302865 auc:0.9336\n",
      "epoch:  40 loss:0.226974 auc:0.9392\n",
      "epoch:  60 loss:0.210671 auc:0.9480\n",
      "epoch:  80 loss:0.204079 auc:0.9516\n",
      "epoch: 100 loss:0.198250 auc:0.9516\n",
      "epoch: 120 loss:0.194649 auc:0.9516\n",
      "epoch: 140 loss:0.192964 auc:0.9516\n",
      "epoch: 160 loss:0.191739 auc:0.9516\n",
      "epoch: 180 loss:0.191369 auc:0.9516\n",
      "epoch: 200 loss:0.189965 auc:0.9496\n",
      "epoch: 220 loss:0.191456 auc:0.9500\n"
     ]
    },
    {
     "name": "stderr",
     "output_type": "stream",
     "text": [
      " 67%|██████▋   | 612/916 [6:47:35<1:05:33, 12.94s/it]"
     ]
    },
    {
     "name": "stdout",
     "output_type": "stream",
     "text": [
      "epoch: 240 loss:0.188256 auc:0.9468\n",
      "Fit finished.\n",
      "epoch:   0 loss:0.655005 auc:0.2998\n",
      "epoch:  20 loss:0.252718 auc:0.8975\n",
      "epoch:  40 loss:0.216798 auc:0.8978\n",
      "epoch:  60 loss:0.205965 auc:0.9010\n",
      "epoch:  80 loss:0.198116 auc:0.8982\n",
      "epoch: 100 loss:0.194514 auc:0.8960\n",
      "epoch: 120 loss:0.192765 auc:0.8960\n",
      "epoch: 140 loss:0.191310 auc:0.8968\n",
      "epoch: 160 loss:0.190572 auc:0.8975\n",
      "epoch: 180 loss:0.188740 auc:0.8978\n",
      "epoch: 200 loss:0.189769 auc:0.8978\n"
     ]
    },
    {
     "name": "stderr",
     "output_type": "stream",
     "text": [
      " 67%|██████▋   | 613/916 [6:47:47<1:03:49, 12.64s/it]"
     ]
    },
    {
     "name": "stdout",
     "output_type": "stream",
     "text": [
      "epoch: 220 loss:0.188440 auc:0.8953\n",
      "Fit finished.\n",
      "epoch:   0 loss:0.695033 auc:0.2231\n",
      "epoch:  20 loss:0.286737 auc:0.9441\n",
      "epoch:  40 loss:0.222937 auc:0.9560\n",
      "epoch:  60 loss:0.212506 auc:0.9572\n",
      "epoch:  80 loss:0.206332 auc:0.9578\n",
      "epoch: 100 loss:0.199418 auc:0.9566\n",
      "epoch: 120 loss:0.194497 auc:0.9572\n",
      "epoch: 140 loss:0.192368 auc:0.9566\n",
      "epoch: 160 loss:0.191118 auc:0.9572\n",
      "epoch: 180 loss:0.189851 auc:0.9548\n"
     ]
    },
    {
     "name": "stderr",
     "output_type": "stream",
     "text": [
      " 67%|██████▋   | 614/916 [6:47:56<58:06, 11.54s/it]  "
     ]
    },
    {
     "name": "stdout",
     "output_type": "stream",
     "text": [
      "epoch: 200 loss:0.189037 auc:0.9477\n",
      "Fit finished.\n",
      "epoch:   0 loss:0.781788 auc:0.3802\n",
      "epoch:  20 loss:0.292480 auc:0.9709\n",
      "epoch:  40 loss:0.225507 auc:0.9654\n",
      "epoch:  60 loss:0.212593 auc:0.9654\n",
      "epoch:  80 loss:0.206146 auc:0.9679\n",
      "epoch: 100 loss:0.200392 auc:0.9674\n",
      "epoch: 120 loss:0.195630 auc:0.9669\n",
      "epoch: 140 loss:0.193456 auc:0.9664\n",
      "epoch: 160 loss:0.192200 auc:0.9674\n"
     ]
    },
    {
     "name": "stderr",
     "output_type": "stream",
     "text": [
      " 67%|██████▋   | 615/916 [6:48:04<52:57, 10.56s/it]"
     ]
    },
    {
     "name": "stdout",
     "output_type": "stream",
     "text": [
      "epoch: 180 loss:0.191969 auc:0.9669\n",
      "Fit finished.\n",
      "epoch:   0 loss:0.844862 auc:0.2259\n",
      "epoch:  20 loss:0.275165 auc:0.9445\n",
      "epoch:  40 loss:0.222596 auc:0.9578\n",
      "epoch:  60 loss:0.211706 auc:0.9604\n",
      "epoch:  80 loss:0.206099 auc:0.9574\n",
      "epoch: 100 loss:0.199574 auc:0.9578\n",
      "epoch: 120 loss:0.194772 auc:0.9572\n",
      "epoch: 140 loss:0.192669 auc:0.9574\n",
      "epoch: 160 loss:0.192078 auc:0.9580\n",
      "epoch: 180 loss:0.190354 auc:0.9587\n",
      "epoch: 200 loss:0.188858 auc:0.9613\n",
      "epoch: 220 loss:0.187317 auc:0.9619\n",
      "epoch: 240 loss:0.187572 auc:0.9583\n"
     ]
    },
    {
     "name": "stderr",
     "output_type": "stream",
     "text": [
      " 67%|██████▋   | 616/916 [6:48:15<54:04, 10.82s/it]"
     ]
    },
    {
     "name": "stdout",
     "output_type": "stream",
     "text": [
      "epoch: 260 loss:0.184208 auc:0.9557\n",
      "Fit finished.\n",
      "epoch:   0 loss:0.530364 auc:0.5950\n",
      "epoch:  20 loss:0.253880 auc:0.9862\n",
      "epoch:  40 loss:0.218379 auc:0.9862\n",
      "epoch:  60 loss:0.208141 auc:0.9844\n",
      "epoch:  80 loss:0.201292 auc:0.9862\n",
      "epoch: 100 loss:0.195740 auc:0.9862\n",
      "epoch: 120 loss:0.193242 auc:0.9871\n",
      "epoch: 140 loss:0.191664 auc:0.9871\n",
      "epoch: 160 loss:0.190464 auc:0.9871\n"
     ]
    },
    {
     "name": "stderr",
     "output_type": "stream",
     "text": [
      " 67%|██████▋   | 617/916 [6:48:24<51:11, 10.27s/it]"
     ]
    },
    {
     "name": "stdout",
     "output_type": "stream",
     "text": [
      "epoch: 180 loss:0.189572 auc:0.9853\n",
      "Fit finished.\n",
      "epoch:   0 loss:1.035483 auc:0.3226\n",
      "epoch:  20 loss:0.338331 auc:0.9647\n",
      "epoch:  40 loss:0.252383 auc:0.9718\n",
      "epoch:  60 loss:0.222396 auc:0.9733\n",
      "epoch:  80 loss:0.213775 auc:0.9739\n",
      "epoch: 100 loss:0.209147 auc:0.9750\n",
      "epoch: 120 loss:0.204858 auc:0.9750\n",
      "epoch: 140 loss:0.199495 auc:0.9744\n",
      "epoch: 160 loss:0.194884 auc:0.9741\n",
      "epoch: 180 loss:0.192931 auc:0.9733\n",
      "epoch: 200 loss:0.191808 auc:0.9733\n"
     ]
    },
    {
     "name": "stderr",
     "output_type": "stream",
     "text": [
      " 67%|██████▋   | 618/916 [6:48:39<56:44, 11.43s/it]"
     ]
    },
    {
     "name": "stdout",
     "output_type": "stream",
     "text": [
      "epoch: 220 loss:0.190929 auc:0.9724\n",
      "Fit finished.\n",
      "epoch:   0 loss:0.640174 auc:0.5884\n",
      "epoch:  20 loss:0.298421 auc:0.9881\n",
      "epoch:  40 loss:0.224337 auc:0.9827\n",
      "epoch:  60 loss:0.210666 auc:0.9822\n",
      "epoch:  80 loss:0.203664 auc:0.9822\n",
      "epoch: 100 loss:0.197260 auc:0.9816\n",
      "epoch: 120 loss:0.193850 auc:0.9822\n",
      "epoch: 140 loss:0.192205 auc:0.9822\n",
      "epoch: 160 loss:0.191651 auc:0.9827\n"
     ]
    },
    {
     "name": "stderr",
     "output_type": "stream",
     "text": [
      " 68%|██████▊   | 619/916 [6:48:49<55:33, 11.22s/it]"
     ]
    },
    {
     "name": "stdout",
     "output_type": "stream",
     "text": [
      "epoch: 180 loss:0.190152 auc:0.9822\n",
      "Fit finished.\n",
      "epoch:   0 loss:0.593022 auc:0.3086\n",
      "epoch:  20 loss:0.288384 auc:0.9180\n",
      "epoch:  40 loss:0.227272 auc:0.9609\n",
      "epoch:  60 loss:0.211000 auc:0.9688\n",
      "epoch:  80 loss:0.202807 auc:0.9766\n",
      "epoch: 100 loss:0.196414 auc:0.9766\n",
      "epoch: 120 loss:0.193782 auc:0.9766\n",
      "epoch: 140 loss:0.192285 auc:0.9766\n",
      "epoch: 160 loss:0.193630 auc:0.9766\n",
      "epoch: 180 loss:0.190394 auc:0.9766\n",
      "epoch: 200 loss:0.189316 auc:0.9766\n",
      "epoch: 220 loss:0.189201 auc:0.9727\n"
     ]
    },
    {
     "name": "stderr",
     "output_type": "stream",
     "text": [
      " 68%|██████▊   | 620/916 [6:48:59<53:16, 10.80s/it]"
     ]
    },
    {
     "name": "stdout",
     "output_type": "stream",
     "text": [
      "epoch: 240 loss:0.189608 auc:0.9727\n",
      "Fit finished.\n",
      "epoch:   0 loss:0.902178 auc:0.6605\n",
      "epoch:  20 loss:0.321026 auc:0.9611\n",
      "epoch:  40 loss:0.245129 auc:0.9633\n",
      "epoch:  60 loss:0.219559 auc:0.9597\n",
      "epoch:  80 loss:0.209660 auc:0.9597\n",
      "epoch: 100 loss:0.203376 auc:0.9593\n",
      "epoch: 120 loss:0.197397 auc:0.9593\n",
      "epoch: 140 loss:0.194052 auc:0.9593\n",
      "epoch: 160 loss:0.192469 auc:0.9597\n"
     ]
    },
    {
     "name": "stderr",
     "output_type": "stream",
     "text": [
      " 68%|██████▊   | 621/916 [6:49:04<44:55,  9.14s/it]"
     ]
    },
    {
     "name": "stdout",
     "output_type": "stream",
     "text": [
      "epoch: 180 loss:0.191541 auc:0.9593\n",
      "Fit finished.\n",
      "epoch:   0 loss:1.055573 auc:0.4594\n",
      "epoch:  20 loss:0.329640 auc:0.9594\n",
      "epoch:  40 loss:0.244968 auc:0.9694\n",
      "epoch:  60 loss:0.217085 auc:0.9681\n",
      "epoch:  80 loss:0.208403 auc:0.9687\n",
      "epoch: 100 loss:0.202206 auc:0.9706\n",
      "epoch: 120 loss:0.196552 auc:0.9706\n",
      "epoch: 140 loss:0.193988 auc:0.9700\n",
      "epoch: 160 loss:0.192601 auc:0.9706\n",
      "epoch: 180 loss:0.191585 auc:0.9719\n",
      "epoch: 200 loss:0.191057 auc:0.9731\n",
      "epoch: 220 loss:0.189924 auc:0.9744\n",
      "epoch: 240 loss:0.190043 auc:0.9769\n",
      "epoch: 260 loss:0.188804 auc:0.9806\n",
      "epoch: 280 loss:0.188251 auc:0.9831\n",
      "epoch: 300 loss:0.186923 auc:0.9800\n",
      "epoch: 320 loss:0.185246 auc:0.9756\n",
      "epoch: 340 loss:0.193711 auc:0.9744\n",
      "epoch: 360 loss:0.185576 auc:0.9775\n"
     ]
    },
    {
     "name": "stderr",
     "output_type": "stream",
     "text": [
      " 68%|██████▊   | 622/916 [6:49:17<50:17, 10.26s/it]"
     ]
    },
    {
     "name": "stdout",
     "output_type": "stream",
     "text": [
      "epoch: 380 loss:0.181885 auc:0.9700\n",
      "Fit finished.\n",
      "epoch:   0 loss:0.560305 auc:0.5895\n",
      "epoch:  20 loss:0.240772 auc:0.9608\n",
      "epoch:  40 loss:0.215153 auc:0.9652\n",
      "epoch:  60 loss:0.207286 auc:0.9659\n",
      "epoch:  80 loss:0.200289 auc:0.9659\n",
      "epoch: 100 loss:0.194650 auc:0.9640\n",
      "epoch: 120 loss:0.192465 auc:0.9636\n",
      "epoch: 140 loss:0.190855 auc:0.9601\n",
      "epoch: 160 loss:0.189922 auc:0.9560\n"
     ]
    },
    {
     "name": "stderr",
     "output_type": "stream",
     "text": [
      " 68%|██████▊   | 623/916 [6:49:25<45:58,  9.42s/it]"
     ]
    },
    {
     "name": "stdout",
     "output_type": "stream",
     "text": [
      "epoch: 180 loss:0.188057 auc:0.9367\n",
      "Fit finished.\n",
      "epoch:   0 loss:0.887117 auc:0.6434\n",
      "epoch:  20 loss:0.323510 auc:0.8957\n",
      "epoch:  40 loss:0.237086 auc:0.9048\n",
      "epoch:  60 loss:0.217710 auc:0.9042\n",
      "epoch:  80 loss:0.210141 auc:0.9053\n",
      "epoch: 100 loss:0.205267 auc:0.9059\n",
      "epoch: 120 loss:0.199860 auc:0.9059\n",
      "epoch: 140 loss:0.195250 auc:0.9065\n",
      "epoch: 160 loss:0.193246 auc:0.9065\n",
      "epoch: 180 loss:0.191992 auc:0.9070\n",
      "epoch: 200 loss:0.192248 auc:0.9065\n",
      "epoch: 220 loss:0.190457 auc:0.9065\n",
      "epoch: 240 loss:0.189681 auc:0.9059\n"
     ]
    },
    {
     "name": "stderr",
     "output_type": "stream",
     "text": [
      " 68%|██████▊   | 624/916 [6:49:35<47:51,  9.84s/it]"
     ]
    },
    {
     "name": "stdout",
     "output_type": "stream",
     "text": [
      "epoch: 260 loss:0.189308 auc:0.9002\n",
      "Fit finished.\n",
      "epoch:   0 loss:1.579617 auc:0.7783\n",
      "epoch:  20 loss:0.327114 auc:0.9616\n",
      "epoch:  40 loss:0.251159 auc:0.9654\n",
      "epoch:  60 loss:0.220022 auc:0.9659\n",
      "epoch:  80 loss:0.209552 auc:0.9648\n",
      "epoch: 100 loss:0.203940 auc:0.9643\n",
      "epoch: 120 loss:0.198699 auc:0.9648\n",
      "epoch: 140 loss:0.195014 auc:0.9638\n",
      "epoch: 160 loss:0.193316 auc:0.9638\n",
      "epoch: 180 loss:0.192222 auc:0.9643\n"
     ]
    },
    {
     "name": "stderr",
     "output_type": "stream",
     "text": [
      " 68%|██████▊   | 625/916 [6:49:42<43:19,  8.93s/it]"
     ]
    },
    {
     "name": "stdout",
     "output_type": "stream",
     "text": [
      "epoch: 200 loss:0.191354 auc:0.9648\n",
      "Fit finished.\n",
      "epoch:   0 loss:0.795209 auc:0.4485\n",
      "epoch:  20 loss:0.318637 auc:0.9431\n",
      "epoch:  40 loss:0.234795 auc:0.9450\n",
      "epoch:  60 loss:0.213225 auc:0.9469\n",
      "epoch:  80 loss:0.204195 auc:0.9483\n",
      "epoch: 100 loss:0.197240 auc:0.9495\n",
      "epoch: 120 loss:0.194061 auc:0.9493\n",
      "epoch: 140 loss:0.192432 auc:0.9501\n",
      "epoch: 160 loss:0.191752 auc:0.9490\n",
      "epoch: 180 loss:0.190692 auc:0.9483\n",
      "epoch: 200 loss:0.190670 auc:0.9488\n",
      "epoch: 220 loss:0.189421 auc:0.9475\n"
     ]
    },
    {
     "name": "stderr",
     "output_type": "stream",
     "text": [
      " 68%|██████▊   | 626/916 [6:49:49<40:31,  8.38s/it]"
     ]
    },
    {
     "name": "stdout",
     "output_type": "stream",
     "text": [
      "epoch: 240 loss:0.189165 auc:0.9466\n",
      "Fit finished.\n",
      "epoch:   0 loss:0.707239 auc:0.3463\n",
      "epoch:  20 loss:0.310251 auc:0.9489\n",
      "epoch:  40 loss:0.229679 auc:0.9512\n",
      "epoch:  60 loss:0.212888 auc:0.9548\n",
      "epoch:  80 loss:0.205913 auc:0.9548\n",
      "epoch: 100 loss:0.199501 auc:0.9543\n",
      "epoch: 120 loss:0.194844 auc:0.9546\n",
      "epoch: 140 loss:0.192919 auc:0.9538\n",
      "epoch: 160 loss:0.191743 auc:0.9522\n",
      "epoch: 180 loss:0.190924 auc:0.9524\n"
     ]
    },
    {
     "name": "stderr",
     "output_type": "stream",
     "text": [
      " 68%|██████▊   | 627/916 [6:49:55<37:02,  7.69s/it]"
     ]
    },
    {
     "name": "stdout",
     "output_type": "stream",
     "text": [
      "epoch: 200 loss:0.190231 auc:0.9510\n",
      "Fit finished.\n",
      "epoch:   0 loss:0.784996 auc:0.4396\n",
      "epoch:  20 loss:0.302289 auc:0.9346\n",
      "epoch:  40 loss:0.228690 auc:0.9341\n",
      "epoch:  60 loss:0.212251 auc:0.9345\n",
      "epoch:  80 loss:0.204729 auc:0.9359\n",
      "epoch: 100 loss:0.198555 auc:0.9362\n",
      "epoch: 120 loss:0.194522 auc:0.9368\n",
      "epoch: 140 loss:0.192689 auc:0.9371\n",
      "epoch: 160 loss:0.191441 auc:0.9360\n"
     ]
    },
    {
     "name": "stderr",
     "output_type": "stream",
     "text": [
      " 69%|██████▊   | 628/916 [6:50:02<34:32,  7.19s/it]"
     ]
    },
    {
     "name": "stdout",
     "output_type": "stream",
     "text": [
      "epoch: 180 loss:0.192410 auc:0.9343\n",
      "Fit finished.\n",
      "epoch:   0 loss:0.596516 auc:0.6031\n",
      "epoch:  20 loss:0.258763 auc:0.9632\n",
      "epoch:  40 loss:0.217888 auc:0.9672\n",
      "epoch:  60 loss:0.208116 auc:0.9691\n",
      "epoch:  80 loss:0.201225 auc:0.9680\n",
      "epoch: 100 loss:0.195636 auc:0.9688\n",
      "epoch: 120 loss:0.193304 auc:0.9691\n",
      "epoch: 140 loss:0.191730 auc:0.9699\n",
      "epoch: 160 loss:0.191448 auc:0.9707\n",
      "epoch: 180 loss:0.189902 auc:0.9715\n",
      "epoch: 200 loss:0.189374 auc:0.9718\n",
      "epoch: 220 loss:0.187774 auc:0.9715\n",
      "epoch: 240 loss:0.186569 auc:0.9721\n",
      "epoch: 260 loss:0.184187 auc:0.9710\n",
      "epoch: 280 loss:0.183980 auc:0.9712\n",
      "epoch: 300 loss:0.180186 auc:0.9739\n",
      "epoch: 320 loss:0.177680 auc:0.9721\n",
      "epoch: 340 loss:0.175383 auc:0.9747\n"
     ]
    },
    {
     "name": "stderr",
     "output_type": "stream",
     "text": [
      " 69%|██████▊   | 629/916 [6:50:17<46:07,  9.64s/it]"
     ]
    },
    {
     "name": "stdout",
     "output_type": "stream",
     "text": [
      "epoch: 360 loss:0.178625 auc:0.9691\n",
      "Fit finished.\n",
      "epoch:   0 loss:0.670976 auc:0.2410\n",
      "epoch:  20 loss:0.247695 auc:0.9651\n",
      "epoch:  40 loss:0.218678 auc:0.9615\n",
      "epoch:  60 loss:0.210118 auc:0.9625\n",
      "epoch:  80 loss:0.204316 auc:0.9619\n",
      "epoch: 100 loss:0.197033 auc:0.9625\n",
      "epoch: 120 loss:0.193647 auc:0.9627\n",
      "epoch: 140 loss:0.192133 auc:0.9625\n",
      "epoch: 160 loss:0.191358 auc:0.9628\n"
     ]
    },
    {
     "name": "stderr",
     "output_type": "stream",
     "text": [
      " 69%|██████▉   | 630/916 [6:51:02<1:37:13, 20.40s/it]"
     ]
    },
    {
     "name": "stdout",
     "output_type": "stream",
     "text": [
      "epoch: 180 loss:0.190309 auc:0.9623\n",
      "Fit finished.\n",
      "epoch:   0 loss:0.769275 auc:0.5748\n",
      "epoch:  20 loss:0.313716 auc:0.8964\n",
      "epoch:  40 loss:0.231067 auc:0.8994\n",
      "epoch:  60 loss:0.215404 auc:0.9011\n",
      "epoch:  80 loss:0.208000 auc:0.9018\n",
      "epoch: 100 loss:0.202221 auc:0.9005\n",
      "epoch: 120 loss:0.196378 auc:0.9003\n",
      "epoch: 140 loss:0.193475 auc:0.9010\n",
      "epoch: 160 loss:0.192058 auc:0.9033\n",
      "epoch: 180 loss:0.191049 auc:0.9057\n",
      "epoch: 200 loss:0.190749 auc:0.9061\n",
      "epoch: 220 loss:0.189630 auc:0.9054\n",
      "epoch: 240 loss:0.188913 auc:0.9048\n",
      "epoch: 260 loss:0.188879 auc:0.9030\n"
     ]
    },
    {
     "name": "stderr",
     "output_type": "stream",
     "text": [
      " 69%|██████▉   | 631/916 [6:51:13<1:23:21, 17.55s/it]"
     ]
    },
    {
     "name": "stdout",
     "output_type": "stream",
     "text": [
      "epoch: 280 loss:0.187272 auc:0.8980\n",
      "Fit finished.\n",
      "epoch:   0 loss:1.046969 auc:0.8683\n",
      "epoch:  20 loss:0.318469 auc:0.9049\n",
      "epoch:  40 loss:0.240084 auc:0.9094\n",
      "epoch:  60 loss:0.219989 auc:0.9146\n",
      "epoch:  80 loss:0.211463 auc:0.9158\n",
      "epoch: 100 loss:0.206135 auc:0.9159\n",
      "epoch: 120 loss:0.200987 auc:0.9154\n",
      "epoch: 140 loss:0.196119 auc:0.9152\n",
      "epoch: 160 loss:0.193704 auc:0.9151\n",
      "epoch: 180 loss:0.192343 auc:0.9145\n",
      "epoch: 200 loss:0.191423 auc:0.9127\n"
     ]
    },
    {
     "name": "stderr",
     "output_type": "stream",
     "text": [
      " 69%|██████▉   | 632/916 [6:51:21<1:08:56, 14.56s/it]"
     ]
    },
    {
     "name": "stdout",
     "output_type": "stream",
     "text": [
      "epoch: 220 loss:0.190710 auc:0.9114\n",
      "Fit finished.\n",
      "epoch:   0 loss:0.775766 auc:0.3038\n",
      "epoch:  20 loss:0.305982 auc:0.9531\n",
      "epoch:  40 loss:0.227867 auc:0.9575\n",
      "epoch:  60 loss:0.213293 auc:0.9549\n",
      "epoch:  80 loss:0.207283 auc:0.9540\n",
      "epoch: 100 loss:0.202077 auc:0.9549\n",
      "epoch: 120 loss:0.196753 auc:0.9553\n",
      "epoch: 140 loss:0.193825 auc:0.9536\n",
      "epoch: 160 loss:0.192245 auc:0.9536\n",
      "epoch: 180 loss:0.191038 auc:0.9536\n"
     ]
    },
    {
     "name": "stderr",
     "output_type": "stream",
     "text": [
      " 69%|██████▉   | 633/916 [6:51:28<58:28, 12.40s/it]  "
     ]
    },
    {
     "name": "stdout",
     "output_type": "stream",
     "text": [
      "epoch: 200 loss:0.190003 auc:0.9531\n",
      "Fit finished.\n",
      "epoch:   0 loss:0.825430 auc:0.3635\n",
      "epoch:  20 loss:0.329947 auc:0.9660\n",
      "epoch:  40 loss:0.251139 auc:0.9675\n",
      "epoch:  60 loss:0.221766 auc:0.9663\n",
      "epoch:  80 loss:0.211436 auc:0.9630\n",
      "epoch: 100 loss:0.205300 auc:0.9630\n",
      "epoch: 120 loss:0.199342 auc:0.9623\n",
      "epoch: 140 loss:0.195165 auc:0.9626\n",
      "epoch: 160 loss:0.193391 auc:0.9623\n"
     ]
    },
    {
     "name": "stderr",
     "output_type": "stream",
     "text": [
      " 69%|██████▉   | 634/916 [6:51:35<50:49, 10.81s/it]"
     ]
    },
    {
     "name": "stdout",
     "output_type": "stream",
     "text": [
      "epoch: 180 loss:0.192259 auc:0.9626\n",
      "Fit finished.\n",
      "epoch:   0 loss:0.703842 auc:0.3807\n",
      "epoch:  20 loss:0.246136 auc:0.9869\n",
      "epoch:  40 loss:0.217456 auc:0.9869\n",
      "epoch:  60 loss:0.210472 auc:0.9888\n",
      "epoch:  80 loss:0.205256 auc:0.9908\n",
      "epoch: 100 loss:0.198442 auc:0.9908\n",
      "epoch: 120 loss:0.193776 auc:0.9921\n",
      "epoch: 140 loss:0.192128 auc:0.9921\n",
      "epoch: 160 loss:0.190344 auc:0.9928\n",
      "epoch: 180 loss:0.190619 auc:0.9928\n",
      "epoch: 200 loss:0.187789 auc:0.9921\n",
      "epoch: 220 loss:0.187088 auc:0.9895\n"
     ]
    },
    {
     "name": "stderr",
     "output_type": "stream",
     "text": [
      " 69%|██████▉   | 635/916 [6:51:44<47:42, 10.19s/it]"
     ]
    },
    {
     "name": "stdout",
     "output_type": "stream",
     "text": [
      "epoch: 240 loss:0.185714 auc:0.9882\n",
      "Fit finished.\n",
      "epoch:   0 loss:0.864048 auc:0.2985\n",
      "epoch:  20 loss:0.274043 auc:0.8626\n",
      "epoch:  40 loss:0.221893 auc:0.8665\n",
      "epoch:  60 loss:0.212016 auc:0.8725\n",
      "epoch:  80 loss:0.206791 auc:0.8711\n",
      "epoch: 100 loss:0.201158 auc:0.8705\n",
      "epoch: 120 loss:0.195790 auc:0.8711\n",
      "epoch: 140 loss:0.193376 auc:0.8718\n",
      "epoch: 160 loss:0.191961 auc:0.8711\n",
      "epoch: 180 loss:0.192876 auc:0.8698\n",
      "epoch: 200 loss:0.190479 auc:0.8685\n"
     ]
    },
    {
     "name": "stderr",
     "output_type": "stream",
     "text": [
      " 69%|██████▉   | 636/916 [6:51:52<44:22,  9.51s/it]"
     ]
    },
    {
     "name": "stdout",
     "output_type": "stream",
     "text": [
      "epoch: 220 loss:0.188957 auc:0.8639\n",
      "Fit finished.\n",
      "epoch:   0 loss:0.785730 auc:0.7983\n",
      "epoch:  20 loss:0.320921 auc:0.9558\n",
      "epoch:  40 loss:0.245943 auc:0.9549\n",
      "epoch:  60 loss:0.220364 auc:0.9558\n",
      "epoch:  80 loss:0.210962 auc:0.9581\n",
      "epoch: 100 loss:0.205607 auc:0.9581\n",
      "epoch: 120 loss:0.200457 auc:0.9566\n",
      "epoch: 140 loss:0.195879 auc:0.9569\n",
      "epoch: 160 loss:0.193521 auc:0.9566\n",
      "epoch: 180 loss:0.192281 auc:0.9563\n",
      "epoch: 200 loss:0.191404 auc:0.9558\n",
      "epoch: 220 loss:0.190803 auc:0.9560\n"
     ]
    },
    {
     "name": "stderr",
     "output_type": "stream",
     "text": [
      " 70%|██████▉   | 637/916 [6:52:01<43:07,  9.28s/it]"
     ]
    },
    {
     "name": "stdout",
     "output_type": "stream",
     "text": [
      "epoch: 240 loss:0.190306 auc:0.9558\n",
      "Fit finished.\n",
      "epoch:   0 loss:0.874861 auc:0.4769\n",
      "epoch:  20 loss:0.288787 auc:0.9463\n",
      "epoch:  40 loss:0.227313 auc:0.9544\n",
      "epoch:  60 loss:0.212100 auc:0.9550\n",
      "epoch:  80 loss:0.205840 auc:0.9575\n",
      "epoch: 100 loss:0.200192 auc:0.9575\n",
      "epoch: 120 loss:0.195540 auc:0.9581\n",
      "epoch: 140 loss:0.193462 auc:0.9575\n",
      "epoch: 160 loss:0.192220 auc:0.9563\n",
      "epoch: 180 loss:0.191229 auc:0.9556\n",
      "epoch: 200 loss:0.190712 auc:0.9550\n",
      "epoch: 220 loss:0.189751 auc:0.9550\n"
     ]
    },
    {
     "name": "stderr",
     "output_type": "stream",
     "text": [
      " 70%|██████▉   | 638/916 [6:52:09<41:42,  9.00s/it]"
     ]
    },
    {
     "name": "stdout",
     "output_type": "stream",
     "text": [
      "epoch: 240 loss:0.188782 auc:0.9544\n",
      "Fit finished.\n",
      "epoch:   0 loss:1.153702 auc:0.4880\n",
      "epoch:  20 loss:0.313135 auc:0.9650\n",
      "epoch:  40 loss:0.235143 auc:0.9633\n",
      "epoch:  60 loss:0.218004 auc:0.9650\n",
      "epoch:  80 loss:0.209803 auc:0.9654\n",
      "epoch: 100 loss:0.203956 auc:0.9654\n",
      "epoch: 120 loss:0.198022 auc:0.9654\n",
      "epoch: 140 loss:0.194362 auc:0.9660\n",
      "epoch: 160 loss:0.192683 auc:0.9664\n",
      "epoch: 180 loss:0.191571 auc:0.9657\n",
      "epoch: 200 loss:0.191023 auc:0.9657\n",
      "epoch: 220 loss:0.190142 auc:0.9657\n"
     ]
    },
    {
     "name": "stderr",
     "output_type": "stream",
     "text": [
      " 70%|██████▉   | 639/916 [6:52:18<41:35,  9.01s/it]"
     ]
    },
    {
     "name": "stdout",
     "output_type": "stream",
     "text": [
      "epoch: 240 loss:0.191974 auc:0.9650\n",
      "Fit finished.\n",
      "epoch:   0 loss:0.587609 auc:0.5939\n",
      "epoch:  20 loss:0.277158 auc:0.9836\n",
      "epoch:  40 loss:0.224620 auc:0.9842\n",
      "epoch:  60 loss:0.211964 auc:0.9851\n",
      "epoch:  80 loss:0.205608 auc:0.9849\n",
      "epoch: 100 loss:0.199025 auc:0.9853\n",
      "epoch: 120 loss:0.194593 auc:0.9857\n",
      "epoch: 140 loss:0.192668 auc:0.9857\n",
      "epoch: 160 loss:0.191473 auc:0.9857\n",
      "epoch: 180 loss:0.190676 auc:0.9855\n",
      "epoch: 200 loss:0.189800 auc:0.9864\n",
      "epoch: 220 loss:0.189208 auc:0.9864\n",
      "epoch: 240 loss:0.188918 auc:0.9864\n"
     ]
    },
    {
     "name": "stderr",
     "output_type": "stream",
     "text": [
      " 70%|██████▉   | 640/916 [6:52:28<42:00,  9.13s/it]"
     ]
    },
    {
     "name": "stdout",
     "output_type": "stream",
     "text": [
      "epoch: 260 loss:0.187576 auc:0.9831\n",
      "Fit finished.\n",
      "epoch:   0 loss:1.636473 auc:0.7276\n",
      "epoch:  20 loss:0.332541 auc:0.9547\n",
      "epoch:  40 loss:0.254298 auc:0.9542\n",
      "epoch:  60 loss:0.220900 auc:0.9562\n",
      "epoch:  80 loss:0.209646 auc:0.9583\n",
      "epoch: 100 loss:0.203024 auc:0.9572\n",
      "epoch: 120 loss:0.197738 auc:0.9575\n",
      "epoch: 140 loss:0.194694 auc:0.9575\n",
      "epoch: 160 loss:0.193202 auc:0.9576\n",
      "epoch: 180 loss:0.192168 auc:0.9577\n",
      "epoch: 200 loss:0.191397 auc:0.9576\n",
      "epoch: 220 loss:0.190652 auc:0.9576\n"
     ]
    },
    {
     "name": "stderr",
     "output_type": "stream",
     "text": [
      " 70%|██████▉   | 641/916 [6:52:37<42:21,  9.24s/it]"
     ]
    },
    {
     "name": "stdout",
     "output_type": "stream",
     "text": [
      "epoch: 240 loss:0.189992 auc:0.9570\n",
      "Fit finished.\n",
      "epoch:   0 loss:0.786098 auc:0.2958\n",
      "epoch:  20 loss:0.292436 auc:0.9573\n",
      "epoch:  40 loss:0.226761 auc:0.9575\n",
      "epoch:  60 loss:0.212408 auc:0.9564\n",
      "epoch:  80 loss:0.205990 auc:0.9558\n",
      "epoch: 100 loss:0.199551 auc:0.9570\n",
      "epoch: 120 loss:0.194979 auc:0.9573\n",
      "epoch: 140 loss:0.192746 auc:0.9572\n",
      "epoch: 160 loss:0.191482 auc:0.9558\n"
     ]
    },
    {
     "name": "stderr",
     "output_type": "stream",
     "text": [
      " 70%|███████   | 642/916 [6:52:43<37:37,  8.24s/it]"
     ]
    },
    {
     "name": "stdout",
     "output_type": "stream",
     "text": [
      "epoch: 180 loss:0.190465 auc:0.9545\n",
      "Fit finished.\n",
      "epoch:   0 loss:0.955835 auc:0.3473\n",
      "epoch:  20 loss:0.332469 auc:0.9420\n",
      "epoch:  40 loss:0.248470 auc:0.9435\n",
      "epoch:  60 loss:0.220447 auc:0.9468\n",
      "epoch:  80 loss:0.211279 auc:0.9481\n",
      "epoch: 100 loss:0.206463 auc:0.9486\n",
      "epoch: 120 loss:0.201874 auc:0.9478\n",
      "epoch: 140 loss:0.197140 auc:0.9476\n",
      "epoch: 160 loss:0.194199 auc:0.9471\n",
      "epoch: 180 loss:0.192747 auc:0.9470\n",
      "epoch: 200 loss:0.191712 auc:0.9474\n",
      "epoch: 220 loss:0.190845 auc:0.9472\n"
     ]
    },
    {
     "name": "stderr",
     "output_type": "stream",
     "text": [
      " 70%|███████   | 643/916 [6:52:52<38:53,  8.55s/it]"
     ]
    },
    {
     "name": "stdout",
     "output_type": "stream",
     "text": [
      "epoch: 240 loss:0.190170 auc:0.9469\n",
      "Fit finished.\n",
      "epoch:   0 loss:0.806045 auc:0.4389\n",
      "epoch:  20 loss:0.316284 auc:0.9548\n",
      "epoch:  40 loss:0.231975 auc:0.9582\n",
      "epoch:  60 loss:0.215295 auc:0.9632\n",
      "epoch:  80 loss:0.207303 auc:0.9637\n",
      "epoch: 100 loss:0.201001 auc:0.9629\n",
      "epoch: 120 loss:0.195247 auc:0.9624\n",
      "epoch: 140 loss:0.193020 auc:0.9609\n",
      "epoch: 160 loss:0.192226 auc:0.9607\n",
      "epoch: 180 loss:0.190721 auc:0.9577\n"
     ]
    },
    {
     "name": "stderr",
     "output_type": "stream",
     "text": [
      " 70%|███████   | 644/916 [6:53:00<37:06,  8.19s/it]"
     ]
    },
    {
     "name": "stdout",
     "output_type": "stream",
     "text": [
      "epoch: 200 loss:0.190403 auc:0.9529\n",
      "Fit finished.\n",
      "epoch:   0 loss:0.780954 auc:0.3545\n",
      "epoch:  20 loss:0.309171 auc:0.9330\n",
      "epoch:  40 loss:0.234334 auc:0.9339\n",
      "epoch:  60 loss:0.216023 auc:0.9320\n",
      "epoch:  80 loss:0.208186 auc:0.9357\n",
      "epoch: 100 loss:0.202245 auc:0.9366\n",
      "epoch: 120 loss:0.196551 auc:0.9357\n",
      "epoch: 140 loss:0.193993 auc:0.9348\n",
      "epoch: 160 loss:0.192642 auc:0.9366\n",
      "epoch: 180 loss:0.191635 auc:0.9357\n",
      "epoch: 200 loss:0.192518 auc:0.9348\n",
      "epoch: 220 loss:0.190831 auc:0.9330\n"
     ]
    },
    {
     "name": "stderr",
     "output_type": "stream",
     "text": [
      " 70%|███████   | 645/916 [6:53:08<37:07,  8.22s/it]"
     ]
    },
    {
     "name": "stdout",
     "output_type": "stream",
     "text": [
      "epoch: 240 loss:0.189353 auc:0.9284\n",
      "Fit finished.\n",
      "epoch:   0 loss:0.785136 auc:0.6789\n",
      "epoch:  20 loss:0.322479 auc:0.9408\n",
      "epoch:  40 loss:0.242604 auc:0.9421\n",
      "epoch:  60 loss:0.217127 auc:0.9448\n",
      "epoch:  80 loss:0.208265 auc:0.9453\n",
      "epoch: 100 loss:0.202506 auc:0.9455\n",
      "epoch: 120 loss:0.197188 auc:0.9449\n",
      "epoch: 140 loss:0.194168 auc:0.9456\n",
      "epoch: 160 loss:0.192704 auc:0.9455\n",
      "epoch: 180 loss:0.191671 auc:0.9455\n",
      "epoch: 200 loss:0.191154 auc:0.9449\n"
     ]
    },
    {
     "name": "stderr",
     "output_type": "stream",
     "text": [
      " 71%|███████   | 646/916 [6:53:16<37:16,  8.28s/it]"
     ]
    },
    {
     "name": "stdout",
     "output_type": "stream",
     "text": [
      "epoch: 220 loss:0.190328 auc:0.9439\n",
      "Fit finished.\n",
      "epoch:   0 loss:0.792477 auc:0.2275\n",
      "epoch:  20 loss:0.260678 auc:0.9273\n",
      "epoch:  40 loss:0.217575 auc:0.9394\n",
      "epoch:  60 loss:0.208972 auc:0.9419\n",
      "epoch:  80 loss:0.203806 auc:0.9396\n",
      "epoch: 100 loss:0.197837 auc:0.9410\n",
      "epoch: 120 loss:0.193924 auc:0.9389\n",
      "epoch: 140 loss:0.192037 auc:0.9375\n",
      "epoch: 160 loss:0.190556 auc:0.9335\n",
      "epoch: 180 loss:0.190022 auc:0.9332\n"
     ]
    },
    {
     "name": "stderr",
     "output_type": "stream",
     "text": [
      " 71%|███████   | 647/916 [6:53:24<36:43,  8.19s/it]"
     ]
    },
    {
     "name": "stdout",
     "output_type": "stream",
     "text": [
      "epoch: 200 loss:0.188398 auc:0.9231\n",
      "Fit finished.\n",
      "epoch:   0 loss:0.755165 auc:0.5685\n",
      "epoch:  20 loss:0.316189 auc:0.9603\n",
      "epoch:  40 loss:0.235005 auc:0.9631\n",
      "epoch:  60 loss:0.215969 auc:0.9636\n",
      "epoch:  80 loss:0.208414 auc:0.9636\n",
      "epoch: 100 loss:0.203414 auc:0.9627\n",
      "epoch: 120 loss:0.198590 auc:0.9636\n",
      "epoch: 140 loss:0.195182 auc:0.9631\n",
      "epoch: 160 loss:0.193504 auc:0.9631\n",
      "epoch: 180 loss:0.192384 auc:0.9631\n",
      "epoch: 200 loss:0.191479 auc:0.9631\n",
      "epoch: 220 loss:0.190612 auc:0.9641\n",
      "epoch: 240 loss:0.192708 auc:0.9655\n",
      "epoch: 260 loss:0.189398 auc:0.9688\n",
      "epoch: 280 loss:0.187948 auc:0.9716\n",
      "epoch: 300 loss:0.187848 auc:0.9745\n",
      "epoch: 320 loss:0.186098 auc:0.9764\n",
      "epoch: 340 loss:0.185459 auc:0.9768\n",
      "epoch: 360 loss:0.184195 auc:0.9773\n",
      "epoch: 380 loss:0.183728 auc:0.9773\n",
      "epoch: 400 loss:0.182361 auc:0.9773\n",
      "epoch: 420 loss:0.183261 auc:0.9783\n",
      "epoch: 440 loss:0.178584 auc:0.9768\n",
      "epoch: 460 loss:0.180263 auc:0.9787\n"
     ]
    },
    {
     "name": "stderr",
     "output_type": "stream",
     "text": [
      " 71%|███████   | 648/916 [6:54:19<1:39:22, 22.25s/it]"
     ]
    },
    {
     "name": "stdout",
     "output_type": "stream",
     "text": [
      "epoch: 480 loss:0.174272 auc:0.9750\n",
      "Fit finished.\n",
      "epoch:   0 loss:0.553225 auc:0.4654\n",
      "epoch:  20 loss:0.243980 auc:0.9399\n",
      "epoch:  40 loss:0.215750 auc:0.9348\n",
      "epoch:  60 loss:0.207684 auc:0.9348\n",
      "epoch:  80 loss:0.200691 auc:0.9342\n",
      "epoch: 100 loss:0.194795 auc:0.9359\n",
      "epoch: 120 loss:0.193191 auc:0.9393\n",
      "epoch: 140 loss:0.191299 auc:0.9410\n",
      "epoch: 160 loss:0.189490 auc:0.9473\n",
      "epoch: 180 loss:0.190871 auc:0.9512\n",
      "epoch: 200 loss:0.185668 auc:0.9603\n",
      "epoch: 220 loss:0.203478 auc:0.9694\n",
      "epoch: 240 loss:0.182232 auc:0.9615\n",
      "epoch: 260 loss:0.178488 auc:0.9677\n"
     ]
    },
    {
     "name": "stderr",
     "output_type": "stream",
     "text": [
      " 71%|███████   | 649/916 [6:54:26<1:17:51, 17.50s/it]"
     ]
    },
    {
     "name": "stdout",
     "output_type": "stream",
     "text": [
      "epoch: 280 loss:0.182790 auc:0.9342\n",
      "Fit finished.\n",
      "epoch:   0 loss:0.579545 auc:0.2969\n",
      "epoch:  20 loss:0.290776 auc:0.9499\n",
      "epoch:  40 loss:0.226742 auc:0.9528\n",
      "epoch:  60 loss:0.211050 auc:0.9560\n",
      "epoch:  80 loss:0.203665 auc:0.9560\n",
      "epoch: 100 loss:0.196578 auc:0.9550\n",
      "epoch: 120 loss:0.193552 auc:0.9563\n",
      "epoch: 140 loss:0.191878 auc:0.9557\n",
      "epoch: 160 loss:0.190761 auc:0.9570\n",
      "epoch: 180 loss:0.190574 auc:0.9579\n",
      "epoch: 200 loss:0.188767 auc:0.9595\n",
      "epoch: 220 loss:0.187324 auc:0.9589\n",
      "epoch: 240 loss:0.186159 auc:0.9617\n",
      "epoch: 260 loss:0.183864 auc:0.9589\n"
     ]
    },
    {
     "name": "stderr",
     "output_type": "stream",
     "text": [
      " 71%|███████   | 650/916 [6:54:32<1:02:26, 14.08s/it]"
     ]
    },
    {
     "name": "stdout",
     "output_type": "stream",
     "text": [
      "epoch: 280 loss:0.183181 auc:0.9477\n",
      "Fit finished.\n",
      "epoch:   0 loss:0.586215 auc:0.6854\n",
      "epoch:  20 loss:0.289240 auc:0.9717\n",
      "epoch:  40 loss:0.227013 auc:0.9807\n",
      "epoch:  60 loss:0.212293 auc:0.9796\n",
      "epoch:  80 loss:0.206381 auc:0.9773\n",
      "epoch: 100 loss:0.200880 auc:0.9790\n",
      "epoch: 120 loss:0.195644 auc:0.9785\n",
      "epoch: 140 loss:0.193506 auc:0.9779\n",
      "epoch: 160 loss:0.192224 auc:0.9785\n",
      "epoch: 180 loss:0.191191 auc:0.9785\n"
     ]
    },
    {
     "name": "stderr",
     "output_type": "stream",
     "text": [
      " 71%|███████   | 651/916 [6:54:36<49:14, 11.15s/it]  "
     ]
    },
    {
     "name": "stdout",
     "output_type": "stream",
     "text": [
      "epoch: 200 loss:0.190729 auc:0.9785\n",
      "Fit finished.\n",
      "epoch:   0 loss:0.956440 auc:0.4918\n",
      "epoch:  20 loss:0.308416 auc:0.9548\n",
      "epoch:  40 loss:0.231226 auc:0.9611\n",
      "epoch:  60 loss:0.216304 auc:0.9646\n",
      "epoch:  80 loss:0.209439 auc:0.9657\n",
      "epoch: 100 loss:0.204729 auc:0.9654\n",
      "epoch: 120 loss:0.199569 auc:0.9653\n",
      "epoch: 140 loss:0.195468 auc:0.9654\n",
      "epoch: 160 loss:0.193552 auc:0.9653\n",
      "epoch: 180 loss:0.192361 auc:0.9651\n",
      "epoch: 200 loss:0.191445 auc:0.9647\n",
      "epoch: 220 loss:0.190985 auc:0.9646\n"
     ]
    },
    {
     "name": "stderr",
     "output_type": "stream",
     "text": [
      " 71%|███████   | 652/916 [6:54:41<41:16,  9.38s/it]"
     ]
    },
    {
     "name": "stdout",
     "output_type": "stream",
     "text": [
      "epoch: 240 loss:0.189905 auc:0.9648\n",
      "Fit finished.\n",
      "epoch:   0 loss:0.741425 auc:0.3368\n",
      "epoch:  20 loss:0.294762 auc:0.9309\n",
      "epoch:  40 loss:0.228417 auc:0.9358\n",
      "epoch:  60 loss:0.213310 auc:0.9434\n",
      "epoch:  80 loss:0.207010 auc:0.9445\n",
      "epoch: 100 loss:0.200949 auc:0.9448\n",
      "epoch: 120 loss:0.195345 auc:0.9459\n",
      "epoch: 140 loss:0.192933 auc:0.9445\n",
      "epoch: 160 loss:0.191351 auc:0.9441\n",
      "epoch: 180 loss:0.190895 auc:0.9436\n",
      "epoch: 200 loss:0.189534 auc:0.9427\n"
     ]
    },
    {
     "name": "stderr",
     "output_type": "stream",
     "text": [
      " 71%|███████▏  | 653/916 [6:54:46<35:31,  8.10s/it]"
     ]
    },
    {
     "name": "stdout",
     "output_type": "stream",
     "text": [
      "epoch: 220 loss:0.188190 auc:0.9399\n",
      "Fit finished.\n",
      "epoch:   0 loss:1.014559 auc:0.5998\n",
      "epoch:  20 loss:0.309425 auc:0.9616\n",
      "epoch:  40 loss:0.231757 auc:0.9675\n",
      "epoch:  60 loss:0.214881 auc:0.9694\n",
      "epoch:  80 loss:0.207462 auc:0.9696\n",
      "epoch: 100 loss:0.201588 auc:0.9688\n",
      "epoch: 120 loss:0.196063 auc:0.9686\n",
      "epoch: 140 loss:0.193621 auc:0.9686\n",
      "epoch: 160 loss:0.192394 auc:0.9680\n",
      "epoch: 180 loss:0.191515 auc:0.9688\n",
      "epoch: 200 loss:0.191304 auc:0.9691\n",
      "epoch: 220 loss:0.190128 auc:0.9696\n",
      "epoch: 240 loss:0.189386 auc:0.9707\n",
      "epoch: 260 loss:0.190068 auc:0.9726\n",
      "epoch: 280 loss:0.187879 auc:0.9753\n",
      "epoch: 300 loss:0.188732 auc:0.9755\n",
      "epoch: 320 loss:0.185861 auc:0.9777\n",
      "epoch: 340 loss:0.185586 auc:0.9777\n",
      "epoch: 360 loss:0.182763 auc:0.9769\n",
      "epoch: 380 loss:0.186173 auc:0.9769\n",
      "epoch: 400 loss:0.181603 auc:0.9766\n",
      "epoch: 420 loss:0.179935 auc:0.9758\n",
      "epoch: 440 loss:0.174954 auc:0.9782\n"
     ]
    },
    {
     "name": "stderr",
     "output_type": "stream",
     "text": [
      " 71%|███████▏  | 654/916 [6:54:57<38:48,  8.89s/it]"
     ]
    },
    {
     "name": "stdout",
     "output_type": "stream",
     "text": [
      "epoch: 460 loss:0.174259 auc:0.9747\n",
      "Fit finished.\n",
      "epoch:   0 loss:1.031603 auc:0.6124\n",
      "epoch:  20 loss:0.326722 auc:0.9679\n",
      "epoch:  40 loss:0.244503 auc:0.9787\n",
      "epoch:  60 loss:0.220074 auc:0.9818\n",
      "epoch:  80 loss:0.211030 auc:0.9822\n",
      "epoch: 100 loss:0.205357 auc:0.9826\n",
      "epoch: 120 loss:0.199767 auc:0.9826\n",
      "epoch: 140 loss:0.195389 auc:0.9826\n",
      "epoch: 160 loss:0.193175 auc:0.9826\n",
      "epoch: 180 loss:0.192208 auc:0.9826\n",
      "epoch: 200 loss:0.191170 auc:0.9826\n",
      "epoch: 220 loss:0.190109 auc:0.9826\n",
      "epoch: 240 loss:0.189105 auc:0.9822\n"
     ]
    },
    {
     "name": "stderr",
     "output_type": "stream",
     "text": [
      " 72%|███████▏  | 655/916 [6:55:04<35:27,  8.15s/it]"
     ]
    },
    {
     "name": "stdout",
     "output_type": "stream",
     "text": [
      "epoch: 260 loss:0.187989 auc:0.9818\n",
      "Fit finished.\n",
      "epoch:   0 loss:0.922197 auc:0.4734\n",
      "epoch:  20 loss:0.321554 auc:0.9767\n",
      "epoch:  40 loss:0.242182 auc:0.9770\n",
      "epoch:  60 loss:0.220329 auc:0.9770\n",
      "epoch:  80 loss:0.212091 auc:0.9785\n",
      "epoch: 100 loss:0.207034 auc:0.9779\n",
      "epoch: 120 loss:0.202008 auc:0.9782\n",
      "epoch: 140 loss:0.196818 auc:0.9782\n",
      "epoch: 160 loss:0.194024 auc:0.9782\n",
      "epoch: 180 loss:0.192739 auc:0.9782\n",
      "epoch: 200 loss:0.191872 auc:0.9779\n",
      "epoch: 220 loss:0.191168 auc:0.9779\n"
     ]
    },
    {
     "name": "stderr",
     "output_type": "stream",
     "text": [
      " 72%|███████▏  | 656/916 [6:55:09<31:27,  7.26s/it]"
     ]
    },
    {
     "name": "stdout",
     "output_type": "stream",
     "text": [
      "epoch: 240 loss:0.190616 auc:0.9779\n",
      "Fit finished.\n",
      "epoch:   0 loss:0.849205 auc:0.6795\n",
      "epoch:  20 loss:0.350621 auc:0.9709\n",
      "epoch:  40 loss:0.268458 auc:0.9813\n",
      "epoch:  60 loss:0.225562 auc:0.9802\n",
      "epoch:  80 loss:0.213469 auc:0.9781\n",
      "epoch: 100 loss:0.207435 auc:0.9781\n",
      "epoch: 120 loss:0.201557 auc:0.9792\n",
      "epoch: 140 loss:0.195418 auc:0.9792\n",
      "epoch: 160 loss:0.193162 auc:0.9792\n",
      "epoch: 180 loss:0.192905 auc:0.9792\n"
     ]
    },
    {
     "name": "stderr",
     "output_type": "stream",
     "text": [
      " 72%|███████▏  | 657/916 [6:55:13<27:35,  6.39s/it]"
     ]
    },
    {
     "name": "stdout",
     "output_type": "stream",
     "text": [
      "epoch: 200 loss:0.191166 auc:0.9792\n",
      "Fit finished.\n",
      "epoch:   0 loss:0.793236 auc:0.8086\n",
      "epoch:  20 loss:0.296296 auc:0.9489\n",
      "epoch:  40 loss:0.227330 auc:0.9584\n",
      "epoch:  60 loss:0.213198 auc:0.9620\n",
      "epoch:  80 loss:0.206863 auc:0.9608\n",
      "epoch: 100 loss:0.201377 auc:0.9596\n",
      "epoch: 120 loss:0.196260 auc:0.9608\n",
      "epoch: 140 loss:0.193809 auc:0.9608\n",
      "epoch: 160 loss:0.192435 auc:0.9631\n",
      "epoch: 180 loss:0.191354 auc:0.9631\n",
      "epoch: 200 loss:0.191413 auc:0.9631\n",
      "epoch: 220 loss:0.189849 auc:0.9631\n",
      "epoch: 240 loss:0.189809 auc:0.9655\n",
      "epoch: 260 loss:0.188096 auc:0.9655\n",
      "epoch: 280 loss:0.187849 auc:0.9655\n",
      "epoch: 300 loss:0.186180 auc:0.9655\n",
      "epoch: 320 loss:0.189914 auc:0.9667\n",
      "epoch: 340 loss:0.183393 auc:0.9679\n",
      "epoch: 360 loss:0.181711 auc:0.9655\n",
      "epoch: 380 loss:0.185035 auc:0.9631\n",
      "epoch: 400 loss:0.177151 auc:0.9655\n",
      "epoch: 420 loss:0.176890 auc:0.9667\n",
      "epoch: 440 loss:0.170815 auc:0.9655\n"
     ]
    },
    {
     "name": "stderr",
     "output_type": "stream",
     "text": [
      " 72%|███████▏  | 658/916 [6:55:23<32:25,  7.54s/it]"
     ]
    },
    {
     "name": "stdout",
     "output_type": "stream",
     "text": [
      "epoch: 460 loss:0.169825 auc:0.9572\n",
      "Fit finished.\n",
      "epoch:   0 loss:0.783085 auc:0.4779\n",
      "epoch:  20 loss:0.311811 auc:0.9892\n",
      "epoch:  40 loss:0.229781 auc:0.9898\n",
      "epoch:  60 loss:0.215206 auc:0.9898\n",
      "epoch:  80 loss:0.209035 auc:0.9887\n",
      "epoch: 100 loss:0.204048 auc:0.9892\n",
      "epoch: 120 loss:0.198482 auc:0.9898\n",
      "epoch: 140 loss:0.194622 auc:0.9898\n",
      "epoch: 160 loss:0.192987 auc:0.9904\n",
      "epoch: 180 loss:0.191892 auc:0.9909\n",
      "epoch: 200 loss:0.190932 auc:0.9915\n",
      "epoch: 220 loss:0.190810 auc:0.9915\n",
      "epoch: 240 loss:0.189258 auc:0.9904\n",
      "epoch: 260 loss:0.190722 auc:0.9915\n",
      "epoch: 280 loss:0.187185 auc:0.9909\n"
     ]
    },
    {
     "name": "stderr",
     "output_type": "stream",
     "text": [
      " 72%|███████▏  | 659/916 [6:55:30<31:38,  7.39s/it]"
     ]
    },
    {
     "name": "stdout",
     "output_type": "stream",
     "text": [
      "epoch: 300 loss:0.185971 auc:0.9870\n",
      "Fit finished.\n",
      "epoch:   0 loss:0.678701 auc:0.3692\n",
      "epoch:  20 loss:0.282994 auc:0.9619\n",
      "epoch:  40 loss:0.226297 auc:0.9676\n",
      "epoch:  60 loss:0.214526 auc:0.9687\n",
      "epoch:  80 loss:0.208837 auc:0.9683\n",
      "epoch: 100 loss:0.203359 auc:0.9683\n",
      "epoch: 120 loss:0.197356 auc:0.9687\n",
      "epoch: 140 loss:0.194106 auc:0.9687\n",
      "epoch: 160 loss:0.192326 auc:0.9683\n",
      "epoch: 180 loss:0.192374 auc:0.9694\n",
      "epoch: 200 loss:0.190490 auc:0.9697\n",
      "epoch: 220 loss:0.189256 auc:0.9719\n",
      "epoch: 240 loss:0.207069 auc:0.9779\n",
      "epoch: 260 loss:0.189389 auc:0.9729\n",
      "epoch: 280 loss:0.186893 auc:0.9804\n",
      "epoch: 300 loss:0.185590 auc:0.9822\n",
      "epoch: 320 loss:0.184423 auc:0.9861\n",
      "epoch: 340 loss:0.183962 auc:0.9854\n",
      "epoch: 360 loss:0.182265 auc:0.9872\n",
      "epoch: 380 loss:0.181225 auc:0.9854\n",
      "epoch: 400 loss:0.179013 auc:0.9858\n",
      "epoch: 420 loss:0.178636 auc:0.9783\n",
      "epoch: 440 loss:0.177235 auc:0.9847\n",
      "epoch: 460 loss:0.171794 auc:0.9829\n"
     ]
    },
    {
     "name": "stderr",
     "output_type": "stream",
     "text": [
      " 72%|███████▏  | 660/916 [6:55:40<34:54,  8.18s/it]"
     ]
    },
    {
     "name": "stdout",
     "output_type": "stream",
     "text": [
      "epoch: 480 loss:0.170735 auc:0.9833\n",
      "Fit finished.\n",
      "epoch:   0 loss:1.227460 auc:0.6129\n",
      "epoch:  20 loss:0.306241 auc:0.9270\n",
      "epoch:  40 loss:0.233648 auc:0.9328\n",
      "epoch:  60 loss:0.217009 auc:0.9335\n",
      "epoch:  80 loss:0.209479 auc:0.9350\n",
      "epoch: 100 loss:0.204225 auc:0.9357\n",
      "epoch: 120 loss:0.198519 auc:0.9350\n",
      "epoch: 140 loss:0.194315 auc:0.9350\n",
      "epoch: 160 loss:0.192542 auc:0.9357\n",
      "epoch: 180 loss:0.191481 auc:0.9364\n",
      "epoch: 200 loss:0.190973 auc:0.9379\n",
      "epoch: 220 loss:0.189647 auc:0.9394\n",
      "epoch: 240 loss:0.189970 auc:0.9438\n",
      "epoch: 260 loss:0.187768 auc:0.9467\n",
      "epoch: 280 loss:0.187267 auc:0.9489\n",
      "epoch: 300 loss:0.186089 auc:0.9547\n",
      "epoch: 320 loss:0.187116 auc:0.9540\n",
      "epoch: 340 loss:0.184299 auc:0.9554\n",
      "epoch: 360 loss:0.183834 auc:0.9562\n",
      "epoch: 380 loss:0.182404 auc:0.9569\n",
      "epoch: 400 loss:0.181706 auc:0.9576\n",
      "epoch: 420 loss:0.183387 auc:0.9576\n",
      "epoch: 440 loss:0.177233 auc:0.9591\n",
      "epoch: 460 loss:0.185296 auc:0.9554\n",
      "epoch: 480 loss:0.177172 auc:0.9598\n",
      "epoch: 500 loss:0.171766 auc:0.9562\n"
     ]
    },
    {
     "name": "stderr",
     "output_type": "stream",
     "text": [
      " 72%|███████▏  | 661/916 [6:55:52<39:23,  9.27s/it]"
     ]
    },
    {
     "name": "stdout",
     "output_type": "stream",
     "text": [
      "epoch: 520 loss:0.170018 auc:0.9518\n",
      "Fit finished.\n",
      "epoch:   0 loss:0.801586 auc:0.0471\n",
      "epoch:  20 loss:0.269421 auc:0.9903\n",
      "epoch:  40 loss:0.223413 auc:0.9882\n",
      "epoch:  60 loss:0.211146 auc:0.9855\n",
      "epoch:  80 loss:0.204504 auc:0.9861\n",
      "epoch: 100 loss:0.197224 auc:0.9848\n",
      "epoch: 120 loss:0.193727 auc:0.9841\n",
      "epoch: 140 loss:0.192220 auc:0.9841\n",
      "epoch: 160 loss:0.191166 auc:0.9834\n"
     ]
    },
    {
     "name": "stderr",
     "output_type": "stream",
     "text": [
      " 72%|███████▏  | 662/916 [6:55:56<32:25,  7.66s/it]"
     ]
    },
    {
     "name": "stdout",
     "output_type": "stream",
     "text": [
      "epoch: 180 loss:0.190280 auc:0.9841\n",
      "Fit finished.\n",
      "epoch:   0 loss:0.641937 auc:0.5772\n",
      "epoch:  20 loss:0.312189 auc:0.9212\n",
      "epoch:  40 loss:0.230765 auc:0.9391\n",
      "epoch:  60 loss:0.214399 auc:0.9515\n",
      "epoch:  80 loss:0.207157 auc:0.9538\n",
      "epoch: 100 loss:0.201684 auc:0.9528\n",
      "epoch: 120 loss:0.196335 auc:0.9531\n",
      "epoch: 140 loss:0.193664 auc:0.9525\n",
      "epoch: 160 loss:0.192263 auc:0.9525\n",
      "epoch: 180 loss:0.191230 auc:0.9528\n",
      "epoch: 200 loss:0.191083 auc:0.9522\n",
      "epoch: 220 loss:0.189763 auc:0.9531\n",
      "epoch: 240 loss:0.189249 auc:0.9544\n",
      "epoch: 260 loss:0.187638 auc:0.9534\n"
     ]
    },
    {
     "name": "stderr",
     "output_type": "stream",
     "text": [
      " 72%|███████▏  | 663/916 [6:56:03<31:12,  7.40s/it]"
     ]
    },
    {
     "name": "stdout",
     "output_type": "stream",
     "text": [
      "epoch: 280 loss:0.186483 auc:0.9525\n",
      "Fit finished.\n",
      "epoch:   0 loss:0.647830 auc:0.2453\n",
      "epoch:  20 loss:0.282432 auc:0.9820\n",
      "epoch:  40 loss:0.225414 auc:0.9823\n",
      "epoch:  60 loss:0.213295 auc:0.9768\n",
      "epoch:  80 loss:0.207812 auc:0.9779\n",
      "epoch: 100 loss:0.202217 auc:0.9781\n",
      "epoch: 120 loss:0.195783 auc:0.9781\n",
      "epoch: 140 loss:0.193040 auc:0.9774\n",
      "epoch: 160 loss:0.191461 auc:0.9792\n"
     ]
    },
    {
     "name": "stderr",
     "output_type": "stream",
     "text": [
      " 72%|███████▏  | 664/916 [6:56:07<27:28,  6.54s/it]"
     ]
    },
    {
     "name": "stdout",
     "output_type": "stream",
     "text": [
      "epoch: 180 loss:0.190407 auc:0.9797\n",
      "Fit finished.\n",
      "epoch:   0 loss:0.650802 auc:0.5666\n",
      "epoch:  20 loss:0.287763 auc:0.9811\n",
      "epoch:  40 loss:0.229522 auc:0.9796\n",
      "epoch:  60 loss:0.214739 auc:0.9780\n",
      "epoch:  80 loss:0.209510 auc:0.9778\n",
      "epoch: 100 loss:0.204944 auc:0.9780\n",
      "epoch: 120 loss:0.199522 auc:0.9775\n",
      "epoch: 140 loss:0.195027 auc:0.9775\n",
      "epoch: 160 loss:0.193016 auc:0.9785\n"
     ]
    },
    {
     "name": "stderr",
     "output_type": "stream",
     "text": [
      " 73%|███████▎  | 665/916 [6:56:12<24:22,  5.83s/it]"
     ]
    },
    {
     "name": "stdout",
     "output_type": "stream",
     "text": [
      "epoch: 180 loss:0.191718 auc:0.9785\n",
      "Fit finished.\n",
      "epoch:   0 loss:0.954487 auc:0.4364\n",
      "epoch:  20 loss:0.298984 auc:0.9652\n",
      "epoch:  40 loss:0.232374 auc:0.9724\n",
      "epoch:  60 loss:0.217544 auc:0.9744\n",
      "epoch:  80 loss:0.210079 auc:0.9748\n",
      "epoch: 100 loss:0.204666 auc:0.9744\n",
      "epoch: 120 loss:0.199133 auc:0.9748\n",
      "epoch: 140 loss:0.195113 auc:0.9748\n",
      "epoch: 160 loss:0.193274 auc:0.9748\n",
      "epoch: 180 loss:0.192101 auc:0.9748\n",
      "epoch: 200 loss:0.191344 auc:0.9748\n"
     ]
    },
    {
     "name": "stderr",
     "output_type": "stream",
     "text": [
      " 73%|███████▎  | 666/916 [6:56:17<23:41,  5.68s/it]"
     ]
    },
    {
     "name": "stdout",
     "output_type": "stream",
     "text": [
      "epoch: 220 loss:0.190539 auc:0.9740\n",
      "Fit finished.\n",
      "epoch:   0 loss:0.671578 auc:0.4938\n",
      "epoch:  20 loss:0.305469 auc:0.9612\n",
      "epoch:  40 loss:0.228689 auc:0.9711\n",
      "epoch:  60 loss:0.211203 auc:0.9704\n",
      "epoch:  80 loss:0.203020 auc:0.9724\n",
      "epoch: 100 loss:0.196546 auc:0.9724\n",
      "epoch: 120 loss:0.193724 auc:0.9730\n",
      "epoch: 140 loss:0.192300 auc:0.9724\n",
      "epoch: 160 loss:0.191316 auc:0.9717\n",
      "epoch: 180 loss:0.190584 auc:0.9717\n",
      "epoch: 200 loss:0.189788 auc:0.9717\n",
      "epoch: 220 loss:0.192303 auc:0.9724\n"
     ]
    },
    {
     "name": "stderr",
     "output_type": "stream",
     "text": [
      " 73%|███████▎  | 667/916 [6:56:23<23:45,  5.72s/it]"
     ]
    },
    {
     "name": "stdout",
     "output_type": "stream",
     "text": [
      "epoch: 240 loss:0.188611 auc:0.9711\n",
      "Fit finished.\n",
      "epoch:   0 loss:0.810316 auc:0.5596\n",
      "epoch:  20 loss:0.316654 auc:1.0000\n",
      "epoch:  40 loss:0.236950 auc:1.0000\n",
      "epoch:  60 loss:0.218172 auc:0.9945\n",
      "epoch:  80 loss:0.211061 auc:0.9945\n",
      "epoch: 100 loss:0.206561 auc:0.9945\n",
      "epoch: 120 loss:0.202102 auc:0.9945\n",
      "epoch: 140 loss:0.197522 auc:0.9945\n",
      "epoch: 160 loss:0.194594 auc:0.9945\n"
     ]
    },
    {
     "name": "stderr",
     "output_type": "stream",
     "text": [
      " 73%|███████▎  | 668/916 [6:56:27<21:46,  5.27s/it]"
     ]
    },
    {
     "name": "stdout",
     "output_type": "stream",
     "text": [
      "epoch: 180 loss:0.192975 auc:0.9945\n",
      "Fit finished.\n",
      "epoch:   0 loss:1.024163 auc:0.5455\n",
      "epoch:  20 loss:0.330435 auc:0.9532\n",
      "epoch:  40 loss:0.254855 auc:0.9539\n",
      "epoch:  60 loss:0.222763 auc:0.9548\n",
      "epoch:  80 loss:0.211379 auc:0.9555\n",
      "epoch: 100 loss:0.205614 auc:0.9541\n",
      "epoch: 120 loss:0.199961 auc:0.9536\n",
      "epoch: 140 loss:0.195115 auc:0.9529\n",
      "epoch: 160 loss:0.193037 auc:0.9529\n"
     ]
    },
    {
     "name": "stderr",
     "output_type": "stream",
     "text": [
      " 73%|███████▎  | 669/916 [6:56:32<20:47,  5.05s/it]"
     ]
    },
    {
     "name": "stdout",
     "output_type": "stream",
     "text": [
      "epoch: 180 loss:0.192366 auc:0.9525\n",
      "Fit finished.\n",
      "epoch:   0 loss:0.823751 auc:0.4795\n",
      "epoch:  20 loss:0.318530 auc:0.9732\n",
      "epoch:  40 loss:0.238390 auc:0.9738\n",
      "epoch:  60 loss:0.218435 auc:0.9738\n",
      "epoch:  80 loss:0.211203 auc:0.9729\n",
      "epoch: 100 loss:0.206339 auc:0.9732\n",
      "epoch: 120 loss:0.200965 auc:0.9732\n",
      "epoch: 140 loss:0.195840 auc:0.9732\n",
      "epoch: 160 loss:0.193363 auc:0.9732\n"
     ]
    },
    {
     "name": "stderr",
     "output_type": "stream",
     "text": [
      " 73%|███████▎  | 670/916 [6:56:37<21:03,  5.14s/it]"
     ]
    },
    {
     "name": "stdout",
     "output_type": "stream",
     "text": [
      "epoch: 180 loss:0.191980 auc:0.9723\n",
      "Fit finished.\n",
      "epoch:   0 loss:0.682702 auc:0.2163\n",
      "epoch:  20 loss:0.262466 auc:0.9587\n",
      "epoch:  40 loss:0.218968 auc:0.9602\n",
      "epoch:  60 loss:0.208452 auc:0.9606\n",
      "epoch:  80 loss:0.201709 auc:0.9613\n",
      "epoch: 100 loss:0.195305 auc:0.9611\n",
      "epoch: 120 loss:0.192795 auc:0.9611\n",
      "epoch: 140 loss:0.191764 auc:0.9593\n",
      "epoch: 160 loss:0.190433 auc:0.9587\n"
     ]
    },
    {
     "name": "stderr",
     "output_type": "stream",
     "text": [
      " 73%|███████▎  | 671/916 [6:56:41<19:49,  4.86s/it]"
     ]
    },
    {
     "name": "stdout",
     "output_type": "stream",
     "text": [
      "epoch: 180 loss:0.190309 auc:0.9518\n",
      "Fit finished.\n",
      "epoch:   0 loss:0.949498 auc:0.3329\n",
      "epoch:  20 loss:0.311848 auc:0.9477\n",
      "epoch:  40 loss:0.230909 auc:0.9508\n",
      "epoch:  60 loss:0.213936 auc:0.9471\n",
      "epoch:  80 loss:0.204701 auc:0.9484\n",
      "epoch: 100 loss:0.197480 auc:0.9488\n",
      "epoch: 120 loss:0.194108 auc:0.9488\n",
      "epoch: 140 loss:0.193231 auc:0.9481\n",
      "epoch: 160 loss:0.191462 auc:0.9464\n"
     ]
    },
    {
     "name": "stderr",
     "output_type": "stream",
     "text": [
      " 73%|███████▎  | 672/916 [6:56:45<19:09,  4.71s/it]"
     ]
    },
    {
     "name": "stdout",
     "output_type": "stream",
     "text": [
      "epoch: 180 loss:0.190419 auc:0.9429\n",
      "Fit finished.\n",
      "epoch:   0 loss:0.737145 auc:0.6562\n",
      "epoch:  20 loss:0.320383 auc:0.9798\n",
      "epoch:  40 loss:0.238513 auc:0.9822\n",
      "epoch:  60 loss:0.216218 auc:0.9839\n",
      "epoch:  80 loss:0.207470 auc:0.9833\n",
      "epoch: 100 loss:0.201197 auc:0.9839\n",
      "epoch: 120 loss:0.195965 auc:0.9839\n",
      "epoch: 140 loss:0.193750 auc:0.9839\n",
      "epoch: 160 loss:0.192445 auc:0.9839\n",
      "epoch: 180 loss:0.191436 auc:0.9839\n",
      "epoch: 200 loss:0.191115 auc:0.9839\n"
     ]
    },
    {
     "name": "stderr",
     "output_type": "stream",
     "text": [
      " 73%|███████▎  | 673/916 [6:56:51<19:50,  4.90s/it]"
     ]
    },
    {
     "name": "stdout",
     "output_type": "stream",
     "text": [
      "epoch: 220 loss:0.189805 auc:0.9827\n",
      "Fit finished.\n",
      "epoch:   0 loss:0.729712 auc:0.6402\n",
      "epoch:  20 loss:0.290443 auc:0.9641\n",
      "epoch:  40 loss:0.228142 auc:0.9675\n",
      "epoch:  60 loss:0.213893 auc:0.9681\n",
      "epoch:  80 loss:0.209223 auc:0.9681\n",
      "epoch: 100 loss:0.205142 auc:0.9680\n",
      "epoch: 120 loss:0.200036 auc:0.9670\n",
      "epoch: 140 loss:0.195325 auc:0.9672\n",
      "epoch: 160 loss:0.193318 auc:0.9672\n",
      "epoch: 180 loss:0.192065 auc:0.9664\n"
     ]
    },
    {
     "name": "stderr",
     "output_type": "stream",
     "text": [
      " 74%|███████▎  | 674/916 [6:56:55<19:08,  4.75s/it]"
     ]
    },
    {
     "name": "stdout",
     "output_type": "stream",
     "text": [
      "epoch: 200 loss:0.192232 auc:0.9656\n",
      "Fit finished.\n",
      "epoch:   0 loss:0.863486 auc:0.7582\n",
      "epoch:  20 loss:0.327281 auc:0.9792\n",
      "epoch:  40 loss:0.244248 auc:0.9835\n",
      "epoch:  60 loss:0.218391 auc:0.9837\n",
      "epoch:  80 loss:0.210260 auc:0.9849\n",
      "epoch: 100 loss:0.205196 auc:0.9859\n",
      "epoch: 120 loss:0.200079 auc:0.9863\n",
      "epoch: 140 loss:0.195596 auc:0.9867\n",
      "epoch: 160 loss:0.193476 auc:0.9871\n",
      "epoch: 180 loss:0.192280 auc:0.9876\n",
      "epoch: 200 loss:0.191377 auc:0.9873\n",
      "epoch: 220 loss:0.191536 auc:0.9855\n"
     ]
    },
    {
     "name": "stderr",
     "output_type": "stream",
     "text": [
      " 74%|███████▎  | 675/916 [6:57:01<20:45,  5.17s/it]"
     ]
    },
    {
     "name": "stdout",
     "output_type": "stream",
     "text": [
      "epoch: 240 loss:0.190008 auc:0.9847\n",
      "Fit finished.\n",
      "epoch:   0 loss:0.719933 auc:0.3332\n",
      "epoch:  20 loss:0.254739 auc:0.9636\n",
      "epoch:  40 loss:0.218840 auc:0.9620\n",
      "epoch:  60 loss:0.210023 auc:0.9626\n",
      "epoch:  80 loss:0.204599 auc:0.9626\n",
      "epoch: 100 loss:0.198566 auc:0.9620\n",
      "epoch: 120 loss:0.194434 auc:0.9620\n",
      "epoch: 140 loss:0.192456 auc:0.9626\n",
      "epoch: 160 loss:0.192221 auc:0.9636\n",
      "epoch: 180 loss:0.190029 auc:0.9653\n",
      "epoch: 200 loss:0.188983 auc:0.9683\n",
      "epoch: 220 loss:0.187497 auc:0.9716\n",
      "epoch: 240 loss:0.187449 auc:0.9745\n",
      "epoch: 260 loss:0.185068 auc:0.9759\n",
      "epoch: 280 loss:0.183367 auc:0.9759\n",
      "epoch: 300 loss:0.182256 auc:0.9765\n",
      "epoch: 320 loss:0.181277 auc:0.9736\n"
     ]
    },
    {
     "name": "stderr",
     "output_type": "stream",
     "text": [
      " 74%|███████▍  | 676/916 [6:57:10<24:40,  6.17s/it]"
     ]
    },
    {
     "name": "stdout",
     "output_type": "stream",
     "text": [
      "epoch: 340 loss:0.177729 auc:0.9646\n",
      "Fit finished.\n",
      "epoch:   0 loss:0.667019 auc:0.6863\n",
      "epoch:  20 loss:0.295093 auc:0.9592\n",
      "epoch:  40 loss:0.228483 auc:0.9631\n",
      "epoch:  60 loss:0.214836 auc:0.9669\n",
      "epoch:  80 loss:0.209417 auc:0.9666\n",
      "epoch: 100 loss:0.205068 auc:0.9658\n",
      "epoch: 120 loss:0.199714 auc:0.9654\n",
      "epoch: 140 loss:0.194880 auc:0.9654\n",
      "epoch: 160 loss:0.193657 auc:0.9658\n",
      "epoch: 180 loss:0.192198 auc:0.9654\n",
      "epoch: 200 loss:0.191155 auc:0.9658\n"
     ]
    },
    {
     "name": "stderr",
     "output_type": "stream",
     "text": [
      " 74%|███████▍  | 677/916 [6:57:15<23:22,  5.87s/it]"
     ]
    },
    {
     "name": "stdout",
     "output_type": "stream",
     "text": [
      "epoch: 220 loss:0.190347 auc:0.9654\n",
      "Fit finished.\n",
      "epoch:   0 loss:1.321460 auc:0.2982\n",
      "epoch:  20 loss:0.324275 auc:0.9350\n",
      "epoch:  40 loss:0.242889 auc:0.9479\n",
      "epoch:  60 loss:0.219880 auc:0.9550\n",
      "epoch:  80 loss:0.211973 auc:0.9559\n",
      "epoch: 100 loss:0.207415 auc:0.9571\n",
      "epoch: 120 loss:0.202913 auc:0.9559\n",
      "epoch: 140 loss:0.197931 auc:0.9571\n",
      "epoch: 160 loss:0.194780 auc:0.9563\n",
      "epoch: 180 loss:0.193318 auc:0.9563\n",
      "epoch: 200 loss:0.192307 auc:0.9567\n",
      "epoch: 220 loss:0.191472 auc:0.9575\n",
      "epoch: 240 loss:0.190672 auc:0.9571\n",
      "epoch: 260 loss:0.189881 auc:0.9575\n",
      "epoch: 280 loss:0.189442 auc:0.9584\n",
      "epoch: 300 loss:0.188352 auc:0.9584\n",
      "epoch: 320 loss:0.188309 auc:0.9584\n",
      "epoch: 340 loss:0.188182 auc:0.9613\n",
      "epoch: 360 loss:0.185633 auc:0.9629\n",
      "epoch: 380 loss:0.184410 auc:0.9650\n",
      "epoch: 400 loss:0.185463 auc:0.9633\n",
      "epoch: 420 loss:0.181701 auc:0.9638\n",
      "epoch: 440 loss:0.181159 auc:0.9654\n",
      "epoch: 460 loss:0.182872 auc:0.9638\n",
      "epoch: 480 loss:0.175631 auc:0.9646\n",
      "epoch: 500 loss:0.183075 auc:0.9625\n",
      "epoch: 520 loss:0.175221 auc:0.9675\n"
     ]
    },
    {
     "name": "stderr",
     "output_type": "stream",
     "text": [
      " 74%|███████▍  | 678/916 [6:58:22<1:35:37, 24.11s/it]"
     ]
    },
    {
     "name": "stdout",
     "output_type": "stream",
     "text": [
      "epoch: 540 loss:0.172035 auc:0.9613\n",
      "Fit finished.\n",
      "epoch:   0 loss:0.613543 auc:0.8395\n",
      "epoch:  20 loss:0.321021 auc:0.9766\n",
      "epoch:  40 loss:0.239369 auc:0.9787\n",
      "epoch:  60 loss:0.215257 auc:0.9768\n",
      "epoch:  80 loss:0.206270 auc:0.9754\n",
      "epoch: 100 loss:0.199570 auc:0.9754\n",
      "epoch: 120 loss:0.195380 auc:0.9766\n",
      "epoch: 140 loss:0.193423 auc:0.9761\n",
      "epoch: 160 loss:0.192045 auc:0.9773\n",
      "epoch: 180 loss:0.191278 auc:0.9775\n"
     ]
    },
    {
     "name": "stderr",
     "output_type": "stream",
     "text": [
      " 74%|███████▍  | 679/916 [6:58:26<1:12:10, 18.27s/it]"
     ]
    },
    {
     "name": "stdout",
     "output_type": "stream",
     "text": [
      "epoch: 200 loss:0.190591 auc:0.9780\n",
      "Fit finished.\n",
      "epoch:   0 loss:0.690297 auc:0.3923\n",
      "epoch:  20 loss:0.276311 auc:0.9563\n",
      "epoch:  40 loss:0.221166 auc:0.9688\n",
      "epoch:  60 loss:0.211384 auc:0.9677\n",
      "epoch:  80 loss:0.205515 auc:0.9667\n",
      "epoch: 100 loss:0.197902 auc:0.9677\n",
      "epoch: 120 loss:0.193717 auc:0.9677\n",
      "epoch: 140 loss:0.191991 auc:0.9677\n",
      "epoch: 160 loss:0.190806 auc:0.9688\n",
      "epoch: 180 loss:0.188980 auc:0.9719\n",
      "epoch: 200 loss:0.187607 auc:0.9750\n",
      "epoch: 220 loss:0.187054 auc:0.9781\n",
      "epoch: 240 loss:0.189451 auc:0.9740\n",
      "epoch: 260 loss:0.183620 auc:0.9781\n",
      "epoch: 280 loss:0.181466 auc:0.9761\n",
      "epoch: 300 loss:0.179028 auc:0.9781\n",
      "epoch: 320 loss:0.181957 auc:0.9781\n",
      "epoch: 340 loss:0.180158 auc:0.9771\n",
      "epoch: 360 loss:0.174810 auc:0.9771\n",
      "epoch: 380 loss:0.172394 auc:0.9781\n",
      "epoch: 400 loss:0.171231 auc:0.9771\n"
     ]
    },
    {
     "name": "stderr",
     "output_type": "stream",
     "text": [
      " 74%|███████▍  | 680/916 [6:58:36<1:01:58, 15.76s/it]"
     ]
    },
    {
     "name": "stdout",
     "output_type": "stream",
     "text": [
      "epoch: 420 loss:0.170682 auc:0.9719\n",
      "Fit finished.\n",
      "epoch:   0 loss:0.759263 auc:0.8500\n",
      "epoch:  20 loss:0.333459 auc:0.9438\n",
      "epoch:  40 loss:0.256238 auc:0.9475\n",
      "epoch:  60 loss:0.220712 auc:0.9506\n",
      "epoch:  80 loss:0.209391 auc:0.9525\n",
      "epoch: 100 loss:0.203031 auc:0.9531\n",
      "epoch: 120 loss:0.197686 auc:0.9525\n",
      "epoch: 140 loss:0.194613 auc:0.9525\n",
      "epoch: 160 loss:0.193186 auc:0.9525\n",
      "epoch: 180 loss:0.192211 auc:0.9525\n",
      "epoch: 200 loss:0.191442 auc:0.9525\n",
      "epoch: 220 loss:0.190763 auc:0.9525\n",
      "epoch: 240 loss:0.190180 auc:0.9525\n"
     ]
    },
    {
     "name": "stderr",
     "output_type": "stream",
     "text": [
      " 74%|███████▍  | 681/916 [6:58:42<50:29, 12.89s/it]  "
     ]
    },
    {
     "name": "stdout",
     "output_type": "stream",
     "text": [
      "epoch: 260 loss:0.189652 auc:0.9525\n",
      "Fit finished.\n",
      "epoch:   0 loss:1.233639 auc:0.6880\n",
      "epoch:  20 loss:0.333787 auc:0.9954\n",
      "epoch:  40 loss:0.247160 auc:0.9925\n",
      "epoch:  60 loss:0.220823 auc:0.9921\n",
      "epoch:  80 loss:0.211544 auc:0.9917\n",
      "epoch: 100 loss:0.206444 auc:0.9900\n",
      "epoch: 120 loss:0.201503 auc:0.9900\n",
      "epoch: 140 loss:0.196569 auc:0.9904\n",
      "epoch: 160 loss:0.194003 auc:0.9900\n"
     ]
    },
    {
     "name": "stderr",
     "output_type": "stream",
     "text": [
      " 74%|███████▍  | 682/916 [6:58:46<39:51, 10.22s/it]"
     ]
    },
    {
     "name": "stdout",
     "output_type": "stream",
     "text": [
      "epoch: 180 loss:0.192787 auc:0.9904\n",
      "Fit finished.\n",
      "epoch:   0 loss:0.707926 auc:0.4142\n",
      "epoch:  20 loss:0.274977 auc:0.9597\n",
      "epoch:  40 loss:0.219644 auc:0.9592\n",
      "epoch:  60 loss:0.209787 auc:0.9615\n",
      "epoch:  80 loss:0.203874 auc:0.9602\n",
      "epoch: 100 loss:0.197622 auc:0.9604\n",
      "epoch: 120 loss:0.194137 auc:0.9602\n",
      "epoch: 140 loss:0.192276 auc:0.9609\n",
      "epoch: 160 loss:0.193092 auc:0.9609\n",
      "epoch: 180 loss:0.190031 auc:0.9627\n",
      "epoch: 200 loss:0.188456 auc:0.9650\n",
      "epoch: 220 loss:0.187059 auc:0.9672\n",
      "epoch: 240 loss:0.186629 auc:0.9672\n",
      "epoch: 260 loss:0.183939 auc:0.9683\n",
      "epoch: 280 loss:0.181560 auc:0.9693\n",
      "epoch: 300 loss:0.180623 auc:0.9645\n"
     ]
    },
    {
     "name": "stderr",
     "output_type": "stream",
     "text": [
      " 75%|███████▍  | 683/916 [6:58:53<35:57,  9.26s/it]"
     ]
    },
    {
     "name": "stdout",
     "output_type": "stream",
     "text": [
      "epoch: 320 loss:0.190199 auc:0.9599\n",
      "Fit finished.\n",
      "epoch:   0 loss:0.713513 auc:0.1763\n",
      "epoch:  20 loss:0.297895 auc:0.9670\n",
      "epoch:  40 loss:0.231196 auc:0.9605\n",
      "epoch:  60 loss:0.215741 auc:0.9686\n",
      "epoch:  80 loss:0.208475 auc:0.9697\n",
      "epoch: 100 loss:0.202805 auc:0.9697\n",
      "epoch: 120 loss:0.196961 auc:0.9697\n",
      "epoch: 140 loss:0.193837 auc:0.9692\n",
      "epoch: 160 loss:0.192484 auc:0.9692\n",
      "epoch: 180 loss:0.191453 auc:0.9692\n",
      "epoch: 200 loss:0.190724 auc:0.9697\n",
      "epoch: 220 loss:0.189972 auc:0.9697\n",
      "epoch: 240 loss:0.190008 auc:0.9697\n"
     ]
    },
    {
     "name": "stderr",
     "output_type": "stream",
     "text": [
      " 75%|███████▍  | 684/916 [6:59:00<32:06,  8.30s/it]"
     ]
    },
    {
     "name": "stdout",
     "output_type": "stream",
     "text": [
      "epoch: 260 loss:0.188204 auc:0.9670\n",
      "Fit finished.\n",
      "epoch:   0 loss:0.985353 auc:0.5088\n",
      "epoch:  20 loss:0.325373 auc:0.9535\n",
      "epoch:  40 loss:0.245675 auc:0.9561\n",
      "epoch:  60 loss:0.219402 auc:0.9571\n",
      "epoch:  80 loss:0.210402 auc:0.9566\n",
      "epoch: 100 loss:0.204902 auc:0.9566\n",
      "epoch: 120 loss:0.199423 auc:0.9561\n",
      "epoch: 140 loss:0.195295 auc:0.9566\n",
      "epoch: 160 loss:0.193384 auc:0.9566\n",
      "epoch: 180 loss:0.192237 auc:0.9566\n",
      "epoch: 200 loss:0.191339 auc:0.9566\n"
     ]
    },
    {
     "name": "stderr",
     "output_type": "stream",
     "text": [
      " 75%|███████▍  | 685/916 [6:59:04<27:33,  7.16s/it]"
     ]
    },
    {
     "name": "stdout",
     "output_type": "stream",
     "text": [
      "epoch: 220 loss:0.190561 auc:0.9566\n",
      "Fit finished.\n",
      "epoch:   0 loss:1.118879 auc:0.8159\n",
      "epoch:  20 loss:0.320669 auc:0.9319\n",
      "epoch:  40 loss:0.243403 auc:0.9349\n",
      "epoch:  60 loss:0.220019 auc:0.9379\n",
      "epoch:  80 loss:0.211764 auc:0.9388\n",
      "epoch: 100 loss:0.206995 auc:0.9385\n",
      "epoch: 120 loss:0.202428 auc:0.9385\n",
      "epoch: 140 loss:0.197383 auc:0.9392\n",
      "epoch: 160 loss:0.194191 auc:0.9398\n",
      "epoch: 180 loss:0.192602 auc:0.9382\n",
      "epoch: 200 loss:0.191558 auc:0.9379\n"
     ]
    },
    {
     "name": "stderr",
     "output_type": "stream",
     "text": [
      " 75%|███████▍  | 686/916 [6:59:10<25:48,  6.73s/it]"
     ]
    },
    {
     "name": "stdout",
     "output_type": "stream",
     "text": [
      "epoch: 220 loss:0.190851 auc:0.9362\n",
      "Fit finished.\n",
      "epoch:   0 loss:0.609214 auc:0.6875\n",
      "epoch:  20 loss:0.321674 auc:0.9668\n",
      "epoch:  40 loss:0.232981 auc:0.9783\n",
      "epoch:  60 loss:0.215892 auc:0.9898\n",
      "epoch:  80 loss:0.208211 auc:0.9898\n",
      "epoch: 100 loss:0.202353 auc:0.9898\n",
      "epoch: 120 loss:0.196717 auc:0.9898\n",
      "epoch: 140 loss:0.193883 auc:0.9898\n",
      "epoch: 160 loss:0.192404 auc:0.9898\n",
      "epoch: 180 loss:0.191582 auc:0.9898\n",
      "epoch: 200 loss:0.190649 auc:0.9898\n",
      "epoch: 220 loss:0.189988 auc:0.9898\n",
      "epoch: 240 loss:0.190020 auc:0.9898\n",
      "epoch: 260 loss:0.188651 auc:0.9898\n",
      "epoch: 280 loss:0.187554 auc:0.9898\n",
      "epoch: 300 loss:0.188014 auc:0.9898\n",
      "epoch: 320 loss:0.185860 auc:0.9949\n",
      "epoch: 340 loss:0.184059 auc:0.9949\n",
      "epoch: 360 loss:0.182723 auc:0.9949\n",
      "epoch: 380 loss:0.188871 auc:0.9949\n",
      "epoch: 400 loss:0.178513 auc:0.9936\n",
      "epoch: 420 loss:0.182456 auc:0.9936\n",
      "epoch: 440 loss:0.175208 auc:0.9949\n",
      "epoch: 460 loss:0.170898 auc:0.9911\n"
     ]
    },
    {
     "name": "stderr",
     "output_type": "stream",
     "text": [
      " 75%|███████▌  | 687/916 [6:59:21<31:12,  8.18s/it]"
     ]
    },
    {
     "name": "stdout",
     "output_type": "stream",
     "text": [
      "epoch: 480 loss:0.169729 auc:0.9898\n",
      "Fit finished.\n",
      "epoch:   0 loss:0.595388 auc:0.4030\n",
      "epoch:  20 loss:0.271481 auc:0.9828\n",
      "epoch:  40 loss:0.219010 auc:0.9793\n",
      "epoch:  60 loss:0.209378 auc:0.9779\n",
      "epoch:  80 loss:0.202620 auc:0.9785\n",
      "epoch: 100 loss:0.196191 auc:0.9785\n",
      "epoch: 120 loss:0.193454 auc:0.9779\n",
      "epoch: 140 loss:0.191816 auc:0.9787\n",
      "epoch: 160 loss:0.192142 auc:0.9787\n"
     ]
    },
    {
     "name": "stderr",
     "output_type": "stream",
     "text": [
      " 75%|███████▌  | 688/916 [6:59:25<26:07,  6.88s/it]"
     ]
    },
    {
     "name": "stdout",
     "output_type": "stream",
     "text": [
      "epoch: 180 loss:0.189305 auc:0.9793\n",
      "Fit finished.\n",
      "epoch:   0 loss:0.552516 auc:0.4322\n",
      "epoch:  20 loss:0.243875 auc:0.9817\n",
      "epoch:  40 loss:0.216362 auc:0.9816\n",
      "epoch:  60 loss:0.208262 auc:0.9835\n",
      "epoch:  80 loss:0.202273 auc:0.9826\n",
      "epoch: 100 loss:0.196062 auc:0.9826\n",
      "epoch: 120 loss:0.193287 auc:0.9826\n",
      "epoch: 140 loss:0.191507 auc:0.9841\n",
      "epoch: 160 loss:0.190254 auc:0.9830\n",
      "epoch: 180 loss:0.188595 auc:0.9835\n"
     ]
    },
    {
     "name": "stderr",
     "output_type": "stream",
     "text": [
      " 75%|███████▌  | 689/916 [6:59:30<23:46,  6.28s/it]"
     ]
    },
    {
     "name": "stdout",
     "output_type": "stream",
     "text": [
      "epoch: 200 loss:0.188958 auc:0.9813\n",
      "Fit finished.\n",
      "epoch:   0 loss:0.710099 auc:0.6653\n",
      "epoch:  20 loss:0.285172 auc:0.9752\n",
      "epoch:  40 loss:0.223893 auc:0.9778\n",
      "epoch:  60 loss:0.208690 auc:0.9786\n",
      "epoch:  80 loss:0.200913 auc:0.9794\n",
      "epoch: 100 loss:0.195616 auc:0.9792\n",
      "epoch: 120 loss:0.193433 auc:0.9792\n",
      "epoch: 140 loss:0.192993 auc:0.9794\n",
      "epoch: 160 loss:0.191307 auc:0.9796\n",
      "epoch: 180 loss:0.195535 auc:0.9788\n",
      "epoch: 200 loss:0.190169 auc:0.9792\n"
     ]
    },
    {
     "name": "stderr",
     "output_type": "stream",
     "text": [
      " 75%|███████▌  | 690/916 [6:59:35<22:27,  5.96s/it]"
     ]
    },
    {
     "name": "stdout",
     "output_type": "stream",
     "text": [
      "epoch: 220 loss:0.189088 auc:0.9784\n",
      "Fit finished.\n",
      "epoch:   0 loss:0.694011 auc:0.3884\n",
      "epoch:  20 loss:0.262919 auc:0.9421\n",
      "epoch:  40 loss:0.220451 auc:0.9483\n",
      "epoch:  60 loss:0.210051 auc:0.9499\n",
      "epoch:  80 loss:0.203349 auc:0.9499\n",
      "epoch: 100 loss:0.196230 auc:0.9499\n",
      "epoch: 120 loss:0.193321 auc:0.9494\n",
      "epoch: 140 loss:0.192875 auc:0.9509\n",
      "epoch: 160 loss:0.194043 auc:0.9530\n",
      "epoch: 180 loss:0.189756 auc:0.9535\n",
      "epoch: 200 loss:0.189448 auc:0.9561\n",
      "epoch: 220 loss:0.187828 auc:0.9602\n",
      "epoch: 240 loss:0.192716 auc:0.9592\n",
      "epoch: 260 loss:0.187500 auc:0.9592\n",
      "epoch: 280 loss:0.184548 auc:0.9618\n",
      "epoch: 300 loss:0.182720 auc:0.9638\n",
      "epoch: 320 loss:0.181807 auc:0.9638\n",
      "epoch: 340 loss:0.180147 auc:0.9633\n",
      "epoch: 360 loss:0.177707 auc:0.9649\n"
     ]
    },
    {
     "name": "stderr",
     "output_type": "stream",
     "text": [
      " 75%|███████▌  | 691/916 [6:59:44<25:40,  6.85s/it]"
     ]
    },
    {
     "name": "stdout",
     "output_type": "stream",
     "text": [
      "epoch: 380 loss:0.178539 auc:0.9597\n",
      "Fit finished.\n",
      "epoch:   0 loss:1.036594 auc:0.5894\n",
      "epoch:  20 loss:0.319678 auc:0.9559\n",
      "epoch:  40 loss:0.236537 auc:0.9518\n",
      "epoch:  60 loss:0.216842 auc:0.9551\n",
      "epoch:  80 loss:0.209641 auc:0.9527\n",
      "epoch: 100 loss:0.204554 auc:0.9527\n",
      "epoch: 120 loss:0.198483 auc:0.9527\n",
      "epoch: 140 loss:0.194342 auc:0.9527\n",
      "epoch: 160 loss:0.193217 auc:0.9518\n"
     ]
    },
    {
     "name": "stderr",
     "output_type": "stream",
     "text": [
      " 76%|███████▌  | 692/916 [6:59:48<22:29,  6.02s/it]"
     ]
    },
    {
     "name": "stdout",
     "output_type": "stream",
     "text": [
      "epoch: 180 loss:0.191597 auc:0.9535\n",
      "Fit finished.\n",
      "epoch:   0 loss:0.669867 auc:0.5354\n",
      "epoch:  20 loss:0.261643 auc:0.9504\n",
      "epoch:  40 loss:0.219914 auc:0.9549\n",
      "epoch:  60 loss:0.208539 auc:0.9566\n",
      "epoch:  80 loss:0.200871 auc:0.9570\n",
      "epoch: 100 loss:0.195482 auc:0.9561\n",
      "epoch: 120 loss:0.193083 auc:0.9560\n",
      "epoch: 140 loss:0.191766 auc:0.9536\n",
      "epoch: 160 loss:0.190682 auc:0.9509\n"
     ]
    },
    {
     "name": "stderr",
     "output_type": "stream",
     "text": [
      " 76%|███████▌  | 693/916 [6:59:53<20:28,  5.51s/it]"
     ]
    },
    {
     "name": "stdout",
     "output_type": "stream",
     "text": [
      "epoch: 180 loss:0.191400 auc:0.9464\n",
      "Fit finished.\n",
      "epoch:   0 loss:0.838418 auc:0.1300\n",
      "epoch:  20 loss:0.288590 auc:0.9712\n",
      "epoch:  40 loss:0.228426 auc:0.9658\n",
      "epoch:  60 loss:0.213739 auc:0.9681\n",
      "epoch:  80 loss:0.208302 auc:0.9696\n",
      "epoch: 100 loss:0.203353 auc:0.9708\n",
      "epoch: 120 loss:0.196895 auc:0.9712\n",
      "epoch: 140 loss:0.193442 auc:0.9715\n",
      "epoch: 160 loss:0.191909 auc:0.9723\n",
      "epoch: 180 loss:0.191215 auc:0.9723\n",
      "epoch: 200 loss:0.197087 auc:0.9658\n",
      "epoch: 220 loss:0.189287 auc:0.9704\n"
     ]
    },
    {
     "name": "stderr",
     "output_type": "stream",
     "text": [
      " 76%|███████▌  | 694/916 [7:00:00<22:30,  6.09s/it]"
     ]
    },
    {
     "name": "stdout",
     "output_type": "stream",
     "text": [
      "epoch: 240 loss:0.187677 auc:0.9650\n",
      "Fit finished.\n",
      "epoch:   0 loss:0.934740 auc:0.7008\n",
      "epoch:  20 loss:0.338639 auc:0.9226\n",
      "epoch:  40 loss:0.260178 auc:0.9269\n",
      "epoch:  60 loss:0.224416 auc:0.9264\n",
      "epoch:  80 loss:0.212511 auc:0.9306\n",
      "epoch: 100 loss:0.206561 auc:0.9299\n",
      "epoch: 120 loss:0.200717 auc:0.9292\n",
      "epoch: 140 loss:0.195350 auc:0.9297\n",
      "epoch: 160 loss:0.193483 auc:0.9299\n",
      "epoch: 180 loss:0.192137 auc:0.9301\n",
      "epoch: 200 loss:0.191480 auc:0.9297\n",
      "epoch: 220 loss:0.190765 auc:0.9283\n"
     ]
    },
    {
     "name": "stderr",
     "output_type": "stream",
     "text": [
      " 76%|███████▌  | 695/916 [7:00:05<21:30,  5.84s/it]"
     ]
    },
    {
     "name": "stdout",
     "output_type": "stream",
     "text": [
      "epoch: 240 loss:0.192401 auc:0.9268\n",
      "Fit finished.\n",
      "epoch:   0 loss:0.557671 auc:0.5686\n",
      "epoch:  20 loss:0.254094 auc:0.9688\n",
      "epoch:  40 loss:0.217489 auc:0.9744\n",
      "epoch:  60 loss:0.207368 auc:0.9723\n",
      "epoch:  80 loss:0.200492 auc:0.9737\n",
      "epoch: 100 loss:0.195214 auc:0.9723\n",
      "epoch: 120 loss:0.192762 auc:0.9716\n",
      "epoch: 140 loss:0.192008 auc:0.9723\n",
      "epoch: 160 loss:0.189749 auc:0.9758\n",
      "epoch: 180 loss:0.190844 auc:0.9778\n",
      "epoch: 200 loss:0.185599 auc:0.9765\n",
      "epoch: 220 loss:0.183442 auc:0.9765\n",
      "epoch: 240 loss:0.181399 auc:0.9751\n"
     ]
    },
    {
     "name": "stderr",
     "output_type": "stream",
     "text": [
      " 76%|███████▌  | 696/916 [7:00:11<21:27,  5.85s/it]"
     ]
    },
    {
     "name": "stdout",
     "output_type": "stream",
     "text": [
      "epoch: 260 loss:0.183452 auc:0.9695\n",
      "Fit finished.\n",
      "epoch:   0 loss:0.649468 auc:0.4935\n",
      "epoch:  20 loss:0.288788 auc:0.9587\n",
      "epoch:  40 loss:0.224204 auc:0.9623\n",
      "epoch:  60 loss:0.209576 auc:0.9641\n",
      "epoch:  80 loss:0.201860 auc:0.9641\n",
      "epoch: 100 loss:0.195523 auc:0.9628\n",
      "epoch: 120 loss:0.192916 auc:0.9622\n",
      "epoch: 140 loss:0.192303 auc:0.9607\n",
      "epoch: 160 loss:0.189964 auc:0.9598\n",
      "epoch: 180 loss:0.189130 auc:0.9603\n"
     ]
    },
    {
     "name": "stderr",
     "output_type": "stream",
     "text": [
      " 76%|███████▌  | 697/916 [7:00:16<19:48,  5.42s/it]"
     ]
    },
    {
     "name": "stdout",
     "output_type": "stream",
     "text": [
      "epoch: 200 loss:0.187547 auc:0.9492\n",
      "Fit finished.\n",
      "epoch:   0 loss:0.569097 auc:0.5706\n",
      "epoch:  20 loss:0.257669 auc:0.9820\n",
      "epoch:  40 loss:0.218679 auc:0.9747\n",
      "epoch:  60 loss:0.209029 auc:0.9780\n",
      "epoch:  80 loss:0.201776 auc:0.9771\n",
      "epoch: 100 loss:0.195167 auc:0.9763\n",
      "epoch: 120 loss:0.192622 auc:0.9755\n",
      "epoch: 140 loss:0.191295 auc:0.9763\n",
      "epoch: 160 loss:0.192308 auc:0.9755\n"
     ]
    },
    {
     "name": "stderr",
     "output_type": "stream",
     "text": [
      " 76%|███████▌  | 698/916 [7:00:20<18:30,  5.09s/it]"
     ]
    },
    {
     "name": "stdout",
     "output_type": "stream",
     "text": [
      "epoch: 180 loss:0.189303 auc:0.9780\n",
      "Fit finished.\n",
      "epoch:   0 loss:0.765755 auc:0.1426\n",
      "epoch:  20 loss:0.261616 auc:0.9959\n",
      "epoch:  40 loss:0.220973 auc:0.9938\n",
      "epoch:  60 loss:0.212307 auc:0.9938\n",
      "epoch:  80 loss:0.207543 auc:0.9938\n",
      "epoch: 100 loss:0.201713 auc:0.9938\n",
      "epoch: 120 loss:0.195473 auc:0.9938\n",
      "epoch: 140 loss:0.195615 auc:0.9938\n",
      "epoch: 160 loss:0.192254 auc:0.9938\n"
     ]
    },
    {
     "name": "stderr",
     "output_type": "stream",
     "text": [
      " 76%|███████▋  | 699/916 [7:00:24<17:39,  4.88s/it]"
     ]
    },
    {
     "name": "stdout",
     "output_type": "stream",
     "text": [
      "epoch: 180 loss:0.190493 auc:0.9938\n",
      "Fit finished.\n",
      "epoch:   0 loss:0.799601 auc:0.3302\n",
      "epoch:  20 loss:0.282779 auc:0.9652\n",
      "epoch:  40 loss:0.224710 auc:0.9684\n",
      "epoch:  60 loss:0.212247 auc:0.9735\n",
      "epoch:  80 loss:0.207454 auc:0.9734\n",
      "epoch: 100 loss:0.202806 auc:0.9733\n",
      "epoch: 120 loss:0.197529 auc:0.9733\n",
      "epoch: 140 loss:0.194054 auc:0.9734\n",
      "epoch: 160 loss:0.192527 auc:0.9733\n",
      "epoch: 180 loss:0.191274 auc:0.9719\n",
      "epoch: 200 loss:0.190338 auc:0.9706\n"
     ]
    },
    {
     "name": "stderr",
     "output_type": "stream",
     "text": [
      " 76%|███████▋  | 700/916 [7:00:30<17:57,  4.99s/it]"
     ]
    },
    {
     "name": "stdout",
     "output_type": "stream",
     "text": [
      "epoch: 220 loss:0.191558 auc:0.9650\n",
      "Fit finished.\n",
      "epoch:   0 loss:0.912746 auc:0.6786\n",
      "epoch:  20 loss:0.313659 auc:0.9798\n",
      "epoch:  40 loss:0.231006 auc:0.9770\n",
      "epoch:  60 loss:0.214630 auc:0.9807\n",
      "epoch:  80 loss:0.208058 auc:0.9807\n",
      "epoch: 100 loss:0.203213 auc:0.9807\n",
      "epoch: 120 loss:0.198302 auc:0.9807\n",
      "epoch: 140 loss:0.195007 auc:0.9807\n",
      "epoch: 160 loss:0.193482 auc:0.9807\n",
      "epoch: 180 loss:0.192027 auc:0.9807\n",
      "epoch: 200 loss:0.191214 auc:0.9807\n",
      "epoch: 220 loss:0.190409 auc:0.9807\n",
      "epoch: 240 loss:0.189130 auc:0.9807\n",
      "epoch: 260 loss:0.189283 auc:0.9807\n",
      "epoch: 280 loss:0.187373 auc:0.9816\n",
      "epoch: 300 loss:0.187957 auc:0.9816\n",
      "epoch: 320 loss:0.185478 auc:0.9816\n",
      "epoch: 340 loss:0.183232 auc:0.9816\n"
     ]
    },
    {
     "name": "stderr",
     "output_type": "stream",
     "text": [
      " 77%|███████▋  | 701/916 [7:00:38<21:54,  6.11s/it]"
     ]
    },
    {
     "name": "stdout",
     "output_type": "stream",
     "text": [
      "epoch: 360 loss:0.180683 auc:0.9789\n",
      "Fit finished.\n",
      "epoch:   0 loss:0.897140 auc:0.7196\n",
      "epoch:  20 loss:0.320689 auc:0.9352\n",
      "epoch:  40 loss:0.237245 auc:0.9460\n",
      "epoch:  60 loss:0.215472 auc:0.9468\n",
      "epoch:  80 loss:0.206780 auc:0.9472\n",
      "epoch: 100 loss:0.200742 auc:0.9472\n",
      "epoch: 120 loss:0.195860 auc:0.9472\n",
      "epoch: 140 loss:0.193587 auc:0.9480\n",
      "epoch: 160 loss:0.192330 auc:0.9472\n",
      "epoch: 180 loss:0.191360 auc:0.9472\n",
      "epoch: 200 loss:0.190748 auc:0.9472\n",
      "epoch: 220 loss:0.189764 auc:0.9468\n"
     ]
    },
    {
     "name": "stderr",
     "output_type": "stream",
     "text": [
      " 77%|███████▋  | 702/916 [7:00:44<21:26,  6.01s/it]"
     ]
    },
    {
     "name": "stdout",
     "output_type": "stream",
     "text": [
      "epoch: 240 loss:0.188750 auc:0.9464\n",
      "Fit finished.\n",
      "epoch:   0 loss:1.242429 auc:0.8329\n",
      "epoch:  20 loss:0.308803 auc:0.9927\n",
      "epoch:  40 loss:0.236282 auc:0.9963\n",
      "epoch:  60 loss:0.215943 auc:0.9963\n",
      "epoch:  80 loss:0.207614 auc:0.9963\n",
      "epoch: 100 loss:0.201661 auc:0.9963\n",
      "epoch: 120 loss:0.196338 auc:0.9963\n",
      "epoch: 140 loss:0.193911 auc:0.9963\n",
      "epoch: 160 loss:0.192637 auc:0.9963\n",
      "epoch: 180 loss:0.191664 auc:0.9963\n",
      "epoch: 200 loss:0.190779 auc:0.9963\n",
      "epoch: 220 loss:0.190156 auc:0.9963\n",
      "epoch: 240 loss:0.189212 auc:0.9963\n",
      "epoch: 260 loss:0.188247 auc:0.9963\n",
      "epoch: 280 loss:0.188698 auc:0.9963\n",
      "epoch: 300 loss:0.186588 auc:0.9982\n",
      "epoch: 320 loss:0.185351 auc:0.9991\n",
      "epoch: 340 loss:0.184736 auc:0.9991\n",
      "epoch: 360 loss:0.183394 auc:0.9982\n",
      "epoch: 380 loss:0.181594 auc:0.9991\n",
      "epoch: 400 loss:0.178618 auc:0.9982\n",
      "epoch: 420 loss:0.179495 auc:0.9991\n",
      "epoch: 440 loss:0.175426 auc:0.9972\n",
      "epoch: 460 loss:0.172939 auc:0.9991\n"
     ]
    },
    {
     "name": "stderr",
     "output_type": "stream",
     "text": [
      " 77%|███████▋  | 703/916 [7:00:56<27:32,  7.76s/it]"
     ]
    },
    {
     "name": "stdout",
     "output_type": "stream",
     "text": [
      "epoch: 480 loss:0.171317 auc:0.9963\n",
      "Fit finished.\n",
      "epoch:   0 loss:0.798064 auc:0.5278\n",
      "epoch:  20 loss:0.333969 auc:0.9683\n",
      "epoch:  40 loss:0.247540 auc:0.9739\n",
      "epoch:  60 loss:0.218340 auc:0.9739\n",
      "epoch:  80 loss:0.209619 auc:0.9717\n",
      "epoch: 100 loss:0.203780 auc:0.9711\n",
      "epoch: 120 loss:0.197811 auc:0.9717\n",
      "epoch: 140 loss:0.194201 auc:0.9711\n",
      "epoch: 160 loss:0.192485 auc:0.9711\n",
      "epoch: 180 loss:0.191300 auc:0.9705\n"
     ]
    },
    {
     "name": "stderr",
     "output_type": "stream",
     "text": [
      " 77%|███████▋  | 704/916 [7:01:01<24:25,  6.91s/it]"
     ]
    },
    {
     "name": "stdout",
     "output_type": "stream",
     "text": [
      "epoch: 200 loss:0.190699 auc:0.9700\n",
      "Fit finished.\n",
      "epoch:   0 loss:0.695858 auc:0.5070\n",
      "epoch:  20 loss:0.306287 auc:0.9704\n",
      "epoch:  40 loss:0.230767 auc:0.9717\n",
      "epoch:  60 loss:0.214171 auc:0.9753\n",
      "epoch:  80 loss:0.207676 auc:0.9737\n",
      "epoch: 100 loss:0.202679 auc:0.9739\n",
      "epoch: 120 loss:0.197726 auc:0.9733\n",
      "epoch: 140 loss:0.194367 auc:0.9726\n",
      "epoch: 160 loss:0.192662 auc:0.9717\n"
     ]
    },
    {
     "name": "stderr",
     "output_type": "stream",
     "text": [
      " 77%|███████▋  | 705/916 [7:01:05<21:44,  6.18s/it]"
     ]
    },
    {
     "name": "stdout",
     "output_type": "stream",
     "text": [
      "epoch: 180 loss:0.191508 auc:0.9699\n",
      "Fit finished.\n",
      "epoch:   0 loss:0.688969 auc:0.6061\n",
      "epoch:  20 loss:0.285636 auc:0.9656\n",
      "epoch:  40 loss:0.224789 auc:0.9606\n",
      "epoch:  60 loss:0.214075 auc:0.9658\n",
      "epoch:  80 loss:0.209646 auc:0.9644\n",
      "epoch: 100 loss:0.205561 auc:0.9650\n",
      "epoch: 120 loss:0.200524 auc:0.9639\n",
      "epoch: 140 loss:0.195543 auc:0.9622\n",
      "epoch: 160 loss:0.193607 auc:0.9597\n"
     ]
    },
    {
     "name": "stderr",
     "output_type": "stream",
     "text": [
      " 77%|███████▋  | 706/916 [7:01:10<19:42,  5.63s/it]"
     ]
    },
    {
     "name": "stdout",
     "output_type": "stream",
     "text": [
      "epoch: 180 loss:0.191614 auc:0.9567\n",
      "Fit finished.\n",
      "epoch:   0 loss:0.787453 auc:0.4797\n",
      "epoch:  20 loss:0.319633 auc:0.9704\n",
      "epoch:  40 loss:0.234270 auc:0.9734\n",
      "epoch:  60 loss:0.215115 auc:0.9723\n",
      "epoch:  80 loss:0.207358 auc:0.9730\n",
      "epoch: 100 loss:0.200815 auc:0.9730\n",
      "epoch: 120 loss:0.195149 auc:0.9723\n",
      "epoch: 140 loss:0.192964 auc:0.9741\n",
      "epoch: 160 loss:0.191752 auc:0.9734\n",
      "epoch: 180 loss:0.190980 auc:0.9715\n"
     ]
    },
    {
     "name": "stderr",
     "output_type": "stream",
     "text": [
      " 77%|███████▋  | 707/916 [7:01:15<18:53,  5.42s/it]"
     ]
    },
    {
     "name": "stdout",
     "output_type": "stream",
     "text": [
      "epoch: 200 loss:0.190232 auc:0.9719\n",
      "Fit finished.\n",
      "epoch:   0 loss:0.558025 auc:0.7311\n",
      "epoch:  20 loss:0.258473 auc:0.9410\n",
      "epoch:  40 loss:0.217640 auc:0.9561\n",
      "epoch:  60 loss:0.207693 auc:0.9588\n",
      "epoch:  80 loss:0.200323 auc:0.9561\n",
      "epoch: 100 loss:0.195199 auc:0.9534\n",
      "epoch: 120 loss:0.192829 auc:0.9534\n",
      "epoch: 140 loss:0.191754 auc:0.9575\n",
      "epoch: 160 loss:0.189616 auc:0.9575\n",
      "epoch: 180 loss:0.190219 auc:0.9602\n",
      "epoch: 200 loss:0.187914 auc:0.9671\n",
      "epoch: 220 loss:0.186041 auc:0.9671\n",
      "epoch: 240 loss:0.184933 auc:0.9657\n",
      "epoch: 260 loss:0.184267 auc:0.9671\n",
      "epoch: 280 loss:0.183852 auc:0.9684\n",
      "epoch: 300 loss:0.177702 auc:0.9684\n",
      "epoch: 320 loss:0.181439 auc:0.9698\n",
      "epoch: 340 loss:0.172439 auc:0.9671\n"
     ]
    },
    {
     "name": "stderr",
     "output_type": "stream",
     "text": [
      " 77%|███████▋  | 708/916 [7:01:24<22:25,  6.47s/it]"
     ]
    },
    {
     "name": "stdout",
     "output_type": "stream",
     "text": [
      "epoch: 360 loss:0.170820 auc:0.9643\n",
      "Fit finished.\n",
      "epoch:   0 loss:0.760891 auc:0.5482\n",
      "epoch:  20 loss:0.313166 auc:0.9618\n",
      "epoch:  40 loss:0.235108 auc:0.9634\n",
      "epoch:  60 loss:0.217691 auc:0.9631\n",
      "epoch:  80 loss:0.209417 auc:0.9621\n",
      "epoch: 100 loss:0.203112 auc:0.9631\n",
      "epoch: 120 loss:0.196910 auc:0.9628\n",
      "epoch: 140 loss:0.193735 auc:0.9646\n",
      "epoch: 160 loss:0.192442 auc:0.9646\n",
      "epoch: 180 loss:0.191291 auc:0.9649\n",
      "epoch: 200 loss:0.190693 auc:0.9640\n",
      "epoch: 220 loss:0.189773 auc:0.9634\n",
      "epoch: 240 loss:0.190147 auc:0.9621\n"
     ]
    },
    {
     "name": "stderr",
     "output_type": "stream",
     "text": [
      " 77%|███████▋  | 709/916 [7:01:29<21:42,  6.29s/it]"
     ]
    },
    {
     "name": "stdout",
     "output_type": "stream",
     "text": [
      "epoch: 260 loss:0.188804 auc:0.9612\n",
      "Fit finished.\n",
      "epoch:   0 loss:1.033462 auc:0.6789\n",
      "epoch:  20 loss:0.327724 auc:0.9422\n",
      "epoch:  40 loss:0.255478 auc:0.9667\n",
      "epoch:  60 loss:0.222680 auc:0.9678\n",
      "epoch:  80 loss:0.210744 auc:0.9722\n",
      "epoch: 100 loss:0.204040 auc:0.9711\n",
      "epoch: 120 loss:0.198289 auc:0.9711\n",
      "epoch: 140 loss:0.194666 auc:0.9711\n",
      "epoch: 160 loss:0.192983 auc:0.9711\n",
      "epoch: 180 loss:0.191993 auc:0.9711\n",
      "epoch: 200 loss:0.191201 auc:0.9711\n",
      "epoch: 220 loss:0.190606 auc:0.9711\n"
     ]
    },
    {
     "name": "stderr",
     "output_type": "stream",
     "text": [
      " 78%|███████▊  | 710/916 [7:02:31<1:18:53, 22.98s/it]"
     ]
    },
    {
     "name": "stdout",
     "output_type": "stream",
     "text": [
      "epoch: 240 loss:0.190097 auc:0.9711\n",
      "Fit finished.\n",
      "epoch:   0 loss:0.726016 auc:0.2367\n",
      "epoch:  20 loss:0.274726 auc:0.9759\n",
      "epoch:  40 loss:0.224538 auc:0.9762\n",
      "epoch:  60 loss:0.211989 auc:0.9729\n",
      "epoch:  80 loss:0.206118 auc:0.9749\n",
      "epoch: 100 loss:0.200753 auc:0.9749\n",
      "epoch: 120 loss:0.196169 auc:0.9749\n",
      "epoch: 140 loss:0.193850 auc:0.9745\n",
      "epoch: 160 loss:0.192430 auc:0.9749\n"
     ]
    },
    {
     "name": "stderr",
     "output_type": "stream",
     "text": [
      " 78%|███████▊  | 711/916 [7:02:36<59:20, 17.37s/it]  "
     ]
    },
    {
     "name": "stdout",
     "output_type": "stream",
     "text": [
      "epoch: 180 loss:0.191334 auc:0.9752\n",
      "Fit finished.\n",
      "epoch:   0 loss:0.623507 auc:0.2420\n",
      "epoch:  20 loss:0.280181 auc:0.9502\n",
      "epoch:  40 loss:0.222345 auc:0.9467\n",
      "epoch:  60 loss:0.210199 auc:0.9423\n",
      "epoch:  80 loss:0.203864 auc:0.9444\n",
      "epoch: 100 loss:0.197569 auc:0.9448\n",
      "epoch: 120 loss:0.194146 auc:0.9453\n",
      "epoch: 140 loss:0.193053 auc:0.9436\n",
      "epoch: 160 loss:0.191218 auc:0.9417\n"
     ]
    },
    {
     "name": "stderr",
     "output_type": "stream",
     "text": [
      " 78%|███████▊  | 712/916 [7:02:41<46:29, 13.67s/it]"
     ]
    },
    {
     "name": "stdout",
     "output_type": "stream",
     "text": [
      "epoch: 180 loss:0.191193 auc:0.9366\n",
      "Fit finished.\n",
      "epoch:   0 loss:0.791695 auc:0.5633\n",
      "epoch:  20 loss:0.305796 auc:0.9423\n",
      "epoch:  40 loss:0.231183 auc:0.9494\n",
      "epoch:  60 loss:0.215246 auc:0.9518\n",
      "epoch:  80 loss:0.207659 auc:0.9513\n",
      "epoch: 100 loss:0.201770 auc:0.9523\n",
      "epoch: 120 loss:0.196479 auc:0.9513\n",
      "epoch: 140 loss:0.193834 auc:0.9509\n",
      "epoch: 160 loss:0.192456 auc:0.9499\n",
      "epoch: 180 loss:0.191448 auc:0.9509\n",
      "epoch: 200 loss:0.190559 auc:0.9499\n"
     ]
    },
    {
     "name": "stderr",
     "output_type": "stream",
     "text": [
      " 78%|███████▊  | 713/916 [7:02:46<37:38, 11.13s/it]"
     ]
    },
    {
     "name": "stdout",
     "output_type": "stream",
     "text": [
      "epoch: 220 loss:0.189966 auc:0.9494\n",
      "Fit finished.\n",
      "epoch:   0 loss:0.757924 auc:0.7880\n",
      "epoch:  20 loss:0.285872 auc:0.9784\n",
      "epoch:  40 loss:0.224785 auc:0.9751\n",
      "epoch:  60 loss:0.211203 auc:0.9746\n",
      "epoch:  80 loss:0.204970 auc:0.9746\n",
      "epoch: 100 loss:0.199016 auc:0.9740\n",
      "epoch: 120 loss:0.194753 auc:0.9740\n",
      "epoch: 140 loss:0.192821 auc:0.9740\n",
      "epoch: 160 loss:0.192312 auc:0.9740\n"
     ]
    },
    {
     "name": "stderr",
     "output_type": "stream",
     "text": [
      " 78%|███████▊  | 714/916 [7:02:50<30:09,  8.96s/it]"
     ]
    },
    {
     "name": "stdout",
     "output_type": "stream",
     "text": [
      "epoch: 180 loss:0.190769 auc:0.9740\n",
      "Fit finished.\n",
      "epoch:   0 loss:0.659077 auc:0.3110\n",
      "epoch:  20 loss:0.252637 auc:0.9792\n",
      "epoch:  40 loss:0.217589 auc:0.9839\n",
      "epoch:  60 loss:0.209576 auc:0.9835\n",
      "epoch:  80 loss:0.203915 auc:0.9839\n",
      "epoch: 100 loss:0.197141 auc:0.9835\n",
      "epoch: 120 loss:0.193632 auc:0.9835\n",
      "epoch: 140 loss:0.192121 auc:0.9839\n",
      "epoch: 160 loss:0.190518 auc:0.9835\n",
      "epoch: 180 loss:0.190277 auc:0.9849\n",
      "epoch: 200 loss:0.188604 auc:0.9868\n",
      "epoch: 220 loss:0.186065 auc:0.9882\n",
      "epoch: 240 loss:0.184946 auc:0.9882\n",
      "epoch: 260 loss:0.182663 auc:0.9863\n",
      "epoch: 280 loss:0.180820 auc:0.9849\n",
      "epoch: 300 loss:0.178351 auc:0.9882\n",
      "epoch: 320 loss:0.175109 auc:0.9858\n",
      "epoch: 340 loss:0.174475 auc:0.9868\n"
     ]
    },
    {
     "name": "stderr",
     "output_type": "stream",
     "text": [
      " 78%|███████▊  | 715/916 [7:02:58<28:56,  8.64s/it]"
     ]
    },
    {
     "name": "stdout",
     "output_type": "stream",
     "text": [
      "epoch: 360 loss:0.172244 auc:0.9825\n",
      "Fit finished.\n",
      "epoch:   0 loss:0.857144 auc:0.8047\n",
      "epoch:  20 loss:0.326869 auc:0.9648\n",
      "epoch:  40 loss:0.245765 auc:0.9727\n",
      "epoch:  60 loss:0.217999 auc:0.9717\n",
      "epoch:  80 loss:0.209126 auc:0.9717\n",
      "epoch: 100 loss:0.203711 auc:0.9717\n",
      "epoch: 120 loss:0.198300 auc:0.9717\n",
      "epoch: 140 loss:0.194523 auc:0.9717\n",
      "epoch: 160 loss:0.192939 auc:0.9717\n",
      "epoch: 180 loss:0.191886 auc:0.9717\n"
     ]
    },
    {
     "name": "stderr",
     "output_type": "stream",
     "text": [
      " 78%|███████▊  | 716/916 [7:03:02<24:47,  7.44s/it]"
     ]
    },
    {
     "name": "stdout",
     "output_type": "stream",
     "text": [
      "epoch: 200 loss:0.191320 auc:0.9717\n",
      "Fit finished.\n",
      "epoch:   0 loss:0.947652 auc:0.2661\n",
      "epoch:  20 loss:0.306472 auc:0.9601\n",
      "epoch:  40 loss:0.230069 auc:0.9626\n",
      "epoch:  60 loss:0.214465 auc:0.9580\n",
      "epoch:  80 loss:0.207487 auc:0.9589\n",
      "epoch: 100 loss:0.201912 auc:0.9605\n",
      "epoch: 120 loss:0.196199 auc:0.9605\n",
      "epoch: 140 loss:0.193543 auc:0.9610\n",
      "epoch: 160 loss:0.194377 auc:0.9610\n",
      "epoch: 180 loss:0.191362 auc:0.9612\n"
     ]
    },
    {
     "name": "stderr",
     "output_type": "stream",
     "text": [
      " 78%|███████▊  | 717/916 [7:03:07<21:37,  6.52s/it]"
     ]
    },
    {
     "name": "stdout",
     "output_type": "stream",
     "text": [
      "epoch: 200 loss:0.190224 auc:0.9603\n",
      "Fit finished.\n",
      "epoch:   0 loss:0.971774 auc:0.5236\n",
      "epoch:  20 loss:0.311467 auc:0.9508\n",
      "epoch:  40 loss:0.229619 auc:0.9539\n",
      "epoch:  60 loss:0.213759 auc:0.9509\n",
      "epoch:  80 loss:0.206877 auc:0.9518\n",
      "epoch: 100 loss:0.200187 auc:0.9526\n",
      "epoch: 120 loss:0.194714 auc:0.9520\n",
      "epoch: 140 loss:0.193296 auc:0.9518\n",
      "epoch: 160 loss:0.191901 auc:0.9523\n",
      "epoch: 180 loss:0.190924 auc:0.9526\n"
     ]
    },
    {
     "name": "stderr",
     "output_type": "stream",
     "text": [
      " 78%|███████▊  | 718/916 [7:03:11<19:26,  5.89s/it]"
     ]
    },
    {
     "name": "stdout",
     "output_type": "stream",
     "text": [
      "epoch: 200 loss:0.190797 auc:0.9515\n",
      "Fit finished.\n",
      "epoch:   0 loss:0.670479 auc:0.7407\n",
      "epoch:  20 loss:0.280549 auc:0.9479\n",
      "epoch:  40 loss:0.224489 auc:0.9534\n",
      "epoch:  60 loss:0.211356 auc:0.9575\n",
      "epoch:  80 loss:0.205950 auc:0.9534\n",
      "epoch: 100 loss:0.200657 auc:0.9547\n",
      "epoch: 120 loss:0.195696 auc:0.9534\n",
      "epoch: 140 loss:0.193418 auc:0.9534\n",
      "epoch: 160 loss:0.191993 auc:0.9534\n",
      "epoch: 180 loss:0.190720 auc:0.9534\n",
      "epoch: 200 loss:0.190626 auc:0.9561\n",
      "epoch: 220 loss:0.188874 auc:0.9575\n"
     ]
    },
    {
     "name": "stderr",
     "output_type": "stream",
     "text": [
      " 78%|███████▊  | 719/916 [7:03:17<18:55,  5.76s/it]"
     ]
    },
    {
     "name": "stdout",
     "output_type": "stream",
     "text": [
      "epoch: 240 loss:0.187912 auc:0.9520\n",
      "Fit finished.\n",
      "epoch:   0 loss:0.880875 auc:0.6584\n",
      "epoch:  20 loss:0.316629 auc:0.9486\n",
      "epoch:  40 loss:0.240516 auc:0.9529\n",
      "epoch:  60 loss:0.216957 auc:0.9539\n",
      "epoch:  80 loss:0.207616 auc:0.9536\n",
      "epoch: 100 loss:0.201710 auc:0.9539\n",
      "epoch: 120 loss:0.196878 auc:0.9543\n",
      "epoch: 140 loss:0.194290 auc:0.9539\n",
      "epoch: 160 loss:0.192897 auc:0.9541\n",
      "epoch: 180 loss:0.191928 auc:0.9541\n",
      "epoch: 200 loss:0.191138 auc:0.9541\n",
      "epoch: 220 loss:0.190452 auc:0.9545\n",
      "epoch: 240 loss:0.189845 auc:0.9539\n"
     ]
    },
    {
     "name": "stderr",
     "output_type": "stream",
     "text": [
      " 79%|███████▊  | 720/916 [7:03:23<19:46,  6.06s/it]"
     ]
    },
    {
     "name": "stdout",
     "output_type": "stream",
     "text": [
      "epoch: 260 loss:0.189281 auc:0.9534\n",
      "Fit finished.\n",
      "epoch:   0 loss:1.009601 auc:0.7160\n",
      "epoch:  20 loss:0.326633 auc:0.9623\n",
      "epoch:  40 loss:0.246736 auc:0.9706\n",
      "epoch:  60 loss:0.216924 auc:0.9693\n",
      "epoch:  80 loss:0.208431 auc:0.9673\n",
      "epoch: 100 loss:0.202378 auc:0.9679\n",
      "epoch: 120 loss:0.196958 auc:0.9679\n",
      "epoch: 140 loss:0.193881 auc:0.9676\n",
      "epoch: 160 loss:0.192854 auc:0.9666\n",
      "epoch: 180 loss:0.191373 auc:0.9673\n"
     ]
    },
    {
     "name": "stderr",
     "output_type": "stream",
     "text": [
      " 79%|███████▊  | 721/916 [7:03:28<18:10,  5.59s/it]"
     ]
    },
    {
     "name": "stdout",
     "output_type": "stream",
     "text": [
      "epoch: 200 loss:0.190496 auc:0.9676\n",
      "Fit finished.\n",
      "epoch:   0 loss:0.566796 auc:0.5249\n",
      "epoch:  20 loss:0.233497 auc:0.9469\n",
      "epoch:  40 loss:0.214709 auc:0.9589\n",
      "epoch:  60 loss:0.207458 auc:0.9555\n",
      "epoch:  80 loss:0.200403 auc:0.9562\n",
      "epoch: 100 loss:0.194765 auc:0.9561\n",
      "epoch: 120 loss:0.193269 auc:0.9559\n",
      "epoch: 140 loss:0.190621 auc:0.9549\n",
      "epoch: 160 loss:0.189334 auc:0.9555\n",
      "epoch: 180 loss:0.187987 auc:0.9483\n"
     ]
    },
    {
     "name": "stderr",
     "output_type": "stream",
     "text": [
      " 79%|███████▉  | 722/916 [7:03:31<15:53,  4.91s/it]"
     ]
    },
    {
     "name": "stdout",
     "output_type": "stream",
     "text": [
      "epoch: 200 loss:0.186164 auc:0.9422\n",
      "Fit finished.\n",
      "epoch:   0 loss:0.628024 auc:0.3658\n",
      "epoch:  20 loss:0.291909 auc:0.9146\n",
      "epoch:  40 loss:0.226280 auc:0.9179\n",
      "epoch:  60 loss:0.211294 auc:0.9168\n",
      "epoch:  80 loss:0.204839 auc:0.9172\n",
      "epoch: 100 loss:0.198589 auc:0.9175\n",
      "epoch: 120 loss:0.194400 auc:0.9179\n",
      "epoch: 140 loss:0.192556 auc:0.9161\n",
      "epoch: 160 loss:0.191277 auc:0.9161\n"
     ]
    },
    {
     "name": "stderr",
     "output_type": "stream",
     "text": [
      " 79%|███████▉  | 723/916 [7:03:34<13:34,  4.22s/it]"
     ]
    },
    {
     "name": "stdout",
     "output_type": "stream",
     "text": [
      "epoch: 180 loss:0.190027 auc:0.9135\n",
      "Fit finished.\n",
      "epoch:   0 loss:0.910033 auc:0.5427\n",
      "epoch:  20 loss:0.323189 auc:0.9591\n",
      "epoch:  40 loss:0.239023 auc:0.9591\n",
      "epoch:  60 loss:0.220336 auc:0.9674\n",
      "epoch:  80 loss:0.212548 auc:0.9688\n",
      "epoch: 100 loss:0.208355 auc:0.9683\n",
      "epoch: 120 loss:0.204268 auc:0.9681\n",
      "epoch: 140 loss:0.199504 auc:0.9674\n",
      "epoch: 160 loss:0.195426 auc:0.9672\n",
      "epoch: 180 loss:0.193374 auc:0.9665\n",
      "epoch: 200 loss:0.192123 auc:0.9676\n"
     ]
    },
    {
     "name": "stderr",
     "output_type": "stream",
     "text": [
      " 79%|███████▉  | 724/916 [7:03:37<12:31,  3.92s/it]"
     ]
    },
    {
     "name": "stdout",
     "output_type": "stream",
     "text": [
      "epoch: 220 loss:0.191284 auc:0.9669\n",
      "Fit finished.\n",
      "epoch:   0 loss:0.633420 auc:0.4614\n",
      "epoch:  20 loss:0.286608 auc:0.9360\n",
      "epoch:  40 loss:0.225912 auc:0.9344\n",
      "epoch:  60 loss:0.209183 auc:0.9366\n",
      "epoch:  80 loss:0.201842 auc:0.9375\n",
      "epoch: 100 loss:0.196221 auc:0.9375\n",
      "epoch: 120 loss:0.193679 auc:0.9375\n",
      "epoch: 140 loss:0.192197 auc:0.9375\n",
      "epoch: 160 loss:0.190933 auc:0.9372\n",
      "epoch: 180 loss:0.190423 auc:0.9388\n",
      "epoch: 200 loss:0.189188 auc:0.9384\n",
      "epoch: 220 loss:0.187724 auc:0.9381\n"
     ]
    },
    {
     "name": "stderr",
     "output_type": "stream",
     "text": [
      " 79%|███████▉  | 725/916 [7:03:40<11:57,  3.76s/it]"
     ]
    },
    {
     "name": "stdout",
     "output_type": "stream",
     "text": [
      "epoch: 240 loss:0.187118 auc:0.9366\n",
      "Fit finished.\n",
      "epoch:   0 loss:0.602369 auc:0.3881\n",
      "epoch:  20 loss:0.247190 auc:0.9698\n",
      "epoch:  40 loss:0.216442 auc:0.9677\n",
      "epoch:  60 loss:0.207739 auc:0.9677\n",
      "epoch:  80 loss:0.200384 auc:0.9677\n",
      "epoch: 100 loss:0.195144 auc:0.9688\n",
      "epoch: 120 loss:0.192961 auc:0.9677\n",
      "epoch: 140 loss:0.191397 auc:0.9698\n",
      "epoch: 160 loss:0.190821 auc:0.9709\n",
      "epoch: 180 loss:0.189432 auc:0.9698\n",
      "epoch: 200 loss:0.192880 auc:0.9719\n",
      "epoch: 220 loss:0.187522 auc:0.9719\n",
      "epoch: 240 loss:0.185109 auc:0.9698\n",
      "epoch: 260 loss:0.184993 auc:0.9688\n",
      "epoch: 280 loss:0.180974 auc:0.9677\n",
      "epoch: 300 loss:0.179080 auc:0.9698\n"
     ]
    },
    {
     "name": "stderr",
     "output_type": "stream",
     "text": [
      " 79%|███████▉  | 726/916 [7:03:45<12:25,  3.92s/it]"
     ]
    },
    {
     "name": "stdout",
     "output_type": "stream",
     "text": [
      "epoch: 320 loss:0.183787 auc:0.9677\n",
      "Fit finished.\n",
      "epoch:   0 loss:0.855390 auc:0.1826\n",
      "epoch:  20 loss:0.308640 auc:0.9737\n",
      "epoch:  40 loss:0.231826 auc:0.9832\n",
      "epoch:  60 loss:0.215195 auc:0.9839\n",
      "epoch:  80 loss:0.209091 auc:0.9832\n",
      "epoch: 100 loss:0.203596 auc:0.9839\n",
      "epoch: 120 loss:0.197211 auc:0.9832\n",
      "epoch: 140 loss:0.193895 auc:0.9832\n",
      "epoch: 160 loss:0.192267 auc:0.9832\n",
      "epoch: 180 loss:0.191401 auc:0.9832\n",
      "epoch: 200 loss:0.190949 auc:0.9832\n"
     ]
    },
    {
     "name": "stderr",
     "output_type": "stream",
     "text": [
      " 79%|███████▉  | 727/916 [7:03:48<11:29,  3.65s/it]"
     ]
    },
    {
     "name": "stdout",
     "output_type": "stream",
     "text": [
      "epoch: 220 loss:0.189414 auc:0.9825\n",
      "Fit finished.\n",
      "epoch:   0 loss:0.789067 auc:0.2925\n",
      "epoch:  20 loss:0.325711 auc:0.9341\n",
      "epoch:  40 loss:0.243183 auc:0.9399\n",
      "epoch:  60 loss:0.217135 auc:0.9398\n",
      "epoch:  80 loss:0.207954 auc:0.9380\n",
      "epoch: 100 loss:0.200838 auc:0.9413\n",
      "epoch: 120 loss:0.195423 auc:0.9411\n",
      "epoch: 140 loss:0.193233 auc:0.9429\n",
      "epoch: 160 loss:0.192113 auc:0.9419\n",
      "epoch: 180 loss:0.191265 auc:0.9408\n",
      "epoch: 200 loss:0.191114 auc:0.9405\n"
     ]
    },
    {
     "name": "stderr",
     "output_type": "stream",
     "text": [
      " 79%|███████▉  | 728/916 [7:03:51<10:50,  3.46s/it]"
     ]
    },
    {
     "name": "stdout",
     "output_type": "stream",
     "text": [
      "epoch: 220 loss:0.190059 auc:0.9378\n",
      "Fit finished.\n",
      "epoch:   0 loss:0.752986 auc:0.1988\n",
      "epoch:  20 loss:0.286024 auc:0.9896\n",
      "epoch:  40 loss:0.222088 auc:0.9930\n",
      "epoch:  60 loss:0.211449 auc:0.9958\n",
      "epoch:  80 loss:0.206007 auc:0.9966\n",
      "epoch: 100 loss:0.199573 auc:0.9966\n",
      "epoch: 120 loss:0.194684 auc:0.9966\n",
      "epoch: 140 loss:0.192550 auc:0.9964\n",
      "epoch: 160 loss:0.191279 auc:0.9964\n",
      "epoch: 180 loss:0.190513 auc:0.9964\n",
      "epoch: 200 loss:0.189449 auc:0.9966\n",
      "epoch: 220 loss:0.187936 auc:0.9966\n"
     ]
    },
    {
     "name": "stderr",
     "output_type": "stream",
     "text": [
      " 80%|███████▉  | 729/916 [7:03:54<10:46,  3.46s/it]"
     ]
    },
    {
     "name": "stdout",
     "output_type": "stream",
     "text": [
      "epoch: 240 loss:0.187031 auc:0.9961\n",
      "Fit finished.\n",
      "epoch:   0 loss:0.710501 auc:0.6894\n",
      "epoch:  20 loss:0.315901 auc:0.9777\n",
      "epoch:  40 loss:0.234964 auc:0.9773\n",
      "epoch:  60 loss:0.215198 auc:0.9755\n",
      "epoch:  80 loss:0.207615 auc:0.9742\n",
      "epoch: 100 loss:0.202246 auc:0.9750\n",
      "epoch: 120 loss:0.197462 auc:0.9750\n",
      "epoch: 140 loss:0.194730 auc:0.9747\n",
      "epoch: 160 loss:0.193280 auc:0.9750\n"
     ]
    },
    {
     "name": "stderr",
     "output_type": "stream",
     "text": [
      " 80%|███████▉  | 730/916 [7:03:57<10:01,  3.24s/it]"
     ]
    },
    {
     "name": "stdout",
     "output_type": "stream",
     "text": [
      "epoch: 180 loss:0.192227 auc:0.9752\n",
      "Fit finished.\n",
      "epoch:   0 loss:1.506705 auc:0.8529\n",
      "epoch:  20 loss:0.322103 auc:0.9487\n",
      "epoch:  40 loss:0.245129 auc:0.9518\n",
      "epoch:  60 loss:0.217061 auc:0.9518\n",
      "epoch:  80 loss:0.207107 auc:0.9511\n",
      "epoch: 100 loss:0.200972 auc:0.9528\n",
      "epoch: 120 loss:0.196526 auc:0.9534\n",
      "epoch: 140 loss:0.194173 auc:0.9540\n",
      "epoch: 160 loss:0.192953 auc:0.9543\n",
      "epoch: 180 loss:0.192083 auc:0.9543\n",
      "epoch: 200 loss:0.191380 auc:0.9539\n",
      "epoch: 220 loss:0.190750 auc:0.9533\n",
      "epoch: 240 loss:0.190141 auc:0.9527\n"
     ]
    },
    {
     "name": "stderr",
     "output_type": "stream",
     "text": [
      " 80%|███████▉  | 731/916 [7:04:00<10:22,  3.36s/it]"
     ]
    },
    {
     "name": "stdout",
     "output_type": "stream",
     "text": [
      "epoch: 260 loss:0.189725 auc:0.9509\n",
      "Fit finished.\n",
      "epoch:   0 loss:0.833942 auc:0.5178\n",
      "epoch:  20 loss:0.308487 auc:0.9583\n",
      "epoch:  40 loss:0.230553 auc:0.9570\n",
      "epoch:  60 loss:0.213861 auc:0.9503\n",
      "epoch:  80 loss:0.206048 auc:0.9519\n",
      "epoch: 100 loss:0.199803 auc:0.9522\n",
      "epoch: 120 loss:0.195340 auc:0.9525\n",
      "epoch: 140 loss:0.193359 auc:0.9527\n",
      "epoch: 160 loss:0.192043 auc:0.9522\n"
     ]
    },
    {
     "name": "stderr",
     "output_type": "stream",
     "text": [
      " 80%|███████▉  | 732/916 [7:04:03<09:29,  3.09s/it]"
     ]
    },
    {
     "name": "stdout",
     "output_type": "stream",
     "text": [
      "epoch: 180 loss:0.193033 auc:0.9517\n",
      "Fit finished.\n",
      "epoch:   0 loss:0.708634 auc:0.7615\n",
      "epoch:  20 loss:0.306730 auc:0.9424\n",
      "epoch:  40 loss:0.228750 auc:0.9413\n",
      "epoch:  60 loss:0.214051 auc:0.9375\n",
      "epoch:  80 loss:0.208232 auc:0.9399\n",
      "epoch: 100 loss:0.202589 auc:0.9391\n",
      "epoch: 120 loss:0.196316 auc:0.9393\n",
      "epoch: 140 loss:0.193458 auc:0.9398\n",
      "epoch: 160 loss:0.192122 auc:0.9390\n"
     ]
    },
    {
     "name": "stderr",
     "output_type": "stream",
     "text": [
      " 80%|████████  | 733/916 [7:04:05<08:51,  2.90s/it]"
     ]
    },
    {
     "name": "stdout",
     "output_type": "stream",
     "text": [
      "epoch: 180 loss:0.191025 auc:0.9383\n",
      "Fit finished.\n",
      "epoch:   0 loss:0.852430 auc:0.6369\n",
      "epoch:  20 loss:0.346073 auc:0.9760\n",
      "epoch:  40 loss:0.259697 auc:0.9774\n",
      "epoch:  60 loss:0.222564 auc:0.9796\n",
      "epoch:  80 loss:0.211851 auc:0.9794\n",
      "epoch: 100 loss:0.206249 auc:0.9798\n",
      "epoch: 120 loss:0.200481 auc:0.9799\n",
      "epoch: 140 loss:0.195495 auc:0.9796\n",
      "epoch: 160 loss:0.193333 auc:0.9796\n",
      "epoch: 180 loss:0.192113 auc:0.9794\n",
      "epoch: 200 loss:0.191193 auc:0.9791\n"
     ]
    },
    {
     "name": "stderr",
     "output_type": "stream",
     "text": [
      " 80%|████████  | 734/916 [7:05:03<58:56, 19.43s/it]"
     ]
    },
    {
     "name": "stdout",
     "output_type": "stream",
     "text": [
      "epoch: 220 loss:0.193821 auc:0.9779\n",
      "Fit finished.\n",
      "epoch:   0 loss:0.693755 auc:0.6169\n",
      "epoch:  20 loss:0.330852 auc:0.9500\n",
      "epoch:  40 loss:0.242599 auc:0.9625\n",
      "epoch:  60 loss:0.216346 auc:0.9637\n",
      "epoch:  80 loss:0.207506 auc:0.9661\n",
      "epoch: 100 loss:0.201477 auc:0.9661\n",
      "epoch: 120 loss:0.196111 auc:0.9643\n",
      "epoch: 140 loss:0.193719 auc:0.9649\n",
      "epoch: 160 loss:0.192416 auc:0.9649\n",
      "epoch: 180 loss:0.191697 auc:0.9649\n",
      "epoch: 200 loss:0.190651 auc:0.9655\n",
      "epoch: 220 loss:0.189787 auc:0.9661\n",
      "epoch: 240 loss:0.189170 auc:0.9673\n",
      "epoch: 260 loss:0.188398 auc:0.9673\n",
      "epoch: 280 loss:0.187379 auc:0.9643\n"
     ]
    },
    {
     "name": "stderr",
     "output_type": "stream",
     "text": [
      " 80%|████████  | 735/916 [7:05:08<44:53, 14.88s/it]"
     ]
    },
    {
     "name": "stdout",
     "output_type": "stream",
     "text": [
      "epoch: 300 loss:0.186299 auc:0.9637\n",
      "Fit finished.\n",
      "epoch:   0 loss:1.391694 auc:0.6750\n",
      "epoch:  20 loss:0.318402 auc:0.9270\n",
      "epoch:  40 loss:0.244763 auc:0.9306\n",
      "epoch:  60 loss:0.219307 auc:0.9316\n",
      "epoch:  80 loss:0.209642 auc:0.9349\n",
      "epoch: 100 loss:0.203928 auc:0.9345\n",
      "epoch: 120 loss:0.198690 auc:0.9345\n",
      "epoch: 140 loss:0.194903 auc:0.9341\n",
      "epoch: 160 loss:0.193258 auc:0.9345\n",
      "epoch: 180 loss:0.192220 auc:0.9345\n",
      "epoch: 200 loss:0.191375 auc:0.9356\n",
      "epoch: 220 loss:0.190567 auc:0.9370\n",
      "epoch: 240 loss:0.189970 auc:0.9370\n",
      "epoch: 260 loss:0.189035 auc:0.9391\n",
      "epoch: 280 loss:0.188913 auc:0.9413\n",
      "epoch: 300 loss:0.187195 auc:0.9455\n",
      "epoch: 320 loss:0.186397 auc:0.9487\n",
      "epoch: 340 loss:0.191114 auc:0.9505\n",
      "epoch: 360 loss:0.183749 auc:0.9534\n",
      "epoch: 380 loss:0.182288 auc:0.9548\n",
      "epoch: 400 loss:0.184976 auc:0.9559\n",
      "epoch: 420 loss:0.181938 auc:0.9551\n",
      "epoch: 440 loss:0.176910 auc:0.9541\n",
      "epoch: 460 loss:0.174159 auc:0.9559\n",
      "epoch: 480 loss:0.175403 auc:0.9527\n",
      "epoch: 500 loss:0.170995 auc:0.9548\n"
     ]
    },
    {
     "name": "stderr",
     "output_type": "stream",
     "text": [
      " 80%|████████  | 736/916 [7:05:15<38:12, 12.74s/it]"
     ]
    },
    {
     "name": "stdout",
     "output_type": "stream",
     "text": [
      "epoch: 520 loss:0.171066 auc:0.9502\n",
      "Fit finished.\n",
      "epoch:   0 loss:0.915562 auc:0.3889\n",
      "epoch:  20 loss:0.330394 auc:0.9404\n",
      "epoch:  40 loss:0.248359 auc:0.9438\n",
      "epoch:  60 loss:0.218878 auc:0.9441\n",
      "epoch:  80 loss:0.209108 auc:0.9482\n",
      "epoch: 100 loss:0.203174 auc:0.9475\n",
      "epoch: 120 loss:0.197384 auc:0.9470\n",
      "epoch: 140 loss:0.193869 auc:0.9473\n",
      "epoch: 160 loss:0.192356 auc:0.9475\n",
      "epoch: 180 loss:0.191399 auc:0.9473\n",
      "epoch: 200 loss:0.190630 auc:0.9478\n",
      "epoch: 220 loss:0.190128 auc:0.9485\n",
      "epoch: 240 loss:0.189523 auc:0.9490\n",
      "epoch: 260 loss:0.188819 auc:0.9500\n",
      "epoch: 280 loss:0.188105 auc:0.9517\n",
      "epoch: 300 loss:0.187673 auc:0.9539\n",
      "epoch: 320 loss:0.186085 auc:0.9556\n",
      "epoch: 340 loss:0.187537 auc:0.9561\n",
      "epoch: 360 loss:0.183331 auc:0.9561\n",
      "epoch: 380 loss:0.182411 auc:0.9558\n",
      "epoch: 400 loss:0.179943 auc:0.9553\n",
      "epoch: 420 loss:0.177589 auc:0.9558\n",
      "epoch: 440 loss:0.175717 auc:0.9565\n",
      "epoch: 460 loss:0.181155 auc:0.9568\n",
      "epoch: 480 loss:0.173234 auc:0.9568\n"
     ]
    },
    {
     "name": "stderr",
     "output_type": "stream",
     "text": [
      " 80%|████████  | 737/916 [7:05:22<32:13, 10.80s/it]"
     ]
    },
    {
     "name": "stdout",
     "output_type": "stream",
     "text": [
      "epoch: 500 loss:0.171736 auc:0.9536\n",
      "Fit finished.\n",
      "epoch:   0 loss:0.596165 auc:0.6849\n",
      "epoch:  20 loss:0.300228 auc:0.9764\n",
      "epoch:  40 loss:0.228293 auc:0.9774\n",
      "epoch:  60 loss:0.213457 auc:0.9774\n",
      "epoch:  80 loss:0.206430 auc:0.9761\n",
      "epoch: 100 loss:0.199493 auc:0.9767\n",
      "epoch: 120 loss:0.194354 auc:0.9770\n",
      "epoch: 140 loss:0.192371 auc:0.9764\n",
      "epoch: 160 loss:0.191260 auc:0.9761\n"
     ]
    },
    {
     "name": "stderr",
     "output_type": "stream",
     "text": [
      " 81%|████████  | 738/916 [7:05:24<24:32,  8.27s/it]"
     ]
    },
    {
     "name": "stdout",
     "output_type": "stream",
     "text": [
      "epoch: 180 loss:0.190228 auc:0.9758\n",
      "Fit finished.\n",
      "epoch:   0 loss:0.742349 auc:0.8413\n",
      "epoch:  20 loss:0.340544 auc:0.9631\n",
      "epoch:  40 loss:0.252005 auc:0.9691\n",
      "epoch:  60 loss:0.219555 auc:0.9701\n",
      "epoch:  80 loss:0.209546 auc:0.9686\n",
      "epoch: 100 loss:0.202753 auc:0.9686\n",
      "epoch: 120 loss:0.196374 auc:0.9686\n",
      "epoch: 140 loss:0.193546 auc:0.9686\n",
      "epoch: 160 loss:0.192260 auc:0.9686\n",
      "epoch: 180 loss:0.191572 auc:0.9680\n"
     ]
    },
    {
     "name": "stderr",
     "output_type": "stream",
     "text": [
      " 81%|████████  | 739/916 [7:05:27<19:19,  6.55s/it]"
     ]
    },
    {
     "name": "stdout",
     "output_type": "stream",
     "text": [
      "epoch: 200 loss:0.190860 auc:0.9667\n",
      "Fit finished.\n",
      "epoch:   0 loss:0.665099 auc:0.5293\n",
      "epoch:  20 loss:0.306709 auc:0.9758\n",
      "epoch:  40 loss:0.228915 auc:0.9764\n",
      "epoch:  60 loss:0.213439 auc:0.9764\n",
      "epoch:  80 loss:0.206954 auc:0.9764\n",
      "epoch: 100 loss:0.200761 auc:0.9764\n",
      "epoch: 120 loss:0.195033 auc:0.9761\n",
      "epoch: 140 loss:0.192813 auc:0.9764\n",
      "epoch: 160 loss:0.192590 auc:0.9754\n",
      "epoch: 180 loss:0.190403 auc:0.9761\n"
     ]
    },
    {
     "name": "stderr",
     "output_type": "stream",
     "text": [
      " 81%|████████  | 740/916 [7:05:29<15:57,  5.44s/it]"
     ]
    },
    {
     "name": "stdout",
     "output_type": "stream",
     "text": [
      "epoch: 200 loss:0.190181 auc:0.9761\n",
      "Fit finished.\n",
      "epoch:   0 loss:0.678168 auc:0.2869\n",
      "epoch:  20 loss:0.253660 auc:0.9479\n",
      "epoch:  40 loss:0.219537 auc:0.9449\n",
      "epoch:  60 loss:0.210309 auc:0.9488\n",
      "epoch:  80 loss:0.204288 auc:0.9492\n",
      "epoch: 100 loss:0.197601 auc:0.9488\n",
      "epoch: 120 loss:0.194135 auc:0.9497\n",
      "epoch: 140 loss:0.191839 auc:0.9510\n",
      "epoch: 160 loss:0.190421 auc:0.9575\n",
      "epoch: 180 loss:0.189072 auc:0.9609\n",
      "epoch: 200 loss:0.187194 auc:0.9674\n",
      "epoch: 220 loss:0.185535 auc:0.9692\n",
      "epoch: 240 loss:0.184424 auc:0.9705\n",
      "epoch: 260 loss:0.181913 auc:0.9696\n",
      "epoch: 280 loss:0.178816 auc:0.9688\n",
      "epoch: 300 loss:0.188739 auc:0.9661\n",
      "epoch: 320 loss:0.178248 auc:0.9644\n",
      "epoch: 340 loss:0.172518 auc:0.9696\n",
      "epoch: 360 loss:0.170718 auc:0.9679\n"
     ]
    },
    {
     "name": "stderr",
     "output_type": "stream",
     "text": [
      " 81%|████████  | 741/916 [7:05:35<15:36,  5.35s/it]"
     ]
    },
    {
     "name": "stdout",
     "output_type": "stream",
     "text": [
      "epoch: 380 loss:0.176475 auc:0.9397\n",
      "Fit finished.\n",
      "epoch:   0 loss:0.657181 auc:0.6144\n",
      "epoch:  20 loss:0.309310 auc:0.9772\n",
      "epoch:  40 loss:0.230552 auc:0.9793\n",
      "epoch:  60 loss:0.216432 auc:0.9793\n",
      "epoch:  80 loss:0.209460 auc:0.9804\n",
      "epoch: 100 loss:0.204103 auc:0.9807\n",
      "epoch: 120 loss:0.197791 auc:0.9807\n",
      "epoch: 140 loss:0.194013 auc:0.9807\n",
      "epoch: 160 loss:0.192282 auc:0.9817\n",
      "epoch: 180 loss:0.191288 auc:0.9815\n",
      "epoch: 200 loss:0.190465 auc:0.9812\n",
      "epoch: 220 loss:0.189594 auc:0.9804\n"
     ]
    },
    {
     "name": "stderr",
     "output_type": "stream",
     "text": [
      " 81%|████████  | 742/916 [7:05:38<13:35,  4.69s/it]"
     ]
    },
    {
     "name": "stdout",
     "output_type": "stream",
     "text": [
      "epoch: 240 loss:0.190006 auc:0.9772\n",
      "Fit finished.\n",
      "epoch:   0 loss:0.715927 auc:0.6328\n",
      "epoch:  20 loss:0.296285 auc:0.9672\n",
      "epoch:  40 loss:0.230574 auc:0.9664\n",
      "epoch:  60 loss:0.215377 auc:0.9673\n",
      "epoch:  80 loss:0.208957 auc:0.9673\n",
      "epoch: 100 loss:0.203968 auc:0.9664\n",
      "epoch: 120 loss:0.198632 auc:0.9669\n",
      "epoch: 140 loss:0.194682 auc:0.9669\n",
      "epoch: 160 loss:0.192985 auc:0.9666\n"
     ]
    },
    {
     "name": "stderr",
     "output_type": "stream",
     "text": [
      " 81%|████████  | 743/916 [7:05:40<11:43,  4.07s/it]"
     ]
    },
    {
     "name": "stdout",
     "output_type": "stream",
     "text": [
      "epoch: 180 loss:0.191845 auc:0.9669\n",
      "Fit finished.\n",
      "epoch:   0 loss:0.699512 auc:0.3288\n",
      "epoch:  20 loss:0.284385 auc:0.9721\n",
      "epoch:  40 loss:0.222519 auc:0.9727\n",
      "epoch:  60 loss:0.211440 auc:0.9741\n",
      "epoch:  80 loss:0.205730 auc:0.9753\n",
      "epoch: 100 loss:0.199920 auc:0.9750\n",
      "epoch: 120 loss:0.195164 auc:0.9750\n",
      "epoch: 140 loss:0.193089 auc:0.9747\n",
      "epoch: 160 loss:0.191743 auc:0.9750\n",
      "epoch: 180 loss:0.191937 auc:0.9747\n",
      "epoch: 200 loss:0.189887 auc:0.9753\n",
      "epoch: 220 loss:0.188733 auc:0.9765\n",
      "epoch: 240 loss:0.190374 auc:0.9765\n"
     ]
    },
    {
     "name": "stderr",
     "output_type": "stream",
     "text": [
      " 81%|████████  | 744/916 [7:05:44<11:20,  3.95s/it]"
     ]
    },
    {
     "name": "stdout",
     "output_type": "stream",
     "text": [
      "epoch: 260 loss:0.187406 auc:0.9744\n",
      "Fit finished.\n",
      "epoch:   0 loss:1.194904 auc:0.6687\n",
      "epoch:  20 loss:0.334398 auc:0.9720\n",
      "epoch:  40 loss:0.258924 auc:0.9713\n",
      "epoch:  60 loss:0.221922 auc:0.9660\n",
      "epoch:  80 loss:0.210288 auc:0.9642\n",
      "epoch: 100 loss:0.203445 auc:0.9633\n",
      "epoch: 120 loss:0.197806 auc:0.9628\n",
      "epoch: 140 loss:0.194701 auc:0.9630\n",
      "epoch: 160 loss:0.193219 auc:0.9626\n"
     ]
    },
    {
     "name": "stderr",
     "output_type": "stream",
     "text": [
      " 81%|████████▏ | 745/916 [7:05:46<09:59,  3.50s/it]"
     ]
    },
    {
     "name": "stdout",
     "output_type": "stream",
     "text": [
      "epoch: 180 loss:0.192234 auc:0.9630\n",
      "Fit finished.\n",
      "epoch:   0 loss:0.595393 auc:0.3979\n",
      "epoch:  20 loss:0.254736 auc:0.9506\n",
      "epoch:  40 loss:0.218526 auc:0.9477\n",
      "epoch:  60 loss:0.210631 auc:0.9469\n",
      "epoch:  80 loss:0.205016 auc:0.9471\n",
      "epoch: 100 loss:0.198214 auc:0.9474\n",
      "epoch: 120 loss:0.194017 auc:0.9466\n",
      "epoch: 140 loss:0.191973 auc:0.9466\n",
      "epoch: 160 loss:0.192420 auc:0.9474\n"
     ]
    },
    {
     "name": "stderr",
     "output_type": "stream",
     "text": [
      " 81%|████████▏ | 746/916 [7:05:49<09:21,  3.30s/it]"
     ]
    },
    {
     "name": "stdout",
     "output_type": "stream",
     "text": [
      "epoch: 180 loss:0.189446 auc:0.9471\n",
      "Fit finished.\n",
      "epoch:   0 loss:0.993583 auc:0.3693\n",
      "epoch:  20 loss:0.303159 auc:0.9680\n",
      "epoch:  40 loss:0.232563 auc:0.9669\n",
      "epoch:  60 loss:0.216947 auc:0.9700\n",
      "epoch:  80 loss:0.209574 auc:0.9675\n",
      "epoch: 100 loss:0.204303 auc:0.9669\n",
      "epoch: 120 loss:0.198699 auc:0.9669\n",
      "epoch: 140 loss:0.194757 auc:0.9675\n",
      "epoch: 160 loss:0.193033 auc:0.9680\n",
      "epoch: 180 loss:0.191860 auc:0.9680\n",
      "epoch: 200 loss:0.191612 auc:0.9675\n"
     ]
    },
    {
     "name": "stderr",
     "output_type": "stream",
     "text": [
      " 82%|████████▏ | 747/916 [7:05:54<10:08,  3.60s/it]"
     ]
    },
    {
     "name": "stdout",
     "output_type": "stream",
     "text": [
      "epoch: 220 loss:0.190147 auc:0.9675\n",
      "Fit finished.\n",
      "epoch:   0 loss:1.090354 auc:0.1565\n",
      "epoch:  20 loss:0.332335 auc:0.9626\n",
      "epoch:  40 loss:0.248050 auc:0.9796\n",
      "epoch:  60 loss:0.219056 auc:0.9819\n",
      "epoch:  80 loss:0.211393 auc:0.9858\n",
      "epoch: 100 loss:0.206632 auc:0.9847\n",
      "epoch: 120 loss:0.201766 auc:0.9841\n",
      "epoch: 140 loss:0.196602 auc:0.9864\n",
      "epoch: 160 loss:0.194118 auc:0.9858\n",
      "epoch: 180 loss:0.192805 auc:0.9864\n",
      "epoch: 200 loss:0.191799 auc:0.9864\n",
      "epoch: 220 loss:0.191007 auc:0.9864\n",
      "epoch: 240 loss:0.190409 auc:0.9875\n",
      "epoch: 260 loss:0.189523 auc:0.9887\n",
      "epoch: 280 loss:0.188661 auc:0.9881\n",
      "epoch: 300 loss:0.187729 auc:0.9892\n",
      "epoch: 320 loss:0.186567 auc:0.9881\n",
      "epoch: 340 loss:0.185451 auc:0.9875\n",
      "epoch: 360 loss:0.185177 auc:0.9881\n",
      "epoch: 380 loss:0.182601 auc:0.9892\n",
      "epoch: 400 loss:0.181762 auc:0.9892\n"
     ]
    },
    {
     "name": "stderr",
     "output_type": "stream",
     "text": [
      " 82%|████████▏ | 748/916 [7:05:59<11:17,  4.04s/it]"
     ]
    },
    {
     "name": "stdout",
     "output_type": "stream",
     "text": [
      "epoch: 420 loss:0.183615 auc:0.9881\n",
      "Fit finished.\n",
      "epoch:   0 loss:0.868832 auc:0.4498\n",
      "epoch:  20 loss:0.299021 auc:0.9331\n",
      "epoch:  40 loss:0.229655 auc:0.9386\n",
      "epoch:  60 loss:0.215208 auc:0.9415\n",
      "epoch:  80 loss:0.209439 auc:0.9415\n",
      "epoch: 100 loss:0.204826 auc:0.9417\n",
      "epoch: 120 loss:0.199380 auc:0.9412\n",
      "epoch: 140 loss:0.194782 auc:0.9404\n",
      "epoch: 160 loss:0.192727 auc:0.9391\n",
      "epoch: 180 loss:0.191493 auc:0.9389\n",
      "epoch: 200 loss:0.190552 auc:0.9389\n"
     ]
    },
    {
     "name": "stderr",
     "output_type": "stream",
     "text": [
      " 82%|████████▏ | 749/916 [7:06:01<10:14,  3.68s/it]"
     ]
    },
    {
     "name": "stdout",
     "output_type": "stream",
     "text": [
      "epoch: 220 loss:0.189961 auc:0.9407\n",
      "Fit finished.\n",
      "epoch:   0 loss:1.001164 auc:0.5853\n",
      "epoch:  20 loss:0.313660 auc:0.9322\n",
      "epoch:  40 loss:0.232630 auc:0.9241\n",
      "epoch:  60 loss:0.216829 auc:0.9257\n",
      "epoch:  80 loss:0.210505 auc:0.9322\n",
      "epoch: 100 loss:0.206195 auc:0.9331\n",
      "epoch: 120 loss:0.200959 auc:0.9339\n",
      "epoch: 140 loss:0.195604 auc:0.9339\n",
      "epoch: 160 loss:0.193079 auc:0.9355\n",
      "epoch: 180 loss:0.192786 auc:0.9363\n",
      "epoch: 200 loss:0.190812 auc:0.9355\n",
      "epoch: 220 loss:0.189898 auc:0.9371\n",
      "epoch: 240 loss:0.189579 auc:0.9404\n",
      "epoch: 260 loss:0.188802 auc:0.9412\n",
      "epoch: 280 loss:0.187618 auc:0.9396\n",
      "epoch: 300 loss:0.187499 auc:0.9404\n",
      "epoch: 320 loss:0.185946 auc:0.9380\n",
      "epoch: 340 loss:0.185058 auc:0.9371\n"
     ]
    },
    {
     "name": "stderr",
     "output_type": "stream",
     "text": [
      " 82%|████████▏ | 750/916 [7:06:06<10:54,  3.95s/it]"
     ]
    },
    {
     "name": "stdout",
     "output_type": "stream",
     "text": [
      "epoch: 360 loss:0.183803 auc:0.9339\n",
      "Fit finished.\n",
      "epoch:   0 loss:1.020950 auc:0.5813\n",
      "epoch:  20 loss:0.303380 auc:0.9844\n",
      "epoch:  40 loss:0.233628 auc:0.9927\n",
      "epoch:  60 loss:0.217335 auc:0.9954\n",
      "epoch:  80 loss:0.209856 auc:0.9954\n",
      "epoch: 100 loss:0.204262 auc:0.9954\n",
      "epoch: 120 loss:0.198036 auc:0.9954\n",
      "epoch: 140 loss:0.194338 auc:0.9954\n",
      "epoch: 160 loss:0.192766 auc:0.9954\n",
      "epoch: 180 loss:0.191874 auc:0.9954\n",
      "epoch: 200 loss:0.190742 auc:0.9954\n"
     ]
    },
    {
     "name": "stderr",
     "output_type": "stream",
     "text": [
      " 82%|████████▏ | 751/916 [7:06:09<10:15,  3.73s/it]"
     ]
    },
    {
     "name": "stdout",
     "output_type": "stream",
     "text": [
      "epoch: 220 loss:0.190339 auc:0.9945\n",
      "Fit finished.\n",
      "epoch:   0 loss:0.728995 auc:0.5466\n",
      "epoch:  20 loss:0.302424 auc:0.9697\n",
      "epoch:  40 loss:0.227041 auc:0.9810\n",
      "epoch:  60 loss:0.213698 auc:0.9844\n",
      "epoch:  80 loss:0.207680 auc:0.9836\n",
      "epoch: 100 loss:0.201302 auc:0.9839\n",
      "epoch: 120 loss:0.195209 auc:0.9834\n",
      "epoch: 140 loss:0.193059 auc:0.9834\n",
      "epoch: 160 loss:0.193893 auc:0.9829\n",
      "epoch: 180 loss:0.190823 auc:0.9824\n",
      "epoch: 200 loss:0.189842 auc:0.9814\n"
     ]
    },
    {
     "name": "stderr",
     "output_type": "stream",
     "text": [
      " 82%|████████▏ | 752/916 [7:06:12<09:37,  3.52s/it]"
     ]
    },
    {
     "name": "stdout",
     "output_type": "stream",
     "text": [
      "epoch: 220 loss:0.189907 auc:0.9822\n",
      "Fit finished.\n",
      "epoch:   0 loss:0.779984 auc:0.7979\n",
      "epoch:  20 loss:0.311188 auc:0.9568\n",
      "epoch:  40 loss:0.236649 auc:0.9696\n",
      "epoch:  60 loss:0.216421 auc:0.9737\n",
      "epoch:  80 loss:0.208089 auc:0.9745\n",
      "epoch: 100 loss:0.201597 auc:0.9753\n",
      "epoch: 120 loss:0.196160 auc:0.9748\n",
      "epoch: 140 loss:0.193771 auc:0.9753\n",
      "epoch: 160 loss:0.192397 auc:0.9755\n",
      "epoch: 180 loss:0.191376 auc:0.9753\n",
      "epoch: 200 loss:0.191215 auc:0.9748\n",
      "epoch: 220 loss:0.189982 auc:0.9753\n",
      "epoch: 240 loss:0.189825 auc:0.9758\n",
      "epoch: 260 loss:0.188299 auc:0.9766\n",
      "epoch: 280 loss:0.187926 auc:0.9768\n",
      "epoch: 300 loss:0.187147 auc:0.9763\n",
      "epoch: 320 loss:0.184670 auc:0.9755\n"
     ]
    },
    {
     "name": "stderr",
     "output_type": "stream",
     "text": [
      " 82%|████████▏ | 753/916 [7:06:17<10:25,  3.84s/it]"
     ]
    },
    {
     "name": "stdout",
     "output_type": "stream",
     "text": [
      "epoch: 340 loss:0.184879 auc:0.9742\n",
      "Fit finished.\n",
      "epoch:   0 loss:0.703149 auc:0.3546\n",
      "epoch:  20 loss:0.300498 auc:0.9666\n",
      "epoch:  40 loss:0.227500 auc:0.9770\n",
      "epoch:  60 loss:0.212158 auc:0.9809\n",
      "epoch:  80 loss:0.205578 auc:0.9809\n",
      "epoch: 100 loss:0.199495 auc:0.9809\n",
      "epoch: 120 loss:0.194953 auc:0.9809\n",
      "epoch: 140 loss:0.193095 auc:0.9813\n",
      "epoch: 160 loss:0.191804 auc:0.9813\n",
      "epoch: 180 loss:0.191199 auc:0.9813\n",
      "epoch: 200 loss:0.189995 auc:0.9809\n"
     ]
    },
    {
     "name": "stderr",
     "output_type": "stream",
     "text": [
      " 82%|████████▏ | 754/916 [7:06:20<09:48,  3.63s/it]"
     ]
    },
    {
     "name": "stdout",
     "output_type": "stream",
     "text": [
      "epoch: 220 loss:0.189551 auc:0.9805\n",
      "Fit finished.\n",
      "epoch:   0 loss:1.086266 auc:0.7511\n",
      "epoch:  20 loss:0.332541 auc:0.9754\n",
      "epoch:  40 loss:0.257881 auc:0.9805\n",
      "epoch:  60 loss:0.223907 auc:0.9782\n",
      "epoch:  80 loss:0.212236 auc:0.9731\n",
      "epoch: 100 loss:0.206657 auc:0.9743\n",
      "epoch: 120 loss:0.201701 auc:0.9752\n",
      "epoch: 140 loss:0.196826 auc:0.9761\n",
      "epoch: 160 loss:0.194236 auc:0.9768\n",
      "epoch: 180 loss:0.192892 auc:0.9773\n"
     ]
    },
    {
     "name": "stderr",
     "output_type": "stream",
     "text": [
      " 82%|████████▏ | 755/916 [7:06:23<09:12,  3.43s/it]"
     ]
    },
    {
     "name": "stdout",
     "output_type": "stream",
     "text": [
      "epoch: 200 loss:0.191969 auc:0.9777\n",
      "Fit finished.\n",
      "epoch:   0 loss:0.666065 auc:0.2040\n",
      "epoch:  20 loss:0.309564 auc:0.9076\n",
      "epoch:  40 loss:0.233803 auc:0.9149\n",
      "epoch:  60 loss:0.218253 auc:0.9181\n",
      "epoch:  80 loss:0.210978 auc:0.9188\n",
      "epoch: 100 loss:0.206178 auc:0.9173\n",
      "epoch: 120 loss:0.200728 auc:0.9175\n",
      "epoch: 140 loss:0.195515 auc:0.9160\n",
      "epoch: 160 loss:0.193101 auc:0.9158\n",
      "epoch: 180 loss:0.191763 auc:0.9163\n",
      "epoch: 200 loss:0.191167 auc:0.9168\n"
     ]
    },
    {
     "name": "stderr",
     "output_type": "stream",
     "text": [
      " 83%|████████▎ | 756/916 [7:06:26<08:54,  3.34s/it]"
     ]
    },
    {
     "name": "stdout",
     "output_type": "stream",
     "text": [
      "epoch: 220 loss:0.190099 auc:0.9163\n",
      "Fit finished.\n",
      "epoch:   0 loss:0.617048 auc:0.4609\n",
      "epoch:  20 loss:0.299603 auc:0.9467\n",
      "epoch:  40 loss:0.227964 auc:0.9592\n",
      "epoch:  60 loss:0.213523 auc:0.9691\n",
      "epoch:  80 loss:0.207617 auc:0.9671\n",
      "epoch: 100 loss:0.202131 auc:0.9665\n",
      "epoch: 120 loss:0.196450 auc:0.9671\n",
      "epoch: 140 loss:0.193643 auc:0.9671\n",
      "epoch: 160 loss:0.192255 auc:0.9671\n",
      "epoch: 180 loss:0.191242 auc:0.9678\n",
      "epoch: 200 loss:0.190409 auc:0.9691\n",
      "epoch: 220 loss:0.189648 auc:0.9704\n",
      "epoch: 240 loss:0.189575 auc:0.9724\n",
      "epoch: 260 loss:0.187813 auc:0.9750\n",
      "epoch: 280 loss:0.187028 auc:0.9757\n",
      "epoch: 300 loss:0.186173 auc:0.9776\n",
      "epoch: 320 loss:0.184739 auc:0.9770\n",
      "epoch: 340 loss:0.181869 auc:0.9776\n",
      "epoch: 360 loss:0.197289 auc:0.9750\n",
      "epoch: 380 loss:0.179151 auc:0.9750\n",
      "epoch: 400 loss:0.175422 auc:0.9776\n",
      "epoch: 420 loss:0.173610 auc:0.9783\n",
      "epoch: 440 loss:0.173594 auc:0.9796\n",
      "epoch: 460 loss:0.170952 auc:0.9809\n",
      "epoch: 480 loss:0.171514 auc:0.9783\n",
      "epoch: 500 loss:0.168657 auc:0.9809\n",
      "epoch: 520 loss:0.166582 auc:0.9822\n",
      "epoch: 540 loss:0.165806 auc:0.9803\n",
      "epoch: 560 loss:0.165013 auc:0.9776\n",
      "epoch: 580 loss:0.165549 auc:0.9809\n"
     ]
    },
    {
     "name": "stderr",
     "output_type": "stream",
     "text": [
      " 83%|████████▎ | 757/916 [7:06:34<12:23,  4.68s/it]"
     ]
    },
    {
     "name": "stdout",
     "output_type": "stream",
     "text": [
      "epoch: 600 loss:0.176280 auc:0.9757\n",
      "Fit finished.\n",
      "epoch:   0 loss:1.018721 auc:0.8201\n",
      "epoch:  20 loss:0.300018 auc:0.9390\n",
      "epoch:  40 loss:0.230427 auc:0.9393\n",
      "epoch:  60 loss:0.216801 auc:0.9378\n",
      "epoch:  80 loss:0.211050 auc:0.9361\n",
      "epoch: 100 loss:0.207670 auc:0.9361\n",
      "epoch: 120 loss:0.204327 auc:0.9364\n",
      "epoch: 140 loss:0.200419 auc:0.9354\n",
      "epoch: 160 loss:0.196367 auc:0.9359\n"
     ]
    },
    {
     "name": "stderr",
     "output_type": "stream",
     "text": [
      " 83%|████████▎ | 758/916 [7:06:36<10:31,  4.00s/it]"
     ]
    },
    {
     "name": "stdout",
     "output_type": "stream",
     "text": [
      "epoch: 180 loss:0.193837 auc:0.9370\n",
      "Fit finished.\n",
      "epoch:   0 loss:0.818961 auc:0.3204\n",
      "epoch:  20 loss:0.298458 auc:0.9615\n",
      "epoch:  40 loss:0.230186 auc:0.9643\n",
      "epoch:  60 loss:0.213343 auc:0.9600\n",
      "epoch:  80 loss:0.206135 auc:0.9594\n",
      "epoch: 100 loss:0.199370 auc:0.9597\n",
      "epoch: 120 loss:0.194809 auc:0.9603\n",
      "epoch: 140 loss:0.192915 auc:0.9597\n",
      "epoch: 160 loss:0.191685 auc:0.9603\n"
     ]
    },
    {
     "name": "stderr",
     "output_type": "stream",
     "text": [
      " 83%|████████▎ | 759/916 [7:06:39<09:15,  3.54s/it]"
     ]
    },
    {
     "name": "stdout",
     "output_type": "stream",
     "text": [
      "epoch: 180 loss:0.190726 auc:0.9597\n",
      "Fit finished.\n",
      "epoch:   0 loss:0.830203 auc:0.1300\n",
      "epoch:  20 loss:0.301846 auc:0.9671\n",
      "epoch:  40 loss:0.228406 auc:0.9722\n",
      "epoch:  60 loss:0.213462 auc:0.9719\n",
      "epoch:  80 loss:0.207856 auc:0.9715\n",
      "epoch: 100 loss:0.202792 auc:0.9715\n",
      "epoch: 120 loss:0.197384 auc:0.9715\n",
      "epoch: 140 loss:0.194327 auc:0.9705\n",
      "epoch: 160 loss:0.192883 auc:0.9712\n",
      "epoch: 180 loss:0.191898 auc:0.9719\n",
      "epoch: 200 loss:0.191037 auc:0.9729\n",
      "epoch: 220 loss:0.193206 auc:0.9729\n",
      "epoch: 240 loss:0.190392 auc:0.9733\n",
      "epoch: 260 loss:0.189021 auc:0.9743\n",
      "epoch: 280 loss:0.188954 auc:0.9743\n",
      "epoch: 300 loss:0.187399 auc:0.9746\n",
      "epoch: 320 loss:0.186704 auc:0.9746\n",
      "epoch: 340 loss:0.185773 auc:0.9753\n",
      "epoch: 360 loss:0.184084 auc:0.9743\n",
      "epoch: 380 loss:0.181505 auc:0.9746\n",
      "epoch: 400 loss:0.179210 auc:0.9750\n"
     ]
    },
    {
     "name": "stderr",
     "output_type": "stream",
     "text": [
      " 83%|████████▎ | 760/916 [7:06:45<11:36,  4.47s/it]"
     ]
    },
    {
     "name": "stdout",
     "output_type": "stream",
     "text": [
      "epoch: 420 loss:0.181180 auc:0.9739\n",
      "Fit finished.\n",
      "epoch:   0 loss:0.763211 auc:0.4945\n",
      "epoch:  20 loss:0.279224 auc:0.9559\n",
      "epoch:  40 loss:0.225026 auc:0.9500\n",
      "epoch:  60 loss:0.211691 auc:0.9497\n",
      "epoch:  80 loss:0.206484 auc:0.9506\n",
      "epoch: 100 loss:0.201391 auc:0.9500\n",
      "epoch: 120 loss:0.196333 auc:0.9492\n",
      "epoch: 140 loss:0.193561 auc:0.9489\n",
      "epoch: 160 loss:0.192681 auc:0.9489\n"
     ]
    },
    {
     "name": "stderr",
     "output_type": "stream",
     "text": [
      " 83%|████████▎ | 761/916 [7:06:48<09:52,  3.82s/it]"
     ]
    },
    {
     "name": "stdout",
     "output_type": "stream",
     "text": [
      "epoch: 180 loss:0.191224 auc:0.9492\n",
      "Fit finished.\n",
      "epoch:   0 loss:0.551009 auc:0.5243\n",
      "epoch:  20 loss:0.276944 auc:0.9678\n",
      "epoch:  40 loss:0.221341 auc:0.9699\n",
      "epoch:  60 loss:0.209326 auc:0.9721\n",
      "epoch:  80 loss:0.201675 auc:0.9723\n",
      "epoch: 100 loss:0.195654 auc:0.9723\n",
      "epoch: 120 loss:0.193038 auc:0.9711\n",
      "epoch: 140 loss:0.191464 auc:0.9716\n",
      "epoch: 160 loss:0.191418 auc:0.9714\n",
      "epoch: 180 loss:0.189398 auc:0.9718\n",
      "epoch: 200 loss:0.189483 auc:0.9723\n"
     ]
    },
    {
     "name": "stderr",
     "output_type": "stream",
     "text": [
      " 83%|████████▎ | 762/916 [7:06:51<09:16,  3.61s/it]"
     ]
    },
    {
     "name": "stdout",
     "output_type": "stream",
     "text": [
      "epoch: 220 loss:0.187604 auc:0.9707\n",
      "Fit finished.\n",
      "epoch:   0 loss:0.758992 auc:0.7713\n",
      "epoch:  20 loss:0.321525 auc:0.9633\n",
      "epoch:  40 loss:0.235710 auc:0.9669\n",
      "epoch:  60 loss:0.218106 auc:0.9669\n",
      "epoch:  80 loss:0.210257 auc:0.9679\n",
      "epoch: 100 loss:0.205681 auc:0.9669\n",
      "epoch: 120 loss:0.201003 auc:0.9660\n",
      "epoch: 140 loss:0.196379 auc:0.9660\n",
      "epoch: 160 loss:0.193605 auc:0.9660\n",
      "epoch: 180 loss:0.192200 auc:0.9651\n"
     ]
    },
    {
     "name": "stderr",
     "output_type": "stream",
     "text": [
      " 83%|████████▎ | 763/916 [7:06:54<08:39,  3.40s/it]"
     ]
    },
    {
     "name": "stdout",
     "output_type": "stream",
     "text": [
      "epoch: 200 loss:0.191265 auc:0.9660\n",
      "Fit finished.\n",
      "epoch:   0 loss:0.726238 auc:0.8008\n",
      "epoch:  20 loss:0.329421 auc:0.9612\n",
      "epoch:  40 loss:0.238850 auc:0.9673\n",
      "epoch:  60 loss:0.217011 auc:0.9671\n",
      "epoch:  80 loss:0.208925 auc:0.9668\n",
      "epoch: 100 loss:0.203921 auc:0.9673\n",
      "epoch: 120 loss:0.198740 auc:0.9676\n",
      "epoch: 140 loss:0.194945 auc:0.9669\n",
      "epoch: 160 loss:0.193148 auc:0.9673\n",
      "epoch: 180 loss:0.191938 auc:0.9669\n"
     ]
    },
    {
     "name": "stderr",
     "output_type": "stream",
     "text": [
      " 83%|████████▎ | 764/916 [7:06:57<08:12,  3.24s/it]"
     ]
    },
    {
     "name": "stdout",
     "output_type": "stream",
     "text": [
      "epoch: 200 loss:0.191000 auc:0.9656\n",
      "Fit finished.\n",
      "epoch:   0 loss:0.882424 auc:0.1211\n",
      "epoch:  20 loss:0.281866 auc:0.9444\n",
      "epoch:  40 loss:0.228883 auc:0.9422\n",
      "epoch:  60 loss:0.213947 auc:0.9478\n",
      "epoch:  80 loss:0.208752 auc:0.9478\n",
      "epoch: 100 loss:0.204360 auc:0.9478\n",
      "epoch: 120 loss:0.199169 auc:0.9467\n",
      "epoch: 140 loss:0.195007 auc:0.9467\n",
      "epoch: 160 loss:0.193024 auc:0.9467\n",
      "epoch: 180 loss:0.191665 auc:0.9467\n",
      "epoch: 200 loss:0.190713 auc:0.9489\n",
      "epoch: 220 loss:0.189836 auc:0.9478\n",
      "epoch: 240 loss:0.189195 auc:0.9489\n",
      "epoch: 260 loss:0.187352 auc:0.9489\n",
      "epoch: 280 loss:0.189336 auc:0.9533\n",
      "epoch: 300 loss:0.186652 auc:0.9489\n",
      "epoch: 320 loss:0.183897 auc:0.9522\n",
      "epoch: 340 loss:0.182553 auc:0.9522\n",
      "epoch: 360 loss:0.180020 auc:0.9522\n",
      "epoch: 380 loss:0.179628 auc:0.9489\n",
      "epoch: 400 loss:0.175244 auc:0.9511\n"
     ]
    },
    {
     "name": "stderr",
     "output_type": "stream",
     "text": [
      " 84%|████████▎ | 765/916 [7:07:02<10:03,  4.00s/it]"
     ]
    },
    {
     "name": "stdout",
     "output_type": "stream",
     "text": [
      "epoch: 420 loss:0.176202 auc:0.9456\n",
      "Fit finished.\n",
      "epoch:   0 loss:0.951776 auc:0.6593\n",
      "epoch:  20 loss:0.281738 auc:0.9906\n",
      "epoch:  40 loss:0.223010 auc:0.9911\n",
      "epoch:  60 loss:0.211069 auc:0.9906\n",
      "epoch:  80 loss:0.204379 auc:0.9906\n",
      "epoch: 100 loss:0.197368 auc:0.9916\n",
      "epoch: 120 loss:0.194134 auc:0.9911\n",
      "epoch: 140 loss:0.192350 auc:0.9911\n",
      "epoch: 160 loss:0.191146 auc:0.9911\n",
      "epoch: 180 loss:0.190374 auc:0.9911\n",
      "epoch: 200 loss:0.189508 auc:0.9916\n",
      "epoch: 220 loss:0.188059 auc:0.9916\n",
      "epoch: 240 loss:0.190353 auc:0.9926\n"
     ]
    },
    {
     "name": "stderr",
     "output_type": "stream",
     "text": [
      " 84%|████████▎ | 766/916 [7:07:06<09:45,  3.90s/it]"
     ]
    },
    {
     "name": "stdout",
     "output_type": "stream",
     "text": [
      "epoch: 260 loss:0.185426 auc:0.9911\n",
      "Fit finished.\n",
      "epoch:   0 loss:0.872916 auc:0.5595\n",
      "epoch:  20 loss:0.320292 auc:0.9512\n",
      "epoch:  40 loss:0.240231 auc:0.9597\n",
      "epoch:  60 loss:0.214727 auc:0.9593\n",
      "epoch:  80 loss:0.205294 auc:0.9597\n",
      "epoch: 100 loss:0.198803 auc:0.9593\n",
      "epoch: 120 loss:0.194898 auc:0.9586\n",
      "epoch: 140 loss:0.193155 auc:0.9593\n",
      "epoch: 160 loss:0.191946 auc:0.9597\n",
      "epoch: 180 loss:0.191120 auc:0.9601\n",
      "epoch: 200 loss:0.190309 auc:0.9597\n",
      "epoch: 220 loss:0.189893 auc:0.9597\n",
      "epoch: 240 loss:0.188828 auc:0.9608\n",
      "epoch: 260 loss:0.189285 auc:0.9608\n",
      "epoch: 280 loss:0.187050 auc:0.9630\n",
      "epoch: 300 loss:0.186489 auc:0.9634\n",
      "epoch: 320 loss:0.185139 auc:0.9630\n",
      "epoch: 340 loss:0.182885 auc:0.9634\n",
      "epoch: 360 loss:0.180515 auc:0.9667\n",
      "epoch: 380 loss:0.178775 auc:0.9663\n",
      "epoch: 400 loss:0.191025 auc:0.9675\n"
     ]
    },
    {
     "name": "stderr",
     "output_type": "stream",
     "text": [
      " 84%|████████▎ | 767/916 [7:07:12<11:12,  4.52s/it]"
     ]
    },
    {
     "name": "stdout",
     "output_type": "stream",
     "text": [
      "epoch: 420 loss:0.181304 auc:0.9586\n",
      "Fit finished.\n",
      "epoch:   0 loss:0.751910 auc:0.7055\n",
      "epoch:  20 loss:0.273177 auc:0.9754\n",
      "epoch:  40 loss:0.223066 auc:0.9778\n",
      "epoch:  60 loss:0.212374 auc:0.9734\n",
      "epoch:  80 loss:0.207375 auc:0.9749\n",
      "epoch: 100 loss:0.202636 auc:0.9756\n",
      "epoch: 120 loss:0.197404 auc:0.9751\n",
      "epoch: 140 loss:0.194180 auc:0.9751\n",
      "epoch: 160 loss:0.192575 auc:0.9746\n",
      "epoch: 180 loss:0.191330 auc:0.9756\n"
     ]
    },
    {
     "name": "stderr",
     "output_type": "stream",
     "text": [
      " 84%|████████▍ | 768/916 [7:07:15<09:56,  4.03s/it]"
     ]
    },
    {
     "name": "stdout",
     "output_type": "stream",
     "text": [
      "epoch: 200 loss:0.191219 auc:0.9732\n",
      "Fit finished.\n",
      "epoch:   0 loss:0.695653 auc:0.5856\n",
      "epoch:  20 loss:0.310111 auc:0.9331\n",
      "epoch:  40 loss:0.230014 auc:0.9325\n",
      "epoch:  60 loss:0.215215 auc:0.9325\n",
      "epoch:  80 loss:0.208752 auc:0.9348\n",
      "epoch: 100 loss:0.203585 auc:0.9325\n",
      "epoch: 120 loss:0.197886 auc:0.9320\n",
      "epoch: 140 loss:0.194393 auc:0.9320\n",
      "epoch: 160 loss:0.193549 auc:0.9325\n",
      "epoch: 180 loss:0.191669 auc:0.9337\n",
      "epoch: 200 loss:0.190816 auc:0.9337\n",
      "epoch: 220 loss:0.191828 auc:0.9331\n"
     ]
    },
    {
     "name": "stderr",
     "output_type": "stream",
     "text": [
      " 84%|████████▍ | 769/916 [7:07:18<09:17,  3.80s/it]"
     ]
    },
    {
     "name": "stdout",
     "output_type": "stream",
     "text": [
      "epoch: 240 loss:0.189068 auc:0.9331\n",
      "Fit finished.\n",
      "epoch:   0 loss:0.907022 auc:0.5917\n",
      "epoch:  20 loss:0.328983 auc:0.9248\n",
      "epoch:  40 loss:0.249893 auc:0.9343\n",
      "epoch:  60 loss:0.219452 auc:0.9379\n",
      "epoch:  80 loss:0.209866 auc:0.9416\n",
      "epoch: 100 loss:0.204317 auc:0.9401\n",
      "epoch: 120 loss:0.199249 auc:0.9394\n",
      "epoch: 140 loss:0.195434 auc:0.9394\n",
      "epoch: 160 loss:0.193551 auc:0.9386\n",
      "epoch: 180 loss:0.192379 auc:0.9372\n",
      "epoch: 200 loss:0.191471 auc:0.9372\n"
     ]
    },
    {
     "name": "stderr",
     "output_type": "stream",
     "text": [
      " 84%|████████▍ | 770/916 [7:07:21<08:46,  3.61s/it]"
     ]
    },
    {
     "name": "stdout",
     "output_type": "stream",
     "text": [
      "epoch: 220 loss:0.190775 auc:0.9372\n",
      "Fit finished.\n",
      "epoch:   0 loss:0.750772 auc:0.4307\n",
      "epoch:  20 loss:0.330396 auc:0.9768\n",
      "epoch:  40 loss:0.240760 auc:0.9741\n",
      "epoch:  60 loss:0.216229 auc:0.9752\n",
      "epoch:  80 loss:0.207787 auc:0.9770\n",
      "epoch: 100 loss:0.202244 auc:0.9752\n",
      "epoch: 120 loss:0.196802 auc:0.9750\n",
      "epoch: 140 loss:0.194014 auc:0.9752\n",
      "epoch: 160 loss:0.192631 auc:0.9752\n"
     ]
    },
    {
     "name": "stderr",
     "output_type": "stream",
     "text": [
      " 84%|████████▍ | 771/916 [7:07:24<08:01,  3.32s/it]"
     ]
    },
    {
     "name": "stdout",
     "output_type": "stream",
     "text": [
      "epoch: 180 loss:0.191623 auc:0.9759\n",
      "Fit finished.\n",
      "epoch:   0 loss:0.528197 auc:0.4050\n",
      "epoch:  20 loss:0.282039 auc:0.9570\n",
      "epoch:  40 loss:0.224636 auc:0.9594\n",
      "epoch:  60 loss:0.210925 auc:0.9546\n",
      "epoch:  80 loss:0.204288 auc:0.9565\n",
      "epoch: 100 loss:0.197474 auc:0.9560\n",
      "epoch: 120 loss:0.193816 auc:0.9551\n",
      "epoch: 140 loss:0.192794 auc:0.9560\n",
      "epoch: 160 loss:0.190743 auc:0.9579\n",
      "epoch: 180 loss:0.191112 auc:0.9627\n",
      "epoch: 200 loss:0.188697 auc:0.9669\n",
      "epoch: 220 loss:0.187717 auc:0.9698\n",
      "epoch: 240 loss:0.185773 auc:0.9716\n",
      "epoch: 260 loss:0.184646 auc:0.9721\n",
      "epoch: 280 loss:0.182929 auc:0.9745\n",
      "epoch: 300 loss:0.182954 auc:0.9740\n",
      "epoch: 320 loss:0.176795 auc:0.9759\n",
      "epoch: 340 loss:0.179074 auc:0.9735\n",
      "epoch: 360 loss:0.176531 auc:0.9735\n",
      "epoch: 380 loss:0.171025 auc:0.9702\n",
      "epoch: 400 loss:0.173014 auc:0.9745\n"
     ]
    },
    {
     "name": "stderr",
     "output_type": "stream",
     "text": [
      " 84%|████████▍ | 772/916 [7:07:31<10:28,  4.36s/it]"
     ]
    },
    {
     "name": "stdout",
     "output_type": "stream",
     "text": [
      "epoch: 420 loss:0.167541 auc:0.9679\n",
      "Fit finished.\n",
      "epoch:   0 loss:0.655670 auc:0.7601\n",
      "epoch:  20 loss:0.314542 auc:0.9350\n",
      "epoch:  40 loss:0.232364 auc:0.9385\n",
      "epoch:  60 loss:0.215001 auc:0.9339\n",
      "epoch:  80 loss:0.208481 auc:0.9327\n",
      "epoch: 100 loss:0.202883 auc:0.9323\n",
      "epoch: 120 loss:0.196775 auc:0.9319\n",
      "epoch: 140 loss:0.193762 auc:0.9304\n",
      "epoch: 160 loss:0.192175 auc:0.9304\n"
     ]
    },
    {
     "name": "stderr",
     "output_type": "stream",
     "text": [
      " 84%|████████▍ | 773/916 [7:07:33<08:59,  3.77s/it]"
     ]
    },
    {
     "name": "stdout",
     "output_type": "stream",
     "text": [
      "epoch: 180 loss:0.191809 auc:0.9312\n",
      "Fit finished.\n",
      "epoch:   0 loss:0.923916 auc:0.4687\n",
      "epoch:  20 loss:0.318671 auc:0.9214\n",
      "epoch:  40 loss:0.234233 auc:0.9271\n",
      "epoch:  60 loss:0.217537 auc:0.9275\n",
      "epoch:  80 loss:0.210319 auc:0.9293\n",
      "epoch: 100 loss:0.205696 auc:0.9301\n",
      "epoch: 120 loss:0.200843 auc:0.9314\n",
      "epoch: 140 loss:0.196117 auc:0.9314\n",
      "epoch: 160 loss:0.193594 auc:0.9306\n",
      "epoch: 180 loss:0.192260 auc:0.9288\n",
      "epoch: 200 loss:0.191236 auc:0.9280\n",
      "epoch: 220 loss:0.190354 auc:0.9288\n",
      "epoch: 240 loss:0.189474 auc:0.9310\n",
      "epoch: 260 loss:0.188675 auc:0.9340\n",
      "epoch: 280 loss:0.187782 auc:0.9362\n",
      "epoch: 300 loss:0.186437 auc:0.9384\n",
      "epoch: 320 loss:0.187012 auc:0.9405\n",
      "epoch: 340 loss:0.184175 auc:0.9427\n",
      "epoch: 360 loss:0.182731 auc:0.9440\n",
      "epoch: 380 loss:0.181946 auc:0.9423\n",
      "epoch: 400 loss:0.179217 auc:0.9423\n",
      "epoch: 420 loss:0.177043 auc:0.9423\n",
      "epoch: 440 loss:0.180100 auc:0.9379\n"
     ]
    },
    {
     "name": "stderr",
     "output_type": "stream",
     "text": [
      " 84%|████████▍ | 774/916 [7:07:39<10:42,  4.53s/it]"
     ]
    },
    {
     "name": "stdout",
     "output_type": "stream",
     "text": [
      "epoch: 460 loss:0.181532 auc:0.9379\n",
      "Fit finished.\n",
      "epoch:   0 loss:0.826374 auc:0.7338\n",
      "epoch:  20 loss:0.326253 auc:0.9591\n",
      "epoch:  40 loss:0.243033 auc:0.9668\n",
      "epoch:  60 loss:0.215937 auc:0.9705\n",
      "epoch:  80 loss:0.207163 auc:0.9726\n",
      "epoch: 100 loss:0.200723 auc:0.9726\n",
      "epoch: 120 loss:0.195586 auc:0.9723\n",
      "epoch: 140 loss:0.193472 auc:0.9726\n",
      "epoch: 160 loss:0.192227 auc:0.9729\n",
      "epoch: 180 loss:0.191497 auc:0.9729\n",
      "epoch: 200 loss:0.190947 auc:0.9726\n",
      "epoch: 220 loss:0.190012 auc:0.9726\n"
     ]
    },
    {
     "name": "stderr",
     "output_type": "stream",
     "text": [
      " 85%|████████▍ | 775/916 [7:07:43<09:41,  4.13s/it]"
     ]
    },
    {
     "name": "stdout",
     "output_type": "stream",
     "text": [
      "epoch: 240 loss:0.189503 auc:0.9720\n",
      "Fit finished.\n",
      "epoch:   0 loss:0.622183 auc:0.3254\n",
      "epoch:  20 loss:0.261921 auc:1.0000\n",
      "epoch:  40 loss:0.218034 auc:1.0000\n",
      "epoch:  60 loss:0.208350 auc:1.0000\n",
      "epoch:  80 loss:0.201255 auc:1.0000\n",
      "epoch: 100 loss:0.195363 auc:1.0000\n",
      "epoch: 120 loss:0.192889 auc:1.0000\n",
      "epoch: 140 loss:0.191354 auc:1.0000\n",
      "epoch: 160 loss:0.190633 auc:1.0000\n",
      "epoch: 180 loss:0.189233 auc:1.0000\n",
      "epoch: 200 loss:0.189522 auc:1.0000\n",
      "epoch: 220 loss:0.186830 auc:1.0000\n",
      "epoch: 240 loss:0.192702 auc:1.0000\n",
      "epoch: 260 loss:0.183810 auc:1.0000\n",
      "epoch: 280 loss:0.180849 auc:1.0000\n",
      "epoch: 300 loss:0.199896 auc:1.0000\n",
      "epoch: 320 loss:0.179969 auc:1.0000\n",
      "epoch: 340 loss:0.177223 auc:1.0000\n",
      "epoch: 360 loss:0.172098 auc:1.0000\n",
      "epoch: 380 loss:0.173346 auc:1.0000\n",
      "epoch: 400 loss:0.169732 auc:1.0000\n",
      "epoch: 420 loss:0.167571 auc:1.0000\n",
      "epoch: 440 loss:0.162559 auc:1.0000\n",
      "epoch: 460 loss:0.161808 auc:1.0000\n",
      "epoch: 480 loss:0.159718 auc:1.0000\n",
      "epoch: 500 loss:0.160789 auc:1.0000\n",
      "epoch: 520 loss:0.156254 auc:1.0000\n",
      "epoch: 540 loss:0.153481 auc:1.0000\n",
      "epoch: 560 loss:0.151539 auc:1.0000\n",
      "epoch: 580 loss:0.150474 auc:1.0000\n",
      "epoch: 600 loss:0.156896 auc:1.0000\n",
      "epoch: 620 loss:0.151515 auc:1.0000\n",
      "epoch: 640 loss:0.148414 auc:1.0000\n",
      "epoch: 660 loss:0.146963 auc:1.0000\n",
      "epoch: 680 loss:0.146656 auc:1.0000\n",
      "epoch: 700 loss:0.145801 auc:1.0000\n",
      "epoch: 720 loss:0.145754 auc:1.0000\n",
      "epoch: 740 loss:0.144860 auc:1.0000\n",
      "epoch: 760 loss:0.144908 auc:1.0000\n",
      "epoch: 780 loss:0.143879 auc:1.0000\n",
      "epoch: 800 loss:0.143507 auc:1.0000\n",
      "epoch: 820 loss:0.143683 auc:1.0000\n",
      "epoch: 840 loss:0.143296 auc:1.0000\n",
      "epoch: 860 loss:0.142479 auc:1.0000\n",
      "epoch: 880 loss:0.141745 auc:1.0000\n",
      "epoch: 900 loss:0.142726 auc:1.0000\n",
      "epoch: 920 loss:0.141945 auc:1.0000\n",
      "epoch: 940 loss:0.141675 auc:1.0000\n",
      "epoch: 960 loss:0.142270 auc:1.0000\n",
      "epoch: 980 loss:0.140821 auc:1.0000\n"
     ]
    },
    {
     "name": "stderr",
     "output_type": "stream",
     "text": [
      " 85%|████████▍ | 776/916 [7:07:56<15:56,  6.83s/it]"
     ]
    },
    {
     "name": "stdout",
     "output_type": "stream",
     "text": [
      "Fit finished.\n",
      "epoch:   0 loss:0.616868 auc:0.5185\n",
      "epoch:  20 loss:0.267322 auc:0.9753\n",
      "epoch:  40 loss:0.219480 auc:0.9715\n",
      "epoch:  60 loss:0.209127 auc:0.9684\n",
      "epoch:  80 loss:0.202836 auc:0.9691\n",
      "epoch: 100 loss:0.196462 auc:0.9684\n",
      "epoch: 120 loss:0.193625 auc:0.9688\n",
      "epoch: 140 loss:0.191962 auc:0.9698\n",
      "epoch: 160 loss:0.191366 auc:0.9715\n"
     ]
    },
    {
     "name": "stderr",
     "output_type": "stream",
     "text": [
      " 85%|████████▍ | 777/916 [7:07:58<12:47,  5.52s/it]"
     ]
    },
    {
     "name": "stdout",
     "output_type": "stream",
     "text": [
      "epoch: 180 loss:0.190104 auc:0.9726\n",
      "Fit finished.\n",
      "epoch:   0 loss:1.574231 auc:0.5202\n",
      "epoch:  20 loss:0.332509 auc:0.9577\n",
      "epoch:  40 loss:0.254936 auc:0.9673\n",
      "epoch:  60 loss:0.223817 auc:0.9700\n",
      "epoch:  80 loss:0.212816 auc:0.9677\n",
      "epoch: 100 loss:0.207149 auc:0.9673\n",
      "epoch: 120 loss:0.202075 auc:0.9669\n",
      "epoch: 140 loss:0.197205 auc:0.9669\n",
      "epoch: 160 loss:0.194183 auc:0.9669\n",
      "epoch: 180 loss:0.192805 auc:0.9669\n"
     ]
    },
    {
     "name": "stderr",
     "output_type": "stream",
     "text": [
      " 85%|████████▍ | 778/916 [7:08:01<10:51,  4.72s/it]"
     ]
    },
    {
     "name": "stdout",
     "output_type": "stream",
     "text": [
      "epoch: 200 loss:0.191933 auc:0.9669\n",
      "Fit finished.\n",
      "epoch:   0 loss:0.845248 auc:0.6355\n",
      "epoch:  20 loss:0.348100 auc:0.9791\n",
      "epoch:  40 loss:0.264298 auc:0.9818\n",
      "epoch:  60 loss:0.224311 auc:0.9818\n",
      "epoch:  80 loss:0.211454 auc:0.9811\n",
      "epoch: 100 loss:0.205445 auc:0.9811\n",
      "epoch: 120 loss:0.199988 auc:0.9811\n",
      "epoch: 140 loss:0.195515 auc:0.9818\n",
      "epoch: 160 loss:0.193365 auc:0.9818\n",
      "epoch: 180 loss:0.192160 auc:0.9815\n"
     ]
    },
    {
     "name": "stderr",
     "output_type": "stream",
     "text": [
      " 85%|████████▌ | 779/916 [7:08:04<09:28,  4.15s/it]"
     ]
    },
    {
     "name": "stdout",
     "output_type": "stream",
     "text": [
      "epoch: 200 loss:0.191296 auc:0.9815\n",
      "Fit finished.\n",
      "epoch:   0 loss:0.735935 auc:0.2503\n",
      "epoch:  20 loss:0.251777 auc:0.9290\n",
      "epoch:  40 loss:0.219074 auc:0.9407\n",
      "epoch:  60 loss:0.210665 auc:0.9396\n",
      "epoch:  80 loss:0.204882 auc:0.9407\n",
      "epoch: 100 loss:0.198122 auc:0.9400\n",
      "epoch: 120 loss:0.194190 auc:0.9403\n",
      "epoch: 140 loss:0.192279 auc:0.9403\n",
      "epoch: 160 loss:0.192096 auc:0.9393\n",
      "epoch: 180 loss:0.190473 auc:0.9383\n"
     ]
    },
    {
     "name": "stderr",
     "output_type": "stream",
     "text": [
      " 85%|████████▌ | 780/916 [7:08:07<08:36,  3.80s/it]"
     ]
    },
    {
     "name": "stdout",
     "output_type": "stream",
     "text": [
      "epoch: 200 loss:0.188914 auc:0.9352\n",
      "Fit finished.\n",
      "epoch:   0 loss:0.834694 auc:0.6468\n",
      "epoch:  20 loss:0.342895 auc:0.9681\n",
      "epoch:  40 loss:0.256835 auc:0.9695\n",
      "epoch:  60 loss:0.221312 auc:0.9719\n",
      "epoch:  80 loss:0.210842 auc:0.9739\n",
      "epoch: 100 loss:0.205036 auc:0.9750\n",
      "epoch: 120 loss:0.199886 auc:0.9746\n",
      "epoch: 140 loss:0.195711 auc:0.9750\n",
      "epoch: 160 loss:0.193761 auc:0.9753\n",
      "epoch: 180 loss:0.192600 auc:0.9750\n",
      "epoch: 200 loss:0.191679 auc:0.9750\n",
      "epoch: 220 loss:0.190958 auc:0.9743\n"
     ]
    },
    {
     "name": "stderr",
     "output_type": "stream",
     "text": [
      " 85%|████████▌ | 781/916 [7:08:10<08:15,  3.67s/it]"
     ]
    },
    {
     "name": "stdout",
     "output_type": "stream",
     "text": [
      "epoch: 240 loss:0.190246 auc:0.9733\n",
      "Fit finished.\n",
      "epoch:   0 loss:0.755328 auc:0.6002\n",
      "epoch:  20 loss:0.317139 auc:0.9458\n",
      "epoch:  40 loss:0.235472 auc:0.9437\n",
      "epoch:  60 loss:0.215004 auc:0.9489\n",
      "epoch:  80 loss:0.207301 auc:0.9489\n",
      "epoch: 100 loss:0.201782 auc:0.9504\n",
      "epoch: 120 loss:0.197060 auc:0.9499\n",
      "epoch: 140 loss:0.194292 auc:0.9499\n",
      "epoch: 160 loss:0.192786 auc:0.9504\n",
      "epoch: 180 loss:0.191724 auc:0.9504\n",
      "epoch: 200 loss:0.191248 auc:0.9509\n",
      "epoch: 220 loss:0.190336 auc:0.9504\n",
      "epoch: 240 loss:0.189679 auc:0.9499\n",
      "epoch: 260 loss:0.189164 auc:0.9504\n",
      "epoch: 280 loss:0.189212 auc:0.9509\n",
      "epoch: 300 loss:0.187782 auc:0.9509\n"
     ]
    },
    {
     "name": "stderr",
     "output_type": "stream",
     "text": [
      " 85%|████████▌ | 782/916 [7:08:15<08:40,  3.88s/it]"
     ]
    },
    {
     "name": "stdout",
     "output_type": "stream",
     "text": [
      "epoch: 320 loss:0.186843 auc:0.9494\n",
      "Fit finished.\n",
      "epoch:   0 loss:0.599943 auc:0.5233\n",
      "epoch:  20 loss:0.260244 auc:0.9452\n",
      "epoch:  40 loss:0.218830 auc:0.9479\n",
      "epoch:  60 loss:0.210313 auc:0.9493\n",
      "epoch:  80 loss:0.204839 auc:0.9488\n",
      "epoch: 100 loss:0.198417 auc:0.9479\n",
      "epoch: 120 loss:0.194313 auc:0.9475\n",
      "epoch: 140 loss:0.192235 auc:0.9475\n",
      "epoch: 160 loss:0.191671 auc:0.9479\n",
      "epoch: 180 loss:0.190084 auc:0.9475\n"
     ]
    },
    {
     "name": "stderr",
     "output_type": "stream",
     "text": [
      " 85%|████████▌ | 783/916 [7:08:18<07:57,  3.59s/it]"
     ]
    },
    {
     "name": "stdout",
     "output_type": "stream",
     "text": [
      "epoch: 200 loss:0.188728 auc:0.9457\n",
      "Fit finished.\n",
      "epoch:   0 loss:0.780871 auc:0.4311\n",
      "epoch:  20 loss:0.283700 auc:0.9514\n",
      "epoch:  40 loss:0.225682 auc:0.9541\n",
      "epoch:  60 loss:0.213170 auc:0.9546\n",
      "epoch:  80 loss:0.207924 auc:0.9546\n",
      "epoch: 100 loss:0.203500 auc:0.9536\n",
      "epoch: 120 loss:0.198225 auc:0.9541\n",
      "epoch: 140 loss:0.194521 auc:0.9529\n",
      "epoch: 160 loss:0.192814 auc:0.9529\n",
      "epoch: 180 loss:0.191629 auc:0.9526\n"
     ]
    },
    {
     "name": "stderr",
     "output_type": "stream",
     "text": [
      " 86%|████████▌ | 784/916 [7:08:22<08:16,  3.76s/it]"
     ]
    },
    {
     "name": "stdout",
     "output_type": "stream",
     "text": [
      "epoch: 200 loss:0.190461 auc:0.9514\n",
      "Fit finished.\n",
      "epoch:   0 loss:0.648789 auc:0.4268\n",
      "epoch:  20 loss:0.288328 auc:0.9776\n",
      "epoch:  40 loss:0.223330 auc:0.9811\n",
      "epoch:  60 loss:0.210320 auc:0.9818\n",
      "epoch:  80 loss:0.204171 auc:0.9822\n",
      "epoch: 100 loss:0.197524 auc:0.9829\n",
      "epoch: 120 loss:0.194049 auc:0.9833\n",
      "epoch: 140 loss:0.192392 auc:0.9829\n",
      "epoch: 160 loss:0.191468 auc:0.9826\n",
      "epoch: 180 loss:0.190234 auc:0.9815\n",
      "epoch: 200 loss:0.191007 auc:0.9815\n"
     ]
    },
    {
     "name": "stderr",
     "output_type": "stream",
     "text": [
      " 86%|████████▌ | 785/916 [7:08:25<07:46,  3.56s/it]"
     ]
    },
    {
     "name": "stdout",
     "output_type": "stream",
     "text": [
      "epoch: 220 loss:0.188907 auc:0.9801\n",
      "Fit finished.\n",
      "epoch:   0 loss:0.661434 auc:0.4075\n",
      "epoch:  20 loss:0.307715 auc:0.9681\n",
      "epoch:  40 loss:0.229033 auc:0.9744\n",
      "epoch:  60 loss:0.213458 auc:0.9774\n",
      "epoch:  80 loss:0.206327 auc:0.9762\n",
      "epoch: 100 loss:0.199707 auc:0.9766\n",
      "epoch: 120 loss:0.194708 auc:0.9758\n",
      "epoch: 140 loss:0.192607 auc:0.9762\n",
      "epoch: 160 loss:0.191288 auc:0.9746\n",
      "epoch: 180 loss:0.190535 auc:0.9736\n"
     ]
    },
    {
     "name": "stderr",
     "output_type": "stream",
     "text": [
      " 86%|████████▌ | 786/916 [7:08:28<07:15,  3.35s/it]"
     ]
    },
    {
     "name": "stdout",
     "output_type": "stream",
     "text": [
      "epoch: 200 loss:0.189670 auc:0.9698\n",
      "Fit finished.\n",
      "epoch:   0 loss:0.882311 auc:0.4654\n",
      "epoch:  20 loss:0.292317 auc:0.9881\n",
      "epoch:  40 loss:0.228442 auc:0.9899\n",
      "epoch:  60 loss:0.212977 auc:0.9897\n",
      "epoch:  80 loss:0.206387 auc:0.9905\n",
      "epoch: 100 loss:0.200383 auc:0.9901\n",
      "epoch: 120 loss:0.195568 auc:0.9901\n",
      "epoch: 140 loss:0.193487 auc:0.9899\n",
      "epoch: 160 loss:0.192310 auc:0.9903\n",
      "epoch: 180 loss:0.191361 auc:0.9903\n",
      "epoch: 200 loss:0.190917 auc:0.9905\n",
      "epoch: 220 loss:0.189805 auc:0.9909\n"
     ]
    },
    {
     "name": "stderr",
     "output_type": "stream",
     "text": [
      " 86%|████████▌ | 787/916 [7:08:31<07:11,  3.35s/it]"
     ]
    },
    {
     "name": "stdout",
     "output_type": "stream",
     "text": [
      "epoch: 240 loss:0.189733 auc:0.9897\n",
      "Fit finished.\n",
      "epoch:   0 loss:1.151408 auc:0.9133\n",
      "epoch:  20 loss:0.321272 auc:0.9944\n",
      "epoch:  40 loss:0.250616 auc:0.9989\n",
      "epoch:  60 loss:0.220526 auc:0.9989\n",
      "epoch:  80 loss:0.208814 auc:0.9989\n",
      "epoch: 100 loss:0.201977 auc:0.9989\n",
      "epoch: 120 loss:0.196453 auc:0.9989\n",
      "epoch: 140 loss:0.193944 auc:0.9989\n",
      "epoch: 160 loss:0.192611 auc:0.9989\n",
      "epoch: 180 loss:0.191636 auc:0.9989\n",
      "epoch: 200 loss:0.191342 auc:0.9989\n",
      "epoch: 220 loss:0.190312 auc:0.9989\n",
      "epoch: 240 loss:0.189720 auc:0.9989\n",
      "epoch: 260 loss:0.189218 auc:0.9989\n",
      "epoch: 280 loss:0.188736 auc:0.9989\n",
      "epoch: 300 loss:0.188061 auc:0.9989\n",
      "epoch: 320 loss:0.188099 auc:0.9989\n",
      "epoch: 340 loss:0.186822 auc:0.9989\n",
      "epoch: 360 loss:0.187559 auc:0.9989\n",
      "epoch: 380 loss:0.184157 auc:1.0000\n",
      "epoch: 400 loss:0.182314 auc:1.0000\n",
      "epoch: 420 loss:0.188444 auc:0.9989\n",
      "epoch: 440 loss:0.181177 auc:1.0000\n",
      "epoch: 460 loss:0.176687 auc:1.0000\n",
      "epoch: 480 loss:0.182292 auc:1.0000\n",
      "epoch: 500 loss:0.174015 auc:1.0000\n",
      "epoch: 520 loss:0.172275 auc:1.0000\n",
      "epoch: 540 loss:0.172338 auc:1.0000\n"
     ]
    },
    {
     "name": "stderr",
     "output_type": "stream",
     "text": [
      " 86%|████████▌ | 788/916 [7:08:39<09:59,  4.69s/it]"
     ]
    },
    {
     "name": "stdout",
     "output_type": "stream",
     "text": [
      "epoch: 560 loss:0.169149 auc:0.9989\n",
      "Fit finished.\n",
      "epoch:   0 loss:0.577247 auc:0.6235\n",
      "epoch:  20 loss:0.261551 auc:0.9207\n",
      "epoch:  40 loss:0.216422 auc:0.9048\n",
      "epoch:  60 loss:0.206116 auc:0.9071\n",
      "epoch:  80 loss:0.198930 auc:0.9074\n",
      "epoch: 100 loss:0.194417 auc:0.9055\n",
      "epoch: 120 loss:0.192457 auc:0.9061\n",
      "epoch: 140 loss:0.191045 auc:0.9058\n",
      "epoch: 160 loss:0.190813 auc:0.9048\n"
     ]
    },
    {
     "name": "stderr",
     "output_type": "stream",
     "text": [
      " 86%|████████▌ | 789/916 [7:08:41<08:27,  4.00s/it]"
     ]
    },
    {
     "name": "stdout",
     "output_type": "stream",
     "text": [
      "epoch: 180 loss:0.188438 auc:0.8962\n",
      "Fit finished.\n",
      "epoch:   0 loss:0.552107 auc:0.5598\n",
      "epoch:  20 loss:0.281445 auc:0.9823\n",
      "epoch:  40 loss:0.221531 auc:0.9828\n",
      "epoch:  60 loss:0.209387 auc:0.9815\n",
      "epoch:  80 loss:0.202800 auc:0.9809\n",
      "epoch: 100 loss:0.196556 auc:0.9809\n",
      "epoch: 120 loss:0.193618 auc:0.9796\n",
      "epoch: 140 loss:0.191778 auc:0.9804\n",
      "epoch: 160 loss:0.191623 auc:0.9809\n"
     ]
    },
    {
     "name": "stderr",
     "output_type": "stream",
     "text": [
      " 86%|████████▌ | 790/916 [7:08:44<07:29,  3.57s/it]"
     ]
    },
    {
     "name": "stdout",
     "output_type": "stream",
     "text": [
      "epoch: 180 loss:0.190213 auc:0.9815\n",
      "Fit finished.\n",
      "epoch:   0 loss:0.765950 auc:0.4144\n",
      "epoch:  20 loss:0.287024 auc:0.9164\n",
      "epoch:  40 loss:0.223254 auc:0.9208\n",
      "epoch:  60 loss:0.210638 auc:0.9272\n",
      "epoch:  80 loss:0.203691 auc:0.9256\n",
      "epoch: 100 loss:0.196733 auc:0.9260\n",
      "epoch: 120 loss:0.193653 auc:0.9264\n",
      "epoch: 140 loss:0.191957 auc:0.9260\n",
      "epoch: 160 loss:0.191243 auc:0.9268\n",
      "epoch: 180 loss:0.189933 auc:0.9280\n",
      "epoch: 200 loss:0.188495 auc:0.9288\n",
      "epoch: 220 loss:0.188540 auc:0.9284\n",
      "epoch: 240 loss:0.186189 auc:0.9312\n",
      "epoch: 260 loss:0.184557 auc:0.9308\n"
     ]
    },
    {
     "name": "stderr",
     "output_type": "stream",
     "text": [
      " 86%|████████▋ | 791/916 [7:08:48<07:37,  3.66s/it]"
     ]
    },
    {
     "name": "stdout",
     "output_type": "stream",
     "text": [
      "epoch: 280 loss:0.184867 auc:0.9240\n",
      "Fit finished.\n",
      "epoch:   0 loss:0.846800 auc:0.4493\n",
      "epoch:  20 loss:0.306170 auc:0.9183\n",
      "epoch:  40 loss:0.229847 auc:0.9284\n",
      "epoch:  60 loss:0.214876 auc:0.9324\n",
      "epoch:  80 loss:0.208086 auc:0.9332\n",
      "epoch: 100 loss:0.203182 auc:0.9343\n",
      "epoch: 120 loss:0.197825 auc:0.9338\n",
      "epoch: 140 loss:0.194432 auc:0.9332\n",
      "epoch: 160 loss:0.192832 auc:0.9326\n",
      "epoch: 180 loss:0.191753 auc:0.9322\n",
      "epoch: 200 loss:0.191107 auc:0.9309\n"
     ]
    },
    {
     "name": "stderr",
     "output_type": "stream",
     "text": [
      " 86%|████████▋ | 792/916 [7:08:51<07:33,  3.66s/it]"
     ]
    },
    {
     "name": "stdout",
     "output_type": "stream",
     "text": [
      "epoch: 220 loss:0.190256 auc:0.9298\n",
      "Fit finished.\n",
      "epoch:   0 loss:0.774750 auc:0.3647\n",
      "epoch:  20 loss:0.326549 auc:0.9845\n",
      "epoch:  40 loss:0.237348 auc:0.9850\n",
      "epoch:  60 loss:0.217147 auc:0.9830\n",
      "epoch:  80 loss:0.209341 auc:0.9814\n",
      "epoch: 100 loss:0.203819 auc:0.9819\n",
      "epoch: 120 loss:0.197858 auc:0.9814\n",
      "epoch: 140 loss:0.194365 auc:0.9809\n",
      "epoch: 160 loss:0.192763 auc:0.9819\n"
     ]
    },
    {
     "name": "stderr",
     "output_type": "stream",
     "text": [
      " 87%|████████▋ | 793/916 [7:08:54<06:48,  3.32s/it]"
     ]
    },
    {
     "name": "stdout",
     "output_type": "stream",
     "text": [
      "epoch: 180 loss:0.191643 auc:0.9814\n",
      "Fit finished.\n",
      "epoch:   0 loss:0.969954 auc:0.7318\n",
      "epoch:  20 loss:0.342725 auc:0.9874\n",
      "epoch:  40 loss:0.264953 auc:0.9939\n",
      "epoch:  60 loss:0.225957 auc:0.9961\n",
      "epoch:  80 loss:0.213442 auc:0.9983\n",
      "epoch: 100 loss:0.207295 auc:0.9987\n",
      "epoch: 120 loss:0.201257 auc:0.9983\n",
      "epoch: 140 loss:0.195779 auc:0.9983\n",
      "epoch: 160 loss:0.193388 auc:0.9983\n",
      "epoch: 180 loss:0.193634 auc:0.9983\n",
      "epoch: 200 loss:0.191681 auc:0.9983\n",
      "epoch: 220 loss:0.190803 auc:0.9983\n",
      "epoch: 240 loss:0.190816 auc:0.9983\n"
     ]
    },
    {
     "name": "stderr",
     "output_type": "stream",
     "text": [
      " 87%|████████▋ | 794/916 [7:08:58<06:58,  3.43s/it]"
     ]
    },
    {
     "name": "stdout",
     "output_type": "stream",
     "text": [
      "epoch: 260 loss:0.189851 auc:0.9983\n",
      "Fit finished.\n",
      "epoch:   0 loss:0.891402 auc:0.4172\n",
      "epoch:  20 loss:0.317890 auc:0.9726\n",
      "epoch:  40 loss:0.234672 auc:0.9720\n",
      "epoch:  60 loss:0.215296 auc:0.9720\n",
      "epoch:  80 loss:0.207922 auc:0.9728\n",
      "epoch: 100 loss:0.202497 auc:0.9720\n",
      "epoch: 120 loss:0.196987 auc:0.9722\n",
      "epoch: 140 loss:0.193932 auc:0.9722\n",
      "epoch: 160 loss:0.192504 auc:0.9716\n"
     ]
    },
    {
     "name": "stderr",
     "output_type": "stream",
     "text": [
      " 87%|████████▋ | 795/916 [7:09:00<06:25,  3.18s/it]"
     ]
    },
    {
     "name": "stdout",
     "output_type": "stream",
     "text": [
      "epoch: 180 loss:0.191882 auc:0.9716\n",
      "Fit finished.\n",
      "epoch:   0 loss:0.894986 auc:0.2622\n",
      "epoch:  20 loss:0.330677 auc:0.9067\n",
      "epoch:  40 loss:0.245925 auc:0.9511\n",
      "epoch:  60 loss:0.220136 auc:0.9600\n",
      "epoch:  80 loss:0.211758 auc:0.9644\n",
      "epoch: 100 loss:0.206548 auc:0.9689\n",
      "epoch: 120 loss:0.201061 auc:0.9689\n",
      "epoch: 140 loss:0.195658 auc:0.9333\n",
      "epoch: 160 loss:0.193436 auc:0.8178\n"
     ]
    },
    {
     "name": "stderr",
     "output_type": "stream",
     "text": [
      " 87%|████████▋ | 796/916 [7:09:03<06:02,  3.02s/it]"
     ]
    },
    {
     "name": "stdout",
     "output_type": "stream",
     "text": [
      "epoch: 180 loss:0.193594 auc:0.8222\n",
      "Fit finished.\n",
      "epoch:   0 loss:0.787993 auc:0.6241\n",
      "epoch:  20 loss:0.302010 auc:0.9767\n",
      "epoch:  40 loss:0.229022 auc:0.9739\n",
      "epoch:  60 loss:0.213508 auc:0.9726\n",
      "epoch:  80 loss:0.206010 auc:0.9712\n",
      "epoch: 100 loss:0.199101 auc:0.9712\n",
      "epoch: 120 loss:0.194845 auc:0.9712\n",
      "epoch: 140 loss:0.193008 auc:0.9726\n",
      "epoch: 160 loss:0.191894 auc:0.9739\n"
     ]
    },
    {
     "name": "stderr",
     "output_type": "stream",
     "text": [
      " 87%|████████▋ | 797/916 [7:09:05<05:46,  2.92s/it]"
     ]
    },
    {
     "name": "stdout",
     "output_type": "stream",
     "text": [
      "epoch: 180 loss:0.191806 auc:0.9739\n",
      "Fit finished.\n",
      "epoch:   0 loss:0.829405 auc:0.6405\n",
      "epoch:  20 loss:0.313568 auc:0.9695\n",
      "epoch:  40 loss:0.229509 auc:0.9705\n",
      "epoch:  60 loss:0.215301 auc:0.9695\n",
      "epoch:  80 loss:0.208931 auc:0.9705\n",
      "epoch: 100 loss:0.204305 auc:0.9708\n",
      "epoch: 120 loss:0.198983 auc:0.9708\n",
      "epoch: 140 loss:0.194761 auc:0.9705\n",
      "epoch: 160 loss:0.192948 auc:0.9708\n",
      "epoch: 180 loss:0.191754 auc:0.9705\n"
     ]
    },
    {
     "name": "stderr",
     "output_type": "stream",
     "text": [
      " 87%|████████▋ | 798/916 [7:09:10<06:28,  3.29s/it]"
     ]
    },
    {
     "name": "stdout",
     "output_type": "stream",
     "text": [
      "epoch: 200 loss:0.190726 auc:0.9695\n",
      "Fit finished.\n",
      "epoch:   0 loss:0.680106 auc:0.6091\n",
      "epoch:  20 loss:0.310620 auc:0.9735\n",
      "epoch:  40 loss:0.228938 auc:0.9761\n",
      "epoch:  60 loss:0.213257 auc:0.9779\n",
      "epoch:  80 loss:0.206507 auc:0.9779\n",
      "epoch: 100 loss:0.199725 auc:0.9782\n",
      "epoch: 120 loss:0.194456 auc:0.9779\n",
      "epoch: 140 loss:0.192514 auc:0.9777\n",
      "epoch: 160 loss:0.193147 auc:0.9773\n",
      "epoch: 180 loss:0.190635 auc:0.9773\n",
      "epoch: 200 loss:0.189784 auc:0.9777\n"
     ]
    },
    {
     "name": "stderr",
     "output_type": "stream",
     "text": [
      " 87%|████████▋ | 799/916 [7:09:13<06:13,  3.20s/it]"
     ]
    },
    {
     "name": "stdout",
     "output_type": "stream",
     "text": [
      "epoch: 220 loss:0.196467 auc:0.9758\n",
      "Fit finished.\n",
      "epoch:   0 loss:0.570562 auc:0.5760\n",
      "epoch:  20 loss:0.260820 auc:0.9638\n",
      "epoch:  40 loss:0.218158 auc:0.9654\n",
      "epoch:  60 loss:0.208452 auc:0.9654\n",
      "epoch:  80 loss:0.202442 auc:0.9654\n",
      "epoch: 100 loss:0.196655 auc:0.9648\n",
      "epoch: 120 loss:0.193623 auc:0.9654\n",
      "epoch: 140 loss:0.191939 auc:0.9654\n",
      "epoch: 160 loss:0.190621 auc:0.9648\n",
      "epoch: 180 loss:0.189314 auc:0.9659\n"
     ]
    },
    {
     "name": "stderr",
     "output_type": "stream",
     "text": [
      " 87%|████████▋ | 800/916 [7:09:15<05:56,  3.07s/it]"
     ]
    },
    {
     "name": "stdout",
     "output_type": "stream",
     "text": [
      "epoch: 200 loss:0.188696 auc:0.9648\n",
      "Fit finished.\n",
      "epoch:   0 loss:1.185462 auc:0.6062\n",
      "epoch:  20 loss:0.299324 auc:0.9839\n",
      "epoch:  40 loss:0.232148 auc:0.9846\n",
      "epoch:  60 loss:0.215942 auc:0.9851\n",
      "epoch:  80 loss:0.208091 auc:0.9846\n",
      "epoch: 100 loss:0.202448 auc:0.9849\n",
      "epoch: 120 loss:0.197325 auc:0.9844\n",
      "epoch: 140 loss:0.194433 auc:0.9844\n",
      "epoch: 160 loss:0.193001 auc:0.9844\n",
      "epoch: 180 loss:0.192004 auc:0.9841\n"
     ]
    },
    {
     "name": "stderr",
     "output_type": "stream",
     "text": [
      " 87%|████████▋ | 801/916 [7:09:18<05:36,  2.93s/it]"
     ]
    },
    {
     "name": "stdout",
     "output_type": "stream",
     "text": [
      "epoch: 200 loss:0.191205 auc:0.9839\n",
      "Fit finished.\n",
      "epoch:   0 loss:0.841899 auc:0.5287\n",
      "epoch:  20 loss:0.310226 auc:0.9647\n",
      "epoch:  40 loss:0.238384 auc:0.9670\n",
      "epoch:  60 loss:0.219044 auc:0.9688\n",
      "epoch:  80 loss:0.211682 auc:0.9688\n",
      "epoch: 100 loss:0.207242 auc:0.9683\n",
      "epoch: 120 loss:0.202994 auc:0.9683\n",
      "epoch: 140 loss:0.197928 auc:0.9674\n",
      "epoch: 160 loss:0.194287 auc:0.9670\n",
      "epoch: 180 loss:0.192713 auc:0.9670\n"
     ]
    },
    {
     "name": "stderr",
     "output_type": "stream",
     "text": [
      " 88%|████████▊ | 802/916 [7:09:21<05:33,  2.92s/it]"
     ]
    },
    {
     "name": "stdout",
     "output_type": "stream",
     "text": [
      "epoch: 200 loss:0.191639 auc:0.9660\n",
      "Fit finished.\n",
      "epoch:   0 loss:0.681124 auc:0.5503\n",
      "epoch:  20 loss:0.241451 auc:0.9778\n",
      "epoch:  40 loss:0.215796 auc:0.9749\n",
      "epoch:  60 loss:0.206963 auc:0.9778\n",
      "epoch:  80 loss:0.199587 auc:0.9778\n",
      "epoch: 100 loss:0.194379 auc:0.9778\n",
      "epoch: 120 loss:0.193687 auc:0.9778\n",
      "epoch: 140 loss:0.190911 auc:0.9778\n",
      "epoch: 160 loss:0.189734 auc:0.9763\n"
     ]
    },
    {
     "name": "stderr",
     "output_type": "stream",
     "text": [
      " 88%|████████▊ | 803/916 [7:09:23<05:18,  2.82s/it]"
     ]
    },
    {
     "name": "stdout",
     "output_type": "stream",
     "text": [
      "epoch: 180 loss:0.188538 auc:0.9749\n",
      "Fit finished.\n",
      "epoch:   0 loss:0.663919 auc:0.3344\n",
      "epoch:  20 loss:0.273199 auc:0.9632\n",
      "epoch:  40 loss:0.222424 auc:0.9648\n",
      "epoch:  60 loss:0.210590 auc:0.9664\n",
      "epoch:  80 loss:0.204397 auc:0.9664\n",
      "epoch: 100 loss:0.197366 auc:0.9664\n",
      "epoch: 120 loss:0.194007 auc:0.9664\n",
      "epoch: 140 loss:0.192240 auc:0.9648\n",
      "epoch: 160 loss:0.192238 auc:0.9648\n",
      "epoch: 180 loss:0.189164 auc:0.9632\n"
     ]
    },
    {
     "name": "stderr",
     "output_type": "stream",
     "text": [
      " 88%|████████▊ | 804/916 [7:09:26<05:19,  2.85s/it]"
     ]
    },
    {
     "name": "stdout",
     "output_type": "stream",
     "text": [
      "epoch: 200 loss:0.187813 auc:0.9616\n",
      "Fit finished.\n",
      "epoch:   0 loss:0.709367 auc:0.5347\n",
      "epoch:  20 loss:0.317731 auc:0.9788\n",
      "epoch:  40 loss:0.236304 auc:0.9847\n",
      "epoch:  60 loss:0.218426 auc:0.9861\n",
      "epoch:  80 loss:0.210436 auc:0.9839\n",
      "epoch: 100 loss:0.204511 auc:0.9825\n",
      "epoch: 120 loss:0.198313 auc:0.9839\n",
      "epoch: 140 loss:0.194680 auc:0.9839\n",
      "epoch: 160 loss:0.192955 auc:0.9817\n",
      "epoch: 180 loss:0.191785 auc:0.9817\n"
     ]
    },
    {
     "name": "stderr",
     "output_type": "stream",
     "text": [
      " 88%|████████▊ | 805/916 [7:09:29<05:20,  2.89s/it]"
     ]
    },
    {
     "name": "stdout",
     "output_type": "stream",
     "text": [
      "epoch: 200 loss:0.191922 auc:0.9817\n",
      "Fit finished.\n",
      "epoch:   0 loss:0.825525 auc:0.5033\n",
      "epoch:  20 loss:0.349945 auc:0.9364\n",
      "epoch:  40 loss:0.256001 auc:0.9598\n",
      "epoch:  60 loss:0.221345 auc:0.9635\n",
      "epoch:  80 loss:0.211746 auc:0.9657\n",
      "epoch: 100 loss:0.206791 auc:0.9657\n",
      "epoch: 120 loss:0.202139 auc:0.9657\n",
      "epoch: 140 loss:0.197158 auc:0.9657\n",
      "epoch: 160 loss:0.194107 auc:0.9649\n",
      "epoch: 180 loss:0.192622 auc:0.9649\n",
      "epoch: 200 loss:0.191572 auc:0.9642\n",
      "epoch: 220 loss:0.190711 auc:0.9649\n",
      "epoch: 240 loss:0.190039 auc:0.9679\n",
      "epoch: 260 loss:0.188801 auc:0.9671\n",
      "epoch: 280 loss:0.187751 auc:0.9693\n",
      "epoch: 300 loss:0.186761 auc:0.9715\n",
      "epoch: 320 loss:0.187341 auc:0.9715\n",
      "epoch: 340 loss:0.184620 auc:0.9722\n",
      "epoch: 360 loss:0.183520 auc:0.9715\n",
      "epoch: 380 loss:0.181777 auc:0.9715\n",
      "epoch: 400 loss:0.180453 auc:0.9701\n",
      "epoch: 420 loss:0.182254 auc:0.9701\n",
      "epoch: 440 loss:0.177911 auc:0.9715\n"
     ]
    },
    {
     "name": "stderr",
     "output_type": "stream",
     "text": [
      " 88%|████████▊ | 806/916 [7:09:36<07:18,  3.99s/it]"
     ]
    },
    {
     "name": "stdout",
     "output_type": "stream",
     "text": [
      "epoch: 460 loss:0.176636 auc:0.9701\n",
      "Fit finished.\n",
      "epoch:   0 loss:1.150323 auc:0.4842\n",
      "epoch:  20 loss:0.324950 auc:0.9695\n",
      "epoch:  40 loss:0.241276 auc:0.9698\n",
      "epoch:  60 loss:0.217794 auc:0.9709\n",
      "epoch:  80 loss:0.208479 auc:0.9684\n",
      "epoch: 100 loss:0.202740 auc:0.9688\n",
      "epoch: 120 loss:0.197110 auc:0.9691\n",
      "epoch: 140 loss:0.194257 auc:0.9709\n",
      "epoch: 160 loss:0.192852 auc:0.9705\n"
     ]
    },
    {
     "name": "stderr",
     "output_type": "stream",
     "text": [
      " 88%|████████▊ | 807/916 [7:09:39<06:30,  3.58s/it]"
     ]
    },
    {
     "name": "stdout",
     "output_type": "stream",
     "text": [
      "epoch: 180 loss:0.191868 auc:0.9684\n",
      "Fit finished.\n",
      "epoch:   0 loss:0.746472 auc:0.2413\n",
      "epoch:  20 loss:0.297159 auc:0.9810\n",
      "epoch:  40 loss:0.230692 auc:0.9818\n",
      "epoch:  60 loss:0.214599 auc:0.9801\n",
      "epoch:  80 loss:0.207534 auc:0.9801\n",
      "epoch: 100 loss:0.201530 auc:0.9801\n",
      "epoch: 120 loss:0.195718 auc:0.9801\n",
      "epoch: 140 loss:0.193338 auc:0.9801\n",
      "epoch: 160 loss:0.192234 auc:0.9801\n"
     ]
    },
    {
     "name": "stderr",
     "output_type": "stream",
     "text": [
      " 88%|████████▊ | 808/916 [7:09:41<05:55,  3.29s/it]"
     ]
    },
    {
     "name": "stdout",
     "output_type": "stream",
     "text": [
      "epoch: 180 loss:0.191247 auc:0.9801\n",
      "Fit finished.\n",
      "epoch:   0 loss:0.620906 auc:0.2775\n",
      "epoch:  20 loss:0.281649 auc:0.9185\n",
      "epoch:  40 loss:0.225393 auc:0.9257\n",
      "epoch:  60 loss:0.211355 auc:0.9278\n",
      "epoch:  80 loss:0.204042 auc:0.9300\n",
      "epoch: 100 loss:0.196607 auc:0.9316\n",
      "epoch: 120 loss:0.193407 auc:0.9293\n",
      "epoch: 140 loss:0.191838 auc:0.9295\n",
      "epoch: 160 loss:0.191023 auc:0.9290\n",
      "epoch: 180 loss:0.190126 auc:0.9253\n"
     ]
    },
    {
     "name": "stderr",
     "output_type": "stream",
     "text": [
      " 88%|████████▊ | 809/916 [7:09:44<05:38,  3.17s/it]"
     ]
    },
    {
     "name": "stdout",
     "output_type": "stream",
     "text": [
      "epoch: 200 loss:0.189507 auc:0.9191\n",
      "Fit finished.\n",
      "epoch:   0 loss:0.981585 auc:0.4247\n",
      "epoch:  20 loss:0.313717 auc:0.9591\n",
      "epoch:  40 loss:0.232815 auc:0.9567\n",
      "epoch:  60 loss:0.215597 auc:0.9557\n",
      "epoch:  80 loss:0.207351 auc:0.9549\n",
      "epoch: 100 loss:0.200731 auc:0.9578\n",
      "epoch: 120 loss:0.194919 auc:0.9576\n",
      "epoch: 140 loss:0.192796 auc:0.9579\n",
      "epoch: 160 loss:0.192112 auc:0.9567\n"
     ]
    },
    {
     "name": "stderr",
     "output_type": "stream",
     "text": [
      " 88%|████████▊ | 810/916 [7:09:47<05:15,  2.98s/it]"
     ]
    },
    {
     "name": "stdout",
     "output_type": "stream",
     "text": [
      "epoch: 180 loss:0.190698 auc:0.9554\n",
      "Fit finished.\n",
      "epoch:   0 loss:0.778132 auc:0.5952\n",
      "epoch:  20 loss:0.325793 auc:0.8921\n",
      "epoch:  40 loss:0.240961 auc:0.9105\n",
      "epoch:  60 loss:0.214214 auc:0.9146\n",
      "epoch:  80 loss:0.204843 auc:0.9209\n",
      "epoch: 100 loss:0.198234 auc:0.9217\n",
      "epoch: 120 loss:0.194667 auc:0.9213\n",
      "epoch: 140 loss:0.193114 auc:0.9213\n",
      "epoch: 160 loss:0.192024 auc:0.9204\n",
      "epoch: 180 loss:0.191110 auc:0.9200\n",
      "epoch: 200 loss:0.190263 auc:0.9196\n",
      "epoch: 220 loss:0.190587 auc:0.9180\n"
     ]
    },
    {
     "name": "stderr",
     "output_type": "stream",
     "text": [
      " 89%|████████▊ | 811/916 [7:09:50<05:38,  3.23s/it]"
     ]
    },
    {
     "name": "stdout",
     "output_type": "stream",
     "text": [
      "epoch: 240 loss:0.189311 auc:0.9175\n",
      "Fit finished.\n",
      "epoch:   0 loss:1.259908 auc:0.5481\n",
      "epoch:  20 loss:0.342816 auc:0.9487\n",
      "epoch:  40 loss:0.264336 auc:0.9544\n",
      "epoch:  60 loss:0.225234 auc:0.9563\n",
      "epoch:  80 loss:0.211338 auc:0.9563\n",
      "epoch: 100 loss:0.203895 auc:0.9575\n",
      "epoch: 120 loss:0.197814 auc:0.9581\n",
      "epoch: 140 loss:0.194620 auc:0.9569\n",
      "epoch: 160 loss:0.193103 auc:0.9575\n",
      "epoch: 180 loss:0.192077 auc:0.9563\n",
      "epoch: 200 loss:0.191253 auc:0.9563\n"
     ]
    },
    {
     "name": "stderr",
     "output_type": "stream",
     "text": [
      " 89%|████████▊ | 812/916 [7:09:54<05:37,  3.25s/it]"
     ]
    },
    {
     "name": "stdout",
     "output_type": "stream",
     "text": [
      "epoch: 220 loss:0.190598 auc:0.9550\n",
      "Fit finished.\n",
      "epoch:   0 loss:1.409221 auc:0.5719\n",
      "epoch:  20 loss:0.332192 auc:0.9349\n",
      "epoch:  40 loss:0.254265 auc:0.9376\n",
      "epoch:  60 loss:0.222599 auc:0.9391\n",
      "epoch:  80 loss:0.211040 auc:0.9387\n",
      "epoch: 100 loss:0.203917 auc:0.9359\n",
      "epoch: 120 loss:0.197176 auc:0.9345\n",
      "epoch: 140 loss:0.193933 auc:0.9353\n",
      "epoch: 160 loss:0.192888 auc:0.9357\n",
      "epoch: 180 loss:0.191489 auc:0.9351\n"
     ]
    },
    {
     "name": "stderr",
     "output_type": "stream",
     "text": [
      " 89%|████████▉ | 813/916 [7:09:58<06:03,  3.53s/it]"
     ]
    },
    {
     "name": "stdout",
     "output_type": "stream",
     "text": [
      "epoch: 200 loss:0.193764 auc:0.9322\n",
      "Fit finished.\n",
      "epoch:   0 loss:0.868796 auc:0.3815\n",
      "epoch:  20 loss:0.308651 auc:0.9335\n",
      "epoch:  40 loss:0.232559 auc:0.9349\n",
      "epoch:  60 loss:0.215394 auc:0.9352\n",
      "epoch:  80 loss:0.207396 auc:0.9353\n",
      "epoch: 100 loss:0.200501 auc:0.9357\n",
      "epoch: 120 loss:0.194899 auc:0.9357\n",
      "epoch: 140 loss:0.192680 auc:0.9368\n",
      "epoch: 160 loss:0.191394 auc:0.9349\n"
     ]
    },
    {
     "name": "stderr",
     "output_type": "stream",
     "text": [
      " 89%|████████▉ | 814/916 [7:10:00<05:30,  3.24s/it]"
     ]
    },
    {
     "name": "stdout",
     "output_type": "stream",
     "text": [
      "epoch: 180 loss:0.190407 auc:0.9318\n",
      "Fit finished.\n",
      "epoch:   0 loss:0.882541 auc:0.3976\n",
      "epoch:  20 loss:0.333290 auc:0.9657\n",
      "epoch:  40 loss:0.256122 auc:0.9670\n",
      "epoch:  60 loss:0.221621 auc:0.9702\n",
      "epoch:  80 loss:0.209151 auc:0.9709\n",
      "epoch: 100 loss:0.201722 auc:0.9707\n",
      "epoch: 120 loss:0.196055 auc:0.9713\n",
      "epoch: 140 loss:0.193750 auc:0.9713\n",
      "epoch: 160 loss:0.192449 auc:0.9709\n",
      "epoch: 180 loss:0.191492 auc:0.9709\n",
      "epoch: 200 loss:0.190729 auc:0.9709\n",
      "epoch: 220 loss:0.190085 auc:0.9711\n",
      "epoch: 240 loss:0.189519 auc:0.9709\n",
      "epoch: 260 loss:0.189164 auc:0.9709\n"
     ]
    },
    {
     "name": "stderr",
     "output_type": "stream",
     "text": [
      " 89%|████████▉ | 815/916 [7:10:04<05:44,  3.41s/it]"
     ]
    },
    {
     "name": "stdout",
     "output_type": "stream",
     "text": [
      "epoch: 280 loss:0.188265 auc:0.9709\n",
      "Fit finished.\n",
      "epoch:   0 loss:1.081293 auc:0.5360\n",
      "epoch:  20 loss:0.311047 auc:0.9324\n",
      "epoch:  40 loss:0.235727 auc:0.9353\n",
      "epoch:  60 loss:0.218060 auc:0.9363\n",
      "epoch:  80 loss:0.210686 auc:0.9372\n",
      "epoch: 100 loss:0.206006 auc:0.9364\n",
      "epoch: 120 loss:0.200952 auc:0.9366\n",
      "epoch: 140 loss:0.195964 auc:0.9370\n",
      "epoch: 160 loss:0.193559 auc:0.9373\n",
      "epoch: 180 loss:0.192481 auc:0.9373\n",
      "epoch: 200 loss:0.191367 auc:0.9368\n"
     ]
    },
    {
     "name": "stderr",
     "output_type": "stream",
     "text": [
      " 89%|████████▉ | 816/916 [7:10:07<05:30,  3.31s/it]"
     ]
    },
    {
     "name": "stdout",
     "output_type": "stream",
     "text": [
      "epoch: 220 loss:0.190651 auc:0.9355\n",
      "Fit finished.\n",
      "epoch:   0 loss:0.587924 auc:0.5188\n",
      "epoch:  20 loss:0.257220 auc:0.9281\n",
      "epoch:  40 loss:0.217445 auc:0.9356\n",
      "epoch:  60 loss:0.208374 auc:0.9353\n",
      "epoch:  80 loss:0.203040 auc:0.9336\n",
      "epoch: 100 loss:0.197692 auc:0.9343\n",
      "epoch: 120 loss:0.194239 auc:0.9348\n",
      "epoch: 140 loss:0.192448 auc:0.9338\n",
      "epoch: 160 loss:0.191099 auc:0.9310\n"
     ]
    },
    {
     "name": "stderr",
     "output_type": "stream",
     "text": [
      " 89%|████████▉ | 817/916 [7:10:10<05:09,  3.13s/it]"
     ]
    },
    {
     "name": "stdout",
     "output_type": "stream",
     "text": [
      "epoch: 180 loss:0.192656 auc:0.9241\n",
      "Fit finished.\n",
      "epoch:   0 loss:0.660238 auc:0.2543\n",
      "epoch:  20 loss:0.308755 auc:0.9346\n",
      "epoch:  40 loss:0.229503 auc:0.9330\n",
      "epoch:  60 loss:0.213291 auc:0.9356\n",
      "epoch:  80 loss:0.206790 auc:0.9372\n",
      "epoch: 100 loss:0.201204 auc:0.9375\n",
      "epoch: 120 loss:0.196121 auc:0.9380\n",
      "epoch: 140 loss:0.193709 auc:0.9377\n",
      "epoch: 160 loss:0.192160 auc:0.9367\n",
      "epoch: 180 loss:0.191086 auc:0.9359\n"
     ]
    },
    {
     "name": "stderr",
     "output_type": "stream",
     "text": [
      " 89%|████████▉ | 818/916 [7:10:13<04:57,  3.04s/it]"
     ]
    },
    {
     "name": "stdout",
     "output_type": "stream",
     "text": [
      "epoch: 200 loss:0.190467 auc:0.9322\n",
      "Fit finished.\n",
      "epoch:   0 loss:0.827443 auc:0.3944\n",
      "epoch:  20 loss:0.313003 auc:0.9905\n",
      "epoch:  40 loss:0.230982 auc:0.9920\n",
      "epoch:  60 loss:0.214543 auc:0.9898\n",
      "epoch:  80 loss:0.208291 auc:0.9890\n",
      "epoch: 100 loss:0.203420 auc:0.9898\n",
      "epoch: 120 loss:0.197869 auc:0.9890\n",
      "epoch: 140 loss:0.194289 auc:0.9898\n",
      "epoch: 160 loss:0.192521 auc:0.9898\n"
     ]
    },
    {
     "name": "stderr",
     "output_type": "stream",
     "text": [
      " 89%|████████▉ | 819/916 [7:10:15<04:40,  2.90s/it]"
     ]
    },
    {
     "name": "stdout",
     "output_type": "stream",
     "text": [
      "epoch: 180 loss:0.191353 auc:0.9898\n",
      "Fit finished.\n",
      "epoch:   0 loss:0.914742 auc:0.4436\n",
      "epoch:  20 loss:0.342006 auc:0.9717\n",
      "epoch:  40 loss:0.257629 auc:0.9694\n",
      "epoch:  60 loss:0.222492 auc:0.9694\n",
      "epoch:  80 loss:0.211460 auc:0.9689\n",
      "epoch: 100 loss:0.205898 auc:0.9689\n",
      "epoch: 120 loss:0.200401 auc:0.9692\n",
      "epoch: 140 loss:0.195309 auc:0.9697\n",
      "epoch: 160 loss:0.193200 auc:0.9706\n"
     ]
    },
    {
     "name": "stderr",
     "output_type": "stream",
     "text": [
      " 90%|████████▉ | 820/916 [7:10:18<04:32,  2.84s/it]"
     ]
    },
    {
     "name": "stdout",
     "output_type": "stream",
     "text": [
      "epoch: 180 loss:0.192048 auc:0.9703\n",
      "Fit finished.\n",
      "epoch:   0 loss:0.800793 auc:0.5791\n",
      "epoch:  20 loss:0.319335 auc:0.9407\n",
      "epoch:  40 loss:0.235510 auc:0.9376\n",
      "epoch:  60 loss:0.218325 auc:0.9411\n",
      "epoch:  80 loss:0.211539 auc:0.9443\n",
      "epoch: 100 loss:0.207491 auc:0.9456\n",
      "epoch: 120 loss:0.202821 auc:0.9449\n",
      "epoch: 140 loss:0.197215 auc:0.9450\n",
      "epoch: 160 loss:0.194055 auc:0.9452\n",
      "epoch: 180 loss:0.192472 auc:0.9456\n",
      "epoch: 200 loss:0.194336 auc:0.9437\n",
      "epoch: 220 loss:0.190757 auc:0.9417\n"
     ]
    },
    {
     "name": "stderr",
     "output_type": "stream",
     "text": [
      " 90%|████████▉ | 821/916 [7:10:22<04:46,  3.02s/it]"
     ]
    },
    {
     "name": "stdout",
     "output_type": "stream",
     "text": [
      "epoch: 240 loss:0.189602 auc:0.9373\n",
      "Fit finished.\n",
      "epoch:   0 loss:0.950671 auc:0.2422\n",
      "epoch:  20 loss:0.312635 auc:0.9453\n",
      "epoch:  40 loss:0.230161 auc:0.9258\n",
      "epoch:  60 loss:0.213345 auc:0.9375\n",
      "epoch:  80 loss:0.206181 auc:0.9375\n",
      "epoch: 100 loss:0.199770 auc:0.9375\n",
      "epoch: 120 loss:0.195032 auc:0.9375\n",
      "epoch: 140 loss:0.192939 auc:0.9375\n",
      "epoch: 160 loss:0.191730 auc:0.9375\n"
     ]
    },
    {
     "name": "stderr",
     "output_type": "stream",
     "text": [
      " 90%|████████▉ | 822/916 [7:10:24<04:29,  2.87s/it]"
     ]
    },
    {
     "name": "stdout",
     "output_type": "stream",
     "text": [
      "epoch: 180 loss:0.190709 auc:0.9375\n",
      "Fit finished.\n",
      "epoch:   0 loss:0.624533 auc:0.2702\n",
      "epoch:  20 loss:0.248126 auc:0.9578\n",
      "epoch:  40 loss:0.218721 auc:0.9637\n",
      "epoch:  60 loss:0.210408 auc:0.9637\n",
      "epoch:  80 loss:0.204612 auc:0.9622\n",
      "epoch: 100 loss:0.197783 auc:0.9627\n",
      "epoch: 120 loss:0.193876 auc:0.9635\n",
      "epoch: 140 loss:0.191808 auc:0.9608\n",
      "epoch: 160 loss:0.192764 auc:0.9576\n"
     ]
    },
    {
     "name": "stderr",
     "output_type": "stream",
     "text": [
      " 90%|████████▉ | 823/916 [7:10:27<04:20,  2.80s/it]"
     ]
    },
    {
     "name": "stdout",
     "output_type": "stream",
     "text": [
      "epoch: 180 loss:0.188972 auc:0.9543\n",
      "Fit finished.\n",
      "epoch:   0 loss:0.987034 auc:0.3092\n",
      "epoch:  20 loss:0.300205 auc:0.9236\n",
      "epoch:  40 loss:0.228142 auc:0.9280\n",
      "epoch:  60 loss:0.214216 auc:0.9333\n",
      "epoch:  80 loss:0.208369 auc:0.9337\n",
      "epoch: 100 loss:0.204093 auc:0.9335\n",
      "epoch: 120 loss:0.199294 auc:0.9345\n",
      "epoch: 140 loss:0.195022 auc:0.9348\n",
      "epoch: 160 loss:0.193079 auc:0.9357\n",
      "epoch: 180 loss:0.191963 auc:0.9344\n",
      "epoch: 200 loss:0.191115 auc:0.9337\n"
     ]
    },
    {
     "name": "stderr",
     "output_type": "stream",
     "text": [
      " 90%|████████▉ | 824/916 [7:10:30<04:26,  2.90s/it]"
     ]
    },
    {
     "name": "stdout",
     "output_type": "stream",
     "text": [
      "epoch: 220 loss:0.190331 auc:0.9301\n",
      "Fit finished.\n",
      "epoch:   0 loss:0.870297 auc:0.7157\n",
      "epoch:  20 loss:0.315137 auc:0.9550\n",
      "epoch:  40 loss:0.233701 auc:0.9594\n",
      "epoch:  60 loss:0.216795 auc:0.9597\n",
      "epoch:  80 loss:0.209768 auc:0.9602\n",
      "epoch: 100 loss:0.205252 auc:0.9605\n",
      "epoch: 120 loss:0.200092 auc:0.9599\n",
      "epoch: 140 loss:0.195203 auc:0.9615\n",
      "epoch: 160 loss:0.193089 auc:0.9612\n",
      "epoch: 180 loss:0.191809 auc:0.9602\n",
      "epoch: 200 loss:0.190721 auc:0.9594\n"
     ]
    },
    {
     "name": "stderr",
     "output_type": "stream",
     "text": [
      " 90%|█████████ | 825/916 [7:10:33<04:29,  2.97s/it]"
     ]
    },
    {
     "name": "stdout",
     "output_type": "stream",
     "text": [
      "epoch: 220 loss:0.191116 auc:0.9573\n",
      "Fit finished.\n",
      "epoch:   0 loss:0.661982 auc:0.3993\n",
      "epoch:  20 loss:0.328544 auc:0.9860\n",
      "epoch:  40 loss:0.236331 auc:0.9882\n",
      "epoch:  60 loss:0.215028 auc:0.9873\n",
      "epoch:  80 loss:0.205644 auc:0.9878\n",
      "epoch: 100 loss:0.199026 auc:0.9873\n",
      "epoch: 120 loss:0.194852 auc:0.9873\n",
      "epoch: 140 loss:0.193048 auc:0.9869\n",
      "epoch: 160 loss:0.191889 auc:0.9869\n",
      "epoch: 180 loss:0.192234 auc:0.9873\n"
     ]
    },
    {
     "name": "stderr",
     "output_type": "stream",
     "text": [
      " 90%|█████████ | 826/916 [7:10:36<04:29,  2.99s/it]"
     ]
    },
    {
     "name": "stdout",
     "output_type": "stream",
     "text": [
      "epoch: 200 loss:0.190461 auc:0.9878\n",
      "Fit finished.\n",
      "epoch:   0 loss:0.893194 auc:0.5069\n",
      "epoch:  20 loss:0.315707 auc:0.9028\n",
      "epoch:  40 loss:0.236095 auc:0.9306\n",
      "epoch:  60 loss:0.216641 auc:0.9306\n",
      "epoch:  80 loss:0.207925 auc:0.9514\n",
      "epoch: 100 loss:0.200929 auc:0.9514\n",
      "epoch: 120 loss:0.195455 auc:0.9514\n",
      "epoch: 140 loss:0.193404 auc:0.9514\n",
      "epoch: 160 loss:0.192214 auc:0.9514\n",
      "epoch: 180 loss:0.190981 auc:0.9514\n",
      "epoch: 200 loss:0.190039 auc:0.9514\n",
      "epoch: 220 loss:0.190085 auc:0.9514\n",
      "epoch: 240 loss:0.188719 auc:0.9514\n",
      "epoch: 260 loss:0.187600 auc:0.9583\n",
      "epoch: 280 loss:0.187723 auc:0.9583\n",
      "epoch: 300 loss:0.186229 auc:0.9653\n",
      "epoch: 320 loss:0.184606 auc:0.9722\n",
      "epoch: 340 loss:0.183433 auc:0.9722\n",
      "epoch: 360 loss:0.187579 auc:0.9722\n",
      "epoch: 380 loss:0.181534 auc:0.9722\n",
      "epoch: 400 loss:0.178789 auc:0.9722\n",
      "epoch: 420 loss:0.182305 auc:0.9583\n",
      "epoch: 440 loss:0.176169 auc:0.9583\n",
      "epoch: 460 loss:0.174476 auc:0.9722\n"
     ]
    },
    {
     "name": "stderr",
     "output_type": "stream",
     "text": [
      " 90%|█████████ | 827/916 [7:10:43<06:04,  4.10s/it]"
     ]
    },
    {
     "name": "stdout",
     "output_type": "stream",
     "text": [
      "epoch: 480 loss:0.170277 auc:0.9583\n",
      "Fit finished.\n",
      "epoch:   0 loss:0.782830 auc:0.7289\n",
      "epoch:  20 loss:0.305602 auc:0.9808\n",
      "epoch:  40 loss:0.232695 auc:0.9767\n",
      "epoch:  60 loss:0.218041 auc:0.9775\n",
      "epoch:  80 loss:0.212927 auc:0.9771\n",
      "epoch: 100 loss:0.209819 auc:0.9758\n",
      "epoch: 120 loss:0.206405 auc:0.9767\n",
      "epoch: 140 loss:0.201360 auc:0.9767\n",
      "epoch: 160 loss:0.196351 auc:0.9767\n"
     ]
    },
    {
     "name": "stderr",
     "output_type": "stream",
     "text": [
      " 90%|█████████ | 828/916 [7:10:45<05:19,  3.63s/it]"
     ]
    },
    {
     "name": "stdout",
     "output_type": "stream",
     "text": [
      "epoch: 180 loss:0.193429 auc:0.9767\n",
      "Fit finished.\n",
      "epoch:   0 loss:0.898423 auc:0.2259\n",
      "epoch:  20 loss:0.292403 auc:0.9746\n",
      "epoch:  40 loss:0.230525 auc:0.9733\n",
      "epoch:  60 loss:0.215372 auc:0.9701\n",
      "epoch:  80 loss:0.209905 auc:0.9710\n",
      "epoch: 100 loss:0.205262 auc:0.9701\n",
      "epoch: 120 loss:0.199798 auc:0.9701\n",
      "epoch: 140 loss:0.195311 auc:0.9701\n",
      "epoch: 160 loss:0.193269 auc:0.9701\n"
     ]
    },
    {
     "name": "stderr",
     "output_type": "stream",
     "text": [
      " 91%|█████████ | 829/916 [7:10:49<05:27,  3.76s/it]"
     ]
    },
    {
     "name": "stdout",
     "output_type": "stream",
     "text": [
      "epoch: 180 loss:0.191965 auc:0.9697\n",
      "Fit finished.\n",
      "epoch:   0 loss:0.650667 auc:0.2568\n",
      "epoch:  20 loss:0.269491 auc:0.9738\n",
      "epoch:  40 loss:0.220711 auc:0.9762\n",
      "epoch:  60 loss:0.210936 auc:0.9738\n",
      "epoch:  80 loss:0.205462 auc:0.9703\n",
      "epoch: 100 loss:0.199022 auc:0.9691\n",
      "epoch: 120 loss:0.194108 auc:0.9703\n",
      "epoch: 140 loss:0.192275 auc:0.9691\n",
      "epoch: 160 loss:0.190747 auc:0.9679\n"
     ]
    },
    {
     "name": "stderr",
     "output_type": "stream",
     "text": [
      " 91%|█████████ | 830/916 [7:10:52<04:58,  3.47s/it]"
     ]
    },
    {
     "name": "stdout",
     "output_type": "stream",
     "text": [
      "epoch: 180 loss:0.190838 auc:0.9679\n",
      "Fit finished.\n",
      "epoch:   0 loss:0.654277 auc:0.6094\n",
      "epoch:  20 loss:0.301866 auc:0.9635\n",
      "epoch:  40 loss:0.230277 auc:0.9653\n",
      "epoch:  60 loss:0.214648 auc:0.9653\n",
      "epoch:  80 loss:0.208736 auc:0.9653\n",
      "epoch: 100 loss:0.203679 auc:0.9653\n",
      "epoch: 120 loss:0.197572 auc:0.9653\n",
      "epoch: 140 loss:0.193904 auc:0.9653\n",
      "epoch: 160 loss:0.192232 auc:0.9635\n",
      "epoch: 180 loss:0.190965 auc:0.9635\n"
     ]
    },
    {
     "name": "stderr",
     "output_type": "stream",
     "text": [
      " 91%|█████████ | 831/916 [7:10:55<04:37,  3.27s/it]"
     ]
    },
    {
     "name": "stdout",
     "output_type": "stream",
     "text": [
      "epoch: 200 loss:0.190648 auc:0.9618\n",
      "Fit finished.\n",
      "epoch:   0 loss:0.858791 auc:0.3511\n",
      "epoch:  20 loss:0.307270 auc:0.9647\n",
      "epoch:  40 loss:0.231784 auc:0.9813\n",
      "epoch:  60 loss:0.214855 auc:0.9834\n",
      "epoch:  80 loss:0.207040 auc:0.9848\n",
      "epoch: 100 loss:0.200686 auc:0.9841\n",
      "epoch: 120 loss:0.195525 auc:0.9841\n",
      "epoch: 140 loss:0.193425 auc:0.9841\n",
      "epoch: 160 loss:0.192174 auc:0.9841\n",
      "epoch: 180 loss:0.191606 auc:0.9848\n",
      "epoch: 200 loss:0.190446 auc:0.9848\n",
      "epoch: 220 loss:0.191143 auc:0.9848\n"
     ]
    },
    {
     "name": "stderr",
     "output_type": "stream",
     "text": [
      " 91%|█████████ | 832/916 [7:10:58<04:31,  3.23s/it]"
     ]
    },
    {
     "name": "stdout",
     "output_type": "stream",
     "text": [
      "epoch: 240 loss:0.189502 auc:0.9841\n",
      "Fit finished.\n",
      "epoch:   0 loss:0.851843 auc:0.5069\n",
      "epoch:  20 loss:0.324284 auc:0.9714\n",
      "epoch:  40 loss:0.237929 auc:0.9739\n",
      "epoch:  60 loss:0.216299 auc:0.9739\n",
      "epoch:  80 loss:0.208235 auc:0.9747\n",
      "epoch: 100 loss:0.202780 auc:0.9747\n",
      "epoch: 120 loss:0.197660 auc:0.9747\n",
      "epoch: 140 loss:0.194605 auc:0.9747\n",
      "epoch: 160 loss:0.193127 auc:0.9747\n",
      "epoch: 180 loss:0.192072 auc:0.9747\n",
      "epoch: 200 loss:0.191146 auc:0.9755\n",
      "epoch: 220 loss:0.190377 auc:0.9755\n",
      "epoch: 240 loss:0.189382 auc:0.9755\n",
      "epoch: 260 loss:0.189166 auc:0.9763\n",
      "epoch: 280 loss:0.187553 auc:0.9780\n",
      "epoch: 300 loss:0.186225 auc:0.9788\n",
      "epoch: 320 loss:0.185770 auc:0.9788\n",
      "epoch: 340 loss:0.185497 auc:0.9788\n",
      "epoch: 360 loss:0.182439 auc:0.9812\n",
      "epoch: 380 loss:0.182388 auc:0.9788\n",
      "epoch: 400 loss:0.180903 auc:0.9796\n",
      "epoch: 420 loss:0.178815 auc:0.9829\n",
      "epoch: 440 loss:0.177068 auc:0.9820\n"
     ]
    },
    {
     "name": "stderr",
     "output_type": "stream",
     "text": [
      " 91%|█████████ | 833/916 [7:11:04<05:43,  4.14s/it]"
     ]
    },
    {
     "name": "stdout",
     "output_type": "stream",
     "text": [
      "epoch: 460 loss:0.172159 auc:0.9780\n",
      "Fit finished.\n",
      "epoch:   0 loss:0.776453 auc:0.3273\n",
      "epoch:  20 loss:0.295443 auc:0.9395\n",
      "epoch:  40 loss:0.229359 auc:0.9383\n",
      "epoch:  60 loss:0.213786 auc:0.9427\n",
      "epoch:  80 loss:0.206676 auc:0.9427\n",
      "epoch: 100 loss:0.200416 auc:0.9429\n",
      "epoch: 120 loss:0.195545 auc:0.9429\n",
      "epoch: 140 loss:0.193358 auc:0.9425\n",
      "epoch: 160 loss:0.191987 auc:0.9427\n",
      "epoch: 180 loss:0.190840 auc:0.9417\n",
      "epoch: 200 loss:0.192583 auc:0.9403\n"
     ]
    },
    {
     "name": "stderr",
     "output_type": "stream",
     "text": [
      " 91%|█████████ | 834/916 [7:11:08<05:18,  3.88s/it]"
     ]
    },
    {
     "name": "stdout",
     "output_type": "stream",
     "text": [
      "epoch: 220 loss:0.189191 auc:0.9326\n",
      "Fit finished.\n",
      "epoch:   0 loss:1.038889 auc:0.3681\n",
      "epoch:  20 loss:0.329225 auc:0.9696\n",
      "epoch:  40 loss:0.246503 auc:0.9727\n",
      "epoch:  60 loss:0.217664 auc:0.9744\n",
      "epoch:  80 loss:0.207840 auc:0.9770\n",
      "epoch: 100 loss:0.201805 auc:0.9779\n",
      "epoch: 120 loss:0.196582 auc:0.9783\n",
      "epoch: 140 loss:0.193922 auc:0.9783\n",
      "epoch: 160 loss:0.192511 auc:0.9779\n",
      "epoch: 180 loss:0.191435 auc:0.9779\n",
      "epoch: 200 loss:0.190925 auc:0.9783\n",
      "epoch: 220 loss:0.189904 auc:0.9787\n",
      "epoch: 240 loss:0.190036 auc:0.9792\n",
      "epoch: 260 loss:0.188246 auc:0.9792\n",
      "epoch: 280 loss:0.188142 auc:0.9796\n",
      "epoch: 300 loss:0.186606 auc:0.9800\n",
      "epoch: 320 loss:0.185668 auc:0.9800\n",
      "epoch: 340 loss:0.184019 auc:0.9792\n",
      "epoch: 360 loss:0.182872 auc:0.9796\n",
      "epoch: 380 loss:0.182287 auc:0.9796\n"
     ]
    },
    {
     "name": "stderr",
     "output_type": "stream",
     "text": [
      " 91%|█████████ | 835/916 [7:11:13<05:54,  4.38s/it]"
     ]
    },
    {
     "name": "stdout",
     "output_type": "stream",
     "text": [
      "epoch: 400 loss:0.188960 auc:0.9787\n",
      "Fit finished.\n",
      "epoch:   0 loss:0.744963 auc:0.2223\n",
      "epoch:  20 loss:0.287484 auc:0.9983\n",
      "epoch:  40 loss:0.228045 auc:0.9983\n",
      "epoch:  60 loss:0.212734 auc:0.9991\n",
      "epoch:  80 loss:0.206146 auc:0.9991\n",
      "epoch: 100 loss:0.200225 auc:0.9991\n",
      "epoch: 120 loss:0.195449 auc:0.9991\n",
      "epoch: 140 loss:0.193279 auc:0.9991\n",
      "epoch: 160 loss:0.191972 auc:0.9991\n",
      "epoch: 180 loss:0.192904 auc:0.9991\n",
      "epoch: 200 loss:0.190496 auc:0.9991\n",
      "epoch: 220 loss:0.189324 auc:0.9991\n",
      "epoch: 240 loss:0.190705 auc:0.9991\n",
      "epoch: 260 loss:0.186676 auc:1.0000\n",
      "epoch: 280 loss:0.184784 auc:1.0000\n",
      "epoch: 300 loss:0.198379 auc:0.9991\n",
      "epoch: 320 loss:0.186490 auc:1.0000\n"
     ]
    },
    {
     "name": "stderr",
     "output_type": "stream",
     "text": [
      " 91%|█████████▏| 836/916 [7:11:18<05:57,  4.47s/it]"
     ]
    },
    {
     "name": "stdout",
     "output_type": "stream",
     "text": [
      "epoch: 340 loss:0.181435 auc:0.9983\n",
      "Fit finished.\n",
      "epoch:   0 loss:0.791209 auc:0.2406\n",
      "epoch:  20 loss:0.297634 auc:0.9378\n",
      "epoch:  40 loss:0.228394 auc:0.9411\n",
      "epoch:  60 loss:0.213326 auc:0.9439\n",
      "epoch:  80 loss:0.206593 auc:0.9447\n",
      "epoch: 100 loss:0.200399 auc:0.9442\n",
      "epoch: 120 loss:0.195365 auc:0.9458\n",
      "epoch: 140 loss:0.193240 auc:0.9450\n",
      "epoch: 160 loss:0.191863 auc:0.9464\n",
      "epoch: 180 loss:0.191042 auc:0.9478\n",
      "epoch: 200 loss:0.189722 auc:0.9458\n"
     ]
    },
    {
     "name": "stderr",
     "output_type": "stream",
     "text": [
      " 91%|█████████▏| 837/916 [7:11:21<05:19,  4.04s/it]"
     ]
    },
    {
     "name": "stdout",
     "output_type": "stream",
     "text": [
      "epoch: 220 loss:0.188531 auc:0.9339\n",
      "Fit finished.\n",
      "epoch:   0 loss:0.669663 auc:0.2522\n",
      "epoch:  20 loss:0.271678 auc:0.9695\n",
      "epoch:  40 loss:0.222154 auc:0.9721\n",
      "epoch:  60 loss:0.210381 auc:0.9718\n",
      "epoch:  80 loss:0.204414 auc:0.9710\n",
      "epoch: 100 loss:0.198432 auc:0.9710\n",
      "epoch: 120 loss:0.194735 auc:0.9710\n",
      "epoch: 140 loss:0.192790 auc:0.9710\n",
      "epoch: 160 loss:0.191475 auc:0.9704\n",
      "epoch: 180 loss:0.190326 auc:0.9707\n",
      "epoch: 200 loss:0.189740 auc:0.9724\n",
      "epoch: 220 loss:0.188090 auc:0.9733\n",
      "epoch: 240 loss:0.187553 auc:0.9713\n"
     ]
    },
    {
     "name": "stderr",
     "output_type": "stream",
     "text": [
      " 91%|█████████▏| 838/916 [7:11:24<05:04,  3.90s/it]"
     ]
    },
    {
     "name": "stdout",
     "output_type": "stream",
     "text": [
      "epoch: 260 loss:0.186174 auc:0.9635\n",
      "Fit finished.\n",
      "epoch:   0 loss:1.169466 auc:0.8754\n",
      "epoch:  20 loss:0.335169 auc:0.9722\n",
      "epoch:  40 loss:0.255812 auc:0.9787\n",
      "epoch:  60 loss:0.224542 auc:0.9796\n",
      "epoch:  80 loss:0.213428 auc:0.9809\n",
      "epoch: 100 loss:0.208074 auc:0.9809\n",
      "epoch: 120 loss:0.203392 auc:0.9822\n",
      "epoch: 140 loss:0.198349 auc:0.9822\n",
      "epoch: 160 loss:0.194872 auc:0.9826\n",
      "epoch: 180 loss:0.193222 auc:0.9826\n",
      "epoch: 200 loss:0.192169 auc:0.9813\n",
      "epoch: 220 loss:0.191338 auc:0.9813\n",
      "epoch: 240 loss:0.190586 auc:0.9809\n",
      "epoch: 260 loss:0.191819 auc:0.9822\n",
      "epoch: 280 loss:0.189480 auc:0.9826\n",
      "epoch: 300 loss:0.188673 auc:0.9831\n"
     ]
    },
    {
     "name": "stderr",
     "output_type": "stream",
     "text": [
      " 92%|█████████▏| 839/916 [7:11:29<05:09,  4.02s/it]"
     ]
    },
    {
     "name": "stdout",
     "output_type": "stream",
     "text": [
      "epoch: 320 loss:0.187904 auc:0.9818\n",
      "Fit finished.\n",
      "epoch:   0 loss:0.860853 auc:0.6392\n",
      "epoch:  20 loss:0.322072 auc:0.9410\n",
      "epoch:  40 loss:0.248777 auc:0.9492\n",
      "epoch:  60 loss:0.221241 auc:0.9479\n",
      "epoch:  80 loss:0.211323 auc:0.9616\n",
      "epoch: 100 loss:0.205317 auc:0.9643\n",
      "epoch: 120 loss:0.199261 auc:0.9616\n",
      "epoch: 140 loss:0.194808 auc:0.9616\n",
      "epoch: 160 loss:0.193025 auc:0.9630\n",
      "epoch: 180 loss:0.191913 auc:0.9630\n",
      "epoch: 200 loss:0.191022 auc:0.9643\n",
      "epoch: 220 loss:0.190931 auc:0.9643\n",
      "epoch: 240 loss:0.189591 auc:0.9643\n",
      "epoch: 260 loss:0.189921 auc:0.9643\n",
      "epoch: 280 loss:0.188969 auc:0.9671\n",
      "epoch: 300 loss:0.186724 auc:0.9698\n",
      "epoch: 320 loss:0.185432 auc:0.9698\n",
      "epoch: 340 loss:0.184481 auc:0.9671\n",
      "epoch: 360 loss:0.182754 auc:0.9643\n"
     ]
    },
    {
     "name": "stderr",
     "output_type": "stream",
     "text": [
      " 92%|█████████▏| 840/916 [7:11:34<05:29,  4.34s/it]"
     ]
    },
    {
     "name": "stdout",
     "output_type": "stream",
     "text": [
      "epoch: 380 loss:0.183372 auc:0.9630\n",
      "Fit finished.\n",
      "epoch:   0 loss:0.702993 auc:0.2336\n",
      "epoch:  20 loss:0.257027 auc:0.9598\n",
      "epoch:  40 loss:0.220262 auc:0.9660\n",
      "epoch:  60 loss:0.211042 auc:0.9666\n",
      "epoch:  80 loss:0.204937 auc:0.9654\n",
      "epoch: 100 loss:0.198001 auc:0.9660\n",
      "epoch: 120 loss:0.194078 auc:0.9677\n",
      "epoch: 140 loss:0.192586 auc:0.9677\n",
      "epoch: 160 loss:0.191081 auc:0.9671\n",
      "epoch: 180 loss:0.189904 auc:0.9677\n",
      "epoch: 200 loss:0.189366 auc:0.9671\n",
      "epoch: 220 loss:0.188613 auc:0.9671\n"
     ]
    },
    {
     "name": "stderr",
     "output_type": "stream",
     "text": [
      " 92%|█████████▏| 841/916 [7:12:26<23:21, 18.68s/it]"
     ]
    },
    {
     "name": "stdout",
     "output_type": "stream",
     "text": [
      "epoch: 240 loss:0.186429 auc:0.9649\n",
      "Fit finished.\n",
      "epoch:   0 loss:0.738311 auc:0.8212\n",
      "epoch:  20 loss:0.326637 auc:0.9719\n",
      "epoch:  40 loss:0.242160 auc:0.9679\n",
      "epoch:  60 loss:0.215990 auc:0.9684\n",
      "epoch:  80 loss:0.206957 auc:0.9684\n",
      "epoch: 100 loss:0.200701 auc:0.9674\n",
      "epoch: 120 loss:0.195726 auc:0.9674\n",
      "epoch: 140 loss:0.193545 auc:0.9669\n",
      "epoch: 160 loss:0.192269 auc:0.9674\n"
     ]
    },
    {
     "name": "stderr",
     "output_type": "stream",
     "text": [
      " 92%|█████████▏| 842/916 [7:12:28<16:58, 13.77s/it]"
     ]
    },
    {
     "name": "stdout",
     "output_type": "stream",
     "text": [
      "epoch: 180 loss:0.191280 auc:0.9679\n",
      "Fit finished.\n",
      "epoch:   0 loss:0.823040 auc:0.1393\n",
      "epoch:  20 loss:0.257645 auc:0.9888\n",
      "epoch:  40 loss:0.218570 auc:0.9922\n",
      "epoch:  60 loss:0.209629 auc:0.9939\n",
      "epoch:  80 loss:0.204189 auc:0.9939\n",
      "epoch: 100 loss:0.197926 auc:0.9939\n",
      "epoch: 120 loss:0.194324 auc:0.9939\n",
      "epoch: 140 loss:0.192515 auc:0.9939\n",
      "epoch: 160 loss:0.193722 auc:0.9939\n",
      "epoch: 180 loss:0.190114 auc:0.9939\n",
      "epoch: 200 loss:0.188589 auc:0.9922\n"
     ]
    },
    {
     "name": "stderr",
     "output_type": "stream",
     "text": [
      " 92%|█████████▏| 843/916 [7:12:32<12:56, 10.64s/it]"
     ]
    },
    {
     "name": "stdout",
     "output_type": "stream",
     "text": [
      "epoch: 220 loss:0.188990 auc:0.9922\n",
      "Fit finished.\n",
      "epoch:   0 loss:0.677000 auc:0.1872\n",
      "epoch:  20 loss:0.254134 auc:0.9635\n",
      "epoch:  40 loss:0.217332 auc:0.9625\n",
      "epoch:  60 loss:0.207014 auc:0.9629\n",
      "epoch:  80 loss:0.199141 auc:0.9626\n",
      "epoch: 100 loss:0.194307 auc:0.9629\n",
      "epoch: 120 loss:0.192458 auc:0.9623\n",
      "epoch: 140 loss:0.191155 auc:0.9630\n",
      "epoch: 160 loss:0.190549 auc:0.9639\n",
      "epoch: 180 loss:0.189357 auc:0.9649\n",
      "epoch: 200 loss:0.194601 auc:0.9659\n",
      "epoch: 220 loss:0.186290 auc:0.9664\n",
      "epoch: 240 loss:0.187871 auc:0.9645\n",
      "epoch: 260 loss:0.182064 auc:0.9651\n"
     ]
    },
    {
     "name": "stderr",
     "output_type": "stream",
     "text": [
      " 92%|█████████▏| 844/916 [7:12:36<10:39,  8.88s/it]"
     ]
    },
    {
     "name": "stdout",
     "output_type": "stream",
     "text": [
      "epoch: 280 loss:0.179644 auc:0.9593\n",
      "Fit finished.\n",
      "epoch:   0 loss:0.775227 auc:0.4725\n",
      "epoch:  20 loss:0.331942 auc:0.9925\n",
      "epoch:  40 loss:0.243477 auc:1.0000\n",
      "epoch:  60 loss:0.217032 auc:1.0000\n",
      "epoch:  80 loss:0.207996 auc:1.0000\n",
      "epoch: 100 loss:0.201997 auc:1.0000\n",
      "epoch: 120 loss:0.196600 auc:1.0000\n",
      "epoch: 140 loss:0.193976 auc:1.0000\n",
      "epoch: 160 loss:0.192668 auc:1.0000\n",
      "epoch: 180 loss:0.191744 auc:1.0000\n",
      "epoch: 200 loss:0.190952 auc:1.0000\n",
      "epoch: 220 loss:0.191694 auc:1.0000\n",
      "epoch: 240 loss:0.190151 auc:1.0000\n",
      "epoch: 260 loss:0.188877 auc:1.0000\n",
      "epoch: 280 loss:0.188043 auc:1.0000\n",
      "epoch: 300 loss:0.187405 auc:1.0000\n",
      "epoch: 320 loss:0.185955 auc:1.0000\n"
     ]
    },
    {
     "name": "stderr",
     "output_type": "stream",
     "text": [
      " 92%|█████████▏| 845/916 [7:12:41<09:00,  7.61s/it]"
     ]
    },
    {
     "name": "stdout",
     "output_type": "stream",
     "text": [
      "epoch: 340 loss:0.185097 auc:0.9975\n",
      "Fit finished.\n",
      "epoch:   0 loss:1.239906 auc:0.7939\n",
      "epoch:  20 loss:0.297208 auc:0.9684\n",
      "epoch:  40 loss:0.228741 auc:0.9727\n",
      "epoch:  60 loss:0.212985 auc:0.9778\n",
      "epoch:  80 loss:0.206359 auc:0.9774\n",
      "epoch: 100 loss:0.201085 auc:0.9771\n",
      "epoch: 120 loss:0.196144 auc:0.9772\n",
      "epoch: 140 loss:0.193734 auc:0.9777\n",
      "epoch: 160 loss:0.192562 auc:0.9774\n",
      "epoch: 180 loss:0.191625 auc:0.9775\n",
      "epoch: 200 loss:0.191211 auc:0.9777\n",
      "epoch: 220 loss:0.190402 auc:0.9778\n",
      "epoch: 240 loss:0.190719 auc:0.9789\n",
      "epoch: 260 loss:0.189281 auc:0.9789\n",
      "epoch: 280 loss:0.189558 auc:0.9780\n",
      "epoch: 300 loss:0.187887 auc:0.9779\n"
     ]
    },
    {
     "name": "stderr",
     "output_type": "stream",
     "text": [
      " 92%|█████████▏| 846/916 [7:12:45<07:35,  6.51s/it]"
     ]
    },
    {
     "name": "stdout",
     "output_type": "stream",
     "text": [
      "epoch: 320 loss:0.187108 auc:0.9734\n",
      "Fit finished.\n",
      "epoch:   0 loss:0.645058 auc:0.6680\n",
      "epoch:  20 loss:0.293331 auc:0.9518\n",
      "epoch:  40 loss:0.229217 auc:0.9580\n",
      "epoch:  60 loss:0.213762 auc:0.9576\n",
      "epoch:  80 loss:0.206664 auc:0.9565\n",
      "epoch: 100 loss:0.201161 auc:0.9569\n",
      "epoch: 120 loss:0.196433 auc:0.9561\n",
      "epoch: 140 loss:0.194044 auc:0.9557\n",
      "epoch: 160 loss:0.192712 auc:0.9555\n",
      "epoch: 180 loss:0.191714 auc:0.9561\n"
     ]
    },
    {
     "name": "stderr",
     "output_type": "stream",
     "text": [
      " 92%|█████████▏| 847/916 [7:12:48<06:09,  5.35s/it]"
     ]
    },
    {
     "name": "stdout",
     "output_type": "stream",
     "text": [
      "epoch: 200 loss:0.190854 auc:0.9571\n",
      "Fit finished.\n",
      "epoch:   0 loss:0.858439 auc:0.2396\n",
      "epoch:  20 loss:0.287519 auc:0.9498\n",
      "epoch:  40 loss:0.226532 auc:0.9552\n",
      "epoch:  60 loss:0.213393 auc:0.9593\n",
      "epoch:  80 loss:0.208247 auc:0.9606\n",
      "epoch: 100 loss:0.203564 auc:0.9590\n",
      "epoch: 120 loss:0.197973 auc:0.9587\n",
      "epoch: 140 loss:0.194315 auc:0.9580\n",
      "epoch: 160 loss:0.192527 auc:0.9572\n",
      "epoch: 180 loss:0.191295 auc:0.9568\n",
      "epoch: 200 loss:0.191408 auc:0.9563\n"
     ]
    },
    {
     "name": "stderr",
     "output_type": "stream",
     "text": [
      " 93%|█████████▎| 848/916 [7:12:51<05:14,  4.62s/it]"
     ]
    },
    {
     "name": "stdout",
     "output_type": "stream",
     "text": [
      "epoch: 220 loss:0.189780 auc:0.9558\n",
      "Fit finished.\n",
      "epoch:   0 loss:0.622275 auc:0.6144\n",
      "epoch:  20 loss:0.309803 auc:0.9550\n",
      "epoch:  40 loss:0.231447 auc:0.9663\n",
      "epoch:  60 loss:0.214408 auc:0.9706\n",
      "epoch:  80 loss:0.206264 auc:0.9719\n",
      "epoch: 100 loss:0.200209 auc:0.9712\n",
      "epoch: 120 loss:0.195561 auc:0.9712\n",
      "epoch: 140 loss:0.193378 auc:0.9706\n",
      "epoch: 160 loss:0.192043 auc:0.9712\n",
      "epoch: 180 loss:0.191238 auc:0.9712\n",
      "epoch: 200 loss:0.190356 auc:0.9719\n",
      "epoch: 220 loss:0.189831 auc:0.9712\n"
     ]
    },
    {
     "name": "stderr",
     "output_type": "stream",
     "text": [
      " 93%|█████████▎| 849/916 [7:12:54<04:47,  4.28s/it]"
     ]
    },
    {
     "name": "stdout",
     "output_type": "stream",
     "text": [
      "epoch: 240 loss:0.188666 auc:0.9681\n",
      "Fit finished.\n",
      "epoch:   0 loss:1.113358 auc:0.6109\n",
      "epoch:  20 loss:0.326597 auc:0.9556\n",
      "epoch:  40 loss:0.247802 auc:0.9630\n",
      "epoch:  60 loss:0.221547 auc:0.9645\n",
      "epoch:  80 loss:0.212955 auc:0.9630\n",
      "epoch: 100 loss:0.207400 auc:0.9615\n",
      "epoch: 120 loss:0.200846 auc:0.9615\n",
      "epoch: 140 loss:0.195410 auc:0.9601\n",
      "epoch: 160 loss:0.193217 auc:0.9571\n",
      "epoch: 180 loss:0.192119 auc:0.9571\n"
     ]
    },
    {
     "name": "stderr",
     "output_type": "stream",
     "text": [
      " 93%|█████████▎| 850/916 [7:12:57<04:20,  3.94s/it]"
     ]
    },
    {
     "name": "stdout",
     "output_type": "stream",
     "text": [
      "epoch: 200 loss:0.191124 auc:0.9586\n",
      "Fit finished.\n",
      "epoch:   0 loss:0.852498 auc:0.7506\n",
      "epoch:  20 loss:0.304861 auc:0.9822\n",
      "epoch:  40 loss:0.232376 auc:0.9817\n",
      "epoch:  60 loss:0.218007 auc:0.9803\n",
      "epoch:  80 loss:0.210938 auc:0.9800\n",
      "epoch: 100 loss:0.205589 auc:0.9806\n",
      "epoch: 120 loss:0.199185 auc:0.9803\n",
      "epoch: 140 loss:0.194460 auc:0.9803\n",
      "epoch: 160 loss:0.192762 auc:0.9800\n"
     ]
    },
    {
     "name": "stderr",
     "output_type": "stream",
     "text": [
      " 93%|█████████▎| 851/916 [7:13:00<03:48,  3.51s/it]"
     ]
    },
    {
     "name": "stdout",
     "output_type": "stream",
     "text": [
      "epoch: 180 loss:0.191586 auc:0.9806\n",
      "Fit finished.\n",
      "epoch:   0 loss:0.972226 auc:0.7901\n",
      "epoch:  20 loss:0.321501 auc:0.8736\n",
      "epoch:  40 loss:0.245411 auc:0.8889\n",
      "epoch:  60 loss:0.221192 auc:0.8953\n",
      "epoch:  80 loss:0.211561 auc:0.8993\n",
      "epoch: 100 loss:0.206289 auc:0.9007\n",
      "epoch: 120 loss:0.201039 auc:0.9027\n",
      "epoch: 140 loss:0.196111 auc:0.9027\n",
      "epoch: 160 loss:0.193572 auc:0.9032\n",
      "epoch: 180 loss:0.192221 auc:0.9047\n",
      "epoch: 200 loss:0.191299 auc:0.9032\n",
      "epoch: 220 loss:0.190504 auc:0.9027\n",
      "epoch: 240 loss:0.189832 auc:0.9017\n"
     ]
    },
    {
     "name": "stderr",
     "output_type": "stream",
     "text": [
      " 93%|█████████▎| 852/916 [7:13:03<03:48,  3.56s/it]"
     ]
    },
    {
     "name": "stdout",
     "output_type": "stream",
     "text": [
      "epoch: 260 loss:0.189323 auc:0.8988\n",
      "Fit finished.\n",
      "epoch:   0 loss:0.753125 auc:0.5546\n",
      "epoch:  20 loss:0.319240 auc:0.9282\n",
      "epoch:  40 loss:0.231888 auc:0.9438\n",
      "epoch:  60 loss:0.215242 auc:0.9553\n",
      "epoch:  80 loss:0.208761 auc:0.9594\n",
      "epoch: 100 loss:0.203805 auc:0.9594\n",
      "epoch: 120 loss:0.197973 auc:0.9584\n",
      "epoch: 140 loss:0.194233 auc:0.9594\n",
      "epoch: 160 loss:0.192732 auc:0.9584\n",
      "epoch: 180 loss:0.191609 auc:0.9594\n",
      "epoch: 200 loss:0.191340 auc:0.9594\n",
      "epoch: 220 loss:0.189643 auc:0.9605\n",
      "epoch: 240 loss:0.189532 auc:0.9636\n",
      "epoch: 260 loss:0.189446 auc:0.9625\n",
      "epoch: 280 loss:0.186948 auc:0.9636\n",
      "epoch: 300 loss:0.185440 auc:0.9657\n",
      "epoch: 320 loss:0.184572 auc:0.9667\n",
      "epoch: 340 loss:0.182325 auc:0.9667\n",
      "epoch: 360 loss:0.185438 auc:0.9657\n",
      "epoch: 380 loss:0.179199 auc:0.9709\n",
      "epoch: 400 loss:0.178227 auc:0.9636\n",
      "epoch: 420 loss:0.173426 auc:0.9688\n"
     ]
    },
    {
     "name": "stderr",
     "output_type": "stream",
     "text": [
      " 93%|█████████▎| 853/916 [7:13:09<04:25,  4.22s/it]"
     ]
    },
    {
     "name": "stdout",
     "output_type": "stream",
     "text": [
      "epoch: 440 loss:0.177004 auc:0.9615\n",
      "Fit finished.\n",
      "epoch:   0 loss:0.796032 auc:0.5487\n",
      "epoch:  20 loss:0.315186 auc:0.9669\n",
      "epoch:  40 loss:0.232077 auc:0.9641\n",
      "epoch:  60 loss:0.217587 auc:0.9589\n",
      "epoch:  80 loss:0.211313 auc:0.9570\n",
      "epoch: 100 loss:0.206805 auc:0.9560\n",
      "epoch: 120 loss:0.201494 auc:0.9560\n",
      "epoch: 140 loss:0.195963 auc:0.9565\n",
      "epoch: 160 loss:0.193534 auc:0.9565\n"
     ]
    },
    {
     "name": "stderr",
     "output_type": "stream",
     "text": [
      " 93%|█████████▎| 854/916 [7:13:13<04:10,  4.04s/it]"
     ]
    },
    {
     "name": "stdout",
     "output_type": "stream",
     "text": [
      "epoch: 180 loss:0.192320 auc:0.9556\n",
      "Fit finished.\n",
      "epoch:   0 loss:0.764532 auc:0.3256\n",
      "epoch:  20 loss:0.285276 auc:0.9555\n",
      "epoch:  40 loss:0.226979 auc:0.9557\n",
      "epoch:  60 loss:0.212697 auc:0.9523\n",
      "epoch:  80 loss:0.206915 auc:0.9534\n",
      "epoch: 100 loss:0.201822 auc:0.9540\n",
      "epoch: 120 loss:0.196608 auc:0.9542\n",
      "epoch: 140 loss:0.193874 auc:0.9544\n",
      "epoch: 160 loss:0.192302 auc:0.9548\n"
     ]
    },
    {
     "name": "stderr",
     "output_type": "stream",
     "text": [
      " 93%|█████████▎| 855/916 [7:13:15<03:38,  3.58s/it]"
     ]
    },
    {
     "name": "stdout",
     "output_type": "stream",
     "text": [
      "epoch: 180 loss:0.190933 auc:0.9540\n",
      "Fit finished.\n",
      "epoch:   0 loss:0.678936 auc:0.5023\n",
      "epoch:  20 loss:0.301464 auc:0.9683\n",
      "epoch:  40 loss:0.229413 auc:0.9677\n",
      "epoch:  60 loss:0.215522 auc:0.9671\n",
      "epoch:  80 loss:0.209299 auc:0.9666\n",
      "epoch: 100 loss:0.204013 auc:0.9654\n",
      "epoch: 120 loss:0.197639 auc:0.9643\n",
      "epoch: 140 loss:0.194035 auc:0.9643\n",
      "epoch: 160 loss:0.192444 auc:0.9643\n"
     ]
    },
    {
     "name": "stderr",
     "output_type": "stream",
     "text": [
      " 93%|█████████▎| 856/916 [7:13:18<03:15,  3.26s/it]"
     ]
    },
    {
     "name": "stdout",
     "output_type": "stream",
     "text": [
      "epoch: 180 loss:0.191740 auc:0.9632\n",
      "Fit finished.\n",
      "epoch:   0 loss:0.849683 auc:0.6589\n",
      "epoch:  20 loss:0.330990 auc:0.9679\n",
      "epoch:  40 loss:0.248351 auc:0.9708\n",
      "epoch:  60 loss:0.219074 auc:0.9722\n",
      "epoch:  80 loss:0.209082 auc:0.9715\n",
      "epoch: 100 loss:0.202861 auc:0.9722\n",
      "epoch: 120 loss:0.197126 auc:0.9708\n",
      "epoch: 140 loss:0.194062 auc:0.9708\n",
      "epoch: 160 loss:0.192619 auc:0.9715\n",
      "epoch: 180 loss:0.191645 auc:0.9715\n",
      "epoch: 200 loss:0.190838 auc:0.9708\n"
     ]
    },
    {
     "name": "stderr",
     "output_type": "stream",
     "text": [
      " 94%|█████████▎| 857/916 [7:13:21<03:11,  3.25s/it]"
     ]
    },
    {
     "name": "stdout",
     "output_type": "stream",
     "text": [
      "epoch: 220 loss:0.190177 auc:0.9708\n",
      "Fit finished.\n",
      "epoch:   0 loss:0.672678 auc:0.2759\n",
      "epoch:  20 loss:0.255187 auc:0.9601\n",
      "epoch:  40 loss:0.219642 auc:0.9669\n",
      "epoch:  60 loss:0.209447 auc:0.9655\n",
      "epoch:  80 loss:0.202266 auc:0.9651\n",
      "epoch: 100 loss:0.195703 auc:0.9644\n",
      "epoch: 120 loss:0.193089 auc:0.9648\n",
      "epoch: 140 loss:0.191714 auc:0.9662\n",
      "epoch: 160 loss:0.190693 auc:0.9669\n",
      "epoch: 180 loss:0.189218 auc:0.9694\n",
      "epoch: 200 loss:0.189842 auc:0.9726\n",
      "epoch: 220 loss:0.186377 auc:0.9744\n",
      "epoch: 240 loss:0.188342 auc:0.9794\n",
      "epoch: 260 loss:0.183491 auc:0.9794\n",
      "epoch: 280 loss:0.183770 auc:0.9840\n",
      "epoch: 300 loss:0.177509 auc:0.9790\n",
      "epoch: 320 loss:0.176200 auc:0.9744\n",
      "epoch: 340 loss:0.172255 auc:0.9744\n",
      "epoch: 360 loss:0.171378 auc:0.9783\n",
      "epoch: 380 loss:0.171001 auc:0.9843\n"
     ]
    },
    {
     "name": "stderr",
     "output_type": "stream",
     "text": [
      " 94%|█████████▎| 858/916 [7:13:27<03:49,  3.96s/it]"
     ]
    },
    {
     "name": "stdout",
     "output_type": "stream",
     "text": [
      "epoch: 400 loss:0.165201 auc:0.9676\n",
      "Fit finished.\n",
      "epoch:   0 loss:1.048845 auc:0.4614\n",
      "epoch:  20 loss:0.349927 auc:0.9716\n",
      "epoch:  40 loss:0.269223 auc:0.9799\n",
      "epoch:  60 loss:0.225456 auc:0.9831\n",
      "epoch:  80 loss:0.212803 auc:0.9853\n",
      "epoch: 100 loss:0.206950 auc:0.9847\n",
      "epoch: 120 loss:0.202055 auc:0.9841\n",
      "epoch: 140 loss:0.197056 auc:0.9841\n",
      "epoch: 160 loss:0.194082 auc:0.9841\n",
      "epoch: 180 loss:0.192566 auc:0.9837\n",
      "epoch: 200 loss:0.191687 auc:0.9844\n",
      "epoch: 220 loss:0.190686 auc:0.9847\n"
     ]
    },
    {
     "name": "stderr",
     "output_type": "stream",
     "text": [
      " 94%|█████████▍| 859/916 [7:13:30<03:32,  3.73s/it]"
     ]
    },
    {
     "name": "stdout",
     "output_type": "stream",
     "text": [
      "epoch: 240 loss:0.189997 auc:0.9850\n",
      "Fit finished.\n",
      "epoch:   0 loss:0.653105 auc:0.6036\n",
      "epoch:  20 loss:0.289478 auc:0.9349\n",
      "epoch:  40 loss:0.225874 auc:0.9438\n",
      "epoch:  60 loss:0.212739 auc:0.9527\n",
      "epoch:  80 loss:0.206239 auc:0.9527\n",
      "epoch: 100 loss:0.200108 auc:0.9523\n",
      "epoch: 120 loss:0.195185 auc:0.9512\n",
      "epoch: 140 loss:0.193070 auc:0.9508\n",
      "epoch: 160 loss:0.191758 auc:0.9508\n",
      "epoch: 180 loss:0.191942 auc:0.9512\n",
      "epoch: 200 loss:0.190054 auc:0.9504\n"
     ]
    },
    {
     "name": "stderr",
     "output_type": "stream",
     "text": [
      " 94%|█████████▍| 860/916 [7:13:33<03:18,  3.54s/it]"
     ]
    },
    {
     "name": "stdout",
     "output_type": "stream",
     "text": [
      "epoch: 220 loss:0.189023 auc:0.9512\n",
      "Fit finished.\n",
      "epoch:   0 loss:0.722194 auc:0.4344\n",
      "epoch:  20 loss:0.305495 auc:0.9276\n",
      "epoch:  40 loss:0.227934 auc:0.9311\n",
      "epoch:  60 loss:0.213122 auc:0.9362\n",
      "epoch:  80 loss:0.207871 auc:0.9386\n",
      "epoch: 100 loss:0.203308 auc:0.9394\n",
      "epoch: 120 loss:0.198395 auc:0.9400\n",
      "epoch: 140 loss:0.195012 auc:0.9396\n",
      "epoch: 160 loss:0.193175 auc:0.9415\n",
      "epoch: 180 loss:0.191855 auc:0.9426\n",
      "epoch: 200 loss:0.190751 auc:0.9422\n",
      "epoch: 220 loss:0.190666 auc:0.9426\n",
      "epoch: 240 loss:0.188864 auc:0.9458\n",
      "epoch: 260 loss:0.187899 auc:0.9463\n",
      "epoch: 280 loss:0.187755 auc:0.9445\n"
     ]
    },
    {
     "name": "stderr",
     "output_type": "stream",
     "text": [
      " 94%|█████████▍| 861/916 [7:13:37<03:31,  3.84s/it]"
     ]
    },
    {
     "name": "stdout",
     "output_type": "stream",
     "text": [
      "epoch: 300 loss:0.185255 auc:0.9364\n",
      "Fit finished.\n",
      "epoch:   0 loss:0.533309 auc:0.6217\n",
      "epoch:  20 loss:0.254273 auc:0.9271\n",
      "epoch:  40 loss:0.216541 auc:0.9319\n",
      "epoch:  60 loss:0.205803 auc:0.9367\n",
      "epoch:  80 loss:0.198493 auc:0.9372\n",
      "epoch: 100 loss:0.194303 auc:0.9383\n",
      "epoch: 120 loss:0.192267 auc:0.9375\n",
      "epoch: 140 loss:0.191406 auc:0.9386\n",
      "epoch: 160 loss:0.190447 auc:0.9380\n",
      "epoch: 180 loss:0.188622 auc:0.9385\n",
      "epoch: 200 loss:0.188653 auc:0.9385\n"
     ]
    },
    {
     "name": "stderr",
     "output_type": "stream",
     "text": [
      " 94%|█████████▍| 862/916 [7:13:41<03:16,  3.64s/it]"
     ]
    },
    {
     "name": "stdout",
     "output_type": "stream",
     "text": [
      "epoch: 220 loss:0.186414 auc:0.9297\n",
      "Fit finished.\n",
      "epoch:   0 loss:1.038671 auc:0.4848\n",
      "epoch:  20 loss:0.322820 auc:0.9276\n",
      "epoch:  40 loss:0.240093 auc:0.9348\n",
      "epoch:  60 loss:0.217544 auc:0.9388\n",
      "epoch:  80 loss:0.209485 auc:0.9372\n",
      "epoch: 100 loss:0.203866 auc:0.9376\n",
      "epoch: 120 loss:0.198552 auc:0.9364\n",
      "epoch: 140 loss:0.194986 auc:0.9360\n",
      "epoch: 160 loss:0.193262 auc:0.9360\n",
      "epoch: 180 loss:0.192127 auc:0.9360\n",
      "epoch: 200 loss:0.192150 auc:0.9360\n"
     ]
    },
    {
     "name": "stderr",
     "output_type": "stream",
     "text": [
      " 94%|█████████▍| 863/916 [7:13:43<03:01,  3.42s/it]"
     ]
    },
    {
     "name": "stdout",
     "output_type": "stream",
     "text": [
      "epoch: 220 loss:0.190611 auc:0.9364\n",
      "Fit finished.\n",
      "epoch:   0 loss:0.986005 auc:0.6671\n",
      "epoch:  20 loss:0.296998 auc:0.9750\n",
      "epoch:  40 loss:0.227866 auc:0.9727\n",
      "epoch:  60 loss:0.214839 auc:0.9691\n",
      "epoch:  80 loss:0.209081 auc:0.9703\n",
      "epoch: 100 loss:0.204625 auc:0.9703\n",
      "epoch: 120 loss:0.199755 auc:0.9703\n",
      "epoch: 140 loss:0.195637 auc:0.9679\n",
      "epoch: 160 loss:0.193687 auc:0.9679\n"
     ]
    },
    {
     "name": "stderr",
     "output_type": "stream",
     "text": [
      " 94%|█████████▍| 864/916 [7:13:46<02:42,  3.13s/it]"
     ]
    },
    {
     "name": "stdout",
     "output_type": "stream",
     "text": [
      "epoch: 180 loss:0.192498 auc:0.9679\n",
      "Fit finished.\n",
      "epoch:   0 loss:0.542874 auc:0.5609\n",
      "epoch:  20 loss:0.259264 auc:0.9546\n",
      "epoch:  40 loss:0.218415 auc:0.9635\n",
      "epoch:  60 loss:0.208451 auc:0.9662\n",
      "epoch:  80 loss:0.201693 auc:0.9692\n",
      "epoch: 100 loss:0.195516 auc:0.9704\n",
      "epoch: 120 loss:0.192890 auc:0.9708\n",
      "epoch: 140 loss:0.191556 auc:0.9708\n",
      "epoch: 160 loss:0.190323 auc:0.9708\n",
      "epoch: 180 loss:0.189219 auc:0.9712\n",
      "epoch: 200 loss:0.187995 auc:0.9719\n",
      "epoch: 220 loss:0.189000 auc:0.9723\n",
      "epoch: 240 loss:0.185610 auc:0.9712\n",
      "epoch: 260 loss:0.183940 auc:0.9712\n"
     ]
    },
    {
     "name": "stderr",
     "output_type": "stream",
     "text": [
      " 94%|█████████▍| 865/916 [7:13:50<02:50,  3.35s/it]"
     ]
    },
    {
     "name": "stdout",
     "output_type": "stream",
     "text": [
      "epoch: 280 loss:0.181999 auc:0.9696\n",
      "Fit finished.\n",
      "epoch:   0 loss:1.012527 auc:0.5300\n",
      "epoch:  20 loss:0.307628 auc:0.9631\n",
      "epoch:  40 loss:0.231472 auc:0.9732\n",
      "epoch:  60 loss:0.216674 auc:0.9744\n",
      "epoch:  80 loss:0.210144 auc:0.9726\n",
      "epoch: 100 loss:0.205822 auc:0.9726\n",
      "epoch: 120 loss:0.200614 auc:0.9726\n",
      "epoch: 140 loss:0.195259 auc:0.9732\n",
      "epoch: 160 loss:0.193169 auc:0.9738\n",
      "epoch: 180 loss:0.192271 auc:0.9738\n",
      "epoch: 200 loss:0.191253 auc:0.9744\n",
      "epoch: 220 loss:0.190944 auc:0.9744\n",
      "epoch: 240 loss:0.189956 auc:0.9750\n",
      "epoch: 260 loss:0.189153 auc:0.9762\n",
      "epoch: 280 loss:0.188209 auc:0.9756\n",
      "epoch: 300 loss:0.187418 auc:0.9774\n",
      "epoch: 320 loss:0.186283 auc:0.9744\n",
      "epoch: 340 loss:0.187991 auc:0.9738\n"
     ]
    },
    {
     "name": "stderr",
     "output_type": "stream",
     "text": [
      " 95%|█████████▍| 866/916 [7:13:55<03:13,  3.88s/it]"
     ]
    },
    {
     "name": "stdout",
     "output_type": "stream",
     "text": [
      "epoch: 360 loss:0.185237 auc:0.9732\n",
      "Fit finished.\n",
      "epoch:   0 loss:0.764607 auc:0.2010\n",
      "epoch:  20 loss:0.279650 auc:0.9219\n",
      "epoch:  40 loss:0.226277 auc:0.9333\n",
      "epoch:  60 loss:0.212071 auc:0.9417\n",
      "epoch:  80 loss:0.205411 auc:0.9392\n",
      "epoch: 100 loss:0.198406 auc:0.9394\n",
      "epoch: 120 loss:0.193913 auc:0.9385\n",
      "epoch: 140 loss:0.192892 auc:0.9390\n",
      "epoch: 160 loss:0.191273 auc:0.9387\n",
      "epoch: 180 loss:0.190236 auc:0.9389\n",
      "epoch: 200 loss:0.190226 auc:0.9398\n"
     ]
    },
    {
     "name": "stderr",
     "output_type": "stream",
     "text": [
      " 95%|█████████▍| 867/916 [7:13:58<02:58,  3.63s/it]"
     ]
    },
    {
     "name": "stdout",
     "output_type": "stream",
     "text": [
      "epoch: 220 loss:0.188158 auc:0.9385\n",
      "Fit finished.\n",
      "epoch:   0 loss:0.908740 auc:0.1826\n",
      "epoch:  20 loss:0.284021 auc:0.9742\n",
      "epoch:  40 loss:0.224742 auc:0.9900\n",
      "epoch:  60 loss:0.211450 auc:0.9904\n",
      "epoch:  80 loss:0.205062 auc:0.9904\n",
      "epoch: 100 loss:0.198844 auc:0.9904\n",
      "epoch: 120 loss:0.194645 auc:0.9904\n",
      "epoch: 140 loss:0.192801 auc:0.9904\n",
      "epoch: 160 loss:0.192088 auc:0.9908\n",
      "epoch: 180 loss:0.190754 auc:0.9904\n",
      "epoch: 200 loss:0.189991 auc:0.9900\n"
     ]
    },
    {
     "name": "stderr",
     "output_type": "stream",
     "text": [
      " 95%|█████████▍| 868/916 [7:14:02<03:01,  3.78s/it]"
     ]
    },
    {
     "name": "stdout",
     "output_type": "stream",
     "text": [
      "epoch: 220 loss:0.189618 auc:0.9892\n",
      "Fit finished.\n",
      "epoch:   0 loss:0.596164 auc:0.2377\n",
      "epoch:  20 loss:0.272974 auc:0.9838\n",
      "epoch:  40 loss:0.222502 auc:0.9846\n",
      "epoch:  60 loss:0.211661 auc:0.9838\n",
      "epoch:  80 loss:0.206159 auc:0.9838\n",
      "epoch: 100 loss:0.200300 auc:0.9838\n",
      "epoch: 120 loss:0.195107 auc:0.9838\n",
      "epoch: 140 loss:0.193043 auc:0.9838\n",
      "epoch: 160 loss:0.191781 auc:0.9830\n"
     ]
    },
    {
     "name": "stderr",
     "output_type": "stream",
     "text": [
      " 95%|█████████▍| 869/916 [7:14:05<02:41,  3.43s/it]"
     ]
    },
    {
     "name": "stdout",
     "output_type": "stream",
     "text": [
      "epoch: 180 loss:0.190723 auc:0.9823\n",
      "Fit finished.\n",
      "epoch:   0 loss:0.606834 auc:0.3272\n",
      "epoch:  20 loss:0.253310 auc:0.9697\n",
      "epoch:  40 loss:0.216637 auc:0.9876\n",
      "epoch:  60 loss:0.207722 auc:0.9849\n",
      "epoch:  80 loss:0.200760 auc:0.9849\n",
      "epoch: 100 loss:0.195048 auc:0.9849\n",
      "epoch: 120 loss:0.192877 auc:0.9849\n",
      "epoch: 140 loss:0.191539 auc:0.9854\n",
      "epoch: 160 loss:0.195470 auc:0.9870\n",
      "epoch: 180 loss:0.189411 auc:0.9870\n"
     ]
    },
    {
     "name": "stderr",
     "output_type": "stream",
     "text": [
      " 95%|█████████▍| 870/916 [7:14:08<02:30,  3.28s/it]"
     ]
    },
    {
     "name": "stdout",
     "output_type": "stream",
     "text": [
      "epoch: 200 loss:0.187329 auc:0.9865\n",
      "Fit finished.\n",
      "epoch:   0 loss:0.689021 auc:0.3680\n",
      "epoch:  20 loss:0.260103 auc:0.9454\n",
      "epoch:  40 loss:0.219642 auc:0.9537\n",
      "epoch:  60 loss:0.210209 auc:0.9566\n",
      "epoch:  80 loss:0.204489 auc:0.9558\n",
      "epoch: 100 loss:0.198409 auc:0.9566\n",
      "epoch: 120 loss:0.194311 auc:0.9575\n",
      "epoch: 140 loss:0.192464 auc:0.9578\n",
      "epoch: 160 loss:0.191197 auc:0.9592\n",
      "epoch: 180 loss:0.196864 auc:0.9644\n",
      "epoch: 200 loss:0.189404 auc:0.9647\n",
      "epoch: 220 loss:0.187972 auc:0.9675\n",
      "epoch: 240 loss:0.192346 auc:0.9710\n",
      "epoch: 260 loss:0.185951 auc:0.9698\n",
      "epoch: 280 loss:0.183475 auc:0.9710\n",
      "epoch: 300 loss:0.183710 auc:0.9718\n",
      "epoch: 320 loss:0.179658 auc:0.9710\n"
     ]
    },
    {
     "name": "stderr",
     "output_type": "stream",
     "text": [
      " 95%|█████████▌| 871/916 [7:14:12<02:47,  3.71s/it]"
     ]
    },
    {
     "name": "stdout",
     "output_type": "stream",
     "text": [
      "epoch: 340 loss:0.190458 auc:0.9618\n",
      "Fit finished.\n",
      "epoch:   0 loss:0.591518 auc:0.6822\n",
      "epoch:  20 loss:0.323139 auc:0.9747\n",
      "epoch:  40 loss:0.231916 auc:0.9758\n",
      "epoch:  60 loss:0.214503 auc:0.9783\n",
      "epoch:  80 loss:0.206842 auc:0.9797\n",
      "epoch: 100 loss:0.200105 auc:0.9794\n",
      "epoch: 120 loss:0.195127 auc:0.9800\n",
      "epoch: 140 loss:0.192921 auc:0.9797\n",
      "epoch: 160 loss:0.191710 auc:0.9800\n",
      "epoch: 180 loss:0.190546 auc:0.9803\n",
      "epoch: 200 loss:0.190350 auc:0.9800\n",
      "epoch: 220 loss:0.189298 auc:0.9794\n"
     ]
    },
    {
     "name": "stderr",
     "output_type": "stream",
     "text": [
      " 95%|█████████▌| 872/916 [7:14:16<02:38,  3.60s/it]"
     ]
    },
    {
     "name": "stdout",
     "output_type": "stream",
     "text": [
      "epoch: 240 loss:0.188218 auc:0.9789\n",
      "Fit finished.\n",
      "epoch:   0 loss:0.670469 auc:0.7288\n",
      "epoch:  20 loss:0.293548 auc:0.9723\n",
      "epoch:  40 loss:0.229197 auc:0.9740\n",
      "epoch:  60 loss:0.212602 auc:0.9702\n",
      "epoch:  80 loss:0.205292 auc:0.9709\n",
      "epoch: 100 loss:0.198745 auc:0.9725\n",
      "epoch: 120 loss:0.194698 auc:0.9725\n",
      "epoch: 140 loss:0.192972 auc:0.9721\n",
      "epoch: 160 loss:0.191804 auc:0.9723\n"
     ]
    },
    {
     "name": "stderr",
     "output_type": "stream",
     "text": [
      " 95%|█████████▌| 873/916 [7:14:18<02:22,  3.31s/it]"
     ]
    },
    {
     "name": "stdout",
     "output_type": "stream",
     "text": [
      "epoch: 180 loss:0.191606 auc:0.9721\n",
      "Fit finished.\n",
      "epoch:   0 loss:0.700461 auc:0.2653\n",
      "epoch:  20 loss:0.279130 auc:0.9651\n",
      "epoch:  40 loss:0.220777 auc:0.9699\n",
      "epoch:  60 loss:0.209461 auc:0.9686\n",
      "epoch:  80 loss:0.203360 auc:0.9680\n",
      "epoch: 100 loss:0.197575 auc:0.9680\n",
      "epoch: 120 loss:0.194211 auc:0.9686\n",
      "epoch: 140 loss:0.192447 auc:0.9683\n",
      "epoch: 160 loss:0.191361 auc:0.9680\n",
      "epoch: 180 loss:0.190093 auc:0.9675\n"
     ]
    },
    {
     "name": "stderr",
     "output_type": "stream",
     "text": [
      " 95%|█████████▌| 874/916 [7:14:22<02:17,  3.28s/it]"
     ]
    },
    {
     "name": "stdout",
     "output_type": "stream",
     "text": [
      "epoch: 200 loss:0.188776 auc:0.9664\n",
      "Fit finished.\n",
      "epoch:   0 loss:0.802397 auc:0.5485\n",
      "epoch:  20 loss:0.334681 auc:0.9608\n",
      "epoch:  40 loss:0.252693 auc:0.9672\n",
      "epoch:  60 loss:0.218567 auc:0.9712\n",
      "epoch:  80 loss:0.208751 auc:0.9712\n",
      "epoch: 100 loss:0.203138 auc:0.9710\n",
      "epoch: 120 loss:0.197775 auc:0.9707\n",
      "epoch: 140 loss:0.194420 auc:0.9707\n",
      "epoch: 160 loss:0.192878 auc:0.9704\n",
      "epoch: 180 loss:0.191876 auc:0.9710\n",
      "epoch: 200 loss:0.191066 auc:0.9718\n",
      "epoch: 220 loss:0.190512 auc:0.9721\n",
      "epoch: 240 loss:0.189951 auc:0.9731\n",
      "epoch: 260 loss:0.188879 auc:0.9742\n",
      "epoch: 280 loss:0.190569 auc:0.9766\n",
      "epoch: 300 loss:0.187330 auc:0.9790\n",
      "epoch: 320 loss:0.186050 auc:0.9815\n",
      "epoch: 340 loss:0.185308 auc:0.9820\n",
      "epoch: 360 loss:0.184629 auc:0.9831\n",
      "epoch: 380 loss:0.182898 auc:0.9817\n",
      "epoch: 400 loss:0.188511 auc:0.9758\n",
      "epoch: 420 loss:0.182920 auc:0.9841\n",
      "epoch: 440 loss:0.180471 auc:0.9782\n"
     ]
    },
    {
     "name": "stderr",
     "output_type": "stream",
     "text": [
      " 96%|█████████▌| 875/916 [7:14:28<02:51,  4.19s/it]"
     ]
    },
    {
     "name": "stdout",
     "output_type": "stream",
     "text": [
      "epoch: 460 loss:0.177537 auc:0.9758\n",
      "Fit finished.\n",
      "epoch:   0 loss:0.776400 auc:0.7441\n",
      "epoch:  20 loss:0.331280 auc:0.9793\n",
      "epoch:  40 loss:0.253527 auc:0.9826\n",
      "epoch:  60 loss:0.222339 auc:0.9835\n",
      "epoch:  80 loss:0.210947 auc:0.9847\n",
      "epoch: 100 loss:0.205199 auc:0.9852\n",
      "epoch: 120 loss:0.199782 auc:0.9852\n",
      "epoch: 140 loss:0.195322 auc:0.9857\n",
      "epoch: 160 loss:0.193487 auc:0.9860\n",
      "epoch: 180 loss:0.192373 auc:0.9857\n",
      "epoch: 200 loss:0.191511 auc:0.9855\n",
      "epoch: 220 loss:0.191061 auc:0.9855\n",
      "epoch: 240 loss:0.190280 auc:0.9853\n",
      "epoch: 260 loss:0.189902 auc:0.9852\n",
      "epoch: 280 loss:0.189603 auc:0.9853\n"
     ]
    },
    {
     "name": "stderr",
     "output_type": "stream",
     "text": [
      " 96%|█████████▌| 876/916 [7:14:32<02:43,  4.09s/it]"
     ]
    },
    {
     "name": "stdout",
     "output_type": "stream",
     "text": [
      "epoch: 300 loss:0.188595 auc:0.9843\n",
      "Fit finished.\n",
      "epoch:   0 loss:1.180035 auc:0.6381\n",
      "epoch:  20 loss:0.302261 auc:0.9385\n",
      "epoch:  40 loss:0.231255 auc:0.9388\n",
      "epoch:  60 loss:0.215427 auc:0.9372\n",
      "epoch:  80 loss:0.208305 auc:0.9365\n",
      "epoch: 100 loss:0.202296 auc:0.9349\n",
      "epoch: 120 loss:0.196072 auc:0.9349\n",
      "epoch: 140 loss:0.193455 auc:0.9356\n",
      "epoch: 160 loss:0.191882 auc:0.9356\n"
     ]
    },
    {
     "name": "stderr",
     "output_type": "stream",
     "text": [
      " 96%|█████████▌| 877/916 [7:14:34<02:23,  3.69s/it]"
     ]
    },
    {
     "name": "stdout",
     "output_type": "stream",
     "text": [
      "epoch: 180 loss:0.190993 auc:0.9349\n",
      "Fit finished.\n",
      "epoch:   0 loss:0.694779 auc:0.6616\n",
      "epoch:  20 loss:0.284856 auc:0.9565\n",
      "epoch:  40 loss:0.224926 auc:0.9716\n",
      "epoch:  60 loss:0.210953 auc:0.9660\n",
      "epoch:  80 loss:0.204574 auc:0.9622\n",
      "epoch: 100 loss:0.198841 auc:0.9565\n",
      "epoch: 120 loss:0.195042 auc:0.9546\n",
      "epoch: 140 loss:0.193175 auc:0.9546\n",
      "epoch: 160 loss:0.191891 auc:0.9546\n"
     ]
    },
    {
     "name": "stderr",
     "output_type": "stream",
     "text": [
      " 96%|█████████▌| 878/916 [7:14:37<02:12,  3.49s/it]"
     ]
    },
    {
     "name": "stdout",
     "output_type": "stream",
     "text": [
      "epoch: 180 loss:0.190862 auc:0.9546\n",
      "Fit finished.\n",
      "epoch:   0 loss:0.866822 auc:0.2893\n",
      "epoch:  20 loss:0.307034 auc:0.9699\n",
      "epoch:  40 loss:0.230521 auc:0.9708\n",
      "epoch:  60 loss:0.214104 auc:0.9683\n",
      "epoch:  80 loss:0.206919 auc:0.9690\n",
      "epoch: 100 loss:0.200912 auc:0.9702\n",
      "epoch: 120 loss:0.195441 auc:0.9690\n",
      "epoch: 140 loss:0.193295 auc:0.9688\n",
      "epoch: 160 loss:0.192022 auc:0.9690\n"
     ]
    },
    {
     "name": "stderr",
     "output_type": "stream",
     "text": [
      " 96%|█████████▌| 879/916 [7:14:40<01:58,  3.21s/it]"
     ]
    },
    {
     "name": "stdout",
     "output_type": "stream",
     "text": [
      "epoch: 180 loss:0.192534 auc:0.9695\n",
      "Fit finished.\n",
      "epoch:   0 loss:0.876945 auc:0.8289\n",
      "epoch:  20 loss:0.323863 auc:0.9627\n",
      "epoch:  40 loss:0.248726 auc:0.9620\n",
      "epoch:  60 loss:0.222159 auc:0.9587\n",
      "epoch:  80 loss:0.210257 auc:0.9569\n",
      "epoch: 100 loss:0.203185 auc:0.9572\n",
      "epoch: 120 loss:0.197244 auc:0.9580\n",
      "epoch: 140 loss:0.194227 auc:0.9581\n",
      "epoch: 160 loss:0.192806 auc:0.9584\n"
     ]
    },
    {
     "name": "stderr",
     "output_type": "stream",
     "text": [
      " 96%|█████████▌| 880/916 [7:14:42<01:46,  2.96s/it]"
     ]
    },
    {
     "name": "stdout",
     "output_type": "stream",
     "text": [
      "epoch: 180 loss:0.191804 auc:0.9592\n",
      "Fit finished.\n",
      "epoch:   0 loss:0.730000 auc:0.2476\n",
      "epoch:  20 loss:0.250712 auc:0.9664\n",
      "epoch:  40 loss:0.217976 auc:0.9664\n",
      "epoch:  60 loss:0.209303 auc:0.9670\n",
      "epoch:  80 loss:0.202878 auc:0.9670\n",
      "epoch: 100 loss:0.196233 auc:0.9673\n",
      "epoch: 120 loss:0.193358 auc:0.9667\n",
      "epoch: 140 loss:0.191982 auc:0.9670\n",
      "epoch: 160 loss:0.190941 auc:0.9682\n",
      "epoch: 180 loss:0.189793 auc:0.9682\n",
      "epoch: 200 loss:0.189916 auc:0.9688\n",
      "epoch: 220 loss:0.187860 auc:0.9685\n",
      "epoch: 240 loss:0.186354 auc:0.9685\n",
      "epoch: 260 loss:0.185499 auc:0.9673\n",
      "epoch: 280 loss:0.182367 auc:0.9688\n",
      "epoch: 300 loss:0.181044 auc:0.9706\n"
     ]
    },
    {
     "name": "stderr",
     "output_type": "stream",
     "text": [
      " 96%|█████████▌| 881/916 [7:14:47<01:59,  3.41s/it]"
     ]
    },
    {
     "name": "stdout",
     "output_type": "stream",
     "text": [
      "epoch: 320 loss:0.194661 auc:0.9673\n",
      "Fit finished.\n",
      "epoch:   0 loss:0.859755 auc:0.7253\n",
      "epoch:  20 loss:0.322526 auc:0.9954\n",
      "epoch:  40 loss:0.245978 auc:0.9985\n",
      "epoch:  60 loss:0.220747 auc:0.9969\n",
      "epoch:  80 loss:0.211254 auc:0.9969\n",
      "epoch: 100 loss:0.206343 auc:0.9954\n",
      "epoch: 120 loss:0.201522 auc:0.9961\n",
      "epoch: 140 loss:0.196764 auc:0.9961\n",
      "epoch: 160 loss:0.194062 auc:0.9954\n",
      "epoch: 180 loss:0.192684 auc:0.9961\n"
     ]
    },
    {
     "name": "stderr",
     "output_type": "stream",
     "text": [
      " 96%|█████████▋| 882/916 [7:14:50<01:49,  3.22s/it]"
     ]
    },
    {
     "name": "stdout",
     "output_type": "stream",
     "text": [
      "epoch: 200 loss:0.191751 auc:0.9961\n",
      "Fit finished.\n",
      "epoch:   0 loss:0.955306 auc:0.4104\n",
      "epoch:  20 loss:0.316837 auc:0.9740\n",
      "epoch:  40 loss:0.242801 auc:0.9848\n",
      "epoch:  60 loss:0.218404 auc:0.9860\n",
      "epoch:  80 loss:0.210304 auc:0.9868\n",
      "epoch: 100 loss:0.205168 auc:0.9864\n",
      "epoch: 120 loss:0.199984 auc:0.9860\n",
      "epoch: 140 loss:0.195499 auc:0.9868\n",
      "epoch: 160 loss:0.193292 auc:0.9860\n",
      "epoch: 180 loss:0.192036 auc:0.9856\n",
      "epoch: 200 loss:0.191215 auc:0.9860\n",
      "epoch: 220 loss:0.190795 auc:0.9864\n"
     ]
    },
    {
     "name": "stderr",
     "output_type": "stream",
     "text": [
      " 96%|█████████▋| 883/916 [7:15:42<09:52, 17.94s/it]"
     ]
    },
    {
     "name": "stdout",
     "output_type": "stream",
     "text": [
      "epoch: 240 loss:0.189973 auc:0.9864\n",
      "Fit finished.\n",
      "epoch:   0 loss:0.868826 auc:0.5771\n",
      "epoch:  20 loss:0.324959 auc:0.9356\n",
      "epoch:  40 loss:0.240476 auc:0.9477\n",
      "epoch:  60 loss:0.217685 auc:0.9555\n",
      "epoch:  80 loss:0.210053 auc:0.9594\n",
      "epoch: 100 loss:0.205193 auc:0.9601\n",
      "epoch: 120 loss:0.199693 auc:0.9591\n",
      "epoch: 140 loss:0.195148 auc:0.9598\n",
      "epoch: 160 loss:0.193328 auc:0.9608\n",
      "epoch: 180 loss:0.192117 auc:0.9598\n",
      "epoch: 200 loss:0.192622 auc:0.9601\n",
      "epoch: 220 loss:0.190628 auc:0.9605\n",
      "epoch: 240 loss:0.190381 auc:0.9601\n"
     ]
    },
    {
     "name": "stderr",
     "output_type": "stream",
     "text": [
      " 97%|█████████▋| 884/916 [7:15:45<07:15, 13.60s/it]"
     ]
    },
    {
     "name": "stdout",
     "output_type": "stream",
     "text": [
      "epoch: 260 loss:0.189905 auc:0.9598\n",
      "Fit finished.\n",
      "epoch:   0 loss:1.030571 auc:0.4496\n",
      "epoch:  20 loss:0.337381 auc:0.9683\n",
      "epoch:  40 loss:0.249302 auc:0.9772\n",
      "epoch:  60 loss:0.218902 auc:0.9749\n",
      "epoch:  80 loss:0.209845 auc:0.9726\n",
      "epoch: 100 loss:0.204662 auc:0.9732\n",
      "epoch: 120 loss:0.199407 auc:0.9732\n",
      "epoch: 140 loss:0.195195 auc:0.9732\n",
      "epoch: 160 loss:0.193322 auc:0.9732\n",
      "epoch: 180 loss:0.192111 auc:0.9732\n"
     ]
    },
    {
     "name": "stderr",
     "output_type": "stream",
     "text": [
      " 97%|█████████▋| 885/916 [7:15:49<05:28, 10.59s/it]"
     ]
    },
    {
     "name": "stdout",
     "output_type": "stream",
     "text": [
      "epoch: 200 loss:0.191468 auc:0.9732\n",
      "Fit finished.\n",
      "epoch:   0 loss:0.524092 auc:0.5372\n",
      "epoch:  20 loss:0.257728 auc:0.9784\n",
      "epoch:  40 loss:0.220245 auc:0.9879\n",
      "epoch:  60 loss:0.209228 auc:0.9870\n",
      "epoch:  80 loss:0.202230 auc:0.9870\n",
      "epoch: 100 loss:0.195830 auc:0.9879\n",
      "epoch: 120 loss:0.193202 auc:0.9870\n",
      "epoch: 140 loss:0.191600 auc:0.9879\n",
      "epoch: 160 loss:0.192232 auc:0.9905\n",
      "epoch: 180 loss:0.190146 auc:0.9879\n",
      "epoch: 200 loss:0.187811 auc:0.9922\n",
      "epoch: 220 loss:0.189368 auc:0.9905\n",
      "epoch: 240 loss:0.184605 auc:0.9913\n"
     ]
    },
    {
     "name": "stderr",
     "output_type": "stream",
     "text": [
      " 97%|█████████▋| 886/916 [7:15:53<04:15,  8.53s/it]"
     ]
    },
    {
     "name": "stdout",
     "output_type": "stream",
     "text": [
      "epoch: 260 loss:0.180945 auc:0.9870\n",
      "Fit finished.\n",
      "epoch:   0 loss:1.112030 auc:0.4439\n",
      "epoch:  20 loss:0.325204 auc:0.9197\n",
      "epoch:  40 loss:0.244209 auc:0.9242\n",
      "epoch:  60 loss:0.220346 auc:0.9228\n",
      "epoch:  80 loss:0.212163 auc:0.9228\n",
      "epoch: 100 loss:0.207337 auc:0.9231\n",
      "epoch: 120 loss:0.202430 auc:0.9225\n",
      "epoch: 140 loss:0.197173 auc:0.9219\n",
      "epoch: 160 loss:0.193856 auc:0.9214\n",
      "epoch: 180 loss:0.192273 auc:0.9214\n"
     ]
    },
    {
     "name": "stderr",
     "output_type": "stream",
     "text": [
      " 97%|█████████▋| 887/916 [7:15:56<03:17,  6.82s/it]"
     ]
    },
    {
     "name": "stdout",
     "output_type": "stream",
     "text": [
      "epoch: 200 loss:0.191681 auc:0.9211\n",
      "Fit finished.\n",
      "epoch:   0 loss:0.646350 auc:0.3010\n",
      "epoch:  20 loss:0.244138 auc:0.9929\n",
      "epoch:  40 loss:0.215971 auc:0.9942\n",
      "epoch:  60 loss:0.207743 auc:0.9942\n",
      "epoch:  80 loss:0.200563 auc:0.9935\n",
      "epoch: 100 loss:0.194854 auc:0.9942\n",
      "epoch: 120 loss:0.192565 auc:0.9935\n",
      "epoch: 140 loss:0.191205 auc:0.9935\n",
      "epoch: 160 loss:0.189835 auc:0.9935\n"
     ]
    },
    {
     "name": "stderr",
     "output_type": "stream",
     "text": [
      " 97%|█████████▋| 888/916 [7:15:58<02:35,  5.54s/it]"
     ]
    },
    {
     "name": "stdout",
     "output_type": "stream",
     "text": [
      "epoch: 180 loss:0.189596 auc:0.9923\n",
      "Fit finished.\n",
      "epoch:   0 loss:1.052854 auc:0.3947\n",
      "epoch:  20 loss:0.331781 auc:0.9319\n",
      "epoch:  40 loss:0.252259 auc:0.9507\n",
      "epoch:  60 loss:0.220563 auc:0.9577\n",
      "epoch:  80 loss:0.210048 auc:0.9577\n",
      "epoch: 100 loss:0.203769 auc:0.9593\n",
      "epoch: 120 loss:0.197104 auc:0.9603\n",
      "epoch: 140 loss:0.193833 auc:0.9590\n",
      "epoch: 160 loss:0.192187 auc:0.9600\n",
      "epoch: 180 loss:0.191843 auc:0.9610\n",
      "epoch: 200 loss:0.190024 auc:0.9640\n",
      "epoch: 220 loss:0.189633 auc:0.9656\n",
      "epoch: 240 loss:0.190524 auc:0.9686\n",
      "epoch: 260 loss:0.187561 auc:0.9699\n",
      "epoch: 280 loss:0.186724 auc:0.9709\n",
      "epoch: 300 loss:0.184892 auc:0.9716\n",
      "epoch: 320 loss:0.185048 auc:0.9716\n",
      "epoch: 340 loss:0.183314 auc:0.9699\n",
      "epoch: 360 loss:0.180944 auc:0.9696\n",
      "epoch: 380 loss:0.178337 auc:0.9683\n"
     ]
    },
    {
     "name": "stderr",
     "output_type": "stream",
     "text": [
      " 97%|█████████▋| 889/916 [7:16:03<02:27,  5.47s/it]"
     ]
    },
    {
     "name": "stdout",
     "output_type": "stream",
     "text": [
      "epoch: 400 loss:0.184585 auc:0.9663\n",
      "Fit finished.\n",
      "epoch:   0 loss:0.667633 auc:0.2712\n",
      "epoch:  20 loss:0.301742 auc:0.9530\n",
      "epoch:  40 loss:0.228433 auc:0.9509\n",
      "epoch:  60 loss:0.213870 auc:0.9489\n",
      "epoch:  80 loss:0.207563 auc:0.9504\n",
      "epoch: 100 loss:0.202469 auc:0.9514\n",
      "epoch: 120 loss:0.197202 auc:0.9514\n",
      "epoch: 140 loss:0.194202 auc:0.9509\n",
      "epoch: 160 loss:0.192439 auc:0.9509\n"
     ]
    },
    {
     "name": "stderr",
     "output_type": "stream",
     "text": [
      " 97%|█████████▋| 890/916 [7:16:06<01:58,  4.57s/it]"
     ]
    },
    {
     "name": "stdout",
     "output_type": "stream",
     "text": [
      "epoch: 180 loss:0.191410 auc:0.9499\n",
      "Fit finished.\n",
      "epoch:   0 loss:0.791312 auc:0.8214\n",
      "epoch:  20 loss:0.320250 auc:0.9439\n",
      "epoch:  40 loss:0.234736 auc:0.9796\n",
      "epoch:  60 loss:0.215865 auc:0.9796\n",
      "epoch:  80 loss:0.207459 auc:0.9796\n",
      "epoch: 100 loss:0.200664 auc:0.9796\n",
      "epoch: 120 loss:0.195504 auc:0.9796\n",
      "epoch: 140 loss:0.193296 auc:0.9796\n",
      "epoch: 160 loss:0.192803 auc:0.9796\n",
      "epoch: 180 loss:0.191285 auc:0.9796\n",
      "epoch: 200 loss:0.190425 auc:0.9796\n"
     ]
    },
    {
     "name": "stderr",
     "output_type": "stream",
     "text": [
      " 97%|█████████▋| 891/916 [7:16:09<01:43,  4.15s/it]"
     ]
    },
    {
     "name": "stdout",
     "output_type": "stream",
     "text": [
      "epoch: 220 loss:0.189860 auc:0.9745\n",
      "Fit finished.\n",
      "epoch:   0 loss:0.935578 auc:0.4505\n",
      "epoch:  20 loss:0.293804 auc:0.9362\n",
      "epoch:  40 loss:0.228834 auc:0.9323\n",
      "epoch:  60 loss:0.212839 auc:0.9353\n",
      "epoch:  80 loss:0.206633 auc:0.9366\n",
      "epoch: 100 loss:0.201021 auc:0.9379\n",
      "epoch: 120 loss:0.196031 auc:0.9379\n",
      "epoch: 140 loss:0.193714 auc:0.9388\n",
      "epoch: 160 loss:0.192492 auc:0.9379\n",
      "epoch: 180 loss:0.191595 auc:0.9375\n",
      "epoch: 200 loss:0.190809 auc:0.9379\n",
      "epoch: 220 loss:0.190163 auc:0.9397\n",
      "epoch: 240 loss:0.189483 auc:0.9397\n",
      "epoch: 260 loss:0.188535 auc:0.9405\n",
      "epoch: 280 loss:0.187698 auc:0.9414\n",
      "epoch: 300 loss:0.187824 auc:0.9423\n",
      "epoch: 320 loss:0.186294 auc:0.9401\n"
     ]
    },
    {
     "name": "stderr",
     "output_type": "stream",
     "text": [
      " 97%|█████████▋| 892/916 [7:16:13<01:39,  4.15s/it]"
     ]
    },
    {
     "name": "stdout",
     "output_type": "stream",
     "text": [
      "epoch: 340 loss:0.184149 auc:0.9353\n",
      "Fit finished.\n",
      "epoch:   0 loss:0.798960 auc:0.2787\n",
      "epoch:  20 loss:0.305951 auc:0.9934\n",
      "epoch:  40 loss:0.230391 auc:0.9914\n",
      "epoch:  60 loss:0.215316 auc:0.9905\n",
      "epoch:  80 loss:0.208584 auc:0.9902\n",
      "epoch: 100 loss:0.203550 auc:0.9902\n",
      "epoch: 120 loss:0.198084 auc:0.9902\n",
      "epoch: 140 loss:0.194472 auc:0.9902\n",
      "epoch: 160 loss:0.192692 auc:0.9902\n"
     ]
    },
    {
     "name": "stderr",
     "output_type": "stream",
     "text": [
      " 97%|█████████▋| 893/916 [7:16:16<01:23,  3.61s/it]"
     ]
    },
    {
     "name": "stdout",
     "output_type": "stream",
     "text": [
      "epoch: 180 loss:0.193279 auc:0.9899\n",
      "Fit finished.\n",
      "epoch:   0 loss:0.675801 auc:0.1068\n",
      "epoch:  20 loss:0.289610 auc:0.9870\n",
      "epoch:  40 loss:0.225718 auc:0.9874\n",
      "epoch:  60 loss:0.211244 auc:0.9878\n",
      "epoch:  80 loss:0.204616 auc:0.9870\n",
      "epoch: 100 loss:0.198057 auc:0.9870\n",
      "epoch: 120 loss:0.194235 auc:0.9874\n",
      "epoch: 140 loss:0.192458 auc:0.9861\n",
      "epoch: 160 loss:0.191864 auc:0.9870\n",
      "epoch: 180 loss:0.190537 auc:0.9870\n"
     ]
    },
    {
     "name": "stderr",
     "output_type": "stream",
     "text": [
      " 98%|█████████▊| 894/916 [7:16:19<01:15,  3.42s/it]"
     ]
    },
    {
     "name": "stdout",
     "output_type": "stream",
     "text": [
      "epoch: 200 loss:0.190018 auc:0.9870\n",
      "Fit finished.\n",
      "epoch:   0 loss:0.690052 auc:0.5725\n",
      "epoch:  20 loss:0.311853 auc:0.9738\n",
      "epoch:  40 loss:0.230313 auc:0.9838\n",
      "epoch:  60 loss:0.213884 auc:0.9853\n",
      "epoch:  80 loss:0.206468 auc:0.9846\n",
      "epoch: 100 loss:0.200345 auc:0.9846\n",
      "epoch: 120 loss:0.195379 auc:0.9838\n",
      "epoch: 140 loss:0.193300 auc:0.9846\n",
      "epoch: 160 loss:0.191907 auc:0.9861\n",
      "epoch: 180 loss:0.190788 auc:0.9861\n",
      "epoch: 200 loss:0.190460 auc:0.9853\n",
      "epoch: 220 loss:0.188578 auc:0.9900\n",
      "epoch: 240 loss:0.187169 auc:0.9892\n",
      "epoch: 260 loss:0.187228 auc:0.9877\n",
      "epoch: 280 loss:0.186508 auc:0.9892\n",
      "epoch: 300 loss:0.182369 auc:0.9900\n",
      "epoch: 320 loss:0.180616 auc:0.9915\n",
      "epoch: 340 loss:0.185939 auc:0.9900\n",
      "epoch: 360 loss:0.181680 auc:0.9915\n",
      "epoch: 380 loss:0.173011 auc:0.9907\n"
     ]
    },
    {
     "name": "stderr",
     "output_type": "stream",
     "text": [
      " 98%|█████████▊| 895/916 [7:16:24<01:24,  4.03s/it]"
     ]
    },
    {
     "name": "stdout",
     "output_type": "stream",
     "text": [
      "epoch: 400 loss:0.174780 auc:0.9815\n",
      "Fit finished.\n",
      "epoch:   0 loss:0.807236 auc:0.1466\n",
      "epoch:  20 loss:0.273478 auc:0.9541\n",
      "epoch:  40 loss:0.221552 auc:0.9579\n",
      "epoch:  60 loss:0.210710 auc:0.9589\n",
      "epoch:  80 loss:0.204953 auc:0.9576\n",
      "epoch: 100 loss:0.198535 auc:0.9572\n",
      "epoch: 120 loss:0.194584 auc:0.9579\n",
      "epoch: 140 loss:0.192745 auc:0.9579\n",
      "epoch: 160 loss:0.196194 auc:0.9603\n",
      "epoch: 180 loss:0.191265 auc:0.9608\n",
      "epoch: 200 loss:0.189365 auc:0.9606\n",
      "epoch: 220 loss:0.188938 auc:0.9612\n",
      "epoch: 240 loss:0.187041 auc:0.9601\n"
     ]
    },
    {
     "name": "stderr",
     "output_type": "stream",
     "text": [
      " 98%|█████████▊| 896/916 [7:16:28<01:18,  3.94s/it]"
     ]
    },
    {
     "name": "stdout",
     "output_type": "stream",
     "text": [
      "epoch: 260 loss:0.185373 auc:0.9562\n",
      "Fit finished.\n",
      "epoch:   0 loss:1.005984 auc:0.6694\n",
      "epoch:  20 loss:0.316679 auc:0.9910\n",
      "epoch:  40 loss:0.237903 auc:0.9899\n",
      "epoch:  60 loss:0.216114 auc:0.9916\n",
      "epoch:  80 loss:0.208354 auc:0.9914\n",
      "epoch: 100 loss:0.203012 auc:0.9914\n",
      "epoch: 120 loss:0.197325 auc:0.9916\n",
      "epoch: 140 loss:0.194242 auc:0.9918\n",
      "epoch: 160 loss:0.192787 auc:0.9918\n",
      "epoch: 180 loss:0.192056 auc:0.9916\n",
      "epoch: 200 loss:0.191256 auc:0.9910\n"
     ]
    },
    {
     "name": "stderr",
     "output_type": "stream",
     "text": [
      " 98%|█████████▊| 897/916 [7:16:32<01:14,  3.91s/it]"
     ]
    },
    {
     "name": "stdout",
     "output_type": "stream",
     "text": [
      "epoch: 220 loss:0.190429 auc:0.9908\n",
      "Fit finished.\n",
      "epoch:   0 loss:0.847263 auc:0.5506\n",
      "epoch:  20 loss:0.318932 auc:0.9560\n",
      "epoch:  40 loss:0.242449 auc:0.9597\n",
      "epoch:  60 loss:0.217968 auc:0.9652\n",
      "epoch:  80 loss:0.208669 auc:0.9661\n",
      "epoch: 100 loss:0.202920 auc:0.9671\n",
      "epoch: 120 loss:0.197719 auc:0.9655\n",
      "epoch: 140 loss:0.194507 auc:0.9665\n",
      "epoch: 160 loss:0.192891 auc:0.9661\n",
      "epoch: 180 loss:0.191806 auc:0.9665\n",
      "epoch: 200 loss:0.191175 auc:0.9671\n",
      "epoch: 220 loss:0.190338 auc:0.9665\n",
      "epoch: 240 loss:0.189600 auc:0.9665\n",
      "epoch: 260 loss:0.188826 auc:0.9674\n",
      "epoch: 280 loss:0.189282 auc:0.9661\n",
      "epoch: 300 loss:0.187050 auc:0.9668\n"
     ]
    },
    {
     "name": "stderr",
     "output_type": "stream",
     "text": [
      " 98%|█████████▊| 898/916 [7:16:36<01:11,  3.98s/it]"
     ]
    },
    {
     "name": "stdout",
     "output_type": "stream",
     "text": [
      "epoch: 320 loss:0.185729 auc:0.9646\n",
      "Fit finished.\n",
      "epoch:   0 loss:0.856573 auc:0.6775\n",
      "epoch:  20 loss:0.321924 auc:0.9525\n",
      "epoch:  40 loss:0.242522 auc:0.9675\n",
      "epoch:  60 loss:0.219717 auc:0.9700\n",
      "epoch:  80 loss:0.211668 auc:0.9725\n",
      "epoch: 100 loss:0.206832 auc:0.9725\n",
      "epoch: 120 loss:0.201417 auc:0.9700\n",
      "epoch: 140 loss:0.195934 auc:0.9700\n",
      "epoch: 160 loss:0.193478 auc:0.9725\n",
      "epoch: 180 loss:0.194057 auc:0.9700\n",
      "epoch: 200 loss:0.191660 auc:0.9700\n",
      "epoch: 220 loss:0.190537 auc:0.9700\n"
     ]
    },
    {
     "name": "stderr",
     "output_type": "stream",
     "text": [
      " 98%|█████████▊| 899/916 [7:16:39<01:04,  3.82s/it]"
     ]
    },
    {
     "name": "stdout",
     "output_type": "stream",
     "text": [
      "epoch: 240 loss:0.190796 auc:0.9700\n",
      "Fit finished.\n",
      "epoch:   0 loss:0.628444 auc:0.7839\n",
      "epoch:  20 loss:0.315007 auc:0.9718\n",
      "epoch:  40 loss:0.234684 auc:0.9757\n",
      "epoch:  60 loss:0.216326 auc:0.9779\n",
      "epoch:  80 loss:0.208800 auc:0.9779\n",
      "epoch: 100 loss:0.203388 auc:0.9774\n",
      "epoch: 120 loss:0.197408 auc:0.9774\n",
      "epoch: 140 loss:0.194049 auc:0.9774\n",
      "epoch: 160 loss:0.192619 auc:0.9766\n",
      "epoch: 180 loss:0.191608 auc:0.9770\n",
      "epoch: 200 loss:0.191822 auc:0.9766\n"
     ]
    },
    {
     "name": "stderr",
     "output_type": "stream",
     "text": [
      " 98%|█████████▊| 900/916 [7:16:42<00:58,  3.63s/it]"
     ]
    },
    {
     "name": "stdout",
     "output_type": "stream",
     "text": [
      "epoch: 220 loss:0.190347 auc:0.9761\n",
      "Fit finished.\n",
      "epoch:   0 loss:0.639351 auc:0.3755\n",
      "epoch:  20 loss:0.258680 auc:0.9531\n",
      "epoch:  40 loss:0.217373 auc:0.9586\n",
      "epoch:  60 loss:0.207890 auc:0.9589\n",
      "epoch:  80 loss:0.202078 auc:0.9593\n",
      "epoch: 100 loss:0.196547 auc:0.9601\n",
      "epoch: 120 loss:0.193802 auc:0.9596\n",
      "epoch: 140 loss:0.192323 auc:0.9593\n",
      "epoch: 160 loss:0.191179 auc:0.9578\n",
      "epoch: 180 loss:0.194010 auc:0.9570\n"
     ]
    },
    {
     "name": "stderr",
     "output_type": "stream",
     "text": [
      " 98%|█████████▊| 901/916 [7:16:45<00:51,  3.42s/it]"
     ]
    },
    {
     "name": "stdout",
     "output_type": "stream",
     "text": [
      "epoch: 200 loss:0.190174 auc:0.9550\n",
      "Fit finished.\n",
      "epoch:   0 loss:1.045942 auc:0.6288\n",
      "epoch:  20 loss:0.332180 auc:0.9359\n",
      "epoch:  40 loss:0.245631 auc:0.9402\n",
      "epoch:  60 loss:0.219443 auc:0.9408\n",
      "epoch:  80 loss:0.210122 auc:0.9418\n",
      "epoch: 100 loss:0.205177 auc:0.9415\n",
      "epoch: 120 loss:0.199982 auc:0.9431\n",
      "epoch: 140 loss:0.195601 auc:0.9415\n",
      "epoch: 160 loss:0.193471 auc:0.9412\n",
      "epoch: 180 loss:0.192215 auc:0.9412\n",
      "epoch: 200 loss:0.193199 auc:0.9418\n",
      "epoch: 220 loss:0.190794 auc:0.9425\n",
      "epoch: 240 loss:0.189884 auc:0.9435\n",
      "epoch: 260 loss:0.189190 auc:0.9448\n",
      "epoch: 280 loss:0.188872 auc:0.9445\n",
      "epoch: 300 loss:0.188110 auc:0.9455\n",
      "epoch: 320 loss:0.196162 auc:0.9448\n",
      "epoch: 340 loss:0.187117 auc:0.9451\n",
      "epoch: 360 loss:0.185205 auc:0.9445\n"
     ]
    },
    {
     "name": "stderr",
     "output_type": "stream",
     "text": [
      " 98%|█████████▊| 902/916 [7:16:50<00:55,  3.93s/it]"
     ]
    },
    {
     "name": "stdout",
     "output_type": "stream",
     "text": [
      "epoch: 380 loss:0.184049 auc:0.9412\n",
      "Fit finished.\n",
      "epoch:   0 loss:0.769841 auc:0.5048\n",
      "epoch:  20 loss:0.330224 auc:0.9691\n",
      "epoch:  40 loss:0.238229 auc:0.9722\n",
      "epoch:  60 loss:0.216310 auc:0.9719\n",
      "epoch:  80 loss:0.208587 auc:0.9709\n",
      "epoch: 100 loss:0.203345 auc:0.9709\n",
      "epoch: 120 loss:0.197569 auc:0.9709\n",
      "epoch: 140 loss:0.194100 auc:0.9709\n",
      "epoch: 160 loss:0.192428 auc:0.9709\n",
      "epoch: 180 loss:0.191424 auc:0.9715\n",
      "epoch: 200 loss:0.191082 auc:0.9733\n",
      "epoch: 220 loss:0.189024 auc:0.9743\n",
      "epoch: 240 loss:0.188084 auc:0.9753\n",
      "epoch: 260 loss:0.187518 auc:0.9757\n",
      "epoch: 280 loss:0.187598 auc:0.9757\n",
      "epoch: 300 loss:0.183532 auc:0.9739\n",
      "epoch: 320 loss:0.188090 auc:0.9736\n",
      "epoch: 340 loss:0.180587 auc:0.9736\n"
     ]
    },
    {
     "name": "stderr",
     "output_type": "stream",
     "text": [
      " 99%|█████████▊| 903/916 [7:16:55<00:55,  4.28s/it]"
     ]
    },
    {
     "name": "stdout",
     "output_type": "stream",
     "text": [
      "epoch: 360 loss:0.184778 auc:0.9633\n",
      "Fit finished.\n",
      "epoch:   0 loss:0.862995 auc:0.7113\n",
      "epoch:  20 loss:0.299043 auc:0.9821\n",
      "epoch:  40 loss:0.229650 auc:0.9825\n",
      "epoch:  60 loss:0.213146 auc:0.9818\n",
      "epoch:  80 loss:0.206452 auc:0.9821\n",
      "epoch: 100 loss:0.200598 auc:0.9825\n",
      "epoch: 120 loss:0.195629 auc:0.9821\n",
      "epoch: 140 loss:0.193418 auc:0.9825\n",
      "epoch: 160 loss:0.192396 auc:0.9825\n",
      "epoch: 180 loss:0.191022 auc:0.9825\n",
      "epoch: 200 loss:0.190170 auc:0.9831\n",
      "epoch: 220 loss:0.189472 auc:0.9834\n",
      "epoch: 240 loss:0.189294 auc:0.9837\n",
      "epoch: 260 loss:0.187856 auc:0.9831\n",
      "epoch: 280 loss:0.187431 auc:0.9834\n",
      "epoch: 300 loss:0.185870 auc:0.9828\n",
      "epoch: 320 loss:0.186614 auc:0.9828\n",
      "epoch: 340 loss:0.184364 auc:0.9825\n"
     ]
    },
    {
     "name": "stderr",
     "output_type": "stream",
     "text": [
      " 99%|█████████▊| 904/916 [7:17:00<00:53,  4.46s/it]"
     ]
    },
    {
     "name": "stdout",
     "output_type": "stream",
     "text": [
      "epoch: 360 loss:0.182114 auc:0.9825\n",
      "Fit finished.\n",
      "epoch:   0 loss:0.713240 auc:0.7446\n",
      "epoch:  20 loss:0.305587 auc:0.9541\n",
      "epoch:  40 loss:0.231470 auc:0.9618\n",
      "epoch:  60 loss:0.214329 auc:0.9633\n",
      "epoch:  80 loss:0.207198 auc:0.9633\n",
      "epoch: 100 loss:0.202143 auc:0.9633\n",
      "epoch: 120 loss:0.197260 auc:0.9641\n",
      "epoch: 140 loss:0.194372 auc:0.9639\n",
      "epoch: 160 loss:0.192916 auc:0.9641\n",
      "epoch: 180 loss:0.191859 auc:0.9641\n",
      "epoch: 200 loss:0.190921 auc:0.9651\n",
      "epoch: 220 loss:0.190178 auc:0.9649\n"
     ]
    },
    {
     "name": "stderr",
     "output_type": "stream",
     "text": [
      " 99%|█████████▉| 905/916 [7:17:03<00:44,  4.06s/it]"
     ]
    },
    {
     "name": "stdout",
     "output_type": "stream",
     "text": [
      "epoch: 240 loss:0.189475 auc:0.9616\n",
      "Fit finished.\n",
      "epoch:   0 loss:0.973045 auc:0.2020\n",
      "epoch:  20 loss:0.325010 auc:0.9782\n",
      "epoch:  40 loss:0.239769 auc:0.9762\n",
      "epoch:  60 loss:0.218366 auc:0.9737\n",
      "epoch:  80 loss:0.209379 auc:0.9715\n",
      "epoch: 100 loss:0.203526 auc:0.9701\n",
      "epoch: 120 loss:0.197263 auc:0.9704\n",
      "epoch: 140 loss:0.193965 auc:0.9704\n",
      "epoch: 160 loss:0.192517 auc:0.9704\n"
     ]
    },
    {
     "name": "stderr",
     "output_type": "stream",
     "text": [
      " 99%|█████████▉| 906/916 [7:17:06<00:36,  3.63s/it]"
     ]
    },
    {
     "name": "stdout",
     "output_type": "stream",
     "text": [
      "epoch: 180 loss:0.191528 auc:0.9706\n",
      "Fit finished.\n",
      "epoch:   0 loss:0.804164 auc:0.6590\n",
      "epoch:  20 loss:0.313556 auc:0.8775\n",
      "epoch:  40 loss:0.231903 auc:0.8827\n",
      "epoch:  60 loss:0.215699 auc:0.8827\n",
      "epoch:  80 loss:0.208639 auc:0.8837\n",
      "epoch: 100 loss:0.203401 auc:0.8827\n",
      "epoch: 120 loss:0.197977 auc:0.8806\n",
      "epoch: 140 loss:0.194401 auc:0.8812\n",
      "epoch: 160 loss:0.192723 auc:0.8800\n",
      "epoch: 180 loss:0.191651 auc:0.8787\n"
     ]
    },
    {
     "name": "stderr",
     "output_type": "stream",
     "text": [
      " 99%|█████████▉| 907/916 [7:17:09<00:31,  3.45s/it]"
     ]
    },
    {
     "name": "stdout",
     "output_type": "stream",
     "text": [
      "epoch: 200 loss:0.190831 auc:0.8800\n",
      "Fit finished.\n",
      "epoch:   0 loss:0.925662 auc:0.5721\n",
      "epoch:  20 loss:0.303588 auc:0.9401\n",
      "epoch:  40 loss:0.228575 auc:0.9494\n",
      "epoch:  60 loss:0.215234 auc:0.9466\n",
      "epoch:  80 loss:0.209206 auc:0.9481\n",
      "epoch: 100 loss:0.204744 auc:0.9488\n",
      "epoch: 120 loss:0.199541 auc:0.9488\n",
      "epoch: 140 loss:0.194965 auc:0.9490\n",
      "epoch: 160 loss:0.192977 auc:0.9481\n",
      "epoch: 180 loss:0.191754 auc:0.9492\n"
     ]
    },
    {
     "name": "stderr",
     "output_type": "stream",
     "text": [
      " 99%|█████████▉| 908/916 [7:17:12<00:26,  3.29s/it]"
     ]
    },
    {
     "name": "stdout",
     "output_type": "stream",
     "text": [
      "epoch: 200 loss:0.190952 auc:0.9475\n",
      "Fit finished.\n",
      "epoch:   0 loss:0.954089 auc:0.7832\n",
      "epoch:  20 loss:0.316515 auc:0.9554\n",
      "epoch:  40 loss:0.240374 auc:0.9643\n",
      "epoch:  60 loss:0.216921 auc:0.9668\n",
      "epoch:  80 loss:0.207822 auc:0.9758\n",
      "epoch: 100 loss:0.201586 auc:0.9834\n",
      "epoch: 120 loss:0.196387 auc:0.9834\n",
      "epoch: 140 loss:0.193948 auc:0.9834\n",
      "epoch: 160 loss:0.192668 auc:0.9834\n",
      "epoch: 180 loss:0.191755 auc:0.9834\n",
      "epoch: 200 loss:0.191016 auc:0.9834\n",
      "epoch: 220 loss:0.190454 auc:0.9834\n",
      "epoch: 240 loss:0.190082 auc:0.9834\n",
      "epoch: 260 loss:0.189328 auc:0.9847\n",
      "epoch: 280 loss:0.190249 auc:0.9847\n",
      "epoch: 300 loss:0.188093 auc:0.9860\n",
      "epoch: 320 loss:0.189940 auc:0.9872\n",
      "epoch: 340 loss:0.185776 auc:0.9872\n",
      "epoch: 360 loss:0.183656 auc:0.9860\n",
      "epoch: 380 loss:0.182324 auc:0.9860\n",
      "epoch: 400 loss:0.179536 auc:0.9860\n",
      "epoch: 420 loss:0.186742 auc:0.9847\n",
      "epoch: 440 loss:0.179021 auc:0.9860\n",
      "epoch: 460 loss:0.175031 auc:0.9872\n",
      "epoch: 480 loss:0.173043 auc:0.9885\n",
      "epoch: 500 loss:0.172133 auc:0.9872\n",
      "epoch: 520 loss:0.171335 auc:0.9872\n",
      "epoch: 540 loss:0.170210 auc:0.9872\n",
      "epoch: 560 loss:0.170639 auc:0.9860\n",
      "epoch: 580 loss:0.168843 auc:0.9860\n",
      "epoch: 600 loss:0.167747 auc:0.9860\n"
     ]
    },
    {
     "name": "stderr",
     "output_type": "stream",
     "text": [
      " 99%|█████████▉| 909/916 [7:17:20<00:33,  4.82s/it]"
     ]
    },
    {
     "name": "stdout",
     "output_type": "stream",
     "text": [
      "epoch: 620 loss:0.165710 auc:0.9847\n",
      "Fit finished.\n",
      "epoch:   0 loss:0.885761 auc:0.4633\n",
      "epoch:  20 loss:0.324832 auc:0.9400\n",
      "epoch:  40 loss:0.243430 auc:0.9468\n",
      "epoch:  60 loss:0.218752 auc:0.9568\n",
      "epoch:  80 loss:0.209552 auc:0.9558\n",
      "epoch: 100 loss:0.203374 auc:0.9554\n",
      "epoch: 120 loss:0.197479 auc:0.9558\n",
      "epoch: 140 loss:0.194169 auc:0.9558\n",
      "epoch: 160 loss:0.192767 auc:0.9554\n",
      "epoch: 180 loss:0.191849 auc:0.9564\n",
      "epoch: 200 loss:0.191121 auc:0.9561\n"
     ]
    },
    {
     "name": "stderr",
     "output_type": "stream",
     "text": [
      " 99%|█████████▉| 910/916 [7:17:23<00:25,  4.26s/it]"
     ]
    },
    {
     "name": "stdout",
     "output_type": "stream",
     "text": [
      "epoch: 220 loss:0.190473 auc:0.9561\n",
      "Fit finished.\n",
      "epoch:   0 loss:0.693092 auc:0.2652\n",
      "epoch:  20 loss:0.257018 auc:0.9905\n",
      "epoch:  40 loss:0.219564 auc:0.9914\n",
      "epoch:  60 loss:0.211542 auc:0.9908\n",
      "epoch:  80 loss:0.207022 auc:0.9923\n",
      "epoch: 100 loss:0.201822 auc:0.9917\n",
      "epoch: 120 loss:0.195809 auc:0.9920\n",
      "epoch: 140 loss:0.193107 auc:0.9926\n",
      "epoch: 160 loss:0.191320 auc:0.9929\n",
      "epoch: 180 loss:0.189783 auc:0.9929\n"
     ]
    },
    {
     "name": "stderr",
     "output_type": "stream",
     "text": [
      " 99%|█████████▉| 911/916 [7:17:26<00:19,  3.87s/it]"
     ]
    },
    {
     "name": "stdout",
     "output_type": "stream",
     "text": [
      "epoch: 200 loss:0.188697 auc:0.9902\n",
      "Fit finished.\n",
      "epoch:   0 loss:0.608477 auc:0.4717\n",
      "epoch:  20 loss:0.258525 auc:0.9666\n",
      "epoch:  40 loss:0.217632 auc:0.9683\n",
      "epoch:  60 loss:0.207827 auc:0.9674\n",
      "epoch:  80 loss:0.200801 auc:0.9687\n",
      "epoch: 100 loss:0.195038 auc:0.9689\n",
      "epoch: 120 loss:0.192720 auc:0.9674\n",
      "epoch: 140 loss:0.191319 auc:0.9672\n",
      "epoch: 160 loss:0.190080 auc:0.9620\n"
     ]
    },
    {
     "name": "stderr",
     "output_type": "stream",
     "text": [
      "100%|█████████▉| 912/916 [7:17:29<00:13,  3.50s/it]"
     ]
    },
    {
     "name": "stdout",
     "output_type": "stream",
     "text": [
      "epoch: 180 loss:0.189072 auc:0.9527\n",
      "Fit finished.\n",
      "epoch:   0 loss:0.996967 auc:0.3739\n",
      "epoch:  20 loss:0.313187 auc:0.9135\n",
      "epoch:  40 loss:0.230553 auc:0.9239\n",
      "epoch:  60 loss:0.213314 auc:0.9235\n",
      "epoch:  80 loss:0.206131 auc:0.9253\n",
      "epoch: 100 loss:0.199243 auc:0.9249\n",
      "epoch: 120 loss:0.194772 auc:0.9249\n",
      "epoch: 140 loss:0.192837 auc:0.9249\n",
      "epoch: 160 loss:0.191688 auc:0.9239\n",
      "epoch: 180 loss:0.190787 auc:0.9249\n",
      "epoch: 200 loss:0.190053 auc:0.9244\n",
      "epoch: 220 loss:0.189569 auc:0.9249\n",
      "epoch: 240 loss:0.188696 auc:0.9262\n"
     ]
    },
    {
     "name": "stderr",
     "output_type": "stream",
     "text": [
      "100%|█████████▉| 913/916 [7:17:33<00:10,  3.54s/it]"
     ]
    },
    {
     "name": "stdout",
     "output_type": "stream",
     "text": [
      "epoch: 260 loss:0.188370 auc:0.9244\n",
      "Fit finished.\n",
      "epoch:   0 loss:0.922207 auc:0.5188\n",
      "epoch:  20 loss:0.336645 auc:0.9559\n",
      "epoch:  40 loss:0.246448 auc:0.9614\n",
      "epoch:  60 loss:0.219441 auc:0.9541\n",
      "epoch:  80 loss:0.209975 auc:0.9522\n",
      "epoch: 100 loss:0.203851 auc:0.9513\n",
      "epoch: 120 loss:0.197875 auc:0.9522\n",
      "epoch: 140 loss:0.194330 auc:0.9513\n",
      "epoch: 160 loss:0.192616 auc:0.9513\n"
     ]
    },
    {
     "name": "stderr",
     "output_type": "stream",
     "text": [
      "100%|█████████▉| 914/916 [7:17:35<00:06,  3.25s/it]"
     ]
    },
    {
     "name": "stdout",
     "output_type": "stream",
     "text": [
      "epoch: 180 loss:0.191905 auc:0.9513\n",
      "Fit finished.\n",
      "epoch:   0 loss:0.823964 auc:0.4003\n",
      "epoch:  20 loss:0.325629 auc:0.9535\n",
      "epoch:  40 loss:0.246817 auc:0.9695\n",
      "epoch:  60 loss:0.218278 auc:0.9726\n",
      "epoch:  80 loss:0.209516 auc:0.9752\n",
      "epoch: 100 loss:0.203792 auc:0.9752\n",
      "epoch: 120 loss:0.198299 auc:0.9747\n",
      "epoch: 140 loss:0.194811 auc:0.9752\n",
      "epoch: 160 loss:0.193174 auc:0.9752\n",
      "epoch: 180 loss:0.192053 auc:0.9757\n",
      "epoch: 200 loss:0.191365 auc:0.9762\n",
      "epoch: 220 loss:0.190895 auc:0.9773\n",
      "epoch: 240 loss:0.190042 auc:0.9773\n",
      "epoch: 260 loss:0.195494 auc:0.9773\n",
      "epoch: 280 loss:0.189305 auc:0.9778\n",
      "epoch: 300 loss:0.188170 auc:0.9783\n",
      "epoch: 320 loss:0.187807 auc:0.9799\n",
      "epoch: 340 loss:0.188528 auc:0.9793\n",
      "epoch: 360 loss:0.186029 auc:0.9788\n",
      "epoch: 380 loss:0.184675 auc:0.9783\n"
     ]
    },
    {
     "name": "stderr",
     "output_type": "stream",
     "text": [
      "100%|█████████▉| 915/916 [7:17:41<00:04,  4.02s/it]"
     ]
    },
    {
     "name": "stdout",
     "output_type": "stream",
     "text": [
      "epoch: 400 loss:0.183498 auc:0.9768\n",
      "Fit finished.\n",
      "epoch:   0 loss:0.831987 auc:0.5194\n",
      "epoch:  20 loss:0.298552 auc:0.9882\n",
      "epoch:  40 loss:0.228308 auc:0.9921\n",
      "epoch:  60 loss:0.213940 auc:0.9941\n",
      "epoch:  80 loss:0.207774 auc:0.9941\n",
      "epoch: 100 loss:0.202561 auc:0.9941\n",
      "epoch: 120 loss:0.196915 auc:0.9941\n",
      "epoch: 140 loss:0.194010 auc:0.9941\n",
      "epoch: 160 loss:0.192519 auc:0.9941\n",
      "epoch: 180 loss:0.191389 auc:0.9941\n",
      "epoch: 200 loss:0.190976 auc:0.9947\n",
      "epoch: 220 loss:0.189884 auc:0.9947\n",
      "epoch: 240 loss:0.188893 auc:0.9961\n",
      "epoch: 260 loss:0.188282 auc:0.9961\n",
      "epoch: 280 loss:0.187680 auc:0.9961\n",
      "epoch: 300 loss:0.185878 auc:0.9961\n",
      "epoch: 320 loss:0.184543 auc:0.9941\n"
     ]
    },
    {
     "name": "stderr",
     "output_type": "stream",
     "text": [
      "100%|██████████| 916/916 [7:17:45<00:00, 28.67s/it]"
     ]
    },
    {
     "name": "stdout",
     "output_type": "stream",
     "text": [
      "epoch: 340 loss:0.182743 auc:0.9915\n",
      "Fit finished.\n"
     ]
    },
    {
     "name": "stderr",
     "output_type": "stream",
     "text": [
      "\n"
     ]
    }
   ],
   "source": [
    "n_kfold = 1\n",
    "true_data_s = pd.DataFrame()\n",
    "predict_data_s = pd.DataFrame()\n",
    "for dim in target_dim:\n",
    "    for seed, target_index in enumerate(tqdm(np.arange(res.shape[dim]))):\n",
    "        if dim:\n",
    "            if drug_sum[target_index] < 10:\n",
    "                continue\n",
    "        else:\n",
    "            if cell_sum[target_index] < 10:\n",
    "                continue\n",
    "        epochs = []\n",
    "        for fold in range(n_kfold):\n",
    "            true_data, predict_data = mofgcn_new(\n",
    "                exprs=exprs,\n",
    "                cna=cna,\n",
    "                mut=mut,\n",
    "                drug_finger=drug_finger,\n",
    "                res_mat=res,\n",
    "                null_mask=null_mask,\n",
    "                target_dim=dim,\n",
    "                target_index=target_index,\n",
    "                evaluate_fun=roc_auc,\n",
    "                args=args,\n",
    "                seed=seed,\n",
    "                device=device,\n",
    "            )\n",
    "\n",
    "        true_data_s = pd.concat(\n",
    "            [true_data_s, translate_result(true_data)], ignore_index=True\n",
    "        )\n",
    "        predict_data_s = pd.concat(\n",
    "            [predict_data_s, translate_result(predict_data)], ignore_index=True\n",
    "        )"
   ]
  },
  {
   "cell_type": "code",
   "execution_count": 7,
   "id": "ee74598b-d6ba-4763-81e3-4b54516ce071",
   "metadata": {},
   "outputs": [],
   "source": [
    "true_data_s.to_csv(f\"new_cell_true_{args.data}.csv\")\n",
    "predict_data_s.to_csv(f\"new_cell_pred_{args.data}.csv\")"
   ]
  },
  {
   "cell_type": "code",
   "execution_count": null,
   "id": "ffc0c1e3-9f77-41a8-829f-8e9a1bf52edb",
   "metadata": {},
   "outputs": [],
   "source": []
  },
  {
   "cell_type": "code",
   "execution_count": null,
   "id": "e68325c4-cbaa-4dc5-8958-2020b8ae7162",
   "metadata": {},
   "outputs": [],
   "source": []
  },
  {
   "cell_type": "code",
   "execution_count": null,
   "id": "185a0098-e177-4b95-82cc-58c735363c60",
   "metadata": {},
   "outputs": [],
   "source": []
  },
  {
   "cell_type": "code",
   "execution_count": null,
   "id": "ee3e9e61-1f5a-4e9c-abcd-c8a6a99201e3",
   "metadata": {},
   "outputs": [],
   "source": []
  },
  {
   "cell_type": "code",
   "execution_count": null,
   "id": "3c602424-24bb-4876-ad7c-157226a1db15",
   "metadata": {},
   "outputs": [],
   "source": []
  },
  {
   "cell_type": "code",
   "execution_count": null,
   "id": "bc598152-9bfd-49cb-94a1-e06bf3b9adfa",
   "metadata": {},
   "outputs": [],
   "source": []
  },
  {
   "cell_type": "code",
   "execution_count": null,
   "id": "3b2ae018-e508-46da-b0e6-0c4d3c803692",
   "metadata": {},
   "outputs": [],
   "source": []
  },
  {
   "cell_type": "code",
   "execution_count": null,
   "id": "d9e0d7b0-9ce2-47c3-8bfa-735a490a5792",
   "metadata": {},
   "outputs": [],
   "source": []
  }
 ],
 "metadata": {
  "kernelspec": {
   "display_name": "torch",
   "language": "python",
   "name": "torch"
  },
  "language_info": {
   "codemirror_mode": {
    "name": "ipython",
    "version": 3
   },
   "file_extension": ".py",
   "mimetype": "text/x-python",
   "name": "python",
   "nbconvert_exporter": "python",
   "pygments_lexer": "ipython3",
   "version": "3.10.15"
  }
 },
 "nbformat": 4,
 "nbformat_minor": 5
}
