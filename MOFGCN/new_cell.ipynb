{
 "cells": [
  {
   "cell_type": "code",
   "execution_count": 21,
   "id": "572a0fa8-b250-47bc-b76d-a2ec8c923717",
   "metadata": {},
   "outputs": [],
   "source": [
    "import argparse\n",
    "\n",
    "import numpy as np\n",
    "import pandas as pd\n",
    "import scipy.sparse as sp\n",
    "import torch\n",
    "from tqdm import tqdm\n",
    "from sklearn.model_selection import KFold"
   ]
  },
  {
   "cell_type": "code",
   "execution_count": 9,
   "id": "807ed612-b85a-46b4-9f14-9df64631581d",
   "metadata": {},
   "outputs": [
    {
     "name": "stdout",
     "output_type": "stream",
     "text": [
      "The autoreload extension is already loaded. To reload it, use:\n",
      "  %reload_ext autoreload\n"
     ]
    }
   ],
   "source": [
    "%load_ext autoreload\n",
    "%autoreload 2\n",
    "\n",
    "from load_data import load_data\n",
    "from model import GModel\n",
    "from myutils import roc_auc, translate_result\n",
    "from optimizer import Optimizer\n",
    "from sampler import NewSampler"
   ]
  },
  {
   "cell_type": "code",
   "execution_count": 16,
   "id": "377e2120-1fee-4f37-acac-6b5693543ff4",
   "metadata": {},
   "outputs": [
    {
     "name": "stdout",
     "output_type": "stream",
     "text": [
      "load nci\n"
     ]
    }
   ],
   "source": [
    "class Args:\n",
    "    def __init__(self):\n",
    "        self.device = \"cpu\"  # cuda:number or cpu\n",
    "        self.data = \"nci\"  # Dataset{gdsc or ccle}\n",
    "\n",
    "\n",
    "args = Args()\n",
    "res, drug_finger, exprs, mut, cna, null_mask, pos_num = load_data(args)"
   ]
  },
  {
   "cell_type": "code",
   "execution_count": 22,
   "id": "e4830366-799a-4b1e-8395-7d4121b83a73",
   "metadata": {},
   "outputs": [],
   "source": [
    "cell_sum = np.sum(res, axis=1)\n",
    "drug_sum = np.sum(res, axis=0)\n",
    "\n",
    "target_dim = [\n",
    "    0,  # Cell\n",
    "    # 1  # Drug\n",
    "]\n",
    "device=torch.device(\n",
    "            \"cuda\" if torch.cuda.is_available() else \"cpu\"\n",
    "        )"
   ]
  },
  {
   "cell_type": "code",
   "execution_count": 26,
   "id": "f7186080-2927-47ab-82ec-1334f60f6777",
   "metadata": {},
   "outputs": [],
   "source": [
    "def mofgcn_new(\n",
    "    exprs,\n",
    "    cna,\n",
    "    mut,\n",
    "    drug_finger,\n",
    "    res_mat,\n",
    "    null_mask,\n",
    "    target_dim,\n",
    "    target_index,\n",
    "    evaluate_fun,\n",
    "    args,\n",
    "    seed,\n",
    "    device\n",
    "):\n",
    "    sampler = NewSampler(res_mat, null_mask, target_dim, target_index, seed)\n",
    "    model = GModel(\n",
    "        adj_mat=sampler.train_data,\n",
    "        gene=exprs,\n",
    "        cna=cna,\n",
    "        mutation=mut,\n",
    "        sigma=2,\n",
    "        k=11,\n",
    "        iterates=3,\n",
    "        feature_drug=drug_finger,\n",
    "        n_hid1=192,\n",
    "        n_hid2=36,\n",
    "        alpha=5.74,\n",
    "        device=device,\n",
    "    )\n",
    "    opt = Optimizer(\n",
    "        model,\n",
    "        sampler.train_data,\n",
    "        sampler.test_data,\n",
    "        sampler.test_mask,\n",
    "        sampler.train_mask,\n",
    "        roc_auc,\n",
    "        lr=5e-4,\n",
    "        epochs=1000,\n",
    "        device=device,\n",
    "    ).to(device)\n",
    "    epoch, true_data, predict_data = opt()\n",
    "    return true_data, predict_data"
   ]
  },
  {
   "cell_type": "code",
   "execution_count": 28,
   "id": "c23b7d83-33d7-4868-8981-12ae43bc19ec",
   "metadata": {
    "scrolled": true
   },
   "outputs": [
    {
     "name": "stderr",
     "output_type": "stream",
     "text": [
      "  0%|          | 0/60 [00:00<?, ?it/s]"
     ]
    },
    {
     "name": "stdout",
     "output_type": "stream",
     "text": [
      "epoch:   0 loss:0.760561 auc:0.4594\n",
      "epoch:  20 loss:0.563915 auc:0.6268\n",
      "epoch:  40 loss:0.429277 auc:0.5320\n",
      "epoch:  60 loss:0.361223 auc:0.5794\n",
      "epoch:  80 loss:0.336231 auc:0.5927\n",
      "epoch: 100 loss:0.325088 auc:0.5946\n",
      "epoch: 120 loss:0.319036 auc:0.5937\n",
      "epoch: 140 loss:0.315296 auc:0.5939\n",
      "epoch: 160 loss:0.312801 auc:0.5944\n"
     ]
    },
    {
     "name": "stderr",
     "output_type": "stream",
     "text": [
      "  2%|▏         | 1/60 [00:02<02:03,  2.10s/it]"
     ]
    },
    {
     "name": "stdout",
     "output_type": "stream",
     "text": [
      "epoch: 180 loss:0.311081 auc:0.5945\n",
      "Fit finished.\n",
      "epoch:   0 loss:0.769142 auc:0.5153\n",
      "epoch:  20 loss:0.564564 auc:0.5134\n",
      "epoch:  40 loss:0.447301 auc:0.5287\n",
      "epoch:  60 loss:0.376407 auc:0.5251\n",
      "epoch:  80 loss:0.345386 auc:0.5289\n",
      "epoch: 100 loss:0.330901 auc:0.5273\n",
      "epoch: 120 loss:0.322780 auc:0.5280\n",
      "epoch: 140 loss:0.317713 auc:0.5277\n",
      "epoch: 160 loss:0.314383 auc:0.5260\n"
     ]
    },
    {
     "name": "stderr",
     "output_type": "stream",
     "text": [
      "  3%|▎         | 2/60 [00:04<02:10,  2.26s/it]"
     ]
    },
    {
     "name": "stdout",
     "output_type": "stream",
     "text": [
      "epoch: 180 loss:0.312124 auc:0.5240\n",
      "epoch: 200 loss:0.310550 auc:0.5212\n",
      "Fit finished.\n",
      "epoch:   0 loss:0.776542 auc:0.5242\n",
      "epoch:  20 loss:0.566405 auc:0.6686\n",
      "epoch:  40 loss:0.449268 auc:0.6345\n",
      "epoch:  60 loss:0.379087 auc:0.6430\n",
      "epoch:  80 loss:0.348011 auc:0.6451\n",
      "epoch: 100 loss:0.332514 auc:0.6384\n",
      "epoch: 120 loss:0.324176 auc:0.6316\n",
      "epoch: 140 loss:0.319198 auc:0.6280\n"
     ]
    },
    {
     "name": "stderr",
     "output_type": "stream",
     "text": [
      "  5%|▌         | 3/60 [00:06<02:11,  2.30s/it]"
     ]
    },
    {
     "name": "stdout",
     "output_type": "stream",
     "text": [
      "epoch: 160 loss:0.315942 auc:0.6257\n",
      "epoch: 180 loss:0.313670 auc:0.6243\n",
      "Fit finished.\n",
      "epoch:   0 loss:0.843131 auc:0.5142\n",
      "epoch:  20 loss:0.595762 auc:0.5564\n",
      "epoch:  40 loss:0.533486 auc:0.5484\n",
      "epoch:  60 loss:0.438147 auc:0.5461\n",
      "epoch:  80 loss:0.385074 auc:0.5521\n",
      "epoch: 100 loss:0.356119 auc:0.5453\n",
      "epoch: 120 loss:0.339725 auc:0.5501\n",
      "epoch: 140 loss:0.330001 auc:0.5603\n",
      "epoch: 160 loss:0.323872 auc:0.5694\n",
      "epoch: 180 loss:0.319709 auc:0.5752\n",
      "epoch: 200 loss:0.316748 auc:0.5794\n",
      "epoch: 220 loss:0.314578 auc:0.5825\n",
      "epoch: 240 loss:0.312960 auc:0.5840\n",
      "epoch: 260 loss:0.311727 auc:0.5845\n",
      "epoch: 280 loss:0.310765 auc:0.5847\n",
      "epoch: 300 loss:0.309993 auc:0.5847\n",
      "epoch: 320 loss:0.309363 auc:0.5849\n",
      "epoch: 340 loss:0.308845 auc:0.5849\n",
      "epoch: 360 loss:0.308417 auc:0.5850\n",
      "epoch: 380 loss:0.308062 auc:0.5850\n",
      "epoch: 400 loss:0.307767 auc:0.5852\n",
      "epoch: 420 loss:0.307519 auc:0.5853\n",
      "epoch: 440 loss:0.307309 auc:0.5854\n",
      "epoch: 460 loss:0.307131 auc:0.5856\n",
      "epoch: 480 loss:0.306977 auc:0.5854\n",
      "epoch: 500 loss:0.306844 auc:0.5853\n"
     ]
    },
    {
     "name": "stderr",
     "output_type": "stream",
     "text": [
      "  7%|▋         | 4/60 [00:10<02:47,  2.99s/it]"
     ]
    },
    {
     "name": "stdout",
     "output_type": "stream",
     "text": [
      "epoch: 520 loss:0.306728 auc:0.5851\n",
      "epoch: 540 loss:0.306627 auc:0.5847\n",
      "Fit finished.\n",
      "epoch:   0 loss:0.885367 auc:0.5369\n",
      "epoch:  20 loss:0.591836 auc:0.5602\n",
      "epoch:  40 loss:0.528101 auc:0.5892\n",
      "epoch:  60 loss:0.426892 auc:0.6332\n",
      "epoch:  80 loss:0.373509 auc:0.6717\n",
      "epoch: 100 loss:0.348520 auc:0.6761\n",
      "epoch: 120 loss:0.335070 auc:0.6664\n",
      "epoch: 140 loss:0.326713 auc:0.6631\n",
      "epoch: 160 loss:0.321117 auc:0.6605\n",
      "epoch: 180 loss:0.317229 auc:0.6577\n",
      "epoch: 200 loss:0.314475 auc:0.6549\n",
      "epoch: 220 loss:0.312503 auc:0.6534\n"
     ]
    },
    {
     "name": "stderr",
     "output_type": "stream",
     "text": [
      "  8%|▊         | 5/60 [00:13<02:37,  2.87s/it]"
     ]
    },
    {
     "name": "stdout",
     "output_type": "stream",
     "text": [
      "epoch: 240 loss:0.311068 auc:0.6520\n",
      "Fit finished.\n",
      "epoch:   0 loss:0.809886 auc:0.4867\n",
      "epoch:  20 loss:0.582808 auc:0.4745\n",
      "epoch:  40 loss:0.485642 auc:0.4577\n",
      "epoch:  60 loss:0.405031 auc:0.5004\n",
      "epoch:  80 loss:0.362956 auc:0.4933\n",
      "epoch: 100 loss:0.341197 auc:0.4849\n",
      "epoch: 120 loss:0.329626 auc:0.4814\n",
      "epoch: 140 loss:0.322907 auc:0.4790\n"
     ]
    },
    {
     "name": "stderr",
     "output_type": "stream",
     "text": [
      " 10%|█         | 6/60 [00:15<02:25,  2.69s/it]"
     ]
    },
    {
     "name": "stdout",
     "output_type": "stream",
     "text": [
      "epoch: 160 loss:0.318595 auc:0.4783\n",
      "Fit finished.\n",
      "epoch:   0 loss:0.791308 auc:0.4834\n",
      "epoch:  20 loss:0.580362 auc:0.5935\n",
      "epoch:  40 loss:0.475953 auc:0.4592\n",
      "epoch:  60 loss:0.389095 auc:0.5087\n",
      "epoch:  80 loss:0.351450 auc:0.5089\n",
      "epoch: 100 loss:0.334786 auc:0.5042\n",
      "epoch: 120 loss:0.326012 auc:0.5017\n",
      "epoch: 140 loss:0.320712 auc:0.5021\n"
     ]
    },
    {
     "name": "stderr",
     "output_type": "stream",
     "text": [
      " 12%|█▏        | 7/60 [00:17<02:12,  2.51s/it]"
     ]
    },
    {
     "name": "stdout",
     "output_type": "stream",
     "text": [
      "epoch: 160 loss:0.317213 auc:0.5034\n",
      "epoch: 180 loss:0.314788 auc:0.5052\n",
      "Fit finished.\n",
      "epoch:   0 loss:0.795597 auc:0.4830\n",
      "epoch:  20 loss:0.593506 auc:0.5379\n",
      "epoch:  40 loss:0.522130 auc:0.5419\n",
      "epoch:  60 loss:0.429898 auc:0.5525\n",
      "epoch:  80 loss:0.377521 auc:0.5594\n",
      "epoch: 100 loss:0.351268 auc:0.5503\n",
      "epoch: 120 loss:0.336710 auc:0.5434\n",
      "epoch: 140 loss:0.327994 auc:0.5405\n",
      "epoch: 160 loss:0.322422 auc:0.5409\n",
      "epoch: 180 loss:0.318601 auc:0.5415\n",
      "epoch: 200 loss:0.315846 auc:0.5430\n"
     ]
    },
    {
     "name": "stderr",
     "output_type": "stream",
     "text": [
      " 13%|█▎        | 8/60 [00:20<02:06,  2.43s/it]"
     ]
    },
    {
     "name": "stdout",
     "output_type": "stream",
     "text": [
      "epoch: 220 loss:0.313793 auc:0.5440\n",
      "Fit finished.\n",
      "epoch:   0 loss:0.784611 auc:0.5011\n",
      "epoch:  20 loss:0.571834 auc:0.6680\n",
      "epoch:  40 loss:0.458783 auc:0.6100\n",
      "epoch:  60 loss:0.381342 auc:0.6271\n",
      "epoch:  80 loss:0.347675 auc:0.6273\n",
      "epoch: 100 loss:0.332612 auc:0.6262\n",
      "epoch: 120 loss:0.324371 auc:0.6234\n",
      "epoch: 140 loss:0.319302 auc:0.6210\n",
      "epoch: 160 loss:0.315984 auc:0.6202\n"
     ]
    },
    {
     "name": "stderr",
     "output_type": "stream",
     "text": [
      " 15%|█▌        | 9/60 [00:22<01:57,  2.31s/it]"
     ]
    },
    {
     "name": "stdout",
     "output_type": "stream",
     "text": [
      "epoch: 180 loss:0.313710 auc:0.6192\n",
      "Fit finished.\n",
      "epoch:   0 loss:0.805187 auc:0.4767\n",
      "epoch:  20 loss:0.596147 auc:0.4205\n",
      "epoch:  40 loss:0.531860 auc:0.4505\n",
      "epoch:  60 loss:0.433488 auc:0.4353\n",
      "epoch:  80 loss:0.380743 auc:0.4287\n",
      "epoch: 100 loss:0.353792 auc:0.4281\n"
     ]
    },
    {
     "name": "stderr",
     "output_type": "stream",
     "text": [
      " 17%|█▋        | 10/60 [00:24<01:52,  2.25s/it]"
     ]
    },
    {
     "name": "stdout",
     "output_type": "stream",
     "text": [
      "epoch: 120 loss:0.339100 auc:0.4359\n",
      "epoch: 140 loss:0.330232 auc:0.4428\n",
      "epoch: 160 loss:0.324426 auc:0.4513\n",
      "Fit finished.\n",
      "epoch:   0 loss:0.805114 auc:0.5284\n",
      "epoch:  20 loss:0.587113 auc:0.6763\n",
      "epoch:  40 loss:0.491214 auc:0.7267\n",
      "epoch:  60 loss:0.409565 auc:0.7313\n",
      "epoch:  80 loss:0.365999 auc:0.7050\n",
      "epoch: 100 loss:0.344559 auc:0.6974\n",
      "epoch: 120 loss:0.332857 auc:0.6888\n",
      "epoch: 140 loss:0.325786 auc:0.6806\n",
      "epoch: 160 loss:0.321130 auc:0.6738\n"
     ]
    },
    {
     "name": "stderr",
     "output_type": "stream",
     "text": [
      " 18%|█▊        | 11/60 [00:26<01:52,  2.29s/it]"
     ]
    },
    {
     "name": "stdout",
     "output_type": "stream",
     "text": [
      "epoch: 180 loss:0.317887 auc:0.6702\n",
      "Fit finished.\n",
      "epoch:   0 loss:0.820461 auc:0.5250\n",
      "epoch:  20 loss:0.591583 auc:0.6556\n",
      "epoch:  40 loss:0.496858 auc:0.5536\n",
      "epoch:  60 loss:0.413867 auc:0.5647\n",
      "epoch:  80 loss:0.370200 auc:0.5537\n",
      "epoch: 100 loss:0.347242 auc:0.5637\n",
      "epoch: 120 loss:0.334222 auc:0.5662\n",
      "epoch: 140 loss:0.326442 auc:0.5694\n"
     ]
    },
    {
     "name": "stderr",
     "output_type": "stream",
     "text": [
      " 20%|██        | 12/60 [00:28<01:47,  2.24s/it]"
     ]
    },
    {
     "name": "stdout",
     "output_type": "stream",
     "text": [
      "epoch: 160 loss:0.321482 auc:0.5699\n",
      "epoch: 180 loss:0.318090 auc:0.5685\n",
      "Fit finished.\n",
      "epoch:   0 loss:0.784207 auc:0.4869\n",
      "epoch:  20 loss:0.592138 auc:0.5576\n",
      "epoch:  40 loss:0.507956 auc:0.5616\n",
      "epoch:  60 loss:0.417364 auc:0.5925\n",
      "epoch:  80 loss:0.369822 auc:0.5956\n",
      "epoch: 100 loss:0.346025 auc:0.5932\n",
      "epoch: 120 loss:0.333154 auc:0.5890\n",
      "epoch: 140 loss:0.325478 auc:0.5848\n",
      "epoch: 160 loss:0.320471 auc:0.5819\n",
      "epoch: 180 loss:0.316986 auc:0.5792\n"
     ]
    },
    {
     "name": "stderr",
     "output_type": "stream",
     "text": [
      " 22%|██▏       | 13/60 [00:31<01:50,  2.36s/it]"
     ]
    },
    {
     "name": "stdout",
     "output_type": "stream",
     "text": [
      "epoch: 200 loss:0.314451 auc:0.5771\n",
      "epoch: 220 loss:0.312552 auc:0.5762\n",
      "Fit finished.\n",
      "epoch:   0 loss:0.815596 auc:0.4791\n",
      "epoch:  20 loss:0.594473 auc:0.6250\n",
      "epoch:  40 loss:0.510324 auc:0.5987\n",
      "epoch:  60 loss:0.422897 auc:0.6088\n",
      "epoch:  80 loss:0.374569 auc:0.6168\n",
      "epoch: 100 loss:0.349599 auc:0.6204\n",
      "epoch: 120 loss:0.335997 auc:0.6234\n",
      "epoch: 140 loss:0.327901 auc:0.6268\n",
      "epoch: 160 loss:0.322639 auc:0.6276\n",
      "epoch: 180 loss:0.318994 auc:0.6265\n",
      "epoch: 200 loss:0.316334 auc:0.6263\n",
      "epoch: 220 loss:0.314318 auc:0.6268\n",
      "epoch: 240 loss:0.312752 auc:0.6277\n",
      "epoch: 260 loss:0.311517 auc:0.6295\n",
      "epoch: 280 loss:0.310533 auc:0.6313\n",
      "epoch: 300 loss:0.309750 auc:0.6328\n",
      "epoch: 320 loss:0.309124 auc:0.6338\n",
      "epoch: 340 loss:0.308622 auc:0.6344\n",
      "epoch: 360 loss:0.308214 auc:0.6348\n",
      "epoch: 380 loss:0.307880 auc:0.6352\n",
      "epoch: 400 loss:0.307602 auc:0.6353\n",
      "epoch: 420 loss:0.307368 auc:0.6355\n",
      "epoch: 440 loss:0.307169 auc:0.6355\n",
      "epoch: 460 loss:0.306996 auc:0.6354\n",
      "epoch: 480 loss:0.306844 auc:0.6353\n",
      "epoch: 500 loss:0.306712 auc:0.6355\n"
     ]
    },
    {
     "name": "stderr",
     "output_type": "stream",
     "text": [
      " 23%|██▎       | 14/60 [00:37<02:41,  3.51s/it]"
     ]
    },
    {
     "name": "stdout",
     "output_type": "stream",
     "text": [
      "epoch: 520 loss:0.306596 auc:0.6353\n",
      "epoch: 540 loss:0.306494 auc:0.6351\n",
      "Fit finished.\n",
      "epoch:   0 loss:0.784671 auc:0.4985\n",
      "epoch:  20 loss:0.562677 auc:0.7114\n",
      "epoch:  40 loss:0.439533 auc:0.7411\n",
      "epoch:  60 loss:0.369706 auc:0.7269\n",
      "epoch:  80 loss:0.341273 auc:0.7074\n",
      "epoch: 100 loss:0.328612 auc:0.6983\n",
      "epoch: 120 loss:0.321717 auc:0.6936\n",
      "epoch: 140 loss:0.317388 auc:0.6910\n"
     ]
    },
    {
     "name": "stderr",
     "output_type": "stream",
     "text": [
      " 25%|██▌       | 15/60 [00:40<02:32,  3.38s/it]"
     ]
    },
    {
     "name": "stdout",
     "output_type": "stream",
     "text": [
      "epoch: 160 loss:0.314459 auc:0.6893\n",
      "epoch: 180 loss:0.312396 auc:0.6894\n",
      "Fit finished.\n",
      "epoch:   0 loss:0.777661 auc:0.4863\n",
      "epoch:  20 loss:0.567137 auc:0.4281\n",
      "epoch:  40 loss:0.452088 auc:0.3859\n",
      "epoch:  60 loss:0.376981 auc:0.4011\n",
      "epoch:  80 loss:0.344050 auc:0.4141\n",
      "epoch: 100 loss:0.329577 auc:0.4139\n",
      "epoch: 120 loss:0.321884 auc:0.4139\n"
     ]
    },
    {
     "name": "stderr",
     "output_type": "stream",
     "text": [
      " 27%|██▋       | 16/60 [00:43<02:22,  3.25s/it]"
     ]
    },
    {
     "name": "stdout",
     "output_type": "stream",
     "text": [
      "epoch: 140 loss:0.317188 auc:0.4156\n",
      "epoch: 160 loss:0.314116 auc:0.4173\n",
      "Fit finished.\n",
      "epoch:   0 loss:0.784480 auc:0.4809\n",
      "epoch:  20 loss:0.578601 auc:0.5039\n",
      "epoch:  40 loss:0.472585 auc:0.5823\n",
      "epoch:  60 loss:0.394061 auc:0.6258\n",
      "epoch:  80 loss:0.354625 auc:0.6524\n",
      "epoch: 100 loss:0.335383 auc:0.6747\n",
      "epoch: 120 loss:0.325346 auc:0.6877\n",
      "epoch: 140 loss:0.319593 auc:0.6936\n",
      "epoch: 160 loss:0.315996 auc:0.6971\n",
      "epoch: 180 loss:0.313573 auc:0.6987\n",
      "epoch: 200 loss:0.311871 auc:0.7000\n",
      "epoch: 220 loss:0.310637 auc:0.7009\n",
      "epoch: 240 loss:0.309717 auc:0.7019\n",
      "epoch: 260 loss:0.309014 auc:0.7030\n",
      "epoch: 280 loss:0.308462 auc:0.7036\n",
      "epoch: 300 loss:0.308019 auc:0.7043\n",
      "epoch: 320 loss:0.307657 auc:0.7048\n",
      "epoch: 340 loss:0.307358 auc:0.7052\n",
      "epoch: 360 loss:0.307108 auc:0.7053\n",
      "epoch: 380 loss:0.306897 auc:0.7057\n",
      "epoch: 400 loss:0.306721 auc:0.7059\n",
      "epoch: 420 loss:0.306573 auc:0.7059\n",
      "epoch: 440 loss:0.306448 auc:0.7061\n",
      "epoch: 460 loss:0.306341 auc:0.7063\n",
      "epoch: 480 loss:0.306250 auc:0.7068\n",
      "epoch: 500 loss:0.306237 auc:0.7071\n",
      "epoch: 520 loss:0.306111 auc:0.7074\n",
      "epoch: 540 loss:0.306044 auc:0.7078\n",
      "epoch: 560 loss:0.305989 auc:0.7080\n",
      "epoch: 580 loss:0.305942 auc:0.7084\n",
      "epoch: 600 loss:0.305924 auc:0.7091\n",
      "epoch: 620 loss:0.305870 auc:0.7092\n",
      "epoch: 640 loss:0.305832 auc:0.7095\n",
      "epoch: 660 loss:0.305802 auc:0.7096\n",
      "epoch: 680 loss:0.305776 auc:0.7100\n",
      "epoch: 700 loss:0.305753 auc:0.7102\n",
      "epoch: 720 loss:0.305740 auc:0.7105\n",
      "epoch: 740 loss:0.305720 auc:0.7106\n",
      "epoch: 760 loss:0.305706 auc:0.7104\n",
      "epoch: 780 loss:0.305685 auc:0.7107\n",
      "epoch: 800 loss:0.305673 auc:0.7107\n",
      "epoch: 820 loss:0.305662 auc:0.7107\n",
      "epoch: 840 loss:0.305706 auc:0.7107\n",
      "epoch: 860 loss:0.305650 auc:0.7112\n",
      "epoch: 880 loss:0.305636 auc:0.7110\n",
      "epoch: 900 loss:0.305629 auc:0.7110\n",
      "epoch: 920 loss:0.305623 auc:0.7110\n",
      "epoch: 940 loss:0.305617 auc:0.7111\n",
      "epoch: 960 loss:0.305612 auc:0.7110\n"
     ]
    },
    {
     "name": "stderr",
     "output_type": "stream",
     "text": [
      " 28%|██▊       | 17/60 [00:55<04:05,  5.71s/it]"
     ]
    },
    {
     "name": "stdout",
     "output_type": "stream",
     "text": [
      "epoch: 980 loss:0.305607 auc:0.7111\n",
      "Fit finished.\n",
      "epoch:   0 loss:0.776616 auc:0.4984\n",
      "epoch:  20 loss:0.560500 auc:0.6962\n",
      "epoch:  40 loss:0.440277 auc:0.7742\n",
      "epoch:  60 loss:0.371337 auc:0.7715\n",
      "epoch:  80 loss:0.342896 auc:0.7666\n",
      "epoch: 100 loss:0.329459 auc:0.7674\n",
      "epoch: 120 loss:0.322169 auc:0.7663\n",
      "epoch: 140 loss:0.317728 auc:0.7658\n",
      "epoch: 160 loss:0.314751 auc:0.7657\n",
      "epoch: 180 loss:0.312648 auc:0.7665\n"
     ]
    },
    {
     "name": "stderr",
     "output_type": "stream",
     "text": [
      " 30%|███       | 18/60 [00:58<03:27,  4.95s/it]"
     ]
    },
    {
     "name": "stdout",
     "output_type": "stream",
     "text": [
      "epoch: 200 loss:0.311126 auc:0.7670\n",
      "Fit finished.\n",
      "epoch:   0 loss:0.920885 auc:0.4844\n",
      "epoch:  20 loss:0.589855 auc:0.5262\n",
      "epoch:  40 loss:0.507317 auc:0.5232\n",
      "epoch:  60 loss:0.422384 auc:0.4843\n",
      "epoch:  80 loss:0.374631 auc:0.4776\n",
      "epoch: 100 loss:0.350574 auc:0.4745\n",
      "epoch: 120 loss:0.336920 auc:0.4713\n"
     ]
    },
    {
     "name": "stderr",
     "output_type": "stream",
     "text": [
      " 32%|███▏      | 19/60 [01:01<02:57,  4.32s/it]"
     ]
    },
    {
     "name": "stdout",
     "output_type": "stream",
     "text": [
      "epoch: 140 loss:0.328264 auc:0.4685\n",
      "epoch: 160 loss:0.322526 auc:0.4664\n",
      "Fit finished.\n",
      "epoch:   0 loss:0.845982 auc:0.4923\n",
      "epoch:  20 loss:0.588322 auc:0.6167\n",
      "epoch:  40 loss:0.516062 auc:0.6545\n",
      "epoch:  60 loss:0.420382 auc:0.7100\n",
      "epoch:  80 loss:0.370284 auc:0.7306\n",
      "epoch: 100 loss:0.345051 auc:0.7328\n",
      "epoch: 120 loss:0.331913 auc:0.7278\n",
      "epoch: 140 loss:0.324302 auc:0.7260\n",
      "epoch: 160 loss:0.319491 auc:0.7250\n",
      "epoch: 180 loss:0.316266 auc:0.7239\n",
      "epoch: 200 loss:0.313993 auc:0.7236\n",
      "epoch: 220 loss:0.312342 auc:0.7239\n"
     ]
    },
    {
     "name": "stderr",
     "output_type": "stream",
     "text": [
      " 33%|███▎      | 20/60 [01:04<02:43,  4.10s/it]"
     ]
    },
    {
     "name": "stdout",
     "output_type": "stream",
     "text": [
      "epoch: 240 loss:0.311103 auc:0.7243\n",
      "Fit finished.\n",
      "epoch:   0 loss:0.817473 auc:0.5028\n",
      "epoch:  20 loss:0.594271 auc:0.6045\n",
      "epoch:  40 loss:0.512952 auc:0.5482\n",
      "epoch:  60 loss:0.416615 auc:0.4790\n",
      "epoch:  80 loss:0.370015 auc:0.4565\n",
      "epoch: 100 loss:0.346970 auc:0.4514\n",
      "epoch: 120 loss:0.333749 auc:0.4506\n",
      "epoch: 140 loss:0.325598 auc:0.4541\n"
     ]
    },
    {
     "name": "stderr",
     "output_type": "stream",
     "text": [
      " 35%|███▌      | 21/60 [01:07<02:25,  3.74s/it]"
     ]
    },
    {
     "name": "stdout",
     "output_type": "stream",
     "text": [
      "epoch: 160 loss:0.320352 auc:0.4559\n",
      "Fit finished.\n",
      "epoch:   0 loss:0.788897 auc:0.5252\n",
      "epoch:  20 loss:0.554398 auc:0.6645\n",
      "epoch:  40 loss:0.414892 auc:0.6606\n",
      "epoch:  60 loss:0.358299 auc:0.6661\n",
      "epoch:  80 loss:0.334879 auc:0.6843\n",
      "epoch: 100 loss:0.324094 auc:0.6901\n",
      "epoch: 120 loss:0.318161 auc:0.6892\n",
      "epoch: 140 loss:0.314535 auc:0.6881\n",
      "epoch: 160 loss:0.312228 auc:0.6899\n",
      "epoch: 180 loss:0.310688 auc:0.6920\n",
      "epoch: 200 loss:0.309612 auc:0.6931\n",
      "epoch: 220 loss:0.308831 auc:0.6935\n",
      "epoch: 240 loss:0.308254 auc:0.6930\n",
      "epoch: 260 loss:0.307820 auc:0.6930\n",
      "epoch: 280 loss:0.307488 auc:0.6927\n",
      "epoch: 300 loss:0.307232 auc:0.6923\n",
      "epoch: 320 loss:0.307032 auc:0.6919\n"
     ]
    },
    {
     "name": "stderr",
     "output_type": "stream",
     "text": [
      " 37%|███▋      | 22/60 [01:12<02:32,  4.01s/it]"
     ]
    },
    {
     "name": "stdout",
     "output_type": "stream",
     "text": [
      "epoch: 340 loss:0.306875 auc:0.6913\n",
      "Fit finished.\n",
      "epoch:   0 loss:0.800003 auc:0.4918\n",
      "epoch:  20 loss:0.582826 auc:0.6659\n",
      "epoch:  40 loss:0.489619 auc:0.6314\n",
      "epoch:  60 loss:0.406848 auc:0.6201\n",
      "epoch:  80 loss:0.365590 auc:0.6072\n",
      "epoch: 100 loss:0.343632 auc:0.5996\n",
      "epoch: 120 loss:0.331441 auc:0.5939\n",
      "epoch: 140 loss:0.324242 auc:0.5928\n"
     ]
    },
    {
     "name": "stderr",
     "output_type": "stream",
     "text": [
      " 38%|███▊      | 23/60 [01:15<02:18,  3.73s/it]"
     ]
    },
    {
     "name": "stdout",
     "output_type": "stream",
     "text": [
      "epoch: 160 loss:0.319654 auc:0.5929\n",
      "epoch: 180 loss:0.316503 auc:0.5935\n",
      "Fit finished.\n",
      "epoch:   0 loss:0.787604 auc:0.5203\n",
      "epoch:  20 loss:0.578243 auc:0.5655\n",
      "epoch:  40 loss:0.481886 auc:0.6815\n",
      "epoch:  60 loss:0.396333 auc:0.7008\n",
      "epoch:  80 loss:0.356578 auc:0.7229\n",
      "epoch: 100 loss:0.337694 auc:0.7327\n",
      "epoch: 120 loss:0.327632 auc:0.7302\n",
      "epoch: 140 loss:0.321499 auc:0.7279\n",
      "epoch: 160 loss:0.317401 auc:0.7267\n",
      "epoch: 180 loss:0.314539 auc:0.7250\n",
      "epoch: 200 loss:0.312489 auc:0.7238\n"
     ]
    },
    {
     "name": "stderr",
     "output_type": "stream",
     "text": [
      " 40%|████      | 24/60 [01:18<02:12,  3.68s/it]"
     ]
    },
    {
     "name": "stdout",
     "output_type": "stream",
     "text": [
      "epoch: 220 loss:0.310986 auc:0.7220\n",
      "epoch: 240 loss:0.309861 auc:0.7204\n",
      "Fit finished.\n",
      "epoch:   0 loss:0.942379 auc:0.5025\n",
      "epoch:  20 loss:0.594688 auc:0.6259\n",
      "epoch:  40 loss:0.512284 auc:0.5487\n",
      "epoch:  60 loss:0.423233 auc:0.4874\n",
      "epoch:  80 loss:0.375371 auc:0.4361\n",
      "epoch: 100 loss:0.349817 auc:0.4210\n",
      "epoch: 120 loss:0.335265 auc:0.4164\n",
      "epoch: 140 loss:0.326582 auc:0.4110\n"
     ]
    },
    {
     "name": "stderr",
     "output_type": "stream",
     "text": [
      " 42%|████▏     | 25/60 [01:22<02:01,  3.49s/it]"
     ]
    },
    {
     "name": "stdout",
     "output_type": "stream",
     "text": [
      "epoch: 160 loss:0.321107 auc:0.4089\n",
      "Fit finished.\n",
      "epoch:   0 loss:0.814387 auc:0.4106\n",
      "epoch:  20 loss:0.600209 auc:0.5044\n",
      "epoch:  40 loss:0.536142 auc:0.4863\n",
      "epoch:  60 loss:0.440618 auc:0.4608\n",
      "epoch:  80 loss:0.384659 auc:0.4574\n",
      "epoch: 100 loss:0.355624 auc:0.4600\n",
      "epoch: 120 loss:0.339341 auc:0.4646\n",
      "epoch: 140 loss:0.329792 auc:0.4681\n"
     ]
    },
    {
     "name": "stderr",
     "output_type": "stream",
     "text": [
      " 43%|████▎     | 26/60 [01:25<01:56,  3.42s/it]"
     ]
    },
    {
     "name": "stdout",
     "output_type": "stream",
     "text": [
      "epoch: 160 loss:0.323816 auc:0.4712\n",
      "epoch: 180 loss:0.319795 auc:0.4740\n",
      "Fit finished.\n",
      "epoch:   0 loss:0.772467 auc:0.4836\n",
      "epoch:  20 loss:0.574582 auc:0.6089\n",
      "epoch:  40 loss:0.455299 auc:0.6635\n",
      "epoch:  60 loss:0.380010 auc:0.6713\n",
      "epoch:  80 loss:0.347599 auc:0.6702\n",
      "epoch: 100 loss:0.332311 auc:0.6723\n",
      "epoch: 120 loss:0.324055 auc:0.6719\n",
      "epoch: 140 loss:0.319030 auc:0.6708\n",
      "epoch: 160 loss:0.315732 auc:0.6697\n",
      "epoch: 180 loss:0.313459 auc:0.6680\n",
      "epoch: 200 loss:0.311833 auc:0.6663\n"
     ]
    },
    {
     "name": "stderr",
     "output_type": "stream",
     "text": [
      " 45%|████▌     | 27/60 [01:28<01:53,  3.43s/it]"
     ]
    },
    {
     "name": "stdout",
     "output_type": "stream",
     "text": [
      "epoch: 220 loss:0.310641 auc:0.6648\n",
      "Fit finished.\n",
      "epoch:   0 loss:0.819108 auc:0.4839\n",
      "epoch:  20 loss:0.595292 auc:0.6648\n",
      "epoch:  40 loss:0.518655 auc:0.7546\n",
      "epoch:  60 loss:0.423322 auc:0.8334\n",
      "epoch:  80 loss:0.374583 auc:0.8709\n",
      "epoch: 100 loss:0.349800 auc:0.8767\n",
      "epoch: 120 loss:0.336315 auc:0.8770\n",
      "epoch: 140 loss:0.328121 auc:0.8789\n",
      "epoch: 160 loss:0.322695 auc:0.8773\n",
      "epoch: 180 loss:0.318935 auc:0.8746\n",
      "epoch: 200 loss:0.316258 auc:0.8721\n",
      "epoch: 220 loss:0.314301 auc:0.8675\n"
     ]
    },
    {
     "name": "stderr",
     "output_type": "stream",
     "text": [
      " 47%|████▋     | 28/60 [01:32<01:51,  3.48s/it]"
     ]
    },
    {
     "name": "stdout",
     "output_type": "stream",
     "text": [
      "epoch: 240 loss:0.312844 auc:0.8650\n",
      "Fit finished.\n",
      "epoch:   0 loss:0.806224 auc:0.4932\n",
      "epoch:  20 loss:0.589880 auc:0.6270\n",
      "epoch:  40 loss:0.502847 auc:0.5888\n",
      "epoch:  60 loss:0.417429 auc:0.5634\n",
      "epoch:  80 loss:0.371476 auc:0.5263\n",
      "epoch: 100 loss:0.348301 auc:0.5170\n",
      "epoch: 120 loss:0.335326 auc:0.5235\n",
      "epoch: 140 loss:0.327309 auc:0.5267\n",
      "epoch: 160 loss:0.321992 auc:0.5290\n"
     ]
    },
    {
     "name": "stderr",
     "output_type": "stream",
     "text": [
      " 48%|████▊     | 29/60 [01:35<01:44,  3.36s/it]"
     ]
    },
    {
     "name": "stdout",
     "output_type": "stream",
     "text": [
      "epoch: 180 loss:0.318324 auc:0.5319\n",
      "Fit finished.\n",
      "epoch:   0 loss:0.776440 auc:0.5040\n",
      "epoch:  20 loss:0.577238 auc:0.5564\n",
      "epoch:  40 loss:0.475227 auc:0.6175\n",
      "epoch:  60 loss:0.395067 auc:0.6221\n",
      "epoch:  80 loss:0.357428 auc:0.6197\n",
      "epoch: 100 loss:0.338828 auc:0.6192\n",
      "epoch: 120 loss:0.328831 auc:0.6244\n",
      "epoch: 140 loss:0.322819 auc:0.6290\n",
      "epoch: 160 loss:0.318789 auc:0.6343\n",
      "epoch: 180 loss:0.315937 auc:0.6389\n",
      "epoch: 200 loss:0.313848 auc:0.6425\n",
      "epoch: 220 loss:0.312273 auc:0.6451\n",
      "epoch: 240 loss:0.311060 auc:0.6477\n",
      "epoch: 260 loss:0.310113 auc:0.6494\n",
      "epoch: 280 loss:0.309368 auc:0.6509\n",
      "epoch: 300 loss:0.308779 auc:0.6527\n",
      "epoch: 320 loss:0.308309 auc:0.6541\n",
      "epoch: 340 loss:0.307930 auc:0.6553\n",
      "epoch: 360 loss:0.307623 auc:0.6567\n",
      "epoch: 380 loss:0.307371 auc:0.6571\n",
      "epoch: 400 loss:0.307163 auc:0.6579\n",
      "epoch: 420 loss:0.306988 auc:0.6588\n",
      "epoch: 440 loss:0.306841 auc:0.6595\n",
      "epoch: 460 loss:0.306717 auc:0.6599\n",
      "epoch: 480 loss:0.306610 auc:0.6605\n",
      "epoch: 500 loss:0.306579 auc:0.6612\n",
      "epoch: 520 loss:0.306467 auc:0.6612\n",
      "epoch: 540 loss:0.306380 auc:0.6618\n",
      "epoch: 560 loss:0.306321 auc:0.6619\n",
      "epoch: 580 loss:0.306272 auc:0.6622\n",
      "epoch: 600 loss:0.306229 auc:0.6623\n",
      "epoch: 620 loss:0.306191 auc:0.6625\n",
      "epoch: 640 loss:0.306158 auc:0.6626\n",
      "epoch: 660 loss:0.306453 auc:0.6621\n",
      "epoch: 680 loss:0.306136 auc:0.6625\n",
      "epoch: 700 loss:0.306080 auc:0.6626\n",
      "epoch: 720 loss:0.306059 auc:0.6627\n",
      "epoch: 740 loss:0.306040 auc:0.6628\n",
      "epoch: 760 loss:0.306022 auc:0.6627\n",
      "epoch: 780 loss:0.306006 auc:0.6627\n",
      "epoch: 800 loss:0.305991 auc:0.6626\n",
      "epoch: 820 loss:0.305977 auc:0.6627\n"
     ]
    },
    {
     "name": "stderr",
     "output_type": "stream",
     "text": [
      " 50%|█████     | 30/60 [01:44<02:35,  5.19s/it]"
     ]
    },
    {
     "name": "stdout",
     "output_type": "stream",
     "text": [
      "epoch: 840 loss:0.305978 auc:0.6623\n",
      "Fit finished.\n",
      "epoch:   0 loss:0.809541 auc:0.4845\n",
      "epoch:  20 loss:0.594470 auc:0.5921\n",
      "epoch:  40 loss:0.512205 auc:0.5663\n",
      "epoch:  60 loss:0.415153 auc:0.5460\n",
      "epoch:  80 loss:0.369613 auc:0.5535\n",
      "epoch: 100 loss:0.345277 auc:0.5593\n",
      "epoch: 120 loss:0.332352 auc:0.5543\n",
      "epoch: 140 loss:0.324925 auc:0.5510\n"
     ]
    },
    {
     "name": "stderr",
     "output_type": "stream",
     "text": [
      " 52%|█████▏    | 31/60 [01:48<02:12,  4.58s/it]"
     ]
    },
    {
     "name": "stdout",
     "output_type": "stream",
     "text": [
      "epoch: 160 loss:0.320097 auc:0.5489\n",
      "epoch: 180 loss:0.316729 auc:0.5477\n",
      "Fit finished.\n",
      "epoch:   0 loss:0.802777 auc:0.4850\n",
      "epoch:  20 loss:0.575069 auc:0.6817\n",
      "epoch:  40 loss:0.465483 auc:0.6054\n",
      "epoch:  60 loss:0.385025 auc:0.6162\n",
      "epoch:  80 loss:0.348752 auc:0.6320\n",
      "epoch: 100 loss:0.331819 auc:0.6394\n",
      "epoch: 120 loss:0.323094 auc:0.6432\n",
      "epoch: 140 loss:0.318091 auc:0.6441\n",
      "epoch: 160 loss:0.314946 auc:0.6432\n"
     ]
    },
    {
     "name": "stderr",
     "output_type": "stream",
     "text": [
      " 53%|█████▎    | 32/60 [01:51<01:55,  4.14s/it]"
     ]
    },
    {
     "name": "stdout",
     "output_type": "stream",
     "text": [
      "epoch: 180 loss:0.312818 auc:0.6421\n",
      "Fit finished.\n",
      "epoch:   0 loss:0.874680 auc:0.4466\n",
      "epoch:  20 loss:0.595418 auc:0.4724\n",
      "epoch:  40 loss:0.509853 auc:0.4908\n",
      "epoch:  60 loss:0.423972 auc:0.5389\n",
      "epoch:  80 loss:0.373776 auc:0.5667\n",
      "epoch: 100 loss:0.349502 auc:0.5694\n",
      "epoch: 120 loss:0.336156 auc:0.5757\n",
      "epoch: 140 loss:0.327900 auc:0.5786\n",
      "epoch: 160 loss:0.322458 auc:0.5811\n",
      "epoch: 180 loss:0.318720 auc:0.5811\n",
      "epoch: 200 loss:0.316050 auc:0.5814\n",
      "epoch: 220 loss:0.314078 auc:0.5802\n",
      "epoch: 240 loss:0.312575 auc:0.5785\n",
      "epoch: 260 loss:0.311407 auc:0.5770\n",
      "epoch: 280 loss:0.310482 auc:0.5763\n"
     ]
    },
    {
     "name": "stderr",
     "output_type": "stream",
     "text": [
      " 55%|█████▌    | 33/60 [01:55<01:52,  4.18s/it]"
     ]
    },
    {
     "name": "stdout",
     "output_type": "stream",
     "text": [
      "epoch: 300 loss:0.309741 auc:0.5756\n",
      "Fit finished.\n",
      "epoch:   0 loss:0.806975 auc:0.4636\n",
      "epoch:  20 loss:0.601917 auc:0.7069\n",
      "epoch:  40 loss:0.550402 auc:0.6660\n",
      "epoch:  60 loss:0.460170 auc:0.6103\n",
      "epoch:  80 loss:0.393158 auc:0.5850\n",
      "epoch: 100 loss:0.358636 auc:0.5723\n",
      "epoch: 120 loss:0.340518 auc:0.5649\n",
      "epoch: 140 loss:0.330257 auc:0.5633\n",
      "epoch: 160 loss:0.324081 auc:0.5655\n"
     ]
    },
    {
     "name": "stderr",
     "output_type": "stream",
     "text": [
      " 57%|█████▋    | 34/60 [01:58<01:41,  3.91s/it]"
     ]
    },
    {
     "name": "stdout",
     "output_type": "stream",
     "text": [
      "epoch: 180 loss:0.320067 auc:0.5675\n",
      "Fit finished.\n",
      "epoch:   0 loss:0.794827 auc:0.5206\n",
      "epoch:  20 loss:0.594779 auc:0.6291\n",
      "epoch:  40 loss:0.516252 auc:0.6017\n",
      "epoch:  60 loss:0.415750 auc:0.5937\n",
      "epoch:  80 loss:0.366726 auc:0.5963\n",
      "epoch: 100 loss:0.344177 auc:0.5919\n",
      "epoch: 120 loss:0.332301 auc:0.5905\n",
      "epoch: 140 loss:0.325010 auc:0.5899\n"
     ]
    },
    {
     "name": "stderr",
     "output_type": "stream",
     "text": [
      " 58%|█████▊    | 35/60 [02:01<01:31,  3.67s/it]"
     ]
    },
    {
     "name": "stdout",
     "output_type": "stream",
     "text": [
      "epoch: 160 loss:0.320105 auc:0.5863\n",
      "epoch: 180 loss:0.316672 auc:0.5835\n",
      "Fit finished.\n",
      "epoch:   0 loss:0.803243 auc:0.4925\n",
      "epoch:  20 loss:0.575931 auc:0.6207\n",
      "epoch:  40 loss:0.453681 auc:0.5361\n",
      "epoch:  60 loss:0.375353 auc:0.5338\n",
      "epoch:  80 loss:0.344672 auc:0.5539\n",
      "epoch: 100 loss:0.330285 auc:0.5543\n",
      "epoch: 120 loss:0.322543 auc:0.5508\n",
      "epoch: 140 loss:0.317905 auc:0.5477\n"
     ]
    },
    {
     "name": "stderr",
     "output_type": "stream",
     "text": [
      " 60%|██████    | 36/60 [02:04<01:24,  3.50s/it]"
     ]
    },
    {
     "name": "stdout",
     "output_type": "stream",
     "text": [
      "epoch: 160 loss:0.314848 auc:0.5461\n",
      "epoch: 180 loss:0.312727 auc:0.5437\n",
      "Fit finished.\n",
      "epoch:   0 loss:0.787427 auc:0.5142\n",
      "epoch:  20 loss:0.564954 auc:0.5233\n",
      "epoch:  40 loss:0.429032 auc:0.6200\n",
      "epoch:  60 loss:0.361490 auc:0.6379\n",
      "epoch:  80 loss:0.336315 auc:0.6493\n",
      "epoch: 100 loss:0.325090 auc:0.6484\n",
      "epoch: 120 loss:0.319175 auc:0.6462\n",
      "epoch: 140 loss:0.315594 auc:0.6451\n",
      "epoch: 160 loss:0.313190 auc:0.6462\n",
      "epoch: 180 loss:0.311462 auc:0.6469\n",
      "epoch: 200 loss:0.310174 auc:0.6464\n",
      "epoch: 220 loss:0.309192 auc:0.6464\n"
     ]
    },
    {
     "name": "stderr",
     "output_type": "stream",
     "text": [
      " 62%|██████▏   | 37/60 [02:08<01:22,  3.57s/it]"
     ]
    },
    {
     "name": "stdout",
     "output_type": "stream",
     "text": [
      "epoch: 240 loss:0.308438 auc:0.6463\n",
      "Fit finished.\n",
      "epoch:   0 loss:0.799650 auc:0.4747\n",
      "epoch:  20 loss:0.575175 auc:0.5221\n",
      "epoch:  40 loss:0.448071 auc:0.5742\n",
      "epoch:  60 loss:0.375698 auc:0.5663\n",
      "epoch:  80 loss:0.344792 auc:0.5511\n",
      "epoch: 100 loss:0.330174 auc:0.5445\n",
      "epoch: 120 loss:0.322510 auc:0.5434\n",
      "epoch: 140 loss:0.318047 auc:0.5447\n",
      "epoch: 160 loss:0.315157 auc:0.5471\n"
     ]
    },
    {
     "name": "stderr",
     "output_type": "stream",
     "text": [
      " 63%|██████▎   | 38/60 [02:11<01:16,  3.47s/it]"
     ]
    },
    {
     "name": "stdout",
     "output_type": "stream",
     "text": [
      "epoch: 180 loss:0.313153 auc:0.5483\n",
      "epoch: 200 loss:0.311713 auc:0.5489\n",
      "Fit finished.\n",
      "epoch:   0 loss:0.848977 auc:0.4856\n",
      "epoch:  20 loss:0.596305 auc:0.6754\n",
      "epoch:  40 loss:0.521184 auc:0.6954\n",
      "epoch:  60 loss:0.418988 auc:0.7329\n",
      "epoch:  80 loss:0.368554 auc:0.7136\n",
      "epoch: 100 loss:0.344973 auc:0.7016\n",
      "epoch: 120 loss:0.332074 auc:0.6981\n",
      "epoch: 140 loss:0.324453 auc:0.6978\n",
      "epoch: 160 loss:0.319637 auc:0.6984\n",
      "epoch: 180 loss:0.316378 auc:0.6983\n"
     ]
    },
    {
     "name": "stderr",
     "output_type": "stream",
     "text": [
      " 65%|██████▌   | 39/60 [02:15<01:13,  3.50s/it]"
     ]
    },
    {
     "name": "stdout",
     "output_type": "stream",
     "text": [
      "epoch: 200 loss:0.314054 auc:0.6981\n",
      "epoch: 220 loss:0.312341 auc:0.6972\n",
      "Fit finished.\n",
      "epoch:   0 loss:0.816339 auc:0.5626\n",
      "epoch:  20 loss:0.588185 auc:0.6133\n",
      "epoch:  40 loss:0.494801 auc:0.6044\n",
      "epoch:  60 loss:0.415948 auc:0.5887\n",
      "epoch:  80 loss:0.369969 auc:0.5690\n",
      "epoch: 100 loss:0.345630 auc:0.5562\n",
      "epoch: 120 loss:0.332557 auc:0.5495\n",
      "epoch: 140 loss:0.324893 auc:0.5451\n"
     ]
    },
    {
     "name": "stderr",
     "output_type": "stream",
     "text": [
      " 67%|██████▋   | 40/60 [02:18<01:07,  3.39s/it]"
     ]
    },
    {
     "name": "stdout",
     "output_type": "stream",
     "text": [
      "epoch: 160 loss:0.320006 auc:0.5446\n",
      "Fit finished.\n",
      "epoch:   0 loss:0.791285 auc:0.4987\n",
      "epoch:  20 loss:0.594138 auc:0.6343\n",
      "epoch:  40 loss:0.525070 auc:0.6416\n",
      "epoch:  60 loss:0.433664 auc:0.6467\n",
      "epoch:  80 loss:0.387463 auc:0.6547\n",
      "epoch: 100 loss:0.360504 auc:0.6580\n",
      "epoch: 120 loss:0.343641 auc:0.6658\n",
      "epoch: 140 loss:0.333180 auc:0.6713\n",
      "epoch: 160 loss:0.326289 auc:0.6748\n",
      "epoch: 180 loss:0.321496 auc:0.6771\n",
      "epoch: 200 loss:0.318059 auc:0.6787\n",
      "epoch: 220 loss:0.315527 auc:0.6799\n",
      "epoch: 240 loss:0.313618 auc:0.6807\n",
      "epoch: 260 loss:0.312149 auc:0.6813\n",
      "epoch: 280 loss:0.311004 auc:0.6815\n",
      "epoch: 300 loss:0.310098 auc:0.6818\n",
      "epoch: 320 loss:0.309373 auc:0.6816\n",
      "epoch: 340 loss:0.308786 auc:0.6818\n",
      "epoch: 360 loss:0.308303 auc:0.6818\n",
      "epoch: 380 loss:0.307902 auc:0.6817\n",
      "epoch: 400 loss:0.307565 auc:0.6821\n",
      "epoch: 420 loss:0.307275 auc:0.6820\n",
      "epoch: 440 loss:0.307023 auc:0.6821\n",
      "epoch: 460 loss:0.306802 auc:0.6822\n",
      "epoch: 480 loss:0.306608 auc:0.6821\n"
     ]
    },
    {
     "name": "stderr",
     "output_type": "stream",
     "text": [
      " 68%|██████▊   | 41/60 [02:25<01:23,  4.42s/it]"
     ]
    },
    {
     "name": "stdout",
     "output_type": "stream",
     "text": [
      "epoch: 500 loss:0.306437 auc:0.6817\n",
      "Fit finished.\n",
      "epoch:   0 loss:0.793543 auc:0.4839\n",
      "epoch:  20 loss:0.576929 auc:0.5802\n",
      "epoch:  40 loss:0.469760 auc:0.6235\n",
      "epoch:  60 loss:0.395385 auc:0.6367\n",
      "epoch:  80 loss:0.356711 auc:0.6357\n",
      "epoch: 100 loss:0.337554 auc:0.6350\n",
      "epoch: 120 loss:0.326989 auc:0.6365\n",
      "epoch: 140 loss:0.320492 auc:0.6382\n",
      "epoch: 160 loss:0.316282 auc:0.6377\n",
      "epoch: 180 loss:0.313463 auc:0.6361\n"
     ]
    },
    {
     "name": "stderr",
     "output_type": "stream",
     "text": [
      " 70%|███████   | 42/60 [02:29<01:15,  4.19s/it]"
     ]
    },
    {
     "name": "stdout",
     "output_type": "stream",
     "text": [
      "epoch: 200 loss:0.311513 auc:0.6353\n",
      "epoch: 220 loss:0.310115 auc:0.6344\n",
      "Fit finished.\n",
      "epoch:   0 loss:0.788880 auc:0.4914\n",
      "epoch:  20 loss:0.574314 auc:0.6375\n",
      "epoch:  40 loss:0.464995 auc:0.5823\n",
      "epoch:  60 loss:0.387790 auc:0.6564\n",
      "epoch:  80 loss:0.351771 auc:0.6670\n",
      "epoch: 100 loss:0.334206 auc:0.6706\n",
      "epoch: 120 loss:0.324851 auc:0.6722\n",
      "epoch: 140 loss:0.319400 auc:0.6745\n",
      "epoch: 160 loss:0.315962 auc:0.6759\n",
      "epoch: 180 loss:0.313672 auc:0.6790\n",
      "epoch: 200 loss:0.312071 auc:0.6821\n",
      "epoch: 220 loss:0.310909 auc:0.6855\n",
      "epoch: 240 loss:0.310041 auc:0.6882\n",
      "epoch: 260 loss:0.309374 auc:0.6900\n",
      "epoch: 280 loss:0.308847 auc:0.6925\n",
      "epoch: 300 loss:0.308422 auc:0.6943\n",
      "epoch: 320 loss:0.308075 auc:0.6960\n",
      "epoch: 340 loss:0.307790 auc:0.6972\n",
      "epoch: 360 loss:0.307554 auc:0.6983\n",
      "epoch: 380 loss:0.307490 auc:0.7011\n",
      "epoch: 400 loss:0.307198 auc:0.7011\n",
      "epoch: 420 loss:0.307062 auc:0.7018\n",
      "epoch: 440 loss:0.306943 auc:0.7028\n",
      "epoch: 460 loss:0.306845 auc:0.7035\n",
      "epoch: 480 loss:0.306762 auc:0.7041\n",
      "epoch: 500 loss:0.306700 auc:0.7045\n",
      "epoch: 520 loss:0.306630 auc:0.7057\n",
      "epoch: 540 loss:0.306576 auc:0.7064\n",
      "epoch: 560 loss:0.306531 auc:0.7067\n",
      "epoch: 580 loss:0.306492 auc:0.7071\n",
      "epoch: 600 loss:0.306849 auc:0.7117\n",
      "epoch: 620 loss:0.306430 auc:0.7088\n",
      "epoch: 640 loss:0.306406 auc:0.7092\n",
      "epoch: 660 loss:0.306382 auc:0.7099\n",
      "epoch: 680 loss:0.306361 auc:0.7104\n",
      "epoch: 700 loss:0.306343 auc:0.7108\n",
      "epoch: 720 loss:0.306326 auc:0.7112\n",
      "epoch: 740 loss:0.306311 auc:0.7115\n",
      "epoch: 760 loss:0.306297 auc:0.7120\n",
      "epoch: 780 loss:0.306293 auc:0.7121\n",
      "epoch: 800 loss:0.306277 auc:0.7118\n",
      "epoch: 820 loss:0.306264 auc:0.7126\n",
      "epoch: 840 loss:0.306251 auc:0.7124\n",
      "epoch: 860 loss:0.306240 auc:0.7130\n",
      "epoch: 880 loss:0.306231 auc:0.7136\n",
      "epoch: 900 loss:0.306260 auc:0.7155\n",
      "epoch: 920 loss:0.306218 auc:0.7149\n",
      "epoch: 940 loss:0.306213 auc:0.7151\n",
      "epoch: 960 loss:0.306203 auc:0.7157\n",
      "epoch: 980 loss:0.306198 auc:0.7159\n"
     ]
    },
    {
     "name": "stderr",
     "output_type": "stream",
     "text": [
      " 72%|███████▏  | 43/60 [02:40<01:48,  6.39s/it]"
     ]
    },
    {
     "name": "stdout",
     "output_type": "stream",
     "text": [
      "Fit finished.\n",
      "epoch:   0 loss:0.786064 auc:0.4988\n",
      "epoch:  20 loss:0.576536 auc:0.5920\n",
      "epoch:  40 loss:0.468651 auc:0.5276\n",
      "epoch:  60 loss:0.395672 auc:0.5599\n",
      "epoch:  80 loss:0.358813 auc:0.5713\n",
      "epoch: 100 loss:0.339808 auc:0.5694\n",
      "epoch: 120 loss:0.329027 auc:0.5708\n",
      "epoch: 140 loss:0.322447 auc:0.5740\n",
      "epoch: 160 loss:0.318237 auc:0.5773\n"
     ]
    },
    {
     "name": "stderr",
     "output_type": "stream",
     "text": [
      " 73%|███████▎  | 44/60 [02:43<01:26,  5.39s/it]"
     ]
    },
    {
     "name": "stdout",
     "output_type": "stream",
     "text": [
      "epoch: 180 loss:0.315381 auc:0.5794\n",
      "Fit finished.\n",
      "epoch:   0 loss:0.786920 auc:0.4815\n",
      "epoch:  20 loss:0.551414 auc:0.6392\n",
      "epoch:  40 loss:0.428096 auc:0.6061\n",
      "epoch:  60 loss:0.363568 auc:0.6379\n",
      "epoch:  80 loss:0.336996 auc:0.6491\n",
      "epoch: 100 loss:0.324696 auc:0.6512\n",
      "epoch: 120 loss:0.318398 auc:0.6505\n",
      "epoch: 140 loss:0.314750 auc:0.6489\n",
      "epoch: 160 loss:0.312428 auc:0.6476\n",
      "epoch: 180 loss:0.310856 auc:0.6469\n",
      "epoch: 200 loss:0.309739 auc:0.6464\n",
      "epoch: 220 loss:0.308915 auc:0.6454\n"
     ]
    },
    {
     "name": "stderr",
     "output_type": "stream",
     "text": [
      " 75%|███████▌  | 45/60 [02:47<01:14,  4.96s/it]"
     ]
    },
    {
     "name": "stdout",
     "output_type": "stream",
     "text": [
      "epoch: 240 loss:0.308292 auc:0.6450\n",
      "Fit finished.\n",
      "epoch:   0 loss:0.809237 auc:0.5199\n",
      "epoch:  20 loss:0.596082 auc:0.6143\n",
      "epoch:  40 loss:0.521689 auc:0.6655\n",
      "epoch:  60 loss:0.430652 auc:0.6915\n",
      "epoch:  80 loss:0.378541 auc:0.6991\n",
      "epoch: 100 loss:0.352253 auc:0.6946\n",
      "epoch: 120 loss:0.337594 auc:0.6925\n",
      "epoch: 140 loss:0.328612 auc:0.6918\n",
      "epoch: 160 loss:0.322849 auc:0.6904\n",
      "epoch: 180 loss:0.318926 auc:0.6897\n",
      "epoch: 200 loss:0.316107 auc:0.6894\n",
      "epoch: 220 loss:0.314009 auc:0.6884\n",
      "Fit finished.\n"
     ]
    },
    {
     "name": "stderr",
     "output_type": "stream",
     "text": [
      " 77%|███████▋  | 46/60 [02:51<01:04,  4.60s/it]"
     ]
    },
    {
     "name": "stdout",
     "output_type": "stream",
     "text": [
      "epoch:   0 loss:0.809637 auc:0.5294\n",
      "epoch:  20 loss:0.602214 auc:0.5410\n",
      "epoch:  40 loss:0.540159 auc:0.6206\n",
      "epoch:  60 loss:0.436419 auc:0.7308\n",
      "epoch:  80 loss:0.377198 auc:0.7373\n",
      "epoch: 100 loss:0.349853 auc:0.7274\n",
      "epoch: 120 loss:0.336111 auc:0.7279\n",
      "epoch: 140 loss:0.328051 auc:0.7226\n",
      "epoch: 160 loss:0.322832 auc:0.7220\n",
      "epoch: 180 loss:0.319221 auc:0.7235\n"
     ]
    },
    {
     "name": "stderr",
     "output_type": "stream",
     "text": [
      " 78%|███████▊  | 47/60 [02:54<00:55,  4.26s/it]"
     ]
    },
    {
     "name": "stdout",
     "output_type": "stream",
     "text": [
      "epoch: 200 loss:0.316588 auc:0.7250\n",
      "epoch: 220 loss:0.314601 auc:0.7267\n",
      "Fit finished.\n",
      "epoch:   0 loss:0.789638 auc:0.4699\n",
      "epoch:  20 loss:0.597470 auc:0.6365\n",
      "epoch:  40 loss:0.542755 auc:0.6674\n",
      "epoch:  60 loss:0.447712 auc:0.6912\n",
      "epoch:  80 loss:0.390897 auc:0.6950\n",
      "epoch: 100 loss:0.360715 auc:0.6981\n",
      "epoch: 120 loss:0.343356 auc:0.7014\n",
      "epoch: 140 loss:0.332947 auc:0.7021\n",
      "epoch: 160 loss:0.326219 auc:0.7017\n",
      "epoch: 180 loss:0.321613 auc:0.7020\n",
      "epoch: 200 loss:0.318311 auc:0.7027\n",
      "epoch: 220 loss:0.315855 auc:0.7032\n",
      "epoch: 240 loss:0.313978 auc:0.7038\n",
      "epoch: 260 loss:0.312518 auc:0.7036\n",
      "epoch: 280 loss:0.311357 auc:0.7035\n",
      "epoch: 300 loss:0.310420 auc:0.7031\n"
     ]
    },
    {
     "name": "stderr",
     "output_type": "stream",
     "text": [
      " 80%|████████  | 48/60 [02:59<00:52,  4.39s/it]"
     ]
    },
    {
     "name": "stdout",
     "output_type": "stream",
     "text": [
      "epoch: 320 loss:0.309655 auc:0.7023\n",
      "epoch: 340 loss:0.309027 auc:0.7016\n",
      "Fit finished.\n",
      "epoch:   0 loss:0.845455 auc:0.4598\n",
      "epoch:  20 loss:0.594165 auc:0.5781\n",
      "epoch:  40 loss:0.536275 auc:0.5701\n",
      "epoch:  60 loss:0.435458 auc:0.5957\n",
      "epoch:  80 loss:0.378627 auc:0.6161\n",
      "epoch: 100 loss:0.350744 auc:0.6240\n",
      "epoch: 120 loss:0.335951 auc:0.6272\n",
      "epoch: 140 loss:0.327188 auc:0.6308\n",
      "epoch: 160 loss:0.321583 auc:0.6329\n",
      "epoch: 180 loss:0.317816 auc:0.6346\n",
      "epoch: 200 loss:0.315156 auc:0.6359\n",
      "epoch: 220 loss:0.313193 auc:0.6365\n",
      "epoch: 240 loss:0.311697 auc:0.6369\n",
      "epoch: 260 loss:0.310532 auc:0.6374\n",
      "epoch: 280 loss:0.309608 auc:0.6381\n",
      "epoch: 300 loss:0.308866 auc:0.6388\n",
      "epoch: 320 loss:0.308264 auc:0.6397\n",
      "epoch: 340 loss:0.307774 auc:0.6404\n",
      "epoch: 360 loss:0.307374 auc:0.6412\n",
      "epoch: 380 loss:0.307045 auc:0.6420\n",
      "epoch: 400 loss:0.306773 auc:0.6429\n",
      "epoch: 420 loss:0.306546 auc:0.6438\n",
      "epoch: 440 loss:0.306354 auc:0.6445\n",
      "epoch: 460 loss:0.306189 auc:0.6454\n",
      "epoch: 480 loss:0.306046 auc:0.6459\n",
      "epoch: 500 loss:0.305922 auc:0.6465\n",
      "epoch: 520 loss:0.305814 auc:0.6470\n",
      "epoch: 540 loss:0.305718 auc:0.6474\n",
      "epoch: 560 loss:0.305635 auc:0.6477\n",
      "epoch: 580 loss:0.305561 auc:0.6481\n",
      "epoch: 600 loss:0.305497 auc:0.6484\n",
      "epoch: 620 loss:0.305440 auc:0.6485\n",
      "epoch: 640 loss:0.305390 auc:0.6486\n",
      "epoch: 660 loss:0.305464 auc:0.6483\n",
      "epoch: 680 loss:0.305318 auc:0.6489\n",
      "epoch: 700 loss:0.305275 auc:0.6488\n",
      "epoch: 720 loss:0.305242 auc:0.6490\n",
      "epoch: 740 loss:0.305214 auc:0.6490\n",
      "epoch: 760 loss:0.305189 auc:0.6491\n",
      "epoch: 780 loss:0.305167 auc:0.6493\n",
      "epoch: 800 loss:0.305149 auc:0.6494\n",
      "epoch: 820 loss:0.305205 auc:0.6494\n",
      "epoch: 840 loss:0.305114 auc:0.6491\n",
      "epoch: 860 loss:0.305101 auc:0.6491\n",
      "epoch: 880 loss:0.305087 auc:0.6491\n",
      "epoch: 900 loss:0.305076 auc:0.6491\n"
     ]
    },
    {
     "name": "stderr",
     "output_type": "stream",
     "text": [
      " 82%|████████▏ | 49/60 [03:10<01:10,  6.38s/it]"
     ]
    },
    {
     "name": "stdout",
     "output_type": "stream",
     "text": [
      "epoch: 920 loss:0.305066 auc:0.6490\n",
      "Fit finished.\n",
      "epoch:   0 loss:0.783624 auc:0.4736\n",
      "epoch:  20 loss:0.586250 auc:0.6023\n",
      "epoch:  40 loss:0.500204 auc:0.6280\n",
      "epoch:  60 loss:0.411469 auc:0.6914\n",
      "epoch:  80 loss:0.366001 auc:0.7078\n",
      "epoch: 100 loss:0.343153 auc:0.7088\n",
      "epoch: 120 loss:0.330789 auc:0.7078\n",
      "epoch: 140 loss:0.323561 auc:0.7077\n",
      "epoch: 160 loss:0.318962 auc:0.7086\n",
      "epoch: 180 loss:0.315798 auc:0.7091\n",
      "epoch: 200 loss:0.313521 auc:0.7098\n",
      "epoch: 220 loss:0.311838 auc:0.7105\n",
      "epoch: 240 loss:0.310566 auc:0.7116\n",
      "epoch: 260 loss:0.309593 auc:0.7125\n",
      "epoch: 280 loss:0.308839 auc:0.7136\n",
      "epoch: 300 loss:0.308247 auc:0.7144\n",
      "epoch: 320 loss:0.307774 auc:0.7148\n",
      "epoch: 340 loss:0.307391 auc:0.7152\n",
      "epoch: 360 loss:0.307079 auc:0.7153\n",
      "epoch: 380 loss:0.306822 auc:0.7153\n",
      "epoch: 400 loss:0.306610 auc:0.7150\n",
      "epoch: 420 loss:0.306432 auc:0.7149\n",
      "epoch: 440 loss:0.306282 auc:0.7142\n"
     ]
    },
    {
     "name": "stderr",
     "output_type": "stream",
     "text": [
      " 83%|████████▎ | 50/60 [03:17<01:04,  6.44s/it]"
     ]
    },
    {
     "name": "stdout",
     "output_type": "stream",
     "text": [
      "epoch: 460 loss:0.306158 auc:0.7137\n",
      "Fit finished.\n",
      "epoch:   0 loss:0.818002 auc:0.4835\n",
      "epoch:  20 loss:0.597566 auc:0.6538\n",
      "epoch:  40 loss:0.531830 auc:0.6841\n",
      "epoch:  60 loss:0.437200 auc:0.7165\n",
      "epoch:  80 loss:0.382936 auc:0.7219\n",
      "epoch: 100 loss:0.355632 auc:0.7142\n",
      "epoch: 120 loss:0.340317 auc:0.7053\n",
      "epoch: 140 loss:0.331123 auc:0.7003\n",
      "epoch: 160 loss:0.325223 auc:0.6976\n",
      "epoch: 180 loss:0.321153 auc:0.6981\n",
      "epoch: 200 loss:0.318186 auc:0.6992\n"
     ]
    },
    {
     "name": "stderr",
     "output_type": "stream",
     "text": [
      " 85%|████████▌ | 51/60 [03:21<00:51,  5.68s/it]"
     ]
    },
    {
     "name": "stdout",
     "output_type": "stream",
     "text": [
      "epoch: 220 loss:0.315949 auc:0.7011\n",
      "Fit finished.\n",
      "epoch:   0 loss:0.776168 auc:0.5240\n",
      "epoch:  20 loss:0.551677 auc:0.5758\n",
      "epoch:  40 loss:0.427790 auc:0.5818\n",
      "epoch:  60 loss:0.364652 auc:0.6318\n",
      "epoch:  80 loss:0.337533 auc:0.6456\n",
      "epoch: 100 loss:0.325566 auc:0.6478\n",
      "epoch: 120 loss:0.319366 auc:0.6493\n",
      "epoch: 140 loss:0.315654 auc:0.6496\n",
      "epoch: 160 loss:0.313217 auc:0.6481\n",
      "epoch: 180 loss:0.311524 auc:0.6470\n",
      "epoch: 200 loss:0.310301 auc:0.6469\n",
      "epoch: 220 loss:0.309387 auc:0.6473\n",
      "epoch: 240 loss:0.308691 auc:0.6475\n",
      "epoch: 260 loss:0.308154 auc:0.6479\n"
     ]
    },
    {
     "name": "stderr",
     "output_type": "stream",
     "text": [
      " 87%|████████▋ | 52/60 [03:25<00:41,  5.24s/it]"
     ]
    },
    {
     "name": "stdout",
     "output_type": "stream",
     "text": [
      "epoch: 280 loss:0.307731 auc:0.6486\n",
      "Fit finished.\n",
      "epoch:   0 loss:0.864061 auc:0.5012\n",
      "epoch:  20 loss:0.589060 auc:0.6417\n",
      "epoch:  40 loss:0.492242 auc:0.6010\n",
      "epoch:  60 loss:0.409969 auc:0.5849\n",
      "epoch:  80 loss:0.366457 auc:0.5616\n",
      "epoch: 100 loss:0.344069 auc:0.5430\n",
      "epoch: 120 loss:0.332004 auc:0.5274\n",
      "epoch: 140 loss:0.324877 auc:0.5233\n",
      "epoch: 160 loss:0.320260 auc:0.5239\n"
     ]
    },
    {
     "name": "stderr",
     "output_type": "stream",
     "text": [
      " 88%|████████▊ | 53/60 [03:28<00:32,  4.63s/it]"
     ]
    },
    {
     "name": "stdout",
     "output_type": "stream",
     "text": [
      "epoch: 180 loss:0.317101 auc:0.5241\n",
      "Fit finished.\n",
      "epoch:   0 loss:0.840751 auc:0.4851\n",
      "epoch:  20 loss:0.593890 auc:0.6170\n",
      "epoch:  40 loss:0.516723 auc:0.5779\n",
      "epoch:  60 loss:0.421132 auc:0.6154\n",
      "epoch:  80 loss:0.372395 auc:0.6202\n",
      "epoch: 100 loss:0.348469 auc:0.6123\n",
      "epoch: 120 loss:0.335184 auc:0.6089\n",
      "epoch: 140 loss:0.327231 auc:0.6093\n"
     ]
    },
    {
     "name": "stderr",
     "output_type": "stream",
     "text": [
      " 90%|█████████ | 54/60 [03:31<00:25,  4.20s/it]"
     ]
    },
    {
     "name": "stdout",
     "output_type": "stream",
     "text": [
      "epoch: 160 loss:0.322024 auc:0.6100\n",
      "epoch: 180 loss:0.318364 auc:0.6108\n",
      "Fit finished.\n",
      "epoch:   0 loss:0.790602 auc:0.4952\n",
      "epoch:  20 loss:0.579854 auc:0.5284\n",
      "epoch:  40 loss:0.479113 auc:0.4980\n",
      "epoch:  60 loss:0.394637 auc:0.4832\n",
      "epoch:  80 loss:0.356300 auc:0.4863\n",
      "epoch: 100 loss:0.337515 auc:0.4872\n",
      "epoch: 120 loss:0.327133 auc:0.4860\n"
     ]
    },
    {
     "name": "stderr",
     "output_type": "stream",
     "text": [
      " 92%|█████████▏| 55/60 [03:34<00:18,  3.79s/it]"
     ]
    },
    {
     "name": "stdout",
     "output_type": "stream",
     "text": [
      "epoch: 140 loss:0.320895 auc:0.4836\n",
      "epoch: 160 loss:0.316862 auc:0.4822\n",
      "Fit finished.\n",
      "epoch:   0 loss:0.773457 auc:0.4863\n",
      "epoch:  20 loss:0.577145 auc:0.4468\n",
      "epoch:  40 loss:0.463553 auc:0.5423\n",
      "epoch:  60 loss:0.379834 auc:0.4893\n",
      "epoch:  80 loss:0.346579 auc:0.4897\n",
      "epoch: 100 loss:0.331246 auc:0.4878\n",
      "epoch: 120 loss:0.323192 auc:0.4810\n",
      "epoch: 140 loss:0.318392 auc:0.4784\n"
     ]
    },
    {
     "name": "stderr",
     "output_type": "stream",
     "text": [
      " 93%|█████████▎| 56/60 [03:37<00:14,  3.57s/it]"
     ]
    },
    {
     "name": "stdout",
     "output_type": "stream",
     "text": [
      "epoch: 160 loss:0.315278 auc:0.4752\n",
      "Fit finished.\n",
      "epoch:   0 loss:0.790481 auc:0.4970\n",
      "epoch:  20 loss:0.582188 auc:0.6550\n",
      "epoch:  40 loss:0.484487 auc:0.6642\n",
      "epoch:  60 loss:0.397717 auc:0.6344\n",
      "epoch:  80 loss:0.357093 auc:0.6336\n",
      "epoch: 100 loss:0.337613 auc:0.6250\n",
      "epoch: 120 loss:0.327292 auc:0.6166\n",
      "epoch: 140 loss:0.321202 auc:0.6120\n",
      "epoch: 160 loss:0.317337 auc:0.6099\n"
     ]
    },
    {
     "name": "stderr",
     "output_type": "stream",
     "text": [
      " 95%|█████████▌| 57/60 [03:40<00:10,  3.50s/it]"
     ]
    },
    {
     "name": "stdout",
     "output_type": "stream",
     "text": [
      "epoch: 180 loss:0.314743 auc:0.6089\n",
      "Fit finished.\n",
      "epoch:   0 loss:0.775904 auc:0.5088\n",
      "epoch:  20 loss:0.562756 auc:0.6247\n",
      "epoch:  40 loss:0.434497 auc:0.7537\n",
      "epoch:  60 loss:0.365863 auc:0.7876\n",
      "epoch:  80 loss:0.339062 auc:0.8055\n",
      "epoch: 100 loss:0.327071 auc:0.8068\n",
      "epoch: 120 loss:0.320649 auc:0.8066\n",
      "epoch: 140 loss:0.316758 auc:0.8051\n",
      "epoch: 160 loss:0.314229 auc:0.8053\n",
      "epoch: 180 loss:0.312491 auc:0.8056\n",
      "epoch: 200 loss:0.311237 auc:0.8073\n",
      "epoch: 220 loss:0.310306 auc:0.8080\n",
      "epoch: 240 loss:0.309591 auc:0.8089\n",
      "epoch: 260 loss:0.309023 auc:0.8096\n",
      "epoch: 280 loss:0.308559 auc:0.8104\n",
      "epoch: 300 loss:0.308175 auc:0.8109\n",
      "epoch: 320 loss:0.307855 auc:0.8114\n",
      "epoch: 340 loss:0.307589 auc:0.8111\n",
      "epoch: 360 loss:0.307370 auc:0.8110\n",
      "epoch: 380 loss:0.307969 auc:0.8105\n",
      "epoch: 400 loss:0.307069 auc:0.8103\n",
      "epoch: 420 loss:0.306941 auc:0.8098\n"
     ]
    },
    {
     "name": "stderr",
     "output_type": "stream",
     "text": [
      " 97%|█████████▋| 58/60 [03:47<00:08,  4.33s/it]"
     ]
    },
    {
     "name": "stdout",
     "output_type": "stream",
     "text": [
      "epoch: 440 loss:0.306837 auc:0.8096\n",
      "Fit finished.\n",
      "epoch:   0 loss:0.814019 auc:0.5026\n",
      "epoch:  20 loss:0.594926 auc:0.6569\n",
      "epoch:  40 loss:0.503303 auc:0.5720\n",
      "epoch:  60 loss:0.416907 auc:0.5629\n",
      "epoch:  80 loss:0.369802 auc:0.5865\n",
      "epoch: 100 loss:0.345203 auc:0.6191\n",
      "epoch: 120 loss:0.332156 auc:0.6292\n",
      "epoch: 140 loss:0.324277 auc:0.6337\n"
     ]
    },
    {
     "name": "stderr",
     "output_type": "stream",
     "text": [
      " 98%|█████████▊| 59/60 [03:50<00:03,  4.00s/it]"
     ]
    },
    {
     "name": "stdout",
     "output_type": "stream",
     "text": [
      "epoch: 160 loss:0.319217 auc:0.6321\n",
      "epoch: 180 loss:0.315849 auc:0.6304\n",
      "Fit finished.\n",
      "epoch:   0 loss:0.859999 auc:0.5298\n",
      "epoch:  20 loss:0.598566 auc:0.5176\n",
      "epoch:  40 loss:0.531452 auc:0.5549\n",
      "epoch:  60 loss:0.432675 auc:0.6100\n",
      "epoch:  80 loss:0.375481 auc:0.6235\n",
      "epoch: 100 loss:0.347837 auc:0.6355\n",
      "epoch: 120 loss:0.333810 auc:0.6386\n",
      "epoch: 140 loss:0.325830 auc:0.6418\n",
      "epoch: 160 loss:0.320709 auc:0.6444\n",
      "epoch: 180 loss:0.317187 auc:0.6456\n",
      "epoch: 200 loss:0.314670 auc:0.6457\n",
      "epoch: 220 loss:0.312830 auc:0.6454\n",
      "epoch: 240 loss:0.311451 auc:0.6443\n",
      "epoch: 260 loss:0.310395 auc:0.6429\n"
     ]
    },
    {
     "name": "stderr",
     "output_type": "stream",
     "text": [
      "100%|██████████| 60/60 [03:54<00:00,  3.91s/it]"
     ]
    },
    {
     "name": "stdout",
     "output_type": "stream",
     "text": [
      "epoch: 280 loss:0.309572 auc:0.6414\n",
      "epoch: 300 loss:0.308919 auc:0.6405\n",
      "Fit finished.\n"
     ]
    },
    {
     "name": "stderr",
     "output_type": "stream",
     "text": [
      "\n"
     ]
    }
   ],
   "source": [
    "n_kfold = 1\n",
    "true_data_s = pd.DataFrame()\n",
    "predict_data_s = pd.DataFrame()\n",
    "for dim in target_dim:\n",
    "    for seed, target_index in enumerate(tqdm(np.arange(res.shape[dim]))):\n",
    "        if dim:\n",
    "            if drug_sum[target_index] < 10:\n",
    "                continue\n",
    "        else:\n",
    "            if cell_sum[target_index] < 10:\n",
    "                continue\n",
    "        epochs = []\n",
    "        for fold in range(n_kfold):\n",
    "            true_data, predict_data = mofgcn_new(\n",
    "                exprs=exprs,\n",
    "                cna=cna,\n",
    "                mut=mut,\n",
    "                drug_finger=drug_finger,\n",
    "                res_mat=res,\n",
    "                null_mask=null_mask,\n",
    "                target_dim=dim,\n",
    "                target_index=target_index,\n",
    "                evaluate_fun=roc_auc,\n",
    "                args=args,\n",
    "                seed=seed,\n",
    "                device=device\n",
    "            )\n",
    "\n",
    "        true_data_s = pd.concat(\n",
    "            [true_data_s, translate_result(true_data)], ignore_index=True\n",
    "        )\n",
    "        predict_data_s = pd.concat(\n",
    "            [predict_data_s, translate_result(predict_data)], ignore_index=True\n",
    "        )"
   ]
  },
  {
   "cell_type": "code",
   "execution_count": 29,
   "id": "ee74598b-d6ba-4763-81e3-4b54516ce071",
   "metadata": {},
   "outputs": [],
   "source": [
    "true_data_s.to_csv(f\"new_cell_true_{args.data}.csv\")\n",
    "predict_data_s.to_csv(f\"new_cell_pred_{args.data}.csv\")"
   ]
  },
  {
   "cell_type": "code",
   "execution_count": null,
   "id": "ffc0c1e3-9f77-41a8-829f-8e9a1bf52edb",
   "metadata": {},
   "outputs": [],
   "source": []
  },
  {
   "cell_type": "code",
   "execution_count": null,
   "id": "e68325c4-cbaa-4dc5-8958-2020b8ae7162",
   "metadata": {},
   "outputs": [],
   "source": []
  },
  {
   "cell_type": "code",
   "execution_count": null,
   "id": "185a0098-e177-4b95-82cc-58c735363c60",
   "metadata": {},
   "outputs": [],
   "source": []
  },
  {
   "cell_type": "code",
   "execution_count": null,
   "id": "ee3e9e61-1f5a-4e9c-abcd-c8a6a99201e3",
   "metadata": {},
   "outputs": [],
   "source": []
  },
  {
   "cell_type": "code",
   "execution_count": null,
   "id": "3c602424-24bb-4876-ad7c-157226a1db15",
   "metadata": {},
   "outputs": [],
   "source": []
  },
  {
   "cell_type": "code",
   "execution_count": null,
   "id": "bc598152-9bfd-49cb-94a1-e06bf3b9adfa",
   "metadata": {},
   "outputs": [],
   "source": []
  },
  {
   "cell_type": "code",
   "execution_count": null,
   "id": "3b2ae018-e508-46da-b0e6-0c4d3c803692",
   "metadata": {},
   "outputs": [],
   "source": []
  }
 ],
 "metadata": {
  "kernelspec": {
   "display_name": "torch",
   "language": "python",
   "name": "torch"
  },
  "language_info": {
   "codemirror_mode": {
    "name": "ipython",
    "version": 3
   },
   "file_extension": ".py",
   "mimetype": "text/x-python",
   "name": "python",
   "nbconvert_exporter": "python",
   "pygments_lexer": "ipython3",
   "version": "3.10.15"
  }
 },
 "nbformat": 4,
 "nbformat_minor": 5
}
