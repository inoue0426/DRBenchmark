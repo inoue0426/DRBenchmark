{
 "cells": [
  {
   "cell_type": "code",
   "execution_count": 1,
   "id": "numerical-homework",
   "metadata": {},
   "outputs": [],
   "source": [
    "import argparse\n",
    "import numpy as np\n",
    "import pandas as pd\n",
    "import torch\n",
    "from tqdm import tqdm\n",
    "from dataclasses import dataclass\n",
    "from joblib import Parallel, delayed\n",
    "from tqdm import tqdm"
   ]
  },
  {
   "cell_type": "code",
   "execution_count": 2,
   "id": "creative-tiger",
   "metadata": {},
   "outputs": [],
   "source": [
    "%load_ext autoreload\n",
    "%autoreload 2\n",
    "\n",
    "from model import GModel\n",
    "from myutils import roc_auc, translate_result, filter_target\n",
    "from load_data import load_data\n",
    "from optimizer import Optimizer\n",
    "from sampler import NewSampler"
   ]
  },
  {
   "cell_type": "code",
   "execution_count": 3,
   "id": "headed-tattoo",
   "metadata": {},
   "outputs": [],
   "source": [
    "@dataclass\n",
    "class Args:\n",
    "    device: str = \"cuda\" if torch.cuda.is_available() else \"cpu\"\n",
    "    data: str = \"nci\"\n",
    "    n_jobs: int = 1 # ← ここをコア数に応じて調整\n",
    "    lr: float = 5e-4\n",
    "    epochs: int = 1000"
   ]
  },
  {
   "cell_type": "code",
   "execution_count": 4,
   "id": "precious-wales",
   "metadata": {},
   "outputs": [],
   "source": [
    "args = Args()\n",
    "target_option = \"cell\"  # \"cell\" か \"drug\""
   ]
  },
  {
   "cell_type": "code",
   "execution_count": 5,
   "id": "crazy-determination",
   "metadata": {},
   "outputs": [
    {
     "name": "stdout",
     "output_type": "stream",
     "text": [
      "load nci\n",
      "response matrix (res) shape: (977, 59)\n",
      "exprs shape: (60, 23059)\n",
      "mut shape: (60, 9307)\n",
      "cna shape: (60, 23232)\n",
      "59\n",
      "exprs shape: (59, 23059)\n",
      "mut shape: (59, 9307)\n",
      "cna shape: (59, 23232)\n",
      "drug_feature shape: (976, 920)\n",
      "response matrix (res) shape: (59, 976)\n",
      "null_mask shape: (59, 976)\n"
     ]
    }
   ],
   "source": [
    "# データ読み込み\n",
    "res, drug_feature, exprs, mut, cna, null_mask = load_data(args)"
   ]
  },
  {
   "cell_type": "code",
   "execution_count": 6,
   "id": "center-freeze",
   "metadata": {},
   "outputs": [],
   "source": [
    "def run_single_model(exprs, cna, mut, drug_feature, res_mat, null_mask, target_dim, target_index, args, seed):\n",
    "    sampler = NewSampler(res_mat, null_mask, target_dim, target_index)\n",
    "    val_labels = sampler.test_data[sampler.test_mask]\n",
    "\n",
    "    model = GModel(\n",
    "        adj_mat=sampler.train_data.float(),\n",
    "        gene=exprs,\n",
    "        cna=cna,\n",
    "        mutation=mut,\n",
    "        sigma=2,\n",
    "        k=11,\n",
    "        iterates=3,\n",
    "        feature_drug=drug_feature,\n",
    "        n_hid1=192,\n",
    "        n_hid2=36,\n",
    "        alpha=5.74,\n",
    "        device=args.device,\n",
    "    )\n",
    "    opt = Optimizer(\n",
    "        model=model,\n",
    "        train_data=sampler.train_data,\n",
    "        test_data=sampler.test_data,\n",
    "        test_mask=sampler.test_mask,\n",
    "        train_mask=sampler.train_mask,\n",
    "        evaluate_fun=roc_auc,\n",
    "        lr=args.lr,\n",
    "        epochs=args.epochs,\n",
    "        device=args.device,\n",
    "    ).to(args.device)\n",
    "    _, true_data, predict_data = opt()\n",
    "    return true_data, predict_data"
   ]
  },
  {
   "cell_type": "code",
   "execution_count": 7,
   "id": "cloudy-project",
   "metadata": {
    "scrolled": true
   },
   "outputs": [],
   "source": [
    "# ターゲット次元と統計\n",
    "target_dim = 0 if target_option == \"cell\" else 1\n",
    "samples = res.shape[target_dim]\n",
    "cell_sum = np.sum(res.values, axis=1)\n",
    "drug_sum = np.sum(res.values, axis=0)"
   ]
  },
  {
   "cell_type": "code",
   "execution_count": 8,
   "id": "adaptive-classification",
   "metadata": {},
   "outputs": [],
   "source": [
    "# 並列実行用ラッパー\n",
    "def process_target(seed, target_index):\n",
    "    try:\n",
    "        return run_single_model(\n",
    "            exprs=exprs,\n",
    "            cna=cna,\n",
    "            mut=mut,\n",
    "            drug_feature=drug_feature,\n",
    "            res_mat=res.values,\n",
    "            null_mask=null_mask,\n",
    "            target_dim=target_dim,\n",
    "            target_index=target_index,\n",
    "            args=args,\n",
    "            seed=seed,\n",
    "        )\n",
    "    except Exception as e:\n",
    "        print(f\"❌ Failed at target {target_index}: {e}\")\n",
    "        return None"
   ]
  },
  {
   "cell_type": "code",
   "execution_count": 9,
   "id": "careful-disability",
   "metadata": {
    "scrolled": true
   },
   "outputs": [
    {
     "name": "stdout",
     "output_type": "stream",
     "text": [
      "\n",
      "🚫 Skipped Targets: 2\n",
      "Target 15: skipped because low_positive_ratio (total=488, pos=7, neg=481)\n",
      "Target 33: skipped because low_negative_ratio (total=427, pos=419, neg=8)\n"
     ]
    },
    {
     "name": "stderr",
     "output_type": "stream",
     "text": [
      "\r",
      "MOFGCN (nci - cell):   0%|          | 0/57 [00:00<?, ?it/s]"
     ]
    },
    {
     "name": "stdout",
     "output_type": "stream",
     "text": [
      "epoch:   0 loss:0.927380 auc:0.5257\n",
      "epoch:  20 loss:0.249320 auc:0.4684\n",
      "epoch:  40 loss:0.150524 auc:0.3832\n",
      "epoch:  60 loss:0.115222 auc:0.4099\n",
      "epoch:  80 loss:0.100356 auc:0.4163\n"
     ]
    },
    {
     "name": "stderr",
     "output_type": "stream",
     "text": [
      "\r",
      "MOFGCN (nci - cell):   2%|▏         | 1/57 [00:02<01:52,  2.02s/it]"
     ]
    },
    {
     "name": "stdout",
     "output_type": "stream",
     "text": [
      "epoch: 100 loss:0.092887 auc:0.4228\n",
      "epoch: 120 loss:0.088448 auc:0.4219\n",
      "epoch: 140 loss:0.085507 auc:0.4219\n",
      "epoch: 160 loss:0.083440 auc:0.4228\n",
      "Fit finished.\n",
      "epoch:   0 loss:0.759236 auc:0.5284\n",
      "epoch:  20 loss:0.247624 auc:0.7207\n",
      "epoch:  40 loss:0.150348 auc:0.7864\n",
      "epoch:  60 loss:0.114585 auc:0.8174\n",
      "epoch:  80 loss:0.099909 auc:0.8198\n",
      "epoch: 100 loss:0.092486 auc:0.8139\n",
      "epoch: 120 loss:0.088092 auc:0.8107\n",
      "epoch: 140 loss:0.085216 auc:0.8083\n",
      "epoch: 160 loss:0.083207 auc:0.8084\n",
      "epoch: 180 loss:0.081728 auc:0.8081\n"
     ]
    },
    {
     "name": "stderr",
     "output_type": "stream",
     "text": [
      "\r",
      "MOFGCN (nci - cell):   4%|▎         | 2/57 [00:02<01:05,  1.19s/it]"
     ]
    },
    {
     "name": "stdout",
     "output_type": "stream",
     "text": [
      "epoch: 200 loss:0.080600 auc:0.8081\n",
      "epoch: 220 loss:0.079717 auc:0.8092\n",
      "Fit finished.\n",
      "epoch:   0 loss:0.836844 auc:0.4963\n",
      "epoch:  20 loss:0.233870 auc:0.3628\n",
      "epoch:  40 loss:0.137968 auc:0.2600\n",
      "epoch:  60 loss:0.108599 auc:0.2330\n",
      "epoch:  80 loss:0.096834 auc:0.2191\n",
      "epoch: 100 loss:0.090669 auc:0.2177\n",
      "epoch: 120 loss:0.086867 auc:0.2181\n"
     ]
    },
    {
     "name": "stderr",
     "output_type": "stream",
     "text": [
      "\r",
      "MOFGCN (nci - cell):   5%|▌         | 3/57 [00:03<00:50,  1.06it/s]"
     ]
    },
    {
     "name": "stdout",
     "output_type": "stream",
     "text": [
      "epoch: 140 loss:0.084303 auc:0.2121\n",
      "epoch: 160 loss:0.082491 auc:0.2158\n",
      "Fit finished.\n",
      "epoch:   0 loss:0.772159 auc:0.4070\n",
      "epoch:  20 loss:0.226128 auc:0.5647\n",
      "epoch:  40 loss:0.136741 auc:0.5076\n",
      "epoch:  60 loss:0.107192 auc:0.5346\n",
      "epoch:  80 loss:0.095556 auc:0.5291\n",
      "epoch: 100 loss:0.089684 auc:0.5187\n"
     ]
    },
    {
     "name": "stderr",
     "output_type": "stream",
     "text": [
      "\r",
      "MOFGCN (nci - cell):   7%|▋         | 4/57 [00:03<00:40,  1.29it/s]"
     ]
    },
    {
     "name": "stdout",
     "output_type": "stream",
     "text": [
      "epoch: 120 loss:0.086153 auc:0.5169\n",
      "epoch: 140 loss:0.083810 auc:0.5154\n",
      "epoch: 160 loss:0.082164 auc:0.5151\n",
      "epoch: 180 loss:0.080967 auc:0.5140\n",
      "Fit finished.\n",
      "epoch:   0 loss:0.800916 auc:0.4819\n",
      "epoch:  20 loss:0.249385 auc:0.7819\n",
      "epoch:  40 loss:0.145683 auc:0.8659\n",
      "epoch:  60 loss:0.110707 auc:0.8832\n",
      "epoch:  80 loss:0.097384 auc:0.8835\n",
      "epoch: 100 loss:0.090938 auc:0.8789\n",
      "epoch: 120 loss:0.087150 auc:0.8752\n",
      "epoch: 140 loss:0.084676 auc:0.8724\n",
      "epoch: 160 loss:0.082949 auc:0.8730\n",
      "epoch: 180 loss:0.081689 auc:0.8709\n"
     ]
    },
    {
     "name": "stderr",
     "output_type": "stream",
     "text": [
      "\r",
      "MOFGCN (nci - cell):   9%|▉         | 5/57 [00:04<00:36,  1.43it/s]"
     ]
    },
    {
     "name": "stdout",
     "output_type": "stream",
     "text": [
      "epoch: 200 loss:0.080743 auc:0.8684\n",
      "epoch: 220 loss:0.080018 auc:0.8662\n",
      "Fit finished.\n",
      "epoch:   0 loss:0.729092 auc:0.4594\n",
      "epoch:  20 loss:0.242123 auc:0.5614\n",
      "epoch:  40 loss:0.145836 auc:0.5870\n",
      "epoch:  60 loss:0.112188 auc:0.6109\n",
      "epoch:  80 loss:0.098289 auc:0.6207\n",
      "epoch: 100 loss:0.091280 auc:0.6224\n",
      "epoch: 120 loss:0.087114 auc:0.6230\n",
      "epoch: 140 loss:0.084374 auc:0.6207\n",
      "epoch: 160 loss:0.082460 auc:0.6197\n",
      "epoch: 180 loss:0.081054 auc:0.6184\n",
      "epoch: 200 loss:0.079987 auc:0.6178\n",
      "epoch: 220 loss:0.079157 auc:0.6169\n"
     ]
    },
    {
     "name": "stderr",
     "output_type": "stream",
     "text": [
      "\r",
      "MOFGCN (nci - cell):  11%|█         | 6/57 [00:04<00:34,  1.49it/s]"
     ]
    },
    {
     "name": "stdout",
     "output_type": "stream",
     "text": [
      "epoch: 240 loss:0.078497 auc:0.6176\n",
      "Fit finished.\n",
      "epoch:   0 loss:0.840941 auc:0.5444\n",
      "epoch:  20 loss:0.268409 auc:0.3535\n",
      "epoch:  40 loss:0.168786 auc:0.2399\n",
      "epoch:  60 loss:0.125465 auc:0.2486\n",
      "epoch:  80 loss:0.106762 auc:0.2542\n",
      "epoch: 100 loss:0.097450 auc:0.2568\n",
      "epoch: 120 loss:0.091983 auc:0.2583\n",
      "epoch: 140 loss:0.088403 auc:0.2531\n"
     ]
    },
    {
     "name": "stderr",
     "output_type": "stream",
     "text": [
      "\r",
      "MOFGCN (nci - cell):  12%|█▏        | 7/57 [00:05<00:29,  1.67it/s]"
     ]
    },
    {
     "name": "stdout",
     "output_type": "stream",
     "text": [
      "epoch: 160 loss:0.085903 auc:0.2483\n",
      "Fit finished.\n",
      "epoch:   0 loss:0.876329 auc:0.5307\n",
      "epoch:  20 loss:0.248322 auc:0.5366\n",
      "epoch:  40 loss:0.153378 auc:0.5199\n",
      "epoch:  60 loss:0.118121 auc:0.5209\n",
      "epoch:  80 loss:0.102597 auc:0.5266\n",
      "epoch: 100 loss:0.094513 auc:0.5258\n",
      "epoch: 120 loss:0.089700 auc:0.5259\n"
     ]
    },
    {
     "name": "stderr",
     "output_type": "stream",
     "text": [
      "\r",
      "MOFGCN (nci - cell):  14%|█▍        | 8/57 [00:05<00:27,  1.81it/s]"
     ]
    },
    {
     "name": "stdout",
     "output_type": "stream",
     "text": [
      "epoch: 140 loss:0.086535 auc:0.5268\n",
      "epoch: 160 loss:0.084320 auc:0.5250\n",
      "Fit finished.\n",
      "epoch:   0 loss:0.730495 auc:0.3951\n",
      "epoch:  20 loss:0.234936 auc:0.3864\n",
      "epoch:  40 loss:0.143730 auc:0.4152\n",
      "epoch:  60 loss:0.112466 auc:0.4198\n",
      "epoch:  80 loss:0.099252 auc:0.4144\n",
      "epoch: 100 loss:0.092315 auc:0.4206\n",
      "epoch: 120 loss:0.088071 auc:0.4185\n"
     ]
    },
    {
     "name": "stderr",
     "output_type": "stream",
     "text": [
      "\r",
      "MOFGCN (nci - cell):  16%|█▌        | 9/57 [00:06<00:26,  1.79it/s]"
     ]
    },
    {
     "name": "stdout",
     "output_type": "stream",
     "text": [
      "epoch: 140 loss:0.085229 auc:0.4222\n",
      "epoch: 160 loss:0.083218 auc:0.4235\n",
      "epoch: 180 loss:0.081752 auc:0.4218\n",
      "epoch: 200 loss:0.080658 auc:0.4202\n",
      "epoch: 220 loss:0.079826 auc:0.4193\n",
      "Fit finished.\n",
      "epoch:   0 loss:0.777899 auc:0.5185\n",
      "epoch:  20 loss:0.225818 auc:0.8474\n",
      "epoch:  40 loss:0.134877 auc:0.9052\n",
      "epoch:  60 loss:0.107132 auc:0.9202\n",
      "epoch:  80 loss:0.095663 auc:0.9254\n",
      "epoch: 100 loss:0.089671 auc:0.9310\n",
      "epoch: 120 loss:0.086087 auc:0.9342\n",
      "epoch: 140 loss:0.083766 auc:0.9344\n",
      "epoch: 160 loss:0.082168 auc:0.9351\n",
      "epoch: 180 loss:0.081015 auc:0.9376\n",
      "epoch: 200 loss:0.080154 auc:0.9377\n",
      "epoch: 220 loss:0.079499 auc:0.9379\n",
      "epoch: 240 loss:0.078989 auc:0.9382\n",
      "epoch: 260 loss:0.078585 auc:0.9383\n",
      "epoch: 280 loss:0.078259 auc:0.9383\n"
     ]
    },
    {
     "name": "stderr",
     "output_type": "stream",
     "text": [
      "\r",
      "MOFGCN (nci - cell):  18%|█▊        | 10/57 [00:07<00:29,  1.57it/s]"
     ]
    },
    {
     "name": "stdout",
     "output_type": "stream",
     "text": [
      "epoch: 300 loss:0.077995 auc:0.9386\n",
      "epoch: 320 loss:0.077779 auc:0.9374\n",
      "epoch: 340 loss:0.077601 auc:0.9373\n",
      "Fit finished.\n",
      "epoch:   0 loss:0.758174 auc:0.5416\n",
      "epoch:  20 loss:0.250054 auc:0.5441\n",
      "epoch:  40 loss:0.153508 auc:0.5332\n",
      "epoch:  60 loss:0.116029 auc:0.4923\n",
      "epoch:  80 loss:0.100291 auc:0.4646\n",
      "epoch: 100 loss:0.092544 auc:0.4394\n"
     ]
    },
    {
     "name": "stderr",
     "output_type": "stream",
     "text": [
      "\r",
      "MOFGCN (nci - cell):  19%|█▉        | 11/57 [00:07<00:26,  1.73it/s]"
     ]
    },
    {
     "name": "stdout",
     "output_type": "stream",
     "text": [
      "epoch: 120 loss:0.088040 auc:0.4169\n",
      "epoch: 140 loss:0.085140 auc:0.4027\n",
      "epoch: 160 loss:0.083154 auc:0.3901\n",
      "Fit finished.\n",
      "epoch:   0 loss:0.779627 auc:0.4236\n",
      "epoch:  20 loss:0.236804 auc:0.4616\n",
      "epoch:  40 loss:0.138776 auc:0.3866\n",
      "epoch:  60 loss:0.108747 auc:0.3424\n",
      "epoch:  80 loss:0.096935 auc:0.3343\n",
      "epoch: 100 loss:0.090910 auc:0.3044\n",
      "epoch: 120 loss:0.087253 auc:0.2888\n",
      "epoch: 140 loss:0.084815 auc:0.2789\n"
     ]
    },
    {
     "name": "stderr",
     "output_type": "stream",
     "text": [
      "\r",
      "MOFGCN (nci - cell):  21%|██        | 12/57 [00:08<00:25,  1.75it/s]"
     ]
    },
    {
     "name": "stdout",
     "output_type": "stream",
     "text": [
      "epoch: 160 loss:0.083104 auc:0.2695\n",
      "Fit finished.\n",
      "epoch:   0 loss:0.782567 auc:0.4156\n",
      "epoch:  20 loss:0.238734 auc:0.4643\n",
      "epoch:  40 loss:0.141197 auc:0.3967\n",
      "epoch:  60 loss:0.109492 auc:0.3832\n",
      "epoch:  80 loss:0.096933 auc:0.3563\n",
      "epoch: 100 loss:0.090747 auc:0.3426\n",
      "epoch: 120 loss:0.087027 auc:0.3312\n"
     ]
    },
    {
     "name": "stderr",
     "output_type": "stream",
     "text": [
      "\r",
      "MOFGCN (nci - cell):  23%|██▎       | 13/57 [00:08<00:23,  1.84it/s]"
     ]
    },
    {
     "name": "stdout",
     "output_type": "stream",
     "text": [
      "epoch: 140 loss:0.084509 auc:0.3231\n",
      "epoch: 160 loss:0.082675 auc:0.3180\n",
      "Fit finished.\n",
      "epoch:   0 loss:0.796814 auc:0.5161\n",
      "epoch:  20 loss:0.222398 auc:0.3353\n",
      "epoch:  40 loss:0.133534 auc:0.2635\n",
      "epoch:  60 loss:0.105695 auc:0.2688\n",
      "epoch:  80 loss:0.094429 auc:0.2663\n",
      "epoch: 100 loss:0.088438 auc:0.2708\n"
     ]
    },
    {
     "name": "stderr",
     "output_type": "stream",
     "text": [
      "\r",
      "MOFGCN (nci - cell):  25%|██▍       | 14/57 [00:09<00:22,  1.92it/s]"
     ]
    },
    {
     "name": "stdout",
     "output_type": "stream",
     "text": [
      "epoch: 120 loss:0.084779 auc:0.2763\n",
      "epoch: 140 loss:0.082376 auc:0.2812\n",
      "epoch: 160 loss:0.080725 auc:0.2830\n",
      "Fit finished.\n",
      "epoch:   0 loss:0.772642 auc:0.5163\n",
      "epoch:  20 loss:0.230701 auc:0.4695\n",
      "epoch:  40 loss:0.138133 auc:0.5189\n",
      "epoch:  60 loss:0.108317 auc:0.5105\n",
      "epoch:  80 loss:0.095898 auc:0.5311\n",
      "epoch: 100 loss:0.089541 auc:0.5479\n",
      "epoch: 120 loss:0.085781 auc:0.5595\n",
      "epoch: 140 loss:0.083375 auc:0.5721\n",
      "epoch: 160 loss:0.081733 auc:0.5805\n",
      "epoch: 180 loss:0.080557 auc:0.5832\n",
      "epoch: 200 loss:0.079684 auc:0.5863\n",
      "epoch: 220 loss:0.079014 auc:0.5847\n",
      "epoch: 240 loss:0.078491 auc:0.5837\n",
      "epoch: 260 loss:0.078072 auc:0.5842\n",
      "epoch: 280 loss:0.077731 auc:0.5837\n"
     ]
    },
    {
     "name": "stderr",
     "output_type": "stream",
     "text": [
      "\r",
      "MOFGCN (nci - cell):  26%|██▋       | 15/57 [00:10<00:26,  1.61it/s]"
     ]
    },
    {
     "name": "stdout",
     "output_type": "stream",
     "text": [
      "epoch: 300 loss:0.077451 auc:0.5842\n",
      "epoch: 320 loss:0.077218 auc:0.5832\n",
      "epoch: 340 loss:0.077024 auc:0.5826\n",
      "Fit finished.\n",
      "epoch:   0 loss:0.799963 auc:0.5493\n",
      "epoch:  20 loss:0.229950 auc:0.7298\n",
      "epoch:  40 loss:0.137136 auc:0.7745\n",
      "epoch:  60 loss:0.107439 auc:0.7889\n",
      "epoch:  80 loss:0.095646 auc:0.7949\n",
      "epoch: 100 loss:0.089830 auc:0.7989\n",
      "epoch: 120 loss:0.086397 auc:0.8002\n",
      "epoch: 140 loss:0.084108 auc:0.8019\n",
      "epoch: 160 loss:0.082480 auc:0.8012\n",
      "epoch: 180 loss:0.081283 auc:0.8000\n"
     ]
    },
    {
     "name": "stderr",
     "output_type": "stream",
     "text": [
      "\r",
      "MOFGCN (nci - cell):  28%|██▊       | 16/57 [00:10<00:26,  1.57it/s]"
     ]
    },
    {
     "name": "stdout",
     "output_type": "stream",
     "text": [
      "epoch: 200 loss:0.080379 auc:0.7982\n",
      "epoch: 220 loss:0.079683 auc:0.7981\n",
      "epoch: 240 loss:0.079143 auc:0.7961\n",
      "epoch: 260 loss:0.078719 auc:0.7944\n",
      "Fit finished.\n",
      "epoch:   0 loss:0.753641 auc:0.4915\n",
      "epoch:  20 loss:0.246439 auc:0.3720\n",
      "epoch:  40 loss:0.145180 auc:0.3713\n",
      "epoch:  60 loss:0.112077 auc:0.3881\n",
      "epoch:  80 loss:0.098766 auc:0.4066\n"
     ]
    },
    {
     "name": "stderr",
     "output_type": "stream",
     "text": [
      "\r",
      "MOFGCN (nci - cell):  30%|██▉       | 17/57 [00:11<00:23,  1.70it/s]"
     ]
    },
    {
     "name": "stdout",
     "output_type": "stream",
     "text": [
      "epoch: 100 loss:0.091920 auc:0.4174\n",
      "epoch: 120 loss:0.087845 auc:0.4270\n",
      "epoch: 140 loss:0.085175 auc:0.4391\n",
      "epoch: 160 loss:0.083304 auc:0.4435\n",
      "Fit finished.\n",
      "epoch:   0 loss:0.834458 auc:0.5229\n",
      "epoch:  20 loss:0.269770 auc:0.5964\n",
      "epoch:  40 loss:0.165635 auc:0.6954\n",
      "epoch:  60 loss:0.121884 auc:0.7236\n",
      "epoch:  80 loss:0.104572 auc:0.7133\n",
      "epoch: 100 loss:0.095947 auc:0.7120\n",
      "epoch: 120 loss:0.090795 auc:0.7130\n",
      "epoch: 140 loss:0.087341 auc:0.7173\n",
      "epoch: 160 loss:0.084853 auc:0.7172\n",
      "epoch: 180 loss:0.082989 auc:0.7170\n"
     ]
    },
    {
     "name": "stderr",
     "output_type": "stream",
     "text": [
      "\r",
      "MOFGCN (nci - cell):  32%|███▏      | 18/57 [00:11<00:23,  1.69it/s]"
     ]
    },
    {
     "name": "stdout",
     "output_type": "stream",
     "text": [
      "epoch: 200 loss:0.081557 auc:0.7166\n",
      "epoch: 220 loss:0.080432 auc:0.7186\n",
      "Fit finished.\n",
      "epoch:   0 loss:0.795470 auc:0.4440\n",
      "epoch:  20 loss:0.248952 auc:0.4339\n",
      "epoch:  40 loss:0.152299 auc:0.3762\n",
      "epoch:  60 loss:0.115987 auc:0.3688\n",
      "epoch:  80 loss:0.100953 auc:0.3631\n",
      "epoch: 100 loss:0.093348 auc:0.3579\n"
     ]
    },
    {
     "name": "stderr",
     "output_type": "stream",
     "text": [
      "\r",
      "MOFGCN (nci - cell):  33%|███▎      | 19/57 [00:12<00:21,  1.80it/s]"
     ]
    },
    {
     "name": "stdout",
     "output_type": "stream",
     "text": [
      "epoch: 120 loss:0.088812 auc:0.3555\n",
      "epoch: 140 loss:0.085814 auc:0.3495\n",
      "epoch: 160 loss:0.083696 auc:0.3459\n",
      "Fit finished.\n",
      "epoch:   0 loss:0.840265 auc:0.4624\n",
      "epoch:  20 loss:0.262909 auc:0.3409\n",
      "epoch:  40 loss:0.165562 auc:0.2239\n",
      "epoch:  60 loss:0.125148 auc:0.2201\n",
      "epoch:  80 loss:0.107489 auc:0.2135\n"
     ]
    },
    {
     "name": "stderr",
     "output_type": "stream",
     "text": [
      "\r",
      "MOFGCN (nci - cell):  35%|███▌      | 20/57 [00:12<00:19,  1.87it/s]"
     ]
    },
    {
     "name": "stdout",
     "output_type": "stream",
     "text": [
      "epoch: 100 loss:0.098212 auc:0.2085\n",
      "epoch: 120 loss:0.092567 auc:0.2066\n",
      "epoch: 140 loss:0.088829 auc:0.2026\n",
      "epoch: 160 loss:0.086220 auc:0.1989\n",
      "Fit finished.\n",
      "epoch:   0 loss:0.773830 auc:0.4924\n",
      "epoch:  20 loss:0.253028 auc:0.5358\n",
      "epoch:  40 loss:0.154557 auc:0.4718\n",
      "epoch:  60 loss:0.118273 auc:0.4566\n",
      "epoch:  80 loss:0.102933 auc:0.4587\n"
     ]
    },
    {
     "name": "stderr",
     "output_type": "stream",
     "text": [
      "\r",
      "MOFGCN (nci - cell):  37%|███▋      | 21/57 [00:13<00:18,  1.95it/s]"
     ]
    },
    {
     "name": "stdout",
     "output_type": "stream",
     "text": [
      "epoch: 100 loss:0.095098 auc:0.4408\n",
      "epoch: 120 loss:0.090389 auc:0.4268\n",
      "epoch: 140 loss:0.087294 auc:0.4117\n",
      "epoch: 160 loss:0.085130 auc:0.4019\n",
      "Fit finished.\n",
      "epoch:   0 loss:0.706545 auc:0.6138\n",
      "epoch:  20 loss:0.268535 auc:0.6059\n",
      "epoch:  40 loss:0.166165 auc:0.5617\n",
      "epoch:  60 loss:0.123471 auc:0.5563\n",
      "epoch:  80 loss:0.105922 auc:0.5505\n",
      "epoch: 100 loss:0.097038 auc:0.5442\n",
      "epoch: 120 loss:0.091718 auc:0.5430\n"
     ]
    },
    {
     "name": "stderr",
     "output_type": "stream",
     "text": [
      "\r",
      "MOFGCN (nci - cell):  39%|███▊      | 22/57 [00:13<00:18,  1.88it/s]"
     ]
    },
    {
     "name": "stdout",
     "output_type": "stream",
     "text": [
      "epoch: 140 loss:0.088183 auc:0.5388\n",
      "epoch: 160 loss:0.085686 auc:0.5367\n",
      "Fit finished.\n",
      "epoch:   0 loss:0.729537 auc:0.4855\n",
      "epoch:  20 loss:0.220403 auc:0.6442\n",
      "epoch:  40 loss:0.131870 auc:0.7283\n",
      "epoch:  60 loss:0.104438 auc:0.7479\n",
      "epoch:  80 loss:0.093800 auc:0.7475\n",
      "epoch: 100 loss:0.088436 auc:0.7449\n",
      "epoch: 120 loss:0.085223 auc:0.7419\n"
     ]
    },
    {
     "name": "stderr",
     "output_type": "stream",
     "text": [
      "\r",
      "MOFGCN (nci - cell):  40%|████      | 23/57 [00:14<00:18,  1.88it/s]"
     ]
    },
    {
     "name": "stdout",
     "output_type": "stream",
     "text": [
      "epoch: 140 loss:0.083098 auc:0.7361\n",
      "epoch: 160 loss:0.081603 auc:0.7318\n",
      "epoch: 180 loss:0.080509 auc:0.7291\n",
      "epoch: 200 loss:0.079690 auc:0.7264\n",
      "Fit finished.\n",
      "epoch:   0 loss:0.756432 auc:0.4987\n",
      "epoch:  20 loss:0.261185 auc:0.3318\n",
      "epoch:  40 loss:0.160644 auc:0.2750\n",
      "epoch:  60 loss:0.121676 auc:0.2586\n",
      "epoch:  80 loss:0.105376 auc:0.2586\n"
     ]
    },
    {
     "name": "stderr",
     "output_type": "stream",
     "text": [
      "\r",
      "MOFGCN (nci - cell):  42%|████▏     | 24/57 [00:14<00:16,  1.97it/s]"
     ]
    },
    {
     "name": "stdout",
     "output_type": "stream",
     "text": [
      "epoch: 100 loss:0.096938 auc:0.2586\n",
      "epoch: 120 loss:0.091878 auc:0.2564\n",
      "epoch: 140 loss:0.088544 auc:0.2568\n",
      "epoch: 160 loss:0.086209 auc:0.2555\n",
      "Fit finished.\n",
      "epoch:   0 loss:0.798675 auc:0.4105\n",
      "epoch:  20 loss:0.233522 auc:0.6105\n",
      "epoch:  40 loss:0.139220 auc:0.6850\n",
      "epoch:  60 loss:0.108150 auc:0.6974\n",
      "epoch:  80 loss:0.095871 auc:0.7048\n",
      "epoch: 100 loss:0.089718 auc:0.7101\n",
      "epoch: 120 loss:0.086043 auc:0.7131\n",
      "epoch: 140 loss:0.083604 auc:0.7164\n",
      "epoch: 160 loss:0.081898 auc:0.7196\n",
      "epoch: 180 loss:0.080655 auc:0.7224\n",
      "epoch: 200 loss:0.079723 auc:0.7224\n",
      "epoch: 220 loss:0.079012 auc:0.7246\n",
      "epoch: 240 loss:0.078458 auc:0.7254\n",
      "epoch: 260 loss:0.078017 auc:0.7257\n",
      "epoch: 280 loss:0.077660 auc:0.7262\n",
      "epoch: 300 loss:0.077368 auc:0.7282\n",
      "epoch: 320 loss:0.077128 auc:0.7295\n",
      "epoch: 340 loss:0.076927 auc:0.7300\n",
      "epoch: 360 loss:0.076757 auc:0.7306\n",
      "epoch: 380 loss:0.076614 auc:0.7311\n",
      "epoch: 400 loss:0.076493 auc:0.7312\n",
      "epoch: 420 loss:0.076389 auc:0.7325\n",
      "epoch: 440 loss:0.076300 auc:0.7330\n",
      "epoch: 460 loss:0.076223 auc:0.7330\n",
      "epoch: 480 loss:0.076156 auc:0.7333\n",
      "epoch: 500 loss:0.076098 auc:0.7338\n",
      "epoch: 520 loss:0.076048 auc:0.7342\n",
      "epoch: 540 loss:0.076004 auc:0.7341\n",
      "epoch: 560 loss:0.075965 auc:0.7349\n",
      "epoch: 580 loss:0.075932 auc:0.7353\n",
      "epoch: 600 loss:0.075902 auc:0.7358\n",
      "epoch: 620 loss:0.075876 auc:0.7358\n",
      "epoch: 640 loss:0.075854 auc:0.7360\n",
      "epoch: 660 loss:0.075833 auc:0.7363\n",
      "epoch: 680 loss:0.075816 auc:0.7366\n",
      "epoch: 700 loss:0.075800 auc:0.7369\n",
      "epoch: 720 loss:0.075786 auc:0.7371\n",
      "epoch: 740 loss:0.075773 auc:0.7374\n",
      "epoch: 760 loss:0.075762 auc:0.7374\n",
      "epoch: 780 loss:0.075752 auc:0.7375\n",
      "epoch: 800 loss:0.075742 auc:0.7374\n",
      "epoch: 820 loss:0.075734 auc:0.7374\n",
      "epoch: 840 loss:0.075727 auc:0.7375\n",
      "epoch: 860 loss:0.075720 auc:0.7378\n",
      "epoch: 880 loss:0.075714 auc:0.7380\n",
      "epoch: 900 loss:0.075709 auc:0.7380\n",
      "epoch: 920 loss:0.075704 auc:0.7380\n",
      "epoch: 940 loss:0.075700 auc:0.7382\n",
      "epoch: 960 loss:0.075696 auc:0.7378\n",
      "epoch: 980 loss:0.075692 auc:0.7378\n"
     ]
    },
    {
     "name": "stderr",
     "output_type": "stream",
     "text": [
      "\r",
      "MOFGCN (nci - cell):  44%|████▍     | 25/57 [00:16<00:32,  1.01s/it]"
     ]
    },
    {
     "name": "stdout",
     "output_type": "stream",
     "text": [
      "Fit finished.\n",
      "epoch:   0 loss:0.779972 auc:0.5772\n",
      "epoch:  20 loss:0.235538 auc:0.5971\n",
      "epoch:  40 loss:0.138617 auc:0.5236\n",
      "epoch:  60 loss:0.108718 auc:0.4818\n",
      "epoch:  80 loss:0.096856 auc:0.4922\n",
      "epoch: 100 loss:0.090735 auc:0.5164\n",
      "epoch: 120 loss:0.086994 auc:0.5355\n",
      "epoch: 140 loss:0.084466 auc:0.5526\n"
     ]
    },
    {
     "name": "stderr",
     "output_type": "stream",
     "text": [
      "\r",
      "MOFGCN (nci - cell):  46%|████▌     | 26/57 [00:17<00:26,  1.19it/s]"
     ]
    },
    {
     "name": "stdout",
     "output_type": "stream",
     "text": [
      "epoch: 160 loss:0.082656 auc:0.5724\n",
      "Fit finished.\n",
      "epoch:   0 loss:0.798173 auc:0.3704\n",
      "epoch:  20 loss:0.237990 auc:0.4330\n",
      "epoch:  40 loss:0.140987 auc:0.4131\n",
      "epoch:  60 loss:0.109632 auc:0.4359\n",
      "epoch:  80 loss:0.096752 auc:0.4758\n",
      "epoch: 100 loss:0.090342 auc:0.4786\n",
      "epoch: 120 loss:0.086593 auc:0.4729\n",
      "epoch: 140 loss:0.084157 auc:0.4672\n"
     ]
    },
    {
     "name": "stderr",
     "output_type": "stream",
     "text": [
      "\r",
      "MOFGCN (nci - cell):  47%|████▋     | 27/57 [00:18<00:23,  1.29it/s]"
     ]
    },
    {
     "name": "stdout",
     "output_type": "stream",
     "text": [
      "epoch: 160 loss:0.082455 auc:0.4558\n",
      "epoch: 180 loss:0.081213 auc:0.4530\n",
      "epoch: 200 loss:0.080285 auc:0.4473\n",
      "epoch: 220 loss:0.079577 auc:0.4444\n",
      "epoch: 240 loss:0.079026 auc:0.4359\n",
      "Fit finished.\n",
      "epoch:   0 loss:0.768913 auc:0.4607\n",
      "epoch:  20 loss:0.235302 auc:0.4379\n",
      "epoch:  40 loss:0.142779 auc:0.3041\n",
      "epoch:  60 loss:0.111940 auc:0.3157\n",
      "epoch:  80 loss:0.098882 auc:0.3276\n"
     ]
    },
    {
     "name": "stderr",
     "output_type": "stream",
     "text": [
      "\r",
      "MOFGCN (nci - cell):  49%|████▉     | 28/57 [00:18<00:19,  1.48it/s]"
     ]
    },
    {
     "name": "stdout",
     "output_type": "stream",
     "text": [
      "epoch: 100 loss:0.092009 auc:0.3315\n",
      "epoch: 120 loss:0.087877 auc:0.3324\n",
      "epoch: 140 loss:0.085175 auc:0.3341\n",
      "epoch: 160 loss:0.083300 auc:0.3344\n",
      "Fit finished.\n",
      "epoch:   0 loss:0.823294 auc:0.3728\n",
      "epoch:  20 loss:0.264702 auc:0.5209\n",
      "epoch:  40 loss:0.166248 auc:0.5709\n",
      "epoch:  60 loss:0.122748 auc:0.6314\n",
      "epoch:  80 loss:0.105249 auc:0.6700\n",
      "epoch: 100 loss:0.096569 auc:0.6932\n",
      "epoch: 120 loss:0.091324 auc:0.7088\n",
      "epoch: 140 loss:0.087771 auc:0.7125\n",
      "epoch: 160 loss:0.085222 auc:0.7115\n",
      "epoch: 180 loss:0.083333 auc:0.7078\n",
      "epoch: 200 loss:0.081903 auc:0.7040\n",
      "epoch: 220 loss:0.080794 auc:0.6984\n"
     ]
    },
    {
     "name": "stderr",
     "output_type": "stream",
     "text": [
      "\r",
      "MOFGCN (nci - cell):  51%|█████     | 29/57 [00:19<00:19,  1.40it/s]"
     ]
    },
    {
     "name": "stdout",
     "output_type": "stream",
     "text": [
      "epoch: 240 loss:0.079926 auc:0.6926\n",
      "epoch: 260 loss:0.079233 auc:0.6897\n",
      "Fit finished.\n",
      "epoch:   0 loss:0.750642 auc:0.4486\n",
      "epoch:  20 loss:0.240273 auc:0.4252\n",
      "epoch:  40 loss:0.144833 auc:0.3967\n",
      "epoch:  60 loss:0.112264 auc:0.4021\n",
      "epoch:  80 loss:0.099086 auc:0.4201\n",
      "epoch: 100 loss:0.092278 auc:0.4351\n",
      "epoch: 120 loss:0.088103 auc:0.4458\n",
      "epoch: 140 loss:0.085292 auc:0.4557\n",
      "epoch: 160 loss:0.083308 auc:0.4654\n",
      "epoch: 180 loss:0.081865 auc:0.4705\n",
      "epoch: 200 loss:0.080776 auc:0.4753\n",
      "epoch: 220 loss:0.079936 auc:0.4808\n",
      "epoch: 240 loss:0.079279 auc:0.4854\n",
      "epoch: 260 loss:0.078757 auc:0.4891\n",
      "epoch: 280 loss:0.078338 auc:0.4911\n",
      "epoch: 300 loss:0.077998 auc:0.4919\n",
      "epoch: 320 loss:0.077718 auc:0.4937\n",
      "epoch: 340 loss:0.077487 auc:0.4933\n",
      "epoch: 360 loss:0.077295 auc:0.4937\n",
      "epoch: 380 loss:0.077134 auc:0.4939\n",
      "epoch: 400 loss:0.076998 auc:0.4937\n",
      "epoch: 420 loss:0.076883 auc:0.4933\n",
      "epoch: 440 loss:0.076785 auc:0.4925\n",
      "epoch: 460 loss:0.076700 auc:0.4937\n",
      "epoch: 480 loss:0.076628 auc:0.4939\n",
      "epoch: 500 loss:0.076565 auc:0.4941\n",
      "epoch: 520 loss:0.076511 auc:0.4939\n",
      "epoch: 540 loss:0.076463 auc:0.4943\n",
      "epoch: 560 loss:0.076421 auc:0.4951\n",
      "epoch: 580 loss:0.076384 auc:0.4953\n",
      "epoch: 600 loss:0.076352 auc:0.4954\n",
      "epoch: 620 loss:0.076323 auc:0.4951\n",
      "epoch: 640 loss:0.076297 auc:0.4951\n",
      "epoch: 660 loss:0.076274 auc:0.4956\n",
      "epoch: 680 loss:0.076254 auc:0.4962\n",
      "epoch: 700 loss:0.076236 auc:0.4970\n",
      "epoch: 720 loss:0.076219 auc:0.4970\n",
      "epoch: 740 loss:0.076205 auc:0.4970\n",
      "epoch: 760 loss:0.076191 auc:0.4972\n",
      "epoch: 780 loss:0.076179 auc:0.4974\n",
      "epoch: 800 loss:0.076169 auc:0.4972\n",
      "epoch: 820 loss:0.076159 auc:0.4976\n"
     ]
    },
    {
     "name": "stderr",
     "output_type": "stream",
     "text": [
      "\r",
      "MOFGCN (nci - cell):  53%|█████▎    | 30/57 [00:21<00:29,  1.11s/it]"
     ]
    },
    {
     "name": "stdout",
     "output_type": "stream",
     "text": [
      "epoch: 840 loss:0.076150 auc:0.4976\n",
      "epoch: 860 loss:0.076142 auc:0.4974\n",
      "epoch: 880 loss:0.076135 auc:0.4972\n",
      "epoch: 900 loss:0.076128 auc:0.4972\n",
      "epoch: 920 loss:0.076122 auc:0.4966\n",
      "Fit finished.\n",
      "epoch:   0 loss:0.841494 auc:0.5816\n",
      "epoch:  20 loss:0.240105 auc:0.5220\n",
      "epoch:  40 loss:0.143223 auc:0.5336\n",
      "epoch:  60 loss:0.110767 auc:0.5436\n",
      "epoch:  80 loss:0.097865 auc:0.5536\n"
     ]
    },
    {
     "name": "stderr",
     "output_type": "stream",
     "text": [
      "\r",
      "MOFGCN (nci - cell):  54%|█████▍    | 31/57 [00:21<00:23,  1.10it/s]"
     ]
    },
    {
     "name": "stdout",
     "output_type": "stream",
     "text": [
      "epoch: 100 loss:0.091302 auc:0.5604\n",
      "epoch: 120 loss:0.087308 auc:0.5672\n",
      "epoch: 140 loss:0.084623 auc:0.5748\n",
      "epoch: 160 loss:0.082719 auc:0.5800\n",
      "Fit finished.\n",
      "epoch:   0 loss:0.748334 auc:0.3930\n",
      "epoch:  20 loss:0.249315 auc:0.5144\n",
      "epoch:  40 loss:0.147724 auc:0.6849\n",
      "epoch:  60 loss:0.112256 auc:0.6621\n",
      "epoch:  80 loss:0.098145 auc:0.6524\n",
      "epoch: 100 loss:0.091289 auc:0.6290\n",
      "epoch: 120 loss:0.087373 auc:0.6095\n",
      "epoch: 140 loss:0.084848 auc:0.5990\n",
      "epoch: 160 loss:0.083094 auc:0.5913\n",
      "epoch: 180 loss:0.081814 auc:0.5875\n"
     ]
    },
    {
     "name": "stderr",
     "output_type": "stream",
     "text": [
      "\r",
      "MOFGCN (nci - cell):  56%|█████▌    | 32/57 [00:22<00:19,  1.26it/s]"
     ]
    },
    {
     "name": "stdout",
     "output_type": "stream",
     "text": [
      "epoch: 200 loss:0.080843 auc:0.5849\n",
      "Fit finished.\n",
      "epoch:   0 loss:0.833954 auc:0.5127\n",
      "epoch:  20 loss:0.269126 auc:0.4403\n",
      "epoch:  40 loss:0.170109 auc:0.4848\n",
      "epoch:  60 loss:0.125787 auc:0.5059\n",
      "epoch:  80 loss:0.106479 auc:0.5181\n",
      "epoch: 100 loss:0.096756 auc:0.5241\n",
      "epoch: 120 loss:0.091073 auc:0.5264\n",
      "epoch: 140 loss:0.087411 auc:0.5247\n"
     ]
    },
    {
     "name": "stderr",
     "output_type": "stream",
     "text": [
      "\r",
      "MOFGCN (nci - cell):  58%|█████▊    | 33/57 [00:22<00:17,  1.35it/s]"
     ]
    },
    {
     "name": "stdout",
     "output_type": "stream",
     "text": [
      "epoch: 160 loss:0.084882 auc:0.5232\n",
      "epoch: 180 loss:0.083043 auc:0.5183\n",
      "epoch: 200 loss:0.081659 auc:0.5151\n",
      "epoch: 220 loss:0.080586 auc:0.5117\n",
      "epoch: 240 loss:0.079741 auc:0.5098\n",
      "Fit finished.\n",
      "epoch:   0 loss:0.814564 auc:0.4902\n",
      "epoch:  20 loss:0.270424 auc:0.6054\n",
      "epoch:  40 loss:0.171674 auc:0.6375\n",
      "epoch:  60 loss:0.126606 auc:0.6246\n",
      "epoch:  80 loss:0.107463 auc:0.6279\n",
      "epoch: 100 loss:0.097957 auc:0.6287\n",
      "epoch: 120 loss:0.092353 auc:0.6230\n",
      "epoch: 140 loss:0.088662 auc:0.6222\n",
      "epoch: 160 loss:0.086053 auc:0.6198\n",
      "epoch: 180 loss:0.084124 auc:0.6190\n"
     ]
    },
    {
     "name": "stderr",
     "output_type": "stream",
     "text": [
      "\r",
      "MOFGCN (nci - cell):  60%|█████▉    | 34/57 [00:23<00:15,  1.48it/s]"
     ]
    },
    {
     "name": "stdout",
     "output_type": "stream",
     "text": [
      "epoch: 200 loss:0.082654 auc:0.6182\n",
      "Fit finished.\n",
      "epoch:   0 loss:0.761863 auc:0.4288\n",
      "epoch:  20 loss:0.243344 auc:0.8215\n",
      "epoch:  40 loss:0.145682 auc:0.8613\n",
      "epoch:  60 loss:0.111174 auc:0.8522\n",
      "epoch:  80 loss:0.097782 auc:0.8587\n",
      "epoch: 100 loss:0.091274 auc:0.8635\n",
      "epoch: 120 loss:0.087426 auc:0.8670\n",
      "epoch: 140 loss:0.084885 auc:0.8700\n",
      "epoch: 160 loss:0.083100 auc:0.8739\n",
      "epoch: 180 loss:0.081806 auc:0.8767\n",
      "epoch: 200 loss:0.080845 auc:0.8784\n",
      "epoch: 220 loss:0.080120 auc:0.8800\n",
      "epoch: 240 loss:0.079564 auc:0.8808\n",
      "epoch: 260 loss:0.079128 auc:0.8823\n",
      "epoch: 280 loss:0.078782 auc:0.8843\n",
      "epoch: 300 loss:0.078504 auc:0.8852\n",
      "epoch: 320 loss:0.078277 auc:0.8849\n",
      "epoch: 340 loss:0.078089 auc:0.8847\n",
      "epoch: 360 loss:0.077933 auc:0.8854\n",
      "epoch: 380 loss:0.077803 auc:0.8860\n",
      "epoch: 400 loss:0.077693 auc:0.8865\n",
      "epoch: 420 loss:0.077600 auc:0.8873\n",
      "epoch: 440 loss:0.077521 auc:0.8875\n",
      "epoch: 460 loss:0.077453 auc:0.8880\n",
      "epoch: 480 loss:0.077394 auc:0.8880\n",
      "epoch: 500 loss:0.077344 auc:0.8886\n",
      "epoch: 520 loss:0.077300 auc:0.8895\n",
      "epoch: 540 loss:0.077263 auc:0.8904\n",
      "epoch: 560 loss:0.077230 auc:0.8908\n",
      "epoch: 580 loss:0.077201 auc:0.8914\n",
      "epoch: 600 loss:0.077176 auc:0.8921\n",
      "epoch: 620 loss:0.077153 auc:0.8919\n",
      "epoch: 640 loss:0.077134 auc:0.8927\n",
      "epoch: 660 loss:0.077116 auc:0.8932\n",
      "epoch: 680 loss:0.077101 auc:0.8938\n",
      "epoch: 700 loss:0.077087 auc:0.8945\n",
      "epoch: 720 loss:0.077075 auc:0.8949\n",
      "epoch: 740 loss:0.077064 auc:0.8953\n",
      "epoch: 760 loss:0.077054 auc:0.8951\n",
      "epoch: 780 loss:0.077045 auc:0.8953\n",
      "epoch: 800 loss:0.077036 auc:0.8951\n"
     ]
    },
    {
     "name": "stderr",
     "output_type": "stream",
     "text": [
      "\r",
      "MOFGCN (nci - cell):  61%|██████▏   | 35/57 [00:25<00:24,  1.09s/it]"
     ]
    },
    {
     "name": "stdout",
     "output_type": "stream",
     "text": [
      "epoch: 820 loss:0.077029 auc:0.8951\n",
      "epoch: 840 loss:0.077022 auc:0.8951\n",
      "epoch: 860 loss:0.077016 auc:0.8949\n",
      "epoch: 880 loss:0.077011 auc:0.8949\n",
      "epoch: 900 loss:0.077006 auc:0.8949\n",
      "Fit finished.\n",
      "epoch:   0 loss:0.844290 auc:0.5084\n",
      "epoch:  20 loss:0.254405 auc:0.6480\n",
      "epoch:  40 loss:0.158981 auc:0.8453\n",
      "epoch:  60 loss:0.120804 auc:0.8444\n",
      "epoch:  80 loss:0.104293 auc:0.8409\n",
      "epoch: 100 loss:0.095874 auc:0.8426\n",
      "epoch: 120 loss:0.090909 auc:0.8395\n",
      "epoch: 140 loss:0.087666 auc:0.8355\n",
      "epoch: 160 loss:0.085395 auc:0.8347\n",
      "epoch: 180 loss:0.083730 auc:0.8351\n"
     ]
    },
    {
     "name": "stderr",
     "output_type": "stream",
     "text": [
      "\r",
      "MOFGCN (nci - cell):  63%|██████▎   | 36/57 [00:26<00:19,  1.08it/s]"
     ]
    },
    {
     "name": "stdout",
     "output_type": "stream",
     "text": [
      "epoch: 200 loss:0.082471 auc:0.8333\n",
      "Fit finished.\n",
      "epoch:   0 loss:0.761506 auc:0.5657\n",
      "epoch:  20 loss:0.215208 auc:0.5404\n",
      "epoch:  40 loss:0.131824 auc:0.5541\n",
      "epoch:  60 loss:0.105594 auc:0.5966\n",
      "epoch:  80 loss:0.094588 auc:0.6197\n",
      "epoch: 100 loss:0.088838 auc:0.6313\n",
      "epoch: 120 loss:0.085333 auc:0.6355\n",
      "epoch: 140 loss:0.083007 auc:0.6423\n",
      "epoch: 160 loss:0.081394 auc:0.6439\n",
      "epoch: 180 loss:0.080244 auc:0.6434\n",
      "epoch: 200 loss:0.079400 auc:0.6450\n",
      "epoch: 220 loss:0.078765 auc:0.6460\n",
      "epoch: 240 loss:0.078274 auc:0.6455\n",
      "epoch: 260 loss:0.077888 auc:0.6450\n",
      "epoch: 280 loss:0.077580 auc:0.6455\n",
      "epoch: 300 loss:0.077332 auc:0.6465\n",
      "epoch: 320 loss:0.077129 auc:0.6486\n",
      "epoch: 340 loss:0.076962 auc:0.6507\n",
      "epoch: 360 loss:0.076822 auc:0.6528\n",
      "epoch: 380 loss:0.076705 auc:0.6513\n",
      "epoch: 400 loss:0.076605 auc:0.6502\n",
      "epoch: 420 loss:0.076520 auc:0.6507\n",
      "epoch: 440 loss:0.076447 auc:0.6518\n",
      "epoch: 460 loss:0.076384 auc:0.6502\n",
      "epoch: 480 loss:0.076329 auc:0.6534\n",
      "epoch: 500 loss:0.076282 auc:0.6544\n",
      "epoch: 520 loss:0.076239 auc:0.6544\n",
      "epoch: 540 loss:0.076202 auc:0.6544\n",
      "epoch: 560 loss:0.076170 auc:0.6555\n",
      "epoch: 580 loss:0.076140 auc:0.6560\n",
      "epoch: 600 loss:0.076114 auc:0.6576\n",
      "epoch: 620 loss:0.076091 auc:0.6586\n",
      "epoch: 640 loss:0.076070 auc:0.6597\n",
      "epoch: 660 loss:0.076051 auc:0.6586\n",
      "epoch: 680 loss:0.076034 auc:0.6581\n",
      "epoch: 700 loss:0.076019 auc:0.6576\n",
      "epoch: 720 loss:0.076005 auc:0.6591\n",
      "epoch: 740 loss:0.075992 auc:0.6597\n",
      "epoch: 760 loss:0.075981 auc:0.6602\n",
      "epoch: 780 loss:0.075970 auc:0.6602\n",
      "epoch: 800 loss:0.075961 auc:0.6628\n",
      "epoch: 820 loss:0.075952 auc:0.6633\n",
      "epoch: 840 loss:0.075944 auc:0.6639\n",
      "epoch: 860 loss:0.075937 auc:0.6649\n",
      "epoch: 880 loss:0.075931 auc:0.6649\n",
      "epoch: 900 loss:0.075925 auc:0.6649\n",
      "epoch: 920 loss:0.075919 auc:0.6649\n",
      "epoch: 940 loss:0.075914 auc:0.6660\n"
     ]
    },
    {
     "name": "stderr",
     "output_type": "stream",
     "text": [
      "\r",
      "MOFGCN (nci - cell):  65%|██████▍   | 37/57 [00:28<00:26,  1.30s/it]"
     ]
    },
    {
     "name": "stdout",
     "output_type": "stream",
     "text": [
      "epoch: 960 loss:0.075910 auc:0.6654\n",
      "epoch: 980 loss:0.075906 auc:0.6665\n",
      "Fit finished.\n",
      "epoch:   0 loss:0.808005 auc:0.5056\n",
      "epoch:  20 loss:0.258225 auc:0.5554\n",
      "epoch:  40 loss:0.161763 auc:0.6466\n",
      "epoch:  60 loss:0.120623 auc:0.6658\n",
      "epoch:  80 loss:0.103047 auc:0.6637\n",
      "epoch: 100 loss:0.094447 auc:0.6615\n"
     ]
    },
    {
     "name": "stderr",
     "output_type": "stream",
     "text": [
      "\r",
      "MOFGCN (nci - cell):  67%|██████▋   | 38/57 [00:28<00:20,  1.07s/it]"
     ]
    },
    {
     "name": "stdout",
     "output_type": "stream",
     "text": [
      "epoch: 120 loss:0.089470 auc:0.6563\n",
      "epoch: 140 loss:0.086201 auc:0.6503\n",
      "epoch: 160 loss:0.083885 auc:0.6479\n",
      "epoch: 180 loss:0.082185 auc:0.6464\n",
      "epoch: 200 loss:0.080907 auc:0.6450\n",
      "Fit finished.\n",
      "epoch:   0 loss:0.794996 auc:0.4954\n",
      "epoch:  20 loss:0.255231 auc:0.4751\n",
      "epoch:  40 loss:0.157801 auc:0.5151\n",
      "epoch:  60 loss:0.118178 auc:0.5585\n",
      "epoch:  80 loss:0.101833 auc:0.5787\n",
      "epoch: 100 loss:0.093806 auc:0.5858\n",
      "epoch: 120 loss:0.089074 auc:0.5931\n",
      "epoch: 140 loss:0.085934 auc:0.5977\n",
      "epoch: 160 loss:0.083693 auc:0.5995\n",
      "epoch: 180 loss:0.082034 auc:0.6040\n",
      "epoch: 200 loss:0.080770 auc:0.6043\n",
      "epoch: 220 loss:0.079788 auc:0.6052\n",
      "epoch: 240 loss:0.079011 auc:0.6062\n",
      "epoch: 260 loss:0.078384 auc:0.6087\n",
      "epoch: 280 loss:0.077870 auc:0.6122\n",
      "epoch: 300 loss:0.077442 auc:0.6147\n",
      "epoch: 320 loss:0.077081 auc:0.6166\n",
      "epoch: 340 loss:0.076774 auc:0.6178\n",
      "epoch: 360 loss:0.076510 auc:0.6184\n",
      "epoch: 380 loss:0.076284 auc:0.6194\n",
      "epoch: 400 loss:0.076088 auc:0.6210\n",
      "epoch: 420 loss:0.075919 auc:0.6223\n",
      "epoch: 440 loss:0.075772 auc:0.6229\n",
      "epoch: 460 loss:0.075645 auc:0.6235\n",
      "epoch: 480 loss:0.075535 auc:0.6239\n",
      "epoch: 500 loss:0.075441 auc:0.6240\n",
      "epoch: 520 loss:0.075359 auc:0.6249\n",
      "epoch: 540 loss:0.075288 auc:0.6257\n",
      "epoch: 560 loss:0.075226 auc:0.6263\n",
      "epoch: 580 loss:0.075171 auc:0.6280\n",
      "epoch: 600 loss:0.075124 auc:0.6289\n",
      "epoch: 620 loss:0.075083 auc:0.6294\n",
      "epoch: 640 loss:0.075046 auc:0.6307\n",
      "epoch: 660 loss:0.075014 auc:0.6311\n",
      "epoch: 680 loss:0.074985 auc:0.6315\n",
      "epoch: 700 loss:0.074959 auc:0.6317\n",
      "epoch: 720 loss:0.074936 auc:0.6321\n",
      "epoch: 740 loss:0.074916 auc:0.6317\n",
      "epoch: 760 loss:0.074897 auc:0.6323\n",
      "epoch: 780 loss:0.074881 auc:0.6322\n",
      "epoch: 800 loss:0.074866 auc:0.6328\n",
      "epoch: 820 loss:0.074852 auc:0.6334\n",
      "epoch: 840 loss:0.074840 auc:0.6337\n",
      "epoch: 860 loss:0.074829 auc:0.6340\n",
      "epoch: 880 loss:0.074819 auc:0.6342\n",
      "epoch: 900 loss:0.074809 auc:0.6346\n",
      "epoch: 920 loss:0.074801 auc:0.6353\n",
      "epoch: 940 loss:0.074793 auc:0.6355\n"
     ]
    },
    {
     "name": "stderr",
     "output_type": "stream",
     "text": [
      "\r",
      "MOFGCN (nci - cell):  68%|██████▊   | 39/57 [00:31<00:25,  1.44s/it]"
     ]
    },
    {
     "name": "stdout",
     "output_type": "stream",
     "text": [
      "epoch: 960 loss:0.074787 auc:0.6362\n",
      "epoch: 980 loss:0.074780 auc:0.6368\n",
      "Fit finished.\n",
      "epoch:   0 loss:0.830137 auc:0.5640\n",
      "epoch:  20 loss:0.263395 auc:0.5804\n",
      "epoch:  40 loss:0.168041 auc:0.5784\n",
      "epoch:  60 loss:0.125419 auc:0.5511\n",
      "epoch:  80 loss:0.106834 auc:0.5376\n",
      "epoch: 100 loss:0.097367 auc:0.5430\n"
     ]
    },
    {
     "name": "stderr",
     "output_type": "stream",
     "text": [
      "\r",
      "MOFGCN (nci - cell):  70%|███████   | 40/57 [00:31<00:19,  1.14s/it]"
     ]
    },
    {
     "name": "stdout",
     "output_type": "stream",
     "text": [
      "epoch: 120 loss:0.091810 auc:0.5435\n",
      "epoch: 140 loss:0.088190 auc:0.5383\n",
      "epoch: 160 loss:0.085650 auc:0.5378\n",
      "Fit finished.\n",
      "epoch:   0 loss:0.801700 auc:0.4784\n",
      "epoch:  20 loss:0.220502 auc:0.4680\n",
      "epoch:  40 loss:0.131056 auc:0.5094\n",
      "epoch:  60 loss:0.104656 auc:0.5188\n",
      "epoch:  80 loss:0.094022 auc:0.5207\n",
      "epoch: 100 loss:0.088562 auc:0.5216\n",
      "epoch: 120 loss:0.085234 auc:0.5226\n",
      "epoch: 140 loss:0.083025 auc:0.5235\n",
      "epoch: 160 loss:0.081485 auc:0.5235\n",
      "epoch: 180 loss:0.080374 auc:0.5216\n"
     ]
    },
    {
     "name": "stderr",
     "output_type": "stream",
     "text": [
      "\r",
      "MOFGCN (nci - cell):  72%|███████▏  | 41/57 [00:32<00:15,  1.03it/s]"
     ]
    },
    {
     "name": "stdout",
     "output_type": "stream",
     "text": [
      "epoch: 200 loss:0.079548 auc:0.5179\n",
      "epoch: 220 loss:0.078918 auc:0.5150\n",
      "Fit finished.\n",
      "epoch:   0 loss:0.805991 auc:0.6072\n",
      "epoch:  20 loss:0.252654 auc:0.4329\n",
      "epoch:  40 loss:0.154943 auc:0.4093\n",
      "epoch:  60 loss:0.116776 auc:0.4206\n",
      "epoch:  80 loss:0.100829 auc:0.4195\n",
      "epoch: 100 loss:0.092958 auc:0.4183\n",
      "epoch: 120 loss:0.088393 auc:0.4139\n"
     ]
    },
    {
     "name": "stderr",
     "output_type": "stream",
     "text": [
      "\r",
      "MOFGCN (nci - cell):  74%|███████▎  | 42/57 [00:32<00:12,  1.23it/s]"
     ]
    },
    {
     "name": "stdout",
     "output_type": "stream",
     "text": [
      "epoch: 140 loss:0.085414 auc:0.4118\n",
      "epoch: 160 loss:0.083313 auc:0.4118\n",
      "Fit finished.\n",
      "epoch:   0 loss:0.782142 auc:0.4743\n",
      "epoch:  20 loss:0.265776 auc:0.4706\n",
      "epoch:  40 loss:0.166169 auc:0.4792\n",
      "epoch:  60 loss:0.123985 auc:0.5401\n",
      "epoch:  80 loss:0.105982 auc:0.5607\n",
      "epoch: 100 loss:0.096924 auc:0.5747\n",
      "epoch: 120 loss:0.091575 auc:0.5747\n",
      "epoch: 140 loss:0.088058 auc:0.5751\n",
      "epoch: 160 loss:0.085595 auc:0.5726\n",
      "epoch: 180 loss:0.083794 auc:0.5697\n",
      "epoch: 200 loss:0.082433 auc:0.5689\n",
      "epoch: 220 loss:0.081376 auc:0.5664\n"
     ]
    },
    {
     "name": "stderr",
     "output_type": "stream",
     "text": [
      "\r",
      "MOFGCN (nci - cell):  75%|███████▌  | 43/57 [00:33<00:10,  1.31it/s]"
     ]
    },
    {
     "name": "stdout",
     "output_type": "stream",
     "text": [
      "epoch: 240 loss:0.080540 auc:0.5668\n",
      "epoch: 260 loss:0.079867 auc:0.5668\n",
      "Fit finished.\n",
      "epoch:   0 loss:0.778480 auc:0.4764\n",
      "epoch:  20 loss:0.255139 auc:0.8213\n",
      "epoch:  40 loss:0.161689 auc:0.8931\n",
      "epoch:  60 loss:0.123555 auc:0.9317\n",
      "epoch:  80 loss:0.106701 auc:0.9435\n",
      "epoch: 100 loss:0.097815 auc:0.9519\n",
      "epoch: 120 loss:0.092416 auc:0.9555\n",
      "epoch: 140 loss:0.088829 auc:0.9590\n",
      "epoch: 160 loss:0.086281 auc:0.9609\n",
      "epoch: 180 loss:0.084388 auc:0.9618\n",
      "epoch: 200 loss:0.082941 auc:0.9624\n",
      "epoch: 220 loss:0.081816 auc:0.9625\n",
      "epoch: 240 loss:0.080928 auc:0.9628\n",
      "epoch: 260 loss:0.080216 auc:0.9632\n",
      "epoch: 280 loss:0.079640 auc:0.9640\n",
      "epoch: 300 loss:0.079169 auc:0.9636\n",
      "epoch: 320 loss:0.078782 auc:0.9635\n"
     ]
    },
    {
     "name": "stderr",
     "output_type": "stream",
     "text": [
      "\r",
      "MOFGCN (nci - cell):  77%|███████▋  | 44/57 [00:34<00:10,  1.24it/s]"
     ]
    },
    {
     "name": "stdout",
     "output_type": "stream",
     "text": [
      "epoch: 340 loss:0.078461 auc:0.9628\n",
      "epoch: 360 loss:0.078192 auc:0.9629\n",
      "epoch: 380 loss:0.077965 auc:0.9620\n",
      "Fit finished.\n",
      "epoch:   0 loss:0.774212 auc:0.4896\n",
      "epoch:  20 loss:0.263913 auc:0.4188\n",
      "epoch:  40 loss:0.162709 auc:0.3840\n",
      "epoch:  60 loss:0.121663 auc:0.3843\n",
      "epoch:  80 loss:0.105076 auc:0.3786\n",
      "epoch: 100 loss:0.096683 auc:0.3847\n"
     ]
    },
    {
     "name": "stderr",
     "output_type": "stream",
     "text": [
      "\r",
      "MOFGCN (nci - cell):  79%|███████▉  | 45/57 [00:34<00:08,  1.40it/s]"
     ]
    },
    {
     "name": "stdout",
     "output_type": "stream",
     "text": [
      "epoch: 120 loss:0.091555 auc:0.3894\n",
      "epoch: 140 loss:0.088110 auc:0.3904\n",
      "epoch: 160 loss:0.085659 auc:0.3930\n",
      "Fit finished.\n",
      "epoch:   0 loss:0.815371 auc:0.6110\n",
      "epoch:  20 loss:0.258449 auc:0.7328\n",
      "epoch:  40 loss:0.153906 auc:0.7846\n",
      "epoch:  60 loss:0.116214 auc:0.7703\n",
      "epoch:  80 loss:0.101121 auc:0.7653\n",
      "epoch: 100 loss:0.093514 auc:0.7650\n",
      "epoch: 120 loss:0.088999 auc:0.7635\n",
      "epoch: 140 loss:0.085993 auc:0.7612\n",
      "epoch: 160 loss:0.083845 auc:0.7603\n",
      "epoch: 180 loss:0.082237 auc:0.7622\n"
     ]
    },
    {
     "name": "stderr",
     "output_type": "stream",
     "text": [
      "\r",
      "MOFGCN (nci - cell):  81%|████████  | 46/57 [00:35<00:07,  1.52it/s]"
     ]
    },
    {
     "name": "stdout",
     "output_type": "stream",
     "text": [
      "epoch: 200 loss:0.081002 auc:0.7638\n",
      "Fit finished.\n",
      "epoch:   0 loss:0.846736 auc:0.4989\n",
      "epoch:  20 loss:0.238413 auc:0.4633\n",
      "epoch:  40 loss:0.143925 auc:0.4758\n",
      "epoch:  60 loss:0.111616 auc:0.4811\n",
      "epoch:  80 loss:0.098119 auc:0.4951\n",
      "epoch: 100 loss:0.091036 auc:0.5057\n",
      "epoch: 120 loss:0.086756 auc:0.5201\n",
      "epoch: 140 loss:0.083987 auc:0.5307\n",
      "epoch: 160 loss:0.082096 auc:0.5333\n",
      "epoch: 180 loss:0.080757 auc:0.5390\n",
      "epoch: 200 loss:0.079777 auc:0.5428\n",
      "epoch: 220 loss:0.079040 auc:0.5439\n",
      "epoch: 240 loss:0.078471 auc:0.5447\n",
      "epoch: 260 loss:0.078024 auc:0.5462\n",
      "epoch: 280 loss:0.077666 auc:0.5458\n",
      "epoch: 300 loss:0.077374 auc:0.5470\n",
      "epoch: 320 loss:0.077135 auc:0.5477\n",
      "epoch: 340 loss:0.076936 auc:0.5466\n"
     ]
    },
    {
     "name": "stderr",
     "output_type": "stream",
     "text": [
      "\r",
      "MOFGCN (nci - cell):  82%|████████▏ | 47/57 [00:36<00:07,  1.35it/s]"
     ]
    },
    {
     "name": "stdout",
     "output_type": "stream",
     "text": [
      "epoch: 360 loss:0.076769 auc:0.5470\n",
      "epoch: 380 loss:0.076628 auc:0.5455\n",
      "epoch: 400 loss:0.076509 auc:0.5439\n",
      "Fit finished.\n",
      "epoch:   0 loss:0.908476 auc:0.5139\n",
      "epoch:  20 loss:0.254169 auc:0.7277\n",
      "epoch:  40 loss:0.153483 auc:0.7995\n",
      "epoch:  60 loss:0.116695 auc:0.8169\n",
      "epoch:  80 loss:0.101238 auc:0.8295\n",
      "epoch: 100 loss:0.093413 auc:0.8347\n",
      "epoch: 120 loss:0.088818 auc:0.8375\n",
      "epoch: 140 loss:0.085848 auc:0.8354\n",
      "epoch: 160 loss:0.083791 auc:0.8337\n",
      "epoch: 180 loss:0.082308 auc:0.8312\n",
      "epoch: 200 loss:0.081204 auc:0.8326\n",
      "epoch: 220 loss:0.080361 auc:0.8316\n",
      "epoch: 240 loss:0.079704 auc:0.8347\n",
      "epoch: 260 loss:0.079182 auc:0.8358\n",
      "epoch: 280 loss:0.078761 auc:0.8379\n",
      "epoch: 300 loss:0.078417 auc:0.8382\n",
      "epoch: 320 loss:0.078133 auc:0.8400\n",
      "epoch: 340 loss:0.077895 auc:0.8389\n",
      "epoch: 360 loss:0.077693 auc:0.8396\n",
      "epoch: 380 loss:0.077521 auc:0.8407\n",
      "epoch: 400 loss:0.077372 auc:0.8417\n"
     ]
    },
    {
     "name": "stderr",
     "output_type": "stream",
     "text": [
      "\r",
      "MOFGCN (nci - cell):  84%|████████▍ | 48/57 [00:37<00:07,  1.18it/s]"
     ]
    },
    {
     "name": "stdout",
     "output_type": "stream",
     "text": [
      "epoch: 420 loss:0.077244 auc:0.8400\n",
      "epoch: 440 loss:0.077133 auc:0.8400\n",
      "epoch: 460 loss:0.077036 auc:0.8403\n",
      "epoch: 480 loss:0.076952 auc:0.8396\n",
      "Fit finished.\n",
      "epoch:   0 loss:0.759677 auc:0.5158\n",
      "epoch:  20 loss:0.256245 auc:0.5599\n",
      "epoch:  40 loss:0.158942 auc:0.6284\n",
      "epoch:  60 loss:0.119009 auc:0.6754\n",
      "epoch:  80 loss:0.101958 auc:0.6908\n",
      "epoch: 100 loss:0.093371 auc:0.6952\n",
      "epoch: 120 loss:0.088404 auc:0.6993\n",
      "epoch: 140 loss:0.085245 auc:0.7042\n",
      "epoch: 160 loss:0.083105 auc:0.7088\n",
      "epoch: 180 loss:0.081582 auc:0.7119\n",
      "epoch: 200 loss:0.080460 auc:0.7132\n",
      "epoch: 220 loss:0.079604 auc:0.7143\n",
      "epoch: 240 loss:0.078930 auc:0.7152\n",
      "epoch: 260 loss:0.078392 auc:0.7151\n",
      "epoch: 280 loss:0.077956 auc:0.7166\n",
      "epoch: 300 loss:0.077598 auc:0.7165\n",
      "epoch: 320 loss:0.077299 auc:0.7169\n",
      "epoch: 340 loss:0.077046 auc:0.7177\n",
      "epoch: 360 loss:0.076831 auc:0.7178\n",
      "epoch: 380 loss:0.076648 auc:0.7187\n",
      "epoch: 400 loss:0.076491 auc:0.7198\n",
      "epoch: 420 loss:0.076355 auc:0.7197\n",
      "epoch: 440 loss:0.076237 auc:0.7199\n",
      "epoch: 460 loss:0.076135 auc:0.7203\n",
      "epoch: 480 loss:0.076045 auc:0.7205\n",
      "epoch: 500 loss:0.075966 auc:0.7210\n",
      "epoch: 520 loss:0.075898 auc:0.7205\n",
      "epoch: 540 loss:0.075837 auc:0.7210\n",
      "epoch: 560 loss:0.075783 auc:0.7212\n",
      "epoch: 580 loss:0.075736 auc:0.7214\n",
      "epoch: 600 loss:0.075695 auc:0.7211\n",
      "epoch: 620 loss:0.075658 auc:0.7211\n",
      "epoch: 640 loss:0.075625 auc:0.7210\n",
      "epoch: 660 loss:0.075596 auc:0.7211\n",
      "epoch: 680 loss:0.075570 auc:0.7211\n"
     ]
    },
    {
     "name": "stderr",
     "output_type": "stream",
     "text": [
      "\r",
      "MOFGCN (nci - cell):  86%|████████▌ | 49/57 [00:38<00:08,  1.09s/it]"
     ]
    },
    {
     "name": "stdout",
     "output_type": "stream",
     "text": [
      "epoch: 700 loss:0.075547 auc:0.7215\n",
      "epoch: 720 loss:0.075526 auc:0.7215\n",
      "epoch: 740 loss:0.075508 auc:0.7213\n",
      "Fit finished.\n",
      "epoch:   0 loss:0.775919 auc:0.5410\n",
      "epoch:  20 loss:0.253062 auc:0.3137\n",
      "epoch:  40 loss:0.150505 auc:0.2567\n",
      "epoch:  60 loss:0.114320 auc:0.2624\n",
      "epoch:  80 loss:0.100000 auc:0.2725\n"
     ]
    },
    {
     "name": "stderr",
     "output_type": "stream",
     "text": [
      "\r",
      "MOFGCN (nci - cell):  88%|████████▊ | 50/57 [00:39<00:06,  1.11it/s]"
     ]
    },
    {
     "name": "stdout",
     "output_type": "stream",
     "text": [
      "epoch: 100 loss:0.092850 auc:0.2818\n",
      "epoch: 120 loss:0.088598 auc:0.2864\n",
      "epoch: 140 loss:0.085768 auc:0.2907\n",
      "epoch: 160 loss:0.083744 auc:0.2934\n",
      "Fit finished.\n",
      "epoch:   0 loss:0.862459 auc:0.4660\n",
      "epoch:  20 loss:0.254003 auc:0.4907\n",
      "epoch:  40 loss:0.151268 auc:0.4064\n",
      "epoch:  60 loss:0.114839 auc:0.3650\n",
      "epoch:  80 loss:0.100504 auc:0.3582\n"
     ]
    },
    {
     "name": "stderr",
     "output_type": "stream",
     "text": [
      "\r",
      "MOFGCN (nci - cell):  89%|████████▉ | 51/57 [00:39<00:04,  1.31it/s]"
     ]
    },
    {
     "name": "stdout",
     "output_type": "stream",
     "text": [
      "epoch: 100 loss:0.093350 auc:0.3607\n",
      "epoch: 120 loss:0.088977 auc:0.3596\n",
      "epoch: 140 loss:0.086024 auc:0.3621\n",
      "epoch: 160 loss:0.083900 auc:0.3648\n",
      "Fit finished.\n",
      "epoch:   0 loss:0.800400 auc:0.4553\n",
      "epoch:  20 loss:0.263560 auc:0.4858\n",
      "epoch:  40 loss:0.163946 auc:0.5746\n",
      "epoch:  60 loss:0.121870 auc:0.6394\n",
      "epoch:  80 loss:0.103779 auc:0.6576\n",
      "epoch: 100 loss:0.094779 auc:0.6659\n",
      "epoch: 120 loss:0.089617 auc:0.6668\n",
      "epoch: 140 loss:0.086322 auc:0.6661\n",
      "epoch: 160 loss:0.084055 auc:0.6629\n",
      "epoch: 180 loss:0.082402 auc:0.6597\n"
     ]
    },
    {
     "name": "stderr",
     "output_type": "stream",
     "text": [
      "\r",
      "MOFGCN (nci - cell):  91%|█████████ | 52/57 [00:40<00:03,  1.37it/s]"
     ]
    },
    {
     "name": "stdout",
     "output_type": "stream",
     "text": [
      "epoch: 200 loss:0.081137 auc:0.6571\n",
      "epoch: 220 loss:0.080141 auc:0.6542\n",
      "epoch: 240 loss:0.079341 auc:0.6504\n",
      "Fit finished.\n",
      "epoch:   0 loss:0.780306 auc:0.5845\n",
      "epoch:  20 loss:0.261364 auc:0.6272\n",
      "epoch:  40 loss:0.160292 auc:0.7547\n",
      "epoch:  60 loss:0.120659 auc:0.7511\n",
      "epoch:  80 loss:0.104165 auc:0.7290\n"
     ]
    },
    {
     "name": "stderr",
     "output_type": "stream",
     "text": [
      "\r",
      "MOFGCN (nci - cell):  93%|█████████▎| 53/57 [00:40<00:02,  1.50it/s]"
     ]
    },
    {
     "name": "stdout",
     "output_type": "stream",
     "text": [
      "epoch: 100 loss:0.095752 auc:0.7009\n",
      "epoch: 120 loss:0.090667 auc:0.6758\n",
      "epoch: 140 loss:0.087319 auc:0.6508\n",
      "epoch: 160 loss:0.084989 auc:0.6307\n",
      "epoch: 180 loss:0.083301 auc:0.6158\n",
      "Fit finished.\n",
      "epoch:   0 loss:0.775719 auc:0.5377\n",
      "epoch:  20 loss:0.257164 auc:0.5736\n",
      "epoch:  40 loss:0.158639 auc:0.4817\n",
      "epoch:  60 loss:0.119516 auc:0.5201\n",
      "epoch:  80 loss:0.103658 auc:0.5338\n"
     ]
    },
    {
     "name": "stderr",
     "output_type": "stream",
     "text": [
      "\r",
      "MOFGCN (nci - cell):  95%|█████████▍| 54/57 [00:41<00:01,  1.61it/s]"
     ]
    },
    {
     "name": "stdout",
     "output_type": "stream",
     "text": [
      "epoch: 100 loss:0.095463 auc:0.5435\n",
      "epoch: 120 loss:0.090424 auc:0.5481\n",
      "epoch: 140 loss:0.086993 auc:0.5498\n",
      "epoch: 160 loss:0.084546 auc:0.5546\n",
      "epoch: 180 loss:0.082765 auc:0.5581\n",
      "Fit finished.\n",
      "epoch:   0 loss:0.785456 auc:0.5572\n",
      "epoch:  20 loss:0.255934 auc:0.8367\n",
      "epoch:  40 loss:0.155110 auc:0.9311\n",
      "epoch:  60 loss:0.117746 auc:0.9579\n",
      "epoch:  80 loss:0.102319 auc:0.9581\n",
      "epoch: 100 loss:0.094496 auc:0.9562\n",
      "epoch: 120 loss:0.089848 auc:0.9558\n",
      "epoch: 140 loss:0.086780 auc:0.9541\n",
      "epoch: 160 loss:0.084614 auc:0.9530\n",
      "epoch: 180 loss:0.083022 auc:0.9517\n"
     ]
    },
    {
     "name": "stderr",
     "output_type": "stream",
     "text": [
      "\r",
      "MOFGCN (nci - cell):  96%|█████████▋| 55/57 [00:41<00:01,  1.63it/s]"
     ]
    },
    {
     "name": "stdout",
     "output_type": "stream",
     "text": [
      "epoch: 200 loss:0.081820 auc:0.9503\n",
      "epoch: 220 loss:0.080893 auc:0.9487\n",
      "Fit finished.\n",
      "epoch:   0 loss:0.796835 auc:0.4306\n",
      "epoch:  20 loss:0.251083 auc:0.4888\n",
      "epoch:  40 loss:0.154996 auc:0.4872\n",
      "epoch:  60 loss:0.118543 auc:0.5068\n",
      "epoch:  80 loss:0.102958 auc:0.5054\n",
      "epoch: 100 loss:0.094833 auc:0.5054\n",
      "epoch: 120 loss:0.089915 auc:0.5079\n",
      "epoch: 140 loss:0.086642 auc:0.5099\n",
      "epoch: 160 loss:0.084345 auc:0.5087\n",
      "epoch: 180 loss:0.082672 auc:0.5072\n",
      "epoch: 200 loss:0.081416 auc:0.5070\n"
     ]
    },
    {
     "name": "stderr",
     "output_type": "stream",
     "text": [
      "\r",
      "MOFGCN (nci - cell):  98%|█████████▊| 56/57 [00:42<00:00,  1.64it/s]"
     ]
    },
    {
     "name": "stdout",
     "output_type": "stream",
     "text": [
      "epoch: 220 loss:0.080445 auc:0.5066\n",
      "Fit finished.\n",
      "epoch:   0 loss:0.807118 auc:0.5321\n",
      "epoch:  20 loss:0.227804 auc:0.7406\n",
      "epoch:  40 loss:0.136899 auc:0.8217\n",
      "epoch:  60 loss:0.107220 auc:0.8445\n",
      "epoch:  80 loss:0.095309 auc:0.8411\n",
      "epoch: 100 loss:0.089171 auc:0.8358\n",
      "epoch: 120 loss:0.085452 auc:0.8331\n",
      "epoch: 140 loss:0.082972 auc:0.8284\n"
     ]
    },
    {
     "name": "stderr",
     "output_type": "stream",
     "text": [
      "MOFGCN (nci - cell): 100%|██████████| 57/57 [00:43<00:00,  1.32it/s]"
     ]
    },
    {
     "name": "stdout",
     "output_type": "stream",
     "text": [
      "epoch: 160 loss:0.081230 auc:0.8270\n",
      "epoch: 180 loss:0.079966 auc:0.8257\n",
      "epoch: 200 loss:0.079031 auc:0.8262\n",
      "epoch: 220 loss:0.078324 auc:0.8261\n",
      "Fit finished.\n"
     ]
    },
    {
     "name": "stderr",
     "output_type": "stream",
     "text": [
      "\n"
     ]
    }
   ],
   "source": [
    "# 結果格納用\n",
    "true_data_s = pd.DataFrame()\n",
    "predict_data_s = pd.DataFrame()\n",
    "skipped_targets = []\n",
    "passed_targets = []\n",
    "\n",
    "# スキップチェック\n",
    "for target_index in range(samples):\n",
    "    label_vec = res.iloc[target_index] if target_dim == 0 else res.iloc[:, target_index]\n",
    "    passed, reason, pos, neg, total = filter_target(label_vec)\n",
    "\n",
    "    if passed:\n",
    "        passed_targets.append(target_index)\n",
    "    else:\n",
    "        skipped_targets.append((target_index, reason, pos, neg, total))\n",
    "\n",
    "# スキップ情報表示\n",
    "print(f\"\\n🚫 Skipped Targets: {len(skipped_targets)}\")\n",
    "for idx, reason, pos, neg, total in skipped_targets:\n",
    "    print(f\"Target {idx}: skipped because {reason} (total={total}, pos={pos}, neg={neg})\")\n",
    "\n",
    "# 並列実行（max_njobs を args.n_jobs に変更可能）\n",
    "results = Parallel(n_jobs=args.n_jobs)(\n",
    "    delayed(process_target)(seed, target_index)\n",
    "    for seed, target_index in enumerate(tqdm(passed_targets, desc=f\"MOFGCN ({args.data} - {target_option})\"))\n",
    ")\n",
    "\n",
    "# 結果の統合（None を除外）\n",
    "for r in results:\n",
    "    if r is not None:\n",
    "        true_data, pred_data = r\n",
    "        true_data_s = pd.concat([true_data_s, translate_result(true_data)], ignore_index=True)\n",
    "        predict_data_s = pd.concat([predict_data_s, translate_result(pred_data)], ignore_index=True)"
   ]
  },
  {
   "cell_type": "code",
   "execution_count": 11,
   "id": "elegant-economy",
   "metadata": {},
   "outputs": [
    {
     "name": "stdout",
     "output_type": "stream",
     "text": [
      "\n",
      "✅ Done. Results saved to:\n",
      "  - mofgcn_true_nci_cell.csv\n",
      "  - mofgcn_pred_nci_cell.csv\n"
     ]
    }
   ],
   "source": [
    "# Save\n",
    "true_path = f\"mofgcn_true_{args.data}_{target_option}.csv\"\n",
    "pred_path = f\"mofgcn_pred_{args.data}_{target_option}.csv\"\n",
    "true_data_s.to_csv(true_path, index=False)\n",
    "predict_data_s.to_csv(pred_path, index=False)\n",
    "\n",
    "print(f\"\\n✅ Done. Results saved to:\\n  - {true_path}\\n  - {pred_path}\")"
   ]
  },
  {
   "cell_type": "code",
   "execution_count": null,
   "id": "parallel-zambia",
   "metadata": {},
   "outputs": [],
   "source": []
  },
  {
   "cell_type": "code",
   "execution_count": null,
   "id": "three-artist",
   "metadata": {},
   "outputs": [],
   "source": []
  },
  {
   "cell_type": "code",
   "execution_count": null,
   "id": "superior-officer",
   "metadata": {},
   "outputs": [],
   "source": []
  },
  {
   "cell_type": "code",
   "execution_count": null,
   "id": "hungry-celtic",
   "metadata": {},
   "outputs": [],
   "source": []
  },
  {
   "cell_type": "code",
   "execution_count": null,
   "id": "composed-balloon",
   "metadata": {},
   "outputs": [],
   "source": []
  },
  {
   "cell_type": "code",
   "execution_count": null,
   "id": "southeast-cycling",
   "metadata": {},
   "outputs": [],
   "source": []
  },
  {
   "cell_type": "code",
   "execution_count": null,
   "id": "vocational-district",
   "metadata": {},
   "outputs": [],
   "source": []
  },
  {
   "cell_type": "code",
   "execution_count": null,
   "id": "intimate-understanding",
   "metadata": {},
   "outputs": [],
   "source": []
  },
  {
   "cell_type": "code",
   "execution_count": null,
   "id": "suffering-resort",
   "metadata": {},
   "outputs": [],
   "source": []
  },
  {
   "cell_type": "code",
   "execution_count": null,
   "id": "cooked-reynolds",
   "metadata": {},
   "outputs": [],
   "source": []
  },
  {
   "cell_type": "code",
   "execution_count": null,
   "id": "executed-bulgarian",
   "metadata": {},
   "outputs": [],
   "source": []
  }
 ],
 "metadata": {
  "kernelspec": {
   "display_name": "genex",
   "language": "python",
   "name": "myenv"
  },
  "language_info": {
   "codemirror_mode": {
    "name": "ipython",
    "version": 3
   },
   "file_extension": ".py",
   "mimetype": "text/x-python",
   "name": "python",
   "nbconvert_exporter": "python",
   "pygments_lexer": "ipython3",
   "version": "3.10.16"
  }
 },
 "nbformat": 4,
 "nbformat_minor": 5
}
