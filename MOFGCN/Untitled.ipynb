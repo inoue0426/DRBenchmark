{
 "cells": [
  {
   "cell_type": "code",
   "execution_count": 20,
   "id": "4461ae72-863a-414e-8319-a826c71dc3da",
   "metadata": {},
   "outputs": [],
   "source": [
    "import glob\n",
    "import re\n",
    "\n",
    "import argparse\n",
    "import numpy as np\n",
    "import pandas as pd\n",
    "from myutils import *\n",
    "from rdkit import Chem\n",
    "from rdkit.Chem import AllChem\n",
    "from dataclasses import dataclass"
   ]
  },
  {
   "cell_type": "code",
   "execution_count": 12,
   "id": "3069893d-5dca-426c-a4fa-2591458c20d0",
   "metadata": {},
   "outputs": [],
   "source": [
    "from load_data import load_data"
   ]
  },
  {
   "cell_type": "code",
   "execution_count": 16,
   "id": "8c9c5729-eecd-4055-8d18-cf713662b0f5",
   "metadata": {
    "scrolled": true
   },
   "outputs": [],
   "source": [
    "@dataclass\n",
    "class Args:\n",
    "    device: str\n",
    "    data: str\n",
    "    n_jobs: int \n",
    "    lr: float = 0.001\n",
    "    wd: float = 1e-5\n",
    "    layer_size: tuple = (1024, 1024)\n",
    "    alpha: float = 0.25\n",
    "    gamma: float = 8\n",
    "    epochs: int = 1000"
   ]
  },
  {
   "cell_type": "code",
   "execution_count": 24,
   "id": "e6b9d14d-00ea-4306-9b2c-7b4aaec634ce",
   "metadata": {},
   "outputs": [
    {
     "name": "stdout",
     "output_type": "stream",
     "text": [
      "load nci\n"
     ]
    }
   ],
   "source": [
    "target_dim = 0 \n",
    "args = Args(\n",
    "    device=\"cuda\" if torch.cuda.is_available() else \"cpu\",\n",
    "    data='nci',\n",
    "    n_jobs=10,\n",
    ")\n",
    "\n",
    "res, drug_feature, exprs, mut, cna, null_mask = load_data(args)"
   ]
  },
  {
   "cell_type": "code",
   "execution_count": 27,
   "id": "11e18a09-886f-42ba-b705-d597086b355f",
   "metadata": {
    "scrolled": true
   },
   "outputs": [
    {
     "name": "stdout",
     "output_type": "stream",
     "text": [
      "res shape: (59, 976)\n",
      "drug_feature shape: (976, 920)\n",
      "exprs shape: (59, 23059)\n",
      "mut shape: (59, 9307)\n",
      "cna shape: (59, 23232)\n",
      "null_mask shape: (59, 976)\n"
     ]
    }
   ],
   "source": [
    "print(\"res shape:\", res.shape)\n",
    "print(\"drug_feature shape:\", drug_feature.shape)\n",
    "print(\"exprs shape:\", exprs.shape)\n",
    "print(\"mut shape:\", mut.shape)\n",
    "print(\"cna shape:\", cna.shape)\n",
    "print(\"null_mask shape:\", null_mask.shape)"
   ]
  },
  {
   "cell_type": "code",
   "execution_count": null,
   "id": "ebc25ef2-5af4-4c54-a914-fdcccd62cac8",
   "metadata": {},
   "outputs": [],
   "source": []
  }
 ],
 "metadata": {
  "kernelspec": {
   "display_name": "torch",
   "language": "python",
   "name": "torch"
  },
  "language_info": {
   "codemirror_mode": {
    "name": "ipython",
    "version": 3
   },
   "file_extension": ".py",
   "mimetype": "text/x-python",
   "name": "python",
   "nbconvert_exporter": "python",
   "pygments_lexer": "ipython3",
   "version": "3.10.15"
  }
 },
 "nbformat": 4,
 "nbformat_minor": 5
}
