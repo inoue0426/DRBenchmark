{
 "cells": [
  {
   "cell_type": "code",
   "execution_count": 1,
   "id": "572a0fa8-b250-47bc-b76d-a2ec8c923717",
   "metadata": {},
   "outputs": [],
   "source": [
    "import argparse\n",
    "\n",
    "import numpy as np\n",
    "import pandas as pd\n",
    "import scipy.sparse as sp\n",
    "import torch\n",
    "from sklearn.model_selection import KFold\n",
    "from tqdm import tqdm"
   ]
  },
  {
   "cell_type": "code",
   "execution_count": 2,
   "id": "807ed612-b85a-46b4-9f14-9df64631581d",
   "metadata": {},
   "outputs": [],
   "source": [
    "%load_ext autoreload\n",
    "%autoreload 2\n",
    "\n",
    "from load_data import load_data\n",
    "from model import GModel\n",
    "from myutils import roc_auc, translate_result\n",
    "from optimizer import Optimizer\n",
    "from sampler import NewSampler"
   ]
  },
  {
   "cell_type": "code",
   "execution_count": 3,
   "id": "377e2120-1fee-4f37-acac-6b5693543ff4",
   "metadata": {},
   "outputs": [
    {
     "name": "stdout",
     "output_type": "stream",
     "text": [
      "load gdsc2\n"
     ]
    }
   ],
   "source": [
    "class Args:\n",
    "    def __init__(self):\n",
    "        self.device = \"cpu\"  # cuda:number or cpu\n",
    "        self.data = \"gdsc2\"  # Dataset{gdsc or ccle}\n",
    "\n",
    "\n",
    "args = Args()\n",
    "res, drug_finger, exprs, mut, cna, null_mask, pos_num = load_data(args)"
   ]
  },
  {
   "cell_type": "code",
   "execution_count": 4,
   "id": "e4830366-799a-4b1e-8395-7d4121b83a73",
   "metadata": {},
   "outputs": [],
   "source": [
    "cell_sum = np.sum(res, axis=1)\n",
    "drug_sum = np.sum(res, axis=0)\n",
    "\n",
    "target_dim = [\n",
    "    0,  # Cell\n",
    "    # 1  # Drug\n",
    "]\n",
    "device = torch.device(\"cuda\" if torch.cuda.is_available() else \"cpu\")"
   ]
  },
  {
   "cell_type": "code",
   "execution_count": 5,
   "id": "f7186080-2927-47ab-82ec-1334f60f6777",
   "metadata": {},
   "outputs": [],
   "source": [
    "def mofgcn_new(\n",
    "    exprs,\n",
    "    cna,\n",
    "    mut,\n",
    "    drug_finger,\n",
    "    res_mat,\n",
    "    null_mask,\n",
    "    target_dim,\n",
    "    target_index,\n",
    "    evaluate_fun,\n",
    "    args,\n",
    "    seed,\n",
    "    device,\n",
    "):\n",
    "    sampler = NewSampler(res_mat, null_mask, target_dim, target_index, seed)\n",
    "    model = GModel(\n",
    "        adj_mat=sampler.train_data,\n",
    "        gene=exprs,\n",
    "        cna=cna,\n",
    "        mutation=mut,\n",
    "        sigma=2,\n",
    "        k=11,\n",
    "        iterates=3,\n",
    "        feature_drug=drug_finger,\n",
    "        n_hid1=192,\n",
    "        n_hid2=36,\n",
    "        alpha=5.74,\n",
    "        device=device,\n",
    "    )\n",
    "    opt = Optimizer(\n",
    "        model,\n",
    "        sampler.train_data,\n",
    "        sampler.test_data,\n",
    "        sampler.test_mask,\n",
    "        sampler.train_mask,\n",
    "        roc_auc,\n",
    "        lr=5e-4,\n",
    "        epochs=1000,\n",
    "        device=device,\n",
    "    ).to(device)\n",
    "    epoch, true_data, predict_data = opt()\n",
    "    return true_data, predict_data"
   ]
  },
  {
   "cell_type": "code",
   "execution_count": 6,
   "id": "c23b7d83-33d7-4868-8981-12ae43bc19ec",
   "metadata": {
    "scrolled": true
   },
   "outputs": [
    {
     "name": "stderr",
     "output_type": "stream",
     "text": [
      "  0%|          | 0/910 [00:00<?, ?it/s]"
     ]
    },
    {
     "name": "stdout",
     "output_type": "stream",
     "text": [
      "epoch:   0 loss:0.890532 auc:0.3809\n",
      "epoch:  20 loss:0.286389 auc:0.9805\n",
      "epoch:  40 loss:0.207907 auc:0.9814\n",
      "epoch:  60 loss:0.179200 auc:0.9814\n",
      "epoch:  80 loss:0.168816 auc:0.9834\n",
      "epoch: 100 loss:0.159614 auc:0.9863\n",
      "epoch: 120 loss:0.150605 auc:0.9863\n",
      "epoch: 140 loss:0.147434 auc:0.9863\n",
      "epoch: 160 loss:0.145358 auc:0.9863\n",
      "epoch: 180 loss:0.144060 auc:0.9863\n",
      "epoch: 200 loss:0.142793 auc:0.9873\n",
      "epoch: 220 loss:0.140988 auc:0.9873\n"
     ]
    },
    {
     "name": "stderr",
     "output_type": "stream",
     "text": [
      "  0%|          | 1/910 [00:05<1:23:02,  5.48s/it]"
     ]
    },
    {
     "name": "stdout",
     "output_type": "stream",
     "text": [
      "epoch: 240 loss:0.141031 auc:0.9707\n",
      "Fit finished.\n",
      "epoch:   0 loss:0.742916 auc:0.5959\n",
      "epoch:  20 loss:0.256651 auc:0.9714\n",
      "epoch:  40 loss:0.189450 auc:0.9731\n",
      "epoch:  60 loss:0.174989 auc:0.9763\n",
      "epoch:  80 loss:0.166762 auc:0.9739\n",
      "epoch: 100 loss:0.157952 auc:0.9747\n",
      "epoch: 120 loss:0.150243 auc:0.9747\n",
      "epoch: 140 loss:0.147080 auc:0.9747\n",
      "epoch: 160 loss:0.144848 auc:0.9747\n"
     ]
    },
    {
     "name": "stderr",
     "output_type": "stream",
     "text": [
      "  0%|          | 2/910 [00:09<1:08:21,  4.52s/it]"
     ]
    },
    {
     "name": "stdout",
     "output_type": "stream",
     "text": [
      "epoch: 180 loss:0.142779 auc:0.9706\n",
      "Fit finished.\n",
      "epoch:   0 loss:1.021470 auc:0.3156\n",
      "epoch:  20 loss:0.267296 auc:0.9977\n",
      "epoch:  40 loss:0.192836 auc:0.9992\n",
      "epoch:  60 loss:0.176026 auc:0.9985\n",
      "epoch:  80 loss:0.166674 auc:0.9985\n",
      "epoch: 100 loss:0.156140 auc:0.9985\n",
      "epoch: 120 loss:0.149455 auc:0.9985\n",
      "epoch: 140 loss:0.146370 auc:0.9985\n",
      "epoch: 160 loss:0.144357 auc:0.9992\n",
      "epoch: 180 loss:0.142584 auc:0.9992\n"
     ]
    },
    {
     "name": "stderr",
     "output_type": "stream",
     "text": [
      "  0%|          | 3/910 [00:13<1:07:39,  4.48s/it]"
     ]
    },
    {
     "name": "stdout",
     "output_type": "stream",
     "text": [
      "epoch: 200 loss:0.140856 auc:0.9977\n",
      "Fit finished.\n",
      "epoch:   0 loss:0.489696 auc:0.2449\n",
      "epoch:  20 loss:0.224294 auc:0.8866\n",
      "epoch:  40 loss:0.180296 auc:0.8912\n",
      "epoch:  60 loss:0.168431 auc:0.9070\n",
      "epoch:  80 loss:0.156129 auc:0.9070\n",
      "epoch: 100 loss:0.149208 auc:0.9070\n",
      "epoch: 120 loss:0.145990 auc:0.9093\n",
      "epoch: 140 loss:0.143589 auc:0.9161\n",
      "epoch: 160 loss:0.140822 auc:0.9252\n",
      "epoch: 180 loss:0.139667 auc:0.9274\n",
      "epoch: 200 loss:0.136669 auc:0.9410\n",
      "epoch: 220 loss:0.133652 auc:0.9410\n",
      "epoch: 240 loss:0.137976 auc:0.9456\n",
      "epoch: 260 loss:0.128515 auc:0.9478\n",
      "epoch: 280 loss:0.127059 auc:0.9478\n",
      "epoch: 300 loss:0.125120 auc:0.9456\n",
      "epoch: 320 loss:0.123895 auc:0.9456\n",
      "epoch: 340 loss:0.119051 auc:0.9456\n"
     ]
    },
    {
     "name": "stderr",
     "output_type": "stream",
     "text": [
      "  0%|          | 4/910 [00:21<1:26:59,  5.76s/it]"
     ]
    },
    {
     "name": "stdout",
     "output_type": "stream",
     "text": [
      "epoch: 360 loss:0.118866 auc:0.9388\n",
      "Fit finished.\n",
      "epoch:   0 loss:0.745954 auc:0.4150\n",
      "epoch:  20 loss:0.278668 auc:0.9976\n",
      "epoch:  40 loss:0.201016 auc:0.9976\n",
      "epoch:  60 loss:0.177189 auc:0.9976\n",
      "epoch:  80 loss:0.166231 auc:0.9964\n",
      "epoch: 100 loss:0.155966 auc:0.9964\n",
      "epoch: 120 loss:0.149149 auc:0.9964\n",
      "epoch: 140 loss:0.146602 auc:0.9964\n",
      "epoch: 160 loss:0.144980 auc:0.9964\n",
      "epoch: 180 loss:0.143341 auc:0.9976\n",
      "epoch: 200 loss:0.147817 auc:0.9988\n",
      "epoch: 220 loss:0.140450 auc:0.9988\n",
      "epoch: 240 loss:0.138264 auc:0.9988\n",
      "epoch: 260 loss:0.136549 auc:0.9976\n",
      "epoch: 280 loss:0.135437 auc:0.9976\n"
     ]
    },
    {
     "name": "stderr",
     "output_type": "stream",
     "text": [
      "  1%|          | 5/910 [00:27<1:27:54,  5.83s/it]"
     ]
    },
    {
     "name": "stdout",
     "output_type": "stream",
     "text": [
      "epoch: 300 loss:0.133803 auc:0.9941\n",
      "Fit finished.\n",
      "epoch:   0 loss:1.171010 auc:0.7586\n",
      "epoch:  20 loss:0.274725 auc:1.0000\n",
      "epoch:  40 loss:0.210780 auc:1.0000\n",
      "epoch:  60 loss:0.182122 auc:1.0000\n",
      "epoch:  80 loss:0.170767 auc:1.0000\n",
      "epoch: 100 loss:0.161410 auc:1.0000\n",
      "epoch: 120 loss:0.151152 auc:1.0000\n",
      "epoch: 140 loss:0.147436 auc:1.0000\n",
      "epoch: 160 loss:0.145557 auc:1.0000\n"
     ]
    },
    {
     "name": "stderr",
     "output_type": "stream",
     "text": [
      "  1%|          | 6/910 [00:31<1:17:41,  5.16s/it]"
     ]
    },
    {
     "name": "stdout",
     "output_type": "stream",
     "text": [
      "epoch: 180 loss:0.143614 auc:0.9990\n",
      "Fit finished.\n",
      "epoch:   0 loss:0.689357 auc:0.8512\n",
      "epoch:  20 loss:0.257923 auc:0.9983\n",
      "epoch:  40 loss:0.194043 auc:0.9965\n",
      "epoch:  60 loss:0.175873 auc:0.9931\n",
      "epoch:  80 loss:0.166758 auc:0.9939\n",
      "epoch: 100 loss:0.157546 auc:0.9939\n",
      "epoch: 120 loss:0.149560 auc:0.9939\n",
      "epoch: 140 loss:0.146668 auc:0.9939\n",
      "epoch: 160 loss:0.144830 auc:0.9939\n"
     ]
    },
    {
     "name": "stderr",
     "output_type": "stream",
     "text": [
      "  1%|          | 7/910 [00:35<1:12:08,  4.79s/it]"
     ]
    },
    {
     "name": "stdout",
     "output_type": "stream",
     "text": [
      "epoch: 180 loss:0.143645 auc:0.9939\n",
      "Fit finished.\n",
      "epoch:   0 loss:0.718858 auc:0.2546\n",
      "epoch:  20 loss:0.275726 auc:0.9426\n",
      "epoch:  40 loss:0.204560 auc:0.9413\n",
      "epoch:  60 loss:0.178714 auc:0.9437\n",
      "epoch:  80 loss:0.169309 auc:0.9480\n",
      "epoch: 100 loss:0.162117 auc:0.9491\n",
      "epoch: 120 loss:0.153433 auc:0.9484\n",
      "epoch: 140 loss:0.148280 auc:0.9495\n",
      "epoch: 160 loss:0.145877 auc:0.9441\n"
     ]
    },
    {
     "name": "stderr",
     "output_type": "stream",
     "text": [
      "  1%|          | 8/910 [00:39<1:07:54,  4.52s/it]"
     ]
    },
    {
     "name": "stdout",
     "output_type": "stream",
     "text": [
      "epoch: 180 loss:0.143786 auc:0.9326\n",
      "Fit finished.\n",
      "epoch:   0 loss:0.764597 auc:0.6057\n",
      "epoch:  20 loss:0.280487 auc:0.9900\n",
      "epoch:  40 loss:0.201478 auc:0.9900\n",
      "epoch:  60 loss:0.177530 auc:0.9869\n",
      "epoch:  80 loss:0.168165 auc:0.9853\n",
      "epoch: 100 loss:0.160749 auc:0.9853\n",
      "epoch: 120 loss:0.152676 auc:0.9861\n",
      "epoch: 140 loss:0.148172 auc:0.9853\n",
      "epoch: 160 loss:0.146091 auc:0.9869\n"
     ]
    },
    {
     "name": "stderr",
     "output_type": "stream",
     "text": [
      "  1%|          | 9/910 [00:43<1:05:16,  4.35s/it]"
     ]
    },
    {
     "name": "stdout",
     "output_type": "stream",
     "text": [
      "epoch: 180 loss:0.144469 auc:0.9869\n",
      "Fit finished.\n",
      "epoch:   0 loss:0.905422 auc:0.2625\n",
      "epoch:  20 loss:0.271904 auc:0.9958\n",
      "epoch:  40 loss:0.197646 auc:0.9993\n",
      "epoch:  60 loss:0.179486 auc:1.0000\n",
      "epoch:  80 loss:0.170710 auc:1.0000\n",
      "epoch: 100 loss:0.163539 auc:0.9993\n",
      "epoch: 120 loss:0.154964 auc:1.0000\n",
      "epoch: 140 loss:0.149219 auc:1.0000\n",
      "epoch: 160 loss:0.147015 auc:0.9993\n",
      "epoch: 180 loss:0.145363 auc:0.9993\n"
     ]
    },
    {
     "name": "stderr",
     "output_type": "stream",
     "text": [
      "  1%|          | 10/910 [00:46<1:00:11,  4.01s/it]"
     ]
    },
    {
     "name": "stdout",
     "output_type": "stream",
     "text": [
      "epoch: 200 loss:0.143864 auc:0.9965\n",
      "Fit finished.\n",
      "epoch:   0 loss:0.567750 auc:0.1981\n",
      "epoch:  20 loss:0.240346 auc:0.9855\n",
      "epoch:  40 loss:0.185447 auc:0.9875\n",
      "epoch:  60 loss:0.171844 auc:0.9903\n",
      "epoch:  80 loss:0.162414 auc:0.9903\n",
      "epoch: 100 loss:0.151613 auc:0.9903\n",
      "epoch: 120 loss:0.147390 auc:0.9903\n",
      "epoch: 140 loss:0.144715 auc:0.9910\n",
      "epoch: 160 loss:0.142119 auc:0.9889\n",
      "epoch: 180 loss:0.139487 auc:0.9868\n"
     ]
    },
    {
     "name": "stderr",
     "output_type": "stream",
     "text": [
      "  1%|          | 11/910 [00:50<1:00:45,  4.05s/it]"
     ]
    },
    {
     "name": "stdout",
     "output_type": "stream",
     "text": [
      "epoch: 200 loss:0.137056 auc:0.9716\n",
      "Fit finished.\n",
      "epoch:   0 loss:0.705133 auc:0.0896\n",
      "epoch:  20 loss:0.225237 auc:0.9776\n",
      "epoch:  40 loss:0.182768 auc:0.9872\n",
      "epoch:  60 loss:0.171849 auc:0.9872\n",
      "epoch:  80 loss:0.163481 auc:0.9872\n",
      "epoch: 100 loss:0.151627 auc:0.9872\n",
      "epoch: 120 loss:0.147292 auc:0.9872\n",
      "epoch: 140 loss:0.144861 auc:0.9872\n",
      "epoch: 160 loss:0.142664 auc:0.9872\n",
      "epoch: 180 loss:0.140437 auc:0.9920\n",
      "epoch: 200 loss:0.137774 auc:0.9968\n",
      "epoch: 220 loss:0.135515 auc:0.9968\n",
      "epoch: 240 loss:0.135794 auc:1.0000\n",
      "epoch: 260 loss:0.132141 auc:1.0000\n",
      "epoch: 280 loss:0.130240 auc:0.9984\n",
      "epoch: 300 loss:0.131021 auc:0.9984\n",
      "epoch: 320 loss:0.127537 auc:1.0000\n",
      "epoch: 340 loss:0.125977 auc:0.9984\n",
      "epoch: 360 loss:0.124256 auc:0.9984\n"
     ]
    },
    {
     "name": "stderr",
     "output_type": "stream",
     "text": [
      "  1%|▏         | 12/910 [00:58<1:17:48,  5.20s/it]"
     ]
    },
    {
     "name": "stdout",
     "output_type": "stream",
     "text": [
      "epoch: 380 loss:0.124335 auc:0.9952\n",
      "Fit finished.\n",
      "epoch:   0 loss:0.965015 auc:0.4549\n",
      "epoch:  20 loss:0.266902 auc:0.9809\n",
      "epoch:  40 loss:0.190993 auc:0.9878\n",
      "epoch:  60 loss:0.177239 auc:0.9861\n",
      "epoch:  80 loss:0.169996 auc:0.9861\n",
      "epoch: 100 loss:0.162823 auc:0.9861\n",
      "epoch: 120 loss:0.153426 auc:0.9861\n",
      "epoch: 140 loss:0.148455 auc:0.9861\n",
      "epoch: 160 loss:0.146078 auc:0.9861\n",
      "epoch: 180 loss:0.144190 auc:0.9861\n"
     ]
    },
    {
     "name": "stderr",
     "output_type": "stream",
     "text": [
      "  1%|▏         | 13/910 [01:03<1:16:37,  5.12s/it]"
     ]
    },
    {
     "name": "stdout",
     "output_type": "stream",
     "text": [
      "epoch: 200 loss:0.143872 auc:0.9861\n",
      "Fit finished.\n",
      "epoch:   0 loss:0.595368 auc:0.7473\n",
      "epoch:  20 loss:0.271415 auc:0.9942\n",
      "epoch:  40 loss:0.193752 auc:0.9898\n",
      "epoch:  60 loss:0.175545 auc:0.9861\n",
      "epoch:  80 loss:0.165962 auc:0.9847\n",
      "epoch: 100 loss:0.155394 auc:0.9847\n",
      "epoch: 120 loss:0.148910 auc:0.9847\n",
      "epoch: 140 loss:0.145995 auc:0.9847\n",
      "epoch: 160 loss:0.144062 auc:0.9847\n"
     ]
    },
    {
     "name": "stderr",
     "output_type": "stream",
     "text": [
      "  2%|▏         | 14/910 [01:06<1:09:12,  4.63s/it]"
     ]
    },
    {
     "name": "stdout",
     "output_type": "stream",
     "text": [
      "epoch: 180 loss:0.142243 auc:0.9876\n",
      "Fit finished.\n",
      "epoch:   0 loss:1.021064 auc:0.0864\n",
      "epoch:  20 loss:0.287721 auc:1.0000\n",
      "epoch:  40 loss:0.206257 auc:1.0000\n",
      "epoch:  60 loss:0.179999 auc:0.9990\n",
      "epoch:  80 loss:0.168965 auc:0.9990\n",
      "epoch: 100 loss:0.157676 auc:1.0000\n",
      "epoch: 120 loss:0.149531 auc:1.0000\n",
      "epoch: 140 loss:0.146301 auc:1.0000\n",
      "epoch: 160 loss:0.144599 auc:1.0000\n"
     ]
    },
    {
     "name": "stderr",
     "output_type": "stream",
     "text": [
      "  2%|▏         | 15/910 [01:09<1:01:48,  4.14s/it]"
     ]
    },
    {
     "name": "stdout",
     "output_type": "stream",
     "text": [
      "epoch: 180 loss:0.141973 auc:0.9990\n",
      "Fit finished.\n",
      "epoch:   0 loss:0.807707 auc:0.2479\n",
      "epoch:  20 loss:0.282862 auc:0.9495\n",
      "epoch:  40 loss:0.208064 auc:0.9596\n",
      "epoch:  60 loss:0.181201 auc:0.9596\n",
      "epoch:  80 loss:0.171312 auc:0.9614\n",
      "epoch: 100 loss:0.164015 auc:0.9614\n",
      "epoch: 120 loss:0.154530 auc:0.9614\n",
      "epoch: 140 loss:0.148555 auc:0.9614\n",
      "epoch: 160 loss:0.145853 auc:0.9633\n",
      "epoch: 180 loss:0.143847 auc:0.9633\n",
      "epoch: 200 loss:0.145026 auc:0.9679\n"
     ]
    },
    {
     "name": "stderr",
     "output_type": "stream",
     "text": [
      "  2%|▏         | 16/910 [01:14<1:03:12,  4.24s/it]"
     ]
    },
    {
     "name": "stdout",
     "output_type": "stream",
     "text": [
      "epoch: 220 loss:0.140217 auc:0.9550\n",
      "Fit finished.\n",
      "epoch:   0 loss:0.989589 auc:0.4609\n",
      "epoch:  20 loss:0.266235 auc:0.9774\n",
      "epoch:  40 loss:0.190088 auc:0.9861\n",
      "epoch:  60 loss:0.176796 auc:0.9912\n",
      "epoch:  80 loss:0.168898 auc:0.9905\n",
      "epoch: 100 loss:0.160045 auc:0.9898\n",
      "epoch: 120 loss:0.150099 auc:0.9890\n",
      "epoch: 140 loss:0.146692 auc:0.9890\n",
      "epoch: 160 loss:0.144392 auc:0.9869\n",
      "epoch: 180 loss:0.143520 auc:0.9810\n"
     ]
    },
    {
     "name": "stderr",
     "output_type": "stream",
     "text": [
      "  2%|▏         | 17/910 [01:18<1:03:15,  4.25s/it]"
     ]
    },
    {
     "name": "stdout",
     "output_type": "stream",
     "text": [
      "epoch: 200 loss:0.141065 auc:0.9744\n",
      "Fit finished.\n",
      "epoch:   0 loss:0.592191 auc:0.7449\n",
      "epoch:  20 loss:0.294166 auc:0.9872\n",
      "epoch:  40 loss:0.229922 auc:0.9923\n",
      "epoch:  60 loss:0.187947 auc:0.9911\n",
      "epoch:  80 loss:0.172809 auc:0.9911\n",
      "epoch: 100 loss:0.162417 auc:0.9923\n",
      "epoch: 120 loss:0.151544 auc:0.9898\n",
      "epoch: 140 loss:0.147579 auc:0.9923\n",
      "epoch: 160 loss:0.145450 auc:0.9911\n",
      "epoch: 180 loss:0.143601 auc:0.9898\n"
     ]
    },
    {
     "name": "stderr",
     "output_type": "stream",
     "text": [
      "  2%|▏         | 18/910 [01:22<1:02:33,  4.21s/it]"
     ]
    },
    {
     "name": "stdout",
     "output_type": "stream",
     "text": [
      "epoch: 200 loss:0.142364 auc:0.9911\n",
      "Fit finished.\n",
      "epoch:   0 loss:1.427894 auc:0.7403\n",
      "epoch:  20 loss:0.282250 auc:0.9652\n",
      "epoch:  40 loss:0.217959 auc:0.9673\n",
      "epoch:  60 loss:0.182999 auc:0.9678\n",
      "epoch:  80 loss:0.169867 auc:0.9701\n",
      "epoch: 100 loss:0.159747 auc:0.9695\n",
      "epoch: 120 loss:0.150481 auc:0.9695\n",
      "epoch: 140 loss:0.147564 auc:0.9698\n",
      "epoch: 160 loss:0.145656 auc:0.9695\n",
      "epoch: 180 loss:0.144185 auc:0.9684\n",
      "epoch: 200 loss:0.143377 auc:0.9673\n"
     ]
    },
    {
     "name": "stderr",
     "output_type": "stream",
     "text": [
      "  2%|▏         | 19/910 [01:27<1:05:29,  4.41s/it]"
     ]
    },
    {
     "name": "stdout",
     "output_type": "stream",
     "text": [
      "epoch: 220 loss:0.142030 auc:0.9667\n",
      "Fit finished.\n",
      "epoch:   0 loss:0.695497 auc:0.1534\n",
      "epoch:  20 loss:0.239743 auc:0.9424\n",
      "epoch:  40 loss:0.186024 auc:0.9461\n",
      "epoch:  60 loss:0.171577 auc:0.9493\n",
      "epoch:  80 loss:0.162788 auc:0.9465\n",
      "epoch: 100 loss:0.152336 auc:0.9465\n",
      "epoch: 120 loss:0.147237 auc:0.9431\n",
      "epoch: 140 loss:0.145084 auc:0.9256\n",
      "epoch: 160 loss:0.142469 auc:0.8758\n"
     ]
    },
    {
     "name": "stderr",
     "output_type": "stream",
     "text": [
      "  2%|▏         | 20/910 [01:31<1:03:04,  4.25s/it]"
     ]
    },
    {
     "name": "stdout",
     "output_type": "stream",
     "text": [
      "epoch: 180 loss:0.145051 auc:0.7156\n",
      "Fit finished.\n",
      "epoch:   0 loss:1.067639 auc:0.2810\n",
      "epoch:  20 loss:0.270591 auc:0.9664\n",
      "epoch:  40 loss:0.200484 auc:0.9694\n",
      "epoch:  60 loss:0.179758 auc:0.9699\n",
      "epoch:  80 loss:0.169629 auc:0.9694\n",
      "epoch: 100 loss:0.159912 auc:0.9699\n",
      "epoch: 120 loss:0.150894 auc:0.9699\n",
      "epoch: 140 loss:0.147736 auc:0.9689\n",
      "epoch: 160 loss:0.145656 auc:0.9694\n",
      "epoch: 180 loss:0.144291 auc:0.9709\n",
      "epoch: 200 loss:0.142873 auc:0.9743\n",
      "epoch: 220 loss:0.143065 auc:0.9802\n",
      "epoch: 240 loss:0.140127 auc:0.9877\n",
      "epoch: 260 loss:0.137788 auc:0.9891\n",
      "epoch: 280 loss:0.136273 auc:0.9783\n",
      "epoch: 300 loss:0.138155 auc:0.9807\n",
      "epoch: 320 loss:0.133645 auc:0.9753\n",
      "epoch: 340 loss:0.132246 auc:0.9733\n"
     ]
    },
    {
     "name": "stderr",
     "output_type": "stream",
     "text": [
      "  2%|▏         | 21/910 [01:40<1:23:59,  5.67s/it]"
     ]
    },
    {
     "name": "stdout",
     "output_type": "stream",
     "text": [
      "epoch: 360 loss:0.135229 auc:0.9294\n",
      "Fit finished.\n",
      "epoch:   0 loss:0.934760 auc:0.2604\n",
      "epoch:  20 loss:0.264197 auc:0.9798\n",
      "epoch:  40 loss:0.193601 auc:0.9810\n",
      "epoch:  60 loss:0.178722 auc:0.9798\n",
      "epoch:  80 loss:0.170033 auc:0.9762\n",
      "epoch: 100 loss:0.162156 auc:0.9774\n",
      "epoch: 120 loss:0.151966 auc:0.9786\n",
      "epoch: 140 loss:0.148030 auc:0.9786\n",
      "epoch: 160 loss:0.145735 auc:0.9798\n",
      "epoch: 180 loss:0.145396 auc:0.9798\n",
      "epoch: 200 loss:0.142247 auc:0.9845\n",
      "epoch: 220 loss:0.140790 auc:0.9881\n",
      "epoch: 240 loss:0.140424 auc:0.9881\n",
      "epoch: 260 loss:0.137207 auc:0.9845\n",
      "epoch: 280 loss:0.135844 auc:0.9834\n",
      "epoch: 300 loss:0.134356 auc:0.9798\n"
     ]
    },
    {
     "name": "stderr",
     "output_type": "stream",
     "text": [
      "  2%|▏         | 22/910 [01:49<1:40:11,  6.77s/it]"
     ]
    },
    {
     "name": "stdout",
     "output_type": "stream",
     "text": [
      "epoch: 320 loss:0.133275 auc:0.9762\n",
      "Fit finished.\n",
      "epoch:   0 loss:0.575392 auc:0.3151\n",
      "epoch:  20 loss:0.222845 auc:0.9347\n",
      "epoch:  40 loss:0.181760 auc:0.9377\n",
      "epoch:  60 loss:0.170815 auc:0.9431\n",
      "epoch:  80 loss:0.162343 auc:0.9440\n",
      "epoch: 100 loss:0.150315 auc:0.9446\n",
      "epoch: 120 loss:0.146491 auc:0.9412\n",
      "epoch: 140 loss:0.143180 auc:0.9319\n",
      "epoch: 160 loss:0.140948 auc:0.8986\n"
     ]
    },
    {
     "name": "stderr",
     "output_type": "stream",
     "text": [
      "  3%|▎         | 23/910 [01:56<1:37:35,  6.60s/it]"
     ]
    },
    {
     "name": "stdout",
     "output_type": "stream",
     "text": [
      "epoch: 180 loss:0.137642 auc:0.7859\n",
      "Fit finished.\n",
      "epoch:   0 loss:0.680804 auc:0.3047\n",
      "epoch:  20 loss:0.286900 auc:0.9737\n",
      "epoch:  40 loss:0.210666 auc:0.9737\n",
      "epoch:  60 loss:0.181526 auc:0.9785\n",
      "epoch:  80 loss:0.171717 auc:0.9778\n",
      "epoch: 100 loss:0.163596 auc:0.9792\n",
      "epoch: 120 loss:0.153149 auc:0.9785\n",
      "epoch: 140 loss:0.148055 auc:0.9785\n",
      "epoch: 160 loss:0.145602 auc:0.9785\n",
      "epoch: 180 loss:0.143779 auc:0.9785\n",
      "epoch: 200 loss:0.142314 auc:0.9758\n"
     ]
    },
    {
     "name": "stderr",
     "output_type": "stream",
     "text": [
      "  3%|▎         | 24/910 [02:03<1:41:37,  6.88s/it]"
     ]
    },
    {
     "name": "stdout",
     "output_type": "stream",
     "text": [
      "epoch: 220 loss:0.139818 auc:0.9688\n",
      "Fit finished.\n",
      "epoch:   0 loss:0.802355 auc:0.8429\n",
      "epoch:  20 loss:0.291467 auc:0.9594\n",
      "epoch:  40 loss:0.220959 auc:0.9677\n",
      "epoch:  60 loss:0.181468 auc:0.9688\n",
      "epoch:  80 loss:0.169786 auc:0.9719\n",
      "epoch: 100 loss:0.161416 auc:0.9698\n",
      "epoch: 120 loss:0.152620 auc:0.9709\n",
      "epoch: 140 loss:0.148298 auc:0.9709\n",
      "epoch: 160 loss:0.145989 auc:0.9698\n",
      "epoch: 180 loss:0.144209 auc:0.9677\n",
      "epoch: 200 loss:0.143411 auc:0.9688\n"
     ]
    },
    {
     "name": "stderr",
     "output_type": "stream",
     "text": [
      "  3%|▎         | 25/910 [02:11<1:44:43,  7.10s/it]"
     ]
    },
    {
     "name": "stdout",
     "output_type": "stream",
     "text": [
      "epoch: 220 loss:0.142609 auc:0.9677\n",
      "Fit finished.\n",
      "epoch:   0 loss:0.612013 auc:0.8182\n",
      "epoch:  20 loss:0.254363 auc:0.9669\n",
      "epoch:  40 loss:0.188461 auc:0.9731\n",
      "epoch:  60 loss:0.175497 auc:0.9690\n",
      "epoch:  80 loss:0.167177 auc:0.9690\n",
      "epoch: 100 loss:0.157535 auc:0.9690\n",
      "epoch: 120 loss:0.149440 auc:0.9690\n",
      "epoch: 140 loss:0.146584 auc:0.9669\n",
      "epoch: 160 loss:0.144416 auc:0.9669\n",
      "epoch: 180 loss:0.143661 auc:0.9690\n"
     ]
    },
    {
     "name": "stderr",
     "output_type": "stream",
     "text": [
      "  3%|▎         | 26/910 [02:18<1:43:37,  7.03s/it]"
     ]
    },
    {
     "name": "stdout",
     "output_type": "stream",
     "text": [
      "epoch: 200 loss:0.140393 auc:0.9483\n",
      "Fit finished.\n",
      "epoch:   0 loss:1.302393 auc:0.3051\n",
      "epoch:  20 loss:0.289565 auc:0.9715\n",
      "epoch:  40 loss:0.217802 auc:0.9783\n",
      "epoch:  60 loss:0.179249 auc:0.9801\n",
      "epoch:  80 loss:0.165348 auc:0.9819\n",
      "epoch: 100 loss:0.154995 auc:0.9823\n",
      "epoch: 120 loss:0.149756 auc:0.9823\n",
      "epoch: 140 loss:0.147182 auc:0.9823\n",
      "epoch: 160 loss:0.145288 auc:0.9823\n",
      "epoch: 180 loss:0.145463 auc:0.9837\n",
      "epoch: 200 loss:0.142268 auc:0.9828\n",
      "epoch: 220 loss:0.140472 auc:0.9810\n"
     ]
    },
    {
     "name": "stderr",
     "output_type": "stream",
     "text": [
      "  3%|▎         | 27/910 [02:25<1:46:39,  7.25s/it]"
     ]
    },
    {
     "name": "stdout",
     "output_type": "stream",
     "text": [
      "epoch: 240 loss:0.139547 auc:0.9810\n",
      "Fit finished.\n",
      "epoch:   0 loss:1.236246 auc:0.5203\n",
      "epoch:  20 loss:0.281762 auc:0.9600\n",
      "epoch:  40 loss:0.223400 auc:0.9605\n",
      "epoch:  60 loss:0.186682 auc:0.9616\n",
      "epoch:  80 loss:0.172939 auc:0.9648\n",
      "epoch: 100 loss:0.163238 auc:0.9648\n",
      "epoch: 120 loss:0.152644 auc:0.9638\n",
      "epoch: 140 loss:0.148157 auc:0.9638\n",
      "epoch: 160 loss:0.145801 auc:0.9643\n",
      "epoch: 180 loss:0.144444 auc:0.9659\n",
      "epoch: 200 loss:0.142756 auc:0.9648\n"
     ]
    },
    {
     "name": "stderr",
     "output_type": "stream",
     "text": [
      "  3%|▎         | 28/910 [02:33<1:47:48,  7.33s/it]"
     ]
    },
    {
     "name": "stdout",
     "output_type": "stream",
     "text": [
      "epoch: 220 loss:0.141718 auc:0.9519\n",
      "Fit finished.\n",
      "epoch:   0 loss:0.641768 auc:0.8227\n",
      "epoch:  20 loss:0.269443 auc:0.9861\n",
      "epoch:  40 loss:0.192559 auc:0.9834\n",
      "epoch:  60 loss:0.176456 auc:0.9806\n",
      "epoch:  80 loss:0.168595 auc:0.9806\n",
      "epoch: 100 loss:0.160954 auc:0.9806\n",
      "epoch: 120 loss:0.151649 auc:0.9806\n",
      "epoch: 140 loss:0.147708 auc:0.9806\n",
      "epoch: 160 loss:0.145402 auc:0.9806\n"
     ]
    },
    {
     "name": "stderr",
     "output_type": "stream",
     "text": [
      "  3%|▎         | 29/910 [02:40<1:45:02,  7.15s/it]"
     ]
    },
    {
     "name": "stdout",
     "output_type": "stream",
     "text": [
      "epoch: 180 loss:0.145180 auc:0.9806\n",
      "Fit finished.\n",
      "epoch:   0 loss:1.079204 auc:0.6597\n",
      "epoch:  20 loss:0.293172 auc:0.9757\n",
      "epoch:  40 loss:0.228949 auc:0.9774\n",
      "epoch:  60 loss:0.187458 auc:0.9774\n",
      "epoch:  80 loss:0.173191 auc:0.9774\n",
      "epoch: 100 loss:0.163156 auc:0.9774\n",
      "epoch: 120 loss:0.152541 auc:0.9774\n",
      "epoch: 140 loss:0.147988 auc:0.9774\n",
      "epoch: 160 loss:0.145705 auc:0.9774\n",
      "epoch: 180 loss:0.144265 auc:0.9774\n"
     ]
    },
    {
     "name": "stderr",
     "output_type": "stream",
     "text": [
      "  3%|▎         | 30/910 [02:47<1:45:03,  7.16s/it]"
     ]
    },
    {
     "name": "stdout",
     "output_type": "stream",
     "text": [
      "epoch: 200 loss:0.142970 auc:0.9722\n",
      "Fit finished.\n",
      "epoch:   0 loss:0.904542 auc:0.3163\n",
      "epoch:  20 loss:0.279539 auc:0.9677\n",
      "epoch:  40 loss:0.207619 auc:0.9785\n",
      "epoch:  60 loss:0.180525 auc:0.9830\n",
      "epoch:  80 loss:0.170381 auc:0.9836\n",
      "epoch: 100 loss:0.162450 auc:0.9813\n",
      "epoch: 120 loss:0.153562 auc:0.9813\n",
      "epoch: 140 loss:0.148685 auc:0.9807\n",
      "epoch: 160 loss:0.146439 auc:0.9802\n",
      "epoch: 180 loss:0.144718 auc:0.9790\n",
      "epoch: 200 loss:0.144274 auc:0.9796\n"
     ]
    },
    {
     "name": "stderr",
     "output_type": "stream",
     "text": [
      "  3%|▎         | 31/910 [02:55<1:49:00,  7.44s/it]"
     ]
    },
    {
     "name": "stdout",
     "output_type": "stream",
     "text": [
      "epoch: 220 loss:0.141936 auc:0.9790\n",
      "Fit finished.\n",
      "epoch:   0 loss:0.466661 auc:0.7312\n",
      "epoch:  20 loss:0.239794 auc:0.9748\n",
      "epoch:  40 loss:0.182792 auc:0.9752\n",
      "epoch:  60 loss:0.169443 auc:0.9764\n",
      "epoch:  80 loss:0.158849 auc:0.9768\n",
      "epoch: 100 loss:0.149573 auc:0.9772\n",
      "epoch: 120 loss:0.146555 auc:0.9768\n",
      "epoch: 140 loss:0.144126 auc:0.9748\n",
      "epoch: 160 loss:0.142073 auc:0.9748\n"
     ]
    },
    {
     "name": "stderr",
     "output_type": "stream",
     "text": [
      "  4%|▎         | 32/910 [03:00<1:40:25,  6.86s/it]"
     ]
    },
    {
     "name": "stdout",
     "output_type": "stream",
     "text": [
      "epoch: 180 loss:0.139705 auc:0.9524\n",
      "Fit finished.\n",
      "epoch:   0 loss:0.726644 auc:0.7258\n",
      "epoch:  20 loss:0.274473 auc:0.9324\n",
      "epoch:  40 loss:0.201405 auc:0.9407\n",
      "epoch:  60 loss:0.179645 auc:0.9471\n",
      "epoch:  80 loss:0.170738 auc:0.9490\n",
      "epoch: 100 loss:0.162970 auc:0.9483\n",
      "epoch: 120 loss:0.153222 auc:0.9480\n",
      "epoch: 140 loss:0.148006 auc:0.9474\n",
      "epoch: 160 loss:0.145725 auc:0.9458\n",
      "epoch: 180 loss:0.144063 auc:0.9455\n"
     ]
    },
    {
     "name": "stderr",
     "output_type": "stream",
     "text": [
      "  4%|▎         | 33/910 [03:07<1:41:09,  6.92s/it]"
     ]
    },
    {
     "name": "stdout",
     "output_type": "stream",
     "text": [
      "epoch: 200 loss:0.142580 auc:0.9346\n",
      "Fit finished.\n",
      "epoch:   0 loss:0.624792 auc:0.5166\n",
      "epoch:  20 loss:0.263009 auc:0.9434\n",
      "epoch:  40 loss:0.187394 auc:0.9482\n",
      "epoch:  60 loss:0.173096 auc:0.9456\n",
      "epoch:  80 loss:0.162188 auc:0.9464\n",
      "epoch: 100 loss:0.150427 auc:0.9471\n",
      "epoch: 120 loss:0.146562 auc:0.9482\n",
      "epoch: 140 loss:0.144650 auc:0.9471\n",
      "epoch: 160 loss:0.142587 auc:0.9179\n"
     ]
    },
    {
     "name": "stderr",
     "output_type": "stream",
     "text": [
      "  4%|▎         | 34/910 [03:14<1:39:37,  6.82s/it]"
     ]
    },
    {
     "name": "stdout",
     "output_type": "stream",
     "text": [
      "epoch: 180 loss:0.140449 auc:0.8772\n",
      "Fit finished.\n",
      "epoch:   0 loss:1.094402 auc:0.5037\n",
      "epoch:  20 loss:0.296366 auc:0.9780\n",
      "epoch:  40 loss:0.230999 auc:0.9804\n",
      "epoch:  60 loss:0.187703 auc:0.9820\n",
      "epoch:  80 loss:0.175332 auc:0.9820\n",
      "epoch: 100 loss:0.168017 auc:0.9812\n",
      "epoch: 120 loss:0.161135 auc:0.9812\n",
      "epoch: 140 loss:0.153630 auc:0.9812\n",
      "epoch: 160 loss:0.148389 auc:0.9820\n",
      "epoch: 180 loss:0.146134 auc:0.9820\n",
      "epoch: 200 loss:0.144582 auc:0.9820\n",
      "epoch: 220 loss:0.143295 auc:0.9829\n",
      "epoch: 240 loss:0.142520 auc:0.9837\n",
      "epoch: 260 loss:0.140745 auc:0.9845\n",
      "epoch: 280 loss:0.140132 auc:0.9829\n"
     ]
    },
    {
     "name": "stderr",
     "output_type": "stream",
     "text": [
      "  4%|▍         | 35/910 [03:23<1:49:10,  7.49s/it]"
     ]
    },
    {
     "name": "stdout",
     "output_type": "stream",
     "text": [
      "epoch: 300 loss:0.138166 auc:0.9796\n",
      "Fit finished.\n",
      "epoch:   0 loss:0.591259 auc:0.4931\n",
      "epoch:  20 loss:0.264548 auc:0.9627\n",
      "epoch:  40 loss:0.189250 auc:0.9630\n",
      "epoch:  60 loss:0.174194 auc:0.9672\n",
      "epoch:  80 loss:0.164750 auc:0.9662\n",
      "epoch: 100 loss:0.154396 auc:0.9668\n",
      "epoch: 120 loss:0.148246 auc:0.9672\n",
      "epoch: 140 loss:0.145655 auc:0.9649\n",
      "epoch: 160 loss:0.144255 auc:0.9531\n"
     ]
    },
    {
     "name": "stderr",
     "output_type": "stream",
     "text": [
      "  4%|▍         | 36/910 [03:30<1:47:05,  7.35s/it]"
     ]
    },
    {
     "name": "stdout",
     "output_type": "stream",
     "text": [
      "epoch: 180 loss:0.142115 auc:0.9318\n",
      "Fit finished.\n",
      "epoch:   0 loss:0.610389 auc:0.3092\n",
      "epoch:  20 loss:0.224585 auc:0.9703\n",
      "epoch:  40 loss:0.181174 auc:0.9762\n",
      "epoch:  60 loss:0.169508 auc:0.9750\n",
      "epoch:  80 loss:0.159824 auc:0.9750\n",
      "epoch: 100 loss:0.150680 auc:0.9750\n",
      "epoch: 120 loss:0.147199 auc:0.9750\n",
      "epoch: 140 loss:0.145282 auc:0.9750\n",
      "epoch: 160 loss:0.143648 auc:0.9727\n",
      "epoch: 180 loss:0.143192 auc:0.9715\n"
     ]
    },
    {
     "name": "stderr",
     "output_type": "stream",
     "text": [
      "  4%|▍         | 37/910 [03:36<1:41:00,  6.94s/it]"
     ]
    },
    {
     "name": "stdout",
     "output_type": "stream",
     "text": [
      "epoch: 200 loss:0.138943 auc:0.9596\n",
      "Fit finished.\n",
      "epoch:   0 loss:0.852347 auc:0.5621\n",
      "epoch:  20 loss:0.282217 auc:0.9673\n",
      "epoch:  40 loss:0.214859 auc:0.9732\n",
      "epoch:  60 loss:0.182135 auc:0.9759\n",
      "epoch:  80 loss:0.170117 auc:0.9780\n",
      "epoch: 100 loss:0.161045 auc:0.9792\n",
      "epoch: 120 loss:0.151516 auc:0.9804\n",
      "epoch: 140 loss:0.147810 auc:0.9807\n",
      "epoch: 160 loss:0.145552 auc:0.9804\n",
      "epoch: 180 loss:0.144361 auc:0.9801\n",
      "epoch: 200 loss:0.142770 auc:0.9747\n"
     ]
    },
    {
     "name": "stderr",
     "output_type": "stream",
     "text": [
      "  4%|▍         | 38/910 [03:44<1:43:27,  7.12s/it]"
     ]
    },
    {
     "name": "stdout",
     "output_type": "stream",
     "text": [
      "epoch: 220 loss:0.140985 auc:0.9605\n",
      "Fit finished.\n",
      "epoch:   0 loss:1.169367 auc:0.7325\n",
      "epoch:  20 loss:0.290104 auc:0.9810\n",
      "epoch:  40 loss:0.225879 auc:0.9881\n",
      "epoch:  60 loss:0.187396 auc:0.9881\n",
      "epoch:  80 loss:0.175291 auc:0.9893\n",
      "epoch: 100 loss:0.168128 auc:0.9905\n",
      "epoch: 120 loss:0.161069 auc:0.9905\n",
      "epoch: 140 loss:0.153102 auc:0.9905\n",
      "epoch: 160 loss:0.148735 auc:0.9905\n",
      "epoch: 180 loss:0.146652 auc:0.9905\n",
      "epoch: 200 loss:0.145103 auc:0.9905\n",
      "epoch: 220 loss:0.143715 auc:0.9905\n",
      "epoch: 240 loss:0.142787 auc:0.9893\n"
     ]
    },
    {
     "name": "stderr",
     "output_type": "stream",
     "text": [
      "  4%|▍         | 39/910 [03:52<1:50:04,  7.58s/it]"
     ]
    },
    {
     "name": "stdout",
     "output_type": "stream",
     "text": [
      "epoch: 260 loss:0.141283 auc:0.9857\n",
      "Fit finished.\n",
      "epoch:   0 loss:0.725986 auc:0.5611\n",
      "epoch:  20 loss:0.279217 auc:0.9530\n",
      "epoch:  40 loss:0.201054 auc:0.9516\n",
      "epoch:  60 loss:0.173374 auc:0.9535\n",
      "epoch:  80 loss:0.160109 auc:0.9543\n",
      "epoch: 100 loss:0.150605 auc:0.9540\n",
      "epoch: 120 loss:0.147467 auc:0.9554\n",
      "epoch: 140 loss:0.145275 auc:0.9554\n",
      "epoch: 160 loss:0.144042 auc:0.9516\n"
     ]
    },
    {
     "name": "stderr",
     "output_type": "stream",
     "text": [
      "  4%|▍         | 40/910 [03:59<1:46:55,  7.37s/it]"
     ]
    },
    {
     "name": "stdout",
     "output_type": "stream",
     "text": [
      "epoch: 180 loss:0.142353 auc:0.9489\n",
      "Fit finished.\n",
      "epoch:   0 loss:0.848384 auc:0.7770\n",
      "epoch:  20 loss:0.283606 auc:0.9437\n",
      "epoch:  40 loss:0.213251 auc:0.9498\n",
      "epoch:  60 loss:0.181345 auc:0.9498\n",
      "epoch:  80 loss:0.169955 auc:0.9529\n",
      "epoch: 100 loss:0.161121 auc:0.9545\n",
      "epoch: 120 loss:0.151887 auc:0.9537\n",
      "epoch: 140 loss:0.147989 auc:0.9537\n",
      "epoch: 160 loss:0.145764 auc:0.9537\n",
      "epoch: 180 loss:0.144058 auc:0.9537\n",
      "epoch: 200 loss:0.143151 auc:0.9552\n",
      "epoch: 220 loss:0.141065 auc:0.9599\n",
      "epoch: 240 loss:0.139307 auc:0.9630\n",
      "epoch: 260 loss:0.137226 auc:0.9699\n",
      "epoch: 280 loss:0.136204 auc:0.9676\n",
      "epoch: 300 loss:0.134771 auc:0.9653\n",
      "epoch: 320 loss:0.134682 auc:0.9684\n",
      "epoch: 340 loss:0.132600 auc:0.9676\n",
      "epoch: 360 loss:0.131640 auc:0.9653\n",
      "epoch: 380 loss:0.132454 auc:0.9722\n",
      "epoch: 400 loss:0.129971 auc:0.9722\n",
      "epoch: 420 loss:0.127554 auc:0.9715\n",
      "epoch: 440 loss:0.127857 auc:0.9691\n",
      "epoch: 460 loss:0.125556 auc:0.9715\n",
      "epoch: 480 loss:0.128171 auc:0.9715\n"
     ]
    },
    {
     "name": "stderr",
     "output_type": "stream",
     "text": [
      "  5%|▍         | 41/910 [04:16<2:26:05, 10.09s/it]"
     ]
    },
    {
     "name": "stdout",
     "output_type": "stream",
     "text": [
      "epoch: 500 loss:0.124506 auc:0.9660\n",
      "Fit finished.\n",
      "epoch:   0 loss:0.690018 auc:0.5652\n",
      "epoch:  20 loss:0.255269 auc:0.9551\n",
      "epoch:  40 loss:0.189548 auc:0.9578\n",
      "epoch:  60 loss:0.174183 auc:0.9623\n",
      "epoch:  80 loss:0.165912 auc:0.9643\n",
      "epoch: 100 loss:0.156273 auc:0.9633\n",
      "epoch: 120 loss:0.149080 auc:0.9626\n",
      "epoch: 140 loss:0.146229 auc:0.9623\n",
      "epoch: 160 loss:0.143877 auc:0.9606\n"
     ]
    },
    {
     "name": "stderr",
     "output_type": "stream",
     "text": [
      "  5%|▍         | 43/910 [04:24<1:46:45,  7.39s/it]"
     ]
    },
    {
     "name": "stdout",
     "output_type": "stream",
     "text": [
      "epoch: 180 loss:0.142203 auc:0.9527\n",
      "Fit finished.\n",
      "epoch:   0 loss:0.471077 auc:0.5981\n",
      "epoch:  20 loss:0.220272 auc:0.9581\n",
      "epoch:  40 loss:0.179363 auc:0.9594\n",
      "epoch:  60 loss:0.167841 auc:0.9562\n",
      "epoch:  80 loss:0.154878 auc:0.9556\n",
      "epoch: 100 loss:0.147708 auc:0.9556\n",
      "epoch: 120 loss:0.144350 auc:0.9569\n",
      "epoch: 140 loss:0.142500 auc:0.9650\n",
      "epoch: 160 loss:0.139723 auc:0.9569\n"
     ]
    },
    {
     "name": "stderr",
     "output_type": "stream",
     "text": [
      "  5%|▍         | 44/910 [04:34<1:56:51,  8.10s/it]"
     ]
    },
    {
     "name": "stdout",
     "output_type": "stream",
     "text": [
      "epoch: 180 loss:0.136984 auc:0.9362\n",
      "Fit finished.\n",
      "epoch:   0 loss:0.753555 auc:0.1293\n",
      "epoch:  20 loss:0.255992 auc:0.9613\n",
      "epoch:  40 loss:0.189851 auc:0.9584\n",
      "epoch:  60 loss:0.173241 auc:0.9606\n",
      "epoch:  80 loss:0.164843 auc:0.9613\n",
      "epoch: 100 loss:0.154384 auc:0.9606\n",
      "epoch: 120 loss:0.148257 auc:0.9606\n",
      "epoch: 140 loss:0.145731 auc:0.9591\n",
      "epoch: 160 loss:0.144293 auc:0.9584\n"
     ]
    },
    {
     "name": "stderr",
     "output_type": "stream",
     "text": [
      "  5%|▍         | 45/910 [04:45<2:05:27,  8.70s/it]"
     ]
    },
    {
     "name": "stdout",
     "output_type": "stream",
     "text": [
      "epoch: 180 loss:0.142150 auc:0.9438\n",
      "Fit finished.\n",
      "epoch:   0 loss:0.776340 auc:0.1219\n",
      "epoch:  20 loss:0.244590 auc:0.9917\n",
      "epoch:  40 loss:0.185805 auc:0.9945\n",
      "epoch:  60 loss:0.170791 auc:0.9945\n",
      "epoch:  80 loss:0.159297 auc:0.9972\n",
      "epoch: 100 loss:0.150431 auc:0.9945\n",
      "epoch: 120 loss:0.146764 auc:0.9945\n",
      "epoch: 140 loss:0.145783 auc:0.9945\n",
      "epoch: 160 loss:0.142925 auc:0.9917\n"
     ]
    },
    {
     "name": "stderr",
     "output_type": "stream",
     "text": [
      "  5%|▌         | 46/910 [04:53<2:05:35,  8.72s/it]"
     ]
    },
    {
     "name": "stdout",
     "output_type": "stream",
     "text": [
      "epoch: 180 loss:0.142262 auc:0.9889\n",
      "Fit finished.\n",
      "epoch:   0 loss:0.850196 auc:0.3154\n",
      "epoch:  20 loss:0.280353 auc:0.9750\n",
      "epoch:  40 loss:0.214591 auc:0.9750\n",
      "epoch:  60 loss:0.180832 auc:0.9759\n",
      "epoch:  80 loss:0.170091 auc:0.9774\n",
      "epoch: 100 loss:0.161342 auc:0.9765\n",
      "epoch: 120 loss:0.151343 auc:0.9771\n",
      "epoch: 140 loss:0.147610 auc:0.9762\n",
      "epoch: 160 loss:0.145513 auc:0.9753\n"
     ]
    },
    {
     "name": "stderr",
     "output_type": "stream",
     "text": [
      "  5%|▌         | 47/910 [05:03<2:09:56,  9.03s/it]"
     ]
    },
    {
     "name": "stdout",
     "output_type": "stream",
     "text": [
      "epoch: 180 loss:0.144590 auc:0.9747\n",
      "Fit finished.\n",
      "epoch:   0 loss:1.519341 auc:0.5271\n",
      "epoch:  20 loss:0.281311 auc:0.9592\n",
      "epoch:  40 loss:0.215505 auc:0.9640\n",
      "epoch:  60 loss:0.184148 auc:0.9672\n",
      "epoch:  80 loss:0.173377 auc:0.9684\n",
      "epoch: 100 loss:0.166654 auc:0.9703\n",
      "epoch: 120 loss:0.159085 auc:0.9713\n",
      "epoch: 140 loss:0.151237 auc:0.9732\n",
      "epoch: 160 loss:0.147957 auc:0.9726\n",
      "epoch: 180 loss:0.146054 auc:0.9735\n",
      "epoch: 200 loss:0.144510 auc:0.9739\n",
      "epoch: 220 loss:0.143056 auc:0.9691\n"
     ]
    },
    {
     "name": "stderr",
     "output_type": "stream",
     "text": [
      "  5%|▌         | 48/910 [05:16<2:24:44, 10.07s/it]"
     ]
    },
    {
     "name": "stdout",
     "output_type": "stream",
     "text": [
      "epoch: 240 loss:0.142981 auc:0.9678\n",
      "Fit finished.\n",
      "epoch:   0 loss:0.447169 auc:0.8841\n",
      "epoch:  20 loss:0.249702 auc:0.9740\n",
      "epoch:  40 loss:0.184973 auc:0.9818\n",
      "epoch:  60 loss:0.167930 auc:0.9836\n",
      "epoch:  80 loss:0.153715 auc:0.9827\n",
      "epoch: 100 loss:0.148210 auc:0.9836\n",
      "epoch: 120 loss:0.145381 auc:0.9827\n",
      "epoch: 140 loss:0.143779 auc:0.9810\n",
      "epoch: 160 loss:0.141205 auc:0.9792\n",
      "epoch: 180 loss:0.139321 auc:0.9801\n"
     ]
    },
    {
     "name": "stderr",
     "output_type": "stream",
     "text": [
      "  5%|▌         | 49/910 [05:25<2:22:00,  9.90s/it]"
     ]
    },
    {
     "name": "stdout",
     "output_type": "stream",
     "text": [
      "epoch: 200 loss:0.136895 auc:0.9507\n",
      "Fit finished.\n",
      "epoch:   0 loss:1.062936 auc:0.3906\n",
      "epoch:  20 loss:0.299099 auc:0.9834\n",
      "epoch:  40 loss:0.234076 auc:0.9861\n",
      "epoch:  60 loss:0.186165 auc:0.9889\n",
      "epoch:  80 loss:0.174116 auc:0.9889\n",
      "epoch: 100 loss:0.166521 auc:0.9889\n",
      "epoch: 120 loss:0.158328 auc:0.9889\n",
      "epoch: 140 loss:0.150609 auc:0.9889\n",
      "epoch: 160 loss:0.147312 auc:0.9889\n",
      "epoch: 180 loss:0.145338 auc:0.9889\n",
      "epoch: 200 loss:0.144265 auc:0.9889\n",
      "epoch: 220 loss:0.142658 auc:0.9889\n",
      "epoch: 240 loss:0.141889 auc:0.9889\n",
      "epoch: 260 loss:0.139940 auc:0.9889\n"
     ]
    },
    {
     "name": "stderr",
     "output_type": "stream",
     "text": [
      "  5%|▌         | 50/910 [05:38<2:32:07, 10.61s/it]"
     ]
    },
    {
     "name": "stdout",
     "output_type": "stream",
     "text": [
      "epoch: 280 loss:0.143465 auc:0.9806\n",
      "Fit finished.\n",
      "epoch:   0 loss:0.975477 auc:0.6788\n",
      "epoch:  20 loss:0.288005 auc:0.9670\n",
      "epoch:  40 loss:0.224445 auc:0.9696\n",
      "epoch:  60 loss:0.183234 auc:0.9718\n",
      "epoch:  80 loss:0.169784 auc:0.9714\n",
      "epoch: 100 loss:0.159544 auc:0.9722\n",
      "epoch: 120 loss:0.150513 auc:0.9731\n",
      "epoch: 140 loss:0.147320 auc:0.9709\n",
      "epoch: 160 loss:0.146085 auc:0.9696\n",
      "epoch: 180 loss:0.143525 auc:0.9692\n"
     ]
    },
    {
     "name": "stderr",
     "output_type": "stream",
     "text": [
      "  6%|▌         | 51/910 [05:48<2:28:35, 10.38s/it]"
     ]
    },
    {
     "name": "stdout",
     "output_type": "stream",
     "text": [
      "epoch: 200 loss:0.142856 auc:0.9635\n",
      "Fit finished.\n",
      "epoch:   0 loss:0.693614 auc:0.4114\n",
      "epoch:  20 loss:0.253023 auc:0.9918\n",
      "epoch:  40 loss:0.187793 auc:0.9943\n",
      "epoch:  60 loss:0.173699 auc:0.9943\n",
      "epoch:  80 loss:0.165089 auc:0.9935\n",
      "epoch: 100 loss:0.153465 auc:0.9943\n",
      "epoch: 120 loss:0.147758 auc:0.9935\n",
      "epoch: 140 loss:0.147510 auc:0.9943\n",
      "epoch: 160 loss:0.143027 auc:0.9902\n"
     ]
    },
    {
     "name": "stderr",
     "output_type": "stream",
     "text": [
      "  6%|▌         | 52/910 [05:56<2:19:43,  9.77s/it]"
     ]
    },
    {
     "name": "stdout",
     "output_type": "stream",
     "text": [
      "epoch: 180 loss:0.140906 auc:0.9878\n",
      "Fit finished.\n",
      "epoch:   0 loss:0.915285 auc:0.7998\n",
      "epoch:  20 loss:0.286889 auc:0.9853\n",
      "epoch:  40 loss:0.219734 auc:0.9770\n",
      "epoch:  60 loss:0.183261 auc:0.9761\n",
      "epoch:  80 loss:0.173586 auc:0.9761\n",
      "epoch: 100 loss:0.167079 auc:0.9770\n",
      "epoch: 120 loss:0.159258 auc:0.9770\n",
      "epoch: 140 loss:0.150460 auc:0.9761\n",
      "epoch: 160 loss:0.147101 auc:0.9770\n"
     ]
    },
    {
     "name": "stderr",
     "output_type": "stream",
     "text": [
      "  6%|▌         | 53/910 [06:04<2:12:07,  9.25s/it]"
     ]
    },
    {
     "name": "stdout",
     "output_type": "stream",
     "text": [
      "epoch: 180 loss:0.145158 auc:0.9770\n",
      "Fit finished.\n",
      "epoch:   0 loss:0.499707 auc:0.7600\n",
      "epoch:  20 loss:0.253594 auc:1.0000\n",
      "epoch:  40 loss:0.185216 auc:0.9956\n",
      "epoch:  60 loss:0.171593 auc:0.9911\n",
      "epoch:  80 loss:0.161242 auc:0.9911\n",
      "epoch: 100 loss:0.149755 auc:0.9911\n",
      "epoch: 120 loss:0.146138 auc:0.9911\n",
      "epoch: 140 loss:0.144122 auc:0.9911\n",
      "epoch: 160 loss:0.142131 auc:1.0000\n",
      "epoch: 180 loss:0.139191 auc:1.0000\n",
      "epoch: 200 loss:0.137157 auc:1.0000\n",
      "epoch: 220 loss:0.135747 auc:0.9956\n",
      "epoch: 240 loss:0.134222 auc:0.9956\n",
      "epoch: 260 loss:0.135955 auc:0.9956\n",
      "epoch: 280 loss:0.130435 auc:0.9956\n",
      "epoch: 300 loss:0.129780 auc:0.9956\n",
      "epoch: 320 loss:0.129743 auc:1.0000\n"
     ]
    },
    {
     "name": "stderr",
     "output_type": "stream",
     "text": [
      "  6%|▌         | 54/910 [06:19<2:35:19, 10.89s/it]"
     ]
    },
    {
     "name": "stdout",
     "output_type": "stream",
     "text": [
      "epoch: 340 loss:0.124341 auc:0.9956\n",
      "Fit finished.\n",
      "epoch:   0 loss:1.228908 auc:0.1834\n",
      "epoch:  20 loss:0.292201 auc:0.9882\n",
      "epoch:  40 loss:0.223802 auc:0.9956\n",
      "epoch:  60 loss:0.185259 auc:0.9956\n",
      "epoch:  80 loss:0.174575 auc:0.9941\n",
      "epoch: 100 loss:0.167387 auc:0.9926\n",
      "epoch: 120 loss:0.157392 auc:0.9941\n",
      "epoch: 140 loss:0.148717 auc:0.9941\n",
      "epoch: 160 loss:0.145681 auc:0.9926\n",
      "epoch: 180 loss:0.143632 auc:0.9941\n",
      "epoch: 200 loss:0.144647 auc:0.9970\n"
     ]
    },
    {
     "name": "stderr",
     "output_type": "stream",
     "text": [
      "  6%|▌         | 55/910 [06:29<2:33:25, 10.77s/it]"
     ]
    },
    {
     "name": "stdout",
     "output_type": "stream",
     "text": [
      "epoch: 220 loss:0.139937 auc:0.9941\n",
      "Fit finished.\n",
      "epoch:   0 loss:0.988533 auc:0.6029\n",
      "epoch:  20 loss:0.280444 auc:0.9663\n",
      "epoch:  40 loss:0.209807 auc:0.9680\n",
      "epoch:  60 loss:0.179463 auc:0.9689\n",
      "epoch:  80 loss:0.166608 auc:0.9680\n",
      "epoch: 100 loss:0.153959 auc:0.9680\n",
      "epoch: 120 loss:0.147984 auc:0.9654\n",
      "epoch: 140 loss:0.145598 auc:0.9654\n",
      "epoch: 160 loss:0.144395 auc:0.9645\n"
     ]
    },
    {
     "name": "stderr",
     "output_type": "stream",
     "text": [
      "  6%|▌         | 56/910 [06:38<2:23:47, 10.10s/it]"
     ]
    },
    {
     "name": "stdout",
     "output_type": "stream",
     "text": [
      "epoch: 180 loss:0.142630 auc:0.9498\n",
      "Fit finished.\n",
      "epoch:   0 loss:0.757981 auc:0.1285\n",
      "epoch:  20 loss:0.224252 auc:0.9849\n",
      "epoch:  40 loss:0.180649 auc:0.9849\n",
      "epoch:  60 loss:0.167999 auc:0.9868\n",
      "epoch:  80 loss:0.155664 auc:0.9868\n",
      "epoch: 100 loss:0.148549 auc:0.9868\n",
      "epoch: 120 loss:0.145793 auc:0.9849\n",
      "epoch: 140 loss:0.144099 auc:0.9830\n",
      "epoch: 160 loss:0.141743 auc:0.9792\n"
     ]
    },
    {
     "name": "stderr",
     "output_type": "stream",
     "text": [
      "  6%|▋         | 57/910 [06:45<2:13:26,  9.39s/it]"
     ]
    },
    {
     "name": "stdout",
     "output_type": "stream",
     "text": [
      "epoch: 180 loss:0.139494 auc:0.9679\n",
      "Fit finished.\n",
      "epoch:   0 loss:0.944903 auc:0.7392\n",
      "epoch:  20 loss:0.278864 auc:1.0000\n",
      "epoch:  40 loss:0.209069 auc:1.0000\n",
      "epoch:  60 loss:0.183054 auc:1.0000\n",
      "epoch:  80 loss:0.174075 auc:1.0000\n",
      "epoch: 100 loss:0.167001 auc:1.0000\n",
      "epoch: 120 loss:0.157056 auc:1.0000\n",
      "epoch: 140 loss:0.148919 auc:1.0000\n",
      "epoch: 160 loss:0.146182 auc:1.0000\n",
      "epoch: 180 loss:0.144140 auc:1.0000\n",
      "epoch: 200 loss:0.143006 auc:1.0000\n",
      "epoch: 220 loss:0.141073 auc:1.0000\n",
      "epoch: 240 loss:0.139961 auc:1.0000\n",
      "epoch: 260 loss:0.137547 auc:1.0000\n",
      "epoch: 280 loss:0.135822 auc:1.0000\n",
      "epoch: 300 loss:0.135934 auc:1.0000\n",
      "epoch: 320 loss:0.134038 auc:1.0000\n",
      "epoch: 340 loss:0.132338 auc:1.0000\n",
      "epoch: 360 loss:0.132049 auc:1.0000\n",
      "epoch: 380 loss:0.129852 auc:1.0000\n",
      "epoch: 400 loss:0.129833 auc:1.0000\n",
      "epoch: 420 loss:0.127311 auc:1.0000\n",
      "epoch: 440 loss:0.125803 auc:1.0000\n",
      "epoch: 460 loss:0.124667 auc:1.0000\n",
      "epoch: 480 loss:0.123692 auc:1.0000\n",
      "epoch: 500 loss:0.122825 auc:1.0000\n",
      "epoch: 520 loss:0.124157 auc:1.0000\n",
      "epoch: 540 loss:0.120707 auc:1.0000\n",
      "epoch: 560 loss:0.119176 auc:1.0000\n",
      "epoch: 580 loss:0.128835 auc:1.0000\n",
      "epoch: 600 loss:0.121720 auc:1.0000\n",
      "epoch: 620 loss:0.118903 auc:1.0000\n",
      "epoch: 640 loss:0.116516 auc:1.0000\n",
      "epoch: 660 loss:0.115498 auc:1.0000\n",
      "epoch: 680 loss:0.114670 auc:1.0000\n",
      "epoch: 700 loss:0.113915 auc:1.0000\n",
      "epoch: 720 loss:0.115300 auc:1.0000\n",
      "epoch: 740 loss:0.114147 auc:1.0000\n",
      "epoch: 760 loss:0.113467 auc:1.0000\n",
      "epoch: 780 loss:0.112299 auc:1.0000\n",
      "epoch: 800 loss:0.111258 auc:1.0000\n",
      "epoch: 820 loss:0.110853 auc:1.0000\n",
      "epoch: 840 loss:0.110732 auc:1.0000\n",
      "epoch: 860 loss:0.110754 auc:1.0000\n",
      "epoch: 880 loss:0.109378 auc:1.0000\n",
      "epoch: 900 loss:0.109009 auc:1.0000\n",
      "epoch: 920 loss:0.109317 auc:1.0000\n",
      "epoch: 940 loss:0.109024 auc:1.0000\n",
      "epoch: 960 loss:0.110618 auc:1.0000\n",
      "epoch: 980 loss:0.124912 auc:1.0000\n"
     ]
    },
    {
     "name": "stderr",
     "output_type": "stream",
     "text": [
      "  6%|▋         | 58/910 [07:29<4:39:59, 19.72s/it]"
     ]
    },
    {
     "name": "stdout",
     "output_type": "stream",
     "text": [
      "Fit finished.\n",
      "epoch:   0 loss:0.521797 auc:0.2391\n",
      "epoch:  20 loss:0.225077 auc:0.9401\n",
      "epoch:  40 loss:0.180605 auc:0.9479\n",
      "epoch:  60 loss:0.167362 auc:0.9510\n",
      "epoch:  80 loss:0.154503 auc:0.9492\n",
      "epoch: 100 loss:0.147980 auc:0.9440\n",
      "epoch: 120 loss:0.145037 auc:0.9401\n",
      "epoch: 140 loss:0.143866 auc:0.9253\n",
      "epoch: 160 loss:0.140462 auc:0.8715\n"
     ]
    },
    {
     "name": "stderr",
     "output_type": "stream",
     "text": [
      "  6%|▋         | 59/910 [07:37<3:48:25, 16.11s/it]"
     ]
    },
    {
     "name": "stdout",
     "output_type": "stream",
     "text": [
      "epoch: 180 loss:0.139071 auc:0.8377\n",
      "Fit finished.\n",
      "epoch:   0 loss:0.925911 auc:0.5486\n",
      "epoch:  20 loss:0.286358 auc:0.9653\n",
      "epoch:  40 loss:0.228555 auc:0.9666\n",
      "epoch:  60 loss:0.187514 auc:0.9670\n",
      "epoch:  80 loss:0.174116 auc:0.9653\n",
      "epoch: 100 loss:0.165420 auc:0.9627\n",
      "epoch: 120 loss:0.154990 auc:0.9631\n",
      "epoch: 140 loss:0.148931 auc:0.9627\n",
      "epoch: 160 loss:0.146420 auc:0.9627\n"
     ]
    },
    {
     "name": "stderr",
     "output_type": "stream",
     "text": [
      "  7%|▋         | 60/910 [07:44<3:10:10, 13.42s/it]"
     ]
    },
    {
     "name": "stdout",
     "output_type": "stream",
     "text": [
      "epoch: 180 loss:0.144691 auc:0.9622\n",
      "Fit finished.\n",
      "epoch:   0 loss:0.674097 auc:0.2400\n",
      "epoch:  20 loss:0.204095 auc:0.9650\n",
      "epoch:  40 loss:0.178196 auc:0.9625\n",
      "epoch:  60 loss:0.169846 auc:0.9625\n",
      "epoch:  80 loss:0.159790 auc:0.9625\n",
      "epoch: 100 loss:0.149207 auc:0.9625\n",
      "epoch: 120 loss:0.145711 auc:0.9650\n",
      "epoch: 140 loss:0.142986 auc:0.9725\n",
      "epoch: 160 loss:0.142532 auc:0.9675\n",
      "epoch: 180 loss:0.137827 auc:0.9675\n",
      "epoch: 200 loss:0.136348 auc:0.9650\n",
      "epoch: 220 loss:0.134870 auc:0.9650\n",
      "epoch: 240 loss:0.135143 auc:0.9675\n",
      "epoch: 260 loss:0.136410 auc:0.9650\n",
      "epoch: 280 loss:0.130445 auc:0.9675\n"
     ]
    },
    {
     "name": "stderr",
     "output_type": "stream",
     "text": [
      "  7%|▋         | 61/910 [07:59<3:15:06, 13.79s/it]"
     ]
    },
    {
     "name": "stdout",
     "output_type": "stream",
     "text": [
      "epoch: 300 loss:0.132496 auc:0.9650\n",
      "Fit finished.\n",
      "epoch:   0 loss:1.014729 auc:0.4102\n",
      "epoch:  20 loss:0.297160 auc:0.9648\n",
      "epoch:  40 loss:0.235979 auc:0.9688\n",
      "epoch:  60 loss:0.186885 auc:0.9688\n",
      "epoch:  80 loss:0.173369 auc:0.9688\n",
      "epoch: 100 loss:0.163896 auc:0.9688\n",
      "epoch: 120 loss:0.153833 auc:0.9688\n",
      "epoch: 140 loss:0.148506 auc:0.9688\n",
      "epoch: 160 loss:0.145996 auc:0.9688\n",
      "epoch: 180 loss:0.144557 auc:0.9688\n",
      "epoch: 200 loss:0.143815 auc:0.9688\n",
      "epoch: 220 loss:0.141654 auc:0.9766\n",
      "epoch: 240 loss:0.140347 auc:0.9766\n",
      "epoch: 260 loss:0.138330 auc:0.9844\n",
      "epoch: 280 loss:0.137185 auc:0.9883\n",
      "epoch: 300 loss:0.137087 auc:0.9883\n",
      "epoch: 320 loss:0.134477 auc:0.9883\n",
      "epoch: 340 loss:0.133667 auc:0.9883\n",
      "epoch: 360 loss:0.132097 auc:0.9883\n",
      "epoch: 380 loss:0.130951 auc:0.9883\n",
      "epoch: 400 loss:0.131048 auc:0.9883\n",
      "epoch: 420 loss:0.128483 auc:0.9883\n",
      "epoch: 440 loss:0.126877 auc:0.9883\n"
     ]
    },
    {
     "name": "stderr",
     "output_type": "stream",
     "text": [
      "  7%|▋         | 62/910 [08:22<3:53:54, 16.55s/it]"
     ]
    },
    {
     "name": "stdout",
     "output_type": "stream",
     "text": [
      "epoch: 460 loss:0.129259 auc:0.9844\n",
      "Fit finished.\n",
      "epoch:   0 loss:0.658554 auc:0.6667\n",
      "epoch:  20 loss:0.282136 auc:0.9618\n",
      "epoch:  40 loss:0.209758 auc:0.9826\n",
      "epoch:  60 loss:0.181620 auc:0.9878\n",
      "epoch:  80 loss:0.171981 auc:0.9896\n",
      "epoch: 100 loss:0.164654 auc:0.9896\n",
      "epoch: 120 loss:0.155693 auc:0.9896\n",
      "epoch: 140 loss:0.148842 auc:0.9878\n",
      "epoch: 160 loss:0.146417 auc:0.9896\n",
      "epoch: 180 loss:0.144614 auc:0.9896\n",
      "epoch: 200 loss:0.143201 auc:0.9878\n"
     ]
    },
    {
     "name": "stderr",
     "output_type": "stream",
     "text": [
      "  7%|▋         | 64/910 [08:32<2:38:36, 11.25s/it]"
     ]
    },
    {
     "name": "stdout",
     "output_type": "stream",
     "text": [
      "epoch: 220 loss:0.141642 auc:0.9861\n",
      "Fit finished.\n",
      "epoch:   0 loss:0.552273 auc:0.5219\n",
      "epoch:  20 loss:0.224033 auc:0.9441\n",
      "epoch:  40 loss:0.180519 auc:0.9509\n",
      "epoch:  60 loss:0.170241 auc:0.9544\n",
      "epoch:  80 loss:0.161638 auc:0.9519\n",
      "epoch: 100 loss:0.150375 auc:0.9523\n",
      "epoch: 120 loss:0.146755 auc:0.9502\n",
      "epoch: 140 loss:0.146351 auc:0.9438\n",
      "epoch: 160 loss:0.142647 auc:0.9103\n"
     ]
    },
    {
     "name": "stderr",
     "output_type": "stream",
     "text": [
      "  7%|▋         | 65/910 [08:41<2:31:01, 10.72s/it]"
     ]
    },
    {
     "name": "stdout",
     "output_type": "stream",
     "text": [
      "epoch: 180 loss:0.139802 auc:0.7981\n",
      "Fit finished.\n",
      "epoch:   0 loss:1.017376 auc:0.8763\n",
      "epoch:  20 loss:0.273532 auc:1.0000\n",
      "epoch:  40 loss:0.207000 auc:1.0000\n",
      "epoch:  60 loss:0.179836 auc:0.9976\n",
      "epoch:  80 loss:0.169270 auc:0.9976\n",
      "epoch: 100 loss:0.160870 auc:0.9976\n",
      "epoch: 120 loss:0.151467 auc:0.9976\n",
      "epoch: 140 loss:0.147795 auc:0.9976\n",
      "epoch: 160 loss:0.145732 auc:0.9976\n"
     ]
    },
    {
     "name": "stderr",
     "output_type": "stream",
     "text": [
      "  7%|▋         | 66/910 [08:50<2:24:29, 10.27s/it]"
     ]
    },
    {
     "name": "stdout",
     "output_type": "stream",
     "text": [
      "epoch: 180 loss:0.146370 auc:0.9976\n",
      "Fit finished.\n",
      "epoch:   0 loss:0.597959 auc:0.1815\n",
      "epoch:  20 loss:0.212309 auc:0.9981\n",
      "epoch:  40 loss:0.179397 auc:0.9981\n",
      "epoch:  60 loss:0.167932 auc:0.9981\n",
      "epoch:  80 loss:0.155036 auc:0.9981\n",
      "epoch: 100 loss:0.148202 auc:0.9981\n",
      "epoch: 120 loss:0.144879 auc:0.9981\n",
      "epoch: 140 loss:0.142922 auc:0.9981\n",
      "epoch: 160 loss:0.139918 auc:1.0000\n"
     ]
    },
    {
     "name": "stderr",
     "output_type": "stream",
     "text": [
      "  7%|▋         | 67/910 [08:58<2:15:39,  9.66s/it]"
     ]
    },
    {
     "name": "stdout",
     "output_type": "stream",
     "text": [
      "epoch: 180 loss:0.138206 auc:0.9943\n",
      "Fit finished.\n",
      "epoch:   0 loss:0.772503 auc:0.8237\n",
      "epoch:  20 loss:0.278200 auc:0.9620\n",
      "epoch:  40 loss:0.211272 auc:0.9632\n",
      "epoch:  60 loss:0.179561 auc:0.9660\n",
      "epoch:  80 loss:0.166631 auc:0.9643\n",
      "epoch: 100 loss:0.154035 auc:0.9637\n",
      "epoch: 120 loss:0.148284 auc:0.9632\n",
      "epoch: 140 loss:0.145762 auc:0.9626\n",
      "epoch: 160 loss:0.146919 auc:0.9632\n"
     ]
    },
    {
     "name": "stderr",
     "output_type": "stream",
     "text": [
      "  7%|▋         | 68/910 [09:06<2:10:11,  9.28s/it]"
     ]
    },
    {
     "name": "stdout",
     "output_type": "stream",
     "text": [
      "epoch: 180 loss:0.142901 auc:0.9444\n",
      "Fit finished.\n",
      "epoch:   0 loss:0.921788 auc:0.7015\n",
      "epoch:  20 loss:0.302256 auc:0.9964\n",
      "epoch:  40 loss:0.253125 auc:0.9952\n",
      "epoch:  60 loss:0.199208 auc:0.9941\n",
      "epoch:  80 loss:0.174332 auc:0.9929\n",
      "epoch: 100 loss:0.159054 auc:0.9917\n",
      "epoch: 120 loss:0.150567 auc:0.9917\n",
      "epoch: 140 loss:0.147643 auc:0.9917\n",
      "epoch: 160 loss:0.145781 auc:0.9917\n"
     ]
    },
    {
     "name": "stderr",
     "output_type": "stream",
     "text": [
      "  8%|▊         | 69/910 [09:15<2:06:47,  9.05s/it]"
     ]
    },
    {
     "name": "stdout",
     "output_type": "stream",
     "text": [
      "epoch: 180 loss:0.144605 auc:0.9917\n",
      "Fit finished.\n",
      "epoch:   0 loss:0.665926 auc:0.3850\n",
      "epoch:  20 loss:0.215589 auc:0.9280\n",
      "epoch:  40 loss:0.180987 auc:0.9307\n",
      "epoch:  60 loss:0.171000 auc:0.9363\n",
      "epoch:  80 loss:0.161174 auc:0.9363\n",
      "epoch: 100 loss:0.149552 auc:0.9474\n",
      "epoch: 120 loss:0.145710 auc:0.9280\n",
      "epoch: 140 loss:0.143367 auc:0.9197\n",
      "epoch: 160 loss:0.141585 auc:0.9003\n"
     ]
    },
    {
     "name": "stderr",
     "output_type": "stream",
     "text": [
      "  8%|▊         | 70/910 [09:24<2:06:42,  9.05s/it]"
     ]
    },
    {
     "name": "stdout",
     "output_type": "stream",
     "text": [
      "epoch: 180 loss:0.139270 auc:0.9058\n",
      "Fit finished.\n",
      "epoch:   0 loss:0.985622 auc:0.4619\n",
      "epoch:  20 loss:0.285393 auc:0.9706\n",
      "epoch:  40 loss:0.217746 auc:0.9654\n",
      "epoch:  60 loss:0.183789 auc:0.9585\n",
      "epoch:  80 loss:0.173296 auc:0.9533\n",
      "epoch: 100 loss:0.165518 auc:0.9533\n",
      "epoch: 120 loss:0.155337 auc:0.9524\n",
      "epoch: 140 loss:0.148534 auc:0.9498\n",
      "epoch: 160 loss:0.145973 auc:0.9498\n"
     ]
    },
    {
     "name": "stderr",
     "output_type": "stream",
     "text": [
      "  8%|▊         | 71/910 [09:31<2:00:30,  8.62s/it]"
     ]
    },
    {
     "name": "stdout",
     "output_type": "stream",
     "text": [
      "epoch: 180 loss:0.144806 auc:0.9498\n",
      "Fit finished.\n",
      "epoch:   0 loss:0.689071 auc:0.3555\n",
      "epoch:  20 loss:0.271619 auc:0.9922\n",
      "epoch:  40 loss:0.190809 auc:0.9844\n",
      "epoch:  60 loss:0.172816 auc:0.9766\n",
      "epoch:  80 loss:0.162004 auc:0.9727\n",
      "epoch: 100 loss:0.150822 auc:0.9727\n",
      "epoch: 120 loss:0.147303 auc:0.9727\n",
      "epoch: 140 loss:0.145096 auc:0.9727\n",
      "epoch: 160 loss:0.143050 auc:0.9727\n"
     ]
    },
    {
     "name": "stderr",
     "output_type": "stream",
     "text": [
      "  8%|▊         | 72/910 [09:41<2:03:09,  8.82s/it]"
     ]
    },
    {
     "name": "stdout",
     "output_type": "stream",
     "text": [
      "epoch: 180 loss:0.142077 auc:0.9766\n",
      "Fit finished.\n",
      "epoch:   0 loss:0.672935 auc:0.6785\n",
      "epoch:  20 loss:0.281028 auc:1.0000\n",
      "epoch:  40 loss:0.200176 auc:1.0000\n",
      "epoch:  60 loss:0.178468 auc:1.0000\n",
      "epoch:  80 loss:0.168200 auc:1.0000\n",
      "epoch: 100 loss:0.159323 auc:1.0000\n",
      "epoch: 120 loss:0.150458 auc:1.0000\n",
      "epoch: 140 loss:0.147077 auc:1.0000\n",
      "epoch: 160 loss:0.144884 auc:1.0000\n",
      "epoch: 180 loss:0.143108 auc:1.0000\n"
     ]
    },
    {
     "name": "stderr",
     "output_type": "stream",
     "text": [
      "  8%|▊         | 73/910 [09:51<2:06:59,  9.10s/it]"
     ]
    },
    {
     "name": "stdout",
     "output_type": "stream",
     "text": [
      "epoch: 200 loss:0.141246 auc:0.9990\n",
      "Fit finished.\n",
      "epoch:   0 loss:0.566817 auc:0.6627\n",
      "epoch:  20 loss:0.260340 auc:0.9471\n",
      "epoch:  40 loss:0.191349 auc:0.9518\n",
      "epoch:  60 loss:0.174274 auc:0.9524\n",
      "epoch:  80 loss:0.164261 auc:0.9518\n",
      "epoch: 100 loss:0.153810 auc:0.9548\n",
      "epoch: 120 loss:0.148488 auc:0.9530\n",
      "epoch: 140 loss:0.146086 auc:0.9518\n",
      "epoch: 160 loss:0.144281 auc:0.9524\n",
      "epoch: 180 loss:0.143200 auc:0.9518\n"
     ]
    },
    {
     "name": "stderr",
     "output_type": "stream",
     "text": [
      "  8%|▊         | 74/910 [10:01<2:10:42,  9.38s/it]"
     ]
    },
    {
     "name": "stdout",
     "output_type": "stream",
     "text": [
      "epoch: 200 loss:0.141493 auc:0.9500\n",
      "Fit finished.\n",
      "epoch:   0 loss:0.994620 auc:0.8616\n",
      "epoch:  20 loss:0.286266 auc:0.9855\n",
      "epoch:  40 loss:0.219454 auc:0.9876\n",
      "epoch:  60 loss:0.181198 auc:0.9917\n",
      "epoch:  80 loss:0.167201 auc:0.9917\n",
      "epoch: 100 loss:0.157212 auc:0.9917\n",
      "epoch: 120 loss:0.150215 auc:0.9917\n",
      "epoch: 140 loss:0.147553 auc:0.9917\n",
      "epoch: 160 loss:0.145667 auc:0.9917\n",
      "epoch: 180 loss:0.144116 auc:0.9917\n",
      "epoch: 200 loss:0.143049 auc:0.9938\n",
      "epoch: 220 loss:0.141367 auc:0.9979\n",
      "epoch: 240 loss:0.139363 auc:0.9979\n",
      "epoch: 260 loss:0.140376 auc:0.9979\n",
      "epoch: 280 loss:0.136643 auc:0.9959\n",
      "epoch: 300 loss:0.135143 auc:0.9938\n",
      "epoch: 320 loss:0.134157 auc:0.9917\n"
     ]
    },
    {
     "name": "stderr",
     "output_type": "stream",
     "text": [
      "  8%|▊         | 75/910 [10:20<2:52:31, 12.40s/it]"
     ]
    },
    {
     "name": "stdout",
     "output_type": "stream",
     "text": [
      "epoch: 340 loss:0.133499 auc:0.9876\n",
      "Fit finished.\n",
      "epoch:   0 loss:0.763424 auc:0.0907\n",
      "epoch:  20 loss:0.246691 auc:0.9932\n",
      "epoch:  40 loss:0.186702 auc:0.9955\n",
      "epoch:  60 loss:0.171168 auc:0.9955\n",
      "epoch:  80 loss:0.160593 auc:0.9955\n",
      "epoch: 100 loss:0.150765 auc:0.9955\n",
      "epoch: 120 loss:0.147245 auc:0.9977\n",
      "epoch: 140 loss:0.144802 auc:0.9955\n",
      "epoch: 160 loss:0.142895 auc:0.9955\n",
      "epoch: 180 loss:0.141346 auc:0.9955\n",
      "epoch: 200 loss:0.140541 auc:0.9955\n",
      "epoch: 220 loss:0.137074 auc:0.9955\n"
     ]
    },
    {
     "name": "stderr",
     "output_type": "stream",
     "text": [
      "  8%|▊         | 76/910 [10:33<2:52:38, 12.42s/it]"
     ]
    },
    {
     "name": "stdout",
     "output_type": "stream",
     "text": [
      "epoch: 240 loss:0.136284 auc:0.9887\n",
      "Fit finished.\n",
      "epoch:   0 loss:0.636437 auc:0.5261\n",
      "epoch:  20 loss:0.268087 auc:0.9909\n",
      "epoch:  40 loss:0.192451 auc:0.9955\n",
      "epoch:  60 loss:0.174843 auc:0.9932\n",
      "epoch:  80 loss:0.165305 auc:0.9932\n",
      "epoch: 100 loss:0.154447 auc:0.9932\n",
      "epoch: 120 loss:0.148802 auc:0.9932\n",
      "epoch: 140 loss:0.147108 auc:0.9932\n",
      "epoch: 160 loss:0.144197 auc:0.9932\n",
      "epoch: 180 loss:0.142709 auc:0.9955\n",
      "epoch: 200 loss:0.141101 auc:1.0000\n",
      "epoch: 220 loss:0.139307 auc:1.0000\n",
      "epoch: 240 loss:0.138151 auc:1.0000\n",
      "epoch: 260 loss:0.135379 auc:1.0000\n",
      "epoch: 280 loss:0.136035 auc:1.0000\n",
      "epoch: 300 loss:0.134218 auc:1.0000\n"
     ]
    },
    {
     "name": "stderr",
     "output_type": "stream",
     "text": [
      "  8%|▊         | 77/910 [10:50<3:13:18, 13.92s/it]"
     ]
    },
    {
     "name": "stdout",
     "output_type": "stream",
     "text": [
      "epoch: 320 loss:0.128896 auc:0.9796\n",
      "Fit finished.\n",
      "epoch:   0 loss:0.634372 auc:0.4637\n",
      "epoch:  20 loss:0.262791 auc:0.8920\n",
      "epoch:  40 loss:0.190348 auc:0.8904\n",
      "epoch:  60 loss:0.174886 auc:0.8904\n",
      "epoch:  80 loss:0.166197 auc:0.8881\n",
      "epoch: 100 loss:0.156842 auc:0.8881\n",
      "epoch: 120 loss:0.149612 auc:0.8889\n",
      "epoch: 140 loss:0.146652 auc:0.8904\n",
      "epoch: 160 loss:0.144524 auc:0.8858\n"
     ]
    },
    {
     "name": "stderr",
     "output_type": "stream",
     "text": [
      "  9%|▊         | 78/910 [10:59<2:51:42, 12.38s/it]"
     ]
    },
    {
     "name": "stdout",
     "output_type": "stream",
     "text": [
      "epoch: 180 loss:0.142350 auc:0.8418\n",
      "Fit finished.\n",
      "epoch:   0 loss:1.298907 auc:0.3181\n",
      "epoch:  20 loss:0.259577 auc:0.9637\n",
      "epoch:  40 loss:0.195329 auc:0.9694\n",
      "epoch:  60 loss:0.177869 auc:0.9694\n",
      "epoch:  80 loss:0.168483 auc:0.9681\n",
      "epoch: 100 loss:0.159276 auc:0.9669\n",
      "epoch: 120 loss:0.150604 auc:0.9663\n",
      "epoch: 140 loss:0.147511 auc:0.9688\n",
      "epoch: 160 loss:0.145523 auc:0.9669\n",
      "epoch: 180 loss:0.145723 auc:0.9669\n"
     ]
    },
    {
     "name": "stderr",
     "output_type": "stream",
     "text": [
      "  9%|▊         | 79/910 [11:07<2:34:05, 11.13s/it]"
     ]
    },
    {
     "name": "stdout",
     "output_type": "stream",
     "text": [
      "epoch: 200 loss:0.142995 auc:0.9663\n",
      "Fit finished.\n",
      "epoch:   0 loss:0.546670 auc:0.8179\n",
      "epoch:  20 loss:0.256307 auc:0.9952\n",
      "epoch:  40 loss:0.188497 auc:0.9979\n",
      "epoch:  60 loss:0.173326 auc:0.9986\n",
      "epoch:  80 loss:0.164812 auc:0.9986\n",
      "epoch: 100 loss:0.152340 auc:0.9986\n",
      "epoch: 120 loss:0.147118 auc:0.9986\n",
      "epoch: 140 loss:0.144498 auc:0.9986\n",
      "epoch: 160 loss:0.144989 auc:0.9986\n",
      "epoch: 180 loss:0.141068 auc:0.9993\n",
      "epoch: 200 loss:0.139353 auc:0.9993\n"
     ]
    },
    {
     "name": "stderr",
     "output_type": "stream",
     "text": [
      "  9%|▉         | 80/910 [11:18<2:32:16, 11.01s/it]"
     ]
    },
    {
     "name": "stdout",
     "output_type": "stream",
     "text": [
      "epoch: 220 loss:0.138686 auc:0.9702\n",
      "Fit finished.\n",
      "epoch:   0 loss:0.616193 auc:0.1605\n",
      "epoch:  20 loss:0.216597 auc:0.9684\n",
      "epoch:  40 loss:0.179048 auc:0.9715\n",
      "epoch:  60 loss:0.167524 auc:0.9715\n",
      "epoch:  80 loss:0.156067 auc:0.9730\n",
      "epoch: 100 loss:0.148659 auc:0.9730\n",
      "epoch: 120 loss:0.145693 auc:0.9730\n",
      "epoch: 140 loss:0.143060 auc:0.9738\n",
      "epoch: 160 loss:0.141525 auc:0.9668\n",
      "epoch: 180 loss:0.140049 auc:0.9730\n"
     ]
    },
    {
     "name": "stderr",
     "output_type": "stream",
     "text": [
      "  9%|▉         | 81/910 [11:27<2:25:06, 10.50s/it]"
     ]
    },
    {
     "name": "stdout",
     "output_type": "stream",
     "text": [
      "epoch: 200 loss:0.138094 auc:0.9614\n",
      "Fit finished.\n",
      "epoch:   0 loss:1.491618 auc:0.5837\n",
      "epoch:  20 loss:0.291340 auc:0.9105\n",
      "epoch:  40 loss:0.227224 auc:0.9108\n",
      "epoch:  60 loss:0.186307 auc:0.9122\n",
      "epoch:  80 loss:0.172079 auc:0.9095\n",
      "epoch: 100 loss:0.162393 auc:0.9095\n",
      "epoch: 120 loss:0.152135 auc:0.9088\n",
      "epoch: 140 loss:0.147320 auc:0.9064\n",
      "epoch: 160 loss:0.145156 auc:0.9047\n"
     ]
    },
    {
     "name": "stderr",
     "output_type": "stream",
     "text": [
      "  9%|▉         | 82/910 [11:35<2:15:46,  9.84s/it]"
     ]
    },
    {
     "name": "stdout",
     "output_type": "stream",
     "text": [
      "epoch: 180 loss:0.143252 auc:0.9053\n",
      "Fit finished.\n",
      "epoch:   0 loss:0.717522 auc:0.6496\n",
      "epoch:  20 loss:0.277020 auc:0.9875\n",
      "epoch:  40 loss:0.203600 auc:0.9901\n",
      "epoch:  60 loss:0.178640 auc:0.9928\n",
      "epoch:  80 loss:0.168565 auc:0.9934\n",
      "epoch: 100 loss:0.158929 auc:0.9921\n",
      "epoch: 120 loss:0.150375 auc:0.9921\n",
      "epoch: 140 loss:0.147323 auc:0.9928\n",
      "epoch: 160 loss:0.145217 auc:0.9921\n",
      "epoch: 180 loss:0.143665 auc:0.9928\n"
     ]
    },
    {
     "name": "stderr",
     "output_type": "stream",
     "text": [
      "  9%|▉         | 83/910 [11:48<2:27:45, 10.72s/it]"
     ]
    },
    {
     "name": "stdout",
     "output_type": "stream",
     "text": [
      "epoch: 200 loss:0.142008 auc:0.9895\n",
      "Fit finished.\n",
      "epoch:   0 loss:1.000330 auc:0.6862\n",
      "epoch:  20 loss:0.273482 auc:0.9074\n",
      "epoch:  40 loss:0.202398 auc:0.9197\n",
      "epoch:  60 loss:0.177784 auc:0.9249\n",
      "epoch:  80 loss:0.167181 auc:0.9263\n",
      "epoch: 100 loss:0.157548 auc:0.9267\n",
      "epoch: 120 loss:0.149854 auc:0.9253\n",
      "epoch: 140 loss:0.146807 auc:0.9282\n",
      "epoch: 160 loss:0.144466 auc:0.9272\n",
      "epoch: 180 loss:0.143911 auc:0.9267\n"
     ]
    },
    {
     "name": "stderr",
     "output_type": "stream",
     "text": [
      "  9%|▉         | 84/910 [11:58<2:23:45, 10.44s/it]"
     ]
    },
    {
     "name": "stdout",
     "output_type": "stream",
     "text": [
      "epoch: 200 loss:0.140802 auc:0.9069\n",
      "Fit finished.\n",
      "epoch:   0 loss:0.544280 auc:0.2278\n",
      "epoch:  20 loss:0.252270 auc:0.9965\n",
      "epoch:  40 loss:0.191884 auc:0.9952\n",
      "epoch:  60 loss:0.175592 auc:0.9938\n",
      "epoch:  80 loss:0.165110 auc:0.9945\n",
      "epoch: 100 loss:0.154463 auc:0.9945\n",
      "epoch: 120 loss:0.148525 auc:0.9938\n",
      "epoch: 140 loss:0.145837 auc:0.9945\n",
      "epoch: 160 loss:0.143986 auc:0.9958\n",
      "epoch: 180 loss:0.142643 auc:0.9972\n",
      "epoch: 200 loss:0.140758 auc:0.9958\n"
     ]
    },
    {
     "name": "stderr",
     "output_type": "stream",
     "text": [
      "  9%|▉         | 85/910 [12:09<2:25:29, 10.58s/it]"
     ]
    },
    {
     "name": "stdout",
     "output_type": "stream",
     "text": [
      "epoch: 220 loss:0.138207 auc:0.9751\n",
      "Fit finished.\n",
      "epoch:   0 loss:0.645141 auc:0.5078\n",
      "epoch:  20 loss:0.271815 auc:0.9854\n",
      "epoch:  40 loss:0.198989 auc:0.9922\n",
      "epoch:  60 loss:0.175460 auc:0.9941\n",
      "epoch:  80 loss:0.163649 auc:0.9951\n",
      "epoch: 100 loss:0.152254 auc:0.9951\n",
      "epoch: 120 loss:0.148264 auc:0.9951\n",
      "epoch: 140 loss:0.145755 auc:0.9951\n",
      "epoch: 160 loss:0.144262 auc:0.9951\n",
      "epoch: 180 loss:0.142447 auc:0.9932\n",
      "epoch: 200 loss:0.140664 auc:0.9932\n"
     ]
    },
    {
     "name": "stderr",
     "output_type": "stream",
     "text": [
      "  9%|▉         | 86/910 [12:19<2:23:27, 10.45s/it]"
     ]
    },
    {
     "name": "stdout",
     "output_type": "stream",
     "text": [
      "epoch: 220 loss:0.138695 auc:0.9902\n",
      "Fit finished.\n",
      "epoch:   0 loss:1.050378 auc:0.8272\n",
      "epoch:  20 loss:0.279726 auc:0.9986\n",
      "epoch:  40 loss:0.212953 auc:0.9986\n",
      "epoch:  60 loss:0.182084 auc:0.9986\n",
      "epoch:  80 loss:0.172020 auc:0.9986\n",
      "epoch: 100 loss:0.164786 auc:0.9986\n",
      "epoch: 120 loss:0.155753 auc:0.9986\n",
      "epoch: 140 loss:0.149663 auc:0.9986\n",
      "epoch: 160 loss:0.147185 auc:0.9986\n",
      "epoch: 180 loss:0.145352 auc:0.9986\n",
      "epoch: 200 loss:0.145503 auc:0.9986\n",
      "epoch: 220 loss:0.142552 auc:0.9986\n"
     ]
    },
    {
     "name": "stderr",
     "output_type": "stream",
     "text": [
      " 10%|▉         | 87/910 [12:30<2:26:53, 10.71s/it]"
     ]
    },
    {
     "name": "stdout",
     "output_type": "stream",
     "text": [
      "epoch: 240 loss:0.141063 auc:0.9959\n",
      "Fit finished.\n",
      "epoch:   0 loss:0.810573 auc:0.4133\n",
      "epoch:  20 loss:0.259191 auc:0.9809\n",
      "epoch:  40 loss:0.189018 auc:0.9783\n",
      "epoch:  60 loss:0.174608 auc:0.9758\n",
      "epoch:  80 loss:0.165728 auc:0.9745\n",
      "epoch: 100 loss:0.155146 auc:0.9745\n",
      "epoch: 120 loss:0.148225 auc:0.9745\n",
      "epoch: 140 loss:0.145463 auc:0.9758\n",
      "epoch: 160 loss:0.145963 auc:0.9770\n"
     ]
    },
    {
     "name": "stderr",
     "output_type": "stream",
     "text": [
      " 10%|▉         | 88/910 [12:39<2:19:45, 10.20s/it]"
     ]
    },
    {
     "name": "stdout",
     "output_type": "stream",
     "text": [
      "epoch: 180 loss:0.141397 auc:0.9783\n",
      "Fit finished.\n",
      "epoch:   0 loss:0.820016 auc:0.6200\n",
      "epoch:  20 loss:0.272787 auc:0.8656\n",
      "epoch:  40 loss:0.203580 auc:0.9026\n",
      "epoch:  60 loss:0.175707 auc:0.9108\n",
      "epoch:  80 loss:0.162180 auc:0.9108\n",
      "epoch: 100 loss:0.150680 auc:0.9108\n",
      "epoch: 120 loss:0.147287 auc:0.9095\n",
      "epoch: 140 loss:0.145046 auc:0.9122\n",
      "epoch: 160 loss:0.143793 auc:0.9122\n",
      "epoch: 180 loss:0.142004 auc:0.9136\n",
      "epoch: 200 loss:0.141636 auc:0.9026\n"
     ]
    },
    {
     "name": "stderr",
     "output_type": "stream",
     "text": [
      " 10%|▉         | 89/910 [12:50<2:23:49, 10.51s/it]"
     ]
    },
    {
     "name": "stdout",
     "output_type": "stream",
     "text": [
      "epoch: 220 loss:0.139079 auc:0.9026\n",
      "Fit finished.\n",
      "epoch:   0 loss:1.056282 auc:0.7274\n",
      "epoch:  20 loss:0.286278 auc:0.9774\n",
      "epoch:  40 loss:0.220643 auc:0.9948\n",
      "epoch:  60 loss:0.183087 auc:0.9948\n",
      "epoch:  80 loss:0.172284 auc:0.9965\n",
      "epoch: 100 loss:0.164685 auc:0.9965\n",
      "epoch: 120 loss:0.155608 auc:0.9965\n",
      "epoch: 140 loss:0.148938 auc:0.9965\n",
      "epoch: 160 loss:0.146555 auc:0.9965\n",
      "epoch: 180 loss:0.144837 auc:0.9965\n",
      "epoch: 200 loss:0.144815 auc:0.9965\n",
      "epoch: 220 loss:0.142210 auc:1.0000\n",
      "epoch: 240 loss:0.142466 auc:1.0000\n",
      "epoch: 260 loss:0.139184 auc:1.0000\n"
     ]
    },
    {
     "name": "stderr",
     "output_type": "stream",
     "text": [
      " 10%|▉         | 90/910 [13:03<2:31:36, 11.09s/it]"
     ]
    },
    {
     "name": "stdout",
     "output_type": "stream",
     "text": [
      "epoch: 280 loss:0.137306 auc:0.9948\n",
      "Fit finished.\n",
      "epoch:   0 loss:1.059021 auc:0.5764\n",
      "epoch:  20 loss:0.278957 auc:0.9938\n",
      "epoch:  40 loss:0.214070 auc:0.9938\n",
      "epoch:  60 loss:0.182773 auc:0.9876\n",
      "epoch:  80 loss:0.170613 auc:0.9855\n",
      "epoch: 100 loss:0.161497 auc:0.9855\n",
      "epoch: 120 loss:0.152639 auc:0.9855\n",
      "epoch: 140 loss:0.148715 auc:0.9855\n",
      "epoch: 160 loss:0.146662 auc:0.9855\n"
     ]
    },
    {
     "name": "stderr",
     "output_type": "stream",
     "text": [
      " 10%|█         | 91/910 [13:13<2:26:30, 10.73s/it]"
     ]
    },
    {
     "name": "stdout",
     "output_type": "stream",
     "text": [
      "epoch: 180 loss:0.145094 auc:0.9855\n",
      "Fit finished.\n",
      "epoch:   0 loss:0.592310 auc:0.4645\n",
      "epoch:  20 loss:0.263628 auc:0.9118\n",
      "epoch:  40 loss:0.190464 auc:0.9127\n",
      "epoch:  60 loss:0.174610 auc:0.9086\n",
      "epoch:  80 loss:0.164830 auc:0.9069\n",
      "epoch: 100 loss:0.154236 auc:0.9078\n",
      "epoch: 120 loss:0.148253 auc:0.9045\n",
      "epoch: 140 loss:0.145704 auc:0.9061\n",
      "epoch: 160 loss:0.143622 auc:0.9012\n"
     ]
    },
    {
     "name": "stderr",
     "output_type": "stream",
     "text": [
      " 10%|█         | 92/910 [13:22<2:18:23, 10.15s/it]"
     ]
    },
    {
     "name": "stdout",
     "output_type": "stream",
     "text": [
      "epoch: 180 loss:0.143557 auc:0.8996\n",
      "Fit finished.\n",
      "epoch:   0 loss:0.693013 auc:0.6309\n",
      "epoch:  20 loss:0.275979 auc:0.9619\n",
      "epoch:  40 loss:0.197200 auc:0.9667\n",
      "epoch:  60 loss:0.177952 auc:0.9704\n",
      "epoch:  80 loss:0.167580 auc:0.9708\n",
      "epoch: 100 loss:0.156757 auc:0.9693\n",
      "epoch: 120 loss:0.148788 auc:0.9689\n",
      "epoch: 140 loss:0.145887 auc:0.9671\n",
      "epoch: 160 loss:0.146303 auc:0.9645\n"
     ]
    },
    {
     "name": "stderr",
     "output_type": "stream",
     "text": [
      " 10%|█         | 93/910 [13:32<2:17:54, 10.13s/it]"
     ]
    },
    {
     "name": "stdout",
     "output_type": "stream",
     "text": [
      "epoch: 180 loss:0.142644 auc:0.9497\n",
      "Fit finished.\n",
      "epoch:   0 loss:0.697924 auc:0.5748\n",
      "epoch:  20 loss:0.248779 auc:0.9857\n",
      "epoch:  40 loss:0.188282 auc:0.9842\n",
      "epoch:  60 loss:0.174568 auc:0.9847\n",
      "epoch:  80 loss:0.167085 auc:0.9842\n",
      "epoch: 100 loss:0.158107 auc:0.9847\n",
      "epoch: 120 loss:0.149675 auc:0.9847\n",
      "epoch: 140 loss:0.146745 auc:0.9847\n",
      "epoch: 160 loss:0.144648 auc:0.9847\n"
     ]
    },
    {
     "name": "stderr",
     "output_type": "stream",
     "text": [
      " 10%|█         | 94/910 [13:41<2:16:03, 10.00s/it]"
     ]
    },
    {
     "name": "stdout",
     "output_type": "stream",
     "text": [
      "epoch: 180 loss:0.142677 auc:0.9837\n",
      "Fit finished.\n",
      "epoch:   0 loss:0.678877 auc:0.3033\n",
      "epoch:  20 loss:0.225897 auc:0.9926\n",
      "epoch:  40 loss:0.181757 auc:0.9985\n",
      "epoch:  60 loss:0.171616 auc:0.9985\n",
      "epoch:  80 loss:0.164079 auc:0.9985\n",
      "epoch: 100 loss:0.153225 auc:0.9985\n",
      "epoch: 120 loss:0.147576 auc:0.9985\n",
      "epoch: 140 loss:0.145041 auc:0.9985\n",
      "epoch: 160 loss:0.142819 auc:0.9956\n"
     ]
    },
    {
     "name": "stderr",
     "output_type": "stream",
     "text": [
      " 10%|█         | 95/910 [13:51<2:14:19,  9.89s/it]"
     ]
    },
    {
     "name": "stdout",
     "output_type": "stream",
     "text": [
      "epoch: 180 loss:0.141231 auc:0.9882\n",
      "Fit finished.\n",
      "epoch:   0 loss:0.896315 auc:0.3600\n",
      "epoch:  20 loss:0.289434 auc:0.9000\n",
      "epoch:  40 loss:0.211063 auc:0.9000\n",
      "epoch:  60 loss:0.182044 auc:0.9075\n",
      "epoch:  80 loss:0.173976 auc:0.9100\n",
      "epoch: 100 loss:0.168461 auc:0.9100\n",
      "epoch: 120 loss:0.161176 auc:0.9100\n",
      "epoch: 140 loss:0.151322 auc:0.9100\n",
      "epoch: 160 loss:0.147230 auc:0.9100\n",
      "epoch: 180 loss:0.146065 auc:0.9100\n"
     ]
    },
    {
     "name": "stderr",
     "output_type": "stream",
     "text": [
      " 11%|█         | 96/910 [14:00<2:11:24,  9.69s/it]"
     ]
    },
    {
     "name": "stdout",
     "output_type": "stream",
     "text": [
      "epoch: 200 loss:0.143042 auc:0.8975\n",
      "Fit finished.\n",
      "epoch:   0 loss:0.752626 auc:0.2156\n",
      "epoch:  20 loss:0.222773 auc:0.9833\n",
      "epoch:  40 loss:0.181614 auc:0.9800\n",
      "epoch:  60 loss:0.170586 auc:0.9767\n",
      "epoch:  80 loss:0.161185 auc:0.9767\n",
      "epoch: 100 loss:0.150322 auc:0.9778\n",
      "epoch: 120 loss:0.146436 auc:0.9778\n",
      "epoch: 140 loss:0.144085 auc:0.9778\n",
      "epoch: 160 loss:0.141943 auc:0.9811\n"
     ]
    },
    {
     "name": "stderr",
     "output_type": "stream",
     "text": [
      " 11%|█         | 97/910 [14:08<2:04:57,  9.22s/it]"
     ]
    },
    {
     "name": "stdout",
     "output_type": "stream",
     "text": [
      "epoch: 180 loss:0.139810 auc:0.9822\n",
      "Fit finished.\n",
      "epoch:   0 loss:0.677376 auc:0.1807\n",
      "epoch:  20 loss:0.220088 auc:0.9922\n",
      "epoch:  40 loss:0.179087 auc:0.9941\n",
      "epoch:  60 loss:0.166020 auc:0.9932\n",
      "epoch:  80 loss:0.154705 auc:0.9932\n",
      "epoch: 100 loss:0.148877 auc:0.9932\n",
      "epoch: 120 loss:0.145802 auc:0.9941\n",
      "epoch: 140 loss:0.143852 auc:0.9941\n",
      "epoch: 160 loss:0.144018 auc:0.9951\n",
      "epoch: 180 loss:0.138299 auc:0.9922\n"
     ]
    },
    {
     "name": "stderr",
     "output_type": "stream",
     "text": [
      " 11%|█         | 98/910 [14:17<2:00:29,  8.90s/it]"
     ]
    },
    {
     "name": "stdout",
     "output_type": "stream",
     "text": [
      "epoch: 200 loss:0.139104 auc:0.9932\n",
      "Fit finished.\n",
      "epoch:   0 loss:0.613845 auc:0.6694\n",
      "epoch:  20 loss:0.278249 auc:0.9786\n",
      "epoch:  40 loss:0.203189 auc:0.9845\n",
      "epoch:  60 loss:0.179705 auc:0.9845\n",
      "epoch:  80 loss:0.169521 auc:0.9810\n",
      "epoch: 100 loss:0.160459 auc:0.9834\n",
      "epoch: 120 loss:0.151068 auc:0.9834\n",
      "epoch: 140 loss:0.147641 auc:0.9810\n",
      "epoch: 160 loss:0.145407 auc:0.9810\n",
      "epoch: 180 loss:0.143889 auc:0.9786\n"
     ]
    },
    {
     "name": "stderr",
     "output_type": "stream",
     "text": [
      " 11%|█         | 99/910 [14:25<1:57:05,  8.66s/it]"
     ]
    },
    {
     "name": "stdout",
     "output_type": "stream",
     "text": [
      "epoch: 200 loss:0.142974 auc:0.9727\n",
      "Fit finished.\n",
      "epoch:   0 loss:0.553413 auc:0.2985\n",
      "epoch:  20 loss:0.223902 auc:0.9646\n",
      "epoch:  40 loss:0.184405 auc:0.9646\n",
      "epoch:  60 loss:0.174757 auc:0.9660\n",
      "epoch:  80 loss:0.167993 auc:0.9693\n",
      "epoch: 100 loss:0.156626 auc:0.9696\n",
      "epoch: 120 loss:0.148309 auc:0.9653\n",
      "epoch: 140 loss:0.145117 auc:0.9696\n",
      "epoch: 160 loss:0.147078 auc:0.9431\n"
     ]
    },
    {
     "name": "stderr",
     "output_type": "stream",
     "text": [
      " 11%|█         | 100/910 [14:31<1:49:32,  8.11s/it]"
     ]
    },
    {
     "name": "stdout",
     "output_type": "stream",
     "text": [
      "epoch: 180 loss:0.139719 auc:0.9250\n",
      "Fit finished.\n",
      "epoch:   0 loss:0.671541 auc:0.5677\n",
      "epoch:  20 loss:0.259270 auc:0.9722\n",
      "epoch:  40 loss:0.191493 auc:0.9809\n",
      "epoch:  60 loss:0.177154 auc:0.9826\n",
      "epoch:  80 loss:0.168706 auc:0.9861\n",
      "epoch: 100 loss:0.159493 auc:0.9861\n",
      "epoch: 120 loss:0.149493 auc:0.9861\n",
      "epoch: 140 loss:0.146534 auc:0.9861\n",
      "epoch: 160 loss:0.146334 auc:0.9861\n",
      "epoch: 180 loss:0.143304 auc:0.9861\n",
      "epoch: 200 loss:0.141941 auc:0.9861\n",
      "epoch: 220 loss:0.141329 auc:0.9896\n",
      "epoch: 240 loss:0.138957 auc:0.9878\n"
     ]
    },
    {
     "name": "stderr",
     "output_type": "stream",
     "text": [
      " 11%|█         | 101/910 [14:42<1:57:56,  8.75s/it]"
     ]
    },
    {
     "name": "stdout",
     "output_type": "stream",
     "text": [
      "epoch: 260 loss:0.136742 auc:0.9844\n",
      "Fit finished.\n",
      "epoch:   0 loss:1.019018 auc:0.2756\n",
      "epoch:  20 loss:0.275527 auc:1.0000\n",
      "epoch:  40 loss:0.204412 auc:1.0000\n",
      "epoch:  60 loss:0.181169 auc:1.0000\n",
      "epoch:  80 loss:0.172116 auc:1.0000\n",
      "epoch: 100 loss:0.165573 auc:1.0000\n",
      "epoch: 120 loss:0.157480 auc:1.0000\n",
      "epoch: 140 loss:0.149854 auc:1.0000\n",
      "epoch: 160 loss:0.147421 auc:1.0000\n",
      "epoch: 180 loss:0.145743 auc:1.0000\n",
      "epoch: 200 loss:0.143627 auc:1.0000\n",
      "epoch: 220 loss:0.141910 auc:1.0000\n",
      "epoch: 240 loss:0.140940 auc:1.0000\n",
      "epoch: 260 loss:0.138305 auc:1.0000\n",
      "epoch: 280 loss:0.137823 auc:1.0000\n"
     ]
    },
    {
     "name": "stderr",
     "output_type": "stream",
     "text": [
      " 11%|█         | 102/910 [14:53<2:07:01,  9.43s/it]"
     ]
    },
    {
     "name": "stdout",
     "output_type": "stream",
     "text": [
      "epoch: 300 loss:0.135410 auc:0.9911\n",
      "Fit finished.\n",
      "epoch:   0 loss:0.610783 auc:0.5669\n",
      "epoch:  20 loss:0.262197 auc:0.9932\n",
      "epoch:  40 loss:0.189390 auc:0.9909\n",
      "epoch:  60 loss:0.172246 auc:0.9932\n",
      "epoch:  80 loss:0.162333 auc:0.9932\n",
      "epoch: 100 loss:0.152571 auc:0.9932\n",
      "epoch: 120 loss:0.148469 auc:0.9932\n",
      "epoch: 140 loss:0.146212 auc:0.9932\n",
      "epoch: 160 loss:0.144278 auc:0.9909\n"
     ]
    },
    {
     "name": "stderr",
     "output_type": "stream",
     "text": [
      " 11%|█▏        | 103/910 [15:00<1:58:45,  8.83s/it]"
     ]
    },
    {
     "name": "stdout",
     "output_type": "stream",
     "text": [
      "epoch: 180 loss:0.142192 auc:0.9887\n",
      "Fit finished.\n",
      "epoch:   0 loss:0.748386 auc:0.3392\n",
      "epoch:  20 loss:0.279386 auc:0.9184\n",
      "epoch:  40 loss:0.206943 auc:0.9136\n",
      "epoch:  60 loss:0.180469 auc:0.9120\n",
      "epoch:  80 loss:0.170762 auc:0.9024\n",
      "epoch: 100 loss:0.162211 auc:0.9024\n",
      "epoch: 120 loss:0.151873 auc:0.9024\n",
      "epoch: 140 loss:0.147721 auc:0.9008\n",
      "epoch: 160 loss:0.145505 auc:0.9024\n"
     ]
    },
    {
     "name": "stderr",
     "output_type": "stream",
     "text": [
      " 11%|█▏        | 104/910 [15:08<1:53:31,  8.45s/it]"
     ]
    },
    {
     "name": "stdout",
     "output_type": "stream",
     "text": [
      "epoch: 180 loss:0.143975 auc:0.9024\n",
      "Fit finished.\n",
      "epoch:   0 loss:0.439038 auc:0.8020\n",
      "epoch:  20 loss:0.234926 auc:0.9648\n",
      "epoch:  40 loss:0.181058 auc:0.9648\n",
      "epoch:  60 loss:0.165891 auc:0.9685\n",
      "epoch:  80 loss:0.152775 auc:0.9675\n",
      "epoch: 100 loss:0.147701 auc:0.9658\n",
      "epoch: 120 loss:0.144644 auc:0.9624\n",
      "epoch: 140 loss:0.144221 auc:0.9082\n",
      "epoch: 160 loss:0.140079 auc:0.8210\n"
     ]
    },
    {
     "name": "stderr",
     "output_type": "stream",
     "text": [
      " 12%|█▏        | 105/910 [15:15<1:49:43,  8.18s/it]"
     ]
    },
    {
     "name": "stdout",
     "output_type": "stream",
     "text": [
      "epoch: 180 loss:0.137476 auc:0.7834\n",
      "Fit finished.\n",
      "epoch:   0 loss:1.334237 auc:0.5787\n",
      "epoch:  20 loss:0.285356 auc:0.9302\n",
      "epoch:  40 loss:0.211548 auc:0.9302\n",
      "epoch:  60 loss:0.180176 auc:0.9281\n",
      "epoch:  80 loss:0.169789 auc:0.9270\n",
      "epoch: 100 loss:0.160862 auc:0.9281\n",
      "epoch: 120 loss:0.150463 auc:0.9281\n",
      "epoch: 140 loss:0.147328 auc:0.9281\n",
      "epoch: 160 loss:0.145156 auc:0.9281\n"
     ]
    },
    {
     "name": "stderr",
     "output_type": "stream",
     "text": [
      " 12%|█▏        | 106/910 [15:23<1:46:54,  7.98s/it]"
     ]
    },
    {
     "name": "stdout",
     "output_type": "stream",
     "text": [
      "epoch: 180 loss:0.143997 auc:0.9281\n",
      "Fit finished.\n",
      "epoch:   0 loss:1.106675 auc:0.5584\n",
      "epoch:  20 loss:0.292717 auc:0.9036\n",
      "epoch:  40 loss:0.232650 auc:0.8968\n",
      "epoch:  60 loss:0.187781 auc:0.8974\n",
      "epoch:  80 loss:0.173897 auc:0.9014\n",
      "epoch: 100 loss:0.164511 auc:0.9014\n",
      "epoch: 120 loss:0.154652 auc:0.9008\n",
      "epoch: 140 loss:0.148916 auc:0.9008\n",
      "epoch: 160 loss:0.146437 auc:0.9014\n"
     ]
    },
    {
     "name": "stderr",
     "output_type": "stream",
     "text": [
      " 12%|█▏        | 107/910 [15:31<1:46:59,  7.99s/it]"
     ]
    },
    {
     "name": "stdout",
     "output_type": "stream",
     "text": [
      "epoch: 180 loss:0.144717 auc:0.9002\n",
      "Fit finished.\n",
      "epoch:   0 loss:0.424691 auc:0.8164\n",
      "epoch:  20 loss:0.236983 auc:0.9834\n",
      "epoch:  40 loss:0.187976 auc:0.9805\n",
      "epoch:  60 loss:0.175182 auc:0.9795\n",
      "epoch:  80 loss:0.167740 auc:0.9795\n",
      "epoch: 100 loss:0.158739 auc:0.9795\n",
      "epoch: 120 loss:0.148864 auc:0.9795\n",
      "epoch: 140 loss:0.145539 auc:0.9795\n",
      "epoch: 160 loss:0.143201 auc:0.9785\n"
     ]
    },
    {
     "name": "stderr",
     "output_type": "stream",
     "text": [
      " 12%|█▏        | 108/910 [15:39<1:47:55,  8.07s/it]"
     ]
    },
    {
     "name": "stdout",
     "output_type": "stream",
     "text": [
      "epoch: 180 loss:0.140760 auc:0.9727\n",
      "Fit finished.\n",
      "epoch:   0 loss:0.725858 auc:0.4931\n",
      "epoch:  20 loss:0.258585 auc:0.9630\n",
      "epoch:  40 loss:0.190501 auc:0.9591\n",
      "epoch:  60 loss:0.176534 auc:0.9568\n",
      "epoch:  80 loss:0.168460 auc:0.9568\n",
      "epoch: 100 loss:0.159166 auc:0.9560\n",
      "epoch: 120 loss:0.149936 auc:0.9537\n",
      "epoch: 140 loss:0.146628 auc:0.9529\n",
      "epoch: 160 loss:0.146159 auc:0.9522\n"
     ]
    },
    {
     "name": "stderr",
     "output_type": "stream",
     "text": [
      " 12%|█▏        | 110/910 [15:48<1:24:30,  6.34s/it]"
     ]
    },
    {
     "name": "stdout",
     "output_type": "stream",
     "text": [
      "epoch: 180 loss:0.142958 auc:0.9491\n",
      "Fit finished.\n",
      "epoch:   0 loss:0.664800 auc:0.6181\n",
      "epoch:  20 loss:0.278874 auc:1.0000\n",
      "epoch:  40 loss:0.207609 auc:1.0000\n",
      "epoch:  60 loss:0.179783 auc:1.0000\n",
      "epoch:  80 loss:0.168713 auc:1.0000\n",
      "epoch: 100 loss:0.158548 auc:1.0000\n",
      "epoch: 120 loss:0.150012 auc:1.0000\n",
      "epoch: 140 loss:0.146866 auc:1.0000\n",
      "epoch: 160 loss:0.144597 auc:1.0000\n",
      "epoch: 180 loss:0.142783 auc:1.0000\n",
      "epoch: 200 loss:0.141277 auc:1.0000\n",
      "epoch: 220 loss:0.139784 auc:1.0000\n",
      "epoch: 240 loss:0.137272 auc:1.0000\n",
      "epoch: 260 loss:0.135267 auc:1.0000\n",
      "epoch: 280 loss:0.134560 auc:1.0000\n",
      "epoch: 300 loss:0.132976 auc:1.0000\n",
      "epoch: 320 loss:0.133531 auc:1.0000\n",
      "epoch: 340 loss:0.129352 auc:1.0000\n",
      "epoch: 360 loss:0.127005 auc:1.0000\n",
      "epoch: 380 loss:0.126162 auc:1.0000\n",
      "epoch: 400 loss:0.124545 auc:1.0000\n",
      "epoch: 420 loss:0.125429 auc:1.0000\n",
      "epoch: 440 loss:0.123067 auc:1.0000\n",
      "epoch: 460 loss:0.121427 auc:1.0000\n",
      "epoch: 480 loss:0.122006 auc:1.0000\n",
      "epoch: 500 loss:0.119684 auc:1.0000\n",
      "epoch: 520 loss:0.140627 auc:1.0000\n",
      "epoch: 540 loss:0.127328 auc:1.0000\n",
      "epoch: 560 loss:0.119570 auc:1.0000\n",
      "epoch: 580 loss:0.117120 auc:1.0000\n",
      "epoch: 600 loss:0.115673 auc:1.0000\n",
      "epoch: 620 loss:0.114466 auc:1.0000\n",
      "epoch: 640 loss:0.113579 auc:1.0000\n",
      "epoch: 660 loss:0.117138 auc:1.0000\n",
      "epoch: 680 loss:0.114401 auc:1.0000\n",
      "epoch: 700 loss:0.111748 auc:1.0000\n",
      "epoch: 720 loss:0.111004 auc:1.0000\n",
      "epoch: 740 loss:0.110566 auc:1.0000\n",
      "epoch: 760 loss:0.110655 auc:1.0000\n",
      "epoch: 780 loss:0.111975 auc:1.0000\n",
      "epoch: 800 loss:0.109319 auc:1.0000\n",
      "epoch: 820 loss:0.108786 auc:1.0000\n",
      "epoch: 840 loss:0.109633 auc:1.0000\n",
      "epoch: 860 loss:0.108075 auc:1.0000\n",
      "epoch: 880 loss:0.108187 auc:1.0000\n",
      "epoch: 900 loss:0.107363 auc:1.0000\n",
      "epoch: 920 loss:0.107502 auc:1.0000\n",
      "epoch: 940 loss:0.106796 auc:1.0000\n",
      "epoch: 960 loss:0.106922 auc:1.0000\n",
      "epoch: 980 loss:0.107374 auc:1.0000\n"
     ]
    },
    {
     "name": "stderr",
     "output_type": "stream",
     "text": [
      " 12%|█▏        | 111/910 [16:32<3:30:37, 15.82s/it]"
     ]
    },
    {
     "name": "stdout",
     "output_type": "stream",
     "text": [
      "Fit finished.\n",
      "epoch:   0 loss:0.559304 auc:0.3955\n",
      "epoch:  20 loss:0.252542 auc:0.9971\n",
      "epoch:  40 loss:0.188417 auc:1.0000\n",
      "epoch:  60 loss:0.172692 auc:1.0000\n",
      "epoch:  80 loss:0.164180 auc:1.0000\n",
      "epoch: 100 loss:0.154086 auc:1.0000\n",
      "epoch: 120 loss:0.148616 auc:1.0000\n",
      "epoch: 140 loss:0.145870 auc:1.0000\n",
      "epoch: 160 loss:0.145128 auc:0.9961\n"
     ]
    },
    {
     "name": "stderr",
     "output_type": "stream",
     "text": [
      " 12%|█▏        | 112/910 [16:40<3:00:54, 13.60s/it]"
     ]
    },
    {
     "name": "stdout",
     "output_type": "stream",
     "text": [
      "epoch: 180 loss:0.141902 auc:0.9941\n",
      "Fit finished.\n",
      "epoch:   0 loss:1.057926 auc:0.2720\n",
      "epoch:  20 loss:0.273489 auc:0.9616\n",
      "epoch:  40 loss:0.197312 auc:0.9680\n",
      "epoch:  60 loss:0.175772 auc:0.9776\n",
      "epoch:  80 loss:0.165169 auc:0.9760\n",
      "epoch: 100 loss:0.154775 auc:0.9760\n",
      "epoch: 120 loss:0.148765 auc:0.9760\n",
      "epoch: 140 loss:0.146236 auc:0.9760\n",
      "epoch: 160 loss:0.145199 auc:0.9760\n",
      "epoch: 180 loss:0.142682 auc:0.9744\n",
      "epoch: 200 loss:0.141215 auc:0.9760\n",
      "epoch: 220 loss:0.139541 auc:0.9776\n"
     ]
    },
    {
     "name": "stderr",
     "output_type": "stream",
     "text": [
      " 12%|█▏        | 113/910 [16:49<2:47:15, 12.59s/it]"
     ]
    },
    {
     "name": "stdout",
     "output_type": "stream",
     "text": [
      "epoch: 240 loss:0.137149 auc:0.9712\n",
      "Fit finished.\n",
      "epoch:   0 loss:0.862930 auc:0.3673\n",
      "epoch:  20 loss:0.269538 auc:0.9615\n",
      "epoch:  40 loss:0.196958 auc:0.9667\n",
      "epoch:  60 loss:0.177219 auc:0.9646\n",
      "epoch:  80 loss:0.167804 auc:0.9657\n",
      "epoch: 100 loss:0.159009 auc:0.9657\n",
      "epoch: 120 loss:0.150336 auc:0.9646\n",
      "epoch: 140 loss:0.147057 auc:0.9646\n",
      "epoch: 160 loss:0.145102 auc:0.9657\n",
      "epoch: 180 loss:0.143610 auc:0.9657\n"
     ]
    },
    {
     "name": "stderr",
     "output_type": "stream",
     "text": [
      " 13%|█▎        | 114/910 [16:59<2:35:34, 11.73s/it]"
     ]
    },
    {
     "name": "stdout",
     "output_type": "stream",
     "text": [
      "epoch: 200 loss:0.143498 auc:0.9636\n",
      "Fit finished.\n",
      "epoch:   0 loss:0.615532 auc:0.3033\n",
      "epoch:  20 loss:0.228961 auc:0.9267\n",
      "epoch:  40 loss:0.180369 auc:0.9322\n",
      "epoch:  60 loss:0.168487 auc:0.9322\n",
      "epoch:  80 loss:0.156742 auc:0.9322\n",
      "epoch: 100 loss:0.148042 auc:0.9311\n",
      "epoch: 120 loss:0.148544 auc:0.9322\n",
      "epoch: 140 loss:0.142299 auc:0.9389\n",
      "epoch: 160 loss:0.140006 auc:0.9500\n",
      "epoch: 180 loss:0.136872 auc:0.9467\n",
      "epoch: 200 loss:0.137104 auc:0.9522\n",
      "epoch: 220 loss:0.134256 auc:0.9578\n",
      "epoch: 240 loss:0.131749 auc:0.9589\n",
      "epoch: 260 loss:0.132894 auc:0.9589\n",
      "epoch: 280 loss:0.128164 auc:0.9600\n",
      "epoch: 300 loss:0.125628 auc:0.9489\n",
      "epoch: 320 loss:0.124794 auc:0.9689\n",
      "epoch: 340 loss:0.122634 auc:0.9511\n"
     ]
    },
    {
     "name": "stderr",
     "output_type": "stream",
     "text": [
      " 13%|█▎        | 115/910 [17:15<2:53:12, 13.07s/it]"
     ]
    },
    {
     "name": "stdout",
     "output_type": "stream",
     "text": [
      "epoch: 360 loss:0.122194 auc:0.9456\n",
      "Fit finished.\n",
      "epoch:   0 loss:0.909395 auc:0.4837\n",
      "epoch:  20 loss:0.278929 auc:0.9615\n",
      "epoch:  40 loss:0.195268 auc:0.9689\n",
      "epoch:  60 loss:0.175196 auc:0.9704\n",
      "epoch:  80 loss:0.163426 auc:0.9704\n",
      "epoch: 100 loss:0.151386 auc:0.9704\n",
      "epoch: 120 loss:0.147659 auc:0.9704\n",
      "epoch: 140 loss:0.146589 auc:0.9704\n",
      "epoch: 160 loss:0.143684 auc:0.9704\n",
      "epoch: 180 loss:0.147235 auc:0.9704\n",
      "epoch: 200 loss:0.141569 auc:0.9704\n"
     ]
    },
    {
     "name": "stderr",
     "output_type": "stream",
     "text": [
      " 13%|█▎        | 116/910 [17:25<2:38:56, 12.01s/it]"
     ]
    },
    {
     "name": "stdout",
     "output_type": "stream",
     "text": [
      "epoch: 220 loss:0.139069 auc:0.9675\n",
      "Fit finished.\n",
      "epoch:   0 loss:0.824133 auc:0.4400\n",
      "epoch:  20 loss:0.263727 auc:0.9289\n",
      "epoch:  40 loss:0.191882 auc:0.9289\n",
      "epoch:  60 loss:0.175634 auc:0.9378\n",
      "epoch:  80 loss:0.166098 auc:0.9511\n",
      "epoch: 100 loss:0.155777 auc:0.9556\n",
      "epoch: 120 loss:0.149487 auc:0.9556\n",
      "epoch: 140 loss:0.146938 auc:0.9556\n",
      "epoch: 160 loss:0.145040 auc:0.9556\n",
      "epoch: 180 loss:0.143262 auc:0.9556\n",
      "epoch: 200 loss:0.143434 auc:0.9556\n",
      "epoch: 220 loss:0.140109 auc:0.9556\n",
      "epoch: 240 loss:0.138127 auc:0.9644\n",
      "epoch: 260 loss:0.137339 auc:0.9689\n",
      "epoch: 280 loss:0.135383 auc:0.9689\n",
      "epoch: 300 loss:0.134408 auc:0.9689\n",
      "epoch: 320 loss:0.133986 auc:0.9689\n",
      "epoch: 340 loss:0.131983 auc:0.9689\n",
      "epoch: 360 loss:0.130586 auc:0.9689\n",
      "epoch: 380 loss:0.130929 auc:0.9689\n",
      "epoch: 400 loss:0.127921 auc:0.9689\n",
      "epoch: 420 loss:0.126898 auc:0.9689\n",
      "epoch: 440 loss:0.124571 auc:0.9689\n",
      "epoch: 460 loss:0.123681 auc:0.9689\n",
      "epoch: 480 loss:0.123150 auc:0.9689\n",
      "epoch: 500 loss:0.119995 auc:0.9689\n"
     ]
    },
    {
     "name": "stderr",
     "output_type": "stream",
     "text": [
      " 13%|█▎        | 117/910 [17:46<3:14:38, 14.73s/it]"
     ]
    },
    {
     "name": "stdout",
     "output_type": "stream",
     "text": [
      "epoch: 520 loss:0.120570 auc:0.9644\n",
      "Fit finished.\n",
      "epoch:   0 loss:0.859313 auc:0.2716\n",
      "epoch:  20 loss:0.209087 auc:0.8422\n",
      "epoch:  40 loss:0.181050 auc:0.8450\n",
      "epoch:  60 loss:0.173333 auc:0.8464\n",
      "epoch:  80 loss:0.167419 auc:0.8519\n",
      "epoch: 100 loss:0.158690 auc:0.8546\n",
      "epoch: 120 loss:0.148969 auc:0.8546\n",
      "epoch: 140 loss:0.145630 auc:0.8601\n",
      "epoch: 160 loss:0.145086 auc:0.8711\n",
      "epoch: 180 loss:0.141081 auc:0.8848\n",
      "epoch: 200 loss:0.140491 auc:0.9040\n",
      "epoch: 220 loss:0.136928 auc:0.9150\n",
      "epoch: 240 loss:0.136424 auc:0.9177\n",
      "epoch: 260 loss:0.134157 auc:0.9163\n",
      "epoch: 280 loss:0.132652 auc:0.9246\n",
      "epoch: 300 loss:0.130671 auc:0.9163\n",
      "epoch: 320 loss:0.129081 auc:0.9012\n",
      "epoch: 340 loss:0.127148 auc:0.8985\n"
     ]
    },
    {
     "name": "stderr",
     "output_type": "stream",
     "text": [
      " 13%|█▎        | 118/910 [18:01<3:14:01, 14.70s/it]"
     ]
    },
    {
     "name": "stdout",
     "output_type": "stream",
     "text": [
      "epoch: 360 loss:0.127227 auc:0.8999\n",
      "Fit finished.\n",
      "epoch:   0 loss:0.820588 auc:0.4225\n",
      "epoch:  20 loss:0.276814 auc:0.9822\n",
      "epoch:  40 loss:0.205312 auc:0.9877\n",
      "epoch:  60 loss:0.179774 auc:0.9849\n",
      "epoch:  80 loss:0.170171 auc:0.9877\n",
      "epoch: 100 loss:0.162459 auc:0.9877\n",
      "epoch: 120 loss:0.152605 auc:0.9877\n",
      "epoch: 140 loss:0.148023 auc:0.9877\n",
      "epoch: 160 loss:0.145614 auc:0.9877\n",
      "epoch: 180 loss:0.143512 auc:0.9877\n",
      "epoch: 200 loss:0.142241 auc:0.9877\n",
      "epoch: 220 loss:0.140391 auc:0.9918\n",
      "epoch: 240 loss:0.140320 auc:0.9904\n",
      "epoch: 260 loss:0.136406 auc:0.9904\n"
     ]
    },
    {
     "name": "stderr",
     "output_type": "stream",
     "text": [
      " 13%|█▎        | 119/910 [18:12<2:59:00, 13.58s/it]"
     ]
    },
    {
     "name": "stdout",
     "output_type": "stream",
     "text": [
      "epoch: 280 loss:0.136063 auc:0.9753\n",
      "Fit finished.\n",
      "epoch:   0 loss:1.214675 auc:0.5102\n",
      "epoch:  20 loss:0.286067 auc:0.9133\n",
      "epoch:  40 loss:0.218557 auc:0.9375\n",
      "epoch:  60 loss:0.183067 auc:0.9426\n",
      "epoch:  80 loss:0.170773 auc:0.9464\n",
      "epoch: 100 loss:0.161994 auc:0.9452\n",
      "epoch: 120 loss:0.152141 auc:0.9452\n",
      "epoch: 140 loss:0.148034 auc:0.9439\n",
      "epoch: 160 loss:0.145932 auc:0.9413\n",
      "epoch: 180 loss:0.144321 auc:0.9401\n",
      "epoch: 200 loss:0.143233 auc:0.9401\n"
     ]
    },
    {
     "name": "stderr",
     "output_type": "stream",
     "text": [
      " 13%|█▎        | 120/910 [18:19<2:36:09, 11.86s/it]"
     ]
    },
    {
     "name": "stdout",
     "output_type": "stream",
     "text": [
      "epoch: 220 loss:0.141608 auc:0.9375\n",
      "Fit finished.\n",
      "epoch:   0 loss:0.668789 auc:0.1667\n",
      "epoch:  20 loss:0.252830 auc:0.9600\n",
      "epoch:  40 loss:0.187529 auc:0.9622\n",
      "epoch:  60 loss:0.173500 auc:0.9600\n",
      "epoch:  80 loss:0.165148 auc:0.9589\n",
      "epoch: 100 loss:0.154931 auc:0.9600\n",
      "epoch: 120 loss:0.148414 auc:0.9589\n",
      "epoch: 140 loss:0.145789 auc:0.9589\n",
      "epoch: 160 loss:0.143692 auc:0.9600\n"
     ]
    },
    {
     "name": "stderr",
     "output_type": "stream",
     "text": [
      " 13%|█▎        | 121/910 [18:26<2:16:07, 10.35s/it]"
     ]
    },
    {
     "name": "stdout",
     "output_type": "stream",
     "text": [
      "epoch: 180 loss:0.142729 auc:0.9589\n",
      "Fit finished.\n",
      "epoch:   0 loss:0.699093 auc:0.4193\n",
      "epoch:  20 loss:0.270054 auc:0.9766\n",
      "epoch:  40 loss:0.199496 auc:0.9817\n",
      "epoch:  60 loss:0.174178 auc:0.9839\n",
      "epoch:  80 loss:0.161619 auc:0.9854\n",
      "epoch: 100 loss:0.151529 auc:0.9847\n",
      "epoch: 120 loss:0.147983 auc:0.9847\n",
      "epoch: 140 loss:0.145637 auc:0.9847\n",
      "epoch: 160 loss:0.143670 auc:0.9854\n",
      "epoch: 180 loss:0.142231 auc:0.9817\n"
     ]
    },
    {
     "name": "stderr",
     "output_type": "stream",
     "text": [
      " 13%|█▎        | 122/910 [18:34<2:06:52,  9.66s/it]"
     ]
    },
    {
     "name": "stdout",
     "output_type": "stream",
     "text": [
      "epoch: 200 loss:0.139933 auc:0.9693\n",
      "Fit finished.\n",
      "epoch:   0 loss:1.007014 auc:0.4636\n",
      "epoch:  20 loss:0.291494 auc:0.9575\n",
      "epoch:  40 loss:0.224159 auc:0.9616\n",
      "epoch:  60 loss:0.184727 auc:0.9643\n",
      "epoch:  80 loss:0.170998 auc:0.9630\n",
      "epoch: 100 loss:0.161555 auc:0.9643\n",
      "epoch: 120 loss:0.151805 auc:0.9643\n",
      "epoch: 140 loss:0.147779 auc:0.9630\n",
      "epoch: 160 loss:0.146180 auc:0.9630\n",
      "epoch: 180 loss:0.143834 auc:0.9616\n"
     ]
    },
    {
     "name": "stderr",
     "output_type": "stream",
     "text": [
      " 14%|█▎        | 123/910 [18:42<1:58:38,  9.05s/it]"
     ]
    },
    {
     "name": "stdout",
     "output_type": "stream",
     "text": [
      "epoch: 200 loss:0.144303 auc:0.9575\n",
      "Fit finished.\n",
      "epoch:   0 loss:0.711145 auc:0.4159\n",
      "epoch:  20 loss:0.279706 auc:0.9376\n",
      "epoch:  40 loss:0.205783 auc:0.9452\n",
      "epoch:  60 loss:0.180010 auc:0.9490\n",
      "epoch:  80 loss:0.169518 auc:0.9603\n",
      "epoch: 100 loss:0.161232 auc:0.9603\n",
      "epoch: 120 loss:0.151991 auc:0.9603\n",
      "epoch: 140 loss:0.148417 auc:0.9584\n",
      "epoch: 160 loss:0.146236 auc:0.9584\n",
      "epoch: 180 loss:0.144485 auc:0.9584\n",
      "epoch: 200 loss:0.142770 auc:0.9584\n",
      "epoch: 220 loss:0.143173 auc:0.9546\n"
     ]
    },
    {
     "name": "stderr",
     "output_type": "stream",
     "text": [
      " 14%|█▎        | 124/910 [18:51<1:57:11,  8.95s/it]"
     ]
    },
    {
     "name": "stdout",
     "output_type": "stream",
     "text": [
      "epoch: 240 loss:0.139975 auc:0.9452\n",
      "Fit finished.\n",
      "epoch:   0 loss:0.596582 auc:0.0694\n",
      "epoch:  20 loss:0.255553 auc:0.9722\n",
      "epoch:  40 loss:0.186594 auc:0.9722\n",
      "epoch:  60 loss:0.168893 auc:0.9722\n",
      "epoch:  80 loss:0.156226 auc:0.9722\n",
      "epoch: 100 loss:0.149317 auc:0.9722\n",
      "epoch: 120 loss:0.146397 auc:0.9722\n",
      "epoch: 140 loss:0.143870 auc:0.9722\n",
      "epoch: 160 loss:0.142776 auc:0.9722\n",
      "epoch: 180 loss:0.140477 auc:0.9722\n",
      "epoch: 200 loss:0.137633 auc:0.9792\n",
      "epoch: 220 loss:0.136522 auc:0.9792\n",
      "epoch: 240 loss:0.136801 auc:0.9792\n",
      "epoch: 260 loss:0.131745 auc:0.9792\n",
      "epoch: 280 loss:0.129957 auc:0.9792\n",
      "epoch: 300 loss:0.129403 auc:0.9792\n",
      "epoch: 320 loss:0.127257 auc:0.9792\n",
      "epoch: 340 loss:0.125257 auc:0.9861\n",
      "epoch: 360 loss:0.124460 auc:0.9861\n",
      "epoch: 380 loss:0.124224 auc:0.9861\n",
      "epoch: 400 loss:0.127788 auc:0.9792\n",
      "epoch: 420 loss:0.126235 auc:1.0000\n",
      "epoch: 440 loss:0.118099 auc:0.9861\n",
      "epoch: 460 loss:0.116469 auc:0.9861\n",
      "epoch: 480 loss:0.115089 auc:0.9861\n",
      "epoch: 500 loss:0.113930 auc:0.9861\n",
      "epoch: 520 loss:0.112924 auc:0.9861\n",
      "epoch: 540 loss:0.112366 auc:0.9861\n",
      "epoch: 560 loss:0.111883 auc:0.9861\n"
     ]
    },
    {
     "name": "stderr",
     "output_type": "stream",
     "text": [
      " 14%|█▎        | 125/910 [19:12<2:44:31, 12.57s/it]"
     ]
    },
    {
     "name": "stdout",
     "output_type": "stream",
     "text": [
      "epoch: 580 loss:0.130927 auc:0.9722\n",
      "Fit finished.\n",
      "epoch:   0 loss:1.044747 auc:0.3299\n",
      "epoch:  20 loss:0.283036 auc:0.8491\n",
      "epoch:  40 loss:0.219370 auc:0.8699\n",
      "epoch:  60 loss:0.183463 auc:0.8637\n",
      "epoch:  80 loss:0.171077 auc:0.8626\n",
      "epoch: 100 loss:0.162289 auc:0.8626\n",
      "epoch: 120 loss:0.153334 auc:0.8626\n",
      "epoch: 140 loss:0.148901 auc:0.8606\n",
      "epoch: 160 loss:0.146690 auc:0.8595\n",
      "epoch: 180 loss:0.145058 auc:0.8585\n"
     ]
    },
    {
     "name": "stderr",
     "output_type": "stream",
     "text": [
      " 14%|█▍        | 127/910 [19:18<1:47:26,  8.23s/it]"
     ]
    },
    {
     "name": "stdout",
     "output_type": "stream",
     "text": [
      "epoch: 200 loss:0.143605 auc:0.8595\n",
      "Fit finished.\n",
      "epoch:   0 loss:0.842199 auc:0.4512\n",
      "epoch:  20 loss:0.283700 auc:0.8685\n",
      "epoch:  40 loss:0.210481 auc:0.8912\n",
      "epoch:  60 loss:0.179634 auc:0.9161\n",
      "epoch:  80 loss:0.167280 auc:0.9206\n",
      "epoch: 100 loss:0.156280 auc:0.9206\n",
      "epoch: 120 loss:0.149175 auc:0.9206\n",
      "epoch: 140 loss:0.146436 auc:0.9206\n",
      "epoch: 160 loss:0.144536 auc:0.9206\n",
      "epoch: 180 loss:0.143772 auc:0.9229\n",
      "epoch: 200 loss:0.142113 auc:0.9184\n",
      "epoch: 220 loss:0.140209 auc:0.9229\n",
      "epoch: 240 loss:0.139487 auc:0.9274\n",
      "epoch: 260 loss:0.136867 auc:0.9342\n",
      "epoch: 280 loss:0.135108 auc:0.9410\n",
      "epoch: 300 loss:0.133688 auc:0.9433\n",
      "epoch: 320 loss:0.132816 auc:0.9410\n",
      "epoch: 340 loss:0.131856 auc:0.9365\n",
      "epoch: 360 loss:0.130522 auc:0.9342\n",
      "epoch: 380 loss:0.129341 auc:0.9410\n",
      "epoch: 400 loss:0.127538 auc:0.9365\n",
      "epoch: 420 loss:0.126497 auc:0.9388\n"
     ]
    },
    {
     "name": "stderr",
     "output_type": "stream",
     "text": [
      " 14%|█▍        | 128/910 [19:33<2:10:12,  9.99s/it]"
     ]
    },
    {
     "name": "stdout",
     "output_type": "stream",
     "text": [
      "epoch: 440 loss:0.125634 auc:0.9342\n",
      "Fit finished.\n",
      "epoch:   0 loss:0.754446 auc:0.0643\n",
      "epoch:  20 loss:0.211556 auc:0.9697\n",
      "epoch:  40 loss:0.178278 auc:0.9706\n",
      "epoch:  60 loss:0.168313 auc:0.9725\n",
      "epoch:  80 loss:0.157382 auc:0.9734\n",
      "epoch: 100 loss:0.149094 auc:0.9734\n",
      "epoch: 120 loss:0.146005 auc:0.9715\n",
      "epoch: 140 loss:0.143778 auc:0.9715\n",
      "epoch: 160 loss:0.142752 auc:0.9614\n"
     ]
    },
    {
     "name": "stderr",
     "output_type": "stream",
     "text": [
      " 14%|█▍        | 129/910 [19:40<1:59:16,  9.16s/it]"
     ]
    },
    {
     "name": "stdout",
     "output_type": "stream",
     "text": [
      "epoch: 180 loss:0.140094 auc:0.9513\n",
      "Fit finished.\n",
      "epoch:   0 loss:0.866486 auc:0.1262\n",
      "epoch:  20 loss:0.230151 auc:0.9283\n",
      "epoch:  40 loss:0.181602 auc:0.9395\n",
      "epoch:  60 loss:0.168577 auc:0.9435\n",
      "epoch:  80 loss:0.155682 auc:0.9408\n",
      "epoch: 100 loss:0.148202 auc:0.9402\n",
      "epoch: 120 loss:0.145286 auc:0.9336\n",
      "epoch: 140 loss:0.142962 auc:0.9224\n",
      "epoch: 160 loss:0.143816 auc:0.8935\n"
     ]
    },
    {
     "name": "stderr",
     "output_type": "stream",
     "text": [
      " 14%|█▍        | 130/910 [19:47<1:50:44,  8.52s/it]"
     ]
    },
    {
     "name": "stdout",
     "output_type": "stream",
     "text": [
      "epoch: 180 loss:0.137991 auc:0.7640\n",
      "Fit finished.\n",
      "epoch:   0 loss:1.026050 auc:0.4162\n",
      "epoch:  20 loss:0.288251 auc:0.9917\n",
      "epoch:  40 loss:0.225705 auc:0.9917\n",
      "epoch:  60 loss:0.181657 auc:0.9938\n",
      "epoch:  80 loss:0.166817 auc:0.9938\n",
      "epoch: 100 loss:0.154570 auc:0.9958\n",
      "epoch: 120 loss:0.149017 auc:0.9969\n",
      "epoch: 140 loss:0.146400 auc:0.9979\n",
      "epoch: 160 loss:0.144745 auc:0.9958\n",
      "epoch: 180 loss:0.143372 auc:0.9958\n",
      "epoch: 200 loss:0.142419 auc:0.9958\n",
      "epoch: 220 loss:0.141790 auc:0.9938\n"
     ]
    },
    {
     "name": "stderr",
     "output_type": "stream",
     "text": [
      " 14%|█▍        | 131/910 [19:56<1:50:47,  8.53s/it]"
     ]
    },
    {
     "name": "stdout",
     "output_type": "stream",
     "text": [
      "epoch: 240 loss:0.140120 auc:0.9917\n",
      "Fit finished.\n",
      "epoch:   0 loss:1.059322 auc:0.3175\n",
      "epoch:  20 loss:0.293267 auc:0.9270\n",
      "epoch:  40 loss:0.228015 auc:0.9254\n",
      "epoch:  60 loss:0.188183 auc:0.9232\n",
      "epoch:  80 loss:0.175285 auc:0.9340\n",
      "epoch: 100 loss:0.168777 auc:0.9378\n",
      "epoch: 120 loss:0.161323 auc:0.9356\n",
      "epoch: 140 loss:0.152348 auc:0.9340\n",
      "epoch: 160 loss:0.148100 auc:0.9302\n",
      "epoch: 180 loss:0.145954 auc:0.9281\n",
      "epoch: 200 loss:0.144396 auc:0.9264\n",
      "epoch: 220 loss:0.143347 auc:0.9248\n"
     ]
    },
    {
     "name": "stderr",
     "output_type": "stream",
     "text": [
      " 15%|█▍        | 132/910 [20:05<1:54:20,  8.82s/it]"
     ]
    },
    {
     "name": "stdout",
     "output_type": "stream",
     "text": [
      "epoch: 240 loss:0.141804 auc:0.9162\n",
      "Fit finished.\n",
      "epoch:   0 loss:0.916313 auc:0.3723\n",
      "epoch:  20 loss:0.284522 auc:0.9526\n",
      "epoch:  40 loss:0.207195 auc:0.9581\n",
      "epoch:  60 loss:0.180107 auc:0.9598\n",
      "epoch:  80 loss:0.169666 auc:0.9612\n",
      "epoch: 100 loss:0.161502 auc:0.9629\n",
      "epoch: 120 loss:0.152495 auc:0.9629\n",
      "epoch: 140 loss:0.147960 auc:0.9629\n",
      "epoch: 160 loss:0.145857 auc:0.9624\n",
      "epoch: 180 loss:0.144089 auc:0.9563\n"
     ]
    },
    {
     "name": "stderr",
     "output_type": "stream",
     "text": [
      " 15%|█▍        | 133/910 [20:13<1:49:13,  8.43s/it]"
     ]
    },
    {
     "name": "stdout",
     "output_type": "stream",
     "text": [
      "epoch: 200 loss:0.142274 auc:0.9394\n",
      "Fit finished.\n",
      "epoch:   0 loss:0.670970 auc:0.4878\n",
      "epoch:  20 loss:0.241656 auc:0.9757\n",
      "epoch:  40 loss:0.183506 auc:0.9774\n",
      "epoch:  60 loss:0.173322 auc:0.9774\n",
      "epoch:  80 loss:0.165883 auc:0.9740\n",
      "epoch: 100 loss:0.155207 auc:0.9740\n",
      "epoch: 120 loss:0.147986 auc:0.9740\n",
      "epoch: 140 loss:0.145124 auc:0.9740\n",
      "epoch: 160 loss:0.143243 auc:0.9740\n",
      "epoch: 180 loss:0.141025 auc:0.9757\n"
     ]
    },
    {
     "name": "stderr",
     "output_type": "stream",
     "text": [
      " 15%|█▍        | 134/910 [20:20<1:45:02,  8.12s/it]"
     ]
    },
    {
     "name": "stdout",
     "output_type": "stream",
     "text": [
      "epoch: 200 loss:0.138756 auc:0.9740\n",
      "Fit finished.\n",
      "epoch:   0 loss:0.523854 auc:0.4665\n",
      "epoch:  20 loss:0.243770 auc:0.9982\n",
      "epoch:  40 loss:0.184521 auc:0.9972\n",
      "epoch:  60 loss:0.169597 auc:0.9963\n",
      "epoch:  80 loss:0.157577 auc:0.9963\n",
      "epoch: 100 loss:0.148790 auc:0.9963\n",
      "epoch: 120 loss:0.145579 auc:0.9963\n",
      "epoch: 140 loss:0.143603 auc:0.9963\n",
      "epoch: 160 loss:0.141380 auc:0.9936\n"
     ]
    },
    {
     "name": "stderr",
     "output_type": "stream",
     "text": [
      " 15%|█▍        | 135/910 [20:26<1:37:43,  7.57s/it]"
     ]
    },
    {
     "name": "stdout",
     "output_type": "stream",
     "text": [
      "epoch: 180 loss:0.138887 auc:0.9844\n",
      "Fit finished.\n",
      "epoch:   0 loss:0.920226 auc:0.8101\n",
      "epoch:  20 loss:0.260622 auc:0.9584\n",
      "epoch:  40 loss:0.197197 auc:0.9540\n",
      "epoch:  60 loss:0.177114 auc:0.9474\n",
      "epoch:  80 loss:0.167635 auc:0.9423\n",
      "epoch: 100 loss:0.158380 auc:0.9430\n",
      "epoch: 120 loss:0.149779 auc:0.9430\n",
      "epoch: 140 loss:0.146826 auc:0.9416\n",
      "epoch: 160 loss:0.144839 auc:0.9445\n"
     ]
    },
    {
     "name": "stderr",
     "output_type": "stream",
     "text": [
      " 15%|█▍        | 136/910 [20:33<1:35:57,  7.44s/it]"
     ]
    },
    {
     "name": "stdout",
     "output_type": "stream",
     "text": [
      "epoch: 180 loss:0.143279 auc:0.9496\n",
      "Fit finished.\n",
      "epoch:   0 loss:0.869762 auc:0.4784\n",
      "epoch:  20 loss:0.269739 auc:0.9807\n",
      "epoch:  40 loss:0.196720 auc:0.9908\n",
      "epoch:  60 loss:0.173618 auc:0.9899\n",
      "epoch:  80 loss:0.162136 auc:0.9908\n",
      "epoch: 100 loss:0.151674 auc:0.9908\n",
      "epoch: 120 loss:0.147807 auc:0.9899\n",
      "epoch: 140 loss:0.145529 auc:0.9908\n",
      "epoch: 160 loss:0.143505 auc:0.9927\n",
      "epoch: 180 loss:0.144613 auc:0.9954\n",
      "epoch: 200 loss:0.140060 auc:0.9945\n",
      "epoch: 220 loss:0.138128 auc:0.9936\n",
      "epoch: 240 loss:0.136752 auc:0.9936\n",
      "epoch: 260 loss:0.138060 auc:0.9945\n",
      "epoch: 280 loss:0.134679 auc:0.9954\n",
      "epoch: 300 loss:0.134075 auc:0.9954\n",
      "epoch: 320 loss:0.134198 auc:0.9954\n",
      "epoch: 340 loss:0.134173 auc:0.9954\n",
      "epoch: 360 loss:0.130527 auc:0.9963\n",
      "epoch: 380 loss:0.127143 auc:0.9954\n",
      "epoch: 400 loss:0.125479 auc:0.9945\n"
     ]
    },
    {
     "name": "stderr",
     "output_type": "stream",
     "text": [
      " 15%|█▌        | 137/910 [20:47<2:01:08,  9.40s/it]"
     ]
    },
    {
     "name": "stdout",
     "output_type": "stream",
     "text": [
      "epoch: 420 loss:0.125338 auc:0.9927\n",
      "Fit finished.\n",
      "epoch:   0 loss:1.036184 auc:0.7769\n",
      "epoch:  20 loss:0.287399 auc:0.9376\n",
      "epoch:  40 loss:0.219698 auc:0.9376\n",
      "epoch:  60 loss:0.178878 auc:0.9395\n",
      "epoch:  80 loss:0.165505 auc:0.9395\n",
      "epoch: 100 loss:0.154568 auc:0.9395\n",
      "epoch: 120 loss:0.149100 auc:0.9395\n",
      "epoch: 140 loss:0.146698 auc:0.9376\n",
      "epoch: 160 loss:0.144911 auc:0.9376\n",
      "epoch: 180 loss:0.143436 auc:0.9414\n",
      "epoch: 200 loss:0.142287 auc:0.9414\n"
     ]
    },
    {
     "name": "stderr",
     "output_type": "stream",
     "text": [
      " 15%|█▌        | 138/910 [20:55<1:55:25,  8.97s/it]"
     ]
    },
    {
     "name": "stdout",
     "output_type": "stream",
     "text": [
      "epoch: 220 loss:0.140718 auc:0.9301\n",
      "Fit finished.\n",
      "epoch:   0 loss:0.663413 auc:0.3996\n",
      "epoch:  20 loss:0.274700 auc:0.9709\n",
      "epoch:  40 loss:0.202145 auc:0.9677\n",
      "epoch:  60 loss:0.178561 auc:0.9667\n",
      "epoch:  80 loss:0.168796 auc:0.9636\n",
      "epoch: 100 loss:0.160329 auc:0.9646\n",
      "epoch: 120 loss:0.151188 auc:0.9657\n",
      "epoch: 140 loss:0.147679 auc:0.9646\n",
      "epoch: 160 loss:0.145467 auc:0.9646\n"
     ]
    },
    {
     "name": "stderr",
     "output_type": "stream",
     "text": [
      " 15%|█▌        | 139/910 [21:02<1:44:39,  8.14s/it]"
     ]
    },
    {
     "name": "stdout",
     "output_type": "stream",
     "text": [
      "epoch: 180 loss:0.143947 auc:0.9667\n",
      "Fit finished.\n",
      "epoch:   0 loss:0.526324 auc:0.7292\n",
      "epoch:  20 loss:0.256260 auc:0.9757\n",
      "epoch:  40 loss:0.189493 auc:0.9757\n",
      "epoch:  60 loss:0.176128 auc:0.9774\n",
      "epoch:  80 loss:0.170357 auc:0.9809\n",
      "epoch: 100 loss:0.163483 auc:0.9774\n",
      "epoch: 120 loss:0.153206 auc:0.9774\n",
      "epoch: 140 loss:0.147610 auc:0.9774\n",
      "epoch: 160 loss:0.144913 auc:0.9774\n",
      "epoch: 180 loss:0.145213 auc:0.9792\n",
      "epoch: 200 loss:0.141772 auc:0.9792\n",
      "epoch: 220 loss:0.139303 auc:0.9792\n"
     ]
    },
    {
     "name": "stderr",
     "output_type": "stream",
     "text": [
      " 15%|█▌        | 140/910 [21:10<1:47:15,  8.36s/it]"
     ]
    },
    {
     "name": "stdout",
     "output_type": "stream",
     "text": [
      "epoch: 240 loss:0.138320 auc:0.9740\n",
      "Fit finished.\n",
      "epoch:   0 loss:0.844093 auc:0.8724\n",
      "epoch:  20 loss:0.273064 auc:1.0000\n",
      "epoch:  40 loss:0.205169 auc:1.0000\n",
      "epoch:  60 loss:0.178916 auc:1.0000\n",
      "epoch:  80 loss:0.168205 auc:1.0000\n",
      "epoch: 100 loss:0.158528 auc:1.0000\n",
      "epoch: 120 loss:0.149883 auc:1.0000\n",
      "epoch: 140 loss:0.146818 auc:1.0000\n",
      "epoch: 160 loss:0.144699 auc:1.0000\n",
      "epoch: 180 loss:0.143632 auc:1.0000\n",
      "epoch: 200 loss:0.141632 auc:1.0000\n",
      "epoch: 220 loss:0.147357 auc:1.0000\n",
      "epoch: 240 loss:0.140082 auc:1.0000\n",
      "epoch: 260 loss:0.138139 auc:1.0000\n",
      "epoch: 280 loss:0.136467 auc:1.0000\n",
      "epoch: 300 loss:0.135002 auc:1.0000\n",
      "epoch: 320 loss:0.133641 auc:1.0000\n",
      "epoch: 340 loss:0.133336 auc:1.0000\n",
      "epoch: 360 loss:0.131334 auc:1.0000\n",
      "epoch: 380 loss:0.130509 auc:1.0000\n",
      "epoch: 400 loss:0.128853 auc:1.0000\n",
      "epoch: 420 loss:0.127521 auc:1.0000\n",
      "epoch: 440 loss:0.130142 auc:1.0000\n",
      "epoch: 460 loss:0.126079 auc:1.0000\n",
      "epoch: 480 loss:0.124970 auc:1.0000\n",
      "epoch: 500 loss:0.123882 auc:1.0000\n",
      "epoch: 520 loss:0.125486 auc:1.0000\n",
      "epoch: 540 loss:0.122103 auc:1.0000\n",
      "epoch: 560 loss:0.124878 auc:1.0000\n",
      "epoch: 580 loss:0.129921 auc:1.0000\n",
      "epoch: 600 loss:0.121942 auc:1.0000\n",
      "epoch: 620 loss:0.120012 auc:1.0000\n",
      "epoch: 640 loss:0.118785 auc:1.0000\n",
      "epoch: 660 loss:0.117655 auc:1.0000\n",
      "epoch: 680 loss:0.117083 auc:1.0000\n",
      "epoch: 700 loss:0.116798 auc:1.0000\n",
      "epoch: 720 loss:0.116440 auc:1.0000\n",
      "epoch: 740 loss:0.115532 auc:1.0000\n",
      "epoch: 760 loss:0.113368 auc:1.0000\n",
      "epoch: 780 loss:0.114702 auc:1.0000\n",
      "epoch: 800 loss:0.112315 auc:1.0000\n",
      "epoch: 820 loss:0.111739 auc:1.0000\n",
      "epoch: 840 loss:0.111128 auc:1.0000\n",
      "epoch: 860 loss:0.111956 auc:1.0000\n",
      "epoch: 880 loss:0.110678 auc:1.0000\n",
      "epoch: 900 loss:0.109570 auc:1.0000\n",
      "epoch: 920 loss:0.108983 auc:1.0000\n",
      "epoch: 940 loss:0.108753 auc:1.0000\n",
      "epoch: 960 loss:0.108781 auc:1.0000\n",
      "epoch: 980 loss:0.109370 auc:1.0000\n"
     ]
    },
    {
     "name": "stderr",
     "output_type": "stream",
     "text": [
      " 15%|█▌        | 141/910 [21:47<3:35:29, 16.81s/it]"
     ]
    },
    {
     "name": "stdout",
     "output_type": "stream",
     "text": [
      "Fit finished.\n",
      "epoch:   0 loss:0.761235 auc:0.2721\n",
      "epoch:  20 loss:0.268625 auc:0.9841\n",
      "epoch:  40 loss:0.198565 auc:0.9932\n",
      "epoch:  60 loss:0.177514 auc:0.9932\n",
      "epoch:  80 loss:0.167285 auc:0.9932\n",
      "epoch: 100 loss:0.157050 auc:0.9932\n",
      "epoch: 120 loss:0.149640 auc:0.9932\n",
      "epoch: 140 loss:0.146729 auc:0.9932\n",
      "epoch: 160 loss:0.144574 auc:0.9932\n",
      "epoch: 180 loss:0.143585 auc:0.9932\n",
      "epoch: 200 loss:0.140950 auc:0.9932\n"
     ]
    },
    {
     "name": "stderr",
     "output_type": "stream",
     "text": [
      " 16%|█▌        | 142/910 [21:56<3:04:13, 14.39s/it]"
     ]
    },
    {
     "name": "stdout",
     "output_type": "stream",
     "text": [
      "epoch: 220 loss:0.138796 auc:0.9841\n",
      "Fit finished.\n",
      "epoch:   0 loss:0.713266 auc:0.3368\n",
      "epoch:  20 loss:0.263200 auc:0.9931\n",
      "epoch:  40 loss:0.193061 auc:0.9931\n",
      "epoch:  60 loss:0.177434 auc:0.9948\n",
      "epoch:  80 loss:0.168600 auc:0.9948\n",
      "epoch: 100 loss:0.159455 auc:0.9948\n",
      "epoch: 120 loss:0.149634 auc:0.9948\n",
      "epoch: 140 loss:0.146973 auc:0.9948\n",
      "epoch: 160 loss:0.144387 auc:0.9948\n",
      "epoch: 180 loss:0.142974 auc:0.9948\n"
     ]
    },
    {
     "name": "stderr",
     "output_type": "stream",
     "text": [
      " 16%|█▌        | 143/910 [22:03<2:36:50, 12.27s/it]"
     ]
    },
    {
     "name": "stdout",
     "output_type": "stream",
     "text": [
      "epoch: 200 loss:0.142401 auc:0.9913\n",
      "Fit finished.\n",
      "epoch:   0 loss:0.647496 auc:0.2003\n",
      "epoch:  20 loss:0.245616 auc:0.9726\n",
      "epoch:  40 loss:0.183870 auc:0.9726\n",
      "epoch:  60 loss:0.172288 auc:0.9733\n",
      "epoch:  80 loss:0.164888 auc:0.9729\n",
      "epoch: 100 loss:0.154761 auc:0.9739\n",
      "epoch: 120 loss:0.148092 auc:0.9750\n",
      "epoch: 140 loss:0.144761 auc:0.9739\n",
      "epoch: 160 loss:0.142149 auc:0.9650\n"
     ]
    },
    {
     "name": "stderr",
     "output_type": "stream",
     "text": [
      " 16%|█▌        | 144/910 [22:10<2:15:13, 10.59s/it]"
     ]
    },
    {
     "name": "stdout",
     "output_type": "stream",
     "text": [
      "epoch: 180 loss:0.139360 auc:0.9417\n",
      "Fit finished.\n",
      "epoch:   0 loss:0.882497 auc:0.2291\n",
      "epoch:  20 loss:0.293011 auc:0.9712\n",
      "epoch:  40 loss:0.226007 auc:0.9767\n",
      "epoch:  60 loss:0.184137 auc:0.9781\n",
      "epoch:  80 loss:0.169439 auc:0.9794\n",
      "epoch: 100 loss:0.159236 auc:0.9808\n",
      "epoch: 120 loss:0.150164 auc:0.9835\n",
      "epoch: 140 loss:0.146889 auc:0.9877\n",
      "epoch: 160 loss:0.145228 auc:0.9877\n",
      "epoch: 180 loss:0.143418 auc:0.9863\n",
      "epoch: 200 loss:0.143175 auc:0.9849\n",
      "epoch: 220 loss:0.140489 auc:0.9794\n",
      "epoch: 240 loss:0.138899 auc:0.9794\n"
     ]
    },
    {
     "name": "stderr",
     "output_type": "stream",
     "text": [
      " 16%|█▌        | 145/910 [22:19<2:09:02, 10.12s/it]"
     ]
    },
    {
     "name": "stdout",
     "output_type": "stream",
     "text": [
      "epoch: 260 loss:0.137554 auc:0.9657\n",
      "Fit finished.\n",
      "epoch:   0 loss:0.820409 auc:0.3333\n",
      "epoch:  20 loss:0.267030 auc:0.9955\n",
      "epoch:  40 loss:0.189272 auc:0.9955\n",
      "epoch:  60 loss:0.174864 auc:0.9955\n",
      "epoch:  80 loss:0.166257 auc:0.9955\n",
      "epoch: 100 loss:0.155751 auc:0.9955\n",
      "epoch: 120 loss:0.149259 auc:0.9955\n",
      "epoch: 140 loss:0.146554 auc:0.9955\n",
      "epoch: 160 loss:0.144574 auc:0.9955\n",
      "epoch: 180 loss:0.142762 auc:0.9955\n",
      "epoch: 200 loss:0.140823 auc:0.9955\n"
     ]
    },
    {
     "name": "stderr",
     "output_type": "stream",
     "text": [
      " 16%|█▌        | 146/910 [22:27<2:01:14,  9.52s/it]"
     ]
    },
    {
     "name": "stdout",
     "output_type": "stream",
     "text": [
      "epoch: 220 loss:0.138967 auc:0.9932\n",
      "Fit finished.\n",
      "epoch:   0 loss:0.667115 auc:0.3210\n",
      "epoch:  20 loss:0.242806 auc:0.9973\n",
      "epoch:  40 loss:0.184779 auc:1.0000\n",
      "epoch:  60 loss:0.173883 auc:1.0000\n",
      "epoch:  80 loss:0.166879 auc:1.0000\n",
      "epoch: 100 loss:0.156143 auc:1.0000\n",
      "epoch: 120 loss:0.148164 auc:1.0000\n",
      "epoch: 140 loss:0.145050 auc:1.0000\n",
      "epoch: 160 loss:0.143207 auc:1.0000\n",
      "epoch: 180 loss:0.139895 auc:1.0000\n"
     ]
    },
    {
     "name": "stderr",
     "output_type": "stream",
     "text": [
      " 16%|█▌        | 147/910 [22:35<1:55:51,  9.11s/it]"
     ]
    },
    {
     "name": "stdout",
     "output_type": "stream",
     "text": [
      "epoch: 200 loss:0.138757 auc:0.9945\n",
      "Fit finished.\n",
      "epoch:   0 loss:0.824628 auc:0.4464\n",
      "epoch:  20 loss:0.271944 auc:1.0000\n",
      "epoch:  40 loss:0.199151 auc:1.0000\n",
      "epoch:  60 loss:0.178263 auc:1.0000\n",
      "epoch:  80 loss:0.168429 auc:1.0000\n",
      "epoch: 100 loss:0.158956 auc:1.0000\n",
      "epoch: 120 loss:0.150280 auc:1.0000\n",
      "epoch: 140 loss:0.147047 auc:1.0000\n",
      "epoch: 160 loss:0.145047 auc:1.0000\n",
      "epoch: 180 loss:0.143379 auc:1.0000\n",
      "epoch: 200 loss:0.142534 auc:1.0000\n",
      "epoch: 220 loss:0.140175 auc:1.0000\n",
      "epoch: 240 loss:0.139181 auc:1.0000\n",
      "epoch: 260 loss:0.137463 auc:1.0000\n",
      "epoch: 280 loss:0.136004 auc:1.0000\n",
      "epoch: 300 loss:0.135099 auc:1.0000\n",
      "epoch: 320 loss:0.134224 auc:1.0000\n",
      "epoch: 340 loss:0.133358 auc:1.0000\n",
      "epoch: 360 loss:0.132017 auc:1.0000\n",
      "epoch: 380 loss:0.131221 auc:1.0000\n",
      "epoch: 400 loss:0.133662 auc:1.0000\n",
      "epoch: 420 loss:0.128524 auc:1.0000\n",
      "epoch: 440 loss:0.126558 auc:1.0000\n",
      "epoch: 460 loss:0.125312 auc:1.0000\n",
      "epoch: 480 loss:0.125559 auc:1.0000\n",
      "epoch: 500 loss:0.124332 auc:1.0000\n"
     ]
    },
    {
     "name": "stderr",
     "output_type": "stream",
     "text": [
      " 16%|█▋        | 148/910 [22:54<2:35:16, 12.23s/it]"
     ]
    },
    {
     "name": "stdout",
     "output_type": "stream",
     "text": [
      "epoch: 520 loss:0.142804 auc:0.9965\n",
      "Fit finished.\n",
      "epoch:   0 loss:0.656052 auc:0.2891\n",
      "epoch:  20 loss:0.277326 auc:0.9219\n",
      "epoch:  40 loss:0.193534 auc:0.9609\n",
      "epoch:  60 loss:0.177482 auc:0.9766\n",
      "epoch:  80 loss:0.169339 auc:0.9766\n",
      "epoch: 100 loss:0.160197 auc:0.9805\n",
      "epoch: 120 loss:0.150381 auc:0.9805\n",
      "epoch: 140 loss:0.147208 auc:0.9805\n",
      "epoch: 160 loss:0.144651 auc:0.9805\n",
      "epoch: 180 loss:0.144473 auc:0.9805\n",
      "epoch: 200 loss:0.140595 auc:0.9805\n",
      "epoch: 220 loss:0.141230 auc:0.9766\n",
      "epoch: 240 loss:0.138266 auc:0.9766\n"
     ]
    },
    {
     "name": "stderr",
     "output_type": "stream",
     "text": [
      " 16%|█▋        | 149/910 [23:02<2:18:47, 10.94s/it]"
     ]
    },
    {
     "name": "stdout",
     "output_type": "stream",
     "text": [
      "epoch: 260 loss:0.135536 auc:0.9766\n",
      "Fit finished.\n",
      "epoch:   0 loss:0.560669 auc:0.6719\n",
      "epoch:  20 loss:0.281393 auc:0.9826\n",
      "epoch:  40 loss:0.201973 auc:0.9878\n",
      "epoch:  60 loss:0.173506 auc:0.9878\n",
      "epoch:  80 loss:0.159980 auc:0.9896\n",
      "epoch: 100 loss:0.150339 auc:0.9931\n",
      "epoch: 120 loss:0.147288 auc:0.9948\n",
      "epoch: 140 loss:0.145127 auc:0.9948\n",
      "epoch: 160 loss:0.143501 auc:0.9948\n",
      "epoch: 180 loss:0.142101 auc:0.9931\n",
      "epoch: 200 loss:0.141082 auc:0.9931\n"
     ]
    },
    {
     "name": "stderr",
     "output_type": "stream",
     "text": [
      " 16%|█▋        | 150/910 [23:10<2:03:58,  9.79s/it]"
     ]
    },
    {
     "name": "stdout",
     "output_type": "stream",
     "text": [
      "epoch: 220 loss:0.138923 auc:0.9722\n",
      "Fit finished.\n",
      "epoch:   0 loss:0.585609 auc:0.4478\n",
      "epoch:  20 loss:0.243829 auc:0.9900\n",
      "epoch:  40 loss:0.185663 auc:0.9889\n",
      "epoch:  60 loss:0.171274 auc:0.9856\n",
      "epoch:  80 loss:0.161192 auc:0.9856\n",
      "epoch: 100 loss:0.150341 auc:0.9878\n",
      "epoch: 120 loss:0.146879 auc:0.9867\n",
      "epoch: 140 loss:0.144753 auc:0.9878\n",
      "epoch: 160 loss:0.142827 auc:0.9878\n"
     ]
    },
    {
     "name": "stderr",
     "output_type": "stream",
     "text": [
      " 17%|█▋        | 151/910 [23:16<1:50:37,  8.75s/it]"
     ]
    },
    {
     "name": "stdout",
     "output_type": "stream",
     "text": [
      "epoch: 180 loss:0.141482 auc:0.9889\n",
      "Fit finished.\n",
      "epoch:   0 loss:0.845526 auc:0.8564\n",
      "epoch:  20 loss:0.297557 auc:0.9768\n",
      "epoch:  40 loss:0.240748 auc:0.9804\n",
      "epoch:  60 loss:0.191540 auc:0.9788\n",
      "epoch:  80 loss:0.176946 auc:0.9778\n",
      "epoch: 100 loss:0.167847 auc:0.9778\n",
      "epoch: 120 loss:0.158917 auc:0.9783\n",
      "epoch: 140 loss:0.150345 auc:0.9778\n",
      "epoch: 160 loss:0.147132 auc:0.9773\n",
      "epoch: 180 loss:0.145086 auc:0.9778\n"
     ]
    },
    {
     "name": "stderr",
     "output_type": "stream",
     "text": [
      " 17%|█▋        | 152/910 [23:23<1:45:54,  8.38s/it]"
     ]
    },
    {
     "name": "stdout",
     "output_type": "stream",
     "text": [
      "epoch: 200 loss:0.143489 auc:0.9768\n",
      "Fit finished.\n",
      "epoch:   0 loss:0.742967 auc:0.5089\n",
      "epoch:  20 loss:0.288250 auc:0.9941\n",
      "epoch:  40 loss:0.206866 auc:1.0000\n",
      "epoch:  60 loss:0.176667 auc:1.0000\n",
      "epoch:  80 loss:0.165547 auc:1.0000\n",
      "epoch: 100 loss:0.153637 auc:1.0000\n",
      "epoch: 120 loss:0.148540 auc:1.0000\n",
      "epoch: 140 loss:0.147290 auc:1.0000\n",
      "epoch: 160 loss:0.144213 auc:1.0000\n",
      "epoch: 180 loss:0.144665 auc:1.0000\n",
      "epoch: 200 loss:0.140663 auc:1.0000\n",
      "epoch: 220 loss:0.138415 auc:1.0000\n",
      "epoch: 240 loss:0.136822 auc:1.0000\n",
      "epoch: 260 loss:0.144052 auc:1.0000\n",
      "epoch: 280 loss:0.134883 auc:1.0000\n",
      "epoch: 300 loss:0.131883 auc:1.0000\n",
      "epoch: 320 loss:0.134566 auc:1.0000\n",
      "epoch: 340 loss:0.129645 auc:1.0000\n",
      "epoch: 360 loss:0.125578 auc:1.0000\n",
      "epoch: 380 loss:0.126293 auc:1.0000\n",
      "epoch: 400 loss:0.124873 auc:1.0000\n",
      "epoch: 420 loss:0.122607 auc:1.0000\n",
      "epoch: 440 loss:0.120332 auc:1.0000\n",
      "epoch: 460 loss:0.122613 auc:1.0000\n",
      "epoch: 480 loss:0.130643 auc:1.0000\n",
      "epoch: 500 loss:0.119971 auc:1.0000\n",
      "epoch: 520 loss:0.117892 auc:1.0000\n",
      "epoch: 540 loss:0.116562 auc:1.0000\n",
      "epoch: 560 loss:0.115585 auc:1.0000\n",
      "epoch: 580 loss:0.115859 auc:1.0000\n",
      "epoch: 600 loss:0.115809 auc:1.0000\n"
     ]
    },
    {
     "name": "stderr",
     "output_type": "stream",
     "text": [
      " 17%|█▋        | 153/910 [23:45<2:34:33, 12.25s/it]"
     ]
    },
    {
     "name": "stdout",
     "output_type": "stream",
     "text": [
      "epoch: 620 loss:0.117730 auc:0.9941\n",
      "Fit finished.\n",
      "epoch:   0 loss:0.927320 auc:0.7158\n",
      "epoch:  20 loss:0.284816 auc:0.9524\n",
      "epoch:  40 loss:0.221434 auc:0.9497\n",
      "epoch:  60 loss:0.184127 auc:0.9490\n",
      "epoch:  80 loss:0.172215 auc:0.9512\n",
      "epoch: 100 loss:0.163870 auc:0.9543\n",
      "epoch: 120 loss:0.154111 auc:0.9539\n",
      "epoch: 140 loss:0.148741 auc:0.9517\n",
      "epoch: 160 loss:0.146389 auc:0.9524\n"
     ]
    },
    {
     "name": "stderr",
     "output_type": "stream",
     "text": [
      " 17%|█▋        | 154/910 [23:52<2:14:31, 10.68s/it]"
     ]
    },
    {
     "name": "stdout",
     "output_type": "stream",
     "text": [
      "epoch: 180 loss:0.144655 auc:0.9507\n",
      "Fit finished.\n",
      "epoch:   0 loss:0.633134 auc:0.3617\n",
      "epoch:  20 loss:0.259319 auc:0.9609\n",
      "epoch:  40 loss:0.190147 auc:0.9626\n",
      "epoch:  60 loss:0.175525 auc:0.9649\n",
      "epoch:  80 loss:0.167822 auc:0.9666\n",
      "epoch: 100 loss:0.158128 auc:0.9671\n",
      "epoch: 120 loss:0.149028 auc:0.9683\n",
      "epoch: 140 loss:0.146175 auc:0.9654\n",
      "epoch: 160 loss:0.144406 auc:0.9671\n",
      "epoch: 180 loss:0.142764 auc:0.9632\n"
     ]
    },
    {
     "name": "stderr",
     "output_type": "stream",
     "text": [
      " 17%|█▋        | 155/910 [23:59<2:02:03,  9.70s/it]"
     ]
    },
    {
     "name": "stdout",
     "output_type": "stream",
     "text": [
      "epoch: 200 loss:0.141847 auc:0.9342\n",
      "Fit finished.\n",
      "epoch:   0 loss:0.562015 auc:0.3932\n",
      "epoch:  20 loss:0.223076 auc:1.0000\n",
      "epoch:  40 loss:0.180435 auc:1.0000\n",
      "epoch:  60 loss:0.169671 auc:1.0000\n",
      "epoch:  80 loss:0.158807 auc:1.0000\n",
      "epoch: 100 loss:0.148740 auc:1.0000\n",
      "epoch: 120 loss:0.145538 auc:1.0000\n",
      "epoch: 140 loss:0.143617 auc:1.0000\n",
      "epoch: 160 loss:0.148089 auc:0.9943\n"
     ]
    },
    {
     "name": "stderr",
     "output_type": "stream",
     "text": [
      " 17%|█▋        | 156/910 [24:06<1:50:50,  8.82s/it]"
     ]
    },
    {
     "name": "stdout",
     "output_type": "stream",
     "text": [
      "epoch: 180 loss:0.136948 auc:0.9924\n",
      "Fit finished.\n",
      "epoch:   0 loss:0.916093 auc:0.3447\n",
      "epoch:  20 loss:0.279240 auc:0.9932\n",
      "epoch:  40 loss:0.206742 auc:0.9932\n",
      "epoch:  60 loss:0.182450 auc:0.9955\n",
      "epoch:  80 loss:0.172652 auc:0.9955\n",
      "epoch: 100 loss:0.165276 auc:0.9955\n",
      "epoch: 120 loss:0.155678 auc:0.9955\n",
      "epoch: 140 loss:0.148240 auc:0.9955\n",
      "epoch: 160 loss:0.145468 auc:0.9955\n",
      "epoch: 180 loss:0.143759 auc:0.9955\n",
      "epoch: 200 loss:0.143077 auc:0.9932\n"
     ]
    },
    {
     "name": "stderr",
     "output_type": "stream",
     "text": [
      " 17%|█▋        | 157/910 [24:14<1:47:32,  8.57s/it]"
     ]
    },
    {
     "name": "stdout",
     "output_type": "stream",
     "text": [
      "epoch: 220 loss:0.140655 auc:0.9932\n",
      "Fit finished.\n",
      "epoch:   0 loss:0.619351 auc:0.6078\n",
      "epoch:  20 loss:0.244040 auc:0.9911\n",
      "epoch:  40 loss:0.184496 auc:0.9900\n",
      "epoch:  60 loss:0.171709 auc:0.9911\n",
      "epoch:  80 loss:0.163215 auc:0.9911\n",
      "epoch: 100 loss:0.152127 auc:0.9911\n",
      "epoch: 120 loss:0.147273 auc:0.9911\n",
      "epoch: 140 loss:0.144789 auc:0.9911\n",
      "epoch: 160 loss:0.143278 auc:0.9911\n",
      "epoch: 180 loss:0.141242 auc:0.9922\n",
      "epoch: 200 loss:0.139390 auc:0.9956\n",
      "epoch: 220 loss:0.137710 auc:0.9967\n",
      "epoch: 240 loss:0.137241 auc:0.9944\n",
      "epoch: 260 loss:0.134181 auc:0.9911\n"
     ]
    },
    {
     "name": "stderr",
     "output_type": "stream",
     "text": [
      " 17%|█▋        | 158/910 [24:25<1:58:21,  9.44s/it]"
     ]
    },
    {
     "name": "stdout",
     "output_type": "stream",
     "text": [
      "epoch: 280 loss:0.140937 auc:0.9767\n",
      "Fit finished.\n",
      "epoch:   0 loss:0.695099 auc:0.4775\n",
      "epoch:  20 loss:0.270350 auc:0.9563\n",
      "epoch:  40 loss:0.194472 auc:0.9656\n",
      "epoch:  60 loss:0.178355 auc:0.9638\n",
      "epoch:  80 loss:0.169196 auc:0.9644\n",
      "epoch: 100 loss:0.160135 auc:0.9650\n",
      "epoch: 120 loss:0.150326 auc:0.9656\n",
      "epoch: 140 loss:0.147156 auc:0.9681\n",
      "epoch: 160 loss:0.144980 auc:0.9681\n",
      "epoch: 180 loss:0.143221 auc:0.9688\n"
     ]
    },
    {
     "name": "stderr",
     "output_type": "stream",
     "text": [
      " 17%|█▋        | 159/910 [24:33<1:52:12,  8.96s/it]"
     ]
    },
    {
     "name": "stdout",
     "output_type": "stream",
     "text": [
      "epoch: 200 loss:0.141412 auc:0.9650\n",
      "Fit finished.\n",
      "epoch:   0 loss:0.688423 auc:0.6178\n",
      "epoch:  20 loss:0.270095 auc:0.9607\n",
      "epoch:  40 loss:0.195396 auc:0.9628\n",
      "epoch:  60 loss:0.178501 auc:0.9669\n",
      "epoch:  80 loss:0.169383 auc:0.9628\n",
      "epoch: 100 loss:0.160661 auc:0.9628\n",
      "epoch: 120 loss:0.151156 auc:0.9628\n",
      "epoch: 140 loss:0.147532 auc:0.9607\n",
      "epoch: 160 loss:0.145303 auc:0.9607\n",
      "epoch: 180 loss:0.143782 auc:0.9607\n"
     ]
    },
    {
     "name": "stderr",
     "output_type": "stream",
     "text": [
      " 18%|█▊        | 160/910 [24:41<1:47:32,  8.60s/it]"
     ]
    },
    {
     "name": "stdout",
     "output_type": "stream",
     "text": [
      "epoch: 200 loss:0.142595 auc:0.9607\n",
      "Fit finished.\n",
      "epoch:   0 loss:0.927551 auc:0.7194\n",
      "epoch:  20 loss:0.275051 auc:0.9370\n",
      "epoch:  40 loss:0.203540 auc:0.9453\n",
      "epoch:  60 loss:0.176389 auc:0.9524\n",
      "epoch:  80 loss:0.164251 auc:0.9560\n",
      "epoch: 100 loss:0.152676 auc:0.9560\n",
      "epoch: 120 loss:0.148417 auc:0.9548\n",
      "epoch: 140 loss:0.145835 auc:0.9536\n",
      "epoch: 160 loss:0.145298 auc:0.9536\n",
      "epoch: 180 loss:0.142419 auc:0.9524\n",
      "epoch: 200 loss:0.142825 auc:0.9489\n"
     ]
    },
    {
     "name": "stderr",
     "output_type": "stream",
     "text": [
      " 18%|█▊        | 161/910 [24:49<1:46:07,  8.50s/it]"
     ]
    },
    {
     "name": "stdout",
     "output_type": "stream",
     "text": [
      "epoch: 220 loss:0.140095 auc:0.9239\n",
      "Fit finished.\n",
      "epoch:   0 loss:0.897955 auc:0.5425\n",
      "epoch:  20 loss:0.283338 auc:0.9756\n",
      "epoch:  40 loss:0.216735 auc:0.9769\n",
      "epoch:  60 loss:0.180466 auc:0.9788\n",
      "epoch:  80 loss:0.168040 auc:0.9800\n",
      "epoch: 100 loss:0.156172 auc:0.9800\n",
      "epoch: 120 loss:0.148919 auc:0.9788\n",
      "epoch: 140 loss:0.146409 auc:0.9788\n",
      "epoch: 160 loss:0.144645 auc:0.9781\n",
      "epoch: 180 loss:0.143266 auc:0.9756\n"
     ]
    },
    {
     "name": "stderr",
     "output_type": "stream",
     "text": [
      " 18%|█▊        | 162/910 [24:57<1:44:20,  8.37s/it]"
     ]
    },
    {
     "name": "stdout",
     "output_type": "stream",
     "text": [
      "epoch: 200 loss:0.142178 auc:0.9744\n",
      "Fit finished.\n",
      "epoch:   0 loss:1.101387 auc:0.4063\n",
      "epoch:  20 loss:0.290239 auc:0.9450\n",
      "epoch:  40 loss:0.220374 auc:0.9421\n",
      "epoch:  60 loss:0.183651 auc:0.9401\n",
      "epoch:  80 loss:0.171417 auc:0.9419\n",
      "epoch: 100 loss:0.163357 auc:0.9443\n",
      "epoch: 120 loss:0.154163 auc:0.9468\n",
      "epoch: 140 loss:0.148916 auc:0.9492\n",
      "epoch: 160 loss:0.146579 auc:0.9499\n",
      "epoch: 180 loss:0.144830 auc:0.9494\n",
      "epoch: 200 loss:0.143259 auc:0.9485\n"
     ]
    },
    {
     "name": "stderr",
     "output_type": "stream",
     "text": [
      " 18%|█▊        | 163/910 [25:06<1:47:24,  8.63s/it]"
     ]
    },
    {
     "name": "stdout",
     "output_type": "stream",
     "text": [
      "epoch: 220 loss:0.141817 auc:0.9280\n",
      "Fit finished.\n",
      "epoch:   0 loss:0.776521 auc:0.4672\n",
      "epoch:  20 loss:0.273753 auc:0.9448\n",
      "epoch:  40 loss:0.192078 auc:0.9448\n",
      "epoch:  60 loss:0.175304 auc:0.9425\n",
      "epoch:  80 loss:0.166229 auc:0.9416\n",
      "epoch: 100 loss:0.155840 auc:0.9416\n",
      "epoch: 120 loss:0.149280 auc:0.9411\n",
      "epoch: 140 loss:0.146728 auc:0.9421\n",
      "epoch: 160 loss:0.144698 auc:0.9425\n"
     ]
    },
    {
     "name": "stderr",
     "output_type": "stream",
     "text": [
      " 18%|█▊        | 164/910 [25:14<1:41:27,  8.16s/it]"
     ]
    },
    {
     "name": "stdout",
     "output_type": "stream",
     "text": [
      "epoch: 180 loss:0.142639 auc:0.9407\n",
      "Fit finished.\n",
      "epoch:   0 loss:1.086784 auc:0.7889\n",
      "epoch:  20 loss:0.277325 auc:0.9693\n",
      "epoch:  40 loss:0.211701 auc:0.9774\n",
      "epoch:  60 loss:0.181626 auc:0.9781\n",
      "epoch:  80 loss:0.168935 auc:0.9774\n",
      "epoch: 100 loss:0.158261 auc:0.9774\n",
      "epoch: 120 loss:0.149982 auc:0.9788\n",
      "epoch: 140 loss:0.146932 auc:0.9766\n",
      "epoch: 160 loss:0.144930 auc:0.9766\n",
      "epoch: 180 loss:0.143525 auc:0.9766\n"
     ]
    },
    {
     "name": "stderr",
     "output_type": "stream",
     "text": [
      " 18%|█▊        | 165/910 [25:22<1:42:17,  8.24s/it]"
     ]
    },
    {
     "name": "stdout",
     "output_type": "stream",
     "text": [
      "epoch: 200 loss:0.142309 auc:0.9671\n",
      "Fit finished.\n",
      "epoch:   0 loss:0.928932 auc:0.7353\n",
      "epoch:  20 loss:0.287240 auc:0.9726\n",
      "epoch:  40 loss:0.214327 auc:0.9738\n",
      "epoch:  60 loss:0.181673 auc:0.9750\n",
      "epoch:  80 loss:0.170441 auc:0.9732\n",
      "epoch: 100 loss:0.162530 auc:0.9714\n",
      "epoch: 120 loss:0.153604 auc:0.9726\n",
      "epoch: 140 loss:0.148594 auc:0.9726\n",
      "epoch: 160 loss:0.146297 auc:0.9720\n"
     ]
    },
    {
     "name": "stderr",
     "output_type": "stream",
     "text": [
      " 18%|█▊        | 166/910 [25:29<1:37:52,  7.89s/it]"
     ]
    },
    {
     "name": "stdout",
     "output_type": "stream",
     "text": [
      "epoch: 180 loss:0.144589 auc:0.9720\n",
      "Fit finished.\n",
      "epoch:   0 loss:0.583586 auc:0.8620\n",
      "epoch:  20 loss:0.279681 auc:0.9924\n",
      "epoch:  40 loss:0.210578 auc:0.9943\n",
      "epoch:  60 loss:0.181203 auc:0.9943\n",
      "epoch:  80 loss:0.170727 auc:0.9943\n",
      "epoch: 100 loss:0.162352 auc:0.9943\n",
      "epoch: 120 loss:0.152595 auc:0.9943\n",
      "epoch: 140 loss:0.148166 auc:0.9962\n",
      "epoch: 160 loss:0.146019 auc:0.9962\n",
      "epoch: 180 loss:0.144398 auc:0.9962\n",
      "epoch: 200 loss:0.143890 auc:0.9962\n",
      "epoch: 220 loss:0.141683 auc:0.9981\n",
      "epoch: 240 loss:0.140088 auc:1.0000\n",
      "epoch: 260 loss:0.139587 auc:1.0000\n",
      "epoch: 280 loss:0.136873 auc:1.0000\n",
      "epoch: 300 loss:0.138360 auc:0.9962\n"
     ]
    },
    {
     "name": "stderr",
     "output_type": "stream",
     "text": [
      " 18%|█▊        | 167/910 [25:41<1:53:17,  9.15s/it]"
     ]
    },
    {
     "name": "stdout",
     "output_type": "stream",
     "text": [
      "epoch: 320 loss:0.134623 auc:0.9924\n",
      "Fit finished.\n",
      "epoch:   0 loss:0.683591 auc:0.2040\n",
      "epoch:  20 loss:0.243273 auc:0.9547\n",
      "epoch:  40 loss:0.183479 auc:0.9544\n",
      "epoch:  60 loss:0.169656 auc:0.9511\n",
      "epoch:  80 loss:0.158674 auc:0.9534\n",
      "epoch: 100 loss:0.149372 auc:0.9438\n",
      "epoch: 120 loss:0.145847 auc:0.9494\n",
      "epoch: 140 loss:0.143526 auc:0.9458\n",
      "epoch: 160 loss:0.139953 auc:0.9326\n"
     ]
    },
    {
     "name": "stderr",
     "output_type": "stream",
     "text": [
      " 18%|█▊        | 168/910 [25:48<1:45:00,  8.49s/it]"
     ]
    },
    {
     "name": "stdout",
     "output_type": "stream",
     "text": [
      "epoch: 180 loss:0.137083 auc:0.8969\n",
      "Fit finished.\n",
      "epoch:   0 loss:0.551240 auc:0.2816\n",
      "epoch:  20 loss:0.235726 auc:0.9846\n",
      "epoch:  40 loss:0.185757 auc:0.9807\n",
      "epoch:  60 loss:0.171588 auc:0.9799\n",
      "epoch:  80 loss:0.162428 auc:0.9792\n",
      "epoch: 100 loss:0.151566 auc:0.9799\n",
      "epoch: 120 loss:0.147434 auc:0.9807\n",
      "epoch: 140 loss:0.144893 auc:0.9807\n",
      "epoch: 160 loss:0.143301 auc:0.9823\n"
     ]
    },
    {
     "name": "stderr",
     "output_type": "stream",
     "text": [
      " 19%|█▊        | 169/910 [25:55<1:39:13,  8.03s/it]"
     ]
    },
    {
     "name": "stdout",
     "output_type": "stream",
     "text": [
      "epoch: 180 loss:0.142096 auc:0.9807\n",
      "Fit finished.\n",
      "epoch:   0 loss:0.711810 auc:0.4924\n",
      "epoch:  20 loss:0.283574 auc:0.9938\n",
      "epoch:  40 loss:0.203900 auc:0.9924\n",
      "epoch:  60 loss:0.181832 auc:0.9931\n",
      "epoch:  80 loss:0.172181 auc:0.9931\n",
      "epoch: 100 loss:0.164969 auc:0.9924\n",
      "epoch: 120 loss:0.155621 auc:0.9917\n",
      "epoch: 140 loss:0.148836 auc:0.9910\n",
      "epoch: 160 loss:0.146170 auc:0.9896\n"
     ]
    },
    {
     "name": "stderr",
     "output_type": "stream",
     "text": [
      " 19%|█▊        | 170/910 [26:02<1:36:28,  7.82s/it]"
     ]
    },
    {
     "name": "stdout",
     "output_type": "stream",
     "text": [
      "epoch: 180 loss:0.144038 auc:0.9889\n",
      "Fit finished.\n",
      "epoch:   0 loss:0.996189 auc:0.5198\n",
      "epoch:  20 loss:0.272196 auc:0.9909\n",
      "epoch:  40 loss:0.204011 auc:0.9904\n",
      "epoch:  60 loss:0.180713 auc:0.9881\n",
      "epoch:  80 loss:0.171521 auc:0.9881\n",
      "epoch: 100 loss:0.163834 auc:0.9881\n",
      "epoch: 120 loss:0.154068 auc:0.9881\n",
      "epoch: 140 loss:0.148282 auc:0.9881\n",
      "epoch: 160 loss:0.145620 auc:0.9881\n"
     ]
    },
    {
     "name": "stderr",
     "output_type": "stream",
     "text": [
      " 19%|█▉        | 171/910 [26:10<1:35:43,  7.77s/it]"
     ]
    },
    {
     "name": "stdout",
     "output_type": "stream",
     "text": [
      "epoch: 180 loss:0.144095 auc:0.9881\n",
      "Fit finished.\n",
      "epoch:   0 loss:0.547028 auc:0.2044\n",
      "epoch:  20 loss:0.221760 auc:0.9856\n",
      "epoch:  40 loss:0.177740 auc:0.9844\n",
      "epoch:  60 loss:0.162424 auc:0.9867\n",
      "epoch:  80 loss:0.150164 auc:0.9856\n",
      "epoch: 100 loss:0.146178 auc:0.9878\n",
      "epoch: 120 loss:0.143268 auc:0.9889\n",
      "epoch: 140 loss:0.141385 auc:0.9922\n",
      "epoch: 160 loss:0.138463 auc:0.9767\n"
     ]
    },
    {
     "name": "stderr",
     "output_type": "stream",
     "text": [
      " 19%|█▉        | 172/910 [26:18<1:35:45,  7.79s/it]"
     ]
    },
    {
     "name": "stdout",
     "output_type": "stream",
     "text": [
      "epoch: 180 loss:0.135836 auc:0.9622\n",
      "Fit finished.\n",
      "epoch:   0 loss:0.691454 auc:0.6625\n",
      "epoch:  20 loss:0.282388 auc:0.9335\n",
      "epoch:  40 loss:0.207178 auc:0.9511\n",
      "epoch:  60 loss:0.179768 auc:0.9569\n",
      "epoch:  80 loss:0.169754 auc:0.9584\n",
      "epoch: 100 loss:0.161355 auc:0.9576\n",
      "epoch: 120 loss:0.152045 auc:0.9576\n",
      "epoch: 140 loss:0.147766 auc:0.9576\n",
      "epoch: 160 loss:0.145500 auc:0.9576\n",
      "epoch: 180 loss:0.143782 auc:0.9591\n",
      "epoch: 200 loss:0.142288 auc:0.9540\n"
     ]
    },
    {
     "name": "stderr",
     "output_type": "stream",
     "text": [
      " 19%|█▉        | 173/910 [26:26<1:38:34,  8.02s/it]"
     ]
    },
    {
     "name": "stdout",
     "output_type": "stream",
     "text": [
      "epoch: 220 loss:0.142371 auc:0.9467\n",
      "Fit finished.\n",
      "epoch:   0 loss:0.804279 auc:0.3180\n",
      "epoch:  20 loss:0.273248 auc:0.9807\n",
      "epoch:  40 loss:0.197441 auc:0.9853\n",
      "epoch:  60 loss:0.178581 auc:0.9870\n",
      "epoch:  80 loss:0.168672 auc:0.9870\n",
      "epoch: 100 loss:0.158470 auc:0.9864\n",
      "epoch: 120 loss:0.149584 auc:0.9864\n",
      "epoch: 140 loss:0.146762 auc:0.9847\n",
      "epoch: 160 loss:0.144836 auc:0.9853\n"
     ]
    },
    {
     "name": "stderr",
     "output_type": "stream",
     "text": [
      " 19%|█▉        | 174/910 [26:34<1:35:59,  7.83s/it]"
     ]
    },
    {
     "name": "stdout",
     "output_type": "stream",
     "text": [
      "epoch: 180 loss:0.144002 auc:0.9717\n",
      "Fit finished.\n",
      "epoch:   0 loss:0.913223 auc:0.6424\n",
      "epoch:  20 loss:0.300511 auc:0.9649\n",
      "epoch:  40 loss:0.241245 auc:0.9665\n",
      "epoch:  60 loss:0.189707 auc:0.9641\n",
      "epoch:  80 loss:0.173546 auc:0.9624\n",
      "epoch: 100 loss:0.161046 auc:0.9616\n",
      "epoch: 120 loss:0.149756 auc:0.9633\n",
      "epoch: 140 loss:0.146589 auc:0.9633\n",
      "epoch: 160 loss:0.145035 auc:0.9657\n",
      "epoch: 180 loss:0.142826 auc:0.9649\n",
      "epoch: 200 loss:0.140948 auc:0.9706\n"
     ]
    },
    {
     "name": "stderr",
     "output_type": "stream",
     "text": [
      " 19%|█▉        | 175/910 [26:43<1:41:35,  8.29s/it]"
     ]
    },
    {
     "name": "stdout",
     "output_type": "stream",
     "text": [
      "epoch: 220 loss:0.138937 auc:0.9527\n",
      "Fit finished.\n",
      "epoch:   0 loss:0.796046 auc:0.3597\n",
      "epoch:  20 loss:0.281742 auc:0.9513\n",
      "epoch:  40 loss:0.203371 auc:0.9497\n",
      "epoch:  60 loss:0.180057 auc:0.9481\n",
      "epoch:  80 loss:0.168760 auc:0.9427\n",
      "epoch: 100 loss:0.158550 auc:0.9427\n",
      "epoch: 120 loss:0.149703 auc:0.9427\n",
      "epoch: 140 loss:0.146680 auc:0.9432\n",
      "epoch: 160 loss:0.144534 auc:0.9465\n",
      "epoch: 180 loss:0.143142 auc:0.9529\n",
      "epoch: 200 loss:0.143510 auc:0.9600\n",
      "epoch: 220 loss:0.139333 auc:0.9665\n",
      "epoch: 240 loss:0.138509 auc:0.9713\n",
      "epoch: 260 loss:0.136195 auc:0.9740\n",
      "epoch: 280 loss:0.134637 auc:0.9746\n",
      "epoch: 300 loss:0.134323 auc:0.9762\n",
      "epoch: 320 loss:0.131515 auc:0.9778\n",
      "epoch: 340 loss:0.132275 auc:0.9708\n",
      "epoch: 360 loss:0.127966 auc:0.9762\n",
      "epoch: 380 loss:0.126400 auc:0.9730\n",
      "epoch: 400 loss:0.125355 auc:0.9730\n"
     ]
    },
    {
     "name": "stderr",
     "output_type": "stream",
     "text": [
      " 19%|█▉        | 176/910 [27:00<2:12:38, 10.84s/it]"
     ]
    },
    {
     "name": "stdout",
     "output_type": "stream",
     "text": [
      "epoch: 420 loss:0.125203 auc:0.9665\n",
      "Fit finished.\n",
      "epoch:   0 loss:0.519945 auc:0.4558\n",
      "epoch:  20 loss:0.219272 auc:0.9562\n",
      "epoch:  40 loss:0.179973 auc:0.9701\n",
      "epoch:  60 loss:0.169181 auc:0.9737\n",
      "epoch:  80 loss:0.158314 auc:0.9722\n",
      "epoch: 100 loss:0.149140 auc:0.9737\n",
      "epoch: 120 loss:0.145756 auc:0.9737\n",
      "epoch: 140 loss:0.144317 auc:0.9686\n",
      "epoch: 160 loss:0.140789 auc:0.9620\n"
     ]
    },
    {
     "name": "stderr",
     "output_type": "stream",
     "text": [
      " 19%|█▉        | 177/910 [27:07<1:57:42,  9.64s/it]"
     ]
    },
    {
     "name": "stdout",
     "output_type": "stream",
     "text": [
      "epoch: 180 loss:0.139132 auc:0.9474\n",
      "Fit finished.\n",
      "epoch:   0 loss:0.754995 auc:0.1719\n",
      "epoch:  20 loss:0.287099 auc:0.9722\n",
      "epoch:  40 loss:0.203186 auc:0.9740\n",
      "epoch:  60 loss:0.177737 auc:0.9722\n",
      "epoch:  80 loss:0.168285 auc:0.9688\n",
      "epoch: 100 loss:0.158711 auc:0.9705\n",
      "epoch: 120 loss:0.150030 auc:0.9688\n",
      "epoch: 140 loss:0.147016 auc:0.9670\n",
      "epoch: 160 loss:0.144894 auc:0.9688\n"
     ]
    },
    {
     "name": "stderr",
     "output_type": "stream",
     "text": [
      " 20%|█▉        | 178/910 [27:13<1:45:07,  8.62s/it]"
     ]
    },
    {
     "name": "stdout",
     "output_type": "stream",
     "text": [
      "epoch: 180 loss:0.143225 auc:0.9688\n",
      "Fit finished.\n",
      "epoch:   0 loss:0.632216 auc:0.5917\n",
      "epoch:  20 loss:0.253686 auc:0.9778\n",
      "epoch:  40 loss:0.187939 auc:0.9793\n",
      "epoch:  60 loss:0.172460 auc:0.9749\n",
      "epoch:  80 loss:0.161256 auc:0.9749\n",
      "epoch: 100 loss:0.150361 auc:0.9749\n",
      "epoch: 120 loss:0.147227 auc:0.9749\n",
      "epoch: 140 loss:0.144965 auc:0.9778\n",
      "epoch: 160 loss:0.143960 auc:0.9778\n"
     ]
    },
    {
     "name": "stderr",
     "output_type": "stream",
     "text": [
      " 20%|█▉        | 179/910 [27:20<1:38:14,  8.06s/it]"
     ]
    },
    {
     "name": "stdout",
     "output_type": "stream",
     "text": [
      "epoch: 180 loss:0.142391 auc:0.9704\n",
      "Fit finished.\n",
      "epoch:   0 loss:0.667899 auc:0.3945\n",
      "epoch:  20 loss:0.265529 auc:0.9135\n",
      "epoch:  40 loss:0.192242 auc:0.9170\n",
      "epoch:  60 loss:0.174015 auc:0.9585\n",
      "epoch:  80 loss:0.163084 auc:0.9585\n",
      "epoch: 100 loss:0.151525 auc:0.9585\n",
      "epoch: 120 loss:0.147307 auc:0.9585\n",
      "epoch: 140 loss:0.144911 auc:0.9619\n",
      "epoch: 160 loss:0.143389 auc:0.9619\n",
      "epoch: 180 loss:0.142434 auc:0.9723\n",
      "epoch: 200 loss:0.140153 auc:0.9758\n",
      "epoch: 220 loss:0.137584 auc:0.9758\n",
      "epoch: 240 loss:0.134861 auc:0.9792\n",
      "epoch: 260 loss:0.144532 auc:0.9723\n",
      "epoch: 280 loss:0.134120 auc:0.9827\n",
      "epoch: 300 loss:0.131486 auc:0.9862\n",
      "epoch: 320 loss:0.129740 auc:0.9862\n"
     ]
    },
    {
     "name": "stderr",
     "output_type": "stream",
     "text": [
      " 20%|█▉        | 180/910 [27:34<2:02:09, 10.04s/it]"
     ]
    },
    {
     "name": "stdout",
     "output_type": "stream",
     "text": [
      "epoch: 340 loss:0.128690 auc:0.9689\n",
      "Fit finished.\n",
      "epoch:   0 loss:0.869017 auc:0.4722\n",
      "epoch:  20 loss:0.263286 auc:0.9861\n",
      "epoch:  40 loss:0.191036 auc:0.9861\n",
      "epoch:  60 loss:0.176063 auc:0.9861\n",
      "epoch:  80 loss:0.166669 auc:0.9861\n",
      "epoch: 100 loss:0.155306 auc:0.9861\n",
      "epoch: 120 loss:0.148288 auc:0.9861\n",
      "epoch: 140 loss:0.145543 auc:0.9861\n",
      "epoch: 160 loss:0.144544 auc:0.9931\n",
      "epoch: 180 loss:0.141522 auc:0.9931\n",
      "epoch: 200 loss:0.140018 auc:0.9931\n",
      "epoch: 220 loss:0.137231 auc:0.9931\n",
      "epoch: 240 loss:0.135694 auc:1.0000\n",
      "epoch: 260 loss:0.134637 auc:1.0000\n",
      "epoch: 280 loss:0.132526 auc:1.0000\n",
      "epoch: 300 loss:0.130917 auc:1.0000\n",
      "epoch: 320 loss:0.130233 auc:1.0000\n",
      "epoch: 340 loss:0.128552 auc:1.0000\n",
      "epoch: 360 loss:0.129035 auc:0.9931\n",
      "epoch: 380 loss:0.125108 auc:1.0000\n",
      "epoch: 400 loss:0.123009 auc:1.0000\n",
      "epoch: 420 loss:0.121526 auc:1.0000\n",
      "epoch: 440 loss:0.119602 auc:1.0000\n"
     ]
    },
    {
     "name": "stderr",
     "output_type": "stream",
     "text": [
      " 20%|█▉        | 181/910 [27:52<2:27:41, 12.16s/it]"
     ]
    },
    {
     "name": "stdout",
     "output_type": "stream",
     "text": [
      "epoch: 460 loss:0.131368 auc:0.9931\n",
      "Fit finished.\n",
      "epoch:   0 loss:0.901672 auc:0.5069\n",
      "epoch:  20 loss:0.252080 auc:0.9474\n",
      "epoch:  40 loss:0.191783 auc:0.9668\n",
      "epoch:  60 loss:0.177338 auc:0.9806\n",
      "epoch:  80 loss:0.169645 auc:0.9806\n",
      "epoch: 100 loss:0.161392 auc:0.9806\n",
      "epoch: 120 loss:0.150531 auc:0.9778\n",
      "epoch: 140 loss:0.146619 auc:0.9778\n",
      "epoch: 160 loss:0.144432 auc:0.9778\n",
      "epoch: 180 loss:0.144211 auc:0.9584\n"
     ]
    },
    {
     "name": "stderr",
     "output_type": "stream",
     "text": [
      " 20%|██        | 182/910 [27:59<2:11:14, 10.82s/it]"
     ]
    },
    {
     "name": "stdout",
     "output_type": "stream",
     "text": [
      "epoch: 200 loss:0.140377 auc:0.9557\n",
      "Fit finished.\n",
      "epoch:   0 loss:0.544975 auc:0.5667\n",
      "epoch:  20 loss:0.241383 auc:0.9733\n",
      "epoch:  40 loss:0.186927 auc:0.9789\n",
      "epoch:  60 loss:0.175425 auc:0.9778\n",
      "epoch:  80 loss:0.167874 auc:0.9767\n",
      "epoch: 100 loss:0.156183 auc:0.9778\n",
      "epoch: 120 loss:0.148232 auc:0.9789\n",
      "epoch: 140 loss:0.145248 auc:0.9778\n",
      "epoch: 160 loss:0.144235 auc:0.9789\n",
      "epoch: 180 loss:0.141353 auc:0.9800\n"
     ]
    },
    {
     "name": "stderr",
     "output_type": "stream",
     "text": [
      " 20%|██        | 183/910 [28:07<2:00:23,  9.94s/it]"
     ]
    },
    {
     "name": "stdout",
     "output_type": "stream",
     "text": [
      "epoch: 200 loss:0.139883 auc:0.9778\n",
      "Fit finished.\n",
      "epoch:   0 loss:0.632303 auc:0.4439\n",
      "epoch:  20 loss:0.253850 auc:0.9847\n",
      "epoch:  40 loss:0.188483 auc:0.9949\n",
      "epoch:  60 loss:0.174659 auc:0.9949\n",
      "epoch:  80 loss:0.167593 auc:1.0000\n",
      "epoch: 100 loss:0.159112 auc:0.9949\n",
      "epoch: 120 loss:0.149832 auc:0.9949\n",
      "epoch: 140 loss:0.147076 auc:1.0000\n",
      "epoch: 160 loss:0.145032 auc:1.0000\n",
      "epoch: 180 loss:0.147000 auc:1.0000\n",
      "epoch: 200 loss:0.142797 auc:1.0000\n",
      "epoch: 220 loss:0.140278 auc:1.0000\n",
      "epoch: 240 loss:0.138638 auc:1.0000\n",
      "epoch: 260 loss:0.136509 auc:1.0000\n",
      "epoch: 280 loss:0.134539 auc:1.0000\n",
      "epoch: 300 loss:0.136342 auc:1.0000\n",
      "epoch: 320 loss:0.131984 auc:1.0000\n",
      "epoch: 340 loss:0.128937 auc:1.0000\n",
      "epoch: 360 loss:0.130045 auc:1.0000\n",
      "epoch: 380 loss:0.126613 auc:1.0000\n",
      "epoch: 400 loss:0.125111 auc:1.0000\n",
      "epoch: 420 loss:0.122886 auc:1.0000\n",
      "epoch: 440 loss:0.121656 auc:1.0000\n",
      "epoch: 460 loss:0.121713 auc:1.0000\n"
     ]
    },
    {
     "name": "stderr",
     "output_type": "stream",
     "text": [
      " 20%|██        | 184/910 [28:25<2:28:24, 12.26s/it]"
     ]
    },
    {
     "name": "stdout",
     "output_type": "stream",
     "text": [
      "epoch: 480 loss:0.120566 auc:0.9949\n",
      "Fit finished.\n",
      "epoch:   0 loss:1.132279 auc:0.3552\n",
      "epoch:  20 loss:0.269128 auc:0.9720\n",
      "epoch:  40 loss:0.199512 auc:0.9712\n",
      "epoch:  60 loss:0.176454 auc:0.9696\n",
      "epoch:  80 loss:0.165016 auc:0.9692\n",
      "epoch: 100 loss:0.152064 auc:0.9700\n",
      "epoch: 120 loss:0.147813 auc:0.9728\n",
      "epoch: 140 loss:0.145804 auc:0.9720\n",
      "epoch: 160 loss:0.143942 auc:0.9720\n"
     ]
    },
    {
     "name": "stderr",
     "output_type": "stream",
     "text": [
      " 20%|██        | 185/910 [28:32<2:09:56, 10.75s/it]"
     ]
    },
    {
     "name": "stdout",
     "output_type": "stream",
     "text": [
      "epoch: 180 loss:0.144979 auc:0.9672\n",
      "Fit finished.\n",
      "epoch:   0 loss:0.614274 auc:0.6640\n",
      "epoch:  20 loss:0.234809 auc:0.9968\n",
      "epoch:  40 loss:0.180616 auc:0.9936\n",
      "epoch:  60 loss:0.169723 auc:0.9904\n",
      "epoch:  80 loss:0.160581 auc:0.9904\n",
      "epoch: 100 loss:0.151168 auc:0.9904\n",
      "epoch: 120 loss:0.147805 auc:0.9920\n",
      "epoch: 140 loss:0.145534 auc:0.9936\n",
      "epoch: 160 loss:0.148128 auc:0.9936\n",
      "epoch: 180 loss:0.142813 auc:0.9968\n",
      "epoch: 200 loss:0.140074 auc:1.0000\n",
      "epoch: 220 loss:0.138515 auc:1.0000\n",
      "epoch: 240 loss:0.136276 auc:1.0000\n",
      "epoch: 260 loss:0.135216 auc:1.0000\n",
      "epoch: 280 loss:0.132857 auc:1.0000\n",
      "epoch: 300 loss:0.131072 auc:0.9984\n",
      "epoch: 320 loss:0.131692 auc:0.9984\n",
      "epoch: 340 loss:0.131744 auc:1.0000\n",
      "epoch: 360 loss:0.126338 auc:1.0000\n",
      "epoch: 380 loss:0.124945 auc:1.0000\n"
     ]
    },
    {
     "name": "stderr",
     "output_type": "stream",
     "text": [
      " 20%|██        | 186/910 [28:45<2:19:13, 11.54s/it]"
     ]
    },
    {
     "name": "stdout",
     "output_type": "stream",
     "text": [
      "epoch: 400 loss:0.126584 auc:0.9936\n",
      "Fit finished.\n",
      "epoch:   0 loss:0.689310 auc:0.5186\n",
      "epoch:  20 loss:0.291876 auc:0.9898\n",
      "epoch:  40 loss:0.213606 auc:0.9905\n",
      "epoch:  60 loss:0.176548 auc:0.9912\n",
      "epoch:  80 loss:0.163842 auc:0.9912\n",
      "epoch: 100 loss:0.153394 auc:0.9905\n",
      "epoch: 120 loss:0.148928 auc:0.9912\n",
      "epoch: 140 loss:0.146584 auc:0.9905\n",
      "epoch: 160 loss:0.144793 auc:0.9905\n"
     ]
    },
    {
     "name": "stderr",
     "output_type": "stream",
     "text": [
      " 21%|██        | 187/910 [28:52<2:02:27, 10.16s/it]"
     ]
    },
    {
     "name": "stdout",
     "output_type": "stream",
     "text": [
      "epoch: 180 loss:0.143059 auc:0.9890\n",
      "Fit finished.\n",
      "epoch:   0 loss:0.818278 auc:0.5772\n",
      "epoch:  20 loss:0.270367 auc:0.9444\n",
      "epoch:  40 loss:0.201072 auc:0.9414\n",
      "epoch:  60 loss:0.177029 auc:0.9537\n",
      "epoch:  80 loss:0.166163 auc:0.9568\n",
      "epoch: 100 loss:0.155320 auc:0.9537\n",
      "epoch: 120 loss:0.149055 auc:0.9537\n",
      "epoch: 140 loss:0.146344 auc:0.9537\n",
      "epoch: 160 loss:0.145326 auc:0.9568\n",
      "epoch: 180 loss:0.143329 auc:0.9568\n",
      "epoch: 200 loss:0.141677 auc:0.9568\n",
      "epoch: 220 loss:0.140394 auc:0.9537\n",
      "epoch: 240 loss:0.138264 auc:0.9568\n",
      "epoch: 260 loss:0.136381 auc:0.9599\n",
      "epoch: 280 loss:0.135569 auc:0.9599\n",
      "epoch: 300 loss:0.134249 auc:0.9599\n",
      "epoch: 320 loss:0.132795 auc:0.9660\n",
      "epoch: 340 loss:0.133369 auc:0.9630\n",
      "epoch: 360 loss:0.130210 auc:0.9568\n",
      "epoch: 380 loss:0.130611 auc:0.9537\n",
      "epoch: 400 loss:0.140451 auc:0.9599\n",
      "epoch: 420 loss:0.128637 auc:0.9630\n",
      "epoch: 440 loss:0.126824 auc:0.9599\n"
     ]
    },
    {
     "name": "stderr",
     "output_type": "stream",
     "text": [
      " 21%|██        | 188/910 [29:10<2:31:00, 12.55s/it]"
     ]
    },
    {
     "name": "stdout",
     "output_type": "stream",
     "text": [
      "epoch: 460 loss:0.125563 auc:0.9568\n",
      "Fit finished.\n",
      "epoch:   0 loss:0.699632 auc:0.6776\n",
      "epoch:  20 loss:0.262703 auc:0.9703\n",
      "epoch:  40 loss:0.193655 auc:0.9709\n",
      "epoch:  60 loss:0.174240 auc:0.9673\n",
      "epoch:  80 loss:0.162940 auc:0.9691\n",
      "epoch: 100 loss:0.152442 auc:0.9685\n",
      "epoch: 120 loss:0.147965 auc:0.9709\n",
      "epoch: 140 loss:0.145546 auc:0.9703\n",
      "epoch: 160 loss:0.144001 auc:0.9720\n",
      "epoch: 180 loss:0.143944 auc:0.9703\n"
     ]
    },
    {
     "name": "stderr",
     "output_type": "stream",
     "text": [
      " 21%|██        | 189/910 [29:18<2:11:34, 10.95s/it]"
     ]
    },
    {
     "name": "stdout",
     "output_type": "stream",
     "text": [
      "epoch: 200 loss:0.140622 auc:0.9697\n",
      "Fit finished.\n",
      "epoch:   0 loss:0.891809 auc:0.3701\n",
      "epoch:  20 loss:0.285651 auc:0.9853\n",
      "epoch:  40 loss:0.224455 auc:0.9862\n",
      "epoch:  60 loss:0.186097 auc:0.9871\n",
      "epoch:  80 loss:0.172396 auc:0.9890\n",
      "epoch: 100 loss:0.163191 auc:0.9890\n",
      "epoch: 120 loss:0.153899 auc:0.9890\n",
      "epoch: 140 loss:0.149080 auc:0.9890\n",
      "epoch: 160 loss:0.146791 auc:0.9890\n",
      "epoch: 180 loss:0.145008 auc:0.9890\n",
      "epoch: 200 loss:0.146048 auc:0.9899\n",
      "epoch: 220 loss:0.142620 auc:0.9908\n",
      "epoch: 240 loss:0.140335 auc:0.9890\n"
     ]
    },
    {
     "name": "stderr",
     "output_type": "stream",
     "text": [
      " 21%|██        | 190/910 [29:28<2:09:00, 10.75s/it]"
     ]
    },
    {
     "name": "stdout",
     "output_type": "stream",
     "text": [
      "epoch: 260 loss:0.138852 auc:0.9862\n",
      "Fit finished.\n",
      "epoch:   0 loss:0.706070 auc:0.5550\n",
      "epoch:  20 loss:0.261512 auc:0.9369\n",
      "epoch:  40 loss:0.189257 auc:0.9352\n",
      "epoch:  60 loss:0.173220 auc:0.9369\n",
      "epoch:  80 loss:0.163981 auc:0.9369\n",
      "epoch: 100 loss:0.154190 auc:0.9363\n",
      "epoch: 120 loss:0.148971 auc:0.9358\n",
      "epoch: 140 loss:0.146342 auc:0.9358\n",
      "epoch: 160 loss:0.144292 auc:0.9346\n"
     ]
    },
    {
     "name": "stderr",
     "output_type": "stream",
     "text": [
      " 21%|██        | 191/910 [29:35<1:56:07,  9.69s/it]"
     ]
    },
    {
     "name": "stdout",
     "output_type": "stream",
     "text": [
      "epoch: 180 loss:0.144268 auc:0.9334\n",
      "Fit finished.\n",
      "epoch:   0 loss:0.889135 auc:0.5828\n",
      "epoch:  20 loss:0.265717 auc:0.9645\n",
      "epoch:  40 loss:0.199537 auc:0.9630\n",
      "epoch:  60 loss:0.177397 auc:0.9689\n",
      "epoch:  80 loss:0.166738 auc:0.9749\n",
      "epoch: 100 loss:0.156269 auc:0.9778\n",
      "epoch: 120 loss:0.149504 auc:0.9778\n",
      "epoch: 140 loss:0.146830 auc:0.9778\n",
      "epoch: 160 loss:0.144911 auc:0.9793\n",
      "epoch: 180 loss:0.143339 auc:0.9778\n",
      "epoch: 200 loss:0.142122 auc:0.9778\n",
      "epoch: 220 loss:0.140604 auc:0.9778\n",
      "epoch: 240 loss:0.139733 auc:0.9778\n"
     ]
    },
    {
     "name": "stderr",
     "output_type": "stream",
     "text": [
      " 21%|██        | 192/910 [29:44<1:52:01,  9.36s/it]"
     ]
    },
    {
     "name": "stdout",
     "output_type": "stream",
     "text": [
      "epoch: 260 loss:0.137162 auc:0.9749\n",
      "Fit finished.\n",
      "epoch:   0 loss:0.440710 auc:0.7121\n",
      "epoch:  20 loss:0.213857 auc:0.9613\n",
      "epoch:  40 loss:0.178257 auc:0.9679\n",
      "epoch:  60 loss:0.163317 auc:0.9738\n",
      "epoch:  80 loss:0.150863 auc:0.9720\n",
      "epoch: 100 loss:0.146245 auc:0.9720\n",
      "epoch: 120 loss:0.145496 auc:0.9703\n",
      "epoch: 140 loss:0.141860 auc:0.9661\n",
      "epoch: 160 loss:0.138629 auc:0.9512\n"
     ]
    },
    {
     "name": "stderr",
     "output_type": "stream",
     "text": [
      " 21%|██        | 193/910 [29:50<1:40:17,  8.39s/it]"
     ]
    },
    {
     "name": "stdout",
     "output_type": "stream",
     "text": [
      "epoch: 180 loss:0.138614 auc:0.9590\n",
      "Fit finished.\n",
      "epoch:   0 loss:0.728793 auc:0.4926\n",
      "epoch:  20 loss:0.284070 auc:0.9896\n",
      "epoch:  40 loss:0.214423 auc:0.9941\n",
      "epoch:  60 loss:0.181295 auc:0.9970\n",
      "epoch:  80 loss:0.170628 auc:0.9970\n",
      "epoch: 100 loss:0.160614 auc:0.9970\n",
      "epoch: 120 loss:0.150400 auc:0.9970\n",
      "epoch: 140 loss:0.147109 auc:0.9970\n",
      "epoch: 160 loss:0.144883 auc:0.9970\n",
      "epoch: 180 loss:0.143096 auc:0.9970\n",
      "epoch: 200 loss:0.141249 auc:0.9956\n"
     ]
    },
    {
     "name": "stderr",
     "output_type": "stream",
     "text": [
      " 21%|██▏       | 194/910 [29:58<1:40:25,  8.41s/it]"
     ]
    },
    {
     "name": "stdout",
     "output_type": "stream",
     "text": [
      "epoch: 220 loss:0.139247 auc:0.9896\n",
      "Fit finished.\n",
      "epoch:   0 loss:0.893155 auc:0.3432\n",
      "epoch:  20 loss:0.263617 auc:0.9621\n",
      "epoch:  40 loss:0.195627 auc:0.9592\n",
      "epoch:  60 loss:0.175735 auc:0.9579\n",
      "epoch:  80 loss:0.164657 auc:0.9613\n",
      "epoch: 100 loss:0.153562 auc:0.9604\n",
      "epoch: 120 loss:0.148348 auc:0.9600\n",
      "epoch: 140 loss:0.145703 auc:0.9613\n",
      "epoch: 160 loss:0.146733 auc:0.9604\n"
     ]
    },
    {
     "name": "stderr",
     "output_type": "stream",
     "text": [
      " 21%|██▏       | 195/910 [30:06<1:35:38,  8.03s/it]"
     ]
    },
    {
     "name": "stdout",
     "output_type": "stream",
     "text": [
      "epoch: 180 loss:0.142303 auc:0.9613\n",
      "Fit finished.\n",
      "epoch:   0 loss:0.729957 auc:0.2648\n",
      "epoch:  20 loss:0.256453 auc:0.9749\n",
      "epoch:  40 loss:0.191344 auc:0.9760\n",
      "epoch:  60 loss:0.174564 auc:0.9730\n",
      "epoch:  80 loss:0.164753 auc:0.9741\n",
      "epoch: 100 loss:0.152357 auc:0.9767\n",
      "epoch: 120 loss:0.147438 auc:0.9760\n",
      "epoch: 140 loss:0.144888 auc:0.9763\n",
      "epoch: 160 loss:0.143485 auc:0.9719\n"
     ]
    },
    {
     "name": "stderr",
     "output_type": "stream",
     "text": [
      " 22%|██▏       | 196/910 [30:13<1:32:58,  7.81s/it]"
     ]
    },
    {
     "name": "stdout",
     "output_type": "stream",
     "text": [
      "epoch: 180 loss:0.141438 auc:0.9597\n",
      "Fit finished.\n",
      "epoch:   0 loss:0.794214 auc:0.8993\n",
      "epoch:  20 loss:0.295188 auc:0.9809\n",
      "epoch:  40 loss:0.232914 auc:0.9809\n",
      "epoch:  60 loss:0.186661 auc:0.9757\n",
      "epoch:  80 loss:0.172920 auc:0.9740\n",
      "epoch: 100 loss:0.163926 auc:0.9670\n",
      "epoch: 120 loss:0.153927 auc:0.9670\n",
      "epoch: 140 loss:0.148827 auc:0.9670\n",
      "epoch: 160 loss:0.146468 auc:0.9670\n"
     ]
    },
    {
     "name": "stderr",
     "output_type": "stream",
     "text": [
      " 22%|██▏       | 197/910 [30:20<1:30:02,  7.58s/it]"
     ]
    },
    {
     "name": "stdout",
     "output_type": "stream",
     "text": [
      "epoch: 180 loss:0.144840 auc:0.9670\n",
      "Fit finished.\n",
      "epoch:   0 loss:0.481454 auc:0.4118\n",
      "epoch:  20 loss:0.206099 auc:0.9438\n",
      "epoch:  40 loss:0.178229 auc:0.9369\n",
      "epoch:  60 loss:0.167144 auc:0.9351\n",
      "epoch:  80 loss:0.154029 auc:0.9343\n",
      "epoch: 100 loss:0.147412 auc:0.9299\n",
      "epoch: 120 loss:0.146918 auc:0.9031\n",
      "epoch: 140 loss:0.141529 auc:0.8849\n",
      "epoch: 160 loss:0.139271 auc:0.8824\n"
     ]
    },
    {
     "name": "stderr",
     "output_type": "stream",
     "text": [
      " 22%|██▏       | 198/910 [30:27<1:27:19,  7.36s/it]"
     ]
    },
    {
     "name": "stdout",
     "output_type": "stream",
     "text": [
      "epoch: 180 loss:0.137018 auc:0.8936\n",
      "Fit finished.\n",
      "epoch:   0 loss:0.887862 auc:0.7592\n",
      "epoch:  20 loss:0.286540 auc:0.9751\n",
      "epoch:  40 loss:0.220694 auc:0.9774\n",
      "epoch:  60 loss:0.182318 auc:0.9805\n",
      "epoch:  80 loss:0.168102 auc:0.9814\n",
      "epoch: 100 loss:0.156649 auc:0.9805\n",
      "epoch: 120 loss:0.149533 auc:0.9805\n",
      "epoch: 140 loss:0.146779 auc:0.9810\n",
      "epoch: 160 loss:0.144811 auc:0.9814\n",
      "epoch: 180 loss:0.145220 auc:0.9805\n",
      "epoch: 200 loss:0.142386 auc:0.9810\n"
     ]
    },
    {
     "name": "stderr",
     "output_type": "stream",
     "text": [
      " 22%|██▏       | 199/910 [30:35<1:31:10,  7.69s/it]"
     ]
    },
    {
     "name": "stdout",
     "output_type": "stream",
     "text": [
      "epoch: 220 loss:0.140879 auc:0.9697\n",
      "Fit finished.\n",
      "epoch:   0 loss:0.794923 auc:0.1687\n",
      "epoch:  20 loss:0.270378 auc:0.9588\n",
      "epoch:  40 loss:0.195696 auc:0.9973\n",
      "epoch:  60 loss:0.174710 auc:1.0000\n",
      "epoch:  80 loss:0.163094 auc:0.9973\n",
      "epoch: 100 loss:0.152215 auc:0.9973\n",
      "epoch: 120 loss:0.148332 auc:0.9959\n",
      "epoch: 140 loss:0.146519 auc:0.9959\n",
      "epoch: 160 loss:0.144551 auc:0.9959\n",
      "epoch: 180 loss:0.144727 auc:0.9945\n",
      "epoch: 200 loss:0.141184 auc:0.9973\n"
     ]
    },
    {
     "name": "stderr",
     "output_type": "stream",
     "text": [
      " 22%|██▏       | 200/910 [30:42<1:28:41,  7.49s/it]"
     ]
    },
    {
     "name": "stdout",
     "output_type": "stream",
     "text": [
      "epoch: 220 loss:0.140385 auc:0.9945\n",
      "Fit finished.\n",
      "epoch:   0 loss:0.997767 auc:0.4304\n",
      "epoch:  20 loss:0.272065 auc:0.8388\n",
      "epoch:  40 loss:0.202066 auc:0.8432\n",
      "epoch:  60 loss:0.180616 auc:0.8436\n",
      "epoch:  80 loss:0.172184 auc:0.8464\n",
      "epoch: 100 loss:0.165634 auc:0.8452\n",
      "epoch: 120 loss:0.157385 auc:0.8448\n",
      "epoch: 140 loss:0.149640 auc:0.8464\n",
      "epoch: 160 loss:0.146557 auc:0.8476\n",
      "epoch: 180 loss:0.144545 auc:0.8452\n"
     ]
    },
    {
     "name": "stderr",
     "output_type": "stream",
     "text": [
      " 22%|██▏       | 201/910 [30:50<1:28:46,  7.51s/it]"
     ]
    },
    {
     "name": "stdout",
     "output_type": "stream",
     "text": [
      "epoch: 200 loss:0.144115 auc:0.8428\n",
      "Fit finished.\n",
      "epoch:   0 loss:0.501278 auc:0.5668\n",
      "epoch:  20 loss:0.211030 auc:0.9805\n",
      "epoch:  40 loss:0.176183 auc:0.9787\n",
      "epoch:  60 loss:0.161643 auc:0.9805\n",
      "epoch:  80 loss:0.150817 auc:0.9810\n",
      "epoch: 100 loss:0.146681 auc:0.9810\n",
      "epoch: 120 loss:0.143961 auc:0.9796\n",
      "epoch: 140 loss:0.142099 auc:0.9651\n",
      "epoch: 160 loss:0.138897 auc:0.9457\n"
     ]
    },
    {
     "name": "stderr",
     "output_type": "stream",
     "text": [
      " 22%|██▏       | 202/910 [30:57<1:28:28,  7.50s/it]"
     ]
    },
    {
     "name": "stdout",
     "output_type": "stream",
     "text": [
      "epoch: 180 loss:0.135654 auc:0.9208\n",
      "Fit finished.\n",
      "epoch:   0 loss:0.738319 auc:0.5119\n",
      "epoch:  20 loss:0.267660 auc:0.9722\n",
      "epoch:  40 loss:0.191234 auc:0.9722\n",
      "epoch:  60 loss:0.176312 auc:0.9717\n",
      "epoch:  80 loss:0.167344 auc:0.9722\n",
      "epoch: 100 loss:0.156840 auc:0.9717\n",
      "epoch: 120 loss:0.148906 auc:0.9717\n",
      "epoch: 140 loss:0.146136 auc:0.9711\n",
      "epoch: 160 loss:0.144887 auc:0.9705\n"
     ]
    },
    {
     "name": "stderr",
     "output_type": "stream",
     "text": [
      " 22%|██▏       | 203/910 [31:04<1:26:17,  7.32s/it]"
     ]
    },
    {
     "name": "stdout",
     "output_type": "stream",
     "text": [
      "epoch: 180 loss:0.142634 auc:0.9671\n",
      "Fit finished.\n",
      "epoch:   0 loss:0.498423 auc:0.3156\n",
      "epoch:  20 loss:0.224466 auc:0.9712\n",
      "epoch:  40 loss:0.182392 auc:0.9719\n",
      "epoch:  60 loss:0.168527 auc:0.9725\n",
      "epoch:  80 loss:0.157123 auc:0.9719\n",
      "epoch: 100 loss:0.148862 auc:0.9706\n",
      "epoch: 120 loss:0.145635 auc:0.9700\n",
      "epoch: 140 loss:0.144455 auc:0.9700\n",
      "epoch: 160 loss:0.140922 auc:0.9494\n"
     ]
    },
    {
     "name": "stderr",
     "output_type": "stream",
     "text": [
      " 22%|██▏       | 204/910 [31:11<1:24:57,  7.22s/it]"
     ]
    },
    {
     "name": "stdout",
     "output_type": "stream",
     "text": [
      "epoch: 180 loss:0.139000 auc:0.8938\n",
      "Fit finished.\n",
      "epoch:   0 loss:0.929378 auc:0.3244\n",
      "epoch:  20 loss:0.275336 auc:0.9433\n",
      "epoch:  40 loss:0.203534 auc:0.9400\n",
      "epoch:  60 loss:0.179902 auc:0.9489\n",
      "epoch:  80 loss:0.170236 auc:0.9511\n",
      "epoch: 100 loss:0.161525 auc:0.9511\n",
      "epoch: 120 loss:0.151009 auc:0.9500\n",
      "epoch: 140 loss:0.147296 auc:0.9489\n",
      "epoch: 160 loss:0.145080 auc:0.9500\n",
      "epoch: 180 loss:0.143820 auc:0.9489\n",
      "epoch: 200 loss:0.141837 auc:0.9478\n"
     ]
    },
    {
     "name": "stderr",
     "output_type": "stream",
     "text": [
      " 23%|██▎       | 205/910 [31:19<1:25:50,  7.31s/it]"
     ]
    },
    {
     "name": "stdout",
     "output_type": "stream",
     "text": [
      "epoch: 220 loss:0.140627 auc:0.9444\n",
      "Fit finished.\n",
      "epoch:   0 loss:0.990622 auc:0.3249\n",
      "epoch:  20 loss:0.268843 auc:0.9853\n",
      "epoch:  40 loss:0.202042 auc:0.9820\n",
      "epoch:  60 loss:0.179753 auc:0.9869\n",
      "epoch:  80 loss:0.169117 auc:0.9886\n",
      "epoch: 100 loss:0.159569 auc:0.9886\n",
      "epoch: 120 loss:0.151253 auc:0.9902\n",
      "epoch: 140 loss:0.148087 auc:0.9878\n",
      "epoch: 160 loss:0.146154 auc:0.9861\n",
      "epoch: 180 loss:0.144704 auc:0.9878\n",
      "epoch: 200 loss:0.143443 auc:0.9886\n",
      "epoch: 220 loss:0.142540 auc:0.9878\n",
      "epoch: 240 loss:0.141102 auc:0.9886\n",
      "epoch: 260 loss:0.139894 auc:0.9886\n"
     ]
    },
    {
     "name": "stderr",
     "output_type": "stream",
     "text": [
      " 23%|██▎       | 206/910 [31:30<1:40:51,  8.60s/it]"
     ]
    },
    {
     "name": "stdout",
     "output_type": "stream",
     "text": [
      "epoch: 280 loss:0.138269 auc:0.9763\n",
      "Fit finished.\n",
      "epoch:   0 loss:0.515407 auc:0.7344\n",
      "epoch:  20 loss:0.220060 auc:0.9810\n",
      "epoch:  40 loss:0.180568 auc:0.9792\n",
      "epoch:  60 loss:0.169265 auc:0.9801\n",
      "epoch:  80 loss:0.157824 auc:0.9792\n",
      "epoch: 100 loss:0.148868 auc:0.9792\n",
      "epoch: 120 loss:0.145404 auc:0.9792\n",
      "epoch: 140 loss:0.147761 auc:0.9792\n",
      "epoch: 160 loss:0.141915 auc:0.9801\n"
     ]
    },
    {
     "name": "stderr",
     "output_type": "stream",
     "text": [
      " 23%|██▎       | 207/910 [31:37<1:35:12,  8.13s/it]"
     ]
    },
    {
     "name": "stdout",
     "output_type": "stream",
     "text": [
      "epoch: 180 loss:0.137903 auc:0.9749\n",
      "Fit finished.\n",
      "epoch:   0 loss:0.828164 auc:0.3761\n",
      "epoch:  20 loss:0.282712 auc:0.9704\n",
      "epoch:  40 loss:0.208940 auc:0.9763\n",
      "epoch:  60 loss:0.183048 auc:0.9779\n",
      "epoch:  80 loss:0.172297 auc:0.9796\n",
      "epoch: 100 loss:0.164130 auc:0.9804\n",
      "epoch: 120 loss:0.153670 auc:0.9804\n",
      "epoch: 140 loss:0.148624 auc:0.9796\n",
      "epoch: 160 loss:0.146309 auc:0.9804\n",
      "epoch: 180 loss:0.144622 auc:0.9800\n",
      "epoch: 200 loss:0.143284 auc:0.9796\n"
     ]
    },
    {
     "name": "stderr",
     "output_type": "stream",
     "text": [
      " 23%|██▎       | 208/910 [31:45<1:35:14,  8.14s/it]"
     ]
    },
    {
     "name": "stdout",
     "output_type": "stream",
     "text": [
      "epoch: 220 loss:0.142933 auc:0.9771\n",
      "Fit finished.\n",
      "epoch:   0 loss:0.840707 auc:0.8897\n",
      "epoch:  20 loss:0.269635 auc:0.9813\n",
      "epoch:  40 loss:0.196342 auc:0.9938\n",
      "epoch:  60 loss:0.175336 auc:0.9948\n",
      "epoch:  80 loss:0.163990 auc:0.9948\n",
      "epoch: 100 loss:0.152870 auc:0.9948\n",
      "epoch: 120 loss:0.148340 auc:0.9948\n",
      "epoch: 140 loss:0.146667 auc:0.9948\n",
      "epoch: 160 loss:0.144820 auc:0.9948\n",
      "epoch: 180 loss:0.142959 auc:0.9927\n"
     ]
    },
    {
     "name": "stderr",
     "output_type": "stream",
     "text": [
      " 23%|██▎       | 209/910 [31:53<1:32:10,  7.89s/it]"
     ]
    },
    {
     "name": "stdout",
     "output_type": "stream",
     "text": [
      "epoch: 200 loss:0.141000 auc:0.9927\n",
      "Fit finished.\n",
      "epoch:   0 loss:0.721257 auc:0.4128\n",
      "epoch:  20 loss:0.271676 auc:0.9530\n",
      "epoch:  40 loss:0.195654 auc:0.9542\n",
      "epoch:  60 loss:0.178076 auc:0.9560\n",
      "epoch:  80 loss:0.170023 auc:0.9572\n",
      "epoch: 100 loss:0.161832 auc:0.9572\n",
      "epoch: 120 loss:0.151236 auc:0.9560\n",
      "epoch: 140 loss:0.147488 auc:0.9548\n",
      "epoch: 160 loss:0.145186 auc:0.9548\n"
     ]
    },
    {
     "name": "stderr",
     "output_type": "stream",
     "text": [
      " 23%|██▎       | 210/910 [31:59<1:28:04,  7.55s/it]"
     ]
    },
    {
     "name": "stdout",
     "output_type": "stream",
     "text": [
      "epoch: 180 loss:0.146572 auc:0.9524\n",
      "Fit finished.\n",
      "epoch:   0 loss:0.695975 auc:0.3235\n",
      "epoch:  20 loss:0.255058 auc:0.9788\n",
      "epoch:  40 loss:0.189129 auc:0.9817\n",
      "epoch:  60 loss:0.174103 auc:0.9802\n",
      "epoch:  80 loss:0.164822 auc:0.9802\n",
      "epoch: 100 loss:0.153352 auc:0.9798\n",
      "epoch: 120 loss:0.148006 auc:0.9812\n",
      "epoch: 140 loss:0.145563 auc:0.9812\n",
      "epoch: 160 loss:0.143835 auc:0.9802\n",
      "epoch: 180 loss:0.142307 auc:0.9793\n"
     ]
    },
    {
     "name": "stderr",
     "output_type": "stream",
     "text": [
      " 23%|██▎       | 211/910 [32:07<1:29:05,  7.65s/it]"
     ]
    },
    {
     "name": "stdout",
     "output_type": "stream",
     "text": [
      "epoch: 200 loss:0.141662 auc:0.9600\n",
      "Fit finished.\n",
      "epoch:   0 loss:0.749909 auc:0.6707\n",
      "epoch:  20 loss:0.258280 auc:0.9081\n",
      "epoch:  40 loss:0.191969 auc:0.9045\n",
      "epoch:  60 loss:0.178768 auc:0.9090\n",
      "epoch:  80 loss:0.171001 auc:0.9103\n",
      "epoch: 100 loss:0.163810 auc:0.9124\n",
      "epoch: 120 loss:0.153959 auc:0.9122\n",
      "epoch: 140 loss:0.147887 auc:0.8983\n",
      "epoch: 160 loss:0.145405 auc:0.8908\n"
     ]
    },
    {
     "name": "stderr",
     "output_type": "stream",
     "text": [
      " 23%|██▎       | 212/910 [32:15<1:27:14,  7.50s/it]"
     ]
    },
    {
     "name": "stdout",
     "output_type": "stream",
     "text": [
      "epoch: 180 loss:0.144491 auc:0.8833\n",
      "Fit finished.\n",
      "epoch:   0 loss:0.948863 auc:0.1500\n",
      "epoch:  20 loss:0.287388 auc:0.9944\n",
      "epoch:  40 loss:0.223887 auc:0.9933\n",
      "epoch:  60 loss:0.182586 auc:0.9944\n",
      "epoch:  80 loss:0.168299 auc:0.9933\n",
      "epoch: 100 loss:0.156746 auc:0.9933\n",
      "epoch: 120 loss:0.149677 auc:0.9933\n",
      "epoch: 140 loss:0.147104 auc:0.9933\n",
      "epoch: 160 loss:0.145285 auc:0.9933\n",
      "epoch: 180 loss:0.143807 auc:0.9956\n",
      "epoch: 200 loss:0.142949 auc:0.9956\n",
      "epoch: 220 loss:0.141217 auc:0.9967\n",
      "epoch: 240 loss:0.140947 auc:1.0000\n",
      "epoch: 260 loss:0.138394 auc:0.9989\n",
      "epoch: 280 loss:0.137743 auc:0.9978\n",
      "epoch: 300 loss:0.136328 auc:0.9956\n",
      "epoch: 320 loss:0.137997 auc:0.9989\n",
      "epoch: 340 loss:0.133184 auc:0.9967\n",
      "epoch: 360 loss:0.130758 auc:0.9956\n",
      "epoch: 380 loss:0.128546 auc:0.9978\n"
     ]
    },
    {
     "name": "stderr",
     "output_type": "stream",
     "text": [
      " 23%|██▎       | 213/910 [32:29<1:51:25,  9.59s/it]"
     ]
    },
    {
     "name": "stdout",
     "output_type": "stream",
     "text": [
      "epoch: 400 loss:0.129088 auc:0.9989\n",
      "Fit finished.\n",
      "epoch:   0 loss:0.607934 auc:0.3563\n",
      "epoch:  20 loss:0.266525 auc:0.9540\n",
      "epoch:  40 loss:0.190182 auc:0.9586\n",
      "epoch:  60 loss:0.174826 auc:0.9599\n",
      "epoch:  80 loss:0.164891 auc:0.9586\n",
      "epoch: 100 loss:0.153059 auc:0.9599\n",
      "epoch: 120 loss:0.147892 auc:0.9599\n",
      "epoch: 140 loss:0.145430 auc:0.9612\n",
      "epoch: 160 loss:0.146245 auc:0.9619\n",
      "epoch: 180 loss:0.142870 auc:0.9612\n"
     ]
    },
    {
     "name": "stderr",
     "output_type": "stream",
     "text": [
      " 24%|██▎       | 214/910 [32:36<1:43:30,  8.92s/it]"
     ]
    },
    {
     "name": "stdout",
     "output_type": "stream",
     "text": [
      "epoch: 200 loss:0.140480 auc:0.9533\n",
      "Fit finished.\n",
      "epoch:   0 loss:0.442523 auc:0.6858\n",
      "epoch:  20 loss:0.249096 auc:0.9896\n",
      "epoch:  40 loss:0.189045 auc:0.9931\n",
      "epoch:  60 loss:0.170618 auc:0.9965\n",
      "epoch:  80 loss:0.157343 auc:0.9965\n",
      "epoch: 100 loss:0.149838 auc:0.9948\n",
      "epoch: 120 loss:0.146852 auc:0.9965\n",
      "epoch: 140 loss:0.145068 auc:0.9965\n",
      "epoch: 160 loss:0.144152 auc:0.9965\n",
      "epoch: 180 loss:0.141844 auc:0.9948\n",
      "epoch: 200 loss:0.140467 auc:0.9931\n"
     ]
    },
    {
     "name": "stderr",
     "output_type": "stream",
     "text": [
      " 24%|██▎       | 215/910 [32:45<1:41:11,  8.74s/it]"
     ]
    },
    {
     "name": "stdout",
     "output_type": "stream",
     "text": [
      "epoch: 220 loss:0.139261 auc:0.9931\n",
      "Fit finished.\n",
      "epoch:   0 loss:0.601886 auc:0.7600\n",
      "epoch:  20 loss:0.281483 auc:1.0000\n",
      "epoch:  40 loss:0.204003 auc:0.9900\n",
      "epoch:  60 loss:0.178736 auc:0.9900\n",
      "epoch:  80 loss:0.169270 auc:0.9900\n",
      "epoch: 100 loss:0.160839 auc:0.9900\n",
      "epoch: 120 loss:0.151611 auc:0.9900\n",
      "epoch: 140 loss:0.147889 auc:0.9900\n",
      "epoch: 160 loss:0.145878 auc:0.9900\n"
     ]
    },
    {
     "name": "stderr",
     "output_type": "stream",
     "text": [
      " 24%|██▎       | 216/910 [32:51<1:33:25,  8.08s/it]"
     ]
    },
    {
     "name": "stdout",
     "output_type": "stream",
     "text": [
      "epoch: 180 loss:0.144288 auc:0.9900\n",
      "Fit finished.\n",
      "epoch:   0 loss:0.746844 auc:0.1591\n",
      "epoch:  20 loss:0.216161 auc:0.9277\n",
      "epoch:  40 loss:0.182145 auc:0.9401\n",
      "epoch:  60 loss:0.172413 auc:0.9525\n",
      "epoch:  80 loss:0.163769 auc:0.9504\n",
      "epoch: 100 loss:0.151966 auc:0.9525\n",
      "epoch: 120 loss:0.147631 auc:0.9525\n",
      "epoch: 140 loss:0.149000 auc:0.9504\n",
      "epoch: 160 loss:0.143720 auc:0.9504\n"
     ]
    },
    {
     "name": "stderr",
     "output_type": "stream",
     "text": [
      " 24%|██▍       | 217/910 [32:58<1:29:15,  7.73s/it]"
     ]
    },
    {
     "name": "stdout",
     "output_type": "stream",
     "text": [
      "epoch: 180 loss:0.140735 auc:0.9194\n",
      "Fit finished.\n",
      "epoch:   0 loss:0.777743 auc:0.6509\n",
      "epoch:  20 loss:0.267784 auc:0.9287\n",
      "epoch:  40 loss:0.196018 auc:0.9290\n",
      "epoch:  60 loss:0.176110 auc:0.9321\n",
      "epoch:  80 loss:0.165210 auc:0.9359\n",
      "epoch: 100 loss:0.154313 auc:0.9359\n",
      "epoch: 120 loss:0.148295 auc:0.9328\n",
      "epoch: 140 loss:0.145745 auc:0.9321\n",
      "epoch: 160 loss:0.144155 auc:0.9287\n"
     ]
    },
    {
     "name": "stderr",
     "output_type": "stream",
     "text": [
      " 24%|██▍       | 218/910 [33:05<1:25:20,  7.40s/it]"
     ]
    },
    {
     "name": "stdout",
     "output_type": "stream",
     "text": [
      "epoch: 180 loss:0.142097 auc:0.9102\n",
      "Fit finished.\n",
      "epoch:   0 loss:0.532434 auc:0.4125\n",
      "epoch:  20 loss:0.228889 auc:0.8875\n",
      "epoch:  40 loss:0.181272 auc:0.8975\n",
      "epoch:  60 loss:0.168004 auc:0.8975\n",
      "epoch:  80 loss:0.153595 auc:0.9050\n",
      "epoch: 100 loss:0.147870 auc:0.9075\n",
      "epoch: 120 loss:0.144270 auc:0.9050\n",
      "epoch: 140 loss:0.147442 auc:0.8975\n",
      "epoch: 160 loss:0.139879 auc:0.8775\n"
     ]
    },
    {
     "name": "stderr",
     "output_type": "stream",
     "text": [
      " 24%|██▍       | 219/910 [33:12<1:23:15,  7.23s/it]"
     ]
    },
    {
     "name": "stdout",
     "output_type": "stream",
     "text": [
      "epoch: 180 loss:0.137425 auc:0.8750\n",
      "Fit finished.\n",
      "epoch:   0 loss:0.918161 auc:0.7611\n",
      "epoch:  20 loss:0.282004 auc:0.9811\n",
      "epoch:  40 loss:0.211685 auc:0.9800\n",
      "epoch:  60 loss:0.181561 auc:0.9756\n",
      "epoch:  80 loss:0.170362 auc:0.9722\n",
      "epoch: 100 loss:0.161441 auc:0.9744\n",
      "epoch: 120 loss:0.151599 auc:0.9744\n",
      "epoch: 140 loss:0.147433 auc:0.9733\n",
      "epoch: 160 loss:0.145149 auc:0.9744\n"
     ]
    },
    {
     "name": "stderr",
     "output_type": "stream",
     "text": [
      " 24%|██▍       | 220/910 [33:17<1:18:33,  6.83s/it]"
     ]
    },
    {
     "name": "stdout",
     "output_type": "stream",
     "text": [
      "epoch: 180 loss:0.143538 auc:0.9733\n",
      "Fit finished.\n",
      "epoch:   0 loss:0.937143 auc:0.2346\n",
      "epoch:  20 loss:0.273017 auc:0.9510\n",
      "epoch:  40 loss:0.204490 auc:0.9465\n",
      "epoch:  60 loss:0.178612 auc:0.9441\n",
      "epoch:  80 loss:0.167612 auc:0.9434\n",
      "epoch: 100 loss:0.157377 auc:0.9455\n",
      "epoch: 120 loss:0.149614 auc:0.9465\n",
      "epoch: 140 loss:0.146853 auc:0.9462\n",
      "epoch: 160 loss:0.144950 auc:0.9465\n"
     ]
    },
    {
     "name": "stderr",
     "output_type": "stream",
     "text": [
      " 24%|██▍       | 221/910 [33:24<1:17:35,  6.76s/it]"
     ]
    },
    {
     "name": "stdout",
     "output_type": "stream",
     "text": [
      "epoch: 180 loss:0.144321 auc:0.9372\n",
      "Fit finished.\n",
      "epoch:   0 loss:1.018047 auc:0.2195\n",
      "epoch:  20 loss:0.267718 auc:0.9695\n",
      "epoch:  40 loss:0.191201 auc:0.9669\n",
      "epoch:  60 loss:0.175803 auc:0.9659\n",
      "epoch:  80 loss:0.166692 auc:0.9649\n",
      "epoch: 100 loss:0.155838 auc:0.9654\n",
      "epoch: 120 loss:0.148424 auc:0.9649\n",
      "epoch: 140 loss:0.145600 auc:0.9654\n",
      "epoch: 160 loss:0.144177 auc:0.9649\n"
     ]
    },
    {
     "name": "stderr",
     "output_type": "stream",
     "text": [
      " 24%|██▍       | 222/910 [33:31<1:18:40,  6.86s/it]"
     ]
    },
    {
     "name": "stdout",
     "output_type": "stream",
     "text": [
      "epoch: 180 loss:0.142477 auc:0.9628\n",
      "Fit finished.\n",
      "epoch:   0 loss:0.868180 auc:0.4444\n",
      "epoch:  20 loss:0.269935 auc:0.9412\n",
      "epoch:  40 loss:0.198960 auc:0.9407\n",
      "epoch:  60 loss:0.177452 auc:0.9432\n",
      "epoch:  80 loss:0.167908 auc:0.9412\n",
      "epoch: 100 loss:0.158573 auc:0.9422\n",
      "epoch: 120 loss:0.149814 auc:0.9432\n",
      "epoch: 140 loss:0.146696 auc:0.9393\n",
      "epoch: 160 loss:0.145025 auc:0.9398\n"
     ]
    },
    {
     "name": "stderr",
     "output_type": "stream",
     "text": [
      " 25%|██▍       | 223/910 [33:37<1:15:27,  6.59s/it]"
     ]
    },
    {
     "name": "stdout",
     "output_type": "stream",
     "text": [
      "epoch: 180 loss:0.143148 auc:0.9378\n",
      "Fit finished.\n",
      "epoch:   0 loss:0.795893 auc:0.7130\n",
      "epoch:  20 loss:0.269012 auc:0.9865\n",
      "epoch:  40 loss:0.202011 auc:0.9871\n",
      "epoch:  60 loss:0.179989 auc:0.9876\n",
      "epoch:  80 loss:0.169839 auc:0.9879\n",
      "epoch: 100 loss:0.161830 auc:0.9882\n",
      "epoch: 120 loss:0.153148 auc:0.9874\n",
      "epoch: 140 loss:0.148551 auc:0.9876\n",
      "epoch: 160 loss:0.146416 auc:0.9888\n",
      "epoch: 180 loss:0.144837 auc:0.9897\n",
      "epoch: 200 loss:0.143456 auc:0.9879\n"
     ]
    },
    {
     "name": "stderr",
     "output_type": "stream",
     "text": [
      " 25%|██▍       | 224/910 [33:44<1:17:58,  6.82s/it]"
     ]
    },
    {
     "name": "stdout",
     "output_type": "stream",
     "text": [
      "epoch: 220 loss:0.141998 auc:0.9793\n",
      "Fit finished.\n",
      "epoch:   0 loss:0.835579 auc:0.4144\n",
      "epoch:  20 loss:0.283178 auc:0.9312\n",
      "epoch:  40 loss:0.203225 auc:0.9520\n",
      "epoch:  60 loss:0.181424 auc:0.9600\n",
      "epoch:  80 loss:0.172596 auc:0.9520\n",
      "epoch: 100 loss:0.165963 auc:0.9520\n",
      "epoch: 120 loss:0.156097 auc:0.9536\n",
      "epoch: 140 loss:0.149282 auc:0.9536\n",
      "epoch: 160 loss:0.146601 auc:0.9536\n",
      "epoch: 180 loss:0.144853 auc:0.9520\n",
      "epoch: 200 loss:0.143741 auc:0.9536\n"
     ]
    },
    {
     "name": "stderr",
     "output_type": "stream",
     "text": [
      " 25%|██▍       | 225/910 [33:54<1:25:28,  7.49s/it]"
     ]
    },
    {
     "name": "stdout",
     "output_type": "stream",
     "text": [
      "epoch: 220 loss:0.142184 auc:0.9536\n",
      "Fit finished.\n",
      "epoch:   0 loss:0.818491 auc:0.8545\n",
      "epoch:  20 loss:0.276142 auc:0.9932\n",
      "epoch:  40 loss:0.205630 auc:0.9941\n",
      "epoch:  60 loss:0.181101 auc:0.9951\n",
      "epoch:  80 loss:0.171592 auc:0.9951\n",
      "epoch: 100 loss:0.163619 auc:0.9951\n",
      "epoch: 120 loss:0.154118 auc:0.9951\n",
      "epoch: 140 loss:0.148934 auc:0.9951\n",
      "epoch: 160 loss:0.146401 auc:0.9951\n",
      "epoch: 180 loss:0.144587 auc:0.9951\n",
      "epoch: 200 loss:0.143060 auc:0.9951\n"
     ]
    },
    {
     "name": "stderr",
     "output_type": "stream",
     "text": [
      " 25%|██▍       | 226/910 [34:02<1:29:00,  7.81s/it]"
     ]
    },
    {
     "name": "stdout",
     "output_type": "stream",
     "text": [
      "epoch: 220 loss:0.143032 auc:0.9941\n",
      "Fit finished.\n",
      "epoch:   0 loss:0.695032 auc:0.4816\n",
      "epoch:  20 loss:0.269401 auc:0.9936\n",
      "epoch:  40 loss:0.193562 auc:0.9968\n",
      "epoch:  60 loss:0.177639 auc:0.9984\n",
      "epoch:  80 loss:0.168584 auc:0.9968\n",
      "epoch: 100 loss:0.158767 auc:0.9968\n",
      "epoch: 120 loss:0.149540 auc:0.9968\n",
      "epoch: 140 loss:0.146484 auc:0.9968\n",
      "epoch: 160 loss:0.144842 auc:0.9968\n",
      "epoch: 180 loss:0.143540 auc:0.9968\n",
      "epoch: 200 loss:0.142416 auc:0.9968\n",
      "epoch: 220 loss:0.141056 auc:1.0000\n",
      "epoch: 240 loss:0.142366 auc:1.0000\n",
      "epoch: 260 loss:0.137495 auc:1.0000\n"
     ]
    },
    {
     "name": "stderr",
     "output_type": "stream",
     "text": [
      " 25%|██▍       | 227/910 [34:13<1:38:24,  8.64s/it]"
     ]
    },
    {
     "name": "stdout",
     "output_type": "stream",
     "text": [
      "epoch: 280 loss:0.135789 auc:0.9936\n",
      "Fit finished.\n",
      "epoch:   0 loss:0.792826 auc:0.2487\n",
      "epoch:  20 loss:0.237764 auc:0.9974\n",
      "epoch:  40 loss:0.186059 auc:0.9974\n",
      "epoch:  60 loss:0.173785 auc:0.9962\n",
      "epoch:  80 loss:0.166797 auc:0.9974\n",
      "epoch: 100 loss:0.157428 auc:0.9974\n",
      "epoch: 120 loss:0.149302 auc:0.9974\n",
      "epoch: 140 loss:0.146201 auc:0.9974\n",
      "epoch: 160 loss:0.147001 auc:0.9974\n",
      "epoch: 180 loss:0.142743 auc:0.9974\n"
     ]
    },
    {
     "name": "stderr",
     "output_type": "stream",
     "text": [
      " 25%|██▌       | 228/910 [34:19<1:30:42,  7.98s/it]"
     ]
    },
    {
     "name": "stdout",
     "output_type": "stream",
     "text": [
      "epoch: 200 loss:0.140221 auc:0.9936\n",
      "Fit finished.\n",
      "epoch:   0 loss:1.141361 auc:0.6122\n",
      "epoch:  20 loss:0.284543 auc:0.9856\n",
      "epoch:  40 loss:0.213165 auc:0.9889\n",
      "epoch:  60 loss:0.182468 auc:0.9867\n",
      "epoch:  80 loss:0.171241 auc:0.9878\n",
      "epoch: 100 loss:0.163352 auc:0.9889\n",
      "epoch: 120 loss:0.154794 auc:0.9889\n",
      "epoch: 140 loss:0.149076 auc:0.9889\n",
      "epoch: 160 loss:0.146683 auc:0.9889\n",
      "epoch: 180 loss:0.144998 auc:0.9922\n",
      "epoch: 200 loss:0.144075 auc:0.9922\n",
      "epoch: 220 loss:0.142235 auc:0.9933\n",
      "epoch: 240 loss:0.141690 auc:0.9978\n",
      "epoch: 260 loss:0.138912 auc:0.9967\n",
      "epoch: 280 loss:0.137995 auc:0.9978\n",
      "epoch: 300 loss:0.136057 auc:0.9967\n",
      "epoch: 320 loss:0.135295 auc:0.9978\n",
      "epoch: 340 loss:0.134249 auc:0.9967\n",
      "epoch: 360 loss:0.132434 auc:0.9967\n",
      "epoch: 380 loss:0.132691 auc:0.9978\n",
      "epoch: 400 loss:0.131393 auc:0.9978\n",
      "epoch: 420 loss:0.128674 auc:0.9978\n"
     ]
    },
    {
     "name": "stderr",
     "output_type": "stream",
     "text": [
      " 25%|██▌       | 229/910 [34:36<1:59:31, 10.53s/it]"
     ]
    },
    {
     "name": "stdout",
     "output_type": "stream",
     "text": [
      "epoch: 440 loss:0.128963 auc:0.9967\n",
      "Fit finished.\n",
      "epoch:   0 loss:0.712498 auc:0.6879\n",
      "epoch:  20 loss:0.268875 auc:0.8979\n",
      "epoch:  40 loss:0.191463 auc:0.8994\n",
      "epoch:  60 loss:0.173919 auc:0.9005\n",
      "epoch:  80 loss:0.164128 auc:0.8997\n",
      "epoch: 100 loss:0.153259 auc:0.8979\n",
      "epoch: 120 loss:0.147842 auc:0.8990\n",
      "epoch: 140 loss:0.145473 auc:0.8949\n",
      "epoch: 160 loss:0.143397 auc:0.8746\n"
     ]
    },
    {
     "name": "stderr",
     "output_type": "stream",
     "text": [
      " 25%|██▌       | 230/910 [34:42<1:46:58,  9.44s/it]"
     ]
    },
    {
     "name": "stdout",
     "output_type": "stream",
     "text": [
      "epoch: 180 loss:0.141764 auc:0.8257\n",
      "Fit finished.\n",
      "epoch:   0 loss:0.835067 auc:0.6833\n",
      "epoch:  20 loss:0.267620 auc:0.9959\n",
      "epoch:  40 loss:0.193352 auc:0.9943\n",
      "epoch:  60 loss:0.175961 auc:0.9935\n",
      "epoch:  80 loss:0.166906 auc:0.9935\n",
      "epoch: 100 loss:0.156862 auc:0.9935\n",
      "epoch: 120 loss:0.149336 auc:0.9935\n",
      "epoch: 140 loss:0.146558 auc:0.9935\n",
      "epoch: 160 loss:0.145280 auc:0.9935\n"
     ]
    },
    {
     "name": "stderr",
     "output_type": "stream",
     "text": [
      " 25%|██▌       | 231/910 [34:49<1:35:58,  8.48s/it]"
     ]
    },
    {
     "name": "stdout",
     "output_type": "stream",
     "text": [
      "epoch: 180 loss:0.143306 auc:0.9935\n",
      "Fit finished.\n",
      "epoch:   0 loss:0.998312 auc:0.8776\n",
      "epoch:  20 loss:0.287410 auc:0.9977\n",
      "epoch:  40 loss:0.215188 auc:0.9955\n",
      "epoch:  60 loss:0.183404 auc:0.9955\n",
      "epoch:  80 loss:0.171621 auc:0.9955\n",
      "epoch: 100 loss:0.164131 auc:0.9955\n",
      "epoch: 120 loss:0.154801 auc:0.9955\n",
      "epoch: 140 loss:0.148101 auc:0.9955\n",
      "epoch: 160 loss:0.145713 auc:0.9955\n"
     ]
    },
    {
     "name": "stderr",
     "output_type": "stream",
     "text": [
      " 25%|██▌       | 232/910 [34:56<1:30:24,  8.00s/it]"
     ]
    },
    {
     "name": "stdout",
     "output_type": "stream",
     "text": [
      "epoch: 180 loss:0.144148 auc:0.9955\n",
      "Fit finished.\n",
      "epoch:   0 loss:0.858586 auc:0.5422\n",
      "epoch:  20 loss:0.273351 auc:0.9656\n",
      "epoch:  40 loss:0.200639 auc:0.9744\n",
      "epoch:  60 loss:0.178314 auc:0.9744\n",
      "epoch:  80 loss:0.168440 auc:0.9744\n",
      "epoch: 100 loss:0.159848 auc:0.9744\n",
      "epoch: 120 loss:0.151240 auc:0.9744\n",
      "epoch: 140 loss:0.147396 auc:0.9733\n",
      "epoch: 160 loss:0.145256 auc:0.9744\n",
      "epoch: 180 loss:0.143671 auc:0.9733\n"
     ]
    },
    {
     "name": "stderr",
     "output_type": "stream",
     "text": [
      " 26%|██▌       | 233/910 [35:03<1:26:59,  7.71s/it]"
     ]
    },
    {
     "name": "stdout",
     "output_type": "stream",
     "text": [
      "epoch: 200 loss:0.142270 auc:0.9700\n",
      "Fit finished.\n",
      "epoch:   0 loss:0.601500 auc:0.5251\n",
      "epoch:  20 loss:0.262599 auc:0.9888\n",
      "epoch:  40 loss:0.188855 auc:0.9844\n",
      "epoch:  60 loss:0.172365 auc:0.9827\n",
      "epoch:  80 loss:0.162176 auc:0.9827\n",
      "epoch: 100 loss:0.151552 auc:0.9827\n",
      "epoch: 120 loss:0.147717 auc:0.9827\n",
      "epoch: 140 loss:0.145337 auc:0.9827\n",
      "epoch: 160 loss:0.143188 auc:0.9818\n"
     ]
    },
    {
     "name": "stderr",
     "output_type": "stream",
     "text": [
      " 26%|██▌       | 234/910 [35:09<1:23:43,  7.43s/it]"
     ]
    },
    {
     "name": "stdout",
     "output_type": "stream",
     "text": [
      "epoch: 180 loss:0.142512 auc:0.9810\n",
      "Fit finished.\n",
      "epoch:   0 loss:1.127975 auc:0.1778\n",
      "epoch:  20 loss:0.289560 auc:0.9679\n",
      "epoch:  40 loss:0.229571 auc:0.9738\n",
      "epoch:  60 loss:0.187416 auc:0.9748\n",
      "epoch:  80 loss:0.174771 auc:0.9768\n",
      "epoch: 100 loss:0.167257 auc:0.9783\n",
      "epoch: 120 loss:0.158719 auc:0.9783\n",
      "epoch: 140 loss:0.150688 auc:0.9788\n",
      "epoch: 160 loss:0.147729 auc:0.9788\n",
      "epoch: 180 loss:0.145663 auc:0.9788\n",
      "epoch: 200 loss:0.144357 auc:0.9783\n",
      "epoch: 220 loss:0.142877 auc:0.9778\n"
     ]
    },
    {
     "name": "stderr",
     "output_type": "stream",
     "text": [
      " 26%|██▌       | 235/910 [35:19<1:32:16,  8.20s/it]"
     ]
    },
    {
     "name": "stdout",
     "output_type": "stream",
     "text": [
      "epoch: 240 loss:0.141689 auc:0.9748\n",
      "Fit finished.\n",
      "epoch:   0 loss:0.847594 auc:0.4394\n",
      "epoch:  20 loss:0.280772 auc:0.9663\n",
      "epoch:  40 loss:0.207948 auc:0.9645\n",
      "epoch:  60 loss:0.182630 auc:0.9645\n",
      "epoch:  80 loss:0.172671 auc:0.9654\n",
      "epoch: 100 loss:0.164967 auc:0.9654\n",
      "epoch: 120 loss:0.154868 auc:0.9654\n",
      "epoch: 140 loss:0.148021 auc:0.9654\n",
      "epoch: 160 loss:0.145705 auc:0.9654\n"
     ]
    },
    {
     "name": "stderr",
     "output_type": "stream",
     "text": [
      " 26%|██▌       | 236/910 [35:26<1:27:47,  7.82s/it]"
     ]
    },
    {
     "name": "stdout",
     "output_type": "stream",
     "text": [
      "epoch: 180 loss:0.145054 auc:0.9654\n",
      "Fit finished.\n",
      "epoch:   0 loss:0.616260 auc:0.0864\n",
      "epoch:  20 loss:0.224342 auc:1.0000\n",
      "epoch:  40 loss:0.182817 auc:1.0000\n",
      "epoch:  60 loss:0.171867 auc:1.0000\n",
      "epoch:  80 loss:0.163366 auc:1.0000\n",
      "epoch: 100 loss:0.152282 auc:1.0000\n",
      "epoch: 120 loss:0.147637 auc:1.0000\n",
      "epoch: 140 loss:0.145039 auc:1.0000\n",
      "epoch: 160 loss:0.143206 auc:1.0000\n",
      "epoch: 180 loss:0.139274 auc:1.0000\n"
     ]
    },
    {
     "name": "stderr",
     "output_type": "stream",
     "text": [
      " 26%|██▌       | 237/910 [35:35<1:29:28,  7.98s/it]"
     ]
    },
    {
     "name": "stdout",
     "output_type": "stream",
     "text": [
      "epoch: 200 loss:0.137602 auc:0.9938\n",
      "Fit finished.\n",
      "epoch:   0 loss:0.595051 auc:0.7014\n",
      "epoch:  20 loss:0.275452 auc:0.8958\n",
      "epoch:  40 loss:0.192376 auc:0.9045\n",
      "epoch:  60 loss:0.174666 auc:0.8976\n",
      "epoch:  80 loss:0.164858 auc:0.8976\n",
      "epoch: 100 loss:0.153897 auc:0.8941\n",
      "epoch: 120 loss:0.147921 auc:0.8906\n",
      "epoch: 140 loss:0.145436 auc:0.8889\n",
      "epoch: 160 loss:0.143477 auc:0.8941\n",
      "epoch: 180 loss:0.142188 auc:0.8976\n"
     ]
    },
    {
     "name": "stderr",
     "output_type": "stream",
     "text": [
      " 26%|██▌       | 238/910 [35:43<1:30:06,  8.05s/it]"
     ]
    },
    {
     "name": "stdout",
     "output_type": "stream",
     "text": [
      "epoch: 200 loss:0.140436 auc:0.8767\n",
      "Fit finished.\n",
      "epoch:   0 loss:0.704358 auc:0.3655\n",
      "epoch:  20 loss:0.271237 auc:0.9753\n",
      "epoch:  40 loss:0.195501 auc:0.9796\n",
      "epoch:  60 loss:0.178362 auc:0.9818\n",
      "epoch:  80 loss:0.169757 auc:0.9826\n",
      "epoch: 100 loss:0.161131 auc:0.9831\n",
      "epoch: 120 loss:0.151602 auc:0.9813\n",
      "epoch: 140 loss:0.147889 auc:0.9822\n",
      "epoch: 160 loss:0.145743 auc:0.9813\n",
      "epoch: 180 loss:0.143844 auc:0.9809\n"
     ]
    },
    {
     "name": "stderr",
     "output_type": "stream",
     "text": [
      " 26%|██▋       | 239/910 [35:51<1:30:32,  8.10s/it]"
     ]
    },
    {
     "name": "stdout",
     "output_type": "stream",
     "text": [
      "epoch: 200 loss:0.143386 auc:0.9783\n",
      "Fit finished.\n",
      "epoch:   0 loss:0.603905 auc:0.3866\n",
      "epoch:  20 loss:0.225879 auc:0.9818\n",
      "epoch:  40 loss:0.182380 auc:0.9804\n",
      "epoch:  60 loss:0.171884 auc:0.9818\n",
      "epoch:  80 loss:0.163997 auc:0.9822\n",
      "epoch: 100 loss:0.153599 auc:0.9829\n",
      "epoch: 120 loss:0.147971 auc:0.9833\n",
      "epoch: 140 loss:0.145150 auc:0.9808\n",
      "epoch: 160 loss:0.144305 auc:0.9776\n"
     ]
    },
    {
     "name": "stderr",
     "output_type": "stream",
     "text": [
      " 26%|██▋       | 240/910 [35:58<1:26:59,  7.79s/it]"
     ]
    },
    {
     "name": "stdout",
     "output_type": "stream",
     "text": [
      "epoch: 180 loss:0.140296 auc:0.9249\n",
      "Fit finished.\n",
      "epoch:   0 loss:0.631418 auc:0.3601\n",
      "epoch:  20 loss:0.223634 auc:0.9252\n",
      "epoch:  40 loss:0.180607 auc:0.9307\n",
      "epoch:  60 loss:0.169665 auc:0.9529\n",
      "epoch:  80 loss:0.159593 auc:0.9529\n",
      "epoch: 100 loss:0.149820 auc:0.9557\n",
      "epoch: 120 loss:0.146164 auc:0.9529\n",
      "epoch: 140 loss:0.147495 auc:0.9474\n",
      "epoch: 160 loss:0.141064 auc:0.9501\n",
      "epoch: 180 loss:0.138291 auc:0.9446\n",
      "epoch: 200 loss:0.139583 auc:0.9391\n"
     ]
    },
    {
     "name": "stderr",
     "output_type": "stream",
     "text": [
      " 26%|██▋       | 241/910 [36:07<1:30:37,  8.13s/it]"
     ]
    },
    {
     "name": "stdout",
     "output_type": "stream",
     "text": [
      "epoch: 220 loss:0.135490 auc:0.9391\n",
      "Fit finished.\n",
      "epoch:   0 loss:0.793462 auc:0.3549\n",
      "epoch:  20 loss:0.268660 auc:0.9477\n",
      "epoch:  40 loss:0.193480 auc:0.9465\n",
      "epoch:  60 loss:0.174360 auc:0.9477\n",
      "epoch:  80 loss:0.162380 auc:0.9477\n",
      "epoch: 100 loss:0.152006 auc:0.9477\n",
      "epoch: 120 loss:0.148314 auc:0.9474\n",
      "epoch: 140 loss:0.145965 auc:0.9471\n",
      "epoch: 160 loss:0.144098 auc:0.9468\n"
     ]
    },
    {
     "name": "stderr",
     "output_type": "stream",
     "text": [
      " 27%|██▋       | 242/910 [36:14<1:26:43,  7.79s/it]"
     ]
    },
    {
     "name": "stdout",
     "output_type": "stream",
     "text": [
      "epoch: 180 loss:0.144153 auc:0.9420\n",
      "Fit finished.\n",
      "epoch:   0 loss:0.693796 auc:0.7188\n",
      "epoch:  20 loss:0.277342 auc:0.9881\n",
      "epoch:  40 loss:0.199771 auc:0.9906\n",
      "epoch:  60 loss:0.178793 auc:0.9906\n",
      "epoch:  80 loss:0.169363 auc:0.9919\n",
      "epoch: 100 loss:0.161371 auc:0.9912\n",
      "epoch: 120 loss:0.151738 auc:0.9919\n",
      "epoch: 140 loss:0.147670 auc:0.9912\n",
      "epoch: 160 loss:0.145446 auc:0.9912\n",
      "epoch: 180 loss:0.144761 auc:0.9906\n"
     ]
    },
    {
     "name": "stderr",
     "output_type": "stream",
     "text": [
      " 27%|██▋       | 243/910 [36:23<1:29:01,  8.01s/it]"
     ]
    },
    {
     "name": "stdout",
     "output_type": "stream",
     "text": [
      "epoch: 200 loss:0.142677 auc:0.9887\n",
      "Fit finished.\n",
      "epoch:   0 loss:0.663313 auc:0.4872\n",
      "epoch:  20 loss:0.255897 auc:0.9744\n",
      "epoch:  40 loss:0.187896 auc:0.9803\n",
      "epoch:  60 loss:0.172443 auc:0.9796\n",
      "epoch:  80 loss:0.163449 auc:0.9809\n",
      "epoch: 100 loss:0.152327 auc:0.9809\n",
      "epoch: 120 loss:0.148230 auc:0.9809\n",
      "epoch: 140 loss:0.145565 auc:0.9803\n",
      "epoch: 160 loss:0.144385 auc:0.9783\n"
     ]
    },
    {
     "name": "stderr",
     "output_type": "stream",
     "text": [
      " 27%|██▋       | 244/910 [36:31<1:28:33,  7.98s/it]"
     ]
    },
    {
     "name": "stdout",
     "output_type": "stream",
     "text": [
      "epoch: 180 loss:0.141345 auc:0.9671\n",
      "Fit finished.\n",
      "epoch:   0 loss:0.656347 auc:0.5329\n",
      "epoch:  20 loss:0.259652 auc:0.9728\n",
      "epoch:  40 loss:0.190714 auc:0.9751\n",
      "epoch:  60 loss:0.177417 auc:0.9751\n",
      "epoch:  80 loss:0.170290 auc:0.9751\n",
      "epoch: 100 loss:0.163556 auc:0.9751\n",
      "epoch: 120 loss:0.154114 auc:0.9751\n",
      "epoch: 140 loss:0.148213 auc:0.9751\n",
      "epoch: 160 loss:0.145625 auc:0.9751\n",
      "epoch: 180 loss:0.143552 auc:0.9751\n",
      "epoch: 200 loss:0.142906 auc:0.9773\n",
      "epoch: 220 loss:0.140177 auc:0.9751\n",
      "epoch: 240 loss:0.138855 auc:0.9751\n"
     ]
    },
    {
     "name": "stderr",
     "output_type": "stream",
     "text": [
      " 27%|██▋       | 245/910 [36:41<1:35:27,  8.61s/it]"
     ]
    },
    {
     "name": "stdout",
     "output_type": "stream",
     "text": [
      "epoch: 260 loss:0.137196 auc:0.9569\n",
      "Fit finished.\n",
      "epoch:   0 loss:0.811380 auc:0.8848\n",
      "epoch:  20 loss:0.279091 auc:0.9264\n",
      "epoch:  40 loss:0.208612 auc:0.9472\n",
      "epoch:  60 loss:0.181211 auc:0.9744\n",
      "epoch:  80 loss:0.170488 auc:0.9792\n",
      "epoch: 100 loss:0.161750 auc:0.9792\n",
      "epoch: 120 loss:0.151936 auc:0.9792\n",
      "epoch: 140 loss:0.147976 auc:0.9792\n",
      "epoch: 160 loss:0.145762 auc:0.9792\n",
      "epoch: 180 loss:0.146085 auc:0.9792\n",
      "epoch: 200 loss:0.142707 auc:0.9824\n",
      "epoch: 220 loss:0.140833 auc:0.9856\n",
      "epoch: 240 loss:0.139053 auc:0.9856\n",
      "epoch: 260 loss:0.139267 auc:0.9920\n",
      "epoch: 280 loss:0.135950 auc:0.9936\n",
      "epoch: 300 loss:0.134991 auc:0.9920\n",
      "epoch: 320 loss:0.135802 auc:0.9904\n",
      "epoch: 340 loss:0.132807 auc:0.9920\n",
      "epoch: 360 loss:0.130191 auc:0.9872\n",
      "epoch: 380 loss:0.131889 auc:0.9936\n",
      "epoch: 400 loss:0.129114 auc:0.9856\n"
     ]
    },
    {
     "name": "stderr",
     "output_type": "stream",
     "text": [
      " 27%|██▋       | 246/910 [36:58<2:04:24, 11.24s/it]"
     ]
    },
    {
     "name": "stdout",
     "output_type": "stream",
     "text": [
      "epoch: 420 loss:0.125619 auc:0.9872\n",
      "Fit finished.\n",
      "epoch:   0 loss:0.765707 auc:0.3517\n",
      "epoch:  20 loss:0.282409 auc:0.9822\n",
      "epoch:  40 loss:0.207726 auc:0.9836\n",
      "epoch:  60 loss:0.180110 auc:0.9816\n",
      "epoch:  80 loss:0.170127 auc:0.9809\n",
      "epoch: 100 loss:0.162161 auc:0.9816\n",
      "epoch: 120 loss:0.153342 auc:0.9822\n",
      "epoch: 140 loss:0.148698 auc:0.9803\n",
      "epoch: 160 loss:0.146390 auc:0.9770\n"
     ]
    },
    {
     "name": "stderr",
     "output_type": "stream",
     "text": [
      " 27%|██▋       | 247/910 [37:06<1:53:06, 10.24s/it]"
     ]
    },
    {
     "name": "stdout",
     "output_type": "stream",
     "text": [
      "epoch: 180 loss:0.144643 auc:0.9776\n",
      "Fit finished.\n",
      "epoch:   0 loss:0.691893 auc:0.2424\n",
      "epoch:  20 loss:0.210853 auc:0.9798\n",
      "epoch:  40 loss:0.177243 auc:0.9826\n",
      "epoch:  60 loss:0.167047 auc:0.9835\n",
      "epoch:  80 loss:0.154501 auc:0.9835\n",
      "epoch: 100 loss:0.148060 auc:0.9835\n",
      "epoch: 120 loss:0.144874 auc:0.9844\n",
      "epoch: 140 loss:0.145685 auc:0.9835\n",
      "epoch: 160 loss:0.139989 auc:0.9835\n"
     ]
    },
    {
     "name": "stderr",
     "output_type": "stream",
     "text": [
      " 27%|██▋       | 248/910 [37:13<1:44:02,  9.43s/it]"
     ]
    },
    {
     "name": "stdout",
     "output_type": "stream",
     "text": [
      "epoch: 180 loss:0.140506 auc:0.9624\n",
      "Fit finished.\n",
      "epoch:   0 loss:0.718627 auc:0.3967\n",
      "epoch:  20 loss:0.224244 auc:0.9278\n",
      "epoch:  40 loss:0.181623 auc:0.9311\n",
      "epoch:  60 loss:0.172093 auc:0.9300\n",
      "epoch:  80 loss:0.164382 auc:0.9311\n",
      "epoch: 100 loss:0.152011 auc:0.9322\n",
      "epoch: 120 loss:0.146629 auc:0.9311\n",
      "epoch: 140 loss:0.148341 auc:0.9344\n",
      "epoch: 160 loss:0.142258 auc:0.9411\n"
     ]
    },
    {
     "name": "stderr",
     "output_type": "stream",
     "text": [
      " 27%|██▋       | 249/910 [37:20<1:33:43,  8.51s/it]"
     ]
    },
    {
     "name": "stdout",
     "output_type": "stream",
     "text": [
      "epoch: 180 loss:0.139933 auc:0.9267\n",
      "Fit finished.\n",
      "epoch:   0 loss:0.792679 auc:0.1801\n",
      "epoch:  20 loss:0.273342 auc:0.9668\n",
      "epoch:  40 loss:0.196746 auc:0.9612\n",
      "epoch:  60 loss:0.177729 auc:0.9612\n",
      "epoch:  80 loss:0.168246 auc:0.9612\n",
      "epoch: 100 loss:0.159486 auc:0.9612\n",
      "epoch: 120 loss:0.150559 auc:0.9612\n",
      "epoch: 140 loss:0.147469 auc:0.9640\n",
      "epoch: 160 loss:0.145376 auc:0.9668\n",
      "epoch: 180 loss:0.143539 auc:0.9668\n",
      "epoch: 200 loss:0.142829 auc:0.9668\n",
      "epoch: 220 loss:0.140084 auc:0.9640\n",
      "epoch: 240 loss:0.138667 auc:0.9612\n",
      "epoch: 260 loss:0.136675 auc:0.9612\n"
     ]
    },
    {
     "name": "stderr",
     "output_type": "stream",
     "text": [
      " 27%|██▋       | 250/910 [37:32<1:45:38,  9.60s/it]"
     ]
    },
    {
     "name": "stdout",
     "output_type": "stream",
     "text": [
      "epoch: 280 loss:0.135334 auc:0.9501\n",
      "Fit finished.\n",
      "epoch:   0 loss:0.656659 auc:0.3243\n",
      "epoch:  20 loss:0.251141 auc:0.9206\n",
      "epoch:  40 loss:0.185018 auc:0.9184\n",
      "epoch:  60 loss:0.171384 auc:0.9161\n",
      "epoch:  80 loss:0.161938 auc:0.9161\n",
      "epoch: 100 loss:0.151553 auc:0.9161\n",
      "epoch: 120 loss:0.147743 auc:0.9161\n",
      "epoch: 140 loss:0.145156 auc:0.9138\n",
      "epoch: 160 loss:0.142458 auc:0.9116\n"
     ]
    },
    {
     "name": "stderr",
     "output_type": "stream",
     "text": [
      " 28%|██▊       | 251/910 [37:39<1:38:29,  8.97s/it]"
     ]
    },
    {
     "name": "stdout",
     "output_type": "stream",
     "text": [
      "epoch: 180 loss:0.142686 auc:0.9161\n",
      "Fit finished.\n",
      "epoch:   0 loss:0.798641 auc:0.5225\n",
      "epoch:  20 loss:0.276577 auc:1.0000\n",
      "epoch:  40 loss:0.194923 auc:1.0000\n",
      "epoch:  60 loss:0.177770 auc:1.0000\n",
      "epoch:  80 loss:0.169190 auc:1.0000\n",
      "epoch: 100 loss:0.160780 auc:1.0000\n",
      "epoch: 120 loss:0.150841 auc:1.0000\n",
      "epoch: 140 loss:0.147385 auc:1.0000\n",
      "epoch: 160 loss:0.145123 auc:1.0000\n",
      "epoch: 180 loss:0.145802 auc:1.0000\n",
      "epoch: 200 loss:0.141894 auc:1.0000\n",
      "epoch: 220 loss:0.139938 auc:1.0000\n",
      "epoch: 240 loss:0.138269 auc:1.0000\n",
      "epoch: 260 loss:0.136717 auc:1.0000\n",
      "epoch: 280 loss:0.135881 auc:1.0000\n",
      "epoch: 300 loss:0.134291 auc:1.0000\n",
      "epoch: 320 loss:0.135224 auc:1.0000\n"
     ]
    },
    {
     "name": "stderr",
     "output_type": "stream",
     "text": [
      " 28%|██▊       | 252/910 [37:53<1:54:50, 10.47s/it]"
     ]
    },
    {
     "name": "stdout",
     "output_type": "stream",
     "text": [
      "epoch: 340 loss:0.131562 auc:0.9965\n",
      "Fit finished.\n",
      "epoch:   0 loss:0.634760 auc:0.7422\n",
      "epoch:  20 loss:0.281376 auc:0.9822\n",
      "epoch:  40 loss:0.207428 auc:0.9822\n",
      "epoch:  60 loss:0.179742 auc:0.9822\n",
      "epoch:  80 loss:0.168937 auc:0.9822\n",
      "epoch: 100 loss:0.158466 auc:0.9822\n",
      "epoch: 120 loss:0.149597 auc:0.9778\n",
      "epoch: 140 loss:0.146751 auc:0.9822\n",
      "epoch: 160 loss:0.144718 auc:0.9778\n"
     ]
    },
    {
     "name": "stderr",
     "output_type": "stream",
     "text": [
      " 28%|██▊       | 253/910 [38:01<1:43:55,  9.49s/it]"
     ]
    },
    {
     "name": "stdout",
     "output_type": "stream",
     "text": [
      "epoch: 180 loss:0.143165 auc:0.9778\n",
      "Fit finished.\n",
      "epoch:   0 loss:1.379120 auc:0.5694\n",
      "epoch:  20 loss:0.289201 auc:0.9861\n",
      "epoch:  40 loss:0.221804 auc:0.9722\n",
      "epoch:  60 loss:0.183227 auc:0.9722\n",
      "epoch:  80 loss:0.170203 auc:0.9722\n",
      "epoch: 100 loss:0.159652 auc:0.9722\n",
      "epoch: 120 loss:0.150791 auc:0.9722\n",
      "epoch: 140 loss:0.147409 auc:0.9722\n",
      "epoch: 160 loss:0.145370 auc:0.9722\n"
     ]
    },
    {
     "name": "stderr",
     "output_type": "stream",
     "text": [
      " 28%|██▊       | 254/910 [38:07<1:34:31,  8.65s/it]"
     ]
    },
    {
     "name": "stdout",
     "output_type": "stream",
     "text": [
      "epoch: 180 loss:0.143931 auc:0.9722\n",
      "Fit finished.\n",
      "epoch:   0 loss:0.696155 auc:0.5841\n",
      "epoch:  20 loss:0.267266 auc:0.9509\n",
      "epoch:  40 loss:0.196462 auc:0.9641\n",
      "epoch:  60 loss:0.176413 auc:0.9641\n",
      "epoch:  80 loss:0.164727 auc:0.9641\n",
      "epoch: 100 loss:0.153207 auc:0.9622\n",
      "epoch: 120 loss:0.148218 auc:0.9622\n",
      "epoch: 140 loss:0.145752 auc:0.9622\n",
      "epoch: 160 loss:0.144113 auc:0.9622\n",
      "epoch: 180 loss:0.144637 auc:0.9660\n",
      "epoch: 200 loss:0.140891 auc:0.9679\n"
     ]
    },
    {
     "name": "stderr",
     "output_type": "stream",
     "text": [
      " 28%|██▊       | 255/910 [38:15<1:31:59,  8.43s/it]"
     ]
    },
    {
     "name": "stdout",
     "output_type": "stream",
     "text": [
      "epoch: 220 loss:0.139237 auc:0.9622\n",
      "Fit finished.\n",
      "epoch:   0 loss:0.661957 auc:0.4004\n",
      "epoch:  20 loss:0.209988 auc:0.9532\n",
      "epoch:  40 loss:0.178944 auc:0.9495\n",
      "epoch:  60 loss:0.169972 auc:0.9513\n",
      "epoch:  80 loss:0.161710 auc:0.9513\n",
      "epoch: 100 loss:0.150445 auc:0.9513\n",
      "epoch: 120 loss:0.146475 auc:0.9513\n",
      "epoch: 140 loss:0.144274 auc:0.9550\n",
      "epoch: 160 loss:0.142084 auc:0.9275\n"
     ]
    },
    {
     "name": "stderr",
     "output_type": "stream",
     "text": [
      " 28%|██▊       | 256/910 [38:23<1:30:18,  8.29s/it]"
     ]
    },
    {
     "name": "stdout",
     "output_type": "stream",
     "text": [
      "epoch: 180 loss:0.139261 auc:0.8898\n",
      "Fit finished.\n",
      "epoch:   0 loss:1.040358 auc:0.6087\n",
      "epoch:  20 loss:0.291449 auc:0.9546\n",
      "epoch:  40 loss:0.229329 auc:0.9716\n",
      "epoch:  60 loss:0.185593 auc:0.9773\n",
      "epoch:  80 loss:0.172995 auc:0.9754\n",
      "epoch: 100 loss:0.165366 auc:0.9735\n",
      "epoch: 120 loss:0.156576 auc:0.9735\n",
      "epoch: 140 loss:0.149528 auc:0.9735\n",
      "epoch: 160 loss:0.146908 auc:0.9735\n",
      "epoch: 180 loss:0.145168 auc:0.9735\n",
      "epoch: 200 loss:0.143759 auc:0.9735\n"
     ]
    },
    {
     "name": "stderr",
     "output_type": "stream",
     "text": [
      " 28%|██▊       | 257/910 [38:31<1:29:40,  8.24s/it]"
     ]
    },
    {
     "name": "stdout",
     "output_type": "stream",
     "text": [
      "epoch: 220 loss:0.143049 auc:0.9716\n",
      "Fit finished.\n",
      "epoch:   0 loss:0.510017 auc:0.4945\n",
      "epoch:  20 loss:0.204053 auc:0.9806\n",
      "epoch:  40 loss:0.178005 auc:0.9827\n",
      "epoch:  60 loss:0.168595 auc:0.9813\n",
      "epoch:  80 loss:0.156919 auc:0.9820\n",
      "epoch: 100 loss:0.148427 auc:0.9813\n",
      "epoch: 120 loss:0.144248 auc:0.9799\n",
      "epoch: 140 loss:0.143056 auc:0.9827\n",
      "epoch: 160 loss:0.139329 auc:0.9488\n"
     ]
    },
    {
     "name": "stderr",
     "output_type": "stream",
     "text": [
      " 28%|██▊       | 258/910 [38:38<1:25:21,  7.86s/it]"
     ]
    },
    {
     "name": "stdout",
     "output_type": "stream",
     "text": [
      "epoch: 180 loss:0.136595 auc:0.9301\n",
      "Fit finished.\n",
      "epoch:   0 loss:0.538087 auc:0.2704\n",
      "epoch:  20 loss:0.212574 auc:1.0000\n",
      "epoch:  40 loss:0.178692 auc:1.0000\n",
      "epoch:  60 loss:0.165738 auc:1.0000\n",
      "epoch:  80 loss:0.151357 auc:1.0000\n",
      "epoch: 100 loss:0.147094 auc:1.0000\n",
      "epoch: 120 loss:0.143927 auc:1.0000\n",
      "epoch: 140 loss:0.141748 auc:1.0000\n",
      "epoch: 160 loss:0.139609 auc:1.0000\n",
      "epoch: 180 loss:0.137411 auc:1.0000\n",
      "epoch: 200 loss:0.135574 auc:1.0000\n",
      "epoch: 220 loss:0.133103 auc:1.0000\n",
      "epoch: 240 loss:0.135750 auc:1.0000\n",
      "epoch: 260 loss:0.130127 auc:1.0000\n",
      "epoch: 280 loss:0.127261 auc:1.0000\n",
      "epoch: 300 loss:0.126280 auc:1.0000\n",
      "epoch: 320 loss:0.126413 auc:1.0000\n",
      "epoch: 340 loss:0.124226 auc:1.0000\n",
      "epoch: 360 loss:0.121647 auc:1.0000\n",
      "epoch: 380 loss:0.119296 auc:1.0000\n",
      "epoch: 400 loss:0.121920 auc:1.0000\n",
      "epoch: 420 loss:0.123180 auc:1.0000\n",
      "epoch: 440 loss:0.117078 auc:1.0000\n",
      "epoch: 460 loss:0.114168 auc:1.0000\n",
      "epoch: 480 loss:0.112725 auc:1.0000\n"
     ]
    },
    {
     "name": "stderr",
     "output_type": "stream",
     "text": [
      " 28%|██▊       | 259/910 [38:56<1:58:13, 10.90s/it]"
     ]
    },
    {
     "name": "stdout",
     "output_type": "stream",
     "text": [
      "epoch: 500 loss:0.112569 auc:0.9949\n",
      "Fit finished.\n",
      "epoch:   0 loss:0.901332 auc:0.4299\n",
      "epoch:  20 loss:0.274288 auc:0.9291\n",
      "epoch:  40 loss:0.202017 auc:0.9334\n",
      "epoch:  60 loss:0.177937 auc:0.9299\n",
      "epoch:  80 loss:0.166417 auc:0.9308\n",
      "epoch: 100 loss:0.154286 auc:0.9308\n",
      "epoch: 120 loss:0.148168 auc:0.9325\n",
      "epoch: 140 loss:0.148247 auc:0.9377\n",
      "epoch: 160 loss:0.144053 auc:0.9394\n",
      "epoch: 180 loss:0.142147 auc:0.9438\n",
      "epoch: 200 loss:0.139629 auc:0.9542\n",
      "epoch: 220 loss:0.138718 auc:0.9602\n",
      "epoch: 240 loss:0.136271 auc:0.9593\n",
      "epoch: 260 loss:0.137340 auc:0.9524\n",
      "epoch: 280 loss:0.133692 auc:0.9533\n",
      "epoch: 300 loss:0.131043 auc:0.9542\n",
      "epoch: 320 loss:0.132732 auc:0.9550\n",
      "epoch: 340 loss:0.128477 auc:0.9438\n"
     ]
    },
    {
     "name": "stderr",
     "output_type": "stream",
     "text": [
      " 29%|██▊       | 260/910 [39:10<2:06:31, 11.68s/it]"
     ]
    },
    {
     "name": "stdout",
     "output_type": "stream",
     "text": [
      "epoch: 360 loss:0.124978 auc:0.9498\n",
      "Fit finished.\n",
      "epoch:   0 loss:0.871379 auc:0.6119\n",
      "epoch:  20 loss:0.291705 auc:0.9067\n",
      "epoch:  40 loss:0.225435 auc:0.9067\n",
      "epoch:  60 loss:0.186474 auc:0.9027\n",
      "epoch:  80 loss:0.175354 auc:0.9086\n",
      "epoch: 100 loss:0.167976 auc:0.9091\n",
      "epoch: 120 loss:0.159341 auc:0.9077\n",
      "epoch: 140 loss:0.150194 auc:0.9077\n",
      "epoch: 160 loss:0.147061 auc:0.9101\n",
      "epoch: 180 loss:0.145107 auc:0.9086\n",
      "epoch: 200 loss:0.143565 auc:0.9096\n",
      "epoch: 220 loss:0.143474 auc:0.9037\n"
     ]
    },
    {
     "name": "stderr",
     "output_type": "stream",
     "text": [
      " 29%|██▉       | 262/910 [39:20<1:32:57,  8.61s/it]"
     ]
    },
    {
     "name": "stdout",
     "output_type": "stream",
     "text": [
      "epoch: 240 loss:0.141185 auc:0.9012\n",
      "Fit finished.\n",
      "epoch:   0 loss:0.833627 auc:0.2925\n",
      "epoch:  20 loss:0.257697 auc:0.9365\n",
      "epoch:  40 loss:0.192100 auc:0.9297\n",
      "epoch:  60 loss:0.179134 auc:0.9297\n",
      "epoch:  80 loss:0.173520 auc:0.9297\n",
      "epoch: 100 loss:0.168278 auc:0.9274\n",
      "epoch: 120 loss:0.160608 auc:0.9297\n",
      "epoch: 140 loss:0.149557 auc:0.9320\n",
      "epoch: 160 loss:0.145846 auc:0.9365\n"
     ]
    },
    {
     "name": "stderr",
     "output_type": "stream",
     "text": [
      " 29%|██▉       | 263/910 [39:27<1:27:47,  8.14s/it]"
     ]
    },
    {
     "name": "stdout",
     "output_type": "stream",
     "text": [
      "epoch: 180 loss:0.144051 auc:0.9320\n",
      "Fit finished.\n",
      "epoch:   0 loss:1.217273 auc:0.3964\n",
      "epoch:  20 loss:0.277334 auc:0.9659\n",
      "epoch:  40 loss:0.202238 auc:0.9724\n",
      "epoch:  60 loss:0.181212 auc:0.9724\n",
      "epoch:  80 loss:0.172917 auc:0.9724\n",
      "epoch: 100 loss:0.166813 auc:0.9740\n",
      "epoch: 120 loss:0.158494 auc:0.9762\n",
      "epoch: 140 loss:0.149618 auc:0.9735\n",
      "epoch: 160 loss:0.146615 auc:0.9719\n",
      "epoch: 180 loss:0.144415 auc:0.9735\n",
      "epoch: 200 loss:0.143018 auc:0.9746\n",
      "epoch: 220 loss:0.141010 auc:0.9757\n",
      "epoch: 240 loss:0.138865 auc:0.9730\n"
     ]
    },
    {
     "name": "stderr",
     "output_type": "stream",
     "text": [
      " 29%|██▉       | 264/910 [39:36<1:30:01,  8.36s/it]"
     ]
    },
    {
     "name": "stdout",
     "output_type": "stream",
     "text": [
      "epoch: 260 loss:0.137899 auc:0.9730\n",
      "Fit finished.\n",
      "epoch:   0 loss:0.904090 auc:0.6509\n",
      "epoch:  20 loss:0.251842 auc:0.9512\n",
      "epoch:  40 loss:0.188782 auc:0.9630\n",
      "epoch:  60 loss:0.176362 auc:0.9601\n",
      "epoch:  80 loss:0.169493 auc:0.9615\n",
      "epoch: 100 loss:0.161245 auc:0.9615\n",
      "epoch: 120 loss:0.151162 auc:0.9601\n",
      "epoch: 140 loss:0.147516 auc:0.9571\n",
      "epoch: 160 loss:0.145166 auc:0.9571\n",
      "epoch: 180 loss:0.144632 auc:0.9586\n",
      "epoch: 200 loss:0.141634 auc:0.9630\n",
      "epoch: 220 loss:0.139686 auc:0.9630\n",
      "epoch: 240 loss:0.139138 auc:0.9675\n",
      "epoch: 260 loss:0.137327 auc:0.9660\n",
      "epoch: 280 loss:0.135657 auc:0.9675\n",
      "epoch: 300 loss:0.133386 auc:0.9675\n",
      "epoch: 320 loss:0.132550 auc:0.9660\n",
      "epoch: 340 loss:0.130693 auc:0.9660\n",
      "epoch: 360 loss:0.130049 auc:0.9645\n",
      "epoch: 380 loss:0.128081 auc:0.9660\n",
      "epoch: 400 loss:0.128511 auc:0.9675\n",
      "epoch: 420 loss:0.124666 auc:0.9660\n",
      "epoch: 440 loss:0.124438 auc:0.9675\n"
     ]
    },
    {
     "name": "stderr",
     "output_type": "stream",
     "text": [
      " 29%|██▉       | 265/910 [39:52<1:53:36, 10.57s/it]"
     ]
    },
    {
     "name": "stdout",
     "output_type": "stream",
     "text": [
      "epoch: 460 loss:0.122447 auc:0.9645\n",
      "Fit finished.\n",
      "epoch:   0 loss:0.745610 auc:0.3216\n",
      "epoch:  20 loss:0.264693 auc:0.9456\n",
      "epoch:  40 loss:0.190563 auc:0.9472\n",
      "epoch:  60 loss:0.172522 auc:0.9472\n",
      "epoch:  80 loss:0.160424 auc:0.9472\n",
      "epoch: 100 loss:0.151163 auc:0.9504\n",
      "epoch: 120 loss:0.147848 auc:0.9504\n",
      "epoch: 140 loss:0.145516 auc:0.9504\n",
      "epoch: 160 loss:0.143840 auc:0.9504\n",
      "epoch: 180 loss:0.142184 auc:0.9520\n",
      "epoch: 200 loss:0.142629 auc:0.9472\n",
      "epoch: 220 loss:0.138134 auc:0.9472\n",
      "epoch: 240 loss:0.138941 auc:0.9488\n",
      "epoch: 260 loss:0.134169 auc:0.9504\n",
      "epoch: 280 loss:0.131643 auc:0.9552\n",
      "epoch: 300 loss:0.130479 auc:0.9520\n",
      "epoch: 320 loss:0.129759 auc:0.9584\n",
      "epoch: 340 loss:0.126636 auc:0.9584\n",
      "epoch: 360 loss:0.127388 auc:0.9632\n",
      "epoch: 380 loss:0.123144 auc:0.9696\n",
      "epoch: 400 loss:0.123082 auc:0.9600\n",
      "epoch: 420 loss:0.121101 auc:0.9680\n",
      "epoch: 440 loss:0.127299 auc:0.9696\n",
      "epoch: 460 loss:0.120882 auc:0.9664\n",
      "epoch: 480 loss:0.118370 auc:0.9696\n",
      "epoch: 500 loss:0.117215 auc:0.9680\n",
      "epoch: 520 loss:0.116267 auc:0.9680\n"
     ]
    },
    {
     "name": "stderr",
     "output_type": "stream",
     "text": [
      " 29%|██▉       | 266/910 [40:11<2:17:45, 12.83s/it]"
     ]
    },
    {
     "name": "stdout",
     "output_type": "stream",
     "text": [
      "epoch: 540 loss:0.115491 auc:0.9680\n",
      "Fit finished.\n",
      "epoch:   0 loss:0.731076 auc:0.2344\n",
      "epoch:  20 loss:0.261870 auc:0.9622\n",
      "epoch:  40 loss:0.188617 auc:0.9565\n",
      "epoch:  60 loss:0.174248 auc:0.9546\n",
      "epoch:  80 loss:0.167298 auc:0.9546\n",
      "epoch: 100 loss:0.157622 auc:0.9546\n",
      "epoch: 120 loss:0.149405 auc:0.9546\n",
      "epoch: 140 loss:0.146401 auc:0.9546\n",
      "epoch: 160 loss:0.144701 auc:0.9565\n"
     ]
    },
    {
     "name": "stderr",
     "output_type": "stream",
     "text": [
      " 29%|██▉       | 267/910 [40:18<1:59:14, 11.13s/it]"
     ]
    },
    {
     "name": "stdout",
     "output_type": "stream",
     "text": [
      "epoch: 180 loss:0.142993 auc:0.9584\n",
      "Fit finished.\n",
      "epoch:   0 loss:0.867863 auc:0.5750\n",
      "epoch:  20 loss:0.278667 auc:0.9763\n",
      "epoch:  40 loss:0.210482 auc:0.9756\n",
      "epoch:  60 loss:0.180845 auc:0.9769\n",
      "epoch:  80 loss:0.169773 auc:0.9788\n",
      "epoch: 100 loss:0.160092 auc:0.9788\n",
      "epoch: 120 loss:0.150600 auc:0.9794\n",
      "epoch: 140 loss:0.147121 auc:0.9794\n",
      "epoch: 160 loss:0.145028 auc:0.9794\n"
     ]
    },
    {
     "name": "stderr",
     "output_type": "stream",
     "text": [
      " 29%|██▉       | 268/910 [40:25<1:47:35, 10.06s/it]"
     ]
    },
    {
     "name": "stdout",
     "output_type": "stream",
     "text": [
      "epoch: 180 loss:0.143844 auc:0.9756\n",
      "Fit finished.\n",
      "epoch:   0 loss:0.818018 auc:0.5639\n",
      "epoch:  20 loss:0.276537 auc:0.9942\n",
      "epoch:  40 loss:0.206529 auc:0.9949\n",
      "epoch:  60 loss:0.178100 auc:0.9956\n",
      "epoch:  80 loss:0.165772 auc:0.9971\n",
      "epoch: 100 loss:0.154650 auc:0.9971\n",
      "epoch: 120 loss:0.149275 auc:0.9971\n",
      "epoch: 140 loss:0.146871 auc:0.9971\n",
      "epoch: 160 loss:0.145079 auc:0.9963\n",
      "epoch: 180 loss:0.143511 auc:0.9956\n"
     ]
    },
    {
     "name": "stderr",
     "output_type": "stream",
     "text": [
      " 30%|██▉       | 269/910 [40:33<1:41:13,  9.48s/it]"
     ]
    },
    {
     "name": "stdout",
     "output_type": "stream",
     "text": [
      "epoch: 200 loss:0.142292 auc:0.9920\n",
      "Fit finished.\n",
      "epoch:   0 loss:0.640643 auc:0.5600\n",
      "epoch:  20 loss:0.249663 auc:0.9589\n",
      "epoch:  40 loss:0.187077 auc:0.9611\n",
      "epoch:  60 loss:0.172008 auc:0.9589\n",
      "epoch:  80 loss:0.162495 auc:0.9600\n",
      "epoch: 100 loss:0.151951 auc:0.9611\n",
      "epoch: 120 loss:0.147887 auc:0.9600\n",
      "epoch: 140 loss:0.145476 auc:0.9589\n",
      "epoch: 160 loss:0.143256 auc:0.9567\n"
     ]
    },
    {
     "name": "stderr",
     "output_type": "stream",
     "text": [
      " 30%|██▉       | 270/910 [40:40<1:34:14,  8.84s/it]"
     ]
    },
    {
     "name": "stdout",
     "output_type": "stream",
     "text": [
      "epoch: 180 loss:0.142368 auc:0.9533\n",
      "Fit finished.\n",
      "epoch:   0 loss:0.732439 auc:0.6275\n",
      "epoch:  20 loss:0.267948 auc:0.9324\n",
      "epoch:  40 loss:0.195335 auc:0.9334\n",
      "epoch:  60 loss:0.178026 auc:0.9251\n",
      "epoch:  80 loss:0.168961 auc:0.9220\n",
      "epoch: 100 loss:0.158861 auc:0.9209\n",
      "epoch: 120 loss:0.148736 auc:0.9199\n",
      "epoch: 140 loss:0.145805 auc:0.9188\n",
      "epoch: 160 loss:0.144869 auc:0.9230\n"
     ]
    },
    {
     "name": "stderr",
     "output_type": "stream",
     "text": [
      " 30%|██▉       | 271/910 [40:48<1:29:39,  8.42s/it]"
     ]
    },
    {
     "name": "stdout",
     "output_type": "stream",
     "text": [
      "epoch: 180 loss:0.142617 auc:0.9272\n",
      "Fit finished.\n",
      "epoch:   0 loss:0.897193 auc:0.3609\n",
      "epoch:  20 loss:0.276087 auc:0.8343\n",
      "epoch:  40 loss:0.202924 auc:0.9053\n",
      "epoch:  60 loss:0.178685 auc:0.9527\n",
      "epoch:  80 loss:0.167715 auc:0.9527\n",
      "epoch: 100 loss:0.157154 auc:0.9527\n",
      "epoch: 120 loss:0.150054 auc:0.9408\n",
      "epoch: 140 loss:0.147107 auc:0.9408\n",
      "epoch: 160 loss:0.144845 auc:0.9408\n",
      "epoch: 180 loss:0.143075 auc:0.9408\n",
      "epoch: 200 loss:0.141667 auc:0.9467\n"
     ]
    },
    {
     "name": "stderr",
     "output_type": "stream",
     "text": [
      " 30%|██▉       | 272/910 [40:57<1:31:08,  8.57s/it]"
     ]
    },
    {
     "name": "stdout",
     "output_type": "stream",
     "text": [
      "epoch: 220 loss:0.140975 auc:0.9467\n",
      "Fit finished.\n",
      "epoch:   0 loss:0.788984 auc:0.2601\n",
      "epoch:  20 loss:0.251049 auc:0.9519\n",
      "epoch:  40 loss:0.189005 auc:0.9546\n",
      "epoch:  60 loss:0.174160 auc:0.9567\n",
      "epoch:  80 loss:0.164166 auc:0.9557\n",
      "epoch: 100 loss:0.152921 auc:0.9567\n",
      "epoch: 120 loss:0.147641 auc:0.9513\n",
      "epoch: 140 loss:0.144920 auc:0.9448\n",
      "epoch: 160 loss:0.144040 auc:0.9427\n"
     ]
    },
    {
     "name": "stderr",
     "output_type": "stream",
     "text": [
      " 30%|███       | 273/910 [41:04<1:26:42,  8.17s/it]"
     ]
    },
    {
     "name": "stdout",
     "output_type": "stream",
     "text": [
      "epoch: 180 loss:0.141204 auc:0.9108\n",
      "Fit finished.\n",
      "epoch:   0 loss:0.776070 auc:0.5273\n",
      "epoch:  20 loss:0.263248 auc:0.9167\n",
      "epoch:  40 loss:0.191865 auc:0.9188\n",
      "epoch:  60 loss:0.176517 auc:0.9167\n",
      "epoch:  80 loss:0.168264 auc:0.9167\n",
      "epoch: 100 loss:0.159426 auc:0.9145\n",
      "epoch: 120 loss:0.150084 auc:0.9158\n",
      "epoch: 140 loss:0.147084 auc:0.9175\n",
      "epoch: 160 loss:0.144923 auc:0.9171\n",
      "epoch: 180 loss:0.144531 auc:0.9184\n"
     ]
    },
    {
     "name": "stderr",
     "output_type": "stream",
     "text": [
      " 30%|███       | 274/910 [41:11<1:23:10,  7.85s/it]"
     ]
    },
    {
     "name": "stdout",
     "output_type": "stream",
     "text": [
      "epoch: 200 loss:0.142246 auc:0.9062\n",
      "Fit finished.\n",
      "epoch:   0 loss:0.808868 auc:0.0600\n",
      "epoch:  20 loss:0.226383 auc:0.9825\n",
      "epoch:  40 loss:0.182479 auc:0.9825\n",
      "epoch:  60 loss:0.172960 auc:0.9825\n",
      "epoch:  80 loss:0.166703 auc:0.9825\n",
      "epoch: 100 loss:0.158589 auc:0.9825\n",
      "epoch: 120 loss:0.149828 auc:0.9825\n",
      "epoch: 140 loss:0.146387 auc:0.9825\n",
      "epoch: 160 loss:0.143727 auc:0.9850\n",
      "epoch: 180 loss:0.141951 auc:0.9825\n"
     ]
    },
    {
     "name": "stderr",
     "output_type": "stream",
     "text": [
      " 30%|███       | 275/910 [41:18<1:21:53,  7.74s/it]"
     ]
    },
    {
     "name": "stdout",
     "output_type": "stream",
     "text": [
      "epoch: 200 loss:0.139335 auc:0.9800\n",
      "Fit finished.\n",
      "epoch:   0 loss:1.006206 auc:0.5294\n",
      "epoch:  20 loss:0.283908 auc:0.9675\n",
      "epoch:  40 loss:0.208702 auc:0.9696\n",
      "epoch:  60 loss:0.181526 auc:0.9675\n",
      "epoch:  80 loss:0.171821 auc:0.9683\n",
      "epoch: 100 loss:0.164550 auc:0.9696\n",
      "epoch: 120 loss:0.155718 auc:0.9700\n",
      "epoch: 140 loss:0.149369 auc:0.9696\n",
      "epoch: 160 loss:0.146796 auc:0.9692\n",
      "epoch: 180 loss:0.144874 auc:0.9683\n"
     ]
    },
    {
     "name": "stderr",
     "output_type": "stream",
     "text": [
      " 30%|███       | 276/910 [41:26<1:20:57,  7.66s/it]"
     ]
    },
    {
     "name": "stdout",
     "output_type": "stream",
     "text": [
      "epoch: 200 loss:0.143015 auc:0.9671\n",
      "Fit finished.\n",
      "epoch:   0 loss:0.941115 auc:0.7206\n",
      "epoch:  20 loss:0.296632 auc:0.9740\n",
      "epoch:  40 loss:0.228601 auc:0.9732\n",
      "epoch:  60 loss:0.185476 auc:0.9758\n",
      "epoch:  80 loss:0.172487 auc:0.9775\n",
      "epoch: 100 loss:0.164195 auc:0.9792\n",
      "epoch: 120 loss:0.153786 auc:0.9784\n",
      "epoch: 140 loss:0.148446 auc:0.9784\n",
      "epoch: 160 loss:0.146131 auc:0.9784\n",
      "epoch: 180 loss:0.144870 auc:0.9775\n",
      "epoch: 200 loss:0.142837 auc:0.9784\n"
     ]
    },
    {
     "name": "stderr",
     "output_type": "stream",
     "text": [
      " 30%|███       | 277/910 [41:34<1:22:49,  7.85s/it]"
     ]
    },
    {
     "name": "stdout",
     "output_type": "stream",
     "text": [
      "epoch: 220 loss:0.141910 auc:0.9749\n",
      "Fit finished.\n",
      "epoch:   0 loss:0.991224 auc:0.7462\n",
      "epoch:  20 loss:0.292091 auc:0.9401\n",
      "epoch:  40 loss:0.223628 auc:0.9503\n",
      "epoch:  60 loss:0.183479 auc:0.9554\n",
      "epoch:  80 loss:0.171069 auc:0.9541\n",
      "epoch: 100 loss:0.161888 auc:0.9515\n",
      "epoch: 120 loss:0.151807 auc:0.9541\n",
      "epoch: 140 loss:0.148104 auc:0.9503\n",
      "epoch: 160 loss:0.145878 auc:0.9490\n",
      "epoch: 180 loss:0.144786 auc:0.9503\n",
      "epoch: 200 loss:0.142622 auc:0.9515\n",
      "epoch: 220 loss:0.141224 auc:0.9592\n",
      "epoch: 240 loss:0.140035 auc:0.9694\n",
      "epoch: 260 loss:0.138332 auc:0.9745\n",
      "epoch: 280 loss:0.136265 auc:0.9783\n",
      "epoch: 300 loss:0.135232 auc:0.9809\n",
      "epoch: 320 loss:0.137231 auc:0.9821\n",
      "epoch: 340 loss:0.132905 auc:0.9809\n",
      "epoch: 360 loss:0.130735 auc:0.9821\n",
      "epoch: 380 loss:0.139201 auc:0.9860\n"
     ]
    },
    {
     "name": "stderr",
     "output_type": "stream",
     "text": [
      " 31%|███       | 278/910 [41:48<1:42:32,  9.73s/it]"
     ]
    },
    {
     "name": "stdout",
     "output_type": "stream",
     "text": [
      "epoch: 400 loss:0.130212 auc:0.9617\n",
      "Fit finished.\n",
      "epoch:   0 loss:1.119474 auc:0.9388\n",
      "epoch:  20 loss:0.308670 auc:0.9802\n",
      "epoch:  40 loss:0.257451 auc:0.9830\n",
      "epoch:  60 loss:0.199150 auc:0.9841\n",
      "epoch:  80 loss:0.180486 auc:0.9847\n",
      "epoch: 100 loss:0.171638 auc:0.9870\n",
      "epoch: 120 loss:0.164155 auc:0.9875\n",
      "epoch: 140 loss:0.154173 auc:0.9875\n",
      "epoch: 160 loss:0.148005 auc:0.9887\n",
      "epoch: 180 loss:0.145635 auc:0.9881\n",
      "epoch: 200 loss:0.145548 auc:0.9875\n",
      "epoch: 220 loss:0.142770 auc:0.9847\n"
     ]
    },
    {
     "name": "stderr",
     "output_type": "stream",
     "text": [
      " 31%|███       | 279/910 [41:57<1:38:58,  9.41s/it]"
     ]
    },
    {
     "name": "stdout",
     "output_type": "stream",
     "text": [
      "epoch: 240 loss:0.141231 auc:0.9813\n",
      "Fit finished.\n",
      "epoch:   0 loss:0.742846 auc:0.6558\n",
      "epoch:  20 loss:0.285741 auc:0.9100\n",
      "epoch:  40 loss:0.218094 auc:0.9086\n",
      "epoch:  60 loss:0.183267 auc:0.9065\n",
      "epoch:  80 loss:0.172077 auc:0.9072\n",
      "epoch: 100 loss:0.164202 auc:0.9058\n",
      "epoch: 120 loss:0.153566 auc:0.9065\n",
      "epoch: 140 loss:0.147709 auc:0.9072\n",
      "epoch: 160 loss:0.145274 auc:0.9072\n"
     ]
    },
    {
     "name": "stderr",
     "output_type": "stream",
     "text": [
      " 31%|███       | 280/910 [42:04<1:31:14,  8.69s/it]"
     ]
    },
    {
     "name": "stdout",
     "output_type": "stream",
     "text": [
      "epoch: 180 loss:0.143387 auc:0.9093\n",
      "Fit finished.\n",
      "epoch:   0 loss:0.901888 auc:0.8340\n",
      "epoch:  20 loss:0.289953 auc:0.9973\n",
      "epoch:  40 loss:0.225527 auc:0.9986\n",
      "epoch:  60 loss:0.186216 auc:1.0000\n",
      "epoch:  80 loss:0.172449 auc:0.9986\n",
      "epoch: 100 loss:0.162509 auc:0.9986\n",
      "epoch: 120 loss:0.151697 auc:0.9986\n",
      "epoch: 140 loss:0.148088 auc:0.9986\n",
      "epoch: 160 loss:0.145829 auc:0.9973\n",
      "epoch: 180 loss:0.144864 auc:0.9986\n",
      "epoch: 200 loss:0.143115 auc:0.9986\n"
     ]
    },
    {
     "name": "stderr",
     "output_type": "stream",
     "text": [
      " 31%|███       | 281/910 [42:12<1:28:26,  8.44s/it]"
     ]
    },
    {
     "name": "stdout",
     "output_type": "stream",
     "text": [
      "epoch: 220 loss:0.141809 auc:0.9986\n",
      "Fit finished.\n",
      "epoch:   0 loss:0.616964 auc:0.8199\n",
      "epoch:  20 loss:0.281420 auc:0.9972\n",
      "epoch:  40 loss:0.216082 auc:0.9917\n",
      "epoch:  60 loss:0.183500 auc:0.9917\n",
      "epoch:  80 loss:0.170524 auc:0.9889\n",
      "epoch: 100 loss:0.161846 auc:0.9889\n",
      "epoch: 120 loss:0.152982 auc:0.9889\n",
      "epoch: 140 loss:0.148646 auc:0.9889\n",
      "epoch: 160 loss:0.146473 auc:0.9889\n"
     ]
    },
    {
     "name": "stderr",
     "output_type": "stream",
     "text": [
      " 31%|███       | 282/910 [42:19<1:22:52,  7.92s/it]"
     ]
    },
    {
     "name": "stdout",
     "output_type": "stream",
     "text": [
      "epoch: 180 loss:0.144803 auc:0.9889\n",
      "Fit finished.\n",
      "epoch:   0 loss:0.500734 auc:0.4043\n",
      "epoch:  20 loss:0.209274 auc:0.9753\n",
      "epoch:  40 loss:0.177745 auc:0.9799\n",
      "epoch:  60 loss:0.166134 auc:0.9784\n",
      "epoch:  80 loss:0.152440 auc:0.9784\n",
      "epoch: 100 loss:0.147602 auc:0.9784\n",
      "epoch: 120 loss:0.145942 auc:0.9769\n",
      "epoch: 140 loss:0.142425 auc:0.9761\n",
      "epoch: 160 loss:0.140813 auc:0.9715\n"
     ]
    },
    {
     "name": "stderr",
     "output_type": "stream",
     "text": [
      " 31%|███       | 283/910 [42:25<1:18:57,  7.56s/it]"
     ]
    },
    {
     "name": "stdout",
     "output_type": "stream",
     "text": [
      "epoch: 180 loss:0.138137 auc:0.9645\n",
      "Fit finished.\n",
      "epoch:   0 loss:0.668628 auc:0.6990\n",
      "epoch:  20 loss:0.266051 auc:0.9694\n",
      "epoch:  40 loss:0.190671 auc:0.9694\n",
      "epoch:  60 loss:0.174754 auc:0.9643\n",
      "epoch:  80 loss:0.164630 auc:0.9643\n",
      "epoch: 100 loss:0.153257 auc:0.9643\n",
      "epoch: 120 loss:0.147842 auc:0.9643\n",
      "epoch: 140 loss:0.145434 auc:0.9643\n",
      "epoch: 160 loss:0.143707 auc:0.9643\n"
     ]
    },
    {
     "name": "stderr",
     "output_type": "stream",
     "text": [
      " 31%|███       | 284/910 [42:33<1:18:17,  7.50s/it]"
     ]
    },
    {
     "name": "stdout",
     "output_type": "stream",
     "text": [
      "epoch: 180 loss:0.142106 auc:0.9643\n",
      "Fit finished.\n",
      "epoch:   0 loss:0.780656 auc:0.1700\n",
      "epoch:  20 loss:0.243732 auc:0.9800\n",
      "epoch:  40 loss:0.187519 auc:0.9900\n",
      "epoch:  60 loss:0.174550 auc:0.9900\n",
      "epoch:  80 loss:0.167520 auc:0.9900\n",
      "epoch: 100 loss:0.158933 auc:0.9900\n",
      "epoch: 120 loss:0.149855 auc:0.9900\n",
      "epoch: 140 loss:0.146626 auc:0.9900\n",
      "epoch: 160 loss:0.144364 auc:0.9900\n",
      "epoch: 180 loss:0.145171 auc:0.9900\n",
      "epoch: 200 loss:0.140815 auc:0.9900\n",
      "epoch: 220 loss:0.138376 auc:0.9925\n",
      "epoch: 240 loss:0.137510 auc:0.9925\n",
      "epoch: 260 loss:0.135392 auc:0.9950\n",
      "epoch: 280 loss:0.145081 auc:0.9950\n",
      "epoch: 300 loss:0.133744 auc:0.9950\n",
      "epoch: 320 loss:0.131521 auc:0.9950\n",
      "epoch: 340 loss:0.130144 auc:0.9950\n",
      "epoch: 360 loss:0.133116 auc:0.9925\n",
      "epoch: 380 loss:0.126928 auc:0.9925\n",
      "epoch: 400 loss:0.125682 auc:0.9950\n"
     ]
    },
    {
     "name": "stderr",
     "output_type": "stream",
     "text": [
      " 31%|███▏      | 285/910 [42:49<1:44:48, 10.06s/it]"
     ]
    },
    {
     "name": "stdout",
     "output_type": "stream",
     "text": [
      "epoch: 420 loss:0.122962 auc:0.9925\n",
      "Fit finished.\n",
      "epoch:   0 loss:0.585593 auc:0.3774\n",
      "epoch:  20 loss:0.244408 auc:0.9979\n",
      "epoch:  40 loss:0.185662 auc:0.9965\n",
      "epoch:  60 loss:0.169326 auc:0.9972\n",
      "epoch:  80 loss:0.157422 auc:0.9979\n",
      "epoch: 100 loss:0.149393 auc:0.9979\n",
      "epoch: 120 loss:0.146201 auc:0.9979\n",
      "epoch: 140 loss:0.143878 auc:0.9979\n",
      "epoch: 160 loss:0.142885 auc:0.9972\n"
     ]
    },
    {
     "name": "stderr",
     "output_type": "stream",
     "text": [
      " 31%|███▏      | 286/910 [42:56<1:34:27,  9.08s/it]"
     ]
    },
    {
     "name": "stdout",
     "output_type": "stream",
     "text": [
      "epoch: 180 loss:0.139705 auc:0.9972\n",
      "Fit finished.\n",
      "epoch:   0 loss:0.923477 auc:0.3550\n",
      "epoch:  20 loss:0.277204 auc:0.9635\n",
      "epoch:  40 loss:0.206757 auc:0.9737\n",
      "epoch:  60 loss:0.180263 auc:0.9774\n",
      "epoch:  80 loss:0.170517 auc:0.9774\n",
      "epoch: 100 loss:0.161525 auc:0.9766\n",
      "epoch: 120 loss:0.151840 auc:0.9774\n",
      "epoch: 140 loss:0.148133 auc:0.9759\n",
      "epoch: 160 loss:0.145924 auc:0.9759\n",
      "epoch: 180 loss:0.144578 auc:0.9752\n",
      "epoch: 200 loss:0.143039 auc:0.9766\n",
      "epoch: 220 loss:0.142996 auc:0.9781\n",
      "epoch: 240 loss:0.139766 auc:0.9854\n"
     ]
    },
    {
     "name": "stderr",
     "output_type": "stream",
     "text": [
      " 32%|███▏      | 287/910 [43:06<1:38:20,  9.47s/it]"
     ]
    },
    {
     "name": "stdout",
     "output_type": "stream",
     "text": [
      "epoch: 260 loss:0.139792 auc:0.9701\n",
      "Fit finished.\n",
      "epoch:   0 loss:1.079165 auc:0.6062\n",
      "epoch:  20 loss:0.299278 auc:0.9122\n",
      "epoch:  40 loss:0.243093 auc:0.9181\n",
      "epoch:  60 loss:0.189521 auc:0.9176\n",
      "epoch:  80 loss:0.174314 auc:0.9153\n",
      "epoch: 100 loss:0.164707 auc:0.9163\n",
      "epoch: 120 loss:0.154390 auc:0.9176\n",
      "epoch: 140 loss:0.148496 auc:0.9163\n",
      "epoch: 160 loss:0.146263 auc:0.9163\n",
      "epoch: 180 loss:0.144621 auc:0.9144\n"
     ]
    },
    {
     "name": "stderr",
     "output_type": "stream",
     "text": [
      " 32%|███▏      | 288/910 [43:13<1:32:06,  8.89s/it]"
     ]
    },
    {
     "name": "stdout",
     "output_type": "stream",
     "text": [
      "epoch: 200 loss:0.143403 auc:0.9058\n",
      "Fit finished.\n",
      "epoch:   0 loss:0.669862 auc:0.8669\n",
      "epoch:  20 loss:0.268681 auc:0.9837\n",
      "epoch:  40 loss:0.202057 auc:0.9808\n",
      "epoch:  60 loss:0.177251 auc:0.9808\n",
      "epoch:  80 loss:0.164804 auc:0.9778\n",
      "epoch: 100 loss:0.153539 auc:0.9749\n",
      "epoch: 120 loss:0.148741 auc:0.9749\n",
      "epoch: 140 loss:0.146340 auc:0.9749\n",
      "epoch: 160 loss:0.144556 auc:0.9749\n"
     ]
    },
    {
     "name": "stderr",
     "output_type": "stream",
     "text": [
      " 32%|███▏      | 289/910 [43:20<1:24:08,  8.13s/it]"
     ]
    },
    {
     "name": "stdout",
     "output_type": "stream",
     "text": [
      "epoch: 180 loss:0.143522 auc:0.9749\n",
      "Fit finished.\n",
      "epoch:   0 loss:0.866343 auc:0.4719\n",
      "epoch:  20 loss:0.275680 auc:0.9911\n",
      "epoch:  40 loss:0.199431 auc:0.9956\n",
      "epoch:  60 loss:0.178325 auc:0.9941\n",
      "epoch:  80 loss:0.169355 auc:0.9941\n",
      "epoch: 100 loss:0.161534 auc:0.9941\n",
      "epoch: 120 loss:0.151763 auc:0.9941\n",
      "epoch: 140 loss:0.147718 auc:0.9941\n",
      "epoch: 160 loss:0.145498 auc:0.9941\n",
      "epoch: 180 loss:0.143563 auc:0.9956\n",
      "epoch: 200 loss:0.146375 auc:1.0000\n",
      "epoch: 220 loss:0.140699 auc:1.0000\n",
      "epoch: 240 loss:0.138706 auc:1.0000\n",
      "epoch: 260 loss:0.136974 auc:1.0000\n",
      "epoch: 280 loss:0.135822 auc:1.0000\n",
      "epoch: 300 loss:0.134546 auc:1.0000\n",
      "epoch: 320 loss:0.134246 auc:1.0000\n",
      "epoch: 340 loss:0.132289 auc:1.0000\n",
      "epoch: 360 loss:0.132018 auc:1.0000\n",
      "epoch: 380 loss:0.130765 auc:1.0000\n",
      "epoch: 400 loss:0.128460 auc:1.0000\n",
      "epoch: 420 loss:0.127846 auc:1.0000\n",
      "epoch: 440 loss:0.127456 auc:1.0000\n",
      "epoch: 460 loss:0.124651 auc:1.0000\n",
      "epoch: 480 loss:0.126190 auc:1.0000\n",
      "epoch: 500 loss:0.122470 auc:1.0000\n",
      "epoch: 520 loss:0.122413 auc:1.0000\n",
      "epoch: 540 loss:0.122920 auc:1.0000\n",
      "epoch: 560 loss:0.122143 auc:1.0000\n",
      "epoch: 580 loss:0.118122 auc:1.0000\n",
      "epoch: 600 loss:0.116816 auc:1.0000\n",
      "epoch: 620 loss:0.115892 auc:1.0000\n"
     ]
    },
    {
     "name": "stderr",
     "output_type": "stream",
     "text": [
      " 32%|███▏      | 290/910 [43:43<2:12:18, 12.80s/it]"
     ]
    },
    {
     "name": "stdout",
     "output_type": "stream",
     "text": [
      "epoch: 640 loss:0.141424 auc:0.9970\n",
      "Fit finished.\n",
      "epoch:   0 loss:0.958431 auc:0.9282\n",
      "epoch:  20 loss:0.285520 auc:0.9452\n",
      "epoch:  40 loss:0.221210 auc:0.9433\n",
      "epoch:  60 loss:0.184203 auc:0.9546\n",
      "epoch:  80 loss:0.172189 auc:0.9716\n",
      "epoch: 100 loss:0.163702 auc:0.9754\n",
      "epoch: 120 loss:0.153991 auc:0.9792\n",
      "epoch: 140 loss:0.148442 auc:0.9792\n",
      "epoch: 160 loss:0.146191 auc:0.9792\n",
      "epoch: 180 loss:0.144697 auc:0.9792\n",
      "epoch: 200 loss:0.143266 auc:0.9792\n",
      "epoch: 220 loss:0.142521 auc:0.9792\n",
      "epoch: 240 loss:0.140998 auc:0.9792\n",
      "epoch: 260 loss:0.140193 auc:0.9792\n"
     ]
    },
    {
     "name": "stderr",
     "output_type": "stream",
     "text": [
      " 32%|███▏      | 291/910 [43:54<2:05:34, 12.17s/it]"
     ]
    },
    {
     "name": "stdout",
     "output_type": "stream",
     "text": [
      "epoch: 280 loss:0.138719 auc:0.9773\n",
      "Fit finished.\n",
      "epoch:   0 loss:0.808528 auc:0.6675\n",
      "epoch:  20 loss:0.282194 auc:0.9600\n",
      "epoch:  40 loss:0.211240 auc:0.9675\n",
      "epoch:  60 loss:0.182433 auc:0.9750\n",
      "epoch:  80 loss:0.172406 auc:0.9750\n",
      "epoch: 100 loss:0.164089 auc:0.9725\n",
      "epoch: 120 loss:0.153496 auc:0.9725\n",
      "epoch: 140 loss:0.148051 auc:0.9725\n",
      "epoch: 160 loss:0.145684 auc:0.9725\n",
      "epoch: 180 loss:0.144001 auc:0.9725\n",
      "epoch: 200 loss:0.142617 auc:0.9725\n"
     ]
    },
    {
     "name": "stderr",
     "output_type": "stream",
     "text": [
      " 32%|███▏      | 292/910 [44:01<1:48:32, 10.54s/it]"
     ]
    },
    {
     "name": "stdout",
     "output_type": "stream",
     "text": [
      "epoch: 220 loss:0.141006 auc:0.9700\n",
      "Fit finished.\n",
      "epoch:   0 loss:0.785045 auc:0.3444\n",
      "epoch:  20 loss:0.279876 auc:0.9459\n",
      "epoch:  40 loss:0.197573 auc:0.9566\n",
      "epoch:  60 loss:0.178542 auc:0.9554\n",
      "epoch:  80 loss:0.168142 auc:0.9578\n",
      "epoch: 100 loss:0.157781 auc:0.9607\n",
      "epoch: 120 loss:0.149911 auc:0.9619\n",
      "epoch: 140 loss:0.147153 auc:0.9607\n",
      "epoch: 160 loss:0.145172 auc:0.9607\n",
      "epoch: 180 loss:0.143598 auc:0.9649\n",
      "epoch: 200 loss:0.141803 auc:0.9673\n",
      "epoch: 220 loss:0.140190 auc:0.9691\n",
      "epoch: 240 loss:0.138398 auc:0.9714\n",
      "epoch: 260 loss:0.137140 auc:0.9703\n"
     ]
    },
    {
     "name": "stderr",
     "output_type": "stream",
     "text": [
      " 32%|███▏      | 294/910 [44:11<1:22:00,  7.99s/it]"
     ]
    },
    {
     "name": "stdout",
     "output_type": "stream",
     "text": [
      "epoch: 280 loss:0.135978 auc:0.9613\n",
      "Fit finished.\n",
      "epoch:   0 loss:0.872200 auc:0.2921\n",
      "epoch:  20 loss:0.302738 auc:0.9441\n",
      "epoch:  40 loss:0.234417 auc:0.9506\n",
      "epoch:  60 loss:0.185619 auc:0.9548\n",
      "epoch:  80 loss:0.172486 auc:0.9548\n",
      "epoch: 100 loss:0.164279 auc:0.9542\n",
      "epoch: 120 loss:0.152826 auc:0.9548\n",
      "epoch: 140 loss:0.148264 auc:0.9548\n",
      "epoch: 160 loss:0.145766 auc:0.9530\n",
      "epoch: 180 loss:0.144005 auc:0.9554\n",
      "epoch: 200 loss:0.142178 auc:0.9536\n"
     ]
    },
    {
     "name": "stderr",
     "output_type": "stream",
     "text": [
      " 32%|███▏      | 295/910 [44:18<1:20:46,  7.88s/it]"
     ]
    },
    {
     "name": "stdout",
     "output_type": "stream",
     "text": [
      "epoch: 220 loss:0.141353 auc:0.9524\n",
      "Fit finished.\n",
      "epoch:   0 loss:0.459079 auc:0.3946\n",
      "epoch:  20 loss:0.235848 auc:0.9864\n",
      "epoch:  40 loss:0.183806 auc:0.9909\n",
      "epoch:  60 loss:0.169329 auc:0.9887\n",
      "epoch:  80 loss:0.157850 auc:0.9909\n",
      "epoch: 100 loss:0.149517 auc:0.9909\n",
      "epoch: 120 loss:0.146203 auc:0.9909\n",
      "epoch: 140 loss:0.143664 auc:0.9977\n",
      "epoch: 160 loss:0.141260 auc:0.9977\n",
      "epoch: 180 loss:0.138410 auc:0.9932\n"
     ]
    },
    {
     "name": "stderr",
     "output_type": "stream",
     "text": [
      " 33%|███▎      | 296/910 [44:26<1:19:49,  7.80s/it]"
     ]
    },
    {
     "name": "stdout",
     "output_type": "stream",
     "text": [
      "epoch: 200 loss:0.136385 auc:0.9887\n",
      "Fit finished.\n",
      "epoch:   0 loss:0.558164 auc:0.5576\n",
      "epoch:  20 loss:0.275323 auc:0.9941\n",
      "epoch:  40 loss:0.194195 auc:0.9932\n",
      "epoch:  60 loss:0.172823 auc:0.9893\n",
      "epoch:  80 loss:0.161941 auc:0.9893\n",
      "epoch: 100 loss:0.151290 auc:0.9912\n",
      "epoch: 120 loss:0.147708 auc:0.9902\n",
      "epoch: 140 loss:0.145303 auc:0.9902\n",
      "epoch: 160 loss:0.143638 auc:0.9902\n"
     ]
    },
    {
     "name": "stderr",
     "output_type": "stream",
     "text": [
      " 33%|███▎      | 297/910 [44:33<1:17:24,  7.58s/it]"
     ]
    },
    {
     "name": "stdout",
     "output_type": "stream",
     "text": [
      "epoch: 180 loss:0.141492 auc:0.9873\n",
      "Fit finished.\n",
      "epoch:   0 loss:0.474957 auc:0.6775\n",
      "epoch:  20 loss:0.256625 auc:0.9822\n",
      "epoch:  40 loss:0.190348 auc:0.9793\n",
      "epoch:  60 loss:0.174334 auc:0.9749\n",
      "epoch:  80 loss:0.164697 auc:0.9763\n",
      "epoch: 100 loss:0.152269 auc:0.9763\n",
      "epoch: 120 loss:0.147273 auc:0.9763\n",
      "epoch: 140 loss:0.144586 auc:0.9763\n",
      "epoch: 160 loss:0.142911 auc:0.9763\n",
      "epoch: 180 loss:0.140403 auc:0.9837\n",
      "epoch: 200 loss:0.138851 auc:0.9882\n",
      "epoch: 220 loss:0.136612 auc:0.9896\n",
      "epoch: 240 loss:0.137843 auc:0.9822\n",
      "epoch: 260 loss:0.133896 auc:0.9867\n",
      "epoch: 280 loss:0.132471 auc:0.9911\n",
      "epoch: 300 loss:0.130449 auc:0.9852\n",
      "epoch: 320 loss:0.128359 auc:0.9852\n",
      "epoch: 340 loss:0.126633 auc:0.9852\n"
     ]
    },
    {
     "name": "stderr",
     "output_type": "stream",
     "text": [
      " 33%|███▎      | 298/910 [44:47<1:36:00,  9.41s/it]"
     ]
    },
    {
     "name": "stdout",
     "output_type": "stream",
     "text": [
      "epoch: 360 loss:0.125495 auc:0.9808\n",
      "Fit finished.\n",
      "epoch:   0 loss:0.673557 auc:0.7904\n",
      "epoch:  20 loss:0.248202 auc:0.9712\n",
      "epoch:  40 loss:0.189203 auc:0.9808\n",
      "epoch:  60 loss:0.176057 auc:0.9776\n",
      "epoch:  80 loss:0.168894 auc:0.9760\n",
      "epoch: 100 loss:0.161209 auc:0.9760\n",
      "epoch: 120 loss:0.152367 auc:0.9760\n",
      "epoch: 140 loss:0.148189 auc:0.9760\n",
      "epoch: 160 loss:0.145735 auc:0.9760\n",
      "epoch: 180 loss:0.143797 auc:0.9792\n"
     ]
    },
    {
     "name": "stderr",
     "output_type": "stream",
     "text": [
      " 33%|███▎      | 299/910 [44:55<1:30:23,  8.88s/it]"
     ]
    },
    {
     "name": "stdout",
     "output_type": "stream",
     "text": [
      "epoch: 200 loss:0.142147 auc:0.9792\n",
      "Fit finished.\n",
      "epoch:   0 loss:0.646797 auc:0.8002\n",
      "epoch:  20 loss:0.277658 auc:0.9490\n",
      "epoch:  40 loss:0.201439 auc:0.9464\n",
      "epoch:  60 loss:0.176519 auc:0.9455\n",
      "epoch:  80 loss:0.164001 auc:0.9412\n",
      "epoch: 100 loss:0.151860 auc:0.9412\n",
      "epoch: 120 loss:0.147648 auc:0.9420\n",
      "epoch: 140 loss:0.145233 auc:0.9420\n",
      "epoch: 160 loss:0.144589 auc:0.9420\n"
     ]
    },
    {
     "name": "stderr",
     "output_type": "stream",
     "text": [
      " 33%|███▎      | 300/910 [45:01<1:23:45,  8.24s/it]"
     ]
    },
    {
     "name": "stdout",
     "output_type": "stream",
     "text": [
      "epoch: 180 loss:0.142478 auc:0.9429\n",
      "Fit finished.\n",
      "epoch:   0 loss:0.807020 auc:0.4740\n",
      "epoch:  20 loss:0.290557 auc:0.9637\n",
      "epoch:  40 loss:0.212727 auc:0.9732\n",
      "epoch:  60 loss:0.179823 auc:0.9749\n",
      "epoch:  80 loss:0.169258 auc:0.9758\n",
      "epoch: 100 loss:0.160879 auc:0.9758\n",
      "epoch: 120 loss:0.152000 auc:0.9758\n",
      "epoch: 140 loss:0.148058 auc:0.9758\n",
      "epoch: 160 loss:0.145745 auc:0.9749\n",
      "epoch: 180 loss:0.144756 auc:0.9749\n",
      "epoch: 200 loss:0.142250 auc:0.9732\n"
     ]
    },
    {
     "name": "stderr",
     "output_type": "stream",
     "text": [
      " 33%|███▎      | 301/910 [45:09<1:23:08,  8.19s/it]"
     ]
    },
    {
     "name": "stdout",
     "output_type": "stream",
     "text": [
      "epoch: 220 loss:0.140971 auc:0.9715\n",
      "Fit finished.\n",
      "epoch:   0 loss:0.601339 auc:0.3753\n",
      "epoch:  20 loss:0.222795 auc:0.9827\n",
      "epoch:  40 loss:0.178848 auc:0.9896\n",
      "epoch:  60 loss:0.166564 auc:0.9882\n",
      "epoch:  80 loss:0.154419 auc:0.9889\n",
      "epoch: 100 loss:0.148250 auc:0.9896\n",
      "epoch: 120 loss:0.145398 auc:0.9868\n",
      "epoch: 140 loss:0.144551 auc:0.9875\n",
      "epoch: 160 loss:0.141433 auc:0.9799\n"
     ]
    },
    {
     "name": "stderr",
     "output_type": "stream",
     "text": [
      " 33%|███▎      | 302/910 [45:16<1:19:13,  7.82s/it]"
     ]
    },
    {
     "name": "stdout",
     "output_type": "stream",
     "text": [
      "epoch: 180 loss:0.138784 auc:0.9778\n",
      "Fit finished.\n",
      "epoch:   0 loss:0.817847 auc:0.2886\n",
      "epoch:  20 loss:0.277864 auc:0.9507\n",
      "epoch:  40 loss:0.202025 auc:0.9579\n",
      "epoch:  60 loss:0.178355 auc:0.9606\n",
      "epoch:  80 loss:0.168538 auc:0.9612\n",
      "epoch: 100 loss:0.158838 auc:0.9599\n",
      "epoch: 120 loss:0.149306 auc:0.9606\n",
      "epoch: 140 loss:0.146655 auc:0.9586\n",
      "epoch: 160 loss:0.144287 auc:0.9579\n",
      "epoch: 180 loss:0.143067 auc:0.9560\n"
     ]
    },
    {
     "name": "stderr",
     "output_type": "stream",
     "text": [
      " 33%|███▎      | 303/910 [45:24<1:17:12,  7.63s/it]"
     ]
    },
    {
     "name": "stdout",
     "output_type": "stream",
     "text": [
      "epoch: 200 loss:0.144443 auc:0.9533\n",
      "Fit finished.\n",
      "epoch:   0 loss:0.694361 auc:0.5489\n",
      "epoch:  20 loss:0.258800 auc:0.9967\n",
      "epoch:  40 loss:0.191997 auc:0.9967\n",
      "epoch:  60 loss:0.175513 auc:0.9978\n",
      "epoch:  80 loss:0.166476 auc:0.9978\n",
      "epoch: 100 loss:0.156750 auc:0.9978\n",
      "epoch: 120 loss:0.149464 auc:0.9967\n",
      "epoch: 140 loss:0.146683 auc:0.9967\n",
      "epoch: 160 loss:0.144749 auc:0.9956\n"
     ]
    },
    {
     "name": "stderr",
     "output_type": "stream",
     "text": [
      " 33%|███▎      | 304/910 [45:30<1:14:41,  7.40s/it]"
     ]
    },
    {
     "name": "stdout",
     "output_type": "stream",
     "text": [
      "epoch: 180 loss:0.144845 auc:0.9956\n",
      "Fit finished.\n",
      "epoch:   0 loss:0.641692 auc:0.0945\n",
      "epoch:  20 loss:0.202775 auc:0.9811\n",
      "epoch:  40 loss:0.172742 auc:0.9716\n",
      "epoch:  60 loss:0.158275 auc:0.9660\n",
      "epoch:  80 loss:0.149001 auc:0.9660\n",
      "epoch: 100 loss:0.145357 auc:0.9660\n",
      "epoch: 120 loss:0.143133 auc:0.9660\n",
      "epoch: 140 loss:0.140337 auc:0.9622\n",
      "epoch: 160 loss:0.137230 auc:0.9319\n"
     ]
    },
    {
     "name": "stderr",
     "output_type": "stream",
     "text": [
      " 34%|███▎      | 305/910 [45:37<1:12:40,  7.21s/it]"
     ]
    },
    {
     "name": "stdout",
     "output_type": "stream",
     "text": [
      "epoch: 180 loss:0.136004 auc:0.9395\n",
      "Fit finished.\n",
      "epoch:   0 loss:0.648896 auc:0.2130\n",
      "epoch:  20 loss:0.241157 auc:0.9704\n",
      "epoch:  40 loss:0.186117 auc:0.9882\n",
      "epoch:  60 loss:0.172534 auc:0.9882\n",
      "epoch:  80 loss:0.164251 auc:0.9822\n",
      "epoch: 100 loss:0.153247 auc:0.9882\n",
      "epoch: 120 loss:0.148389 auc:0.9882\n",
      "epoch: 140 loss:0.145791 auc:0.9822\n",
      "epoch: 160 loss:0.143807 auc:0.9941\n",
      "epoch: 180 loss:0.142256 auc:0.9882\n",
      "epoch: 200 loss:0.141231 auc:0.9882\n",
      "epoch: 220 loss:0.138573 auc:0.9941\n",
      "epoch: 240 loss:0.137550 auc:0.9941\n",
      "epoch: 260 loss:0.138071 auc:0.9882\n",
      "epoch: 280 loss:0.135910 auc:0.9941\n",
      "epoch: 300 loss:0.130931 auc:0.9941\n",
      "epoch: 320 loss:0.129025 auc:0.9941\n",
      "epoch: 340 loss:0.128191 auc:0.9882\n"
     ]
    },
    {
     "name": "stderr",
     "output_type": "stream",
     "text": [
      " 34%|███▎      | 306/910 [45:50<1:30:51,  9.03s/it]"
     ]
    },
    {
     "name": "stdout",
     "output_type": "stream",
     "text": [
      "epoch: 360 loss:0.127976 auc:0.9763\n",
      "Fit finished.\n",
      "epoch:   0 loss:0.716486 auc:0.2622\n",
      "epoch:  20 loss:0.267541 auc:0.9861\n",
      "epoch:  40 loss:0.193088 auc:0.9896\n",
      "epoch:  60 loss:0.176817 auc:0.9896\n",
      "epoch:  80 loss:0.167663 auc:0.9896\n",
      "epoch: 100 loss:0.158185 auc:0.9896\n",
      "epoch: 120 loss:0.149473 auc:0.9896\n",
      "epoch: 140 loss:0.146377 auc:0.9896\n",
      "epoch: 160 loss:0.144098 auc:0.9878\n",
      "epoch: 180 loss:0.142079 auc:0.9861\n"
     ]
    },
    {
     "name": "stderr",
     "output_type": "stream",
     "text": [
      " 34%|███▎      | 307/910 [45:58<1:26:00,  8.56s/it]"
     ]
    },
    {
     "name": "stdout",
     "output_type": "stream",
     "text": [
      "epoch: 200 loss:0.140718 auc:0.9809\n",
      "Fit finished.\n",
      "epoch:   0 loss:0.589142 auc:0.6397\n",
      "epoch:  20 loss:0.247149 auc:1.0000\n",
      "epoch:  40 loss:0.188316 auc:1.0000\n",
      "epoch:  60 loss:0.175111 auc:1.0000\n",
      "epoch:  80 loss:0.165751 auc:1.0000\n",
      "epoch: 100 loss:0.154568 auc:1.0000\n",
      "epoch: 120 loss:0.148719 auc:1.0000\n",
      "epoch: 140 loss:0.145821 auc:1.0000\n",
      "epoch: 160 loss:0.144524 auc:0.9988\n"
     ]
    },
    {
     "name": "stderr",
     "output_type": "stream",
     "text": [
      " 34%|███▍      | 308/910 [46:05<1:20:56,  8.07s/it]"
     ]
    },
    {
     "name": "stdout",
     "output_type": "stream",
     "text": [
      "epoch: 180 loss:0.141577 auc:0.9988\n",
      "Fit finished.\n",
      "epoch:   0 loss:0.800004 auc:0.1837\n",
      "epoch:  20 loss:0.241837 auc:0.9286\n",
      "epoch:  40 loss:0.188065 auc:0.9388\n",
      "epoch:  60 loss:0.170722 auc:0.9337\n",
      "epoch:  80 loss:0.160374 auc:0.9592\n",
      "epoch: 100 loss:0.151057 auc:0.9592\n",
      "epoch: 120 loss:0.147624 auc:0.9592\n",
      "epoch: 140 loss:0.145283 auc:0.9592\n",
      "epoch: 160 loss:0.144034 auc:0.9592\n",
      "epoch: 180 loss:0.141379 auc:0.9592\n",
      "epoch: 200 loss:0.139515 auc:0.9592\n",
      "epoch: 220 loss:0.138701 auc:0.9592\n",
      "epoch: 240 loss:0.135431 auc:0.9592\n"
     ]
    },
    {
     "name": "stderr",
     "output_type": "stream",
     "text": [
      " 34%|███▍      | 309/910 [46:14<1:25:27,  8.53s/it]"
     ]
    },
    {
     "name": "stdout",
     "output_type": "stream",
     "text": [
      "epoch: 260 loss:0.134788 auc:0.9541\n",
      "Fit finished.\n",
      "epoch:   0 loss:0.730444 auc:0.2098\n",
      "epoch:  20 loss:0.261679 auc:0.9773\n",
      "epoch:  40 loss:0.190168 auc:0.9811\n",
      "epoch:  60 loss:0.172355 auc:0.9792\n",
      "epoch:  80 loss:0.161796 auc:0.9773\n",
      "epoch: 100 loss:0.151143 auc:0.9773\n",
      "epoch: 120 loss:0.147401 auc:0.9773\n",
      "epoch: 140 loss:0.145730 auc:0.9754\n",
      "epoch: 160 loss:0.143760 auc:0.9754\n",
      "epoch: 180 loss:0.141361 auc:0.9773\n"
     ]
    },
    {
     "name": "stderr",
     "output_type": "stream",
     "text": [
      " 34%|███▍      | 310/910 [46:22<1:21:31,  8.15s/it]"
     ]
    },
    {
     "name": "stdout",
     "output_type": "stream",
     "text": [
      "epoch: 200 loss:0.139782 auc:0.9754\n",
      "Fit finished.\n",
      "epoch:   0 loss:0.540066 auc:0.1958\n",
      "epoch:  20 loss:0.254147 auc:1.0000\n",
      "epoch:  40 loss:0.188992 auc:1.0000\n",
      "epoch:  60 loss:0.172515 auc:1.0000\n",
      "epoch:  80 loss:0.160807 auc:1.0000\n",
      "epoch: 100 loss:0.149674 auc:1.0000\n",
      "epoch: 120 loss:0.146005 auc:1.0000\n",
      "epoch: 140 loss:0.143847 auc:0.9978\n",
      "epoch: 160 loss:0.141019 auc:0.9962\n"
     ]
    },
    {
     "name": "stderr",
     "output_type": "stream",
     "text": [
      " 34%|███▍      | 311/910 [46:29<1:18:36,  7.87s/it]"
     ]
    },
    {
     "name": "stdout",
     "output_type": "stream",
     "text": [
      "epoch: 180 loss:0.139604 auc:0.9924\n",
      "Fit finished.\n",
      "epoch:   0 loss:0.858172 auc:0.7846\n",
      "epoch:  20 loss:0.270095 auc:0.9546\n",
      "epoch:  40 loss:0.201872 auc:0.9569\n",
      "epoch:  60 loss:0.179622 auc:0.9569\n",
      "epoch:  80 loss:0.170742 auc:0.9546\n",
      "epoch: 100 loss:0.162717 auc:0.9524\n",
      "epoch: 120 loss:0.153178 auc:0.9524\n",
      "epoch: 140 loss:0.148465 auc:0.9524\n",
      "epoch: 160 loss:0.146205 auc:0.9569\n",
      "epoch: 180 loss:0.144552 auc:0.9546\n"
     ]
    },
    {
     "name": "stderr",
     "output_type": "stream",
     "text": [
      " 34%|███▍      | 312/910 [46:37<1:17:28,  7.77s/it]"
     ]
    },
    {
     "name": "stdout",
     "output_type": "stream",
     "text": [
      "epoch: 200 loss:0.143530 auc:0.9501\n",
      "Fit finished.\n",
      "epoch:   0 loss:0.799284 auc:0.3719\n",
      "epoch:  20 loss:0.280704 auc:0.9592\n",
      "epoch:  40 loss:0.208288 auc:0.9615\n",
      "epoch:  60 loss:0.179226 auc:0.9592\n",
      "epoch:  80 loss:0.167969 auc:0.9705\n",
      "epoch: 100 loss:0.157635 auc:0.9705\n",
      "epoch: 120 loss:0.149206 auc:0.9705\n",
      "epoch: 140 loss:0.146502 auc:0.9705\n",
      "epoch: 160 loss:0.144604 auc:0.9705\n",
      "epoch: 180 loss:0.142951 auc:0.9705\n",
      "epoch: 200 loss:0.142956 auc:0.9728\n",
      "epoch: 220 loss:0.140589 auc:0.9751\n",
      "epoch: 240 loss:0.138794 auc:0.9705\n",
      "epoch: 260 loss:0.136884 auc:0.9751\n",
      "epoch: 280 loss:0.136036 auc:0.9728\n",
      "epoch: 300 loss:0.134147 auc:0.9705\n",
      "epoch: 320 loss:0.135249 auc:0.9728\n"
     ]
    },
    {
     "name": "stderr",
     "output_type": "stream",
     "text": [
      " 34%|███▍      | 313/910 [46:48<1:28:32,  8.90s/it]"
     ]
    },
    {
     "name": "stdout",
     "output_type": "stream",
     "text": [
      "epoch: 340 loss:0.131647 auc:0.9660\n",
      "Fit finished.\n",
      "epoch:   0 loss:0.691069 auc:0.4423\n",
      "epoch:  20 loss:0.293285 auc:0.9988\n",
      "epoch:  40 loss:0.222193 auc:1.0000\n",
      "epoch:  60 loss:0.183090 auc:1.0000\n",
      "epoch:  80 loss:0.170890 auc:0.9988\n",
      "epoch: 100 loss:0.160598 auc:0.9988\n",
      "epoch: 120 loss:0.149509 auc:1.0000\n",
      "epoch: 140 loss:0.146549 auc:0.9988\n",
      "epoch: 160 loss:0.144354 auc:1.0000\n"
     ]
    },
    {
     "name": "stderr",
     "output_type": "stream",
     "text": [
      " 35%|███▍      | 315/910 [46:55<1:03:13,  6.38s/it]"
     ]
    },
    {
     "name": "stdout",
     "output_type": "stream",
     "text": [
      "epoch: 180 loss:0.142406 auc:0.9976\n",
      "Fit finished.\n",
      "epoch:   0 loss:1.116296 auc:0.4300\n",
      "epoch:  20 loss:0.284241 auc:0.9406\n",
      "epoch:  40 loss:0.215231 auc:0.9406\n",
      "epoch:  60 loss:0.183780 auc:0.9381\n",
      "epoch:  80 loss:0.171679 auc:0.9381\n",
      "epoch: 100 loss:0.163057 auc:0.9394\n",
      "epoch: 120 loss:0.153813 auc:0.9387\n",
      "epoch: 140 loss:0.149151 auc:0.9381\n",
      "epoch: 160 loss:0.146857 auc:0.9356\n"
     ]
    },
    {
     "name": "stderr",
     "output_type": "stream",
     "text": [
      " 35%|███▍      | 316/910 [47:01<1:02:20,  6.30s/it]"
     ]
    },
    {
     "name": "stdout",
     "output_type": "stream",
     "text": [
      "epoch: 180 loss:0.145114 auc:0.9350\n",
      "Fit finished.\n",
      "epoch:   0 loss:1.198513 auc:0.4866\n",
      "epoch:  20 loss:0.301402 auc:0.9160\n",
      "epoch:  40 loss:0.246375 auc:0.9239\n",
      "epoch:  60 loss:0.192590 auc:0.9235\n",
      "epoch:  80 loss:0.178428 auc:0.9256\n",
      "epoch: 100 loss:0.169678 auc:0.9263\n",
      "epoch: 120 loss:0.162258 auc:0.9256\n",
      "epoch: 140 loss:0.153040 auc:0.9259\n",
      "epoch: 160 loss:0.147952 auc:0.9208\n",
      "epoch: 180 loss:0.145730 auc:0.9170\n"
     ]
    },
    {
     "name": "stderr",
     "output_type": "stream",
     "text": [
      " 35%|███▍      | 317/910 [47:09<1:06:12,  6.70s/it]"
     ]
    },
    {
     "name": "stdout",
     "output_type": "stream",
     "text": [
      "epoch: 200 loss:0.144666 auc:0.9084\n",
      "Fit finished.\n",
      "epoch:   0 loss:0.980097 auc:0.5300\n",
      "epoch:  20 loss:0.281439 auc:0.9745\n",
      "epoch:  40 loss:0.204207 auc:0.9785\n",
      "epoch:  60 loss:0.178086 auc:0.9813\n",
      "epoch:  80 loss:0.167148 auc:0.9819\n",
      "epoch: 100 loss:0.157011 auc:0.9807\n",
      "epoch: 120 loss:0.149616 auc:0.9807\n",
      "epoch: 140 loss:0.146799 auc:0.9813\n",
      "epoch: 160 loss:0.144903 auc:0.9819\n",
      "epoch: 180 loss:0.143897 auc:0.9813\n"
     ]
    },
    {
     "name": "stderr",
     "output_type": "stream",
     "text": [
      " 35%|███▍      | 318/910 [47:16<1:08:25,  6.94s/it]"
     ]
    },
    {
     "name": "stdout",
     "output_type": "stream",
     "text": [
      "epoch: 200 loss:0.141617 auc:0.9773\n",
      "Fit finished.\n",
      "epoch:   0 loss:1.046966 auc:0.1116\n",
      "epoch:  20 loss:0.279026 auc:0.9541\n",
      "epoch:  40 loss:0.201849 auc:0.9574\n",
      "epoch:  60 loss:0.177415 auc:0.9604\n",
      "epoch:  80 loss:0.166624 auc:0.9602\n",
      "epoch: 100 loss:0.154147 auc:0.9609\n",
      "epoch: 120 loss:0.148807 auc:0.9620\n",
      "epoch: 140 loss:0.145594 auc:0.9594\n",
      "epoch: 160 loss:0.145258 auc:0.9433\n"
     ]
    },
    {
     "name": "stderr",
     "output_type": "stream",
     "text": [
      " 35%|███▌      | 319/910 [47:23<1:07:26,  6.85s/it]"
     ]
    },
    {
     "name": "stdout",
     "output_type": "stream",
     "text": [
      "epoch: 180 loss:0.141605 auc:0.9138\n",
      "Fit finished.\n",
      "epoch:   0 loss:0.684369 auc:0.5945\n",
      "epoch:  20 loss:0.238305 auc:0.9822\n",
      "epoch:  40 loss:0.187855 auc:0.9845\n",
      "epoch:  60 loss:0.175421 auc:0.9810\n",
      "epoch:  80 loss:0.168737 auc:0.9845\n",
      "epoch: 100 loss:0.160315 auc:0.9845\n",
      "epoch: 120 loss:0.150444 auc:0.9834\n",
      "epoch: 140 loss:0.146334 auc:0.9857\n",
      "epoch: 160 loss:0.147140 auc:0.9857\n",
      "epoch: 180 loss:0.142128 auc:0.9857\n",
      "epoch: 200 loss:0.139812 auc:0.9869\n",
      "epoch: 220 loss:0.137409 auc:0.9822\n"
     ]
    },
    {
     "name": "stderr",
     "output_type": "stream",
     "text": [
      " 35%|███▌      | 320/910 [47:33<1:15:54,  7.72s/it]"
     ]
    },
    {
     "name": "stdout",
     "output_type": "stream",
     "text": [
      "epoch: 240 loss:0.136834 auc:0.9738\n",
      "Fit finished.\n",
      "epoch:   0 loss:0.675782 auc:0.5848\n",
      "epoch:  20 loss:0.291718 auc:0.9813\n",
      "epoch:  40 loss:0.217678 auc:0.9829\n",
      "epoch:  60 loss:0.182880 auc:0.9829\n",
      "epoch:  80 loss:0.170929 auc:0.9842\n",
      "epoch: 100 loss:0.161597 auc:0.9833\n",
      "epoch: 120 loss:0.151741 auc:0.9833\n",
      "epoch: 140 loss:0.147960 auc:0.9838\n",
      "epoch: 160 loss:0.145793 auc:0.9846\n",
      "epoch: 180 loss:0.144172 auc:0.9854\n",
      "epoch: 200 loss:0.143355 auc:0.9846\n"
     ]
    },
    {
     "name": "stderr",
     "output_type": "stream",
     "text": [
      " 35%|███▌      | 321/910 [47:42<1:19:06,  8.06s/it]"
     ]
    },
    {
     "name": "stdout",
     "output_type": "stream",
     "text": [
      "epoch: 220 loss:0.141609 auc:0.9821\n",
      "Fit finished.\n",
      "epoch:   0 loss:0.739875 auc:0.6785\n",
      "epoch:  20 loss:0.272687 auc:0.9844\n",
      "epoch:  40 loss:0.197078 auc:0.9834\n",
      "epoch:  60 loss:0.176242 auc:0.9813\n",
      "epoch:  80 loss:0.164877 auc:0.9813\n",
      "epoch: 100 loss:0.153604 auc:0.9844\n",
      "epoch: 120 loss:0.148377 auc:0.9854\n",
      "epoch: 140 loss:0.145955 auc:0.9834\n",
      "epoch: 160 loss:0.143775 auc:0.9844\n",
      "epoch: 180 loss:0.145490 auc:0.9865\n"
     ]
    },
    {
     "name": "stderr",
     "output_type": "stream",
     "text": [
      " 35%|███▌      | 322/910 [47:49<1:17:13,  7.88s/it]"
     ]
    },
    {
     "name": "stdout",
     "output_type": "stream",
     "text": [
      "epoch: 200 loss:0.141176 auc:0.9719\n",
      "Fit finished.\n",
      "epoch:   0 loss:0.987069 auc:0.4883\n",
      "epoch:  20 loss:0.271751 auc:0.9808\n",
      "epoch:  40 loss:0.195052 auc:0.9945\n",
      "epoch:  60 loss:0.179500 auc:0.9945\n",
      "epoch:  80 loss:0.171914 auc:0.9945\n",
      "epoch: 100 loss:0.165767 auc:0.9945\n",
      "epoch: 120 loss:0.157551 auc:0.9945\n",
      "epoch: 140 loss:0.150124 auc:0.9959\n",
      "epoch: 160 loss:0.147321 auc:0.9959\n",
      "epoch: 180 loss:0.145415 auc:0.9959\n",
      "epoch: 200 loss:0.143715 auc:0.9973\n",
      "epoch: 220 loss:0.142144 auc:0.9959\n"
     ]
    },
    {
     "name": "stderr",
     "output_type": "stream",
     "text": [
      " 35%|███▌      | 323/910 [47:57<1:16:17,  7.80s/it]"
     ]
    },
    {
     "name": "stdout",
     "output_type": "stream",
     "text": [
      "epoch: 240 loss:0.140190 auc:0.9931\n",
      "Fit finished.\n",
      "epoch:   0 loss:0.680234 auc:0.0677\n",
      "epoch:  20 loss:0.246018 auc:0.9705\n",
      "epoch:  40 loss:0.186219 auc:0.9774\n",
      "epoch:  60 loss:0.172029 auc:0.9740\n",
      "epoch:  80 loss:0.162008 auc:0.9757\n",
      "epoch: 100 loss:0.150334 auc:0.9757\n",
      "epoch: 120 loss:0.146522 auc:0.9757\n",
      "epoch: 140 loss:0.144098 auc:0.9774\n",
      "epoch: 160 loss:0.142001 auc:0.9774\n",
      "epoch: 180 loss:0.145964 auc:0.9774\n"
     ]
    },
    {
     "name": "stderr",
     "output_type": "stream",
     "text": [
      " 36%|███▌      | 324/910 [48:05<1:18:29,  8.04s/it]"
     ]
    },
    {
     "name": "stdout",
     "output_type": "stream",
     "text": [
      "epoch: 200 loss:0.138143 auc:0.9757\n",
      "Fit finished.\n",
      "epoch:   0 loss:0.795689 auc:0.3089\n",
      "epoch:  20 loss:0.242362 auc:0.9529\n",
      "epoch:  40 loss:0.184541 auc:0.9578\n",
      "epoch:  60 loss:0.173689 auc:0.9640\n",
      "epoch:  80 loss:0.165734 auc:0.9619\n",
      "epoch: 100 loss:0.153825 auc:0.9619\n",
      "epoch: 120 loss:0.147414 auc:0.9626\n",
      "epoch: 140 loss:0.144691 auc:0.9612\n",
      "epoch: 160 loss:0.142991 auc:0.9557\n"
     ]
    },
    {
     "name": "stderr",
     "output_type": "stream",
     "text": [
      " 36%|███▌      | 325/910 [48:12<1:14:09,  7.61s/it]"
     ]
    },
    {
     "name": "stdout",
     "output_type": "stream",
     "text": [
      "epoch: 180 loss:0.141085 auc:0.9148\n",
      "Fit finished.\n",
      "epoch:   0 loss:0.922672 auc:0.2715\n",
      "epoch:  20 loss:0.293264 auc:0.9475\n",
      "epoch:  40 loss:0.226622 auc:0.9497\n",
      "epoch:  60 loss:0.185990 auc:0.9524\n",
      "epoch:  80 loss:0.172524 auc:0.9535\n",
      "epoch: 100 loss:0.164106 auc:0.9535\n",
      "epoch: 120 loss:0.154021 auc:0.9540\n",
      "epoch: 140 loss:0.148709 auc:0.9529\n",
      "epoch: 160 loss:0.146189 auc:0.9540\n",
      "epoch: 180 loss:0.144294 auc:0.9546\n",
      "epoch: 200 loss:0.146960 auc:0.9524\n"
     ]
    },
    {
     "name": "stderr",
     "output_type": "stream",
     "text": [
      " 36%|███▌      | 326/910 [48:21<1:17:07,  7.92s/it]"
     ]
    },
    {
     "name": "stdout",
     "output_type": "stream",
     "text": [
      "epoch: 220 loss:0.141976 auc:0.9378\n",
      "Fit finished.\n",
      "epoch:   0 loss:0.557963 auc:0.2188\n",
      "epoch:  20 loss:0.231736 auc:1.0000\n",
      "epoch:  40 loss:0.181593 auc:1.0000\n",
      "epoch:  60 loss:0.169901 auc:1.0000\n",
      "epoch:  80 loss:0.159917 auc:1.0000\n",
      "epoch: 100 loss:0.149906 auc:1.0000\n",
      "epoch: 120 loss:0.146408 auc:1.0000\n",
      "epoch: 140 loss:0.143849 auc:1.0000\n",
      "epoch: 160 loss:0.143572 auc:1.0000\n"
     ]
    },
    {
     "name": "stderr",
     "output_type": "stream",
     "text": [
      " 36%|███▌      | 327/910 [48:28<1:14:01,  7.62s/it]"
     ]
    },
    {
     "name": "stdout",
     "output_type": "stream",
     "text": [
      "epoch: 180 loss:0.139413 auc:0.9972\n",
      "Fit finished.\n",
      "epoch:   0 loss:0.758539 auc:0.5444\n",
      "epoch:  20 loss:0.292071 auc:0.9822\n",
      "epoch:  40 loss:0.223580 auc:0.9852\n",
      "epoch:  60 loss:0.183589 auc:0.9867\n",
      "epoch:  80 loss:0.170061 auc:0.9852\n",
      "epoch: 100 loss:0.161109 auc:0.9852\n",
      "epoch: 120 loss:0.152261 auc:0.9852\n",
      "epoch: 140 loss:0.148100 auc:0.9852\n",
      "epoch: 160 loss:0.146004 auc:0.9852\n",
      "epoch: 180 loss:0.144428 auc:0.9852\n",
      "epoch: 200 loss:0.143328 auc:0.9852\n"
     ]
    },
    {
     "name": "stderr",
     "output_type": "stream",
     "text": [
      " 36%|███▌      | 328/910 [48:36<1:15:30,  7.78s/it]"
     ]
    },
    {
     "name": "stdout",
     "output_type": "stream",
     "text": [
      "epoch: 220 loss:0.141660 auc:0.9837\n",
      "Fit finished.\n",
      "epoch:   0 loss:0.581505 auc:0.4784\n",
      "epoch:  20 loss:0.251888 auc:0.9660\n",
      "epoch:  40 loss:0.186284 auc:0.9599\n",
      "epoch:  60 loss:0.172274 auc:0.9599\n",
      "epoch:  80 loss:0.163152 auc:0.9568\n",
      "epoch: 100 loss:0.151760 auc:0.9568\n",
      "epoch: 120 loss:0.147159 auc:0.9568\n",
      "epoch: 140 loss:0.144298 auc:0.9537\n",
      "epoch: 160 loss:0.144897 auc:0.9537\n"
     ]
    },
    {
     "name": "stderr",
     "output_type": "stream",
     "text": [
      " 36%|███▌      | 329/910 [48:43<1:13:51,  7.63s/it]"
     ]
    },
    {
     "name": "stdout",
     "output_type": "stream",
     "text": [
      "epoch: 180 loss:0.140358 auc:0.9321\n",
      "Fit finished.\n",
      "epoch:   0 loss:0.906532 auc:0.4455\n",
      "epoch:  20 loss:0.268771 auc:0.9602\n",
      "epoch:  40 loss:0.193434 auc:0.9645\n",
      "epoch:  60 loss:0.176055 auc:0.9637\n",
      "epoch:  80 loss:0.167827 auc:0.9628\n",
      "epoch: 100 loss:0.159416 auc:0.9637\n",
      "epoch: 120 loss:0.149880 auc:0.9619\n",
      "epoch: 140 loss:0.146887 auc:0.9619\n",
      "epoch: 160 loss:0.144969 auc:0.9602\n"
     ]
    },
    {
     "name": "stderr",
     "output_type": "stream",
     "text": [
      " 36%|███▋      | 330/910 [48:50<1:11:13,  7.37s/it]"
     ]
    },
    {
     "name": "stdout",
     "output_type": "stream",
     "text": [
      "epoch: 180 loss:0.144951 auc:0.9542\n",
      "Fit finished.\n",
      "epoch:   0 loss:0.885195 auc:0.6075\n",
      "epoch:  20 loss:0.285124 auc:0.9050\n",
      "epoch:  40 loss:0.215299 auc:0.9300\n",
      "epoch:  60 loss:0.179870 auc:0.9300\n",
      "epoch:  80 loss:0.167548 auc:0.9325\n",
      "epoch: 100 loss:0.158234 auc:0.9350\n",
      "epoch: 120 loss:0.150403 auc:0.9350\n",
      "epoch: 140 loss:0.147340 auc:0.9350\n",
      "epoch: 160 loss:0.145376 auc:0.9350\n",
      "epoch: 180 loss:0.143812 auc:0.9350\n",
      "epoch: 200 loss:0.142433 auc:0.9350\n",
      "epoch: 220 loss:0.140852 auc:0.9375\n",
      "epoch: 240 loss:0.139052 auc:0.9425\n",
      "epoch: 260 loss:0.137554 auc:0.9575\n",
      "epoch: 280 loss:0.135949 auc:0.9600\n",
      "epoch: 300 loss:0.137077 auc:0.9575\n",
      "epoch: 320 loss:0.133870 auc:0.9575\n",
      "epoch: 340 loss:0.132898 auc:0.9550\n",
      "epoch: 360 loss:0.131853 auc:0.9525\n",
      "epoch: 380 loss:0.137020 auc:0.9500\n",
      "epoch: 400 loss:0.130052 auc:0.9575\n"
     ]
    },
    {
     "name": "stderr",
     "output_type": "stream",
     "text": [
      " 36%|███▋      | 331/910 [49:05<1:34:07,  9.75s/it]"
     ]
    },
    {
     "name": "stdout",
     "output_type": "stream",
     "text": [
      "epoch: 420 loss:0.127699 auc:0.9550\n",
      "Fit finished.\n",
      "epoch:   0 loss:1.029357 auc:0.5583\n",
      "epoch:  20 loss:0.295651 auc:0.9794\n",
      "epoch:  40 loss:0.226517 auc:0.9808\n",
      "epoch:  60 loss:0.185996 auc:0.9794\n",
      "epoch:  80 loss:0.174205 auc:0.9739\n",
      "epoch: 100 loss:0.166936 auc:0.9753\n",
      "epoch: 120 loss:0.158967 auc:0.9739\n",
      "epoch: 140 loss:0.151129 auc:0.9739\n",
      "epoch: 160 loss:0.147657 auc:0.9739\n"
     ]
    },
    {
     "name": "stderr",
     "output_type": "stream",
     "text": [
      " 36%|███▋      | 332/910 [49:12<1:24:16,  8.75s/it]"
     ]
    },
    {
     "name": "stdout",
     "output_type": "stream",
     "text": [
      "epoch: 180 loss:0.145632 auc:0.9739\n",
      "Fit finished.\n",
      "epoch:   0 loss:0.593713 auc:0.1634\n",
      "epoch:  20 loss:0.239473 auc:0.9688\n",
      "epoch:  40 loss:0.185957 auc:0.9813\n",
      "epoch:  60 loss:0.171395 auc:0.9834\n",
      "epoch:  80 loss:0.161651 auc:0.9834\n",
      "epoch: 100 loss:0.151078 auc:0.9834\n",
      "epoch: 120 loss:0.147488 auc:0.9834\n",
      "epoch: 140 loss:0.144637 auc:0.9834\n",
      "epoch: 160 loss:0.142451 auc:0.9844\n",
      "epoch: 180 loss:0.140757 auc:0.9813\n"
     ]
    },
    {
     "name": "stderr",
     "output_type": "stream",
     "text": [
      " 37%|███▋      | 333/910 [49:20<1:23:38,  8.70s/it]"
     ]
    },
    {
     "name": "stdout",
     "output_type": "stream",
     "text": [
      "epoch: 200 loss:0.138178 auc:0.9740\n",
      "Fit finished.\n",
      "epoch:   0 loss:0.929989 auc:0.7258\n",
      "epoch:  20 loss:0.288422 auc:0.9003\n",
      "epoch:  40 loss:0.228352 auc:0.9418\n",
      "epoch:  60 loss:0.189505 auc:0.9640\n",
      "epoch:  80 loss:0.176799 auc:0.9640\n",
      "epoch: 100 loss:0.169555 auc:0.9668\n",
      "epoch: 120 loss:0.161356 auc:0.9668\n",
      "epoch: 140 loss:0.151348 auc:0.9668\n",
      "epoch: 160 loss:0.147394 auc:0.9668\n",
      "epoch: 180 loss:0.145298 auc:0.9668\n",
      "epoch: 200 loss:0.143583 auc:0.9695\n",
      "epoch: 220 loss:0.143700 auc:0.9695\n",
      "epoch: 240 loss:0.140448 auc:0.9723\n",
      "epoch: 260 loss:0.142003 auc:0.9751\n",
      "epoch: 280 loss:0.137727 auc:0.9778\n",
      "epoch: 300 loss:0.138233 auc:0.9723\n",
      "epoch: 320 loss:0.134696 auc:0.9723\n",
      "epoch: 340 loss:0.133902 auc:0.9723\n",
      "epoch: 360 loss:0.132905 auc:0.9723\n",
      "epoch: 380 loss:0.131400 auc:0.9723\n",
      "epoch: 400 loss:0.133431 auc:0.9751\n",
      "epoch: 420 loss:0.129473 auc:0.9778\n"
     ]
    },
    {
     "name": "stderr",
     "output_type": "stream",
     "text": [
      " 37%|███▋      | 334/910 [49:36<1:44:38, 10.90s/it]"
     ]
    },
    {
     "name": "stdout",
     "output_type": "stream",
     "text": [
      "epoch: 440 loss:0.127640 auc:0.9723\n",
      "Fit finished.\n",
      "epoch:   0 loss:0.562721 auc:0.7232\n",
      "epoch:  20 loss:0.257714 auc:0.9827\n",
      "epoch:  40 loss:0.187492 auc:0.9896\n",
      "epoch:  60 loss:0.173379 auc:0.9896\n",
      "epoch:  80 loss:0.165065 auc:0.9896\n",
      "epoch: 100 loss:0.153963 auc:0.9896\n",
      "epoch: 120 loss:0.148483 auc:0.9896\n",
      "epoch: 140 loss:0.145996 auc:0.9896\n",
      "epoch: 160 loss:0.145445 auc:0.9896\n",
      "epoch: 180 loss:0.142611 auc:0.9896\n",
      "epoch: 200 loss:0.140679 auc:0.9931\n",
      "epoch: 220 loss:0.141939 auc:0.9931\n",
      "epoch: 240 loss:0.138888 auc:0.9931\n",
      "epoch: 260 loss:0.136581 auc:1.0000\n",
      "epoch: 280 loss:0.135059 auc:1.0000\n",
      "epoch: 300 loss:0.133572 auc:1.0000\n",
      "epoch: 320 loss:0.134961 auc:1.0000\n",
      "epoch: 340 loss:0.130127 auc:1.0000\n",
      "epoch: 360 loss:0.130084 auc:0.9965\n",
      "epoch: 380 loss:0.126950 auc:1.0000\n",
      "epoch: 400 loss:0.124232 auc:0.9965\n",
      "epoch: 420 loss:0.124489 auc:1.0000\n"
     ]
    },
    {
     "name": "stderr",
     "output_type": "stream",
     "text": [
      " 37%|███▋      | 335/910 [49:52<1:58:01, 12.32s/it]"
     ]
    },
    {
     "name": "stdout",
     "output_type": "stream",
     "text": [
      "epoch: 440 loss:0.120592 auc:0.9965\n",
      "Fit finished.\n",
      "epoch:   0 loss:1.054050 auc:0.7470\n",
      "epoch:  20 loss:0.288313 auc:0.9808\n",
      "epoch:  40 loss:0.219831 auc:0.9867\n",
      "epoch:  60 loss:0.183888 auc:0.9852\n",
      "epoch:  80 loss:0.171696 auc:0.9837\n",
      "epoch: 100 loss:0.163629 auc:0.9837\n",
      "epoch: 120 loss:0.154325 auc:0.9837\n",
      "epoch: 140 loss:0.149325 auc:0.9822\n",
      "epoch: 160 loss:0.146961 auc:0.9837\n",
      "epoch: 180 loss:0.145281 auc:0.9837\n"
     ]
    },
    {
     "name": "stderr",
     "output_type": "stream",
     "text": [
      " 37%|███▋      | 336/910 [49:58<1:41:05, 10.57s/it]"
     ]
    },
    {
     "name": "stdout",
     "output_type": "stream",
     "text": [
      "epoch: 200 loss:0.143873 auc:0.9822\n",
      "Fit finished.\n",
      "epoch:   0 loss:0.588416 auc:0.5646\n",
      "epoch:  20 loss:0.230242 auc:0.9660\n",
      "epoch:  40 loss:0.183648 auc:0.9796\n",
      "epoch:  60 loss:0.172546 auc:0.9751\n",
      "epoch:  80 loss:0.164861 auc:0.9773\n",
      "epoch: 100 loss:0.153637 auc:0.9773\n",
      "epoch: 120 loss:0.148012 auc:0.9773\n",
      "epoch: 140 loss:0.144697 auc:0.9773\n",
      "epoch: 160 loss:0.143251 auc:0.9773\n",
      "epoch: 180 loss:0.140476 auc:0.9819\n",
      "epoch: 200 loss:0.140188 auc:0.9819\n",
      "epoch: 220 loss:0.137066 auc:0.9864\n",
      "epoch: 240 loss:0.136572 auc:0.9887\n",
      "epoch: 260 loss:0.132886 auc:0.9909\n",
      "epoch: 280 loss:0.134050 auc:0.9887\n",
      "epoch: 300 loss:0.131147 auc:0.9819\n",
      "epoch: 320 loss:0.128706 auc:0.9887\n",
      "epoch: 340 loss:0.126414 auc:0.9841\n",
      "epoch: 360 loss:0.124936 auc:0.9841\n"
     ]
    },
    {
     "name": "stderr",
     "output_type": "stream",
     "text": [
      " 37%|███▋      | 337/910 [50:11<1:46:03, 11.11s/it]"
     ]
    },
    {
     "name": "stdout",
     "output_type": "stream",
     "text": [
      "epoch: 380 loss:0.127822 auc:0.9819\n",
      "Fit finished.\n",
      "epoch:   0 loss:1.214203 auc:0.5822\n",
      "epoch:  20 loss:0.282887 auc:0.9867\n",
      "epoch:  40 loss:0.216663 auc:0.9856\n",
      "epoch:  60 loss:0.181796 auc:0.9822\n",
      "epoch:  80 loss:0.170994 auc:0.9811\n",
      "epoch: 100 loss:0.162590 auc:0.9800\n",
      "epoch: 120 loss:0.152036 auc:0.9789\n",
      "epoch: 140 loss:0.147958 auc:0.9800\n",
      "epoch: 160 loss:0.145615 auc:0.9789\n"
     ]
    },
    {
     "name": "stderr",
     "output_type": "stream",
     "text": [
      " 37%|███▋      | 338/910 [50:18<1:34:31,  9.91s/it]"
     ]
    },
    {
     "name": "stdout",
     "output_type": "stream",
     "text": [
      "epoch: 180 loss:0.144116 auc:0.9789\n",
      "Fit finished.\n",
      "epoch:   0 loss:0.687031 auc:0.7055\n",
      "epoch:  20 loss:0.245181 auc:1.0000\n",
      "epoch:  40 loss:0.185521 auc:1.0000\n",
      "epoch:  60 loss:0.174547 auc:1.0000\n",
      "epoch:  80 loss:0.169132 auc:1.0000\n",
      "epoch: 100 loss:0.161914 auc:1.0000\n",
      "epoch: 120 loss:0.151383 auc:1.0000\n",
      "epoch: 140 loss:0.147031 auc:1.0000\n",
      "epoch: 160 loss:0.144211 auc:1.0000\n",
      "epoch: 180 loss:0.142661 auc:1.0000\n"
     ]
    },
    {
     "name": "stderr",
     "output_type": "stream",
     "text": [
      " 37%|███▋      | 339/910 [50:26<1:31:00,  9.56s/it]"
     ]
    },
    {
     "name": "stdout",
     "output_type": "stream",
     "text": [
      "epoch: 200 loss:0.139528 auc:0.9990\n",
      "Fit finished.\n",
      "epoch:   0 loss:0.889930 auc:0.3951\n",
      "epoch:  20 loss:0.261541 auc:0.9344\n",
      "epoch:  40 loss:0.190662 auc:0.9375\n",
      "epoch:  60 loss:0.178835 auc:0.9344\n",
      "epoch:  80 loss:0.172722 auc:0.9329\n",
      "epoch: 100 loss:0.167268 auc:0.9321\n",
      "epoch: 120 loss:0.159101 auc:0.9336\n",
      "epoch: 140 loss:0.149081 auc:0.9352\n",
      "epoch: 160 loss:0.146242 auc:0.9344\n",
      "epoch: 180 loss:0.146231 auc:0.9398\n",
      "epoch: 200 loss:0.142724 auc:0.9444\n",
      "epoch: 220 loss:0.140943 auc:0.9537\n",
      "epoch: 240 loss:0.138739 auc:0.9668\n",
      "epoch: 260 loss:0.137153 auc:0.9815\n",
      "epoch: 280 loss:0.138948 auc:0.9653\n",
      "epoch: 300 loss:0.135118 auc:0.9892\n",
      "epoch: 320 loss:0.133379 auc:0.9892\n",
      "epoch: 340 loss:0.135522 auc:0.9830\n",
      "epoch: 360 loss:0.131478 auc:0.9877\n",
      "epoch: 380 loss:0.131370 auc:0.9807\n",
      "epoch: 400 loss:0.132385 auc:0.9853\n"
     ]
    },
    {
     "name": "stderr",
     "output_type": "stream",
     "text": [
      " 37%|███▋      | 340/910 [50:42<1:46:40, 11.23s/it]"
     ]
    },
    {
     "name": "stdout",
     "output_type": "stream",
     "text": [
      "epoch: 420 loss:0.127559 auc:0.9769\n",
      "Fit finished.\n",
      "epoch:   0 loss:0.540424 auc:0.1467\n",
      "epoch:  20 loss:0.250558 auc:0.9667\n",
      "epoch:  40 loss:0.187840 auc:0.9611\n",
      "epoch:  60 loss:0.173014 auc:0.9644\n",
      "epoch:  80 loss:0.162833 auc:0.9633\n",
      "epoch: 100 loss:0.151265 auc:0.9611\n",
      "epoch: 120 loss:0.147296 auc:0.9600\n",
      "epoch: 140 loss:0.144771 auc:0.9600\n",
      "epoch: 160 loss:0.145386 auc:0.9644\n",
      "epoch: 180 loss:0.140794 auc:0.9722\n",
      "epoch: 200 loss:0.138296 auc:0.9811\n",
      "epoch: 220 loss:0.138253 auc:0.9822\n",
      "epoch: 240 loss:0.135345 auc:0.9900\n",
      "epoch: 260 loss:0.132864 auc:0.9911\n",
      "epoch: 280 loss:0.131653 auc:0.9922\n",
      "epoch: 300 loss:0.131239 auc:0.9956\n",
      "epoch: 320 loss:0.127353 auc:0.9933\n",
      "epoch: 340 loss:0.129244 auc:0.9911\n",
      "epoch: 360 loss:0.124207 auc:0.9956\n",
      "epoch: 380 loss:0.121777 auc:0.9878\n",
      "epoch: 400 loss:0.120219 auc:0.9911\n"
     ]
    },
    {
     "name": "stderr",
     "output_type": "stream",
     "text": [
      " 37%|███▋      | 341/910 [50:56<1:55:28, 12.18s/it]"
     ]
    },
    {
     "name": "stdout",
     "output_type": "stream",
     "text": [
      "epoch: 420 loss:0.118855 auc:0.9811\n",
      "Fit finished.\n",
      "epoch:   0 loss:0.898679 auc:0.2544\n",
      "epoch:  20 loss:0.279038 auc:0.9920\n",
      "epoch:  40 loss:0.214193 auc:0.9904\n",
      "epoch:  60 loss:0.181223 auc:0.9872\n",
      "epoch:  80 loss:0.168465 auc:0.9856\n",
      "epoch: 100 loss:0.157700 auc:0.9856\n",
      "epoch: 120 loss:0.149958 auc:0.9856\n",
      "epoch: 140 loss:0.147049 auc:0.9856\n",
      "epoch: 160 loss:0.145116 auc:0.9856\n"
     ]
    },
    {
     "name": "stderr",
     "output_type": "stream",
     "text": [
      " 38%|███▊      | 342/910 [51:02<1:39:04, 10.47s/it]"
     ]
    },
    {
     "name": "stdout",
     "output_type": "stream",
     "text": [
      "epoch: 180 loss:0.143793 auc:0.9856\n",
      "Fit finished.\n",
      "epoch:   0 loss:0.662176 auc:0.6273\n",
      "epoch:  20 loss:0.274750 auc:0.9514\n",
      "epoch:  40 loss:0.198539 auc:0.9537\n",
      "epoch:  60 loss:0.179281 auc:0.9545\n",
      "epoch:  80 loss:0.169626 auc:0.9568\n",
      "epoch: 100 loss:0.160672 auc:0.9560\n",
      "epoch: 120 loss:0.151047 auc:0.9560\n",
      "epoch: 140 loss:0.147681 auc:0.9560\n",
      "epoch: 160 loss:0.145514 auc:0.9560\n",
      "epoch: 180 loss:0.143691 auc:0.9576\n",
      "epoch: 200 loss:0.145220 auc:0.9576\n",
      "epoch: 220 loss:0.140863 auc:0.9552\n"
     ]
    },
    {
     "name": "stderr",
     "output_type": "stream",
     "text": [
      " 38%|███▊      | 343/910 [51:11<1:33:29,  9.89s/it]"
     ]
    },
    {
     "name": "stdout",
     "output_type": "stream",
     "text": [
      "epoch: 240 loss:0.138450 auc:0.9475\n",
      "Fit finished.\n",
      "epoch:   0 loss:0.807073 auc:0.2810\n",
      "epoch:  20 loss:0.272157 auc:0.9802\n",
      "epoch:  40 loss:0.197217 auc:0.9834\n",
      "epoch:  60 loss:0.176636 auc:0.9834\n",
      "epoch:  80 loss:0.166438 auc:0.9844\n",
      "epoch: 100 loss:0.155395 auc:0.9834\n",
      "epoch: 120 loss:0.148587 auc:0.9823\n",
      "epoch: 140 loss:0.145875 auc:0.9813\n",
      "epoch: 160 loss:0.145726 auc:0.9813\n"
     ]
    },
    {
     "name": "stderr",
     "output_type": "stream",
     "text": [
      " 38%|███▊      | 344/910 [51:18<1:24:53,  9.00s/it]"
     ]
    },
    {
     "name": "stdout",
     "output_type": "stream",
     "text": [
      "epoch: 180 loss:0.141984 auc:0.9781\n",
      "Fit finished.\n",
      "epoch:   0 loss:0.625753 auc:0.7048\n",
      "epoch:  20 loss:0.249351 auc:0.9820\n",
      "epoch:  40 loss:0.186954 auc:0.9812\n",
      "epoch:  60 loss:0.174024 auc:0.9820\n",
      "epoch:  80 loss:0.165465 auc:0.9824\n",
      "epoch: 100 loss:0.155097 auc:0.9816\n",
      "epoch: 120 loss:0.148411 auc:0.9808\n",
      "epoch: 140 loss:0.145704 auc:0.9808\n",
      "epoch: 160 loss:0.143628 auc:0.9808\n"
     ]
    },
    {
     "name": "stderr",
     "output_type": "stream",
     "text": [
      " 38%|███▊      | 345/910 [51:25<1:18:46,  8.36s/it]"
     ]
    },
    {
     "name": "stdout",
     "output_type": "stream",
     "text": [
      "epoch: 180 loss:0.142913 auc:0.9776\n",
      "Fit finished.\n",
      "epoch:   0 loss:0.706022 auc:0.4890\n",
      "epoch:  20 loss:0.253283 auc:0.9242\n",
      "epoch:  40 loss:0.189838 auc:0.9184\n",
      "epoch:  60 loss:0.175089 auc:0.9201\n",
      "epoch:  80 loss:0.168569 auc:0.9256\n",
      "epoch: 100 loss:0.161304 auc:0.9256\n",
      "epoch: 120 loss:0.151663 auc:0.9273\n",
      "epoch: 140 loss:0.147667 auc:0.9331\n",
      "epoch: 160 loss:0.145367 auc:0.9328\n",
      "epoch: 180 loss:0.144221 auc:0.9280\n"
     ]
    },
    {
     "name": "stderr",
     "output_type": "stream",
     "text": [
      " 38%|███▊      | 346/910 [51:32<1:16:19,  8.12s/it]"
     ]
    },
    {
     "name": "stdout",
     "output_type": "stream",
     "text": [
      "epoch: 200 loss:0.141667 auc:0.9160\n",
      "Fit finished.\n",
      "epoch:   0 loss:1.259363 auc:0.8095\n",
      "epoch:  20 loss:0.293233 auc:0.9624\n",
      "epoch:  40 loss:0.226650 auc:0.9652\n",
      "epoch:  60 loss:0.184481 auc:0.9655\n",
      "epoch:  80 loss:0.171938 auc:0.9671\n",
      "epoch: 100 loss:0.164260 auc:0.9680\n",
      "epoch: 120 loss:0.154368 auc:0.9680\n",
      "epoch: 140 loss:0.148368 auc:0.9680\n",
      "epoch: 160 loss:0.145952 auc:0.9683\n",
      "epoch: 180 loss:0.144121 auc:0.9634\n"
     ]
    },
    {
     "name": "stderr",
     "output_type": "stream",
     "text": [
      " 38%|███▊      | 347/910 [51:40<1:14:07,  7.90s/it]"
     ]
    },
    {
     "name": "stdout",
     "output_type": "stream",
     "text": [
      "epoch: 200 loss:0.142801 auc:0.9458\n",
      "Fit finished.\n",
      "epoch:   0 loss:0.650473 auc:0.8632\n",
      "epoch:  20 loss:0.278318 auc:0.9247\n",
      "epoch:  40 loss:0.215337 auc:0.9270\n",
      "epoch:  60 loss:0.181489 auc:0.9272\n",
      "epoch:  80 loss:0.166224 auc:0.9268\n",
      "epoch: 100 loss:0.153116 auc:0.9263\n",
      "epoch: 120 loss:0.147986 auc:0.9268\n",
      "epoch: 140 loss:0.145541 auc:0.9272\n",
      "epoch: 160 loss:0.143791 auc:0.9192\n"
     ]
    },
    {
     "name": "stderr",
     "output_type": "stream",
     "text": [
      " 38%|███▊      | 348/910 [51:46<1:10:43,  7.55s/it]"
     ]
    },
    {
     "name": "stdout",
     "output_type": "stream",
     "text": [
      "epoch: 180 loss:0.142113 auc:0.9022\n",
      "Fit finished.\n",
      "epoch:   0 loss:0.631908 auc:0.2755\n",
      "epoch:  20 loss:0.215635 auc:0.9475\n",
      "epoch:  40 loss:0.180458 auc:0.9575\n",
      "epoch:  60 loss:0.169387 auc:0.9570\n",
      "epoch:  80 loss:0.158144 auc:0.9565\n",
      "epoch: 100 loss:0.149289 auc:0.9565\n",
      "epoch: 120 loss:0.146004 auc:0.9546\n",
      "epoch: 140 loss:0.143035 auc:0.9381\n",
      "epoch: 160 loss:0.140859 auc:0.8960\n"
     ]
    },
    {
     "name": "stderr",
     "output_type": "stream",
     "text": [
      " 38%|███▊      | 349/910 [51:53<1:09:02,  7.38s/it]"
     ]
    },
    {
     "name": "stdout",
     "output_type": "stream",
     "text": [
      "epoch: 180 loss:0.138102 auc:0.8455\n",
      "Fit finished.\n",
      "epoch:   0 loss:0.669556 auc:0.3444\n",
      "epoch:  20 loss:0.240785 auc:0.9744\n",
      "epoch:  40 loss:0.182829 auc:0.9724\n",
      "epoch:  60 loss:0.170869 auc:0.9760\n",
      "epoch:  80 loss:0.161933 auc:0.9776\n",
      "epoch: 100 loss:0.150597 auc:0.9764\n",
      "epoch: 120 loss:0.146969 auc:0.9760\n",
      "epoch: 140 loss:0.144519 auc:0.9720\n",
      "epoch: 160 loss:0.143142 auc:0.9668\n"
     ]
    },
    {
     "name": "stderr",
     "output_type": "stream",
     "text": [
      " 38%|███▊      | 350/910 [52:01<1:08:11,  7.31s/it]"
     ]
    },
    {
     "name": "stdout",
     "output_type": "stream",
     "text": [
      "epoch: 180 loss:0.140950 auc:0.9056\n",
      "Fit finished.\n",
      "epoch:   0 loss:0.453426 auc:0.6246\n",
      "epoch:  20 loss:0.252905 auc:0.9360\n",
      "epoch:  40 loss:0.187101 auc:0.9429\n",
      "epoch:  60 loss:0.169761 auc:0.9472\n",
      "epoch:  80 loss:0.155584 auc:0.9446\n",
      "epoch: 100 loss:0.148455 auc:0.9464\n",
      "epoch: 120 loss:0.145393 auc:0.9464\n",
      "epoch: 140 loss:0.143309 auc:0.9377\n",
      "epoch: 160 loss:0.142114 auc:0.9325\n"
     ]
    },
    {
     "name": "stderr",
     "output_type": "stream",
     "text": [
      " 39%|███▊      | 351/910 [52:08<1:08:24,  7.34s/it]"
     ]
    },
    {
     "name": "stdout",
     "output_type": "stream",
     "text": [
      "epoch: 180 loss:0.138974 auc:0.9031\n",
      "Fit finished.\n",
      "epoch:   0 loss:0.921800 auc:0.8615\n",
      "epoch:  20 loss:0.268897 auc:0.9712\n",
      "epoch:  40 loss:0.205207 auc:0.9698\n",
      "epoch:  60 loss:0.180670 auc:0.9684\n",
      "epoch:  80 loss:0.169672 auc:0.9684\n",
      "epoch: 100 loss:0.160346 auc:0.9684\n",
      "epoch: 120 loss:0.151559 auc:0.9684\n",
      "epoch: 140 loss:0.148026 auc:0.9684\n",
      "epoch: 160 loss:0.145864 auc:0.9684\n"
     ]
    },
    {
     "name": "stderr",
     "output_type": "stream",
     "text": [
      " 39%|███▊      | 352/910 [52:15<1:08:27,  7.36s/it]"
     ]
    },
    {
     "name": "stdout",
     "output_type": "stream",
     "text": [
      "epoch: 180 loss:0.144260 auc:0.9684\n",
      "Fit finished.\n",
      "epoch:   0 loss:0.802150 auc:0.4385\n",
      "epoch:  20 loss:0.280371 auc:0.9742\n",
      "epoch:  40 loss:0.197278 auc:0.9731\n",
      "epoch:  60 loss:0.178049 auc:0.9675\n",
      "epoch:  80 loss:0.168522 auc:0.9690\n",
      "epoch: 100 loss:0.159270 auc:0.9690\n",
      "epoch: 120 loss:0.149442 auc:0.9695\n",
      "epoch: 140 loss:0.146488 auc:0.9700\n",
      "epoch: 160 loss:0.144426 auc:0.9711\n"
     ]
    },
    {
     "name": "stderr",
     "output_type": "stream",
     "text": [
      " 39%|███▉      | 353/910 [52:22<1:06:37,  7.18s/it]"
     ]
    },
    {
     "name": "stdout",
     "output_type": "stream",
     "text": [
      "epoch: 180 loss:0.143539 auc:0.9711\n",
      "Fit finished.\n",
      "epoch:   0 loss:0.595668 auc:0.5799\n",
      "epoch:  20 loss:0.280395 auc:0.9941\n",
      "epoch:  40 loss:0.204716 auc:0.9985\n",
      "epoch:  60 loss:0.177413 auc:0.9985\n",
      "epoch:  80 loss:0.166450 auc:0.9985\n",
      "epoch: 100 loss:0.156379 auc:0.9985\n",
      "epoch: 120 loss:0.149652 auc:0.9985\n",
      "epoch: 140 loss:0.146786 auc:0.9985\n",
      "epoch: 160 loss:0.144729 auc:0.9985\n",
      "epoch: 180 loss:0.144009 auc:0.9985\n",
      "epoch: 200 loss:0.141647 auc:0.9985\n",
      "epoch: 220 loss:0.143847 auc:0.9985\n",
      "epoch: 240 loss:0.137834 auc:0.9985\n"
     ]
    },
    {
     "name": "stderr",
     "output_type": "stream",
     "text": [
      " 39%|███▉      | 354/910 [52:32<1:14:28,  8.04s/it]"
     ]
    },
    {
     "name": "stdout",
     "output_type": "stream",
     "text": [
      "epoch: 260 loss:0.140891 auc:0.9837\n",
      "Fit finished.\n",
      "epoch:   0 loss:0.743477 auc:0.4474\n",
      "epoch:  20 loss:0.256725 auc:0.9773\n",
      "epoch:  40 loss:0.189902 auc:0.9788\n",
      "epoch:  60 loss:0.175888 auc:0.9837\n",
      "epoch:  80 loss:0.169955 auc:0.9822\n",
      "epoch: 100 loss:0.163445 auc:0.9812\n",
      "epoch: 120 loss:0.153759 auc:0.9817\n",
      "epoch: 140 loss:0.148095 auc:0.9802\n",
      "epoch: 160 loss:0.145515 auc:0.9802\n",
      "epoch: 180 loss:0.144451 auc:0.9778\n"
     ]
    },
    {
     "name": "stderr",
     "output_type": "stream",
     "text": [
      " 39%|███▉      | 355/910 [52:39<1:11:53,  7.77s/it]"
     ]
    },
    {
     "name": "stdout",
     "output_type": "stream",
     "text": [
      "epoch: 200 loss:0.142077 auc:0.9719\n",
      "Fit finished.\n",
      "epoch:   0 loss:0.634925 auc:0.1394\n",
      "epoch:  20 loss:0.220909 auc:0.9750\n",
      "epoch:  40 loss:0.180662 auc:0.9781\n",
      "epoch:  60 loss:0.169416 auc:0.9781\n",
      "epoch:  80 loss:0.156543 auc:0.9763\n",
      "epoch: 100 loss:0.147745 auc:0.9763\n",
      "epoch: 120 loss:0.147532 auc:0.9762\n",
      "epoch: 140 loss:0.141551 auc:0.9600\n",
      "epoch: 160 loss:0.138901 auc:0.9194\n"
     ]
    },
    {
     "name": "stderr",
     "output_type": "stream",
     "text": [
      " 39%|███▉      | 356/910 [52:47<1:10:22,  7.62s/it]"
     ]
    },
    {
     "name": "stdout",
     "output_type": "stream",
     "text": [
      "epoch: 180 loss:0.136449 auc:0.8762\n",
      "Fit finished.\n",
      "epoch:   0 loss:0.748747 auc:0.2239\n",
      "epoch:  20 loss:0.248698 auc:0.9432\n",
      "epoch:  40 loss:0.183938 auc:0.9421\n",
      "epoch:  60 loss:0.173126 auc:0.9502\n",
      "epoch:  80 loss:0.164469 auc:0.9540\n",
      "epoch: 100 loss:0.152336 auc:0.9562\n",
      "epoch: 120 loss:0.147308 auc:0.9459\n",
      "epoch: 140 loss:0.144500 auc:0.9394\n",
      "epoch: 160 loss:0.144517 auc:0.9173\n"
     ]
    },
    {
     "name": "stderr",
     "output_type": "stream",
     "text": [
      " 39%|███▉      | 357/910 [52:54<1:08:14,  7.40s/it]"
     ]
    },
    {
     "name": "stdout",
     "output_type": "stream",
     "text": [
      "epoch: 180 loss:0.139731 auc:0.8935\n",
      "Fit finished.\n",
      "epoch:   0 loss:0.577122 auc:0.2104\n",
      "epoch:  20 loss:0.248760 auc:0.9836\n",
      "epoch:  40 loss:0.186169 auc:0.9895\n",
      "epoch:  60 loss:0.170343 auc:0.9954\n",
      "epoch:  80 loss:0.155401 auc:0.9941\n",
      "epoch: 100 loss:0.148719 auc:0.9954\n",
      "epoch: 120 loss:0.145050 auc:0.9928\n",
      "epoch: 140 loss:0.151033 auc:0.9724\n",
      "epoch: 160 loss:0.141766 auc:0.9658\n"
     ]
    },
    {
     "name": "stderr",
     "output_type": "stream",
     "text": [
      " 39%|███▉      | 358/910 [53:00<1:06:45,  7.26s/it]"
     ]
    },
    {
     "name": "stdout",
     "output_type": "stream",
     "text": [
      "epoch: 180 loss:0.138039 auc:0.9343\n",
      "Fit finished.\n",
      "epoch:   0 loss:0.712534 auc:0.5249\n",
      "epoch:  20 loss:0.250531 auc:0.9348\n",
      "epoch:  40 loss:0.188630 auc:0.9473\n",
      "epoch:  60 loss:0.174771 auc:0.9512\n",
      "epoch:  80 loss:0.166667 auc:0.9518\n",
      "epoch: 100 loss:0.157794 auc:0.9524\n",
      "epoch: 120 loss:0.149428 auc:0.9518\n",
      "epoch: 140 loss:0.146493 auc:0.9512\n",
      "epoch: 160 loss:0.144119 auc:0.9354\n"
     ]
    },
    {
     "name": "stderr",
     "output_type": "stream",
     "text": [
      " 39%|███▉      | 359/910 [53:08<1:07:29,  7.35s/it]"
     ]
    },
    {
     "name": "stdout",
     "output_type": "stream",
     "text": [
      "epoch: 180 loss:0.142324 auc:0.8605\n",
      "Fit finished.\n",
      "epoch:   0 loss:0.608169 auc:0.3516\n",
      "epoch:  20 loss:0.263183 auc:0.9518\n",
      "epoch:  40 loss:0.190853 auc:0.9584\n",
      "epoch:  60 loss:0.176056 auc:0.9607\n",
      "epoch:  80 loss:0.167727 auc:0.9649\n",
      "epoch: 100 loss:0.156701 auc:0.9661\n",
      "epoch: 120 loss:0.149059 auc:0.9667\n",
      "epoch: 140 loss:0.146438 auc:0.9667\n",
      "epoch: 160 loss:0.143890 auc:0.9685\n",
      "epoch: 180 loss:0.141619 auc:0.9691\n",
      "epoch: 200 loss:0.141206 auc:0.9697\n",
      "epoch: 220 loss:0.137884 auc:0.9625\n"
     ]
    },
    {
     "name": "stderr",
     "output_type": "stream",
     "text": [
      " 40%|███▉      | 360/910 [53:16<1:09:30,  7.58s/it]"
     ]
    },
    {
     "name": "stdout",
     "output_type": "stream",
     "text": [
      "epoch: 240 loss:0.135601 auc:0.9465\n",
      "Fit finished.\n",
      "epoch:   0 loss:0.923027 auc:0.3645\n",
      "epoch:  20 loss:0.266693 auc:0.9189\n",
      "epoch:  40 loss:0.194813 auc:0.9140\n",
      "epoch:  60 loss:0.176345 auc:0.9142\n",
      "epoch:  80 loss:0.166783 auc:0.9217\n",
      "epoch: 100 loss:0.157448 auc:0.9228\n",
      "epoch: 120 loss:0.149667 auc:0.9248\n",
      "epoch: 140 loss:0.146827 auc:0.9240\n",
      "epoch: 160 loss:0.144850 auc:0.9196\n"
     ]
    },
    {
     "name": "stderr",
     "output_type": "stream",
     "text": [
      " 40%|███▉      | 361/910 [53:22<1:03:29,  6.94s/it]"
     ]
    },
    {
     "name": "stdout",
     "output_type": "stream",
     "text": [
      "epoch: 180 loss:0.143911 auc:0.9171\n",
      "Fit finished.\n",
      "epoch:   0 loss:0.633770 auc:0.7550\n",
      "epoch:  20 loss:0.280533 auc:0.8225\n",
      "epoch:  40 loss:0.214873 auc:0.8300\n",
      "epoch:  60 loss:0.179559 auc:0.8300\n",
      "epoch:  80 loss:0.166283 auc:0.8325\n",
      "epoch: 100 loss:0.154924 auc:0.8325\n",
      "epoch: 120 loss:0.149057 auc:0.8375\n",
      "epoch: 140 loss:0.146356 auc:0.8375\n",
      "epoch: 160 loss:0.145056 auc:0.8425\n",
      "epoch: 180 loss:0.143354 auc:0.8325\n"
     ]
    },
    {
     "name": "stderr",
     "output_type": "stream",
     "text": [
      " 40%|███▉      | 362/910 [53:29<1:03:20,  6.93s/it]"
     ]
    },
    {
     "name": "stdout",
     "output_type": "stream",
     "text": [
      "epoch: 200 loss:0.142245 auc:0.7825\n",
      "Fit finished.\n",
      "epoch:   0 loss:0.533893 auc:0.2843\n",
      "epoch:  20 loss:0.227624 auc:0.9724\n",
      "epoch:  40 loss:0.180704 auc:0.9737\n",
      "epoch:  60 loss:0.167506 auc:0.9742\n",
      "epoch:  80 loss:0.154539 auc:0.9737\n",
      "epoch: 100 loss:0.147608 auc:0.9751\n",
      "epoch: 120 loss:0.145151 auc:0.9751\n",
      "epoch: 140 loss:0.143843 auc:0.9421\n",
      "epoch: 160 loss:0.139387 auc:0.9172\n"
     ]
    },
    {
     "name": "stderr",
     "output_type": "stream",
     "text": [
      " 40%|███▉      | 363/910 [53:36<1:03:41,  6.99s/it]"
     ]
    },
    {
     "name": "stdout",
     "output_type": "stream",
     "text": [
      "epoch: 180 loss:0.136353 auc:0.8606\n",
      "Fit finished.\n",
      "epoch:   0 loss:1.136974 auc:0.3884\n",
      "epoch:  20 loss:0.281023 auc:0.9527\n",
      "epoch:  40 loss:0.217913 auc:0.9516\n",
      "epoch:  60 loss:0.185066 auc:0.9541\n",
      "epoch:  80 loss:0.173351 auc:0.9532\n",
      "epoch: 100 loss:0.165767 auc:0.9525\n",
      "epoch: 120 loss:0.157556 auc:0.9522\n",
      "epoch: 140 loss:0.150105 auc:0.9543\n",
      "epoch: 160 loss:0.147199 auc:0.9541\n",
      "epoch: 180 loss:0.145438 auc:0.9534\n",
      "epoch: 200 loss:0.144092 auc:0.9525\n"
     ]
    },
    {
     "name": "stderr",
     "output_type": "stream",
     "text": [
      " 40%|████      | 364/910 [53:43<1:05:15,  7.17s/it]"
     ]
    },
    {
     "name": "stdout",
     "output_type": "stream",
     "text": [
      "epoch: 220 loss:0.142861 auc:0.9518\n",
      "Fit finished.\n",
      "epoch:   0 loss:0.695728 auc:0.5971\n",
      "epoch:  20 loss:0.281366 auc:0.9660\n",
      "epoch:  40 loss:0.202075 auc:0.9665\n",
      "epoch:  60 loss:0.176263 auc:0.9679\n",
      "epoch:  80 loss:0.164197 auc:0.9701\n",
      "epoch: 100 loss:0.153357 auc:0.9697\n",
      "epoch: 120 loss:0.148750 auc:0.9683\n",
      "epoch: 140 loss:0.146229 auc:0.9665\n",
      "epoch: 160 loss:0.144237 auc:0.9665\n"
     ]
    },
    {
     "name": "stderr",
     "output_type": "stream",
     "text": [
      " 40%|████      | 365/910 [53:50<1:04:55,  7.15s/it]"
     ]
    },
    {
     "name": "stdout",
     "output_type": "stream",
     "text": [
      "epoch: 180 loss:0.142663 auc:0.9642\n",
      "Fit finished.\n",
      "epoch:   0 loss:0.522004 auc:0.6392\n",
      "epoch:  20 loss:0.210588 auc:0.9241\n",
      "epoch:  40 loss:0.179017 auc:0.9282\n",
      "epoch:  60 loss:0.169127 auc:0.9322\n",
      "epoch:  80 loss:0.159298 auc:0.9322\n",
      "epoch: 100 loss:0.150059 auc:0.9331\n",
      "epoch: 120 loss:0.146522 auc:0.9322\n",
      "epoch: 140 loss:0.143892 auc:0.9314\n",
      "epoch: 160 loss:0.147239 auc:0.9233\n",
      "epoch: 180 loss:0.141070 auc:0.9298\n"
     ]
    },
    {
     "name": "stderr",
     "output_type": "stream",
     "text": [
      " 40%|████      | 366/910 [53:58<1:05:55,  7.27s/it]"
     ]
    },
    {
     "name": "stdout",
     "output_type": "stream",
     "text": [
      "epoch: 200 loss:0.137763 auc:0.9069\n",
      "Fit finished.\n",
      "epoch:   0 loss:0.948707 auc:0.6108\n",
      "epoch:  20 loss:0.254223 auc:0.9729\n",
      "epoch:  40 loss:0.189330 auc:0.9750\n",
      "epoch:  60 loss:0.175246 auc:0.9761\n",
      "epoch:  80 loss:0.166626 auc:0.9771\n",
      "epoch: 100 loss:0.156279 auc:0.9761\n",
      "epoch: 120 loss:0.148794 auc:0.9761\n",
      "epoch: 140 loss:0.145958 auc:0.9750\n",
      "epoch: 160 loss:0.146940 auc:0.9729\n"
     ]
    },
    {
     "name": "stderr",
     "output_type": "stream",
     "text": [
      " 40%|████      | 367/910 [54:04<1:02:39,  6.92s/it]"
     ]
    },
    {
     "name": "stdout",
     "output_type": "stream",
     "text": [
      "epoch: 180 loss:0.142197 auc:0.9646\n",
      "Fit finished.\n",
      "epoch:   0 loss:0.631467 auc:0.2318\n",
      "epoch:  20 loss:0.265077 auc:0.9412\n",
      "epoch:  40 loss:0.191780 auc:0.9723\n",
      "epoch:  60 loss:0.174894 auc:0.9758\n",
      "epoch:  80 loss:0.166243 auc:0.9758\n",
      "epoch: 100 loss:0.156354 auc:0.9758\n",
      "epoch: 120 loss:0.149167 auc:0.9758\n",
      "epoch: 140 loss:0.146099 auc:0.9758\n",
      "epoch: 160 loss:0.143384 auc:0.9723\n",
      "epoch: 180 loss:0.143689 auc:0.9723\n",
      "epoch: 200 loss:0.139350 auc:0.9758\n",
      "epoch: 220 loss:0.137060 auc:0.9792\n",
      "epoch: 240 loss:0.135506 auc:0.9792\n",
      "epoch: 260 loss:0.134807 auc:0.9792\n",
      "epoch: 280 loss:0.133053 auc:0.9792\n",
      "epoch: 300 loss:0.131241 auc:0.9827\n"
     ]
    },
    {
     "name": "stderr",
     "output_type": "stream",
     "text": [
      " 40%|████      | 368/910 [54:16<1:16:36,  8.48s/it]"
     ]
    },
    {
     "name": "stdout",
     "output_type": "stream",
     "text": [
      "epoch: 320 loss:0.130266 auc:0.9619\n",
      "Fit finished.\n",
      "epoch:   0 loss:0.796090 auc:0.5467\n",
      "epoch:  20 loss:0.285868 auc:0.9956\n",
      "epoch:  40 loss:0.213391 auc:0.9956\n",
      "epoch:  60 loss:0.175982 auc:0.9956\n",
      "epoch:  80 loss:0.161881 auc:0.9956\n",
      "epoch: 100 loss:0.151132 auc:0.9956\n",
      "epoch: 120 loss:0.147802 auc:0.9956\n",
      "epoch: 140 loss:0.145593 auc:0.9956\n",
      "epoch: 160 loss:0.144838 auc:0.9956\n",
      "epoch: 180 loss:0.143041 auc:0.9956\n",
      "epoch: 200 loss:0.141396 auc:0.9956\n",
      "epoch: 220 loss:0.140648 auc:0.9956\n",
      "epoch: 240 loss:0.138641 auc:1.0000\n",
      "epoch: 260 loss:0.136614 auc:1.0000\n",
      "epoch: 280 loss:0.138010 auc:1.0000\n",
      "epoch: 300 loss:0.134139 auc:1.0000\n",
      "epoch: 320 loss:0.133011 auc:1.0000\n",
      "epoch: 340 loss:0.132938 auc:1.0000\n",
      "epoch: 360 loss:0.129195 auc:1.0000\n",
      "epoch: 380 loss:0.129944 auc:1.0000\n",
      "epoch: 400 loss:0.127112 auc:1.0000\n",
      "epoch: 420 loss:0.125145 auc:1.0000\n",
      "epoch: 440 loss:0.127152 auc:1.0000\n",
      "epoch: 460 loss:0.123384 auc:1.0000\n",
      "epoch: 480 loss:0.121854 auc:1.0000\n",
      "epoch: 500 loss:0.121159 auc:1.0000\n",
      "epoch: 520 loss:0.120130 auc:1.0000\n"
     ]
    },
    {
     "name": "stderr",
     "output_type": "stream",
     "text": [
      " 41%|████      | 369/910 [54:35<1:46:00, 11.76s/it]"
     ]
    },
    {
     "name": "stdout",
     "output_type": "stream",
     "text": [
      "epoch: 540 loss:0.127833 auc:0.9956\n",
      "Fit finished.\n",
      "epoch:   0 loss:0.952742 auc:0.7879\n",
      "epoch:  20 loss:0.268725 auc:0.9881\n",
      "epoch:  40 loss:0.207029 auc:0.9945\n",
      "epoch:  60 loss:0.182102 auc:0.9972\n",
      "epoch:  80 loss:0.172229 auc:0.9972\n",
      "epoch: 100 loss:0.164894 auc:0.9972\n",
      "epoch: 120 loss:0.154717 auc:0.9972\n",
      "epoch: 140 loss:0.148028 auc:0.9972\n",
      "epoch: 160 loss:0.145887 auc:0.9972\n",
      "epoch: 180 loss:0.145669 auc:0.9982\n",
      "epoch: 200 loss:0.141731 auc:0.9982\n"
     ]
    },
    {
     "name": "stderr",
     "output_type": "stream",
     "text": [
      " 41%|████      | 370/910 [54:44<1:36:40, 10.74s/it]"
     ]
    },
    {
     "name": "stdout",
     "output_type": "stream",
     "text": [
      "epoch: 220 loss:0.139286 auc:0.9963\n",
      "Fit finished.\n",
      "epoch:   0 loss:0.795843 auc:0.6241\n",
      "epoch:  20 loss:0.279144 auc:0.9605\n",
      "epoch:  40 loss:0.197953 auc:0.9632\n",
      "epoch:  60 loss:0.179178 auc:0.9600\n",
      "epoch:  80 loss:0.171331 auc:0.9627\n",
      "epoch: 100 loss:0.163958 auc:0.9638\n",
      "epoch: 120 loss:0.153453 auc:0.9638\n",
      "epoch: 140 loss:0.148443 auc:0.9659\n",
      "epoch: 160 loss:0.145379 auc:0.9659\n"
     ]
    },
    {
     "name": "stderr",
     "output_type": "stream",
     "text": [
      " 41%|████      | 371/910 [54:50<1:24:34,  9.42s/it]"
     ]
    },
    {
     "name": "stdout",
     "output_type": "stream",
     "text": [
      "epoch: 180 loss:0.145086 auc:0.9600\n",
      "Fit finished.\n",
      "epoch:   0 loss:1.148106 auc:0.7528\n",
      "epoch:  20 loss:0.266414 auc:0.9538\n",
      "epoch:  40 loss:0.196518 auc:0.9534\n",
      "epoch:  60 loss:0.175213 auc:0.9538\n",
      "epoch:  80 loss:0.165191 auc:0.9547\n",
      "epoch: 100 loss:0.155277 auc:0.9538\n",
      "epoch: 120 loss:0.148964 auc:0.9543\n",
      "epoch: 140 loss:0.146520 auc:0.9529\n",
      "epoch: 160 loss:0.144778 auc:0.9543\n",
      "epoch: 180 loss:0.144555 auc:0.9543\n",
      "epoch: 200 loss:0.142342 auc:0.9584\n"
     ]
    },
    {
     "name": "stderr",
     "output_type": "stream",
     "text": [
      " 41%|████      | 372/910 [54:58<1:20:52,  9.02s/it]"
     ]
    },
    {
     "name": "stdout",
     "output_type": "stream",
     "text": [
      "epoch: 220 loss:0.140720 auc:0.9502\n",
      "Fit finished.\n",
      "epoch:   0 loss:0.571191 auc:0.3765\n",
      "epoch:  20 loss:0.228933 auc:0.9907\n",
      "epoch:  40 loss:0.182542 auc:0.9815\n",
      "epoch:  60 loss:0.171303 auc:0.9815\n",
      "epoch:  80 loss:0.161231 auc:0.9815\n",
      "epoch: 100 loss:0.149387 auc:0.9815\n",
      "epoch: 120 loss:0.145737 auc:0.9815\n",
      "epoch: 140 loss:0.143929 auc:0.9815\n",
      "epoch: 160 loss:0.141168 auc:0.9877\n",
      "epoch: 180 loss:0.138820 auc:0.9938\n",
      "epoch: 200 loss:0.136397 auc:0.9938\n",
      "epoch: 220 loss:0.134617 auc:0.9938\n",
      "epoch: 240 loss:0.134253 auc:0.9938\n",
      "epoch: 260 loss:0.131984 auc:0.9938\n",
      "epoch: 280 loss:0.129792 auc:0.9877\n",
      "epoch: 300 loss:0.128269 auc:0.9877\n",
      "epoch: 320 loss:0.125144 auc:0.9907\n",
      "epoch: 340 loss:0.129645 auc:0.9938\n",
      "epoch: 360 loss:0.121908 auc:0.9938\n"
     ]
    },
    {
     "name": "stderr",
     "output_type": "stream",
     "text": [
      " 41%|████      | 373/910 [55:12<1:34:01, 10.51s/it]"
     ]
    },
    {
     "name": "stdout",
     "output_type": "stream",
     "text": [
      "epoch: 380 loss:0.119654 auc:0.9877\n",
      "Fit finished.\n",
      "epoch:   0 loss:1.017138 auc:0.4316\n",
      "epoch:  20 loss:0.284915 auc:0.9857\n",
      "epoch:  40 loss:0.215398 auc:0.9964\n",
      "epoch:  60 loss:0.182399 auc:0.9976\n",
      "epoch:  80 loss:0.172197 auc:0.9964\n",
      "epoch: 100 loss:0.164564 auc:0.9964\n",
      "epoch: 120 loss:0.155116 auc:0.9964\n",
      "epoch: 140 loss:0.149113 auc:0.9964\n",
      "epoch: 160 loss:0.146310 auc:0.9964\n",
      "epoch: 180 loss:0.144544 auc:0.9964\n",
      "epoch: 200 loss:0.142568 auc:0.9964\n",
      "epoch: 220 loss:0.141023 auc:1.0000\n",
      "epoch: 240 loss:0.138934 auc:1.0000\n",
      "epoch: 260 loss:0.139153 auc:1.0000\n",
      "epoch: 280 loss:0.137959 auc:1.0000\n",
      "epoch: 300 loss:0.136036 auc:0.9964\n"
     ]
    },
    {
     "name": "stderr",
     "output_type": "stream",
     "text": [
      " 41%|████      | 374/910 [55:23<1:34:48, 10.61s/it]"
     ]
    },
    {
     "name": "stdout",
     "output_type": "stream",
     "text": [
      "epoch: 320 loss:0.135699 auc:0.9917\n",
      "Fit finished.\n",
      "epoch:   0 loss:0.674768 auc:0.3981\n",
      "epoch:  20 loss:0.272644 auc:0.9474\n",
      "epoch:  40 loss:0.196164 auc:0.9481\n",
      "epoch:  60 loss:0.177726 auc:0.9518\n",
      "epoch:  80 loss:0.166312 auc:0.9562\n",
      "epoch: 100 loss:0.155489 auc:0.9540\n",
      "epoch: 120 loss:0.149503 auc:0.9540\n",
      "epoch: 140 loss:0.146778 auc:0.9547\n",
      "epoch: 160 loss:0.144806 auc:0.9540\n",
      "epoch: 180 loss:0.143162 auc:0.9518\n",
      "epoch: 200 loss:0.141905 auc:0.9481\n"
     ]
    },
    {
     "name": "stderr",
     "output_type": "stream",
     "text": [
      " 41%|████      | 375/910 [55:31<1:28:12,  9.89s/it]"
     ]
    },
    {
     "name": "stdout",
     "output_type": "stream",
     "text": [
      "epoch: 220 loss:0.140321 auc:0.9328\n",
      "Fit finished.\n",
      "epoch:   0 loss:0.872350 auc:0.6506\n",
      "epoch:  20 loss:0.285287 auc:0.9250\n",
      "epoch:  40 loss:0.211915 auc:0.9296\n",
      "epoch:  60 loss:0.180415 auc:0.9312\n",
      "epoch:  80 loss:0.168772 auc:0.9349\n",
      "epoch: 100 loss:0.158524 auc:0.9359\n",
      "epoch: 120 loss:0.150008 auc:0.9355\n",
      "epoch: 140 loss:0.146834 auc:0.9342\n",
      "epoch: 160 loss:0.145149 auc:0.9302\n",
      "epoch: 180 loss:0.143593 auc:0.9256\n"
     ]
    },
    {
     "name": "stderr",
     "output_type": "stream",
     "text": [
      " 41%|████▏     | 376/910 [55:39<1:22:04,  9.22s/it]"
     ]
    },
    {
     "name": "stdout",
     "output_type": "stream",
     "text": [
      "epoch: 200 loss:0.142088 auc:0.9002\n",
      "Fit finished.\n",
      "epoch:   0 loss:0.552367 auc:0.5398\n",
      "epoch:  20 loss:0.257553 auc:0.9896\n",
      "epoch:  40 loss:0.187298 auc:0.9965\n",
      "epoch:  60 loss:0.173215 auc:1.0000\n",
      "epoch:  80 loss:0.163912 auc:1.0000\n",
      "epoch: 100 loss:0.153583 auc:1.0000\n",
      "epoch: 120 loss:0.148467 auc:1.0000\n",
      "epoch: 140 loss:0.146020 auc:1.0000\n",
      "epoch: 160 loss:0.148568 auc:1.0000\n",
      "epoch: 180 loss:0.142419 auc:1.0000\n",
      "epoch: 200 loss:0.140177 auc:1.0000\n",
      "epoch: 220 loss:0.140978 auc:1.0000\n",
      "epoch: 240 loss:0.137850 auc:1.0000\n",
      "epoch: 260 loss:0.135967 auc:1.0000\n",
      "epoch: 280 loss:0.134370 auc:1.0000\n",
      "epoch: 300 loss:0.134075 auc:1.0000\n",
      "epoch: 320 loss:0.131670 auc:1.0000\n",
      "epoch: 340 loss:0.129566 auc:1.0000\n",
      "epoch: 360 loss:0.128544 auc:1.0000\n"
     ]
    },
    {
     "name": "stderr",
     "output_type": "stream",
     "text": [
      " 41%|████▏     | 377/910 [55:52<1:30:52, 10.23s/it]"
     ]
    },
    {
     "name": "stdout",
     "output_type": "stream",
     "text": [
      "epoch: 380 loss:0.125682 auc:0.9965\n",
      "Fit finished.\n",
      "epoch:   0 loss:0.891389 auc:0.6240\n",
      "epoch:  20 loss:0.281989 auc:0.9584\n",
      "epoch:  40 loss:0.212761 auc:0.9712\n",
      "epoch:  60 loss:0.180483 auc:0.9760\n",
      "epoch:  80 loss:0.170603 auc:0.9760\n",
      "epoch: 100 loss:0.162856 auc:0.9760\n",
      "epoch: 120 loss:0.153154 auc:0.9792\n",
      "epoch: 140 loss:0.148275 auc:0.9792\n",
      "epoch: 160 loss:0.145850 auc:0.9776\n",
      "epoch: 180 loss:0.146313 auc:0.9776\n",
      "epoch: 200 loss:0.143060 auc:0.9792\n",
      "epoch: 220 loss:0.141111 auc:0.9808\n",
      "epoch: 240 loss:0.140545 auc:0.9840\n",
      "epoch: 260 loss:0.138661 auc:0.9872\n",
      "epoch: 280 loss:0.137065 auc:0.9888\n",
      "epoch: 300 loss:0.135988 auc:0.9888\n",
      "epoch: 320 loss:0.135528 auc:0.9904\n",
      "epoch: 340 loss:0.133778 auc:0.9888\n",
      "epoch: 360 loss:0.132762 auc:0.9936\n",
      "epoch: 380 loss:0.130580 auc:0.9936\n",
      "epoch: 400 loss:0.128407 auc:0.9936\n",
      "epoch: 420 loss:0.135262 auc:0.9920\n",
      "epoch: 440 loss:0.126671 auc:0.9936\n",
      "epoch: 460 loss:0.124363 auc:0.9920\n"
     ]
    },
    {
     "name": "stderr",
     "output_type": "stream",
     "text": [
      " 42%|████▏     | 378/910 [56:09<1:49:53, 12.39s/it]"
     ]
    },
    {
     "name": "stdout",
     "output_type": "stream",
     "text": [
      "epoch: 480 loss:0.123631 auc:0.9856\n",
      "Fit finished.\n",
      "epoch:   0 loss:0.597872 auc:0.5508\n",
      "epoch:  20 loss:0.268239 auc:1.0000\n",
      "epoch:  40 loss:0.189516 auc:1.0000\n",
      "epoch:  60 loss:0.172061 auc:1.0000\n",
      "epoch:  80 loss:0.160685 auc:1.0000\n",
      "epoch: 100 loss:0.150827 auc:1.0000\n",
      "epoch: 120 loss:0.147356 auc:1.0000\n",
      "epoch: 140 loss:0.144932 auc:1.0000\n",
      "epoch: 160 loss:0.143067 auc:1.0000\n",
      "epoch: 180 loss:0.140606 auc:1.0000\n",
      "epoch: 200 loss:0.138519 auc:1.0000\n",
      "epoch: 220 loss:0.137665 auc:1.0000\n",
      "epoch: 240 loss:0.135741 auc:1.0000\n",
      "epoch: 260 loss:0.133340 auc:1.0000\n",
      "epoch: 280 loss:0.152546 auc:1.0000\n",
      "epoch: 300 loss:0.134825 auc:1.0000\n",
      "epoch: 320 loss:0.130824 auc:1.0000\n",
      "epoch: 340 loss:0.127951 auc:1.0000\n",
      "epoch: 360 loss:0.128082 auc:1.0000\n",
      "epoch: 380 loss:0.127167 auc:1.0000\n",
      "epoch: 400 loss:0.123944 auc:1.0000\n",
      "epoch: 420 loss:0.122324 auc:1.0000\n",
      "epoch: 440 loss:0.122050 auc:1.0000\n",
      "epoch: 460 loss:0.120362 auc:1.0000\n",
      "epoch: 480 loss:0.120748 auc:1.0000\n",
      "epoch: 500 loss:0.119121 auc:1.0000\n",
      "epoch: 520 loss:0.116437 auc:1.0000\n",
      "epoch: 540 loss:0.114970 auc:1.0000\n",
      "epoch: 560 loss:0.114610 auc:1.0000\n",
      "epoch: 580 loss:0.117119 auc:1.0000\n",
      "epoch: 600 loss:0.122914 auc:1.0000\n",
      "epoch: 620 loss:0.114817 auc:1.0000\n",
      "epoch: 640 loss:0.112225 auc:1.0000\n",
      "epoch: 660 loss:0.111335 auc:1.0000\n",
      "epoch: 680 loss:0.110745 auc:1.0000\n",
      "epoch: 700 loss:0.110244 auc:1.0000\n",
      "epoch: 720 loss:0.109779 auc:1.0000\n",
      "epoch: 740 loss:0.109339 auc:1.0000\n",
      "epoch: 760 loss:0.108981 auc:1.0000\n",
      "epoch: 780 loss:0.108918 auc:1.0000\n",
      "epoch: 800 loss:0.108440 auc:1.0000\n",
      "epoch: 820 loss:0.108310 auc:1.0000\n",
      "epoch: 840 loss:0.109317 auc:1.0000\n",
      "epoch: 860 loss:0.112763 auc:1.0000\n",
      "epoch: 880 loss:0.107846 auc:1.0000\n",
      "epoch: 900 loss:0.107002 auc:1.0000\n",
      "epoch: 920 loss:0.106502 auc:1.0000\n",
      "epoch: 940 loss:0.106200 auc:1.0000\n",
      "epoch: 960 loss:0.105930 auc:1.0000\n",
      "epoch: 980 loss:0.105674 auc:1.0000\n"
     ]
    },
    {
     "name": "stderr",
     "output_type": "stream",
     "text": [
      " 42%|████▏     | 379/910 [56:43<2:46:12, 18.78s/it]"
     ]
    },
    {
     "name": "stdout",
     "output_type": "stream",
     "text": [
      "Fit finished.\n",
      "epoch:   0 loss:0.865360 auc:0.8823\n",
      "epoch:  20 loss:0.297674 auc:0.9834\n",
      "epoch:  40 loss:0.234263 auc:0.9964\n",
      "epoch:  60 loss:0.185511 auc:0.9976\n",
      "epoch:  80 loss:0.168881 auc:0.9976\n",
      "epoch: 100 loss:0.156478 auc:0.9964\n",
      "epoch: 120 loss:0.149526 auc:0.9964\n",
      "epoch: 140 loss:0.146879 auc:0.9952\n",
      "epoch: 160 loss:0.145031 auc:0.9964\n",
      "epoch: 180 loss:0.144043 auc:0.9964\n",
      "epoch: 200 loss:0.142452 auc:0.9964\n"
     ]
    },
    {
     "name": "stderr",
     "output_type": "stream",
     "text": [
      " 42%|████▏     | 380/910 [56:50<2:16:45, 15.48s/it]"
     ]
    },
    {
     "name": "stdout",
     "output_type": "stream",
     "text": [
      "epoch: 220 loss:0.141485 auc:0.9964\n",
      "Fit finished.\n",
      "epoch:   0 loss:0.850589 auc:0.5332\n",
      "epoch:  20 loss:0.291896 auc:0.9664\n",
      "epoch:  40 loss:0.223608 auc:0.9690\n",
      "epoch:  60 loss:0.184216 auc:0.9687\n",
      "epoch:  80 loss:0.172400 auc:0.9733\n",
      "epoch: 100 loss:0.164303 auc:0.9739\n",
      "epoch: 120 loss:0.154403 auc:0.9730\n",
      "epoch: 140 loss:0.148373 auc:0.9724\n",
      "epoch: 160 loss:0.145917 auc:0.9695\n"
     ]
    },
    {
     "name": "stderr",
     "output_type": "stream",
     "text": [
      " 42%|████▏     | 381/910 [56:58<1:54:16, 12.96s/it]"
     ]
    },
    {
     "name": "stdout",
     "output_type": "stream",
     "text": [
      "epoch: 180 loss:0.146636 auc:0.9586\n",
      "Fit finished.\n",
      "epoch:   0 loss:0.568413 auc:0.5391\n",
      "epoch:  20 loss:0.222467 auc:0.9945\n",
      "epoch:  40 loss:0.179701 auc:0.9973\n",
      "epoch:  60 loss:0.169585 auc:0.9945\n",
      "epoch:  80 loss:0.160772 auc:0.9945\n",
      "epoch: 100 loss:0.150433 auc:0.9945\n",
      "epoch: 120 loss:0.146501 auc:0.9973\n",
      "epoch: 140 loss:0.143673 auc:0.9973\n",
      "epoch: 160 loss:0.143445 auc:1.0000\n",
      "epoch: 180 loss:0.138587 auc:1.0000\n",
      "epoch: 200 loss:0.136787 auc:1.0000\n",
      "epoch: 220 loss:0.135344 auc:1.0000\n",
      "epoch: 240 loss:0.133344 auc:1.0000\n",
      "epoch: 260 loss:0.147661 auc:1.0000\n",
      "epoch: 280 loss:0.132354 auc:1.0000\n",
      "epoch: 300 loss:0.129009 auc:1.0000\n"
     ]
    },
    {
     "name": "stderr",
     "output_type": "stream",
     "text": [
      " 42%|████▏     | 382/910 [57:10<1:51:43, 12.70s/it]"
     ]
    },
    {
     "name": "stdout",
     "output_type": "stream",
     "text": [
      "epoch: 320 loss:0.127820 auc:0.9986\n",
      "Fit finished.\n",
      "epoch:   0 loss:0.542330 auc:0.8776\n",
      "epoch:  20 loss:0.256709 auc:0.9977\n",
      "epoch:  40 loss:0.187785 auc:1.0000\n",
      "epoch:  60 loss:0.171477 auc:1.0000\n",
      "epoch:  80 loss:0.160524 auc:1.0000\n",
      "epoch: 100 loss:0.150695 auc:1.0000\n",
      "epoch: 120 loss:0.147299 auc:1.0000\n",
      "epoch: 140 loss:0.146870 auc:1.0000\n",
      "epoch: 160 loss:0.143774 auc:1.0000\n",
      "epoch: 180 loss:0.141658 auc:1.0000\n",
      "epoch: 200 loss:0.142270 auc:1.0000\n",
      "epoch: 220 loss:0.138518 auc:1.0000\n",
      "epoch: 240 loss:0.136371 auc:1.0000\n",
      "epoch: 260 loss:0.134679 auc:1.0000\n",
      "epoch: 280 loss:0.133968 auc:1.0000\n",
      "epoch: 300 loss:0.132761 auc:1.0000\n",
      "epoch: 320 loss:0.130783 auc:1.0000\n",
      "epoch: 340 loss:0.132788 auc:1.0000\n",
      "epoch: 360 loss:0.129253 auc:1.0000\n",
      "epoch: 380 loss:0.126469 auc:1.0000\n",
      "epoch: 400 loss:0.124296 auc:1.0000\n",
      "epoch: 420 loss:0.122791 auc:1.0000\n",
      "epoch: 440 loss:0.122605 auc:1.0000\n",
      "epoch: 460 loss:0.121559 auc:1.0000\n"
     ]
    },
    {
     "name": "stderr",
     "output_type": "stream",
     "text": [
      " 42%|████▏     | 383/910 [57:27<2:04:36, 14.19s/it]"
     ]
    },
    {
     "name": "stdout",
     "output_type": "stream",
     "text": [
      "epoch: 480 loss:0.123377 auc:0.9977\n",
      "Fit finished.\n",
      "epoch:   0 loss:0.669337 auc:0.3183\n",
      "epoch:  20 loss:0.254778 auc:0.9931\n",
      "epoch:  40 loss:0.187668 auc:0.9965\n",
      "epoch:  60 loss:0.172132 auc:0.9965\n",
      "epoch:  80 loss:0.163751 auc:0.9965\n",
      "epoch: 100 loss:0.153633 auc:0.9965\n",
      "epoch: 120 loss:0.148617 auc:0.9965\n",
      "epoch: 140 loss:0.146201 auc:0.9965\n",
      "epoch: 160 loss:0.144184 auc:0.9965\n",
      "epoch: 180 loss:0.142543 auc:0.9965\n",
      "epoch: 200 loss:0.140492 auc:0.9965\n",
      "epoch: 220 loss:0.137926 auc:1.0000\n",
      "epoch: 240 loss:0.139914 auc:0.9965\n",
      "epoch: 260 loss:0.135171 auc:1.0000\n",
      "epoch: 280 loss:0.133640 auc:0.9965\n",
      "epoch: 300 loss:0.133797 auc:0.9965\n"
     ]
    },
    {
     "name": "stderr",
     "output_type": "stream",
     "text": [
      " 42%|████▏     | 384/910 [57:38<1:55:24, 13.16s/it]"
     ]
    },
    {
     "name": "stdout",
     "output_type": "stream",
     "text": [
      "epoch: 320 loss:0.131758 auc:0.9931\n",
      "Fit finished.\n",
      "epoch:   0 loss:0.658885 auc:0.2561\n",
      "epoch:  20 loss:0.256465 auc:1.0000\n",
      "epoch:  40 loss:0.189980 auc:1.0000\n",
      "epoch:  60 loss:0.175017 auc:1.0000\n",
      "epoch:  80 loss:0.165943 auc:1.0000\n",
      "epoch: 100 loss:0.155119 auc:1.0000\n",
      "epoch: 120 loss:0.148605 auc:1.0000\n",
      "epoch: 140 loss:0.145769 auc:1.0000\n",
      "epoch: 160 loss:0.143451 auc:1.0000\n",
      "epoch: 180 loss:0.142343 auc:1.0000\n",
      "epoch: 200 loss:0.139830 auc:1.0000\n",
      "epoch: 220 loss:0.143708 auc:1.0000\n",
      "epoch: 240 loss:0.136755 auc:1.0000\n",
      "epoch: 260 loss:0.134956 auc:1.0000\n",
      "epoch: 280 loss:0.133234 auc:1.0000\n",
      "epoch: 300 loss:0.133490 auc:1.0000\n",
      "epoch: 320 loss:0.130586 auc:1.0000\n",
      "epoch: 340 loss:0.132311 auc:1.0000\n",
      "epoch: 360 loss:0.131196 auc:1.0000\n",
      "epoch: 380 loss:0.124504 auc:1.0000\n",
      "epoch: 400 loss:0.122316 auc:1.0000\n",
      "epoch: 420 loss:0.120583 auc:1.0000\n",
      "epoch: 440 loss:0.120618 auc:1.0000\n",
      "epoch: 460 loss:0.118261 auc:1.0000\n",
      "epoch: 480 loss:0.116749 auc:1.0000\n",
      "epoch: 500 loss:0.116254 auc:1.0000\n",
      "epoch: 520 loss:0.116384 auc:1.0000\n",
      "epoch: 540 loss:0.124522 auc:1.0000\n",
      "epoch: 560 loss:0.115383 auc:1.0000\n",
      "epoch: 580 loss:0.113756 auc:1.0000\n",
      "epoch: 600 loss:0.112813 auc:1.0000\n",
      "epoch: 620 loss:0.112079 auc:1.0000\n",
      "epoch: 640 loss:0.111484 auc:1.0000\n",
      "epoch: 660 loss:0.111452 auc:1.0000\n",
      "epoch: 680 loss:0.110307 auc:1.0000\n",
      "epoch: 700 loss:0.109756 auc:1.0000\n",
      "epoch: 720 loss:0.109265 auc:1.0000\n",
      "epoch: 740 loss:0.108873 auc:1.0000\n",
      "epoch: 760 loss:0.108549 auc:1.0000\n",
      "epoch: 780 loss:0.108515 auc:1.0000\n",
      "epoch: 800 loss:0.107968 auc:1.0000\n",
      "epoch: 820 loss:0.107959 auc:1.0000\n",
      "epoch: 840 loss:0.107247 auc:1.0000\n",
      "epoch: 860 loss:0.109958 auc:1.0000\n",
      "epoch: 880 loss:0.111800 auc:1.0000\n",
      "epoch: 900 loss:0.107351 auc:1.0000\n",
      "epoch: 920 loss:0.106300 auc:1.0000\n",
      "epoch: 940 loss:0.105904 auc:1.0000\n",
      "epoch: 960 loss:0.105617 auc:1.0000\n",
      "epoch: 980 loss:0.105378 auc:1.0000\n"
     ]
    },
    {
     "name": "stderr",
     "output_type": "stream",
     "text": [
      " 42%|████▏     | 385/910 [58:10<2:43:18, 18.66s/it]"
     ]
    },
    {
     "name": "stdout",
     "output_type": "stream",
     "text": [
      "Fit finished.\n",
      "epoch:   0 loss:1.196727 auc:0.4307\n",
      "epoch:  20 loss:0.274715 auc:0.9868\n",
      "epoch:  40 loss:0.199276 auc:0.9875\n",
      "epoch:  60 loss:0.178841 auc:0.9903\n",
      "epoch:  80 loss:0.169106 auc:0.9896\n",
      "epoch: 100 loss:0.160631 auc:0.9896\n",
      "epoch: 120 loss:0.151352 auc:0.9903\n",
      "epoch: 140 loss:0.147550 auc:0.9903\n",
      "epoch: 160 loss:0.145187 auc:0.9910\n",
      "epoch: 180 loss:0.143710 auc:0.9903\n",
      "epoch: 200 loss:0.142016 auc:0.9889\n"
     ]
    },
    {
     "name": "stderr",
     "output_type": "stream",
     "text": [
      " 42%|████▏     | 386/910 [58:19<2:18:08, 15.82s/it]"
     ]
    },
    {
     "name": "stdout",
     "output_type": "stream",
     "text": [
      "epoch: 220 loss:0.139852 auc:0.9855\n",
      "Fit finished.\n",
      "epoch:   0 loss:0.949038 auc:0.4340\n",
      "epoch:  20 loss:0.261311 auc:0.9444\n",
      "epoch:  40 loss:0.191914 auc:0.9479\n",
      "epoch:  60 loss:0.175466 auc:0.9566\n",
      "epoch:  80 loss:0.166127 auc:0.9566\n",
      "epoch: 100 loss:0.156732 auc:0.9566\n",
      "epoch: 120 loss:0.149287 auc:0.9566\n",
      "epoch: 140 loss:0.146589 auc:0.9566\n",
      "epoch: 160 loss:0.144685 auc:0.9566\n",
      "epoch: 180 loss:0.143625 auc:0.9566\n"
     ]
    },
    {
     "name": "stderr",
     "output_type": "stream",
     "text": [
      " 43%|████▎     | 387/910 [58:25<1:53:46, 13.05s/it]"
     ]
    },
    {
     "name": "stdout",
     "output_type": "stream",
     "text": [
      "epoch: 200 loss:0.141750 auc:0.9358\n",
      "Fit finished.\n",
      "epoch:   0 loss:1.180543 auc:0.5528\n",
      "epoch:  20 loss:0.268509 auc:0.9849\n",
      "epoch:  40 loss:0.193871 auc:0.9904\n",
      "epoch:  60 loss:0.179854 auc:0.9904\n",
      "epoch:  80 loss:0.172772 auc:0.9904\n",
      "epoch: 100 loss:0.167924 auc:0.9904\n",
      "epoch: 120 loss:0.161824 auc:0.9904\n",
      "epoch: 140 loss:0.153135 auc:0.9904\n",
      "epoch: 160 loss:0.147914 auc:0.9904\n",
      "epoch: 180 loss:0.145697 auc:0.9904\n",
      "epoch: 200 loss:0.144068 auc:0.9904\n"
     ]
    },
    {
     "name": "stderr",
     "output_type": "stream",
     "text": [
      " 43%|████▎     | 388/910 [58:32<1:37:43, 11.23s/it]"
     ]
    },
    {
     "name": "stdout",
     "output_type": "stream",
     "text": [
      "epoch: 220 loss:0.142838 auc:0.9890\n",
      "Fit finished.\n",
      "epoch:   0 loss:1.125268 auc:0.6947\n",
      "epoch:  20 loss:0.277147 auc:0.9735\n",
      "epoch:  40 loss:0.202448 auc:0.9693\n",
      "epoch:  60 loss:0.180588 auc:0.9693\n",
      "epoch:  80 loss:0.171137 auc:0.9712\n",
      "epoch: 100 loss:0.163825 auc:0.9721\n",
      "epoch: 120 loss:0.154614 auc:0.9712\n",
      "epoch: 140 loss:0.148336 auc:0.9707\n",
      "epoch: 160 loss:0.145890 auc:0.9707\n"
     ]
    },
    {
     "name": "stderr",
     "output_type": "stream",
     "text": [
      " 43%|████▎     | 389/910 [58:40<1:27:06, 10.03s/it]"
     ]
    },
    {
     "name": "stdout",
     "output_type": "stream",
     "text": [
      "epoch: 180 loss:0.143992 auc:0.9721\n",
      "Fit finished.\n",
      "epoch:   0 loss:0.765200 auc:0.4778\n",
      "epoch:  20 loss:0.268546 auc:0.9368\n",
      "epoch:  40 loss:0.196795 auc:0.9390\n",
      "epoch:  60 loss:0.176649 auc:0.9424\n",
      "epoch:  80 loss:0.166458 auc:0.9431\n",
      "epoch: 100 loss:0.156775 auc:0.9419\n",
      "epoch: 120 loss:0.149598 auc:0.9417\n",
      "epoch: 140 loss:0.146944 auc:0.9421\n",
      "epoch: 160 loss:0.145005 auc:0.9387\n"
     ]
    },
    {
     "name": "stderr",
     "output_type": "stream",
     "text": [
      " 43%|████▎     | 390/910 [58:45<1:16:15,  8.80s/it]"
     ]
    },
    {
     "name": "stdout",
     "output_type": "stream",
     "text": [
      "epoch: 180 loss:0.143985 auc:0.9333\n",
      "Fit finished.\n",
      "epoch:   0 loss:0.753289 auc:0.3772\n",
      "epoch:  20 loss:0.254978 auc:0.9758\n",
      "epoch:  40 loss:0.189563 auc:0.9758\n",
      "epoch:  60 loss:0.172544 auc:0.9792\n",
      "epoch:  80 loss:0.162253 auc:0.9792\n",
      "epoch: 100 loss:0.150903 auc:0.9827\n",
      "epoch: 120 loss:0.147225 auc:0.9827\n",
      "epoch: 140 loss:0.145111 auc:0.9827\n",
      "epoch: 160 loss:0.143213 auc:0.9827\n",
      "epoch: 180 loss:0.142861 auc:0.9827\n",
      "epoch: 200 loss:0.139614 auc:0.9827\n",
      "epoch: 220 loss:0.138179 auc:0.9827\n",
      "epoch: 240 loss:0.135914 auc:0.9862\n",
      "epoch: 260 loss:0.134237 auc:0.9862\n",
      "epoch: 280 loss:0.134819 auc:0.9862\n",
      "epoch: 300 loss:0.131851 auc:0.9862\n",
      "epoch: 320 loss:0.128970 auc:0.9827\n",
      "epoch: 340 loss:0.127730 auc:0.9827\n",
      "epoch: 360 loss:0.126844 auc:0.9827\n",
      "epoch: 380 loss:0.127955 auc:0.9827\n"
     ]
    },
    {
     "name": "stderr",
     "output_type": "stream",
     "text": [
      " 43%|████▎     | 391/910 [59:01<1:32:59, 10.75s/it]"
     ]
    },
    {
     "name": "stdout",
     "output_type": "stream",
     "text": [
      "epoch: 400 loss:0.123761 auc:0.9827\n",
      "Fit finished.\n",
      "epoch:   0 loss:0.512924 auc:0.5168\n",
      "epoch:  20 loss:0.199497 auc:0.9594\n",
      "epoch:  40 loss:0.175477 auc:0.9652\n",
      "epoch:  60 loss:0.164928 auc:0.9667\n",
      "epoch:  80 loss:0.150975 auc:0.9637\n",
      "epoch: 100 loss:0.146852 auc:0.9627\n",
      "epoch: 120 loss:0.144048 auc:0.9554\n",
      "epoch: 140 loss:0.141389 auc:0.9423\n",
      "epoch: 160 loss:0.140874 auc:0.9035\n"
     ]
    },
    {
     "name": "stderr",
     "output_type": "stream",
     "text": [
      " 43%|████▎     | 392/910 [59:07<1:22:07,  9.51s/it]"
     ]
    },
    {
     "name": "stdout",
     "output_type": "stream",
     "text": [
      "epoch: 180 loss:0.136092 auc:0.8141\n",
      "Fit finished.\n",
      "epoch:   0 loss:0.472972 auc:0.2825\n",
      "epoch:  20 loss:0.216867 auc:0.9280\n",
      "epoch:  40 loss:0.180288 auc:0.9307\n",
      "epoch:  60 loss:0.167924 auc:0.9252\n",
      "epoch:  80 loss:0.155260 auc:0.9252\n",
      "epoch: 100 loss:0.147873 auc:0.9224\n",
      "epoch: 120 loss:0.144858 auc:0.9391\n",
      "epoch: 140 loss:0.141004 auc:0.9391\n",
      "epoch: 160 loss:0.139478 auc:0.9501\n",
      "epoch: 180 loss:0.135238 auc:0.9501\n",
      "epoch: 200 loss:0.132649 auc:0.9557\n",
      "epoch: 220 loss:0.129898 auc:0.9446\n",
      "epoch: 240 loss:0.128358 auc:0.9446\n",
      "epoch: 260 loss:0.125587 auc:0.9446\n",
      "epoch: 280 loss:0.123398 auc:0.9446\n",
      "epoch: 300 loss:0.121517 auc:0.9446\n"
     ]
    },
    {
     "name": "stderr",
     "output_type": "stream",
     "text": [
      " 43%|████▎     | 393/910 [59:19<1:26:15, 10.01s/it]"
     ]
    },
    {
     "name": "stdout",
     "output_type": "stream",
     "text": [
      "epoch: 320 loss:0.120378 auc:0.9446\n",
      "Fit finished.\n",
      "epoch:   0 loss:1.203435 auc:0.7617\n",
      "epoch:  20 loss:0.276790 auc:0.9461\n",
      "epoch:  40 loss:0.212545 auc:0.9494\n",
      "epoch:  60 loss:0.183109 auc:0.9504\n",
      "epoch:  80 loss:0.171920 auc:0.9511\n",
      "epoch: 100 loss:0.164361 auc:0.9498\n",
      "epoch: 120 loss:0.155314 auc:0.9498\n",
      "epoch: 140 loss:0.149186 auc:0.9478\n",
      "epoch: 160 loss:0.146754 auc:0.9461\n"
     ]
    },
    {
     "name": "stderr",
     "output_type": "stream",
     "text": [
      " 43%|████▎     | 394/910 [59:25<1:15:40,  8.80s/it]"
     ]
    },
    {
     "name": "stdout",
     "output_type": "stream",
     "text": [
      "epoch: 180 loss:0.145043 auc:0.9431\n",
      "Fit finished.\n",
      "epoch:   0 loss:0.512540 auc:0.6400\n",
      "epoch:  20 loss:0.254843 auc:0.9128\n",
      "epoch:  40 loss:0.187555 auc:0.9201\n",
      "epoch:  60 loss:0.170682 auc:0.9302\n",
      "epoch:  80 loss:0.159730 auc:0.9302\n",
      "epoch: 100 loss:0.150367 auc:0.9293\n",
      "epoch: 120 loss:0.147092 auc:0.9293\n",
      "epoch: 140 loss:0.145155 auc:0.9320\n",
      "epoch: 160 loss:0.143578 auc:0.9348\n",
      "epoch: 180 loss:0.146079 auc:0.9357\n",
      "epoch: 200 loss:0.140804 auc:0.9348\n"
     ]
    },
    {
     "name": "stderr",
     "output_type": "stream",
     "text": [
      " 43%|████▎     | 395/910 [59:32<1:11:57,  8.38s/it]"
     ]
    },
    {
     "name": "stdout",
     "output_type": "stream",
     "text": [
      "epoch: 220 loss:0.137424 auc:0.8999\n",
      "Fit finished.\n",
      "epoch:   0 loss:0.891925 auc:0.1627\n",
      "epoch:  20 loss:0.249287 auc:0.9763\n",
      "epoch:  40 loss:0.191660 auc:0.9778\n",
      "epoch:  60 loss:0.177176 auc:0.9793\n",
      "epoch:  80 loss:0.171073 auc:0.9793\n",
      "epoch: 100 loss:0.164681 auc:0.9778\n",
      "epoch: 120 loss:0.156121 auc:0.9793\n",
      "epoch: 140 loss:0.149778 auc:0.9793\n",
      "epoch: 160 loss:0.146928 auc:0.9778\n",
      "epoch: 180 loss:0.144465 auc:0.9763\n"
     ]
    },
    {
     "name": "stderr",
     "output_type": "stream",
     "text": [
      " 44%|████▎     | 396/910 [59:39<1:07:30,  7.88s/it]"
     ]
    },
    {
     "name": "stdout",
     "output_type": "stream",
     "text": [
      "epoch: 200 loss:0.144399 auc:0.9719\n",
      "Fit finished.\n",
      "epoch:   0 loss:0.554564 auc:0.7844\n",
      "epoch:  20 loss:0.275711 auc:0.9822\n",
      "epoch:  40 loss:0.196373 auc:0.9933\n",
      "epoch:  60 loss:0.174279 auc:0.9922\n",
      "epoch:  80 loss:0.161933 auc:0.9911\n",
      "epoch: 100 loss:0.150643 auc:0.9944\n",
      "epoch: 120 loss:0.147073 auc:0.9922\n",
      "epoch: 140 loss:0.144774 auc:0.9944\n",
      "epoch: 160 loss:0.147749 auc:0.9933\n",
      "epoch: 180 loss:0.142480 auc:0.9944\n",
      "epoch: 200 loss:0.139266 auc:0.9933\n",
      "epoch: 220 loss:0.143370 auc:0.9922\n"
     ]
    },
    {
     "name": "stderr",
     "output_type": "stream",
     "text": [
      " 44%|████▎     | 397/910 [59:48<1:10:14,  8.22s/it]"
     ]
    },
    {
     "name": "stdout",
     "output_type": "stream",
     "text": [
      "epoch: 240 loss:0.136557 auc:0.9856\n",
      "Fit finished.\n",
      "epoch:   0 loss:0.844540 auc:0.2009\n",
      "epoch:  20 loss:0.272988 auc:0.9664\n",
      "epoch:  40 loss:0.193613 auc:0.9722\n",
      "epoch:  60 loss:0.175543 auc:0.9774\n",
      "epoch:  80 loss:0.165370 auc:0.9795\n",
      "epoch: 100 loss:0.154381 auc:0.9788\n",
      "epoch: 120 loss:0.148179 auc:0.9781\n",
      "epoch: 140 loss:0.145528 auc:0.9766\n",
      "epoch: 160 loss:0.143446 auc:0.9730\n",
      "epoch: 180 loss:0.141659 auc:0.9701\n"
     ]
    },
    {
     "name": "stderr",
     "output_type": "stream",
     "text": [
      " 44%|████▎     | 398/910 [59:56<1:09:41,  8.17s/it]"
     ]
    },
    {
     "name": "stdout",
     "output_type": "stream",
     "text": [
      "epoch: 200 loss:0.139258 auc:0.9299\n",
      "Fit finished.\n",
      "epoch:   0 loss:0.491849 auc:0.5442\n",
      "epoch:  20 loss:0.249781 auc:0.9938\n",
      "epoch:  40 loss:0.186666 auc:0.9927\n",
      "epoch:  60 loss:0.171195 auc:0.9938\n",
      "epoch:  80 loss:0.160710 auc:0.9927\n",
      "epoch: 100 loss:0.150767 auc:0.9927\n",
      "epoch: 120 loss:0.147086 auc:0.9927\n",
      "epoch: 140 loss:0.147670 auc:0.9927\n",
      "epoch: 160 loss:0.142818 auc:0.9948\n",
      "epoch: 180 loss:0.144008 auc:0.9948\n",
      "epoch: 200 loss:0.138431 auc:0.9969\n",
      "epoch: 220 loss:0.135910 auc:0.9969\n",
      "epoch: 240 loss:0.134101 auc:0.9958\n"
     ]
    },
    {
     "name": "stderr",
     "output_type": "stream",
     "text": [
      " 44%|████▍     | 399/910 [1:00:04<1:10:31,  8.28s/it]"
     ]
    },
    {
     "name": "stdout",
     "output_type": "stream",
     "text": [
      "epoch: 260 loss:0.133688 auc:0.9906\n",
      "Fit finished.\n",
      "epoch:   0 loss:0.835599 auc:0.2834\n",
      "epoch:  20 loss:0.269499 auc:0.9841\n",
      "epoch:  40 loss:0.190760 auc:0.9841\n",
      "epoch:  60 loss:0.174839 auc:0.9864\n",
      "epoch:  80 loss:0.163747 auc:0.9864\n",
      "epoch: 100 loss:0.151483 auc:0.9864\n",
      "epoch: 120 loss:0.147529 auc:0.9864\n",
      "epoch: 140 loss:0.145398 auc:0.9864\n",
      "epoch: 160 loss:0.143038 auc:0.9841\n",
      "epoch: 180 loss:0.141171 auc:0.9841\n",
      "epoch: 200 loss:0.139474 auc:0.9864\n",
      "epoch: 220 loss:0.139969 auc:0.9864\n",
      "epoch: 240 loss:0.137407 auc:0.9932\n",
      "epoch: 260 loss:0.135859 auc:0.9977\n",
      "epoch: 280 loss:0.133988 auc:0.9977\n",
      "epoch: 300 loss:0.132606 auc:0.9977\n",
      "epoch: 320 loss:0.130978 auc:0.9977\n",
      "epoch: 340 loss:0.132768 auc:0.9864\n",
      "epoch: 360 loss:0.131788 auc:0.9977\n",
      "epoch: 380 loss:0.127108 auc:0.9955\n"
     ]
    },
    {
     "name": "stderr",
     "output_type": "stream",
     "text": [
      " 44%|████▍     | 400/910 [1:00:18<1:23:49,  9.86s/it]"
     ]
    },
    {
     "name": "stdout",
     "output_type": "stream",
     "text": [
      "epoch: 400 loss:0.125275 auc:0.9909\n",
      "Fit finished.\n",
      "epoch:   0 loss:0.591249 auc:0.2994\n",
      "epoch:  20 loss:0.250954 auc:0.9645\n",
      "epoch:  40 loss:0.188300 auc:0.9614\n",
      "epoch:  60 loss:0.173047 auc:0.9552\n",
      "epoch:  80 loss:0.164101 auc:0.9545\n",
      "epoch: 100 loss:0.152625 auc:0.9522\n",
      "epoch: 120 loss:0.147807 auc:0.9537\n",
      "epoch: 140 loss:0.145219 auc:0.9537\n",
      "epoch: 160 loss:0.144031 auc:0.9398\n"
     ]
    },
    {
     "name": "stderr",
     "output_type": "stream",
     "text": [
      " 44%|████▍     | 401/910 [1:00:24<1:15:26,  8.89s/it]"
     ]
    },
    {
     "name": "stdout",
     "output_type": "stream",
     "text": [
      "epoch: 180 loss:0.141278 auc:0.9475\n",
      "Fit finished.\n",
      "epoch:   0 loss:0.563380 auc:0.7211\n",
      "epoch:  20 loss:0.268654 auc:0.9628\n",
      "epoch:  40 loss:0.191955 auc:0.9752\n",
      "epoch:  60 loss:0.176435 auc:0.9752\n",
      "epoch:  80 loss:0.167372 auc:0.9773\n",
      "epoch: 100 loss:0.157100 auc:0.9752\n",
      "epoch: 120 loss:0.149624 auc:0.9773\n",
      "epoch: 140 loss:0.146568 auc:0.9752\n",
      "epoch: 160 loss:0.145560 auc:0.9752\n",
      "epoch: 180 loss:0.143622 auc:0.9773\n",
      "epoch: 200 loss:0.142187 auc:0.9814\n",
      "epoch: 220 loss:0.140405 auc:0.9876\n",
      "epoch: 240 loss:0.138621 auc:0.9938\n",
      "epoch: 260 loss:0.137533 auc:0.9979\n",
      "epoch: 280 loss:0.135133 auc:0.9979\n",
      "epoch: 300 loss:0.136922 auc:0.9979\n",
      "epoch: 320 loss:0.132122 auc:1.0000\n",
      "epoch: 340 loss:0.137335 auc:0.9959\n",
      "epoch: 360 loss:0.130038 auc:0.9979\n",
      "epoch: 380 loss:0.127427 auc:1.0000\n",
      "epoch: 400 loss:0.126522 auc:0.9959\n"
     ]
    },
    {
     "name": "stderr",
     "output_type": "stream",
     "text": [
      " 44%|████▍     | 402/910 [1:00:40<1:32:47, 10.96s/it]"
     ]
    },
    {
     "name": "stdout",
     "output_type": "stream",
     "text": [
      "epoch: 420 loss:0.126642 auc:0.9959\n",
      "Fit finished.\n",
      "epoch:   0 loss:0.770121 auc:0.5196\n",
      "epoch:  20 loss:0.264243 auc:0.9929\n",
      "epoch:  40 loss:0.192596 auc:0.9952\n",
      "epoch:  60 loss:0.176559 auc:0.9964\n",
      "epoch:  80 loss:0.166894 auc:0.9964\n",
      "epoch: 100 loss:0.156662 auc:0.9964\n",
      "epoch: 120 loss:0.150044 auc:0.9964\n",
      "epoch: 140 loss:0.147154 auc:0.9964\n",
      "epoch: 160 loss:0.144988 auc:0.9964\n",
      "epoch: 180 loss:0.144301 auc:0.9964\n",
      "epoch: 200 loss:0.141532 auc:0.9976\n",
      "epoch: 220 loss:0.139203 auc:0.9964\n"
     ]
    },
    {
     "name": "stderr",
     "output_type": "stream",
     "text": [
      " 44%|████▍     | 403/910 [1:00:49<1:26:52, 10.28s/it]"
     ]
    },
    {
     "name": "stdout",
     "output_type": "stream",
     "text": [
      "epoch: 240 loss:0.137923 auc:0.9905\n",
      "Fit finished.\n",
      "epoch:   0 loss:0.598984 auc:0.2900\n",
      "epoch:  20 loss:0.234370 auc:0.9725\n",
      "epoch:  40 loss:0.183245 auc:0.9800\n",
      "epoch:  60 loss:0.172256 auc:0.9800\n",
      "epoch:  80 loss:0.164362 auc:0.9775\n",
      "epoch: 100 loss:0.152902 auc:0.9775\n",
      "epoch: 120 loss:0.147492 auc:0.9775\n",
      "epoch: 140 loss:0.144412 auc:0.9825\n",
      "epoch: 160 loss:0.143657 auc:0.9850\n",
      "epoch: 180 loss:0.140062 auc:0.9850\n",
      "epoch: 200 loss:0.137581 auc:0.9900\n",
      "epoch: 220 loss:0.136585 auc:0.9925\n",
      "epoch: 240 loss:0.135090 auc:0.9975\n",
      "epoch: 260 loss:0.133249 auc:0.9975\n",
      "epoch: 280 loss:0.131907 auc:0.9975\n",
      "epoch: 300 loss:0.132444 auc:1.0000\n",
      "epoch: 320 loss:0.128146 auc:0.9950\n",
      "epoch: 340 loss:0.128185 auc:0.9950\n",
      "epoch: 360 loss:0.126953 auc:0.9925\n",
      "epoch: 380 loss:0.124214 auc:0.9975\n"
     ]
    },
    {
     "name": "stderr",
     "output_type": "stream",
     "text": [
      " 44%|████▍     | 404/910 [1:01:03<1:37:13, 11.53s/it]"
     ]
    },
    {
     "name": "stdout",
     "output_type": "stream",
     "text": [
      "epoch: 400 loss:0.122218 auc:0.9875\n",
      "Fit finished.\n",
      "epoch:   0 loss:0.841743 auc:0.5000\n",
      "epoch:  20 loss:0.262203 auc:0.9439\n",
      "epoch:  40 loss:0.190305 auc:0.9286\n",
      "epoch:  60 loss:0.176664 auc:0.9337\n",
      "epoch:  80 loss:0.168060 auc:0.9388\n",
      "epoch: 100 loss:0.158716 auc:0.9541\n",
      "epoch: 120 loss:0.150151 auc:0.9643\n",
      "epoch: 140 loss:0.147089 auc:0.9643\n",
      "epoch: 160 loss:0.145013 auc:0.9643\n",
      "epoch: 180 loss:0.143492 auc:0.9643\n",
      "epoch: 200 loss:0.141859 auc:0.9643\n",
      "epoch: 220 loss:0.142980 auc:0.9643\n",
      "epoch: 240 loss:0.139118 auc:0.9643\n",
      "epoch: 260 loss:0.136997 auc:0.9643\n",
      "epoch: 280 loss:0.137962 auc:0.9643\n",
      "epoch: 300 loss:0.134934 auc:0.9643\n",
      "epoch: 320 loss:0.133080 auc:0.9643\n",
      "epoch: 340 loss:0.132717 auc:0.9643\n",
      "epoch: 360 loss:0.132749 auc:0.9643\n",
      "epoch: 380 loss:0.130020 auc:0.9643\n",
      "epoch: 400 loss:0.128135 auc:0.9643\n",
      "epoch: 420 loss:0.126568 auc:0.9643\n",
      "epoch: 440 loss:0.124422 auc:0.9643\n",
      "epoch: 460 loss:0.123017 auc:0.9643\n",
      "epoch: 480 loss:0.122748 auc:0.9643\n",
      "epoch: 500 loss:0.121635 auc:0.9643\n",
      "epoch: 520 loss:0.119103 auc:0.9643\n",
      "epoch: 540 loss:0.117481 auc:0.9643\n",
      "epoch: 560 loss:0.134415 auc:0.9643\n",
      "epoch: 580 loss:0.118785 auc:0.9643\n",
      "epoch: 600 loss:0.115624 auc:0.9643\n",
      "epoch: 620 loss:0.114231 auc:0.9643\n",
      "epoch: 640 loss:0.113057 auc:0.9643\n",
      "epoch: 660 loss:0.113291 auc:0.9643\n",
      "epoch: 680 loss:0.115989 auc:0.9643\n",
      "epoch: 700 loss:0.130034 auc:0.9643\n",
      "epoch: 720 loss:0.115430 auc:0.9643\n",
      "epoch: 740 loss:0.112158 auc:0.9643\n",
      "epoch: 760 loss:0.110909 auc:0.9643\n",
      "epoch: 780 loss:0.110166 auc:0.9643\n",
      "epoch: 800 loss:0.109627 auc:0.9643\n",
      "epoch: 820 loss:0.109124 auc:0.9643\n",
      "epoch: 840 loss:0.108955 auc:0.9643\n",
      "epoch: 860 loss:0.108510 auc:0.9643\n",
      "epoch: 880 loss:0.108407 auc:0.9643\n",
      "epoch: 900 loss:0.107835 auc:0.9643\n",
      "epoch: 920 loss:0.107408 auc:0.9643\n",
      "epoch: 940 loss:0.106914 auc:0.9643\n",
      "epoch: 960 loss:0.106960 auc:0.9643\n",
      "epoch: 980 loss:0.106788 auc:0.9643\n"
     ]
    },
    {
     "name": "stderr",
     "output_type": "stream",
     "text": [
      " 45%|████▍     | 405/910 [1:01:37<2:33:33, 18.24s/it]"
     ]
    },
    {
     "name": "stdout",
     "output_type": "stream",
     "text": [
      "Fit finished.\n",
      "epoch:   0 loss:0.496381 auc:0.5995\n",
      "epoch:  20 loss:0.264703 auc:0.9342\n",
      "epoch:  40 loss:0.188396 auc:0.9331\n",
      "epoch:  60 loss:0.171596 auc:0.9401\n",
      "epoch:  80 loss:0.160561 auc:0.9368\n",
      "epoch: 100 loss:0.150199 auc:0.9357\n",
      "epoch: 120 loss:0.146834 auc:0.9334\n",
      "epoch: 140 loss:0.145403 auc:0.9338\n",
      "epoch: 160 loss:0.143388 auc:0.9320\n"
     ]
    },
    {
     "name": "stderr",
     "output_type": "stream",
     "text": [
      " 45%|████▍     | 406/910 [1:01:44<2:03:41, 14.73s/it]"
     ]
    },
    {
     "name": "stdout",
     "output_type": "stream",
     "text": [
      "epoch: 180 loss:0.141246 auc:0.9101\n",
      "Fit finished.\n",
      "epoch:   0 loss:0.704509 auc:0.2629\n",
      "epoch:  20 loss:0.232845 auc:0.9887\n",
      "epoch:  40 loss:0.182994 auc:0.9929\n",
      "epoch:  60 loss:0.171993 auc:0.9952\n",
      "epoch:  80 loss:0.163141 auc:0.9935\n",
      "epoch: 100 loss:0.151250 auc:0.9929\n",
      "epoch: 120 loss:0.146952 auc:0.9929\n",
      "epoch: 140 loss:0.145215 auc:0.9905\n",
      "epoch: 160 loss:0.142074 auc:0.9804\n"
     ]
    },
    {
     "name": "stderr",
     "output_type": "stream",
     "text": [
      " 45%|████▍     | 407/910 [1:01:50<1:42:13, 12.19s/it]"
     ]
    },
    {
     "name": "stdout",
     "output_type": "stream",
     "text": [
      "epoch: 180 loss:0.140238 auc:0.9732\n",
      "Fit finished.\n",
      "epoch:   0 loss:0.742479 auc:0.3490\n",
      "epoch:  20 loss:0.236250 auc:0.9827\n",
      "epoch:  40 loss:0.182148 auc:0.9848\n",
      "epoch:  60 loss:0.169883 auc:0.9868\n",
      "epoch:  80 loss:0.160429 auc:0.9855\n",
      "epoch: 100 loss:0.149938 auc:0.9855\n",
      "epoch: 120 loss:0.146354 auc:0.9861\n",
      "epoch: 140 loss:0.144679 auc:0.9848\n",
      "epoch: 160 loss:0.142190 auc:0.9799\n"
     ]
    },
    {
     "name": "stderr",
     "output_type": "stream",
     "text": [
      " 45%|████▍     | 408/910 [1:01:57<1:28:30, 10.58s/it]"
     ]
    },
    {
     "name": "stdout",
     "output_type": "stream",
     "text": [
      "epoch: 180 loss:0.141045 auc:0.9120\n",
      "Fit finished.\n",
      "epoch:   0 loss:0.589797 auc:0.1363\n",
      "epoch:  20 loss:0.208523 auc:0.9643\n",
      "epoch:  40 loss:0.179233 auc:0.9692\n",
      "epoch:  60 loss:0.169417 auc:0.9713\n",
      "epoch:  80 loss:0.157644 auc:0.9708\n",
      "epoch: 100 loss:0.148839 auc:0.9708\n",
      "epoch: 120 loss:0.145538 auc:0.9692\n",
      "epoch: 140 loss:0.143090 auc:0.9643\n",
      "epoch: 160 loss:0.142216 auc:0.9529\n"
     ]
    },
    {
     "name": "stderr",
     "output_type": "stream",
     "text": [
      " 45%|████▍     | 409/910 [1:02:04<1:19:59,  9.58s/it]"
     ]
    },
    {
     "name": "stdout",
     "output_type": "stream",
     "text": [
      "epoch: 180 loss:0.138490 auc:0.9432\n",
      "Fit finished.\n",
      "epoch:   0 loss:0.626075 auc:0.4145\n",
      "epoch:  20 loss:0.232129 auc:0.9501\n",
      "epoch:  40 loss:0.180392 auc:0.9514\n",
      "epoch:  60 loss:0.167116 auc:0.9481\n",
      "epoch:  80 loss:0.154022 auc:0.9504\n",
      "epoch: 100 loss:0.148240 auc:0.9501\n",
      "epoch: 120 loss:0.145290 auc:0.9534\n",
      "epoch: 140 loss:0.143521 auc:0.9527\n",
      "epoch: 160 loss:0.141404 auc:0.9134\n"
     ]
    },
    {
     "name": "stderr",
     "output_type": "stream",
     "text": [
      " 45%|████▌     | 410/910 [1:02:11<1:12:32,  8.71s/it]"
     ]
    },
    {
     "name": "stdout",
     "output_type": "stream",
     "text": [
      "epoch: 180 loss:0.138860 auc:0.8724\n",
      "Fit finished.\n",
      "epoch:   0 loss:0.703490 auc:0.3107\n",
      "epoch:  20 loss:0.215041 auc:0.9467\n",
      "epoch:  40 loss:0.181854 auc:0.9586\n",
      "epoch:  60 loss:0.173260 auc:0.9571\n",
      "epoch:  80 loss:0.166669 auc:0.9556\n",
      "epoch: 100 loss:0.156004 auc:0.9601\n",
      "epoch: 120 loss:0.148150 auc:0.9601\n",
      "epoch: 140 loss:0.144957 auc:0.9556\n",
      "epoch: 160 loss:0.142063 auc:0.9556\n"
     ]
    },
    {
     "name": "stderr",
     "output_type": "stream",
     "text": [
      " 45%|████▌     | 411/910 [1:02:18<1:08:03,  8.18s/it]"
     ]
    },
    {
     "name": "stdout",
     "output_type": "stream",
     "text": [
      "epoch: 180 loss:0.139369 auc:0.9275\n",
      "Fit finished.\n",
      "epoch:   0 loss:0.553136 auc:0.2976\n",
      "epoch:  20 loss:0.249415 auc:0.9827\n",
      "epoch:  40 loss:0.189219 auc:0.9862\n",
      "epoch:  60 loss:0.175942 auc:0.9862\n",
      "epoch:  80 loss:0.168430 auc:0.9862\n",
      "epoch: 100 loss:0.157719 auc:0.9862\n",
      "epoch: 120 loss:0.148815 auc:0.9862\n",
      "epoch: 140 loss:0.145529 auc:0.9862\n",
      "epoch: 160 loss:0.144838 auc:0.9862\n",
      "epoch: 180 loss:0.140550 auc:0.9862\n",
      "epoch: 200 loss:0.140480 auc:0.9862\n",
      "epoch: 220 loss:0.136071 auc:0.9862\n",
      "epoch: 240 loss:0.134461 auc:0.9862\n",
      "epoch: 260 loss:0.137037 auc:0.9862\n",
      "epoch: 280 loss:0.136066 auc:0.9862\n",
      "epoch: 300 loss:0.130933 auc:0.9862\n",
      "epoch: 320 loss:0.128774 auc:0.9862\n",
      "epoch: 340 loss:0.127719 auc:0.9896\n",
      "epoch: 360 loss:0.127180 auc:0.9931\n",
      "epoch: 380 loss:0.124858 auc:0.9896\n",
      "epoch: 400 loss:0.123435 auc:0.9896\n",
      "epoch: 420 loss:0.121650 auc:0.9896\n",
      "epoch: 440 loss:0.120680 auc:0.9896\n",
      "epoch: 460 loss:0.119054 auc:0.9896\n",
      "epoch: 480 loss:0.119268 auc:0.9931\n"
     ]
    },
    {
     "name": "stderr",
     "output_type": "stream",
     "text": [
      " 45%|████▌     | 412/910 [1:02:36<1:33:19, 11.24s/it]"
     ]
    },
    {
     "name": "stdout",
     "output_type": "stream",
     "text": [
      "epoch: 500 loss:0.118719 auc:0.9862\n",
      "Fit finished.\n",
      "epoch:   0 loss:0.767936 auc:0.4809\n",
      "epoch:  20 loss:0.255186 auc:1.0000\n",
      "epoch:  40 loss:0.189883 auc:1.0000\n",
      "epoch:  60 loss:0.175128 auc:1.0000\n",
      "epoch:  80 loss:0.166729 auc:1.0000\n",
      "epoch: 100 loss:0.156816 auc:1.0000\n",
      "epoch: 120 loss:0.149215 auc:1.0000\n",
      "epoch: 140 loss:0.146442 auc:1.0000\n",
      "epoch: 160 loss:0.144157 auc:1.0000\n",
      "epoch: 180 loss:0.143582 auc:1.0000\n",
      "epoch: 200 loss:0.140521 auc:1.0000\n"
     ]
    },
    {
     "name": "stderr",
     "output_type": "stream",
     "text": [
      " 45%|████▌     | 413/910 [1:02:44<1:25:33, 10.33s/it]"
     ]
    },
    {
     "name": "stdout",
     "output_type": "stream",
     "text": [
      "epoch: 220 loss:0.139077 auc:0.9965\n",
      "Fit finished.\n",
      "epoch:   0 loss:0.917768 auc:0.4360\n",
      "epoch:  20 loss:0.257702 auc:0.9483\n",
      "epoch:  40 loss:0.191560 auc:0.9587\n",
      "epoch:  60 loss:0.175495 auc:0.9628\n",
      "epoch:  80 loss:0.166557 auc:0.9628\n",
      "epoch: 100 loss:0.157362 auc:0.9628\n",
      "epoch: 120 loss:0.149546 auc:0.9628\n",
      "epoch: 140 loss:0.146721 auc:0.9628\n",
      "epoch: 160 loss:0.144550 auc:0.9628\n",
      "epoch: 180 loss:0.144150 auc:0.9628\n",
      "epoch: 200 loss:0.140692 auc:0.9690\n",
      "epoch: 220 loss:0.139576 auc:0.9793\n",
      "epoch: 240 loss:0.137079 auc:0.9855\n",
      "epoch: 260 loss:0.136153 auc:0.9897\n",
      "epoch: 280 loss:0.140433 auc:0.9876\n",
      "epoch: 300 loss:0.134962 auc:0.9917\n",
      "epoch: 320 loss:0.132935 auc:0.9917\n",
      "epoch: 340 loss:0.131561 auc:0.9917\n",
      "epoch: 360 loss:0.130027 auc:0.9897\n",
      "epoch: 380 loss:0.128914 auc:0.9876\n"
     ]
    },
    {
     "name": "stderr",
     "output_type": "stream",
     "text": [
      " 45%|████▌     | 414/910 [1:02:59<1:35:09, 11.51s/it]"
     ]
    },
    {
     "name": "stdout",
     "output_type": "stream",
     "text": [
      "epoch: 400 loss:0.126336 auc:0.9835\n",
      "Fit finished.\n",
      "epoch:   0 loss:0.549474 auc:0.6574\n",
      "epoch:  20 loss:0.226859 auc:0.9723\n",
      "epoch:  40 loss:0.181336 auc:0.9862\n",
      "epoch:  60 loss:0.169611 auc:0.9862\n",
      "epoch:  80 loss:0.159361 auc:0.9862\n",
      "epoch: 100 loss:0.150200 auc:0.9862\n",
      "epoch: 120 loss:0.146764 auc:0.9862\n",
      "epoch: 140 loss:0.145781 auc:0.9862\n",
      "epoch: 160 loss:0.142466 auc:0.9862\n",
      "epoch: 180 loss:0.141944 auc:0.9931\n",
      "epoch: 200 loss:0.137372 auc:0.9896\n",
      "epoch: 220 loss:0.136512 auc:0.9896\n",
      "epoch: 240 loss:0.134478 auc:0.9896\n",
      "epoch: 260 loss:0.133042 auc:0.9896\n",
      "epoch: 280 loss:0.132008 auc:0.9931\n",
      "epoch: 300 loss:0.129261 auc:0.9896\n",
      "epoch: 320 loss:0.132434 auc:0.9862\n"
     ]
    },
    {
     "name": "stderr",
     "output_type": "stream",
     "text": [
      " 46%|████▌     | 415/910 [1:03:12<1:38:29, 11.94s/it]"
     ]
    },
    {
     "name": "stdout",
     "output_type": "stream",
     "text": [
      "epoch: 340 loss:0.127904 auc:0.9827\n",
      "Fit finished.\n",
      "epoch:   0 loss:0.794290 auc:0.5458\n",
      "epoch:  20 loss:0.273722 auc:0.9798\n",
      "epoch:  40 loss:0.199052 auc:0.9810\n",
      "epoch:  60 loss:0.177233 auc:0.9845\n",
      "epoch:  80 loss:0.166337 auc:0.9845\n",
      "epoch: 100 loss:0.155608 auc:0.9834\n",
      "epoch: 120 loss:0.148824 auc:0.9834\n",
      "epoch: 140 loss:0.146195 auc:0.9845\n",
      "epoch: 160 loss:0.144069 auc:0.9834\n",
      "epoch: 180 loss:0.143012 auc:0.9822\n"
     ]
    },
    {
     "name": "stderr",
     "output_type": "stream",
     "text": [
      " 46%|████▌     | 416/910 [1:03:20<1:29:17, 10.85s/it]"
     ]
    },
    {
     "name": "stdout",
     "output_type": "stream",
     "text": [
      "epoch: 200 loss:0.140651 auc:0.9715\n",
      "Fit finished.\n",
      "epoch:   0 loss:0.604963 auc:0.5952\n",
      "epoch:  20 loss:0.273935 auc:1.0000\n",
      "epoch:  40 loss:0.193966 auc:1.0000\n",
      "epoch:  60 loss:0.175740 auc:1.0000\n",
      "epoch:  80 loss:0.165851 auc:1.0000\n",
      "epoch: 100 loss:0.155049 auc:1.0000\n",
      "epoch: 120 loss:0.149519 auc:1.0000\n",
      "epoch: 140 loss:0.146494 auc:1.0000\n",
      "epoch: 160 loss:0.144316 auc:1.0000\n",
      "epoch: 180 loss:0.142473 auc:1.0000\n",
      "epoch: 200 loss:0.140834 auc:1.0000\n",
      "epoch: 220 loss:0.139755 auc:1.0000\n",
      "epoch: 240 loss:0.136887 auc:1.0000\n",
      "epoch: 260 loss:0.135116 auc:1.0000\n"
     ]
    },
    {
     "name": "stderr",
     "output_type": "stream",
     "text": [
      " 46%|████▌     | 417/910 [1:03:30<1:28:25, 10.76s/it]"
     ]
    },
    {
     "name": "stdout",
     "output_type": "stream",
     "text": [
      "epoch: 280 loss:0.133831 auc:0.9965\n",
      "Fit finished.\n",
      "epoch:   0 loss:0.699955 auc:0.3882\n",
      "epoch:  20 loss:0.275845 auc:1.0000\n",
      "epoch:  40 loss:0.203774 auc:1.0000\n",
      "epoch:  60 loss:0.180966 auc:1.0000\n",
      "epoch:  80 loss:0.171248 auc:1.0000\n",
      "epoch: 100 loss:0.161852 auc:1.0000\n",
      "epoch: 120 loss:0.150471 auc:1.0000\n",
      "epoch: 140 loss:0.146584 auc:1.0000\n",
      "epoch: 160 loss:0.144296 auc:1.0000\n",
      "epoch: 180 loss:0.143698 auc:1.0000\n",
      "epoch: 200 loss:0.140741 auc:1.0000\n",
      "epoch: 220 loss:0.139098 auc:1.0000\n",
      "epoch: 240 loss:0.137319 auc:1.0000\n",
      "epoch: 260 loss:0.136653 auc:1.0000\n"
     ]
    },
    {
     "name": "stderr",
     "output_type": "stream",
     "text": [
      " 46%|████▌     | 418/910 [1:03:40<1:25:13, 10.39s/it]"
     ]
    },
    {
     "name": "stdout",
     "output_type": "stream",
     "text": [
      "epoch: 280 loss:0.134809 auc:0.9986\n",
      "Fit finished.\n",
      "epoch:   0 loss:0.521314 auc:0.8089\n",
      "epoch:  20 loss:0.266017 auc:0.9501\n",
      "epoch:  40 loss:0.191238 auc:0.9612\n",
      "epoch:  60 loss:0.175058 auc:0.9654\n",
      "epoch:  80 loss:0.167199 auc:0.9681\n",
      "epoch: 100 loss:0.158026 auc:0.9675\n",
      "epoch: 120 loss:0.149548 auc:0.9681\n",
      "epoch: 140 loss:0.146493 auc:0.9668\n",
      "epoch: 160 loss:0.144272 auc:0.9668\n",
      "epoch: 180 loss:0.143389 auc:0.9654\n",
      "epoch: 200 loss:0.141239 auc:0.9647\n"
     ]
    },
    {
     "name": "stderr",
     "output_type": "stream",
     "text": [
      " 46%|████▌     | 419/910 [1:03:48<1:19:16,  9.69s/it]"
     ]
    },
    {
     "name": "stdout",
     "output_type": "stream",
     "text": [
      "epoch: 220 loss:0.139031 auc:0.9501\n",
      "Fit finished.\n",
      "epoch:   0 loss:0.649668 auc:0.8772\n",
      "epoch:  20 loss:0.301629 auc:0.9985\n",
      "epoch:  40 loss:0.237543 auc:1.0000\n",
      "epoch:  60 loss:0.187856 auc:1.0000\n",
      "epoch:  80 loss:0.173122 auc:1.0000\n",
      "epoch: 100 loss:0.164785 auc:1.0000\n",
      "epoch: 120 loss:0.154668 auc:1.0000\n",
      "epoch: 140 loss:0.149253 auc:1.0000\n",
      "epoch: 160 loss:0.146769 auc:1.0000\n",
      "epoch: 180 loss:0.145168 auc:1.0000\n",
      "epoch: 200 loss:0.143413 auc:1.0000\n",
      "epoch: 220 loss:0.141463 auc:1.0000\n",
      "epoch: 240 loss:0.140635 auc:1.0000\n",
      "epoch: 260 loss:0.138474 auc:1.0000\n"
     ]
    },
    {
     "name": "stderr",
     "output_type": "stream",
     "text": [
      " 46%|████▌     | 420/910 [1:03:57<1:16:51,  9.41s/it]"
     ]
    },
    {
     "name": "stdout",
     "output_type": "stream",
     "text": [
      "epoch: 280 loss:0.136445 auc:0.9808\n",
      "Fit finished.\n",
      "epoch:   0 loss:1.340127 auc:0.9122\n",
      "epoch:  20 loss:0.276435 auc:0.9849\n",
      "epoch:  40 loss:0.207438 auc:0.9822\n",
      "epoch:  60 loss:0.180170 auc:0.9808\n",
      "epoch:  80 loss:0.168740 auc:0.9890\n",
      "epoch: 100 loss:0.156987 auc:0.9890\n",
      "epoch: 120 loss:0.149653 auc:0.9918\n",
      "epoch: 140 loss:0.146443 auc:0.9931\n",
      "epoch: 160 loss:0.144507 auc:0.9931\n",
      "epoch: 180 loss:0.143332 auc:0.9918\n",
      "epoch: 200 loss:0.142125 auc:0.9918\n",
      "epoch: 220 loss:0.140325 auc:0.9877\n"
     ]
    },
    {
     "name": "stderr",
     "output_type": "stream",
     "text": [
      " 46%|████▋     | 421/910 [1:04:05<1:14:20,  9.12s/it]"
     ]
    },
    {
     "name": "stdout",
     "output_type": "stream",
     "text": [
      "epoch: 240 loss:0.138200 auc:0.9753\n",
      "Fit finished.\n",
      "epoch:   0 loss:0.645530 auc:0.3135\n",
      "epoch:  20 loss:0.233969 auc:0.9628\n",
      "epoch:  40 loss:0.181453 auc:0.9659\n",
      "epoch:  60 loss:0.168794 auc:0.9680\n",
      "epoch:  80 loss:0.157629 auc:0.9680\n",
      "epoch: 100 loss:0.149063 auc:0.9680\n",
      "epoch: 120 loss:0.145812 auc:0.9675\n",
      "epoch: 140 loss:0.143838 auc:0.9680\n",
      "epoch: 160 loss:0.142573 auc:0.9654\n"
     ]
    },
    {
     "name": "stderr",
     "output_type": "stream",
     "text": [
      " 46%|████▋     | 422/910 [1:04:11<1:05:28,  8.05s/it]"
     ]
    },
    {
     "name": "stdout",
     "output_type": "stream",
     "text": [
      "epoch: 180 loss:0.140169 auc:0.9613\n",
      "Fit finished.\n",
      "epoch:   0 loss:0.513938 auc:0.5399\n",
      "epoch:  20 loss:0.220763 auc:0.9896\n",
      "epoch:  40 loss:0.181563 auc:0.9941\n",
      "epoch:  60 loss:0.170010 auc:0.9941\n",
      "epoch:  80 loss:0.159557 auc:0.9941\n",
      "epoch: 100 loss:0.149756 auc:0.9941\n",
      "epoch: 120 loss:0.146225 auc:0.9941\n",
      "epoch: 140 loss:0.143380 auc:0.9956\n",
      "epoch: 160 loss:0.141266 auc:0.9911\n"
     ]
    },
    {
     "name": "stderr",
     "output_type": "stream",
     "text": [
      " 46%|████▋     | 423/910 [1:04:19<1:05:34,  8.08s/it]"
     ]
    },
    {
     "name": "stdout",
     "output_type": "stream",
     "text": [
      "epoch: 180 loss:0.138709 auc:0.9882\n",
      "Fit finished.\n",
      "epoch:   0 loss:0.612499 auc:0.3814\n",
      "epoch:  20 loss:0.251183 auc:1.0000\n",
      "epoch:  40 loss:0.188351 auc:1.0000\n",
      "epoch:  60 loss:0.174704 auc:1.0000\n",
      "epoch:  80 loss:0.167541 auc:1.0000\n",
      "epoch: 100 loss:0.157812 auc:1.0000\n",
      "epoch: 120 loss:0.149059 auc:1.0000\n",
      "epoch: 140 loss:0.145776 auc:1.0000\n",
      "epoch: 160 loss:0.142989 auc:1.0000\n",
      "epoch: 180 loss:0.142875 auc:1.0000\n"
     ]
    },
    {
     "name": "stderr",
     "output_type": "stream",
     "text": [
      " 47%|████▋     | 424/910 [1:04:25<1:01:20,  7.57s/it]"
     ]
    },
    {
     "name": "stdout",
     "output_type": "stream",
     "text": [
      "epoch: 200 loss:0.138877 auc:0.9974\n",
      "Fit finished.\n",
      "epoch:   0 loss:1.084692 auc:0.6722\n",
      "epoch:  20 loss:0.295240 auc:0.9605\n",
      "epoch:  40 loss:0.233256 auc:0.9697\n",
      "epoch:  60 loss:0.185407 auc:0.9688\n",
      "epoch:  80 loss:0.171443 auc:0.9688\n",
      "epoch: 100 loss:0.161580 auc:0.9679\n",
      "epoch: 120 loss:0.152038 auc:0.9679\n",
      "epoch: 140 loss:0.148237 auc:0.9679\n",
      "epoch: 160 loss:0.146110 auc:0.9679\n",
      "epoch: 180 loss:0.144544 auc:0.9679\n",
      "epoch: 200 loss:0.143370 auc:0.9706\n",
      "epoch: 220 loss:0.142276 auc:0.9697\n",
      "epoch: 240 loss:0.141123 auc:0.9706\n"
     ]
    },
    {
     "name": "stderr",
     "output_type": "stream",
     "text": [
      " 47%|████▋     | 425/910 [1:04:34<1:04:40,  8.00s/it]"
     ]
    },
    {
     "name": "stdout",
     "output_type": "stream",
     "text": [
      "epoch: 260 loss:0.140166 auc:0.9651\n",
      "Fit finished.\n",
      "epoch:   0 loss:0.868086 auc:0.6288\n",
      "epoch:  20 loss:0.278433 auc:0.9808\n",
      "epoch:  40 loss:0.205698 auc:0.9808\n",
      "epoch:  60 loss:0.177637 auc:0.9856\n",
      "epoch:  80 loss:0.165367 auc:0.9856\n",
      "epoch: 100 loss:0.153768 auc:0.9856\n",
      "epoch: 120 loss:0.148767 auc:0.9856\n",
      "epoch: 140 loss:0.146111 auc:0.9856\n",
      "epoch: 160 loss:0.144050 auc:0.9856\n",
      "epoch: 180 loss:0.142419 auc:0.9856\n",
      "epoch: 200 loss:0.140642 auc:0.9824\n"
     ]
    },
    {
     "name": "stderr",
     "output_type": "stream",
     "text": [
      " 47%|████▋     | 426/910 [1:04:44<1:07:44,  8.40s/it]"
     ]
    },
    {
     "name": "stdout",
     "output_type": "stream",
     "text": [
      "epoch: 220 loss:0.139119 auc:0.9808\n",
      "Fit finished.\n",
      "epoch:   0 loss:0.797627 auc:0.2076\n",
      "epoch:  20 loss:0.233663 auc:1.0000\n",
      "epoch:  40 loss:0.182736 auc:1.0000\n",
      "epoch:  60 loss:0.169896 auc:1.0000\n",
      "epoch:  80 loss:0.158486 auc:1.0000\n",
      "epoch: 100 loss:0.149577 auc:1.0000\n",
      "epoch: 120 loss:0.146360 auc:1.0000\n",
      "epoch: 140 loss:0.144026 auc:1.0000\n",
      "epoch: 160 loss:0.142745 auc:1.0000\n",
      "epoch: 180 loss:0.140538 auc:1.0000\n",
      "epoch: 200 loss:0.137976 auc:1.0000\n"
     ]
    },
    {
     "name": "stderr",
     "output_type": "stream",
     "text": [
      " 47%|████▋     | 427/910 [1:04:52<1:07:17,  8.36s/it]"
     ]
    },
    {
     "name": "stdout",
     "output_type": "stream",
     "text": [
      "epoch: 220 loss:0.139379 auc:0.9965\n",
      "Fit finished.\n",
      "epoch:   0 loss:0.834683 auc:0.3018\n",
      "epoch:  20 loss:0.276347 auc:1.0000\n",
      "epoch:  40 loss:0.195739 auc:1.0000\n",
      "epoch:  60 loss:0.177701 auc:1.0000\n",
      "epoch:  80 loss:0.169292 auc:1.0000\n",
      "epoch: 100 loss:0.161068 auc:1.0000\n",
      "epoch: 120 loss:0.151360 auc:1.0000\n",
      "epoch: 140 loss:0.147912 auc:1.0000\n",
      "epoch: 160 loss:0.145607 auc:1.0000\n",
      "epoch: 180 loss:0.143941 auc:1.0000\n",
      "epoch: 200 loss:0.142393 auc:1.0000\n",
      "epoch: 220 loss:0.142892 auc:1.0000\n",
      "epoch: 240 loss:0.141238 auc:1.0000\n",
      "epoch: 260 loss:0.137966 auc:1.0000\n",
      "epoch: 280 loss:0.135804 auc:1.0000\n",
      "epoch: 300 loss:0.134438 auc:1.0000\n",
      "epoch: 320 loss:0.133871 auc:1.0000\n",
      "epoch: 340 loss:0.132310 auc:1.0000\n",
      "epoch: 360 loss:0.131522 auc:1.0000\n",
      "epoch: 380 loss:0.129718 auc:1.0000\n",
      "epoch: 400 loss:0.127699 auc:1.0000\n",
      "epoch: 420 loss:0.128347 auc:1.0000\n",
      "epoch: 440 loss:0.125802 auc:1.0000\n",
      "epoch: 460 loss:0.125778 auc:1.0000\n",
      "epoch: 480 loss:0.122895 auc:1.0000\n",
      "epoch: 500 loss:0.121372 auc:1.0000\n",
      "epoch: 520 loss:0.121360 auc:1.0000\n",
      "epoch: 540 loss:0.120043 auc:1.0000\n",
      "epoch: 560 loss:0.118737 auc:1.0000\n",
      "epoch: 580 loss:0.118589 auc:1.0000\n",
      "epoch: 600 loss:0.139663 auc:1.0000\n",
      "epoch: 620 loss:0.117050 auc:1.0000\n",
      "epoch: 640 loss:0.114709 auc:1.0000\n",
      "epoch: 660 loss:0.113531 auc:1.0000\n",
      "epoch: 680 loss:0.113823 auc:1.0000\n",
      "epoch: 700 loss:0.114149 auc:1.0000\n",
      "epoch: 720 loss:0.111592 auc:1.0000\n",
      "epoch: 740 loss:0.111539 auc:1.0000\n",
      "epoch: 760 loss:0.111589 auc:1.0000\n",
      "epoch: 780 loss:0.110443 auc:1.0000\n",
      "epoch: 800 loss:0.110052 auc:1.0000\n",
      "epoch: 820 loss:0.110200 auc:1.0000\n",
      "epoch: 840 loss:0.109008 auc:1.0000\n",
      "epoch: 860 loss:0.109569 auc:1.0000\n",
      "epoch: 880 loss:0.109063 auc:1.0000\n",
      "epoch: 900 loss:0.109170 auc:1.0000\n",
      "epoch: 920 loss:0.125086 auc:1.0000\n",
      "epoch: 940 loss:0.128005 auc:1.0000\n",
      "epoch: 960 loss:0.111746 auc:1.0000\n",
      "epoch: 980 loss:0.108875 auc:1.0000\n"
     ]
    },
    {
     "name": "stderr",
     "output_type": "stream",
     "text": [
      " 47%|████▋     | 428/910 [1:05:29<2:15:32, 16.87s/it]"
     ]
    },
    {
     "name": "stdout",
     "output_type": "stream",
     "text": [
      "Fit finished.\n",
      "epoch:   0 loss:0.536188 auc:0.5599\n",
      "epoch:  20 loss:0.251840 auc:0.9384\n",
      "epoch:  40 loss:0.188661 auc:0.9375\n",
      "epoch:  60 loss:0.173711 auc:0.9423\n",
      "epoch:  80 loss:0.164754 auc:0.9431\n",
      "epoch: 100 loss:0.152472 auc:0.9440\n",
      "epoch: 120 loss:0.147001 auc:0.9475\n",
      "epoch: 140 loss:0.144685 auc:0.9492\n",
      "epoch: 160 loss:0.142632 auc:0.9462\n"
     ]
    },
    {
     "name": "stderr",
     "output_type": "stream",
     "text": [
      " 47%|████▋     | 429/910 [1:05:35<1:50:39, 13.80s/it]"
     ]
    },
    {
     "name": "stdout",
     "output_type": "stream",
     "text": [
      "epoch: 180 loss:0.140348 auc:0.9258\n",
      "Fit finished.\n",
      "epoch:   0 loss:1.052192 auc:0.5536\n",
      "epoch:  20 loss:0.269291 auc:0.9965\n",
      "epoch:  40 loss:0.203019 auc:0.9965\n",
      "epoch:  60 loss:0.179405 auc:0.9965\n",
      "epoch:  80 loss:0.168425 auc:0.9965\n",
      "epoch: 100 loss:0.157569 auc:0.9965\n",
      "epoch: 120 loss:0.149850 auc:0.9965\n",
      "epoch: 140 loss:0.147101 auc:0.9965\n",
      "epoch: 160 loss:0.145868 auc:0.9965\n",
      "epoch: 180 loss:0.143709 auc:0.9965\n",
      "epoch: 200 loss:0.144749 auc:1.0000\n",
      "epoch: 220 loss:0.140741 auc:1.0000\n",
      "epoch: 240 loss:0.140518 auc:1.0000\n",
      "epoch: 260 loss:0.137821 auc:1.0000\n",
      "epoch: 280 loss:0.137186 auc:1.0000\n",
      "epoch: 300 loss:0.135815 auc:1.0000\n"
     ]
    },
    {
     "name": "stderr",
     "output_type": "stream",
     "text": [
      " 47%|████▋     | 430/910 [1:05:46<1:43:15, 12.91s/it]"
     ]
    },
    {
     "name": "stdout",
     "output_type": "stream",
     "text": [
      "epoch: 320 loss:0.135730 auc:0.9896\n",
      "Fit finished.\n",
      "epoch:   0 loss:0.551874 auc:0.3719\n",
      "epoch:  20 loss:0.240980 auc:0.9871\n",
      "epoch:  40 loss:0.189546 auc:0.9881\n",
      "epoch:  60 loss:0.175309 auc:0.9862\n",
      "epoch:  80 loss:0.166138 auc:0.9853\n",
      "epoch: 100 loss:0.155711 auc:0.9862\n",
      "epoch: 120 loss:0.148785 auc:0.9853\n",
      "epoch: 140 loss:0.145950 auc:0.9844\n",
      "epoch: 160 loss:0.144145 auc:0.9853\n"
     ]
    },
    {
     "name": "stderr",
     "output_type": "stream",
     "text": [
      " 47%|████▋     | 431/910 [1:05:53<1:28:29, 11.08s/it]"
     ]
    },
    {
     "name": "stdout",
     "output_type": "stream",
     "text": [
      "epoch: 180 loss:0.142156 auc:0.9853\n",
      "Fit finished.\n",
      "epoch:   0 loss:0.735015 auc:0.1968\n",
      "epoch:  20 loss:0.267793 auc:0.9370\n",
      "epoch:  40 loss:0.190770 auc:0.9420\n",
      "epoch:  60 loss:0.176005 auc:0.9480\n",
      "epoch:  80 loss:0.167263 auc:0.9480\n",
      "epoch: 100 loss:0.157839 auc:0.9483\n",
      "epoch: 120 loss:0.149731 auc:0.9480\n",
      "epoch: 140 loss:0.146787 auc:0.9492\n",
      "epoch: 160 loss:0.144780 auc:0.9495\n",
      "epoch: 180 loss:0.144175 auc:0.9471\n"
     ]
    },
    {
     "name": "stderr",
     "output_type": "stream",
     "text": [
      " 47%|████▋     | 432/910 [1:06:01<1:20:40, 10.13s/it]"
     ]
    },
    {
     "name": "stdout",
     "output_type": "stream",
     "text": [
      "epoch: 200 loss:0.141406 auc:0.9376\n",
      "Fit finished.\n",
      "epoch:   0 loss:0.607810 auc:0.3454\n",
      "epoch:  20 loss:0.239493 auc:0.9724\n",
      "epoch:  40 loss:0.186060 auc:0.9756\n",
      "epoch:  60 loss:0.173478 auc:0.9774\n",
      "epoch:  80 loss:0.165566 auc:0.9783\n",
      "epoch: 100 loss:0.154876 auc:0.9792\n",
      "epoch: 120 loss:0.148514 auc:0.9778\n",
      "epoch: 140 loss:0.145794 auc:0.9783\n",
      "epoch: 160 loss:0.144286 auc:0.9792\n",
      "epoch: 180 loss:0.142112 auc:0.9769\n"
     ]
    },
    {
     "name": "stderr",
     "output_type": "stream",
     "text": [
      " 48%|████▊     | 433/910 [1:06:08<1:14:27,  9.37s/it]"
     ]
    },
    {
     "name": "stdout",
     "output_type": "stream",
     "text": [
      "epoch: 200 loss:0.140915 auc:0.9715\n",
      "Fit finished.\n",
      "epoch:   0 loss:0.806303 auc:0.5222\n",
      "epoch:  20 loss:0.275793 auc:0.9645\n",
      "epoch:  40 loss:0.207342 auc:0.9689\n",
      "epoch:  60 loss:0.179090 auc:0.9645\n",
      "epoch:  80 loss:0.169236 auc:0.9645\n",
      "epoch: 100 loss:0.160442 auc:0.9660\n",
      "epoch: 120 loss:0.150630 auc:0.9645\n",
      "epoch: 140 loss:0.147268 auc:0.9630\n",
      "epoch: 160 loss:0.145151 auc:0.9645\n",
      "epoch: 180 loss:0.144012 auc:0.9645\n"
     ]
    },
    {
     "name": "stderr",
     "output_type": "stream",
     "text": [
      " 48%|████▊     | 434/910 [1:06:16<1:09:46,  8.79s/it]"
     ]
    },
    {
     "name": "stdout",
     "output_type": "stream",
     "text": [
      "epoch: 200 loss:0.142093 auc:0.9645\n",
      "Fit finished.\n",
      "epoch:   0 loss:0.858076 auc:0.1828\n",
      "epoch:  20 loss:0.270711 auc:0.9501\n",
      "epoch:  40 loss:0.192399 auc:0.9640\n",
      "epoch:  60 loss:0.175451 auc:0.9806\n",
      "epoch:  80 loss:0.167279 auc:0.9806\n",
      "epoch: 100 loss:0.158551 auc:0.9806\n",
      "epoch: 120 loss:0.150036 auc:0.9806\n",
      "epoch: 140 loss:0.147042 auc:0.9806\n",
      "epoch: 160 loss:0.145107 auc:0.9806\n",
      "epoch: 180 loss:0.143462 auc:0.9806\n",
      "epoch: 200 loss:0.141902 auc:0.9806\n",
      "epoch: 220 loss:0.140323 auc:0.9834\n",
      "epoch: 240 loss:0.139921 auc:0.9917\n",
      "epoch: 260 loss:0.136421 auc:0.9972\n",
      "epoch: 280 loss:0.137181 auc:1.0000\n",
      "epoch: 300 loss:0.133935 auc:1.0000\n",
      "epoch: 320 loss:0.133275 auc:1.0000\n",
      "epoch: 340 loss:0.131696 auc:1.0000\n",
      "epoch: 360 loss:0.130945 auc:1.0000\n",
      "epoch: 380 loss:0.129230 auc:1.0000\n",
      "epoch: 400 loss:0.128564 auc:1.0000\n",
      "epoch: 420 loss:0.126604 auc:1.0000\n",
      "epoch: 440 loss:0.127044 auc:1.0000\n",
      "epoch: 460 loss:0.122710 auc:1.0000\n",
      "epoch: 480 loss:0.123822 auc:1.0000\n"
     ]
    },
    {
     "name": "stderr",
     "output_type": "stream",
     "text": [
      " 48%|████▊     | 435/910 [1:06:34<1:32:54, 11.74s/it]"
     ]
    },
    {
     "name": "stdout",
     "output_type": "stream",
     "text": [
      "epoch: 500 loss:0.126465 auc:0.9917\n",
      "Fit finished.\n",
      "epoch:   0 loss:0.494784 auc:0.4650\n",
      "epoch:  20 loss:0.215892 auc:0.9550\n",
      "epoch:  40 loss:0.179476 auc:0.9800\n",
      "epoch:  60 loss:0.167878 auc:0.9800\n",
      "epoch:  80 loss:0.156119 auc:0.9800\n",
      "epoch: 100 loss:0.148730 auc:0.9800\n",
      "epoch: 120 loss:0.145603 auc:0.9800\n",
      "epoch: 140 loss:0.143088 auc:0.9775\n",
      "epoch: 160 loss:0.140908 auc:0.9800\n",
      "epoch: 180 loss:0.138589 auc:0.9800\n",
      "epoch: 200 loss:0.136247 auc:0.9900\n",
      "epoch: 220 loss:0.134407 auc:0.9900\n",
      "epoch: 240 loss:0.131913 auc:0.9900\n",
      "epoch: 260 loss:0.132467 auc:0.9900\n"
     ]
    },
    {
     "name": "stderr",
     "output_type": "stream",
     "text": [
      " 48%|████▊     | 436/910 [1:06:45<1:28:53, 11.25s/it]"
     ]
    },
    {
     "name": "stdout",
     "output_type": "stream",
     "text": [
      "epoch: 280 loss:0.128851 auc:0.9775\n",
      "Fit finished.\n",
      "epoch:   0 loss:1.284743 auc:0.3004\n",
      "epoch:  20 loss:0.273773 auc:0.9684\n",
      "epoch:  40 loss:0.201376 auc:0.9781\n",
      "epoch:  60 loss:0.179293 auc:0.9835\n",
      "epoch:  80 loss:0.170370 auc:0.9849\n",
      "epoch: 100 loss:0.163045 auc:0.9849\n",
      "epoch: 120 loss:0.154232 auc:0.9849\n",
      "epoch: 140 loss:0.148368 auc:0.9835\n",
      "epoch: 160 loss:0.145958 auc:0.9835\n",
      "epoch: 180 loss:0.144324 auc:0.9835\n",
      "epoch: 200 loss:0.142932 auc:0.9835\n",
      "epoch: 220 loss:0.141533 auc:0.9849\n",
      "epoch: 240 loss:0.140465 auc:0.9863\n",
      "epoch: 260 loss:0.138775 auc:0.9959\n",
      "epoch: 280 loss:0.136713 auc:0.9986\n",
      "epoch: 300 loss:0.135961 auc:0.9945\n",
      "epoch: 320 loss:0.133940 auc:0.9890\n",
      "epoch: 340 loss:0.132404 auc:0.9835\n",
      "epoch: 360 loss:0.130719 auc:0.9863\n",
      "epoch: 380 loss:0.130007 auc:0.9863\n"
     ]
    },
    {
     "name": "stderr",
     "output_type": "stream",
     "text": [
      " 48%|████▊     | 437/910 [1:06:58<1:34:55, 12.04s/it]"
     ]
    },
    {
     "name": "stdout",
     "output_type": "stream",
     "text": [
      "epoch: 400 loss:0.130643 auc:0.9808\n",
      "Fit finished.\n",
      "epoch:   0 loss:0.717205 auc:0.3379\n",
      "epoch:  20 loss:0.244765 auc:0.9412\n",
      "epoch:  40 loss:0.184949 auc:0.9541\n",
      "epoch:  60 loss:0.170207 auc:0.9504\n",
      "epoch:  80 loss:0.159531 auc:0.9504\n",
      "epoch: 100 loss:0.150146 auc:0.9522\n",
      "epoch: 120 loss:0.146870 auc:0.9477\n",
      "epoch: 140 loss:0.144519 auc:0.9412\n",
      "epoch: 160 loss:0.144012 auc:0.9440\n"
     ]
    },
    {
     "name": "stderr",
     "output_type": "stream",
     "text": [
      " 48%|████▊     | 438/910 [1:07:06<1:23:23, 10.60s/it]"
     ]
    },
    {
     "name": "stdout",
     "output_type": "stream",
     "text": [
      "epoch: 180 loss:0.140265 auc:0.9210\n",
      "Fit finished.\n",
      "epoch:   0 loss:0.513472 auc:0.2188\n",
      "epoch:  20 loss:0.229328 auc:0.9715\n",
      "epoch:  40 loss:0.179863 auc:0.9738\n",
      "epoch:  60 loss:0.165676 auc:0.9750\n",
      "epoch:  80 loss:0.152635 auc:0.9750\n",
      "epoch: 100 loss:0.147360 auc:0.9750\n",
      "epoch: 120 loss:0.144552 auc:0.9750\n",
      "epoch: 140 loss:0.148342 auc:0.9572\n",
      "epoch: 160 loss:0.143364 auc:0.9524\n"
     ]
    },
    {
     "name": "stderr",
     "output_type": "stream",
     "text": [
      " 48%|████▊     | 439/910 [1:07:13<1:14:59,  9.55s/it]"
     ]
    },
    {
     "name": "stdout",
     "output_type": "stream",
     "text": [
      "epoch: 180 loss:0.139280 auc:0.9596\n",
      "Fit finished.\n",
      "epoch:   0 loss:0.548388 auc:0.6709\n",
      "epoch:  20 loss:0.273051 auc:0.9492\n",
      "epoch:  40 loss:0.190570 auc:0.9512\n",
      "epoch:  60 loss:0.174862 auc:0.9561\n",
      "epoch:  80 loss:0.166147 auc:0.9541\n",
      "epoch: 100 loss:0.156215 auc:0.9531\n",
      "epoch: 120 loss:0.149114 auc:0.9541\n",
      "epoch: 140 loss:0.146371 auc:0.9521\n",
      "epoch: 160 loss:0.144523 auc:0.9512\n",
      "epoch: 180 loss:0.142484 auc:0.9521\n"
     ]
    },
    {
     "name": "stderr",
     "output_type": "stream",
     "text": [
      " 48%|████▊     | 440/910 [1:07:21<1:11:35,  9.14s/it]"
     ]
    },
    {
     "name": "stdout",
     "output_type": "stream",
     "text": [
      "epoch: 200 loss:0.140395 auc:0.9414\n",
      "Fit finished.\n",
      "epoch:   0 loss:1.047157 auc:0.5807\n",
      "epoch:  20 loss:0.281609 auc:0.9942\n",
      "epoch:  40 loss:0.219787 auc:0.9942\n",
      "epoch:  60 loss:0.185106 auc:0.9934\n",
      "epoch:  80 loss:0.173426 auc:0.9934\n",
      "epoch: 100 loss:0.165700 auc:0.9927\n",
      "epoch: 120 loss:0.156347 auc:0.9942\n",
      "epoch: 140 loss:0.148996 auc:0.9949\n",
      "epoch: 160 loss:0.146473 auc:0.9934\n",
      "epoch: 180 loss:0.144739 auc:0.9942\n",
      "epoch: 200 loss:0.145054 auc:0.9942\n",
      "epoch: 220 loss:0.142572 auc:0.9942\n",
      "epoch: 240 loss:0.140950 auc:0.9934\n"
     ]
    },
    {
     "name": "stderr",
     "output_type": "stream",
     "text": [
      " 48%|████▊     | 441/910 [1:07:32<1:14:38,  9.55s/it]"
     ]
    },
    {
     "name": "stdout",
     "output_type": "stream",
     "text": [
      "epoch: 260 loss:0.140832 auc:0.9642\n",
      "Fit finished.\n",
      "epoch:   0 loss:0.871941 auc:0.7153\n",
      "epoch:  20 loss:0.296465 auc:0.9965\n",
      "epoch:  40 loss:0.233522 auc:0.9965\n",
      "epoch:  60 loss:0.186776 auc:0.9965\n",
      "epoch:  80 loss:0.172936 auc:0.9948\n",
      "epoch: 100 loss:0.163512 auc:0.9948\n",
      "epoch: 120 loss:0.152972 auc:0.9948\n",
      "epoch: 140 loss:0.148295 auc:0.9965\n",
      "epoch: 160 loss:0.145855 auc:0.9965\n",
      "epoch: 180 loss:0.144452 auc:0.9965\n",
      "epoch: 200 loss:0.143295 auc:0.9965\n",
      "epoch: 220 loss:0.141427 auc:0.9965\n",
      "epoch: 240 loss:0.143020 auc:0.9948\n",
      "epoch: 260 loss:0.138995 auc:0.9948\n"
     ]
    },
    {
     "name": "stderr",
     "output_type": "stream",
     "text": [
      " 49%|████▊     | 442/910 [1:07:41<1:14:49,  9.59s/it]"
     ]
    },
    {
     "name": "stdout",
     "output_type": "stream",
     "text": [
      "epoch: 280 loss:0.137659 auc:0.9757\n",
      "Fit finished.\n",
      "epoch:   0 loss:0.487769 auc:0.1000\n",
      "epoch:  20 loss:0.245759 auc:1.0000\n",
      "epoch:  40 loss:0.189367 auc:1.0000\n",
      "epoch:  60 loss:0.172203 auc:1.0000\n",
      "epoch:  80 loss:0.158943 auc:1.0000\n",
      "epoch: 100 loss:0.149425 auc:1.0000\n",
      "epoch: 120 loss:0.146127 auc:1.0000\n",
      "epoch: 140 loss:0.145204 auc:1.0000\n",
      "epoch: 160 loss:0.142419 auc:1.0000\n",
      "epoch: 180 loss:0.140070 auc:1.0000\n",
      "epoch: 200 loss:0.136205 auc:1.0000\n",
      "epoch: 220 loss:0.133665 auc:1.0000\n",
      "epoch: 240 loss:0.131759 auc:1.0000\n",
      "epoch: 260 loss:0.129309 auc:1.0000\n",
      "epoch: 280 loss:0.127894 auc:1.0000\n",
      "epoch: 300 loss:0.126114 auc:1.0000\n",
      "epoch: 320 loss:0.124066 auc:1.0000\n",
      "epoch: 340 loss:0.123795 auc:1.0000\n",
      "epoch: 360 loss:0.123960 auc:1.0000\n",
      "epoch: 380 loss:0.126551 auc:1.0000\n",
      "epoch: 400 loss:0.121907 auc:1.0000\n",
      "epoch: 420 loss:0.118478 auc:1.0000\n",
      "epoch: 440 loss:0.116790 auc:1.0000\n",
      "epoch: 460 loss:0.115535 auc:1.0000\n",
      "epoch: 480 loss:0.116255 auc:1.0000\n",
      "epoch: 500 loss:0.114845 auc:1.0000\n",
      "epoch: 520 loss:0.113795 auc:1.0000\n",
      "epoch: 540 loss:0.112330 auc:1.0000\n",
      "epoch: 560 loss:0.112956 auc:1.0000\n",
      "epoch: 580 loss:0.111233 auc:1.0000\n",
      "epoch: 600 loss:0.111127 auc:1.0000\n",
      "epoch: 620 loss:0.110235 auc:1.0000\n",
      "epoch: 640 loss:0.110457 auc:1.0000\n",
      "epoch: 660 loss:0.110355 auc:1.0000\n",
      "epoch: 680 loss:0.112409 auc:1.0000\n",
      "epoch: 700 loss:0.113279 auc:1.0000\n",
      "epoch: 720 loss:0.108290 auc:1.0000\n",
      "epoch: 740 loss:0.107420 auc:1.0000\n",
      "epoch: 760 loss:0.106975 auc:1.0000\n",
      "epoch: 780 loss:0.106626 auc:1.0000\n",
      "epoch: 800 loss:0.106307 auc:1.0000\n",
      "epoch: 820 loss:0.106033 auc:1.0000\n",
      "epoch: 840 loss:0.105892 auc:1.0000\n",
      "epoch: 860 loss:0.105501 auc:1.0000\n",
      "epoch: 880 loss:0.105562 auc:1.0000\n",
      "epoch: 900 loss:0.105611 auc:1.0000\n",
      "epoch: 920 loss:0.105043 auc:1.0000\n",
      "epoch: 940 loss:0.105140 auc:1.0000\n",
      "epoch: 960 loss:0.104917 auc:1.0000\n",
      "epoch: 980 loss:0.104388 auc:1.0000\n"
     ]
    },
    {
     "name": "stderr",
     "output_type": "stream",
     "text": [
      " 49%|████▊     | 443/910 [1:08:16<2:13:01, 17.09s/it]"
     ]
    },
    {
     "name": "stdout",
     "output_type": "stream",
     "text": [
      "Fit finished.\n",
      "epoch:   0 loss:0.930848 auc:0.5907\n",
      "epoch:  20 loss:0.290922 auc:0.9591\n",
      "epoch:  40 loss:0.220443 auc:0.9578\n",
      "epoch:  60 loss:0.182665 auc:0.9543\n",
      "epoch:  80 loss:0.171265 auc:0.9529\n",
      "epoch: 100 loss:0.163664 auc:0.9550\n",
      "epoch: 120 loss:0.154390 auc:0.9536\n",
      "epoch: 140 loss:0.148573 auc:0.9536\n",
      "epoch: 160 loss:0.146043 auc:0.9536\n"
     ]
    },
    {
     "name": "stderr",
     "output_type": "stream",
     "text": [
      " 49%|████▉     | 444/910 [1:08:23<1:49:12, 14.06s/it]"
     ]
    },
    {
     "name": "stdout",
     "output_type": "stream",
     "text": [
      "epoch: 180 loss:0.144317 auc:0.9557\n",
      "Fit finished.\n",
      "epoch:   0 loss:0.660762 auc:0.8462\n",
      "epoch:  20 loss:0.270128 auc:0.9970\n",
      "epoch:  40 loss:0.195334 auc:0.9970\n",
      "epoch:  60 loss:0.177025 auc:0.9970\n",
      "epoch:  80 loss:0.168305 auc:0.9941\n",
      "epoch: 100 loss:0.159719 auc:0.9956\n",
      "epoch: 120 loss:0.150559 auc:0.9956\n",
      "epoch: 140 loss:0.147107 auc:0.9956\n",
      "epoch: 160 loss:0.145068 auc:0.9956\n",
      "epoch: 180 loss:0.143382 auc:0.9970\n",
      "epoch: 200 loss:0.143247 auc:0.9970\n"
     ]
    },
    {
     "name": "stderr",
     "output_type": "stream",
     "text": [
      " 49%|████▉     | 445/910 [1:08:30<1:34:05, 12.14s/it]"
     ]
    },
    {
     "name": "stdout",
     "output_type": "stream",
     "text": [
      "epoch: 220 loss:0.140442 auc:0.9956\n",
      "Fit finished.\n",
      "epoch:   0 loss:0.824662 auc:0.6311\n",
      "epoch:  20 loss:0.276190 auc:0.9898\n",
      "epoch:  40 loss:0.201323 auc:0.9934\n",
      "epoch:  60 loss:0.178322 auc:0.9920\n",
      "epoch:  80 loss:0.167826 auc:0.9920\n",
      "epoch: 100 loss:0.156400 auc:0.9920\n",
      "epoch: 120 loss:0.149350 auc:0.9920\n",
      "epoch: 140 loss:0.146537 auc:0.9920\n",
      "epoch: 160 loss:0.147790 auc:0.9920\n",
      "epoch: 180 loss:0.143327 auc:0.9920\n"
     ]
    },
    {
     "name": "stderr",
     "output_type": "stream",
     "text": [
      " 49%|████▉     | 446/910 [1:08:38<1:23:40, 10.82s/it]"
     ]
    },
    {
     "name": "stdout",
     "output_type": "stream",
     "text": [
      "epoch: 200 loss:0.141937 auc:0.9920\n",
      "Fit finished.\n",
      "epoch:   0 loss:0.515701 auc:0.5367\n",
      "epoch:  20 loss:0.253139 auc:0.9752\n",
      "epoch:  40 loss:0.190379 auc:0.9731\n",
      "epoch:  60 loss:0.176076 auc:0.9747\n",
      "epoch:  80 loss:0.167878 auc:0.9747\n",
      "epoch: 100 loss:0.157629 auc:0.9752\n",
      "epoch: 120 loss:0.148825 auc:0.9762\n",
      "epoch: 140 loss:0.145683 auc:0.9742\n",
      "epoch: 160 loss:0.145862 auc:0.9530\n"
     ]
    },
    {
     "name": "stderr",
     "output_type": "stream",
     "text": [
      " 49%|████▉     | 447/910 [1:08:45<1:15:18,  9.76s/it]"
     ]
    },
    {
     "name": "stdout",
     "output_type": "stream",
     "text": [
      "epoch: 180 loss:0.143372 auc:0.9489\n",
      "Fit finished.\n",
      "epoch:   0 loss:1.044747 auc:0.8115\n",
      "epoch:  20 loss:0.268980 auc:0.9961\n",
      "epoch:  40 loss:0.206395 auc:0.9961\n",
      "epoch:  60 loss:0.181996 auc:0.9971\n",
      "epoch:  80 loss:0.172286 auc:0.9980\n",
      "epoch: 100 loss:0.164894 auc:0.9990\n",
      "epoch: 120 loss:0.155646 auc:0.9980\n",
      "epoch: 140 loss:0.149144 auc:0.9990\n",
      "epoch: 160 loss:0.147101 auc:0.9980\n",
      "epoch: 180 loss:0.144924 auc:0.9980\n",
      "epoch: 200 loss:0.144362 auc:0.9980\n",
      "epoch: 220 loss:0.142607 auc:0.9971\n"
     ]
    },
    {
     "name": "stderr",
     "output_type": "stream",
     "text": [
      " 49%|████▉     | 448/910 [1:08:55<1:15:15,  9.77s/it]"
     ]
    },
    {
     "name": "stdout",
     "output_type": "stream",
     "text": [
      "epoch: 240 loss:0.141502 auc:0.9961\n",
      "Fit finished.\n",
      "epoch:   0 loss:1.115057 auc:0.4587\n",
      "epoch:  20 loss:0.274094 auc:0.9613\n",
      "epoch:  40 loss:0.213836 auc:0.9606\n",
      "epoch:  60 loss:0.181655 auc:0.9598\n",
      "epoch:  80 loss:0.169470 auc:0.9584\n",
      "epoch: 100 loss:0.159899 auc:0.9584\n",
      "epoch: 120 loss:0.151024 auc:0.9598\n",
      "epoch: 140 loss:0.147559 auc:0.9591\n",
      "epoch: 160 loss:0.146688 auc:0.9576\n"
     ]
    },
    {
     "name": "stderr",
     "output_type": "stream",
     "text": [
      " 49%|████▉     | 449/910 [1:09:01<1:04:57,  8.45s/it]"
     ]
    },
    {
     "name": "stdout",
     "output_type": "stream",
     "text": [
      "epoch: 180 loss:0.144204 auc:0.9591\n",
      "Fit finished.\n",
      "epoch:   0 loss:0.899030 auc:0.5096\n",
      "epoch:  20 loss:0.282188 auc:0.9399\n",
      "epoch:  40 loss:0.204972 auc:0.9410\n",
      "epoch:  60 loss:0.180231 auc:0.9410\n",
      "epoch:  80 loss:0.170349 auc:0.9439\n",
      "epoch: 100 loss:0.161892 auc:0.9456\n",
      "epoch: 120 loss:0.151029 auc:0.9433\n",
      "epoch: 140 loss:0.147270 auc:0.9422\n",
      "epoch: 160 loss:0.144867 auc:0.9371\n"
     ]
    },
    {
     "name": "stderr",
     "output_type": "stream",
     "text": [
      " 49%|████▉     | 450/910 [1:09:07<1:00:12,  7.85s/it]"
     ]
    },
    {
     "name": "stdout",
     "output_type": "stream",
     "text": [
      "epoch: 180 loss:0.143174 auc:0.9348\n",
      "Fit finished.\n",
      "epoch:   0 loss:0.916977 auc:0.4184\n",
      "epoch:  20 loss:0.274012 auc:0.9314\n",
      "epoch:  40 loss:0.199681 auc:0.9506\n",
      "epoch:  60 loss:0.178791 auc:0.9506\n",
      "epoch:  80 loss:0.170182 auc:0.9451\n",
      "epoch: 100 loss:0.162914 auc:0.9410\n",
      "epoch: 120 loss:0.154268 auc:0.9383\n",
      "epoch: 140 loss:0.148832 auc:0.9355\n",
      "epoch: 160 loss:0.146293 auc:0.9410\n",
      "epoch: 180 loss:0.144448 auc:0.9424\n"
     ]
    },
    {
     "name": "stderr",
     "output_type": "stream",
     "text": [
      " 50%|████▉     | 451/910 [1:09:15<59:08,  7.73s/it]  "
     ]
    },
    {
     "name": "stdout",
     "output_type": "stream",
     "text": [
      "epoch: 200 loss:0.142593 auc:0.9438\n",
      "Fit finished.\n",
      "epoch:   0 loss:0.869348 auc:0.5898\n",
      "epoch:  20 loss:0.275034 auc:0.9572\n",
      "epoch:  40 loss:0.209981 auc:0.9727\n",
      "epoch:  60 loss:0.180968 auc:0.9703\n",
      "epoch:  80 loss:0.169248 auc:0.9679\n",
      "epoch: 100 loss:0.160420 auc:0.9691\n",
      "epoch: 120 loss:0.152026 auc:0.9691\n",
      "epoch: 140 loss:0.148142 auc:0.9691\n",
      "epoch: 160 loss:0.145921 auc:0.9679\n",
      "epoch: 180 loss:0.144185 auc:0.9691\n"
     ]
    },
    {
     "name": "stderr",
     "output_type": "stream",
     "text": [
      " 50%|████▉     | 452/910 [1:09:23<1:00:13,  7.89s/it]"
     ]
    },
    {
     "name": "stdout",
     "output_type": "stream",
     "text": [
      "epoch: 200 loss:0.142925 auc:0.9691\n",
      "Fit finished.\n",
      "epoch:   0 loss:1.005578 auc:0.2667\n",
      "epoch:  20 loss:0.288886 auc:0.9756\n",
      "epoch:  40 loss:0.217505 auc:0.9767\n",
      "epoch:  60 loss:0.179834 auc:0.9822\n",
      "epoch:  80 loss:0.166923 auc:0.9822\n",
      "epoch: 100 loss:0.156365 auc:0.9800\n",
      "epoch: 120 loss:0.149812 auc:0.9789\n",
      "epoch: 140 loss:0.147077 auc:0.9800\n",
      "epoch: 160 loss:0.145230 auc:0.9778\n",
      "epoch: 180 loss:0.144224 auc:0.9811\n",
      "epoch: 200 loss:0.142535 auc:0.9822\n"
     ]
    },
    {
     "name": "stderr",
     "output_type": "stream",
     "text": [
      " 50%|████▉     | 453/910 [1:09:31<1:00:23,  7.93s/it]"
     ]
    },
    {
     "name": "stdout",
     "output_type": "stream",
     "text": [
      "epoch: 220 loss:0.142430 auc:0.9800\n",
      "Fit finished.\n",
      "epoch:   0 loss:0.634106 auc:0.4000\n",
      "epoch:  20 loss:0.240412 auc:0.8878\n",
      "epoch:  40 loss:0.186303 auc:0.8967\n",
      "epoch:  60 loss:0.174721 auc:0.9022\n",
      "epoch:  80 loss:0.167834 auc:0.8978\n",
      "epoch: 100 loss:0.157868 auc:0.9000\n",
      "epoch: 120 loss:0.148337 auc:0.9011\n",
      "epoch: 140 loss:0.146425 auc:0.9033\n",
      "epoch: 160 loss:0.143844 auc:0.9033\n",
      "epoch: 180 loss:0.141847 auc:0.9044\n",
      "epoch: 200 loss:0.140909 auc:0.9056\n",
      "epoch: 220 loss:0.138965 auc:0.9089\n",
      "epoch: 240 loss:0.136542 auc:0.9100\n",
      "epoch: 260 loss:0.135115 auc:0.9078\n",
      "epoch: 280 loss:0.132742 auc:0.9078\n",
      "epoch: 300 loss:0.133279 auc:0.9189\n",
      "epoch: 320 loss:0.129814 auc:0.9133\n"
     ]
    },
    {
     "name": "stderr",
     "output_type": "stream",
     "text": [
      " 50%|████▉     | 454/910 [1:09:43<1:09:25,  9.14s/it]"
     ]
    },
    {
     "name": "stdout",
     "output_type": "stream",
     "text": [
      "epoch: 340 loss:0.127535 auc:0.8967\n",
      "Fit finished.\n",
      "epoch:   0 loss:0.993544 auc:0.6270\n",
      "epoch:  20 loss:0.280561 auc:0.9268\n",
      "epoch:  40 loss:0.214634 auc:0.9297\n",
      "epoch:  60 loss:0.182050 auc:0.9316\n",
      "epoch:  80 loss:0.171279 auc:0.9307\n",
      "epoch: 100 loss:0.163657 auc:0.9307\n",
      "epoch: 120 loss:0.154498 auc:0.9316\n",
      "epoch: 140 loss:0.149337 auc:0.9316\n",
      "epoch: 160 loss:0.147049 auc:0.9316\n",
      "epoch: 180 loss:0.145403 auc:0.9336\n",
      "epoch: 200 loss:0.143996 auc:0.9307\n",
      "epoch: 220 loss:0.143476 auc:0.9336\n",
      "epoch: 240 loss:0.141532 auc:0.9336\n",
      "epoch: 260 loss:0.142041 auc:0.9404\n"
     ]
    },
    {
     "name": "stderr",
     "output_type": "stream",
     "text": [
      " 50%|█████     | 455/910 [1:09:54<1:13:25,  9.68s/it]"
     ]
    },
    {
     "name": "stdout",
     "output_type": "stream",
     "text": [
      "epoch: 280 loss:0.138196 auc:0.9297\n",
      "Fit finished.\n",
      "epoch:   0 loss:0.846084 auc:0.4744\n",
      "epoch:  20 loss:0.257259 auc:0.8751\n",
      "epoch:  40 loss:0.189741 auc:0.8811\n",
      "epoch:  60 loss:0.176004 auc:0.8835\n",
      "epoch:  80 loss:0.169540 auc:0.8823\n",
      "epoch: 100 loss:0.162668 auc:0.8847\n",
      "epoch: 120 loss:0.153137 auc:0.8835\n",
      "epoch: 140 loss:0.148413 auc:0.8823\n",
      "epoch: 160 loss:0.146088 auc:0.8859\n",
      "epoch: 180 loss:0.145729 auc:0.8847\n"
     ]
    },
    {
     "name": "stderr",
     "output_type": "stream",
     "text": [
      " 50%|█████     | 456/910 [1:10:02<1:09:44,  9.22s/it]"
     ]
    },
    {
     "name": "stdout",
     "output_type": "stream",
     "text": [
      "epoch: 200 loss:0.143255 auc:0.8787\n",
      "Fit finished.\n",
      "epoch:   0 loss:0.540158 auc:0.1211\n",
      "epoch:  20 loss:0.206477 auc:0.9965\n",
      "epoch:  40 loss:0.176111 auc:0.9965\n",
      "epoch:  60 loss:0.162040 auc:0.9965\n",
      "epoch:  80 loss:0.150122 auc:0.9965\n",
      "epoch: 100 loss:0.146623 auc:0.9965\n",
      "epoch: 120 loss:0.143635 auc:1.0000\n",
      "epoch: 140 loss:0.140946 auc:1.0000\n",
      "epoch: 160 loss:0.137492 auc:1.0000\n",
      "epoch: 180 loss:0.135051 auc:1.0000\n",
      "epoch: 200 loss:0.135645 auc:1.0000\n",
      "epoch: 220 loss:0.130449 auc:1.0000\n",
      "epoch: 240 loss:0.127354 auc:1.0000\n",
      "epoch: 260 loss:0.126720 auc:1.0000\n",
      "epoch: 280 loss:0.125928 auc:1.0000\n",
      "epoch: 300 loss:0.121992 auc:1.0000\n",
      "epoch: 320 loss:0.120560 auc:1.0000\n",
      "epoch: 340 loss:0.119134 auc:1.0000\n",
      "epoch: 360 loss:0.116929 auc:1.0000\n",
      "epoch: 380 loss:0.118668 auc:1.0000\n",
      "epoch: 400 loss:0.114488 auc:1.0000\n",
      "epoch: 420 loss:0.119135 auc:1.0000\n"
     ]
    },
    {
     "name": "stderr",
     "output_type": "stream",
     "text": [
      " 50%|█████     | 457/910 [1:10:17<1:22:56, 10.98s/it]"
     ]
    },
    {
     "name": "stdout",
     "output_type": "stream",
     "text": [
      "epoch: 440 loss:0.156029 auc:0.9965\n",
      "Fit finished.\n",
      "epoch:   0 loss:0.975121 auc:0.6052\n",
      "epoch:  20 loss:0.257805 auc:0.8940\n",
      "epoch:  40 loss:0.193566 auc:0.8967\n",
      "epoch:  60 loss:0.176187 auc:0.8935\n",
      "epoch:  80 loss:0.166928 auc:0.8940\n",
      "epoch: 100 loss:0.157792 auc:0.8951\n",
      "epoch: 120 loss:0.149788 auc:0.8962\n",
      "epoch: 140 loss:0.146772 auc:0.8983\n",
      "epoch: 160 loss:0.144403 auc:0.8967\n",
      "epoch: 180 loss:0.142688 auc:0.8999\n"
     ]
    },
    {
     "name": "stderr",
     "output_type": "stream",
     "text": [
      " 50%|█████     | 458/910 [1:10:24<1:14:01,  9.83s/it]"
     ]
    },
    {
     "name": "stdout",
     "output_type": "stream",
     "text": [
      "epoch: 200 loss:0.140881 auc:0.8956\n",
      "Fit finished.\n",
      "epoch:   0 loss:0.727463 auc:0.2523\n",
      "epoch:  20 loss:0.256841 auc:0.9823\n",
      "epoch:  40 loss:0.191059 auc:0.9807\n",
      "epoch:  60 loss:0.173892 auc:0.9807\n",
      "epoch:  80 loss:0.163301 auc:0.9815\n",
      "epoch: 100 loss:0.152411 auc:0.9815\n",
      "epoch: 120 loss:0.148084 auc:0.9815\n",
      "epoch: 140 loss:0.145616 auc:0.9823\n",
      "epoch: 160 loss:0.144037 auc:0.9823\n",
      "epoch: 180 loss:0.142916 auc:0.9823\n",
      "epoch: 200 loss:0.142017 auc:0.9830\n",
      "epoch: 220 loss:0.139963 auc:0.9853\n",
      "epoch: 240 loss:0.138073 auc:0.9869\n",
      "epoch: 260 loss:0.137501 auc:0.9869\n",
      "epoch: 280 loss:0.134901 auc:0.9869\n",
      "epoch: 300 loss:0.134869 auc:0.9869\n"
     ]
    },
    {
     "name": "stderr",
     "output_type": "stream",
     "text": [
      " 50%|█████     | 459/910 [1:10:36<1:19:13, 10.54s/it]"
     ]
    },
    {
     "name": "stdout",
     "output_type": "stream",
     "text": [
      "epoch: 320 loss:0.131308 auc:0.9769\n",
      "Fit finished.\n",
      "epoch:   0 loss:0.627097 auc:0.3331\n",
      "epoch:  20 loss:0.255934 auc:0.9709\n",
      "epoch:  40 loss:0.191787 auc:0.9810\n",
      "epoch:  60 loss:0.176568 auc:0.9827\n",
      "epoch:  80 loss:0.169440 auc:0.9816\n",
      "epoch: 100 loss:0.160641 auc:0.9816\n",
      "epoch: 120 loss:0.149994 auc:0.9822\n",
      "epoch: 140 loss:0.146481 auc:0.9816\n",
      "epoch: 160 loss:0.144077 auc:0.9816\n",
      "epoch: 180 loss:0.141893 auc:0.9786\n"
     ]
    },
    {
     "name": "stderr",
     "output_type": "stream",
     "text": [
      " 51%|█████     | 460/910 [1:10:44<1:12:39,  9.69s/it]"
     ]
    },
    {
     "name": "stdout",
     "output_type": "stream",
     "text": [
      "epoch: 200 loss:0.140288 auc:0.9768\n",
      "Fit finished.\n",
      "epoch:   0 loss:0.528024 auc:0.4216\n",
      "epoch:  20 loss:0.262787 auc:0.9334\n",
      "epoch:  40 loss:0.189551 auc:0.9423\n",
      "epoch:  60 loss:0.174213 auc:0.9290\n",
      "epoch:  80 loss:0.165422 auc:0.9320\n",
      "epoch: 100 loss:0.155305 auc:0.9290\n",
      "epoch: 120 loss:0.149083 auc:0.9260\n",
      "epoch: 140 loss:0.146269 auc:0.9260\n",
      "epoch: 160 loss:0.143767 auc:0.9290\n"
     ]
    },
    {
     "name": "stderr",
     "output_type": "stream",
     "text": [
      " 51%|█████     | 461/910 [1:10:51<1:07:17,  8.99s/it]"
     ]
    },
    {
     "name": "stdout",
     "output_type": "stream",
     "text": [
      "epoch: 180 loss:0.144523 auc:0.9305\n",
      "Fit finished.\n",
      "epoch:   0 loss:0.910431 auc:0.6556\n",
      "epoch:  20 loss:0.285929 auc:0.9826\n",
      "epoch:  40 loss:0.216973 auc:0.9835\n",
      "epoch:  60 loss:0.180656 auc:0.9835\n",
      "epoch:  80 loss:0.167510 auc:0.9835\n",
      "epoch: 100 loss:0.156612 auc:0.9844\n",
      "epoch: 120 loss:0.149321 auc:0.9844\n",
      "epoch: 140 loss:0.146698 auc:0.9853\n",
      "epoch: 160 loss:0.144945 auc:0.9844\n",
      "epoch: 180 loss:0.143525 auc:0.9844\n",
      "epoch: 200 loss:0.142591 auc:0.9853\n",
      "epoch: 220 loss:0.141504 auc:0.9835\n"
     ]
    },
    {
     "name": "stderr",
     "output_type": "stream",
     "text": [
      " 51%|█████     | 462/910 [1:10:59<1:03:30,  8.51s/it]"
     ]
    },
    {
     "name": "stdout",
     "output_type": "stream",
     "text": [
      "epoch: 240 loss:0.139734 auc:0.9669\n",
      "Fit finished.\n",
      "epoch:   0 loss:0.654317 auc:0.5433\n",
      "epoch:  20 loss:0.237479 auc:0.9401\n",
      "epoch:  40 loss:0.183810 auc:0.9427\n",
      "epoch:  60 loss:0.171296 auc:0.9427\n",
      "epoch:  80 loss:0.162688 auc:0.9438\n",
      "epoch: 100 loss:0.151836 auc:0.9438\n",
      "epoch: 120 loss:0.147114 auc:0.9442\n",
      "epoch: 140 loss:0.144591 auc:0.9416\n",
      "epoch: 160 loss:0.143412 auc:0.9390\n"
     ]
    },
    {
     "name": "stderr",
     "output_type": "stream",
     "text": [
      " 51%|█████     | 463/910 [1:11:06<1:00:25,  8.11s/it]"
     ]
    },
    {
     "name": "stdout",
     "output_type": "stream",
     "text": [
      "epoch: 180 loss:0.140908 auc:0.9175\n",
      "Fit finished.\n",
      "epoch:   0 loss:0.545325 auc:0.7633\n",
      "epoch:  20 loss:0.269504 auc:0.8846\n",
      "epoch:  40 loss:0.200612 auc:0.8876\n",
      "epoch:  60 loss:0.175464 auc:0.8935\n",
      "epoch:  80 loss:0.164499 auc:0.8891\n",
      "epoch: 100 loss:0.153434 auc:0.8891\n",
      "epoch: 120 loss:0.148599 auc:0.8905\n",
      "epoch: 140 loss:0.146190 auc:0.8846\n",
      "epoch: 160 loss:0.144362 auc:0.8861\n"
     ]
    },
    {
     "name": "stderr",
     "output_type": "stream",
     "text": [
      " 51%|█████     | 464/910 [1:11:13<58:39,  7.89s/it]  "
     ]
    },
    {
     "name": "stdout",
     "output_type": "stream",
     "text": [
      "epoch: 180 loss:0.142684 auc:0.8698\n",
      "Fit finished.\n",
      "epoch:   0 loss:1.081764 auc:0.4218\n",
      "epoch:  20 loss:0.290226 auc:0.9955\n",
      "epoch:  40 loss:0.227987 auc:1.0000\n",
      "epoch:  60 loss:0.183299 auc:1.0000\n",
      "epoch:  80 loss:0.169451 auc:1.0000\n",
      "epoch: 100 loss:0.159455 auc:1.0000\n",
      "epoch: 120 loss:0.150909 auc:1.0000\n",
      "epoch: 140 loss:0.147607 auc:1.0000\n",
      "epoch: 160 loss:0.145402 auc:1.0000\n",
      "epoch: 180 loss:0.143964 auc:1.0000\n",
      "epoch: 200 loss:0.142457 auc:1.0000\n",
      "epoch: 220 loss:0.141547 auc:1.0000\n",
      "epoch: 240 loss:0.139407 auc:1.0000\n",
      "epoch: 260 loss:0.137692 auc:1.0000\n",
      "epoch: 280 loss:0.136081 auc:1.0000\n",
      "epoch: 300 loss:0.134545 auc:1.0000\n",
      "epoch: 320 loss:0.135106 auc:1.0000\n",
      "epoch: 340 loss:0.131451 auc:1.0000\n",
      "epoch: 360 loss:0.131673 auc:1.0000\n",
      "epoch: 380 loss:0.128939 auc:1.0000\n",
      "epoch: 400 loss:0.126684 auc:1.0000\n",
      "epoch: 420 loss:0.125686 auc:1.0000\n",
      "epoch: 440 loss:0.125699 auc:1.0000\n",
      "epoch: 460 loss:0.124213 auc:1.0000\n",
      "epoch: 480 loss:0.123762 auc:1.0000\n",
      "epoch: 500 loss:0.122016 auc:1.0000\n",
      "epoch: 520 loss:0.121769 auc:1.0000\n",
      "epoch: 540 loss:0.140459 auc:1.0000\n",
      "epoch: 560 loss:0.126253 auc:1.0000\n",
      "epoch: 580 loss:0.121232 auc:1.0000\n",
      "epoch: 600 loss:0.119409 auc:1.0000\n",
      "epoch: 620 loss:0.118078 auc:1.0000\n",
      "epoch: 640 loss:0.116934 auc:1.0000\n",
      "epoch: 660 loss:0.115888 auc:1.0000\n",
      "epoch: 680 loss:0.114938 auc:1.0000\n",
      "epoch: 700 loss:0.114113 auc:1.0000\n",
      "epoch: 720 loss:0.118507 auc:1.0000\n",
      "epoch: 740 loss:0.116575 auc:1.0000\n",
      "epoch: 760 loss:0.112981 auc:1.0000\n",
      "epoch: 780 loss:0.112086 auc:1.0000\n",
      "epoch: 800 loss:0.111473 auc:1.0000\n",
      "epoch: 820 loss:0.110987 auc:1.0000\n",
      "epoch: 840 loss:0.110636 auc:1.0000\n",
      "epoch: 860 loss:0.110342 auc:1.0000\n",
      "epoch: 880 loss:0.109823 auc:1.0000\n",
      "epoch: 900 loss:0.109721 auc:1.0000\n",
      "epoch: 920 loss:0.110206 auc:1.0000\n",
      "epoch: 940 loss:0.109514 auc:1.0000\n",
      "epoch: 960 loss:0.132675 auc:1.0000\n",
      "epoch: 980 loss:0.112510 auc:1.0000\n"
     ]
    },
    {
     "name": "stderr",
     "output_type": "stream",
     "text": [
      " 51%|█████     | 465/910 [1:11:49<2:00:35, 16.26s/it]"
     ]
    },
    {
     "name": "stdout",
     "output_type": "stream",
     "text": [
      "Fit finished.\n",
      "epoch:   0 loss:0.627248 auc:0.6906\n",
      "epoch:  20 loss:0.257830 auc:1.0000\n",
      "epoch:  40 loss:0.191200 auc:1.0000\n",
      "epoch:  60 loss:0.175578 auc:0.9992\n",
      "epoch:  80 loss:0.167783 auc:0.9992\n",
      "epoch: 100 loss:0.157920 auc:0.9992\n",
      "epoch: 120 loss:0.149183 auc:0.9992\n",
      "epoch: 140 loss:0.146411 auc:0.9992\n",
      "epoch: 160 loss:0.144727 auc:1.0000\n",
      "epoch: 180 loss:0.143209 auc:1.0000\n"
     ]
    },
    {
     "name": "stderr",
     "output_type": "stream",
     "text": [
      " 51%|█████     | 466/910 [1:11:57<1:41:54, 13.77s/it]"
     ]
    },
    {
     "name": "stdout",
     "output_type": "stream",
     "text": [
      "epoch: 200 loss:0.141226 auc:0.9992\n",
      "Fit finished.\n",
      "epoch:   0 loss:0.576266 auc:0.2475\n",
      "epoch:  20 loss:0.229613 auc:0.9775\n",
      "epoch:  40 loss:0.183937 auc:0.9875\n",
      "epoch:  60 loss:0.172159 auc:0.9875\n",
      "epoch:  80 loss:0.163013 auc:0.9875\n",
      "epoch: 100 loss:0.151742 auc:0.9875\n",
      "epoch: 120 loss:0.147720 auc:0.9875\n",
      "epoch: 140 loss:0.145233 auc:0.9875\n",
      "epoch: 160 loss:0.143004 auc:0.9875\n",
      "epoch: 180 loss:0.141214 auc:0.9900\n",
      "epoch: 200 loss:0.138954 auc:0.9900\n"
     ]
    },
    {
     "name": "stderr",
     "output_type": "stream",
     "text": [
      " 51%|█████▏    | 467/910 [1:12:06<1:30:12, 12.22s/it]"
     ]
    },
    {
     "name": "stdout",
     "output_type": "stream",
     "text": [
      "epoch: 220 loss:0.137531 auc:0.9800\n",
      "Fit finished.\n",
      "epoch:   0 loss:0.608785 auc:0.2105\n",
      "epoch:  20 loss:0.224649 auc:0.9557\n",
      "epoch:  40 loss:0.183100 auc:0.9806\n",
      "epoch:  60 loss:0.172389 auc:0.9806\n",
      "epoch:  80 loss:0.164722 auc:0.9806\n",
      "epoch: 100 loss:0.153819 auc:0.9806\n",
      "epoch: 120 loss:0.147932 auc:0.9806\n",
      "epoch: 140 loss:0.144929 auc:0.9834\n",
      "epoch: 160 loss:0.142403 auc:0.9861\n",
      "epoch: 180 loss:0.141544 auc:0.9861\n",
      "epoch: 200 loss:0.138161 auc:0.9861\n"
     ]
    },
    {
     "name": "stderr",
     "output_type": "stream",
     "text": [
      " 51%|█████▏    | 468/910 [1:12:14<1:20:48, 10.97s/it]"
     ]
    },
    {
     "name": "stdout",
     "output_type": "stream",
     "text": [
      "epoch: 220 loss:0.136654 auc:0.9778\n",
      "Fit finished.\n",
      "epoch:   0 loss:0.811682 auc:0.2401\n",
      "epoch:  20 loss:0.279569 auc:0.9849\n",
      "epoch:  40 loss:0.200286 auc:0.9918\n",
      "epoch:  60 loss:0.175879 auc:0.9918\n",
      "epoch:  80 loss:0.165600 auc:0.9918\n",
      "epoch: 100 loss:0.155819 auc:0.9918\n",
      "epoch: 120 loss:0.149628 auc:0.9918\n",
      "epoch: 140 loss:0.147100 auc:0.9918\n",
      "epoch: 160 loss:0.145263 auc:0.9918\n",
      "epoch: 180 loss:0.144330 auc:0.9918\n",
      "epoch: 200 loss:0.142762 auc:0.9918\n",
      "epoch: 220 loss:0.141253 auc:0.9918\n",
      "epoch: 240 loss:0.140245 auc:0.9931\n",
      "epoch: 260 loss:0.137741 auc:0.9918\n",
      "epoch: 280 loss:0.136202 auc:0.9931\n",
      "epoch: 300 loss:0.134786 auc:0.9931\n"
     ]
    },
    {
     "name": "stderr",
     "output_type": "stream",
     "text": [
      " 52%|█████▏    | 469/910 [1:12:26<1:22:52, 11.28s/it]"
     ]
    },
    {
     "name": "stdout",
     "output_type": "stream",
     "text": [
      "epoch: 320 loss:0.132765 auc:0.9904\n",
      "Fit finished.\n",
      "epoch:   0 loss:0.820587 auc:0.4568\n",
      "epoch:  20 loss:0.287176 auc:0.9691\n",
      "epoch:  40 loss:0.211924 auc:0.9846\n",
      "epoch:  60 loss:0.181634 auc:0.9784\n",
      "epoch:  80 loss:0.171826 auc:0.9815\n",
      "epoch: 100 loss:0.164761 auc:0.9815\n",
      "epoch: 120 loss:0.155787 auc:0.9815\n",
      "epoch: 140 loss:0.149039 auc:0.9815\n",
      "epoch: 160 loss:0.146415 auc:0.9815\n",
      "epoch: 180 loss:0.144580 auc:0.9815\n"
     ]
    },
    {
     "name": "stderr",
     "output_type": "stream",
     "text": [
      " 52%|█████▏    | 470/910 [1:12:33<1:13:00,  9.96s/it]"
     ]
    },
    {
     "name": "stdout",
     "output_type": "stream",
     "text": [
      "epoch: 200 loss:0.143054 auc:0.9815\n",
      "Fit finished.\n",
      "epoch:   0 loss:0.888593 auc:0.7743\n",
      "epoch:  20 loss:0.300730 auc:0.9601\n",
      "epoch:  40 loss:0.243183 auc:0.9635\n",
      "epoch:  60 loss:0.191421 auc:0.9653\n",
      "epoch:  80 loss:0.175283 auc:0.9635\n",
      "epoch: 100 loss:0.165337 auc:0.9635\n",
      "epoch: 120 loss:0.155143 auc:0.9618\n",
      "epoch: 140 loss:0.149373 auc:0.9618\n",
      "epoch: 160 loss:0.146599 auc:0.9618\n",
      "epoch: 180 loss:0.145371 auc:0.9618\n"
     ]
    },
    {
     "name": "stderr",
     "output_type": "stream",
     "text": [
      " 52%|█████▏    | 471/910 [1:12:41<1:10:04,  9.58s/it]"
     ]
    },
    {
     "name": "stdout",
     "output_type": "stream",
     "text": [
      "epoch: 200 loss:0.143513 auc:0.9618\n",
      "Fit finished.\n",
      "epoch:   0 loss:1.332010 auc:0.5099\n",
      "epoch:  20 loss:0.275337 auc:0.9729\n",
      "epoch:  40 loss:0.212032 auc:0.9854\n",
      "epoch:  60 loss:0.184938 auc:0.9875\n",
      "epoch:  80 loss:0.174833 auc:0.9886\n",
      "epoch: 100 loss:0.167421 auc:0.9886\n",
      "epoch: 120 loss:0.159121 auc:0.9886\n",
      "epoch: 140 loss:0.150902 auc:0.9886\n",
      "epoch: 160 loss:0.147521 auc:0.9886\n",
      "epoch: 180 loss:0.145613 auc:0.9886\n",
      "epoch: 200 loss:0.144147 auc:0.9886\n",
      "epoch: 220 loss:0.142943 auc:0.9896\n",
      "epoch: 240 loss:0.141517 auc:0.9896\n",
      "epoch: 260 loss:0.140302 auc:0.9886\n"
     ]
    },
    {
     "name": "stderr",
     "output_type": "stream",
     "text": [
      " 52%|█████▏    | 472/910 [1:12:52<1:11:30,  9.80s/it]"
     ]
    },
    {
     "name": "stdout",
     "output_type": "stream",
     "text": [
      "epoch: 280 loss:0.138221 auc:0.9813\n",
      "Fit finished.\n",
      "epoch:   0 loss:1.439367 auc:0.7443\n",
      "epoch:  20 loss:0.276665 auc:0.9793\n",
      "epoch:  40 loss:0.215480 auc:0.9793\n",
      "epoch:  60 loss:0.184868 auc:0.9799\n",
      "epoch:  80 loss:0.174114 auc:0.9814\n",
      "epoch: 100 loss:0.167042 auc:0.9814\n",
      "epoch: 120 loss:0.158589 auc:0.9819\n",
      "epoch: 140 loss:0.150172 auc:0.9819\n",
      "epoch: 160 loss:0.147412 auc:0.9819\n",
      "epoch: 180 loss:0.145523 auc:0.9824\n",
      "epoch: 200 loss:0.143910 auc:0.9804\n"
     ]
    },
    {
     "name": "stderr",
     "output_type": "stream",
     "text": [
      " 52%|█████▏    | 473/910 [1:13:00<1:07:49,  9.31s/it]"
     ]
    },
    {
     "name": "stdout",
     "output_type": "stream",
     "text": [
      "epoch: 220 loss:0.143451 auc:0.9768\n",
      "Fit finished.\n",
      "epoch:   0 loss:1.089820 auc:0.5935\n",
      "epoch:  20 loss:0.265344 auc:0.9380\n",
      "epoch:  40 loss:0.198806 auc:0.9371\n",
      "epoch:  60 loss:0.179366 auc:0.9380\n",
      "epoch:  80 loss:0.170715 auc:0.9420\n",
      "epoch: 100 loss:0.162492 auc:0.9437\n",
      "epoch: 120 loss:0.153037 auc:0.9445\n",
      "epoch: 140 loss:0.148399 auc:0.9445\n",
      "epoch: 160 loss:0.146182 auc:0.9404\n",
      "epoch: 180 loss:0.144784 auc:0.9412\n",
      "epoch: 200 loss:0.144395 auc:0.9380\n"
     ]
    },
    {
     "name": "stderr",
     "output_type": "stream",
     "text": [
      " 52%|█████▏    | 474/910 [1:13:07<1:03:55,  8.80s/it]"
     ]
    },
    {
     "name": "stdout",
     "output_type": "stream",
     "text": [
      "epoch: 220 loss:0.142583 auc:0.9371\n",
      "Fit finished.\n",
      "epoch:   0 loss:0.632238 auc:0.1344\n",
      "epoch:  20 loss:0.246200 auc:0.9619\n",
      "epoch:  40 loss:0.183890 auc:0.9738\n",
      "epoch:  60 loss:0.171323 auc:0.9762\n",
      "epoch:  80 loss:0.160874 auc:0.9762\n",
      "epoch: 100 loss:0.149765 auc:0.9763\n",
      "epoch: 120 loss:0.147445 auc:0.9775\n",
      "epoch: 140 loss:0.144005 auc:0.9763\n",
      "epoch: 160 loss:0.141998 auc:0.9750\n",
      "epoch: 180 loss:0.139616 auc:0.9688\n"
     ]
    },
    {
     "name": "stderr",
     "output_type": "stream",
     "text": [
      " 52%|█████▏    | 475/910 [1:13:14<58:03,  8.01s/it]  "
     ]
    },
    {
     "name": "stdout",
     "output_type": "stream",
     "text": [
      "epoch: 200 loss:0.137444 auc:0.9550\n",
      "Fit finished.\n",
      "epoch:   0 loss:0.963562 auc:0.2808\n",
      "epoch:  20 loss:0.287431 auc:0.9788\n",
      "epoch:  40 loss:0.208141 auc:0.9812\n",
      "epoch:  60 loss:0.179461 auc:0.9796\n",
      "epoch:  80 loss:0.169400 auc:0.9829\n",
      "epoch: 100 loss:0.161210 auc:0.9820\n",
      "epoch: 120 loss:0.151692 auc:0.9829\n",
      "epoch: 140 loss:0.147594 auc:0.9820\n",
      "epoch: 160 loss:0.145361 auc:0.9820\n",
      "epoch: 180 loss:0.143399 auc:0.9796\n"
     ]
    },
    {
     "name": "stderr",
     "output_type": "stream",
     "text": [
      " 52%|█████▏    | 476/910 [1:13:20<55:01,  7.61s/it]"
     ]
    },
    {
     "name": "stdout",
     "output_type": "stream",
     "text": [
      "epoch: 200 loss:0.141934 auc:0.9731\n",
      "Fit finished.\n",
      "epoch:   0 loss:1.158651 auc:0.6600\n",
      "epoch:  20 loss:0.285376 auc:0.9667\n",
      "epoch:  40 loss:0.217272 auc:0.9744\n",
      "epoch:  60 loss:0.185499 auc:0.9778\n",
      "epoch:  80 loss:0.173277 auc:0.9800\n",
      "epoch: 100 loss:0.165046 auc:0.9811\n",
      "epoch: 120 loss:0.154924 auc:0.9778\n",
      "epoch: 140 loss:0.148992 auc:0.9778\n",
      "epoch: 160 loss:0.146492 auc:0.9789\n",
      "epoch: 180 loss:0.144975 auc:0.9789\n",
      "epoch: 200 loss:0.144092 auc:0.9789\n",
      "epoch: 220 loss:0.142743 auc:0.9789\n"
     ]
    },
    {
     "name": "stderr",
     "output_type": "stream",
     "text": [
      " 52%|█████▏    | 477/910 [1:13:29<57:50,  8.02s/it]"
     ]
    },
    {
     "name": "stdout",
     "output_type": "stream",
     "text": [
      "epoch: 240 loss:0.142421 auc:0.9789\n",
      "Fit finished.\n",
      "epoch:   0 loss:0.666038 auc:0.1474\n",
      "epoch:  20 loss:0.226266 auc:0.9754\n",
      "epoch:  40 loss:0.180148 auc:0.9792\n",
      "epoch:  60 loss:0.167279 auc:0.9811\n",
      "epoch:  80 loss:0.152927 auc:0.9792\n",
      "epoch: 100 loss:0.147625 auc:0.9811\n",
      "epoch: 120 loss:0.146857 auc:0.9792\n",
      "epoch: 140 loss:0.143114 auc:0.9830\n",
      "epoch: 160 loss:0.140362 auc:0.9792\n"
     ]
    },
    {
     "name": "stderr",
     "output_type": "stream",
     "text": [
      " 53%|█████▎    | 478/910 [1:13:36<55:39,  7.73s/it]"
     ]
    },
    {
     "name": "stdout",
     "output_type": "stream",
     "text": [
      "epoch: 180 loss:0.138349 auc:0.9527\n",
      "Fit finished.\n",
      "epoch:   0 loss:0.466777 auc:0.3897\n",
      "epoch:  20 loss:0.233872 auc:0.9568\n",
      "epoch:  40 loss:0.184457 auc:0.9599\n",
      "epoch:  60 loss:0.170573 auc:0.9599\n",
      "epoch:  80 loss:0.159979 auc:0.9614\n",
      "epoch: 100 loss:0.150113 auc:0.9599\n",
      "epoch: 120 loss:0.147339 auc:0.9583\n",
      "epoch: 140 loss:0.144612 auc:0.9576\n",
      "epoch: 160 loss:0.143789 auc:0.9468\n"
     ]
    },
    {
     "name": "stderr",
     "output_type": "stream",
     "text": [
      " 53%|█████▎    | 479/910 [1:13:43<53:35,  7.46s/it]"
     ]
    },
    {
     "name": "stdout",
     "output_type": "stream",
     "text": [
      "epoch: 180 loss:0.140219 auc:0.9367\n",
      "Fit finished.\n",
      "epoch:   0 loss:0.651329 auc:0.3776\n",
      "epoch:  20 loss:0.270817 auc:0.9796\n",
      "epoch:  40 loss:0.192943 auc:0.9847\n",
      "epoch:  60 loss:0.176697 auc:0.9949\n",
      "epoch:  80 loss:0.168534 auc:1.0000\n",
      "epoch: 100 loss:0.159617 auc:1.0000\n",
      "epoch: 120 loss:0.150427 auc:1.0000\n",
      "epoch: 140 loss:0.147255 auc:1.0000\n",
      "epoch: 160 loss:0.144919 auc:1.0000\n",
      "epoch: 180 loss:0.142575 auc:1.0000\n",
      "epoch: 200 loss:0.144719 auc:1.0000\n",
      "epoch: 220 loss:0.140321 auc:1.0000\n",
      "epoch: 240 loss:0.137807 auc:1.0000\n",
      "epoch: 260 loss:0.135979 auc:1.0000\n",
      "epoch: 280 loss:0.135040 auc:1.0000\n",
      "epoch: 300 loss:0.133166 auc:1.0000\n",
      "epoch: 320 loss:0.131354 auc:1.0000\n",
      "epoch: 340 loss:0.130104 auc:1.0000\n"
     ]
    },
    {
     "name": "stderr",
     "output_type": "stream",
     "text": [
      " 53%|█████▎    | 480/910 [1:13:56<1:04:43,  9.03s/it]"
     ]
    },
    {
     "name": "stdout",
     "output_type": "stream",
     "text": [
      "epoch: 360 loss:0.133170 auc:0.9949\n",
      "Fit finished.\n",
      "epoch:   0 loss:0.662699 auc:0.0547\n",
      "epoch:  20 loss:0.232736 auc:0.9609\n",
      "epoch:  40 loss:0.183726 auc:0.9531\n",
      "epoch:  60 loss:0.172649 auc:0.9570\n",
      "epoch:  80 loss:0.164559 auc:0.9570\n",
      "epoch: 100 loss:0.153124 auc:0.9570\n",
      "epoch: 120 loss:0.147597 auc:0.9570\n",
      "epoch: 140 loss:0.144695 auc:0.9570\n",
      "epoch: 160 loss:0.143401 auc:0.9609\n",
      "epoch: 180 loss:0.140829 auc:0.9648\n",
      "epoch: 200 loss:0.138751 auc:0.9648\n",
      "epoch: 220 loss:0.135359 auc:0.9648\n",
      "epoch: 240 loss:0.133254 auc:0.9648\n",
      "epoch: 260 loss:0.132678 auc:0.9648\n",
      "epoch: 280 loss:0.129019 auc:0.9648\n",
      "epoch: 300 loss:0.127726 auc:0.9648\n",
      "epoch: 320 loss:0.125971 auc:0.9648\n",
      "epoch: 340 loss:0.124280 auc:0.9648\n",
      "epoch: 360 loss:0.125963 auc:0.9648\n"
     ]
    },
    {
     "name": "stderr",
     "output_type": "stream",
     "text": [
      " 53%|█████▎    | 481/910 [1:14:11<1:16:53, 10.75s/it]"
     ]
    },
    {
     "name": "stdout",
     "output_type": "stream",
     "text": [
      "epoch: 380 loss:0.135457 auc:0.9531\n",
      "Fit finished.\n",
      "epoch:   0 loss:0.647044 auc:0.5502\n",
      "epoch:  20 loss:0.242441 auc:0.9854\n",
      "epoch:  40 loss:0.186561 auc:0.9831\n",
      "epoch:  60 loss:0.172653 auc:0.9857\n",
      "epoch:  80 loss:0.163594 auc:0.9844\n",
      "epoch: 100 loss:0.151585 auc:0.9857\n",
      "epoch: 120 loss:0.147297 auc:0.9860\n",
      "epoch: 140 loss:0.144216 auc:0.9849\n",
      "epoch: 160 loss:0.143394 auc:0.9722\n"
     ]
    },
    {
     "name": "stderr",
     "output_type": "stream",
     "text": [
      " 53%|█████▎    | 482/910 [1:14:18<1:09:30,  9.75s/it]"
     ]
    },
    {
     "name": "stdout",
     "output_type": "stream",
     "text": [
      "epoch: 180 loss:0.140679 auc:0.9641\n",
      "Fit finished.\n",
      "epoch:   0 loss:0.509885 auc:0.5470\n",
      "epoch:  20 loss:0.243245 auc:0.9770\n",
      "epoch:  40 loss:0.186299 auc:0.9822\n",
      "epoch:  60 loss:0.173740 auc:0.9875\n",
      "epoch:  80 loss:0.164917 auc:0.9869\n",
      "epoch: 100 loss:0.152929 auc:0.9869\n",
      "epoch: 120 loss:0.147248 auc:0.9869\n",
      "epoch: 140 loss:0.145168 auc:0.9849\n",
      "epoch: 160 loss:0.141673 auc:0.9750\n"
     ]
    },
    {
     "name": "stderr",
     "output_type": "stream",
     "text": [
      " 53%|█████▎    | 483/910 [1:14:25<1:02:45,  8.82s/it]"
     ]
    },
    {
     "name": "stdout",
     "output_type": "stream",
     "text": [
      "epoch: 180 loss:0.142136 auc:0.9586\n",
      "Fit finished.\n",
      "epoch:   0 loss:0.804948 auc:0.6507\n",
      "epoch:  20 loss:0.279541 auc:0.9450\n",
      "epoch:  40 loss:0.212956 auc:0.9486\n",
      "epoch:  60 loss:0.182126 auc:0.9512\n",
      "epoch:  80 loss:0.171722 auc:0.9507\n",
      "epoch: 100 loss:0.163384 auc:0.9507\n",
      "epoch: 120 loss:0.152588 auc:0.9510\n",
      "epoch: 140 loss:0.147843 auc:0.9533\n",
      "epoch: 160 loss:0.146973 auc:0.9527\n",
      "epoch: 180 loss:0.144060 auc:0.9504\n"
     ]
    },
    {
     "name": "stderr",
     "output_type": "stream",
     "text": [
      " 53%|█████▎    | 484/910 [1:14:32<59:35,  8.39s/it]  "
     ]
    },
    {
     "name": "stdout",
     "output_type": "stream",
     "text": [
      "epoch: 200 loss:0.142483 auc:0.9474\n",
      "Fit finished.\n",
      "epoch:   0 loss:0.990746 auc:0.6683\n",
      "epoch:  20 loss:0.274486 auc:0.9834\n",
      "epoch:  40 loss:0.214149 auc:0.9845\n",
      "epoch:  60 loss:0.184591 auc:0.9810\n",
      "epoch:  80 loss:0.173596 auc:0.9810\n",
      "epoch: 100 loss:0.165306 auc:0.9810\n",
      "epoch: 120 loss:0.154825 auc:0.9810\n",
      "epoch: 140 loss:0.149072 auc:0.9810\n",
      "epoch: 160 loss:0.146647 auc:0.9798\n"
     ]
    },
    {
     "name": "stderr",
     "output_type": "stream",
     "text": [
      " 53%|█████▎    | 485/910 [1:14:39<57:31,  8.12s/it]"
     ]
    },
    {
     "name": "stdout",
     "output_type": "stream",
     "text": [
      "epoch: 180 loss:0.144884 auc:0.9798\n",
      "Fit finished.\n",
      "epoch:   0 loss:0.934764 auc:0.7098\n",
      "epoch:  20 loss:0.283867 auc:0.9864\n",
      "epoch:  40 loss:0.217404 auc:0.9864\n",
      "epoch:  60 loss:0.184101 auc:0.9864\n",
      "epoch:  80 loss:0.172182 auc:0.9864\n",
      "epoch: 100 loss:0.163766 auc:0.9864\n",
      "epoch: 120 loss:0.154159 auc:0.9864\n",
      "epoch: 140 loss:0.148890 auc:0.9864\n",
      "epoch: 160 loss:0.146516 auc:0.9864\n",
      "epoch: 180 loss:0.144651 auc:0.9864\n",
      "epoch: 200 loss:0.145947 auc:0.9864\n",
      "epoch: 220 loss:0.142004 auc:0.9864\n",
      "epoch: 240 loss:0.139865 auc:0.9909\n",
      "epoch: 260 loss:0.138325 auc:0.9955\n",
      "epoch: 280 loss:0.136755 auc:0.9977\n",
      "epoch: 300 loss:0.135585 auc:1.0000\n",
      "epoch: 320 loss:0.135274 auc:1.0000\n",
      "epoch: 340 loss:0.134109 auc:1.0000\n",
      "epoch: 360 loss:0.132369 auc:1.0000\n",
      "epoch: 380 loss:0.133902 auc:1.0000\n",
      "epoch: 400 loss:0.129815 auc:0.9977\n",
      "epoch: 420 loss:0.130048 auc:0.9955\n",
      "epoch: 440 loss:0.127502 auc:1.0000\n",
      "epoch: 460 loss:0.125101 auc:1.0000\n",
      "epoch: 480 loss:0.124616 auc:1.0000\n",
      "epoch: 500 loss:0.124013 auc:1.0000\n",
      "epoch: 520 loss:0.122014 auc:1.0000\n",
      "epoch: 540 loss:0.122330 auc:1.0000\n"
     ]
    },
    {
     "name": "stderr",
     "output_type": "stream",
     "text": [
      " 53%|█████▎    | 486/910 [1:14:59<1:22:34, 11.69s/it]"
     ]
    },
    {
     "name": "stdout",
     "output_type": "stream",
     "text": [
      "epoch: 560 loss:0.125238 auc:0.9841\n",
      "Fit finished.\n",
      "epoch:   0 loss:0.829709 auc:0.4645\n",
      "epoch:  20 loss:0.275010 auc:0.9706\n",
      "epoch:  40 loss:0.198072 auc:0.9775\n",
      "epoch:  60 loss:0.176607 auc:0.9810\n",
      "epoch:  80 loss:0.166808 auc:0.9844\n",
      "epoch: 100 loss:0.157904 auc:0.9836\n",
      "epoch: 120 loss:0.149794 auc:0.9836\n",
      "epoch: 140 loss:0.146847 auc:0.9844\n",
      "epoch: 160 loss:0.145192 auc:0.9836\n",
      "epoch: 180 loss:0.142909 auc:0.9818\n"
     ]
    },
    {
     "name": "stderr",
     "output_type": "stream",
     "text": [
      " 54%|█████▎    | 487/910 [1:15:07<1:12:38, 10.30s/it]"
     ]
    },
    {
     "name": "stdout",
     "output_type": "stream",
     "text": [
      "epoch: 200 loss:0.142754 auc:0.9715\n",
      "Fit finished.\n",
      "epoch:   0 loss:0.584529 auc:0.4167\n",
      "epoch:  20 loss:0.251568 auc:0.9119\n",
      "epoch:  40 loss:0.187225 auc:0.9108\n",
      "epoch:  60 loss:0.173143 auc:0.9221\n",
      "epoch:  80 loss:0.164160 auc:0.9288\n",
      "epoch: 100 loss:0.152735 auc:0.9275\n",
      "epoch: 120 loss:0.147625 auc:0.9193\n",
      "epoch: 140 loss:0.144756 auc:0.9147\n",
      "epoch: 160 loss:0.142756 auc:0.8920\n"
     ]
    },
    {
     "name": "stderr",
     "output_type": "stream",
     "text": [
      " 54%|█████▎    | 488/910 [1:15:14<1:05:33,  9.32s/it]"
     ]
    },
    {
     "name": "stdout",
     "output_type": "stream",
     "text": [
      "epoch: 180 loss:0.140537 auc:0.8365\n",
      "Fit finished.\n",
      "epoch:   0 loss:1.024400 auc:0.4912\n",
      "epoch:  20 loss:0.290241 auc:0.9339\n",
      "epoch:  40 loss:0.231591 auc:0.9349\n",
      "epoch:  60 loss:0.185660 auc:0.9390\n",
      "epoch:  80 loss:0.170893 auc:0.9401\n",
      "epoch: 100 loss:0.160169 auc:0.9411\n",
      "epoch: 120 loss:0.150377 auc:0.9411\n",
      "epoch: 140 loss:0.147310 auc:0.9416\n",
      "epoch: 160 loss:0.145186 auc:0.9432\n",
      "epoch: 180 loss:0.143714 auc:0.9396\n",
      "epoch: 200 loss:0.144079 auc:0.9349\n"
     ]
    },
    {
     "name": "stderr",
     "output_type": "stream",
     "text": [
      " 54%|█████▎    | 489/910 [1:15:22<1:04:07,  9.14s/it]"
     ]
    },
    {
     "name": "stdout",
     "output_type": "stream",
     "text": [
      "epoch: 220 loss:0.141709 auc:0.9168\n",
      "Fit finished.\n",
      "epoch:   0 loss:0.670364 auc:0.3505\n",
      "epoch:  20 loss:0.251744 auc:0.9709\n",
      "epoch:  40 loss:0.187620 auc:0.9715\n",
      "epoch:  60 loss:0.171863 auc:0.9746\n",
      "epoch:  80 loss:0.162243 auc:0.9733\n",
      "epoch: 100 loss:0.151376 auc:0.9767\n",
      "epoch: 120 loss:0.147482 auc:0.9784\n",
      "epoch: 140 loss:0.147331 auc:0.9736\n",
      "epoch: 160 loss:0.142976 auc:0.9650\n"
     ]
    },
    {
     "name": "stderr",
     "output_type": "stream",
     "text": [
      " 54%|█████▍    | 490/910 [1:15:30<1:00:20,  8.62s/it]"
     ]
    },
    {
     "name": "stdout",
     "output_type": "stream",
     "text": [
      "epoch: 180 loss:0.140484 auc:0.9410\n",
      "Fit finished.\n",
      "epoch:   0 loss:0.864896 auc:0.5060\n",
      "epoch:  20 loss:0.261140 auc:0.9696\n",
      "epoch:  40 loss:0.192146 auc:0.9708\n",
      "epoch:  60 loss:0.175757 auc:0.9716\n",
      "epoch:  80 loss:0.165511 auc:0.9740\n",
      "epoch: 100 loss:0.154507 auc:0.9752\n",
      "epoch: 120 loss:0.148510 auc:0.9736\n",
      "epoch: 140 loss:0.145716 auc:0.9744\n",
      "epoch: 160 loss:0.143783 auc:0.9728\n"
     ]
    },
    {
     "name": "stderr",
     "output_type": "stream",
     "text": [
      " 54%|█████▍    | 491/910 [1:15:35<53:58,  7.73s/it]  "
     ]
    },
    {
     "name": "stdout",
     "output_type": "stream",
     "text": [
      "epoch: 180 loss:0.142261 auc:0.9680\n",
      "Fit finished.\n",
      "epoch:   0 loss:0.616991 auc:0.4519\n",
      "epoch:  20 loss:0.223244 auc:0.9813\n",
      "epoch:  40 loss:0.180458 auc:0.9805\n",
      "epoch:  60 loss:0.169784 auc:0.9807\n",
      "epoch:  80 loss:0.159626 auc:0.9800\n",
      "epoch: 100 loss:0.149937 auc:0.9792\n",
      "epoch: 120 loss:0.146625 auc:0.9794\n",
      "epoch: 140 loss:0.148062 auc:0.9750\n",
      "epoch: 160 loss:0.142224 auc:0.9690\n"
     ]
    },
    {
     "name": "stderr",
     "output_type": "stream",
     "text": [
      " 54%|█████▍    | 492/910 [1:15:42<51:24,  7.38s/it]"
     ]
    },
    {
     "name": "stdout",
     "output_type": "stream",
     "text": [
      "epoch: 180 loss:0.139879 auc:0.8757\n",
      "Fit finished.\n",
      "epoch:   0 loss:0.528106 auc:0.4188\n",
      "epoch:  20 loss:0.225249 auc:0.9679\n",
      "epoch:  40 loss:0.178960 auc:0.9631\n",
      "epoch:  60 loss:0.166591 auc:0.9613\n",
      "epoch:  80 loss:0.153945 auc:0.9619\n",
      "epoch: 100 loss:0.147969 auc:0.9607\n",
      "epoch: 120 loss:0.149958 auc:0.9590\n",
      "epoch: 140 loss:0.143670 auc:0.9554\n",
      "epoch: 160 loss:0.143276 auc:0.9459\n"
     ]
    },
    {
     "name": "stderr",
     "output_type": "stream",
     "text": [
      " 54%|█████▍    | 493/910 [1:15:49<50:09,  7.22s/it]"
     ]
    },
    {
     "name": "stdout",
     "output_type": "stream",
     "text": [
      "epoch: 180 loss:0.139424 auc:0.9131\n",
      "Fit finished.\n",
      "epoch:   0 loss:0.862800 auc:0.7205\n",
      "epoch:  20 loss:0.263284 auc:0.9437\n",
      "epoch:  40 loss:0.196369 auc:0.9477\n",
      "epoch:  60 loss:0.179299 auc:0.9467\n",
      "epoch:  80 loss:0.170719 auc:0.9477\n",
      "epoch: 100 loss:0.163207 auc:0.9486\n",
      "epoch: 120 loss:0.153577 auc:0.9486\n",
      "epoch: 140 loss:0.148379 auc:0.9501\n",
      "epoch: 160 loss:0.145990 auc:0.9501\n",
      "epoch: 180 loss:0.144200 auc:0.9491\n"
     ]
    },
    {
     "name": "stderr",
     "output_type": "stream",
     "text": [
      " 54%|█████▍    | 494/910 [1:15:56<51:00,  7.36s/it]"
     ]
    },
    {
     "name": "stdout",
     "output_type": "stream",
     "text": [
      "epoch: 200 loss:0.142909 auc:0.9457\n",
      "Fit finished.\n",
      "epoch:   0 loss:1.146165 auc:0.8528\n",
      "epoch:  20 loss:0.302698 auc:0.9920\n",
      "epoch:  40 loss:0.240754 auc:0.9952\n",
      "epoch:  60 loss:0.188592 auc:0.9952\n",
      "epoch:  80 loss:0.174844 auc:0.9952\n",
      "epoch: 100 loss:0.166963 auc:0.9952\n",
      "epoch: 120 loss:0.158580 auc:0.9952\n",
      "epoch: 140 loss:0.150514 auc:0.9952\n",
      "epoch: 160 loss:0.147581 auc:0.9952\n",
      "epoch: 180 loss:0.145589 auc:0.9952\n",
      "epoch: 200 loss:0.144126 auc:0.9952\n",
      "epoch: 220 loss:0.142846 auc:0.9952\n",
      "epoch: 240 loss:0.142990 auc:0.9968\n",
      "epoch: 260 loss:0.140305 auc:0.9968\n"
     ]
    },
    {
     "name": "stderr",
     "output_type": "stream",
     "text": [
      " 54%|█████▍    | 495/910 [1:16:08<59:41,  8.63s/it]"
     ]
    },
    {
     "name": "stdout",
     "output_type": "stream",
     "text": [
      "epoch: 280 loss:0.138460 auc:0.9920\n",
      "Fit finished.\n",
      "epoch:   0 loss:0.729860 auc:0.2617\n",
      "epoch:  20 loss:0.260628 auc:0.9500\n",
      "epoch:  40 loss:0.190242 auc:0.9487\n",
      "epoch:  60 loss:0.175738 auc:0.9566\n",
      "epoch:  80 loss:0.168069 auc:0.9579\n",
      "epoch: 100 loss:0.159358 auc:0.9566\n",
      "epoch: 120 loss:0.150274 auc:0.9606\n",
      "epoch: 140 loss:0.147030 auc:0.9579\n",
      "epoch: 160 loss:0.144944 auc:0.9513\n"
     ]
    },
    {
     "name": "stderr",
     "output_type": "stream",
     "text": [
      " 55%|█████▍    | 496/910 [1:16:15<55:51,  8.09s/it]"
     ]
    },
    {
     "name": "stdout",
     "output_type": "stream",
     "text": [
      "epoch: 180 loss:0.143348 auc:0.9415\n",
      "Fit finished.\n",
      "epoch:   0 loss:0.849410 auc:0.3350\n",
      "epoch:  20 loss:0.283064 auc:0.9766\n",
      "epoch:  40 loss:0.206059 auc:0.9854\n",
      "epoch:  60 loss:0.180258 auc:0.9883\n",
      "epoch:  80 loss:0.170692 auc:0.9873\n",
      "epoch: 100 loss:0.162545 auc:0.9873\n",
      "epoch: 120 loss:0.152706 auc:0.9873\n",
      "epoch: 140 loss:0.147761 auc:0.9873\n",
      "epoch: 160 loss:0.145464 auc:0.9883\n",
      "epoch: 180 loss:0.143766 auc:0.9883\n",
      "epoch: 200 loss:0.146161 auc:0.9893\n",
      "epoch: 220 loss:0.141840 auc:0.9893\n",
      "epoch: 240 loss:0.139915 auc:0.9883\n"
     ]
    },
    {
     "name": "stderr",
     "output_type": "stream",
     "text": [
      " 55%|█████▍    | 497/910 [1:16:24<58:03,  8.44s/it]"
     ]
    },
    {
     "name": "stdout",
     "output_type": "stream",
     "text": [
      "epoch: 260 loss:0.141660 auc:0.9814\n",
      "Fit finished.\n",
      "epoch:   0 loss:0.659731 auc:0.3667\n",
      "epoch:  20 loss:0.273883 auc:0.9887\n",
      "epoch:  40 loss:0.198113 auc:0.9887\n",
      "epoch:  60 loss:0.177304 auc:0.9887\n",
      "epoch:  80 loss:0.167855 auc:0.9887\n",
      "epoch: 100 loss:0.158855 auc:0.9887\n",
      "epoch: 120 loss:0.149977 auc:0.9887\n",
      "epoch: 140 loss:0.146770 auc:0.9887\n",
      "epoch: 160 loss:0.145993 auc:0.9887\n",
      "epoch: 180 loss:0.142760 auc:0.9887\n"
     ]
    },
    {
     "name": "stderr",
     "output_type": "stream",
     "text": [
      " 55%|█████▍    | 498/910 [1:16:32<57:16,  8.34s/it]"
     ]
    },
    {
     "name": "stdout",
     "output_type": "stream",
     "text": [
      "epoch: 200 loss:0.140674 auc:0.9868\n",
      "Fit finished.\n",
      "epoch:   0 loss:0.747981 auc:0.5315\n",
      "epoch:  20 loss:0.275480 auc:0.9524\n",
      "epoch:  40 loss:0.202719 auc:0.9524\n",
      "epoch:  60 loss:0.179589 auc:0.9512\n",
      "epoch:  80 loss:0.168212 auc:0.9572\n",
      "epoch: 100 loss:0.155409 auc:0.9596\n",
      "epoch: 120 loss:0.148793 auc:0.9584\n",
      "epoch: 140 loss:0.146087 auc:0.9584\n",
      "epoch: 160 loss:0.144754 auc:0.9584\n",
      "epoch: 180 loss:0.142847 auc:0.9584\n",
      "epoch: 200 loss:0.141590 auc:0.9560\n"
     ]
    },
    {
     "name": "stderr",
     "output_type": "stream",
     "text": [
      " 55%|█████▍    | 499/910 [1:16:41<57:44,  8.43s/it]"
     ]
    },
    {
     "name": "stdout",
     "output_type": "stream",
     "text": [
      "epoch: 220 loss:0.140277 auc:0.9441\n",
      "Fit finished.\n",
      "epoch:   0 loss:1.045132 auc:0.2098\n",
      "epoch:  20 loss:0.280943 auc:0.9392\n",
      "epoch:  40 loss:0.211435 auc:0.9372\n",
      "epoch:  60 loss:0.182511 auc:0.9345\n",
      "epoch:  80 loss:0.173113 auc:0.9354\n",
      "epoch: 100 loss:0.167134 auc:0.9383\n",
      "epoch: 120 loss:0.159757 auc:0.9370\n",
      "epoch: 140 loss:0.150431 auc:0.9352\n",
      "epoch: 160 loss:0.146718 auc:0.9296\n"
     ]
    },
    {
     "name": "stderr",
     "output_type": "stream",
     "text": [
      " 55%|█████▍    | 500/910 [1:16:48<54:19,  7.95s/it]"
     ]
    },
    {
     "name": "stdout",
     "output_type": "stream",
     "text": [
      "epoch: 180 loss:0.144662 auc:0.9303\n",
      "Fit finished.\n",
      "epoch:   0 loss:0.598473 auc:0.6800\n",
      "epoch:  20 loss:0.239354 auc:0.9500\n",
      "epoch:  40 loss:0.180864 auc:0.9300\n",
      "epoch:  60 loss:0.167837 auc:0.9500\n",
      "epoch:  80 loss:0.157663 auc:0.9500\n",
      "epoch: 100 loss:0.150139 auc:0.9500\n",
      "epoch: 120 loss:0.147251 auc:0.9500\n",
      "epoch: 140 loss:0.145105 auc:0.9500\n",
      "epoch: 160 loss:0.148843 auc:0.9500\n",
      "epoch: 180 loss:0.141616 auc:0.9500\n",
      "epoch: 200 loss:0.139151 auc:0.9500\n",
      "epoch: 220 loss:0.138694 auc:0.9500\n",
      "epoch: 240 loss:0.135741 auc:0.9500\n",
      "epoch: 260 loss:0.134130 auc:0.9500\n",
      "epoch: 280 loss:0.132606 auc:0.9600\n",
      "epoch: 300 loss:0.135359 auc:0.9600\n",
      "epoch: 320 loss:0.128949 auc:0.9600\n",
      "epoch: 340 loss:0.126754 auc:0.9600\n",
      "epoch: 360 loss:0.124487 auc:0.9600\n",
      "epoch: 380 loss:0.123487 auc:0.9600\n",
      "epoch: 400 loss:0.121222 auc:0.9600\n",
      "epoch: 420 loss:0.119797 auc:0.9600\n",
      "epoch: 440 loss:0.145520 auc:0.9600\n",
      "epoch: 460 loss:0.128135 auc:0.9600\n",
      "epoch: 480 loss:0.120017 auc:0.9600\n",
      "epoch: 500 loss:0.117341 auc:0.9600\n",
      "epoch: 520 loss:0.115877 auc:0.9600\n",
      "epoch: 540 loss:0.114758 auc:0.9600\n",
      "epoch: 560 loss:0.113842 auc:0.9600\n",
      "epoch: 580 loss:0.114601 auc:0.9600\n",
      "epoch: 600 loss:0.112838 auc:0.9600\n",
      "epoch: 620 loss:0.112005 auc:0.9600\n",
      "epoch: 640 loss:0.111413 auc:0.9600\n",
      "epoch: 660 loss:0.110954 auc:0.9600\n",
      "epoch: 680 loss:0.110692 auc:0.9600\n",
      "epoch: 700 loss:0.110223 auc:0.9600\n",
      "epoch: 720 loss:0.111143 auc:0.9600\n",
      "epoch: 740 loss:0.109228 auc:0.9600\n",
      "epoch: 760 loss:0.108957 auc:0.9600\n",
      "epoch: 780 loss:0.108661 auc:0.9600\n",
      "epoch: 800 loss:0.108249 auc:0.9600\n",
      "epoch: 820 loss:0.107740 auc:0.9600\n",
      "epoch: 840 loss:0.107563 auc:0.9600\n",
      "epoch: 860 loss:0.106875 auc:0.9600\n",
      "epoch: 880 loss:0.106659 auc:0.9600\n",
      "epoch: 900 loss:0.106471 auc:0.9600\n",
      "epoch: 920 loss:0.106718 auc:0.9600\n",
      "epoch: 940 loss:0.106019 auc:0.9600\n",
      "epoch: 960 loss:0.105633 auc:0.9600\n",
      "epoch: 980 loss:0.105619 auc:0.9600\n"
     ]
    },
    {
     "name": "stderr",
     "output_type": "stream",
     "text": [
      " 55%|█████▌    | 501/910 [1:17:24<1:52:03, 16.44s/it]"
     ]
    },
    {
     "name": "stdout",
     "output_type": "stream",
     "text": [
      "Fit finished.\n",
      "epoch:   0 loss:1.025103 auc:0.8763\n",
      "epoch:  20 loss:0.273857 auc:0.9847\n",
      "epoch:  40 loss:0.204557 auc:0.9898\n",
      "epoch:  60 loss:0.177381 auc:0.9898\n",
      "epoch:  80 loss:0.164358 auc:0.9898\n",
      "epoch: 100 loss:0.152019 auc:0.9898\n",
      "epoch: 120 loss:0.147847 auc:0.9911\n",
      "epoch: 140 loss:0.145438 auc:0.9885\n",
      "epoch: 160 loss:0.143936 auc:0.9911\n",
      "epoch: 180 loss:0.143715 auc:0.9936\n",
      "epoch: 200 loss:0.140907 auc:0.9949\n",
      "epoch: 220 loss:0.140987 auc:0.9936\n"
     ]
    },
    {
     "name": "stderr",
     "output_type": "stream",
     "text": [
      " 55%|█████▌    | 502/910 [1:17:30<1:30:57, 13.38s/it]"
     ]
    },
    {
     "name": "stdout",
     "output_type": "stream",
     "text": [
      "epoch: 240 loss:0.137603 auc:0.9885\n",
      "Fit finished.\n",
      "epoch:   0 loss:0.720785 auc:0.1403\n",
      "epoch:  20 loss:0.228658 auc:0.9745\n",
      "epoch:  40 loss:0.183650 auc:0.9821\n",
      "epoch:  60 loss:0.174390 auc:0.9770\n",
      "epoch:  80 loss:0.168596 auc:0.9783\n",
      "epoch: 100 loss:0.161284 auc:0.9783\n",
      "epoch: 120 loss:0.151442 auc:0.9796\n",
      "epoch: 140 loss:0.146979 auc:0.9821\n",
      "epoch: 160 loss:0.144511 auc:0.9821\n",
      "epoch: 180 loss:0.144530 auc:0.9860\n"
     ]
    },
    {
     "name": "stderr",
     "output_type": "stream",
     "text": [
      " 55%|█████▌    | 503/910 [1:17:35<1:14:02, 10.92s/it]"
     ]
    },
    {
     "name": "stdout",
     "output_type": "stream",
     "text": [
      "epoch: 200 loss:0.140071 auc:0.9617\n",
      "Fit finished.\n",
      "epoch:   0 loss:0.586868 auc:0.3600\n",
      "epoch:  20 loss:0.229928 auc:0.8933\n",
      "epoch:  40 loss:0.183782 auc:0.9289\n",
      "epoch:  60 loss:0.171505 auc:0.9467\n",
      "epoch:  80 loss:0.161450 auc:0.9511\n",
      "epoch: 100 loss:0.149823 auc:0.9556\n",
      "epoch: 120 loss:0.146131 auc:0.9511\n",
      "epoch: 140 loss:0.148112 auc:0.9600\n",
      "epoch: 160 loss:0.142076 auc:0.9600\n",
      "epoch: 180 loss:0.138776 auc:0.9600\n",
      "epoch: 200 loss:0.137477 auc:0.9644\n",
      "epoch: 220 loss:0.135002 auc:0.9600\n",
      "epoch: 240 loss:0.133880 auc:0.9600\n",
      "epoch: 260 loss:0.131720 auc:0.9600\n",
      "epoch: 280 loss:0.128963 auc:0.9556\n",
      "epoch: 300 loss:0.129089 auc:0.9600\n",
      "epoch: 320 loss:0.125696 auc:0.9600\n",
      "epoch: 340 loss:0.123747 auc:0.9644\n"
     ]
    },
    {
     "name": "stderr",
     "output_type": "stream",
     "text": [
      " 55%|█████▌    | 504/910 [1:17:46<1:13:00, 10.79s/it]"
     ]
    },
    {
     "name": "stdout",
     "output_type": "stream",
     "text": [
      "epoch: 360 loss:0.123132 auc:0.9600\n",
      "Fit finished.\n",
      "epoch:   0 loss:0.724269 auc:0.6824\n",
      "epoch:  20 loss:0.277739 auc:0.9433\n",
      "epoch:  40 loss:0.201605 auc:0.9509\n",
      "epoch:  60 loss:0.179157 auc:0.9565\n",
      "epoch:  80 loss:0.168799 auc:0.9603\n",
      "epoch: 100 loss:0.158753 auc:0.9584\n",
      "epoch: 120 loss:0.150191 auc:0.9584\n",
      "epoch: 140 loss:0.147135 auc:0.9584\n",
      "epoch: 160 loss:0.145035 auc:0.9584\n",
      "epoch: 180 loss:0.144218 auc:0.9584\n",
      "epoch: 200 loss:0.142478 auc:0.9622\n",
      "epoch: 220 loss:0.140102 auc:0.9622\n"
     ]
    },
    {
     "name": "stderr",
     "output_type": "stream",
     "text": [
      " 55%|█████▌    | 505/910 [1:17:53<1:05:36,  9.72s/it]"
     ]
    },
    {
     "name": "stdout",
     "output_type": "stream",
     "text": [
      "epoch: 240 loss:0.139017 auc:0.9584\n",
      "Fit finished.\n",
      "epoch:   0 loss:0.579492 auc:0.5243\n",
      "epoch:  20 loss:0.270298 auc:0.9481\n",
      "epoch:  40 loss:0.193146 auc:0.9485\n",
      "epoch:  60 loss:0.172954 auc:0.9519\n",
      "epoch:  80 loss:0.161113 auc:0.9544\n",
      "epoch: 100 loss:0.150888 auc:0.9548\n",
      "epoch: 120 loss:0.147523 auc:0.9555\n",
      "epoch: 140 loss:0.145307 auc:0.9563\n",
      "epoch: 160 loss:0.143507 auc:0.9530\n"
     ]
    },
    {
     "name": "stderr",
     "output_type": "stream",
     "text": [
      " 56%|█████▌    | 506/910 [1:17:59<57:30,  8.54s/it]  "
     ]
    },
    {
     "name": "stdout",
     "output_type": "stream",
     "text": [
      "epoch: 180 loss:0.143130 auc:0.9466\n",
      "Fit finished.\n",
      "epoch:   0 loss:0.939275 auc:0.2687\n",
      "epoch:  20 loss:0.266903 auc:0.9600\n",
      "epoch:  40 loss:0.190798 auc:0.9612\n",
      "epoch:  60 loss:0.175483 auc:0.9639\n",
      "epoch:  80 loss:0.166886 auc:0.9650\n",
      "epoch: 100 loss:0.158080 auc:0.9639\n",
      "epoch: 120 loss:0.149579 auc:0.9631\n",
      "epoch: 140 loss:0.146692 auc:0.9631\n",
      "epoch: 160 loss:0.144850 auc:0.9627\n",
      "epoch: 180 loss:0.143310 auc:0.9616\n"
     ]
    },
    {
     "name": "stderr",
     "output_type": "stream",
     "text": [
      " 56%|█████▌    | 507/910 [1:18:05<52:35,  7.83s/it]"
     ]
    },
    {
     "name": "stdout",
     "output_type": "stream",
     "text": [
      "epoch: 200 loss:0.142111 auc:0.9416\n",
      "Fit finished.\n",
      "epoch:   0 loss:0.636581 auc:0.7138\n",
      "epoch:  20 loss:0.267300 auc:0.9353\n",
      "epoch:  40 loss:0.190270 auc:0.9386\n",
      "epoch:  60 loss:0.175058 auc:0.9379\n",
      "epoch:  80 loss:0.165560 auc:0.9382\n",
      "epoch: 100 loss:0.153987 auc:0.9382\n",
      "epoch: 120 loss:0.148383 auc:0.9364\n",
      "epoch: 140 loss:0.145739 auc:0.9371\n",
      "epoch: 160 loss:0.144169 auc:0.9390\n",
      "epoch: 180 loss:0.142680 auc:0.9386\n"
     ]
    },
    {
     "name": "stderr",
     "output_type": "stream",
     "text": [
      " 56%|█████▌    | 508/910 [1:18:11<49:20,  7.36s/it]"
     ]
    },
    {
     "name": "stdout",
     "output_type": "stream",
     "text": [
      "epoch: 200 loss:0.140524 auc:0.9238\n",
      "Fit finished.\n",
      "epoch:   0 loss:0.927051 auc:0.5034\n",
      "epoch:  20 loss:0.297160 auc:0.9864\n",
      "epoch:  40 loss:0.232620 auc:0.9864\n",
      "epoch:  60 loss:0.185824 auc:0.9841\n",
      "epoch:  80 loss:0.171470 auc:0.9864\n",
      "epoch: 100 loss:0.160528 auc:0.9864\n",
      "epoch: 120 loss:0.150288 auc:0.9841\n",
      "epoch: 140 loss:0.147797 auc:0.9841\n",
      "epoch: 160 loss:0.144985 auc:0.9841\n"
     ]
    },
    {
     "name": "stderr",
     "output_type": "stream",
     "text": [
      " 56%|█████▌    | 509/910 [1:18:17<45:33,  6.82s/it]"
     ]
    },
    {
     "name": "stdout",
     "output_type": "stream",
     "text": [
      "epoch: 180 loss:0.143360 auc:0.9819\n",
      "Fit finished.\n",
      "epoch:   0 loss:0.933119 auc:0.2878\n",
      "epoch:  20 loss:0.283881 auc:0.9792\n",
      "epoch:  40 loss:0.205197 auc:0.9830\n",
      "epoch:  60 loss:0.178878 auc:0.9863\n",
      "epoch:  80 loss:0.168594 auc:0.9882\n",
      "epoch: 100 loss:0.159654 auc:0.9882\n",
      "epoch: 120 loss:0.150341 auc:0.9891\n",
      "epoch: 140 loss:0.147267 auc:0.9882\n",
      "epoch: 160 loss:0.145073 auc:0.9877\n",
      "epoch: 180 loss:0.144441 auc:0.9872\n",
      "epoch: 200 loss:0.141750 auc:0.9877\n"
     ]
    },
    {
     "name": "stderr",
     "output_type": "stream",
     "text": [
      " 56%|█████▌    | 510/910 [1:18:25<47:21,  7.10s/it]"
     ]
    },
    {
     "name": "stdout",
     "output_type": "stream",
     "text": [
      "epoch: 220 loss:0.141046 auc:0.9816\n",
      "Fit finished.\n",
      "epoch:   0 loss:0.574515 auc:0.6436\n",
      "epoch:  20 loss:0.257841 auc:0.8916\n",
      "epoch:  40 loss:0.189907 auc:0.8975\n",
      "epoch:  60 loss:0.173916 auc:0.8955\n",
      "epoch:  80 loss:0.163292 auc:0.8965\n",
      "epoch: 100 loss:0.151443 auc:0.8955\n",
      "epoch: 120 loss:0.147501 auc:0.8926\n",
      "epoch: 140 loss:0.145089 auc:0.8926\n",
      "epoch: 160 loss:0.143133 auc:0.8916\n"
     ]
    },
    {
     "name": "stderr",
     "output_type": "stream",
     "text": [
      " 56%|█████▌    | 511/910 [1:18:30<44:05,  6.63s/it]"
     ]
    },
    {
     "name": "stdout",
     "output_type": "stream",
     "text": [
      "epoch: 180 loss:0.141030 auc:0.8799\n",
      "Fit finished.\n",
      "epoch:   0 loss:0.856613 auc:0.5812\n",
      "epoch:  20 loss:0.279929 auc:0.9540\n",
      "epoch:  40 loss:0.202750 auc:0.9579\n",
      "epoch:  60 loss:0.180550 auc:0.9632\n",
      "epoch:  80 loss:0.171876 auc:0.9625\n",
      "epoch: 100 loss:0.165224 auc:0.9612\n",
      "epoch: 120 loss:0.156289 auc:0.9606\n",
      "epoch: 140 loss:0.148954 auc:0.9612\n",
      "epoch: 160 loss:0.146413 auc:0.9619\n",
      "epoch: 180 loss:0.144551 auc:0.9619\n",
      "epoch: 200 loss:0.143095 auc:0.9592\n"
     ]
    },
    {
     "name": "stderr",
     "output_type": "stream",
     "text": [
      " 56%|█████▋    | 512/910 [1:18:37<43:36,  6.57s/it]"
     ]
    },
    {
     "name": "stdout",
     "output_type": "stream",
     "text": [
      "epoch: 220 loss:0.141500 auc:0.9533\n",
      "Fit finished.\n",
      "epoch:   0 loss:0.718966 auc:0.5468\n",
      "epoch:  20 loss:0.280591 auc:0.9448\n",
      "epoch:  40 loss:0.196183 auc:0.9456\n",
      "epoch:  60 loss:0.176801 auc:0.9464\n",
      "epoch:  80 loss:0.166517 auc:0.9484\n",
      "epoch: 100 loss:0.154606 auc:0.9476\n",
      "epoch: 120 loss:0.147896 auc:0.9472\n",
      "epoch: 140 loss:0.146420 auc:0.9448\n",
      "epoch: 160 loss:0.144112 auc:0.9432\n"
     ]
    },
    {
     "name": "stderr",
     "output_type": "stream",
     "text": [
      " 56%|█████▋    | 513/910 [1:18:41<40:05,  6.06s/it]"
     ]
    },
    {
     "name": "stdout",
     "output_type": "stream",
     "text": [
      "epoch: 180 loss:0.141543 auc:0.9344\n",
      "Fit finished.\n",
      "epoch:   0 loss:0.786901 auc:0.3787\n",
      "epoch:  20 loss:0.273942 auc:0.9257\n",
      "epoch:  40 loss:0.199124 auc:0.9250\n",
      "epoch:  60 loss:0.180082 auc:0.9290\n",
      "epoch:  80 loss:0.171917 auc:0.9336\n",
      "epoch: 100 loss:0.165340 auc:0.9356\n",
      "epoch: 120 loss:0.157276 auc:0.9369\n",
      "epoch: 140 loss:0.149289 auc:0.9369\n",
      "epoch: 160 loss:0.146596 auc:0.9362\n",
      "epoch: 180 loss:0.144840 auc:0.9349\n",
      "epoch: 200 loss:0.143278 auc:0.9329\n"
     ]
    },
    {
     "name": "stderr",
     "output_type": "stream",
     "text": [
      " 56%|█████▋    | 514/910 [1:18:49<43:05,  6.53s/it]"
     ]
    },
    {
     "name": "stdout",
     "output_type": "stream",
     "text": [
      "epoch: 220 loss:0.142135 auc:0.9237\n",
      "Fit finished.\n",
      "epoch:   0 loss:0.909781 auc:0.2945\n",
      "epoch:  20 loss:0.274286 auc:0.9282\n",
      "epoch:  40 loss:0.203751 auc:0.9289\n",
      "epoch:  60 loss:0.180349 auc:0.9305\n",
      "epoch:  80 loss:0.170990 auc:0.9297\n",
      "epoch: 100 loss:0.163749 auc:0.9297\n",
      "epoch: 120 loss:0.154850 auc:0.9317\n",
      "epoch: 140 loss:0.148618 auc:0.9297\n",
      "epoch: 160 loss:0.146260 auc:0.9206\n"
     ]
    },
    {
     "name": "stderr",
     "output_type": "stream",
     "text": [
      " 57%|█████▋    | 515/910 [1:18:54<40:41,  6.18s/it]"
     ]
    },
    {
     "name": "stdout",
     "output_type": "stream",
     "text": [
      "epoch: 180 loss:0.144563 auc:0.9174\n",
      "Fit finished.\n",
      "epoch:   0 loss:1.062442 auc:0.5677\n",
      "epoch:  20 loss:0.280152 auc:0.9740\n",
      "epoch:  40 loss:0.211216 auc:0.9844\n",
      "epoch:  60 loss:0.180206 auc:0.9913\n",
      "epoch:  80 loss:0.168747 auc:0.9913\n",
      "epoch: 100 loss:0.158458 auc:0.9931\n",
      "epoch: 120 loss:0.150307 auc:0.9931\n",
      "epoch: 140 loss:0.147424 auc:0.9931\n",
      "epoch: 160 loss:0.145481 auc:0.9931\n",
      "epoch: 180 loss:0.143915 auc:0.9931\n",
      "epoch: 200 loss:0.143000 auc:0.9931\n",
      "epoch: 220 loss:0.141372 auc:0.9913\n",
      "epoch: 240 loss:0.141257 auc:0.9931\n",
      "epoch: 260 loss:0.137862 auc:0.9931\n"
     ]
    },
    {
     "name": "stderr",
     "output_type": "stream",
     "text": [
      " 57%|█████▋    | 516/910 [1:19:02<44:13,  6.74s/it]"
     ]
    },
    {
     "name": "stdout",
     "output_type": "stream",
     "text": [
      "epoch: 280 loss:0.136034 auc:0.9913\n",
      "Fit finished.\n",
      "epoch:   0 loss:0.941626 auc:0.5130\n",
      "epoch:  20 loss:0.288317 auc:0.8845\n",
      "epoch:  40 loss:0.221590 auc:0.8928\n",
      "epoch:  60 loss:0.181219 auc:0.9084\n",
      "epoch:  80 loss:0.168055 auc:0.9116\n",
      "epoch: 100 loss:0.156409 auc:0.9084\n",
      "epoch: 120 loss:0.149047 auc:0.9063\n",
      "epoch: 140 loss:0.146457 auc:0.9188\n",
      "epoch: 160 loss:0.144731 auc:0.9199\n",
      "epoch: 180 loss:0.143564 auc:0.9220\n",
      "epoch: 200 loss:0.142522 auc:0.9209\n",
      "epoch: 220 loss:0.141468 auc:0.9116\n"
     ]
    },
    {
     "name": "stderr",
     "output_type": "stream",
     "text": [
      " 57%|█████▋    | 517/910 [1:19:09<44:19,  6.77s/it]"
     ]
    },
    {
     "name": "stdout",
     "output_type": "stream",
     "text": [
      "epoch: 240 loss:0.140573 auc:0.9063\n",
      "Fit finished.\n",
      "epoch:   0 loss:0.576040 auc:0.1945\n",
      "epoch:  20 loss:0.232099 auc:0.9672\n",
      "epoch:  40 loss:0.180272 auc:0.9666\n",
      "epoch:  60 loss:0.168243 auc:0.9674\n",
      "epoch:  80 loss:0.158317 auc:0.9672\n",
      "epoch: 100 loss:0.149553 auc:0.9672\n",
      "epoch: 120 loss:0.146315 auc:0.9651\n",
      "epoch: 140 loss:0.143850 auc:0.9616\n",
      "epoch: 160 loss:0.142126 auc:0.9445\n"
     ]
    },
    {
     "name": "stderr",
     "output_type": "stream",
     "text": [
      " 57%|█████▋    | 518/910 [1:19:15<42:03,  6.44s/it]"
     ]
    },
    {
     "name": "stdout",
     "output_type": "stream",
     "text": [
      "epoch: 180 loss:0.139680 auc:0.8217\n",
      "Fit finished.\n",
      "epoch:   0 loss:1.070340 auc:0.6352\n",
      "epoch:  20 loss:0.252344 auc:0.9776\n",
      "epoch:  40 loss:0.191048 auc:0.9888\n",
      "epoch:  60 loss:0.175390 auc:0.9888\n",
      "epoch:  80 loss:0.165964 auc:0.9904\n",
      "epoch: 100 loss:0.156171 auc:0.9904\n",
      "epoch: 120 loss:0.149752 auc:0.9904\n",
      "epoch: 140 loss:0.147137 auc:0.9904\n",
      "epoch: 160 loss:0.145239 auc:0.9904\n",
      "epoch: 180 loss:0.143733 auc:0.9904\n",
      "epoch: 200 loss:0.142278 auc:0.9920\n",
      "epoch: 220 loss:0.141265 auc:0.9920\n",
      "epoch: 240 loss:0.139307 auc:0.9920\n",
      "epoch: 260 loss:0.138694 auc:0.9968\n",
      "epoch: 280 loss:0.135137 auc:0.9968\n",
      "epoch: 300 loss:0.135600 auc:0.9968\n",
      "epoch: 320 loss:0.132555 auc:0.9936\n",
      "epoch: 340 loss:0.130620 auc:0.9936\n",
      "epoch: 360 loss:0.128992 auc:0.9936\n",
      "epoch: 380 loss:0.127892 auc:0.9968\n",
      "epoch: 400 loss:0.126282 auc:0.9936\n"
     ]
    },
    {
     "name": "stderr",
     "output_type": "stream",
     "text": [
      " 57%|█████▋    | 519/910 [1:19:28<55:19,  8.49s/it]"
     ]
    },
    {
     "name": "stdout",
     "output_type": "stream",
     "text": [
      "epoch: 420 loss:0.125607 auc:0.9920\n",
      "Fit finished.\n",
      "epoch:   0 loss:0.798020 auc:0.5226\n",
      "epoch:  20 loss:0.299822 auc:0.9531\n",
      "epoch:  40 loss:0.229862 auc:0.9392\n",
      "epoch:  60 loss:0.185398 auc:0.9635\n",
      "epoch:  80 loss:0.173538 auc:0.9670\n",
      "epoch: 100 loss:0.165027 auc:0.9670\n",
      "epoch: 120 loss:0.153030 auc:0.9688\n",
      "epoch: 140 loss:0.147780 auc:0.9670\n",
      "epoch: 160 loss:0.145232 auc:0.9670\n",
      "epoch: 180 loss:0.143351 auc:0.9670\n",
      "epoch: 200 loss:0.141376 auc:0.9705\n",
      "epoch: 220 loss:0.142336 auc:0.9705\n",
      "epoch: 240 loss:0.138253 auc:0.9774\n",
      "epoch: 260 loss:0.136242 auc:0.9809\n",
      "epoch: 280 loss:0.138628 auc:0.9774\n",
      "epoch: 300 loss:0.133742 auc:0.9809\n",
      "epoch: 320 loss:0.131288 auc:0.9792\n",
      "epoch: 340 loss:0.132942 auc:0.9740\n",
      "epoch: 360 loss:0.129507 auc:0.9792\n",
      "epoch: 380 loss:0.129388 auc:0.9757\n",
      "epoch: 400 loss:0.126767 auc:0.9792\n"
     ]
    },
    {
     "name": "stderr",
     "output_type": "stream",
     "text": [
      " 57%|█████▋    | 520/910 [1:19:41<1:04:10,  9.87s/it]"
     ]
    },
    {
     "name": "stdout",
     "output_type": "stream",
     "text": [
      "epoch: 420 loss:0.125721 auc:0.9774\n",
      "Fit finished.\n",
      "epoch:   0 loss:0.955984 auc:0.5042\n",
      "epoch:  20 loss:0.291892 auc:0.9501\n",
      "epoch:  40 loss:0.224056 auc:0.9557\n",
      "epoch:  60 loss:0.186751 auc:0.9723\n",
      "epoch:  80 loss:0.174326 auc:0.9723\n",
      "epoch: 100 loss:0.167522 auc:0.9751\n",
      "epoch: 120 loss:0.160332 auc:0.9751\n",
      "epoch: 140 loss:0.151935 auc:0.9751\n",
      "epoch: 160 loss:0.148020 auc:0.9751\n",
      "epoch: 180 loss:0.146155 auc:0.9751\n",
      "epoch: 200 loss:0.144569 auc:0.9751\n",
      "epoch: 220 loss:0.143203 auc:0.9751\n",
      "epoch: 240 loss:0.141459 auc:0.9778\n",
      "epoch: 260 loss:0.141154 auc:0.9806\n",
      "epoch: 280 loss:0.138634 auc:0.9806\n",
      "epoch: 300 loss:0.137115 auc:0.9751\n",
      "epoch: 320 loss:0.136594 auc:0.9751\n",
      "epoch: 340 loss:0.134711 auc:0.9751\n",
      "epoch: 360 loss:0.133378 auc:0.9778\n",
      "epoch: 380 loss:0.132116 auc:0.9751\n"
     ]
    },
    {
     "name": "stderr",
     "output_type": "stream",
     "text": [
      " 57%|█████▋    | 521/910 [1:19:54<1:09:52, 10.78s/it]"
     ]
    },
    {
     "name": "stdout",
     "output_type": "stream",
     "text": [
      "epoch: 400 loss:0.131294 auc:0.9723\n",
      "Fit finished.\n",
      "epoch:   0 loss:0.646231 auc:0.2438\n",
      "epoch:  20 loss:0.216003 auc:0.9752\n",
      "epoch:  40 loss:0.180231 auc:0.9773\n",
      "epoch:  60 loss:0.168776 auc:0.9752\n",
      "epoch:  80 loss:0.155383 auc:0.9752\n",
      "epoch: 100 loss:0.148642 auc:0.9793\n",
      "epoch: 120 loss:0.147673 auc:0.9773\n",
      "epoch: 140 loss:0.143265 auc:0.9773\n",
      "epoch: 160 loss:0.141070 auc:0.9731\n"
     ]
    },
    {
     "name": "stderr",
     "output_type": "stream",
     "text": [
      " 57%|█████▋    | 522/910 [1:19:59<58:50,  9.10s/it]  "
     ]
    },
    {
     "name": "stdout",
     "output_type": "stream",
     "text": [
      "epoch: 180 loss:0.139589 auc:0.9690\n",
      "Fit finished.\n",
      "epoch:   0 loss:0.847270 auc:0.6565\n",
      "epoch:  20 loss:0.278421 auc:0.9848\n",
      "epoch:  40 loss:0.206615 auc:0.9841\n",
      "epoch:  60 loss:0.179053 auc:0.9868\n",
      "epoch:  80 loss:0.167696 auc:0.9868\n",
      "epoch: 100 loss:0.157582 auc:0.9868\n",
      "epoch: 120 loss:0.149933 auc:0.9875\n",
      "epoch: 140 loss:0.147150 auc:0.9875\n",
      "epoch: 160 loss:0.145243 auc:0.9875\n",
      "epoch: 180 loss:0.143610 auc:0.9861\n",
      "epoch: 200 loss:0.145850 auc:0.9861\n"
     ]
    },
    {
     "name": "stderr",
     "output_type": "stream",
     "text": [
      " 57%|█████▋    | 523/910 [1:20:06<54:08,  8.39s/it]"
     ]
    },
    {
     "name": "stdout",
     "output_type": "stream",
     "text": [
      "epoch: 220 loss:0.140745 auc:0.9806\n",
      "Fit finished.\n",
      "epoch:   0 loss:0.773071 auc:0.5488\n",
      "epoch:  20 loss:0.296279 auc:0.9615\n",
      "epoch:  40 loss:0.238593 auc:0.9683\n",
      "epoch:  60 loss:0.187451 auc:0.9705\n",
      "epoch:  80 loss:0.170814 auc:0.9683\n",
      "epoch: 100 loss:0.158954 auc:0.9683\n",
      "epoch: 120 loss:0.150028 auc:0.9683\n",
      "epoch: 140 loss:0.147143 auc:0.9683\n",
      "epoch: 160 loss:0.145183 auc:0.9683\n",
      "epoch: 180 loss:0.143756 auc:0.9683\n",
      "epoch: 200 loss:0.142530 auc:0.9683\n"
     ]
    },
    {
     "name": "stderr",
     "output_type": "stream",
     "text": [
      " 58%|█████▊    | 524/910 [1:20:13<50:59,  7.93s/it]"
     ]
    },
    {
     "name": "stdout",
     "output_type": "stream",
     "text": [
      "epoch: 220 loss:0.142228 auc:0.9683\n",
      "Fit finished.\n",
      "epoch:   0 loss:0.531950 auc:0.2336\n",
      "epoch:  20 loss:0.272711 auc:0.9632\n",
      "epoch:  40 loss:0.207688 auc:0.9664\n",
      "epoch:  60 loss:0.180423 auc:0.9680\n",
      "epoch:  80 loss:0.169224 auc:0.9712\n",
      "epoch: 100 loss:0.159161 auc:0.9696\n",
      "epoch: 120 loss:0.150793 auc:0.9680\n",
      "epoch: 140 loss:0.147618 auc:0.9664\n",
      "epoch: 160 loss:0.145452 auc:0.9648\n",
      "epoch: 180 loss:0.143595 auc:0.9632\n"
     ]
    },
    {
     "name": "stderr",
     "output_type": "stream",
     "text": [
      " 58%|█████▊    | 525/910 [1:20:19<46:51,  7.30s/it]"
     ]
    },
    {
     "name": "stdout",
     "output_type": "stream",
     "text": [
      "epoch: 200 loss:0.142099 auc:0.9616\n",
      "Fit finished.\n",
      "epoch:   0 loss:0.520206 auc:0.3894\n",
      "epoch:  20 loss:0.242273 auc:0.9688\n",
      "epoch:  40 loss:0.184141 auc:0.9719\n",
      "epoch:  60 loss:0.168631 auc:0.9706\n",
      "epoch:  80 loss:0.157555 auc:0.9712\n",
      "epoch: 100 loss:0.149823 auc:0.9725\n",
      "epoch: 120 loss:0.146526 auc:0.9725\n",
      "epoch: 140 loss:0.143807 auc:0.9700\n",
      "epoch: 160 loss:0.144288 auc:0.9613\n"
     ]
    },
    {
     "name": "stderr",
     "output_type": "stream",
     "text": [
      " 58%|█████▊    | 526/910 [1:20:24<43:29,  6.80s/it]"
     ]
    },
    {
     "name": "stdout",
     "output_type": "stream",
     "text": [
      "epoch: 180 loss:0.140038 auc:0.9375\n",
      "Fit finished.\n",
      "epoch:   0 loss:0.639460 auc:0.4745\n",
      "epoch:  20 loss:0.256945 auc:0.9844\n",
      "epoch:  40 loss:0.191349 auc:0.9917\n",
      "epoch:  60 loss:0.174344 auc:0.9896\n",
      "epoch:  80 loss:0.165540 auc:0.9896\n",
      "epoch: 100 loss:0.156051 auc:0.9896\n",
      "epoch: 120 loss:0.149351 auc:0.9886\n",
      "epoch: 140 loss:0.146463 auc:0.9886\n",
      "epoch: 160 loss:0.145526 auc:0.9875\n",
      "epoch: 180 loss:0.142847 auc:0.9886\n"
     ]
    },
    {
     "name": "stderr",
     "output_type": "stream",
     "text": [
      " 58%|█████▊    | 527/910 [1:20:31<43:06,  6.75s/it]"
     ]
    },
    {
     "name": "stdout",
     "output_type": "stream",
     "text": [
      "epoch: 200 loss:0.141314 auc:0.9865\n",
      "Fit finished.\n",
      "epoch:   0 loss:1.062920 auc:0.3166\n",
      "epoch:  20 loss:0.272748 auc:0.9660\n",
      "epoch:  40 loss:0.196448 auc:0.9719\n",
      "epoch:  60 loss:0.176944 auc:0.9778\n",
      "epoch:  80 loss:0.168405 auc:0.9793\n",
      "epoch: 100 loss:0.160101 auc:0.9778\n",
      "epoch: 120 loss:0.151470 auc:0.9778\n",
      "epoch: 140 loss:0.148220 auc:0.9793\n",
      "epoch: 160 loss:0.146100 auc:0.9793\n",
      "epoch: 180 loss:0.144364 auc:0.9778\n",
      "epoch: 200 loss:0.143564 auc:0.9763\n"
     ]
    },
    {
     "name": "stderr",
     "output_type": "stream",
     "text": [
      " 58%|█████▊    | 528/910 [1:20:38<42:43,  6.71s/it]"
     ]
    },
    {
     "name": "stdout",
     "output_type": "stream",
     "text": [
      "epoch: 220 loss:0.142042 auc:0.9749\n",
      "Fit finished.\n",
      "epoch:   0 loss:0.897306 auc:0.3810\n",
      "epoch:  20 loss:0.261665 auc:0.9955\n",
      "epoch:  40 loss:0.192067 auc:0.9955\n",
      "epoch:  60 loss:0.177940 auc:0.9955\n",
      "epoch:  80 loss:0.170993 auc:0.9955\n",
      "epoch: 100 loss:0.164593 auc:0.9955\n",
      "epoch: 120 loss:0.155905 auc:0.9955\n",
      "epoch: 140 loss:0.148847 auc:0.9955\n",
      "epoch: 160 loss:0.146441 auc:0.9955\n",
      "epoch: 180 loss:0.144665 auc:0.9955\n",
      "epoch: 200 loss:0.142999 auc:0.9955\n"
     ]
    },
    {
     "name": "stderr",
     "output_type": "stream",
     "text": [
      " 58%|█████▊    | 529/910 [1:20:45<42:47,  6.74s/it]"
     ]
    },
    {
     "name": "stdout",
     "output_type": "stream",
     "text": [
      "epoch: 220 loss:0.141609 auc:0.9932\n",
      "Fit finished.\n",
      "epoch:   0 loss:1.084567 auc:0.0710\n",
      "epoch:  20 loss:0.266469 auc:0.9941\n",
      "epoch:  40 loss:0.192437 auc:0.9941\n",
      "epoch:  60 loss:0.175793 auc:0.9882\n",
      "epoch:  80 loss:0.166115 auc:0.9882\n",
      "epoch: 100 loss:0.157012 auc:0.9882\n",
      "epoch: 120 loss:0.149766 auc:0.9882\n",
      "epoch: 140 loss:0.147133 auc:0.9882\n",
      "epoch: 160 loss:0.145173 auc:0.9882\n",
      "epoch: 180 loss:0.143319 auc:0.9941\n",
      "epoch: 200 loss:0.142729 auc:0.9941\n"
     ]
    },
    {
     "name": "stderr",
     "output_type": "stream",
     "text": [
      " 58%|█████▊    | 530/910 [1:20:51<42:04,  6.64s/it]"
     ]
    },
    {
     "name": "stdout",
     "output_type": "stream",
     "text": [
      "epoch: 220 loss:0.140180 auc:0.9586\n",
      "Fit finished.\n",
      "epoch:   0 loss:0.920036 auc:0.8322\n",
      "epoch:  20 loss:0.278646 auc:0.9410\n",
      "epoch:  40 loss:0.211795 auc:0.9320\n",
      "epoch:  60 loss:0.183951 auc:0.9320\n",
      "epoch:  80 loss:0.172006 auc:0.9365\n",
      "epoch: 100 loss:0.164127 auc:0.9410\n",
      "epoch: 120 loss:0.155452 auc:0.9410\n",
      "epoch: 140 loss:0.149382 auc:0.9433\n",
      "epoch: 160 loss:0.146874 auc:0.9410\n",
      "epoch: 180 loss:0.145072 auc:0.9410\n",
      "epoch: 200 loss:0.143837 auc:0.9388\n",
      "epoch: 220 loss:0.142485 auc:0.9365\n",
      "epoch: 240 loss:0.141068 auc:0.9365\n"
     ]
    },
    {
     "name": "stderr",
     "output_type": "stream",
     "text": [
      " 58%|█████▊    | 531/910 [1:20:59<44:23,  7.03s/it]"
     ]
    },
    {
     "name": "stdout",
     "output_type": "stream",
     "text": [
      "epoch: 260 loss:0.141220 auc:0.9252\n",
      "Fit finished.\n",
      "epoch:   0 loss:0.942447 auc:0.2346\n",
      "epoch:  20 loss:0.231765 auc:0.9232\n",
      "epoch:  40 loss:0.181684 auc:0.9287\n",
      "epoch:  60 loss:0.168962 auc:0.9328\n",
      "epoch:  80 loss:0.157194 auc:0.9342\n",
      "epoch: 100 loss:0.149663 auc:0.9342\n",
      "epoch: 120 loss:0.146372 auc:0.9328\n",
      "epoch: 140 loss:0.144052 auc:0.9342\n",
      "epoch: 160 loss:0.141610 auc:0.9232\n"
     ]
    },
    {
     "name": "stderr",
     "output_type": "stream",
     "text": [
      " 58%|█████▊    | 532/910 [1:21:04<41:09,  6.53s/it]"
     ]
    },
    {
     "name": "stdout",
     "output_type": "stream",
     "text": [
      "epoch: 180 loss:0.139505 auc:0.8820\n",
      "Fit finished.\n",
      "epoch:   0 loss:1.311290 auc:0.8945\n",
      "epoch:  20 loss:0.269560 auc:0.9648\n",
      "epoch:  40 loss:0.199441 auc:0.9805\n",
      "epoch:  60 loss:0.180497 auc:0.9844\n",
      "epoch:  80 loss:0.172192 auc:0.9844\n",
      "epoch: 100 loss:0.166091 auc:0.9844\n",
      "epoch: 120 loss:0.159034 auc:0.9844\n",
      "epoch: 140 loss:0.151358 auc:0.9844\n",
      "epoch: 160 loss:0.148089 auc:0.9844\n",
      "epoch: 180 loss:0.146200 auc:0.9844\n",
      "epoch: 200 loss:0.144598 auc:0.9844\n",
      "epoch: 220 loss:0.142981 auc:0.9844\n"
     ]
    },
    {
     "name": "stderr",
     "output_type": "stream",
     "text": [
      " 59%|█████▊    | 533/910 [1:21:11<41:43,  6.64s/it]"
     ]
    },
    {
     "name": "stdout",
     "output_type": "stream",
     "text": [
      "epoch: 240 loss:0.141170 auc:0.9805\n",
      "Fit finished.\n",
      "epoch:   0 loss:0.778154 auc:0.3112\n",
      "epoch:  20 loss:0.281850 auc:0.8929\n",
      "epoch:  40 loss:0.206761 auc:0.9082\n",
      "epoch:  60 loss:0.180155 auc:0.9184\n",
      "epoch:  80 loss:0.170228 auc:0.9337\n",
      "epoch: 100 loss:0.162253 auc:0.9337\n",
      "epoch: 120 loss:0.152289 auc:0.9337\n",
      "epoch: 140 loss:0.148408 auc:0.9337\n",
      "epoch: 160 loss:0.146160 auc:0.9337\n",
      "epoch: 180 loss:0.144042 auc:0.9337\n",
      "epoch: 200 loss:0.143087 auc:0.9388\n",
      "epoch: 220 loss:0.140374 auc:0.9286\n",
      "epoch: 240 loss:0.138587 auc:0.9388\n",
      "epoch: 260 loss:0.136954 auc:0.9388\n",
      "epoch: 280 loss:0.136529 auc:0.9439\n",
      "epoch: 300 loss:0.135535 auc:0.9439\n",
      "epoch: 320 loss:0.132237 auc:0.9490\n",
      "epoch: 340 loss:0.131972 auc:0.9388\n",
      "epoch: 360 loss:0.130001 auc:0.9439\n",
      "epoch: 380 loss:0.127821 auc:0.9439\n",
      "epoch: 400 loss:0.127033 auc:0.9490\n",
      "epoch: 420 loss:0.124764 auc:0.9439\n",
      "epoch: 440 loss:0.123975 auc:0.9490\n",
      "epoch: 460 loss:0.132442 auc:0.9490\n"
     ]
    },
    {
     "name": "stderr",
     "output_type": "stream",
     "text": [
      " 59%|█████▊    | 534/910 [1:21:24<54:11,  8.65s/it]"
     ]
    },
    {
     "name": "stdout",
     "output_type": "stream",
     "text": [
      "epoch: 480 loss:0.125350 auc:0.9337\n",
      "Fit finished.\n",
      "epoch:   0 loss:1.323751 auc:0.6681\n",
      "epoch:  20 loss:0.267502 auc:0.9501\n",
      "epoch:  40 loss:0.191820 auc:0.9584\n",
      "epoch:  60 loss:0.179109 auc:0.9625\n",
      "epoch:  80 loss:0.171959 auc:0.9594\n",
      "epoch: 100 loss:0.165706 auc:0.9615\n",
      "epoch: 120 loss:0.156158 auc:0.9615\n",
      "epoch: 140 loss:0.148745 auc:0.9594\n",
      "epoch: 160 loss:0.146337 auc:0.9605\n",
      "epoch: 180 loss:0.143991 auc:0.9594\n"
     ]
    },
    {
     "name": "stderr",
     "output_type": "stream",
     "text": [
      " 59%|█████▉    | 536/910 [1:21:31<38:10,  6.12s/it]"
     ]
    },
    {
     "name": "stdout",
     "output_type": "stream",
     "text": [
      "epoch: 200 loss:0.142107 auc:0.9553\n",
      "Fit finished.\n",
      "epoch:   0 loss:0.670903 auc:0.3264\n",
      "epoch:  20 loss:0.243858 auc:0.9599\n",
      "epoch:  40 loss:0.186755 auc:0.9645\n",
      "epoch:  60 loss:0.176025 auc:0.9630\n",
      "epoch:  80 loss:0.170350 auc:0.9614\n",
      "epoch: 100 loss:0.163053 auc:0.9622\n",
      "epoch: 120 loss:0.152794 auc:0.9630\n",
      "epoch: 140 loss:0.147981 auc:0.9645\n",
      "epoch: 160 loss:0.145305 auc:0.9676\n",
      "epoch: 180 loss:0.143676 auc:0.9745\n",
      "epoch: 200 loss:0.142830 auc:0.9645\n"
     ]
    },
    {
     "name": "stderr",
     "output_type": "stream",
     "text": [
      " 59%|█████▉    | 537/910 [1:21:37<38:40,  6.22s/it]"
     ]
    },
    {
     "name": "stdout",
     "output_type": "stream",
     "text": [
      "epoch: 220 loss:0.139430 auc:0.9437\n",
      "Fit finished.\n",
      "epoch:   0 loss:0.956670 auc:0.3096\n",
      "epoch:  20 loss:0.261806 auc:0.9277\n",
      "epoch:  40 loss:0.189997 auc:0.9170\n",
      "epoch:  60 loss:0.174530 auc:0.9131\n",
      "epoch:  80 loss:0.165134 auc:0.9121\n",
      "epoch: 100 loss:0.155079 auc:0.9102\n",
      "epoch: 120 loss:0.148465 auc:0.9121\n",
      "epoch: 140 loss:0.145736 auc:0.9111\n",
      "epoch: 160 loss:0.144285 auc:0.9062\n"
     ]
    },
    {
     "name": "stderr",
     "output_type": "stream",
     "text": [
      " 59%|█████▉    | 538/910 [1:21:43<38:18,  6.18s/it]"
     ]
    },
    {
     "name": "stdout",
     "output_type": "stream",
     "text": [
      "epoch: 180 loss:0.142132 auc:0.9072\n",
      "Fit finished.\n",
      "epoch:   0 loss:0.536382 auc:0.8520\n",
      "epoch:  20 loss:0.256462 auc:0.9388\n",
      "epoch:  40 loss:0.189666 auc:0.9643\n",
      "epoch:  60 loss:0.174855 auc:0.9694\n",
      "epoch:  80 loss:0.166952 auc:0.9694\n",
      "epoch: 100 loss:0.156770 auc:0.9694\n",
      "epoch: 120 loss:0.148757 auc:0.9694\n",
      "epoch: 140 loss:0.145782 auc:0.9643\n",
      "epoch: 160 loss:0.146520 auc:0.9694\n",
      "epoch: 180 loss:0.142658 auc:0.9643\n",
      "epoch: 200 loss:0.140555 auc:0.9694\n",
      "epoch: 220 loss:0.139956 auc:0.9745\n",
      "epoch: 240 loss:0.138024 auc:0.9745\n",
      "epoch: 260 loss:0.135513 auc:0.9847\n",
      "epoch: 280 loss:0.133324 auc:0.9847\n",
      "epoch: 300 loss:0.132777 auc:0.9847\n",
      "epoch: 320 loss:0.130996 auc:0.9796\n",
      "epoch: 340 loss:0.128358 auc:0.9898\n",
      "epoch: 360 loss:0.130635 auc:0.9745\n",
      "epoch: 380 loss:0.126563 auc:0.9796\n",
      "epoch: 400 loss:0.123519 auc:0.9796\n"
     ]
    },
    {
     "name": "stderr",
     "output_type": "stream",
     "text": [
      " 59%|█████▉    | 539/910 [1:21:55<47:59,  7.76s/it]"
     ]
    },
    {
     "name": "stdout",
     "output_type": "stream",
     "text": [
      "epoch: 420 loss:0.122623 auc:0.9745\n",
      "Fit finished.\n",
      "epoch:   0 loss:0.907882 auc:0.7733\n",
      "epoch:  20 loss:0.277923 auc:0.9922\n",
      "epoch:  40 loss:0.207865 auc:0.9933\n",
      "epoch:  60 loss:0.180334 auc:0.9944\n",
      "epoch:  80 loss:0.170829 auc:0.9944\n",
      "epoch: 100 loss:0.162592 auc:0.9944\n",
      "epoch: 120 loss:0.152412 auc:0.9944\n",
      "epoch: 140 loss:0.148301 auc:0.9944\n",
      "epoch: 160 loss:0.146188 auc:0.9944\n",
      "epoch: 180 loss:0.144632 auc:0.9944\n",
      "epoch: 200 loss:0.143369 auc:0.9944\n",
      "epoch: 220 loss:0.142372 auc:0.9967\n",
      "epoch: 240 loss:0.140469 auc:0.9978\n",
      "epoch: 260 loss:0.138632 auc:0.9967\n"
     ]
    },
    {
     "name": "stderr",
     "output_type": "stream",
     "text": [
      " 59%|█████▉    | 540/910 [1:22:05<50:13,  8.14s/it]"
     ]
    },
    {
     "name": "stdout",
     "output_type": "stream",
     "text": [
      "epoch: 280 loss:0.137081 auc:0.9933\n",
      "Fit finished.\n",
      "epoch:   0 loss:0.582118 auc:0.6021\n",
      "epoch:  20 loss:0.286391 auc:0.9911\n",
      "epoch:  40 loss:0.204132 auc:0.9926\n",
      "epoch:  60 loss:0.180797 auc:0.9896\n",
      "epoch:  80 loss:0.170453 auc:0.9867\n",
      "epoch: 100 loss:0.160883 auc:0.9867\n",
      "epoch: 120 loss:0.149808 auc:0.9837\n",
      "epoch: 140 loss:0.146554 auc:0.9837\n",
      "epoch: 160 loss:0.144584 auc:0.9837\n"
     ]
    },
    {
     "name": "stderr",
     "output_type": "stream",
     "text": [
      " 59%|█████▉    | 541/910 [1:22:10<45:22,  7.38s/it]"
     ]
    },
    {
     "name": "stdout",
     "output_type": "stream",
     "text": [
      "epoch: 180 loss:0.143019 auc:0.9867\n",
      "Fit finished.\n",
      "epoch:   0 loss:0.853206 auc:0.4097\n",
      "epoch:  20 loss:0.281201 auc:1.0000\n",
      "epoch:  40 loss:0.209134 auc:1.0000\n",
      "epoch:  60 loss:0.179898 auc:1.0000\n",
      "epoch:  80 loss:0.169405 auc:1.0000\n",
      "epoch: 100 loss:0.160360 auc:1.0000\n",
      "epoch: 120 loss:0.150249 auc:1.0000\n",
      "epoch: 140 loss:0.146919 auc:1.0000\n",
      "epoch: 160 loss:0.145196 auc:1.0000\n",
      "epoch: 180 loss:0.143714 auc:1.0000\n",
      "epoch: 200 loss:0.141610 auc:1.0000\n",
      "epoch: 220 loss:0.141958 auc:1.0000\n",
      "epoch: 240 loss:0.138183 auc:1.0000\n",
      "epoch: 260 loss:0.136632 auc:1.0000\n",
      "epoch: 280 loss:0.136419 auc:1.0000\n",
      "epoch: 300 loss:0.134716 auc:1.0000\n",
      "epoch: 320 loss:0.132157 auc:1.0000\n",
      "epoch: 340 loss:0.130151 auc:1.0000\n",
      "epoch: 360 loss:0.129013 auc:1.0000\n",
      "epoch: 380 loss:0.128785 auc:1.0000\n",
      "epoch: 400 loss:0.126093 auc:1.0000\n",
      "epoch: 420 loss:0.125671 auc:1.0000\n",
      "epoch: 440 loss:0.125080 auc:1.0000\n",
      "epoch: 460 loss:0.126639 auc:1.0000\n",
      "epoch: 480 loss:0.123088 auc:1.0000\n",
      "epoch: 500 loss:0.120136 auc:1.0000\n",
      "epoch: 520 loss:0.118714 auc:1.0000\n",
      "epoch: 540 loss:0.120097 auc:1.0000\n",
      "epoch: 560 loss:0.116582 auc:1.0000\n",
      "epoch: 580 loss:0.116347 auc:1.0000\n",
      "epoch: 600 loss:0.117062 auc:1.0000\n",
      "epoch: 620 loss:0.134414 auc:1.0000\n",
      "epoch: 640 loss:0.117149 auc:1.0000\n",
      "epoch: 660 loss:0.114492 auc:1.0000\n",
      "epoch: 680 loss:0.113310 auc:1.0000\n",
      "epoch: 700 loss:0.112594 auc:1.0000\n",
      "epoch: 720 loss:0.111991 auc:1.0000\n",
      "epoch: 740 loss:0.111450 auc:1.0000\n",
      "epoch: 760 loss:0.111106 auc:1.0000\n",
      "epoch: 780 loss:0.111260 auc:1.0000\n",
      "epoch: 800 loss:0.123815 auc:1.0000\n",
      "epoch: 820 loss:0.112692 auc:1.0000\n",
      "epoch: 840 loss:0.110508 auc:1.0000\n",
      "epoch: 860 loss:0.109665 auc:1.0000\n",
      "epoch: 880 loss:0.109184 auc:1.0000\n",
      "epoch: 900 loss:0.108781 auc:1.0000\n",
      "epoch: 920 loss:0.108415 auc:1.0000\n",
      "epoch: 940 loss:0.108072 auc:1.0000\n",
      "epoch: 960 loss:0.107749 auc:1.0000\n",
      "epoch: 980 loss:0.107441 auc:1.0000\n"
     ]
    },
    {
     "name": "stderr",
     "output_type": "stream",
     "text": [
      " 60%|█████▉    | 542/910 [1:22:40<1:25:08, 13.88s/it]"
     ]
    },
    {
     "name": "stdout",
     "output_type": "stream",
     "text": [
      "Fit finished.\n",
      "epoch:   0 loss:1.022856 auc:0.6198\n",
      "epoch:  20 loss:0.291320 auc:1.0000\n",
      "epoch:  40 loss:0.227322 auc:1.0000\n",
      "epoch:  60 loss:0.185796 auc:1.0000\n",
      "epoch:  80 loss:0.172195 auc:1.0000\n",
      "epoch: 100 loss:0.163410 auc:1.0000\n",
      "epoch: 120 loss:0.154122 auc:1.0000\n",
      "epoch: 140 loss:0.148829 auc:1.0000\n",
      "epoch: 160 loss:0.146670 auc:1.0000\n",
      "epoch: 180 loss:0.145017 auc:1.0000\n",
      "epoch: 200 loss:0.143567 auc:1.0000\n",
      "epoch: 220 loss:0.142638 auc:1.0000\n",
      "epoch: 240 loss:0.140992 auc:1.0000\n",
      "epoch: 260 loss:0.140267 auc:1.0000\n",
      "epoch: 280 loss:0.137600 auc:1.0000\n"
     ]
    },
    {
     "name": "stderr",
     "output_type": "stream",
     "text": [
      " 60%|█████▉    | 543/910 [1:22:47<1:12:20, 11.83s/it]"
     ]
    },
    {
     "name": "stdout",
     "output_type": "stream",
     "text": [
      "epoch: 300 loss:0.136781 auc:0.9917\n",
      "Fit finished.\n",
      "epoch:   0 loss:1.252790 auc:0.5064\n",
      "epoch:  20 loss:0.283800 auc:0.9745\n",
      "epoch:  40 loss:0.217532 auc:0.9872\n",
      "epoch:  60 loss:0.183381 auc:0.9885\n",
      "epoch:  80 loss:0.171708 auc:0.9885\n",
      "epoch: 100 loss:0.163061 auc:0.9898\n",
      "epoch: 120 loss:0.153343 auc:0.9885\n",
      "epoch: 140 loss:0.148328 auc:0.9885\n",
      "epoch: 160 loss:0.145981 auc:0.9885\n",
      "epoch: 180 loss:0.144279 auc:0.9885\n",
      "epoch: 200 loss:0.143468 auc:0.9885\n",
      "epoch: 220 loss:0.142061 auc:0.9885\n"
     ]
    },
    {
     "name": "stderr",
     "output_type": "stream",
     "text": [
      " 60%|█████▉    | 544/910 [1:22:54<1:03:36, 10.43s/it]"
     ]
    },
    {
     "name": "stdout",
     "output_type": "stream",
     "text": [
      "epoch: 240 loss:0.140187 auc:0.9860\n",
      "Fit finished.\n",
      "epoch:   0 loss:0.673303 auc:0.4654\n",
      "epoch:  20 loss:0.282219 auc:0.9818\n",
      "epoch:  40 loss:0.200354 auc:0.9784\n",
      "epoch:  60 loss:0.175472 auc:0.9792\n",
      "epoch:  80 loss:0.163047 auc:0.9801\n",
      "epoch: 100 loss:0.151316 auc:0.9810\n",
      "epoch: 120 loss:0.147381 auc:0.9801\n",
      "epoch: 140 loss:0.146412 auc:0.9792\n",
      "epoch: 160 loss:0.143282 auc:0.9784\n"
     ]
    },
    {
     "name": "stderr",
     "output_type": "stream",
     "text": [
      " 60%|█████▉    | 545/910 [1:22:59<54:19,  8.93s/it]  "
     ]
    },
    {
     "name": "stdout",
     "output_type": "stream",
     "text": [
      "epoch: 180 loss:0.141365 auc:0.9775\n",
      "Fit finished.\n",
      "epoch:   0 loss:0.490333 auc:0.5754\n",
      "epoch:  20 loss:0.224072 auc:0.9667\n",
      "epoch:  40 loss:0.178790 auc:0.9719\n",
      "epoch:  60 loss:0.166060 auc:0.9729\n",
      "epoch:  80 loss:0.152198 auc:0.9698\n",
      "epoch: 100 loss:0.147419 auc:0.9709\n",
      "epoch: 120 loss:0.145696 auc:0.9688\n",
      "epoch: 140 loss:0.143017 auc:0.9698\n",
      "epoch: 160 loss:0.141675 auc:0.9677\n"
     ]
    },
    {
     "name": "stderr",
     "output_type": "stream",
     "text": [
      " 60%|██████    | 546/910 [1:23:06<50:41,  8.36s/it]"
     ]
    },
    {
     "name": "stdout",
     "output_type": "stream",
     "text": [
      "epoch: 180 loss:0.137961 auc:0.9272\n",
      "Fit finished.\n",
      "epoch:   0 loss:0.647749 auc:0.1855\n",
      "epoch:  20 loss:0.231138 auc:0.9385\n",
      "epoch:  40 loss:0.182329 auc:0.9504\n",
      "epoch:  60 loss:0.171848 auc:0.9477\n",
      "epoch:  80 loss:0.163858 auc:0.9486\n",
      "epoch: 100 loss:0.151954 auc:0.9495\n",
      "epoch: 120 loss:0.147434 auc:0.9477\n",
      "epoch: 140 loss:0.146538 auc:0.9504\n",
      "epoch: 160 loss:0.142706 auc:0.9504\n"
     ]
    },
    {
     "name": "stderr",
     "output_type": "stream",
     "text": [
      " 60%|██████    | 547/910 [1:23:11<43:59,  7.27s/it]"
     ]
    },
    {
     "name": "stdout",
     "output_type": "stream",
     "text": [
      "epoch: 180 loss:0.141459 auc:0.9357\n",
      "Fit finished.\n",
      "epoch:   0 loss:0.605658 auc:0.5936\n",
      "epoch:  20 loss:0.240448 auc:0.9981\n",
      "epoch:  40 loss:0.185461 auc:0.9981\n",
      "epoch:  60 loss:0.171673 auc:1.0000\n",
      "epoch:  80 loss:0.162480 auc:1.0000\n",
      "epoch: 100 loss:0.151185 auc:1.0000\n",
      "epoch: 120 loss:0.147177 auc:1.0000\n",
      "epoch: 140 loss:0.144791 auc:1.0000\n",
      "epoch: 160 loss:0.142008 auc:1.0000\n",
      "epoch: 180 loss:0.140441 auc:1.0000\n"
     ]
    },
    {
     "name": "stderr",
     "output_type": "stream",
     "text": [
      " 60%|██████    | 548/910 [1:23:18<42:51,  7.10s/it]"
     ]
    },
    {
     "name": "stdout",
     "output_type": "stream",
     "text": [
      "epoch: 200 loss:0.138416 auc:0.9773\n",
      "Fit finished.\n",
      "epoch:   0 loss:0.968404 auc:0.6198\n",
      "epoch:  20 loss:0.282115 auc:0.9311\n",
      "epoch:  40 loss:0.210568 auc:0.9458\n",
      "epoch:  60 loss:0.181044 auc:0.9495\n",
      "epoch:  80 loss:0.171595 auc:0.9504\n",
      "epoch: 100 loss:0.164457 auc:0.9495\n",
      "epoch: 120 loss:0.155228 auc:0.9504\n",
      "epoch: 140 loss:0.148552 auc:0.9486\n",
      "epoch: 160 loss:0.146152 auc:0.9477\n",
      "epoch: 180 loss:0.144335 auc:0.9467\n",
      "epoch: 200 loss:0.142986 auc:0.9458\n"
     ]
    },
    {
     "name": "stderr",
     "output_type": "stream",
     "text": [
      " 60%|██████    | 549/910 [1:23:25<43:43,  7.27s/it]"
     ]
    },
    {
     "name": "stdout",
     "output_type": "stream",
     "text": [
      "epoch: 220 loss:0.141853 auc:0.9403\n",
      "Fit finished.\n",
      "epoch:   0 loss:0.672628 auc:0.5935\n",
      "epoch:  20 loss:0.257285 auc:0.9868\n",
      "epoch:  40 loss:0.189425 auc:0.9917\n",
      "epoch:  60 loss:0.174065 auc:0.9924\n",
      "epoch:  80 loss:0.164803 auc:0.9924\n",
      "epoch: 100 loss:0.154859 auc:0.9931\n",
      "epoch: 120 loss:0.148697 auc:0.9931\n",
      "epoch: 140 loss:0.146123 auc:0.9931\n",
      "epoch: 160 loss:0.144019 auc:0.9931\n",
      "epoch: 180 loss:0.142777 auc:0.9917\n"
     ]
    },
    {
     "name": "stderr",
     "output_type": "stream",
     "text": [
      " 60%|██████    | 550/910 [1:23:31<40:11,  6.70s/it]"
     ]
    },
    {
     "name": "stdout",
     "output_type": "stream",
     "text": [
      "epoch: 200 loss:0.140421 auc:0.9848\n",
      "Fit finished.\n",
      "epoch:   0 loss:0.533952 auc:0.3333\n",
      "epoch:  20 loss:0.209259 auc:0.9689\n",
      "epoch:  40 loss:0.179894 auc:0.9733\n",
      "epoch:  60 loss:0.170567 auc:0.9778\n",
      "epoch:  80 loss:0.160892 auc:0.9689\n",
      "epoch: 100 loss:0.149325 auc:0.9689\n",
      "epoch: 120 loss:0.146929 auc:0.9689\n",
      "epoch: 140 loss:0.143504 auc:0.9689\n",
      "epoch: 160 loss:0.145622 auc:0.9733\n",
      "epoch: 180 loss:0.138604 auc:0.9733\n"
     ]
    },
    {
     "name": "stderr",
     "output_type": "stream",
     "text": [
      " 61%|██████    | 551/910 [1:23:37<39:03,  6.53s/it]"
     ]
    },
    {
     "name": "stdout",
     "output_type": "stream",
     "text": [
      "epoch: 200 loss:0.136032 auc:0.9689\n",
      "Fit finished.\n",
      "epoch:   0 loss:0.631544 auc:0.1944\n",
      "epoch:  20 loss:0.245369 auc:0.9792\n",
      "epoch:  40 loss:0.186928 auc:0.9722\n",
      "epoch:  60 loss:0.173516 auc:0.9653\n",
      "epoch:  80 loss:0.165762 auc:0.9653\n",
      "epoch: 100 loss:0.155146 auc:0.9653\n",
      "epoch: 120 loss:0.148213 auc:0.9653\n",
      "epoch: 140 loss:0.145343 auc:0.9653\n",
      "epoch: 160 loss:0.144549 auc:0.9653\n"
     ]
    },
    {
     "name": "stderr",
     "output_type": "stream",
     "text": [
      " 61%|██████    | 552/910 [1:23:43<37:38,  6.31s/it]"
     ]
    },
    {
     "name": "stdout",
     "output_type": "stream",
     "text": [
      "epoch: 180 loss:0.141123 auc:0.9653\n",
      "Fit finished.\n",
      "epoch:   0 loss:0.872691 auc:0.2449\n",
      "epoch:  20 loss:0.291633 auc:1.0000\n",
      "epoch:  40 loss:0.219158 auc:1.0000\n",
      "epoch:  60 loss:0.182298 auc:1.0000\n",
      "epoch:  80 loss:0.171085 auc:1.0000\n",
      "epoch: 100 loss:0.162096 auc:1.0000\n",
      "epoch: 120 loss:0.151889 auc:1.0000\n",
      "epoch: 140 loss:0.148113 auc:1.0000\n",
      "epoch: 160 loss:0.145744 auc:1.0000\n",
      "epoch: 180 loss:0.143891 auc:1.0000\n",
      "epoch: 200 loss:0.141870 auc:1.0000\n",
      "epoch: 220 loss:0.146698 auc:1.0000\n",
      "epoch: 240 loss:0.138064 auc:1.0000\n",
      "epoch: 260 loss:0.136190 auc:1.0000\n",
      "epoch: 280 loss:0.135307 auc:1.0000\n",
      "epoch: 300 loss:0.133390 auc:1.0000\n",
      "epoch: 320 loss:0.131883 auc:1.0000\n",
      "epoch: 340 loss:0.132917 auc:1.0000\n",
      "epoch: 360 loss:0.129868 auc:1.0000\n",
      "epoch: 380 loss:0.127662 auc:1.0000\n",
      "epoch: 400 loss:0.127360 auc:1.0000\n",
      "epoch: 420 loss:0.125898 auc:1.0000\n",
      "epoch: 440 loss:0.124801 auc:1.0000\n",
      "epoch: 460 loss:0.123964 auc:1.0000\n",
      "epoch: 480 loss:0.123709 auc:1.0000\n",
      "epoch: 500 loss:0.123016 auc:1.0000\n",
      "epoch: 520 loss:0.121200 auc:1.0000\n",
      "epoch: 540 loss:0.119279 auc:1.0000\n",
      "epoch: 560 loss:0.118124 auc:1.0000\n",
      "epoch: 580 loss:0.120456 auc:1.0000\n",
      "epoch: 600 loss:0.120725 auc:1.0000\n",
      "epoch: 620 loss:0.118098 auc:1.0000\n",
      "epoch: 640 loss:0.117720 auc:1.0000\n",
      "epoch: 660 loss:0.114283 auc:1.0000\n",
      "epoch: 680 loss:0.113163 auc:1.0000\n",
      "epoch: 700 loss:0.112425 auc:1.0000\n",
      "epoch: 720 loss:0.111796 auc:1.0000\n",
      "epoch: 740 loss:0.111704 auc:1.0000\n",
      "epoch: 760 loss:0.110841 auc:1.0000\n",
      "epoch: 780 loss:0.111299 auc:1.0000\n",
      "epoch: 800 loss:0.110571 auc:1.0000\n",
      "epoch: 820 loss:0.109910 auc:1.0000\n",
      "epoch: 840 loss:0.132186 auc:1.0000\n",
      "epoch: 860 loss:0.115485 auc:1.0000\n",
      "epoch: 880 loss:0.110876 auc:1.0000\n",
      "epoch: 900 loss:0.109381 auc:1.0000\n",
      "epoch: 920 loss:0.108628 auc:1.0000\n",
      "epoch: 940 loss:0.108114 auc:1.0000\n",
      "epoch: 960 loss:0.107715 auc:1.0000\n",
      "epoch: 980 loss:0.107377 auc:1.0000\n"
     ]
    },
    {
     "name": "stderr",
     "output_type": "stream",
     "text": [
      " 61%|██████    | 554/910 [1:24:12<1:00:44, 10.24s/it]"
     ]
    },
    {
     "name": "stdout",
     "output_type": "stream",
     "text": [
      "Fit finished.\n",
      "epoch:   0 loss:0.797193 auc:0.2149\n",
      "epoch:  20 loss:0.281440 auc:0.9607\n",
      "epoch:  40 loss:0.210224 auc:0.9561\n",
      "epoch:  60 loss:0.179841 auc:0.9587\n",
      "epoch:  80 loss:0.169287 auc:0.9566\n",
      "epoch: 100 loss:0.159046 auc:0.9571\n",
      "epoch: 120 loss:0.149103 auc:0.9566\n",
      "epoch: 140 loss:0.146003 auc:0.9566\n",
      "epoch: 160 loss:0.143902 auc:0.9545\n"
     ]
    },
    {
     "name": "stderr",
     "output_type": "stream",
     "text": [
      " 61%|██████    | 555/910 [1:24:17<52:54,  8.94s/it]  "
     ]
    },
    {
     "name": "stdout",
     "output_type": "stream",
     "text": [
      "epoch: 180 loss:0.142848 auc:0.9478\n",
      "Fit finished.\n",
      "epoch:   0 loss:0.925952 auc:0.3992\n",
      "epoch:  20 loss:0.279305 auc:0.9745\n",
      "epoch:  40 loss:0.199358 auc:0.9809\n",
      "epoch:  60 loss:0.179047 auc:0.9847\n",
      "epoch:  80 loss:0.169570 auc:0.9834\n",
      "epoch: 100 loss:0.159581 auc:0.9847\n",
      "epoch: 120 loss:0.150273 auc:0.9847\n",
      "epoch: 140 loss:0.147053 auc:0.9847\n",
      "epoch: 160 loss:0.144879 auc:0.9872\n",
      "epoch: 180 loss:0.145034 auc:0.9885\n",
      "epoch: 200 loss:0.141095 auc:0.9898\n",
      "epoch: 220 loss:0.138822 auc:0.9936\n",
      "epoch: 240 loss:0.137583 auc:0.9949\n",
      "epoch: 260 loss:0.135996 auc:0.9962\n",
      "epoch: 280 loss:0.134919 auc:0.9962\n",
      "epoch: 300 loss:0.135195 auc:0.9949\n",
      "epoch: 320 loss:0.132131 auc:0.9949\n"
     ]
    },
    {
     "name": "stderr",
     "output_type": "stream",
     "text": [
      " 61%|██████    | 556/910 [1:24:28<55:31,  9.41s/it]"
     ]
    },
    {
     "name": "stdout",
     "output_type": "stream",
     "text": [
      "epoch: 340 loss:0.129251 auc:0.9834\n",
      "Fit finished.\n",
      "epoch:   0 loss:0.868466 auc:0.2117\n",
      "epoch:  20 loss:0.267761 auc:0.9941\n",
      "epoch:  40 loss:0.194878 auc:0.9964\n",
      "epoch:  60 loss:0.175768 auc:0.9976\n",
      "epoch:  80 loss:0.166179 auc:0.9988\n",
      "epoch: 100 loss:0.156712 auc:0.9988\n",
      "epoch: 120 loss:0.149051 auc:0.9988\n",
      "epoch: 140 loss:0.146270 auc:0.9988\n",
      "epoch: 160 loss:0.143936 auc:1.0000\n",
      "epoch: 180 loss:0.142311 auc:1.0000\n",
      "epoch: 200 loss:0.140167 auc:0.9988\n"
     ]
    },
    {
     "name": "stderr",
     "output_type": "stream",
     "text": [
      " 61%|██████    | 557/910 [1:24:35<51:08,  8.69s/it]"
     ]
    },
    {
     "name": "stdout",
     "output_type": "stream",
     "text": [
      "epoch: 220 loss:0.137699 auc:0.9929\n",
      "Fit finished.\n",
      "epoch:   0 loss:0.581353 auc:0.5694\n",
      "epoch:  20 loss:0.228633 auc:0.9722\n",
      "epoch:  40 loss:0.182627 auc:0.9722\n",
      "epoch:  60 loss:0.172820 auc:0.9792\n",
      "epoch:  80 loss:0.165550 auc:0.9792\n",
      "epoch: 100 loss:0.153532 auc:0.9792\n",
      "epoch: 120 loss:0.147412 auc:0.9792\n",
      "epoch: 140 loss:0.144597 auc:0.9792\n",
      "epoch: 160 loss:0.144135 auc:0.9722\n",
      "epoch: 180 loss:0.140517 auc:0.9722\n",
      "epoch: 200 loss:0.137669 auc:0.9722\n"
     ]
    },
    {
     "name": "stderr",
     "output_type": "stream",
     "text": [
      " 61%|██████▏   | 558/910 [1:24:41<47:35,  8.11s/it]"
     ]
    },
    {
     "name": "stdout",
     "output_type": "stream",
     "text": [
      "epoch: 220 loss:0.137649 auc:0.9722\n",
      "Fit finished.\n",
      "epoch:   0 loss:0.694176 auc:0.4558\n",
      "epoch:  20 loss:0.269407 auc:0.9372\n",
      "epoch:  40 loss:0.199962 auc:0.9438\n",
      "epoch:  60 loss:0.176388 auc:0.9467\n",
      "epoch:  80 loss:0.165271 auc:0.9430\n",
      "epoch: 100 loss:0.153810 auc:0.9452\n",
      "epoch: 120 loss:0.148309 auc:0.9459\n",
      "epoch: 140 loss:0.146203 auc:0.9438\n",
      "epoch: 160 loss:0.143741 auc:0.9430\n",
      "epoch: 180 loss:0.142127 auc:0.9408\n"
     ]
    },
    {
     "name": "stderr",
     "output_type": "stream",
     "text": [
      " 61%|██████▏   | 559/910 [1:24:48<44:27,  7.60s/it]"
     ]
    },
    {
     "name": "stdout",
     "output_type": "stream",
     "text": [
      "epoch: 200 loss:0.140541 auc:0.8970\n",
      "Fit finished.\n",
      "epoch:   0 loss:0.815857 auc:0.6483\n",
      "epoch:  20 loss:0.289245 auc:0.9948\n",
      "epoch:  40 loss:0.222157 auc:0.9948\n",
      "epoch:  60 loss:0.183874 auc:0.9948\n",
      "epoch:  80 loss:0.171900 auc:0.9948\n",
      "epoch: 100 loss:0.164093 auc:0.9938\n",
      "epoch: 120 loss:0.154473 auc:0.9938\n",
      "epoch: 140 loss:0.149026 auc:0.9938\n",
      "epoch: 160 loss:0.146676 auc:0.9938\n"
     ]
    },
    {
     "name": "stderr",
     "output_type": "stream",
     "text": [
      " 62%|██████▏   | 560/910 [1:24:54<41:55,  7.19s/it]"
     ]
    },
    {
     "name": "stdout",
     "output_type": "stream",
     "text": [
      "epoch: 180 loss:0.144970 auc:0.9938\n",
      "Fit finished.\n",
      "epoch:   0 loss:0.732150 auc:0.6055\n",
      "epoch:  20 loss:0.246038 auc:0.9287\n",
      "epoch:  40 loss:0.186433 auc:0.9346\n",
      "epoch:  60 loss:0.172089 auc:0.9414\n",
      "epoch:  80 loss:0.163704 auc:0.9424\n",
      "epoch: 100 loss:0.152353 auc:0.9404\n",
      "epoch: 120 loss:0.147972 auc:0.9395\n",
      "epoch: 140 loss:0.145268 auc:0.9375\n",
      "epoch: 160 loss:0.144007 auc:0.9297\n",
      "epoch: 180 loss:0.142190 auc:0.9307\n"
     ]
    },
    {
     "name": "stderr",
     "output_type": "stream",
     "text": [
      " 62%|██████▏   | 561/910 [1:25:00<40:23,  6.94s/it]"
     ]
    },
    {
     "name": "stdout",
     "output_type": "stream",
     "text": [
      "epoch: 200 loss:0.140390 auc:0.9258\n",
      "Fit finished.\n",
      "epoch:   0 loss:0.505241 auc:0.2604\n",
      "epoch:  20 loss:0.245150 auc:0.9653\n",
      "epoch:  40 loss:0.184497 auc:0.9740\n",
      "epoch:  60 loss:0.168314 auc:0.9705\n",
      "epoch:  80 loss:0.155740 auc:0.9705\n",
      "epoch: 100 loss:0.148983 auc:0.9705\n",
      "epoch: 120 loss:0.145592 auc:0.9705\n",
      "epoch: 140 loss:0.146158 auc:0.9635\n",
      "epoch: 160 loss:0.140725 auc:0.9688\n"
     ]
    },
    {
     "name": "stderr",
     "output_type": "stream",
     "text": [
      " 62%|██████▏   | 562/910 [1:25:05<36:37,  6.31s/it]"
     ]
    },
    {
     "name": "stdout",
     "output_type": "stream",
     "text": [
      "epoch: 180 loss:0.137768 auc:0.9601\n",
      "Fit finished.\n",
      "epoch:   0 loss:0.529708 auc:0.2547\n",
      "epoch:  20 loss:0.208036 auc:0.9747\n",
      "epoch:  40 loss:0.176182 auc:0.9796\n",
      "epoch:  60 loss:0.165099 auc:0.9804\n",
      "epoch:  80 loss:0.152202 auc:0.9796\n",
      "epoch: 100 loss:0.147784 auc:0.9796\n",
      "epoch: 120 loss:0.144746 auc:0.9788\n",
      "epoch: 140 loss:0.143342 auc:0.9690\n",
      "epoch: 160 loss:0.139845 auc:0.9094\n"
     ]
    },
    {
     "name": "stderr",
     "output_type": "stream",
     "text": [
      " 62%|██████▏   | 563/910 [1:25:11<35:55,  6.21s/it]"
     ]
    },
    {
     "name": "stdout",
     "output_type": "stream",
     "text": [
      "epoch: 180 loss:0.143921 auc:0.8139\n",
      "Fit finished.\n",
      "epoch:   0 loss:0.507739 auc:0.6500\n",
      "epoch:  20 loss:0.246644 auc:0.9750\n",
      "epoch:  40 loss:0.187059 auc:0.9825\n",
      "epoch:  60 loss:0.172179 auc:0.9800\n",
      "epoch:  80 loss:0.161867 auc:0.9800\n",
      "epoch: 100 loss:0.151150 auc:0.9750\n",
      "epoch: 120 loss:0.147353 auc:0.9750\n",
      "epoch: 140 loss:0.144842 auc:0.9775\n",
      "epoch: 160 loss:0.143353 auc:0.9775\n",
      "epoch: 180 loss:0.141301 auc:0.9775\n"
     ]
    },
    {
     "name": "stderr",
     "output_type": "stream",
     "text": [
      " 62%|██████▏   | 564/910 [1:25:17<35:53,  6.22s/it]"
     ]
    },
    {
     "name": "stdout",
     "output_type": "stream",
     "text": [
      "epoch: 200 loss:0.138425 auc:0.9750\n",
      "Fit finished.\n",
      "epoch:   0 loss:1.335933 auc:0.6950\n",
      "epoch:  20 loss:0.277747 auc:0.9850\n",
      "epoch:  40 loss:0.203797 auc:0.9925\n",
      "epoch:  60 loss:0.177549 auc:0.9925\n",
      "epoch:  80 loss:0.165434 auc:0.9925\n",
      "epoch: 100 loss:0.153712 auc:0.9925\n",
      "epoch: 120 loss:0.148515 auc:0.9925\n",
      "epoch: 140 loss:0.145964 auc:0.9925\n",
      "epoch: 160 loss:0.144182 auc:0.9925\n",
      "epoch: 180 loss:0.142844 auc:0.9925\n",
      "epoch: 200 loss:0.142181 auc:0.9950\n",
      "epoch: 220 loss:0.139011 auc:0.9925\n"
     ]
    },
    {
     "name": "stderr",
     "output_type": "stream",
     "text": [
      " 62%|██████▏   | 565/910 [1:25:23<35:26,  6.16s/it]"
     ]
    },
    {
     "name": "stdout",
     "output_type": "stream",
     "text": [
      "epoch: 240 loss:0.137287 auc:0.9900\n",
      "Fit finished.\n",
      "epoch:   0 loss:0.672308 auc:0.5374\n",
      "epoch:  20 loss:0.255116 auc:0.9977\n",
      "epoch:  40 loss:0.187349 auc:1.0000\n",
      "epoch:  60 loss:0.173636 auc:1.0000\n",
      "epoch:  80 loss:0.165241 auc:1.0000\n",
      "epoch: 100 loss:0.155121 auc:1.0000\n",
      "epoch: 120 loss:0.148465 auc:1.0000\n",
      "epoch: 140 loss:0.145708 auc:1.0000\n",
      "epoch: 160 loss:0.143668 auc:1.0000\n",
      "epoch: 180 loss:0.141803 auc:1.0000\n",
      "epoch: 200 loss:0.139523 auc:1.0000\n",
      "epoch: 220 loss:0.138790 auc:1.0000\n"
     ]
    },
    {
     "name": "stderr",
     "output_type": "stream",
     "text": [
      " 62%|██████▏   | 566/910 [1:25:31<38:13,  6.67s/it]"
     ]
    },
    {
     "name": "stdout",
     "output_type": "stream",
     "text": [
      "epoch: 240 loss:0.136488 auc:0.9977\n",
      "Fit finished.\n",
      "epoch:   0 loss:0.726793 auc:0.3475\n",
      "epoch:  20 loss:0.269976 auc:0.9700\n",
      "epoch:  40 loss:0.199816 auc:0.9725\n",
      "epoch:  60 loss:0.176928 auc:0.9650\n",
      "epoch:  80 loss:0.166956 auc:0.9675\n",
      "epoch: 100 loss:0.157408 auc:0.9600\n",
      "epoch: 120 loss:0.149889 auc:0.9625\n",
      "epoch: 140 loss:0.146969 auc:0.9625\n",
      "epoch: 160 loss:0.144807 auc:0.9625\n"
     ]
    },
    {
     "name": "stderr",
     "output_type": "stream",
     "text": [
      " 62%|██████▏   | 568/910 [1:25:36<27:10,  4.77s/it]"
     ]
    },
    {
     "name": "stdout",
     "output_type": "stream",
     "text": [
      "epoch: 180 loss:0.142919 auc:0.9675\n",
      "Fit finished.\n",
      "epoch:   0 loss:0.672898 auc:0.2464\n",
      "epoch:  20 loss:0.254704 auc:0.9728\n",
      "epoch:  40 loss:0.188385 auc:0.9936\n",
      "epoch:  60 loss:0.173778 auc:0.9968\n",
      "epoch:  80 loss:0.165254 auc:0.9968\n",
      "epoch: 100 loss:0.153612 auc:0.9968\n",
      "epoch: 120 loss:0.147854 auc:0.9968\n",
      "epoch: 140 loss:0.145192 auc:0.9968\n",
      "epoch: 160 loss:0.142478 auc:0.9968\n",
      "epoch: 180 loss:0.140818 auc:0.9904\n"
     ]
    },
    {
     "name": "stderr",
     "output_type": "stream",
     "text": [
      " 63%|██████▎   | 569/910 [1:25:42<29:11,  5.14s/it]"
     ]
    },
    {
     "name": "stdout",
     "output_type": "stream",
     "text": [
      "epoch: 200 loss:0.137614 auc:0.9872\n",
      "Fit finished.\n",
      "epoch:   0 loss:1.224918 auc:0.4464\n",
      "epoch:  20 loss:0.282167 auc:0.9416\n",
      "epoch:  40 loss:0.205962 auc:0.9439\n",
      "epoch:  60 loss:0.181650 auc:0.9450\n",
      "epoch:  80 loss:0.172695 auc:0.9454\n",
      "epoch: 100 loss:0.166433 auc:0.9462\n",
      "epoch: 120 loss:0.157748 auc:0.9469\n",
      "epoch: 140 loss:0.149396 auc:0.9473\n",
      "epoch: 160 loss:0.146467 auc:0.9454\n",
      "epoch: 180 loss:0.144691 auc:0.9427\n"
     ]
    },
    {
     "name": "stderr",
     "output_type": "stream",
     "text": [
      " 63%|██████▎   | 570/910 [1:25:49<30:40,  5.41s/it]"
     ]
    },
    {
     "name": "stdout",
     "output_type": "stream",
     "text": [
      "epoch: 200 loss:0.143429 auc:0.9296\n",
      "Fit finished.\n",
      "epoch:   0 loss:0.686674 auc:0.5486\n",
      "epoch:  20 loss:0.284447 auc:0.9835\n",
      "epoch:  40 loss:0.207316 auc:0.9848\n",
      "epoch:  60 loss:0.180248 auc:0.9844\n",
      "epoch:  80 loss:0.170937 auc:0.9852\n",
      "epoch: 100 loss:0.163017 auc:0.9857\n",
      "epoch: 120 loss:0.152691 auc:0.9852\n",
      "epoch: 140 loss:0.147937 auc:0.9848\n",
      "epoch: 160 loss:0.145428 auc:0.9852\n",
      "epoch: 180 loss:0.144015 auc:0.9839\n"
     ]
    },
    {
     "name": "stderr",
     "output_type": "stream",
     "text": [
      " 63%|██████▎   | 571/910 [1:25:55<31:46,  5.62s/it]"
     ]
    },
    {
     "name": "stdout",
     "output_type": "stream",
     "text": [
      "epoch: 200 loss:0.142012 auc:0.9800\n",
      "Fit finished.\n",
      "epoch:   0 loss:0.608901 auc:0.2422\n",
      "epoch:  20 loss:0.225559 auc:0.9800\n",
      "epoch:  40 loss:0.180068 auc:0.9822\n",
      "epoch:  60 loss:0.165032 auc:0.9822\n",
      "epoch:  80 loss:0.151231 auc:0.9800\n",
      "epoch: 100 loss:0.146766 auc:0.9811\n",
      "epoch: 120 loss:0.145360 auc:0.9789\n",
      "epoch: 140 loss:0.142406 auc:0.9800\n",
      "epoch: 160 loss:0.139937 auc:0.9778\n"
     ]
    },
    {
     "name": "stderr",
     "output_type": "stream",
     "text": [
      " 63%|██████▎   | 572/910 [1:26:01<31:49,  5.65s/it]"
     ]
    },
    {
     "name": "stdout",
     "output_type": "stream",
     "text": [
      "epoch: 180 loss:0.137487 auc:0.9456\n",
      "Fit finished.\n",
      "epoch:   0 loss:0.997989 auc:0.6005\n",
      "epoch:  20 loss:0.260464 auc:0.9396\n",
      "epoch:  40 loss:0.192797 auc:0.9438\n",
      "epoch:  60 loss:0.175100 auc:0.9434\n",
      "epoch:  80 loss:0.164934 auc:0.9434\n",
      "epoch: 100 loss:0.155120 auc:0.9431\n",
      "epoch: 120 loss:0.148952 auc:0.9441\n",
      "epoch: 140 loss:0.146356 auc:0.9441\n",
      "epoch: 160 loss:0.144745 auc:0.9451\n",
      "epoch: 180 loss:0.143091 auc:0.9431\n"
     ]
    },
    {
     "name": "stderr",
     "output_type": "stream",
     "text": [
      " 63%|██████▎   | 573/910 [1:26:07<32:38,  5.81s/it]"
     ]
    },
    {
     "name": "stdout",
     "output_type": "stream",
     "text": [
      "epoch: 200 loss:0.142106 auc:0.9348\n",
      "Fit finished.\n",
      "epoch:   0 loss:1.035600 auc:0.5500\n",
      "epoch:  20 loss:0.288064 auc:1.0000\n",
      "epoch:  40 loss:0.216097 auc:1.0000\n",
      "epoch:  60 loss:0.182269 auc:1.0000\n",
      "epoch:  80 loss:0.169692 auc:1.0000\n",
      "epoch: 100 loss:0.160575 auc:1.0000\n",
      "epoch: 120 loss:0.151606 auc:1.0000\n",
      "epoch: 140 loss:0.148100 auc:1.0000\n",
      "epoch: 160 loss:0.146010 auc:0.9900\n"
     ]
    },
    {
     "name": "stderr",
     "output_type": "stream",
     "text": [
      " 63%|██████▎   | 574/910 [1:26:12<31:42,  5.66s/it]"
     ]
    },
    {
     "name": "stdout",
     "output_type": "stream",
     "text": [
      "epoch: 180 loss:0.144381 auc:0.9900\n",
      "Fit finished.\n",
      "epoch:   0 loss:0.609445 auc:0.3469\n",
      "epoch:  20 loss:0.202243 auc:0.9898\n",
      "epoch:  40 loss:0.179830 auc:0.9898\n",
      "epoch:  60 loss:0.170138 auc:0.9898\n",
      "epoch:  80 loss:0.159531 auc:0.9898\n",
      "epoch: 100 loss:0.149940 auc:0.9898\n",
      "epoch: 120 loss:0.146700 auc:0.9898\n",
      "epoch: 140 loss:0.144945 auc:0.9898\n",
      "epoch: 160 loss:0.141770 auc:0.9898\n"
     ]
    },
    {
     "name": "stderr",
     "output_type": "stream",
     "text": [
      " 63%|██████▎   | 575/910 [1:26:17<29:54,  5.36s/it]"
     ]
    },
    {
     "name": "stdout",
     "output_type": "stream",
     "text": [
      "epoch: 180 loss:0.138679 auc:0.9847\n",
      "Fit finished.\n",
      "epoch:   0 loss:1.456447 auc:0.2288\n",
      "epoch:  20 loss:0.280407 auc:0.9487\n",
      "epoch:  40 loss:0.207585 auc:0.9494\n",
      "epoch:  60 loss:0.179816 auc:0.9475\n",
      "epoch:  80 loss:0.169249 auc:0.9425\n",
      "epoch: 100 loss:0.159534 auc:0.9437\n",
      "epoch: 120 loss:0.150210 auc:0.9450\n",
      "epoch: 140 loss:0.146995 auc:0.9456\n",
      "epoch: 160 loss:0.144999 auc:0.9463\n",
      "epoch: 180 loss:0.143439 auc:0.9519\n",
      "epoch: 200 loss:0.141900 auc:0.9556\n",
      "epoch: 220 loss:0.141020 auc:0.9631\n",
      "epoch: 240 loss:0.139032 auc:0.9700\n",
      "epoch: 260 loss:0.137485 auc:0.9694\n",
      "epoch: 280 loss:0.136074 auc:0.9606\n",
      "epoch: 300 loss:0.135023 auc:0.9519\n"
     ]
    },
    {
     "name": "stderr",
     "output_type": "stream",
     "text": [
      " 63%|██████▎   | 576/910 [1:26:27<37:34,  6.75s/it]"
     ]
    },
    {
     "name": "stdout",
     "output_type": "stream",
     "text": [
      "epoch: 320 loss:0.136407 auc:0.9412\n",
      "Fit finished.\n",
      "epoch:   0 loss:0.798945 auc:0.1389\n",
      "epoch:  20 loss:0.254736 auc:1.0000\n",
      "epoch:  40 loss:0.190538 auc:1.0000\n",
      "epoch:  60 loss:0.176451 auc:1.0000\n",
      "epoch:  80 loss:0.168327 auc:1.0000\n",
      "epoch: 100 loss:0.160474 auc:1.0000\n",
      "epoch: 120 loss:0.151925 auc:1.0000\n",
      "epoch: 140 loss:0.148082 auc:1.0000\n",
      "epoch: 160 loss:0.145854 auc:1.0000\n",
      "epoch: 180 loss:0.144143 auc:1.0000\n",
      "epoch: 200 loss:0.144026 auc:1.0000\n",
      "epoch: 220 loss:0.140911 auc:1.0000\n",
      "epoch: 240 loss:0.140011 auc:1.0000\n"
     ]
    },
    {
     "name": "stderr",
     "output_type": "stream",
     "text": [
      " 63%|██████▎   | 577/910 [1:26:35<40:45,  7.34s/it]"
     ]
    },
    {
     "name": "stdout",
     "output_type": "stream",
     "text": [
      "epoch: 260 loss:0.137254 auc:0.9931\n",
      "Fit finished.\n",
      "epoch:   0 loss:0.780743 auc:0.5537\n",
      "epoch:  20 loss:0.258680 auc:0.9690\n",
      "epoch:  40 loss:0.190546 auc:0.9649\n",
      "epoch:  60 loss:0.176193 auc:0.9628\n",
      "epoch:  80 loss:0.169193 auc:0.9628\n",
      "epoch: 100 loss:0.161571 auc:0.9628\n",
      "epoch: 120 loss:0.151701 auc:0.9628\n",
      "epoch: 140 loss:0.147528 auc:0.9628\n",
      "epoch: 160 loss:0.145028 auc:0.9628\n"
     ]
    },
    {
     "name": "stderr",
     "output_type": "stream",
     "text": [
      " 64%|██████▎   | 578/910 [1:26:42<38:30,  6.96s/it]"
     ]
    },
    {
     "name": "stdout",
     "output_type": "stream",
     "text": [
      "epoch: 180 loss:0.143049 auc:0.9669\n",
      "Fit finished.\n",
      "epoch:   0 loss:1.349957 auc:0.3070\n",
      "epoch:  20 loss:0.276485 auc:0.9802\n",
      "epoch:  40 loss:0.211680 auc:0.9844\n",
      "epoch:  60 loss:0.183112 auc:0.9906\n",
      "epoch:  80 loss:0.172610 auc:0.9906\n",
      "epoch: 100 loss:0.164956 auc:0.9906\n",
      "epoch: 120 loss:0.154882 auc:0.9906\n",
      "epoch: 140 loss:0.148356 auc:0.9906\n",
      "epoch: 160 loss:0.145831 auc:0.9906\n",
      "epoch: 180 loss:0.144106 auc:0.9906\n",
      "epoch: 200 loss:0.142763 auc:0.9886\n"
     ]
    },
    {
     "name": "stderr",
     "output_type": "stream",
     "text": [
      " 64%|██████▎   | 579/910 [1:26:48<37:19,  6.77s/it]"
     ]
    },
    {
     "name": "stdout",
     "output_type": "stream",
     "text": [
      "epoch: 220 loss:0.141765 auc:0.9781\n",
      "Fit finished.\n",
      "epoch:   0 loss:0.620647 auc:0.2857\n",
      "epoch:  20 loss:0.234457 auc:0.9987\n",
      "epoch:  40 loss:0.183513 auc:0.9987\n",
      "epoch:  60 loss:0.171650 auc:1.0000\n",
      "epoch:  80 loss:0.162571 auc:0.9987\n",
      "epoch: 100 loss:0.151117 auc:0.9987\n",
      "epoch: 120 loss:0.146628 auc:0.9987\n",
      "epoch: 140 loss:0.146166 auc:0.9987\n",
      "epoch: 160 loss:0.141678 auc:0.9974\n"
     ]
    },
    {
     "name": "stderr",
     "output_type": "stream",
     "text": [
      " 64%|██████▎   | 580/910 [1:26:53<35:21,  6.43s/it]"
     ]
    },
    {
     "name": "stdout",
     "output_type": "stream",
     "text": [
      "epoch: 180 loss:0.141234 auc:0.9936\n",
      "Fit finished.\n",
      "epoch:   0 loss:0.629617 auc:0.5156\n",
      "epoch:  20 loss:0.262463 auc:0.9644\n",
      "epoch:  40 loss:0.191899 auc:0.9778\n",
      "epoch:  60 loss:0.174561 auc:0.9733\n",
      "epoch:  80 loss:0.163709 auc:0.9733\n",
      "epoch: 100 loss:0.153157 auc:0.9733\n",
      "epoch: 120 loss:0.148205 auc:0.9733\n",
      "epoch: 140 loss:0.145933 auc:0.9733\n",
      "epoch: 160 loss:0.143902 auc:0.9733\n",
      "epoch: 180 loss:0.142121 auc:0.9733\n",
      "epoch: 200 loss:0.140847 auc:0.9822\n",
      "epoch: 220 loss:0.138950 auc:0.9867\n",
      "epoch: 240 loss:0.137099 auc:0.9911\n",
      "epoch: 260 loss:0.136273 auc:0.9867\n",
      "epoch: 280 loss:0.133909 auc:0.9911\n",
      "epoch: 300 loss:0.135008 auc:0.9956\n",
      "epoch: 320 loss:0.132736 auc:0.9867\n",
      "epoch: 340 loss:0.129967 auc:0.9911\n",
      "epoch: 360 loss:0.128328 auc:0.9911\n",
      "epoch: 380 loss:0.127155 auc:0.9911\n"
     ]
    },
    {
     "name": "stderr",
     "output_type": "stream",
     "text": [
      " 64%|██████▍   | 582/910 [1:27:05<33:36,  6.15s/it]"
     ]
    },
    {
     "name": "stdout",
     "output_type": "stream",
     "text": [
      "epoch: 400 loss:0.127965 auc:0.9867\n",
      "Fit finished.\n",
      "epoch:   0 loss:0.971722 auc:0.2673\n",
      "epoch:  20 loss:0.290017 auc:0.9420\n",
      "epoch:  40 loss:0.222219 auc:0.9732\n",
      "epoch:  60 loss:0.184219 auc:0.9706\n",
      "epoch:  80 loss:0.172285 auc:0.9706\n",
      "epoch: 100 loss:0.163916 auc:0.9706\n",
      "epoch: 120 loss:0.154132 auc:0.9689\n",
      "epoch: 140 loss:0.149064 auc:0.9697\n",
      "epoch: 160 loss:0.146481 auc:0.9697\n",
      "epoch: 180 loss:0.144973 auc:0.9706\n"
     ]
    },
    {
     "name": "stderr",
     "output_type": "stream",
     "text": [
      " 64%|██████▍   | 583/910 [1:27:12<33:56,  6.23s/it]"
     ]
    },
    {
     "name": "stdout",
     "output_type": "stream",
     "text": [
      "epoch: 200 loss:0.143264 auc:0.9706\n",
      "Fit finished.\n",
      "epoch:   0 loss:1.583920 auc:0.6621\n",
      "epoch:  20 loss:0.273114 auc:0.9796\n",
      "epoch:  40 loss:0.205770 auc:0.9819\n",
      "epoch:  60 loss:0.179255 auc:0.9841\n",
      "epoch:  80 loss:0.168877 auc:0.9841\n",
      "epoch: 100 loss:0.158520 auc:0.9841\n",
      "epoch: 120 loss:0.149634 auc:0.9841\n",
      "epoch: 140 loss:0.146659 auc:0.9841\n",
      "epoch: 160 loss:0.145992 auc:0.9841\n",
      "epoch: 180 loss:0.143973 auc:0.9841\n",
      "epoch: 200 loss:0.142307 auc:0.9841\n",
      "epoch: 220 loss:0.141151 auc:0.9841\n",
      "epoch: 240 loss:0.139815 auc:0.9841\n"
     ]
    },
    {
     "name": "stderr",
     "output_type": "stream",
     "text": [
      " 65%|██████▍   | 588/910 [1:27:19<17:19,  3.23s/it]"
     ]
    },
    {
     "name": "stdout",
     "output_type": "stream",
     "text": [
      "epoch: 260 loss:0.138533 auc:0.9773\n",
      "Fit finished.\n",
      "epoch:   0 loss:0.701833 auc:0.6435\n",
      "epoch:  20 loss:0.270157 auc:0.9364\n",
      "epoch:  40 loss:0.194852 auc:0.9556\n",
      "epoch:  60 loss:0.179264 auc:0.9556\n",
      "epoch:  80 loss:0.170154 auc:0.9527\n",
      "epoch: 100 loss:0.161721 auc:0.9556\n",
      "epoch: 120 loss:0.150850 auc:0.9541\n",
      "epoch: 140 loss:0.147127 auc:0.9541\n",
      "epoch: 160 loss:0.145548 auc:0.9556\n",
      "epoch: 180 loss:0.143373 auc:0.9571\n",
      "epoch: 200 loss:0.141793 auc:0.9615\n",
      "epoch: 220 loss:0.142536 auc:0.9615\n",
      "epoch: 240 loss:0.138811 auc:0.9586\n"
     ]
    },
    {
     "name": "stderr",
     "output_type": "stream",
     "text": [
      " 65%|██████▍   | 589/910 [1:27:27<20:45,  3.88s/it]"
     ]
    },
    {
     "name": "stdout",
     "output_type": "stream",
     "text": [
      "epoch: 260 loss:0.136998 auc:0.9393\n",
      "Fit finished.\n",
      "epoch:   0 loss:0.487822 auc:0.1570\n",
      "epoch:  20 loss:0.266917 auc:0.9835\n",
      "epoch:  40 loss:0.197100 auc:0.9752\n",
      "epoch:  60 loss:0.177980 auc:0.9835\n",
      "epoch:  80 loss:0.167565 auc:0.9835\n",
      "epoch: 100 loss:0.155283 auc:0.9835\n",
      "epoch: 120 loss:0.147906 auc:0.9835\n",
      "epoch: 140 loss:0.146696 auc:0.9835\n",
      "epoch: 160 loss:0.142901 auc:0.9835\n",
      "epoch: 180 loss:0.141539 auc:0.9835\n",
      "epoch: 200 loss:0.139075 auc:0.9835\n",
      "epoch: 220 loss:0.136746 auc:1.0000\n",
      "epoch: 240 loss:0.135236 auc:1.0000\n",
      "epoch: 260 loss:0.133455 auc:1.0000\n",
      "epoch: 280 loss:0.131876 auc:1.0000\n",
      "epoch: 300 loss:0.129934 auc:1.0000\n",
      "epoch: 320 loss:0.128498 auc:1.0000\n",
      "epoch: 340 loss:0.127053 auc:0.9917\n",
      "epoch: 360 loss:0.126291 auc:1.0000\n",
      "epoch: 380 loss:0.123810 auc:1.0000\n",
      "epoch: 400 loss:0.121835 auc:1.0000\n",
      "epoch: 420 loss:0.121946 auc:1.0000\n",
      "epoch: 440 loss:0.121815 auc:1.0000\n"
     ]
    },
    {
     "name": "stderr",
     "output_type": "stream",
     "text": [
      " 65%|██████▍   | 590/910 [1:27:41<31:00,  5.81s/it]"
     ]
    },
    {
     "name": "stdout",
     "output_type": "stream",
     "text": [
      "epoch: 460 loss:0.146538 auc:0.9835\n",
      "Fit finished.\n",
      "epoch:   0 loss:0.726857 auc:0.5090\n",
      "epoch:  20 loss:0.283790 auc:0.9206\n",
      "epoch:  40 loss:0.199997 auc:0.9201\n",
      "epoch:  60 loss:0.178362 auc:0.9216\n",
      "epoch:  80 loss:0.169699 auc:0.9234\n",
      "epoch: 100 loss:0.161146 auc:0.9263\n",
      "epoch: 120 loss:0.150893 auc:0.9329\n",
      "epoch: 140 loss:0.147278 auc:0.9423\n",
      "epoch: 160 loss:0.145392 auc:0.9457\n",
      "epoch: 180 loss:0.143053 auc:0.9485\n",
      "epoch: 200 loss:0.140800 auc:0.9494\n"
     ]
    },
    {
     "name": "stderr",
     "output_type": "stream",
     "text": [
      " 65%|██████▍   | 591/910 [1:27:48<31:32,  5.93s/it]"
     ]
    },
    {
     "name": "stdout",
     "output_type": "stream",
     "text": [
      "epoch: 220 loss:0.138625 auc:0.9112\n",
      "Fit finished.\n",
      "epoch:   0 loss:0.819082 auc:0.4559\n",
      "epoch:  20 loss:0.261474 auc:0.9905\n",
      "epoch:  40 loss:0.189941 auc:0.9905\n",
      "epoch:  60 loss:0.173084 auc:0.9922\n",
      "epoch:  80 loss:0.162151 auc:0.9931\n",
      "epoch: 100 loss:0.151617 auc:0.9922\n",
      "epoch: 120 loss:0.148086 auc:0.9922\n",
      "epoch: 140 loss:0.145684 auc:0.9905\n",
      "epoch: 160 loss:0.143696 auc:0.9905\n"
     ]
    },
    {
     "name": "stderr",
     "output_type": "stream",
     "text": [
      " 65%|██████▌   | 592/910 [1:27:53<31:18,  5.91s/it]"
     ]
    },
    {
     "name": "stdout",
     "output_type": "stream",
     "text": [
      "epoch: 180 loss:0.143087 auc:0.9896\n",
      "Fit finished.\n",
      "epoch:   0 loss:1.322744 auc:0.7356\n",
      "epoch:  20 loss:0.285743 auc:0.8869\n",
      "epoch:  40 loss:0.216456 auc:0.8931\n",
      "epoch:  60 loss:0.184374 auc:0.8962\n",
      "epoch:  80 loss:0.172825 auc:0.8938\n",
      "epoch: 100 loss:0.164610 auc:0.8950\n",
      "epoch: 120 loss:0.154469 auc:0.8950\n",
      "epoch: 140 loss:0.148832 auc:0.8938\n",
      "epoch: 160 loss:0.146370 auc:0.8925\n",
      "epoch: 180 loss:0.145045 auc:0.8919\n",
      "epoch: 200 loss:0.143394 auc:0.8969\n",
      "epoch: 220 loss:0.142554 auc:0.8994\n",
      "epoch: 240 loss:0.140709 auc:0.9050\n",
      "epoch: 260 loss:0.140501 auc:0.9069\n",
      "epoch: 280 loss:0.137321 auc:0.9144\n",
      "epoch: 300 loss:0.136158 auc:0.9237\n",
      "epoch: 320 loss:0.135220 auc:0.9263\n",
      "epoch: 340 loss:0.134692 auc:0.9269\n",
      "epoch: 360 loss:0.137805 auc:0.9225\n",
      "epoch: 380 loss:0.132881 auc:0.9306\n",
      "epoch: 400 loss:0.130852 auc:0.9300\n",
      "epoch: 420 loss:0.130489 auc:0.9288\n",
      "epoch: 440 loss:0.128089 auc:0.9294\n",
      "epoch: 460 loss:0.128648 auc:0.9325\n"
     ]
    },
    {
     "name": "stderr",
     "output_type": "stream",
     "text": [
      " 65%|██████▌   | 593/910 [1:28:08<42:26,  8.03s/it]"
     ]
    },
    {
     "name": "stdout",
     "output_type": "stream",
     "text": [
      "epoch: 480 loss:0.125779 auc:0.9138\n",
      "Fit finished.\n",
      "epoch:   0 loss:1.011281 auc:0.7449\n",
      "epoch:  20 loss:0.282954 auc:0.9694\n",
      "epoch:  40 loss:0.213638 auc:0.9745\n",
      "epoch:  60 loss:0.183317 auc:0.9745\n",
      "epoch:  80 loss:0.174549 auc:0.9745\n",
      "epoch: 100 loss:0.168540 auc:0.9745\n",
      "epoch: 120 loss:0.161255 auc:0.9745\n",
      "epoch: 140 loss:0.152072 auc:0.9745\n",
      "epoch: 160 loss:0.147946 auc:0.9745\n",
      "epoch: 180 loss:0.145820 auc:0.9745\n",
      "epoch: 200 loss:0.144210 auc:0.9745\n",
      "epoch: 220 loss:0.143524 auc:0.9745\n",
      "epoch: 240 loss:0.141274 auc:0.9745\n"
     ]
    },
    {
     "name": "stderr",
     "output_type": "stream",
     "text": [
      " 65%|██████▌   | 594/910 [1:28:16<42:06,  8.00s/it]"
     ]
    },
    {
     "name": "stdout",
     "output_type": "stream",
     "text": [
      "epoch: 260 loss:0.140559 auc:0.9694\n",
      "Fit finished.\n",
      "epoch:   0 loss:0.623658 auc:0.4867\n",
      "epoch:  20 loss:0.247564 auc:0.9837\n",
      "epoch:  40 loss:0.186418 auc:0.9896\n",
      "epoch:  60 loss:0.171574 auc:0.9882\n",
      "epoch:  80 loss:0.162866 auc:0.9882\n",
      "epoch: 100 loss:0.150582 auc:0.9882\n",
      "epoch: 120 loss:0.146995 auc:0.9882\n",
      "epoch: 140 loss:0.145510 auc:0.9911\n",
      "epoch: 160 loss:0.142888 auc:0.9911\n",
      "epoch: 180 loss:0.140711 auc:0.9956\n",
      "epoch: 200 loss:0.137994 auc:0.9985\n",
      "epoch: 220 loss:0.136894 auc:0.9970\n",
      "epoch: 240 loss:0.137179 auc:0.9970\n",
      "epoch: 260 loss:0.133396 auc:0.9985\n",
      "epoch: 280 loss:0.137055 auc:0.9956\n",
      "epoch: 300 loss:0.129950 auc:0.9985\n",
      "epoch: 320 loss:0.130573 auc:0.9985\n"
     ]
    },
    {
     "name": "stderr",
     "output_type": "stream",
     "text": [
      " 65%|██████▌   | 595/910 [1:28:27<45:41,  8.70s/it]"
     ]
    },
    {
     "name": "stdout",
     "output_type": "stream",
     "text": [
      "epoch: 340 loss:0.127253 auc:0.9941\n",
      "Fit finished.\n",
      "epoch:   0 loss:0.687671 auc:0.8281\n",
      "epoch:  20 loss:0.279548 auc:0.9833\n",
      "epoch:  40 loss:0.198850 auc:0.9816\n",
      "epoch:  60 loss:0.177082 auc:0.9792\n",
      "epoch:  80 loss:0.167251 auc:0.9816\n",
      "epoch: 100 loss:0.157055 auc:0.9827\n",
      "epoch: 120 loss:0.149390 auc:0.9816\n",
      "epoch: 140 loss:0.146463 auc:0.9792\n",
      "epoch: 160 loss:0.144606 auc:0.9792\n"
     ]
    },
    {
     "name": "stderr",
     "output_type": "stream",
     "text": [
      " 66%|██████▌   | 597/910 [1:28:32<32:13,  6.18s/it]"
     ]
    },
    {
     "name": "stdout",
     "output_type": "stream",
     "text": [
      "epoch: 180 loss:0.142855 auc:0.9780\n",
      "Fit finished.\n",
      "epoch:   0 loss:0.618350 auc:0.1154\n",
      "epoch:  20 loss:0.233313 auc:0.9453\n",
      "epoch:  40 loss:0.182227 auc:0.9497\n",
      "epoch:  60 loss:0.171425 auc:0.9512\n",
      "epoch:  80 loss:0.162214 auc:0.9512\n",
      "epoch: 100 loss:0.149968 auc:0.9512\n",
      "epoch: 120 loss:0.147794 auc:0.9512\n",
      "epoch: 140 loss:0.144346 auc:0.9512\n",
      "epoch: 160 loss:0.142434 auc:0.9349\n"
     ]
    },
    {
     "name": "stderr",
     "output_type": "stream",
     "text": [
      " 66%|██████▌   | 598/910 [1:28:38<31:14,  6.01s/it]"
     ]
    },
    {
     "name": "stdout",
     "output_type": "stream",
     "text": [
      "epoch: 180 loss:0.139908 auc:0.8757\n",
      "Fit finished.\n",
      "epoch:   0 loss:0.697435 auc:0.5458\n",
      "epoch:  20 loss:0.265849 auc:0.9834\n",
      "epoch:  40 loss:0.193700 auc:0.9857\n",
      "epoch:  60 loss:0.174986 auc:0.9834\n",
      "epoch:  80 loss:0.165032 auc:0.9822\n",
      "epoch: 100 loss:0.153887 auc:0.9798\n",
      "epoch: 120 loss:0.148531 auc:0.9810\n",
      "epoch: 140 loss:0.146036 auc:0.9798\n",
      "epoch: 160 loss:0.144519 auc:0.9810\n"
     ]
    },
    {
     "name": "stderr",
     "output_type": "stream",
     "text": [
      " 66%|██████▌   | 599/910 [1:28:44<30:45,  5.93s/it]"
     ]
    },
    {
     "name": "stdout",
     "output_type": "stream",
     "text": [
      "epoch: 180 loss:0.142398 auc:0.9822\n",
      "Fit finished.\n",
      "epoch:   0 loss:0.701680 auc:0.3696\n",
      "epoch:  20 loss:0.273006 auc:0.9909\n",
      "epoch:  40 loss:0.193614 auc:1.0000\n",
      "epoch:  60 loss:0.174840 auc:1.0000\n",
      "epoch:  80 loss:0.163876 auc:1.0000\n",
      "epoch: 100 loss:0.152149 auc:1.0000\n",
      "epoch: 120 loss:0.147323 auc:1.0000\n",
      "epoch: 140 loss:0.144970 auc:1.0000\n",
      "epoch: 160 loss:0.143043 auc:1.0000\n",
      "epoch: 180 loss:0.141405 auc:1.0000\n",
      "epoch: 200 loss:0.139451 auc:1.0000\n",
      "epoch: 220 loss:0.138336 auc:1.0000\n",
      "epoch: 240 loss:0.137534 auc:1.0000\n",
      "epoch: 260 loss:0.135258 auc:1.0000\n",
      "epoch: 280 loss:0.133352 auc:1.0000\n",
      "epoch: 300 loss:0.133761 auc:1.0000\n",
      "epoch: 320 loss:0.134468 auc:1.0000\n",
      "epoch: 340 loss:0.129911 auc:1.0000\n",
      "epoch: 360 loss:0.128586 auc:1.0000\n",
      "epoch: 380 loss:0.126097 auc:1.0000\n",
      "epoch: 400 loss:0.128396 auc:1.0000\n",
      "epoch: 420 loss:0.124920 auc:1.0000\n",
      "epoch: 440 loss:0.122386 auc:1.0000\n",
      "epoch: 460 loss:0.120606 auc:1.0000\n",
      "epoch: 480 loss:0.120196 auc:1.0000\n",
      "epoch: 500 loss:0.119269 auc:1.0000\n",
      "epoch: 520 loss:0.134354 auc:1.0000\n",
      "epoch: 540 loss:0.119507 auc:1.0000\n",
      "epoch: 560 loss:0.116503 auc:1.0000\n",
      "epoch: 580 loss:0.115273 auc:1.0000\n",
      "epoch: 600 loss:0.114385 auc:1.0000\n",
      "epoch: 620 loss:0.113580 auc:1.0000\n",
      "epoch: 640 loss:0.113378 auc:1.0000\n",
      "epoch: 660 loss:0.112530 auc:1.0000\n",
      "epoch: 680 loss:0.113083 auc:1.0000\n",
      "epoch: 700 loss:0.111747 auc:1.0000\n",
      "epoch: 720 loss:0.110802 auc:1.0000\n",
      "epoch: 740 loss:0.110671 auc:1.0000\n",
      "epoch: 760 loss:0.110938 auc:1.0000\n",
      "epoch: 780 loss:0.109987 auc:1.0000\n",
      "epoch: 800 loss:0.109307 auc:1.0000\n",
      "epoch: 820 loss:0.108784 auc:1.0000\n",
      "epoch: 840 loss:0.109241 auc:1.0000\n",
      "epoch: 860 loss:0.108073 auc:1.0000\n",
      "epoch: 880 loss:0.108061 auc:1.0000\n",
      "epoch: 900 loss:0.108309 auc:1.0000\n",
      "epoch: 920 loss:0.109027 auc:1.0000\n",
      "epoch: 940 loss:0.111162 auc:1.0000\n",
      "epoch: 960 loss:0.107959 auc:1.0000\n",
      "epoch: 980 loss:0.106747 auc:1.0000\n"
     ]
    },
    {
     "name": "stderr",
     "output_type": "stream",
     "text": [
      " 66%|██████▌   | 600/910 [1:29:13<1:02:31, 12.10s/it]"
     ]
    },
    {
     "name": "stdout",
     "output_type": "stream",
     "text": [
      "Fit finished.\n",
      "epoch:   0 loss:0.626595 auc:0.4992\n",
      "epoch:  20 loss:0.252053 auc:0.9638\n",
      "epoch:  40 loss:0.186327 auc:0.9708\n",
      "epoch:  60 loss:0.174196 auc:0.9692\n",
      "epoch:  80 loss:0.167504 auc:0.9686\n",
      "epoch: 100 loss:0.158890 auc:0.9686\n",
      "epoch: 120 loss:0.149935 auc:0.9676\n",
      "epoch: 140 loss:0.146609 auc:0.9681\n",
      "epoch: 160 loss:0.144086 auc:0.9676\n"
     ]
    },
    {
     "name": "stderr",
     "output_type": "stream",
     "text": [
      " 66%|██████▌   | 601/910 [1:29:18<52:53, 10.27s/it]  "
     ]
    },
    {
     "name": "stdout",
     "output_type": "stream",
     "text": [
      "epoch: 180 loss:0.142293 auc:0.9600\n",
      "Fit finished.\n",
      "epoch:   0 loss:1.026762 auc:0.3765\n",
      "epoch:  20 loss:0.291033 auc:0.9318\n",
      "epoch:  40 loss:0.226117 auc:0.9452\n",
      "epoch:  60 loss:0.184007 auc:0.9463\n",
      "epoch:  80 loss:0.169081 auc:0.9468\n",
      "epoch: 100 loss:0.158269 auc:0.9468\n",
      "epoch: 120 loss:0.150790 auc:0.9463\n",
      "epoch: 140 loss:0.147738 auc:0.9452\n",
      "epoch: 160 loss:0.145668 auc:0.9447\n",
      "epoch: 180 loss:0.144335 auc:0.9432\n"
     ]
    },
    {
     "name": "stderr",
     "output_type": "stream",
     "text": [
      " 66%|██████▌   | 602/910 [1:29:24<46:27,  9.05s/it]"
     ]
    },
    {
     "name": "stdout",
     "output_type": "stream",
     "text": [
      "epoch: 200 loss:0.143033 auc:0.9401\n",
      "Fit finished.\n",
      "epoch:   0 loss:0.733917 auc:0.1994\n",
      "epoch:  20 loss:0.254293 auc:0.9917\n",
      "epoch:  40 loss:0.188033 auc:0.9917\n",
      "epoch:  60 loss:0.173994 auc:0.9917\n",
      "epoch:  80 loss:0.164513 auc:0.9917\n",
      "epoch: 100 loss:0.154385 auc:0.9917\n",
      "epoch: 120 loss:0.148768 auc:0.9917\n",
      "epoch: 140 loss:0.146121 auc:0.9917\n",
      "epoch: 160 loss:0.148246 auc:0.9917\n",
      "epoch: 180 loss:0.143808 auc:0.9917\n",
      "epoch: 200 loss:0.141076 auc:0.9917\n",
      "epoch: 220 loss:0.139114 auc:0.9917\n",
      "epoch: 240 loss:0.137412 auc:0.9945\n",
      "epoch: 260 loss:0.136000 auc:0.9945\n",
      "epoch: 280 loss:0.135320 auc:0.9945\n",
      "epoch: 300 loss:0.133759 auc:0.9945\n",
      "epoch: 320 loss:0.132657 auc:0.9945\n",
      "epoch: 340 loss:0.131992 auc:0.9945\n",
      "epoch: 360 loss:0.129001 auc:0.9945\n",
      "epoch: 380 loss:0.127928 auc:0.9917\n",
      "epoch: 400 loss:0.130023 auc:0.9945\n"
     ]
    },
    {
     "name": "stderr",
     "output_type": "stream",
     "text": [
      " 66%|██████▋   | 603/910 [1:29:37<51:41, 10.10s/it]"
     ]
    },
    {
     "name": "stdout",
     "output_type": "stream",
     "text": [
      "epoch: 420 loss:0.124498 auc:0.9917\n",
      "Fit finished.\n",
      "epoch:   0 loss:0.399700 auc:0.8796\n",
      "epoch:  20 loss:0.221537 auc:0.9352\n",
      "epoch:  40 loss:0.176480 auc:0.9630\n",
      "epoch:  60 loss:0.161664 auc:0.9599\n",
      "epoch:  80 loss:0.150870 auc:0.9599\n",
      "epoch: 100 loss:0.146642 auc:0.9568\n",
      "epoch: 120 loss:0.144130 auc:0.9568\n",
      "epoch: 140 loss:0.142107 auc:0.9537\n",
      "epoch: 160 loss:0.140666 auc:0.9506\n"
     ]
    },
    {
     "name": "stderr",
     "output_type": "stream",
     "text": [
      " 66%|██████▋   | 604/910 [1:29:43<44:56,  8.81s/it]"
     ]
    },
    {
     "name": "stdout",
     "output_type": "stream",
     "text": [
      "epoch: 180 loss:0.137324 auc:0.9105\n",
      "Fit finished.\n",
      "epoch:   0 loss:0.698035 auc:0.2360\n",
      "epoch:  20 loss:0.235408 auc:0.9707\n",
      "epoch:  40 loss:0.182658 auc:0.9668\n",
      "epoch:  60 loss:0.168580 auc:0.9694\n",
      "epoch:  80 loss:0.156178 auc:0.9656\n",
      "epoch: 100 loss:0.148862 auc:0.9656\n",
      "epoch: 120 loss:0.146115 auc:0.9643\n",
      "epoch: 140 loss:0.143773 auc:0.9643\n",
      "epoch: 160 loss:0.142336 auc:0.9605\n"
     ]
    },
    {
     "name": "stderr",
     "output_type": "stream",
     "text": [
      " 66%|██████▋   | 605/910 [1:29:48<40:18,  7.93s/it]"
     ]
    },
    {
     "name": "stdout",
     "output_type": "stream",
     "text": [
      "epoch: 180 loss:0.139642 auc:0.9528\n",
      "Fit finished.\n",
      "epoch:   0 loss:0.510080 auc:0.3775\n",
      "epoch:  20 loss:0.227606 auc:0.9600\n",
      "epoch:  40 loss:0.181050 auc:0.9950\n",
      "epoch:  60 loss:0.169936 auc:0.9950\n",
      "epoch:  80 loss:0.159997 auc:0.9950\n",
      "epoch: 100 loss:0.149773 auc:0.9950\n",
      "epoch: 120 loss:0.146180 auc:0.9975\n",
      "epoch: 140 loss:0.143979 auc:0.9975\n",
      "epoch: 160 loss:0.140277 auc:0.9975\n",
      "epoch: 180 loss:0.137943 auc:0.9950\n"
     ]
    },
    {
     "name": "stderr",
     "output_type": "stream",
     "text": [
      " 67%|██████▋   | 606/910 [1:29:55<38:08,  7.53s/it]"
     ]
    },
    {
     "name": "stdout",
     "output_type": "stream",
     "text": [
      "epoch: 200 loss:0.136543 auc:0.9900\n",
      "Fit finished.\n",
      "epoch:   0 loss:1.261256 auc:0.5864\n",
      "epoch:  20 loss:0.286127 auc:0.9938\n",
      "epoch:  40 loss:0.228797 auc:0.9969\n",
      "epoch:  60 loss:0.185057 auc:0.9969\n",
      "epoch:  80 loss:0.171741 auc:0.9969\n",
      "epoch: 100 loss:0.161896 auc:0.9969\n",
      "epoch: 120 loss:0.152507 auc:0.9969\n",
      "epoch: 140 loss:0.148627 auc:0.9969\n",
      "epoch: 160 loss:0.146487 auc:0.9969\n",
      "epoch: 180 loss:0.144865 auc:0.9969\n",
      "epoch: 200 loss:0.144088 auc:1.0000\n",
      "epoch: 220 loss:0.142173 auc:1.0000\n",
      "epoch: 240 loss:0.142146 auc:1.0000\n",
      "epoch: 260 loss:0.139128 auc:1.0000\n",
      "epoch: 280 loss:0.137680 auc:1.0000\n",
      "epoch: 300 loss:0.136508 auc:1.0000\n",
      "epoch: 320 loss:0.135305 auc:1.0000\n",
      "epoch: 340 loss:0.135639 auc:1.0000\n",
      "epoch: 360 loss:0.133231 auc:1.0000\n",
      "epoch: 380 loss:0.132712 auc:1.0000\n"
     ]
    },
    {
     "name": "stderr",
     "output_type": "stream",
     "text": [
      " 67%|██████▋   | 607/910 [1:30:06<44:07,  8.74s/it]"
     ]
    },
    {
     "name": "stdout",
     "output_type": "stream",
     "text": [
      "epoch: 400 loss:0.130911 auc:0.9907\n",
      "Fit finished.\n",
      "epoch:   0 loss:0.526674 auc:0.7580\n",
      "epoch:  20 loss:0.262551 auc:0.9565\n",
      "epoch:  40 loss:0.191301 auc:0.9792\n",
      "epoch:  60 loss:0.176024 auc:0.9811\n",
      "epoch:  80 loss:0.167542 auc:0.9811\n",
      "epoch: 100 loss:0.159016 auc:0.9811\n",
      "epoch: 120 loss:0.150162 auc:0.9811\n",
      "epoch: 140 loss:0.147211 auc:0.9811\n",
      "epoch: 160 loss:0.145264 auc:0.9811\n",
      "epoch: 180 loss:0.143676 auc:0.9811\n",
      "epoch: 200 loss:0.146478 auc:0.9830\n",
      "epoch: 220 loss:0.141243 auc:0.9849\n",
      "epoch: 240 loss:0.139320 auc:0.9868\n"
     ]
    },
    {
     "name": "stderr",
     "output_type": "stream",
     "text": [
      " 67%|██████▋   | 608/910 [1:30:14<41:40,  8.28s/it]"
     ]
    },
    {
     "name": "stdout",
     "output_type": "stream",
     "text": [
      "epoch: 260 loss:0.138746 auc:0.9735\n",
      "Fit finished.\n",
      "epoch:   0 loss:0.665001 auc:0.1928\n",
      "epoch:  20 loss:0.234619 auc:0.9431\n",
      "epoch:  40 loss:0.183155 auc:0.9449\n",
      "epoch:  60 loss:0.170746 auc:0.9458\n",
      "epoch:  80 loss:0.159906 auc:0.9431\n",
      "epoch: 100 loss:0.149721 auc:0.9431\n",
      "epoch: 120 loss:0.146252 auc:0.9431\n",
      "epoch: 140 loss:0.144742 auc:0.9431\n",
      "epoch: 160 loss:0.141543 auc:0.9155\n"
     ]
    },
    {
     "name": "stderr",
     "output_type": "stream",
     "text": [
      " 67%|██████▋   | 609/910 [1:30:19<37:48,  7.54s/it]"
     ]
    },
    {
     "name": "stdout",
     "output_type": "stream",
     "text": [
      "epoch: 180 loss:0.140951 auc:0.8457\n",
      "Fit finished.\n",
      "epoch:   0 loss:0.821608 auc:0.3778\n",
      "epoch:  20 loss:0.264073 auc:0.9467\n",
      "epoch:  40 loss:0.191460 auc:0.9489\n",
      "epoch:  60 loss:0.176600 auc:0.9522\n",
      "epoch:  80 loss:0.167997 auc:0.9544\n",
      "epoch: 100 loss:0.159544 auc:0.9511\n",
      "epoch: 120 loss:0.150351 auc:0.9522\n",
      "epoch: 140 loss:0.147151 auc:0.9544\n",
      "epoch: 160 loss:0.145192 auc:0.9544\n",
      "epoch: 180 loss:0.143440 auc:0.9567\n",
      "epoch: 200 loss:0.145141 auc:0.9544\n"
     ]
    },
    {
     "name": "stderr",
     "output_type": "stream",
     "text": [
      " 67%|██████▋   | 610/910 [1:30:26<35:40,  7.13s/it]"
     ]
    },
    {
     "name": "stdout",
     "output_type": "stream",
     "text": [
      "epoch: 220 loss:0.139889 auc:0.9278\n",
      "Fit finished.\n",
      "epoch:   0 loss:1.106289 auc:0.7037\n",
      "epoch:  20 loss:0.280754 auc:0.9043\n",
      "epoch:  40 loss:0.206232 auc:0.9321\n",
      "epoch:  60 loss:0.180748 auc:0.9321\n",
      "epoch:  80 loss:0.171389 auc:0.9352\n",
      "epoch: 100 loss:0.164315 auc:0.9383\n",
      "epoch: 120 loss:0.155672 auc:0.9383\n",
      "epoch: 140 loss:0.149033 auc:0.9352\n",
      "epoch: 160 loss:0.146230 auc:0.9383\n",
      "epoch: 180 loss:0.144161 auc:0.9383\n",
      "epoch: 200 loss:0.142839 auc:0.9383\n",
      "epoch: 220 loss:0.140696 auc:0.9414\n",
      "epoch: 240 loss:0.139403 auc:0.9444\n",
      "epoch: 260 loss:0.137433 auc:0.9568\n",
      "epoch: 280 loss:0.137484 auc:0.9599\n",
      "epoch: 300 loss:0.135500 auc:0.9599\n",
      "epoch: 320 loss:0.134461 auc:0.9660\n",
      "epoch: 340 loss:0.136506 auc:0.9660\n",
      "epoch: 360 loss:0.132815 auc:0.9660\n",
      "epoch: 380 loss:0.134054 auc:0.9630\n",
      "epoch: 400 loss:0.131574 auc:0.9537\n",
      "epoch: 420 loss:0.133182 auc:0.9568\n"
     ]
    },
    {
     "name": "stderr",
     "output_type": "stream",
     "text": [
      " 67%|██████▋   | 611/910 [1:30:39<44:34,  8.94s/it]"
     ]
    },
    {
     "name": "stdout",
     "output_type": "stream",
     "text": [
      "epoch: 440 loss:0.128272 auc:0.9568\n",
      "Fit finished.\n",
      "epoch:   0 loss:0.857699 auc:0.8816\n",
      "epoch:  20 loss:0.278009 auc:0.9872\n",
      "epoch:  40 loss:0.208795 auc:0.9952\n",
      "epoch:  60 loss:0.182608 auc:0.9936\n",
      "epoch:  80 loss:0.171722 auc:0.9952\n",
      "epoch: 100 loss:0.163174 auc:0.9952\n",
      "epoch: 120 loss:0.153938 auc:0.9952\n",
      "epoch: 140 loss:0.148627 auc:0.9952\n",
      "epoch: 160 loss:0.146658 auc:0.9952\n",
      "epoch: 180 loss:0.144722 auc:0.9952\n",
      "epoch: 200 loss:0.143294 auc:0.9952\n",
      "epoch: 220 loss:0.142564 auc:0.9952\n",
      "epoch: 240 loss:0.140651 auc:0.9968\n",
      "epoch: 260 loss:0.138462 auc:0.9952\n"
     ]
    },
    {
     "name": "stderr",
     "output_type": "stream",
     "text": [
      " 67%|██████▋   | 612/910 [1:30:48<44:40,  8.99s/it]"
     ]
    },
    {
     "name": "stdout",
     "output_type": "stream",
     "text": [
      "epoch: 280 loss:0.136739 auc:0.9920\n",
      "Fit finished.\n",
      "epoch:   0 loss:1.094621 auc:0.4260\n",
      "epoch:  20 loss:0.288060 auc:0.9719\n",
      "epoch:  40 loss:0.224883 auc:0.9704\n",
      "epoch:  60 loss:0.186036 auc:0.9704\n",
      "epoch:  80 loss:0.171969 auc:0.9719\n",
      "epoch: 100 loss:0.161067 auc:0.9704\n",
      "epoch: 120 loss:0.151680 auc:0.9704\n",
      "epoch: 140 loss:0.148100 auc:0.9689\n",
      "epoch: 160 loss:0.145832 auc:0.9704\n"
     ]
    },
    {
     "name": "stderr",
     "output_type": "stream",
     "text": [
      " 67%|██████▋   | 613/910 [1:30:54<40:18,  8.14s/it]"
     ]
    },
    {
     "name": "stdout",
     "output_type": "stream",
     "text": [
      "epoch: 180 loss:0.144304 auc:0.9704\n",
      "Fit finished.\n",
      "epoch:   0 loss:1.284442 auc:0.1913\n",
      "epoch:  20 loss:0.279729 auc:0.9783\n",
      "epoch:  40 loss:0.214151 auc:0.9821\n",
      "epoch:  60 loss:0.182669 auc:0.9796\n",
      "epoch:  80 loss:0.170354 auc:0.9796\n",
      "epoch: 100 loss:0.161279 auc:0.9809\n",
      "epoch: 120 loss:0.152046 auc:0.9796\n",
      "epoch: 140 loss:0.148190 auc:0.9809\n",
      "epoch: 160 loss:0.146058 auc:0.9796\n",
      "epoch: 180 loss:0.144550 auc:0.9796\n"
     ]
    },
    {
     "name": "stderr",
     "output_type": "stream",
     "text": [
      " 67%|██████▋   | 614/910 [1:31:00<36:51,  7.47s/it]"
     ]
    },
    {
     "name": "stdout",
     "output_type": "stream",
     "text": [
      "epoch: 200 loss:0.143347 auc:0.9809\n",
      "Fit finished.\n",
      "epoch:   0 loss:0.662690 auc:0.3802\n",
      "epoch:  20 loss:0.274138 auc:0.9551\n",
      "epoch:  40 loss:0.198795 auc:0.9578\n",
      "epoch:  60 loss:0.178694 auc:0.9605\n",
      "epoch:  80 loss:0.168523 auc:0.9632\n",
      "epoch: 100 loss:0.158144 auc:0.9632\n",
      "epoch: 120 loss:0.149678 auc:0.9600\n",
      "epoch: 140 loss:0.146745 auc:0.9611\n",
      "epoch: 160 loss:0.144742 auc:0.9594\n",
      "epoch: 180 loss:0.143353 auc:0.9584\n",
      "epoch: 200 loss:0.141992 auc:0.9578\n"
     ]
    },
    {
     "name": "stderr",
     "output_type": "stream",
     "text": [
      " 68%|██████▊   | 615/910 [1:31:06<35:04,  7.14s/it]"
     ]
    },
    {
     "name": "stdout",
     "output_type": "stream",
     "text": [
      "epoch: 220 loss:0.141442 auc:0.9524\n",
      "Fit finished.\n",
      "epoch:   0 loss:0.641209 auc:0.4740\n",
      "epoch:  20 loss:0.239263 auc:0.9100\n",
      "epoch:  40 loss:0.186657 auc:0.9412\n",
      "epoch:  60 loss:0.172759 auc:0.9481\n",
      "epoch:  80 loss:0.163781 auc:0.9446\n",
      "epoch: 100 loss:0.152067 auc:0.9412\n",
      "epoch: 120 loss:0.147660 auc:0.9446\n",
      "epoch: 140 loss:0.145196 auc:0.9446\n",
      "epoch: 160 loss:0.142929 auc:0.9516\n",
      "epoch: 180 loss:0.141334 auc:0.9516\n",
      "epoch: 200 loss:0.139104 auc:0.9412\n"
     ]
    },
    {
     "name": "stderr",
     "output_type": "stream",
     "text": [
      " 68%|██████▊   | 616/910 [1:31:14<35:55,  7.33s/it]"
     ]
    },
    {
     "name": "stdout",
     "output_type": "stream",
     "text": [
      "epoch: 220 loss:0.136855 auc:0.9239\n",
      "Fit finished.\n",
      "epoch:   0 loss:0.633995 auc:0.3776\n",
      "epoch:  20 loss:0.238121 auc:0.9860\n",
      "epoch:  40 loss:0.186242 auc:0.9885\n",
      "epoch:  60 loss:0.175311 auc:0.9872\n",
      "epoch:  80 loss:0.169176 auc:0.9885\n",
      "epoch: 100 loss:0.161012 auc:0.9885\n",
      "epoch: 120 loss:0.150671 auc:0.9872\n",
      "epoch: 140 loss:0.146889 auc:0.9885\n",
      "epoch: 160 loss:0.144117 auc:0.9885\n",
      "epoch: 180 loss:0.142626 auc:0.9872\n"
     ]
    },
    {
     "name": "stderr",
     "output_type": "stream",
     "text": [
      " 68%|██████▊   | 617/910 [1:31:21<35:09,  7.20s/it]"
     ]
    },
    {
     "name": "stdout",
     "output_type": "stream",
     "text": [
      "epoch: 200 loss:0.140166 auc:0.9809\n",
      "Fit finished.\n",
      "epoch:   0 loss:1.242837 auc:0.6416\n",
      "epoch:  20 loss:0.276782 auc:0.9760\n",
      "epoch:  40 loss:0.203375 auc:0.9808\n",
      "epoch:  60 loss:0.176961 auc:0.9760\n",
      "epoch:  80 loss:0.166545 auc:0.9760\n",
      "epoch: 100 loss:0.157389 auc:0.9760\n",
      "epoch: 120 loss:0.149698 auc:0.9760\n",
      "epoch: 140 loss:0.146941 auc:0.9760\n",
      "epoch: 160 loss:0.144920 auc:0.9760\n",
      "epoch: 180 loss:0.143636 auc:0.9760\n"
     ]
    },
    {
     "name": "stderr",
     "output_type": "stream",
     "text": [
      " 68%|██████▊   | 618/910 [1:31:28<34:16,  7.04s/it]"
     ]
    },
    {
     "name": "stdout",
     "output_type": "stream",
     "text": [
      "epoch: 200 loss:0.141609 auc:0.9792\n",
      "Fit finished.\n",
      "epoch:   0 loss:0.875423 auc:0.5707\n",
      "epoch:  20 loss:0.285622 auc:0.9757\n",
      "epoch:  40 loss:0.213211 auc:0.9776\n",
      "epoch:  60 loss:0.179933 auc:0.9816\n",
      "epoch:  80 loss:0.167665 auc:0.9822\n",
      "epoch: 100 loss:0.156283 auc:0.9816\n",
      "epoch: 120 loss:0.148600 auc:0.9822\n",
      "epoch: 140 loss:0.146069 auc:0.9816\n",
      "epoch: 160 loss:0.144191 auc:0.9816\n",
      "epoch: 180 loss:0.142784 auc:0.9829\n"
     ]
    },
    {
     "name": "stderr",
     "output_type": "stream",
     "text": [
      " 68%|██████▊   | 619/910 [1:31:33<31:53,  6.57s/it]"
     ]
    },
    {
     "name": "stdout",
     "output_type": "stream",
     "text": [
      "epoch: 200 loss:0.141644 auc:0.9612\n",
      "Fit finished.\n",
      "epoch:   0 loss:0.553772 auc:0.2802\n",
      "epoch:  20 loss:0.202156 auc:0.9142\n",
      "epoch:  40 loss:0.176749 auc:0.9240\n",
      "epoch:  60 loss:0.165068 auc:0.9301\n",
      "epoch:  80 loss:0.152060 auc:0.9316\n",
      "epoch: 100 loss:0.147152 auc:0.9278\n",
      "epoch: 120 loss:0.147498 auc:0.9307\n",
      "epoch: 140 loss:0.142202 auc:0.9009\n",
      "epoch: 160 loss:0.140947 auc:0.7859\n"
     ]
    },
    {
     "name": "stderr",
     "output_type": "stream",
     "text": [
      " 68%|██████▊   | 620/910 [1:31:39<29:57,  6.20s/it]"
     ]
    },
    {
     "name": "stdout",
     "output_type": "stream",
     "text": [
      "epoch: 180 loss:0.139644 auc:0.7902\n",
      "Fit finished.\n",
      "epoch:   0 loss:0.872526 auc:0.6100\n",
      "epoch:  20 loss:0.281784 auc:0.9456\n",
      "epoch:  40 loss:0.206637 auc:0.9467\n",
      "epoch:  60 loss:0.178866 auc:0.9467\n",
      "epoch:  80 loss:0.168226 auc:0.9456\n",
      "epoch: 100 loss:0.159616 auc:0.9444\n",
      "epoch: 120 loss:0.150924 auc:0.9467\n",
      "epoch: 140 loss:0.147299 auc:0.9500\n",
      "epoch: 160 loss:0.145664 auc:0.9500\n",
      "epoch: 180 loss:0.143948 auc:0.9544\n",
      "epoch: 200 loss:0.143071 auc:0.9556\n",
      "epoch: 220 loss:0.140184 auc:0.9567\n"
     ]
    },
    {
     "name": "stderr",
     "output_type": "stream",
     "text": [
      " 68%|██████▊   | 621/910 [1:31:46<31:07,  6.46s/it]"
     ]
    },
    {
     "name": "stdout",
     "output_type": "stream",
     "text": [
      "epoch: 240 loss:0.138937 auc:0.9367\n",
      "Fit finished.\n",
      "epoch:   0 loss:0.999843 auc:0.8172\n",
      "epoch:  20 loss:0.292675 auc:0.9616\n",
      "epoch:  40 loss:0.230100 auc:0.9600\n",
      "epoch:  60 loss:0.187665 auc:0.9616\n",
      "epoch:  80 loss:0.174892 auc:0.9648\n",
      "epoch: 100 loss:0.166400 auc:0.9659\n",
      "epoch: 120 loss:0.157314 auc:0.9648\n",
      "epoch: 140 loss:0.149391 auc:0.9638\n",
      "epoch: 160 loss:0.146596 auc:0.9643\n",
      "epoch: 180 loss:0.144827 auc:0.9638\n"
     ]
    },
    {
     "name": "stderr",
     "output_type": "stream",
     "text": [
      " 68%|██████▊   | 622/910 [1:31:52<30:16,  6.31s/it]"
     ]
    },
    {
     "name": "stdout",
     "output_type": "stream",
     "text": [
      "epoch: 200 loss:0.143075 auc:0.9584\n",
      "Fit finished.\n",
      "epoch:   0 loss:0.736245 auc:0.3435\n",
      "epoch:  20 loss:0.239999 auc:0.9640\n",
      "epoch:  40 loss:0.184481 auc:0.9612\n",
      "epoch:  60 loss:0.172748 auc:0.9605\n",
      "epoch:  80 loss:0.164595 auc:0.9605\n",
      "epoch: 100 loss:0.152684 auc:0.9612\n",
      "epoch: 120 loss:0.147603 auc:0.9619\n",
      "epoch: 140 loss:0.145522 auc:0.9578\n",
      "epoch: 160 loss:0.146332 auc:0.9522\n"
     ]
    },
    {
     "name": "stderr",
     "output_type": "stream",
     "text": [
      " 68%|██████▊   | 623/910 [1:31:57<29:16,  6.12s/it]"
     ]
    },
    {
     "name": "stdout",
     "output_type": "stream",
     "text": [
      "epoch: 180 loss:0.140340 auc:0.9418\n",
      "Fit finished.\n",
      "epoch:   0 loss:0.571537 auc:0.3045\n",
      "epoch:  20 loss:0.228941 auc:0.9405\n",
      "epoch:  40 loss:0.181873 auc:0.9394\n",
      "epoch:  60 loss:0.169577 auc:0.9459\n",
      "epoch:  80 loss:0.157984 auc:0.9475\n",
      "epoch: 100 loss:0.148964 auc:0.9410\n",
      "epoch: 120 loss:0.145396 auc:0.9410\n",
      "epoch: 140 loss:0.142802 auc:0.9178\n",
      "epoch: 160 loss:0.141610 auc:0.9059\n"
     ]
    },
    {
     "name": "stderr",
     "output_type": "stream",
     "text": [
      " 69%|██████▊   | 624/910 [1:32:03<28:45,  6.03s/it]"
     ]
    },
    {
     "name": "stdout",
     "output_type": "stream",
     "text": [
      "epoch: 180 loss:0.140126 auc:0.8956\n",
      "Fit finished.\n",
      "epoch:   0 loss:0.682678 auc:0.3153\n",
      "epoch:  20 loss:0.213429 auc:0.9876\n",
      "epoch:  40 loss:0.180758 auc:0.9865\n",
      "epoch:  60 loss:0.170337 auc:0.9886\n",
      "epoch:  80 loss:0.160064 auc:0.9897\n",
      "epoch: 100 loss:0.149685 auc:0.9903\n",
      "epoch: 120 loss:0.146431 auc:0.9897\n",
      "epoch: 140 loss:0.144723 auc:0.9919\n",
      "epoch: 160 loss:0.142382 auc:0.9935\n",
      "epoch: 180 loss:0.144387 auc:0.9930\n",
      "epoch: 200 loss:0.138219 auc:0.9913\n"
     ]
    },
    {
     "name": "stderr",
     "output_type": "stream",
     "text": [
      " 69%|██████▉   | 626/910 [1:32:09<21:51,  4.62s/it]"
     ]
    },
    {
     "name": "stdout",
     "output_type": "stream",
     "text": [
      "epoch: 220 loss:0.135791 auc:0.9713\n",
      "Fit finished.\n",
      "epoch:   0 loss:0.800287 auc:0.4809\n",
      "epoch:  20 loss:0.269247 auc:0.9413\n",
      "epoch:  40 loss:0.195855 auc:0.9528\n",
      "epoch:  60 loss:0.178470 auc:0.9554\n",
      "epoch:  80 loss:0.169323 auc:0.9554\n",
      "epoch: 100 loss:0.160710 auc:0.9566\n",
      "epoch: 120 loss:0.151149 auc:0.9554\n",
      "epoch: 140 loss:0.147641 auc:0.9554\n",
      "epoch: 160 loss:0.145457 auc:0.9554\n",
      "epoch: 180 loss:0.143863 auc:0.9554\n",
      "epoch: 200 loss:0.142676 auc:0.9554\n"
     ]
    },
    {
     "name": "stderr",
     "output_type": "stream",
     "text": [
      " 69%|██████▉   | 627/910 [1:32:16<24:15,  5.14s/it]"
     ]
    },
    {
     "name": "stdout",
     "output_type": "stream",
     "text": [
      "epoch: 220 loss:0.140723 auc:0.9515\n",
      "Fit finished.\n",
      "epoch:   0 loss:0.470844 auc:0.6509\n",
      "epoch:  20 loss:0.244043 auc:0.9039\n",
      "epoch:  40 loss:0.184927 auc:0.8993\n",
      "epoch:  60 loss:0.169781 auc:0.9077\n",
      "epoch:  80 loss:0.158766 auc:0.9031\n",
      "epoch: 100 loss:0.149478 auc:0.9008\n",
      "epoch: 120 loss:0.146192 auc:0.9031\n",
      "epoch: 140 loss:0.144565 auc:0.9004\n",
      "epoch: 160 loss:0.141855 auc:0.8616\n"
     ]
    },
    {
     "name": "stderr",
     "output_type": "stream",
     "text": [
      " 69%|██████▉   | 628/910 [1:32:21<24:43,  5.26s/it]"
     ]
    },
    {
     "name": "stdout",
     "output_type": "stream",
     "text": [
      "epoch: 180 loss:0.139223 auc:0.7828\n",
      "Fit finished.\n",
      "epoch:   0 loss:0.537613 auc:0.2053\n",
      "epoch:  20 loss:0.258309 auc:0.9774\n",
      "epoch:  40 loss:0.193114 auc:0.9810\n",
      "epoch:  60 loss:0.178293 auc:0.9803\n",
      "epoch:  80 loss:0.169893 auc:0.9803\n",
      "epoch: 100 loss:0.162203 auc:0.9847\n",
      "epoch: 120 loss:0.152077 auc:0.9825\n",
      "epoch: 140 loss:0.147351 auc:0.9803\n",
      "epoch: 160 loss:0.144876 auc:0.9752\n"
     ]
    },
    {
     "name": "stderr",
     "output_type": "stream",
     "text": [
      " 69%|██████▉   | 629/910 [1:32:27<25:11,  5.38s/it]"
     ]
    },
    {
     "name": "stdout",
     "output_type": "stream",
     "text": [
      "epoch: 180 loss:0.143473 auc:0.9635\n",
      "Fit finished.\n",
      "epoch:   0 loss:1.257337 auc:0.8112\n",
      "epoch:  20 loss:0.287130 auc:0.9949\n",
      "epoch:  40 loss:0.221399 auc:0.9898\n",
      "epoch:  60 loss:0.184393 auc:0.9898\n",
      "epoch:  80 loss:0.172238 auc:0.9847\n",
      "epoch: 100 loss:0.163896 auc:0.9847\n",
      "epoch: 120 loss:0.154149 auc:0.9847\n",
      "epoch: 140 loss:0.148807 auc:0.9847\n",
      "epoch: 160 loss:0.146245 auc:0.9847\n"
     ]
    },
    {
     "name": "stderr",
     "output_type": "stream",
     "text": [
      " 69%|██████▉   | 630/910 [1:32:33<25:20,  5.43s/it]"
     ]
    },
    {
     "name": "stdout",
     "output_type": "stream",
     "text": [
      "epoch: 180 loss:0.144531 auc:0.9847\n",
      "Fit finished.\n",
      "epoch:   0 loss:1.003668 auc:0.8647\n",
      "epoch:  20 loss:0.261917 auc:0.9948\n",
      "epoch:  40 loss:0.198143 auc:0.9948\n",
      "epoch:  60 loss:0.178221 auc:0.9948\n",
      "epoch:  80 loss:0.167025 auc:0.9948\n",
      "epoch: 100 loss:0.157095 auc:0.9948\n",
      "epoch: 120 loss:0.150376 auc:0.9948\n",
      "epoch: 140 loss:0.147687 auc:0.9948\n",
      "epoch: 160 loss:0.145737 auc:0.9948\n",
      "epoch: 180 loss:0.144252 auc:0.9948\n",
      "epoch: 200 loss:0.142876 auc:0.9948\n",
      "epoch: 220 loss:0.141429 auc:0.9958\n",
      "epoch: 240 loss:0.140197 auc:0.9958\n"
     ]
    },
    {
     "name": "stderr",
     "output_type": "stream",
     "text": [
      " 69%|██████▉   | 631/910 [1:32:41<29:08,  6.27s/it]"
     ]
    },
    {
     "name": "stdout",
     "output_type": "stream",
     "text": [
      "epoch: 260 loss:0.137888 auc:0.9802\n",
      "Fit finished.\n",
      "epoch:   0 loss:1.077574 auc:0.1952\n",
      "epoch:  20 loss:0.289735 auc:0.9637\n",
      "epoch:  40 loss:0.223015 auc:0.9738\n",
      "epoch:  60 loss:0.183189 auc:0.9753\n",
      "epoch:  80 loss:0.170623 auc:0.9776\n",
      "epoch: 100 loss:0.160405 auc:0.9784\n",
      "epoch: 120 loss:0.150712 auc:0.9784\n",
      "epoch: 140 loss:0.147335 auc:0.9784\n",
      "epoch: 160 loss:0.145371 auc:0.9784\n",
      "epoch: 180 loss:0.143849 auc:0.9776\n"
     ]
    },
    {
     "name": "stderr",
     "output_type": "stream",
     "text": [
      " 69%|██████▉   | 632/910 [1:32:47<28:42,  6.20s/it]"
     ]
    },
    {
     "name": "stdout",
     "output_type": "stream",
     "text": [
      "epoch: 200 loss:0.142520 auc:0.9684\n",
      "Fit finished.\n",
      "epoch:   0 loss:0.690857 auc:0.1670\n",
      "epoch:  20 loss:0.252116 auc:0.9757\n",
      "epoch:  40 loss:0.187041 auc:0.9744\n",
      "epoch:  60 loss:0.173647 auc:0.9730\n",
      "epoch:  80 loss:0.164473 auc:0.9737\n",
      "epoch: 100 loss:0.152704 auc:0.9737\n",
      "epoch: 120 loss:0.147958 auc:0.9757\n",
      "epoch: 140 loss:0.145104 auc:0.9750\n",
      "epoch: 160 loss:0.143210 auc:0.9750\n"
     ]
    },
    {
     "name": "stderr",
     "output_type": "stream",
     "text": [
      " 70%|██████▉   | 633/910 [1:32:52<27:31,  5.96s/it]"
     ]
    },
    {
     "name": "stdout",
     "output_type": "stream",
     "text": [
      "epoch: 180 loss:0.141005 auc:0.9750\n",
      "Fit finished.\n",
      "epoch:   0 loss:0.682627 auc:0.4442\n",
      "epoch:  20 loss:0.284554 auc:0.9256\n",
      "epoch:  40 loss:0.206068 auc:0.9318\n",
      "epoch:  60 loss:0.176734 auc:0.9339\n",
      "epoch:  80 loss:0.166201 auc:0.9483\n",
      "epoch: 100 loss:0.156720 auc:0.9545\n",
      "epoch: 120 loss:0.149297 auc:0.9525\n",
      "epoch: 140 loss:0.146442 auc:0.9525\n",
      "epoch: 160 loss:0.144233 auc:0.9525\n",
      "epoch: 180 loss:0.142938 auc:0.9587\n",
      "epoch: 200 loss:0.140751 auc:0.9607\n",
      "epoch: 220 loss:0.138634 auc:0.9607\n",
      "epoch: 240 loss:0.136610 auc:0.9566\n",
      "epoch: 260 loss:0.134931 auc:0.9566\n",
      "epoch: 280 loss:0.134841 auc:0.9525\n",
      "epoch: 300 loss:0.131794 auc:0.9525\n"
     ]
    },
    {
     "name": "stderr",
     "output_type": "stream",
     "text": [
      " 70%|██████▉   | 634/910 [1:33:02<31:49,  6.92s/it]"
     ]
    },
    {
     "name": "stdout",
     "output_type": "stream",
     "text": [
      "epoch: 320 loss:0.130104 auc:0.9421\n",
      "Fit finished.\n",
      "epoch:   0 loss:0.668464 auc:0.5712\n",
      "epoch:  20 loss:0.295287 auc:0.9826\n",
      "epoch:  40 loss:0.218898 auc:0.9844\n",
      "epoch:  60 loss:0.180532 auc:0.9844\n",
      "epoch:  80 loss:0.167696 auc:0.9844\n",
      "epoch: 100 loss:0.156647 auc:0.9844\n",
      "epoch: 120 loss:0.149666 auc:0.9826\n",
      "epoch: 140 loss:0.146913 auc:0.9826\n",
      "epoch: 160 loss:0.145003 auc:0.9826\n",
      "epoch: 180 loss:0.144654 auc:0.9826\n"
     ]
    },
    {
     "name": "stderr",
     "output_type": "stream",
     "text": [
      " 70%|██████▉   | 635/910 [1:33:08<31:26,  6.86s/it]"
     ]
    },
    {
     "name": "stdout",
     "output_type": "stream",
     "text": [
      "epoch: 200 loss:0.142639 auc:0.9826\n",
      "Fit finished.\n",
      "epoch:   0 loss:0.702668 auc:0.7099\n",
      "epoch:  20 loss:0.252315 auc:0.9893\n",
      "epoch:  40 loss:0.188200 auc:0.9893\n",
      "epoch:  60 loss:0.173590 auc:0.9917\n",
      "epoch:  80 loss:0.165239 auc:0.9917\n",
      "epoch: 100 loss:0.153900 auc:0.9917\n",
      "epoch: 120 loss:0.148432 auc:0.9929\n",
      "epoch: 140 loss:0.145969 auc:0.9917\n",
      "epoch: 160 loss:0.144097 auc:0.9917\n",
      "epoch: 180 loss:0.142470 auc:0.9905\n",
      "epoch: 200 loss:0.140602 auc:0.9905\n"
     ]
    },
    {
     "name": "stderr",
     "output_type": "stream",
     "text": [
      " 70%|██████▉   | 636/910 [1:33:15<31:33,  6.91s/it]"
     ]
    },
    {
     "name": "stdout",
     "output_type": "stream",
     "text": [
      "epoch: 220 loss:0.139585 auc:0.9881\n",
      "Fit finished.\n",
      "epoch:   0 loss:1.056809 auc:0.3394\n",
      "epoch:  20 loss:0.275479 auc:0.9780\n",
      "epoch:  40 loss:0.205307 auc:0.9766\n",
      "epoch:  60 loss:0.182752 auc:0.9764\n",
      "epoch:  80 loss:0.174353 auc:0.9758\n",
      "epoch: 100 loss:0.168891 auc:0.9747\n",
      "epoch: 120 loss:0.162654 auc:0.9764\n",
      "epoch: 140 loss:0.154743 auc:0.9766\n",
      "epoch: 160 loss:0.149351 auc:0.9764\n"
     ]
    },
    {
     "name": "stderr",
     "output_type": "stream",
     "text": [
      " 70%|███████   | 637/910 [1:33:21<29:29,  6.48s/it]"
     ]
    },
    {
     "name": "stdout",
     "output_type": "stream",
     "text": [
      "epoch: 180 loss:0.146811 auc:0.9761\n",
      "Fit finished.\n",
      "epoch:   0 loss:0.762350 auc:0.6235\n",
      "epoch:  20 loss:0.272136 auc:0.9660\n",
      "epoch:  40 loss:0.203423 auc:0.9640\n",
      "epoch:  60 loss:0.178879 auc:0.9630\n",
      "epoch:  80 loss:0.168869 auc:0.9626\n",
      "epoch: 100 loss:0.158443 auc:0.9646\n",
      "epoch: 120 loss:0.149312 auc:0.9643\n",
      "epoch: 140 loss:0.146367 auc:0.9633\n",
      "epoch: 160 loss:0.144561 auc:0.9630\n"
     ]
    },
    {
     "name": "stderr",
     "output_type": "stream",
     "text": [
      " 70%|███████   | 638/910 [1:33:26<28:16,  6.24s/it]"
     ]
    },
    {
     "name": "stdout",
     "output_type": "stream",
     "text": [
      "epoch: 180 loss:0.143113 auc:0.9633\n",
      "Fit finished.\n",
      "epoch:   0 loss:0.814486 auc:0.6015\n",
      "epoch:  20 loss:0.273238 auc:0.9945\n",
      "epoch:  40 loss:0.197740 auc:0.9954\n",
      "epoch:  60 loss:0.176407 auc:0.9917\n",
      "epoch:  80 loss:0.165835 auc:0.9853\n",
      "epoch: 100 loss:0.155886 auc:0.9881\n",
      "epoch: 120 loss:0.149231 auc:0.9871\n",
      "epoch: 140 loss:0.146695 auc:0.9871\n",
      "epoch: 160 loss:0.144748 auc:0.9881\n"
     ]
    },
    {
     "name": "stderr",
     "output_type": "stream",
     "text": [
      " 70%|███████   | 639/910 [1:33:33<27:59,  6.20s/it]"
     ]
    },
    {
     "name": "stdout",
     "output_type": "stream",
     "text": [
      "epoch: 180 loss:0.145367 auc:0.9899\n",
      "Fit finished.\n",
      "epoch:   0 loss:1.026216 auc:0.1631\n",
      "epoch:  20 loss:0.267942 auc:0.9020\n",
      "epoch:  40 loss:0.196303 auc:0.9185\n",
      "epoch:  60 loss:0.179549 auc:0.9250\n",
      "epoch:  80 loss:0.171471 auc:0.9250\n",
      "epoch: 100 loss:0.164536 auc:0.9218\n",
      "epoch: 120 loss:0.154793 auc:0.9211\n",
      "epoch: 140 loss:0.148533 auc:0.9198\n",
      "epoch: 160 loss:0.146030 auc:0.9191\n",
      "epoch: 180 loss:0.145204 auc:0.9099\n"
     ]
    },
    {
     "name": "stderr",
     "output_type": "stream",
     "text": [
      " 70%|███████   | 640/910 [1:33:39<28:02,  6.23s/it]"
     ]
    },
    {
     "name": "stdout",
     "output_type": "stream",
     "text": [
      "epoch: 200 loss:0.142338 auc:0.8988\n",
      "Fit finished.\n",
      "epoch:   0 loss:0.652581 auc:0.2848\n",
      "epoch:  20 loss:0.229194 auc:0.8945\n",
      "epoch:  40 loss:0.181083 auc:0.9007\n",
      "epoch:  60 loss:0.170223 auc:0.9070\n",
      "epoch:  80 loss:0.160406 auc:0.9084\n",
      "epoch: 100 loss:0.150048 auc:0.9078\n",
      "epoch: 120 loss:0.146597 auc:0.9052\n",
      "epoch: 140 loss:0.144318 auc:0.8986\n",
      "epoch: 160 loss:0.142542 auc:0.8882\n"
     ]
    },
    {
     "name": "stderr",
     "output_type": "stream",
     "text": [
      " 70%|███████   | 641/910 [1:33:44<26:41,  5.96s/it]"
     ]
    },
    {
     "name": "stdout",
     "output_type": "stream",
     "text": [
      "epoch: 180 loss:0.139923 auc:0.8665\n",
      "Fit finished.\n",
      "epoch:   0 loss:0.573050 auc:0.5461\n",
      "epoch:  20 loss:0.233958 auc:0.9589\n",
      "epoch:  40 loss:0.183201 auc:0.9631\n",
      "epoch:  60 loss:0.168754 auc:0.9667\n",
      "epoch:  80 loss:0.157076 auc:0.9667\n",
      "epoch: 100 loss:0.149220 auc:0.9617\n",
      "epoch: 120 loss:0.146096 auc:0.9614\n",
      "epoch: 140 loss:0.145098 auc:0.9514\n",
      "epoch: 160 loss:0.142895 auc:0.9469\n"
     ]
    },
    {
     "name": "stderr",
     "output_type": "stream",
     "text": [
      " 71%|███████   | 642/910 [1:33:50<26:45,  5.99s/it]"
     ]
    },
    {
     "name": "stdout",
     "output_type": "stream",
     "text": [
      "epoch: 180 loss:0.140591 auc:0.9339\n",
      "Fit finished.\n",
      "epoch:   0 loss:0.961713 auc:0.5161\n",
      "epoch:  20 loss:0.277171 auc:0.8798\n",
      "epoch:  40 loss:0.203081 auc:0.8828\n",
      "epoch:  60 loss:0.176923 auc:0.8819\n",
      "epoch:  80 loss:0.165496 auc:0.8785\n",
      "epoch: 100 loss:0.155175 auc:0.8806\n",
      "epoch: 120 loss:0.149354 auc:0.8828\n",
      "epoch: 140 loss:0.146959 auc:0.8845\n",
      "epoch: 160 loss:0.145148 auc:0.8854\n",
      "epoch: 180 loss:0.143527 auc:0.8867\n",
      "epoch: 200 loss:0.142297 auc:0.8850\n"
     ]
    },
    {
     "name": "stderr",
     "output_type": "stream",
     "text": [
      " 71%|███████   | 643/910 [1:33:58<28:50,  6.48s/it]"
     ]
    },
    {
     "name": "stdout",
     "output_type": "stream",
     "text": [
      "epoch: 220 loss:0.140416 auc:0.8307\n",
      "Fit finished.\n",
      "epoch:   0 loss:1.011914 auc:0.8375\n",
      "epoch:  20 loss:0.274256 auc:0.9513\n",
      "epoch:  40 loss:0.209769 auc:0.9559\n",
      "epoch:  60 loss:0.183301 auc:0.9504\n",
      "epoch:  80 loss:0.173428 auc:0.9486\n",
      "epoch: 100 loss:0.166174 auc:0.9486\n",
      "epoch: 120 loss:0.157047 auc:0.9513\n",
      "epoch: 140 loss:0.148987 auc:0.9504\n",
      "epoch: 160 loss:0.146273 auc:0.9486\n"
     ]
    },
    {
     "name": "stderr",
     "output_type": "stream",
     "text": [
      " 71%|███████   | 644/910 [1:34:03<27:07,  6.12s/it]"
     ]
    },
    {
     "name": "stdout",
     "output_type": "stream",
     "text": [
      "epoch: 180 loss:0.144420 auc:0.9495\n",
      "Fit finished.\n",
      "epoch:   0 loss:0.867838 auc:0.6100\n",
      "epoch:  20 loss:0.272092 auc:0.9278\n",
      "epoch:  40 loss:0.201077 auc:0.9322\n",
      "epoch:  60 loss:0.179884 auc:0.9300\n",
      "epoch:  80 loss:0.170693 auc:0.9267\n",
      "epoch: 100 loss:0.163204 auc:0.9278\n",
      "epoch: 120 loss:0.153910 auc:0.9267\n",
      "epoch: 140 loss:0.148571 auc:0.9256\n",
      "epoch: 160 loss:0.146187 auc:0.9267\n",
      "epoch: 180 loss:0.144334 auc:0.9278\n"
     ]
    },
    {
     "name": "stderr",
     "output_type": "stream",
     "text": [
      " 71%|███████   | 645/910 [1:34:09<26:55,  6.09s/it]"
     ]
    },
    {
     "name": "stdout",
     "output_type": "stream",
     "text": [
      "epoch: 200 loss:0.142812 auc:0.9300\n",
      "Fit finished.\n",
      "epoch:   0 loss:0.532824 auc:0.3767\n",
      "epoch:  20 loss:0.240088 auc:0.9709\n",
      "epoch:  40 loss:0.183963 auc:0.9771\n",
      "epoch:  60 loss:0.170654 auc:0.9781\n",
      "epoch:  80 loss:0.159268 auc:0.9781\n",
      "epoch: 100 loss:0.149197 auc:0.9781\n",
      "epoch: 120 loss:0.145894 auc:0.9781\n",
      "epoch: 140 loss:0.145050 auc:0.9802\n",
      "epoch: 160 loss:0.141178 auc:0.9802\n",
      "epoch: 180 loss:0.139199 auc:0.9854\n",
      "epoch: 200 loss:0.136672 auc:0.9886\n",
      "epoch: 220 loss:0.134736 auc:0.9875\n",
      "epoch: 240 loss:0.132951 auc:0.9886\n",
      "epoch: 260 loss:0.131505 auc:0.9865\n",
      "epoch: 280 loss:0.135981 auc:0.9865\n",
      "epoch: 300 loss:0.128460 auc:0.9854\n",
      "epoch: 320 loss:0.126022 auc:0.9896\n",
      "epoch: 340 loss:0.124429 auc:0.9896\n"
     ]
    },
    {
     "name": "stderr",
     "output_type": "stream",
     "text": [
      " 71%|███████   | 646/910 [1:34:20<33:07,  7.53s/it]"
     ]
    },
    {
     "name": "stdout",
     "output_type": "stream",
     "text": [
      "epoch: 360 loss:0.126667 auc:0.9854\n",
      "Fit finished.\n",
      "epoch:   0 loss:0.792891 auc:0.2872\n",
      "epoch:  20 loss:0.274573 auc:0.9801\n",
      "epoch:  40 loss:0.202349 auc:0.9836\n",
      "epoch:  60 loss:0.179066 auc:0.9879\n",
      "epoch:  80 loss:0.168732 auc:0.9888\n",
      "epoch: 100 loss:0.159556 auc:0.9870\n",
      "epoch: 120 loss:0.150574 auc:0.9870\n",
      "epoch: 140 loss:0.147252 auc:0.9879\n",
      "epoch: 160 loss:0.145335 auc:0.9870\n",
      "epoch: 180 loss:0.143632 auc:0.9862\n",
      "epoch: 200 loss:0.142430 auc:0.9879\n"
     ]
    },
    {
     "name": "stderr",
     "output_type": "stream",
     "text": [
      " 71%|███████   | 647/910 [1:34:26<30:56,  7.06s/it]"
     ]
    },
    {
     "name": "stdout",
     "output_type": "stream",
     "text": [
      "epoch: 220 loss:0.141378 auc:0.9853\n",
      "Fit finished.\n",
      "epoch:   0 loss:0.781105 auc:0.4204\n",
      "epoch:  20 loss:0.274317 auc:0.9927\n",
      "epoch:  40 loss:0.202139 auc:0.9938\n",
      "epoch:  60 loss:0.178627 auc:0.9927\n",
      "epoch:  80 loss:0.168848 auc:0.9906\n",
      "epoch: 100 loss:0.159591 auc:0.9906\n",
      "epoch: 120 loss:0.150413 auc:0.9917\n",
      "epoch: 140 loss:0.147145 auc:0.9906\n",
      "epoch: 160 loss:0.144935 auc:0.9906\n",
      "epoch: 180 loss:0.143456 auc:0.9927\n",
      "epoch: 200 loss:0.142162 auc:0.9958\n",
      "epoch: 220 loss:0.139590 auc:0.9969\n",
      "epoch: 240 loss:0.139613 auc:0.9979\n",
      "epoch: 260 loss:0.135925 auc:0.9969\n",
      "epoch: 280 loss:0.134470 auc:0.9958\n"
     ]
    },
    {
     "name": "stderr",
     "output_type": "stream",
     "text": [
      " 71%|███████   | 648/910 [1:34:35<33:44,  7.73s/it]"
     ]
    },
    {
     "name": "stdout",
     "output_type": "stream",
     "text": [
      "epoch: 300 loss:0.133951 auc:0.9854\n",
      "Fit finished.\n",
      "epoch:   0 loss:0.788071 auc:0.4275\n",
      "epoch:  20 loss:0.260604 auc:0.9249\n",
      "epoch:  40 loss:0.188920 auc:0.9301\n",
      "epoch:  60 loss:0.174455 auc:0.9290\n",
      "epoch:  80 loss:0.165460 auc:0.9305\n",
      "epoch: 100 loss:0.154262 auc:0.9279\n",
      "epoch: 120 loss:0.147926 auc:0.9305\n",
      "epoch: 140 loss:0.145467 auc:0.9323\n",
      "epoch: 160 loss:0.143943 auc:0.9320\n"
     ]
    },
    {
     "name": "stderr",
     "output_type": "stream",
     "text": [
      " 71%|███████▏  | 649/910 [1:34:41<31:16,  7.19s/it]"
     ]
    },
    {
     "name": "stdout",
     "output_type": "stream",
     "text": [
      "epoch: 180 loss:0.141828 auc:0.9175\n",
      "Fit finished.\n",
      "epoch:   0 loss:1.367907 auc:0.6213\n",
      "epoch:  20 loss:0.263505 auc:0.9822\n",
      "epoch:  40 loss:0.198408 auc:0.9882\n",
      "epoch:  60 loss:0.180732 auc:0.9882\n",
      "epoch:  80 loss:0.172922 auc:0.9882\n",
      "epoch: 100 loss:0.167193 auc:0.9882\n",
      "epoch: 120 loss:0.160276 auc:0.9882\n",
      "epoch: 140 loss:0.152253 auc:0.9882\n",
      "epoch: 160 loss:0.148321 auc:0.9882\n",
      "epoch: 180 loss:0.146331 auc:0.9882\n",
      "epoch: 200 loss:0.144787 auc:0.9882\n",
      "epoch: 220 loss:0.143391 auc:0.9882\n",
      "epoch: 240 loss:0.143170 auc:0.9882\n",
      "epoch: 260 loss:0.140509 auc:0.9882\n",
      "epoch: 280 loss:0.139865 auc:0.9882\n",
      "epoch: 300 loss:0.137478 auc:0.9941\n",
      "epoch: 320 loss:0.136846 auc:1.0000\n",
      "epoch: 340 loss:0.135038 auc:1.0000\n",
      "epoch: 360 loss:0.136192 auc:1.0000\n",
      "epoch: 380 loss:0.134088 auc:1.0000\n",
      "epoch: 400 loss:0.131778 auc:1.0000\n",
      "epoch: 420 loss:0.130691 auc:1.0000\n",
      "epoch: 440 loss:0.128935 auc:1.0000\n",
      "epoch: 460 loss:0.132114 auc:1.0000\n"
     ]
    },
    {
     "name": "stderr",
     "output_type": "stream",
     "text": [
      " 71%|███████▏  | 650/910 [1:34:56<41:33,  9.59s/it]"
     ]
    },
    {
     "name": "stdout",
     "output_type": "stream",
     "text": [
      "epoch: 480 loss:0.131294 auc:0.9882\n",
      "Fit finished.\n",
      "epoch:   0 loss:0.607554 auc:0.3976\n",
      "epoch:  20 loss:0.236684 auc:0.9688\n",
      "epoch:  40 loss:0.182899 auc:0.9635\n",
      "epoch:  60 loss:0.167002 auc:0.9653\n",
      "epoch:  80 loss:0.153810 auc:0.9653\n",
      "epoch: 100 loss:0.148215 auc:0.9601\n",
      "epoch: 120 loss:0.145299 auc:0.9601\n",
      "epoch: 140 loss:0.143903 auc:0.9601\n",
      "epoch: 160 loss:0.141525 auc:0.9566\n"
     ]
    },
    {
     "name": "stderr",
     "output_type": "stream",
     "text": [
      " 72%|███████▏  | 651/910 [1:35:02<36:15,  8.40s/it]"
     ]
    },
    {
     "name": "stdout",
     "output_type": "stream",
     "text": [
      "epoch: 180 loss:0.140325 auc:0.9566\n",
      "Fit finished.\n",
      "epoch:   0 loss:1.065066 auc:0.6994\n",
      "epoch:  20 loss:0.284032 auc:0.9868\n",
      "epoch:  40 loss:0.215090 auc:0.9811\n",
      "epoch:  60 loss:0.181319 auc:0.9811\n",
      "epoch:  80 loss:0.167736 auc:0.9811\n",
      "epoch: 100 loss:0.152545 auc:0.9830\n",
      "epoch: 120 loss:0.148630 auc:0.9792\n",
      "epoch: 140 loss:0.146120 auc:0.9792\n",
      "epoch: 160 loss:0.144060 auc:0.9792\n"
     ]
    },
    {
     "name": "stderr",
     "output_type": "stream",
     "text": [
      " 72%|███████▏  | 652/910 [1:35:08<32:48,  7.63s/it]"
     ]
    },
    {
     "name": "stdout",
     "output_type": "stream",
     "text": [
      "epoch: 180 loss:0.143658 auc:0.9792\n",
      "Fit finished.\n",
      "epoch:   0 loss:0.887504 auc:0.1769\n",
      "epoch:  20 loss:0.275768 auc:0.9728\n",
      "epoch:  40 loss:0.198344 auc:0.9841\n",
      "epoch:  60 loss:0.176959 auc:0.9909\n",
      "epoch:  80 loss:0.167021 auc:0.9909\n",
      "epoch: 100 loss:0.158183 auc:0.9909\n",
      "epoch: 120 loss:0.150479 auc:0.9932\n",
      "epoch: 140 loss:0.147411 auc:0.9932\n",
      "epoch: 160 loss:0.145339 auc:0.9932\n",
      "epoch: 180 loss:0.143576 auc:0.9887\n"
     ]
    },
    {
     "name": "stderr",
     "output_type": "stream",
     "text": [
      " 72%|███████▏  | 653/910 [1:35:14<31:06,  7.26s/it]"
     ]
    },
    {
     "name": "stdout",
     "output_type": "stream",
     "text": [
      "epoch: 200 loss:0.142637 auc:0.9796\n",
      "Fit finished.\n",
      "epoch:   0 loss:0.782226 auc:0.1655\n",
      "epoch:  20 loss:0.241800 auc:0.9887\n",
      "epoch:  40 loss:0.184777 auc:0.9932\n",
      "epoch:  60 loss:0.172325 auc:0.9955\n",
      "epoch:  80 loss:0.163386 auc:0.9955\n",
      "epoch: 100 loss:0.151378 auc:0.9955\n",
      "epoch: 120 loss:0.147161 auc:0.9955\n",
      "epoch: 140 loss:0.144332 auc:0.9955\n",
      "epoch: 160 loss:0.142168 auc:0.9977\n",
      "epoch: 180 loss:0.139316 auc:1.0000\n",
      "epoch: 200 loss:0.139114 auc:1.0000\n",
      "epoch: 220 loss:0.135438 auc:0.9977\n",
      "epoch: 240 loss:0.134168 auc:1.0000\n",
      "epoch: 260 loss:0.133183 auc:1.0000\n",
      "epoch: 280 loss:0.133624 auc:1.0000\n",
      "epoch: 300 loss:0.130092 auc:1.0000\n",
      "epoch: 320 loss:0.126947 auc:1.0000\n",
      "epoch: 340 loss:0.125837 auc:1.0000\n",
      "epoch: 360 loss:0.123469 auc:1.0000\n",
      "epoch: 380 loss:0.122141 auc:1.0000\n",
      "epoch: 400 loss:0.120966 auc:1.0000\n",
      "epoch: 420 loss:0.119237 auc:1.0000\n",
      "epoch: 440 loss:0.119020 auc:1.0000\n"
     ]
    },
    {
     "name": "stderr",
     "output_type": "stream",
     "text": [
      " 72%|███████▏  | 654/910 [1:35:28<38:38,  9.06s/it]"
     ]
    },
    {
     "name": "stdout",
     "output_type": "stream",
     "text": [
      "epoch: 460 loss:0.138295 auc:0.9932\n",
      "Fit finished.\n",
      "epoch:   0 loss:0.562572 auc:0.5274\n",
      "epoch:  20 loss:0.218580 auc:0.9849\n",
      "epoch:  40 loss:0.183190 auc:0.9887\n",
      "epoch:  60 loss:0.173553 auc:0.9905\n",
      "epoch:  80 loss:0.167381 auc:0.9905\n",
      "epoch: 100 loss:0.158141 auc:0.9905\n",
      "epoch: 120 loss:0.149154 auc:0.9905\n",
      "epoch: 140 loss:0.146197 auc:0.9905\n",
      "epoch: 160 loss:0.143770 auc:0.9905\n",
      "epoch: 180 loss:0.142900 auc:0.9905\n",
      "epoch: 200 loss:0.139486 auc:0.9887\n",
      "epoch: 220 loss:0.137049 auc:0.9924\n",
      "epoch: 240 loss:0.139177 auc:0.9924\n"
     ]
    },
    {
     "name": "stderr",
     "output_type": "stream",
     "text": [
      " 72%|███████▏  | 655/910 [1:35:36<37:18,  8.78s/it]"
     ]
    },
    {
     "name": "stdout",
     "output_type": "stream",
     "text": [
      "epoch: 260 loss:0.134477 auc:0.9849\n",
      "Fit finished.\n",
      "epoch:   0 loss:0.925420 auc:0.6777\n",
      "epoch:  20 loss:0.280534 auc:0.9628\n",
      "epoch:  40 loss:0.204406 auc:0.9669\n",
      "epoch:  60 loss:0.178533 auc:0.9649\n",
      "epoch:  80 loss:0.168460 auc:0.9607\n",
      "epoch: 100 loss:0.159668 auc:0.9628\n",
      "epoch: 120 loss:0.150320 auc:0.9628\n",
      "epoch: 140 loss:0.147175 auc:0.9587\n",
      "epoch: 160 loss:0.145029 auc:0.9607\n",
      "epoch: 180 loss:0.144091 auc:0.9628\n"
     ]
    },
    {
     "name": "stderr",
     "output_type": "stream",
     "text": [
      " 72%|███████▏  | 656/910 [1:35:42<33:48,  7.99s/it]"
     ]
    },
    {
     "name": "stdout",
     "output_type": "stream",
     "text": [
      "epoch: 200 loss:0.142379 auc:0.9649\n",
      "Fit finished.\n",
      "epoch:   0 loss:0.585145 auc:0.7056\n",
      "epoch:  20 loss:0.271060 auc:0.9040\n",
      "epoch:  40 loss:0.194698 auc:0.9104\n",
      "epoch:  60 loss:0.178212 auc:0.9072\n",
      "epoch:  80 loss:0.169186 auc:0.9072\n",
      "epoch: 100 loss:0.159972 auc:0.9088\n",
      "epoch: 120 loss:0.149936 auc:0.9088\n",
      "epoch: 140 loss:0.146807 auc:0.9072\n",
      "epoch: 160 loss:0.144965 auc:0.9072\n",
      "epoch: 180 loss:0.143127 auc:0.9104\n",
      "epoch: 200 loss:0.143197 auc:0.9104\n",
      "epoch: 220 loss:0.140577 auc:0.9264\n",
      "epoch: 240 loss:0.138978 auc:0.9312\n",
      "epoch: 260 loss:0.138415 auc:0.9280\n",
      "epoch: 280 loss:0.135194 auc:0.9184\n",
      "epoch: 300 loss:0.139256 auc:0.9248\n",
      "epoch: 320 loss:0.132790 auc:0.9232\n",
      "epoch: 340 loss:0.132562 auc:0.9312\n",
      "epoch: 360 loss:0.130374 auc:0.9264\n",
      "epoch: 380 loss:0.128731 auc:0.9280\n"
     ]
    },
    {
     "name": "stderr",
     "output_type": "stream",
     "text": [
      " 72%|███████▏  | 657/910 [1:35:53<38:03,  9.03s/it]"
     ]
    },
    {
     "name": "stdout",
     "output_type": "stream",
     "text": [
      "epoch: 400 loss:0.126435 auc:0.9232\n",
      "Fit finished.\n",
      "epoch:   0 loss:1.189916 auc:0.4601\n",
      "epoch:  20 loss:0.289501 auc:0.9719\n",
      "epoch:  40 loss:0.225379 auc:0.9837\n",
      "epoch:  60 loss:0.186595 auc:0.9837\n",
      "epoch:  80 loss:0.174204 auc:0.9837\n",
      "epoch: 100 loss:0.167470 auc:0.9837\n",
      "epoch: 120 loss:0.160280 auc:0.9837\n",
      "epoch: 140 loss:0.151603 auc:0.9837\n",
      "epoch: 160 loss:0.147928 auc:0.9837\n",
      "epoch: 180 loss:0.146044 auc:0.9837\n",
      "epoch: 200 loss:0.144490 auc:0.9837\n",
      "epoch: 220 loss:0.142915 auc:0.9852\n",
      "epoch: 240 loss:0.143159 auc:0.9867\n",
      "epoch: 260 loss:0.139996 auc:0.9911\n",
      "epoch: 280 loss:0.138006 auc:0.9926\n",
      "epoch: 300 loss:0.138493 auc:0.9926\n",
      "epoch: 320 loss:0.134960 auc:0.9882\n",
      "epoch: 340 loss:0.134359 auc:0.9867\n",
      "epoch: 360 loss:0.135877 auc:0.9867\n",
      "epoch: 380 loss:0.130592 auc:0.9882\n"
     ]
    },
    {
     "name": "stderr",
     "output_type": "stream",
     "text": [
      " 72%|███████▏  | 658/910 [1:36:05<41:33,  9.89s/it]"
     ]
    },
    {
     "name": "stdout",
     "output_type": "stream",
     "text": [
      "epoch: 400 loss:0.129542 auc:0.9837\n",
      "Fit finished.\n",
      "epoch:   0 loss:0.754012 auc:0.4844\n",
      "epoch:  20 loss:0.278907 auc:0.9723\n",
      "epoch:  40 loss:0.205184 auc:0.9723\n",
      "epoch:  60 loss:0.181229 auc:0.9689\n",
      "epoch:  80 loss:0.172102 auc:0.9689\n",
      "epoch: 100 loss:0.164795 auc:0.9689\n",
      "epoch: 120 loss:0.156076 auc:0.9689\n",
      "epoch: 140 loss:0.149352 auc:0.9689\n",
      "epoch: 160 loss:0.146941 auc:0.9689\n"
     ]
    },
    {
     "name": "stderr",
     "output_type": "stream",
     "text": [
      " 72%|███████▏  | 659/910 [1:36:10<35:32,  8.50s/it]"
     ]
    },
    {
     "name": "stdout",
     "output_type": "stream",
     "text": [
      "epoch: 180 loss:0.145237 auc:0.9689\n",
      "Fit finished.\n",
      "epoch:   0 loss:0.774761 auc:0.1520\n",
      "epoch:  20 loss:0.251551 auc:0.9712\n",
      "epoch:  40 loss:0.188135 auc:0.9824\n",
      "epoch:  60 loss:0.171674 auc:0.9824\n",
      "epoch:  80 loss:0.160593 auc:0.9824\n",
      "epoch: 100 loss:0.150974 auc:0.9808\n",
      "epoch: 120 loss:0.147585 auc:0.9808\n",
      "epoch: 140 loss:0.145323 auc:0.9808\n",
      "epoch: 160 loss:0.144104 auc:0.9808\n",
      "epoch: 180 loss:0.141953 auc:0.9824\n",
      "epoch: 200 loss:0.140916 auc:0.9840\n",
      "epoch: 220 loss:0.138085 auc:0.9888\n",
      "epoch: 240 loss:0.136173 auc:0.9936\n",
      "epoch: 260 loss:0.136018 auc:0.9936\n",
      "epoch: 280 loss:0.133858 auc:0.9904\n",
      "epoch: 300 loss:0.131763 auc:0.9872\n",
      "epoch: 320 loss:0.130208 auc:0.9920\n",
      "epoch: 340 loss:0.128518 auc:0.9952\n",
      "epoch: 360 loss:0.127330 auc:0.9952\n",
      "epoch: 380 loss:0.128156 auc:0.9920\n"
     ]
    },
    {
     "name": "stderr",
     "output_type": "stream",
     "text": [
      " 73%|███████▎  | 660/910 [1:36:22<39:14,  9.42s/it]"
     ]
    },
    {
     "name": "stdout",
     "output_type": "stream",
     "text": [
      "epoch: 400 loss:0.130958 auc:0.9904\n",
      "Fit finished.\n",
      "epoch:   0 loss:0.909878 auc:0.6421\n",
      "epoch:  20 loss:0.295787 auc:0.9664\n",
      "epoch:  40 loss:0.227719 auc:0.9752\n",
      "epoch:  60 loss:0.183163 auc:0.9744\n",
      "epoch:  80 loss:0.171405 auc:0.9766\n",
      "epoch: 100 loss:0.161518 auc:0.9766\n",
      "epoch: 120 loss:0.150979 auc:0.9766\n",
      "epoch: 140 loss:0.147219 auc:0.9774\n",
      "epoch: 160 loss:0.144870 auc:0.9766\n",
      "epoch: 180 loss:0.145132 auc:0.9766\n"
     ]
    },
    {
     "name": "stderr",
     "output_type": "stream",
     "text": [
      " 73%|███████▎  | 661/910 [1:36:29<35:32,  8.57s/it]"
     ]
    },
    {
     "name": "stdout",
     "output_type": "stream",
     "text": [
      "epoch: 200 loss:0.141564 auc:0.9730\n",
      "Fit finished.\n",
      "epoch:   0 loss:0.563079 auc:0.3646\n",
      "epoch:  20 loss:0.207153 auc:0.9757\n",
      "epoch:  40 loss:0.174624 auc:0.9792\n",
      "epoch:  60 loss:0.160923 auc:0.9792\n",
      "epoch:  80 loss:0.149599 auc:0.9809\n",
      "epoch: 100 loss:0.146185 auc:0.9792\n",
      "epoch: 120 loss:0.143724 auc:0.9809\n",
      "epoch: 140 loss:0.141718 auc:0.9809\n",
      "epoch: 160 loss:0.138780 auc:0.9757\n",
      "epoch: 180 loss:0.137262 auc:0.9757\n"
     ]
    },
    {
     "name": "stderr",
     "output_type": "stream",
     "text": [
      " 73%|███████▎  | 662/910 [1:36:35<32:49,  7.94s/it]"
     ]
    },
    {
     "name": "stdout",
     "output_type": "stream",
     "text": [
      "epoch: 200 loss:0.134773 auc:0.9740\n",
      "Fit finished.\n",
      "epoch:   0 loss:0.759515 auc:0.1353\n",
      "epoch:  20 loss:0.235680 auc:0.9896\n",
      "epoch:  40 loss:0.185635 auc:0.9938\n",
      "epoch:  60 loss:0.172439 auc:0.9938\n",
      "epoch:  80 loss:0.160886 auc:0.9938\n",
      "epoch: 100 loss:0.150782 auc:0.9938\n",
      "epoch: 120 loss:0.146500 auc:0.9938\n",
      "epoch: 140 loss:0.146090 auc:0.9938\n",
      "epoch: 160 loss:0.142847 auc:0.9948\n",
      "epoch: 180 loss:0.139774 auc:0.9948\n",
      "epoch: 200 loss:0.138097 auc:0.9958\n"
     ]
    },
    {
     "name": "stderr",
     "output_type": "stream",
     "text": [
      " 73%|███████▎  | 663/910 [1:36:42<31:05,  7.55s/it]"
     ]
    },
    {
     "name": "stdout",
     "output_type": "stream",
     "text": [
      "epoch: 220 loss:0.135958 auc:0.9854\n",
      "Fit finished.\n",
      "epoch:   0 loss:0.613714 auc:0.6288\n",
      "epoch:  20 loss:0.273890 auc:0.9664\n",
      "epoch:  40 loss:0.198694 auc:0.9712\n",
      "epoch:  60 loss:0.178369 auc:0.9712\n",
      "epoch:  80 loss:0.169605 auc:0.9664\n",
      "epoch: 100 loss:0.162043 auc:0.9696\n",
      "epoch: 120 loss:0.152992 auc:0.9680\n",
      "epoch: 140 loss:0.148542 auc:0.9680\n",
      "epoch: 160 loss:0.146187 auc:0.9680\n",
      "epoch: 180 loss:0.145308 auc:0.9696\n",
      "epoch: 200 loss:0.142582 auc:0.9712\n",
      "epoch: 220 loss:0.141638 auc:0.9760\n",
      "epoch: 240 loss:0.139079 auc:0.9824\n",
      "epoch: 260 loss:0.137592 auc:0.9856\n",
      "epoch: 280 loss:0.135474 auc:0.9872\n",
      "epoch: 300 loss:0.134031 auc:0.9888\n",
      "epoch: 320 loss:0.133010 auc:0.9888\n",
      "epoch: 340 loss:0.133441 auc:0.9888\n",
      "epoch: 360 loss:0.131142 auc:0.9888\n",
      "epoch: 380 loss:0.131322 auc:0.9888\n"
     ]
    },
    {
     "name": "stderr",
     "output_type": "stream",
     "text": [
      " 73%|███████▎  | 665/910 [1:36:55<29:22,  7.19s/it]"
     ]
    },
    {
     "name": "stdout",
     "output_type": "stream",
     "text": [
      "epoch: 400 loss:0.128179 auc:0.9776\n",
      "Fit finished.\n",
      "epoch:   0 loss:0.654271 auc:0.8865\n",
      "epoch:  20 loss:0.268995 auc:0.9694\n",
      "epoch:  40 loss:0.194139 auc:0.9821\n",
      "epoch:  60 loss:0.178166 auc:0.9834\n",
      "epoch:  80 loss:0.169096 auc:0.9834\n",
      "epoch: 100 loss:0.159796 auc:0.9821\n",
      "epoch: 120 loss:0.150456 auc:0.9821\n",
      "epoch: 140 loss:0.147128 auc:0.9834\n",
      "epoch: 160 loss:0.145020 auc:0.9809\n",
      "epoch: 180 loss:0.142803 auc:0.9796\n"
     ]
    },
    {
     "name": "stderr",
     "output_type": "stream",
     "text": [
      " 73%|███████▎  | 666/910 [1:37:01<27:55,  6.87s/it]"
     ]
    },
    {
     "name": "stdout",
     "output_type": "stream",
     "text": [
      "epoch: 200 loss:0.141621 auc:0.9796\n",
      "Fit finished.\n",
      "epoch:   0 loss:0.782161 auc:0.8012\n",
      "epoch:  20 loss:0.274668 auc:0.9576\n",
      "epoch:  40 loss:0.206187 auc:0.9604\n",
      "epoch:  60 loss:0.179031 auc:0.9616\n",
      "epoch:  80 loss:0.168575 auc:0.9632\n",
      "epoch: 100 loss:0.158901 auc:0.9636\n",
      "epoch: 120 loss:0.149865 auc:0.9628\n",
      "epoch: 140 loss:0.147125 auc:0.9636\n",
      "epoch: 160 loss:0.145181 auc:0.9624\n",
      "epoch: 180 loss:0.143471 auc:0.9584\n"
     ]
    },
    {
     "name": "stderr",
     "output_type": "stream",
     "text": [
      " 73%|███████▎  | 667/910 [1:37:07<27:07,  6.70s/it]"
     ]
    },
    {
     "name": "stdout",
     "output_type": "stream",
     "text": [
      "epoch: 200 loss:0.141866 auc:0.9372\n",
      "Fit finished.\n",
      "epoch:   0 loss:0.787301 auc:0.7726\n",
      "epoch:  20 loss:0.269512 auc:0.9566\n",
      "epoch:  40 loss:0.200891 auc:0.9640\n",
      "epoch:  60 loss:0.176186 auc:0.9653\n",
      "epoch:  80 loss:0.163871 auc:0.9661\n",
      "epoch: 100 loss:0.151596 auc:0.9653\n",
      "epoch: 120 loss:0.147433 auc:0.9661\n",
      "epoch: 140 loss:0.145028 auc:0.9661\n",
      "epoch: 160 loss:0.144132 auc:0.9640\n",
      "epoch: 180 loss:0.142314 auc:0.9605\n"
     ]
    },
    {
     "name": "stderr",
     "output_type": "stream",
     "text": [
      " 73%|███████▎  | 668/910 [1:37:14<26:28,  6.56s/it]"
     ]
    },
    {
     "name": "stdout",
     "output_type": "stream",
     "text": [
      "epoch: 200 loss:0.140793 auc:0.9427\n",
      "Fit finished.\n",
      "epoch:   0 loss:0.619670 auc:0.2618\n",
      "epoch:  20 loss:0.218562 auc:0.9515\n",
      "epoch:  40 loss:0.182178 auc:0.9571\n",
      "epoch:  60 loss:0.174426 auc:0.9591\n",
      "epoch:  80 loss:0.168389 auc:0.9584\n",
      "epoch: 100 loss:0.158527 auc:0.9605\n",
      "epoch: 120 loss:0.148662 auc:0.9654\n",
      "epoch: 140 loss:0.145175 auc:0.9647\n",
      "epoch: 160 loss:0.142559 auc:0.9398\n"
     ]
    },
    {
     "name": "stderr",
     "output_type": "stream",
     "text": [
      " 74%|███████▎  | 669/910 [1:37:19<25:18,  6.30s/it]"
     ]
    },
    {
     "name": "stdout",
     "output_type": "stream",
     "text": [
      "epoch: 180 loss:0.140043 auc:0.8677\n",
      "Fit finished.\n",
      "epoch:   0 loss:0.603746 auc:0.2729\n",
      "epoch:  20 loss:0.197270 auc:0.9524\n",
      "epoch:  40 loss:0.178134 auc:0.9625\n",
      "epoch:  60 loss:0.170374 auc:0.9632\n",
      "epoch:  80 loss:0.160332 auc:0.9630\n",
      "epoch: 100 loss:0.149003 auc:0.9630\n",
      "epoch: 120 loss:0.144697 auc:0.9531\n",
      "epoch: 140 loss:0.140833 auc:0.8818\n",
      "epoch: 160 loss:0.140554 auc:0.8199\n"
     ]
    },
    {
     "name": "stderr",
     "output_type": "stream",
     "text": [
      " 74%|███████▎  | 670/910 [1:37:25<24:39,  6.17s/it]"
     ]
    },
    {
     "name": "stdout",
     "output_type": "stream",
     "text": [
      "epoch: 180 loss:0.135858 auc:0.6747\n",
      "Fit finished.\n",
      "epoch:   0 loss:0.697337 auc:0.2171\n",
      "epoch:  20 loss:0.246587 auc:0.9427\n",
      "epoch:  40 loss:0.184108 auc:0.9456\n",
      "epoch:  60 loss:0.170794 auc:0.9490\n",
      "epoch:  80 loss:0.159888 auc:0.9493\n",
      "epoch: 100 loss:0.149737 auc:0.9486\n",
      "epoch: 120 loss:0.146313 auc:0.9512\n",
      "epoch: 140 loss:0.144193 auc:0.9442\n",
      "epoch: 160 loss:0.141916 auc:0.9268\n"
     ]
    },
    {
     "name": "stderr",
     "output_type": "stream",
     "text": [
      " 74%|███████▎  | 671/910 [1:37:31<24:22,  6.12s/it]"
     ]
    },
    {
     "name": "stdout",
     "output_type": "stream",
     "text": [
      "epoch: 180 loss:0.139793 auc:0.8990\n",
      "Fit finished.\n",
      "epoch:   0 loss:0.655368 auc:0.2800\n",
      "epoch:  20 loss:0.257534 auc:0.9975\n",
      "epoch:  40 loss:0.188430 auc:0.9975\n",
      "epoch:  60 loss:0.174172 auc:0.9975\n",
      "epoch:  80 loss:0.166708 auc:0.9975\n",
      "epoch: 100 loss:0.157087 auc:0.9975\n",
      "epoch: 120 loss:0.148661 auc:0.9975\n",
      "epoch: 140 loss:0.145678 auc:0.9975\n",
      "epoch: 160 loss:0.145866 auc:0.9975\n"
     ]
    },
    {
     "name": "stderr",
     "output_type": "stream",
     "text": [
      " 74%|███████▍  | 672/910 [1:37:37<23:42,  5.98s/it]"
     ]
    },
    {
     "name": "stdout",
     "output_type": "stream",
     "text": [
      "epoch: 180 loss:0.141519 auc:0.9900\n",
      "Fit finished.\n",
      "epoch:   0 loss:0.905208 auc:0.6522\n",
      "epoch:  20 loss:0.270285 auc:0.9931\n",
      "epoch:  40 loss:0.196379 auc:0.9957\n",
      "epoch:  60 loss:0.178287 auc:0.9983\n",
      "epoch:  80 loss:0.169317 auc:0.9983\n",
      "epoch: 100 loss:0.160122 auc:0.9983\n",
      "epoch: 120 loss:0.149703 auc:0.9983\n",
      "epoch: 140 loss:0.146715 auc:0.9983\n",
      "epoch: 160 loss:0.144722 auc:0.9991\n",
      "epoch: 180 loss:0.143082 auc:0.9983\n",
      "epoch: 200 loss:0.141777 auc:0.9965\n"
     ]
    },
    {
     "name": "stderr",
     "output_type": "stream",
     "text": [
      " 74%|███████▍  | 673/910 [1:37:43<24:19,  6.16s/it]"
     ]
    },
    {
     "name": "stdout",
     "output_type": "stream",
     "text": [
      "epoch: 220 loss:0.139905 auc:0.9931\n",
      "Fit finished.\n",
      "epoch:   0 loss:0.874287 auc:0.3115\n",
      "epoch:  20 loss:0.269360 auc:0.9596\n",
      "epoch:  40 loss:0.201037 auc:0.9750\n",
      "epoch:  60 loss:0.178568 auc:0.9822\n",
      "epoch:  80 loss:0.166924 auc:0.9834\n",
      "epoch: 100 loss:0.155356 auc:0.9845\n",
      "epoch: 120 loss:0.148827 auc:0.9845\n",
      "epoch: 140 loss:0.146040 auc:0.9845\n",
      "epoch: 160 loss:0.145741 auc:0.9857\n",
      "epoch: 180 loss:0.143108 auc:0.9857\n",
      "epoch: 200 loss:0.140812 auc:0.9857\n",
      "epoch: 220 loss:0.140276 auc:0.9869\n",
      "epoch: 240 loss:0.137739 auc:0.9917\n",
      "epoch: 260 loss:0.136459 auc:0.9917\n",
      "epoch: 280 loss:0.133755 auc:0.9941\n",
      "epoch: 300 loss:0.133782 auc:0.9929\n",
      "epoch: 320 loss:0.132174 auc:0.9917\n",
      "epoch: 340 loss:0.128774 auc:0.9905\n",
      "epoch: 360 loss:0.131525 auc:0.9929\n",
      "epoch: 380 loss:0.126405 auc:0.9905\n"
     ]
    },
    {
     "name": "stderr",
     "output_type": "stream",
     "text": [
      " 74%|███████▍  | 674/910 [1:37:55<31:10,  7.93s/it]"
     ]
    },
    {
     "name": "stdout",
     "output_type": "stream",
     "text": [
      "epoch: 400 loss:0.124337 auc:0.9905\n",
      "Fit finished.\n",
      "epoch:   0 loss:0.772623 auc:0.8771\n",
      "epoch:  20 loss:0.282879 auc:0.9943\n",
      "epoch:  40 loss:0.209293 auc:0.9981\n",
      "epoch:  60 loss:0.181816 auc:0.9981\n",
      "epoch:  80 loss:0.171284 auc:0.9981\n",
      "epoch: 100 loss:0.162748 auc:0.9981\n",
      "epoch: 120 loss:0.152905 auc:0.9981\n",
      "epoch: 140 loss:0.147991 auc:0.9981\n",
      "epoch: 160 loss:0.145698 auc:0.9981\n",
      "epoch: 180 loss:0.144240 auc:0.9981\n",
      "epoch: 200 loss:0.142928 auc:0.9981\n",
      "epoch: 220 loss:0.141446 auc:0.9981\n",
      "epoch: 240 loss:0.139918 auc:0.9981\n"
     ]
    },
    {
     "name": "stderr",
     "output_type": "stream",
     "text": [
      " 74%|███████▍  | 675/910 [1:38:02<30:04,  7.68s/it]"
     ]
    },
    {
     "name": "stdout",
     "output_type": "stream",
     "text": [
      "epoch: 260 loss:0.138100 auc:0.9924\n",
      "Fit finished.\n",
      "epoch:   0 loss:1.005549 auc:0.5417\n",
      "epoch:  20 loss:0.285870 auc:0.9375\n",
      "epoch:  40 loss:0.203000 auc:0.9306\n",
      "epoch:  60 loss:0.180822 auc:0.9375\n",
      "epoch:  80 loss:0.170760 auc:0.9444\n",
      "epoch: 100 loss:0.160145 auc:0.9375\n",
      "epoch: 120 loss:0.152531 auc:0.9375\n",
      "epoch: 140 loss:0.147166 auc:0.9375\n",
      "epoch: 160 loss:0.144902 auc:0.9375\n",
      "epoch: 180 loss:0.143114 auc:0.9375\n",
      "epoch: 200 loss:0.143339 auc:0.9444\n",
      "epoch: 220 loss:0.140172 auc:0.9514\n",
      "epoch: 240 loss:0.137749 auc:0.9514\n",
      "epoch: 260 loss:0.136484 auc:0.9514\n",
      "epoch: 280 loss:0.136563 auc:0.9583\n",
      "epoch: 300 loss:0.135182 auc:0.9583\n",
      "epoch: 320 loss:0.132423 auc:0.9583\n",
      "epoch: 340 loss:0.130910 auc:0.9583\n",
      "epoch: 360 loss:0.130480 auc:0.9583\n",
      "epoch: 380 loss:0.128073 auc:0.9583\n",
      "epoch: 400 loss:0.127869 auc:0.9583\n",
      "epoch: 420 loss:0.126454 auc:0.9583\n",
      "epoch: 440 loss:0.125289 auc:0.9583\n",
      "epoch: 460 loss:0.126266 auc:0.9583\n",
      "epoch: 480 loss:0.121633 auc:0.9583\n",
      "epoch: 500 loss:0.122840 auc:0.9583\n",
      "epoch: 520 loss:0.121006 auc:0.9583\n",
      "epoch: 540 loss:0.118618 auc:0.9583\n",
      "epoch: 560 loss:0.120983 auc:0.9583\n",
      "epoch: 580 loss:0.125045 auc:0.9583\n",
      "epoch: 600 loss:0.117014 auc:0.9583\n",
      "epoch: 620 loss:0.115212 auc:0.9583\n",
      "epoch: 640 loss:0.114057 auc:0.9583\n",
      "epoch: 660 loss:0.114711 auc:0.9583\n",
      "epoch: 680 loss:0.112651 auc:0.9583\n"
     ]
    },
    {
     "name": "stderr",
     "output_type": "stream",
     "text": [
      " 74%|███████▍  | 676/910 [1:38:24<45:50, 11.75s/it]"
     ]
    },
    {
     "name": "stdout",
     "output_type": "stream",
     "text": [
      "epoch: 700 loss:0.113469 auc:0.9514\n",
      "Fit finished.\n",
      "epoch:   0 loss:0.908078 auc:0.5278\n",
      "epoch:  20 loss:0.280625 auc:0.9931\n",
      "epoch:  40 loss:0.214168 auc:0.9931\n",
      "epoch:  60 loss:0.183507 auc:0.9931\n",
      "epoch:  80 loss:0.171784 auc:0.9861\n",
      "epoch: 100 loss:0.162995 auc:0.9861\n",
      "epoch: 120 loss:0.153469 auc:0.9861\n",
      "epoch: 140 loss:0.148644 auc:0.9861\n",
      "epoch: 160 loss:0.146391 auc:0.9861\n"
     ]
    },
    {
     "name": "stderr",
     "output_type": "stream",
     "text": [
      " 74%|███████▍  | 677/910 [1:38:29<38:37,  9.95s/it]"
     ]
    },
    {
     "name": "stdout",
     "output_type": "stream",
     "text": [
      "epoch: 180 loss:0.144673 auc:0.9861\n",
      "Fit finished.\n",
      "epoch:   0 loss:0.892043 auc:0.8875\n",
      "epoch:  20 loss:0.291884 auc:0.9975\n",
      "epoch:  40 loss:0.218181 auc:0.9925\n",
      "epoch:  60 loss:0.179228 auc:0.9900\n",
      "epoch:  80 loss:0.166726 auc:0.9900\n",
      "epoch: 100 loss:0.155546 auc:0.9900\n",
      "epoch: 120 loss:0.149599 auc:0.9900\n",
      "epoch: 140 loss:0.146956 auc:0.9900\n",
      "epoch: 160 loss:0.144954 auc:0.9900\n"
     ]
    },
    {
     "name": "stderr",
     "output_type": "stream",
     "text": [
      " 75%|███████▍  | 678/910 [1:38:35<33:31,  8.67s/it]"
     ]
    },
    {
     "name": "stdout",
     "output_type": "stream",
     "text": [
      "epoch: 180 loss:0.143428 auc:0.9900\n",
      "Fit finished.\n",
      "epoch:   0 loss:0.713289 auc:0.6755\n",
      "epoch:  20 loss:0.272868 auc:0.9248\n",
      "epoch:  40 loss:0.200411 auc:0.9259\n",
      "epoch:  60 loss:0.180336 auc:0.9232\n",
      "epoch:  80 loss:0.171091 auc:0.9189\n",
      "epoch: 100 loss:0.163236 auc:0.9151\n",
      "epoch: 120 loss:0.152769 auc:0.9156\n",
      "epoch: 140 loss:0.147842 auc:0.9156\n",
      "epoch: 160 loss:0.145467 auc:0.9167\n"
     ]
    },
    {
     "name": "stderr",
     "output_type": "stream",
     "text": [
      " 75%|███████▍  | 679/910 [1:38:41<30:12,  7.85s/it]"
     ]
    },
    {
     "name": "stdout",
     "output_type": "stream",
     "text": [
      "epoch: 180 loss:0.144344 auc:0.9221\n",
      "Fit finished.\n",
      "epoch:   0 loss:0.879953 auc:0.2825\n",
      "epoch:  20 loss:0.246809 auc:0.9450\n",
      "epoch:  40 loss:0.187967 auc:0.9800\n",
      "epoch:  60 loss:0.173754 auc:0.9775\n",
      "epoch:  80 loss:0.165387 auc:0.9775\n",
      "epoch: 100 loss:0.154860 auc:0.9800\n",
      "epoch: 120 loss:0.148910 auc:0.9800\n",
      "epoch: 140 loss:0.148313 auc:0.9800\n",
      "epoch: 160 loss:0.144681 auc:0.9825\n",
      "epoch: 180 loss:0.143077 auc:0.9825\n",
      "epoch: 200 loss:0.159700 auc:0.9825\n",
      "epoch: 220 loss:0.140162 auc:0.9825\n",
      "epoch: 240 loss:0.137982 auc:0.9800\n",
      "epoch: 260 loss:0.142074 auc:0.9825\n",
      "epoch: 280 loss:0.136380 auc:0.9800\n"
     ]
    },
    {
     "name": "stderr",
     "output_type": "stream",
     "text": [
      " 75%|███████▍  | 680/910 [1:38:51<32:27,  8.47s/it]"
     ]
    },
    {
     "name": "stdout",
     "output_type": "stream",
     "text": [
      "epoch: 300 loss:0.134252 auc:0.9775\n",
      "Fit finished.\n",
      "epoch:   0 loss:0.544502 auc:0.7766\n",
      "epoch:  20 loss:0.257679 auc:0.9275\n",
      "epoch:  40 loss:0.189704 auc:0.9260\n",
      "epoch:  60 loss:0.173931 auc:0.9260\n",
      "epoch:  80 loss:0.163963 auc:0.9275\n",
      "epoch: 100 loss:0.151572 auc:0.9305\n",
      "epoch: 120 loss:0.147140 auc:0.9290\n",
      "epoch: 140 loss:0.144615 auc:0.9275\n",
      "epoch: 160 loss:0.143956 auc:0.9172\n"
     ]
    },
    {
     "name": "stderr",
     "output_type": "stream",
     "text": [
      " 75%|███████▍  | 681/910 [1:38:57<29:05,  7.62s/it]"
     ]
    },
    {
     "name": "stdout",
     "output_type": "stream",
     "text": [
      "epoch: 180 loss:0.141619 auc:0.9246\n",
      "Fit finished.\n",
      "epoch:   0 loss:0.824474 auc:0.6994\n",
      "epoch:  20 loss:0.266663 auc:0.9591\n",
      "epoch:  40 loss:0.190927 auc:0.9612\n",
      "epoch:  60 loss:0.177604 auc:0.9591\n",
      "epoch:  80 loss:0.171557 auc:0.9584\n",
      "epoch: 100 loss:0.165351 auc:0.9578\n",
      "epoch: 120 loss:0.155597 auc:0.9584\n",
      "epoch: 140 loss:0.148081 auc:0.9591\n",
      "epoch: 160 loss:0.145301 auc:0.9612\n",
      "epoch: 180 loss:0.144079 auc:0.9647\n",
      "epoch: 200 loss:0.141109 auc:0.9681\n",
      "epoch: 220 loss:0.145092 auc:0.9688\n",
      "epoch: 240 loss:0.138357 auc:0.9654\n",
      "epoch: 260 loss:0.136223 auc:0.9654\n",
      "epoch: 280 loss:0.137341 auc:0.9681\n",
      "epoch: 300 loss:0.134518 auc:0.9688\n",
      "epoch: 320 loss:0.134259 auc:0.9813\n",
      "epoch: 340 loss:0.130448 auc:0.9709\n",
      "epoch: 360 loss:0.129580 auc:0.9792\n",
      "epoch: 380 loss:0.127590 auc:0.9792\n",
      "epoch: 400 loss:0.128322 auc:0.9765\n",
      "epoch: 420 loss:0.124505 auc:0.9792\n",
      "epoch: 440 loss:0.123379 auc:0.9778\n",
      "epoch: 460 loss:0.122556 auc:0.9751\n"
     ]
    },
    {
     "name": "stderr",
     "output_type": "stream",
     "text": [
      " 75%|███████▍  | 682/910 [1:39:11<36:47,  9.68s/it]"
     ]
    },
    {
     "name": "stdout",
     "output_type": "stream",
     "text": [
      "epoch: 480 loss:0.123740 auc:0.9709\n",
      "Fit finished.\n",
      "epoch:   0 loss:0.650047 auc:0.3241\n",
      "epoch:  20 loss:0.252935 auc:1.0000\n",
      "epoch:  40 loss:0.186501 auc:1.0000\n",
      "epoch:  60 loss:0.170758 auc:0.9969\n",
      "epoch:  80 loss:0.159212 auc:0.9969\n",
      "epoch: 100 loss:0.150200 auc:0.9969\n",
      "epoch: 120 loss:0.147044 auc:0.9938\n",
      "epoch: 140 loss:0.144832 auc:0.9969\n",
      "epoch: 160 loss:0.142839 auc:0.9938\n"
     ]
    },
    {
     "name": "stderr",
     "output_type": "stream",
     "text": [
      " 75%|███████▌  | 683/910 [1:39:16<31:00,  8.20s/it]"
     ]
    },
    {
     "name": "stdout",
     "output_type": "stream",
     "text": [
      "epoch: 180 loss:0.141888 auc:0.9938\n",
      "Fit finished.\n",
      "epoch:   0 loss:0.568310 auc:0.4454\n",
      "epoch:  20 loss:0.287248 auc:0.9709\n",
      "epoch:  40 loss:0.210746 auc:0.9865\n",
      "epoch:  60 loss:0.179895 auc:0.9896\n",
      "epoch:  80 loss:0.169676 auc:0.9886\n",
      "epoch: 100 loss:0.160699 auc:0.9886\n",
      "epoch: 120 loss:0.150770 auc:0.9886\n",
      "epoch: 140 loss:0.147297 auc:0.9886\n",
      "epoch: 160 loss:0.144992 auc:0.9886\n",
      "epoch: 180 loss:0.144596 auc:0.9886\n",
      "epoch: 200 loss:0.141315 auc:0.9875\n",
      "epoch: 220 loss:0.139487 auc:0.9927\n",
      "epoch: 240 loss:0.137916 auc:0.9906\n",
      "epoch: 260 loss:0.136439 auc:0.9886\n",
      "epoch: 280 loss:0.135364 auc:0.9886\n"
     ]
    },
    {
     "name": "stderr",
     "output_type": "stream",
     "text": [
      " 75%|███████▌  | 684/910 [1:39:25<32:27,  8.62s/it]"
     ]
    },
    {
     "name": "stdout",
     "output_type": "stream",
     "text": [
      "epoch: 300 loss:0.134787 auc:0.9875\n",
      "Fit finished.\n",
      "epoch:   0 loss:0.697043 auc:0.1675\n",
      "epoch:  20 loss:0.236423 auc:0.9480\n",
      "epoch:  40 loss:0.183733 auc:0.9532\n",
      "epoch:  60 loss:0.171860 auc:0.9584\n",
      "epoch:  80 loss:0.162927 auc:0.9584\n",
      "epoch: 100 loss:0.151003 auc:0.9563\n",
      "epoch: 120 loss:0.147673 auc:0.9553\n",
      "epoch: 140 loss:0.144844 auc:0.9553\n",
      "epoch: 160 loss:0.142155 auc:0.9428\n"
     ]
    },
    {
     "name": "stderr",
     "output_type": "stream",
     "text": [
      " 75%|███████▌  | 685/910 [1:39:31<28:20,  7.56s/it]"
     ]
    },
    {
     "name": "stdout",
     "output_type": "stream",
     "text": [
      "epoch: 180 loss:0.141707 auc:0.8980\n",
      "Fit finished.\n",
      "epoch:   0 loss:1.227412 auc:0.8616\n",
      "epoch:  20 loss:0.265815 auc:1.0000\n",
      "epoch:  40 loss:0.199622 auc:1.0000\n",
      "epoch:  60 loss:0.179191 auc:1.0000\n",
      "epoch:  80 loss:0.169542 auc:1.0000\n",
      "epoch: 100 loss:0.158764 auc:1.0000\n",
      "epoch: 120 loss:0.149660 auc:1.0000\n",
      "epoch: 140 loss:0.146674 auc:1.0000\n",
      "epoch: 160 loss:0.144860 auc:1.0000\n",
      "epoch: 180 loss:0.143477 auc:1.0000\n",
      "epoch: 200 loss:0.142385 auc:1.0000\n",
      "epoch: 220 loss:0.144609 auc:1.0000\n",
      "epoch: 240 loss:0.141321 auc:1.0000\n",
      "epoch: 260 loss:0.138919 auc:1.0000\n",
      "epoch: 280 loss:0.137423 auc:1.0000\n",
      "epoch: 300 loss:0.136047 auc:1.0000\n",
      "epoch: 320 loss:0.135064 auc:1.0000\n",
      "epoch: 340 loss:0.133929 auc:1.0000\n",
      "epoch: 360 loss:0.134234 auc:1.0000\n",
      "epoch: 380 loss:0.131183 auc:1.0000\n",
      "epoch: 400 loss:0.131382 auc:1.0000\n",
      "epoch: 420 loss:0.135443 auc:1.0000\n",
      "epoch: 440 loss:0.133422 auc:1.0000\n",
      "epoch: 460 loss:0.126194 auc:1.0000\n",
      "epoch: 480 loss:0.124837 auc:1.0000\n",
      "epoch: 500 loss:0.125944 auc:1.0000\n",
      "epoch: 520 loss:0.129718 auc:1.0000\n",
      "epoch: 540 loss:0.124720 auc:1.0000\n",
      "epoch: 560 loss:0.121609 auc:1.0000\n",
      "epoch: 580 loss:0.120058 auc:1.0000\n",
      "epoch: 600 loss:0.121857 auc:1.0000\n",
      "epoch: 620 loss:0.118511 auc:1.0000\n"
     ]
    },
    {
     "name": "stderr",
     "output_type": "stream",
     "text": [
      " 75%|███████▌  | 686/910 [1:39:49<39:56, 10.70s/it]"
     ]
    },
    {
     "name": "stdout",
     "output_type": "stream",
     "text": [
      "epoch: 640 loss:0.118321 auc:0.9979\n",
      "Fit finished.\n",
      "epoch:   0 loss:0.727939 auc:0.2968\n",
      "epoch:  20 loss:0.253669 auc:0.9716\n",
      "epoch:  40 loss:0.187292 auc:0.9830\n",
      "epoch:  60 loss:0.173009 auc:0.9868\n",
      "epoch:  80 loss:0.164616 auc:0.9868\n",
      "epoch: 100 loss:0.153554 auc:0.9868\n",
      "epoch: 120 loss:0.147560 auc:0.9868\n",
      "epoch: 140 loss:0.144985 auc:0.9868\n",
      "epoch: 160 loss:0.143769 auc:0.9868\n",
      "epoch: 180 loss:0.141217 auc:0.9868\n",
      "epoch: 200 loss:0.138717 auc:0.9924\n",
      "epoch: 220 loss:0.137331 auc:0.9924\n",
      "epoch: 240 loss:0.135807 auc:0.9924\n",
      "epoch: 260 loss:0.134985 auc:0.9924\n",
      "epoch: 280 loss:0.135712 auc:0.9887\n",
      "epoch: 300 loss:0.132503 auc:0.9924\n",
      "epoch: 320 loss:0.132266 auc:0.9905\n",
      "epoch: 340 loss:0.129954 auc:0.9924\n",
      "epoch: 360 loss:0.128449 auc:0.9924\n",
      "epoch: 380 loss:0.125587 auc:0.9962\n",
      "epoch: 400 loss:0.124094 auc:0.9981\n",
      "epoch: 420 loss:0.124052 auc:0.9962\n",
      "epoch: 440 loss:0.121988 auc:0.9943\n",
      "epoch: 460 loss:0.119415 auc:0.9943\n"
     ]
    },
    {
     "name": "stderr",
     "output_type": "stream",
     "text": [
      " 75%|███████▌  | 687/910 [1:40:02<43:07, 11.60s/it]"
     ]
    },
    {
     "name": "stdout",
     "output_type": "stream",
     "text": [
      "epoch: 480 loss:0.121639 auc:0.9849\n",
      "Fit finished.\n",
      "epoch:   0 loss:0.865446 auc:0.9016\n",
      "epoch:  20 loss:0.268397 auc:0.9724\n",
      "epoch:  40 loss:0.207319 auc:0.9748\n",
      "epoch:  60 loss:0.178577 auc:0.9748\n",
      "epoch:  80 loss:0.164140 auc:0.9756\n",
      "epoch: 100 loss:0.152610 auc:0.9756\n",
      "epoch: 120 loss:0.148413 auc:0.9756\n",
      "epoch: 140 loss:0.145937 auc:0.9756\n",
      "epoch: 160 loss:0.145304 auc:0.9748\n",
      "epoch: 180 loss:0.143299 auc:0.9740\n"
     ]
    },
    {
     "name": "stderr",
     "output_type": "stream",
     "text": [
      " 76%|███████▌  | 688/910 [1:40:08<36:46,  9.94s/it]"
     ]
    },
    {
     "name": "stdout",
     "output_type": "stream",
     "text": [
      "epoch: 200 loss:0.141404 auc:0.9592\n",
      "Fit finished.\n",
      "epoch:   0 loss:0.739268 auc:0.1456\n",
      "epoch:  20 loss:0.265928 auc:0.9744\n",
      "epoch:  40 loss:0.190917 auc:0.9760\n",
      "epoch:  60 loss:0.175579 auc:0.9824\n",
      "epoch:  80 loss:0.166864 auc:0.9808\n",
      "epoch: 100 loss:0.156398 auc:0.9808\n",
      "epoch: 120 loss:0.148962 auc:0.9808\n",
      "epoch: 140 loss:0.146319 auc:0.9808\n",
      "epoch: 160 loss:0.144305 auc:0.9808\n",
      "epoch: 180 loss:0.142670 auc:0.9808\n",
      "epoch: 200 loss:0.141239 auc:0.9776\n"
     ]
    },
    {
     "name": "stderr",
     "output_type": "stream",
     "text": [
      " 76%|███████▌  | 689/910 [1:40:15<32:51,  8.92s/it]"
     ]
    },
    {
     "name": "stdout",
     "output_type": "stream",
     "text": [
      "epoch: 220 loss:0.138891 auc:0.9792\n",
      "Fit finished.\n",
      "epoch:   0 loss:0.596370 auc:0.4625\n",
      "epoch:  20 loss:0.263176 auc:0.9763\n",
      "epoch:  40 loss:0.186936 auc:0.9769\n",
      "epoch:  60 loss:0.168471 auc:0.9769\n",
      "epoch:  80 loss:0.154851 auc:0.9756\n",
      "epoch: 100 loss:0.148426 auc:0.9750\n",
      "epoch: 120 loss:0.145161 auc:0.9738\n",
      "epoch: 140 loss:0.144025 auc:0.9713\n",
      "epoch: 160 loss:0.140576 auc:0.9581\n"
     ]
    },
    {
     "name": "stderr",
     "output_type": "stream",
     "text": [
      " 76%|███████▌  | 690/910 [1:40:20<28:44,  7.84s/it]"
     ]
    },
    {
     "name": "stdout",
     "output_type": "stream",
     "text": [
      "epoch: 180 loss:0.139719 auc:0.8656\n",
      "Fit finished.\n",
      "epoch:   0 loss:0.613358 auc:0.5898\n",
      "epoch:  20 loss:0.270854 auc:1.0000\n",
      "epoch:  40 loss:0.194634 auc:1.0000\n",
      "epoch:  60 loss:0.177593 auc:1.0000\n",
      "epoch:  80 loss:0.166965 auc:1.0000\n",
      "epoch: 100 loss:0.155402 auc:1.0000\n",
      "epoch: 120 loss:0.148719 auc:1.0000\n",
      "epoch: 140 loss:0.146017 auc:1.0000\n",
      "epoch: 160 loss:0.144330 auc:1.0000\n",
      "epoch: 180 loss:0.142468 auc:1.0000\n",
      "epoch: 200 loss:0.141826 auc:1.0000\n"
     ]
    },
    {
     "name": "stderr",
     "output_type": "stream",
     "text": [
      " 76%|███████▌  | 691/910 [1:40:26<26:09,  7.17s/it]"
     ]
    },
    {
     "name": "stdout",
     "output_type": "stream",
     "text": [
      "epoch: 220 loss:0.138819 auc:0.9961\n",
      "Fit finished.\n",
      "epoch:   0 loss:1.332017 auc:0.3555\n",
      "epoch:  20 loss:0.273949 auc:0.9219\n",
      "epoch:  40 loss:0.204928 auc:0.9463\n",
      "epoch:  60 loss:0.179161 auc:0.9502\n",
      "epoch:  80 loss:0.167748 auc:0.9492\n",
      "epoch: 100 loss:0.156549 auc:0.9512\n",
      "epoch: 120 loss:0.148653 auc:0.9502\n",
      "epoch: 140 loss:0.146242 auc:0.9492\n",
      "epoch: 160 loss:0.144295 auc:0.9502\n",
      "epoch: 180 loss:0.144432 auc:0.9512\n",
      "epoch: 200 loss:0.141132 auc:0.9502\n",
      "epoch: 220 loss:0.139912 auc:0.9531\n"
     ]
    },
    {
     "name": "stderr",
     "output_type": "stream",
     "text": [
      " 76%|███████▌  | 692/910 [1:40:34<27:22,  7.54s/it]"
     ]
    },
    {
     "name": "stdout",
     "output_type": "stream",
     "text": [
      "epoch: 240 loss:0.138441 auc:0.9443\n",
      "Fit finished.\n",
      "epoch:   0 loss:0.755037 auc:0.5664\n",
      "epoch:  20 loss:0.238543 auc:0.9838\n",
      "epoch:  40 loss:0.185094 auc:0.9799\n",
      "epoch:  60 loss:0.172546 auc:0.9799\n",
      "epoch:  80 loss:0.163928 auc:0.9807\n",
      "epoch: 100 loss:0.153037 auc:0.9807\n",
      "epoch: 120 loss:0.148140 auc:0.9815\n",
      "epoch: 140 loss:0.145342 auc:0.9799\n",
      "epoch: 160 loss:0.145117 auc:0.9799\n"
     ]
    },
    {
     "name": "stderr",
     "output_type": "stream",
     "text": [
      " 76%|███████▌  | 693/910 [1:40:39<24:28,  6.77s/it]"
     ]
    },
    {
     "name": "stdout",
     "output_type": "stream",
     "text": [
      "epoch: 180 loss:0.141441 auc:0.9738\n",
      "Fit finished.\n",
      "epoch:   0 loss:0.617151 auc:0.4725\n",
      "epoch:  20 loss:0.244167 auc:0.9975\n",
      "epoch:  40 loss:0.183972 auc:0.9975\n",
      "epoch:  60 loss:0.168164 auc:0.9975\n",
      "epoch:  80 loss:0.156101 auc:0.9975\n",
      "epoch: 100 loss:0.148937 auc:0.9975\n",
      "epoch: 120 loss:0.146055 auc:0.9975\n",
      "epoch: 140 loss:0.143658 auc:0.9975\n",
      "epoch: 160 loss:0.143614 auc:1.0000\n",
      "epoch: 180 loss:0.139326 auc:1.0000\n",
      "epoch: 200 loss:0.137290 auc:1.0000\n",
      "epoch: 220 loss:0.136217 auc:1.0000\n",
      "epoch: 240 loss:0.134363 auc:1.0000\n",
      "epoch: 260 loss:0.132118 auc:1.0000\n",
      "epoch: 280 loss:0.130334 auc:1.0000\n",
      "epoch: 300 loss:0.131941 auc:1.0000\n",
      "epoch: 320 loss:0.127556 auc:1.0000\n",
      "epoch: 340 loss:0.125496 auc:1.0000\n",
      "epoch: 360 loss:0.123048 auc:1.0000\n",
      "epoch: 380 loss:0.121896 auc:1.0000\n",
      "epoch: 400 loss:0.126053 auc:1.0000\n",
      "epoch: 420 loss:0.121351 auc:1.0000\n",
      "epoch: 440 loss:0.117244 auc:1.0000\n",
      "epoch: 460 loss:0.115281 auc:1.0000\n",
      "epoch: 480 loss:0.114050 auc:1.0000\n",
      "epoch: 500 loss:0.114956 auc:1.0000\n",
      "epoch: 520 loss:0.112864 auc:1.0000\n",
      "epoch: 540 loss:0.111765 auc:1.0000\n",
      "epoch: 560 loss:0.112219 auc:1.0000\n",
      "epoch: 580 loss:0.110554 auc:1.0000\n",
      "epoch: 600 loss:0.109951 auc:1.0000\n",
      "epoch: 620 loss:0.110627 auc:1.0000\n",
      "epoch: 640 loss:0.109194 auc:1.0000\n",
      "epoch: 660 loss:0.108946 auc:1.0000\n",
      "epoch: 680 loss:0.108609 auc:1.0000\n",
      "epoch: 700 loss:0.108238 auc:1.0000\n",
      "epoch: 720 loss:0.107678 auc:1.0000\n",
      "epoch: 740 loss:0.107398 auc:1.0000\n",
      "epoch: 760 loss:0.106951 auc:1.0000\n",
      "epoch: 780 loss:0.106887 auc:1.0000\n",
      "epoch: 800 loss:0.106911 auc:1.0000\n",
      "epoch: 820 loss:0.105928 auc:1.0000\n",
      "epoch: 840 loss:0.106097 auc:1.0000\n",
      "epoch: 860 loss:0.105660 auc:1.0000\n",
      "epoch: 880 loss:0.105693 auc:1.0000\n",
      "epoch: 900 loss:0.105040 auc:1.0000\n",
      "epoch: 920 loss:0.105047 auc:1.0000\n",
      "epoch: 940 loss:0.104726 auc:1.0000\n",
      "epoch: 960 loss:0.104851 auc:1.0000\n",
      "epoch: 980 loss:0.104506 auc:1.0000\n"
     ]
    },
    {
     "name": "stderr",
     "output_type": "stream",
     "text": [
      " 76%|███████▋  | 694/910 [1:41:07<46:41, 12.97s/it]"
     ]
    },
    {
     "name": "stdout",
     "output_type": "stream",
     "text": [
      "Fit finished.\n",
      "epoch:   0 loss:1.020623 auc:0.3641\n",
      "epoch:  20 loss:0.286705 auc:0.9682\n",
      "epoch:  40 loss:0.219207 auc:0.9739\n",
      "epoch:  60 loss:0.185490 auc:0.9747\n",
      "epoch:  80 loss:0.173559 auc:0.9788\n",
      "epoch: 100 loss:0.166150 auc:0.9780\n",
      "epoch: 120 loss:0.157307 auc:0.9788\n",
      "epoch: 140 loss:0.149451 auc:0.9788\n",
      "epoch: 160 loss:0.146633 auc:0.9796\n",
      "epoch: 180 loss:0.144868 auc:0.9804\n",
      "epoch: 200 loss:0.143785 auc:0.9796\n",
      "epoch: 220 loss:0.141953 auc:0.9796\n",
      "epoch: 240 loss:0.143825 auc:0.9796\n"
     ]
    },
    {
     "name": "stderr",
     "output_type": "stream",
     "text": [
      " 76%|███████▋  | 695/910 [1:41:15<41:59, 11.72s/it]"
     ]
    },
    {
     "name": "stdout",
     "output_type": "stream",
     "text": [
      "epoch: 260 loss:0.139787 auc:0.9731\n",
      "Fit finished.\n",
      "epoch:   0 loss:0.867866 auc:0.5339\n",
      "epoch:  20 loss:0.272723 auc:0.9820\n",
      "epoch:  40 loss:0.202059 auc:0.9869\n",
      "epoch:  60 loss:0.178898 auc:0.9869\n",
      "epoch:  80 loss:0.168338 auc:0.9869\n",
      "epoch: 100 loss:0.157454 auc:0.9869\n",
      "epoch: 120 loss:0.149255 auc:0.9869\n",
      "epoch: 140 loss:0.146313 auc:0.9869\n",
      "epoch: 160 loss:0.144459 auc:0.9869\n",
      "epoch: 180 loss:0.143383 auc:0.9869\n",
      "epoch: 200 loss:0.143971 auc:0.9869\n",
      "epoch: 220 loss:0.140753 auc:0.9869\n"
     ]
    },
    {
     "name": "stderr",
     "output_type": "stream",
     "text": [
      " 76%|███████▋  | 696/910 [1:41:24<38:04, 10.68s/it]"
     ]
    },
    {
     "name": "stdout",
     "output_type": "stream",
     "text": [
      "epoch: 240 loss:0.139794 auc:0.9845\n",
      "Fit finished.\n",
      "epoch:   0 loss:0.630189 auc:0.2650\n",
      "epoch:  20 loss:0.238172 auc:1.0000\n",
      "epoch:  40 loss:0.186443 auc:1.0000\n",
      "epoch:  60 loss:0.173704 auc:1.0000\n",
      "epoch:  80 loss:0.165012 auc:1.0000\n",
      "epoch: 100 loss:0.152667 auc:1.0000\n",
      "epoch: 120 loss:0.147153 auc:1.0000\n",
      "epoch: 140 loss:0.145487 auc:1.0000\n",
      "epoch: 160 loss:0.141635 auc:1.0000\n",
      "epoch: 180 loss:0.140585 auc:1.0000\n"
     ]
    },
    {
     "name": "stderr",
     "output_type": "stream",
     "text": [
      " 77%|███████▋  | 697/910 [1:41:32<35:49, 10.09s/it]"
     ]
    },
    {
     "name": "stdout",
     "output_type": "stream",
     "text": [
      "epoch: 200 loss:0.138384 auc:0.9975\n",
      "Fit finished.\n",
      "epoch:   0 loss:0.678223 auc:0.4861\n",
      "epoch:  20 loss:0.275359 auc:0.9983\n",
      "epoch:  40 loss:0.199947 auc:0.9948\n",
      "epoch:  60 loss:0.177497 auc:0.9948\n",
      "epoch:  80 loss:0.166109 auc:0.9948\n",
      "epoch: 100 loss:0.154438 auc:0.9948\n",
      "epoch: 120 loss:0.148461 auc:0.9948\n",
      "epoch: 140 loss:0.145899 auc:0.9948\n",
      "epoch: 160 loss:0.144493 auc:0.9931\n"
     ]
    },
    {
     "name": "stderr",
     "output_type": "stream",
     "text": [
      " 77%|███████▋  | 698/910 [1:41:39<32:26,  9.18s/it]"
     ]
    },
    {
     "name": "stdout",
     "output_type": "stream",
     "text": [
      "epoch: 180 loss:0.142852 auc:0.9913\n",
      "Fit finished.\n",
      "epoch:   0 loss:1.476690 auc:0.5932\n",
      "epoch:  20 loss:0.277201 auc:0.9172\n",
      "epoch:  40 loss:0.212584 auc:0.9260\n",
      "epoch:  60 loss:0.180690 auc:0.9334\n",
      "epoch:  80 loss:0.169944 auc:0.9364\n",
      "epoch: 100 loss:0.162324 auc:0.9364\n",
      "epoch: 120 loss:0.154278 auc:0.9364\n",
      "epoch: 140 loss:0.149328 auc:0.9364\n",
      "epoch: 160 loss:0.146953 auc:0.9349\n",
      "epoch: 180 loss:0.145172 auc:0.9334\n",
      "epoch: 200 loss:0.143827 auc:0.9320\n"
     ]
    },
    {
     "name": "stderr",
     "output_type": "stream",
     "text": [
      " 77%|███████▋  | 699/910 [1:41:49<32:57,  9.37s/it]"
     ]
    },
    {
     "name": "stdout",
     "output_type": "stream",
     "text": [
      "epoch: 220 loss:0.142169 auc:0.9216\n",
      "Fit finished.\n",
      "epoch:   0 loss:0.623724 auc:0.3062\n",
      "epoch:  20 loss:0.212134 auc:0.9593\n",
      "epoch:  40 loss:0.179292 auc:0.9533\n",
      "epoch:  60 loss:0.168686 auc:0.9533\n",
      "epoch:  80 loss:0.157737 auc:0.9524\n",
      "epoch: 100 loss:0.148848 auc:0.9524\n",
      "epoch: 120 loss:0.145529 auc:0.9559\n",
      "epoch: 140 loss:0.143380 auc:0.9524\n",
      "epoch: 160 loss:0.140701 auc:0.9386\n"
     ]
    },
    {
     "name": "stderr",
     "output_type": "stream",
     "text": [
      " 77%|███████▋  | 700/910 [1:41:55<29:12,  8.35s/it]"
     ]
    },
    {
     "name": "stdout",
     "output_type": "stream",
     "text": [
      "epoch: 180 loss:0.141306 auc:0.9014\n",
      "Fit finished.\n",
      "epoch:   0 loss:0.680579 auc:0.7236\n",
      "epoch:  20 loss:0.260938 auc:0.9922\n",
      "epoch:  40 loss:0.189707 auc:0.9912\n",
      "epoch:  60 loss:0.172863 auc:0.9844\n",
      "epoch:  80 loss:0.163191 auc:0.9844\n",
      "epoch: 100 loss:0.151317 auc:0.9863\n",
      "epoch: 120 loss:0.147403 auc:0.9844\n",
      "epoch: 140 loss:0.146103 auc:0.9844\n",
      "epoch: 160 loss:0.143223 auc:0.9834\n"
     ]
    },
    {
     "name": "stderr",
     "output_type": "stream",
     "text": [
      " 77%|███████▋  | 701/910 [1:42:02<27:06,  7.78s/it]"
     ]
    },
    {
     "name": "stdout",
     "output_type": "stream",
     "text": [
      "epoch: 180 loss:0.144703 auc:0.9814\n",
      "Fit finished.\n",
      "epoch:   0 loss:0.850934 auc:0.7377\n",
      "epoch:  20 loss:0.270941 auc:0.9537\n",
      "epoch:  40 loss:0.192848 auc:0.9722\n",
      "epoch:  60 loss:0.177516 auc:0.9815\n",
      "epoch:  80 loss:0.168927 auc:0.9877\n",
      "epoch: 100 loss:0.160345 auc:0.9877\n",
      "epoch: 120 loss:0.151063 auc:0.9877\n",
      "epoch: 140 loss:0.147482 auc:0.9877\n",
      "epoch: 160 loss:0.145243 auc:0.9877\n",
      "epoch: 180 loss:0.143182 auc:0.9877\n",
      "epoch: 200 loss:0.141269 auc:0.9877\n",
      "epoch: 220 loss:0.138700 auc:0.9877\n",
      "epoch: 240 loss:0.137171 auc:0.9877\n",
      "epoch: 260 loss:0.137953 auc:0.9877\n",
      "epoch: 280 loss:0.134456 auc:0.9877\n",
      "epoch: 300 loss:0.132213 auc:0.9877\n",
      "epoch: 320 loss:0.132917 auc:0.9877\n",
      "epoch: 340 loss:0.130197 auc:0.9877\n",
      "epoch: 360 loss:0.128027 auc:0.9877\n",
      "epoch: 380 loss:0.128323 auc:0.9877\n",
      "epoch: 400 loss:0.126472 auc:0.9877\n",
      "epoch: 420 loss:0.124293 auc:0.9877\n",
      "epoch: 440 loss:0.123320 auc:0.9877\n",
      "epoch: 460 loss:0.123741 auc:0.9877\n",
      "epoch: 480 loss:0.121899 auc:0.9877\n",
      "epoch: 500 loss:0.120323 auc:0.9877\n",
      "epoch: 520 loss:0.119224 auc:0.9877\n",
      "epoch: 540 loss:0.123588 auc:0.9877\n",
      "epoch: 560 loss:0.119743 auc:0.9877\n",
      "epoch: 580 loss:0.116882 auc:0.9877\n",
      "epoch: 600 loss:0.115523 auc:0.9877\n",
      "epoch: 620 loss:0.114504 auc:0.9877\n",
      "epoch: 640 loss:0.114711 auc:0.9877\n",
      "epoch: 660 loss:0.113920 auc:0.9877\n",
      "epoch: 680 loss:0.113304 auc:0.9877\n",
      "epoch: 700 loss:0.120269 auc:0.9877\n",
      "epoch: 720 loss:0.112169 auc:0.9877\n",
      "epoch: 740 loss:0.111028 auc:0.9877\n",
      "epoch: 760 loss:0.110626 auc:0.9877\n",
      "epoch: 780 loss:0.110008 auc:0.9877\n",
      "epoch: 800 loss:0.111149 auc:0.9907\n",
      "epoch: 820 loss:0.120430 auc:0.9877\n",
      "epoch: 840 loss:0.112576 auc:0.9877\n",
      "epoch: 860 loss:0.109386 auc:0.9877\n",
      "epoch: 880 loss:0.108412 auc:0.9877\n",
      "epoch: 900 loss:0.107959 auc:0.9877\n",
      "epoch: 920 loss:0.107584 auc:0.9877\n",
      "epoch: 940 loss:0.107239 auc:0.9877\n"
     ]
    },
    {
     "name": "stderr",
     "output_type": "stream",
     "text": [
      " 77%|███████▋  | 702/910 [2:41:59<62:39:38, 1084.51s/it]"
     ]
    },
    {
     "name": "stdout",
     "output_type": "stream",
     "text": [
      "epoch: 960 loss:0.106915 auc:0.9877\n",
      "Fit finished.\n",
      "epoch:   0 loss:0.569211 auc:0.5093\n",
      "epoch:  20 loss:0.238659 auc:0.9414\n",
      "epoch:  40 loss:0.182495 auc:0.9630\n",
      "epoch:  60 loss:0.169222 auc:0.9630\n",
      "epoch:  80 loss:0.157117 auc:0.9630\n",
      "epoch: 100 loss:0.148924 auc:0.9630\n",
      "epoch: 120 loss:0.145966 auc:0.9599\n",
      "epoch: 140 loss:0.144036 auc:0.9630\n",
      "epoch: 160 loss:0.142415 auc:0.9691\n",
      "epoch: 180 loss:0.139520 auc:0.9691\n",
      "epoch: 200 loss:0.137623 auc:0.9722\n",
      "epoch: 220 loss:0.135976 auc:0.9846\n",
      "epoch: 240 loss:0.133908 auc:0.9846\n",
      "epoch: 260 loss:0.133956 auc:0.9722\n",
      "epoch: 280 loss:0.130516 auc:0.9784\n",
      "epoch: 300 loss:0.129398 auc:0.9784\n",
      "epoch: 320 loss:0.127159 auc:0.9691\n",
      "epoch: 340 loss:0.124249 auc:0.9691\n"
     ]
    },
    {
     "name": "stderr",
     "output_type": "stream",
     "text": [
      " 77%|███████▋  | 703/910 [2:42:11<43:51:44, 762.82s/it] "
     ]
    },
    {
     "name": "stdout",
     "output_type": "stream",
     "text": [
      "epoch: 360 loss:0.121916 auc:0.9691\n",
      "Fit finished.\n",
      "epoch:   0 loss:0.509373 auc:0.5532\n",
      "epoch:  20 loss:0.217699 auc:0.9077\n",
      "epoch:  40 loss:0.180131 auc:0.9112\n",
      "epoch:  60 loss:0.167092 auc:0.9139\n",
      "epoch:  80 loss:0.151690 auc:0.9127\n",
      "epoch: 100 loss:0.146229 auc:0.9177\n",
      "epoch: 120 loss:0.146884 auc:0.9054\n",
      "epoch: 140 loss:0.142423 auc:0.8870\n",
      "epoch: 160 loss:0.139401 auc:0.7982\n"
     ]
    },
    {
     "name": "stderr",
     "output_type": "stream",
     "text": [
      " 77%|███████▋  | 704/910 [2:42:19<30:42:11, 536.56s/it]"
     ]
    },
    {
     "name": "stdout",
     "output_type": "stream",
     "text": [
      "epoch: 180 loss:0.137696 auc:0.7643\n",
      "Fit finished.\n",
      "epoch:   0 loss:0.560851 auc:0.5782\n",
      "epoch:  20 loss:0.250001 auc:0.9433\n",
      "epoch:  40 loss:0.188450 auc:0.9524\n",
      "epoch:  60 loss:0.173778 auc:0.9592\n",
      "epoch:  80 loss:0.162470 auc:0.9592\n",
      "epoch: 100 loss:0.151071 auc:0.9592\n",
      "epoch: 120 loss:0.147704 auc:0.9592\n",
      "epoch: 140 loss:0.145484 auc:0.9592\n",
      "epoch: 160 loss:0.143696 auc:0.9592\n",
      "epoch: 180 loss:0.142514 auc:0.9637\n",
      "epoch: 200 loss:0.140162 auc:0.9683\n",
      "epoch: 220 loss:0.141210 auc:0.9683\n",
      "epoch: 240 loss:0.136718 auc:0.9751\n",
      "epoch: 260 loss:0.134264 auc:0.9728\n",
      "epoch: 280 loss:0.133044 auc:0.9751\n",
      "epoch: 300 loss:0.130356 auc:0.9751\n",
      "epoch: 320 loss:0.127739 auc:0.9728\n",
      "epoch: 340 loss:0.127138 auc:0.9728\n",
      "epoch: 360 loss:0.124352 auc:0.9705\n"
     ]
    },
    {
     "name": "stderr",
     "output_type": "stream",
     "text": [
      " 77%|███████▋  | 705/910 [2:42:34<21:38:29, 380.04s/it]"
     ]
    },
    {
     "name": "stdout",
     "output_type": "stream",
     "text": [
      "epoch: 380 loss:0.123667 auc:0.9637\n",
      "Fit finished.\n",
      "epoch:   0 loss:1.020491 auc:0.3968\n",
      "epoch:  20 loss:0.277536 auc:1.0000\n",
      "epoch:  40 loss:0.209698 auc:1.0000\n",
      "epoch:  60 loss:0.181007 auc:0.9984\n",
      "epoch:  80 loss:0.170661 auc:0.9984\n",
      "epoch: 100 loss:0.162655 auc:0.9984\n",
      "epoch: 120 loss:0.152769 auc:0.9984\n",
      "epoch: 140 loss:0.147556 auc:0.9984\n",
      "epoch: 160 loss:0.145225 auc:0.9984\n"
     ]
    },
    {
     "name": "stderr",
     "output_type": "stream",
     "text": [
      " 78%|███████▊  | 706/910 [2:42:41<15:11:04, 267.96s/it]"
     ]
    },
    {
     "name": "stdout",
     "output_type": "stream",
     "text": [
      "epoch: 180 loss:0.143373 auc:0.9984\n",
      "Fit finished.\n",
      "epoch:   0 loss:0.646366 auc:0.2604\n",
      "epoch:  20 loss:0.223411 auc:0.9681\n",
      "epoch:  40 loss:0.181215 auc:0.9730\n",
      "epoch:  60 loss:0.170681 auc:0.9744\n",
      "epoch:  80 loss:0.162181 auc:0.9737\n",
      "epoch: 100 loss:0.151066 auc:0.9737\n",
      "epoch: 120 loss:0.146909 auc:0.9744\n",
      "epoch: 140 loss:0.144361 auc:0.9737\n",
      "epoch: 160 loss:0.141992 auc:0.9730\n"
     ]
    },
    {
     "name": "stderr",
     "output_type": "stream",
     "text": [
      " 78%|███████▊  | 707/910 [2:42:46<10:40:02, 189.17s/it]"
     ]
    },
    {
     "name": "stdout",
     "output_type": "stream",
     "text": [
      "epoch: 180 loss:0.139649 auc:0.9675\n",
      "Fit finished.\n",
      "epoch:   0 loss:0.572586 auc:0.4837\n",
      "epoch:  20 loss:0.217703 auc:0.9527\n",
      "epoch:  40 loss:0.177072 auc:0.9675\n",
      "epoch:  60 loss:0.162757 auc:0.9689\n",
      "epoch:  80 loss:0.157600 auc:0.9660\n",
      "epoch: 100 loss:0.146358 auc:0.9630\n",
      "epoch: 120 loss:0.142662 auc:0.9630\n",
      "epoch: 140 loss:0.146963 auc:0.9615\n",
      "epoch: 160 loss:0.139814 auc:0.9438\n"
     ]
    },
    {
     "name": "stderr",
     "output_type": "stream",
     "text": [
      " 78%|███████▊  | 708/910 [2:42:52<7:32:02, 134.27s/it] "
     ]
    },
    {
     "name": "stdout",
     "output_type": "stream",
     "text": [
      "epoch: 180 loss:0.136858 auc:0.9038\n",
      "Fit finished.\n",
      "epoch:   0 loss:0.699143 auc:0.3793\n",
      "epoch:  20 loss:0.278581 auc:0.9168\n",
      "epoch:  40 loss:0.199584 auc:0.9287\n",
      "epoch:  60 loss:0.178425 auc:0.9358\n",
      "epoch:  80 loss:0.168129 auc:0.9382\n",
      "epoch: 100 loss:0.157093 auc:0.9358\n",
      "epoch: 120 loss:0.149366 auc:0.9358\n",
      "epoch: 140 loss:0.146252 auc:0.9358\n",
      "epoch: 160 loss:0.143959 auc:0.9346\n",
      "epoch: 180 loss:0.142718 auc:0.9334\n"
     ]
    },
    {
     "name": "stderr",
     "output_type": "stream",
     "text": [
      " 78%|███████▊  | 709/910 [2:42:59<5:21:19, 95.92s/it] "
     ]
    },
    {
     "name": "stdout",
     "output_type": "stream",
     "text": [
      "epoch: 200 loss:0.140161 auc:0.9263\n",
      "Fit finished.\n",
      "epoch:   0 loss:0.950317 auc:0.2873\n",
      "epoch:  20 loss:0.284725 auc:0.9722\n",
      "epoch:  40 loss:0.208901 auc:0.9747\n",
      "epoch:  60 loss:0.180386 auc:0.9763\n",
      "epoch:  80 loss:0.169708 auc:0.9763\n",
      "epoch: 100 loss:0.161128 auc:0.9771\n",
      "epoch: 120 loss:0.151666 auc:0.9771\n",
      "epoch: 140 loss:0.147852 auc:0.9771\n",
      "epoch: 160 loss:0.145695 auc:0.9755\n",
      "epoch: 180 loss:0.143781 auc:0.9747\n"
     ]
    },
    {
     "name": "stderr",
     "output_type": "stream",
     "text": [
      " 78%|███████▊  | 710/910 [2:43:05<3:50:17, 69.09s/it]"
     ]
    },
    {
     "name": "stdout",
     "output_type": "stream",
     "text": [
      "epoch: 200 loss:0.143572 auc:0.9698\n",
      "Fit finished.\n",
      "epoch:   0 loss:0.952454 auc:0.4721\n",
      "epoch:  20 loss:0.282208 auc:0.9370\n",
      "epoch:  40 loss:0.202810 auc:0.9465\n",
      "epoch:  60 loss:0.178846 auc:0.9394\n",
      "epoch:  80 loss:0.168510 auc:0.9394\n",
      "epoch: 100 loss:0.158682 auc:0.9405\n",
      "epoch: 120 loss:0.149511 auc:0.9429\n",
      "epoch: 140 loss:0.146285 auc:0.9417\n",
      "epoch: 160 loss:0.146157 auc:0.9524\n",
      "epoch: 180 loss:0.142778 auc:0.9548\n",
      "epoch: 200 loss:0.139356 auc:0.9608\n",
      "epoch: 220 loss:0.138862 auc:0.9608\n",
      "epoch: 240 loss:0.137224 auc:0.9584\n",
      "epoch: 260 loss:0.135580 auc:0.9596\n",
      "epoch: 280 loss:0.135327 auc:0.9631\n",
      "epoch: 300 loss:0.133295 auc:0.9620\n",
      "epoch: 320 loss:0.131543 auc:0.9620\n",
      "epoch: 340 loss:0.130918 auc:0.9596\n",
      "epoch: 360 loss:0.135247 auc:0.9620\n",
      "epoch: 380 loss:0.127905 auc:0.9608\n"
     ]
    },
    {
     "name": "stderr",
     "output_type": "stream",
     "text": [
      " 78%|███████▊  | 711/910 [3:42:44<62:01:51, 1122.17s/it]"
     ]
    },
    {
     "name": "stdout",
     "output_type": "stream",
     "text": [
      "epoch: 400 loss:0.126135 auc:0.9572\n",
      "Fit finished.\n",
      "epoch:   0 loss:0.764606 auc:0.6674\n",
      "epoch:  20 loss:0.254731 auc:0.9738\n",
      "epoch:  40 loss:0.189083 auc:0.9846\n",
      "epoch:  60 loss:0.175726 auc:0.9853\n",
      "epoch:  80 loss:0.169518 auc:0.9861\n",
      "epoch: 100 loss:0.162195 auc:0.9853\n",
      "epoch: 120 loss:0.151969 auc:0.9853\n",
      "epoch: 140 loss:0.147778 auc:0.9853\n",
      "epoch: 160 loss:0.145489 auc:0.9853\n",
      "epoch: 180 loss:0.143376 auc:0.9853\n"
     ]
    },
    {
     "name": "stderr",
     "output_type": "stream",
     "text": [
      " 78%|███████▊  | 712/910 [3:42:51<43:18:41, 787.48s/it] "
     ]
    },
    {
     "name": "stdout",
     "output_type": "stream",
     "text": [
      "epoch: 200 loss:0.141972 auc:0.9830\n",
      "Fit finished.\n",
      "epoch:   0 loss:0.807094 auc:0.4310\n",
      "epoch:  20 loss:0.257722 auc:0.9584\n",
      "epoch:  40 loss:0.190876 auc:0.9683\n",
      "epoch:  60 loss:0.176555 auc:0.9698\n",
      "epoch:  80 loss:0.168286 auc:0.9688\n",
      "epoch: 100 loss:0.160032 auc:0.9693\n",
      "epoch: 120 loss:0.151278 auc:0.9688\n",
      "epoch: 140 loss:0.147585 auc:0.9688\n",
      "epoch: 160 loss:0.145302 auc:0.9693\n",
      "epoch: 180 loss:0.143542 auc:0.9674\n"
     ]
    },
    {
     "name": "stderr",
     "output_type": "stream",
     "text": [
      " 78%|███████▊  | 713/910 [3:42:58<30:16:44, 553.32s/it]"
     ]
    },
    {
     "name": "stdout",
     "output_type": "stream",
     "text": [
      "epoch: 200 loss:0.141790 auc:0.9612\n",
      "Fit finished.\n",
      "epoch:   0 loss:0.628372 auc:0.6595\n",
      "epoch:  20 loss:0.263266 auc:0.9146\n",
      "epoch:  40 loss:0.192518 auc:0.9177\n",
      "epoch:  60 loss:0.177516 auc:0.9201\n",
      "epoch:  80 loss:0.170110 auc:0.9218\n",
      "epoch: 100 loss:0.162464 auc:0.9235\n",
      "epoch: 120 loss:0.152093 auc:0.9239\n",
      "epoch: 140 loss:0.147529 auc:0.9235\n",
      "epoch: 160 loss:0.144940 auc:0.9211\n"
     ]
    },
    {
     "name": "stderr",
     "output_type": "stream",
     "text": [
      " 79%|███████▊  | 715/910 [3:43:04<16:12:52, 299.35s/it]"
     ]
    },
    {
     "name": "stdout",
     "output_type": "stream",
     "text": [
      "epoch: 180 loss:0.144200 auc:0.9112\n",
      "Fit finished.\n",
      "epoch:   0 loss:0.547175 auc:0.5225\n",
      "epoch:  20 loss:0.244996 auc:1.0000\n",
      "epoch:  40 loss:0.184591 auc:1.0000\n",
      "epoch:  60 loss:0.170546 auc:1.0000\n",
      "epoch:  80 loss:0.160316 auc:1.0000\n",
      "epoch: 100 loss:0.149957 auc:1.0000\n",
      "epoch: 120 loss:0.146572 auc:1.0000\n",
      "epoch: 140 loss:0.144410 auc:1.0000\n",
      "epoch: 160 loss:0.142709 auc:1.0000\n",
      "epoch: 180 loss:0.141252 auc:1.0000\n",
      "epoch: 200 loss:0.138210 auc:1.0000\n",
      "epoch: 220 loss:0.138809 auc:1.0000\n",
      "epoch: 240 loss:0.134229 auc:1.0000\n",
      "epoch: 260 loss:0.131842 auc:1.0000\n",
      "epoch: 280 loss:0.129786 auc:1.0000\n",
      "epoch: 300 loss:0.129274 auc:1.0000\n",
      "epoch: 320 loss:0.128540 auc:1.0000\n",
      "epoch: 340 loss:0.125638 auc:1.0000\n",
      "epoch: 360 loss:0.121433 auc:1.0000\n",
      "epoch: 380 loss:0.119365 auc:1.0000\n",
      "epoch: 400 loss:0.119663 auc:1.0000\n",
      "epoch: 420 loss:0.119420 auc:1.0000\n",
      "epoch: 440 loss:0.116535 auc:1.0000\n",
      "epoch: 460 loss:0.114745 auc:1.0000\n",
      "epoch: 480 loss:0.115932 auc:1.0000\n",
      "epoch: 500 loss:0.113135 auc:1.0000\n",
      "epoch: 520 loss:0.112635 auc:1.0000\n",
      "epoch: 540 loss:0.112700 auc:1.0000\n",
      "epoch: 560 loss:0.112932 auc:1.0000\n",
      "epoch: 580 loss:0.114008 auc:1.0000\n",
      "epoch: 600 loss:0.110828 auc:1.0000\n",
      "epoch: 620 loss:0.109439 auc:1.0000\n",
      "epoch: 640 loss:0.110871 auc:1.0000\n",
      "epoch: 660 loss:0.108826 auc:1.0000\n",
      "epoch: 680 loss:0.108534 auc:1.0000\n",
      "epoch: 700 loss:0.107727 auc:1.0000\n",
      "epoch: 720 loss:0.107542 auc:1.0000\n",
      "epoch: 740 loss:0.107237 auc:1.0000\n",
      "epoch: 760 loss:0.107493 auc:1.0000\n",
      "epoch: 780 loss:0.108532 auc:1.0000\n",
      "epoch: 800 loss:0.106899 auc:1.0000\n",
      "epoch: 820 loss:0.106145 auc:1.0000\n",
      "epoch: 840 loss:0.105556 auc:1.0000\n",
      "epoch: 860 loss:0.105795 auc:1.0000\n",
      "epoch: 880 loss:0.105746 auc:1.0000\n",
      "epoch: 900 loss:0.105084 auc:1.0000\n",
      "epoch: 920 loss:0.104556 auc:1.0000\n",
      "epoch: 940 loss:0.104514 auc:1.0000\n",
      "epoch: 960 loss:0.104663 auc:1.0000\n",
      "epoch: 980 loss:0.104291 auc:1.0000\n"
     ]
    },
    {
     "name": "stderr",
     "output_type": "stream",
     "text": [
      " 79%|███████▊  | 716/910 [4:43:51<60:51:52, 1129.45s/it]"
     ]
    },
    {
     "name": "stdout",
     "output_type": "stream",
     "text": [
      "Fit finished.\n",
      "epoch:   0 loss:0.515947 auc:0.6697\n",
      "epoch:  20 loss:0.259589 auc:0.9917\n",
      "epoch:  40 loss:0.185999 auc:0.9938\n",
      "epoch:  60 loss:0.173055 auc:0.9958\n",
      "epoch:  80 loss:0.165212 auc:0.9945\n",
      "epoch: 100 loss:0.155069 auc:0.9945\n",
      "epoch: 120 loss:0.148958 auc:0.9945\n",
      "epoch: 140 loss:0.146298 auc:0.9938\n",
      "epoch: 160 loss:0.144231 auc:0.9945\n",
      "epoch: 180 loss:0.142460 auc:0.9945\n",
      "epoch: 200 loss:0.140900 auc:0.9938\n"
     ]
    },
    {
     "name": "stderr",
     "output_type": "stream",
     "text": [
      " 79%|███████▉  | 717/910 [4:43:59<44:48:52, 835.92s/it] "
     ]
    },
    {
     "name": "stdout",
     "output_type": "stream",
     "text": [
      "epoch: 220 loss:0.137918 auc:0.9917\n",
      "Fit finished.\n",
      "epoch:   0 loss:0.535656 auc:0.4014\n",
      "epoch:  20 loss:0.217780 auc:0.9580\n",
      "epoch:  40 loss:0.176146 auc:0.9598\n",
      "epoch:  60 loss:0.161693 auc:0.9632\n",
      "epoch:  80 loss:0.150103 auc:0.9626\n",
      "epoch: 100 loss:0.146063 auc:0.9620\n",
      "epoch: 120 loss:0.143792 auc:0.9558\n",
      "epoch: 140 loss:0.140994 auc:0.9348\n",
      "epoch: 160 loss:0.138635 auc:0.8934\n"
     ]
    },
    {
     "name": "stderr",
     "output_type": "stream",
     "text": [
      " 79%|███████▉  | 718/910 [4:44:05<32:32:56, 610.29s/it]"
     ]
    },
    {
     "name": "stdout",
     "output_type": "stream",
     "text": [
      "epoch: 180 loss:0.136297 auc:0.8401\n",
      "Fit finished.\n",
      "epoch:   0 loss:0.579699 auc:0.4268\n",
      "epoch:  20 loss:0.229665 auc:0.9805\n",
      "epoch:  40 loss:0.182864 auc:0.9873\n",
      "epoch:  60 loss:0.172339 auc:0.9863\n",
      "epoch:  80 loss:0.164304 auc:0.9863\n",
      "epoch: 100 loss:0.153186 auc:0.9873\n",
      "epoch: 120 loss:0.147919 auc:0.9873\n",
      "epoch: 140 loss:0.145346 auc:0.9883\n",
      "epoch: 160 loss:0.142972 auc:0.9883\n",
      "epoch: 180 loss:0.140763 auc:0.9854\n"
     ]
    },
    {
     "name": "stderr",
     "output_type": "stream",
     "text": [
      " 79%|███████▉  | 719/910 [4:44:12<23:25:32, 441.53s/it]"
     ]
    },
    {
     "name": "stdout",
     "output_type": "stream",
     "text": [
      "epoch: 200 loss:0.138477 auc:0.9756\n",
      "Fit finished.\n",
      "epoch:   0 loss:0.601529 auc:0.3300\n",
      "epoch:  20 loss:0.283027 auc:1.0000\n",
      "epoch:  40 loss:0.204036 auc:1.0000\n",
      "epoch:  60 loss:0.176248 auc:1.0000\n",
      "epoch:  80 loss:0.164693 auc:1.0000\n",
      "epoch: 100 loss:0.153504 auc:1.0000\n",
      "epoch: 120 loss:0.148417 auc:1.0000\n",
      "epoch: 140 loss:0.145960 auc:1.0000\n",
      "epoch: 160 loss:0.145489 auc:1.0000\n",
      "epoch: 180 loss:0.143115 auc:1.0000\n",
      "epoch: 200 loss:0.141589 auc:1.0000\n",
      "epoch: 220 loss:0.139760 auc:1.0000\n",
      "epoch: 240 loss:0.137649 auc:1.0000\n",
      "epoch: 260 loss:0.136115 auc:1.0000\n",
      "epoch: 280 loss:0.136851 auc:1.0000\n",
      "epoch: 300 loss:0.134957 auc:1.0000\n",
      "epoch: 320 loss:0.132054 auc:1.0000\n",
      "epoch: 340 loss:0.131594 auc:1.0000\n",
      "epoch: 360 loss:0.140813 auc:1.0000\n",
      "epoch: 380 loss:0.135999 auc:1.0000\n",
      "epoch: 400 loss:0.128262 auc:1.0000\n",
      "epoch: 420 loss:0.125915 auc:1.0000\n",
      "epoch: 440 loss:0.124449 auc:1.0000\n",
      "epoch: 460 loss:0.123127 auc:1.0000\n",
      "epoch: 480 loss:0.123479 auc:1.0000\n",
      "epoch: 500 loss:0.122610 auc:1.0000\n",
      "epoch: 520 loss:0.119739 auc:1.0000\n",
      "epoch: 540 loss:0.118522 auc:1.0000\n",
      "epoch: 560 loss:0.119400 auc:1.0000\n",
      "epoch: 580 loss:0.118819 auc:1.0000\n",
      "epoch: 600 loss:0.118754 auc:1.0000\n",
      "epoch: 620 loss:0.129222 auc:1.0000\n",
      "epoch: 640 loss:0.118507 auc:1.0000\n",
      "epoch: 660 loss:0.115340 auc:1.0000\n",
      "epoch: 680 loss:0.113902 auc:1.0000\n",
      "epoch: 700 loss:0.112953 auc:1.0000\n",
      "epoch: 720 loss:0.112179 auc:1.0000\n",
      "epoch: 740 loss:0.111499 auc:1.0000\n",
      "epoch: 760 loss:0.112535 auc:1.0000\n",
      "epoch: 780 loss:0.111034 auc:1.0000\n",
      "epoch: 800 loss:0.110023 auc:1.0000\n",
      "epoch: 820 loss:0.109383 auc:1.0000\n",
      "epoch: 840 loss:0.109919 auc:1.0000\n",
      "epoch: 860 loss:0.108843 auc:1.0000\n",
      "epoch: 880 loss:0.108721 auc:1.0000\n",
      "epoch: 900 loss:0.107588 auc:1.0000\n",
      "epoch: 920 loss:0.107375 auc:1.0000\n",
      "epoch: 940 loss:0.107079 auc:1.0000\n",
      "epoch: 960 loss:0.107288 auc:1.0000\n",
      "epoch: 980 loss:0.106619 auc:1.0000\n"
     ]
    },
    {
     "name": "stderr",
     "output_type": "stream",
     "text": [
      " 79%|███████▉  | 721/910 [5:28:11<43:39:41, 831.65s/it]"
     ]
    },
    {
     "name": "stdout",
     "output_type": "stream",
     "text": [
      "Fit finished.\n",
      "epoch:   0 loss:0.536799 auc:0.3492\n",
      "epoch:  20 loss:0.250881 auc:0.9835\n",
      "epoch:  40 loss:0.186314 auc:0.9835\n",
      "epoch:  60 loss:0.171354 auc:0.9835\n",
      "epoch:  80 loss:0.160287 auc:0.9835\n",
      "epoch: 100 loss:0.149923 auc:0.9835\n",
      "epoch: 120 loss:0.146537 auc:0.9835\n",
      "epoch: 140 loss:0.144636 auc:0.9835\n",
      "epoch: 160 loss:0.142732 auc:0.9835\n",
      "epoch: 180 loss:0.141499 auc:0.9835\n"
     ]
    },
    {
     "name": "stderr",
     "output_type": "stream",
     "text": [
      " 79%|███████▉  | 722/910 [5:28:18<33:03:07, 632.91s/it]"
     ]
    },
    {
     "name": "stdout",
     "output_type": "stream",
     "text": [
      "epoch: 200 loss:0.141192 auc:0.9649\n",
      "Fit finished.\n",
      "epoch:   0 loss:1.085887 auc:0.4923\n",
      "epoch:  20 loss:0.284527 auc:0.9591\n",
      "epoch:  40 loss:0.213153 auc:0.9548\n",
      "epoch:  60 loss:0.180762 auc:0.9580\n",
      "epoch:  80 loss:0.170003 auc:0.9594\n",
      "epoch: 100 loss:0.160783 auc:0.9583\n",
      "epoch: 120 loss:0.151348 auc:0.9580\n",
      "epoch: 140 loss:0.148135 auc:0.9573\n",
      "epoch: 160 loss:0.146137 auc:0.9569\n"
     ]
    },
    {
     "name": "stderr",
     "output_type": "stream",
     "text": [
      " 79%|███████▉  | 723/910 [5:28:24<24:32:07, 472.34s/it]"
     ]
    },
    {
     "name": "stdout",
     "output_type": "stream",
     "text": [
      "epoch: 180 loss:0.144593 auc:0.9569\n",
      "Fit finished.\n",
      "epoch:   0 loss:1.018758 auc:0.6669\n",
      "epoch:  20 loss:0.284594 auc:0.9798\n",
      "epoch:  40 loss:0.226548 auc:0.9804\n",
      "epoch:  60 loss:0.185737 auc:0.9810\n",
      "epoch:  80 loss:0.171952 auc:0.9804\n",
      "epoch: 100 loss:0.161179 auc:0.9804\n",
      "epoch: 120 loss:0.151697 auc:0.9792\n",
      "epoch: 140 loss:0.148528 auc:0.9792\n",
      "epoch: 160 loss:0.146449 auc:0.9792\n"
     ]
    },
    {
     "name": "stderr",
     "output_type": "stream",
     "text": [
      " 80%|███████▉  | 724/910 [5:28:30<17:57:06, 347.45s/it]"
     ]
    },
    {
     "name": "stdout",
     "output_type": "stream",
     "text": [
      "epoch: 180 loss:0.145243 auc:0.9780\n",
      "Fit finished.\n",
      "epoch:   0 loss:0.924397 auc:0.4656\n",
      "epoch:  20 loss:0.284524 auc:0.9719\n",
      "epoch:  40 loss:0.220356 auc:0.9719\n",
      "epoch:  60 loss:0.182322 auc:0.9738\n",
      "epoch:  80 loss:0.168250 auc:0.9744\n",
      "epoch: 100 loss:0.157539 auc:0.9738\n",
      "epoch: 120 loss:0.150252 auc:0.9731\n",
      "epoch: 140 loss:0.147355 auc:0.9744\n",
      "epoch: 160 loss:0.145340 auc:0.9738\n",
      "epoch: 180 loss:0.143875 auc:0.9725\n"
     ]
    },
    {
     "name": "stderr",
     "output_type": "stream",
     "text": [
      " 80%|███████▉  | 725/910 [5:28:36<12:59:53, 252.94s/it]"
     ]
    },
    {
     "name": "stdout",
     "output_type": "stream",
     "text": [
      "epoch: 200 loss:0.142686 auc:0.9700\n",
      "Fit finished.\n",
      "epoch:   0 loss:1.001783 auc:0.4314\n",
      "epoch:  20 loss:0.286571 auc:0.9397\n",
      "epoch:  40 loss:0.215053 auc:0.9388\n",
      "epoch:  60 loss:0.180983 auc:0.9405\n",
      "epoch:  80 loss:0.169532 auc:0.9414\n",
      "epoch: 100 loss:0.159882 auc:0.9423\n",
      "epoch: 120 loss:0.149958 auc:0.9405\n",
      "epoch: 140 loss:0.146780 auc:0.9401\n",
      "epoch: 160 loss:0.144708 auc:0.9371\n"
     ]
    },
    {
     "name": "stderr",
     "output_type": "stream",
     "text": [
      " 80%|███████▉  | 726/910 [5:28:43<9:22:23, 183.39s/it] "
     ]
    },
    {
     "name": "stdout",
     "output_type": "stream",
     "text": [
      "epoch: 180 loss:0.143492 auc:0.9284\n",
      "Fit finished.\n",
      "epoch:   0 loss:0.802104 auc:0.7541\n",
      "epoch:  20 loss:0.280796 auc:0.9803\n",
      "epoch:  40 loss:0.209617 auc:0.9770\n",
      "epoch:  60 loss:0.177914 auc:0.9763\n",
      "epoch:  80 loss:0.166363 auc:0.9776\n",
      "epoch: 100 loss:0.155087 auc:0.9776\n",
      "epoch: 120 loss:0.148652 auc:0.9763\n",
      "epoch: 140 loss:0.146077 auc:0.9763\n",
      "epoch: 160 loss:0.146491 auc:0.9796\n"
     ]
    },
    {
     "name": "stderr",
     "output_type": "stream",
     "text": [
      " 80%|███████▉  | 727/910 [5:28:50<6:43:40, 132.35s/it]"
     ]
    },
    {
     "name": "stdout",
     "output_type": "stream",
     "text": [
      "epoch: 180 loss:0.143569 auc:0.9796\n",
      "Fit finished.\n",
      "epoch:   0 loss:0.733415 auc:0.3444\n",
      "epoch:  20 loss:0.281951 auc:0.9542\n",
      "epoch:  40 loss:0.208781 auc:0.9579\n",
      "epoch:  60 loss:0.181627 auc:0.9588\n",
      "epoch:  80 loss:0.171569 auc:0.9621\n",
      "epoch: 100 loss:0.163760 auc:0.9613\n",
      "epoch: 120 loss:0.154001 auc:0.9604\n",
      "epoch: 140 loss:0.148277 auc:0.9600\n",
      "epoch: 160 loss:0.145868 auc:0.9604\n",
      "epoch: 180 loss:0.144282 auc:0.9600\n",
      "epoch: 200 loss:0.142941 auc:0.9596\n"
     ]
    },
    {
     "name": "stderr",
     "output_type": "stream",
     "text": [
      " 80%|████████  | 728/910 [5:28:57<4:51:06, 95.97s/it] "
     ]
    },
    {
     "name": "stdout",
     "output_type": "stream",
     "text": [
      "epoch: 220 loss:0.141555 auc:0.9500\n",
      "Fit finished.\n",
      "epoch:   0 loss:0.647455 auc:0.1309\n",
      "epoch:  20 loss:0.233771 auc:0.9570\n",
      "epoch:  40 loss:0.181974 auc:0.9658\n",
      "epoch:  60 loss:0.171470 auc:0.9697\n",
      "epoch:  80 loss:0.161949 auc:0.9678\n",
      "epoch: 100 loss:0.150350 auc:0.9688\n",
      "epoch: 120 loss:0.146516 auc:0.9668\n",
      "epoch: 140 loss:0.144120 auc:0.9658\n",
      "epoch: 160 loss:0.142809 auc:0.9658\n",
      "epoch: 180 loss:0.140472 auc:0.9590\n"
     ]
    },
    {
     "name": "stderr",
     "output_type": "stream",
     "text": [
      " 80%|████████  | 729/910 [5:29:06<3:32:22, 70.40s/it]"
     ]
    },
    {
     "name": "stdout",
     "output_type": "stream",
     "text": [
      "epoch: 200 loss:0.136542 auc:0.9453\n",
      "Fit finished.\n",
      "epoch:   0 loss:0.980829 auc:0.8546\n",
      "epoch:  20 loss:0.284061 auc:0.9781\n",
      "epoch:  40 loss:0.219673 auc:0.9781\n",
      "epoch:  60 loss:0.187323 auc:0.9794\n",
      "epoch:  80 loss:0.175627 auc:0.9781\n",
      "epoch: 100 loss:0.168345 auc:0.9781\n",
      "epoch: 120 loss:0.160266 auc:0.9794\n",
      "epoch: 140 loss:0.151637 auc:0.9794\n",
      "epoch: 160 loss:0.147987 auc:0.9781\n",
      "epoch: 180 loss:0.145952 auc:0.9781\n",
      "epoch: 200 loss:0.144372 auc:0.9781\n",
      "epoch: 220 loss:0.143220 auc:0.9794\n",
      "epoch: 240 loss:0.141748 auc:0.9822\n",
      "epoch: 260 loss:0.140187 auc:0.9822\n",
      "epoch: 280 loss:0.139008 auc:0.9822\n",
      "epoch: 300 loss:0.137943 auc:0.9794\n",
      "epoch: 320 loss:0.136453 auc:0.9794\n"
     ]
    },
    {
     "name": "stderr",
     "output_type": "stream",
     "text": [
      " 80%|████████  | 730/910 [5:29:18<2:39:33, 53.19s/it]"
     ]
    },
    {
     "name": "stdout",
     "output_type": "stream",
     "text": [
      "epoch: 340 loss:0.135297 auc:0.9712\n",
      "Fit finished.\n",
      "epoch:   0 loss:0.743656 auc:0.1488\n",
      "epoch:  20 loss:0.215043 auc:1.0000\n",
      "epoch:  40 loss:0.180149 auc:1.0000\n",
      "epoch:  60 loss:0.168833 auc:0.9917\n",
      "epoch:  80 loss:0.156782 auc:1.0000\n",
      "epoch: 100 loss:0.148425 auc:0.9917\n",
      "epoch: 120 loss:0.145581 auc:1.0000\n",
      "epoch: 140 loss:0.143605 auc:1.0000\n",
      "epoch: 160 loss:0.143512 auc:1.0000\n",
      "epoch: 180 loss:0.140322 auc:1.0000\n",
      "epoch: 200 loss:0.137857 auc:1.0000\n",
      "epoch: 220 loss:0.135771 auc:1.0000\n",
      "epoch: 240 loss:0.135569 auc:1.0000\n",
      "epoch: 260 loss:0.133056 auc:1.0000\n",
      "epoch: 280 loss:0.132406 auc:1.0000\n",
      "epoch: 300 loss:0.129207 auc:1.0000\n",
      "epoch: 320 loss:0.130170 auc:1.0000\n",
      "epoch: 340 loss:0.125912 auc:1.0000\n",
      "epoch: 360 loss:0.126711 auc:1.0000\n",
      "epoch: 380 loss:0.124367 auc:1.0000\n",
      "epoch: 400 loss:0.121532 auc:1.0000\n",
      "epoch: 420 loss:0.121329 auc:1.0000\n",
      "epoch: 440 loss:0.124708 auc:1.0000\n",
      "epoch: 460 loss:0.117540 auc:1.0000\n",
      "epoch: 480 loss:0.115990 auc:1.0000\n",
      "epoch: 500 loss:0.114636 auc:1.0000\n",
      "epoch: 520 loss:0.117300 auc:1.0000\n",
      "epoch: 540 loss:0.151347 auc:1.0000\n",
      "epoch: 560 loss:0.126319 auc:1.0000\n",
      "epoch: 580 loss:0.117739 auc:1.0000\n",
      "epoch: 600 loss:0.114941 auc:1.0000\n",
      "epoch: 620 loss:0.113494 auc:1.0000\n",
      "epoch: 640 loss:0.112688 auc:1.0000\n",
      "epoch: 660 loss:0.113329 auc:1.0000\n",
      "epoch: 680 loss:0.111389 auc:1.0000\n",
      "epoch: 700 loss:0.110683 auc:1.0000\n",
      "epoch: 720 loss:0.110090 auc:1.0000\n",
      "epoch: 740 loss:0.110341 auc:1.0000\n",
      "epoch: 760 loss:0.111238 auc:1.0000\n",
      "epoch: 780 loss:0.110226 auc:1.0000\n",
      "epoch: 800 loss:0.108721 auc:1.0000\n",
      "epoch: 820 loss:0.107892 auc:1.0000\n",
      "epoch: 840 loss:0.107769 auc:1.0000\n",
      "epoch: 860 loss:0.107699 auc:1.0000\n",
      "epoch: 880 loss:0.107703 auc:1.0000\n",
      "epoch: 900 loss:0.106625 auc:1.0000\n",
      "epoch: 920 loss:0.106194 auc:1.0000\n",
      "epoch: 940 loss:0.105926 auc:1.0000\n",
      "epoch: 960 loss:0.105506 auc:1.0000\n",
      "epoch: 980 loss:0.105671 auc:1.0000\n"
     ]
    },
    {
     "name": "stderr",
     "output_type": "stream",
     "text": [
      " 80%|████████  | 731/910 [5:29:56<2:25:09, 48.66s/it]"
     ]
    },
    {
     "name": "stdout",
     "output_type": "stream",
     "text": [
      "Fit finished.\n",
      "epoch:   0 loss:0.890982 auc:0.5163\n",
      "epoch:  20 loss:0.281510 auc:0.9896\n",
      "epoch:  40 loss:0.208139 auc:0.9926\n",
      "epoch:  60 loss:0.181719 auc:0.9941\n",
      "epoch:  80 loss:0.171195 auc:0.9941\n",
      "epoch: 100 loss:0.162003 auc:0.9941\n",
      "epoch: 120 loss:0.151605 auc:0.9926\n",
      "epoch: 140 loss:0.148337 auc:0.9926\n",
      "epoch: 160 loss:0.145613 auc:0.9926\n",
      "epoch: 180 loss:0.144359 auc:0.9911\n"
     ]
    },
    {
     "name": "stderr",
     "output_type": "stream",
     "text": [
      " 80%|████████  | 732/910 [5:30:04<1:48:07, 36.44s/it]"
     ]
    },
    {
     "name": "stdout",
     "output_type": "stream",
     "text": [
      "epoch: 200 loss:0.144141 auc:0.9911\n",
      "Fit finished.\n",
      "epoch:   0 loss:0.852308 auc:0.5193\n",
      "epoch:  20 loss:0.282886 auc:0.9694\n",
      "epoch:  40 loss:0.207731 auc:0.9717\n",
      "epoch:  60 loss:0.179903 auc:0.9700\n",
      "epoch:  80 loss:0.169614 auc:0.9745\n",
      "epoch: 100 loss:0.158718 auc:0.9762\n",
      "epoch: 120 loss:0.149147 auc:0.9768\n",
      "epoch: 140 loss:0.146140 auc:0.9768\n",
      "epoch: 160 loss:0.144450 auc:0.9745\n"
     ]
    },
    {
     "name": "stderr",
     "output_type": "stream",
     "text": [
      " 81%|████████  | 733/910 [5:30:10<1:20:57, 27.45s/it]"
     ]
    },
    {
     "name": "stdout",
     "output_type": "stream",
     "text": [
      "epoch: 180 loss:0.142036 auc:0.9688\n",
      "Fit finished.\n",
      "epoch:   0 loss:0.476814 auc:0.6685\n",
      "epoch:  20 loss:0.261129 auc:0.9669\n",
      "epoch:  40 loss:0.189249 auc:0.9725\n",
      "epoch:  60 loss:0.172701 auc:0.9752\n",
      "epoch:  80 loss:0.163551 auc:0.9752\n",
      "epoch: 100 loss:0.153229 auc:0.9752\n",
      "epoch: 120 loss:0.148096 auc:0.9752\n",
      "epoch: 140 loss:0.145397 auc:0.9752\n",
      "epoch: 160 loss:0.143134 auc:0.9734\n",
      "epoch: 180 loss:0.141791 auc:0.9697\n"
     ]
    },
    {
     "name": "stderr",
     "output_type": "stream",
     "text": [
      " 81%|████████  | 734/910 [5:30:19<1:04:12, 21.89s/it]"
     ]
    },
    {
     "name": "stdout",
     "output_type": "stream",
     "text": [
      "epoch: 200 loss:0.141519 auc:0.9495\n",
      "Fit finished.\n",
      "epoch:   0 loss:0.697315 auc:0.3338\n",
      "epoch:  20 loss:0.252233 auc:0.9822\n",
      "epoch:  40 loss:0.187907 auc:0.9822\n",
      "epoch:  60 loss:0.174239 auc:0.9832\n",
      "epoch:  80 loss:0.164464 auc:0.9832\n",
      "epoch: 100 loss:0.152944 auc:0.9827\n",
      "epoch: 120 loss:0.147995 auc:0.9832\n",
      "epoch: 140 loss:0.145345 auc:0.9832\n",
      "epoch: 160 loss:0.143531 auc:0.9822\n"
     ]
    },
    {
     "name": "stderr",
     "output_type": "stream",
     "text": [
      " 81%|████████  | 735/910 [5:44:48<13:23:00, 275.32s/it]"
     ]
    },
    {
     "name": "stdout",
     "output_type": "stream",
     "text": [
      "epoch: 180 loss:0.141769 auc:0.9812\n",
      "Fit finished.\n",
      "epoch:   0 loss:0.780328 auc:0.9040\n",
      "epoch:  20 loss:0.286380 auc:0.9561\n",
      "epoch:  40 loss:0.222716 auc:0.9547\n",
      "epoch:  60 loss:0.183826 auc:0.9506\n",
      "epoch:  80 loss:0.171522 auc:0.9506\n",
      "epoch: 100 loss:0.162474 auc:0.9534\n",
      "epoch: 120 loss:0.152987 auc:0.9520\n",
      "epoch: 140 loss:0.148145 auc:0.9520\n",
      "epoch: 160 loss:0.145706 auc:0.9520\n"
     ]
    },
    {
     "name": "stderr",
     "output_type": "stream",
     "text": [
      " 81%|████████  | 736/910 [5:44:54<9:24:53, 194.79s/it] "
     ]
    },
    {
     "name": "stdout",
     "output_type": "stream",
     "text": [
      "epoch: 180 loss:0.144274 auc:0.9520\n",
      "Fit finished.\n",
      "epoch:   0 loss:0.913113 auc:0.4578\n",
      "epoch:  20 loss:0.276288 auc:0.9822\n",
      "epoch:  40 loss:0.202858 auc:0.9844\n",
      "epoch:  60 loss:0.179622 auc:0.9889\n",
      "epoch:  80 loss:0.170288 auc:0.9889\n",
      "epoch: 100 loss:0.162491 auc:0.9889\n",
      "epoch: 120 loss:0.152482 auc:0.9889\n",
      "epoch: 140 loss:0.148124 auc:0.9878\n",
      "epoch: 160 loss:0.145969 auc:0.9878\n",
      "epoch: 180 loss:0.144174 auc:0.9878\n",
      "epoch: 200 loss:0.145547 auc:0.9867\n"
     ]
    },
    {
     "name": "stderr",
     "output_type": "stream",
     "text": [
      " 81%|████████  | 737/910 [5:45:01<6:39:32, 138.57s/it]"
     ]
    },
    {
     "name": "stdout",
     "output_type": "stream",
     "text": [
      "epoch: 220 loss:0.141010 auc:0.9744\n",
      "Fit finished.\n",
      "epoch:   0 loss:1.290669 auc:0.6508\n",
      "epoch:  20 loss:0.293549 auc:0.9946\n",
      "epoch:  40 loss:0.226266 auc:0.9929\n",
      "epoch:  60 loss:0.185556 auc:0.9929\n",
      "epoch:  80 loss:0.173488 auc:0.9929\n",
      "epoch: 100 loss:0.165621 auc:0.9917\n",
      "epoch: 120 loss:0.155083 auc:0.9917\n",
      "epoch: 140 loss:0.148900 auc:0.9923\n",
      "epoch: 160 loss:0.146399 auc:0.9917\n"
     ]
    },
    {
     "name": "stderr",
     "output_type": "stream",
     "text": [
      " 81%|████████  | 738/910 [5:45:08<4:43:36, 98.94s/it] "
     ]
    },
    {
     "name": "stdout",
     "output_type": "stream",
     "text": [
      "epoch: 180 loss:0.144859 auc:0.9917\n",
      "Fit finished.\n",
      "epoch:   0 loss:0.609042 auc:0.4924\n",
      "epoch:  20 loss:0.263065 auc:0.9806\n",
      "epoch:  40 loss:0.186863 auc:0.9792\n",
      "epoch:  60 loss:0.171980 auc:0.9771\n",
      "epoch:  80 loss:0.162718 auc:0.9785\n",
      "epoch: 100 loss:0.152654 auc:0.9792\n",
      "epoch: 120 loss:0.148165 auc:0.9792\n",
      "epoch: 140 loss:0.145797 auc:0.9792\n",
      "epoch: 160 loss:0.143796 auc:0.9820\n",
      "epoch: 180 loss:0.142902 auc:0.9813\n"
     ]
    },
    {
     "name": "stderr",
     "output_type": "stream",
     "text": [
      " 81%|████████  | 739/910 [5:45:15<3:23:38, 71.46s/it]"
     ]
    },
    {
     "name": "stdout",
     "output_type": "stream",
     "text": [
      "epoch: 200 loss:0.140443 auc:0.9661\n",
      "Fit finished.\n",
      "epoch:   0 loss:1.260919 auc:0.9026\n",
      "epoch:  20 loss:0.287529 auc:0.9684\n",
      "epoch:  40 loss:0.229181 auc:0.9739\n",
      "epoch:  60 loss:0.186794 auc:0.9726\n",
      "epoch:  80 loss:0.172238 auc:0.9698\n",
      "epoch: 100 loss:0.162233 auc:0.9698\n",
      "epoch: 120 loss:0.153371 auc:0.9698\n",
      "epoch: 140 loss:0.149285 auc:0.9698\n",
      "epoch: 160 loss:0.147000 auc:0.9698\n",
      "epoch: 180 loss:0.145287 auc:0.9698\n"
     ]
    },
    {
     "name": "stderr",
     "output_type": "stream",
     "text": [
      " 81%|████████▏ | 740/910 [5:45:22<2:27:28, 52.05s/it]"
     ]
    },
    {
     "name": "stdout",
     "output_type": "stream",
     "text": [
      "epoch: 200 loss:0.143808 auc:0.9712\n",
      "Fit finished.\n",
      "epoch:   0 loss:0.780425 auc:0.1243\n",
      "epoch:  20 loss:0.253801 auc:0.9882\n",
      "epoch:  40 loss:0.189400 auc:0.9882\n",
      "epoch:  60 loss:0.171989 auc:0.9882\n",
      "epoch:  80 loss:0.160206 auc:0.9882\n",
      "epoch: 100 loss:0.149663 auc:0.9882\n",
      "epoch: 120 loss:0.146383 auc:0.9882\n",
      "epoch: 140 loss:0.145182 auc:0.9882\n",
      "epoch: 160 loss:0.142495 auc:0.9882\n",
      "epoch: 180 loss:0.140829 auc:0.9941\n",
      "epoch: 200 loss:0.138600 auc:1.0000\n",
      "epoch: 220 loss:0.135612 auc:1.0000\n",
      "epoch: 240 loss:0.133971 auc:1.0000\n",
      "epoch: 260 loss:0.131890 auc:1.0000\n",
      "epoch: 280 loss:0.129899 auc:1.0000\n",
      "epoch: 300 loss:0.128268 auc:1.0000\n",
      "epoch: 320 loss:0.127370 auc:1.0000\n",
      "epoch: 340 loss:0.125828 auc:1.0000\n",
      "epoch: 360 loss:0.124420 auc:1.0000\n",
      "epoch: 380 loss:0.123207 auc:1.0000\n",
      "epoch: 400 loss:0.121899 auc:1.0000\n",
      "epoch: 420 loss:0.120160 auc:1.0000\n",
      "epoch: 440 loss:0.119047 auc:1.0000\n",
      "epoch: 460 loss:0.117954 auc:1.0000\n",
      "epoch: 480 loss:0.123067 auc:1.0000\n",
      "epoch: 500 loss:0.115729 auc:1.0000\n",
      "epoch: 520 loss:0.114262 auc:1.0000\n",
      "epoch: 540 loss:0.113258 auc:1.0000\n",
      "epoch: 560 loss:0.112967 auc:1.0000\n",
      "epoch: 580 loss:0.112742 auc:1.0000\n",
      "epoch: 600 loss:0.113774 auc:1.0000\n",
      "epoch: 620 loss:0.111318 auc:1.0000\n",
      "epoch: 640 loss:0.110470 auc:1.0000\n",
      "epoch: 660 loss:0.109765 auc:1.0000\n",
      "epoch: 680 loss:0.109259 auc:1.0000\n",
      "epoch: 700 loss:0.108838 auc:1.0000\n",
      "epoch: 720 loss:0.109155 auc:1.0000\n",
      "epoch: 740 loss:0.108687 auc:1.0000\n",
      "epoch: 760 loss:0.107754 auc:1.0000\n",
      "epoch: 780 loss:0.107605 auc:1.0000\n",
      "epoch: 800 loss:0.107197 auc:1.0000\n",
      "epoch: 820 loss:0.107500 auc:1.0000\n",
      "epoch: 840 loss:0.107280 auc:1.0000\n",
      "epoch: 860 loss:0.106620 auc:1.0000\n",
      "epoch: 880 loss:0.106371 auc:1.0000\n",
      "epoch: 900 loss:0.106308 auc:1.0000\n",
      "epoch: 920 loss:0.105564 auc:1.0000\n",
      "epoch: 940 loss:0.105574 auc:1.0000\n",
      "epoch: 960 loss:0.105148 auc:1.0000\n",
      "epoch: 980 loss:0.105014 auc:1.0000\n"
     ]
    },
    {
     "name": "stderr",
     "output_type": "stream",
     "text": [
      " 81%|████████▏ | 741/910 [5:45:59<2:13:54, 47.54s/it]"
     ]
    },
    {
     "name": "stdout",
     "output_type": "stream",
     "text": [
      "Fit finished.\n",
      "epoch:   0 loss:0.549045 auc:0.5782\n",
      "epoch:  20 loss:0.235207 auc:0.9667\n",
      "epoch:  40 loss:0.180175 auc:0.9664\n",
      "epoch:  60 loss:0.167267 auc:0.9698\n",
      "epoch:  80 loss:0.153973 auc:0.9684\n",
      "epoch: 100 loss:0.147337 auc:0.9554\n",
      "epoch: 120 loss:0.144597 auc:0.9486\n",
      "epoch: 140 loss:0.142053 auc:0.8985\n",
      "epoch: 160 loss:0.139844 auc:0.8052\n"
     ]
    },
    {
     "name": "stderr",
     "output_type": "stream",
     "text": [
      " 82%|████████▏ | 742/910 [5:46:06<1:39:00, 35.36s/it]"
     ]
    },
    {
     "name": "stdout",
     "output_type": "stream",
     "text": [
      "epoch: 180 loss:0.138695 auc:0.7346\n",
      "Fit finished.\n",
      "epoch:   0 loss:0.976852 auc:0.5473\n",
      "epoch:  20 loss:0.282433 auc:0.9926\n",
      "epoch:  40 loss:0.210114 auc:0.9956\n",
      "epoch:  60 loss:0.179457 auc:0.9956\n",
      "epoch:  80 loss:0.167247 auc:0.9956\n",
      "epoch: 100 loss:0.157697 auc:0.9956\n",
      "epoch: 120 loss:0.150663 auc:0.9956\n",
      "epoch: 140 loss:0.148083 auc:0.9956\n",
      "epoch: 160 loss:0.146313 auc:0.9956\n",
      "epoch: 180 loss:0.144852 auc:0.9956\n",
      "epoch: 200 loss:0.143453 auc:0.9956\n",
      "epoch: 220 loss:0.142013 auc:0.9970\n",
      "epoch: 240 loss:0.141321 auc:0.9970\n",
      "epoch: 260 loss:0.139406 auc:0.9970\n",
      "epoch: 280 loss:0.137572 auc:0.9985\n",
      "epoch: 300 loss:0.135998 auc:0.9956\n"
     ]
    },
    {
     "name": "stderr",
     "output_type": "stream",
     "text": [
      " 82%|████████▏ | 743/910 [5:46:19<1:20:10, 28.80s/it]"
     ]
    },
    {
     "name": "stdout",
     "output_type": "stream",
     "text": [
      "epoch: 320 loss:0.134407 auc:0.9911\n",
      "Fit finished.\n",
      "epoch:   0 loss:0.767469 auc:0.3003\n",
      "epoch:  20 loss:0.266598 auc:0.9861\n",
      "epoch:  40 loss:0.191240 auc:0.9792\n",
      "epoch:  60 loss:0.175348 auc:0.9757\n",
      "epoch:  80 loss:0.166586 auc:0.9740\n",
      "epoch: 100 loss:0.157011 auc:0.9740\n",
      "epoch: 120 loss:0.149165 auc:0.9740\n",
      "epoch: 140 loss:0.146469 auc:0.9757\n",
      "epoch: 160 loss:0.144590 auc:0.9774\n"
     ]
    },
    {
     "name": "stderr",
     "output_type": "stream",
     "text": [
      " 82%|████████▏ | 744/910 [5:46:26<1:01:08, 22.10s/it]"
     ]
    },
    {
     "name": "stdout",
     "output_type": "stream",
     "text": [
      "epoch: 180 loss:0.142869 auc:0.9809\n",
      "Fit finished.\n",
      "epoch:   0 loss:0.649702 auc:0.4544\n",
      "epoch:  20 loss:0.250867 auc:0.9056\n",
      "epoch:  40 loss:0.187781 auc:0.9184\n",
      "epoch:  60 loss:0.172725 auc:0.9184\n",
      "epoch:  80 loss:0.163863 auc:0.9216\n",
      "epoch: 100 loss:0.153670 auc:0.9232\n",
      "epoch: 120 loss:0.148257 auc:0.9232\n",
      "epoch: 140 loss:0.145961 auc:0.9216\n",
      "epoch: 160 loss:0.144213 auc:0.9184\n",
      "epoch: 180 loss:0.142182 auc:0.9264\n",
      "epoch: 200 loss:0.141299 auc:0.9232\n",
      "epoch: 220 loss:0.139273 auc:0.9280\n"
     ]
    },
    {
     "name": "stderr",
     "output_type": "stream",
     "text": [
      " 82%|████████▏ | 745/910 [5:46:33<48:25, 17.61s/it]  "
     ]
    },
    {
     "name": "stdout",
     "output_type": "stream",
     "text": [
      "epoch: 240 loss:0.136656 auc:0.9056\n",
      "Fit finished.\n",
      "epoch:   0 loss:0.493550 auc:0.5917\n",
      "epoch:  20 loss:0.244422 auc:0.9965\n",
      "epoch:  40 loss:0.185255 auc:0.9965\n",
      "epoch:  60 loss:0.169842 auc:0.9965\n",
      "epoch:  80 loss:0.159125 auc:0.9965\n",
      "epoch: 100 loss:0.149673 auc:0.9965\n",
      "epoch: 120 loss:0.146227 auc:0.9965\n",
      "epoch: 140 loss:0.143685 auc:0.9965\n",
      "epoch: 160 loss:0.142871 auc:0.9965\n"
     ]
    },
    {
     "name": "stderr",
     "output_type": "stream",
     "text": [
      " 82%|████████▏ | 746/910 [5:46:39<39:04, 14.30s/it]"
     ]
    },
    {
     "name": "stdout",
     "output_type": "stream",
     "text": [
      "epoch: 180 loss:0.139121 auc:0.9896\n",
      "Fit finished.\n",
      "epoch:   0 loss:1.028045 auc:0.6927\n",
      "epoch:  20 loss:0.278599 auc:0.9948\n",
      "epoch:  40 loss:0.209344 auc:0.9948\n",
      "epoch:  60 loss:0.178274 auc:0.9965\n",
      "epoch:  80 loss:0.164966 auc:0.9948\n",
      "epoch: 100 loss:0.152773 auc:0.9948\n",
      "epoch: 120 loss:0.147373 auc:0.9965\n",
      "epoch: 140 loss:0.145249 auc:0.9965\n",
      "epoch: 160 loss:0.143675 auc:0.9965\n",
      "epoch: 180 loss:0.142638 auc:0.9965\n",
      "epoch: 200 loss:0.141465 auc:0.9948\n"
     ]
    },
    {
     "name": "stderr",
     "output_type": "stream",
     "text": [
      " 82%|████████▏ | 747/910 [5:46:47<33:16, 12.25s/it]"
     ]
    },
    {
     "name": "stdout",
     "output_type": "stream",
     "text": [
      "epoch: 220 loss:0.140173 auc:0.9948\n",
      "Fit finished.\n",
      "epoch:   0 loss:0.726969 auc:0.1684\n",
      "epoch:  20 loss:0.253849 auc:0.9635\n",
      "epoch:  40 loss:0.188111 auc:0.9618\n",
      "epoch:  60 loss:0.171194 auc:0.9705\n",
      "epoch:  80 loss:0.161236 auc:0.9774\n",
      "epoch: 100 loss:0.151360 auc:0.9774\n",
      "epoch: 120 loss:0.147691 auc:0.9792\n",
      "epoch: 140 loss:0.145424 auc:0.9792\n",
      "epoch: 160 loss:0.143381 auc:0.9792\n",
      "epoch: 180 loss:0.142513 auc:0.9792\n",
      "epoch: 200 loss:0.139771 auc:0.9774\n",
      "epoch: 220 loss:0.137958 auc:0.9774\n",
      "epoch: 240 loss:0.136294 auc:0.9774\n"
     ]
    },
    {
     "name": "stderr",
     "output_type": "stream",
     "text": [
      " 82%|████████▏ | 748/910 [5:46:57<31:07, 11.53s/it]"
     ]
    },
    {
     "name": "stdout",
     "output_type": "stream",
     "text": [
      "epoch: 260 loss:0.135692 auc:0.9705\n",
      "Fit finished.\n",
      "epoch:   0 loss:0.525205 auc:0.5248\n",
      "epoch:  20 loss:0.225071 auc:1.0000\n",
      "epoch:  40 loss:0.179580 auc:1.0000\n",
      "epoch:  60 loss:0.167472 auc:1.0000\n",
      "epoch:  80 loss:0.155901 auc:0.9979\n",
      "epoch: 100 loss:0.148318 auc:1.0000\n",
      "epoch: 120 loss:0.144979 auc:0.9979\n",
      "epoch: 140 loss:0.144111 auc:0.9979\n",
      "epoch: 160 loss:0.140747 auc:1.0000\n",
      "epoch: 180 loss:0.138576 auc:1.0000\n"
     ]
    },
    {
     "name": "stderr",
     "output_type": "stream",
     "text": [
      " 82%|████████▏ | 749/910 [5:47:05<28:32, 10.64s/it]"
     ]
    },
    {
     "name": "stdout",
     "output_type": "stream",
     "text": [
      "epoch: 200 loss:0.136935 auc:0.9979\n",
      "Fit finished.\n",
      "epoch:   0 loss:0.789556 auc:0.3712\n",
      "epoch:  20 loss:0.267160 auc:0.9993\n",
      "epoch:  40 loss:0.194590 auc:1.0000\n",
      "epoch:  60 loss:0.177479 auc:0.9993\n",
      "epoch:  80 loss:0.167819 auc:0.9993\n",
      "epoch: 100 loss:0.158329 auc:0.9993\n",
      "epoch: 120 loss:0.149859 auc:0.9993\n",
      "epoch: 140 loss:0.147337 auc:0.9993\n",
      "epoch: 160 loss:0.144525 auc:0.9993\n",
      "epoch: 180 loss:0.142180 auc:0.9993\n"
     ]
    },
    {
     "name": "stderr",
     "output_type": "stream",
     "text": [
      " 82%|████████▏ | 750/910 [5:47:15<27:18, 10.24s/it]"
     ]
    },
    {
     "name": "stdout",
     "output_type": "stream",
     "text": [
      "epoch: 200 loss:0.140686 auc:0.9986\n",
      "Fit finished.\n",
      "epoch:   0 loss:1.417099 auc:0.7344\n",
      "epoch:  20 loss:0.265754 auc:0.9248\n",
      "epoch:  40 loss:0.193412 auc:0.9277\n",
      "epoch:  60 loss:0.175546 auc:0.9307\n",
      "epoch:  80 loss:0.165402 auc:0.9297\n",
      "epoch: 100 loss:0.154304 auc:0.9336\n",
      "epoch: 120 loss:0.148586 auc:0.9336\n",
      "epoch: 140 loss:0.146023 auc:0.9326\n",
      "epoch: 160 loss:0.144129 auc:0.9316\n",
      "epoch: 180 loss:0.142119 auc:0.9326\n",
      "epoch: 200 loss:0.141616 auc:0.9404\n",
      "epoch: 220 loss:0.138902 auc:0.9424\n"
     ]
    },
    {
     "name": "stderr",
     "output_type": "stream",
     "text": [
      " 83%|████████▎ | 751/910 [5:47:25<27:18, 10.31s/it]"
     ]
    },
    {
     "name": "stdout",
     "output_type": "stream",
     "text": [
      "epoch: 240 loss:0.137685 auc:0.9277\n",
      "Fit finished.\n",
      "epoch:   0 loss:0.714523 auc:0.5778\n",
      "epoch:  20 loss:0.249238 auc:0.9900\n",
      "epoch:  40 loss:0.185804 auc:0.9911\n",
      "epoch:  60 loss:0.169849 auc:0.9900\n",
      "epoch:  80 loss:0.157911 auc:0.9911\n",
      "epoch: 100 loss:0.149747 auc:0.9911\n",
      "epoch: 120 loss:0.146749 auc:0.9911\n",
      "epoch: 140 loss:0.144694 auc:0.9911\n",
      "epoch: 160 loss:0.143773 auc:0.9922\n",
      "epoch: 180 loss:0.141907 auc:0.9944\n",
      "epoch: 200 loss:0.140068 auc:0.9933\n"
     ]
    },
    {
     "name": "stderr",
     "output_type": "stream",
     "text": [
      " 83%|████████▎ | 752/910 [5:47:36<27:35, 10.48s/it]"
     ]
    },
    {
     "name": "stdout",
     "output_type": "stream",
     "text": [
      "epoch: 220 loss:0.138181 auc:0.9811\n",
      "Fit finished.\n",
      "epoch:   0 loss:1.068764 auc:0.8039\n",
      "epoch:  20 loss:0.271824 auc:0.8384\n",
      "epoch:  40 loss:0.203228 auc:0.8401\n",
      "epoch:  60 loss:0.178365 auc:0.8492\n",
      "epoch:  80 loss:0.168350 auc:0.8554\n",
      "epoch: 100 loss:0.159277 auc:0.8554\n",
      "epoch: 120 loss:0.150373 auc:0.8554\n",
      "epoch: 140 loss:0.147064 auc:0.8588\n",
      "epoch: 160 loss:0.145007 auc:0.8571\n",
      "epoch: 180 loss:0.143435 auc:0.8481\n"
     ]
    },
    {
     "name": "stderr",
     "output_type": "stream",
     "text": [
      " 83%|████████▎ | 753/910 [5:47:45<26:28, 10.12s/it]"
     ]
    },
    {
     "name": "stdout",
     "output_type": "stream",
     "text": [
      "epoch: 200 loss:0.141921 auc:0.8373\n",
      "Fit finished.\n",
      "epoch:   0 loss:1.050306 auc:0.6831\n",
      "epoch:  20 loss:0.264385 auc:0.9790\n",
      "epoch:  40 loss:0.198608 auc:0.9853\n",
      "epoch:  60 loss:0.179729 auc:0.9870\n",
      "epoch:  80 loss:0.170850 auc:0.9864\n",
      "epoch: 100 loss:0.163166 auc:0.9870\n",
      "epoch: 120 loss:0.154042 auc:0.9870\n",
      "epoch: 140 loss:0.148649 auc:0.9870\n",
      "epoch: 160 loss:0.146340 auc:0.9870\n",
      "epoch: 180 loss:0.144506 auc:0.9864\n",
      "epoch: 200 loss:0.144152 auc:0.9853\n"
     ]
    },
    {
     "name": "stderr",
     "output_type": "stream",
     "text": [
      " 83%|████████▎ | 754/910 [5:47:57<28:00, 10.77s/it]"
     ]
    },
    {
     "name": "stdout",
     "output_type": "stream",
     "text": [
      "epoch: 220 loss:0.141554 auc:0.9841\n",
      "Fit finished.\n",
      "epoch:   0 loss:0.633840 auc:0.4860\n",
      "epoch:  20 loss:0.277058 auc:0.9145\n",
      "epoch:  40 loss:0.199815 auc:0.9464\n",
      "epoch:  60 loss:0.176348 auc:0.9515\n",
      "epoch:  80 loss:0.164351 auc:0.9592\n",
      "epoch: 100 loss:0.152649 auc:0.9579\n",
      "epoch: 120 loss:0.148047 auc:0.9605\n",
      "epoch: 140 loss:0.145542 auc:0.9579\n",
      "epoch: 160 loss:0.144113 auc:0.9579\n",
      "epoch: 180 loss:0.144078 auc:0.9617\n",
      "epoch: 200 loss:0.140856 auc:0.9643\n",
      "epoch: 220 loss:0.139199 auc:0.9592\n"
     ]
    },
    {
     "name": "stderr",
     "output_type": "stream",
     "text": [
      " 83%|████████▎ | 755/910 [5:48:07<27:07, 10.50s/it]"
     ]
    },
    {
     "name": "stdout",
     "output_type": "stream",
     "text": [
      "epoch: 240 loss:0.136848 auc:0.9503\n",
      "Fit finished.\n",
      "epoch:   0 loss:0.510084 auc:0.4492\n",
      "epoch:  20 loss:0.217069 auc:0.9414\n",
      "epoch:  40 loss:0.179412 auc:0.9453\n",
      "epoch:  60 loss:0.169408 auc:0.9424\n",
      "epoch:  80 loss:0.158704 auc:0.9434\n",
      "epoch: 100 loss:0.148768 auc:0.9414\n",
      "epoch: 120 loss:0.145576 auc:0.9395\n",
      "epoch: 140 loss:0.144232 auc:0.9355\n",
      "epoch: 160 loss:0.142375 auc:0.9199\n"
     ]
    },
    {
     "name": "stderr",
     "output_type": "stream",
     "text": [
      " 83%|████████▎ | 756/910 [5:48:18<27:04, 10.55s/it]"
     ]
    },
    {
     "name": "stdout",
     "output_type": "stream",
     "text": [
      "epoch: 180 loss:0.138833 auc:0.8916\n",
      "Fit finished.\n",
      "epoch:   0 loss:0.862770 auc:0.2608\n",
      "epoch:  20 loss:0.247807 auc:0.9977\n",
      "epoch:  40 loss:0.189066 auc:1.0000\n",
      "epoch:  60 loss:0.175013 auc:1.0000\n",
      "epoch:  80 loss:0.166339 auc:1.0000\n",
      "epoch: 100 loss:0.154010 auc:1.0000\n",
      "epoch: 120 loss:0.148027 auc:1.0000\n",
      "epoch: 140 loss:0.145252 auc:1.0000\n",
      "epoch: 160 loss:0.143506 auc:1.0000\n",
      "epoch: 180 loss:0.141430 auc:0.9977\n"
     ]
    },
    {
     "name": "stderr",
     "output_type": "stream",
     "text": [
      " 83%|████████▎ | 757/910 [5:48:29<27:16, 10.70s/it]"
     ]
    },
    {
     "name": "stdout",
     "output_type": "stream",
     "text": [
      "epoch: 200 loss:0.146578 auc:0.9977\n",
      "Fit finished.\n",
      "epoch:   0 loss:0.580107 auc:0.6232\n",
      "epoch:  20 loss:0.251271 auc:0.9164\n",
      "epoch:  40 loss:0.189540 auc:0.9200\n",
      "epoch:  60 loss:0.176023 auc:0.9172\n",
      "epoch:  80 loss:0.167887 auc:0.9188\n",
      "epoch: 100 loss:0.159283 auc:0.9196\n",
      "epoch: 120 loss:0.150737 auc:0.9212\n",
      "epoch: 140 loss:0.147377 auc:0.9196\n",
      "epoch: 160 loss:0.145211 auc:0.9208\n",
      "epoch: 180 loss:0.143232 auc:0.9248\n",
      "epoch: 200 loss:0.141393 auc:0.9208\n"
     ]
    },
    {
     "name": "stderr",
     "output_type": "stream",
     "text": [
      " 83%|████████▎ | 758/910 [5:48:42<28:32, 11.27s/it]"
     ]
    },
    {
     "name": "stdout",
     "output_type": "stream",
     "text": [
      "epoch: 220 loss:0.143826 auc:0.9088\n",
      "Fit finished.\n",
      "epoch:   0 loss:0.986698 auc:0.7576\n",
      "epoch:  20 loss:0.273635 auc:0.9728\n",
      "epoch:  40 loss:0.198086 auc:0.9704\n",
      "epoch:  60 loss:0.178008 auc:0.9716\n",
      "epoch:  80 loss:0.168066 auc:0.9720\n",
      "epoch: 100 loss:0.158406 auc:0.9740\n",
      "epoch: 120 loss:0.149413 auc:0.9740\n",
      "epoch: 140 loss:0.146352 auc:0.9740\n",
      "epoch: 160 loss:0.144425 auc:0.9736\n",
      "epoch: 180 loss:0.142996 auc:0.9732\n"
     ]
    },
    {
     "name": "stderr",
     "output_type": "stream",
     "text": [
      " 83%|████████▎ | 759/910 [5:48:52<27:24, 10.89s/it]"
     ]
    },
    {
     "name": "stdout",
     "output_type": "stream",
     "text": [
      "epoch: 200 loss:0.142266 auc:0.9640\n",
      "Fit finished.\n",
      "epoch:   0 loss:0.861191 auc:0.8475\n",
      "epoch:  20 loss:0.289323 auc:0.9181\n",
      "epoch:  40 loss:0.223249 auc:0.9256\n",
      "epoch:  60 loss:0.184674 auc:0.9288\n",
      "epoch:  80 loss:0.172443 auc:0.9281\n",
      "epoch: 100 loss:0.164516 auc:0.9256\n",
      "epoch: 120 loss:0.155662 auc:0.9256\n",
      "epoch: 140 loss:0.149034 auc:0.9250\n",
      "epoch: 160 loss:0.146612 auc:0.9256\n",
      "epoch: 180 loss:0.144888 auc:0.9256\n",
      "epoch: 200 loss:0.143437 auc:0.9269\n",
      "epoch: 220 loss:0.142455 auc:0.9325\n",
      "epoch: 240 loss:0.141202 auc:0.9381\n",
      "epoch: 260 loss:0.140216 auc:0.9294\n",
      "epoch: 280 loss:0.139677 auc:0.9369\n",
      "epoch: 300 loss:0.136633 auc:0.9437\n",
      "epoch: 320 loss:0.135793 auc:0.9469\n",
      "epoch: 340 loss:0.134211 auc:0.9469\n",
      "epoch: 360 loss:0.132820 auc:0.9487\n",
      "epoch: 380 loss:0.132930 auc:0.9506\n",
      "epoch: 400 loss:0.133225 auc:0.9500\n",
      "epoch: 420 loss:0.131334 auc:0.9487\n"
     ]
    },
    {
     "name": "stderr",
     "output_type": "stream",
     "text": [
      " 84%|████████▎ | 760/910 [5:49:23<42:32, 17.02s/it]"
     ]
    },
    {
     "name": "stdout",
     "output_type": "stream",
     "text": [
      "epoch: 440 loss:0.128064 auc:0.9344\n",
      "Fit finished.\n",
      "epoch:   0 loss:0.806643 auc:0.5400\n",
      "epoch:  20 loss:0.281593 auc:0.9550\n",
      "epoch:  40 loss:0.209752 auc:0.9600\n",
      "epoch:  60 loss:0.180731 auc:0.9600\n",
      "epoch:  80 loss:0.169250 auc:0.9625\n",
      "epoch: 100 loss:0.159091 auc:0.9600\n",
      "epoch: 120 loss:0.150393 auc:0.9625\n",
      "epoch: 140 loss:0.147374 auc:0.9625\n",
      "epoch: 160 loss:0.145160 auc:0.9625\n",
      "epoch: 180 loss:0.143590 auc:0.9625\n",
      "epoch: 200 loss:0.141852 auc:0.9625\n",
      "epoch: 220 loss:0.148642 auc:0.9675\n",
      "epoch: 240 loss:0.140028 auc:0.9725\n",
      "epoch: 260 loss:0.137145 auc:0.9750\n",
      "epoch: 280 loss:0.135512 auc:0.9775\n",
      "epoch: 300 loss:0.137111 auc:0.9825\n",
      "epoch: 320 loss:0.133453 auc:0.9800\n",
      "epoch: 340 loss:0.131524 auc:0.9775\n",
      "epoch: 360 loss:0.130991 auc:0.9750\n",
      "epoch: 380 loss:0.128884 auc:0.9750\n",
      "epoch: 400 loss:0.127656 auc:0.9750\n",
      "epoch: 420 loss:0.128078 auc:0.9850\n"
     ]
    },
    {
     "name": "stderr",
     "output_type": "stream",
     "text": [
      " 84%|████████▎ | 761/910 [5:49:47<47:15, 19.03s/it]"
     ]
    },
    {
     "name": "stdout",
     "output_type": "stream",
     "text": [
      "epoch: 440 loss:0.125444 auc:0.9750\n",
      "Fit finished.\n",
      "epoch:   0 loss:0.616935 auc:0.4645\n",
      "epoch:  20 loss:0.247866 auc:0.9645\n",
      "epoch:  40 loss:0.186650 auc:0.9808\n",
      "epoch:  60 loss:0.172900 auc:0.9808\n",
      "epoch:  80 loss:0.163643 auc:0.9808\n",
      "epoch: 100 loss:0.152764 auc:0.9808\n",
      "epoch: 120 loss:0.147775 auc:0.9808\n",
      "epoch: 140 loss:0.145103 auc:0.9808\n",
      "epoch: 160 loss:0.142696 auc:0.9808\n",
      "epoch: 180 loss:0.141237 auc:0.9808\n"
     ]
    },
    {
     "name": "stderr",
     "output_type": "stream",
     "text": [
      " 84%|████████▎ | 762/910 [5:49:53<37:43, 15.30s/it]"
     ]
    },
    {
     "name": "stdout",
     "output_type": "stream",
     "text": [
      "epoch: 200 loss:0.138613 auc:0.9778\n",
      "Fit finished.\n",
      "epoch:   0 loss:0.634143 auc:0.5978\n",
      "epoch:  20 loss:0.275448 auc:0.9758\n",
      "epoch:  40 loss:0.195285 auc:0.9836\n",
      "epoch:  60 loss:0.177997 auc:0.9853\n",
      "epoch:  80 loss:0.167973 auc:0.9888\n",
      "epoch: 100 loss:0.157415 auc:0.9870\n",
      "epoch: 120 loss:0.148740 auc:0.9879\n",
      "epoch: 140 loss:0.145895 auc:0.9879\n",
      "epoch: 160 loss:0.144255 auc:0.9879\n",
      "epoch: 180 loss:0.142433 auc:0.9853\n"
     ]
    },
    {
     "name": "stderr",
     "output_type": "stream",
     "text": [
      " 84%|████████▍ | 763/910 [5:49:59<30:20, 12.38s/it]"
     ]
    },
    {
     "name": "stdout",
     "output_type": "stream",
     "text": [
      "epoch: 200 loss:0.141732 auc:0.9792\n",
      "Fit finished.\n",
      "epoch:   0 loss:0.555332 auc:0.6350\n",
      "epoch:  20 loss:0.289238 auc:0.9925\n",
      "epoch:  40 loss:0.209959 auc:0.9950\n",
      "epoch:  60 loss:0.180424 auc:0.9925\n",
      "epoch:  80 loss:0.168845 auc:0.9925\n",
      "epoch: 100 loss:0.157956 auc:0.9925\n",
      "epoch: 120 loss:0.149195 auc:0.9925\n",
      "epoch: 140 loss:0.146387 auc:0.9925\n",
      "epoch: 160 loss:0.146154 auc:0.9925\n",
      "epoch: 180 loss:0.143003 auc:0.9925\n"
     ]
    },
    {
     "name": "stderr",
     "output_type": "stream",
     "text": [
      " 84%|████████▍ | 764/910 [5:50:06<26:12, 10.77s/it]"
     ]
    },
    {
     "name": "stdout",
     "output_type": "stream",
     "text": [
      "epoch: 200 loss:0.141337 auc:0.9925\n",
      "Fit finished.\n",
      "epoch:   0 loss:0.599993 auc:0.5988\n",
      "epoch:  20 loss:0.268780 auc:0.9414\n",
      "epoch:  40 loss:0.192774 auc:0.9228\n",
      "epoch:  60 loss:0.174606 auc:0.9043\n",
      "epoch:  80 loss:0.163409 auc:0.8920\n",
      "epoch: 100 loss:0.151494 auc:0.8920\n",
      "epoch: 120 loss:0.147528 auc:0.8858\n",
      "epoch: 140 loss:0.145190 auc:0.8889\n",
      "epoch: 160 loss:0.146412 auc:0.8920\n"
     ]
    },
    {
     "name": "stderr",
     "output_type": "stream",
     "text": [
      " 84%|████████▍ | 765/910 [5:50:12<22:41,  9.39s/it]"
     ]
    },
    {
     "name": "stdout",
     "output_type": "stream",
     "text": [
      "epoch: 180 loss:0.141886 auc:0.9012\n",
      "Fit finished.\n",
      "epoch:   0 loss:1.298720 auc:0.9546\n",
      "epoch:  20 loss:0.279222 auc:0.9849\n",
      "epoch:  40 loss:0.215983 auc:0.9830\n",
      "epoch:  60 loss:0.180329 auc:0.9849\n",
      "epoch:  80 loss:0.166231 auc:0.9830\n",
      "epoch: 100 loss:0.155338 auc:0.9830\n",
      "epoch: 120 loss:0.149424 auc:0.9830\n",
      "epoch: 140 loss:0.147042 auc:0.9830\n",
      "epoch: 160 loss:0.145363 auc:0.9830\n"
     ]
    },
    {
     "name": "stderr",
     "output_type": "stream",
     "text": [
      " 84%|████████▍ | 766/910 [5:50:19<20:37,  8.60s/it]"
     ]
    },
    {
     "name": "stdout",
     "output_type": "stream",
     "text": [
      "epoch: 180 loss:0.144032 auc:0.9830\n",
      "Fit finished.\n",
      "epoch:   0 loss:0.906598 auc:0.3704\n",
      "epoch:  20 loss:0.286364 auc:0.9643\n",
      "epoch:  40 loss:0.215746 auc:0.9849\n",
      "epoch:  60 loss:0.182646 auc:0.9877\n",
      "epoch:  80 loss:0.170410 auc:0.9904\n",
      "epoch: 100 loss:0.160795 auc:0.9904\n",
      "epoch: 120 loss:0.151126 auc:0.9904\n",
      "epoch: 140 loss:0.147583 auc:0.9904\n",
      "epoch: 160 loss:0.145540 auc:0.9904\n",
      "epoch: 180 loss:0.144099 auc:0.9904\n",
      "epoch: 200 loss:0.142512 auc:0.9904\n",
      "epoch: 220 loss:0.140524 auc:0.9904\n",
      "epoch: 240 loss:0.138934 auc:0.9904\n",
      "epoch: 260 loss:0.136252 auc:0.9918\n",
      "epoch: 280 loss:0.134851 auc:0.9918\n"
     ]
    },
    {
     "name": "stderr",
     "output_type": "stream",
     "text": [
      " 84%|████████▍ | 767/910 [6:45:50<39:56:01, 1005.32s/it]"
     ]
    },
    {
     "name": "stdout",
     "output_type": "stream",
     "text": [
      "epoch: 300 loss:0.133784 auc:0.9890\n",
      "Fit finished.\n",
      "epoch:   0 loss:0.903647 auc:0.7146\n",
      "epoch:  20 loss:0.298330 auc:0.9346\n",
      "epoch:  40 loss:0.242335 auc:0.9346\n",
      "epoch:  60 loss:0.191557 auc:0.9346\n",
      "epoch:  80 loss:0.176881 auc:0.9322\n",
      "epoch: 100 loss:0.167629 auc:0.9322\n",
      "epoch: 120 loss:0.157395 auc:0.9346\n",
      "epoch: 140 loss:0.149364 auc:0.9358\n",
      "epoch: 160 loss:0.146916 auc:0.9370\n",
      "epoch: 180 loss:0.144741 auc:0.9370\n",
      "epoch: 200 loss:0.143304 auc:0.9394\n",
      "epoch: 220 loss:0.142114 auc:0.9417\n",
      "epoch: 240 loss:0.141069 auc:0.9548\n",
      "epoch: 260 loss:0.139693 auc:0.9620\n",
      "epoch: 280 loss:0.138285 auc:0.9655\n",
      "epoch: 300 loss:0.136872 auc:0.9608\n",
      "epoch: 320 loss:0.136208 auc:0.9691\n",
      "epoch: 340 loss:0.134435 auc:0.9631\n",
      "epoch: 360 loss:0.132922 auc:0.9691\n",
      "epoch: 380 loss:0.132985 auc:0.9643\n",
      "epoch: 400 loss:0.130177 auc:0.9715\n",
      "epoch: 420 loss:0.129267 auc:0.9691\n",
      "epoch: 440 loss:0.127866 auc:0.9691\n",
      "epoch: 460 loss:0.127021 auc:0.9703\n"
     ]
    },
    {
     "name": "stderr",
     "output_type": "stream",
     "text": [
      " 84%|████████▍ | 768/910 [6:46:06<27:56:41, 708.46s/it] "
     ]
    },
    {
     "name": "stdout",
     "output_type": "stream",
     "text": [
      "epoch: 480 loss:0.125865 auc:0.9667\n",
      "Fit finished.\n",
      "epoch:   0 loss:0.546536 auc:0.1700\n",
      "epoch:  20 loss:0.207429 auc:0.9825\n",
      "epoch:  40 loss:0.178132 auc:0.9875\n",
      "epoch:  60 loss:0.166926 auc:0.9875\n",
      "epoch:  80 loss:0.154163 auc:0.9900\n",
      "epoch: 100 loss:0.147974 auc:0.9875\n",
      "epoch: 120 loss:0.144935 auc:0.9875\n",
      "epoch: 140 loss:0.143660 auc:0.9900\n",
      "epoch: 160 loss:0.143384 auc:0.9900\n",
      "epoch: 180 loss:0.138431 auc:0.9900\n",
      "epoch: 200 loss:0.137503 auc:0.9925\n",
      "epoch: 220 loss:0.134770 auc:0.9900\n",
      "epoch: 240 loss:0.132054 auc:0.9900\n"
     ]
    },
    {
     "name": "stderr",
     "output_type": "stream",
     "text": [
      " 85%|████████▍ | 769/910 [6:46:14<19:31:23, 498.47s/it]"
     ]
    },
    {
     "name": "stdout",
     "output_type": "stream",
     "text": [
      "epoch: 260 loss:0.135528 auc:0.9825\n",
      "Fit finished.\n",
      "epoch:   0 loss:0.638650 auc:0.7559\n",
      "epoch:  20 loss:0.268468 auc:0.9527\n",
      "epoch:  40 loss:0.192368 auc:0.9615\n",
      "epoch:  60 loss:0.173441 auc:0.9615\n",
      "epoch:  80 loss:0.164062 auc:0.9601\n",
      "epoch: 100 loss:0.153168 auc:0.9615\n",
      "epoch: 120 loss:0.148071 auc:0.9630\n",
      "epoch: 140 loss:0.145658 auc:0.9630\n",
      "epoch: 160 loss:0.143673 auc:0.9615\n",
      "epoch: 180 loss:0.141493 auc:0.9527\n",
      "epoch: 200 loss:0.140717 auc:0.9675\n"
     ]
    },
    {
     "name": "stderr",
     "output_type": "stream",
     "text": [
      " 85%|████████▍ | 770/910 [6:46:22<13:39:58, 351.41s/it]"
     ]
    },
    {
     "name": "stdout",
     "output_type": "stream",
     "text": [
      "epoch: 220 loss:0.137545 auc:0.9467\n",
      "Fit finished.\n",
      "epoch:   0 loss:0.520945 auc:0.2449\n",
      "epoch:  20 loss:0.259113 auc:1.0000\n",
      "epoch:  40 loss:0.190060 auc:1.0000\n",
      "epoch:  60 loss:0.174121 auc:1.0000\n",
      "epoch:  80 loss:0.164333 auc:1.0000\n",
      "epoch: 100 loss:0.151964 auc:1.0000\n",
      "epoch: 120 loss:0.147192 auc:1.0000\n",
      "epoch: 140 loss:0.145283 auc:1.0000\n",
      "epoch: 160 loss:0.143002 auc:1.0000\n",
      "epoch: 180 loss:0.140874 auc:1.0000\n",
      "epoch: 200 loss:0.140558 auc:1.0000\n",
      "epoch: 220 loss:0.137209 auc:1.0000\n",
      "epoch: 240 loss:0.135726 auc:1.0000\n",
      "epoch: 260 loss:0.134391 auc:1.0000\n",
      "epoch: 280 loss:0.133537 auc:1.0000\n",
      "epoch: 300 loss:0.132520 auc:1.0000\n",
      "epoch: 320 loss:0.132435 auc:1.0000\n",
      "epoch: 340 loss:0.129632 auc:1.0000\n",
      "epoch: 360 loss:0.127241 auc:1.0000\n",
      "epoch: 380 loss:0.125175 auc:1.0000\n",
      "epoch: 400 loss:0.123378 auc:1.0000\n",
      "epoch: 420 loss:0.127790 auc:1.0000\n",
      "epoch: 440 loss:0.125244 auc:1.0000\n",
      "epoch: 460 loss:0.119781 auc:1.0000\n",
      "epoch: 480 loss:0.118104 auc:1.0000\n",
      "epoch: 500 loss:0.116827 auc:1.0000\n",
      "epoch: 520 loss:0.116276 auc:1.0000\n",
      "epoch: 540 loss:0.115313 auc:1.0000\n",
      "epoch: 560 loss:0.125524 auc:1.0000\n",
      "epoch: 580 loss:0.130299 auc:1.0000\n",
      "epoch: 600 loss:0.118197 auc:1.0000\n",
      "epoch: 620 loss:0.114924 auc:1.0000\n",
      "epoch: 640 loss:0.113547 auc:1.0000\n",
      "epoch: 660 loss:0.112593 auc:1.0000\n",
      "epoch: 680 loss:0.111883 auc:1.0000\n",
      "epoch: 700 loss:0.111803 auc:1.0000\n",
      "epoch: 720 loss:0.111125 auc:1.0000\n",
      "epoch: 740 loss:0.110961 auc:1.0000\n",
      "epoch: 760 loss:0.114486 auc:1.0000\n",
      "epoch: 780 loss:0.110818 auc:1.0000\n",
      "epoch: 800 loss:0.108869 auc:1.0000\n",
      "epoch: 820 loss:0.108144 auc:1.0000\n",
      "epoch: 840 loss:0.108049 auc:1.0000\n",
      "epoch: 860 loss:0.107950 auc:1.0000\n",
      "epoch: 880 loss:0.107704 auc:1.0000\n",
      "epoch: 900 loss:0.106700 auc:1.0000\n",
      "epoch: 920 loss:0.106789 auc:1.0000\n",
      "epoch: 940 loss:0.106360 auc:1.0000\n",
      "epoch: 960 loss:0.106667 auc:1.0000\n",
      "epoch: 980 loss:0.105436 auc:1.0000\n"
     ]
    },
    {
     "name": "stderr",
     "output_type": "stream",
     "text": [
      " 85%|████████▍ | 771/910 [6:46:58<9:54:50, 256.77s/it] "
     ]
    },
    {
     "name": "stdout",
     "output_type": "stream",
     "text": [
      "Fit finished.\n",
      "epoch:   0 loss:0.948005 auc:0.5784\n",
      "epoch:  20 loss:0.281013 auc:0.9962\n",
      "epoch:  40 loss:0.208349 auc:0.9905\n",
      "epoch:  60 loss:0.178233 auc:0.9887\n",
      "epoch:  80 loss:0.166745 auc:0.9887\n",
      "epoch: 100 loss:0.156496 auc:0.9887\n",
      "epoch: 120 loss:0.149354 auc:0.9887\n",
      "epoch: 140 loss:0.146795 auc:0.9887\n",
      "epoch: 160 loss:0.144995 auc:0.9887\n"
     ]
    },
    {
     "name": "stderr",
     "output_type": "stream",
     "text": [
      " 85%|████████▍ | 772/910 [6:47:04<6:57:02, 181.32s/it]"
     ]
    },
    {
     "name": "stdout",
     "output_type": "stream",
     "text": [
      "epoch: 180 loss:0.143924 auc:0.9887\n",
      "Fit finished.\n",
      "epoch:   0 loss:0.755697 auc:0.3891\n",
      "epoch:  20 loss:0.269869 auc:1.0000\n",
      "epoch:  40 loss:0.195731 auc:0.9985\n",
      "epoch:  60 loss:0.177701 auc:0.9970\n",
      "epoch:  80 loss:0.169458 auc:0.9970\n",
      "epoch: 100 loss:0.161157 auc:0.9970\n",
      "epoch: 120 loss:0.151092 auc:0.9970\n",
      "epoch: 140 loss:0.148292 auc:0.9970\n",
      "epoch: 160 loss:0.144940 auc:0.9970\n"
     ]
    },
    {
     "name": "stderr",
     "output_type": "stream",
     "text": [
      " 85%|████████▍ | 773/910 [6:47:10<4:54:19, 128.90s/it]"
     ]
    },
    {
     "name": "stdout",
     "output_type": "stream",
     "text": [
      "epoch: 180 loss:0.144258 auc:0.9970\n",
      "Fit finished.\n",
      "epoch:   0 loss:0.761010 auc:0.6727\n",
      "epoch:  20 loss:0.273894 auc:0.9837\n",
      "epoch:  40 loss:0.201612 auc:0.9910\n",
      "epoch:  60 loss:0.180581 auc:0.9935\n",
      "epoch:  80 loss:0.172575 auc:0.9935\n",
      "epoch: 100 loss:0.166451 auc:0.9935\n",
      "epoch: 120 loss:0.157827 auc:0.9935\n",
      "epoch: 140 loss:0.149600 auc:0.9935\n",
      "epoch: 160 loss:0.146748 auc:0.9935\n",
      "epoch: 180 loss:0.144588 auc:0.9935\n",
      "epoch: 200 loss:0.143562 auc:0.9935\n",
      "epoch: 220 loss:0.141425 auc:0.9943\n"
     ]
    },
    {
     "name": "stderr",
     "output_type": "stream",
     "text": [
      " 85%|████████▌ | 774/910 [6:47:21<3:32:12, 93.62s/it] "
     ]
    },
    {
     "name": "stdout",
     "output_type": "stream",
     "text": [
      "epoch: 240 loss:0.143325 auc:0.9910\n",
      "Fit finished.\n",
      "epoch:   0 loss:0.739655 auc:0.6639\n",
      "epoch:  20 loss:0.282023 auc:0.9376\n",
      "epoch:  40 loss:0.203878 auc:0.9417\n",
      "epoch:  60 loss:0.178859 auc:0.9469\n",
      "epoch:  80 loss:0.167844 auc:0.9480\n",
      "epoch: 100 loss:0.157964 auc:0.9469\n",
      "epoch: 120 loss:0.149513 auc:0.9469\n",
      "epoch: 140 loss:0.146630 auc:0.9459\n",
      "epoch: 160 loss:0.144684 auc:0.9459\n",
      "epoch: 180 loss:0.146402 auc:0.9459\n",
      "epoch: 200 loss:0.141850 auc:0.9459\n"
     ]
    },
    {
     "name": "stderr",
     "output_type": "stream",
     "text": [
      " 85%|████████▌ | 775/910 [6:47:28<2:31:35, 67.37s/it]"
     ]
    },
    {
     "name": "stdout",
     "output_type": "stream",
     "text": [
      "epoch: 220 loss:0.141159 auc:0.9448\n",
      "Fit finished.\n",
      "epoch:   0 loss:0.723786 auc:0.4512\n",
      "epoch:  20 loss:0.275389 auc:0.9932\n",
      "epoch:  40 loss:0.202679 auc:0.9941\n",
      "epoch:  60 loss:0.177151 auc:0.9932\n",
      "epoch:  80 loss:0.165398 auc:0.9932\n",
      "epoch: 100 loss:0.153725 auc:0.9932\n",
      "epoch: 120 loss:0.148689 auc:0.9922\n",
      "epoch: 140 loss:0.146144 auc:0.9932\n",
      "epoch: 160 loss:0.144571 auc:0.9932\n"
     ]
    },
    {
     "name": "stderr",
     "output_type": "stream",
     "text": [
      " 85%|████████▌ | 776/910 [6:47:33<1:48:53, 48.76s/it]"
     ]
    },
    {
     "name": "stdout",
     "output_type": "stream",
     "text": [
      "epoch: 180 loss:0.142671 auc:0.9883\n",
      "Fit finished.\n",
      "epoch:   0 loss:1.035995 auc:0.3474\n",
      "epoch:  20 loss:0.266926 auc:0.9756\n",
      "epoch:  40 loss:0.195629 auc:0.9774\n",
      "epoch:  60 loss:0.178122 auc:0.9792\n",
      "epoch:  80 loss:0.169692 auc:0.9804\n",
      "epoch: 100 loss:0.162231 auc:0.9798\n",
      "epoch: 120 loss:0.152922 auc:0.9798\n",
      "epoch: 140 loss:0.148448 auc:0.9798\n",
      "epoch: 160 loss:0.145987 auc:0.9816\n",
      "epoch: 180 loss:0.143903 auc:0.9804\n"
     ]
    },
    {
     "name": "stderr",
     "output_type": "stream",
     "text": [
      " 85%|████████▌ | 777/910 [6:47:39<1:19:50, 36.02s/it]"
     ]
    },
    {
     "name": "stdout",
     "output_type": "stream",
     "text": [
      "epoch: 200 loss:0.143010 auc:0.9709\n",
      "Fit finished.\n",
      "epoch:   0 loss:1.400193 auc:0.7893\n",
      "epoch:  20 loss:0.296721 auc:0.9545\n",
      "epoch:  40 loss:0.232607 auc:0.9752\n",
      "epoch:  60 loss:0.187228 auc:0.9793\n",
      "epoch:  80 loss:0.175196 auc:0.9855\n",
      "epoch: 100 loss:0.168670 auc:0.9855\n",
      "epoch: 120 loss:0.161602 auc:0.9835\n",
      "epoch: 140 loss:0.152727 auc:0.9855\n",
      "epoch: 160 loss:0.148759 auc:0.9835\n",
      "epoch: 180 loss:0.146433 auc:0.9835\n",
      "epoch: 200 loss:0.145284 auc:0.9835\n",
      "epoch: 220 loss:0.143586 auc:0.9855\n",
      "epoch: 240 loss:0.142949 auc:0.9855\n"
     ]
    },
    {
     "name": "stderr",
     "output_type": "stream",
     "text": [
      " 85%|████████▌ | 778/910 [6:47:48<1:01:28, 27.94s/it]"
     ]
    },
    {
     "name": "stdout",
     "output_type": "stream",
     "text": [
      "epoch: 260 loss:0.144154 auc:0.9752\n",
      "Fit finished.\n",
      "epoch:   0 loss:0.942544 auc:0.2205\n",
      "epoch:  20 loss:0.264179 auc:0.9896\n",
      "epoch:  40 loss:0.191906 auc:0.9913\n",
      "epoch:  60 loss:0.176987 auc:0.9896\n",
      "epoch:  80 loss:0.169098 auc:0.9913\n",
      "epoch: 100 loss:0.161072 auc:0.9913\n",
      "epoch: 120 loss:0.150965 auc:0.9913\n",
      "epoch: 140 loss:0.147044 auc:0.9913\n",
      "epoch: 160 loss:0.144751 auc:0.9913\n",
      "epoch: 180 loss:0.143066 auc:0.9913\n"
     ]
    },
    {
     "name": "stderr",
     "output_type": "stream",
     "text": [
      " 86%|████████▌ | 779/910 [6:47:57<48:16, 22.11s/it]  "
     ]
    },
    {
     "name": "stdout",
     "output_type": "stream",
     "text": [
      "epoch: 200 loss:0.141300 auc:0.9878\n",
      "Fit finished.\n",
      "epoch:   0 loss:0.581347 auc:0.5556\n",
      "epoch:  20 loss:0.212349 auc:0.9683\n",
      "epoch:  40 loss:0.178739 auc:0.9887\n",
      "epoch:  60 loss:0.165351 auc:0.9887\n",
      "epoch:  80 loss:0.151205 auc:0.9887\n",
      "epoch: 100 loss:0.147554 auc:0.9864\n",
      "epoch: 120 loss:0.144494 auc:0.9864\n",
      "epoch: 140 loss:0.146548 auc:0.9864\n",
      "epoch: 160 loss:0.140518 auc:0.9864\n",
      "epoch: 180 loss:0.139274 auc:0.9887\n",
      "epoch: 200 loss:0.136159 auc:0.9887\n",
      "epoch: 220 loss:0.137887 auc:0.9909\n"
     ]
    },
    {
     "name": "stderr",
     "output_type": "stream",
     "text": [
      " 86%|████████▌ | 780/910 [6:48:07<39:55, 18.43s/it]"
     ]
    },
    {
     "name": "stdout",
     "output_type": "stream",
     "text": [
      "epoch: 240 loss:0.137502 auc:0.9864\n",
      "Fit finished.\n",
      "epoch:   0 loss:1.024903 auc:0.6225\n",
      "epoch:  20 loss:0.291141 auc:0.9578\n",
      "epoch:  40 loss:0.228927 auc:0.9686\n",
      "epoch:  60 loss:0.186684 auc:0.9697\n",
      "epoch:  80 loss:0.174486 auc:0.9735\n",
      "epoch: 100 loss:0.166626 auc:0.9730\n",
      "epoch: 120 loss:0.156867 auc:0.9719\n",
      "epoch: 140 loss:0.149287 auc:0.9724\n",
      "epoch: 160 loss:0.146805 auc:0.9719\n",
      "epoch: 180 loss:0.144800 auc:0.9708\n",
      "epoch: 200 loss:0.146128 auc:0.9703\n"
     ]
    },
    {
     "name": "stderr",
     "output_type": "stream",
     "text": [
      " 86%|████████▌ | 781/910 [6:48:15<32:57, 15.33s/it]"
     ]
    },
    {
     "name": "stdout",
     "output_type": "stream",
     "text": [
      "epoch: 220 loss:0.142607 auc:0.9681\n",
      "Fit finished.\n",
      "epoch:   0 loss:0.953050 auc:0.5354\n",
      "epoch:  20 loss:0.293485 auc:0.9798\n",
      "epoch:  40 loss:0.228925 auc:0.9890\n",
      "epoch:  60 loss:0.185254 auc:0.9908\n",
      "epoch:  80 loss:0.171881 auc:0.9936\n",
      "epoch: 100 loss:0.162042 auc:0.9927\n",
      "epoch: 120 loss:0.151628 auc:0.9936\n",
      "epoch: 140 loss:0.148254 auc:0.9936\n",
      "epoch: 160 loss:0.146173 auc:0.9927\n",
      "epoch: 180 loss:0.144561 auc:0.9936\n",
      "epoch: 200 loss:0.144539 auc:0.9917\n",
      "epoch: 220 loss:0.142731 auc:0.9917\n"
     ]
    },
    {
     "name": "stderr",
     "output_type": "stream",
     "text": [
      " 86%|████████▌ | 782/910 [6:48:22<27:15, 12.78s/it]"
     ]
    },
    {
     "name": "stdout",
     "output_type": "stream",
     "text": [
      "epoch: 240 loss:0.140493 auc:0.9853\n",
      "Fit finished.\n",
      "epoch:   0 loss:0.831704 auc:0.2757\n",
      "epoch:  20 loss:0.256521 auc:0.9890\n",
      "epoch:  40 loss:0.189425 auc:0.9890\n",
      "epoch:  60 loss:0.176310 auc:0.9877\n",
      "epoch:  80 loss:0.169287 auc:0.9877\n",
      "epoch: 100 loss:0.161635 auc:0.9877\n",
      "epoch: 120 loss:0.151165 auc:0.9877\n",
      "epoch: 140 loss:0.147087 auc:0.9877\n",
      "epoch: 160 loss:0.147638 auc:0.9877\n"
     ]
    },
    {
     "name": "stderr",
     "output_type": "stream",
     "text": [
      " 86%|████████▌ | 783/910 [6:48:27<22:38, 10.70s/it]"
     ]
    },
    {
     "name": "stdout",
     "output_type": "stream",
     "text": [
      "epoch: 180 loss:0.143114 auc:0.9877\n",
      "Fit finished.\n",
      "epoch:   0 loss:0.720164 auc:0.7616\n",
      "epoch:  20 loss:0.245054 auc:0.9694\n",
      "epoch:  40 loss:0.189106 auc:0.9768\n",
      "epoch:  60 loss:0.175658 auc:0.9783\n",
      "epoch:  80 loss:0.168308 auc:0.9792\n",
      "epoch: 100 loss:0.159886 auc:0.9792\n",
      "epoch: 120 loss:0.150619 auc:0.9789\n",
      "epoch: 140 loss:0.146638 auc:0.9759\n",
      "epoch: 160 loss:0.144416 auc:0.9721\n",
      "epoch: 180 loss:0.142075 auc:0.9700\n"
     ]
    },
    {
     "name": "stderr",
     "output_type": "stream",
     "text": [
      " 86%|████████▌ | 784/910 [6:48:34<20:09,  9.60s/it]"
     ]
    },
    {
     "name": "stdout",
     "output_type": "stream",
     "text": [
      "epoch: 200 loss:0.140479 auc:0.9625\n",
      "Fit finished.\n",
      "epoch:   0 loss:0.988703 auc:0.4211\n",
      "epoch:  20 loss:0.279360 auc:0.9945\n",
      "epoch:  40 loss:0.212226 auc:0.9945\n",
      "epoch:  60 loss:0.181450 auc:0.9945\n",
      "epoch:  80 loss:0.170169 auc:0.9918\n",
      "epoch: 100 loss:0.160661 auc:0.9918\n",
      "epoch: 120 loss:0.150931 auc:0.9904\n",
      "epoch: 140 loss:0.147581 auc:0.9904\n",
      "epoch: 160 loss:0.145557 auc:0.9904\n"
     ]
    },
    {
     "name": "stderr",
     "output_type": "stream",
     "text": [
      " 86%|████████▋ | 785/910 [6:48:41<17:58,  8.63s/it]"
     ]
    },
    {
     "name": "stdout",
     "output_type": "stream",
     "text": [
      "epoch: 180 loss:0.143912 auc:0.9877\n",
      "Fit finished.\n",
      "epoch:   0 loss:1.073050 auc:0.2432\n",
      "epoch:  20 loss:0.271487 auc:0.9536\n",
      "epoch:  40 loss:0.196278 auc:0.9824\n",
      "epoch:  60 loss:0.180087 auc:0.9936\n",
      "epoch:  80 loss:0.172349 auc:0.9936\n",
      "epoch: 100 loss:0.166208 auc:0.9936\n",
      "epoch: 120 loss:0.157658 auc:0.9936\n",
      "epoch: 140 loss:0.149387 auc:0.9936\n",
      "epoch: 160 loss:0.146561 auc:0.9936\n",
      "epoch: 180 loss:0.145425 auc:0.9936\n",
      "epoch: 200 loss:0.143209 auc:0.9936\n"
     ]
    },
    {
     "name": "stderr",
     "output_type": "stream",
     "text": [
      " 86%|████████▋ | 786/910 [6:48:52<19:16,  9.32s/it]"
     ]
    },
    {
     "name": "stdout",
     "output_type": "stream",
     "text": [
      "epoch: 220 loss:0.143820 auc:0.9920\n",
      "Fit finished.\n",
      "epoch:   0 loss:0.706685 auc:0.4717\n",
      "epoch:  20 loss:0.245318 auc:0.9917\n",
      "epoch:  40 loss:0.185430 auc:0.9935\n",
      "epoch:  60 loss:0.169686 auc:0.9929\n",
      "epoch:  80 loss:0.158001 auc:0.9935\n",
      "epoch: 100 loss:0.149858 auc:0.9935\n",
      "epoch: 120 loss:0.146794 auc:0.9935\n",
      "epoch: 140 loss:0.144853 auc:0.9935\n",
      "epoch: 160 loss:0.143792 auc:0.9929\n",
      "epoch: 180 loss:0.141550 auc:0.9929\n"
     ]
    },
    {
     "name": "stderr",
     "output_type": "stream",
     "text": [
      " 86%|████████▋ | 787/910 [6:49:00<18:36,  9.08s/it]"
     ]
    },
    {
     "name": "stdout",
     "output_type": "stream",
     "text": [
      "epoch: 200 loss:0.156427 auc:0.9453\n",
      "Fit finished.\n",
      "epoch:   0 loss:0.473517 auc:0.7336\n",
      "epoch:  20 loss:0.253247 auc:0.9204\n",
      "epoch:  40 loss:0.187676 auc:0.9412\n",
      "epoch:  60 loss:0.172736 auc:0.9550\n",
      "epoch:  80 loss:0.162822 auc:0.9654\n",
      "epoch: 100 loss:0.152143 auc:0.9654\n",
      "epoch: 120 loss:0.148059 auc:0.9654\n",
      "epoch: 140 loss:0.145421 auc:0.9654\n",
      "epoch: 160 loss:0.143124 auc:0.9654\n",
      "epoch: 180 loss:0.140854 auc:0.9654\n",
      "epoch: 200 loss:0.138473 auc:0.9654\n"
     ]
    },
    {
     "name": "stderr",
     "output_type": "stream",
     "text": [
      " 87%|████████▋ | 788/910 [6:49:07<17:02,  8.38s/it]"
     ]
    },
    {
     "name": "stdout",
     "output_type": "stream",
     "text": [
      "epoch: 220 loss:0.137797 auc:0.9412\n",
      "Fit finished.\n",
      "epoch:   0 loss:0.658207 auc:0.5025\n",
      "epoch:  20 loss:0.245460 auc:0.9625\n",
      "epoch:  40 loss:0.186909 auc:0.9850\n",
      "epoch:  60 loss:0.172797 auc:0.9850\n",
      "epoch:  80 loss:0.164851 auc:0.9875\n",
      "epoch: 100 loss:0.155208 auc:0.9875\n",
      "epoch: 120 loss:0.148723 auc:0.9875\n",
      "epoch: 140 loss:0.146225 auc:0.9875\n",
      "epoch: 160 loss:0.144143 auc:0.9875\n",
      "epoch: 180 loss:0.144166 auc:0.9875\n",
      "epoch: 200 loss:0.140484 auc:0.9875\n",
      "epoch: 220 loss:0.138404 auc:0.9850\n"
     ]
    },
    {
     "name": "stderr",
     "output_type": "stream",
     "text": [
      " 87%|████████▋ | 789/910 [6:49:14<16:13,  8.05s/it]"
     ]
    },
    {
     "name": "stdout",
     "output_type": "stream",
     "text": [
      "epoch: 240 loss:0.137565 auc:0.9800\n",
      "Fit finished.\n",
      "epoch:   0 loss:0.751849 auc:0.1731\n",
      "epoch:  20 loss:0.261653 auc:0.9423\n",
      "epoch:  40 loss:0.189054 auc:0.9482\n",
      "epoch:  60 loss:0.172395 auc:0.9497\n",
      "epoch:  80 loss:0.162199 auc:0.9482\n",
      "epoch: 100 loss:0.151142 auc:0.9497\n",
      "epoch: 120 loss:0.147328 auc:0.9482\n",
      "epoch: 140 loss:0.144941 auc:0.9482\n",
      "epoch: 160 loss:0.143769 auc:0.9497\n",
      "epoch: 180 loss:0.141472 auc:0.9512\n",
      "epoch: 200 loss:0.140637 auc:0.9497\n"
     ]
    },
    {
     "name": "stderr",
     "output_type": "stream",
     "text": [
      " 87%|████████▋ | 790/910 [6:49:23<16:13,  8.12s/it]"
     ]
    },
    {
     "name": "stdout",
     "output_type": "stream",
     "text": [
      "epoch: 220 loss:0.137833 auc:0.9364\n",
      "Fit finished.\n",
      "epoch:   0 loss:0.515287 auc:0.4780\n",
      "epoch:  20 loss:0.215614 auc:0.9744\n",
      "epoch:  40 loss:0.178172 auc:0.9730\n",
      "epoch:  60 loss:0.165363 auc:0.9744\n",
      "epoch:  80 loss:0.152027 auc:0.9744\n",
      "epoch: 100 loss:0.147094 auc:0.9737\n",
      "epoch: 120 loss:0.144423 auc:0.9744\n",
      "epoch: 140 loss:0.141757 auc:0.9632\n",
      "epoch: 160 loss:0.139563 auc:0.9264\n"
     ]
    },
    {
     "name": "stderr",
     "output_type": "stream",
     "text": [
      " 87%|████████▋ | 792/910 [6:49:30<11:49,  6.01s/it]"
     ]
    },
    {
     "name": "stdout",
     "output_type": "stream",
     "text": [
      "epoch: 180 loss:0.137887 auc:0.8560\n",
      "Fit finished.\n",
      "epoch:   0 loss:1.095343 auc:0.7400\n",
      "epoch:  20 loss:0.293026 auc:0.9625\n",
      "epoch:  40 loss:0.240445 auc:0.9800\n",
      "epoch:  60 loss:0.191557 auc:0.9925\n",
      "epoch:  80 loss:0.176273 auc:0.9925\n",
      "epoch: 100 loss:0.166474 auc:0.9925\n",
      "epoch: 120 loss:0.156502 auc:0.9925\n",
      "epoch: 140 loss:0.149494 auc:0.9925\n",
      "epoch: 160 loss:0.146940 auc:0.9925\n",
      "epoch: 180 loss:0.145207 auc:0.9925\n",
      "epoch: 200 loss:0.143941 auc:0.9925\n",
      "epoch: 220 loss:0.142616 auc:0.9925\n",
      "epoch: 240 loss:0.141620 auc:0.9925\n",
      "epoch: 260 loss:0.140278 auc:0.9925\n",
      "epoch: 280 loss:0.138936 auc:0.9925\n",
      "epoch: 300 loss:0.137548 auc:0.9925\n"
     ]
    },
    {
     "name": "stderr",
     "output_type": "stream",
     "text": [
      " 87%|████████▋ | 793/910 [6:49:44<15:33,  7.98s/it]"
     ]
    },
    {
     "name": "stdout",
     "output_type": "stream",
     "text": [
      "epoch: 320 loss:0.136500 auc:0.9900\n",
      "Fit finished.\n",
      "epoch:   0 loss:0.450748 auc:0.3747\n",
      "epoch:  20 loss:0.237662 auc:0.9812\n",
      "epoch:  40 loss:0.180311 auc:0.9796\n",
      "epoch:  60 loss:0.164870 auc:0.9812\n",
      "epoch:  80 loss:0.151202 auc:0.9829\n",
      "epoch: 100 loss:0.146629 auc:0.9837\n",
      "epoch: 120 loss:0.147881 auc:0.9722\n",
      "epoch: 140 loss:0.141120 auc:0.9682\n",
      "epoch: 160 loss:0.137978 auc:0.9551\n"
     ]
    },
    {
     "name": "stderr",
     "output_type": "stream",
     "text": [
      " 87%|████████▋ | 794/910 [6:49:51<15:07,  7.83s/it]"
     ]
    },
    {
     "name": "stdout",
     "output_type": "stream",
     "text": [
      "epoch: 180 loss:0.135812 auc:0.9257\n",
      "Fit finished.\n",
      "epoch:   0 loss:1.327655 auc:0.8367\n",
      "epoch:  20 loss:0.281181 auc:0.9311\n",
      "epoch:  40 loss:0.219686 auc:0.9605\n",
      "epoch:  60 loss:0.184468 auc:0.9668\n",
      "epoch:  80 loss:0.171012 auc:0.9668\n",
      "epoch: 100 loss:0.160984 auc:0.9668\n",
      "epoch: 120 loss:0.151407 auc:0.9668\n",
      "epoch: 140 loss:0.148114 auc:0.9668\n",
      "epoch: 160 loss:0.146063 auc:0.9668\n",
      "epoch: 180 loss:0.144498 auc:0.9668\n",
      "epoch: 200 loss:0.143721 auc:0.9681\n",
      "epoch: 220 loss:0.141965 auc:0.9719\n",
      "epoch: 240 loss:0.141571 auc:0.9783\n"
     ]
    },
    {
     "name": "stderr",
     "output_type": "stream",
     "text": [
      " 87%|████████▋ | 795/910 [6:49:59<15:20,  8.00s/it]"
     ]
    },
    {
     "name": "stdout",
     "output_type": "stream",
     "text": [
      "epoch: 260 loss:0.138775 auc:0.9643\n",
      "Fit finished.\n",
      "epoch:   0 loss:0.833442 auc:0.4167\n",
      "epoch:  20 loss:0.266646 auc:0.9740\n",
      "epoch:  40 loss:0.194148 auc:0.9931\n",
      "epoch:  60 loss:0.175797 auc:0.9913\n",
      "epoch:  80 loss:0.166551 auc:0.9878\n",
      "epoch: 100 loss:0.156976 auc:0.9878\n",
      "epoch: 120 loss:0.149402 auc:0.9878\n",
      "epoch: 140 loss:0.146479 auc:0.9878\n",
      "epoch: 160 loss:0.144295 auc:0.9878\n",
      "epoch: 180 loss:0.143627 auc:0.9878\n"
     ]
    },
    {
     "name": "stderr",
     "output_type": "stream",
     "text": [
      " 87%|████████▋ | 796/910 [6:50:07<15:01,  7.91s/it]"
     ]
    },
    {
     "name": "stdout",
     "output_type": "stream",
     "text": [
      "epoch: 200 loss:0.140805 auc:0.9878\n",
      "Fit finished.\n",
      "epoch:   0 loss:0.807772 auc:0.2569\n",
      "epoch:  20 loss:0.253245 auc:0.9931\n",
      "epoch:  40 loss:0.189764 auc:0.9861\n",
      "epoch:  60 loss:0.174463 auc:0.9861\n",
      "epoch:  80 loss:0.164920 auc:0.9861\n",
      "epoch: 100 loss:0.154001 auc:0.9792\n",
      "epoch: 120 loss:0.148536 auc:0.9722\n",
      "epoch: 140 loss:0.145772 auc:0.9792\n",
      "epoch: 160 loss:0.143889 auc:0.9861\n"
     ]
    },
    {
     "name": "stderr",
     "output_type": "stream",
     "text": [
      " 88%|████████▊ | 797/910 [6:50:15<14:38,  7.78s/it]"
     ]
    },
    {
     "name": "stdout",
     "output_type": "stream",
     "text": [
      "epoch: 180 loss:0.157737 auc:0.9861\n",
      "Fit finished.\n",
      "epoch:   0 loss:0.762574 auc:0.5833\n",
      "epoch:  20 loss:0.267222 auc:0.9028\n",
      "epoch:  40 loss:0.194110 auc:0.9583\n",
      "epoch:  60 loss:0.178380 auc:0.9722\n",
      "epoch:  80 loss:0.169705 auc:0.9722\n",
      "epoch: 100 loss:0.161727 auc:0.9722\n",
      "epoch: 120 loss:0.152451 auc:0.9722\n",
      "epoch: 140 loss:0.148524 auc:0.9722\n",
      "epoch: 160 loss:0.146415 auc:0.9722\n",
      "epoch: 180 loss:0.144928 auc:0.9722\n",
      "epoch: 200 loss:0.143352 auc:0.9722\n",
      "epoch: 220 loss:0.143097 auc:0.9722\n",
      "epoch: 240 loss:0.140323 auc:0.9722\n",
      "epoch: 260 loss:0.138422 auc:0.9722\n",
      "epoch: 280 loss:0.137599 auc:0.9861\n",
      "epoch: 300 loss:0.135071 auc:0.9861\n",
      "epoch: 320 loss:0.133342 auc:0.9861\n",
      "epoch: 340 loss:0.132825 auc:0.9861\n",
      "epoch: 360 loss:0.129900 auc:0.9861\n",
      "epoch: 380 loss:0.127999 auc:0.9861\n",
      "epoch: 400 loss:0.128712 auc:0.9861\n",
      "epoch: 420 loss:0.125982 auc:0.9861\n",
      "epoch: 440 loss:0.123601 auc:0.9861\n",
      "epoch: 460 loss:0.122255 auc:0.9861\n",
      "epoch: 480 loss:0.122886 auc:0.9861\n",
      "epoch: 500 loss:0.126172 auc:0.9861\n",
      "epoch: 520 loss:0.121121 auc:0.9861\n",
      "epoch: 540 loss:0.120337 auc:0.9861\n",
      "epoch: 560 loss:0.117401 auc:0.9861\n",
      "epoch: 580 loss:0.116381 auc:0.9861\n",
      "epoch: 600 loss:0.115530 auc:0.9861\n",
      "epoch: 620 loss:0.115605 auc:0.9861\n",
      "epoch: 640 loss:0.114548 auc:0.9861\n",
      "epoch: 660 loss:0.113952 auc:0.9861\n",
      "epoch: 680 loss:0.113583 auc:0.9861\n",
      "epoch: 700 loss:0.113453 auc:0.9861\n",
      "epoch: 720 loss:0.112089 auc:0.9861\n"
     ]
    },
    {
     "name": "stderr",
     "output_type": "stream",
     "text": [
      " 88%|████████▊ | 798/910 [6:50:47<27:59, 14.99s/it]"
     ]
    },
    {
     "name": "stdout",
     "output_type": "stream",
     "text": [
      "epoch: 740 loss:0.117477 auc:0.9792\n",
      "Fit finished.\n",
      "epoch:   0 loss:0.950694 auc:0.5235\n",
      "epoch:  20 loss:0.266261 auc:0.9751\n",
      "epoch:  40 loss:0.188063 auc:0.9751\n",
      "epoch:  60 loss:0.173963 auc:0.9723\n",
      "epoch:  80 loss:0.164495 auc:0.9751\n",
      "epoch: 100 loss:0.153330 auc:0.9751\n",
      "epoch: 120 loss:0.147516 auc:0.9751\n",
      "epoch: 140 loss:0.145573 auc:0.9751\n",
      "epoch: 160 loss:0.143624 auc:0.9751\n",
      "epoch: 180 loss:0.141983 auc:0.9751\n"
     ]
    },
    {
     "name": "stderr",
     "output_type": "stream",
     "text": [
      " 88%|████████▊ | 799/910 [6:50:53<22:35, 12.22s/it]"
     ]
    },
    {
     "name": "stdout",
     "output_type": "stream",
     "text": [
      "epoch: 200 loss:0.143426 auc:0.9723\n",
      "Fit finished.\n",
      "epoch:   0 loss:0.739047 auc:0.3350\n",
      "epoch:  20 loss:0.284122 auc:0.9450\n",
      "epoch:  40 loss:0.203238 auc:0.9625\n",
      "epoch:  60 loss:0.179159 auc:0.9600\n",
      "epoch:  80 loss:0.168114 auc:0.9550\n",
      "epoch: 100 loss:0.156292 auc:0.9550\n",
      "epoch: 120 loss:0.148531 auc:0.9550\n",
      "epoch: 140 loss:0.145714 auc:0.9525\n",
      "epoch: 160 loss:0.144030 auc:0.9625\n",
      "epoch: 180 loss:0.142403 auc:0.9650\n",
      "epoch: 200 loss:0.140888 auc:0.9750\n",
      "epoch: 220 loss:0.139512 auc:0.9850\n",
      "epoch: 240 loss:0.137586 auc:0.9900\n",
      "epoch: 260 loss:0.136204 auc:0.9725\n",
      "epoch: 280 loss:0.133956 auc:0.9675\n",
      "epoch: 300 loss:0.132638 auc:0.9875\n",
      "epoch: 320 loss:0.131619 auc:0.9650\n",
      "epoch: 340 loss:0.135057 auc:0.9925\n",
      "epoch: 360 loss:0.129422 auc:0.9775\n",
      "epoch: 380 loss:0.126330 auc:0.9900\n",
      "epoch: 400 loss:0.124077 auc:0.9900\n",
      "epoch: 420 loss:0.123452 auc:0.9925\n",
      "epoch: 440 loss:0.122653 auc:0.9950\n",
      "epoch: 460 loss:0.120679 auc:1.0000\n",
      "epoch: 480 loss:0.118674 auc:0.9900\n",
      "epoch: 500 loss:0.118517 auc:0.9950\n",
      "epoch: 520 loss:0.119276 auc:1.0000\n",
      "epoch: 540 loss:0.115490 auc:0.9950\n",
      "epoch: 560 loss:0.114407 auc:0.9975\n",
      "epoch: 580 loss:0.114754 auc:0.9975\n",
      "epoch: 600 loss:0.112378 auc:0.9975\n"
     ]
    },
    {
     "name": "stderr",
     "output_type": "stream",
     "text": [
      " 88%|████████▊ | 800/910 [6:51:10<24:56, 13.61s/it]"
     ]
    },
    {
     "name": "stdout",
     "output_type": "stream",
     "text": [
      "epoch: 620 loss:0.112177 auc:0.9975\n",
      "Fit finished.\n",
      "epoch:   0 loss:0.720081 auc:0.4835\n",
      "epoch:  20 loss:0.254804 auc:0.9814\n",
      "epoch:  40 loss:0.187994 auc:0.9917\n",
      "epoch:  60 loss:0.174500 auc:0.9876\n",
      "epoch:  80 loss:0.167820 auc:0.9876\n",
      "epoch: 100 loss:0.159303 auc:0.9876\n",
      "epoch: 120 loss:0.150431 auc:0.9876\n",
      "epoch: 140 loss:0.147232 auc:0.9876\n",
      "epoch: 160 loss:0.145147 auc:0.9876\n",
      "epoch: 180 loss:0.144270 auc:0.9917\n",
      "epoch: 200 loss:0.142188 auc:0.9917\n",
      "epoch: 220 loss:0.140247 auc:0.9917\n",
      "epoch: 240 loss:0.140626 auc:0.9917\n",
      "epoch: 260 loss:0.136898 auc:0.9897\n",
      "epoch: 280 loss:0.135170 auc:0.9876\n",
      "epoch: 300 loss:0.135546 auc:0.9876\n",
      "epoch: 320 loss:0.133356 auc:0.9897\n"
     ]
    },
    {
     "name": "stderr",
     "output_type": "stream",
     "text": [
      " 88%|████████▊ | 801/910 [6:51:21<23:23, 12.87s/it]"
     ]
    },
    {
     "name": "stdout",
     "output_type": "stream",
     "text": [
      "epoch: 340 loss:0.130826 auc:0.9835\n",
      "Fit finished.\n",
      "epoch:   0 loss:0.685466 auc:0.7305\n",
      "epoch:  20 loss:0.287377 auc:0.9961\n",
      "epoch:  40 loss:0.221282 auc:0.9980\n",
      "epoch:  60 loss:0.184003 auc:0.9990\n",
      "epoch:  80 loss:0.171670 auc:0.9990\n",
      "epoch: 100 loss:0.162065 auc:0.9990\n",
      "epoch: 120 loss:0.151869 auc:0.9990\n",
      "epoch: 140 loss:0.148180 auc:0.9990\n",
      "epoch: 160 loss:0.145636 auc:0.9990\n",
      "epoch: 180 loss:0.144538 auc:0.9990\n",
      "epoch: 200 loss:0.142317 auc:1.0000\n",
      "epoch: 220 loss:0.140720 auc:1.0000\n",
      "epoch: 240 loss:0.139860 auc:0.9990\n",
      "epoch: 260 loss:0.138200 auc:0.9990\n"
     ]
    },
    {
     "name": "stderr",
     "output_type": "stream",
     "text": [
      " 88%|████████▊ | 802/910 [6:51:29<20:44, 11.52s/it]"
     ]
    },
    {
     "name": "stdout",
     "output_type": "stream",
     "text": [
      "epoch: 280 loss:0.136505 auc:0.9854\n",
      "Fit finished.\n",
      "epoch:   0 loss:0.898615 auc:0.5268\n",
      "epoch:  20 loss:0.266511 auc:0.9287\n",
      "epoch:  40 loss:0.192060 auc:0.9318\n",
      "epoch:  60 loss:0.175164 auc:0.9350\n",
      "epoch:  80 loss:0.166248 auc:0.9367\n",
      "epoch: 100 loss:0.157801 auc:0.9370\n",
      "epoch: 120 loss:0.150121 auc:0.9372\n",
      "epoch: 140 loss:0.147296 auc:0.9378\n",
      "epoch: 160 loss:0.145495 auc:0.9378\n",
      "epoch: 180 loss:0.144029 auc:0.9367\n",
      "epoch: 200 loss:0.142734 auc:0.9336\n"
     ]
    },
    {
     "name": "stderr",
     "output_type": "stream",
     "text": [
      " 88%|████████▊ | 803/910 [6:51:35<17:43,  9.94s/it]"
     ]
    },
    {
     "name": "stdout",
     "output_type": "stream",
     "text": [
      "epoch: 220 loss:0.141390 auc:0.9258\n",
      "Fit finished.\n",
      "epoch:   0 loss:0.775336 auc:0.2207\n",
      "epoch:  20 loss:0.255060 auc:0.9486\n",
      "epoch:  40 loss:0.188300 auc:0.9496\n",
      "epoch:  60 loss:0.174393 auc:0.9511\n",
      "epoch:  80 loss:0.166698 auc:0.9551\n",
      "epoch: 100 loss:0.156945 auc:0.9565\n",
      "epoch: 120 loss:0.149139 auc:0.9560\n",
      "epoch: 140 loss:0.146168 auc:0.9560\n",
      "epoch: 160 loss:0.146452 auc:0.9501\n"
     ]
    },
    {
     "name": "stderr",
     "output_type": "stream",
     "text": [
      " 88%|████████▊ | 804/910 [6:51:40<14:35,  8.26s/it]"
     ]
    },
    {
     "name": "stdout",
     "output_type": "stream",
     "text": [
      "epoch: 180 loss:0.143562 auc:0.9343\n",
      "Fit finished.\n",
      "epoch:   0 loss:0.779132 auc:0.1665\n",
      "epoch:  20 loss:0.263695 auc:0.9563\n",
      "epoch:  40 loss:0.192119 auc:0.9542\n",
      "epoch:  60 loss:0.177929 auc:0.9542\n",
      "epoch:  80 loss:0.170589 auc:0.9553\n",
      "epoch: 100 loss:0.162282 auc:0.9553\n",
      "epoch: 120 loss:0.150574 auc:0.9542\n",
      "epoch: 140 loss:0.148330 auc:0.9573\n",
      "epoch: 160 loss:0.145324 auc:0.9594\n"
     ]
    },
    {
     "name": "stderr",
     "output_type": "stream",
     "text": [
      " 88%|████████▊ | 805/910 [6:51:44<12:31,  7.15s/it]"
     ]
    },
    {
     "name": "stdout",
     "output_type": "stream",
     "text": [
      "epoch: 180 loss:0.143530 auc:0.9542\n",
      "Fit finished.\n",
      "epoch:   0 loss:0.898699 auc:0.6434\n",
      "epoch:  20 loss:0.284038 auc:0.9619\n",
      "epoch:  40 loss:0.212171 auc:0.9591\n",
      "epoch:  60 loss:0.179342 auc:0.9557\n",
      "epoch:  80 loss:0.169513 auc:0.9550\n",
      "epoch: 100 loss:0.161550 auc:0.9543\n",
      "epoch: 120 loss:0.152119 auc:0.9543\n",
      "epoch: 140 loss:0.147641 auc:0.9529\n",
      "epoch: 160 loss:0.145424 auc:0.9543\n"
     ]
    },
    {
     "name": "stderr",
     "output_type": "stream",
     "text": [
      " 89%|████████▊ | 806/910 [6:51:49<11:06,  6.41s/it]"
     ]
    },
    {
     "name": "stdout",
     "output_type": "stream",
     "text": [
      "epoch: 180 loss:0.143831 auc:0.9557\n",
      "Fit finished.\n",
      "epoch:   0 loss:0.752474 auc:0.4602\n",
      "epoch:  20 loss:0.240908 auc:0.9400\n",
      "epoch:  40 loss:0.184629 auc:0.9354\n",
      "epoch:  60 loss:0.172694 auc:0.9437\n",
      "epoch:  80 loss:0.164444 auc:0.9469\n",
      "epoch: 100 loss:0.152802 auc:0.9494\n",
      "epoch: 120 loss:0.147526 auc:0.9523\n",
      "epoch: 140 loss:0.146392 auc:0.9520\n",
      "epoch: 160 loss:0.142883 auc:0.9477\n"
     ]
    },
    {
     "name": "stderr",
     "output_type": "stream",
     "text": [
      " 89%|████████▊ | 807/910 [6:51:54<10:32,  6.14s/it]"
     ]
    },
    {
     "name": "stdout",
     "output_type": "stream",
     "text": [
      "epoch: 180 loss:0.140571 auc:0.8977\n",
      "Fit finished.\n",
      "epoch:   0 loss:1.638812 auc:0.8788\n",
      "epoch:  20 loss:0.279563 auc:0.9262\n",
      "epoch:  40 loss:0.215784 auc:0.9308\n",
      "epoch:  60 loss:0.183666 auc:0.9316\n",
      "epoch:  80 loss:0.171231 auc:0.9351\n",
      "epoch: 100 loss:0.162200 auc:0.9359\n",
      "epoch: 120 loss:0.152014 auc:0.9362\n",
      "epoch: 140 loss:0.147848 auc:0.9377\n",
      "epoch: 160 loss:0.145545 auc:0.9400\n",
      "epoch: 180 loss:0.143682 auc:0.9411\n",
      "epoch: 200 loss:0.142059 auc:0.9316\n"
     ]
    },
    {
     "name": "stderr",
     "output_type": "stream",
     "text": [
      " 89%|████████▉ | 808/910 [6:52:02<10:59,  6.47s/it]"
     ]
    },
    {
     "name": "stdout",
     "output_type": "stream",
     "text": [
      "epoch: 220 loss:0.140798 auc:0.9290\n",
      "Fit finished.\n",
      "epoch:   0 loss:0.482310 auc:0.4533\n",
      "epoch:  20 loss:0.215966 auc:0.9559\n",
      "epoch:  40 loss:0.177765 auc:0.9567\n",
      "epoch:  60 loss:0.165411 auc:0.9619\n",
      "epoch:  80 loss:0.153588 auc:0.9645\n",
      "epoch: 100 loss:0.148032 auc:0.9654\n",
      "epoch: 120 loss:0.144667 auc:0.9663\n",
      "epoch: 140 loss:0.142003 auc:0.9455\n",
      "epoch: 160 loss:0.138819 auc:0.9282\n"
     ]
    },
    {
     "name": "stderr",
     "output_type": "stream",
     "text": [
      " 89%|████████▉ | 809/910 [6:52:07<10:28,  6.22s/it]"
     ]
    },
    {
     "name": "stdout",
     "output_type": "stream",
     "text": [
      "epoch: 180 loss:0.136260 auc:0.9152\n",
      "Fit finished.\n",
      "epoch:   0 loss:0.960124 auc:0.7431\n",
      "epoch:  20 loss:0.270719 auc:0.9310\n",
      "epoch:  40 loss:0.194806 auc:0.9332\n",
      "epoch:  60 loss:0.176250 auc:0.9408\n",
      "epoch:  80 loss:0.165712 auc:0.9420\n",
      "epoch: 100 loss:0.154876 auc:0.9408\n",
      "epoch: 120 loss:0.148922 auc:0.9413\n",
      "epoch: 140 loss:0.146204 auc:0.9444\n",
      "epoch: 160 loss:0.146917 auc:0.9337\n"
     ]
    },
    {
     "name": "stderr",
     "output_type": "stream",
     "text": [
      " 89%|████████▉ | 810/910 [6:52:52<29:21, 17.61s/it]"
     ]
    },
    {
     "name": "stdout",
     "output_type": "stream",
     "text": [
      "epoch: 180 loss:0.143826 auc:0.9273\n",
      "Fit finished.\n",
      "epoch:   0 loss:0.784669 auc:0.3827\n",
      "epoch:  20 loss:0.256006 auc:0.9316\n",
      "epoch:  40 loss:0.189877 auc:0.9325\n",
      "epoch:  60 loss:0.176511 auc:0.9358\n",
      "epoch:  80 loss:0.168806 auc:0.9345\n",
      "epoch: 100 loss:0.160360 auc:0.9350\n",
      "epoch: 120 loss:0.150640 auc:0.9347\n",
      "epoch: 140 loss:0.146986 auc:0.9356\n",
      "epoch: 160 loss:0.144874 auc:0.9278\n"
     ]
    },
    {
     "name": "stderr",
     "output_type": "stream",
     "text": [
      " 89%|████████▉ | 811/910 [6:52:56<22:37, 13.71s/it]"
     ]
    },
    {
     "name": "stdout",
     "output_type": "stream",
     "text": [
      "epoch: 180 loss:0.143276 auc:0.9211\n",
      "Fit finished.\n",
      "epoch:   0 loss:0.487405 auc:0.4598\n",
      "epoch:  20 loss:0.239174 auc:0.9337\n",
      "epoch:  40 loss:0.185624 auc:0.9422\n",
      "epoch:  60 loss:0.170206 auc:0.9450\n",
      "epoch:  80 loss:0.160155 auc:0.9461\n",
      "epoch: 100 loss:0.150809 auc:0.9456\n",
      "epoch: 120 loss:0.147378 auc:0.9467\n",
      "epoch: 140 loss:0.145095 auc:0.9456\n",
      "epoch: 160 loss:0.143185 auc:0.9450\n"
     ]
    },
    {
     "name": "stderr",
     "output_type": "stream",
     "text": [
      " 89%|████████▉ | 812/910 [6:53:02<18:37, 11.40s/it]"
     ]
    },
    {
     "name": "stdout",
     "output_type": "stream",
     "text": [
      "epoch: 180 loss:0.141658 auc:0.9308\n",
      "Fit finished.\n",
      "epoch:   0 loss:0.712375 auc:0.5207\n",
      "epoch:  20 loss:0.279680 auc:0.9586\n",
      "epoch:  40 loss:0.201651 auc:0.9763\n",
      "epoch:  60 loss:0.179524 auc:0.9763\n",
      "epoch:  80 loss:0.170910 auc:0.9763\n",
      "epoch: 100 loss:0.163448 auc:0.9763\n",
      "epoch: 120 loss:0.153756 auc:0.9763\n",
      "epoch: 140 loss:0.148359 auc:0.9763\n",
      "epoch: 160 loss:0.146029 auc:0.9763\n",
      "epoch: 180 loss:0.144200 auc:0.9763\n",
      "epoch: 200 loss:0.142560 auc:0.9822\n",
      "epoch: 220 loss:0.140690 auc:0.9822\n",
      "epoch: 240 loss:0.150169 auc:1.0000\n",
      "epoch: 260 loss:0.139231 auc:1.0000\n",
      "epoch: 280 loss:0.136181 auc:1.0000\n",
      "epoch: 300 loss:0.134705 auc:1.0000\n",
      "epoch: 320 loss:0.133330 auc:1.0000\n",
      "epoch: 340 loss:0.137023 auc:0.9941\n",
      "epoch: 360 loss:0.131600 auc:1.0000\n",
      "epoch: 380 loss:0.129265 auc:1.0000\n"
     ]
    },
    {
     "name": "stderr",
     "output_type": "stream",
     "text": [
      " 89%|████████▉ | 813/910 [6:53:13<18:21, 11.36s/it]"
     ]
    },
    {
     "name": "stdout",
     "output_type": "stream",
     "text": [
      "epoch: 400 loss:0.130504 auc:0.9882\n",
      "Fit finished.\n",
      "epoch:   0 loss:0.702888 auc:0.2531\n",
      "epoch:  20 loss:0.232223 auc:0.9969\n",
      "epoch:  40 loss:0.182695 auc:1.0000\n",
      "epoch:  60 loss:0.171802 auc:1.0000\n",
      "epoch:  80 loss:0.164634 auc:1.0000\n",
      "epoch: 100 loss:0.155529 auc:1.0000\n",
      "epoch: 120 loss:0.149014 auc:1.0000\n",
      "epoch: 140 loss:0.146477 auc:1.0000\n",
      "epoch: 160 loss:0.144412 auc:1.0000\n",
      "epoch: 180 loss:0.142216 auc:1.0000\n",
      "epoch: 200 loss:0.140277 auc:1.0000\n",
      "epoch: 220 loss:0.138197 auc:1.0000\n",
      "epoch: 240 loss:0.138289 auc:1.0000\n",
      "epoch: 260 loss:0.135380 auc:1.0000\n",
      "epoch: 280 loss:0.134197 auc:1.0000\n"
     ]
    },
    {
     "name": "stderr",
     "output_type": "stream",
     "text": [
      " 89%|████████▉ | 814/910 [6:53:22<16:37, 10.39s/it]"
     ]
    },
    {
     "name": "stdout",
     "output_type": "stream",
     "text": [
      "epoch: 300 loss:0.133346 auc:0.9969\n",
      "Fit finished.\n",
      "epoch:   0 loss:0.982422 auc:0.8399\n",
      "epoch:  20 loss:0.284022 auc:0.9449\n",
      "epoch:  40 loss:0.217789 auc:0.9460\n",
      "epoch:  60 loss:0.183505 auc:0.9464\n",
      "epoch:  80 loss:0.173510 auc:0.9497\n",
      "epoch: 100 loss:0.167007 auc:0.9512\n",
      "epoch: 120 loss:0.158906 auc:0.9490\n",
      "epoch: 140 loss:0.149597 auc:0.9482\n",
      "epoch: 160 loss:0.146480 auc:0.9501\n"
     ]
    },
    {
     "name": "stderr",
     "output_type": "stream",
     "text": [
      " 90%|████████▉ | 815/910 [6:53:27<14:10,  8.95s/it]"
     ]
    },
    {
     "name": "stdout",
     "output_type": "stream",
     "text": [
      "epoch: 180 loss:0.146073 auc:0.9442\n",
      "Fit finished.\n",
      "epoch:   0 loss:0.599049 auc:0.4529\n",
      "epoch:  20 loss:0.248180 auc:0.9215\n",
      "epoch:  40 loss:0.184484 auc:0.9226\n",
      "epoch:  60 loss:0.170344 auc:0.9270\n",
      "epoch:  80 loss:0.161275 auc:0.9279\n",
      "epoch: 100 loss:0.151620 auc:0.9258\n",
      "epoch: 120 loss:0.147679 auc:0.9206\n",
      "epoch: 140 loss:0.145468 auc:0.9226\n",
      "epoch: 160 loss:0.143570 auc:0.9206\n"
     ]
    },
    {
     "name": "stderr",
     "output_type": "stream",
     "text": [
      " 90%|████████▉ | 816/910 [6:53:32<12:12,  7.80s/it]"
     ]
    },
    {
     "name": "stdout",
     "output_type": "stream",
     "text": [
      "epoch: 180 loss:0.142165 auc:0.8955\n",
      "Fit finished.\n",
      "epoch:   0 loss:1.015951 auc:0.2840\n",
      "epoch:  20 loss:0.254861 auc:0.9802\n",
      "epoch:  40 loss:0.188538 auc:0.9813\n",
      "epoch:  60 loss:0.173377 auc:0.9785\n",
      "epoch:  80 loss:0.161758 auc:0.9790\n",
      "epoch: 100 loss:0.150847 auc:0.9790\n",
      "epoch: 120 loss:0.147208 auc:0.9790\n",
      "epoch: 140 loss:0.145537 auc:0.9773\n",
      "epoch: 160 loss:0.144059 auc:0.9717\n"
     ]
    },
    {
     "name": "stderr",
     "output_type": "stream",
     "text": [
      " 90%|████████▉ | 817/910 [6:53:38<11:21,  7.33s/it]"
     ]
    },
    {
     "name": "stdout",
     "output_type": "stream",
     "text": [
      "epoch: 180 loss:0.141545 auc:0.9303\n",
      "Fit finished.\n",
      "epoch:   0 loss:0.778529 auc:0.0787\n",
      "epoch:  20 loss:0.203630 auc:0.9592\n",
      "epoch:  40 loss:0.175962 auc:0.9608\n",
      "epoch:  60 loss:0.165494 auc:0.9624\n",
      "epoch:  80 loss:0.152505 auc:0.9592\n",
      "epoch: 100 loss:0.147597 auc:0.9549\n",
      "epoch: 120 loss:0.144617 auc:0.9468\n",
      "epoch: 140 loss:0.145349 auc:0.9309\n",
      "epoch: 160 loss:0.140104 auc:0.8584\n"
     ]
    },
    {
     "name": "stderr",
     "output_type": "stream",
     "text": [
      " 90%|████████▉ | 818/910 [6:53:43<10:04,  6.57s/it]"
     ]
    },
    {
     "name": "stdout",
     "output_type": "stream",
     "text": [
      "epoch: 180 loss:0.137126 auc:0.7466\n",
      "Fit finished.\n",
      "epoch:   0 loss:0.619025 auc:0.0754\n",
      "epoch:  20 loss:0.224997 auc:0.9897\n",
      "epoch:  40 loss:0.181048 auc:0.9907\n",
      "epoch:  60 loss:0.169830 auc:0.9902\n",
      "epoch:  80 loss:0.159448 auc:0.9902\n",
      "epoch: 100 loss:0.149718 auc:0.9892\n",
      "epoch: 120 loss:0.146033 auc:0.9897\n",
      "epoch: 140 loss:0.143670 auc:0.9866\n",
      "epoch: 160 loss:0.140902 auc:0.9752\n"
     ]
    },
    {
     "name": "stderr",
     "output_type": "stream",
     "text": [
      " 90%|█████████ | 819/910 [6:53:48<09:18,  6.14s/it]"
     ]
    },
    {
     "name": "stdout",
     "output_type": "stream",
     "text": [
      "epoch: 180 loss:0.139296 auc:0.8905\n",
      "Fit finished.\n",
      "epoch:   0 loss:0.469173 auc:0.3590\n",
      "epoch:  20 loss:0.243817 auc:0.9709\n",
      "epoch:  40 loss:0.185280 auc:0.9709\n",
      "epoch:  60 loss:0.168921 auc:0.9677\n",
      "epoch:  80 loss:0.157010 auc:0.9688\n",
      "epoch: 100 loss:0.149417 auc:0.9667\n",
      "epoch: 120 loss:0.146090 auc:0.9657\n",
      "epoch: 140 loss:0.145699 auc:0.9646\n",
      "epoch: 160 loss:0.142251 auc:0.9636\n"
     ]
    },
    {
     "name": "stderr",
     "output_type": "stream",
     "text": [
      " 90%|█████████ | 820/910 [6:53:54<08:48,  5.87s/it]"
     ]
    },
    {
     "name": "stdout",
     "output_type": "stream",
     "text": [
      "epoch: 180 loss:0.139727 auc:0.9532\n",
      "Fit finished.\n",
      "epoch:   0 loss:0.875825 auc:0.6982\n",
      "epoch:  20 loss:0.275845 auc:0.9645\n",
      "epoch:  40 loss:0.201229 auc:0.9704\n",
      "epoch:  60 loss:0.180757 auc:0.9704\n",
      "epoch:  80 loss:0.171915 auc:0.9586\n",
      "epoch: 100 loss:0.165299 auc:0.9586\n",
      "epoch: 120 loss:0.156462 auc:0.9586\n",
      "epoch: 140 loss:0.149435 auc:0.9586\n",
      "epoch: 160 loss:0.146791 auc:0.9586\n",
      "epoch: 180 loss:0.144801 auc:0.9645\n"
     ]
    },
    {
     "name": "stderr",
     "output_type": "stream",
     "text": [
      " 90%|█████████ | 821/910 [6:54:00<08:49,  5.95s/it]"
     ]
    },
    {
     "name": "stdout",
     "output_type": "stream",
     "text": [
      "epoch: 200 loss:0.145575 auc:0.9645\n",
      "Fit finished.\n",
      "epoch:   0 loss:0.646894 auc:0.5679\n",
      "epoch:  20 loss:0.246630 auc:1.0000\n",
      "epoch:  40 loss:0.187177 auc:1.0000\n",
      "epoch:  60 loss:0.172222 auc:0.9972\n",
      "epoch:  80 loss:0.162399 auc:0.9972\n",
      "epoch: 100 loss:0.150999 auc:0.9972\n",
      "epoch: 120 loss:0.146988 auc:0.9972\n",
      "epoch: 140 loss:0.144100 auc:0.9972\n",
      "epoch: 160 loss:0.142536 auc:1.0000\n",
      "epoch: 180 loss:0.139214 auc:1.0000\n",
      "epoch: 200 loss:0.136641 auc:1.0000\n",
      "epoch: 220 loss:0.134913 auc:1.0000\n",
      "epoch: 240 loss:0.136212 auc:1.0000\n",
      "epoch: 260 loss:0.140787 auc:0.9972\n",
      "epoch: 280 loss:0.132207 auc:1.0000\n",
      "epoch: 300 loss:0.128875 auc:1.0000\n",
      "epoch: 320 loss:0.130926 auc:1.0000\n",
      "epoch: 340 loss:0.129910 auc:1.0000\n",
      "epoch: 360 loss:0.126018 auc:1.0000\n",
      "epoch: 380 loss:0.122689 auc:1.0000\n",
      "epoch: 400 loss:0.120915 auc:1.0000\n",
      "epoch: 420 loss:0.120738 auc:1.0000\n",
      "epoch: 440 loss:0.118734 auc:1.0000\n",
      "epoch: 460 loss:0.117248 auc:1.0000\n",
      "epoch: 480 loss:0.117283 auc:1.0000\n",
      "epoch: 500 loss:0.115205 auc:1.0000\n",
      "epoch: 520 loss:0.117648 auc:1.0000\n",
      "epoch: 540 loss:0.113868 auc:1.0000\n",
      "epoch: 560 loss:0.112889 auc:1.0000\n",
      "epoch: 580 loss:0.112051 auc:1.0000\n",
      "epoch: 600 loss:0.114645 auc:1.0000\n",
      "epoch: 620 loss:0.113641 auc:1.0000\n",
      "epoch: 640 loss:0.110910 auc:1.0000\n",
      "epoch: 660 loss:0.109953 auc:1.0000\n",
      "epoch: 680 loss:0.109379 auc:1.0000\n",
      "epoch: 700 loss:0.109299 auc:1.0000\n"
     ]
    },
    {
     "name": "stderr",
     "output_type": "stream",
     "text": [
      " 90%|█████████ | 822/910 [6:54:21<15:34, 10.62s/it]"
     ]
    },
    {
     "name": "stdout",
     "output_type": "stream",
     "text": [
      "epoch: 720 loss:0.108763 auc:0.9972\n",
      "Fit finished.\n",
      "epoch:   0 loss:1.130878 auc:0.7404\n",
      "epoch:  20 loss:0.281521 auc:0.9376\n",
      "epoch:  40 loss:0.213756 auc:0.9416\n",
      "epoch:  60 loss:0.182158 auc:0.9416\n",
      "epoch:  80 loss:0.171212 auc:0.9422\n",
      "epoch: 100 loss:0.162926 auc:0.9410\n",
      "epoch: 120 loss:0.152925 auc:0.9393\n",
      "epoch: 140 loss:0.147997 auc:0.9382\n",
      "epoch: 160 loss:0.145751 auc:0.9376\n",
      "epoch: 180 loss:0.144135 auc:0.9399\n"
     ]
    },
    {
     "name": "stderr",
     "output_type": "stream",
     "text": [
      " 90%|█████████ | 823/910 [6:54:27<13:13,  9.12s/it]"
     ]
    },
    {
     "name": "stdout",
     "output_type": "stream",
     "text": [
      "epoch: 200 loss:0.142813 auc:0.9274\n",
      "Fit finished.\n",
      "epoch:   0 loss:0.764955 auc:0.3111\n",
      "epoch:  20 loss:0.271482 auc:0.9867\n",
      "epoch:  40 loss:0.193937 auc:0.9822\n",
      "epoch:  60 loss:0.173160 auc:0.9822\n",
      "epoch:  80 loss:0.160840 auc:0.9778\n",
      "epoch: 100 loss:0.150089 auc:0.9778\n",
      "epoch: 120 loss:0.146685 auc:0.9778\n",
      "epoch: 140 loss:0.145353 auc:0.9822\n",
      "epoch: 160 loss:0.143298 auc:0.9822\n",
      "epoch: 180 loss:0.142194 auc:0.9911\n",
      "epoch: 200 loss:0.140089 auc:0.9911\n",
      "epoch: 220 loss:0.140531 auc:0.9822\n",
      "epoch: 240 loss:0.137231 auc:0.9867\n"
     ]
    },
    {
     "name": "stderr",
     "output_type": "stream",
     "text": [
      " 91%|█████████ | 824/910 [6:54:35<12:32,  8.75s/it]"
     ]
    },
    {
     "name": "stdout",
     "output_type": "stream",
     "text": [
      "epoch: 260 loss:0.135435 auc:0.9733\n",
      "Fit finished.\n",
      "epoch:   0 loss:0.798783 auc:0.3822\n",
      "epoch:  20 loss:0.284691 auc:0.9442\n",
      "epoch:  40 loss:0.220818 auc:0.9545\n",
      "epoch:  60 loss:0.186641 auc:0.9525\n",
      "epoch:  80 loss:0.173196 auc:0.9545\n",
      "epoch: 100 loss:0.164983 auc:0.9566\n",
      "epoch: 120 loss:0.154905 auc:0.9566\n",
      "epoch: 140 loss:0.148731 auc:0.9566\n",
      "epoch: 160 loss:0.146277 auc:0.9566\n",
      "epoch: 180 loss:0.144536 auc:0.9566\n",
      "epoch: 200 loss:0.144127 auc:0.9587\n",
      "epoch: 220 loss:0.141790 auc:0.9669\n",
      "epoch: 240 loss:0.141209 auc:0.9773\n",
      "epoch: 260 loss:0.138206 auc:0.9814\n",
      "epoch: 280 loss:0.137223 auc:0.9938\n",
      "epoch: 300 loss:0.135666 auc:0.9938\n",
      "epoch: 320 loss:0.134546 auc:0.9959\n",
      "epoch: 340 loss:0.133672 auc:0.9979\n",
      "epoch: 360 loss:0.132885 auc:0.9938\n",
      "epoch: 380 loss:0.133020 auc:0.9959\n",
      "epoch: 400 loss:0.133158 auc:0.9835\n",
      "epoch: 420 loss:0.130274 auc:0.9938\n"
     ]
    },
    {
     "name": "stderr",
     "output_type": "stream",
     "text": [
      " 91%|█████████ | 825/910 [6:54:47<13:59,  9.88s/it]"
     ]
    },
    {
     "name": "stdout",
     "output_type": "stream",
     "text": [
      "epoch: 440 loss:0.129705 auc:0.9855\n",
      "Fit finished.\n",
      "epoch:   0 loss:0.938288 auc:0.5617\n",
      "epoch:  20 loss:0.297764 auc:1.0000\n",
      "epoch:  40 loss:0.240546 auc:1.0000\n",
      "epoch:  60 loss:0.190087 auc:1.0000\n",
      "epoch:  80 loss:0.175332 auc:1.0000\n",
      "epoch: 100 loss:0.165598 auc:1.0000\n",
      "epoch: 120 loss:0.154793 auc:1.0000\n",
      "epoch: 140 loss:0.149028 auc:1.0000\n",
      "epoch: 160 loss:0.146571 auc:1.0000\n",
      "epoch: 180 loss:0.145146 auc:1.0000\n",
      "epoch: 200 loss:0.143632 auc:1.0000\n",
      "epoch: 220 loss:0.142434 auc:1.0000\n",
      "epoch: 240 loss:0.143163 auc:1.0000\n",
      "epoch: 260 loss:0.140202 auc:1.0000\n",
      "epoch: 280 loss:0.139198 auc:1.0000\n",
      "epoch: 300 loss:0.136486 auc:1.0000\n",
      "epoch: 320 loss:0.135752 auc:1.0000\n",
      "epoch: 340 loss:0.133577 auc:1.0000\n",
      "epoch: 360 loss:0.132808 auc:1.0000\n",
      "epoch: 380 loss:0.130408 auc:1.0000\n",
      "epoch: 400 loss:0.130471 auc:1.0000\n",
      "epoch: 420 loss:0.127966 auc:1.0000\n",
      "epoch: 440 loss:0.128426 auc:1.0000\n",
      "epoch: 460 loss:0.125771 auc:1.0000\n",
      "epoch: 480 loss:0.124817 auc:1.0000\n",
      "epoch: 500 loss:0.125228 auc:1.0000\n",
      "epoch: 520 loss:0.123602 auc:1.0000\n",
      "epoch: 540 loss:0.122529 auc:1.0000\n",
      "epoch: 560 loss:0.121584 auc:1.0000\n",
      "epoch: 580 loss:0.129313 auc:1.0000\n",
      "epoch: 600 loss:0.124676 auc:1.0000\n",
      "epoch: 620 loss:0.119228 auc:1.0000\n",
      "epoch: 640 loss:0.117750 auc:1.0000\n",
      "epoch: 660 loss:0.116515 auc:1.0000\n",
      "epoch: 680 loss:0.115571 auc:1.0000\n",
      "epoch: 700 loss:0.116127 auc:1.0000\n",
      "epoch: 720 loss:0.117525 auc:1.0000\n",
      "epoch: 740 loss:0.114630 auc:1.0000\n",
      "epoch: 760 loss:0.113666 auc:1.0000\n",
      "epoch: 780 loss:0.112364 auc:1.0000\n",
      "epoch: 800 loss:0.112590 auc:1.0000\n",
      "epoch: 820 loss:0.111249 auc:1.0000\n",
      "epoch: 840 loss:0.110696 auc:1.0000\n",
      "epoch: 860 loss:0.110219 auc:1.0000\n",
      "epoch: 880 loss:0.109730 auc:1.0000\n",
      "epoch: 900 loss:0.109490 auc:1.0000\n",
      "epoch: 920 loss:0.109578 auc:1.0000\n",
      "epoch: 940 loss:0.109353 auc:1.0000\n",
      "epoch: 960 loss:0.108591 auc:1.0000\n",
      "epoch: 980 loss:0.108472 auc:1.0000\n"
     ]
    },
    {
     "name": "stderr",
     "output_type": "stream",
     "text": [
      " 91%|█████████ | 826/910 [6:55:15<21:21, 15.25s/it]"
     ]
    },
    {
     "name": "stdout",
     "output_type": "stream",
     "text": [
      "Fit finished.\n",
      "epoch:   0 loss:0.605356 auc:0.4490\n",
      "epoch:  20 loss:0.268599 auc:0.9694\n",
      "epoch:  40 loss:0.189719 auc:0.9694\n",
      "epoch:  60 loss:0.175871 auc:0.9643\n",
      "epoch:  80 loss:0.166462 auc:0.9592\n",
      "epoch: 100 loss:0.156972 auc:0.9592\n",
      "epoch: 120 loss:0.149427 auc:0.9592\n",
      "epoch: 140 loss:0.146734 auc:0.9592\n",
      "epoch: 160 loss:0.144851 auc:0.9592\n"
     ]
    },
    {
     "name": "stderr",
     "output_type": "stream",
     "text": [
      " 91%|█████████ | 827/910 [6:55:59<33:04, 23.91s/it]"
     ]
    },
    {
     "name": "stdout",
     "output_type": "stream",
     "text": [
      "epoch: 180 loss:0.143261 auc:0.9592\n",
      "Fit finished.\n",
      "epoch:   0 loss:0.650530 auc:0.6054\n",
      "epoch:  20 loss:0.276096 auc:0.9855\n",
      "epoch:  40 loss:0.196495 auc:0.9917\n",
      "epoch:  60 loss:0.179064 auc:0.9917\n",
      "epoch:  80 loss:0.170886 auc:0.9938\n",
      "epoch: 100 loss:0.162841 auc:0.9938\n",
      "epoch: 120 loss:0.151471 auc:0.9917\n",
      "epoch: 140 loss:0.147174 auc:0.9938\n",
      "epoch: 160 loss:0.144869 auc:0.9938\n",
      "epoch: 180 loss:0.146840 auc:0.9959\n",
      "epoch: 200 loss:0.141257 auc:0.9938\n",
      "epoch: 220 loss:0.142925 auc:0.9917\n"
     ]
    },
    {
     "name": "stderr",
     "output_type": "stream",
     "text": [
      " 91%|█████████ | 828/910 [6:56:06<25:47, 18.88s/it]"
     ]
    },
    {
     "name": "stdout",
     "output_type": "stream",
     "text": [
      "epoch: 240 loss:0.138019 auc:0.9917\n",
      "Fit finished.\n",
      "epoch:   0 loss:1.603850 auc:0.4009\n",
      "epoch:  20 loss:0.302955 auc:1.0000\n",
      "epoch:  40 loss:0.250812 auc:1.0000\n",
      "epoch:  60 loss:0.194224 auc:1.0000\n",
      "epoch:  80 loss:0.178378 auc:1.0000\n",
      "epoch: 100 loss:0.169731 auc:0.9985\n",
      "epoch: 120 loss:0.162119 auc:0.9985\n",
      "epoch: 140 loss:0.152992 auc:0.9985\n",
      "epoch: 160 loss:0.148142 auc:0.9985\n"
     ]
    },
    {
     "name": "stderr",
     "output_type": "stream",
     "text": [
      " 91%|█████████ | 829/910 [6:56:10<19:27, 14.41s/it]"
     ]
    },
    {
     "name": "stdout",
     "output_type": "stream",
     "text": [
      "epoch: 180 loss:0.145887 auc:0.9985\n",
      "Fit finished.\n",
      "epoch:   0 loss:0.631205 auc:0.2889\n",
      "epoch:  20 loss:0.271315 auc:0.9911\n",
      "epoch:  40 loss:0.194338 auc:1.0000\n",
      "epoch:  60 loss:0.177924 auc:1.0000\n",
      "epoch:  80 loss:0.168820 auc:1.0000\n",
      "epoch: 100 loss:0.159642 auc:1.0000\n",
      "epoch: 120 loss:0.149885 auc:1.0000\n",
      "epoch: 140 loss:0.146713 auc:1.0000\n",
      "epoch: 160 loss:0.145517 auc:1.0000\n",
      "epoch: 180 loss:0.142991 auc:1.0000\n"
     ]
    },
    {
     "name": "stderr",
     "output_type": "stream",
     "text": [
      " 91%|█████████ | 830/910 [6:56:14<15:03, 11.30s/it]"
     ]
    },
    {
     "name": "stdout",
     "output_type": "stream",
     "text": [
      "epoch: 200 loss:0.140635 auc:0.9911\n",
      "Fit finished.\n",
      "epoch:   0 loss:0.810300 auc:0.3759\n",
      "epoch:  20 loss:0.275364 auc:0.9654\n",
      "epoch:  40 loss:0.199708 auc:0.9615\n",
      "epoch:  60 loss:0.177498 auc:0.9558\n",
      "epoch:  80 loss:0.167481 auc:0.9524\n",
      "epoch: 100 loss:0.156548 auc:0.9535\n",
      "epoch: 120 loss:0.148542 auc:0.9535\n",
      "epoch: 140 loss:0.146120 auc:0.9518\n",
      "epoch: 160 loss:0.143677 auc:0.9473\n"
     ]
    },
    {
     "name": "stderr",
     "output_type": "stream",
     "text": [
      " 91%|█████████▏| 831/910 [6:56:18<11:41,  8.88s/it]"
     ]
    },
    {
     "name": "stdout",
     "output_type": "stream",
     "text": [
      "epoch: 180 loss:0.142736 auc:0.9478\n",
      "Fit finished.\n",
      "epoch:   0 loss:0.680703 auc:0.3170\n",
      "epoch:  20 loss:0.252593 auc:0.9817\n",
      "epoch:  40 loss:0.189879 auc:0.9825\n",
      "epoch:  60 loss:0.173883 auc:0.9832\n",
      "epoch:  80 loss:0.164861 auc:0.9839\n",
      "epoch: 100 loss:0.154671 auc:0.9839\n",
      "epoch: 120 loss:0.148456 auc:0.9847\n",
      "epoch: 140 loss:0.146071 auc:0.9839\n",
      "epoch: 160 loss:0.143747 auc:0.9861\n",
      "epoch: 180 loss:0.142037 auc:0.9861\n",
      "epoch: 200 loss:0.140075 auc:0.9898\n",
      "epoch: 220 loss:0.137981 auc:0.9927\n",
      "epoch: 240 loss:0.137841 auc:0.9927\n",
      "epoch: 260 loss:0.135834 auc:0.9956\n",
      "epoch: 280 loss:0.133891 auc:0.9949\n",
      "epoch: 300 loss:0.132196 auc:0.9942\n",
      "epoch: 320 loss:0.133196 auc:0.9963\n",
      "epoch: 340 loss:0.129727 auc:0.9971\n",
      "epoch: 360 loss:0.127550 auc:0.9978\n"
     ]
    },
    {
     "name": "stderr",
     "output_type": "stream",
     "text": [
      " 91%|█████████▏| 832/910 [6:56:24<10:46,  8.29s/it]"
     ]
    },
    {
     "name": "stdout",
     "output_type": "stream",
     "text": [
      "epoch: 380 loss:0.127158 auc:0.9898\n",
      "Fit finished.\n",
      "epoch:   0 loss:0.783255 auc:0.1746\n",
      "epoch:  20 loss:0.253751 auc:0.9433\n",
      "epoch:  40 loss:0.187810 auc:0.9478\n",
      "epoch:  60 loss:0.174327 auc:0.9501\n",
      "epoch:  80 loss:0.166979 auc:0.9524\n",
      "epoch: 100 loss:0.157853 auc:0.9524\n",
      "epoch: 120 loss:0.149856 auc:0.9501\n",
      "epoch: 140 loss:0.146961 auc:0.9501\n",
      "epoch: 160 loss:0.144871 auc:0.9524\n",
      "epoch: 180 loss:0.142868 auc:0.9524\n",
      "epoch: 200 loss:0.143084 auc:0.9478\n"
     ]
    },
    {
     "name": "stderr",
     "output_type": "stream",
     "text": [
      " 92%|█████████▏| 833/910 [6:56:28<08:56,  6.97s/it]"
     ]
    },
    {
     "name": "stdout",
     "output_type": "stream",
     "text": [
      "epoch: 220 loss:0.140327 auc:0.9433\n",
      "Fit finished.\n",
      "epoch:   0 loss:1.056404 auc:0.7156\n",
      "epoch:  20 loss:0.287470 auc:0.9867\n",
      "epoch:  40 loss:0.225853 auc:0.9956\n",
      "epoch:  60 loss:0.187559 auc:0.9956\n",
      "epoch:  80 loss:0.174260 auc:0.9956\n",
      "epoch: 100 loss:0.165062 auc:0.9956\n",
      "epoch: 120 loss:0.154489 auc:0.9956\n",
      "epoch: 140 loss:0.148733 auc:0.9956\n",
      "epoch: 160 loss:0.146384 auc:0.9956\n",
      "epoch: 180 loss:0.145141 auc:0.9956\n",
      "epoch: 200 loss:0.143464 auc:0.9956\n",
      "epoch: 220 loss:0.142626 auc:0.9956\n",
      "epoch: 240 loss:0.140686 auc:0.9956\n",
      "epoch: 260 loss:0.139242 auc:0.9956\n",
      "epoch: 280 loss:0.137947 auc:0.9956\n",
      "epoch: 300 loss:0.137206 auc:1.0000\n",
      "epoch: 320 loss:0.134546 auc:1.0000\n",
      "epoch: 340 loss:0.132984 auc:1.0000\n",
      "epoch: 360 loss:0.131640 auc:1.0000\n",
      "epoch: 380 loss:0.131113 auc:1.0000\n",
      "epoch: 400 loss:0.130333 auc:1.0000\n",
      "epoch: 420 loss:0.128956 auc:0.9956\n",
      "epoch: 440 loss:0.127515 auc:0.9956\n"
     ]
    },
    {
     "name": "stderr",
     "output_type": "stream",
     "text": [
      " 92%|█████████▏| 834/910 [6:56:37<09:25,  7.44s/it]"
     ]
    },
    {
     "name": "stdout",
     "output_type": "stream",
     "text": [
      "epoch: 460 loss:0.125918 auc:0.9956\n",
      "Fit finished.\n",
      "epoch:   0 loss:0.563663 auc:0.0413\n",
      "epoch:  20 loss:0.223785 auc:0.9917\n",
      "epoch:  40 loss:0.177929 auc:1.0000\n",
      "epoch:  60 loss:0.164751 auc:1.0000\n",
      "epoch:  80 loss:0.151726 auc:1.0000\n",
      "epoch: 100 loss:0.147493 auc:1.0000\n",
      "epoch: 120 loss:0.145573 auc:1.0000\n",
      "epoch: 140 loss:0.144496 auc:1.0000\n",
      "epoch: 160 loss:0.140557 auc:1.0000\n",
      "epoch: 180 loss:0.140998 auc:1.0000\n",
      "epoch: 200 loss:0.135908 auc:1.0000\n",
      "epoch: 220 loss:0.135245 auc:1.0000\n",
      "epoch: 240 loss:0.132347 auc:1.0000\n",
      "epoch: 260 loss:0.130889 auc:1.0000\n",
      "epoch: 280 loss:0.132931 auc:1.0000\n",
      "epoch: 300 loss:0.127102 auc:1.0000\n",
      "epoch: 320 loss:0.128734 auc:1.0000\n",
      "epoch: 340 loss:0.125729 auc:1.0000\n",
      "epoch: 360 loss:0.121808 auc:1.0000\n",
      "epoch: 380 loss:0.126614 auc:1.0000\n",
      "epoch: 400 loss:0.119199 auc:1.0000\n",
      "epoch: 420 loss:0.123576 auc:1.0000\n",
      "epoch: 440 loss:0.125642 auc:1.0000\n",
      "epoch: 460 loss:0.117695 auc:1.0000\n",
      "epoch: 480 loss:0.115108 auc:1.0000\n",
      "epoch: 500 loss:0.113721 auc:1.0000\n",
      "epoch: 520 loss:0.112794 auc:1.0000\n",
      "epoch: 540 loss:0.112226 auc:1.0000\n",
      "epoch: 560 loss:0.111715 auc:1.0000\n",
      "epoch: 580 loss:0.115379 auc:1.0000\n",
      "epoch: 600 loss:0.110802 auc:1.0000\n",
      "epoch: 620 loss:0.109915 auc:1.0000\n",
      "epoch: 640 loss:0.109279 auc:1.0000\n",
      "epoch: 660 loss:0.108788 auc:1.0000\n",
      "epoch: 680 loss:0.108385 auc:1.0000\n",
      "epoch: 700 loss:0.108992 auc:1.0000\n",
      "epoch: 720 loss:0.107762 auc:1.0000\n",
      "epoch: 740 loss:0.107340 auc:1.0000\n",
      "epoch: 760 loss:0.107361 auc:1.0000\n",
      "epoch: 780 loss:0.107004 auc:1.0000\n",
      "epoch: 800 loss:0.107069 auc:1.0000\n",
      "epoch: 820 loss:0.106455 auc:1.0000\n",
      "epoch: 840 loss:0.106908 auc:1.0000\n",
      "epoch: 860 loss:0.105896 auc:1.0000\n",
      "epoch: 880 loss:0.106229 auc:1.0000\n",
      "epoch: 900 loss:0.105338 auc:1.0000\n",
      "epoch: 920 loss:0.105250 auc:1.0000\n",
      "epoch: 940 loss:0.105638 auc:1.0000\n",
      "epoch: 960 loss:0.105231 auc:1.0000\n",
      "epoch: 980 loss:0.105082 auc:1.0000\n"
     ]
    },
    {
     "name": "stderr",
     "output_type": "stream",
     "text": [
      " 92%|█████████▏| 835/910 [6:56:56<13:49, 11.06s/it]"
     ]
    },
    {
     "name": "stdout",
     "output_type": "stream",
     "text": [
      "Fit finished.\n",
      "epoch:   0 loss:0.665810 auc:0.5351\n",
      "epoch:  20 loss:0.254128 auc:0.9909\n",
      "epoch:  40 loss:0.186090 auc:0.9955\n",
      "epoch:  60 loss:0.172634 auc:0.9955\n",
      "epoch:  80 loss:0.164618 auc:0.9955\n",
      "epoch: 100 loss:0.154999 auc:0.9955\n",
      "epoch: 120 loss:0.148494 auc:0.9955\n",
      "epoch: 140 loss:0.145829 auc:0.9955\n",
      "epoch: 160 loss:0.144445 auc:0.9955\n",
      "epoch: 180 loss:0.142091 auc:0.9977\n",
      "epoch: 200 loss:0.140587 auc:0.9955\n",
      "epoch: 220 loss:0.137736 auc:0.9955\n",
      "epoch: 240 loss:0.138012 auc:0.9955\n",
      "epoch: 260 loss:0.134916 auc:0.9955\n"
     ]
    },
    {
     "name": "stderr",
     "output_type": "stream",
     "text": [
      " 92%|█████████▏| 836/910 [6:57:01<11:14,  9.12s/it]"
     ]
    },
    {
     "name": "stdout",
     "output_type": "stream",
     "text": [
      "epoch: 280 loss:0.132927 auc:0.9909\n",
      "Fit finished.\n",
      "epoch:   0 loss:0.932540 auc:0.6075\n",
      "epoch:  20 loss:0.272238 auc:0.9900\n",
      "epoch:  40 loss:0.199106 auc:0.9900\n",
      "epoch:  60 loss:0.177207 auc:0.9875\n",
      "epoch:  80 loss:0.166323 auc:0.9875\n",
      "epoch: 100 loss:0.155473 auc:0.9875\n",
      "epoch: 120 loss:0.148847 auc:0.9875\n",
      "epoch: 140 loss:0.146183 auc:0.9875\n",
      "epoch: 160 loss:0.144324 auc:0.9875\n"
     ]
    },
    {
     "name": "stderr",
     "output_type": "stream",
     "text": [
      " 92%|█████████▏| 837/910 [6:57:04<08:56,  7.35s/it]"
     ]
    },
    {
     "name": "stdout",
     "output_type": "stream",
     "text": [
      "epoch: 180 loss:0.142693 auc:0.9875\n",
      "Fit finished.\n",
      "epoch:   0 loss:0.822866 auc:0.5013\n",
      "epoch:  20 loss:0.266417 auc:0.9668\n",
      "epoch:  40 loss:0.199381 auc:0.9681\n",
      "epoch:  60 loss:0.180371 auc:0.9643\n",
      "epoch:  80 loss:0.170941 auc:0.9643\n",
      "epoch: 100 loss:0.162148 auc:0.9656\n",
      "epoch: 120 loss:0.151313 auc:0.9617\n",
      "epoch: 140 loss:0.147520 auc:0.9630\n",
      "epoch: 160 loss:0.144939 auc:0.9605\n"
     ]
    },
    {
     "name": "stderr",
     "output_type": "stream",
     "text": [
      " 92%|█████████▏| 838/910 [6:57:08<07:30,  6.25s/it]"
     ]
    },
    {
     "name": "stdout",
     "output_type": "stream",
     "text": [
      "epoch: 180 loss:0.142966 auc:0.9566\n",
      "Fit finished.\n",
      "epoch:   0 loss:0.570472 auc:0.4900\n",
      "epoch:  20 loss:0.225815 auc:0.9689\n",
      "epoch:  40 loss:0.182371 auc:0.9678\n",
      "epoch:  60 loss:0.171011 auc:0.9689\n",
      "epoch:  80 loss:0.161733 auc:0.9700\n",
      "epoch: 100 loss:0.150775 auc:0.9700\n",
      "epoch: 120 loss:0.146999 auc:0.9689\n",
      "epoch: 140 loss:0.145926 auc:0.9678\n",
      "epoch: 160 loss:0.142999 auc:0.9633\n"
     ]
    },
    {
     "name": "stderr",
     "output_type": "stream",
     "text": [
      " 92%|█████████▏| 839/910 [6:57:11<06:26,  5.44s/it]"
     ]
    },
    {
     "name": "stdout",
     "output_type": "stream",
     "text": [
      "epoch: 180 loss:0.140113 auc:0.9589\n",
      "Fit finished.\n",
      "epoch:   0 loss:0.705730 auc:0.4589\n",
      "epoch:  20 loss:0.264390 auc:0.9573\n",
      "epoch:  40 loss:0.189197 auc:0.9729\n",
      "epoch:  60 loss:0.173319 auc:0.9761\n",
      "epoch:  80 loss:0.163574 auc:0.9792\n",
      "epoch: 100 loss:0.151002 auc:0.9781\n",
      "epoch: 120 loss:0.147193 auc:0.9781\n",
      "epoch: 140 loss:0.146441 auc:0.9781\n",
      "epoch: 160 loss:0.143016 auc:0.9771\n",
      "epoch: 180 loss:0.141092 auc:0.9761\n"
     ]
    },
    {
     "name": "stderr",
     "output_type": "stream",
     "text": [
      " 92%|█████████▏| 840/910 [6:57:15<05:41,  4.89s/it]"
     ]
    },
    {
     "name": "stdout",
     "output_type": "stream",
     "text": [
      "epoch: 200 loss:0.139150 auc:0.9688\n",
      "Fit finished.\n",
      "epoch:   0 loss:1.033825 auc:0.8547\n",
      "epoch:  20 loss:0.275017 auc:0.9862\n",
      "epoch:  40 loss:0.201753 auc:0.9896\n",
      "epoch:  60 loss:0.177657 auc:0.9896\n",
      "epoch:  80 loss:0.166575 auc:0.9896\n",
      "epoch: 100 loss:0.153603 auc:0.9896\n",
      "epoch: 120 loss:0.147844 auc:0.9896\n",
      "epoch: 140 loss:0.145206 auc:0.9896\n",
      "epoch: 160 loss:0.143195 auc:0.9896\n",
      "epoch: 180 loss:0.142054 auc:0.9931\n",
      "epoch: 200 loss:0.139564 auc:0.9965\n",
      "epoch: 220 loss:0.140922 auc:0.9965\n",
      "epoch: 240 loss:0.135814 auc:1.0000\n",
      "epoch: 260 loss:0.133571 auc:1.0000\n",
      "epoch: 280 loss:0.131867 auc:1.0000\n",
      "epoch: 300 loss:0.130352 auc:1.0000\n",
      "epoch: 320 loss:0.135161 auc:1.0000\n"
     ]
    },
    {
     "name": "stderr",
     "output_type": "stream",
     "text": [
      " 92%|█████████▏| 841/910 [6:57:22<06:11,  5.39s/it]"
     ]
    },
    {
     "name": "stdout",
     "output_type": "stream",
     "text": [
      "epoch: 340 loss:0.130447 auc:0.9896\n",
      "Fit finished.\n",
      "epoch:   0 loss:0.777336 auc:0.7501\n",
      "epoch:  20 loss:0.267736 auc:0.9827\n",
      "epoch:  40 loss:0.195017 auc:0.9881\n",
      "epoch:  60 loss:0.176447 auc:0.9903\n",
      "epoch:  80 loss:0.166875 auc:0.9908\n",
      "epoch: 100 loss:0.157428 auc:0.9897\n",
      "epoch: 120 loss:0.150038 auc:0.9903\n",
      "epoch: 140 loss:0.147130 auc:0.9908\n",
      "epoch: 160 loss:0.145406 auc:0.9886\n",
      "epoch: 180 loss:0.143553 auc:0.9870\n"
     ]
    },
    {
     "name": "stderr",
     "output_type": "stream",
     "text": [
      " 93%|█████████▎| 842/910 [6:57:25<05:34,  4.91s/it]"
     ]
    },
    {
     "name": "stdout",
     "output_type": "stream",
     "text": [
      "epoch: 200 loss:0.141417 auc:0.9843\n",
      "Fit finished.\n",
      "epoch:   0 loss:0.787777 auc:0.5062\n",
      "epoch:  20 loss:0.272202 auc:0.9931\n",
      "epoch:  40 loss:0.193358 auc:0.9973\n",
      "epoch:  60 loss:0.175480 auc:0.9986\n",
      "epoch:  80 loss:0.165827 auc:1.0000\n",
      "epoch: 100 loss:0.155984 auc:0.9986\n",
      "epoch: 120 loss:0.149164 auc:0.9986\n",
      "epoch: 140 loss:0.146679 auc:1.0000\n",
      "epoch: 160 loss:0.144811 auc:1.0000\n",
      "epoch: 180 loss:0.145657 auc:1.0000\n",
      "epoch: 200 loss:0.142019 auc:0.9986\n"
     ]
    },
    {
     "name": "stderr",
     "output_type": "stream",
     "text": [
      " 93%|█████████▎| 843/910 [6:57:30<05:14,  4.69s/it]"
     ]
    },
    {
     "name": "stdout",
     "output_type": "stream",
     "text": [
      "epoch: 220 loss:0.139448 auc:0.9945\n",
      "Fit finished.\n",
      "epoch:   0 loss:0.829801 auc:0.7602\n",
      "epoch:  20 loss:0.277516 auc:0.9745\n",
      "epoch:  40 loss:0.203459 auc:0.9592\n",
      "epoch:  60 loss:0.180067 auc:0.9643\n",
      "epoch:  80 loss:0.169370 auc:0.9796\n",
      "epoch: 100 loss:0.159297 auc:0.9796\n",
      "epoch: 120 loss:0.150536 auc:0.9796\n",
      "epoch: 140 loss:0.147654 auc:0.9796\n",
      "epoch: 160 loss:0.145319 auc:0.9745\n",
      "epoch: 180 loss:0.146299 auc:0.9745\n",
      "epoch: 200 loss:0.142417 auc:0.9745\n",
      "epoch: 220 loss:0.140968 auc:0.9847\n",
      "epoch: 240 loss:0.144825 auc:0.9847\n",
      "epoch: 260 loss:0.138397 auc:0.9847\n",
      "epoch: 280 loss:0.136209 auc:0.9847\n",
      "epoch: 300 loss:0.134653 auc:0.9847\n",
      "epoch: 320 loss:0.135981 auc:0.9847\n",
      "epoch: 340 loss:0.132358 auc:0.9847\n",
      "epoch: 360 loss:0.130691 auc:0.9796\n"
     ]
    },
    {
     "name": "stderr",
     "output_type": "stream",
     "text": [
      " 93%|█████████▎| 844/910 [6:57:38<06:17,  5.71s/it]"
     ]
    },
    {
     "name": "stdout",
     "output_type": "stream",
     "text": [
      "epoch: 380 loss:0.129102 auc:0.9796\n",
      "Fit finished.\n",
      "epoch:   0 loss:0.554740 auc:0.7826\n",
      "epoch:  20 loss:0.261871 auc:0.9905\n",
      "epoch:  40 loss:0.190379 auc:0.9792\n",
      "epoch:  60 loss:0.176986 auc:0.9792\n",
      "epoch:  80 loss:0.169636 auc:0.9792\n",
      "epoch: 100 loss:0.160743 auc:0.9792\n",
      "epoch: 120 loss:0.149888 auc:0.9792\n",
      "epoch: 140 loss:0.146386 auc:0.9792\n",
      "epoch: 160 loss:0.144630 auc:0.9773\n"
     ]
    },
    {
     "name": "stderr",
     "output_type": "stream",
     "text": [
      " 93%|█████████▎| 845/910 [6:57:41<05:28,  5.05s/it]"
     ]
    },
    {
     "name": "stdout",
     "output_type": "stream",
     "text": [
      "epoch: 180 loss:0.144934 auc:0.9735\n",
      "Fit finished.\n",
      "epoch:   0 loss:1.044469 auc:0.3624\n",
      "epoch:  20 loss:0.272789 auc:0.9970\n",
      "epoch:  40 loss:0.205173 auc:0.9956\n",
      "epoch:  60 loss:0.178347 auc:0.9956\n",
      "epoch:  80 loss:0.168237 auc:0.9956\n",
      "epoch: 100 loss:0.158808 auc:0.9956\n",
      "epoch: 120 loss:0.150518 auc:0.9956\n",
      "epoch: 140 loss:0.147418 auc:0.9956\n",
      "epoch: 160 loss:0.145400 auc:0.9956\n",
      "epoch: 180 loss:0.143823 auc:0.9970\n",
      "epoch: 200 loss:0.142199 auc:0.9970\n",
      "epoch: 220 loss:0.141878 auc:0.9956\n"
     ]
    },
    {
     "name": "stderr",
     "output_type": "stream",
     "text": [
      " 93%|█████████▎| 846/910 [6:57:45<05:07,  4.81s/it]"
     ]
    },
    {
     "name": "stdout",
     "output_type": "stream",
     "text": [
      "epoch: 240 loss:0.138874 auc:0.9941\n",
      "Fit finished.\n",
      "epoch:   0 loss:0.696138 auc:0.4793\n",
      "epoch:  20 loss:0.271874 auc:0.9132\n",
      "epoch:  40 loss:0.190905 auc:0.9525\n",
      "epoch:  60 loss:0.176159 auc:0.9731\n",
      "epoch:  80 loss:0.167352 auc:0.9731\n",
      "epoch: 100 loss:0.156791 auc:0.9731\n",
      "epoch: 120 loss:0.149005 auc:0.9731\n",
      "epoch: 140 loss:0.145900 auc:0.9731\n",
      "epoch: 160 loss:0.145007 auc:0.9731\n",
      "epoch: 180 loss:0.142441 auc:0.9731\n",
      "epoch: 200 loss:0.140026 auc:0.9731\n",
      "epoch: 220 loss:0.138158 auc:0.9752\n"
     ]
    },
    {
     "name": "stderr",
     "output_type": "stream",
     "text": [
      " 93%|█████████▎| 847/910 [6:57:50<05:00,  4.77s/it]"
     ]
    },
    {
     "name": "stdout",
     "output_type": "stream",
     "text": [
      "epoch: 240 loss:0.136937 auc:0.9711\n",
      "Fit finished.\n",
      "epoch:   0 loss:0.655461 auc:0.5458\n",
      "epoch:  20 loss:0.267558 auc:1.0000\n",
      "epoch:  40 loss:0.192927 auc:1.0000\n",
      "epoch:  60 loss:0.177087 auc:1.0000\n",
      "epoch:  80 loss:0.168664 auc:1.0000\n",
      "epoch: 100 loss:0.160074 auc:1.0000\n",
      "epoch: 120 loss:0.150032 auc:1.0000\n",
      "epoch: 140 loss:0.146650 auc:1.0000\n",
      "epoch: 160 loss:0.143993 auc:1.0000\n",
      "epoch: 180 loss:0.142238 auc:1.0000\n"
     ]
    },
    {
     "name": "stderr",
     "output_type": "stream",
     "text": [
      " 93%|█████████▎| 848/910 [6:57:54<04:44,  4.58s/it]"
     ]
    },
    {
     "name": "stdout",
     "output_type": "stream",
     "text": [
      "epoch: 200 loss:0.140154 auc:0.9988\n",
      "Fit finished.\n",
      "epoch:   0 loss:0.695767 auc:0.1389\n",
      "epoch:  20 loss:0.238348 auc:0.9900\n",
      "epoch:  40 loss:0.182948 auc:0.9931\n",
      "epoch:  60 loss:0.171449 auc:0.9946\n",
      "epoch:  80 loss:0.162026 auc:0.9938\n",
      "epoch: 100 loss:0.150207 auc:0.9946\n",
      "epoch: 120 loss:0.146359 auc:0.9931\n",
      "epoch: 140 loss:0.143690 auc:0.9915\n",
      "epoch: 160 loss:0.141470 auc:0.9915\n"
     ]
    },
    {
     "name": "stderr",
     "output_type": "stream",
     "text": [
      " 93%|█████████▎| 849/910 [6:57:58<04:23,  4.32s/it]"
     ]
    },
    {
     "name": "stdout",
     "output_type": "stream",
     "text": [
      "epoch: 180 loss:0.139602 auc:0.9861\n",
      "Fit finished.\n",
      "epoch:   0 loss:0.655691 auc:0.4714\n",
      "epoch:  20 loss:0.254822 auc:0.9640\n",
      "epoch:  40 loss:0.189139 auc:0.9666\n",
      "epoch:  60 loss:0.173563 auc:0.9648\n",
      "epoch:  80 loss:0.164727 auc:0.9635\n",
      "epoch: 100 loss:0.153703 auc:0.9653\n",
      "epoch: 120 loss:0.147994 auc:0.9631\n",
      "epoch: 140 loss:0.145345 auc:0.9609\n",
      "epoch: 160 loss:0.143495 auc:0.9596\n"
     ]
    },
    {
     "name": "stderr",
     "output_type": "stream",
     "text": [
      " 93%|█████████▎| 850/910 [6:58:01<04:04,  4.07s/it]"
     ]
    },
    {
     "name": "stdout",
     "output_type": "stream",
     "text": [
      "epoch: 180 loss:0.141586 auc:0.9336\n",
      "Fit finished.\n",
      "epoch:   0 loss:0.600513 auc:0.1698\n",
      "epoch:  20 loss:0.225044 auc:0.9907\n",
      "epoch:  40 loss:0.179294 auc:0.9938\n",
      "epoch:  60 loss:0.166353 auc:0.9969\n",
      "epoch:  80 loss:0.152161 auc:0.9969\n",
      "epoch: 100 loss:0.147177 auc:0.9969\n",
      "epoch: 120 loss:0.144543 auc:0.9969\n",
      "epoch: 140 loss:0.141921 auc:0.9969\n",
      "epoch: 160 loss:0.138996 auc:0.9969\n",
      "epoch: 180 loss:0.138867 auc:0.9969\n",
      "epoch: 200 loss:0.135813 auc:1.0000\n",
      "epoch: 220 loss:0.137020 auc:1.0000\n",
      "epoch: 240 loss:0.135066 auc:1.0000\n",
      "epoch: 260 loss:0.130968 auc:1.0000\n",
      "epoch: 280 loss:0.128629 auc:1.0000\n",
      "epoch: 300 loss:0.128164 auc:0.9969\n",
      "epoch: 320 loss:0.125165 auc:1.0000\n",
      "epoch: 340 loss:0.123774 auc:1.0000\n"
     ]
    },
    {
     "name": "stderr",
     "output_type": "stream",
     "text": [
      " 94%|█████████▎| 851/910 [6:58:08<04:51,  4.93s/it]"
     ]
    },
    {
     "name": "stdout",
     "output_type": "stream",
     "text": [
      "epoch: 360 loss:0.123652 auc:0.9969\n",
      "Fit finished.\n",
      "epoch:   0 loss:0.825398 auc:0.6976\n",
      "epoch:  20 loss:0.258232 auc:0.9488\n",
      "epoch:  40 loss:0.193739 auc:0.9568\n",
      "epoch:  60 loss:0.178047 auc:0.9616\n",
      "epoch:  80 loss:0.168533 auc:0.9632\n",
      "epoch: 100 loss:0.159352 auc:0.9632\n",
      "epoch: 120 loss:0.150098 auc:0.9632\n",
      "epoch: 140 loss:0.146670 auc:0.9632\n",
      "epoch: 160 loss:0.144717 auc:0.9632\n",
      "epoch: 180 loss:0.143173 auc:0.9632\n",
      "epoch: 200 loss:0.141955 auc:0.9648\n",
      "epoch: 220 loss:0.141151 auc:0.9664\n",
      "epoch: 240 loss:0.138897 auc:0.9680\n",
      "epoch: 260 loss:0.137245 auc:0.9696\n"
     ]
    },
    {
     "name": "stderr",
     "output_type": "stream",
     "text": [
      " 94%|█████████▎| 852/910 [6:58:14<04:58,  5.15s/it]"
     ]
    },
    {
     "name": "stdout",
     "output_type": "stream",
     "text": [
      "epoch: 280 loss:0.135679 auc:0.9584\n",
      "Fit finished.\n",
      "epoch:   0 loss:0.669750 auc:0.3651\n",
      "epoch:  20 loss:0.248455 auc:1.0000\n",
      "epoch:  40 loss:0.186181 auc:1.0000\n",
      "epoch:  60 loss:0.171883 auc:1.0000\n",
      "epoch:  80 loss:0.162290 auc:1.0000\n",
      "epoch: 100 loss:0.152480 auc:1.0000\n",
      "epoch: 120 loss:0.148134 auc:1.0000\n",
      "epoch: 140 loss:0.145657 auc:1.0000\n",
      "epoch: 160 loss:0.144103 auc:1.0000\n",
      "epoch: 180 loss:0.142140 auc:1.0000\n",
      "epoch: 200 loss:0.140112 auc:1.0000\n"
     ]
    },
    {
     "name": "stderr",
     "output_type": "stream",
     "text": [
      " 94%|█████████▎| 853/910 [6:58:18<04:29,  4.74s/it]"
     ]
    },
    {
     "name": "stdout",
     "output_type": "stream",
     "text": [
      "epoch: 220 loss:0.138962 auc:0.9955\n",
      "Fit finished.\n",
      "epoch:   0 loss:0.743503 auc:0.8511\n",
      "epoch:  20 loss:0.274883 auc:0.9583\n",
      "epoch:  40 loss:0.210938 auc:0.9622\n",
      "epoch:  60 loss:0.181983 auc:0.9645\n",
      "epoch:  80 loss:0.169785 auc:0.9668\n",
      "epoch: 100 loss:0.160398 auc:0.9668\n",
      "epoch: 120 loss:0.151184 auc:0.9637\n",
      "epoch: 140 loss:0.147644 auc:0.9645\n",
      "epoch: 160 loss:0.145568 auc:0.9660\n",
      "epoch: 180 loss:0.144090 auc:0.9660\n",
      "epoch: 200 loss:0.142950 auc:0.9645\n"
     ]
    },
    {
     "name": "stderr",
     "output_type": "stream",
     "text": [
      " 94%|█████████▍| 854/910 [6:58:22<04:16,  4.59s/it]"
     ]
    },
    {
     "name": "stdout",
     "output_type": "stream",
     "text": [
      "epoch: 220 loss:0.142429 auc:0.9614\n",
      "Fit finished.\n",
      "epoch:   0 loss:0.698706 auc:0.4375\n",
      "epoch:  20 loss:0.277326 auc:1.0000\n",
      "epoch:  40 loss:0.195951 auc:1.0000\n",
      "epoch:  60 loss:0.176280 auc:0.9965\n",
      "epoch:  80 loss:0.165407 auc:0.9965\n",
      "epoch: 100 loss:0.154019 auc:0.9965\n",
      "epoch: 120 loss:0.148030 auc:0.9965\n",
      "epoch: 140 loss:0.145510 auc:0.9965\n",
      "epoch: 160 loss:0.143722 auc:0.9965\n"
     ]
    },
    {
     "name": "stderr",
     "output_type": "stream",
     "text": [
      " 94%|█████████▍| 855/910 [6:58:27<04:12,  4.60s/it]"
     ]
    },
    {
     "name": "stdout",
     "output_type": "stream",
     "text": [
      "epoch: 180 loss:0.143058 auc:0.9983\n",
      "Fit finished.\n",
      "epoch:   0 loss:0.776759 auc:0.7513\n",
      "epoch:  20 loss:0.284368 auc:0.9515\n",
      "epoch:  40 loss:0.216776 auc:0.9694\n",
      "epoch:  60 loss:0.180312 auc:0.9719\n",
      "epoch:  80 loss:0.166722 auc:0.9694\n",
      "epoch: 100 loss:0.155090 auc:0.9694\n",
      "epoch: 120 loss:0.148964 auc:0.9694\n",
      "epoch: 140 loss:0.146327 auc:0.9694\n",
      "epoch: 160 loss:0.144811 auc:0.9681\n",
      "epoch: 180 loss:0.142779 auc:0.9668\n"
     ]
    },
    {
     "name": "stderr",
     "output_type": "stream",
     "text": [
      " 94%|█████████▍| 856/910 [6:58:30<03:49,  4.25s/it]"
     ]
    },
    {
     "name": "stdout",
     "output_type": "stream",
     "text": [
      "epoch: 200 loss:0.141684 auc:0.9681\n",
      "Fit finished.\n",
      "epoch:   0 loss:0.685172 auc:0.3340\n",
      "epoch:  20 loss:0.231221 auc:0.9521\n",
      "epoch:  40 loss:0.179733 auc:0.9551\n",
      "epoch:  60 loss:0.168155 auc:0.9551\n",
      "epoch:  80 loss:0.156467 auc:0.9551\n",
      "epoch: 100 loss:0.149031 auc:0.9541\n",
      "epoch: 120 loss:0.145883 auc:0.9561\n",
      "epoch: 140 loss:0.143634 auc:0.9600\n",
      "epoch: 160 loss:0.141695 auc:0.9668\n",
      "epoch: 180 loss:0.140085 auc:0.9707\n",
      "epoch: 200 loss:0.137875 auc:0.9736\n",
      "epoch: 220 loss:0.134418 auc:0.9863\n",
      "epoch: 240 loss:0.132720 auc:0.9854\n",
      "epoch: 260 loss:0.138618 auc:0.9785\n",
      "epoch: 280 loss:0.130221 auc:0.9834\n",
      "epoch: 300 loss:0.126626 auc:0.9834\n"
     ]
    },
    {
     "name": "stderr",
     "output_type": "stream",
     "text": [
      " 94%|█████████▍| 857/910 [6:58:36<04:03,  4.60s/it]"
     ]
    },
    {
     "name": "stdout",
     "output_type": "stream",
     "text": [
      "epoch: 320 loss:0.126162 auc:0.9639\n",
      "Fit finished.\n",
      "epoch:   0 loss:0.613255 auc:0.4688\n",
      "epoch:  20 loss:0.277468 auc:0.9760\n",
      "epoch:  40 loss:0.203516 auc:0.9856\n",
      "epoch:  60 loss:0.175904 auc:0.9872\n",
      "epoch:  80 loss:0.164540 auc:0.9872\n",
      "epoch: 100 loss:0.154266 auc:0.9872\n",
      "epoch: 120 loss:0.149274 auc:0.9872\n",
      "epoch: 140 loss:0.146896 auc:0.9872\n",
      "epoch: 160 loss:0.145087 auc:0.9872\n",
      "epoch: 180 loss:0.143442 auc:0.9872\n",
      "epoch: 200 loss:0.142168 auc:0.9872\n"
     ]
    },
    {
     "name": "stderr",
     "output_type": "stream",
     "text": [
      " 94%|█████████▍| 858/910 [6:58:40<03:52,  4.47s/it]"
     ]
    },
    {
     "name": "stdout",
     "output_type": "stream",
     "text": [
      "epoch: 220 loss:0.141485 auc:0.9856\n",
      "Fit finished.\n",
      "epoch:   0 loss:0.596087 auc:0.2176\n",
      "epoch:  20 loss:0.255125 auc:1.0000\n",
      "epoch:  40 loss:0.185884 auc:1.0000\n",
      "epoch:  60 loss:0.168555 auc:1.0000\n",
      "epoch:  80 loss:0.155549 auc:1.0000\n",
      "epoch: 100 loss:0.148587 auc:1.0000\n",
      "epoch: 120 loss:0.145747 auc:1.0000\n",
      "epoch: 140 loss:0.149319 auc:1.0000\n",
      "epoch: 160 loss:0.142432 auc:1.0000\n",
      "epoch: 180 loss:0.140055 auc:1.0000\n",
      "epoch: 200 loss:0.143680 auc:1.0000\n",
      "epoch: 220 loss:0.137344 auc:1.0000\n",
      "epoch: 240 loss:0.134711 auc:1.0000\n",
      "epoch: 260 loss:0.132758 auc:1.0000\n",
      "epoch: 280 loss:0.131562 auc:1.0000\n",
      "epoch: 300 loss:0.133344 auc:1.0000\n",
      "epoch: 320 loss:0.128641 auc:1.0000\n",
      "epoch: 340 loss:0.127970 auc:1.0000\n",
      "epoch: 360 loss:0.124766 auc:1.0000\n",
      "epoch: 380 loss:0.122212 auc:1.0000\n",
      "epoch: 400 loss:0.122949 auc:1.0000\n",
      "epoch: 420 loss:0.119314 auc:1.0000\n",
      "epoch: 440 loss:0.117567 auc:1.0000\n",
      "epoch: 460 loss:0.116825 auc:1.0000\n",
      "epoch: 480 loss:0.116221 auc:1.0000\n",
      "epoch: 500 loss:0.117215 auc:1.0000\n",
      "epoch: 520 loss:0.114251 auc:1.0000\n",
      "epoch: 540 loss:0.112966 auc:1.0000\n",
      "epoch: 560 loss:0.111829 auc:1.0000\n",
      "epoch: 580 loss:0.111357 auc:1.0000\n",
      "epoch: 600 loss:0.110383 auc:1.0000\n",
      "epoch: 620 loss:0.110074 auc:1.0000\n",
      "epoch: 640 loss:0.110406 auc:1.0000\n",
      "epoch: 660 loss:0.108812 auc:1.0000\n",
      "epoch: 680 loss:0.109162 auc:1.0000\n",
      "epoch: 700 loss:0.108137 auc:1.0000\n",
      "epoch: 720 loss:0.107806 auc:1.0000\n",
      "epoch: 740 loss:0.107376 auc:1.0000\n",
      "epoch: 760 loss:0.107017 auc:1.0000\n",
      "epoch: 780 loss:0.106464 auc:1.0000\n",
      "epoch: 800 loss:0.106112 auc:1.0000\n",
      "epoch: 820 loss:0.105955 auc:1.0000\n",
      "epoch: 840 loss:0.105866 auc:1.0000\n",
      "epoch: 860 loss:0.105492 auc:1.0000\n",
      "epoch: 880 loss:0.105628 auc:1.0000\n",
      "epoch: 900 loss:0.104919 auc:1.0000\n",
      "epoch: 920 loss:0.105057 auc:1.0000\n",
      "epoch: 940 loss:0.105159 auc:1.0000\n",
      "epoch: 960 loss:0.104665 auc:1.0000\n",
      "epoch: 980 loss:0.104099 auc:1.0000\n"
     ]
    },
    {
     "name": "stderr",
     "output_type": "stream",
     "text": [
      " 94%|█████████▍| 859/910 [6:58:58<07:23,  8.69s/it]"
     ]
    },
    {
     "name": "stdout",
     "output_type": "stream",
     "text": [
      "Fit finished.\n",
      "epoch:   0 loss:0.592725 auc:0.3322\n",
      "epoch:  20 loss:0.224584 auc:0.9311\n",
      "epoch:  40 loss:0.180145 auc:0.9222\n",
      "epoch:  60 loss:0.166946 auc:0.9222\n",
      "epoch:  80 loss:0.153637 auc:0.9200\n",
      "epoch: 100 loss:0.147485 auc:0.9200\n",
      "epoch: 120 loss:0.144277 auc:0.9211\n",
      "epoch: 140 loss:0.144678 auc:0.9344\n",
      "epoch: 160 loss:0.139678 auc:0.9444\n",
      "epoch: 180 loss:0.137878 auc:0.9556\n",
      "epoch: 200 loss:0.136017 auc:0.9556\n",
      "epoch: 220 loss:0.133922 auc:0.9622\n",
      "epoch: 240 loss:0.137865 auc:0.9811\n",
      "epoch: 260 loss:0.132540 auc:0.9722\n",
      "epoch: 280 loss:0.129252 auc:0.9744\n",
      "epoch: 300 loss:0.126523 auc:0.9767\n",
      "epoch: 320 loss:0.124937 auc:0.9678\n",
      "epoch: 340 loss:0.124030 auc:0.9567\n",
      "epoch: 360 loss:0.121635 auc:0.9567\n",
      "epoch: 380 loss:0.119770 auc:0.9722\n"
     ]
    },
    {
     "name": "stderr",
     "output_type": "stream",
     "text": [
      " 95%|█████████▍| 860/910 [6:59:05<06:45,  8.11s/it]"
     ]
    },
    {
     "name": "stdout",
     "output_type": "stream",
     "text": [
      "epoch: 400 loss:0.118899 auc:0.9611\n",
      "Fit finished.\n",
      "epoch:   0 loss:0.734836 auc:0.4938\n",
      "epoch:  20 loss:0.274191 auc:0.9753\n",
      "epoch:  40 loss:0.196961 auc:0.9794\n",
      "epoch:  60 loss:0.176689 auc:0.9808\n",
      "epoch:  80 loss:0.167144 auc:0.9808\n",
      "epoch: 100 loss:0.157994 auc:0.9808\n",
      "epoch: 120 loss:0.149897 auc:0.9808\n",
      "epoch: 140 loss:0.146959 auc:0.9808\n",
      "epoch: 160 loss:0.144944 auc:0.9808\n",
      "epoch: 180 loss:0.144672 auc:0.9835\n",
      "epoch: 200 loss:0.142249 auc:0.9849\n",
      "epoch: 220 loss:0.140047 auc:0.9904\n",
      "epoch: 240 loss:0.162034 auc:0.9877\n",
      "epoch: 260 loss:0.139751 auc:0.9904\n",
      "epoch: 280 loss:0.136325 auc:0.9863\n",
      "epoch: 300 loss:0.134747 auc:0.9808\n"
     ]
    },
    {
     "name": "stderr",
     "output_type": "stream",
     "text": [
      " 95%|█████████▍| 861/910 [6:59:11<06:05,  7.45s/it]"
     ]
    },
    {
     "name": "stdout",
     "output_type": "stream",
     "text": [
      "epoch: 320 loss:0.133257 auc:0.9781\n",
      "Fit finished.\n",
      "epoch:   0 loss:0.739433 auc:0.6426\n",
      "epoch:  20 loss:0.267478 auc:1.0000\n",
      "epoch:  40 loss:0.193246 auc:1.0000\n",
      "epoch:  60 loss:0.176095 auc:1.0000\n",
      "epoch:  80 loss:0.165711 auc:1.0000\n",
      "epoch: 100 loss:0.153804 auc:1.0000\n",
      "epoch: 120 loss:0.148218 auc:1.0000\n",
      "epoch: 140 loss:0.145913 auc:1.0000\n",
      "epoch: 160 loss:0.144048 auc:1.0000\n",
      "epoch: 180 loss:0.143869 auc:1.0000\n",
      "epoch: 200 loss:0.140366 auc:1.0000\n",
      "epoch: 220 loss:0.147511 auc:1.0000\n"
     ]
    },
    {
     "name": "stderr",
     "output_type": "stream",
     "text": [
      " 95%|█████████▍| 862/910 [7:00:10<18:21, 22.96s/it]"
     ]
    },
    {
     "name": "stdout",
     "output_type": "stream",
     "text": [
      "epoch: 240 loss:0.137482 auc:0.9959\n",
      "Fit finished.\n",
      "epoch:   0 loss:0.717492 auc:0.3937\n",
      "epoch:  20 loss:0.276879 auc:0.9616\n",
      "epoch:  40 loss:0.195358 auc:0.9684\n",
      "epoch:  60 loss:0.177737 auc:0.9698\n",
      "epoch:  80 loss:0.168208 auc:0.9684\n",
      "epoch: 100 loss:0.158689 auc:0.9684\n",
      "epoch: 120 loss:0.150288 auc:0.9684\n",
      "epoch: 140 loss:0.147372 auc:0.9684\n",
      "epoch: 160 loss:0.145289 auc:0.9671\n",
      "epoch: 180 loss:0.143377 auc:0.9671\n"
     ]
    },
    {
     "name": "stderr",
     "output_type": "stream",
     "text": [
      " 95%|█████████▍| 863/910 [7:00:14<13:24, 17.11s/it]"
     ]
    },
    {
     "name": "stdout",
     "output_type": "stream",
     "text": [
      "epoch: 200 loss:0.143700 auc:0.9506\n",
      "Fit finished.\n",
      "epoch:   0 loss:0.952374 auc:0.2426\n",
      "epoch:  20 loss:0.269342 auc:1.0000\n",
      "epoch:  40 loss:0.199091 auc:1.0000\n",
      "epoch:  60 loss:0.176470 auc:1.0000\n",
      "epoch:  80 loss:0.166541 auc:1.0000\n",
      "epoch: 100 loss:0.156309 auc:1.0000\n",
      "epoch: 120 loss:0.149133 auc:1.0000\n",
      "epoch: 140 loss:0.146504 auc:1.0000\n",
      "epoch: 160 loss:0.144701 auc:1.0000\n",
      "epoch: 180 loss:0.143416 auc:1.0000\n",
      "epoch: 200 loss:0.141486 auc:1.0000\n",
      "epoch: 220 loss:0.141033 auc:1.0000\n",
      "epoch: 240 loss:0.138734 auc:1.0000\n",
      "epoch: 260 loss:0.136941 auc:1.0000\n",
      "epoch: 280 loss:0.135884 auc:1.0000\n",
      "epoch: 300 loss:0.135300 auc:1.0000\n",
      "epoch: 320 loss:0.134129 auc:1.0000\n",
      "epoch: 340 loss:0.135358 auc:1.0000\n",
      "epoch: 360 loss:0.133192 auc:1.0000\n",
      "epoch: 380 loss:0.129049 auc:1.0000\n",
      "epoch: 400 loss:0.126099 auc:1.0000\n",
      "epoch: 420 loss:0.126028 auc:1.0000\n",
      "epoch: 440 loss:0.123931 auc:1.0000\n",
      "epoch: 460 loss:0.127560 auc:1.0000\n",
      "epoch: 480 loss:0.122545 auc:1.0000\n",
      "epoch: 500 loss:0.120936 auc:1.0000\n",
      "epoch: 520 loss:0.120343 auc:1.0000\n",
      "epoch: 540 loss:0.119645 auc:1.0000\n",
      "epoch: 560 loss:0.119795 auc:1.0000\n",
      "epoch: 580 loss:0.117995 auc:1.0000\n",
      "epoch: 600 loss:0.116760 auc:1.0000\n",
      "epoch: 620 loss:0.115903 auc:1.0000\n",
      "epoch: 640 loss:0.119402 auc:1.0000\n",
      "epoch: 660 loss:0.118029 auc:1.0000\n",
      "epoch: 680 loss:0.113158 auc:1.0000\n",
      "epoch: 700 loss:0.111951 auc:1.0000\n",
      "epoch: 720 loss:0.111206 auc:1.0000\n",
      "epoch: 740 loss:0.110622 auc:1.0000\n",
      "epoch: 760 loss:0.110495 auc:1.0000\n",
      "epoch: 780 loss:0.110670 auc:1.0000\n",
      "epoch: 800 loss:0.112307 auc:1.0000\n",
      "epoch: 820 loss:0.137573 auc:1.0000\n",
      "epoch: 840 loss:0.116011 auc:1.0000\n",
      "epoch: 860 loss:0.110827 auc:1.0000\n",
      "epoch: 880 loss:0.109389 auc:1.0000\n",
      "epoch: 900 loss:0.108688 auc:1.0000\n",
      "epoch: 920 loss:0.108258 auc:1.0000\n",
      "epoch: 940 loss:0.107862 auc:1.0000\n",
      "epoch: 960 loss:0.107557 auc:1.0000\n",
      "epoch: 980 loss:0.107125 auc:1.0000\n"
     ]
    },
    {
     "name": "stderr",
     "output_type": "stream",
     "text": [
      " 95%|█████████▍| 864/910 [7:00:32<13:27, 17.55s/it]"
     ]
    },
    {
     "name": "stdout",
     "output_type": "stream",
     "text": [
      "Fit finished.\n",
      "epoch:   0 loss:0.772148 auc:0.4527\n",
      "epoch:  20 loss:0.236935 auc:0.8985\n",
      "epoch:  40 loss:0.185762 auc:0.8985\n",
      "epoch:  60 loss:0.174187 auc:0.8957\n",
      "epoch:  80 loss:0.167690 auc:0.8999\n",
      "epoch: 100 loss:0.159533 auc:0.8999\n",
      "epoch: 120 loss:0.150090 auc:0.8999\n",
      "epoch: 140 loss:0.146763 auc:0.8999\n",
      "epoch: 160 loss:0.144710 auc:0.8999\n",
      "epoch: 180 loss:0.142847 auc:0.9012\n"
     ]
    },
    {
     "name": "stderr",
     "output_type": "stream",
     "text": [
      " 95%|█████████▌| 865/910 [7:00:36<10:07, 13.50s/it]"
     ]
    },
    {
     "name": "stdout",
     "output_type": "stream",
     "text": [
      "epoch: 200 loss:0.142050 auc:0.8957\n",
      "Fit finished.\n",
      "epoch:   0 loss:0.662143 auc:0.3873\n",
      "epoch:  20 loss:0.223906 auc:0.9822\n",
      "epoch:  40 loss:0.182152 auc:0.9810\n",
      "epoch:  60 loss:0.169252 auc:0.9792\n",
      "epoch:  80 loss:0.158305 auc:0.9780\n",
      "epoch: 100 loss:0.149111 auc:0.9804\n",
      "epoch: 120 loss:0.145755 auc:0.9804\n",
      "epoch: 140 loss:0.146818 auc:0.9798\n",
      "epoch: 160 loss:0.141551 auc:0.9792\n"
     ]
    },
    {
     "name": "stderr",
     "output_type": "stream",
     "text": [
      " 95%|█████████▌| 866/910 [7:00:39<07:37, 10.39s/it]"
     ]
    },
    {
     "name": "stdout",
     "output_type": "stream",
     "text": [
      "epoch: 180 loss:0.138672 auc:0.9768\n",
      "Fit finished.\n",
      "epoch:   0 loss:0.989903 auc:0.2012\n",
      "epoch:  20 loss:0.267395 auc:0.9808\n",
      "epoch:  40 loss:0.194617 auc:0.9852\n",
      "epoch:  60 loss:0.180100 auc:0.9867\n",
      "epoch:  80 loss:0.172617 auc:0.9896\n",
      "epoch: 100 loss:0.166354 auc:0.9882\n",
      "epoch: 120 loss:0.157143 auc:0.9896\n",
      "epoch: 140 loss:0.148972 auc:0.9896\n",
      "epoch: 160 loss:0.146271 auc:0.9896\n",
      "epoch: 180 loss:0.144536 auc:0.9867\n",
      "epoch: 200 loss:0.142892 auc:0.9852\n"
     ]
    },
    {
     "name": "stderr",
     "output_type": "stream",
     "text": [
      " 95%|█████████▌| 867/910 [7:00:43<06:01,  8.40s/it]"
     ]
    },
    {
     "name": "stdout",
     "output_type": "stream",
     "text": [
      "epoch: 220 loss:0.140719 auc:0.9808\n",
      "Fit finished.\n",
      "epoch:   0 loss:1.074414 auc:0.5540\n",
      "epoch:  20 loss:0.299604 auc:0.9709\n",
      "epoch:  40 loss:0.238442 auc:0.9771\n",
      "epoch:  60 loss:0.189986 auc:0.9765\n",
      "epoch:  80 loss:0.176328 auc:0.9765\n",
      "epoch: 100 loss:0.167574 auc:0.9758\n",
      "epoch: 120 loss:0.158707 auc:0.9751\n",
      "epoch: 140 loss:0.150120 auc:0.9730\n",
      "epoch: 160 loss:0.146911 auc:0.9730\n",
      "epoch: 180 loss:0.144983 auc:0.9723\n"
     ]
    },
    {
     "name": "stderr",
     "output_type": "stream",
     "text": [
      " 95%|█████████▌| 868/910 [7:00:47<04:53,  6.99s/it]"
     ]
    },
    {
     "name": "stdout",
     "output_type": "stream",
     "text": [
      "epoch: 200 loss:0.143464 auc:0.9716\n",
      "Fit finished.\n",
      "epoch:   0 loss:0.643125 auc:0.6367\n",
      "epoch:  20 loss:0.271412 auc:1.0000\n",
      "epoch:  40 loss:0.194309 auc:1.0000\n",
      "epoch:  60 loss:0.177871 auc:1.0000\n",
      "epoch:  80 loss:0.168477 auc:1.0000\n",
      "epoch: 100 loss:0.158063 auc:1.0000\n",
      "epoch: 120 loss:0.149492 auc:0.9961\n",
      "epoch: 140 loss:0.146400 auc:0.9961\n",
      "epoch: 160 loss:0.146779 auc:0.9961\n"
     ]
    },
    {
     "name": "stderr",
     "output_type": "stream",
     "text": [
      " 95%|█████████▌| 869/910 [7:00:50<04:05,  6.00s/it]"
     ]
    },
    {
     "name": "stdout",
     "output_type": "stream",
     "text": [
      "epoch: 180 loss:0.142732 auc:0.9961\n",
      "Fit finished.\n",
      "epoch:   0 loss:0.975360 auc:0.0901\n",
      "epoch:  20 loss:0.288160 auc:0.9816\n",
      "epoch:  40 loss:0.219494 auc:0.9849\n",
      "epoch:  60 loss:0.181783 auc:0.9855\n",
      "epoch:  80 loss:0.170574 auc:0.9875\n",
      "epoch: 100 loss:0.160858 auc:0.9875\n",
      "epoch: 120 loss:0.150820 auc:0.9875\n",
      "epoch: 140 loss:0.147496 auc:0.9882\n",
      "epoch: 160 loss:0.145189 auc:0.9888\n",
      "epoch: 180 loss:0.143710 auc:0.9895\n",
      "epoch: 200 loss:0.142405 auc:0.9901\n",
      "epoch: 220 loss:0.140162 auc:0.9855\n"
     ]
    },
    {
     "name": "stderr",
     "output_type": "stream",
     "text": [
      " 96%|█████████▌| 870/910 [7:00:55<03:39,  5.48s/it]"
     ]
    },
    {
     "name": "stdout",
     "output_type": "stream",
     "text": [
      "epoch: 240 loss:0.139945 auc:0.9691\n",
      "Fit finished.\n",
      "epoch:   0 loss:0.512798 auc:0.4894\n",
      "epoch:  20 loss:0.230542 auc:0.9598\n",
      "epoch:  40 loss:0.180734 auc:0.9620\n",
      "epoch:  60 loss:0.166972 auc:0.9657\n",
      "epoch:  80 loss:0.154416 auc:0.9657\n",
      "epoch: 100 loss:0.148258 auc:0.9715\n",
      "epoch: 120 loss:0.145580 auc:0.9752\n",
      "epoch: 140 loss:0.145160 auc:0.9752\n",
      "epoch: 160 loss:0.142127 auc:0.9774\n",
      "epoch: 180 loss:0.140698 auc:0.9715\n"
     ]
    },
    {
     "name": "stderr",
     "output_type": "stream",
     "text": [
      " 96%|█████████▌| 871/910 [7:01:00<03:25,  5.28s/it]"
     ]
    },
    {
     "name": "stdout",
     "output_type": "stream",
     "text": [
      "epoch: 200 loss:0.138566 auc:0.9547\n",
      "Fit finished.\n",
      "epoch:   0 loss:1.061979 auc:0.8892\n",
      "epoch:  20 loss:0.280121 auc:0.9474\n",
      "epoch:  40 loss:0.207417 auc:0.9584\n",
      "epoch:  60 loss:0.179531 auc:0.9584\n",
      "epoch:  80 loss:0.168866 auc:0.9557\n",
      "epoch: 100 loss:0.160012 auc:0.9584\n",
      "epoch: 120 loss:0.151153 auc:0.9584\n",
      "epoch: 140 loss:0.147904 auc:0.9584\n",
      "epoch: 160 loss:0.145755 auc:0.9584\n",
      "epoch: 180 loss:0.144129 auc:0.9584\n",
      "epoch: 200 loss:0.142589 auc:0.9584\n",
      "epoch: 220 loss:0.142384 auc:0.9640\n",
      "epoch: 240 loss:0.139471 auc:0.9640\n",
      "epoch: 260 loss:0.137529 auc:0.9668\n",
      "epoch: 280 loss:0.136130 auc:0.9668\n",
      "epoch: 300 loss:0.134937 auc:0.9668\n",
      "epoch: 320 loss:0.133673 auc:0.9668\n",
      "epoch: 340 loss:0.132888 auc:0.9584\n",
      "epoch: 360 loss:0.130242 auc:0.9668\n",
      "epoch: 380 loss:0.128826 auc:0.9640\n",
      "epoch: 400 loss:0.127380 auc:0.9668\n",
      "epoch: 420 loss:0.126911 auc:0.9668\n",
      "epoch: 440 loss:0.125345 auc:0.9695\n",
      "epoch: 460 loss:0.123361 auc:0.9695\n",
      "epoch: 480 loss:0.123246 auc:0.9695\n",
      "epoch: 500 loss:0.121115 auc:0.9695\n",
      "epoch: 520 loss:0.121212 auc:0.9695\n",
      "epoch: 540 loss:0.122619 auc:0.9695\n",
      "epoch: 560 loss:0.119720 auc:0.9695\n",
      "epoch: 580 loss:0.118968 auc:0.9695\n",
      "epoch: 600 loss:0.116084 auc:0.9695\n",
      "epoch: 620 loss:0.115057 auc:0.9695\n"
     ]
    },
    {
     "name": "stderr",
     "output_type": "stream",
     "text": [
      " 96%|█████████▌| 873/910 [7:01:12<03:32,  5.73s/it]"
     ]
    },
    {
     "name": "stdout",
     "output_type": "stream",
     "text": [
      "epoch: 640 loss:0.114829 auc:0.9668\n",
      "Fit finished.\n",
      "epoch:   0 loss:0.781729 auc:0.4800\n",
      "epoch:  20 loss:0.275121 auc:0.9844\n",
      "epoch:  40 loss:0.203499 auc:0.9856\n",
      "epoch:  60 loss:0.177242 auc:0.9869\n",
      "epoch:  80 loss:0.165952 auc:0.9863\n",
      "epoch: 100 loss:0.155216 auc:0.9869\n",
      "epoch: 120 loss:0.149149 auc:0.9869\n",
      "epoch: 140 loss:0.146542 auc:0.9863\n",
      "epoch: 160 loss:0.144722 auc:0.9856\n",
      "epoch: 180 loss:0.144652 auc:0.9856\n"
     ]
    },
    {
     "name": "stderr",
     "output_type": "stream",
     "text": [
      " 96%|█████████▌| 874/910 [7:01:16<03:08,  5.23s/it]"
     ]
    },
    {
     "name": "stdout",
     "output_type": "stream",
     "text": [
      "epoch: 200 loss:0.142361 auc:0.9844\n",
      "Fit finished.\n",
      "epoch:   0 loss:1.039691 auc:0.2830\n",
      "epoch:  20 loss:0.290388 auc:0.9823\n",
      "epoch:  40 loss:0.226746 auc:0.9875\n",
      "epoch:  60 loss:0.186369 auc:0.9917\n",
      "epoch:  80 loss:0.174849 auc:0.9927\n",
      "epoch: 100 loss:0.167179 auc:0.9927\n",
      "epoch: 120 loss:0.158665 auc:0.9927\n",
      "epoch: 140 loss:0.149895 auc:0.9927\n",
      "epoch: 160 loss:0.146876 auc:0.9927\n",
      "epoch: 180 loss:0.146261 auc:0.9927\n",
      "epoch: 200 loss:0.143214 auc:0.9927\n",
      "epoch: 220 loss:0.141861 auc:0.9938\n",
      "epoch: 240 loss:0.140007 auc:0.9990\n",
      "epoch: 260 loss:0.138631 auc:1.0000\n",
      "epoch: 280 loss:0.137892 auc:0.9979\n",
      "epoch: 300 loss:0.135776 auc:0.9979\n",
      "epoch: 320 loss:0.134566 auc:0.9979\n",
      "epoch: 340 loss:0.133144 auc:0.9969\n",
      "epoch: 360 loss:0.133738 auc:0.9969\n",
      "epoch: 380 loss:0.131147 auc:0.9969\n"
     ]
    },
    {
     "name": "stderr",
     "output_type": "stream",
     "text": [
      " 96%|█████████▌| 875/910 [7:01:23<03:22,  5.79s/it]"
     ]
    },
    {
     "name": "stdout",
     "output_type": "stream",
     "text": [
      "epoch: 400 loss:0.130709 auc:0.9958\n",
      "Fit finished.\n",
      "epoch:   0 loss:1.366857 auc:0.7334\n",
      "epoch:  20 loss:0.282638 auc:0.9821\n",
      "epoch:  40 loss:0.224593 auc:0.9821\n",
      "epoch:  60 loss:0.185512 auc:0.9821\n",
      "epoch:  80 loss:0.172535 auc:0.9809\n",
      "epoch: 100 loss:0.162552 auc:0.9796\n",
      "epoch: 120 loss:0.151915 auc:0.9796\n",
      "epoch: 140 loss:0.148015 auc:0.9809\n",
      "epoch: 160 loss:0.145953 auc:0.9809\n"
     ]
    },
    {
     "name": "stderr",
     "output_type": "stream",
     "text": [
      " 96%|█████████▋| 876/910 [7:01:27<02:55,  5.16s/it]"
     ]
    },
    {
     "name": "stdout",
     "output_type": "stream",
     "text": [
      "epoch: 180 loss:0.144350 auc:0.9796\n",
      "Fit finished.\n",
      "epoch:   0 loss:1.010500 auc:0.3952\n",
      "epoch:  20 loss:0.238070 auc:0.9920\n",
      "epoch:  40 loss:0.185282 auc:1.0000\n",
      "epoch:  60 loss:0.173080 auc:1.0000\n",
      "epoch:  80 loss:0.165917 auc:1.0000\n",
      "epoch: 100 loss:0.156688 auc:1.0000\n",
      "epoch: 120 loss:0.149289 auc:1.0000\n",
      "epoch: 140 loss:0.146674 auc:1.0000\n",
      "epoch: 160 loss:0.144794 auc:1.0000\n",
      "epoch: 180 loss:0.148246 auc:1.0000\n",
      "epoch: 200 loss:0.143208 auc:1.0000\n",
      "epoch: 220 loss:0.140286 auc:1.0000\n",
      "epoch: 240 loss:0.138666 auc:1.0000\n"
     ]
    },
    {
     "name": "stderr",
     "output_type": "stream",
     "text": [
      " 96%|█████████▋| 877/910 [7:01:31<02:47,  5.06s/it]"
     ]
    },
    {
     "name": "stdout",
     "output_type": "stream",
     "text": [
      "epoch: 260 loss:0.137202 auc:0.9984\n",
      "Fit finished.\n",
      "epoch:   0 loss:0.759307 auc:0.3506\n",
      "epoch:  20 loss:0.290524 auc:0.9896\n",
      "epoch:  40 loss:0.218770 auc:0.9926\n",
      "epoch:  60 loss:0.184977 auc:0.9941\n",
      "epoch:  80 loss:0.175441 auc:0.9926\n",
      "epoch: 100 loss:0.169091 auc:0.9926\n",
      "epoch: 120 loss:0.161460 auc:0.9926\n",
      "epoch: 140 loss:0.151312 auc:0.9926\n",
      "epoch: 160 loss:0.147035 auc:0.9926\n",
      "epoch: 180 loss:0.144722 auc:0.9926\n"
     ]
    },
    {
     "name": "stderr",
     "output_type": "stream",
     "text": [
      " 96%|█████████▋| 878/910 [7:01:35<02:30,  4.71s/it]"
     ]
    },
    {
     "name": "stdout",
     "output_type": "stream",
     "text": [
      "epoch: 200 loss:0.143366 auc:0.9911\n",
      "Fit finished.\n",
      "epoch:   0 loss:0.988728 auc:0.5208\n",
      "epoch:  20 loss:0.276595 auc:0.9891\n",
      "epoch:  40 loss:0.206578 auc:0.9887\n",
      "epoch:  60 loss:0.181129 auc:0.9905\n",
      "epoch:  80 loss:0.171663 auc:0.9896\n",
      "epoch: 100 loss:0.164579 auc:0.9896\n",
      "epoch: 120 loss:0.155907 auc:0.9891\n",
      "epoch: 140 loss:0.148928 auc:0.9891\n",
      "epoch: 160 loss:0.146268 auc:0.9891\n"
     ]
    },
    {
     "name": "stderr",
     "output_type": "stream",
     "text": [
      " 97%|█████████▋| 879/910 [7:01:39<02:13,  4.32s/it]"
     ]
    },
    {
     "name": "stdout",
     "output_type": "stream",
     "text": [
      "epoch: 180 loss:0.144462 auc:0.9887\n",
      "Fit finished.\n",
      "epoch:   0 loss:0.686949 auc:0.4121\n",
      "epoch:  20 loss:0.257982 auc:1.0000\n",
      "epoch:  40 loss:0.194136 auc:1.0000\n",
      "epoch:  60 loss:0.178315 auc:1.0000\n",
      "epoch:  80 loss:0.170265 auc:1.0000\n",
      "epoch: 100 loss:0.161416 auc:1.0000\n",
      "epoch: 120 loss:0.150183 auc:1.0000\n",
      "epoch: 140 loss:0.146409 auc:1.0000\n",
      "epoch: 160 loss:0.144369 auc:1.0000\n",
      "epoch: 180 loss:0.142551 auc:1.0000\n",
      "epoch: 200 loss:0.140190 auc:1.0000\n",
      "epoch: 220 loss:0.139336 auc:1.0000\n"
     ]
    },
    {
     "name": "stderr",
     "output_type": "stream",
     "text": [
      " 97%|█████████▋| 880/910 [7:01:43<02:10,  4.34s/it]"
     ]
    },
    {
     "name": "stdout",
     "output_type": "stream",
     "text": [
      "epoch: 240 loss:0.137310 auc:0.9981\n",
      "Fit finished.\n",
      "epoch:   0 loss:0.820351 auc:0.4480\n",
      "epoch:  20 loss:0.278339 auc:0.9698\n",
      "epoch:  40 loss:0.207248 auc:0.9698\n",
      "epoch:  60 loss:0.181353 auc:0.9698\n",
      "epoch:  80 loss:0.172405 auc:0.9660\n",
      "epoch: 100 loss:0.165960 auc:0.9679\n",
      "epoch: 120 loss:0.157769 auc:0.9679\n",
      "epoch: 140 loss:0.149942 auc:0.9679\n",
      "epoch: 160 loss:0.147260 auc:0.9679\n"
     ]
    },
    {
     "name": "stderr",
     "output_type": "stream",
     "text": [
      " 97%|█████████▋| 881/910 [7:01:48<02:07,  4.41s/it]"
     ]
    },
    {
     "name": "stdout",
     "output_type": "stream",
     "text": [
      "epoch: 180 loss:0.145361 auc:0.9679\n",
      "Fit finished.\n",
      "epoch:   0 loss:0.928165 auc:0.8526\n",
      "epoch:  20 loss:0.273114 auc:0.9917\n",
      "epoch:  40 loss:0.205014 auc:0.9929\n",
      "epoch:  60 loss:0.178463 auc:0.9952\n",
      "epoch:  80 loss:0.165817 auc:0.9952\n",
      "epoch: 100 loss:0.154878 auc:0.9976\n",
      "epoch: 120 loss:0.148887 auc:0.9976\n",
      "epoch: 140 loss:0.146311 auc:0.9976\n",
      "epoch: 160 loss:0.144501 auc:0.9976\n",
      "epoch: 180 loss:0.144221 auc:0.9976\n",
      "epoch: 200 loss:0.142101 auc:0.9976\n",
      "epoch: 220 loss:0.140504 auc:0.9988\n",
      "epoch: 240 loss:0.140845 auc:0.9988\n"
     ]
    },
    {
     "name": "stderr",
     "output_type": "stream",
     "text": [
      " 97%|█████████▋| 882/910 [7:01:54<02:17,  4.91s/it]"
     ]
    },
    {
     "name": "stdout",
     "output_type": "stream",
     "text": [
      "epoch: 260 loss:0.137041 auc:0.9941\n",
      "Fit finished.\n",
      "epoch:   0 loss:1.320189 auc:0.8125\n",
      "epoch:  20 loss:0.285604 auc:0.9350\n",
      "epoch:  40 loss:0.221278 auc:0.9375\n",
      "epoch:  60 loss:0.184675 auc:0.9400\n",
      "epoch:  80 loss:0.172136 auc:0.9450\n",
      "epoch: 100 loss:0.162964 auc:0.9450\n",
      "epoch: 120 loss:0.152277 auc:0.9375\n",
      "epoch: 140 loss:0.147755 auc:0.9375\n",
      "epoch: 160 loss:0.145608 auc:0.9375\n",
      "epoch: 180 loss:0.143968 auc:0.9400\n",
      "epoch: 200 loss:0.142661 auc:0.9425\n",
      "epoch: 220 loss:0.141073 auc:0.9500\n",
      "epoch: 240 loss:0.139516 auc:0.9600\n",
      "epoch: 260 loss:0.138047 auc:0.9625\n",
      "epoch: 280 loss:0.142963 auc:0.9675\n",
      "epoch: 300 loss:0.135519 auc:0.9675\n",
      "epoch: 320 loss:0.134204 auc:0.9675\n",
      "epoch: 340 loss:0.136378 auc:0.9700\n",
      "epoch: 360 loss:0.132110 auc:0.9675\n",
      "epoch: 380 loss:0.133135 auc:0.9675\n",
      "epoch: 400 loss:0.130460 auc:0.9650\n",
      "epoch: 420 loss:0.132312 auc:0.9650\n"
     ]
    },
    {
     "name": "stderr",
     "output_type": "stream",
     "text": [
      " 97%|█████████▋| 883/910 [7:02:01<02:35,  5.78s/it]"
     ]
    },
    {
     "name": "stdout",
     "output_type": "stream",
     "text": [
      "epoch: 440 loss:0.129360 auc:0.9650\n",
      "Fit finished.\n",
      "epoch:   0 loss:0.659051 auc:0.6332\n",
      "epoch:  20 loss:0.252594 auc:0.9099\n",
      "epoch:  40 loss:0.190680 auc:0.9138\n",
      "epoch:  60 loss:0.175854 auc:0.9161\n",
      "epoch:  80 loss:0.168520 auc:0.9178\n",
      "epoch: 100 loss:0.159420 auc:0.9212\n",
      "epoch: 120 loss:0.149187 auc:0.9201\n",
      "epoch: 140 loss:0.146018 auc:0.9184\n",
      "epoch: 160 loss:0.146190 auc:0.9184\n"
     ]
    },
    {
     "name": "stderr",
     "output_type": "stream",
     "text": [
      " 97%|█████████▋| 884/910 [7:02:05<02:11,  5.05s/it]"
     ]
    },
    {
     "name": "stdout",
     "output_type": "stream",
     "text": [
      "epoch: 180 loss:0.142923 auc:0.8974\n",
      "Fit finished.\n",
      "epoch:   0 loss:0.768225 auc:0.6728\n",
      "epoch:  20 loss:0.256921 auc:0.9846\n",
      "epoch:  40 loss:0.191506 auc:0.9815\n",
      "epoch:  60 loss:0.175261 auc:0.9846\n",
      "epoch:  80 loss:0.166506 auc:0.9877\n",
      "epoch: 100 loss:0.157052 auc:0.9877\n",
      "epoch: 120 loss:0.149521 auc:0.9877\n",
      "epoch: 140 loss:0.146708 auc:0.9877\n",
      "epoch: 160 loss:0.144531 auc:0.9877\n",
      "epoch: 180 loss:0.142626 auc:0.9907\n",
      "epoch: 200 loss:0.140935 auc:0.9907\n",
      "epoch: 220 loss:0.140519 auc:0.9907\n",
      "epoch: 240 loss:0.136929 auc:0.9938\n",
      "epoch: 260 loss:0.136805 auc:0.9938\n",
      "epoch: 280 loss:0.133618 auc:0.9938\n",
      "epoch: 300 loss:0.134933 auc:0.9938\n",
      "epoch: 320 loss:0.131529 auc:0.9938\n",
      "epoch: 340 loss:0.128626 auc:0.9938\n",
      "epoch: 360 loss:0.132844 auc:0.9938\n",
      "epoch: 380 loss:0.125306 auc:0.9938\n",
      "epoch: 400 loss:0.123636 auc:0.9938\n"
     ]
    },
    {
     "name": "stderr",
     "output_type": "stream",
     "text": [
      " 97%|█████████▋| 885/910 [7:02:13<02:28,  5.93s/it]"
     ]
    },
    {
     "name": "stdout",
     "output_type": "stream",
     "text": [
      "epoch: 420 loss:0.123970 auc:0.9846\n",
      "Fit finished.\n",
      "epoch:   0 loss:1.237730 auc:0.7562\n",
      "epoch:  20 loss:0.275068 auc:0.8514\n",
      "epoch:  40 loss:0.207231 auc:0.8502\n",
      "epoch:  60 loss:0.177704 auc:0.8478\n",
      "epoch:  80 loss:0.166516 auc:0.8442\n",
      "epoch: 100 loss:0.155531 auc:0.8478\n",
      "epoch: 120 loss:0.149535 auc:0.8478\n",
      "epoch: 140 loss:0.146972 auc:0.8490\n",
      "epoch: 160 loss:0.145085 auc:0.8478\n",
      "epoch: 180 loss:0.153105 auc:0.8526\n",
      "epoch: 200 loss:0.142659 auc:0.8502\n",
      "epoch: 220 loss:0.141063 auc:0.8549\n",
      "epoch: 240 loss:0.139279 auc:0.8502\n",
      "epoch: 260 loss:0.138024 auc:0.8561\n"
     ]
    },
    {
     "name": "stderr",
     "output_type": "stream",
     "text": [
      " 97%|█████████▋| 886/910 [7:02:18<02:16,  5.68s/it]"
     ]
    },
    {
     "name": "stdout",
     "output_type": "stream",
     "text": [
      "epoch: 280 loss:0.136604 auc:0.8395\n",
      "Fit finished.\n",
      "epoch:   0 loss:0.913102 auc:0.7531\n",
      "epoch:  20 loss:0.292546 auc:1.0000\n",
      "epoch:  40 loss:0.231065 auc:1.0000\n",
      "epoch:  60 loss:0.185908 auc:1.0000\n",
      "epoch:  80 loss:0.171970 auc:1.0000\n",
      "epoch: 100 loss:0.162791 auc:1.0000\n",
      "epoch: 120 loss:0.153400 auc:1.0000\n",
      "epoch: 140 loss:0.148789 auc:1.0000\n",
      "epoch: 160 loss:0.146579 auc:1.0000\n",
      "epoch: 180 loss:0.144886 auc:1.0000\n",
      "epoch: 200 loss:0.143506 auc:1.0000\n",
      "epoch: 220 loss:0.142163 auc:1.0000\n",
      "epoch: 240 loss:0.142245 auc:1.0000\n",
      "epoch: 260 loss:0.139253 auc:1.0000\n",
      "epoch: 280 loss:0.137733 auc:1.0000\n",
      "epoch: 300 loss:0.136779 auc:1.0000\n"
     ]
    },
    {
     "name": "stderr",
     "output_type": "stream",
     "text": [
      " 97%|█████████▋| 887/910 [7:02:24<02:12,  5.78s/it]"
     ]
    },
    {
     "name": "stdout",
     "output_type": "stream",
     "text": [
      "epoch: 320 loss:0.135211 auc:0.9969\n",
      "Fit finished.\n",
      "epoch:   0 loss:0.706929 auc:0.7830\n",
      "epoch:  20 loss:0.292179 auc:0.9653\n",
      "epoch:  40 loss:0.226683 auc:0.9774\n",
      "epoch:  60 loss:0.183124 auc:0.9792\n",
      "epoch:  80 loss:0.167592 auc:0.9757\n",
      "epoch: 100 loss:0.155717 auc:0.9757\n",
      "epoch: 120 loss:0.149567 auc:0.9792\n",
      "epoch: 140 loss:0.146794 auc:0.9792\n",
      "epoch: 160 loss:0.144951 auc:0.9774\n",
      "epoch: 180 loss:0.143719 auc:0.9774\n",
      "epoch: 200 loss:0.142337 auc:0.9774\n"
     ]
    },
    {
     "name": "stderr",
     "output_type": "stream",
     "text": [
      " 98%|█████████▊| 888/910 [7:02:28<01:58,  5.39s/it]"
     ]
    },
    {
     "name": "stdout",
     "output_type": "stream",
     "text": [
      "epoch: 220 loss:0.142632 auc:0.9722\n",
      "Fit finished.\n",
      "epoch:   0 loss:0.697959 auc:0.1796\n",
      "epoch:  20 loss:0.254315 auc:0.9754\n",
      "epoch:  40 loss:0.185662 auc:0.9792\n",
      "epoch:  60 loss:0.170960 auc:0.9811\n",
      "epoch:  80 loss:0.158279 auc:0.9811\n",
      "epoch: 100 loss:0.149323 auc:0.9811\n",
      "epoch: 120 loss:0.146342 auc:0.9811\n",
      "epoch: 140 loss:0.143455 auc:0.9811\n",
      "epoch: 160 loss:0.144841 auc:0.9830\n",
      "epoch: 180 loss:0.139435 auc:0.9830\n"
     ]
    },
    {
     "name": "stderr",
     "output_type": "stream",
     "text": [
      " 98%|█████████▊| 889/910 [7:02:32<01:43,  4.94s/it]"
     ]
    },
    {
     "name": "stdout",
     "output_type": "stream",
     "text": [
      "epoch: 200 loss:0.141268 auc:0.9679\n",
      "Fit finished.\n",
      "epoch:   0 loss:1.202809 auc:0.4958\n",
      "epoch:  20 loss:0.288348 auc:1.0000\n",
      "epoch:  40 loss:0.218828 auc:1.0000\n",
      "epoch:  60 loss:0.182267 auc:1.0000\n",
      "epoch:  80 loss:0.170913 auc:1.0000\n",
      "epoch: 100 loss:0.162786 auc:1.0000\n",
      "epoch: 120 loss:0.153349 auc:1.0000\n",
      "epoch: 140 loss:0.148057 auc:1.0000\n",
      "epoch: 160 loss:0.145712 auc:1.0000\n",
      "epoch: 180 loss:0.144336 auc:1.0000\n",
      "epoch: 200 loss:0.142663 auc:1.0000\n",
      "epoch: 220 loss:0.141498 auc:1.0000\n"
     ]
    },
    {
     "name": "stderr",
     "output_type": "stream",
     "text": [
      " 98%|█████████▊| 890/910 [7:02:38<01:43,  5.16s/it]"
     ]
    },
    {
     "name": "stdout",
     "output_type": "stream",
     "text": [
      "epoch: 240 loss:0.139749 auc:0.9976\n",
      "Fit finished.\n",
      "epoch:   0 loss:0.937567 auc:0.4572\n",
      "epoch:  20 loss:0.270888 auc:0.9632\n",
      "epoch:  40 loss:0.197144 auc:0.9704\n",
      "epoch:  60 loss:0.176941 auc:0.9748\n",
      "epoch:  80 loss:0.165982 auc:0.9764\n",
      "epoch: 100 loss:0.154370 auc:0.9752\n",
      "epoch: 120 loss:0.148527 auc:0.9752\n",
      "epoch: 140 loss:0.146828 auc:0.9732\n",
      "epoch: 160 loss:0.144360 auc:0.9716\n"
     ]
    },
    {
     "name": "stderr",
     "output_type": "stream",
     "text": [
      " 98%|█████████▊| 891/910 [7:02:41<01:27,  4.62s/it]"
     ]
    },
    {
     "name": "stdout",
     "output_type": "stream",
     "text": [
      "epoch: 180 loss:0.143564 auc:0.9616\n",
      "Fit finished.\n",
      "epoch:   0 loss:1.147716 auc:0.4340\n",
      "epoch:  20 loss:0.291743 auc:0.9497\n",
      "epoch:  40 loss:0.234710 auc:0.9601\n",
      "epoch:  60 loss:0.188296 auc:0.9618\n",
      "epoch:  80 loss:0.174136 auc:0.9653\n",
      "epoch: 100 loss:0.164449 auc:0.9670\n",
      "epoch: 120 loss:0.154870 auc:0.9670\n",
      "epoch: 140 loss:0.149205 auc:0.9670\n",
      "epoch: 160 loss:0.146762 auc:0.9670\n",
      "epoch: 180 loss:0.145025 auc:0.9653\n",
      "epoch: 200 loss:0.143817 auc:0.9653\n",
      "epoch: 220 loss:0.142666 auc:0.9653\n",
      "epoch: 240 loss:0.141740 auc:0.9653\n"
     ]
    },
    {
     "name": "stderr",
     "output_type": "stream",
     "text": [
      " 98%|█████████▊| 892/910 [7:02:46<01:23,  4.65s/it]"
     ]
    },
    {
     "name": "stdout",
     "output_type": "stream",
     "text": [
      "epoch: 260 loss:0.140629 auc:0.9653\n",
      "Fit finished.\n",
      "epoch:   0 loss:0.811767 auc:0.3243\n",
      "epoch:  20 loss:0.266966 auc:0.9751\n",
      "epoch:  40 loss:0.189284 auc:0.9773\n",
      "epoch:  60 loss:0.174978 auc:0.9773\n",
      "epoch:  80 loss:0.167117 auc:0.9773\n",
      "epoch: 100 loss:0.157723 auc:0.9773\n",
      "epoch: 120 loss:0.149119 auc:0.9773\n",
      "epoch: 140 loss:0.146277 auc:0.9773\n",
      "epoch: 160 loss:0.143969 auc:0.9751\n",
      "epoch: 180 loss:0.142015 auc:0.9773\n"
     ]
    },
    {
     "name": "stderr",
     "output_type": "stream",
     "text": [
      " 98%|█████████▊| 893/910 [7:02:50<01:16,  4.49s/it]"
     ]
    },
    {
     "name": "stdout",
     "output_type": "stream",
     "text": [
      "epoch: 200 loss:0.143515 auc:0.9751\n",
      "Fit finished.\n",
      "epoch:   0 loss:0.539160 auc:0.4077\n",
      "epoch:  20 loss:0.245179 auc:0.9663\n",
      "epoch:  40 loss:0.185151 auc:0.9692\n",
      "epoch:  60 loss:0.168015 auc:0.9729\n",
      "epoch:  80 loss:0.153975 auc:0.9733\n",
      "epoch: 100 loss:0.148350 auc:0.9754\n",
      "epoch: 120 loss:0.145777 auc:0.9729\n",
      "epoch: 140 loss:0.143654 auc:0.9704\n",
      "epoch: 160 loss:0.141671 auc:0.9613\n"
     ]
    },
    {
     "name": "stderr",
     "output_type": "stream",
     "text": [
      " 98%|█████████▊| 895/910 [7:02:54<00:48,  3.26s/it]"
     ]
    },
    {
     "name": "stdout",
     "output_type": "stream",
     "text": [
      "epoch: 180 loss:0.139376 auc:0.9317\n",
      "Fit finished.\n",
      "epoch:   0 loss:0.796162 auc:0.4472\n",
      "epoch:  20 loss:0.271737 auc:0.9959\n",
      "epoch:  40 loss:0.198561 auc:0.9945\n",
      "epoch:  60 loss:0.180412 auc:0.9959\n",
      "epoch:  80 loss:0.172335 auc:0.9959\n",
      "epoch: 100 loss:0.166040 auc:0.9959\n",
      "epoch: 120 loss:0.157700 auc:0.9959\n",
      "epoch: 140 loss:0.149552 auc:0.9959\n",
      "epoch: 160 loss:0.146840 auc:0.9959\n",
      "epoch: 180 loss:0.145030 auc:0.9959\n",
      "epoch: 200 loss:0.143475 auc:0.9945\n"
     ]
    },
    {
     "name": "stderr",
     "output_type": "stream",
     "text": [
      " 98%|█████████▊| 896/910 [7:02:58<00:49,  3.50s/it]"
     ]
    },
    {
     "name": "stdout",
     "output_type": "stream",
     "text": [
      "epoch: 220 loss:0.141861 auc:0.9931\n",
      "Fit finished.\n",
      "epoch:   0 loss:0.857337 auc:0.3159\n",
      "epoch:  20 loss:0.279926 auc:0.9936\n",
      "epoch:  40 loss:0.206344 auc:0.9963\n",
      "epoch:  60 loss:0.179356 auc:0.9982\n",
      "epoch:  80 loss:0.169043 auc:0.9982\n",
      "epoch: 100 loss:0.159584 auc:0.9982\n",
      "epoch: 120 loss:0.150245 auc:0.9972\n",
      "epoch: 140 loss:0.147258 auc:0.9972\n",
      "epoch: 160 loss:0.145298 auc:0.9972\n",
      "epoch: 180 loss:0.143590 auc:0.9982\n",
      "epoch: 200 loss:0.145454 auc:0.9982\n",
      "epoch: 220 loss:0.140673 auc:0.9991\n",
      "epoch: 240 loss:0.138818 auc:0.9991\n",
      "epoch: 260 loss:0.136873 auc:0.9991\n",
      "epoch: 280 loss:0.135932 auc:0.9982\n"
     ]
    },
    {
     "name": "stderr",
     "output_type": "stream",
     "text": [
      " 99%|█████████▊| 897/910 [7:03:04<00:53,  4.14s/it]"
     ]
    },
    {
     "name": "stdout",
     "output_type": "stream",
     "text": [
      "epoch: 300 loss:0.135146 auc:0.9936\n",
      "Fit finished.\n",
      "epoch:   0 loss:0.810798 auc:0.3776\n",
      "epoch:  20 loss:0.281231 auc:0.9376\n",
      "epoch:  40 loss:0.218154 auc:0.9488\n",
      "epoch:  60 loss:0.183287 auc:0.9456\n",
      "epoch:  80 loss:0.172732 auc:0.9456\n",
      "epoch: 100 loss:0.164542 auc:0.9440\n",
      "epoch: 120 loss:0.154258 auc:0.9440\n",
      "epoch: 140 loss:0.148550 auc:0.9408\n",
      "epoch: 160 loss:0.145950 auc:0.9408\n",
      "epoch: 180 loss:0.143867 auc:0.9472\n"
     ]
    },
    {
     "name": "stderr",
     "output_type": "stream",
     "text": [
      " 99%|█████████▊| 898/910 [7:03:08<00:50,  4.19s/it]"
     ]
    },
    {
     "name": "stdout",
     "output_type": "stream",
     "text": [
      "epoch: 200 loss:0.142361 auc:0.9392\n",
      "Fit finished.\n",
      "epoch:   0 loss:0.587571 auc:0.7456\n",
      "epoch:  20 loss:0.261523 auc:0.9385\n",
      "epoch:  40 loss:0.191111 auc:0.9403\n",
      "epoch:  60 loss:0.176946 auc:0.9385\n",
      "epoch:  80 loss:0.169874 auc:0.9376\n",
      "epoch: 100 loss:0.160832 auc:0.9376\n",
      "epoch: 120 loss:0.149839 auc:0.9376\n",
      "epoch: 140 loss:0.146349 auc:0.9366\n",
      "epoch: 160 loss:0.146007 auc:0.9412\n",
      "epoch: 180 loss:0.142882 auc:0.9431\n",
      "epoch: 200 loss:0.141071 auc:0.9513\n",
      "epoch: 220 loss:0.145430 auc:0.9467\n",
      "epoch: 240 loss:0.138313 auc:0.9587\n",
      "epoch: 260 loss:0.135841 auc:0.9596\n"
     ]
    },
    {
     "name": "stderr",
     "output_type": "stream",
     "text": [
      " 99%|█████████▉| 899/910 [7:03:14<00:51,  4.68s/it]"
     ]
    },
    {
     "name": "stdout",
     "output_type": "stream",
     "text": [
      "epoch: 280 loss:0.138410 auc:0.9357\n",
      "Fit finished.\n",
      "epoch:   0 loss:0.685805 auc:0.2199\n",
      "epoch:  20 loss:0.208036 auc:0.9927\n",
      "epoch:  40 loss:0.178837 auc:0.9927\n",
      "epoch:  60 loss:0.167928 auc:0.9920\n",
      "epoch:  80 loss:0.156218 auc:0.9934\n",
      "epoch: 100 loss:0.148942 auc:0.9934\n",
      "epoch: 120 loss:0.145729 auc:0.9934\n",
      "epoch: 140 loss:0.143450 auc:0.9912\n",
      "epoch: 160 loss:0.141064 auc:0.9912\n"
     ]
    },
    {
     "name": "stderr",
     "output_type": "stream",
     "text": [
      " 99%|█████████▉| 900/910 [7:03:18<00:43,  4.32s/it]"
     ]
    },
    {
     "name": "stdout",
     "output_type": "stream",
     "text": [
      "epoch: 180 loss:0.138433 auc:0.9883\n",
      "Fit finished.\n",
      "epoch:   0 loss:0.840632 auc:0.3908\n",
      "epoch:  20 loss:0.264396 auc:0.9234\n",
      "epoch:  40 loss:0.191402 auc:0.9258\n",
      "epoch:  60 loss:0.175561 auc:0.9400\n",
      "epoch:  80 loss:0.168170 auc:0.9390\n",
      "epoch: 100 loss:0.160671 auc:0.9381\n",
      "epoch: 120 loss:0.152097 auc:0.9386\n",
      "epoch: 140 loss:0.147685 auc:0.9405\n",
      "epoch: 160 loss:0.145441 auc:0.9433\n",
      "epoch: 180 loss:0.144106 auc:0.9419\n",
      "epoch: 200 loss:0.141884 auc:0.9357\n"
     ]
    },
    {
     "name": "stderr",
     "output_type": "stream",
     "text": [
      " 99%|█████████▉| 901/910 [7:03:22<00:38,  4.28s/it]"
     ]
    },
    {
     "name": "stdout",
     "output_type": "stream",
     "text": [
      "epoch: 220 loss:0.142947 auc:0.9230\n",
      "Fit finished.\n",
      "epoch:   0 loss:0.713623 auc:0.5173\n",
      "epoch:  20 loss:0.290712 auc:0.9412\n",
      "epoch:  40 loss:0.215298 auc:0.9443\n",
      "epoch:  60 loss:0.179613 auc:0.9441\n",
      "epoch:  80 loss:0.168404 auc:0.9465\n",
      "epoch: 100 loss:0.158472 auc:0.9492\n",
      "epoch: 120 loss:0.149437 auc:0.9492\n",
      "epoch: 140 loss:0.146485 auc:0.9546\n",
      "epoch: 160 loss:0.144382 auc:0.9551\n",
      "epoch: 180 loss:0.143269 auc:0.9539\n"
     ]
    },
    {
     "name": "stderr",
     "output_type": "stream",
     "text": [
      " 99%|█████████▉| 902/910 [7:03:26<00:33,  4.16s/it]"
     ]
    },
    {
     "name": "stdout",
     "output_type": "stream",
     "text": [
      "epoch: 200 loss:0.141071 auc:0.8779\n",
      "Fit finished.\n",
      "epoch:   0 loss:0.669769 auc:0.6378\n",
      "epoch:  20 loss:0.278178 auc:1.0000\n",
      "epoch:  40 loss:0.204359 auc:1.0000\n",
      "epoch:  60 loss:0.176356 auc:1.0000\n",
      "epoch:  80 loss:0.165380 auc:1.0000\n",
      "epoch: 100 loss:0.155148 auc:1.0000\n",
      "epoch: 120 loss:0.148728 auc:1.0000\n",
      "epoch: 140 loss:0.146124 auc:1.0000\n",
      "epoch: 160 loss:0.144207 auc:1.0000\n",
      "epoch: 180 loss:0.143054 auc:1.0000\n",
      "epoch: 200 loss:0.141276 auc:1.0000\n"
     ]
    },
    {
     "name": "stderr",
     "output_type": "stream",
     "text": [
      " 99%|█████████▉| 903/910 [7:04:26<02:25, 20.74s/it]"
     ]
    },
    {
     "name": "stdout",
     "output_type": "stream",
     "text": [
      "epoch: 220 loss:0.139280 auc:0.9949\n",
      "Fit finished.\n",
      "epoch:   0 loss:0.553180 auc:0.2951\n",
      "epoch:  20 loss:0.198174 auc:0.9737\n",
      "epoch:  40 loss:0.175926 auc:0.9788\n",
      "epoch:  60 loss:0.165907 auc:0.9781\n",
      "epoch:  80 loss:0.153909 auc:0.9788\n",
      "epoch: 100 loss:0.148366 auc:0.9788\n",
      "epoch: 120 loss:0.144943 auc:0.9781\n",
      "epoch: 140 loss:0.143927 auc:0.9781\n",
      "epoch: 160 loss:0.141675 auc:0.9766\n",
      "epoch: 180 loss:0.137994 auc:0.9766\n"
     ]
    },
    {
     "name": "stderr",
     "output_type": "stream",
     "text": [
      " 99%|█████████▉| 904/910 [7:04:30<01:34, 15.75s/it]"
     ]
    },
    {
     "name": "stdout",
     "output_type": "stream",
     "text": [
      "epoch: 200 loss:0.135972 auc:0.9686\n",
      "Fit finished.\n",
      "epoch:   0 loss:0.544987 auc:0.3148\n",
      "epoch:  20 loss:0.210401 auc:1.0000\n",
      "epoch:  40 loss:0.175157 auc:1.0000\n",
      "epoch:  60 loss:0.161498 auc:1.0000\n",
      "epoch:  80 loss:0.150257 auc:1.0000\n",
      "epoch: 100 loss:0.146899 auc:1.0000\n",
      "epoch: 120 loss:0.143807 auc:1.0000\n",
      "epoch: 140 loss:0.141744 auc:1.0000\n",
      "epoch: 160 loss:0.138355 auc:0.9938\n"
     ]
    },
    {
     "name": "stderr",
     "output_type": "stream",
     "text": [
      " 99%|█████████▉| 905/910 [7:04:34<01:01, 12.35s/it]"
     ]
    },
    {
     "name": "stdout",
     "output_type": "stream",
     "text": [
      "epoch: 180 loss:0.137423 auc:0.9877\n",
      "Fit finished.\n",
      "epoch:   0 loss:0.979766 auc:0.7172\n",
      "epoch:  20 loss:0.278375 auc:0.9660\n",
      "epoch:  40 loss:0.206551 auc:0.9715\n",
      "epoch:  60 loss:0.180279 auc:0.9752\n",
      "epoch:  80 loss:0.170552 auc:0.9780\n",
      "epoch: 100 loss:0.162813 auc:0.9789\n",
      "epoch: 120 loss:0.153604 auc:0.9789\n",
      "epoch: 140 loss:0.148506 auc:0.9789\n",
      "epoch: 160 loss:0.146234 auc:0.9789\n",
      "epoch: 180 loss:0.144561 auc:0.9789\n",
      "epoch: 200 loss:0.143225 auc:0.9780\n"
     ]
    },
    {
     "name": "stderr",
     "output_type": "stream",
     "text": [
      "100%|█████████▉| 906/910 [7:04:38<00:39,  9.88s/it]"
     ]
    },
    {
     "name": "stdout",
     "output_type": "stream",
     "text": [
      "epoch: 220 loss:0.141685 auc:0.9725\n",
      "Fit finished.\n",
      "epoch:   0 loss:1.022669 auc:0.5041\n",
      "epoch:  20 loss:0.280792 auc:0.8926\n",
      "epoch:  40 loss:0.215269 auc:0.8926\n",
      "epoch:  60 loss:0.182441 auc:0.8760\n",
      "epoch:  80 loss:0.171445 auc:0.8760\n",
      "epoch: 100 loss:0.161984 auc:0.8760\n",
      "epoch: 120 loss:0.151079 auc:0.8760\n",
      "epoch: 140 loss:0.147658 auc:0.8760\n",
      "epoch: 160 loss:0.148709 auc:0.8760\n"
     ]
    },
    {
     "name": "stderr",
     "output_type": "stream",
     "text": [
      "100%|█████████▉| 907/910 [7:04:42<00:23,  7.92s/it]"
     ]
    },
    {
     "name": "stdout",
     "output_type": "stream",
     "text": [
      "epoch: 180 loss:0.144708 auc:0.8760\n",
      "Fit finished.\n",
      "epoch:   0 loss:1.231037 auc:0.6116\n",
      "epoch:  20 loss:0.287304 auc:1.0000\n",
      "epoch:  40 loss:0.225921 auc:1.0000\n",
      "epoch:  60 loss:0.186634 auc:1.0000\n",
      "epoch:  80 loss:0.173016 auc:1.0000\n",
      "epoch: 100 loss:0.163620 auc:1.0000\n",
      "epoch: 120 loss:0.153672 auc:1.0000\n",
      "epoch: 140 loss:0.148653 auc:1.0000\n",
      "epoch: 160 loss:0.146258 auc:1.0000\n",
      "epoch: 180 loss:0.144470 auc:1.0000\n",
      "epoch: 200 loss:0.144307 auc:1.0000\n",
      "epoch: 220 loss:0.142027 auc:1.0000\n",
      "epoch: 240 loss:0.140280 auc:1.0000\n",
      "epoch: 260 loss:0.138632 auc:1.0000\n",
      "epoch: 280 loss:0.137139 auc:1.0000\n",
      "epoch: 300 loss:0.136897 auc:1.0000\n",
      "epoch: 320 loss:0.134669 auc:1.0000\n",
      "epoch: 340 loss:0.134535 auc:1.0000\n",
      "epoch: 360 loss:0.133298 auc:1.0000\n",
      "epoch: 380 loss:0.133369 auc:1.0000\n",
      "epoch: 400 loss:0.129782 auc:1.0000\n",
      "epoch: 420 loss:0.133274 auc:1.0000\n",
      "epoch: 440 loss:0.127697 auc:1.0000\n",
      "epoch: 460 loss:0.126126 auc:1.0000\n",
      "epoch: 480 loss:0.125034 auc:1.0000\n",
      "epoch: 500 loss:0.124762 auc:1.0000\n",
      "epoch: 520 loss:0.124827 auc:1.0000\n",
      "epoch: 540 loss:0.122264 auc:1.0000\n",
      "epoch: 560 loss:0.122702 auc:1.0000\n",
      "epoch: 580 loss:0.120039 auc:1.0000\n",
      "epoch: 600 loss:0.121187 auc:1.0000\n",
      "epoch: 620 loss:0.117901 auc:1.0000\n",
      "epoch: 640 loss:0.117918 auc:1.0000\n",
      "epoch: 660 loss:0.120543 auc:1.0000\n",
      "epoch: 680 loss:0.117287 auc:1.0000\n",
      "epoch: 700 loss:0.115212 auc:1.0000\n",
      "epoch: 720 loss:0.114202 auc:1.0000\n",
      "epoch: 740 loss:0.114239 auc:1.0000\n",
      "epoch: 760 loss:0.113831 auc:1.0000\n",
      "epoch: 780 loss:0.114242 auc:1.0000\n",
      "epoch: 800 loss:0.113519 auc:1.0000\n",
      "epoch: 820 loss:0.121171 auc:1.0000\n",
      "epoch: 840 loss:0.113027 auc:1.0000\n",
      "epoch: 860 loss:0.111462 auc:1.0000\n",
      "epoch: 880 loss:0.110708 auc:1.0000\n",
      "epoch: 900 loss:0.110252 auc:1.0000\n",
      "epoch: 920 loss:0.109890 auc:1.0000\n",
      "epoch: 940 loss:0.109882 auc:1.0000\n",
      "epoch: 960 loss:0.109412 auc:1.0000\n",
      "epoch: 980 loss:0.109693 auc:1.0000\n"
     ]
    },
    {
     "name": "stderr",
     "output_type": "stream",
     "text": [
      "100%|█████████▉| 908/910 [7:04:59<00:21, 10.57s/it]"
     ]
    },
    {
     "name": "stdout",
     "output_type": "stream",
     "text": [
      "Fit finished.\n",
      "epoch:   0 loss:0.589303 auc:0.6236\n",
      "epoch:  20 loss:0.252000 auc:0.9909\n",
      "epoch:  40 loss:0.185439 auc:0.9955\n",
      "epoch:  60 loss:0.169908 auc:0.9955\n",
      "epoch:  80 loss:0.158980 auc:0.9955\n",
      "epoch: 100 loss:0.150035 auc:0.9977\n",
      "epoch: 120 loss:0.146842 auc:0.9977\n",
      "epoch: 140 loss:0.144480 auc:0.9977\n",
      "epoch: 160 loss:0.142889 auc:0.9932\n"
     ]
    },
    {
     "name": "stderr",
     "output_type": "stream",
     "text": [
      "100%|█████████▉| 909/910 [7:05:02<00:08,  8.39s/it]"
     ]
    },
    {
     "name": "stdout",
     "output_type": "stream",
     "text": [
      "epoch: 180 loss:0.140800 auc:0.9887\n",
      "Fit finished.\n",
      "epoch:   0 loss:0.838027 auc:0.3195\n",
      "epoch:  20 loss:0.283678 auc:0.9763\n",
      "epoch:  40 loss:0.213976 auc:0.9941\n",
      "epoch:  60 loss:0.180790 auc:1.0000\n",
      "epoch:  80 loss:0.168512 auc:1.0000\n",
      "epoch: 100 loss:0.157620 auc:1.0000\n",
      "epoch: 120 loss:0.149817 auc:1.0000\n",
      "epoch: 140 loss:0.147086 auc:1.0000\n",
      "epoch: 160 loss:0.145076 auc:1.0000\n",
      "epoch: 180 loss:0.143743 auc:1.0000\n",
      "epoch: 200 loss:0.142123 auc:1.0000\n",
      "epoch: 220 loss:0.140528 auc:1.0000\n",
      "epoch: 240 loss:0.138898 auc:1.0000\n",
      "epoch: 260 loss:0.137008 auc:1.0000\n",
      "epoch: 280 loss:0.136257 auc:1.0000\n",
      "epoch: 300 loss:0.134628 auc:1.0000\n",
      "epoch: 320 loss:0.134524 auc:1.0000\n",
      "epoch: 340 loss:0.132480 auc:1.0000\n",
      "epoch: 360 loss:0.130270 auc:1.0000\n",
      "epoch: 380 loss:0.129698 auc:1.0000\n",
      "epoch: 400 loss:0.127505 auc:1.0000\n",
      "epoch: 420 loss:0.135042 auc:1.0000\n",
      "epoch: 440 loss:0.125218 auc:1.0000\n",
      "epoch: 460 loss:0.122986 auc:1.0000\n",
      "epoch: 480 loss:0.121311 auc:1.0000\n",
      "epoch: 500 loss:0.121276 auc:1.0000\n",
      "epoch: 520 loss:0.119031 auc:1.0000\n",
      "epoch: 540 loss:0.119657 auc:1.0000\n",
      "epoch: 560 loss:0.116974 auc:1.0000\n",
      "epoch: 580 loss:0.116024 auc:1.0000\n",
      "epoch: 600 loss:0.115305 auc:1.0000\n",
      "epoch: 620 loss:0.113433 auc:1.0000\n",
      "epoch: 640 loss:0.113256 auc:1.0000\n",
      "epoch: 660 loss:0.117139 auc:1.0000\n",
      "epoch: 680 loss:0.124620 auc:1.0000\n",
      "epoch: 700 loss:0.114361 auc:1.0000\n",
      "epoch: 720 loss:0.112195 auc:1.0000\n",
      "epoch: 740 loss:0.111188 auc:1.0000\n",
      "epoch: 760 loss:0.110534 auc:1.0000\n",
      "epoch: 780 loss:0.110009 auc:1.0000\n",
      "epoch: 800 loss:0.109531 auc:1.0000\n",
      "epoch: 820 loss:0.109101 auc:1.0000\n",
      "epoch: 840 loss:0.108700 auc:1.0000\n",
      "epoch: 860 loss:0.108337 auc:1.0000\n",
      "epoch: 880 loss:0.108095 auc:1.0000\n",
      "epoch: 900 loss:0.107918 auc:1.0000\n",
      "epoch: 920 loss:0.107506 auc:1.0000\n",
      "epoch: 940 loss:0.108086 auc:1.0000\n",
      "epoch: 960 loss:0.107536 auc:1.0000\n",
      "epoch: 980 loss:0.107000 auc:1.0000\n"
     ]
    },
    {
     "name": "stderr",
     "output_type": "stream",
     "text": [
      "100%|██████████| 910/910 [7:05:20<00:00, 28.04s/it]"
     ]
    },
    {
     "name": "stdout",
     "output_type": "stream",
     "text": [
      "Fit finished.\n"
     ]
    },
    {
     "name": "stderr",
     "output_type": "stream",
     "text": [
      "\n"
     ]
    }
   ],
   "source": [
    "n_kfold = 1\n",
    "true_data_s = pd.DataFrame()\n",
    "predict_data_s = pd.DataFrame()\n",
    "for dim in target_dim:\n",
    "    for seed, target_index in enumerate(tqdm(np.arange(res.shape[dim]))):\n",
    "        if dim:\n",
    "            if drug_sum[target_index] < 10:\n",
    "                continue\n",
    "        else:\n",
    "            if cell_sum[target_index] < 10:\n",
    "                continue\n",
    "        epochs = []\n",
    "        for fold in range(n_kfold):\n",
    "            true_data, predict_data = mofgcn_new(\n",
    "                exprs=exprs,\n",
    "                cna=cna,\n",
    "                mut=mut,\n",
    "                drug_finger=drug_finger,\n",
    "                res_mat=res,\n",
    "                null_mask=null_mask,\n",
    "                target_dim=dim,\n",
    "                target_index=target_index,\n",
    "                evaluate_fun=roc_auc,\n",
    "                args=args,\n",
    "                seed=seed,\n",
    "                device=device,\n",
    "            )\n",
    "\n",
    "        true_data_s = pd.concat(\n",
    "            [true_data_s, translate_result(true_data)], ignore_index=True\n",
    "        )\n",
    "        predict_data_s = pd.concat(\n",
    "            [predict_data_s, translate_result(predict_data)], ignore_index=True\n",
    "        )"
   ]
  },
  {
   "cell_type": "code",
   "execution_count": 7,
   "id": "ee74598b-d6ba-4763-81e3-4b54516ce071",
   "metadata": {},
   "outputs": [],
   "source": [
    "true_data_s.to_csv(f\"new_cell_true_{args.data}.csv\")\n",
    "predict_data_s.to_csv(f\"new_cell_pred_{args.data}.csv\")"
   ]
  },
  {
   "cell_type": "code",
   "execution_count": null,
   "id": "ffc0c1e3-9f77-41a8-829f-8e9a1bf52edb",
   "metadata": {},
   "outputs": [],
   "source": []
  },
  {
   "cell_type": "code",
   "execution_count": null,
   "id": "e68325c4-cbaa-4dc5-8958-2020b8ae7162",
   "metadata": {},
   "outputs": [],
   "source": []
  },
  {
   "cell_type": "code",
   "execution_count": null,
   "id": "185a0098-e177-4b95-82cc-58c735363c60",
   "metadata": {},
   "outputs": [],
   "source": []
  },
  {
   "cell_type": "code",
   "execution_count": null,
   "id": "ee3e9e61-1f5a-4e9c-abcd-c8a6a99201e3",
   "metadata": {},
   "outputs": [],
   "source": []
  },
  {
   "cell_type": "code",
   "execution_count": null,
   "id": "3c602424-24bb-4876-ad7c-157226a1db15",
   "metadata": {},
   "outputs": [],
   "source": []
  },
  {
   "cell_type": "code",
   "execution_count": null,
   "id": "bc598152-9bfd-49cb-94a1-e06bf3b9adfa",
   "metadata": {},
   "outputs": [],
   "source": []
  },
  {
   "cell_type": "code",
   "execution_count": null,
   "id": "3b2ae018-e508-46da-b0e6-0c4d3c803692",
   "metadata": {},
   "outputs": [],
   "source": []
  }
 ],
 "metadata": {
  "kernelspec": {
   "display_name": "torch",
   "language": "python",
   "name": "torch"
  },
  "language_info": {
   "codemirror_mode": {
    "name": "ipython",
    "version": 3
   },
   "file_extension": ".py",
   "mimetype": "text/x-python",
   "name": "python",
   "nbconvert_exporter": "python",
   "pygments_lexer": "ipython3",
   "version": "3.10.15"
  }
 },
 "nbformat": 4,
 "nbformat_minor": 5
}
