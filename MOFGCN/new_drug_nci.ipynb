{
 "cells": [
  {
   "cell_type": "code",
   "execution_count": 1,
   "id": "572a0fa8-b250-47bc-b76d-a2ec8c923717",
   "metadata": {},
   "outputs": [],
   "source": [
    "import argparse\n",
    "\n",
    "import numpy as np\n",
    "import pandas as pd\n",
    "import scipy.sparse as sp\n",
    "import torch\n",
    "from sklearn.model_selection import KFold\n",
    "from tqdm import tqdm"
   ]
  },
  {
   "cell_type": "code",
   "execution_count": 2,
   "id": "807ed612-b85a-46b4-9f14-9df64631581d",
   "metadata": {},
   "outputs": [],
   "source": [
    "%load_ext autoreload\n",
    "%autoreload 2\n",
    "\n",
    "from load_data import load_data\n",
    "from model import GModel\n",
    "from myutils import roc_auc, translate_result\n",
    "from optimizer import Optimizer\n",
    "from sampler import NewSampler"
   ]
  },
  {
   "cell_type": "code",
   "execution_count": 3,
   "id": "377e2120-1fee-4f37-acac-6b5693543ff4",
   "metadata": {},
   "outputs": [
    {
     "name": "stdout",
     "output_type": "stream",
     "text": [
      "load nci\n"
     ]
    }
   ],
   "source": [
    "class Args:\n",
    "    def __init__(self):\n",
    "        self.device = \"cpu\"  # cuda:number or cpu\n",
    "        self.data = \"nci\"  # Dataset{gdsc or ccle}\n",
    "\n",
    "\n",
    "args = Args()\n",
    "res, drug_finger, exprs, mut, cna, null_mask, pos_num = load_data(args)"
   ]
  },
  {
   "cell_type": "code",
   "execution_count": 4,
   "id": "e4830366-799a-4b1e-8395-7d4121b83a73",
   "metadata": {},
   "outputs": [],
   "source": [
    "cell_sum = np.sum(res, axis=1)\n",
    "drug_sum = np.sum(res, axis=0)\n",
    "\n",
    "target_dim = [\n",
    "    # 0,  # Cell\n",
    "    1  # Drug\n",
    "]\n",
    "device = torch.device(\"cuda\" if torch.cuda.is_available() else \"cpu\")"
   ]
  },
  {
   "cell_type": "code",
   "execution_count": 5,
   "id": "f7186080-2927-47ab-82ec-1334f60f6777",
   "metadata": {},
   "outputs": [],
   "source": [
    "def mofgcn_new(\n",
    "    exprs,\n",
    "    cna,\n",
    "    mut,\n",
    "    drug_finger,\n",
    "    res_mat,\n",
    "    null_mask,\n",
    "    target_dim,\n",
    "    target_index,\n",
    "    evaluate_fun,\n",
    "    args,\n",
    "    seed,\n",
    "    device,\n",
    "):\n",
    "    sampler = NewSampler(res_mat, null_mask, target_dim, target_index, seed)\n",
    "    model = GModel(\n",
    "        adj_mat=sampler.train_data,\n",
    "        gene=exprs,\n",
    "        cna=cna,\n",
    "        mutation=mut,\n",
    "        sigma=2,\n",
    "        k=11,\n",
    "        iterates=3,\n",
    "        feature_drug=drug_finger,\n",
    "        n_hid1=192,\n",
    "        n_hid2=36,\n",
    "        alpha=5.74,\n",
    "        device=device,\n",
    "    )\n",
    "    opt = Optimizer(\n",
    "        model,\n",
    "        sampler.train_data,\n",
    "        sampler.test_data,\n",
    "        sampler.test_mask,\n",
    "        sampler.train_mask,\n",
    "        roc_auc,\n",
    "        lr=5e-4,\n",
    "        epochs=1000,\n",
    "        device=device,\n",
    "    ).to(device)\n",
    "    epoch, true_data, predict_data = opt()\n",
    "    return true_data, predict_data"
   ]
  },
  {
   "cell_type": "code",
   "execution_count": 6,
   "id": "c23b7d83-33d7-4868-8981-12ae43bc19ec",
   "metadata": {
    "scrolled": true
   },
   "outputs": [
    {
     "name": "stderr",
     "output_type": "stream",
     "text": [
      "  0%|          | 0/1005 [00:00<?, ?it/s]"
     ]
    },
    {
     "name": "stdout",
     "output_type": "stream",
     "text": [
      "epoch:   0 loss:0.762612 auc:0.5275\n",
      "epoch:  20 loss:0.574920 auc:0.7285\n",
      "epoch:  40 loss:0.458052 auc:0.7237\n",
      "epoch:  60 loss:0.377173 auc:0.7225\n",
      "epoch:  80 loss:0.345345 auc:0.7225\n",
      "epoch: 100 loss:0.331268 auc:0.7285\n",
      "epoch: 120 loss:0.323708 auc:0.7237\n",
      "epoch: 140 loss:0.319147 auc:0.7297\n",
      "epoch: 160 loss:0.316135 auc:0.7309\n",
      "epoch: 180 loss:0.314027 auc:0.7321\n",
      "epoch: 200 loss:0.312497 auc:0.7321\n",
      "epoch: 220 loss:0.311360 auc:0.7321\n",
      "epoch: 240 loss:0.310500 auc:0.7321\n",
      "epoch: 260 loss:0.309848 auc:0.7309\n",
      "epoch: 280 loss:0.309348 auc:0.7273\n"
     ]
    },
    {
     "name": "stderr",
     "output_type": "stream",
     "text": [
      "  0%|          | 1/1005 [00:04<1:13:42,  4.40s/it]"
     ]
    },
    {
     "name": "stdout",
     "output_type": "stream",
     "text": [
      "epoch: 300 loss:0.308960 auc:0.7273\n",
      "Fit finished.\n",
      "epoch:   0 loss:0.769195 auc:0.4000\n",
      "epoch:  20 loss:0.568127 auc:0.6560\n",
      "epoch:  40 loss:0.449948 auc:0.6743\n",
      "epoch:  60 loss:0.378639 auc:0.6709\n",
      "epoch:  80 loss:0.347310 auc:0.6491\n",
      "epoch: 100 loss:0.332720 auc:0.6366\n",
      "epoch: 120 loss:0.324514 auc:0.6297\n",
      "epoch: 140 loss:0.319364 auc:0.6229\n"
     ]
    },
    {
     "name": "stderr",
     "output_type": "stream",
     "text": [
      "  0%|          | 2/1005 [00:07<56:43,  3.39s/it]  "
     ]
    },
    {
     "name": "stdout",
     "output_type": "stream",
     "text": [
      "epoch: 160 loss:0.315973 auc:0.6149\n",
      "epoch: 180 loss:0.313684 auc:0.6091\n",
      "Fit finished.\n",
      "epoch:   0 loss:0.776586 auc:0.5690\n",
      "epoch:  20 loss:0.566872 auc:0.6244\n",
      "epoch:  40 loss:0.448751 auc:0.6097\n",
      "epoch:  60 loss:0.379000 auc:0.5928\n",
      "epoch:  80 loss:0.348425 auc:0.5758\n",
      "epoch: 100 loss:0.333403 auc:0.5758\n",
      "epoch: 120 loss:0.325280 auc:0.5769\n",
      "epoch: 140 loss:0.320437 auc:0.5769\n"
     ]
    },
    {
     "name": "stderr",
     "output_type": "stream",
     "text": [
      "  0%|          | 3/1005 [00:09<52:03,  3.12s/it]"
     ]
    },
    {
     "name": "stdout",
     "output_type": "stream",
     "text": [
      "epoch: 160 loss:0.317264 auc:0.5758\n",
      "epoch: 180 loss:0.315039 auc:0.5769\n",
      "Fit finished.\n",
      "epoch:   0 loss:0.841390 auc:0.6154\n",
      "epoch:  20 loss:0.597139 auc:0.7535\n",
      "epoch:  40 loss:0.534143 auc:0.7495\n",
      "epoch:  60 loss:0.438229 auc:0.7179\n",
      "epoch:  80 loss:0.384568 auc:0.6884\n",
      "epoch: 100 loss:0.355890 auc:0.6903\n",
      "epoch: 120 loss:0.339921 auc:0.7041\n",
      "epoch: 140 loss:0.330564 auc:0.7081\n"
     ]
    },
    {
     "name": "stderr",
     "output_type": "stream",
     "text": [
      "  0%|          | 4/1005 [00:12<49:19,  2.96s/it]"
     ]
    },
    {
     "name": "stdout",
     "output_type": "stream",
     "text": [
      "epoch: 160 loss:0.324720 auc:0.7101\n",
      "epoch: 180 loss:0.320783 auc:0.7061\n",
      "Fit finished.\n",
      "epoch:   0 loss:0.881221 auc:0.3669\n",
      "epoch:  20 loss:0.592259 auc:0.7308\n",
      "epoch:  40 loss:0.527148 auc:0.7219\n",
      "epoch:  60 loss:0.425653 auc:0.7115\n",
      "epoch:  80 loss:0.373828 auc:0.7086\n",
      "epoch: 100 loss:0.349658 auc:0.7071\n",
      "epoch: 120 loss:0.336542 auc:0.6997\n",
      "epoch: 140 loss:0.328377 auc:0.6849\n"
     ]
    },
    {
     "name": "stderr",
     "output_type": "stream",
     "text": [
      "  0%|          | 5/1005 [00:15<48:23,  2.90s/it]"
     ]
    },
    {
     "name": "stdout",
     "output_type": "stream",
     "text": [
      "epoch: 160 loss:0.322868 auc:0.6805\n",
      "epoch: 180 loss:0.318997 auc:0.6775\n",
      "Fit finished.\n",
      "epoch:   0 loss:0.808529 auc:0.4172\n",
      "epoch:  20 loss:0.585391 auc:0.4650\n",
      "epoch:  40 loss:0.487997 auc:0.4790\n",
      "epoch:  60 loss:0.406532 auc:0.5058\n",
      "epoch:  80 loss:0.364518 auc:0.5186\n",
      "epoch: 100 loss:0.342813 auc:0.5443\n",
      "epoch: 120 loss:0.331240 auc:0.5490\n",
      "epoch: 140 loss:0.324505 auc:0.5466\n",
      "epoch: 160 loss:0.320176 auc:0.5350\n",
      "epoch: 180 loss:0.317199 auc:0.5385\n",
      "epoch: 200 loss:0.315050 auc:0.5361\n",
      "epoch: 220 loss:0.313440 auc:0.5326\n"
     ]
    },
    {
     "name": "stderr",
     "output_type": "stream",
     "text": [
      "  1%|          | 6/1005 [00:18<50:53,  3.06s/it]"
     ]
    },
    {
     "name": "stdout",
     "output_type": "stream",
     "text": [
      "epoch: 240 loss:0.312214 auc:0.5315\n",
      "epoch: 260 loss:0.311271 auc:0.5315\n",
      "Fit finished.\n",
      "epoch:   0 loss:0.791357 auc:0.5161\n",
      "epoch:  20 loss:0.579362 auc:0.8015\n",
      "epoch:  40 loss:0.469893 auc:0.8204\n",
      "epoch:  60 loss:0.384871 auc:0.7656\n",
      "epoch:  80 loss:0.349478 auc:0.7713\n",
      "epoch: 100 loss:0.333733 auc:0.7543\n",
      "epoch: 120 loss:0.325346 auc:0.7429\n",
      "epoch: 140 loss:0.320259 auc:0.7410\n"
     ]
    },
    {
     "name": "stderr",
     "output_type": "stream",
     "text": [
      "  1%|          | 7/1005 [00:21<49:38,  2.98s/it]"
     ]
    },
    {
     "name": "stdout",
     "output_type": "stream",
     "text": [
      "epoch: 160 loss:0.316919 auc:0.7429\n",
      "epoch: 180 loss:0.314624 auc:0.7410\n",
      "Fit finished.\n",
      "epoch:   0 loss:0.795690 auc:0.6096\n",
      "epoch:  20 loss:0.595484 auc:0.6630\n",
      "epoch:  40 loss:0.525222 auc:0.6641\n",
      "epoch:  60 loss:0.431422 auc:0.6118\n",
      "epoch:  80 loss:0.378733 auc:0.5584\n",
      "epoch: 100 loss:0.352425 auc:0.5517\n",
      "epoch: 120 loss:0.337757 auc:0.5484\n",
      "epoch: 140 loss:0.329076 auc:0.5439\n"
     ]
    },
    {
     "name": "stderr",
     "output_type": "stream",
     "text": [
      "  1%|          | 8/1005 [00:24<48:43,  2.93s/it]"
     ]
    },
    {
     "name": "stdout",
     "output_type": "stream",
     "text": [
      "epoch: 160 loss:0.323567 auc:0.5317\n",
      "Fit finished.\n",
      "epoch:   0 loss:0.784289 auc:0.5833\n",
      "epoch:  20 loss:0.572729 auc:0.6289\n",
      "epoch:  40 loss:0.460761 auc:0.5578\n",
      "epoch:  60 loss:0.382232 auc:0.5800\n",
      "epoch:  80 loss:0.348514 auc:0.5722\n",
      "epoch: 100 loss:0.333347 auc:0.5711\n",
      "epoch: 120 loss:0.325069 auc:0.5678\n",
      "epoch: 140 loss:0.319983 auc:0.5656\n"
     ]
    },
    {
     "name": "stderr",
     "output_type": "stream",
     "text": [
      "  1%|          | 9/1005 [00:27<47:12,  2.84s/it]"
     ]
    },
    {
     "name": "stdout",
     "output_type": "stream",
     "text": [
      "epoch: 160 loss:0.316623 auc:0.5744\n",
      "Fit finished.\n",
      "epoch:   0 loss:0.805961 auc:0.6654\n",
      "epoch:  20 loss:0.595731 auc:0.8129\n",
      "epoch:  40 loss:0.529498 auc:0.8582\n",
      "epoch:  60 loss:0.432049 auc:0.8828\n",
      "epoch:  80 loss:0.380262 auc:0.8828\n",
      "epoch: 100 loss:0.353665 auc:0.8639\n",
      "epoch: 120 loss:0.339133 auc:0.8582\n",
      "epoch: 140 loss:0.330347 auc:0.8563\n",
      "epoch: 160 loss:0.324616 auc:0.8526\n",
      "epoch: 180 loss:0.320659 auc:0.8544\n"
     ]
    },
    {
     "name": "stderr",
     "output_type": "stream",
     "text": [
      "  1%|          | 10/1005 [00:30<48:24,  2.92s/it]"
     ]
    },
    {
     "name": "stdout",
     "output_type": "stream",
     "text": [
      "epoch: 200 loss:0.317797 auc:0.8582\n",
      "epoch: 220 loss:0.315647 auc:0.8601\n",
      "Fit finished.\n",
      "epoch:   0 loss:0.801896 auc:0.4218\n",
      "epoch:  20 loss:0.585708 auc:0.7120\n",
      "epoch:  40 loss:0.491477 auc:0.6984\n",
      "epoch:  60 loss:0.410889 auc:0.7052\n",
      "epoch:  80 loss:0.367347 auc:0.6961\n",
      "epoch: 100 loss:0.345522 auc:0.6893\n",
      "epoch: 120 loss:0.333620 auc:0.6848\n",
      "epoch: 140 loss:0.326435 auc:0.6803\n",
      "epoch: 160 loss:0.321718 auc:0.6780\n"
     ]
    },
    {
     "name": "stderr",
     "output_type": "stream",
     "text": [
      "  1%|          | 11/1005 [00:33<50:37,  3.06s/it]"
     ]
    },
    {
     "name": "stdout",
     "output_type": "stream",
     "text": [
      "epoch: 180 loss:0.318430 auc:0.6735\n",
      "Fit finished.\n",
      "epoch:   0 loss:0.818319 auc:0.7316\n",
      "epoch:  20 loss:0.592349 auc:0.8790\n",
      "epoch:  40 loss:0.499265 auc:0.8620\n",
      "epoch:  60 loss:0.415518 auc:0.8752\n",
      "epoch:  80 loss:0.371409 auc:0.8828\n",
      "epoch: 100 loss:0.348540 auc:0.8828\n",
      "epoch: 120 loss:0.335496 auc:0.8904\n",
      "epoch: 140 loss:0.327661 auc:0.8960\n",
      "epoch: 160 loss:0.322639 auc:0.8979\n",
      "epoch: 180 loss:0.319201 auc:0.8941\n",
      "epoch: 200 loss:0.316680 auc:0.8941\n",
      "epoch: 220 loss:0.314739 auc:0.8885\n",
      "epoch: 240 loss:0.313203 auc:0.8904\n",
      "epoch: 260 loss:0.311979 auc:0.8885\n",
      "epoch: 280 loss:0.311012 auc:0.8904\n"
     ]
    },
    {
     "name": "stderr",
     "output_type": "stream",
     "text": [
      "  1%|          | 12/1005 [00:38<1:02:07,  3.75s/it]"
     ]
    },
    {
     "name": "stdout",
     "output_type": "stream",
     "text": [
      "epoch: 300 loss:0.310249 auc:0.8866\n",
      "Fit finished.\n",
      "epoch:   0 loss:0.786776 auc:0.4809\n",
      "epoch:  20 loss:0.594829 auc:0.7969\n",
      "epoch:  40 loss:0.512375 auc:0.7708\n",
      "epoch:  60 loss:0.421724 auc:0.7483\n",
      "epoch:  80 loss:0.372917 auc:0.7535\n",
      "epoch: 100 loss:0.348474 auc:0.7378\n",
      "epoch: 120 loss:0.335461 auc:0.7344\n",
      "epoch: 140 loss:0.327775 auc:0.7344\n",
      "epoch: 160 loss:0.322751 auc:0.7309\n"
     ]
    },
    {
     "name": "stderr",
     "output_type": "stream",
     "text": [
      "  1%|▏         | 13/1005 [00:42<1:03:22,  3.83s/it]"
     ]
    },
    {
     "name": "stdout",
     "output_type": "stream",
     "text": [
      "epoch: 180 loss:0.319239 auc:0.7309\n",
      "Fit finished.\n",
      "epoch:   0 loss:0.814017 auc:0.4174\n",
      "epoch:  20 loss:0.594656 auc:0.7128\n",
      "epoch:  40 loss:0.511629 auc:0.7376\n",
      "epoch:  60 loss:0.424011 auc:0.7707\n",
      "epoch:  80 loss:0.375777 auc:0.7645\n",
      "epoch: 100 loss:0.350672 auc:0.7665\n",
      "epoch: 120 loss:0.337100 auc:0.7624\n",
      "epoch: 140 loss:0.329094 auc:0.7707\n",
      "epoch: 160 loss:0.323888 auc:0.7686\n",
      "epoch: 180 loss:0.320253 auc:0.7645\n",
      "epoch: 200 loss:0.317588 auc:0.7562\n"
     ]
    },
    {
     "name": "stderr",
     "output_type": "stream",
     "text": [
      "  1%|▏         | 14/1005 [00:47<1:07:57,  4.11s/it]"
     ]
    },
    {
     "name": "stdout",
     "output_type": "stream",
     "text": [
      "epoch: 220 loss:0.315563 auc:0.7500\n",
      "Fit finished.\n",
      "epoch:   0 loss:0.786162 auc:0.5517\n",
      "epoch:  20 loss:0.557829 auc:0.7182\n",
      "epoch:  40 loss:0.434170 auc:0.6504\n",
      "epoch:  60 loss:0.367649 auc:0.6373\n",
      "epoch:  80 loss:0.340504 auc:0.6302\n",
      "epoch: 100 loss:0.328408 auc:0.6326\n",
      "epoch: 120 loss:0.321808 auc:0.6278\n",
      "epoch: 140 loss:0.317661 auc:0.6254\n",
      "epoch: 160 loss:0.314870 auc:0.6231\n"
     ]
    },
    {
     "name": "stderr",
     "output_type": "stream",
     "text": [
      "  1%|▏         | 15/1005 [00:51<1:08:17,  4.14s/it]"
     ]
    },
    {
     "name": "stdout",
     "output_type": "stream",
     "text": [
      "epoch: 180 loss:0.312925 auc:0.6278\n",
      "Fit finished.\n",
      "epoch:   0 loss:0.777185 auc:0.5984\n",
      "epoch:  20 loss:0.569379 auc:0.7998\n",
      "epoch:  40 loss:0.448948 auc:0.7887\n",
      "epoch:  60 loss:0.375166 auc:0.7998\n",
      "epoch:  80 loss:0.344071 auc:0.7820\n",
      "epoch: 100 loss:0.330517 auc:0.7697\n",
      "epoch: 120 loss:0.323197 auc:0.7508\n",
      "epoch: 140 loss:0.318696 auc:0.7341\n",
      "epoch: 160 loss:0.315741 auc:0.7230\n"
     ]
    },
    {
     "name": "stderr",
     "output_type": "stream",
     "text": [
      "  2%|▏         | 16/1005 [00:56<1:09:50,  4.24s/it]"
     ]
    },
    {
     "name": "stdout",
     "output_type": "stream",
     "text": [
      "epoch: 180 loss:0.313688 auc:0.7130\n",
      "Fit finished.\n",
      "epoch:   0 loss:0.784542 auc:0.5728\n",
      "epoch:  20 loss:0.580645 auc:0.7070\n",
      "epoch:  40 loss:0.472906 auc:0.7769\n",
      "epoch:  60 loss:0.392632 auc:0.7297\n",
      "epoch:  80 loss:0.354245 auc:0.7372\n",
      "epoch: 100 loss:0.336049 auc:0.7278\n",
      "epoch: 120 loss:0.326321 auc:0.7297\n",
      "epoch: 140 loss:0.320626 auc:0.7372\n",
      "epoch: 160 loss:0.317026 auc:0.7391\n",
      "epoch: 180 loss:0.314609 auc:0.7372\n"
     ]
    },
    {
     "name": "stderr",
     "output_type": "stream",
     "text": [
      "  2%|▏         | 17/1005 [01:00<1:08:45,  4.18s/it]"
     ]
    },
    {
     "name": "stdout",
     "output_type": "stream",
     "text": [
      "epoch: 200 loss:0.312915 auc:0.7372\n",
      "Fit finished.\n",
      "epoch:   0 loss:0.778057 auc:0.3800\n",
      "epoch:  20 loss:0.556399 auc:0.9000\n",
      "epoch:  40 loss:0.437113 auc:0.7800\n",
      "epoch:  60 loss:0.371219 auc:0.7700\n",
      "epoch:  80 loss:0.343474 auc:0.8000\n",
      "epoch: 100 loss:0.330219 auc:0.7800\n",
      "epoch: 120 loss:0.322974 auc:0.7700\n",
      "epoch: 140 loss:0.318561 auc:0.7600\n",
      "epoch: 160 loss:0.315626 auc:0.7500\n"
     ]
    },
    {
     "name": "stderr",
     "output_type": "stream",
     "text": [
      "  2%|▏         | 18/1005 [01:04<1:06:55,  4.07s/it]"
     ]
    },
    {
     "name": "stdout",
     "output_type": "stream",
     "text": [
      "epoch: 180 loss:0.313568 auc:0.7400\n",
      "Fit finished.\n",
      "epoch:   0 loss:0.919943 auc:0.5646\n",
      "epoch:  20 loss:0.591978 auc:0.5876\n",
      "epoch:  40 loss:0.510690 auc:0.6187\n",
      "epoch:  60 loss:0.426050 auc:0.6252\n",
      "epoch:  80 loss:0.377936 auc:0.6203\n",
      "epoch: 100 loss:0.353459 auc:0.6416\n",
      "epoch: 120 loss:0.339454 auc:0.6579\n",
      "epoch: 140 loss:0.330521 auc:0.6612\n",
      "epoch: 160 loss:0.324579 auc:0.6596\n",
      "epoch: 180 loss:0.320553 auc:0.6661\n",
      "epoch: 200 loss:0.317726 auc:0.6628\n",
      "epoch: 220 loss:0.315654 auc:0.6596\n",
      "epoch: 240 loss:0.314070 auc:0.6547\n",
      "epoch: 260 loss:0.312822 auc:0.6514\n"
     ]
    },
    {
     "name": "stderr",
     "output_type": "stream",
     "text": [
      "  2%|▏         | 19/1005 [01:09<1:12:22,  4.40s/it]"
     ]
    },
    {
     "name": "stdout",
     "output_type": "stream",
     "text": [
      "epoch: 280 loss:0.311825 auc:0.6498\n",
      "Fit finished.\n",
      "epoch:   0 loss:0.849384 auc:0.3375\n",
      "epoch:  20 loss:0.590879 auc:0.7400\n",
      "epoch:  40 loss:0.520034 auc:0.7075\n",
      "epoch:  60 loss:0.423669 auc:0.7175\n",
      "epoch:  80 loss:0.372351 auc:0.6925\n",
      "epoch: 100 loss:0.347136 auc:0.6900\n",
      "epoch: 120 loss:0.334035 auc:0.6925\n",
      "epoch: 140 loss:0.326317 auc:0.6925\n",
      "epoch: 160 loss:0.321392 auc:0.7175\n"
     ]
    },
    {
     "name": "stderr",
     "output_type": "stream",
     "text": [
      "  2%|▏         | 20/1005 [01:13<1:10:36,  4.30s/it]"
     ]
    },
    {
     "name": "stdout",
     "output_type": "stream",
     "text": [
      "epoch: 180 loss:0.318049 auc:0.7325\n",
      "Fit finished.\n",
      "epoch:   0 loss:0.790518 auc:0.4985\n",
      "epoch:  20 loss:0.568763 auc:0.7722\n",
      "epoch:  40 loss:0.442501 auc:0.8240\n",
      "epoch:  60 loss:0.375026 auc:0.8609\n",
      "epoch:  80 loss:0.345441 auc:0.8580\n",
      "epoch: 100 loss:0.331273 auc:0.8609\n",
      "epoch: 120 loss:0.323499 auc:0.8536\n",
      "epoch: 140 loss:0.318695 auc:0.8550\n",
      "epoch: 160 loss:0.315555 auc:0.8565\n",
      "epoch: 180 loss:0.313450 auc:0.8580\n",
      "epoch: 200 loss:0.311988 auc:0.8624\n",
      "epoch: 220 loss:0.310932 auc:0.8654\n",
      "epoch: 240 loss:0.310142 auc:0.8624\n",
      "epoch: 260 loss:0.309536 auc:0.8624\n",
      "epoch: 280 loss:0.309061 auc:0.8639\n",
      "epoch: 300 loss:0.308687 auc:0.8669\n",
      "epoch: 320 loss:0.308390 auc:0.8669\n",
      "epoch: 340 loss:0.308155 auc:0.8639\n"
     ]
    },
    {
     "name": "stderr",
     "output_type": "stream",
     "text": [
      "  2%|▏         | 22/1005 [01:19<1:02:02,  3.79s/it]"
     ]
    },
    {
     "name": "stdout",
     "output_type": "stream",
     "text": [
      "epoch: 360 loss:0.307966 auc:0.8609\n",
      "Fit finished.\n",
      "epoch:   0 loss:0.799235 auc:0.5055\n",
      "epoch:  20 loss:0.583152 auc:0.7998\n",
      "epoch:  40 loss:0.491780 auc:0.8022\n",
      "epoch:  60 loss:0.408466 auc:0.7912\n",
      "epoch:  80 loss:0.367227 auc:0.7766\n",
      "epoch: 100 loss:0.345232 auc:0.7643\n",
      "epoch: 120 loss:0.332858 auc:0.7546\n",
      "epoch: 140 loss:0.325574 auc:0.7558\n",
      "epoch: 160 loss:0.320954 auc:0.7521\n"
     ]
    },
    {
     "name": "stderr",
     "output_type": "stream",
     "text": [
      "  2%|▏         | 23/1005 [01:23<1:02:03,  3.79s/it]"
     ]
    },
    {
     "name": "stdout",
     "output_type": "stream",
     "text": [
      "epoch: 180 loss:0.317818 auc:0.7607\n",
      "Fit finished.\n",
      "epoch:   0 loss:0.787469 auc:0.4304\n",
      "epoch:  20 loss:0.580595 auc:0.6992\n",
      "epoch:  40 loss:0.486289 auc:0.6880\n",
      "epoch:  60 loss:0.400178 auc:0.6944\n",
      "epoch:  80 loss:0.359254 auc:0.6912\n",
      "epoch: 100 loss:0.339924 auc:0.6784\n",
      "epoch: 120 loss:0.329642 auc:0.6720\n",
      "epoch: 140 loss:0.323374 auc:0.6768\n",
      "epoch: 160 loss:0.319240 auc:0.6784\n"
     ]
    },
    {
     "name": "stderr",
     "output_type": "stream",
     "text": [
      "  2%|▏         | 24/1005 [01:27<1:01:22,  3.75s/it]"
     ]
    },
    {
     "name": "stdout",
     "output_type": "stream",
     "text": [
      "epoch: 180 loss:0.316367 auc:0.6800\n",
      "Fit finished.\n",
      "epoch:   0 loss:0.939784 auc:0.5157\n",
      "epoch:  20 loss:0.592534 auc:0.6417\n",
      "epoch:  40 loss:0.510838 auc:0.6342\n",
      "epoch:  60 loss:0.422377 auc:0.5787\n",
      "epoch:  80 loss:0.374989 auc:0.5337\n",
      "epoch: 100 loss:0.349964 auc:0.5247\n",
      "epoch: 120 loss:0.335618 auc:0.5217\n",
      "epoch: 140 loss:0.326932 auc:0.5142\n"
     ]
    },
    {
     "name": "stderr",
     "output_type": "stream",
     "text": [
      "  2%|▏         | 25/1005 [01:30<1:00:15,  3.69s/it]"
     ]
    },
    {
     "name": "stdout",
     "output_type": "stream",
     "text": [
      "epoch: 160 loss:0.321447 auc:0.5007\n",
      "Fit finished.\n",
      "epoch:   0 loss:0.815523 auc:0.5213\n",
      "epoch:  20 loss:0.600123 auc:0.7699\n",
      "epoch:  40 loss:0.534520 auc:0.8052\n",
      "epoch:  60 loss:0.439703 auc:0.7644\n",
      "epoch:  80 loss:0.384590 auc:0.7532\n",
      "epoch: 100 loss:0.355987 auc:0.7477\n",
      "epoch: 120 loss:0.339915 auc:0.7403\n",
      "epoch: 140 loss:0.330412 auc:0.7347\n",
      "epoch: 160 loss:0.324451 auc:0.7328\n"
     ]
    },
    {
     "name": "stderr",
     "output_type": "stream",
     "text": [
      "  3%|▎         | 26/1005 [01:34<1:00:57,  3.74s/it]"
     ]
    },
    {
     "name": "stdout",
     "output_type": "stream",
     "text": [
      "epoch: 180 loss:0.320434 auc:0.7273\n",
      "Fit finished.\n",
      "epoch:   0 loss:0.773083 auc:0.4752\n",
      "epoch:  20 loss:0.577498 auc:0.7744\n",
      "epoch:  40 loss:0.459431 auc:0.8096\n",
      "epoch:  60 loss:0.383446 auc:0.8160\n",
      "epoch:  80 loss:0.349980 auc:0.8128\n",
      "epoch: 100 loss:0.334176 auc:0.8032\n",
      "epoch: 120 loss:0.325649 auc:0.8128\n",
      "epoch: 140 loss:0.320449 auc:0.8192\n",
      "epoch: 160 loss:0.317004 auc:0.8240\n",
      "epoch: 180 loss:0.314617 auc:0.8336\n",
      "epoch: 200 loss:0.312922 auc:0.8368\n",
      "epoch: 220 loss:0.311694 auc:0.8432\n",
      "epoch: 240 loss:0.310783 auc:0.8400\n",
      "epoch: 260 loss:0.310089 auc:0.8432\n",
      "epoch: 280 loss:0.309551 auc:0.8480\n",
      "epoch: 300 loss:0.309126 auc:0.8496\n",
      "epoch: 320 loss:0.308784 auc:0.8512\n",
      "epoch: 340 loss:0.308505 auc:0.8496\n",
      "epoch: 360 loss:0.308274 auc:0.8544\n",
      "epoch: 380 loss:0.308081 auc:0.8544\n",
      "epoch: 400 loss:0.307917 auc:0.8560\n",
      "epoch: 420 loss:0.307778 auc:0.8544\n",
      "epoch: 440 loss:0.307658 auc:0.8528\n",
      "epoch: 460 loss:0.307701 auc:0.8544\n",
      "epoch: 480 loss:0.307479 auc:0.8528\n",
      "epoch: 500 loss:0.307390 auc:0.8528\n"
     ]
    },
    {
     "name": "stderr",
     "output_type": "stream",
     "text": [
      "  3%|▎         | 27/1005 [01:42<1:22:06,  5.04s/it]"
     ]
    },
    {
     "name": "stdout",
     "output_type": "stream",
     "text": [
      "epoch: 520 loss:0.307322 auc:0.8528\n",
      "Fit finished.\n",
      "epoch:   0 loss:0.805770 auc:0.5486\n",
      "epoch:  20 loss:0.589268 auc:0.5417\n",
      "epoch:  40 loss:0.504062 auc:0.6389\n",
      "epoch:  60 loss:0.419391 auc:0.6667\n",
      "epoch:  80 loss:0.372861 auc:0.6597\n",
      "epoch: 100 loss:0.349089 auc:0.6597\n",
      "epoch: 120 loss:0.335973 auc:0.6736\n",
      "epoch: 140 loss:0.327975 auc:0.6875\n",
      "epoch: 160 loss:0.322694 auc:0.6806\n",
      "epoch: 180 loss:0.319057 auc:0.6667\n",
      "epoch: 200 loss:0.316472 auc:0.6597\n",
      "epoch: 220 loss:0.314563 auc:0.6667\n",
      "epoch: 240 loss:0.313111 auc:0.6597\n",
      "epoch: 260 loss:0.311981 auc:0.6597\n"
     ]
    },
    {
     "name": "stderr",
     "output_type": "stream",
     "text": [
      "  3%|▎         | 29/1005 [01:47<1:03:10,  3.88s/it]"
     ]
    },
    {
     "name": "stdout",
     "output_type": "stream",
     "text": [
      "epoch: 280 loss:0.311089 auc:0.6528\n",
      "Fit finished.\n",
      "epoch:   0 loss:0.774322 auc:0.4876\n",
      "epoch:  20 loss:0.576746 auc:0.7273\n",
      "epoch:  40 loss:0.475690 auc:0.6777\n",
      "epoch:  60 loss:0.395772 auc:0.6198\n",
      "epoch:  80 loss:0.358242 auc:0.6116\n",
      "epoch: 100 loss:0.339626 auc:0.6116\n",
      "epoch: 120 loss:0.329572 auc:0.5950\n",
      "epoch: 140 loss:0.323585 auc:0.5950\n",
      "epoch: 160 loss:0.319628 auc:0.5950\n"
     ]
    },
    {
     "name": "stderr",
     "output_type": "stream",
     "text": [
      "  3%|▎         | 30/1005 [01:51<1:03:21,  3.90s/it]"
     ]
    },
    {
     "name": "stdout",
     "output_type": "stream",
     "text": [
      "epoch: 180 loss:0.316843 auc:0.6033\n",
      "Fit finished.\n",
      "epoch:   0 loss:0.809147 auc:0.4631\n",
      "epoch:  20 loss:0.595392 auc:0.5974\n",
      "epoch:  40 loss:0.516593 auc:0.6371\n",
      "epoch:  60 loss:0.418765 auc:0.6578\n",
      "epoch:  80 loss:0.371758 auc:0.6654\n",
      "epoch: 100 loss:0.347330 auc:0.6730\n",
      "epoch: 120 loss:0.334584 auc:0.6692\n",
      "epoch: 140 loss:0.327192 auc:0.6749\n",
      "epoch: 160 loss:0.322371 auc:0.6730\n",
      "epoch: 180 loss:0.319003 auc:0.6692\n",
      "epoch: 200 loss:0.316573 auc:0.6730\n",
      "epoch: 220 loss:0.314778 auc:0.6711\n",
      "epoch: 240 loss:0.313414 auc:0.6692\n"
     ]
    },
    {
     "name": "stderr",
     "output_type": "stream",
     "text": [
      "  3%|▎         | 31/1005 [01:56<1:08:21,  4.21s/it]"
     ]
    },
    {
     "name": "stdout",
     "output_type": "stream",
     "text": [
      "epoch: 260 loss:0.312353 auc:0.6711\n",
      "Fit finished.\n",
      "epoch:   0 loss:0.801656 auc:0.3325\n",
      "epoch:  20 loss:0.574930 auc:0.6778\n",
      "epoch:  40 loss:0.463827 auc:0.6534\n",
      "epoch:  60 loss:0.384809 auc:0.6650\n",
      "epoch:  80 loss:0.349190 auc:0.6624\n",
      "epoch: 100 loss:0.332545 auc:0.6547\n",
      "epoch: 120 loss:0.323979 auc:0.6598\n",
      "epoch: 140 loss:0.319089 auc:0.6573\n",
      "epoch: 160 loss:0.315997 auc:0.6585\n"
     ]
    },
    {
     "name": "stderr",
     "output_type": "stream",
     "text": [
      "  3%|▎         | 32/1005 [02:00<1:07:20,  4.15s/it]"
     ]
    },
    {
     "name": "stdout",
     "output_type": "stream",
     "text": [
      "epoch: 180 loss:0.313895 auc:0.6560\n",
      "Fit finished.\n",
      "epoch:   0 loss:0.873499 auc:0.3704\n",
      "epoch:  20 loss:0.594670 auc:0.7994\n",
      "epoch:  40 loss:0.510105 auc:0.7716\n",
      "epoch:  60 loss:0.423319 auc:0.6296\n",
      "epoch:  80 loss:0.373456 auc:0.6019\n",
      "epoch: 100 loss:0.349349 auc:0.5926\n",
      "epoch: 120 loss:0.336204 auc:0.5802\n",
      "epoch: 140 loss:0.328106 auc:0.5648\n",
      "epoch: 160 loss:0.322799 auc:0.5278\n"
     ]
    },
    {
     "name": "stderr",
     "output_type": "stream",
     "text": [
      "  3%|▎         | 33/1005 [02:05<1:09:08,  4.27s/it]"
     ]
    },
    {
     "name": "stdout",
     "output_type": "stream",
     "text": [
      "epoch: 180 loss:0.319184 auc:0.5000\n",
      "Fit finished.\n",
      "epoch:   0 loss:0.806936 auc:0.5584\n",
      "epoch:  20 loss:0.601599 auc:0.8320\n",
      "epoch:  40 loss:0.549255 auc:0.8608\n",
      "epoch:  60 loss:0.459691 auc:0.8640\n",
      "epoch:  80 loss:0.392750 auc:0.7696\n",
      "epoch: 100 loss:0.358721 auc:0.7408\n",
      "epoch: 120 loss:0.341109 auc:0.7392\n",
      "epoch: 140 loss:0.331013 auc:0.7264\n",
      "epoch: 160 loss:0.324823 auc:0.7184\n"
     ]
    },
    {
     "name": "stderr",
     "output_type": "stream",
     "text": [
      "  3%|▎         | 34/1005 [02:09<1:08:46,  4.25s/it]"
     ]
    },
    {
     "name": "stdout",
     "output_type": "stream",
     "text": [
      "epoch: 180 loss:0.320753 auc:0.7184\n",
      "Fit finished.\n",
      "epoch:   0 loss:0.796486 auc:0.6756\n",
      "epoch:  20 loss:0.595172 auc:0.3022\n",
      "epoch:  40 loss:0.518081 auc:0.2622\n",
      "epoch:  60 loss:0.417866 auc:0.2000\n",
      "epoch:  80 loss:0.368495 auc:0.2133\n",
      "epoch: 100 loss:0.345726 auc:0.2400\n",
      "epoch: 120 loss:0.333737 auc:0.2578\n",
      "epoch: 140 loss:0.326455 auc:0.2711\n"
     ]
    },
    {
     "name": "stderr",
     "output_type": "stream",
     "text": [
      "  3%|▎         | 35/1005 [02:13<1:07:58,  4.20s/it]"
     ]
    },
    {
     "name": "stdout",
     "output_type": "stream",
     "text": [
      "epoch: 160 loss:0.321538 auc:0.2667\n",
      "Fit finished.\n",
      "epoch:   0 loss:0.801845 auc:0.7253\n",
      "epoch:  20 loss:0.576429 auc:0.3611\n",
      "epoch:  40 loss:0.456789 auc:0.4105\n",
      "epoch:  60 loss:0.377200 auc:0.3827\n",
      "epoch:  80 loss:0.346294 auc:0.3580\n",
      "epoch: 100 loss:0.331829 auc:0.3395\n",
      "epoch: 120 loss:0.324021 auc:0.3210\n",
      "epoch: 140 loss:0.319340 auc:0.3179\n"
     ]
    },
    {
     "name": "stderr",
     "output_type": "stream",
     "text": [
      "  4%|▎         | 36/1005 [02:18<1:11:53,  4.45s/it]"
     ]
    },
    {
     "name": "stdout",
     "output_type": "stream",
     "text": [
      "epoch: 160 loss:0.316264 auc:0.3117\n",
      "Fit finished.\n",
      "epoch:   0 loss:0.785460 auc:0.5552\n",
      "epoch:  20 loss:0.567331 auc:0.7744\n",
      "epoch:  40 loss:0.439259 auc:0.8592\n",
      "epoch:  60 loss:0.366943 auc:0.8544\n",
      "epoch:  80 loss:0.339762 auc:0.8224\n",
      "epoch: 100 loss:0.327617 auc:0.8064\n",
      "epoch: 120 loss:0.321313 auc:0.7984\n",
      "epoch: 140 loss:0.317547 auc:0.7968\n",
      "epoch: 160 loss:0.315059 auc:0.7904\n",
      "epoch: 180 loss:0.313298 auc:0.7904\n"
     ]
    },
    {
     "name": "stderr",
     "output_type": "stream",
     "text": [
      "  4%|▎         | 37/1005 [02:24<1:19:50,  4.95s/it]"
     ]
    },
    {
     "name": "stdout",
     "output_type": "stream",
     "text": [
      "epoch: 200 loss:0.311981 auc:0.7888\n",
      "Fit finished.\n",
      "epoch:   0 loss:0.801253 auc:0.5614\n",
      "epoch:  20 loss:0.575134 auc:0.5500\n",
      "epoch:  40 loss:0.455781 auc:0.5529\n",
      "epoch:  60 loss:0.380698 auc:0.5200\n",
      "epoch:  80 loss:0.347768 auc:0.5014\n",
      "epoch: 100 loss:0.332180 auc:0.5100\n",
      "epoch: 120 loss:0.323927 auc:0.5186\n",
      "epoch: 140 loss:0.319114 auc:0.5157\n"
     ]
    },
    {
     "name": "stderr",
     "output_type": "stream",
     "text": [
      "  4%|▍         | 38/1005 [02:30<1:24:24,  5.24s/it]"
     ]
    },
    {
     "name": "stdout",
     "output_type": "stream",
     "text": [
      "epoch: 160 loss:0.316033 auc:0.5057\n",
      "Fit finished.\n",
      "epoch:   0 loss:0.852534 auc:0.4816\n",
      "epoch:  20 loss:0.596140 auc:0.7756\n",
      "epoch:  40 loss:0.522244 auc:0.6925\n",
      "epoch:  60 loss:0.419779 auc:0.6731\n",
      "epoch:  80 loss:0.369904 auc:0.6828\n",
      "epoch: 100 loss:0.346333 auc:0.6867\n",
      "epoch: 120 loss:0.333281 auc:0.6847\n",
      "epoch: 140 loss:0.325610 auc:0.6770\n",
      "epoch: 160 loss:0.320796 auc:0.6789\n"
     ]
    },
    {
     "name": "stderr",
     "output_type": "stream",
     "text": [
      "  4%|▍         | 39/1005 [02:37<1:31:37,  5.69s/it]"
     ]
    },
    {
     "name": "stdout",
     "output_type": "stream",
     "text": [
      "epoch: 180 loss:0.317552 auc:0.6673\n",
      "Fit finished.\n",
      "epoch:   0 loss:0.818469 auc:0.4942\n",
      "epoch:  20 loss:0.589264 auc:0.6389\n",
      "epoch:  40 loss:0.497521 auc:0.6539\n",
      "epoch:  60 loss:0.419035 auc:0.6424\n",
      "epoch:  80 loss:0.372340 auc:0.6493\n",
      "epoch: 100 loss:0.347330 auc:0.6389\n",
      "epoch: 120 loss:0.334231 auc:0.6447\n",
      "epoch: 140 loss:0.326640 auc:0.6447\n",
      "epoch: 160 loss:0.321792 auc:0.6470\n",
      "epoch: 180 loss:0.318491 auc:0.6505\n"
     ]
    },
    {
     "name": "stderr",
     "output_type": "stream",
     "text": [
      "  4%|▍         | 40/1005 [02:44<1:37:14,  6.05s/it]"
     ]
    },
    {
     "name": "stdout",
     "output_type": "stream",
     "text": [
      "epoch: 200 loss:0.316132 auc:0.6528\n",
      "Fit finished.\n",
      "epoch:   0 loss:0.790670 auc:0.4903\n",
      "epoch:  20 loss:0.594978 auc:0.6648\n",
      "epoch:  40 loss:0.526045 auc:0.6759\n",
      "epoch:  60 loss:0.435704 auc:0.6898\n",
      "epoch:  80 loss:0.389194 auc:0.6759\n",
      "epoch: 100 loss:0.361930 auc:0.6759\n",
      "epoch: 120 loss:0.345251 auc:0.6510\n",
      "epoch: 140 loss:0.334939 auc:0.6454\n",
      "epoch: 160 loss:0.328073 auc:0.6260\n"
     ]
    },
    {
     "name": "stderr",
     "output_type": "stream",
     "text": [
      "  4%|▍         | 41/1005 [02:51<1:40:11,  6.24s/it]"
     ]
    },
    {
     "name": "stdout",
     "output_type": "stream",
     "text": [
      "epoch: 180 loss:0.323280 auc:0.6260\n",
      "Fit finished.\n",
      "epoch:   0 loss:0.795113 auc:0.5355\n",
      "epoch:  20 loss:0.582647 auc:0.6257\n",
      "epoch:  40 loss:0.481109 auc:0.6982\n",
      "epoch:  60 loss:0.404440 auc:0.6790\n",
      "epoch:  80 loss:0.363602 auc:0.6716\n",
      "epoch: 100 loss:0.342556 auc:0.6657\n",
      "epoch: 120 loss:0.331107 auc:0.6612\n",
      "epoch: 140 loss:0.324101 auc:0.6524\n",
      "epoch: 160 loss:0.319496 auc:0.6538\n",
      "epoch: 180 loss:0.316387 auc:0.6524\n"
     ]
    },
    {
     "name": "stderr",
     "output_type": "stream",
     "text": [
      "  4%|▍         | 42/1005 [02:58<1:44:16,  6.50s/it]"
     ]
    },
    {
     "name": "stdout",
     "output_type": "stream",
     "text": [
      "epoch: 200 loss:0.314237 auc:0.6568\n",
      "Fit finished.\n",
      "epoch:   0 loss:0.788016 auc:0.5458\n",
      "epoch:  20 loss:0.573688 auc:0.6254\n",
      "epoch:  40 loss:0.462441 auc:0.6136\n",
      "epoch:  60 loss:0.387212 auc:0.6017\n",
      "epoch:  80 loss:0.352001 auc:0.6076\n",
      "epoch: 100 loss:0.334701 auc:0.6159\n",
      "epoch: 120 loss:0.325428 auc:0.6195\n",
      "epoch: 140 loss:0.319970 auc:0.6183\n",
      "epoch: 160 loss:0.316520 auc:0.6278\n",
      "epoch: 180 loss:0.314224 auc:0.6278\n",
      "epoch: 200 loss:0.312619 auc:0.6266\n",
      "epoch: 220 loss:0.311458 auc:0.6278\n",
      "epoch: 240 loss:0.310595 auc:0.6266\n",
      "epoch: 260 loss:0.309935 auc:0.6326\n",
      "epoch: 280 loss:0.309417 auc:0.6290\n",
      "epoch: 300 loss:0.309001 auc:0.6266\n"
     ]
    },
    {
     "name": "stderr",
     "output_type": "stream",
     "text": [
      "  4%|▍         | 43/1005 [03:08<2:02:33,  7.64s/it]"
     ]
    },
    {
     "name": "stdout",
     "output_type": "stream",
     "text": [
      "epoch: 320 loss:0.308662 auc:0.6266\n",
      "Fit finished.\n",
      "epoch:   0 loss:0.788746 auc:0.3075\n",
      "epoch:  20 loss:0.578329 auc:0.7784\n",
      "epoch:  40 loss:0.470727 auc:0.6620\n",
      "epoch:  60 loss:0.397520 auc:0.5956\n",
      "epoch:  80 loss:0.360481 auc:0.5789\n",
      "epoch: 100 loss:0.341302 auc:0.5734\n",
      "epoch: 120 loss:0.330445 auc:0.5734\n",
      "epoch: 140 loss:0.323902 auc:0.5706\n",
      "epoch: 160 loss:0.319744 auc:0.5651\n"
     ]
    },
    {
     "name": "stderr",
     "output_type": "stream",
     "text": [
      "  4%|▍         | 44/1005 [03:15<1:58:06,  7.37s/it]"
     ]
    },
    {
     "name": "stdout",
     "output_type": "stream",
     "text": [
      "epoch: 180 loss:0.316926 auc:0.5623\n",
      "Fit finished.\n",
      "epoch:   0 loss:0.810216 auc:0.5825\n",
      "epoch:  20 loss:0.595521 auc:0.7650\n",
      "epoch:  40 loss:0.519144 auc:0.7425\n",
      "epoch:  60 loss:0.429795 auc:0.7775\n",
      "epoch:  80 loss:0.379093 auc:0.7375\n",
      "epoch: 100 loss:0.353277 auc:0.7100\n",
      "epoch: 120 loss:0.338815 auc:0.6975\n",
      "epoch: 140 loss:0.330049 auc:0.6950\n",
      "epoch: 160 loss:0.324330 auc:0.6925\n"
     ]
    },
    {
     "name": "stderr",
     "output_type": "stream",
     "text": [
      "  5%|▍         | 46/1005 [03:22<1:28:40,  5.55s/it]"
     ]
    },
    {
     "name": "stdout",
     "output_type": "stream",
     "text": [
      "epoch: 180 loss:0.320382 auc:0.6825\n",
      "Fit finished.\n",
      "epoch:   0 loss:0.807122 auc:0.4294\n",
      "epoch:  20 loss:0.601693 auc:0.7798\n",
      "epoch:  40 loss:0.543165 auc:0.7642\n",
      "epoch:  60 loss:0.439125 auc:0.8131\n",
      "epoch:  80 loss:0.379379 auc:0.8142\n",
      "epoch: 100 loss:0.351257 auc:0.8020\n",
      "epoch: 120 loss:0.337169 auc:0.8165\n",
      "epoch: 140 loss:0.328958 auc:0.8165\n",
      "epoch: 160 loss:0.323648 auc:0.8198\n",
      "epoch: 180 loss:0.319960 auc:0.8154\n",
      "epoch: 200 loss:0.317269 auc:0.8231\n",
      "epoch: 220 loss:0.315236 auc:0.8254\n",
      "epoch: 240 loss:0.313669 auc:0.8220\n",
      "epoch: 260 loss:0.312442 auc:0.8198\n",
      "epoch: 280 loss:0.311475 auc:0.8242\n",
      "epoch: 300 loss:0.310704 auc:0.8254\n",
      "epoch: 320 loss:0.310084 auc:0.8220\n",
      "epoch: 340 loss:0.309580 auc:0.8220\n"
     ]
    },
    {
     "name": "stderr",
     "output_type": "stream",
     "text": [
      "  5%|▍         | 47/1005 [03:33<1:53:00,  7.08s/it]"
     ]
    },
    {
     "name": "stdout",
     "output_type": "stream",
     "text": [
      "epoch: 360 loss:0.309168 auc:0.8220\n",
      "Fit finished.\n",
      "epoch:   0 loss:0.793448 auc:0.5600\n",
      "epoch:  20 loss:0.597859 auc:0.7353\n",
      "epoch:  40 loss:0.543186 auc:0.7647\n",
      "epoch:  60 loss:0.449757 auc:0.8122\n",
      "epoch:  80 loss:0.393473 auc:0.7557\n",
      "epoch: 100 loss:0.362953 auc:0.7376\n",
      "epoch: 120 loss:0.345291 auc:0.7183\n",
      "epoch: 140 loss:0.334687 auc:0.6946\n",
      "epoch: 160 loss:0.327895 auc:0.6833\n"
     ]
    },
    {
     "name": "stderr",
     "output_type": "stream",
     "text": [
      "  5%|▍         | 48/1005 [03:40<1:51:25,  6.99s/it]"
     ]
    },
    {
     "name": "stdout",
     "output_type": "stream",
     "text": [
      "epoch: 180 loss:0.323266 auc:0.6697\n",
      "Fit finished.\n",
      "epoch:   0 loss:0.844523 auc:0.5605\n",
      "epoch:  20 loss:0.595358 auc:0.6633\n",
      "epoch:  40 loss:0.538950 auc:0.6714\n",
      "epoch:  60 loss:0.438361 auc:0.6452\n",
      "epoch:  80 loss:0.380730 auc:0.6452\n",
      "epoch: 100 loss:0.352550 auc:0.6512\n",
      "epoch: 120 loss:0.337616 auc:0.6673\n",
      "epoch: 140 loss:0.328831 auc:0.6673\n",
      "epoch: 160 loss:0.323281 auc:0.6734\n",
      "epoch: 180 loss:0.319557 auc:0.6754\n",
      "epoch: 200 loss:0.316922 auc:0.6734\n",
      "epoch: 220 loss:0.314960 auc:0.6734\n",
      "epoch: 240 loss:0.313450 auc:0.6734\n",
      "epoch: 260 loss:0.312265 auc:0.6734\n",
      "epoch: 280 loss:0.311328 auc:0.6734\n",
      "epoch: 300 loss:0.310582 auc:0.6754\n",
      "epoch: 320 loss:0.309984 auc:0.6774\n",
      "epoch: 340 loss:0.309499 auc:0.6794\n",
      "epoch: 360 loss:0.309104 auc:0.6794\n",
      "epoch: 380 loss:0.308778 auc:0.6835\n",
      "epoch: 400 loss:0.308507 auc:0.6835\n",
      "epoch: 420 loss:0.308279 auc:0.6855\n",
      "epoch: 440 loss:0.308086 auc:0.6855\n",
      "epoch: 460 loss:0.307920 auc:0.6835\n",
      "epoch: 480 loss:0.307779 auc:0.6835\n",
      "epoch: 500 loss:0.307656 auc:0.6835\n",
      "epoch: 520 loss:0.307551 auc:0.6835\n"
     ]
    },
    {
     "name": "stderr",
     "output_type": "stream",
     "text": [
      "  5%|▍         | 49/1005 [03:56<2:31:43,  9.52s/it]"
     ]
    },
    {
     "name": "stdout",
     "output_type": "stream",
     "text": [
      "epoch: 540 loss:0.307459 auc:0.6815\n",
      "Fit finished.\n",
      "epoch:   0 loss:0.775114 auc:0.5850\n",
      "epoch:  20 loss:0.552058 auc:0.6553\n",
      "epoch:  40 loss:0.426193 auc:0.7007\n",
      "epoch:  60 loss:0.364214 auc:0.6893\n",
      "epoch:  80 loss:0.338086 auc:0.6871\n",
      "epoch: 100 loss:0.326344 auc:0.6939\n",
      "epoch: 120 loss:0.320233 auc:0.6961\n",
      "epoch: 140 loss:0.316575 auc:0.6916\n",
      "epoch: 160 loss:0.314184 auc:0.7007\n",
      "epoch: 180 loss:0.312521 auc:0.7098\n",
      "epoch: 200 loss:0.311315 auc:0.7075\n",
      "epoch: 220 loss:0.310412 auc:0.7052\n",
      "epoch: 240 loss:0.309717 auc:0.7029\n",
      "epoch: 260 loss:0.309175 auc:0.7052\n",
      "epoch: 280 loss:0.308750 auc:0.7120\n",
      "epoch: 300 loss:0.308414 auc:0.7166\n",
      "epoch: 320 loss:0.308145 auc:0.7166\n",
      "epoch: 340 loss:0.307929 auc:0.7166\n",
      "epoch: 360 loss:0.307754 auc:0.7211\n",
      "epoch: 380 loss:0.307609 auc:0.7211\n",
      "epoch: 400 loss:0.307488 auc:0.7211\n",
      "epoch: 420 loss:0.307385 auc:0.7211\n",
      "epoch: 440 loss:0.307298 auc:0.7211\n",
      "epoch: 460 loss:0.307223 auc:0.7211\n",
      "epoch: 480 loss:0.307198 auc:0.7211\n",
      "epoch: 500 loss:0.307108 auc:0.7211\n"
     ]
    },
    {
     "name": "stderr",
     "output_type": "stream",
     "text": [
      "  5%|▌         | 52/1005 [04:13<1:55:56,  7.30s/it]"
     ]
    },
    {
     "name": "stdout",
     "output_type": "stream",
     "text": [
      "epoch: 520 loss:0.307058 auc:0.7143\n",
      "Fit finished.\n",
      "epoch:   0 loss:0.859969 auc:0.6259\n",
      "epoch:  20 loss:0.588277 auc:0.7415\n",
      "epoch:  40 loss:0.492567 auc:0.6871\n",
      "epoch:  60 loss:0.410931 auc:0.7188\n",
      "epoch:  80 loss:0.367457 auc:0.7551\n",
      "epoch: 100 loss:0.344698 auc:0.7528\n",
      "epoch: 120 loss:0.332426 auc:0.7528\n",
      "epoch: 140 loss:0.325195 auc:0.7528\n",
      "epoch: 160 loss:0.320517 auc:0.7506\n",
      "epoch: 180 loss:0.317321 auc:0.7483\n",
      "epoch: 200 loss:0.315056 auc:0.7483\n",
      "epoch: 220 loss:0.313380 auc:0.7483\n"
     ]
    },
    {
     "name": "stderr",
     "output_type": "stream",
     "text": [
      "  5%|▌         | 53/1005 [04:20<1:57:30,  7.41s/it]"
     ]
    },
    {
     "name": "stdout",
     "output_type": "stream",
     "text": [
      "epoch: 240 loss:0.312111 auc:0.7415\n",
      "Fit finished.\n",
      "epoch:   0 loss:0.840737 auc:0.4241\n",
      "epoch:  20 loss:0.594271 auc:0.6308\n",
      "epoch:  40 loss:0.517424 auc:0.5771\n",
      "epoch:  60 loss:0.421315 auc:0.5436\n",
      "epoch:  80 loss:0.372723 auc:0.5042\n",
      "epoch: 100 loss:0.348891 auc:0.4946\n",
      "epoch: 120 loss:0.335730 auc:0.4863\n",
      "epoch: 140 loss:0.327830 auc:0.4827\n",
      "epoch: 160 loss:0.322649 auc:0.4910\n"
     ]
    },
    {
     "name": "stderr",
     "output_type": "stream",
     "text": [
      "  5%|▌         | 54/1005 [04:27<1:55:10,  7.27s/it]"
     ]
    },
    {
     "name": "stdout",
     "output_type": "stream",
     "text": [
      "epoch: 180 loss:0.319023 auc:0.4958\n",
      "Fit finished.\n",
      "epoch:   0 loss:0.790489 auc:0.6817\n",
      "epoch:  20 loss:0.582101 auc:0.9016\n",
      "epoch:  40 loss:0.482529 auc:0.9630\n",
      "epoch:  60 loss:0.396526 auc:0.9410\n",
      "epoch:  80 loss:0.358354 auc:0.9317\n",
      "epoch: 100 loss:0.339634 auc:0.9201\n",
      "epoch: 120 loss:0.329298 auc:0.9167\n",
      "epoch: 140 loss:0.323069 auc:0.9155\n",
      "epoch: 160 loss:0.319033 auc:0.9144\n",
      "epoch: 180 loss:0.316261 auc:0.9144\n"
     ]
    },
    {
     "name": "stderr",
     "output_type": "stream",
     "text": [
      "  5%|▌         | 55/1005 [04:35<1:55:23,  7.29s/it]"
     ]
    },
    {
     "name": "stdout",
     "output_type": "stream",
     "text": [
      "epoch: 200 loss:0.314284 auc:0.9120\n",
      "Fit finished.\n",
      "epoch:   0 loss:0.772648 auc:0.5737\n",
      "epoch:  20 loss:0.580008 auc:0.8766\n",
      "epoch:  40 loss:0.469932 auc:0.9006\n",
      "epoch:  60 loss:0.383447 auc:0.9295\n",
      "epoch:  80 loss:0.349130 auc:0.9167\n",
      "epoch: 100 loss:0.333247 auc:0.9135\n",
      "epoch: 120 loss:0.324969 auc:0.9247\n",
      "epoch: 140 loss:0.320039 auc:0.9295\n",
      "epoch: 160 loss:0.316840 auc:0.9311\n",
      "epoch: 180 loss:0.314650 auc:0.9343\n",
      "epoch: 200 loss:0.313078 auc:0.9359\n",
      "epoch: 220 loss:0.311904 auc:0.9375\n",
      "epoch: 240 loss:0.311000 auc:0.9391\n",
      "epoch: 260 loss:0.310281 auc:0.9375\n",
      "epoch: 280 loss:0.309701 auc:0.9391\n",
      "epoch: 300 loss:0.309231 auc:0.9391\n",
      "epoch: 320 loss:0.308849 auc:0.9375\n",
      "epoch: 340 loss:0.308538 auc:0.9375\n",
      "epoch: 360 loss:0.308285 auc:0.9359\n"
     ]
    },
    {
     "name": "stderr",
     "output_type": "stream",
     "text": [
      "  6%|▌         | 56/1005 [04:48<2:19:59,  8.85s/it]"
     ]
    },
    {
     "name": "stdout",
     "output_type": "stream",
     "text": [
      "epoch: 380 loss:0.308079 auc:0.9359\n",
      "Fit finished.\n",
      "epoch:   0 loss:0.789997 auc:0.5104\n",
      "epoch:  20 loss:0.582758 auc:0.7569\n",
      "epoch:  40 loss:0.487082 auc:0.7170\n",
      "epoch:  60 loss:0.399665 auc:0.7188\n",
      "epoch:  80 loss:0.358521 auc:0.7118\n",
      "epoch: 100 loss:0.338972 auc:0.6858\n",
      "epoch: 120 loss:0.328578 auc:0.6736\n",
      "epoch: 140 loss:0.322394 auc:0.6667\n",
      "epoch: 160 loss:0.318449 auc:0.6597\n"
     ]
    },
    {
     "name": "stderr",
     "output_type": "stream",
     "text": [
      "  6%|▌         | 57/1005 [04:57<2:21:26,  8.95s/it]"
     ]
    },
    {
     "name": "stdout",
     "output_type": "stream",
     "text": [
      "epoch: 180 loss:0.315819 auc:0.6580\n",
      "Fit finished.\n",
      "epoch:   0 loss:0.773998 auc:0.3138\n",
      "epoch:  20 loss:0.559553 auc:0.6181\n",
      "epoch:  40 loss:0.431905 auc:0.5009\n",
      "epoch:  60 loss:0.365676 auc:0.5123\n",
      "epoch:  80 loss:0.339366 auc:0.5142\n",
      "epoch: 100 loss:0.327529 auc:0.5255\n",
      "epoch: 120 loss:0.321090 auc:0.5331\n",
      "epoch: 140 loss:0.317169 auc:0.5388\n",
      "epoch: 160 loss:0.314635 auc:0.5406\n"
     ]
    },
    {
     "name": "stderr",
     "output_type": "stream",
     "text": [
      "  6%|▌         | 58/1005 [05:09<2:32:22,  9.65s/it]"
     ]
    },
    {
     "name": "stdout",
     "output_type": "stream",
     "text": [
      "epoch: 180 loss:0.312904 auc:0.5425\n",
      "Fit finished.\n",
      "epoch:   0 loss:0.812533 auc:0.4650\n",
      "epoch:  20 loss:0.595096 auc:0.7753\n",
      "epoch:  40 loss:0.506063 auc:0.7976\n",
      "epoch:  60 loss:0.419833 auc:0.7887\n",
      "epoch:  80 loss:0.371923 auc:0.7753\n",
      "epoch: 100 loss:0.346599 auc:0.7686\n",
      "epoch: 120 loss:0.333518 auc:0.7597\n",
      "epoch: 140 loss:0.325735 auc:0.7542\n",
      "epoch: 160 loss:0.320743 auc:0.7497\n"
     ]
    },
    {
     "name": "stderr",
     "output_type": "stream",
     "text": [
      "  6%|▌         | 59/1005 [05:19<2:33:45,  9.75s/it]"
     ]
    },
    {
     "name": "stdout",
     "output_type": "stream",
     "text": [
      "epoch: 180 loss:0.317406 auc:0.7453\n",
      "Fit finished.\n",
      "epoch:   0 loss:0.857473 auc:0.3450\n",
      "epoch:  20 loss:0.600962 auc:0.7443\n",
      "epoch:  40 loss:0.532991 auc:0.7466\n",
      "epoch:  60 loss:0.433739 auc:0.7839\n",
      "epoch:  80 loss:0.376568 auc:0.7704\n",
      "epoch: 100 loss:0.349227 auc:0.7873\n",
      "epoch: 120 loss:0.335476 auc:0.7930\n",
      "epoch: 140 loss:0.327617 auc:0.7941\n",
      "epoch: 160 loss:0.322562 auc:0.7873\n",
      "epoch: 180 loss:0.319076 auc:0.7817\n",
      "epoch: 200 loss:0.316579 auc:0.7783\n"
     ]
    },
    {
     "name": "stderr",
     "output_type": "stream",
     "text": [
      "  6%|▌         | 60/1005 [05:30<2:41:13, 10.24s/it]"
     ]
    },
    {
     "name": "stdout",
     "output_type": "stream",
     "text": [
      "epoch: 220 loss:0.314742 auc:0.7715\n",
      "Fit finished.\n",
      "epoch:   0 loss:0.791088 auc:0.4380\n",
      "epoch:  20 loss:0.565523 auc:0.6612\n",
      "epoch:  40 loss:0.436246 auc:0.5558\n",
      "epoch:  60 loss:0.369360 auc:0.5930\n",
      "epoch:  80 loss:0.342321 auc:0.5930\n",
      "epoch: 100 loss:0.329375 auc:0.5847\n",
      "epoch: 120 loss:0.322341 auc:0.5868\n",
      "epoch: 140 loss:0.318108 auc:0.5888\n",
      "epoch: 160 loss:0.315354 auc:0.5930\n"
     ]
    },
    {
     "name": "stderr",
     "output_type": "stream",
     "text": [
      "  6%|▌         | 61/1005 [05:41<2:43:17, 10.38s/it]"
     ]
    },
    {
     "name": "stdout",
     "output_type": "stream",
     "text": [
      "epoch: 180 loss:0.313449 auc:0.5950\n",
      "Fit finished.\n",
      "epoch:   0 loss:0.789981 auc:0.4353\n",
      "epoch:  20 loss:0.565919 auc:0.6440\n",
      "epoch:  40 loss:0.447545 auc:0.6283\n",
      "epoch:  60 loss:0.377527 auc:0.5904\n",
      "epoch:  80 loss:0.347330 auc:0.5770\n",
      "epoch: 100 loss:0.332554 auc:0.5558\n",
      "epoch: 120 loss:0.324368 auc:0.5424\n",
      "epoch: 140 loss:0.319319 auc:0.5435\n",
      "epoch: 160 loss:0.315967 auc:0.5480\n"
     ]
    },
    {
     "name": "stderr",
     "output_type": "stream",
     "text": [
      "  6%|▌         | 62/1005 [05:51<2:42:29, 10.34s/it]"
     ]
    },
    {
     "name": "stdout",
     "output_type": "stream",
     "text": [
      "epoch: 180 loss:0.313655 auc:0.5547\n",
      "Fit finished.\n",
      "epoch:   0 loss:0.798992 auc:0.5638\n",
      "epoch:  20 loss:0.597176 auc:0.7517\n",
      "epoch:  40 loss:0.522303 auc:0.7970\n",
      "epoch:  60 loss:0.424955 auc:0.8573\n",
      "epoch:  80 loss:0.375464 auc:0.8546\n",
      "epoch: 100 loss:0.349905 auc:0.8477\n",
      "epoch: 120 loss:0.335628 auc:0.8395\n",
      "epoch: 140 loss:0.327313 auc:0.8340\n",
      "epoch: 160 loss:0.322098 auc:0.8354\n",
      "epoch: 180 loss:0.318621 auc:0.8299\n",
      "epoch: 200 loss:0.316160 auc:0.8299\n"
     ]
    },
    {
     "name": "stderr",
     "output_type": "stream",
     "text": [
      "  6%|▋         | 63/1005 [06:01<2:42:19, 10.34s/it]"
     ]
    },
    {
     "name": "stdout",
     "output_type": "stream",
     "text": [
      "epoch: 220 loss:0.314341 auc:0.8272\n",
      "Fit finished.\n",
      "epoch:   0 loss:0.840163 auc:0.4307\n",
      "epoch:  20 loss:0.589646 auc:0.5734\n",
      "epoch:  40 loss:0.501140 auc:0.5693\n",
      "epoch:  60 loss:0.420197 auc:0.5734\n",
      "epoch:  80 loss:0.371628 auc:0.6049\n",
      "epoch: 100 loss:0.345826 auc:0.6008\n",
      "epoch: 120 loss:0.332521 auc:0.5995\n",
      "epoch: 140 loss:0.324947 auc:0.5995\n",
      "epoch: 160 loss:0.320212 auc:0.5940\n",
      "epoch: 180 loss:0.317057 auc:0.5830\n",
      "epoch: 200 loss:0.314844 auc:0.5830\n",
      "epoch: 220 loss:0.313219 auc:0.5761\n"
     ]
    },
    {
     "name": "stderr",
     "output_type": "stream",
     "text": [
      "  6%|▋         | 64/1005 [06:13<2:46:26, 10.61s/it]"
     ]
    },
    {
     "name": "stdout",
     "output_type": "stream",
     "text": [
      "epoch: 240 loss:0.311982 auc:0.5761\n",
      "Fit finished.\n",
      "epoch:   0 loss:0.799674 auc:0.5491\n",
      "epoch:  20 loss:0.591209 auc:0.7969\n",
      "epoch:  40 loss:0.501899 auc:0.8214\n",
      "epoch:  60 loss:0.412584 auc:0.8438\n",
      "epoch:  80 loss:0.368142 auc:0.8136\n",
      "epoch: 100 loss:0.346024 auc:0.8114\n",
      "epoch: 120 loss:0.334163 auc:0.8136\n",
      "epoch: 140 loss:0.326939 auc:0.8158\n",
      "epoch: 160 loss:0.322137 auc:0.8114\n",
      "epoch: 180 loss:0.318786 auc:0.8125\n"
     ]
    },
    {
     "name": "stderr",
     "output_type": "stream",
     "text": [
      "  6%|▋         | 65/1005 [06:23<2:45:44, 10.58s/it]"
     ]
    },
    {
     "name": "stdout",
     "output_type": "stream",
     "text": [
      "epoch: 200 loss:0.316364 auc:0.8080\n",
      "Fit finished.\n",
      "epoch:   0 loss:0.808556 auc:0.5656\n",
      "epoch:  20 loss:0.587909 auc:0.7817\n",
      "epoch:  40 loss:0.507366 auc:0.6425\n",
      "epoch:  60 loss:0.416263 auc:0.6346\n",
      "epoch:  80 loss:0.368646 auc:0.6120\n",
      "epoch: 100 loss:0.345170 auc:0.6176\n",
      "epoch: 120 loss:0.332674 auc:0.6041\n",
      "epoch: 140 loss:0.325256 auc:0.6018\n",
      "epoch: 160 loss:0.320525 auc:0.5939\n"
     ]
    },
    {
     "name": "stderr",
     "output_type": "stream",
     "text": [
      "  7%|▋         | 66/1005 [06:32<2:37:23, 10.06s/it]"
     ]
    },
    {
     "name": "stdout",
     "output_type": "stream",
     "text": [
      "epoch: 180 loss:0.317349 auc:0.5905\n",
      "Fit finished.\n",
      "epoch:   0 loss:0.823331 auc:0.4078\n",
      "epoch:  20 loss:0.602594 auc:0.6189\n",
      "epoch:  40 loss:0.550834 auc:0.6267\n",
      "epoch:  60 loss:0.451867 auc:0.5933\n",
      "epoch:  80 loss:0.385343 auc:0.5478\n",
      "epoch: 100 loss:0.353224 auc:0.5322\n",
      "epoch: 120 loss:0.337326 auc:0.5200\n",
      "epoch: 140 loss:0.328565 auc:0.5222\n",
      "epoch: 160 loss:0.323122 auc:0.5144\n"
     ]
    },
    {
     "name": "stderr",
     "output_type": "stream",
     "text": [
      "  7%|▋         | 67/1005 [06:41<2:31:24,  9.69s/it]"
     ]
    },
    {
     "name": "stdout",
     "output_type": "stream",
     "text": [
      "epoch: 180 loss:0.319441 auc:0.5156\n",
      "Fit finished.\n",
      "epoch:   0 loss:0.794438 auc:0.5938\n",
      "epoch:  20 loss:0.586809 auc:0.6667\n",
      "epoch:  40 loss:0.491841 auc:0.7014\n",
      "epoch:  60 loss:0.403234 auc:0.7118\n",
      "epoch:  80 loss:0.360233 auc:0.6962\n",
      "epoch: 100 loss:0.339306 auc:0.6875\n",
      "epoch: 120 loss:0.328472 auc:0.6771\n",
      "epoch: 140 loss:0.322164 auc:0.6806\n",
      "epoch: 160 loss:0.318168 auc:0.6858\n",
      "epoch: 180 loss:0.315498 auc:0.6875\n"
     ]
    },
    {
     "name": "stderr",
     "output_type": "stream",
     "text": [
      "  7%|▋         | 68/1005 [06:51<2:32:07,  9.74s/it]"
     ]
    },
    {
     "name": "stdout",
     "output_type": "stream",
     "text": [
      "epoch: 200 loss:0.313630 auc:0.6910\n",
      "Fit finished.\n",
      "epoch:   0 loss:0.871811 auc:0.6012\n",
      "epoch:  20 loss:0.594174 auc:0.7353\n",
      "epoch:  40 loss:0.519832 auc:0.7671\n",
      "epoch:  60 loss:0.430713 auc:0.8012\n",
      "epoch:  80 loss:0.375477 auc:0.7894\n",
      "epoch: 100 loss:0.348991 auc:0.7953\n",
      "epoch: 120 loss:0.335296 auc:0.7953\n",
      "epoch: 140 loss:0.327389 auc:0.7894\n",
      "epoch: 160 loss:0.322362 auc:0.7918\n",
      "epoch: 180 loss:0.318905 auc:0.7847\n",
      "epoch: 200 loss:0.316382 auc:0.7788\n"
     ]
    },
    {
     "name": "stderr",
     "output_type": "stream",
     "text": [
      "  7%|▋         | 69/1005 [07:02<2:37:52, 10.12s/it]"
     ]
    },
    {
     "name": "stdout",
     "output_type": "stream",
     "text": [
      "epoch: 220 loss:0.314481 auc:0.7776\n",
      "Fit finished.\n",
      "epoch:   0 loss:0.775920 auc:0.4401\n",
      "epoch:  20 loss:0.587571 auc:0.5475\n",
      "epoch:  40 loss:0.493208 auc:0.4897\n",
      "epoch:  60 loss:0.402646 auc:0.4773\n",
      "epoch:  80 loss:0.362027 auc:0.4690\n",
      "epoch: 100 loss:0.342197 auc:0.4669\n",
      "epoch: 120 loss:0.331267 auc:0.4690\n",
      "epoch: 140 loss:0.324646 auc:0.4731\n",
      "epoch: 160 loss:0.320283 auc:0.4752\n"
     ]
    },
    {
     "name": "stderr",
     "output_type": "stream",
     "text": [
      "  7%|▋         | 70/1005 [07:10<2:31:03,  9.69s/it]"
     ]
    },
    {
     "name": "stdout",
     "output_type": "stream",
     "text": [
      "epoch: 180 loss:0.317243 auc:0.4814\n",
      "Fit finished.\n",
      "epoch:   0 loss:0.782474 auc:0.4885\n",
      "epoch:  20 loss:0.576154 auc:0.7770\n",
      "epoch:  40 loss:0.460815 auc:0.6690\n",
      "epoch:  60 loss:0.385796 auc:0.5874\n",
      "epoch:  80 loss:0.351305 auc:0.5920\n",
      "epoch: 100 loss:0.334541 auc:0.5943\n",
      "epoch: 120 loss:0.325715 auc:0.5989\n",
      "epoch: 140 loss:0.320467 auc:0.5954\n",
      "epoch: 160 loss:0.317035 auc:0.5897\n"
     ]
    },
    {
     "name": "stderr",
     "output_type": "stream",
     "text": [
      "  7%|▋         | 71/1005 [07:18<2:22:27,  9.15s/it]"
     ]
    },
    {
     "name": "stdout",
     "output_type": "stream",
     "text": [
      "epoch: 180 loss:0.314664 auc:0.5839\n",
      "Fit finished.\n",
      "epoch:   0 loss:0.879302 auc:0.5139\n",
      "epoch:  20 loss:0.595156 auc:0.3056\n",
      "epoch:  40 loss:0.517710 auc:0.3542\n",
      "epoch:  60 loss:0.422799 auc:0.4028\n",
      "epoch:  80 loss:0.372888 auc:0.3056\n",
      "epoch: 100 loss:0.348804 auc:0.3125\n",
      "epoch: 120 loss:0.335638 auc:0.3125\n",
      "epoch: 140 loss:0.327599 auc:0.3125\n"
     ]
    },
    {
     "name": "stderr",
     "output_type": "stream",
     "text": [
      "  7%|▋         | 72/1005 [07:26<2:15:56,  8.74s/it]"
     ]
    },
    {
     "name": "stdout",
     "output_type": "stream",
     "text": [
      "epoch: 160 loss:0.322384 auc:0.3125\n",
      "Fit finished.\n",
      "epoch:   0 loss:0.818124 auc:0.6183\n",
      "epoch:  20 loss:0.594025 auc:0.6198\n",
      "epoch:  40 loss:0.511218 auc:0.6376\n",
      "epoch:  60 loss:0.435360 auc:0.6805\n",
      "epoch:  80 loss:0.382270 auc:0.7012\n",
      "epoch: 100 loss:0.354837 auc:0.6997\n",
      "epoch: 120 loss:0.339878 auc:0.6967\n",
      "epoch: 140 loss:0.330663 auc:0.6967\n",
      "epoch: 160 loss:0.324497 auc:0.6982\n",
      "epoch: 180 loss:0.320222 auc:0.6938\n",
      "epoch: 200 loss:0.317206 auc:0.6982\n",
      "epoch: 220 loss:0.315034 auc:0.6879\n"
     ]
    },
    {
     "name": "stderr",
     "output_type": "stream",
     "text": [
      "  7%|▋         | 73/1005 [07:37<2:27:18,  9.48s/it]"
     ]
    },
    {
     "name": "stdout",
     "output_type": "stream",
     "text": [
      "epoch: 240 loss:0.313432 auc:0.6834\n",
      "Fit finished.\n",
      "epoch:   0 loss:0.794887 auc:0.5240\n",
      "epoch:  20 loss:0.574494 auc:0.6241\n",
      "epoch:  40 loss:0.445618 auc:0.6214\n",
      "epoch:  60 loss:0.364939 auc:0.6831\n",
      "epoch:  80 loss:0.338189 auc:0.6982\n",
      "epoch: 100 loss:0.326810 auc:0.6900\n",
      "epoch: 120 loss:0.320650 auc:0.6886\n",
      "epoch: 140 loss:0.316856 auc:0.6886\n",
      "epoch: 160 loss:0.314343 auc:0.6914\n",
      "epoch: 180 loss:0.312584 auc:0.6886\n",
      "epoch: 200 loss:0.311299 auc:0.6859\n",
      "epoch: 220 loss:0.310332 auc:0.6845\n"
     ]
    },
    {
     "name": "stderr",
     "output_type": "stream",
     "text": [
      "  7%|▋         | 74/1005 [07:49<2:35:53, 10.05s/it]"
     ]
    },
    {
     "name": "stdout",
     "output_type": "stream",
     "text": [
      "epoch: 240 loss:0.309596 auc:0.6804\n",
      "Fit finished.\n",
      "epoch:   0 loss:0.770341 auc:0.4815\n",
      "epoch:  20 loss:0.582022 auc:0.6790\n",
      "epoch:  40 loss:0.487723 auc:0.6475\n",
      "epoch:  60 loss:0.403587 auc:0.6214\n",
      "epoch:  80 loss:0.360694 auc:0.6173\n",
      "epoch: 100 loss:0.340554 auc:0.6187\n",
      "epoch: 120 loss:0.329991 auc:0.6324\n",
      "epoch: 140 loss:0.323767 auc:0.6351\n",
      "epoch: 160 loss:0.319701 auc:0.6379\n"
     ]
    },
    {
     "name": "stderr",
     "output_type": "stream",
     "text": [
      "  7%|▋         | 75/1005 [07:57<2:28:26,  9.58s/it]"
     ]
    },
    {
     "name": "stdout",
     "output_type": "stream",
     "text": [
      "epoch: 180 loss:0.316855 auc:0.6337\n",
      "Fit finished.\n",
      "epoch:   0 loss:0.816459 auc:0.5191\n",
      "epoch:  20 loss:0.598721 auc:0.7857\n",
      "epoch:  40 loss:0.547674 auc:0.8176\n",
      "epoch:  60 loss:0.450666 auc:0.8380\n",
      "epoch:  80 loss:0.387122 auc:0.8291\n",
      "epoch: 100 loss:0.355796 auc:0.8253\n",
      "epoch: 120 loss:0.339720 auc:0.8163\n",
      "epoch: 140 loss:0.330685 auc:0.8202\n",
      "epoch: 160 loss:0.325017 auc:0.8189\n",
      "epoch: 180 loss:0.321129 auc:0.8176\n",
      "epoch: 200 loss:0.318292 auc:0.8189\n"
     ]
    },
    {
     "name": "stderr",
     "output_type": "stream",
     "text": [
      "  8%|▊         | 76/1005 [08:08<2:32:41,  9.86s/it]"
     ]
    },
    {
     "name": "stdout",
     "output_type": "stream",
     "text": [
      "epoch: 220 loss:0.316140 auc:0.8138\n",
      "Fit finished.\n",
      "epoch:   0 loss:0.789372 auc:0.4638\n",
      "epoch:  20 loss:0.579504 auc:0.8744\n",
      "epoch:  40 loss:0.463680 auc:0.8462\n",
      "epoch:  60 loss:0.387632 auc:0.8405\n",
      "epoch:  80 loss:0.352999 auc:0.8360\n",
      "epoch: 100 loss:0.335573 auc:0.8292\n",
      "epoch: 120 loss:0.326262 auc:0.8337\n",
      "epoch: 140 loss:0.320758 auc:0.8326\n",
      "epoch: 160 loss:0.317187 auc:0.8337\n"
     ]
    },
    {
     "name": "stderr",
     "output_type": "stream",
     "text": [
      "  8%|▊         | 77/1005 [08:17<2:28:12,  9.58s/it]"
     ]
    },
    {
     "name": "stdout",
     "output_type": "stream",
     "text": [
      "epoch: 180 loss:0.314730 auc:0.8348\n",
      "Fit finished.\n",
      "epoch:   0 loss:0.776979 auc:0.4535\n",
      "epoch:  20 loss:0.597162 auc:0.5238\n",
      "epoch:  40 loss:0.522265 auc:0.5556\n",
      "epoch:  60 loss:0.427287 auc:0.6077\n",
      "epoch:  80 loss:0.377707 auc:0.5986\n",
      "epoch: 100 loss:0.352726 auc:0.5918\n",
      "epoch: 120 loss:0.338943 auc:0.5828\n",
      "epoch: 140 loss:0.330531 auc:0.5850\n",
      "epoch: 160 loss:0.324953 auc:0.5692\n",
      "epoch: 180 loss:0.321068 auc:0.5737\n",
      "epoch: 200 loss:0.318254 auc:0.5737\n"
     ]
    },
    {
     "name": "stderr",
     "output_type": "stream",
     "text": [
      "  8%|▊         | 78/1005 [08:28<2:36:31, 10.13s/it]"
     ]
    },
    {
     "name": "stdout",
     "output_type": "stream",
     "text": [
      "epoch: 220 loss:0.316139 auc:0.5737\n",
      "Fit finished.\n",
      "epoch:   0 loss:0.795138 auc:0.4527\n",
      "epoch:  20 loss:0.567939 auc:0.7846\n",
      "epoch:  40 loss:0.452295 auc:0.6255\n",
      "epoch:  60 loss:0.379882 auc:0.6228\n",
      "epoch:  80 loss:0.347507 auc:0.6392\n",
      "epoch: 100 loss:0.332277 auc:0.6337\n",
      "epoch: 120 loss:0.323864 auc:0.6269\n",
      "epoch: 140 loss:0.318849 auc:0.6091\n",
      "epoch: 160 loss:0.315693 auc:0.6036\n"
     ]
    },
    {
     "name": "stderr",
     "output_type": "stream",
     "text": [
      "  8%|▊         | 79/1005 [08:37<2:29:46,  9.70s/it]"
     ]
    },
    {
     "name": "stdout",
     "output_type": "stream",
     "text": [
      "epoch: 180 loss:0.313595 auc:0.6008\n",
      "Fit finished.\n",
      "epoch:   0 loss:0.776071 auc:0.4688\n",
      "epoch:  20 loss:0.592949 auc:0.6687\n",
      "epoch:  40 loss:0.508761 auc:0.6125\n",
      "epoch:  60 loss:0.420820 auc:0.5713\n",
      "epoch:  80 loss:0.369118 auc:0.5675\n",
      "epoch: 100 loss:0.344812 auc:0.5613\n",
      "epoch: 120 loss:0.332119 auc:0.5588\n",
      "epoch: 140 loss:0.324640 auc:0.5650\n",
      "epoch: 160 loss:0.319899 auc:0.5650\n"
     ]
    },
    {
     "name": "stderr",
     "output_type": "stream",
     "text": [
      "  8%|▊         | 80/1005 [08:47<2:34:12, 10.00s/it]"
     ]
    },
    {
     "name": "stdout",
     "output_type": "stream",
     "text": [
      "epoch: 180 loss:0.316739 auc:0.5600\n",
      "Fit finished.\n",
      "epoch:   0 loss:0.810420 auc:0.5040\n",
      "epoch:  20 loss:0.596135 auc:0.7216\n",
      "epoch:  40 loss:0.518612 auc:0.6080\n",
      "epoch:  60 loss:0.425753 auc:0.6032\n",
      "epoch:  80 loss:0.374778 auc:0.5856\n",
      "epoch: 100 loss:0.349859 auc:0.5808\n",
      "epoch: 120 loss:0.336181 auc:0.5760\n",
      "epoch: 140 loss:0.327872 auc:0.5616\n",
      "epoch: 160 loss:0.322487 auc:0.5584\n"
     ]
    },
    {
     "name": "stderr",
     "output_type": "stream",
     "text": [
      "  8%|▊         | 81/1005 [08:58<2:37:10, 10.21s/it]"
     ]
    },
    {
     "name": "stdout",
     "output_type": "stream",
     "text": [
      "epoch: 180 loss:0.318832 auc:0.5552\n",
      "Fit finished.\n",
      "epoch:   0 loss:0.820553 auc:0.6202\n",
      "epoch:  20 loss:0.578483 auc:0.7679\n",
      "epoch:  40 loss:0.477411 auc:0.6131\n",
      "epoch:  60 loss:0.395369 auc:0.6321\n",
      "epoch:  80 loss:0.357803 auc:0.6524\n",
      "epoch: 100 loss:0.339834 auc:0.6464\n",
      "epoch: 120 loss:0.329549 auc:0.6452\n",
      "epoch: 140 loss:0.323130 auc:0.6417\n",
      "epoch: 160 loss:0.318979 auc:0.6440\n"
     ]
    },
    {
     "name": "stderr",
     "output_type": "stream",
     "text": [
      "  8%|▊         | 83/1005 [09:07<1:57:22,  7.64s/it]"
     ]
    },
    {
     "name": "stdout",
     "output_type": "stream",
     "text": [
      "epoch: 180 loss:0.316175 auc:0.6464\n",
      "Fit finished.\n",
      "epoch:   0 loss:0.808461 auc:0.5799\n",
      "epoch:  20 loss:0.579948 auc:0.8299\n",
      "epoch:  40 loss:0.487206 auc:0.6823\n",
      "epoch:  60 loss:0.404704 auc:0.7083\n",
      "epoch:  80 loss:0.365557 auc:0.7170\n",
      "epoch: 100 loss:0.345096 auc:0.7170\n",
      "epoch: 120 loss:0.333226 auc:0.7101\n",
      "epoch: 140 loss:0.325963 auc:0.7066\n",
      "epoch: 160 loss:0.321308 auc:0.7170\n"
     ]
    },
    {
     "name": "stderr",
     "output_type": "stream",
     "text": [
      "  8%|▊         | 84/1005 [09:17<2:04:51,  8.13s/it]"
     ]
    },
    {
     "name": "stdout",
     "output_type": "stream",
     "text": [
      "epoch: 180 loss:0.318122 auc:0.7170\n",
      "Fit finished.\n",
      "epoch:   0 loss:0.881391 auc:0.5275\n",
      "epoch:  20 loss:0.603900 auc:0.6308\n",
      "epoch:  40 loss:0.569603 auc:0.6487\n",
      "epoch:  60 loss:0.477272 auc:0.7767\n",
      "epoch:  80 loss:0.401759 auc:0.7632\n",
      "epoch: 100 loss:0.364336 auc:0.7666\n",
      "epoch: 120 loss:0.344780 auc:0.7609\n",
      "epoch: 140 loss:0.333630 auc:0.7553\n",
      "epoch: 160 loss:0.326668 auc:0.7520\n",
      "epoch: 180 loss:0.322007 auc:0.7452\n",
      "epoch: 200 loss:0.318711 auc:0.7430\n"
     ]
    },
    {
     "name": "stderr",
     "output_type": "stream",
     "text": [
      "  8%|▊         | 85/1005 [09:27<2:11:49,  8.60s/it]"
     ]
    },
    {
     "name": "stdout",
     "output_type": "stream",
     "text": [
      "epoch: 220 loss:0.316300 auc:0.7452\n",
      "Fit finished.\n",
      "epoch:   0 loss:0.795174 auc:0.3236\n",
      "epoch:  20 loss:0.590987 auc:0.6081\n",
      "epoch:  40 loss:0.505708 auc:0.5763\n",
      "epoch:  60 loss:0.416002 auc:0.5336\n",
      "epoch:  80 loss:0.370307 auc:0.5201\n",
      "epoch: 100 loss:0.347442 auc:0.5214\n",
      "epoch: 120 loss:0.335046 auc:0.5275\n",
      "epoch: 140 loss:0.327437 auc:0.5238\n",
      "epoch: 160 loss:0.322424 auc:0.5226\n"
     ]
    },
    {
     "name": "stderr",
     "output_type": "stream",
     "text": [
      "  9%|▊         | 86/1005 [09:35<2:10:27,  8.52s/it]"
     ]
    },
    {
     "name": "stdout",
     "output_type": "stream",
     "text": [
      "epoch: 180 loss:0.318949 auc:0.5238\n",
      "Fit finished.\n",
      "epoch:   0 loss:0.797919 auc:0.4627\n",
      "epoch:  20 loss:0.592590 auc:0.7119\n",
      "epoch:  40 loss:0.503201 auc:0.3693\n",
      "epoch:  60 loss:0.409108 auc:0.2269\n",
      "epoch:  80 loss:0.364265 auc:0.2047\n",
      "epoch: 100 loss:0.343044 auc:0.1858\n",
      "epoch: 120 loss:0.331645 auc:0.1746\n",
      "epoch: 140 loss:0.324798 auc:0.1702\n"
     ]
    },
    {
     "name": "stderr",
     "output_type": "stream",
     "text": [
      "  9%|▊         | 87/1005 [09:43<2:07:11,  8.31s/it]"
     ]
    },
    {
     "name": "stdout",
     "output_type": "stream",
     "text": [
      "epoch: 160 loss:0.320393 auc:0.1713\n",
      "Fit finished.\n",
      "epoch:   0 loss:0.775652 auc:0.5434\n",
      "epoch:  20 loss:0.581488 auc:0.7420\n",
      "epoch:  40 loss:0.495667 auc:0.7883\n",
      "epoch:  60 loss:0.408797 auc:0.7729\n",
      "epoch:  80 loss:0.363911 auc:0.7622\n",
      "epoch: 100 loss:0.343170 auc:0.7634\n",
      "epoch: 120 loss:0.332271 auc:0.7586\n",
      "epoch: 140 loss:0.325613 auc:0.7527\n",
      "epoch: 160 loss:0.321141 auc:0.7479\n",
      "epoch: 180 loss:0.317983 auc:0.7444\n"
     ]
    },
    {
     "name": "stderr",
     "output_type": "stream",
     "text": [
      "  9%|▉         | 88/1005 [09:53<2:16:31,  8.93s/it]"
     ]
    },
    {
     "name": "stdout",
     "output_type": "stream",
     "text": [
      "epoch: 200 loss:0.315676 auc:0.7444\n",
      "Fit finished.\n",
      "epoch:   0 loss:0.799709 auc:0.5872\n",
      "epoch:  20 loss:0.598728 auc:0.8096\n",
      "epoch:  40 loss:0.534294 auc:0.8688\n",
      "epoch:  60 loss:0.441911 auc:0.8800\n",
      "epoch:  80 loss:0.383230 auc:0.8784\n",
      "epoch: 100 loss:0.354696 auc:0.8768\n",
      "epoch: 120 loss:0.339274 auc:0.8704\n",
      "epoch: 140 loss:0.330075 auc:0.8640\n",
      "epoch: 160 loss:0.324181 auc:0.8624\n",
      "epoch: 180 loss:0.320170 auc:0.8576\n"
     ]
    },
    {
     "name": "stderr",
     "output_type": "stream",
     "text": [
      "  9%|▉         | 89/1005 [10:04<2:22:04,  9.31s/it]"
     ]
    },
    {
     "name": "stdout",
     "output_type": "stream",
     "text": [
      "epoch: 200 loss:0.317315 auc:0.8512\n",
      "Fit finished.\n",
      "epoch:   0 loss:0.806228 auc:0.6529\n",
      "epoch:  20 loss:0.583582 auc:0.7438\n",
      "epoch:  40 loss:0.483698 auc:0.6983\n",
      "epoch:  60 loss:0.400064 auc:0.6818\n",
      "epoch:  80 loss:0.361298 auc:0.6715\n",
      "epoch: 100 loss:0.342218 auc:0.6591\n",
      "epoch: 120 loss:0.331456 auc:0.6612\n",
      "epoch: 140 loss:0.324844 auc:0.6529\n",
      "epoch: 160 loss:0.320488 auc:0.6550\n"
     ]
    },
    {
     "name": "stderr",
     "output_type": "stream",
     "text": [
      "  9%|▉         | 90/1005 [10:14<2:26:42,  9.62s/it]"
     ]
    },
    {
     "name": "stdout",
     "output_type": "stream",
     "text": [
      "epoch: 180 loss:0.317430 auc:0.6529\n",
      "Fit finished.\n",
      "epoch:   0 loss:0.787643 auc:0.6357\n",
      "epoch:  20 loss:0.576173 auc:0.7086\n",
      "epoch:  40 loss:0.469176 auc:0.7145\n",
      "epoch:  60 loss:0.393917 auc:0.7156\n",
      "epoch:  80 loss:0.356939 auc:0.7368\n",
      "epoch: 100 loss:0.338768 auc:0.7427\n",
      "epoch: 120 loss:0.328295 auc:0.7497\n",
      "epoch: 140 loss:0.321944 auc:0.7474\n",
      "epoch: 160 loss:0.317973 auc:0.7497\n",
      "epoch: 180 loss:0.315359 auc:0.7497\n",
      "epoch: 200 loss:0.313545 auc:0.7474\n",
      "epoch: 220 loss:0.312230 auc:0.7474\n",
      "epoch: 240 loss:0.311240 auc:0.7450\n",
      "epoch: 260 loss:0.310477 auc:0.7438\n"
     ]
    },
    {
     "name": "stderr",
     "output_type": "stream",
     "text": [
      "  9%|▉         | 91/1005 [10:27<2:41:48, 10.62s/it]"
     ]
    },
    {
     "name": "stdout",
     "output_type": "stream",
     "text": [
      "epoch: 280 loss:0.309876 auc:0.7438\n",
      "Fit finished.\n",
      "epoch:   0 loss:0.773772 auc:0.4311\n",
      "epoch:  20 loss:0.579071 auc:0.7978\n",
      "epoch:  40 loss:0.467991 auc:0.9000\n",
      "epoch:  60 loss:0.389543 auc:0.8900\n",
      "epoch:  80 loss:0.352733 auc:0.8744\n",
      "epoch: 100 loss:0.335201 auc:0.8733\n",
      "epoch: 120 loss:0.325974 auc:0.8700\n",
      "epoch: 140 loss:0.320478 auc:0.8722\n",
      "epoch: 160 loss:0.316934 auc:0.8733\n",
      "epoch: 180 loss:0.314517 auc:0.8756\n"
     ]
    },
    {
     "name": "stderr",
     "output_type": "stream",
     "text": [
      "  9%|▉         | 92/1005 [10:37<2:39:25, 10.48s/it]"
     ]
    },
    {
     "name": "stdout",
     "output_type": "stream",
     "text": [
      "epoch: 200 loss:0.312818 auc:0.8756\n",
      "Fit finished.\n",
      "epoch:   0 loss:0.831388 auc:0.4353\n",
      "epoch:  20 loss:0.593274 auc:0.7235\n",
      "epoch:  40 loss:0.523893 auc:0.5906\n",
      "epoch:  60 loss:0.436321 auc:0.5906\n",
      "epoch:  80 loss:0.383063 auc:0.5682\n",
      "epoch: 100 loss:0.353466 auc:0.5576\n",
      "epoch: 120 loss:0.337571 auc:0.5459\n",
      "epoch: 140 loss:0.328631 auc:0.5376\n",
      "epoch: 160 loss:0.323102 auc:0.5282\n"
     ]
    },
    {
     "name": "stderr",
     "output_type": "stream",
     "text": [
      "  9%|▉         | 93/1005 [10:49<2:46:57, 10.98s/it]"
     ]
    },
    {
     "name": "stdout",
     "output_type": "stream",
     "text": [
      "epoch: 180 loss:0.319409 auc:0.5165\n",
      "Fit finished.\n",
      "epoch:   0 loss:0.795291 auc:0.4588\n",
      "epoch:  20 loss:0.583846 auc:0.6392\n",
      "epoch:  40 loss:0.493991 auc:0.6588\n",
      "epoch:  60 loss:0.407454 auc:0.6569\n",
      "epoch:  80 loss:0.362819 auc:0.6216\n",
      "epoch: 100 loss:0.341777 auc:0.5961\n",
      "epoch: 120 loss:0.330405 auc:0.5765\n",
      "epoch: 140 loss:0.323564 auc:0.5902\n",
      "epoch: 160 loss:0.319222 auc:0.5941\n"
     ]
    },
    {
     "name": "stderr",
     "output_type": "stream",
     "text": [
      "  9%|▉         | 94/1005 [11:00<2:44:15, 10.82s/it]"
     ]
    },
    {
     "name": "stdout",
     "output_type": "stream",
     "text": [
      "epoch: 180 loss:0.316312 auc:0.5863\n",
      "Fit finished.\n",
      "epoch:   0 loss:0.807248 auc:0.4713\n",
      "epoch:  20 loss:0.572690 auc:0.5563\n",
      "epoch:  40 loss:0.454779 auc:0.5150\n",
      "epoch:  60 loss:0.382812 auc:0.5200\n",
      "epoch:  80 loss:0.350085 auc:0.5225\n",
      "epoch: 100 loss:0.334417 auc:0.5212\n",
      "epoch: 120 loss:0.325829 auc:0.5162\n",
      "epoch: 140 loss:0.320592 auc:0.5138\n",
      "epoch: 160 loss:0.317164 auc:0.5075\n"
     ]
    },
    {
     "name": "stderr",
     "output_type": "stream",
     "text": [
      "  9%|▉         | 95/1005 [11:14<2:58:31, 11.77s/it]"
     ]
    },
    {
     "name": "stdout",
     "output_type": "stream",
     "text": [
      "epoch: 180 loss:0.314790 auc:0.5075\n",
      "Fit finished.\n",
      "epoch:   0 loss:0.795469 auc:0.6004\n",
      "epoch:  20 loss:0.588949 auc:0.7284\n",
      "epoch:  40 loss:0.510208 auc:0.7868\n",
      "epoch:  60 loss:0.412854 auc:0.8339\n",
      "epoch:  80 loss:0.367294 auc:0.8462\n",
      "epoch: 100 loss:0.345567 auc:0.8440\n",
      "epoch: 120 loss:0.333835 auc:0.8462\n",
      "epoch: 140 loss:0.326762 auc:0.8418\n",
      "epoch: 160 loss:0.322046 auc:0.8350\n",
      "epoch: 180 loss:0.318702 auc:0.8350\n",
      "epoch: 200 loss:0.316266 auc:0.8316\n"
     ]
    },
    {
     "name": "stderr",
     "output_type": "stream",
     "text": [
      " 10%|▉         | 96/1005 [11:25<2:53:45, 11.47s/it]"
     ]
    },
    {
     "name": "stdout",
     "output_type": "stream",
     "text": [
      "epoch: 220 loss:0.314460 auc:0.8238\n",
      "Fit finished.\n",
      "epoch:   0 loss:0.786910 auc:0.6033\n",
      "epoch:  20 loss:0.563034 auc:0.6862\n",
      "epoch:  40 loss:0.431791 auc:0.6607\n",
      "epoch:  60 loss:0.367640 auc:0.7028\n",
      "epoch:  80 loss:0.341124 auc:0.6952\n",
      "epoch: 100 loss:0.328538 auc:0.6990\n",
      "epoch: 120 loss:0.321750 auc:0.7015\n",
      "epoch: 140 loss:0.317632 auc:0.7066\n",
      "epoch: 160 loss:0.314861 auc:0.7079\n",
      "epoch: 180 loss:0.312898 auc:0.7105\n",
      "epoch: 200 loss:0.311478 auc:0.7117\n",
      "epoch: 220 loss:0.310448 auc:0.7181\n",
      "epoch: 240 loss:0.309693 auc:0.7117\n",
      "epoch: 260 loss:0.309130 auc:0.7092\n",
      "epoch: 280 loss:0.308703 auc:0.7105\n",
      "epoch: 300 loss:0.308375 auc:0.7130\n",
      "epoch: 320 loss:0.308118 auc:0.7117\n",
      "epoch: 340 loss:0.307916 auc:0.7130\n",
      "epoch: 360 loss:0.307752 auc:0.7168\n"
     ]
    },
    {
     "name": "stderr",
     "output_type": "stream",
     "text": [
      " 10%|▉         | 97/1005 [11:41<3:17:08, 13.03s/it]"
     ]
    },
    {
     "name": "stdout",
     "output_type": "stream",
     "text": [
      "epoch: 380 loss:0.307618 auc:0.7168\n",
      "Fit finished.\n",
      "epoch:   0 loss:0.794719 auc:0.5578\n",
      "epoch:  20 loss:0.600720 auc:0.6032\n",
      "epoch:  40 loss:0.539523 auc:0.6122\n",
      "epoch:  60 loss:0.441236 auc:0.6122\n",
      "epoch:  80 loss:0.377860 auc:0.6304\n",
      "epoch: 100 loss:0.348766 auc:0.6009\n",
      "epoch: 120 loss:0.334410 auc:0.5896\n",
      "epoch: 140 loss:0.326287 auc:0.5918\n",
      "epoch: 160 loss:0.321198 auc:0.5941\n"
     ]
    },
    {
     "name": "stderr",
     "output_type": "stream",
     "text": [
      " 10%|▉         | 98/1005 [11:50<2:58:52, 11.83s/it]"
     ]
    },
    {
     "name": "stdout",
     "output_type": "stream",
     "text": [
      "epoch: 180 loss:0.317825 auc:0.5896\n",
      "Fit finished.\n",
      "epoch:   0 loss:0.835347 auc:0.5251\n",
      "epoch:  20 loss:0.599380 auc:0.6154\n",
      "epoch:  40 loss:0.553121 auc:0.5976\n",
      "epoch:  60 loss:0.457936 auc:0.6169\n",
      "epoch:  80 loss:0.389956 auc:0.6479\n",
      "epoch: 100 loss:0.358012 auc:0.6435\n",
      "epoch: 120 loss:0.341527 auc:0.6272\n",
      "epoch: 140 loss:0.331895 auc:0.6243\n",
      "epoch: 160 loss:0.325746 auc:0.6331\n",
      "epoch: 180 loss:0.321560 auc:0.6287\n",
      "epoch: 200 loss:0.318583 auc:0.6257\n",
      "epoch: 220 loss:0.316409 auc:0.6243\n"
     ]
    },
    {
     "name": "stderr",
     "output_type": "stream",
     "text": [
      " 10%|▉         | 99/1005 [12:01<2:55:51, 11.65s/it]"
     ]
    },
    {
     "name": "stdout",
     "output_type": "stream",
     "text": [
      "epoch: 240 loss:0.314775 auc:0.6272\n",
      "Fit finished.\n",
      "epoch:   0 loss:0.788638 auc:0.7231\n",
      "epoch:  20 loss:0.583316 auc:0.8342\n",
      "epoch:  40 loss:0.498457 auc:0.8325\n",
      "epoch:  60 loss:0.418304 auc:0.8291\n",
      "epoch:  80 loss:0.373558 auc:0.8274\n",
      "epoch: 100 loss:0.349824 auc:0.8308\n",
      "epoch: 120 loss:0.336615 auc:0.8291\n",
      "epoch: 140 loss:0.328599 auc:0.8325\n",
      "epoch: 160 loss:0.323368 auc:0.8359\n",
      "epoch: 180 loss:0.319744 auc:0.8376\n",
      "epoch: 200 loss:0.317112 auc:0.8359\n",
      "epoch: 220 loss:0.315133 auc:0.8359\n",
      "epoch: 240 loss:0.313611 auc:0.8308\n",
      "epoch: 260 loss:0.312423 auc:0.8308\n",
      "epoch: 280 loss:0.311490 auc:0.8308\n"
     ]
    },
    {
     "name": "stderr",
     "output_type": "stream",
     "text": [
      " 10%|▉         | 100/1005 [12:19<3:21:43, 13.37s/it]"
     ]
    },
    {
     "name": "stdout",
     "output_type": "stream",
     "text": [
      "epoch: 300 loss:0.310744 auc:0.8308\n",
      "Fit finished.\n",
      "epoch:   0 loss:0.779117 auc:0.6148\n",
      "epoch:  20 loss:0.595772 auc:0.7666\n",
      "epoch:  40 loss:0.516535 auc:0.7768\n",
      "epoch:  60 loss:0.422215 auc:0.7755\n",
      "epoch:  80 loss:0.373749 auc:0.7742\n",
      "epoch: 100 loss:0.348916 auc:0.7704\n",
      "epoch: 120 loss:0.335420 auc:0.7653\n",
      "epoch: 140 loss:0.327505 auc:0.7589\n",
      "epoch: 160 loss:0.322437 auc:0.7602\n"
     ]
    },
    {
     "name": "stderr",
     "output_type": "stream",
     "text": [
      " 10%|█         | 101/1005 [12:28<3:02:38, 12.12s/it]"
     ]
    },
    {
     "name": "stdout",
     "output_type": "stream",
     "text": [
      "epoch: 180 loss:0.318933 auc:0.7589\n",
      "Fit finished.\n",
      "epoch:   0 loss:0.793259 auc:0.5921\n",
      "epoch:  20 loss:0.583720 auc:0.8019\n",
      "epoch:  40 loss:0.480814 auc:0.7145\n",
      "epoch:  60 loss:0.394377 auc:0.7156\n",
      "epoch:  80 loss:0.356418 auc:0.6958\n",
      "epoch: 100 loss:0.338441 auc:0.6841\n",
      "epoch: 120 loss:0.328673 auc:0.6795\n",
      "epoch: 140 loss:0.322817 auc:0.6748\n",
      "epoch: 160 loss:0.319036 auc:0.6713\n"
     ]
    },
    {
     "name": "stderr",
     "output_type": "stream",
     "text": [
      " 10%|█         | 102/1005 [12:38<2:51:36, 11.40s/it]"
     ]
    },
    {
     "name": "stdout",
     "output_type": "stream",
     "text": [
      "epoch: 180 loss:0.316433 auc:0.6667\n",
      "Fit finished.\n",
      "epoch:   0 loss:0.787740 auc:0.5875\n",
      "epoch:  20 loss:0.570040 auc:0.6475\n",
      "epoch:  40 loss:0.451949 auc:0.6325\n",
      "epoch:  60 loss:0.380427 auc:0.6650\n",
      "epoch:  80 loss:0.348171 auc:0.6925\n",
      "epoch: 100 loss:0.332941 auc:0.6825\n",
      "epoch: 120 loss:0.324697 auc:0.6900\n",
      "epoch: 140 loss:0.319726 auc:0.6775\n",
      "epoch: 160 loss:0.316460 auc:0.6675\n",
      "epoch: 180 loss:0.314207 auc:0.6675\n",
      "epoch: 200 loss:0.312598 auc:0.6600\n",
      "epoch: 220 loss:0.311420 auc:0.6650\n"
     ]
    },
    {
     "name": "stderr",
     "output_type": "stream",
     "text": [
      " 10%|█         | 103/1005 [12:50<2:53:10, 11.52s/it]"
     ]
    },
    {
     "name": "stdout",
     "output_type": "stream",
     "text": [
      "epoch: 240 loss:0.310537 auc:0.6700\n",
      "Fit finished.\n",
      "epoch:   0 loss:0.810464 auc:0.5548\n",
      "epoch:  20 loss:0.581009 auc:0.6747\n",
      "epoch:  40 loss:0.476765 auc:0.5957\n",
      "epoch:  60 loss:0.402566 auc:0.5765\n",
      "epoch:  80 loss:0.362713 auc:0.5740\n",
      "epoch: 100 loss:0.341236 auc:0.5714\n",
      "epoch: 120 loss:0.329696 auc:0.5689\n",
      "epoch: 140 loss:0.323105 auc:0.5599\n"
     ]
    },
    {
     "name": "stderr",
     "output_type": "stream",
     "text": [
      " 10%|█         | 104/1005 [12:58<2:37:25, 10.48s/it]"
     ]
    },
    {
     "name": "stdout",
     "output_type": "stream",
     "text": [
      "epoch: 160 loss:0.318928 auc:0.5536\n",
      "Fit finished.\n",
      "epoch:   0 loss:0.798142 auc:0.4673\n",
      "epoch:  20 loss:0.586107 auc:0.5018\n",
      "epoch:  40 loss:0.490896 auc:0.5509\n",
      "epoch:  60 loss:0.400101 auc:0.5836\n",
      "epoch:  80 loss:0.359916 auc:0.5618\n",
      "epoch: 100 loss:0.340266 auc:0.5455\n",
      "epoch: 120 loss:0.329600 auc:0.5455\n",
      "epoch: 140 loss:0.323292 auc:0.5509\n",
      "epoch: 160 loss:0.319234 auc:0.5491\n",
      "epoch: 180 loss:0.316433 auc:0.5564\n",
      "epoch: 200 loss:0.314402 auc:0.5564\n"
     ]
    },
    {
     "name": "stderr",
     "output_type": "stream",
     "text": [
      " 10%|█         | 105/1005 [13:08<2:37:01, 10.47s/it]"
     ]
    },
    {
     "name": "stdout",
     "output_type": "stream",
     "text": [
      "epoch: 220 loss:0.312883 auc:0.5582\n",
      "Fit finished.\n",
      "epoch:   0 loss:0.818796 auc:0.4875\n",
      "epoch:  20 loss:0.595307 auc:0.8502\n",
      "epoch:  40 loss:0.518279 auc:0.8216\n",
      "epoch:  60 loss:0.423618 auc:0.7824\n",
      "epoch:  80 loss:0.373445 auc:0.7420\n",
      "epoch: 100 loss:0.348037 auc:0.7182\n",
      "epoch: 120 loss:0.334610 auc:0.7313\n",
      "epoch: 140 loss:0.326688 auc:0.7229\n",
      "epoch: 160 loss:0.321600 auc:0.7182\n"
     ]
    },
    {
     "name": "stderr",
     "output_type": "stream",
     "text": [
      " 11%|█         | 106/1005 [13:18<2:35:50, 10.40s/it]"
     ]
    },
    {
     "name": "stdout",
     "output_type": "stream",
     "text": [
      "epoch: 180 loss:0.318145 auc:0.7122\n",
      "Fit finished.\n",
      "epoch:   0 loss:0.797180 auc:0.4809\n",
      "epoch:  20 loss:0.592770 auc:0.7054\n",
      "epoch:  40 loss:0.507373 auc:0.6480\n",
      "epoch:  60 loss:0.417953 auc:0.5791\n",
      "epoch:  80 loss:0.371145 auc:0.5599\n",
      "epoch: 100 loss:0.347113 auc:0.5599\n",
      "epoch: 120 loss:0.334403 auc:0.5625\n",
      "epoch: 140 loss:0.326881 auc:0.5599\n",
      "epoch: 160 loss:0.321985 auc:0.5574\n"
     ]
    },
    {
     "name": "stderr",
     "output_type": "stream",
     "text": [
      " 11%|█         | 107/1005 [13:28<2:32:35, 10.20s/it]"
     ]
    },
    {
     "name": "stdout",
     "output_type": "stream",
     "text": [
      "epoch: 180 loss:0.318622 auc:0.5536\n",
      "Fit finished.\n",
      "epoch:   0 loss:0.792163 auc:0.6125\n",
      "epoch:  20 loss:0.590626 auc:0.6675\n",
      "epoch:  40 loss:0.504846 auc:0.6925\n",
      "epoch:  60 loss:0.424511 auc:0.6950\n",
      "epoch:  80 loss:0.376919 auc:0.6925\n",
      "epoch: 100 loss:0.351702 auc:0.6950\n",
      "epoch: 120 loss:0.338109 auc:0.6725\n",
      "epoch: 140 loss:0.329823 auc:0.6675\n",
      "epoch: 160 loss:0.324299 auc:0.6600\n"
     ]
    },
    {
     "name": "stderr",
     "output_type": "stream",
     "text": [
      " 11%|█         | 108/1005 [13:38<2:29:26, 10.00s/it]"
     ]
    },
    {
     "name": "stdout",
     "output_type": "stream",
     "text": [
      "epoch: 180 loss:0.320432 auc:0.6475\n",
      "Fit finished.\n",
      "epoch:   0 loss:0.795904 auc:0.6133\n",
      "epoch:  20 loss:0.577213 auc:0.7109\n",
      "epoch:  40 loss:0.472363 auc:0.7578\n",
      "epoch:  60 loss:0.396242 auc:0.7266\n",
      "epoch:  80 loss:0.358568 auc:0.7148\n",
      "epoch: 100 loss:0.340041 auc:0.6992\n",
      "epoch: 120 loss:0.329875 auc:0.6914\n",
      "epoch: 140 loss:0.323731 auc:0.6953\n",
      "epoch: 160 loss:0.319738 auc:0.6719\n"
     ]
    },
    {
     "name": "stderr",
     "output_type": "stream",
     "text": [
      " 11%|█         | 109/1005 [13:48<2:29:56, 10.04s/it]"
     ]
    },
    {
     "name": "stdout",
     "output_type": "stream",
     "text": [
      "epoch: 180 loss:0.316981 auc:0.6719\n",
      "Fit finished.\n",
      "epoch:   0 loss:0.780224 auc:0.6545\n",
      "epoch:  20 loss:0.592845 auc:0.7460\n",
      "epoch:  40 loss:0.512649 auc:0.7436\n",
      "epoch:  60 loss:0.424287 auc:0.5946\n",
      "epoch:  80 loss:0.375043 auc:0.5446\n",
      "epoch: 100 loss:0.351119 auc:0.4969\n",
      "epoch: 120 loss:0.337464 auc:0.4872\n",
      "epoch: 140 loss:0.328946 auc:0.4860\n"
     ]
    },
    {
     "name": "stderr",
     "output_type": "stream",
     "text": [
      " 11%|█         | 110/1005 [13:57<2:26:31,  9.82s/it]"
     ]
    },
    {
     "name": "stdout",
     "output_type": "stream",
     "text": [
      "epoch: 160 loss:0.323410 auc:0.4725\n",
      "Fit finished.\n",
      "epoch:   0 loss:0.771969 auc:0.6400\n",
      "epoch:  20 loss:0.568779 auc:0.6400\n",
      "epoch:  40 loss:0.455072 auc:0.6200\n",
      "epoch:  60 loss:0.384142 auc:0.5100\n",
      "epoch:  80 loss:0.351133 auc:0.4800\n",
      "epoch: 100 loss:0.334872 auc:0.4500\n",
      "epoch: 120 loss:0.326114 auc:0.4400\n",
      "epoch: 140 loss:0.320873 auc:0.4400\n"
     ]
    },
    {
     "name": "stderr",
     "output_type": "stream",
     "text": [
      " 11%|█         | 111/1005 [14:06<2:24:04,  9.67s/it]"
     ]
    },
    {
     "name": "stdout",
     "output_type": "stream",
     "text": [
      "epoch: 160 loss:0.317456 auc:0.4400\n",
      "Fit finished.\n",
      "epoch:   0 loss:0.775037 auc:0.6499\n",
      "epoch:  20 loss:0.561908 auc:0.8206\n",
      "epoch:  40 loss:0.430947 auc:0.8305\n",
      "epoch:  60 loss:0.365481 auc:0.8145\n",
      "epoch:  80 loss:0.339606 auc:0.8157\n",
      "epoch: 100 loss:0.327781 auc:0.8071\n",
      "epoch: 120 loss:0.321348 auc:0.7961\n",
      "epoch: 140 loss:0.317400 auc:0.7875\n",
      "epoch: 160 loss:0.314807 auc:0.7801\n"
     ]
    },
    {
     "name": "stderr",
     "output_type": "stream",
     "text": [
      " 11%|█         | 112/1005 [14:16<2:24:41,  9.72s/it]"
     ]
    },
    {
     "name": "stdout",
     "output_type": "stream",
     "text": [
      "epoch: 180 loss:0.313015 auc:0.7764\n",
      "Fit finished.\n",
      "epoch:   0 loss:0.777102 auc:0.5442\n",
      "epoch:  20 loss:0.596578 auc:0.7800\n",
      "epoch:  40 loss:0.522403 auc:0.8209\n",
      "epoch:  60 loss:0.430870 auc:0.8005\n",
      "epoch:  80 loss:0.375180 auc:0.8095\n",
      "epoch: 100 loss:0.348076 auc:0.8163\n",
      "epoch: 120 loss:0.334041 auc:0.8209\n",
      "epoch: 140 loss:0.326066 auc:0.8231\n",
      "epoch: 160 loss:0.321139 auc:0.8209\n",
      "epoch: 180 loss:0.317873 auc:0.8231\n",
      "epoch: 200 loss:0.315592 auc:0.8299\n",
      "epoch: 220 loss:0.313929 auc:0.8322\n",
      "epoch: 240 loss:0.312674 auc:0.8322\n",
      "epoch: 260 loss:0.311706 auc:0.8345\n",
      "epoch: 280 loss:0.310946 auc:0.8345\n",
      "epoch: 300 loss:0.310340 auc:0.8322\n",
      "epoch: 320 loss:0.309847 auc:0.8299\n",
      "epoch: 340 loss:0.309441 auc:0.8322\n",
      "epoch: 360 loss:0.309102 auc:0.8322\n",
      "epoch: 380 loss:0.308818 auc:0.8322\n"
     ]
    },
    {
     "name": "stderr",
     "output_type": "stream",
     "text": [
      " 11%|█         | 113/1005 [14:36<3:08:46, 12.70s/it]"
     ]
    },
    {
     "name": "stdout",
     "output_type": "stream",
     "text": [
      "epoch: 400 loss:0.308576 auc:0.8299\n",
      "Fit finished.\n",
      "epoch:   0 loss:0.808079 auc:0.4247\n",
      "epoch:  20 loss:0.599514 auc:0.6518\n",
      "epoch:  40 loss:0.540299 auc:0.6582\n",
      "epoch:  60 loss:0.447163 auc:0.6020\n",
      "epoch:  80 loss:0.387778 auc:0.6059\n",
      "epoch: 100 loss:0.357580 auc:0.6097\n",
      "epoch: 120 loss:0.341283 auc:0.6212\n",
      "epoch: 140 loss:0.331530 auc:0.6327\n",
      "epoch: 160 loss:0.325270 auc:0.6352\n"
     ]
    },
    {
     "name": "stderr",
     "output_type": "stream",
     "text": [
      " 11%|█▏        | 114/1005 [14:44<2:46:18, 11.20s/it]"
     ]
    },
    {
     "name": "stdout",
     "output_type": "stream",
     "text": [
      "epoch: 180 loss:0.320970 auc:0.6327\n",
      "Fit finished.\n",
      "epoch:   0 loss:0.805408 auc:0.5149\n",
      "epoch:  20 loss:0.586317 auc:0.7920\n",
      "epoch:  40 loss:0.485412 auc:0.7483\n",
      "epoch:  60 loss:0.398167 auc:0.7414\n",
      "epoch:  80 loss:0.356931 auc:0.7425\n",
      "epoch: 100 loss:0.337376 auc:0.7460\n",
      "epoch: 120 loss:0.327047 auc:0.7402\n",
      "epoch: 140 loss:0.321006 auc:0.7402\n",
      "epoch: 160 loss:0.317178 auc:0.7402\n"
     ]
    },
    {
     "name": "stderr",
     "output_type": "stream",
     "text": [
      " 11%|█▏        | 115/1005 [14:51<2:28:29, 10.01s/it]"
     ]
    },
    {
     "name": "stdout",
     "output_type": "stream",
     "text": [
      "epoch: 180 loss:0.314617 auc:0.7356\n",
      "Fit finished.\n",
      "epoch:   0 loss:0.802418 auc:0.3619\n",
      "epoch:  20 loss:0.589638 auc:0.5095\n",
      "epoch:  40 loss:0.495469 auc:0.4000\n",
      "epoch:  60 loss:0.415214 auc:0.3702\n",
      "epoch:  80 loss:0.372277 auc:0.3667\n",
      "epoch: 100 loss:0.348750 auc:0.3440\n",
      "epoch: 120 loss:0.335129 auc:0.3333\n",
      "epoch: 140 loss:0.326869 auc:0.3274\n"
     ]
    },
    {
     "name": "stderr",
     "output_type": "stream",
     "text": [
      " 12%|█▏        | 116/1005 [14:58<2:13:54,  9.04s/it]"
     ]
    },
    {
     "name": "stdout",
     "output_type": "stream",
     "text": [
      "epoch: 160 loss:0.321620 auc:0.3286\n",
      "Fit finished.\n",
      "epoch:   0 loss:0.772634 auc:0.5677\n",
      "epoch:  20 loss:0.574331 auc:0.7656\n",
      "epoch:  40 loss:0.458246 auc:0.6215\n",
      "epoch:  60 loss:0.383869 auc:0.6753\n",
      "epoch:  80 loss:0.351115 auc:0.6788\n",
      "epoch: 100 loss:0.334956 auc:0.6597\n",
      "epoch: 120 loss:0.325794 auc:0.6528\n",
      "epoch: 140 loss:0.320200 auc:0.6319\n",
      "epoch: 160 loss:0.316670 auc:0.6094\n"
     ]
    },
    {
     "name": "stderr",
     "output_type": "stream",
     "text": [
      " 12%|█▏        | 117/1005 [15:05<2:04:53,  8.44s/it]"
     ]
    },
    {
     "name": "stdout",
     "output_type": "stream",
     "text": [
      "epoch: 180 loss:0.314340 auc:0.6042\n",
      "Fit finished.\n",
      "epoch:   0 loss:0.852735 auc:0.5486\n",
      "epoch:  20 loss:0.595766 auc:0.7443\n",
      "epoch:  40 loss:0.523646 auc:0.7557\n",
      "epoch:  60 loss:0.432213 auc:0.7839\n",
      "epoch:  80 loss:0.380148 auc:0.7885\n",
      "epoch: 100 loss:0.354085 auc:0.7851\n",
      "epoch: 120 loss:0.339613 auc:0.7862\n",
      "epoch: 140 loss:0.330638 auc:0.7851\n",
      "epoch: 160 loss:0.324760 auc:0.7873\n",
      "epoch: 180 loss:0.320712 auc:0.7783\n",
      "epoch: 200 loss:0.317788 auc:0.7681\n"
     ]
    },
    {
     "name": "stderr",
     "output_type": "stream",
     "text": [
      " 12%|█▏        | 118/1005 [15:13<2:04:59,  8.46s/it]"
     ]
    },
    {
     "name": "stdout",
     "output_type": "stream",
     "text": [
      "epoch: 220 loss:0.315607 auc:0.7636\n",
      "Fit finished.\n",
      "epoch:   0 loss:0.819427 auc:0.4405\n",
      "epoch:  20 loss:0.583952 auc:0.8333\n",
      "epoch:  40 loss:0.496072 auc:0.8810\n",
      "epoch:  60 loss:0.412065 auc:0.8810\n",
      "epoch:  80 loss:0.367136 auc:0.8988\n",
      "epoch: 100 loss:0.344296 auc:0.9048\n",
      "epoch: 120 loss:0.332295 auc:0.8958\n",
      "epoch: 140 loss:0.325175 auc:0.8780\n",
      "epoch: 160 loss:0.320505 auc:0.8720\n",
      "epoch: 180 loss:0.317309 auc:0.8601\n"
     ]
    },
    {
     "name": "stderr",
     "output_type": "stream",
     "text": [
      " 12%|█▏        | 119/1005 [15:21<2:01:37,  8.24s/it]"
     ]
    },
    {
     "name": "stdout",
     "output_type": "stream",
     "text": [
      "epoch: 200 loss:0.315053 auc:0.8512\n",
      "Fit finished.\n",
      "epoch:   0 loss:0.816616 auc:0.5105\n",
      "epoch:  20 loss:0.589013 auc:0.8497\n",
      "epoch:  40 loss:0.492000 auc:0.8625\n",
      "epoch:  60 loss:0.402181 auc:0.8939\n",
      "epoch:  80 loss:0.362019 auc:0.8846\n",
      "epoch: 100 loss:0.342292 auc:0.8718\n",
      "epoch: 120 loss:0.331073 auc:0.8648\n",
      "epoch: 140 loss:0.324222 auc:0.8613\n",
      "epoch: 160 loss:0.319774 auc:0.8555\n",
      "epoch: 180 loss:0.316733 auc:0.8508\n"
     ]
    },
    {
     "name": "stderr",
     "output_type": "stream",
     "text": [
      " 12%|█▏        | 120/1005 [15:29<2:01:45,  8.25s/it]"
     ]
    },
    {
     "name": "stdout",
     "output_type": "stream",
     "text": [
      "epoch: 200 loss:0.314585 auc:0.8462\n",
      "Fit finished.\n",
      "epoch:   0 loss:0.775744 auc:0.4231\n",
      "epoch:  20 loss:0.599786 auc:0.6420\n",
      "epoch:  40 loss:0.530311 auc:0.5680\n",
      "epoch:  60 loss:0.429976 auc:0.4645\n",
      "epoch:  80 loss:0.375920 auc:0.4527\n",
      "epoch: 100 loss:0.348139 auc:0.4453\n",
      "epoch: 120 loss:0.333742 auc:0.4482\n",
      "epoch: 140 loss:0.325600 auc:0.4393\n",
      "epoch: 160 loss:0.320588 auc:0.4408\n"
     ]
    },
    {
     "name": "stderr",
     "output_type": "stream",
     "text": [
      " 12%|█▏        | 122/1005 [15:37<1:31:23,  6.21s/it]"
     ]
    },
    {
     "name": "stdout",
     "output_type": "stream",
     "text": [
      "epoch: 180 loss:0.317296 auc:0.4512\n",
      "Fit finished.\n",
      "epoch:   0 loss:0.797524 auc:0.6231\n",
      "epoch:  20 loss:0.549476 auc:0.6599\n",
      "epoch:  40 loss:0.422738 auc:0.5446\n",
      "epoch:  60 loss:0.361878 auc:0.5529\n",
      "epoch:  80 loss:0.337918 auc:0.5529\n",
      "epoch: 100 loss:0.326438 auc:0.5493\n",
      "epoch: 120 loss:0.320076 auc:0.5458\n",
      "epoch: 140 loss:0.316247 auc:0.5375\n"
     ]
    },
    {
     "name": "stderr",
     "output_type": "stream",
     "text": [
      " 12%|█▏        | 123/1005 [15:44<1:33:16,  6.34s/it]"
     ]
    },
    {
     "name": "stdout",
     "output_type": "stream",
     "text": [
      "epoch: 160 loss:0.313789 auc:0.5363\n",
      "Fit finished.\n",
      "epoch:   0 loss:0.783487 auc:0.5751\n",
      "epoch:  20 loss:0.597155 auc:0.6396\n",
      "epoch:  40 loss:0.526314 auc:0.6429\n",
      "epoch:  60 loss:0.431005 auc:0.6496\n",
      "epoch:  80 loss:0.378525 auc:0.6440\n",
      "epoch: 100 loss:0.352113 auc:0.6307\n",
      "epoch: 120 loss:0.338086 auc:0.6318\n",
      "epoch: 140 loss:0.329621 auc:0.6207\n",
      "epoch: 160 loss:0.324046 auc:0.6085\n"
     ]
    },
    {
     "name": "stderr",
     "output_type": "stream",
     "text": [
      " 12%|█▏        | 124/1005 [15:51<1:36:47,  6.59s/it]"
     ]
    },
    {
     "name": "stdout",
     "output_type": "stream",
     "text": [
      "epoch: 180 loss:0.320163 auc:0.5951\n",
      "Fit finished.\n",
      "epoch:   0 loss:0.772018 auc:0.5388\n",
      "epoch:  20 loss:0.555760 auc:0.7505\n",
      "epoch:  40 loss:0.434167 auc:0.6087\n",
      "epoch:  60 loss:0.367295 auc:0.6125\n",
      "epoch:  80 loss:0.339590 auc:0.5955\n",
      "epoch: 100 loss:0.327215 auc:0.5898\n",
      "epoch: 120 loss:0.320768 auc:0.5803\n",
      "epoch: 140 loss:0.316937 auc:0.5822\n",
      "epoch: 160 loss:0.314462 auc:0.5822\n"
     ]
    },
    {
     "name": "stderr",
     "output_type": "stream",
     "text": [
      " 12%|█▏        | 125/1005 [15:59<1:43:36,  7.06s/it]"
     ]
    },
    {
     "name": "stdout",
     "output_type": "stream",
     "text": [
      "epoch: 180 loss:0.312748 auc:0.5822\n",
      "Fit finished.\n",
      "epoch:   0 loss:0.822188 auc:0.4316\n",
      "epoch:  20 loss:0.598908 auc:0.7301\n",
      "epoch:  40 loss:0.526270 auc:0.6801\n",
      "epoch:  60 loss:0.438962 auc:0.6516\n",
      "epoch:  80 loss:0.387411 auc:0.6445\n",
      "epoch: 100 loss:0.357056 auc:0.6385\n",
      "epoch: 120 loss:0.340612 auc:0.6207\n",
      "epoch: 140 loss:0.331175 auc:0.6100\n",
      "epoch: 160 loss:0.325201 auc:0.6040\n"
     ]
    },
    {
     "name": "stderr",
     "output_type": "stream",
     "text": [
      " 13%|█▎        | 126/1005 [16:07<1:48:17,  7.39s/it]"
     ]
    },
    {
     "name": "stdout",
     "output_type": "stream",
     "text": [
      "epoch: 180 loss:0.321121 auc:0.5993\n",
      "Fit finished.\n",
      "epoch:   0 loss:0.782093 auc:0.5336\n",
      "epoch:  20 loss:0.576838 auc:0.8547\n",
      "epoch:  40 loss:0.487580 auc:0.8779\n",
      "epoch:  60 loss:0.404936 auc:0.8449\n",
      "epoch:  80 loss:0.361438 auc:0.8400\n",
      "epoch: 100 loss:0.341105 auc:0.8388\n",
      "epoch: 120 loss:0.330455 auc:0.8230\n",
      "epoch: 140 loss:0.324024 auc:0.8095\n",
      "epoch: 160 loss:0.319828 auc:0.8046\n"
     ]
    },
    {
     "name": "stderr",
     "output_type": "stream",
     "text": [
      " 13%|█▎        | 127/1005 [16:16<1:54:39,  7.84s/it]"
     ]
    },
    {
     "name": "stdout",
     "output_type": "stream",
     "text": [
      "epoch: 180 loss:0.316963 auc:0.7985\n",
      "Fit finished.\n",
      "epoch:   0 loss:0.802128 auc:0.5103\n",
      "epoch:  20 loss:0.599393 auc:0.7545\n",
      "epoch:  40 loss:0.532534 auc:0.7394\n",
      "epoch:  60 loss:0.433355 auc:0.6900\n",
      "epoch:  80 loss:0.377687 auc:0.6845\n",
      "epoch: 100 loss:0.350476 auc:0.6818\n",
      "epoch: 120 loss:0.336078 auc:0.6886\n",
      "epoch: 140 loss:0.327642 auc:0.6886\n",
      "epoch: 160 loss:0.322291 auc:0.6859\n"
     ]
    },
    {
     "name": "stderr",
     "output_type": "stream",
     "text": [
      " 13%|█▎        | 128/1005 [16:25<1:59:26,  8.17s/it]"
     ]
    },
    {
     "name": "stdout",
     "output_type": "stream",
     "text": [
      "epoch: 180 loss:0.318680 auc:0.6790\n",
      "Fit finished.\n",
      "epoch:   0 loss:0.798588 auc:0.4850\n",
      "epoch:  20 loss:0.593070 auc:0.6950\n",
      "epoch:  40 loss:0.509835 auc:0.6400\n",
      "epoch:  60 loss:0.423836 auc:0.6675\n",
      "epoch:  80 loss:0.373392 auc:0.6650\n",
      "epoch: 100 loss:0.347311 auc:0.6475\n",
      "epoch: 120 loss:0.333370 auc:0.6375\n",
      "epoch: 140 loss:0.325315 auc:0.6375\n",
      "epoch: 160 loss:0.320323 auc:0.6400\n"
     ]
    },
    {
     "name": "stderr",
     "output_type": "stream",
     "text": [
      " 13%|█▎        | 129/1005 [16:35<2:07:17,  8.72s/it]"
     ]
    },
    {
     "name": "stdout",
     "output_type": "stream",
     "text": [
      "epoch: 180 loss:0.317016 auc:0.6375\n",
      "Fit finished.\n",
      "epoch:   0 loss:0.777718 auc:0.5278\n",
      "epoch:  20 loss:0.592688 auc:0.6257\n",
      "epoch:  40 loss:0.513938 auc:0.6362\n",
      "epoch:  60 loss:0.428637 auc:0.6362\n",
      "epoch:  80 loss:0.381477 auc:0.5794\n",
      "epoch: 100 loss:0.354614 auc:0.5648\n",
      "epoch: 120 loss:0.339334 auc:0.5582\n",
      "epoch: 140 loss:0.330324 auc:0.5582\n",
      "epoch: 160 loss:0.324575 auc:0.5648\n"
     ]
    },
    {
     "name": "stderr",
     "output_type": "stream",
     "text": [
      " 13%|█▎        | 130/1005 [16:44<2:04:48,  8.56s/it]"
     ]
    },
    {
     "name": "stdout",
     "output_type": "stream",
     "text": [
      "epoch: 180 loss:0.320665 auc:0.5582\n",
      "Fit finished.\n",
      "epoch:   0 loss:0.781327 auc:0.5090\n",
      "epoch:  20 loss:0.572350 auc:0.7952\n",
      "epoch:  40 loss:0.469489 auc:0.6968\n",
      "epoch:  60 loss:0.390353 auc:0.6934\n",
      "epoch:  80 loss:0.354185 auc:0.6980\n",
      "epoch: 100 loss:0.336733 auc:0.6968\n",
      "epoch: 120 loss:0.327214 auc:0.7014\n",
      "epoch: 140 loss:0.321589 auc:0.6980\n",
      "epoch: 160 loss:0.317960 auc:0.6957\n"
     ]
    },
    {
     "name": "stderr",
     "output_type": "stream",
     "text": [
      " 13%|█▎        | 131/1005 [16:52<2:04:47,  8.57s/it]"
     ]
    },
    {
     "name": "stdout",
     "output_type": "stream",
     "text": [
      "epoch: 180 loss:0.315453 auc:0.6923\n",
      "Fit finished.\n",
      "epoch:   0 loss:0.773002 auc:0.6301\n",
      "epoch:  20 loss:0.593260 auc:0.6582\n",
      "epoch:  40 loss:0.508122 auc:0.6607\n",
      "epoch:  60 loss:0.418702 auc:0.6224\n",
      "epoch:  80 loss:0.369727 auc:0.5995\n",
      "epoch: 100 loss:0.345999 auc:0.5778\n",
      "epoch: 120 loss:0.333646 auc:0.5689\n",
      "epoch: 140 loss:0.326307 auc:0.5599\n"
     ]
    },
    {
     "name": "stderr",
     "output_type": "stream",
     "text": [
      " 13%|█▎        | 132/1005 [16:59<1:57:52,  8.10s/it]"
     ]
    },
    {
     "name": "stdout",
     "output_type": "stream",
     "text": [
      "epoch: 160 loss:0.321533 auc:0.5523\n",
      "Fit finished.\n",
      "epoch:   0 loss:0.778818 auc:0.4409\n",
      "epoch:  20 loss:0.573691 auc:0.6970\n",
      "epoch:  40 loss:0.446913 auc:0.7475\n",
      "epoch:  60 loss:0.372452 auc:0.7315\n",
      "epoch:  80 loss:0.343159 auc:0.7254\n",
      "epoch: 100 loss:0.329601 auc:0.7118\n",
      "epoch: 120 loss:0.322227 auc:0.7044\n",
      "epoch: 140 loss:0.317730 auc:0.6970\n",
      "epoch: 160 loss:0.314812 auc:0.7007\n",
      "epoch: 180 loss:0.312843 auc:0.6983\n"
     ]
    },
    {
     "name": "stderr",
     "output_type": "stream",
     "text": [
      " 13%|█▎        | 133/1005 [17:08<1:59:32,  8.22s/it]"
     ]
    },
    {
     "name": "stdout",
     "output_type": "stream",
     "text": [
      "epoch: 200 loss:0.311466 auc:0.7007\n",
      "Fit finished.\n",
      "epoch:   0 loss:0.809969 auc:0.5537\n",
      "epoch:  20 loss:0.596860 auc:0.5289\n",
      "epoch:  40 loss:0.534074 auc:0.5124\n",
      "epoch:  60 loss:0.438722 auc:0.5558\n",
      "epoch:  80 loss:0.382918 auc:0.5207\n",
      "epoch: 100 loss:0.354208 auc:0.5083\n",
      "epoch: 120 loss:0.338856 auc:0.5041\n",
      "epoch: 140 loss:0.329854 auc:0.5083\n"
     ]
    },
    {
     "name": "stderr",
     "output_type": "stream",
     "text": [
      " 13%|█▎        | 134/1005 [17:14<1:52:35,  7.76s/it]"
     ]
    },
    {
     "name": "stdout",
     "output_type": "stream",
     "text": [
      "epoch: 160 loss:0.324101 auc:0.5145\n",
      "Fit finished.\n",
      "epoch:   0 loss:0.800599 auc:0.5320\n",
      "epoch:  20 loss:0.573741 auc:0.6588\n",
      "epoch:  40 loss:0.464951 auc:0.6072\n",
      "epoch:  60 loss:0.384294 auc:0.5544\n",
      "epoch:  80 loss:0.348193 auc:0.5612\n",
      "epoch: 100 loss:0.332724 auc:0.5544\n",
      "epoch: 120 loss:0.324673 auc:0.5511\n",
      "epoch: 140 loss:0.319774 auc:0.5600\n",
      "epoch: 160 loss:0.316549 auc:0.5612\n"
     ]
    },
    {
     "name": "stderr",
     "output_type": "stream",
     "text": [
      " 13%|█▎        | 135/1005 [17:22<1:53:19,  7.82s/it]"
     ]
    },
    {
     "name": "stdout",
     "output_type": "stream",
     "text": [
      "epoch: 180 loss:0.314329 auc:0.5623\n",
      "Fit finished.\n",
      "epoch:   0 loss:0.786729 auc:0.3616\n",
      "epoch:  20 loss:0.562478 auc:0.6653\n",
      "epoch:  40 loss:0.447014 auc:0.6777\n",
      "epoch:  60 loss:0.379692 auc:0.6467\n",
      "epoch:  80 loss:0.346562 auc:0.6570\n",
      "epoch: 100 loss:0.331242 auc:0.6653\n",
      "epoch: 120 loss:0.323403 auc:0.6653\n",
      "epoch: 140 loss:0.318780 auc:0.6632\n",
      "epoch: 160 loss:0.315765 auc:0.6570\n"
     ]
    },
    {
     "name": "stderr",
     "output_type": "stream",
     "text": [
      " 14%|█▎        | 136/1005 [17:31<1:56:24,  8.04s/it]"
     ]
    },
    {
     "name": "stdout",
     "output_type": "stream",
     "text": [
      "epoch: 180 loss:0.313668 auc:0.6550\n",
      "Fit finished.\n",
      "epoch:   0 loss:0.795960 auc:0.5328\n",
      "epoch:  20 loss:0.596639 auc:0.7127\n",
      "epoch:  40 loss:0.542546 auc:0.7274\n",
      "epoch:  60 loss:0.449760 auc:0.5735\n",
      "epoch:  80 loss:0.390702 auc:0.5090\n",
      "epoch: 100 loss:0.359466 auc:0.5124\n",
      "epoch: 120 loss:0.342308 auc:0.5057\n",
      "epoch: 140 loss:0.332087 auc:0.5011\n"
     ]
    },
    {
     "name": "stderr",
     "output_type": "stream",
     "text": [
      " 14%|█▎        | 137/1005 [17:38<1:54:14,  7.90s/it]"
     ]
    },
    {
     "name": "stdout",
     "output_type": "stream",
     "text": [
      "epoch: 160 loss:0.325639 auc:0.5124\n",
      "Fit finished.\n",
      "epoch:   0 loss:0.804126 auc:0.4352\n",
      "epoch:  20 loss:0.591602 auc:0.6864\n",
      "epoch:  40 loss:0.500317 auc:0.6720\n",
      "epoch:  60 loss:0.419242 auc:0.6816\n",
      "epoch:  80 loss:0.375830 auc:0.6704\n",
      "epoch: 100 loss:0.351347 auc:0.6736\n",
      "epoch: 120 loss:0.337380 auc:0.6704\n",
      "epoch: 140 loss:0.329086 auc:0.6704\n",
      "epoch: 160 loss:0.323683 auc:0.6704\n"
     ]
    },
    {
     "name": "stderr",
     "output_type": "stream",
     "text": [
      " 14%|█▎        | 138/1005 [17:46<1:54:04,  7.89s/it]"
     ]
    },
    {
     "name": "stdout",
     "output_type": "stream",
     "text": [
      "epoch: 180 loss:0.319902 auc:0.6736\n",
      "Fit finished.\n",
      "epoch:   0 loss:0.782881 auc:0.5377\n",
      "epoch:  20 loss:0.573050 auc:0.7695\n",
      "epoch:  40 loss:0.447959 auc:0.6886\n",
      "epoch:  60 loss:0.376330 auc:0.7092\n",
      "epoch:  80 loss:0.346168 auc:0.7119\n",
      "epoch: 100 loss:0.331679 auc:0.7188\n",
      "epoch: 120 loss:0.323538 auc:0.7298\n",
      "epoch: 140 loss:0.318567 auc:0.7339\n",
      "epoch: 160 loss:0.315401 auc:0.7339\n"
     ]
    },
    {
     "name": "stderr",
     "output_type": "stream",
     "text": [
      " 14%|█▍        | 139/1005 [17:54<1:54:11,  7.91s/it]"
     ]
    },
    {
     "name": "stdout",
     "output_type": "stream",
     "text": [
      "epoch: 180 loss:0.313286 auc:0.7298\n",
      "Fit finished.\n",
      "epoch:   0 loss:0.783573 auc:0.3971\n",
      "epoch:  20 loss:0.577816 auc:0.7158\n",
      "epoch:  40 loss:0.469737 auc:0.5482\n",
      "epoch:  60 loss:0.391861 auc:0.6076\n",
      "epoch:  80 loss:0.354671 auc:0.6183\n",
      "epoch: 100 loss:0.336699 auc:0.6064\n",
      "epoch: 120 loss:0.326980 auc:0.5957\n",
      "epoch: 140 loss:0.321175 auc:0.5993\n",
      "epoch: 160 loss:0.317491 auc:0.5957\n"
     ]
    },
    {
     "name": "stderr",
     "output_type": "stream",
     "text": [
      " 14%|█▍        | 140/1005 [18:02<1:53:44,  7.89s/it]"
     ]
    },
    {
     "name": "stdout",
     "output_type": "stream",
     "text": [
      "epoch: 180 loss:0.315012 auc:0.5933\n",
      "Fit finished.\n",
      "epoch:   0 loss:0.794051 auc:0.5414\n",
      "epoch:  20 loss:0.566016 auc:0.7544\n",
      "epoch:  40 loss:0.449098 auc:0.6553\n",
      "epoch:  60 loss:0.379211 auc:0.6672\n",
      "epoch:  80 loss:0.347317 auc:0.6731\n",
      "epoch: 100 loss:0.332349 auc:0.6538\n",
      "epoch: 120 loss:0.324240 auc:0.6450\n",
      "epoch: 140 loss:0.319398 auc:0.6391\n",
      "epoch: 160 loss:0.316261 auc:0.6272\n"
     ]
    },
    {
     "name": "stderr",
     "output_type": "stream",
     "text": [
      " 14%|█▍        | 141/1005 [18:10<1:52:39,  7.82s/it]"
     ]
    },
    {
     "name": "stdout",
     "output_type": "stream",
     "text": [
      "epoch: 180 loss:0.314108 auc:0.6169\n",
      "Fit finished.\n",
      "epoch:   0 loss:0.821220 auc:0.3750\n",
      "epoch:  20 loss:0.601515 auc:0.7433\n",
      "epoch:  40 loss:0.554482 auc:0.7009\n",
      "epoch:  60 loss:0.464885 auc:0.4799\n",
      "epoch:  80 loss:0.405059 auc:0.5033\n",
      "epoch: 100 loss:0.370011 auc:0.4877\n",
      "epoch: 120 loss:0.349421 auc:0.4978\n",
      "epoch: 140 loss:0.337127 auc:0.4989\n",
      "epoch: 160 loss:0.329300 auc:0.4911\n"
     ]
    },
    {
     "name": "stderr",
     "output_type": "stream",
     "text": [
      " 14%|█▍        | 142/1005 [18:18<1:52:44,  7.84s/it]"
     ]
    },
    {
     "name": "stdout",
     "output_type": "stream",
     "text": [
      "epoch: 180 loss:0.324003 auc:0.4821\n",
      "Fit finished.\n",
      "epoch:   0 loss:0.790070 auc:0.2934\n",
      "epoch:  20 loss:0.569843 auc:0.3865\n",
      "epoch:  40 loss:0.464019 auc:0.4477\n",
      "epoch:  60 loss:0.390108 auc:0.4171\n",
      "epoch:  80 loss:0.353308 auc:0.4247\n",
      "epoch: 100 loss:0.335862 auc:0.4286\n",
      "epoch: 120 loss:0.326849 auc:0.4171\n",
      "epoch: 140 loss:0.321561 auc:0.4247\n",
      "epoch: 160 loss:0.318090 auc:0.4273\n",
      "epoch: 180 loss:0.315646 auc:0.4273\n"
     ]
    },
    {
     "name": "stderr",
     "output_type": "stream",
     "text": [
      " 14%|█▍        | 143/1005 [18:26<1:55:31,  8.04s/it]"
     ]
    },
    {
     "name": "stdout",
     "output_type": "stream",
     "text": [
      "epoch: 200 loss:0.313852 auc:0.4196\n",
      "Fit finished.\n",
      "epoch:   0 loss:0.790173 auc:0.3616\n",
      "epoch:  20 loss:0.556060 auc:0.6488\n",
      "epoch:  40 loss:0.436167 auc:0.6343\n",
      "epoch:  60 loss:0.373193 auc:0.6157\n",
      "epoch:  80 loss:0.343905 auc:0.6302\n",
      "epoch: 100 loss:0.330230 auc:0.6219\n",
      "epoch: 120 loss:0.322834 auc:0.5909\n",
      "epoch: 140 loss:0.318342 auc:0.5826\n",
      "epoch: 160 loss:0.315400 auc:0.5826\n"
     ]
    },
    {
     "name": "stderr",
     "output_type": "stream",
     "text": [
      " 14%|█▍        | 144/1005 [18:34<1:55:29,  8.05s/it]"
     ]
    },
    {
     "name": "stdout",
     "output_type": "stream",
     "text": [
      "epoch: 180 loss:0.313381 auc:0.5806\n",
      "Fit finished.\n",
      "epoch:   0 loss:0.806824 auc:0.6002\n",
      "epoch:  20 loss:0.597164 auc:0.6763\n",
      "epoch:  40 loss:0.531306 auc:0.7638\n",
      "epoch:  60 loss:0.436892 auc:0.8191\n",
      "epoch:  80 loss:0.380024 auc:0.8007\n",
      "epoch: 100 loss:0.351577 auc:0.7926\n",
      "epoch: 120 loss:0.336830 auc:0.7915\n",
      "epoch: 140 loss:0.328071 auc:0.7961\n",
      "epoch: 160 loss:0.322504 auc:0.8076\n",
      "epoch: 180 loss:0.318778 auc:0.8134\n",
      "epoch: 200 loss:0.316183 auc:0.8180\n",
      "epoch: 220 loss:0.314316 auc:0.8226\n",
      "epoch: 240 loss:0.312939 auc:0.8260\n",
      "epoch: 260 loss:0.311895 auc:0.8306\n",
      "epoch: 280 loss:0.311084 auc:0.8306\n",
      "epoch: 300 loss:0.310440 auc:0.8329\n",
      "epoch: 320 loss:0.309922 auc:0.8329\n",
      "epoch: 340 loss:0.309498 auc:0.8329\n",
      "epoch: 360 loss:0.309147 auc:0.8353\n",
      "epoch: 380 loss:0.308851 auc:0.8364\n",
      "epoch: 400 loss:0.308598 auc:0.8364\n",
      "epoch: 420 loss:0.308379 auc:0.8410\n",
      "epoch: 440 loss:0.308189 auc:0.8410\n",
      "epoch: 460 loss:0.308023 auc:0.8399\n",
      "epoch: 480 loss:0.307878 auc:0.8410\n",
      "epoch: 500 loss:0.307751 auc:0.8410\n",
      "epoch: 520 loss:0.307640 auc:0.8410\n",
      "epoch: 540 loss:0.307543 auc:0.8410\n",
      "epoch: 560 loss:0.307458 auc:0.8399\n",
      "epoch: 580 loss:0.307383 auc:0.8422\n",
      "epoch: 600 loss:0.307317 auc:0.8422\n",
      "epoch: 620 loss:0.307259 auc:0.8422\n",
      "epoch: 640 loss:0.307208 auc:0.8422\n",
      "epoch: 660 loss:0.307166 auc:0.8433\n",
      "epoch: 680 loss:0.307155 auc:0.8422\n",
      "epoch: 700 loss:0.307102 auc:0.8433\n",
      "epoch: 720 loss:0.307061 auc:0.8422\n",
      "epoch: 740 loss:0.307034 auc:0.8422\n"
     ]
    },
    {
     "name": "stderr",
     "output_type": "stream",
     "text": [
      " 14%|█▍        | 145/1005 [19:01<3:17:44, 13.80s/it]"
     ]
    },
    {
     "name": "stdout",
     "output_type": "stream",
     "text": [
      "epoch: 760 loss:0.307010 auc:0.8410\n",
      "Fit finished.\n",
      "epoch:   0 loss:0.783018 auc:0.4911\n",
      "epoch:  20 loss:0.577693 auc:0.8036\n",
      "epoch:  40 loss:0.459585 auc:0.8508\n",
      "epoch:  60 loss:0.379655 auc:0.8406\n",
      "epoch:  80 loss:0.347121 auc:0.8508\n",
      "epoch: 100 loss:0.331959 auc:0.8457\n",
      "epoch: 120 loss:0.323689 auc:0.8406\n",
      "epoch: 140 loss:0.318697 auc:0.8431\n",
      "epoch: 160 loss:0.315521 auc:0.8367\n",
      "epoch: 180 loss:0.313410 auc:0.8393\n"
     ]
    },
    {
     "name": "stderr",
     "output_type": "stream",
     "text": [
      " 15%|█▍        | 146/1005 [19:09<2:50:31, 11.91s/it]"
     ]
    },
    {
     "name": "stdout",
     "output_type": "stream",
     "text": [
      "epoch: 200 loss:0.311944 auc:0.8367\n",
      "Fit finished.\n",
      "epoch:   0 loss:0.850722 auc:0.4151\n",
      "epoch:  20 loss:0.599535 auc:0.8462\n",
      "epoch:  40 loss:0.545579 auc:0.8285\n",
      "epoch:  60 loss:0.451451 auc:0.7596\n",
      "epoch:  80 loss:0.389465 auc:0.6811\n",
      "epoch: 100 loss:0.355970 auc:0.6571\n",
      "epoch: 120 loss:0.338673 auc:0.6442\n",
      "epoch: 140 loss:0.329106 auc:0.6378\n",
      "epoch: 160 loss:0.323287 auc:0.6218\n"
     ]
    },
    {
     "name": "stderr",
     "output_type": "stream",
     "text": [
      " 15%|█▍        | 147/1005 [19:16<2:30:25, 10.52s/it]"
     ]
    },
    {
     "name": "stdout",
     "output_type": "stream",
     "text": [
      "epoch: 180 loss:0.319477 auc:0.6042\n",
      "Fit finished.\n",
      "epoch:   0 loss:0.859783 auc:0.6133\n",
      "epoch:  20 loss:0.593815 auc:0.7600\n",
      "epoch:  40 loss:0.522992 auc:0.7317\n",
      "epoch:  60 loss:0.436733 auc:0.7483\n",
      "epoch:  80 loss:0.382613 auc:0.7067\n",
      "epoch: 100 loss:0.356609 auc:0.6933\n",
      "epoch: 120 loss:0.341477 auc:0.6950\n",
      "epoch: 140 loss:0.331843 auc:0.6867\n",
      "epoch: 160 loss:0.325431 auc:0.6833\n"
     ]
    },
    {
     "name": "stderr",
     "output_type": "stream",
     "text": [
      " 15%|█▍        | 148/1005 [19:23<2:16:16,  9.54s/it]"
     ]
    },
    {
     "name": "stdout",
     "output_type": "stream",
     "text": [
      "epoch: 180 loss:0.321010 auc:0.6833\n",
      "Fit finished.\n",
      "epoch:   0 loss:0.798094 auc:0.4915\n",
      "epoch:  20 loss:0.595351 auc:0.8355\n",
      "epoch:  40 loss:0.516716 auc:0.7996\n",
      "epoch:  60 loss:0.424282 auc:0.8450\n",
      "epoch:  80 loss:0.374247 auc:0.8866\n",
      "epoch: 100 loss:0.349972 auc:0.9036\n",
      "epoch: 120 loss:0.336718 auc:0.9149\n",
      "epoch: 140 loss:0.328731 auc:0.9187\n",
      "epoch: 160 loss:0.323510 auc:0.9244\n",
      "epoch: 180 loss:0.319900 auc:0.9282\n",
      "epoch: 200 loss:0.317286 auc:0.9301\n",
      "epoch: 220 loss:0.315333 auc:0.9357\n",
      "epoch: 240 loss:0.313830 auc:0.9376\n",
      "epoch: 260 loss:0.312647 auc:0.9376\n",
      "epoch: 280 loss:0.311708 auc:0.9376\n",
      "epoch: 300 loss:0.310954 auc:0.9376\n",
      "epoch: 320 loss:0.310342 auc:0.9357\n",
      "epoch: 340 loss:0.309843 auc:0.9357\n",
      "epoch: 360 loss:0.309432 auc:0.9414\n",
      "epoch: 380 loss:0.309089 auc:0.9414\n",
      "epoch: 400 loss:0.308799 auc:0.9414\n",
      "epoch: 420 loss:0.308550 auc:0.9433\n",
      "epoch: 440 loss:0.308336 auc:0.9414\n",
      "epoch: 460 loss:0.308150 auc:0.9433\n",
      "epoch: 480 loss:0.307986 auc:0.9433\n",
      "epoch: 500 loss:0.307840 auc:0.9433\n",
      "epoch: 520 loss:0.307712 auc:0.9433\n",
      "epoch: 540 loss:0.307600 auc:0.9452\n",
      "epoch: 560 loss:0.307503 auc:0.9452\n",
      "epoch: 580 loss:0.307431 auc:0.9452\n",
      "epoch: 600 loss:0.307351 auc:0.9452\n",
      "epoch: 620 loss:0.307290 auc:0.9452\n",
      "epoch: 640 loss:0.307238 auc:0.9490\n",
      "epoch: 660 loss:0.307195 auc:0.9490\n",
      "epoch: 680 loss:0.307158 auc:0.9490\n",
      "epoch: 700 loss:0.307133 auc:0.9509\n",
      "epoch: 720 loss:0.307106 auc:0.9490\n",
      "epoch: 740 loss:0.307078 auc:0.9490\n",
      "epoch: 760 loss:0.307057 auc:0.9490\n",
      "epoch: 780 loss:0.307040 auc:0.9490\n",
      "epoch: 800 loss:0.307026 auc:0.9490\n",
      "epoch: 820 loss:0.307019 auc:0.9509\n",
      "epoch: 840 loss:0.307015 auc:0.9509\n",
      "epoch: 860 loss:0.306993 auc:0.9509\n",
      "epoch: 880 loss:0.306984 auc:0.9527\n",
      "epoch: 900 loss:0.306977 auc:0.9527\n",
      "epoch: 920 loss:0.306970 auc:0.9527\n",
      "epoch: 940 loss:0.306964 auc:0.9527\n",
      "epoch: 960 loss:0.306959 auc:0.9527\n",
      "epoch: 980 loss:0.307042 auc:0.9546\n"
     ]
    },
    {
     "name": "stderr",
     "output_type": "stream",
     "text": [
      " 15%|█▍        | 149/1005 [19:55<3:52:17, 16.28s/it]"
     ]
    },
    {
     "name": "stdout",
     "output_type": "stream",
     "text": [
      "Fit finished.\n",
      "epoch:   0 loss:0.788021 auc:0.5810\n",
      "epoch:  20 loss:0.565478 auc:0.6574\n",
      "epoch:  40 loss:0.446453 auc:0.7847\n",
      "epoch:  60 loss:0.375193 auc:0.8079\n",
      "epoch:  80 loss:0.344494 auc:0.8380\n",
      "epoch: 100 loss:0.330554 auc:0.8495\n",
      "epoch: 120 loss:0.323052 auc:0.8565\n",
      "epoch: 140 loss:0.318458 auc:0.8611\n",
      "epoch: 160 loss:0.315413 auc:0.8681\n",
      "epoch: 180 loss:0.313325 auc:0.8773\n",
      "epoch: 200 loss:0.311860 auc:0.8727\n",
      "epoch: 220 loss:0.310807 auc:0.8727\n",
      "epoch: 240 loss:0.310029 auc:0.8750\n",
      "epoch: 260 loss:0.309441 auc:0.8750\n",
      "epoch: 280 loss:0.308989 auc:0.8727\n",
      "epoch: 300 loss:0.308636 auc:0.8681\n",
      "epoch: 320 loss:0.308357 auc:0.8681\n"
     ]
    },
    {
     "name": "stderr",
     "output_type": "stream",
     "text": [
      " 15%|█▍        | 150/1005 [20:07<3:33:01, 14.95s/it]"
     ]
    },
    {
     "name": "stdout",
     "output_type": "stream",
     "text": [
      "epoch: 340 loss:0.308132 auc:0.8634\n",
      "Fit finished.\n",
      "epoch:   0 loss:0.818021 auc:0.6159\n",
      "epoch:  20 loss:0.593476 auc:0.8597\n",
      "epoch:  40 loss:0.503137 auc:0.9310\n",
      "epoch:  60 loss:0.411978 auc:0.9144\n",
      "epoch:  80 loss:0.368157 auc:0.9073\n",
      "epoch: 100 loss:0.345077 auc:0.8954\n",
      "epoch: 120 loss:0.332592 auc:0.8894\n",
      "epoch: 140 loss:0.325338 auc:0.8859\n",
      "epoch: 160 loss:0.320694 auc:0.8847\n",
      "epoch: 180 loss:0.317528 auc:0.8835\n"
     ]
    },
    {
     "name": "stderr",
     "output_type": "stream",
     "text": [
      " 15%|█▌        | 151/1005 [20:15<3:02:51, 12.85s/it]"
     ]
    },
    {
     "name": "stdout",
     "output_type": "stream",
     "text": [
      "epoch: 200 loss:0.315254 auc:0.8811\n",
      "Fit finished.\n",
      "epoch:   0 loss:0.778700 auc:0.4583\n",
      "epoch:  20 loss:0.591763 auc:0.7863\n",
      "epoch:  40 loss:0.515625 auc:0.7040\n",
      "epoch:  60 loss:0.430000 auc:0.6171\n",
      "epoch:  80 loss:0.381864 auc:0.6297\n",
      "epoch: 100 loss:0.355529 auc:0.6343\n",
      "epoch: 120 loss:0.340894 auc:0.6354\n",
      "epoch: 140 loss:0.331893 auc:0.6366\n",
      "epoch: 160 loss:0.325926 auc:0.6309\n"
     ]
    },
    {
     "name": "stderr",
     "output_type": "stream",
     "text": [
      " 15%|█▌        | 152/1005 [20:22<2:37:26, 11.07s/it]"
     ]
    },
    {
     "name": "stdout",
     "output_type": "stream",
     "text": [
      "epoch: 180 loss:0.321742 auc:0.6297\n",
      "Fit finished.\n",
      "epoch:   0 loss:0.777603 auc:0.4614\n",
      "epoch:  20 loss:0.571078 auc:0.7872\n",
      "epoch:  40 loss:0.455375 auc:0.5684\n",
      "epoch:  60 loss:0.381840 auc:0.6088\n",
      "epoch:  80 loss:0.347457 auc:0.5898\n",
      "epoch: 100 loss:0.332088 auc:0.5850\n",
      "epoch: 120 loss:0.324014 auc:0.5696\n",
      "epoch: 140 loss:0.319186 auc:0.5684\n",
      "epoch: 160 loss:0.316048 auc:0.5660\n"
     ]
    },
    {
     "name": "stderr",
     "output_type": "stream",
     "text": [
      " 15%|█▌        | 153/1005 [20:29<2:18:15,  9.74s/it]"
     ]
    },
    {
     "name": "stdout",
     "output_type": "stream",
     "text": [
      "epoch: 180 loss:0.313887 auc:0.5672\n",
      "Fit finished.\n",
      "epoch:   0 loss:0.820881 auc:0.5156\n",
      "epoch:  20 loss:0.597812 auc:0.6684\n",
      "epoch:  40 loss:0.533216 auc:0.6493\n",
      "epoch:  60 loss:0.440153 auc:0.6076\n",
      "epoch:  80 loss:0.385352 auc:0.5764\n",
      "epoch: 100 loss:0.355101 auc:0.5642\n",
      "epoch: 120 loss:0.338897 auc:0.5330\n",
      "epoch: 140 loss:0.329489 auc:0.5139\n"
     ]
    },
    {
     "name": "stderr",
     "output_type": "stream",
     "text": [
      " 15%|█▌        | 154/1005 [20:35<2:03:52,  8.73s/it]"
     ]
    },
    {
     "name": "stdout",
     "output_type": "stream",
     "text": [
      "epoch: 160 loss:0.323527 auc:0.5104\n",
      "Fit finished.\n",
      "epoch:   0 loss:0.786526 auc:0.4224\n",
      "epoch:  20 loss:0.579699 auc:0.5184\n",
      "epoch:  40 loss:0.477687 auc:0.4880\n",
      "epoch:  60 loss:0.390913 auc:0.5152\n",
      "epoch:  80 loss:0.353054 auc:0.5184\n",
      "epoch: 100 loss:0.335621 auc:0.5248\n",
      "epoch: 120 loss:0.326462 auc:0.5168\n",
      "epoch: 140 loss:0.320954 auc:0.5072\n",
      "epoch: 160 loss:0.317360 auc:0.5056\n"
     ]
    },
    {
     "name": "stderr",
     "output_type": "stream",
     "text": [
      " 15%|█▌        | 155/1005 [20:42<1:55:01,  8.12s/it]"
     ]
    },
    {
     "name": "stdout",
     "output_type": "stream",
     "text": [
      "epoch: 180 loss:0.314900 auc:0.4976\n",
      "Fit finished.\n",
      "epoch:   0 loss:0.798759 auc:0.6302\n",
      "epoch:  20 loss:0.560438 auc:0.8077\n",
      "epoch:  40 loss:0.449354 auc:0.7663\n",
      "epoch:  60 loss:0.381185 auc:0.7411\n",
      "epoch:  80 loss:0.349984 auc:0.7263\n",
      "epoch: 100 loss:0.334703 auc:0.7115\n",
      "epoch: 120 loss:0.326211 auc:0.7027\n",
      "epoch: 140 loss:0.320964 auc:0.6982\n",
      "epoch: 160 loss:0.317452 auc:0.7041\n"
     ]
    },
    {
     "name": "stderr",
     "output_type": "stream",
     "text": [
      " 16%|█▌        | 156/1005 [20:49<1:50:12,  7.79s/it]"
     ]
    },
    {
     "name": "stdout",
     "output_type": "stream",
     "text": [
      "epoch: 180 loss:0.314996 auc:0.7101\n",
      "Fit finished.\n",
      "epoch:   0 loss:0.806305 auc:0.6738\n",
      "epoch:  20 loss:0.594404 auc:0.6078\n",
      "epoch:  40 loss:0.513421 auc:0.6667\n",
      "epoch:  60 loss:0.427459 auc:0.7005\n",
      "epoch:  80 loss:0.380288 auc:0.7184\n",
      "epoch: 100 loss:0.354385 auc:0.7005\n",
      "epoch: 120 loss:0.339090 auc:0.7130\n",
      "epoch: 140 loss:0.329877 auc:0.7130\n",
      "epoch: 160 loss:0.324084 auc:0.7166\n",
      "epoch: 180 loss:0.320165 auc:0.7184\n",
      "epoch: 200 loss:0.317381 auc:0.7237\n",
      "epoch: 220 loss:0.315329 auc:0.7291\n",
      "epoch: 240 loss:0.313775 auc:0.7255\n",
      "epoch: 260 loss:0.312573 auc:0.7219\n",
      "epoch: 280 loss:0.311626 auc:0.7237\n",
      "epoch: 300 loss:0.310862 auc:0.7219\n",
      "epoch: 320 loss:0.310238 auc:0.7201\n",
      "epoch: 340 loss:0.309725 auc:0.7184\n"
     ]
    },
    {
     "name": "stderr",
     "output_type": "stream",
     "text": [
      " 16%|█▌        | 157/1005 [21:02<2:10:49,  9.26s/it]"
     ]
    },
    {
     "name": "stdout",
     "output_type": "stream",
     "text": [
      "epoch: 360 loss:0.309300 auc:0.7201\n",
      "Fit finished.\n",
      "epoch:   0 loss:0.771590 auc:0.4300\n",
      "epoch:  20 loss:0.595152 auc:0.8120\n",
      "epoch:  40 loss:0.515248 auc:0.7680\n",
      "epoch:  60 loss:0.427575 auc:0.6920\n",
      "epoch:  80 loss:0.378678 auc:0.6340\n",
      "epoch: 100 loss:0.352816 auc:0.6340\n",
      "epoch: 120 loss:0.338119 auc:0.6280\n",
      "epoch: 140 loss:0.329201 auc:0.6160\n",
      "epoch: 160 loss:0.323601 auc:0.6040\n"
     ]
    },
    {
     "name": "stderr",
     "output_type": "stream",
     "text": [
      " 16%|█▌        | 158/1005 [21:08<1:59:27,  8.46s/it]"
     ]
    },
    {
     "name": "stdout",
     "output_type": "stream",
     "text": [
      "epoch: 180 loss:0.319876 auc:0.6020\n",
      "Fit finished.\n",
      "epoch:   0 loss:0.778531 auc:0.4423\n",
      "epoch:  20 loss:0.580468 auc:0.6647\n",
      "epoch:  40 loss:0.476296 auc:0.6147\n",
      "epoch:  60 loss:0.393934 auc:0.6742\n",
      "epoch:  80 loss:0.356118 auc:0.6778\n",
      "epoch: 100 loss:0.337782 auc:0.6790\n",
      "epoch: 120 loss:0.327834 auc:0.6825\n",
      "epoch: 140 loss:0.321827 auc:0.6825\n",
      "epoch: 160 loss:0.317928 auc:0.6861\n",
      "epoch: 180 loss:0.315271 auc:0.6837\n",
      "epoch: 200 loss:0.313392 auc:0.6813\n",
      "epoch: 220 loss:0.312022 auc:0.6837\n",
      "epoch: 240 loss:0.311001 auc:0.6849\n",
      "epoch: 260 loss:0.310226 auc:0.6861\n",
      "epoch: 280 loss:0.309629 auc:0.6908\n",
      "epoch: 300 loss:0.309164 auc:0.6944\n",
      "epoch: 320 loss:0.308794 auc:0.6944\n",
      "epoch: 340 loss:0.308494 auc:0.6968\n",
      "epoch: 360 loss:0.308246 auc:0.6968\n",
      "epoch: 380 loss:0.308039 auc:0.6980\n",
      "epoch: 400 loss:0.307863 auc:0.6992\n",
      "epoch: 420 loss:0.307714 auc:0.6992\n",
      "epoch: 440 loss:0.307586 auc:0.6980\n",
      "epoch: 460 loss:0.307475 auc:0.6980\n",
      "epoch: 480 loss:0.307380 auc:0.6980\n",
      "epoch: 500 loss:0.307298 auc:0.6992\n",
      "epoch: 520 loss:0.307227 auc:0.6980\n",
      "epoch: 540 loss:0.307165 auc:0.6992\n"
     ]
    },
    {
     "name": "stderr",
     "output_type": "stream",
     "text": [
      " 16%|█▌        | 159/1005 [21:26<2:38:16, 11.23s/it]"
     ]
    },
    {
     "name": "stdout",
     "output_type": "stream",
     "text": [
      "epoch: 560 loss:0.307112 auc:0.6980\n",
      "Fit finished.\n",
      "epoch:   0 loss:0.794735 auc:0.5293\n",
      "epoch:  20 loss:0.582773 auc:0.5898\n",
      "epoch:  40 loss:0.498319 auc:0.5690\n",
      "epoch:  60 loss:0.413719 auc:0.5690\n",
      "epoch:  80 loss:0.366942 auc:0.5747\n",
      "epoch: 100 loss:0.343372 auc:0.5898\n",
      "epoch: 120 loss:0.331216 auc:0.6030\n",
      "epoch: 140 loss:0.324305 auc:0.6030\n",
      "epoch: 160 loss:0.319939 auc:0.6030\n",
      "epoch: 180 loss:0.316979 auc:0.6068\n",
      "epoch: 200 loss:0.314876 auc:0.6049\n",
      "epoch: 220 loss:0.313314 auc:0.6106\n",
      "epoch: 240 loss:0.312119 auc:0.6087\n",
      "epoch: 260 loss:0.311182 auc:0.6087\n",
      "epoch: 280 loss:0.310441 auc:0.6106\n",
      "epoch: 300 loss:0.309847 auc:0.6125\n",
      "epoch: 320 loss:0.309370 auc:0.6087\n",
      "epoch: 340 loss:0.308984 auc:0.6106\n",
      "epoch: 360 loss:0.308671 auc:0.6106\n"
     ]
    },
    {
     "name": "stderr",
     "output_type": "stream",
     "text": [
      " 16%|█▌        | 160/1005 [21:39<2:44:42, 11.69s/it]"
     ]
    },
    {
     "name": "stdout",
     "output_type": "stream",
     "text": [
      "epoch: 380 loss:0.308414 auc:0.6087\n",
      "Fit finished.\n",
      "epoch:   0 loss:0.817153 auc:0.5089\n",
      "epoch:  20 loss:0.593266 auc:0.5976\n",
      "epoch:  40 loss:0.504264 auc:0.5621\n",
      "epoch:  60 loss:0.420137 auc:0.5385\n",
      "epoch:  80 loss:0.371324 auc:0.4852\n",
      "epoch: 100 loss:0.346464 auc:0.5089\n",
      "epoch: 120 loss:0.333513 auc:0.4970\n",
      "epoch: 140 loss:0.325896 auc:0.4852\n"
     ]
    },
    {
     "name": "stderr",
     "output_type": "stream",
     "text": [
      " 16%|█▌        | 161/1005 [21:45<2:21:17, 10.04s/it]"
     ]
    },
    {
     "name": "stdout",
     "output_type": "stream",
     "text": [
      "epoch: 160 loss:0.321016 auc:0.4734\n",
      "Fit finished.\n",
      "epoch:   0 loss:0.814763 auc:0.3655\n",
      "epoch:  20 loss:0.596176 auc:0.7216\n",
      "epoch:  40 loss:0.531970 auc:0.5966\n",
      "epoch:  60 loss:0.430176 auc:0.5189\n",
      "epoch:  80 loss:0.376182 auc:0.5511\n",
      "epoch: 100 loss:0.349104 auc:0.5568\n",
      "epoch: 120 loss:0.335106 auc:0.5511\n",
      "epoch: 140 loss:0.327021 auc:0.5549\n",
      "epoch: 160 loss:0.321970 auc:0.5549\n"
     ]
    },
    {
     "name": "stderr",
     "output_type": "stream",
     "text": [
      " 16%|█▌        | 162/1005 [21:52<2:10:13,  9.27s/it]"
     ]
    },
    {
     "name": "stdout",
     "output_type": "stream",
     "text": [
      "epoch: 180 loss:0.318602 auc:0.5568\n",
      "Fit finished.\n",
      "epoch:   0 loss:0.815031 auc:0.4960\n",
      "epoch:  20 loss:0.584083 auc:0.8016\n",
      "epoch:  40 loss:0.494630 auc:0.4336\n",
      "epoch:  60 loss:0.409534 auc:0.3840\n",
      "epoch:  80 loss:0.366163 auc:0.3952\n",
      "epoch: 100 loss:0.344303 auc:0.3824\n",
      "epoch: 120 loss:0.332607 auc:0.3712\n",
      "epoch: 140 loss:0.325652 auc:0.3664\n"
     ]
    },
    {
     "name": "stderr",
     "output_type": "stream",
     "text": [
      " 16%|█▌        | 163/1005 [21:58<1:56:16,  8.29s/it]"
     ]
    },
    {
     "name": "stdout",
     "output_type": "stream",
     "text": [
      "epoch: 160 loss:0.321060 auc:0.3616\n",
      "Fit finished.\n",
      "epoch:   0 loss:0.826279 auc:0.4130\n",
      "epoch:  20 loss:0.593467 auc:0.7077\n",
      "epoch:  40 loss:0.516257 auc:0.6618\n",
      "epoch:  60 loss:0.429068 auc:0.6123\n",
      "epoch:  80 loss:0.378775 auc:0.5966\n",
      "epoch: 100 loss:0.352338 auc:0.5930\n",
      "epoch: 120 loss:0.337722 auc:0.5797\n",
      "epoch: 140 loss:0.328841 auc:0.5676\n",
      "epoch: 160 loss:0.323215 auc:0.5640\n"
     ]
    },
    {
     "name": "stderr",
     "output_type": "stream",
     "text": [
      " 16%|█▋        | 164/1005 [22:05<1:50:13,  7.86s/it]"
     ]
    },
    {
     "name": "stdout",
     "output_type": "stream",
     "text": [
      "epoch: 180 loss:0.319460 auc:0.5592\n",
      "Fit finished.\n",
      "epoch:   0 loss:0.793149 auc:0.5257\n",
      "epoch:  20 loss:0.561125 auc:0.6743\n",
      "epoch:  40 loss:0.435552 auc:0.5954\n",
      "epoch:  60 loss:0.367372 auc:0.5989\n",
      "epoch:  80 loss:0.339524 auc:0.6091\n",
      "epoch: 100 loss:0.327246 auc:0.6080\n",
      "epoch: 120 loss:0.320816 auc:0.6046\n",
      "epoch: 140 loss:0.316915 auc:0.6126\n",
      "epoch: 160 loss:0.314392 auc:0.6183\n"
     ]
    },
    {
     "name": "stderr",
     "output_type": "stream",
     "text": [
      " 16%|█▋        | 165/1005 [22:12<1:46:59,  7.64s/it]"
     ]
    },
    {
     "name": "stdout",
     "output_type": "stream",
     "text": [
      "epoch: 180 loss:0.312677 auc:0.6229\n",
      "Fit finished.\n",
      "epoch:   0 loss:0.787065 auc:0.4921\n",
      "epoch:  20 loss:0.586455 auc:0.7079\n",
      "epoch:  40 loss:0.483507 auc:0.6444\n",
      "epoch:  60 loss:0.394047 auc:0.6667\n",
      "epoch:  80 loss:0.354543 auc:0.6730\n",
      "epoch: 100 loss:0.336503 auc:0.6571\n",
      "epoch: 120 loss:0.327011 auc:0.6476\n",
      "epoch: 140 loss:0.321347 auc:0.6540\n",
      "epoch: 160 loss:0.317658 auc:0.6540\n"
     ]
    },
    {
     "name": "stderr",
     "output_type": "stream",
     "text": [
      " 17%|█▋        | 166/1005 [22:19<1:42:56,  7.36s/it]"
     ]
    },
    {
     "name": "stdout",
     "output_type": "stream",
     "text": [
      "epoch: 180 loss:0.315116 auc:0.6635\n",
      "Fit finished.\n",
      "epoch:   0 loss:0.779047 auc:0.5170\n",
      "epoch:  20 loss:0.552992 auc:0.7059\n",
      "epoch:  40 loss:0.429321 auc:0.5871\n",
      "epoch:  60 loss:0.369765 auc:0.5803\n",
      "epoch:  80 loss:0.343371 auc:0.5724\n",
      "epoch: 100 loss:0.330105 auc:0.5622\n",
      "epoch: 120 loss:0.322617 auc:0.5622\n",
      "epoch: 140 loss:0.318021 auc:0.5633\n",
      "epoch: 160 loss:0.315022 auc:0.5532\n"
     ]
    },
    {
     "name": "stderr",
     "output_type": "stream",
     "text": [
      " 17%|█▋        | 167/1005 [22:26<1:40:47,  7.22s/it]"
     ]
    },
    {
     "name": "stdout",
     "output_type": "stream",
     "text": [
      "epoch: 180 loss:0.312993 auc:0.5554\n",
      "Fit finished.\n",
      "epoch:   0 loss:0.762586 auc:0.5625\n",
      "epoch:  20 loss:0.570622 auc:0.7361\n",
      "epoch:  40 loss:0.453877 auc:0.7465\n",
      "epoch:  60 loss:0.379199 auc:0.7431\n",
      "epoch:  80 loss:0.348070 auc:0.7361\n",
      "epoch: 100 loss:0.333144 auc:0.7431\n",
      "epoch: 120 loss:0.324806 auc:0.7361\n",
      "epoch: 140 loss:0.319693 auc:0.7257\n",
      "epoch: 160 loss:0.316347 auc:0.7205\n"
     ]
    },
    {
     "name": "stderr",
     "output_type": "stream",
     "text": [
      " 17%|█▋        | 168/1005 [22:33<1:38:40,  7.07s/it]"
     ]
    },
    {
     "name": "stdout",
     "output_type": "stream",
     "text": [
      "epoch: 180 loss:0.314061 auc:0.7170\n",
      "Fit finished.\n",
      "epoch:   0 loss:0.796692 auc:0.5100\n",
      "epoch:  20 loss:0.600277 auc:0.6100\n",
      "epoch:  40 loss:0.553319 auc:0.6400\n",
      "epoch:  60 loss:0.475212 auc:0.6200\n",
      "epoch:  80 loss:0.407725 auc:0.6200\n",
      "epoch: 100 loss:0.369787 auc:0.6000\n",
      "epoch: 120 loss:0.350031 auc:0.5900\n",
      "epoch: 140 loss:0.338402 auc:0.5900\n",
      "epoch: 160 loss:0.330725 auc:0.5900\n"
     ]
    },
    {
     "name": "stderr",
     "output_type": "stream",
     "text": [
      " 17%|█▋        | 169/1005 [22:39<1:37:30,  7.00s/it]"
     ]
    },
    {
     "name": "stdout",
     "output_type": "stream",
     "text": [
      "epoch: 180 loss:0.325368 auc:0.5900\n",
      "Fit finished.\n",
      "epoch:   0 loss:0.787532 auc:0.3891\n",
      "epoch:  20 loss:0.585613 auc:0.6849\n",
      "epoch:  40 loss:0.493298 auc:0.7101\n",
      "epoch:  60 loss:0.402820 auc:0.6746\n",
      "epoch:  80 loss:0.361417 auc:0.6701\n",
      "epoch: 100 loss:0.341765 auc:0.6701\n",
      "epoch: 120 loss:0.331179 auc:0.6686\n",
      "epoch: 140 loss:0.324700 auc:0.6701\n",
      "epoch: 160 loss:0.320375 auc:0.6686\n"
     ]
    },
    {
     "name": "stderr",
     "output_type": "stream",
     "text": [
      " 17%|█▋        | 170/1005 [22:46<1:35:47,  6.88s/it]"
     ]
    },
    {
     "name": "stdout",
     "output_type": "stream",
     "text": [
      "epoch: 180 loss:0.317330 auc:0.6583\n",
      "Fit finished.\n",
      "epoch:   0 loss:0.766882 auc:0.5700\n",
      "epoch:  20 loss:0.580994 auc:0.8200\n",
      "epoch:  40 loss:0.491271 auc:0.7825\n",
      "epoch:  60 loss:0.401255 auc:0.8175\n",
      "epoch:  80 loss:0.359457 auc:0.8050\n",
      "epoch: 100 loss:0.339976 auc:0.7950\n",
      "epoch: 120 loss:0.330076 auc:0.7850\n",
      "epoch: 140 loss:0.324156 auc:0.7850\n",
      "epoch: 160 loss:0.320212 auc:0.7825\n"
     ]
    },
    {
     "name": "stderr",
     "output_type": "stream",
     "text": [
      " 17%|█▋        | 171/1005 [22:53<1:35:12,  6.85s/it]"
     ]
    },
    {
     "name": "stdout",
     "output_type": "stream",
     "text": [
      "epoch: 180 loss:0.317418 auc:0.7750\n",
      "Fit finished.\n",
      "epoch:   0 loss:0.796608 auc:0.5009\n",
      "epoch:  20 loss:0.601510 auc:0.7637\n",
      "epoch:  40 loss:0.560236 auc:0.7429\n",
      "epoch:  60 loss:0.465438 auc:0.7732\n",
      "epoch:  80 loss:0.395289 auc:0.7845\n",
      "epoch: 100 loss:0.360465 auc:0.7845\n",
      "epoch: 120 loss:0.343106 auc:0.7958\n",
      "epoch: 140 loss:0.333145 auc:0.7996\n",
      "epoch: 160 loss:0.326635 auc:0.7977\n",
      "epoch: 180 loss:0.322093 auc:0.7977\n",
      "epoch: 200 loss:0.318825 auc:0.7996\n",
      "epoch: 220 loss:0.316424 auc:0.7958\n",
      "epoch: 240 loss:0.314621 auc:0.7958\n",
      "epoch: 260 loss:0.313250 auc:0.7958\n",
      "epoch: 280 loss:0.312190 auc:0.7996\n"
     ]
    },
    {
     "name": "stderr",
     "output_type": "stream",
     "text": [
      " 17%|█▋        | 172/1005 [23:04<1:51:57,  8.06s/it]"
     ]
    },
    {
     "name": "stdout",
     "output_type": "stream",
     "text": [
      "epoch: 300 loss:0.311355 auc:0.7977\n",
      "Fit finished.\n",
      "epoch:   0 loss:0.794475 auc:0.4600\n",
      "epoch:  20 loss:0.589371 auc:0.7833\n",
      "epoch:  40 loss:0.494859 auc:0.8344\n",
      "epoch:  60 loss:0.415921 auc:0.8178\n",
      "epoch:  80 loss:0.372734 auc:0.7978\n",
      "epoch: 100 loss:0.348597 auc:0.7822\n",
      "epoch: 120 loss:0.334861 auc:0.7911\n",
      "epoch: 140 loss:0.326723 auc:0.7922\n",
      "epoch: 160 loss:0.321613 auc:0.7944\n",
      "epoch: 180 loss:0.318190 auc:0.7967\n"
     ]
    },
    {
     "name": "stderr",
     "output_type": "stream",
     "text": [
      " 17%|█▋        | 173/1005 [23:11<1:50:23,  7.96s/it]"
     ]
    },
    {
     "name": "stdout",
     "output_type": "stream",
     "text": [
      "epoch: 200 loss:0.315776 auc:0.7911\n",
      "Fit finished.\n",
      "epoch:   0 loss:0.844603 auc:0.3967\n",
      "epoch:  20 loss:0.589855 auc:0.4649\n",
      "epoch:  40 loss:0.501406 auc:0.3388\n",
      "epoch:  60 loss:0.409553 auc:0.3306\n",
      "epoch:  80 loss:0.365159 auc:0.3554\n",
      "epoch: 100 loss:0.343637 auc:0.3678\n",
      "epoch: 120 loss:0.332270 auc:0.3760\n",
      "epoch: 140 loss:0.325452 auc:0.3802\n"
     ]
    },
    {
     "name": "stderr",
     "output_type": "stream",
     "text": [
      " 17%|█▋        | 174/1005 [23:17<1:41:09,  7.30s/it]"
     ]
    },
    {
     "name": "stdout",
     "output_type": "stream",
     "text": [
      "epoch: 160 loss:0.321039 auc:0.3802\n",
      "Fit finished.\n",
      "epoch:   0 loss:0.794206 auc:0.4343\n",
      "epoch:  20 loss:0.598383 auc:0.7017\n",
      "epoch:  40 loss:0.562381 auc:0.7189\n",
      "epoch:  60 loss:0.476679 auc:0.7943\n",
      "epoch:  80 loss:0.409599 auc:0.7977\n",
      "epoch: 100 loss:0.370099 auc:0.8011\n",
      "epoch: 120 loss:0.348384 auc:0.7909\n",
      "epoch: 140 loss:0.336213 auc:0.7874\n",
      "epoch: 160 loss:0.328691 auc:0.7851\n",
      "epoch: 180 loss:0.323716 auc:0.7829\n",
      "epoch: 200 loss:0.320234 auc:0.7749\n"
     ]
    },
    {
     "name": "stderr",
     "output_type": "stream",
     "text": [
      " 17%|█▋        | 175/1005 [23:25<1:43:01,  7.45s/it]"
     ]
    },
    {
     "name": "stdout",
     "output_type": "stream",
     "text": [
      "epoch: 220 loss:0.317682 auc:0.7749\n",
      "Fit finished.\n",
      "epoch:   0 loss:0.787030 auc:0.5469\n",
      "epoch:  20 loss:0.584206 auc:0.5243\n",
      "epoch:  40 loss:0.497537 auc:0.5920\n",
      "epoch:  60 loss:0.410224 auc:0.6111\n",
      "epoch:  80 loss:0.364928 auc:0.6233\n",
      "epoch: 100 loss:0.343036 auc:0.6267\n",
      "epoch: 120 loss:0.331345 auc:0.6302\n",
      "epoch: 140 loss:0.324432 auc:0.6285\n",
      "epoch: 160 loss:0.319987 auc:0.6319\n",
      "epoch: 180 loss:0.316966 auc:0.6319\n",
      "epoch: 200 loss:0.314827 auc:0.6319\n",
      "epoch: 220 loss:0.313258 auc:0.6354\n",
      "epoch: 240 loss:0.312070 auc:0.6354\n",
      "epoch: 260 loss:0.311149 auc:0.6354\n",
      "epoch: 280 loss:0.310423 auc:0.6372\n",
      "epoch: 300 loss:0.309846 auc:0.6406\n",
      "epoch: 320 loss:0.309386 auc:0.6406\n",
      "epoch: 340 loss:0.309014 auc:0.6389\n",
      "epoch: 360 loss:0.308709 auc:0.6372\n",
      "epoch: 380 loss:0.308457 auc:0.6372\n",
      "epoch: 400 loss:0.308247 auc:0.6389\n",
      "epoch: 420 loss:0.308070 auc:0.6406\n",
      "epoch: 440 loss:0.307919 auc:0.6406\n",
      "epoch: 460 loss:0.307790 auc:0.6441\n",
      "epoch: 480 loss:0.307678 auc:0.6441\n",
      "epoch: 500 loss:0.307579 auc:0.6476\n",
      "epoch: 520 loss:0.307492 auc:0.6510\n",
      "epoch: 540 loss:0.307432 auc:0.6510\n",
      "epoch: 560 loss:0.307346 auc:0.6510\n",
      "epoch: 580 loss:0.307283 auc:0.6510\n",
      "epoch: 600 loss:0.307227 auc:0.6528\n",
      "epoch: 620 loss:0.307177 auc:0.6510\n",
      "epoch: 640 loss:0.307132 auc:0.6528\n",
      "epoch: 660 loss:0.307092 auc:0.6528\n",
      "epoch: 680 loss:0.307065 auc:0.6545\n",
      "epoch: 700 loss:0.307030 auc:0.6562\n",
      "epoch: 720 loss:0.306994 auc:0.6562\n",
      "epoch: 740 loss:0.306968 auc:0.6562\n",
      "epoch: 760 loss:0.306944 auc:0.6562\n",
      "epoch: 780 loss:0.306924 auc:0.6562\n",
      "epoch: 800 loss:0.306905 auc:0.6562\n",
      "epoch: 820 loss:0.306889 auc:0.6545\n",
      "epoch: 840 loss:0.307032 auc:0.6580\n"
     ]
    },
    {
     "name": "stderr",
     "output_type": "stream",
     "text": [
      " 18%|█▊        | 176/1005 [23:53<3:08:15, 13.63s/it]"
     ]
    },
    {
     "name": "stdout",
     "output_type": "stream",
     "text": [
      "epoch: 860 loss:0.306862 auc:0.6545\n",
      "Fit finished.\n",
      "epoch:   0 loss:0.786873 auc:0.3102\n",
      "epoch:  20 loss:0.587567 auc:0.6094\n",
      "epoch:  40 loss:0.488850 auc:0.5042\n",
      "epoch:  60 loss:0.402969 auc:0.4488\n",
      "epoch:  80 loss:0.361956 auc:0.4681\n",
      "epoch: 100 loss:0.342319 auc:0.4571\n",
      "epoch: 120 loss:0.331433 auc:0.4349\n",
      "epoch: 140 loss:0.324799 auc:0.4460\n",
      "epoch: 160 loss:0.320465 auc:0.4377\n"
     ]
    },
    {
     "name": "stderr",
     "output_type": "stream",
     "text": [
      " 18%|█▊        | 177/1005 [24:00<2:40:04, 11.60s/it]"
     ]
    },
    {
     "name": "stdout",
     "output_type": "stream",
     "text": [
      "epoch: 180 loss:0.317478 auc:0.4294\n",
      "Fit finished.\n",
      "epoch:   0 loss:0.799132 auc:0.4587\n",
      "epoch:  20 loss:0.576204 auc:0.7199\n",
      "epoch:  40 loss:0.465944 auc:0.6853\n",
      "epoch:  60 loss:0.380883 auc:0.6295\n",
      "epoch:  80 loss:0.347408 auc:0.6250\n",
      "epoch: 100 loss:0.332245 auc:0.6339\n",
      "epoch: 120 loss:0.324219 auc:0.6350\n",
      "epoch: 140 loss:0.319357 auc:0.6317\n",
      "epoch: 160 loss:0.316130 auc:0.6306\n"
     ]
    },
    {
     "name": "stderr",
     "output_type": "stream",
     "text": [
      " 18%|█▊        | 178/1005 [24:07<2:21:10, 10.24s/it]"
     ]
    },
    {
     "name": "stdout",
     "output_type": "stream",
     "text": [
      "epoch: 180 loss:0.313885 auc:0.6261\n",
      "Fit finished.\n",
      "epoch:   0 loss:0.776391 auc:0.5488\n",
      "epoch:  20 loss:0.589764 auc:0.5728\n",
      "epoch:  40 loss:0.500350 auc:0.5680\n",
      "epoch:  60 loss:0.416513 auc:0.5808\n",
      "epoch:  80 loss:0.371763 auc:0.6016\n",
      "epoch: 100 loss:0.347924 auc:0.6224\n",
      "epoch: 120 loss:0.334895 auc:0.6272\n",
      "epoch: 140 loss:0.327192 auc:0.6240\n",
      "epoch: 160 loss:0.322208 auc:0.6240\n",
      "epoch: 180 loss:0.318773 auc:0.6240\n",
      "epoch: 200 loss:0.316283 auc:0.6256\n",
      "epoch: 220 loss:0.314421 auc:0.6304\n",
      "epoch: 240 loss:0.312995 auc:0.6288\n",
      "epoch: 260 loss:0.311893 auc:0.6320\n",
      "epoch: 280 loss:0.311037 auc:0.6304\n",
      "epoch: 300 loss:0.310367 auc:0.6256\n"
     ]
    },
    {
     "name": "stderr",
     "output_type": "stream",
     "text": [
      " 18%|█▊        | 179/1005 [24:18<2:22:46, 10.37s/it]"
     ]
    },
    {
     "name": "stdout",
     "output_type": "stream",
     "text": [
      "epoch: 320 loss:0.309835 auc:0.6224\n",
      "Fit finished.\n",
      "epoch:   0 loss:0.782587 auc:0.5620\n",
      "epoch:  20 loss:0.569468 auc:0.8347\n",
      "epoch:  40 loss:0.458588 auc:0.7996\n",
      "epoch:  60 loss:0.383649 auc:0.7955\n",
      "epoch:  80 loss:0.350018 auc:0.7851\n",
      "epoch: 100 loss:0.334265 auc:0.7893\n",
      "epoch: 120 loss:0.325748 auc:0.7810\n",
      "epoch: 140 loss:0.320527 auc:0.7893\n",
      "epoch: 160 loss:0.317112 auc:0.7893\n"
     ]
    },
    {
     "name": "stderr",
     "output_type": "stream",
     "text": [
      " 18%|█▊        | 180/1005 [24:25<2:09:29,  9.42s/it]"
     ]
    },
    {
     "name": "stdout",
     "output_type": "stream",
     "text": [
      "epoch: 180 loss:0.314741 auc:0.7769\n",
      "Fit finished.\n",
      "epoch:   0 loss:0.813122 auc:0.3258\n",
      "epoch:  20 loss:0.576794 auc:0.7741\n",
      "epoch:  40 loss:0.465039 auc:0.7634\n",
      "epoch:  60 loss:0.382396 auc:0.7574\n",
      "epoch:  80 loss:0.348102 auc:0.7527\n",
      "epoch: 100 loss:0.332782 auc:0.7610\n",
      "epoch: 120 loss:0.324613 auc:0.7634\n",
      "epoch: 140 loss:0.319707 auc:0.7658\n",
      "epoch: 160 loss:0.316495 auc:0.7646\n"
     ]
    },
    {
     "name": "stderr",
     "output_type": "stream",
     "text": [
      " 18%|█▊        | 181/1005 [24:32<1:59:53,  8.73s/it]"
     ]
    },
    {
     "name": "stdout",
     "output_type": "stream",
     "text": [
      "epoch: 180 loss:0.314278 auc:0.7646\n",
      "Fit finished.\n",
      "epoch:   0 loss:0.804112 auc:0.4376\n",
      "epoch:  20 loss:0.593863 auc:0.8312\n",
      "epoch:  40 loss:0.512689 auc:0.8930\n",
      "epoch:  60 loss:0.424773 auc:0.9037\n",
      "epoch:  80 loss:0.375144 auc:0.9001\n",
      "epoch: 100 loss:0.348631 auc:0.8870\n",
      "epoch: 120 loss:0.334579 auc:0.8823\n",
      "epoch: 140 loss:0.326494 auc:0.8751\n",
      "epoch: 160 loss:0.321388 auc:0.8704\n",
      "epoch: 180 loss:0.317897 auc:0.8668\n"
     ]
    },
    {
     "name": "stderr",
     "output_type": "stream",
     "text": [
      " 18%|█▊        | 182/1005 [24:40<1:55:02,  8.39s/it]"
     ]
    },
    {
     "name": "stdout",
     "output_type": "stream",
     "text": [
      "epoch: 200 loss:0.315398 auc:0.8621\n",
      "Fit finished.\n",
      "epoch:   0 loss:0.786420 auc:0.5451\n",
      "epoch:  20 loss:0.590886 auc:0.6163\n",
      "epoch:  40 loss:0.499663 auc:0.6562\n",
      "epoch:  60 loss:0.410438 auc:0.6997\n",
      "epoch:  80 loss:0.365804 auc:0.6736\n",
      "epoch: 100 loss:0.343716 auc:0.6458\n",
      "epoch: 120 loss:0.332059 auc:0.6302\n",
      "epoch: 140 loss:0.325179 auc:0.6163\n",
      "epoch: 160 loss:0.320652 auc:0.6128\n"
     ]
    },
    {
     "name": "stderr",
     "output_type": "stream",
     "text": [
      " 18%|█▊        | 183/1005 [24:47<1:49:12,  7.97s/it]"
     ]
    },
    {
     "name": "stdout",
     "output_type": "stream",
     "text": [
      "epoch: 180 loss:0.317475 auc:0.6024\n",
      "Fit finished.\n",
      "epoch:   0 loss:0.812888 auc:0.4483\n",
      "epoch:  20 loss:0.589533 auc:0.7597\n",
      "epoch:  40 loss:0.498390 auc:0.6930\n",
      "epoch:  60 loss:0.411643 auc:0.6363\n",
      "epoch:  80 loss:0.364834 auc:0.6073\n",
      "epoch: 100 loss:0.342629 auc:0.5907\n",
      "epoch: 120 loss:0.331153 auc:0.5951\n",
      "epoch: 140 loss:0.324518 auc:0.6007\n",
      "epoch: 160 loss:0.320300 auc:0.6073\n"
     ]
    },
    {
     "name": "stderr",
     "output_type": "stream",
     "text": [
      " 18%|█▊        | 184/1005 [24:54<1:45:58,  7.74s/it]"
     ]
    },
    {
     "name": "stdout",
     "output_type": "stream",
     "text": [
      "epoch: 180 loss:0.317391 auc:0.6051\n",
      "Fit finished.\n",
      "epoch:   0 loss:0.802784 auc:0.4549\n",
      "epoch:  20 loss:0.595150 auc:0.7887\n",
      "epoch:  40 loss:0.532697 auc:0.8287\n",
      "epoch:  60 loss:0.433244 auc:0.8187\n",
      "epoch:  80 loss:0.378912 auc:0.8176\n",
      "epoch: 100 loss:0.351130 auc:0.8065\n",
      "epoch: 120 loss:0.336978 auc:0.7976\n",
      "epoch: 140 loss:0.328959 auc:0.7875\n",
      "epoch: 160 loss:0.323800 auc:0.7842\n",
      "epoch: 180 loss:0.320231 auc:0.7898\n"
     ]
    },
    {
     "name": "stderr",
     "output_type": "stream",
     "text": [
      " 18%|█▊        | 185/1005 [25:02<1:47:07,  7.84s/it]"
     ]
    },
    {
     "name": "stdout",
     "output_type": "stream",
     "text": [
      "epoch: 200 loss:0.317645 auc:0.7909\n",
      "Fit finished.\n",
      "epoch:   0 loss:0.809195 auc:0.5744\n",
      "epoch:  20 loss:0.597966 auc:0.7355\n",
      "epoch:  40 loss:0.531318 auc:0.7500\n",
      "epoch:  60 loss:0.444459 auc:0.7252\n",
      "epoch:  80 loss:0.384929 auc:0.7273\n",
      "epoch: 100 loss:0.354118 auc:0.7169\n",
      "epoch: 120 loss:0.338692 auc:0.6983\n",
      "epoch: 140 loss:0.329828 auc:0.7087\n",
      "epoch: 160 loss:0.324172 auc:0.7107\n"
     ]
    },
    {
     "name": "stderr",
     "output_type": "stream",
     "text": [
      " 19%|█▊        | 186/1005 [25:09<1:44:08,  7.63s/it]"
     ]
    },
    {
     "name": "stdout",
     "output_type": "stream",
     "text": [
      "epoch: 180 loss:0.320327 auc:0.7128\n",
      "Fit finished.\n",
      "epoch:   0 loss:0.869734 auc:0.4350\n",
      "epoch:  20 loss:0.590994 auc:0.6100\n",
      "epoch:  40 loss:0.507343 auc:0.6225\n",
      "epoch:  60 loss:0.421474 auc:0.6625\n",
      "epoch:  80 loss:0.374608 auc:0.6225\n",
      "epoch: 100 loss:0.350227 auc:0.6225\n",
      "epoch: 120 loss:0.336494 auc:0.6125\n",
      "epoch: 140 loss:0.328204 auc:0.6050\n",
      "epoch: 160 loss:0.322788 auc:0.6175\n",
      "epoch: 180 loss:0.319046 auc:0.6225\n"
     ]
    },
    {
     "name": "stderr",
     "output_type": "stream",
     "text": [
      " 19%|█▊        | 187/1005 [25:17<1:45:23,  7.73s/it]"
     ]
    },
    {
     "name": "stdout",
     "output_type": "stream",
     "text": [
      "epoch: 200 loss:0.316361 auc:0.6200\n",
      "Fit finished.\n",
      "epoch:   0 loss:0.790697 auc:0.6629\n",
      "epoch:  20 loss:0.575650 auc:0.7477\n",
      "epoch:  40 loss:0.462278 auc:0.7896\n",
      "epoch:  60 loss:0.387773 auc:0.7138\n",
      "epoch:  80 loss:0.352102 auc:0.6923\n",
      "epoch: 100 loss:0.334651 auc:0.6640\n",
      "epoch: 120 loss:0.325442 auc:0.6516\n",
      "epoch: 140 loss:0.320145 auc:0.6482\n"
     ]
    },
    {
     "name": "stderr",
     "output_type": "stream",
     "text": [
      " 19%|█▊        | 188/1005 [25:23<1:38:51,  7.26s/it]"
     ]
    },
    {
     "name": "stdout",
     "output_type": "stream",
     "text": [
      "epoch: 160 loss:0.316773 auc:0.6448\n",
      "Fit finished.\n",
      "epoch:   0 loss:0.806339 auc:0.5340\n",
      "epoch:  20 loss:0.599082 auc:0.7293\n",
      "epoch:  40 loss:0.533968 auc:0.6893\n",
      "epoch:  60 loss:0.440538 auc:0.6657\n",
      "epoch:  80 loss:0.383072 auc:0.6183\n",
      "epoch: 100 loss:0.353830 auc:0.6213\n",
      "epoch: 120 loss:0.338257 auc:0.6198\n",
      "epoch: 140 loss:0.329200 auc:0.6183\n",
      "epoch: 160 loss:0.323495 auc:0.6095\n"
     ]
    },
    {
     "name": "stderr",
     "output_type": "stream",
     "text": [
      " 19%|█▉        | 189/1005 [25:30<1:38:25,  7.24s/it]"
     ]
    },
    {
     "name": "stdout",
     "output_type": "stream",
     "text": [
      "epoch: 180 loss:0.319662 auc:0.6065\n",
      "Fit finished.\n",
      "epoch:   0 loss:0.808961 auc:0.4248\n",
      "epoch:  20 loss:0.582805 auc:0.7442\n",
      "epoch:  40 loss:0.482589 auc:0.6759\n",
      "epoch:  60 loss:0.397200 auc:0.6366\n",
      "epoch:  80 loss:0.358910 auc:0.6435\n",
      "epoch: 100 loss:0.339653 auc:0.6539\n",
      "epoch: 120 loss:0.329186 auc:0.6470\n",
      "epoch: 140 loss:0.322842 auc:0.6435\n",
      "epoch: 160 loss:0.318666 auc:0.6435\n"
     ]
    },
    {
     "name": "stderr",
     "output_type": "stream",
     "text": [
      " 19%|█▉        | 190/1005 [25:39<1:42:58,  7.58s/it]"
     ]
    },
    {
     "name": "stdout",
     "output_type": "stream",
     "text": [
      "epoch: 180 loss:0.315798 auc:0.6412\n",
      "Fit finished.\n",
      "epoch:   0 loss:0.806589 auc:0.4144\n",
      "epoch:  20 loss:0.588762 auc:0.7989\n",
      "epoch:  40 loss:0.506293 auc:0.7822\n",
      "epoch:  60 loss:0.410300 auc:0.7711\n",
      "epoch:  80 loss:0.365444 auc:0.8111\n",
      "epoch: 100 loss:0.343241 auc:0.8211\n",
      "epoch: 120 loss:0.331417 auc:0.8211\n",
      "epoch: 140 loss:0.324491 auc:0.8133\n",
      "epoch: 160 loss:0.320089 auc:0.8089\n",
      "epoch: 180 loss:0.317117 auc:0.8111\n",
      "epoch: 200 loss:0.315004 auc:0.8144\n",
      "epoch: 220 loss:0.313434 auc:0.8100\n"
     ]
    },
    {
     "name": "stderr",
     "output_type": "stream",
     "text": [
      " 19%|█▉        | 191/1005 [25:48<1:48:58,  8.03s/it]"
     ]
    },
    {
     "name": "stdout",
     "output_type": "stream",
     "text": [
      "epoch: 240 loss:0.312233 auc:0.8067\n",
      "Fit finished.\n",
      "epoch:   0 loss:0.776589 auc:0.5370\n",
      "epoch:  20 loss:0.572791 auc:0.5855\n",
      "epoch:  40 loss:0.449356 auc:0.5497\n",
      "epoch:  60 loss:0.375613 auc:0.6059\n",
      "epoch:  80 loss:0.346075 auc:0.6199\n",
      "epoch: 100 loss:0.332206 auc:0.6237\n",
      "epoch: 120 loss:0.324540 auc:0.6224\n",
      "epoch: 140 loss:0.319784 auc:0.6224\n",
      "epoch: 160 loss:0.316628 auc:0.6212\n",
      "epoch: 180 loss:0.314437 auc:0.6161\n",
      "epoch: 200 loss:0.312867 auc:0.6186\n",
      "epoch: 220 loss:0.311710 auc:0.6173\n",
      "epoch: 240 loss:0.310836 auc:0.6199\n"
     ]
    },
    {
     "name": "stderr",
     "output_type": "stream",
     "text": [
      " 19%|█▉        | 192/1005 [25:57<1:55:39,  8.54s/it]"
     ]
    },
    {
     "name": "stdout",
     "output_type": "stream",
     "text": [
      "epoch: 260 loss:0.310163 auc:0.6199\n",
      "Fit finished.\n",
      "epoch:   0 loss:0.766257 auc:0.5160\n",
      "epoch:  20 loss:0.570971 auc:0.6795\n",
      "epoch:  40 loss:0.453599 auc:0.7404\n",
      "epoch:  60 loss:0.381652 auc:0.7500\n",
      "epoch:  80 loss:0.348588 auc:0.7500\n",
      "epoch: 100 loss:0.332945 auc:0.7500\n",
      "epoch: 120 loss:0.324640 auc:0.7548\n",
      "epoch: 140 loss:0.319693 auc:0.7580\n",
      "epoch: 160 loss:0.316480 auc:0.7580\n",
      "epoch: 180 loss:0.314258 auc:0.7548\n",
      "epoch: 200 loss:0.312660 auc:0.7516\n",
      "epoch: 220 loss:0.311481 auc:0.7548\n",
      "epoch: 240 loss:0.310593 auc:0.7564\n",
      "epoch: 260 loss:0.309910 auc:0.7580\n",
      "epoch: 280 loss:0.309375 auc:0.7596\n"
     ]
    },
    {
     "name": "stderr",
     "output_type": "stream",
     "text": [
      " 19%|█▉        | 193/1005 [26:09<2:08:19,  9.48s/it]"
     ]
    },
    {
     "name": "stdout",
     "output_type": "stream",
     "text": [
      "epoch: 300 loss:0.308948 auc:0.7548\n",
      "Fit finished.\n",
      "epoch:   0 loss:0.773724 auc:0.6413\n",
      "epoch:  20 loss:0.577830 auc:0.7016\n",
      "epoch:  40 loss:0.474056 auc:0.6921\n",
      "epoch:  60 loss:0.389832 auc:0.6476\n",
      "epoch:  80 loss:0.354262 auc:0.6540\n",
      "epoch: 100 loss:0.336764 auc:0.6429\n",
      "epoch: 120 loss:0.327179 auc:0.6397\n",
      "epoch: 140 loss:0.321535 auc:0.6333\n"
     ]
    },
    {
     "name": "stderr",
     "output_type": "stream",
     "text": [
      " 19%|█▉        | 194/1005 [26:16<1:55:57,  8.58s/it]"
     ]
    },
    {
     "name": "stdout",
     "output_type": "stream",
     "text": [
      "epoch: 160 loss:0.317909 auc:0.6349\n",
      "Fit finished.\n",
      "epoch:   0 loss:0.785339 auc:0.4150\n",
      "epoch:  20 loss:0.583706 auc:0.7279\n",
      "epoch:  40 loss:0.478375 auc:0.6667\n",
      "epoch:  60 loss:0.394269 auc:0.7075\n",
      "epoch:  80 loss:0.355410 auc:0.6893\n",
      "epoch: 100 loss:0.336834 auc:0.6825\n",
      "epoch: 120 loss:0.326857 auc:0.6667\n",
      "epoch: 140 loss:0.320975 auc:0.6599\n",
      "epoch: 160 loss:0.317271 auc:0.6667\n"
     ]
    },
    {
     "name": "stderr",
     "output_type": "stream",
     "text": [
      " 19%|█▉        | 195/1005 [26:23<1:50:14,  8.17s/it]"
     ]
    },
    {
     "name": "stdout",
     "output_type": "stream",
     "text": [
      "epoch: 180 loss:0.314795 auc:0.6576\n",
      "Fit finished.\n",
      "epoch:   0 loss:0.842808 auc:0.5417\n",
      "epoch:  20 loss:0.592741 auc:0.6008\n",
      "epoch:  40 loss:0.508541 auc:0.5610\n",
      "epoch:  60 loss:0.421015 auc:0.4878\n",
      "epoch:  80 loss:0.373210 auc:0.4339\n",
      "epoch: 100 loss:0.349198 auc:0.4442\n",
      "epoch: 120 loss:0.335977 auc:0.4365\n",
      "epoch: 140 loss:0.327975 auc:0.4339\n"
     ]
    },
    {
     "name": "stderr",
     "output_type": "stream",
     "text": [
      " 20%|█▉        | 196/1005 [26:30<1:44:39,  7.76s/it]"
     ]
    },
    {
     "name": "stdout",
     "output_type": "stream",
     "text": [
      "epoch: 160 loss:0.322754 auc:0.4249\n",
      "Fit finished.\n",
      "epoch:   0 loss:0.757592 auc:0.4500\n",
      "epoch:  20 loss:0.576429 auc:0.6275\n",
      "epoch:  40 loss:0.461283 auc:0.5437\n",
      "epoch:  60 loss:0.380790 auc:0.5312\n",
      "epoch:  80 loss:0.348728 auc:0.5375\n",
      "epoch: 100 loss:0.333746 auc:0.5437\n",
      "epoch: 120 loss:0.325538 auc:0.5425\n",
      "epoch: 140 loss:0.320502 auc:0.5325\n",
      "epoch: 160 loss:0.317188 auc:0.5337\n"
     ]
    },
    {
     "name": "stderr",
     "output_type": "stream",
     "text": [
      " 20%|█▉        | 197/1005 [26:37<1:43:00,  7.65s/it]"
     ]
    },
    {
     "name": "stdout",
     "output_type": "stream",
     "text": [
      "epoch: 180 loss:0.314911 auc:0.5363\n",
      "Fit finished.\n",
      "epoch:   0 loss:0.800795 auc:0.6239\n",
      "epoch:  20 loss:0.594815 auc:0.7545\n",
      "epoch:  40 loss:0.516132 auc:0.7846\n",
      "epoch:  60 loss:0.430288 auc:0.7634\n",
      "epoch:  80 loss:0.378964 auc:0.7310\n",
      "epoch: 100 loss:0.351981 auc:0.7109\n",
      "epoch: 120 loss:0.337183 auc:0.7054\n",
      "epoch: 140 loss:0.328611 auc:0.7087\n",
      "epoch: 160 loss:0.323264 auc:0.7132\n"
     ]
    },
    {
     "name": "stderr",
     "output_type": "stream",
     "text": [
      " 20%|█▉        | 198/1005 [26:44<1:39:56,  7.43s/it]"
     ]
    },
    {
     "name": "stdout",
     "output_type": "stream",
     "text": [
      "epoch: 180 loss:0.319639 auc:0.7154\n",
      "Fit finished.\n",
      "epoch:   0 loss:0.771276 auc:0.3767\n",
      "epoch:  20 loss:0.572415 auc:0.6667\n",
      "epoch:  40 loss:0.452694 auc:0.3385\n",
      "epoch:  60 loss:0.380599 auc:0.3958\n",
      "epoch:  80 loss:0.347839 auc:0.4010\n",
      "epoch: 100 loss:0.332479 auc:0.3941\n",
      "epoch: 120 loss:0.324218 auc:0.3941\n",
      "epoch: 140 loss:0.319233 auc:0.3924\n",
      "epoch: 160 loss:0.316005 auc:0.3958\n"
     ]
    },
    {
     "name": "stderr",
     "output_type": "stream",
     "text": [
      " 20%|█▉        | 199/1005 [26:52<1:42:44,  7.65s/it]"
     ]
    },
    {
     "name": "stdout",
     "output_type": "stream",
     "text": [
      "epoch: 180 loss:0.313805 auc:0.4010\n",
      "Fit finished.\n",
      "epoch:   0 loss:0.797173 auc:0.4080\n",
      "epoch:  20 loss:0.581829 auc:0.7674\n",
      "epoch:  40 loss:0.490873 auc:0.6944\n",
      "epoch:  60 loss:0.406197 auc:0.6319\n",
      "epoch:  80 loss:0.362995 auc:0.6441\n",
      "epoch: 100 loss:0.341676 auc:0.6337\n",
      "epoch: 120 loss:0.330366 auc:0.6285\n",
      "epoch: 140 loss:0.323775 auc:0.6354\n",
      "epoch: 160 loss:0.319530 auc:0.6354\n"
     ]
    },
    {
     "name": "stderr",
     "output_type": "stream",
     "text": [
      " 20%|█▉        | 200/1005 [27:00<1:41:59,  7.60s/it]"
     ]
    },
    {
     "name": "stdout",
     "output_type": "stream",
     "text": [
      "epoch: 180 loss:0.316622 auc:0.6319\n",
      "Fit finished.\n",
      "epoch:   0 loss:0.793828 auc:0.4728\n",
      "epoch:  20 loss:0.583724 auc:0.6859\n",
      "epoch:  40 loss:0.486381 auc:0.4103\n",
      "epoch:  60 loss:0.403248 auc:0.4279\n",
      "epoch:  80 loss:0.363999 auc:0.4375\n",
      "epoch: 100 loss:0.344400 auc:0.4599\n",
      "epoch: 120 loss:0.333074 auc:0.4647\n",
      "epoch: 140 loss:0.325741 auc:0.4679\n"
     ]
    },
    {
     "name": "stderr",
     "output_type": "stream",
     "text": [
      " 20%|██        | 201/1005 [27:06<1:37:49,  7.30s/it]"
     ]
    },
    {
     "name": "stdout",
     "output_type": "stream",
     "text": [
      "epoch: 160 loss:0.320829 auc:0.4567\n",
      "Fit finished.\n",
      "epoch:   0 loss:0.796860 auc:0.6096\n",
      "epoch:  20 loss:0.594572 auc:0.8309\n",
      "epoch:  40 loss:0.512547 auc:0.8910\n",
      "epoch:  60 loss:0.426079 auc:0.8854\n",
      "epoch:  80 loss:0.375439 auc:0.8988\n",
      "epoch: 100 loss:0.348722 auc:0.8910\n",
      "epoch: 120 loss:0.334687 auc:0.8854\n",
      "epoch: 140 loss:0.326857 auc:0.8865\n",
      "epoch: 160 loss:0.321923 auc:0.8743\n",
      "epoch: 180 loss:0.318530 auc:0.8765\n"
     ]
    },
    {
     "name": "stderr",
     "output_type": "stream",
     "text": [
      " 20%|██        | 203/1005 [27:14<1:17:21,  5.79s/it]"
     ]
    },
    {
     "name": "stdout",
     "output_type": "stream",
     "text": [
      "epoch: 200 loss:0.316063 auc:0.8765\n",
      "Fit finished.\n",
      "epoch:   0 loss:0.781304 auc:0.5008\n",
      "epoch:  20 loss:0.559865 auc:0.6976\n",
      "epoch:  40 loss:0.440207 auc:0.6480\n",
      "epoch:  60 loss:0.378477 auc:0.6464\n",
      "epoch:  80 loss:0.348287 auc:0.6432\n",
      "epoch: 100 loss:0.333071 auc:0.6416\n",
      "epoch: 120 loss:0.324749 auc:0.6208\n",
      "epoch: 140 loss:0.319733 auc:0.6144\n",
      "epoch: 160 loss:0.316477 auc:0.6096\n"
     ]
    },
    {
     "name": "stderr",
     "output_type": "stream",
     "text": [
      " 20%|██        | 204/1005 [27:22<1:22:27,  6.18s/it]"
     ]
    },
    {
     "name": "stdout",
     "output_type": "stream",
     "text": [
      "epoch: 180 loss:0.314244 auc:0.6032\n",
      "Fit finished.\n",
      "epoch:   0 loss:0.782631 auc:0.5439\n",
      "epoch:  20 loss:0.569435 auc:0.7063\n",
      "epoch:  40 loss:0.452506 auc:0.6496\n",
      "epoch:  60 loss:0.377831 auc:0.7141\n",
      "epoch:  80 loss:0.346764 auc:0.7052\n",
      "epoch: 100 loss:0.332527 auc:0.7097\n",
      "epoch: 120 loss:0.324777 auc:0.7108\n",
      "epoch: 140 loss:0.319949 auc:0.7086\n",
      "epoch: 160 loss:0.316712 auc:0.7052\n"
     ]
    },
    {
     "name": "stderr",
     "output_type": "stream",
     "text": [
      " 20%|██        | 205/1005 [27:29<1:26:18,  6.47s/it]"
     ]
    },
    {
     "name": "stdout",
     "output_type": "stream",
     "text": [
      "epoch: 180 loss:0.314445 auc:0.6974\n",
      "Fit finished.\n",
      "epoch:   0 loss:0.792069 auc:0.4725\n",
      "epoch:  20 loss:0.591111 auc:0.8004\n",
      "epoch:  40 loss:0.511461 auc:0.8828\n",
      "epoch:  60 loss:0.414603 auc:0.9212\n",
      "epoch:  80 loss:0.366112 auc:0.9212\n",
      "epoch: 100 loss:0.342626 auc:0.9158\n",
      "epoch: 120 loss:0.330475 auc:0.9121\n",
      "epoch: 140 loss:0.323425 auc:0.9084\n",
      "epoch: 160 loss:0.318978 auc:0.9084\n",
      "epoch: 180 loss:0.316012 auc:0.9011\n",
      "epoch: 200 loss:0.313964 auc:0.8974\n"
     ]
    },
    {
     "name": "stderr",
     "output_type": "stream",
     "text": [
      " 20%|██        | 206/1005 [27:38<1:34:24,  7.09s/it]"
     ]
    },
    {
     "name": "stdout",
     "output_type": "stream",
     "text": [
      "epoch: 220 loss:0.312513 auc:0.8956\n",
      "Fit finished.\n",
      "epoch:   0 loss:0.810167 auc:0.4928\n",
      "epoch:  20 loss:0.595712 auc:0.7375\n",
      "epoch:  40 loss:0.524225 auc:0.6819\n",
      "epoch:  60 loss:0.432193 auc:0.6363\n",
      "epoch:  80 loss:0.381419 auc:0.6641\n",
      "epoch: 100 loss:0.354619 auc:0.6630\n",
      "epoch: 120 loss:0.339462 auc:0.6630\n",
      "epoch: 140 loss:0.330272 auc:0.6574\n",
      "epoch: 160 loss:0.324436 auc:0.6574\n"
     ]
    },
    {
     "name": "stderr",
     "output_type": "stream",
     "text": [
      " 21%|██        | 207/1005 [27:45<1:35:25,  7.17s/it]"
     ]
    },
    {
     "name": "stdout",
     "output_type": "stream",
     "text": [
      "epoch: 180 loss:0.320515 auc:0.6596\n",
      "Fit finished.\n",
      "epoch:   0 loss:0.798389 auc:0.6810\n",
      "epoch:  20 loss:0.589840 auc:0.7340\n",
      "epoch:  40 loss:0.517936 auc:0.7845\n",
      "epoch:  60 loss:0.410555 auc:0.8251\n",
      "epoch:  80 loss:0.362908 auc:0.8153\n",
      "epoch: 100 loss:0.341081 auc:0.8227\n",
      "epoch: 120 loss:0.330030 auc:0.8177\n",
      "epoch: 140 loss:0.323669 auc:0.8103\n",
      "epoch: 160 loss:0.319583 auc:0.8079\n",
      "epoch: 180 loss:0.316750 auc:0.7980\n",
      "epoch: 200 loss:0.314685 auc:0.7956\n"
     ]
    },
    {
     "name": "stderr",
     "output_type": "stream",
     "text": [
      " 21%|██        | 208/1005 [27:53<1:40:07,  7.54s/it]"
     ]
    },
    {
     "name": "stdout",
     "output_type": "stream",
     "text": [
      "epoch: 220 loss:0.313134 auc:0.7956\n",
      "Fit finished.\n",
      "epoch:   0 loss:0.778320 auc:0.4891\n",
      "epoch:  20 loss:0.574940 auc:0.5797\n",
      "epoch:  40 loss:0.465108 auc:0.4541\n",
      "epoch:  60 loss:0.387081 auc:0.5205\n",
      "epoch:  80 loss:0.353071 auc:0.5411\n",
      "epoch: 100 loss:0.336562 auc:0.5519\n",
      "epoch: 120 loss:0.327262 auc:0.5507\n",
      "epoch: 140 loss:0.321519 auc:0.5580\n",
      "epoch: 160 loss:0.317735 auc:0.5652\n"
     ]
    },
    {
     "name": "stderr",
     "output_type": "stream",
     "text": [
      " 21%|██        | 209/1005 [28:01<1:39:57,  7.53s/it]"
     ]
    },
    {
     "name": "stdout",
     "output_type": "stream",
     "text": [
      "epoch: 180 loss:0.315130 auc:0.5676\n",
      "Fit finished.\n",
      "epoch:   0 loss:0.789910 auc:0.4916\n",
      "epoch:  20 loss:0.586474 auc:0.8070\n",
      "epoch:  40 loss:0.491090 auc:0.7901\n",
      "epoch:  60 loss:0.400305 auc:0.8070\n",
      "epoch:  80 loss:0.358283 auc:0.7924\n",
      "epoch: 100 loss:0.338776 auc:0.7856\n",
      "epoch: 120 loss:0.328517 auc:0.7800\n",
      "epoch: 140 loss:0.322590 auc:0.7755\n",
      "epoch: 160 loss:0.318815 auc:0.7710\n"
     ]
    },
    {
     "name": "stderr",
     "output_type": "stream",
     "text": [
      " 21%|██        | 210/1005 [28:08<1:37:52,  7.39s/it]"
     ]
    },
    {
     "name": "stdout",
     "output_type": "stream",
     "text": [
      "epoch: 180 loss:0.316237 auc:0.7677\n",
      "Fit finished.\n",
      "epoch:   0 loss:0.764561 auc:0.5694\n",
      "epoch:  20 loss:0.578150 auc:0.7751\n",
      "epoch:  40 loss:0.459674 auc:0.6196\n",
      "epoch:  60 loss:0.382922 auc:0.6483\n",
      "epoch:  80 loss:0.349508 auc:0.6842\n",
      "epoch: 100 loss:0.333545 auc:0.6758\n",
      "epoch: 120 loss:0.324955 auc:0.6711\n",
      "epoch: 140 loss:0.319828 auc:0.6722\n",
      "epoch: 160 loss:0.316507 auc:0.6627\n"
     ]
    },
    {
     "name": "stderr",
     "output_type": "stream",
     "text": [
      " 21%|██        | 211/1005 [28:15<1:35:26,  7.21s/it]"
     ]
    },
    {
     "name": "stdout",
     "output_type": "stream",
     "text": [
      "epoch: 180 loss:0.314215 auc:0.6543\n",
      "Fit finished.\n",
      "epoch:   0 loss:0.808360 auc:0.5907\n",
      "epoch:  20 loss:0.595797 auc:0.5611\n",
      "epoch:  40 loss:0.522758 auc:0.5444\n",
      "epoch:  60 loss:0.435021 auc:0.5741\n",
      "epoch:  80 loss:0.384658 auc:0.6222\n",
      "epoch: 100 loss:0.356778 auc:0.6444\n",
      "epoch: 120 loss:0.340823 auc:0.6537\n",
      "epoch: 140 loss:0.331342 auc:0.6556\n",
      "epoch: 160 loss:0.325267 auc:0.6593\n",
      "epoch: 180 loss:0.321119 auc:0.6611\n",
      "epoch: 200 loss:0.318151 auc:0.6648\n",
      "epoch: 220 loss:0.315964 auc:0.6667\n",
      "epoch: 240 loss:0.314324 auc:0.6685\n",
      "epoch: 260 loss:0.313076 auc:0.6704\n",
      "epoch: 280 loss:0.312108 auc:0.6648\n",
      "epoch: 300 loss:0.311340 auc:0.6648\n",
      "epoch: 320 loss:0.310718 auc:0.6648\n",
      "epoch: 340 loss:0.310206 auc:0.6630\n"
     ]
    },
    {
     "name": "stderr",
     "output_type": "stream",
     "text": [
      " 21%|██        | 212/1005 [28:28<1:58:22,  8.96s/it]"
     ]
    },
    {
     "name": "stdout",
     "output_type": "stream",
     "text": [
      "epoch: 360 loss:0.309775 auc:0.6611\n",
      "Fit finished.\n",
      "epoch:   0 loss:0.817003 auc:0.4444\n",
      "epoch:  20 loss:0.581007 auc:0.5312\n",
      "epoch:  40 loss:0.487694 auc:0.5660\n",
      "epoch:  60 loss:0.408288 auc:0.5174\n",
      "epoch:  80 loss:0.366754 auc:0.5139\n",
      "epoch: 100 loss:0.345551 auc:0.5278\n",
      "epoch: 120 loss:0.333577 auc:0.5382\n",
      "epoch: 140 loss:0.326150 auc:0.5434\n",
      "epoch: 160 loss:0.321229 auc:0.5503\n",
      "epoch: 180 loss:0.317835 auc:0.5486\n"
     ]
    },
    {
     "name": "stderr",
     "output_type": "stream",
     "text": [
      " 21%|██        | 213/1005 [28:36<1:54:26,  8.67s/it]"
     ]
    },
    {
     "name": "stdout",
     "output_type": "stream",
     "text": [
      "epoch: 200 loss:0.315446 auc:0.5434\n",
      "Fit finished.\n",
      "epoch:   0 loss:0.784004 auc:0.4115\n",
      "epoch:  20 loss:0.582177 auc:0.6806\n",
      "epoch:  40 loss:0.488859 auc:0.6094\n",
      "epoch:  60 loss:0.406835 auc:0.6094\n",
      "epoch:  80 loss:0.364450 auc:0.5955\n",
      "epoch: 100 loss:0.342706 auc:0.5625\n",
      "epoch: 120 loss:0.331190 auc:0.5451\n",
      "epoch: 140 loss:0.324497 auc:0.5399\n",
      "epoch: 160 loss:0.320189 auc:0.5417\n"
     ]
    },
    {
     "name": "stderr",
     "output_type": "stream",
     "text": [
      " 21%|██▏       | 214/1005 [28:43<1:48:25,  8.22s/it]"
     ]
    },
    {
     "name": "stdout",
     "output_type": "stream",
     "text": [
      "epoch: 180 loss:0.317224 auc:0.5399\n",
      "Fit finished.\n",
      "epoch:   0 loss:0.803339 auc:0.4766\n",
      "epoch:  20 loss:0.585289 auc:0.8697\n",
      "epoch:  40 loss:0.498281 auc:0.9509\n",
      "epoch:  60 loss:0.405159 auc:0.9314\n",
      "epoch:  80 loss:0.360728 auc:0.9234\n",
      "epoch: 100 loss:0.340352 auc:0.9131\n",
      "epoch: 120 loss:0.330096 auc:0.9109\n",
      "epoch: 140 loss:0.324003 auc:0.9097\n",
      "epoch: 160 loss:0.319948 auc:0.9040\n",
      "epoch: 180 loss:0.317064 auc:0.9051\n"
     ]
    },
    {
     "name": "stderr",
     "output_type": "stream",
     "text": [
      " 21%|██▏       | 215/1005 [28:51<1:46:18,  8.07s/it]"
     ]
    },
    {
     "name": "stdout",
     "output_type": "stream",
     "text": [
      "epoch: 200 loss:0.314927 auc:0.9029\n",
      "Fit finished.\n",
      "epoch:   0 loss:0.796080 auc:0.4411\n",
      "epoch:  20 loss:0.589317 auc:0.7422\n",
      "epoch:  40 loss:0.496850 auc:0.4067\n",
      "epoch:  60 loss:0.402240 auc:0.3111\n",
      "epoch:  80 loss:0.357734 auc:0.2878\n",
      "epoch: 100 loss:0.337758 auc:0.2867\n",
      "epoch: 120 loss:0.327681 auc:0.2856\n",
      "epoch: 140 loss:0.321869 auc:0.2811\n"
     ]
    },
    {
     "name": "stderr",
     "output_type": "stream",
     "text": [
      " 21%|██▏       | 216/1005 [28:57<1:40:04,  7.61s/it]"
     ]
    },
    {
     "name": "stdout",
     "output_type": "stream",
     "text": [
      "epoch: 160 loss:0.318201 auc:0.2756\n",
      "Fit finished.\n",
      "epoch:   0 loss:0.794131 auc:0.4565\n",
      "epoch:  20 loss:0.597750 auc:0.7623\n",
      "epoch:  40 loss:0.546320 auc:0.7176\n",
      "epoch:  60 loss:0.457327 auc:0.5290\n",
      "epoch:  80 loss:0.398132 auc:0.5960\n",
      "epoch: 100 loss:0.364541 auc:0.5882\n",
      "epoch: 120 loss:0.345099 auc:0.5770\n",
      "epoch: 140 loss:0.333829 auc:0.5647\n",
      "epoch: 160 loss:0.326930 auc:0.5569\n"
     ]
    },
    {
     "name": "stderr",
     "output_type": "stream",
     "text": [
      " 22%|██▏       | 217/1005 [29:05<1:38:52,  7.53s/it]"
     ]
    },
    {
     "name": "stdout",
     "output_type": "stream",
     "text": [
      "epoch: 180 loss:0.322347 auc:0.5458\n",
      "Fit finished.\n",
      "epoch:   0 loss:0.782342 auc:0.7100\n",
      "epoch:  20 loss:0.580892 auc:0.8056\n",
      "epoch:  40 loss:0.488913 auc:0.8667\n",
      "epoch:  60 loss:0.412499 auc:0.8678\n",
      "epoch:  80 loss:0.369623 auc:0.8489\n",
      "epoch: 100 loss:0.347076 auc:0.8444\n",
      "epoch: 120 loss:0.334945 auc:0.8500\n",
      "epoch: 140 loss:0.327601 auc:0.8544\n",
      "epoch: 160 loss:0.322749 auc:0.8578\n",
      "epoch: 180 loss:0.319354 auc:0.8622\n",
      "epoch: 200 loss:0.316869 auc:0.8700\n",
      "epoch: 220 loss:0.314995 auc:0.8711\n",
      "epoch: 240 loss:0.313556 auc:0.8711\n",
      "epoch: 260 loss:0.312427 auc:0.8711\n",
      "epoch: 280 loss:0.311538 auc:0.8722\n",
      "epoch: 300 loss:0.310829 auc:0.8722\n",
      "epoch: 320 loss:0.310257 auc:0.8711\n",
      "epoch: 340 loss:0.309790 auc:0.8733\n",
      "epoch: 360 loss:0.309405 auc:0.8722\n",
      "epoch: 380 loss:0.309086 auc:0.8733\n",
      "epoch: 400 loss:0.308818 auc:0.8722\n",
      "epoch: 420 loss:0.308591 auc:0.8722\n",
      "epoch: 440 loss:0.308398 auc:0.8733\n",
      "epoch: 460 loss:0.308234 auc:0.8733\n",
      "epoch: 480 loss:0.308092 auc:0.8722\n"
     ]
    },
    {
     "name": "stderr",
     "output_type": "stream",
     "text": [
      " 22%|██▏       | 218/1005 [29:21<2:13:09, 10.15s/it]"
     ]
    },
    {
     "name": "stdout",
     "output_type": "stream",
     "text": [
      "epoch: 500 loss:0.307969 auc:0.8722\n",
      "Fit finished.\n",
      "epoch:   0 loss:0.785828 auc:0.4067\n",
      "epoch:  20 loss:0.581245 auc:0.6600\n",
      "epoch:  40 loss:0.485495 auc:0.5156\n",
      "epoch:  60 loss:0.404629 auc:0.5111\n",
      "epoch:  80 loss:0.362401 auc:0.5244\n",
      "epoch: 100 loss:0.341514 auc:0.5322\n",
      "epoch: 120 loss:0.330585 auc:0.5344\n",
      "epoch: 140 loss:0.324031 auc:0.5356\n",
      "epoch: 160 loss:0.319646 auc:0.5300\n"
     ]
    },
    {
     "name": "stderr",
     "output_type": "stream",
     "text": [
      " 22%|██▏       | 219/1005 [29:28<2:01:09,  9.25s/it]"
     ]
    },
    {
     "name": "stdout",
     "output_type": "stream",
     "text": [
      "epoch: 180 loss:0.316578 auc:0.5311\n",
      "Fit finished.\n",
      "epoch:   0 loss:0.821134 auc:0.4011\n",
      "epoch:  20 loss:0.598828 auc:0.8300\n",
      "epoch:  40 loss:0.541686 auc:0.8367\n",
      "epoch:  60 loss:0.452342 auc:0.8789\n",
      "epoch:  80 loss:0.393112 auc:0.8611\n",
      "epoch: 100 loss:0.360047 auc:0.8667\n",
      "epoch: 120 loss:0.342026 auc:0.8600\n",
      "epoch: 140 loss:0.331368 auc:0.8556\n",
      "epoch: 160 loss:0.324792 auc:0.8544\n",
      "epoch: 180 loss:0.320513 auc:0.8500\n",
      "epoch: 200 loss:0.317579 auc:0.8478\n"
     ]
    },
    {
     "name": "stderr",
     "output_type": "stream",
     "text": [
      " 22%|██▏       | 220/1005 [29:37<1:58:57,  9.09s/it]"
     ]
    },
    {
     "name": "stdout",
     "output_type": "stream",
     "text": [
      "epoch: 220 loss:0.315480 auc:0.8489\n",
      "Fit finished.\n",
      "epoch:   0 loss:0.782154 auc:0.5472\n",
      "epoch:  20 loss:0.568045 auc:0.7680\n",
      "epoch:  40 loss:0.448901 auc:0.7072\n",
      "epoch:  60 loss:0.378871 auc:0.6624\n",
      "epoch:  80 loss:0.346819 auc:0.6448\n",
      "epoch: 100 loss:0.331535 auc:0.6352\n",
      "epoch: 120 loss:0.323541 auc:0.6320\n",
      "epoch: 140 loss:0.318817 auc:0.6224\n",
      "epoch: 160 loss:0.315761 auc:0.6240\n"
     ]
    },
    {
     "name": "stderr",
     "output_type": "stream",
     "text": [
      " 22%|██▏       | 221/1005 [29:44<1:51:57,  8.57s/it]"
     ]
    },
    {
     "name": "stdout",
     "output_type": "stream",
     "text": [
      "epoch: 180 loss:0.313675 auc:0.6288\n",
      "Fit finished.\n",
      "epoch:   0 loss:0.787673 auc:0.5104\n",
      "epoch:  20 loss:0.594089 auc:0.5008\n",
      "epoch:  40 loss:0.515177 auc:0.4672\n",
      "epoch:  60 loss:0.427259 auc:0.5152\n",
      "epoch:  80 loss:0.376709 auc:0.5040\n",
      "epoch: 100 loss:0.350949 auc:0.4864\n",
      "epoch: 120 loss:0.337179 auc:0.4752\n",
      "epoch: 140 loss:0.328997 auc:0.4752\n"
     ]
    },
    {
     "name": "stderr",
     "output_type": "stream",
     "text": [
      " 22%|██▏       | 222/1005 [29:50<1:42:53,  7.88s/it]"
     ]
    },
    {
     "name": "stdout",
     "output_type": "stream",
     "text": [
      "epoch: 160 loss:0.323688 auc:0.4752\n",
      "Fit finished.\n",
      "epoch:   0 loss:0.802698 auc:0.3833\n",
      "epoch:  20 loss:0.587724 auc:0.6656\n",
      "epoch:  40 loss:0.492142 auc:0.5711\n",
      "epoch:  60 loss:0.411627 auc:0.5622\n",
      "epoch:  80 loss:0.369445 auc:0.5711\n",
      "epoch: 100 loss:0.347326 auc:0.5744\n",
      "epoch: 120 loss:0.334870 auc:0.5867\n",
      "epoch: 140 loss:0.327245 auc:0.5833\n",
      "epoch: 160 loss:0.322258 auc:0.5811\n"
     ]
    },
    {
     "name": "stderr",
     "output_type": "stream",
     "text": [
      " 22%|██▏       | 223/1005 [29:58<1:39:52,  7.66s/it]"
     ]
    },
    {
     "name": "stdout",
     "output_type": "stream",
     "text": [
      "epoch: 180 loss:0.318804 auc:0.5811\n",
      "Fit finished.\n",
      "epoch:   0 loss:0.812992 auc:0.4783\n",
      "epoch:  20 loss:0.595637 auc:0.7308\n",
      "epoch:  40 loss:0.521176 auc:0.7920\n",
      "epoch:  60 loss:0.430690 auc:0.8498\n",
      "epoch:  80 loss:0.380236 auc:0.8487\n",
      "epoch: 100 loss:0.353523 auc:0.8465\n",
      "epoch: 120 loss:0.338984 auc:0.8354\n",
      "epoch: 140 loss:0.330085 auc:0.8242\n",
      "epoch: 160 loss:0.324201 auc:0.8165\n",
      "epoch: 180 loss:0.320143 auc:0.8187\n",
      "epoch: 200 loss:0.317248 auc:0.8198\n"
     ]
    },
    {
     "name": "stderr",
     "output_type": "stream",
     "text": [
      " 22%|██▏       | 224/1005 [30:06<1:40:53,  7.75s/it]"
     ]
    },
    {
     "name": "stdout",
     "output_type": "stream",
     "text": [
      "epoch: 220 loss:0.315120 auc:0.8242\n",
      "Fit finished.\n",
      "epoch:   0 loss:0.840278 auc:0.3667\n",
      "epoch:  20 loss:0.599244 auc:0.6156\n",
      "epoch:  40 loss:0.544114 auc:0.6222\n",
      "epoch:  60 loss:0.449224 auc:0.6311\n",
      "epoch:  80 loss:0.385963 auc:0.6333\n",
      "epoch: 100 loss:0.357174 auc:0.6356\n",
      "epoch: 120 loss:0.341584 auc:0.6467\n",
      "epoch: 140 loss:0.331911 auc:0.6489\n",
      "epoch: 160 loss:0.325562 auc:0.6556\n",
      "epoch: 180 loss:0.321235 auc:0.6533\n",
      "epoch: 200 loss:0.318176 auc:0.6533\n",
      "epoch: 220 loss:0.315936 auc:0.6533\n",
      "epoch: 240 loss:0.314239 auc:0.6511\n",
      "epoch: 260 loss:0.312922 auc:0.6533\n",
      "epoch: 280 loss:0.311882 auc:0.6556\n",
      "epoch: 300 loss:0.311053 auc:0.6578\n",
      "epoch: 320 loss:0.310383 auc:0.6556\n",
      "epoch: 340 loss:0.309835 auc:0.6578\n",
      "epoch: 360 loss:0.309386 auc:0.6578\n",
      "epoch: 380 loss:0.309017 auc:0.6556\n",
      "epoch: 400 loss:0.308712 auc:0.6578\n",
      "epoch: 420 loss:0.308461 auc:0.6556\n",
      "epoch: 440 loss:0.308253 auc:0.6556\n",
      "epoch: 460 loss:0.308080 auc:0.6578\n",
      "epoch: 480 loss:0.307935 auc:0.6600\n",
      "epoch: 500 loss:0.307812 auc:0.6600\n",
      "epoch: 520 loss:0.307707 auc:0.6622\n",
      "epoch: 540 loss:0.307617 auc:0.6600\n",
      "epoch: 560 loss:0.307538 auc:0.6622\n",
      "epoch: 580 loss:0.307469 auc:0.6600\n",
      "epoch: 600 loss:0.307408 auc:0.6600\n",
      "epoch: 620 loss:0.307354 auc:0.6600\n",
      "epoch: 640 loss:0.307305 auc:0.6600\n",
      "epoch: 660 loss:0.307279 auc:0.6600\n"
     ]
    },
    {
     "name": "stderr",
     "output_type": "stream",
     "text": [
      " 22%|██▏       | 225/1005 [30:27<2:34:58, 11.92s/it]"
     ]
    },
    {
     "name": "stdout",
     "output_type": "stream",
     "text": [
      "epoch: 680 loss:0.307236 auc:0.6600\n",
      "Fit finished.\n",
      "epoch:   0 loss:0.787400 auc:0.4953\n",
      "epoch:  20 loss:0.572210 auc:0.6352\n",
      "epoch:  40 loss:0.450210 auc:0.6257\n",
      "epoch:  60 loss:0.376809 auc:0.6257\n",
      "epoch:  80 loss:0.346417 auc:0.6200\n",
      "epoch: 100 loss:0.332455 auc:0.6219\n",
      "epoch: 120 loss:0.324776 auc:0.6106\n",
      "epoch: 140 loss:0.320016 auc:0.6200\n",
      "epoch: 160 loss:0.316858 auc:0.6238\n"
     ]
    },
    {
     "name": "stderr",
     "output_type": "stream",
     "text": [
      " 22%|██▏       | 226/1005 [30:34<2:16:20, 10.50s/it]"
     ]
    },
    {
     "name": "stdout",
     "output_type": "stream",
     "text": [
      "epoch: 180 loss:0.314654 auc:0.6314\n",
      "Fit finished.\n",
      "epoch:   0 loss:0.882157 auc:0.5791\n",
      "epoch:  20 loss:0.590868 auc:0.5051\n",
      "epoch:  40 loss:0.500810 auc:0.3673\n",
      "epoch:  60 loss:0.414695 auc:0.3380\n",
      "epoch:  80 loss:0.369283 auc:0.3431\n",
      "epoch: 100 loss:0.345227 auc:0.3571\n",
      "epoch: 120 loss:0.332251 auc:0.3508\n",
      "epoch: 140 loss:0.324681 auc:0.3661\n"
     ]
    },
    {
     "name": "stderr",
     "output_type": "stream",
     "text": [
      " 23%|██▎       | 227/1005 [30:41<2:00:17,  9.28s/it]"
     ]
    },
    {
     "name": "stdout",
     "output_type": "stream",
     "text": [
      "epoch: 160 loss:0.319944 auc:0.3622\n",
      "Fit finished.\n",
      "epoch:   0 loss:0.803875 auc:0.6235\n",
      "epoch:  20 loss:0.600909 auc:0.6882\n",
      "epoch:  40 loss:0.537527 auc:0.7020\n",
      "epoch:  60 loss:0.450176 auc:0.7255\n",
      "epoch:  80 loss:0.395372 auc:0.6765\n",
      "epoch: 100 loss:0.362428 auc:0.6490\n",
      "epoch: 120 loss:0.343955 auc:0.6275\n",
      "epoch: 140 loss:0.333267 auc:0.6176\n"
     ]
    },
    {
     "name": "stderr",
     "output_type": "stream",
     "text": [
      " 23%|██▎       | 228/1005 [30:47<1:49:10,  8.43s/it]"
     ]
    },
    {
     "name": "stdout",
     "output_type": "stream",
     "text": [
      "epoch: 160 loss:0.326557 auc:0.6157\n",
      "Fit finished.\n",
      "epoch:   0 loss:0.776422 auc:0.5278\n",
      "epoch:  20 loss:0.582429 auc:0.7847\n",
      "epoch:  40 loss:0.477809 auc:0.5671\n",
      "epoch:  60 loss:0.396505 auc:0.5266\n",
      "epoch:  80 loss:0.358144 auc:0.4931\n",
      "epoch: 100 loss:0.339327 auc:0.4676\n",
      "epoch: 120 loss:0.329081 auc:0.4502\n",
      "epoch: 140 loss:0.322874 auc:0.4340\n"
     ]
    },
    {
     "name": "stderr",
     "output_type": "stream",
     "text": [
      " 23%|██▎       | 229/1005 [30:54<1:41:42,  7.86s/it]"
     ]
    },
    {
     "name": "stdout",
     "output_type": "stream",
     "text": [
      "epoch: 160 loss:0.318813 auc:0.4213\n",
      "Fit finished.\n",
      "epoch:   0 loss:0.774105 auc:0.4596\n",
      "epoch:  20 loss:0.580396 auc:0.5745\n",
      "epoch:  40 loss:0.475304 auc:0.4674\n",
      "epoch:  60 loss:0.392938 auc:0.4425\n",
      "epoch:  80 loss:0.354839 auc:0.4783\n",
      "epoch: 100 loss:0.336759 auc:0.4891\n",
      "epoch: 120 loss:0.327235 auc:0.4845\n",
      "epoch: 140 loss:0.321628 auc:0.4829\n",
      "epoch: 160 loss:0.318013 auc:0.4689\n"
     ]
    },
    {
     "name": "stderr",
     "output_type": "stream",
     "text": [
      " 23%|██▎       | 230/1005 [31:01<1:40:12,  7.76s/it]"
     ]
    },
    {
     "name": "stdout",
     "output_type": "stream",
     "text": [
      "epoch: 180 loss:0.315524 auc:0.4689\n",
      "Fit finished.\n",
      "epoch:   0 loss:0.818204 auc:0.4875\n",
      "epoch:  20 loss:0.591337 auc:0.6981\n",
      "epoch:  40 loss:0.513004 auc:0.6565\n",
      "epoch:  60 loss:0.418918 auc:0.6842\n",
      "epoch:  80 loss:0.370977 auc:0.6842\n",
      "epoch: 100 loss:0.347471 auc:0.6842\n",
      "epoch: 120 loss:0.335115 auc:0.6898\n",
      "epoch: 140 loss:0.327585 auc:0.6898\n",
      "epoch: 160 loss:0.322530 auc:0.7064\n",
      "epoch: 180 loss:0.318960 auc:0.7147\n",
      "epoch: 200 loss:0.316380 auc:0.7202\n",
      "epoch: 220 loss:0.314488 auc:0.7230\n",
      "epoch: 240 loss:0.313079 auc:0.7313\n",
      "epoch: 260 loss:0.312005 auc:0.7368\n",
      "epoch: 280 loss:0.311165 auc:0.7368\n",
      "epoch: 300 loss:0.310489 auc:0.7396\n",
      "epoch: 320 loss:0.309933 auc:0.7368\n",
      "epoch: 340 loss:0.309470 auc:0.7368\n",
      "epoch: 360 loss:0.309083 auc:0.7313\n",
      "epoch: 380 loss:0.308757 auc:0.7313\n",
      "epoch: 400 loss:0.308483 auc:0.7313\n"
     ]
    },
    {
     "name": "stderr",
     "output_type": "stream",
     "text": [
      " 23%|██▎       | 231/1005 [31:16<2:06:23,  9.80s/it]"
     ]
    },
    {
     "name": "stdout",
     "output_type": "stream",
     "text": [
      "epoch: 420 loss:0.308254 auc:0.7285\n",
      "Fit finished.\n",
      "epoch:   0 loss:0.805604 auc:0.3296\n",
      "epoch:  20 loss:0.579718 auc:0.5512\n",
      "epoch:  40 loss:0.489086 auc:0.5042\n",
      "epoch:  60 loss:0.405961 auc:0.5125\n",
      "epoch:  80 loss:0.363894 auc:0.4654\n",
      "epoch: 100 loss:0.342725 auc:0.4543\n",
      "epoch: 120 loss:0.331301 auc:0.4626\n",
      "epoch: 140 loss:0.324413 auc:0.4654\n",
      "epoch: 160 loss:0.319968 auc:0.4654\n"
     ]
    },
    {
     "name": "stderr",
     "output_type": "stream",
     "text": [
      " 23%|██▎       | 232/1005 [31:23<1:55:26,  8.96s/it]"
     ]
    },
    {
     "name": "stdout",
     "output_type": "stream",
     "text": [
      "epoch: 180 loss:0.316932 auc:0.4709\n",
      "Fit finished.\n",
      "epoch:   0 loss:0.937212 auc:0.6129\n",
      "epoch:  20 loss:0.592307 auc:0.8812\n",
      "epoch:  40 loss:0.514573 auc:0.8894\n",
      "epoch:  60 loss:0.426406 auc:0.8553\n",
      "epoch:  80 loss:0.377426 auc:0.8565\n",
      "epoch: 100 loss:0.351431 auc:0.8318\n",
      "epoch: 120 loss:0.336999 auc:0.8082\n",
      "epoch: 140 loss:0.328173 auc:0.8012\n",
      "epoch: 160 loss:0.322542 auc:0.7941\n"
     ]
    },
    {
     "name": "stderr",
     "output_type": "stream",
     "text": [
      " 23%|██▎       | 233/1005 [31:30<1:48:52,  8.46s/it]"
     ]
    },
    {
     "name": "stdout",
     "output_type": "stream",
     "text": [
      "epoch: 180 loss:0.318759 auc:0.7871\n",
      "Fit finished.\n",
      "epoch:   0 loss:0.770979 auc:0.5172\n",
      "epoch:  20 loss:0.598734 auc:0.6478\n",
      "epoch:  40 loss:0.534086 auc:0.6736\n",
      "epoch:  60 loss:0.442846 auc:0.7007\n",
      "epoch:  80 loss:0.389632 auc:0.7081\n",
      "epoch: 100 loss:0.358999 auc:0.7044\n",
      "epoch: 120 loss:0.341940 auc:0.6970\n",
      "epoch: 140 loss:0.332125 auc:0.6872\n",
      "epoch: 160 loss:0.325928 auc:0.6909\n",
      "epoch: 180 loss:0.321699 auc:0.6897\n",
      "epoch: 200 loss:0.318684 auc:0.6921\n"
     ]
    },
    {
     "name": "stderr",
     "output_type": "stream",
     "text": [
      " 23%|██▎       | 234/1005 [31:38<1:46:22,  8.28s/it]"
     ]
    },
    {
     "name": "stdout",
     "output_type": "stream",
     "text": [
      "epoch: 220 loss:0.316456 auc:0.6921\n",
      "Fit finished.\n",
      "epoch:   0 loss:0.790931 auc:0.5322\n",
      "epoch:  20 loss:0.595544 auc:0.5610\n",
      "epoch:  40 loss:0.515714 auc:0.5034\n",
      "epoch:  60 loss:0.422486 auc:0.4664\n",
      "epoch:  80 loss:0.374667 auc:0.4774\n",
      "epoch: 100 loss:0.349942 auc:0.4801\n",
      "epoch: 120 loss:0.336567 auc:0.4691\n",
      "epoch: 140 loss:0.328465 auc:0.4719\n"
     ]
    },
    {
     "name": "stderr",
     "output_type": "stream",
     "text": [
      " 23%|██▎       | 235/1005 [31:44<1:39:04,  7.72s/it]"
     ]
    },
    {
     "name": "stdout",
     "output_type": "stream",
     "text": [
      "epoch: 160 loss:0.323136 auc:0.4760\n",
      "Fit finished.\n",
      "epoch:   0 loss:0.797598 auc:0.4656\n",
      "epoch:  20 loss:0.595605 auc:0.6192\n",
      "epoch:  40 loss:0.521041 auc:0.6128\n",
      "epoch:  60 loss:0.431507 auc:0.6304\n",
      "epoch:  80 loss:0.377647 auc:0.5744\n",
      "epoch: 100 loss:0.351588 auc:0.5680\n",
      "epoch: 120 loss:0.337715 auc:0.5520\n",
      "epoch: 140 loss:0.329418 auc:0.5504\n",
      "epoch: 160 loss:0.323983 auc:0.5472\n"
     ]
    },
    {
     "name": "stderr",
     "output_type": "stream",
     "text": [
      " 23%|██▎       | 236/1005 [31:51<1:34:05,  7.34s/it]"
     ]
    },
    {
     "name": "stdout",
     "output_type": "stream",
     "text": [
      "epoch: 180 loss:0.320180 auc:0.5456\n",
      "Fit finished.\n",
      "epoch:   0 loss:0.822027 auc:0.5925\n",
      "epoch:  20 loss:0.599902 auc:0.7400\n",
      "epoch:  40 loss:0.545183 auc:0.7250\n",
      "epoch:  60 loss:0.452956 auc:0.7050\n",
      "epoch:  80 loss:0.395650 auc:0.7200\n",
      "epoch: 100 loss:0.362136 auc:0.7500\n",
      "epoch: 120 loss:0.343409 auc:0.7550\n",
      "epoch: 140 loss:0.332735 auc:0.7500\n",
      "epoch: 160 loss:0.326098 auc:0.7350\n"
     ]
    },
    {
     "name": "stderr",
     "output_type": "stream",
     "text": [
      " 24%|██▎       | 237/1005 [31:58<1:32:05,  7.19s/it]"
     ]
    },
    {
     "name": "stdout",
     "output_type": "stream",
     "text": [
      "epoch: 180 loss:0.321657 auc:0.7375\n",
      "Fit finished.\n",
      "epoch:   0 loss:0.779208 auc:0.5104\n",
      "epoch:  20 loss:0.574495 auc:0.5917\n",
      "epoch:  40 loss:0.478254 auc:0.5740\n",
      "epoch:  60 loss:0.395947 auc:0.5680\n",
      "epoch:  80 loss:0.356461 auc:0.5636\n",
      "epoch: 100 loss:0.337865 auc:0.5607\n",
      "epoch: 120 loss:0.328047 auc:0.5651\n",
      "epoch: 140 loss:0.322236 auc:0.5621\n",
      "epoch: 160 loss:0.318473 auc:0.5769\n"
     ]
    },
    {
     "name": "stderr",
     "output_type": "stream",
     "text": [
      " 24%|██▎       | 238/1005 [32:05<1:33:26,  7.31s/it]"
     ]
    },
    {
     "name": "stdout",
     "output_type": "stream",
     "text": [
      "epoch: 180 loss:0.315870 auc:0.5754\n",
      "Fit finished.\n",
      "epoch:   0 loss:0.779075 auc:0.5195\n",
      "epoch:  20 loss:0.565833 auc:0.6830\n",
      "epoch:  40 loss:0.439893 auc:0.5584\n",
      "epoch:  60 loss:0.370528 auc:0.5895\n",
      "epoch:  80 loss:0.341397 auc:0.5884\n",
      "epoch: 100 loss:0.328182 auc:0.5729\n",
      "epoch: 120 loss:0.321423 auc:0.5773\n",
      "epoch: 140 loss:0.317407 auc:0.5806\n",
      "epoch: 160 loss:0.314771 auc:0.5851\n"
     ]
    },
    {
     "name": "stderr",
     "output_type": "stream",
     "text": [
      " 24%|██▍       | 239/1005 [32:13<1:32:56,  7.28s/it]"
     ]
    },
    {
     "name": "stdout",
     "output_type": "stream",
     "text": [
      "epoch: 180 loss:0.312933 auc:0.5840\n",
      "Fit finished.\n",
      "epoch:   0 loss:0.794036 auc:0.3971\n",
      "epoch:  20 loss:0.572931 auc:0.7775\n",
      "epoch:  40 loss:0.456390 auc:0.7063\n",
      "epoch:  60 loss:0.379466 auc:0.7030\n",
      "epoch:  80 loss:0.347506 auc:0.6796\n",
      "epoch: 100 loss:0.332980 auc:0.6641\n",
      "epoch: 120 loss:0.324978 auc:0.6563\n",
      "epoch: 140 loss:0.320094 auc:0.6474\n",
      "epoch: 160 loss:0.316871 auc:0.6385\n"
     ]
    },
    {
     "name": "stderr",
     "output_type": "stream",
     "text": [
      " 24%|██▍       | 240/1005 [32:19<1:31:22,  7.17s/it]"
     ]
    },
    {
     "name": "stdout",
     "output_type": "stream",
     "text": [
      "epoch: 180 loss:0.314621 auc:0.6363\n",
      "Fit finished.\n",
      "epoch:   0 loss:0.821901 auc:0.4568\n",
      "epoch:  20 loss:0.588423 auc:0.6557\n",
      "epoch:  40 loss:0.495158 auc:0.6296\n",
      "epoch:  60 loss:0.408061 auc:0.6379\n",
      "epoch:  80 loss:0.366231 auc:0.6118\n",
      "epoch: 100 loss:0.343964 auc:0.5898\n",
      "epoch: 120 loss:0.331606 auc:0.5830\n",
      "epoch: 140 loss:0.324320 auc:0.5761\n",
      "epoch: 160 loss:0.319777 auc:0.5748\n"
     ]
    },
    {
     "name": "stderr",
     "output_type": "stream",
     "text": [
      " 24%|██▍       | 241/1005 [32:26<1:28:28,  6.95s/it]"
     ]
    },
    {
     "name": "stdout",
     "output_type": "stream",
     "text": [
      "epoch: 180 loss:0.316759 auc:0.5638\n",
      "Fit finished.\n",
      "epoch:   0 loss:0.805184 auc:0.6251\n",
      "epoch:  20 loss:0.602530 auc:0.8361\n",
      "epoch:  40 loss:0.542747 auc:0.9001\n",
      "epoch:  60 loss:0.457368 auc:0.9113\n",
      "epoch:  80 loss:0.396541 auc:0.9181\n",
      "epoch: 100 loss:0.362638 auc:0.9080\n",
      "epoch: 120 loss:0.344266 auc:0.9091\n",
      "epoch: 140 loss:0.333396 auc:0.9057\n",
      "epoch: 160 loss:0.326508 auc:0.8990\n",
      "epoch: 180 loss:0.321865 auc:0.8967\n"
     ]
    },
    {
     "name": "stderr",
     "output_type": "stream",
     "text": [
      " 24%|██▍       | 242/1005 [32:33<1:30:27,  7.11s/it]"
     ]
    },
    {
     "name": "stdout",
     "output_type": "stream",
     "text": [
      "epoch: 200 loss:0.318605 auc:0.8923\n",
      "Fit finished.\n",
      "epoch:   0 loss:0.799335 auc:0.4007\n",
      "epoch:  20 loss:0.601499 auc:0.7475\n",
      "epoch:  40 loss:0.551008 auc:0.6857\n",
      "epoch:  60 loss:0.461241 auc:0.5208\n",
      "epoch:  80 loss:0.398858 auc:0.4826\n",
      "epoch: 100 loss:0.362999 auc:0.4602\n",
      "epoch: 120 loss:0.343959 auc:0.4512\n",
      "epoch: 140 loss:0.333294 auc:0.4456\n",
      "epoch: 160 loss:0.326635 auc:0.4411\n"
     ]
    },
    {
     "name": "stderr",
     "output_type": "stream",
     "text": [
      " 24%|██▍       | 243/1005 [32:41<1:32:18,  7.27s/it]"
     ]
    },
    {
     "name": "stdout",
     "output_type": "stream",
     "text": [
      "epoch: 180 loss:0.322097 auc:0.4355\n",
      "Fit finished.\n",
      "epoch:   0 loss:0.795822 auc:0.5276\n",
      "epoch:  20 loss:0.576957 auc:0.6486\n",
      "epoch:  40 loss:0.481084 auc:0.6106\n",
      "epoch:  60 loss:0.395694 auc:0.6567\n",
      "epoch:  80 loss:0.356383 auc:0.6659\n",
      "epoch: 100 loss:0.337787 auc:0.6717\n",
      "epoch: 120 loss:0.328067 auc:0.6682\n",
      "epoch: 140 loss:0.322320 auc:0.6555\n",
      "epoch: 160 loss:0.318602 auc:0.6463\n"
     ]
    },
    {
     "name": "stderr",
     "output_type": "stream",
     "text": [
      " 24%|██▍       | 244/1005 [32:48<1:31:15,  7.19s/it]"
     ]
    },
    {
     "name": "stdout",
     "output_type": "stream",
     "text": [
      "epoch: 180 loss:0.316047 auc:0.6452\n",
      "Fit finished.\n",
      "epoch:   0 loss:0.796573 auc:0.5851\n",
      "epoch:  20 loss:0.573875 auc:0.6418\n",
      "epoch:  40 loss:0.457302 auc:0.5873\n",
      "epoch:  60 loss:0.382639 auc:0.5806\n",
      "epoch:  80 loss:0.349640 auc:0.5751\n",
      "epoch: 100 loss:0.333255 auc:0.5628\n",
      "epoch: 120 loss:0.324768 auc:0.5673\n",
      "epoch: 140 loss:0.319852 auc:0.5684\n"
     ]
    },
    {
     "name": "stderr",
     "output_type": "stream",
     "text": [
      " 24%|██▍       | 245/1005 [32:54<1:27:52,  6.94s/it]"
     ]
    },
    {
     "name": "stdout",
     "output_type": "stream",
     "text": [
      "epoch: 160 loss:0.316673 auc:0.5729\n",
      "Fit finished.\n",
      "epoch:   0 loss:0.785848 auc:0.6233\n",
      "epoch:  20 loss:0.562760 auc:0.6840\n",
      "epoch:  40 loss:0.428373 auc:0.6562\n",
      "epoch:  60 loss:0.361260 auc:0.7014\n",
      "epoch:  80 loss:0.336008 auc:0.7101\n",
      "epoch: 100 loss:0.325547 auc:0.7153\n",
      "epoch: 120 loss:0.319849 auc:0.7240\n",
      "epoch: 140 loss:0.316240 auc:0.7240\n",
      "epoch: 160 loss:0.313784 auc:0.7292\n",
      "epoch: 180 loss:0.312058 auc:0.7292\n",
      "epoch: 200 loss:0.310817 auc:0.7240\n",
      "epoch: 220 loss:0.309905 auc:0.7188\n",
      "epoch: 240 loss:0.309225 auc:0.7135\n"
     ]
    },
    {
     "name": "stderr",
     "output_type": "stream",
     "text": [
      " 24%|██▍       | 246/1005 [33:04<1:37:09,  7.68s/it]"
     ]
    },
    {
     "name": "stdout",
     "output_type": "stream",
     "text": [
      "epoch: 260 loss:0.308712 auc:0.7118\n",
      "Fit finished.\n",
      "epoch:   0 loss:0.788270 auc:0.4367\n",
      "epoch:  20 loss:0.575938 auc:0.6653\n",
      "epoch:  40 loss:0.456165 auc:0.6381\n",
      "epoch:  60 loss:0.376629 auc:0.6490\n",
      "epoch:  80 loss:0.345174 auc:0.6340\n",
      "epoch: 100 loss:0.331142 auc:0.6231\n",
      "epoch: 120 loss:0.323585 auc:0.6218\n",
      "epoch: 140 loss:0.318937 auc:0.6136\n",
      "epoch: 160 loss:0.315859 auc:0.6122\n"
     ]
    },
    {
     "name": "stderr",
     "output_type": "stream",
     "text": [
      " 25%|██▍       | 247/1005 [33:11<1:33:45,  7.42s/it]"
     ]
    },
    {
     "name": "stdout",
     "output_type": "stream",
     "text": [
      "epoch: 180 loss:0.313736 auc:0.6122\n",
      "Fit finished.\n",
      "epoch:   0 loss:0.836367 auc:0.4803\n",
      "epoch:  20 loss:0.594400 auc:0.6726\n",
      "epoch:  40 loss:0.519920 auc:0.6153\n",
      "epoch:  60 loss:0.431494 auc:0.5161\n",
      "epoch:  80 loss:0.381214 auc:0.4875\n",
      "epoch: 100 loss:0.353946 auc:0.5006\n",
      "epoch: 120 loss:0.338466 auc:0.5161\n",
      "epoch: 140 loss:0.329149 auc:0.5185\n",
      "epoch: 160 loss:0.323215 auc:0.5424\n"
     ]
    },
    {
     "name": "stderr",
     "output_type": "stream",
     "text": [
      " 25%|██▍       | 248/1005 [33:18<1:33:14,  7.39s/it]"
     ]
    },
    {
     "name": "stdout",
     "output_type": "stream",
     "text": [
      "epoch: 180 loss:0.319229 auc:0.5448\n",
      "Fit finished.\n",
      "epoch:   0 loss:0.782203 auc:0.2646\n",
      "epoch:  20 loss:0.591796 auc:0.5391\n",
      "epoch:  40 loss:0.506390 auc:0.4783\n",
      "epoch:  60 loss:0.420686 auc:0.4087\n",
      "epoch:  80 loss:0.370828 auc:0.4286\n",
      "epoch: 100 loss:0.346106 auc:0.4447\n",
      "epoch: 120 loss:0.333344 auc:0.4373\n",
      "epoch: 140 loss:0.325948 auc:0.4360\n",
      "epoch: 160 loss:0.321217 auc:0.4422\n"
     ]
    },
    {
     "name": "stderr",
     "output_type": "stream",
     "text": [
      " 25%|██▍       | 249/1005 [33:25<1:31:11,  7.24s/it]"
     ]
    },
    {
     "name": "stdout",
     "output_type": "stream",
     "text": [
      "epoch: 180 loss:0.317980 auc:0.4422\n",
      "Fit finished.\n",
      "epoch:   0 loss:0.829395 auc:0.5627\n",
      "epoch:  20 loss:0.590262 auc:0.6795\n",
      "epoch:  40 loss:0.502962 auc:0.6919\n",
      "epoch:  60 loss:0.424129 auc:0.7031\n",
      "epoch:  80 loss:0.377798 auc:0.6795\n",
      "epoch: 100 loss:0.350378 auc:0.6596\n",
      "epoch: 120 loss:0.335481 auc:0.6559\n",
      "epoch: 140 loss:0.327016 auc:0.6609\n",
      "epoch: 160 loss:0.321740 auc:0.6634\n"
     ]
    },
    {
     "name": "stderr",
     "output_type": "stream",
     "text": [
      " 25%|██▍       | 250/1005 [33:32<1:29:31,  7.11s/it]"
     ]
    },
    {
     "name": "stdout",
     "output_type": "stream",
     "text": [
      "epoch: 180 loss:0.318191 auc:0.6571\n",
      "Fit finished.\n",
      "epoch:   0 loss:0.785101 auc:0.5071\n",
      "epoch:  20 loss:0.596412 auc:0.6332\n",
      "epoch:  40 loss:0.520833 auc:0.6641\n",
      "epoch:  60 loss:0.423122 auc:0.6589\n",
      "epoch:  80 loss:0.369471 auc:0.6474\n",
      "epoch: 100 loss:0.345123 auc:0.6461\n",
      "epoch: 120 loss:0.332549 auc:0.6435\n",
      "epoch: 140 loss:0.325191 auc:0.6422\n",
      "epoch: 160 loss:0.320563 auc:0.6409\n",
      "epoch: 180 loss:0.317443 auc:0.6371\n"
     ]
    },
    {
     "name": "stderr",
     "output_type": "stream",
     "text": [
      " 25%|██▍       | 251/1005 [33:39<1:30:22,  7.19s/it]"
     ]
    },
    {
     "name": "stdout",
     "output_type": "stream",
     "text": [
      "epoch: 200 loss:0.315212 auc:0.6345\n",
      "Fit finished.\n",
      "epoch:   0 loss:0.832222 auc:0.5000\n",
      "epoch:  20 loss:0.597185 auc:0.5344\n",
      "epoch:  40 loss:0.533934 auc:0.5356\n",
      "epoch:  60 loss:0.436656 auc:0.5689\n",
      "epoch:  80 loss:0.379151 auc:0.5756\n",
      "epoch: 100 loss:0.350109 auc:0.5833\n",
      "epoch: 120 loss:0.335346 auc:0.5811\n",
      "epoch: 140 loss:0.327043 auc:0.5789\n",
      "epoch: 160 loss:0.321852 auc:0.5800\n",
      "epoch: 180 loss:0.318350 auc:0.5833\n",
      "epoch: 200 loss:0.315866 auc:0.5889\n",
      "epoch: 220 loss:0.314045 auc:0.5933\n",
      "epoch: 240 loss:0.312678 auc:0.5967\n",
      "epoch: 260 loss:0.311630 auc:0.5989\n",
      "epoch: 280 loss:0.310811 auc:0.5989\n",
      "epoch: 300 loss:0.310156 auc:0.6022\n",
      "epoch: 320 loss:0.309625 auc:0.6022\n",
      "epoch: 340 loss:0.309190 auc:0.6033\n",
      "epoch: 360 loss:0.308832 auc:0.6033\n",
      "epoch: 380 loss:0.308536 auc:0.6022\n",
      "epoch: 400 loss:0.308288 auc:0.6011\n",
      "epoch: 420 loss:0.308080 auc:0.5989\n"
     ]
    },
    {
     "name": "stderr",
     "output_type": "stream",
     "text": [
      " 25%|██▌       | 252/1005 [33:53<1:56:16,  9.27s/it]"
     ]
    },
    {
     "name": "stdout",
     "output_type": "stream",
     "text": [
      "epoch: 440 loss:0.307903 auc:0.5967\n",
      "Fit finished.\n",
      "epoch:   0 loss:0.781885 auc:0.5208\n",
      "epoch:  20 loss:0.590401 auc:0.5122\n",
      "epoch:  40 loss:0.501537 auc:0.5295\n",
      "epoch:  60 loss:0.403985 auc:0.4913\n",
      "epoch:  80 loss:0.363105 auc:0.5052\n",
      "epoch: 100 loss:0.343005 auc:0.5104\n",
      "epoch: 120 loss:0.332042 auc:0.5139\n",
      "epoch: 140 loss:0.325260 auc:0.5174\n"
     ]
    },
    {
     "name": "stderr",
     "output_type": "stream",
     "text": [
      " 25%|██▌       | 253/1005 [34:00<1:45:38,  8.43s/it]"
     ]
    },
    {
     "name": "stdout",
     "output_type": "stream",
     "text": [
      "epoch: 160 loss:0.320700 auc:0.5191\n",
      "Fit finished.\n",
      "epoch:   0 loss:0.787811 auc:0.5181\n",
      "epoch:  20 loss:0.603858 auc:0.6884\n",
      "epoch:  40 loss:0.555657 auc:0.7174\n",
      "epoch:  60 loss:0.454058 auc:0.7391\n",
      "epoch:  80 loss:0.383679 auc:0.7415\n",
      "epoch: 100 loss:0.352207 auc:0.7548\n",
      "epoch: 120 loss:0.336741 auc:0.7633\n",
      "epoch: 140 loss:0.328087 auc:0.7669\n",
      "epoch: 160 loss:0.322654 auc:0.7621\n",
      "epoch: 180 loss:0.318964 auc:0.7705\n",
      "epoch: 200 loss:0.316322 auc:0.7766\n",
      "epoch: 220 loss:0.314359 auc:0.7790\n",
      "epoch: 240 loss:0.312867 auc:0.7826\n",
      "epoch: 260 loss:0.311719 auc:0.7862\n",
      "epoch: 280 loss:0.310835 auc:0.7874\n",
      "epoch: 300 loss:0.310150 auc:0.7862\n",
      "epoch: 320 loss:0.309610 auc:0.7862\n",
      "epoch: 340 loss:0.309179 auc:0.7850\n",
      "epoch: 360 loss:0.308828 auc:0.7850\n",
      "epoch: 380 loss:0.308539 auc:0.7886\n",
      "epoch: 400 loss:0.308297 auc:0.7886\n",
      "epoch: 420 loss:0.308092 auc:0.7899\n",
      "epoch: 440 loss:0.307919 auc:0.7886\n",
      "epoch: 460 loss:0.307771 auc:0.7886\n",
      "epoch: 480 loss:0.307645 auc:0.7886\n",
      "epoch: 500 loss:0.307536 auc:0.7862\n",
      "epoch: 520 loss:0.307442 auc:0.7874\n"
     ]
    },
    {
     "name": "stderr",
     "output_type": "stream",
     "text": [
      " 25%|██▌       | 254/1005 [34:17<2:19:15, 11.13s/it]"
     ]
    },
    {
     "name": "stdout",
     "output_type": "stream",
     "text": [
      "epoch: 540 loss:0.307360 auc:0.7862\n",
      "Fit finished.\n",
      "epoch:   0 loss:0.798244 auc:0.2881\n",
      "epoch:  20 loss:0.573123 auc:0.6051\n",
      "epoch:  40 loss:0.458662 auc:0.3548\n",
      "epoch:  60 loss:0.384248 auc:0.3037\n",
      "epoch:  80 loss:0.349461 auc:0.3037\n",
      "epoch: 100 loss:0.333388 auc:0.2948\n",
      "epoch: 120 loss:0.324983 auc:0.2825\n",
      "epoch: 140 loss:0.319997 auc:0.2781\n"
     ]
    },
    {
     "name": "stderr",
     "output_type": "stream",
     "text": [
      " 25%|██▌       | 255/1005 [34:23<1:58:46,  9.50s/it]"
     ]
    },
    {
     "name": "stdout",
     "output_type": "stream",
     "text": [
      "epoch: 160 loss:0.316746 auc:0.2792\n",
      "Fit finished.\n",
      "epoch:   0 loss:0.849310 auc:0.5220\n",
      "epoch:  20 loss:0.588322 auc:0.6215\n",
      "epoch:  40 loss:0.494355 auc:0.6192\n",
      "epoch:  60 loss:0.418190 auc:0.6065\n",
      "epoch:  80 loss:0.373137 auc:0.5938\n",
      "epoch: 100 loss:0.348531 auc:0.5938\n",
      "epoch: 120 loss:0.335415 auc:0.5845\n",
      "epoch: 140 loss:0.327590 auc:0.5856\n",
      "epoch: 160 loss:0.322453 auc:0.5856\n"
     ]
    },
    {
     "name": "stderr",
     "output_type": "stream",
     "text": [
      " 25%|██▌       | 256/1005 [34:30<1:50:04,  8.82s/it]"
     ]
    },
    {
     "name": "stdout",
     "output_type": "stream",
     "text": [
      "epoch: 180 loss:0.318895 auc:0.5856\n",
      "Fit finished.\n",
      "epoch:   0 loss:0.826907 auc:0.4062\n",
      "epoch:  20 loss:0.594709 auc:0.5567\n",
      "epoch:  40 loss:0.521404 auc:0.5741\n",
      "epoch:  60 loss:0.416256 auc:0.5208\n",
      "epoch:  80 loss:0.365406 auc:0.5532\n",
      "epoch: 100 loss:0.342347 auc:0.5637\n",
      "epoch: 120 loss:0.330439 auc:0.5718\n",
      "epoch: 140 loss:0.323412 auc:0.5625\n",
      "epoch: 160 loss:0.318983 auc:0.5544\n"
     ]
    },
    {
     "name": "stderr",
     "output_type": "stream",
     "text": [
      " 26%|██▌       | 257/1005 [34:37<1:42:50,  8.25s/it]"
     ]
    },
    {
     "name": "stdout",
     "output_type": "stream",
     "text": [
      "epoch: 180 loss:0.316051 auc:0.5521\n",
      "Fit finished.\n",
      "epoch:   0 loss:0.801954 auc:0.4581\n",
      "epoch:  20 loss:0.575152 auc:0.7249\n",
      "epoch:  40 loss:0.460940 auc:0.2919\n",
      "epoch:  60 loss:0.382712 auc:0.3600\n",
      "epoch:  80 loss:0.348208 auc:0.3708\n",
      "epoch: 100 loss:0.332528 auc:0.3864\n",
      "epoch: 120 loss:0.324299 auc:0.3923\n",
      "epoch: 140 loss:0.319434 auc:0.3888\n"
     ]
    },
    {
     "name": "stderr",
     "output_type": "stream",
     "text": [
      " 26%|██▌       | 258/1005 [34:43<1:34:47,  7.61s/it]"
     ]
    },
    {
     "name": "stdout",
     "output_type": "stream",
     "text": [
      "epoch: 160 loss:0.316306 auc:0.3911\n",
      "Fit finished.\n",
      "epoch:   0 loss:0.774994 auc:0.5738\n",
      "epoch:  20 loss:0.565796 auc:0.6060\n",
      "epoch:  40 loss:0.441166 auc:0.6619\n",
      "epoch:  60 loss:0.372926 auc:0.6619\n",
      "epoch:  80 loss:0.344430 auc:0.6679\n",
      "epoch: 100 loss:0.331158 auc:0.6690\n",
      "epoch: 120 loss:0.323786 auc:0.6667\n",
      "epoch: 140 loss:0.319248 auc:0.6643\n",
      "epoch: 160 loss:0.316242 auc:0.6631\n",
      "epoch: 180 loss:0.314141 auc:0.6690\n",
      "epoch: 200 loss:0.312605 auc:0.6702\n",
      "epoch: 220 loss:0.311441 auc:0.6726\n",
      "epoch: 240 loss:0.310543 auc:0.6750\n",
      "epoch: 260 loss:0.309842 auc:0.6774\n",
      "epoch: 280 loss:0.309286 auc:0.6810\n",
      "epoch: 300 loss:0.308837 auc:0.6810\n",
      "epoch: 320 loss:0.308471 auc:0.6821\n",
      "epoch: 340 loss:0.308172 auc:0.6845\n",
      "epoch: 360 loss:0.307926 auc:0.6821\n",
      "epoch: 380 loss:0.307726 auc:0.6821\n",
      "epoch: 400 loss:0.307665 auc:0.6833\n",
      "epoch: 420 loss:0.307452 auc:0.6845\n",
      "epoch: 440 loss:0.307323 auc:0.6845\n",
      "epoch: 460 loss:0.307231 auc:0.6857\n",
      "epoch: 480 loss:0.307156 auc:0.6845\n"
     ]
    },
    {
     "name": "stderr",
     "output_type": "stream",
     "text": [
      " 26%|██▌       | 259/1005 [34:59<2:06:27, 10.17s/it]"
     ]
    },
    {
     "name": "stdout",
     "output_type": "stream",
     "text": [
      "epoch: 500 loss:0.307093 auc:0.6833\n",
      "Fit finished.\n",
      "epoch:   0 loss:0.806073 auc:0.5087\n",
      "epoch:  20 loss:0.606155 auc:0.3611\n",
      "epoch:  40 loss:0.567528 auc:0.3941\n",
      "epoch:  60 loss:0.476529 auc:0.4045\n",
      "epoch:  80 loss:0.403448 auc:0.3993\n",
      "epoch: 100 loss:0.364242 auc:0.4010\n",
      "epoch: 120 loss:0.343477 auc:0.4132\n",
      "epoch: 140 loss:0.332108 auc:0.4201\n"
     ]
    },
    {
     "name": "stderr",
     "output_type": "stream",
     "text": [
      " 26%|██▌       | 260/1005 [35:06<1:54:05,  9.19s/it]"
     ]
    },
    {
     "name": "stdout",
     "output_type": "stream",
     "text": [
      "epoch: 160 loss:0.325384 auc:0.4323\n",
      "Fit finished.\n",
      "epoch:   0 loss:0.852940 auc:0.6399\n",
      "epoch:  20 loss:0.599711 auc:0.6772\n",
      "epoch:  40 loss:0.541333 auc:0.7121\n",
      "epoch:  60 loss:0.446331 auc:0.6876\n",
      "epoch:  80 loss:0.389782 auc:0.6573\n",
      "epoch: 100 loss:0.357607 auc:0.6399\n",
      "epoch: 120 loss:0.340106 auc:0.6387\n",
      "epoch: 140 loss:0.330322 auc:0.6375\n"
     ]
    },
    {
     "name": "stderr",
     "output_type": "stream",
     "text": [
      " 26%|██▌       | 261/1005 [35:13<1:44:01,  8.39s/it]"
     ]
    },
    {
     "name": "stdout",
     "output_type": "stream",
     "text": [
      "epoch: 160 loss:0.324210 auc:0.6305\n",
      "Fit finished.\n",
      "epoch:   0 loss:0.812304 auc:0.4156\n",
      "epoch:  20 loss:0.597673 auc:0.7682\n",
      "epoch:  40 loss:0.519989 auc:0.7668\n",
      "epoch:  60 loss:0.426757 auc:0.8464\n",
      "epoch:  80 loss:0.375417 auc:0.8326\n",
      "epoch: 100 loss:0.348410 auc:0.8285\n",
      "epoch: 120 loss:0.333863 auc:0.8285\n",
      "epoch: 140 loss:0.325701 auc:0.8299\n",
      "epoch: 160 loss:0.320719 auc:0.8354\n",
      "epoch: 180 loss:0.317412 auc:0.8340\n",
      "epoch: 200 loss:0.315099 auc:0.8326\n"
     ]
    },
    {
     "name": "stderr",
     "output_type": "stream",
     "text": [
      " 26%|██▌       | 262/1005 [35:21<1:44:57,  8.48s/it]"
     ]
    },
    {
     "name": "stdout",
     "output_type": "stream",
     "text": [
      "epoch: 220 loss:0.313409 auc:0.8258\n",
      "Fit finished.\n",
      "epoch:   0 loss:0.775368 auc:0.4680\n",
      "epoch:  20 loss:0.569505 auc:0.7868\n",
      "epoch:  40 loss:0.444705 auc:0.8013\n",
      "epoch:  60 loss:0.373971 auc:0.7924\n",
      "epoch:  80 loss:0.344147 auc:0.7845\n",
      "epoch: 100 loss:0.330513 auc:0.7856\n",
      "epoch: 120 loss:0.322957 auc:0.7856\n",
      "epoch: 140 loss:0.318329 auc:0.7845\n",
      "epoch: 160 loss:0.315347 auc:0.7834\n"
     ]
    },
    {
     "name": "stderr",
     "output_type": "stream",
     "text": [
      " 26%|██▌       | 263/1005 [35:28<1:39:15,  8.03s/it]"
     ]
    },
    {
     "name": "stdout",
     "output_type": "stream",
     "text": [
      "epoch: 180 loss:0.313353 auc:0.7823\n",
      "Fit finished.\n",
      "epoch:   0 loss:0.797752 auc:0.5215\n",
      "epoch:  20 loss:0.582071 auc:0.8038\n",
      "epoch:  40 loss:0.485336 auc:0.7464\n",
      "epoch:  60 loss:0.400898 auc:0.7129\n",
      "epoch:  80 loss:0.361206 auc:0.6974\n",
      "epoch: 100 loss:0.341131 auc:0.6627\n",
      "epoch: 120 loss:0.330184 auc:0.6543\n",
      "epoch: 140 loss:0.323663 auc:0.6483\n",
      "epoch: 160 loss:0.319455 auc:0.6447\n"
     ]
    },
    {
     "name": "stderr",
     "output_type": "stream",
     "text": [
      " 26%|██▋       | 264/1005 [35:35<1:34:32,  7.66s/it]"
     ]
    },
    {
     "name": "stdout",
     "output_type": "stream",
     "text": [
      "epoch: 180 loss:0.316585 auc:0.6435\n",
      "Fit finished.\n",
      "epoch:   0 loss:0.823302 auc:0.4057\n",
      "epoch:  20 loss:0.588048 auc:0.7143\n",
      "epoch:  40 loss:0.494165 auc:0.5063\n",
      "epoch:  60 loss:0.411674 auc:0.4480\n",
      "epoch:  80 loss:0.367147 auc:0.4629\n",
      "epoch: 100 loss:0.344317 auc:0.4617\n",
      "epoch: 120 loss:0.331983 auc:0.4491\n",
      "epoch: 140 loss:0.324676 auc:0.4457\n",
      "epoch: 160 loss:0.319984 auc:0.4446\n"
     ]
    },
    {
     "name": "stderr",
     "output_type": "stream",
     "text": [
      " 26%|██▋       | 265/1005 [35:42<1:31:41,  7.43s/it]"
     ]
    },
    {
     "name": "stdout",
     "output_type": "stream",
     "text": [
      "epoch: 180 loss:0.316793 auc:0.4400\n",
      "Fit finished.\n",
      "epoch:   0 loss:0.835454 auc:0.3043\n",
      "epoch:  20 loss:0.584368 auc:0.7803\n",
      "epoch:  40 loss:0.494050 auc:0.8144\n",
      "epoch:  60 loss:0.401526 auc:0.8510\n",
      "epoch:  80 loss:0.361362 auc:0.8371\n",
      "epoch: 100 loss:0.342228 auc:0.8295\n",
      "epoch: 120 loss:0.331591 auc:0.8182\n",
      "epoch: 140 loss:0.325003 auc:0.8119\n",
      "epoch: 160 loss:0.320620 auc:0.8144\n",
      "epoch: 180 loss:0.317543 auc:0.8182\n"
     ]
    },
    {
     "name": "stderr",
     "output_type": "stream",
     "text": [
      " 26%|██▋       | 266/1005 [35:49<1:32:01,  7.47s/it]"
     ]
    },
    {
     "name": "stdout",
     "output_type": "stream",
     "text": [
      "epoch: 200 loss:0.315292 auc:0.8131\n",
      "Fit finished.\n",
      "epoch:   0 loss:0.774127 auc:0.6164\n",
      "epoch:  20 loss:0.579881 auc:0.8260\n",
      "epoch:  40 loss:0.484191 auc:0.9159\n",
      "epoch:  60 loss:0.399948 auc:0.9101\n",
      "epoch:  80 loss:0.358779 auc:0.9090\n",
      "epoch: 100 loss:0.339263 auc:0.9124\n",
      "epoch: 120 loss:0.328974 auc:0.9147\n",
      "epoch: 140 loss:0.322964 auc:0.9171\n",
      "epoch: 160 loss:0.319081 auc:0.9159\n",
      "epoch: 180 loss:0.316388 auc:0.9171\n",
      "epoch: 200 loss:0.314433 auc:0.9159\n",
      "epoch: 220 loss:0.312983 auc:0.9182\n",
      "epoch: 240 loss:0.311886 auc:0.9171\n",
      "epoch: 260 loss:0.311038 auc:0.9159\n",
      "epoch: 280 loss:0.310370 auc:0.9159\n",
      "epoch: 300 loss:0.309837 auc:0.9171\n",
      "epoch: 320 loss:0.309402 auc:0.9159\n"
     ]
    },
    {
     "name": "stderr",
     "output_type": "stream",
     "text": [
      " 27%|██▋       | 267/1005 [36:03<1:53:28,  9.23s/it]"
     ]
    },
    {
     "name": "stdout",
     "output_type": "stream",
     "text": [
      "epoch: 340 loss:0.309042 auc:0.9159\n",
      "Fit finished.\n",
      "epoch:   0 loss:0.809078 auc:0.3906\n",
      "epoch:  20 loss:0.599501 auc:0.8171\n",
      "epoch:  40 loss:0.534913 auc:0.7901\n",
      "epoch:  60 loss:0.436449 auc:0.7980\n",
      "epoch:  80 loss:0.382109 auc:0.7912\n",
      "epoch: 100 loss:0.353521 auc:0.7789\n",
      "epoch: 120 loss:0.338125 auc:0.7710\n",
      "epoch: 140 loss:0.329114 auc:0.7643\n",
      "epoch: 160 loss:0.323466 auc:0.7609\n"
     ]
    },
    {
     "name": "stderr",
     "output_type": "stream",
     "text": [
      " 27%|██▋       | 268/1005 [36:11<1:47:44,  8.77s/it]"
     ]
    },
    {
     "name": "stdout",
     "output_type": "stream",
     "text": [
      "epoch: 180 loss:0.319708 auc:0.7598\n",
      "Fit finished.\n",
      "epoch:   0 loss:0.866704 auc:0.4276\n",
      "epoch:  20 loss:0.600194 auc:0.7851\n",
      "epoch:  40 loss:0.557139 auc:0.8100\n",
      "epoch:  60 loss:0.465281 auc:0.8462\n",
      "epoch:  80 loss:0.399931 auc:0.7839\n",
      "epoch: 100 loss:0.363894 auc:0.7760\n",
      "epoch: 120 loss:0.344583 auc:0.7670\n",
      "epoch: 140 loss:0.333642 auc:0.7602\n",
      "epoch: 160 loss:0.326903 auc:0.7534\n"
     ]
    },
    {
     "name": "stderr",
     "output_type": "stream",
     "text": [
      " 27%|██▋       | 269/1005 [36:18<1:42:47,  8.38s/it]"
     ]
    },
    {
     "name": "stdout",
     "output_type": "stream",
     "text": [
      "epoch: 180 loss:0.322429 auc:0.7500\n",
      "Fit finished.\n",
      "epoch:   0 loss:0.791626 auc:0.4411\n",
      "epoch:  20 loss:0.601598 auc:0.8169\n",
      "epoch:  40 loss:0.536868 auc:0.7610\n",
      "epoch:  60 loss:0.442085 auc:0.6231\n",
      "epoch:  80 loss:0.387040 auc:0.5957\n",
      "epoch: 100 loss:0.355414 auc:0.6040\n",
      "epoch: 120 loss:0.339032 auc:0.6231\n",
      "epoch: 140 loss:0.329875 auc:0.6195\n",
      "epoch: 160 loss:0.324128 auc:0.6159\n"
     ]
    },
    {
     "name": "stderr",
     "output_type": "stream",
     "text": [
      " 27%|██▋       | 270/1005 [36:26<1:40:50,  8.23s/it]"
     ]
    },
    {
     "name": "stdout",
     "output_type": "stream",
     "text": [
      "epoch: 180 loss:0.320197 auc:0.6136\n",
      "Fit finished.\n",
      "epoch:   0 loss:0.837695 auc:0.6514\n",
      "epoch:  20 loss:0.597142 auc:0.8651\n",
      "epoch:  40 loss:0.518274 auc:0.8537\n",
      "epoch:  60 loss:0.425169 auc:0.8514\n",
      "epoch:  80 loss:0.376633 auc:0.8423\n",
      "epoch: 100 loss:0.350371 auc:0.8309\n",
      "epoch: 120 loss:0.336074 auc:0.8251\n",
      "epoch: 140 loss:0.327666 auc:0.8206\n",
      "epoch: 160 loss:0.322358 auc:0.8126\n"
     ]
    },
    {
     "name": "stderr",
     "output_type": "stream",
     "text": [
      " 27%|██▋       | 271/1005 [36:33<1:36:34,  7.89s/it]"
     ]
    },
    {
     "name": "stdout",
     "output_type": "stream",
     "text": [
      "epoch: 180 loss:0.318793 auc:0.8114\n",
      "Fit finished.\n",
      "epoch:   0 loss:0.787361 auc:0.4983\n",
      "epoch:  20 loss:0.596010 auc:0.8519\n",
      "epoch:  40 loss:0.522861 auc:0.9282\n",
      "epoch:  60 loss:0.433501 auc:0.9652\n",
      "epoch:  80 loss:0.381792 auc:0.9652\n",
      "epoch: 100 loss:0.353873 auc:0.9562\n",
      "epoch: 120 loss:0.338397 auc:0.9461\n",
      "epoch: 140 loss:0.329517 auc:0.9383\n",
      "epoch: 160 loss:0.323937 auc:0.9315\n",
      "epoch: 180 loss:0.320134 auc:0.9315\n",
      "epoch: 200 loss:0.317398 auc:0.9315\n"
     ]
    },
    {
     "name": "stderr",
     "output_type": "stream",
     "text": [
      " 27%|██▋       | 272/1005 [36:42<1:39:56,  8.18s/it]"
     ]
    },
    {
     "name": "stdout",
     "output_type": "stream",
     "text": [
      "epoch: 220 loss:0.315365 auc:0.9315\n",
      "Fit finished.\n",
      "epoch:   0 loss:0.808602 auc:0.5123\n",
      "epoch:  20 loss:0.591552 auc:0.8583\n",
      "epoch:  40 loss:0.503214 auc:0.8482\n",
      "epoch:  60 loss:0.419830 auc:0.8482\n",
      "epoch:  80 loss:0.373126 auc:0.8114\n",
      "epoch: 100 loss:0.349487 auc:0.7891\n",
      "epoch: 120 loss:0.336772 auc:0.7891\n",
      "epoch: 140 loss:0.328981 auc:0.7879\n",
      "epoch: 160 loss:0.323780 auc:0.7846\n"
     ]
    },
    {
     "name": "stderr",
     "output_type": "stream",
     "text": [
      " 27%|██▋       | 273/1005 [36:49<1:34:26,  7.74s/it]"
     ]
    },
    {
     "name": "stdout",
     "output_type": "stream",
     "text": [
      "epoch: 180 loss:0.320118 auc:0.7846\n",
      "Fit finished.\n",
      "epoch:   0 loss:0.791119 auc:0.4961\n",
      "epoch:  20 loss:0.581605 auc:0.7688\n",
      "epoch:  40 loss:0.479865 auc:0.8384\n",
      "epoch:  60 loss:0.393853 auc:0.8496\n",
      "epoch:  80 loss:0.356565 auc:0.8440\n",
      "epoch: 100 loss:0.338246 auc:0.8182\n",
      "epoch: 120 loss:0.328256 auc:0.8081\n",
      "epoch: 140 loss:0.322274 auc:0.8002\n",
      "epoch: 160 loss:0.318367 auc:0.7924\n",
      "epoch: 180 loss:0.315674 auc:0.7912\n"
     ]
    },
    {
     "name": "stderr",
     "output_type": "stream",
     "text": [
      " 27%|██▋       | 274/1005 [36:57<1:37:20,  7.99s/it]"
     ]
    },
    {
     "name": "stdout",
     "output_type": "stream",
     "text": [
      "epoch: 200 loss:0.313747 auc:0.7901\n",
      "Fit finished.\n",
      "epoch:   0 loss:0.813597 auc:0.4638\n",
      "epoch:  20 loss:0.593835 auc:0.8722\n",
      "epoch:  40 loss:0.507588 auc:0.8993\n",
      "epoch:  60 loss:0.410654 auc:0.9536\n",
      "epoch:  80 loss:0.365249 auc:0.9367\n",
      "epoch: 100 loss:0.343345 auc:0.9095\n",
      "epoch: 120 loss:0.331701 auc:0.9027\n",
      "epoch: 140 loss:0.324755 auc:0.8982\n",
      "epoch: 160 loss:0.320218 auc:0.8925\n",
      "epoch: 180 loss:0.317112 auc:0.8880\n"
     ]
    },
    {
     "name": "stderr",
     "output_type": "stream",
     "text": [
      " 27%|██▋       | 275/1005 [37:06<1:40:22,  8.25s/it]"
     ]
    },
    {
     "name": "stdout",
     "output_type": "stream",
     "text": [
      "epoch: 200 loss:0.314903 auc:0.8824\n",
      "Fit finished.\n",
      "epoch:   0 loss:0.926748 auc:0.4658\n",
      "epoch:  20 loss:0.601205 auc:0.7890\n",
      "epoch:  40 loss:0.551149 auc:0.6611\n",
      "epoch:  60 loss:0.462038 auc:0.4287\n",
      "epoch:  80 loss:0.393957 auc:0.4545\n",
      "epoch: 100 loss:0.358058 auc:0.4949\n",
      "epoch: 120 loss:0.340468 auc:0.5152\n",
      "epoch: 140 loss:0.330631 auc:0.5163\n",
      "epoch: 160 loss:0.324411 auc:0.5163\n"
     ]
    },
    {
     "name": "stderr",
     "output_type": "stream",
     "text": [
      " 27%|██▋       | 276/1005 [37:14<1:39:52,  8.22s/it]"
     ]
    },
    {
     "name": "stdout",
     "output_type": "stream",
     "text": [
      "epoch: 180 loss:0.320240 auc:0.5095\n",
      "Fit finished.\n",
      "epoch:   0 loss:0.787185 auc:0.5140\n",
      "epoch:  20 loss:0.581820 auc:0.7991\n",
      "epoch:  40 loss:0.476902 auc:0.6588\n",
      "epoch:  60 loss:0.392417 auc:0.6970\n",
      "epoch:  80 loss:0.354798 auc:0.7015\n",
      "epoch: 100 loss:0.337523 auc:0.7138\n",
      "epoch: 120 loss:0.328116 auc:0.7194\n",
      "epoch: 140 loss:0.322394 auc:0.7262\n",
      "epoch: 160 loss:0.318628 auc:0.7284\n"
     ]
    },
    {
     "name": "stderr",
     "output_type": "stream",
     "text": [
      " 28%|██▊       | 277/1005 [37:21<1:35:56,  7.91s/it]"
     ]
    },
    {
     "name": "stdout",
     "output_type": "stream",
     "text": [
      "epoch: 180 loss:0.316009 auc:0.7262\n",
      "Fit finished.\n",
      "epoch:   0 loss:0.771040 auc:0.4287\n",
      "epoch:  20 loss:0.581261 auc:0.7048\n",
      "epoch:  40 loss:0.494085 auc:0.3869\n",
      "epoch:  60 loss:0.409186 auc:0.3473\n",
      "epoch:  80 loss:0.366619 auc:0.3054\n",
      "epoch: 100 loss:0.344517 auc:0.2885\n",
      "epoch: 120 loss:0.332136 auc:0.2794\n",
      "epoch: 140 loss:0.324917 auc:0.2749\n"
     ]
    },
    {
     "name": "stderr",
     "output_type": "stream",
     "text": [
      " 28%|██▊       | 278/1005 [37:28<1:32:43,  7.65s/it]"
     ]
    },
    {
     "name": "stdout",
     "output_type": "stream",
     "text": [
      "epoch: 160 loss:0.320405 auc:0.2749\n",
      "Fit finished.\n",
      "epoch:   0 loss:0.810931 auc:0.4468\n",
      "epoch:  20 loss:0.604284 auc:0.7847\n",
      "epoch:  40 loss:0.548153 auc:0.8067\n",
      "epoch:  60 loss:0.448310 auc:0.7870\n",
      "epoch:  80 loss:0.385638 auc:0.7801\n",
      "epoch: 100 loss:0.356272 auc:0.7569\n",
      "epoch: 120 loss:0.340299 auc:0.7396\n",
      "epoch: 140 loss:0.330976 auc:0.7350\n",
      "epoch: 160 loss:0.325105 auc:0.7303\n"
     ]
    },
    {
     "name": "stderr",
     "output_type": "stream",
     "text": [
      " 28%|██▊       | 279/1005 [37:36<1:33:27,  7.72s/it]"
     ]
    },
    {
     "name": "stdout",
     "output_type": "stream",
     "text": [
      "epoch: 180 loss:0.321101 auc:0.7303\n",
      "Fit finished.\n",
      "epoch:   0 loss:0.790636 auc:0.5775\n",
      "epoch:  20 loss:0.571779 auc:0.8113\n",
      "epoch:  40 loss:0.459284 auc:0.7859\n",
      "epoch:  60 loss:0.384234 auc:0.6991\n",
      "epoch:  80 loss:0.350358 auc:0.7118\n",
      "epoch: 100 loss:0.334188 auc:0.6944\n",
      "epoch: 120 loss:0.325281 auc:0.6782\n",
      "epoch: 140 loss:0.319985 auc:0.6690\n",
      "epoch: 160 loss:0.316633 auc:0.6493\n"
     ]
    },
    {
     "name": "stderr",
     "output_type": "stream",
     "text": [
      " 28%|██▊       | 280/1005 [37:44<1:32:59,  7.70s/it]"
     ]
    },
    {
     "name": "stdout",
     "output_type": "stream",
     "text": [
      "epoch: 180 loss:0.314369 auc:0.6447\n",
      "Fit finished.\n",
      "epoch:   0 loss:0.817840 auc:0.4247\n",
      "epoch:  20 loss:0.582087 auc:0.7806\n",
      "epoch:  40 loss:0.487320 auc:0.7844\n",
      "epoch:  60 loss:0.409645 auc:0.7602\n",
      "epoch:  80 loss:0.368126 auc:0.7577\n",
      "epoch: 100 loss:0.346586 auc:0.7564\n",
      "epoch: 120 loss:0.334245 auc:0.7679\n",
      "epoch: 140 loss:0.326651 auc:0.7730\n",
      "epoch: 160 loss:0.321667 auc:0.7730\n"
     ]
    },
    {
     "name": "stderr",
     "output_type": "stream",
     "text": [
      " 28%|██▊       | 281/1005 [37:52<1:34:53,  7.86s/it]"
     ]
    },
    {
     "name": "stdout",
     "output_type": "stream",
     "text": [
      "epoch: 180 loss:0.318226 auc:0.7755\n",
      "Fit finished.\n",
      "epoch:   0 loss:0.780647 auc:0.4777\n",
      "epoch:  20 loss:0.561656 auc:0.3616\n",
      "epoch:  40 loss:0.444986 auc:0.3363\n",
      "epoch:  60 loss:0.380250 auc:0.3452\n",
      "epoch:  80 loss:0.348583 auc:0.3051\n",
      "epoch: 100 loss:0.332912 auc:0.2753\n",
      "epoch: 120 loss:0.324316 auc:0.2649\n",
      "epoch: 140 loss:0.319324 auc:0.2664\n"
     ]
    },
    {
     "name": "stderr",
     "output_type": "stream",
     "text": [
      " 28%|██▊       | 282/1005 [37:59<1:32:50,  7.70s/it]"
     ]
    },
    {
     "name": "stdout",
     "output_type": "stream",
     "text": [
      "epoch: 160 loss:0.316173 auc:0.2693\n",
      "Fit finished.\n",
      "epoch:   0 loss:0.788025 auc:0.5889\n",
      "epoch:  20 loss:0.598151 auc:0.6430\n",
      "epoch:  40 loss:0.524167 auc:0.6839\n",
      "epoch:  60 loss:0.434626 auc:0.7139\n",
      "epoch:  80 loss:0.382888 auc:0.7139\n",
      "epoch: 100 loss:0.354239 auc:0.7031\n",
      "epoch: 120 loss:0.339120 auc:0.7019\n",
      "epoch: 140 loss:0.330269 auc:0.6995\n",
      "epoch: 160 loss:0.324560 auc:0.7079\n",
      "epoch: 180 loss:0.320606 auc:0.7055\n",
      "epoch: 200 loss:0.317734 auc:0.6995\n"
     ]
    },
    {
     "name": "stderr",
     "output_type": "stream",
     "text": [
      " 28%|██▊       | 283/1005 [38:08<1:36:17,  8.00s/it]"
     ]
    },
    {
     "name": "stdout",
     "output_type": "stream",
     "text": [
      "epoch: 220 loss:0.315576 auc:0.7019\n",
      "Fit finished.\n",
      "epoch:   0 loss:0.779666 auc:0.4545\n",
      "epoch:  20 loss:0.576874 auc:0.7273\n",
      "epoch:  40 loss:0.474584 auc:0.4364\n",
      "epoch:  60 loss:0.392748 auc:0.6000\n",
      "epoch:  80 loss:0.354763 auc:0.5818\n",
      "epoch: 100 loss:0.336550 auc:0.6364\n",
      "epoch: 120 loss:0.326890 auc:0.6909\n",
      "epoch: 140 loss:0.321287 auc:0.6909\n",
      "epoch: 160 loss:0.317732 auc:0.7091\n"
     ]
    },
    {
     "name": "stderr",
     "output_type": "stream",
     "text": [
      " 28%|██▊       | 284/1005 [38:17<1:39:14,  8.26s/it]"
     ]
    },
    {
     "name": "stdout",
     "output_type": "stream",
     "text": [
      "epoch: 180 loss:0.315316 auc:0.7091\n",
      "Fit finished.\n",
      "epoch:   0 loss:0.790021 auc:0.5014\n",
      "epoch:  20 loss:0.581576 auc:0.6039\n",
      "epoch:  40 loss:0.494632 auc:0.7230\n",
      "epoch:  60 loss:0.412157 auc:0.8199\n",
      "epoch:  80 loss:0.369287 auc:0.8366\n",
      "epoch: 100 loss:0.348068 auc:0.8421\n",
      "epoch: 120 loss:0.335641 auc:0.8476\n",
      "epoch: 140 loss:0.327881 auc:0.8393\n",
      "epoch: 160 loss:0.322774 auc:0.8393\n",
      "epoch: 180 loss:0.319283 auc:0.8366\n",
      "epoch: 200 loss:0.316782 auc:0.8310\n",
      "epoch: 220 loss:0.314901 auc:0.8338\n"
     ]
    },
    {
     "name": "stderr",
     "output_type": "stream",
     "text": [
      " 28%|██▊       | 285/1005 [38:27<1:46:44,  8.90s/it]"
     ]
    },
    {
     "name": "stdout",
     "output_type": "stream",
     "text": [
      "epoch: 240 loss:0.313453 auc:0.8255\n",
      "Fit finished.\n",
      "epoch:   0 loss:0.868998 auc:0.4005\n",
      "epoch:  20 loss:0.597677 auc:0.7836\n",
      "epoch:  40 loss:0.531281 auc:0.8160\n",
      "epoch:  60 loss:0.431119 auc:0.7766\n",
      "epoch:  80 loss:0.376961 auc:0.7731\n",
      "epoch: 100 loss:0.349986 auc:0.7604\n",
      "epoch: 120 loss:0.335788 auc:0.7465\n",
      "epoch: 140 loss:0.327515 auc:0.7338\n",
      "epoch: 160 loss:0.322288 auc:0.7164\n"
     ]
    },
    {
     "name": "stderr",
     "output_type": "stream",
     "text": [
      " 28%|██▊       | 286/1005 [38:35<1:40:41,  8.40s/it]"
     ]
    },
    {
     "name": "stdout",
     "output_type": "stream",
     "text": [
      "epoch: 180 loss:0.318736 auc:0.7072\n",
      "Fit finished.\n",
      "epoch:   0 loss:0.783829 auc:0.4911\n",
      "epoch:  20 loss:0.591407 auc:0.5171\n",
      "epoch:  40 loss:0.536663 auc:0.5021\n",
      "epoch:  60 loss:0.429166 auc:0.5103\n",
      "epoch:  80 loss:0.372197 auc:0.4746\n",
      "epoch: 100 loss:0.347374 auc:0.4733\n",
      "epoch: 120 loss:0.334322 auc:0.4650\n",
      "epoch: 140 loss:0.326462 auc:0.4636\n"
     ]
    },
    {
     "name": "stderr",
     "output_type": "stream",
     "text": [
      " 29%|██▊       | 287/1005 [38:41<1:33:03,  7.78s/it]"
     ]
    },
    {
     "name": "stdout",
     "output_type": "stream",
     "text": [
      "epoch: 160 loss:0.321366 auc:0.4609\n",
      "Fit finished.\n",
      "epoch:   0 loss:0.796159 auc:0.4548\n",
      "epoch:  20 loss:0.579618 auc:0.7485\n",
      "epoch:  40 loss:0.474440 auc:0.5758\n",
      "epoch:  60 loss:0.389186 auc:0.6439\n",
      "epoch:  80 loss:0.352758 auc:0.6533\n",
      "epoch: 100 loss:0.335867 auc:0.6428\n",
      "epoch: 120 loss:0.326579 auc:0.6322\n",
      "epoch: 140 loss:0.320985 auc:0.6287\n",
      "epoch: 160 loss:0.317384 auc:0.6228\n"
     ]
    },
    {
     "name": "stderr",
     "output_type": "stream",
     "text": [
      " 29%|██▊       | 288/1005 [38:47<1:27:28,  7.32s/it]"
     ]
    },
    {
     "name": "stdout",
     "output_type": "stream",
     "text": [
      "epoch: 180 loss:0.314925 auc:0.6275\n",
      "Fit finished.\n",
      "epoch:   0 loss:0.818725 auc:0.8194\n",
      "epoch:  20 loss:0.595666 auc:0.9028\n",
      "epoch:  40 loss:0.547607 auc:0.8889\n",
      "epoch:  60 loss:0.450504 auc:0.8403\n",
      "epoch:  80 loss:0.388673 auc:0.8403\n",
      "epoch: 100 loss:0.357745 auc:0.8194\n",
      "epoch: 120 loss:0.341082 auc:0.7986\n",
      "epoch: 140 loss:0.331285 auc:0.7986\n"
     ]
    },
    {
     "name": "stderr",
     "output_type": "stream",
     "text": [
      " 29%|██▉       | 289/1005 [38:53<1:23:15,  6.98s/it]"
     ]
    },
    {
     "name": "stdout",
     "output_type": "stream",
     "text": [
      "epoch: 160 loss:0.325166 auc:0.7917\n",
      "Fit finished.\n",
      "epoch:   0 loss:0.777144 auc:0.3813\n",
      "epoch:  20 loss:0.596745 auc:0.7062\n",
      "epoch:  40 loss:0.521731 auc:0.5599\n",
      "epoch:  60 loss:0.429987 auc:0.5461\n",
      "epoch:  80 loss:0.378183 auc:0.5668\n",
      "epoch: 100 loss:0.352599 auc:0.5783\n",
      "epoch: 120 loss:0.337844 auc:0.5714\n",
      "epoch: 140 loss:0.328965 auc:0.5714\n",
      "epoch: 160 loss:0.323331 auc:0.5772\n"
     ]
    },
    {
     "name": "stderr",
     "output_type": "stream",
     "text": [
      " 29%|██▉       | 290/1005 [39:00<1:22:38,  6.93s/it]"
     ]
    },
    {
     "name": "stdout",
     "output_type": "stream",
     "text": [
      "epoch: 180 loss:0.319511 auc:0.5841\n",
      "Fit finished.\n",
      "epoch:   0 loss:0.789353 auc:0.4626\n",
      "epoch:  20 loss:0.574002 auc:0.7202\n",
      "epoch:  40 loss:0.453380 auc:0.4958\n",
      "epoch:  60 loss:0.376041 auc:0.4598\n",
      "epoch:  80 loss:0.344274 auc:0.4294\n",
      "epoch: 100 loss:0.329857 auc:0.4211\n",
      "epoch: 120 loss:0.322446 auc:0.3989\n",
      "epoch: 140 loss:0.318061 auc:0.3823\n"
     ]
    },
    {
     "name": "stderr",
     "output_type": "stream",
     "text": [
      " 29%|██▉       | 291/1005 [39:07<1:23:05,  6.98s/it]"
     ]
    },
    {
     "name": "stdout",
     "output_type": "stream",
     "text": [
      "epoch: 160 loss:0.315212 auc:0.3823\n",
      "Fit finished.\n",
      "epoch:   0 loss:0.782852 auc:0.3743\n",
      "epoch:  20 loss:0.586628 auc:0.5414\n",
      "epoch:  40 loss:0.497873 auc:0.5488\n",
      "epoch:  60 loss:0.414125 auc:0.5370\n",
      "epoch:  80 loss:0.369045 auc:0.5607\n",
      "epoch: 100 loss:0.345718 auc:0.5666\n",
      "epoch: 120 loss:0.333250 auc:0.5754\n",
      "epoch: 140 loss:0.325860 auc:0.5710\n",
      "epoch: 160 loss:0.321076 auc:0.5695\n",
      "epoch: 180 loss:0.317808 auc:0.5695\n",
      "epoch: 200 loss:0.315488 auc:0.5710\n",
      "epoch: 220 loss:0.313780 auc:0.5710\n",
      "epoch: 240 loss:0.312484 auc:0.5725\n",
      "epoch: 260 loss:0.311473 auc:0.5725\n"
     ]
    },
    {
     "name": "stderr",
     "output_type": "stream",
     "text": [
      " 29%|██▉       | 292/1005 [39:17<1:31:17,  7.68s/it]"
     ]
    },
    {
     "name": "stdout",
     "output_type": "stream",
     "text": [
      "epoch: 280 loss:0.310668 auc:0.5725\n",
      "Fit finished.\n",
      "epoch:   0 loss:0.787871 auc:0.5265\n",
      "epoch:  20 loss:0.587447 auc:0.6717\n",
      "epoch:  40 loss:0.500495 auc:0.7293\n",
      "epoch:  60 loss:0.408962 auc:0.6912\n",
      "epoch:  80 loss:0.363287 auc:0.6659\n",
      "epoch: 100 loss:0.341728 auc:0.6555\n",
      "epoch: 120 loss:0.330447 auc:0.6463\n",
      "epoch: 140 loss:0.323789 auc:0.6371\n",
      "epoch: 160 loss:0.319473 auc:0.6267\n"
     ]
    },
    {
     "name": "stderr",
     "output_type": "stream",
     "text": [
      " 29%|██▉       | 293/1005 [39:23<1:27:51,  7.40s/it]"
     ]
    },
    {
     "name": "stdout",
     "output_type": "stream",
     "text": [
      "epoch: 180 loss:0.316525 auc:0.6256\n",
      "Fit finished.\n",
      "epoch:   0 loss:0.788629 auc:0.5938\n",
      "epoch:  20 loss:0.562338 auc:0.6111\n",
      "epoch:  40 loss:0.441615 auc:0.5781\n",
      "epoch:  60 loss:0.371335 auc:0.5451\n",
      "epoch:  80 loss:0.342954 auc:0.5330\n",
      "epoch: 100 loss:0.329820 auc:0.5278\n",
      "epoch: 120 loss:0.322567 auc:0.5295\n",
      "epoch: 140 loss:0.318140 auc:0.5243\n"
     ]
    },
    {
     "name": "stderr",
     "output_type": "stream",
     "text": [
      " 29%|██▉       | 294/1005 [39:30<1:24:01,  7.09s/it]"
     ]
    },
    {
     "name": "stdout",
     "output_type": "stream",
     "text": [
      "epoch: 160 loss:0.315282 auc:0.5260\n",
      "Fit finished.\n",
      "epoch:   0 loss:0.779413 auc:0.5122\n",
      "epoch:  20 loss:0.580626 auc:0.8189\n",
      "epoch:  40 loss:0.473598 auc:0.7889\n",
      "epoch:  60 loss:0.387206 auc:0.7544\n",
      "epoch:  80 loss:0.351931 auc:0.7556\n",
      "epoch: 100 loss:0.335443 auc:0.7422\n",
      "epoch: 120 loss:0.326562 auc:0.7522\n",
      "epoch: 140 loss:0.321172 auc:0.7567\n",
      "epoch: 160 loss:0.317603 auc:0.7589\n"
     ]
    },
    {
     "name": "stderr",
     "output_type": "stream",
     "text": [
      " 29%|██▉       | 295/1005 [39:36<1:21:20,  6.87s/it]"
     ]
    },
    {
     "name": "stdout",
     "output_type": "stream",
     "text": [
      "epoch: 180 loss:0.315101 auc:0.7556\n",
      "Fit finished.\n",
      "epoch:   0 loss:0.804737 auc:0.4887\n",
      "epoch:  20 loss:0.587662 auc:0.6397\n",
      "epoch:  40 loss:0.497874 auc:0.6254\n",
      "epoch:  60 loss:0.409128 auc:0.5648\n",
      "epoch:  80 loss:0.365062 auc:0.5493\n",
      "epoch: 100 loss:0.343147 auc:0.5351\n",
      "epoch: 120 loss:0.331595 auc:0.5327\n",
      "epoch: 140 loss:0.324787 auc:0.5327\n",
      "epoch: 160 loss:0.320309 auc:0.5291\n"
     ]
    },
    {
     "name": "stderr",
     "output_type": "stream",
     "text": [
      " 29%|██▉       | 296/1005 [39:43<1:22:31,  6.98s/it]"
     ]
    },
    {
     "name": "stdout",
     "output_type": "stream",
     "text": [
      "epoch: 180 loss:0.317157 auc:0.5232\n",
      "Fit finished.\n",
      "epoch:   0 loss:0.771295 auc:0.5522\n",
      "epoch:  20 loss:0.578127 auc:0.6844\n",
      "epoch:  40 loss:0.470944 auc:0.6889\n",
      "epoch:  60 loss:0.393841 auc:0.6767\n",
      "epoch:  80 loss:0.356505 auc:0.6544\n",
      "epoch: 100 loss:0.338233 auc:0.6178\n",
      "epoch: 120 loss:0.328357 auc:0.6022\n",
      "epoch: 140 loss:0.322433 auc:0.5867\n",
      "epoch: 160 loss:0.318575 auc:0.5844\n"
     ]
    },
    {
     "name": "stderr",
     "output_type": "stream",
     "text": [
      " 30%|██▉       | 297/1005 [39:51<1:23:22,  7.07s/it]"
     ]
    },
    {
     "name": "stdout",
     "output_type": "stream",
     "text": [
      "epoch: 180 loss:0.315911 auc:0.5811\n",
      "Fit finished.\n",
      "epoch:   0 loss:0.783727 auc:0.6200\n",
      "epoch:  20 loss:0.560331 auc:0.7288\n",
      "epoch:  40 loss:0.425642 auc:0.7800\n",
      "epoch:  60 loss:0.361518 auc:0.7350\n",
      "epoch:  80 loss:0.337275 auc:0.7163\n",
      "epoch: 100 loss:0.326322 auc:0.7212\n",
      "epoch: 120 loss:0.320274 auc:0.7125\n",
      "epoch: 140 loss:0.316496 auc:0.7062\n",
      "epoch: 160 loss:0.314020 auc:0.7037\n"
     ]
    },
    {
     "name": "stderr",
     "output_type": "stream",
     "text": [
      " 30%|██▉       | 298/1005 [39:57<1:21:42,  6.93s/it]"
     ]
    },
    {
     "name": "stdout",
     "output_type": "stream",
     "text": [
      "epoch: 180 loss:0.312333 auc:0.7025\n",
      "Fit finished.\n",
      "epoch:   0 loss:0.790104 auc:0.3287\n",
      "epoch:  20 loss:0.591843 auc:0.6850\n",
      "epoch:  40 loss:0.515185 auc:0.2725\n",
      "epoch:  60 loss:0.418030 auc:0.2850\n",
      "epoch:  80 loss:0.369496 auc:0.2775\n",
      "epoch: 100 loss:0.346252 auc:0.2937\n",
      "epoch: 120 loss:0.333542 auc:0.3025\n",
      "epoch: 140 loss:0.326074 auc:0.3137\n"
     ]
    },
    {
     "name": "stderr",
     "output_type": "stream",
     "text": [
      " 30%|██▉       | 299/1005 [40:04<1:19:14,  6.73s/it]"
     ]
    },
    {
     "name": "stdout",
     "output_type": "stream",
     "text": [
      "epoch: 160 loss:0.321310 auc:0.3113\n",
      "Fit finished.\n",
      "epoch:   0 loss:0.794901 auc:0.6719\n",
      "epoch:  20 loss:0.593631 auc:0.8937\n",
      "epoch:  40 loss:0.502592 auc:0.9231\n",
      "epoch:  60 loss:0.420255 auc:0.9434\n",
      "epoch:  80 loss:0.375417 auc:0.9299\n",
      "epoch: 100 loss:0.349948 auc:0.9253\n",
      "epoch: 120 loss:0.335603 auc:0.9186\n",
      "epoch: 140 loss:0.327207 auc:0.9140\n",
      "epoch: 160 loss:0.321936 auc:0.9106\n",
      "epoch: 180 loss:0.318427 auc:0.9140\n"
     ]
    },
    {
     "name": "stderr",
     "output_type": "stream",
     "text": [
      " 30%|██▉       | 300/1005 [40:11<1:21:08,  6.91s/it]"
     ]
    },
    {
     "name": "stdout",
     "output_type": "stream",
     "text": [
      "epoch: 200 loss:0.315961 auc:0.9084\n",
      "Fit finished.\n",
      "epoch:   0 loss:0.796386 auc:0.5560\n",
      "epoch:  20 loss:0.588656 auc:0.8235\n",
      "epoch:  40 loss:0.500032 auc:0.8711\n",
      "epoch:  60 loss:0.409536 auc:0.9006\n",
      "epoch:  80 loss:0.365879 auc:0.9118\n",
      "epoch: 100 loss:0.344165 auc:0.9076\n",
      "epoch: 120 loss:0.332802 auc:0.8950\n",
      "epoch: 140 loss:0.325938 auc:0.8936\n",
      "epoch: 160 loss:0.321339 auc:0.8880\n",
      "epoch: 180 loss:0.318087 auc:0.8838\n",
      "epoch: 200 loss:0.315724 auc:0.8739\n"
     ]
    },
    {
     "name": "stderr",
     "output_type": "stream",
     "text": [
      " 30%|██▉       | 301/1005 [40:19<1:25:43,  7.31s/it]"
     ]
    },
    {
     "name": "stdout",
     "output_type": "stream",
     "text": [
      "epoch: 220 loss:0.313956 auc:0.8739\n",
      "Fit finished.\n",
      "epoch:   0 loss:0.785871 auc:0.5374\n",
      "epoch:  20 loss:0.583623 auc:0.5420\n",
      "epoch:  40 loss:0.487886 auc:0.4966\n",
      "epoch:  60 loss:0.398155 auc:0.5125\n",
      "epoch:  80 loss:0.356060 auc:0.5306\n",
      "epoch: 100 loss:0.336547 auc:0.5215\n",
      "epoch: 120 loss:0.326813 auc:0.5079\n",
      "epoch: 140 loss:0.321257 auc:0.5034\n"
     ]
    },
    {
     "name": "stderr",
     "output_type": "stream",
     "text": [
      " 30%|███       | 302/1005 [40:25<1:21:33,  6.96s/it]"
     ]
    },
    {
     "name": "stdout",
     "output_type": "stream",
     "text": [
      "epoch: 160 loss:0.317726 auc:0.5079\n",
      "Fit finished.\n",
      "epoch:   0 loss:0.803835 auc:0.4509\n",
      "epoch:  20 loss:0.595416 auc:0.5504\n",
      "epoch:  40 loss:0.516481 auc:0.5885\n",
      "epoch:  60 loss:0.430248 auc:0.6229\n",
      "epoch:  80 loss:0.378133 auc:0.6241\n",
      "epoch: 100 loss:0.351115 auc:0.6413\n",
      "epoch: 120 loss:0.337023 auc:0.6425\n",
      "epoch: 140 loss:0.328873 auc:0.6376\n",
      "epoch: 160 loss:0.323624 auc:0.6364\n",
      "epoch: 180 loss:0.319963 auc:0.6278\n",
      "epoch: 200 loss:0.317271 auc:0.6229\n"
     ]
    },
    {
     "name": "stderr",
     "output_type": "stream",
     "text": [
      " 30%|███       | 303/1005 [40:33<1:25:02,  7.27s/it]"
     ]
    },
    {
     "name": "stdout",
     "output_type": "stream",
     "text": [
      "epoch: 220 loss:0.315218 auc:0.6179\n",
      "Fit finished.\n",
      "epoch:   0 loss:0.834180 auc:0.5102\n",
      "epoch:  20 loss:0.594282 auc:0.5692\n",
      "epoch:  40 loss:0.522782 auc:0.6077\n",
      "epoch:  60 loss:0.423063 auc:0.6531\n",
      "epoch:  80 loss:0.371783 auc:0.6735\n",
      "epoch: 100 loss:0.345921 auc:0.6803\n",
      "epoch: 120 loss:0.332704 auc:0.6757\n",
      "epoch: 140 loss:0.325306 auc:0.6735\n",
      "epoch: 160 loss:0.320657 auc:0.6848\n",
      "epoch: 180 loss:0.317495 auc:0.6961\n",
      "epoch: 200 loss:0.315230 auc:0.6916\n",
      "epoch: 220 loss:0.313554 auc:0.6961\n",
      "epoch: 240 loss:0.312279 auc:0.7007\n",
      "epoch: 260 loss:0.311292 auc:0.7052\n",
      "epoch: 280 loss:0.310515 auc:0.7052\n",
      "epoch: 300 loss:0.309890 auc:0.7052\n",
      "epoch: 320 loss:0.309383 auc:0.7029\n",
      "epoch: 340 loss:0.308969 auc:0.7007\n",
      "epoch: 360 loss:0.308628 auc:0.6984\n",
      "epoch: 380 loss:0.308347 auc:0.6961\n"
     ]
    },
    {
     "name": "stderr",
     "output_type": "stream",
     "text": [
      " 30%|███       | 305/1005 [40:47<1:22:01,  7.03s/it]"
     ]
    },
    {
     "name": "stdout",
     "output_type": "stream",
     "text": [
      "epoch: 400 loss:0.308116 auc:0.6984\n",
      "Fit finished.\n",
      "epoch:   0 loss:0.781579 auc:0.5952\n",
      "epoch:  20 loss:0.570689 auc:0.4671\n",
      "epoch:  40 loss:0.451427 auc:0.3253\n",
      "epoch:  60 loss:0.378580 auc:0.3114\n",
      "epoch:  80 loss:0.347268 auc:0.3114\n",
      "epoch: 100 loss:0.332031 auc:0.3183\n",
      "epoch: 120 loss:0.323923 auc:0.3287\n",
      "epoch: 140 loss:0.319140 auc:0.3114\n"
     ]
    },
    {
     "name": "stderr",
     "output_type": "stream",
     "text": [
      " 30%|███       | 306/1005 [40:53<1:21:09,  6.97s/it]"
     ]
    },
    {
     "name": "stdout",
     "output_type": "stream",
     "text": [
      "epoch: 160 loss:0.316036 auc:0.3149\n",
      "Fit finished.\n",
      "epoch:   0 loss:0.796831 auc:0.5418\n",
      "epoch:  20 loss:0.564790 auc:0.5048\n",
      "epoch:  40 loss:0.443816 auc:0.4444\n",
      "epoch:  60 loss:0.371462 auc:0.4609\n",
      "epoch:  80 loss:0.342474 auc:0.4664\n",
      "epoch: 100 loss:0.329250 auc:0.4746\n",
      "epoch: 120 loss:0.322107 auc:0.4705\n",
      "epoch: 140 loss:0.317783 auc:0.4760\n"
     ]
    },
    {
     "name": "stderr",
     "output_type": "stream",
     "text": [
      " 31%|███       | 307/1005 [41:00<1:19:47,  6.86s/it]"
     ]
    },
    {
     "name": "stdout",
     "output_type": "stream",
     "text": [
      "epoch: 160 loss:0.314939 auc:0.4650\n",
      "Fit finished.\n",
      "epoch:   0 loss:0.787164 auc:0.4909\n",
      "epoch:  20 loss:0.594046 auc:0.6221\n",
      "epoch:  40 loss:0.515985 auc:0.6091\n",
      "epoch:  60 loss:0.425204 auc:0.5766\n",
      "epoch:  80 loss:0.375812 auc:0.6013\n",
      "epoch: 100 loss:0.351338 auc:0.6117\n",
      "epoch: 120 loss:0.337546 auc:0.6169\n",
      "epoch: 140 loss:0.328927 auc:0.6247\n",
      "epoch: 160 loss:0.323323 auc:0.6260\n"
     ]
    },
    {
     "name": "stderr",
     "output_type": "stream",
     "text": [
      " 31%|███       | 309/1005 [41:07<1:03:47,  5.50s/it]"
     ]
    },
    {
     "name": "stdout",
     "output_type": "stream",
     "text": [
      "epoch: 180 loss:0.319508 auc:0.6208\n",
      "Fit finished.\n",
      "epoch:   0 loss:0.831297 auc:0.6059\n",
      "epoch:  20 loss:0.600216 auc:0.6424\n",
      "epoch:  40 loss:0.534297 auc:0.6788\n",
      "epoch:  60 loss:0.443016 auc:0.6285\n",
      "epoch:  80 loss:0.389218 auc:0.6233\n",
      "epoch: 100 loss:0.358599 auc:0.5677\n",
      "epoch: 120 loss:0.341879 auc:0.5174\n",
      "epoch: 140 loss:0.332098 auc:0.4948\n"
     ]
    },
    {
     "name": "stderr",
     "output_type": "stream",
     "text": [
      " 31%|███       | 310/1005 [41:14<1:05:49,  5.68s/it]"
     ]
    },
    {
     "name": "stdout",
     "output_type": "stream",
     "text": [
      "epoch: 160 loss:0.325848 auc:0.4774\n",
      "Fit finished.\n",
      "epoch:   0 loss:0.864499 auc:0.2736\n",
      "epoch:  20 loss:0.595608 auc:0.5536\n",
      "epoch:  40 loss:0.524225 auc:0.5440\n",
      "epoch:  60 loss:0.429824 auc:0.5088\n",
      "epoch:  80 loss:0.377724 auc:0.5024\n",
      "epoch: 100 loss:0.352117 auc:0.5040\n",
      "epoch: 120 loss:0.337644 auc:0.5008\n",
      "epoch: 140 loss:0.328816 auc:0.4944\n",
      "epoch: 160 loss:0.323171 auc:0.4960\n"
     ]
    },
    {
     "name": "stderr",
     "output_type": "stream",
     "text": [
      " 31%|███       | 311/1005 [41:21<1:10:10,  6.07s/it]"
     ]
    },
    {
     "name": "stdout",
     "output_type": "stream",
     "text": [
      "epoch: 180 loss:0.319368 auc:0.4960\n",
      "Fit finished.\n",
      "epoch:   0 loss:0.832390 auc:0.6612\n",
      "epoch:  20 loss:0.596865 auc:0.7722\n",
      "epoch:  40 loss:0.528592 auc:0.6716\n",
      "epoch:  60 loss:0.431154 auc:0.5533\n",
      "epoch:  80 loss:0.378683 auc:0.6050\n",
      "epoch: 100 loss:0.350938 auc:0.6139\n",
      "epoch: 120 loss:0.336548 auc:0.6095\n",
      "epoch: 140 loss:0.328313 auc:0.6124\n"
     ]
    },
    {
     "name": "stderr",
     "output_type": "stream",
     "text": [
      " 31%|███       | 312/1005 [41:27<1:09:45,  6.04s/it]"
     ]
    },
    {
     "name": "stdout",
     "output_type": "stream",
     "text": [
      "epoch: 160 loss:0.323097 auc:0.6006\n",
      "Fit finished.\n",
      "epoch:   0 loss:0.778891 auc:0.4015\n",
      "epoch:  20 loss:0.573330 auc:0.7298\n",
      "epoch:  40 loss:0.462828 auc:0.7096\n",
      "epoch:  60 loss:0.385101 auc:0.7336\n",
      "epoch:  80 loss:0.350501 auc:0.7159\n",
      "epoch: 100 loss:0.334124 auc:0.7184\n",
      "epoch: 120 loss:0.325369 auc:0.7210\n",
      "epoch: 140 loss:0.320224 auc:0.7159\n",
      "epoch: 160 loss:0.316969 auc:0.7159\n"
     ]
    },
    {
     "name": "stderr",
     "output_type": "stream",
     "text": [
      " 31%|███       | 313/1005 [41:34<1:13:10,  6.34s/it]"
     ]
    },
    {
     "name": "stdout",
     "output_type": "stream",
     "text": [
      "epoch: 180 loss:0.314757 auc:0.7210\n",
      "Fit finished.\n",
      "epoch:   0 loss:0.818126 auc:0.5979\n",
      "epoch:  20 loss:0.575417 auc:0.7238\n",
      "epoch:  40 loss:0.469549 auc:0.7203\n",
      "epoch:  60 loss:0.392202 auc:0.6678\n",
      "epoch:  80 loss:0.356653 auc:0.6515\n",
      "epoch: 100 loss:0.338205 auc:0.6503\n",
      "epoch: 120 loss:0.327921 auc:0.6387\n",
      "epoch: 140 loss:0.321784 auc:0.6329\n",
      "epoch: 160 loss:0.317838 auc:0.6247\n"
     ]
    },
    {
     "name": "stderr",
     "output_type": "stream",
     "text": [
      " 31%|███       | 314/1005 [41:40<1:13:24,  6.37s/it]"
     ]
    },
    {
     "name": "stdout",
     "output_type": "stream",
     "text": [
      "epoch: 180 loss:0.315168 auc:0.6119\n",
      "Fit finished.\n",
      "epoch:   0 loss:0.792911 auc:0.4649\n",
      "epoch:  20 loss:0.588499 auc:0.5731\n",
      "epoch:  40 loss:0.495121 auc:0.5719\n",
      "epoch:  60 loss:0.414030 auc:0.5589\n",
      "epoch:  80 loss:0.370927 auc:0.5743\n",
      "epoch: 100 loss:0.347892 auc:0.5684\n",
      "epoch: 120 loss:0.335006 auc:0.5589\n",
      "epoch: 140 loss:0.327144 auc:0.5541\n",
      "epoch: 160 loss:0.322008 auc:0.5482\n"
     ]
    },
    {
     "name": "stderr",
     "output_type": "stream",
     "text": [
      " 31%|███▏      | 315/1005 [41:48<1:15:49,  6.59s/it]"
     ]
    },
    {
     "name": "stdout",
     "output_type": "stream",
     "text": [
      "epoch: 180 loss:0.318489 auc:0.5470\n",
      "Fit finished.\n",
      "epoch:   0 loss:0.793205 auc:0.5600\n",
      "epoch:  20 loss:0.591098 auc:0.6827\n",
      "epoch:  40 loss:0.509244 auc:0.5173\n",
      "epoch:  60 loss:0.426201 auc:0.5520\n",
      "epoch:  80 loss:0.377063 auc:0.5773\n",
      "epoch: 100 loss:0.351070 auc:0.5587\n",
      "epoch: 120 loss:0.336953 auc:0.5693\n",
      "epoch: 140 loss:0.328443 auc:0.5680\n",
      "epoch: 160 loss:0.322871 auc:0.5640\n"
     ]
    },
    {
     "name": "stderr",
     "output_type": "stream",
     "text": [
      " 31%|███▏      | 316/1005 [41:54<1:15:37,  6.59s/it]"
     ]
    },
    {
     "name": "stdout",
     "output_type": "stream",
     "text": [
      "epoch: 180 loss:0.319029 auc:0.5613\n",
      "Fit finished.\n",
      "epoch:   0 loss:0.805654 auc:0.4765\n",
      "epoch:  20 loss:0.596268 auc:0.5402\n",
      "epoch:  40 loss:0.518826 auc:0.5235\n",
      "epoch:  60 loss:0.428686 auc:0.5485\n",
      "epoch:  80 loss:0.376408 auc:0.5734\n",
      "epoch: 100 loss:0.349824 auc:0.5817\n",
      "epoch: 120 loss:0.335634 auc:0.5762\n",
      "epoch: 140 loss:0.327305 auc:0.5706\n",
      "epoch: 160 loss:0.321972 auc:0.5651\n",
      "epoch: 180 loss:0.318361 auc:0.5540\n",
      "epoch: 200 loss:0.315797 auc:0.5485\n"
     ]
    },
    {
     "name": "stderr",
     "output_type": "stream",
     "text": [
      " 32%|███▏      | 317/1005 [42:03<1:22:05,  7.16s/it]"
     ]
    },
    {
     "name": "stdout",
     "output_type": "stream",
     "text": [
      "epoch: 220 loss:0.313923 auc:0.5402\n",
      "Fit finished.\n",
      "epoch:   0 loss:0.807798 auc:0.4301\n",
      "epoch:  20 loss:0.581393 auc:0.5833\n",
      "epoch:  40 loss:0.480332 auc:0.5938\n",
      "epoch:  60 loss:0.393623 auc:0.5804\n",
      "epoch:  80 loss:0.353678 auc:0.5610\n",
      "epoch: 100 loss:0.335203 auc:0.5506\n",
      "epoch: 120 loss:0.325720 auc:0.5506\n",
      "epoch: 140 loss:0.320220 auc:0.5565\n",
      "epoch: 160 loss:0.316734 auc:0.5595\n"
     ]
    },
    {
     "name": "stderr",
     "output_type": "stream",
     "text": [
      " 32%|███▏      | 318/1005 [42:10<1:21:08,  7.09s/it]"
     ]
    },
    {
     "name": "stdout",
     "output_type": "stream",
     "text": [
      "epoch: 180 loss:0.314367 auc:0.5640\n",
      "Fit finished.\n",
      "epoch:   0 loss:0.783082 auc:0.5734\n",
      "epoch:  20 loss:0.565759 auc:0.6343\n",
      "epoch:  40 loss:0.443730 auc:0.6011\n",
      "epoch:  60 loss:0.374870 auc:0.6510\n",
      "epoch:  80 loss:0.344708 auc:0.6648\n",
      "epoch: 100 loss:0.330864 auc:0.6870\n",
      "epoch: 120 loss:0.323254 auc:0.6953\n",
      "epoch: 140 loss:0.318584 auc:0.7091\n",
      "epoch: 160 loss:0.315535 auc:0.7064\n",
      "epoch: 180 loss:0.313461 auc:0.6842\n",
      "epoch: 200 loss:0.311996 auc:0.6814\n",
      "epoch: 220 loss:0.310927 auc:0.6787\n",
      "epoch: 240 loss:0.310126 auc:0.6731\n"
     ]
    },
    {
     "name": "stderr",
     "output_type": "stream",
     "text": [
      " 32%|███▏      | 319/1005 [42:19<1:27:46,  7.68s/it]"
     ]
    },
    {
     "name": "stdout",
     "output_type": "stream",
     "text": [
      "epoch: 260 loss:0.309518 auc:0.6704\n",
      "Fit finished.\n",
      "epoch:   0 loss:0.785989 auc:0.5062\n",
      "epoch:  20 loss:0.573597 auc:0.5959\n",
      "epoch:  40 loss:0.458100 auc:0.6276\n",
      "epoch:  60 loss:0.381964 auc:0.6400\n",
      "epoch:  80 loss:0.348089 auc:0.6469\n",
      "epoch: 100 loss:0.332256 auc:0.6455\n",
      "epoch: 120 loss:0.323893 auc:0.6414\n",
      "epoch: 140 loss:0.319026 auc:0.6441\n",
      "epoch: 160 loss:0.315931 auc:0.6414\n",
      "epoch: 180 loss:0.313831 auc:0.6414\n",
      "epoch: 200 loss:0.312342 auc:0.6386\n"
     ]
    },
    {
     "name": "stderr",
     "output_type": "stream",
     "text": [
      " 32%|███▏      | 320/1005 [42:27<1:29:55,  7.88s/it]"
     ]
    },
    {
     "name": "stdout",
     "output_type": "stream",
     "text": [
      "epoch: 220 loss:0.311245 auc:0.6359\n",
      "Fit finished.\n",
      "epoch:   0 loss:0.916392 auc:0.6607\n",
      "epoch:  20 loss:0.596317 auc:0.6221\n",
      "epoch:  40 loss:0.547266 auc:0.5972\n",
      "epoch:  60 loss:0.451487 auc:0.5559\n",
      "epoch:  80 loss:0.387175 auc:0.5572\n",
      "epoch: 100 loss:0.357004 auc:0.5600\n",
      "epoch: 120 loss:0.341205 auc:0.5517\n",
      "epoch: 140 loss:0.331982 auc:0.5503\n"
     ]
    },
    {
     "name": "stderr",
     "output_type": "stream",
     "text": [
      " 32%|███▏      | 321/1005 [42:33<1:24:27,  7.41s/it]"
     ]
    },
    {
     "name": "stdout",
     "output_type": "stream",
     "text": [
      "epoch: 160 loss:0.326108 auc:0.5448\n",
      "Fit finished.\n",
      "epoch:   0 loss:0.785263 auc:0.5679\n",
      "epoch:  20 loss:0.586766 auc:0.4875\n",
      "epoch:  40 loss:0.502429 auc:0.4460\n",
      "epoch:  60 loss:0.418109 auc:0.4958\n",
      "epoch:  80 loss:0.373916 auc:0.4903\n",
      "epoch: 100 loss:0.349851 auc:0.4681\n",
      "epoch: 120 loss:0.336532 auc:0.4654\n",
      "epoch: 140 loss:0.328535 auc:0.4681\n"
     ]
    },
    {
     "name": "stderr",
     "output_type": "stream",
     "text": [
      " 32%|███▏      | 322/1005 [42:40<1:21:06,  7.12s/it]"
     ]
    },
    {
     "name": "stdout",
     "output_type": "stream",
     "text": [
      "epoch: 160 loss:0.323243 auc:0.4681\n",
      "Fit finished.\n",
      "epoch:   0 loss:0.844080 auc:0.5709\n",
      "epoch:  20 loss:0.600319 auc:0.5779\n",
      "epoch:  40 loss:0.560913 auc:0.5329\n",
      "epoch:  60 loss:0.471750 auc:0.5709\n",
      "epoch:  80 loss:0.402962 auc:0.5571\n",
      "epoch: 100 loss:0.364988 auc:0.5536\n",
      "epoch: 120 loss:0.345379 auc:0.5398\n",
      "epoch: 140 loss:0.334295 auc:0.5363\n"
     ]
    },
    {
     "name": "stderr",
     "output_type": "stream",
     "text": [
      " 32%|███▏      | 323/1005 [42:46<1:17:45,  6.84s/it]"
     ]
    },
    {
     "name": "stdout",
     "output_type": "stream",
     "text": [
      "epoch: 160 loss:0.327414 auc:0.5329\n",
      "Fit finished.\n",
      "epoch:   0 loss:0.789302 auc:0.4775\n",
      "epoch:  20 loss:0.578343 auc:0.7301\n",
      "epoch:  40 loss:0.467777 auc:0.7128\n",
      "epoch:  60 loss:0.394146 auc:0.7163\n",
      "epoch:  80 loss:0.356287 auc:0.7266\n",
      "epoch: 100 loss:0.337812 auc:0.7370\n",
      "epoch: 120 loss:0.328042 auc:0.7405\n",
      "epoch: 140 loss:0.322194 auc:0.7439\n",
      "epoch: 160 loss:0.318352 auc:0.7509\n",
      "epoch: 180 loss:0.315675 auc:0.7405\n",
      "epoch: 200 loss:0.313735 auc:0.7405\n",
      "epoch: 220 loss:0.312303 auc:0.7439\n",
      "epoch: 240 loss:0.311231 auc:0.7439\n",
      "epoch: 260 loss:0.310420 auc:0.7405\n"
     ]
    },
    {
     "name": "stderr",
     "output_type": "stream",
     "text": [
      " 32%|███▏      | 324/1005 [42:56<1:26:58,  7.66s/it]"
     ]
    },
    {
     "name": "stdout",
     "output_type": "stream",
     "text": [
      "epoch: 280 loss:0.309794 auc:0.7370\n",
      "Fit finished.\n",
      "epoch:   0 loss:0.776610 auc:0.3329\n",
      "epoch:  20 loss:0.592322 auc:0.4574\n",
      "epoch:  40 loss:0.504540 auc:0.4389\n",
      "epoch:  60 loss:0.422854 auc:0.4217\n",
      "epoch:  80 loss:0.375067 auc:0.3986\n",
      "epoch: 100 loss:0.350493 auc:0.4078\n",
      "epoch: 120 loss:0.336821 auc:0.4159\n",
      "epoch: 140 loss:0.328431 auc:0.4194\n",
      "epoch: 160 loss:0.322967 auc:0.4240\n"
     ]
    },
    {
     "name": "stderr",
     "output_type": "stream",
     "text": [
      " 32%|███▏      | 325/1005 [43:03<1:26:16,  7.61s/it]"
     ]
    },
    {
     "name": "stdout",
     "output_type": "stream",
     "text": [
      "epoch: 180 loss:0.319234 auc:0.4274\n",
      "Fit finished.\n",
      "epoch:   0 loss:0.945795 auc:0.4983\n",
      "epoch:  20 loss:0.592105 auc:0.4983\n",
      "epoch:  40 loss:0.514067 auc:0.5000\n",
      "epoch:  60 loss:0.430657 auc:0.5052\n",
      "epoch:  80 loss:0.383479 auc:0.4948\n",
      "epoch: 100 loss:0.356235 auc:0.4948\n",
      "epoch: 120 loss:0.340039 auc:0.4896\n",
      "epoch: 140 loss:0.330218 auc:0.4844\n"
     ]
    },
    {
     "name": "stderr",
     "output_type": "stream",
     "text": [
      " 32%|███▏      | 326/1005 [43:10<1:24:21,  7.45s/it]"
     ]
    },
    {
     "name": "stdout",
     "output_type": "stream",
     "text": [
      "epoch: 160 loss:0.323985 auc:0.4826\n",
      "Fit finished.\n",
      "epoch:   0 loss:0.779953 auc:0.5398\n",
      "epoch:  20 loss:0.587366 auc:0.5981\n",
      "epoch:  40 loss:0.506072 auc:0.5836\n",
      "epoch:  60 loss:0.412345 auc:0.5769\n",
      "epoch:  80 loss:0.368667 auc:0.5438\n",
      "epoch: 100 loss:0.346861 auc:0.5332\n",
      "epoch: 120 loss:0.334886 auc:0.5292\n",
      "epoch: 140 loss:0.327596 auc:0.5239\n"
     ]
    },
    {
     "name": "stderr",
     "output_type": "stream",
     "text": [
      " 33%|███▎      | 327/1005 [43:16<1:20:05,  7.09s/it]"
     ]
    },
    {
     "name": "stdout",
     "output_type": "stream",
     "text": [
      "epoch: 160 loss:0.322774 auc:0.5199\n",
      "Fit finished.\n",
      "epoch:   0 loss:0.779025 auc:0.5200\n",
      "epoch:  20 loss:0.592528 auc:0.5677\n",
      "epoch:  40 loss:0.521881 auc:0.5677\n",
      "epoch:  60 loss:0.420744 auc:0.5729\n",
      "epoch:  80 loss:0.371581 auc:0.5600\n",
      "epoch: 100 loss:0.347242 auc:0.5355\n",
      "epoch: 120 loss:0.334056 auc:0.5290\n",
      "epoch: 140 loss:0.326432 auc:0.5213\n",
      "epoch: 160 loss:0.321619 auc:0.5226\n"
     ]
    },
    {
     "name": "stderr",
     "output_type": "stream",
     "text": [
      " 33%|███▎      | 328/1005 [43:23<1:17:24,  6.86s/it]"
     ]
    },
    {
     "name": "stdout",
     "output_type": "stream",
     "text": [
      "epoch: 180 loss:0.318334 auc:0.5187\n",
      "Fit finished.\n",
      "epoch:   0 loss:0.786519 auc:0.3360\n",
      "epoch:  20 loss:0.600839 auc:0.6323\n",
      "epoch:  40 loss:0.548251 auc:0.6415\n",
      "epoch:  60 loss:0.448475 auc:0.5847\n",
      "epoch:  80 loss:0.387121 auc:0.6085\n",
      "epoch: 100 loss:0.356083 auc:0.6138\n",
      "epoch: 120 loss:0.339608 auc:0.6124\n",
      "epoch: 140 loss:0.330044 auc:0.6138\n",
      "epoch: 160 loss:0.324026 auc:0.6045\n"
     ]
    },
    {
     "name": "stderr",
     "output_type": "stream",
     "text": [
      " 33%|███▎      | 329/1005 [43:30<1:17:00,  6.83s/it]"
     ]
    },
    {
     "name": "stdout",
     "output_type": "stream",
     "text": [
      "epoch: 180 loss:0.319994 auc:0.6045\n",
      "Fit finished.\n",
      "epoch:   0 loss:0.800933 auc:0.4242\n",
      "epoch:  20 loss:0.582805 auc:0.5070\n",
      "epoch:  40 loss:0.489128 auc:0.5128\n",
      "epoch:  60 loss:0.408872 auc:0.4907\n",
      "epoch:  80 loss:0.366254 auc:0.4557\n",
      "epoch: 100 loss:0.344502 auc:0.4534\n",
      "epoch: 120 loss:0.332479 auc:0.4476\n",
      "epoch: 140 loss:0.325209 auc:0.4452\n",
      "epoch: 160 loss:0.320519 auc:0.4382\n"
     ]
    },
    {
     "name": "stderr",
     "output_type": "stream",
     "text": [
      " 33%|███▎      | 330/1005 [43:37<1:17:36,  6.90s/it]"
     ]
    },
    {
     "name": "stdout",
     "output_type": "stream",
     "text": [
      "epoch: 180 loss:0.317310 auc:0.4371\n",
      "Fit finished.\n",
      "epoch:   0 loss:0.786383 auc:0.5929\n",
      "epoch:  20 loss:0.569890 auc:0.7798\n",
      "epoch:  40 loss:0.447063 auc:0.8881\n",
      "epoch:  60 loss:0.375452 auc:0.8738\n",
      "epoch:  80 loss:0.346328 auc:0.8702\n",
      "epoch: 100 loss:0.332452 auc:0.8702\n",
      "epoch: 120 loss:0.324603 auc:0.8655\n",
      "epoch: 140 loss:0.319682 auc:0.8690\n",
      "epoch: 160 loss:0.316455 auc:0.8667\n",
      "epoch: 180 loss:0.314244 auc:0.8619\n"
     ]
    },
    {
     "name": "stderr",
     "output_type": "stream",
     "text": [
      " 33%|███▎      | 331/1005 [43:44<1:19:28,  7.07s/it]"
     ]
    },
    {
     "name": "stdout",
     "output_type": "stream",
     "text": [
      "epoch: 200 loss:0.312669 auc:0.8595\n",
      "Fit finished.\n",
      "epoch:   0 loss:0.802641 auc:0.5734\n",
      "epoch:  20 loss:0.594424 auc:0.7230\n",
      "epoch:  40 loss:0.530793 auc:0.7424\n",
      "epoch:  60 loss:0.432297 auc:0.7064\n",
      "epoch:  80 loss:0.378199 auc:0.7258\n",
      "epoch: 100 loss:0.351354 auc:0.6981\n",
      "epoch: 120 loss:0.337463 auc:0.6981\n",
      "epoch: 140 loss:0.329237 auc:0.6842\n",
      "epoch: 160 loss:0.323881 auc:0.6898\n"
     ]
    },
    {
     "name": "stderr",
     "output_type": "stream",
     "text": [
      " 33%|███▎      | 332/1005 [43:52<1:20:46,  7.20s/it]"
     ]
    },
    {
     "name": "stdout",
     "output_type": "stream",
     "text": [
      "epoch: 180 loss:0.320152 auc:0.6870\n",
      "Fit finished.\n",
      "epoch:   0 loss:0.797829 auc:0.4533\n",
      "epoch:  20 loss:0.553092 auc:0.8222\n",
      "epoch:  40 loss:0.412477 auc:0.7600\n",
      "epoch:  60 loss:0.353106 auc:0.7778\n",
      "epoch:  80 loss:0.331398 auc:0.7644\n",
      "epoch: 100 loss:0.321905 auc:0.7600\n",
      "epoch: 120 loss:0.316948 auc:0.7556\n",
      "epoch: 140 loss:0.314008 auc:0.7600\n",
      "epoch: 160 loss:0.312115 auc:0.7511\n"
     ]
    },
    {
     "name": "stderr",
     "output_type": "stream",
     "text": [
      " 33%|███▎      | 333/1005 [43:58<1:18:48,  7.04s/it]"
     ]
    },
    {
     "name": "stdout",
     "output_type": "stream",
     "text": [
      "epoch: 180 loss:0.310839 auc:0.7556\n",
      "Fit finished.\n",
      "epoch:   0 loss:0.770718 auc:0.6054\n",
      "epoch:  20 loss:0.561748 auc:0.6364\n",
      "epoch:  40 loss:0.444090 auc:0.5868\n",
      "epoch:  60 loss:0.378811 auc:0.5269\n",
      "epoch:  80 loss:0.346803 auc:0.4835\n",
      "epoch: 100 loss:0.331673 auc:0.4793\n",
      "epoch: 120 loss:0.323602 auc:0.4917\n",
      "epoch: 140 loss:0.318840 auc:0.4959\n"
     ]
    },
    {
     "name": "stderr",
     "output_type": "stream",
     "text": [
      " 33%|███▎      | 334/1005 [44:05<1:16:41,  6.86s/it]"
     ]
    },
    {
     "name": "stdout",
     "output_type": "stream",
     "text": [
      "epoch: 160 loss:0.315796 auc:0.5041\n",
      "Fit finished.\n",
      "epoch:   0 loss:0.790474 auc:0.3347\n",
      "epoch:  20 loss:0.584599 auc:0.7521\n",
      "epoch:  40 loss:0.486862 auc:0.6818\n",
      "epoch:  60 loss:0.402252 auc:0.6694\n",
      "epoch:  80 loss:0.361491 auc:0.6508\n",
      "epoch: 100 loss:0.341647 auc:0.6322\n",
      "epoch: 120 loss:0.330934 auc:0.6219\n",
      "epoch: 140 loss:0.324452 auc:0.6219\n",
      "epoch: 160 loss:0.320164 auc:0.6074\n"
     ]
    },
    {
     "name": "stderr",
     "output_type": "stream",
     "text": [
      " 33%|███▎      | 335/1005 [44:11<1:15:28,  6.76s/it]"
     ]
    },
    {
     "name": "stdout",
     "output_type": "stream",
     "text": [
      "epoch: 180 loss:0.317158 auc:0.6074\n",
      "Fit finished.\n",
      "epoch:   0 loss:0.794091 auc:0.6933\n",
      "epoch:  20 loss:0.590336 auc:0.6133\n",
      "epoch:  40 loss:0.505264 auc:0.5156\n",
      "epoch:  60 loss:0.413346 auc:0.5333\n",
      "epoch:  80 loss:0.365260 auc:0.5778\n",
      "epoch: 100 loss:0.343328 auc:0.5644\n",
      "epoch: 120 loss:0.331598 auc:0.5600\n",
      "epoch: 140 loss:0.324444 auc:0.5422\n"
     ]
    },
    {
     "name": "stderr",
     "output_type": "stream",
     "text": [
      " 33%|███▎      | 336/1005 [44:17<1:13:52,  6.62s/it]"
     ]
    },
    {
     "name": "stdout",
     "output_type": "stream",
     "text": [
      "epoch: 160 loss:0.319789 auc:0.5333\n",
      "Fit finished.\n",
      "epoch:   0 loss:0.827384 auc:0.5012\n",
      "epoch:  20 loss:0.590557 auc:0.8214\n",
      "epoch:  40 loss:0.507822 auc:0.8594\n",
      "epoch:  60 loss:0.418916 auc:0.8353\n",
      "epoch:  80 loss:0.373487 auc:0.8065\n",
      "epoch: 100 loss:0.348728 auc:0.7696\n",
      "epoch: 120 loss:0.335242 auc:0.7592\n",
      "epoch: 140 loss:0.327260 auc:0.7396\n",
      "epoch: 160 loss:0.322120 auc:0.7396\n"
     ]
    },
    {
     "name": "stderr",
     "output_type": "stream",
     "text": [
      " 34%|███▎      | 337/1005 [44:25<1:15:42,  6.80s/it]"
     ]
    },
    {
     "name": "stdout",
     "output_type": "stream",
     "text": [
      "epoch: 180 loss:0.318590 auc:0.7339\n",
      "Fit finished.\n",
      "epoch:   0 loss:0.778305 auc:0.4791\n",
      "epoch:  20 loss:0.593491 auc:0.6342\n",
      "epoch:  40 loss:0.507140 auc:0.6909\n",
      "epoch:  60 loss:0.424599 auc:0.6860\n",
      "epoch:  80 loss:0.375331 auc:0.6626\n",
      "epoch: 100 loss:0.349952 auc:0.6663\n",
      "epoch: 120 loss:0.336439 auc:0.6773\n",
      "epoch: 140 loss:0.328296 auc:0.6773\n",
      "epoch: 160 loss:0.322952 auc:0.6810\n",
      "epoch: 180 loss:0.319252 auc:0.6958\n",
      "epoch: 200 loss:0.316611 auc:0.6970\n",
      "epoch: 220 loss:0.314674 auc:0.6970\n",
      "epoch: 240 loss:0.313227 auc:0.6970\n",
      "epoch: 260 loss:0.312131 auc:0.6983\n",
      "epoch: 280 loss:0.311282 auc:0.7020\n",
      "epoch: 300 loss:0.310607 auc:0.6995\n",
      "epoch: 320 loss:0.310060 auc:0.6995\n",
      "epoch: 340 loss:0.309610 auc:0.7007\n"
     ]
    },
    {
     "name": "stderr",
     "output_type": "stream",
     "text": [
      " 34%|███▎      | 338/1005 [44:37<1:34:36,  8.51s/it]"
     ]
    },
    {
     "name": "stdout",
     "output_type": "stream",
     "text": [
      "epoch: 360 loss:0.309234 auc:0.6946\n",
      "Fit finished.\n",
      "epoch:   0 loss:0.790691 auc:0.4311\n",
      "epoch:  20 loss:0.578440 auc:0.6963\n",
      "epoch:  40 loss:0.472160 auc:0.7169\n",
      "epoch:  60 loss:0.395522 auc:0.6718\n",
      "epoch:  80 loss:0.358143 auc:0.6564\n",
      "epoch: 100 loss:0.339231 auc:0.6538\n",
      "epoch: 120 loss:0.329023 auc:0.6564\n",
      "epoch: 140 loss:0.322967 auc:0.6589\n",
      "epoch: 160 loss:0.319059 auc:0.6577\n"
     ]
    },
    {
     "name": "stderr",
     "output_type": "stream",
     "text": [
      " 34%|███▎      | 339/1005 [44:44<1:29:44,  8.08s/it]"
     ]
    },
    {
     "name": "stdout",
     "output_type": "stream",
     "text": [
      "epoch: 180 loss:0.316352 auc:0.6538\n",
      "Fit finished.\n",
      "epoch:   0 loss:0.826285 auc:0.6405\n",
      "epoch:  20 loss:0.597821 auc:0.6726\n",
      "epoch:  40 loss:0.527174 auc:0.6988\n",
      "epoch:  60 loss:0.439309 auc:0.7262\n",
      "epoch:  80 loss:0.381621 auc:0.6810\n",
      "epoch: 100 loss:0.351788 auc:0.6917\n",
      "epoch: 120 loss:0.336831 auc:0.6905\n",
      "epoch: 140 loss:0.328260 auc:0.6929\n",
      "epoch: 160 loss:0.322816 auc:0.6905\n",
      "epoch: 180 loss:0.319121 auc:0.6869\n"
     ]
    },
    {
     "name": "stderr",
     "output_type": "stream",
     "text": [
      " 34%|███▍      | 340/1005 [44:52<1:26:57,  7.85s/it]"
     ]
    },
    {
     "name": "stdout",
     "output_type": "stream",
     "text": [
      "epoch: 200 loss:0.316470 auc:0.6881\n",
      "Fit finished.\n",
      "epoch:   0 loss:0.801945 auc:0.4527\n",
      "epoch:  20 loss:0.586695 auc:0.6283\n",
      "epoch:  40 loss:0.506071 auc:0.5967\n",
      "epoch:  60 loss:0.403592 auc:0.5638\n",
      "epoch:  80 loss:0.357816 auc:0.5926\n",
      "epoch: 100 loss:0.337685 auc:0.5871\n",
      "epoch: 120 loss:0.327486 auc:0.5857\n",
      "epoch: 140 loss:0.321431 auc:0.5761\n",
      "epoch: 160 loss:0.317504 auc:0.5775\n"
     ]
    },
    {
     "name": "stderr",
     "output_type": "stream",
     "text": [
      " 34%|███▍      | 341/1005 [44:58<1:22:34,  7.46s/it]"
     ]
    },
    {
     "name": "stdout",
     "output_type": "stream",
     "text": [
      "epoch: 180 loss:0.314829 auc:0.5720\n",
      "Fit finished.\n",
      "epoch:   0 loss:0.815811 auc:0.5625\n",
      "epoch:  20 loss:0.597534 auc:0.6650\n",
      "epoch:  40 loss:0.535593 auc:0.6475\n",
      "epoch:  60 loss:0.439681 auc:0.5900\n",
      "epoch:  80 loss:0.383191 auc:0.6125\n",
      "epoch: 100 loss:0.355097 auc:0.6350\n",
      "epoch: 120 loss:0.339917 auc:0.6375\n",
      "epoch: 140 loss:0.330755 auc:0.6275\n",
      "epoch: 160 loss:0.324778 auc:0.6200\n"
     ]
    },
    {
     "name": "stderr",
     "output_type": "stream",
     "text": [
      " 34%|███▍      | 342/1005 [45:06<1:22:28,  7.46s/it]"
     ]
    },
    {
     "name": "stdout",
     "output_type": "stream",
     "text": [
      "epoch: 180 loss:0.320670 auc:0.6200\n",
      "Fit finished.\n",
      "epoch:   0 loss:0.788231 auc:0.6189\n",
      "epoch:  20 loss:0.597139 auc:0.6270\n",
      "epoch:  40 loss:0.538872 auc:0.5991\n",
      "epoch:  60 loss:0.439617 auc:0.6131\n",
      "epoch:  80 loss:0.384714 auc:0.6084\n",
      "epoch: 100 loss:0.356966 auc:0.5944\n",
      "epoch: 120 loss:0.341277 auc:0.5956\n",
      "epoch: 140 loss:0.331621 auc:0.5944\n"
     ]
    },
    {
     "name": "stderr",
     "output_type": "stream",
     "text": [
      " 34%|███▍      | 343/1005 [45:12<1:17:16,  7.00s/it]"
     ]
    },
    {
     "name": "stdout",
     "output_type": "stream",
     "text": [
      "epoch: 160 loss:0.325354 auc:0.5932\n",
      "Fit finished.\n",
      "epoch:   0 loss:0.782724 auc:0.4163\n",
      "epoch:  20 loss:0.581391 auc:0.5037\n",
      "epoch:  40 loss:0.493880 auc:0.5025\n",
      "epoch:  60 loss:0.411791 auc:0.4692\n",
      "epoch:  80 loss:0.367197 auc:0.4409\n",
      "epoch: 100 loss:0.345824 auc:0.4360\n",
      "epoch: 120 loss:0.334042 auc:0.4372\n",
      "epoch: 140 loss:0.326754 auc:0.4310\n",
      "epoch: 160 loss:0.321929 auc:0.4261\n"
     ]
    },
    {
     "name": "stderr",
     "output_type": "stream",
     "text": [
      " 34%|███▍      | 344/1005 [45:18<1:15:41,  6.87s/it]"
     ]
    },
    {
     "name": "stdout",
     "output_type": "stream",
     "text": [
      "epoch: 180 loss:0.318568 auc:0.4212\n",
      "Fit finished.\n",
      "epoch:   0 loss:0.798185 auc:0.4889\n",
      "epoch:  20 loss:0.595854 auc:0.6096\n",
      "epoch:  40 loss:0.519669 auc:0.6330\n",
      "epoch:  60 loss:0.429637 auc:0.6268\n",
      "epoch:  80 loss:0.376485 auc:0.5887\n",
      "epoch: 100 loss:0.349733 auc:0.5739\n",
      "epoch: 120 loss:0.335375 auc:0.5739\n",
      "epoch: 140 loss:0.327011 auc:0.5764\n",
      "epoch: 160 loss:0.321778 auc:0.5788\n"
     ]
    },
    {
     "name": "stderr",
     "output_type": "stream",
     "text": [
      " 34%|███▍      | 345/1005 [45:25<1:15:53,  6.90s/it]"
     ]
    },
    {
     "name": "stdout",
     "output_type": "stream",
     "text": [
      "epoch: 180 loss:0.318264 auc:0.5690\n",
      "Fit finished.\n",
      "epoch:   0 loss:0.768190 auc:0.3808\n",
      "epoch:  20 loss:0.574091 auc:0.5680\n",
      "epoch:  40 loss:0.467337 auc:0.5024\n",
      "epoch:  60 loss:0.391223 auc:0.5216\n",
      "epoch:  80 loss:0.355154 auc:0.5280\n",
      "epoch: 100 loss:0.337645 auc:0.5248\n",
      "epoch: 120 loss:0.327960 auc:0.5104\n",
      "epoch: 140 loss:0.322105 auc:0.5072\n",
      "epoch: 160 loss:0.318288 auc:0.5072\n"
     ]
    },
    {
     "name": "stderr",
     "output_type": "stream",
     "text": [
      " 34%|███▍      | 346/1005 [45:32<1:15:49,  6.90s/it]"
     ]
    },
    {
     "name": "stdout",
     "output_type": "stream",
     "text": [
      "epoch: 180 loss:0.315638 auc:0.5072\n",
      "Fit finished.\n",
      "epoch:   0 loss:0.793357 auc:0.5333\n",
      "epoch:  20 loss:0.594996 auc:0.8315\n",
      "epoch:  40 loss:0.522521 auc:0.7721\n",
      "epoch:  60 loss:0.432709 auc:0.7152\n",
      "epoch:  80 loss:0.376453 auc:0.7055\n",
      "epoch: 100 loss:0.350208 auc:0.7152\n",
      "epoch: 120 loss:0.336483 auc:0.7212\n",
      "epoch: 140 loss:0.328336 auc:0.7176\n",
      "epoch: 160 loss:0.323062 auc:0.7152\n"
     ]
    },
    {
     "name": "stderr",
     "output_type": "stream",
     "text": [
      " 35%|███▍      | 347/1005 [45:38<1:14:04,  6.75s/it]"
     ]
    },
    {
     "name": "stdout",
     "output_type": "stream",
     "text": [
      "epoch: 180 loss:0.319441 auc:0.7103\n",
      "Fit finished.\n",
      "epoch:   0 loss:0.777866 auc:0.5250\n",
      "epoch:  20 loss:0.587081 auc:0.8095\n",
      "epoch:  40 loss:0.498718 auc:0.8286\n",
      "epoch:  60 loss:0.411474 auc:0.7976\n",
      "epoch:  80 loss:0.367811 auc:0.8095\n",
      "epoch: 100 loss:0.346375 auc:0.7893\n",
      "epoch: 120 loss:0.334105 auc:0.7762\n",
      "epoch: 140 loss:0.326448 auc:0.7679\n",
      "epoch: 160 loss:0.321427 auc:0.7536\n"
     ]
    },
    {
     "name": "stderr",
     "output_type": "stream",
     "text": [
      " 35%|███▍      | 348/1005 [45:46<1:15:18,  6.88s/it]"
     ]
    },
    {
     "name": "stdout",
     "output_type": "stream",
     "text": [
      "epoch: 180 loss:0.318035 auc:0.7536\n",
      "Fit finished.\n",
      "epoch:   0 loss:0.773897 auc:0.4454\n",
      "epoch:  20 loss:0.546695 auc:0.7543\n",
      "epoch:  40 loss:0.415370 auc:0.7556\n",
      "epoch:  60 loss:0.357135 auc:0.7370\n",
      "epoch:  80 loss:0.334395 auc:0.7295\n",
      "epoch: 100 loss:0.324103 auc:0.7270\n",
      "epoch: 120 loss:0.318563 auc:0.7246\n",
      "epoch: 140 loss:0.315200 auc:0.7295\n",
      "epoch: 160 loss:0.312999 auc:0.7270\n"
     ]
    },
    {
     "name": "stderr",
     "output_type": "stream",
     "text": [
      " 35%|███▍      | 349/1005 [45:52<1:14:36,  6.82s/it]"
     ]
    },
    {
     "name": "stdout",
     "output_type": "stream",
     "text": [
      "epoch: 180 loss:0.311498 auc:0.7283\n",
      "Fit finished.\n",
      "epoch:   0 loss:0.813452 auc:0.5876\n",
      "epoch:  20 loss:0.595547 auc:0.6935\n",
      "epoch:  40 loss:0.521850 auc:0.6636\n",
      "epoch:  60 loss:0.429785 auc:0.6544\n",
      "epoch:  80 loss:0.377169 auc:0.6613\n",
      "epoch: 100 loss:0.350918 auc:0.6544\n",
      "epoch: 120 loss:0.336978 auc:0.6498\n",
      "epoch: 140 loss:0.328756 auc:0.6406\n",
      "epoch: 160 loss:0.323516 auc:0.6371\n"
     ]
    },
    {
     "name": "stderr",
     "output_type": "stream",
     "text": [
      " 35%|███▍      | 350/1005 [45:59<1:13:59,  6.78s/it]"
     ]
    },
    {
     "name": "stdout",
     "output_type": "stream",
     "text": [
      "epoch: 180 loss:0.319913 auc:0.6359\n",
      "Fit finished.\n",
      "epoch:   0 loss:0.820350 auc:0.4259\n",
      "epoch:  20 loss:0.592318 auc:0.7482\n",
      "epoch:  40 loss:0.510760 auc:0.6353\n",
      "epoch:  60 loss:0.419493 auc:0.5624\n",
      "epoch:  80 loss:0.371180 auc:0.5271\n",
      "epoch: 100 loss:0.346764 auc:0.5106\n",
      "epoch: 120 loss:0.333766 auc:0.5082\n",
      "epoch: 140 loss:0.326246 auc:0.4965\n",
      "epoch: 160 loss:0.321454 auc:0.4871\n"
     ]
    },
    {
     "name": "stderr",
     "output_type": "stream",
     "text": [
      " 35%|███▍      | 351/1005 [46:06<1:15:11,  6.90s/it]"
     ]
    },
    {
     "name": "stdout",
     "output_type": "stream",
     "text": [
      "epoch: 180 loss:0.318164 auc:0.4788\n",
      "Fit finished.\n",
      "epoch:   0 loss:0.801491 auc:0.5300\n",
      "epoch:  20 loss:0.593520 auc:0.8295\n",
      "epoch:  40 loss:0.513456 auc:0.6325\n",
      "epoch:  60 loss:0.414903 auc:0.5853\n",
      "epoch:  80 loss:0.367673 auc:0.5806\n",
      "epoch: 100 loss:0.344864 auc:0.5634\n",
      "epoch: 120 loss:0.332425 auc:0.5611\n",
      "epoch: 140 loss:0.325105 auc:0.5645\n",
      "epoch: 160 loss:0.320499 auc:0.5714\n"
     ]
    },
    {
     "name": "stderr",
     "output_type": "stream",
     "text": [
      " 35%|███▌      | 352/1005 [46:13<1:13:34,  6.76s/it]"
     ]
    },
    {
     "name": "stdout",
     "output_type": "stream",
     "text": [
      "epoch: 180 loss:0.317397 auc:0.5622\n",
      "Fit finished.\n",
      "epoch:   0 loss:0.905390 auc:0.4750\n",
      "epoch:  20 loss:0.590474 auc:0.6500\n",
      "epoch:  40 loss:0.505837 auc:0.5702\n",
      "epoch:  60 loss:0.411443 auc:0.5250\n",
      "epoch:  80 loss:0.365377 auc:0.4881\n",
      "epoch: 100 loss:0.344052 auc:0.4667\n",
      "epoch: 120 loss:0.332597 auc:0.4619\n",
      "epoch: 140 loss:0.325577 auc:0.4500\n"
     ]
    },
    {
     "name": "stderr",
     "output_type": "stream",
     "text": [
      " 35%|███▌      | 353/1005 [46:19<1:12:14,  6.65s/it]"
     ]
    },
    {
     "name": "stdout",
     "output_type": "stream",
     "text": [
      "epoch: 160 loss:0.320923 auc:0.4357\n",
      "Fit finished.\n",
      "epoch:   0 loss:0.806804 auc:0.6334\n",
      "epoch:  20 loss:0.583377 auc:0.8353\n",
      "epoch:  40 loss:0.485371 auc:0.8774\n",
      "epoch:  60 loss:0.399890 auc:0.8906\n",
      "epoch:  80 loss:0.359735 auc:0.8690\n",
      "epoch: 100 loss:0.339851 auc:0.8377\n",
      "epoch: 120 loss:0.329288 auc:0.8281\n",
      "epoch: 140 loss:0.323031 auc:0.8269\n",
      "epoch: 160 loss:0.318968 auc:0.8221\n"
     ]
    },
    {
     "name": "stderr",
     "output_type": "stream",
     "text": [
      " 35%|███▌      | 354/1005 [46:25<1:11:16,  6.57s/it]"
     ]
    },
    {
     "name": "stdout",
     "output_type": "stream",
     "text": [
      "epoch: 180 loss:0.316196 auc:0.8245\n",
      "Fit finished.\n",
      "epoch:   0 loss:0.823073 auc:0.4895\n",
      "epoch:  20 loss:0.601945 auc:0.7803\n",
      "epoch:  40 loss:0.548840 auc:0.7750\n",
      "epoch:  60 loss:0.447753 auc:0.7158\n",
      "epoch:  80 loss:0.384472 auc:0.7145\n",
      "epoch: 100 loss:0.355166 auc:0.7053\n",
      "epoch: 120 loss:0.339802 auc:0.7145\n",
      "epoch: 140 loss:0.330479 auc:0.7145\n",
      "epoch: 160 loss:0.324425 auc:0.7158\n"
     ]
    },
    {
     "name": "stderr",
     "output_type": "stream",
     "text": [
      " 35%|███▌      | 355/1005 [46:32<1:12:43,  6.71s/it]"
     ]
    },
    {
     "name": "stdout",
     "output_type": "stream",
     "text": [
      "epoch: 180 loss:0.320305 auc:0.7092\n",
      "Fit finished.\n",
      "epoch:   0 loss:0.787508 auc:0.5023\n",
      "epoch:  20 loss:0.564649 auc:0.6544\n",
      "epoch:  40 loss:0.453993 auc:0.4194\n",
      "epoch:  60 loss:0.384334 auc:0.4205\n",
      "epoch:  80 loss:0.350211 auc:0.4297\n",
      "epoch: 100 loss:0.334367 auc:0.4274\n",
      "epoch: 120 loss:0.325966 auc:0.4251\n",
      "epoch: 140 loss:0.320857 auc:0.4171\n"
     ]
    },
    {
     "name": "stderr",
     "output_type": "stream",
     "text": [
      " 35%|███▌      | 356/1005 [46:39<1:11:15,  6.59s/it]"
     ]
    },
    {
     "name": "stdout",
     "output_type": "stream",
     "text": [
      "epoch: 160 loss:0.317477 auc:0.4136\n",
      "Fit finished.\n",
      "epoch:   0 loss:0.782565 auc:0.4393\n",
      "epoch:  20 loss:0.572536 auc:0.4334\n",
      "epoch:  40 loss:0.455007 auc:0.4571\n",
      "epoch:  60 loss:0.379538 auc:0.4896\n",
      "epoch:  80 loss:0.346860 auc:0.4808\n",
      "epoch: 100 loss:0.331874 auc:0.4867\n",
      "epoch: 120 loss:0.324029 auc:0.4882\n",
      "epoch: 140 loss:0.319399 auc:0.4956\n",
      "epoch: 160 loss:0.316393 auc:0.4956\n",
      "epoch: 180 loss:0.314308 auc:0.4970\n",
      "epoch: 200 loss:0.312797 auc:0.4970\n",
      "epoch: 220 loss:0.311665 auc:0.4941\n",
      "epoch: 240 loss:0.310793 auc:0.4926\n",
      "epoch: 260 loss:0.310109 auc:0.4926\n",
      "epoch: 280 loss:0.309567 auc:0.4956\n"
     ]
    },
    {
     "name": "stderr",
     "output_type": "stream",
     "text": [
      " 36%|███▌      | 357/1005 [46:49<1:24:44,  7.85s/it]"
     ]
    },
    {
     "name": "stdout",
     "output_type": "stream",
     "text": [
      "epoch: 300 loss:0.309134 auc:0.4941\n",
      "Fit finished.\n",
      "epoch:   0 loss:0.786497 auc:0.4541\n",
      "epoch:  20 loss:0.569887 auc:0.6893\n",
      "epoch:  40 loss:0.453918 auc:0.6598\n",
      "epoch:  60 loss:0.382688 auc:0.6405\n",
      "epoch:  80 loss:0.349614 auc:0.6494\n",
      "epoch: 100 loss:0.333968 auc:0.6464\n",
      "epoch: 120 loss:0.325436 auc:0.6317\n",
      "epoch: 140 loss:0.320215 auc:0.6405\n",
      "epoch: 160 loss:0.316774 auc:0.6391\n"
     ]
    },
    {
     "name": "stderr",
     "output_type": "stream",
     "text": [
      " 36%|███▌      | 358/1005 [46:57<1:22:47,  7.68s/it]"
     ]
    },
    {
     "name": "stdout",
     "output_type": "stream",
     "text": [
      "epoch: 180 loss:0.314397 auc:0.6317\n",
      "Fit finished.\n",
      "epoch:   0 loss:0.778501 auc:0.4345\n",
      "epoch:  20 loss:0.582501 auc:0.7299\n",
      "epoch:  40 loss:0.490125 auc:0.6484\n",
      "epoch:  60 loss:0.407175 auc:0.6551\n",
      "epoch:  80 loss:0.363487 auc:0.6658\n",
      "epoch: 100 loss:0.342691 auc:0.6551\n",
      "epoch: 120 loss:0.331704 auc:0.6444\n",
      "epoch: 140 loss:0.324909 auc:0.6324\n",
      "epoch: 160 loss:0.320397 auc:0.6176\n"
     ]
    },
    {
     "name": "stderr",
     "output_type": "stream",
     "text": [
      " 36%|███▌      | 360/1005 [47:04<1:01:43,  5.74s/it]"
     ]
    },
    {
     "name": "stdout",
     "output_type": "stream",
     "text": [
      "epoch: 180 loss:0.317272 auc:0.6096\n",
      "Fit finished.\n",
      "epoch:   0 loss:0.810784 auc:0.5882\n",
      "epoch:  20 loss:0.579511 auc:0.6401\n",
      "epoch:  40 loss:0.468390 auc:0.6851\n",
      "epoch:  60 loss:0.389853 auc:0.7128\n",
      "epoch:  80 loss:0.354917 auc:0.7059\n",
      "epoch: 100 loss:0.337658 auc:0.7163\n",
      "epoch: 120 loss:0.328001 auc:0.7370\n",
      "epoch: 140 loss:0.322102 auc:0.7336\n",
      "epoch: 160 loss:0.318230 auc:0.7301\n",
      "epoch: 180 loss:0.315554 auc:0.7266\n",
      "epoch: 200 loss:0.313656 auc:0.7336\n",
      "epoch: 220 loss:0.312278 auc:0.7370\n",
      "epoch: 240 loss:0.311252 auc:0.7301\n",
      "epoch: 260 loss:0.310470 auc:0.7336\n",
      "epoch: 280 loss:0.309861 auc:0.7370\n",
      "epoch: 300 loss:0.309380 auc:0.7336\n",
      "epoch: 320 loss:0.308992 auc:0.7336\n",
      "epoch: 340 loss:0.308674 auc:0.7336\n"
     ]
    },
    {
     "name": "stderr",
     "output_type": "stream",
     "text": [
      " 36%|███▌      | 361/1005 [47:16<1:18:38,  7.33s/it]"
     ]
    },
    {
     "name": "stdout",
     "output_type": "stream",
     "text": [
      "epoch: 360 loss:0.308410 auc:0.7266\n",
      "Fit finished.\n",
      "epoch:   0 loss:0.780569 auc:0.4676\n",
      "epoch:  20 loss:0.591873 auc:0.6088\n",
      "epoch:  40 loss:0.523049 auc:0.6132\n",
      "epoch:  60 loss:0.427560 auc:0.6324\n",
      "epoch:  80 loss:0.379305 auc:0.6588\n",
      "epoch: 100 loss:0.352342 auc:0.6500\n",
      "epoch: 120 loss:0.337001 auc:0.6441\n",
      "epoch: 140 loss:0.328168 auc:0.6324\n",
      "epoch: 160 loss:0.322696 auc:0.6279\n",
      "epoch: 180 loss:0.319062 auc:0.6235\n",
      "epoch: 200 loss:0.316509 auc:0.6191\n"
     ]
    },
    {
     "name": "stderr",
     "output_type": "stream",
     "text": [
      " 36%|███▌      | 362/1005 [47:23<1:18:51,  7.36s/it]"
     ]
    },
    {
     "name": "stdout",
     "output_type": "stream",
     "text": [
      "epoch: 220 loss:0.314635 auc:0.6221\n",
      "Fit finished.\n",
      "epoch:   0 loss:0.785962 auc:0.2798\n",
      "epoch:  20 loss:0.594978 auc:0.4858\n",
      "epoch:  40 loss:0.515094 auc:0.4934\n",
      "epoch:  60 loss:0.419187 auc:0.4745\n",
      "epoch:  80 loss:0.369246 auc:0.5066\n",
      "epoch: 100 loss:0.345698 auc:0.5274\n",
      "epoch: 120 loss:0.333312 auc:0.5274\n",
      "epoch: 140 loss:0.326034 auc:0.5312\n",
      "epoch: 160 loss:0.321330 auc:0.5293\n",
      "epoch: 180 loss:0.318073 auc:0.5331\n",
      "epoch: 200 loss:0.315715 auc:0.5350\n",
      "epoch: 220 loss:0.313962 auc:0.5425\n",
      "epoch: 240 loss:0.312630 auc:0.5444\n",
      "epoch: 260 loss:0.311605 auc:0.5425\n",
      "epoch: 280 loss:0.310807 auc:0.5425\n",
      "epoch: 300 loss:0.310178 auc:0.5388\n",
      "epoch: 320 loss:0.309678 auc:0.5369\n",
      "epoch: 340 loss:0.309275 auc:0.5388\n",
      "epoch: 360 loss:0.308948 auc:0.5350\n"
     ]
    },
    {
     "name": "stderr",
     "output_type": "stream",
     "text": [
      " 36%|███▌      | 363/1005 [47:36<1:33:17,  8.72s/it]"
     ]
    },
    {
     "name": "stdout",
     "output_type": "stream",
     "text": [
      "epoch: 380 loss:0.308677 auc:0.5350\n",
      "Fit finished.\n",
      "epoch:   0 loss:0.794051 auc:0.5760\n",
      "epoch:  20 loss:0.600129 auc:0.7166\n",
      "epoch:  40 loss:0.538637 auc:0.7324\n",
      "epoch:  60 loss:0.438407 auc:0.6576\n",
      "epoch:  80 loss:0.382296 auc:0.6553\n",
      "epoch: 100 loss:0.353622 auc:0.6485\n",
      "epoch: 120 loss:0.338064 auc:0.6576\n",
      "epoch: 140 loss:0.329069 auc:0.6531\n",
      "epoch: 160 loss:0.323472 auc:0.6553\n"
     ]
    },
    {
     "name": "stderr",
     "output_type": "stream",
     "text": [
      " 36%|███▌      | 364/1005 [47:43<1:27:55,  8.23s/it]"
     ]
    },
    {
     "name": "stdout",
     "output_type": "stream",
     "text": [
      "epoch: 180 loss:0.319707 auc:0.6553\n",
      "Fit finished.\n",
      "epoch:   0 loss:0.803693 auc:0.4505\n",
      "epoch:  20 loss:0.580845 auc:0.5541\n",
      "epoch:  40 loss:0.488616 auc:0.5553\n",
      "epoch:  60 loss:0.405066 auc:0.5691\n",
      "epoch:  80 loss:0.362547 auc:0.5645\n",
      "epoch: 100 loss:0.341943 auc:0.5634\n",
      "epoch: 120 loss:0.330749 auc:0.5588\n",
      "epoch: 140 loss:0.323914 auc:0.5576\n",
      "epoch: 160 loss:0.319465 auc:0.5530\n"
     ]
    },
    {
     "name": "stderr",
     "output_type": "stream",
     "text": [
      " 36%|███▋      | 365/1005 [47:49<1:23:25,  7.82s/it]"
     ]
    },
    {
     "name": "stdout",
     "output_type": "stream",
     "text": [
      "epoch: 180 loss:0.316438 auc:0.5530\n",
      "Fit finished.\n",
      "epoch:   0 loss:0.791187 auc:0.6736\n",
      "epoch:  20 loss:0.587361 auc:0.6446\n",
      "epoch:  40 loss:0.492299 auc:0.7107\n",
      "epoch:  60 loss:0.411190 auc:0.7314\n",
      "epoch:  80 loss:0.368476 auc:0.7293\n",
      "epoch: 100 loss:0.346442 auc:0.7025\n",
      "epoch: 120 loss:0.334297 auc:0.7087\n",
      "epoch: 140 loss:0.326854 auc:0.6942\n",
      "epoch: 160 loss:0.321901 auc:0.6901\n",
      "epoch: 180 loss:0.318433 auc:0.6880\n"
     ]
    },
    {
     "name": "stderr",
     "output_type": "stream",
     "text": [
      " 36%|███▋      | 366/1005 [47:57<1:22:21,  7.73s/it]"
     ]
    },
    {
     "name": "stdout",
     "output_type": "stream",
     "text": [
      "epoch: 200 loss:0.315899 auc:0.6839\n",
      "Fit finished.\n",
      "epoch:   0 loss:0.794672 auc:0.3486\n",
      "epoch:  20 loss:0.546737 auc:0.7443\n",
      "epoch:  40 loss:0.415441 auc:0.6643\n",
      "epoch:  60 loss:0.359412 auc:0.6543\n",
      "epoch:  80 loss:0.336722 auc:0.6471\n",
      "epoch: 100 loss:0.326016 auc:0.6571\n",
      "epoch: 120 loss:0.320087 auc:0.6443\n",
      "epoch: 140 loss:0.316472 auc:0.6429\n",
      "epoch: 160 loss:0.314089 auc:0.6343\n"
     ]
    },
    {
     "name": "stderr",
     "output_type": "stream",
     "text": [
      " 37%|███▋      | 367/1005 [48:04<1:20:56,  7.61s/it]"
     ]
    },
    {
     "name": "stdout",
     "output_type": "stream",
     "text": [
      "epoch: 180 loss:0.312432 auc:0.6286\n",
      "Fit finished.\n",
      "epoch:   0 loss:0.838894 auc:0.3500\n",
      "epoch:  20 loss:0.598598 auc:0.6900\n",
      "epoch:  40 loss:0.528478 auc:0.6050\n",
      "epoch:  60 loss:0.425510 auc:0.4850\n",
      "epoch:  80 loss:0.372881 auc:0.4325\n",
      "epoch: 100 loss:0.347700 auc:0.3875\n",
      "epoch: 120 loss:0.334540 auc:0.3600\n",
      "epoch: 140 loss:0.326742 auc:0.3475\n"
     ]
    },
    {
     "name": "stderr",
     "output_type": "stream",
     "text": [
      " 37%|███▋      | 368/1005 [48:11<1:16:46,  7.23s/it]"
     ]
    },
    {
     "name": "stdout",
     "output_type": "stream",
     "text": [
      "epoch: 160 loss:0.321722 auc:0.3400\n",
      "Fit finished.\n",
      "epoch:   0 loss:0.792996 auc:0.4784\n",
      "epoch:  20 loss:0.596359 auc:0.6128\n",
      "epoch:  40 loss:0.517318 auc:0.6528\n",
      "epoch:  60 loss:0.418746 auc:0.6704\n",
      "epoch:  80 loss:0.369353 auc:0.6624\n",
      "epoch: 100 loss:0.345156 auc:0.6576\n",
      "epoch: 120 loss:0.332644 auc:0.6656\n",
      "epoch: 140 loss:0.325350 auc:0.6704\n",
      "epoch: 160 loss:0.320632 auc:0.6672\n",
      "epoch: 180 loss:0.317362 auc:0.6672\n",
      "epoch: 200 loss:0.315033 auc:0.6608\n"
     ]
    },
    {
     "name": "stderr",
     "output_type": "stream",
     "text": [
      " 37%|███▋      | 369/1005 [48:19<1:19:59,  7.55s/it]"
     ]
    },
    {
     "name": "stdout",
     "output_type": "stream",
     "text": [
      "epoch: 220 loss:0.313344 auc:0.6592\n",
      "Fit finished.\n",
      "epoch:   0 loss:0.783517 auc:0.5142\n",
      "epoch:  20 loss:0.551899 auc:0.6626\n",
      "epoch:  40 loss:0.421230 auc:0.6370\n",
      "epoch:  60 loss:0.361369 auc:0.6424\n",
      "epoch:  80 loss:0.337765 auc:0.6532\n",
      "epoch: 100 loss:0.326539 auc:0.6613\n",
      "epoch: 120 loss:0.320233 auc:0.6572\n",
      "epoch: 140 loss:0.316376 auc:0.6667\n",
      "epoch: 160 loss:0.313876 auc:0.6667\n",
      "epoch: 180 loss:0.312179 auc:0.6626\n",
      "epoch: 200 loss:0.310986 auc:0.6640\n",
      "epoch: 220 loss:0.310121 auc:0.6640\n",
      "epoch: 240 loss:0.309474 auc:0.6667\n",
      "epoch: 260 loss:0.308979 auc:0.6680\n",
      "epoch: 280 loss:0.308591 auc:0.6667\n"
     ]
    },
    {
     "name": "stderr",
     "output_type": "stream",
     "text": [
      " 37%|███▋      | 370/1005 [48:29<1:29:02,  8.41s/it]"
     ]
    },
    {
     "name": "stdout",
     "output_type": "stream",
     "text": [
      "epoch: 300 loss:0.308281 auc:0.6653\n",
      "Fit finished.\n",
      "epoch:   0 loss:0.765092 auc:0.5179\n",
      "epoch:  20 loss:0.568825 auc:0.6974\n",
      "epoch:  40 loss:0.448473 auc:0.6385\n",
      "epoch:  60 loss:0.373929 auc:0.6282\n",
      "epoch:  80 loss:0.344009 auc:0.6218\n",
      "epoch: 100 loss:0.330392 auc:0.6154\n",
      "epoch: 120 loss:0.323119 auc:0.6141\n",
      "epoch: 140 loss:0.318654 auc:0.6154\n",
      "epoch: 160 loss:0.315651 auc:0.6077\n"
     ]
    },
    {
     "name": "stderr",
     "output_type": "stream",
     "text": [
      " 37%|███▋      | 371/1005 [48:36<1:24:42,  8.02s/it]"
     ]
    },
    {
     "name": "stdout",
     "output_type": "stream",
     "text": [
      "epoch: 180 loss:0.313545 auc:0.6064\n",
      "Fit finished.\n",
      "epoch:   0 loss:0.798205 auc:0.4239\n",
      "epoch:  20 loss:0.592046 auc:0.7599\n",
      "epoch:  40 loss:0.501913 auc:0.7462\n",
      "epoch:  60 loss:0.414189 auc:0.7613\n",
      "epoch:  80 loss:0.370072 auc:0.7311\n",
      "epoch: 100 loss:0.347751 auc:0.7215\n",
      "epoch: 120 loss:0.335131 auc:0.7215\n",
      "epoch: 140 loss:0.327272 auc:0.7133\n",
      "epoch: 160 loss:0.322132 auc:0.7092\n"
     ]
    },
    {
     "name": "stderr",
     "output_type": "stream",
     "text": [
      " 37%|███▋      | 372/1005 [48:43<1:19:09,  7.50s/it]"
     ]
    },
    {
     "name": "stdout",
     "output_type": "stream",
     "text": [
      "epoch: 180 loss:0.318647 auc:0.7064\n",
      "Fit finished.\n",
      "epoch:   0 loss:0.786728 auc:0.5867\n",
      "epoch:  20 loss:0.566196 auc:0.3911\n",
      "epoch:  40 loss:0.445924 auc:0.2711\n",
      "epoch:  60 loss:0.372456 auc:0.2667\n",
      "epoch:  80 loss:0.343020 auc:0.2400\n",
      "epoch: 100 loss:0.329408 auc:0.2444\n",
      "epoch: 120 loss:0.322211 auc:0.2400\n",
      "epoch: 140 loss:0.317922 auc:0.2444\n"
     ]
    },
    {
     "name": "stderr",
     "output_type": "stream",
     "text": [
      " 37%|███▋      | 373/1005 [48:50<1:17:04,  7.32s/it]"
     ]
    },
    {
     "name": "stdout",
     "output_type": "stream",
     "text": [
      "epoch: 160 loss:0.315114 auc:0.2444\n",
      "Fit finished.\n",
      "epoch:   0 loss:0.792183 auc:0.3862\n",
      "epoch:  20 loss:0.557802 auc:0.6333\n",
      "epoch:  40 loss:0.425258 auc:0.5851\n",
      "epoch:  60 loss:0.362689 auc:0.5690\n",
      "epoch:  80 loss:0.338308 auc:0.5667\n",
      "epoch: 100 loss:0.327123 auc:0.5632\n",
      "epoch: 120 loss:0.320776 auc:0.5644\n",
      "epoch: 140 loss:0.316780 auc:0.5621\n",
      "epoch: 160 loss:0.314159 auc:0.5632\n"
     ]
    },
    {
     "name": "stderr",
     "output_type": "stream",
     "text": [
      " 37%|███▋      | 374/1005 [48:56<1:14:17,  7.06s/it]"
     ]
    },
    {
     "name": "stdout",
     "output_type": "stream",
     "text": [
      "epoch: 180 loss:0.312370 auc:0.5644\n",
      "Fit finished.\n",
      "epoch:   0 loss:0.956073 auc:0.5482\n",
      "epoch:  20 loss:0.598288 auc:0.7004\n",
      "epoch:  40 loss:0.553639 auc:0.7027\n",
      "epoch:  60 loss:0.452081 auc:0.7170\n",
      "epoch:  80 loss:0.388138 auc:0.7241\n",
      "epoch: 100 loss:0.357203 auc:0.7111\n",
      "epoch: 120 loss:0.340222 auc:0.6908\n",
      "epoch: 140 loss:0.330437 auc:0.6885\n",
      "epoch: 160 loss:0.324469 auc:0.6980\n"
     ]
    },
    {
     "name": "stderr",
     "output_type": "stream",
     "text": [
      " 37%|███▋      | 375/1005 [49:03<1:14:39,  7.11s/it]"
     ]
    },
    {
     "name": "stdout",
     "output_type": "stream",
     "text": [
      "epoch: 180 loss:0.320494 auc:0.6968\n",
      "Fit finished.\n",
      "epoch:   0 loss:0.784609 auc:0.4559\n",
      "epoch:  20 loss:0.573861 auc:0.7031\n",
      "epoch:  40 loss:0.465013 auc:0.6770\n",
      "epoch:  60 loss:0.384714 auc:0.5988\n",
      "epoch:  80 loss:0.349082 auc:0.5640\n",
      "epoch: 100 loss:0.332825 auc:0.5578\n",
      "epoch: 120 loss:0.324287 auc:0.5565\n",
      "epoch: 140 loss:0.319297 auc:0.5590\n",
      "epoch: 160 loss:0.316115 auc:0.5602\n"
     ]
    },
    {
     "name": "stderr",
     "output_type": "stream",
     "text": [
      " 37%|███▋      | 376/1005 [49:10<1:11:52,  6.86s/it]"
     ]
    },
    {
     "name": "stdout",
     "output_type": "stream",
     "text": [
      "epoch: 180 loss:0.313940 auc:0.5602\n",
      "Fit finished.\n",
      "epoch:   0 loss:0.796782 auc:0.4556\n",
      "epoch:  20 loss:0.597941 auc:0.7921\n",
      "epoch:  40 loss:0.534565 auc:0.7810\n",
      "epoch:  60 loss:0.430833 auc:0.6873\n",
      "epoch:  80 loss:0.373811 auc:0.6333\n",
      "epoch: 100 loss:0.347774 auc:0.6302\n",
      "epoch: 120 loss:0.334815 auc:0.6238\n",
      "epoch: 140 loss:0.327124 auc:0.6206\n",
      "epoch: 160 loss:0.322079 auc:0.6079\n"
     ]
    },
    {
     "name": "stderr",
     "output_type": "stream",
     "text": [
      " 38%|███▊      | 377/1005 [49:17<1:13:19,  7.01s/it]"
     ]
    },
    {
     "name": "stdout",
     "output_type": "stream",
     "text": [
      "epoch: 180 loss:0.318620 auc:0.5968\n",
      "Fit finished.\n",
      "epoch:   0 loss:0.813029 auc:0.4876\n",
      "epoch:  20 loss:0.594818 auc:0.6550\n",
      "epoch:  40 loss:0.512212 auc:0.6591\n",
      "epoch:  60 loss:0.425083 auc:0.6116\n",
      "epoch:  80 loss:0.376366 auc:0.5764\n",
      "epoch: 100 loss:0.350752 auc:0.5744\n",
      "epoch: 120 loss:0.336929 auc:0.5806\n",
      "epoch: 140 loss:0.328794 auc:0.5806\n",
      "epoch: 160 loss:0.323578 auc:0.5971\n"
     ]
    },
    {
     "name": "stderr",
     "output_type": "stream",
     "text": [
      " 38%|███▊      | 378/1005 [49:24<1:12:41,  6.96s/it]"
     ]
    },
    {
     "name": "stdout",
     "output_type": "stream",
     "text": [
      "epoch: 180 loss:0.319965 auc:0.6033\n",
      "Fit finished.\n",
      "epoch:   0 loss:0.799610 auc:0.5682\n",
      "epoch:  20 loss:0.582728 auc:0.6591\n",
      "epoch:  40 loss:0.476441 auc:0.7128\n",
      "epoch:  60 loss:0.394807 auc:0.6591\n",
      "epoch:  80 loss:0.355266 auc:0.6550\n",
      "epoch: 100 loss:0.336808 auc:0.6508\n",
      "epoch: 120 loss:0.327139 auc:0.6591\n",
      "epoch: 140 loss:0.321417 auc:0.6694\n",
      "epoch: 160 loss:0.317734 auc:0.6632\n",
      "epoch: 180 loss:0.315232 auc:0.6694\n"
     ]
    },
    {
     "name": "stderr",
     "output_type": "stream",
     "text": [
      " 38%|███▊      | 379/1005 [49:31<1:14:28,  7.14s/it]"
     ]
    },
    {
     "name": "stdout",
     "output_type": "stream",
     "text": [
      "epoch: 200 loss:0.313451 auc:0.6736\n",
      "Fit finished.\n",
      "epoch:   0 loss:0.772869 auc:0.3682\n",
      "epoch:  20 loss:0.587762 auc:0.4455\n",
      "epoch:  40 loss:0.499993 auc:0.4364\n",
      "epoch:  60 loss:0.407957 auc:0.3636\n",
      "epoch:  80 loss:0.366442 auc:0.3409\n",
      "epoch: 100 loss:0.346108 auc:0.3273\n",
      "epoch: 120 loss:0.334396 auc:0.3136\n",
      "epoch: 140 loss:0.327000 auc:0.2955\n"
     ]
    },
    {
     "name": "stderr",
     "output_type": "stream",
     "text": [
      " 38%|███▊      | 380/1005 [49:37<1:10:44,  6.79s/it]"
     ]
    },
    {
     "name": "stdout",
     "output_type": "stream",
     "text": [
      "epoch: 160 loss:0.322058 auc:0.2955\n",
      "Fit finished.\n",
      "epoch:   0 loss:0.803424 auc:0.5019\n",
      "epoch:  20 loss:0.594659 auc:0.7259\n",
      "epoch:  40 loss:0.513106 auc:0.6111\n",
      "epoch:  60 loss:0.422046 auc:0.5833\n",
      "epoch:  80 loss:0.373799 auc:0.5685\n",
      "epoch: 100 loss:0.348864 auc:0.5759\n",
      "epoch: 120 loss:0.335120 auc:0.5833\n",
      "epoch: 140 loss:0.326937 auc:0.6037\n",
      "epoch: 160 loss:0.321679 auc:0.6222\n"
     ]
    },
    {
     "name": "stderr",
     "output_type": "stream",
     "text": [
      " 38%|███▊      | 381/1005 [49:44<1:11:00,  6.83s/it]"
     ]
    },
    {
     "name": "stdout",
     "output_type": "stream",
     "text": [
      "epoch: 180 loss:0.318111 auc:0.6241\n",
      "Fit finished.\n",
      "epoch:   0 loss:0.797947 auc:0.5603\n",
      "epoch:  20 loss:0.569198 auc:0.6249\n",
      "epoch:  40 loss:0.440265 auc:0.5914\n",
      "epoch:  60 loss:0.371918 auc:0.6057\n",
      "epoch:  80 loss:0.342527 auc:0.6117\n",
      "epoch: 100 loss:0.329112 auc:0.6141\n",
      "epoch: 120 loss:0.321887 auc:0.6141\n",
      "epoch: 140 loss:0.317563 auc:0.6093\n",
      "epoch: 160 loss:0.314762 auc:0.6081\n"
     ]
    },
    {
     "name": "stderr",
     "output_type": "stream",
     "text": [
      " 38%|███▊      | 382/1005 [49:51<1:09:52,  6.73s/it]"
     ]
    },
    {
     "name": "stdout",
     "output_type": "stream",
     "text": [
      "epoch: 180 loss:0.312829 auc:0.6045\n",
      "Fit finished.\n",
      "epoch:   0 loss:0.809598 auc:0.4299\n",
      "epoch:  20 loss:0.590819 auc:0.7529\n",
      "epoch:  40 loss:0.497873 auc:0.7414\n",
      "epoch:  60 loss:0.417611 auc:0.7345\n",
      "epoch:  80 loss:0.372853 auc:0.7264\n",
      "epoch: 100 loss:0.349128 auc:0.7184\n",
      "epoch: 120 loss:0.335875 auc:0.7138\n",
      "epoch: 140 loss:0.327793 auc:0.7092\n",
      "epoch: 160 loss:0.322552 auc:0.7057\n"
     ]
    },
    {
     "name": "stderr",
     "output_type": "stream",
     "text": [
      " 38%|███▊      | 383/1005 [49:58<1:10:36,  6.81s/it]"
     ]
    },
    {
     "name": "stdout",
     "output_type": "stream",
     "text": [
      "epoch: 180 loss:0.318963 auc:0.7011\n",
      "Fit finished.\n",
      "epoch:   0 loss:0.792420 auc:0.5128\n",
      "epoch:  20 loss:0.590517 auc:0.6645\n",
      "epoch:  40 loss:0.497688 auc:0.6607\n",
      "epoch:  60 loss:0.415955 auc:0.6684\n",
      "epoch:  80 loss:0.370041 auc:0.6403\n",
      "epoch: 100 loss:0.345474 auc:0.6276\n",
      "epoch: 120 loss:0.332717 auc:0.6250\n",
      "epoch: 140 loss:0.325282 auc:0.6250\n",
      "epoch: 160 loss:0.320543 auc:0.6237\n"
     ]
    },
    {
     "name": "stderr",
     "output_type": "stream",
     "text": [
      " 38%|███▊      | 384/1005 [50:05<1:12:27,  7.00s/it]"
     ]
    },
    {
     "name": "stdout",
     "output_type": "stream",
     "text": [
      "epoch: 180 loss:0.317362 auc:0.6186\n",
      "Fit finished.\n",
      "epoch:   0 loss:0.825076 auc:0.5226\n",
      "epoch:  20 loss:0.596480 auc:0.6267\n",
      "epoch:  40 loss:0.530192 auc:0.6389\n",
      "epoch:  60 loss:0.435460 auc:0.6458\n",
      "epoch:  80 loss:0.382768 auc:0.6406\n",
      "epoch: 100 loss:0.355032 auc:0.6233\n",
      "epoch: 120 loss:0.339665 auc:0.6250\n",
      "epoch: 140 loss:0.330527 auc:0.6163\n",
      "epoch: 160 loss:0.324673 auc:0.6181\n"
     ]
    },
    {
     "name": "stderr",
     "output_type": "stream",
     "text": [
      " 38%|███▊      | 385/1005 [50:12<1:12:38,  7.03s/it]"
     ]
    },
    {
     "name": "stdout",
     "output_type": "stream",
     "text": [
      "epoch: 180 loss:0.320668 auc:0.6111\n",
      "Fit finished.\n",
      "epoch:   0 loss:0.793888 auc:0.4211\n",
      "epoch:  20 loss:0.568228 auc:0.5857\n",
      "epoch:  40 loss:0.437647 auc:0.5158\n",
      "epoch:  60 loss:0.370021 auc:0.5130\n",
      "epoch:  80 loss:0.341637 auc:0.5130\n",
      "epoch: 100 loss:0.328610 auc:0.5103\n",
      "epoch: 120 loss:0.321654 auc:0.5034\n",
      "epoch: 140 loss:0.317386 auc:0.4993\n",
      "epoch: 160 loss:0.314553 auc:0.4966\n"
     ]
    },
    {
     "name": "stderr",
     "output_type": "stream",
     "text": [
      " 38%|███▊      | 386/1005 [50:19<1:10:57,  6.88s/it]"
     ]
    },
    {
     "name": "stdout",
     "output_type": "stream",
     "text": [
      "epoch: 180 loss:0.312639 auc:0.4979\n",
      "Fit finished.\n",
      "epoch:   0 loss:0.831648 auc:0.5400\n",
      "epoch:  20 loss:0.596647 auc:0.5094\n",
      "epoch:  40 loss:0.529327 auc:0.5059\n",
      "epoch:  60 loss:0.435540 auc:0.5118\n",
      "epoch:  80 loss:0.380672 auc:0.5318\n",
      "epoch: 100 loss:0.351703 auc:0.5412\n",
      "epoch: 120 loss:0.336316 auc:0.5424\n",
      "epoch: 140 loss:0.327480 auc:0.5447\n",
      "epoch: 160 loss:0.322020 auc:0.5541\n",
      "epoch: 180 loss:0.318426 auc:0.5529\n",
      "epoch: 200 loss:0.315933 auc:0.5541\n",
      "epoch: 220 loss:0.314130 auc:0.5588\n",
      "epoch: 240 loss:0.312777 auc:0.5588\n",
      "epoch: 260 loss:0.311732 auc:0.5600\n",
      "epoch: 280 loss:0.310905 auc:0.5624\n",
      "epoch: 300 loss:0.310236 auc:0.5624\n",
      "epoch: 320 loss:0.309687 auc:0.5635\n",
      "epoch: 340 loss:0.309233 auc:0.5659\n",
      "epoch: 360 loss:0.308856 auc:0.5659\n",
      "epoch: 380 loss:0.308541 auc:0.5671\n",
      "epoch: 400 loss:0.308280 auc:0.5682\n",
      "epoch: 420 loss:0.308064 auc:0.5694\n",
      "epoch: 440 loss:0.307885 auc:0.5718\n",
      "epoch: 460 loss:0.307736 auc:0.5706\n",
      "epoch: 480 loss:0.307613 auc:0.5682\n",
      "epoch: 500 loss:0.307511 auc:0.5694\n",
      "epoch: 520 loss:0.307425 auc:0.5694\n",
      "epoch: 540 loss:0.307353 auc:0.5671\n"
     ]
    },
    {
     "name": "stderr",
     "output_type": "stream",
     "text": [
      " 39%|███▊      | 387/1005 [50:36<1:44:04, 10.10s/it]"
     ]
    },
    {
     "name": "stdout",
     "output_type": "stream",
     "text": [
      "epoch: 560 loss:0.307291 auc:0.5671\n",
      "Fit finished.\n",
      "epoch:   0 loss:0.781396 auc:0.4202\n",
      "epoch:  20 loss:0.603339 auc:0.6393\n",
      "epoch:  40 loss:0.561826 auc:0.6429\n",
      "epoch:  60 loss:0.468311 auc:0.5905\n",
      "epoch:  80 loss:0.399268 auc:0.6107\n",
      "epoch: 100 loss:0.363039 auc:0.5774\n",
      "epoch: 120 loss:0.344095 auc:0.5857\n",
      "epoch: 140 loss:0.333264 auc:0.5833\n",
      "epoch: 160 loss:0.326473 auc:0.5714\n"
     ]
    },
    {
     "name": "stderr",
     "output_type": "stream",
     "text": [
      " 39%|███▊      | 388/1005 [50:43<1:33:33,  9.10s/it]"
     ]
    },
    {
     "name": "stdout",
     "output_type": "stream",
     "text": [
      "epoch: 180 loss:0.321912 auc:0.5690\n",
      "Fit finished.\n",
      "epoch:   0 loss:0.804673 auc:0.6186\n",
      "epoch:  20 loss:0.581668 auc:0.6696\n",
      "epoch:  40 loss:0.478245 auc:0.6429\n",
      "epoch:  60 loss:0.397726 auc:0.6633\n",
      "epoch:  80 loss:0.357546 auc:0.6607\n",
      "epoch: 100 loss:0.338197 auc:0.6633\n",
      "epoch: 120 loss:0.328098 auc:0.6658\n",
      "epoch: 140 loss:0.322102 auc:0.6645\n",
      "epoch: 160 loss:0.318190 auc:0.6594\n"
     ]
    },
    {
     "name": "stderr",
     "output_type": "stream",
     "text": [
      " 39%|███▊      | 389/1005 [50:50<1:26:58,  8.47s/it]"
     ]
    },
    {
     "name": "stdout",
     "output_type": "stream",
     "text": [
      "epoch: 180 loss:0.315471 auc:0.6594\n",
      "Fit finished.\n",
      "epoch:   0 loss:0.775599 auc:0.5616\n",
      "epoch:  20 loss:0.581880 auc:0.7523\n",
      "epoch:  40 loss:0.479229 auc:0.6336\n",
      "epoch:  60 loss:0.392488 auc:0.5601\n",
      "epoch:  80 loss:0.353951 auc:0.5556\n",
      "epoch: 100 loss:0.336175 auc:0.5646\n",
      "epoch: 120 loss:0.326903 auc:0.5495\n",
      "epoch: 140 loss:0.321351 auc:0.5526\n"
     ]
    },
    {
     "name": "stderr",
     "output_type": "stream",
     "text": [
      " 39%|███▉      | 390/1005 [50:56<1:20:11,  7.82s/it]"
     ]
    },
    {
     "name": "stdout",
     "output_type": "stream",
     "text": [
      "epoch: 160 loss:0.317732 auc:0.5450\n",
      "Fit finished.\n",
      "epoch:   0 loss:0.759904 auc:0.6181\n",
      "epoch:  20 loss:0.569258 auc:0.7070\n",
      "epoch:  40 loss:0.439092 auc:0.6862\n",
      "epoch:  60 loss:0.370738 auc:0.7089\n",
      "epoch:  80 loss:0.343044 auc:0.7108\n",
      "epoch: 100 loss:0.329587 auc:0.6975\n",
      "epoch: 120 loss:0.322100 auc:0.6994\n",
      "epoch: 140 loss:0.317538 auc:0.6919\n",
      "epoch: 160 loss:0.314592 auc:0.6881\n"
     ]
    },
    {
     "name": "stderr",
     "output_type": "stream",
     "text": [
      " 39%|███▉      | 391/1005 [51:04<1:19:20,  7.75s/it]"
     ]
    },
    {
     "name": "stdout",
     "output_type": "stream",
     "text": [
      "epoch: 180 loss:0.312626 auc:0.6919\n",
      "Fit finished.\n",
      "epoch:   0 loss:0.785037 auc:0.4094\n",
      "epoch:  20 loss:0.588560 auc:0.6378\n",
      "epoch:  40 loss:0.508644 auc:0.6084\n",
      "epoch:  60 loss:0.412003 auc:0.5957\n",
      "epoch:  80 loss:0.366308 auc:0.6122\n",
      "epoch: 100 loss:0.343996 auc:0.6033\n",
      "epoch: 120 loss:0.332227 auc:0.5906\n",
      "epoch: 140 loss:0.325252 auc:0.5829\n",
      "epoch: 160 loss:0.320741 auc:0.5778\n"
     ]
    },
    {
     "name": "stderr",
     "output_type": "stream",
     "text": [
      " 39%|███▉      | 392/1005 [51:10<1:14:44,  7.32s/it]"
     ]
    },
    {
     "name": "stdout",
     "output_type": "stream",
     "text": [
      "epoch: 180 loss:0.317629 auc:0.5753\n",
      "Fit finished.\n",
      "epoch:   0 loss:0.799286 auc:0.5779\n",
      "epoch:  20 loss:0.577229 auc:0.6817\n",
      "epoch:  40 loss:0.481344 auc:0.7612\n",
      "epoch:  60 loss:0.403189 auc:0.7093\n",
      "epoch:  80 loss:0.365000 auc:0.6886\n",
      "epoch: 100 loss:0.344520 auc:0.6713\n",
      "epoch: 120 loss:0.332739 auc:0.6609\n",
      "epoch: 140 loss:0.325539 auc:0.6574\n",
      "epoch: 160 loss:0.320830 auc:0.6574\n"
     ]
    },
    {
     "name": "stderr",
     "output_type": "stream",
     "text": [
      " 39%|███▉      | 393/1005 [51:17<1:13:43,  7.23s/it]"
     ]
    },
    {
     "name": "stdout",
     "output_type": "stream",
     "text": [
      "epoch: 180 loss:0.317587 auc:0.6574\n",
      "Fit finished.\n",
      "epoch:   0 loss:0.787039 auc:0.4602\n",
      "epoch:  20 loss:0.592275 auc:0.7370\n",
      "epoch:  40 loss:0.503569 auc:0.6990\n",
      "epoch:  60 loss:0.420831 auc:0.5882\n",
      "epoch:  80 loss:0.373863 auc:0.5917\n",
      "epoch: 100 loss:0.348822 auc:0.5398\n",
      "epoch: 120 loss:0.334993 auc:0.5294\n",
      "epoch: 140 loss:0.326916 auc:0.5260\n",
      "epoch: 160 loss:0.321837 auc:0.5156\n"
     ]
    },
    {
     "name": "stderr",
     "output_type": "stream",
     "text": [
      " 39%|███▉      | 394/1005 [51:24<1:11:37,  7.03s/it]"
     ]
    },
    {
     "name": "stdout",
     "output_type": "stream",
     "text": [
      "epoch: 180 loss:0.318393 auc:0.5087\n",
      "Fit finished.\n",
      "epoch:   0 loss:0.772805 auc:0.6285\n",
      "epoch:  20 loss:0.568491 auc:0.7766\n",
      "epoch:  40 loss:0.434142 auc:0.7280\n",
      "epoch:  60 loss:0.364196 auc:0.6921\n",
      "epoch:  80 loss:0.339049 auc:0.6852\n",
      "epoch: 100 loss:0.327626 auc:0.6887\n",
      "epoch: 120 loss:0.321335 auc:0.6887\n",
      "epoch: 140 loss:0.317458 auc:0.6921\n",
      "epoch: 160 loss:0.314878 auc:0.6933\n"
     ]
    },
    {
     "name": "stderr",
     "output_type": "stream",
     "text": [
      " 39%|███▉      | 395/1005 [51:31<1:10:34,  6.94s/it]"
     ]
    },
    {
     "name": "stdout",
     "output_type": "stream",
     "text": [
      "epoch: 180 loss:0.313060 auc:0.7014\n",
      "Fit finished.\n",
      "epoch:   0 loss:0.792645 auc:0.3600\n",
      "epoch:  20 loss:0.561539 auc:0.5125\n",
      "epoch:  40 loss:0.427731 auc:0.3525\n",
      "epoch:  60 loss:0.365320 auc:0.4275\n",
      "epoch:  80 loss:0.339986 auc:0.4125\n",
      "epoch: 100 loss:0.328104 auc:0.4050\n",
      "epoch: 120 loss:0.321423 auc:0.4050\n",
      "epoch: 140 loss:0.317280 auc:0.3975\n",
      "epoch: 160 loss:0.314536 auc:0.3975\n"
     ]
    },
    {
     "name": "stderr",
     "output_type": "stream",
     "text": [
      " 39%|███▉      | 396/1005 [51:38<1:10:27,  6.94s/it]"
     ]
    },
    {
     "name": "stdout",
     "output_type": "stream",
     "text": [
      "epoch: 180 loss:0.312642 auc:0.4000\n",
      "Fit finished.\n",
      "epoch:   0 loss:0.769454 auc:0.5230\n",
      "epoch:  20 loss:0.594525 auc:0.6824\n",
      "epoch:  40 loss:0.528745 auc:0.6786\n",
      "epoch:  60 loss:0.432147 auc:0.6441\n",
      "epoch:  80 loss:0.377377 auc:0.6416\n",
      "epoch: 100 loss:0.350199 auc:0.6301\n",
      "epoch: 120 loss:0.335946 auc:0.6314\n",
      "epoch: 140 loss:0.327592 auc:0.6288\n",
      "epoch: 160 loss:0.322290 auc:0.6250\n"
     ]
    },
    {
     "name": "stderr",
     "output_type": "stream",
     "text": [
      " 40%|███▉      | 397/1005 [51:45<1:10:19,  6.94s/it]"
     ]
    },
    {
     "name": "stdout",
     "output_type": "stream",
     "text": [
      "epoch: 180 loss:0.318714 auc:0.6263\n",
      "Fit finished.\n",
      "epoch:   0 loss:0.844549 auc:0.4287\n",
      "epoch:  20 loss:0.597957 auc:0.5700\n",
      "epoch:  40 loss:0.528271 auc:0.4742\n",
      "epoch:  60 loss:0.430352 auc:0.4324\n",
      "epoch:  80 loss:0.380958 auc:0.4349\n",
      "epoch: 100 loss:0.353479 auc:0.4435\n",
      "epoch: 120 loss:0.338307 auc:0.4337\n",
      "epoch: 140 loss:0.329329 auc:0.4373\n",
      "epoch: 160 loss:0.323635 auc:0.4373\n"
     ]
    },
    {
     "name": "stderr",
     "output_type": "stream",
     "text": [
      " 40%|███▉      | 398/1005 [51:51<1:09:25,  6.86s/it]"
     ]
    },
    {
     "name": "stdout",
     "output_type": "stream",
     "text": [
      "epoch: 180 loss:0.319785 auc:0.4398\n",
      "Fit finished.\n",
      "epoch:   0 loss:0.836782 auc:0.5344\n",
      "epoch:  20 loss:0.595209 auc:0.6720\n",
      "epoch:  40 loss:0.531599 auc:0.6400\n",
      "epoch:  60 loss:0.435082 auc:0.5760\n",
      "epoch:  80 loss:0.379808 auc:0.5696\n",
      "epoch: 100 loss:0.351653 auc:0.5648\n",
      "epoch: 120 loss:0.336448 auc:0.5712\n",
      "epoch: 140 loss:0.327810 auc:0.5728\n",
      "epoch: 160 loss:0.322484 auc:0.5856\n"
     ]
    },
    {
     "name": "stderr",
     "output_type": "stream",
     "text": [
      " 40%|███▉      | 399/1005 [51:58<1:08:18,  6.76s/it]"
     ]
    },
    {
     "name": "stdout",
     "output_type": "stream",
     "text": [
      "epoch: 180 loss:0.318944 auc:0.5952\n",
      "Fit finished.\n",
      "epoch:   0 loss:0.799561 auc:0.5066\n",
      "epoch:  20 loss:0.581791 auc:0.6805\n",
      "epoch:  40 loss:0.484435 auc:0.7240\n",
      "epoch:  60 loss:0.401299 auc:0.6919\n",
      "epoch:  80 loss:0.360261 auc:0.6975\n",
      "epoch: 100 loss:0.339599 auc:0.6975\n",
      "epoch: 120 loss:0.328833 auc:0.6994\n",
      "epoch: 140 loss:0.322573 auc:0.6975\n",
      "epoch: 160 loss:0.318571 auc:0.6975\n",
      "epoch: 180 loss:0.315831 auc:0.6919\n"
     ]
    },
    {
     "name": "stderr",
     "output_type": "stream",
     "text": [
      " 40%|███▉      | 400/1005 [52:05<1:10:27,  6.99s/it]"
     ]
    },
    {
     "name": "stdout",
     "output_type": "stream",
     "text": [
      "epoch: 200 loss:0.313869 auc:0.6900\n",
      "Fit finished.\n",
      "epoch:   0 loss:0.787110 auc:0.4414\n",
      "epoch:  20 loss:0.598783 auc:0.5793\n",
      "epoch:  40 loss:0.528718 auc:0.5747\n",
      "epoch:  60 loss:0.433548 auc:0.6103\n",
      "epoch:  80 loss:0.380056 auc:0.6207\n",
      "epoch: 100 loss:0.353949 auc:0.6092\n",
      "epoch: 120 loss:0.339732 auc:0.6092\n",
      "epoch: 140 loss:0.331095 auc:0.6011\n",
      "epoch: 160 loss:0.325358 auc:0.6034\n",
      "epoch: 180 loss:0.321343 auc:0.6080\n",
      "epoch: 200 loss:0.318413 auc:0.6069\n"
     ]
    },
    {
     "name": "stderr",
     "output_type": "stream",
     "text": [
      " 40%|███▉      | 401/1005 [52:14<1:14:14,  7.38s/it]"
     ]
    },
    {
     "name": "stdout",
     "output_type": "stream",
     "text": [
      "epoch: 220 loss:0.316205 auc:0.6092\n",
      "Fit finished.\n",
      "epoch:   0 loss:0.793718 auc:0.5198\n",
      "epoch:  20 loss:0.582748 auc:0.6265\n",
      "epoch:  40 loss:0.472950 auc:0.6166\n",
      "epoch:  60 loss:0.389715 auc:0.5296\n",
      "epoch:  80 loss:0.352705 auc:0.5138\n",
      "epoch: 100 loss:0.335916 auc:0.5257\n",
      "epoch: 120 loss:0.326804 auc:0.5277\n",
      "epoch: 140 loss:0.321257 auc:0.5336\n",
      "epoch: 160 loss:0.317602 auc:0.5296\n"
     ]
    },
    {
     "name": "stderr",
     "output_type": "stream",
     "text": [
      " 40%|████      | 402/1005 [52:20<1:12:51,  7.25s/it]"
     ]
    },
    {
     "name": "stdout",
     "output_type": "stream",
     "text": [
      "epoch: 180 loss:0.315088 auc:0.5257\n",
      "Fit finished.\n",
      "epoch:   0 loss:0.812688 auc:0.5108\n",
      "epoch:  20 loss:0.587670 auc:0.5298\n",
      "epoch:  40 loss:0.498987 auc:0.4905\n",
      "epoch:  60 loss:0.418524 auc:0.4431\n",
      "epoch:  80 loss:0.372034 auc:0.4824\n",
      "epoch: 100 loss:0.347363 auc:0.4743\n",
      "epoch: 120 loss:0.334188 auc:0.4797\n",
      "epoch: 140 loss:0.326388 auc:0.4783\n"
     ]
    },
    {
     "name": "stderr",
     "output_type": "stream",
     "text": [
      " 40%|████      | 403/1005 [52:27<1:09:42,  6.95s/it]"
     ]
    },
    {
     "name": "stdout",
     "output_type": "stream",
     "text": [
      "epoch: 160 loss:0.321423 auc:0.4756\n",
      "Fit finished.\n",
      "epoch:   0 loss:0.776470 auc:0.5440\n",
      "epoch:  20 loss:0.568222 auc:0.5264\n",
      "epoch:  40 loss:0.448358 auc:0.5520\n",
      "epoch:  60 loss:0.373998 auc:0.5488\n",
      "epoch:  80 loss:0.344138 auc:0.5632\n",
      "epoch: 100 loss:0.330733 auc:0.5648\n",
      "epoch: 120 loss:0.323406 auc:0.5760\n",
      "epoch: 140 loss:0.318862 auc:0.5808\n",
      "epoch: 160 loss:0.315829 auc:0.5824\n",
      "epoch: 180 loss:0.313712 auc:0.5856\n",
      "epoch: 200 loss:0.312197 auc:0.5856\n",
      "epoch: 220 loss:0.311088 auc:0.5808\n",
      "epoch: 240 loss:0.310261 auc:0.5792\n",
      "epoch: 260 loss:0.309636 auc:0.5840\n",
      "epoch: 280 loss:0.309155 auc:0.5840\n",
      "epoch: 300 loss:0.308779 auc:0.5824\n",
      "epoch: 320 loss:0.308480 auc:0.5856\n",
      "epoch: 340 loss:0.308239 auc:0.5856\n"
     ]
    },
    {
     "name": "stderr",
     "output_type": "stream",
     "text": [
      " 40%|████      | 404/1005 [52:39<1:24:12,  8.41s/it]"
     ]
    },
    {
     "name": "stdout",
     "output_type": "stream",
     "text": [
      "epoch: 360 loss:0.308042 auc:0.5840\n",
      "Fit finished.\n",
      "epoch:   0 loss:0.786837 auc:0.5690\n",
      "epoch:  20 loss:0.568891 auc:0.8053\n",
      "epoch:  40 loss:0.453499 auc:0.7883\n",
      "epoch:  60 loss:0.379769 auc:0.8015\n",
      "epoch:  80 loss:0.347353 auc:0.7958\n",
      "epoch: 100 loss:0.332269 auc:0.7902\n",
      "epoch: 120 loss:0.324277 auc:0.7864\n",
      "epoch: 140 loss:0.319507 auc:0.7826\n",
      "epoch: 160 loss:0.316379 auc:0.7826\n"
     ]
    },
    {
     "name": "stderr",
     "output_type": "stream",
     "text": [
      " 40%|████      | 405/1005 [52:46<1:19:49,  7.98s/it]"
     ]
    },
    {
     "name": "stdout",
     "output_type": "stream",
     "text": [
      "epoch: 180 loss:0.314195 auc:0.7788\n",
      "Fit finished.\n",
      "epoch:   0 loss:0.781032 auc:0.4848\n",
      "epoch:  20 loss:0.598913 auc:0.6656\n",
      "epoch:  40 loss:0.561541 auc:0.6608\n",
      "epoch:  60 loss:0.475951 auc:0.6256\n",
      "epoch:  80 loss:0.405557 auc:0.6064\n",
      "epoch: 100 loss:0.368770 auc:0.5984\n",
      "epoch: 120 loss:0.348690 auc:0.5872\n",
      "epoch: 140 loss:0.336772 auc:0.5984\n",
      "epoch: 160 loss:0.329209 auc:0.5984\n"
     ]
    },
    {
     "name": "stderr",
     "output_type": "stream",
     "text": [
      " 40%|████      | 406/1005 [52:52<1:15:11,  7.53s/it]"
     ]
    },
    {
     "name": "stdout",
     "output_type": "stream",
     "text": [
      "epoch: 180 loss:0.324141 auc:0.5904\n",
      "Fit finished.\n",
      "epoch:   0 loss:0.785360 auc:0.4796\n",
      "epoch:  20 loss:0.592032 auc:0.3801\n",
      "epoch:  40 loss:0.508862 auc:0.4809\n",
      "epoch:  60 loss:0.418273 auc:0.5599\n",
      "epoch:  80 loss:0.369435 auc:0.5421\n",
      "epoch: 100 loss:0.345890 auc:0.5281\n",
      "epoch: 120 loss:0.333219 auc:0.5204\n",
      "epoch: 140 loss:0.325699 auc:0.5077\n",
      "epoch: 160 loss:0.320899 auc:0.5153\n",
      "epoch: 180 loss:0.317658 auc:0.5128\n",
      "epoch: 200 loss:0.315392 auc:0.5140\n"
     ]
    },
    {
     "name": "stderr",
     "output_type": "stream",
     "text": [
      " 40%|████      | 407/1005 [53:00<1:16:25,  7.67s/it]"
     ]
    },
    {
     "name": "stdout",
     "output_type": "stream",
     "text": [
      "epoch: 220 loss:0.313760 auc:0.5089\n",
      "Fit finished.\n",
      "epoch:   0 loss:0.815119 auc:0.4930\n",
      "epoch:  20 loss:0.585559 auc:0.6555\n",
      "epoch:  40 loss:0.484687 auc:0.5602\n",
      "epoch:  60 loss:0.402264 auc:0.5056\n",
      "epoch:  80 loss:0.363492 auc:0.4496\n",
      "epoch: 100 loss:0.342824 auc:0.4384\n",
      "epoch: 120 loss:0.331252 auc:0.4272\n",
      "epoch: 140 loss:0.324363 auc:0.4146\n"
     ]
    },
    {
     "name": "stderr",
     "output_type": "stream",
     "text": [
      " 41%|████      | 408/1005 [53:07<1:12:53,  7.33s/it]"
     ]
    },
    {
     "name": "stdout",
     "output_type": "stream",
     "text": [
      "epoch: 160 loss:0.319898 auc:0.4076\n",
      "Fit finished.\n",
      "epoch:   0 loss:0.908062 auc:0.5312\n",
      "epoch:  20 loss:0.595997 auc:0.3941\n",
      "epoch:  40 loss:0.537027 auc:0.4132\n",
      "epoch:  60 loss:0.442441 auc:0.4253\n",
      "epoch:  80 loss:0.385051 auc:0.4653\n",
      "epoch: 100 loss:0.356196 auc:0.4844\n",
      "epoch: 120 loss:0.340344 auc:0.4948\n",
      "epoch: 140 loss:0.330743 auc:0.4844\n"
     ]
    },
    {
     "name": "stderr",
     "output_type": "stream",
     "text": [
      " 41%|████      | 409/1005 [53:13<1:09:29,  7.00s/it]"
     ]
    },
    {
     "name": "stdout",
     "output_type": "stream",
     "text": [
      "epoch: 160 loss:0.324597 auc:0.4965\n",
      "Fit finished.\n",
      "epoch:   0 loss:0.789731 auc:0.3837\n",
      "epoch:  20 loss:0.584139 auc:0.6193\n",
      "epoch:  40 loss:0.502682 auc:0.5570\n",
      "epoch:  60 loss:0.414356 auc:0.4993\n",
      "epoch:  80 loss:0.366792 auc:0.5111\n",
      "epoch: 100 loss:0.343563 auc:0.5096\n",
      "epoch: 120 loss:0.331342 auc:0.5022\n",
      "epoch: 140 loss:0.324142 auc:0.5052\n",
      "epoch: 160 loss:0.319515 auc:0.5067\n"
     ]
    },
    {
     "name": "stderr",
     "output_type": "stream",
     "text": [
      " 41%|████      | 410/1005 [53:20<1:09:31,  7.01s/it]"
     ]
    },
    {
     "name": "stdout",
     "output_type": "stream",
     "text": [
      "epoch: 180 loss:0.316441 auc:0.5126\n",
      "Fit finished.\n",
      "epoch:   0 loss:0.848602 auc:0.5472\n",
      "epoch:  20 loss:0.596799 auc:0.4209\n",
      "epoch:  40 loss:0.529056 auc:0.4298\n",
      "epoch:  60 loss:0.438831 auc:0.3865\n",
      "epoch:  80 loss:0.387015 auc:0.4031\n",
      "epoch: 100 loss:0.356749 auc:0.4145\n",
      "epoch: 120 loss:0.340068 auc:0.4184\n",
      "epoch: 140 loss:0.330419 auc:0.4133\n"
     ]
    },
    {
     "name": "stderr",
     "output_type": "stream",
     "text": [
      " 41%|████      | 411/1005 [53:26<1:07:03,  6.77s/it]"
     ]
    },
    {
     "name": "stdout",
     "output_type": "stream",
     "text": [
      "epoch: 160 loss:0.324392 auc:0.4120\n",
      "Fit finished.\n",
      "epoch:   0 loss:0.793390 auc:0.4860\n",
      "epoch:  20 loss:0.600329 auc:0.6429\n",
      "epoch:  40 loss:0.537926 auc:0.6110\n",
      "epoch:  60 loss:0.441728 auc:0.5753\n",
      "epoch:  80 loss:0.383021 auc:0.5548\n",
      "epoch: 100 loss:0.353177 auc:0.5574\n",
      "epoch: 120 loss:0.337839 auc:0.5459\n",
      "epoch: 140 loss:0.329227 auc:0.5421\n",
      "epoch: 160 loss:0.323831 auc:0.5395\n"
     ]
    },
    {
     "name": "stderr",
     "output_type": "stream",
     "text": [
      " 41%|████      | 412/1005 [53:33<1:07:07,  6.79s/it]"
     ]
    },
    {
     "name": "stdout",
     "output_type": "stream",
     "text": [
      "epoch: 180 loss:0.320125 auc:0.5344\n",
      "Fit finished.\n",
      "epoch:   0 loss:0.798811 auc:0.3787\n",
      "epoch:  20 loss:0.601978 auc:0.7175\n",
      "epoch:  40 loss:0.552548 auc:0.7249\n",
      "epoch:  60 loss:0.461870 auc:0.5592\n",
      "epoch:  80 loss:0.394517 auc:0.5251\n",
      "epoch: 100 loss:0.360329 auc:0.5577\n",
      "epoch: 120 loss:0.342440 auc:0.5695\n",
      "epoch: 140 loss:0.332426 auc:0.5636\n",
      "epoch: 160 loss:0.326205 auc:0.5577\n"
     ]
    },
    {
     "name": "stderr",
     "output_type": "stream",
     "text": [
      " 41%|████      | 413/1005 [53:40<1:06:35,  6.75s/it]"
     ]
    },
    {
     "name": "stdout",
     "output_type": "stream",
     "text": [
      "epoch: 180 loss:0.321981 auc:0.5473\n",
      "Fit finished.\n",
      "epoch:   0 loss:0.781434 auc:0.3462\n",
      "epoch:  20 loss:0.595177 auc:0.4321\n",
      "epoch:  40 loss:0.515959 auc:0.3795\n",
      "epoch:  60 loss:0.424676 auc:0.5154\n",
      "epoch:  80 loss:0.374825 auc:0.5538\n",
      "epoch: 100 loss:0.349718 auc:0.5667\n",
      "epoch: 120 loss:0.336171 auc:0.5731\n",
      "epoch: 140 loss:0.328306 auc:0.5769\n",
      "epoch: 160 loss:0.323299 auc:0.5782\n",
      "epoch: 180 loss:0.319858 auc:0.5795\n",
      "epoch: 200 loss:0.317356 auc:0.5795\n",
      "epoch: 220 loss:0.315454 auc:0.5821\n",
      "epoch: 240 loss:0.313972 auc:0.5885\n",
      "epoch: 260 loss:0.312796 auc:0.5897\n",
      "epoch: 280 loss:0.311856 auc:0.5910\n",
      "epoch: 300 loss:0.311098 auc:0.5936\n",
      "epoch: 320 loss:0.310481 auc:0.6000\n",
      "epoch: 340 loss:0.309975 auc:0.6026\n",
      "epoch: 360 loss:0.309554 auc:0.6064\n",
      "epoch: 380 loss:0.309200 auc:0.6064\n",
      "epoch: 400 loss:0.308900 auc:0.6115\n",
      "epoch: 420 loss:0.308644 auc:0.6179\n",
      "epoch: 440 loss:0.308423 auc:0.6218\n",
      "epoch: 460 loss:0.308231 auc:0.6205\n",
      "epoch: 480 loss:0.308064 auc:0.6218\n",
      "epoch: 500 loss:0.307951 auc:0.6269\n",
      "epoch: 520 loss:0.307786 auc:0.6192\n",
      "epoch: 540 loss:0.307669 auc:0.6244\n",
      "epoch: 560 loss:0.307565 auc:0.6269\n",
      "epoch: 580 loss:0.307472 auc:0.6256\n",
      "epoch: 600 loss:0.307390 auc:0.6282\n",
      "epoch: 620 loss:0.307619 auc:0.6282\n",
      "epoch: 640 loss:0.307256 auc:0.6269\n",
      "epoch: 660 loss:0.307201 auc:0.6282\n",
      "epoch: 680 loss:0.307148 auc:0.6295\n",
      "epoch: 700 loss:0.307103 auc:0.6295\n",
      "epoch: 720 loss:0.307064 auc:0.6308\n",
      "epoch: 740 loss:0.307029 auc:0.6308\n",
      "epoch: 760 loss:0.306997 auc:0.6282\n",
      "epoch: 780 loss:0.306979 auc:0.6295\n",
      "epoch: 800 loss:0.306949 auc:0.6282\n"
     ]
    },
    {
     "name": "stderr",
     "output_type": "stream",
     "text": [
      " 41%|████      | 414/1005 [54:06<2:03:42, 12.56s/it]"
     ]
    },
    {
     "name": "stdout",
     "output_type": "stream",
     "text": [
      "epoch: 820 loss:0.306925 auc:0.6269\n",
      "Fit finished.\n",
      "epoch:   0 loss:0.786073 auc:0.4211\n",
      "epoch:  20 loss:0.593523 auc:0.6475\n",
      "epoch:  40 loss:0.515329 auc:0.5652\n",
      "epoch:  60 loss:0.428934 auc:0.4815\n",
      "epoch:  80 loss:0.380338 auc:0.4527\n",
      "epoch: 100 loss:0.353630 auc:0.4362\n",
      "epoch: 120 loss:0.338621 auc:0.4321\n",
      "epoch: 140 loss:0.329598 auc:0.4307\n",
      "epoch: 160 loss:0.323750 auc:0.4390\n"
     ]
    },
    {
     "name": "stderr",
     "output_type": "stream",
     "text": [
      " 41%|████▏     | 415/1005 [54:12<1:45:35, 10.74s/it]"
     ]
    },
    {
     "name": "stdout",
     "output_type": "stream",
     "text": [
      "epoch: 180 loss:0.319743 auc:0.4321\n",
      "Fit finished.\n",
      "epoch:   0 loss:0.788284 auc:0.5436\n",
      "epoch:  20 loss:0.557385 auc:0.5492\n",
      "epoch:  40 loss:0.435691 auc:0.3845\n",
      "epoch:  60 loss:0.369360 auc:0.3769\n",
      "epoch:  80 loss:0.340961 auc:0.3617\n",
      "epoch: 100 loss:0.328220 auc:0.3523\n",
      "epoch: 120 loss:0.321528 auc:0.3598\n",
      "epoch: 140 loss:0.317482 auc:0.3655\n"
     ]
    },
    {
     "name": "stderr",
     "output_type": "stream",
     "text": [
      " 41%|████▏     | 416/1005 [54:18<1:31:37,  9.33s/it]"
     ]
    },
    {
     "name": "stdout",
     "output_type": "stream",
     "text": [
      "epoch: 160 loss:0.314841 auc:0.3674\n",
      "Fit finished.\n",
      "epoch:   0 loss:0.776908 auc:0.5208\n",
      "epoch:  20 loss:0.568865 auc:0.7188\n",
      "epoch:  40 loss:0.442268 auc:0.5567\n",
      "epoch:  60 loss:0.368526 auc:0.5799\n",
      "epoch:  80 loss:0.339994 auc:0.5995\n",
      "epoch: 100 loss:0.328032 auc:0.6030\n",
      "epoch: 120 loss:0.321648 auc:0.5972\n",
      "epoch: 140 loss:0.317644 auc:0.6157\n",
      "epoch: 160 loss:0.314932 auc:0.6204\n"
     ]
    },
    {
     "name": "stderr",
     "output_type": "stream",
     "text": [
      " 41%|████▏     | 417/1005 [54:25<1:24:30,  8.62s/it]"
     ]
    },
    {
     "name": "stdout",
     "output_type": "stream",
     "text": [
      "epoch: 180 loss:0.313006 auc:0.6238\n",
      "Fit finished.\n",
      "epoch:   0 loss:0.810219 auc:0.5578\n",
      "epoch:  20 loss:0.573779 auc:0.7188\n",
      "epoch:  40 loss:0.452748 auc:0.7710\n",
      "epoch:  60 loss:0.374986 auc:0.7800\n",
      "epoch:  80 loss:0.344147 auc:0.7868\n",
      "epoch: 100 loss:0.330226 auc:0.8005\n",
      "epoch: 120 loss:0.322987 auc:0.8050\n",
      "epoch: 140 loss:0.318616 auc:0.8095\n",
      "epoch: 160 loss:0.315679 auc:0.8209\n",
      "epoch: 180 loss:0.313587 auc:0.8186\n",
      "epoch: 200 loss:0.312035 auc:0.8209\n",
      "epoch: 220 loss:0.310862 auc:0.8231\n",
      "epoch: 240 loss:0.309966 auc:0.8186\n",
      "epoch: 260 loss:0.309283 auc:0.8141\n",
      "epoch: 280 loss:0.308761 auc:0.8095\n",
      "epoch: 300 loss:0.308362 auc:0.8095\n"
     ]
    },
    {
     "name": "stderr",
     "output_type": "stream",
     "text": [
      " 42%|████▏     | 418/1005 [54:37<1:33:15,  9.53s/it]"
     ]
    },
    {
     "name": "stdout",
     "output_type": "stream",
     "text": [
      "epoch: 320 loss:0.308056 auc:0.8095\n",
      "Fit finished.\n",
      "epoch:   0 loss:0.762045 auc:0.4796\n",
      "epoch:  20 loss:0.594785 auc:0.5038\n",
      "epoch:  40 loss:0.513862 auc:0.4987\n",
      "epoch:  60 loss:0.423472 auc:0.4528\n",
      "epoch:  80 loss:0.373914 auc:0.4477\n",
      "epoch: 100 loss:0.347634 auc:0.4260\n",
      "epoch: 120 loss:0.333766 auc:0.4413\n",
      "epoch: 140 loss:0.325926 auc:0.4375\n"
     ]
    },
    {
     "name": "stderr",
     "output_type": "stream",
     "text": [
      " 42%|████▏     | 419/1005 [54:43<1:22:28,  8.45s/it]"
     ]
    },
    {
     "name": "stdout",
     "output_type": "stream",
     "text": [
      "epoch: 160 loss:0.321040 auc:0.4375\n",
      "Fit finished.\n",
      "epoch:   0 loss:0.783723 auc:0.6359\n",
      "epoch:  20 loss:0.572237 auc:0.6859\n",
      "epoch:  40 loss:0.458482 auc:0.6692\n",
      "epoch:  60 loss:0.384204 auc:0.6641\n",
      "epoch:  80 loss:0.350624 auc:0.6397\n",
      "epoch: 100 loss:0.334474 auc:0.6282\n",
      "epoch: 120 loss:0.325590 auc:0.6231\n",
      "epoch: 140 loss:0.320263 auc:0.6218\n"
     ]
    },
    {
     "name": "stderr",
     "output_type": "stream",
     "text": [
      " 42%|████▏     | 420/1005 [54:49<1:16:05,  7.80s/it]"
     ]
    },
    {
     "name": "stdout",
     "output_type": "stream",
     "text": [
      "epoch: 160 loss:0.316852 auc:0.6192\n",
      "Fit finished.\n",
      "epoch:   0 loss:0.785794 auc:0.3950\n",
      "epoch:  20 loss:0.595623 auc:0.5370\n",
      "epoch:  40 loss:0.517747 auc:0.4852\n",
      "epoch:  60 loss:0.423687 auc:0.4556\n",
      "epoch:  80 loss:0.373141 auc:0.4660\n",
      "epoch: 100 loss:0.348635 auc:0.4645\n",
      "epoch: 120 loss:0.335273 auc:0.4660\n",
      "epoch: 140 loss:0.327088 auc:0.4719\n",
      "epoch: 160 loss:0.321799 auc:0.4763\n"
     ]
    },
    {
     "name": "stderr",
     "output_type": "stream",
     "text": [
      " 42%|████▏     | 422/1005 [54:56<55:58,  5.76s/it]  "
     ]
    },
    {
     "name": "stdout",
     "output_type": "stream",
     "text": [
      "epoch: 180 loss:0.318260 auc:0.4837\n",
      "Fit finished.\n",
      "epoch:   0 loss:0.882048 auc:0.5423\n",
      "epoch:  20 loss:0.596855 auc:0.6474\n",
      "epoch:  40 loss:0.527739 auc:0.6551\n",
      "epoch:  60 loss:0.428946 auc:0.6141\n",
      "epoch:  80 loss:0.375234 auc:0.6154\n",
      "epoch: 100 loss:0.348501 auc:0.6295\n",
      "epoch: 120 loss:0.334443 auc:0.6346\n",
      "epoch: 140 loss:0.326418 auc:0.6449\n",
      "epoch: 160 loss:0.321361 auc:0.6474\n",
      "epoch: 180 loss:0.317957 auc:0.6487\n"
     ]
    },
    {
     "name": "stderr",
     "output_type": "stream",
     "text": [
      " 42%|████▏     | 423/1005 [55:03<1:00:04,  6.19s/it]"
     ]
    },
    {
     "name": "stdout",
     "output_type": "stream",
     "text": [
      "epoch: 200 loss:0.315565 auc:0.6449\n",
      "Fit finished.\n",
      "epoch:   0 loss:0.802586 auc:0.5048\n",
      "epoch:  20 loss:0.593293 auc:0.6036\n",
      "epoch:  40 loss:0.519216 auc:0.5981\n",
      "epoch:  60 loss:0.425057 auc:0.5816\n",
      "epoch:  80 loss:0.373029 auc:0.5816\n",
      "epoch: 100 loss:0.346458 auc:0.5857\n",
      "epoch: 120 loss:0.332925 auc:0.5830\n",
      "epoch: 140 loss:0.325270 auc:0.5816\n",
      "epoch: 160 loss:0.320438 auc:0.5761\n"
     ]
    },
    {
     "name": "stderr",
     "output_type": "stream",
     "text": [
      " 42%|████▏     | 424/1005 [55:11<1:03:00,  6.51s/it]"
     ]
    },
    {
     "name": "stdout",
     "output_type": "stream",
     "text": [
      "epoch: 180 loss:0.317178 auc:0.5720\n",
      "Fit finished.\n",
      "epoch:   0 loss:0.840005 auc:0.4920\n",
      "epoch:  20 loss:0.592606 auc:0.6080\n",
      "epoch:  40 loss:0.515866 auc:0.6402\n",
      "epoch:  60 loss:0.418952 auc:0.6851\n",
      "epoch:  80 loss:0.372458 auc:0.6862\n",
      "epoch: 100 loss:0.346698 auc:0.6989\n",
      "epoch: 120 loss:0.333045 auc:0.6977\n",
      "epoch: 140 loss:0.325368 auc:0.6839\n",
      "epoch: 160 loss:0.320609 auc:0.6759\n",
      "epoch: 180 loss:0.317447 auc:0.6713\n",
      "epoch: 200 loss:0.315222 auc:0.6701\n"
     ]
    },
    {
     "name": "stderr",
     "output_type": "stream",
     "text": [
      " 42%|████▏     | 425/1005 [55:19<1:06:28,  6.88s/it]"
     ]
    },
    {
     "name": "stdout",
     "output_type": "stream",
     "text": [
      "epoch: 220 loss:0.313583 auc:0.6655\n",
      "Fit finished.\n",
      "epoch:   0 loss:0.780425 auc:0.5700\n",
      "epoch:  20 loss:0.589691 auc:0.6560\n",
      "epoch:  40 loss:0.499189 auc:0.6732\n",
      "epoch:  60 loss:0.415017 auc:0.7113\n",
      "epoch:  80 loss:0.369537 auc:0.7064\n",
      "epoch: 100 loss:0.346223 auc:0.7236\n",
      "epoch: 120 loss:0.333017 auc:0.7273\n",
      "epoch: 140 loss:0.325290 auc:0.7285\n",
      "epoch: 160 loss:0.320476 auc:0.7260\n",
      "epoch: 180 loss:0.317269 auc:0.7248\n",
      "epoch: 200 loss:0.315016 auc:0.7260\n",
      "epoch: 220 loss:0.313380 auc:0.7224\n",
      "epoch: 240 loss:0.312160 auc:0.7236\n",
      "epoch: 260 loss:0.311227 auc:0.7273\n",
      "epoch: 280 loss:0.310501 auc:0.7273\n"
     ]
    },
    {
     "name": "stderr",
     "output_type": "stream",
     "text": [
      " 42%|████▏     | 426/1005 [55:29<1:14:55,  7.76s/it]"
     ]
    },
    {
     "name": "stdout",
     "output_type": "stream",
     "text": [
      "epoch: 300 loss:0.309925 auc:0.7248\n",
      "Fit finished.\n",
      "epoch:   0 loss:0.776571 auc:0.4814\n",
      "epoch:  20 loss:0.574537 auc:0.7562\n",
      "epoch:  40 loss:0.448314 auc:0.6136\n",
      "epoch:  60 loss:0.372660 auc:0.6508\n",
      "epoch:  80 loss:0.342693 auc:0.6508\n",
      "epoch: 100 loss:0.329167 auc:0.6529\n",
      "epoch: 120 loss:0.321896 auc:0.6529\n",
      "epoch: 140 loss:0.317546 auc:0.6488\n",
      "epoch: 160 loss:0.314745 auc:0.6446\n"
     ]
    },
    {
     "name": "stderr",
     "output_type": "stream",
     "text": [
      " 42%|████▏     | 427/1005 [55:35<1:11:34,  7.43s/it]"
     ]
    },
    {
     "name": "stdout",
     "output_type": "stream",
     "text": [
      "epoch: 180 loss:0.312851 auc:0.6446\n",
      "Fit finished.\n",
      "epoch:   0 loss:0.790116 auc:0.4260\n",
      "epoch:  20 loss:0.580017 auc:0.6008\n",
      "epoch:  40 loss:0.475289 auc:0.4949\n",
      "epoch:  60 loss:0.398641 auc:0.5357\n",
      "epoch:  80 loss:0.359889 auc:0.5306\n",
      "epoch: 100 loss:0.340034 auc:0.5357\n",
      "epoch: 120 loss:0.329422 auc:0.5281\n",
      "epoch: 140 loss:0.323092 auc:0.5293\n",
      "epoch: 160 loss:0.318969 auc:0.5395\n"
     ]
    },
    {
     "name": "stderr",
     "output_type": "stream",
     "text": [
      " 43%|████▎     | 428/1005 [55:42<1:09:58,  7.28s/it]"
     ]
    },
    {
     "name": "stdout",
     "output_type": "stream",
     "text": [
      "epoch: 180 loss:0.316130 auc:0.5434\n",
      "Fit finished.\n",
      "epoch:   0 loss:0.847822 auc:0.3704\n",
      "epoch:  20 loss:0.594597 auc:0.7130\n",
      "epoch:  40 loss:0.517910 auc:0.6914\n",
      "epoch:  60 loss:0.422853 auc:0.6142\n",
      "epoch:  80 loss:0.374974 auc:0.5648\n",
      "epoch: 100 loss:0.350280 auc:0.5370\n",
      "epoch: 120 loss:0.336869 auc:0.5278\n",
      "epoch: 140 loss:0.328856 auc:0.5278\n",
      "epoch: 160 loss:0.323627 auc:0.5309\n"
     ]
    },
    {
     "name": "stderr",
     "output_type": "stream",
     "text": [
      " 43%|████▎     | 429/1005 [55:49<1:08:13,  7.11s/it]"
     ]
    },
    {
     "name": "stdout",
     "output_type": "stream",
     "text": [
      "epoch: 180 loss:0.319986 auc:0.5247\n",
      "Fit finished.\n",
      "epoch:   0 loss:0.786567 auc:0.6599\n",
      "epoch:  20 loss:0.589724 auc:0.7075\n",
      "epoch:  40 loss:0.495762 auc:0.6712\n",
      "epoch:  60 loss:0.410201 auc:0.6825\n",
      "epoch:  80 loss:0.365071 auc:0.6916\n",
      "epoch: 100 loss:0.342690 auc:0.6916\n",
      "epoch: 120 loss:0.330937 auc:0.6916\n",
      "epoch: 140 loss:0.324116 auc:0.6961\n",
      "epoch: 160 loss:0.319826 auc:0.6984\n",
      "epoch: 180 loss:0.316912 auc:0.7098\n",
      "epoch: 200 loss:0.314824 auc:0.7098\n",
      "epoch: 220 loss:0.313262 auc:0.7098\n",
      "epoch: 240 loss:0.312062 auc:0.7075\n",
      "epoch: 260 loss:0.311128 auc:0.7075\n",
      "epoch: 280 loss:0.310392 auc:0.7052\n",
      "epoch: 300 loss:0.309807 auc:0.7029\n",
      "epoch: 320 loss:0.309335 auc:0.6984\n"
     ]
    },
    {
     "name": "stderr",
     "output_type": "stream",
     "text": [
      " 43%|████▎     | 430/1005 [56:01<1:21:16,  8.48s/it]"
     ]
    },
    {
     "name": "stdout",
     "output_type": "stream",
     "text": [
      "epoch: 340 loss:0.308950 auc:0.6984\n",
      "Fit finished.\n",
      "epoch:   0 loss:0.793733 auc:0.4320\n",
      "epoch:  20 loss:0.606681 auc:0.6384\n",
      "epoch:  40 loss:0.568494 auc:0.6464\n",
      "epoch:  60 loss:0.489108 auc:0.6544\n",
      "epoch:  80 loss:0.417254 auc:0.6544\n",
      "epoch: 100 loss:0.375412 auc:0.6256\n",
      "epoch: 120 loss:0.352562 auc:0.6032\n",
      "epoch: 140 loss:0.339330 auc:0.5904\n",
      "epoch: 160 loss:0.330995 auc:0.5904\n"
     ]
    },
    {
     "name": "stderr",
     "output_type": "stream",
     "text": [
      " 43%|████▎     | 431/1005 [56:07<1:15:51,  7.93s/it]"
     ]
    },
    {
     "name": "stdout",
     "output_type": "stream",
     "text": [
      "epoch: 180 loss:0.325346 auc:0.5840\n",
      "Fit finished.\n",
      "epoch:   0 loss:0.770078 auc:0.6327\n",
      "epoch:  20 loss:0.588877 auc:0.6633\n",
      "epoch:  40 loss:0.500924 auc:0.7041\n",
      "epoch:  60 loss:0.414965 auc:0.7551\n",
      "epoch:  80 loss:0.368514 auc:0.7551\n",
      "epoch: 100 loss:0.345673 auc:0.7704\n",
      "epoch: 120 loss:0.333676 auc:0.7755\n",
      "epoch: 140 loss:0.326397 auc:0.7908\n",
      "epoch: 160 loss:0.321623 auc:0.7959\n",
      "epoch: 180 loss:0.318319 auc:0.7908\n",
      "epoch: 200 loss:0.315944 auc:0.7857\n",
      "epoch: 220 loss:0.314187 auc:0.7857\n",
      "epoch: 240 loss:0.312849 auc:0.7755\n",
      "epoch: 260 loss:0.311812 auc:0.7755\n",
      "epoch: 280 loss:0.310992 auc:0.7806\n"
     ]
    },
    {
     "name": "stderr",
     "output_type": "stream",
     "text": [
      " 43%|████▎     | 432/1005 [56:18<1:22:52,  8.68s/it]"
     ]
    },
    {
     "name": "stdout",
     "output_type": "stream",
     "text": [
      "epoch: 300 loss:0.310334 auc:0.7806\n",
      "Fit finished.\n",
      "epoch:   0 loss:0.779299 auc:0.4697\n",
      "epoch:  20 loss:0.572257 auc:0.5838\n",
      "epoch:  40 loss:0.450079 auc:0.5042\n",
      "epoch:  60 loss:0.374599 auc:0.5149\n",
      "epoch:  80 loss:0.344753 auc:0.5184\n",
      "epoch: 100 loss:0.331420 auc:0.5184\n",
      "epoch: 120 loss:0.323860 auc:0.5101\n",
      "epoch: 140 loss:0.319092 auc:0.5077\n",
      "epoch: 160 loss:0.315924 auc:0.5125\n"
     ]
    },
    {
     "name": "stderr",
     "output_type": "stream",
     "text": [
      " 43%|████▎     | 433/1005 [56:24<1:17:22,  8.12s/it]"
     ]
    },
    {
     "name": "stdout",
     "output_type": "stream",
     "text": [
      "epoch: 180 loss:0.313734 auc:0.5137\n",
      "Fit finished.\n",
      "epoch:   0 loss:0.764235 auc:0.5803\n",
      "epoch:  20 loss:0.572304 auc:0.7241\n",
      "epoch:  40 loss:0.467191 auc:0.6516\n",
      "epoch:  60 loss:0.390509 auc:0.6124\n",
      "epoch:  80 loss:0.355826 auc:0.6136\n",
      "epoch: 100 loss:0.338010 auc:0.6147\n",
      "epoch: 120 loss:0.327907 auc:0.6124\n",
      "epoch: 140 loss:0.321851 auc:0.6076\n",
      "epoch: 160 loss:0.318039 auc:0.6040\n"
     ]
    },
    {
     "name": "stderr",
     "output_type": "stream",
     "text": [
      " 43%|████▎     | 434/1005 [56:31<1:12:05,  7.58s/it]"
     ]
    },
    {
     "name": "stdout",
     "output_type": "stream",
     "text": [
      "epoch: 180 loss:0.315499 auc:0.6017\n",
      "Fit finished.\n",
      "epoch:   0 loss:0.836389 auc:0.4881\n",
      "epoch:  20 loss:0.597226 auc:0.6481\n",
      "epoch:  40 loss:0.524645 auc:0.6601\n",
      "epoch:  60 loss:0.426821 auc:0.6349\n",
      "epoch:  80 loss:0.375961 auc:0.6111\n",
      "epoch: 100 loss:0.349125 auc:0.6204\n",
      "epoch: 120 loss:0.334974 auc:0.6124\n",
      "epoch: 140 loss:0.326769 auc:0.6032\n",
      "epoch: 160 loss:0.321550 auc:0.6032\n"
     ]
    },
    {
     "name": "stderr",
     "output_type": "stream",
     "text": [
      " 43%|████▎     | 435/1005 [56:38<1:10:03,  7.38s/it]"
     ]
    },
    {
     "name": "stdout",
     "output_type": "stream",
     "text": [
      "epoch: 180 loss:0.318014 auc:0.5966\n",
      "Fit finished.\n",
      "epoch:   0 loss:0.784671 auc:0.5036\n",
      "epoch:  20 loss:0.585861 auc:0.7337\n",
      "epoch:  40 loss:0.483533 auc:0.7283\n",
      "epoch:  60 loss:0.395394 auc:0.7011\n",
      "epoch:  80 loss:0.358096 auc:0.7065\n",
      "epoch: 100 loss:0.339856 auc:0.6975\n",
      "epoch: 120 loss:0.329450 auc:0.6938\n",
      "epoch: 140 loss:0.323063 auc:0.6938\n",
      "epoch: 160 loss:0.318946 auc:0.6938\n"
     ]
    },
    {
     "name": "stderr",
     "output_type": "stream",
     "text": [
      " 43%|████▎     | 436/1005 [56:44<1:08:30,  7.22s/it]"
     ]
    },
    {
     "name": "stdout",
     "output_type": "stream",
     "text": [
      "epoch: 180 loss:0.316184 auc:0.7011\n",
      "Fit finished.\n",
      "epoch:   0 loss:0.804237 auc:0.5023\n",
      "epoch:  20 loss:0.590977 auc:0.8007\n",
      "epoch:  40 loss:0.517930 auc:0.8240\n",
      "epoch:  60 loss:0.429675 auc:0.8170\n",
      "epoch:  80 loss:0.377886 auc:0.7937\n",
      "epoch: 100 loss:0.350729 auc:0.7739\n",
      "epoch: 120 loss:0.335800 auc:0.7692\n",
      "epoch: 140 loss:0.326992 auc:0.7622\n",
      "epoch: 160 loss:0.321598 auc:0.7681\n"
     ]
    },
    {
     "name": "stderr",
     "output_type": "stream",
     "text": [
      " 43%|████▎     | 437/1005 [56:51<1:06:11,  6.99s/it]"
     ]
    },
    {
     "name": "stdout",
     "output_type": "stream",
     "text": [
      "epoch: 180 loss:0.318107 auc:0.7634\n",
      "Fit finished.\n",
      "epoch:   0 loss:0.785591 auc:0.4727\n",
      "epoch:  20 loss:0.564156 auc:0.6211\n",
      "epoch:  40 loss:0.440146 auc:0.6094\n",
      "epoch:  60 loss:0.372552 auc:0.5898\n",
      "epoch:  80 loss:0.343035 auc:0.5938\n",
      "epoch: 100 loss:0.329607 auc:0.6055\n",
      "epoch: 120 loss:0.322339 auc:0.6172\n",
      "epoch: 140 loss:0.317961 auc:0.6172\n",
      "epoch: 160 loss:0.315118 auc:0.6211\n",
      "epoch: 180 loss:0.313190 auc:0.6289\n",
      "epoch: 200 loss:0.311841 auc:0.6289\n",
      "epoch: 220 loss:0.310867 auc:0.6172\n",
      "epoch: 240 loss:0.310139 auc:0.6133\n",
      "epoch: 260 loss:0.309577 auc:0.6289\n",
      "epoch: 280 loss:0.309132 auc:0.6289\n",
      "epoch: 300 loss:0.308774 auc:0.6289\n",
      "epoch: 320 loss:0.308481 auc:0.6289\n",
      "epoch: 340 loss:0.308237 auc:0.6328\n",
      "epoch: 360 loss:0.308221 auc:0.6328\n",
      "epoch: 380 loss:0.307855 auc:0.6328\n",
      "epoch: 400 loss:0.307704 auc:0.6367\n",
      "epoch: 420 loss:0.307569 auc:0.6445\n",
      "epoch: 440 loss:0.307452 auc:0.6484\n",
      "epoch: 460 loss:0.307351 auc:0.6484\n",
      "epoch: 480 loss:0.307264 auc:0.6484\n",
      "epoch: 500 loss:0.307228 auc:0.6523\n",
      "epoch: 520 loss:0.307145 auc:0.6484\n",
      "epoch: 540 loss:0.307075 auc:0.6484\n",
      "epoch: 560 loss:0.307030 auc:0.6484\n",
      "epoch: 580 loss:0.306992 auc:0.6484\n",
      "epoch: 600 loss:0.306962 auc:0.6484\n",
      "epoch: 620 loss:0.306937 auc:0.6484\n",
      "epoch: 640 loss:0.306917 auc:0.6484\n"
     ]
    },
    {
     "name": "stderr",
     "output_type": "stream",
     "text": [
      " 44%|████▎     | 438/1005 [57:12<1:44:56, 11.10s/it]"
     ]
    },
    {
     "name": "stdout",
     "output_type": "stream",
     "text": [
      "epoch: 660 loss:0.306901 auc:0.6484\n",
      "Fit finished.\n",
      "epoch:   0 loss:0.789807 auc:0.4959\n",
      "epoch:  20 loss:0.586136 auc:0.5599\n",
      "epoch:  40 loss:0.486235 auc:0.6136\n",
      "epoch:  60 loss:0.405308 auc:0.6529\n",
      "epoch:  80 loss:0.365529 auc:0.6612\n",
      "epoch: 100 loss:0.344342 auc:0.6632\n",
      "epoch: 120 loss:0.332513 auc:0.6591\n",
      "epoch: 140 loss:0.325474 auc:0.6756\n",
      "epoch: 160 loss:0.320956 auc:0.6653\n",
      "epoch: 180 loss:0.317873 auc:0.6653\n",
      "epoch: 200 loss:0.315632 auc:0.6653\n",
      "epoch: 220 loss:0.313930 auc:0.6591\n",
      "epoch: 240 loss:0.312602 auc:0.6612\n"
     ]
    },
    {
     "name": "stderr",
     "output_type": "stream",
     "text": [
      " 44%|████▎     | 439/1005 [57:20<1:37:50, 10.37s/it]"
     ]
    },
    {
     "name": "stdout",
     "output_type": "stream",
     "text": [
      "epoch: 260 loss:0.311553 auc:0.6570\n",
      "Fit finished.\n",
      "epoch:   0 loss:0.805330 auc:0.5968\n",
      "epoch:  20 loss:0.601598 auc:0.8329\n",
      "epoch:  40 loss:0.558445 auc:0.8342\n",
      "epoch:  60 loss:0.466584 auc:0.6631\n",
      "epoch:  80 loss:0.399017 auc:0.6088\n",
      "epoch: 100 loss:0.363205 auc:0.5756\n",
      "epoch: 120 loss:0.344574 auc:0.5491\n",
      "epoch: 140 loss:0.333740 auc:0.5332\n"
     ]
    },
    {
     "name": "stderr",
     "output_type": "stream",
     "text": [
      " 44%|████▍     | 440/1005 [57:26<1:25:36,  9.09s/it]"
     ]
    },
    {
     "name": "stdout",
     "output_type": "stream",
     "text": [
      "epoch: 160 loss:0.326823 auc:0.5305\n",
      "Fit finished.\n",
      "epoch:   0 loss:0.860852 auc:0.5357\n",
      "epoch:  20 loss:0.592100 auc:0.7156\n",
      "epoch:  40 loss:0.512855 auc:0.7079\n",
      "epoch:  60 loss:0.422714 auc:0.6645\n",
      "epoch:  80 loss:0.375629 auc:0.6607\n",
      "epoch: 100 loss:0.350730 auc:0.6480\n",
      "epoch: 120 loss:0.336282 auc:0.6403\n",
      "epoch: 140 loss:0.327504 auc:0.6327\n",
      "epoch: 160 loss:0.321940 auc:0.6314\n"
     ]
    },
    {
     "name": "stderr",
     "output_type": "stream",
     "text": [
      " 44%|████▍     | 441/1005 [57:34<1:20:12,  8.53s/it]"
     ]
    },
    {
     "name": "stdout",
     "output_type": "stream",
     "text": [
      "epoch: 180 loss:0.318251 auc:0.6288\n",
      "Fit finished.\n",
      "epoch:   0 loss:0.825584 auc:0.6958\n",
      "epoch:  20 loss:0.596453 auc:0.7208\n",
      "epoch:  40 loss:0.536077 auc:0.7694\n",
      "epoch:  60 loss:0.434144 auc:0.7625\n",
      "epoch:  80 loss:0.376619 auc:0.7694\n",
      "epoch: 100 loss:0.349306 auc:0.7528\n",
      "epoch: 120 loss:0.335287 auc:0.7375\n",
      "epoch: 140 loss:0.327135 auc:0.7181\n",
      "epoch: 160 loss:0.322014 auc:0.7042\n"
     ]
    },
    {
     "name": "stderr",
     "output_type": "stream",
     "text": [
      " 44%|████▍     | 442/1005 [57:40<1:14:53,  7.98s/it]"
     ]
    },
    {
     "name": "stdout",
     "output_type": "stream",
     "text": [
      "epoch: 180 loss:0.318573 auc:0.6861\n",
      "Fit finished.\n",
      "epoch:   0 loss:0.796423 auc:0.4078\n",
      "epoch:  20 loss:0.594358 auc:0.6790\n",
      "epoch:  40 loss:0.510027 auc:0.3853\n",
      "epoch:  60 loss:0.421122 auc:0.3805\n",
      "epoch:  80 loss:0.373119 auc:0.3139\n",
      "epoch: 100 loss:0.348877 auc:0.3080\n",
      "epoch: 120 loss:0.335490 auc:0.3282\n",
      "epoch: 140 loss:0.327384 auc:0.3401\n"
     ]
    },
    {
     "name": "stderr",
     "output_type": "stream",
     "text": [
      " 44%|████▍     | 443/1005 [57:46<1:09:25,  7.41s/it]"
     ]
    },
    {
     "name": "stdout",
     "output_type": "stream",
     "text": [
      "epoch: 160 loss:0.322201 auc:0.3424\n",
      "Fit finished.\n",
      "epoch:   0 loss:0.797241 auc:0.3686\n",
      "epoch:  20 loss:0.568237 auc:0.7769\n",
      "epoch:  40 loss:0.448302 auc:0.4896\n",
      "epoch:  60 loss:0.376070 auc:0.5123\n",
      "epoch:  80 loss:0.345337 auc:0.5293\n",
      "epoch: 100 loss:0.331193 auc:0.5123\n",
      "epoch: 120 loss:0.323571 auc:0.5104\n",
      "epoch: 140 loss:0.318902 auc:0.5085\n",
      "epoch: 160 loss:0.315838 auc:0.5009\n"
     ]
    },
    {
     "name": "stderr",
     "output_type": "stream",
     "text": [
      " 44%|████▍     | 444/1005 [57:53<1:08:18,  7.31s/it]"
     ]
    },
    {
     "name": "stdout",
     "output_type": "stream",
     "text": [
      "epoch: 180 loss:0.313730 auc:0.4991\n",
      "Fit finished.\n",
      "epoch:   0 loss:0.811577 auc:0.4609\n",
      "epoch:  20 loss:0.588530 auc:0.6820\n",
      "epoch:  40 loss:0.499727 auc:0.6012\n",
      "epoch:  60 loss:0.424503 auc:0.5627\n",
      "epoch:  80 loss:0.377322 auc:0.5602\n",
      "epoch: 100 loss:0.352128 auc:0.5429\n",
      "epoch: 120 loss:0.338157 auc:0.5280\n",
      "epoch: 140 loss:0.329763 auc:0.5205\n",
      "epoch: 160 loss:0.324299 auc:0.5093\n"
     ]
    },
    {
     "name": "stderr",
     "output_type": "stream",
     "text": [
      " 44%|████▍     | 445/1005 [58:00<1:07:25,  7.22s/it]"
     ]
    },
    {
     "name": "stdout",
     "output_type": "stream",
     "text": [
      "epoch: 180 loss:0.320505 auc:0.5056\n",
      "Fit finished.\n",
      "epoch:   0 loss:0.793712 auc:0.4631\n",
      "epoch:  20 loss:0.599550 auc:0.7258\n",
      "epoch:  40 loss:0.528308 auc:0.7212\n",
      "epoch:  60 loss:0.437110 auc:0.7131\n",
      "epoch:  80 loss:0.384382 auc:0.7108\n",
      "epoch: 100 loss:0.354859 auc:0.7120\n",
      "epoch: 120 loss:0.338952 auc:0.7235\n",
      "epoch: 140 loss:0.329672 auc:0.7281\n",
      "epoch: 160 loss:0.323883 auc:0.7316\n",
      "epoch: 180 loss:0.320024 auc:0.7327\n",
      "epoch: 200 loss:0.317287 auc:0.7304\n",
      "epoch: 220 loss:0.315283 auc:0.7316\n",
      "epoch: 240 loss:0.313776 auc:0.7339\n",
      "epoch: 260 loss:0.312614 auc:0.7316\n",
      "epoch: 280 loss:0.311698 auc:0.7258\n"
     ]
    },
    {
     "name": "stderr",
     "output_type": "stream",
     "text": [
      " 44%|████▍     | 446/1005 [58:11<1:15:20,  8.09s/it]"
     ]
    },
    {
     "name": "stdout",
     "output_type": "stream",
     "text": [
      "epoch: 300 loss:0.310963 auc:0.7258\n",
      "Fit finished.\n",
      "epoch:   0 loss:0.797712 auc:0.5103\n",
      "epoch:  20 loss:0.591861 auc:0.6958\n",
      "epoch:  40 loss:0.518404 auc:0.7248\n",
      "epoch:  60 loss:0.426680 auc:0.7455\n",
      "epoch:  80 loss:0.378359 auc:0.7624\n",
      "epoch: 100 loss:0.353107 auc:0.7588\n",
      "epoch: 120 loss:0.339138 auc:0.7588\n",
      "epoch: 140 loss:0.330416 auc:0.7673\n",
      "epoch: 160 loss:0.324549 auc:0.7685\n",
      "epoch: 180 loss:0.320518 auc:0.7685\n",
      "epoch: 200 loss:0.317685 auc:0.7697\n",
      "epoch: 220 loss:0.315619 auc:0.7721\n",
      "epoch: 240 loss:0.314059 auc:0.7709\n",
      "epoch: 260 loss:0.312846 auc:0.7673\n",
      "epoch: 280 loss:0.311879 auc:0.7685\n"
     ]
    },
    {
     "name": "stderr",
     "output_type": "stream",
     "text": [
      " 44%|████▍     | 447/1005 [58:21<1:21:05,  8.72s/it]"
     ]
    },
    {
     "name": "stdout",
     "output_type": "stream",
     "text": [
      "epoch: 300 loss:0.311092 auc:0.7661\n",
      "Fit finished.\n",
      "epoch:   0 loss:0.778289 auc:0.5240\n",
      "epoch:  20 loss:0.579582 auc:0.5280\n",
      "epoch:  40 loss:0.470690 auc:0.5147\n",
      "epoch:  60 loss:0.384733 auc:0.5800\n",
      "epoch:  80 loss:0.349768 auc:0.5853\n",
      "epoch: 100 loss:0.334099 auc:0.5907\n",
      "epoch: 120 loss:0.325533 auc:0.6000\n",
      "epoch: 140 loss:0.320221 auc:0.6000\n",
      "epoch: 160 loss:0.316721 auc:0.6013\n",
      "epoch: 180 loss:0.314338 auc:0.6000\n",
      "epoch: 200 loss:0.312669 auc:0.6013\n",
      "epoch: 220 loss:0.311454 auc:0.6013\n",
      "epoch: 240 loss:0.310541 auc:0.6013\n",
      "epoch: 260 loss:0.309840 auc:0.6013\n",
      "epoch: 280 loss:0.309297 auc:0.6000\n",
      "epoch: 300 loss:0.308873 auc:0.6013\n",
      "epoch: 320 loss:0.308537 auc:0.6053\n",
      "epoch: 340 loss:0.308269 auc:0.6053\n",
      "epoch: 360 loss:0.308052 auc:0.6107\n",
      "epoch: 380 loss:0.307874 auc:0.6120\n",
      "epoch: 400 loss:0.307725 auc:0.6120\n",
      "epoch: 420 loss:0.307599 auc:0.6133\n",
      "epoch: 440 loss:0.307490 auc:0.6147\n",
      "epoch: 460 loss:0.307396 auc:0.6160\n",
      "epoch: 480 loss:0.307314 auc:0.6160\n",
      "epoch: 500 loss:0.307347 auc:0.6160\n",
      "epoch: 520 loss:0.307184 auc:0.6187\n",
      "epoch: 540 loss:0.307125 auc:0.6213\n",
      "epoch: 560 loss:0.307075 auc:0.6227\n",
      "epoch: 580 loss:0.307032 auc:0.6227\n",
      "epoch: 600 loss:0.306993 auc:0.6213\n",
      "epoch: 620 loss:0.306960 auc:0.6200\n",
      "epoch: 640 loss:0.306941 auc:0.6187\n",
      "epoch: 660 loss:0.306908 auc:0.6173\n",
      "epoch: 680 loss:0.306888 auc:0.6187\n"
     ]
    },
    {
     "name": "stderr",
     "output_type": "stream",
     "text": [
      " 45%|████▍     | 448/1005 [58:42<1:56:27, 12.54s/it]"
     ]
    },
    {
     "name": "stdout",
     "output_type": "stream",
     "text": [
      "epoch: 700 loss:0.306866 auc:0.6173\n",
      "Fit finished.\n",
      "epoch:   0 loss:0.778511 auc:0.5000\n",
      "epoch:  20 loss:0.574385 auc:0.6505\n",
      "epoch:  40 loss:0.459588 auc:0.4898\n",
      "epoch:  60 loss:0.380802 auc:0.5230\n",
      "epoch:  80 loss:0.347251 auc:0.5281\n",
      "epoch: 100 loss:0.332188 auc:0.5140\n",
      "epoch: 120 loss:0.324252 auc:0.4962\n",
      "epoch: 140 loss:0.319494 auc:0.4860\n"
     ]
    },
    {
     "name": "stderr",
     "output_type": "stream",
     "text": [
      " 45%|████▍     | 449/1005 [58:49<1:38:58, 10.68s/it]"
     ]
    },
    {
     "name": "stdout",
     "output_type": "stream",
     "text": [
      "epoch: 160 loss:0.316379 auc:0.4847\n",
      "Fit finished.\n",
      "epoch:   0 loss:0.782118 auc:0.4588\n",
      "epoch:  20 loss:0.584674 auc:0.6127\n",
      "epoch:  40 loss:0.502135 auc:0.6356\n",
      "epoch:  60 loss:0.419526 auc:0.6667\n",
      "epoch:  80 loss:0.372559 auc:0.6640\n",
      "epoch: 100 loss:0.348435 auc:0.6707\n",
      "epoch: 120 loss:0.335303 auc:0.6829\n",
      "epoch: 140 loss:0.327392 auc:0.6910\n",
      "epoch: 160 loss:0.322225 auc:0.7045\n",
      "epoch: 180 loss:0.318698 auc:0.7072\n",
      "epoch: 200 loss:0.316201 auc:0.7112\n",
      "epoch: 220 loss:0.314378 auc:0.7166\n",
      "epoch: 240 loss:0.313001 auc:0.7179\n",
      "epoch: 260 loss:0.311927 auc:0.7193\n",
      "epoch: 280 loss:0.311067 auc:0.7179\n",
      "epoch: 300 loss:0.310365 auc:0.7206\n",
      "epoch: 320 loss:0.309786 auc:0.7193\n",
      "epoch: 340 loss:0.309307 auc:0.7179\n",
      "epoch: 360 loss:0.308911 auc:0.7193\n",
      "epoch: 380 loss:0.308586 auc:0.7166\n",
      "epoch: 400 loss:0.308319 auc:0.7220\n",
      "epoch: 420 loss:0.308098 auc:0.7233\n",
      "epoch: 440 loss:0.307913 auc:0.7247\n",
      "epoch: 460 loss:0.307759 auc:0.7274\n",
      "epoch: 480 loss:0.307630 auc:0.7301\n",
      "epoch: 500 loss:0.307522 auc:0.7301\n",
      "epoch: 520 loss:0.307431 auc:0.7301\n",
      "epoch: 540 loss:0.307355 auc:0.7314\n",
      "epoch: 560 loss:0.307292 auc:0.7301\n",
      "epoch: 580 loss:0.307295 auc:0.7287\n",
      "epoch: 600 loss:0.307196 auc:0.7287\n",
      "epoch: 620 loss:0.307151 auc:0.7287\n"
     ]
    },
    {
     "name": "stderr",
     "output_type": "stream",
     "text": [
      " 45%|████▍     | 450/1005 [59:10<2:07:45, 13.81s/it]"
     ]
    },
    {
     "name": "stdout",
     "output_type": "stream",
     "text": [
      "epoch: 640 loss:0.307117 auc:0.7287\n",
      "Fit finished.\n",
      "epoch:   0 loss:0.826597 auc:0.5556\n",
      "epoch:  20 loss:0.600202 auc:0.6927\n",
      "epoch:  40 loss:0.542244 auc:0.6950\n",
      "epoch:  60 loss:0.439730 auc:0.7045\n",
      "epoch:  80 loss:0.379526 auc:0.6998\n",
      "epoch: 100 loss:0.350263 auc:0.7187\n",
      "epoch: 120 loss:0.335682 auc:0.7234\n",
      "epoch: 140 loss:0.327631 auc:0.7139\n",
      "epoch: 160 loss:0.322592 auc:0.7069\n",
      "epoch: 180 loss:0.319132 auc:0.6974\n",
      "epoch: 200 loss:0.316621 auc:0.6950\n"
     ]
    },
    {
     "name": "stderr",
     "output_type": "stream",
     "text": [
      " 45%|████▍     | 451/1005 [59:18<1:52:39, 12.20s/it]"
     ]
    },
    {
     "name": "stdout",
     "output_type": "stream",
     "text": [
      "epoch: 220 loss:0.314730 auc:0.6927\n",
      "Fit finished.\n",
      "epoch:   0 loss:0.871426 auc:0.5456\n",
      "epoch:  20 loss:0.594142 auc:0.5424\n",
      "epoch:  40 loss:0.532719 auc:0.5840\n",
      "epoch:  60 loss:0.445565 auc:0.5424\n",
      "epoch:  80 loss:0.391366 auc:0.4944\n",
      "epoch: 100 loss:0.362553 auc:0.4848\n",
      "epoch: 120 loss:0.345593 auc:0.4832\n",
      "epoch: 140 loss:0.334924 auc:0.4752\n"
     ]
    },
    {
     "name": "stderr",
     "output_type": "stream",
     "text": [
      " 45%|████▍     | 452/1005 [59:24<1:34:43, 10.28s/it]"
     ]
    },
    {
     "name": "stdout",
     "output_type": "stream",
     "text": [
      "epoch: 160 loss:0.327905 auc:0.4736\n",
      "Fit finished.\n",
      "epoch:   0 loss:0.818203 auc:0.4822\n",
      "epoch:  20 loss:0.599420 auc:0.7589\n",
      "epoch:  40 loss:0.538308 auc:0.7426\n",
      "epoch:  60 loss:0.439670 auc:0.7263\n",
      "epoch:  80 loss:0.383732 auc:0.7219\n",
      "epoch: 100 loss:0.354820 auc:0.7263\n",
      "epoch: 120 loss:0.339234 auc:0.7249\n",
      "epoch: 140 loss:0.330090 auc:0.7219\n",
      "epoch: 160 loss:0.324287 auc:0.7160\n"
     ]
    },
    {
     "name": "stderr",
     "output_type": "stream",
     "text": [
      " 45%|████▌     | 453/1005 [59:31<1:24:20,  9.17s/it]"
     ]
    },
    {
     "name": "stdout",
     "output_type": "stream",
     "text": [
      "epoch: 180 loss:0.320359 auc:0.7115\n",
      "Fit finished.\n",
      "epoch:   0 loss:0.855928 auc:0.5597\n",
      "epoch:  20 loss:0.586950 auc:0.6529\n",
      "epoch:  40 loss:0.486253 auc:0.6200\n",
      "epoch:  60 loss:0.403307 auc:0.5830\n",
      "epoch:  80 loss:0.362458 auc:0.5734\n",
      "epoch: 100 loss:0.341700 auc:0.5542\n",
      "epoch: 120 loss:0.330329 auc:0.5350\n",
      "epoch: 140 loss:0.323563 auc:0.5322\n"
     ]
    },
    {
     "name": "stderr",
     "output_type": "stream",
     "text": [
      " 45%|████▌     | 454/1005 [59:37<1:16:08,  8.29s/it]"
     ]
    },
    {
     "name": "stdout",
     "output_type": "stream",
     "text": [
      "epoch: 160 loss:0.319262 auc:0.5281\n",
      "Fit finished.\n",
      "epoch:   0 loss:0.791477 auc:0.6133\n",
      "epoch:  20 loss:0.581742 auc:0.5391\n",
      "epoch:  40 loss:0.494511 auc:0.6484\n",
      "epoch:  60 loss:0.412479 auc:0.6758\n",
      "epoch:  80 loss:0.366993 auc:0.7031\n",
      "epoch: 100 loss:0.343648 auc:0.6680\n",
      "epoch: 120 loss:0.331360 auc:0.6445\n",
      "epoch: 140 loss:0.324397 auc:0.6289\n",
      "epoch: 160 loss:0.320075 auc:0.6250\n",
      "epoch: 180 loss:0.317194 auc:0.6250\n"
     ]
    },
    {
     "name": "stderr",
     "output_type": "stream",
     "text": [
      " 45%|████▌     | 455/1005 [59:44<1:12:18,  7.89s/it]"
     ]
    },
    {
     "name": "stdout",
     "output_type": "stream",
     "text": [
      "epoch: 200 loss:0.315166 auc:0.6094\n",
      "Fit finished.\n",
      "epoch:   0 loss:0.793253 auc:0.4752\n",
      "epoch:  20 loss:0.594115 auc:0.3988\n",
      "epoch:  40 loss:0.518619 auc:0.4979\n",
      "epoch:  60 loss:0.433312 auc:0.5186\n",
      "epoch:  80 loss:0.380992 auc:0.5475\n",
      "epoch: 100 loss:0.353047 auc:0.5640\n",
      "epoch: 120 loss:0.338028 auc:0.5682\n",
      "epoch: 140 loss:0.329297 auc:0.5744\n",
      "epoch: 160 loss:0.323800 auc:0.5888\n",
      "epoch: 180 loss:0.320035 auc:0.5909\n",
      "epoch: 200 loss:0.317298 auc:0.5909\n",
      "epoch: 220 loss:0.315254 auc:0.5992\n",
      "epoch: 240 loss:0.313702 auc:0.6012\n",
      "epoch: 260 loss:0.312496 auc:0.6012\n",
      "epoch: 280 loss:0.311544 auc:0.6012\n",
      "epoch: 300 loss:0.310782 auc:0.6054\n",
      "epoch: 320 loss:0.310166 auc:0.6074\n",
      "epoch: 340 loss:0.309663 auc:0.6116\n",
      "epoch: 360 loss:0.309248 auc:0.6095\n",
      "epoch: 380 loss:0.308903 auc:0.6136\n",
      "epoch: 400 loss:0.308613 auc:0.6116\n",
      "epoch: 420 loss:0.308370 auc:0.6116\n",
      "epoch: 440 loss:0.308164 auc:0.6178\n",
      "epoch: 460 loss:0.307990 auc:0.6157\n",
      "epoch: 480 loss:0.307841 auc:0.6178\n",
      "epoch: 500 loss:0.307713 auc:0.6178\n",
      "epoch: 520 loss:0.307603 auc:0.6157\n",
      "epoch: 540 loss:0.307507 auc:0.6157\n",
      "epoch: 560 loss:0.307425 auc:0.6178\n",
      "epoch: 580 loss:0.307353 auc:0.6157\n",
      "epoch: 600 loss:0.307290 auc:0.6219\n",
      "epoch: 620 loss:0.307279 auc:0.6302\n",
      "epoch: 640 loss:0.307188 auc:0.6302\n",
      "epoch: 660 loss:0.307146 auc:0.6343\n",
      "epoch: 680 loss:0.307109 auc:0.6343\n",
      "epoch: 700 loss:0.307077 auc:0.6364\n",
      "epoch: 720 loss:0.307050 auc:0.6364\n",
      "epoch: 740 loss:0.307025 auc:0.6364\n",
      "epoch: 760 loss:0.307011 auc:0.6364\n",
      "epoch: 780 loss:0.306991 auc:0.6384\n",
      "epoch: 800 loss:0.306969 auc:0.6426\n",
      "epoch: 820 loss:0.306955 auc:0.6426\n",
      "epoch: 840 loss:0.306942 auc:0.6446\n",
      "epoch: 860 loss:0.306930 auc:0.6446\n",
      "epoch: 880 loss:0.306921 auc:0.6446\n",
      "epoch: 900 loss:0.306962 auc:0.6446\n",
      "epoch: 920 loss:0.306904 auc:0.6446\n",
      "epoch: 940 loss:0.306897 auc:0.6426\n",
      "epoch: 960 loss:0.306890 auc:0.6426\n",
      "epoch: 980 loss:0.306884 auc:0.6426\n"
     ]
    },
    {
     "name": "stderr",
     "output_type": "stream",
     "text": [
      " 45%|████▌     | 456/1005 [1:00:15<2:17:12, 15.00s/it]"
     ]
    },
    {
     "name": "stdout",
     "output_type": "stream",
     "text": [
      "Fit finished.\n",
      "epoch:   0 loss:0.817687 auc:0.5528\n",
      "epoch:  20 loss:0.596334 auc:0.6420\n",
      "epoch:  40 loss:0.519960 auc:0.5953\n",
      "epoch:  60 loss:0.426359 auc:0.5185\n",
      "epoch:  80 loss:0.377611 auc:0.5171\n",
      "epoch: 100 loss:0.351650 auc:0.5103\n",
      "epoch: 120 loss:0.337104 auc:0.5021\n",
      "epoch: 140 loss:0.328506 auc:0.5075\n"
     ]
    },
    {
     "name": "stderr",
     "output_type": "stream",
     "text": [
      " 45%|████▌     | 457/1005 [1:00:22<1:53:07, 12.39s/it]"
     ]
    },
    {
     "name": "stdout",
     "output_type": "stream",
     "text": [
      "epoch: 160 loss:0.323055 auc:0.5103\n",
      "Fit finished.\n",
      "epoch:   0 loss:0.796818 auc:0.4878\n",
      "epoch:  20 loss:0.596601 auc:0.6701\n",
      "epoch:  40 loss:0.531603 auc:0.6788\n",
      "epoch:  60 loss:0.443902 auc:0.7083\n",
      "epoch:  80 loss:0.386287 auc:0.7049\n",
      "epoch: 100 loss:0.354834 auc:0.7049\n",
      "epoch: 120 loss:0.338427 auc:0.7083\n",
      "epoch: 140 loss:0.329234 auc:0.7153\n",
      "epoch: 160 loss:0.323519 auc:0.7205\n",
      "epoch: 180 loss:0.319655 auc:0.7309\n",
      "epoch: 200 loss:0.316917 auc:0.7344\n",
      "epoch: 220 loss:0.314924 auc:0.7396\n",
      "epoch: 240 loss:0.313431 auc:0.7413\n",
      "epoch: 260 loss:0.312283 auc:0.7413\n",
      "epoch: 280 loss:0.311382 auc:0.7396\n",
      "epoch: 300 loss:0.310659 auc:0.7413\n",
      "epoch: 320 loss:0.310070 auc:0.7431\n",
      "epoch: 340 loss:0.309587 auc:0.7396\n",
      "epoch: 360 loss:0.309184 auc:0.7413\n",
      "epoch: 380 loss:0.308844 auc:0.7413\n",
      "epoch: 400 loss:0.308556 auc:0.7413\n",
      "epoch: 420 loss:0.308307 auc:0.7431\n",
      "epoch: 440 loss:0.308093 auc:0.7431\n",
      "epoch: 460 loss:0.307909 auc:0.7465\n",
      "epoch: 480 loss:0.307750 auc:0.7431\n",
      "epoch: 500 loss:0.307614 auc:0.7431\n",
      "epoch: 520 loss:0.307496 auc:0.7448\n",
      "epoch: 540 loss:0.307396 auc:0.7465\n",
      "epoch: 560 loss:0.307310 auc:0.7483\n",
      "epoch: 580 loss:0.307241 auc:0.7448\n",
      "epoch: 600 loss:0.307178 auc:0.7465\n",
      "epoch: 620 loss:0.307120 auc:0.7465\n",
      "epoch: 640 loss:0.307072 auc:0.7483\n",
      "epoch: 660 loss:0.307032 auc:0.7483\n",
      "epoch: 680 loss:0.307035 auc:0.7465\n",
      "epoch: 700 loss:0.307002 auc:0.7535\n",
      "epoch: 720 loss:0.306944 auc:0.7483\n",
      "epoch: 740 loss:0.306919 auc:0.7500\n"
     ]
    },
    {
     "name": "stderr",
     "output_type": "stream",
     "text": [
      " 46%|████▌     | 458/1005 [1:00:46<2:25:20, 15.94s/it]"
     ]
    },
    {
     "name": "stdout",
     "output_type": "stream",
     "text": [
      "epoch: 760 loss:0.306939 auc:0.7448\n",
      "Fit finished.\n",
      "epoch:   0 loss:0.859005 auc:0.5888\n",
      "epoch:  20 loss:0.590271 auc:0.6994\n",
      "epoch:  40 loss:0.519434 auc:0.6621\n",
      "epoch:  60 loss:0.434287 auc:0.5615\n",
      "epoch:  80 loss:0.381506 auc:0.5540\n",
      "epoch: 100 loss:0.353478 auc:0.5093\n",
      "epoch: 120 loss:0.338573 auc:0.4832\n",
      "epoch: 140 loss:0.329933 auc:0.4696\n"
     ]
    },
    {
     "name": "stderr",
     "output_type": "stream",
     "text": [
      " 46%|████▌     | 459/1005 [1:00:52<1:58:24, 13.01s/it]"
     ]
    },
    {
     "name": "stdout",
     "output_type": "stream",
     "text": [
      "epoch: 160 loss:0.324396 auc:0.4571\n",
      "Fit finished.\n",
      "epoch:   0 loss:0.816559 auc:0.3950\n",
      "epoch:  20 loss:0.583436 auc:0.7086\n",
      "epoch:  40 loss:0.486604 auc:0.6627\n",
      "epoch:  60 loss:0.401672 auc:0.6228\n",
      "epoch:  80 loss:0.360634 auc:0.6198\n",
      "epoch: 100 loss:0.340922 auc:0.6080\n",
      "epoch: 120 loss:0.330058 auc:0.5962\n",
      "epoch: 140 loss:0.323430 auc:0.5947\n",
      "epoch: 160 loss:0.319185 auc:0.5947\n"
     ]
    },
    {
     "name": "stderr",
     "output_type": "stream",
     "text": [
      " 46%|████▌     | 460/1005 [1:00:59<1:42:53, 11.33s/it]"
     ]
    },
    {
     "name": "stdout",
     "output_type": "stream",
     "text": [
      "epoch: 180 loss:0.316317 auc:0.5962\n",
      "Fit finished.\n",
      "epoch:   0 loss:0.789727 auc:0.5660\n",
      "epoch:  20 loss:0.570965 auc:0.8356\n",
      "epoch:  40 loss:0.450124 auc:0.8681\n",
      "epoch:  60 loss:0.377678 auc:0.8773\n",
      "epoch:  80 loss:0.346910 auc:0.8796\n",
      "epoch: 100 loss:0.332534 auc:0.8796\n",
      "epoch: 120 loss:0.324778 auc:0.8831\n",
      "epoch: 140 loss:0.320001 auc:0.8819\n",
      "epoch: 160 loss:0.316781 auc:0.8831\n",
      "epoch: 180 loss:0.314511 auc:0.8854\n",
      "epoch: 200 loss:0.312869 auc:0.8854\n",
      "epoch: 220 loss:0.311660 auc:0.8889\n",
      "epoch: 240 loss:0.310755 auc:0.8854\n",
      "epoch: 260 loss:0.310065 auc:0.8843\n",
      "epoch: 280 loss:0.309525 auc:0.8843\n",
      "epoch: 300 loss:0.309097 auc:0.8854\n",
      "epoch: 320 loss:0.308754 auc:0.8843\n"
     ]
    },
    {
     "name": "stderr",
     "output_type": "stream",
     "text": [
      " 46%|████▌     | 461/1005 [1:01:10<1:41:44, 11.22s/it]"
     ]
    },
    {
     "name": "stdout",
     "output_type": "stream",
     "text": [
      "epoch: 340 loss:0.308474 auc:0.8831\n",
      "Fit finished.\n",
      "epoch:   0 loss:0.818175 auc:0.6852\n",
      "epoch:  20 loss:0.601530 auc:0.5432\n",
      "epoch:  40 loss:0.545354 auc:0.5833\n",
      "epoch:  60 loss:0.441347 auc:0.6574\n",
      "epoch:  80 loss:0.378276 auc:0.6389\n",
      "epoch: 100 loss:0.349305 auc:0.6235\n",
      "epoch: 120 loss:0.334992 auc:0.6327\n",
      "epoch: 140 loss:0.327129 auc:0.6265\n"
     ]
    },
    {
     "name": "stderr",
     "output_type": "stream",
     "text": [
      " 46%|████▌     | 462/1005 [1:01:16<1:27:24,  9.66s/it]"
     ]
    },
    {
     "name": "stdout",
     "output_type": "stream",
     "text": [
      "epoch: 160 loss:0.322287 auc:0.6173\n",
      "Fit finished.\n",
      "epoch:   0 loss:0.846767 auc:0.4861\n",
      "epoch:  20 loss:0.598796 auc:0.6285\n",
      "epoch:  40 loss:0.533699 auc:0.6094\n",
      "epoch:  60 loss:0.443348 auc:0.6042\n",
      "epoch:  80 loss:0.387972 auc:0.5677\n",
      "epoch: 100 loss:0.358284 auc:0.5729\n",
      "epoch: 120 loss:0.341611 auc:0.5938\n",
      "epoch: 140 loss:0.331608 auc:0.5938\n",
      "epoch: 160 loss:0.325189 auc:0.5990\n"
     ]
    },
    {
     "name": "stderr",
     "output_type": "stream",
     "text": [
      " 46%|████▌     | 463/1005 [1:01:23<1:20:06,  8.87s/it]"
     ]
    },
    {
     "name": "stdout",
     "output_type": "stream",
     "text": [
      "epoch: 180 loss:0.320842 auc:0.5833\n",
      "Fit finished.\n",
      "epoch:   0 loss:0.782118 auc:0.5421\n",
      "epoch:  20 loss:0.583774 auc:0.4745\n",
      "epoch:  40 loss:0.490204 auc:0.4439\n",
      "epoch:  60 loss:0.406856 auc:0.4579\n",
      "epoch:  80 loss:0.366425 auc:0.4464\n",
      "epoch: 100 loss:0.345758 auc:0.4464\n",
      "epoch: 120 loss:0.333878 auc:0.4439\n",
      "epoch: 140 loss:0.326473 auc:0.4388\n"
     ]
    },
    {
     "name": "stderr",
     "output_type": "stream",
     "text": [
      " 46%|████▌     | 464/1005 [1:01:29<1:12:24,  8.03s/it]"
     ]
    },
    {
     "name": "stdout",
     "output_type": "stream",
     "text": [
      "epoch: 160 loss:0.321617 auc:0.4439\n",
      "Fit finished.\n",
      "epoch:   0 loss:0.811623 auc:0.4976\n",
      "epoch:  20 loss:0.583490 auc:0.7353\n",
      "epoch:  40 loss:0.486949 auc:0.7859\n",
      "epoch:  60 loss:0.404327 auc:0.7906\n",
      "epoch:  80 loss:0.363119 auc:0.7882\n",
      "epoch: 100 loss:0.342744 auc:0.7871\n",
      "epoch: 120 loss:0.331451 auc:0.7835\n",
      "epoch: 140 loss:0.324505 auc:0.7824\n",
      "epoch: 160 loss:0.319960 auc:0.7859\n",
      "epoch: 180 loss:0.316827 auc:0.7882\n",
      "epoch: 200 loss:0.314592 auc:0.7871\n",
      "epoch: 220 loss:0.312960 auc:0.7918\n",
      "epoch: 240 loss:0.311747 auc:0.7906\n",
      "epoch: 260 loss:0.310829 auc:0.7918\n",
      "epoch: 280 loss:0.310120 auc:0.7906\n",
      "epoch: 300 loss:0.309569 auc:0.7906\n",
      "epoch: 320 loss:0.309134 auc:0.7894\n",
      "epoch: 340 loss:0.308787 auc:0.7918\n",
      "epoch: 360 loss:0.308508 auc:0.7906\n"
     ]
    },
    {
     "name": "stderr",
     "output_type": "stream",
     "text": [
      " 46%|████▋     | 465/1005 [1:01:42<1:25:05,  9.45s/it]"
     ]
    },
    {
     "name": "stdout",
     "output_type": "stream",
     "text": [
      "epoch: 380 loss:0.308282 auc:0.7894\n",
      "Fit finished.\n",
      "epoch:   0 loss:0.860340 auc:0.5190\n",
      "epoch:  20 loss:0.596037 auc:0.7393\n",
      "epoch:  40 loss:0.528799 auc:0.6845\n",
      "epoch:  60 loss:0.433576 auc:0.6405\n",
      "epoch:  80 loss:0.378585 auc:0.6881\n",
      "epoch: 100 loss:0.351705 auc:0.7071\n",
      "epoch: 120 loss:0.337601 auc:0.7024\n",
      "epoch: 140 loss:0.329115 auc:0.7119\n",
      "epoch: 160 loss:0.323591 auc:0.7167\n"
     ]
    },
    {
     "name": "stderr",
     "output_type": "stream",
     "text": [
      " 46%|████▋     | 466/1005 [1:01:49<1:18:44,  8.76s/it]"
     ]
    },
    {
     "name": "stdout",
     "output_type": "stream",
     "text": [
      "epoch: 180 loss:0.319741 auc:0.7179\n",
      "Fit finished.\n",
      "epoch:   0 loss:0.816568 auc:0.4594\n",
      "epoch:  20 loss:0.586006 auc:0.6408\n",
      "epoch:  40 loss:0.505050 auc:0.6635\n",
      "epoch:  60 loss:0.411047 auc:0.6352\n",
      "epoch:  80 loss:0.364543 auc:0.6219\n",
      "epoch: 100 loss:0.343026 auc:0.6011\n",
      "epoch: 120 loss:0.331723 auc:0.5898\n",
      "epoch: 140 loss:0.324885 auc:0.5879\n",
      "epoch: 160 loss:0.320368 auc:0.5860\n"
     ]
    },
    {
     "name": "stderr",
     "output_type": "stream",
     "text": [
      " 46%|████▋     | 467/1005 [1:01:56<1:11:47,  8.01s/it]"
     ]
    },
    {
     "name": "stdout",
     "output_type": "stream",
     "text": [
      "epoch: 180 loss:0.317192 auc:0.5898\n",
      "Fit finished.\n",
      "epoch:   0 loss:0.775751 auc:0.5000\n",
      "epoch:  20 loss:0.575269 auc:0.7049\n",
      "epoch:  40 loss:0.458932 auc:0.6354\n",
      "epoch:  60 loss:0.382438 auc:0.6713\n",
      "epoch:  80 loss:0.349188 auc:0.6991\n",
      "epoch: 100 loss:0.333634 auc:0.7049\n",
      "epoch: 120 loss:0.325337 auc:0.7025\n",
      "epoch: 140 loss:0.320306 auc:0.7002\n",
      "epoch: 160 loss:0.316991 auc:0.7106\n",
      "epoch: 180 loss:0.314699 auc:0.7130\n",
      "epoch: 200 loss:0.313045 auc:0.7141\n",
      "epoch: 220 loss:0.311821 auc:0.7141\n",
      "epoch: 240 loss:0.310897 auc:0.7141\n",
      "epoch: 260 loss:0.310183 auc:0.7187\n",
      "epoch: 280 loss:0.309617 auc:0.7234\n",
      "epoch: 300 loss:0.309156 auc:0.7211\n",
      "epoch: 320 loss:0.308772 auc:0.7211\n",
      "epoch: 340 loss:0.308449 auc:0.7211\n",
      "epoch: 360 loss:0.308178 auc:0.7234\n",
      "epoch: 380 loss:0.307950 auc:0.7199\n",
      "epoch: 400 loss:0.307761 auc:0.7188\n",
      "epoch: 420 loss:0.307605 auc:0.7211\n"
     ]
    },
    {
     "name": "stderr",
     "output_type": "stream",
     "text": [
      " 47%|████▋     | 468/1005 [1:02:10<1:29:09,  9.96s/it]"
     ]
    },
    {
     "name": "stdout",
     "output_type": "stream",
     "text": [
      "epoch: 440 loss:0.307476 auc:0.7199\n",
      "Fit finished.\n",
      "epoch:   0 loss:0.804410 auc:0.3862\n",
      "epoch:  20 loss:0.588865 auc:0.5345\n",
      "epoch:  40 loss:0.495428 auc:0.6816\n",
      "epoch:  60 loss:0.409808 auc:0.7057\n",
      "epoch:  80 loss:0.366100 auc:0.7034\n",
      "epoch: 100 loss:0.344435 auc:0.6885\n",
      "epoch: 120 loss:0.332718 auc:0.6828\n",
      "epoch: 140 loss:0.325597 auc:0.6724\n",
      "epoch: 160 loss:0.320970 auc:0.6747\n",
      "epoch: 180 loss:0.317799 auc:0.6701\n"
     ]
    },
    {
     "name": "stderr",
     "output_type": "stream",
     "text": [
      " 47%|████▋     | 469/1005 [1:02:17<1:20:56,  9.06s/it]"
     ]
    },
    {
     "name": "stdout",
     "output_type": "stream",
     "text": [
      "epoch: 200 loss:0.315533 auc:0.6667\n",
      "Fit finished.\n",
      "epoch:   0 loss:0.824150 auc:0.3889\n",
      "epoch:  20 loss:0.601644 auc:0.6736\n",
      "epoch:  40 loss:0.547850 auc:0.7066\n",
      "epoch:  60 loss:0.447003 auc:0.6476\n",
      "epoch:  80 loss:0.387690 auc:0.6615\n",
      "epoch: 100 loss:0.356520 auc:0.6667\n",
      "epoch: 120 loss:0.340161 auc:0.6736\n",
      "epoch: 140 loss:0.330906 auc:0.6788\n",
      "epoch: 160 loss:0.325041 auc:0.6806\n",
      "epoch: 180 loss:0.321028 auc:0.6771\n"
     ]
    },
    {
     "name": "stderr",
     "output_type": "stream",
     "text": [
      " 47%|████▋     | 470/1005 [1:02:24<1:15:49,  8.50s/it]"
     ]
    },
    {
     "name": "stdout",
     "output_type": "stream",
     "text": [
      "epoch: 200 loss:0.318128 auc:0.6701\n",
      "Fit finished.\n",
      "epoch:   0 loss:0.807905 auc:0.5230\n",
      "epoch:  20 loss:0.592048 auc:0.5587\n",
      "epoch:  40 loss:0.517316 auc:0.5842\n",
      "epoch:  60 loss:0.425263 auc:0.5497\n",
      "epoch:  80 loss:0.373976 auc:0.5561\n",
      "epoch: 100 loss:0.349928 auc:0.5702\n",
      "epoch: 120 loss:0.336759 auc:0.5714\n",
      "epoch: 140 loss:0.328663 auc:0.5638\n",
      "epoch: 160 loss:0.323378 auc:0.5651\n",
      "epoch: 180 loss:0.319753 auc:0.5599\n"
     ]
    },
    {
     "name": "stderr",
     "output_type": "stream",
     "text": [
      " 47%|████▋     | 471/1005 [1:02:32<1:14:03,  8.32s/it]"
     ]
    },
    {
     "name": "stdout",
     "output_type": "stream",
     "text": [
      "epoch: 200 loss:0.317152 auc:0.5625\n",
      "Fit finished.\n",
      "epoch:   0 loss:0.818310 auc:0.5469\n",
      "epoch:  20 loss:0.597507 auc:0.7431\n",
      "epoch:  40 loss:0.537184 auc:0.6875\n",
      "epoch:  60 loss:0.444949 auc:0.6667\n",
      "epoch:  80 loss:0.389401 auc:0.7135\n",
      "epoch: 100 loss:0.360599 auc:0.7101\n",
      "epoch: 120 loss:0.344070 auc:0.7066\n",
      "epoch: 140 loss:0.333762 auc:0.7014\n",
      "epoch: 160 loss:0.327028 auc:0.6944\n"
     ]
    },
    {
     "name": "stderr",
     "output_type": "stream",
     "text": [
      " 47%|████▋     | 472/1005 [1:02:39<1:10:15,  7.91s/it]"
     ]
    },
    {
     "name": "stdout",
     "output_type": "stream",
     "text": [
      "epoch: 180 loss:0.322420 auc:0.6910\n",
      "Fit finished.\n",
      "epoch:   0 loss:0.791754 auc:0.4736\n",
      "epoch:  20 loss:0.581902 auc:0.6544\n",
      "epoch:  40 loss:0.480069 auc:0.6688\n",
      "epoch:  60 loss:0.393566 auc:0.6704\n",
      "epoch:  80 loss:0.355355 auc:0.6624\n",
      "epoch: 100 loss:0.337272 auc:0.6384\n",
      "epoch: 120 loss:0.327685 auc:0.6128\n",
      "epoch: 140 loss:0.321937 auc:0.5904\n",
      "epoch: 160 loss:0.318202 auc:0.5776\n"
     ]
    },
    {
     "name": "stderr",
     "output_type": "stream",
     "text": [
      " 47%|████▋     | 473/1005 [1:02:46<1:07:05,  7.57s/it]"
     ]
    },
    {
     "name": "stdout",
     "output_type": "stream",
     "text": [
      "epoch: 180 loss:0.315613 auc:0.5680\n",
      "Fit finished.\n",
      "epoch:   0 loss:0.837475 auc:0.4373\n",
      "epoch:  20 loss:0.597372 auc:0.6153\n",
      "epoch:  40 loss:0.532830 auc:0.6378\n",
      "epoch:  60 loss:0.441695 auc:0.6090\n",
      "epoch:  80 loss:0.384666 auc:0.5827\n",
      "epoch: 100 loss:0.354838 auc:0.5714\n",
      "epoch: 120 loss:0.339040 auc:0.5677\n",
      "epoch: 140 loss:0.329720 auc:0.5476\n",
      "epoch: 160 loss:0.323913 auc:0.5326\n"
     ]
    },
    {
     "name": "stderr",
     "output_type": "stream",
     "text": [
      " 47%|████▋     | 474/1005 [1:02:53<1:04:53,  7.33s/it]"
     ]
    },
    {
     "name": "stdout",
     "output_type": "stream",
     "text": [
      "epoch: 180 loss:0.320061 auc:0.5301\n",
      "Fit finished.\n",
      "epoch:   0 loss:0.792641 auc:0.5479\n",
      "epoch:  20 loss:0.564058 auc:0.6241\n",
      "epoch:  40 loss:0.436463 auc:0.4840\n",
      "epoch:  60 loss:0.367766 auc:0.5221\n",
      "epoch:  80 loss:0.341699 auc:0.5381\n",
      "epoch: 100 loss:0.329283 auc:0.5442\n",
      "epoch: 120 loss:0.322311 auc:0.5528\n",
      "epoch: 140 loss:0.318017 auc:0.5528\n",
      "epoch: 160 loss:0.315177 auc:0.5504\n"
     ]
    },
    {
     "name": "stderr",
     "output_type": "stream",
     "text": [
      " 47%|████▋     | 475/1005 [1:03:00<1:03:47,  7.22s/it]"
     ]
    },
    {
     "name": "stdout",
     "output_type": "stream",
     "text": [
      "epoch: 180 loss:0.313210 auc:0.5541\n",
      "Fit finished.\n",
      "epoch:   0 loss:0.774475 auc:0.5140\n",
      "epoch:  20 loss:0.594958 auc:0.6678\n",
      "epoch:  40 loss:0.520239 auc:0.7075\n",
      "epoch:  60 loss:0.429463 auc:0.7296\n",
      "epoch:  80 loss:0.379377 auc:0.7319\n",
      "epoch: 100 loss:0.352373 auc:0.7331\n",
      "epoch: 120 loss:0.337895 auc:0.7238\n",
      "epoch: 140 loss:0.329355 auc:0.7214\n",
      "epoch: 160 loss:0.323820 auc:0.7238\n",
      "epoch: 180 loss:0.320022 auc:0.7273\n",
      "epoch: 200 loss:0.317313 auc:0.7331\n",
      "epoch: 220 loss:0.315318 auc:0.7354\n",
      "epoch: 240 loss:0.313809 auc:0.7378\n",
      "epoch: 260 loss:0.312644 auc:0.7354\n",
      "epoch: 280 loss:0.311726 auc:0.7319\n",
      "epoch: 300 loss:0.310993 auc:0.7308\n",
      "epoch: 320 loss:0.310400 auc:0.7284\n"
     ]
    },
    {
     "name": "stderr",
     "output_type": "stream",
     "text": [
      " 47%|████▋     | 476/1005 [1:03:12<1:16:56,  8.73s/it]"
     ]
    },
    {
     "name": "stdout",
     "output_type": "stream",
     "text": [
      "epoch: 340 loss:0.309914 auc:0.7226\n",
      "Fit finished.\n",
      "epoch:   0 loss:0.798412 auc:0.4906\n",
      "epoch:  20 loss:0.577837 auc:0.7071\n",
      "epoch:  40 loss:0.471033 auc:0.5447\n",
      "epoch:  60 loss:0.396463 auc:0.5094\n",
      "epoch:  80 loss:0.358949 auc:0.5024\n",
      "epoch: 100 loss:0.340454 auc:0.5141\n",
      "epoch: 120 loss:0.330473 auc:0.5024\n",
      "epoch: 140 loss:0.324326 auc:0.4941\n",
      "epoch: 160 loss:0.320200 auc:0.4918\n"
     ]
    },
    {
     "name": "stderr",
     "output_type": "stream",
     "text": [
      " 47%|████▋     | 477/1005 [1:03:19<1:12:02,  8.19s/it]"
     ]
    },
    {
     "name": "stdout",
     "output_type": "stream",
     "text": [
      "epoch: 180 loss:0.317270 auc:0.4976\n",
      "Fit finished.\n",
      "epoch:   0 loss:0.798320 auc:0.4606\n",
      "epoch:  20 loss:0.557229 auc:0.4303\n",
      "epoch:  40 loss:0.430568 auc:0.4424\n",
      "epoch:  60 loss:0.368268 auc:0.4136\n",
      "epoch:  80 loss:0.341589 auc:0.4303\n",
      "epoch: 100 loss:0.329116 auc:0.4333\n",
      "epoch: 120 loss:0.322330 auc:0.4258\n",
      "epoch: 140 loss:0.318209 auc:0.4182\n"
     ]
    },
    {
     "name": "stderr",
     "output_type": "stream",
     "text": [
      " 48%|████▊     | 478/1005 [1:03:25<1:06:56,  7.62s/it]"
     ]
    },
    {
     "name": "stdout",
     "output_type": "stream",
     "text": [
      "epoch: 160 loss:0.315494 auc:0.4227\n",
      "Fit finished.\n",
      "epoch:   0 loss:0.877537 auc:0.5336\n",
      "epoch:  20 loss:0.596434 auc:0.6563\n",
      "epoch:  40 loss:0.534302 auc:0.6620\n",
      "epoch:  60 loss:0.438436 auc:0.6655\n",
      "epoch:  80 loss:0.378576 auc:0.6470\n",
      "epoch: 100 loss:0.350244 auc:0.6331\n",
      "epoch: 120 loss:0.335812 auc:0.6215\n",
      "epoch: 140 loss:0.327473 auc:0.6192\n",
      "epoch: 160 loss:0.322183 auc:0.6192\n"
     ]
    },
    {
     "name": "stderr",
     "output_type": "stream",
     "text": [
      " 48%|████▊     | 479/1005 [1:03:32<1:04:17,  7.33s/it]"
     ]
    },
    {
     "name": "stdout",
     "output_type": "stream",
     "text": [
      "epoch: 180 loss:0.318591 auc:0.6215\n",
      "Fit finished.\n",
      "epoch:   0 loss:0.787078 auc:0.3881\n",
      "epoch:  20 loss:0.569003 auc:0.6340\n",
      "epoch:  40 loss:0.458566 auc:0.3345\n",
      "epoch:  60 loss:0.375460 auc:0.3636\n",
      "epoch:  80 loss:0.343602 auc:0.3695\n",
      "epoch: 100 loss:0.329690 auc:0.3695\n",
      "epoch: 120 loss:0.322476 auc:0.3648\n",
      "epoch: 140 loss:0.318173 auc:0.3648\n"
     ]
    },
    {
     "name": "stderr",
     "output_type": "stream",
     "text": [
      " 48%|████▊     | 480/1005 [1:03:38<1:01:38,  7.05s/it]"
     ]
    },
    {
     "name": "stdout",
     "output_type": "stream",
     "text": [
      "epoch: 160 loss:0.315386 auc:0.3636\n",
      "Fit finished.\n",
      "epoch:   0 loss:0.823577 auc:0.7153\n",
      "epoch:  20 loss:0.592824 auc:0.6701\n",
      "epoch:  40 loss:0.505348 auc:0.6944\n",
      "epoch:  60 loss:0.416475 auc:0.6337\n",
      "epoch:  80 loss:0.371696 auc:0.5903\n",
      "epoch: 100 loss:0.348788 auc:0.5955\n",
      "epoch: 120 loss:0.335561 auc:0.5833\n",
      "epoch: 140 loss:0.327451 auc:0.5938\n"
     ]
    },
    {
     "name": "stderr",
     "output_type": "stream",
     "text": [
      " 48%|████▊     | 481/1005 [1:03:45<59:45,  6.84s/it]  "
     ]
    },
    {
     "name": "stdout",
     "output_type": "stream",
     "text": [
      "epoch: 160 loss:0.322229 auc:0.5903\n",
      "Fit finished.\n",
      "epoch:   0 loss:0.835956 auc:0.5776\n",
      "epoch:  20 loss:0.592485 auc:0.7072\n",
      "epoch:  40 loss:0.503675 auc:0.7168\n",
      "epoch:  60 loss:0.424206 auc:0.7152\n",
      "epoch:  80 loss:0.376875 auc:0.6688\n",
      "epoch: 100 loss:0.350892 auc:0.6336\n",
      "epoch: 120 loss:0.336366 auc:0.6032\n",
      "epoch: 140 loss:0.327859 auc:0.5888\n"
     ]
    },
    {
     "name": "stderr",
     "output_type": "stream",
     "text": [
      " 48%|████▊     | 482/1005 [1:03:50<57:06,  6.55s/it]"
     ]
    },
    {
     "name": "stdout",
     "output_type": "stream",
     "text": [
      "epoch: 160 loss:0.322531 auc:0.5696\n",
      "Fit finished.\n",
      "epoch:   0 loss:0.797592 auc:0.4787\n",
      "epoch:  20 loss:0.600592 auc:0.6529\n",
      "epoch:  40 loss:0.561776 auc:0.6324\n",
      "epoch:  60 loss:0.473004 auc:0.6392\n",
      "epoch:  80 loss:0.402582 auc:0.6488\n",
      "epoch: 100 loss:0.365632 auc:0.6543\n",
      "epoch: 120 loss:0.345981 auc:0.6529\n",
      "epoch: 140 loss:0.334658 auc:0.6571\n",
      "epoch: 160 loss:0.327460 auc:0.6626\n",
      "epoch: 180 loss:0.322608 auc:0.6598\n",
      "epoch: 200 loss:0.319198 auc:0.6598\n",
      "epoch: 220 loss:0.316710 auc:0.6557\n",
      "epoch: 240 loss:0.314842 auc:0.6543\n"
     ]
    },
    {
     "name": "stderr",
     "output_type": "stream",
     "text": [
      " 48%|████▊     | 483/1005 [1:04:00<1:04:33,  7.42s/it]"
     ]
    },
    {
     "name": "stdout",
     "output_type": "stream",
     "text": [
      "epoch: 260 loss:0.313404 auc:0.6475\n",
      "Fit finished.\n",
      "epoch:   0 loss:0.806352 auc:0.5060\n",
      "epoch:  20 loss:0.580979 auc:0.6964\n",
      "epoch:  40 loss:0.471602 auc:0.7307\n",
      "epoch:  60 loss:0.385143 auc:0.7708\n",
      "epoch:  80 loss:0.348926 auc:0.7887\n",
      "epoch: 100 loss:0.332649 auc:0.7857\n",
      "epoch: 120 loss:0.324085 auc:0.7798\n",
      "epoch: 140 loss:0.319091 auc:0.7738\n",
      "epoch: 160 loss:0.315941 auc:0.7693\n",
      "epoch: 180 loss:0.313829 auc:0.7708\n",
      "epoch: 200 loss:0.312344 auc:0.7723\n"
     ]
    },
    {
     "name": "stderr",
     "output_type": "stream",
     "text": [
      " 48%|████▊     | 484/1005 [1:04:08<1:05:59,  7.60s/it]"
     ]
    },
    {
     "name": "stdout",
     "output_type": "stream",
     "text": [
      "epoch: 220 loss:0.311262 auc:0.7693\n",
      "Fit finished.\n",
      "epoch:   0 loss:0.796697 auc:0.5504\n",
      "epoch:  20 loss:0.584945 auc:0.7639\n",
      "epoch:  40 loss:0.499352 auc:0.6887\n",
      "epoch:  60 loss:0.413140 auc:0.6481\n",
      "epoch:  80 loss:0.368666 auc:0.6120\n",
      "epoch: 100 loss:0.345742 auc:0.5865\n",
      "epoch: 120 loss:0.333175 auc:0.5744\n",
      "epoch: 140 loss:0.325669 auc:0.5639\n",
      "epoch: 160 loss:0.320830 auc:0.5579\n"
     ]
    },
    {
     "name": "stderr",
     "output_type": "stream",
     "text": [
      " 48%|████▊     | 485/1005 [1:04:15<1:03:14,  7.30s/it]"
     ]
    },
    {
     "name": "stdout",
     "output_type": "stream",
     "text": [
      "epoch: 180 loss:0.317532 auc:0.5459\n",
      "Fit finished.\n",
      "epoch:   0 loss:0.788130 auc:0.5950\n",
      "epoch:  20 loss:0.571736 auc:0.5723\n",
      "epoch:  40 loss:0.458617 auc:0.5455\n",
      "epoch:  60 loss:0.383607 auc:0.5413\n",
      "epoch:  80 loss:0.350853 auc:0.5558\n",
      "epoch: 100 loss:0.334697 auc:0.5744\n",
      "epoch: 120 loss:0.325742 auc:0.5764\n",
      "epoch: 140 loss:0.320474 auc:0.5930\n",
      "epoch: 160 loss:0.317130 auc:0.5992\n",
      "epoch: 180 loss:0.314816 auc:0.6012\n",
      "epoch: 200 loss:0.313110 auc:0.6054\n",
      "epoch: 220 loss:0.311810 auc:0.6074\n",
      "epoch: 240 loss:0.310806 auc:0.6095\n",
      "epoch: 260 loss:0.310029 auc:0.6095\n",
      "epoch: 280 loss:0.309431 auc:0.6095\n",
      "epoch: 300 loss:0.308968 auc:0.6095\n",
      "epoch: 320 loss:0.308608 auc:0.6095\n",
      "epoch: 340 loss:0.308324 auc:0.6116\n",
      "epoch: 360 loss:0.308097 auc:0.6116\n",
      "epoch: 380 loss:0.307914 auc:0.6116\n",
      "epoch: 400 loss:0.307764 auc:0.6116\n",
      "epoch: 420 loss:0.307639 auc:0.6095\n",
      "epoch: 440 loss:0.307534 auc:0.6095\n",
      "epoch: 460 loss:0.307444 auc:0.6095\n",
      "epoch: 480 loss:0.307372 auc:0.6095\n"
     ]
    },
    {
     "name": "stderr",
     "output_type": "stream",
     "text": [
      " 48%|████▊     | 486/1005 [1:04:31<1:26:46, 10.03s/it]"
     ]
    },
    {
     "name": "stdout",
     "output_type": "stream",
     "text": [
      "epoch: 500 loss:0.307350 auc:0.6095\n",
      "Fit finished.\n",
      "epoch:   0 loss:0.795328 auc:0.4541\n",
      "epoch:  20 loss:0.572497 auc:0.7027\n",
      "epoch:  40 loss:0.450968 auc:0.6997\n",
      "epoch:  60 loss:0.379051 auc:0.7027\n",
      "epoch:  80 loss:0.347115 auc:0.7012\n",
      "epoch: 100 loss:0.332182 auc:0.6982\n",
      "epoch: 120 loss:0.324328 auc:0.7012\n",
      "epoch: 140 loss:0.319594 auc:0.7027\n",
      "epoch: 160 loss:0.316444 auc:0.7101\n",
      "epoch: 180 loss:0.314251 auc:0.7130\n",
      "epoch: 200 loss:0.312673 auc:0.7175\n",
      "epoch: 220 loss:0.311515 auc:0.7175\n",
      "epoch: 240 loss:0.310651 auc:0.7160\n",
      "epoch: 260 loss:0.309992 auc:0.7160\n",
      "epoch: 280 loss:0.309477 auc:0.7160\n",
      "epoch: 300 loss:0.309069 auc:0.7175\n",
      "epoch: 320 loss:0.308738 auc:0.7145\n",
      "epoch: 340 loss:0.308468 auc:0.7130\n"
     ]
    },
    {
     "name": "stderr",
     "output_type": "stream",
     "text": [
      " 48%|████▊     | 487/1005 [1:04:43<1:32:15, 10.69s/it]"
     ]
    },
    {
     "name": "stdout",
     "output_type": "stream",
     "text": [
      "epoch: 360 loss:0.308245 auc:0.7115\n",
      "Fit finished.\n",
      "epoch:   0 loss:0.803897 auc:0.5570\n",
      "epoch:  20 loss:0.600892 auc:0.6538\n",
      "epoch:  40 loss:0.545015 auc:0.6638\n",
      "epoch:  60 loss:0.451119 auc:0.6168\n",
      "epoch:  80 loss:0.392033 auc:0.5541\n",
      "epoch: 100 loss:0.360572 auc:0.5456\n",
      "epoch: 120 loss:0.343427 auc:0.5427\n",
      "epoch: 140 loss:0.333170 auc:0.5527\n"
     ]
    },
    {
     "name": "stderr",
     "output_type": "stream",
     "text": [
      " 49%|████▊     | 488/1005 [1:04:49<1:20:41,  9.37s/it]"
     ]
    },
    {
     "name": "stdout",
     "output_type": "stream",
     "text": [
      "epoch: 160 loss:0.326591 auc:0.5541\n",
      "Fit finished.\n",
      "epoch:   0 loss:0.815872 auc:0.4758\n",
      "epoch:  20 loss:0.585983 auc:0.5293\n",
      "epoch:  40 loss:0.491438 auc:0.5204\n",
      "epoch:  60 loss:0.404142 auc:0.5191\n",
      "epoch:  80 loss:0.362016 auc:0.5383\n",
      "epoch: 100 loss:0.341507 auc:0.5434\n",
      "epoch: 120 loss:0.330535 auc:0.5561\n",
      "epoch: 140 loss:0.323973 auc:0.5536\n",
      "epoch: 160 loss:0.319653 auc:0.5612\n",
      "epoch: 180 loss:0.316635 auc:0.5561\n",
      "epoch: 200 loss:0.314458 auc:0.5587\n",
      "epoch: 220 loss:0.312862 auc:0.5663\n",
      "epoch: 240 loss:0.311677 auc:0.5702\n",
      "epoch: 260 loss:0.310780 auc:0.5676\n",
      "epoch: 280 loss:0.310085 auc:0.5689\n",
      "epoch: 300 loss:0.309536 auc:0.5689\n",
      "epoch: 320 loss:0.309095 auc:0.5676\n",
      "epoch: 340 loss:0.308737 auc:0.5740\n",
      "epoch: 360 loss:0.308441 auc:0.5765\n",
      "epoch: 380 loss:0.308196 auc:0.5765\n",
      "epoch: 400 loss:0.307990 auc:0.5740\n",
      "epoch: 420 loss:0.307817 auc:0.5753\n",
      "epoch: 440 loss:0.307670 auc:0.5778\n",
      "epoch: 460 loss:0.307545 auc:0.5727\n",
      "epoch: 480 loss:0.307438 auc:0.5727\n",
      "epoch: 500 loss:0.307347 auc:0.5740\n"
     ]
    },
    {
     "name": "stderr",
     "output_type": "stream",
     "text": [
      " 49%|████▊     | 489/1005 [1:05:06<1:40:02, 11.63s/it]"
     ]
    },
    {
     "name": "stdout",
     "output_type": "stream",
     "text": [
      "epoch: 520 loss:0.307267 auc:0.5740\n",
      "Fit finished.\n",
      "epoch:   0 loss:0.839342 auc:0.5964\n",
      "epoch:  20 loss:0.587768 auc:0.6476\n",
      "epoch:  40 loss:0.495170 auc:0.5774\n",
      "epoch:  60 loss:0.406462 auc:0.6048\n",
      "epoch:  80 loss:0.359774 auc:0.5964\n",
      "epoch: 100 loss:0.338944 auc:0.5810\n",
      "epoch: 120 loss:0.328357 auc:0.5905\n",
      "epoch: 140 loss:0.322124 auc:0.5821\n"
     ]
    },
    {
     "name": "stderr",
     "output_type": "stream",
     "text": [
      " 49%|████▉     | 490/1005 [1:05:12<1:24:53,  9.89s/it]"
     ]
    },
    {
     "name": "stdout",
     "output_type": "stream",
     "text": [
      "epoch: 160 loss:0.318167 auc:0.5738\n",
      "Fit finished.\n",
      "epoch:   0 loss:0.787166 auc:0.6230\n",
      "epoch:  20 loss:0.576077 auc:0.8161\n",
      "epoch:  40 loss:0.457957 auc:0.7908\n",
      "epoch:  60 loss:0.380244 auc:0.7655\n",
      "epoch:  80 loss:0.347854 auc:0.7632\n",
      "epoch: 100 loss:0.332624 auc:0.7563\n",
      "epoch: 120 loss:0.324444 auc:0.7506\n",
      "epoch: 140 loss:0.319551 auc:0.7437\n",
      "epoch: 160 loss:0.316328 auc:0.7345\n"
     ]
    },
    {
     "name": "stderr",
     "output_type": "stream",
     "text": [
      " 49%|████▉     | 491/1005 [1:05:19<1:17:32,  9.05s/it]"
     ]
    },
    {
     "name": "stdout",
     "output_type": "stream",
     "text": [
      "epoch: 180 loss:0.314101 auc:0.7345\n",
      "Fit finished.\n",
      "epoch:   0 loss:0.779961 auc:0.4322\n",
      "epoch:  20 loss:0.565542 auc:0.5816\n",
      "epoch:  40 loss:0.449193 auc:0.5563\n",
      "epoch:  60 loss:0.381628 auc:0.5230\n",
      "epoch:  80 loss:0.348295 auc:0.5149\n",
      "epoch: 100 loss:0.332529 auc:0.5207\n",
      "epoch: 120 loss:0.324219 auc:0.5230\n",
      "epoch: 140 loss:0.319395 auc:0.5276\n",
      "epoch: 160 loss:0.316323 auc:0.5322\n"
     ]
    },
    {
     "name": "stderr",
     "output_type": "stream",
     "text": [
      " 49%|████▉     | 492/1005 [1:05:26<1:12:07,  8.44s/it]"
     ]
    },
    {
     "name": "stdout",
     "output_type": "stream",
     "text": [
      "epoch: 180 loss:0.314229 auc:0.5322\n",
      "Fit finished.\n",
      "epoch:   0 loss:0.783598 auc:0.3654\n",
      "epoch:  20 loss:0.593913 auc:0.5444\n",
      "epoch:  40 loss:0.513901 auc:0.4911\n",
      "epoch:  60 loss:0.423263 auc:0.4837\n",
      "epoch:  80 loss:0.373793 auc:0.4941\n",
      "epoch: 100 loss:0.348699 auc:0.4808\n",
      "epoch: 120 loss:0.335588 auc:0.4704\n",
      "epoch: 140 loss:0.327839 auc:0.4689\n",
      "epoch: 160 loss:0.322743 auc:0.4689\n"
     ]
    },
    {
     "name": "stderr",
     "output_type": "stream",
     "text": [
      " 49%|████▉     | 493/1005 [1:05:33<1:07:11,  7.87s/it]"
     ]
    },
    {
     "name": "stdout",
     "output_type": "stream",
     "text": [
      "epoch: 180 loss:0.319186 auc:0.4749\n",
      "Fit finished.\n",
      "epoch:   0 loss:0.765484 auc:0.2340\n",
      "epoch:  20 loss:0.590888 auc:0.6679\n",
      "epoch:  40 loss:0.518531 auc:0.4377\n",
      "epoch:  60 loss:0.418976 auc:0.3925\n",
      "epoch:  80 loss:0.367912 auc:0.3811\n",
      "epoch: 100 loss:0.345488 auc:0.3623\n",
      "epoch: 120 loss:0.333674 auc:0.3472\n",
      "epoch: 140 loss:0.326509 auc:0.3509\n",
      "epoch: 160 loss:0.321733 auc:0.3472\n"
     ]
    },
    {
     "name": "stderr",
     "output_type": "stream",
     "text": [
      " 49%|████▉     | 494/1005 [1:05:39<1:02:47,  7.37s/it]"
     ]
    },
    {
     "name": "stdout",
     "output_type": "stream",
     "text": [
      "epoch: 180 loss:0.318370 auc:0.3472\n",
      "Fit finished.\n",
      "epoch:   0 loss:0.832470 auc:0.5835\n",
      "epoch:  20 loss:0.597118 auc:0.7647\n",
      "epoch:  40 loss:0.519427 auc:0.7565\n",
      "epoch:  60 loss:0.430607 auc:0.7318\n",
      "epoch:  80 loss:0.378092 auc:0.7565\n",
      "epoch: 100 loss:0.351308 auc:0.7588\n",
      "epoch: 120 loss:0.337227 auc:0.7612\n",
      "epoch: 140 loss:0.328829 auc:0.7682\n",
      "epoch: 160 loss:0.323322 auc:0.7800\n",
      "epoch: 180 loss:0.319515 auc:0.7812\n",
      "epoch: 200 loss:0.316773 auc:0.7871\n",
      "epoch: 220 loss:0.314746 auc:0.7824\n",
      "epoch: 240 loss:0.313210 auc:0.7847\n",
      "epoch: 260 loss:0.312023 auc:0.7859\n",
      "epoch: 280 loss:0.311095 auc:0.7847\n",
      "epoch: 300 loss:0.310360 auc:0.7859\n",
      "epoch: 320 loss:0.309775 auc:0.7871\n",
      "epoch: 340 loss:0.309307 auc:0.7847\n"
     ]
    },
    {
     "name": "stderr",
     "output_type": "stream",
     "text": [
      " 49%|████▉     | 495/1005 [1:05:52<1:16:30,  9.00s/it]"
     ]
    },
    {
     "name": "stdout",
     "output_type": "stream",
     "text": [
      "epoch: 360 loss:0.308930 auc:0.7800\n",
      "Fit finished.\n",
      "epoch:   0 loss:0.785201 auc:0.3017\n",
      "epoch:  20 loss:0.581391 auc:0.4814\n",
      "epoch:  40 loss:0.479547 auc:0.4814\n",
      "epoch:  60 loss:0.396340 auc:0.5021\n",
      "epoch:  80 loss:0.358002 auc:0.4711\n",
      "epoch: 100 loss:0.339963 auc:0.4566\n",
      "epoch: 120 loss:0.330008 auc:0.4483\n",
      "epoch: 140 loss:0.323769 auc:0.4463\n",
      "epoch: 160 loss:0.319548 auc:0.4483\n"
     ]
    },
    {
     "name": "stderr",
     "output_type": "stream",
     "text": [
      " 49%|████▉     | 496/1005 [1:05:58<1:09:52,  8.24s/it]"
     ]
    },
    {
     "name": "stdout",
     "output_type": "stream",
     "text": [
      "epoch: 180 loss:0.316589 auc:0.4504\n",
      "Fit finished.\n",
      "epoch:   0 loss:0.796726 auc:0.5822\n",
      "epoch:  20 loss:0.597618 auc:0.6106\n",
      "epoch:  40 loss:0.524082 auc:0.6767\n",
      "epoch:  60 loss:0.431614 auc:0.7372\n",
      "epoch:  80 loss:0.378581 auc:0.7032\n",
      "epoch: 100 loss:0.352516 auc:0.6786\n",
      "epoch: 120 loss:0.338379 auc:0.6786\n",
      "epoch: 140 loss:0.329742 auc:0.6711\n",
      "epoch: 160 loss:0.324047 auc:0.6730\n",
      "epoch: 180 loss:0.320122 auc:0.6730\n"
     ]
    },
    {
     "name": "stderr",
     "output_type": "stream",
     "text": [
      " 49%|████▉     | 497/1005 [1:06:06<1:08:15,  8.06s/it]"
     ]
    },
    {
     "name": "stdout",
     "output_type": "stream",
     "text": [
      "epoch: 200 loss:0.317318 auc:0.6711\n",
      "Fit finished.\n",
      "epoch:   0 loss:0.815124 auc:0.6892\n",
      "epoch:  20 loss:0.588057 auc:0.5642\n",
      "epoch:  40 loss:0.487511 auc:0.6059\n",
      "epoch:  60 loss:0.407727 auc:0.5938\n",
      "epoch:  80 loss:0.366642 auc:0.5920\n",
      "epoch: 100 loss:0.345086 auc:0.5868\n",
      "epoch: 120 loss:0.333437 auc:0.5920\n",
      "epoch: 140 loss:0.326492 auc:0.5885\n"
     ]
    },
    {
     "name": "stderr",
     "output_type": "stream",
     "text": [
      " 50%|████▉     | 498/1005 [1:06:12<1:03:18,  7.49s/it]"
     ]
    },
    {
     "name": "stdout",
     "output_type": "stream",
     "text": [
      "epoch: 160 loss:0.321872 auc:0.5885\n",
      "Fit finished.\n",
      "epoch:   0 loss:0.896147 auc:0.6096\n",
      "epoch:  20 loss:0.597207 auc:0.6000\n",
      "epoch:  40 loss:0.541926 auc:0.5968\n",
      "epoch:  60 loss:0.439866 auc:0.6528\n",
      "epoch:  80 loss:0.382310 auc:0.6672\n",
      "epoch: 100 loss:0.354032 auc:0.6592\n",
      "epoch: 120 loss:0.339024 auc:0.6512\n",
      "epoch: 140 loss:0.329972 auc:0.6496\n",
      "epoch: 160 loss:0.324124 auc:0.6432\n",
      "epoch: 180 loss:0.320143 auc:0.6432\n",
      "epoch: 200 loss:0.317319 auc:0.6416\n"
     ]
    },
    {
     "name": "stderr",
     "output_type": "stream",
     "text": [
      " 50%|████▉     | 499/1005 [1:06:20<1:04:53,  7.70s/it]"
     ]
    },
    {
     "name": "stdout",
     "output_type": "stream",
     "text": [
      "epoch: 220 loss:0.315246 auc:0.6416\n",
      "Fit finished.\n",
      "epoch:   0 loss:0.797793 auc:0.5843\n",
      "epoch:  20 loss:0.604910 auc:0.6346\n",
      "epoch:  40 loss:0.563221 auc:0.6450\n",
      "epoch:  60 loss:0.471486 auc:0.6879\n",
      "epoch:  80 loss:0.401347 auc:0.6598\n",
      "epoch: 100 loss:0.365999 auc:0.6746\n",
      "epoch: 120 loss:0.346611 auc:0.6538\n",
      "epoch: 140 loss:0.335081 auc:0.6435\n",
      "epoch: 160 loss:0.327797 auc:0.6479\n",
      "epoch: 180 loss:0.322931 auc:0.6450\n"
     ]
    },
    {
     "name": "stderr",
     "output_type": "stream",
     "text": [
      " 50%|████▉     | 500/1005 [1:06:28<1:03:54,  7.59s/it]"
     ]
    },
    {
     "name": "stdout",
     "output_type": "stream",
     "text": [
      "epoch: 200 loss:0.319491 auc:0.6435\n",
      "Fit finished.\n",
      "epoch:   0 loss:0.761266 auc:0.6531\n",
      "epoch:  20 loss:0.549612 auc:0.6712\n",
      "epoch:  40 loss:0.415392 auc:0.7075\n",
      "epoch:  60 loss:0.357806 auc:0.6961\n",
      "epoch:  80 loss:0.334774 auc:0.6689\n",
      "epoch: 100 loss:0.324355 auc:0.6712\n",
      "epoch: 120 loss:0.318813 auc:0.6689\n",
      "epoch: 140 loss:0.315442 auc:0.6712\n",
      "epoch: 160 loss:0.313209 auc:0.6712\n"
     ]
    },
    {
     "name": "stderr",
     "output_type": "stream",
     "text": [
      " 50%|████▉     | 501/1005 [1:06:35<1:02:41,  7.46s/it]"
     ]
    },
    {
     "name": "stdout",
     "output_type": "stream",
     "text": [
      "epoch: 180 loss:0.311671 auc:0.6689\n",
      "Fit finished.\n",
      "epoch:   0 loss:0.778906 auc:0.5612\n",
      "epoch:  20 loss:0.584376 auc:0.7883\n",
      "epoch:  40 loss:0.479180 auc:0.7693\n",
      "epoch:  60 loss:0.392403 auc:0.7776\n",
      "epoch:  80 loss:0.353307 auc:0.7408\n",
      "epoch: 100 loss:0.335913 auc:0.7348\n",
      "epoch: 120 loss:0.326869 auc:0.7360\n",
      "epoch: 140 loss:0.321420 auc:0.7372\n",
      "epoch: 160 loss:0.317866 auc:0.7348\n"
     ]
    },
    {
     "name": "stderr",
     "output_type": "stream",
     "text": [
      " 50%|████▉     | 502/1005 [1:06:42<1:01:22,  7.32s/it]"
     ]
    },
    {
     "name": "stdout",
     "output_type": "stream",
     "text": [
      "epoch: 180 loss:0.315439 auc:0.7325\n",
      "Fit finished.\n",
      "epoch:   0 loss:0.808631 auc:0.3754\n",
      "epoch:  20 loss:0.585820 auc:0.5581\n",
      "epoch:  40 loss:0.492524 auc:0.3688\n",
      "epoch:  60 loss:0.408585 auc:0.3771\n",
      "epoch:  80 loss:0.366016 auc:0.4203\n",
      "epoch: 100 loss:0.344509 auc:0.4352\n",
      "epoch: 120 loss:0.332746 auc:0.4319\n",
      "epoch: 140 loss:0.325574 auc:0.4286\n",
      "epoch: 160 loss:0.320811 auc:0.4286\n"
     ]
    },
    {
     "name": "stderr",
     "output_type": "stream",
     "text": [
      " 50%|█████     | 503/1005 [1:06:49<1:00:03,  7.18s/it]"
     ]
    },
    {
     "name": "stdout",
     "output_type": "stream",
     "text": [
      "epoch: 180 loss:0.317504 auc:0.4302\n",
      "Fit finished.\n",
      "epoch:   0 loss:0.783548 auc:0.4275\n",
      "epoch:  20 loss:0.586017 auc:0.8382\n",
      "epoch:  40 loss:0.500334 auc:0.8514\n",
      "epoch:  60 loss:0.408957 auc:0.8418\n",
      "epoch:  80 loss:0.363627 auc:0.8490\n",
      "epoch: 100 loss:0.342277 auc:0.8370\n",
      "epoch: 120 loss:0.331099 auc:0.8297\n",
      "epoch: 140 loss:0.324328 auc:0.8261\n",
      "epoch: 160 loss:0.319854 auc:0.8200\n"
     ]
    },
    {
     "name": "stderr",
     "output_type": "stream",
     "text": [
      " 50%|█████     | 504/1005 [1:06:55<58:15,  6.98s/it]  "
     ]
    },
    {
     "name": "stdout",
     "output_type": "stream",
     "text": [
      "epoch: 180 loss:0.316748 auc:0.8261\n",
      "Fit finished.\n",
      "epoch:   0 loss:0.776985 auc:0.3344\n",
      "epoch:  20 loss:0.578284 auc:0.6064\n",
      "epoch:  40 loss:0.470531 auc:0.5200\n",
      "epoch:  60 loss:0.385238 auc:0.4992\n",
      "epoch:  80 loss:0.348943 auc:0.4928\n",
      "epoch: 100 loss:0.333512 auc:0.5040\n",
      "epoch: 120 loss:0.325399 auc:0.5008\n",
      "epoch: 140 loss:0.320468 auc:0.5040\n",
      "epoch: 160 loss:0.317205 auc:0.5088\n"
     ]
    },
    {
     "name": "stderr",
     "output_type": "stream",
     "text": [
      " 50%|█████     | 505/1005 [1:07:02<58:53,  7.07s/it]"
     ]
    },
    {
     "name": "stdout",
     "output_type": "stream",
     "text": [
      "epoch: 180 loss:0.314906 auc:0.5120\n",
      "Fit finished.\n",
      "epoch:   0 loss:0.770935 auc:0.5664\n",
      "epoch:  20 loss:0.603187 auc:0.8720\n",
      "epoch:  40 loss:0.550492 auc:0.8744\n",
      "epoch:  60 loss:0.456165 auc:0.8551\n",
      "epoch:  80 loss:0.394974 auc:0.8140\n",
      "epoch: 100 loss:0.360468 auc:0.7983\n",
      "epoch: 120 loss:0.341995 auc:0.7862\n",
      "epoch: 140 loss:0.331499 auc:0.7693\n",
      "epoch: 160 loss:0.325003 auc:0.7693\n"
     ]
    },
    {
     "name": "stderr",
     "output_type": "stream",
     "text": [
      " 50%|█████     | 506/1005 [1:07:09<58:22,  7.02s/it]"
     ]
    },
    {
     "name": "stdout",
     "output_type": "stream",
     "text": [
      "epoch: 180 loss:0.320710 auc:0.7585\n",
      "Fit finished.\n",
      "epoch:   0 loss:0.829043 auc:0.6709\n",
      "epoch:  20 loss:0.594344 auc:0.7666\n",
      "epoch:  40 loss:0.523885 auc:0.7908\n",
      "epoch:  60 loss:0.438844 auc:0.8074\n",
      "epoch:  80 loss:0.381786 auc:0.8380\n",
      "epoch: 100 loss:0.352438 auc:0.8469\n",
      "epoch: 120 loss:0.337016 auc:0.8431\n",
      "epoch: 140 loss:0.328239 auc:0.8431\n",
      "epoch: 160 loss:0.322777 auc:0.8393\n",
      "epoch: 180 loss:0.319126 auc:0.8367\n",
      "epoch: 200 loss:0.316547 auc:0.8304\n",
      "epoch: 220 loss:0.314642 auc:0.8278\n"
     ]
    },
    {
     "name": "stderr",
     "output_type": "stream",
     "text": [
      " 50%|█████     | 507/1005 [1:07:18<1:02:37,  7.54s/it]"
     ]
    },
    {
     "name": "stdout",
     "output_type": "stream",
     "text": [
      "epoch: 240 loss:0.313187 auc:0.8240\n",
      "Fit finished.\n",
      "epoch:   0 loss:0.806412 auc:0.6353\n",
      "epoch:  20 loss:0.600360 auc:0.7454\n",
      "epoch:  40 loss:0.541206 auc:0.7294\n",
      "epoch:  60 loss:0.442110 auc:0.7387\n",
      "epoch:  80 loss:0.383898 auc:0.7122\n",
      "epoch: 100 loss:0.355334 auc:0.6883\n",
      "epoch: 120 loss:0.339826 auc:0.6897\n",
      "epoch: 140 loss:0.330325 auc:0.6844\n",
      "epoch: 160 loss:0.324209 auc:0.6790\n"
     ]
    },
    {
     "name": "stderr",
     "output_type": "stream",
     "text": [
      " 51%|█████     | 508/1005 [1:07:25<1:00:38,  7.32s/it]"
     ]
    },
    {
     "name": "stdout",
     "output_type": "stream",
     "text": [
      "epoch: 180 loss:0.320127 auc:0.6764\n",
      "Fit finished.\n",
      "epoch:   0 loss:0.805593 auc:0.5308\n",
      "epoch:  20 loss:0.585493 auc:0.6810\n",
      "epoch:  40 loss:0.498029 auc:0.5714\n",
      "epoch:  60 loss:0.406808 auc:0.5665\n",
      "epoch:  80 loss:0.364578 auc:0.5924\n",
      "epoch: 100 loss:0.342020 auc:0.5985\n",
      "epoch: 120 loss:0.329968 auc:0.6084\n",
      "epoch: 140 loss:0.323204 auc:0.6121\n",
      "epoch: 160 loss:0.318992 auc:0.6182\n"
     ]
    },
    {
     "name": "stderr",
     "output_type": "stream",
     "text": [
      " 51%|█████     | 509/1005 [1:07:32<59:27,  7.19s/it]  "
     ]
    },
    {
     "name": "stdout",
     "output_type": "stream",
     "text": [
      "epoch: 180 loss:0.316150 auc:0.6108\n",
      "Fit finished.\n",
      "epoch:   0 loss:0.790376 auc:0.3822\n",
      "epoch:  20 loss:0.577927 auc:0.5977\n",
      "epoch:  40 loss:0.464490 auc:0.5276\n",
      "epoch:  60 loss:0.378490 auc:0.5138\n",
      "epoch:  80 loss:0.345535 auc:0.5150\n",
      "epoch: 100 loss:0.330900 auc:0.5163\n",
      "epoch: 120 loss:0.323325 auc:0.5113\n",
      "epoch: 140 loss:0.318848 auc:0.5125\n",
      "epoch: 160 loss:0.315925 auc:0.5113\n"
     ]
    },
    {
     "name": "stderr",
     "output_type": "stream",
     "text": [
      " 51%|█████     | 510/1005 [1:07:39<1:00:06,  7.29s/it]"
     ]
    },
    {
     "name": "stdout",
     "output_type": "stream",
     "text": [
      "epoch: 180 loss:0.313891 auc:0.5088\n",
      "Fit finished.\n",
      "epoch:   0 loss:0.816612 auc:0.3819\n",
      "epoch:  20 loss:0.597685 auc:0.5469\n",
      "epoch:  40 loss:0.520892 auc:0.5434\n",
      "epoch:  60 loss:0.425373 auc:0.5104\n",
      "epoch:  80 loss:0.374843 auc:0.5226\n",
      "epoch: 100 loss:0.348688 auc:0.5451\n",
      "epoch: 120 loss:0.335031 auc:0.5486\n",
      "epoch: 140 loss:0.327085 auc:0.5399\n",
      "epoch: 160 loss:0.322012 auc:0.5451\n"
     ]
    },
    {
     "name": "stderr",
     "output_type": "stream",
     "text": [
      " 51%|█████     | 511/1005 [1:07:46<59:02,  7.17s/it]  "
     ]
    },
    {
     "name": "stdout",
     "output_type": "stream",
     "text": [
      "epoch: 180 loss:0.318525 auc:0.5451\n",
      "Fit finished.\n",
      "epoch:   0 loss:0.772093 auc:0.2400\n",
      "epoch:  20 loss:0.584631 auc:0.5200\n",
      "epoch:  40 loss:0.488050 auc:0.4500\n",
      "epoch:  60 loss:0.401233 auc:0.4600\n",
      "epoch:  80 loss:0.362169 auc:0.4800\n",
      "epoch: 100 loss:0.343114 auc:0.4900\n",
      "epoch: 120 loss:0.332228 auc:0.4700\n",
      "epoch: 140 loss:0.325384 auc:0.4500\n",
      "epoch: 160 loss:0.320810 auc:0.4400\n"
     ]
    },
    {
     "name": "stderr",
     "output_type": "stream",
     "text": [
      " 51%|█████     | 512/1005 [1:07:53<57:59,  7.06s/it]"
     ]
    },
    {
     "name": "stdout",
     "output_type": "stream",
     "text": [
      "epoch: 180 loss:0.317620 auc:0.4600\n",
      "Fit finished.\n",
      "epoch:   0 loss:0.780681 auc:0.4821\n",
      "epoch:  20 loss:0.588554 auc:0.5485\n",
      "epoch:  40 loss:0.497225 auc:0.7423\n",
      "epoch:  60 loss:0.408627 auc:0.8189\n",
      "epoch:  80 loss:0.363142 auc:0.8061\n",
      "epoch: 100 loss:0.341585 auc:0.8074\n",
      "epoch: 120 loss:0.330614 auc:0.8087\n",
      "epoch: 140 loss:0.324098 auc:0.8074\n",
      "epoch: 160 loss:0.319853 auc:0.8099\n",
      "epoch: 180 loss:0.316897 auc:0.7997\n",
      "epoch: 200 loss:0.314746 auc:0.7972\n"
     ]
    },
    {
     "name": "stderr",
     "output_type": "stream",
     "text": [
      " 51%|█████     | 513/1005 [1:08:01<1:00:38,  7.39s/it]"
     ]
    },
    {
     "name": "stdout",
     "output_type": "stream",
     "text": [
      "epoch: 220 loss:0.313147 auc:0.7972\n",
      "Fit finished.\n",
      "epoch:   0 loss:0.809713 auc:0.4837\n",
      "epoch:  20 loss:0.573223 auc:0.6879\n",
      "epoch:  40 loss:0.447858 auc:0.5784\n",
      "epoch:  60 loss:0.372752 auc:0.5858\n",
      "epoch:  80 loss:0.343078 auc:0.5888\n",
      "epoch: 100 loss:0.329607 auc:0.6036\n",
      "epoch: 120 loss:0.322411 auc:0.6050\n",
      "epoch: 140 loss:0.318039 auc:0.6021\n",
      "epoch: 160 loss:0.315169 auc:0.6080\n"
     ]
    },
    {
     "name": "stderr",
     "output_type": "stream",
     "text": [
      " 51%|█████     | 514/1005 [1:08:08<58:52,  7.20s/it]  "
     ]
    },
    {
     "name": "stdout",
     "output_type": "stream",
     "text": [
      "epoch: 180 loss:0.313205 auc:0.6050\n",
      "Fit finished.\n",
      "epoch:   0 loss:0.787541 auc:0.5102\n",
      "epoch:  20 loss:0.591803 auc:0.6339\n",
      "epoch:  40 loss:0.510522 auc:0.6301\n",
      "epoch:  60 loss:0.425060 auc:0.6327\n",
      "epoch:  80 loss:0.375387 auc:0.6288\n",
      "epoch: 100 loss:0.350429 auc:0.6352\n",
      "epoch: 120 loss:0.336905 auc:0.6314\n",
      "epoch: 140 loss:0.328774 auc:0.6237\n",
      "epoch: 160 loss:0.323455 auc:0.6122\n"
     ]
    },
    {
     "name": "stderr",
     "output_type": "stream",
     "text": [
      " 51%|█████     | 515/1005 [1:08:15<58:38,  7.18s/it]"
     ]
    },
    {
     "name": "stdout",
     "output_type": "stream",
     "text": [
      "epoch: 180 loss:0.319780 auc:0.6135\n",
      "Fit finished.\n",
      "epoch:   0 loss:0.826774 auc:0.6863\n",
      "epoch:  20 loss:0.596733 auc:0.5252\n",
      "epoch:  40 loss:0.519476 auc:0.5288\n",
      "epoch:  60 loss:0.434069 auc:0.5445\n",
      "epoch:  80 loss:0.382272 auc:0.5661\n",
      "epoch: 100 loss:0.354650 auc:0.5613\n",
      "epoch: 120 loss:0.339664 auc:0.5601\n",
      "epoch: 140 loss:0.330818 auc:0.5577\n"
     ]
    },
    {
     "name": "stderr",
     "output_type": "stream",
     "text": [
      " 51%|█████▏    | 516/1005 [1:08:21<54:30,  6.69s/it]"
     ]
    },
    {
     "name": "stdout",
     "output_type": "stream",
     "text": [
      "epoch: 160 loss:0.325109 auc:0.5565\n",
      "Fit finished.\n",
      "epoch:   0 loss:0.787767 auc:0.5444\n",
      "epoch:  20 loss:0.569217 auc:0.8809\n",
      "epoch:  40 loss:0.447278 auc:0.6503\n",
      "epoch:  60 loss:0.377299 auc:0.7070\n",
      "epoch:  80 loss:0.346753 auc:0.6843\n",
      "epoch: 100 loss:0.331993 auc:0.6730\n",
      "epoch: 120 loss:0.323944 auc:0.6673\n",
      "epoch: 140 loss:0.319104 auc:0.6635\n",
      "epoch: 160 loss:0.315931 auc:0.6578\n"
     ]
    },
    {
     "name": "stderr",
     "output_type": "stream",
     "text": [
      " 51%|█████▏    | 517/1005 [1:08:27<54:48,  6.74s/it]"
     ]
    },
    {
     "name": "stdout",
     "output_type": "stream",
     "text": [
      "epoch: 180 loss:0.313756 auc:0.6484\n",
      "Fit finished.\n",
      "epoch:   0 loss:0.776113 auc:0.5249\n",
      "epoch:  20 loss:0.591665 auc:0.6545\n",
      "epoch:  40 loss:0.497114 auc:0.6445\n",
      "epoch:  60 loss:0.411168 auc:0.6246\n",
      "epoch:  80 loss:0.367475 auc:0.6113\n",
      "epoch: 100 loss:0.345246 auc:0.6163\n",
      "epoch: 120 loss:0.333356 auc:0.6296\n",
      "epoch: 140 loss:0.326105 auc:0.6346\n",
      "epoch: 160 loss:0.321319 auc:0.6362\n"
     ]
    },
    {
     "name": "stderr",
     "output_type": "stream",
     "text": [
      " 52%|█████▏    | 518/1005 [1:08:34<55:08,  6.79s/it]"
     ]
    },
    {
     "name": "stdout",
     "output_type": "stream",
     "text": [
      "epoch: 180 loss:0.317994 auc:0.6379\n",
      "Fit finished.\n",
      "epoch:   0 loss:0.806071 auc:0.3373\n",
      "epoch:  20 loss:0.598535 auc:0.6820\n",
      "epoch:  40 loss:0.529826 auc:0.7263\n",
      "epoch:  60 loss:0.433576 auc:0.6583\n",
      "epoch:  80 loss:0.380117 auc:0.6938\n",
      "epoch: 100 loss:0.351774 auc:0.7071\n",
      "epoch: 120 loss:0.336830 auc:0.7056\n",
      "epoch: 140 loss:0.328102 auc:0.7086\n",
      "epoch: 160 loss:0.322549 auc:0.7041\n",
      "epoch: 180 loss:0.318839 auc:0.6953\n"
     ]
    },
    {
     "name": "stderr",
     "output_type": "stream",
     "text": [
      " 52%|█████▏    | 519/1005 [1:08:41<55:37,  6.87s/it]"
     ]
    },
    {
     "name": "stdout",
     "output_type": "stream",
     "text": [
      "epoch: 200 loss:0.316249 auc:0.6849\n",
      "Fit finished.\n",
      "epoch:   0 loss:0.809206 auc:0.6790\n",
      "epoch:  20 loss:0.594554 auc:0.5864\n",
      "epoch:  40 loss:0.520532 auc:0.6204\n",
      "epoch:  60 loss:0.424760 auc:0.7284\n",
      "epoch:  80 loss:0.373235 auc:0.7901\n",
      "epoch: 100 loss:0.348771 auc:0.7901\n",
      "epoch: 120 loss:0.336154 auc:0.7809\n",
      "epoch: 140 loss:0.328406 auc:0.7685\n",
      "epoch: 160 loss:0.323171 auc:0.7685\n",
      "epoch: 180 loss:0.319465 auc:0.7716\n",
      "epoch: 200 loss:0.316783 auc:0.7716\n",
      "epoch: 220 loss:0.314791 auc:0.7778\n"
     ]
    },
    {
     "name": "stderr",
     "output_type": "stream",
     "text": [
      " 52%|█████▏    | 520/1005 [1:08:50<1:00:43,  7.51s/it]"
     ]
    },
    {
     "name": "stdout",
     "output_type": "stream",
     "text": [
      "epoch: 240 loss:0.313266 auc:0.7809\n",
      "Fit finished.\n",
      "epoch:   0 loss:0.803418 auc:0.4647\n",
      "epoch:  20 loss:0.583681 auc:0.6824\n",
      "epoch:  40 loss:0.496026 auc:0.5906\n",
      "epoch:  60 loss:0.408006 auc:0.5118\n",
      "epoch:  80 loss:0.364765 auc:0.5165\n",
      "epoch: 100 loss:0.343507 auc:0.4953\n",
      "epoch: 120 loss:0.332073 auc:0.4824\n",
      "epoch: 140 loss:0.325268 auc:0.4729\n",
      "epoch: 160 loss:0.320888 auc:0.4682\n"
     ]
    },
    {
     "name": "stderr",
     "output_type": "stream",
     "text": [
      " 52%|█████▏    | 521/1005 [1:08:57<58:46,  7.29s/it]  "
     ]
    },
    {
     "name": "stdout",
     "output_type": "stream",
     "text": [
      "epoch: 180 loss:0.317870 auc:0.4659\n",
      "Fit finished.\n",
      "epoch:   0 loss:0.816709 auc:0.5714\n",
      "epoch:  20 loss:0.590241 auc:0.5663\n",
      "epoch:  40 loss:0.505406 auc:0.5523\n",
      "epoch:  60 loss:0.407737 auc:0.5625\n",
      "epoch:  80 loss:0.363030 auc:0.5293\n",
      "epoch: 100 loss:0.341630 auc:0.5332\n",
      "epoch: 120 loss:0.330319 auc:0.5332\n",
      "epoch: 140 loss:0.323667 auc:0.5281\n"
     ]
    },
    {
     "name": "stderr",
     "output_type": "stream",
     "text": [
      " 52%|█████▏    | 522/1005 [1:09:03<55:47,  6.93s/it]"
     ]
    },
    {
     "name": "stdout",
     "output_type": "stream",
     "text": [
      "epoch: 160 loss:0.319417 auc:0.5230\n",
      "Fit finished.\n",
      "epoch:   0 loss:0.801709 auc:0.5991\n",
      "epoch:  20 loss:0.596736 auc:0.8695\n",
      "epoch:  40 loss:0.551358 auc:0.8846\n",
      "epoch:  60 loss:0.452505 auc:0.9266\n",
      "epoch:  80 loss:0.392794 auc:0.9138\n",
      "epoch: 100 loss:0.360480 auc:0.9068\n",
      "epoch: 120 loss:0.342986 auc:0.9021\n",
      "epoch: 140 loss:0.332928 auc:0.8998\n",
      "epoch: 160 loss:0.326557 auc:0.8928\n",
      "epoch: 180 loss:0.322206 auc:0.8893\n",
      "epoch: 200 loss:0.319061 auc:0.8893\n"
     ]
    },
    {
     "name": "stderr",
     "output_type": "stream",
     "text": [
      " 52%|█████▏    | 523/1005 [1:09:12<59:12,  7.37s/it]"
     ]
    },
    {
     "name": "stdout",
     "output_type": "stream",
     "text": [
      "epoch: 220 loss:0.316697 auc:0.8881\n",
      "Fit finished.\n",
      "epoch:   0 loss:0.860423 auc:0.5083\n",
      "epoch:  20 loss:0.597433 auc:0.6777\n",
      "epoch:  40 loss:0.542337 auc:0.6761\n",
      "epoch:  60 loss:0.445118 auc:0.5748\n",
      "epoch:  80 loss:0.385571 auc:0.5581\n",
      "epoch: 100 loss:0.355804 auc:0.5914\n",
      "epoch: 120 loss:0.340336 auc:0.5963\n",
      "epoch: 140 loss:0.331174 auc:0.5947\n",
      "epoch: 160 loss:0.325204 auc:0.5947\n"
     ]
    },
    {
     "name": "stderr",
     "output_type": "stream",
     "text": [
      " 52%|█████▏    | 524/1005 [1:09:19<58:03,  7.24s/it]"
     ]
    },
    {
     "name": "stdout",
     "output_type": "stream",
     "text": [
      "epoch: 180 loss:0.321072 auc:0.5880\n",
      "Fit finished.\n",
      "epoch:   0 loss:0.793806 auc:0.4409\n",
      "epoch:  20 loss:0.575492 auc:0.6774\n",
      "epoch:  40 loss:0.460215 auc:0.6464\n",
      "epoch:  60 loss:0.382394 auc:0.6726\n",
      "epoch:  80 loss:0.349362 auc:0.6774\n",
      "epoch: 100 loss:0.334068 auc:0.6714\n",
      "epoch: 120 loss:0.325702 auc:0.6655\n",
      "epoch: 140 loss:0.320620 auc:0.6643\n",
      "epoch: 160 loss:0.317270 auc:0.6619\n"
     ]
    },
    {
     "name": "stderr",
     "output_type": "stream",
     "text": [
      " 52%|█████▏    | 525/1005 [1:09:25<56:23,  7.05s/it]"
     ]
    },
    {
     "name": "stdout",
     "output_type": "stream",
     "text": [
      "epoch: 180 loss:0.314909 auc:0.6619\n",
      "Fit finished.\n",
      "epoch:   0 loss:0.765235 auc:0.5792\n",
      "epoch:  20 loss:0.569066 auc:0.7072\n",
      "epoch:  40 loss:0.442793 auc:0.6768\n",
      "epoch:  60 loss:0.369782 auc:0.6720\n",
      "epoch:  80 loss:0.340977 auc:0.6912\n",
      "epoch: 100 loss:0.328325 auc:0.6928\n",
      "epoch: 120 loss:0.321497 auc:0.7040\n",
      "epoch: 140 loss:0.317330 auc:0.7136\n",
      "epoch: 160 loss:0.314598 auc:0.7136\n",
      "epoch: 180 loss:0.312702 auc:0.7184\n",
      "epoch: 200 loss:0.311341 auc:0.7232\n",
      "epoch: 220 loss:0.310348 auc:0.7328\n",
      "epoch: 240 loss:0.309616 auc:0.7408\n",
      "epoch: 260 loss:0.309074 auc:0.7440\n",
      "epoch: 280 loss:0.308668 auc:0.7456\n",
      "epoch: 300 loss:0.308359 auc:0.7440\n",
      "epoch: 320 loss:0.308118 auc:0.7360\n",
      "epoch: 340 loss:0.307928 auc:0.7392\n",
      "epoch: 360 loss:0.307775 auc:0.7440\n",
      "epoch: 380 loss:0.307650 auc:0.7456\n",
      "epoch: 400 loss:0.307548 auc:0.7456\n",
      "epoch: 420 loss:0.307462 auc:0.7488\n",
      "epoch: 440 loss:0.307391 auc:0.7504\n",
      "epoch: 460 loss:0.307344 auc:0.7504\n",
      "epoch: 480 loss:0.307281 auc:0.7488\n",
      "epoch: 500 loss:0.307237 auc:0.7488\n",
      "epoch: 520 loss:0.307193 auc:0.7488\n",
      "epoch: 540 loss:0.307156 auc:0.7488\n",
      "epoch: 560 loss:0.307124 auc:0.7488\n"
     ]
    },
    {
     "name": "stderr",
     "output_type": "stream",
     "text": [
      " 52%|█████▏    | 526/1005 [1:09:44<1:23:41, 10.48s/it]"
     ]
    },
    {
     "name": "stdout",
     "output_type": "stream",
     "text": [
      "epoch: 580 loss:0.307094 auc:0.7472\n",
      "Fit finished.\n",
      "epoch:   0 loss:0.839476 auc:0.4931\n",
      "epoch:  20 loss:0.598704 auc:0.5979\n",
      "epoch:  40 loss:0.525793 auc:0.5703\n",
      "epoch:  60 loss:0.432191 auc:0.4839\n",
      "epoch:  80 loss:0.379239 auc:0.4435\n",
      "epoch: 100 loss:0.350831 auc:0.4355\n",
      "epoch: 120 loss:0.336216 auc:0.4343\n",
      "epoch: 140 loss:0.327722 auc:0.4240\n"
     ]
    },
    {
     "name": "stderr",
     "output_type": "stream",
     "text": [
      " 52%|█████▏    | 527/1005 [1:09:50<1:13:15,  9.20s/it]"
     ]
    },
    {
     "name": "stdout",
     "output_type": "stream",
     "text": [
      "epoch: 160 loss:0.322313 auc:0.4113\n",
      "Fit finished.\n",
      "epoch:   0 loss:0.794956 auc:0.5299\n",
      "epoch:  20 loss:0.577761 auc:0.7207\n",
      "epoch:  40 loss:0.466350 auc:0.6287\n",
      "epoch:  60 loss:0.390067 auc:0.6609\n",
      "epoch:  80 loss:0.355154 auc:0.6552\n",
      "epoch: 100 loss:0.337235 auc:0.6563\n",
      "epoch: 120 loss:0.327383 auc:0.6540\n",
      "epoch: 140 loss:0.321595 auc:0.6529\n",
      "epoch: 160 loss:0.317910 auc:0.6552\n"
     ]
    },
    {
     "name": "stderr",
     "output_type": "stream",
     "text": [
      " 53%|█████▎    | 528/1005 [1:09:57<1:08:01,  8.56s/it]"
     ]
    },
    {
     "name": "stdout",
     "output_type": "stream",
     "text": [
      "epoch: 180 loss:0.315401 auc:0.6483\n",
      "Fit finished.\n",
      "epoch:   0 loss:0.818784 auc:0.4815\n",
      "epoch:  20 loss:0.596947 auc:0.6077\n",
      "epoch:  40 loss:0.537175 auc:0.6310\n",
      "epoch:  60 loss:0.440721 auc:0.6187\n",
      "epoch:  80 loss:0.385141 auc:0.6008\n",
      "epoch: 100 loss:0.356931 auc:0.5995\n",
      "epoch: 120 loss:0.341309 auc:0.5967\n",
      "epoch: 140 loss:0.331868 auc:0.5844\n",
      "epoch: 160 loss:0.325713 auc:0.5830\n"
     ]
    },
    {
     "name": "stderr",
     "output_type": "stream",
     "text": [
      " 53%|█████▎    | 529/1005 [1:10:04<1:03:54,  8.06s/it]"
     ]
    },
    {
     "name": "stdout",
     "output_type": "stream",
     "text": [
      "epoch: 180 loss:0.321446 auc:0.5693\n",
      "Fit finished.\n",
      "epoch:   0 loss:0.788810 auc:0.5920\n",
      "epoch:  20 loss:0.568544 auc:0.6632\n",
      "epoch:  40 loss:0.447082 auc:0.5885\n",
      "epoch:  60 loss:0.372045 auc:0.6337\n",
      "epoch:  80 loss:0.342636 auc:0.6233\n",
      "epoch: 100 loss:0.329324 auc:0.6128\n",
      "epoch: 120 loss:0.322211 auc:0.6059\n",
      "epoch: 140 loss:0.317899 auc:0.6076\n",
      "epoch: 160 loss:0.315050 auc:0.6042\n"
     ]
    },
    {
     "name": "stderr",
     "output_type": "stream",
     "text": [
      " 53%|█████▎    | 530/1005 [1:10:11<1:00:48,  7.68s/it]"
     ]
    },
    {
     "name": "stdout",
     "output_type": "stream",
     "text": [
      "epoch: 180 loss:0.313074 auc:0.6007\n",
      "Fit finished.\n",
      "epoch:   0 loss:0.782500 auc:0.4271\n",
      "epoch:  20 loss:0.597235 auc:0.4375\n",
      "epoch:  40 loss:0.526437 auc:0.3351\n",
      "epoch:  60 loss:0.425745 auc:0.2656\n",
      "epoch:  80 loss:0.373602 auc:0.2726\n",
      "epoch: 100 loss:0.346988 auc:0.2865\n",
      "epoch: 120 loss:0.333087 auc:0.2882\n",
      "epoch: 140 loss:0.325374 auc:0.2969\n"
     ]
    },
    {
     "name": "stderr",
     "output_type": "stream",
     "text": [
      " 53%|█████▎    | 531/1005 [1:10:17<57:14,  7.25s/it]  "
     ]
    },
    {
     "name": "stdout",
     "output_type": "stream",
     "text": [
      "epoch: 160 loss:0.320580 auc:0.2969\n",
      "Fit finished.\n",
      "epoch:   0 loss:0.789773 auc:0.4874\n",
      "epoch:  20 loss:0.591090 auc:0.8184\n",
      "epoch:  40 loss:0.505351 auc:0.8333\n",
      "epoch:  60 loss:0.416964 auc:0.8149\n",
      "epoch:  80 loss:0.369784 auc:0.8046\n",
      "epoch: 100 loss:0.346848 auc:0.8023\n",
      "epoch: 120 loss:0.334340 auc:0.8057\n",
      "epoch: 140 loss:0.326715 auc:0.8023\n",
      "epoch: 160 loss:0.321725 auc:0.8011\n"
     ]
    },
    {
     "name": "stderr",
     "output_type": "stream",
     "text": [
      " 53%|█████▎    | 532/1005 [1:10:23<54:24,  6.90s/it]"
     ]
    },
    {
     "name": "stdout",
     "output_type": "stream",
     "text": [
      "epoch: 180 loss:0.318316 auc:0.8023\n",
      "Fit finished.\n",
      "epoch:   0 loss:0.766235 auc:0.3388\n",
      "epoch:  20 loss:0.572850 auc:0.5186\n",
      "epoch:  40 loss:0.465545 auc:0.6364\n",
      "epoch:  60 loss:0.391387 auc:0.6384\n",
      "epoch:  80 loss:0.355576 auc:0.6322\n",
      "epoch: 100 loss:0.337861 auc:0.6343\n",
      "epoch: 120 loss:0.328232 auc:0.6302\n",
      "epoch: 140 loss:0.322418 auc:0.6219\n",
      "epoch: 160 loss:0.318577 auc:0.6281\n",
      "epoch: 180 loss:0.315900 auc:0.6281\n"
     ]
    },
    {
     "name": "stderr",
     "output_type": "stream",
     "text": [
      " 53%|█████▎    | 533/1005 [1:10:31<56:01,  7.12s/it]"
     ]
    },
    {
     "name": "stdout",
     "output_type": "stream",
     "text": [
      "epoch: 200 loss:0.313951 auc:0.6343\n",
      "Fit finished.\n",
      "epoch:   0 loss:0.794781 auc:0.5573\n",
      "epoch:  20 loss:0.561987 auc:0.5486\n",
      "epoch:  40 loss:0.444491 auc:0.5174\n",
      "epoch:  60 loss:0.375416 auc:0.5139\n",
      "epoch:  80 loss:0.344330 auc:0.4757\n",
      "epoch: 100 loss:0.330346 auc:0.4670\n",
      "epoch: 120 loss:0.323024 auc:0.4670\n",
      "epoch: 140 loss:0.318620 auc:0.4670\n"
     ]
    },
    {
     "name": "stderr",
     "output_type": "stream",
     "text": [
      " 53%|█████▎    | 534/1005 [1:10:37<53:55,  6.87s/it]"
     ]
    },
    {
     "name": "stdout",
     "output_type": "stream",
     "text": [
      "epoch: 160 loss:0.315724 auc:0.4618\n",
      "Fit finished.\n",
      "epoch:   0 loss:0.779657 auc:0.5648\n",
      "epoch:  20 loss:0.577835 auc:0.7120\n",
      "epoch:  40 loss:0.460258 auc:0.7472\n",
      "epoch:  60 loss:0.383127 auc:0.7408\n",
      "epoch:  80 loss:0.348584 auc:0.7296\n",
      "epoch: 100 loss:0.332710 auc:0.7264\n",
      "epoch: 120 loss:0.324505 auc:0.7264\n",
      "epoch: 140 loss:0.319624 auc:0.7312\n",
      "epoch: 160 loss:0.316439 auc:0.7328\n",
      "epoch: 180 loss:0.314241 auc:0.7328\n"
     ]
    },
    {
     "name": "stderr",
     "output_type": "stream",
     "text": [
      " 53%|█████▎    | 535/1005 [1:10:44<54:42,  6.98s/it]"
     ]
    },
    {
     "name": "stdout",
     "output_type": "stream",
     "text": [
      "epoch: 200 loss:0.312658 auc:0.7392\n",
      "Fit finished.\n",
      "epoch:   0 loss:0.801319 auc:0.2955\n",
      "epoch:  20 loss:0.566540 auc:0.6074\n",
      "epoch:  40 loss:0.456412 auc:0.5165\n",
      "epoch:  60 loss:0.380894 auc:0.5888\n",
      "epoch:  80 loss:0.347450 auc:0.5764\n",
      "epoch: 100 loss:0.332354 auc:0.5723\n",
      "epoch: 120 loss:0.324477 auc:0.5764\n",
      "epoch: 140 loss:0.319811 auc:0.5806\n",
      "epoch: 160 loss:0.316799 auc:0.5785\n"
     ]
    },
    {
     "name": "stderr",
     "output_type": "stream",
     "text": [
      " 53%|█████▎    | 536/1005 [1:10:51<53:19,  6.82s/it]"
     ]
    },
    {
     "name": "stdout",
     "output_type": "stream",
     "text": [
      "epoch: 180 loss:0.314700 auc:0.5744\n",
      "Fit finished.\n",
      "epoch:   0 loss:0.794365 auc:0.5370\n",
      "epoch:  20 loss:0.580123 auc:0.6852\n",
      "epoch:  40 loss:0.467513 auc:0.5093\n",
      "epoch:  60 loss:0.389147 auc:0.5309\n",
      "epoch:  80 loss:0.354629 auc:0.5556\n",
      "epoch: 100 loss:0.337291 auc:0.5617\n",
      "epoch: 120 loss:0.327614 auc:0.5432\n",
      "epoch: 140 loss:0.321685 auc:0.5463\n"
     ]
    },
    {
     "name": "stderr",
     "output_type": "stream",
     "text": [
      " 53%|█████▎    | 537/1005 [1:10:57<51:53,  6.65s/it]"
     ]
    },
    {
     "name": "stdout",
     "output_type": "stream",
     "text": [
      "epoch: 160 loss:0.317833 auc:0.5340\n",
      "Fit finished.\n",
      "epoch:   0 loss:0.805467 auc:0.4728\n",
      "epoch:  20 loss:0.592152 auc:0.6556\n",
      "epoch:  40 loss:0.500496 auc:0.7025\n",
      "epoch:  60 loss:0.413630 auc:0.7074\n",
      "epoch:  80 loss:0.368712 auc:0.7173\n",
      "epoch: 100 loss:0.345979 auc:0.7222\n",
      "epoch: 120 loss:0.333718 auc:0.7185\n",
      "epoch: 140 loss:0.326372 auc:0.7148\n",
      "epoch: 160 loss:0.321560 auc:0.7148\n",
      "epoch: 180 loss:0.318221 auc:0.7111\n",
      "epoch: 200 loss:0.315822 auc:0.7099\n",
      "epoch: 220 loss:0.314047 auc:0.7086\n"
     ]
    },
    {
     "name": "stderr",
     "output_type": "stream",
     "text": [
      " 54%|█████▎    | 538/1005 [1:11:06<57:07,  7.34s/it]"
     ]
    },
    {
     "name": "stdout",
     "output_type": "stream",
     "text": [
      "epoch: 240 loss:0.312699 auc:0.7049\n",
      "Fit finished.\n",
      "epoch:   0 loss:0.772767 auc:0.5255\n",
      "epoch:  20 loss:0.573480 auc:0.6875\n",
      "epoch:  40 loss:0.451454 auc:0.6863\n",
      "epoch:  60 loss:0.376159 auc:0.6875\n",
      "epoch:  80 loss:0.343846 auc:0.6725\n",
      "epoch: 100 loss:0.329868 auc:0.6644\n",
      "epoch: 120 loss:0.322458 auc:0.6644\n",
      "epoch: 140 loss:0.318044 auc:0.6678\n",
      "epoch: 160 loss:0.315211 auc:0.6713\n"
     ]
    },
    {
     "name": "stderr",
     "output_type": "stream",
     "text": [
      " 54%|█████▎    | 539/1005 [1:11:13<56:33,  7.28s/it]"
     ]
    },
    {
     "name": "stdout",
     "output_type": "stream",
     "text": [
      "epoch: 180 loss:0.313269 auc:0.6655\n",
      "Fit finished.\n",
      "epoch:   0 loss:0.817041 auc:0.4482\n",
      "epoch:  20 loss:0.599785 auc:0.5680\n",
      "epoch:  40 loss:0.541065 auc:0.5666\n",
      "epoch:  60 loss:0.436173 auc:0.5577\n",
      "epoch:  80 loss:0.378864 auc:0.5488\n",
      "epoch: 100 loss:0.351995 auc:0.5473\n",
      "epoch: 120 loss:0.337657 auc:0.5355\n",
      "epoch: 140 loss:0.329180 auc:0.5266\n",
      "epoch: 160 loss:0.323775 auc:0.5207\n"
     ]
    },
    {
     "name": "stderr",
     "output_type": "stream",
     "text": [
      " 54%|█████▎    | 540/1005 [1:11:20<55:48,  7.20s/it]"
     ]
    },
    {
     "name": "stdout",
     "output_type": "stream",
     "text": [
      "epoch: 180 loss:0.320104 auc:0.5163\n",
      "Fit finished.\n",
      "epoch:   0 loss:0.820990 auc:0.4944\n",
      "epoch:  20 loss:0.597110 auc:0.5680\n",
      "epoch:  40 loss:0.530627 auc:0.5808\n",
      "epoch:  60 loss:0.436950 auc:0.6128\n",
      "epoch:  80 loss:0.384547 auc:0.6112\n",
      "epoch: 100 loss:0.356840 auc:0.6208\n",
      "epoch: 120 loss:0.340649 auc:0.6256\n",
      "epoch: 140 loss:0.330761 auc:0.6352\n",
      "epoch: 160 loss:0.324511 auc:0.6352\n",
      "epoch: 180 loss:0.320361 auc:0.6336\n",
      "epoch: 200 loss:0.317469 auc:0.6368\n",
      "epoch: 220 loss:0.315361 auc:0.6336\n",
      "epoch: 240 loss:0.313767 auc:0.6304\n",
      "epoch: 260 loss:0.312532 auc:0.6256\n",
      "epoch: 280 loss:0.311557 auc:0.6336\n",
      "epoch: 300 loss:0.310776 auc:0.6352\n",
      "epoch: 320 loss:0.310148 auc:0.6400\n",
      "epoch: 340 loss:0.309639 auc:0.6416\n",
      "epoch: 360 loss:0.309224 auc:0.6416\n",
      "epoch: 380 loss:0.308880 auc:0.6368\n",
      "epoch: 400 loss:0.308591 auc:0.6368\n",
      "epoch: 420 loss:0.308346 auc:0.6352\n",
      "epoch: 440 loss:0.308138 auc:0.6336\n"
     ]
    },
    {
     "name": "stderr",
     "output_type": "stream",
     "text": [
      " 54%|█████▍    | 541/1005 [1:11:34<1:12:41,  9.40s/it]"
     ]
    },
    {
     "name": "stdout",
     "output_type": "stream",
     "text": [
      "epoch: 460 loss:0.307961 auc:0.6336\n",
      "Fit finished.\n",
      "epoch:   0 loss:0.792523 auc:0.6333\n",
      "epoch:  20 loss:0.596404 auc:0.6538\n",
      "epoch:  40 loss:0.521165 auc:0.6679\n",
      "epoch:  60 loss:0.429545 auc:0.6218\n",
      "epoch:  80 loss:0.379879 auc:0.5974\n",
      "epoch: 100 loss:0.353597 auc:0.6000\n",
      "epoch: 120 loss:0.338399 auc:0.5962\n",
      "epoch: 140 loss:0.329283 auc:0.6013\n"
     ]
    },
    {
     "name": "stderr",
     "output_type": "stream",
     "text": [
      " 54%|█████▍    | 542/1005 [1:11:41<1:05:03,  8.43s/it]"
     ]
    },
    {
     "name": "stdout",
     "output_type": "stream",
     "text": [
      "epoch: 160 loss:0.323338 auc:0.6115\n",
      "Fit finished.\n",
      "epoch:   0 loss:0.774848 auc:0.5661\n",
      "epoch:  20 loss:0.586218 auc:0.6198\n",
      "epoch:  40 loss:0.509380 auc:0.7066\n",
      "epoch:  60 loss:0.423893 auc:0.6384\n",
      "epoch:  80 loss:0.374240 auc:0.5971\n",
      "epoch: 100 loss:0.349054 auc:0.5868\n",
      "epoch: 120 loss:0.335546 auc:0.5847\n",
      "epoch: 140 loss:0.327627 auc:0.5868\n",
      "epoch: 160 loss:0.322574 auc:0.5806\n"
     ]
    },
    {
     "name": "stderr",
     "output_type": "stream",
     "text": [
      " 54%|█████▍    | 543/1005 [1:11:48<1:02:25,  8.11s/it]"
     ]
    },
    {
     "name": "stdout",
     "output_type": "stream",
     "text": [
      "epoch: 180 loss:0.319093 auc:0.5806\n",
      "Fit finished.\n",
      "epoch:   0 loss:0.791192 auc:0.4423\n",
      "epoch:  20 loss:0.545813 auc:0.6803\n",
      "epoch:  40 loss:0.413600 auc:0.4483\n",
      "epoch:  60 loss:0.356780 auc:0.4651\n",
      "epoch:  80 loss:0.333588 auc:0.4435\n",
      "epoch: 100 loss:0.323731 auc:0.4399\n",
      "epoch: 120 loss:0.318470 auc:0.4399\n",
      "epoch: 140 loss:0.315225 auc:0.4387\n"
     ]
    },
    {
     "name": "stderr",
     "output_type": "stream",
     "text": [
      " 54%|█████▍    | 544/1005 [1:11:54<58:09,  7.57s/it]  "
     ]
    },
    {
     "name": "stdout",
     "output_type": "stream",
     "text": [
      "epoch: 160 loss:0.313071 auc:0.4411\n",
      "Fit finished.\n",
      "epoch:   0 loss:0.807986 auc:0.6767\n",
      "epoch:  20 loss:0.597754 auc:0.7089\n",
      "epoch:  40 loss:0.538519 auc:0.7032\n",
      "epoch:  60 loss:0.435062 auc:0.6843\n",
      "epoch:  80 loss:0.377815 auc:0.6881\n",
      "epoch: 100 loss:0.349470 auc:0.6900\n",
      "epoch: 120 loss:0.335179 auc:0.6786\n",
      "epoch: 140 loss:0.326927 auc:0.6730\n"
     ]
    },
    {
     "name": "stderr",
     "output_type": "stream",
     "text": [
      " 54%|█████▍    | 545/1005 [1:12:00<54:40,  7.13s/it]"
     ]
    },
    {
     "name": "stdout",
     "output_type": "stream",
     "text": [
      "epoch: 160 loss:0.321698 auc:0.6673\n",
      "Fit finished.\n",
      "epoch:   0 loss:0.791821 auc:0.5551\n",
      "epoch:  20 loss:0.583835 auc:0.6316\n",
      "epoch:  40 loss:0.481525 auc:0.5902\n",
      "epoch:  60 loss:0.399393 auc:0.5501\n",
      "epoch:  80 loss:0.358964 auc:0.5088\n",
      "epoch: 100 loss:0.339704 auc:0.5163\n",
      "epoch: 120 loss:0.329433 auc:0.5175\n",
      "epoch: 140 loss:0.323279 auc:0.5125\n"
     ]
    },
    {
     "name": "stderr",
     "output_type": "stream",
     "text": [
      " 54%|█████▍    | 546/1005 [1:12:07<52:34,  6.87s/it]"
     ]
    },
    {
     "name": "stdout",
     "output_type": "stream",
     "text": [
      "epoch: 160 loss:0.319206 auc:0.5063\n",
      "Fit finished.\n",
      "epoch:   0 loss:0.805663 auc:0.4989\n",
      "epoch:  20 loss:0.596220 auc:0.4874\n",
      "epoch:  40 loss:0.517640 auc:0.5023\n",
      "epoch:  60 loss:0.425834 auc:0.4816\n",
      "epoch:  80 loss:0.377797 auc:0.4517\n",
      "epoch: 100 loss:0.351940 auc:0.4391\n",
      "epoch: 120 loss:0.337313 auc:0.4425\n",
      "epoch: 140 loss:0.328388 auc:0.4460\n"
     ]
    },
    {
     "name": "stderr",
     "output_type": "stream",
     "text": [
      " 54%|█████▍    | 547/1005 [1:12:13<50:18,  6.59s/it]"
     ]
    },
    {
     "name": "stdout",
     "output_type": "stream",
     "text": [
      "epoch: 160 loss:0.322654 auc:0.4448\n",
      "Fit finished.\n",
      "epoch:   0 loss:0.763234 auc:0.3881\n",
      "epoch:  20 loss:0.581150 auc:0.5881\n",
      "epoch:  40 loss:0.486585 auc:0.5369\n",
      "epoch:  60 loss:0.404900 auc:0.5107\n",
      "epoch:  80 loss:0.365860 auc:0.5048\n",
      "epoch: 100 loss:0.345218 auc:0.4952\n",
      "epoch: 120 loss:0.333249 auc:0.5048\n",
      "epoch: 140 loss:0.325943 auc:0.5024\n",
      "epoch: 160 loss:0.321169 auc:0.5000\n"
     ]
    },
    {
     "name": "stderr",
     "output_type": "stream",
     "text": [
      " 55%|█████▍    | 548/1005 [1:12:19<50:32,  6.64s/it]"
     ]
    },
    {
     "name": "stdout",
     "output_type": "stream",
     "text": [
      "epoch: 180 loss:0.317892 auc:0.4952\n",
      "Fit finished.\n",
      "epoch:   0 loss:0.782054 auc:0.5075\n",
      "epoch:  20 loss:0.584015 auc:0.6104\n",
      "epoch:  40 loss:0.485802 auc:0.6173\n",
      "epoch:  60 loss:0.401891 auc:0.6982\n",
      "epoch:  80 loss:0.360092 auc:0.6955\n",
      "epoch: 100 loss:0.340283 auc:0.6968\n",
      "epoch: 120 loss:0.329972 auc:0.6886\n",
      "epoch: 140 loss:0.323873 auc:0.6845\n",
      "epoch: 160 loss:0.319868 auc:0.6845\n",
      "epoch: 180 loss:0.317077 auc:0.6818\n",
      "epoch: 200 loss:0.315064 auc:0.6818\n"
     ]
    },
    {
     "name": "stderr",
     "output_type": "stream",
     "text": [
      " 55%|█████▍    | 549/1005 [1:12:28<54:02,  7.11s/it]"
     ]
    },
    {
     "name": "stdout",
     "output_type": "stream",
     "text": [
      "epoch: 220 loss:0.313567 auc:0.6804\n",
      "Fit finished.\n",
      "epoch:   0 loss:0.799928 auc:0.4128\n",
      "epoch:  20 loss:0.584597 auc:0.6288\n",
      "epoch:  40 loss:0.497739 auc:0.6000\n",
      "epoch:  60 loss:0.403509 auc:0.5968\n",
      "epoch:  80 loss:0.359485 auc:0.5936\n",
      "epoch: 100 loss:0.339469 auc:0.5936\n",
      "epoch: 120 loss:0.328817 auc:0.5968\n",
      "epoch: 140 loss:0.322459 auc:0.6096\n",
      "epoch: 160 loss:0.318358 auc:0.6064\n"
     ]
    },
    {
     "name": "stderr",
     "output_type": "stream",
     "text": [
      " 55%|█████▍    | 550/1005 [1:12:35<54:33,  7.19s/it]"
     ]
    },
    {
     "name": "stdout",
     "output_type": "stream",
     "text": [
      "epoch: 180 loss:0.315575 auc:0.6096\n",
      "Fit finished.\n",
      "epoch:   0 loss:0.800180 auc:0.5408\n",
      "epoch:  20 loss:0.590619 auc:0.6020\n",
      "epoch:  40 loss:0.509525 auc:0.5867\n",
      "epoch:  60 loss:0.416739 auc:0.5459\n",
      "epoch:  80 loss:0.368213 auc:0.4949\n",
      "epoch: 100 loss:0.344876 auc:0.5102\n",
      "epoch: 120 loss:0.333108 auc:0.5153\n",
      "epoch: 140 loss:0.326161 auc:0.5306\n"
     ]
    },
    {
     "name": "stderr",
     "output_type": "stream",
     "text": [
      " 55%|█████▍    | 551/1005 [1:12:41<52:09,  6.89s/it]"
     ]
    },
    {
     "name": "stdout",
     "output_type": "stream",
     "text": [
      "epoch: 160 loss:0.321594 auc:0.5357\n",
      "Fit finished.\n",
      "epoch:   0 loss:0.783533 auc:0.5384\n",
      "epoch:  20 loss:0.560691 auc:0.7711\n",
      "epoch:  40 loss:0.436240 auc:0.6957\n",
      "epoch:  60 loss:0.373478 auc:0.6944\n",
      "epoch:  80 loss:0.344745 auc:0.7008\n",
      "epoch: 100 loss:0.330314 auc:0.7199\n",
      "epoch: 120 loss:0.322524 auc:0.7251\n",
      "epoch: 140 loss:0.317994 auc:0.7302\n",
      "epoch: 160 loss:0.315137 auc:0.7353\n"
     ]
    },
    {
     "name": "stderr",
     "output_type": "stream",
     "text": [
      " 55%|█████▍    | 552/1005 [1:12:48<51:39,  6.84s/it]"
     ]
    },
    {
     "name": "stdout",
     "output_type": "stream",
     "text": [
      "epoch: 180 loss:0.313205 auc:0.7327\n",
      "Fit finished.\n",
      "epoch:   0 loss:0.804834 auc:0.4376\n",
      "epoch:  20 loss:0.574667 auc:0.7805\n",
      "epoch:  40 loss:0.459948 auc:0.7599\n",
      "epoch:  60 loss:0.382526 auc:0.7407\n",
      "epoch:  80 loss:0.349448 auc:0.7037\n",
      "epoch: 100 loss:0.333794 auc:0.7010\n",
      "epoch: 120 loss:0.325270 auc:0.6982\n",
      "epoch: 140 loss:0.320144 auc:0.6982\n",
      "epoch: 160 loss:0.316910 auc:0.6900\n"
     ]
    },
    {
     "name": "stderr",
     "output_type": "stream",
     "text": [
      " 55%|█████▌    | 553/1005 [1:12:55<51:45,  6.87s/it]"
     ]
    },
    {
     "name": "stdout",
     "output_type": "stream",
     "text": [
      "epoch: 180 loss:0.314722 auc:0.6831\n",
      "Fit finished.\n",
      "epoch:   0 loss:0.811297 auc:0.6832\n",
      "epoch:  20 loss:0.601489 auc:0.7650\n",
      "epoch:  40 loss:0.549865 auc:0.7604\n",
      "epoch:  60 loss:0.456552 auc:0.7419\n",
      "epoch:  80 loss:0.394274 auc:0.7765\n",
      "epoch: 100 loss:0.360094 auc:0.8007\n",
      "epoch: 120 loss:0.341489 auc:0.8111\n",
      "epoch: 140 loss:0.331095 auc:0.8065\n",
      "epoch: 160 loss:0.324759 auc:0.8076\n",
      "epoch: 180 loss:0.320531 auc:0.8065\n",
      "epoch: 200 loss:0.317526 auc:0.8030\n",
      "epoch: 220 loss:0.315306 auc:0.8041\n",
      "epoch: 240 loss:0.313639 auc:0.8065\n",
      "epoch: 260 loss:0.312373 auc:0.8076\n"
     ]
    },
    {
     "name": "stderr",
     "output_type": "stream",
     "text": [
      " 55%|█████▌    | 554/1005 [1:13:05<58:42,  7.81s/it]"
     ]
    },
    {
     "name": "stdout",
     "output_type": "stream",
     "text": [
      "epoch: 280 loss:0.311400 auc:0.8099\n",
      "Fit finished.\n",
      "epoch:   0 loss:0.793339 auc:0.5553\n",
      "epoch:  20 loss:0.570903 auc:0.7329\n",
      "epoch:  40 loss:0.465453 auc:0.5988\n",
      "epoch:  60 loss:0.389512 auc:0.6124\n",
      "epoch:  80 loss:0.354390 auc:0.6348\n",
      "epoch: 100 loss:0.337036 auc:0.6398\n",
      "epoch: 120 loss:0.327564 auc:0.6447\n",
      "epoch: 140 loss:0.321804 auc:0.6484\n",
      "epoch: 160 loss:0.318018 auc:0.6621\n"
     ]
    },
    {
     "name": "stderr",
     "output_type": "stream",
     "text": [
      " 55%|█████▌    | 555/1005 [1:13:12<56:50,  7.58s/it]"
     ]
    },
    {
     "name": "stdout",
     "output_type": "stream",
     "text": [
      "epoch: 180 loss:0.315417 auc:0.6646\n",
      "Fit finished.\n",
      "epoch:   0 loss:0.796539 auc:0.5000\n",
      "epoch:  20 loss:0.591196 auc:0.6095\n",
      "epoch:  40 loss:0.509884 auc:0.6033\n",
      "epoch:  60 loss:0.422038 auc:0.6116\n",
      "epoch:  80 loss:0.372943 auc:0.6198\n",
      "epoch: 100 loss:0.349121 auc:0.6074\n",
      "epoch: 120 loss:0.336185 auc:0.6095\n",
      "epoch: 140 loss:0.328248 auc:0.6033\n",
      "epoch: 160 loss:0.323016 auc:0.5971\n"
     ]
    },
    {
     "name": "stderr",
     "output_type": "stream",
     "text": [
      " 55%|█████▌    | 556/1005 [1:13:19<54:40,  7.31s/it]"
     ]
    },
    {
     "name": "stdout",
     "output_type": "stream",
     "text": [
      "epoch: 180 loss:0.319385 auc:0.5971\n",
      "Fit finished.\n",
      "epoch:   0 loss:0.791266 auc:0.4653\n",
      "epoch:  20 loss:0.596439 auc:0.6910\n",
      "epoch:  40 loss:0.519239 auc:0.7274\n",
      "epoch:  60 loss:0.425442 auc:0.7674\n",
      "epoch:  80 loss:0.371431 auc:0.7622\n",
      "epoch: 100 loss:0.345570 auc:0.7552\n",
      "epoch: 120 loss:0.332898 auc:0.7413\n",
      "epoch: 140 loss:0.325703 auc:0.7257\n",
      "epoch: 160 loss:0.321097 auc:0.7049\n",
      "epoch: 180 loss:0.317943 auc:0.7066\n"
     ]
    },
    {
     "name": "stderr",
     "output_type": "stream",
     "text": [
      " 55%|█████▌    | 557/1005 [1:13:26<54:59,  7.36s/it]"
     ]
    },
    {
     "name": "stdout",
     "output_type": "stream",
     "text": [
      "epoch: 200 loss:0.315674 auc:0.6979\n",
      "Fit finished.\n",
      "epoch:   0 loss:0.791716 auc:0.5741\n",
      "epoch:  20 loss:0.578246 auc:0.5123\n",
      "epoch:  40 loss:0.474376 auc:0.5185\n",
      "epoch:  60 loss:0.393212 auc:0.4660\n",
      "epoch:  80 loss:0.356034 auc:0.4568\n",
      "epoch: 100 loss:0.338262 auc:0.4660\n",
      "epoch: 120 loss:0.328716 auc:0.4722\n",
      "epoch: 140 loss:0.322881 auc:0.4815\n"
     ]
    },
    {
     "name": "stderr",
     "output_type": "stream",
     "text": [
      " 56%|█████▌    | 558/1005 [1:13:33<53:01,  7.12s/it]"
     ]
    },
    {
     "name": "stdout",
     "output_type": "stream",
     "text": [
      "epoch: 160 loss:0.319016 auc:0.4846\n",
      "Fit finished.\n",
      "epoch:   0 loss:0.885677 auc:0.4822\n",
      "epoch:  20 loss:0.599038 auc:0.5651\n",
      "epoch:  40 loss:0.562554 auc:0.5192\n",
      "epoch:  60 loss:0.470761 auc:0.4896\n",
      "epoch:  80 loss:0.399381 auc:0.5710\n",
      "epoch: 100 loss:0.362703 auc:0.5784\n",
      "epoch: 120 loss:0.343617 auc:0.5814\n",
      "epoch: 140 loss:0.332648 auc:0.5784\n",
      "epoch: 160 loss:0.325701 auc:0.5828\n",
      "epoch: 180 loss:0.321076 auc:0.5828\n",
      "epoch: 200 loss:0.317865 auc:0.5873\n",
      "epoch: 220 loss:0.315565 auc:0.5888\n",
      "epoch: 240 loss:0.313873 auc:0.5932\n",
      "epoch: 260 loss:0.312597 auc:0.5947\n",
      "epoch: 280 loss:0.311613 auc:0.5932\n",
      "epoch: 300 loss:0.310839 auc:0.5962\n",
      "epoch: 320 loss:0.310223 auc:0.5991\n",
      "epoch: 340 loss:0.309728 auc:0.5976\n",
      "epoch: 360 loss:0.309325 auc:0.6021\n",
      "epoch: 380 loss:0.308993 auc:0.6021\n",
      "epoch: 400 loss:0.308716 auc:0.6036\n",
      "epoch: 420 loss:0.308481 auc:0.6036\n",
      "epoch: 440 loss:0.308280 auc:0.6050\n",
      "epoch: 460 loss:0.308107 auc:0.6080\n",
      "epoch: 480 loss:0.307956 auc:0.6109\n",
      "epoch: 500 loss:0.307825 auc:0.6095\n",
      "epoch: 520 loss:0.307709 auc:0.6124\n",
      "epoch: 540 loss:0.307607 auc:0.6154\n",
      "epoch: 560 loss:0.307517 auc:0.6139\n",
      "epoch: 580 loss:0.307436 auc:0.6183\n",
      "epoch: 600 loss:0.307364 auc:0.6183\n",
      "epoch: 620 loss:0.307453 auc:0.6169\n",
      "epoch: 640 loss:0.307248 auc:0.6169\n",
      "epoch: 660 loss:0.307195 auc:0.6183\n",
      "epoch: 680 loss:0.307149 auc:0.6169\n",
      "epoch: 700 loss:0.307108 auc:0.6154\n",
      "epoch: 720 loss:0.307072 auc:0.6154\n"
     ]
    },
    {
     "name": "stderr",
     "output_type": "stream",
     "text": [
      " 56%|█████▌    | 559/1005 [1:13:56<1:29:06, 11.99s/it]"
     ]
    },
    {
     "name": "stdout",
     "output_type": "stream",
     "text": [
      "epoch: 740 loss:0.307041 auc:0.6154\n",
      "Fit finished.\n",
      "epoch:   0 loss:0.782793 auc:0.3947\n",
      "epoch:  20 loss:0.590353 auc:0.6435\n",
      "epoch:  40 loss:0.516798 auc:0.6157\n",
      "epoch:  60 loss:0.420131 auc:0.5324\n",
      "epoch:  80 loss:0.369802 auc:0.5243\n",
      "epoch: 100 loss:0.345464 auc:0.5220\n",
      "epoch: 120 loss:0.333156 auc:0.5243\n",
      "epoch: 140 loss:0.325963 auc:0.5312\n",
      "epoch: 160 loss:0.321257 auc:0.5405\n"
     ]
    },
    {
     "name": "stderr",
     "output_type": "stream",
     "text": [
      " 56%|█████▌    | 560/1005 [1:14:02<1:16:47, 10.35s/it]"
     ]
    },
    {
     "name": "stdout",
     "output_type": "stream",
     "text": [
      "epoch: 180 loss:0.317968 auc:0.5428\n",
      "Fit finished.\n",
      "epoch:   0 loss:0.811177 auc:0.3970\n",
      "epoch:  20 loss:0.588843 auc:0.5786\n",
      "epoch:  40 loss:0.503164 auc:0.5745\n",
      "epoch:  60 loss:0.417816 auc:0.5569\n",
      "epoch:  80 loss:0.372664 auc:0.5515\n",
      "epoch: 100 loss:0.348519 auc:0.5420\n",
      "epoch: 120 loss:0.334949 auc:0.5366\n",
      "epoch: 140 loss:0.326922 auc:0.5325\n",
      "epoch: 160 loss:0.321765 auc:0.5298\n"
     ]
    },
    {
     "name": "stderr",
     "output_type": "stream",
     "text": [
      " 56%|█████▌    | 561/1005 [1:14:09<1:09:13,  9.35s/it]"
     ]
    },
    {
     "name": "stdout",
     "output_type": "stream",
     "text": [
      "epoch: 180 loss:0.318251 auc:0.5271\n",
      "Fit finished.\n",
      "epoch:   0 loss:0.756352 auc:0.3200\n",
      "epoch:  20 loss:0.573576 auc:0.5360\n",
      "epoch:  40 loss:0.460307 auc:0.4528\n",
      "epoch:  60 loss:0.383253 auc:0.4608\n",
      "epoch:  80 loss:0.347245 auc:0.4848\n",
      "epoch: 100 loss:0.331452 auc:0.4800\n",
      "epoch: 120 loss:0.323327 auc:0.4800\n",
      "epoch: 140 loss:0.318561 auc:0.4864\n",
      "epoch: 160 loss:0.315520 auc:0.4864\n"
     ]
    },
    {
     "name": "stderr",
     "output_type": "stream",
     "text": [
      " 56%|█████▌    | 562/1005 [1:14:16<1:03:30,  8.60s/it]"
     ]
    },
    {
     "name": "stdout",
     "output_type": "stream",
     "text": [
      "epoch: 180 loss:0.313452 auc:0.4896\n",
      "Fit finished.\n",
      "epoch:   0 loss:0.800845 auc:0.3370\n",
      "epoch:  20 loss:0.594288 auc:0.6159\n",
      "epoch:  40 loss:0.507873 auc:0.5592\n",
      "epoch:  60 loss:0.416489 auc:0.4734\n",
      "epoch:  80 loss:0.368524 auc:0.4469\n",
      "epoch: 100 loss:0.344558 auc:0.4396\n",
      "epoch: 120 loss:0.332418 auc:0.4420\n",
      "epoch: 140 loss:0.325406 auc:0.4372\n",
      "epoch: 160 loss:0.320875 auc:0.4372\n"
     ]
    },
    {
     "name": "stderr",
     "output_type": "stream",
     "text": [
      " 56%|█████▌    | 563/1005 [1:14:23<58:47,  7.98s/it]  "
     ]
    },
    {
     "name": "stdout",
     "output_type": "stream",
     "text": [
      "epoch: 180 loss:0.317754 auc:0.4396\n",
      "Fit finished.\n",
      "epoch:   0 loss:0.804333 auc:0.5023\n",
      "epoch:  20 loss:0.597306 auc:0.4954\n",
      "epoch:  40 loss:0.540063 auc:0.5138\n",
      "epoch:  60 loss:0.447427 auc:0.5724\n",
      "epoch:  80 loss:0.390168 auc:0.5701\n",
      "epoch: 100 loss:0.360404 auc:0.5828\n",
      "epoch: 120 loss:0.343729 auc:0.5851\n",
      "epoch: 140 loss:0.333612 auc:0.5862\n",
      "epoch: 160 loss:0.327051 auc:0.5770\n",
      "epoch: 180 loss:0.322548 auc:0.5759\n",
      "epoch: 200 loss:0.319319 auc:0.5770\n",
      "epoch: 220 loss:0.316904 auc:0.5782\n",
      "epoch: 240 loss:0.315041 auc:0.5770\n"
     ]
    },
    {
     "name": "stderr",
     "output_type": "stream",
     "text": [
      " 56%|█████▌    | 564/1005 [1:14:32<1:02:08,  8.46s/it]"
     ]
    },
    {
     "name": "stdout",
     "output_type": "stream",
     "text": [
      "epoch: 260 loss:0.313587 auc:0.5782\n",
      "Fit finished.\n",
      "epoch:   0 loss:0.790181 auc:0.4381\n",
      "epoch:  20 loss:0.596446 auc:0.6226\n",
      "epoch:  40 loss:0.532947 auc:0.6167\n",
      "epoch:  60 loss:0.442872 auc:0.6345\n",
      "epoch:  80 loss:0.388234 auc:0.6310\n",
      "epoch: 100 loss:0.355962 auc:0.6274\n",
      "epoch: 120 loss:0.339188 auc:0.6310\n",
      "epoch: 140 loss:0.329845 auc:0.6286\n",
      "epoch: 160 loss:0.324121 auc:0.6274\n",
      "epoch: 180 loss:0.320351 auc:0.6226\n",
      "epoch: 200 loss:0.317710 auc:0.6262\n"
     ]
    },
    {
     "name": "stderr",
     "output_type": "stream",
     "text": [
      " 56%|█████▌    | 565/1005 [1:14:41<1:02:27,  8.52s/it]"
     ]
    },
    {
     "name": "stdout",
     "output_type": "stream",
     "text": [
      "epoch: 220 loss:0.315755 auc:0.6286\n",
      "Fit finished.\n",
      "epoch:   0 loss:0.795854 auc:0.4701\n",
      "epoch:  20 loss:0.575739 auc:0.5322\n",
      "epoch:  40 loss:0.459392 auc:0.5322\n",
      "epoch:  60 loss:0.384255 auc:0.5448\n",
      "epoch:  80 loss:0.348968 auc:0.5448\n",
      "epoch: 100 loss:0.332843 auc:0.5425\n",
      "epoch: 120 loss:0.324595 auc:0.5345\n",
      "epoch: 140 loss:0.319706 auc:0.5345\n",
      "epoch: 160 loss:0.316527 auc:0.5241\n"
     ]
    },
    {
     "name": "stderr",
     "output_type": "stream",
     "text": [
      " 56%|█████▋    | 566/1005 [1:14:48<58:58,  8.06s/it]  "
     ]
    },
    {
     "name": "stdout",
     "output_type": "stream",
     "text": [
      "epoch: 180 loss:0.314338 auc:0.5195\n",
      "Fit finished.\n",
      "epoch:   0 loss:0.824502 auc:0.4702\n",
      "epoch:  20 loss:0.587645 auc:0.6738\n",
      "epoch:  40 loss:0.500690 auc:0.6357\n",
      "epoch:  60 loss:0.408400 auc:0.6429\n",
      "epoch:  80 loss:0.364451 auc:0.6500\n",
      "epoch: 100 loss:0.342715 auc:0.6536\n",
      "epoch: 120 loss:0.331324 auc:0.6548\n",
      "epoch: 140 loss:0.324697 auc:0.6595\n",
      "epoch: 160 loss:0.320431 auc:0.6571\n"
     ]
    },
    {
     "name": "stderr",
     "output_type": "stream",
     "text": [
      " 56%|█████▋    | 567/1005 [1:14:54<55:00,  7.53s/it]"
     ]
    },
    {
     "name": "stdout",
     "output_type": "stream",
     "text": [
      "epoch: 180 loss:0.317499 auc:0.6524\n",
      "Fit finished.\n",
      "epoch:   0 loss:0.834127 auc:0.6333\n",
      "epoch:  20 loss:0.596976 auc:0.5539\n",
      "epoch:  40 loss:0.528998 auc:0.5690\n",
      "epoch:  60 loss:0.432474 auc:0.5784\n",
      "epoch:  80 loss:0.379790 auc:0.5614\n",
      "epoch: 100 loss:0.352154 auc:0.5501\n",
      "epoch: 120 loss:0.337521 auc:0.5520\n",
      "epoch: 140 loss:0.329026 auc:0.5520\n"
     ]
    },
    {
     "name": "stderr",
     "output_type": "stream",
     "text": [
      " 57%|█████▋    | 568/1005 [1:15:01<52:22,  7.19s/it]"
     ]
    },
    {
     "name": "stdout",
     "output_type": "stream",
     "text": [
      "epoch: 160 loss:0.323635 auc:0.5482\n",
      "Fit finished.\n",
      "epoch:   0 loss:0.782805 auc:0.5423\n",
      "epoch:  20 loss:0.570807 auc:0.7005\n",
      "epoch:  40 loss:0.464490 auc:0.6522\n",
      "epoch:  60 loss:0.390090 auc:0.6377\n",
      "epoch:  80 loss:0.353446 auc:0.6292\n",
      "epoch: 100 loss:0.335887 auc:0.6280\n",
      "epoch: 120 loss:0.326477 auc:0.6341\n",
      "epoch: 140 loss:0.320846 auc:0.6401\n",
      "epoch: 160 loss:0.317266 auc:0.6341\n"
     ]
    },
    {
     "name": "stderr",
     "output_type": "stream",
     "text": [
      " 57%|█████▋    | 569/1005 [1:15:08<53:11,  7.32s/it]"
     ]
    },
    {
     "name": "stdout",
     "output_type": "stream",
     "text": [
      "epoch: 180 loss:0.314855 auc:0.6365\n",
      "Fit finished.\n",
      "epoch:   0 loss:0.802445 auc:0.4656\n",
      "epoch:  20 loss:0.583699 auc:0.7526\n",
      "epoch:  40 loss:0.491895 auc:0.7066\n",
      "epoch:  60 loss:0.409482 auc:0.6926\n",
      "epoch:  80 loss:0.364833 auc:0.7028\n",
      "epoch: 100 loss:0.342912 auc:0.7015\n",
      "epoch: 120 loss:0.331424 auc:0.7041\n",
      "epoch: 140 loss:0.324723 auc:0.7079\n",
      "epoch: 160 loss:0.320395 auc:0.7079\n"
     ]
    },
    {
     "name": "stderr",
     "output_type": "stream",
     "text": [
      " 57%|█████▋    | 570/1005 [1:15:15<52:03,  7.18s/it]"
     ]
    },
    {
     "name": "stdout",
     "output_type": "stream",
     "text": [
      "epoch: 180 loss:0.317387 auc:0.7092\n",
      "Fit finished.\n",
      "epoch:   0 loss:0.804883 auc:0.4197\n",
      "epoch:  20 loss:0.582586 auc:0.6801\n",
      "epoch:  40 loss:0.492464 auc:0.4126\n",
      "epoch:  60 loss:0.395801 auc:0.3876\n",
      "epoch:  80 loss:0.357533 auc:0.4055\n",
      "epoch: 100 loss:0.339159 auc:0.3912\n",
      "epoch: 120 loss:0.329063 auc:0.3805\n",
      "epoch: 140 loss:0.322947 auc:0.3805\n"
     ]
    },
    {
     "name": "stderr",
     "output_type": "stream",
     "text": [
      " 57%|█████▋    | 571/1005 [1:15:21<49:03,  6.78s/it]"
     ]
    },
    {
     "name": "stdout",
     "output_type": "stream",
     "text": [
      "epoch: 160 loss:0.318953 auc:0.3769\n",
      "Fit finished.\n",
      "epoch:   0 loss:0.792516 auc:0.3742\n",
      "epoch:  20 loss:0.596723 auc:0.6855\n",
      "epoch:  40 loss:0.523763 auc:0.6597\n",
      "epoch:  60 loss:0.433173 auc:0.5484\n",
      "epoch:  80 loss:0.379433 auc:0.4694\n",
      "epoch: 100 loss:0.352062 auc:0.4742\n",
      "epoch: 120 loss:0.337485 auc:0.4710\n",
      "epoch: 140 loss:0.328829 auc:0.4726\n",
      "epoch: 160 loss:0.323264 auc:0.4742\n"
     ]
    },
    {
     "name": "stderr",
     "output_type": "stream",
     "text": [
      " 57%|█████▋    | 572/1005 [1:15:28<48:42,  6.75s/it]"
     ]
    },
    {
     "name": "stdout",
     "output_type": "stream",
     "text": [
      "epoch: 180 loss:0.319464 auc:0.4677\n",
      "Fit finished.\n",
      "epoch:   0 loss:0.799267 auc:0.6326\n",
      "epoch:  20 loss:0.597338 auc:0.5854\n",
      "epoch:  40 loss:0.536577 auc:0.5899\n",
      "epoch:  60 loss:0.426926 auc:0.6037\n",
      "epoch:  80 loss:0.372231 auc:0.5976\n",
      "epoch: 100 loss:0.347211 auc:0.5976\n",
      "epoch: 120 loss:0.334135 auc:0.6021\n",
      "epoch: 140 loss:0.326439 auc:0.6067\n"
     ]
    },
    {
     "name": "stderr",
     "output_type": "stream",
     "text": [
      " 57%|█████▋    | 574/1005 [1:15:34<36:28,  5.08s/it]"
     ]
    },
    {
     "name": "stdout",
     "output_type": "stream",
     "text": [
      "epoch: 160 loss:0.321530 auc:0.6006\n",
      "Fit finished.\n",
      "epoch:   0 loss:0.801387 auc:0.4214\n",
      "epoch:  20 loss:0.596033 auc:0.5595\n",
      "epoch:  40 loss:0.522086 auc:0.5357\n",
      "epoch:  60 loss:0.428578 auc:0.5190\n",
      "epoch:  80 loss:0.379188 auc:0.5107\n",
      "epoch: 100 loss:0.353400 auc:0.5048\n",
      "epoch: 120 loss:0.338640 auc:0.5000\n",
      "epoch: 140 loss:0.329630 auc:0.4929\n",
      "epoch: 160 loss:0.323861 auc:0.4976\n"
     ]
    },
    {
     "name": "stderr",
     "output_type": "stream",
     "text": [
      " 57%|█████▋    | 575/1005 [1:15:41<38:57,  5.44s/it]"
     ]
    },
    {
     "name": "stdout",
     "output_type": "stream",
     "text": [
      "epoch: 180 loss:0.319931 auc:0.5024\n",
      "Fit finished.\n",
      "epoch:   0 loss:0.792315 auc:0.3993\n",
      "epoch:  20 loss:0.590510 auc:0.6528\n",
      "epoch:  40 loss:0.502227 auc:0.6215\n",
      "epoch:  60 loss:0.406861 auc:0.6215\n",
      "epoch:  80 loss:0.362685 auc:0.6372\n",
      "epoch: 100 loss:0.341918 auc:0.6319\n",
      "epoch: 120 loss:0.330907 auc:0.6233\n",
      "epoch: 140 loss:0.324319 auc:0.6128\n",
      "epoch: 160 loss:0.320023 auc:0.6163\n"
     ]
    },
    {
     "name": "stderr",
     "output_type": "stream",
     "text": [
      " 57%|█████▋    | 576/1005 [1:15:48<42:28,  5.94s/it]"
     ]
    },
    {
     "name": "stdout",
     "output_type": "stream",
     "text": [
      "epoch: 180 loss:0.317047 auc:0.6181\n",
      "Fit finished.\n",
      "epoch:   0 loss:0.784711 auc:0.4350\n",
      "epoch:  20 loss:0.578203 auc:0.5350\n",
      "epoch:  40 loss:0.468605 auc:0.5175\n",
      "epoch:  60 loss:0.387149 auc:0.5400\n",
      "epoch:  80 loss:0.351115 auc:0.5575\n",
      "epoch: 100 loss:0.334866 auc:0.5675\n",
      "epoch: 120 loss:0.326005 auc:0.5675\n",
      "epoch: 140 loss:0.320509 auc:0.5625\n",
      "epoch: 160 loss:0.316898 auc:0.5650\n",
      "epoch: 180 loss:0.314452 auc:0.5650\n",
      "epoch: 200 loss:0.312741 auc:0.5650\n",
      "epoch: 220 loss:0.311511 auc:0.5650\n",
      "epoch: 240 loss:0.310604 auc:0.5700\n"
     ]
    },
    {
     "name": "stderr",
     "output_type": "stream",
     "text": [
      " 57%|█████▋    | 577/1005 [1:15:57<49:08,  6.89s/it]"
     ]
    },
    {
     "name": "stdout",
     "output_type": "stream",
     "text": [
      "epoch: 260 loss:0.309923 auc:0.5625\n",
      "Fit finished.\n",
      "epoch:   0 loss:0.796370 auc:0.5122\n",
      "epoch:  20 loss:0.586552 auc:0.7066\n",
      "epoch:  40 loss:0.495403 auc:0.7170\n",
      "epoch:  60 loss:0.403194 auc:0.7517\n",
      "epoch:  80 loss:0.358825 auc:0.7743\n",
      "epoch: 100 loss:0.338337 auc:0.7691\n",
      "epoch: 120 loss:0.327818 auc:0.7743\n",
      "epoch: 140 loss:0.321835 auc:0.7795\n",
      "epoch: 160 loss:0.318153 auc:0.7795\n",
      "epoch: 180 loss:0.315700 auc:0.7812\n",
      "epoch: 200 loss:0.313957 auc:0.7812\n",
      "epoch: 220 loss:0.312653 auc:0.7778\n",
      "epoch: 240 loss:0.311646 auc:0.7795\n",
      "epoch: 260 loss:0.310843 auc:0.7778\n",
      "epoch: 280 loss:0.310188 auc:0.7760\n"
     ]
    },
    {
     "name": "stderr",
     "output_type": "stream",
     "text": [
      " 58%|█████▊    | 578/1005 [1:16:08<56:56,  8.00s/it]"
     ]
    },
    {
     "name": "stdout",
     "output_type": "stream",
     "text": [
      "epoch: 300 loss:0.309651 auc:0.7778\n",
      "Fit finished.\n",
      "epoch:   0 loss:0.788511 auc:0.3904\n",
      "epoch:  20 loss:0.595422 auc:0.3904\n",
      "epoch:  40 loss:0.533089 auc:0.3952\n",
      "epoch:  60 loss:0.435387 auc:0.3600\n",
      "epoch:  80 loss:0.380427 auc:0.3264\n",
      "epoch: 100 loss:0.352173 auc:0.3440\n",
      "epoch: 120 loss:0.337889 auc:0.3488\n",
      "epoch: 140 loss:0.329603 auc:0.3504\n"
     ]
    },
    {
     "name": "stderr",
     "output_type": "stream",
     "text": [
      " 58%|█████▊    | 579/1005 [1:16:14<53:16,  7.50s/it]"
     ]
    },
    {
     "name": "stdout",
     "output_type": "stream",
     "text": [
      "epoch: 160 loss:0.324310 auc:0.3472\n",
      "Fit finished.\n",
      "epoch:   0 loss:0.819427 auc:0.4685\n",
      "epoch:  20 loss:0.594762 auc:0.6801\n",
      "epoch:  40 loss:0.530227 auc:0.6992\n",
      "epoch:  60 loss:0.440940 auc:0.7099\n",
      "epoch:  80 loss:0.384812 auc:0.7182\n",
      "epoch: 100 loss:0.355015 auc:0.7051\n",
      "epoch: 120 loss:0.339494 auc:0.7099\n",
      "epoch: 140 loss:0.330286 auc:0.7004\n",
      "epoch: 160 loss:0.324339 auc:0.6932\n",
      "epoch: 180 loss:0.320286 auc:0.6873\n"
     ]
    },
    {
     "name": "stderr",
     "output_type": "stream",
     "text": [
      " 58%|█████▊    | 580/1005 [1:16:22<53:04,  7.49s/it]"
     ]
    },
    {
     "name": "stdout",
     "output_type": "stream",
     "text": [
      "epoch: 200 loss:0.317438 auc:0.6801\n",
      "Fit finished.\n",
      "epoch:   0 loss:0.826617 auc:0.5242\n",
      "epoch:  20 loss:0.600439 auc:0.8023\n",
      "epoch:  40 loss:0.534259 auc:0.8240\n",
      "epoch:  60 loss:0.429310 auc:0.8559\n",
      "epoch:  80 loss:0.376647 auc:0.8648\n",
      "epoch: 100 loss:0.350311 auc:0.8533\n",
      "epoch: 120 loss:0.336292 auc:0.8571\n",
      "epoch: 140 loss:0.328127 auc:0.8571\n",
      "epoch: 160 loss:0.322893 auc:0.8520\n",
      "epoch: 180 loss:0.319265 auc:0.8546\n",
      "epoch: 200 loss:0.316623 auc:0.8520\n"
     ]
    },
    {
     "name": "stderr",
     "output_type": "stream",
     "text": [
      " 58%|█████▊    | 581/1005 [1:16:31<55:50,  7.90s/it]"
     ]
    },
    {
     "name": "stdout",
     "output_type": "stream",
     "text": [
      "epoch: 220 loss:0.314661 auc:0.8495\n",
      "Fit finished.\n",
      "epoch:   0 loss:0.805459 auc:0.6295\n",
      "epoch:  20 loss:0.592659 auc:0.5104\n",
      "epoch:  40 loss:0.505819 auc:0.4877\n",
      "epoch:  60 loss:0.418750 auc:0.5369\n",
      "epoch:  80 loss:0.370434 auc:0.5520\n",
      "epoch: 100 loss:0.347302 auc:0.5558\n",
      "epoch: 120 loss:0.335472 auc:0.5482\n",
      "epoch: 140 loss:0.328355 auc:0.5463\n"
     ]
    },
    {
     "name": "stderr",
     "output_type": "stream",
     "text": [
      " 58%|█████▊    | 582/1005 [1:16:36<50:55,  7.22s/it]"
     ]
    },
    {
     "name": "stdout",
     "output_type": "stream",
     "text": [
      "epoch: 160 loss:0.323501 auc:0.5463\n",
      "Fit finished.\n",
      "epoch:   0 loss:0.783546 auc:0.4959\n",
      "epoch:  20 loss:0.580816 auc:0.5542\n",
      "epoch:  40 loss:0.469755 auc:0.4431\n",
      "epoch:  60 loss:0.385636 auc:0.4539\n",
      "epoch:  80 loss:0.350740 auc:0.4593\n",
      "epoch: 100 loss:0.334161 auc:0.4458\n",
      "epoch: 120 loss:0.325035 auc:0.4431\n",
      "epoch: 140 loss:0.319694 auc:0.4363\n"
     ]
    },
    {
     "name": "stderr",
     "output_type": "stream",
     "text": [
      " 58%|█████▊    | 583/1005 [1:16:43<49:51,  7.09s/it]"
     ]
    },
    {
     "name": "stdout",
     "output_type": "stream",
     "text": [
      "epoch: 160 loss:0.316351 auc:0.4322\n",
      "Fit finished.\n",
      "epoch:   0 loss:0.771019 auc:0.4083\n",
      "epoch:  20 loss:0.596558 auc:0.6568\n",
      "epoch:  40 loss:0.520847 auc:0.6331\n",
      "epoch:  60 loss:0.424888 auc:0.6746\n",
      "epoch:  80 loss:0.374150 auc:0.6923\n",
      "epoch: 100 loss:0.348936 auc:0.7515\n",
      "epoch: 120 loss:0.335522 auc:0.7751\n",
      "epoch: 140 loss:0.327596 auc:0.7633\n",
      "epoch: 160 loss:0.322468 auc:0.7633\n",
      "epoch: 180 loss:0.318953 auc:0.7633\n",
      "epoch: 200 loss:0.316456 auc:0.7574\n",
      "epoch: 220 loss:0.314612 auc:0.7396\n",
      "epoch: 240 loss:0.313203 auc:0.7396\n"
     ]
    },
    {
     "name": "stderr",
     "output_type": "stream",
     "text": [
      " 58%|█████▊    | 584/1005 [1:16:52<54:05,  7.71s/it]"
     ]
    },
    {
     "name": "stdout",
     "output_type": "stream",
     "text": [
      "epoch: 260 loss:0.312101 auc:0.7337\n",
      "Fit finished.\n",
      "epoch:   0 loss:0.801657 auc:0.6300\n",
      "epoch:  20 loss:0.575390 auc:0.4625\n",
      "epoch:  40 loss:0.464649 auc:0.5250\n",
      "epoch:  60 loss:0.388800 auc:0.5500\n",
      "epoch:  80 loss:0.352831 auc:0.5675\n",
      "epoch: 100 loss:0.334999 auc:0.5875\n",
      "epoch: 120 loss:0.325969 auc:0.5825\n",
      "epoch: 140 loss:0.320762 auc:0.5850\n"
     ]
    },
    {
     "name": "stderr",
     "output_type": "stream",
     "text": [
      " 58%|█████▊    | 585/1005 [1:16:59<50:42,  7.24s/it]"
     ]
    },
    {
     "name": "stdout",
     "output_type": "stream",
     "text": [
      "epoch: 160 loss:0.317407 auc:0.5875\n",
      "Fit finished.\n",
      "epoch:   0 loss:0.807334 auc:0.4952\n",
      "epoch:  20 loss:0.574380 auc:0.6516\n",
      "epoch:  40 loss:0.451855 auc:0.6420\n",
      "epoch:  60 loss:0.376732 auc:0.6022\n",
      "epoch:  80 loss:0.344176 auc:0.5830\n",
      "epoch: 100 loss:0.329917 auc:0.5830\n",
      "epoch: 120 loss:0.322523 auc:0.5734\n",
      "epoch: 140 loss:0.318084 auc:0.5748\n",
      "epoch: 160 loss:0.315192 auc:0.5748\n"
     ]
    },
    {
     "name": "stderr",
     "output_type": "stream",
     "text": [
      " 58%|█████▊    | 586/1005 [1:17:06<51:10,  7.33s/it]"
     ]
    },
    {
     "name": "stdout",
     "output_type": "stream",
     "text": [
      "epoch: 180 loss:0.313220 auc:0.5775\n",
      "Fit finished.\n",
      "epoch:   0 loss:0.802548 auc:0.4074\n",
      "epoch:  20 loss:0.594868 auc:0.7222\n",
      "epoch:  40 loss:0.523659 auc:0.6111\n",
      "epoch:  60 loss:0.433672 auc:0.6173\n",
      "epoch:  80 loss:0.378762 auc:0.6451\n",
      "epoch: 100 loss:0.351505 auc:0.6451\n",
      "epoch: 120 loss:0.337405 auc:0.6451\n",
      "epoch: 140 loss:0.329049 auc:0.6451\n",
      "epoch: 160 loss:0.323619 auc:0.6451\n"
     ]
    },
    {
     "name": "stderr",
     "output_type": "stream",
     "text": [
      " 58%|█████▊    | 587/1005 [1:17:13<51:08,  7.34s/it]"
     ]
    },
    {
     "name": "stdout",
     "output_type": "stream",
     "text": [
      "epoch: 180 loss:0.319921 auc:0.6512\n",
      "Fit finished.\n",
      "epoch:   0 loss:0.791372 auc:0.4239\n",
      "epoch:  20 loss:0.553876 auc:0.6392\n",
      "epoch:  40 loss:0.417805 auc:0.5624\n",
      "epoch:  60 loss:0.358523 auc:0.5377\n",
      "epoch:  80 loss:0.334866 auc:0.5350\n",
      "epoch: 100 loss:0.324490 auc:0.5213\n",
      "epoch: 120 loss:0.318965 auc:0.5185\n",
      "epoch: 140 loss:0.315596 auc:0.5158\n",
      "epoch: 160 loss:0.313367 auc:0.5185\n"
     ]
    },
    {
     "name": "stderr",
     "output_type": "stream",
     "text": [
      " 59%|█████▊    | 588/1005 [1:17:21<50:30,  7.27s/it]"
     ]
    },
    {
     "name": "stdout",
     "output_type": "stream",
     "text": [
      "epoch: 180 loss:0.311827 auc:0.5117\n",
      "Fit finished.\n",
      "epoch:   0 loss:0.767883 auc:0.4399\n",
      "epoch:  20 loss:0.573286 auc:0.5668\n",
      "epoch:  40 loss:0.462976 auc:0.5466\n",
      "epoch:  60 loss:0.383215 auc:0.5479\n",
      "epoch:  80 loss:0.351450 auc:0.5506\n",
      "epoch: 100 loss:0.336378 auc:0.5614\n",
      "epoch: 120 loss:0.327481 auc:0.5641\n",
      "epoch: 140 loss:0.321772 auc:0.5560\n",
      "epoch: 160 loss:0.317968 auc:0.5547\n"
     ]
    },
    {
     "name": "stderr",
     "output_type": "stream",
     "text": [
      " 59%|█████▊    | 589/1005 [1:17:27<49:19,  7.11s/it]"
     ]
    },
    {
     "name": "stdout",
     "output_type": "stream",
     "text": [
      "epoch: 180 loss:0.315324 auc:0.5533\n",
      "Fit finished.\n",
      "epoch:   0 loss:0.807674 auc:0.6157\n",
      "epoch:  20 loss:0.582782 auc:0.8285\n",
      "epoch:  40 loss:0.491610 auc:0.7128\n",
      "epoch:  60 loss:0.404613 auc:0.7107\n",
      "epoch:  80 loss:0.363097 auc:0.6942\n",
      "epoch: 100 loss:0.342775 auc:0.6777\n",
      "epoch: 120 loss:0.331739 auc:0.6632\n",
      "epoch: 140 loss:0.324990 auc:0.6591\n",
      "epoch: 160 loss:0.320540 auc:0.6488\n"
     ]
    },
    {
     "name": "stderr",
     "output_type": "stream",
     "text": [
      " 59%|█████▊    | 590/1005 [1:17:33<47:21,  6.85s/it]"
     ]
    },
    {
     "name": "stdout",
     "output_type": "stream",
     "text": [
      "epoch: 180 loss:0.317460 auc:0.6467\n",
      "Fit finished.\n",
      "epoch:   0 loss:0.847511 auc:0.5217\n",
      "epoch:  20 loss:0.598126 auc:0.6594\n",
      "epoch:  40 loss:0.531952 auc:0.6378\n",
      "epoch:  60 loss:0.436551 auc:0.5855\n",
      "epoch:  80 loss:0.380812 auc:0.5982\n",
      "epoch: 100 loss:0.353369 auc:0.6084\n",
      "epoch: 120 loss:0.338632 auc:0.6071\n",
      "epoch: 140 loss:0.329791 auc:0.6046\n",
      "epoch: 160 loss:0.324130 auc:0.5931\n"
     ]
    },
    {
     "name": "stderr",
     "output_type": "stream",
     "text": [
      " 59%|█████▉    | 591/1005 [1:17:40<47:30,  6.88s/it]"
     ]
    },
    {
     "name": "stdout",
     "output_type": "stream",
     "text": [
      "epoch: 180 loss:0.320265 auc:0.5880\n",
      "Fit finished.\n",
      "epoch:   0 loss:0.766859 auc:0.4171\n",
      "epoch:  20 loss:0.585483 auc:0.4796\n",
      "epoch:  40 loss:0.491620 auc:0.3699\n",
      "epoch:  60 loss:0.398336 auc:0.3176\n",
      "epoch:  80 loss:0.358755 auc:0.3214\n",
      "epoch: 100 loss:0.339365 auc:0.3291\n",
      "epoch: 120 loss:0.328794 auc:0.3304\n",
      "epoch: 140 loss:0.322457 auc:0.3278\n"
     ]
    },
    {
     "name": "stderr",
     "output_type": "stream",
     "text": [
      " 59%|█████▉    | 592/1005 [1:17:48<48:01,  6.98s/it]"
     ]
    },
    {
     "name": "stdout",
     "output_type": "stream",
     "text": [
      "epoch: 160 loss:0.318443 auc:0.3278\n",
      "Fit finished.\n",
      "epoch:   0 loss:0.830976 auc:0.4745\n",
      "epoch:  20 loss:0.598013 auc:0.5255\n",
      "epoch:  40 loss:0.535907 auc:0.5312\n",
      "epoch:  60 loss:0.448759 auc:0.5822\n",
      "epoch:  80 loss:0.390886 auc:0.5747\n",
      "epoch: 100 loss:0.359966 auc:0.6011\n",
      "epoch: 120 loss:0.342224 auc:0.6276\n",
      "epoch: 140 loss:0.331558 auc:0.6163\n",
      "epoch: 160 loss:0.324983 auc:0.6181\n",
      "epoch: 180 loss:0.320693 auc:0.6295\n",
      "epoch: 200 loss:0.317715 auc:0.6238\n",
      "epoch: 220 loss:0.315553 auc:0.6257\n",
      "epoch: 240 loss:0.313926 auc:0.6257\n",
      "epoch: 260 loss:0.312667 auc:0.6295\n",
      "epoch: 280 loss:0.311673 auc:0.6371\n",
      "epoch: 300 loss:0.310879 auc:0.6371\n",
      "epoch: 320 loss:0.310237 auc:0.6352\n",
      "epoch: 340 loss:0.309713 auc:0.6371\n",
      "epoch: 360 loss:0.309283 auc:0.6408\n",
      "epoch: 380 loss:0.308928 auc:0.6465\n",
      "epoch: 400 loss:0.308632 auc:0.6427\n",
      "epoch: 420 loss:0.308385 auc:0.6446\n",
      "epoch: 440 loss:0.308177 auc:0.6465\n",
      "epoch: 460 loss:0.308003 auc:0.6465\n",
      "epoch: 480 loss:0.307855 auc:0.6446\n",
      "epoch: 500 loss:0.307730 auc:0.6446\n",
      "epoch: 520 loss:0.307624 auc:0.6446\n",
      "epoch: 540 loss:0.307534 auc:0.6465\n",
      "epoch: 560 loss:0.307456 auc:0.6484\n",
      "epoch: 580 loss:0.307389 auc:0.6503\n",
      "epoch: 600 loss:0.307330 auc:0.6541\n",
      "epoch: 620 loss:0.307280 auc:0.6541\n",
      "epoch: 640 loss:0.307236 auc:0.6578\n",
      "epoch: 660 loss:0.307200 auc:0.6578\n",
      "epoch: 680 loss:0.307175 auc:0.6597\n",
      "epoch: 700 loss:0.307137 auc:0.6616\n",
      "epoch: 720 loss:0.307106 auc:0.6635\n",
      "epoch: 740 loss:0.307082 auc:0.6616\n",
      "epoch: 760 loss:0.307060 auc:0.6616\n",
      "epoch: 780 loss:0.307040 auc:0.6635\n",
      "epoch: 800 loss:0.307100 auc:0.6616\n",
      "epoch: 820 loss:0.307031 auc:0.6616\n",
      "epoch: 840 loss:0.306994 auc:0.6616\n",
      "epoch: 860 loss:0.306976 auc:0.6616\n"
     ]
    },
    {
     "name": "stderr",
     "output_type": "stream",
     "text": [
      " 59%|█████▉    | 593/1005 [1:18:11<1:21:03, 11.80s/it]"
     ]
    },
    {
     "name": "stdout",
     "output_type": "stream",
     "text": [
      "epoch: 880 loss:0.306963 auc:0.6616\n",
      "Fit finished.\n",
      "epoch:   0 loss:0.781313 auc:0.5078\n",
      "epoch:  20 loss:0.597252 auc:0.6558\n",
      "epoch:  40 loss:0.525969 auc:0.7013\n",
      "epoch:  60 loss:0.434857 auc:0.6558\n",
      "epoch:  80 loss:0.380602 auc:0.6844\n",
      "epoch: 100 loss:0.352830 auc:0.7299\n",
      "epoch: 120 loss:0.338228 auc:0.7545\n",
      "epoch: 140 loss:0.329695 auc:0.7610\n",
      "epoch: 160 loss:0.324121 auc:0.7597\n",
      "epoch: 180 loss:0.320185 auc:0.7558\n",
      "epoch: 200 loss:0.317281 auc:0.7481\n",
      "epoch: 220 loss:0.315100 auc:0.7455\n",
      "epoch: 240 loss:0.313449 auc:0.7455\n",
      "epoch: 260 loss:0.312193 auc:0.7442\n"
     ]
    },
    {
     "name": "stderr",
     "output_type": "stream",
     "text": [
      " 59%|█████▉    | 594/1005 [1:18:19<1:12:34, 10.60s/it]"
     ]
    },
    {
     "name": "stdout",
     "output_type": "stream",
     "text": [
      "epoch: 280 loss:0.311232 auc:0.7468\n",
      "Fit finished.\n",
      "epoch:   0 loss:0.838985 auc:0.6233\n",
      "epoch:  20 loss:0.600563 auc:0.7247\n",
      "epoch:  40 loss:0.542556 auc:0.7396\n",
      "epoch:  60 loss:0.441863 auc:0.7477\n",
      "epoch:  80 loss:0.384903 auc:0.7604\n",
      "epoch: 100 loss:0.356423 auc:0.7707\n",
      "epoch: 120 loss:0.341083 auc:0.7765\n",
      "epoch: 140 loss:0.331875 auc:0.7753\n",
      "epoch: 160 loss:0.325854 auc:0.7742\n",
      "epoch: 180 loss:0.321702 auc:0.7753\n",
      "epoch: 200 loss:0.318701 auc:0.7788\n",
      "epoch: 220 loss:0.316443 auc:0.7765\n",
      "epoch: 240 loss:0.314695 auc:0.7776\n",
      "epoch: 260 loss:0.313321 auc:0.7788\n",
      "epoch: 280 loss:0.312225 auc:0.7765\n",
      "epoch: 300 loss:0.311343 auc:0.7753\n",
      "epoch: 320 loss:0.310629 auc:0.7742\n"
     ]
    },
    {
     "name": "stderr",
     "output_type": "stream",
     "text": [
      " 59%|█████▉    | 595/1005 [1:18:28<1:10:04, 10.25s/it]"
     ]
    },
    {
     "name": "stdout",
     "output_type": "stream",
     "text": [
      "epoch: 340 loss:0.310047 auc:0.7730\n",
      "Fit finished.\n",
      "epoch:   0 loss:0.774030 auc:0.4933\n",
      "epoch:  20 loss:0.570050 auc:0.5333\n",
      "epoch:  40 loss:0.443709 auc:0.5067\n",
      "epoch:  60 loss:0.372173 auc:0.5556\n",
      "epoch:  80 loss:0.343101 auc:0.5422\n",
      "epoch: 100 loss:0.330072 auc:0.5289\n",
      "epoch: 120 loss:0.322996 auc:0.5022\n",
      "epoch: 140 loss:0.318632 auc:0.5067\n",
      "epoch: 160 loss:0.315695 auc:0.5067\n"
     ]
    },
    {
     "name": "stderr",
     "output_type": "stream",
     "text": [
      " 59%|█████▉    | 596/1005 [1:18:33<1:00:12,  8.83s/it]"
     ]
    },
    {
     "name": "stdout",
     "output_type": "stream",
     "text": [
      "epoch: 180 loss:0.313627 auc:0.5022\n",
      "Fit finished.\n",
      "epoch:   0 loss:0.797680 auc:0.4575\n",
      "epoch:  20 loss:0.592941 auc:0.5500\n",
      "epoch:  40 loss:0.526730 auc:0.5500\n",
      "epoch:  60 loss:0.424862 auc:0.5613\n",
      "epoch:  80 loss:0.372969 auc:0.5375\n",
      "epoch: 100 loss:0.347454 auc:0.5550\n",
      "epoch: 120 loss:0.334131 auc:0.5625\n",
      "epoch: 140 loss:0.326398 auc:0.5563\n",
      "epoch: 160 loss:0.321438 auc:0.5438\n"
     ]
    },
    {
     "name": "stderr",
     "output_type": "stream",
     "text": [
      " 59%|█████▉    | 597/1005 [1:18:39<52:29,  7.72s/it]  "
     ]
    },
    {
     "name": "stdout",
     "output_type": "stream",
     "text": [
      "epoch: 180 loss:0.318017 auc:0.5363\n",
      "Fit finished.\n",
      "epoch:   0 loss:0.769433 auc:0.4461\n",
      "epoch:  20 loss:0.599375 auc:0.7410\n",
      "epoch:  40 loss:0.537385 auc:0.7221\n",
      "epoch:  60 loss:0.439511 auc:0.7240\n",
      "epoch:  80 loss:0.381405 auc:0.7070\n",
      "epoch: 100 loss:0.352764 auc:0.6767\n",
      "epoch: 120 loss:0.337242 auc:0.6843\n",
      "epoch: 140 loss:0.328217 auc:0.6919\n",
      "epoch: 160 loss:0.322576 auc:0.6994\n"
     ]
    },
    {
     "name": "stderr",
     "output_type": "stream",
     "text": [
      " 60%|█████▉    | 598/1005 [1:18:44<47:26,  6.99s/it]"
     ]
    },
    {
     "name": "stdout",
     "output_type": "stream",
     "text": [
      "epoch: 180 loss:0.318850 auc:0.7032\n",
      "Fit finished.\n",
      "epoch:   0 loss:0.808724 auc:0.5102\n",
      "epoch:  20 loss:0.590693 auc:0.6020\n",
      "epoch:  40 loss:0.498790 auc:0.6276\n",
      "epoch:  60 loss:0.417845 auc:0.6378\n",
      "epoch:  80 loss:0.370803 auc:0.6276\n",
      "epoch: 100 loss:0.346792 auc:0.6327\n",
      "epoch: 120 loss:0.333970 auc:0.6224\n",
      "epoch: 140 loss:0.326422 auc:0.6122\n",
      "epoch: 160 loss:0.321613 auc:0.6020\n",
      "epoch: 180 loss:0.318335 auc:0.6071\n"
     ]
    },
    {
     "name": "stderr",
     "output_type": "stream",
     "text": [
      " 60%|█████▉    | 599/1005 [1:18:50<45:06,  6.67s/it]"
     ]
    },
    {
     "name": "stdout",
     "output_type": "stream",
     "text": [
      "epoch: 200 loss:0.315979 auc:0.6020\n",
      "Fit finished.\n",
      "epoch:   0 loss:0.792437 auc:0.4648\n",
      "epoch:  20 loss:0.560408 auc:0.6133\n",
      "epoch:  40 loss:0.429974 auc:0.5469\n",
      "epoch:  60 loss:0.364448 auc:0.5430\n",
      "epoch:  80 loss:0.338238 auc:0.5703\n",
      "epoch: 100 loss:0.326452 auc:0.5781\n",
      "epoch: 120 loss:0.320018 auc:0.5859\n",
      "epoch: 140 loss:0.316182 auc:0.5859\n",
      "epoch: 160 loss:0.313739 auc:0.5898\n"
     ]
    },
    {
     "name": "stderr",
     "output_type": "stream",
     "text": [
      " 60%|█████▉    | 600/1005 [1:18:56<43:11,  6.40s/it]"
     ]
    },
    {
     "name": "stdout",
     "output_type": "stream",
     "text": [
      "epoch: 180 loss:0.312095 auc:0.6016\n",
      "Fit finished.\n",
      "epoch:   0 loss:0.824356 auc:0.3837\n",
      "epoch:  20 loss:0.575447 auc:0.7240\n",
      "epoch:  40 loss:0.476691 auc:0.7240\n",
      "epoch:  60 loss:0.403014 auc:0.6994\n",
      "epoch:  80 loss:0.362565 auc:0.6692\n",
      "epoch: 100 loss:0.341612 auc:0.6597\n",
      "epoch: 120 loss:0.330455 auc:0.6541\n",
      "epoch: 140 loss:0.323851 auc:0.6503\n",
      "epoch: 160 loss:0.319559 auc:0.6465\n"
     ]
    },
    {
     "name": "stderr",
     "output_type": "stream",
     "text": [
      " 60%|█████▉    | 601/1005 [1:19:01<41:02,  6.09s/it]"
     ]
    },
    {
     "name": "stdout",
     "output_type": "stream",
     "text": [
      "epoch: 180 loss:0.316619 auc:0.6408\n",
      "Fit finished.\n",
      "epoch:   0 loss:0.822466 auc:0.5234\n",
      "epoch:  20 loss:0.589966 auc:0.6172\n",
      "epoch:  40 loss:0.512709 auc:0.5898\n",
      "epoch:  60 loss:0.422868 auc:0.5742\n",
      "epoch:  80 loss:0.373828 auc:0.5898\n",
      "epoch: 100 loss:0.348895 auc:0.6133\n",
      "epoch: 120 loss:0.335439 auc:0.6016\n",
      "epoch: 140 loss:0.327574 auc:0.5898\n",
      "epoch: 160 loss:0.322543 auc:0.5820\n"
     ]
    },
    {
     "name": "stderr",
     "output_type": "stream",
     "text": [
      " 60%|█████▉    | 602/1005 [1:19:06<38:24,  5.72s/it]"
     ]
    },
    {
     "name": "stdout",
     "output_type": "stream",
     "text": [
      "epoch: 180 loss:0.319099 auc:0.5859\n",
      "Fit finished.\n",
      "epoch:   0 loss:0.794140 auc:0.5734\n",
      "epoch:  20 loss:0.562095 auc:0.5208\n",
      "epoch:  40 loss:0.438486 auc:0.5014\n",
      "epoch:  60 loss:0.373177 auc:0.5512\n",
      "epoch:  80 loss:0.343836 auc:0.5706\n",
      "epoch: 100 loss:0.330190 auc:0.5845\n",
      "epoch: 120 loss:0.322746 auc:0.5928\n",
      "epoch: 140 loss:0.318092 auc:0.5983\n",
      "epoch: 160 loss:0.315038 auc:0.6011\n",
      "epoch: 180 loss:0.312994 auc:0.6011\n",
      "epoch: 200 loss:0.311574 auc:0.5928\n",
      "epoch: 220 loss:0.310549 auc:0.6039\n",
      "epoch: 240 loss:0.309793 auc:0.5983\n",
      "epoch: 260 loss:0.309233 auc:0.5928\n",
      "epoch: 280 loss:0.308814 auc:0.5956\n"
     ]
    },
    {
     "name": "stderr",
     "output_type": "stream",
     "text": [
      " 60%|██████    | 603/1005 [1:19:14<43:46,  6.53s/it]"
     ]
    },
    {
     "name": "stdout",
     "output_type": "stream",
     "text": [
      "epoch: 300 loss:0.308495 auc:0.5928\n",
      "Fit finished.\n",
      "epoch:   0 loss:0.817389 auc:0.4767\n",
      "epoch:  20 loss:0.598482 auc:0.6117\n",
      "epoch:  40 loss:0.530231 auc:0.5878\n",
      "epoch:  60 loss:0.430605 auc:0.4970\n",
      "epoch:  80 loss:0.376167 auc:0.4707\n",
      "epoch: 100 loss:0.349537 auc:0.4492\n",
      "epoch: 120 loss:0.335521 auc:0.4492\n",
      "epoch: 140 loss:0.327451 auc:0.4528\n"
     ]
    },
    {
     "name": "stderr",
     "output_type": "stream",
     "text": [
      " 60%|██████    | 604/1005 [1:19:19<40:37,  6.08s/it]"
     ]
    },
    {
     "name": "stdout",
     "output_type": "stream",
     "text": [
      "epoch: 160 loss:0.322358 auc:0.4456\n",
      "Fit finished.\n",
      "epoch:   0 loss:0.773052 auc:0.4931\n",
      "epoch:  20 loss:0.577218 auc:0.7760\n",
      "epoch:  40 loss:0.471249 auc:0.7587\n",
      "epoch:  60 loss:0.390780 auc:0.7066\n",
      "epoch:  80 loss:0.353739 auc:0.7083\n",
      "epoch: 100 loss:0.336297 auc:0.7153\n",
      "epoch: 120 loss:0.326785 auc:0.7153\n",
      "epoch: 140 loss:0.321042 auc:0.7049\n",
      "epoch: 160 loss:0.317349 auc:0.7101\n"
     ]
    },
    {
     "name": "stderr",
     "output_type": "stream",
     "text": [
      " 60%|██████    | 605/1005 [1:19:25<39:12,  5.88s/it]"
     ]
    },
    {
     "name": "stdout",
     "output_type": "stream",
     "text": [
      "epoch: 180 loss:0.314855 auc:0.7031\n",
      "Fit finished.\n",
      "epoch:   0 loss:0.799061 auc:0.3132\n",
      "epoch:  20 loss:0.593799 auc:0.6109\n",
      "epoch:  40 loss:0.503117 auc:0.5132\n",
      "epoch:  60 loss:0.417988 auc:0.4574\n",
      "epoch:  80 loss:0.369830 auc:0.4217\n",
      "epoch: 100 loss:0.345651 auc:0.4388\n",
      "epoch: 120 loss:0.333171 auc:0.4543\n",
      "epoch: 140 loss:0.325793 auc:0.4667\n",
      "epoch: 160 loss:0.321026 auc:0.4651\n"
     ]
    },
    {
     "name": "stderr",
     "output_type": "stream",
     "text": [
      " 60%|██████    | 606/1005 [1:19:30<38:43,  5.82s/it]"
     ]
    },
    {
     "name": "stdout",
     "output_type": "stream",
     "text": [
      "epoch: 180 loss:0.317779 auc:0.4698\n",
      "Fit finished.\n",
      "epoch:   0 loss:0.796207 auc:0.3635\n",
      "epoch:  20 loss:0.575855 auc:0.6556\n",
      "epoch:  40 loss:0.471080 auc:0.5051\n",
      "epoch:  60 loss:0.393504 auc:0.4719\n",
      "epoch:  80 loss:0.357696 auc:0.4796\n",
      "epoch: 100 loss:0.339636 auc:0.4719\n",
      "epoch: 120 loss:0.329427 auc:0.4681\n",
      "epoch: 140 loss:0.323150 auc:0.4630\n",
      "epoch: 160 loss:0.319044 auc:0.4643\n"
     ]
    },
    {
     "name": "stderr",
     "output_type": "stream",
     "text": [
      " 60%|██████    | 607/1005 [1:19:36<37:58,  5.72s/it]"
     ]
    },
    {
     "name": "stdout",
     "output_type": "stream",
     "text": [
      "epoch: 180 loss:0.316240 auc:0.4566\n",
      "Fit finished.\n",
      "epoch:   0 loss:0.776815 auc:0.5116\n",
      "epoch:  20 loss:0.575625 auc:0.6539\n",
      "epoch:  40 loss:0.455313 auc:0.6725\n",
      "epoch:  60 loss:0.380902 auc:0.7025\n",
      "epoch:  80 loss:0.349470 auc:0.7245\n",
      "epoch: 100 loss:0.334442 auc:0.7245\n",
      "epoch: 120 loss:0.325786 auc:0.7303\n",
      "epoch: 140 loss:0.320452 auc:0.7292\n",
      "epoch: 160 loss:0.316987 auc:0.7257\n",
      "epoch: 180 loss:0.314611 auc:0.7234\n",
      "epoch: 200 loss:0.312912 auc:0.7234\n",
      "epoch: 220 loss:0.311661 auc:0.7211\n"
     ]
    },
    {
     "name": "stderr",
     "output_type": "stream",
     "text": [
      " 60%|██████    | 608/1005 [1:19:42<39:27,  5.96s/it]"
     ]
    },
    {
     "name": "stdout",
     "output_type": "stream",
     "text": [
      "epoch: 240 loss:0.310714 auc:0.7188\n",
      "Fit finished.\n",
      "epoch:   0 loss:0.803212 auc:0.4594\n",
      "epoch:  20 loss:0.590258 auc:0.5652\n",
      "epoch:  40 loss:0.494687 auc:0.4934\n",
      "epoch:  60 loss:0.412351 auc:0.4820\n",
      "epoch:  80 loss:0.370679 auc:0.4518\n",
      "epoch: 100 loss:0.348199 auc:0.4480\n",
      "epoch: 120 loss:0.335542 auc:0.4575\n",
      "epoch: 140 loss:0.327688 auc:0.4575\n"
     ]
    },
    {
     "name": "stderr",
     "output_type": "stream",
     "text": [
      " 61%|██████    | 609/1005 [1:19:48<38:15,  5.80s/it]"
     ]
    },
    {
     "name": "stdout",
     "output_type": "stream",
     "text": [
      "epoch: 160 loss:0.322517 auc:0.4556\n",
      "Fit finished.\n",
      "epoch:   0 loss:0.819687 auc:0.4625\n",
      "epoch:  20 loss:0.596437 auc:0.3200\n",
      "epoch:  40 loss:0.542910 auc:0.3275\n",
      "epoch:  60 loss:0.444912 auc:0.3275\n",
      "epoch:  80 loss:0.385872 auc:0.3125\n",
      "epoch: 100 loss:0.356332 auc:0.2850\n",
      "epoch: 120 loss:0.340787 auc:0.2900\n",
      "epoch: 140 loss:0.331531 auc:0.2875\n"
     ]
    },
    {
     "name": "stderr",
     "output_type": "stream",
     "text": [
      " 61%|██████    | 610/1005 [1:19:53<36:31,  5.55s/it]"
     ]
    },
    {
     "name": "stdout",
     "output_type": "stream",
     "text": [
      "epoch: 160 loss:0.325477 auc:0.2975\n",
      "Fit finished.\n",
      "epoch:   0 loss:0.912224 auc:0.4962\n",
      "epoch:  20 loss:0.599340 auc:0.7096\n",
      "epoch:  40 loss:0.542643 auc:0.6982\n",
      "epoch:  60 loss:0.439784 auc:0.5884\n",
      "epoch:  80 loss:0.384092 auc:0.5859\n",
      "epoch: 100 loss:0.354263 auc:0.5543\n",
      "epoch: 120 loss:0.338309 auc:0.5391\n",
      "epoch: 140 loss:0.329119 auc:0.5278\n",
      "epoch: 160 loss:0.323298 auc:0.5240\n"
     ]
    },
    {
     "name": "stderr",
     "output_type": "stream",
     "text": [
      " 61%|██████    | 611/1005 [1:19:58<35:38,  5.43s/it]"
     ]
    },
    {
     "name": "stdout",
     "output_type": "stream",
     "text": [
      "epoch: 180 loss:0.319323 auc:0.5189\n",
      "Fit finished.\n",
      "epoch:   0 loss:0.811926 auc:0.4412\n",
      "epoch:  20 loss:0.596478 auc:0.6924\n",
      "epoch:  40 loss:0.513805 auc:0.6624\n",
      "epoch:  60 loss:0.423324 auc:0.6359\n",
      "epoch:  80 loss:0.374200 auc:0.6452\n",
      "epoch: 100 loss:0.350014 auc:0.6521\n",
      "epoch: 120 loss:0.336970 auc:0.6417\n",
      "epoch: 140 loss:0.328883 auc:0.6313\n",
      "epoch: 160 loss:0.323513 auc:0.6267\n"
     ]
    },
    {
     "name": "stderr",
     "output_type": "stream",
     "text": [
      " 61%|██████    | 612/1005 [1:20:04<36:42,  5.60s/it]"
     ]
    },
    {
     "name": "stdout",
     "output_type": "stream",
     "text": [
      "epoch: 180 loss:0.319768 auc:0.6210\n",
      "Fit finished.\n",
      "epoch:   0 loss:0.779475 auc:0.5720\n",
      "epoch:  20 loss:0.582589 auc:0.6091\n",
      "epoch:  40 loss:0.490290 auc:0.5021\n",
      "epoch:  60 loss:0.406962 auc:0.4486\n",
      "epoch:  80 loss:0.363124 auc:0.4266\n",
      "epoch: 100 loss:0.341868 auc:0.4390\n",
      "epoch: 120 loss:0.330937 auc:0.4431\n",
      "epoch: 140 loss:0.324384 auc:0.4458\n"
     ]
    },
    {
     "name": "stderr",
     "output_type": "stream",
     "text": [
      " 61%|██████    | 613/1005 [1:20:09<35:29,  5.43s/it]"
     ]
    },
    {
     "name": "stdout",
     "output_type": "stream",
     "text": [
      "epoch: 160 loss:0.320037 auc:0.4540\n",
      "Fit finished.\n",
      "epoch:   0 loss:0.760578 auc:0.5977\n",
      "epoch:  20 loss:0.596309 auc:0.6406\n",
      "epoch:  40 loss:0.534912 auc:0.6250\n",
      "epoch:  60 loss:0.439605 auc:0.5781\n",
      "epoch:  80 loss:0.384639 auc:0.5391\n",
      "epoch: 100 loss:0.356367 auc:0.5156\n",
      "epoch: 120 loss:0.340708 auc:0.5039\n",
      "epoch: 140 loss:0.331118 auc:0.5078\n"
     ]
    },
    {
     "name": "stderr",
     "output_type": "stream",
     "text": [
      " 61%|██████    | 614/1005 [1:20:14<34:40,  5.32s/it]"
     ]
    },
    {
     "name": "stdout",
     "output_type": "stream",
     "text": [
      "epoch: 160 loss:0.324816 auc:0.5039\n",
      "Fit finished.\n",
      "epoch:   0 loss:0.802055 auc:0.4653\n",
      "epoch:  20 loss:0.585414 auc:0.3681\n",
      "epoch:  40 loss:0.490079 auc:0.3056\n",
      "epoch:  60 loss:0.396768 auc:0.3264\n",
      "epoch:  80 loss:0.356307 auc:0.3333\n",
      "epoch: 100 loss:0.337786 auc:0.3542\n",
      "epoch: 120 loss:0.328012 auc:0.3472\n",
      "epoch: 140 loss:0.322189 auc:0.3542\n"
     ]
    },
    {
     "name": "stderr",
     "output_type": "stream",
     "text": [
      " 61%|██████    | 615/1005 [1:20:19<33:44,  5.19s/it]"
     ]
    },
    {
     "name": "stdout",
     "output_type": "stream",
     "text": [
      "epoch: 160 loss:0.318329 auc:0.3681\n",
      "Fit finished.\n",
      "epoch:   0 loss:0.822301 auc:0.5558\n",
      "epoch:  20 loss:0.598241 auc:0.8512\n",
      "epoch:  40 loss:0.539482 auc:0.8616\n",
      "epoch:  60 loss:0.441053 auc:0.8347\n",
      "epoch:  80 loss:0.383280 auc:0.8492\n",
      "epoch: 100 loss:0.354832 auc:0.8492\n",
      "epoch: 120 loss:0.339767 auc:0.8409\n",
      "epoch: 140 loss:0.330737 auc:0.8450\n",
      "epoch: 160 loss:0.324854 auc:0.8388\n"
     ]
    },
    {
     "name": "stderr",
     "output_type": "stream",
     "text": [
      " 61%|██████▏   | 616/1005 [1:20:24<33:58,  5.24s/it]"
     ]
    },
    {
     "name": "stdout",
     "output_type": "stream",
     "text": [
      "epoch: 180 loss:0.320809 auc:0.8306\n",
      "Fit finished.\n",
      "epoch:   0 loss:0.858325 auc:0.4969\n",
      "epoch:  20 loss:0.593573 auc:0.5525\n",
      "epoch:  40 loss:0.513134 auc:0.5586\n",
      "epoch:  60 loss:0.419704 auc:0.4938\n",
      "epoch:  80 loss:0.370343 auc:0.4907\n",
      "epoch: 100 loss:0.346846 auc:0.4784\n",
      "epoch: 120 loss:0.334034 auc:0.4815\n",
      "epoch: 140 loss:0.326408 auc:0.4691\n"
     ]
    },
    {
     "name": "stderr",
     "output_type": "stream",
     "text": [
      " 61%|██████▏   | 617/1005 [1:20:29<33:34,  5.19s/it]"
     ]
    },
    {
     "name": "stdout",
     "output_type": "stream",
     "text": [
      "epoch: 160 loss:0.321500 auc:0.4568\n",
      "Fit finished.\n",
      "epoch:   0 loss:0.794955 auc:0.5017\n",
      "epoch:  20 loss:0.559307 auc:0.5052\n",
      "epoch:  40 loss:0.421580 auc:0.2768\n",
      "epoch:  60 loss:0.360550 auc:0.2630\n",
      "epoch:  80 loss:0.336790 auc:0.2595\n",
      "epoch: 100 loss:0.325689 auc:0.2284\n",
      "epoch: 120 loss:0.319586 auc:0.2215\n",
      "epoch: 140 loss:0.315811 auc:0.2111\n"
     ]
    },
    {
     "name": "stderr",
     "output_type": "stream",
     "text": [
      " 61%|██████▏   | 618/1005 [1:20:35<33:45,  5.23s/it]"
     ]
    },
    {
     "name": "stdout",
     "output_type": "stream",
     "text": [
      "epoch: 160 loss:0.313336 auc:0.2076\n",
      "Fit finished.\n",
      "epoch:   0 loss:0.839461 auc:0.3936\n",
      "epoch:  20 loss:0.581306 auc:0.6240\n",
      "epoch:  40 loss:0.475394 auc:0.6320\n",
      "epoch:  60 loss:0.393012 auc:0.6128\n",
      "epoch:  80 loss:0.355196 auc:0.6480\n",
      "epoch: 100 loss:0.337132 auc:0.6752\n",
      "epoch: 120 loss:0.327589 auc:0.6912\n",
      "epoch: 140 loss:0.321861 auc:0.6864\n",
      "epoch: 160 loss:0.318087 auc:0.6864\n",
      "epoch: 180 loss:0.315441 auc:0.6848\n",
      "epoch: 200 loss:0.313528 auc:0.6736\n",
      "epoch: 220 loss:0.312108 auc:0.6768\n",
      "epoch: 240 loss:0.311031 auc:0.6800\n",
      "epoch: 260 loss:0.310197 auc:0.6752\n"
     ]
    },
    {
     "name": "stderr",
     "output_type": "stream",
     "text": [
      " 62%|██████▏   | 619/1005 [1:20:42<38:30,  5.99s/it]"
     ]
    },
    {
     "name": "stdout",
     "output_type": "stream",
     "text": [
      "epoch: 280 loss:0.309544 auc:0.6784\n",
      "Fit finished.\n",
      "epoch:   0 loss:0.784638 auc:0.5000\n",
      "epoch:  20 loss:0.570246 auc:0.6753\n",
      "epoch:  40 loss:0.457243 auc:0.5972\n",
      "epoch:  60 loss:0.383505 auc:0.5764\n",
      "epoch:  80 loss:0.350326 auc:0.5920\n",
      "epoch: 100 loss:0.334251 auc:0.5990\n",
      "epoch: 120 loss:0.325375 auc:0.6076\n",
      "epoch: 140 loss:0.320011 auc:0.6094\n",
      "epoch: 160 loss:0.316527 auc:0.6042\n"
     ]
    },
    {
     "name": "stderr",
     "output_type": "stream",
     "text": [
      " 62%|██████▏   | 620/1005 [1:20:48<37:28,  5.84s/it]"
     ]
    },
    {
     "name": "stdout",
     "output_type": "stream",
     "text": [
      "epoch: 180 loss:0.314142 auc:0.5990\n",
      "Fit finished.\n",
      "epoch:   0 loss:0.803429 auc:0.4688\n",
      "epoch:  20 loss:0.581438 auc:0.5056\n",
      "epoch:  40 loss:0.484990 auc:0.5152\n",
      "epoch:  60 loss:0.406342 auc:0.4896\n",
      "epoch:  80 loss:0.363467 auc:0.4496\n",
      "epoch: 100 loss:0.342127 auc:0.4576\n",
      "epoch: 120 loss:0.330632 auc:0.4544\n",
      "epoch: 140 loss:0.323828 auc:0.4512\n"
     ]
    },
    {
     "name": "stderr",
     "output_type": "stream",
     "text": [
      " 62%|██████▏   | 621/1005 [1:20:53<36:29,  5.70s/it]"
     ]
    },
    {
     "name": "stdout",
     "output_type": "stream",
     "text": [
      "epoch: 160 loss:0.319455 auc:0.4464\n",
      "Fit finished.\n",
      "epoch:   0 loss:0.801248 auc:0.4226\n",
      "epoch:  20 loss:0.567189 auc:0.5938\n",
      "epoch:  40 loss:0.446134 auc:0.6101\n",
      "epoch:  60 loss:0.375278 auc:0.6101\n",
      "epoch:  80 loss:0.345128 auc:0.6190\n",
      "epoch: 100 loss:0.331164 auc:0.6116\n",
      "epoch: 120 loss:0.323614 auc:0.6131\n",
      "epoch: 140 loss:0.319106 auc:0.6161\n",
      "epoch: 160 loss:0.316144 auc:0.6176\n",
      "epoch: 180 loss:0.314034 auc:0.6176\n",
      "epoch: 200 loss:0.312467 auc:0.6161\n",
      "epoch: 220 loss:0.311291 auc:0.6131\n"
     ]
    },
    {
     "name": "stderr",
     "output_type": "stream",
     "text": [
      " 62%|██████▏   | 622/1005 [1:21:01<39:24,  6.17s/it]"
     ]
    },
    {
     "name": "stdout",
     "output_type": "stream",
     "text": [
      "epoch: 240 loss:0.310402 auc:0.6086\n",
      "Fit finished.\n",
      "epoch:   0 loss:0.782288 auc:0.6000\n",
      "epoch:  20 loss:0.563262 auc:0.5375\n",
      "epoch:  40 loss:0.434419 auc:0.6300\n",
      "epoch:  60 loss:0.366700 auc:0.6050\n",
      "epoch:  80 loss:0.339914 auc:0.6150\n",
      "epoch: 100 loss:0.327638 auc:0.6175\n",
      "epoch: 120 loss:0.320985 auc:0.6125\n",
      "epoch: 140 loss:0.316946 auc:0.6050\n"
     ]
    },
    {
     "name": "stderr",
     "output_type": "stream",
     "text": [
      " 62%|██████▏   | 623/1005 [1:21:06<37:25,  5.88s/it]"
     ]
    },
    {
     "name": "stdout",
     "output_type": "stream",
     "text": [
      "epoch: 160 loss:0.314323 auc:0.5925\n",
      "Fit finished.\n",
      "epoch:   0 loss:0.773371 auc:0.4028\n",
      "epoch:  20 loss:0.565251 auc:0.6944\n",
      "epoch:  40 loss:0.443086 auc:0.7639\n",
      "epoch:  60 loss:0.374787 auc:0.7500\n",
      "epoch:  80 loss:0.345239 auc:0.7431\n",
      "epoch: 100 loss:0.331397 auc:0.7361\n",
      "epoch: 120 loss:0.323893 auc:0.7361\n",
      "epoch: 140 loss:0.319273 auc:0.7222\n",
      "epoch: 160 loss:0.316195 auc:0.7083\n",
      "epoch: 180 loss:0.314049 auc:0.7014\n"
     ]
    },
    {
     "name": "stderr",
     "output_type": "stream",
     "text": [
      " 62%|██████▏   | 624/1005 [1:21:12<38:12,  6.02s/it]"
     ]
    },
    {
     "name": "stdout",
     "output_type": "stream",
     "text": [
      "epoch: 200 loss:0.312503 auc:0.6875\n",
      "Fit finished.\n",
      "epoch:   0 loss:0.791368 auc:0.3744\n",
      "epoch:  20 loss:0.587901 auc:0.7504\n",
      "epoch:  40 loss:0.508830 auc:0.7296\n",
      "epoch:  60 loss:0.414358 auc:0.7296\n",
      "epoch:  80 loss:0.366076 auc:0.7392\n",
      "epoch: 100 loss:0.343644 auc:0.7584\n",
      "epoch: 120 loss:0.332058 auc:0.7664\n",
      "epoch: 140 loss:0.325107 auc:0.7568\n",
      "epoch: 160 loss:0.320524 auc:0.7488\n"
     ]
    },
    {
     "name": "stderr",
     "output_type": "stream",
     "text": [
      " 62%|██████▏   | 625/1005 [1:21:18<36:59,  5.84s/it]"
     ]
    },
    {
     "name": "stdout",
     "output_type": "stream",
     "text": [
      "epoch: 180 loss:0.317330 auc:0.7392\n",
      "Fit finished.\n",
      "epoch:   0 loss:0.800304 auc:0.5779\n",
      "epoch:  20 loss:0.592350 auc:0.5675\n",
      "epoch:  40 loss:0.509816 auc:0.6955\n",
      "epoch:  60 loss:0.427366 auc:0.7093\n",
      "epoch:  80 loss:0.379788 auc:0.7128\n",
      "epoch: 100 loss:0.354614 auc:0.6851\n",
      "epoch: 120 loss:0.339997 auc:0.6920\n",
      "epoch: 140 loss:0.330824 auc:0.6990\n",
      "epoch: 160 loss:0.324765 auc:0.6955\n",
      "epoch: 180 loss:0.320625 auc:0.7059\n",
      "epoch: 200 loss:0.317701 auc:0.7093\n",
      "epoch: 220 loss:0.315558 auc:0.7128\n",
      "epoch: 240 loss:0.313949 auc:0.7128\n",
      "epoch: 260 loss:0.312714 auc:0.7059\n",
      "epoch: 280 loss:0.311746 auc:0.7093\n",
      "epoch: 300 loss:0.310976 auc:0.7163\n",
      "epoch: 320 loss:0.310353 auc:0.7093\n",
      "epoch: 340 loss:0.309844 auc:0.7059\n",
      "epoch: 360 loss:0.309422 auc:0.7093\n",
      "epoch: 380 loss:0.309072 auc:0.7128\n"
     ]
    },
    {
     "name": "stderr",
     "output_type": "stream",
     "text": [
      " 62%|██████▏   | 626/1005 [1:21:28<44:56,  7.11s/it]"
     ]
    },
    {
     "name": "stdout",
     "output_type": "stream",
     "text": [
      "epoch: 400 loss:0.308779 auc:0.7093\n",
      "Fit finished.\n",
      "epoch:   0 loss:0.775876 auc:0.5074\n",
      "epoch:  20 loss:0.603576 auc:0.7230\n",
      "epoch:  40 loss:0.546943 auc:0.7525\n",
      "epoch:  60 loss:0.455752 auc:0.6887\n",
      "epoch:  80 loss:0.393029 auc:0.6556\n",
      "epoch: 100 loss:0.360706 auc:0.6373\n",
      "epoch: 120 loss:0.343950 auc:0.6483\n",
      "epoch: 140 loss:0.334003 auc:0.6520\n",
      "epoch: 160 loss:0.327398 auc:0.6556\n"
     ]
    },
    {
     "name": "stderr",
     "output_type": "stream",
     "text": [
      " 62%|██████▏   | 627/1005 [1:21:33<42:03,  6.68s/it]"
     ]
    },
    {
     "name": "stdout",
     "output_type": "stream",
     "text": [
      "epoch: 180 loss:0.322751 auc:0.6642\n",
      "Fit finished.\n",
      "epoch:   0 loss:0.771641 auc:0.5148\n",
      "epoch:  20 loss:0.566476 auc:0.6790\n",
      "epoch:  40 loss:0.445450 auc:0.6672\n",
      "epoch:  60 loss:0.375142 auc:0.6879\n",
      "epoch:  80 loss:0.346156 auc:0.6598\n",
      "epoch: 100 loss:0.332462 auc:0.6494\n",
      "epoch: 120 loss:0.324768 auc:0.6331\n",
      "epoch: 140 loss:0.319984 auc:0.6317\n",
      "epoch: 160 loss:0.316745 auc:0.6257\n"
     ]
    },
    {
     "name": "stderr",
     "output_type": "stream",
     "text": [
      " 62%|██████▏   | 628/1005 [1:21:39<39:23,  6.27s/it]"
     ]
    },
    {
     "name": "stdout",
     "output_type": "stream",
     "text": [
      "epoch: 180 loss:0.314447 auc:0.6243\n",
      "Fit finished.\n",
      "epoch:   0 loss:0.901007 auc:0.4133\n",
      "epoch:  20 loss:0.595375 auc:0.6311\n",
      "epoch:  40 loss:0.527855 auc:0.5956\n",
      "epoch:  60 loss:0.436824 auc:0.6133\n",
      "epoch:  80 loss:0.382550 auc:0.6444\n",
      "epoch: 100 loss:0.354017 auc:0.6622\n",
      "epoch: 120 loss:0.338262 auc:0.6667\n",
      "epoch: 140 loss:0.328971 auc:0.6800\n",
      "epoch: 160 loss:0.323187 auc:0.6844\n",
      "epoch: 180 loss:0.319359 auc:0.6889\n",
      "epoch: 200 loss:0.316660 auc:0.6756\n",
      "epoch: 220 loss:0.314668 auc:0.6711\n",
      "epoch: 240 loss:0.313160 auc:0.6711\n",
      "epoch: 260 loss:0.311997 auc:0.6667\n"
     ]
    },
    {
     "name": "stderr",
     "output_type": "stream",
     "text": [
      " 63%|██████▎   | 629/1005 [1:21:46<42:14,  6.74s/it]"
     ]
    },
    {
     "name": "stdout",
     "output_type": "stream",
     "text": [
      "epoch: 280 loss:0.311088 auc:0.6489\n",
      "Fit finished.\n",
      "epoch:   0 loss:0.787600 auc:0.3932\n",
      "epoch:  20 loss:0.581805 auc:0.6680\n",
      "epoch:  40 loss:0.483911 auc:0.5497\n",
      "epoch:  60 loss:0.399058 auc:0.5456\n",
      "epoch:  80 loss:0.359761 auc:0.5224\n",
      "epoch: 100 loss:0.340890 auc:0.5265\n",
      "epoch: 120 loss:0.330640 auc:0.5224\n",
      "epoch: 140 loss:0.324350 auc:0.5347\n",
      "epoch: 160 loss:0.320162 auc:0.5347\n"
     ]
    },
    {
     "name": "stderr",
     "output_type": "stream",
     "text": [
      " 63%|██████▎   | 630/1005 [1:21:52<39:30,  6.32s/it]"
     ]
    },
    {
     "name": "stdout",
     "output_type": "stream",
     "text": [
      "epoch: 180 loss:0.317210 auc:0.5320\n",
      "Fit finished.\n",
      "epoch:   0 loss:0.803445 auc:0.6159\n",
      "epoch:  20 loss:0.594321 auc:0.5467\n",
      "epoch:  40 loss:0.528020 auc:0.5606\n",
      "epoch:  60 loss:0.435754 auc:0.5398\n",
      "epoch:  80 loss:0.383566 auc:0.5467\n",
      "epoch: 100 loss:0.356221 auc:0.5571\n",
      "epoch: 120 loss:0.340558 auc:0.5433\n",
      "epoch: 140 loss:0.330910 auc:0.5294\n"
     ]
    },
    {
     "name": "stderr",
     "output_type": "stream",
     "text": [
      " 63%|██████▎   | 631/1005 [1:21:57<36:34,  5.87s/it]"
     ]
    },
    {
     "name": "stdout",
     "output_type": "stream",
     "text": [
      "epoch: 160 loss:0.324754 auc:0.5121\n",
      "Fit finished.\n",
      "epoch:   0 loss:0.924260 auc:0.3705\n",
      "epoch:  20 loss:0.591218 auc:0.5364\n",
      "epoch:  40 loss:0.511190 auc:0.5364\n",
      "epoch:  60 loss:0.411878 auc:0.5132\n",
      "epoch:  80 loss:0.366186 auc:0.5101\n",
      "epoch: 100 loss:0.344498 auc:0.5271\n",
      "epoch: 120 loss:0.332764 auc:0.5395\n",
      "epoch: 140 loss:0.325771 auc:0.5473\n",
      "epoch: 160 loss:0.321219 auc:0.5488\n",
      "epoch: 180 loss:0.318057 auc:0.5442\n",
      "epoch: 200 loss:0.315761 auc:0.5457\n",
      "epoch: 220 loss:0.314033 auc:0.5442\n",
      "epoch: 240 loss:0.312711 auc:0.5426\n",
      "epoch: 260 loss:0.311689 auc:0.5349\n"
     ]
    },
    {
     "name": "stderr",
     "output_type": "stream",
     "text": [
      " 63%|██████▎   | 632/1005 [1:22:05<40:35,  6.53s/it]"
     ]
    },
    {
     "name": "stdout",
     "output_type": "stream",
     "text": [
      "epoch: 280 loss:0.310892 auc:0.5333\n",
      "Fit finished.\n",
      "epoch:   0 loss:0.840067 auc:0.5217\n",
      "epoch:  20 loss:0.581997 auc:0.6780\n",
      "epoch:  40 loss:0.480690 auc:0.7663\n",
      "epoch:  60 loss:0.398208 auc:0.7260\n",
      "epoch:  80 loss:0.358992 auc:0.7198\n",
      "epoch: 100 loss:0.339303 auc:0.7152\n",
      "epoch: 120 loss:0.328941 auc:0.6981\n",
      "epoch: 140 loss:0.322883 auc:0.6904\n",
      "epoch: 160 loss:0.318978 auc:0.6842\n",
      "epoch: 180 loss:0.316283 auc:0.6811\n"
     ]
    },
    {
     "name": "stderr",
     "output_type": "stream",
     "text": [
      " 63%|██████▎   | 633/1005 [1:22:10<39:06,  6.31s/it]"
     ]
    },
    {
     "name": "stdout",
     "output_type": "stream",
     "text": [
      "epoch: 200 loss:0.314346 auc:0.6749\n",
      "Fit finished.\n",
      "epoch:   0 loss:0.841386 auc:0.4793\n",
      "epoch:  20 loss:0.597538 auc:0.7996\n",
      "epoch:  40 loss:0.542698 auc:0.7789\n",
      "epoch:  60 loss:0.442710 auc:0.6983\n",
      "epoch:  80 loss:0.382827 auc:0.6570\n",
      "epoch: 100 loss:0.353348 auc:0.6570\n",
      "epoch: 120 loss:0.337381 auc:0.6488\n",
      "epoch: 140 loss:0.328071 auc:0.6405\n",
      "epoch: 160 loss:0.322371 auc:0.6426\n"
     ]
    },
    {
     "name": "stderr",
     "output_type": "stream",
     "text": [
      " 63%|██████▎   | 634/1005 [1:22:16<38:06,  6.16s/it]"
     ]
    },
    {
     "name": "stdout",
     "output_type": "stream",
     "text": [
      "epoch: 180 loss:0.318662 auc:0.6343\n",
      "Fit finished.\n",
      "epoch:   0 loss:0.790198 auc:0.4660\n",
      "epoch:  20 loss:0.597500 auc:0.4630\n",
      "epoch:  40 loss:0.523987 auc:0.5000\n",
      "epoch:  60 loss:0.432122 auc:0.5340\n",
      "epoch:  80 loss:0.378089 auc:0.5648\n",
      "epoch: 100 loss:0.350263 auc:0.5710\n",
      "epoch: 120 loss:0.336072 auc:0.5802\n",
      "epoch: 140 loss:0.327859 auc:0.5833\n",
      "epoch: 160 loss:0.322585 auc:0.5833\n",
      "epoch: 180 loss:0.319011 auc:0.5833\n",
      "epoch: 200 loss:0.316497 auc:0.5833\n",
      "epoch: 220 loss:0.314674 auc:0.5833\n",
      "epoch: 240 loss:0.313305 auc:0.5741\n",
      "epoch: 260 loss:0.312244 auc:0.5772\n"
     ]
    },
    {
     "name": "stderr",
     "output_type": "stream",
     "text": [
      " 63%|██████▎   | 635/1005 [1:22:24<41:25,  6.72s/it]"
     ]
    },
    {
     "name": "stdout",
     "output_type": "stream",
     "text": [
      "epoch: 280 loss:0.311398 auc:0.5741\n",
      "Fit finished.\n",
      "epoch:   0 loss:0.823539 auc:0.5972\n",
      "epoch:  20 loss:0.597645 auc:0.4826\n",
      "epoch:  40 loss:0.522269 auc:0.5226\n",
      "epoch:  60 loss:0.427855 auc:0.5469\n",
      "epoch:  80 loss:0.376900 auc:0.5486\n",
      "epoch: 100 loss:0.349896 auc:0.5469\n",
      "epoch: 120 loss:0.335587 auc:0.5469\n",
      "epoch: 140 loss:0.327215 auc:0.5434\n"
     ]
    },
    {
     "name": "stderr",
     "output_type": "stream",
     "text": [
      " 63%|██████▎   | 636/1005 [1:22:30<39:16,  6.39s/it]"
     ]
    },
    {
     "name": "stdout",
     "output_type": "stream",
     "text": [
      "epoch: 160 loss:0.321897 auc:0.5434\n",
      "Fit finished.\n",
      "epoch:   0 loss:0.846617 auc:0.4594\n",
      "epoch:  20 loss:0.603797 auc:0.7952\n",
      "epoch:  40 loss:0.562563 auc:0.8000\n",
      "epoch:  60 loss:0.470697 auc:0.7661\n",
      "epoch:  80 loss:0.399097 auc:0.7515\n",
      "epoch: 100 loss:0.360676 auc:0.7527\n",
      "epoch: 120 loss:0.341734 auc:0.7382\n",
      "epoch: 140 loss:0.331468 auc:0.7345\n",
      "epoch: 160 loss:0.325267 auc:0.7394\n"
     ]
    },
    {
     "name": "stderr",
     "output_type": "stream",
     "text": [
      " 63%|██████▎   | 637/1005 [1:22:35<37:22,  6.09s/it]"
     ]
    },
    {
     "name": "stdout",
     "output_type": "stream",
     "text": [
      "epoch: 180 loss:0.321121 auc:0.7358\n",
      "Fit finished.\n",
      "epoch:   0 loss:0.870665 auc:0.5562\n",
      "epoch:  20 loss:0.594858 auc:0.7574\n",
      "epoch:  40 loss:0.521016 auc:0.7456\n",
      "epoch:  60 loss:0.428284 auc:0.6450\n",
      "epoch:  80 loss:0.378947 auc:0.6154\n",
      "epoch: 100 loss:0.352560 auc:0.6272\n",
      "epoch: 120 loss:0.338066 auc:0.6213\n",
      "epoch: 140 loss:0.329268 auc:0.6095\n",
      "epoch: 160 loss:0.323414 auc:0.6036\n"
     ]
    },
    {
     "name": "stderr",
     "output_type": "stream",
     "text": [
      " 63%|██████▎   | 638/1005 [1:22:40<35:38,  5.83s/it]"
     ]
    },
    {
     "name": "stdout",
     "output_type": "stream",
     "text": [
      "epoch: 180 loss:0.319422 auc:0.5917\n",
      "Fit finished.\n",
      "epoch:   0 loss:0.763773 auc:0.4858\n",
      "epoch:  20 loss:0.554838 auc:0.7316\n",
      "epoch:  40 loss:0.420562 auc:0.5822\n",
      "epoch:  60 loss:0.357557 auc:0.5633\n",
      "epoch:  80 loss:0.334431 auc:0.5671\n",
      "epoch: 100 loss:0.324155 auc:0.5539\n",
      "epoch: 120 loss:0.318515 auc:0.5406\n",
      "epoch: 140 loss:0.315034 auc:0.5331\n",
      "epoch: 160 loss:0.312762 auc:0.5274\n"
     ]
    },
    {
     "name": "stderr",
     "output_type": "stream",
     "text": [
      " 64%|██████▎   | 639/1005 [1:22:46<35:14,  5.78s/it]"
     ]
    },
    {
     "name": "stdout",
     "output_type": "stream",
     "text": [
      "epoch: 180 loss:0.311249 auc:0.5217\n",
      "Fit finished.\n",
      "epoch:   0 loss:0.783951 auc:0.6769\n",
      "epoch:  20 loss:0.599540 auc:0.7149\n",
      "epoch:  40 loss:0.539100 auc:0.6959\n",
      "epoch:  60 loss:0.441841 auc:0.6462\n",
      "epoch:  80 loss:0.384818 auc:0.6199\n",
      "epoch: 100 loss:0.354937 auc:0.6170\n",
      "epoch: 120 loss:0.339096 auc:0.6126\n",
      "epoch: 140 loss:0.329752 auc:0.6170\n"
     ]
    },
    {
     "name": "stderr",
     "output_type": "stream",
     "text": [
      " 64%|██████▎   | 640/1005 [1:22:51<33:20,  5.48s/it]"
     ]
    },
    {
     "name": "stdout",
     "output_type": "stream",
     "text": [
      "epoch: 160 loss:0.323770 auc:0.6316\n",
      "Fit finished.\n",
      "epoch:   0 loss:0.849814 auc:0.3909\n",
      "epoch:  20 loss:0.601154 auc:0.5833\n",
      "epoch:  40 loss:0.547036 auc:0.5527\n",
      "epoch:  60 loss:0.446666 auc:0.4988\n",
      "epoch:  80 loss:0.385750 auc:0.5049\n",
      "epoch: 100 loss:0.355314 auc:0.4975\n",
      "epoch: 120 loss:0.339834 auc:0.5074\n",
      "epoch: 140 loss:0.330809 auc:0.5049\n",
      "epoch: 160 loss:0.324932 auc:0.5061\n"
     ]
    },
    {
     "name": "stderr",
     "output_type": "stream",
     "text": [
      " 64%|██████▍   | 642/1005 [1:22:57<25:47,  4.26s/it]"
     ]
    },
    {
     "name": "stdout",
     "output_type": "stream",
     "text": [
      "epoch: 180 loss:0.320824 auc:0.5037\n",
      "Fit finished.\n",
      "epoch:   0 loss:0.800519 auc:0.4384\n",
      "epoch:  20 loss:0.587410 auc:0.6320\n",
      "epoch:  40 loss:0.494489 auc:0.5696\n",
      "epoch:  60 loss:0.406746 auc:0.4608\n",
      "epoch:  80 loss:0.363379 auc:0.4496\n",
      "epoch: 100 loss:0.342387 auc:0.4368\n",
      "epoch: 120 loss:0.331160 auc:0.4192\n",
      "epoch: 140 loss:0.324442 auc:0.4224\n",
      "epoch: 160 loss:0.320088 auc:0.4384\n"
     ]
    },
    {
     "name": "stderr",
     "output_type": "stream",
     "text": [
      " 64%|██████▍   | 643/1005 [1:23:02<27:30,  4.56s/it]"
     ]
    },
    {
     "name": "stdout",
     "output_type": "stream",
     "text": [
      "epoch: 180 loss:0.317067 auc:0.4352\n",
      "Fit finished.\n",
      "epoch:   0 loss:0.809657 auc:0.6864\n",
      "epoch:  20 loss:0.597223 auc:0.7604\n",
      "epoch:  40 loss:0.516737 auc:0.7559\n",
      "epoch:  60 loss:0.423030 auc:0.7470\n",
      "epoch:  80 loss:0.374919 auc:0.7411\n",
      "epoch: 100 loss:0.349345 auc:0.7411\n",
      "epoch: 120 loss:0.335507 auc:0.7337\n",
      "epoch: 140 loss:0.327520 auc:0.7278\n",
      "epoch: 160 loss:0.322481 auc:0.7219\n"
     ]
    },
    {
     "name": "stderr",
     "output_type": "stream",
     "text": [
      " 64%|██████▍   | 644/1005 [1:23:08<28:48,  4.79s/it]"
     ]
    },
    {
     "name": "stdout",
     "output_type": "stream",
     "text": [
      "epoch: 180 loss:0.318990 auc:0.7234\n",
      "Fit finished.\n",
      "epoch:   0 loss:0.817011 auc:0.5444\n",
      "epoch:  20 loss:0.592720 auc:0.6734\n",
      "epoch:  40 loss:0.510901 auc:0.6815\n",
      "epoch:  60 loss:0.412726 auc:0.7204\n",
      "epoch:  80 loss:0.364140 auc:0.7272\n",
      "epoch: 100 loss:0.342128 auc:0.7352\n",
      "epoch: 120 loss:0.330844 auc:0.7285\n",
      "epoch: 140 loss:0.324198 auc:0.7285\n",
      "epoch: 160 loss:0.319931 auc:0.7366\n",
      "epoch: 180 loss:0.317012 auc:0.7419\n",
      "epoch: 200 loss:0.314902 auc:0.7473\n",
      "epoch: 220 loss:0.313314 auc:0.7554\n",
      "epoch: 240 loss:0.312080 auc:0.7594\n",
      "epoch: 260 loss:0.311103 auc:0.7594\n",
      "epoch: 280 loss:0.310320 auc:0.7527\n",
      "epoch: 300 loss:0.309691 auc:0.7567\n",
      "epoch: 320 loss:0.309181 auc:0.7581\n",
      "epoch: 340 loss:0.308768 auc:0.7608\n",
      "epoch: 360 loss:0.308434 auc:0.7621\n",
      "epoch: 380 loss:0.308163 auc:0.7634\n",
      "epoch: 400 loss:0.307942 auc:0.7648\n",
      "epoch: 420 loss:0.307762 auc:0.7648\n",
      "epoch: 440 loss:0.307615 auc:0.7648\n",
      "epoch: 460 loss:0.307493 auc:0.7634\n",
      "epoch: 480 loss:0.307393 auc:0.7621\n",
      "epoch: 500 loss:0.307309 auc:0.7608\n"
     ]
    },
    {
     "name": "stderr",
     "output_type": "stream",
     "text": [
      " 64%|██████▍   | 645/1005 [1:23:21<42:16,  7.05s/it]"
     ]
    },
    {
     "name": "stdout",
     "output_type": "stream",
     "text": [
      "epoch: 520 loss:0.307239 auc:0.7581\n",
      "Fit finished.\n",
      "epoch:   0 loss:0.781811 auc:0.5868\n",
      "epoch:  20 loss:0.593219 auc:0.8522\n",
      "epoch:  40 loss:0.505767 auc:0.8565\n",
      "epoch:  60 loss:0.417679 auc:0.8350\n",
      "epoch:  80 loss:0.371509 auc:0.8106\n",
      "epoch: 100 loss:0.348351 auc:0.7977\n",
      "epoch: 120 loss:0.335108 auc:0.7963\n",
      "epoch: 140 loss:0.326793 auc:0.7948\n",
      "epoch: 160 loss:0.321433 auc:0.7891\n"
     ]
    },
    {
     "name": "stderr",
     "output_type": "stream",
     "text": [
      " 64%|██████▍   | 646/1005 [1:23:26<39:52,  6.66s/it]"
     ]
    },
    {
     "name": "stdout",
     "output_type": "stream",
     "text": [
      "epoch: 180 loss:0.317897 auc:0.7877\n",
      "Fit finished.\n",
      "epoch:   0 loss:0.812206 auc:0.5102\n",
      "epoch:  20 loss:0.582299 auc:0.7596\n",
      "epoch:  40 loss:0.482260 auc:0.7279\n",
      "epoch:  60 loss:0.399683 auc:0.6757\n",
      "epoch:  80 loss:0.359697 auc:0.6440\n",
      "epoch: 100 loss:0.339723 auc:0.6531\n",
      "epoch: 120 loss:0.329083 auc:0.6485\n",
      "epoch: 140 loss:0.322826 auc:0.6395\n",
      "epoch: 160 loss:0.318795 auc:0.6349\n"
     ]
    },
    {
     "name": "stderr",
     "output_type": "stream",
     "text": [
      " 64%|██████▍   | 647/1005 [1:23:31<37:10,  6.23s/it]"
     ]
    },
    {
     "name": "stdout",
     "output_type": "stream",
     "text": [
      "epoch: 180 loss:0.316029 auc:0.6259\n",
      "Fit finished.\n",
      "epoch:   0 loss:0.782862 auc:0.4304\n",
      "epoch:  20 loss:0.598072 auc:0.5312\n",
      "epoch:  40 loss:0.531320 auc:0.5040\n",
      "epoch:  60 loss:0.431621 auc:0.4688\n",
      "epoch:  80 loss:0.378026 auc:0.4400\n",
      "epoch: 100 loss:0.351520 auc:0.4464\n",
      "epoch: 120 loss:0.337228 auc:0.4560\n",
      "epoch: 140 loss:0.328633 auc:0.4384\n",
      "epoch: 160 loss:0.323132 auc:0.4368\n"
     ]
    },
    {
     "name": "stderr",
     "output_type": "stream",
     "text": [
      " 64%|██████▍   | 648/1005 [1:23:37<35:46,  6.01s/it]"
     ]
    },
    {
     "name": "stdout",
     "output_type": "stream",
     "text": [
      "epoch: 180 loss:0.319411 auc:0.4336\n",
      "Fit finished.\n",
      "epoch:   0 loss:0.787587 auc:0.5571\n",
      "epoch:  20 loss:0.559779 auc:0.8337\n",
      "epoch:  40 loss:0.443773 auc:0.8536\n",
      "epoch:  60 loss:0.377273 auc:0.8784\n",
      "epoch:  80 loss:0.347690 auc:0.8921\n",
      "epoch: 100 loss:0.333001 auc:0.8983\n",
      "epoch: 120 loss:0.324647 auc:0.9032\n",
      "epoch: 140 loss:0.319634 auc:0.9020\n",
      "epoch: 160 loss:0.316427 auc:0.9020\n",
      "epoch: 180 loss:0.314220 auc:0.8995\n",
      "epoch: 200 loss:0.312607 auc:0.8983\n",
      "epoch: 220 loss:0.311383 auc:0.8983\n",
      "epoch: 240 loss:0.310438 auc:0.8958\n"
     ]
    },
    {
     "name": "stderr",
     "output_type": "stream",
     "text": [
      " 65%|██████▍   | 649/1005 [1:23:45<38:26,  6.48s/it]"
     ]
    },
    {
     "name": "stdout",
     "output_type": "stream",
     "text": [
      "epoch: 260 loss:0.309712 auc:0.8970\n",
      "Fit finished.\n",
      "epoch:   0 loss:0.799240 auc:0.4994\n",
      "epoch:  20 loss:0.558723 auc:0.8026\n",
      "epoch:  40 loss:0.438688 auc:0.7681\n",
      "epoch:  60 loss:0.375699 auc:0.7432\n",
      "epoch:  80 loss:0.346975 auc:0.7289\n",
      "epoch: 100 loss:0.332681 auc:0.7122\n",
      "epoch: 120 loss:0.324832 auc:0.7146\n",
      "epoch: 140 loss:0.320109 auc:0.7111\n",
      "epoch: 160 loss:0.317006 auc:0.7063\n"
     ]
    },
    {
     "name": "stderr",
     "output_type": "stream",
     "text": [
      " 65%|██████▍   | 650/1005 [1:23:50<37:00,  6.26s/it]"
     ]
    },
    {
     "name": "stdout",
     "output_type": "stream",
     "text": [
      "epoch: 180 loss:0.314829 auc:0.7015\n",
      "Fit finished.\n",
      "epoch:   0 loss:0.776697 auc:0.6760\n",
      "epoch:  20 loss:0.586010 auc:0.7604\n",
      "epoch:  40 loss:0.505375 auc:0.7515\n",
      "epoch:  60 loss:0.410311 auc:0.7485\n",
      "epoch:  80 loss:0.366253 auc:0.7293\n",
      "epoch: 100 loss:0.345161 auc:0.7204\n",
      "epoch: 120 loss:0.333707 auc:0.7145\n",
      "epoch: 140 loss:0.326687 auc:0.7071\n",
      "epoch: 160 loss:0.322030 auc:0.7012\n"
     ]
    },
    {
     "name": "stderr",
     "output_type": "stream",
     "text": [
      " 65%|██████▍   | 651/1005 [1:23:55<35:06,  5.95s/it]"
     ]
    },
    {
     "name": "stdout",
     "output_type": "stream",
     "text": [
      "epoch: 180 loss:0.318771 auc:0.6967\n",
      "Fit finished.\n",
      "epoch:   0 loss:0.772138 auc:0.5467\n",
      "epoch:  20 loss:0.565993 auc:0.5363\n",
      "epoch:  40 loss:0.447946 auc:0.5536\n",
      "epoch:  60 loss:0.375739 auc:0.5709\n",
      "epoch:  80 loss:0.345270 auc:0.5640\n",
      "epoch: 100 loss:0.330894 auc:0.5709\n",
      "epoch: 120 loss:0.323158 auc:0.5917\n",
      "epoch: 140 loss:0.318596 auc:0.6159\n",
      "epoch: 160 loss:0.315653 auc:0.6401\n",
      "epoch: 180 loss:0.313632 auc:0.6471\n",
      "epoch: 200 loss:0.312194 auc:0.6401\n",
      "epoch: 220 loss:0.311145 auc:0.6436\n",
      "epoch: 240 loss:0.310364 auc:0.6436\n",
      "epoch: 260 loss:0.309766 auc:0.6401\n",
      "epoch: 280 loss:0.309297 auc:0.6332\n",
      "epoch: 300 loss:0.308921 auc:0.6298\n"
     ]
    },
    {
     "name": "stderr",
     "output_type": "stream",
     "text": [
      " 65%|██████▍   | 652/1005 [1:24:04<40:19,  6.85s/it]"
     ]
    },
    {
     "name": "stdout",
     "output_type": "stream",
     "text": [
      "epoch: 320 loss:0.308613 auc:0.6263\n",
      "Fit finished.\n",
      "epoch:   0 loss:0.825013 auc:0.5225\n",
      "epoch:  20 loss:0.595141 auc:0.7613\n",
      "epoch:  40 loss:0.507390 auc:0.7162\n",
      "epoch:  60 loss:0.416109 auc:0.6637\n",
      "epoch:  80 loss:0.367998 auc:0.6532\n",
      "epoch: 100 loss:0.344926 auc:0.6426\n",
      "epoch: 120 loss:0.332843 auc:0.6231\n",
      "epoch: 140 loss:0.325700 auc:0.6186\n",
      "epoch: 160 loss:0.321020 auc:0.6141\n"
     ]
    },
    {
     "name": "stderr",
     "output_type": "stream",
     "text": [
      " 65%|██████▍   | 653/1005 [1:24:10<37:37,  6.41s/it]"
     ]
    },
    {
     "name": "stdout",
     "output_type": "stream",
     "text": [
      "epoch: 180 loss:0.317776 auc:0.6066\n",
      "Fit finished.\n",
      "epoch:   0 loss:0.791904 auc:0.3823\n",
      "epoch:  20 loss:0.589219 auc:0.6690\n",
      "epoch:  40 loss:0.510240 auc:0.6634\n",
      "epoch:  60 loss:0.417202 auc:0.7008\n",
      "epoch:  80 loss:0.369467 auc:0.6856\n",
      "epoch: 100 loss:0.346096 auc:0.6759\n",
      "epoch: 120 loss:0.333500 auc:0.6620\n",
      "epoch: 140 loss:0.326011 auc:0.6454\n",
      "epoch: 160 loss:0.321217 auc:0.6399\n"
     ]
    },
    {
     "name": "stderr",
     "output_type": "stream",
     "text": [
      " 65%|██████▌   | 654/1005 [1:24:15<35:41,  6.10s/it]"
     ]
    },
    {
     "name": "stdout",
     "output_type": "stream",
     "text": [
      "epoch: 180 loss:0.317991 auc:0.6371\n",
      "Fit finished.\n",
      "epoch:   0 loss:0.791429 auc:0.6287\n",
      "epoch:  20 loss:0.599476 auc:0.7944\n",
      "epoch:  40 loss:0.551415 auc:0.7825\n",
      "epoch:  60 loss:0.448735 auc:0.7944\n",
      "epoch:  80 loss:0.386536 auc:0.8402\n",
      "epoch: 100 loss:0.356886 auc:0.8683\n",
      "epoch: 120 loss:0.340900 auc:0.8817\n",
      "epoch: 140 loss:0.331224 auc:0.8876\n",
      "epoch: 160 loss:0.324931 auc:0.8876\n",
      "epoch: 180 loss:0.320641 auc:0.8817\n",
      "epoch: 200 loss:0.317608 auc:0.8802\n",
      "epoch: 220 loss:0.315391 auc:0.8757\n",
      "epoch: 240 loss:0.313728 auc:0.8743\n",
      "epoch: 260 loss:0.312455 auc:0.8743\n"
     ]
    },
    {
     "name": "stderr",
     "output_type": "stream",
     "text": [
      " 65%|██████▌   | 655/1005 [1:24:23<38:00,  6.52s/it]"
     ]
    },
    {
     "name": "stdout",
     "output_type": "stream",
     "text": [
      "epoch: 280 loss:0.311463 auc:0.8802\n",
      "Fit finished.\n",
      "epoch:   0 loss:0.772439 auc:0.4601\n",
      "epoch:  20 loss:0.578952 auc:0.7530\n",
      "epoch:  40 loss:0.483593 auc:0.6849\n",
      "epoch:  60 loss:0.403892 auc:0.6553\n",
      "epoch:  80 loss:0.363281 auc:0.6553\n",
      "epoch: 100 loss:0.342330 auc:0.6464\n",
      "epoch: 120 loss:0.330848 auc:0.6479\n",
      "epoch: 140 loss:0.323981 auc:0.6479\n",
      "epoch: 160 loss:0.319594 auc:0.6450\n"
     ]
    },
    {
     "name": "stderr",
     "output_type": "stream",
     "text": [
      " 65%|██████▌   | 656/1005 [1:24:28<36:19,  6.25s/it]"
     ]
    },
    {
     "name": "stdout",
     "output_type": "stream",
     "text": [
      "epoch: 180 loss:0.316606 auc:0.6464\n",
      "Fit finished.\n",
      "epoch:   0 loss:0.787506 auc:0.4221\n",
      "epoch:  20 loss:0.585782 auc:0.6587\n",
      "epoch:  40 loss:0.504420 auc:0.5981\n",
      "epoch:  60 loss:0.412797 auc:0.5886\n",
      "epoch:  80 loss:0.365327 auc:0.5933\n",
      "epoch: 100 loss:0.343152 auc:0.5957\n",
      "epoch: 120 loss:0.331875 auc:0.5933\n",
      "epoch: 140 loss:0.325284 auc:0.5957\n",
      "epoch: 160 loss:0.320933 auc:0.5933\n"
     ]
    },
    {
     "name": "stderr",
     "output_type": "stream",
     "text": [
      " 65%|██████▌   | 657/1005 [1:24:34<34:37,  5.97s/it]"
     ]
    },
    {
     "name": "stdout",
     "output_type": "stream",
     "text": [
      "epoch: 180 loss:0.317824 auc:0.5838\n",
      "Fit finished.\n",
      "epoch:   0 loss:0.814799 auc:0.3698\n",
      "epoch:  20 loss:0.599398 auc:0.6736\n",
      "epoch:  40 loss:0.546144 auc:0.6240\n",
      "epoch:  60 loss:0.455837 auc:0.5434\n",
      "epoch:  80 loss:0.393956 auc:0.5455\n",
      "epoch: 100 loss:0.361607 auc:0.5475\n",
      "epoch: 120 loss:0.343871 auc:0.5393\n",
      "epoch: 140 loss:0.333443 auc:0.5289\n",
      "epoch: 160 loss:0.326831 auc:0.5165\n"
     ]
    },
    {
     "name": "stderr",
     "output_type": "stream",
     "text": [
      " 65%|██████▌   | 658/1005 [1:24:39<33:56,  5.87s/it]"
     ]
    },
    {
     "name": "stdout",
     "output_type": "stream",
     "text": [
      "epoch: 180 loss:0.322381 auc:0.5165\n",
      "Fit finished.\n",
      "epoch:   0 loss:0.779722 auc:0.4172\n",
      "epoch:  20 loss:0.558011 auc:0.6508\n",
      "epoch:  40 loss:0.436585 auc:0.4512\n",
      "epoch:  60 loss:0.372814 auc:0.4739\n",
      "epoch:  80 loss:0.343438 auc:0.4694\n",
      "epoch: 100 loss:0.329839 auc:0.4807\n",
      "epoch: 120 loss:0.322477 auc:0.4853\n",
      "epoch: 140 loss:0.318015 auc:0.4785\n",
      "epoch: 160 loss:0.315143 auc:0.4739\n"
     ]
    },
    {
     "name": "stderr",
     "output_type": "stream",
     "text": [
      " 66%|██████▌   | 659/1005 [1:24:45<33:46,  5.86s/it]"
     ]
    },
    {
     "name": "stdout",
     "output_type": "stream",
     "text": [
      "epoch: 180 loss:0.313199 auc:0.4853\n",
      "Fit finished.\n",
      "epoch:   0 loss:0.864496 auc:0.5500\n",
      "epoch:  20 loss:0.595953 auc:0.8200\n",
      "epoch:  40 loss:0.539955 auc:0.8000\n",
      "epoch:  60 loss:0.443442 auc:0.6875\n",
      "epoch:  80 loss:0.384064 auc:0.6437\n",
      "epoch: 100 loss:0.354980 auc:0.6200\n",
      "epoch: 120 loss:0.339580 auc:0.6062\n",
      "epoch: 140 loss:0.330531 auc:0.6012\n",
      "epoch: 160 loss:0.324680 auc:0.6038\n"
     ]
    },
    {
     "name": "stderr",
     "output_type": "stream",
     "text": [
      " 66%|██████▌   | 660/1005 [1:24:50<32:31,  5.66s/it]"
     ]
    },
    {
     "name": "stdout",
     "output_type": "stream",
     "text": [
      "epoch: 180 loss:0.320657 auc:0.6000\n",
      "Fit finished.\n",
      "epoch:   0 loss:0.782525 auc:0.5888\n",
      "epoch:  20 loss:0.572557 auc:0.7728\n",
      "epoch:  40 loss:0.451790 auc:0.6880\n",
      "epoch:  60 loss:0.376053 auc:0.7296\n",
      "epoch:  80 loss:0.346201 auc:0.7344\n",
      "epoch: 100 loss:0.332113 auc:0.7296\n",
      "epoch: 120 loss:0.324252 auc:0.7232\n",
      "epoch: 140 loss:0.319364 auc:0.7200\n",
      "epoch: 160 loss:0.316145 auc:0.7136\n"
     ]
    },
    {
     "name": "stderr",
     "output_type": "stream",
     "text": [
      " 66%|██████▌   | 661/1005 [1:24:56<32:02,  5.59s/it]"
     ]
    },
    {
     "name": "stdout",
     "output_type": "stream",
     "text": [
      "epoch: 180 loss:0.313953 auc:0.7104\n",
      "Fit finished.\n",
      "epoch:   0 loss:0.812385 auc:0.4917\n",
      "epoch:  20 loss:0.597682 auc:0.7727\n",
      "epoch:  40 loss:0.531142 auc:0.7969\n",
      "epoch:  60 loss:0.447894 auc:0.7816\n",
      "epoch:  80 loss:0.396269 auc:0.7727\n",
      "epoch: 100 loss:0.365296 auc:0.7471\n",
      "epoch: 120 loss:0.346637 auc:0.7331\n",
      "epoch: 140 loss:0.335134 auc:0.7267\n",
      "epoch: 160 loss:0.327880 auc:0.7241\n"
     ]
    },
    {
     "name": "stderr",
     "output_type": "stream",
     "text": [
      " 66%|██████▌   | 662/1005 [1:25:02<32:49,  5.74s/it]"
     ]
    },
    {
     "name": "stdout",
     "output_type": "stream",
     "text": [
      "epoch: 180 loss:0.322988 auc:0.7254\n",
      "Fit finished.\n",
      "epoch:   0 loss:0.778539 auc:0.5485\n",
      "epoch:  20 loss:0.580327 auc:0.7285\n",
      "epoch:  40 loss:0.476563 auc:0.7230\n",
      "epoch:  60 loss:0.394803 auc:0.7396\n",
      "epoch:  80 loss:0.356393 auc:0.7590\n",
      "epoch: 100 loss:0.338202 auc:0.7507\n",
      "epoch: 120 loss:0.328095 auc:0.7507\n",
      "epoch: 140 loss:0.321967 auc:0.7507\n",
      "epoch: 160 loss:0.318052 auc:0.7368\n",
      "epoch: 180 loss:0.315431 auc:0.7368\n",
      "epoch: 200 loss:0.313585 auc:0.7396\n",
      "epoch: 220 loss:0.312239 auc:0.7479\n"
     ]
    },
    {
     "name": "stderr",
     "output_type": "stream",
     "text": [
      " 66%|██████▌   | 663/1005 [1:25:09<34:33,  6.06s/it]"
     ]
    },
    {
     "name": "stdout",
     "output_type": "stream",
     "text": [
      "epoch: 240 loss:0.311227 auc:0.7479\n",
      "Fit finished.\n",
      "epoch:   0 loss:0.860104 auc:0.5851\n",
      "epoch:  20 loss:0.598787 auc:0.7691\n",
      "epoch:  40 loss:0.530043 auc:0.7639\n",
      "epoch:  60 loss:0.439399 auc:0.7118\n",
      "epoch:  80 loss:0.390164 auc:0.7656\n",
      "epoch: 100 loss:0.361545 auc:0.7639\n",
      "epoch: 120 loss:0.344377 auc:0.7587\n",
      "epoch: 140 loss:0.333845 auc:0.7604\n",
      "epoch: 160 loss:0.326980 auc:0.7604\n"
     ]
    },
    {
     "name": "stderr",
     "output_type": "stream",
     "text": [
      " 66%|██████▌   | 665/1005 [1:25:14<25:30,  4.50s/it]"
     ]
    },
    {
     "name": "stdout",
     "output_type": "stream",
     "text": [
      "epoch: 180 loss:0.322246 auc:0.7674\n",
      "Fit finished.\n",
      "epoch:   0 loss:0.758504 auc:0.6042\n",
      "epoch:  20 loss:0.570769 auc:0.7361\n",
      "epoch:  40 loss:0.444256 auc:0.6858\n",
      "epoch:  60 loss:0.370987 auc:0.6493\n",
      "epoch:  80 loss:0.341516 auc:0.6302\n",
      "epoch: 100 loss:0.328658 auc:0.6198\n",
      "epoch: 120 loss:0.321735 auc:0.6111\n",
      "epoch: 140 loss:0.317554 auc:0.6128\n",
      "epoch: 160 loss:0.314854 auc:0.6042\n"
     ]
    },
    {
     "name": "stderr",
     "output_type": "stream",
     "text": [
      " 66%|██████▋   | 666/1005 [1:25:19<26:19,  4.66s/it]"
     ]
    },
    {
     "name": "stdout",
     "output_type": "stream",
     "text": [
      "epoch: 180 loss:0.312998 auc:0.5938\n",
      "Fit finished.\n",
      "epoch:   0 loss:0.778239 auc:0.4855\n",
      "epoch:  20 loss:0.552639 auc:0.6860\n",
      "epoch:  40 loss:0.427813 auc:0.6860\n",
      "epoch:  60 loss:0.366302 auc:0.6591\n",
      "epoch:  80 loss:0.340445 auc:0.6570\n",
      "epoch: 100 loss:0.328226 auc:0.6632\n",
      "epoch: 120 loss:0.321183 auc:0.6694\n",
      "epoch: 140 loss:0.316773 auc:0.6570\n",
      "epoch: 160 loss:0.313908 auc:0.6570\n"
     ]
    },
    {
     "name": "stderr",
     "output_type": "stream",
     "text": [
      " 66%|██████▋   | 667/1005 [1:25:25<27:44,  4.92s/it]"
     ]
    },
    {
     "name": "stdout",
     "output_type": "stream",
     "text": [
      "epoch: 180 loss:0.312001 auc:0.6612\n",
      "Fit finished.\n",
      "epoch:   0 loss:0.826785 auc:0.5440\n",
      "epoch:  20 loss:0.580324 auc:0.7696\n",
      "epoch:  40 loss:0.478835 auc:0.6528\n",
      "epoch:  60 loss:0.397813 auc:0.6096\n",
      "epoch:  80 loss:0.356959 auc:0.5904\n",
      "epoch: 100 loss:0.338077 auc:0.5792\n",
      "epoch: 120 loss:0.328296 auc:0.5808\n",
      "epoch: 140 loss:0.322466 auc:0.5824\n",
      "epoch: 160 loss:0.318668 auc:0.5872\n"
     ]
    },
    {
     "name": "stderr",
     "output_type": "stream",
     "text": [
      " 66%|██████▋   | 668/1005 [1:25:30<28:25,  5.06s/it]"
     ]
    },
    {
     "name": "stdout",
     "output_type": "stream",
     "text": [
      "epoch: 180 loss:0.316041 auc:0.5888\n",
      "Fit finished.\n",
      "epoch:   0 loss:0.779113 auc:0.5051\n",
      "epoch:  20 loss:0.575015 auc:0.6263\n",
      "epoch:  40 loss:0.460381 auc:0.6633\n",
      "epoch:  60 loss:0.382643 auc:0.6620\n",
      "epoch:  80 loss:0.349033 auc:0.6696\n",
      "epoch: 100 loss:0.333344 auc:0.6760\n",
      "epoch: 120 loss:0.324953 auc:0.6735\n",
      "epoch: 140 loss:0.320002 auc:0.6773\n",
      "epoch: 160 loss:0.316737 auc:0.6722\n",
      "epoch: 180 loss:0.314424 auc:0.6760\n",
      "epoch: 200 loss:0.312730 auc:0.6735\n",
      "epoch: 220 loss:0.311477 auc:0.6722\n",
      "epoch: 240 loss:0.310541 auc:0.6722\n"
     ]
    },
    {
     "name": "stderr",
     "output_type": "stream",
     "text": [
      " 67%|██████▋   | 669/1005 [1:25:38<32:10,  5.75s/it]"
     ]
    },
    {
     "name": "stdout",
     "output_type": "stream",
     "text": [
      "epoch: 260 loss:0.309830 auc:0.6709\n",
      "Fit finished.\n",
      "epoch:   0 loss:0.784885 auc:0.4307\n",
      "epoch:  20 loss:0.592739 auc:0.7723\n",
      "epoch:  40 loss:0.509881 auc:0.7517\n",
      "epoch:  60 loss:0.425438 auc:0.7682\n",
      "epoch:  80 loss:0.375682 auc:0.7586\n",
      "epoch: 100 loss:0.349202 auc:0.7421\n",
      "epoch: 120 loss:0.335099 auc:0.7133\n",
      "epoch: 140 loss:0.326940 auc:0.6982\n",
      "epoch: 160 loss:0.321777 auc:0.6872\n"
     ]
    },
    {
     "name": "stderr",
     "output_type": "stream",
     "text": [
      " 67%|██████▋   | 670/1005 [1:25:44<32:14,  5.77s/it]"
     ]
    },
    {
     "name": "stdout",
     "output_type": "stream",
     "text": [
      "epoch: 180 loss:0.318301 auc:0.6776\n",
      "Fit finished.\n",
      "epoch:   0 loss:0.796841 auc:0.5808\n",
      "epoch:  20 loss:0.574403 auc:0.7088\n",
      "epoch:  40 loss:0.453915 auc:0.7248\n",
      "epoch:  60 loss:0.375762 auc:0.7312\n",
      "epoch:  80 loss:0.345091 auc:0.7296\n",
      "epoch: 100 loss:0.330468 auc:0.7312\n",
      "epoch: 120 loss:0.322658 auc:0.7312\n",
      "epoch: 140 loss:0.318083 auc:0.7280\n",
      "epoch: 160 loss:0.315166 auc:0.7312\n",
      "epoch: 180 loss:0.313186 auc:0.7360\n",
      "epoch: 200 loss:0.311773 auc:0.7376\n",
      "epoch: 220 loss:0.310739 auc:0.7376\n",
      "epoch: 240 loss:0.309969 auc:0.7376\n",
      "epoch: 260 loss:0.309384 auc:0.7360\n",
      "epoch: 280 loss:0.308927 auc:0.7360\n",
      "epoch: 300 loss:0.308561 auc:0.7344\n",
      "epoch: 320 loss:0.308266 auc:0.7376\n",
      "epoch: 340 loss:0.308024 auc:0.7408\n",
      "epoch: 360 loss:0.307826 auc:0.7424\n",
      "epoch: 380 loss:0.307665 auc:0.7440\n",
      "epoch: 400 loss:0.307534 auc:0.7440\n",
      "epoch: 420 loss:0.307426 auc:0.7424\n",
      "epoch: 440 loss:0.307338 auc:0.7408\n",
      "epoch: 460 loss:0.307264 auc:0.7392\n",
      "epoch: 480 loss:0.307203 auc:0.7376\n"
     ]
    },
    {
     "name": "stderr",
     "output_type": "stream",
     "text": [
      " 67%|██████▋   | 672/1005 [1:25:57<33:49,  6.09s/it]"
     ]
    },
    {
     "name": "stdout",
     "output_type": "stream",
     "text": [
      "epoch: 500 loss:0.307172 auc:0.7360\n",
      "Fit finished.\n",
      "epoch:   0 loss:0.796748 auc:0.6146\n",
      "epoch:  20 loss:0.598524 auc:0.5608\n",
      "epoch:  40 loss:0.534379 auc:0.6024\n",
      "epoch:  60 loss:0.438819 auc:0.6128\n",
      "epoch:  80 loss:0.383604 auc:0.6441\n",
      "epoch: 100 loss:0.355702 auc:0.6389\n",
      "epoch: 120 loss:0.340681 auc:0.6493\n",
      "epoch: 140 loss:0.331703 auc:0.6545\n",
      "epoch: 160 loss:0.325855 auc:0.6580\n",
      "epoch: 180 loss:0.321757 auc:0.6632\n",
      "epoch: 200 loss:0.318753 auc:0.6649\n",
      "epoch: 220 loss:0.316468 auc:0.6667\n",
      "epoch: 240 loss:0.314683 auc:0.6719\n",
      "epoch: 260 loss:0.313266 auc:0.6736\n",
      "epoch: 280 loss:0.312135 auc:0.6736\n",
      "epoch: 300 loss:0.311226 auc:0.6736\n",
      "epoch: 320 loss:0.310492 auc:0.6719\n",
      "epoch: 340 loss:0.309896 auc:0.6684\n",
      "epoch: 360 loss:0.309411 auc:0.6667\n"
     ]
    },
    {
     "name": "stderr",
     "output_type": "stream",
     "text": [
      " 67%|██████▋   | 673/1005 [1:26:06<38:50,  7.02s/it]"
     ]
    },
    {
     "name": "stdout",
     "output_type": "stream",
     "text": [
      "epoch: 380 loss:0.309013 auc:0.6615\n",
      "Fit finished.\n",
      "epoch:   0 loss:0.791161 auc:0.6371\n",
      "epoch:  20 loss:0.576412 auc:0.7285\n",
      "epoch:  40 loss:0.462661 auc:0.6731\n",
      "epoch:  60 loss:0.387863 auc:0.6676\n",
      "epoch:  80 loss:0.351928 auc:0.6648\n",
      "epoch: 100 loss:0.334515 auc:0.6731\n",
      "epoch: 120 loss:0.325308 auc:0.6648\n",
      "epoch: 140 loss:0.319902 auc:0.6620\n",
      "epoch: 160 loss:0.316472 auc:0.6620\n"
     ]
    },
    {
     "name": "stderr",
     "output_type": "stream",
     "text": [
      " 67%|██████▋   | 674/1005 [1:26:12<36:41,  6.65s/it]"
     ]
    },
    {
     "name": "stdout",
     "output_type": "stream",
     "text": [
      "epoch: 180 loss:0.314183 auc:0.6648\n",
      "Fit finished.\n",
      "epoch:   0 loss:0.806532 auc:0.4196\n",
      "epoch:  20 loss:0.588107 auc:0.7730\n",
      "epoch:  40 loss:0.500754 auc:0.7538\n",
      "epoch:  60 loss:0.423663 auc:0.7819\n",
      "epoch:  80 loss:0.375125 auc:0.7959\n",
      "epoch: 100 loss:0.349823 auc:0.7806\n",
      "epoch: 120 loss:0.335400 auc:0.7691\n",
      "epoch: 140 loss:0.326946 auc:0.7653\n",
      "epoch: 160 loss:0.321803 auc:0.7615\n"
     ]
    },
    {
     "name": "stderr",
     "output_type": "stream",
     "text": [
      " 67%|██████▋   | 675/1005 [1:26:17<34:41,  6.31s/it]"
     ]
    },
    {
     "name": "stdout",
     "output_type": "stream",
     "text": [
      "epoch: 180 loss:0.318441 auc:0.7615\n",
      "Fit finished.\n",
      "epoch:   0 loss:0.794340 auc:0.5621\n",
      "epoch:  20 loss:0.575663 auc:0.6553\n",
      "epoch:  40 loss:0.474682 auc:0.6612\n",
      "epoch:  60 loss:0.401151 auc:0.6805\n",
      "epoch:  80 loss:0.362770 auc:0.6997\n",
      "epoch: 100 loss:0.343179 auc:0.7071\n",
      "epoch: 120 loss:0.332210 auc:0.7130\n",
      "epoch: 140 loss:0.325451 auc:0.7071\n",
      "epoch: 160 loss:0.320948 auc:0.7056\n",
      "epoch: 180 loss:0.317778 auc:0.7012\n",
      "epoch: 200 loss:0.315474 auc:0.7027\n",
      "epoch: 220 loss:0.313746 auc:0.7056\n",
      "epoch: 240 loss:0.312418 auc:0.7027\n"
     ]
    },
    {
     "name": "stderr",
     "output_type": "stream",
     "text": [
      " 67%|██████▋   | 676/1005 [1:26:25<36:23,  6.64s/it]"
     ]
    },
    {
     "name": "stdout",
     "output_type": "stream",
     "text": [
      "epoch: 260 loss:0.311387 auc:0.7056\n",
      "Fit finished.\n",
      "epoch:   0 loss:0.785403 auc:0.4348\n",
      "epoch:  20 loss:0.581690 auc:0.5936\n",
      "epoch:  40 loss:0.486143 auc:0.5312\n",
      "epoch:  60 loss:0.402276 auc:0.4707\n",
      "epoch:  80 loss:0.361524 auc:0.4783\n",
      "epoch: 100 loss:0.341811 auc:0.4839\n",
      "epoch: 120 loss:0.331024 auc:0.4839\n",
      "epoch: 140 loss:0.324485 auc:0.4839\n",
      "epoch: 160 loss:0.320192 auc:0.4858\n"
     ]
    },
    {
     "name": "stderr",
     "output_type": "stream",
     "text": [
      " 67%|██████▋   | 677/1005 [1:26:31<34:55,  6.39s/it]"
     ]
    },
    {
     "name": "stdout",
     "output_type": "stream",
     "text": [
      "epoch: 180 loss:0.317206 auc:0.4820\n",
      "Fit finished.\n",
      "epoch:   0 loss:0.786928 auc:0.5873\n",
      "epoch:  20 loss:0.577089 auc:0.7029\n",
      "epoch:  40 loss:0.461009 auc:0.7166\n",
      "epoch:  60 loss:0.381843 auc:0.7279\n",
      "epoch:  80 loss:0.347059 auc:0.7120\n",
      "epoch: 100 loss:0.331878 auc:0.7075\n",
      "epoch: 120 loss:0.323878 auc:0.7007\n",
      "epoch: 140 loss:0.319020 auc:0.6984\n",
      "epoch: 160 loss:0.315887 auc:0.6825\n"
     ]
    },
    {
     "name": "stderr",
     "output_type": "stream",
     "text": [
      " 67%|██████▋   | 678/1005 [1:26:36<33:53,  6.22s/it]"
     ]
    },
    {
     "name": "stdout",
     "output_type": "stream",
     "text": [
      "epoch: 180 loss:0.313759 auc:0.6757\n",
      "Fit finished.\n",
      "epoch:   0 loss:0.805583 auc:0.5969\n",
      "epoch:  20 loss:0.600621 auc:0.8622\n",
      "epoch:  40 loss:0.533016 auc:0.8673\n",
      "epoch:  60 loss:0.438165 auc:0.8878\n",
      "epoch:  80 loss:0.382003 auc:0.8776\n",
      "epoch: 100 loss:0.352687 auc:0.8776\n",
      "epoch: 120 loss:0.337323 auc:0.8724\n",
      "epoch: 140 loss:0.328634 auc:0.8724\n",
      "epoch: 160 loss:0.323138 auc:0.8776\n",
      "epoch: 180 loss:0.319371 auc:0.8827\n",
      "epoch: 200 loss:0.316681 auc:0.8776\n"
     ]
    },
    {
     "name": "stderr",
     "output_type": "stream",
     "text": [
      " 68%|██████▊   | 679/1005 [1:26:43<33:34,  6.18s/it]"
     ]
    },
    {
     "name": "stdout",
     "output_type": "stream",
     "text": [
      "epoch: 220 loss:0.314708 auc:0.8827\n",
      "Fit finished.\n",
      "epoch:   0 loss:0.780310 auc:0.4500\n",
      "epoch:  20 loss:0.564454 auc:0.6400\n",
      "epoch:  40 loss:0.438952 auc:0.6775\n",
      "epoch:  60 loss:0.374025 auc:0.6925\n",
      "epoch:  80 loss:0.344413 auc:0.7100\n",
      "epoch: 100 loss:0.330308 auc:0.7000\n",
      "epoch: 120 loss:0.322779 auc:0.7050\n",
      "epoch: 140 loss:0.318269 auc:0.6950\n",
      "epoch: 160 loss:0.315341 auc:0.7050\n",
      "epoch: 180 loss:0.313339 auc:0.6950\n",
      "epoch: 200 loss:0.311912 auc:0.6825\n"
     ]
    },
    {
     "name": "stderr",
     "output_type": "stream",
     "text": [
      " 68%|██████▊   | 680/1005 [1:26:49<33:59,  6.27s/it]"
     ]
    },
    {
     "name": "stdout",
     "output_type": "stream",
     "text": [
      "epoch: 220 loss:0.310869 auc:0.6800\n",
      "Fit finished.\n",
      "epoch:   0 loss:0.792753 auc:0.5278\n",
      "epoch:  20 loss:0.585846 auc:0.4861\n",
      "epoch:  40 loss:0.489842 auc:0.5625\n",
      "epoch:  60 loss:0.394035 auc:0.6528\n",
      "epoch:  80 loss:0.353592 auc:0.6250\n",
      "epoch: 100 loss:0.336016 auc:0.6250\n",
      "epoch: 120 loss:0.326982 auc:0.6181\n",
      "epoch: 140 loss:0.321513 auc:0.6111\n",
      "epoch: 160 loss:0.317885 auc:0.6111\n",
      "epoch: 180 loss:0.315361 auc:0.6042\n",
      "epoch: 200 loss:0.313547 auc:0.6042\n"
     ]
    },
    {
     "name": "stderr",
     "output_type": "stream",
     "text": [
      " 68%|██████▊   | 681/1005 [1:26:55<33:43,  6.24s/it]"
     ]
    },
    {
     "name": "stdout",
     "output_type": "stream",
     "text": [
      "epoch: 220 loss:0.312200 auc:0.6042\n",
      "Fit finished.\n",
      "epoch:   0 loss:0.848537 auc:0.2990\n",
      "epoch:  20 loss:0.597764 auc:0.6049\n",
      "epoch:  40 loss:0.538396 auc:0.5871\n",
      "epoch:  60 loss:0.441578 auc:0.5364\n",
      "epoch:  80 loss:0.385574 auc:0.5185\n",
      "epoch: 100 loss:0.356109 auc:0.5021\n",
      "epoch: 120 loss:0.339793 auc:0.5007\n",
      "epoch: 140 loss:0.330524 auc:0.4897\n",
      "epoch: 160 loss:0.324794 auc:0.4870\n"
     ]
    },
    {
     "name": "stderr",
     "output_type": "stream",
     "text": [
      " 68%|██████▊   | 682/1005 [1:27:01<33:30,  6.22s/it]"
     ]
    },
    {
     "name": "stdout",
     "output_type": "stream",
     "text": [
      "epoch: 180 loss:0.320916 auc:0.4870\n",
      "Fit finished.\n",
      "epoch:   0 loss:0.795181 auc:0.5690\n",
      "epoch:  20 loss:0.599916 auc:0.6810\n",
      "epoch:  40 loss:0.545921 auc:0.6289\n",
      "epoch:  60 loss:0.437384 auc:0.5221\n",
      "epoch:  80 loss:0.379737 auc:0.5469\n",
      "epoch: 100 loss:0.352405 auc:0.5352\n",
      "epoch: 120 loss:0.337744 auc:0.5234\n",
      "epoch: 140 loss:0.328989 auc:0.5104\n"
     ]
    },
    {
     "name": "stderr",
     "output_type": "stream",
     "text": [
      " 68%|██████▊   | 683/1005 [1:27:06<31:27,  5.86s/it]"
     ]
    },
    {
     "name": "stdout",
     "output_type": "stream",
     "text": [
      "epoch: 160 loss:0.323311 auc:0.5104\n",
      "Fit finished.\n",
      "epoch:   0 loss:0.817984 auc:0.5784\n",
      "epoch:  20 loss:0.577156 auc:0.7580\n",
      "epoch:  40 loss:0.465128 auc:0.7127\n",
      "epoch:  60 loss:0.394617 auc:0.7164\n",
      "epoch:  80 loss:0.357736 auc:0.7089\n",
      "epoch: 100 loss:0.339327 auc:0.6730\n",
      "epoch: 120 loss:0.329239 auc:0.6484\n",
      "epoch: 140 loss:0.323179 auc:0.6484\n",
      "epoch: 160 loss:0.319214 auc:0.6503\n"
     ]
    },
    {
     "name": "stderr",
     "output_type": "stream",
     "text": [
      " 68%|██████▊   | 684/1005 [1:27:12<31:07,  5.82s/it]"
     ]
    },
    {
     "name": "stdout",
     "output_type": "stream",
     "text": [
      "epoch: 180 loss:0.316446 auc:0.6578\n",
      "Fit finished.\n",
      "epoch:   0 loss:0.820824 auc:0.4186\n",
      "epoch:  20 loss:0.592050 auc:0.8195\n",
      "epoch:  40 loss:0.504541 auc:0.7870\n",
      "epoch:  60 loss:0.414526 auc:0.7456\n",
      "epoch:  80 loss:0.370499 auc:0.7249\n",
      "epoch: 100 loss:0.347850 auc:0.7308\n",
      "epoch: 120 loss:0.335491 auc:0.7219\n",
      "epoch: 140 loss:0.328032 auc:0.7189\n",
      "epoch: 160 loss:0.323068 auc:0.7263\n"
     ]
    },
    {
     "name": "stderr",
     "output_type": "stream",
     "text": [
      " 68%|██████▊   | 685/1005 [1:27:17<30:10,  5.66s/it]"
     ]
    },
    {
     "name": "stdout",
     "output_type": "stream",
     "text": [
      "epoch: 180 loss:0.319529 auc:0.7175\n",
      "Fit finished.\n",
      "epoch:   0 loss:0.808812 auc:0.7258\n",
      "epoch:  20 loss:0.576182 auc:0.7590\n",
      "epoch:  40 loss:0.462083 auc:0.7756\n",
      "epoch:  60 loss:0.384936 auc:0.7950\n",
      "epoch:  80 loss:0.352019 auc:0.7729\n",
      "epoch: 100 loss:0.336050 auc:0.7645\n",
      "epoch: 120 loss:0.326990 auc:0.7590\n",
      "epoch: 140 loss:0.321378 auc:0.7535\n",
      "epoch: 160 loss:0.317687 auc:0.7562\n",
      "epoch: 180 loss:0.315158 auc:0.7618\n"
     ]
    },
    {
     "name": "stderr",
     "output_type": "stream",
     "text": [
      " 68%|██████▊   | 686/1005 [1:27:23<30:20,  5.71s/it]"
     ]
    },
    {
     "name": "stdout",
     "output_type": "stream",
     "text": [
      "epoch: 200 loss:0.313381 auc:0.7673\n",
      "Fit finished.\n",
      "epoch:   0 loss:0.811937 auc:0.4197\n",
      "epoch:  20 loss:0.599695 auc:0.6528\n",
      "epoch:  40 loss:0.546776 auc:0.6480\n",
      "epoch:  60 loss:0.459383 auc:0.5933\n",
      "epoch:  80 loss:0.396174 auc:0.5589\n",
      "epoch: 100 loss:0.363195 auc:0.5672\n",
      "epoch: 120 loss:0.345398 auc:0.5660\n",
      "epoch: 140 loss:0.334840 auc:0.5553\n",
      "epoch: 160 loss:0.328099 auc:0.5446\n"
     ]
    },
    {
     "name": "stderr",
     "output_type": "stream",
     "text": [
      " 68%|██████▊   | 688/1005 [1:27:29<23:05,  4.37s/it]"
     ]
    },
    {
     "name": "stdout",
     "output_type": "stream",
     "text": [
      "epoch: 180 loss:0.323475 auc:0.5434\n",
      "Fit finished.\n",
      "epoch:   0 loss:0.813903 auc:0.3831\n",
      "epoch:  20 loss:0.599009 auc:0.7041\n",
      "epoch:  40 loss:0.518933 auc:0.6672\n",
      "epoch:  60 loss:0.424390 auc:0.5695\n",
      "epoch:  80 loss:0.376291 auc:0.5118\n",
      "epoch: 100 loss:0.350949 auc:0.5104\n",
      "epoch: 120 loss:0.336717 auc:0.5089\n",
      "epoch: 140 loss:0.328203 auc:0.5074\n",
      "epoch: 160 loss:0.322756 auc:0.5059\n"
     ]
    },
    {
     "name": "stderr",
     "output_type": "stream",
     "text": [
      " 69%|██████▊   | 689/1005 [1:27:34<24:35,  4.67s/it]"
     ]
    },
    {
     "name": "stdout",
     "output_type": "stream",
     "text": [
      "epoch: 180 loss:0.319020 auc:0.5074\n",
      "Fit finished.\n",
      "epoch:   0 loss:0.781912 auc:0.5156\n",
      "epoch:  20 loss:0.586050 auc:0.7240\n",
      "epoch:  40 loss:0.502132 auc:0.7170\n",
      "epoch:  60 loss:0.405268 auc:0.7083\n",
      "epoch:  80 loss:0.361274 auc:0.6771\n",
      "epoch: 100 loss:0.341304 auc:0.6580\n",
      "epoch: 120 loss:0.330300 auc:0.6510\n",
      "epoch: 140 loss:0.323761 auc:0.6441\n",
      "epoch: 160 loss:0.319540 auc:0.6458\n"
     ]
    },
    {
     "name": "stderr",
     "output_type": "stream",
     "text": [
      " 69%|██████▊   | 690/1005 [1:27:40<26:04,  4.97s/it]"
     ]
    },
    {
     "name": "stdout",
     "output_type": "stream",
     "text": [
      "epoch: 180 loss:0.316651 auc:0.6458\n",
      "Fit finished.\n",
      "epoch:   0 loss:0.794556 auc:0.5744\n",
      "epoch:  20 loss:0.595592 auc:0.7184\n",
      "epoch:  40 loss:0.526026 auc:0.7376\n",
      "epoch:  60 loss:0.426382 auc:0.7328\n",
      "epoch:  80 loss:0.374000 auc:0.7616\n",
      "epoch: 100 loss:0.348082 auc:0.7712\n",
      "epoch: 120 loss:0.334470 auc:0.7680\n",
      "epoch: 140 loss:0.326518 auc:0.7664\n",
      "epoch: 160 loss:0.321465 auc:0.7744\n",
      "epoch: 180 loss:0.318024 auc:0.7728\n",
      "epoch: 200 loss:0.315582 auc:0.7744\n",
      "epoch: 220 loss:0.313802 auc:0.7696\n",
      "epoch: 240 loss:0.312476 auc:0.7696\n"
     ]
    },
    {
     "name": "stderr",
     "output_type": "stream",
     "text": [
      " 69%|██████▉   | 691/1005 [1:27:48<29:39,  5.67s/it]"
     ]
    },
    {
     "name": "stdout",
     "output_type": "stream",
     "text": [
      "epoch: 260 loss:0.311466 auc:0.7696\n",
      "Fit finished.\n",
      "epoch:   0 loss:0.809427 auc:0.5264\n",
      "epoch:  20 loss:0.596916 auc:0.7216\n",
      "epoch:  40 loss:0.534591 auc:0.7248\n",
      "epoch:  60 loss:0.437758 auc:0.7072\n",
      "epoch:  80 loss:0.383025 auc:0.6784\n",
      "epoch: 100 loss:0.354980 auc:0.6752\n",
      "epoch: 120 loss:0.339797 auc:0.6816\n",
      "epoch: 140 loss:0.330727 auc:0.6880\n",
      "epoch: 160 loss:0.324848 auc:0.6816\n"
     ]
    },
    {
     "name": "stderr",
     "output_type": "stream",
     "text": [
      " 69%|██████▉   | 692/1005 [1:27:53<29:20,  5.62s/it]"
     ]
    },
    {
     "name": "stdout",
     "output_type": "stream",
     "text": [
      "epoch: 180 loss:0.320821 auc:0.6816\n",
      "Fit finished.\n",
      "epoch:   0 loss:0.823104 auc:0.5312\n",
      "epoch:  20 loss:0.594006 auc:0.6753\n",
      "epoch:  40 loss:0.511968 auc:0.6771\n",
      "epoch:  60 loss:0.422363 auc:0.6476\n",
      "epoch:  80 loss:0.375206 auc:0.6354\n",
      "epoch: 100 loss:0.349671 auc:0.6389\n",
      "epoch: 120 loss:0.335822 auc:0.6441\n",
      "epoch: 140 loss:0.327647 auc:0.6441\n",
      "epoch: 160 loss:0.322404 auc:0.6389\n"
     ]
    },
    {
     "name": "stderr",
     "output_type": "stream",
     "text": [
      " 69%|██████▉   | 693/1005 [1:27:59<29:00,  5.58s/it]"
     ]
    },
    {
     "name": "stdout",
     "output_type": "stream",
     "text": [
      "epoch: 180 loss:0.318822 auc:0.6354\n",
      "Fit finished.\n",
      "epoch:   0 loss:0.792619 auc:0.5896\n",
      "epoch:  20 loss:0.593137 auc:0.6485\n",
      "epoch:  40 loss:0.509726 auc:0.6780\n",
      "epoch:  60 loss:0.425725 auc:0.6916\n",
      "epoch:  80 loss:0.377096 auc:0.6893\n",
      "epoch: 100 loss:0.350560 auc:0.6848\n",
      "epoch: 120 loss:0.336695 auc:0.6871\n",
      "epoch: 140 loss:0.328703 auc:0.6871\n",
      "epoch: 160 loss:0.323530 auc:0.6893\n",
      "epoch: 180 loss:0.319949 auc:0.6916\n",
      "epoch: 200 loss:0.317369 auc:0.6893\n"
     ]
    },
    {
     "name": "stderr",
     "output_type": "stream",
     "text": [
      " 69%|██████▉   | 694/1005 [1:28:05<30:21,  5.86s/it]"
     ]
    },
    {
     "name": "stdout",
     "output_type": "stream",
     "text": [
      "epoch: 220 loss:0.315462 auc:0.6848\n",
      "Fit finished.\n",
      "epoch:   0 loss:0.802159 auc:0.4376\n",
      "epoch:  20 loss:0.598143 auc:0.7490\n",
      "epoch:  40 loss:0.528151 auc:0.7257\n",
      "epoch:  60 loss:0.425105 auc:0.7064\n",
      "epoch:  80 loss:0.373677 auc:0.6968\n",
      "epoch: 100 loss:0.348277 auc:0.6804\n",
      "epoch: 120 loss:0.334921 auc:0.6735\n",
      "epoch: 140 loss:0.327038 auc:0.6763\n",
      "epoch: 160 loss:0.321933 auc:0.6653\n"
     ]
    },
    {
     "name": "stderr",
     "output_type": "stream",
     "text": [
      " 69%|██████▉   | 695/1005 [1:28:11<30:05,  5.83s/it]"
     ]
    },
    {
     "name": "stdout",
     "output_type": "stream",
     "text": [
      "epoch: 180 loss:0.318425 auc:0.6543\n",
      "Fit finished.\n",
      "epoch:   0 loss:0.799442 auc:0.3787\n",
      "epoch:  20 loss:0.579013 auc:0.6790\n",
      "epoch:  40 loss:0.478579 auc:0.7071\n",
      "epoch:  60 loss:0.392666 auc:0.6509\n",
      "epoch:  80 loss:0.355121 auc:0.6790\n",
      "epoch: 100 loss:0.337611 auc:0.6893\n",
      "epoch: 120 loss:0.328087 auc:0.6908\n",
      "epoch: 140 loss:0.322287 auc:0.6982\n",
      "epoch: 160 loss:0.318439 auc:0.7056\n",
      "epoch: 180 loss:0.315754 auc:0.7056\n"
     ]
    },
    {
     "name": "stderr",
     "output_type": "stream",
     "text": [
      " 69%|██████▉   | 696/1005 [1:28:17<29:55,  5.81s/it]"
     ]
    },
    {
     "name": "stdout",
     "output_type": "stream",
     "text": [
      "epoch: 200 loss:0.313827 auc:0.7012\n",
      "Fit finished.\n",
      "epoch:   0 loss:0.782051 auc:0.3567\n",
      "epoch:  20 loss:0.582462 auc:0.6742\n",
      "epoch:  40 loss:0.486965 auc:0.6290\n",
      "epoch:  60 loss:0.407657 auc:0.6064\n",
      "epoch:  80 loss:0.364428 auc:0.5910\n",
      "epoch: 100 loss:0.343522 auc:0.5731\n",
      "epoch: 120 loss:0.332280 auc:0.5636\n",
      "epoch: 140 loss:0.325409 auc:0.5589\n",
      "epoch: 160 loss:0.320907 auc:0.5589\n"
     ]
    },
    {
     "name": "stderr",
     "output_type": "stream",
     "text": [
      " 69%|██████▉   | 697/1005 [1:28:23<29:43,  5.79s/it]"
     ]
    },
    {
     "name": "stdout",
     "output_type": "stream",
     "text": [
      "epoch: 180 loss:0.317810 auc:0.5529\n",
      "Fit finished.\n",
      "epoch:   0 loss:0.817475 auc:0.5357\n",
      "epoch:  20 loss:0.581189 auc:0.4869\n",
      "epoch:  40 loss:0.489426 auc:0.4667\n",
      "epoch:  60 loss:0.400375 auc:0.4512\n",
      "epoch:  80 loss:0.357732 auc:0.4393\n",
      "epoch: 100 loss:0.338692 auc:0.4440\n",
      "epoch: 120 loss:0.328691 auc:0.4429\n",
      "epoch: 140 loss:0.322651 auc:0.4393\n"
     ]
    },
    {
     "name": "stderr",
     "output_type": "stream",
     "text": [
      " 69%|██████▉   | 698/1005 [1:28:27<28:09,  5.50s/it]"
     ]
    },
    {
     "name": "stdout",
     "output_type": "stream",
     "text": [
      "epoch: 160 loss:0.318692 auc:0.4298\n",
      "Fit finished.\n",
      "epoch:   0 loss:0.797063 auc:0.7000\n",
      "epoch:  20 loss:0.552354 auc:0.7875\n",
      "epoch:  40 loss:0.438010 auc:0.7425\n",
      "epoch:  60 loss:0.372862 auc:0.7350\n",
      "epoch:  80 loss:0.343671 auc:0.7375\n",
      "epoch: 100 loss:0.329790 auc:0.7575\n",
      "epoch: 120 loss:0.322382 auc:0.7600\n",
      "epoch: 140 loss:0.317996 auc:0.7700\n",
      "epoch: 160 loss:0.315142 auc:0.7725\n"
     ]
    },
    {
     "name": "stderr",
     "output_type": "stream",
     "text": [
      " 70%|██████▉   | 699/1005 [1:28:33<28:01,  5.50s/it]"
     ]
    },
    {
     "name": "stdout",
     "output_type": "stream",
     "text": [
      "epoch: 180 loss:0.313188 auc:0.7775\n",
      "Fit finished.\n",
      "epoch:   0 loss:0.762691 auc:0.6000\n",
      "epoch:  20 loss:0.597220 auc:0.7075\n",
      "epoch:  40 loss:0.518615 auc:0.6800\n",
      "epoch:  60 loss:0.427875 auc:0.6275\n",
      "epoch:  80 loss:0.379105 auc:0.6050\n",
      "epoch: 100 loss:0.353715 auc:0.5950\n",
      "epoch: 120 loss:0.339413 auc:0.5900\n",
      "epoch: 140 loss:0.330534 auc:0.5900\n"
     ]
    },
    {
     "name": "stderr",
     "output_type": "stream",
     "text": [
      " 70%|██████▉   | 700/1005 [1:28:38<27:05,  5.33s/it]"
     ]
    },
    {
     "name": "stdout",
     "output_type": "stream",
     "text": [
      "epoch: 160 loss:0.324720 auc:0.5925\n",
      "Fit finished.\n",
      "epoch:   0 loss:0.777452 auc:0.4529\n",
      "epoch:  20 loss:0.594891 auc:0.7497\n",
      "epoch:  40 loss:0.542743 auc:0.6981\n",
      "epoch:  60 loss:0.441248 auc:0.6748\n",
      "epoch:  80 loss:0.383915 auc:0.6697\n",
      "epoch: 100 loss:0.353817 auc:0.6826\n",
      "epoch: 120 loss:0.338143 auc:0.6761\n",
      "epoch: 140 loss:0.329318 auc:0.6826\n",
      "epoch: 160 loss:0.323778 auc:0.6826\n"
     ]
    },
    {
     "name": "stderr",
     "output_type": "stream",
     "text": [
      " 70%|██████▉   | 701/1005 [1:28:43<27:12,  5.37s/it]"
     ]
    },
    {
     "name": "stdout",
     "output_type": "stream",
     "text": [
      "epoch: 180 loss:0.320036 auc:0.6787\n",
      "Fit finished.\n",
      "epoch:   0 loss:0.809570 auc:0.4091\n",
      "epoch:  20 loss:0.596417 auc:0.5434\n",
      "epoch:  40 loss:0.538418 auc:0.4649\n",
      "epoch:  60 loss:0.446137 auc:0.3864\n",
      "epoch:  80 loss:0.386471 auc:0.4174\n",
      "epoch: 100 loss:0.355698 auc:0.4174\n",
      "epoch: 120 loss:0.340110 auc:0.4029\n",
      "epoch: 140 loss:0.331080 auc:0.3988\n"
     ]
    },
    {
     "name": "stderr",
     "output_type": "stream",
     "text": [
      " 70%|██████▉   | 702/1005 [1:28:49<26:55,  5.33s/it]"
     ]
    },
    {
     "name": "stdout",
     "output_type": "stream",
     "text": [
      "epoch: 160 loss:0.325240 auc:0.3967\n",
      "Fit finished.\n",
      "epoch:   0 loss:0.767079 auc:0.4142\n",
      "epoch:  20 loss:0.568847 auc:0.6080\n",
      "epoch:  40 loss:0.448356 auc:0.5518\n",
      "epoch:  60 loss:0.375280 auc:0.5754\n",
      "epoch:  80 loss:0.345150 auc:0.6124\n",
      "epoch: 100 loss:0.331244 auc:0.6139\n",
      "epoch: 120 loss:0.323621 auc:0.6169\n",
      "epoch: 140 loss:0.318924 auc:0.6095\n",
      "epoch: 160 loss:0.315843 auc:0.6036\n"
     ]
    },
    {
     "name": "stderr",
     "output_type": "stream",
     "text": [
      " 70%|██████▉   | 703/1005 [1:28:54<26:46,  5.32s/it]"
     ]
    },
    {
     "name": "stdout",
     "output_type": "stream",
     "text": [
      "epoch: 180 loss:0.313712 auc:0.6021\n",
      "Fit finished.\n",
      "epoch:   0 loss:0.839478 auc:0.5248\n",
      "epoch:  20 loss:0.604222 auc:0.7588\n",
      "epoch:  40 loss:0.554791 auc:0.7636\n",
      "epoch:  60 loss:0.468903 auc:0.7782\n",
      "epoch:  80 loss:0.399046 auc:0.7491\n",
      "epoch: 100 loss:0.363373 auc:0.7248\n",
      "epoch: 120 loss:0.344182 auc:0.7212\n",
      "epoch: 140 loss:0.333252 auc:0.7333\n",
      "epoch: 160 loss:0.326517 auc:0.7442\n"
     ]
    },
    {
     "name": "stderr",
     "output_type": "stream",
     "text": [
      " 70%|███████   | 704/1005 [1:29:00<27:27,  5.47s/it]"
     ]
    },
    {
     "name": "stdout",
     "output_type": "stream",
     "text": [
      "epoch: 180 loss:0.322049 auc:0.7406\n",
      "Fit finished.\n",
      "epoch:   0 loss:0.805583 auc:0.5638\n",
      "epoch:  20 loss:0.593538 auc:0.7959\n",
      "epoch:  40 loss:0.505604 auc:0.7615\n",
      "epoch:  60 loss:0.416580 auc:0.7564\n",
      "epoch:  80 loss:0.369310 auc:0.7500\n",
      "epoch: 100 loss:0.346318 auc:0.7372\n",
      "epoch: 120 loss:0.333949 auc:0.7309\n",
      "epoch: 140 loss:0.326477 auc:0.7334\n",
      "epoch: 160 loss:0.321613 auc:0.7347\n"
     ]
    },
    {
     "name": "stderr",
     "output_type": "stream",
     "text": [
      " 70%|███████   | 705/1005 [1:29:06<28:01,  5.61s/it]"
     ]
    },
    {
     "name": "stdout",
     "output_type": "stream",
     "text": [
      "epoch: 180 loss:0.318292 auc:0.7334\n",
      "Fit finished.\n",
      "epoch:   0 loss:0.776366 auc:0.4386\n",
      "epoch:  20 loss:0.596006 auc:0.6767\n",
      "epoch:  40 loss:0.527898 auc:0.6597\n",
      "epoch:  60 loss:0.433139 auc:0.6938\n",
      "epoch:  80 loss:0.382619 auc:0.7221\n",
      "epoch: 100 loss:0.355614 auc:0.7146\n",
      "epoch: 120 loss:0.340228 auc:0.6938\n",
      "epoch: 140 loss:0.330884 auc:0.6786\n",
      "epoch: 160 loss:0.324899 auc:0.6711\n"
     ]
    },
    {
     "name": "stderr",
     "output_type": "stream",
     "text": [
      " 70%|███████   | 706/1005 [1:29:11<27:22,  5.49s/it]"
     ]
    },
    {
     "name": "stdout",
     "output_type": "stream",
     "text": [
      "epoch: 180 loss:0.320851 auc:0.6616\n",
      "Fit finished.\n",
      "epoch:   0 loss:0.795575 auc:0.4690\n",
      "epoch:  20 loss:0.588694 auc:0.6591\n",
      "epoch:  40 loss:0.503389 auc:0.6818\n",
      "epoch:  60 loss:0.417454 auc:0.7149\n",
      "epoch:  80 loss:0.371451 auc:0.7066\n",
      "epoch: 100 loss:0.347937 auc:0.6860\n",
      "epoch: 120 loss:0.335057 auc:0.6777\n",
      "epoch: 140 loss:0.327383 auc:0.6818\n",
      "epoch: 160 loss:0.322451 auc:0.6715\n"
     ]
    },
    {
     "name": "stderr",
     "output_type": "stream",
     "text": [
      " 70%|███████   | 707/1005 [1:29:16<27:24,  5.52s/it]"
     ]
    },
    {
     "name": "stdout",
     "output_type": "stream",
     "text": [
      "epoch: 180 loss:0.319032 auc:0.6529\n",
      "Fit finished.\n",
      "epoch:   0 loss:0.784330 auc:0.4234\n",
      "epoch:  20 loss:0.570599 auc:0.6692\n",
      "epoch:  40 loss:0.444439 auc:0.5841\n",
      "epoch:  60 loss:0.374868 auc:0.5766\n",
      "epoch:  80 loss:0.345028 auc:0.5633\n",
      "epoch: 100 loss:0.330584 auc:0.5520\n",
      "epoch: 120 loss:0.322708 auc:0.5444\n",
      "epoch: 140 loss:0.318009 auc:0.5388\n",
      "epoch: 160 loss:0.315023 auc:0.5463\n"
     ]
    },
    {
     "name": "stderr",
     "output_type": "stream",
     "text": [
      " 70%|███████   | 708/1005 [1:29:22<27:04,  5.47s/it]"
     ]
    },
    {
     "name": "stdout",
     "output_type": "stream",
     "text": [
      "epoch: 180 loss:0.313025 auc:0.5463\n",
      "Fit finished.\n",
      "epoch:   0 loss:0.792657 auc:0.5363\n",
      "epoch:  20 loss:0.598855 auc:0.5952\n",
      "epoch:  40 loss:0.533738 auc:0.6021\n",
      "epoch:  60 loss:0.433937 auc:0.7024\n",
      "epoch:  80 loss:0.381164 auc:0.6886\n",
      "epoch: 100 loss:0.353250 auc:0.6886\n",
      "epoch: 120 loss:0.337887 auc:0.6886\n",
      "epoch: 140 loss:0.328811 auc:0.6886\n",
      "epoch: 160 loss:0.323077 auc:0.6920\n",
      "epoch: 180 loss:0.319237 auc:0.6851\n",
      "epoch: 200 loss:0.316561 auc:0.6851\n"
     ]
    },
    {
     "name": "stderr",
     "output_type": "stream",
     "text": [
      " 71%|███████   | 709/1005 [1:29:28<27:52,  5.65s/it]"
     ]
    },
    {
     "name": "stdout",
     "output_type": "stream",
     "text": [
      "epoch: 220 loss:0.314636 auc:0.6851\n",
      "Fit finished.\n",
      "epoch:   0 loss:0.796673 auc:0.5785\n",
      "epoch:  20 loss:0.600725 auc:0.5785\n",
      "epoch:  40 loss:0.542269 auc:0.5124\n",
      "epoch:  60 loss:0.440874 auc:0.4793\n",
      "epoch:  80 loss:0.382551 auc:0.5041\n",
      "epoch: 100 loss:0.354063 auc:0.5207\n",
      "epoch: 120 loss:0.339012 auc:0.5207\n",
      "epoch: 140 loss:0.329855 auc:0.5124\n"
     ]
    },
    {
     "name": "stderr",
     "output_type": "stream",
     "text": [
      " 71%|███████   | 711/1005 [1:29:33<20:27,  4.17s/it]"
     ]
    },
    {
     "name": "stdout",
     "output_type": "stream",
     "text": [
      "epoch: 160 loss:0.323823 auc:0.5207\n",
      "Fit finished.\n",
      "epoch:   0 loss:0.769591 auc:0.5311\n",
      "epoch:  20 loss:0.565648 auc:0.5962\n",
      "epoch:  40 loss:0.445184 auc:0.5059\n",
      "epoch:  60 loss:0.377049 auc:0.5296\n",
      "epoch:  80 loss:0.347079 auc:0.5370\n",
      "epoch: 100 loss:0.332884 auc:0.5340\n",
      "epoch: 120 loss:0.325020 auc:0.5281\n",
      "epoch: 140 loss:0.320081 auc:0.5281\n"
     ]
    },
    {
     "name": "stderr",
     "output_type": "stream",
     "text": [
      " 71%|███████   | 712/1005 [1:29:38<21:17,  4.36s/it]"
     ]
    },
    {
     "name": "stdout",
     "output_type": "stream",
     "text": [
      "epoch: 160 loss:0.316775 auc:0.5296\n",
      "Fit finished.\n",
      "epoch:   0 loss:0.782567 auc:0.4734\n",
      "epoch:  20 loss:0.553083 auc:0.6849\n",
      "epoch:  40 loss:0.438309 auc:0.6701\n",
      "epoch:  60 loss:0.374370 auc:0.6183\n",
      "epoch:  80 loss:0.345181 auc:0.5947\n",
      "epoch: 100 loss:0.331525 auc:0.5636\n",
      "epoch: 120 loss:0.323950 auc:0.5488\n",
      "epoch: 140 loss:0.319262 auc:0.5399\n",
      "epoch: 160 loss:0.316149 auc:0.5429\n"
     ]
    },
    {
     "name": "stderr",
     "output_type": "stream",
     "text": [
      " 71%|███████   | 714/1005 [1:29:43<17:56,  3.70s/it]"
     ]
    },
    {
     "name": "stdout",
     "output_type": "stream",
     "text": [
      "epoch: 180 loss:0.313978 auc:0.5459\n",
      "Fit finished.\n",
      "epoch:   0 loss:0.785850 auc:0.4354\n",
      "epoch:  20 loss:0.564057 auc:0.5805\n",
      "epoch:  40 loss:0.437430 auc:0.4921\n",
      "epoch:  60 loss:0.368308 auc:0.5034\n",
      "epoch:  80 loss:0.340597 auc:0.5147\n",
      "epoch: 100 loss:0.328045 auc:0.5102\n",
      "epoch: 120 loss:0.321442 auc:0.5193\n",
      "epoch: 140 loss:0.317481 auc:0.5102\n",
      "epoch: 160 loss:0.314836 auc:0.5034\n"
     ]
    },
    {
     "name": "stderr",
     "output_type": "stream",
     "text": [
      " 71%|███████   | 716/1005 [1:29:49<16:07,  3.35s/it]"
     ]
    },
    {
     "name": "stdout",
     "output_type": "stream",
     "text": [
      "epoch: 180 loss:0.312967 auc:0.4943\n",
      "Fit finished.\n",
      "epoch:   0 loss:0.809170 auc:0.3958\n",
      "epoch:  20 loss:0.589003 auc:0.5764\n",
      "epoch:  40 loss:0.493854 auc:0.5139\n",
      "epoch:  60 loss:0.409887 auc:0.6458\n",
      "epoch:  80 loss:0.366049 auc:0.6250\n",
      "epoch: 100 loss:0.343669 auc:0.6181\n",
      "epoch: 120 loss:0.331778 auc:0.5972\n",
      "epoch: 140 loss:0.324786 auc:0.5694\n",
      "epoch: 160 loss:0.320289 auc:0.5694\n"
     ]
    },
    {
     "name": "stderr",
     "output_type": "stream",
     "text": [
      " 71%|███████▏  | 717/1005 [1:29:54<18:09,  3.78s/it]"
     ]
    },
    {
     "name": "stdout",
     "output_type": "stream",
     "text": [
      "epoch: 180 loss:0.317197 auc:0.5694\n",
      "Fit finished.\n",
      "epoch:   0 loss:0.778744 auc:0.4898\n",
      "epoch:  20 loss:0.569275 auc:0.7500\n",
      "epoch:  40 loss:0.455988 auc:0.7207\n",
      "epoch:  60 loss:0.389000 auc:0.6939\n",
      "epoch:  80 loss:0.355752 auc:0.6798\n",
      "epoch: 100 loss:0.338764 auc:0.6798\n",
      "epoch: 120 loss:0.329033 auc:0.6658\n",
      "epoch: 140 loss:0.322875 auc:0.6543\n",
      "epoch: 160 loss:0.318809 auc:0.6556\n"
     ]
    },
    {
     "name": "stderr",
     "output_type": "stream",
     "text": [
      " 71%|███████▏  | 718/1005 [1:30:00<20:10,  4.22s/it]"
     ]
    },
    {
     "name": "stdout",
     "output_type": "stream",
     "text": [
      "epoch: 180 loss:0.316043 auc:0.6543\n",
      "Fit finished.\n",
      "epoch:   0 loss:0.847106 auc:0.4477\n",
      "epoch:  20 loss:0.591246 auc:0.6977\n",
      "epoch:  40 loss:0.504710 auc:0.7207\n",
      "epoch:  60 loss:0.421753 auc:0.7666\n",
      "epoch:  80 loss:0.374132 auc:0.7513\n",
      "epoch: 100 loss:0.349175 auc:0.7500\n",
      "epoch: 120 loss:0.335826 auc:0.7577\n",
      "epoch: 140 loss:0.327894 auc:0.7526\n",
      "epoch: 160 loss:0.322690 auc:0.7538\n",
      "epoch: 180 loss:0.319076 auc:0.7551\n",
      "epoch: 200 loss:0.316479 auc:0.7526\n"
     ]
    },
    {
     "name": "stderr",
     "output_type": "stream",
     "text": [
      " 72%|███████▏  | 720/1005 [1:30:06<18:00,  3.79s/it]"
     ]
    },
    {
     "name": "stdout",
     "output_type": "stream",
     "text": [
      "epoch: 220 loss:0.314535 auc:0.7564\n",
      "Fit finished.\n",
      "epoch:   0 loss:0.789423 auc:0.5625\n",
      "epoch:  20 loss:0.543416 auc:0.6875\n",
      "epoch:  40 loss:0.412249 auc:0.7083\n",
      "epoch:  60 loss:0.354398 auc:0.6597\n",
      "epoch:  80 loss:0.333137 auc:0.6250\n",
      "epoch: 100 loss:0.323387 auc:0.5903\n",
      "epoch: 120 loss:0.318077 auc:0.5764\n",
      "epoch: 140 loss:0.314884 auc:0.5625\n",
      "epoch: 160 loss:0.312829 auc:0.5694\n"
     ]
    },
    {
     "name": "stderr",
     "output_type": "stream",
     "text": [
      " 72%|███████▏  | 721/1005 [1:30:11<19:40,  4.16s/it]"
     ]
    },
    {
     "name": "stdout",
     "output_type": "stream",
     "text": [
      "epoch: 180 loss:0.311427 auc:0.5694\n",
      "Fit finished.\n",
      "epoch:   0 loss:0.768899 auc:0.4014\n",
      "epoch:  20 loss:0.578029 auc:0.7324\n",
      "epoch:  40 loss:0.454716 auc:0.6417\n",
      "epoch:  60 loss:0.377569 auc:0.6667\n",
      "epoch:  80 loss:0.346557 auc:0.6825\n",
      "epoch: 100 loss:0.332328 auc:0.6871\n",
      "epoch: 120 loss:0.324607 auc:0.6871\n",
      "epoch: 140 loss:0.319866 auc:0.6825\n",
      "epoch: 160 loss:0.316708 auc:0.6825\n"
     ]
    },
    {
     "name": "stderr",
     "output_type": "stream",
     "text": [
      " 72%|███████▏  | 722/1005 [1:30:17<21:05,  4.47s/it]"
     ]
    },
    {
     "name": "stdout",
     "output_type": "stream",
     "text": [
      "epoch: 180 loss:0.314485 auc:0.6893\n",
      "Fit finished.\n",
      "epoch:   0 loss:0.828484 auc:0.4592\n",
      "epoch:  20 loss:0.588748 auc:0.7347\n",
      "epoch:  40 loss:0.493991 auc:0.7755\n",
      "epoch:  60 loss:0.410393 auc:0.7704\n",
      "epoch:  80 loss:0.368380 auc:0.7347\n",
      "epoch: 100 loss:0.346435 auc:0.7245\n",
      "epoch: 120 loss:0.334278 auc:0.7245\n",
      "epoch: 140 loss:0.327031 auc:0.7245\n",
      "epoch: 160 loss:0.322323 auc:0.7296\n"
     ]
    },
    {
     "name": "stderr",
     "output_type": "stream",
     "text": [
      " 72%|███████▏  | 727/1005 [1:30:23<10:54,  2.36s/it]"
     ]
    },
    {
     "name": "stdout",
     "output_type": "stream",
     "text": [
      "epoch: 180 loss:0.319042 auc:0.7296\n",
      "Fit finished.\n",
      "epoch:   0 loss:0.796651 auc:0.5803\n",
      "epoch:  20 loss:0.579584 auc:0.6597\n",
      "epoch:  40 loss:0.477432 auc:0.6333\n",
      "epoch:  60 loss:0.401188 auc:0.6314\n",
      "epoch:  80 loss:0.361564 auc:0.6276\n",
      "epoch: 100 loss:0.341545 auc:0.6333\n",
      "epoch: 120 loss:0.330612 auc:0.6352\n",
      "epoch: 140 loss:0.324014 auc:0.6314\n",
      "epoch: 160 loss:0.319686 auc:0.6276\n"
     ]
    },
    {
     "name": "stderr",
     "output_type": "stream",
     "text": [
      " 72%|███████▏  | 728/1005 [1:30:29<13:27,  2.92s/it]"
     ]
    },
    {
     "name": "stdout",
     "output_type": "stream",
     "text": [
      "epoch: 180 loss:0.316697 auc:0.6219\n",
      "Fit finished.\n",
      "epoch:   0 loss:0.775822 auc:0.5642\n",
      "epoch:  20 loss:0.573185 auc:0.7726\n",
      "epoch:  40 loss:0.449495 auc:0.8090\n",
      "epoch:  60 loss:0.376468 auc:0.8142\n",
      "epoch:  80 loss:0.345684 auc:0.8056\n",
      "epoch: 100 loss:0.331290 auc:0.7986\n",
      "epoch: 120 loss:0.323675 auc:0.7951\n",
      "epoch: 140 loss:0.319122 auc:0.7934\n",
      "epoch: 160 loss:0.316143 auc:0.7882\n",
      "epoch: 180 loss:0.314062 auc:0.7865\n"
     ]
    },
    {
     "name": "stderr",
     "output_type": "stream",
     "text": [
      " 73%|███████▎  | 729/1005 [1:30:35<15:55,  3.46s/it]"
     ]
    },
    {
     "name": "stdout",
     "output_type": "stream",
     "text": [
      "epoch: 200 loss:0.312542 auc:0.7865\n",
      "Fit finished.\n",
      "epoch:   0 loss:0.813318 auc:0.5660\n",
      "epoch:  20 loss:0.584988 auc:0.6962\n",
      "epoch:  40 loss:0.500254 auc:0.6840\n",
      "epoch:  60 loss:0.406763 auc:0.6910\n",
      "epoch:  80 loss:0.365257 auc:0.6875\n",
      "epoch: 100 loss:0.343929 auc:0.6892\n",
      "epoch: 120 loss:0.332456 auc:0.6892\n",
      "epoch: 140 loss:0.325521 auc:0.6944\n",
      "epoch: 160 loss:0.320979 auc:0.6910\n",
      "epoch: 180 loss:0.317834 auc:0.6979\n",
      "epoch: 200 loss:0.315567 auc:0.6997\n",
      "epoch: 220 loss:0.313891 auc:0.7031\n",
      "epoch: 240 loss:0.312627 auc:0.7118\n",
      "epoch: 260 loss:0.311651 auc:0.7118\n",
      "epoch: 280 loss:0.310884 auc:0.7066\n",
      "epoch: 300 loss:0.310268 auc:0.7049\n",
      "epoch: 320 loss:0.309763 auc:0.7066\n",
      "epoch: 340 loss:0.309346 auc:0.7031\n",
      "epoch: 360 loss:0.308998 auc:0.7049\n",
      "epoch: 380 loss:0.308706 auc:0.7031\n"
     ]
    },
    {
     "name": "stderr",
     "output_type": "stream",
     "text": [
      " 73%|███████▎  | 732/1005 [1:30:45<15:35,  3.43s/it]"
     ]
    },
    {
     "name": "stdout",
     "output_type": "stream",
     "text": [
      "epoch: 400 loss:0.308459 auc:0.7066\n",
      "Fit finished.\n",
      "epoch:   0 loss:0.826182 auc:0.4688\n",
      "epoch:  20 loss:0.591887 auc:0.6541\n",
      "epoch:  40 loss:0.500494 auc:0.6427\n",
      "epoch:  60 loss:0.414282 auc:0.5992\n",
      "epoch:  80 loss:0.369418 auc:0.6181\n",
      "epoch: 100 loss:0.346358 auc:0.5992\n",
      "epoch: 120 loss:0.333769 auc:0.6049\n",
      "epoch: 140 loss:0.326273 auc:0.5955\n",
      "epoch: 160 loss:0.321392 auc:0.5917\n"
     ]
    },
    {
     "name": "stderr",
     "output_type": "stream",
     "text": [
      " 73%|███████▎  | 733/1005 [1:30:50<17:02,  3.76s/it]"
     ]
    },
    {
     "name": "stdout",
     "output_type": "stream",
     "text": [
      "epoch: 180 loss:0.318014 auc:0.5917\n",
      "Fit finished.\n",
      "epoch:   0 loss:0.784486 auc:0.4773\n",
      "epoch:  20 loss:0.589592 auc:0.7975\n",
      "epoch:  40 loss:0.514057 auc:0.7231\n",
      "epoch:  60 loss:0.424046 auc:0.6612\n",
      "epoch:  80 loss:0.375034 auc:0.6674\n",
      "epoch: 100 loss:0.350388 auc:0.6839\n",
      "epoch: 120 loss:0.336723 auc:0.6777\n",
      "epoch: 140 loss:0.328232 auc:0.6818\n",
      "epoch: 160 loss:0.322694 auc:0.6756\n"
     ]
    },
    {
     "name": "stderr",
     "output_type": "stream",
     "text": [
      " 73%|███████▎  | 734/1005 [1:30:55<18:12,  4.03s/it]"
     ]
    },
    {
     "name": "stdout",
     "output_type": "stream",
     "text": [
      "epoch: 180 loss:0.318933 auc:0.6694\n",
      "Fit finished.\n",
      "epoch:   0 loss:0.777582 auc:0.4253\n",
      "epoch:  20 loss:0.575046 auc:0.7760\n",
      "epoch:  40 loss:0.466333 auc:0.7587\n",
      "epoch:  60 loss:0.391780 auc:0.7760\n",
      "epoch:  80 loss:0.355247 auc:0.7465\n",
      "epoch: 100 loss:0.337203 auc:0.7240\n",
      "epoch: 120 loss:0.327654 auc:0.7118\n",
      "epoch: 140 loss:0.321911 auc:0.7083\n",
      "epoch: 160 loss:0.318132 auc:0.7049\n"
     ]
    },
    {
     "name": "stderr",
     "output_type": "stream",
     "text": [
      " 73%|███████▎  | 735/1005 [1:31:01<20:07,  4.47s/it]"
     ]
    },
    {
     "name": "stdout",
     "output_type": "stream",
     "text": [
      "epoch: 180 loss:0.315518 auc:0.6997\n",
      "Fit finished.\n",
      "epoch:   0 loss:0.820214 auc:0.5376\n",
      "epoch:  20 loss:0.594129 auc:0.6977\n",
      "epoch:  40 loss:0.518669 auc:0.6619\n",
      "epoch:  60 loss:0.429607 auc:0.6655\n",
      "epoch:  80 loss:0.377173 auc:0.6607\n",
      "epoch: 100 loss:0.350195 auc:0.6762\n",
      "epoch: 120 loss:0.335917 auc:0.6870\n",
      "epoch: 140 loss:0.327780 auc:0.6810\n",
      "epoch: 160 loss:0.322648 auc:0.6762\n"
     ]
    },
    {
     "name": "stderr",
     "output_type": "stream",
     "text": [
      " 73%|███████▎  | 736/1005 [1:31:07<21:26,  4.78s/it]"
     ]
    },
    {
     "name": "stdout",
     "output_type": "stream",
     "text": [
      "epoch: 180 loss:0.319160 auc:0.6655\n",
      "Fit finished.\n",
      "epoch:   0 loss:0.816496 auc:0.3775\n",
      "epoch:  20 loss:0.595060 auc:0.6250\n",
      "epoch:  40 loss:0.518515 auc:0.5650\n",
      "epoch:  60 loss:0.420715 auc:0.4650\n",
      "epoch:  80 loss:0.373271 auc:0.4700\n",
      "epoch: 100 loss:0.349514 auc:0.4525\n",
      "epoch: 120 loss:0.336319 auc:0.4550\n",
      "epoch: 140 loss:0.328275 auc:0.4625\n",
      "epoch: 160 loss:0.322992 auc:0.4625\n"
     ]
    },
    {
     "name": "stderr",
     "output_type": "stream",
     "text": [
      " 73%|███████▎  | 737/1005 [1:31:12<21:57,  4.92s/it]"
     ]
    },
    {
     "name": "stdout",
     "output_type": "stream",
     "text": [
      "epoch: 180 loss:0.319314 auc:0.4600\n",
      "Fit finished.\n",
      "epoch:   0 loss:0.794802 auc:0.4837\n",
      "epoch:  20 loss:0.580596 auc:0.7027\n",
      "epoch:  40 loss:0.475233 auc:0.5976\n",
      "epoch:  60 loss:0.391725 auc:0.5607\n",
      "epoch:  80 loss:0.353156 auc:0.5444\n",
      "epoch: 100 loss:0.334997 auc:0.5385\n",
      "epoch: 120 loss:0.325578 auc:0.5385\n",
      "epoch: 140 loss:0.320109 auc:0.5385\n",
      "epoch: 160 loss:0.316640 auc:0.5385\n"
     ]
    },
    {
     "name": "stderr",
     "output_type": "stream",
     "text": [
      " 73%|███████▎  | 738/1005 [1:31:18<22:48,  5.13s/it]"
     ]
    },
    {
     "name": "stdout",
     "output_type": "stream",
     "text": [
      "epoch: 180 loss:0.314294 auc:0.5340\n",
      "Fit finished.\n",
      "epoch:   0 loss:0.790775 auc:0.4763\n",
      "epoch:  20 loss:0.570862 auc:0.6627\n",
      "epoch:  40 loss:0.449086 auc:0.6923\n",
      "epoch:  60 loss:0.371442 auc:0.6361\n",
      "epoch:  80 loss:0.341062 auc:0.6257\n",
      "epoch: 100 loss:0.328511 auc:0.6183\n",
      "epoch: 120 loss:0.321816 auc:0.6198\n",
      "epoch: 140 loss:0.317721 auc:0.6154\n",
      "epoch: 160 loss:0.315032 auc:0.6139\n"
     ]
    },
    {
     "name": "stderr",
     "output_type": "stream",
     "text": [
      " 74%|███████▎  | 739/1005 [1:31:24<23:27,  5.29s/it]"
     ]
    },
    {
     "name": "stdout",
     "output_type": "stream",
     "text": [
      "epoch: 180 loss:0.313162 auc:0.6154\n",
      "Fit finished.\n",
      "epoch:   0 loss:0.787389 auc:0.5517\n",
      "epoch:  20 loss:0.582147 auc:0.8193\n",
      "epoch:  40 loss:0.488284 auc:0.7075\n",
      "epoch:  60 loss:0.412753 auc:0.7146\n",
      "epoch:  80 loss:0.370173 auc:0.6932\n",
      "epoch: 100 loss:0.346557 auc:0.6908\n",
      "epoch: 120 loss:0.333968 auc:0.6790\n",
      "epoch: 140 loss:0.326524 auc:0.6742\n",
      "epoch: 160 loss:0.321632 auc:0.6694\n"
     ]
    },
    {
     "name": "stderr",
     "output_type": "stream",
     "text": [
      " 74%|███████▎  | 740/1005 [1:31:29<23:17,  5.28s/it]"
     ]
    },
    {
     "name": "stdout",
     "output_type": "stream",
     "text": [
      "epoch: 180 loss:0.318219 auc:0.6671\n",
      "Fit finished.\n",
      "epoch:   0 loss:0.815454 auc:0.5056\n",
      "epoch:  20 loss:0.587975 auc:0.7536\n",
      "epoch:  40 loss:0.488805 auc:0.7472\n",
      "epoch:  60 loss:0.398413 auc:0.7472\n",
      "epoch:  80 loss:0.359361 auc:0.7136\n",
      "epoch: 100 loss:0.339589 auc:0.6960\n",
      "epoch: 120 loss:0.328929 auc:0.6832\n",
      "epoch: 140 loss:0.322563 auc:0.6800\n",
      "epoch: 160 loss:0.318470 auc:0.6816\n"
     ]
    },
    {
     "name": "stderr",
     "output_type": "stream",
     "text": [
      " 74%|███████▎  | 741/1005 [1:31:34<23:30,  5.34s/it]"
     ]
    },
    {
     "name": "stdout",
     "output_type": "stream",
     "text": [
      "epoch: 180 loss:0.315702 auc:0.6848\n",
      "Fit finished.\n",
      "epoch:   0 loss:0.771874 auc:0.4756\n",
      "epoch:  20 loss:0.587654 auc:0.7384\n",
      "epoch:  40 loss:0.513849 auc:0.7455\n",
      "epoch:  60 loss:0.410194 auc:0.7467\n",
      "epoch:  80 loss:0.362731 auc:0.7420\n",
      "epoch: 100 loss:0.341256 auc:0.7384\n",
      "epoch: 120 loss:0.330224 auc:0.7408\n",
      "epoch: 140 loss:0.323652 auc:0.7301\n",
      "epoch: 160 loss:0.319372 auc:0.7313\n"
     ]
    },
    {
     "name": "stderr",
     "output_type": "stream",
     "text": [
      " 74%|███████▍  | 742/1005 [1:31:40<23:32,  5.37s/it]"
     ]
    },
    {
     "name": "stdout",
     "output_type": "stream",
     "text": [
      "epoch: 180 loss:0.316429 auc:0.7372\n",
      "Fit finished.\n",
      "epoch:   0 loss:0.798933 auc:0.4746\n",
      "epoch:  20 loss:0.583747 auc:0.6694\n",
      "epoch:  40 loss:0.499718 auc:0.6228\n",
      "epoch:  60 loss:0.410012 auc:0.5309\n",
      "epoch:  80 loss:0.364115 auc:0.5185\n",
      "epoch: 100 loss:0.342429 auc:0.5281\n",
      "epoch: 120 loss:0.331042 auc:0.5185\n",
      "epoch: 140 loss:0.324290 auc:0.5021\n",
      "epoch: 160 loss:0.319908 auc:0.4925\n"
     ]
    },
    {
     "name": "stderr",
     "output_type": "stream",
     "text": [
      " 74%|███████▍  | 744/1005 [1:31:46<18:27,  4.24s/it]"
     ]
    },
    {
     "name": "stdout",
     "output_type": "stream",
     "text": [
      "epoch: 180 loss:0.316896 auc:0.4829\n",
      "Fit finished.\n",
      "epoch:   0 loss:0.782762 auc:0.4559\n",
      "epoch:  20 loss:0.593459 auc:0.6042\n",
      "epoch:  40 loss:0.507649 auc:0.5625\n",
      "epoch:  60 loss:0.428301 auc:0.5735\n",
      "epoch:  80 loss:0.381749 auc:0.5576\n",
      "epoch: 100 loss:0.354818 auc:0.5331\n",
      "epoch: 120 loss:0.339577 auc:0.5245\n",
      "epoch: 140 loss:0.330553 auc:0.5147\n",
      "epoch: 160 loss:0.324791 auc:0.5135\n"
     ]
    },
    {
     "name": "stderr",
     "output_type": "stream",
     "text": [
      " 74%|███████▍  | 745/1005 [1:31:51<19:55,  4.60s/it]"
     ]
    },
    {
     "name": "stdout",
     "output_type": "stream",
     "text": [
      "epoch: 180 loss:0.320828 auc:0.5098\n",
      "Fit finished.\n",
      "epoch:   0 loss:0.779953 auc:0.4752\n",
      "epoch:  20 loss:0.596007 auc:0.6921\n",
      "epoch:  40 loss:0.518286 auc:0.7128\n",
      "epoch:  60 loss:0.420078 auc:0.7025\n",
      "epoch:  80 loss:0.370351 auc:0.7149\n",
      "epoch: 100 loss:0.346431 auc:0.7066\n",
      "epoch: 120 loss:0.334190 auc:0.7149\n",
      "epoch: 140 loss:0.326977 auc:0.7045\n",
      "epoch: 160 loss:0.322277 auc:0.6983\n",
      "epoch: 180 loss:0.319009 auc:0.6921\n"
     ]
    },
    {
     "name": "stderr",
     "output_type": "stream",
     "text": [
      " 74%|███████▍  | 746/1005 [1:31:57<21:25,  4.96s/it]"
     ]
    },
    {
     "name": "stdout",
     "output_type": "stream",
     "text": [
      "epoch: 200 loss:0.316616 auc:0.6901\n",
      "Fit finished.\n",
      "epoch:   0 loss:0.857768 auc:0.5148\n",
      "epoch:  20 loss:0.596051 auc:0.7019\n",
      "epoch:  40 loss:0.530468 auc:0.6981\n",
      "epoch:  60 loss:0.433231 auc:0.6813\n",
      "epoch:  80 loss:0.381694 auc:0.6916\n",
      "epoch: 100 loss:0.353323 auc:0.6942\n",
      "epoch: 120 loss:0.337939 auc:0.6968\n",
      "epoch: 140 loss:0.328921 auc:0.7071\n",
      "epoch: 160 loss:0.323181 auc:0.7097\n",
      "epoch: 180 loss:0.319329 auc:0.7110\n",
      "epoch: 200 loss:0.316626 auc:0.7123\n",
      "epoch: 220 loss:0.314646 auc:0.7110\n",
      "epoch: 240 loss:0.313152 auc:0.7123\n",
      "epoch: 260 loss:0.311992 auc:0.7123\n",
      "epoch: 280 loss:0.311074 auc:0.7084\n",
      "epoch: 300 loss:0.310338 auc:0.7084\n"
     ]
    },
    {
     "name": "stderr",
     "output_type": "stream",
     "text": [
      " 74%|███████▍  | 747/1005 [1:32:06<26:03,  6.06s/it]"
     ]
    },
    {
     "name": "stdout",
     "output_type": "stream",
     "text": [
      "epoch: 320 loss:0.309747 auc:0.7084\n",
      "Fit finished.\n",
      "epoch:   0 loss:0.794705 auc:0.5888\n",
      "epoch:  20 loss:0.596746 auc:0.6178\n",
      "epoch:  40 loss:0.548170 auc:0.5806\n",
      "epoch:  60 loss:0.446856 auc:0.5702\n",
      "epoch:  80 loss:0.384681 auc:0.5413\n",
      "epoch: 100 loss:0.353927 auc:0.5517\n",
      "epoch: 120 loss:0.338336 auc:0.5558\n",
      "epoch: 140 loss:0.329259 auc:0.5558\n"
     ]
    },
    {
     "name": "stderr",
     "output_type": "stream",
     "text": [
      " 74%|███████▍  | 748/1005 [1:32:11<24:42,  5.77s/it]"
     ]
    },
    {
     "name": "stdout",
     "output_type": "stream",
     "text": [
      "epoch: 160 loss:0.323545 auc:0.5537\n",
      "Fit finished.\n",
      "epoch:   0 loss:0.779072 auc:0.5405\n",
      "epoch:  20 loss:0.569312 auc:0.5295\n",
      "epoch:  40 loss:0.460444 auc:0.4801\n",
      "epoch:  60 loss:0.386441 auc:0.5144\n",
      "epoch:  80 loss:0.353103 auc:0.5350\n",
      "epoch: 100 loss:0.336127 auc:0.5460\n",
      "epoch: 120 loss:0.326719 auc:0.5473\n",
      "epoch: 140 loss:0.321200 auc:0.5514\n",
      "epoch: 160 loss:0.317655 auc:0.5501\n",
      "epoch: 180 loss:0.315205 auc:0.5473\n",
      "epoch: 200 loss:0.313442 auc:0.5473\n",
      "epoch: 220 loss:0.312131 auc:0.5460\n",
      "epoch: 240 loss:0.311133 auc:0.5446\n"
     ]
    },
    {
     "name": "stderr",
     "output_type": "stream",
     "text": [
      " 75%|███████▍  | 749/1005 [1:32:18<26:07,  6.12s/it]"
     ]
    },
    {
     "name": "stdout",
     "output_type": "stream",
     "text": [
      "epoch: 260 loss:0.310356 auc:0.5446\n",
      "Fit finished.\n",
      "epoch:   0 loss:0.781986 auc:0.4994\n",
      "epoch:  20 loss:0.579669 auc:0.7061\n",
      "epoch:  40 loss:0.486053 auc:0.6583\n",
      "epoch:  60 loss:0.401455 auc:0.6583\n",
      "epoch:  80 loss:0.362218 auc:0.6559\n",
      "epoch: 100 loss:0.342568 auc:0.6523\n",
      "epoch: 120 loss:0.331216 auc:0.6464\n",
      "epoch: 140 loss:0.324298 auc:0.6452\n",
      "epoch: 160 loss:0.319861 auc:0.6356\n"
     ]
    },
    {
     "name": "stderr",
     "output_type": "stream",
     "text": [
      " 75%|███████▍  | 750/1005 [1:32:24<25:15,  5.94s/it]"
     ]
    },
    {
     "name": "stdout",
     "output_type": "stream",
     "text": [
      "epoch: 180 loss:0.316831 auc:0.6344\n",
      "Fit finished.\n",
      "epoch:   0 loss:0.784221 auc:0.4607\n",
      "epoch:  20 loss:0.573215 auc:0.7893\n",
      "epoch:  40 loss:0.469187 auc:0.8182\n",
      "epoch:  60 loss:0.396469 auc:0.8388\n",
      "epoch:  80 loss:0.359142 auc:0.8471\n",
      "epoch: 100 loss:0.339894 auc:0.8698\n",
      "epoch: 120 loss:0.329510 auc:0.8657\n",
      "epoch: 140 loss:0.323374 auc:0.8760\n",
      "epoch: 160 loss:0.319425 auc:0.8802\n",
      "epoch: 180 loss:0.316701 auc:0.8781\n",
      "epoch: 200 loss:0.314715 auc:0.8760\n",
      "epoch: 220 loss:0.313207 auc:0.8781\n",
      "epoch: 240 loss:0.312037 auc:0.8760\n",
      "epoch: 260 loss:0.311115 auc:0.8802\n",
      "epoch: 280 loss:0.310387 auc:0.8760\n"
     ]
    },
    {
     "name": "stderr",
     "output_type": "stream",
     "text": [
      " 75%|███████▍  | 751/1005 [1:32:32<27:51,  6.58s/it]"
     ]
    },
    {
     "name": "stdout",
     "output_type": "stream",
     "text": [
      "epoch: 300 loss:0.309807 auc:0.8740\n",
      "Fit finished.\n",
      "epoch:   0 loss:0.780819 auc:0.6602\n",
      "epoch:  20 loss:0.568591 auc:0.6250\n",
      "epoch:  40 loss:0.450978 auc:0.5742\n",
      "epoch:  60 loss:0.377556 auc:0.5859\n",
      "epoch:  80 loss:0.345956 auc:0.5781\n",
      "epoch: 100 loss:0.331905 auc:0.5742\n",
      "epoch: 120 loss:0.324097 auc:0.5625\n",
      "epoch: 140 loss:0.319285 auc:0.5547\n"
     ]
    },
    {
     "name": "stderr",
     "output_type": "stream",
     "text": [
      " 75%|███████▍  | 752/1005 [1:32:37<25:56,  6.15s/it]"
     ]
    },
    {
     "name": "stdout",
     "output_type": "stream",
     "text": [
      "epoch: 160 loss:0.316104 auc:0.5508\n",
      "Fit finished.\n",
      "epoch:   0 loss:0.815960 auc:0.5062\n",
      "epoch:  20 loss:0.590605 auc:0.4959\n",
      "epoch:  40 loss:0.505953 auc:0.4360\n",
      "epoch:  60 loss:0.415788 auc:0.3388\n",
      "epoch:  80 loss:0.368239 auc:0.3388\n",
      "epoch: 100 loss:0.344855 auc:0.3285\n",
      "epoch: 120 loss:0.332851 auc:0.3140\n",
      "epoch: 140 loss:0.325705 auc:0.3058\n"
     ]
    },
    {
     "name": "stderr",
     "output_type": "stream",
     "text": [
      " 75%|███████▍  | 753/1005 [1:32:42<24:32,  5.84s/it]"
     ]
    },
    {
     "name": "stdout",
     "output_type": "stream",
     "text": [
      "epoch: 160 loss:0.320988 auc:0.3037\n",
      "Fit finished.\n",
      "epoch:   0 loss:0.799554 auc:0.4707\n",
      "epoch:  20 loss:0.587160 auc:0.6371\n",
      "epoch:  40 loss:0.498809 auc:0.6711\n",
      "epoch:  60 loss:0.420913 auc:0.5974\n",
      "epoch:  80 loss:0.376436 auc:0.6144\n",
      "epoch: 100 loss:0.352553 auc:0.6219\n",
      "epoch: 120 loss:0.338947 auc:0.6276\n",
      "epoch: 140 loss:0.330355 auc:0.6333\n",
      "epoch: 160 loss:0.324617 auc:0.6371\n",
      "epoch: 180 loss:0.320628 auc:0.6371\n"
     ]
    },
    {
     "name": "stderr",
     "output_type": "stream",
     "text": [
      " 75%|███████▌  | 754/1005 [1:32:48<24:38,  5.89s/it]"
     ]
    },
    {
     "name": "stdout",
     "output_type": "stream",
     "text": [
      "epoch: 200 loss:0.317744 auc:0.6276\n",
      "Fit finished.\n",
      "epoch:   0 loss:0.777869 auc:0.4368\n",
      "epoch:  20 loss:0.579645 auc:0.6192\n",
      "epoch:  40 loss:0.481783 auc:0.5744\n",
      "epoch:  60 loss:0.395310 auc:0.5968\n",
      "epoch:  80 loss:0.356511 auc:0.6112\n",
      "epoch: 100 loss:0.337900 auc:0.6160\n",
      "epoch: 120 loss:0.327573 auc:0.6144\n",
      "epoch: 140 loss:0.321342 auc:0.6080\n",
      "epoch: 160 loss:0.317337 auc:0.6080\n"
     ]
    },
    {
     "name": "stderr",
     "output_type": "stream",
     "text": [
      " 75%|███████▌  | 755/1005 [1:32:54<23:59,  5.76s/it]"
     ]
    },
    {
     "name": "stdout",
     "output_type": "stream",
     "text": [
      "epoch: 180 loss:0.314669 auc:0.6064\n",
      "Fit finished.\n",
      "epoch:   0 loss:0.863301 auc:0.4298\n",
      "epoch:  20 loss:0.600823 auc:0.4628\n",
      "epoch:  40 loss:0.557165 auc:0.4442\n",
      "epoch:  60 loss:0.466748 auc:0.4215\n",
      "epoch:  80 loss:0.402880 auc:0.5021\n",
      "epoch: 100 loss:0.369185 auc:0.5475\n",
      "epoch: 120 loss:0.350431 auc:0.5289\n",
      "epoch: 140 loss:0.338798 auc:0.5248\n",
      "epoch: 160 loss:0.330949 auc:0.5269\n",
      "epoch: 180 loss:0.325442 auc:0.5227\n",
      "epoch: 200 loss:0.321492 auc:0.5207\n",
      "epoch: 220 loss:0.318573 auc:0.5165\n",
      "epoch: 240 loss:0.316367 auc:0.5165\n"
     ]
    },
    {
     "name": "stderr",
     "output_type": "stream",
     "text": [
      " 75%|███████▌  | 758/1005 [1:33:01<16:13,  3.94s/it]"
     ]
    },
    {
     "name": "stdout",
     "output_type": "stream",
     "text": [
      "epoch: 260 loss:0.314661 auc:0.5186\n",
      "Fit finished.\n",
      "epoch:   0 loss:0.808452 auc:0.4623\n",
      "epoch:  20 loss:0.582763 auc:0.6245\n",
      "epoch:  40 loss:0.478301 auc:0.5718\n",
      "epoch:  60 loss:0.400736 auc:0.5235\n",
      "epoch:  80 loss:0.361680 auc:0.4922\n",
      "epoch: 100 loss:0.341209 auc:0.4623\n",
      "epoch: 120 loss:0.330013 auc:0.4609\n",
      "epoch: 140 loss:0.323430 auc:0.4538\n"
     ]
    },
    {
     "name": "stderr",
     "output_type": "stream",
     "text": [
      " 76%|███████▌  | 759/1005 [1:33:06<17:06,  4.17s/it]"
     ]
    },
    {
     "name": "stdout",
     "output_type": "stream",
     "text": [
      "epoch: 160 loss:0.319168 auc:0.4552\n",
      "Fit finished.\n",
      "epoch:   0 loss:0.863308 auc:0.4926\n",
      "epoch:  20 loss:0.592459 auc:0.7678\n",
      "epoch:  40 loss:0.518563 auc:0.7115\n",
      "epoch:  60 loss:0.434863 auc:0.6272\n",
      "epoch:  80 loss:0.380990 auc:0.6376\n",
      "epoch: 100 loss:0.353751 auc:0.6346\n",
      "epoch: 120 loss:0.338987 auc:0.6317\n",
      "epoch: 140 loss:0.330116 auc:0.6228\n",
      "epoch: 160 loss:0.324352 auc:0.6213\n"
     ]
    },
    {
     "name": "stderr",
     "output_type": "stream",
     "text": [
      " 76%|███████▌  | 760/1005 [1:33:11<17:47,  4.36s/it]"
     ]
    },
    {
     "name": "stdout",
     "output_type": "stream",
     "text": [
      "epoch: 180 loss:0.320398 auc:0.6257\n",
      "Fit finished.\n",
      "epoch:   0 loss:0.802804 auc:0.4904\n",
      "epoch:  20 loss:0.575926 auc:0.6346\n",
      "epoch:  40 loss:0.458239 auc:0.4880\n",
      "epoch:  60 loss:0.377019 auc:0.5132\n",
      "epoch:  80 loss:0.345119 auc:0.5168\n",
      "epoch: 100 loss:0.330469 auc:0.5120\n",
      "epoch: 120 loss:0.322686 auc:0.5156\n",
      "epoch: 140 loss:0.318134 auc:0.5156\n",
      "epoch: 160 loss:0.315252 auc:0.5156\n"
     ]
    },
    {
     "name": "stderr",
     "output_type": "stream",
     "text": [
      " 76%|███████▌  | 761/1005 [1:33:17<18:43,  4.60s/it]"
     ]
    },
    {
     "name": "stdout",
     "output_type": "stream",
     "text": [
      "epoch: 180 loss:0.313299 auc:0.5132\n",
      "Fit finished.\n",
      "epoch:   0 loss:0.777663 auc:0.6562\n",
      "epoch:  20 loss:0.580168 auc:0.7622\n",
      "epoch:  40 loss:0.478073 auc:0.7960\n",
      "epoch:  60 loss:0.396343 auc:0.7786\n",
      "epoch:  80 loss:0.357216 auc:0.7669\n",
      "epoch: 100 loss:0.338433 auc:0.7576\n",
      "epoch: 120 loss:0.328504 auc:0.7576\n",
      "epoch: 140 loss:0.322606 auc:0.7552\n",
      "epoch: 160 loss:0.318789 auc:0.7517\n"
     ]
    },
    {
     "name": "stderr",
     "output_type": "stream",
     "text": [
      " 76%|███████▌  | 762/1005 [1:33:22<19:41,  4.86s/it]"
     ]
    },
    {
     "name": "stdout",
     "output_type": "stream",
     "text": [
      "epoch: 180 loss:0.316166 auc:0.7459\n",
      "Fit finished.\n",
      "epoch:   0 loss:0.777237 auc:0.4475\n",
      "epoch:  20 loss:0.565262 auc:0.6275\n",
      "epoch:  40 loss:0.442904 auc:0.5950\n",
      "epoch:  60 loss:0.372996 auc:0.5900\n",
      "epoch:  80 loss:0.343572 auc:0.5850\n",
      "epoch: 100 loss:0.329901 auc:0.5725\n",
      "epoch: 120 loss:0.322494 auc:0.5825\n",
      "epoch: 140 loss:0.318074 auc:0.5800\n",
      "epoch: 160 loss:0.315187 auc:0.5800\n"
     ]
    },
    {
     "name": "stderr",
     "output_type": "stream",
     "text": [
      " 76%|███████▌  | 763/1005 [1:33:28<20:26,  5.07s/it]"
     ]
    },
    {
     "name": "stdout",
     "output_type": "stream",
     "text": [
      "epoch: 180 loss:0.313181 auc:0.5825\n",
      "Fit finished.\n",
      "epoch:   0 loss:0.767420 auc:0.4172\n",
      "epoch:  20 loss:0.570687 auc:0.7618\n",
      "epoch:  40 loss:0.459958 auc:0.6598\n",
      "epoch:  60 loss:0.385395 auc:0.6923\n",
      "epoch:  80 loss:0.351247 auc:0.6953\n",
      "epoch: 100 loss:0.334917 auc:0.6879\n",
      "epoch: 120 loss:0.326213 auc:0.6923\n",
      "epoch: 140 loss:0.320976 auc:0.6879\n",
      "epoch: 160 loss:0.317594 auc:0.6908\n"
     ]
    },
    {
     "name": "stderr",
     "output_type": "stream",
     "text": [
      " 76%|███████▌  | 764/1005 [1:33:33<20:33,  5.12s/it]"
     ]
    },
    {
     "name": "stdout",
     "output_type": "stream",
     "text": [
      "epoch: 180 loss:0.315272 auc:0.6923\n",
      "Fit finished.\n",
      "epoch:   0 loss:0.777171 auc:0.5392\n",
      "epoch:  20 loss:0.576737 auc:0.6176\n",
      "epoch:  40 loss:0.464781 auc:0.5296\n",
      "epoch:  60 loss:0.385097 auc:0.4992\n",
      "epoch:  80 loss:0.350187 auc:0.4640\n",
      "epoch: 100 loss:0.334007 auc:0.4304\n",
      "epoch: 120 loss:0.325303 auc:0.4288\n",
      "epoch: 140 loss:0.320030 auc:0.4240\n"
     ]
    },
    {
     "name": "stderr",
     "output_type": "stream",
     "text": [
      " 76%|███████▌  | 765/1005 [1:33:38<20:11,  5.05s/it]"
     ]
    },
    {
     "name": "stdout",
     "output_type": "stream",
     "text": [
      "epoch: 160 loss:0.316628 auc:0.4160\n",
      "Fit finished.\n",
      "epoch:   0 loss:0.774273 auc:0.1600\n",
      "epoch:  20 loss:0.576681 auc:0.3200\n",
      "epoch:  40 loss:0.478313 auc:0.1100\n",
      "epoch:  60 loss:0.399359 auc:0.1300\n",
      "epoch:  80 loss:0.359998 auc:0.1300\n",
      "epoch: 100 loss:0.341175 auc:0.1600\n",
      "epoch: 120 loss:0.330930 auc:0.1900\n",
      "epoch: 140 loss:0.324637 auc:0.2000\n",
      "epoch: 160 loss:0.320421 auc:0.2000\n"
     ]
    },
    {
     "name": "stderr",
     "output_type": "stream",
     "text": [
      " 76%|███████▌  | 766/1005 [1:33:43<20:19,  5.10s/it]"
     ]
    },
    {
     "name": "stdout",
     "output_type": "stream",
     "text": [
      "epoch: 180 loss:0.317442 auc:0.2100\n",
      "Fit finished.\n",
      "epoch:   0 loss:0.797085 auc:0.3983\n",
      "epoch:  20 loss:0.574912 auc:0.7134\n",
      "epoch:  40 loss:0.459951 auc:0.5589\n",
      "epoch:  60 loss:0.384486 auc:0.5303\n",
      "epoch:  80 loss:0.351160 auc:0.5612\n",
      "epoch: 100 loss:0.334473 auc:0.5589\n",
      "epoch: 120 loss:0.325237 auc:0.5482\n",
      "epoch: 140 loss:0.319835 auc:0.5351\n",
      "epoch: 160 loss:0.316463 auc:0.5232\n"
     ]
    },
    {
     "name": "stderr",
     "output_type": "stream",
     "text": [
      " 76%|███████▋  | 767/1005 [1:33:49<21:02,  5.31s/it]"
     ]
    },
    {
     "name": "stdout",
     "output_type": "stream",
     "text": [
      "epoch: 180 loss:0.314225 auc:0.5149\n",
      "Fit finished.\n",
      "epoch:   0 loss:0.807916 auc:0.5806\n",
      "epoch:  20 loss:0.589152 auc:0.7479\n",
      "epoch:  40 loss:0.489586 auc:0.7709\n",
      "epoch:  60 loss:0.402708 auc:0.7612\n",
      "epoch:  80 loss:0.361902 auc:0.7455\n",
      "epoch: 100 loss:0.341688 auc:0.7515\n",
      "epoch: 120 loss:0.330753 auc:0.7491\n",
      "epoch: 140 loss:0.324270 auc:0.7467\n",
      "epoch: 160 loss:0.320053 auc:0.7430\n",
      "epoch: 180 loss:0.317100 auc:0.7479\n"
     ]
    },
    {
     "name": "stderr",
     "output_type": "stream",
     "text": [
      " 76%|███████▋  | 768/1005 [1:33:55<21:46,  5.51s/it]"
     ]
    },
    {
     "name": "stdout",
     "output_type": "stream",
     "text": [
      "epoch: 200 loss:0.314936 auc:0.7370\n",
      "Fit finished.\n",
      "epoch:   0 loss:0.808808 auc:0.5971\n",
      "epoch:  20 loss:0.595098 auc:0.4628\n",
      "epoch:  40 loss:0.521111 auc:0.4793\n",
      "epoch:  60 loss:0.427535 auc:0.4669\n",
      "epoch:  80 loss:0.376004 auc:0.4587\n",
      "epoch: 100 loss:0.349994 auc:0.4545\n",
      "epoch: 120 loss:0.335975 auc:0.4360\n",
      "epoch: 140 loss:0.327695 auc:0.4360\n"
     ]
    },
    {
     "name": "stderr",
     "output_type": "stream",
     "text": [
      " 77%|███████▋  | 769/1005 [1:34:00<21:04,  5.36s/it]"
     ]
    },
    {
     "name": "stdout",
     "output_type": "stream",
     "text": [
      "epoch: 160 loss:0.322443 auc:0.4339\n",
      "Fit finished.\n",
      "epoch:   0 loss:0.816195 auc:0.3839\n",
      "epoch:  20 loss:0.587617 auc:0.3967\n",
      "epoch:  40 loss:0.498224 auc:0.3278\n",
      "epoch:  60 loss:0.411907 auc:0.2691\n",
      "epoch:  80 loss:0.368745 auc:0.2564\n",
      "epoch: 100 loss:0.346764 auc:0.2462\n",
      "epoch: 120 loss:0.334414 auc:0.2474\n",
      "epoch: 140 loss:0.326828 auc:0.2551\n"
     ]
    },
    {
     "name": "stderr",
     "output_type": "stream",
     "text": [
      " 77%|███████▋  | 770/1005 [1:34:05<20:53,  5.33s/it]"
     ]
    },
    {
     "name": "stdout",
     "output_type": "stream",
     "text": [
      "epoch: 160 loss:0.321831 auc:0.2589\n",
      "Fit finished.\n",
      "epoch:   0 loss:0.793548 auc:0.5962\n",
      "epoch:  20 loss:0.563502 auc:0.5547\n",
      "epoch:  40 loss:0.437758 auc:0.6435\n",
      "epoch:  60 loss:0.366988 auc:0.6346\n",
      "epoch:  80 loss:0.340205 auc:0.6331\n",
      "epoch: 100 loss:0.327680 auc:0.6272\n",
      "epoch: 120 loss:0.320982 auc:0.6257\n",
      "epoch: 140 loss:0.317021 auc:0.6317\n",
      "epoch: 160 loss:0.314427 auc:0.6302\n",
      "epoch: 180 loss:0.312624 auc:0.6302\n"
     ]
    },
    {
     "name": "stderr",
     "output_type": "stream",
     "text": [
      " 77%|███████▋  | 771/1005 [1:34:11<21:19,  5.47s/it]"
     ]
    },
    {
     "name": "stdout",
     "output_type": "stream",
     "text": [
      "epoch: 200 loss:0.311343 auc:0.6302\n",
      "Fit finished.\n",
      "epoch:   0 loss:0.816934 auc:0.4719\n",
      "epoch:  20 loss:0.589767 auc:0.6879\n",
      "epoch:  40 loss:0.494622 auc:0.7204\n",
      "epoch:  60 loss:0.413473 auc:0.6775\n",
      "epoch:  80 loss:0.369435 auc:0.6450\n",
      "epoch: 100 loss:0.346328 auc:0.6302\n",
      "epoch: 120 loss:0.333770 auc:0.6154\n",
      "epoch: 140 loss:0.326242 auc:0.6124\n",
      "epoch: 160 loss:0.321354 auc:0.5991\n"
     ]
    },
    {
     "name": "stderr",
     "output_type": "stream",
     "text": [
      " 77%|███████▋  | 772/1005 [1:34:16<21:06,  5.44s/it]"
     ]
    },
    {
     "name": "stdout",
     "output_type": "stream",
     "text": [
      "epoch: 180 loss:0.318011 auc:0.5947\n",
      "Fit finished.\n",
      "epoch:   0 loss:0.824973 auc:0.3811\n",
      "epoch:  20 loss:0.595173 auc:0.5457\n",
      "epoch:  40 loss:0.525533 auc:0.5122\n",
      "epoch:  60 loss:0.428922 auc:0.4771\n",
      "epoch:  80 loss:0.379128 auc:0.4634\n",
      "epoch: 100 loss:0.353689 auc:0.4527\n",
      "epoch: 120 loss:0.339189 auc:0.4451\n",
      "epoch: 140 loss:0.330440 auc:0.4390\n",
      "epoch: 160 loss:0.324779 auc:0.4405\n"
     ]
    },
    {
     "name": "stderr",
     "output_type": "stream",
     "text": [
      " 77%|███████▋  | 773/1005 [1:34:22<21:38,  5.60s/it]"
     ]
    },
    {
     "name": "stdout",
     "output_type": "stream",
     "text": [
      "epoch: 180 loss:0.320846 auc:0.4421\n",
      "Fit finished.\n",
      "epoch:   0 loss:0.807060 auc:0.4459\n",
      "epoch:  20 loss:0.580795 auc:0.6338\n",
      "epoch:  40 loss:0.487020 auc:0.5137\n",
      "epoch:  60 loss:0.402843 auc:0.5149\n",
      "epoch:  80 loss:0.363447 auc:0.4875\n",
      "epoch: 100 loss:0.343387 auc:0.4911\n",
      "epoch: 120 loss:0.331954 auc:0.4851\n",
      "epoch: 140 loss:0.324991 auc:0.4863\n",
      "epoch: 160 loss:0.320484 auc:0.4851\n"
     ]
    },
    {
     "name": "stderr",
     "output_type": "stream",
     "text": [
      " 77%|███████▋  | 774/1005 [1:34:28<21:15,  5.52s/it]"
     ]
    },
    {
     "name": "stdout",
     "output_type": "stream",
     "text": [
      "epoch: 180 loss:0.317423 auc:0.4851\n",
      "Fit finished.\n",
      "epoch:   0 loss:0.797863 auc:0.3525\n",
      "epoch:  20 loss:0.578829 auc:0.6975\n",
      "epoch:  40 loss:0.483859 auc:0.5850\n",
      "epoch:  60 loss:0.409975 auc:0.5750\n",
      "epoch:  80 loss:0.368295 auc:0.5675\n",
      "epoch: 100 loss:0.346743 auc:0.5600\n",
      "epoch: 120 loss:0.334370 auc:0.5450\n",
      "epoch: 140 loss:0.326606 auc:0.5425\n",
      "epoch: 160 loss:0.321546 auc:0.5350\n"
     ]
    },
    {
     "name": "stderr",
     "output_type": "stream",
     "text": [
      " 77%|███████▋  | 775/1005 [1:34:33<20:58,  5.47s/it]"
     ]
    },
    {
     "name": "stdout",
     "output_type": "stream",
     "text": [
      "epoch: 180 loss:0.318153 auc:0.5350\n",
      "Fit finished.\n",
      "epoch:   0 loss:0.785219 auc:0.4987\n",
      "epoch:  20 loss:0.582771 auc:0.7725\n",
      "epoch:  40 loss:0.492943 auc:0.4339\n",
      "epoch:  60 loss:0.410357 auc:0.4907\n",
      "epoch:  80 loss:0.366396 auc:0.5132\n",
      "epoch: 100 loss:0.344216 auc:0.5093\n",
      "epoch: 120 loss:0.332377 auc:0.5000\n",
      "epoch: 140 loss:0.325422 auc:0.4974\n",
      "epoch: 160 loss:0.320960 auc:0.5013\n"
     ]
    },
    {
     "name": "stderr",
     "output_type": "stream",
     "text": [
      " 77%|███████▋  | 776/1005 [1:34:39<20:51,  5.47s/it]"
     ]
    },
    {
     "name": "stdout",
     "output_type": "stream",
     "text": [
      "epoch: 180 loss:0.317901 auc:0.4987\n",
      "Fit finished.\n",
      "epoch:   0 loss:0.777300 auc:0.5612\n",
      "epoch:  20 loss:0.577416 auc:0.5714\n",
      "epoch:  40 loss:0.462207 auc:0.6582\n",
      "epoch:  60 loss:0.381699 auc:0.6735\n",
      "epoch:  80 loss:0.348672 auc:0.6531\n",
      "epoch: 100 loss:0.333211 auc:0.6735\n",
      "epoch: 120 loss:0.324846 auc:0.6990\n",
      "epoch: 140 loss:0.319816 auc:0.7041\n",
      "epoch: 160 loss:0.316564 auc:0.6888\n",
      "epoch: 180 loss:0.314345 auc:0.6888\n",
      "epoch: 200 loss:0.312765 auc:0.6990\n",
      "epoch: 220 loss:0.311607 auc:0.6939\n",
      "epoch: 240 loss:0.310734 auc:0.6888\n",
      "epoch: 260 loss:0.310055 auc:0.6837\n"
     ]
    },
    {
     "name": "stderr",
     "output_type": "stream",
     "text": [
      " 77%|███████▋  | 777/1005 [1:34:46<23:05,  6.08s/it]"
     ]
    },
    {
     "name": "stdout",
     "output_type": "stream",
     "text": [
      "epoch: 280 loss:0.309515 auc:0.6837\n",
      "Fit finished.\n",
      "epoch:   0 loss:0.813159 auc:0.5308\n",
      "epoch:  20 loss:0.597408 auc:0.5897\n",
      "epoch:  40 loss:0.561560 auc:0.5954\n",
      "epoch:  60 loss:0.464810 auc:0.4749\n",
      "epoch:  80 loss:0.391158 auc:0.4405\n",
      "epoch: 100 loss:0.357259 auc:0.4275\n",
      "epoch: 120 loss:0.340589 auc:0.4347\n",
      "epoch: 140 loss:0.331124 auc:0.4462\n"
     ]
    },
    {
     "name": "stderr",
     "output_type": "stream",
     "text": [
      " 77%|███████▋  | 778/1005 [1:34:51<21:44,  5.75s/it]"
     ]
    },
    {
     "name": "stdout",
     "output_type": "stream",
     "text": [
      "epoch: 160 loss:0.325145 auc:0.4577\n",
      "Fit finished.\n",
      "epoch:   0 loss:0.793339 auc:0.5830\n",
      "epoch:  20 loss:0.551235 auc:0.6529\n",
      "epoch:  40 loss:0.430361 auc:0.6447\n",
      "epoch:  60 loss:0.368856 auc:0.6571\n",
      "epoch:  80 loss:0.342048 auc:0.6694\n",
      "epoch: 100 loss:0.329469 auc:0.6639\n",
      "epoch: 120 loss:0.322641 auc:0.6612\n",
      "epoch: 140 loss:0.318415 auc:0.6653\n",
      "epoch: 160 loss:0.315586 auc:0.6584\n",
      "epoch: 180 loss:0.313582 auc:0.6598\n",
      "epoch: 200 loss:0.312121 auc:0.6626\n",
      "epoch: 220 loss:0.311038 auc:0.6667\n"
     ]
    },
    {
     "name": "stderr",
     "output_type": "stream",
     "text": [
      " 78%|███████▊  | 779/1005 [1:34:57<22:24,  5.95s/it]"
     ]
    },
    {
     "name": "stdout",
     "output_type": "stream",
     "text": [
      "epoch: 240 loss:0.310222 auc:0.6639\n",
      "Fit finished.\n",
      "epoch:   0 loss:0.795115 auc:0.3948\n",
      "epoch:  20 loss:0.591447 auc:0.4495\n",
      "epoch:  40 loss:0.497195 auc:0.3698\n",
      "epoch:  60 loss:0.412014 auc:0.3353\n",
      "epoch:  80 loss:0.368940 auc:0.3020\n",
      "epoch: 100 loss:0.346488 auc:0.2866\n",
      "epoch: 120 loss:0.333936 auc:0.2830\n",
      "epoch: 140 loss:0.326477 auc:0.2771\n"
     ]
    },
    {
     "name": "stderr",
     "output_type": "stream",
     "text": [
      " 78%|███████▊  | 780/1005 [1:35:03<21:39,  5.77s/it]"
     ]
    },
    {
     "name": "stdout",
     "output_type": "stream",
     "text": [
      "epoch: 160 loss:0.321678 auc:0.2782\n",
      "Fit finished.\n",
      "epoch:   0 loss:0.821620 auc:0.4266\n",
      "epoch:  20 loss:0.594092 auc:0.6925\n",
      "epoch:  40 loss:0.506884 auc:0.7202\n",
      "epoch:  60 loss:0.421627 auc:0.7922\n",
      "epoch:  80 loss:0.373954 auc:0.7895\n",
      "epoch: 100 loss:0.347953 auc:0.7784\n",
      "epoch: 120 loss:0.334354 auc:0.7784\n",
      "epoch: 140 loss:0.326558 auc:0.7756\n",
      "epoch: 160 loss:0.321630 auc:0.7673\n",
      "epoch: 180 loss:0.318298 auc:0.7645\n",
      "epoch: 200 loss:0.315936 auc:0.7535\n"
     ]
    },
    {
     "name": "stderr",
     "output_type": "stream",
     "text": [
      " 78%|███████▊  | 781/1005 [1:35:10<22:34,  6.05s/it]"
     ]
    },
    {
     "name": "stdout",
     "output_type": "stream",
     "text": [
      "epoch: 220 loss:0.314199 auc:0.7507\n",
      "Fit finished.\n",
      "epoch:   0 loss:0.789518 auc:0.4505\n",
      "epoch:  20 loss:0.578890 auc:0.7065\n",
      "epoch:  40 loss:0.464133 auc:0.7379\n",
      "epoch:  60 loss:0.379522 auc:0.7657\n",
      "epoch:  80 loss:0.346606 auc:0.7669\n",
      "epoch: 100 loss:0.331810 auc:0.7597\n",
      "epoch: 120 loss:0.324018 auc:0.7524\n",
      "epoch: 140 loss:0.319264 auc:0.7464\n",
      "epoch: 160 loss:0.316090 auc:0.7428\n",
      "epoch: 180 loss:0.313884 auc:0.7415\n",
      "epoch: 200 loss:0.312310 auc:0.7440\n"
     ]
    },
    {
     "name": "stderr",
     "output_type": "stream",
     "text": [
      " 78%|███████▊  | 782/1005 [1:35:16<23:13,  6.25s/it]"
     ]
    },
    {
     "name": "stdout",
     "output_type": "stream",
     "text": [
      "epoch: 220 loss:0.311160 auc:0.7428\n",
      "Fit finished.\n",
      "epoch:   0 loss:0.772152 auc:0.4362\n",
      "epoch:  20 loss:0.584741 auc:0.5857\n",
      "epoch:  40 loss:0.488894 auc:0.6022\n",
      "epoch:  60 loss:0.399289 auc:0.5995\n",
      "epoch:  80 loss:0.358824 auc:0.5871\n",
      "epoch: 100 loss:0.339044 auc:0.5885\n",
      "epoch: 120 loss:0.328427 auc:0.5844\n",
      "epoch: 140 loss:0.322203 auc:0.5871\n",
      "epoch: 160 loss:0.318265 auc:0.5802\n"
     ]
    },
    {
     "name": "stderr",
     "output_type": "stream",
     "text": [
      " 78%|███████▊  | 783/1005 [1:35:22<22:19,  6.03s/it]"
     ]
    },
    {
     "name": "stdout",
     "output_type": "stream",
     "text": [
      "epoch: 180 loss:0.315605 auc:0.5830\n",
      "Fit finished.\n",
      "epoch:   0 loss:0.861861 auc:0.3847\n",
      "epoch:  20 loss:0.597775 auc:0.6810\n",
      "epoch:  40 loss:0.542399 auc:0.6416\n",
      "epoch:  60 loss:0.443393 auc:0.5472\n",
      "epoch:  80 loss:0.382063 auc:0.5293\n",
      "epoch: 100 loss:0.353086 auc:0.5329\n",
      "epoch: 120 loss:0.338395 auc:0.5400\n",
      "epoch: 140 loss:0.329782 auc:0.5352\n",
      "epoch: 160 loss:0.324152 auc:0.5532\n"
     ]
    },
    {
     "name": "stderr",
     "output_type": "stream",
     "text": [
      " 78%|███████▊  | 784/1005 [1:35:27<21:13,  5.76s/it]"
     ]
    },
    {
     "name": "stdout",
     "output_type": "stream",
     "text": [
      "epoch: 180 loss:0.320229 auc:0.5556\n",
      "Fit finished.\n",
      "epoch:   0 loss:0.781417 auc:0.3525\n",
      "epoch:  20 loss:0.582696 auc:0.6379\n",
      "epoch:  40 loss:0.479164 auc:0.6063\n",
      "epoch:  60 loss:0.389316 auc:0.5158\n",
      "epoch:  80 loss:0.353477 auc:0.4801\n",
      "epoch: 100 loss:0.337079 auc:0.4774\n",
      "epoch: 120 loss:0.327932 auc:0.4691\n",
      "epoch: 140 loss:0.322244 auc:0.4691\n",
      "epoch: 160 loss:0.318453 auc:0.4664\n"
     ]
    },
    {
     "name": "stderr",
     "output_type": "stream",
     "text": [
      " 78%|███████▊  | 785/1005 [1:35:32<20:53,  5.70s/it]"
     ]
    },
    {
     "name": "stdout",
     "output_type": "stream",
     "text": [
      "epoch: 180 loss:0.315802 auc:0.4636\n",
      "Fit finished.\n",
      "epoch:   0 loss:0.779137 auc:0.4773\n",
      "epoch:  20 loss:0.588083 auc:0.7134\n",
      "epoch:  40 loss:0.497365 auc:0.6755\n",
      "epoch:  60 loss:0.405915 auc:0.6364\n",
      "epoch:  80 loss:0.363334 auc:0.6225\n",
      "epoch: 100 loss:0.341809 auc:0.6149\n",
      "epoch: 120 loss:0.330425 auc:0.5972\n",
      "epoch: 140 loss:0.323875 auc:0.5972\n",
      "epoch: 160 loss:0.319711 auc:0.5972\n"
     ]
    },
    {
     "name": "stderr",
     "output_type": "stream",
     "text": [
      " 78%|███████▊  | 786/1005 [1:35:38<20:52,  5.72s/it]"
     ]
    },
    {
     "name": "stdout",
     "output_type": "stream",
     "text": [
      "epoch: 180 loss:0.316850 auc:0.5960\n",
      "Fit finished.\n",
      "epoch:   0 loss:0.798058 auc:0.4809\n",
      "epoch:  20 loss:0.595826 auc:0.8455\n",
      "epoch:  40 loss:0.513059 auc:0.8177\n",
      "epoch:  60 loss:0.426737 auc:0.8524\n",
      "epoch:  80 loss:0.377849 auc:0.8646\n",
      "epoch: 100 loss:0.351971 auc:0.8559\n",
      "epoch: 120 loss:0.337868 auc:0.8455\n",
      "epoch: 140 loss:0.329294 auc:0.8420\n",
      "epoch: 160 loss:0.323686 auc:0.8368\n"
     ]
    },
    {
     "name": "stderr",
     "output_type": "stream",
     "text": [
      " 78%|███████▊  | 787/1005 [1:35:44<20:35,  5.67s/it]"
     ]
    },
    {
     "name": "stdout",
     "output_type": "stream",
     "text": [
      "epoch: 180 loss:0.319873 auc:0.8385\n",
      "Fit finished.\n",
      "epoch:   0 loss:0.816131 auc:0.4271\n",
      "epoch:  20 loss:0.589384 auc:0.6696\n",
      "epoch:  40 loss:0.496288 auc:0.6577\n",
      "epoch:  60 loss:0.414109 auc:0.6488\n",
      "epoch:  80 loss:0.369481 auc:0.6458\n",
      "epoch: 100 loss:0.346177 auc:0.6429\n",
      "epoch: 120 loss:0.333399 auc:0.6488\n",
      "epoch: 140 loss:0.325696 auc:0.6533\n",
      "epoch: 160 loss:0.320762 auc:0.6518\n"
     ]
    },
    {
     "name": "stderr",
     "output_type": "stream",
     "text": [
      " 78%|███████▊  | 788/1005 [1:35:49<20:12,  5.59s/it]"
     ]
    },
    {
     "name": "stdout",
     "output_type": "stream",
     "text": [
      "epoch: 180 loss:0.317424 auc:0.6533\n",
      "Fit finished.\n",
      "epoch:   0 loss:0.778531 auc:0.3520\n",
      "epoch:  20 loss:0.579439 auc:0.6432\n",
      "epoch:  40 loss:0.474458 auc:0.6736\n",
      "epoch:  60 loss:0.392203 auc:0.6640\n",
      "epoch:  80 loss:0.355967 auc:0.6640\n",
      "epoch: 100 loss:0.338162 auc:0.6624\n",
      "epoch: 120 loss:0.328490 auc:0.6656\n",
      "epoch: 140 loss:0.322555 auc:0.6544\n",
      "epoch: 160 loss:0.318592 auc:0.6464\n",
      "epoch: 180 loss:0.315816 auc:0.6480\n"
     ]
    },
    {
     "name": "stderr",
     "output_type": "stream",
     "text": [
      " 79%|███████▊  | 789/1005 [1:35:55<20:20,  5.65s/it]"
     ]
    },
    {
     "name": "stdout",
     "output_type": "stream",
     "text": [
      "epoch: 200 loss:0.313808 auc:0.6416\n",
      "Fit finished.\n",
      "epoch:   0 loss:0.769625 auc:0.5214\n",
      "epoch:  20 loss:0.584643 auc:0.4690\n",
      "epoch:  40 loss:0.492070 auc:0.4679\n",
      "epoch:  60 loss:0.403793 auc:0.4167\n",
      "epoch:  80 loss:0.361432 auc:0.3976\n",
      "epoch: 100 loss:0.341600 auc:0.3917\n",
      "epoch: 120 loss:0.330446 auc:0.3905\n",
      "epoch: 140 loss:0.323522 auc:0.3774\n"
     ]
    },
    {
     "name": "stderr",
     "output_type": "stream",
     "text": [
      " 79%|███████▊  | 790/1005 [1:36:00<19:46,  5.52s/it]"
     ]
    },
    {
     "name": "stdout",
     "output_type": "stream",
     "text": [
      "epoch: 160 loss:0.319092 auc:0.3798\n",
      "Fit finished.\n",
      "epoch:   0 loss:0.800107 auc:0.5898\n",
      "epoch:  20 loss:0.594255 auc:0.5586\n",
      "epoch:  40 loss:0.507739 auc:0.5742\n",
      "epoch:  60 loss:0.419612 auc:0.5586\n",
      "epoch:  80 loss:0.373336 auc:0.5508\n",
      "epoch: 100 loss:0.349747 auc:0.5508\n",
      "epoch: 120 loss:0.336392 auc:0.5469\n",
      "epoch: 140 loss:0.328033 auc:0.5430\n"
     ]
    },
    {
     "name": "stderr",
     "output_type": "stream",
     "text": [
      " 79%|███████▊  | 791/1005 [1:36:05<18:58,  5.32s/it]"
     ]
    },
    {
     "name": "stdout",
     "output_type": "stream",
     "text": [
      "epoch: 160 loss:0.322543 auc:0.5469\n",
      "Fit finished.\n",
      "epoch:   0 loss:0.793283 auc:0.5951\n",
      "epoch:  20 loss:0.599196 auc:0.7206\n",
      "epoch:  40 loss:0.527114 auc:0.6950\n",
      "epoch:  60 loss:0.442146 auc:0.6451\n",
      "epoch:  80 loss:0.386619 auc:0.6626\n",
      "epoch: 100 loss:0.357256 auc:0.6572\n",
      "epoch: 120 loss:0.341189 auc:0.6572\n",
      "epoch: 140 loss:0.331595 auc:0.6518\n",
      "epoch: 160 loss:0.325488 auc:0.6518\n"
     ]
    },
    {
     "name": "stderr",
     "output_type": "stream",
     "text": [
      " 79%|███████▉  | 792/1005 [1:36:11<19:08,  5.39s/it]"
     ]
    },
    {
     "name": "stdout",
     "output_type": "stream",
     "text": [
      "epoch: 180 loss:0.321328 auc:0.6586\n",
      "Fit finished.\n",
      "epoch:   0 loss:0.788986 auc:0.2653\n",
      "epoch:  20 loss:0.599024 auc:0.7806\n",
      "epoch:  40 loss:0.528183 auc:0.7156\n",
      "epoch:  60 loss:0.430279 auc:0.6633\n",
      "epoch:  80 loss:0.377424 auc:0.6556\n",
      "epoch: 100 loss:0.350712 auc:0.6556\n",
      "epoch: 120 loss:0.336675 auc:0.6429\n",
      "epoch: 140 loss:0.328256 auc:0.6352\n",
      "epoch: 160 loss:0.322777 auc:0.6288\n"
     ]
    },
    {
     "name": "stderr",
     "output_type": "stream",
     "text": [
      " 79%|███████▉  | 793/1005 [1:36:16<19:04,  5.40s/it]"
     ]
    },
    {
     "name": "stdout",
     "output_type": "stream",
     "text": [
      "epoch: 180 loss:0.319009 auc:0.6250\n",
      "Fit finished.\n",
      "epoch:   0 loss:0.818772 auc:0.7950\n",
      "epoch:  20 loss:0.603898 auc:0.6150\n",
      "epoch:  40 loss:0.566318 auc:0.6066\n",
      "epoch:  60 loss:0.477314 auc:0.5956\n",
      "epoch:  80 loss:0.402395 auc:0.6150\n",
      "epoch: 100 loss:0.365123 auc:0.6399\n",
      "epoch: 120 loss:0.345647 auc:0.6288\n",
      "epoch: 140 loss:0.334357 auc:0.6343\n"
     ]
    },
    {
     "name": "stderr",
     "output_type": "stream",
     "text": [
      " 79%|███████▉  | 794/1005 [1:36:21<18:08,  5.16s/it]"
     ]
    },
    {
     "name": "stdout",
     "output_type": "stream",
     "text": [
      "epoch: 160 loss:0.327322 auc:0.6399\n",
      "Fit finished.\n",
      "epoch:   0 loss:0.773218 auc:0.5325\n",
      "epoch:  20 loss:0.596929 auc:0.5518\n",
      "epoch:  40 loss:0.528302 auc:0.5370\n",
      "epoch:  60 loss:0.434278 auc:0.5325\n",
      "epoch:  80 loss:0.379555 auc:0.5222\n",
      "epoch: 100 loss:0.351736 auc:0.5237\n",
      "epoch: 120 loss:0.337418 auc:0.5281\n",
      "epoch: 140 loss:0.329125 auc:0.5192\n"
     ]
    },
    {
     "name": "stderr",
     "output_type": "stream",
     "text": [
      " 79%|███████▉  | 795/1005 [1:36:26<17:54,  5.12s/it]"
     ]
    },
    {
     "name": "stdout",
     "output_type": "stream",
     "text": [
      "epoch: 160 loss:0.323848 auc:0.5222\n",
      "Fit finished.\n",
      "epoch:   0 loss:0.797203 auc:0.6008\n",
      "epoch:  20 loss:0.595805 auc:0.7257\n",
      "epoch:  40 loss:0.518010 auc:0.7572\n",
      "epoch:  60 loss:0.425903 auc:0.7833\n",
      "epoch:  80 loss:0.377891 auc:0.7572\n",
      "epoch: 100 loss:0.351326 auc:0.7476\n",
      "epoch: 120 loss:0.336919 auc:0.7545\n",
      "epoch: 140 loss:0.328510 auc:0.7545\n",
      "epoch: 160 loss:0.323072 auc:0.7545\n",
      "epoch: 180 loss:0.319321 auc:0.7490\n"
     ]
    },
    {
     "name": "stderr",
     "output_type": "stream",
     "text": [
      " 79%|███████▉  | 796/1005 [1:36:32<18:51,  5.41s/it]"
     ]
    },
    {
     "name": "stdout",
     "output_type": "stream",
     "text": [
      "epoch: 200 loss:0.316647 auc:0.7462\n",
      "Fit finished.\n",
      "epoch:   0 loss:0.819601 auc:0.5000\n",
      "epoch:  20 loss:0.595703 auc:0.6377\n",
      "epoch:  40 loss:0.514851 auc:0.6087\n",
      "epoch:  60 loss:0.412572 auc:0.5996\n",
      "epoch:  80 loss:0.367052 auc:0.5978\n",
      "epoch: 100 loss:0.345667 auc:0.5906\n",
      "epoch: 120 loss:0.333818 auc:0.5942\n",
      "epoch: 140 loss:0.326437 auc:0.6087\n",
      "epoch: 160 loss:0.321535 auc:0.6141\n"
     ]
    },
    {
     "name": "stderr",
     "output_type": "stream",
     "text": [
      " 79%|███████▉  | 797/1005 [1:36:37<18:59,  5.48s/it]"
     ]
    },
    {
     "name": "stdout",
     "output_type": "stream",
     "text": [
      "epoch: 180 loss:0.318148 auc:0.6123\n",
      "Fit finished.\n",
      "epoch:   0 loss:0.854566 auc:0.5494\n",
      "epoch:  20 loss:0.594683 auc:0.6852\n",
      "epoch:  40 loss:0.528019 auc:0.6698\n",
      "epoch:  60 loss:0.423966 auc:0.6265\n",
      "epoch:  80 loss:0.372564 auc:0.6420\n",
      "epoch: 100 loss:0.347968 auc:0.6358\n",
      "epoch: 120 loss:0.334776 auc:0.6389\n",
      "epoch: 140 loss:0.326757 auc:0.6389\n",
      "epoch: 160 loss:0.321539 auc:0.6265\n"
     ]
    },
    {
     "name": "stderr",
     "output_type": "stream",
     "text": [
      " 79%|███████▉  | 798/1005 [1:36:43<18:41,  5.42s/it]"
     ]
    },
    {
     "name": "stdout",
     "output_type": "stream",
     "text": [
      "epoch: 180 loss:0.317987 auc:0.6142\n",
      "Fit finished.\n",
      "epoch:   0 loss:0.830407 auc:0.6050\n",
      "epoch:  20 loss:0.595162 auc:0.6775\n",
      "epoch:  40 loss:0.518912 auc:0.7275\n",
      "epoch:  60 loss:0.415112 auc:0.7475\n",
      "epoch:  80 loss:0.367871 auc:0.7575\n",
      "epoch: 100 loss:0.346236 auc:0.7625\n",
      "epoch: 120 loss:0.334186 auc:0.7625\n",
      "epoch: 140 loss:0.326738 auc:0.7600\n",
      "epoch: 160 loss:0.321823 auc:0.7600\n",
      "epoch: 180 loss:0.318411 auc:0.7625\n",
      "epoch: 200 loss:0.315973 auc:0.7650\n",
      "epoch: 220 loss:0.314172 auc:0.7725\n",
      "epoch: 240 loss:0.312802 auc:0.7675\n"
     ]
    },
    {
     "name": "stderr",
     "output_type": "stream",
     "text": [
      " 80%|███████▉  | 799/1005 [1:36:50<20:07,  5.86s/it]"
     ]
    },
    {
     "name": "stdout",
     "output_type": "stream",
     "text": [
      "epoch: 260 loss:0.311737 auc:0.7550\n",
      "Fit finished.\n",
      "epoch:   0 loss:0.789030 auc:0.5204\n",
      "epoch:  20 loss:0.575655 auc:0.6827\n",
      "epoch:  40 loss:0.473865 auc:0.6418\n",
      "epoch:  60 loss:0.398161 auc:0.6214\n",
      "epoch:  80 loss:0.360075 auc:0.5998\n",
      "epoch: 100 loss:0.340265 auc:0.5829\n",
      "epoch: 120 loss:0.329580 auc:0.5709\n",
      "epoch: 140 loss:0.323230 auc:0.5661\n",
      "epoch: 160 loss:0.319156 auc:0.5673\n"
     ]
    },
    {
     "name": "stderr",
     "output_type": "stream",
     "text": [
      " 80%|███████▉  | 800/1005 [1:36:55<19:50,  5.81s/it]"
     ]
    },
    {
     "name": "stdout",
     "output_type": "stream",
     "text": [
      "epoch: 180 loss:0.316377 auc:0.5685\n",
      "Fit finished.\n",
      "epoch:   0 loss:0.803422 auc:0.4362\n",
      "epoch:  20 loss:0.600713 auc:0.6684\n",
      "epoch:  40 loss:0.538640 auc:0.6709\n",
      "epoch:  60 loss:0.433963 auc:0.6135\n",
      "epoch:  80 loss:0.376476 auc:0.5714\n",
      "epoch: 100 loss:0.350174 auc:0.5293\n",
      "epoch: 120 loss:0.336503 auc:0.5242\n",
      "epoch: 140 loss:0.328375 auc:0.5217\n",
      "epoch: 160 loss:0.323084 auc:0.5255\n"
     ]
    },
    {
     "name": "stderr",
     "output_type": "stream",
     "text": [
      " 80%|███████▉  | 801/1005 [1:37:01<19:49,  5.83s/it]"
     ]
    },
    {
     "name": "stdout",
     "output_type": "stream",
     "text": [
      "epoch: 180 loss:0.319415 auc:0.5268\n",
      "Fit finished.\n",
      "epoch:   0 loss:0.804349 auc:0.5500\n",
      "epoch:  20 loss:0.597102 auc:0.5056\n",
      "epoch:  40 loss:0.533431 auc:0.5306\n",
      "epoch:  60 loss:0.433612 auc:0.5972\n",
      "epoch:  80 loss:0.379201 auc:0.6361\n",
      "epoch: 100 loss:0.351635 auc:0.6389\n",
      "epoch: 120 loss:0.336794 auc:0.6500\n",
      "epoch: 140 loss:0.327921 auc:0.6472\n",
      "epoch: 160 loss:0.322308 auc:0.6361\n",
      "epoch: 180 loss:0.318555 auc:0.6347\n",
      "epoch: 200 loss:0.315932 auc:0.6236\n",
      "epoch: 220 loss:0.314038 auc:0.6250\n"
     ]
    },
    {
     "name": "stderr",
     "output_type": "stream",
     "text": [
      " 80%|███████▉  | 802/1005 [1:37:08<21:07,  6.24s/it]"
     ]
    },
    {
     "name": "stdout",
     "output_type": "stream",
     "text": [
      "epoch: 240 loss:0.312629 auc:0.6194\n",
      "Fit finished.\n",
      "epoch:   0 loss:0.787662 auc:0.3841\n",
      "epoch:  20 loss:0.590125 auc:0.6861\n",
      "epoch:  40 loss:0.501117 auc:0.6766\n",
      "epoch:  60 loss:0.408302 auc:0.6433\n",
      "epoch:  80 loss:0.364650 auc:0.6528\n",
      "epoch: 100 loss:0.343831 auc:0.6564\n",
      "epoch: 120 loss:0.332662 auc:0.6635\n",
      "epoch: 140 loss:0.325836 auc:0.6516\n",
      "epoch: 160 loss:0.321303 auc:0.6338\n"
     ]
    },
    {
     "name": "stderr",
     "output_type": "stream",
     "text": [
      " 80%|████████  | 804/1005 [1:37:14<15:45,  4.71s/it]"
     ]
    },
    {
     "name": "stdout",
     "output_type": "stream",
     "text": [
      "epoch: 180 loss:0.318104 auc:0.6278\n",
      "Fit finished.\n",
      "epoch:   0 loss:0.784372 auc:0.5765\n",
      "epoch:  20 loss:0.589347 auc:0.6531\n",
      "epoch:  40 loss:0.500852 auc:0.6327\n",
      "epoch:  60 loss:0.410588 auc:0.6276\n",
      "epoch:  80 loss:0.367598 auc:0.6263\n",
      "epoch: 100 loss:0.345777 auc:0.6365\n",
      "epoch: 120 loss:0.333399 auc:0.6339\n",
      "epoch: 140 loss:0.325957 auc:0.6378\n",
      "epoch: 160 loss:0.321183 auc:0.6390\n"
     ]
    },
    {
     "name": "stderr",
     "output_type": "stream",
     "text": [
      " 80%|████████  | 805/1005 [1:37:20<16:32,  4.96s/it]"
     ]
    },
    {
     "name": "stdout",
     "output_type": "stream",
     "text": [
      "epoch: 180 loss:0.317932 auc:0.6314\n",
      "Fit finished.\n",
      "epoch:   0 loss:0.756224 auc:0.2996\n",
      "epoch:  20 loss:0.557292 auc:0.5475\n",
      "epoch:  40 loss:0.432607 auc:0.5227\n",
      "epoch:  60 loss:0.368305 auc:0.5455\n",
      "epoch:  80 loss:0.340937 auc:0.5475\n",
      "epoch: 100 loss:0.328267 auc:0.5393\n",
      "epoch: 120 loss:0.321365 auc:0.5289\n",
      "epoch: 140 loss:0.317218 auc:0.5207\n",
      "epoch: 160 loss:0.314549 auc:0.5186\n"
     ]
    },
    {
     "name": "stderr",
     "output_type": "stream",
     "text": [
      " 80%|████████  | 806/1005 [1:37:25<16:53,  5.09s/it]"
     ]
    },
    {
     "name": "stdout",
     "output_type": "stream",
     "text": [
      "epoch: 180 loss:0.312739 auc:0.5165\n",
      "Fit finished.\n",
      "epoch:   0 loss:0.802356 auc:0.4331\n",
      "epoch:  20 loss:0.566886 auc:0.5669\n",
      "epoch:  40 loss:0.447480 auc:0.6190\n",
      "epoch:  60 loss:0.376939 auc:0.5669\n",
      "epoch:  80 loss:0.346266 auc:0.5669\n",
      "epoch: 100 loss:0.331614 auc:0.5828\n",
      "epoch: 120 loss:0.323772 auc:0.5828\n",
      "epoch: 140 loss:0.319104 auc:0.5941\n",
      "epoch: 160 loss:0.316058 auc:0.6009\n",
      "epoch: 180 loss:0.313947 auc:0.6100\n"
     ]
    },
    {
     "name": "stderr",
     "output_type": "stream",
     "text": [
      " 80%|████████  | 807/1005 [1:37:31<17:33,  5.32s/it]"
     ]
    },
    {
     "name": "stdout",
     "output_type": "stream",
     "text": [
      "epoch: 200 loss:0.312432 auc:0.6077\n",
      "Fit finished.\n",
      "epoch:   0 loss:0.795072 auc:0.1625\n",
      "epoch:  20 loss:0.569881 auc:0.5750\n",
      "epoch:  40 loss:0.440354 auc:0.5200\n",
      "epoch:  60 loss:0.370199 auc:0.5100\n",
      "epoch:  80 loss:0.341530 auc:0.5050\n",
      "epoch: 100 loss:0.328544 auc:0.5175\n",
      "epoch: 120 loss:0.321742 auc:0.5075\n",
      "epoch: 140 loss:0.317654 auc:0.5200\n",
      "epoch: 160 loss:0.314912 auc:0.5175\n"
     ]
    },
    {
     "name": "stderr",
     "output_type": "stream",
     "text": [
      " 80%|████████  | 808/1005 [1:37:37<17:48,  5.42s/it]"
     ]
    },
    {
     "name": "stdout",
     "output_type": "stream",
     "text": [
      "epoch: 180 loss:0.312975 auc:0.5175\n",
      "Fit finished.\n",
      "epoch:   0 loss:0.784703 auc:0.5426\n",
      "epoch:  20 loss:0.559373 auc:0.5634\n",
      "epoch:  40 loss:0.418905 auc:0.6371\n",
      "epoch:  60 loss:0.358015 auc:0.6498\n",
      "epoch:  80 loss:0.334668 auc:0.6313\n",
      "epoch: 100 loss:0.324196 auc:0.6290\n",
      "epoch: 120 loss:0.318753 auc:0.6256\n",
      "epoch: 140 loss:0.315439 auc:0.6198\n",
      "epoch: 160 loss:0.313202 auc:0.6198\n",
      "epoch: 180 loss:0.311626 auc:0.6164\n"
     ]
    },
    {
     "name": "stderr",
     "output_type": "stream",
     "text": [
      " 80%|████████  | 809/1005 [1:37:43<18:21,  5.62s/it]"
     ]
    },
    {
     "name": "stdout",
     "output_type": "stream",
     "text": [
      "epoch: 200 loss:0.310490 auc:0.6164\n",
      "Fit finished.\n",
      "epoch:   0 loss:0.770589 auc:0.4896\n",
      "epoch:  20 loss:0.595555 auc:0.4631\n",
      "epoch:  40 loss:0.522476 auc:0.4745\n",
      "epoch:  60 loss:0.428998 auc:0.4612\n",
      "epoch:  80 loss:0.378276 auc:0.4612\n",
      "epoch: 100 loss:0.351779 auc:0.4575\n",
      "epoch: 120 loss:0.337360 auc:0.4631\n",
      "epoch: 140 loss:0.328721 auc:0.4461\n"
     ]
    },
    {
     "name": "stderr",
     "output_type": "stream",
     "text": [
      " 81%|████████  | 810/1005 [1:37:48<17:22,  5.35s/it]"
     ]
    },
    {
     "name": "stdout",
     "output_type": "stream",
     "text": [
      "epoch: 160 loss:0.323192 auc:0.4329\n",
      "Fit finished.\n",
      "epoch:   0 loss:0.790246 auc:0.4805\n",
      "epoch:  20 loss:0.573569 auc:0.5664\n",
      "epoch:  40 loss:0.459333 auc:0.6016\n",
      "epoch:  60 loss:0.386917 auc:0.6328\n",
      "epoch:  80 loss:0.352547 auc:0.6094\n",
      "epoch: 100 loss:0.335937 auc:0.6016\n",
      "epoch: 120 loss:0.326902 auc:0.5781\n",
      "epoch: 140 loss:0.321424 auc:0.5859\n",
      "epoch: 160 loss:0.317858 auc:0.5898\n",
      "epoch: 180 loss:0.315388 auc:0.5898\n"
     ]
    },
    {
     "name": "stderr",
     "output_type": "stream",
     "text": [
      " 81%|████████  | 811/1005 [1:37:54<18:01,  5.57s/it]"
     ]
    },
    {
     "name": "stdout",
     "output_type": "stream",
     "text": [
      "epoch: 200 loss:0.313609 auc:0.5781\n",
      "Fit finished.\n",
      "epoch:   0 loss:0.849223 auc:0.3611\n",
      "epoch:  20 loss:0.594912 auc:0.5000\n",
      "epoch:  40 loss:0.520537 auc:0.5694\n",
      "epoch:  60 loss:0.439986 auc:0.5347\n",
      "epoch:  80 loss:0.386797 auc:0.5069\n",
      "epoch: 100 loss:0.355986 auc:0.5000\n",
      "epoch: 120 loss:0.339374 auc:0.4653\n",
      "epoch: 140 loss:0.329842 auc:0.4653\n",
      "epoch: 160 loss:0.323942 auc:0.4514\n"
     ]
    },
    {
     "name": "stderr",
     "output_type": "stream",
     "text": [
      " 81%|████████  | 812/1005 [1:37:59<17:53,  5.56s/it]"
     ]
    },
    {
     "name": "stdout",
     "output_type": "stream",
     "text": [
      "epoch: 180 loss:0.320007 auc:0.4444\n",
      "Fit finished.\n",
      "epoch:   0 loss:0.789478 auc:0.3375\n",
      "epoch:  20 loss:0.590415 auc:0.6550\n",
      "epoch:  40 loss:0.504853 auc:0.6250\n",
      "epoch:  60 loss:0.416308 auc:0.6425\n",
      "epoch:  80 loss:0.369091 auc:0.6325\n",
      "epoch: 100 loss:0.346198 auc:0.6275\n",
      "epoch: 120 loss:0.333868 auc:0.6250\n",
      "epoch: 140 loss:0.326438 auc:0.6225\n",
      "epoch: 160 loss:0.321621 auc:0.6175\n"
     ]
    },
    {
     "name": "stderr",
     "output_type": "stream",
     "text": [
      " 81%|████████  | 813/1005 [1:38:05<18:10,  5.68s/it]"
     ]
    },
    {
     "name": "stdout",
     "output_type": "stream",
     "text": [
      "epoch: 180 loss:0.318331 auc:0.6225\n",
      "Fit finished.\n",
      "epoch:   0 loss:0.782028 auc:0.4925\n",
      "epoch:  20 loss:0.598463 auc:0.5240\n",
      "epoch:  40 loss:0.535793 auc:0.5034\n",
      "epoch:  60 loss:0.440393 auc:0.4870\n",
      "epoch:  80 loss:0.384794 auc:0.4801\n",
      "epoch: 100 loss:0.354681 auc:0.5021\n",
      "epoch: 120 loss:0.338941 auc:0.5117\n",
      "epoch: 140 loss:0.329635 auc:0.5130\n",
      "epoch: 160 loss:0.323614 auc:0.5103\n"
     ]
    },
    {
     "name": "stderr",
     "output_type": "stream",
     "text": [
      " 81%|████████  | 814/1005 [1:38:11<17:56,  5.63s/it]"
     ]
    },
    {
     "name": "stdout",
     "output_type": "stream",
     "text": [
      "epoch: 180 loss:0.319532 auc:0.5103\n",
      "Fit finished.\n",
      "epoch:   0 loss:0.801923 auc:0.6703\n",
      "epoch:  20 loss:0.583836 auc:0.6129\n",
      "epoch:  40 loss:0.497169 auc:0.6380\n",
      "epoch:  60 loss:0.408549 auc:0.6332\n",
      "epoch:  80 loss:0.365668 auc:0.6571\n",
      "epoch: 100 loss:0.343697 auc:0.6631\n",
      "epoch: 120 loss:0.331743 auc:0.6595\n",
      "epoch: 140 loss:0.324661 auc:0.6691\n",
      "epoch: 160 loss:0.320111 auc:0.6714\n",
      "epoch: 180 loss:0.316995 auc:0.6643\n",
      "epoch: 200 loss:0.314761 auc:0.6667\n",
      "epoch: 220 loss:0.313115 auc:0.6703\n",
      "epoch: 240 loss:0.311873 auc:0.6691\n",
      "epoch: 260 loss:0.310921 auc:0.6703\n",
      "epoch: 280 loss:0.310180 auc:0.6726\n",
      "epoch: 300 loss:0.309595 auc:0.6738\n"
     ]
    },
    {
     "name": "stderr",
     "output_type": "stream",
     "text": [
      " 81%|████████  | 815/1005 [1:38:20<21:01,  6.64s/it]"
     ]
    },
    {
     "name": "stdout",
     "output_type": "stream",
     "text": [
      "epoch: 320 loss:0.309126 auc:0.6703\n",
      "Fit finished.\n",
      "epoch:   0 loss:0.779213 auc:0.5625\n",
      "epoch:  20 loss:0.550737 auc:0.5373\n",
      "epoch:  40 loss:0.410254 auc:0.5745\n",
      "epoch:  60 loss:0.354221 auc:0.5745\n",
      "epoch:  80 loss:0.332198 auc:0.5625\n",
      "epoch: 100 loss:0.322059 auc:0.5649\n",
      "epoch: 120 loss:0.316725 auc:0.5673\n",
      "epoch: 140 loss:0.313668 auc:0.5661\n",
      "epoch: 160 loss:0.311780 auc:0.5649\n",
      "epoch: 180 loss:0.310541 auc:0.5625\n"
     ]
    },
    {
     "name": "stderr",
     "output_type": "stream",
     "text": [
      " 81%|████████  | 816/1005 [1:38:26<20:09,  6.40s/it]"
     ]
    },
    {
     "name": "stdout",
     "output_type": "stream",
     "text": [
      "epoch: 200 loss:0.309688 auc:0.5589\n",
      "Fit finished.\n",
      "epoch:   0 loss:0.790057 auc:0.4875\n",
      "epoch:  20 loss:0.586027 auc:0.6850\n",
      "epoch:  40 loss:0.503063 auc:0.6225\n",
      "epoch:  60 loss:0.409475 auc:0.5775\n",
      "epoch:  80 loss:0.367085 auc:0.5800\n",
      "epoch: 100 loss:0.346318 auc:0.6100\n",
      "epoch: 120 loss:0.334383 auc:0.6075\n",
      "epoch: 140 loss:0.327007 auc:0.6025\n",
      "epoch: 160 loss:0.322192 auc:0.5975\n"
     ]
    },
    {
     "name": "stderr",
     "output_type": "stream",
     "text": [
      " 81%|████████▏ | 817/1005 [1:38:31<19:19,  6.17s/it]"
     ]
    },
    {
     "name": "stdout",
     "output_type": "stream",
     "text": [
      "epoch: 180 loss:0.318886 auc:0.6000\n",
      "Fit finished.\n",
      "epoch:   0 loss:0.841581 auc:0.3654\n",
      "epoch:  20 loss:0.581236 auc:0.4689\n",
      "epoch:  40 loss:0.487131 auc:0.4763\n",
      "epoch:  60 loss:0.402247 auc:0.4719\n",
      "epoch:  80 loss:0.359617 auc:0.4867\n",
      "epoch: 100 loss:0.339667 auc:0.4749\n",
      "epoch: 120 loss:0.329180 auc:0.4704\n",
      "epoch: 140 loss:0.322980 auc:0.4734\n",
      "epoch: 160 loss:0.318981 auc:0.4689\n"
     ]
    },
    {
     "name": "stderr",
     "output_type": "stream",
     "text": [
      " 81%|████████▏ | 818/1005 [1:38:37<18:36,  5.97s/it]"
     ]
    },
    {
     "name": "stdout",
     "output_type": "stream",
     "text": [
      "epoch: 180 loss:0.316255 auc:0.4675\n",
      "Fit finished.\n",
      "epoch:   0 loss:0.778436 auc:0.4928\n",
      "epoch:  20 loss:0.597202 auc:0.6320\n",
      "epoch:  40 loss:0.529295 auc:0.5968\n",
      "epoch:  60 loss:0.430674 auc:0.5872\n",
      "epoch:  80 loss:0.375808 auc:0.5872\n",
      "epoch: 100 loss:0.350387 auc:0.5968\n",
      "epoch: 120 loss:0.336770 auc:0.5888\n",
      "epoch: 140 loss:0.328590 auc:0.5760\n",
      "epoch: 160 loss:0.323264 auc:0.5728\n"
     ]
    },
    {
     "name": "stderr",
     "output_type": "stream",
     "text": [
      " 81%|████████▏ | 819/1005 [1:38:42<17:54,  5.78s/it]"
     ]
    },
    {
     "name": "stdout",
     "output_type": "stream",
     "text": [
      "epoch: 180 loss:0.319581 auc:0.5712\n",
      "Fit finished.\n",
      "epoch:   0 loss:0.802169 auc:0.5825\n",
      "epoch:  20 loss:0.601170 auc:0.6775\n",
      "epoch:  40 loss:0.549459 auc:0.6425\n",
      "epoch:  60 loss:0.452493 auc:0.4575\n",
      "epoch:  80 loss:0.390308 auc:0.3750\n",
      "epoch: 100 loss:0.358602 auc:0.3550\n",
      "epoch: 120 loss:0.341575 auc:0.3425\n",
      "epoch: 140 loss:0.331632 auc:0.3300\n"
     ]
    },
    {
     "name": "stderr",
     "output_type": "stream",
     "text": [
      " 82%|████████▏ | 820/1005 [1:38:47<17:01,  5.52s/it]"
     ]
    },
    {
     "name": "stdout",
     "output_type": "stream",
     "text": [
      "epoch: 160 loss:0.325338 auc:0.3225\n",
      "Fit finished.\n",
      "epoch:   0 loss:0.817576 auc:0.5336\n",
      "epoch:  20 loss:0.590307 auc:0.6968\n",
      "epoch:  40 loss:0.501306 auc:0.7720\n",
      "epoch:  60 loss:0.408251 auc:0.7535\n",
      "epoch:  80 loss:0.364790 auc:0.7176\n",
      "epoch: 100 loss:0.342506 auc:0.7164\n",
      "epoch: 120 loss:0.330412 auc:0.7199\n",
      "epoch: 140 loss:0.323479 auc:0.7188\n",
      "epoch: 160 loss:0.319175 auc:0.7095\n",
      "epoch: 180 loss:0.316304 auc:0.7106\n"
     ]
    },
    {
     "name": "stderr",
     "output_type": "stream",
     "text": [
      " 82%|████████▏ | 821/1005 [1:38:53<17:12,  5.61s/it]"
     ]
    },
    {
     "name": "stdout",
     "output_type": "stream",
     "text": [
      "epoch: 200 loss:0.314271 auc:0.7072\n",
      "Fit finished.\n",
      "epoch:   0 loss:0.795298 auc:0.5550\n",
      "epoch:  20 loss:0.589520 auc:0.7251\n",
      "epoch:  40 loss:0.498077 auc:0.7033\n",
      "epoch:  60 loss:0.413056 auc:0.7391\n",
      "epoch:  80 loss:0.369149 auc:0.7494\n",
      "epoch: 100 loss:0.346254 auc:0.7404\n",
      "epoch: 120 loss:0.333540 auc:0.7366\n",
      "epoch: 140 loss:0.325993 auc:0.7276\n",
      "epoch: 160 loss:0.321200 auc:0.7251\n",
      "epoch: 180 loss:0.317941 auc:0.7251\n",
      "epoch: 200 loss:0.315598 auc:0.7199\n"
     ]
    },
    {
     "name": "stderr",
     "output_type": "stream",
     "text": [
      " 82%|████████▏ | 822/1005 [1:38:59<17:57,  5.89s/it]"
     ]
    },
    {
     "name": "stdout",
     "output_type": "stream",
     "text": [
      "epoch: 220 loss:0.313841 auc:0.7187\n",
      "Fit finished.\n",
      "epoch:   0 loss:0.807091 auc:0.4660\n",
      "epoch:  20 loss:0.590693 auc:0.5370\n",
      "epoch:  40 loss:0.499421 auc:0.4778\n",
      "epoch:  60 loss:0.410505 auc:0.4778\n",
      "epoch:  80 loss:0.366270 auc:0.4467\n",
      "epoch: 100 loss:0.343707 auc:0.4320\n",
      "epoch: 120 loss:0.331765 auc:0.4320\n",
      "epoch: 140 loss:0.324735 auc:0.4349\n"
     ]
    },
    {
     "name": "stderr",
     "output_type": "stream",
     "text": [
      " 82%|████████▏ | 823/1005 [1:39:04<16:51,  5.56s/it]"
     ]
    },
    {
     "name": "stdout",
     "output_type": "stream",
     "text": [
      "epoch: 160 loss:0.320223 auc:0.4349\n",
      "Fit finished.\n",
      "epoch:   0 loss:0.823507 auc:0.4010\n",
      "epoch:  20 loss:0.597343 auc:0.7500\n",
      "epoch:  40 loss:0.524035 auc:0.7344\n",
      "epoch:  60 loss:0.435024 auc:0.6545\n",
      "epoch:  80 loss:0.381065 auc:0.6632\n",
      "epoch: 100 loss:0.353047 auc:0.7031\n",
      "epoch: 120 loss:0.338151 auc:0.7066\n",
      "epoch: 140 loss:0.329590 auc:0.7101\n",
      "epoch: 160 loss:0.324114 auc:0.7135\n"
     ]
    },
    {
     "name": "stderr",
     "output_type": "stream",
     "text": [
      " 82%|████████▏ | 824/1005 [1:39:10<16:49,  5.58s/it]"
     ]
    },
    {
     "name": "stdout",
     "output_type": "stream",
     "text": [
      "epoch: 180 loss:0.320262 auc:0.7153\n",
      "Fit finished.\n",
      "epoch:   0 loss:0.799042 auc:0.6147\n",
      "epoch:  20 loss:0.579914 auc:0.5627\n",
      "epoch:  40 loss:0.486068 auc:0.6147\n",
      "epoch:  60 loss:0.402899 auc:0.6107\n",
      "epoch:  80 loss:0.362827 auc:0.5960\n",
      "epoch: 100 loss:0.343104 auc:0.6187\n",
      "epoch: 120 loss:0.331763 auc:0.5933\n",
      "epoch: 140 loss:0.324684 auc:0.5787\n"
     ]
    },
    {
     "name": "stderr",
     "output_type": "stream",
     "text": [
      " 82%|████████▏ | 825/1005 [1:39:16<16:50,  5.61s/it]"
     ]
    },
    {
     "name": "stdout",
     "output_type": "stream",
     "text": [
      "epoch: 160 loss:0.319973 auc:0.5693\n",
      "Fit finished.\n",
      "epoch:   0 loss:0.775994 auc:0.4987\n",
      "epoch:  20 loss:0.594895 auc:0.6620\n",
      "epoch:  40 loss:0.518691 auc:0.5472\n",
      "epoch:  60 loss:0.423460 auc:0.4745\n",
      "epoch:  80 loss:0.373263 auc:0.4426\n",
      "epoch: 100 loss:0.348330 auc:0.4490\n",
      "epoch: 120 loss:0.334914 auc:0.4566\n",
      "epoch: 140 loss:0.326971 auc:0.4605\n"
     ]
    },
    {
     "name": "stderr",
     "output_type": "stream",
     "text": [
      " 82%|████████▏ | 826/1005 [1:39:20<16:01,  5.37s/it]"
     ]
    },
    {
     "name": "stdout",
     "output_type": "stream",
     "text": [
      "epoch: 160 loss:0.321815 auc:0.4566\n",
      "Fit finished.\n",
      "epoch:   0 loss:0.802157 auc:0.5906\n",
      "epoch:  20 loss:0.596534 auc:0.6055\n",
      "epoch:  40 loss:0.526017 auc:0.7022\n",
      "epoch:  60 loss:0.430856 auc:0.6315\n",
      "epoch:  80 loss:0.376169 auc:0.6079\n",
      "epoch: 100 loss:0.349448 auc:0.5806\n",
      "epoch: 120 loss:0.335416 auc:0.5806\n",
      "epoch: 140 loss:0.327141 auc:0.5757\n"
     ]
    },
    {
     "name": "stderr",
     "output_type": "stream",
     "text": [
      " 82%|████████▏ | 827/1005 [1:39:25<15:23,  5.19s/it]"
     ]
    },
    {
     "name": "stdout",
     "output_type": "stream",
     "text": [
      "epoch: 160 loss:0.321866 auc:0.5806\n",
      "Fit finished.\n",
      "epoch:   0 loss:0.785203 auc:0.5600\n",
      "epoch:  20 loss:0.594093 auc:0.6672\n",
      "epoch:  40 loss:0.519427 auc:0.6112\n",
      "epoch:  60 loss:0.427877 auc:0.6096\n",
      "epoch:  80 loss:0.375087 auc:0.5904\n",
      "epoch: 100 loss:0.348945 auc:0.5808\n",
      "epoch: 120 loss:0.335259 auc:0.5904\n",
      "epoch: 140 loss:0.327430 auc:0.5776\n",
      "epoch: 160 loss:0.322452 auc:0.5776\n"
     ]
    },
    {
     "name": "stderr",
     "output_type": "stream",
     "text": [
      " 82%|████████▏ | 828/1005 [1:39:31<15:42,  5.33s/it]"
     ]
    },
    {
     "name": "stdout",
     "output_type": "stream",
     "text": [
      "epoch: 180 loss:0.318988 auc:0.5696\n",
      "Fit finished.\n",
      "epoch:   0 loss:0.828936 auc:0.6012\n",
      "epoch:  20 loss:0.598320 auc:0.5971\n",
      "epoch:  40 loss:0.537182 auc:0.6322\n",
      "epoch:  60 loss:0.439413 auc:0.6240\n",
      "epoch:  80 loss:0.385554 auc:0.6198\n",
      "epoch: 100 loss:0.356980 auc:0.6219\n",
      "epoch: 120 loss:0.341462 auc:0.6116\n",
      "epoch: 140 loss:0.331992 auc:0.6074\n",
      "epoch: 160 loss:0.325669 auc:0.6095\n",
      "epoch: 180 loss:0.321294 auc:0.6116\n"
     ]
    },
    {
     "name": "stderr",
     "output_type": "stream",
     "text": [
      " 82%|████████▏ | 829/1005 [1:39:37<15:57,  5.44s/it]"
     ]
    },
    {
     "name": "stdout",
     "output_type": "stream",
     "text": [
      "epoch: 200 loss:0.318186 auc:0.6095\n",
      "Fit finished.\n",
      "epoch:   0 loss:0.778800 auc:0.4339\n",
      "epoch:  20 loss:0.576143 auc:0.6136\n",
      "epoch:  40 loss:0.465844 auc:0.5640\n",
      "epoch:  60 loss:0.387844 auc:0.5785\n",
      "epoch:  80 loss:0.352115 auc:0.5393\n",
      "epoch: 100 loss:0.335668 auc:0.5372\n",
      "epoch: 120 loss:0.326969 auc:0.5413\n",
      "epoch: 140 loss:0.321630 auc:0.5413\n",
      "epoch: 160 loss:0.318056 auc:0.5372\n"
     ]
    },
    {
     "name": "stderr",
     "output_type": "stream",
     "text": [
      " 83%|████████▎ | 830/1005 [1:39:42<16:11,  5.55s/it]"
     ]
    },
    {
     "name": "stdout",
     "output_type": "stream",
     "text": [
      "epoch: 180 loss:0.315550 auc:0.5372\n",
      "Fit finished.\n",
      "epoch:   0 loss:0.791013 auc:0.5163\n",
      "epoch:  20 loss:0.575165 auc:0.6760\n",
      "epoch:  40 loss:0.467002 auc:0.6657\n",
      "epoch:  60 loss:0.386159 auc:0.7027\n",
      "epoch:  80 loss:0.350394 auc:0.7115\n",
      "epoch: 100 loss:0.333623 auc:0.7086\n",
      "epoch: 120 loss:0.324953 auc:0.7086\n",
      "epoch: 140 loss:0.319931 auc:0.7012\n",
      "epoch: 160 loss:0.316680 auc:0.6982\n",
      "epoch: 180 loss:0.314416 auc:0.6938\n",
      "epoch: 200 loss:0.312779 auc:0.6967\n"
     ]
    },
    {
     "name": "stderr",
     "output_type": "stream",
     "text": [
      " 83%|████████▎ | 831/1005 [1:39:49<16:43,  5.77s/it]"
     ]
    },
    {
     "name": "stdout",
     "output_type": "stream",
     "text": [
      "epoch: 220 loss:0.311569 auc:0.6953\n",
      "Fit finished.\n",
      "epoch:   0 loss:0.789008 auc:0.4121\n",
      "epoch:  20 loss:0.565327 auc:0.8147\n",
      "epoch:  40 loss:0.432654 auc:0.6900\n",
      "epoch:  60 loss:0.367382 auc:0.6389\n",
      "epoch:  80 loss:0.340164 auc:0.6295\n",
      "epoch: 100 loss:0.327724 auc:0.6352\n",
      "epoch: 120 loss:0.321164 auc:0.6352\n",
      "epoch: 140 loss:0.317206 auc:0.6352\n",
      "epoch: 160 loss:0.314541 auc:0.6427\n"
     ]
    },
    {
     "name": "stderr",
     "output_type": "stream",
     "text": [
      " 83%|████████▎ | 832/1005 [1:39:54<16:10,  5.61s/it]"
     ]
    },
    {
     "name": "stdout",
     "output_type": "stream",
     "text": [
      "epoch: 180 loss:0.312640 auc:0.6389\n",
      "Fit finished.\n",
      "epoch:   0 loss:0.802704 auc:0.3876\n",
      "epoch:  20 loss:0.603389 auc:0.6509\n",
      "epoch:  40 loss:0.555905 auc:0.6524\n",
      "epoch:  60 loss:0.452754 auc:0.6524\n",
      "epoch:  80 loss:0.386686 auc:0.6657\n",
      "epoch: 100 loss:0.355010 auc:0.6746\n",
      "epoch: 120 loss:0.338888 auc:0.6790\n",
      "epoch: 140 loss:0.329752 auc:0.6686\n",
      "epoch: 160 loss:0.324023 auc:0.6701\n",
      "epoch: 180 loss:0.320144 auc:0.6701\n",
      "epoch: 200 loss:0.317377 auc:0.6731\n",
      "epoch: 220 loss:0.315322 auc:0.6805\n",
      "epoch: 240 loss:0.313753 auc:0.6820\n",
      "epoch: 260 loss:0.312541 auc:0.6879\n",
      "epoch: 280 loss:0.311598 auc:0.6864\n",
      "epoch: 300 loss:0.310859 auc:0.6893\n",
      "epoch: 320 loss:0.310270 auc:0.6982\n",
      "epoch: 340 loss:0.309796 auc:0.6997\n",
      "epoch: 360 loss:0.309405 auc:0.6982\n",
      "epoch: 380 loss:0.309079 auc:0.6982\n",
      "epoch: 400 loss:0.308803 auc:0.6967\n",
      "epoch: 420 loss:0.308567 auc:0.6953\n",
      "epoch: 440 loss:0.308363 auc:0.6997\n",
      "epoch: 460 loss:0.308187 auc:0.7012\n",
      "epoch: 480 loss:0.308033 auc:0.7012\n",
      "epoch: 500 loss:0.307900 auc:0.7027\n",
      "epoch: 520 loss:0.307784 auc:0.7041\n",
      "epoch: 540 loss:0.307682 auc:0.7056\n",
      "epoch: 560 loss:0.307593 auc:0.7041\n",
      "epoch: 580 loss:0.307513 auc:0.7041\n",
      "epoch: 600 loss:0.307443 auc:0.7041\n",
      "epoch: 620 loss:0.307380 auc:0.7027\n",
      "epoch: 640 loss:0.307323 auc:0.7012\n"
     ]
    },
    {
     "name": "stderr",
     "output_type": "stream",
     "text": [
      " 83%|████████▎ | 833/1005 [1:40:10<25:24,  8.87s/it]"
     ]
    },
    {
     "name": "stdout",
     "output_type": "stream",
     "text": [
      "epoch: 660 loss:0.307271 auc:0.6997\n",
      "Fit finished.\n",
      "epoch:   0 loss:0.810402 auc:0.5808\n",
      "epoch:  20 loss:0.585578 auc:0.7760\n",
      "epoch:  40 loss:0.485128 auc:0.7760\n",
      "epoch:  60 loss:0.411300 auc:0.7696\n",
      "epoch:  80 loss:0.371073 auc:0.7472\n",
      "epoch: 100 loss:0.348257 auc:0.7248\n",
      "epoch: 120 loss:0.335026 auc:0.7072\n",
      "epoch: 140 loss:0.326992 auc:0.6928\n",
      "epoch: 160 loss:0.321879 auc:0.6864\n"
     ]
    },
    {
     "name": "stderr",
     "output_type": "stream",
     "text": [
      " 83%|████████▎ | 834/1005 [1:40:15<22:04,  7.75s/it]"
     ]
    },
    {
     "name": "stdout",
     "output_type": "stream",
     "text": [
      "epoch: 180 loss:0.318436 auc:0.6784\n",
      "Fit finished.\n",
      "epoch:   0 loss:0.811581 auc:0.4497\n",
      "epoch:  20 loss:0.585738 auc:0.5448\n",
      "epoch:  40 loss:0.488620 auc:0.4688\n",
      "epoch:  60 loss:0.405119 auc:0.4864\n",
      "epoch:  80 loss:0.364795 auc:0.5014\n",
      "epoch: 100 loss:0.343562 auc:0.5082\n",
      "epoch: 120 loss:0.331525 auc:0.5068\n",
      "epoch: 140 loss:0.324318 auc:0.5082\n",
      "epoch: 160 loss:0.319763 auc:0.5054\n"
     ]
    },
    {
     "name": "stderr",
     "output_type": "stream",
     "text": [
      " 83%|████████▎ | 835/1005 [1:40:21<20:03,  7.08s/it]"
     ]
    },
    {
     "name": "stdout",
     "output_type": "stream",
     "text": [
      "epoch: 180 loss:0.316716 auc:0.5082\n",
      "Fit finished.\n",
      "epoch:   0 loss:0.792103 auc:0.6417\n",
      "epoch:  20 loss:0.595278 auc:0.5381\n",
      "epoch:  40 loss:0.536644 auc:0.5583\n",
      "epoch:  60 loss:0.430947 auc:0.5548\n",
      "epoch:  80 loss:0.376256 auc:0.5643\n",
      "epoch: 100 loss:0.349001 auc:0.5643\n",
      "epoch: 120 loss:0.334661 auc:0.5643\n",
      "epoch: 140 loss:0.326560 auc:0.5583\n"
     ]
    },
    {
     "name": "stderr",
     "output_type": "stream",
     "text": [
      " 83%|████████▎ | 836/1005 [1:40:26<18:05,  6.42s/it]"
     ]
    },
    {
     "name": "stdout",
     "output_type": "stream",
     "text": [
      "epoch: 160 loss:0.321585 auc:0.5524\n",
      "Fit finished.\n",
      "epoch:   0 loss:0.806976 auc:0.5114\n",
      "epoch:  20 loss:0.597348 auc:0.6870\n",
      "epoch:  40 loss:0.524436 auc:0.7049\n",
      "epoch:  60 loss:0.432820 auc:0.6906\n",
      "epoch:  80 loss:0.379281 auc:0.7109\n",
      "epoch: 100 loss:0.351195 auc:0.7324\n",
      "epoch: 120 loss:0.336616 auc:0.7324\n",
      "epoch: 140 loss:0.328258 auc:0.7288\n",
      "epoch: 160 loss:0.323034 auc:0.7324\n",
      "epoch: 180 loss:0.319508 auc:0.7360\n",
      "epoch: 200 loss:0.316970 auc:0.7360\n",
      "epoch: 220 loss:0.315059 auc:0.7348\n",
      "epoch: 240 loss:0.313586 auc:0.7348\n",
      "epoch: 260 loss:0.312427 auc:0.7348\n",
      "epoch: 280 loss:0.311505 auc:0.7348\n",
      "epoch: 300 loss:0.310761 auc:0.7360\n",
      "epoch: 320 loss:0.310155 auc:0.7372\n",
      "epoch: 340 loss:0.309659 auc:0.7360\n",
      "epoch: 360 loss:0.309250 auc:0.7372\n",
      "epoch: 380 loss:0.308912 auc:0.7372\n",
      "epoch: 400 loss:0.308630 auc:0.7384\n"
     ]
    },
    {
     "name": "stderr",
     "output_type": "stream",
     "text": [
      " 83%|████████▎ | 837/1005 [1:40:37<21:56,  7.84s/it]"
     ]
    },
    {
     "name": "stdout",
     "output_type": "stream",
     "text": [
      "epoch: 420 loss:0.308393 auc:0.7336\n",
      "Fit finished.\n",
      "epoch:   0 loss:0.783435 auc:0.6236\n",
      "epoch:  20 loss:0.577437 auc:0.5057\n",
      "epoch:  40 loss:0.471614 auc:0.5215\n",
      "epoch:  60 loss:0.390765 auc:0.5510\n",
      "epoch:  80 loss:0.354166 auc:0.5556\n",
      "epoch: 100 loss:0.336603 auc:0.5488\n",
      "epoch: 120 loss:0.327273 auc:0.5533\n",
      "epoch: 140 loss:0.321717 auc:0.5646\n"
     ]
    },
    {
     "name": "stderr",
     "output_type": "stream",
     "text": [
      " 83%|████████▎ | 838/1005 [1:40:42<19:19,  6.95s/it]"
     ]
    },
    {
     "name": "stdout",
     "output_type": "stream",
     "text": [
      "epoch: 160 loss:0.318051 auc:0.5624\n",
      "Fit finished.\n",
      "epoch:   0 loss:0.798399 auc:0.4266\n",
      "epoch:  20 loss:0.598352 auc:0.5048\n",
      "epoch:  40 loss:0.522402 auc:0.4979\n",
      "epoch:  60 loss:0.432431 auc:0.5309\n",
      "epoch:  80 loss:0.380701 auc:0.5185\n",
      "epoch: 100 loss:0.353545 auc:0.5075\n",
      "epoch: 120 loss:0.338430 auc:0.5075\n",
      "epoch: 140 loss:0.329524 auc:0.5075\n",
      "epoch: 160 loss:0.323858 auc:0.5158\n",
      "epoch: 180 loss:0.319989 auc:0.5144\n",
      "epoch: 200 loss:0.317199 auc:0.5117\n"
     ]
    },
    {
     "name": "stderr",
     "output_type": "stream",
     "text": [
      " 83%|████████▎ | 839/1005 [1:40:48<18:51,  6.81s/it]"
     ]
    },
    {
     "name": "stdout",
     "output_type": "stream",
     "text": [
      "epoch: 220 loss:0.315114 auc:0.5021\n",
      "Fit finished.\n",
      "epoch:   0 loss:0.801538 auc:0.4700\n",
      "epoch:  20 loss:0.600027 auc:0.6050\n",
      "epoch:  40 loss:0.540909 auc:0.6225\n",
      "epoch:  60 loss:0.452813 auc:0.6950\n",
      "epoch:  80 loss:0.394698 auc:0.6875\n",
      "epoch: 100 loss:0.362277 auc:0.6975\n",
      "epoch: 120 loss:0.344711 auc:0.7075\n",
      "epoch: 140 loss:0.334140 auc:0.7150\n",
      "epoch: 160 loss:0.327140 auc:0.7200\n",
      "epoch: 180 loss:0.322309 auc:0.7175\n",
      "epoch: 200 loss:0.318911 auc:0.7250\n",
      "epoch: 220 loss:0.316456 auc:0.7275\n",
      "epoch: 240 loss:0.314627 auc:0.7300\n",
      "epoch: 260 loss:0.313231 auc:0.7325\n",
      "epoch: 280 loss:0.312140 auc:0.7300\n",
      "epoch: 300 loss:0.311272 auc:0.7300\n",
      "epoch: 320 loss:0.310572 auc:0.7300\n",
      "epoch: 340 loss:0.310005 auc:0.7325\n",
      "epoch: 360 loss:0.309540 auc:0.7350\n",
      "epoch: 380 loss:0.309156 auc:0.7325\n"
     ]
    },
    {
     "name": "stderr",
     "output_type": "stream",
     "text": [
      " 84%|████████▎ | 840/1005 [1:40:58<21:26,  7.79s/it]"
     ]
    },
    {
     "name": "stdout",
     "output_type": "stream",
     "text": [
      "epoch: 400 loss:0.308838 auc:0.7275\n",
      "Fit finished.\n",
      "epoch:   0 loss:0.794588 auc:0.4898\n",
      "epoch:  20 loss:0.580375 auc:0.6327\n",
      "epoch:  40 loss:0.487301 auc:0.7551\n",
      "epoch:  60 loss:0.401473 auc:0.8929\n",
      "epoch:  80 loss:0.359816 auc:0.9082\n",
      "epoch: 100 loss:0.340243 auc:0.9082\n",
      "epoch: 120 loss:0.329694 auc:0.9031\n",
      "epoch: 140 loss:0.323249 auc:0.9031\n",
      "epoch: 160 loss:0.319097 auc:0.9031\n",
      "epoch: 180 loss:0.316316 auc:0.9031\n",
      "epoch: 200 loss:0.314377 auc:0.9031\n",
      "epoch: 220 loss:0.312971 auc:0.9031\n"
     ]
    },
    {
     "name": "stderr",
     "output_type": "stream",
     "text": [
      " 84%|████████▎ | 841/1005 [1:41:05<20:42,  7.58s/it]"
     ]
    },
    {
     "name": "stdout",
     "output_type": "stream",
     "text": [
      "epoch: 240 loss:0.311918 auc:0.9031\n",
      "Fit finished.\n",
      "epoch:   0 loss:0.784826 auc:0.6080\n",
      "epoch:  20 loss:0.587715 auc:0.7441\n",
      "epoch:  40 loss:0.493535 auc:0.8092\n",
      "epoch:  60 loss:0.416334 auc:0.8417\n",
      "epoch:  80 loss:0.371462 auc:0.8254\n",
      "epoch: 100 loss:0.347617 auc:0.8136\n",
      "epoch: 120 loss:0.334718 auc:0.8210\n",
      "epoch: 140 loss:0.327083 auc:0.8166\n",
      "epoch: 160 loss:0.322152 auc:0.8180\n",
      "epoch: 180 loss:0.318724 auc:0.8166\n",
      "epoch: 200 loss:0.316234 auc:0.8136\n"
     ]
    },
    {
     "name": "stderr",
     "output_type": "stream",
     "text": [
      " 84%|████████▍ | 842/1005 [1:41:12<19:43,  7.26s/it]"
     ]
    },
    {
     "name": "stdout",
     "output_type": "stream",
     "text": [
      "epoch: 220 loss:0.314368 auc:0.8121\n",
      "Fit finished.\n",
      "epoch:   0 loss:0.878964 auc:0.5264\n",
      "epoch:  20 loss:0.590406 auc:0.5376\n",
      "epoch:  40 loss:0.502408 auc:0.6272\n",
      "epoch:  60 loss:0.412445 auc:0.6176\n",
      "epoch:  80 loss:0.367868 auc:0.6496\n",
      "epoch: 100 loss:0.344648 auc:0.6608\n",
      "epoch: 120 loss:0.331938 auc:0.6688\n",
      "epoch: 140 loss:0.324570 auc:0.6704\n",
      "epoch: 160 loss:0.319996 auc:0.6688\n",
      "epoch: 180 loss:0.316938 auc:0.6640\n",
      "epoch: 200 loss:0.314758 auc:0.6672\n",
      "epoch: 220 loss:0.313137 auc:0.6688\n",
      "epoch: 240 loss:0.311903 auc:0.6720\n",
      "epoch: 260 loss:0.310952 auc:0.6720\n",
      "epoch: 280 loss:0.310210 auc:0.6736\n",
      "epoch: 300 loss:0.309624 auc:0.6704\n",
      "epoch: 320 loss:0.309158 auc:0.6736\n",
      "epoch: 340 loss:0.308786 auc:0.6736\n",
      "epoch: 360 loss:0.308484 auc:0.6720\n",
      "epoch: 380 loss:0.308238 auc:0.6752\n",
      "epoch: 400 loss:0.308036 auc:0.6736\n",
      "epoch: 420 loss:0.307870 auc:0.6720\n",
      "epoch: 440 loss:0.307731 auc:0.6752\n",
      "epoch: 460 loss:0.307615 auc:0.6736\n",
      "epoch: 480 loss:0.307516 auc:0.6736\n",
      "epoch: 500 loss:0.307432 auc:0.6768\n",
      "epoch: 520 loss:0.307359 auc:0.6752\n",
      "epoch: 540 loss:0.307295 auc:0.6768\n",
      "epoch: 560 loss:0.307239 auc:0.6768\n",
      "epoch: 580 loss:0.307189 auc:0.6768\n",
      "epoch: 600 loss:0.307145 auc:0.6752\n",
      "epoch: 620 loss:0.307106 auc:0.6752\n",
      "epoch: 640 loss:0.307071 auc:0.6736\n"
     ]
    },
    {
     "name": "stderr",
     "output_type": "stream",
     "text": [
      " 84%|████████▍ | 843/1005 [1:41:28<26:21,  9.76s/it]"
     ]
    },
    {
     "name": "stdout",
     "output_type": "stream",
     "text": [
      "epoch: 660 loss:0.307039 auc:0.6752\n",
      "Fit finished.\n",
      "epoch:   0 loss:0.807129 auc:0.4913\n",
      "epoch:  20 loss:0.575260 auc:0.6389\n",
      "epoch:  40 loss:0.472270 auc:0.6042\n",
      "epoch:  60 loss:0.394463 auc:0.6059\n",
      "epoch:  80 loss:0.357884 auc:0.6128\n",
      "epoch: 100 loss:0.339340 auc:0.6024\n",
      "epoch: 120 loss:0.329101 auc:0.6007\n",
      "epoch: 140 loss:0.322945 auc:0.5903\n",
      "epoch: 160 loss:0.318958 auc:0.5903\n"
     ]
    },
    {
     "name": "stderr",
     "output_type": "stream",
     "text": [
      " 84%|████████▍ | 844/1005 [1:41:33<22:41,  8.46s/it]"
     ]
    },
    {
     "name": "stdout",
     "output_type": "stream",
     "text": [
      "epoch: 180 loss:0.316204 auc:0.5833\n",
      "Fit finished.\n",
      "epoch:   0 loss:0.787798 auc:0.3711\n",
      "epoch:  20 loss:0.596243 auc:0.5195\n",
      "epoch:  40 loss:0.525242 auc:0.5625\n",
      "epoch:  60 loss:0.431738 auc:0.6484\n",
      "epoch:  80 loss:0.379541 auc:0.6602\n",
      "epoch: 100 loss:0.352666 auc:0.6641\n",
      "epoch: 120 loss:0.337810 auc:0.6680\n",
      "epoch: 140 loss:0.329001 auc:0.6523\n",
      "epoch: 160 loss:0.323408 auc:0.6523\n",
      "epoch: 180 loss:0.319642 auc:0.6523\n",
      "epoch: 200 loss:0.316971 auc:0.6602\n",
      "epoch: 220 loss:0.315001 auc:0.6602\n"
     ]
    },
    {
     "name": "stderr",
     "output_type": "stream",
     "text": [
      " 84%|████████▍ | 845/1005 [1:41:40<21:21,  8.01s/it]"
     ]
    },
    {
     "name": "stdout",
     "output_type": "stream",
     "text": [
      "epoch: 240 loss:0.313506 auc:0.6523\n",
      "Fit finished.\n",
      "epoch:   0 loss:0.781663 auc:0.5008\n",
      "epoch:  20 loss:0.570081 auc:0.6016\n",
      "epoch:  40 loss:0.455801 auc:0.4400\n",
      "epoch:  60 loss:0.382609 auc:0.3888\n",
      "epoch:  80 loss:0.350566 auc:0.4032\n",
      "epoch: 100 loss:0.335018 auc:0.4096\n",
      "epoch: 120 loss:0.326556 auc:0.4064\n",
      "epoch: 140 loss:0.321360 auc:0.4064\n"
     ]
    },
    {
     "name": "stderr",
     "output_type": "stream",
     "text": [
      " 84%|████████▍ | 846/1005 [1:41:46<19:26,  7.34s/it]"
     ]
    },
    {
     "name": "stdout",
     "output_type": "stream",
     "text": [
      "epoch: 160 loss:0.317898 auc:0.4016\n",
      "Fit finished.\n",
      "epoch:   0 loss:0.803934 auc:0.5873\n",
      "epoch:  20 loss:0.597599 auc:0.6288\n",
      "epoch:  40 loss:0.543805 auc:0.6039\n",
      "epoch:  60 loss:0.441899 auc:0.6316\n",
      "epoch:  80 loss:0.383873 auc:0.6039\n",
      "epoch: 100 loss:0.354382 auc:0.6039\n",
      "epoch: 120 loss:0.338836 auc:0.5928\n",
      "epoch: 140 loss:0.329691 auc:0.5956\n",
      "epoch: 160 loss:0.323921 auc:0.5956\n"
     ]
    },
    {
     "name": "stderr",
     "output_type": "stream",
     "text": [
      " 84%|████████▍ | 847/1005 [1:41:53<18:58,  7.20s/it]"
     ]
    },
    {
     "name": "stdout",
     "output_type": "stream",
     "text": [
      "epoch: 180 loss:0.320078 auc:0.6039\n",
      "Fit finished.\n",
      "epoch:   0 loss:0.823005 auc:0.6200\n",
      "epoch:  20 loss:0.586720 auc:0.6900\n",
      "epoch:  40 loss:0.484459 auc:0.7259\n",
      "epoch:  60 loss:0.405592 auc:0.7259\n",
      "epoch:  80 loss:0.364433 auc:0.7183\n",
      "epoch: 100 loss:0.343408 auc:0.7108\n",
      "epoch: 120 loss:0.331970 auc:0.6957\n",
      "epoch: 140 loss:0.325101 auc:0.6805\n",
      "epoch: 160 loss:0.320608 auc:0.6749\n"
     ]
    },
    {
     "name": "stderr",
     "output_type": "stream",
     "text": [
      " 84%|████████▍ | 848/1005 [1:42:01<19:25,  7.43s/it]"
     ]
    },
    {
     "name": "stdout",
     "output_type": "stream",
     "text": [
      "epoch: 180 loss:0.317473 auc:0.6749\n",
      "Fit finished.\n",
      "epoch:   0 loss:0.792566 auc:0.6198\n",
      "epoch:  20 loss:0.598340 auc:0.8347\n",
      "epoch:  40 loss:0.519416 auc:0.8140\n",
      "epoch:  60 loss:0.429834 auc:0.7872\n",
      "epoch:  80 loss:0.380527 auc:0.7913\n",
      "epoch: 100 loss:0.354434 auc:0.7934\n",
      "epoch: 120 loss:0.339468 auc:0.7955\n",
      "epoch: 140 loss:0.330261 auc:0.7872\n",
      "epoch: 160 loss:0.324291 auc:0.7831\n"
     ]
    },
    {
     "name": "stderr",
     "output_type": "stream",
     "text": [
      " 84%|████████▍ | 849/1005 [1:42:08<18:56,  7.28s/it]"
     ]
    },
    {
     "name": "stdout",
     "output_type": "stream",
     "text": [
      "epoch: 180 loss:0.320233 auc:0.7810\n",
      "Fit finished.\n",
      "epoch:   0 loss:0.782494 auc:0.5432\n",
      "epoch:  20 loss:0.582491 auc:0.7723\n",
      "epoch:  40 loss:0.491491 auc:0.6433\n",
      "epoch:  60 loss:0.398099 auc:0.6763\n",
      "epoch:  80 loss:0.357965 auc:0.6790\n",
      "epoch: 100 loss:0.339447 auc:0.6872\n",
      "epoch: 120 loss:0.329188 auc:0.6968\n",
      "epoch: 140 loss:0.322849 auc:0.7078\n",
      "epoch: 160 loss:0.318769 auc:0.7023\n"
     ]
    },
    {
     "name": "stderr",
     "output_type": "stream",
     "text": [
      " 85%|████████▍ | 850/1005 [1:42:16<19:29,  7.54s/it]"
     ]
    },
    {
     "name": "stdout",
     "output_type": "stream",
     "text": [
      "epoch: 180 loss:0.316000 auc:0.7010\n",
      "Fit finished.\n",
      "epoch:   0 loss:0.795854 auc:0.6996\n",
      "epoch:  20 loss:0.589218 auc:0.8107\n",
      "epoch:  40 loss:0.493499 auc:0.8038\n",
      "epoch:  60 loss:0.411347 auc:0.8546\n",
      "epoch:  80 loss:0.368874 auc:0.8683\n",
      "epoch: 100 loss:0.346186 auc:0.8738\n",
      "epoch: 120 loss:0.333223 auc:0.8738\n",
      "epoch: 140 loss:0.325573 auc:0.8793\n",
      "epoch: 160 loss:0.320772 auc:0.8807\n",
      "epoch: 180 loss:0.317558 auc:0.8765\n",
      "epoch: 200 loss:0.315274 auc:0.8765\n",
      "epoch: 220 loss:0.313578 auc:0.8765\n",
      "epoch: 240 loss:0.312278 auc:0.8765\n",
      "epoch: 260 loss:0.311263 auc:0.8752\n",
      "epoch: 280 loss:0.310457 auc:0.8738\n"
     ]
    },
    {
     "name": "stderr",
     "output_type": "stream",
     "text": [
      " 85%|████████▍ | 851/1005 [1:42:28<22:38,  8.82s/it]"
     ]
    },
    {
     "name": "stdout",
     "output_type": "stream",
     "text": [
      "epoch: 300 loss:0.309813 auc:0.8724\n",
      "Fit finished.\n",
      "epoch:   0 loss:0.810279 auc:0.4759\n",
      "epoch:  20 loss:0.593651 auc:0.6966\n",
      "epoch:  40 loss:0.508426 auc:0.6885\n",
      "epoch:  60 loss:0.420928 auc:0.6897\n",
      "epoch:  80 loss:0.373772 auc:0.7092\n",
      "epoch: 100 loss:0.347975 auc:0.7149\n",
      "epoch: 120 loss:0.334082 auc:0.6966\n",
      "epoch: 140 loss:0.326220 auc:0.6828\n",
      "epoch: 160 loss:0.321297 auc:0.6782\n"
     ]
    },
    {
     "name": "stderr",
     "output_type": "stream",
     "text": [
      " 85%|████████▍ | 852/1005 [1:42:34<20:44,  8.13s/it]"
     ]
    },
    {
     "name": "stdout",
     "output_type": "stream",
     "text": [
      "epoch: 180 loss:0.317961 auc:0.6747\n",
      "Fit finished.\n",
      "epoch:   0 loss:0.767343 auc:0.4550\n",
      "epoch:  20 loss:0.595050 auc:0.4950\n",
      "epoch:  40 loss:0.537076 auc:0.5250\n",
      "epoch:  60 loss:0.446996 auc:0.4525\n",
      "epoch:  80 loss:0.387890 auc:0.4600\n",
      "epoch: 100 loss:0.357491 auc:0.4850\n",
      "epoch: 120 loss:0.341324 auc:0.4875\n",
      "epoch: 140 loss:0.331724 auc:0.5050\n",
      "epoch: 160 loss:0.325624 auc:0.5025\n",
      "epoch: 180 loss:0.321503 auc:0.5100\n"
     ]
    },
    {
     "name": "stderr",
     "output_type": "stream",
     "text": [
      " 85%|████████▍ | 853/1005 [1:42:42<20:34,  8.12s/it]"
     ]
    },
    {
     "name": "stdout",
     "output_type": "stream",
     "text": [
      "epoch: 200 loss:0.318545 auc:0.5200\n",
      "Fit finished.\n",
      "epoch:   0 loss:0.867560 auc:0.4830\n",
      "epoch:  20 loss:0.599978 auc:0.5556\n",
      "epoch:  40 loss:0.537967 auc:0.5374\n",
      "epoch:  60 loss:0.458335 auc:0.4898\n",
      "epoch:  80 loss:0.395732 auc:0.5193\n",
      "epoch: 100 loss:0.360918 auc:0.5170\n",
      "epoch: 120 loss:0.342356 auc:0.5283\n",
      "epoch: 140 loss:0.331783 auc:0.5283\n",
      "epoch: 160 loss:0.325275 auc:0.5283\n"
     ]
    },
    {
     "name": "stderr",
     "output_type": "stream",
     "text": [
      " 85%|████████▍ | 854/1005 [2:42:13<45:10:07, 1076.87s/it]"
     ]
    },
    {
     "name": "stdout",
     "output_type": "stream",
     "text": [
      "epoch: 180 loss:0.320987 auc:0.5238\n",
      "Fit finished.\n",
      "epoch:   0 loss:0.791725 auc:0.5069\n",
      "epoch:  20 loss:0.585216 auc:0.7292\n",
      "epoch:  40 loss:0.483033 auc:0.7500\n",
      "epoch:  60 loss:0.398289 auc:0.7639\n",
      "epoch:  80 loss:0.355678 auc:0.7778\n",
      "epoch: 100 loss:0.336790 auc:0.8125\n",
      "epoch: 120 loss:0.327263 auc:0.8056\n",
      "epoch: 140 loss:0.321660 auc:0.7917\n",
      "epoch: 160 loss:0.317975 auc:0.7917\n",
      "epoch: 180 loss:0.315419 auc:0.7986\n",
      "epoch: 200 loss:0.313595 auc:0.8056\n",
      "epoch: 220 loss:0.312263 auc:0.8056\n",
      "epoch: 240 loss:0.311264 auc:0.8056\n"
     ]
    },
    {
     "name": "stderr",
     "output_type": "stream",
     "text": [
      " 85%|████████▌ | 855/1005 [2:42:21<31:31:01, 756.41s/it] "
     ]
    },
    {
     "name": "stdout",
     "output_type": "stream",
     "text": [
      "epoch: 260 loss:0.310495 auc:0.7986\n",
      "Fit finished.\n",
      "epoch:   0 loss:0.802231 auc:0.4769\n",
      "epoch:  20 loss:0.598558 auc:0.5613\n",
      "epoch:  40 loss:0.527736 auc:0.5706\n",
      "epoch:  60 loss:0.430345 auc:0.5938\n",
      "epoch:  80 loss:0.379613 auc:0.5741\n",
      "epoch: 100 loss:0.354147 auc:0.5706\n",
      "epoch: 120 loss:0.339804 auc:0.5729\n",
      "epoch: 140 loss:0.330958 auc:0.5706\n",
      "epoch: 160 loss:0.325198 auc:0.5694\n",
      "epoch: 180 loss:0.321205 auc:0.5660\n"
     ]
    },
    {
     "name": "stderr",
     "output_type": "stream",
     "text": [
      " 85%|████████▌ | 856/1005 [2:42:29<22:00:22, 531.69s/it]"
     ]
    },
    {
     "name": "stdout",
     "output_type": "stream",
     "text": [
      "epoch: 200 loss:0.318298 auc:0.5637\n",
      "Fit finished.\n",
      "epoch:   0 loss:0.809473 auc:0.3104\n",
      "epoch:  20 loss:0.598848 auc:0.5264\n",
      "epoch:  40 loss:0.535813 auc:0.5504\n",
      "epoch:  60 loss:0.440752 auc:0.5088\n",
      "epoch:  80 loss:0.383708 auc:0.4848\n",
      "epoch: 100 loss:0.355001 auc:0.4896\n",
      "epoch: 120 loss:0.339624 auc:0.4976\n",
      "epoch: 140 loss:0.330551 auc:0.4992\n",
      "epoch: 160 loss:0.324676 auc:0.4992\n"
     ]
    },
    {
     "name": "stderr",
     "output_type": "stream",
     "text": [
      " 85%|████████▌ | 857/1005 [2:42:35<15:22:33, 374.01s/it]"
     ]
    },
    {
     "name": "stdout",
     "output_type": "stream",
     "text": [
      "epoch: 180 loss:0.320595 auc:0.4960\n",
      "Fit finished.\n",
      "epoch:   0 loss:0.799558 auc:0.4354\n",
      "epoch:  20 loss:0.588661 auc:0.5079\n",
      "epoch:  40 loss:0.491479 auc:0.4989\n",
      "epoch:  60 loss:0.406721 auc:0.4989\n",
      "epoch:  80 loss:0.364059 auc:0.5170\n",
      "epoch: 100 loss:0.343127 auc:0.5261\n",
      "epoch: 120 loss:0.331593 auc:0.5351\n",
      "epoch: 140 loss:0.324679 auc:0.5351\n",
      "epoch: 160 loss:0.320199 auc:0.5306\n",
      "epoch: 180 loss:0.317102 auc:0.5238\n",
      "epoch: 200 loss:0.314893 auc:0.5170\n",
      "epoch: 220 loss:0.313272 auc:0.5147\n"
     ]
    },
    {
     "name": "stderr",
     "output_type": "stream",
     "text": [
      " 85%|████████▌ | 858/1005 [2:42:46<10:49:18, 265.02s/it]"
     ]
    },
    {
     "name": "stdout",
     "output_type": "stream",
     "text": [
      "epoch: 240 loss:0.312048 auc:0.5102\n",
      "Fit finished.\n",
      "epoch:   0 loss:0.780037 auc:0.5936\n",
      "epoch:  20 loss:0.600742 auc:0.5439\n",
      "epoch:  40 loss:0.545839 auc:0.5629\n",
      "epoch:  60 loss:0.442311 auc:0.4825\n",
      "epoch:  80 loss:0.379618 auc:0.4751\n",
      "epoch: 100 loss:0.351751 auc:0.4561\n",
      "epoch: 120 loss:0.337302 auc:0.4503\n",
      "epoch: 140 loss:0.328693 auc:0.4430\n"
     ]
    },
    {
     "name": "stderr",
     "output_type": "stream",
     "text": [
      " 85%|████████▌ | 859/1005 [2:42:53<7:37:05, 187.85s/it] "
     ]
    },
    {
     "name": "stdout",
     "output_type": "stream",
     "text": [
      "epoch: 160 loss:0.323128 auc:0.4327\n",
      "Fit finished.\n",
      "epoch:   0 loss:0.811927 auc:0.5556\n",
      "epoch:  20 loss:0.584093 auc:0.5193\n",
      "epoch:  40 loss:0.490087 auc:0.5079\n",
      "epoch:  60 loss:0.402703 auc:0.4807\n",
      "epoch:  80 loss:0.358746 auc:0.4898\n",
      "epoch: 100 loss:0.338866 auc:0.4694\n",
      "epoch: 120 loss:0.328527 auc:0.4717\n",
      "epoch: 140 loss:0.322419 auc:0.4762\n"
     ]
    },
    {
     "name": "stderr",
     "output_type": "stream",
     "text": [
      " 86%|████████▌ | 860/1005 [2:43:01<5:23:07, 133.71s/it]"
     ]
    },
    {
     "name": "stdout",
     "output_type": "stream",
     "text": [
      "epoch: 160 loss:0.318455 auc:0.4853\n",
      "Fit finished.\n",
      "epoch:   0 loss:0.864640 auc:0.4899\n",
      "epoch:  20 loss:0.589207 auc:0.5815\n",
      "epoch:  40 loss:0.494079 auc:0.6742\n",
      "epoch:  60 loss:0.411545 auc:0.6730\n",
      "epoch:  80 loss:0.367026 auc:0.6587\n",
      "epoch: 100 loss:0.344169 auc:0.6647\n",
      "epoch: 120 loss:0.331968 auc:0.6635\n",
      "epoch: 140 loss:0.324824 auc:0.6576\n",
      "epoch: 160 loss:0.320319 auc:0.6540\n",
      "epoch: 180 loss:0.317250 auc:0.6552\n"
     ]
    },
    {
     "name": "stderr",
     "output_type": "stream",
     "text": [
      " 86%|████████▌ | 861/1005 [2:43:08<3:49:55, 95.80s/it] "
     ]
    },
    {
     "name": "stdout",
     "output_type": "stream",
     "text": [
      "epoch: 200 loss:0.315025 auc:0.6587\n",
      "Fit finished.\n",
      "epoch:   0 loss:0.786931 auc:0.5321\n",
      "epoch:  20 loss:0.580514 auc:0.6095\n",
      "epoch:  40 loss:0.487770 auc:0.6095\n",
      "epoch:  60 loss:0.402465 auc:0.6190\n",
      "epoch:  80 loss:0.361883 auc:0.6179\n",
      "epoch: 100 loss:0.341727 auc:0.6226\n",
      "epoch: 120 loss:0.330730 auc:0.6310\n",
      "epoch: 140 loss:0.324093 auc:0.6250\n",
      "epoch: 160 loss:0.319787 auc:0.6286\n",
      "epoch: 180 loss:0.316825 auc:0.6286\n",
      "epoch: 200 loss:0.314687 auc:0.6310\n",
      "epoch: 220 loss:0.313100 auc:0.6369\n",
      "epoch: 240 loss:0.311900 auc:0.6393\n",
      "epoch: 260 loss:0.310976 auc:0.6381\n",
      "epoch: 280 loss:0.310255 auc:0.6357\n",
      "epoch: 300 loss:0.309684 auc:0.6381\n",
      "epoch: 320 loss:0.309227 auc:0.6381\n",
      "epoch: 340 loss:0.308856 auc:0.6369\n",
      "epoch: 360 loss:0.308551 auc:0.6369\n"
     ]
    },
    {
     "name": "stderr",
     "output_type": "stream",
     "text": [
      " 86%|████████▌ | 862/1005 [2:43:21<2:48:47, 70.82s/it]"
     ]
    },
    {
     "name": "stdout",
     "output_type": "stream",
     "text": [
      "epoch: 380 loss:0.308298 auc:0.6357\n",
      "Fit finished.\n",
      "epoch:   0 loss:0.780252 auc:0.3988\n",
      "epoch:  20 loss:0.595847 auc:0.6467\n",
      "epoch:  40 loss:0.518318 auc:0.5723\n",
      "epoch:  60 loss:0.423678 auc:0.5661\n",
      "epoch:  80 loss:0.371739 auc:0.5723\n",
      "epoch: 100 loss:0.347454 auc:0.5661\n",
      "epoch: 120 loss:0.334820 auc:0.5620\n",
      "epoch: 140 loss:0.327226 auc:0.5558\n",
      "epoch: 160 loss:0.322263 auc:0.5475\n"
     ]
    },
    {
     "name": "stderr",
     "output_type": "stream",
     "text": [
      " 86%|████████▌ | 863/1005 [2:43:27<2:01:55, 51.52s/it]"
     ]
    },
    {
     "name": "stdout",
     "output_type": "stream",
     "text": [
      "epoch: 180 loss:0.318843 auc:0.5393\n",
      "Fit finished.\n",
      "epoch:   0 loss:0.804219 auc:0.5376\n",
      "epoch:  20 loss:0.588580 auc:0.6336\n",
      "epoch:  40 loss:0.498550 auc:0.5856\n",
      "epoch:  60 loss:0.418019 auc:0.6272\n",
      "epoch:  80 loss:0.373958 auc:0.6448\n",
      "epoch: 100 loss:0.349530 auc:0.6624\n",
      "epoch: 120 loss:0.336104 auc:0.6736\n",
      "epoch: 140 loss:0.328006 auc:0.6848\n",
      "epoch: 160 loss:0.322733 auc:0.6816\n",
      "epoch: 180 loss:0.319100 auc:0.6784\n",
      "epoch: 200 loss:0.316479 auc:0.6816\n",
      "epoch: 220 loss:0.314528 auc:0.6832\n",
      "epoch: 240 loss:0.313039 auc:0.6768\n",
      "epoch: 260 loss:0.311881 auc:0.6784\n",
      "epoch: 280 loss:0.310975 auc:0.6864\n",
      "epoch: 300 loss:0.310262 auc:0.6864\n",
      "epoch: 320 loss:0.309695 auc:0.6880\n",
      "epoch: 340 loss:0.309239 auc:0.6944\n",
      "epoch: 360 loss:0.308870 auc:0.6992\n",
      "epoch: 380 loss:0.308568 auc:0.7008\n",
      "epoch: 400 loss:0.308318 auc:0.7024\n",
      "epoch: 420 loss:0.308109 auc:0.7024\n",
      "epoch: 440 loss:0.307934 auc:0.7008\n",
      "epoch: 460 loss:0.307786 auc:0.6992\n",
      "epoch: 480 loss:0.307661 auc:0.6992\n",
      "epoch: 500 loss:0.307553 auc:0.7008\n",
      "epoch: 520 loss:0.307460 auc:0.7024\n",
      "epoch: 540 loss:0.307380 auc:0.7008\n"
     ]
    },
    {
     "name": "stderr",
     "output_type": "stream",
     "text": [
      " 86%|████████▌ | 864/1005 [2:43:46<1:37:55, 41.67s/it]"
     ]
    },
    {
     "name": "stdout",
     "output_type": "stream",
     "text": [
      "epoch: 560 loss:0.307309 auc:0.7008\n",
      "Fit finished.\n",
      "epoch:   0 loss:0.870789 auc:0.4186\n",
      "epoch:  20 loss:0.594479 auc:0.4408\n",
      "epoch:  40 loss:0.526811 auc:0.4246\n",
      "epoch:  60 loss:0.438083 auc:0.4275\n",
      "epoch:  80 loss:0.381357 auc:0.4364\n",
      "epoch: 100 loss:0.352738 auc:0.4364\n",
      "epoch: 120 loss:0.337845 auc:0.4482\n",
      "epoch: 140 loss:0.329154 auc:0.4512\n",
      "epoch: 160 loss:0.323583 auc:0.4630\n",
      "epoch: 180 loss:0.319786 auc:0.4601\n",
      "epoch: 200 loss:0.317072 auc:0.4586\n",
      "epoch: 220 loss:0.315071 auc:0.4571\n",
      "epoch: 240 loss:0.313559 auc:0.4512\n",
      "epoch: 260 loss:0.312399 auc:0.4467\n"
     ]
    },
    {
     "name": "stderr",
     "output_type": "stream",
     "text": [
      " 86%|████████▌ | 865/1005 [3:43:20<42:50:09, 1101.50s/it]"
     ]
    },
    {
     "name": "stdout",
     "output_type": "stream",
     "text": [
      "epoch: 280 loss:0.311492 auc:0.4453\n",
      "Fit finished.\n",
      "epoch:   0 loss:0.771074 auc:0.6860\n",
      "epoch:  20 loss:0.598514 auc:0.7827\n",
      "epoch:  40 loss:0.539588 auc:0.7738\n",
      "epoch:  60 loss:0.444444 auc:0.6771\n",
      "epoch:  80 loss:0.387192 auc:0.7009\n",
      "epoch: 100 loss:0.357056 auc:0.6905\n",
      "epoch: 120 loss:0.340645 auc:0.6845\n",
      "epoch: 140 loss:0.330934 auc:0.6875\n"
     ]
    },
    {
     "name": "stderr",
     "output_type": "stream",
     "text": [
      " 86%|████████▌ | 866/1005 [3:43:26<29:50:21, 772.81s/it] "
     ]
    },
    {
     "name": "stdout",
     "output_type": "stream",
     "text": [
      "epoch: 160 loss:0.324792 auc:0.6845\n",
      "Fit finished.\n",
      "epoch:   0 loss:0.804189 auc:0.5702\n",
      "epoch:  20 loss:0.594963 auc:0.4938\n",
      "epoch:  40 loss:0.526250 auc:0.5806\n",
      "epoch:  60 loss:0.431643 auc:0.6157\n",
      "epoch:  80 loss:0.377740 auc:0.5888\n",
      "epoch: 100 loss:0.350296 auc:0.5847\n",
      "epoch: 120 loss:0.336177 auc:0.5826\n",
      "epoch: 140 loss:0.327979 auc:0.5806\n",
      "epoch: 160 loss:0.322697 auc:0.5847\n",
      "epoch: 180 loss:0.319028 auc:0.5868\n",
      "epoch: 200 loss:0.316384 auc:0.5847\n"
     ]
    },
    {
     "name": "stderr",
     "output_type": "stream",
     "text": [
      " 86%|████████▋ | 867/1005 [3:43:34<20:49:37, 543.32s/it]"
     ]
    },
    {
     "name": "stdout",
     "output_type": "stream",
     "text": [
      "epoch: 220 loss:0.314432 auc:0.5806\n",
      "Fit finished.\n",
      "epoch:   0 loss:0.818724 auc:0.5449\n",
      "epoch:  20 loss:0.591733 auc:0.6198\n",
      "epoch:  40 loss:0.498911 auc:0.6037\n",
      "epoch:  60 loss:0.416129 auc:0.6071\n",
      "epoch:  80 loss:0.371118 auc:0.6129\n",
      "epoch: 100 loss:0.348432 auc:0.6118\n",
      "epoch: 120 loss:0.335597 auc:0.6118\n",
      "epoch: 140 loss:0.327679 auc:0.6118\n",
      "epoch: 160 loss:0.322487 auc:0.6094\n"
     ]
    },
    {
     "name": "stderr",
     "output_type": "stream",
     "text": [
      " 86%|████████▋ | 869/1005 [3:43:40<11:06:31, 294.05s/it]"
     ]
    },
    {
     "name": "stdout",
     "output_type": "stream",
     "text": [
      "epoch: 180 loss:0.318890 auc:0.6071\n",
      "Fit finished.\n",
      "epoch:   0 loss:0.785842 auc:0.5588\n",
      "epoch:  20 loss:0.576837 auc:0.6642\n",
      "epoch:  40 loss:0.471079 auc:0.6740\n",
      "epoch:  60 loss:0.389440 auc:0.6422\n",
      "epoch:  80 loss:0.351718 auc:0.6409\n",
      "epoch: 100 loss:0.334915 auc:0.6409\n",
      "epoch: 120 loss:0.326270 auc:0.6385\n",
      "epoch: 140 loss:0.321125 auc:0.6348\n",
      "epoch: 160 loss:0.317749 auc:0.6250\n"
     ]
    },
    {
     "name": "stderr",
     "output_type": "stream",
     "text": [
      " 87%|████████▋ | 870/1005 [3:43:47<8:21:21, 222.83s/it] "
     ]
    },
    {
     "name": "stdout",
     "output_type": "stream",
     "text": [
      "epoch: 180 loss:0.315362 auc:0.6140\n",
      "Fit finished.\n",
      "epoch:   0 loss:0.778190 auc:0.5841\n",
      "epoch:  20 loss:0.561710 auc:0.4783\n",
      "epoch:  40 loss:0.438015 auc:0.5085\n",
      "epoch:  60 loss:0.371685 auc:0.5198\n",
      "epoch:  80 loss:0.343199 auc:0.4991\n",
      "epoch: 100 loss:0.329874 auc:0.5028\n",
      "epoch: 120 loss:0.322626 auc:0.4991\n",
      "epoch: 140 loss:0.318168 auc:0.5009\n"
     ]
    },
    {
     "name": "stderr",
     "output_type": "stream",
     "text": [
      " 87%|████████▋ | 871/1005 [3:43:53<6:10:44, 166.00s/it]"
     ]
    },
    {
     "name": "stdout",
     "output_type": "stream",
     "text": [
      "epoch: 160 loss:0.315231 auc:0.4953\n",
      "Fit finished.\n",
      "epoch:   0 loss:0.782577 auc:0.4266\n",
      "epoch:  20 loss:0.572252 auc:0.5377\n",
      "epoch:  40 loss:0.457346 auc:0.3073\n",
      "epoch:  60 loss:0.379659 auc:0.2894\n",
      "epoch:  80 loss:0.345216 auc:0.3114\n",
      "epoch: 100 loss:0.329971 auc:0.2936\n",
      "epoch: 120 loss:0.322255 auc:0.2963\n",
      "epoch: 140 loss:0.317851 auc:0.2977\n"
     ]
    },
    {
     "name": "stderr",
     "output_type": "stream",
     "text": [
      " 87%|████████▋ | 872/1005 [3:43:59<4:31:24, 122.44s/it]"
     ]
    },
    {
     "name": "stdout",
     "output_type": "stream",
     "text": [
      "epoch: 160 loss:0.315063 auc:0.2963\n",
      "Fit finished.\n",
      "epoch:   0 loss:0.772518 auc:0.6048\n",
      "epoch:  20 loss:0.591764 auc:0.6982\n",
      "epoch:  40 loss:0.510053 auc:0.6521\n",
      "epoch:  60 loss:0.411345 auc:0.6417\n",
      "epoch:  80 loss:0.362669 auc:0.6290\n",
      "epoch: 100 loss:0.340537 auc:0.6267\n",
      "epoch: 120 loss:0.329413 auc:0.6244\n",
      "epoch: 140 loss:0.323023 auc:0.6290\n",
      "epoch: 160 loss:0.318962 auc:0.6256\n"
     ]
    },
    {
     "name": "stderr",
     "output_type": "stream",
     "text": [
      " 87%|████████▋ | 873/1005 [4:44:19<40:22:46, 1101.26s/it]"
     ]
    },
    {
     "name": "stdout",
     "output_type": "stream",
     "text": [
      "epoch: 180 loss:0.316184 auc:0.6233\n",
      "Fit finished.\n",
      "epoch:   0 loss:0.788461 auc:0.5044\n",
      "epoch:  20 loss:0.570342 auc:0.5030\n",
      "epoch:  40 loss:0.458305 auc:0.3713\n",
      "epoch:  60 loss:0.385753 auc:0.3506\n",
      "epoch:  80 loss:0.351300 auc:0.3447\n",
      "epoch: 100 loss:0.334652 auc:0.3373\n",
      "epoch: 120 loss:0.325511 auc:0.3328\n",
      "epoch: 140 loss:0.320144 auc:0.3314\n"
     ]
    },
    {
     "name": "stderr",
     "output_type": "stream",
     "text": [
      " 87%|████████▋ | 874/1005 [4:44:25<28:41:23, 788.42s/it] "
     ]
    },
    {
     "name": "stdout",
     "output_type": "stream",
     "text": [
      "epoch: 160 loss:0.316731 auc:0.3388\n",
      "Fit finished.\n",
      "epoch:   0 loss:0.789627 auc:0.4944\n",
      "epoch:  20 loss:0.580274 auc:0.8464\n",
      "epoch:  40 loss:0.473452 auc:0.8288\n",
      "epoch:  60 loss:0.386613 auc:0.7696\n",
      "epoch:  80 loss:0.350630 auc:0.7328\n",
      "epoch: 100 loss:0.333879 auc:0.7136\n",
      "epoch: 120 loss:0.325015 auc:0.6992\n",
      "epoch: 140 loss:0.319842 auc:0.6896\n",
      "epoch: 160 loss:0.316524 auc:0.6816\n"
     ]
    },
    {
     "name": "stderr",
     "output_type": "stream",
     "text": [
      " 87%|████████▋ | 875/1005 [4:44:31<20:17:19, 561.84s/it]"
     ]
    },
    {
     "name": "stdout",
     "output_type": "stream",
     "text": [
      "epoch: 180 loss:0.314255 auc:0.6704\n",
      "Fit finished.\n",
      "epoch:   0 loss:0.802971 auc:0.4316\n",
      "epoch:  20 loss:0.603147 auc:0.5719\n",
      "epoch:  40 loss:0.547185 auc:0.5922\n",
      "epoch:  60 loss:0.458398 auc:0.6040\n",
      "epoch:  80 loss:0.392083 auc:0.5767\n",
      "epoch: 100 loss:0.358370 auc:0.5577\n",
      "epoch: 120 loss:0.340755 auc:0.5707\n",
      "epoch: 140 loss:0.330524 auc:0.5743\n",
      "epoch: 160 loss:0.324171 auc:0.5707\n",
      "epoch: 180 loss:0.320007 auc:0.5767\n"
     ]
    },
    {
     "name": "stderr",
     "output_type": "stream",
     "text": [
      " 87%|████████▋ | 876/1005 [4:44:39<14:19:11, 399.63s/it]"
     ]
    },
    {
     "name": "stdout",
     "output_type": "stream",
     "text": [
      "epoch: 200 loss:0.317118 auc:0.5815\n",
      "Fit finished.\n",
      "epoch:   0 loss:0.822987 auc:0.6259\n",
      "epoch:  20 loss:0.592922 auc:0.7551\n",
      "epoch:  40 loss:0.502560 auc:0.7415\n",
      "epoch:  60 loss:0.412924 auc:0.7415\n",
      "epoch:  80 loss:0.367368 auc:0.7755\n",
      "epoch: 100 loss:0.344760 auc:0.7800\n",
      "epoch: 120 loss:0.332728 auc:0.7755\n",
      "epoch: 140 loss:0.325609 auc:0.7755\n",
      "epoch: 160 loss:0.321019 auc:0.7778\n",
      "epoch: 180 loss:0.317833 auc:0.7710\n",
      "epoch: 200 loss:0.315499 auc:0.7551\n",
      "epoch: 220 loss:0.313749 auc:0.7483\n"
     ]
    },
    {
     "name": "stderr",
     "output_type": "stream",
     "text": [
      " 87%|████████▋ | 877/1005 [4:44:47<10:06:09, 284.14s/it]"
     ]
    },
    {
     "name": "stdout",
     "output_type": "stream",
     "text": [
      "epoch: 240 loss:0.312420 auc:0.7528\n",
      "Fit finished.\n",
      "epoch:   0 loss:0.791194 auc:0.4733\n",
      "epoch:  20 loss:0.579380 auc:0.8203\n",
      "epoch:  40 loss:0.470372 auc:0.7833\n",
      "epoch:  60 loss:0.393361 auc:0.7558\n",
      "epoch:  80 loss:0.356785 auc:0.7160\n",
      "epoch: 100 loss:0.338250 auc:0.6872\n",
      "epoch: 120 loss:0.328005 auc:0.6818\n",
      "epoch: 140 loss:0.322001 auc:0.6612\n",
      "epoch: 160 loss:0.318204 auc:0.6488\n"
     ]
    },
    {
     "name": "stderr",
     "output_type": "stream",
     "text": [
      " 87%|████████▋ | 878/1005 [4:44:53<7:07:03, 201.76s/it] "
     ]
    },
    {
     "name": "stdout",
     "output_type": "stream",
     "text": [
      "epoch: 180 loss:0.315649 auc:0.6392\n",
      "Fit finished.\n",
      "epoch:   0 loss:0.794434 auc:0.4842\n",
      "epoch:  20 loss:0.582734 auc:0.6488\n",
      "epoch:  40 loss:0.474806 auc:0.6694\n",
      "epoch:  60 loss:0.382403 auc:0.5789\n",
      "epoch:  80 loss:0.346560 auc:0.5816\n",
      "epoch: 100 loss:0.331076 auc:0.5706\n",
      "epoch: 120 loss:0.323181 auc:0.5638\n",
      "epoch: 140 loss:0.318532 auc:0.5542\n",
      "epoch: 160 loss:0.315539 auc:0.5473\n"
     ]
    },
    {
     "name": "stderr",
     "output_type": "stream",
     "text": [
      " 87%|████████▋ | 879/1005 [4:44:59<5:01:32, 143.59s/it]"
     ]
    },
    {
     "name": "stdout",
     "output_type": "stream",
     "text": [
      "epoch: 180 loss:0.313504 auc:0.5432\n",
      "Fit finished.\n",
      "epoch:   0 loss:0.799944 auc:0.5139\n",
      "epoch:  20 loss:0.584826 auc:0.6639\n",
      "epoch:  40 loss:0.488091 auc:0.6528\n",
      "epoch:  60 loss:0.402317 auc:0.5764\n",
      "epoch:  80 loss:0.361255 auc:0.5681\n",
      "epoch: 100 loss:0.341550 auc:0.5653\n",
      "epoch: 120 loss:0.330871 auc:0.5667\n",
      "epoch: 140 loss:0.324392 auc:0.5708\n",
      "epoch: 160 loss:0.320095 auc:0.5778\n"
     ]
    },
    {
     "name": "stderr",
     "output_type": "stream",
     "text": [
      " 88%|████████▊ | 880/1005 [5:28:32<30:33:11, 879.93s/it]"
     ]
    },
    {
     "name": "stdout",
     "output_type": "stream",
     "text": [
      "epoch: 180 loss:0.317081 auc:0.5847\n",
      "Fit finished.\n",
      "epoch:   0 loss:0.790493 auc:0.5920\n",
      "epoch:  20 loss:0.577995 auc:0.5312\n",
      "epoch:  40 loss:0.472619 auc:0.5035\n",
      "epoch:  60 loss:0.398256 auc:0.5712\n",
      "epoch:  80 loss:0.360844 auc:0.5851\n",
      "epoch: 100 loss:0.341082 auc:0.6059\n",
      "epoch: 120 loss:0.330190 auc:0.6302\n",
      "epoch: 140 loss:0.323659 auc:0.6510\n",
      "epoch: 160 loss:0.319400 auc:0.6562\n",
      "epoch: 180 loss:0.316430 auc:0.6667\n",
      "epoch: 200 loss:0.314279 auc:0.6701\n",
      "epoch: 220 loss:0.312695 auc:0.6736\n",
      "epoch: 240 loss:0.311511 auc:0.6753\n",
      "epoch: 260 loss:0.310608 auc:0.6806\n",
      "epoch: 280 loss:0.309909 auc:0.6823\n",
      "epoch: 300 loss:0.309357 auc:0.6806\n",
      "epoch: 320 loss:0.308915 auc:0.6840\n",
      "epoch: 340 loss:0.308558 auc:0.6806\n",
      "epoch: 360 loss:0.308266 auc:0.6823\n",
      "epoch: 380 loss:0.308027 auc:0.6858\n",
      "epoch: 400 loss:0.307830 auc:0.6840\n",
      "epoch: 420 loss:0.307667 auc:0.6823\n"
     ]
    },
    {
     "name": "stderr",
     "output_type": "stream",
     "text": [
      " 88%|████████▊ | 881/1005 [5:28:47<21:24:09, 621.37s/it]"
     ]
    },
    {
     "name": "stdout",
     "output_type": "stream",
     "text": [
      "epoch: 440 loss:0.307532 auc:0.6788\n",
      "Fit finished.\n",
      "epoch:   0 loss:0.821130 auc:0.4688\n",
      "epoch:  20 loss:0.578602 auc:0.3867\n",
      "epoch:  40 loss:0.484081 auc:0.2695\n",
      "epoch:  60 loss:0.402845 auc:0.2695\n",
      "epoch:  80 loss:0.362868 auc:0.2656\n",
      "epoch: 100 loss:0.342872 auc:0.2500\n",
      "epoch: 120 loss:0.331492 auc:0.2578\n",
      "epoch: 140 loss:0.324532 auc:0.2578\n"
     ]
    },
    {
     "name": "stderr",
     "output_type": "stream",
     "text": [
      " 88%|████████▊ | 882/1005 [5:28:52<14:56:20, 437.24s/it]"
     ]
    },
    {
     "name": "stdout",
     "output_type": "stream",
     "text": [
      "epoch: 160 loss:0.320028 auc:0.2734\n",
      "Fit finished.\n",
      "epoch:   0 loss:0.797017 auc:0.5629\n",
      "epoch:  20 loss:0.572825 auc:0.4693\n",
      "epoch:  40 loss:0.450999 auc:0.5439\n",
      "epoch:  60 loss:0.376004 auc:0.5175\n",
      "epoch:  80 loss:0.345571 auc:0.5380\n",
      "epoch: 100 loss:0.331463 auc:0.5439\n",
      "epoch: 120 loss:0.323632 auc:0.5336\n",
      "epoch: 140 loss:0.318869 auc:0.5278\n"
     ]
    },
    {
     "name": "stderr",
     "output_type": "stream",
     "text": [
      " 88%|████████▊ | 883/1005 [5:28:58<10:26:19, 308.03s/it]"
     ]
    },
    {
     "name": "stdout",
     "output_type": "stream",
     "text": [
      "epoch: 160 loss:0.315814 auc:0.5249\n",
      "Fit finished.\n",
      "epoch:   0 loss:0.778620 auc:0.6392\n",
      "epoch:  20 loss:0.590920 auc:0.7545\n",
      "epoch:  40 loss:0.510552 auc:0.7654\n",
      "epoch:  60 loss:0.414613 auc:0.7956\n",
      "epoch:  80 loss:0.368174 auc:0.7984\n",
      "epoch: 100 loss:0.345993 auc:0.8080\n",
      "epoch: 120 loss:0.333773 auc:0.8189\n",
      "epoch: 140 loss:0.326287 auc:0.8148\n",
      "epoch: 160 loss:0.321451 auc:0.8148\n",
      "epoch: 180 loss:0.318185 auc:0.8162\n",
      "epoch: 200 loss:0.315870 auc:0.8148\n",
      "epoch: 220 loss:0.314159 auc:0.8203\n",
      "epoch: 240 loss:0.312856 auc:0.8203\n",
      "epoch: 260 loss:0.311838 auc:0.8258\n",
      "epoch: 280 loss:0.311030 auc:0.8299\n",
      "epoch: 300 loss:0.310377 auc:0.8354\n",
      "epoch: 320 loss:0.309846 auc:0.8313\n",
      "epoch: 340 loss:0.309413 auc:0.8326\n",
      "epoch: 360 loss:0.309055 auc:0.8313\n",
      "epoch: 380 loss:0.308759 auc:0.8326\n",
      "epoch: 400 loss:0.308511 auc:0.8340\n",
      "epoch: 420 loss:0.308302 auc:0.8340\n",
      "epoch: 440 loss:0.308124 auc:0.8340\n"
     ]
    },
    {
     "name": "stderr",
     "output_type": "stream",
     "text": [
      " 88%|████████▊ | 884/1005 [5:29:12<7:23:35, 219.96s/it] "
     ]
    },
    {
     "name": "stdout",
     "output_type": "stream",
     "text": [
      "epoch: 460 loss:0.307972 auc:0.8340\n",
      "Fit finished.\n",
      "epoch:   0 loss:0.776754 auc:0.4136\n",
      "epoch:  20 loss:0.568270 auc:0.6671\n",
      "epoch:  40 loss:0.448699 auc:0.5968\n",
      "epoch:  60 loss:0.378534 auc:0.6129\n",
      "epoch:  80 loss:0.345855 auc:0.5864\n",
      "epoch: 100 loss:0.331307 auc:0.5737\n",
      "epoch: 120 loss:0.323757 auc:0.5691\n",
      "epoch: 140 loss:0.319199 auc:0.5714\n",
      "epoch: 160 loss:0.316173 auc:0.5634\n"
     ]
    },
    {
     "name": "stderr",
     "output_type": "stream",
     "text": [
      " 88%|████████▊ | 885/1005 [5:29:19<5:12:27, 156.23s/it]"
     ]
    },
    {
     "name": "stdout",
     "output_type": "stream",
     "text": [
      "epoch: 180 loss:0.314068 auc:0.5588\n",
      "Fit finished.\n",
      "epoch:   0 loss:0.804383 auc:0.5052\n",
      "epoch:  20 loss:0.597271 auc:0.6332\n",
      "epoch:  40 loss:0.521679 auc:0.6678\n",
      "epoch:  60 loss:0.436276 auc:0.6713\n",
      "epoch:  80 loss:0.383254 auc:0.6609\n",
      "epoch: 100 loss:0.354161 auc:0.6609\n",
      "epoch: 120 loss:0.338749 auc:0.6609\n",
      "epoch: 140 loss:0.329791 auc:0.6644\n",
      "epoch: 160 loss:0.324063 auc:0.6609\n",
      "epoch: 180 loss:0.320156 auc:0.6574\n"
     ]
    },
    {
     "name": "stderr",
     "output_type": "stream",
     "text": [
      " 88%|████████▊ | 886/1005 [5:29:27<3:41:22, 111.62s/it]"
     ]
    },
    {
     "name": "stdout",
     "output_type": "stream",
     "text": [
      "epoch: 200 loss:0.317379 auc:0.6574\n",
      "Fit finished.\n",
      "epoch:   0 loss:0.803106 auc:0.4906\n",
      "epoch:  20 loss:0.573233 auc:0.8247\n",
      "epoch:  40 loss:0.451627 auc:0.6153\n",
      "epoch:  60 loss:0.375926 auc:0.6447\n",
      "epoch:  80 loss:0.342954 auc:0.6659\n",
      "epoch: 100 loss:0.328918 auc:0.6612\n",
      "epoch: 120 loss:0.321960 auc:0.6482\n",
      "epoch: 140 loss:0.317887 auc:0.6471\n",
      "epoch: 160 loss:0.315223 auc:0.6400\n"
     ]
    },
    {
     "name": "stderr",
     "output_type": "stream",
     "text": [
      " 88%|████████▊ | 887/1005 [5:29:35<2:38:35, 80.64s/it] "
     ]
    },
    {
     "name": "stdout",
     "output_type": "stream",
     "text": [
      "epoch: 180 loss:0.313353 auc:0.6353\n",
      "Fit finished.\n",
      "epoch:   0 loss:0.818144 auc:0.4671\n",
      "epoch:  20 loss:0.600149 auc:0.6106\n",
      "epoch:  40 loss:0.536924 auc:0.6282\n",
      "epoch:  60 loss:0.430180 auc:0.6682\n",
      "epoch:  80 loss:0.372314 auc:0.7118\n",
      "epoch: 100 loss:0.346387 auc:0.7000\n",
      "epoch: 120 loss:0.333561 auc:0.6882\n",
      "epoch: 140 loss:0.326286 auc:0.6729\n",
      "epoch: 160 loss:0.321625 auc:0.6624\n",
      "epoch: 180 loss:0.318400 auc:0.6624\n",
      "epoch: 200 loss:0.316046 auc:0.6588\n"
     ]
    },
    {
     "name": "stderr",
     "output_type": "stream",
     "text": [
      " 88%|████████▊ | 888/1005 [5:29:45<1:55:58, 59.47s/it]"
     ]
    },
    {
     "name": "stdout",
     "output_type": "stream",
     "text": [
      "epoch: 220 loss:0.314278 auc:0.6612\n",
      "Fit finished.\n",
      "epoch:   0 loss:0.855148 auc:0.4845\n",
      "epoch:  20 loss:0.596801 auc:0.6435\n",
      "epoch:  40 loss:0.536601 auc:0.5826\n",
      "epoch:  60 loss:0.441759 auc:0.5814\n",
      "epoch:  80 loss:0.386118 auc:0.5913\n",
      "epoch: 100 loss:0.356712 auc:0.5925\n",
      "epoch: 120 loss:0.340852 auc:0.5925\n",
      "epoch: 140 loss:0.331411 auc:0.5938\n",
      "epoch: 160 loss:0.325307 auc:0.5938\n"
     ]
    },
    {
     "name": "stderr",
     "output_type": "stream",
     "text": [
      " 88%|████████▊ | 889/1005 [5:29:52<1:24:32, 43.73s/it]"
     ]
    },
    {
     "name": "stdout",
     "output_type": "stream",
     "text": [
      "epoch: 180 loss:0.321108 auc:0.5925\n",
      "Fit finished.\n",
      "epoch:   0 loss:0.801216 auc:0.3478\n",
      "epoch:  20 loss:0.600403 auc:0.6881\n",
      "epoch:  40 loss:0.547366 auc:0.7108\n",
      "epoch:  60 loss:0.456141 auc:0.7202\n",
      "epoch:  80 loss:0.395171 auc:0.7958\n",
      "epoch: 100 loss:0.361260 auc:0.7694\n",
      "epoch: 120 loss:0.342823 auc:0.7580\n",
      "epoch: 140 loss:0.332290 auc:0.7524\n",
      "epoch: 160 loss:0.325730 auc:0.7410\n",
      "epoch: 180 loss:0.321335 auc:0.7297\n",
      "epoch: 200 loss:0.318223 auc:0.7240\n",
      "epoch: 220 loss:0.315956 auc:0.7259\n"
     ]
    },
    {
     "name": "stderr",
     "output_type": "stream",
     "text": [
      " 89%|████████▊ | 890/1005 [5:30:01<1:03:42, 33.24s/it]"
     ]
    },
    {
     "name": "stdout",
     "output_type": "stream",
     "text": [
      "epoch: 240 loss:0.314274 auc:0.7183\n",
      "Fit finished.\n",
      "epoch:   0 loss:0.800465 auc:0.5461\n",
      "epoch:  20 loss:0.582226 auc:0.5369\n",
      "epoch:  40 loss:0.484676 auc:0.5541\n",
      "epoch:  60 loss:0.398849 auc:0.5772\n",
      "epoch:  80 loss:0.359763 auc:0.5726\n",
      "epoch: 100 loss:0.340347 auc:0.5714\n",
      "epoch: 120 loss:0.329679 auc:0.5668\n",
      "epoch: 140 loss:0.323223 auc:0.5714\n",
      "epoch: 160 loss:0.319074 auc:0.5714\n",
      "epoch: 180 loss:0.316251 auc:0.5726\n",
      "epoch: 200 loss:0.314246 auc:0.5760\n",
      "epoch: 220 loss:0.312767 auc:0.5806\n",
      "epoch: 240 loss:0.311651 auc:0.5806\n",
      "epoch: 260 loss:0.310799 auc:0.5841\n",
      "epoch: 280 loss:0.310136 auc:0.5829\n",
      "epoch: 300 loss:0.309612 auc:0.5795\n",
      "epoch: 320 loss:0.309190 auc:0.5760\n",
      "epoch: 340 loss:0.308844 auc:0.5795\n",
      "epoch: 360 loss:0.308559 auc:0.5795\n",
      "epoch: 380 loss:0.308320 auc:0.5841\n",
      "epoch: 400 loss:0.308118 auc:0.5841\n",
      "epoch: 420 loss:0.307947 auc:0.5864\n",
      "epoch: 440 loss:0.307801 auc:0.5864\n",
      "epoch: 460 loss:0.307676 auc:0.5887\n",
      "epoch: 480 loss:0.307569 auc:0.5887\n",
      "epoch: 500 loss:0.307476 auc:0.5887\n",
      "epoch: 520 loss:0.307397 auc:0.5876\n",
      "epoch: 540 loss:0.307327 auc:0.5864\n",
      "epoch: 560 loss:0.307267 auc:0.5876\n"
     ]
    },
    {
     "name": "stderr",
     "output_type": "stream",
     "text": [
      " 89%|████████▊ | 891/1005 [5:30:23<56:46, 29.88s/it]  "
     ]
    },
    {
     "name": "stdout",
     "output_type": "stream",
     "text": [
      "epoch: 580 loss:0.307229 auc:0.5853\n",
      "Fit finished.\n",
      "epoch:   0 loss:0.803423 auc:0.4427\n",
      "epoch:  20 loss:0.587274 auc:0.6562\n",
      "epoch:  40 loss:0.495441 auc:0.6493\n",
      "epoch:  60 loss:0.417841 auc:0.6337\n",
      "epoch:  80 loss:0.373381 auc:0.6372\n",
      "epoch: 100 loss:0.348991 auc:0.6233\n",
      "epoch: 120 loss:0.335501 auc:0.6250\n",
      "epoch: 140 loss:0.327510 auc:0.6233\n",
      "epoch: 160 loss:0.322343 auc:0.6181\n"
     ]
    },
    {
     "name": "stderr",
     "output_type": "stream",
     "text": [
      " 89%|████████▉ | 892/1005 [5:30:32<44:38, 23.70s/it]"
     ]
    },
    {
     "name": "stdout",
     "output_type": "stream",
     "text": [
      "epoch: 180 loss:0.318778 auc:0.6198\n",
      "Fit finished.\n",
      "epoch:   0 loss:0.784480 auc:0.5104\n",
      "epoch:  20 loss:0.564821 auc:0.6912\n",
      "epoch:  40 loss:0.446274 auc:0.6889\n",
      "epoch:  60 loss:0.375893 auc:0.6855\n",
      "epoch:  80 loss:0.345289 auc:0.7108\n",
      "epoch: 100 loss:0.331198 auc:0.7177\n",
      "epoch: 120 loss:0.323519 auc:0.7235\n",
      "epoch: 140 loss:0.318861 auc:0.7189\n",
      "epoch: 160 loss:0.315819 auc:0.7235\n",
      "epoch: 180 loss:0.313728 auc:0.7247\n",
      "epoch: 200 loss:0.312222 auc:0.7247\n",
      "epoch: 220 loss:0.311098 auc:0.7270\n",
      "epoch: 240 loss:0.310241 auc:0.7270\n",
      "epoch: 260 loss:0.309580 auc:0.7270\n",
      "epoch: 280 loss:0.309069 auc:0.7316\n",
      "epoch: 300 loss:0.308671 auc:0.7327\n",
      "epoch: 320 loss:0.308357 auc:0.7304\n",
      "epoch: 340 loss:0.308106 auc:0.7304\n",
      "epoch: 360 loss:0.307901 auc:0.7293\n",
      "epoch: 380 loss:0.307731 auc:0.7281\n",
      "epoch: 400 loss:0.307589 auc:0.7281\n",
      "epoch: 420 loss:0.307497 auc:0.7281\n"
     ]
    },
    {
     "name": "stderr",
     "output_type": "stream",
     "text": [
      " 89%|████████▉ | 893/1005 [5:30:49<40:12, 21.54s/it]"
     ]
    },
    {
     "name": "stdout",
     "output_type": "stream",
     "text": [
      "epoch: 440 loss:0.307368 auc:0.7270\n",
      "Fit finished.\n",
      "epoch:   0 loss:0.781147 auc:0.4643\n",
      "epoch:  20 loss:0.590781 auc:0.7028\n",
      "epoch:  40 loss:0.499048 auc:0.7054\n",
      "epoch:  60 loss:0.412607 auc:0.6811\n",
      "epoch:  80 loss:0.367598 auc:0.6658\n",
      "epoch: 100 loss:0.344228 auc:0.6505\n",
      "epoch: 120 loss:0.331817 auc:0.6441\n",
      "epoch: 140 loss:0.324665 auc:0.6467\n",
      "epoch: 160 loss:0.320132 auc:0.6480\n"
     ]
    },
    {
     "name": "stderr",
     "output_type": "stream",
     "text": [
      " 89%|████████▉ | 894/1005 [5:45:18<8:30:14, 275.81s/it]"
     ]
    },
    {
     "name": "stdout",
     "output_type": "stream",
     "text": [
      "epoch: 180 loss:0.317072 auc:0.6594\n",
      "Fit finished.\n",
      "epoch:   0 loss:0.777589 auc:0.4167\n",
      "epoch:  20 loss:0.560014 auc:0.5123\n",
      "epoch:  40 loss:0.440267 auc:0.3704\n",
      "epoch:  60 loss:0.372485 auc:0.3009\n",
      "epoch:  80 loss:0.345771 auc:0.2901\n",
      "epoch: 100 loss:0.332539 auc:0.2901\n",
      "epoch: 120 loss:0.324877 auc:0.2886\n",
      "epoch: 140 loss:0.320064 auc:0.2948\n"
     ]
    },
    {
     "name": "stderr",
     "output_type": "stream",
     "text": [
      " 89%|████████▉ | 896/1005 [5:45:24<4:32:18, 149.89s/it]"
     ]
    },
    {
     "name": "stdout",
     "output_type": "stream",
     "text": [
      "epoch: 160 loss:0.316847 auc:0.2963\n",
      "Fit finished.\n",
      "epoch:   0 loss:0.800054 auc:0.5112\n",
      "epoch:  20 loss:0.580079 auc:0.7212\n",
      "epoch:  40 loss:0.466713 auc:0.5513\n",
      "epoch:  60 loss:0.386496 auc:0.5613\n",
      "epoch:  80 loss:0.350742 auc:0.5637\n",
      "epoch: 100 loss:0.334136 auc:0.5613\n",
      "epoch: 120 loss:0.325307 auc:0.5525\n",
      "epoch: 140 loss:0.320039 auc:0.5475\n",
      "epoch: 160 loss:0.316624 auc:0.5388\n"
     ]
    },
    {
     "name": "stderr",
     "output_type": "stream",
     "text": [
      " 89%|████████▉ | 897/1005 [5:45:30<3:25:47, 114.33s/it]"
     ]
    },
    {
     "name": "stdout",
     "output_type": "stream",
     "text": [
      "epoch: 180 loss:0.314301 auc:0.5337\n",
      "Fit finished.\n",
      "epoch:   0 loss:0.841845 auc:0.4966\n",
      "epoch:  20 loss:0.595526 auc:0.6708\n",
      "epoch:  40 loss:0.538344 auc:0.6488\n",
      "epoch:  60 loss:0.442169 auc:0.6283\n",
      "epoch:  80 loss:0.381118 auc:0.6063\n",
      "epoch: 100 loss:0.350884 auc:0.6228\n",
      "epoch: 120 loss:0.336079 auc:0.6214\n",
      "epoch: 140 loss:0.327805 auc:0.6187\n",
      "epoch: 160 loss:0.322544 auc:0.6200\n"
     ]
    },
    {
     "name": "stderr",
     "output_type": "stream",
     "text": [
      " 89%|████████▉ | 898/1005 [5:45:37<2:33:35, 86.13s/it] "
     ]
    },
    {
     "name": "stdout",
     "output_type": "stream",
     "text": [
      "epoch: 180 loss:0.318933 auc:0.6187\n",
      "Fit finished.\n",
      "epoch:   0 loss:0.783967 auc:0.4602\n",
      "epoch:  20 loss:0.577809 auc:0.4948\n",
      "epoch:  40 loss:0.464410 auc:0.5779\n",
      "epoch:  60 loss:0.386757 auc:0.6471\n",
      "epoch:  80 loss:0.351953 auc:0.6644\n",
      "epoch: 100 loss:0.335018 auc:0.6678\n",
      "epoch: 120 loss:0.325826 auc:0.6644\n",
      "epoch: 140 loss:0.320310 auc:0.6644\n",
      "epoch: 160 loss:0.316806 auc:0.6644\n",
      "epoch: 180 loss:0.314464 auc:0.6644\n",
      "epoch: 200 loss:0.312836 auc:0.6574\n"
     ]
    },
    {
     "name": "stderr",
     "output_type": "stream",
     "text": [
      " 89%|████████▉ | 899/1005 [5:45:45<1:54:33, 64.84s/it]"
     ]
    },
    {
     "name": "stdout",
     "output_type": "stream",
     "text": [
      "epoch: 220 loss:0.311653 auc:0.6436\n",
      "Fit finished.\n",
      "epoch:   0 loss:0.825629 auc:0.5940\n",
      "epoch:  20 loss:0.579177 auc:0.7036\n",
      "epoch:  40 loss:0.482761 auc:0.6810\n",
      "epoch:  60 loss:0.402267 auc:0.6905\n",
      "epoch:  80 loss:0.363893 auc:0.6833\n",
      "epoch: 100 loss:0.343943 auc:0.6738\n",
      "epoch: 120 loss:0.332313 auc:0.6619\n",
      "epoch: 140 loss:0.325140 auc:0.6560\n",
      "epoch: 160 loss:0.320552 auc:0.6500\n"
     ]
    },
    {
     "name": "stderr",
     "output_type": "stream",
     "text": [
      " 90%|████████▉ | 900/1005 [5:45:51<1:24:51, 48.49s/it]"
     ]
    },
    {
     "name": "stdout",
     "output_type": "stream",
     "text": [
      "epoch: 180 loss:0.317478 auc:0.6500\n",
      "Fit finished.\n",
      "epoch:   0 loss:0.934493 auc:0.5648\n",
      "epoch:  20 loss:0.592835 auc:0.5957\n",
      "epoch:  40 loss:0.532078 auc:0.6204\n",
      "epoch:  60 loss:0.443207 auc:0.5648\n",
      "epoch:  80 loss:0.385790 auc:0.6173\n",
      "epoch: 100 loss:0.355405 auc:0.6204\n",
      "epoch: 120 loss:0.339779 auc:0.6265\n",
      "epoch: 140 loss:0.330590 auc:0.6327\n",
      "epoch: 160 loss:0.324704 auc:0.6327\n",
      "epoch: 180 loss:0.320723 auc:0.6358\n",
      "epoch: 200 loss:0.317898 auc:0.6358\n",
      "epoch: 220 loss:0.315807 auc:0.6358\n",
      "epoch: 240 loss:0.314214 auc:0.6358\n",
      "epoch: 260 loss:0.312971 auc:0.6358\n",
      "epoch: 280 loss:0.311987 auc:0.6358\n",
      "epoch: 300 loss:0.311201 auc:0.6327\n",
      "epoch: 320 loss:0.310566 auc:0.6327\n"
     ]
    },
    {
     "name": "stderr",
     "output_type": "stream",
     "text": [
      " 90%|████████▉ | 901/1005 [5:46:03<1:05:50, 37.98s/it]"
     ]
    },
    {
     "name": "stdout",
     "output_type": "stream",
     "text": [
      "epoch: 340 loss:0.310048 auc:0.6296\n",
      "Fit finished.\n",
      "epoch:   0 loss:0.778471 auc:0.4925\n",
      "epoch:  20 loss:0.550540 auc:0.7000\n",
      "epoch:  40 loss:0.417206 auc:0.6750\n",
      "epoch:  60 loss:0.359248 auc:0.6150\n",
      "epoch:  80 loss:0.336858 auc:0.6050\n",
      "epoch: 100 loss:0.326263 auc:0.5975\n",
      "epoch: 120 loss:0.320308 auc:0.5850\n",
      "epoch: 140 loss:0.316571 auc:0.5775\n",
      "epoch: 160 loss:0.314076 auc:0.5700\n"
     ]
    },
    {
     "name": "stderr",
     "output_type": "stream",
     "text": [
      " 90%|████████▉ | 902/1005 [5:46:09<49:19, 28.73s/it]  "
     ]
    },
    {
     "name": "stdout",
     "output_type": "stream",
     "text": [
      "epoch: 180 loss:0.312367 auc:0.5775\n",
      "Fit finished.\n",
      "epoch:   0 loss:0.809299 auc:0.5104\n",
      "epoch:  20 loss:0.601313 auc:0.6014\n",
      "epoch:  40 loss:0.556725 auc:0.6141\n",
      "epoch:  60 loss:0.456661 auc:0.5565\n",
      "epoch:  80 loss:0.391590 auc:0.5207\n",
      "epoch: 100 loss:0.359056 auc:0.5288\n",
      "epoch: 120 loss:0.341490 auc:0.5438\n",
      "epoch: 140 loss:0.331290 auc:0.5495\n",
      "epoch: 160 loss:0.324957 auc:0.5553\n"
     ]
    },
    {
     "name": "stderr",
     "output_type": "stream",
     "text": [
      " 90%|████████▉ | 903/1005 [5:46:15<37:39, 22.15s/it]"
     ]
    },
    {
     "name": "stdout",
     "output_type": "stream",
     "text": [
      "epoch: 180 loss:0.320737 auc:0.5588\n",
      "Fit finished.\n",
      "epoch:   0 loss:0.797168 auc:0.5042\n",
      "epoch:  20 loss:0.566596 auc:0.5873\n",
      "epoch:  40 loss:0.439873 auc:0.5263\n",
      "epoch:  60 loss:0.371574 auc:0.5374\n",
      "epoch:  80 loss:0.341786 auc:0.5014\n",
      "epoch: 100 loss:0.328057 auc:0.4903\n",
      "epoch: 120 loss:0.320964 auc:0.4958\n",
      "epoch: 140 loss:0.316831 auc:0.5042\n",
      "epoch: 160 loss:0.314206 auc:0.5042\n"
     ]
    },
    {
     "name": "stderr",
     "output_type": "stream",
     "text": [
      " 90%|████████▉ | 904/1005 [5:46:25<31:10, 18.52s/it]"
     ]
    },
    {
     "name": "stdout",
     "output_type": "stream",
     "text": [
      "epoch: 180 loss:0.312434 auc:0.5125\n",
      "Fit finished.\n",
      "epoch:   0 loss:0.784663 auc:0.5074\n",
      "epoch:  20 loss:0.594077 auc:0.5089\n",
      "epoch:  40 loss:0.515110 auc:0.4926\n",
      "epoch:  60 loss:0.424680 auc:0.4630\n",
      "epoch:  80 loss:0.376754 auc:0.4793\n",
      "epoch: 100 loss:0.351835 auc:0.4822\n",
      "epoch: 120 loss:0.337572 auc:0.4793\n",
      "epoch: 140 loss:0.328948 auc:0.4808\n"
     ]
    },
    {
     "name": "stderr",
     "output_type": "stream",
     "text": [
      " 90%|█████████ | 905/1005 [5:46:32<25:15, 15.16s/it]"
     ]
    },
    {
     "name": "stdout",
     "output_type": "stream",
     "text": [
      "epoch: 160 loss:0.323445 auc:0.4822\n",
      "Fit finished.\n",
      "epoch:   0 loss:0.791876 auc:0.4367\n",
      "epoch:  20 loss:0.572839 auc:0.6427\n",
      "epoch:  40 loss:0.462912 auc:0.6276\n",
      "epoch:  60 loss:0.386165 auc:0.6087\n",
      "epoch:  80 loss:0.352218 auc:0.5974\n",
      "epoch: 100 loss:0.335648 auc:0.6106\n",
      "epoch: 120 loss:0.326488 auc:0.6144\n",
      "epoch: 140 loss:0.320889 auc:0.6106\n",
      "epoch: 160 loss:0.317252 auc:0.6125\n"
     ]
    },
    {
     "name": "stderr",
     "output_type": "stream",
     "text": [
      " 90%|█████████ | 906/1005 [5:46:39<21:03, 12.76s/it]"
     ]
    },
    {
     "name": "stdout",
     "output_type": "stream",
     "text": [
      "epoch: 180 loss:0.314786 auc:0.6106\n",
      "Fit finished.\n",
      "epoch:   0 loss:0.783160 auc:0.4931\n",
      "epoch:  20 loss:0.579028 auc:0.6701\n",
      "epoch:  40 loss:0.462697 auc:0.7126\n",
      "epoch:  60 loss:0.376113 auc:0.7517\n",
      "epoch:  80 loss:0.344343 auc:0.7276\n",
      "epoch: 100 loss:0.330069 auc:0.7230\n",
      "epoch: 120 loss:0.322482 auc:0.7253\n",
      "epoch: 140 loss:0.317928 auc:0.7287\n",
      "epoch: 160 loss:0.315006 auc:0.7345\n",
      "epoch: 180 loss:0.313023 auc:0.7333\n",
      "epoch: 200 loss:0.311613 auc:0.7345\n"
     ]
    },
    {
     "name": "stderr",
     "output_type": "stream",
     "text": [
      " 90%|█████████ | 907/1005 [5:46:48<18:42, 11.46s/it]"
     ]
    },
    {
     "name": "stdout",
     "output_type": "stream",
     "text": [
      "epoch: 220 loss:0.310570 auc:0.7287\n",
      "Fit finished.\n",
      "epoch:   0 loss:0.793688 auc:0.3606\n",
      "epoch:  20 loss:0.590881 auc:0.5219\n",
      "epoch:  40 loss:0.514712 auc:0.5104\n",
      "epoch:  60 loss:0.422874 auc:0.5046\n",
      "epoch:  80 loss:0.376588 auc:0.4919\n",
      "epoch: 100 loss:0.351017 auc:0.4816\n",
      "epoch: 120 loss:0.336805 auc:0.4827\n",
      "epoch: 140 loss:0.328474 auc:0.4919\n",
      "epoch: 160 loss:0.323124 auc:0.4873\n"
     ]
    },
    {
     "name": "stderr",
     "output_type": "stream",
     "text": [
      " 90%|█████████ | 908/1005 [5:46:56<16:51, 10.43s/it]"
     ]
    },
    {
     "name": "stdout",
     "output_type": "stream",
     "text": [
      "epoch: 180 loss:0.319417 auc:0.4862\n",
      "Fit finished.\n",
      "epoch:   0 loss:0.798992 auc:0.5485\n",
      "epoch:  20 loss:0.580583 auc:0.5125\n",
      "epoch:  40 loss:0.480796 auc:0.5235\n",
      "epoch:  60 loss:0.402324 auc:0.6011\n",
      "epoch:  80 loss:0.362792 auc:0.6122\n",
      "epoch: 100 loss:0.342640 auc:0.6011\n",
      "epoch: 120 loss:0.331504 auc:0.6066\n",
      "epoch: 140 loss:0.324636 auc:0.6066\n",
      "epoch: 160 loss:0.320118 auc:0.6205\n",
      "epoch: 180 loss:0.317052 auc:0.6233\n",
      "epoch: 200 loss:0.314887 auc:0.6288\n",
      "epoch: 220 loss:0.313307 auc:0.6399\n",
      "epoch: 240 loss:0.312117 auc:0.6399\n",
      "epoch: 260 loss:0.311198 auc:0.6427\n",
      "epoch: 280 loss:0.310476 auc:0.6482\n",
      "epoch: 300 loss:0.309902 auc:0.6565\n",
      "epoch: 320 loss:0.309441 auc:0.6676\n",
      "epoch: 340 loss:0.309064 auc:0.6731\n",
      "epoch: 360 loss:0.308751 auc:0.6759\n",
      "epoch: 380 loss:0.308487 auc:0.6787\n",
      "epoch: 400 loss:0.308263 auc:0.6814\n",
      "epoch: 420 loss:0.308069 auc:0.6870\n",
      "epoch: 440 loss:0.307901 auc:0.6953\n",
      "epoch: 460 loss:0.307754 auc:0.6925\n",
      "epoch: 480 loss:0.307625 auc:0.6953\n",
      "epoch: 500 loss:0.307512 auc:0.6925\n",
      "epoch: 520 loss:0.307412 auc:0.6898\n",
      "epoch: 540 loss:0.307325 auc:0.6898\n",
      "epoch: 560 loss:0.307249 auc:0.6898\n",
      "epoch: 580 loss:0.307230 auc:0.6953\n",
      "epoch: 600 loss:0.307135 auc:0.6953\n",
      "epoch: 620 loss:0.307077 auc:0.7008\n",
      "epoch: 640 loss:0.307033 auc:0.7036\n",
      "epoch: 660 loss:0.306996 auc:0.7036\n",
      "epoch: 680 loss:0.306965 auc:0.7036\n",
      "epoch: 700 loss:0.307100 auc:0.7036\n",
      "epoch: 720 loss:0.306920 auc:0.7036\n",
      "epoch: 740 loss:0.306896 auc:0.7036\n",
      "epoch: 760 loss:0.306876 auc:0.7036\n",
      "epoch: 780 loss:0.306861 auc:0.7036\n"
     ]
    },
    {
     "name": "stderr",
     "output_type": "stream",
     "text": [
      " 90%|█████████ | 909/1005 [5:47:22<24:11, 15.12s/it]"
     ]
    },
    {
     "name": "stdout",
     "output_type": "stream",
     "text": [
      "epoch: 800 loss:0.306847 auc:0.7008\n",
      "Fit finished.\n",
      "epoch:   0 loss:0.789674 auc:0.5156\n",
      "epoch:  20 loss:0.578580 auc:0.6540\n",
      "epoch:  40 loss:0.484271 auc:0.6471\n",
      "epoch:  60 loss:0.401390 auc:0.6401\n",
      "epoch:  80 loss:0.359644 auc:0.6540\n",
      "epoch: 100 loss:0.340024 auc:0.6401\n",
      "epoch: 120 loss:0.329761 auc:0.6436\n",
      "epoch: 140 loss:0.323561 auc:0.6401\n",
      "epoch: 160 loss:0.319419 auc:0.6367\n"
     ]
    },
    {
     "name": "stderr",
     "output_type": "stream",
     "text": [
      " 91%|█████████ | 910/1005 [5:47:29<20:27, 12.92s/it]"
     ]
    },
    {
     "name": "stdout",
     "output_type": "stream",
     "text": [
      "epoch: 180 loss:0.316507 auc:0.6471\n",
      "Fit finished.\n",
      "epoch:   0 loss:0.784895 auc:0.6071\n",
      "epoch:  20 loss:0.568170 auc:0.6071\n",
      "epoch:  40 loss:0.455169 auc:0.6480\n",
      "epoch:  60 loss:0.382287 auc:0.6480\n",
      "epoch:  80 loss:0.348134 auc:0.6429\n",
      "epoch: 100 loss:0.333062 auc:0.6429\n",
      "epoch: 120 loss:0.325079 auc:0.6531\n",
      "epoch: 140 loss:0.320291 auc:0.6378\n",
      "epoch: 160 loss:0.317156 auc:0.6378\n",
      "epoch: 180 loss:0.314978 auc:0.6378\n"
     ]
    },
    {
     "name": "stderr",
     "output_type": "stream",
     "text": [
      " 91%|█████████ | 911/1005 [5:47:38<18:20, 11.71s/it]"
     ]
    },
    {
     "name": "stdout",
     "output_type": "stream",
     "text": [
      "epoch: 200 loss:0.313389 auc:0.6327\n",
      "Fit finished.\n",
      "epoch:   0 loss:0.795819 auc:0.7301\n",
      "epoch:  20 loss:0.594370 auc:0.6055\n",
      "epoch:  40 loss:0.512609 auc:0.6782\n",
      "epoch:  60 loss:0.427341 auc:0.7024\n",
      "epoch:  80 loss:0.379068 auc:0.7266\n",
      "epoch: 100 loss:0.353097 auc:0.7370\n",
      "epoch: 120 loss:0.338908 auc:0.7370\n",
      "epoch: 140 loss:0.330327 auc:0.7439\n",
      "epoch: 160 loss:0.324715 auc:0.7405\n",
      "epoch: 180 loss:0.320814 auc:0.7405\n",
      "epoch: 200 loss:0.317986 auc:0.7474\n",
      "epoch: 220 loss:0.315875 auc:0.7439\n",
      "epoch: 240 loss:0.314252 auc:0.7439\n",
      "epoch: 260 loss:0.312984 auc:0.7439\n",
      "epoch: 280 loss:0.311985 auc:0.7439\n",
      "epoch: 300 loss:0.311194 auc:0.7439\n",
      "epoch: 320 loss:0.310563 auc:0.7405\n"
     ]
    },
    {
     "name": "stderr",
     "output_type": "stream",
     "text": [
      " 91%|█████████ | 912/1005 [5:47:52<19:02, 12.28s/it]"
     ]
    },
    {
     "name": "stdout",
     "output_type": "stream",
     "text": [
      "epoch: 340 loss:0.310051 auc:0.7370\n",
      "Fit finished.\n",
      "epoch:   0 loss:0.789997 auc:0.5195\n",
      "epoch:  20 loss:0.583874 auc:0.6289\n",
      "epoch:  40 loss:0.480850 auc:0.5938\n",
      "epoch:  60 loss:0.399165 auc:0.5078\n",
      "epoch:  80 loss:0.360997 auc:0.5117\n",
      "epoch: 100 loss:0.341644 auc:0.5078\n",
      "epoch: 120 loss:0.330865 auc:0.5078\n",
      "epoch: 140 loss:0.324296 auc:0.5117\n"
     ]
    },
    {
     "name": "stderr",
     "output_type": "stream",
     "text": [
      " 91%|█████████ | 913/1005 [5:48:02<18:00, 11.74s/it]"
     ]
    },
    {
     "name": "stdout",
     "output_type": "stream",
     "text": [
      "epoch: 160 loss:0.319974 auc:0.5117\n",
      "Fit finished.\n",
      "epoch:   0 loss:0.796394 auc:0.5503\n",
      "epoch:  20 loss:0.590525 auc:0.4497\n",
      "epoch:  40 loss:0.502485 auc:0.4142\n",
      "epoch:  60 loss:0.414876 auc:0.3491\n",
      "epoch:  80 loss:0.366376 auc:0.3669\n",
      "epoch: 100 loss:0.343681 auc:0.3787\n",
      "epoch: 120 loss:0.331973 auc:0.3609\n",
      "epoch: 140 loss:0.325083 auc:0.3728\n"
     ]
    },
    {
     "name": "stderr",
     "output_type": "stream",
     "text": [
      " 91%|█████████ | 914/1005 [5:48:11<16:15, 10.72s/it]"
     ]
    },
    {
     "name": "stdout",
     "output_type": "stream",
     "text": [
      "epoch: 160 loss:0.320619 auc:0.3905\n",
      "Fit finished.\n",
      "epoch:   0 loss:0.781497 auc:0.5034\n",
      "epoch:  20 loss:0.585394 auc:0.7366\n",
      "epoch:  40 loss:0.497670 auc:0.7353\n",
      "epoch:  60 loss:0.408012 auc:0.7407\n",
      "epoch:  80 loss:0.363557 auc:0.7380\n",
      "epoch: 100 loss:0.341740 auc:0.7435\n",
      "epoch: 120 loss:0.330501 auc:0.7339\n",
      "epoch: 140 loss:0.323914 auc:0.7311\n",
      "epoch: 160 loss:0.319667 auc:0.7325\n"
     ]
    },
    {
     "name": "stderr",
     "output_type": "stream",
     "text": [
      " 91%|█████████ | 915/1005 [5:48:21<15:40, 10.45s/it]"
     ]
    },
    {
     "name": "stdout",
     "output_type": "stream",
     "text": [
      "epoch: 180 loss:0.316752 auc:0.7270\n",
      "Fit finished.\n",
      "epoch:   0 loss:0.842333 auc:0.5099\n",
      "epoch:  20 loss:0.593626 auc:0.5395\n",
      "epoch:  40 loss:0.519819 auc:0.5321\n",
      "epoch:  60 loss:0.427748 auc:0.5432\n",
      "epoch:  80 loss:0.379750 auc:0.5642\n",
      "epoch: 100 loss:0.354366 auc:0.5741\n",
      "epoch: 120 loss:0.339772 auc:0.5790\n",
      "epoch: 140 loss:0.330765 auc:0.5753\n",
      "epoch: 160 loss:0.324857 auc:0.5753\n",
      "epoch: 180 loss:0.320805 auc:0.5667\n",
      "epoch: 200 loss:0.317906 auc:0.5642\n",
      "epoch: 220 loss:0.315755 auc:0.5654\n",
      "epoch: 240 loss:0.314115 auc:0.5679\n"
     ]
    },
    {
     "name": "stderr",
     "output_type": "stream",
     "text": [
      " 91%|█████████ | 916/1005 [5:48:34<16:37, 11.21s/it]"
     ]
    },
    {
     "name": "stdout",
     "output_type": "stream",
     "text": [
      "epoch: 260 loss:0.312830 auc:0.5691\n",
      "Fit finished.\n",
      "epoch:   0 loss:0.806930 auc:0.6176\n",
      "epoch:  20 loss:0.586712 auc:0.7633\n",
      "epoch:  40 loss:0.498529 auc:0.8039\n",
      "epoch:  60 loss:0.410799 auc:0.8067\n",
      "epoch:  80 loss:0.366604 auc:0.7899\n",
      "epoch: 100 loss:0.344062 auc:0.7857\n",
      "epoch: 120 loss:0.331825 auc:0.7899\n",
      "epoch: 140 loss:0.324717 auc:0.7815\n",
      "epoch: 160 loss:0.320234 auc:0.7843\n",
      "epoch: 180 loss:0.317203 auc:0.7871\n"
     ]
    },
    {
     "name": "stderr",
     "output_type": "stream",
     "text": [
      " 91%|█████████ | 917/1005 [5:48:43<15:31, 10.58s/it]"
     ]
    },
    {
     "name": "stdout",
     "output_type": "stream",
     "text": [
      "epoch: 200 loss:0.315055 auc:0.7871\n",
      "Fit finished.\n",
      "epoch:   0 loss:0.816010 auc:0.5781\n",
      "epoch:  20 loss:0.599209 auc:0.5234\n",
      "epoch:  40 loss:0.537986 auc:0.5273\n",
      "epoch:  60 loss:0.445999 auc:0.5547\n",
      "epoch:  80 loss:0.386334 auc:0.5625\n",
      "epoch: 100 loss:0.355301 auc:0.5703\n",
      "epoch: 120 loss:0.339375 auc:0.5859\n",
      "epoch: 140 loss:0.330165 auc:0.5898\n",
      "epoch: 160 loss:0.324328 auc:0.5938\n",
      "epoch: 180 loss:0.320381 auc:0.5977\n",
      "epoch: 200 loss:0.317545 auc:0.6016\n",
      "epoch: 220 loss:0.315412 auc:0.5898\n",
      "epoch: 240 loss:0.313757 auc:0.5859\n",
      "epoch: 260 loss:0.312455 auc:0.5859\n"
     ]
    },
    {
     "name": "stderr",
     "output_type": "stream",
     "text": [
      " 91%|█████████▏| 918/1005 [5:49:00<18:17, 12.62s/it]"
     ]
    },
    {
     "name": "stdout",
     "output_type": "stream",
     "text": [
      "epoch: 280 loss:0.311425 auc:0.5820\n",
      "Fit finished.\n",
      "epoch:   0 loss:0.763969 auc:0.5156\n",
      "epoch:  20 loss:0.597576 auc:0.4775\n",
      "epoch:  40 loss:0.529461 auc:0.4533\n",
      "epoch:  60 loss:0.435235 auc:0.4221\n",
      "epoch:  80 loss:0.380195 auc:0.4429\n",
      "epoch: 100 loss:0.352669 auc:0.4325\n",
      "epoch: 120 loss:0.338051 auc:0.4429\n",
      "epoch: 140 loss:0.329267 auc:0.4533\n"
     ]
    },
    {
     "name": "stderr",
     "output_type": "stream",
     "text": [
      " 91%|█████████▏| 919/1005 [5:49:10<16:44, 11.68s/it]"
     ]
    },
    {
     "name": "stdout",
     "output_type": "stream",
     "text": [
      "epoch: 160 loss:0.323554 auc:0.4602\n",
      "Fit finished.\n",
      "epoch:   0 loss:0.786009 auc:0.5382\n",
      "epoch:  20 loss:0.572546 auc:0.6215\n",
      "epoch:  40 loss:0.461658 auc:0.6510\n",
      "epoch:  60 loss:0.387228 auc:0.6146\n",
      "epoch:  80 loss:0.351815 auc:0.6319\n",
      "epoch: 100 loss:0.335140 auc:0.6372\n",
      "epoch: 120 loss:0.326375 auc:0.6354\n",
      "epoch: 140 loss:0.321056 auc:0.6372\n",
      "epoch: 160 loss:0.317507 auc:0.6354\n",
      "epoch: 180 loss:0.315012 auc:0.6337\n"
     ]
    },
    {
     "name": "stderr",
     "output_type": "stream",
     "text": [
      " 92%|█████████▏| 920/1005 [5:49:21<16:27, 11.62s/it]"
     ]
    },
    {
     "name": "stdout",
     "output_type": "stream",
     "text": [
      "epoch: 200 loss:0.313205 auc:0.6285\n",
      "Fit finished.\n",
      "epoch:   0 loss:0.791198 auc:0.4091\n",
      "epoch:  20 loss:0.582889 auc:0.5888\n",
      "epoch:  40 loss:0.493847 auc:0.4979\n",
      "epoch:  60 loss:0.405544 auc:0.5021\n",
      "epoch:  80 loss:0.362051 auc:0.5083\n",
      "epoch: 100 loss:0.342001 auc:0.5103\n",
      "epoch: 120 loss:0.331312 auc:0.5165\n",
      "epoch: 140 loss:0.324862 auc:0.5186\n",
      "epoch: 160 loss:0.320633 auc:0.5207\n"
     ]
    },
    {
     "name": "stderr",
     "output_type": "stream",
     "text": [
      " 92%|█████████▏| 921/1005 [5:49:30<15:01, 10.73s/it]"
     ]
    },
    {
     "name": "stdout",
     "output_type": "stream",
     "text": [
      "epoch: 180 loss:0.317625 auc:0.5207\n",
      "Fit finished.\n",
      "epoch:   0 loss:0.835059 auc:0.5011\n",
      "epoch:  20 loss:0.594307 auc:0.5079\n",
      "epoch:  40 loss:0.514319 auc:0.5102\n",
      "epoch:  60 loss:0.425617 auc:0.5238\n",
      "epoch:  80 loss:0.374822 auc:0.5374\n",
      "epoch: 100 loss:0.349917 auc:0.5283\n",
      "epoch: 120 loss:0.336743 auc:0.5283\n",
      "epoch: 140 loss:0.328736 auc:0.5306\n",
      "epoch: 160 loss:0.323345 auc:0.5374\n",
      "epoch: 180 loss:0.319513 auc:0.5306\n",
      "epoch: 200 loss:0.316721 auc:0.5238\n"
     ]
    },
    {
     "name": "stderr",
     "output_type": "stream",
     "text": [
      " 92%|█████████▏| 922/1005 [5:49:50<18:51, 13.63s/it]"
     ]
    },
    {
     "name": "stdout",
     "output_type": "stream",
     "text": [
      "epoch: 220 loss:0.314654 auc:0.5170\n",
      "Fit finished.\n",
      "epoch:   0 loss:0.774769 auc:0.5710\n",
      "epoch:  20 loss:0.569577 auc:0.7222\n",
      "epoch:  40 loss:0.450488 auc:0.6142\n",
      "epoch:  60 loss:0.380255 auc:0.6420\n",
      "epoch:  80 loss:0.346648 auc:0.6327\n",
      "epoch: 100 loss:0.331324 auc:0.6296\n",
      "epoch: 120 loss:0.323383 auc:0.6296\n",
      "epoch: 140 loss:0.318678 auc:0.6235\n",
      "epoch: 160 loss:0.315601 auc:0.6265\n"
     ]
    },
    {
     "name": "stderr",
     "output_type": "stream",
     "text": [
      " 92%|█████████▏| 923/1005 [5:50:03<18:25, 13.48s/it]"
     ]
    },
    {
     "name": "stdout",
     "output_type": "stream",
     "text": [
      "epoch: 180 loss:0.313462 auc:0.6296\n",
      "Fit finished.\n",
      "epoch:   0 loss:0.789225 auc:0.4479\n",
      "epoch:  20 loss:0.566107 auc:0.5694\n",
      "epoch:  40 loss:0.463327 auc:0.6024\n",
      "epoch:  60 loss:0.394325 auc:0.5955\n",
      "epoch:  80 loss:0.355333 auc:0.5885\n",
      "epoch: 100 loss:0.336601 auc:0.5833\n",
      "epoch: 120 loss:0.326834 auc:0.5712\n",
      "epoch: 140 loss:0.321104 auc:0.5712\n",
      "epoch: 160 loss:0.317440 auc:0.5833\n",
      "epoch: 180 loss:0.314943 auc:0.5903\n"
     ]
    },
    {
     "name": "stderr",
     "output_type": "stream",
     "text": [
      " 92%|█████████▏| 924/1005 [5:50:14<17:07, 12.69s/it]"
     ]
    },
    {
     "name": "stdout",
     "output_type": "stream",
     "text": [
      "epoch: 200 loss:0.313169 auc:0.5868\n",
      "Fit finished.\n",
      "epoch:   0 loss:0.774264 auc:0.5577\n",
      "epoch:  20 loss:0.579565 auc:0.5066\n",
      "epoch:  40 loss:0.476003 auc:0.4537\n",
      "epoch:  60 loss:0.390663 auc:0.3705\n",
      "epoch:  80 loss:0.353008 auc:0.3667\n",
      "epoch: 100 loss:0.335920 auc:0.3667\n",
      "epoch: 120 loss:0.326594 auc:0.3724\n",
      "epoch: 140 loss:0.321014 auc:0.3686\n"
     ]
    },
    {
     "name": "stderr",
     "output_type": "stream",
     "text": [
      " 92%|█████████▏| 925/1005 [5:50:21<14:49, 11.11s/it]"
     ]
    },
    {
     "name": "stdout",
     "output_type": "stream",
     "text": [
      "epoch: 160 loss:0.317447 auc:0.3667\n",
      "Fit finished.\n",
      "epoch:   0 loss:0.901548 auc:0.3592\n",
      "epoch:  20 loss:0.601022 auc:0.5217\n",
      "epoch:  40 loss:0.553216 auc:0.5633\n",
      "epoch:  60 loss:0.448612 auc:0.6749\n",
      "epoch:  80 loss:0.382373 auc:0.6843\n",
      "epoch: 100 loss:0.351856 auc:0.6862\n",
      "epoch: 120 loss:0.336568 auc:0.6824\n",
      "epoch: 140 loss:0.327905 auc:0.6843\n",
      "epoch: 160 loss:0.322528 auc:0.6843\n",
      "epoch: 180 loss:0.318957 auc:0.6862\n",
      "epoch: 200 loss:0.316447 auc:0.6900\n",
      "epoch: 220 loss:0.314604 auc:0.6900\n",
      "epoch: 240 loss:0.313206 auc:0.6862\n",
      "epoch: 260 loss:0.312121 auc:0.6862\n",
      "epoch: 280 loss:0.311259 auc:0.6843\n"
     ]
    },
    {
     "name": "stderr",
     "output_type": "stream",
     "text": [
      " 92%|█████████▏| 926/1005 [5:50:31<13:58, 10.62s/it]"
     ]
    },
    {
     "name": "stdout",
     "output_type": "stream",
     "text": [
      "epoch: 300 loss:0.310565 auc:0.6786\n",
      "Fit finished.\n",
      "epoch:   0 loss:0.805937 auc:0.5312\n",
      "epoch:  20 loss:0.570543 auc:0.6408\n",
      "epoch:  40 loss:0.448186 auc:0.6824\n",
      "epoch:  60 loss:0.374092 auc:0.6938\n",
      "epoch:  80 loss:0.343984 auc:0.7013\n",
      "epoch: 100 loss:0.330341 auc:0.7032\n",
      "epoch: 120 loss:0.323063 auc:0.7013\n",
      "epoch: 140 loss:0.318682 auc:0.7089\n",
      "epoch: 160 loss:0.315814 auc:0.7089\n",
      "epoch: 180 loss:0.313792 auc:0.7089\n",
      "epoch: 200 loss:0.312307 auc:0.7051\n",
      "epoch: 220 loss:0.311188 auc:0.7051\n",
      "epoch: 240 loss:0.310328 auc:0.7051\n",
      "epoch: 260 loss:0.309658 auc:0.7051\n",
      "epoch: 280 loss:0.309130 auc:0.7051\n"
     ]
    },
    {
     "name": "stderr",
     "output_type": "stream",
     "text": [
      " 92%|█████████▏| 927/1005 [5:50:41<13:32, 10.41s/it]"
     ]
    },
    {
     "name": "stdout",
     "output_type": "stream",
     "text": [
      "epoch: 300 loss:0.308710 auc:0.7013\n",
      "Fit finished.\n",
      "epoch:   0 loss:0.767242 auc:0.3991\n",
      "epoch:  20 loss:0.582819 auc:0.5896\n",
      "epoch:  40 loss:0.501227 auc:0.4898\n",
      "epoch:  60 loss:0.411891 auc:0.4603\n",
      "epoch:  80 loss:0.366924 auc:0.4603\n",
      "epoch: 100 loss:0.344688 auc:0.4671\n",
      "epoch: 120 loss:0.333009 auc:0.4694\n",
      "epoch: 140 loss:0.326109 auc:0.4512\n",
      "epoch: 160 loss:0.321595 auc:0.4490\n"
     ]
    },
    {
     "name": "stderr",
     "output_type": "stream",
     "text": [
      " 92%|█████████▏| 928/1005 [5:50:48<11:55,  9.29s/it]"
     ]
    },
    {
     "name": "stdout",
     "output_type": "stream",
     "text": [
      "epoch: 180 loss:0.318441 auc:0.4422\n",
      "Fit finished.\n",
      "epoch:   0 loss:0.789638 auc:0.5457\n",
      "epoch:  20 loss:0.579268 auc:0.5665\n",
      "epoch:  40 loss:0.475120 auc:0.6053\n",
      "epoch:  60 loss:0.395837 auc:0.6080\n",
      "epoch:  80 loss:0.356698 auc:0.6108\n",
      "epoch: 100 loss:0.337543 auc:0.6177\n",
      "epoch: 120 loss:0.327475 auc:0.6053\n",
      "epoch: 140 loss:0.321615 auc:0.6122\n",
      "epoch: 160 loss:0.317869 auc:0.6163\n",
      "epoch: 180 loss:0.315272 auc:0.6205\n",
      "epoch: 200 loss:0.313378 auc:0.6219\n",
      "epoch: 220 loss:0.311952 auc:0.6233\n",
      "epoch: 240 loss:0.310856 auc:0.6233\n",
      "epoch: 260 loss:0.310011 auc:0.6233\n",
      "epoch: 280 loss:0.309363 auc:0.6191\n",
      "epoch: 300 loss:0.308862 auc:0.6163\n"
     ]
    },
    {
     "name": "stderr",
     "output_type": "stream",
     "text": [
      " 92%|█████████▏| 929/1005 [6:46:19<21:14:16, 1006.01s/it]"
     ]
    },
    {
     "name": "stdout",
     "output_type": "stream",
     "text": [
      "epoch: 320 loss:0.308474 auc:0.6150\n",
      "Fit finished.\n",
      "epoch:   0 loss:0.879085 auc:0.4944\n",
      "epoch:  20 loss:0.601392 auc:0.6240\n",
      "epoch:  40 loss:0.547297 auc:0.6464\n",
      "epoch:  60 loss:0.446361 auc:0.6992\n",
      "epoch:  80 loss:0.386209 auc:0.7088\n",
      "epoch: 100 loss:0.355461 auc:0.7088\n",
      "epoch: 120 loss:0.339272 auc:0.7024\n",
      "epoch: 140 loss:0.330181 auc:0.7072\n",
      "epoch: 160 loss:0.324556 auc:0.7088\n",
      "epoch: 180 loss:0.320697 auc:0.7008\n",
      "epoch: 200 loss:0.317866 auc:0.6960\n"
     ]
    },
    {
     "name": "stderr",
     "output_type": "stream",
     "text": [
      " 93%|█████████▎| 930/1005 [6:46:27<14:43:01, 706.42s/it] "
     ]
    },
    {
     "name": "stdout",
     "output_type": "stream",
     "text": [
      "epoch: 220 loss:0.315706 auc:0.6896\n",
      "Fit finished.\n",
      "epoch:   0 loss:0.795624 auc:0.4630\n",
      "epoch:  20 loss:0.574826 auc:0.8012\n",
      "epoch:  40 loss:0.456044 auc:0.7617\n",
      "epoch:  60 loss:0.380498 auc:0.8123\n",
      "epoch:  80 loss:0.347835 auc:0.8074\n",
      "epoch: 100 loss:0.332417 auc:0.8000\n",
      "epoch: 120 loss:0.323935 auc:0.7926\n",
      "epoch: 140 loss:0.318928 auc:0.7864\n",
      "epoch: 160 loss:0.315773 auc:0.7815\n"
     ]
    },
    {
     "name": "stderr",
     "output_type": "stream",
     "text": [
      " 93%|█████████▎| 931/1005 [6:46:33<10:12:16, 496.44s/it]"
     ]
    },
    {
     "name": "stdout",
     "output_type": "stream",
     "text": [
      "epoch: 180 loss:0.313667 auc:0.7790\n",
      "Fit finished.\n",
      "epoch:   0 loss:0.783760 auc:0.4642\n",
      "epoch:  20 loss:0.597671 auc:0.7358\n",
      "epoch:  40 loss:0.533543 auc:0.6764\n",
      "epoch:  60 loss:0.426743 auc:0.5467\n",
      "epoch:  80 loss:0.374740 auc:0.5321\n",
      "epoch: 100 loss:0.349301 auc:0.5358\n",
      "epoch: 120 loss:0.335490 auc:0.5394\n",
      "epoch: 140 loss:0.327345 auc:0.5358\n",
      "epoch: 160 loss:0.322142 auc:0.5321\n"
     ]
    },
    {
     "name": "stderr",
     "output_type": "stream",
     "text": [
      " 93%|█████████▎| 932/1005 [6:46:40<7:05:09, 349.45s/it] "
     ]
    },
    {
     "name": "stdout",
     "output_type": "stream",
     "text": [
      "epoch: 180 loss:0.318594 auc:0.5273\n",
      "Fit finished.\n",
      "epoch:   0 loss:0.773454 auc:0.4571\n",
      "epoch:  20 loss:0.570916 auc:0.7451\n",
      "epoch:  40 loss:0.453772 auc:0.7047\n",
      "epoch:  60 loss:0.386090 auc:0.7096\n",
      "epoch:  80 loss:0.351742 auc:0.7047\n",
      "epoch: 100 loss:0.335018 auc:0.7022\n",
      "epoch: 120 loss:0.326369 auc:0.6985\n",
      "epoch: 140 loss:0.321276 auc:0.6912\n",
      "epoch: 160 loss:0.317922 auc:0.6826\n"
     ]
    },
    {
     "name": "stderr",
     "output_type": "stream",
     "text": [
      " 93%|█████████▎| 933/1005 [6:46:46<4:55:59, 246.66s/it]"
     ]
    },
    {
     "name": "stdout",
     "output_type": "stream",
     "text": [
      "epoch: 180 loss:0.315547 auc:0.6777\n",
      "Fit finished.\n",
      "epoch:   0 loss:0.792213 auc:0.5052\n",
      "epoch:  20 loss:0.580738 auc:0.6424\n",
      "epoch:  40 loss:0.485423 auc:0.6337\n",
      "epoch:  60 loss:0.400068 auc:0.5851\n",
      "epoch:  80 loss:0.360380 auc:0.6059\n",
      "epoch: 100 loss:0.341361 auc:0.5799\n",
      "epoch: 120 loss:0.330700 auc:0.5573\n",
      "epoch: 140 loss:0.324051 auc:0.5556\n",
      "epoch: 160 loss:0.319674 auc:0.5608\n"
     ]
    },
    {
     "name": "stderr",
     "output_type": "stream",
     "text": [
      " 93%|█████████▎| 934/1005 [6:46:53<3:26:35, 174.58s/it]"
     ]
    },
    {
     "name": "stdout",
     "output_type": "stream",
     "text": [
      "epoch: 180 loss:0.316639 auc:0.5608\n",
      "Fit finished.\n",
      "epoch:   0 loss:0.809257 auc:0.3685\n",
      "epoch:  20 loss:0.597368 auc:0.6055\n",
      "epoch:  40 loss:0.532205 auc:0.6081\n",
      "epoch:  60 loss:0.428305 auc:0.5742\n",
      "epoch:  80 loss:0.377087 auc:0.5846\n",
      "epoch: 100 loss:0.350917 auc:0.5924\n",
      "epoch: 120 loss:0.336485 auc:0.5964\n",
      "epoch: 140 loss:0.327800 auc:0.5924\n",
      "epoch: 160 loss:0.322268 auc:0.5990\n"
     ]
    },
    {
     "name": "stderr",
     "output_type": "stream",
     "text": [
      " 93%|█████████▎| 935/1005 [6:46:59<2:24:47, 124.10s/it]"
     ]
    },
    {
     "name": "stdout",
     "output_type": "stream",
     "text": [
      "epoch: 180 loss:0.318558 auc:0.6003\n",
      "Fit finished.\n",
      "epoch:   0 loss:0.785085 auc:0.4792\n",
      "epoch:  20 loss:0.551990 auc:0.6389\n",
      "epoch:  40 loss:0.420639 auc:0.6233\n",
      "epoch:  60 loss:0.362404 auc:0.6319\n",
      "epoch:  80 loss:0.337520 auc:0.6267\n",
      "epoch: 100 loss:0.326145 auc:0.6424\n",
      "epoch: 120 loss:0.320065 auc:0.6458\n",
      "epoch: 140 loss:0.316427 auc:0.6562\n",
      "epoch: 160 loss:0.314070 auc:0.6545\n",
      "epoch: 180 loss:0.312458 auc:0.6580\n",
      "epoch: 200 loss:0.311296 auc:0.6562\n",
      "epoch: 220 loss:0.310426 auc:0.6562\n",
      "epoch: 240 loss:0.309750 auc:0.6615\n",
      "epoch: 260 loss:0.309214 auc:0.6580\n",
      "epoch: 280 loss:0.308787 auc:0.6597\n",
      "epoch: 300 loss:0.308447 auc:0.6615\n",
      "epoch: 320 loss:0.308172 auc:0.6580\n",
      "epoch: 340 loss:0.307950 auc:0.6597\n",
      "epoch: 360 loss:0.307769 auc:0.6632\n",
      "epoch: 380 loss:0.307620 auc:0.6667\n",
      "epoch: 400 loss:0.307497 auc:0.6667\n",
      "epoch: 420 loss:0.307385 auc:0.6667\n",
      "epoch: 440 loss:0.307295 auc:0.6667\n",
      "epoch: 460 loss:0.307219 auc:0.6684\n",
      "epoch: 480 loss:0.307154 auc:0.6719\n",
      "epoch: 500 loss:0.307168 auc:0.6684\n",
      "epoch: 520 loss:0.307055 auc:0.6719\n",
      "epoch: 540 loss:0.307016 auc:0.6719\n",
      "epoch: 560 loss:0.306984 auc:0.6719\n",
      "epoch: 580 loss:0.306957 auc:0.6719\n",
      "epoch: 600 loss:0.306934 auc:0.6719\n",
      "epoch: 620 loss:0.306915 auc:0.6719\n"
     ]
    },
    {
     "name": "stderr",
     "output_type": "stream",
     "text": [
      " 93%|█████████▎| 936/1005 [6:47:20<1:47:03, 93.09s/it] "
     ]
    },
    {
     "name": "stdout",
     "output_type": "stream",
     "text": [
      "epoch: 640 loss:0.307122 auc:0.6701\n",
      "Fit finished.\n",
      "epoch:   0 loss:0.814355 auc:0.6302\n",
      "epoch:  20 loss:0.581637 auc:0.5590\n",
      "epoch:  40 loss:0.491346 auc:0.5451\n",
      "epoch:  60 loss:0.407891 auc:0.5920\n",
      "epoch:  80 loss:0.365460 auc:0.5642\n",
      "epoch: 100 loss:0.343820 auc:0.5712\n",
      "epoch: 120 loss:0.332043 auc:0.5694\n",
      "epoch: 140 loss:0.324979 auc:0.5573\n"
     ]
    },
    {
     "name": "stderr",
     "output_type": "stream",
     "text": [
      " 93%|█████████▎| 937/1005 [6:47:28<1:16:45, 67.73s/it]"
     ]
    },
    {
     "name": "stdout",
     "output_type": "stream",
     "text": [
      "epoch: 160 loss:0.320408 auc:0.5451\n",
      "Fit finished.\n",
      "epoch:   0 loss:0.805500 auc:0.4595\n",
      "epoch:  20 loss:0.581221 auc:0.5391\n",
      "epoch:  40 loss:0.485611 auc:0.6077\n",
      "epoch:  60 loss:0.400019 auc:0.5981\n",
      "epoch:  80 loss:0.361125 auc:0.5802\n",
      "epoch: 100 loss:0.342182 auc:0.5816\n",
      "epoch: 120 loss:0.331674 auc:0.5830\n",
      "epoch: 140 loss:0.325087 auc:0.5912\n",
      "epoch: 160 loss:0.320649 auc:0.5940\n",
      "epoch: 180 loss:0.317513 auc:0.5885\n"
     ]
    },
    {
     "name": "stderr",
     "output_type": "stream",
     "text": [
      " 93%|█████████▎| 938/1005 [6:47:36<55:28, 49.67s/it]  "
     ]
    },
    {
     "name": "stdout",
     "output_type": "stream",
     "text": [
      "epoch: 200 loss:0.315220 auc:0.5885\n",
      "Fit finished.\n",
      "epoch:   0 loss:0.797279 auc:0.3200\n",
      "epoch:  20 loss:0.581595 auc:0.4480\n",
      "epoch:  40 loss:0.475624 auc:0.2832\n",
      "epoch:  60 loss:0.392480 auc:0.2432\n",
      "epoch:  80 loss:0.355820 auc:0.2496\n",
      "epoch: 100 loss:0.337634 auc:0.2592\n",
      "epoch: 120 loss:0.327544 auc:0.2512\n",
      "epoch: 140 loss:0.321608 auc:0.2464\n"
     ]
    },
    {
     "name": "stderr",
     "output_type": "stream",
     "text": [
      " 93%|█████████▎| 939/1005 [6:47:42<40:21, 36.69s/it]"
     ]
    },
    {
     "name": "stdout",
     "output_type": "stream",
     "text": [
      "epoch: 160 loss:0.317853 auc:0.2544\n",
      "Fit finished.\n",
      "epoch:   0 loss:0.825291 auc:0.5291\n",
      "epoch:  20 loss:0.580025 auc:0.6537\n",
      "epoch:  40 loss:0.477996 auc:0.6343\n",
      "epoch:  60 loss:0.403585 auc:0.6205\n",
      "epoch:  80 loss:0.364970 auc:0.6205\n",
      "epoch: 100 loss:0.344741 auc:0.6094\n",
      "epoch: 120 loss:0.333173 auc:0.6094\n",
      "epoch: 140 loss:0.325880 auc:0.5983\n",
      "epoch: 160 loss:0.321015 auc:0.5706\n"
     ]
    },
    {
     "name": "stderr",
     "output_type": "stream",
     "text": [
      " 94%|█████████▎| 940/1005 [6:47:50<30:12, 27.89s/it]"
     ]
    },
    {
     "name": "stdout",
     "output_type": "stream",
     "text": [
      "epoch: 180 loss:0.317638 auc:0.5512\n",
      "Fit finished.\n",
      "epoch:   0 loss:0.804409 auc:0.4779\n",
      "epoch:  20 loss:0.600778 auc:0.6022\n",
      "epoch:  40 loss:0.539170 auc:0.6129\n",
      "epoch:  60 loss:0.437735 auc:0.5878\n",
      "epoch:  80 loss:0.381091 auc:0.6057\n",
      "epoch: 100 loss:0.353135 auc:0.6249\n",
      "epoch: 120 loss:0.338339 auc:0.6404\n",
      "epoch: 140 loss:0.329633 auc:0.6416\n",
      "epoch: 160 loss:0.324035 auc:0.6416\n",
      "epoch: 180 loss:0.320205 auc:0.6440\n",
      "epoch: 200 loss:0.317438 auc:0.6487\n",
      "epoch: 220 loss:0.315362 auc:0.6499\n",
      "epoch: 240 loss:0.313769 auc:0.6452\n",
      "epoch: 260 loss:0.312529 auc:0.6452\n",
      "epoch: 280 loss:0.311554 auc:0.6464\n",
      "epoch: 300 loss:0.310778 auc:0.6452\n",
      "epoch: 320 loss:0.310157 auc:0.6428\n"
     ]
    },
    {
     "name": "stderr",
     "output_type": "stream",
     "text": [
      " 94%|█████████▎| 941/1005 [6:48:01<24:27, 22.93s/it]"
     ]
    },
    {
     "name": "stdout",
     "output_type": "stream",
     "text": [
      "epoch: 340 loss:0.309659 auc:0.6416\n",
      "Fit finished.\n",
      "epoch:   0 loss:0.794862 auc:0.4080\n",
      "epoch:  20 loss:0.592055 auc:0.8003\n",
      "epoch:  40 loss:0.502647 auc:0.8142\n",
      "epoch:  60 loss:0.416789 auc:0.7917\n",
      "epoch:  80 loss:0.369331 auc:0.8160\n",
      "epoch: 100 loss:0.346055 auc:0.8177\n",
      "epoch: 120 loss:0.333395 auc:0.8212\n",
      "epoch: 140 loss:0.325780 auc:0.8160\n",
      "epoch: 160 loss:0.320867 auc:0.8142\n",
      "epoch: 180 loss:0.317527 auc:0.8108\n"
     ]
    },
    {
     "name": "stderr",
     "output_type": "stream",
     "text": [
      " 94%|█████████▎| 942/1005 [6:48:07<18:45, 17.86s/it]"
     ]
    },
    {
     "name": "stdout",
     "output_type": "stream",
     "text": [
      "epoch: 200 loss:0.315182 auc:0.8090\n",
      "Fit finished.\n",
      "epoch:   0 loss:0.852955 auc:0.4323\n",
      "epoch:  20 loss:0.598471 auc:0.5208\n",
      "epoch:  40 loss:0.539293 auc:0.5052\n",
      "epoch:  60 loss:0.441373 auc:0.4740\n",
      "epoch:  80 loss:0.382763 auc:0.5052\n",
      "epoch: 100 loss:0.354510 auc:0.5174\n",
      "epoch: 120 loss:0.339457 auc:0.5191\n",
      "epoch: 140 loss:0.330507 auc:0.5139\n",
      "epoch: 160 loss:0.324670 auc:0.5087\n"
     ]
    },
    {
     "name": "stderr",
     "output_type": "stream",
     "text": [
      " 94%|█████████▍| 943/1005 [6:48:13<14:41, 14.21s/it]"
     ]
    },
    {
     "name": "stdout",
     "output_type": "stream",
     "text": [
      "epoch: 180 loss:0.320606 auc:0.5069\n",
      "Fit finished.\n",
      "epoch:   0 loss:0.848121 auc:0.5319\n",
      "epoch:  20 loss:0.598830 auc:0.5928\n",
      "epoch:  40 loss:0.538370 auc:0.6177\n",
      "epoch:  60 loss:0.443052 auc:0.6343\n",
      "epoch:  80 loss:0.382718 auc:0.6288\n",
      "epoch: 100 loss:0.352777 auc:0.6288\n",
      "epoch: 120 loss:0.337338 auc:0.6011\n",
      "epoch: 140 loss:0.328410 auc:0.5845\n",
      "epoch: 160 loss:0.322798 auc:0.5789\n"
     ]
    },
    {
     "name": "stderr",
     "output_type": "stream",
     "text": [
      " 94%|█████████▍| 944/1005 [6:48:21<12:35, 12.38s/it]"
     ]
    },
    {
     "name": "stdout",
     "output_type": "stream",
     "text": [
      "epoch: 180 loss:0.319016 auc:0.5845\n",
      "Fit finished.\n",
      "epoch:   0 loss:0.780532 auc:0.4348\n",
      "epoch:  20 loss:0.585285 auc:0.6446\n",
      "epoch:  40 loss:0.487834 auc:0.6673\n",
      "epoch:  60 loss:0.410809 auc:0.6560\n",
      "epoch:  80 loss:0.371367 auc:0.6578\n",
      "epoch: 100 loss:0.349368 auc:0.6635\n",
      "epoch: 120 loss:0.336448 auc:0.6711\n",
      "epoch: 140 loss:0.328353 auc:0.6805\n",
      "epoch: 160 loss:0.322982 auc:0.6692\n",
      "epoch: 180 loss:0.319272 auc:0.6673\n"
     ]
    },
    {
     "name": "stderr",
     "output_type": "stream",
     "text": [
      " 94%|█████████▍| 945/1005 [6:48:30<11:27, 11.46s/it]"
     ]
    },
    {
     "name": "stdout",
     "output_type": "stream",
     "text": [
      "epoch: 200 loss:0.316633 auc:0.6597\n",
      "Fit finished.\n",
      "epoch:   0 loss:0.795769 auc:0.5103\n",
      "epoch:  20 loss:0.593295 auc:0.7759\n",
      "epoch:  40 loss:0.521743 auc:0.7701\n",
      "epoch:  60 loss:0.432479 auc:0.7598\n",
      "epoch:  80 loss:0.376923 auc:0.7563\n",
      "epoch: 100 loss:0.349472 auc:0.7368\n",
      "epoch: 120 loss:0.335586 auc:0.7356\n",
      "epoch: 140 loss:0.327507 auc:0.7391\n",
      "epoch: 160 loss:0.322298 auc:0.7333\n"
     ]
    },
    {
     "name": "stderr",
     "output_type": "stream",
     "text": [
      " 94%|█████████▍| 946/1005 [6:48:37<09:47,  9.97s/it]"
     ]
    },
    {
     "name": "stdout",
     "output_type": "stream",
     "text": [
      "epoch: 180 loss:0.318746 auc:0.7264\n",
      "Fit finished.\n",
      "epoch:   0 loss:0.813032 auc:0.4153\n",
      "epoch:  20 loss:0.571708 auc:0.6343\n",
      "epoch:  40 loss:0.465621 auc:0.5599\n",
      "epoch:  60 loss:0.392512 auc:0.5351\n",
      "epoch:  80 loss:0.357149 auc:0.5475\n",
      "epoch: 100 loss:0.338776 auc:0.5558\n",
      "epoch: 120 loss:0.328527 auc:0.5702\n",
      "epoch: 140 loss:0.322415 auc:0.5682\n",
      "epoch: 160 loss:0.318508 auc:0.5682\n"
     ]
    },
    {
     "name": "stderr",
     "output_type": "stream",
     "text": [
      " 94%|█████████▍| 947/1005 [6:48:44<08:58,  9.28s/it]"
     ]
    },
    {
     "name": "stdout",
     "output_type": "stream",
     "text": [
      "epoch: 180 loss:0.315833 auc:0.5661\n",
      "Fit finished.\n",
      "epoch:   0 loss:0.890769 auc:0.6786\n",
      "epoch:  20 loss:0.597410 auc:0.6122\n",
      "epoch:  40 loss:0.541813 auc:0.5969\n",
      "epoch:  60 loss:0.445945 auc:0.6429\n",
      "epoch:  80 loss:0.387792 auc:0.6276\n",
      "epoch: 100 loss:0.357256 auc:0.6276\n",
      "epoch: 120 loss:0.340999 auc:0.6429\n",
      "epoch: 140 loss:0.331503 auc:0.6276\n"
     ]
    },
    {
     "name": "stderr",
     "output_type": "stream",
     "text": [
      " 94%|█████████▍| 948/1005 [6:48:49<07:27,  7.85s/it]"
     ]
    },
    {
     "name": "stdout",
     "output_type": "stream",
     "text": [
      "epoch: 160 loss:0.325410 auc:0.6276\n",
      "Fit finished.\n",
      "epoch:   0 loss:0.813406 auc:0.3698\n",
      "epoch:  20 loss:0.601788 auc:0.4288\n",
      "epoch:  40 loss:0.554229 auc:0.3733\n",
      "epoch:  60 loss:0.455647 auc:0.2812\n",
      "epoch:  80 loss:0.390751 auc:0.2812\n",
      "epoch: 100 loss:0.358148 auc:0.2986\n",
      "epoch: 120 loss:0.340657 auc:0.3038\n",
      "epoch: 140 loss:0.330569 auc:0.3021\n"
     ]
    },
    {
     "name": "stderr",
     "output_type": "stream",
     "text": [
      " 94%|█████████▍| 949/1005 [6:48:54<06:34,  7.05s/it]"
     ]
    },
    {
     "name": "stdout",
     "output_type": "stream",
     "text": [
      "epoch: 160 loss:0.324403 auc:0.2934\n",
      "Fit finished.\n",
      "epoch:   0 loss:0.769045 auc:0.5467\n",
      "epoch:  20 loss:0.594935 auc:0.8754\n",
      "epoch:  40 loss:0.520299 auc:0.8097\n",
      "epoch:  60 loss:0.428520 auc:0.7578\n",
      "epoch:  80 loss:0.378679 auc:0.6574\n",
      "epoch: 100 loss:0.353008 auc:0.6159\n",
      "epoch: 120 loss:0.338689 auc:0.5952\n",
      "epoch: 140 loss:0.330037 auc:0.5779\n",
      "epoch: 160 loss:0.324397 auc:0.5744\n"
     ]
    },
    {
     "name": "stderr",
     "output_type": "stream",
     "text": [
      " 95%|█████████▍| 950/1005 [6:49:00<06:12,  6.77s/it]"
     ]
    },
    {
     "name": "stdout",
     "output_type": "stream",
     "text": [
      "epoch: 180 loss:0.320504 auc:0.5779\n",
      "Fit finished.\n",
      "epoch:   0 loss:0.795938 auc:0.4071\n",
      "epoch:  20 loss:0.596492 auc:0.5741\n",
      "epoch:  40 loss:0.522530 auc:0.5600\n",
      "epoch:  60 loss:0.431761 auc:0.5541\n",
      "epoch:  80 loss:0.379852 auc:0.5529\n",
      "epoch: 100 loss:0.352426 auc:0.5612\n",
      "epoch: 120 loss:0.337778 auc:0.5553\n",
      "epoch: 140 loss:0.329168 auc:0.5565\n",
      "epoch: 160 loss:0.323603 auc:0.5565\n"
     ]
    },
    {
     "name": "stderr",
     "output_type": "stream",
     "text": [
      " 95%|█████████▍| 951/1005 [6:49:06<05:54,  6.56s/it]"
     ]
    },
    {
     "name": "stdout",
     "output_type": "stream",
     "text": [
      "epoch: 180 loss:0.319785 auc:0.5565\n",
      "Fit finished.\n",
      "epoch:   0 loss:0.788496 auc:0.5539\n",
      "epoch:  20 loss:0.577639 auc:0.7278\n",
      "epoch:  40 loss:0.477519 auc:0.6805\n",
      "epoch:  60 loss:0.395129 auc:0.6749\n",
      "epoch:  80 loss:0.356866 auc:0.6616\n",
      "epoch: 100 loss:0.338145 auc:0.6597\n",
      "epoch: 120 loss:0.328023 auc:0.6427\n",
      "epoch: 140 loss:0.322030 auc:0.6295\n",
      "epoch: 160 loss:0.318180 auc:0.6257\n"
     ]
    },
    {
     "name": "stderr",
     "output_type": "stream",
     "text": [
      " 95%|█████████▍| 952/1005 [6:49:13<05:47,  6.56s/it]"
     ]
    },
    {
     "name": "stdout",
     "output_type": "stream",
     "text": [
      "epoch: 180 loss:0.315553 auc:0.6238\n",
      "Fit finished.\n",
      "epoch:   0 loss:0.789492 auc:0.4216\n",
      "epoch:  20 loss:0.574779 auc:0.5728\n",
      "epoch:  40 loss:0.465950 auc:0.6068\n",
      "epoch:  60 loss:0.383157 auc:0.5879\n",
      "epoch:  80 loss:0.348948 auc:0.5671\n",
      "epoch: 100 loss:0.333702 auc:0.5633\n",
      "epoch: 120 loss:0.325553 auc:0.5501\n",
      "epoch: 140 loss:0.320596 auc:0.5388\n",
      "epoch: 160 loss:0.317313 auc:0.5406\n"
     ]
    },
    {
     "name": "stderr",
     "output_type": "stream",
     "text": [
      " 95%|█████████▍| 953/1005 [6:49:21<06:13,  7.18s/it]"
     ]
    },
    {
     "name": "stdout",
     "output_type": "stream",
     "text": [
      "epoch: 180 loss:0.314999 auc:0.5388\n",
      "Fit finished.\n",
      "epoch:   0 loss:0.778847 auc:0.5204\n",
      "epoch:  20 loss:0.581062 auc:0.5153\n",
      "epoch:  40 loss:0.492310 auc:0.6633\n",
      "epoch:  60 loss:0.406574 auc:0.5867\n",
      "epoch:  80 loss:0.363691 auc:0.5714\n",
      "epoch: 100 loss:0.342919 auc:0.5816\n",
      "epoch: 120 loss:0.331844 auc:0.5816\n",
      "epoch: 140 loss:0.325097 auc:0.5867\n",
      "epoch: 160 loss:0.320603 auc:0.5969\n",
      "epoch: 180 loss:0.317469 auc:0.5918\n"
     ]
    },
    {
     "name": "stderr",
     "output_type": "stream",
     "text": [
      " 95%|█████████▍| 954/1005 [6:49:30<06:28,  7.62s/it]"
     ]
    },
    {
     "name": "stdout",
     "output_type": "stream",
     "text": [
      "epoch: 200 loss:0.315216 auc:0.5918\n",
      "Fit finished.\n",
      "epoch:   0 loss:0.790775 auc:0.4677\n",
      "epoch:  20 loss:0.579903 auc:0.8164\n",
      "epoch:  40 loss:0.471084 auc:0.8325\n",
      "epoch:  60 loss:0.392255 auc:0.7878\n",
      "epoch:  80 loss:0.355417 auc:0.7382\n",
      "epoch: 100 loss:0.336764 auc:0.7270\n",
      "epoch: 120 loss:0.326903 auc:0.7208\n",
      "epoch: 140 loss:0.321207 auc:0.7283\n",
      "epoch: 160 loss:0.317541 auc:0.7432\n"
     ]
    },
    {
     "name": "stderr",
     "output_type": "stream",
     "text": [
      " 95%|█████████▌| 955/1005 [6:49:36<06:01,  7.24s/it]"
     ]
    },
    {
     "name": "stdout",
     "output_type": "stream",
     "text": [
      "epoch: 180 loss:0.315021 auc:0.7593\n",
      "Fit finished.\n",
      "epoch:   0 loss:0.790617 auc:0.5104\n",
      "epoch:  20 loss:0.564894 auc:0.6555\n",
      "epoch:  40 loss:0.424288 auc:0.5737\n",
      "epoch:  60 loss:0.359148 auc:0.5530\n",
      "epoch:  80 loss:0.335295 auc:0.5518\n",
      "epoch: 100 loss:0.324758 auc:0.5553\n",
      "epoch: 120 loss:0.319115 auc:0.5495\n",
      "epoch: 140 loss:0.315709 auc:0.5484\n",
      "epoch: 160 loss:0.313493 auc:0.5438\n"
     ]
    },
    {
     "name": "stderr",
     "output_type": "stream",
     "text": [
      " 95%|█████████▌| 956/1005 [6:49:42<05:31,  6.76s/it]"
     ]
    },
    {
     "name": "stdout",
     "output_type": "stream",
     "text": [
      "epoch: 180 loss:0.311975 auc:0.5438\n",
      "Fit finished.\n",
      "epoch:   0 loss:0.778295 auc:0.4171\n",
      "epoch:  20 loss:0.565956 auc:0.7189\n",
      "epoch:  40 loss:0.435735 auc:0.5196\n",
      "epoch:  60 loss:0.367471 auc:0.5346\n",
      "epoch:  80 loss:0.340404 auc:0.5230\n",
      "epoch: 100 loss:0.328301 auc:0.5184\n",
      "epoch: 120 loss:0.321690 auc:0.5161\n",
      "epoch: 140 loss:0.317660 auc:0.5150\n",
      "epoch: 160 loss:0.315042 auc:0.5092\n"
     ]
    },
    {
     "name": "stderr",
     "output_type": "stream",
     "text": [
      " 95%|█████████▌| 957/1005 [6:49:48<05:12,  6.51s/it]"
     ]
    },
    {
     "name": "stdout",
     "output_type": "stream",
     "text": [
      "epoch: 180 loss:0.313260 auc:0.5035\n",
      "Fit finished.\n",
      "epoch:   0 loss:0.810270 auc:0.5876\n",
      "epoch:  20 loss:0.579907 auc:0.5023\n",
      "epoch:  40 loss:0.473393 auc:0.4700\n",
      "epoch:  60 loss:0.387718 auc:0.4493\n",
      "epoch:  80 loss:0.350871 auc:0.4459\n",
      "epoch: 100 loss:0.334090 auc:0.4470\n",
      "epoch: 120 loss:0.325443 auc:0.4505\n",
      "epoch: 140 loss:0.320331 auc:0.4585\n"
     ]
    },
    {
     "name": "stderr",
     "output_type": "stream",
     "text": [
      " 95%|█████████▌| 958/1005 [6:49:55<05:10,  6.60s/it]"
     ]
    },
    {
     "name": "stdout",
     "output_type": "stream",
     "text": [
      "epoch: 160 loss:0.316985 auc:0.4643\n",
      "Fit finished.\n",
      "epoch:   0 loss:0.784607 auc:0.5578\n",
      "epoch:  20 loss:0.592630 auc:0.8745\n",
      "epoch:  40 loss:0.508682 auc:0.8385\n",
      "epoch:  60 loss:0.415235 auc:0.8224\n",
      "epoch:  80 loss:0.370039 auc:0.8075\n",
      "epoch: 100 loss:0.348003 auc:0.7925\n",
      "epoch: 120 loss:0.335841 auc:0.7814\n",
      "epoch: 140 loss:0.328376 auc:0.7689\n",
      "epoch: 160 loss:0.323449 auc:0.7540\n"
     ]
    },
    {
     "name": "stderr",
     "output_type": "stream",
     "text": [
      " 95%|█████████▌| 959/1005 [6:50:02<05:12,  6.79s/it]"
     ]
    },
    {
     "name": "stdout",
     "output_type": "stream",
     "text": [
      "epoch: 180 loss:0.320001 auc:0.7404\n",
      "Fit finished.\n",
      "epoch:   0 loss:0.805109 auc:0.6713\n",
      "epoch:  20 loss:0.599096 auc:0.5744\n",
      "epoch:  40 loss:0.530489 auc:0.5709\n",
      "epoch:  60 loss:0.430735 auc:0.6574\n",
      "epoch:  80 loss:0.379170 auc:0.6886\n",
      "epoch: 100 loss:0.352635 auc:0.7093\n",
      "epoch: 120 loss:0.337923 auc:0.7059\n",
      "epoch: 140 loss:0.329271 auc:0.6990\n",
      "epoch: 160 loss:0.323795 auc:0.6990\n",
      "epoch: 180 loss:0.320042 auc:0.7093\n",
      "epoch: 200 loss:0.317336 auc:0.7093\n",
      "epoch: 220 loss:0.315336 auc:0.7128\n",
      "epoch: 240 loss:0.313825 auc:0.7232\n",
      "epoch: 260 loss:0.312660 auc:0.7266\n",
      "epoch: 280 loss:0.311746 auc:0.7301\n",
      "epoch: 300 loss:0.311015 auc:0.7301\n",
      "epoch: 320 loss:0.310420 auc:0.7301\n",
      "epoch: 340 loss:0.309931 auc:0.7266\n",
      "epoch: 360 loss:0.309522 auc:0.7336\n",
      "epoch: 380 loss:0.309177 auc:0.7336\n",
      "epoch: 400 loss:0.308883 auc:0.7301\n",
      "epoch: 420 loss:0.308630 auc:0.7301\n"
     ]
    },
    {
     "name": "stderr",
     "output_type": "stream",
     "text": [
      " 96%|█████████▌| 960/1005 [6:50:20<07:33, 10.08s/it]"
     ]
    },
    {
     "name": "stdout",
     "output_type": "stream",
     "text": [
      "epoch: 440 loss:0.308411 auc:0.7266\n",
      "Fit finished.\n",
      "epoch:   0 loss:0.808222 auc:0.4504\n",
      "epoch:  20 loss:0.592595 auc:0.6674\n",
      "epoch:  40 loss:0.520678 auc:0.6798\n",
      "epoch:  60 loss:0.418588 auc:0.8037\n",
      "epoch:  80 loss:0.371684 auc:0.7397\n",
      "epoch: 100 loss:0.347959 auc:0.7355\n",
      "epoch: 120 loss:0.334614 auc:0.7252\n",
      "epoch: 140 loss:0.326612 auc:0.7190\n",
      "epoch: 160 loss:0.321521 auc:0.7107\n",
      "epoch: 180 loss:0.318094 auc:0.7149\n",
      "epoch: 200 loss:0.315684 auc:0.7211\n"
     ]
    },
    {
     "name": "stderr",
     "output_type": "stream",
     "text": [
      " 96%|█████████▌| 961/1005 [6:50:27<06:40,  9.10s/it]"
     ]
    },
    {
     "name": "stdout",
     "output_type": "stream",
     "text": [
      "epoch: 220 loss:0.313929 auc:0.7231\n",
      "Fit finished.\n",
      "epoch:   0 loss:0.781868 auc:0.5695\n",
      "epoch:  20 loss:0.598670 auc:0.7633\n",
      "epoch:  40 loss:0.536299 auc:0.7470\n",
      "epoch:  60 loss:0.439041 auc:0.7633\n",
      "epoch:  80 loss:0.384396 auc:0.7175\n",
      "epoch: 100 loss:0.356437 auc:0.7115\n",
      "epoch: 120 loss:0.340984 auc:0.7145\n",
      "epoch: 140 loss:0.331545 auc:0.7175\n",
      "epoch: 160 loss:0.325390 auc:0.7234\n"
     ]
    },
    {
     "name": "stderr",
     "output_type": "stream",
     "text": [
      " 96%|█████████▌| 962/1005 [6:50:33<05:59,  8.36s/it]"
     ]
    },
    {
     "name": "stdout",
     "output_type": "stream",
     "text": [
      "epoch: 180 loss:0.321181 auc:0.7219\n",
      "Fit finished.\n",
      "epoch:   0 loss:0.793114 auc:0.5938\n",
      "epoch:  20 loss:0.576894 auc:0.8086\n",
      "epoch:  40 loss:0.480746 auc:0.7773\n",
      "epoch:  60 loss:0.401169 auc:0.6875\n",
      "epoch:  80 loss:0.359374 auc:0.6562\n",
      "epoch: 100 loss:0.339560 auc:0.6406\n",
      "epoch: 120 loss:0.329378 auc:0.6328\n",
      "epoch: 140 loss:0.323215 auc:0.6289\n",
      "epoch: 160 loss:0.319147 auc:0.6289\n"
     ]
    },
    {
     "name": "stderr",
     "output_type": "stream",
     "text": [
      " 96%|█████████▌| 963/1005 [6:50:40<05:32,  7.92s/it]"
     ]
    },
    {
     "name": "stdout",
     "output_type": "stream",
     "text": [
      "epoch: 180 loss:0.316337 auc:0.6133\n",
      "Fit finished.\n",
      "epoch:   0 loss:0.856695 auc:0.4839\n",
      "epoch:  20 loss:0.598939 auc:0.5471\n",
      "epoch:  40 loss:0.558264 auc:0.5667\n",
      "epoch:  60 loss:0.467960 auc:0.5713\n",
      "epoch:  80 loss:0.404185 auc:0.5862\n",
      "epoch: 100 loss:0.366735 auc:0.5931\n",
      "epoch: 120 loss:0.346141 auc:0.5931\n",
      "epoch: 140 loss:0.334550 auc:0.5920\n",
      "epoch: 160 loss:0.327403 auc:0.5931\n",
      "epoch: 180 loss:0.322634 auc:0.5828\n",
      "epoch: 200 loss:0.319279 auc:0.5759\n",
      "epoch: 220 loss:0.316818 auc:0.5793\n"
     ]
    },
    {
     "name": "stderr",
     "output_type": "stream",
     "text": [
      " 96%|█████████▌| 964/1005 [6:50:49<05:38,  8.25s/it]"
     ]
    },
    {
     "name": "stdout",
     "output_type": "stream",
     "text": [
      "epoch: 240 loss:0.314976 auc:0.5747\n",
      "Fit finished.\n",
      "epoch:   0 loss:0.799617 auc:0.5069\n",
      "epoch:  20 loss:0.581690 auc:0.5851\n",
      "epoch:  40 loss:0.489631 auc:0.5621\n",
      "epoch:  60 loss:0.408612 auc:0.5851\n",
      "epoch:  80 loss:0.364438 auc:0.5598\n",
      "epoch: 100 loss:0.342159 auc:0.5494\n",
      "epoch: 120 loss:0.330689 auc:0.5471\n",
      "epoch: 140 loss:0.324054 auc:0.5333\n",
      "epoch: 160 loss:0.319757 auc:0.5391\n"
     ]
    },
    {
     "name": "stderr",
     "output_type": "stream",
     "text": [
      " 96%|█████████▌| 965/1005 [6:50:58<05:32,  8.31s/it]"
     ]
    },
    {
     "name": "stdout",
     "output_type": "stream",
     "text": [
      "epoch: 180 loss:0.316788 auc:0.5414\n",
      "Fit finished.\n",
      "epoch:   0 loss:0.794129 auc:0.4759\n",
      "epoch:  20 loss:0.555297 auc:0.6425\n",
      "epoch:  40 loss:0.421855 auc:0.4874\n",
      "epoch:  60 loss:0.359548 auc:0.4874\n",
      "epoch:  80 loss:0.335653 auc:0.4828\n",
      "epoch: 100 loss:0.324894 auc:0.4828\n",
      "epoch: 120 loss:0.319160 auc:0.4793\n",
      "epoch: 140 loss:0.315691 auc:0.4793\n"
     ]
    },
    {
     "name": "stderr",
     "output_type": "stream",
     "text": [
      " 96%|█████████▌| 966/1005 [6:51:06<05:27,  8.39s/it]"
     ]
    },
    {
     "name": "stdout",
     "output_type": "stream",
     "text": [
      "epoch: 160 loss:0.313393 auc:0.4736\n",
      "Fit finished.\n",
      "epoch:   0 loss:0.814684 auc:0.5251\n",
      "epoch:  20 loss:0.593641 auc:0.6657\n",
      "epoch:  40 loss:0.511934 auc:0.6420\n",
      "epoch:  60 loss:0.418174 auc:0.6420\n",
      "epoch:  80 loss:0.368034 auc:0.6109\n",
      "epoch: 100 loss:0.344733 auc:0.6198\n",
      "epoch: 120 loss:0.332818 auc:0.6198\n",
      "epoch: 140 loss:0.325781 auc:0.6213\n",
      "epoch: 160 loss:0.321181 auc:0.6228\n"
     ]
    },
    {
     "name": "stderr",
     "output_type": "stream",
     "text": [
      " 96%|█████████▌| 967/1005 [6:51:14<05:12,  8.22s/it]"
     ]
    },
    {
     "name": "stdout",
     "output_type": "stream",
     "text": [
      "epoch: 180 loss:0.317952 auc:0.6169\n",
      "Fit finished.\n",
      "epoch:   0 loss:0.804594 auc:0.4960\n",
      "epoch:  20 loss:0.600056 auc:0.5520\n",
      "epoch:  40 loss:0.558960 auc:0.5568\n",
      "epoch:  60 loss:0.469777 auc:0.5328\n",
      "epoch:  80 loss:0.399260 auc:0.5072\n",
      "epoch: 100 loss:0.363589 auc:0.5184\n",
      "epoch: 120 loss:0.345096 auc:0.5296\n",
      "epoch: 140 loss:0.334574 auc:0.5360\n",
      "epoch: 160 loss:0.327960 auc:0.5440\n"
     ]
    },
    {
     "name": "stderr",
     "output_type": "stream",
     "text": [
      " 96%|█████████▋| 968/1005 [6:51:20<04:39,  7.57s/it]"
     ]
    },
    {
     "name": "stdout",
     "output_type": "stream",
     "text": [
      "epoch: 180 loss:0.323453 auc:0.5408\n",
      "Fit finished.\n",
      "epoch:   0 loss:0.817952 auc:0.3264\n",
      "epoch:  20 loss:0.584743 auc:0.4306\n",
      "epoch:  40 loss:0.483589 auc:0.3958\n",
      "epoch:  60 loss:0.400342 auc:0.3750\n",
      "epoch:  80 loss:0.361289 auc:0.3542\n",
      "epoch: 100 loss:0.340682 auc:0.3472\n",
      "epoch: 120 loss:0.329352 auc:0.3681\n",
      "epoch: 140 loss:0.322722 auc:0.3889\n",
      "epoch: 160 loss:0.318494 auc:0.4028\n",
      "epoch: 180 loss:0.315643 auc:0.4306\n",
      "epoch: 200 loss:0.313654 auc:0.4167\n",
      "epoch: 220 loss:0.312218 auc:0.4097\n",
      "epoch: 240 loss:0.311163 auc:0.4097\n",
      "epoch: 260 loss:0.310371 auc:0.4028\n",
      "epoch: 280 loss:0.309762 auc:0.3958\n",
      "epoch: 300 loss:0.309285 auc:0.3958\n"
     ]
    },
    {
     "name": "stderr",
     "output_type": "stream",
     "text": [
      " 96%|█████████▋| 969/1005 [6:51:27<04:30,  7.52s/it]"
     ]
    },
    {
     "name": "stdout",
     "output_type": "stream",
     "text": [
      "epoch: 320 loss:0.308906 auc:0.3958\n",
      "Fit finished.\n",
      "epoch:   0 loss:0.775359 auc:0.5873\n",
      "epoch:  20 loss:0.595161 auc:0.5805\n",
      "epoch:  40 loss:0.530431 auc:0.6939\n",
      "epoch:  60 loss:0.436484 auc:0.7846\n",
      "epoch:  80 loss:0.383767 auc:0.8005\n",
      "epoch: 100 loss:0.354477 auc:0.7755\n",
      "epoch: 120 loss:0.338477 auc:0.7574\n",
      "epoch: 140 loss:0.329062 auc:0.7483\n",
      "epoch: 160 loss:0.323139 auc:0.7392\n",
      "epoch: 180 loss:0.319197 auc:0.7324\n",
      "epoch: 200 loss:0.316422 auc:0.7256\n"
     ]
    },
    {
     "name": "stderr",
     "output_type": "stream",
     "text": [
      " 97%|█████████▋| 970/1005 [6:51:34<04:08,  7.10s/it]"
     ]
    },
    {
     "name": "stdout",
     "output_type": "stream",
     "text": [
      "epoch: 220 loss:0.314408 auc:0.7188\n",
      "Fit finished.\n",
      "epoch:   0 loss:0.785958 auc:0.5791\n",
      "epoch:  20 loss:0.581817 auc:0.6964\n",
      "epoch:  40 loss:0.471199 auc:0.7321\n",
      "epoch:  60 loss:0.385800 auc:0.7105\n",
      "epoch:  80 loss:0.350786 auc:0.6990\n",
      "epoch: 100 loss:0.334531 auc:0.6875\n",
      "epoch: 120 loss:0.325670 auc:0.6773\n",
      "epoch: 140 loss:0.320437 auc:0.6760\n",
      "epoch: 160 loss:0.317061 auc:0.6786\n"
     ]
    },
    {
     "name": "stderr",
     "output_type": "stream",
     "text": [
      " 97%|█████████▋| 971/1005 [6:51:38<03:38,  6.43s/it]"
     ]
    },
    {
     "name": "stdout",
     "output_type": "stream",
     "text": [
      "epoch: 180 loss:0.314719 auc:0.6786\n",
      "Fit finished.\n",
      "epoch:   0 loss:0.800740 auc:0.4318\n",
      "epoch:  20 loss:0.570239 auc:0.6302\n",
      "epoch:  40 loss:0.457852 auc:0.5248\n",
      "epoch:  60 loss:0.383304 auc:0.5909\n",
      "epoch:  80 loss:0.350308 auc:0.6012\n",
      "epoch: 100 loss:0.334417 auc:0.6054\n",
      "epoch: 120 loss:0.325936 auc:0.6054\n",
      "epoch: 140 loss:0.320775 auc:0.6074\n",
      "epoch: 160 loss:0.317354 auc:0.6136\n"
     ]
    },
    {
     "name": "stderr",
     "output_type": "stream",
     "text": [
      " 97%|█████████▋| 972/1005 [6:51:44<03:24,  6.21s/it]"
     ]
    },
    {
     "name": "stdout",
     "output_type": "stream",
     "text": [
      "epoch: 180 loss:0.314976 auc:0.6116\n",
      "Fit finished.\n",
      "epoch:   0 loss:0.805303 auc:0.5044\n",
      "epoch:  20 loss:0.596144 auc:0.7354\n",
      "epoch:  40 loss:0.542653 auc:0.7637\n",
      "epoch:  60 loss:0.448226 auc:0.7072\n",
      "epoch:  80 loss:0.391365 auc:0.7019\n",
      "epoch: 100 loss:0.362154 auc:0.6861\n",
      "epoch: 120 loss:0.344948 auc:0.6878\n",
      "epoch: 140 loss:0.334277 auc:0.6755\n",
      "epoch: 160 loss:0.327407 auc:0.6667\n"
     ]
    },
    {
     "name": "stderr",
     "output_type": "stream",
     "text": [
      " 97%|█████████▋| 973/1005 [6:51:51<03:21,  6.31s/it]"
     ]
    },
    {
     "name": "stdout",
     "output_type": "stream",
     "text": [
      "epoch: 180 loss:0.322764 auc:0.6508\n",
      "Fit finished.\n",
      "epoch:   0 loss:0.833612 auc:0.4360\n",
      "epoch:  20 loss:0.596026 auc:0.7231\n",
      "epoch:  40 loss:0.519270 auc:0.6591\n",
      "epoch:  60 loss:0.426556 auc:0.5558\n",
      "epoch:  80 loss:0.379417 auc:0.5413\n",
      "epoch: 100 loss:0.353775 auc:0.5558\n",
      "epoch: 120 loss:0.339436 auc:0.5517\n",
      "epoch: 140 loss:0.330826 auc:0.5455\n",
      "epoch: 160 loss:0.325315 auc:0.5413\n"
     ]
    },
    {
     "name": "stderr",
     "output_type": "stream",
     "text": [
      " 97%|█████████▋| 974/1005 [6:51:57<03:15,  6.29s/it]"
     ]
    },
    {
     "name": "stdout",
     "output_type": "stream",
     "text": [
      "epoch: 180 loss:0.321536 auc:0.5434\n",
      "Fit finished.\n",
      "epoch:   0 loss:0.822713 auc:0.3956\n",
      "epoch:  20 loss:0.580792 auc:0.4578\n",
      "epoch:  40 loss:0.483548 auc:0.4889\n",
      "epoch:  60 loss:0.402901 auc:0.5156\n",
      "epoch:  80 loss:0.361635 auc:0.4756\n",
      "epoch: 100 loss:0.341096 auc:0.4711\n",
      "epoch: 120 loss:0.330301 auc:0.4667\n",
      "epoch: 140 loss:0.323892 auc:0.4711\n",
      "epoch: 160 loss:0.319732 auc:0.4533\n",
      "epoch: 180 loss:0.316856 auc:0.4667\n"
     ]
    },
    {
     "name": "stderr",
     "output_type": "stream",
     "text": [
      " 97%|█████████▋| 975/1005 [6:52:03<03:03,  6.11s/it]"
     ]
    },
    {
     "name": "stdout",
     "output_type": "stream",
     "text": [
      "epoch: 200 loss:0.314759 auc:0.4667\n",
      "Fit finished.\n",
      "epoch:   0 loss:0.771179 auc:0.6169\n",
      "epoch:  20 loss:0.565833 auc:0.5932\n",
      "epoch:  40 loss:0.441141 auc:0.6243\n",
      "epoch:  60 loss:0.371809 auc:0.6243\n",
      "epoch:  80 loss:0.342898 auc:0.6317\n",
      "epoch: 100 loss:0.329937 auc:0.6317\n",
      "epoch: 120 loss:0.322848 auc:0.6346\n",
      "epoch: 140 loss:0.318479 auc:0.6361\n",
      "epoch: 160 loss:0.315601 auc:0.6405\n",
      "epoch: 180 loss:0.313606 auc:0.6435\n",
      "epoch: 200 loss:0.312167 auc:0.6464\n",
      "epoch: 220 loss:0.311099 auc:0.6464\n",
      "epoch: 240 loss:0.310289 auc:0.6479\n",
      "epoch: 260 loss:0.309666 auc:0.6464\n",
      "epoch: 280 loss:0.309183 auc:0.6479\n",
      "epoch: 300 loss:0.308802 auc:0.6479\n",
      "epoch: 320 loss:0.308497 auc:0.6509\n",
      "epoch: 340 loss:0.308250 auc:0.6494\n",
      "epoch: 360 loss:0.308046 auc:0.6524\n",
      "epoch: 380 loss:0.307877 auc:0.6538\n",
      "epoch: 400 loss:0.307733 auc:0.6553\n",
      "epoch: 420 loss:0.307610 auc:0.6568\n",
      "epoch: 440 loss:0.307504 auc:0.6583\n",
      "epoch: 460 loss:0.307411 auc:0.6598\n",
      "epoch: 480 loss:0.307330 auc:0.6612\n",
      "epoch: 500 loss:0.307275 auc:0.6627\n",
      "epoch: 520 loss:0.307196 auc:0.6612\n",
      "epoch: 540 loss:0.307140 auc:0.6612\n",
      "epoch: 560 loss:0.307091 auc:0.6612\n",
      "epoch: 580 loss:0.307049 auc:0.6627\n",
      "epoch: 600 loss:0.307050 auc:0.6627\n",
      "epoch: 620 loss:0.306979 auc:0.6627\n",
      "epoch: 640 loss:0.306948 auc:0.6627\n",
      "epoch: 660 loss:0.306922 auc:0.6627\n",
      "epoch: 680 loss:0.307052 auc:0.6642\n",
      "epoch: 700 loss:0.306883 auc:0.6657\n",
      "epoch: 720 loss:0.306865 auc:0.6657\n",
      "epoch: 740 loss:0.306848 auc:0.6657\n",
      "epoch: 760 loss:0.306838 auc:0.6657\n",
      "epoch: 780 loss:0.306828 auc:0.6657\n",
      "epoch: 800 loss:0.306816 auc:0.6657\n",
      "epoch: 820 loss:0.306807 auc:0.6657\n",
      "epoch: 840 loss:0.306799 auc:0.6657\n",
      "epoch: 860 loss:0.306793 auc:0.6657\n",
      "epoch: 880 loss:0.306787 auc:0.6657\n",
      "epoch: 900 loss:0.306782 auc:0.6657\n",
      "epoch: 920 loss:0.306782 auc:0.6672\n",
      "epoch: 940 loss:0.306811 auc:0.6686\n",
      "epoch: 960 loss:0.306774 auc:0.6657\n",
      "epoch: 980 loss:0.306767 auc:0.6672\n"
     ]
    },
    {
     "name": "stderr",
     "output_type": "stream",
     "text": [
      " 97%|█████████▋| 976/1005 [6:52:26<05:23, 11.15s/it]"
     ]
    },
    {
     "name": "stdout",
     "output_type": "stream",
     "text": [
      "Fit finished.\n",
      "epoch:   0 loss:0.799551 auc:0.3875\n",
      "epoch:  20 loss:0.582653 auc:0.5975\n",
      "epoch:  40 loss:0.480197 auc:0.5575\n",
      "epoch:  60 loss:0.392928 auc:0.5075\n",
      "epoch:  80 loss:0.355833 auc:0.4675\n",
      "epoch: 100 loss:0.338526 auc:0.4575\n",
      "epoch: 120 loss:0.329173 auc:0.4475\n",
      "epoch: 140 loss:0.323332 auc:0.4450\n",
      "epoch: 160 loss:0.319360 auc:0.4500\n"
     ]
    },
    {
     "name": "stderr",
     "output_type": "stream",
     "text": [
      " 97%|█████████▋| 977/1005 [6:52:31<04:25,  9.47s/it]"
     ]
    },
    {
     "name": "stdout",
     "output_type": "stream",
     "text": [
      "epoch: 180 loss:0.316546 auc:0.4450\n",
      "Fit finished.\n",
      "epoch:   0 loss:0.812110 auc:0.5097\n",
      "epoch:  20 loss:0.599604 auc:0.8387\n",
      "epoch:  40 loss:0.532663 auc:0.8310\n",
      "epoch:  60 loss:0.436017 auc:0.8490\n",
      "epoch:  80 loss:0.381870 auc:0.8387\n",
      "epoch: 100 loss:0.354414 auc:0.8348\n",
      "epoch: 120 loss:0.338936 auc:0.8323\n",
      "epoch: 140 loss:0.329873 auc:0.8335\n",
      "epoch: 160 loss:0.324191 auc:0.8335\n"
     ]
    },
    {
     "name": "stderr",
     "output_type": "stream",
     "text": [
      " 97%|█████████▋| 978/1005 [6:52:37<03:46,  8.40s/it]"
     ]
    },
    {
     "name": "stdout",
     "output_type": "stream",
     "text": [
      "epoch: 180 loss:0.320348 auc:0.8310\n",
      "Fit finished.\n",
      "epoch:   0 loss:0.785890 auc:0.5191\n",
      "epoch:  20 loss:0.577967 auc:0.6875\n",
      "epoch:  40 loss:0.467726 auc:0.6747\n",
      "epoch:  60 loss:0.383855 auc:0.7092\n",
      "epoch:  80 loss:0.348456 auc:0.7092\n",
      "epoch: 100 loss:0.332795 auc:0.7079\n",
      "epoch: 120 loss:0.324657 auc:0.7041\n",
      "epoch: 140 loss:0.319764 auc:0.6990\n",
      "epoch: 160 loss:0.316565 auc:0.6939\n"
     ]
    },
    {
     "name": "stderr",
     "output_type": "stream",
     "text": [
      " 97%|█████████▋| 979/1005 [6:53:21<08:18, 19.17s/it]"
     ]
    },
    {
     "name": "stdout",
     "output_type": "stream",
     "text": [
      "epoch: 180 loss:0.314345 auc:0.6837\n",
      "Fit finished.\n",
      "epoch:   0 loss:0.753124 auc:0.4408\n",
      "epoch:  20 loss:0.587369 auc:0.5547\n",
      "epoch:  40 loss:0.503088 auc:0.5843\n",
      "epoch:  60 loss:0.414137 auc:0.5459\n",
      "epoch:  80 loss:0.368874 auc:0.5754\n",
      "epoch: 100 loss:0.345934 auc:0.6021\n",
      "epoch: 120 loss:0.333422 auc:0.6006\n",
      "epoch: 140 loss:0.325979 auc:0.5902\n",
      "epoch: 160 loss:0.321144 auc:0.5932\n",
      "epoch: 180 loss:0.317834 auc:0.5902\n",
      "epoch: 200 loss:0.315490 auc:0.5947\n",
      "epoch: 220 loss:0.313777 auc:0.5932\n",
      "epoch: 240 loss:0.312496 auc:0.5902\n"
     ]
    },
    {
     "name": "stderr",
     "output_type": "stream",
     "text": [
      " 98%|█████████▊| 980/1005 [6:53:28<06:29, 15.57s/it]"
     ]
    },
    {
     "name": "stdout",
     "output_type": "stream",
     "text": [
      "epoch: 260 loss:0.311516 auc:0.5962\n",
      "Fit finished.\n",
      "epoch:   0 loss:0.793498 auc:0.5517\n",
      "epoch:  20 loss:0.592075 auc:0.6798\n",
      "epoch:  40 loss:0.508197 auc:0.7541\n",
      "epoch:  60 loss:0.426207 auc:0.7521\n",
      "epoch:  80 loss:0.377622 auc:0.6901\n",
      "epoch: 100 loss:0.350260 auc:0.6921\n",
      "epoch: 120 loss:0.335913 auc:0.7107\n",
      "epoch: 140 loss:0.327689 auc:0.7190\n",
      "epoch: 160 loss:0.322428 auc:0.7293\n",
      "epoch: 180 loss:0.318818 auc:0.7293\n"
     ]
    },
    {
     "name": "stderr",
     "output_type": "stream",
     "text": [
      " 98%|█████████▊| 981/1005 [6:53:35<05:06, 12.78s/it]"
     ]
    },
    {
     "name": "stdout",
     "output_type": "stream",
     "text": [
      "epoch: 200 loss:0.316215 auc:0.7335\n",
      "Fit finished.\n",
      "epoch:   0 loss:0.810911 auc:0.5660\n",
      "epoch:  20 loss:0.578753 auc:0.5920\n",
      "epoch:  40 loss:0.478721 auc:0.6094\n",
      "epoch:  60 loss:0.401914 auc:0.5903\n",
      "epoch:  80 loss:0.362249 auc:0.5816\n",
      "epoch: 100 loss:0.341902 auc:0.5642\n",
      "epoch: 120 loss:0.330796 auc:0.5538\n",
      "epoch: 140 loss:0.324185 auc:0.5538\n"
     ]
    },
    {
     "name": "stderr",
     "output_type": "stream",
     "text": [
      " 98%|█████████▊| 982/1005 [6:53:40<04:00, 10.48s/it]"
     ]
    },
    {
     "name": "stdout",
     "output_type": "stream",
     "text": [
      "epoch: 160 loss:0.319940 auc:0.5556\n",
      "Fit finished.\n",
      "epoch:   0 loss:0.802431 auc:0.4217\n",
      "epoch:  20 loss:0.593776 auc:0.5189\n",
      "epoch:  40 loss:0.515612 auc:0.5152\n",
      "epoch:  60 loss:0.423487 auc:0.4962\n",
      "epoch:  80 loss:0.376166 auc:0.4975\n",
      "epoch: 100 loss:0.350849 auc:0.5139\n",
      "epoch: 120 loss:0.336717 auc:0.5366\n",
      "epoch: 140 loss:0.328216 auc:0.5480\n",
      "epoch: 160 loss:0.322747 auc:0.5543\n",
      "epoch: 180 loss:0.319046 auc:0.5581\n",
      "epoch: 200 loss:0.316435 auc:0.5568\n",
      "epoch: 220 loss:0.314534 auc:0.5568\n",
      "epoch: 240 loss:0.313107 auc:0.5606\n",
      "epoch: 260 loss:0.312010 auc:0.5593\n",
      "epoch: 280 loss:0.311153 auc:0.5619\n",
      "epoch: 300 loss:0.310471 auc:0.5644\n",
      "epoch: 320 loss:0.309921 auc:0.5619\n",
      "epoch: 340 loss:0.309470 auc:0.5593\n"
     ]
    },
    {
     "name": "stderr",
     "output_type": "stream",
     "text": [
      " 98%|█████████▊| 983/1005 [6:53:49<03:42, 10.10s/it]"
     ]
    },
    {
     "name": "stdout",
     "output_type": "stream",
     "text": [
      "epoch: 360 loss:0.309096 auc:0.5543\n",
      "Fit finished.\n",
      "epoch:   0 loss:0.792384 auc:0.5503\n",
      "epoch:  20 loss:0.579244 auc:0.4364\n",
      "epoch:  40 loss:0.469975 auc:0.2959\n",
      "epoch:  60 loss:0.393378 auc:0.2367\n",
      "epoch:  80 loss:0.354909 auc:0.2263\n",
      "epoch: 100 loss:0.336464 auc:0.2263\n",
      "epoch: 120 loss:0.326837 auc:0.2441\n",
      "epoch: 140 loss:0.321194 auc:0.2530\n"
     ]
    },
    {
     "name": "stderr",
     "output_type": "stream",
     "text": [
      " 98%|█████████▊| 984/1005 [6:53:54<02:59,  8.55s/it]"
     ]
    },
    {
     "name": "stdout",
     "output_type": "stream",
     "text": [
      "epoch: 160 loss:0.317603 auc:0.2618\n",
      "Fit finished.\n",
      "epoch:   0 loss:0.789676 auc:0.4140\n",
      "epoch:  20 loss:0.568282 auc:0.6408\n",
      "epoch:  40 loss:0.437139 auc:0.4726\n",
      "epoch:  60 loss:0.369636 auc:0.4405\n",
      "epoch:  80 loss:0.341930 auc:0.4310\n",
      "epoch: 100 loss:0.329174 auc:0.4272\n",
      "epoch: 120 loss:0.322150 auc:0.4140\n",
      "epoch: 140 loss:0.317868 auc:0.4178\n",
      "epoch: 160 loss:0.315085 auc:0.4291\n"
     ]
    },
    {
     "name": "stderr",
     "output_type": "stream",
     "text": [
      " 98%|█████████▊| 985/1005 [6:54:00<02:33,  7.69s/it]"
     ]
    },
    {
     "name": "stdout",
     "output_type": "stream",
     "text": [
      "epoch: 180 loss:0.313173 auc:0.4310\n",
      "Fit finished.\n",
      "epoch:   0 loss:0.817370 auc:0.3750\n",
      "epoch:  20 loss:0.593489 auc:0.4900\n",
      "epoch:  40 loss:0.516788 auc:0.5150\n",
      "epoch:  60 loss:0.429966 auc:0.5050\n",
      "epoch:  80 loss:0.377527 auc:0.5075\n",
      "epoch: 100 loss:0.351207 auc:0.5050\n",
      "epoch: 120 loss:0.336993 auc:0.4825\n",
      "epoch: 140 loss:0.328454 auc:0.4700\n",
      "epoch: 160 loss:0.322922 auc:0.4625\n"
     ]
    },
    {
     "name": "stderr",
     "output_type": "stream",
     "text": [
      " 98%|█████████▊| 986/1005 [6:54:04<02:09,  6.82s/it]"
     ]
    },
    {
     "name": "stdout",
     "output_type": "stream",
     "text": [
      "epoch: 180 loss:0.319103 auc:0.4600\n",
      "Fit finished.\n",
      "epoch:   0 loss:0.788415 auc:0.4167\n",
      "epoch:  20 loss:0.567990 auc:0.5208\n",
      "epoch:  40 loss:0.444181 auc:0.5417\n",
      "epoch:  60 loss:0.375162 auc:0.5139\n",
      "epoch:  80 loss:0.345401 auc:0.5278\n",
      "epoch: 100 loss:0.331512 auc:0.5417\n",
      "epoch: 120 loss:0.323944 auc:0.5417\n",
      "epoch: 140 loss:0.319223 auc:0.5347\n",
      "epoch: 160 loss:0.316028 auc:0.5417\n",
      "epoch: 180 loss:0.313782 auc:0.5486\n",
      "epoch: 200 loss:0.312171 auc:0.5417\n",
      "epoch: 220 loss:0.311000 auc:0.5417\n",
      "epoch: 240 loss:0.310145 auc:0.5417\n",
      "epoch: 260 loss:0.309515 auc:0.5417\n",
      "epoch: 280 loss:0.309043 auc:0.5486\n",
      "epoch: 300 loss:0.308684 auc:0.5486\n",
      "epoch: 320 loss:0.308406 auc:0.5486\n",
      "epoch: 340 loss:0.308187 auc:0.5486\n",
      "epoch: 360 loss:0.308012 auc:0.5486\n",
      "epoch: 380 loss:0.307870 auc:0.5486\n",
      "epoch: 400 loss:0.307754 auc:0.5486\n",
      "epoch: 420 loss:0.307657 auc:0.5486\n",
      "epoch: 440 loss:0.307576 auc:0.5556\n",
      "epoch: 460 loss:0.307507 auc:0.5486\n"
     ]
    },
    {
     "name": "stderr",
     "output_type": "stream",
     "text": [
      " 98%|█████████▊| 987/1005 [6:54:17<02:32,  8.48s/it]"
     ]
    },
    {
     "name": "stdout",
     "output_type": "stream",
     "text": [
      "epoch: 480 loss:0.307447 auc:0.5417\n",
      "Fit finished.\n",
      "epoch:   0 loss:0.764534 auc:0.5237\n",
      "epoch:  20 loss:0.575581 auc:0.5680\n",
      "epoch:  40 loss:0.465045 auc:0.5000\n",
      "epoch:  60 loss:0.382824 auc:0.4926\n",
      "epoch:  80 loss:0.350303 auc:0.4985\n",
      "epoch: 100 loss:0.334865 auc:0.5074\n",
      "epoch: 120 loss:0.326203 auc:0.5059\n",
      "epoch: 140 loss:0.320763 auc:0.5074\n"
     ]
    },
    {
     "name": "stderr",
     "output_type": "stream",
     "text": [
      " 98%|█████████▊| 988/1005 [6:54:21<02:03,  7.27s/it]"
     ]
    },
    {
     "name": "stdout",
     "output_type": "stream",
     "text": [
      "epoch: 160 loss:0.317188 auc:0.5015\n",
      "Fit finished.\n",
      "epoch:   0 loss:0.808307 auc:0.3554\n",
      "epoch:  20 loss:0.591623 auc:0.3636\n",
      "epoch:  40 loss:0.507627 auc:0.4050\n",
      "epoch:  60 loss:0.411791 auc:0.5041\n",
      "epoch:  80 loss:0.366597 auc:0.5207\n",
      "epoch: 100 loss:0.345093 auc:0.5289\n",
      "epoch: 120 loss:0.333285 auc:0.5702\n",
      "epoch: 140 loss:0.326125 auc:0.5620\n",
      "epoch: 160 loss:0.321441 auc:0.5868\n",
      "epoch: 180 loss:0.318178 auc:0.5868\n",
      "epoch: 200 loss:0.315799 auc:0.5785\n",
      "epoch: 220 loss:0.314026 auc:0.5620\n",
      "epoch: 240 loss:0.312684 auc:0.5702\n",
      "epoch: 260 loss:0.311651 auc:0.5702\n",
      "epoch: 280 loss:0.310844 auc:0.5785\n",
      "epoch: 300 loss:0.310203 auc:0.5702\n"
     ]
    },
    {
     "name": "stderr",
     "output_type": "stream",
     "text": [
      " 98%|█████████▊| 989/1005 [6:54:29<02:00,  7.55s/it]"
     ]
    },
    {
     "name": "stdout",
     "output_type": "stream",
     "text": [
      "epoch: 320 loss:0.309683 auc:0.5702\n",
      "Fit finished.\n",
      "epoch:   0 loss:0.802111 auc:0.5614\n",
      "epoch:  20 loss:0.591650 auc:0.5747\n",
      "epoch:  40 loss:0.494386 auc:0.5652\n",
      "epoch:  60 loss:0.409628 auc:0.5728\n",
      "epoch:  80 loss:0.366576 auc:0.5369\n",
      "epoch: 100 loss:0.345832 auc:0.5180\n",
      "epoch: 120 loss:0.334302 auc:0.5085\n",
      "epoch: 140 loss:0.327020 auc:0.5047\n"
     ]
    },
    {
     "name": "stderr",
     "output_type": "stream",
     "text": [
      " 99%|█████████▊| 990/1005 [6:54:34<01:41,  6.76s/it]"
     ]
    },
    {
     "name": "stdout",
     "output_type": "stream",
     "text": [
      "epoch: 160 loss:0.322111 auc:0.4972\n",
      "Fit finished.\n",
      "epoch:   0 loss:0.822547 auc:0.3851\n",
      "epoch:  20 loss:0.591578 auc:0.7310\n",
      "epoch:  40 loss:0.507314 auc:0.5885\n",
      "epoch:  60 loss:0.415009 auc:0.4920\n",
      "epoch:  80 loss:0.368098 auc:0.4598\n",
      "epoch: 100 loss:0.344905 auc:0.4609\n",
      "epoch: 120 loss:0.332624 auc:0.4782\n",
      "epoch: 140 loss:0.325286 auc:0.4828\n",
      "epoch: 160 loss:0.320515 auc:0.4954\n"
     ]
    },
    {
     "name": "stderr",
     "output_type": "stream",
     "text": [
      " 99%|█████████▊| 991/1005 [6:54:40<01:28,  6.30s/it]"
     ]
    },
    {
     "name": "stdout",
     "output_type": "stream",
     "text": [
      "epoch: 180 loss:0.317239 auc:0.5023\n",
      "Fit finished.\n",
      "epoch:   0 loss:0.792053 auc:0.5760\n",
      "epoch:  20 loss:0.594891 auc:0.6556\n",
      "epoch:  40 loss:0.515402 auc:0.6311\n",
      "epoch:  60 loss:0.421624 auc:0.5674\n",
      "epoch:  80 loss:0.372847 auc:0.5135\n",
      "epoch: 100 loss:0.348472 auc:0.5000\n",
      "epoch: 120 loss:0.335155 auc:0.5086\n",
      "epoch: 140 loss:0.327062 auc:0.5159\n"
     ]
    },
    {
     "name": "stderr",
     "output_type": "stream",
     "text": [
      " 99%|█████████▊| 992/1005 [6:54:45<01:18,  6.05s/it]"
     ]
    },
    {
     "name": "stdout",
     "output_type": "stream",
     "text": [
      "epoch: 160 loss:0.321837 auc:0.5221\n",
      "Fit finished.\n",
      "epoch:   0 loss:0.841351 auc:0.6099\n",
      "epoch:  20 loss:0.591866 auc:0.7531\n",
      "epoch:  40 loss:0.503163 auc:0.7469\n",
      "epoch:  60 loss:0.415897 auc:0.7123\n",
      "epoch:  80 loss:0.370054 auc:0.7037\n",
      "epoch: 100 loss:0.347523 auc:0.6988\n",
      "epoch: 120 loss:0.335211 auc:0.7000\n",
      "epoch: 140 loss:0.327522 auc:0.7086\n",
      "epoch: 160 loss:0.322385 auc:0.7185\n"
     ]
    },
    {
     "name": "stderr",
     "output_type": "stream",
     "text": [
      " 99%|█████████▉| 993/1005 [6:54:50<01:09,  5.79s/it]"
     ]
    },
    {
     "name": "stdout",
     "output_type": "stream",
     "text": [
      "epoch: 180 loss:0.318863 auc:0.7185\n",
      "Fit finished.\n",
      "epoch:   0 loss:0.849091 auc:0.5482\n",
      "epoch:  20 loss:0.589612 auc:0.5879\n",
      "epoch:  40 loss:0.501948 auc:0.6975\n",
      "epoch:  60 loss:0.415470 auc:0.7259\n",
      "epoch:  80 loss:0.369000 auc:0.7316\n",
      "epoch: 100 loss:0.345046 auc:0.7221\n",
      "epoch: 120 loss:0.332801 auc:0.7013\n",
      "epoch: 140 loss:0.325562 auc:0.6994\n",
      "epoch: 160 loss:0.320844 auc:0.6957\n",
      "epoch: 180 loss:0.317636 auc:0.6957\n"
     ]
    },
    {
     "name": "stderr",
     "output_type": "stream",
     "text": [
      " 99%|█████████▉| 994/1005 [6:54:56<01:02,  5.64s/it]"
     ]
    },
    {
     "name": "stdout",
     "output_type": "stream",
     "text": [
      "epoch: 200 loss:0.315367 auc:0.6900\n",
      "Fit finished.\n",
      "epoch:   0 loss:0.942157 auc:0.6168\n",
      "epoch:  20 loss:0.589473 auc:0.6077\n",
      "epoch:  40 loss:0.515161 auc:0.5624\n",
      "epoch:  60 loss:0.420507 auc:0.6327\n",
      "epoch:  80 loss:0.372323 auc:0.5850\n",
      "epoch: 100 loss:0.347956 auc:0.5896\n",
      "epoch: 120 loss:0.334707 auc:0.5896\n",
      "epoch: 140 loss:0.326943 auc:0.5896\n"
     ]
    },
    {
     "name": "stderr",
     "output_type": "stream",
     "text": [
      " 99%|█████████▉| 995/1005 [6:55:02<00:57,  5.78s/it]"
     ]
    },
    {
     "name": "stdout",
     "output_type": "stream",
     "text": [
      "epoch: 160 loss:0.321979 auc:0.5805\n",
      "Fit finished.\n",
      "epoch:   0 loss:0.815197 auc:0.4512\n",
      "epoch:  20 loss:0.591147 auc:0.4556\n",
      "epoch:  40 loss:0.503736 auc:0.4837\n",
      "epoch:  60 loss:0.410873 auc:0.4615\n",
      "epoch:  80 loss:0.366288 auc:0.4896\n",
      "epoch: 100 loss:0.344427 auc:0.4837\n",
      "epoch: 120 loss:0.332312 auc:0.4911\n",
      "epoch: 140 loss:0.324990 auc:0.4867\n",
      "epoch: 160 loss:0.320286 auc:0.4837\n",
      "epoch: 180 loss:0.317108 auc:0.4822\n",
      "epoch: 200 loss:0.314894 auc:0.4852\n",
      "epoch: 220 loss:0.313309 auc:0.4837\n"
     ]
    },
    {
     "name": "stderr",
     "output_type": "stream",
     "text": [
      " 99%|█████████▉| 996/1005 [6:55:08<00:53,  5.90s/it]"
     ]
    },
    {
     "name": "stdout",
     "output_type": "stream",
     "text": [
      "epoch: 240 loss:0.312138 auc:0.4749\n",
      "Fit finished.\n",
      "epoch:   0 loss:0.795787 auc:0.4660\n",
      "epoch:  20 loss:0.583971 auc:0.5178\n",
      "epoch:  40 loss:0.474295 auc:0.7219\n",
      "epoch:  60 loss:0.385269 auc:0.7515\n",
      "epoch:  80 loss:0.349485 auc:0.7352\n",
      "epoch: 100 loss:0.333921 auc:0.7352\n",
      "epoch: 120 loss:0.325652 auc:0.7293\n",
      "epoch: 140 loss:0.320585 auc:0.7396\n",
      "epoch: 160 loss:0.317208 auc:0.7308\n",
      "epoch: 180 loss:0.314820 auc:0.7322\n",
      "epoch: 200 loss:0.313078 auc:0.7293\n"
     ]
    },
    {
     "name": "stderr",
     "output_type": "stream",
     "text": [
      " 99%|█████████▉| 997/1005 [6:55:14<00:47,  5.88s/it]"
     ]
    },
    {
     "name": "stdout",
     "output_type": "stream",
     "text": [
      "epoch: 220 loss:0.311791 auc:0.7308\n",
      "Fit finished.\n",
      "epoch:   0 loss:0.783738 auc:0.5391\n",
      "epoch:  20 loss:0.574009 auc:0.5954\n",
      "epoch:  40 loss:0.455353 auc:0.6816\n",
      "epoch:  60 loss:0.382065 auc:0.6333\n",
      "epoch:  80 loss:0.349675 auc:0.6310\n",
      "epoch: 100 loss:0.333801 auc:0.6437\n",
      "epoch: 120 loss:0.325119 auc:0.6540\n",
      "epoch: 140 loss:0.320047 auc:0.6552\n",
      "epoch: 160 loss:0.316814 auc:0.6552\n",
      "epoch: 180 loss:0.314586 auc:0.6586\n"
     ]
    },
    {
     "name": "stderr",
     "output_type": "stream",
     "text": [
      " 99%|█████████▉| 998/1005 [6:55:20<00:41,  5.91s/it]"
     ]
    },
    {
     "name": "stdout",
     "output_type": "stream",
     "text": [
      "epoch: 200 loss:0.312956 auc:0.6632\n",
      "Fit finished.\n",
      "epoch:   0 loss:0.788942 auc:0.5569\n",
      "epoch:  20 loss:0.588387 auc:0.7599\n",
      "epoch:  40 loss:0.493306 auc:0.7284\n",
      "epoch:  60 loss:0.402898 auc:0.7833\n",
      "epoch:  80 loss:0.362791 auc:0.7558\n",
      "epoch: 100 loss:0.343017 auc:0.7517\n",
      "epoch: 120 loss:0.331931 auc:0.7517\n",
      "epoch: 140 loss:0.325096 auc:0.7586\n",
      "epoch: 160 loss:0.320559 auc:0.7558\n",
      "epoch: 180 loss:0.317388 auc:0.7599\n",
      "epoch: 200 loss:0.315081 auc:0.7599\n"
     ]
    },
    {
     "name": "stderr",
     "output_type": "stream",
     "text": [
      " 99%|█████████▉| 999/1005 [6:55:26<00:36,  6.09s/it]"
     ]
    },
    {
     "name": "stdout",
     "output_type": "stream",
     "text": [
      "epoch: 220 loss:0.313372 auc:0.7558\n",
      "Fit finished.\n",
      "epoch:   0 loss:0.875691 auc:0.6420\n",
      "epoch:  20 loss:0.592570 auc:0.8979\n",
      "epoch:  40 loss:0.519386 auc:0.8950\n",
      "epoch:  60 loss:0.421736 auc:0.8802\n",
      "epoch:  80 loss:0.369209 auc:0.8432\n",
      "epoch: 100 loss:0.344647 auc:0.8195\n",
      "epoch: 120 loss:0.332171 auc:0.8062\n",
      "epoch: 140 loss:0.324927 auc:0.7988\n",
      "epoch: 160 loss:0.320253 auc:0.7929\n"
     ]
    },
    {
     "name": "stderr",
     "output_type": "stream",
     "text": [
      "100%|█████████▉| 1000/1005 [6:55:32<00:29,  5.89s/it]"
     ]
    },
    {
     "name": "stdout",
     "output_type": "stream",
     "text": [
      "epoch: 180 loss:0.317043 auc:0.7929\n",
      "Fit finished.\n",
      "epoch:   0 loss:0.802140 auc:0.3936\n",
      "epoch:  20 loss:0.582721 auc:0.6160\n",
      "epoch:  40 loss:0.484558 auc:0.4688\n",
      "epoch:  60 loss:0.402121 auc:0.4560\n",
      "epoch:  80 loss:0.361318 auc:0.4816\n",
      "epoch: 100 loss:0.340669 auc:0.5088\n",
      "epoch: 120 loss:0.329553 auc:0.5168\n",
      "epoch: 140 loss:0.323042 auc:0.5184\n",
      "epoch: 160 loss:0.318907 auc:0.5136\n"
     ]
    },
    {
     "name": "stderr",
     "output_type": "stream",
     "text": [
      "100%|█████████▉| 1001/1005 [6:55:37<00:22,  5.65s/it]"
     ]
    },
    {
     "name": "stdout",
     "output_type": "stream",
     "text": [
      "epoch: 180 loss:0.316082 auc:0.5136\n",
      "Fit finished.\n",
      "epoch:   0 loss:0.786707 auc:0.5664\n",
      "epoch:  20 loss:0.590287 auc:0.4883\n",
      "epoch:  40 loss:0.508703 auc:0.3984\n",
      "epoch:  60 loss:0.416784 auc:0.3750\n",
      "epoch:  80 loss:0.368672 auc:0.3867\n",
      "epoch: 100 loss:0.345325 auc:0.4180\n",
      "epoch: 120 loss:0.333180 auc:0.4141\n",
      "epoch: 140 loss:0.325909 auc:0.4062\n"
     ]
    },
    {
     "name": "stderr",
     "output_type": "stream",
     "text": [
      "100%|█████████▉| 1002/1005 [6:55:41<00:15,  5.33s/it]"
     ]
    },
    {
     "name": "stdout",
     "output_type": "stream",
     "text": [
      "epoch: 160 loss:0.321124 auc:0.4023\n",
      "Fit finished.\n",
      "epoch:   0 loss:0.800647 auc:0.4707\n",
      "epoch:  20 loss:0.590575 auc:0.6314\n",
      "epoch:  40 loss:0.506115 auc:0.6635\n",
      "epoch:  60 loss:0.418107 auc:0.5955\n",
      "epoch:  80 loss:0.372650 auc:0.6011\n",
      "epoch: 100 loss:0.348151 auc:0.6125\n",
      "epoch: 120 loss:0.334859 auc:0.6163\n",
      "epoch: 140 loss:0.326880 auc:0.6087\n",
      "epoch: 160 loss:0.321747 auc:0.6068\n"
     ]
    },
    {
     "name": "stderr",
     "output_type": "stream",
     "text": [
      "100%|█████████▉| 1003/1005 [6:55:47<00:10,  5.32s/it]"
     ]
    },
    {
     "name": "stdout",
     "output_type": "stream",
     "text": [
      "epoch: 180 loss:0.318300 auc:0.6049\n",
      "Fit finished.\n",
      "epoch:   0 loss:0.823017 auc:0.6354\n",
      "epoch:  20 loss:0.592827 auc:0.7240\n",
      "epoch:  40 loss:0.504344 auc:0.6997\n",
      "epoch:  60 loss:0.413213 auc:0.7691\n",
      "epoch:  80 loss:0.370259 auc:0.7483\n",
      "epoch: 100 loss:0.348647 auc:0.7378\n",
      "epoch: 120 loss:0.336349 auc:0.7413\n",
      "epoch: 140 loss:0.328594 auc:0.7361\n",
      "epoch: 160 loss:0.323346 auc:0.7465\n",
      "epoch: 180 loss:0.319642 auc:0.7448\n",
      "epoch: 200 loss:0.316952 auc:0.7448\n"
     ]
    },
    {
     "name": "stderr",
     "output_type": "stream",
     "text": [
      "100%|█████████▉| 1004/1005 [6:56:32<00:17, 17.33s/it]"
     ]
    },
    {
     "name": "stdout",
     "output_type": "stream",
     "text": [
      "epoch: 220 loss:0.314951 auc:0.7483\n",
      "Fit finished.\n",
      "epoch:   0 loss:0.805885 auc:0.5312\n",
      "epoch:  20 loss:0.578639 auc:0.5472\n",
      "epoch:  40 loss:0.484034 auc:0.4912\n",
      "epoch:  60 loss:0.405671 auc:0.4304\n",
      "epoch:  80 loss:0.364047 auc:0.4272\n",
      "epoch: 100 loss:0.342703 auc:0.4128\n",
      "epoch: 120 loss:0.331317 auc:0.4144\n",
      "epoch: 140 loss:0.324650 auc:0.4144\n"
     ]
    },
    {
     "name": "stderr",
     "output_type": "stream",
     "text": [
      "100%|██████████| 1005/1005 [6:56:37<00:00, 24.87s/it]"
     ]
    },
    {
     "name": "stdout",
     "output_type": "stream",
     "text": [
      "epoch: 160 loss:0.320395 auc:0.4144\n",
      "Fit finished.\n"
     ]
    },
    {
     "name": "stderr",
     "output_type": "stream",
     "text": [
      "\n"
     ]
    }
   ],
   "source": [
    "n_kfold = 1\n",
    "true_data_s = pd.DataFrame()\n",
    "predict_data_s = pd.DataFrame()\n",
    "for dim in target_dim:\n",
    "    for seed, target_index in enumerate(tqdm(np.arange(res.shape[dim]))):\n",
    "        if dim:\n",
    "            if drug_sum[target_index] < 10:\n",
    "                continue\n",
    "        else:\n",
    "            if cell_sum[target_index] < 10:\n",
    "                continue\n",
    "        epochs = []\n",
    "        for fold in range(n_kfold):\n",
    "            true_data, predict_data = mofgcn_new(\n",
    "                exprs=exprs,\n",
    "                cna=cna,\n",
    "                mut=mut,\n",
    "                drug_finger=drug_finger,\n",
    "                res_mat=res,\n",
    "                null_mask=null_mask,\n",
    "                target_dim=dim,\n",
    "                target_index=target_index,\n",
    "                evaluate_fun=roc_auc,\n",
    "                args=args,\n",
    "                seed=seed,\n",
    "                device=device,\n",
    "            )\n",
    "\n",
    "        true_data_s = pd.concat(\n",
    "            [true_data_s, translate_result(true_data)], ignore_index=True\n",
    "        )\n",
    "        predict_data_s = pd.concat(\n",
    "            [predict_data_s, translate_result(predict_data)], ignore_index=True\n",
    "        )"
   ]
  },
  {
   "cell_type": "code",
   "execution_count": 7,
   "id": "ee74598b-d6ba-4763-81e3-4b54516ce071",
   "metadata": {},
   "outputs": [],
   "source": [
    "true_data_s.to_csv(f\"new_drug_true_{args.data}.csv\")\n",
    "predict_data_s.to_csv(f\"new_drug_pred_{args.data}.csv\")"
   ]
  },
  {
   "cell_type": "code",
   "execution_count": null,
   "id": "ffc0c1e3-9f77-41a8-829f-8e9a1bf52edb",
   "metadata": {},
   "outputs": [],
   "source": []
  },
  {
   "cell_type": "code",
   "execution_count": null,
   "id": "e68325c4-cbaa-4dc5-8958-2020b8ae7162",
   "metadata": {},
   "outputs": [],
   "source": []
  },
  {
   "cell_type": "code",
   "execution_count": null,
   "id": "185a0098-e177-4b95-82cc-58c735363c60",
   "metadata": {},
   "outputs": [],
   "source": []
  },
  {
   "cell_type": "code",
   "execution_count": null,
   "id": "ee3e9e61-1f5a-4e9c-abcd-c8a6a99201e3",
   "metadata": {},
   "outputs": [],
   "source": []
  },
  {
   "cell_type": "code",
   "execution_count": null,
   "id": "3c602424-24bb-4876-ad7c-157226a1db15",
   "metadata": {},
   "outputs": [],
   "source": []
  },
  {
   "cell_type": "code",
   "execution_count": null,
   "id": "bc598152-9bfd-49cb-94a1-e06bf3b9adfa",
   "metadata": {},
   "outputs": [],
   "source": []
  },
  {
   "cell_type": "code",
   "execution_count": null,
   "id": "3b2ae018-e508-46da-b0e6-0c4d3c803692",
   "metadata": {},
   "outputs": [],
   "source": []
  }
 ],
 "metadata": {
  "kernelspec": {
   "display_name": "torch",
   "language": "python",
   "name": "torch"
  },
  "language_info": {
   "codemirror_mode": {
    "name": "ipython",
    "version": 3
   },
   "file_extension": ".py",
   "mimetype": "text/x-python",
   "name": "python",
   "nbconvert_exporter": "python",
   "pygments_lexer": "ipython3",
   "version": "3.10.15"
  }
 },
 "nbformat": 4,
 "nbformat_minor": 5
}
