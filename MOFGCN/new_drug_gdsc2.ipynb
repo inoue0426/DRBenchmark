{
 "cells": [
  {
   "cell_type": "code",
   "execution_count": 1,
   "id": "powerful-mitchell",
   "metadata": {},
   "outputs": [],
   "source": [
    "import argparse\n",
    "import numpy as np\n",
    "import pandas as pd\n",
    "import torch\n",
    "from tqdm import tqdm\n",
    "from dataclasses import dataclass\n",
    "from joblib import Parallel, delayed\n",
    "from tqdm import tqdm"
   ]
  },
  {
   "cell_type": "code",
   "execution_count": 2,
   "id": "weighted-filter",
   "metadata": {},
   "outputs": [],
   "source": [
    "%load_ext autoreload\n",
    "%autoreload 2\n",
    "\n",
    "from model import GModel\n",
    "from myutils import roc_auc, translate_result, filter_target\n",
    "from load_data import load_data\n",
    "from optimizer import Optimizer\n",
    "from sampler import NewSampler"
   ]
  },
  {
   "cell_type": "code",
   "execution_count": 3,
   "id": "egyptian-checklist",
   "metadata": {},
   "outputs": [],
   "source": [
    "@dataclass\n",
    "class Args:\n",
    "    device: str = \"cuda\" if torch.cuda.is_available() else \"cpu\"\n",
    "    data: str = \"gdsc2\"\n",
    "    n_jobs: int = 25 # ← ここをコア数に応じて調整\n",
    "    lr: float = 5e-4\n",
    "    epochs: int = 1000"
   ]
  },
  {
   "cell_type": "code",
   "execution_count": 4,
   "id": "collective-benefit",
   "metadata": {},
   "outputs": [],
   "source": [
    "args = Args()\n",
    "target_option = \"drug\"  # \"cell\" か \"drug\""
   ]
  },
  {
   "cell_type": "code",
   "execution_count": 5,
   "id": "thirty-kingston",
   "metadata": {},
   "outputs": [
    {
     "name": "stdout",
     "output_type": "stream",
     "text": [
      "load gdsc2\n",
      "response matrix (res) shape: (153, 654)\n",
      "exprs shape: (1084, 19562)\n",
      "mut shape: (1084, 18099)\n",
      "cna shape: (1084, 24502)\n",
      "654\n",
      "exprs shape: (654, 19562)\n",
      "mut shape: (654, 18099)\n",
      "cna shape: (654, 24502)\n",
      "drug_feature shape: (153, 920)\n",
      "response matrix (res) shape: (654, 153)\n",
      "null_mask shape: (654, 153)\n"
     ]
    }
   ],
   "source": [
    "# データ読み込み\n",
    "res, drug_feature, exprs, mut, cna, null_mask = load_data(args)"
   ]
  },
  {
   "cell_type": "code",
   "execution_count": 6,
   "id": "stock-peace",
   "metadata": {},
   "outputs": [],
   "source": [
    "def run_single_model(exprs, cna, mut, drug_feature, res_mat, null_mask, target_dim, target_index, args, seed):\n",
    "    sampler = NewSampler(res_mat, null_mask, target_dim, target_index)\n",
    "    val_labels = sampler.test_data[sampler.test_mask]\n",
    "\n",
    "    model = GModel(\n",
    "        adj_mat=sampler.train_data.float(),\n",
    "        gene=exprs,\n",
    "        cna=cna,\n",
    "        mutation=mut,\n",
    "        sigma=2,\n",
    "        k=11,\n",
    "        iterates=3,\n",
    "        feature_drug=drug_feature,\n",
    "        n_hid1=192,\n",
    "        n_hid2=36,\n",
    "        alpha=5.74,\n",
    "        device=args.device,\n",
    "    )\n",
    "    opt = Optimizer(\n",
    "        model=model,\n",
    "        train_data=sampler.train_data,\n",
    "        test_data=sampler.test_data,\n",
    "        test_mask=sampler.test_mask,\n",
    "        train_mask=sampler.train_mask,\n",
    "        evaluate_fun=roc_auc,\n",
    "        lr=args.lr,\n",
    "        epochs=args.epochs,\n",
    "        device=args.device,\n",
    "    ).to(args.device)\n",
    "    _, true_data, predict_data = opt()\n",
    "    return true_data, predict_data"
   ]
  },
  {
   "cell_type": "code",
   "execution_count": 7,
   "id": "healthy-carroll",
   "metadata": {
    "scrolled": true
   },
   "outputs": [],
   "source": [
    "# ターゲット次元と統計\n",
    "target_dim = 0 if target_option == \"cell\" else 1\n",
    "samples = res.shape[target_dim]\n",
    "cell_sum = np.sum(res.values, axis=1)\n",
    "drug_sum = np.sum(res.values, axis=0)"
   ]
  },
  {
   "cell_type": "code",
   "execution_count": 8,
   "id": "false-premiere",
   "metadata": {},
   "outputs": [],
   "source": [
    "# 並列実行用ラッパー\n",
    "def process_target(seed, target_index):\n",
    "    try:\n",
    "        return run_single_model(\n",
    "            exprs=exprs,\n",
    "            cna=cna,\n",
    "            mut=mut,\n",
    "            drug_feature=drug_feature,\n",
    "            res_mat=res.values,\n",
    "            null_mask=null_mask,\n",
    "            target_dim=target_dim,\n",
    "            target_index=target_index,\n",
    "            args=args,\n",
    "            seed=seed,\n",
    "        )\n",
    "    except Exception as e:\n",
    "        print(f\"❌ Failed at target {target_index}: {e}\")\n",
    "        return None"
   ]
  },
  {
   "cell_type": "code",
   "execution_count": 9,
   "id": "black-vienna",
   "metadata": {
    "scrolled": true
   },
   "outputs": [
    {
     "name": "stdout",
     "output_type": "stream",
     "text": [
      "\n",
      "🚫 Skipped Targets: 11\n",
      "Target 29: skipped because few_total_samples (total=8, pos=5, neg=3)\n",
      "Target 30: skipped because few_total_samples (total=7, pos=3, neg=4)\n",
      "Target 35: skipped because few_total_samples (total=8, pos=6, neg=2)\n",
      "Target 68: skipped because few_total_samples (total=5, pos=3, neg=2)\n",
      "Target 70: skipped because few_total_samples (total=6, pos=3, neg=3)\n",
      "Target 97: skipped because few_total_samples (total=6, pos=2, neg=4)\n",
      "Target 105: skipped because few_total_samples (total=5, pos=1, neg=4)\n",
      "Target 115: skipped because few_total_samples (total=5, pos=4, neg=1)\n",
      "Target 117: skipped because few_total_samples (total=8, pos=3, neg=5)\n",
      "Target 134: skipped because few_total_samples (total=1, pos=1, neg=0)\n",
      "Target 152: skipped because few_total_samples (total=6, pos=3, neg=3)\n"
     ]
    },
    {
     "name": "stderr",
     "output_type": "stream",
     "text": [
      "MOFGCN (gdsc2 - drug):  18%|█▊        | 25/142 [00:00<00:02, 46.00it/s]/users/4/inoue019/DRBenchmark/MOFGCN/model.py:47: UserWarning: The given NumPy array is not writable, and PyTorch does not support non-writable tensors. This means writing to this tensor will result in undefined behavior. You may want to copy the array to protect its data or make it writable before converting it to a tensor. This type of warning will be suppressed for the rest of this program. (Triggered internally at /pytorch/torch/csrc/utils/tensor_numpy.cpp:203.)\n",
      "  gene = torch.from_numpy(gene).to(device)\n",
      "/users/4/inoue019/DRBenchmark/MOFGCN/model.py:47: UserWarning: The given NumPy array is not writable, and PyTorch does not support non-writable tensors. This means writing to this tensor will result in undefined behavior. You may want to copy the array to protect its data or make it writable before converting it to a tensor. This type of warning will be suppressed for the rest of this program. (Triggered internally at /pytorch/torch/csrc/utils/tensor_numpy.cpp:203.)\n",
      "  gene = torch.from_numpy(gene).to(device)\n",
      "/users/4/inoue019/DRBenchmark/MOFGCN/model.py:47: UserWarning: The given NumPy array is not writable, and PyTorch does not support non-writable tensors. This means writing to this tensor will result in undefined behavior. You may want to copy the array to protect its data or make it writable before converting it to a tensor. This type of warning will be suppressed for the rest of this program. (Triggered internally at /pytorch/torch/csrc/utils/tensor_numpy.cpp:203.)\n",
      "  gene = torch.from_numpy(gene).to(device)\n",
      "/users/4/inoue019/DRBenchmark/MOFGCN/model.py:47: UserWarning: The given NumPy array is not writable, and PyTorch does not support non-writable tensors. This means writing to this tensor will result in undefined behavior. You may want to copy the array to protect its data or make it writable before converting it to a tensor. This type of warning will be suppressed for the rest of this program. (Triggered internally at /pytorch/torch/csrc/utils/tensor_numpy.cpp:203.)\n",
      "  gene = torch.from_numpy(gene).to(device)\n",
      "/users/4/inoue019/DRBenchmark/MOFGCN/model.py:47: UserWarning: The given NumPy array is not writable, and PyTorch does not support non-writable tensors. This means writing to this tensor will result in undefined behavior. You may want to copy the array to protect its data or make it writable before converting it to a tensor. This type of warning will be suppressed for the rest of this program. (Triggered internally at /pytorch/torch/csrc/utils/tensor_numpy.cpp:203.)\n",
      "  gene = torch.from_numpy(gene).to(device)\n",
      "/users/4/inoue019/DRBenchmark/MOFGCN/model.py:47: UserWarning: The given NumPy array is not writable, and PyTorch does not support non-writable tensors. This means writing to this tensor will result in undefined behavior. You may want to copy the array to protect its data or make it writable before converting it to a tensor. This type of warning will be suppressed for the rest of this program. (Triggered internally at /pytorch/torch/csrc/utils/tensor_numpy.cpp:203.)\n",
      "  gene = torch.from_numpy(gene).to(device)\n",
      "/users/4/inoue019/DRBenchmark/MOFGCN/model.py:47: UserWarning: The given NumPy array is not writable, and PyTorch does not support non-writable tensors. This means writing to this tensor will result in undefined behavior. You may want to copy the array to protect its data or make it writable before converting it to a tensor. This type of warning will be suppressed for the rest of this program. (Triggered internally at /pytorch/torch/csrc/utils/tensor_numpy.cpp:203.)\n",
      "  gene = torch.from_numpy(gene).to(device)\n",
      "/users/4/inoue019/DRBenchmark/MOFGCN/model.py:47: UserWarning: The given NumPy array is not writable, and PyTorch does not support non-writable tensors. This means writing to this tensor will result in undefined behavior. You may want to copy the array to protect its data or make it writable before converting it to a tensor. This type of warning will be suppressed for the rest of this program. (Triggered internally at /pytorch/torch/csrc/utils/tensor_numpy.cpp:203.)\n",
      "  gene = torch.from_numpy(gene).to(device)\n",
      "/users/4/inoue019/DRBenchmark/MOFGCN/model.py:47: UserWarning: The given NumPy array is not writable, and PyTorch does not support non-writable tensors. This means writing to this tensor will result in undefined behavior. You may want to copy the array to protect its data or make it writable before converting it to a tensor. This type of warning will be suppressed for the rest of this program. (Triggered internally at /pytorch/torch/csrc/utils/tensor_numpy.cpp:203.)\n",
      "  gene = torch.from_numpy(gene).to(device)\n",
      "/users/4/inoue019/DRBenchmark/MOFGCN/model.py:47: UserWarning: The given NumPy array is not writable, and PyTorch does not support non-writable tensors. This means writing to this tensor will result in undefined behavior. You may want to copy the array to protect its data or make it writable before converting it to a tensor. This type of warning will be suppressed for the rest of this program. (Triggered internally at /pytorch/torch/csrc/utils/tensor_numpy.cpp:203.)\n",
      "  gene = torch.from_numpy(gene).to(device)\n",
      "/users/4/inoue019/DRBenchmark/MOFGCN/model.py:47: UserWarning: The given NumPy array is not writable, and PyTorch does not support non-writable tensors. This means writing to this tensor will result in undefined behavior. You may want to copy the array to protect its data or make it writable before converting it to a tensor. This type of warning will be suppressed for the rest of this program. (Triggered internally at /pytorch/torch/csrc/utils/tensor_numpy.cpp:203.)\n",
      "  gene = torch.from_numpy(gene).to(device)\n",
      "/users/4/inoue019/DRBenchmark/MOFGCN/model.py:47: UserWarning: The given NumPy array is not writable, and PyTorch does not support non-writable tensors. This means writing to this tensor will result in undefined behavior. You may want to copy the array to protect its data or make it writable before converting it to a tensor. This type of warning will be suppressed for the rest of this program. (Triggered internally at /pytorch/torch/csrc/utils/tensor_numpy.cpp:203.)\n",
      "  gene = torch.from_numpy(gene).to(device)\n",
      "/users/4/inoue019/DRBenchmark/MOFGCN/model.py:47: UserWarning: The given NumPy array is not writable, and PyTorch does not support non-writable tensors. This means writing to this tensor will result in undefined behavior. You may want to copy the array to protect its data or make it writable before converting it to a tensor. This type of warning will be suppressed for the rest of this program. (Triggered internally at /pytorch/torch/csrc/utils/tensor_numpy.cpp:203.)\n",
      "  gene = torch.from_numpy(gene).to(device)\n",
      "/users/4/inoue019/DRBenchmark/MOFGCN/model.py:47: UserWarning: The given NumPy array is not writable, and PyTorch does not support non-writable tensors. This means writing to this tensor will result in undefined behavior. You may want to copy the array to protect its data or make it writable before converting it to a tensor. This type of warning will be suppressed for the rest of this program. (Triggered internally at /pytorch/torch/csrc/utils/tensor_numpy.cpp:203.)\n",
      "  gene = torch.from_numpy(gene).to(device)\n",
      "/users/4/inoue019/DRBenchmark/MOFGCN/model.py:47: UserWarning: The given NumPy array is not writable, and PyTorch does not support non-writable tensors. This means writing to this tensor will result in undefined behavior. You may want to copy the array to protect its data or make it writable before converting it to a tensor. This type of warning will be suppressed for the rest of this program. (Triggered internally at /pytorch/torch/csrc/utils/tensor_numpy.cpp:203.)\n",
      "  gene = torch.from_numpy(gene).to(device)\n",
      "/users/4/inoue019/DRBenchmark/MOFGCN/model.py:47: UserWarning: The given NumPy array is not writable, and PyTorch does not support non-writable tensors. This means writing to this tensor will result in undefined behavior. You may want to copy the array to protect its data or make it writable before converting it to a tensor. This type of warning will be suppressed for the rest of this program. (Triggered internally at /pytorch/torch/csrc/utils/tensor_numpy.cpp:203.)\n",
      "  gene = torch.from_numpy(gene).to(device)\n",
      "/users/4/inoue019/DRBenchmark/MOFGCN/model.py:47: UserWarning: The given NumPy array is not writable, and PyTorch does not support non-writable tensors. This means writing to this tensor will result in undefined behavior. You may want to copy the array to protect its data or make it writable before converting it to a tensor. This type of warning will be suppressed for the rest of this program. (Triggered internally at /pytorch/torch/csrc/utils/tensor_numpy.cpp:203.)\n",
      "  gene = torch.from_numpy(gene).to(device)\n",
      "/users/4/inoue019/DRBenchmark/MOFGCN/model.py:47: UserWarning: The given NumPy array is not writable, and PyTorch does not support non-writable tensors. This means writing to this tensor will result in undefined behavior. You may want to copy the array to protect its data or make it writable before converting it to a tensor. This type of warning will be suppressed for the rest of this program. (Triggered internally at /pytorch/torch/csrc/utils/tensor_numpy.cpp:203.)\n",
      "  gene = torch.from_numpy(gene).to(device)\n"
     ]
    },
    {
     "name": "stderr",
     "output_type": "stream",
     "text": [
      "/users/4/inoue019/DRBenchmark/MOFGCN/model.py:47: UserWarning: The given NumPy array is not writable, and PyTorch does not support non-writable tensors. This means writing to this tensor will result in undefined behavior. You may want to copy the array to protect its data or make it writable before converting it to a tensor. This type of warning will be suppressed for the rest of this program. (Triggered internally at /pytorch/torch/csrc/utils/tensor_numpy.cpp:203.)\n",
      "  gene = torch.from_numpy(gene).to(device)\n",
      "/users/4/inoue019/DRBenchmark/MOFGCN/model.py:47: UserWarning: The given NumPy array is not writable, and PyTorch does not support non-writable tensors. This means writing to this tensor will result in undefined behavior. You may want to copy the array to protect its data or make it writable before converting it to a tensor. This type of warning will be suppressed for the rest of this program. (Triggered internally at /pytorch/torch/csrc/utils/tensor_numpy.cpp:203.)\n",
      "MOFGCN (gdsc2 - drug):  35%|███▌      | 50/142 [00:16<00:35,  2.59it/s]from_numpy(gene).to(device)\n",
      "/users/4/inoue019/DRBenchmark/MOFGCN/model.py:47: UserWarning: The given NumPy array is not writable, and PyTorch does not support non-writable tensors. This means writing to this tensor will result in undefined behavior. You may want to copy the array to protect its data or make it writable before converting it to a tensor. This type of warning will be suppressed for the rest of this program. (Triggered internally at /pytorch/torch/csrc/utils/tensor_numpy.cpp:203.)\n",
      "  gene = torch.from_numpy(gene).to(device)\n",
      "/users/4/inoue019/DRBenchmark/MOFGCN/model.py:47: UserWarning: The given NumPy array is not writable, and PyTorch does not support non-writable tensors. This means writing to this tensor will result in undefined behavior. You may want to copy the array to protect its data or make it writable before converting it to a tensor. This type of warning will be suppressed for the rest of this program. (Triggered internally at /pytorch/torch/csrc/utils/tensor_numpy.cpp:203.)\n",
      "  gene = torch.from_numpy(gene).to(device)\n",
      "/users/4/inoue019/DRBenchmark/MOFGCN/model.py:47: UserWarning: The given NumPy array is not writable, and PyTorch does not support non-writable tensors. This means writing to this tensor will result in undefined behavior. You may want to copy the array to protect its data or make it writable before converting it to a tensor. This type of warning will be suppressed for the rest of this program. (Triggered internally at /pytorch/torch/csrc/utils/tensor_numpy.cpp:203.)\n",
      "  gene = torch.from_numpy(gene).to(device)\n",
      "/users/4/inoue019/DRBenchmark/MOFGCN/model.py:47: UserWarning: The given NumPy array is not writable, and PyTorch does not support non-writable tensors. This means writing to this tensor will result in undefined behavior. You may want to copy the array to protect its data or make it writable before converting it to a tensor. This type of warning will be suppressed for the rest of this program. (Triggered internally at /pytorch/torch/csrc/utils/tensor_numpy.cpp:203.)\n",
      "  gene = torch.from_numpy(gene).to(device)\n",
      "/users/4/inoue019/DRBenchmark/MOFGCN/model.py:47: UserWarning: The given NumPy array is not writable, and PyTorch does not support non-writable tensors. This means writing to this tensor will result in undefined behavior. You may want to copy the array to protect its data or make it writable before converting it to a tensor. This type of warning will be suppressed for the rest of this program. (Triggered internally at /pytorch/torch/csrc/utils/tensor_numpy.cpp:203.)\n",
      "  gene = torch.from_numpy(gene).to(device)\n",
      "MOFGCN (gdsc2 - drug): 100%|██████████| 142/142 [00:43<00:00,  3.27it/s]\n"
     ]
    }
   ],
   "source": [
    "# 結果格納用\n",
    "true_data_s = pd.DataFrame()\n",
    "predict_data_s = pd.DataFrame()\n",
    "skipped_targets = []\n",
    "passed_targets = []\n",
    "\n",
    "# スキップチェック\n",
    "for target_index in range(samples):\n",
    "    label_vec = res.iloc[target_index] if target_dim == 0 else res.iloc[:, target_index]\n",
    "    passed, reason, pos, neg, total = filter_target(label_vec)\n",
    "\n",
    "    if passed:\n",
    "        passed_targets.append(target_index)\n",
    "    else:\n",
    "        skipped_targets.append((target_index, reason, pos, neg, total))\n",
    "\n",
    "# スキップ情報表示\n",
    "print(f\"\\n🚫 Skipped Targets: {len(skipped_targets)}\")\n",
    "for idx, reason, pos, neg, total in skipped_targets:\n",
    "    print(f\"Target {idx}: skipped because {reason} (total={total}, pos={pos}, neg={neg})\")\n",
    "\n",
    "# 並列実行（max_njobs を args.n_jobs に変更可能）\n",
    "results = Parallel(n_jobs=args.n_jobs)(\n",
    "    delayed(process_target)(seed, target_index)\n",
    "    for seed, target_index in enumerate(tqdm(passed_targets, desc=f\"MOFGCN ({args.data} - {target_option})\"))\n",
    ")\n",
    "\n",
    "# 結果の統合（None を除外）\n",
    "for r in results:\n",
    "    if r is not None:\n",
    "        true_data, pred_data = r\n",
    "        true_data_s = pd.concat([true_data_s, translate_result(true_data)], ignore_index=True)\n",
    "        predict_data_s = pd.concat([predict_data_s, translate_result(pred_data)], ignore_index=True)"
   ]
  },
  {
   "cell_type": "code",
   "execution_count": 10,
   "id": "artificial-venice",
   "metadata": {},
   "outputs": [
    {
     "name": "stdout",
     "output_type": "stream",
     "text": [
      "\n",
      "✅ Done. Results saved to:\n",
      "  - mofgcn_true_gdsc2_drug.csv\n",
      "  - mofgcn_pred_gdsc2_drug.csv\n"
     ]
    }
   ],
   "source": [
    "# Save\n",
    "true_path = f\"mofgcn_true_{args.data}_{target_option}.csv\"\n",
    "pred_path = f\"mofgcn_pred_{args.data}_{target_option}.csv\"\n",
    "true_data_s.to_csv(true_path, index=False)\n",
    "predict_data_s.to_csv(pred_path, index=False)\n",
    "\n",
    "print(f\"\\n✅ Done. Results saved to:\\n  - {true_path}\\n  - {pred_path}\")"
   ]
  },
  {
   "cell_type": "code",
   "execution_count": null,
   "id": "approved-statistics",
   "metadata": {},
   "outputs": [],
   "source": []
  },
  {
   "cell_type": "code",
   "execution_count": null,
   "id": "blessed-detective",
   "metadata": {},
   "outputs": [],
   "source": []
  },
  {
   "cell_type": "code",
   "execution_count": null,
   "id": "controversial-donor",
   "metadata": {},
   "outputs": [],
   "source": []
  },
  {
   "cell_type": "code",
   "execution_count": null,
   "id": "tired-trash",
   "metadata": {},
   "outputs": [],
   "source": []
  },
  {
   "cell_type": "code",
   "execution_count": null,
   "id": "competent-confidence",
   "metadata": {},
   "outputs": [],
   "source": []
  },
  {
   "cell_type": "code",
   "execution_count": null,
   "id": "complicated-burning",
   "metadata": {},
   "outputs": [],
   "source": []
  },
  {
   "cell_type": "code",
   "execution_count": null,
   "id": "oriented-newport",
   "metadata": {},
   "outputs": [],
   "source": []
  }
 ],
 "metadata": {
  "kernelspec": {
   "display_name": "genex",
   "language": "python",
   "name": "myenv"
  },
  "language_info": {
   "codemirror_mode": {
    "name": "ipython",
    "version": 3
   },
   "file_extension": ".py",
   "mimetype": "text/x-python",
   "name": "python",
   "nbconvert_exporter": "python",
   "pygments_lexer": "ipython3",
   "version": "3.10.16"
  }
 },
 "nbformat": 4,
 "nbformat_minor": 5
}
