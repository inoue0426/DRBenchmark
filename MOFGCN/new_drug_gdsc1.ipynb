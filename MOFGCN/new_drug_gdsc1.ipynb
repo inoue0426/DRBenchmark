{
 "cells": [
  {
   "cell_type": "code",
   "execution_count": 1,
   "id": "572a0fa8-b250-47bc-b76d-a2ec8c923717",
   "metadata": {},
   "outputs": [],
   "source": [
    "import argparse\n",
    "\n",
    "import numpy as np\n",
    "import pandas as pd\n",
    "import scipy.sparse as sp\n",
    "import torch\n",
    "from sklearn.model_selection import KFold\n",
    "from tqdm import tqdm"
   ]
  },
  {
   "cell_type": "code",
   "execution_count": 2,
   "id": "807ed612-b85a-46b4-9f14-9df64631581d",
   "metadata": {},
   "outputs": [],
   "source": [
    "%load_ext autoreload\n",
    "%autoreload 2\n",
    "\n",
    "from load_data import load_data\n",
    "from model import GModel\n",
    "from myutils import roc_auc, translate_result\n",
    "from optimizer import Optimizer\n",
    "from sampler import NewSampler"
   ]
  },
  {
   "cell_type": "code",
   "execution_count": 3,
   "id": "377e2120-1fee-4f37-acac-6b5693543ff4",
   "metadata": {},
   "outputs": [
    {
     "name": "stdout",
     "output_type": "stream",
     "text": [
      "load gdsc1\n"
     ]
    }
   ],
   "source": [
    "class Args:\n",
    "    def __init__(self):\n",
    "        self.device = \"cpu\"  # cuda:number or cpu\n",
    "        self.data = \"gdsc1\"  # Dataset{gdsc or ccle}\n",
    "\n",
    "\n",
    "args = Args()\n",
    "res, drug_finger, exprs, mut, cna, null_mask, pos_num = load_data(args)"
   ]
  },
  {
   "cell_type": "code",
   "execution_count": 4,
   "id": "e4830366-799a-4b1e-8395-7d4121b83a73",
   "metadata": {},
   "outputs": [],
   "source": [
    "cell_sum = np.sum(res, axis=1)\n",
    "drug_sum = np.sum(res, axis=0)\n",
    "\n",
    "target_dim = [\n",
    "    # 0,  # Cell\n",
    "    1  # Drug\n",
    "]\n",
    "device = torch.device(\"cuda\" if torch.cuda.is_available() else \"cpu\")"
   ]
  },
  {
   "cell_type": "code",
   "execution_count": 5,
   "id": "f7186080-2927-47ab-82ec-1334f60f6777",
   "metadata": {},
   "outputs": [],
   "source": [
    "def mofgcn_new(\n",
    "    exprs,\n",
    "    cna,\n",
    "    mut,\n",
    "    drug_finger,\n",
    "    res_mat,\n",
    "    null_mask,\n",
    "    target_dim,\n",
    "    target_index,\n",
    "    evaluate_fun,\n",
    "    args,\n",
    "    seed,\n",
    "    device,\n",
    "):\n",
    "    sampler = NewSampler(res_mat, null_mask, target_dim, target_index, seed)\n",
    "    val_labels = sampler.test_data[sampler.test_mask] \n",
    "\n",
    "    if len(np.unique(val_labels)) < 2:\n",
    "        print(f\"Target {target_index} skipped: Validation set has only one class.\")\n",
    "        return None, None \n",
    "    \n",
    "    model = GModel(\n",
    "        adj_mat=sampler.train_data,\n",
    "        gene=exprs,\n",
    "        cna=cna,\n",
    "        mutation=mut,\n",
    "        sigma=2,\n",
    "        k=11,\n",
    "        iterates=3,\n",
    "        feature_drug=drug_finger,\n",
    "        n_hid1=192,\n",
    "        n_hid2=36,\n",
    "        alpha=5.74,\n",
    "        device=device,\n",
    "    )\n",
    "    opt = Optimizer(\n",
    "        model,\n",
    "        sampler.train_data,\n",
    "        sampler.test_data,\n",
    "        sampler.test_mask,\n",
    "        sampler.train_mask,\n",
    "        roc_auc,\n",
    "        lr=5e-4,\n",
    "        epochs=1000,\n",
    "        device=device,\n",
    "    ).to(device)\n",
    "    epoch, true_data, predict_data = opt()\n",
    "    return true_data, predict_data"
   ]
  },
  {
   "cell_type": "code",
   "execution_count": 7,
   "id": "c23b7d83-33d7-4868-8981-12ae43bc19ec",
   "metadata": {
    "scrolled": true
   },
   "outputs": [
    {
     "name": "stderr",
     "output_type": "stream",
     "text": [
      "  0%|          | 0/331 [00:00<?, ?it/s]"
     ]
    },
    {
     "name": "stdout",
     "output_type": "stream",
     "text": [
      "epoch:   0 loss:0.667145 auc:0.4766\n",
      "epoch:  20 loss:0.325609 auc:0.6612\n",
      "epoch:  40 loss:0.244149 auc:0.6891\n",
      "epoch:  60 loss:0.217981 auc:0.7237\n",
      "epoch:  80 loss:0.208568 auc:0.7380\n",
      "epoch: 100 loss:0.202662 auc:0.7425\n",
      "epoch: 120 loss:0.196682 auc:0.7430\n",
      "epoch: 140 loss:0.193314 auc:0.7407\n",
      "epoch: 160 loss:0.191791 auc:0.7439\n",
      "epoch: 180 loss:0.190721 auc:0.7418\n",
      "epoch: 200 loss:0.190280 auc:0.7390\n",
      "epoch: 220 loss:0.189033 auc:0.7382\n"
     ]
    },
    {
     "name": "stderr",
     "output_type": "stream",
     "text": [
      "  0%|          | 1/331 [00:03<18:20,  3.33s/it]"
     ]
    },
    {
     "name": "stdout",
     "output_type": "stream",
     "text": [
      "epoch: 240 loss:0.188883 auc:0.7363\n",
      "Fit finished.\n",
      "epoch:   0 loss:1.256336 auc:0.5346\n",
      "epoch:  20 loss:0.321286 auc:0.4211\n",
      "epoch:  40 loss:0.247298 auc:0.3380\n",
      "epoch:  60 loss:0.219892 auc:0.6759\n",
      "epoch:  80 loss:0.210107 auc:0.7175\n",
      "epoch: 100 loss:0.203276 auc:0.7590\n",
      "epoch: 120 loss:0.196638 auc:0.8255\n",
      "epoch: 140 loss:0.194014 auc:0.8172\n",
      "epoch: 160 loss:0.192638 auc:0.8199\n",
      "epoch: 180 loss:0.192008 auc:0.8227\n",
      "epoch: 200 loss:0.190858 auc:0.8172\n",
      "epoch: 220 loss:0.191625 auc:0.8144\n",
      "epoch: 240 loss:0.189388 auc:0.8089\n",
      "epoch: 260 loss:0.190278 auc:0.8061\n"
     ]
    },
    {
     "name": "stderr",
     "output_type": "stream",
     "text": [
      "  1%|          | 2/331 [00:07<21:01,  3.83s/it]"
     ]
    },
    {
     "name": "stdout",
     "output_type": "stream",
     "text": [
      "epoch: 280 loss:0.187814 auc:0.7729\n",
      "Fit finished.\n",
      "epoch:   0 loss:1.155421 auc:0.4024\n",
      "epoch:  20 loss:0.306603 auc:0.3701\n",
      "epoch:  40 loss:0.232846 auc:0.3888\n",
      "epoch:  60 loss:0.217163 auc:0.5100\n",
      "epoch:  80 loss:0.209579 auc:0.5564\n",
      "epoch: 100 loss:0.204379 auc:0.5975\n",
      "epoch: 120 loss:0.199017 auc:0.6510\n",
      "epoch: 140 loss:0.194855 auc:0.6790\n",
      "epoch: 160 loss:0.192914 auc:0.6821\n",
      "epoch: 180 loss:0.191725 auc:0.6821\n",
      "epoch: 200 loss:0.190776 auc:0.6817\n",
      "epoch: 220 loss:0.190211 auc:0.6784\n",
      "epoch: 240 loss:0.189561 auc:0.6777\n",
      "epoch: 260 loss:0.188516 auc:0.6476\n"
     ]
    },
    {
     "name": "stderr",
     "output_type": "stream",
     "text": [
      "  1%|          | 3/331 [00:11<20:47,  3.80s/it]"
     ]
    },
    {
     "name": "stdout",
     "output_type": "stream",
     "text": [
      "epoch: 280 loss:0.187661 auc:0.5922\n",
      "Fit finished.\n",
      "epoch:   0 loss:0.883275 auc:0.4887\n",
      "epoch:  20 loss:0.328101 auc:0.5809\n",
      "epoch:  40 loss:0.241136 auc:0.6512\n",
      "epoch:  60 loss:0.217972 auc:0.6848\n",
      "epoch:  80 loss:0.209205 auc:0.7044\n",
      "epoch: 100 loss:0.203490 auc:0.7222\n",
      "epoch: 120 loss:0.197682 auc:0.7363\n",
      "epoch: 140 loss:0.193918 auc:0.7442\n",
      "epoch: 160 loss:0.192212 auc:0.7555\n",
      "epoch: 180 loss:0.191397 auc:0.7462\n",
      "epoch: 200 loss:0.190364 auc:0.7390\n",
      "epoch: 220 loss:0.190110 auc:0.7380\n",
      "epoch: 240 loss:0.189059 auc:0.7277\n"
     ]
    },
    {
     "name": "stderr",
     "output_type": "stream",
     "text": [
      "  1%|          | 4/331 [00:14<20:00,  3.67s/it]"
     ]
    },
    {
     "name": "stdout",
     "output_type": "stream",
     "text": [
      "epoch: 260 loss:0.188184 auc:0.7154\n",
      "Fit finished.\n",
      "epoch:   0 loss:0.891368 auc:0.5187\n",
      "epoch:  20 loss:0.335255 auc:0.8017\n",
      "epoch:  40 loss:0.253119 auc:0.8073\n",
      "epoch:  60 loss:0.222099 auc:0.8172\n",
      "epoch:  80 loss:0.209781 auc:0.8043\n",
      "epoch: 100 loss:0.203219 auc:0.8169\n",
      "epoch: 120 loss:0.197707 auc:0.8324\n",
      "epoch: 140 loss:0.194530 auc:0.8350\n",
      "epoch: 160 loss:0.192884 auc:0.8420\n",
      "epoch: 180 loss:0.191829 auc:0.8430\n",
      "epoch: 200 loss:0.191150 auc:0.8443\n",
      "epoch: 220 loss:0.190910 auc:0.8456\n",
      "epoch: 240 loss:0.189639 auc:0.8410\n",
      "epoch: 260 loss:0.188571 auc:0.8383\n",
      "epoch: 280 loss:0.189277 auc:0.8364\n",
      "epoch: 300 loss:0.186841 auc:0.8374\n"
     ]
    },
    {
     "name": "stderr",
     "output_type": "stream",
     "text": [
      "  2%|▏         | 6/331 [00:19<15:35,  2.88s/it]"
     ]
    },
    {
     "name": "stdout",
     "output_type": "stream",
     "text": [
      "epoch: 320 loss:0.186033 auc:0.8205\n",
      "Fit finished.\n",
      "epoch:   0 loss:0.990161 auc:0.5561\n",
      "epoch:  20 loss:0.311700 auc:0.6122\n",
      "epoch:  40 loss:0.233123 auc:0.5969\n",
      "epoch:  60 loss:0.216301 auc:0.5918\n",
      "epoch:  80 loss:0.208265 auc:0.5714\n",
      "epoch: 100 loss:0.202564 auc:0.6122\n",
      "epoch: 120 loss:0.197163 auc:0.6633\n",
      "epoch: 140 loss:0.194261 auc:0.6429\n",
      "epoch: 160 loss:0.192896 auc:0.6378\n",
      "epoch: 180 loss:0.191924 auc:0.6480\n",
      "epoch: 200 loss:0.191824 auc:0.6480\n",
      "epoch: 220 loss:0.190717 auc:0.6480\n",
      "epoch: 240 loss:0.189800 auc:0.6480\n",
      "epoch: 260 loss:0.190892 auc:0.6531\n",
      "epoch: 280 loss:0.189006 auc:0.6633\n"
     ]
    },
    {
     "name": "stderr",
     "output_type": "stream",
     "text": [
      "  3%|▎         | 9/331 [00:23<10:57,  2.04s/it]"
     ]
    },
    {
     "name": "stdout",
     "output_type": "stream",
     "text": [
      "epoch: 300 loss:0.187750 auc:0.6276\n",
      "Fit finished.\n",
      "epoch:   0 loss:0.936998 auc:0.5088\n",
      "epoch:  20 loss:0.319377 auc:0.7216\n",
      "epoch:  40 loss:0.239162 auc:0.7812\n",
      "epoch:  60 loss:0.217569 auc:0.8208\n",
      "epoch:  80 loss:0.210124 auc:0.8252\n",
      "epoch: 100 loss:0.205433 auc:0.8360\n",
      "epoch: 120 loss:0.200401 auc:0.8512\n",
      "epoch: 140 loss:0.195746 auc:0.8684\n",
      "epoch: 160 loss:0.193651 auc:0.8772\n",
      "epoch: 180 loss:0.192241 auc:0.8760\n",
      "epoch: 200 loss:0.191509 auc:0.8740\n",
      "epoch: 220 loss:0.190390 auc:0.8756\n",
      "epoch: 240 loss:0.189995 auc:0.8740\n",
      "epoch: 260 loss:0.189546 auc:0.8732\n",
      "epoch: 280 loss:0.188575 auc:0.8636\n"
     ]
    },
    {
     "name": "stderr",
     "output_type": "stream",
     "text": [
      "  3%|▎         | 10/331 [00:26<12:55,  2.42s/it]"
     ]
    },
    {
     "name": "stdout",
     "output_type": "stream",
     "text": [
      "epoch: 300 loss:0.188456 auc:0.8388\n",
      "Fit finished.\n",
      "epoch:   0 loss:1.621922 auc:0.5047\n",
      "epoch:  20 loss:0.308704 auc:0.5956\n",
      "epoch:  40 loss:0.235724 auc:0.5929\n",
      "epoch:  60 loss:0.215743 auc:0.6120\n",
      "epoch:  80 loss:0.208102 auc:0.6353\n",
      "epoch: 100 loss:0.203125 auc:0.6739\n",
      "epoch: 120 loss:0.198095 auc:0.7229\n",
      "epoch: 140 loss:0.194218 auc:0.7377\n",
      "epoch: 160 loss:0.192320 auc:0.7429\n",
      "epoch: 180 loss:0.191124 auc:0.7453\n",
      "epoch: 200 loss:0.190304 auc:0.7487\n",
      "epoch: 220 loss:0.189585 auc:0.7520\n",
      "epoch: 240 loss:0.189245 auc:0.7552\n",
      "epoch: 260 loss:0.188644 auc:0.7571\n",
      "epoch: 280 loss:0.187931 auc:0.7595\n",
      "epoch: 300 loss:0.187351 auc:0.7570\n",
      "epoch: 320 loss:0.186977 auc:0.7499\n"
     ]
    },
    {
     "name": "stderr",
     "output_type": "stream",
     "text": [
      "  3%|▎         | 11/331 [00:31<15:15,  2.86s/it]"
     ]
    },
    {
     "name": "stdout",
     "output_type": "stream",
     "text": [
      "epoch: 340 loss:0.186419 auc:0.7386\n",
      "Fit finished.\n",
      "epoch:   0 loss:0.981964 auc:0.5252\n",
      "epoch:  20 loss:0.307280 auc:0.5470\n",
      "epoch:  40 loss:0.228937 auc:0.5891\n",
      "epoch:  60 loss:0.214475 auc:0.6501\n",
      "epoch:  80 loss:0.208486 auc:0.6454\n",
      "epoch: 100 loss:0.203986 auc:0.6514\n",
      "epoch: 120 loss:0.199170 auc:0.6674\n",
      "epoch: 140 loss:0.195176 auc:0.6750\n",
      "epoch: 160 loss:0.193325 auc:0.6786\n",
      "epoch: 180 loss:0.192111 auc:0.6837\n",
      "epoch: 200 loss:0.191041 auc:0.6881\n",
      "epoch: 220 loss:0.190350 auc:0.6868\n",
      "epoch: 240 loss:0.189272 auc:0.6514\n"
     ]
    },
    {
     "name": "stderr",
     "output_type": "stream",
     "text": [
      "  4%|▎         | 12/331 [00:34<15:58,  3.01s/it]"
     ]
    },
    {
     "name": "stdout",
     "output_type": "stream",
     "text": [
      "epoch: 260 loss:0.188947 auc:0.6027\n",
      "Fit finished.\n",
      "epoch:   0 loss:0.690471 auc:0.5314\n",
      "epoch:  20 loss:0.261246 auc:0.5184\n",
      "epoch:  40 loss:0.217523 auc:0.7478\n",
      "epoch:  60 loss:0.208074 auc:0.7576\n",
      "epoch:  80 loss:0.202369 auc:0.7616\n",
      "epoch: 100 loss:0.197294 auc:0.7796\n",
      "epoch: 120 loss:0.194524 auc:0.7878\n",
      "epoch: 140 loss:0.193059 auc:0.7935\n",
      "epoch: 160 loss:0.191928 auc:0.7951\n",
      "epoch: 180 loss:0.190875 auc:0.7967\n",
      "epoch: 200 loss:0.190925 auc:0.8016\n",
      "epoch: 220 loss:0.189058 auc:0.8049\n",
      "epoch: 240 loss:0.187769 auc:0.8163\n",
      "epoch: 260 loss:0.187742 auc:0.8147\n",
      "epoch: 280 loss:0.185120 auc:0.8090\n",
      "epoch: 300 loss:0.184718 auc:0.7976\n"
     ]
    },
    {
     "name": "stderr",
     "output_type": "stream",
     "text": [
      "  4%|▍         | 14/331 [00:39<14:04,  2.66s/it]"
     ]
    },
    {
     "name": "stdout",
     "output_type": "stream",
     "text": [
      "epoch: 320 loss:0.182035 auc:0.7771\n",
      "Fit finished.\n",
      "epoch:   0 loss:1.011874 auc:0.5069\n",
      "epoch:  20 loss:0.286449 auc:0.4580\n",
      "epoch:  40 loss:0.227327 auc:0.5615\n",
      "epoch:  60 loss:0.212957 auc:0.5946\n",
      "epoch:  80 loss:0.207230 auc:0.5946\n",
      "epoch: 100 loss:0.202083 auc:0.6154\n",
      "epoch: 120 loss:0.196964 auc:0.6320\n",
      "epoch: 140 loss:0.194055 auc:0.6331\n",
      "epoch: 160 loss:0.192534 auc:0.6401\n",
      "epoch: 180 loss:0.191407 auc:0.6412\n",
      "epoch: 200 loss:0.190544 auc:0.6399\n",
      "epoch: 220 loss:0.190070 auc:0.6379\n",
      "epoch: 240 loss:0.188979 auc:0.6329\n",
      "epoch: 260 loss:0.193385 auc:0.6306\n"
     ]
    },
    {
     "name": "stderr",
     "output_type": "stream",
     "text": [
      "  5%|▍         | 15/331 [00:43<16:05,  3.06s/it]"
     ]
    },
    {
     "name": "stdout",
     "output_type": "stream",
     "text": [
      "epoch: 280 loss:0.187114 auc:0.6096\n",
      "Fit finished.\n",
      "epoch:   0 loss:0.610214 auc:0.5004\n",
      "epoch:  20 loss:0.268794 auc:0.5471\n",
      "epoch:  40 loss:0.220906 auc:0.6578\n",
      "epoch:  60 loss:0.210271 auc:0.6747\n",
      "epoch:  80 loss:0.204961 auc:0.6917\n",
      "epoch: 100 loss:0.199183 auc:0.7316\n",
      "epoch: 120 loss:0.194059 auc:0.7593\n",
      "epoch: 140 loss:0.191927 auc:0.7663\n",
      "epoch: 160 loss:0.190510 auc:0.7685\n",
      "epoch: 180 loss:0.189719 auc:0.7702\n",
      "epoch: 200 loss:0.189389 auc:0.7649\n",
      "epoch: 220 loss:0.187889 auc:0.7610\n",
      "epoch: 240 loss:0.186616 auc:0.7340\n",
      "epoch: 260 loss:0.185503 auc:0.7419\n"
     ]
    },
    {
     "name": "stderr",
     "output_type": "stream",
     "text": [
      "  5%|▍         | 16/331 [00:47<16:57,  3.23s/it]"
     ]
    },
    {
     "name": "stdout",
     "output_type": "stream",
     "text": [
      "epoch: 280 loss:0.183941 auc:0.7180\n",
      "Fit finished.\n",
      "epoch:   0 loss:1.144359 auc:0.5318\n",
      "epoch:  20 loss:0.318073 auc:0.5265\n",
      "epoch:  40 loss:0.240934 auc:0.4339\n",
      "epoch:  60 loss:0.219166 auc:0.7045\n",
      "epoch:  80 loss:0.210889 auc:0.7326\n",
      "epoch: 100 loss:0.206076 auc:0.7446\n",
      "epoch: 120 loss:0.201402 auc:0.7613\n",
      "epoch: 140 loss:0.196590 auc:0.7714\n",
      "epoch: 160 loss:0.193731 auc:0.7702\n",
      "epoch: 180 loss:0.192245 auc:0.7717\n",
      "epoch: 200 loss:0.191181 auc:0.7748\n",
      "epoch: 220 loss:0.190328 auc:0.7769\n",
      "epoch: 240 loss:0.189726 auc:0.7786\n",
      "epoch: 260 loss:0.188776 auc:0.7785\n",
      "epoch: 280 loss:0.188968 auc:0.7769\n"
     ]
    },
    {
     "name": "stderr",
     "output_type": "stream",
     "text": [
      "  5%|▌         | 18/331 [00:51<14:23,  2.76s/it]"
     ]
    },
    {
     "name": "stdout",
     "output_type": "stream",
     "text": [
      "epoch: 300 loss:0.186691 auc:0.7617\n",
      "Fit finished.\n",
      "epoch:   0 loss:0.753946 auc:0.5818\n",
      "epoch:  20 loss:0.300095 auc:0.6704\n",
      "epoch:  40 loss:0.230353 auc:0.7329\n",
      "epoch:  60 loss:0.215693 auc:0.7908\n",
      "epoch:  80 loss:0.209028 auc:0.7896\n",
      "epoch: 100 loss:0.203949 auc:0.7837\n",
      "epoch: 120 loss:0.198106 auc:0.7622\n",
      "epoch: 140 loss:0.194152 auc:0.7341\n",
      "epoch: 160 loss:0.192282 auc:0.7302\n",
      "epoch: 180 loss:0.192385 auc:0.7341\n",
      "epoch: 200 loss:0.190508 auc:0.7334\n"
     ]
    },
    {
     "name": "stderr",
     "output_type": "stream",
     "text": [
      "  6%|▌         | 19/331 [00:55<15:17,  2.94s/it]"
     ]
    },
    {
     "name": "stdout",
     "output_type": "stream",
     "text": [
      "epoch: 220 loss:0.190204 auc:0.7239\n",
      "Fit finished.\n",
      "epoch:   0 loss:0.597664 auc:0.4307\n",
      "epoch:  20 loss:0.268376 auc:0.6547\n",
      "epoch:  40 loss:0.220095 auc:0.7300\n",
      "epoch:  60 loss:0.210297 auc:0.7355\n",
      "epoch:  80 loss:0.203728 auc:0.7254\n",
      "epoch: 100 loss:0.196796 auc:0.6860\n",
      "epoch: 120 loss:0.193703 auc:0.6602\n",
      "epoch: 140 loss:0.192053 auc:0.6428\n",
      "epoch: 160 loss:0.191166 auc:0.6511\n"
     ]
    },
    {
     "name": "stderr",
     "output_type": "stream",
     "text": [
      "  6%|▋         | 21/331 [00:57<12:02,  2.33s/it]"
     ]
    },
    {
     "name": "stdout",
     "output_type": "stream",
     "text": [
      "epoch: 180 loss:0.189917 auc:0.6428\n",
      "Fit finished.\n",
      "epoch:   0 loss:0.582910 auc:0.4794\n",
      "epoch:  20 loss:0.279776 auc:0.5913\n",
      "epoch:  40 loss:0.222404 auc:0.6818\n",
      "epoch:  60 loss:0.211024 auc:0.7445\n",
      "epoch:  80 loss:0.205503 auc:0.7578\n",
      "epoch: 100 loss:0.199386 auc:0.7698\n",
      "epoch: 120 loss:0.194929 auc:0.7719\n",
      "epoch: 140 loss:0.192926 auc:0.7690\n",
      "epoch: 160 loss:0.191620 auc:0.7604\n",
      "epoch: 180 loss:0.190520 auc:0.7510\n",
      "epoch: 200 loss:0.190981 auc:0.7495\n"
     ]
    },
    {
     "name": "stderr",
     "output_type": "stream",
     "text": [
      "  7%|▋         | 22/331 [01:00<12:42,  2.47s/it]"
     ]
    },
    {
     "name": "stdout",
     "output_type": "stream",
     "text": [
      "epoch: 220 loss:0.188813 auc:0.7224\n",
      "Fit finished.\n",
      "epoch:   0 loss:0.708158 auc:0.5687\n",
      "epoch:  20 loss:0.283396 auc:0.4754\n",
      "epoch:  40 loss:0.225258 auc:0.5422\n",
      "epoch:  60 loss:0.212312 auc:0.6381\n",
      "epoch:  80 loss:0.207303 auc:0.6590\n",
      "epoch: 100 loss:0.202237 auc:0.6805\n",
      "epoch: 120 loss:0.195681 auc:0.7144\n",
      "epoch: 140 loss:0.192174 auc:0.7220\n",
      "epoch: 160 loss:0.190316 auc:0.7132\n",
      "epoch: 180 loss:0.189396 auc:0.6644\n",
      "epoch: 200 loss:0.187965 auc:0.6582\n"
     ]
    },
    {
     "name": "stderr",
     "output_type": "stream",
     "text": [
      "  7%|▋         | 23/331 [01:03<13:33,  2.64s/it]"
     ]
    },
    {
     "name": "stdout",
     "output_type": "stream",
     "text": [
      "epoch: 220 loss:0.187429 auc:0.4929\n",
      "Fit finished.\n",
      "epoch:   0 loss:0.571234 auc:0.4184\n",
      "epoch:  20 loss:0.278951 auc:0.5087\n",
      "epoch:  40 loss:0.225783 auc:0.5208\n",
      "epoch:  60 loss:0.212628 auc:0.7014\n",
      "epoch:  80 loss:0.206213 auc:0.7396\n",
      "epoch: 100 loss:0.199331 auc:0.7656\n",
      "epoch: 120 loss:0.194807 auc:0.7760\n",
      "epoch: 140 loss:0.192684 auc:0.7778\n",
      "epoch: 160 loss:0.191229 auc:0.7656\n",
      "epoch: 180 loss:0.190720 auc:0.7396\n",
      "epoch: 200 loss:0.189039 auc:0.6840\n"
     ]
    },
    {
     "name": "stderr",
     "output_type": "stream",
     "text": [
      "  8%|▊         | 25/331 [01:07<11:16,  2.21s/it]"
     ]
    },
    {
     "name": "stdout",
     "output_type": "stream",
     "text": [
      "epoch: 220 loss:0.188340 auc:0.6840\n",
      "Fit finished.\n",
      "epoch:   0 loss:0.684926 auc:0.5440\n",
      "epoch:  20 loss:0.317831 auc:0.5488\n",
      "epoch:  40 loss:0.238205 auc:0.5776\n",
      "epoch:  60 loss:0.219080 auc:0.5880\n",
      "epoch:  80 loss:0.211657 auc:0.5836\n",
      "epoch: 100 loss:0.207204 auc:0.5760\n",
      "epoch: 120 loss:0.202509 auc:0.5748\n",
      "epoch: 140 loss:0.197378 auc:0.5788\n",
      "epoch: 160 loss:0.194075 auc:0.5780\n",
      "epoch: 180 loss:0.192473 auc:0.5756\n"
     ]
    },
    {
     "name": "stderr",
     "output_type": "stream",
     "text": [
      "  8%|▊         | 26/331 [01:09<11:55,  2.34s/it]"
     ]
    },
    {
     "name": "stdout",
     "output_type": "stream",
     "text": [
      "epoch: 200 loss:0.191364 auc:0.5716\n",
      "Fit finished.\n",
      "epoch:   0 loss:0.889117 auc:0.4530\n",
      "epoch:  20 loss:0.321195 auc:0.4344\n",
      "epoch:  40 loss:0.240154 auc:0.3969\n",
      "epoch:  60 loss:0.218514 auc:0.5763\n",
      "epoch:  80 loss:0.210523 auc:0.6238\n",
      "epoch: 100 loss:0.205119 auc:0.6541\n",
      "epoch: 120 loss:0.199462 auc:0.6857\n",
      "epoch: 140 loss:0.195191 auc:0.6912\n",
      "epoch: 160 loss:0.193407 auc:0.6947\n",
      "epoch: 180 loss:0.192320 auc:0.7015\n",
      "epoch: 200 loss:0.191499 auc:0.7032\n",
      "epoch: 220 loss:0.190796 auc:0.7038\n",
      "epoch: 240 loss:0.190239 auc:0.7007\n",
      "epoch: 260 loss:0.189696 auc:0.6955\n"
     ]
    },
    {
     "name": "stderr",
     "output_type": "stream",
     "text": [
      "  8%|▊         | 27/331 [01:14<14:06,  2.78s/it]"
     ]
    },
    {
     "name": "stdout",
     "output_type": "stream",
     "text": [
      "epoch: 280 loss:0.190015 auc:0.6553\n",
      "Fit finished.\n",
      "epoch:   0 loss:0.769238 auc:0.4834\n",
      "epoch:  20 loss:0.297827 auc:0.4441\n",
      "epoch:  40 loss:0.228244 auc:0.4575\n",
      "epoch:  60 loss:0.213759 auc:0.5644\n",
      "epoch:  80 loss:0.207196 auc:0.5857\n",
      "epoch: 100 loss:0.201422 auc:0.6002\n",
      "epoch: 120 loss:0.195510 auc:0.6072\n",
      "epoch: 140 loss:0.192854 auc:0.6152\n",
      "epoch: 160 loss:0.191400 auc:0.6165\n",
      "epoch: 180 loss:0.190259 auc:0.6125\n",
      "epoch: 200 loss:0.191388 auc:0.6095\n",
      "epoch: 220 loss:0.188582 auc:0.5973\n"
     ]
    },
    {
     "name": "stderr",
     "output_type": "stream",
     "text": [
      "  8%|▊         | 28/331 [01:18<15:50,  3.14s/it]"
     ]
    },
    {
     "name": "stdout",
     "output_type": "stream",
     "text": [
      "epoch: 240 loss:0.187319 auc:0.5608\n",
      "Fit finished.\n",
      "epoch:   0 loss:0.931158 auc:0.4851\n",
      "epoch:  20 loss:0.332442 auc:0.5153\n",
      "epoch:  40 loss:0.247854 auc:0.4730\n",
      "epoch:  60 loss:0.218483 auc:0.5305\n",
      "epoch:  80 loss:0.208268 auc:0.5448\n",
      "epoch: 100 loss:0.202167 auc:0.5774\n",
      "epoch: 120 loss:0.196513 auc:0.6129\n",
      "epoch: 140 loss:0.193570 auc:0.6216\n",
      "epoch: 160 loss:0.192165 auc:0.6226\n",
      "epoch: 180 loss:0.191270 auc:0.6235\n",
      "epoch: 200 loss:0.190464 auc:0.6243\n",
      "epoch: 220 loss:0.189944 auc:0.6228\n",
      "epoch: 240 loss:0.189234 auc:0.6166\n",
      "epoch: 260 loss:0.188654 auc:0.6106\n"
     ]
    },
    {
     "name": "stderr",
     "output_type": "stream",
     "text": [
      "  9%|▉         | 29/331 [01:22<17:33,  3.49s/it]"
     ]
    },
    {
     "name": "stdout",
     "output_type": "stream",
     "text": [
      "epoch: 280 loss:0.189158 auc:0.6106\n",
      "Fit finished.\n",
      "epoch:   0 loss:0.652104 auc:0.4749\n",
      "epoch:  20 loss:0.254338 auc:0.5636\n",
      "epoch:  40 loss:0.216827 auc:0.7008\n",
      "epoch:  60 loss:0.207041 auc:0.7062\n",
      "epoch:  80 loss:0.200270 auc:0.7157\n",
      "epoch: 100 loss:0.195459 auc:0.7216\n",
      "epoch: 120 loss:0.193222 auc:0.7193\n",
      "epoch: 140 loss:0.191698 auc:0.7157\n",
      "epoch: 160 loss:0.191940 auc:0.7130\n",
      "epoch: 180 loss:0.189574 auc:0.6971\n"
     ]
    },
    {
     "name": "stderr",
     "output_type": "stream",
     "text": [
      "  9%|▉         | 31/331 [01:25<13:02,  2.61s/it]"
     ]
    },
    {
     "name": "stdout",
     "output_type": "stream",
     "text": [
      "epoch: 200 loss:0.188073 auc:0.6854\n",
      "Fit finished.\n",
      "epoch:   0 loss:1.408061 auc:0.5047\n",
      "epoch:  20 loss:0.314410 auc:0.4054\n",
      "epoch:  40 loss:0.238801 auc:0.4682\n",
      "epoch:  60 loss:0.218206 auc:0.5318\n",
      "epoch:  80 loss:0.210259 auc:0.5267\n",
      "epoch: 100 loss:0.204853 auc:0.5332\n",
      "epoch: 120 loss:0.199343 auc:0.5500\n",
      "epoch: 140 loss:0.195006 auc:0.5661\n",
      "epoch: 160 loss:0.193015 auc:0.5639\n",
      "epoch: 180 loss:0.191873 auc:0.5741\n",
      "epoch: 200 loss:0.191054 auc:0.5778\n",
      "epoch: 220 loss:0.190451 auc:0.5705\n",
      "epoch: 240 loss:0.189968 auc:0.5661\n",
      "epoch: 260 loss:0.189442 auc:0.5632\n"
     ]
    },
    {
     "name": "stderr",
     "output_type": "stream",
     "text": [
      " 10%|▉         | 32/331 [01:30<15:23,  3.09s/it]"
     ]
    },
    {
     "name": "stdout",
     "output_type": "stream",
     "text": [
      "epoch: 280 loss:0.189043 auc:0.5493\n",
      "Fit finished.\n",
      "epoch:   0 loss:0.689188 auc:0.3936\n",
      "epoch:  20 loss:0.324734 auc:0.6475\n",
      "epoch:  40 loss:0.247135 auc:0.5944\n",
      "epoch:  60 loss:0.219361 auc:0.7274\n",
      "epoch:  80 loss:0.210005 auc:0.7576\n",
      "epoch: 100 loss:0.204616 auc:0.7730\n",
      "epoch: 120 loss:0.199255 auc:0.8085\n",
      "epoch: 140 loss:0.195036 auc:0.8249\n",
      "epoch: 160 loss:0.193123 auc:0.8246\n",
      "epoch: 180 loss:0.191938 auc:0.8183\n",
      "epoch: 200 loss:0.190987 auc:0.8138\n",
      "epoch: 220 loss:0.190754 auc:0.8118\n",
      "epoch: 240 loss:0.189416 auc:0.8108\n",
      "epoch: 260 loss:0.188871 auc:0.8083\n"
     ]
    },
    {
     "name": "stderr",
     "output_type": "stream",
     "text": [
      " 10%|▉         | 33/331 [01:34<16:37,  3.35s/it]"
     ]
    },
    {
     "name": "stdout",
     "output_type": "stream",
     "text": [
      "epoch: 280 loss:0.187575 auc:0.7916\n",
      "Fit finished.\n",
      "epoch:   0 loss:0.642629 auc:0.5007\n",
      "epoch:  20 loss:0.271244 auc:0.4769\n",
      "epoch:  40 loss:0.220992 auc:0.5083\n",
      "epoch:  60 loss:0.209794 auc:0.6638\n",
      "epoch:  80 loss:0.203895 auc:0.6907\n",
      "epoch: 100 loss:0.197520 auc:0.7074\n",
      "epoch: 120 loss:0.193150 auc:0.7077\n",
      "epoch: 140 loss:0.191426 auc:0.7085\n",
      "epoch: 160 loss:0.189926 auc:0.6907\n",
      "epoch: 180 loss:0.188781 auc:0.6786\n",
      "epoch: 200 loss:0.187761 auc:0.6131\n"
     ]
    },
    {
     "name": "stderr",
     "output_type": "stream",
     "text": [
      " 10%|█         | 34/331 [01:37<16:52,  3.41s/it]"
     ]
    },
    {
     "name": "stdout",
     "output_type": "stream",
     "text": [
      "epoch: 220 loss:0.187581 auc:0.5903\n",
      "Fit finished.\n",
      "epoch:   0 loss:0.618109 auc:0.4541\n",
      "epoch:  20 loss:0.285290 auc:0.5168\n",
      "epoch:  40 loss:0.225082 auc:0.5785\n",
      "epoch:  60 loss:0.210456 auc:0.6570\n",
      "epoch:  80 loss:0.203538 auc:0.6757\n",
      "epoch: 100 loss:0.197257 auc:0.6966\n",
      "epoch: 120 loss:0.193510 auc:0.7077\n",
      "epoch: 140 loss:0.191610 auc:0.7147\n",
      "epoch: 160 loss:0.190310 auc:0.7157\n",
      "epoch: 180 loss:0.189326 auc:0.7111\n",
      "epoch: 200 loss:0.188371 auc:0.7000\n"
     ]
    },
    {
     "name": "stderr",
     "output_type": "stream",
     "text": [
      " 11%|█         | 35/331 [01:41<17:06,  3.47s/it]"
     ]
    },
    {
     "name": "stdout",
     "output_type": "stream",
     "text": [
      "epoch: 220 loss:0.189444 auc:0.6236\n",
      "Fit finished.\n",
      "epoch:   0 loss:0.773200 auc:0.5173\n",
      "epoch:  20 loss:0.312812 auc:0.5641\n",
      "epoch:  40 loss:0.234227 auc:0.6295\n",
      "epoch:  60 loss:0.214471 auc:0.6759\n",
      "epoch:  80 loss:0.206005 auc:0.6943\n",
      "epoch: 100 loss:0.199996 auc:0.7154\n",
      "epoch: 120 loss:0.195120 auc:0.7251\n",
      "epoch: 140 loss:0.192611 auc:0.7259\n",
      "epoch: 160 loss:0.191278 auc:0.7278\n",
      "epoch: 180 loss:0.190281 auc:0.7304\n",
      "epoch: 200 loss:0.189424 auc:0.7320\n",
      "epoch: 220 loss:0.188595 auc:0.7321\n",
      "epoch: 240 loss:0.189681 auc:0.7241\n",
      "epoch: 260 loss:0.187635 auc:0.7275\n"
     ]
    },
    {
     "name": "stderr",
     "output_type": "stream",
     "text": [
      " 11%|█         | 36/331 [01:45<18:14,  3.71s/it]"
     ]
    },
    {
     "name": "stdout",
     "output_type": "stream",
     "text": [
      "epoch: 280 loss:0.185920 auc:0.7088\n",
      "Fit finished.\n",
      "epoch:   0 loss:0.826061 auc:0.4888\n",
      "epoch:  20 loss:0.316162 auc:0.5056\n",
      "epoch:  40 loss:0.231844 auc:0.5519\n",
      "epoch:  60 loss:0.216296 auc:0.6287\n",
      "epoch:  80 loss:0.209663 auc:0.6426\n",
      "epoch: 100 loss:0.204888 auc:0.6507\n",
      "epoch: 120 loss:0.199256 auc:0.6711\n",
      "epoch: 140 loss:0.194493 auc:0.6852\n",
      "epoch: 160 loss:0.192679 auc:0.6854\n",
      "epoch: 180 loss:0.191460 auc:0.6838\n",
      "epoch: 200 loss:0.191007 auc:0.6821\n",
      "epoch: 220 loss:0.189329 auc:0.6709\n",
      "epoch: 240 loss:0.188447 auc:0.6626\n",
      "epoch: 260 loss:0.189232 auc:0.6615\n"
     ]
    },
    {
     "name": "stderr",
     "output_type": "stream",
     "text": [
      " 11%|█         | 37/331 [01:50<19:03,  3.89s/it]"
     ]
    },
    {
     "name": "stdout",
     "output_type": "stream",
     "text": [
      "epoch: 280 loss:0.186574 auc:0.5968\n",
      "Fit finished.\n",
      "epoch:   0 loss:0.730871 auc:0.7200\n",
      "epoch:  20 loss:0.288735 auc:0.7250\n",
      "epoch:  40 loss:0.225649 auc:0.6775\n",
      "epoch:  60 loss:0.213586 auc:0.6800\n",
      "epoch:  80 loss:0.207781 auc:0.6700\n",
      "epoch: 100 loss:0.202191 auc:0.6975\n",
      "epoch: 120 loss:0.196634 auc:0.7100\n",
      "epoch: 140 loss:0.194132 auc:0.7175\n",
      "epoch: 160 loss:0.192614 auc:0.7200\n",
      "epoch: 180 loss:0.192196 auc:0.7250\n",
      "epoch: 200 loss:0.190615 auc:0.7300\n",
      "epoch: 220 loss:0.191566 auc:0.7350\n",
      "epoch: 240 loss:0.189313 auc:0.6775\n"
     ]
    },
    {
     "name": "stderr",
     "output_type": "stream",
     "text": [
      " 11%|█▏        | 38/331 [01:54<19:39,  4.02s/it]"
     ]
    },
    {
     "name": "stdout",
     "output_type": "stream",
     "text": [
      "epoch: 260 loss:0.188176 auc:0.6600\n",
      "Fit finished.\n",
      "epoch:   0 loss:1.068944 auc:0.4782\n",
      "epoch:  20 loss:0.317938 auc:0.4385\n",
      "epoch:  40 loss:0.240057 auc:0.4465\n",
      "epoch:  60 loss:0.218145 auc:0.5342\n",
      "epoch:  80 loss:0.210281 auc:0.5718\n",
      "epoch: 100 loss:0.205276 auc:0.5725\n",
      "epoch: 120 loss:0.200212 auc:0.5850\n",
      "epoch: 140 loss:0.195544 auc:0.5889\n",
      "epoch: 160 loss:0.193182 auc:0.5954\n",
      "epoch: 180 loss:0.191906 auc:0.6037\n",
      "epoch: 200 loss:0.191011 auc:0.6069\n",
      "epoch: 220 loss:0.191568 auc:0.6100\n",
      "epoch: 240 loss:0.189927 auc:0.6007\n",
      "epoch: 260 loss:0.189339 auc:0.5982\n",
      "epoch: 280 loss:0.188847 auc:0.5934\n"
     ]
    },
    {
     "name": "stderr",
     "output_type": "stream",
     "text": [
      " 12%|█▏        | 39/331 [01:59<20:42,  4.26s/it]"
     ]
    },
    {
     "name": "stdout",
     "output_type": "stream",
     "text": [
      "epoch: 300 loss:0.188487 auc:0.5824\n",
      "Fit finished.\n",
      "epoch:   0 loss:0.533741 auc:0.4716\n",
      "epoch:  20 loss:0.270974 auc:0.4714\n",
      "epoch:  40 loss:0.216757 auc:0.4823\n",
      "epoch:  60 loss:0.205985 auc:0.5144\n",
      "epoch:  80 loss:0.198968 auc:0.5469\n",
      "epoch: 100 loss:0.193869 auc:0.5713\n",
      "epoch: 120 loss:0.191700 auc:0.5726\n",
      "epoch: 140 loss:0.190286 auc:0.5718\n",
      "epoch: 160 loss:0.190977 auc:0.5624\n",
      "epoch: 180 loss:0.188234 auc:0.5591\n",
      "epoch: 200 loss:0.186927 auc:0.5365\n"
     ]
    },
    {
     "name": "stderr",
     "output_type": "stream",
     "text": [
      " 12%|█▏        | 40/331 [02:02<19:28,  4.01s/it]"
     ]
    },
    {
     "name": "stdout",
     "output_type": "stream",
     "text": [
      "epoch: 220 loss:0.185528 auc:0.5056\n",
      "Fit finished.\n",
      "epoch:   0 loss:0.682999 auc:0.6010\n",
      "epoch:  20 loss:0.337212 auc:0.5310\n",
      "epoch:  40 loss:0.260472 auc:0.5781\n",
      "epoch:  60 loss:0.222627 auc:0.5948\n",
      "epoch:  80 loss:0.209408 auc:0.5968\n",
      "epoch: 100 loss:0.202313 auc:0.6122\n",
      "epoch: 120 loss:0.196753 auc:0.6277\n",
      "epoch: 140 loss:0.194053 auc:0.6339\n",
      "epoch: 160 loss:0.192672 auc:0.6352\n",
      "epoch: 180 loss:0.191679 auc:0.6281\n",
      "epoch: 200 loss:0.190875 auc:0.6222\n",
      "epoch: 220 loss:0.190235 auc:0.6210\n",
      "epoch: 240 loss:0.189783 auc:0.6172\n"
     ]
    },
    {
     "name": "stderr",
     "output_type": "stream",
     "text": [
      " 12%|█▏        | 41/331 [02:07<20:07,  4.16s/it]"
     ]
    },
    {
     "name": "stdout",
     "output_type": "stream",
     "text": [
      "epoch: 260 loss:0.188874 auc:0.6110\n",
      "Fit finished.\n",
      "epoch:   0 loss:0.659573 auc:0.6800\n",
      "epoch:  20 loss:0.293209 auc:0.6300\n",
      "epoch:  40 loss:0.225384 auc:0.6900\n",
      "epoch:  60 loss:0.211939 auc:0.6500\n",
      "epoch:  80 loss:0.205935 auc:0.6300\n",
      "epoch: 100 loss:0.200556 auc:0.6500\n",
      "epoch: 120 loss:0.196107 auc:0.7000\n",
      "epoch: 140 loss:0.193975 auc:0.6900\n",
      "epoch: 160 loss:0.192682 auc:0.7000\n",
      "epoch: 180 loss:0.192043 auc:0.6700\n"
     ]
    },
    {
     "name": "stderr",
     "output_type": "stream",
     "text": [
      " 13%|█▎        | 42/331 [02:09<17:48,  3.70s/it]"
     ]
    },
    {
     "name": "stdout",
     "output_type": "stream",
     "text": [
      "epoch: 200 loss:0.191091 auc:0.6800\n",
      "Fit finished.\n",
      "epoch:   0 loss:0.657459 auc:0.5070\n",
      "epoch:  20 loss:0.258753 auc:0.6488\n",
      "epoch:  40 loss:0.219521 auc:0.7268\n",
      "epoch:  60 loss:0.210586 auc:0.7400\n",
      "epoch:  80 loss:0.205877 auc:0.7453\n",
      "epoch: 100 loss:0.200708 auc:0.7517\n",
      "epoch: 120 loss:0.195503 auc:0.7604\n",
      "epoch: 140 loss:0.192865 auc:0.7668\n",
      "epoch: 160 loss:0.191188 auc:0.7706\n",
      "epoch: 180 loss:0.189627 auc:0.7704\n",
      "epoch: 200 loss:0.189101 auc:0.7724\n",
      "epoch: 220 loss:0.187057 auc:0.7661\n",
      "epoch: 240 loss:0.185345 auc:0.7513\n",
      "epoch: 260 loss:0.184353 auc:0.7885\n"
     ]
    },
    {
     "name": "stderr",
     "output_type": "stream",
     "text": [
      " 13%|█▎        | 43/331 [02:15<20:30,  4.27s/it]"
     ]
    },
    {
     "name": "stdout",
     "output_type": "stream",
     "text": [
      "epoch: 280 loss:0.180666 auc:0.7508\n",
      "Fit finished.\n",
      "epoch:   0 loss:1.295064 auc:0.5889\n",
      "epoch:  20 loss:0.330997 auc:0.4089\n",
      "epoch:  40 loss:0.253368 auc:0.3778\n",
      "epoch:  60 loss:0.220843 auc:0.6178\n",
      "epoch:  80 loss:0.209265 auc:0.6689\n",
      "epoch: 100 loss:0.203058 auc:0.6722\n",
      "epoch: 120 loss:0.198073 auc:0.6711\n",
      "epoch: 140 loss:0.195058 auc:0.6644\n",
      "epoch: 160 loss:0.193558 auc:0.6689\n",
      "epoch: 180 loss:0.192529 auc:0.6700\n",
      "epoch: 200 loss:0.191709 auc:0.6822\n",
      "epoch: 220 loss:0.190974 auc:0.6956\n",
      "epoch: 240 loss:0.190688 auc:0.7067\n",
      "epoch: 260 loss:0.189742 auc:0.7089\n",
      "epoch: 280 loss:0.190873 auc:0.7122\n",
      "epoch: 300 loss:0.188799 auc:0.7122\n",
      "epoch: 320 loss:0.187840 auc:0.7167\n",
      "epoch: 340 loss:0.186900 auc:0.6833\n"
     ]
    },
    {
     "name": "stderr",
     "output_type": "stream",
     "text": [
      " 13%|█▎        | 44/331 [02:20<21:25,  4.48s/it]"
     ]
    },
    {
     "name": "stdout",
     "output_type": "stream",
     "text": [
      "epoch: 360 loss:0.190157 auc:0.6800\n",
      "Fit finished.\n",
      "epoch:   0 loss:0.526403 auc:0.5339\n",
      "epoch:  20 loss:0.275913 auc:0.5229\n",
      "epoch:  40 loss:0.220294 auc:0.6439\n",
      "epoch:  60 loss:0.206325 auc:0.7117\n",
      "epoch:  80 loss:0.198085 auc:0.7469\n",
      "epoch: 100 loss:0.193467 auc:0.7511\n",
      "epoch: 120 loss:0.191679 auc:0.7506\n",
      "epoch: 140 loss:0.190139 auc:0.7499\n",
      "epoch: 160 loss:0.188982 auc:0.7329\n",
      "epoch: 180 loss:0.187874 auc:0.7005\n"
     ]
    },
    {
     "name": "stderr",
     "output_type": "stream",
     "text": [
      " 14%|█▎        | 45/331 [02:23<19:05,  4.00s/it]"
     ]
    },
    {
     "name": "stdout",
     "output_type": "stream",
     "text": [
      "epoch: 200 loss:0.189835 auc:0.5610\n",
      "Fit finished.\n",
      "epoch:   0 loss:0.779923 auc:0.6400\n",
      "epoch:  20 loss:0.324327 auc:0.6428\n",
      "epoch:  40 loss:0.238793 auc:0.7704\n",
      "epoch:  60 loss:0.218112 auc:0.8852\n",
      "epoch:  80 loss:0.209691 auc:0.8595\n",
      "epoch: 100 loss:0.204574 auc:0.8567\n",
      "epoch: 120 loss:0.199319 auc:0.8953\n",
      "epoch: 140 loss:0.195327 auc:0.8871\n",
      "epoch: 160 loss:0.193480 auc:0.8806\n",
      "epoch: 180 loss:0.192330 auc:0.8770\n",
      "epoch: 200 loss:0.191399 auc:0.8641\n"
     ]
    },
    {
     "name": "stderr",
     "output_type": "stream",
     "text": [
      " 15%|█▍        | 49/331 [02:26<09:08,  1.94s/it]"
     ]
    },
    {
     "name": "stdout",
     "output_type": "stream",
     "text": [
      "epoch: 220 loss:0.192699 auc:0.8577\n",
      "Fit finished.\n",
      "epoch:   0 loss:1.194559 auc:0.4099\n",
      "epoch:  20 loss:0.310952 auc:0.3506\n",
      "epoch:  40 loss:0.234045 auc:0.2612\n",
      "epoch:  60 loss:0.216673 auc:0.7985\n",
      "epoch:  80 loss:0.210101 auc:0.8163\n",
      "epoch: 100 loss:0.205627 auc:0.8198\n",
      "epoch: 120 loss:0.200991 auc:0.8277\n",
      "epoch: 140 loss:0.196529 auc:0.8267\n",
      "epoch: 160 loss:0.194077 auc:0.8227\n",
      "epoch: 180 loss:0.192748 auc:0.8291\n",
      "epoch: 200 loss:0.191790 auc:0.8262\n",
      "epoch: 220 loss:0.190981 auc:0.8257\n",
      "epoch: 240 loss:0.191472 auc:0.8296\n",
      "epoch: 260 loss:0.189677 auc:0.8291\n"
     ]
    },
    {
     "name": "stderr",
     "output_type": "stream",
     "text": [
      " 15%|█▌        | 51/331 [02:30<09:11,  1.97s/it]"
     ]
    },
    {
     "name": "stdout",
     "output_type": "stream",
     "text": [
      "epoch: 280 loss:0.188620 auc:0.8163\n",
      "Fit finished.\n",
      "epoch:   0 loss:0.725467 auc:0.5712\n",
      "epoch:  20 loss:0.309768 auc:0.6060\n",
      "epoch:  40 loss:0.228713 auc:0.5554\n",
      "epoch:  60 loss:0.213325 auc:0.6457\n",
      "epoch:  80 loss:0.207155 auc:0.6631\n",
      "epoch: 100 loss:0.202253 auc:0.6837\n",
      "epoch: 120 loss:0.196804 auc:0.7077\n",
      "epoch: 140 loss:0.193242 auc:0.7144\n",
      "epoch: 160 loss:0.191476 auc:0.7197\n",
      "epoch: 180 loss:0.190424 auc:0.7236\n",
      "epoch: 200 loss:0.189667 auc:0.7232\n",
      "epoch: 220 loss:0.188465 auc:0.7218\n",
      "epoch: 240 loss:0.187840 auc:0.6866\n"
     ]
    },
    {
     "name": "stderr",
     "output_type": "stream",
     "text": [
      " 16%|█▌        | 52/331 [02:34<10:40,  2.29s/it]"
     ]
    },
    {
     "name": "stdout",
     "output_type": "stream",
     "text": [
      "epoch: 260 loss:0.186372 auc:0.6556\n",
      "Fit finished.\n",
      "epoch:   0 loss:1.439661 auc:0.4660\n",
      "epoch:  20 loss:0.308649 auc:0.5885\n",
      "epoch:  40 loss:0.229502 auc:0.6049\n",
      "epoch:  60 loss:0.214810 auc:0.6352\n",
      "epoch:  80 loss:0.208410 auc:0.6499\n",
      "epoch: 100 loss:0.203785 auc:0.6705\n",
      "epoch: 120 loss:0.198622 auc:0.6952\n",
      "epoch: 140 loss:0.194226 auc:0.7012\n",
      "epoch: 160 loss:0.192198 auc:0.7060\n",
      "epoch: 180 loss:0.191005 auc:0.7131\n",
      "epoch: 200 loss:0.190809 auc:0.7166\n",
      "epoch: 220 loss:0.189301 auc:0.7194\n",
      "epoch: 240 loss:0.188699 auc:0.7165\n",
      "epoch: 260 loss:0.187969 auc:0.7146\n"
     ]
    },
    {
     "name": "stderr",
     "output_type": "stream",
     "text": [
      " 16%|█▌        | 53/331 [02:38<12:15,  2.65s/it]"
     ]
    },
    {
     "name": "stdout",
     "output_type": "stream",
     "text": [
      "epoch: 280 loss:0.187256 auc:0.6910\n",
      "Fit finished.\n",
      "epoch:   0 loss:0.929701 auc:0.5467\n",
      "epoch:  20 loss:0.328413 auc:0.5790\n",
      "epoch:  40 loss:0.245055 auc:0.5874\n",
      "epoch:  60 loss:0.218041 auc:0.5614\n",
      "epoch:  80 loss:0.207840 auc:0.5676\n",
      "epoch: 100 loss:0.201038 auc:0.5956\n",
      "epoch: 120 loss:0.195506 auc:0.6298\n",
      "epoch: 140 loss:0.193284 auc:0.6357\n",
      "epoch: 160 loss:0.191979 auc:0.6471\n",
      "epoch: 180 loss:0.191456 auc:0.6521\n",
      "epoch: 200 loss:0.190359 auc:0.6551\n",
      "epoch: 220 loss:0.189991 auc:0.6545\n",
      "epoch: 240 loss:0.189645 auc:0.6454\n",
      "epoch: 260 loss:0.189083 auc:0.6485\n"
     ]
    },
    {
     "name": "stderr",
     "output_type": "stream",
     "text": [
      " 16%|█▋        | 54/331 [02:42<13:51,  3.00s/it]"
     ]
    },
    {
     "name": "stdout",
     "output_type": "stream",
     "text": [
      "epoch: 280 loss:0.189770 auc:0.6237\n",
      "Fit finished.\n",
      "epoch:   0 loss:1.034580 auc:0.5544\n",
      "epoch:  20 loss:0.335599 auc:0.4799\n",
      "epoch:  40 loss:0.249613 auc:0.3966\n",
      "epoch:  60 loss:0.220693 auc:0.6676\n",
      "epoch:  80 loss:0.211900 auc:0.8167\n",
      "epoch: 100 loss:0.206873 auc:0.8327\n",
      "epoch: 120 loss:0.202086 auc:0.8335\n",
      "epoch: 140 loss:0.197082 auc:0.8269\n",
      "epoch: 160 loss:0.194393 auc:0.8210\n",
      "epoch: 180 loss:0.193046 auc:0.8181\n",
      "epoch: 200 loss:0.192085 auc:0.8145\n",
      "epoch: 220 loss:0.191265 auc:0.8152\n",
      "epoch: 240 loss:0.190977 auc:0.8174\n"
     ]
    },
    {
     "name": "stderr",
     "output_type": "stream",
     "text": [
      " 17%|█▋        | 55/331 [02:46<15:23,  3.35s/it]"
     ]
    },
    {
     "name": "stdout",
     "output_type": "stream",
     "text": [
      "epoch: 260 loss:0.190016 auc:0.8123\n",
      "Fit finished.\n",
      "epoch:   0 loss:0.760775 auc:0.6401\n",
      "epoch:  20 loss:0.251202 auc:0.6341\n",
      "epoch:  40 loss:0.216600 auc:0.6635\n",
      "epoch:  60 loss:0.207131 auc:0.6946\n",
      "epoch:  80 loss:0.200026 auc:0.7439\n",
      "epoch: 100 loss:0.194841 auc:0.7768\n",
      "epoch: 120 loss:0.192802 auc:0.7794\n",
      "epoch: 140 loss:0.192361 auc:0.7760\n",
      "epoch: 160 loss:0.190882 auc:0.7690\n",
      "epoch: 180 loss:0.189636 auc:0.7587\n",
      "epoch: 200 loss:0.186985 auc:0.7422\n",
      "epoch: 220 loss:0.184469 auc:0.7223\n"
     ]
    },
    {
     "name": "stderr",
     "output_type": "stream",
     "text": [
      " 18%|█▊        | 59/331 [02:50<08:47,  1.94s/it]"
     ]
    },
    {
     "name": "stdout",
     "output_type": "stream",
     "text": [
      "epoch: 240 loss:0.186086 auc:0.6592\n",
      "Fit finished.\n",
      "epoch:   0 loss:0.898277 auc:0.4043\n",
      "epoch:  20 loss:0.313973 auc:0.4899\n",
      "epoch:  40 loss:0.235768 auc:0.4215\n",
      "epoch:  60 loss:0.215500 auc:0.5432\n",
      "epoch:  80 loss:0.207298 auc:0.5620\n",
      "epoch: 100 loss:0.201735 auc:0.5918\n",
      "epoch: 120 loss:0.196719 auc:0.6169\n",
      "epoch: 140 loss:0.193812 auc:0.6272\n",
      "epoch: 160 loss:0.192404 auc:0.6348\n",
      "epoch: 180 loss:0.191468 auc:0.6322\n",
      "epoch: 200 loss:0.190715 auc:0.6315\n",
      "epoch: 220 loss:0.190024 auc:0.6272\n",
      "epoch: 240 loss:0.189789 auc:0.6267\n",
      "epoch: 260 loss:0.188867 auc:0.6185\n"
     ]
    },
    {
     "name": "stderr",
     "output_type": "stream",
     "text": [
      " 18%|█▊        | 60/331 [02:54<10:43,  2.37s/it]"
     ]
    },
    {
     "name": "stdout",
     "output_type": "stream",
     "text": [
      "epoch: 280 loss:0.189901 auc:0.6095\n",
      "Fit finished.\n",
      "epoch:   0 loss:0.879487 auc:0.4971\n",
      "epoch:  20 loss:0.310238 auc:0.5597\n",
      "epoch:  40 loss:0.231912 auc:0.5939\n",
      "epoch:  60 loss:0.215093 auc:0.5998\n",
      "epoch:  80 loss:0.207348 auc:0.6057\n",
      "epoch: 100 loss:0.201733 auc:0.6187\n",
      "epoch: 120 loss:0.196196 auc:0.6287\n",
      "epoch: 140 loss:0.193005 auc:0.6302\n",
      "epoch: 160 loss:0.191428 auc:0.6303\n",
      "epoch: 180 loss:0.190404 auc:0.6305\n",
      "epoch: 200 loss:0.189681 auc:0.6318\n",
      "epoch: 220 loss:0.188813 auc:0.6297\n"
     ]
    },
    {
     "name": "stderr",
     "output_type": "stream",
     "text": [
      " 18%|█▊        | 61/331 [02:58<11:44,  2.61s/it]"
     ]
    },
    {
     "name": "stdout",
     "output_type": "stream",
     "text": [
      "epoch: 240 loss:0.196031 auc:0.5949\n",
      "Fit finished.\n",
      "epoch:   0 loss:0.567068 auc:0.5412\n",
      "epoch:  20 loss:0.253938 auc:0.6510\n",
      "epoch:  40 loss:0.217746 auc:0.7979\n",
      "epoch:  60 loss:0.208773 auc:0.8700\n",
      "epoch:  80 loss:0.202077 auc:0.8887\n",
      "epoch: 100 loss:0.195741 auc:0.8996\n",
      "epoch: 120 loss:0.192924 auc:0.9069\n",
      "epoch: 140 loss:0.191763 auc:0.9058\n",
      "epoch: 160 loss:0.190784 auc:0.9111\n",
      "epoch: 180 loss:0.189173 auc:0.9079\n",
      "epoch: 200 loss:0.191556 auc:0.8844\n",
      "epoch: 220 loss:0.185941 auc:0.8883\n"
     ]
    },
    {
     "name": "stderr",
     "output_type": "stream",
     "text": [
      " 19%|█▉        | 63/331 [03:02<10:20,  2.32s/it]"
     ]
    },
    {
     "name": "stdout",
     "output_type": "stream",
     "text": [
      "epoch: 240 loss:0.186726 auc:0.8868\n",
      "Fit finished.\n",
      "epoch:   0 loss:0.521715 auc:0.4156\n",
      "epoch:  20 loss:0.249561 auc:0.5652\n",
      "epoch:  40 loss:0.218424 auc:0.7901\n",
      "epoch:  60 loss:0.209948 auc:0.8134\n",
      "epoch:  80 loss:0.204006 auc:0.8162\n",
      "epoch: 100 loss:0.197219 auc:0.8230\n",
      "epoch: 120 loss:0.193942 auc:0.8354\n",
      "epoch: 140 loss:0.191963 auc:0.8422\n",
      "epoch: 160 loss:0.190677 auc:0.8464\n",
      "epoch: 180 loss:0.191109 auc:0.8532\n",
      "epoch: 200 loss:0.189257 auc:0.8368\n",
      "epoch: 220 loss:0.186707 auc:0.8162\n"
     ]
    },
    {
     "name": "stderr",
     "output_type": "stream",
     "text": [
      " 19%|█▉        | 64/331 [03:05<11:18,  2.54s/it]"
     ]
    },
    {
     "name": "stdout",
     "output_type": "stream",
     "text": [
      "epoch: 240 loss:0.184822 auc:0.8066\n",
      "Fit finished.\n",
      "epoch:   0 loss:0.942083 auc:0.4860\n",
      "epoch:  20 loss:0.280430 auc:0.4637\n",
      "epoch:  40 loss:0.221600 auc:0.5858\n",
      "epoch:  60 loss:0.210157 auc:0.6512\n",
      "epoch:  80 loss:0.204140 auc:0.6811\n",
      "epoch: 100 loss:0.197646 auc:0.7257\n",
      "epoch: 120 loss:0.193794 auc:0.7422\n",
      "epoch: 140 loss:0.191370 auc:0.7424\n",
      "epoch: 160 loss:0.190366 auc:0.7366\n",
      "epoch: 180 loss:0.188687 auc:0.7355\n",
      "epoch: 200 loss:0.189810 auc:0.7179\n",
      "epoch: 220 loss:0.186977 auc:0.6750\n"
     ]
    },
    {
     "name": "stderr",
     "output_type": "stream",
     "text": [
      " 20%|█▉        | 65/331 [03:09<12:37,  2.85s/it]"
     ]
    },
    {
     "name": "stdout",
     "output_type": "stream",
     "text": [
      "epoch: 240 loss:0.186293 auc:0.6082\n",
      "Fit finished.\n",
      "epoch:   0 loss:1.128217 auc:0.4181\n",
      "epoch:  20 loss:0.309006 auc:0.4888\n",
      "epoch:  40 loss:0.231145 auc:0.4081\n",
      "epoch:  60 loss:0.215140 auc:0.6680\n",
      "epoch:  80 loss:0.208351 auc:0.6867\n",
      "epoch: 100 loss:0.203593 auc:0.6934\n",
      "epoch: 120 loss:0.198516 auc:0.6937\n",
      "epoch: 140 loss:0.194309 auc:0.6833\n",
      "epoch: 160 loss:0.192258 auc:0.6834\n",
      "epoch: 180 loss:0.190991 auc:0.6886\n",
      "epoch: 200 loss:0.191103 auc:0.6932\n",
      "epoch: 220 loss:0.189438 auc:0.6964\n",
      "epoch: 240 loss:0.188739 auc:0.6989\n",
      "epoch: 260 loss:0.188055 auc:0.6937\n"
     ]
    },
    {
     "name": "stderr",
     "output_type": "stream",
     "text": [
      " 21%|██        | 69/331 [03:13<07:56,  1.82s/it]"
     ]
    },
    {
     "name": "stdout",
     "output_type": "stream",
     "text": [
      "epoch: 280 loss:0.187721 auc:0.6711\n",
      "Fit finished.\n",
      "epoch:   0 loss:0.616376 auc:0.4500\n",
      "epoch:  20 loss:0.321176 auc:0.4786\n",
      "epoch:  40 loss:0.236074 auc:0.5533\n",
      "epoch:  60 loss:0.215844 auc:0.5868\n",
      "epoch:  80 loss:0.208101 auc:0.5976\n",
      "epoch: 100 loss:0.202109 auc:0.6198\n",
      "epoch: 120 loss:0.196011 auc:0.6428\n",
      "epoch: 140 loss:0.193027 auc:0.6546\n",
      "epoch: 160 loss:0.191594 auc:0.6621\n",
      "epoch: 180 loss:0.190631 auc:0.6689\n",
      "epoch: 200 loss:0.190515 auc:0.6728\n",
      "epoch: 220 loss:0.189666 auc:0.6708\n",
      "epoch: 240 loss:0.188790 auc:0.6788\n",
      "epoch: 260 loss:0.187975 auc:0.6572\n"
     ]
    },
    {
     "name": "stderr",
     "output_type": "stream",
     "text": [
      " 21%|██        | 70/331 [03:17<09:35,  2.21s/it]"
     ]
    },
    {
     "name": "stdout",
     "output_type": "stream",
     "text": [
      "epoch: 280 loss:0.187343 auc:0.6048\n",
      "Fit finished.\n",
      "epoch:   0 loss:0.631491 auc:0.4653\n",
      "epoch:  20 loss:0.278618 auc:0.5449\n",
      "epoch:  40 loss:0.223421 auc:0.5675\n",
      "epoch:  60 loss:0.210210 auc:0.5817\n",
      "epoch:  80 loss:0.203609 auc:0.5857\n",
      "epoch: 100 loss:0.197021 auc:0.5997\n",
      "epoch: 120 loss:0.193275 auc:0.6083\n",
      "epoch: 140 loss:0.191468 auc:0.6147\n",
      "epoch: 160 loss:0.190123 auc:0.6149\n",
      "epoch: 180 loss:0.190579 auc:0.6015\n",
      "epoch: 200 loss:0.188005 auc:0.6027\n",
      "epoch: 220 loss:0.189454 auc:0.5952\n"
     ]
    },
    {
     "name": "stderr",
     "output_type": "stream",
     "text": [
      " 21%|██▏       | 71/331 [03:21<10:45,  2.48s/it]"
     ]
    },
    {
     "name": "stdout",
     "output_type": "stream",
     "text": [
      "epoch: 240 loss:0.184980 auc:0.5383\n",
      "Fit finished.\n",
      "Target 71 skipped: Validation set has only one class.\n",
      "epoch:   0 loss:0.694496 auc:0.5254\n",
      "epoch:  20 loss:0.306801 auc:0.6438\n",
      "epoch:  40 loss:0.228150 auc:0.7072\n",
      "epoch:  60 loss:0.212009 auc:0.7446\n",
      "epoch:  80 loss:0.205163 auc:0.7583\n",
      "epoch: 100 loss:0.199116 auc:0.7960\n",
      "epoch: 120 loss:0.194634 auc:0.8116\n",
      "epoch: 140 loss:0.192729 auc:0.8150\n",
      "epoch: 160 loss:0.191493 auc:0.8233\n",
      "epoch: 180 loss:0.192217 auc:0.8235\n",
      "epoch: 200 loss:0.190034 auc:0.8230\n",
      "epoch: 220 loss:0.189156 auc:0.8212\n",
      "epoch: 240 loss:0.191185 auc:0.8046\n"
     ]
    },
    {
     "name": "stderr",
     "output_type": "stream",
     "text": [
      " 22%|██▏       | 73/331 [03:25<10:23,  2.42s/it]"
     ]
    },
    {
     "name": "stdout",
     "output_type": "stream",
     "text": [
      "epoch: 260 loss:0.187652 auc:0.7900\n",
      "Fit finished.\n",
      "Target 74 skipped: Validation set has only one class.\n",
      "epoch:   0 loss:0.519510 auc:0.5069\n",
      "epoch:  20 loss:0.260368 auc:0.4187\n",
      "epoch:  40 loss:0.218356 auc:0.5546\n",
      "epoch:  60 loss:0.208606 auc:0.6657\n",
      "epoch:  80 loss:0.200987 auc:0.6768\n",
      "epoch: 100 loss:0.195088 auc:0.6694\n",
      "epoch: 120 loss:0.193054 auc:0.6465\n",
      "epoch: 140 loss:0.193360 auc:0.6345\n",
      "epoch: 160 loss:0.190658 auc:0.6290\n",
      "epoch: 180 loss:0.190988 auc:0.6244\n",
      "epoch: 200 loss:0.188435 auc:0.6116\n"
     ]
    },
    {
     "name": "stderr",
     "output_type": "stream",
     "text": [
      " 23%|██▎       | 77/331 [03:30<07:29,  1.77s/it]"
     ]
    },
    {
     "name": "stdout",
     "output_type": "stream",
     "text": [
      "epoch: 220 loss:0.187904 auc:0.6373\n",
      "Fit finished.\n",
      "epoch:   0 loss:0.780687 auc:0.5500\n",
      "epoch:  20 loss:0.250687 auc:0.6203\n",
      "epoch:  40 loss:0.215374 auc:0.6729\n",
      "epoch:  60 loss:0.205538 auc:0.6998\n",
      "epoch:  80 loss:0.197392 auc:0.7498\n",
      "epoch: 100 loss:0.192817 auc:0.7705\n",
      "epoch: 120 loss:0.191219 auc:0.7695\n",
      "epoch: 140 loss:0.190953 auc:0.7731\n",
      "epoch: 160 loss:0.189409 auc:0.7678\n",
      "epoch: 180 loss:0.204158 auc:0.7560\n",
      "epoch: 200 loss:0.189225 auc:0.7594\n",
      "epoch: 220 loss:0.186241 auc:0.7085\n"
     ]
    },
    {
     "name": "stderr",
     "output_type": "stream",
     "text": [
      " 24%|██▎       | 78/331 [03:34<08:57,  2.12s/it]"
     ]
    },
    {
     "name": "stdout",
     "output_type": "stream",
     "text": [
      "epoch: 240 loss:0.184524 auc:0.7193\n",
      "Fit finished.\n",
      "epoch:   0 loss:0.720023 auc:0.4678\n",
      "epoch:  20 loss:0.301421 auc:0.4865\n",
      "epoch:  40 loss:0.235128 auc:0.5183\n",
      "epoch:  60 loss:0.217027 auc:0.6702\n",
      "epoch:  80 loss:0.209175 auc:0.7006\n",
      "epoch: 100 loss:0.203562 auc:0.7107\n",
      "epoch: 120 loss:0.198210 auc:0.7170\n",
      "epoch: 140 loss:0.194814 auc:0.7215\n",
      "epoch: 160 loss:0.193129 auc:0.7290\n",
      "epoch: 180 loss:0.191946 auc:0.7319\n",
      "epoch: 200 loss:0.190974 auc:0.7324\n",
      "epoch: 220 loss:0.190459 auc:0.7233\n",
      "epoch: 240 loss:0.189218 auc:0.7148\n"
     ]
    },
    {
     "name": "stderr",
     "output_type": "stream",
     "text": [
      " 24%|██▍       | 81/331 [03:38<07:41,  1.85s/it]"
     ]
    },
    {
     "name": "stdout",
     "output_type": "stream",
     "text": [
      "epoch: 260 loss:0.189506 auc:0.6842\n",
      "Fit finished.\n",
      "epoch:   0 loss:0.857513 auc:0.5275\n",
      "epoch:  20 loss:0.317099 auc:0.4755\n",
      "epoch:  40 loss:0.231466 auc:0.4080\n",
      "epoch:  60 loss:0.215989 auc:0.6343\n",
      "epoch:  80 loss:0.208530 auc:0.6666\n",
      "epoch: 100 loss:0.203048 auc:0.6820\n",
      "epoch: 120 loss:0.196412 auc:0.7005\n",
      "epoch: 140 loss:0.192595 auc:0.7030\n",
      "epoch: 160 loss:0.190956 auc:0.7012\n",
      "epoch: 180 loss:0.189919 auc:0.6982\n",
      "epoch: 200 loss:0.189022 auc:0.6844\n"
     ]
    },
    {
     "name": "stderr",
     "output_type": "stream",
     "text": [
      " 25%|██▍       | 82/331 [03:42<08:35,  2.07s/it]"
     ]
    },
    {
     "name": "stdout",
     "output_type": "stream",
     "text": [
      "epoch: 220 loss:0.190128 auc:0.6230\n",
      "Fit finished.\n",
      "epoch:   0 loss:0.805381 auc:0.5114\n",
      "epoch:  20 loss:0.296695 auc:0.4415\n",
      "epoch:  40 loss:0.227322 auc:0.4200\n",
      "epoch:  60 loss:0.212729 auc:0.6124\n",
      "epoch:  80 loss:0.206845 auc:0.6305\n",
      "epoch: 100 loss:0.201329 auc:0.6582\n",
      "epoch: 120 loss:0.195516 auc:0.6671\n",
      "epoch: 140 loss:0.193206 auc:0.6602\n",
      "epoch: 160 loss:0.191728 auc:0.6528\n",
      "epoch: 180 loss:0.190788 auc:0.6435\n",
      "epoch: 200 loss:0.189714 auc:0.6242\n"
     ]
    },
    {
     "name": "stderr",
     "output_type": "stream",
     "text": [
      " 25%|██▌       | 84/331 [03:45<08:04,  1.96s/it]"
     ]
    },
    {
     "name": "stdout",
     "output_type": "stream",
     "text": [
      "epoch: 220 loss:0.189538 auc:0.5999\n",
      "Fit finished.\n",
      "epoch:   0 loss:0.786164 auc:0.4191\n",
      "epoch:  20 loss:0.317720 auc:0.5565\n",
      "epoch:  40 loss:0.237554 auc:0.5944\n",
      "epoch:  60 loss:0.215606 auc:0.6220\n",
      "epoch:  80 loss:0.206496 auc:0.6284\n",
      "epoch: 100 loss:0.199101 auc:0.6679\n",
      "epoch: 120 loss:0.194710 auc:0.6836\n",
      "epoch: 140 loss:0.192762 auc:0.6858\n",
      "epoch: 160 loss:0.191842 auc:0.6869\n",
      "epoch: 180 loss:0.190826 auc:0.6863\n",
      "epoch: 200 loss:0.190298 auc:0.6814\n",
      "epoch: 220 loss:0.189691 auc:0.6696\n",
      "epoch: 240 loss:0.188679 auc:0.6312\n"
     ]
    },
    {
     "name": "stderr",
     "output_type": "stream",
     "text": [
      " 26%|██▋       | 87/331 [03:49<06:48,  1.67s/it]"
     ]
    },
    {
     "name": "stdout",
     "output_type": "stream",
     "text": [
      "epoch: 260 loss:0.187073 auc:0.6117\n",
      "Fit finished.\n",
      "epoch:   0 loss:1.259640 auc:0.4786\n",
      "epoch:  20 loss:0.334185 auc:0.5407\n",
      "epoch:  40 loss:0.256953 auc:0.6334\n",
      "epoch:  60 loss:0.222712 auc:0.6813\n",
      "epoch:  80 loss:0.210941 auc:0.7014\n",
      "epoch: 100 loss:0.204965 auc:0.7081\n",
      "epoch: 120 loss:0.199768 auc:0.7170\n",
      "epoch: 140 loss:0.195827 auc:0.7138\n",
      "epoch: 160 loss:0.193772 auc:0.7197\n",
      "epoch: 180 loss:0.192532 auc:0.7210\n",
      "epoch: 200 loss:0.191608 auc:0.7202\n",
      "epoch: 220 loss:0.190814 auc:0.7178\n",
      "epoch: 240 loss:0.190509 auc:0.7197\n"
     ]
    },
    {
     "name": "stderr",
     "output_type": "stream",
     "text": [
      " 27%|██▋       | 88/331 [03:52<08:03,  1.99s/it]"
     ]
    },
    {
     "name": "stdout",
     "output_type": "stream",
     "text": [
      "epoch: 260 loss:0.189538 auc:0.7065\n",
      "Fit finished.\n",
      "epoch:   0 loss:0.653045 auc:0.3333\n",
      "epoch:  20 loss:0.276106 auc:0.1244\n",
      "epoch:  40 loss:0.222332 auc:0.8044\n",
      "epoch:  60 loss:0.209241 auc:0.9244\n",
      "epoch:  80 loss:0.202430 auc:0.9556\n",
      "epoch: 100 loss:0.196489 auc:0.9956\n",
      "epoch: 120 loss:0.193863 auc:1.0000\n",
      "epoch: 140 loss:0.193465 auc:1.0000\n",
      "epoch: 160 loss:0.190933 auc:1.0000\n",
      "epoch: 180 loss:0.190207 auc:1.0000\n",
      "epoch: 200 loss:0.188348 auc:1.0000\n",
      "epoch: 220 loss:0.189082 auc:1.0000\n",
      "epoch: 240 loss:0.185703 auc:1.0000\n",
      "epoch: 260 loss:0.183087 auc:1.0000\n",
      "epoch: 280 loss:0.195109 auc:1.0000\n",
      "epoch: 300 loss:0.184317 auc:1.0000\n",
      "epoch: 320 loss:0.180470 auc:1.0000\n",
      "epoch: 340 loss:0.177073 auc:1.0000\n",
      "epoch: 360 loss:0.174277 auc:1.0000\n",
      "epoch: 380 loss:0.180609 auc:1.0000\n",
      "epoch: 400 loss:0.171837 auc:1.0000\n",
      "epoch: 420 loss:0.168993 auc:1.0000\n",
      "epoch: 440 loss:0.167796 auc:1.0000\n"
     ]
    },
    {
     "name": "stderr",
     "output_type": "stream",
     "text": [
      " 27%|██▋       | 90/331 [03:58<09:17,  2.32s/it]"
     ]
    },
    {
     "name": "stdout",
     "output_type": "stream",
     "text": [
      "epoch: 460 loss:0.169358 auc:0.9644\n",
      "Fit finished.\n",
      "epoch:   0 loss:1.448862 auc:0.3244\n",
      "epoch:  20 loss:0.315100 auc:0.6044\n",
      "epoch:  40 loss:0.238626 auc:0.4889\n",
      "epoch:  60 loss:0.216010 auc:0.8889\n",
      "epoch:  80 loss:0.206603 auc:0.8933\n",
      "epoch: 100 loss:0.199940 auc:0.8889\n",
      "epoch: 120 loss:0.195468 auc:0.8622\n",
      "epoch: 140 loss:0.193502 auc:0.8533\n",
      "epoch: 160 loss:0.192661 auc:0.8533\n",
      "epoch: 180 loss:0.191346 auc:0.8533\n",
      "epoch: 200 loss:0.194264 auc:0.8533\n"
     ]
    },
    {
     "name": "stderr",
     "output_type": "stream",
     "text": [
      " 28%|██▊       | 93/331 [04:02<07:08,  1.80s/it]"
     ]
    },
    {
     "name": "stdout",
     "output_type": "stream",
     "text": [
      "epoch: 220 loss:0.190562 auc:0.8622\n",
      "Fit finished.\n",
      "epoch:   0 loss:1.264871 auc:0.5328\n",
      "epoch:  20 loss:0.332723 auc:0.5250\n",
      "epoch:  40 loss:0.249322 auc:0.5594\n",
      "epoch:  60 loss:0.217941 auc:0.6285\n",
      "epoch:  80 loss:0.207181 auc:0.6536\n",
      "epoch: 100 loss:0.200982 auc:0.6869\n",
      "epoch: 120 loss:0.195689 auc:0.7227\n",
      "epoch: 140 loss:0.192991 auc:0.7292\n",
      "epoch: 160 loss:0.191661 auc:0.7301\n",
      "epoch: 180 loss:0.190686 auc:0.7307\n",
      "epoch: 200 loss:0.190429 auc:0.7315\n",
      "epoch: 220 loss:0.189221 auc:0.7087\n",
      "epoch: 240 loss:0.189433 auc:0.6977\n"
     ]
    },
    {
     "name": "stderr",
     "output_type": "stream",
     "text": [
      " 28%|██▊       | 94/331 [04:05<08:26,  2.14s/it]"
     ]
    },
    {
     "name": "stdout",
     "output_type": "stream",
     "text": [
      "epoch: 260 loss:0.188096 auc:0.6099\n",
      "Fit finished.\n",
      "epoch:   0 loss:1.010462 auc:0.3904\n",
      "epoch:  20 loss:0.335444 auc:0.6850\n",
      "epoch:  40 loss:0.247103 auc:0.6569\n",
      "epoch:  60 loss:0.218650 auc:0.7469\n",
      "epoch:  80 loss:0.208980 auc:0.7695\n",
      "epoch: 100 loss:0.202843 auc:0.7958\n",
      "epoch: 120 loss:0.197234 auc:0.8241\n",
      "epoch: 140 loss:0.194133 auc:0.8346\n",
      "epoch: 160 loss:0.192564 auc:0.8342\n",
      "epoch: 180 loss:0.191594 auc:0.8373\n",
      "epoch: 200 loss:0.190684 auc:0.8373\n",
      "epoch: 220 loss:0.189984 auc:0.8398\n",
      "epoch: 240 loss:0.189744 auc:0.8402\n",
      "epoch: 260 loss:0.188647 auc:0.8353\n",
      "epoch: 280 loss:0.187720 auc:0.8371\n"
     ]
    },
    {
     "name": "stderr",
     "output_type": "stream",
     "text": [
      " 29%|██▊       | 95/331 [04:10<09:51,  2.50s/it]"
     ]
    },
    {
     "name": "stdout",
     "output_type": "stream",
     "text": [
      "epoch: 300 loss:0.186602 auc:0.8161\n",
      "Fit finished.\n",
      "epoch:   0 loss:0.874460 auc:0.4757\n",
      "epoch:  20 loss:0.322301 auc:0.7014\n",
      "epoch:  40 loss:0.237323 auc:0.3837\n",
      "epoch:  60 loss:0.217679 auc:0.8385\n",
      "epoch:  80 loss:0.209981 auc:0.8333\n",
      "epoch: 100 loss:0.205296 auc:0.8316\n",
      "epoch: 120 loss:0.200119 auc:0.8420\n",
      "epoch: 140 loss:0.195382 auc:0.8490\n",
      "epoch: 160 loss:0.193335 auc:0.8785\n",
      "epoch: 180 loss:0.192298 auc:0.8733\n",
      "epoch: 200 loss:0.191346 auc:0.8733\n",
      "epoch: 220 loss:0.192351 auc:0.8663\n",
      "epoch: 240 loss:0.190519 auc:0.8698\n",
      "epoch: 260 loss:0.189528 auc:0.8594\n",
      "epoch: 280 loss:0.188892 auc:0.8542\n"
     ]
    },
    {
     "name": "stderr",
     "output_type": "stream",
     "text": [
      " 29%|██▉       | 96/331 [04:14<11:24,  2.91s/it]"
     ]
    },
    {
     "name": "stdout",
     "output_type": "stream",
     "text": [
      "epoch: 300 loss:0.187948 auc:0.8455\n",
      "Fit finished.\n",
      "epoch:   0 loss:0.805878 auc:0.5582\n",
      "epoch:  20 loss:0.311111 auc:0.4264\n",
      "epoch:  40 loss:0.234164 auc:0.3291\n",
      "epoch:  60 loss:0.215350 auc:0.6265\n",
      "epoch:  80 loss:0.207528 auc:0.7026\n",
      "epoch: 100 loss:0.201475 auc:0.7578\n",
      "epoch: 120 loss:0.196167 auc:0.7637\n",
      "epoch: 140 loss:0.193583 auc:0.7533\n",
      "epoch: 160 loss:0.192264 auc:0.7488\n",
      "epoch: 180 loss:0.191452 auc:0.7533\n",
      "epoch: 200 loss:0.190931 auc:0.7469\n",
      "epoch: 220 loss:0.190112 auc:0.7456\n",
      "epoch: 240 loss:0.189583 auc:0.7406\n"
     ]
    },
    {
     "name": "stderr",
     "output_type": "stream",
     "text": [
      " 29%|██▉       | 97/331 [04:18<12:16,  3.15s/it]"
     ]
    },
    {
     "name": "stdout",
     "output_type": "stream",
     "text": [
      "epoch: 260 loss:0.190938 auc:0.7035\n",
      "Fit finished.\n",
      "epoch:   0 loss:0.824132 auc:0.5543\n",
      "epoch:  20 loss:0.296273 auc:0.5903\n",
      "epoch:  40 loss:0.228836 auc:0.5454\n",
      "epoch:  60 loss:0.213974 auc:0.6257\n",
      "epoch:  80 loss:0.207001 auc:0.6389\n",
      "epoch: 100 loss:0.201276 auc:0.6692\n",
      "epoch: 120 loss:0.196158 auc:0.6843\n",
      "epoch: 140 loss:0.193720 auc:0.6990\n",
      "epoch: 160 loss:0.192442 auc:0.7032\n",
      "epoch: 180 loss:0.191530 auc:0.7084\n",
      "epoch: 200 loss:0.192055 auc:0.7155\n",
      "epoch: 220 loss:0.190362 auc:0.7164\n",
      "epoch: 240 loss:0.189865 auc:0.7164\n",
      "epoch: 260 loss:0.189300 auc:0.7164\n",
      "epoch: 280 loss:0.188927 auc:0.7179\n"
     ]
    },
    {
     "name": "stderr",
     "output_type": "stream",
     "text": [
      " 30%|██▉       | 99/331 [04:23<10:56,  2.83s/it]"
     ]
    },
    {
     "name": "stdout",
     "output_type": "stream",
     "text": [
      "epoch: 300 loss:0.188613 auc:0.6621\n",
      "Fit finished.\n",
      "epoch:   0 loss:0.907959 auc:0.7111\n",
      "epoch:  20 loss:0.316408 auc:0.5822\n",
      "epoch:  40 loss:0.233206 auc:0.6711\n",
      "epoch:  60 loss:0.215885 auc:0.6756\n",
      "epoch:  80 loss:0.207841 auc:0.7244\n",
      "epoch: 100 loss:0.200961 auc:0.6800\n",
      "epoch: 120 loss:0.195063 auc:0.6622\n",
      "epoch: 140 loss:0.193144 auc:0.6622\n"
     ]
    },
    {
     "name": "stderr",
     "output_type": "stream",
     "text": [
      " 30%|███       | 100/331 [04:25<10:31,  2.73s/it]"
     ]
    },
    {
     "name": "stdout",
     "output_type": "stream",
     "text": [
      "epoch: 160 loss:0.191793 auc:0.6489\n",
      "Fit finished.\n",
      "epoch:   0 loss:0.733301 auc:0.5071\n",
      "epoch:  20 loss:0.281429 auc:0.5108\n",
      "epoch:  40 loss:0.225476 auc:0.5206\n",
      "epoch:  60 loss:0.210625 auc:0.6635\n",
      "epoch:  80 loss:0.204794 auc:0.6749\n",
      "epoch: 100 loss:0.199776 auc:0.6880\n",
      "epoch: 120 loss:0.195120 auc:0.6970\n",
      "epoch: 140 loss:0.192730 auc:0.6996\n",
      "epoch: 160 loss:0.191434 auc:0.7013\n",
      "epoch: 180 loss:0.190448 auc:0.7014\n",
      "epoch: 200 loss:0.189587 auc:0.6975\n",
      "epoch: 220 loss:0.188733 auc:0.6842\n"
     ]
    },
    {
     "name": "stderr",
     "output_type": "stream",
     "text": [
      " 31%|███       | 102/331 [04:29<09:06,  2.39s/it]"
     ]
    },
    {
     "name": "stdout",
     "output_type": "stream",
     "text": [
      "epoch: 240 loss:0.188721 auc:0.6022\n",
      "Fit finished.\n",
      "epoch:   0 loss:0.757617 auc:0.4717\n",
      "epoch:  20 loss:0.313169 auc:0.5855\n",
      "epoch:  40 loss:0.232595 auc:0.6886\n",
      "epoch:  60 loss:0.216033 auc:0.7365\n",
      "epoch:  80 loss:0.208868 auc:0.7332\n",
      "epoch: 100 loss:0.203707 auc:0.7243\n",
      "epoch: 120 loss:0.198197 auc:0.7174\n",
      "epoch: 140 loss:0.194292 auc:0.6945\n",
      "epoch: 160 loss:0.192643 auc:0.6866\n",
      "epoch: 180 loss:0.191555 auc:0.6830\n"
     ]
    },
    {
     "name": "stderr",
     "output_type": "stream",
     "text": [
      " 31%|███▏      | 104/331 [04:32<07:45,  2.05s/it]"
     ]
    },
    {
     "name": "stdout",
     "output_type": "stream",
     "text": [
      "epoch: 200 loss:0.190618 auc:0.6793\n",
      "Fit finished.\n",
      "epoch:   0 loss:0.717017 auc:0.3001\n",
      "epoch:  20 loss:0.240324 auc:0.3390\n",
      "epoch:  40 loss:0.214724 auc:0.4468\n",
      "epoch:  60 loss:0.207462 auc:0.4986\n",
      "epoch:  80 loss:0.200996 auc:0.5639\n",
      "epoch: 100 loss:0.195437 auc:0.6337\n",
      "epoch: 120 loss:0.193037 auc:0.6258\n",
      "epoch: 140 loss:0.191361 auc:0.6028\n",
      "epoch: 160 loss:0.190181 auc:0.5342\n",
      "epoch: 180 loss:0.188251 auc:0.4942\n",
      "epoch: 200 loss:0.188045 auc:0.5024\n"
     ]
    },
    {
     "name": "stderr",
     "output_type": "stream",
     "text": [
      " 32%|███▏      | 105/331 [04:35<08:34,  2.28s/it]"
     ]
    },
    {
     "name": "stdout",
     "output_type": "stream",
     "text": [
      "epoch: 220 loss:0.185288 auc:0.4197\n",
      "Fit finished.\n",
      "epoch:   0 loss:1.013610 auc:0.4358\n",
      "epoch:  20 loss:0.290251 auc:0.5588\n",
      "epoch:  40 loss:0.229364 auc:0.5521\n",
      "epoch:  60 loss:0.215620 auc:0.6767\n",
      "epoch:  80 loss:0.209741 auc:0.6963\n",
      "epoch: 100 loss:0.204902 auc:0.7223\n",
      "epoch: 120 loss:0.199317 auc:0.7638\n",
      "epoch: 140 loss:0.194934 auc:0.7755\n",
      "epoch: 160 loss:0.192954 auc:0.7812\n",
      "epoch: 180 loss:0.191823 auc:0.7894\n",
      "epoch: 200 loss:0.191050 auc:0.7943\n",
      "epoch: 220 loss:0.190734 auc:0.7954\n",
      "epoch: 240 loss:0.189785 auc:0.7770\n"
     ]
    },
    {
     "name": "stderr",
     "output_type": "stream",
     "text": [
      " 32%|███▏      | 106/331 [04:38<09:47,  2.61s/it]"
     ]
    },
    {
     "name": "stdout",
     "output_type": "stream",
     "text": [
      "epoch: 260 loss:0.189824 auc:0.7074\n",
      "Fit finished.\n",
      "epoch:   0 loss:0.683441 auc:0.5278\n",
      "epoch:  20 loss:0.237050 auc:0.4625\n",
      "epoch:  40 loss:0.214136 auc:0.5373\n",
      "epoch:  60 loss:0.207302 auc:0.5882\n",
      "epoch:  80 loss:0.199663 auc:0.6081\n",
      "epoch: 100 loss:0.193736 auc:0.5904\n",
      "epoch: 120 loss:0.191438 auc:0.5297\n",
      "epoch: 140 loss:0.189262 auc:0.4694\n"
     ]
    },
    {
     "name": "stderr",
     "output_type": "stream",
     "text": [
      " 32%|███▏      | 107/331 [04:41<09:14,  2.48s/it]"
     ]
    },
    {
     "name": "stdout",
     "output_type": "stream",
     "text": [
      "epoch: 160 loss:0.186992 auc:0.4511\n",
      "Fit finished.\n",
      "epoch:   0 loss:0.787057 auc:0.4935\n",
      "epoch:  20 loss:0.304737 auc:0.4878\n",
      "epoch:  40 loss:0.229136 auc:0.5152\n",
      "epoch:  60 loss:0.214153 auc:0.5192\n",
      "epoch:  80 loss:0.208263 auc:0.5220\n",
      "epoch: 100 loss:0.203323 auc:0.5333\n",
      "epoch: 120 loss:0.197502 auc:0.5551\n",
      "epoch: 140 loss:0.193616 auc:0.5694\n",
      "epoch: 160 loss:0.191817 auc:0.5738\n",
      "epoch: 180 loss:0.190543 auc:0.5726\n",
      "epoch: 200 loss:0.190889 auc:0.5691\n",
      "epoch: 220 loss:0.189180 auc:0.5731\n",
      "epoch: 240 loss:0.187987 auc:0.5704\n",
      "epoch: 260 loss:0.186584 auc:0.5630\n",
      "epoch: 280 loss:0.186990 auc:0.5583\n"
     ]
    },
    {
     "name": "stderr",
     "output_type": "stream",
     "text": [
      " 33%|███▎      | 108/331 [04:45<11:03,  2.98s/it]"
     ]
    },
    {
     "name": "stdout",
     "output_type": "stream",
     "text": [
      "epoch: 300 loss:0.184960 auc:0.5428\n",
      "Fit finished.\n",
      "Target 108 skipped: Validation set has only one class.\n",
      "epoch:   0 loss:0.588898 auc:0.4806\n",
      "epoch:  20 loss:0.259997 auc:0.5138\n",
      "epoch:  40 loss:0.218312 auc:0.6185\n",
      "epoch:  60 loss:0.208714 auc:0.6686\n",
      "epoch:  80 loss:0.202895 auc:0.7026\n",
      "epoch: 100 loss:0.196552 auc:0.7602\n",
      "epoch: 120 loss:0.193429 auc:0.7624\n",
      "epoch: 140 loss:0.191720 auc:0.7526\n",
      "epoch: 160 loss:0.190562 auc:0.7307\n",
      "epoch: 180 loss:0.189283 auc:0.6535\n"
     ]
    },
    {
     "name": "stderr",
     "output_type": "stream",
     "text": [
      " 34%|███▎      | 111/331 [04:49<07:29,  2.04s/it]"
     ]
    },
    {
     "name": "stdout",
     "output_type": "stream",
     "text": [
      "epoch: 200 loss:0.190059 auc:0.4828\n",
      "Fit finished.\n",
      "epoch:   0 loss:0.872767 auc:0.4733\n",
      "epoch:  20 loss:0.273874 auc:0.5472\n",
      "epoch:  40 loss:0.220103 auc:0.6491\n",
      "epoch:  60 loss:0.210098 auc:0.6917\n",
      "epoch:  80 loss:0.204213 auc:0.7161\n",
      "epoch: 100 loss:0.197260 auc:0.7354\n",
      "epoch: 120 loss:0.193501 auc:0.7435\n",
      "epoch: 140 loss:0.191889 auc:0.7443\n",
      "epoch: 160 loss:0.196381 auc:0.7466\n",
      "epoch: 180 loss:0.190077 auc:0.7164\n",
      "epoch: 200 loss:0.189197 auc:0.6604\n"
     ]
    },
    {
     "name": "stderr",
     "output_type": "stream",
     "text": [
      " 34%|███▍      | 112/331 [04:52<08:40,  2.38s/it]"
     ]
    },
    {
     "name": "stdout",
     "output_type": "stream",
     "text": [
      "epoch: 220 loss:0.188704 auc:0.6348\n",
      "Fit finished.\n",
      "epoch:   0 loss:0.568817 auc:0.3981\n",
      "epoch:  20 loss:0.285920 auc:0.5394\n",
      "epoch:  40 loss:0.225237 auc:0.5912\n",
      "epoch:  60 loss:0.211817 auc:0.6561\n",
      "epoch:  80 loss:0.204820 auc:0.6802\n",
      "epoch: 100 loss:0.197941 auc:0.6909\n",
      "epoch: 120 loss:0.194141 auc:0.6957\n",
      "epoch: 140 loss:0.192963 auc:0.7006\n",
      "epoch: 160 loss:0.191707 auc:0.7011\n",
      "epoch: 180 loss:0.190154 auc:0.6969\n",
      "epoch: 200 loss:0.188997 auc:0.6804\n",
      "epoch: 220 loss:0.189415 auc:0.6639\n"
     ]
    },
    {
     "name": "stderr",
     "output_type": "stream",
     "text": [
      " 35%|███▍      | 115/331 [04:56<06:40,  1.85s/it]"
     ]
    },
    {
     "name": "stdout",
     "output_type": "stream",
     "text": [
      "epoch: 240 loss:0.186477 auc:0.6094\n",
      "Fit finished.\n",
      "epoch:   0 loss:1.013782 auc:0.5014\n",
      "epoch:  20 loss:0.296509 auc:0.4196\n",
      "epoch:  40 loss:0.228286 auc:0.4576\n",
      "epoch:  60 loss:0.212867 auc:0.6207\n",
      "epoch:  80 loss:0.207550 auc:0.6368\n",
      "epoch: 100 loss:0.202630 auc:0.6584\n",
      "epoch: 120 loss:0.197031 auc:0.6860\n",
      "epoch: 140 loss:0.193538 auc:0.6988\n",
      "epoch: 160 loss:0.191868 auc:0.7051\n",
      "epoch: 180 loss:0.190626 auc:0.7012\n",
      "epoch: 200 loss:0.189683 auc:0.6895\n",
      "epoch: 220 loss:0.188489 auc:0.6611\n"
     ]
    },
    {
     "name": "stderr",
     "output_type": "stream",
     "text": [
      " 35%|███▌      | 117/331 [05:00<06:43,  1.88s/it]"
     ]
    },
    {
     "name": "stdout",
     "output_type": "stream",
     "text": [
      "epoch: 240 loss:0.188323 auc:0.6090\n",
      "Fit finished.\n",
      "epoch:   0 loss:0.896711 auc:0.3244\n",
      "epoch:  20 loss:0.262686 auc:0.7107\n",
      "epoch:  40 loss:0.220576 auc:0.7459\n",
      "epoch:  60 loss:0.211666 auc:0.7479\n",
      "epoch:  80 loss:0.206806 auc:0.7397\n",
      "epoch: 100 loss:0.201136 auc:0.7355\n",
      "epoch: 120 loss:0.195750 auc:0.7376\n",
      "epoch: 140 loss:0.193413 auc:0.7583\n",
      "epoch: 160 loss:0.192033 auc:0.7417\n",
      "epoch: 180 loss:0.190744 auc:0.7355\n"
     ]
    },
    {
     "name": "stderr",
     "output_type": "stream",
     "text": [
      " 36%|███▌      | 118/331 [05:03<07:32,  2.12s/it]"
     ]
    },
    {
     "name": "stdout",
     "output_type": "stream",
     "text": [
      "epoch: 200 loss:0.190622 auc:0.7252\n",
      "Fit finished.\n",
      "epoch:   0 loss:0.870137 auc:0.5836\n",
      "epoch:  20 loss:0.294278 auc:0.6289\n",
      "epoch:  40 loss:0.227007 auc:0.4296\n",
      "epoch:  60 loss:0.212783 auc:0.7594\n",
      "epoch:  80 loss:0.206527 auc:0.8636\n",
      "epoch: 100 loss:0.200038 auc:0.9034\n",
      "epoch: 120 loss:0.195195 auc:0.7971\n",
      "epoch: 140 loss:0.193040 auc:0.7073\n",
      "epoch: 160 loss:0.192561 auc:0.6108\n"
     ]
    },
    {
     "name": "stderr",
     "output_type": "stream",
     "text": [
      " 36%|███▌      | 119/331 [05:06<07:57,  2.25s/it]"
     ]
    },
    {
     "name": "stdout",
     "output_type": "stream",
     "text": [
      "epoch: 180 loss:0.191074 auc:0.5279\n",
      "Fit finished.\n",
      "epoch:   0 loss:0.566221 auc:0.4356\n",
      "epoch:  20 loss:0.300582 auc:0.3778\n",
      "epoch:  40 loss:0.224300 auc:0.4622\n",
      "epoch:  60 loss:0.211986 auc:0.4533\n",
      "epoch:  80 loss:0.206214 auc:0.4533\n",
      "epoch: 100 loss:0.200125 auc:0.4889\n",
      "epoch: 120 loss:0.194943 auc:0.5378\n",
      "epoch: 140 loss:0.192938 auc:0.5289\n",
      "epoch: 160 loss:0.191624 auc:0.5067\n",
      "epoch: 180 loss:0.190514 auc:0.4844\n",
      "epoch: 200 loss:0.189504 auc:0.4756\n"
     ]
    },
    {
     "name": "stderr",
     "output_type": "stream",
     "text": [
      " 36%|███▋      | 120/331 [05:09<08:48,  2.50s/it]"
     ]
    },
    {
     "name": "stdout",
     "output_type": "stream",
     "text": [
      "epoch: 220 loss:0.189094 auc:0.4489\n",
      "Fit finished.\n",
      "epoch:   0 loss:0.672060 auc:0.5377\n",
      "epoch:  20 loss:0.314265 auc:0.6440\n",
      "epoch:  40 loss:0.232169 auc:0.6932\n",
      "epoch:  60 loss:0.213321 auc:0.6974\n",
      "epoch:  80 loss:0.206333 auc:0.7035\n",
      "epoch: 100 loss:0.200608 auc:0.7344\n",
      "epoch: 120 loss:0.195302 auc:0.7562\n",
      "epoch: 140 loss:0.192871 auc:0.7599\n",
      "epoch: 160 loss:0.191529 auc:0.7665\n",
      "epoch: 180 loss:0.191435 auc:0.7738\n",
      "epoch: 200 loss:0.189900 auc:0.7712\n",
      "epoch: 220 loss:0.188974 auc:0.7695\n",
      "epoch: 240 loss:0.188532 auc:0.7685\n"
     ]
    },
    {
     "name": "stderr",
     "output_type": "stream",
     "text": [
      " 37%|███▋      | 121/331 [05:13<09:55,  2.84s/it]"
     ]
    },
    {
     "name": "stdout",
     "output_type": "stream",
     "text": [
      "epoch: 260 loss:0.187833 auc:0.7098\n",
      "Fit finished.\n",
      "epoch:   0 loss:0.605248 auc:0.5971\n",
      "epoch:  20 loss:0.284477 auc:0.6198\n",
      "epoch:  40 loss:0.225052 auc:0.5103\n",
      "epoch:  60 loss:0.213212 auc:0.4215\n",
      "epoch:  80 loss:0.207602 auc:0.3905\n",
      "epoch: 100 loss:0.201922 auc:0.3884\n",
      "epoch: 120 loss:0.196067 auc:0.3843\n",
      "epoch: 140 loss:0.193597 auc:0.3719\n"
     ]
    },
    {
     "name": "stderr",
     "output_type": "stream",
     "text": [
      " 37%|███▋      | 122/331 [05:15<09:23,  2.70s/it]"
     ]
    },
    {
     "name": "stdout",
     "output_type": "stream",
     "text": [
      "epoch: 160 loss:0.192188 auc:0.3698\n",
      "Fit finished.\n",
      "epoch:   0 loss:1.127971 auc:0.4298\n",
      "epoch:  20 loss:0.307025 auc:0.6860\n",
      "epoch:  40 loss:0.230134 auc:0.5289\n",
      "epoch:  60 loss:0.214533 auc:0.6033\n",
      "epoch:  80 loss:0.207949 auc:0.6033\n",
      "epoch: 100 loss:0.203080 auc:0.6033\n",
      "epoch: 120 loss:0.197869 auc:0.6033\n",
      "epoch: 140 loss:0.194569 auc:0.6281\n",
      "epoch: 160 loss:0.192977 auc:0.6777\n"
     ]
    },
    {
     "name": "stderr",
     "output_type": "stream",
     "text": [
      " 38%|███▊      | 125/331 [05:18<06:08,  1.79s/it]"
     ]
    },
    {
     "name": "stdout",
     "output_type": "stream",
     "text": [
      "epoch: 180 loss:0.192238 auc:0.6612\n",
      "Fit finished.\n",
      "epoch:   0 loss:0.734540 auc:0.6480\n",
      "epoch:  20 loss:0.327196 auc:0.8320\n",
      "epoch:  40 loss:0.243163 auc:0.7975\n",
      "epoch:  60 loss:0.216295 auc:0.8718\n",
      "epoch:  80 loss:0.207278 auc:0.8916\n",
      "epoch: 100 loss:0.201786 auc:0.9145\n",
      "epoch: 120 loss:0.196785 auc:0.9324\n",
      "epoch: 140 loss:0.194255 auc:0.9305\n",
      "epoch: 160 loss:0.192993 auc:0.9298\n",
      "epoch: 180 loss:0.192017 auc:0.9305\n",
      "epoch: 200 loss:0.191145 auc:0.9318\n",
      "epoch: 220 loss:0.190261 auc:0.9324\n",
      "epoch: 240 loss:0.190039 auc:0.9327\n",
      "epoch: 260 loss:0.188965 auc:0.9334\n",
      "epoch: 280 loss:0.188780 auc:0.9324\n",
      "epoch: 300 loss:0.187466 auc:0.9330\n"
     ]
    },
    {
     "name": "stderr",
     "output_type": "stream",
     "text": [
      " 38%|███▊      | 127/331 [05:24<07:08,  2.10s/it]"
     ]
    },
    {
     "name": "stdout",
     "output_type": "stream",
     "text": [
      "epoch: 320 loss:0.186311 auc:0.9209\n",
      "Fit finished.\n",
      "epoch:   0 loss:0.684183 auc:0.5131\n",
      "epoch:  20 loss:0.256400 auc:0.5691\n",
      "epoch:  40 loss:0.217809 auc:0.6420\n",
      "epoch:  60 loss:0.209346 auc:0.6641\n",
      "epoch:  80 loss:0.203766 auc:0.6915\n",
      "epoch: 100 loss:0.196899 auc:0.7129\n",
      "epoch: 120 loss:0.193242 auc:0.7097\n",
      "epoch: 140 loss:0.192187 auc:0.7086\n",
      "epoch: 160 loss:0.190470 auc:0.6471\n",
      "epoch: 180 loss:0.188160 auc:0.6140\n",
      "epoch: 200 loss:0.188116 auc:0.6605\n"
     ]
    },
    {
     "name": "stderr",
     "output_type": "stream",
     "text": [
      " 39%|███▊      | 128/331 [05:27<08:01,  2.37s/it]"
     ]
    },
    {
     "name": "stdout",
     "output_type": "stream",
     "text": [
      "epoch: 220 loss:0.185597 auc:0.5675\n",
      "Fit finished.\n",
      "epoch:   0 loss:1.109825 auc:0.5065\n",
      "epoch:  20 loss:0.320965 auc:0.5155\n",
      "epoch:  40 loss:0.246061 auc:0.4983\n",
      "epoch:  60 loss:0.218278 auc:0.6751\n",
      "epoch:  80 loss:0.207946 auc:0.6930\n",
      "epoch: 100 loss:0.201724 auc:0.7125\n",
      "epoch: 120 loss:0.196578 auc:0.7382\n",
      "epoch: 140 loss:0.193679 auc:0.7443\n",
      "epoch: 160 loss:0.192109 auc:0.7469\n",
      "epoch: 180 loss:0.191071 auc:0.7485\n",
      "epoch: 200 loss:0.190295 auc:0.7468\n",
      "epoch: 220 loss:0.189832 auc:0.7461\n",
      "epoch: 240 loss:0.189185 auc:0.7361\n",
      "epoch: 260 loss:0.190948 auc:0.7459\n"
     ]
    },
    {
     "name": "stderr",
     "output_type": "stream",
     "text": [
      " 39%|███▉      | 129/331 [05:32<09:27,  2.81s/it]"
     ]
    },
    {
     "name": "stdout",
     "output_type": "stream",
     "text": [
      "epoch: 280 loss:0.188408 auc:0.7250\n",
      "Fit finished.\n",
      "epoch:   0 loss:0.629056 auc:0.5153\n",
      "epoch:  20 loss:0.261753 auc:0.4834\n",
      "epoch:  40 loss:0.217051 auc:0.6574\n",
      "epoch:  60 loss:0.205761 auc:0.6882\n",
      "epoch:  80 loss:0.198143 auc:0.7170\n",
      "epoch: 100 loss:0.193472 auc:0.7334\n",
      "epoch: 120 loss:0.191362 auc:0.7367\n",
      "epoch: 140 loss:0.190313 auc:0.7375\n",
      "epoch: 160 loss:0.189116 auc:0.7332\n",
      "epoch: 180 loss:0.187483 auc:0.6930\n",
      "epoch: 200 loss:0.185516 auc:0.6596\n"
     ]
    },
    {
     "name": "stderr",
     "output_type": "stream",
     "text": [
      " 40%|████      | 133/331 [05:35<05:43,  1.74s/it]"
     ]
    },
    {
     "name": "stdout",
     "output_type": "stream",
     "text": [
      "epoch: 220 loss:0.183746 auc:0.6152\n",
      "Fit finished.\n",
      "epoch:   0 loss:1.056207 auc:0.5203\n",
      "epoch:  20 loss:0.325036 auc:0.6854\n",
      "epoch:  40 loss:0.249445 auc:0.6972\n",
      "epoch:  60 loss:0.218643 auc:0.7383\n",
      "epoch:  80 loss:0.207240 auc:0.7675\n",
      "epoch: 100 loss:0.199832 auc:0.8101\n",
      "epoch: 120 loss:0.194873 auc:0.8286\n",
      "epoch: 140 loss:0.192696 auc:0.8320\n",
      "epoch: 160 loss:0.191422 auc:0.8371\n",
      "epoch: 180 loss:0.190493 auc:0.8381\n",
      "epoch: 200 loss:0.190451 auc:0.8293\n",
      "epoch: 220 loss:0.189430 auc:0.8293\n",
      "epoch: 240 loss:0.188006 auc:0.8157\n",
      "epoch: 260 loss:0.190905 auc:0.8342\n",
      "epoch: 280 loss:0.186536 auc:0.7765\n",
      "Fit finished.\n"
     ]
    },
    {
     "name": "stderr",
     "output_type": "stream",
     "text": [
      " 40%|████      | 134/331 [05:40<07:07,  2.17s/it]"
     ]
    },
    {
     "name": "stdout",
     "output_type": "stream",
     "text": [
      "epoch:   0 loss:0.543230 auc:0.5323\n",
      "epoch:  20 loss:0.248357 auc:0.5297\n",
      "epoch:  40 loss:0.214417 auc:0.6795\n",
      "epoch:  60 loss:0.204073 auc:0.7214\n",
      "epoch:  80 loss:0.196272 auc:0.7380\n",
      "epoch: 100 loss:0.193188 auc:0.7409\n",
      "epoch: 120 loss:0.192993 auc:0.7305\n",
      "epoch: 140 loss:0.191160 auc:0.7313\n",
      "epoch: 160 loss:0.189066 auc:0.7177\n",
      "epoch: 180 loss:0.189160 auc:0.6597\n"
     ]
    },
    {
     "name": "stderr",
     "output_type": "stream",
     "text": [
      " 41%|████      | 136/331 [05:42<06:16,  1.93s/it]"
     ]
    },
    {
     "name": "stdout",
     "output_type": "stream",
     "text": [
      "epoch: 200 loss:0.186005 auc:0.6478\n",
      "Fit finished.\n",
      "epoch:   0 loss:0.910110 auc:0.5005\n",
      "epoch:  20 loss:0.301386 auc:0.3958\n",
      "epoch:  40 loss:0.229415 auc:0.3976\n",
      "epoch:  60 loss:0.213735 auc:0.6299\n",
      "epoch:  80 loss:0.207449 auc:0.6529\n",
      "epoch: 100 loss:0.201820 auc:0.6639\n",
      "epoch: 120 loss:0.196363 auc:0.6777\n",
      "epoch: 140 loss:0.193684 auc:0.6814\n",
      "epoch: 160 loss:0.192200 auc:0.6850\n",
      "epoch: 180 loss:0.191190 auc:0.6804\n",
      "epoch: 200 loss:0.190557 auc:0.6777\n",
      "epoch: 220 loss:0.189555 auc:0.6731\n",
      "epoch: 240 loss:0.188541 auc:0.6667\n",
      "epoch: 260 loss:0.187891 auc:0.6667\n"
     ]
    },
    {
     "name": "stderr",
     "output_type": "stream",
     "text": [
      " 41%|████▏     | 137/331 [05:47<07:44,  2.39s/it]"
     ]
    },
    {
     "name": "stdout",
     "output_type": "stream",
     "text": [
      "epoch: 280 loss:0.186530 auc:0.6648\n",
      "Fit finished.\n",
      "epoch:   0 loss:0.649831 auc:0.5785\n",
      "epoch:  20 loss:0.278145 auc:0.6364\n",
      "epoch:  40 loss:0.222697 auc:0.6529\n",
      "epoch:  60 loss:0.211273 auc:0.7355\n",
      "epoch:  80 loss:0.205195 auc:0.7438\n",
      "epoch: 100 loss:0.199038 auc:0.7934\n",
      "epoch: 120 loss:0.194875 auc:0.8182\n",
      "epoch: 140 loss:0.193006 auc:0.7934\n",
      "epoch: 160 loss:0.191847 auc:0.7934\n",
      "epoch: 180 loss:0.190655 auc:0.7934\n",
      "epoch: 200 loss:0.189765 auc:0.7934\n",
      "epoch: 220 loss:0.189759 auc:0.7934\n",
      "epoch: 240 loss:0.186847 auc:0.8099\n",
      "epoch: 260 loss:0.185000 auc:0.8182\n"
     ]
    },
    {
     "name": "stderr",
     "output_type": "stream",
     "text": [
      " 42%|████▏     | 140/331 [05:51<06:11,  1.94s/it]"
     ]
    },
    {
     "name": "stdout",
     "output_type": "stream",
     "text": [
      "epoch: 280 loss:0.184435 auc:0.8099\n",
      "Fit finished.\n",
      "epoch:   0 loss:0.831091 auc:0.5089\n",
      "epoch:  20 loss:0.287645 auc:0.8221\n",
      "epoch:  40 loss:0.222455 auc:0.8469\n",
      "epoch:  60 loss:0.211478 auc:0.8567\n",
      "epoch:  80 loss:0.205274 auc:0.8837\n",
      "epoch: 100 loss:0.197689 auc:0.9210\n",
      "epoch: 120 loss:0.193997 auc:0.9281\n",
      "epoch: 140 loss:0.193723 auc:0.9189\n",
      "epoch: 160 loss:0.191010 auc:0.9167\n",
      "epoch: 180 loss:0.194125 auc:0.9167\n",
      "epoch: 200 loss:0.189597 auc:0.9113\n",
      "epoch: 220 loss:0.188387 auc:0.9027\n",
      "epoch: 240 loss:0.186772 auc:0.8945\n"
     ]
    },
    {
     "name": "stderr",
     "output_type": "stream",
     "text": [
      " 43%|████▎     | 141/331 [05:55<07:07,  2.25s/it]"
     ]
    },
    {
     "name": "stdout",
     "output_type": "stream",
     "text": [
      "epoch: 260 loss:0.184564 auc:0.8756\n",
      "Fit finished.\n",
      "epoch:   0 loss:0.650386 auc:0.4155\n",
      "epoch:  20 loss:0.310841 auc:0.6454\n",
      "epoch:  40 loss:0.231373 auc:0.5928\n",
      "epoch:  60 loss:0.214924 auc:0.6953\n",
      "epoch:  80 loss:0.208616 auc:0.6814\n",
      "epoch: 100 loss:0.203713 auc:0.6620\n",
      "epoch: 120 loss:0.198471 auc:0.6454\n",
      "epoch: 140 loss:0.194981 auc:0.6343\n",
      "epoch: 160 loss:0.193415 auc:0.6510\n",
      "epoch: 180 loss:0.192310 auc:0.6482\n",
      "epoch: 200 loss:0.191401 auc:0.6565\n"
     ]
    },
    {
     "name": "stderr",
     "output_type": "stream",
     "text": [
      " 43%|████▎     | 143/331 [05:59<06:47,  2.17s/it]"
     ]
    },
    {
     "name": "stdout",
     "output_type": "stream",
     "text": [
      "epoch: 220 loss:0.192441 auc:0.6759\n",
      "Fit finished.\n",
      "epoch:   0 loss:0.649514 auc:0.5907\n",
      "epoch:  20 loss:0.290209 auc:0.5070\n",
      "epoch:  40 loss:0.226177 auc:0.5039\n",
      "epoch:  60 loss:0.213010 auc:0.5627\n",
      "epoch:  80 loss:0.207587 auc:0.5594\n",
      "epoch: 100 loss:0.202805 auc:0.5789\n",
      "epoch: 120 loss:0.197484 auc:0.6073\n",
      "epoch: 140 loss:0.194216 auc:0.6175\n",
      "epoch: 160 loss:0.192630 auc:0.6203\n",
      "epoch: 180 loss:0.191458 auc:0.6127\n",
      "epoch: 200 loss:0.192958 auc:0.6107\n",
      "epoch: 220 loss:0.189777 auc:0.5889\n"
     ]
    },
    {
     "name": "stderr",
     "output_type": "stream",
     "text": [
      " 44%|████▎     | 144/331 [06:03<07:51,  2.52s/it]"
     ]
    },
    {
     "name": "stdout",
     "output_type": "stream",
     "text": [
      "epoch: 240 loss:0.188616 auc:0.5555\n",
      "Fit finished.\n",
      "epoch:   0 loss:1.119940 auc:0.5214\n",
      "epoch:  20 loss:0.302334 auc:0.5008\n",
      "epoch:  40 loss:0.232684 auc:0.4645\n",
      "epoch:  60 loss:0.216219 auc:0.5869\n",
      "epoch:  80 loss:0.208996 auc:0.5987\n",
      "epoch: 100 loss:0.204116 auc:0.6085\n",
      "epoch: 120 loss:0.198609 auc:0.6203\n",
      "epoch: 140 loss:0.194025 auc:0.6168\n",
      "epoch: 160 loss:0.192007 auc:0.6138\n",
      "epoch: 180 loss:0.190749 auc:0.6120\n",
      "epoch: 200 loss:0.189805 auc:0.6074\n",
      "epoch: 220 loss:0.188915 auc:0.5978\n"
     ]
    },
    {
     "name": "stderr",
     "output_type": "stream",
     "text": [
      " 44%|████▍     | 145/331 [06:07<08:43,  2.81s/it]"
     ]
    },
    {
     "name": "stdout",
     "output_type": "stream",
     "text": [
      "epoch: 240 loss:0.187844 auc:0.5772\n",
      "Fit finished.\n",
      "epoch:   0 loss:1.259889 auc:0.5026\n",
      "epoch:  20 loss:0.312442 auc:0.5638\n",
      "epoch:  40 loss:0.237804 auc:0.5678\n",
      "epoch:  60 loss:0.214388 auc:0.6462\n",
      "epoch:  80 loss:0.206172 auc:0.6666\n",
      "epoch: 100 loss:0.200417 auc:0.6990\n",
      "epoch: 120 loss:0.195447 auc:0.7261\n",
      "epoch: 140 loss:0.192922 auc:0.7294\n",
      "epoch: 160 loss:0.191675 auc:0.7360\n",
      "epoch: 180 loss:0.190764 auc:0.7385\n",
      "epoch: 200 loss:0.190087 auc:0.7388\n",
      "epoch: 220 loss:0.189440 auc:0.7292\n",
      "epoch: 240 loss:0.188952 auc:0.6974\n"
     ]
    },
    {
     "name": "stderr",
     "output_type": "stream",
     "text": [
      " 44%|████▍     | 146/331 [06:10<09:26,  3.06s/it]"
     ]
    },
    {
     "name": "stdout",
     "output_type": "stream",
     "text": [
      "epoch: 260 loss:0.188535 auc:0.6974\n",
      "Fit finished.\n",
      "epoch:   0 loss:0.749507 auc:0.4173\n",
      "epoch:  20 loss:0.280902 auc:0.5690\n",
      "epoch:  40 loss:0.225016 auc:0.6346\n",
      "epoch:  60 loss:0.211993 auc:0.6802\n",
      "epoch:  80 loss:0.205541 auc:0.7116\n",
      "epoch: 100 loss:0.198571 auc:0.7556\n",
      "epoch: 120 loss:0.194584 auc:0.7608\n",
      "epoch: 140 loss:0.192742 auc:0.7558\n",
      "epoch: 160 loss:0.191802 auc:0.7512\n",
      "epoch: 180 loss:0.190632 auc:0.7212\n"
     ]
    },
    {
     "name": "stderr",
     "output_type": "stream",
     "text": [
      " 44%|████▍     | 147/331 [06:13<09:21,  3.05s/it]"
     ]
    },
    {
     "name": "stdout",
     "output_type": "stream",
     "text": [
      "epoch: 200 loss:0.194113 auc:0.5328\n",
      "Fit finished.\n",
      "epoch:   0 loss:0.657403 auc:0.3564\n",
      "epoch:  20 loss:0.321086 auc:0.7128\n",
      "epoch:  40 loss:0.236097 auc:0.8374\n",
      "epoch:  60 loss:0.215526 auc:0.8581\n",
      "epoch:  80 loss:0.206719 auc:0.8754\n",
      "epoch: 100 loss:0.200231 auc:0.8581\n",
      "epoch: 120 loss:0.195354 auc:0.8270\n",
      "epoch: 140 loss:0.193181 auc:0.8201\n",
      "epoch: 160 loss:0.192092 auc:0.7820\n",
      "epoch: 180 loss:0.191121 auc:0.7682\n"
     ]
    },
    {
     "name": "stderr",
     "output_type": "stream",
     "text": [
      " 45%|████▍     | 148/331 [06:16<09:19,  3.06s/it]"
     ]
    },
    {
     "name": "stdout",
     "output_type": "stream",
     "text": [
      "epoch: 200 loss:0.190097 auc:0.7716\n",
      "Fit finished.\n",
      "epoch:   0 loss:0.828536 auc:0.5274\n",
      "epoch:  20 loss:0.314118 auc:0.6130\n",
      "epoch:  40 loss:0.229327 auc:0.6211\n",
      "epoch:  60 loss:0.214096 auc:0.6450\n",
      "epoch:  80 loss:0.208049 auc:0.6548\n",
      "epoch: 100 loss:0.203702 auc:0.6638\n",
      "epoch: 120 loss:0.198144 auc:0.6709\n",
      "epoch: 140 loss:0.193614 auc:0.6664\n",
      "epoch: 160 loss:0.191679 auc:0.6679\n",
      "epoch: 180 loss:0.190786 auc:0.6726\n",
      "epoch: 200 loss:0.189758 auc:0.6744\n",
      "epoch: 220 loss:0.188546 auc:0.6751\n",
      "epoch: 240 loss:0.187517 auc:0.6744\n",
      "epoch: 260 loss:0.186300 auc:0.6684\n"
     ]
    },
    {
     "name": "stderr",
     "output_type": "stream",
     "text": [
      " 45%|████▌     | 150/331 [06:22<08:43,  2.89s/it]"
     ]
    },
    {
     "name": "stdout",
     "output_type": "stream",
     "text": [
      "epoch: 280 loss:0.185551 auc:0.6653\n",
      "Fit finished.\n",
      "epoch:   0 loss:0.927522 auc:0.5939\n",
      "epoch:  20 loss:0.323891 auc:0.6974\n",
      "epoch:  40 loss:0.240536 auc:0.6782\n",
      "epoch:  60 loss:0.218092 auc:0.7143\n",
      "epoch:  80 loss:0.209926 auc:0.7370\n",
      "epoch: 100 loss:0.204830 auc:0.7545\n",
      "epoch: 120 loss:0.199582 auc:0.7730\n",
      "epoch: 140 loss:0.194946 auc:0.7830\n",
      "epoch: 160 loss:0.192834 auc:0.7846\n",
      "epoch: 180 loss:0.191579 auc:0.7831\n",
      "epoch: 200 loss:0.190634 auc:0.7817\n",
      "epoch: 220 loss:0.190264 auc:0.7814\n",
      "epoch: 240 loss:0.189101 auc:0.7820\n",
      "epoch: 260 loss:0.188542 auc:0.7707\n"
     ]
    },
    {
     "name": "stderr",
     "output_type": "stream",
     "text": [
      " 46%|████▌     | 151/331 [06:26<09:36,  3.20s/it]"
     ]
    },
    {
     "name": "stdout",
     "output_type": "stream",
     "text": [
      "epoch: 280 loss:0.187796 auc:0.7678\n",
      "Fit finished.\n",
      "epoch:   0 loss:0.993858 auc:0.4272\n",
      "epoch:  20 loss:0.328176 auc:0.6032\n",
      "epoch:  40 loss:0.243800 auc:0.8000\n",
      "epoch:  60 loss:0.216404 auc:0.9264\n",
      "epoch:  80 loss:0.206954 auc:0.9232\n",
      "epoch: 100 loss:0.199952 auc:0.9296\n",
      "epoch: 120 loss:0.195115 auc:0.9296\n",
      "epoch: 140 loss:0.193095 auc:0.9280\n",
      "epoch: 160 loss:0.192057 auc:0.9232\n",
      "epoch: 180 loss:0.191020 auc:0.9248\n",
      "epoch: 200 loss:0.190305 auc:0.9280\n",
      "epoch: 220 loss:0.189827 auc:0.9328\n",
      "epoch: 240 loss:0.189108 auc:0.9312\n",
      "epoch: 260 loss:0.188943 auc:0.9344\n",
      "epoch: 280 loss:0.187577 auc:0.9328\n"
     ]
    },
    {
     "name": "stderr",
     "output_type": "stream",
     "text": [
      " 46%|████▌     | 152/331 [06:30<10:28,  3.51s/it]"
     ]
    },
    {
     "name": "stdout",
     "output_type": "stream",
     "text": [
      "epoch: 300 loss:0.186818 auc:0.9184\n",
      "Fit finished.\n",
      "epoch:   0 loss:0.883222 auc:0.5361\n",
      "epoch:  20 loss:0.296756 auc:0.5376\n",
      "epoch:  40 loss:0.226582 auc:0.4992\n",
      "epoch:  60 loss:0.211619 auc:0.6534\n",
      "epoch:  80 loss:0.204948 auc:0.6688\n",
      "epoch: 100 loss:0.199020 auc:0.6881\n",
      "epoch: 120 loss:0.193789 auc:0.6929\n",
      "epoch: 140 loss:0.191728 auc:0.6958\n",
      "epoch: 160 loss:0.190435 auc:0.6939\n",
      "epoch: 180 loss:0.189540 auc:0.6820\n",
      "epoch: 200 loss:0.189003 auc:0.6452\n"
     ]
    },
    {
     "name": "stderr",
     "output_type": "stream",
     "text": [
      " 47%|████▋     | 155/331 [06:34<06:38,  2.26s/it]"
     ]
    },
    {
     "name": "stdout",
     "output_type": "stream",
     "text": [
      "epoch: 220 loss:0.187492 auc:0.5967\n",
      "Fit finished.\n",
      "epoch:   0 loss:0.665948 auc:0.4943\n",
      "epoch:  20 loss:0.267228 auc:0.4599\n",
      "epoch:  40 loss:0.220459 auc:0.5109\n",
      "epoch:  60 loss:0.210572 auc:0.6116\n",
      "epoch:  80 loss:0.206120 auc:0.6372\n",
      "epoch: 100 loss:0.201796 auc:0.6561\n",
      "epoch: 120 loss:0.196518 auc:0.6686\n",
      "epoch: 140 loss:0.192882 auc:0.6662\n",
      "epoch: 160 loss:0.191175 auc:0.6637\n",
      "epoch: 180 loss:0.189938 auc:0.6602\n",
      "epoch: 200 loss:0.188754 auc:0.6483\n"
     ]
    },
    {
     "name": "stderr",
     "output_type": "stream",
     "text": [
      " 47%|████▋     | 156/331 [06:37<07:24,  2.54s/it]"
     ]
    },
    {
     "name": "stdout",
     "output_type": "stream",
     "text": [
      "epoch: 220 loss:0.192272 auc:0.5655\n",
      "Fit finished.\n",
      "epoch:   0 loss:0.825437 auc:0.2066\n",
      "epoch:  20 loss:0.295367 auc:0.4545\n",
      "epoch:  40 loss:0.226524 auc:0.4132\n",
      "epoch:  60 loss:0.212174 auc:0.7934\n",
      "epoch:  80 loss:0.205567 auc:0.8512\n",
      "epoch: 100 loss:0.199375 auc:0.9008\n",
      "epoch: 120 loss:0.194813 auc:0.9091\n",
      "epoch: 140 loss:0.192895 auc:0.8760\n",
      "epoch: 160 loss:0.191695 auc:0.8678\n",
      "epoch: 180 loss:0.190981 auc:0.8760\n",
      "epoch: 200 loss:0.190003 auc:0.8843\n",
      "epoch: 220 loss:0.192016 auc:0.8843\n",
      "epoch: 240 loss:0.188021 auc:0.8760\n"
     ]
    },
    {
     "name": "stderr",
     "output_type": "stream",
     "text": [
      " 48%|████▊     | 159/331 [06:43<06:20,  2.21s/it]"
     ]
    },
    {
     "name": "stdout",
     "output_type": "stream",
     "text": [
      "epoch: 260 loss:0.186746 auc:0.8678\n",
      "Fit finished.\n",
      "epoch:   0 loss:0.823977 auc:0.4998\n",
      "epoch:  20 loss:0.278806 auc:0.4013\n",
      "epoch:  40 loss:0.221780 auc:0.4780\n",
      "epoch:  60 loss:0.210295 auc:0.6267\n",
      "epoch:  80 loss:0.204247 auc:0.6858\n",
      "epoch: 100 loss:0.197642 auc:0.7517\n",
      "epoch: 120 loss:0.193989 auc:0.7675\n",
      "epoch: 140 loss:0.192285 auc:0.7662\n",
      "epoch: 160 loss:0.192773 auc:0.7627\n",
      "epoch: 180 loss:0.190450 auc:0.7331\n",
      "epoch: 200 loss:0.189038 auc:0.6818\n",
      "epoch: 220 loss:0.187808 auc:0.6420\n"
     ]
    },
    {
     "name": "stderr",
     "output_type": "stream",
     "text": [
      " 48%|████▊     | 160/331 [06:47<07:06,  2.49s/it]"
     ]
    },
    {
     "name": "stdout",
     "output_type": "stream",
     "text": [
      "epoch: 240 loss:0.186201 auc:0.5909\n",
      "Fit finished.\n",
      "epoch:   0 loss:0.720248 auc:0.4858\n",
      "epoch:  20 loss:0.281876 auc:0.4685\n",
      "epoch:  40 loss:0.224742 auc:0.5029\n",
      "epoch:  60 loss:0.211428 auc:0.6461\n",
      "epoch:  80 loss:0.204533 auc:0.6876\n",
      "epoch: 100 loss:0.197590 auc:0.7282\n",
      "epoch: 120 loss:0.193642 auc:0.7410\n",
      "epoch: 140 loss:0.191844 auc:0.7464\n",
      "epoch: 160 loss:0.190777 auc:0.7509\n",
      "epoch: 180 loss:0.191057 auc:0.7527\n",
      "epoch: 200 loss:0.188931 auc:0.7492\n",
      "epoch: 220 loss:0.188282 auc:0.7417\n",
      "epoch: 240 loss:0.186850 auc:0.6999\n"
     ]
    },
    {
     "name": "stderr",
     "output_type": "stream",
     "text": [
      " 49%|████▉     | 163/331 [06:51<05:34,  1.99s/it]"
     ]
    },
    {
     "name": "stdout",
     "output_type": "stream",
     "text": [
      "epoch: 260 loss:0.186530 auc:0.7058\n",
      "Fit finished.\n",
      "epoch:   0 loss:1.072498 auc:0.3904\n",
      "epoch:  20 loss:0.323883 auc:0.5632\n",
      "epoch:  40 loss:0.238479 auc:0.6256\n",
      "epoch:  60 loss:0.218660 auc:0.7467\n",
      "epoch:  80 loss:0.210451 auc:0.7674\n",
      "epoch: 100 loss:0.205211 auc:0.7805\n",
      "epoch: 120 loss:0.200113 auc:0.8018\n",
      "epoch: 140 loss:0.195533 auc:0.8168\n",
      "epoch: 160 loss:0.193362 auc:0.8188\n",
      "epoch: 180 loss:0.192156 auc:0.8216\n",
      "epoch: 200 loss:0.191264 auc:0.8225\n",
      "epoch: 220 loss:0.190489 auc:0.8249\n",
      "epoch: 240 loss:0.191664 auc:0.8229\n",
      "epoch: 260 loss:0.189314 auc:0.8268\n",
      "epoch: 280 loss:0.188323 auc:0.8265\n"
     ]
    },
    {
     "name": "stderr",
     "output_type": "stream",
     "text": [
      " 50%|████▉     | 164/331 [06:55<06:44,  2.42s/it]"
     ]
    },
    {
     "name": "stdout",
     "output_type": "stream",
     "text": [
      "epoch: 300 loss:0.189024 auc:0.7962\n",
      "Fit finished.\n",
      "epoch:   0 loss:0.551568 auc:0.3905\n",
      "epoch:  20 loss:0.235109 auc:0.7929\n",
      "epoch:  40 loss:0.215409 auc:0.9349\n",
      "epoch:  60 loss:0.207914 auc:0.9586\n",
      "epoch:  80 loss:0.200512 auc:0.9704\n",
      "epoch: 100 loss:0.195497 auc:0.9763\n",
      "epoch: 120 loss:0.193165 auc:0.9763\n",
      "epoch: 140 loss:0.191451 auc:0.9763\n",
      "epoch: 160 loss:0.190734 auc:0.9763\n",
      "epoch: 180 loss:0.187980 auc:0.9763\n",
      "epoch: 200 loss:0.186401 auc:0.9763\n",
      "epoch: 220 loss:0.186711 auc:0.9763\n",
      "epoch: 240 loss:0.181310 auc:0.9763\n",
      "epoch: 260 loss:0.177836 auc:0.9763\n",
      "epoch: 280 loss:0.180775 auc:0.9763\n"
     ]
    },
    {
     "name": "stderr",
     "output_type": "stream",
     "text": [
      " 50%|████▉     | 165/331 [07:00<08:04,  2.92s/it]"
     ]
    },
    {
     "name": "stdout",
     "output_type": "stream",
     "text": [
      "epoch: 300 loss:0.172443 auc:0.9704\n",
      "Fit finished.\n",
      "epoch:   0 loss:1.008198 auc:0.3633\n",
      "epoch:  20 loss:0.319308 auc:0.3529\n",
      "epoch:  40 loss:0.243946 auc:0.3633\n",
      "epoch:  60 loss:0.219746 auc:0.4913\n",
      "epoch:  80 loss:0.209785 auc:0.4983\n",
      "epoch: 100 loss:0.203761 auc:0.4948\n",
      "epoch: 120 loss:0.197956 auc:0.5190\n",
      "epoch: 140 loss:0.194424 auc:0.5087\n",
      "epoch: 160 loss:0.192814 auc:0.4983\n",
      "epoch: 180 loss:0.191792 auc:0.5052\n",
      "epoch: 200 loss:0.191037 auc:0.4948\n"
     ]
    },
    {
     "name": "stderr",
     "output_type": "stream",
     "text": [
      " 52%|█████▏    | 171/331 [07:04<03:59,  1.49s/it]"
     ]
    },
    {
     "name": "stdout",
     "output_type": "stream",
     "text": [
      "epoch: 220 loss:0.190542 auc:0.4844\n",
      "Fit finished.\n",
      "epoch:   0 loss:1.130231 auc:0.5154\n",
      "epoch:  20 loss:0.322267 auc:0.5031\n",
      "epoch:  40 loss:0.243386 auc:0.5547\n",
      "epoch:  60 loss:0.217537 auc:0.5839\n",
      "epoch:  80 loss:0.209510 auc:0.6080\n",
      "epoch: 100 loss:0.205007 auc:0.6246\n",
      "epoch: 120 loss:0.200658 auc:0.6379\n",
      "epoch: 140 loss:0.196358 auc:0.6394\n",
      "epoch: 160 loss:0.193784 auc:0.6450\n",
      "epoch: 180 loss:0.192480 auc:0.6469\n",
      "epoch: 200 loss:0.191572 auc:0.6457\n",
      "epoch: 220 loss:0.190820 auc:0.6443\n",
      "epoch: 240 loss:0.190652 auc:0.6404\n",
      "epoch: 260 loss:0.189464 auc:0.6414\n"
     ]
    },
    {
     "name": "stderr",
     "output_type": "stream",
     "text": [
      " 52%|█████▏    | 172/331 [07:08<04:49,  1.82s/it]"
     ]
    },
    {
     "name": "stdout",
     "output_type": "stream",
     "text": [
      "epoch: 280 loss:0.188667 auc:0.6378\n",
      "Fit finished.\n",
      "epoch:   0 loss:0.922027 auc:0.5325\n",
      "epoch:  20 loss:0.298417 auc:0.4320\n",
      "epoch:  40 loss:0.230108 auc:0.4142\n",
      "epoch:  60 loss:0.216100 auc:0.4260\n",
      "epoch:  80 loss:0.210604 auc:0.4911\n",
      "epoch: 100 loss:0.206987 auc:0.5207\n",
      "epoch: 120 loss:0.202900 auc:0.5325\n",
      "epoch: 140 loss:0.197877 auc:0.5858\n",
      "epoch: 160 loss:0.194381 auc:0.5621\n",
      "epoch: 180 loss:0.192851 auc:0.5562\n",
      "epoch: 200 loss:0.191833 auc:0.5444\n",
      "epoch: 220 loss:0.190922 auc:0.5385\n",
      "epoch: 240 loss:0.189980 auc:0.5030\n"
     ]
    },
    {
     "name": "stderr",
     "output_type": "stream",
     "text": [
      " 53%|█████▎    | 176/331 [07:12<03:44,  1.45s/it]"
     ]
    },
    {
     "name": "stdout",
     "output_type": "stream",
     "text": [
      "epoch: 260 loss:0.189466 auc:0.4675\n",
      "Fit finished.\n",
      "epoch:   0 loss:0.711707 auc:0.4528\n",
      "epoch:  20 loss:0.298487 auc:0.6014\n",
      "epoch:  40 loss:0.226748 auc:0.6641\n",
      "epoch:  60 loss:0.211069 auc:0.7093\n",
      "epoch:  80 loss:0.205553 auc:0.7303\n",
      "epoch: 100 loss:0.200543 auc:0.7556\n",
      "epoch: 120 loss:0.195446 auc:0.7713\n",
      "epoch: 140 loss:0.192881 auc:0.7725\n",
      "epoch: 160 loss:0.191349 auc:0.7724\n",
      "epoch: 180 loss:0.190069 auc:0.7612\n",
      "epoch: 200 loss:0.189423 auc:0.7367\n"
     ]
    },
    {
     "name": "stderr",
     "output_type": "stream",
     "text": [
      " 54%|█████▍    | 178/331 [07:15<03:41,  1.44s/it]"
     ]
    },
    {
     "name": "stdout",
     "output_type": "stream",
     "text": [
      "epoch: 220 loss:0.188282 auc:0.6950\n",
      "Fit finished.\n",
      "epoch:   0 loss:1.017991 auc:0.4405\n",
      "epoch:  20 loss:0.293669 auc:0.7070\n",
      "epoch:  40 loss:0.228431 auc:0.7940\n",
      "epoch:  60 loss:0.213612 auc:0.8318\n",
      "epoch:  80 loss:0.207390 auc:0.8450\n",
      "epoch: 100 loss:0.202006 auc:0.8412\n",
      "epoch: 120 loss:0.196886 auc:0.8318\n",
      "epoch: 140 loss:0.194204 auc:0.8355\n",
      "epoch: 160 loss:0.192865 auc:0.8412\n",
      "epoch: 180 loss:0.191843 auc:0.8318\n",
      "epoch: 200 loss:0.191320 auc:0.8166\n"
     ]
    },
    {
     "name": "stderr",
     "output_type": "stream",
     "text": [
      " 54%|█████▍    | 179/331 [07:19<04:39,  1.84s/it]"
     ]
    },
    {
     "name": "stdout",
     "output_type": "stream",
     "text": [
      "epoch: 220 loss:0.190046 auc:0.8034\n",
      "Fit finished.\n",
      "epoch:   0 loss:0.836710 auc:0.5119\n",
      "epoch:  20 loss:0.292773 auc:0.4791\n",
      "epoch:  40 loss:0.228225 auc:0.4796\n",
      "epoch:  60 loss:0.212726 auc:0.4886\n",
      "epoch:  80 loss:0.206117 auc:0.4982\n",
      "epoch: 100 loss:0.200281 auc:0.5192\n",
      "epoch: 120 loss:0.195174 auc:0.5509\n",
      "epoch: 140 loss:0.193125 auc:0.5592\n",
      "epoch: 160 loss:0.191793 auc:0.5675\n",
      "epoch: 180 loss:0.192580 auc:0.5680\n",
      "epoch: 200 loss:0.190086 auc:0.5688\n",
      "epoch: 220 loss:0.189165 auc:0.5633\n",
      "epoch: 240 loss:0.189132 auc:0.5500\n",
      "epoch: 260 loss:0.187282 auc:0.5519\n"
     ]
    },
    {
     "name": "stderr",
     "output_type": "stream",
     "text": [
      " 54%|█████▍    | 180/331 [07:23<05:45,  2.29s/it]"
     ]
    },
    {
     "name": "stdout",
     "output_type": "stream",
     "text": [
      "epoch: 280 loss:0.188970 auc:0.5367\n",
      "Fit finished.\n",
      "epoch:   0 loss:0.898093 auc:0.4886\n",
      "epoch:  20 loss:0.314945 auc:0.5556\n",
      "epoch:  40 loss:0.235659 auc:0.6013\n",
      "epoch:  60 loss:0.216686 auc:0.6400\n",
      "epoch:  80 loss:0.209247 auc:0.6676\n",
      "epoch: 100 loss:0.204542 auc:0.6943\n",
      "epoch: 120 loss:0.199752 auc:0.7377\n",
      "epoch: 140 loss:0.195381 auc:0.7624\n",
      "epoch: 160 loss:0.193307 auc:0.7649\n",
      "epoch: 180 loss:0.192108 auc:0.7671\n",
      "epoch: 200 loss:0.191195 auc:0.7694\n",
      "epoch: 220 loss:0.190365 auc:0.7719\n",
      "epoch: 240 loss:0.190414 auc:0.7671\n",
      "epoch: 260 loss:0.188931 auc:0.7682\n",
      "epoch: 280 loss:0.187943 auc:0.7482\n"
     ]
    },
    {
     "name": "stderr",
     "output_type": "stream",
     "text": [
      " 55%|█████▍    | 181/331 [07:28<07:03,  2.82s/it]"
     ]
    },
    {
     "name": "stdout",
     "output_type": "stream",
     "text": [
      "epoch: 300 loss:0.187141 auc:0.7343\n",
      "Fit finished.\n",
      "epoch:   0 loss:0.761208 auc:0.5071\n",
      "epoch:  20 loss:0.256875 auc:0.4844\n",
      "epoch:  40 loss:0.218159 auc:0.5795\n",
      "epoch:  60 loss:0.209168 auc:0.5751\n",
      "epoch:  80 loss:0.203553 auc:0.5913\n",
      "epoch: 100 loss:0.196637 auc:0.6178\n",
      "epoch: 120 loss:0.192949 auc:0.6282\n",
      "epoch: 140 loss:0.192481 auc:0.6241\n",
      "epoch: 160 loss:0.190077 auc:0.6052\n",
      "epoch: 180 loss:0.189315 auc:0.5649\n"
     ]
    },
    {
     "name": "stderr",
     "output_type": "stream",
     "text": [
      " 55%|█████▍    | 182/331 [07:32<07:19,  2.95s/it]"
     ]
    },
    {
     "name": "stdout",
     "output_type": "stream",
     "text": [
      "epoch: 200 loss:0.187175 auc:0.5252\n",
      "Fit finished.\n",
      "epoch:   0 loss:0.685174 auc:0.4787\n",
      "epoch:  20 loss:0.324345 auc:0.4552\n",
      "epoch:  40 loss:0.235833 auc:0.4018\n",
      "epoch:  60 loss:0.216861 auc:0.6964\n",
      "epoch:  80 loss:0.209581 auc:0.6989\n",
      "epoch: 100 loss:0.204608 auc:0.7135\n",
      "epoch: 120 loss:0.198927 auc:0.7440\n",
      "epoch: 140 loss:0.194497 auc:0.7474\n",
      "epoch: 160 loss:0.192622 auc:0.7402\n",
      "epoch: 180 loss:0.191359 auc:0.7350\n",
      "epoch: 200 loss:0.190573 auc:0.7311\n",
      "epoch: 220 loss:0.189685 auc:0.7254\n",
      "epoch: 240 loss:0.188623 auc:0.7124\n"
     ]
    },
    {
     "name": "stderr",
     "output_type": "stream",
     "text": [
      " 56%|█████▌    | 184/331 [07:36<06:12,  2.53s/it]"
     ]
    },
    {
     "name": "stdout",
     "output_type": "stream",
     "text": [
      "epoch: 260 loss:0.188190 auc:0.7116\n",
      "Fit finished.\n",
      "epoch:   0 loss:0.614534 auc:0.3964\n",
      "epoch:  20 loss:0.233609 auc:0.4379\n",
      "epoch:  40 loss:0.214357 auc:0.8935\n",
      "epoch:  60 loss:0.206881 auc:0.9349\n",
      "epoch:  80 loss:0.200145 auc:0.9467\n",
      "epoch: 100 loss:0.194999 auc:0.9408\n",
      "epoch: 120 loss:0.193192 auc:0.9408\n",
      "epoch: 140 loss:0.191162 auc:0.9349\n",
      "epoch: 160 loss:0.191180 auc:0.9112\n",
      "epoch: 180 loss:0.188339 auc:0.9231\n"
     ]
    },
    {
     "name": "stderr",
     "output_type": "stream",
     "text": [
      " 56%|█████▌    | 185/331 [07:39<06:32,  2.69s/it]"
     ]
    },
    {
     "name": "stdout",
     "output_type": "stream",
     "text": [
      "epoch: 200 loss:0.186260 auc:0.8817\n",
      "Fit finished.\n",
      "epoch:   0 loss:0.559059 auc:0.5461\n",
      "epoch:  20 loss:0.281667 auc:0.5921\n",
      "epoch:  40 loss:0.223866 auc:0.6217\n",
      "epoch:  60 loss:0.209725 auc:0.6597\n",
      "epoch:  80 loss:0.202344 auc:0.6785\n",
      "epoch: 100 loss:0.195296 auc:0.6893\n",
      "epoch: 120 loss:0.192803 auc:0.6863\n",
      "epoch: 140 loss:0.190573 auc:0.6840\n",
      "epoch: 160 loss:0.189294 auc:0.6825\n",
      "epoch: 180 loss:0.188934 auc:0.6775\n",
      "epoch: 200 loss:0.187433 auc:0.6681\n"
     ]
    },
    {
     "name": "stderr",
     "output_type": "stream",
     "text": [
      " 56%|█████▌    | 186/331 [07:42<07:02,  2.91s/it]"
     ]
    },
    {
     "name": "stdout",
     "output_type": "stream",
     "text": [
      "epoch: 220 loss:0.186163 auc:0.6570\n",
      "Fit finished.\n",
      "epoch:   0 loss:0.842072 auc:0.5119\n",
      "epoch:  20 loss:0.304492 auc:0.5548\n",
      "epoch:  40 loss:0.228312 auc:0.5884\n",
      "epoch:  60 loss:0.212374 auc:0.6395\n",
      "epoch:  80 loss:0.205836 auc:0.6554\n",
      "epoch: 100 loss:0.200462 auc:0.6769\n",
      "epoch: 120 loss:0.195344 auc:0.6957\n",
      "epoch: 140 loss:0.192543 auc:0.7040\n",
      "epoch: 160 loss:0.191092 auc:0.7091\n",
      "epoch: 180 loss:0.190145 auc:0.7104\n",
      "epoch: 200 loss:0.189224 auc:0.7112\n",
      "epoch: 220 loss:0.188546 auc:0.7028\n",
      "epoch: 240 loss:0.187714 auc:0.6866\n"
     ]
    },
    {
     "name": "stderr",
     "output_type": "stream",
     "text": [
      " 56%|█████▋    | 187/331 [07:46<07:36,  3.17s/it]"
     ]
    },
    {
     "name": "stdout",
     "output_type": "stream",
     "text": [
      "epoch: 260 loss:0.186459 auc:0.6574\n",
      "Fit finished.\n",
      "epoch:   0 loss:0.721398 auc:0.4688\n",
      "epoch:  20 loss:0.319516 auc:0.5381\n",
      "epoch:  40 loss:0.230628 auc:0.5140\n",
      "epoch:  60 loss:0.211985 auc:0.6280\n",
      "epoch:  80 loss:0.203697 auc:0.6563\n",
      "epoch: 100 loss:0.196235 auc:0.6864\n",
      "epoch: 120 loss:0.192705 auc:0.6937\n",
      "epoch: 140 loss:0.191126 auc:0.6995\n",
      "epoch: 160 loss:0.190085 auc:0.6933\n",
      "epoch: 180 loss:0.188945 auc:0.6723\n",
      "epoch: 200 loss:0.189573 auc:0.5575\n"
     ]
    },
    {
     "name": "stderr",
     "output_type": "stream",
     "text": [
      " 57%|█████▋    | 189/331 [07:49<05:33,  2.35s/it]"
     ]
    },
    {
     "name": "stdout",
     "output_type": "stream",
     "text": [
      "epoch: 220 loss:0.187139 auc:0.5905\n",
      "Fit finished.\n",
      "epoch:   0 loss:0.884407 auc:0.5009\n",
      "epoch:  20 loss:0.330183 auc:0.5508\n",
      "epoch:  40 loss:0.244979 auc:0.6526\n",
      "epoch:  60 loss:0.218998 auc:0.7640\n",
      "epoch:  80 loss:0.210433 auc:0.8139\n",
      "epoch: 100 loss:0.204985 auc:0.8466\n",
      "epoch: 120 loss:0.199828 auc:0.8802\n",
      "epoch: 140 loss:0.195653 auc:0.8870\n",
      "epoch: 160 loss:0.193576 auc:0.8832\n",
      "epoch: 180 loss:0.192408 auc:0.8820\n",
      "epoch: 200 loss:0.191578 auc:0.8841\n",
      "epoch: 220 loss:0.190910 auc:0.8856\n",
      "epoch: 240 loss:0.190331 auc:0.8879\n",
      "epoch: 260 loss:0.189845 auc:0.8900\n",
      "epoch: 280 loss:0.189665 auc:0.8897\n",
      "epoch: 300 loss:0.188677 auc:0.8909\n",
      "epoch: 320 loss:0.188422 auc:0.8885\n",
      "epoch: 340 loss:0.187512 auc:0.8891\n",
      "epoch: 360 loss:0.187692 auc:0.8912\n"
     ]
    },
    {
     "name": "stderr",
     "output_type": "stream",
     "text": [
      " 58%|█████▊    | 191/331 [07:54<05:47,  2.48s/it]"
     ]
    },
    {
     "name": "stdout",
     "output_type": "stream",
     "text": [
      "epoch: 380 loss:0.186110 auc:0.8850\n",
      "Fit finished.\n",
      "epoch:   0 loss:0.719329 auc:0.3618\n",
      "epoch:  20 loss:0.308006 auc:0.4977\n",
      "epoch:  40 loss:0.231897 auc:0.4232\n",
      "epoch:  60 loss:0.216445 auc:0.6465\n",
      "epoch:  80 loss:0.209898 auc:0.6741\n",
      "epoch: 100 loss:0.205195 auc:0.6851\n",
      "epoch: 120 loss:0.199590 auc:0.6854\n",
      "epoch: 140 loss:0.194826 auc:0.6758\n",
      "epoch: 160 loss:0.192570 auc:0.6727\n",
      "epoch: 180 loss:0.191434 auc:0.6686\n",
      "epoch: 200 loss:0.190260 auc:0.6578\n",
      "epoch: 220 loss:0.189956 auc:0.6498\n"
     ]
    },
    {
     "name": "stderr",
     "output_type": "stream",
     "text": [
      " 59%|█████▊    | 194/331 [07:58<04:21,  1.91s/it]"
     ]
    },
    {
     "name": "stdout",
     "output_type": "stream",
     "text": [
      "epoch: 240 loss:0.187985 auc:0.6288\n",
      "Fit finished.\n",
      "epoch:   0 loss:0.648116 auc:0.4825\n",
      "epoch:  20 loss:0.253849 auc:0.4271\n",
      "epoch:  40 loss:0.218554 auc:0.6615\n",
      "epoch:  60 loss:0.209332 auc:0.8864\n",
      "epoch:  80 loss:0.203727 auc:0.8840\n",
      "epoch: 100 loss:0.197495 auc:0.9090\n",
      "epoch: 120 loss:0.194327 auc:0.9084\n",
      "epoch: 140 loss:0.192606 auc:0.9007\n",
      "epoch: 160 loss:0.193358 auc:0.8810\n",
      "epoch: 180 loss:0.190552 auc:0.8935\n",
      "epoch: 200 loss:0.188945 auc:0.8751\n"
     ]
    },
    {
     "name": "stderr",
     "output_type": "stream",
     "text": [
      " 59%|█████▉    | 196/331 [08:01<04:13,  1.87s/it]"
     ]
    },
    {
     "name": "stdout",
     "output_type": "stream",
     "text": [
      "epoch: 220 loss:0.187630 auc:0.8721\n",
      "Fit finished.\n",
      "epoch:   0 loss:0.674374 auc:0.4929\n",
      "epoch:  20 loss:0.288977 auc:0.3933\n",
      "epoch:  40 loss:0.228409 auc:0.4188\n",
      "epoch:  60 loss:0.213157 auc:0.6214\n",
      "epoch:  80 loss:0.206755 auc:0.6442\n",
      "epoch: 100 loss:0.201259 auc:0.6656\n",
      "epoch: 120 loss:0.195864 auc:0.6889\n",
      "epoch: 140 loss:0.193068 auc:0.6975\n",
      "epoch: 160 loss:0.191532 auc:0.6990\n",
      "epoch: 180 loss:0.190327 auc:0.6953\n",
      "epoch: 200 loss:0.189511 auc:0.6708\n",
      "epoch: 220 loss:0.189087 auc:0.6668\n"
     ]
    },
    {
     "name": "stderr",
     "output_type": "stream",
     "text": [
      " 60%|█████▉    | 197/331 [08:05<05:01,  2.25s/it]"
     ]
    },
    {
     "name": "stdout",
     "output_type": "stream",
     "text": [
      "epoch: 240 loss:0.187139 auc:0.6224\n",
      "Fit finished.\n",
      "epoch:   0 loss:0.575760 auc:0.5721\n",
      "epoch:  20 loss:0.306804 auc:0.5899\n",
      "epoch:  40 loss:0.228681 auc:0.5969\n",
      "epoch:  60 loss:0.212133 auc:0.5928\n",
      "epoch:  80 loss:0.204390 auc:0.5958\n",
      "epoch: 100 loss:0.197869 auc:0.5956\n",
      "epoch: 120 loss:0.193734 auc:0.5898\n",
      "epoch: 140 loss:0.191913 auc:0.5893\n",
      "epoch: 160 loss:0.190687 auc:0.5907\n",
      "epoch: 180 loss:0.189713 auc:0.5925\n"
     ]
    },
    {
     "name": "stderr",
     "output_type": "stream",
     "text": [
      " 60%|█████▉    | 198/331 [08:09<05:36,  2.53s/it]"
     ]
    },
    {
     "name": "stdout",
     "output_type": "stream",
     "text": [
      "epoch: 200 loss:0.188862 auc:0.5938\n",
      "Fit finished.\n",
      "epoch:   0 loss:1.361609 auc:0.5121\n",
      "epoch:  20 loss:0.296375 auc:0.7059\n",
      "epoch:  40 loss:0.229676 auc:0.3529\n",
      "epoch:  60 loss:0.216366 auc:0.8270\n",
      "epoch:  80 loss:0.210242 auc:0.8858\n",
      "epoch: 100 loss:0.205820 auc:0.9066\n",
      "epoch: 120 loss:0.200852 auc:0.9273\n",
      "epoch: 140 loss:0.196155 auc:0.9204\n",
      "epoch: 160 loss:0.193938 auc:0.9204\n",
      "epoch: 180 loss:0.192646 auc:0.9170\n",
      "epoch: 200 loss:0.191611 auc:0.9170\n",
      "epoch: 220 loss:0.190701 auc:0.9135\n",
      "epoch: 240 loss:0.189779 auc:0.9135\n",
      "epoch: 260 loss:0.189284 auc:0.9170\n"
     ]
    },
    {
     "name": "stderr",
     "output_type": "stream",
     "text": [
      " 60%|██████    | 199/331 [08:13<06:19,  2.87s/it]"
     ]
    },
    {
     "name": "stdout",
     "output_type": "stream",
     "text": [
      "epoch: 280 loss:0.188376 auc:0.9204\n",
      "Fit finished.\n",
      "epoch:   0 loss:0.733369 auc:0.4538\n",
      "epoch:  20 loss:0.319635 auc:0.5079\n",
      "epoch:  40 loss:0.230561 auc:0.4707\n",
      "epoch:  60 loss:0.214665 auc:0.6669\n",
      "epoch:  80 loss:0.207327 auc:0.6917\n",
      "epoch: 100 loss:0.201626 auc:0.7214\n",
      "epoch: 120 loss:0.195192 auc:0.7466\n",
      "epoch: 140 loss:0.192288 auc:0.7509\n",
      "epoch: 160 loss:0.190807 auc:0.7529\n",
      "epoch: 180 loss:0.190486 auc:0.7457\n",
      "epoch: 200 loss:0.189148 auc:0.7412\n",
      "epoch: 220 loss:0.188679 auc:0.6747\n"
     ]
    },
    {
     "name": "stderr",
     "output_type": "stream",
     "text": [
      " 60%|██████    | 200/331 [08:17<06:44,  3.09s/it]"
     ]
    },
    {
     "name": "stdout",
     "output_type": "stream",
     "text": [
      "epoch: 240 loss:0.186600 auc:0.6548\n",
      "Fit finished.\n",
      "epoch:   0 loss:0.817835 auc:0.6766\n",
      "epoch:  20 loss:0.332646 auc:0.5149\n",
      "epoch:  40 loss:0.241895 auc:0.6017\n",
      "epoch:  60 loss:0.215932 auc:0.5957\n",
      "epoch:  80 loss:0.206533 auc:0.5898\n",
      "epoch: 100 loss:0.199195 auc:0.5933\n",
      "epoch: 120 loss:0.195099 auc:0.5862\n",
      "epoch: 140 loss:0.193329 auc:0.5922\n"
     ]
    },
    {
     "name": "stderr",
     "output_type": "stream",
     "text": [
      " 61%|██████    | 202/331 [08:20<05:07,  2.38s/it]"
     ]
    },
    {
     "name": "stdout",
     "output_type": "stream",
     "text": [
      "epoch: 160 loss:0.191855 auc:0.5922\n",
      "Fit finished.\n",
      "epoch:   0 loss:0.879748 auc:0.5048\n",
      "epoch:  20 loss:0.306183 auc:0.5134\n",
      "epoch:  40 loss:0.231709 auc:0.5458\n",
      "epoch:  60 loss:0.215202 auc:0.6214\n",
      "epoch:  80 loss:0.209068 auc:0.6464\n",
      "epoch: 100 loss:0.204798 auc:0.6665\n",
      "epoch: 120 loss:0.200210 auc:0.7026\n",
      "epoch: 140 loss:0.195782 auc:0.7215\n",
      "epoch: 160 loss:0.193168 auc:0.7256\n",
      "epoch: 180 loss:0.191732 auc:0.7283\n",
      "epoch: 200 loss:0.191011 auc:0.7318\n",
      "epoch: 220 loss:0.189995 auc:0.7354\n",
      "epoch: 240 loss:0.189306 auc:0.7381\n",
      "epoch: 260 loss:0.188659 auc:0.7378\n",
      "epoch: 280 loss:0.187853 auc:0.7326\n"
     ]
    },
    {
     "name": "stderr",
     "output_type": "stream",
     "text": [
      " 61%|██████▏   | 203/331 [08:24<06:17,  2.95s/it]"
     ]
    },
    {
     "name": "stdout",
     "output_type": "stream",
     "text": [
      "epoch: 300 loss:0.187508 auc:0.7210\n",
      "Fit finished.\n",
      "epoch:   0 loss:0.869407 auc:0.4521\n",
      "epoch:  20 loss:0.308016 auc:0.5238\n",
      "epoch:  40 loss:0.232452 auc:0.6072\n",
      "epoch:  60 loss:0.215336 auc:0.6179\n",
      "epoch:  80 loss:0.207131 auc:0.6179\n",
      "epoch: 100 loss:0.200994 auc:0.6597\n",
      "epoch: 120 loss:0.195823 auc:0.6965\n",
      "epoch: 140 loss:0.193499 auc:0.7010\n",
      "epoch: 160 loss:0.192146 auc:0.7040\n",
      "epoch: 180 loss:0.193501 auc:0.6984\n",
      "epoch: 200 loss:0.190637 auc:0.7035\n",
      "epoch: 220 loss:0.189937 auc:0.6985\n",
      "epoch: 240 loss:0.189247 auc:0.6765\n"
     ]
    },
    {
     "name": "stderr",
     "output_type": "stream",
     "text": [
      " 62%|██████▏   | 206/331 [08:29<04:40,  2.25s/it]"
     ]
    },
    {
     "name": "stdout",
     "output_type": "stream",
     "text": [
      "epoch: 260 loss:0.190937 auc:0.6413\n",
      "Fit finished.\n",
      "epoch:   0 loss:0.852127 auc:0.4305\n",
      "epoch:  20 loss:0.293217 auc:0.5799\n",
      "epoch:  40 loss:0.229099 auc:0.7899\n",
      "epoch:  60 loss:0.214379 auc:0.8476\n",
      "epoch:  80 loss:0.208700 auc:0.8536\n",
      "epoch: 100 loss:0.204090 auc:0.8506\n",
      "epoch: 120 loss:0.199079 auc:0.8476\n",
      "epoch: 140 loss:0.195170 auc:0.8506\n",
      "epoch: 160 loss:0.193348 auc:0.8491\n",
      "epoch: 180 loss:0.192157 auc:0.8491\n",
      "epoch: 200 loss:0.191144 auc:0.8639\n",
      "epoch: 220 loss:0.190082 auc:0.8669\n",
      "epoch: 240 loss:0.191846 auc:0.8713\n",
      "epoch: 260 loss:0.188416 auc:0.8683\n",
      "epoch: 280 loss:0.186976 auc:0.8624\n"
     ]
    },
    {
     "name": "stderr",
     "output_type": "stream",
     "text": [
      " 63%|██████▎   | 207/331 [08:34<05:34,  2.70s/it]"
     ]
    },
    {
     "name": "stdout",
     "output_type": "stream",
     "text": [
      "epoch: 300 loss:0.186279 auc:0.8476\n",
      "Fit finished.\n",
      "epoch:   0 loss:0.530874 auc:0.5156\n",
      "epoch:  20 loss:0.294207 auc:0.4998\n",
      "epoch:  40 loss:0.224284 auc:0.5153\n",
      "epoch:  60 loss:0.208395 auc:0.5314\n",
      "epoch:  80 loss:0.200959 auc:0.5272\n",
      "epoch: 100 loss:0.194836 auc:0.5227\n",
      "epoch: 120 loss:0.192203 auc:0.5242\n",
      "epoch: 140 loss:0.190752 auc:0.5265\n",
      "epoch: 160 loss:0.189569 auc:0.5279\n",
      "epoch: 180 loss:0.189416 auc:0.5282\n",
      "epoch: 200 loss:0.188280 auc:0.5259\n"
     ]
    },
    {
     "name": "stderr",
     "output_type": "stream",
     "text": [
      " 63%|██████▎   | 208/331 [08:37<05:50,  2.85s/it]"
     ]
    },
    {
     "name": "stdout",
     "output_type": "stream",
     "text": [
      "epoch: 220 loss:0.187246 auc:0.5252\n",
      "Fit finished.\n",
      "epoch:   0 loss:0.672022 auc:0.4979\n",
      "epoch:  20 loss:0.272792 auc:0.6364\n",
      "epoch:  40 loss:0.223927 auc:0.6756\n",
      "epoch:  60 loss:0.211508 auc:0.7149\n",
      "epoch:  80 loss:0.205498 auc:0.7314\n",
      "epoch: 100 loss:0.199523 auc:0.7521\n",
      "epoch: 120 loss:0.195188 auc:0.7417\n",
      "epoch: 140 loss:0.193245 auc:0.7397\n",
      "epoch: 160 loss:0.191862 auc:0.7335\n",
      "epoch: 180 loss:0.190472 auc:0.7293\n",
      "epoch: 200 loss:0.190649 auc:0.7355\n",
      "epoch: 220 loss:0.188059 auc:0.7231\n"
     ]
    },
    {
     "name": "stderr",
     "output_type": "stream",
     "text": [
      " 63%|██████▎   | 209/331 [08:41<06:15,  3.07s/it]"
     ]
    },
    {
     "name": "stdout",
     "output_type": "stream",
     "text": [
      "epoch: 240 loss:0.186215 auc:0.6860\n",
      "Fit finished.\n",
      "epoch:   0 loss:0.752646 auc:0.5169\n",
      "epoch:  20 loss:0.273670 auc:0.4194\n",
      "epoch:  40 loss:0.220677 auc:0.5169\n",
      "epoch:  60 loss:0.209294 auc:0.5652\n",
      "epoch:  80 loss:0.203114 auc:0.5798\n",
      "epoch: 100 loss:0.196976 auc:0.5918\n",
      "epoch: 120 loss:0.194009 auc:0.5798\n",
      "epoch: 140 loss:0.192217 auc:0.5798\n",
      "epoch: 160 loss:0.191051 auc:0.5785\n",
      "epoch: 180 loss:0.190505 auc:0.5660\n",
      "epoch: 200 loss:0.189044 auc:0.5594\n"
     ]
    },
    {
     "name": "stderr",
     "output_type": "stream",
     "text": [
      " 63%|██████▎   | 210/331 [08:44<06:16,  3.11s/it]"
     ]
    },
    {
     "name": "stdout",
     "output_type": "stream",
     "text": [
      "epoch: 220 loss:0.189797 auc:0.5389\n",
      "Fit finished.\n",
      "epoch:   0 loss:0.724403 auc:0.3980\n",
      "epoch:  20 loss:0.248835 auc:0.5459\n",
      "epoch:  40 loss:0.218821 auc:0.8469\n",
      "epoch:  60 loss:0.210507 auc:0.8827\n",
      "epoch:  80 loss:0.204864 auc:0.8980\n",
      "epoch: 100 loss:0.197829 auc:0.9031\n",
      "epoch: 120 loss:0.194413 auc:0.9031\n",
      "epoch: 140 loss:0.192362 auc:0.8929\n",
      "epoch: 160 loss:0.192012 auc:0.8980\n",
      "epoch: 180 loss:0.190133 auc:0.8776\n",
      "epoch: 200 loss:0.189890 auc:0.8724\n"
     ]
    },
    {
     "name": "stderr",
     "output_type": "stream",
     "text": [
      " 64%|██████▍   | 212/331 [08:48<05:07,  2.59s/it]"
     ]
    },
    {
     "name": "stdout",
     "output_type": "stream",
     "text": [
      "epoch: 220 loss:0.187865 auc:0.8163\n",
      "Fit finished.\n",
      "epoch:   0 loss:0.631647 auc:0.5241\n",
      "epoch:  20 loss:0.307001 auc:0.6575\n",
      "epoch:  40 loss:0.231046 auc:0.7317\n",
      "epoch:  60 loss:0.212209 auc:0.7797\n",
      "epoch:  80 loss:0.205074 auc:0.7950\n",
      "epoch: 100 loss:0.200019 auc:0.8122\n",
      "epoch: 120 loss:0.195996 auc:0.8245\n",
      "epoch: 140 loss:0.193805 auc:0.8305\n",
      "epoch: 160 loss:0.192556 auc:0.8346\n",
      "epoch: 180 loss:0.191610 auc:0.8383\n",
      "epoch: 200 loss:0.190796 auc:0.8409\n",
      "epoch: 220 loss:0.190021 auc:0.8436\n",
      "epoch: 240 loss:0.190641 auc:0.8447\n",
      "epoch: 260 loss:0.188660 auc:0.8461\n",
      "epoch: 280 loss:0.187833 auc:0.8426\n"
     ]
    },
    {
     "name": "stderr",
     "output_type": "stream",
     "text": [
      " 65%|██████▌   | 216/331 [08:52<03:24,  1.78s/it]"
     ]
    },
    {
     "name": "stdout",
     "output_type": "stream",
     "text": [
      "epoch: 300 loss:0.187397 auc:0.8273\n",
      "Fit finished.\n",
      "epoch:   0 loss:1.209614 auc:0.5129\n",
      "epoch:  20 loss:0.335755 auc:0.5912\n",
      "epoch:  40 loss:0.261592 auc:0.5612\n",
      "epoch:  60 loss:0.222410 auc:0.6125\n",
      "epoch:  80 loss:0.210965 auc:0.6753\n",
      "epoch: 100 loss:0.204915 auc:0.6905\n",
      "epoch: 120 loss:0.199541 auc:0.7163\n",
      "epoch: 140 loss:0.194865 auc:0.7375\n",
      "epoch: 160 loss:0.192654 auc:0.7384\n",
      "epoch: 180 loss:0.191518 auc:0.7391\n",
      "epoch: 200 loss:0.190799 auc:0.7393\n",
      "epoch: 220 loss:0.189968 auc:0.7413\n",
      "epoch: 240 loss:0.190273 auc:0.7384\n",
      "epoch: 260 loss:0.188790 auc:0.7396\n"
     ]
    },
    {
     "name": "stderr",
     "output_type": "stream",
     "text": [
      " 66%|██████▌   | 217/331 [08:57<04:09,  2.19s/it]"
     ]
    },
    {
     "name": "stdout",
     "output_type": "stream",
     "text": [
      "epoch: 280 loss:0.188697 auc:0.7136\n",
      "Fit finished.\n",
      "epoch:   0 loss:1.061097 auc:0.4161\n",
      "epoch:  20 loss:0.323130 auc:0.6863\n",
      "epoch:  40 loss:0.241058 auc:0.7694\n",
      "epoch:  60 loss:0.217154 auc:0.8431\n",
      "epoch:  80 loss:0.209775 auc:0.8520\n",
      "epoch: 100 loss:0.204926 auc:0.8637\n",
      "epoch: 120 loss:0.200202 auc:0.8886\n",
      "epoch: 140 loss:0.195983 auc:0.8953\n",
      "epoch: 160 loss:0.193863 auc:0.8935\n",
      "epoch: 180 loss:0.192701 auc:0.8929\n",
      "epoch: 200 loss:0.191852 auc:0.8935\n",
      "epoch: 220 loss:0.191120 auc:0.8927\n",
      "epoch: 240 loss:0.190423 auc:0.8947\n",
      "epoch: 260 loss:0.191687 auc:0.8886\n",
      "epoch: 280 loss:0.189941 auc:0.8933\n"
     ]
    },
    {
     "name": "stderr",
     "output_type": "stream",
     "text": [
      " 66%|██████▌   | 218/331 [09:03<05:33,  2.95s/it]"
     ]
    },
    {
     "name": "stdout",
     "output_type": "stream",
     "text": [
      "epoch: 300 loss:0.188639 auc:0.8808\n",
      "Fit finished.\n",
      "epoch:   0 loss:0.710727 auc:0.3352\n",
      "epoch:  20 loss:0.307542 auc:0.6427\n",
      "epoch:  40 loss:0.228546 auc:0.5457\n",
      "epoch:  60 loss:0.211684 auc:0.7285\n",
      "epoch:  80 loss:0.204328 auc:0.7119\n",
      "epoch: 100 loss:0.198459 auc:0.6593\n",
      "epoch: 120 loss:0.195081 auc:0.6371\n",
      "epoch: 140 loss:0.193426 auc:0.6427\n",
      "epoch: 160 loss:0.192242 auc:0.6537\n",
      "epoch: 180 loss:0.191255 auc:0.6593\n"
     ]
    },
    {
     "name": "stderr",
     "output_type": "stream",
     "text": [
      " 66%|██████▌   | 219/331 [09:05<05:22,  2.88s/it]"
     ]
    },
    {
     "name": "stdout",
     "output_type": "stream",
     "text": [
      "epoch: 200 loss:0.190456 auc:0.6537\n",
      "epoch: 220 loss:0.189915 auc:0.6205\n",
      "Fit finished.\n",
      "epoch:   0 loss:0.632298 auc:0.5694\n",
      "epoch:  20 loss:0.281086 auc:0.3750\n",
      "epoch:  40 loss:0.224830 auc:0.5556\n",
      "epoch:  60 loss:0.211715 auc:0.9375\n",
      "epoch:  80 loss:0.205017 auc:0.9167\n",
      "epoch: 100 loss:0.198430 auc:0.8958\n",
      "epoch: 120 loss:0.194338 auc:0.9028\n",
      "epoch: 140 loss:0.192813 auc:0.9167\n",
      "epoch: 160 loss:0.191751 auc:0.9028\n",
      "epoch: 180 loss:0.192613 auc:0.9028\n",
      "epoch: 200 loss:0.189782 auc:0.9097\n"
     ]
    },
    {
     "name": "stderr",
     "output_type": "stream",
     "text": [
      " 66%|██████▋   | 220/331 [09:08<05:24,  2.92s/it]"
     ]
    },
    {
     "name": "stdout",
     "output_type": "stream",
     "text": [
      "epoch: 220 loss:0.188748 auc:0.8958\n",
      "Fit finished.\n",
      "epoch:   0 loss:0.549802 auc:0.4740\n",
      "epoch:  20 loss:0.255417 auc:0.4641\n",
      "epoch:  40 loss:0.216229 auc:0.4703\n",
      "epoch:  60 loss:0.206874 auc:0.4964\n",
      "epoch:  80 loss:0.200149 auc:0.5312\n",
      "epoch: 100 loss:0.195143 auc:0.5599\n",
      "epoch: 120 loss:0.192730 auc:0.5606\n",
      "epoch: 140 loss:0.190942 auc:0.5534\n",
      "epoch: 160 loss:0.191558 auc:0.5034\n",
      "epoch: 180 loss:0.188460 auc:0.5156\n",
      "epoch: 200 loss:0.186449 auc:0.4956\n"
     ]
    },
    {
     "name": "stderr",
     "output_type": "stream",
     "text": [
      " 67%|██████▋   | 221/331 [09:12<05:40,  3.09s/it]"
     ]
    },
    {
     "name": "stdout",
     "output_type": "stream",
     "text": [
      "epoch: 220 loss:0.184513 auc:0.4791\n",
      "Fit finished.\n",
      "epoch:   0 loss:0.815830 auc:0.5033\n",
      "epoch:  20 loss:0.338284 auc:0.5198\n",
      "epoch:  40 loss:0.256632 auc:0.4488\n",
      "epoch:  60 loss:0.220867 auc:0.6028\n",
      "epoch:  80 loss:0.209040 auc:0.6626\n",
      "epoch: 100 loss:0.202183 auc:0.6856\n",
      "epoch: 120 loss:0.196419 auc:0.7090\n",
      "epoch: 140 loss:0.193562 auc:0.7176\n",
      "epoch: 160 loss:0.192060 auc:0.7192\n",
      "epoch: 180 loss:0.191863 auc:0.7219\n",
      "epoch: 200 loss:0.190190 auc:0.7189\n",
      "epoch: 220 loss:0.189436 auc:0.7132\n",
      "epoch: 240 loss:0.189712 auc:0.6759\n",
      "epoch: 260 loss:0.188307 auc:0.6911\n"
     ]
    },
    {
     "name": "stderr",
     "output_type": "stream",
     "text": [
      " 67%|██████▋   | 222/331 [09:17<06:16,  3.45s/it]"
     ]
    },
    {
     "name": "stdout",
     "output_type": "stream",
     "text": [
      "epoch: 280 loss:0.188667 auc:0.6724\n",
      "Fit finished.\n",
      "epoch:   0 loss:0.823328 auc:0.5190\n",
      "epoch:  20 loss:0.319129 auc:0.5382\n",
      "epoch:  40 loss:0.239598 auc:0.5369\n",
      "epoch:  60 loss:0.218476 auc:0.6067\n",
      "epoch:  80 loss:0.210419 auc:0.6300\n",
      "epoch: 100 loss:0.205662 auc:0.6463\n",
      "epoch: 120 loss:0.200748 auc:0.6754\n",
      "epoch: 140 loss:0.196113 auc:0.6932\n",
      "epoch: 160 loss:0.193810 auc:0.6891\n",
      "epoch: 180 loss:0.192407 auc:0.6831\n",
      "epoch: 200 loss:0.191385 auc:0.6779\n",
      "epoch: 220 loss:0.190385 auc:0.6165\n"
     ]
    },
    {
     "name": "stderr",
     "output_type": "stream",
     "text": [
      " 67%|██████▋   | 223/331 [09:21<06:28,  3.60s/it]"
     ]
    },
    {
     "name": "stdout",
     "output_type": "stream",
     "text": [
      "epoch: 240 loss:0.189118 auc:0.5735\n",
      "Fit finished.\n",
      "epoch:   0 loss:0.760063 auc:0.2781\n",
      "epoch:  20 loss:0.246612 auc:0.6686\n",
      "epoch:  40 loss:0.218892 auc:0.7101\n",
      "epoch:  60 loss:0.210650 auc:0.7751\n",
      "epoch:  80 loss:0.205466 auc:0.7988\n",
      "epoch: 100 loss:0.199134 auc:0.8225\n",
      "epoch: 120 loss:0.194837 auc:0.8462\n",
      "epoch: 140 loss:0.192836 auc:0.8521\n",
      "epoch: 160 loss:0.196881 auc:0.8402\n",
      "epoch: 180 loss:0.190555 auc:0.8462\n",
      "epoch: 200 loss:0.189015 auc:0.8343\n",
      "epoch: 220 loss:0.189063 auc:0.8047\n"
     ]
    },
    {
     "name": "stderr",
     "output_type": "stream",
     "text": [
      " 68%|██████▊   | 225/331 [09:25<05:13,  2.95s/it]"
     ]
    },
    {
     "name": "stdout",
     "output_type": "stream",
     "text": [
      "epoch: 240 loss:0.186026 auc:0.7870\n",
      "Fit finished.\n",
      "epoch:   0 loss:0.832133 auc:0.5664\n",
      "epoch:  20 loss:0.311132 auc:0.6190\n",
      "epoch:  40 loss:0.226478 auc:0.5191\n",
      "epoch:  60 loss:0.213540 auc:0.6780\n",
      "epoch:  80 loss:0.207713 auc:0.7124\n",
      "epoch: 100 loss:0.203139 auc:0.7378\n",
      "epoch: 120 loss:0.197877 auc:0.7707\n",
      "epoch: 140 loss:0.193935 auc:0.7818\n",
      "epoch: 160 loss:0.192188 auc:0.7845\n",
      "epoch: 180 loss:0.191114 auc:0.7826\n",
      "epoch: 200 loss:0.190368 auc:0.7773\n",
      "epoch: 220 loss:0.189689 auc:0.7756\n",
      "epoch: 240 loss:0.188998 auc:0.7670\n"
     ]
    },
    {
     "name": "stderr",
     "output_type": "stream",
     "text": [
      " 68%|██████▊   | 226/331 [09:29<05:39,  3.24s/it]"
     ]
    },
    {
     "name": "stdout",
     "output_type": "stream",
     "text": [
      "epoch: 260 loss:0.189655 auc:0.7219\n",
      "Fit finished.\n",
      "epoch:   0 loss:0.499589 auc:0.3785\n",
      "epoch:  20 loss:0.244172 auc:0.6603\n",
      "epoch:  40 loss:0.213007 auc:0.7448\n",
      "epoch:  60 loss:0.203980 auc:0.7794\n",
      "epoch:  80 loss:0.195964 auc:0.8103\n",
      "epoch: 100 loss:0.192629 auc:0.8133\n",
      "epoch: 120 loss:0.191465 auc:0.8089\n",
      "epoch: 140 loss:0.189178 auc:0.8060\n",
      "epoch: 160 loss:0.188074 auc:0.7954\n",
      "epoch: 180 loss:0.185637 auc:0.7806\n"
     ]
    },
    {
     "name": "stderr",
     "output_type": "stream",
     "text": [
      " 69%|██████▊   | 227/331 [09:32<05:33,  3.20s/it]"
     ]
    },
    {
     "name": "stdout",
     "output_type": "stream",
     "text": [
      "epoch: 200 loss:0.184352 auc:0.7398\n",
      "Fit finished.\n",
      "epoch:   0 loss:0.835237 auc:0.4234\n",
      "epoch:  20 loss:0.301538 auc:0.4494\n",
      "epoch:  40 loss:0.227992 auc:0.4234\n",
      "epoch:  60 loss:0.212831 auc:0.6208\n",
      "epoch:  80 loss:0.207161 auc:0.6446\n",
      "epoch: 100 loss:0.202576 auc:0.6593\n",
      "epoch: 120 loss:0.196970 auc:0.6709\n",
      "epoch: 140 loss:0.193039 auc:0.6753\n",
      "epoch: 160 loss:0.191195 auc:0.6784\n",
      "epoch: 180 loss:0.189723 auc:0.6711\n",
      "epoch: 200 loss:0.188641 auc:0.6613\n",
      "epoch: 220 loss:0.187209 auc:0.6306\n"
     ]
    },
    {
     "name": "stderr",
     "output_type": "stream",
     "text": [
      " 69%|██████▉   | 228/331 [09:36<05:44,  3.35s/it]"
     ]
    },
    {
     "name": "stdout",
     "output_type": "stream",
     "text": [
      "epoch: 240 loss:0.185682 auc:0.6009\n",
      "Fit finished.\n",
      "epoch:   0 loss:0.541763 auc:0.5123\n",
      "epoch:  20 loss:0.243925 auc:0.5466\n",
      "epoch:  40 loss:0.215504 auc:0.6373\n",
      "epoch:  60 loss:0.206019 auc:0.6645\n",
      "epoch:  80 loss:0.197688 auc:0.7073\n",
      "epoch: 100 loss:0.193038 auc:0.7249\n",
      "epoch: 120 loss:0.191682 auc:0.7221\n",
      "epoch: 140 loss:0.189339 auc:0.7143\n",
      "epoch: 160 loss:0.188340 auc:0.6735\n",
      "epoch: 180 loss:0.187088 auc:0.6759\n"
     ]
    },
    {
     "name": "stderr",
     "output_type": "stream",
     "text": [
      " 69%|██████▉   | 230/331 [09:40<04:43,  2.81s/it]"
     ]
    },
    {
     "name": "stdout",
     "output_type": "stream",
     "text": [
      "epoch: 200 loss:0.186621 auc:0.6068\n",
      "Fit finished.\n",
      "epoch:   0 loss:1.456887 auc:0.4793\n",
      "epoch:  20 loss:0.331511 auc:0.5109\n",
      "epoch:  40 loss:0.252153 auc:0.4016\n",
      "epoch:  60 loss:0.221958 auc:0.6183\n",
      "epoch:  80 loss:0.210141 auc:0.6587\n",
      "epoch: 100 loss:0.204082 auc:0.6704\n",
      "epoch: 120 loss:0.198622 auc:0.6956\n",
      "epoch: 140 loss:0.194208 auc:0.7060\n",
      "epoch: 160 loss:0.192234 auc:0.7060\n",
      "epoch: 180 loss:0.191071 auc:0.7032\n",
      "epoch: 200 loss:0.190956 auc:0.7048\n",
      "epoch: 220 loss:0.189552 auc:0.6887\n",
      "epoch: 240 loss:0.189149 auc:0.6831\n"
     ]
    },
    {
     "name": "stderr",
     "output_type": "stream",
     "text": [
      " 70%|██████▉   | 231/331 [09:43<04:46,  2.87s/it]"
     ]
    },
    {
     "name": "stdout",
     "output_type": "stream",
     "text": [
      "epoch: 260 loss:0.188375 auc:0.6494\n",
      "Fit finished.\n",
      "epoch:   0 loss:1.681680 auc:0.5477\n",
      "epoch:  20 loss:0.315774 auc:0.5800\n",
      "epoch:  40 loss:0.237503 auc:0.5063\n",
      "epoch:  60 loss:0.216969 auc:0.6771\n",
      "epoch:  80 loss:0.209613 auc:0.7046\n",
      "epoch: 100 loss:0.204858 auc:0.7181\n",
      "epoch: 120 loss:0.200154 auc:0.7315\n",
      "epoch: 140 loss:0.195438 auc:0.7344\n",
      "epoch: 160 loss:0.192783 auc:0.7325\n",
      "epoch: 180 loss:0.191470 auc:0.7344\n",
      "epoch: 200 loss:0.190524 auc:0.7354\n",
      "epoch: 220 loss:0.189738 auc:0.7354\n",
      "epoch: 240 loss:0.189576 auc:0.7313\n",
      "epoch: 260 loss:0.188699 auc:0.7330\n"
     ]
    },
    {
     "name": "stderr",
     "output_type": "stream",
     "text": [
      " 71%|███████   | 234/331 [09:46<03:09,  1.95s/it]"
     ]
    },
    {
     "name": "stdout",
     "output_type": "stream",
     "text": [
      "epoch: 280 loss:0.187933 auc:0.7187\n",
      "Fit finished.\n",
      "epoch:   0 loss:0.949361 auc:0.5475\n",
      "epoch:  20 loss:0.309377 auc:0.5418\n",
      "epoch:  40 loss:0.228291 auc:0.5187\n",
      "epoch:  60 loss:0.214412 auc:0.7237\n",
      "epoch:  80 loss:0.208880 auc:0.7513\n",
      "epoch: 100 loss:0.204759 auc:0.7685\n",
      "epoch: 120 loss:0.199898 auc:0.7951\n",
      "epoch: 140 loss:0.195310 auc:0.8041\n",
      "epoch: 160 loss:0.193050 auc:0.8044\n",
      "epoch: 180 loss:0.191734 auc:0.8041\n",
      "epoch: 200 loss:0.190745 auc:0.8048\n",
      "epoch: 220 loss:0.190185 auc:0.8066\n",
      "epoch: 240 loss:0.189666 auc:0.8083\n",
      "epoch: 260 loss:0.188699 auc:0.8099\n",
      "epoch: 280 loss:0.189316 auc:0.8018\n"
     ]
    },
    {
     "name": "stderr",
     "output_type": "stream",
     "text": [
      " 71%|███████▏  | 236/331 [09:51<03:14,  2.05s/it]"
     ]
    },
    {
     "name": "stdout",
     "output_type": "stream",
     "text": [
      "epoch: 300 loss:0.187410 auc:0.7910\n",
      "Fit finished.\n",
      "epoch:   0 loss:0.709168 auc:0.4118\n",
      "epoch:  20 loss:0.286221 auc:0.4429\n",
      "epoch:  40 loss:0.225627 auc:0.4948\n",
      "epoch:  60 loss:0.211384 auc:0.4844\n",
      "epoch:  80 loss:0.205372 auc:0.4602\n",
      "epoch: 100 loss:0.199356 auc:0.4325\n",
      "epoch: 120 loss:0.194599 auc:0.4498\n",
      "epoch: 140 loss:0.192675 auc:0.4844\n",
      "epoch: 160 loss:0.191813 auc:0.4879\n",
      "epoch: 180 loss:0.190510 auc:0.4671\n"
     ]
    },
    {
     "name": "stderr",
     "output_type": "stream",
     "text": [
      " 72%|███████▏  | 238/331 [09:54<03:02,  1.96s/it]"
     ]
    },
    {
     "name": "stdout",
     "output_type": "stream",
     "text": [
      "epoch: 200 loss:0.190155 auc:0.4567\n",
      "Fit finished.\n",
      "epoch:   0 loss:0.920492 auc:0.5875\n",
      "epoch:  20 loss:0.337168 auc:0.6087\n",
      "epoch:  40 loss:0.254955 auc:0.6254\n",
      "epoch:  60 loss:0.221016 auc:0.6535\n",
      "epoch:  80 loss:0.209323 auc:0.6849\n",
      "epoch: 100 loss:0.202498 auc:0.7106\n",
      "epoch: 120 loss:0.196245 auc:0.7220\n",
      "epoch: 140 loss:0.193229 auc:0.7226\n",
      "epoch: 160 loss:0.191751 auc:0.7273\n",
      "epoch: 180 loss:0.190979 auc:0.7302\n",
      "epoch: 200 loss:0.190062 auc:0.7319\n",
      "epoch: 220 loss:0.189325 auc:0.7322\n",
      "epoch: 240 loss:0.188981 auc:0.7296\n",
      "epoch: 260 loss:0.190229 auc:0.7157\n",
      "epoch: 280 loss:0.187565 auc:0.7264\n"
     ]
    },
    {
     "name": "stderr",
     "output_type": "stream",
     "text": [
      " 72%|███████▏  | 239/331 [09:59<03:42,  2.42s/it]"
     ]
    },
    {
     "name": "stdout",
     "output_type": "stream",
     "text": [
      "epoch: 300 loss:0.188002 auc:0.7200\n",
      "Fit finished.\n",
      "epoch:   0 loss:0.739431 auc:0.6642\n",
      "epoch:  20 loss:0.328688 auc:0.5281\n",
      "epoch:  40 loss:0.249544 auc:0.5858\n",
      "epoch:  60 loss:0.221553 auc:0.8299\n",
      "epoch:  80 loss:0.212368 auc:0.8521\n",
      "epoch: 100 loss:0.206973 auc:0.8550\n",
      "epoch: 120 loss:0.201163 auc:0.8447\n",
      "epoch: 140 loss:0.195242 auc:0.8195\n",
      "epoch: 160 loss:0.193135 auc:0.8254\n",
      "epoch: 180 loss:0.191860 auc:0.8343\n",
      "epoch: 200 loss:0.191333 auc:0.8358\n"
     ]
    },
    {
     "name": "stderr",
     "output_type": "stream",
     "text": [
      " 73%|███████▎  | 241/331 [10:02<03:13,  2.15s/it]"
     ]
    },
    {
     "name": "stdout",
     "output_type": "stream",
     "text": [
      "epoch: 220 loss:0.190056 auc:0.8269\n",
      "Fit finished.\n",
      "epoch:   0 loss:0.619994 auc:0.4515\n",
      "epoch:  20 loss:0.281934 auc:0.5595\n",
      "epoch:  40 loss:0.224643 auc:0.6290\n",
      "epoch:  60 loss:0.209941 auc:0.6494\n",
      "epoch:  80 loss:0.202058 auc:0.6783\n",
      "epoch: 100 loss:0.195914 auc:0.7169\n",
      "epoch: 120 loss:0.193251 auc:0.7257\n",
      "epoch: 140 loss:0.191756 auc:0.7334\n",
      "epoch: 160 loss:0.191059 auc:0.7371\n",
      "epoch: 180 loss:0.189735 auc:0.7405\n",
      "epoch: 200 loss:0.189642 auc:0.7432\n",
      "epoch: 220 loss:0.189379 auc:0.7022\n",
      "epoch: 240 loss:0.186024 auc:0.6908\n"
     ]
    },
    {
     "name": "stderr",
     "output_type": "stream",
     "text": [
      " 74%|███████▎  | 244/331 [10:06<02:34,  1.78s/it]"
     ]
    },
    {
     "name": "stdout",
     "output_type": "stream",
     "text": [
      "epoch: 260 loss:0.185003 auc:0.6487\n",
      "Fit finished.\n",
      "epoch:   0 loss:0.959039 auc:0.5178\n",
      "epoch:  20 loss:0.320763 auc:0.6402\n",
      "epoch:  40 loss:0.243069 auc:0.6459\n",
      "epoch:  60 loss:0.217938 auc:0.6781\n",
      "epoch:  80 loss:0.209816 auc:0.6898\n",
      "epoch: 100 loss:0.204956 auc:0.6934\n",
      "epoch: 120 loss:0.200212 auc:0.6979\n",
      "epoch: 140 loss:0.195700 auc:0.6991\n",
      "epoch: 160 loss:0.193192 auc:0.6973\n",
      "epoch: 180 loss:0.191918 auc:0.6994\n",
      "epoch: 200 loss:0.190989 auc:0.6996\n",
      "epoch: 220 loss:0.190194 auc:0.6971\n",
      "epoch: 240 loss:0.189424 auc:0.6962\n",
      "epoch: 260 loss:0.189293 auc:0.6954\n"
     ]
    },
    {
     "name": "stderr",
     "output_type": "stream",
     "text": [
      " 74%|███████▍  | 245/331 [10:11<03:17,  2.30s/it]"
     ]
    },
    {
     "name": "stdout",
     "output_type": "stream",
     "text": [
      "epoch: 280 loss:0.187861 auc:0.6778\n",
      "Fit finished.\n",
      "epoch:   0 loss:0.752543 auc:0.4995\n",
      "epoch:  20 loss:0.288567 auc:0.6111\n",
      "epoch:  40 loss:0.223459 auc:0.5965\n",
      "epoch:  60 loss:0.211423 auc:0.5989\n",
      "epoch:  80 loss:0.205952 auc:0.6033\n",
      "epoch: 100 loss:0.200244 auc:0.5999\n",
      "epoch: 120 loss:0.194681 auc:0.6024\n",
      "epoch: 140 loss:0.192345 auc:0.6099\n",
      "epoch: 160 loss:0.191098 auc:0.6153\n"
     ]
    },
    {
     "name": "stderr",
     "output_type": "stream",
     "text": [
      " 74%|███████▍  | 246/331 [10:14<03:29,  2.46s/it]"
     ]
    },
    {
     "name": "stdout",
     "output_type": "stream",
     "text": [
      "epoch: 180 loss:0.190599 auc:0.6108\n",
      "Fit finished.\n",
      "epoch:   0 loss:0.786630 auc:0.5442\n",
      "epoch:  20 loss:0.337613 auc:0.5851\n",
      "epoch:  40 loss:0.254310 auc:0.5497\n",
      "epoch:  60 loss:0.219716 auc:0.7092\n",
      "epoch:  80 loss:0.209863 auc:0.7250\n",
      "epoch: 100 loss:0.204321 auc:0.7365\n",
      "epoch: 120 loss:0.199103 auc:0.7537\n",
      "epoch: 140 loss:0.194853 auc:0.7618\n",
      "epoch: 160 loss:0.192996 auc:0.7681\n",
      "epoch: 180 loss:0.191848 auc:0.7695\n",
      "epoch: 200 loss:0.190918 auc:0.7671\n",
      "epoch: 220 loss:0.190213 auc:0.7652\n",
      "epoch: 240 loss:0.189516 auc:0.7628\n",
      "epoch: 260 loss:0.188726 auc:0.7437\n"
     ]
    },
    {
     "name": "stderr",
     "output_type": "stream",
     "text": [
      " 75%|███████▌  | 249/331 [10:19<02:55,  2.14s/it]"
     ]
    },
    {
     "name": "stdout",
     "output_type": "stream",
     "text": [
      "epoch: 280 loss:0.188231 auc:0.7088\n",
      "Fit finished.\n",
      "epoch:   0 loss:0.754652 auc:0.6851\n",
      "epoch:  20 loss:0.326277 auc:0.5363\n",
      "epoch:  40 loss:0.239455 auc:0.5917\n",
      "epoch:  60 loss:0.217689 auc:0.7370\n",
      "epoch:  80 loss:0.208332 auc:0.7474\n",
      "epoch: 100 loss:0.201989 auc:0.7509\n",
      "epoch: 120 loss:0.196450 auc:0.7439\n",
      "epoch: 140 loss:0.193735 auc:0.7405\n",
      "epoch: 160 loss:0.192544 auc:0.7439\n",
      "epoch: 180 loss:0.191327 auc:0.7336\n",
      "epoch: 200 loss:0.191032 auc:0.7197\n"
     ]
    },
    {
     "name": "stderr",
     "output_type": "stream",
     "text": [
      " 77%|███████▋  | 254/331 [10:26<02:12,  1.73s/it]"
     ]
    },
    {
     "name": "stdout",
     "output_type": "stream",
     "text": [
      "epoch: 220 loss:0.189862 auc:0.7163\n",
      "Fit finished.\n",
      "epoch:   0 loss:0.538203 auc:0.4310\n",
      "epoch:  20 loss:0.285894 auc:0.4583\n",
      "epoch:  40 loss:0.228794 auc:0.5145\n",
      "epoch:  60 loss:0.212489 auc:0.5929\n",
      "epoch:  80 loss:0.205490 auc:0.6194\n",
      "epoch: 100 loss:0.199458 auc:0.6360\n",
      "epoch: 120 loss:0.195154 auc:0.6540\n",
      "epoch: 140 loss:0.193218 auc:0.6731\n",
      "epoch: 160 loss:0.192009 auc:0.6944\n",
      "epoch: 180 loss:0.191238 auc:0.7059\n",
      "epoch: 200 loss:0.190639 auc:0.7107\n",
      "epoch: 220 loss:0.189667 auc:0.7118\n",
      "epoch: 240 loss:0.189629 auc:0.6370\n"
     ]
    },
    {
     "name": "stderr",
     "output_type": "stream",
     "text": [
      " 78%|███████▊  | 257/331 [10:31<02:05,  1.70s/it]"
     ]
    },
    {
     "name": "stdout",
     "output_type": "stream",
     "text": [
      "epoch: 260 loss:0.187057 auc:0.6237\n",
      "Fit finished.\n",
      "epoch:   0 loss:0.895605 auc:0.7706\n",
      "epoch:  20 loss:0.282988 auc:0.5246\n",
      "epoch:  40 loss:0.226413 auc:0.5463\n",
      "epoch:  60 loss:0.213064 auc:0.7736\n",
      "epoch:  80 loss:0.207560 auc:0.7931\n",
      "epoch: 100 loss:0.202277 auc:0.8065\n",
      "epoch: 120 loss:0.196861 auc:0.7994\n",
      "epoch: 140 loss:0.194028 auc:0.7860\n"
     ]
    },
    {
     "name": "stderr",
     "output_type": "stream",
     "text": [
      " 78%|███████▊  | 258/331 [10:33<02:12,  1.82s/it]"
     ]
    },
    {
     "name": "stdout",
     "output_type": "stream",
     "text": [
      "epoch: 160 loss:0.192364 auc:0.7609\n",
      "Fit finished.\n",
      "epoch:   0 loss:0.873522 auc:0.4968\n",
      "epoch:  20 loss:0.294790 auc:0.5411\n",
      "epoch:  40 loss:0.226642 auc:0.5760\n",
      "epoch:  60 loss:0.212296 auc:0.6490\n",
      "epoch:  80 loss:0.206329 auc:0.6808\n",
      "epoch: 100 loss:0.201036 auc:0.7185\n",
      "epoch: 120 loss:0.195287 auc:0.7528\n",
      "epoch: 140 loss:0.192597 auc:0.7562\n",
      "epoch: 160 loss:0.191138 auc:0.7603\n",
      "epoch: 180 loss:0.190897 auc:0.7571\n",
      "epoch: 200 loss:0.189727 auc:0.7643\n",
      "epoch: 220 loss:0.188386 auc:0.7468\n",
      "epoch: 240 loss:0.188467 auc:0.6990\n"
     ]
    },
    {
     "name": "stderr",
     "output_type": "stream",
     "text": [
      " 78%|███████▊  | 259/331 [10:38<02:41,  2.24s/it]"
     ]
    },
    {
     "name": "stdout",
     "output_type": "stream",
     "text": [
      "epoch: 260 loss:0.186672 auc:0.7017\n",
      "Fit finished.\n",
      "epoch:   0 loss:0.588977 auc:0.5413\n",
      "epoch:  20 loss:0.288631 auc:0.4711\n",
      "epoch:  40 loss:0.223353 auc:0.6384\n",
      "epoch:  60 loss:0.210936 auc:0.6384\n",
      "epoch:  80 loss:0.204693 auc:0.6591\n",
      "epoch: 100 loss:0.198218 auc:0.6777\n",
      "epoch: 120 loss:0.194273 auc:0.6632\n",
      "epoch: 140 loss:0.192331 auc:0.6756\n",
      "epoch: 160 loss:0.192645 auc:0.6715\n",
      "epoch: 180 loss:0.190548 auc:0.6653\n",
      "epoch: 200 loss:0.189160 auc:0.6736\n",
      "epoch: 220 loss:0.189541 auc:0.6488\n",
      "epoch: 240 loss:0.187476 auc:0.6715\n"
     ]
    },
    {
     "name": "stderr",
     "output_type": "stream",
     "text": [
      " 79%|███████▉  | 263/331 [10:42<01:55,  1.70s/it]"
     ]
    },
    {
     "name": "stdout",
     "output_type": "stream",
     "text": [
      "epoch: 260 loss:0.185849 auc:0.6508\n",
      "Fit finished.\n",
      "epoch:   0 loss:0.759447 auc:0.4286\n",
      "epoch:  20 loss:0.311884 auc:0.6218\n",
      "epoch:  40 loss:0.230931 auc:0.5699\n",
      "epoch:  60 loss:0.215751 auc:0.6481\n",
      "epoch:  80 loss:0.208593 auc:0.6662\n",
      "epoch: 100 loss:0.203805 auc:0.6728\n",
      "epoch: 120 loss:0.198672 auc:0.6883\n",
      "epoch: 140 loss:0.194488 auc:0.6907\n",
      "epoch: 160 loss:0.192707 auc:0.6881\n",
      "epoch: 180 loss:0.191582 auc:0.6905\n",
      "epoch: 200 loss:0.191556 auc:0.6907\n",
      "epoch: 220 loss:0.190167 auc:0.6903\n",
      "epoch: 240 loss:0.189511 auc:0.6843\n",
      "epoch: 260 loss:0.189213 auc:0.6779\n"
     ]
    },
    {
     "name": "stderr",
     "output_type": "stream",
     "text": [
      " 80%|████████  | 266/331 [10:47<01:45,  1.62s/it]"
     ]
    },
    {
     "name": "stdout",
     "output_type": "stream",
     "text": [
      "epoch: 280 loss:0.188178 auc:0.6737\n",
      "Fit finished.\n",
      "epoch:   0 loss:0.785337 auc:0.4920\n",
      "epoch:  20 loss:0.307197 auc:0.4615\n",
      "epoch:  40 loss:0.228162 auc:0.4912\n",
      "epoch:  60 loss:0.213216 auc:0.5877\n",
      "epoch:  80 loss:0.206597 auc:0.5994\n",
      "epoch: 100 loss:0.200695 auc:0.5994\n",
      "epoch: 120 loss:0.194839 auc:0.5861\n",
      "epoch: 140 loss:0.192359 auc:0.5908\n",
      "epoch: 160 loss:0.190859 auc:0.5930\n",
      "epoch: 180 loss:0.190118 auc:0.5888\n",
      "epoch: 200 loss:0.188921 auc:0.5511\n"
     ]
    },
    {
     "name": "stderr",
     "output_type": "stream",
     "text": [
      " 81%|████████  | 267/331 [10:50<01:57,  1.84s/it]"
     ]
    },
    {
     "name": "stdout",
     "output_type": "stream",
     "text": [
      "epoch: 220 loss:0.188389 auc:0.5528\n",
      "Fit finished.\n",
      "epoch:   0 loss:0.768088 auc:0.5111\n",
      "epoch:  20 loss:0.309517 auc:0.5352\n",
      "epoch:  40 loss:0.230683 auc:0.4924\n",
      "epoch:  60 loss:0.214658 auc:0.5468\n",
      "epoch:  80 loss:0.207978 auc:0.5654\n",
      "epoch: 100 loss:0.202043 auc:0.5940\n",
      "epoch: 120 loss:0.195648 auc:0.6295\n",
      "epoch: 140 loss:0.193071 auc:0.6257\n",
      "epoch: 160 loss:0.191372 auc:0.6261\n",
      "epoch: 180 loss:0.190400 auc:0.6164\n",
      "epoch: 200 loss:0.189501 auc:0.5818\n",
      "epoch: 220 loss:0.189585 auc:0.5496\n"
     ]
    },
    {
     "name": "stderr",
     "output_type": "stream",
     "text": [
      " 81%|████████  | 268/331 [10:53<02:09,  2.05s/it]"
     ]
    },
    {
     "name": "stdout",
     "output_type": "stream",
     "text": [
      "epoch: 240 loss:0.187213 auc:0.5526\n",
      "Fit finished.\n",
      "epoch:   0 loss:0.737773 auc:0.4889\n",
      "epoch:  20 loss:0.255404 auc:0.5127\n",
      "epoch:  40 loss:0.218348 auc:0.5856\n",
      "epoch:  60 loss:0.208441 auc:0.6141\n",
      "epoch:  80 loss:0.202298 auc:0.6327\n",
      "epoch: 100 loss:0.195300 auc:0.6680\n",
      "epoch: 120 loss:0.193375 auc:0.6787\n",
      "epoch: 140 loss:0.190465 auc:0.6824\n",
      "epoch: 160 loss:0.189727 auc:0.6833\n",
      "epoch: 180 loss:0.187615 auc:0.6712\n",
      "epoch: 200 loss:0.186103 auc:0.6290\n"
     ]
    },
    {
     "name": "stderr",
     "output_type": "stream",
     "text": [
      " 82%|████████▏ | 270/331 [10:57<02:01,  2.00s/it]"
     ]
    },
    {
     "name": "stdout",
     "output_type": "stream",
     "text": [
      "epoch: 220 loss:0.184462 auc:0.5690\n",
      "Fit finished.\n",
      "epoch:   0 loss:0.885297 auc:0.5041\n",
      "epoch:  20 loss:0.308195 auc:0.6446\n",
      "epoch:  40 loss:0.231368 auc:0.6694\n",
      "epoch:  60 loss:0.213776 auc:0.7190\n",
      "epoch:  80 loss:0.205435 auc:0.7355\n",
      "epoch: 100 loss:0.198975 auc:0.7686\n",
      "epoch: 120 loss:0.194931 auc:0.8182\n",
      "epoch: 140 loss:0.193216 auc:0.7851\n",
      "epoch: 160 loss:0.192029 auc:0.7686\n",
      "epoch: 180 loss:0.191968 auc:0.7769\n",
      "epoch: 200 loss:0.190455 auc:0.7851\n",
      "epoch: 220 loss:0.193192 auc:0.7521\n",
      "epoch: 240 loss:0.189487 auc:0.7769\n"
     ]
    },
    {
     "name": "stderr",
     "output_type": "stream",
     "text": [
      " 82%|████████▏ | 271/331 [11:01<02:21,  2.36s/it]"
     ]
    },
    {
     "name": "stdout",
     "output_type": "stream",
     "text": [
      "epoch: 260 loss:0.187845 auc:0.7603\n",
      "Fit finished.\n",
      "epoch:   0 loss:1.224559 auc:0.6328\n",
      "epoch:  20 loss:0.320118 auc:0.5508\n",
      "epoch:  40 loss:0.242377 auc:0.5234\n",
      "epoch:  60 loss:0.217962 auc:0.8125\n",
      "epoch:  80 loss:0.209207 auc:0.8359\n",
      "epoch: 100 loss:0.203638 auc:0.8516\n",
      "epoch: 120 loss:0.198359 auc:0.8438\n",
      "epoch: 140 loss:0.195026 auc:0.8555\n",
      "epoch: 160 loss:0.193469 auc:0.8516\n",
      "epoch: 180 loss:0.192443 auc:0.8516\n",
      "epoch: 200 loss:0.191633 auc:0.8555\n",
      "epoch: 220 loss:0.191087 auc:0.8477\n",
      "epoch: 240 loss:0.191067 auc:0.8438\n"
     ]
    },
    {
     "name": "stderr",
     "output_type": "stream",
     "text": [
      " 82%|████████▏ | 273/331 [11:04<02:06,  2.18s/it]"
     ]
    },
    {
     "name": "stdout",
     "output_type": "stream",
     "text": [
      "epoch: 260 loss:0.189904 auc:0.8398\n",
      "Fit finished.\n",
      "epoch:   0 loss:0.722453 auc:0.4660\n",
      "epoch:  20 loss:0.287769 auc:0.7595\n",
      "epoch:  40 loss:0.227106 auc:0.8067\n",
      "epoch:  60 loss:0.213197 auc:0.8143\n",
      "epoch:  80 loss:0.207244 auc:0.8318\n",
      "epoch: 100 loss:0.201543 auc:0.8474\n",
      "epoch: 120 loss:0.195980 auc:0.8710\n",
      "epoch: 140 loss:0.193580 auc:0.8804\n",
      "epoch: 160 loss:0.192195 auc:0.8785\n",
      "epoch: 180 loss:0.192107 auc:0.8752\n",
      "epoch: 200 loss:0.190560 auc:0.8752\n",
      "epoch: 220 loss:0.189584 auc:0.8729\n",
      "epoch: 240 loss:0.188600 auc:0.8648\n",
      "epoch: 260 loss:0.188474 auc:0.8634\n"
     ]
    },
    {
     "name": "stderr",
     "output_type": "stream",
     "text": [
      " 84%|████████▎ | 277/331 [11:08<01:21,  1.51s/it]"
     ]
    },
    {
     "name": "stdout",
     "output_type": "stream",
     "text": [
      "epoch: 280 loss:0.188233 auc:0.7949\n",
      "Fit finished.\n",
      "epoch:   0 loss:0.910720 auc:0.5283\n",
      "epoch:  20 loss:0.318505 auc:0.5620\n",
      "epoch:  40 loss:0.232214 auc:0.5449\n",
      "epoch:  60 loss:0.215687 auc:0.6168\n",
      "epoch:  80 loss:0.208795 auc:0.6434\n",
      "epoch: 100 loss:0.204387 auc:0.6617\n",
      "epoch: 120 loss:0.199497 auc:0.6863\n",
      "epoch: 140 loss:0.194736 auc:0.7024\n",
      "epoch: 160 loss:0.192497 auc:0.7060\n",
      "epoch: 180 loss:0.191212 auc:0.7095\n",
      "epoch: 200 loss:0.190208 auc:0.7105\n",
      "epoch: 220 loss:0.190992 auc:0.6952\n",
      "epoch: 240 loss:0.189435 auc:0.6961\n",
      "epoch: 260 loss:0.188181 auc:0.6758\n"
     ]
    },
    {
     "name": "stderr",
     "output_type": "stream",
     "text": [
      " 84%|████████▍ | 279/331 [11:11<01:18,  1.51s/it]"
     ]
    },
    {
     "name": "stdout",
     "output_type": "stream",
     "text": [
      "epoch: 280 loss:0.187226 auc:0.6249\n",
      "Fit finished.\n",
      "epoch:   0 loss:0.685339 auc:0.4989\n",
      "epoch:  20 loss:0.286326 auc:0.3356\n",
      "epoch:  40 loss:0.222622 auc:0.7959\n",
      "epoch:  60 loss:0.209767 auc:0.8118\n",
      "epoch:  80 loss:0.203071 auc:0.8458\n",
      "epoch: 100 loss:0.197020 auc:0.8571\n",
      "epoch: 120 loss:0.194268 auc:0.8571\n",
      "epoch: 140 loss:0.192745 auc:0.8662\n",
      "epoch: 160 loss:0.191668 auc:0.8526\n",
      "epoch: 180 loss:0.190732 auc:0.8549\n",
      "epoch: 200 loss:0.189753 auc:0.8435\n",
      "epoch: 220 loss:0.189128 auc:0.8481\n"
     ]
    },
    {
     "name": "stderr",
     "output_type": "stream",
     "text": [
      " 85%|████████▍ | 280/331 [11:13<01:26,  1.69s/it]"
     ]
    },
    {
     "name": "stdout",
     "output_type": "stream",
     "text": [
      "epoch: 240 loss:0.186604 auc:0.8277\n",
      "Fit finished.\n",
      "epoch:   0 loss:1.074699 auc:0.4552\n",
      "epoch:  20 loss:0.315143 auc:0.5614\n",
      "epoch:  40 loss:0.235770 auc:0.4723\n",
      "epoch:  60 loss:0.216470 auc:0.6095\n",
      "epoch:  80 loss:0.208534 auc:0.6468\n",
      "epoch: 100 loss:0.203258 auc:0.6716\n",
      "epoch: 120 loss:0.197774 auc:0.6905\n",
      "epoch: 140 loss:0.194091 auc:0.6896\n",
      "epoch: 160 loss:0.192459 auc:0.6940\n",
      "epoch: 180 loss:0.191433 auc:0.6998\n",
      "epoch: 200 loss:0.191230 auc:0.7024\n",
      "epoch: 220 loss:0.189990 auc:0.7048\n",
      "epoch: 240 loss:0.189775 auc:0.7043\n",
      "epoch: 260 loss:0.189127 auc:0.7024\n"
     ]
    },
    {
     "name": "stderr",
     "output_type": "stream",
     "text": [
      " 85%|████████▍ | 281/331 [11:18<01:50,  2.22s/it]"
     ]
    },
    {
     "name": "stdout",
     "output_type": "stream",
     "text": [
      "epoch: 280 loss:0.188121 auc:0.6753\n",
      "Fit finished.\n",
      "epoch:   0 loss:0.805449 auc:0.4669\n",
      "epoch:  20 loss:0.293583 auc:0.4659\n",
      "epoch:  40 loss:0.227759 auc:0.4880\n",
      "epoch:  60 loss:0.212973 auc:0.4999\n",
      "epoch:  80 loss:0.207059 auc:0.5034\n",
      "epoch: 100 loss:0.202715 auc:0.5032\n",
      "epoch: 120 loss:0.198023 auc:0.5032\n",
      "epoch: 140 loss:0.193948 auc:0.5025\n",
      "epoch: 160 loss:0.191814 auc:0.5021\n",
      "epoch: 180 loss:0.190575 auc:0.5040\n",
      "epoch: 200 loss:0.189630 auc:0.5064\n",
      "epoch: 220 loss:0.188774 auc:0.5072\n",
      "epoch: 240 loss:0.187958 auc:0.5057\n"
     ]
    },
    {
     "name": "stderr",
     "output_type": "stream",
     "text": [
      " 85%|████████▌ | 283/331 [11:22<01:42,  2.13s/it]"
     ]
    },
    {
     "name": "stdout",
     "output_type": "stream",
     "text": [
      "epoch: 260 loss:0.187221 auc:0.5011\n",
      "Fit finished.\n",
      "epoch:   0 loss:0.960611 auc:0.5499\n",
      "epoch:  20 loss:0.322780 auc:0.4508\n",
      "epoch:  40 loss:0.241358 auc:0.3525\n",
      "epoch:  60 loss:0.217069 auc:0.5683\n",
      "epoch:  80 loss:0.208971 auc:0.6412\n",
      "epoch: 100 loss:0.202898 auc:0.6652\n",
      "epoch: 120 loss:0.196621 auc:0.6725\n",
      "epoch: 140 loss:0.193550 auc:0.6881\n",
      "epoch: 160 loss:0.191984 auc:0.6857\n",
      "epoch: 180 loss:0.190995 auc:0.6743\n",
      "epoch: 200 loss:0.190044 auc:0.6425\n",
      "epoch: 220 loss:0.189397 auc:0.5696\n"
     ]
    },
    {
     "name": "stderr",
     "output_type": "stream",
     "text": [
      " 86%|████████▌ | 285/331 [11:25<01:30,  1.98s/it]"
     ]
    },
    {
     "name": "stdout",
     "output_type": "stream",
     "text": [
      "epoch: 240 loss:0.188469 auc:0.5283\n",
      "Fit finished.\n",
      "epoch:   0 loss:0.819918 auc:0.7800\n",
      "epoch:  20 loss:0.276049 auc:0.8600\n",
      "epoch:  40 loss:0.222228 auc:0.9000\n",
      "epoch:  60 loss:0.211800 auc:0.9200\n",
      "epoch:  80 loss:0.206749 auc:0.9200\n",
      "epoch: 100 loss:0.201653 auc:0.9700\n",
      "epoch: 120 loss:0.196685 auc:0.9900\n",
      "epoch: 140 loss:0.194166 auc:0.9900\n",
      "epoch: 160 loss:0.192718 auc:0.9900\n",
      "epoch: 180 loss:0.191491 auc:0.9900\n",
      "epoch: 200 loss:0.190872 auc:0.9900\n",
      "epoch: 220 loss:0.189511 auc:0.9900\n",
      "epoch: 240 loss:0.192647 auc:0.9500\n"
     ]
    },
    {
     "name": "stderr",
     "output_type": "stream",
     "text": [
      " 86%|████████▋ | 286/331 [11:29<01:41,  2.26s/it]"
     ]
    },
    {
     "name": "stdout",
     "output_type": "stream",
     "text": [
      "epoch: 260 loss:0.187958 auc:0.9600\n",
      "Fit finished.\n",
      "epoch:   0 loss:0.745145 auc:0.4711\n",
      "epoch:  20 loss:0.319542 auc:0.4757\n",
      "epoch:  40 loss:0.235548 auc:0.5088\n",
      "epoch:  60 loss:0.216235 auc:0.6203\n",
      "epoch:  80 loss:0.208436 auc:0.6663\n",
      "epoch: 100 loss:0.202449 auc:0.6992\n",
      "epoch: 120 loss:0.196754 auc:0.7504\n",
      "epoch: 140 loss:0.193807 auc:0.7611\n",
      "epoch: 160 loss:0.192276 auc:0.7678\n",
      "epoch: 180 loss:0.191311 auc:0.7683\n",
      "epoch: 200 loss:0.190670 auc:0.7600\n",
      "epoch: 220 loss:0.189799 auc:0.7402\n",
      "epoch: 240 loss:0.188890 auc:0.6916\n"
     ]
    },
    {
     "name": "stderr",
     "output_type": "stream",
     "text": [
      " 87%|████████▋ | 287/331 [11:32<01:51,  2.53s/it]"
     ]
    },
    {
     "name": "stdout",
     "output_type": "stream",
     "text": [
      "epoch: 260 loss:0.188847 auc:0.6361\n",
      "Fit finished.\n",
      "epoch:   0 loss:0.725588 auc:0.5010\n",
      "epoch:  20 loss:0.288606 auc:0.5634\n",
      "epoch:  40 loss:0.227058 auc:0.6443\n",
      "epoch:  60 loss:0.211834 auc:0.6664\n",
      "epoch:  80 loss:0.206145 auc:0.6850\n",
      "epoch: 100 loss:0.200170 auc:0.7214\n",
      "epoch: 120 loss:0.194750 auc:0.7284\n",
      "epoch: 140 loss:0.192577 auc:0.7297\n",
      "epoch: 160 loss:0.191359 auc:0.7355\n",
      "epoch: 180 loss:0.190298 auc:0.7375\n",
      "epoch: 200 loss:0.189487 auc:0.7388\n",
      "epoch: 220 loss:0.188807 auc:0.7346\n",
      "epoch: 240 loss:0.188008 auc:0.7284\n"
     ]
    },
    {
     "name": "stderr",
     "output_type": "stream",
     "text": [
      " 87%|████████▋ | 288/331 [11:36<02:00,  2.79s/it]"
     ]
    },
    {
     "name": "stdout",
     "output_type": "stream",
     "text": [
      "epoch: 260 loss:0.188011 auc:0.7177\n",
      "Fit finished.\n",
      "epoch:   0 loss:0.604782 auc:0.5016\n",
      "epoch:  20 loss:0.232896 auc:0.3817\n",
      "epoch:  40 loss:0.213970 auc:0.6480\n",
      "epoch:  60 loss:0.207094 auc:0.7350\n",
      "epoch:  80 loss:0.200454 auc:0.7591\n",
      "epoch: 100 loss:0.194174 auc:0.7590\n",
      "epoch: 120 loss:0.191836 auc:0.7575\n",
      "epoch: 140 loss:0.190372 auc:0.7545\n",
      "epoch: 160 loss:0.189328 auc:0.7186\n",
      "epoch: 180 loss:0.188039 auc:0.7060\n"
     ]
    },
    {
     "name": "stderr",
     "output_type": "stream",
     "text": [
      " 87%|████████▋ | 289/331 [11:39<02:03,  2.95s/it]"
     ]
    },
    {
     "name": "stdout",
     "output_type": "stream",
     "text": [
      "epoch: 200 loss:0.185592 auc:0.6969\n",
      "epoch: 220 loss:0.183206 auc:0.6947\n",
      "Fit finished.\n",
      "epoch:   0 loss:0.794441 auc:0.4924\n",
      "epoch:  20 loss:0.305621 auc:0.4350\n",
      "epoch:  40 loss:0.226325 auc:0.5416\n",
      "epoch:  60 loss:0.210833 auc:0.6900\n",
      "epoch:  80 loss:0.204629 auc:0.7124\n",
      "epoch: 100 loss:0.198676 auc:0.7438\n",
      "epoch: 120 loss:0.193715 auc:0.7498\n",
      "epoch: 140 loss:0.191868 auc:0.7508\n",
      "epoch: 160 loss:0.190567 auc:0.7485\n",
      "epoch: 180 loss:0.189887 auc:0.7339\n",
      "epoch: 200 loss:0.189113 auc:0.7220\n",
      "epoch: 220 loss:0.188058 auc:0.6949\n"
     ]
    },
    {
     "name": "stderr",
     "output_type": "stream",
     "text": [
      " 88%|████████▊ | 290/331 [11:43<02:07,  3.10s/it]"
     ]
    },
    {
     "name": "stdout",
     "output_type": "stream",
     "text": [
      "epoch: 240 loss:0.187176 auc:0.6377\n",
      "Fit finished.\n",
      "epoch:   0 loss:0.892312 auc:0.4291\n",
      "epoch:  20 loss:0.330502 auc:0.5006\n",
      "epoch:  40 loss:0.241576 auc:0.3269\n",
      "epoch:  60 loss:0.218893 auc:0.6874\n",
      "epoch:  80 loss:0.210488 auc:0.7191\n",
      "epoch: 100 loss:0.205267 auc:0.7418\n",
      "epoch: 120 loss:0.199554 auc:0.7866\n",
      "epoch: 140 loss:0.194901 auc:0.8008\n",
      "epoch: 160 loss:0.192926 auc:0.8044\n",
      "epoch: 180 loss:0.191625 auc:0.8026\n",
      "epoch: 200 loss:0.190639 auc:0.8020\n",
      "epoch: 220 loss:0.189937 auc:0.8028\n",
      "epoch: 240 loss:0.189738 auc:0.8003\n",
      "epoch: 260 loss:0.189567 auc:0.7684\n"
     ]
    },
    {
     "name": "stderr",
     "output_type": "stream",
     "text": [
      " 88%|████████▊ | 291/331 [11:46<02:09,  3.24s/it]"
     ]
    },
    {
     "name": "stdout",
     "output_type": "stream",
     "text": [
      "epoch: 280 loss:0.187930 auc:0.7593\n",
      "Fit finished.\n",
      "epoch:   0 loss:0.737023 auc:0.4957\n",
      "epoch:  20 loss:0.310558 auc:0.5004\n",
      "epoch:  40 loss:0.228432 auc:0.5310\n",
      "epoch:  60 loss:0.211963 auc:0.5403\n",
      "epoch:  80 loss:0.205265 auc:0.5399\n",
      "epoch: 100 loss:0.199584 auc:0.5421\n",
      "epoch: 120 loss:0.194198 auc:0.5449\n",
      "epoch: 140 loss:0.191741 auc:0.5462\n",
      "epoch: 160 loss:0.190350 auc:0.5447\n",
      "epoch: 180 loss:0.190355 auc:0.5305\n"
     ]
    },
    {
     "name": "stderr",
     "output_type": "stream",
     "text": [
      " 88%|████████▊ | 292/331 [11:48<01:55,  2.95s/it]"
     ]
    },
    {
     "name": "stdout",
     "output_type": "stream",
     "text": [
      "epoch: 200 loss:0.188524 auc:0.5267\n",
      "Fit finished.\n",
      "epoch:   0 loss:0.578521 auc:0.3112\n",
      "epoch:  20 loss:0.275037 auc:0.3929\n",
      "epoch:  40 loss:0.224047 auc:0.6990\n",
      "epoch:  60 loss:0.211521 auc:0.8316\n",
      "epoch:  80 loss:0.204135 auc:0.8571\n",
      "epoch: 100 loss:0.197388 auc:0.8469\n",
      "epoch: 120 loss:0.194163 auc:0.8469\n",
      "epoch: 140 loss:0.193411 auc:0.8622\n",
      "epoch: 160 loss:0.191567 auc:0.8724\n",
      "epoch: 180 loss:0.190422 auc:0.8622\n",
      "epoch: 200 loss:0.189430 auc:0.8265\n"
     ]
    },
    {
     "name": "stderr",
     "output_type": "stream",
     "text": [
      " 89%|████████▊ | 293/331 [11:51<01:47,  2.84s/it]"
     ]
    },
    {
     "name": "stdout",
     "output_type": "stream",
     "text": [
      "epoch: 220 loss:0.188761 auc:0.8163\n",
      "Fit finished.\n",
      "epoch:   0 loss:0.909160 auc:0.4630\n",
      "epoch:  20 loss:0.319925 auc:0.5213\n",
      "epoch:  40 loss:0.234136 auc:0.5285\n",
      "epoch:  60 loss:0.214415 auc:0.5617\n",
      "epoch:  80 loss:0.205719 auc:0.5786\n",
      "epoch: 100 loss:0.199236 auc:0.6042\n",
      "epoch: 120 loss:0.194960 auc:0.6166\n",
      "epoch: 140 loss:0.193046 auc:0.6157\n",
      "epoch: 160 loss:0.191849 auc:0.6182\n",
      "epoch: 180 loss:0.190883 auc:0.6215\n",
      "epoch: 200 loss:0.190659 auc:0.6234\n",
      "epoch: 220 loss:0.189701 auc:0.6262\n",
      "epoch: 240 loss:0.188733 auc:0.6268\n",
      "epoch: 260 loss:0.188220 auc:0.6246\n",
      "epoch: 280 loss:0.186734 auc:0.6204\n"
     ]
    },
    {
     "name": "stderr",
     "output_type": "stream",
     "text": [
      " 89%|████████▉ | 294/331 [11:54<01:48,  2.93s/it]"
     ]
    },
    {
     "name": "stdout",
     "output_type": "stream",
     "text": [
      "epoch: 300 loss:0.185505 auc:0.6145\n",
      "Fit finished.\n",
      "epoch:   0 loss:1.000865 auc:0.4583\n",
      "epoch:  20 loss:0.317345 auc:0.4444\n",
      "epoch:  40 loss:0.230431 auc:0.2292\n",
      "epoch:  60 loss:0.214739 auc:0.6250\n",
      "epoch:  80 loss:0.208435 auc:0.6806\n",
      "epoch: 100 loss:0.203434 auc:0.7083\n",
      "epoch: 120 loss:0.198013 auc:0.7431\n",
      "epoch: 140 loss:0.194758 auc:0.7500\n",
      "epoch: 160 loss:0.193268 auc:0.7500\n",
      "epoch: 180 loss:0.192147 auc:0.7500\n",
      "epoch: 200 loss:0.191098 auc:0.7292\n",
      "epoch: 220 loss:0.190527 auc:0.6875\n",
      "epoch: 240 loss:0.188956 auc:0.7083\n",
      "epoch: 260 loss:0.189393 auc:0.7222\n"
     ]
    },
    {
     "name": "stderr",
     "output_type": "stream",
     "text": [
      " 90%|█████████ | 298/331 [11:58<00:56,  1.70s/it]"
     ]
    },
    {
     "name": "stdout",
     "output_type": "stream",
     "text": [
      "epoch: 280 loss:0.187071 auc:0.5764\n",
      "Fit finished.\n",
      "epoch:   0 loss:0.730584 auc:0.3946\n",
      "epoch:  20 loss:0.262515 auc:0.4773\n",
      "epoch:  40 loss:0.220519 auc:0.5487\n",
      "epoch:  60 loss:0.211794 auc:0.6545\n",
      "epoch:  80 loss:0.207308 auc:0.6862\n",
      "epoch: 100 loss:0.202396 auc:0.7108\n",
      "epoch: 120 loss:0.196740 auc:0.7283\n",
      "epoch: 140 loss:0.193875 auc:0.7216\n",
      "epoch: 160 loss:0.192397 auc:0.7127\n",
      "epoch: 180 loss:0.191212 auc:0.7060\n",
      "epoch: 200 loss:0.190253 auc:0.7056\n",
      "epoch: 220 loss:0.189134 auc:0.6919\n",
      "epoch: 240 loss:0.188685 auc:0.6905\n"
     ]
    },
    {
     "name": "stderr",
     "output_type": "stream",
     "text": [
      " 91%|█████████ | 300/331 [12:02<00:55,  1.79s/it]"
     ]
    },
    {
     "name": "stdout",
     "output_type": "stream",
     "text": [
      "epoch: 260 loss:0.186947 auc:0.6342\n",
      "Fit finished.\n",
      "epoch:   0 loss:0.843706 auc:0.3366\n",
      "epoch:  20 loss:0.313931 auc:0.5849\n",
      "epoch:  40 loss:0.237010 auc:0.7649\n",
      "epoch:  60 loss:0.215815 auc:0.8062\n",
      "epoch:  80 loss:0.207510 auc:0.8343\n",
      "epoch: 100 loss:0.200801 auc:0.8826\n",
      "epoch: 120 loss:0.196174 auc:0.8898\n",
      "epoch: 140 loss:0.193739 auc:0.8932\n",
      "epoch: 160 loss:0.192543 auc:0.8955\n",
      "epoch: 180 loss:0.191602 auc:0.9027\n",
      "epoch: 200 loss:0.191074 auc:0.9084\n",
      "epoch: 220 loss:0.190385 auc:0.9115\n",
      "epoch: 240 loss:0.189757 auc:0.8826\n"
     ]
    },
    {
     "name": "stderr",
     "output_type": "stream",
     "text": [
      " 92%|█████████▏| 303/331 [12:06<00:46,  1.67s/it]"
     ]
    },
    {
     "name": "stdout",
     "output_type": "stream",
     "text": [
      "epoch: 260 loss:0.188897 auc:0.8047\n",
      "Fit finished.\n",
      "epoch:   0 loss:0.606795 auc:0.4974\n",
      "epoch:  20 loss:0.280693 auc:0.6776\n",
      "epoch:  40 loss:0.221204 auc:0.6475\n",
      "epoch:  60 loss:0.210744 auc:0.6914\n",
      "epoch:  80 loss:0.204378 auc:0.7107\n",
      "epoch: 100 loss:0.197449 auc:0.8106\n",
      "epoch: 120 loss:0.194143 auc:0.8492\n",
      "epoch: 140 loss:0.192594 auc:0.8530\n",
      "epoch: 160 loss:0.191307 auc:0.8480\n",
      "epoch: 180 loss:0.190032 auc:0.8124\n",
      "epoch: 200 loss:0.188814 auc:0.7559\n",
      "epoch: 220 loss:0.187888 auc:0.8016\n"
     ]
    },
    {
     "name": "stderr",
     "output_type": "stream",
     "text": [
      " 92%|█████████▏| 304/331 [12:10<00:54,  2.01s/it]"
     ]
    },
    {
     "name": "stdout",
     "output_type": "stream",
     "text": [
      "epoch: 240 loss:0.185329 auc:0.5840\n",
      "Fit finished.\n",
      "epoch:   0 loss:1.549980 auc:0.5396\n",
      "epoch:  20 loss:0.302399 auc:0.5357\n",
      "epoch:  40 loss:0.231259 auc:0.5597\n",
      "epoch:  60 loss:0.216119 auc:0.6744\n",
      "epoch:  80 loss:0.210310 auc:0.6997\n",
      "epoch: 100 loss:0.206211 auc:0.7159\n",
      "epoch: 120 loss:0.201610 auc:0.7402\n",
      "epoch: 140 loss:0.196703 auc:0.7565\n",
      "epoch: 160 loss:0.193744 auc:0.7600\n",
      "epoch: 180 loss:0.192209 auc:0.7609\n",
      "epoch: 200 loss:0.191042 auc:0.7608\n",
      "epoch: 220 loss:0.191552 auc:0.7588\n",
      "epoch: 240 loss:0.189025 auc:0.7604\n",
      "epoch: 260 loss:0.189655 auc:0.7540\n",
      "epoch: 280 loss:0.186866 auc:0.7589\n"
     ]
    },
    {
     "name": "stderr",
     "output_type": "stream",
     "text": [
      " 92%|█████████▏| 306/331 [12:15<00:51,  2.07s/it]"
     ]
    },
    {
     "name": "stdout",
     "output_type": "stream",
     "text": [
      "epoch: 300 loss:0.186765 auc:0.7462\n",
      "Fit finished.\n",
      "epoch:   0 loss:0.947695 auc:0.4842\n",
      "epoch:  20 loss:0.317913 auc:0.6186\n",
      "epoch:  40 loss:0.237778 auc:0.5603\n",
      "epoch:  60 loss:0.216000 auc:0.6076\n",
      "epoch:  80 loss:0.206763 auc:0.6219\n",
      "epoch: 100 loss:0.198712 auc:0.6335\n",
      "epoch: 120 loss:0.194054 auc:0.6489\n",
      "epoch: 140 loss:0.192187 auc:0.6564\n",
      "epoch: 160 loss:0.190997 auc:0.6510\n",
      "epoch: 180 loss:0.190457 auc:0.6317\n",
      "epoch: 200 loss:0.189655 auc:0.6361\n"
     ]
    },
    {
     "name": "stderr",
     "output_type": "stream",
     "text": [
      " 93%|█████████▎| 308/331 [12:18<00:45,  1.98s/it]"
     ]
    },
    {
     "name": "stdout",
     "output_type": "stream",
     "text": [
      "epoch: 220 loss:0.188014 auc:0.5975\n",
      "Fit finished.\n",
      "epoch:   0 loss:0.860194 auc:0.5010\n",
      "epoch:  20 loss:0.317950 auc:0.5742\n",
      "epoch:  40 loss:0.230766 auc:0.6345\n",
      "epoch:  60 loss:0.214152 auc:0.6864\n",
      "epoch:  80 loss:0.206989 auc:0.6970\n",
      "epoch: 100 loss:0.202119 auc:0.7096\n",
      "epoch: 120 loss:0.197072 auc:0.7333\n",
      "epoch: 140 loss:0.193301 auc:0.7425\n",
      "epoch: 160 loss:0.191654 auc:0.7414\n",
      "epoch: 180 loss:0.190592 auc:0.7419\n",
      "epoch: 200 loss:0.189739 auc:0.7420\n",
      "epoch: 220 loss:0.189582 auc:0.7358\n",
      "epoch: 240 loss:0.188588 auc:0.7361\n",
      "epoch: 260 loss:0.187949 auc:0.7275\n"
     ]
    },
    {
     "name": "stderr",
     "output_type": "stream",
     "text": [
      " 94%|█████████▎| 310/331 [12:23<00:42,  2.05s/it]"
     ]
    },
    {
     "name": "stdout",
     "output_type": "stream",
     "text": [
      "epoch: 280 loss:0.188194 auc:0.7156\n",
      "Fit finished.\n",
      "epoch:   0 loss:1.060087 auc:0.5180\n",
      "epoch:  20 loss:0.336578 auc:0.5225\n",
      "epoch:  40 loss:0.254815 auc:0.5192\n",
      "epoch:  60 loss:0.221315 auc:0.6169\n",
      "epoch:  80 loss:0.211072 auc:0.6189\n",
      "epoch: 100 loss:0.205976 auc:0.6312\n",
      "epoch: 120 loss:0.200787 auc:0.6649\n",
      "epoch: 140 loss:0.194806 auc:0.6952\n",
      "epoch: 160 loss:0.191983 auc:0.6952\n",
      "epoch: 180 loss:0.190434 auc:0.6963\n",
      "epoch: 200 loss:0.189741 auc:0.6952\n",
      "epoch: 220 loss:0.189006 auc:0.6974\n",
      "epoch: 240 loss:0.188346 auc:0.6931\n",
      "epoch: 260 loss:0.187325 auc:0.6625\n",
      "epoch: 280 loss:0.187544 auc:0.6732\n"
     ]
    },
    {
     "name": "stderr",
     "output_type": "stream",
     "text": [
      " 94%|█████████▍| 312/331 [12:27<00:40,  2.14s/it]"
     ]
    },
    {
     "name": "stdout",
     "output_type": "stream",
     "text": [
      "epoch: 300 loss:0.185892 auc:0.6447\n",
      "Fit finished.\n",
      "epoch:   0 loss:1.026727 auc:0.6071\n",
      "epoch:  20 loss:0.291065 auc:0.6747\n",
      "epoch:  40 loss:0.228546 auc:0.6480\n",
      "epoch:  60 loss:0.214570 auc:0.6110\n",
      "epoch:  80 loss:0.209357 auc:0.6033\n",
      "epoch: 100 loss:0.205232 auc:0.6110\n",
      "epoch: 120 loss:0.200637 auc:0.6543\n",
      "epoch: 140 loss:0.196258 auc:0.7015\n",
      "epoch: 160 loss:0.193839 auc:0.7181\n",
      "epoch: 180 loss:0.192421 auc:0.7258\n",
      "epoch: 200 loss:0.191312 auc:0.7181\n",
      "epoch: 220 loss:0.190207 auc:0.7130\n",
      "epoch: 240 loss:0.189168 auc:0.7130\n",
      "epoch: 260 loss:0.187855 auc:0.7066\n",
      "epoch: 280 loss:0.187015 auc:0.7105\n",
      "epoch: 300 loss:0.186211 auc:0.7207\n",
      "epoch: 320 loss:0.184334 auc:0.7258\n"
     ]
    },
    {
     "name": "stderr",
     "output_type": "stream",
     "text": [
      " 95%|█████████▍| 313/331 [12:34<00:53,  2.97s/it]"
     ]
    },
    {
     "name": "stdout",
     "output_type": "stream",
     "text": [
      "epoch: 340 loss:0.184190 auc:0.7130\n",
      "Fit finished.\n",
      "epoch:   0 loss:0.612370 auc:0.6031\n",
      "epoch:  20 loss:0.261754 auc:0.5673\n",
      "epoch:  40 loss:0.217671 auc:0.7168\n",
      "epoch:  60 loss:0.206929 auc:0.7626\n",
      "epoch:  80 loss:0.198991 auc:0.7672\n",
      "epoch: 100 loss:0.194725 auc:0.7701\n",
      "epoch: 120 loss:0.192482 auc:0.7805\n",
      "epoch: 140 loss:0.193045 auc:0.7855\n",
      "epoch: 160 loss:0.189566 auc:0.7913\n",
      "epoch: 180 loss:0.188315 auc:0.7872\n",
      "epoch: 200 loss:0.186526 auc:0.7580\n"
     ]
    },
    {
     "name": "stderr",
     "output_type": "stream",
     "text": [
      " 97%|█████████▋| 322/331 [12:38<00:10,  1.21s/it]"
     ]
    },
    {
     "name": "stdout",
     "output_type": "stream",
     "text": [
      "epoch: 220 loss:0.185167 auc:0.7110\n",
      "Fit finished.\n",
      "epoch:   0 loss:0.954887 auc:0.4324\n",
      "epoch:  20 loss:0.317969 auc:0.5969\n",
      "epoch:  40 loss:0.234933 auc:0.7832\n",
      "epoch:  60 loss:0.216823 auc:0.7666\n",
      "epoch:  80 loss:0.209357 auc:0.7768\n",
      "epoch: 100 loss:0.204058 auc:0.8023\n",
      "epoch: 120 loss:0.198553 auc:0.8329\n",
      "epoch: 140 loss:0.194892 auc:0.8342\n",
      "epoch: 160 loss:0.193203 auc:0.8329\n",
      "epoch: 180 loss:0.192131 auc:0.8316\n",
      "epoch: 200 loss:0.191281 auc:0.8253\n",
      "epoch: 220 loss:0.191453 auc:0.8265\n",
      "epoch: 240 loss:0.189870 auc:0.8253\n",
      "epoch: 260 loss:0.188653 auc:0.8202\n"
     ]
    },
    {
     "name": "stderr",
     "output_type": "stream",
     "text": [
      " 98%|█████████▊| 323/331 [12:42<00:11,  1.47s/it]"
     ]
    },
    {
     "name": "stdout",
     "output_type": "stream",
     "text": [
      "epoch: 280 loss:0.187759 auc:0.8061\n",
      "Fit finished.\n",
      "epoch:   0 loss:0.862872 auc:0.5028\n",
      "epoch:  20 loss:0.318048 auc:0.5343\n",
      "epoch:  40 loss:0.235905 auc:0.4616\n",
      "epoch:  60 loss:0.218296 auc:0.6064\n",
      "epoch:  80 loss:0.210364 auc:0.6356\n",
      "epoch: 100 loss:0.205390 auc:0.6595\n",
      "epoch: 120 loss:0.200331 auc:0.6978\n",
      "epoch: 140 loss:0.195710 auc:0.7269\n",
      "epoch: 160 loss:0.193260 auc:0.7354\n",
      "epoch: 180 loss:0.191933 auc:0.7343\n",
      "epoch: 200 loss:0.190965 auc:0.7332\n",
      "epoch: 220 loss:0.190664 auc:0.7254\n",
      "epoch: 240 loss:0.189546 auc:0.7273\n",
      "epoch: 260 loss:0.188479 auc:0.7190\n",
      "epoch: 280 loss:0.187677 auc:0.7085\n"
     ]
    },
    {
     "name": "stderr",
     "output_type": "stream",
     "text": [
      " 98%|█████████▊| 324/331 [12:47<00:12,  1.86s/it]"
     ]
    },
    {
     "name": "stdout",
     "output_type": "stream",
     "text": [
      "epoch: 300 loss:0.186414 auc:0.6815\n",
      "Fit finished.\n",
      "epoch:   0 loss:0.658342 auc:0.5336\n",
      "epoch:  20 loss:0.257327 auc:0.5377\n",
      "epoch:  40 loss:0.219835 auc:0.6626\n",
      "epoch:  60 loss:0.210920 auc:0.7243\n",
      "epoch:  80 loss:0.206122 auc:0.7421\n",
      "epoch: 100 loss:0.200163 auc:0.7737\n",
      "epoch: 120 loss:0.196188 auc:0.7654\n",
      "epoch: 140 loss:0.192881 auc:0.7599\n",
      "epoch: 160 loss:0.191397 auc:0.7668\n",
      "epoch: 180 loss:0.192367 auc:0.7709\n",
      "epoch: 200 loss:0.189390 auc:0.7627\n",
      "epoch: 220 loss:0.191975 auc:0.7723\n",
      "epoch: 240 loss:0.186830 auc:0.7503\n"
     ]
    },
    {
     "name": "stderr",
     "output_type": "stream",
     "text": [
      " 98%|█████████▊| 325/331 [12:51<00:13,  2.28s/it]"
     ]
    },
    {
     "name": "stdout",
     "output_type": "stream",
     "text": [
      "epoch: 260 loss:0.189226 auc:0.7229\n",
      "Fit finished.\n",
      "epoch:   0 loss:0.640669 auc:0.4864\n",
      "epoch:  20 loss:0.307795 auc:0.7408\n",
      "epoch:  40 loss:0.234217 auc:0.6080\n",
      "epoch:  60 loss:0.215886 auc:0.8896\n",
      "epoch:  80 loss:0.207762 auc:0.9056\n",
      "epoch: 100 loss:0.201213 auc:0.9168\n",
      "epoch: 120 loss:0.195763 auc:0.9120\n",
      "epoch: 140 loss:0.193526 auc:0.9232\n",
      "epoch: 160 loss:0.192332 auc:0.9248\n",
      "epoch: 180 loss:0.191335 auc:0.9264\n",
      "epoch: 200 loss:0.190300 auc:0.9296\n",
      "epoch: 220 loss:0.193577 auc:0.9328\n",
      "epoch: 240 loss:0.188734 auc:0.9328\n",
      "epoch: 260 loss:0.186746 auc:0.9392\n",
      "epoch: 280 loss:0.186438 auc:0.9360\n",
      "epoch: 300 loss:0.183802 auc:0.9328\n"
     ]
    },
    {
     "name": "stderr",
     "output_type": "stream",
     "text": [
      " 98%|█████████▊| 326/331 [12:57<00:14,  2.95s/it]"
     ]
    },
    {
     "name": "stdout",
     "output_type": "stream",
     "text": [
      "epoch: 320 loss:0.181926 auc:0.9040\n",
      "Fit finished.\n",
      "epoch:   0 loss:1.138109 auc:0.4915\n",
      "epoch:  20 loss:0.325752 auc:0.5177\n",
      "epoch:  40 loss:0.247049 auc:0.4376\n",
      "epoch:  60 loss:0.217616 auc:0.6632\n",
      "epoch:  80 loss:0.207541 auc:0.6786\n",
      "epoch: 100 loss:0.201300 auc:0.6979\n",
      "epoch: 120 loss:0.195892 auc:0.7125\n",
      "epoch: 140 loss:0.193015 auc:0.7199\n",
      "epoch: 160 loss:0.191544 auc:0.7246\n",
      "epoch: 180 loss:0.190622 auc:0.7261\n",
      "epoch: 200 loss:0.190105 auc:0.7264\n",
      "epoch: 220 loss:0.189249 auc:0.7271\n",
      "epoch: 240 loss:0.188703 auc:0.7226\n",
      "epoch: 260 loss:0.188392 auc:0.7208\n"
     ]
    },
    {
     "name": "stderr",
     "output_type": "stream",
     "text": [
      " 99%|█████████▉| 327/331 [13:02<00:13,  3.29s/it]"
     ]
    },
    {
     "name": "stdout",
     "output_type": "stream",
     "text": [
      "epoch: 280 loss:0.187888 auc:0.7109\n",
      "Fit finished.\n",
      "epoch:   0 loss:0.637271 auc:0.4053\n",
      "epoch:  20 loss:0.272638 auc:0.5788\n",
      "epoch:  40 loss:0.221000 auc:0.6513\n",
      "epoch:  60 loss:0.210268 auc:0.6655\n",
      "epoch:  80 loss:0.204222 auc:0.6938\n",
      "epoch: 100 loss:0.197593 auc:0.7522\n",
      "epoch: 120 loss:0.193824 auc:0.7796\n",
      "epoch: 140 loss:0.192450 auc:0.7531\n",
      "epoch: 160 loss:0.190975 auc:0.7416\n"
     ]
    },
    {
     "name": "stderr",
     "output_type": "stream",
     "text": [
      "100%|██████████| 331/331 [13:05<00:00,  2.37s/it]"
     ]
    },
    {
     "name": "stdout",
     "output_type": "stream",
     "text": [
      "epoch: 180 loss:0.194484 auc:0.5726\n",
      "Fit finished.\n"
     ]
    },
    {
     "name": "stderr",
     "output_type": "stream",
     "text": [
      "\n"
     ]
    }
   ],
   "source": [
    "n_kfold = 1\n",
    "true_data_s = pd.DataFrame()\n",
    "predict_data_s = pd.DataFrame()\n",
    "for dim in target_dim:\n",
    "    for seed, target_index in enumerate(tqdm(np.arange(res.shape[dim]))):\n",
    "        if dim:\n",
    "            if drug_sum[target_index] < 10:\n",
    "                continue\n",
    "        else:\n",
    "            if cell_sum[target_index] < 10:\n",
    "                continue\n",
    "        epochs = []\n",
    "        for fold in range(n_kfold):\n",
    "            true_data, predict_data = mofgcn_new(\n",
    "                exprs=exprs,\n",
    "                cna=cna,\n",
    "                mut=mut,\n",
    "                drug_finger=drug_finger,\n",
    "                res_mat=res,\n",
    "                null_mask=null_mask,\n",
    "                target_dim=dim,\n",
    "                target_index=target_index,\n",
    "                evaluate_fun=roc_auc,\n",
    "                args=args,\n",
    "                seed=seed,\n",
    "                device=device,\n",
    "            )\n",
    "        if true_data is not None:\n",
    "            true_data_s = pd.concat(\n",
    "                [true_data_s, translate_result(true_data)], ignore_index=True\n",
    "            )\n",
    "            predict_data_s = pd.concat(\n",
    "                [predict_data_s, translate_result(predict_data)], ignore_index=True\n",
    "            )"
   ]
  },
  {
   "cell_type": "code",
   "execution_count": 8,
   "id": "ee74598b-d6ba-4763-81e3-4b54516ce071",
   "metadata": {},
   "outputs": [],
   "source": [
    "true_data_s.to_csv(f\"new_drug_true_{args.data}.csv\")\n",
    "predict_data_s.to_csv(f\"new_drug_pred_{args.data}.csv\")"
   ]
  },
  {
   "cell_type": "code",
   "execution_count": null,
   "id": "ffc0c1e3-9f77-41a8-829f-8e9a1bf52edb",
   "metadata": {},
   "outputs": [],
   "source": []
  },
  {
   "cell_type": "code",
   "execution_count": null,
   "id": "e68325c4-cbaa-4dc5-8958-2020b8ae7162",
   "metadata": {},
   "outputs": [],
   "source": []
  },
  {
   "cell_type": "code",
   "execution_count": null,
   "id": "185a0098-e177-4b95-82cc-58c735363c60",
   "metadata": {},
   "outputs": [],
   "source": []
  },
  {
   "cell_type": "code",
   "execution_count": null,
   "id": "ee3e9e61-1f5a-4e9c-abcd-c8a6a99201e3",
   "metadata": {},
   "outputs": [],
   "source": []
  },
  {
   "cell_type": "code",
   "execution_count": null,
   "id": "3c602424-24bb-4876-ad7c-157226a1db15",
   "metadata": {},
   "outputs": [],
   "source": []
  },
  {
   "cell_type": "code",
   "execution_count": null,
   "id": "bc598152-9bfd-49cb-94a1-e06bf3b9adfa",
   "metadata": {},
   "outputs": [],
   "source": []
  },
  {
   "cell_type": "code",
   "execution_count": null,
   "id": "3b2ae018-e508-46da-b0e6-0c4d3c803692",
   "metadata": {},
   "outputs": [],
   "source": []
  }
 ],
 "metadata": {
  "kernelspec": {
   "display_name": "torch",
   "language": "python",
   "name": "torch"
  },
  "language_info": {
   "codemirror_mode": {
    "name": "ipython",
    "version": 3
   },
   "file_extension": ".py",
   "mimetype": "text/x-python",
   "name": "python",
   "nbconvert_exporter": "python",
   "pygments_lexer": "ipython3",
   "version": "3.10.15"
  }
 },
 "nbformat": 4,
 "nbformat_minor": 5
}
