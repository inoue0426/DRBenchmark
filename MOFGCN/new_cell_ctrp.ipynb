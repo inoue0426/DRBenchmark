{
 "cells": [
  {
   "cell_type": "code",
   "execution_count": 1,
   "id": "572a0fa8-b250-47bc-b76d-a2ec8c923717",
   "metadata": {},
   "outputs": [],
   "source": [
    "import argparse\n",
    "\n",
    "import numpy as np\n",
    "import pandas as pd\n",
    "import scipy.sparse as sp\n",
    "import torch\n",
    "from sklearn.model_selection import KFold\n",
    "from tqdm import tqdm"
   ]
  },
  {
   "cell_type": "code",
   "execution_count": 2,
   "id": "807ed612-b85a-46b4-9f14-9df64631581d",
   "metadata": {},
   "outputs": [],
   "source": [
    "%load_ext autoreload\n",
    "%autoreload 2\n",
    "\n",
    "from load_data import load_data\n",
    "from model import GModel\n",
    "from myutils import roc_auc, translate_result\n",
    "from optimizer import Optimizer\n",
    "from sampler import NewSampler"
   ]
  },
  {
   "cell_type": "code",
   "execution_count": 3,
   "id": "377e2120-1fee-4f37-acac-6b5693543ff4",
   "metadata": {},
   "outputs": [],
   "source": [
    "class Args:\n",
    "    def __init__(self):\n",
    "        self.device = \"cpu\"  # cuda:number or cpu\n",
    "        self.data = \"ctrp\"  # Dataset{gdsc or ccle}\n",
    "\n",
    "\n",
    "args = Args()\n",
    "res, drug_finger, exprs, mut, cna, null_mask, pos_num = load_data(args)"
   ]
  },
  {
   "cell_type": "code",
   "execution_count": 4,
   "id": "e4830366-799a-4b1e-8395-7d4121b83a73",
   "metadata": {},
   "outputs": [],
   "source": [
    "cell_sum = np.sum(res, axis=1)\n",
    "drug_sum = np.sum(res, axis=0)\n",
    "\n",
    "target_dim = [\n",
    "    0,  # Cell\n",
    "    # 1  # Drug\n",
    "]\n",
    "device = torch.device(\"cuda\" if torch.cuda.is_available() else \"cpu\")"
   ]
  },
  {
   "cell_type": "code",
   "execution_count": 5,
   "id": "f7186080-2927-47ab-82ec-1334f60f6777",
   "metadata": {},
   "outputs": [],
   "source": [
    "def mofgcn_new(\n",
    "    exprs,\n",
    "    cna,\n",
    "    mut,\n",
    "    drug_finger,\n",
    "    res_mat,\n",
    "    null_mask,\n",
    "    target_dim,\n",
    "    target_index,\n",
    "    evaluate_fun,\n",
    "    args,\n",
    "    seed,\n",
    "    device,\n",
    "):\n",
    "    sampler = NewSampler(res_mat, null_mask, target_dim, target_index, seed)\n",
    "    val_labels = sampler.test_data[sampler.test_mask] \n",
    "\n",
    "    if len(np.unique(val_labels)) < 2:\n",
    "        print(f\"Target {target_index} skipped: Validation set has only one class.\")\n",
    "        return None, None \n",
    "\n",
    "    model = GModel(\n",
    "        adj_mat=sampler.train_data,\n",
    "        gene=exprs,\n",
    "        cna=cna,\n",
    "        mutation=mut,\n",
    "        sigma=2,\n",
    "        k=11,\n",
    "        iterates=3,\n",
    "        feature_drug=drug_finger,\n",
    "        n_hid1=192,\n",
    "        n_hid2=36,\n",
    "        alpha=5.74,\n",
    "        device=device,\n",
    "    )\n",
    "    opt = Optimizer(\n",
    "        model,\n",
    "        sampler.train_data,\n",
    "        sampler.test_data,\n",
    "        sampler.test_mask,\n",
    "        sampler.train_mask,\n",
    "        roc_auc,\n",
    "        lr=5e-4,\n",
    "        epochs=1000,\n",
    "        device=device,\n",
    "    ).to(device)\n",
    "    epoch, true_data, predict_data = opt()\n",
    "    return true_data, predict_data"
   ]
  },
  {
   "cell_type": "code",
   "execution_count": 6,
   "id": "c23b7d83-33d7-4868-8981-12ae43bc19ec",
   "metadata": {
    "scrolled": true
   },
   "outputs": [
    {
     "name": "stderr",
     "output_type": "stream",
     "text": [
      "  0%|          | 0/756 [00:00<?, ?it/s]"
     ]
    },
    {
     "name": "stdout",
     "output_type": "stream",
     "text": [
      "epoch:   0 loss:0.710613 auc:0.6057\n",
      "epoch:  20 loss:0.390960 auc:0.9487\n",
      "epoch:  40 loss:0.375464 auc:0.9485\n",
      "epoch:  60 loss:0.372162 auc:0.9498\n",
      "epoch:  80 loss:0.370933 auc:0.9492\n",
      "epoch: 100 loss:0.369972 auc:0.9492\n",
      "epoch: 120 loss:0.368649 auc:0.9494\n",
      "epoch: 140 loss:0.366055 auc:0.9490\n",
      "epoch: 160 loss:0.360743 auc:0.9479\n"
     ]
    },
    {
     "name": "stderr",
     "output_type": "stream",
     "text": [
      "  0%|          | 1/756 [00:10<2:06:19, 10.04s/it]"
     ]
    },
    {
     "name": "stdout",
     "output_type": "stream",
     "text": [
      "epoch: 180 loss:0.354110 auc:0.9477\n",
      "Fit finished.\n",
      "epoch:   0 loss:0.784448 auc:0.4388\n",
      "epoch:  20 loss:0.395113 auc:0.9320\n",
      "epoch:  40 loss:0.377392 auc:0.9343\n",
      "epoch:  60 loss:0.372745 auc:0.9341\n",
      "epoch:  80 loss:0.371237 auc:0.9339\n",
      "epoch: 100 loss:0.370002 auc:0.9341\n",
      "epoch: 120 loss:0.368214 auc:0.9342\n",
      "epoch: 140 loss:0.364917 auc:0.9344\n",
      "epoch: 160 loss:0.360063 auc:0.9339\n",
      "epoch: 180 loss:0.355371 auc:0.9344\n",
      "epoch: 200 loss:0.351749 auc:0.9344\n"
     ]
    },
    {
     "name": "stderr",
     "output_type": "stream",
     "text": [
      "  0%|          | 2/756 [00:23<2:30:50, 12.00s/it]"
     ]
    },
    {
     "name": "stdout",
     "output_type": "stream",
     "text": [
      "epoch: 220 loss:0.343769 auc:0.9334\n",
      "Fit finished.\n",
      "epoch:   0 loss:0.828791 auc:0.3834\n",
      "epoch:  20 loss:0.406592 auc:0.9496\n",
      "epoch:  40 loss:0.379775 auc:0.9480\n",
      "epoch:  60 loss:0.374000 auc:0.9483\n",
      "epoch:  80 loss:0.372141 auc:0.9489\n",
      "epoch: 100 loss:0.371338 auc:0.9486\n",
      "epoch: 120 loss:0.370717 auc:0.9488\n",
      "epoch: 140 loss:0.370019 auc:0.9485\n",
      "epoch: 160 loss:0.369058 auc:0.9483\n"
     ]
    },
    {
     "name": "stderr",
     "output_type": "stream",
     "text": [
      "  0%|          | 3/756 [00:32<2:12:17, 10.54s/it]"
     ]
    },
    {
     "name": "stdout",
     "output_type": "stream",
     "text": [
      "epoch: 180 loss:0.367502 auc:0.9478\n",
      "Fit finished.\n",
      "epoch:   0 loss:0.805430 auc:0.5310\n",
      "epoch:  20 loss:0.390497 auc:0.8935\n",
      "epoch:  40 loss:0.376106 auc:0.8900\n",
      "epoch:  60 loss:0.372294 auc:0.8912\n",
      "epoch:  80 loss:0.371165 auc:0.8912\n",
      "epoch: 100 loss:0.370334 auc:0.8914\n",
      "epoch: 120 loss:0.369361 auc:0.8914\n",
      "epoch: 140 loss:0.367929 auc:0.8912\n",
      "epoch: 160 loss:0.365358 auc:0.8904\n"
     ]
    },
    {
     "name": "stderr",
     "output_type": "stream",
     "text": [
      "  1%|          | 4/756 [00:42<2:08:47, 10.28s/it]"
     ]
    },
    {
     "name": "stdout",
     "output_type": "stream",
     "text": [
      "epoch: 180 loss:0.360821 auc:0.8892\n",
      "Fit finished.\n",
      "epoch:   0 loss:0.932876 auc:0.3846\n",
      "epoch:  20 loss:0.393607 auc:0.8987\n",
      "epoch:  40 loss:0.376457 auc:0.9044\n",
      "epoch:  60 loss:0.372734 auc:0.9061\n",
      "epoch:  80 loss:0.371409 auc:0.9056\n",
      "epoch: 100 loss:0.370570 auc:0.9057\n",
      "epoch: 120 loss:0.369627 auc:0.9060\n",
      "epoch: 140 loss:0.368229 auc:0.9060\n",
      "epoch: 160 loss:0.365793 auc:0.9057\n",
      "epoch: 180 loss:0.361517 auc:0.9052\n",
      "epoch: 200 loss:0.356266 auc:0.9051\n"
     ]
    },
    {
     "name": "stderr",
     "output_type": "stream",
     "text": [
      "  1%|          | 5/756 [00:54<2:17:46, 11.01s/it]"
     ]
    },
    {
     "name": "stdout",
     "output_type": "stream",
     "text": [
      "epoch: 220 loss:0.350409 auc:0.9039\n",
      "Fit finished.\n",
      "epoch:   0 loss:0.740055 auc:0.5716\n",
      "epoch:  20 loss:0.393600 auc:0.9462\n",
      "epoch:  40 loss:0.375610 auc:0.9451\n",
      "epoch:  60 loss:0.372284 auc:0.9452\n",
      "epoch:  80 loss:0.371069 auc:0.9456\n",
      "epoch: 100 loss:0.370041 auc:0.9457\n",
      "epoch: 120 loss:0.368453 auc:0.9457\n",
      "epoch: 140 loss:0.365013 auc:0.9458\n",
      "epoch: 160 loss:0.359685 auc:0.9457\n"
     ]
    },
    {
     "name": "stderr",
     "output_type": "stream",
     "text": [
      "  1%|          | 6/756 [01:03<2:09:36, 10.37s/it]"
     ]
    },
    {
     "name": "stdout",
     "output_type": "stream",
     "text": [
      "epoch: 180 loss:0.354450 auc:0.9450\n",
      "Fit finished.\n",
      "epoch:   0 loss:0.738149 auc:0.5842\n",
      "epoch:  20 loss:0.386983 auc:0.9167\n",
      "epoch:  40 loss:0.374524 auc:0.9201\n",
      "epoch:  60 loss:0.371354 auc:0.9199\n",
      "epoch:  80 loss:0.369924 auc:0.9194\n",
      "epoch: 100 loss:0.367939 auc:0.9198\n",
      "epoch: 120 loss:0.363983 auc:0.9186\n",
      "epoch: 140 loss:0.358058 auc:0.9177\n",
      "epoch: 160 loss:0.351578 auc:0.9167\n",
      "epoch: 180 loss:0.349084 auc:0.9168\n"
     ]
    },
    {
     "name": "stderr",
     "output_type": "stream",
     "text": [
      "  1%|          | 7/756 [01:13<2:06:28, 10.13s/it]"
     ]
    },
    {
     "name": "stdout",
     "output_type": "stream",
     "text": [
      "epoch: 200 loss:0.335464 auc:0.9186\n",
      "Fit finished.\n",
      "epoch:   0 loss:0.855667 auc:0.2237\n",
      "epoch:  20 loss:0.395617 auc:0.9509\n",
      "epoch:  40 loss:0.376512 auc:0.9515\n",
      "epoch:  60 loss:0.372572 auc:0.9515\n",
      "epoch:  80 loss:0.371536 auc:0.9518\n",
      "epoch: 100 loss:0.370820 auc:0.9522\n",
      "epoch: 120 loss:0.370043 auc:0.9523\n",
      "epoch: 140 loss:0.368890 auc:0.9527\n",
      "epoch: 160 loss:0.366710 auc:0.9534\n",
      "epoch: 180 loss:0.362489 auc:0.9549\n",
      "epoch: 200 loss:0.357817 auc:0.9558\n",
      "epoch: 220 loss:0.353390 auc:0.9554\n",
      "epoch: 240 loss:0.349044 auc:0.9550\n"
     ]
    },
    {
     "name": "stderr",
     "output_type": "stream",
     "text": [
      "  1%|          | 8/756 [01:25<2:14:22, 10.78s/it]"
     ]
    },
    {
     "name": "stdout",
     "output_type": "stream",
     "text": [
      "epoch: 260 loss:0.342955 auc:0.9506\n",
      "Fit finished.\n",
      "epoch:   0 loss:0.728751 auc:0.6347\n",
      "epoch:  20 loss:0.406726 auc:0.8921\n",
      "epoch:  40 loss:0.378204 auc:0.9069\n",
      "epoch:  60 loss:0.373202 auc:0.9072\n",
      "epoch:  80 loss:0.371497 auc:0.9063\n",
      "epoch: 100 loss:0.370629 auc:0.9063\n",
      "epoch: 120 loss:0.369792 auc:0.9065\n",
      "epoch: 140 loss:0.368681 auc:0.9071\n",
      "epoch: 160 loss:0.366794 auc:0.9084\n",
      "epoch: 180 loss:0.362816 auc:0.9110\n",
      "epoch: 200 loss:0.357093 auc:0.9158\n",
      "epoch: 220 loss:0.351115 auc:0.9217\n",
      "epoch: 240 loss:0.344716 auc:0.9298\n",
      "epoch: 260 loss:0.335947 auc:0.9393\n",
      "epoch: 280 loss:0.331921 auc:0.9367\n",
      "epoch: 300 loss:0.321196 auc:0.9475\n",
      "epoch: 320 loss:0.312801 auc:0.9494\n",
      "epoch: 340 loss:0.305193 auc:0.9473\n",
      "epoch: 360 loss:0.298108 auc:0.9462\n",
      "epoch: 380 loss:0.292839 auc:0.9420\n",
      "epoch: 400 loss:0.287497 auc:0.9582\n",
      "epoch: 420 loss:0.283587 auc:0.9584\n",
      "epoch: 440 loss:0.280495 auc:0.9584\n",
      "epoch: 460 loss:0.278909 auc:0.9526\n",
      "epoch: 480 loss:0.275824 auc:0.9554\n",
      "epoch: 500 loss:0.274485 auc:0.9537\n",
      "epoch: 520 loss:0.271712 auc:0.9652\n",
      "epoch: 540 loss:0.270300 auc:0.9653\n"
     ]
    },
    {
     "name": "stderr",
     "output_type": "stream",
     "text": [
      "  1%|          | 9/756 [01:51<3:15:34, 15.71s/it]"
     ]
    },
    {
     "name": "stdout",
     "output_type": "stream",
     "text": [
      "epoch: 560 loss:0.269683 auc:0.9540\n",
      "Fit finished.\n",
      "epoch:   0 loss:0.788285 auc:0.3864\n",
      "epoch:  20 loss:0.397964 auc:0.9520\n",
      "epoch:  40 loss:0.377483 auc:0.9548\n",
      "epoch:  60 loss:0.373406 auc:0.9573\n",
      "epoch:  80 loss:0.372073 auc:0.9583\n",
      "epoch: 100 loss:0.371289 auc:0.9582\n",
      "epoch: 120 loss:0.370516 auc:0.9582\n",
      "epoch: 140 loss:0.369423 auc:0.9579\n",
      "epoch: 160 loss:0.367519 auc:0.9573\n",
      "epoch: 180 loss:0.364002 auc:0.9567\n",
      "epoch: 200 loss:0.359356 auc:0.9551\n"
     ]
    },
    {
     "name": "stderr",
     "output_type": "stream",
     "text": [
      "  1%|▏         | 10/756 [02:02<2:56:27, 14.19s/it]"
     ]
    },
    {
     "name": "stdout",
     "output_type": "stream",
     "text": [
      "epoch: 220 loss:0.354559 auc:0.9546\n",
      "Fit finished.\n",
      "epoch:   0 loss:0.817228 auc:0.5698\n",
      "epoch:  20 loss:0.408566 auc:0.9357\n",
      "epoch:  40 loss:0.381447 auc:0.9397\n",
      "epoch:  60 loss:0.374507 auc:0.9377\n",
      "epoch:  80 loss:0.372148 auc:0.9382\n",
      "epoch: 100 loss:0.371083 auc:0.9385\n",
      "epoch: 120 loss:0.370226 auc:0.9384\n",
      "epoch: 140 loss:0.369184 auc:0.9382\n",
      "epoch: 160 loss:0.367499 auc:0.9376\n",
      "epoch: 180 loss:0.364261 auc:0.9382\n"
     ]
    },
    {
     "name": "stderr",
     "output_type": "stream",
     "text": [
      "  1%|▏         | 11/756 [02:12<2:40:16, 12.91s/it]"
     ]
    },
    {
     "name": "stdout",
     "output_type": "stream",
     "text": [
      "epoch: 200 loss:0.359592 auc:0.9389\n",
      "Fit finished.\n",
      "epoch:   0 loss:0.768933 auc:0.4216\n",
      "epoch:  20 loss:0.385251 auc:0.8891\n",
      "epoch:  40 loss:0.374736 auc:0.8928\n",
      "epoch:  60 loss:0.372194 auc:0.8940\n",
      "epoch:  80 loss:0.370763 auc:0.8936\n",
      "epoch: 100 loss:0.369358 auc:0.8949\n",
      "epoch: 120 loss:0.366855 auc:0.8961\n",
      "epoch: 140 loss:0.361460 auc:0.9012\n",
      "epoch: 160 loss:0.355368 auc:0.9078\n",
      "epoch: 180 loss:0.349155 auc:0.9130\n",
      "epoch: 200 loss:0.341188 auc:0.9180\n",
      "epoch: 220 loss:0.330686 auc:0.9247\n",
      "epoch: 240 loss:0.322603 auc:0.9253\n",
      "epoch: 260 loss:0.313832 auc:0.9237\n",
      "epoch: 280 loss:0.346304 auc:0.9000\n",
      "epoch: 300 loss:0.307708 auc:0.9249\n",
      "epoch: 320 loss:0.298678 auc:0.9264\n",
      "epoch: 340 loss:0.292805 auc:0.9255\n",
      "epoch: 360 loss:0.287909 auc:0.9237\n"
     ]
    },
    {
     "name": "stderr",
     "output_type": "stream",
     "text": [
      "  2%|▏         | 12/756 [02:29<2:56:23, 14.23s/it]"
     ]
    },
    {
     "name": "stdout",
     "output_type": "stream",
     "text": [
      "epoch: 380 loss:0.283779 auc:0.9232\n",
      "Fit finished.\n",
      "epoch:   0 loss:0.809277 auc:0.4950\n",
      "epoch:  20 loss:0.403047 auc:0.9541\n",
      "epoch:  40 loss:0.380058 auc:0.9574\n",
      "epoch:  60 loss:0.373357 auc:0.9589\n",
      "epoch:  80 loss:0.371462 auc:0.9583\n",
      "epoch: 100 loss:0.370340 auc:0.9582\n",
      "epoch: 120 loss:0.369048 auc:0.9580\n",
      "epoch: 140 loss:0.366772 auc:0.9571\n",
      "epoch: 160 loss:0.362257 auc:0.9550\n"
     ]
    },
    {
     "name": "stderr",
     "output_type": "stream",
     "text": [
      "  2%|▏         | 13/756 [02:37<2:33:01, 12.36s/it]"
     ]
    },
    {
     "name": "stdout",
     "output_type": "stream",
     "text": [
      "epoch: 180 loss:0.356620 auc:0.9514\n",
      "Fit finished.\n",
      "epoch:   0 loss:0.784984 auc:0.5625\n",
      "epoch:  20 loss:0.388577 auc:0.9249\n",
      "epoch:  40 loss:0.375398 auc:0.9275\n",
      "epoch:  60 loss:0.372598 auc:0.9269\n",
      "epoch:  80 loss:0.371460 auc:0.9266\n",
      "epoch: 100 loss:0.370707 auc:0.9271\n",
      "epoch: 120 loss:0.369953 auc:0.9270\n",
      "epoch: 140 loss:0.369004 auc:0.9271\n",
      "epoch: 160 loss:0.367565 auc:0.9274\n",
      "epoch: 180 loss:0.364859 auc:0.9283\n",
      "epoch: 200 loss:0.359291 auc:0.9293\n",
      "epoch: 220 loss:0.352308 auc:0.9317\n",
      "epoch: 240 loss:0.342033 auc:0.9335\n",
      "epoch: 260 loss:0.332204 auc:0.9307\n"
     ]
    },
    {
     "name": "stderr",
     "output_type": "stream",
     "text": [
      "  2%|▏         | 14/756 [02:51<2:35:32, 12.58s/it]"
     ]
    },
    {
     "name": "stdout",
     "output_type": "stream",
     "text": [
      "epoch: 280 loss:0.324765 auc:0.9225\n",
      "Fit finished.\n",
      "epoch:   0 loss:0.864608 auc:0.3412\n",
      "epoch:  20 loss:0.390820 auc:0.9150\n",
      "epoch:  40 loss:0.374555 auc:0.9212\n",
      "epoch:  60 loss:0.371975 auc:0.9235\n",
      "epoch:  80 loss:0.370740 auc:0.9227\n",
      "epoch: 100 loss:0.369384 auc:0.9233\n",
      "epoch: 120 loss:0.366940 auc:0.9237\n",
      "epoch: 140 loss:0.362118 auc:0.9243\n",
      "epoch: 160 loss:0.356374 auc:0.9243\n",
      "epoch: 180 loss:0.350639 auc:0.9234\n",
      "epoch: 200 loss:0.344205 auc:0.9225\n",
      "epoch: 220 loss:0.334895 auc:0.9256\n",
      "epoch: 240 loss:0.323995 auc:0.9292\n",
      "epoch: 260 loss:0.319862 auc:0.9358\n",
      "epoch: 280 loss:0.311672 auc:0.9367\n",
      "epoch: 300 loss:0.301804 auc:0.9357\n",
      "epoch: 320 loss:0.296739 auc:0.9326\n",
      "epoch: 340 loss:0.291433 auc:0.9335\n",
      "epoch: 360 loss:0.286463 auc:0.9335\n",
      "epoch: 380 loss:0.282401 auc:0.9314\n"
     ]
    },
    {
     "name": "stderr",
     "output_type": "stream",
     "text": [
      "  2%|▏         | 15/756 [03:09<2:57:32, 14.38s/it]"
     ]
    },
    {
     "name": "stdout",
     "output_type": "stream",
     "text": [
      "epoch: 400 loss:0.279482 auc:0.9261\n",
      "Fit finished.\n",
      "epoch:   0 loss:0.836570 auc:0.6086\n",
      "epoch:  20 loss:0.413283 auc:0.8554\n",
      "epoch:  40 loss:0.380105 auc:0.8703\n",
      "epoch:  60 loss:0.373910 auc:0.8732\n",
      "epoch:  80 loss:0.372097 auc:0.8724\n",
      "epoch: 100 loss:0.371243 auc:0.8728\n",
      "epoch: 120 loss:0.370578 auc:0.8733\n",
      "epoch: 140 loss:0.369835 auc:0.8736\n",
      "epoch: 160 loss:0.368791 auc:0.8738\n",
      "epoch: 180 loss:0.367024 auc:0.8740\n",
      "epoch: 200 loss:0.363663 auc:0.8748\n",
      "epoch: 220 loss:0.358795 auc:0.8734\n",
      "epoch: 240 loss:0.354060 auc:0.8760\n",
      "epoch: 260 loss:0.349155 auc:0.8825\n",
      "epoch: 280 loss:0.344279 auc:0.8899\n",
      "epoch: 300 loss:0.338035 auc:0.8972\n",
      "epoch: 320 loss:0.331378 auc:0.8994\n",
      "epoch: 340 loss:0.324336 auc:0.8974\n",
      "epoch: 360 loss:0.316746 auc:0.8937\n",
      "epoch: 380 loss:0.309125 auc:0.8878\n",
      "epoch: 400 loss:0.303215 auc:0.8888\n",
      "epoch: 420 loss:0.299872 auc:0.8905\n",
      "epoch: 440 loss:0.293833 auc:0.8903\n"
     ]
    },
    {
     "name": "stderr",
     "output_type": "stream",
     "text": [
      "  2%|▏         | 16/756 [03:30<3:21:35, 16.35s/it]"
     ]
    },
    {
     "name": "stdout",
     "output_type": "stream",
     "text": [
      "epoch: 460 loss:0.289128 auc:0.8877\n",
      "Fit finished.\n",
      "epoch:   0 loss:0.739384 auc:0.5395\n",
      "epoch:  20 loss:0.398170 auc:0.9090\n",
      "epoch:  40 loss:0.374921 auc:0.9138\n",
      "epoch:  60 loss:0.372003 auc:0.9142\n",
      "epoch:  80 loss:0.370700 auc:0.9142\n",
      "epoch: 100 loss:0.369433 auc:0.9143\n",
      "epoch: 120 loss:0.367409 auc:0.9136\n",
      "epoch: 140 loss:0.363517 auc:0.9120\n",
      "epoch: 160 loss:0.357927 auc:0.9108\n",
      "epoch: 180 loss:0.352608 auc:0.9110\n"
     ]
    },
    {
     "name": "stderr",
     "output_type": "stream",
     "text": [
      "  2%|▏         | 17/756 [03:40<2:58:44, 14.51s/it]"
     ]
    },
    {
     "name": "stdout",
     "output_type": "stream",
     "text": [
      "epoch: 200 loss:0.346563 auc:0.9122\n",
      "Fit finished.\n",
      "epoch:   0 loss:0.751973 auc:0.4366\n",
      "epoch:  20 loss:0.395869 auc:0.8330\n",
      "epoch:  40 loss:0.377482 auc:0.8331\n",
      "epoch:  60 loss:0.372504 auc:0.8322\n",
      "epoch:  80 loss:0.371167 auc:0.8331\n",
      "epoch: 100 loss:0.370311 auc:0.8334\n",
      "epoch: 120 loss:0.369398 auc:0.8329\n",
      "epoch: 140 loss:0.368075 auc:0.8329\n",
      "epoch: 160 loss:0.365758 auc:0.8327\n"
     ]
    },
    {
     "name": "stderr",
     "output_type": "stream",
     "text": [
      "  2%|▏         | 18/756 [03:49<2:37:27, 12.80s/it]"
     ]
    },
    {
     "name": "stdout",
     "output_type": "stream",
     "text": [
      "epoch: 180 loss:0.361617 auc:0.8312\n",
      "Fit finished.\n",
      "epoch:   0 loss:0.782917 auc:0.3460\n",
      "epoch:  20 loss:0.386173 auc:0.9579\n",
      "epoch:  40 loss:0.374680 auc:0.9605\n",
      "epoch:  60 loss:0.371698 auc:0.9601\n",
      "epoch:  80 loss:0.370429 auc:0.9604\n",
      "epoch: 100 loss:0.368941 auc:0.9601\n",
      "epoch: 120 loss:0.365740 auc:0.9610\n",
      "epoch: 140 loss:0.359415 auc:0.9621\n",
      "epoch: 160 loss:0.352511 auc:0.9638\n",
      "epoch: 180 loss:0.343889 auc:0.9594\n"
     ]
    },
    {
     "name": "stderr",
     "output_type": "stream",
     "text": [
      "  3%|▎         | 19/756 [04:01<2:33:57, 12.53s/it]"
     ]
    },
    {
     "name": "stdout",
     "output_type": "stream",
     "text": [
      "epoch: 200 loss:0.332371 auc:0.9529\n",
      "Fit finished.\n",
      "epoch:   0 loss:0.769432 auc:0.5069\n",
      "epoch:  20 loss:0.403760 auc:0.8539\n",
      "epoch:  40 loss:0.378167 auc:0.8604\n",
      "epoch:  60 loss:0.372827 auc:0.8638\n",
      "epoch:  80 loss:0.371232 auc:0.8648\n",
      "epoch: 100 loss:0.369920 auc:0.8656\n",
      "epoch: 120 loss:0.367999 auc:0.8651\n",
      "epoch: 140 loss:0.364551 auc:0.8647\n",
      "epoch: 160 loss:0.359351 auc:0.8638\n",
      "epoch: 180 loss:0.353687 auc:0.8638\n",
      "epoch: 200 loss:0.345606 auc:0.8626\n",
      "epoch: 220 loss:0.337871 auc:0.8717\n",
      "epoch: 240 loss:0.331011 auc:0.8714\n",
      "epoch: 260 loss:0.324281 auc:0.8682\n",
      "epoch: 280 loss:0.318425 auc:0.8661\n",
      "epoch: 300 loss:0.310348 auc:0.8662\n",
      "epoch: 320 loss:0.303582 auc:0.8677\n",
      "epoch: 340 loss:0.297803 auc:0.8672\n",
      "epoch: 360 loss:0.293548 auc:0.8699\n"
     ]
    },
    {
     "name": "stderr",
     "output_type": "stream",
     "text": [
      "  3%|▎         | 20/756 [04:20<2:57:54, 14.50s/it]"
     ]
    },
    {
     "name": "stdout",
     "output_type": "stream",
     "text": [
      "epoch: 380 loss:0.287873 auc:0.8715\n",
      "Fit finished.\n",
      "epoch:   0 loss:0.738886 auc:0.6549\n",
      "epoch:  20 loss:0.391768 auc:0.9162\n",
      "epoch:  40 loss:0.377770 auc:0.9210\n",
      "epoch:  60 loss:0.372919 auc:0.9206\n",
      "epoch:  80 loss:0.371356 auc:0.9217\n",
      "epoch: 100 loss:0.370305 auc:0.9214\n",
      "epoch: 120 loss:0.369029 auc:0.9214\n",
      "epoch: 140 loss:0.366716 auc:0.9214\n",
      "epoch: 160 loss:0.362411 auc:0.9221\n",
      "epoch: 180 loss:0.357246 auc:0.9238\n",
      "epoch: 200 loss:0.351660 auc:0.9250\n",
      "epoch: 220 loss:0.348155 auc:0.9262\n",
      "epoch: 240 loss:0.338233 auc:0.9266\n",
      "epoch: 260 loss:0.330639 auc:0.9264\n",
      "epoch: 280 loss:0.329298 auc:0.9268\n",
      "epoch: 300 loss:0.319247 auc:0.9245\n",
      "epoch: 320 loss:0.310574 auc:0.9263\n",
      "epoch: 340 loss:0.303464 auc:0.9305\n",
      "epoch: 360 loss:0.297584 auc:0.9333\n",
      "epoch: 380 loss:0.292824 auc:0.9340\n",
      "epoch: 400 loss:0.289488 auc:0.9355\n",
      "epoch: 420 loss:0.283018 auc:0.9362\n",
      "epoch: 440 loss:0.279633 auc:0.9370\n",
      "epoch: 460 loss:0.277719 auc:0.9378\n",
      "epoch: 480 loss:0.274922 auc:0.9381\n",
      "epoch: 500 loss:0.272514 auc:0.9386\n",
      "epoch: 520 loss:0.272020 auc:0.9391\n",
      "epoch: 540 loss:0.269424 auc:0.9396\n",
      "epoch: 560 loss:0.268625 auc:0.9382\n",
      "epoch: 580 loss:0.267786 auc:0.9390\n",
      "epoch: 600 loss:0.266264 auc:0.9394\n"
     ]
    },
    {
     "name": "stderr",
     "output_type": "stream",
     "text": [
      "  3%|▎         | 21/756 [04:47<3:44:52, 18.36s/it]"
     ]
    },
    {
     "name": "stdout",
     "output_type": "stream",
     "text": [
      "epoch: 620 loss:0.265229 auc:0.9371\n",
      "Fit finished.\n",
      "epoch:   0 loss:0.815750 auc:0.5732\n",
      "epoch:  20 loss:0.407312 auc:0.8890\n",
      "epoch:  40 loss:0.378107 auc:0.9017\n",
      "epoch:  60 loss:0.373214 auc:0.9043\n",
      "epoch:  80 loss:0.371409 auc:0.9043\n",
      "epoch: 100 loss:0.370386 auc:0.9043\n",
      "epoch: 120 loss:0.369292 auc:0.9044\n",
      "epoch: 140 loss:0.367656 auc:0.9045\n",
      "epoch: 160 loss:0.364684 auc:0.9048\n",
      "epoch: 180 loss:0.360282 auc:0.9055\n",
      "epoch: 200 loss:0.356181 auc:0.9054\n",
      "epoch: 220 loss:0.351935 auc:0.9059\n",
      "epoch: 240 loss:0.348584 auc:0.9062\n",
      "epoch: 260 loss:0.341062 auc:0.9074\n",
      "epoch: 280 loss:0.334899 auc:0.9094\n",
      "epoch: 300 loss:0.326359 auc:0.9074\n",
      "epoch: 320 loss:0.317948 auc:0.9067\n"
     ]
    },
    {
     "name": "stderr",
     "output_type": "stream",
     "text": [
      "  3%|▎         | 22/756 [05:03<3:35:22, 17.61s/it]"
     ]
    },
    {
     "name": "stdout",
     "output_type": "stream",
     "text": [
      "epoch: 340 loss:0.310836 auc:0.8911\n",
      "Fit finished.\n",
      "epoch:   0 loss:0.775075 auc:0.5231\n",
      "epoch:  20 loss:0.411556 auc:0.9454\n",
      "epoch:  40 loss:0.381105 auc:0.9454\n",
      "epoch:  60 loss:0.373991 auc:0.9454\n",
      "epoch:  80 loss:0.371833 auc:0.9451\n",
      "epoch: 100 loss:0.370867 auc:0.9453\n",
      "epoch: 120 loss:0.370087 auc:0.9451\n",
      "epoch: 140 loss:0.369151 auc:0.9454\n",
      "epoch: 160 loss:0.367603 auc:0.9459\n",
      "epoch: 180 loss:0.364707 auc:0.9471\n",
      "epoch: 200 loss:0.360297 auc:0.9477\n",
      "epoch: 220 loss:0.355763 auc:0.9490\n",
      "epoch: 240 loss:0.350815 auc:0.9499\n",
      "epoch: 260 loss:0.345428 auc:0.9511\n",
      "epoch: 280 loss:0.337674 auc:0.9530\n",
      "epoch: 300 loss:0.330113 auc:0.9514\n",
      "epoch: 320 loss:0.322655 auc:0.9523\n",
      "epoch: 340 loss:0.315296 auc:0.9473\n",
      "epoch: 360 loss:0.307890 auc:0.9503\n"
     ]
    },
    {
     "name": "stderr",
     "output_type": "stream",
     "text": [
      "  3%|▎         | 23/756 [05:22<3:38:38, 17.90s/it]"
     ]
    },
    {
     "name": "stdout",
     "output_type": "stream",
     "text": [
      "epoch: 380 loss:0.301643 auc:0.9446\n",
      "Fit finished.\n",
      "epoch:   0 loss:0.899113 auc:0.6053\n",
      "epoch:  20 loss:0.406698 auc:0.9105\n",
      "epoch:  40 loss:0.381349 auc:0.9145\n",
      "epoch:  60 loss:0.374019 auc:0.9176\n",
      "epoch:  80 loss:0.371879 auc:0.9169\n",
      "epoch: 100 loss:0.370863 auc:0.9167\n",
      "epoch: 120 loss:0.370040 auc:0.9171\n",
      "epoch: 140 loss:0.369108 auc:0.9174\n",
      "epoch: 160 loss:0.367817 auc:0.9177\n",
      "epoch: 180 loss:0.365619 auc:0.9187\n",
      "epoch: 200 loss:0.361473 auc:0.9218\n",
      "epoch: 220 loss:0.356410 auc:0.9261\n",
      "epoch: 240 loss:0.351434 auc:0.9284\n",
      "epoch: 260 loss:0.345047 auc:0.9305\n",
      "epoch: 280 loss:0.339520 auc:0.9214\n",
      "epoch: 300 loss:0.332116 auc:0.9179\n"
     ]
    },
    {
     "name": "stderr",
     "output_type": "stream",
     "text": [
      "  3%|▎         | 24/756 [05:38<3:30:31, 17.26s/it]"
     ]
    },
    {
     "name": "stdout",
     "output_type": "stream",
     "text": [
      "epoch: 320 loss:0.324679 auc:0.9136\n",
      "Fit finished.\n",
      "epoch:   0 loss:0.781965 auc:0.3911\n",
      "epoch:  20 loss:0.393155 auc:0.9316\n",
      "epoch:  40 loss:0.376601 auc:0.9300\n",
      "epoch:  60 loss:0.372730 auc:0.9292\n",
      "epoch:  80 loss:0.371326 auc:0.9301\n",
      "epoch: 100 loss:0.370377 auc:0.9299\n",
      "epoch: 120 loss:0.369365 auc:0.9306\n",
      "epoch: 140 loss:0.367983 auc:0.9314\n",
      "epoch: 160 loss:0.365588 auc:0.9334\n",
      "epoch: 180 loss:0.361012 auc:0.9380\n",
      "epoch: 200 loss:0.354093 auc:0.9450\n",
      "epoch: 220 loss:0.345290 auc:0.9490\n",
      "epoch: 240 loss:0.336577 auc:0.9512\n",
      "epoch: 260 loss:0.331038 auc:0.9605\n",
      "epoch: 280 loss:0.321964 auc:0.9581\n",
      "epoch: 300 loss:0.312315 auc:0.9422\n",
      "epoch: 320 loss:0.311528 auc:0.9469\n",
      "epoch: 340 loss:0.304525 auc:0.9484\n"
     ]
    },
    {
     "name": "stderr",
     "output_type": "stream",
     "text": [
      "  3%|▎         | 25/756 [05:57<3:37:21, 17.84s/it]"
     ]
    },
    {
     "name": "stdout",
     "output_type": "stream",
     "text": [
      "epoch: 360 loss:0.293585 auc:0.9407\n",
      "Fit finished.\n",
      "epoch:   0 loss:0.695477 auc:0.5978\n",
      "epoch:  20 loss:0.383380 auc:0.9300\n",
      "epoch:  40 loss:0.373971 auc:0.9322\n",
      "epoch:  60 loss:0.371693 auc:0.9331\n",
      "epoch:  80 loss:0.370172 auc:0.9328\n",
      "epoch: 100 loss:0.368329 auc:0.9330\n",
      "epoch: 120 loss:0.364880 auc:0.9322\n",
      "epoch: 140 loss:0.359506 auc:0.9302\n",
      "epoch: 160 loss:0.353895 auc:0.9291\n"
     ]
    },
    {
     "name": "stderr",
     "output_type": "stream",
     "text": [
      "  3%|▎         | 26/756 [06:07<3:08:20, 15.48s/it]"
     ]
    },
    {
     "name": "stdout",
     "output_type": "stream",
     "text": [
      "epoch: 180 loss:0.347477 auc:0.9287\n",
      "Fit finished.\n",
      "epoch:   0 loss:0.732690 auc:0.5635\n",
      "epoch:  20 loss:0.399205 auc:0.8854\n",
      "epoch:  40 loss:0.378049 auc:0.8855\n",
      "epoch:  60 loss:0.372681 auc:0.8862\n",
      "epoch:  80 loss:0.371252 auc:0.8859\n",
      "epoch: 100 loss:0.370358 auc:0.8855\n",
      "epoch: 120 loss:0.369433 auc:0.8858\n",
      "epoch: 140 loss:0.367977 auc:0.8852\n",
      "epoch: 160 loss:0.364807 auc:0.8842\n"
     ]
    },
    {
     "name": "stderr",
     "output_type": "stream",
     "text": [
      "  4%|▎         | 27/756 [06:20<2:58:41, 14.71s/it]"
     ]
    },
    {
     "name": "stdout",
     "output_type": "stream",
     "text": [
      "epoch: 180 loss:0.358966 auc:0.8804\n",
      "Fit finished.\n",
      "epoch:   0 loss:0.872026 auc:0.4144\n",
      "epoch:  20 loss:0.405984 auc:0.9093\n",
      "epoch:  40 loss:0.380442 auc:0.9273\n",
      "epoch:  60 loss:0.373678 auc:0.9301\n",
      "epoch:  80 loss:0.371745 auc:0.9302\n",
      "epoch: 100 loss:0.370875 auc:0.9311\n",
      "epoch: 120 loss:0.370126 auc:0.9310\n",
      "epoch: 140 loss:0.369183 auc:0.9315\n",
      "epoch: 160 loss:0.367706 auc:0.9312\n",
      "epoch: 180 loss:0.365119 auc:0.9311\n",
      "epoch: 200 loss:0.361271 auc:0.9310\n",
      "epoch: 220 loss:0.357323 auc:0.9308\n",
      "epoch: 240 loss:0.353276 auc:0.9308\n"
     ]
    },
    {
     "name": "stderr",
     "output_type": "stream",
     "text": [
      "  4%|▎         | 28/756 [06:32<2:50:14, 14.03s/it]"
     ]
    },
    {
     "name": "stdout",
     "output_type": "stream",
     "text": [
      "epoch: 260 loss:0.348508 auc:0.9298\n",
      "Fit finished.\n",
      "epoch:   0 loss:0.856965 auc:0.4491\n",
      "epoch:  20 loss:0.392892 auc:0.9217\n",
      "epoch:  40 loss:0.376129 auc:0.9278\n",
      "epoch:  60 loss:0.372695 auc:0.9285\n",
      "epoch:  80 loss:0.371600 auc:0.9297\n",
      "epoch: 100 loss:0.370859 auc:0.9293\n",
      "epoch: 120 loss:0.370037 auc:0.9294\n",
      "epoch: 140 loss:0.368831 auc:0.9292\n",
      "epoch: 160 loss:0.366704 auc:0.9279\n",
      "epoch: 180 loss:0.362788 auc:0.9259\n"
     ]
    },
    {
     "name": "stderr",
     "output_type": "stream",
     "text": [
      "  4%|▍         | 29/756 [06:42<2:34:20, 12.74s/it]"
     ]
    },
    {
     "name": "stdout",
     "output_type": "stream",
     "text": [
      "epoch: 200 loss:0.357718 auc:0.9239\n",
      "Fit finished.\n",
      "epoch:   0 loss:0.722931 auc:0.6393\n",
      "epoch:  20 loss:0.385861 auc:0.9273\n",
      "epoch:  40 loss:0.374886 auc:0.9278\n",
      "epoch:  60 loss:0.371632 auc:0.9293\n",
      "epoch:  80 loss:0.370424 auc:0.9287\n",
      "epoch: 100 loss:0.369172 auc:0.9297\n",
      "epoch: 120 loss:0.367126 auc:0.9312\n",
      "epoch: 140 loss:0.363010 auc:0.9322\n",
      "epoch: 160 loss:0.357009 auc:0.9353\n",
      "epoch: 180 loss:0.354243 auc:0.9318\n",
      "epoch: 200 loss:0.344967 auc:0.9282\n"
     ]
    },
    {
     "name": "stderr",
     "output_type": "stream",
     "text": [
      "  4%|▍         | 30/756 [06:53<2:26:42, 12.13s/it]"
     ]
    },
    {
     "name": "stdout",
     "output_type": "stream",
     "text": [
      "epoch: 220 loss:0.333802 auc:0.9231\n",
      "Fit finished.\n",
      "epoch:   0 loss:0.827654 auc:0.4518\n",
      "epoch:  20 loss:0.394511 auc:0.7091\n",
      "epoch:  40 loss:0.375824 auc:0.7158\n",
      "epoch:  60 loss:0.372357 auc:0.7179\n",
      "epoch:  80 loss:0.371045 auc:0.7195\n",
      "epoch: 100 loss:0.370075 auc:0.7208\n",
      "epoch: 120 loss:0.368608 auc:0.7213\n",
      "epoch: 140 loss:0.365346 auc:0.7211\n",
      "epoch: 160 loss:0.359477 auc:0.7208\n",
      "epoch: 180 loss:0.353847 auc:0.7215\n",
      "epoch: 200 loss:0.347919 auc:0.7241\n",
      "epoch: 220 loss:0.340669 auc:0.7241\n"
     ]
    },
    {
     "name": "stderr",
     "output_type": "stream",
     "text": [
      "  4%|▍         | 31/756 [07:04<2:22:43, 11.81s/it]"
     ]
    },
    {
     "name": "stdout",
     "output_type": "stream",
     "text": [
      "epoch: 240 loss:0.330510 auc:0.7144\n",
      "Fit finished.\n",
      "epoch:   0 loss:0.824451 auc:0.4236\n",
      "epoch:  20 loss:0.401882 auc:0.9217\n",
      "epoch:  40 loss:0.376730 auc:0.9285\n",
      "epoch:  60 loss:0.373168 auc:0.9327\n",
      "epoch:  80 loss:0.371659 auc:0.9329\n",
      "epoch: 100 loss:0.370693 auc:0.9328\n",
      "epoch: 120 loss:0.369383 auc:0.9332\n",
      "epoch: 140 loss:0.366953 auc:0.9336\n",
      "epoch: 160 loss:0.362388 auc:0.9343\n",
      "epoch: 180 loss:0.357056 auc:0.9342\n",
      "epoch: 200 loss:0.351943 auc:0.9343\n",
      "epoch: 220 loss:0.346534 auc:0.9348\n",
      "epoch: 240 loss:0.340322 auc:0.9343\n"
     ]
    },
    {
     "name": "stderr",
     "output_type": "stream",
     "text": [
      "  4%|▍         | 32/756 [07:15<2:22:31, 11.81s/it]"
     ]
    },
    {
     "name": "stdout",
     "output_type": "stream",
     "text": [
      "epoch: 260 loss:0.332692 auc:0.9299\n",
      "Fit finished.\n",
      "epoch:   0 loss:0.784628 auc:0.4922\n",
      "epoch:  20 loss:0.394244 auc:0.9163\n",
      "epoch:  40 loss:0.375576 auc:0.9141\n",
      "epoch:  60 loss:0.372033 auc:0.9147\n",
      "epoch:  80 loss:0.370618 auc:0.9151\n",
      "epoch: 100 loss:0.369287 auc:0.9150\n",
      "epoch: 120 loss:0.367269 auc:0.9150\n",
      "epoch: 140 loss:0.363500 auc:0.9157\n",
      "epoch: 160 loss:0.358206 auc:0.9168\n",
      "epoch: 180 loss:0.352550 auc:0.9182\n",
      "epoch: 200 loss:0.344901 auc:0.9206\n"
     ]
    },
    {
     "name": "stderr",
     "output_type": "stream",
     "text": [
      "  4%|▍         | 33/756 [07:30<2:32:24, 12.65s/it]"
     ]
    },
    {
     "name": "stdout",
     "output_type": "stream",
     "text": [
      "epoch: 220 loss:0.336767 auc:0.9040\n",
      "Fit finished.\n",
      "epoch:   0 loss:0.903680 auc:0.5957\n",
      "epoch:  20 loss:0.410679 auc:0.9292\n",
      "epoch:  40 loss:0.382978 auc:0.9375\n",
      "epoch:  60 loss:0.375270 auc:0.9411\n",
      "epoch:  80 loss:0.372828 auc:0.9426\n",
      "epoch: 100 loss:0.371857 auc:0.9427\n",
      "epoch: 120 loss:0.371195 auc:0.9426\n",
      "epoch: 140 loss:0.370539 auc:0.9428\n",
      "epoch: 160 loss:0.369749 auc:0.9430\n",
      "epoch: 180 loss:0.368637 auc:0.9429\n",
      "epoch: 200 loss:0.366766 auc:0.9432\n",
      "epoch: 220 loss:0.363408 auc:0.9434\n",
      "epoch: 240 loss:0.358960 auc:0.9446\n",
      "epoch: 260 loss:0.354197 auc:0.9452\n",
      "epoch: 280 loss:0.347638 auc:0.9452\n"
     ]
    },
    {
     "name": "stderr",
     "output_type": "stream",
     "text": [
      "  4%|▍         | 34/756 [07:45<2:40:28, 13.34s/it]"
     ]
    },
    {
     "name": "stdout",
     "output_type": "stream",
     "text": [
      "epoch: 300 loss:0.339340 auc:0.9423\n",
      "Fit finished.\n",
      "epoch:   0 loss:0.825529 auc:0.3516\n",
      "epoch:  20 loss:0.393444 auc:0.9071\n",
      "epoch:  40 loss:0.376339 auc:0.9162\n",
      "epoch:  60 loss:0.372225 auc:0.9161\n",
      "epoch:  80 loss:0.370850 auc:0.9163\n",
      "epoch: 100 loss:0.369772 auc:0.9167\n",
      "epoch: 120 loss:0.368269 auc:0.9166\n",
      "epoch: 140 loss:0.365553 auc:0.9180\n",
      "epoch: 160 loss:0.360757 auc:0.9180\n",
      "epoch: 180 loss:0.355461 auc:0.9167\n"
     ]
    },
    {
     "name": "stderr",
     "output_type": "stream",
     "text": [
      "  5%|▍         | 35/756 [07:55<2:28:37, 12.37s/it]"
     ]
    },
    {
     "name": "stdout",
     "output_type": "stream",
     "text": [
      "epoch: 200 loss:0.349242 auc:0.9154\n",
      "Fit finished.\n",
      "epoch:   0 loss:0.806986 auc:0.5787\n",
      "epoch:  20 loss:0.398243 auc:0.8896\n",
      "epoch:  40 loss:0.376522 auc:0.9012\n",
      "epoch:  60 loss:0.372591 auc:0.9037\n",
      "epoch:  80 loss:0.371258 auc:0.9031\n",
      "epoch: 100 loss:0.370375 auc:0.9030\n",
      "epoch: 120 loss:0.369326 auc:0.9031\n",
      "epoch: 140 loss:0.367673 auc:0.9027\n",
      "epoch: 160 loss:0.364762 auc:0.9028\n",
      "epoch: 180 loss:0.360367 auc:0.9025\n"
     ]
    },
    {
     "name": "stderr",
     "output_type": "stream",
     "text": [
      "  5%|▍         | 36/756 [08:04<2:17:22, 11.45s/it]"
     ]
    },
    {
     "name": "stdout",
     "output_type": "stream",
     "text": [
      "epoch: 200 loss:0.355907 auc:0.9002\n",
      "Fit finished.\n",
      "epoch:   0 loss:0.815033 auc:0.4761\n",
      "epoch:  20 loss:0.404427 auc:0.9217\n",
      "epoch:  40 loss:0.378778 auc:0.9221\n",
      "epoch:  60 loss:0.373051 auc:0.9207\n",
      "epoch:  80 loss:0.371710 auc:0.9211\n",
      "epoch: 100 loss:0.371044 auc:0.9214\n",
      "epoch: 120 loss:0.370453 auc:0.9222\n",
      "epoch: 140 loss:0.369754 auc:0.9225\n",
      "epoch: 160 loss:0.368761 auc:0.9227\n",
      "epoch: 180 loss:0.367083 auc:0.9226\n",
      "epoch: 200 loss:0.364005 auc:0.9227\n",
      "epoch: 220 loss:0.359459 auc:0.9231\n",
      "epoch: 240 loss:0.354560 auc:0.9230\n",
      "epoch: 260 loss:0.348490 auc:0.9233\n"
     ]
    },
    {
     "name": "stderr",
     "output_type": "stream",
     "text": [
      "  5%|▍         | 37/756 [08:19<2:28:10, 12.36s/it]"
     ]
    },
    {
     "name": "stdout",
     "output_type": "stream",
     "text": [
      "epoch: 280 loss:0.341627 auc:0.9200\n",
      "Fit finished.\n",
      "epoch:   0 loss:0.750229 auc:0.6660\n",
      "epoch:  20 loss:0.393244 auc:0.8594\n",
      "epoch:  40 loss:0.375106 auc:0.9023\n",
      "epoch:  60 loss:0.372023 auc:0.9004\n",
      "epoch:  80 loss:0.370787 auc:0.8965\n",
      "epoch: 100 loss:0.369716 auc:0.8994\n",
      "epoch: 120 loss:0.368114 auc:0.8965\n",
      "epoch: 140 loss:0.365017 auc:0.8955\n",
      "epoch: 160 loss:0.359422 auc:0.8965\n",
      "epoch: 180 loss:0.353285 auc:0.8984\n"
     ]
    },
    {
     "name": "stderr",
     "output_type": "stream",
     "text": [
      "  5%|▌         | 38/756 [08:30<2:22:54, 11.94s/it]"
     ]
    },
    {
     "name": "stdout",
     "output_type": "stream",
     "text": [
      "epoch: 200 loss:0.347680 auc:0.9004\n",
      "Fit finished.\n",
      "epoch:   0 loss:0.755344 auc:0.5792\n",
      "epoch:  20 loss:0.396571 auc:0.9072\n",
      "epoch:  40 loss:0.376160 auc:0.9072\n",
      "epoch:  60 loss:0.372715 auc:0.9120\n",
      "epoch:  80 loss:0.371655 auc:0.9120\n",
      "epoch: 100 loss:0.371051 auc:0.9120\n",
      "epoch: 120 loss:0.370473 auc:0.9104\n",
      "epoch: 140 loss:0.369685 auc:0.9120\n",
      "epoch: 160 loss:0.368295 auc:0.9120\n",
      "epoch: 180 loss:0.365406 auc:0.9072\n",
      "epoch: 200 loss:0.360849 auc:0.9072\n"
     ]
    },
    {
     "name": "stderr",
     "output_type": "stream",
     "text": [
      "  5%|▌         | 39/756 [08:41<2:20:06, 11.72s/it]"
     ]
    },
    {
     "name": "stdout",
     "output_type": "stream",
     "text": [
      "epoch: 220 loss:0.356444 auc:0.9040\n",
      "Fit finished.\n",
      "epoch:   0 loss:0.704616 auc:0.4949\n",
      "epoch:  20 loss:0.399643 auc:0.6559\n",
      "epoch:  40 loss:0.376313 auc:0.6573\n",
      "epoch:  60 loss:0.372522 auc:0.6604\n",
      "epoch:  80 loss:0.371020 auc:0.6619\n",
      "epoch: 100 loss:0.370272 auc:0.6622\n",
      "epoch: 120 loss:0.369538 auc:0.6627\n",
      "epoch: 140 loss:0.368578 auc:0.6628\n",
      "epoch: 160 loss:0.367322 auc:0.6624\n",
      "epoch: 180 loss:0.365257 auc:0.6618\n",
      "epoch: 200 loss:0.361465 auc:0.6591\n"
     ]
    },
    {
     "name": "stderr",
     "output_type": "stream",
     "text": [
      "  5%|▌         | 40/756 [08:53<2:20:08, 11.74s/it]"
     ]
    },
    {
     "name": "stdout",
     "output_type": "stream",
     "text": [
      "epoch: 220 loss:0.356238 auc:0.6576\n",
      "Fit finished.\n",
      "epoch:   0 loss:0.817883 auc:0.6061\n",
      "epoch:  20 loss:0.404208 auc:0.8833\n",
      "epoch:  40 loss:0.377882 auc:0.8830\n",
      "epoch:  60 loss:0.373391 auc:0.8840\n",
      "epoch:  80 loss:0.371842 auc:0.8841\n",
      "epoch: 100 loss:0.371024 auc:0.8838\n",
      "epoch: 120 loss:0.370301 auc:0.8839\n",
      "epoch: 140 loss:0.369412 auc:0.8837\n",
      "epoch: 160 loss:0.368064 auc:0.8829\n"
     ]
    },
    {
     "name": "stderr",
     "output_type": "stream",
     "text": [
      "  5%|▌         | 41/756 [09:02<2:11:58, 11.07s/it]"
     ]
    },
    {
     "name": "stdout",
     "output_type": "stream",
     "text": [
      "epoch: 180 loss:0.365666 auc:0.8813\n",
      "Fit finished.\n",
      "epoch:   0 loss:0.788251 auc:0.4801\n",
      "epoch:  20 loss:0.399964 auc:0.9483\n",
      "epoch:  40 loss:0.379444 auc:0.9516\n",
      "epoch:  60 loss:0.373807 auc:0.9528\n",
      "epoch:  80 loss:0.372287 auc:0.9534\n",
      "epoch: 100 loss:0.371550 auc:0.9538\n",
      "epoch: 120 loss:0.370984 auc:0.9537\n",
      "epoch: 140 loss:0.370326 auc:0.9536\n",
      "epoch: 160 loss:0.369310 auc:0.9536\n",
      "epoch: 180 loss:0.367427 auc:0.9532\n",
      "epoch: 200 loss:0.363836 auc:0.9525\n"
     ]
    },
    {
     "name": "stderr",
     "output_type": "stream",
     "text": [
      "  6%|▌         | 42/756 [09:15<2:17:19, 11.54s/it]"
     ]
    },
    {
     "name": "stdout",
     "output_type": "stream",
     "text": [
      "epoch: 220 loss:0.359212 auc:0.9511\n",
      "Fit finished.\n",
      "epoch:   0 loss:0.871678 auc:0.3994\n",
      "epoch:  20 loss:0.419846 auc:0.9346\n",
      "epoch:  40 loss:0.382215 auc:0.9431\n",
      "epoch:  60 loss:0.374518 auc:0.9439\n",
      "epoch:  80 loss:0.372157 auc:0.9445\n",
      "epoch: 100 loss:0.371177 auc:0.9443\n",
      "epoch: 120 loss:0.370414 auc:0.9443\n",
      "epoch: 140 loss:0.369587 auc:0.9440\n",
      "epoch: 160 loss:0.368500 auc:0.9437\n",
      "epoch: 180 loss:0.366725 auc:0.9423\n"
     ]
    },
    {
     "name": "stderr",
     "output_type": "stream",
     "text": [
      "  6%|▌         | 43/756 [09:27<2:18:53, 11.69s/it]"
     ]
    },
    {
     "name": "stdout",
     "output_type": "stream",
     "text": [
      "epoch: 200 loss:0.363339 auc:0.9407\n",
      "Fit finished.\n",
      "epoch:   0 loss:0.802719 auc:0.5327\n",
      "epoch:  20 loss:0.404816 auc:0.8831\n",
      "epoch:  40 loss:0.379170 auc:0.8955\n",
      "epoch:  60 loss:0.373064 auc:0.8977\n",
      "epoch:  80 loss:0.371367 auc:0.8976\n",
      "epoch: 100 loss:0.370448 auc:0.8974\n",
      "epoch: 120 loss:0.369488 auc:0.8978\n",
      "epoch: 140 loss:0.368051 auc:0.8974\n",
      "epoch: 160 loss:0.365466 auc:0.8960\n",
      "epoch: 180 loss:0.361025 auc:0.8935\n"
     ]
    },
    {
     "name": "stderr",
     "output_type": "stream",
     "text": [
      "  6%|▌         | 44/756 [09:36<2:09:40, 10.93s/it]"
     ]
    },
    {
     "name": "stdout",
     "output_type": "stream",
     "text": [
      "epoch: 200 loss:0.355963 auc:0.8906\n",
      "Fit finished.\n",
      "epoch:   0 loss:0.866316 auc:0.5449\n",
      "epoch:  20 loss:0.402237 auc:0.9348\n",
      "epoch:  40 loss:0.376649 auc:0.9395\n",
      "epoch:  60 loss:0.372680 auc:0.9397\n",
      "epoch:  80 loss:0.371517 auc:0.9399\n",
      "epoch: 100 loss:0.370743 auc:0.9405\n",
      "epoch: 120 loss:0.369965 auc:0.9406\n",
      "epoch: 140 loss:0.368907 auc:0.9409\n",
      "epoch: 160 loss:0.367154 auc:0.9411\n",
      "epoch: 180 loss:0.363714 auc:0.9414\n",
      "epoch: 200 loss:0.358084 auc:0.9414\n",
      "epoch: 220 loss:0.352429 auc:0.9413\n"
     ]
    },
    {
     "name": "stderr",
     "output_type": "stream",
     "text": [
      "  6%|▌         | 45/756 [09:48<2:11:00, 11.06s/it]"
     ]
    },
    {
     "name": "stdout",
     "output_type": "stream",
     "text": [
      "epoch: 240 loss:0.346418 auc:0.9391\n",
      "Fit finished.\n",
      "epoch:   0 loss:0.708084 auc:0.5786\n",
      "epoch:  20 loss:0.381087 auc:0.9500\n",
      "epoch:  40 loss:0.372468 auc:0.9511\n",
      "epoch:  60 loss:0.370409 auc:0.9514\n",
      "epoch:  80 loss:0.368212 auc:0.9516\n",
      "epoch: 100 loss:0.363931 auc:0.9512\n",
      "epoch: 120 loss:0.357368 auc:0.9498\n",
      "epoch: 140 loss:0.349584 auc:0.9481\n",
      "epoch: 160 loss:0.341555 auc:0.9450\n"
     ]
    },
    {
     "name": "stderr",
     "output_type": "stream",
     "text": [
      "  6%|▌         | 46/756 [09:55<1:58:41, 10.03s/it]"
     ]
    },
    {
     "name": "stdout",
     "output_type": "stream",
     "text": [
      "epoch: 180 loss:0.329320 auc:0.9410\n",
      "Fit finished.\n",
      "epoch:   0 loss:0.771432 auc:0.4501\n",
      "epoch:  20 loss:0.391901 auc:0.9259\n",
      "epoch:  40 loss:0.376381 auc:0.9299\n",
      "epoch:  60 loss:0.372667 auc:0.9292\n",
      "epoch:  80 loss:0.371532 auc:0.9292\n",
      "epoch: 100 loss:0.370870 auc:0.9287\n",
      "epoch: 120 loss:0.370199 auc:0.9286\n",
      "epoch: 140 loss:0.369298 auc:0.9284\n",
      "epoch: 160 loss:0.367852 auc:0.9281\n",
      "epoch: 180 loss:0.365223 auc:0.9280\n"
     ]
    },
    {
     "name": "stderr",
     "output_type": "stream",
     "text": [
      "  6%|▌         | 47/756 [10:04<1:53:04,  9.57s/it]"
     ]
    },
    {
     "name": "stdout",
     "output_type": "stream",
     "text": [
      "epoch: 200 loss:0.361100 auc:0.9275\n",
      "Fit finished.\n",
      "epoch:   0 loss:0.785289 auc:0.5301\n",
      "epoch:  20 loss:0.396194 auc:0.9237\n",
      "epoch:  40 loss:0.379009 auc:0.9348\n",
      "epoch:  60 loss:0.373554 auc:0.9343\n",
      "epoch:  80 loss:0.371750 auc:0.9336\n",
      "epoch: 100 loss:0.370825 auc:0.9340\n",
      "epoch: 120 loss:0.369942 auc:0.9342\n",
      "epoch: 140 loss:0.368791 auc:0.9342\n",
      "epoch: 160 loss:0.366838 auc:0.9343\n",
      "epoch: 180 loss:0.362655 auc:0.9334\n"
     ]
    },
    {
     "name": "stderr",
     "output_type": "stream",
     "text": [
      "  6%|▋         | 48/756 [10:12<1:47:41,  9.13s/it]"
     ]
    },
    {
     "name": "stdout",
     "output_type": "stream",
     "text": [
      "epoch: 200 loss:0.356412 auc:0.9298\n",
      "Fit finished.\n",
      "epoch:   0 loss:0.881147 auc:0.5744\n",
      "epoch:  20 loss:0.412397 auc:0.6999\n",
      "epoch:  40 loss:0.378545 auc:0.7200\n",
      "epoch:  60 loss:0.373269 auc:0.7107\n",
      "epoch:  80 loss:0.371502 auc:0.7066\n",
      "epoch: 100 loss:0.370499 auc:0.7082\n",
      "epoch: 120 loss:0.369415 auc:0.7076\n",
      "epoch: 140 loss:0.367780 auc:0.7076\n",
      "epoch: 160 loss:0.364943 auc:0.7076\n",
      "epoch: 180 loss:0.360795 auc:0.7092\n"
     ]
    },
    {
     "name": "stderr",
     "output_type": "stream",
     "text": [
      "  6%|▋         | 49/756 [10:20<1:45:00,  8.91s/it]"
     ]
    },
    {
     "name": "stdout",
     "output_type": "stream",
     "text": [
      "epoch: 200 loss:0.356572 auc:0.7087\n",
      "Fit finished.\n",
      "epoch:   0 loss:0.757286 auc:0.6065\n",
      "epoch:  20 loss:0.390463 auc:0.9174\n",
      "epoch:  40 loss:0.375703 auc:0.9175\n",
      "epoch:  60 loss:0.372380 auc:0.9188\n",
      "epoch:  80 loss:0.371166 auc:0.9200\n",
      "epoch: 100 loss:0.370314 auc:0.9202\n",
      "epoch: 120 loss:0.369342 auc:0.9207\n",
      "epoch: 140 loss:0.367874 auc:0.9211\n",
      "epoch: 160 loss:0.365287 auc:0.9223\n",
      "epoch: 180 loss:0.361209 auc:0.9255\n",
      "epoch: 200 loss:0.356801 auc:0.9281\n",
      "epoch: 220 loss:0.352146 auc:0.9288\n",
      "epoch: 240 loss:0.346975 auc:0.9271\n",
      "epoch: 260 loss:0.340350 auc:0.9278\n",
      "epoch: 280 loss:0.331439 auc:0.9283\n",
      "epoch: 300 loss:0.324092 auc:0.9267\n",
      "epoch: 320 loss:0.314839 auc:0.9293\n"
     ]
    },
    {
     "name": "stderr",
     "output_type": "stream",
     "text": [
      "  7%|▋         | 50/756 [10:34<2:03:29, 10.50s/it]"
     ]
    },
    {
     "name": "stdout",
     "output_type": "stream",
     "text": [
      "epoch: 340 loss:0.308464 auc:0.9219\n",
      "Fit finished.\n",
      "epoch:   0 loss:0.681063 auc:0.5574\n",
      "epoch:  20 loss:0.391062 auc:0.9177\n",
      "epoch:  40 loss:0.375127 auc:0.9228\n",
      "epoch:  60 loss:0.372092 auc:0.9222\n",
      "epoch:  80 loss:0.370879 auc:0.9222\n",
      "epoch: 100 loss:0.369784 auc:0.9226\n",
      "epoch: 120 loss:0.368141 auc:0.9225\n",
      "epoch: 140 loss:0.364869 auc:0.9230\n",
      "epoch: 160 loss:0.359606 auc:0.9243\n",
      "epoch: 180 loss:0.353995 auc:0.9227\n"
     ]
    },
    {
     "name": "stderr",
     "output_type": "stream",
     "text": [
      "  7%|▋         | 51/756 [10:43<1:56:03,  9.88s/it]"
     ]
    },
    {
     "name": "stdout",
     "output_type": "stream",
     "text": [
      "epoch: 200 loss:0.348300 auc:0.9185\n",
      "Fit finished.\n",
      "epoch:   0 loss:0.726505 auc:0.4648\n",
      "epoch:  20 loss:0.406095 auc:0.8677\n",
      "epoch:  40 loss:0.379177 auc:0.8759\n",
      "epoch:  60 loss:0.373478 auc:0.8750\n",
      "epoch:  80 loss:0.371909 auc:0.8741\n",
      "epoch: 100 loss:0.371115 auc:0.8743\n",
      "epoch: 120 loss:0.370432 auc:0.8741\n",
      "epoch: 140 loss:0.369545 auc:0.8740\n",
      "epoch: 160 loss:0.368031 auc:0.8738\n",
      "epoch: 180 loss:0.365139 auc:0.8729\n"
     ]
    },
    {
     "name": "stderr",
     "output_type": "stream",
     "text": [
      "  7%|▋         | 52/756 [10:51<1:50:11,  9.39s/it]"
     ]
    },
    {
     "name": "stdout",
     "output_type": "stream",
     "text": [
      "epoch: 200 loss:0.361008 auc:0.8705\n",
      "Fit finished.\n",
      "epoch:   0 loss:0.752968 auc:0.4003\n",
      "epoch:  20 loss:0.393052 auc:0.9179\n",
      "epoch:  40 loss:0.375098 auc:0.9180\n",
      "epoch:  60 loss:0.371960 auc:0.9189\n",
      "epoch:  80 loss:0.370675 auc:0.9186\n",
      "epoch: 100 loss:0.369532 auc:0.9191\n",
      "epoch: 120 loss:0.367543 auc:0.9190\n",
      "epoch: 140 loss:0.363198 auc:0.9192\n",
      "epoch: 160 loss:0.357232 auc:0.9162\n"
     ]
    },
    {
     "name": "stderr",
     "output_type": "stream",
     "text": [
      "  7%|▋         | 53/756 [10:59<1:43:52,  8.87s/it]"
     ]
    },
    {
     "name": "stdout",
     "output_type": "stream",
     "text": [
      "epoch: 180 loss:0.351715 auc:0.9138\n",
      "Fit finished.\n",
      "epoch:   0 loss:0.718896 auc:0.6128\n",
      "epoch:  20 loss:0.403341 auc:0.9029\n",
      "epoch:  40 loss:0.378219 auc:0.9024\n",
      "epoch:  60 loss:0.373007 auc:0.9003\n",
      "epoch:  80 loss:0.371307 auc:0.9009\n",
      "epoch: 100 loss:0.370352 auc:0.9008\n",
      "epoch: 120 loss:0.369299 auc:0.9012\n",
      "epoch: 140 loss:0.367600 auc:0.9021\n",
      "epoch: 160 loss:0.364240 auc:0.9044\n",
      "epoch: 180 loss:0.358864 auc:0.9072\n",
      "epoch: 200 loss:0.353439 auc:0.9084\n",
      "epoch: 220 loss:0.347602 auc:0.9107\n",
      "epoch: 240 loss:0.340003 auc:0.9084\n",
      "epoch: 260 loss:0.333029 auc:0.9012\n"
     ]
    },
    {
     "name": "stderr",
     "output_type": "stream",
     "text": [
      "  7%|▋         | 54/756 [11:12<1:58:24, 10.12s/it]"
     ]
    },
    {
     "name": "stdout",
     "output_type": "stream",
     "text": [
      "epoch: 280 loss:0.325838 auc:0.8831\n",
      "Fit finished.\n",
      "epoch:   0 loss:0.776136 auc:0.5745\n",
      "epoch:  20 loss:0.394313 auc:0.9534\n",
      "epoch:  40 loss:0.376004 auc:0.9546\n",
      "epoch:  60 loss:0.372086 auc:0.9548\n",
      "epoch:  80 loss:0.370699 auc:0.9549\n",
      "epoch: 100 loss:0.369626 auc:0.9551\n",
      "epoch: 120 loss:0.368111 auc:0.9552\n",
      "epoch: 140 loss:0.365156 auc:0.9565\n",
      "epoch: 160 loss:0.359635 auc:0.9584\n",
      "epoch: 180 loss:0.353304 auc:0.9601\n",
      "epoch: 200 loss:0.347535 auc:0.9590\n",
      "epoch: 220 loss:0.335333 auc:0.9576\n"
     ]
    },
    {
     "name": "stderr",
     "output_type": "stream",
     "text": [
      "  7%|▋         | 55/756 [11:23<2:03:18, 10.55s/it]"
     ]
    },
    {
     "name": "stdout",
     "output_type": "stream",
     "text": [
      "epoch: 240 loss:0.325679 auc:0.9549\n",
      "Fit finished.\n",
      "epoch:   0 loss:0.776388 auc:0.5097\n",
      "epoch:  20 loss:0.392422 auc:0.9005\n",
      "epoch:  40 loss:0.374092 auc:0.9111\n",
      "epoch:  60 loss:0.371585 auc:0.9081\n",
      "epoch:  80 loss:0.370288 auc:0.9093\n",
      "epoch: 100 loss:0.368878 auc:0.9092\n",
      "epoch: 120 loss:0.366357 auc:0.9105\n",
      "epoch: 140 loss:0.361733 auc:0.9123\n",
      "epoch: 160 loss:0.356237 auc:0.9132\n",
      "epoch: 180 loss:0.349611 auc:0.9130\n"
     ]
    },
    {
     "name": "stderr",
     "output_type": "stream",
     "text": [
      "  7%|▋         | 56/756 [11:33<1:58:17, 10.14s/it]"
     ]
    },
    {
     "name": "stdout",
     "output_type": "stream",
     "text": [
      "epoch: 200 loss:0.344819 auc:0.9103\n",
      "Fit finished.\n",
      "epoch:   0 loss:0.809224 auc:0.4378\n",
      "epoch:  20 loss:0.400397 auc:0.9084\n",
      "epoch:  40 loss:0.378442 auc:0.9158\n",
      "epoch:  60 loss:0.373675 auc:0.9158\n",
      "epoch:  80 loss:0.372142 auc:0.9154\n",
      "epoch: 100 loss:0.371329 auc:0.9159\n",
      "epoch: 120 loss:0.370649 auc:0.9156\n",
      "epoch: 140 loss:0.369853 auc:0.9157\n",
      "epoch: 160 loss:0.368683 auc:0.9155\n",
      "epoch: 180 loss:0.366693 auc:0.9150\n"
     ]
    },
    {
     "name": "stderr",
     "output_type": "stream",
     "text": [
      "  8%|▊         | 57/756 [11:43<2:00:23, 10.33s/it]"
     ]
    },
    {
     "name": "stdout",
     "output_type": "stream",
     "text": [
      "epoch: 200 loss:0.363362 auc:0.9139\n",
      "Fit finished.\n",
      "epoch:   0 loss:0.833694 auc:0.3871\n",
      "epoch:  20 loss:0.394179 auc:0.8469\n",
      "epoch:  40 loss:0.375261 auc:0.8593\n",
      "epoch:  60 loss:0.372205 auc:0.8595\n",
      "epoch:  80 loss:0.370876 auc:0.8590\n",
      "epoch: 100 loss:0.369947 auc:0.8587\n",
      "epoch: 120 loss:0.368753 auc:0.8587\n",
      "epoch: 140 loss:0.366675 auc:0.8593\n",
      "epoch: 160 loss:0.362546 auc:0.8599\n",
      "epoch: 180 loss:0.357146 auc:0.8575\n"
     ]
    },
    {
     "name": "stderr",
     "output_type": "stream",
     "text": [
      "  8%|▊         | 58/756 [11:53<1:59:44, 10.29s/it]"
     ]
    },
    {
     "name": "stdout",
     "output_type": "stream",
     "text": [
      "epoch: 200 loss:0.352155 auc:0.8540\n",
      "Fit finished.\n",
      "epoch:   0 loss:0.708052 auc:0.5336\n",
      "epoch:  20 loss:0.390416 auc:0.9123\n",
      "epoch:  40 loss:0.374885 auc:0.9185\n",
      "epoch:  60 loss:0.371959 auc:0.9192\n",
      "epoch:  80 loss:0.370500 auc:0.9192\n",
      "epoch: 100 loss:0.368818 auc:0.9204\n",
      "epoch: 120 loss:0.365599 auc:0.9224\n",
      "epoch: 140 loss:0.360282 auc:0.9278\n",
      "epoch: 160 loss:0.354929 auc:0.9319\n",
      "epoch: 180 loss:0.349564 auc:0.9342\n",
      "epoch: 200 loss:0.343347 auc:0.9314\n",
      "epoch: 220 loss:0.334512 auc:0.9354\n",
      "epoch: 240 loss:0.325321 auc:0.9249\n",
      "epoch: 260 loss:0.317122 auc:0.9299\n",
      "epoch: 280 loss:0.308021 auc:0.9289\n"
     ]
    },
    {
     "name": "stderr",
     "output_type": "stream",
     "text": [
      "  8%|▊         | 59/756 [12:07<2:10:11, 11.21s/it]"
     ]
    },
    {
     "name": "stdout",
     "output_type": "stream",
     "text": [
      "epoch: 300 loss:0.301053 auc:0.9270\n",
      "Fit finished.\n",
      "epoch:   0 loss:0.917389 auc:0.4091\n",
      "epoch:  20 loss:0.404303 auc:0.9979\n",
      "epoch:  40 loss:0.379150 auc:0.9979\n",
      "epoch:  60 loss:0.373125 auc:0.9959\n",
      "epoch:  80 loss:0.371693 auc:0.9979\n",
      "epoch: 100 loss:0.371002 auc:0.9979\n",
      "epoch: 120 loss:0.370380 auc:0.9979\n",
      "epoch: 140 loss:0.369623 auc:0.9959\n",
      "epoch: 160 loss:0.368476 auc:0.9959\n"
     ]
    },
    {
     "name": "stderr",
     "output_type": "stream",
     "text": [
      "  8%|▊         | 60/756 [12:15<1:59:57, 10.34s/it]"
     ]
    },
    {
     "name": "stdout",
     "output_type": "stream",
     "text": [
      "epoch: 180 loss:0.366290 auc:0.9959\n",
      "Fit finished.\n",
      "epoch:   0 loss:0.819211 auc:0.5712\n",
      "epoch:  20 loss:0.404604 auc:0.9202\n",
      "epoch:  40 loss:0.377893 auc:0.9265\n",
      "epoch:  60 loss:0.373333 auc:0.9292\n",
      "epoch:  80 loss:0.371822 auc:0.9286\n",
      "epoch: 100 loss:0.371089 auc:0.9297\n",
      "epoch: 120 loss:0.370426 auc:0.9292\n",
      "epoch: 140 loss:0.369579 auc:0.9290\n",
      "epoch: 160 loss:0.368259 auc:0.9295\n",
      "epoch: 180 loss:0.365800 auc:0.9300\n",
      "epoch: 200 loss:0.361230 auc:0.9317\n",
      "epoch: 220 loss:0.356284 auc:0.9324\n",
      "epoch: 240 loss:0.349804 auc:0.9326\n",
      "epoch: 260 loss:0.345539 auc:0.9327\n",
      "epoch: 280 loss:0.335889 auc:0.9327\n",
      "epoch: 300 loss:0.329073 auc:0.9337\n",
      "epoch: 320 loss:0.322710 auc:0.9351\n",
      "epoch: 340 loss:0.315012 auc:0.9340\n",
      "epoch: 360 loss:0.306994 auc:0.9328\n",
      "epoch: 380 loss:0.308298 auc:0.9338\n"
     ]
    },
    {
     "name": "stderr",
     "output_type": "stream",
     "text": [
      "  8%|▊         | 61/756 [12:33<2:27:15, 12.71s/it]"
     ]
    },
    {
     "name": "stdout",
     "output_type": "stream",
     "text": [
      "epoch: 400 loss:0.298013 auc:0.9281\n",
      "Fit finished.\n",
      "epoch:   0 loss:0.651635 auc:0.6049\n",
      "epoch:  20 loss:0.393310 auc:0.8603\n",
      "epoch:  40 loss:0.375300 auc:0.8619\n",
      "epoch:  60 loss:0.371979 auc:0.8621\n",
      "epoch:  80 loss:0.370907 auc:0.8618\n",
      "epoch: 100 loss:0.369944 auc:0.8620\n",
      "epoch: 120 loss:0.368480 auc:0.8623\n",
      "epoch: 140 loss:0.365447 auc:0.8622\n",
      "epoch: 160 loss:0.359623 auc:0.8579\n"
     ]
    },
    {
     "name": "stderr",
     "output_type": "stream",
     "text": [
      "  8%|▊         | 62/756 [12:42<2:12:29, 11.46s/it]"
     ]
    },
    {
     "name": "stdout",
     "output_type": "stream",
     "text": [
      "epoch: 180 loss:0.352676 auc:0.8551\n",
      "Fit finished.\n",
      "epoch:   0 loss:0.813310 auc:0.4836\n",
      "epoch:  20 loss:0.413735 auc:0.8539\n",
      "epoch:  40 loss:0.380483 auc:0.8550\n",
      "epoch:  60 loss:0.373265 auc:0.8562\n",
      "epoch:  80 loss:0.371428 auc:0.8576\n",
      "epoch: 100 loss:0.370351 auc:0.8565\n",
      "epoch: 120 loss:0.369057 auc:0.8563\n",
      "epoch: 140 loss:0.366718 auc:0.8550\n",
      "epoch: 160 loss:0.362603 auc:0.8520\n"
     ]
    },
    {
     "name": "stderr",
     "output_type": "stream",
     "text": [
      "  8%|▊         | 63/756 [12:50<2:01:27, 10.52s/it]"
     ]
    },
    {
     "name": "stdout",
     "output_type": "stream",
     "text": [
      "epoch: 180 loss:0.358070 auc:0.8467\n",
      "Fit finished.\n",
      "epoch:   0 loss:0.770828 auc:0.4068\n",
      "epoch:  20 loss:0.387893 auc:0.9109\n",
      "epoch:  40 loss:0.375453 auc:0.9119\n",
      "epoch:  60 loss:0.371883 auc:0.9124\n",
      "epoch:  80 loss:0.370610 auc:0.9142\n",
      "epoch: 100 loss:0.369365 auc:0.9147\n",
      "epoch: 120 loss:0.367514 auc:0.9152\n",
      "epoch: 140 loss:0.364249 auc:0.9165\n",
      "epoch: 160 loss:0.359463 auc:0.9173\n",
      "epoch: 180 loss:0.354396 auc:0.9188\n",
      "epoch: 200 loss:0.353975 auc:0.9206\n",
      "epoch: 220 loss:0.342034 auc:0.9214\n"
     ]
    },
    {
     "name": "stderr",
     "output_type": "stream",
     "text": [
      "  8%|▊         | 64/756 [13:01<2:01:05, 10.50s/it]"
     ]
    },
    {
     "name": "stdout",
     "output_type": "stream",
     "text": [
      "epoch: 240 loss:0.332579 auc:0.9101\n",
      "Fit finished.\n",
      "epoch:   0 loss:0.812489 auc:0.3093\n",
      "epoch:  20 loss:0.398465 auc:0.9317\n",
      "epoch:  40 loss:0.377773 auc:0.9334\n",
      "epoch:  60 loss:0.373299 auc:0.9336\n",
      "epoch:  80 loss:0.371422 auc:0.9333\n",
      "epoch: 100 loss:0.370185 auc:0.9327\n",
      "epoch: 120 loss:0.368576 auc:0.9321\n",
      "epoch: 140 loss:0.365702 auc:0.9303\n",
      "epoch: 160 loss:0.361153 auc:0.9269\n"
     ]
    },
    {
     "name": "stderr",
     "output_type": "stream",
     "text": [
      "  9%|▊         | 65/756 [13:09<1:52:44,  9.79s/it]"
     ]
    },
    {
     "name": "stdout",
     "output_type": "stream",
     "text": [
      "epoch: 180 loss:0.356259 auc:0.9224\n",
      "Fit finished.\n",
      "epoch:   0 loss:0.835721 auc:0.3077\n",
      "epoch:  20 loss:0.392703 auc:0.9369\n",
      "epoch:  40 loss:0.375912 auc:0.9427\n",
      "epoch:  60 loss:0.372540 auc:0.9441\n",
      "epoch:  80 loss:0.371400 auc:0.9435\n",
      "epoch: 100 loss:0.370598 auc:0.9437\n",
      "epoch: 120 loss:0.369630 auc:0.9438\n",
      "epoch: 140 loss:0.368012 auc:0.9440\n",
      "epoch: 160 loss:0.364500 auc:0.9444\n",
      "epoch: 180 loss:0.358400 auc:0.9444\n",
      "epoch: 200 loss:0.352249 auc:0.9442\n"
     ]
    },
    {
     "name": "stderr",
     "output_type": "stream",
     "text": [
      "  9%|▊         | 66/756 [13:18<1:51:06,  9.66s/it]"
     ]
    },
    {
     "name": "stdout",
     "output_type": "stream",
     "text": [
      "epoch: 220 loss:0.344490 auc:0.9434\n",
      "Fit finished.\n",
      "epoch:   0 loss:0.721059 auc:0.5611\n",
      "epoch:  20 loss:0.390733 auc:0.9596\n",
      "epoch:  40 loss:0.375434 auc:0.9578\n",
      "epoch:  60 loss:0.371945 auc:0.9583\n",
      "epoch:  80 loss:0.370466 auc:0.9587\n",
      "epoch: 100 loss:0.368833 auc:0.9587\n",
      "epoch: 120 loss:0.365884 auc:0.9593\n",
      "epoch: 140 loss:0.360694 auc:0.9600\n",
      "epoch: 160 loss:0.354559 auc:0.9607\n",
      "epoch: 180 loss:0.347611 auc:0.9620\n",
      "epoch: 200 loss:0.339446 auc:0.9584\n"
     ]
    },
    {
     "name": "stderr",
     "output_type": "stream",
     "text": [
      "  9%|▉         | 67/756 [13:29<1:53:33,  9.89s/it]"
     ]
    },
    {
     "name": "stdout",
     "output_type": "stream",
     "text": [
      "epoch: 220 loss:0.328754 auc:0.9546\n",
      "Fit finished.\n",
      "epoch:   0 loss:0.899565 auc:0.2738\n",
      "epoch:  20 loss:0.392943 auc:0.9222\n",
      "epoch:  40 loss:0.375964 auc:0.9270\n",
      "epoch:  60 loss:0.372480 auc:0.9280\n",
      "epoch:  80 loss:0.371076 auc:0.9277\n",
      "epoch: 100 loss:0.369932 auc:0.9281\n",
      "epoch: 120 loss:0.368125 auc:0.9281\n",
      "epoch: 140 loss:0.364066 auc:0.9270\n",
      "epoch: 160 loss:0.357308 auc:0.9235\n"
     ]
    },
    {
     "name": "stderr",
     "output_type": "stream",
     "text": [
      "  9%|▉         | 68/756 [13:36<1:46:18,  9.27s/it]"
     ]
    },
    {
     "name": "stdout",
     "output_type": "stream",
     "text": [
      "epoch: 180 loss:0.351516 auc:0.9203\n",
      "Fit finished.\n",
      "epoch:   0 loss:0.703443 auc:0.5610\n",
      "epoch:  20 loss:0.391652 auc:0.9213\n",
      "epoch:  40 loss:0.375145 auc:0.9212\n",
      "epoch:  60 loss:0.371966 auc:0.9209\n",
      "epoch:  80 loss:0.370496 auc:0.9211\n",
      "epoch: 100 loss:0.368880 auc:0.9203\n",
      "epoch: 120 loss:0.365922 auc:0.9200\n",
      "epoch: 140 loss:0.360704 auc:0.9192\n",
      "epoch: 160 loss:0.355135 auc:0.9191\n"
     ]
    },
    {
     "name": "stderr",
     "output_type": "stream",
     "text": [
      "  9%|▉         | 69/756 [13:44<1:41:39,  8.88s/it]"
     ]
    },
    {
     "name": "stdout",
     "output_type": "stream",
     "text": [
      "epoch: 180 loss:0.349818 auc:0.9182\n",
      "Fit finished.\n",
      "epoch:   0 loss:0.675526 auc:0.5687\n",
      "epoch:  20 loss:0.393604 auc:0.8774\n",
      "epoch:  40 loss:0.375445 auc:0.8769\n",
      "epoch:  60 loss:0.371745 auc:0.8791\n",
      "epoch:  80 loss:0.370476 auc:0.8794\n",
      "epoch: 100 loss:0.369431 auc:0.8793\n",
      "epoch: 120 loss:0.367938 auc:0.8791\n",
      "epoch: 140 loss:0.365022 auc:0.8794\n",
      "epoch: 160 loss:0.359974 auc:0.8809\n",
      "epoch: 180 loss:0.354687 auc:0.8821\n",
      "epoch: 200 loss:0.348253 auc:0.8826\n",
      "epoch: 220 loss:0.340628 auc:0.8831\n",
      "epoch: 240 loss:0.328891 auc:0.8825\n"
     ]
    },
    {
     "name": "stderr",
     "output_type": "stream",
     "text": [
      "  9%|▉         | 70/756 [13:54<1:44:30,  9.14s/it]"
     ]
    },
    {
     "name": "stdout",
     "output_type": "stream",
     "text": [
      "epoch: 260 loss:0.320387 auc:0.8790\n",
      "Fit finished.\n",
      "epoch:   0 loss:0.862616 auc:0.4427\n",
      "epoch:  20 loss:0.393328 auc:0.9425\n",
      "epoch:  40 loss:0.378511 auc:0.9489\n",
      "epoch:  60 loss:0.373753 auc:0.9508\n",
      "epoch:  80 loss:0.372320 auc:0.9509\n",
      "epoch: 100 loss:0.371618 auc:0.9508\n",
      "epoch: 120 loss:0.371054 auc:0.9508\n",
      "epoch: 140 loss:0.370464 auc:0.9508\n",
      "epoch: 160 loss:0.369735 auc:0.9509\n",
      "epoch: 180 loss:0.368700 auc:0.9509\n",
      "epoch: 200 loss:0.366966 auc:0.9510\n"
     ]
    },
    {
     "name": "stderr",
     "output_type": "stream",
     "text": [
      "  9%|▉         | 71/756 [14:02<1:41:17,  8.87s/it]"
     ]
    },
    {
     "name": "stdout",
     "output_type": "stream",
     "text": [
      "epoch: 220 loss:0.363795 auc:0.9504\n",
      "Fit finished.\n",
      "epoch:   0 loss:0.811316 auc:0.4993\n",
      "epoch:  20 loss:0.391029 auc:0.8355\n",
      "epoch:  40 loss:0.375021 auc:0.8370\n",
      "epoch:  60 loss:0.372397 auc:0.8370\n",
      "epoch:  80 loss:0.371305 auc:0.8371\n",
      "epoch: 100 loss:0.370508 auc:0.8367\n",
      "epoch: 120 loss:0.369567 auc:0.8364\n",
      "epoch: 140 loss:0.368073 auc:0.8354\n",
      "epoch: 160 loss:0.365306 auc:0.8346\n"
     ]
    },
    {
     "name": "stderr",
     "output_type": "stream",
     "text": [
      " 10%|▉         | 72/756 [14:09<1:33:56,  8.24s/it]"
     ]
    },
    {
     "name": "stdout",
     "output_type": "stream",
     "text": [
      "epoch: 180 loss:0.360858 auc:0.8332\n",
      "Fit finished.\n",
      "epoch:   0 loss:0.875785 auc:0.4687\n",
      "epoch:  20 loss:0.404588 auc:0.8614\n",
      "epoch:  40 loss:0.377166 auc:0.8682\n",
      "epoch:  60 loss:0.372942 auc:0.8705\n",
      "epoch:  80 loss:0.371431 auc:0.8706\n",
      "epoch: 100 loss:0.370701 auc:0.8706\n",
      "epoch: 120 loss:0.370072 auc:0.8707\n",
      "epoch: 140 loss:0.369342 auc:0.8707\n",
      "epoch: 160 loss:0.368288 auc:0.8705\n",
      "epoch: 180 loss:0.366382 auc:0.8703\n",
      "epoch: 200 loss:0.362627 auc:0.8701\n"
     ]
    },
    {
     "name": "stderr",
     "output_type": "stream",
     "text": [
      " 10%|▉         | 73/756 [14:19<1:39:32,  8.75s/it]"
     ]
    },
    {
     "name": "stdout",
     "output_type": "stream",
     "text": [
      "epoch: 220 loss:0.357693 auc:0.8670\n",
      "Fit finished.\n",
      "epoch:   0 loss:0.798385 auc:0.3687\n",
      "epoch:  20 loss:0.385257 auc:0.9179\n",
      "epoch:  40 loss:0.374949 auc:0.9217\n",
      "epoch:  60 loss:0.371904 auc:0.9224\n",
      "epoch:  80 loss:0.370690 auc:0.9224\n",
      "epoch: 100 loss:0.369432 auc:0.9221\n",
      "epoch: 120 loss:0.367314 auc:0.9216\n",
      "epoch: 140 loss:0.362852 auc:0.9198\n",
      "epoch: 160 loss:0.356656 auc:0.9189\n",
      "epoch: 180 loss:0.349696 auc:0.9188\n"
     ]
    },
    {
     "name": "stderr",
     "output_type": "stream",
     "text": [
      " 10%|▉         | 74/756 [14:27<1:37:19,  8.56s/it]"
     ]
    },
    {
     "name": "stdout",
     "output_type": "stream",
     "text": [
      "epoch: 200 loss:0.341040 auc:0.9217\n",
      "Fit finished.\n",
      "epoch:   0 loss:0.800502 auc:0.4440\n",
      "epoch:  20 loss:0.393017 auc:0.9065\n",
      "epoch:  40 loss:0.378342 auc:0.9100\n",
      "epoch:  60 loss:0.373544 auc:0.9121\n",
      "epoch:  80 loss:0.371971 auc:0.9125\n",
      "epoch: 100 loss:0.371002 auc:0.9116\n",
      "epoch: 120 loss:0.370047 auc:0.9116\n",
      "epoch: 140 loss:0.368785 auc:0.9110\n",
      "epoch: 160 loss:0.366827 auc:0.9107\n",
      "epoch: 180 loss:0.363353 auc:0.9086\n"
     ]
    },
    {
     "name": "stderr",
     "output_type": "stream",
     "text": [
      " 10%|▉         | 75/756 [14:36<1:36:35,  8.51s/it]"
     ]
    },
    {
     "name": "stdout",
     "output_type": "stream",
     "text": [
      "epoch: 200 loss:0.358558 auc:0.9064\n",
      "Fit finished.\n",
      "epoch:   0 loss:0.964154 auc:0.4803\n",
      "epoch:  20 loss:0.399463 auc:0.8501\n",
      "epoch:  40 loss:0.378220 auc:0.8552\n",
      "epoch:  60 loss:0.373165 auc:0.8574\n",
      "epoch:  80 loss:0.371670 auc:0.8580\n",
      "epoch: 100 loss:0.370929 auc:0.8581\n",
      "epoch: 120 loss:0.370278 auc:0.8581\n",
      "epoch: 140 loss:0.369470 auc:0.8583\n",
      "epoch: 160 loss:0.368213 auc:0.8587\n",
      "epoch: 180 loss:0.365952 auc:0.8582\n",
      "epoch: 200 loss:0.361970 auc:0.8575\n"
     ]
    },
    {
     "name": "stderr",
     "output_type": "stream",
     "text": [
      " 10%|█         | 76/756 [14:43<1:32:50,  8.19s/it]"
     ]
    },
    {
     "name": "stdout",
     "output_type": "stream",
     "text": [
      "epoch: 220 loss:0.357365 auc:0.8566\n",
      "Fit finished.\n",
      "epoch:   0 loss:0.864532 auc:0.4035\n",
      "epoch:  20 loss:0.395903 auc:0.9155\n",
      "epoch:  40 loss:0.377565 auc:0.9169\n",
      "epoch:  60 loss:0.373438 auc:0.9154\n",
      "epoch:  80 loss:0.371829 auc:0.9161\n",
      "epoch: 100 loss:0.371055 auc:0.9159\n",
      "epoch: 120 loss:0.370393 auc:0.9162\n",
      "epoch: 140 loss:0.369598 auc:0.9163\n",
      "epoch: 160 loss:0.368383 auc:0.9162\n",
      "epoch: 180 loss:0.366033 auc:0.9159\n"
     ]
    },
    {
     "name": "stderr",
     "output_type": "stream",
     "text": [
      " 10%|█         | 77/756 [14:50<1:28:48,  7.85s/it]"
     ]
    },
    {
     "name": "stdout",
     "output_type": "stream",
     "text": [
      "epoch: 200 loss:0.361673 auc:0.9162\n",
      "Fit finished.\n",
      "epoch:   0 loss:0.799796 auc:0.3922\n",
      "epoch:  20 loss:0.401648 auc:0.9340\n",
      "epoch:  40 loss:0.376900 auc:0.9352\n",
      "epoch:  60 loss:0.372907 auc:0.9351\n",
      "epoch:  80 loss:0.371401 auc:0.9351\n",
      "epoch: 100 loss:0.370541 auc:0.9356\n",
      "epoch: 120 loss:0.369629 auc:0.9357\n",
      "epoch: 140 loss:0.368232 auc:0.9363\n",
      "epoch: 160 loss:0.365172 auc:0.9375\n",
      "epoch: 180 loss:0.359641 auc:0.9411\n",
      "epoch: 200 loss:0.353960 auc:0.9450\n",
      "epoch: 220 loss:0.348471 auc:0.9469\n",
      "epoch: 240 loss:0.340293 auc:0.9483\n",
      "epoch: 260 loss:0.332773 auc:0.9484\n",
      "epoch: 280 loss:0.322198 auc:0.9488\n",
      "epoch: 300 loss:0.314520 auc:0.9456\n",
      "epoch: 320 loss:0.337854 auc:0.9500\n",
      "epoch: 340 loss:0.315400 auc:0.9467\n"
     ]
    },
    {
     "name": "stderr",
     "output_type": "stream",
     "text": [
      " 10%|█         | 78/756 [15:02<1:43:29,  9.16s/it]"
     ]
    },
    {
     "name": "stdout",
     "output_type": "stream",
     "text": [
      "epoch: 360 loss:0.298173 auc:0.9404\n",
      "Fit finished.\n",
      "epoch:   0 loss:0.786865 auc:0.5196\n",
      "epoch:  20 loss:0.402450 auc:0.9175\n",
      "epoch:  40 loss:0.377237 auc:0.9212\n",
      "epoch:  60 loss:0.372995 auc:0.9216\n",
      "epoch:  80 loss:0.371460 auc:0.9214\n",
      "epoch: 100 loss:0.370428 auc:0.9218\n",
      "epoch: 120 loss:0.369243 auc:0.9220\n",
      "epoch: 140 loss:0.367327 auc:0.9223\n",
      "epoch: 160 loss:0.363778 auc:0.9227\n",
      "epoch: 180 loss:0.358726 auc:0.9221\n",
      "epoch: 200 loss:0.353050 auc:0.9219\n",
      "epoch: 220 loss:0.348772 auc:0.9218\n"
     ]
    },
    {
     "name": "stderr",
     "output_type": "stream",
     "text": [
      " 10%|█         | 79/756 [15:12<1:44:55,  9.30s/it]"
     ]
    },
    {
     "name": "stdout",
     "output_type": "stream",
     "text": [
      "epoch: 240 loss:0.337397 auc:0.9203\n",
      "Fit finished.\n",
      "epoch:   0 loss:0.754089 auc:0.4186\n",
      "epoch:  20 loss:0.396498 auc:0.9269\n",
      "epoch:  40 loss:0.376229 auc:0.9343\n",
      "epoch:  60 loss:0.372375 auc:0.9357\n",
      "epoch:  80 loss:0.371041 auc:0.9356\n",
      "epoch: 100 loss:0.370029 auc:0.9356\n",
      "epoch: 120 loss:0.368706 auc:0.9361\n",
      "epoch: 140 loss:0.366422 auc:0.9371\n",
      "epoch: 160 loss:0.362296 auc:0.9394\n",
      "epoch: 180 loss:0.357362 auc:0.9433\n",
      "epoch: 200 loss:0.352345 auc:0.9461\n",
      "epoch: 220 loss:0.347820 auc:0.9466\n",
      "epoch: 240 loss:0.338940 auc:0.9396\n"
     ]
    },
    {
     "name": "stderr",
     "output_type": "stream",
     "text": [
      " 11%|█         | 80/756 [15:22<1:47:16,  9.52s/it]"
     ]
    },
    {
     "name": "stdout",
     "output_type": "stream",
     "text": [
      "epoch: 260 loss:0.327892 auc:0.9286\n",
      "Fit finished.\n",
      "epoch:   0 loss:0.794775 auc:0.4574\n",
      "epoch:  20 loss:0.392689 auc:0.9302\n",
      "epoch:  40 loss:0.376241 auc:0.9328\n",
      "epoch:  60 loss:0.372832 auc:0.9314\n",
      "epoch:  80 loss:0.371510 auc:0.9315\n",
      "epoch: 100 loss:0.370699 auc:0.9315\n",
      "epoch: 120 loss:0.369736 auc:0.9317\n",
      "epoch: 140 loss:0.368208 auc:0.9317\n",
      "epoch: 160 loss:0.365251 auc:0.9312\n"
     ]
    },
    {
     "name": "stderr",
     "output_type": "stream",
     "text": [
      " 11%|█         | 81/756 [15:29<1:39:28,  8.84s/it]"
     ]
    },
    {
     "name": "stdout",
     "output_type": "stream",
     "text": [
      "epoch: 180 loss:0.360231 auc:0.9290\n",
      "Fit finished.\n",
      "epoch:   0 loss:0.851858 auc:0.3986\n",
      "epoch:  20 loss:0.406128 auc:0.5594\n",
      "epoch:  40 loss:0.380738 auc:0.6294\n",
      "epoch:  60 loss:0.374336 auc:0.7273\n",
      "epoch:  80 loss:0.372143 auc:0.8182\n",
      "epoch: 100 loss:0.371231 auc:0.8182\n",
      "epoch: 120 loss:0.370537 auc:0.8462\n",
      "epoch: 140 loss:0.369831 auc:0.8462\n",
      "epoch: 160 loss:0.368979 auc:0.8462\n",
      "epoch: 180 loss:0.367783 auc:0.8531\n",
      "epoch: 200 loss:0.365756 auc:0.8531\n",
      "epoch: 220 loss:0.362168 auc:0.8531\n",
      "epoch: 240 loss:0.357773 auc:0.8531\n",
      "epoch: 260 loss:0.353047 auc:0.8462\n",
      "epoch: 280 loss:0.346590 auc:0.8601\n",
      "epoch: 300 loss:0.339988 auc:0.8601\n",
      "epoch: 320 loss:0.331833 auc:0.8531\n"
     ]
    },
    {
     "name": "stderr",
     "output_type": "stream",
     "text": [
      " 11%|█         | 82/756 [15:42<1:53:51, 10.14s/it]"
     ]
    },
    {
     "name": "stdout",
     "output_type": "stream",
     "text": [
      "epoch: 340 loss:0.327334 auc:0.8252\n",
      "Fit finished.\n",
      "epoch:   0 loss:0.948406 auc:0.6330\n",
      "epoch:  20 loss:0.399238 auc:0.9236\n",
      "epoch:  40 loss:0.378124 auc:0.9293\n",
      "epoch:  60 loss:0.373686 auc:0.9308\n",
      "epoch:  80 loss:0.372015 auc:0.9305\n",
      "epoch: 100 loss:0.371213 auc:0.9305\n",
      "epoch: 120 loss:0.370531 auc:0.9305\n",
      "epoch: 140 loss:0.369743 auc:0.9307\n",
      "epoch: 160 loss:0.368602 auc:0.9311\n",
      "epoch: 180 loss:0.366552 auc:0.9316\n",
      "epoch: 200 loss:0.362894 auc:0.9324\n",
      "epoch: 220 loss:0.358632 auc:0.9356\n",
      "epoch: 240 loss:0.354493 auc:0.9391\n",
      "epoch: 260 loss:0.349935 auc:0.9415\n",
      "epoch: 280 loss:0.345448 auc:0.9435\n"
     ]
    },
    {
     "name": "stderr",
     "output_type": "stream",
     "text": [
      " 11%|█         | 83/756 [15:55<2:00:27, 10.74s/it]"
     ]
    },
    {
     "name": "stdout",
     "output_type": "stream",
     "text": [
      "epoch: 300 loss:0.335939 auc:0.9293\n",
      "Fit finished.\n",
      "epoch:   0 loss:0.772070 auc:0.5229\n",
      "epoch:  20 loss:0.391335 auc:0.9254\n",
      "epoch:  40 loss:0.375509 auc:0.9253\n",
      "epoch:  60 loss:0.372277 auc:0.9252\n",
      "epoch:  80 loss:0.371319 auc:0.9257\n",
      "epoch: 100 loss:0.370542 auc:0.9255\n",
      "epoch: 120 loss:0.369525 auc:0.9259\n",
      "epoch: 140 loss:0.367842 auc:0.9264\n",
      "epoch: 160 loss:0.364604 auc:0.9274\n",
      "epoch: 180 loss:0.359641 auc:0.9300\n",
      "epoch: 200 loss:0.354620 auc:0.9313\n",
      "epoch: 220 loss:0.349335 auc:0.9320\n",
      "epoch: 240 loss:0.342712 auc:0.9340\n",
      "epoch: 260 loss:0.334434 auc:0.9312\n"
     ]
    },
    {
     "name": "stderr",
     "output_type": "stream",
     "text": [
      " 11%|█         | 84/756 [16:05<2:00:27, 10.76s/it]"
     ]
    },
    {
     "name": "stdout",
     "output_type": "stream",
     "text": [
      "epoch: 280 loss:0.323925 auc:0.9258\n",
      "Fit finished.\n",
      "epoch:   0 loss:0.778530 auc:0.4676\n",
      "epoch:  20 loss:0.399592 auc:0.8915\n",
      "epoch:  40 loss:0.376109 auc:0.8975\n",
      "epoch:  60 loss:0.372396 auc:0.8990\n",
      "epoch:  80 loss:0.371128 auc:0.8984\n",
      "epoch: 100 loss:0.370265 auc:0.8985\n",
      "epoch: 120 loss:0.369269 auc:0.8988\n",
      "epoch: 140 loss:0.367666 auc:0.8991\n",
      "epoch: 160 loss:0.364725 auc:0.8989\n",
      "epoch: 180 loss:0.360116 auc:0.8989\n",
      "epoch: 200 loss:0.355149 auc:0.8982\n"
     ]
    },
    {
     "name": "stderr",
     "output_type": "stream",
     "text": [
      " 11%|█         | 85/756 [16:14<1:54:49, 10.27s/it]"
     ]
    },
    {
     "name": "stdout",
     "output_type": "stream",
     "text": [
      "epoch: 220 loss:0.349532 auc:0.8987\n",
      "Fit finished.\n",
      "epoch:   0 loss:0.776784 auc:0.4968\n",
      "epoch:  20 loss:0.382513 auc:0.9054\n",
      "epoch:  40 loss:0.373847 auc:0.9079\n",
      "epoch:  60 loss:0.371503 auc:0.9078\n",
      "epoch:  80 loss:0.370489 auc:0.9069\n",
      "epoch: 100 loss:0.369399 auc:0.9071\n",
      "epoch: 120 loss:0.367504 auc:0.9059\n",
      "epoch: 140 loss:0.363376 auc:0.9049\n",
      "epoch: 160 loss:0.357165 auc:0.9026\n"
     ]
    },
    {
     "name": "stderr",
     "output_type": "stream",
     "text": [
      " 11%|█▏        | 86/756 [16:22<1:44:14,  9.34s/it]"
     ]
    },
    {
     "name": "stdout",
     "output_type": "stream",
     "text": [
      "epoch: 180 loss:0.350110 auc:0.9006\n",
      "Fit finished.\n",
      "epoch:   0 loss:0.870865 auc:0.6203\n",
      "epoch:  20 loss:0.410774 auc:0.9292\n",
      "epoch:  40 loss:0.381460 auc:0.9436\n",
      "epoch:  60 loss:0.373869 auc:0.9426\n",
      "epoch:  80 loss:0.371829 auc:0.9433\n",
      "epoch: 100 loss:0.370787 auc:0.9438\n",
      "epoch: 120 loss:0.369765 auc:0.9437\n",
      "epoch: 140 loss:0.368224 auc:0.9439\n",
      "epoch: 160 loss:0.365326 auc:0.9443\n",
      "epoch: 180 loss:0.361225 auc:0.9443\n",
      "epoch: 200 loss:0.357288 auc:0.9441\n",
      "epoch: 220 loss:0.353413 auc:0.9447\n",
      "epoch: 240 loss:0.349181 auc:0.9460\n",
      "epoch: 260 loss:0.344937 auc:0.9476\n",
      "epoch: 280 loss:0.338847 auc:0.9468\n",
      "epoch: 300 loss:0.333443 auc:0.9468\n"
     ]
    },
    {
     "name": "stderr",
     "output_type": "stream",
     "text": [
      " 12%|█▏        | 87/756 [16:32<1:48:06,  9.70s/it]"
     ]
    },
    {
     "name": "stdout",
     "output_type": "stream",
     "text": [
      "epoch: 320 loss:0.327014 auc:0.9326\n",
      "Fit finished.\n",
      "epoch:   0 loss:0.779279 auc:0.5560\n",
      "epoch:  20 loss:0.399948 auc:0.9445\n",
      "epoch:  40 loss:0.376245 auc:0.9439\n",
      "epoch:  60 loss:0.372452 auc:0.9450\n",
      "epoch:  80 loss:0.371089 auc:0.9453\n",
      "epoch: 100 loss:0.370121 auc:0.9461\n",
      "epoch: 120 loss:0.368884 auc:0.9458\n",
      "epoch: 140 loss:0.366694 auc:0.9457\n",
      "epoch: 160 loss:0.362340 auc:0.9456\n",
      "epoch: 180 loss:0.357067 auc:0.9461\n",
      "epoch: 200 loss:0.352207 auc:0.9455\n",
      "epoch: 220 loss:0.346255 auc:0.9455\n"
     ]
    },
    {
     "name": "stderr",
     "output_type": "stream",
     "text": [
      " 12%|█▏        | 88/756 [16:41<1:46:22,  9.55s/it]"
     ]
    },
    {
     "name": "stdout",
     "output_type": "stream",
     "text": [
      "epoch: 240 loss:0.338072 auc:0.9416\n",
      "Fit finished.\n",
      "epoch:   0 loss:0.835015 auc:0.4015\n",
      "epoch:  20 loss:0.387177 auc:0.7706\n",
      "epoch:  40 loss:0.374406 auc:0.7754\n",
      "epoch:  60 loss:0.371510 auc:0.7743\n",
      "epoch:  80 loss:0.370107 auc:0.7737\n",
      "epoch: 100 loss:0.368340 auc:0.7732\n",
      "epoch: 120 loss:0.365064 auc:0.7726\n",
      "epoch: 140 loss:0.359604 auc:0.7727\n",
      "epoch: 160 loss:0.354585 auc:0.7728\n",
      "epoch: 180 loss:0.348931 auc:0.7733\n"
     ]
    },
    {
     "name": "stderr",
     "output_type": "stream",
     "text": [
      " 12%|█▏        | 89/756 [16:49<1:40:10,  9.01s/it]"
     ]
    },
    {
     "name": "stdout",
     "output_type": "stream",
     "text": [
      "epoch: 200 loss:0.339585 auc:0.7687\n",
      "Fit finished.\n",
      "epoch:   0 loss:0.879573 auc:0.4413\n",
      "epoch:  20 loss:0.408742 auc:0.9004\n",
      "epoch:  40 loss:0.378043 auc:0.9107\n",
      "epoch:  60 loss:0.373078 auc:0.9122\n",
      "epoch:  80 loss:0.371318 auc:0.9127\n",
      "epoch: 100 loss:0.370357 auc:0.9127\n",
      "epoch: 120 loss:0.369346 auc:0.9125\n",
      "epoch: 140 loss:0.367785 auc:0.9124\n",
      "epoch: 160 loss:0.364979 auc:0.9120\n",
      "epoch: 180 loss:0.360799 auc:0.9105\n"
     ]
    },
    {
     "name": "stderr",
     "output_type": "stream",
     "text": [
      " 12%|█▏        | 90/756 [16:57<1:36:40,  8.71s/it]"
     ]
    },
    {
     "name": "stdout",
     "output_type": "stream",
     "text": [
      "epoch: 200 loss:0.356372 auc:0.9072\n",
      "Fit finished.\n",
      "epoch:   0 loss:0.848511 auc:0.5717\n",
      "epoch:  20 loss:0.408247 auc:0.8576\n",
      "epoch:  40 loss:0.377621 auc:0.8603\n",
      "epoch:  60 loss:0.373151 auc:0.8631\n",
      "epoch:  80 loss:0.371539 auc:0.8632\n",
      "epoch: 100 loss:0.370622 auc:0.8633\n",
      "epoch: 120 loss:0.369711 auc:0.8642\n",
      "epoch: 140 loss:0.368468 auc:0.8645\n",
      "epoch: 160 loss:0.366482 auc:0.8652\n",
      "epoch: 180 loss:0.363246 auc:0.8662\n",
      "epoch: 200 loss:0.359066 auc:0.8676\n",
      "epoch: 220 loss:0.354526 auc:0.8690\n",
      "epoch: 240 loss:0.349335 auc:0.8687\n",
      "epoch: 260 loss:0.342674 auc:0.8679\n",
      "epoch: 280 loss:0.333138 auc:0.8676\n",
      "epoch: 300 loss:0.324952 auc:0.8674\n"
     ]
    },
    {
     "name": "stderr",
     "output_type": "stream",
     "text": [
      " 12%|█▏        | 91/756 [17:10<1:50:20,  9.95s/it]"
     ]
    },
    {
     "name": "stdout",
     "output_type": "stream",
     "text": [
      "epoch: 320 loss:0.315735 auc:0.8626\n",
      "Fit finished.\n",
      "epoch:   0 loss:0.815599 auc:0.6026\n",
      "epoch:  20 loss:0.423938 auc:0.9207\n",
      "epoch:  40 loss:0.384296 auc:0.9342\n",
      "epoch:  60 loss:0.374505 auc:0.9361\n",
      "epoch:  80 loss:0.372071 auc:0.9372\n",
      "epoch: 100 loss:0.370984 auc:0.9370\n",
      "epoch: 120 loss:0.370176 auc:0.9369\n",
      "epoch: 140 loss:0.369256 auc:0.9366\n",
      "epoch: 160 loss:0.367894 auc:0.9366\n",
      "epoch: 180 loss:0.365512 auc:0.9359\n",
      "epoch: 200 loss:0.361602 auc:0.9352\n"
     ]
    },
    {
     "name": "stderr",
     "output_type": "stream",
     "text": [
      " 12%|█▏        | 92/756 [17:18<1:44:17,  9.42s/it]"
     ]
    },
    {
     "name": "stdout",
     "output_type": "stream",
     "text": [
      "epoch: 220 loss:0.357359 auc:0.9353\n",
      "Fit finished.\n",
      "epoch:   0 loss:0.931265 auc:0.2407\n",
      "epoch:  20 loss:0.386954 auc:0.9439\n",
      "epoch:  40 loss:0.374638 auc:0.9459\n",
      "epoch:  60 loss:0.371786 auc:0.9461\n",
      "epoch:  80 loss:0.370619 auc:0.9459\n",
      "epoch: 100 loss:0.369181 auc:0.9464\n",
      "epoch: 120 loss:0.366351 auc:0.9464\n",
      "epoch: 140 loss:0.360941 auc:0.9460\n",
      "epoch: 160 loss:0.354410 auc:0.9432\n"
     ]
    },
    {
     "name": "stderr",
     "output_type": "stream",
     "text": [
      " 12%|█▏        | 93/756 [17:26<1:37:19,  8.81s/it]"
     ]
    },
    {
     "name": "stdout",
     "output_type": "stream",
     "text": [
      "epoch: 180 loss:0.347466 auc:0.9380\n",
      "Fit finished.\n",
      "epoch:   0 loss:0.770757 auc:0.5548\n",
      "epoch:  20 loss:0.403683 auc:0.8735\n",
      "epoch:  40 loss:0.379473 auc:0.9097\n",
      "epoch:  60 loss:0.373702 auc:0.9113\n",
      "epoch:  80 loss:0.371678 auc:0.9120\n",
      "epoch: 100 loss:0.370651 auc:0.9113\n",
      "epoch: 120 loss:0.369730 auc:0.9128\n",
      "epoch: 140 loss:0.368482 auc:0.9097\n",
      "epoch: 160 loss:0.366313 auc:0.9059\n",
      "epoch: 180 loss:0.362206 auc:0.9020\n"
     ]
    },
    {
     "name": "stderr",
     "output_type": "stream",
     "text": [
      " 12%|█▏        | 94/756 [17:33<1:33:28,  8.47s/it]"
     ]
    },
    {
     "name": "stdout",
     "output_type": "stream",
     "text": [
      "epoch: 200 loss:0.356992 auc:0.9051\n",
      "Fit finished.\n",
      "epoch:   0 loss:0.834571 auc:0.5020\n",
      "epoch:  20 loss:0.396095 auc:0.8645\n",
      "epoch:  40 loss:0.377716 auc:0.8808\n",
      "epoch:  60 loss:0.373051 auc:0.8767\n",
      "epoch:  80 loss:0.371531 auc:0.8784\n",
      "epoch: 100 loss:0.370540 auc:0.8776\n",
      "epoch: 120 loss:0.369344 auc:0.8792\n",
      "epoch: 140 loss:0.367324 auc:0.8784\n",
      "epoch: 160 loss:0.363702 auc:0.8816\n",
      "epoch: 180 loss:0.359362 auc:0.8841\n",
      "epoch: 200 loss:0.354907 auc:0.8857\n",
      "epoch: 220 loss:0.349133 auc:0.8841\n",
      "epoch: 240 loss:0.341184 auc:0.8784\n"
     ]
    },
    {
     "name": "stderr",
     "output_type": "stream",
     "text": [
      " 13%|█▎        | 95/756 [17:44<1:41:53,  9.25s/it]"
     ]
    },
    {
     "name": "stdout",
     "output_type": "stream",
     "text": [
      "epoch: 260 loss:0.331366 auc:0.8735\n",
      "Fit finished.\n",
      "epoch:   0 loss:0.697674 auc:0.5684\n",
      "epoch:  20 loss:0.383752 auc:0.9284\n",
      "epoch:  40 loss:0.373880 auc:0.9310\n",
      "epoch:  60 loss:0.371089 auc:0.9306\n",
      "epoch:  80 loss:0.369243 auc:0.9306\n",
      "epoch: 100 loss:0.365790 auc:0.9322\n",
      "epoch: 120 loss:0.359367 auc:0.9338\n",
      "epoch: 140 loss:0.353012 auc:0.9339\n",
      "epoch: 160 loss:0.345184 auc:0.9308\n",
      "epoch: 180 loss:0.339581 auc:0.9320\n",
      "epoch: 200 loss:0.326535 auc:0.9335\n",
      "epoch: 220 loss:0.316146 auc:0.9321\n",
      "epoch: 240 loss:0.305005 auc:0.9353\n",
      "epoch: 260 loss:0.297593 auc:0.9340\n",
      "epoch: 280 loss:0.291100 auc:0.9343\n",
      "epoch: 300 loss:0.291591 auc:0.9346\n",
      "epoch: 320 loss:0.283484 auc:0.9341\n",
      "epoch: 340 loss:0.279492 auc:0.9336\n"
     ]
    },
    {
     "name": "stderr",
     "output_type": "stream",
     "text": [
      " 13%|█▎        | 96/756 [17:58<1:56:56, 10.63s/it]"
     ]
    },
    {
     "name": "stdout",
     "output_type": "stream",
     "text": [
      "epoch: 360 loss:0.276476 auc:0.9328\n",
      "Fit finished.\n",
      "epoch:   0 loss:0.751305 auc:0.5307\n",
      "epoch:  20 loss:0.403780 auc:0.6865\n",
      "epoch:  40 loss:0.375953 auc:0.7023\n",
      "epoch:  60 loss:0.372186 auc:0.7063\n",
      "epoch:  80 loss:0.370775 auc:0.7071\n",
      "epoch: 100 loss:0.369666 auc:0.7066\n",
      "epoch: 120 loss:0.368095 auc:0.7061\n",
      "epoch: 140 loss:0.365108 auc:0.7058\n",
      "epoch: 160 loss:0.360420 auc:0.7056\n",
      "epoch: 180 loss:0.355566 auc:0.7049\n",
      "epoch: 200 loss:0.350647 auc:0.7029\n"
     ]
    },
    {
     "name": "stderr",
     "output_type": "stream",
     "text": [
      " 13%|█▎        | 97/756 [18:06<1:49:05,  9.93s/it]"
     ]
    },
    {
     "name": "stdout",
     "output_type": "stream",
     "text": [
      "epoch: 220 loss:0.344476 auc:0.7027\n",
      "Fit finished.\n",
      "epoch:   0 loss:0.974177 auc:0.6043\n",
      "epoch:  20 loss:0.401041 auc:0.9007\n",
      "epoch:  40 loss:0.378495 auc:0.9090\n",
      "epoch:  60 loss:0.373078 auc:0.9087\n",
      "epoch:  80 loss:0.371570 auc:0.9090\n",
      "epoch: 100 loss:0.370790 auc:0.9089\n",
      "epoch: 120 loss:0.369975 auc:0.9090\n",
      "epoch: 140 loss:0.368836 auc:0.9092\n",
      "epoch: 160 loss:0.366898 auc:0.9089\n",
      "epoch: 180 loss:0.363290 auc:0.9087\n"
     ]
    },
    {
     "name": "stderr",
     "output_type": "stream",
     "text": [
      " 13%|█▎        | 98/756 [18:15<1:43:37,  9.45s/it]"
     ]
    },
    {
     "name": "stdout",
     "output_type": "stream",
     "text": [
      "epoch: 200 loss:0.358206 auc:0.9074\n",
      "Fit finished.\n",
      "epoch:   0 loss:0.844965 auc:0.4980\n",
      "epoch:  20 loss:0.402544 auc:0.8421\n",
      "epoch:  40 loss:0.376616 auc:0.8463\n",
      "epoch:  60 loss:0.372356 auc:0.8478\n",
      "epoch:  80 loss:0.370768 auc:0.8477\n",
      "epoch: 100 loss:0.369483 auc:0.8481\n",
      "epoch: 120 loss:0.367589 auc:0.8479\n",
      "epoch: 140 loss:0.363824 auc:0.8486\n",
      "epoch: 160 loss:0.358308 auc:0.8504\n",
      "epoch: 180 loss:0.353187 auc:0.8515\n",
      "epoch: 200 loss:0.347554 auc:0.8554\n",
      "epoch: 220 loss:0.341810 auc:0.8590\n",
      "epoch: 240 loss:0.334111 auc:0.8658\n",
      "epoch: 260 loss:0.324793 auc:0.8611\n",
      "epoch: 280 loss:0.316642 auc:0.8616\n",
      "epoch: 300 loss:0.326906 auc:0.8610\n",
      "epoch: 320 loss:0.307126 auc:0.8552\n"
     ]
    },
    {
     "name": "stderr",
     "output_type": "stream",
     "text": [
      " 13%|█▎        | 99/756 [18:28<1:56:02, 10.60s/it]"
     ]
    },
    {
     "name": "stdout",
     "output_type": "stream",
     "text": [
      "epoch: 340 loss:0.297891 auc:0.8370\n",
      "Fit finished.\n",
      "epoch:   0 loss:0.971822 auc:0.5748\n",
      "epoch:  20 loss:0.413297 auc:0.9564\n",
      "epoch:  40 loss:0.383708 auc:0.9641\n",
      "epoch:  60 loss:0.375161 auc:0.9642\n",
      "epoch:  80 loss:0.372649 auc:0.9637\n",
      "epoch: 100 loss:0.371732 auc:0.9637\n",
      "epoch: 120 loss:0.371190 auc:0.9638\n",
      "epoch: 140 loss:0.370703 auc:0.9636\n",
      "epoch: 160 loss:0.370168 auc:0.9637\n",
      "epoch: 180 loss:0.369511 auc:0.9636\n"
     ]
    },
    {
     "name": "stderr",
     "output_type": "stream",
     "text": [
      " 13%|█▎        | 100/756 [18:36<1:47:28,  9.83s/it]"
     ]
    },
    {
     "name": "stdout",
     "output_type": "stream",
     "text": [
      "epoch: 200 loss:0.368624 auc:0.9637\n",
      "Fit finished.\n",
      "epoch:   0 loss:0.684630 auc:0.7057\n",
      "epoch:  20 loss:0.411491 auc:0.8640\n",
      "epoch:  40 loss:0.382031 auc:0.8718\n",
      "epoch:  60 loss:0.374541 auc:0.8750\n",
      "epoch:  80 loss:0.372080 auc:0.8756\n",
      "epoch: 100 loss:0.371013 auc:0.8759\n",
      "epoch: 120 loss:0.370271 auc:0.8763\n",
      "epoch: 140 loss:0.369501 auc:0.8759\n",
      "epoch: 160 loss:0.368421 auc:0.8760\n",
      "epoch: 180 loss:0.366514 auc:0.8761\n",
      "epoch: 200 loss:0.362975 auc:0.8754\n"
     ]
    },
    {
     "name": "stderr",
     "output_type": "stream",
     "text": [
      " 13%|█▎        | 101/756 [18:44<1:40:00,  9.16s/it]"
     ]
    },
    {
     "name": "stdout",
     "output_type": "stream",
     "text": [
      "epoch: 220 loss:0.358531 auc:0.8735\n",
      "Fit finished.\n",
      "epoch:   0 loss:0.818485 auc:0.6268\n",
      "epoch:  20 loss:0.401438 auc:0.8855\n",
      "epoch:  40 loss:0.379856 auc:0.8914\n",
      "epoch:  60 loss:0.374133 auc:0.8948\n",
      "epoch:  80 loss:0.371943 auc:0.8956\n",
      "epoch: 100 loss:0.371004 auc:0.8955\n",
      "epoch: 120 loss:0.370258 auc:0.8953\n",
      "epoch: 140 loss:0.369396 auc:0.8954\n",
      "epoch: 160 loss:0.368154 auc:0.8956\n",
      "epoch: 180 loss:0.366187 auc:0.8954\n",
      "epoch: 200 loss:0.363100 auc:0.8950\n"
     ]
    },
    {
     "name": "stderr",
     "output_type": "stream",
     "text": [
      " 13%|█▎        | 102/756 [18:51<1:35:21,  8.75s/it]"
     ]
    },
    {
     "name": "stdout",
     "output_type": "stream",
     "text": [
      "epoch: 220 loss:0.359321 auc:0.8922\n",
      "Fit finished.\n",
      "epoch:   0 loss:0.771246 auc:0.4375\n",
      "epoch:  20 loss:0.396160 auc:0.8328\n",
      "epoch:  40 loss:0.376035 auc:0.8401\n",
      "epoch:  60 loss:0.372610 auc:0.8421\n",
      "epoch:  80 loss:0.371415 auc:0.8425\n",
      "epoch: 100 loss:0.370610 auc:0.8428\n",
      "epoch: 120 loss:0.369603 auc:0.8433\n",
      "epoch: 140 loss:0.367982 auc:0.8432\n",
      "epoch: 160 loss:0.364966 auc:0.8427\n",
      "epoch: 180 loss:0.360257 auc:0.8418\n",
      "epoch: 200 loss:0.355365 auc:0.8406\n"
     ]
    },
    {
     "name": "stderr",
     "output_type": "stream",
     "text": [
      " 14%|█▎        | 103/756 [18:59<1:32:17,  8.48s/it]"
     ]
    },
    {
     "name": "stdout",
     "output_type": "stream",
     "text": [
      "epoch: 220 loss:0.350952 auc:0.8395\n",
      "Fit finished.\n",
      "epoch:   0 loss:0.713643 auc:0.6153\n",
      "epoch:  20 loss:0.391041 auc:0.8656\n",
      "epoch:  40 loss:0.376642 auc:0.8755\n",
      "epoch:  60 loss:0.372267 auc:0.8730\n",
      "epoch:  80 loss:0.370860 auc:0.8734\n",
      "epoch: 100 loss:0.369772 auc:0.8721\n",
      "epoch: 120 loss:0.368310 auc:0.8727\n",
      "epoch: 140 loss:0.365611 auc:0.8716\n",
      "epoch: 160 loss:0.360798 auc:0.8711\n",
      "epoch: 180 loss:0.355378 auc:0.8702\n"
     ]
    },
    {
     "name": "stderr",
     "output_type": "stream",
     "text": [
      " 14%|█▍        | 104/756 [19:07<1:29:28,  8.23s/it]"
     ]
    },
    {
     "name": "stdout",
     "output_type": "stream",
     "text": [
      "epoch: 200 loss:0.349506 auc:0.8698\n",
      "Fit finished.\n",
      "epoch:   0 loss:0.868699 auc:0.3153\n",
      "epoch:  20 loss:0.402136 auc:0.8878\n",
      "epoch:  40 loss:0.377409 auc:0.8941\n",
      "epoch:  60 loss:0.373151 auc:0.8929\n",
      "epoch:  80 loss:0.371435 auc:0.8932\n",
      "epoch: 100 loss:0.370420 auc:0.8926\n",
      "epoch: 120 loss:0.369344 auc:0.8922\n",
      "epoch: 140 loss:0.367722 auc:0.8923\n",
      "epoch: 160 loss:0.364874 auc:0.8919\n",
      "epoch: 180 loss:0.360565 auc:0.8905\n"
     ]
    },
    {
     "name": "stderr",
     "output_type": "stream",
     "text": [
      " 14%|█▍        | 105/756 [19:15<1:27:33,  8.07s/it]"
     ]
    },
    {
     "name": "stdout",
     "output_type": "stream",
     "text": [
      "epoch: 200 loss:0.355933 auc:0.8893\n",
      "Fit finished.\n",
      "epoch:   0 loss:0.812586 auc:0.5602\n",
      "epoch:  20 loss:0.401039 auc:0.9230\n",
      "epoch:  40 loss:0.376958 auc:0.9223\n",
      "epoch:  60 loss:0.372691 auc:0.9212\n",
      "epoch:  80 loss:0.371343 auc:0.9218\n",
      "epoch: 100 loss:0.370440 auc:0.9216\n",
      "epoch: 120 loss:0.369426 auc:0.9216\n",
      "epoch: 140 loss:0.367866 auc:0.9211\n",
      "epoch: 160 loss:0.364815 auc:0.9201\n"
     ]
    },
    {
     "name": "stderr",
     "output_type": "stream",
     "text": [
      " 14%|█▍        | 106/756 [19:22<1:23:53,  7.74s/it]"
     ]
    },
    {
     "name": "stdout",
     "output_type": "stream",
     "text": [
      "epoch: 180 loss:0.359730 auc:0.9173\n",
      "Fit finished.\n",
      "epoch:   0 loss:0.853562 auc:0.3998\n",
      "epoch:  20 loss:0.398482 auc:0.9250\n",
      "epoch:  40 loss:0.376836 auc:0.9222\n",
      "epoch:  60 loss:0.372960 auc:0.9199\n",
      "epoch:  80 loss:0.371386 auc:0.9209\n",
      "epoch: 100 loss:0.370165 auc:0.9205\n",
      "epoch: 120 loss:0.368389 auc:0.9202\n",
      "epoch: 140 loss:0.365008 auc:0.9206\n",
      "epoch: 160 loss:0.360365 auc:0.9203\n"
     ]
    },
    {
     "name": "stderr",
     "output_type": "stream",
     "text": [
      " 14%|█▍        | 107/756 [19:29<1:22:23,  7.62s/it]"
     ]
    },
    {
     "name": "stdout",
     "output_type": "stream",
     "text": [
      "epoch: 180 loss:0.355793 auc:0.9217\n",
      "Fit finished.\n",
      "epoch:   0 loss:0.836215 auc:0.4243\n",
      "epoch:  20 loss:0.405802 auc:0.9274\n",
      "epoch:  40 loss:0.381707 auc:0.9339\n",
      "epoch:  60 loss:0.375252 auc:0.9351\n",
      "epoch:  80 loss:0.372822 auc:0.9351\n",
      "epoch: 100 loss:0.371803 auc:0.9349\n",
      "epoch: 120 loss:0.371121 auc:0.9351\n",
      "epoch: 140 loss:0.370466 auc:0.9351\n",
      "epoch: 160 loss:0.369691 auc:0.9347\n",
      "epoch: 180 loss:0.368607 auc:0.9350\n",
      "epoch: 200 loss:0.366781 auc:0.9349\n"
     ]
    },
    {
     "name": "stderr",
     "output_type": "stream",
     "text": [
      " 14%|█▍        | 108/756 [19:38<1:26:01,  7.97s/it]"
     ]
    },
    {
     "name": "stdout",
     "output_type": "stream",
     "text": [
      "epoch: 220 loss:0.363446 auc:0.9339\n",
      "Fit finished.\n",
      "epoch:   0 loss:0.768637 auc:0.5505\n",
      "epoch:  20 loss:0.390266 auc:0.9054\n",
      "epoch:  40 loss:0.376444 auc:0.9101\n",
      "epoch:  60 loss:0.372247 auc:0.9128\n",
      "epoch:  80 loss:0.370867 auc:0.9120\n",
      "epoch: 100 loss:0.369750 auc:0.9115\n",
      "epoch: 120 loss:0.368220 auc:0.9116\n",
      "epoch: 140 loss:0.365291 auc:0.9112\n",
      "epoch: 160 loss:0.360243 auc:0.9127\n",
      "epoch: 180 loss:0.354422 auc:0.9125\n",
      "epoch: 200 loss:0.345730 auc:0.9146\n",
      "epoch: 220 loss:0.339653 auc:0.9151\n",
      "epoch: 240 loss:0.329477 auc:0.9130\n",
      "epoch: 260 loss:0.321947 auc:0.9123\n"
     ]
    },
    {
     "name": "stderr",
     "output_type": "stream",
     "text": [
      " 14%|█▍        | 109/756 [19:48<1:33:45,  8.69s/it]"
     ]
    },
    {
     "name": "stdout",
     "output_type": "stream",
     "text": [
      "epoch: 280 loss:0.313826 auc:0.9074\n",
      "Fit finished.\n",
      "epoch:   0 loss:0.854936 auc:0.3442\n",
      "epoch:  20 loss:0.391322 auc:0.9152\n",
      "epoch:  40 loss:0.374589 auc:0.9167\n",
      "epoch:  60 loss:0.371802 auc:0.9187\n",
      "epoch:  80 loss:0.370396 auc:0.9187\n",
      "epoch: 100 loss:0.369033 auc:0.9186\n",
      "epoch: 120 loss:0.366907 auc:0.9182\n",
      "epoch: 140 loss:0.362851 auc:0.9170\n",
      "epoch: 160 loss:0.357268 auc:0.9129\n"
     ]
    },
    {
     "name": "stderr",
     "output_type": "stream",
     "text": [
      " 15%|█▍        | 110/756 [19:56<1:32:04,  8.55s/it]"
     ]
    },
    {
     "name": "stdout",
     "output_type": "stream",
     "text": [
      "epoch: 180 loss:0.369476 auc:0.9034\n",
      "Fit finished.\n",
      "epoch:   0 loss:0.789877 auc:0.4055\n",
      "epoch:  20 loss:0.398900 auc:0.9431\n",
      "epoch:  40 loss:0.378029 auc:0.9433\n",
      "epoch:  60 loss:0.372842 auc:0.9437\n",
      "epoch:  80 loss:0.371373 auc:0.9435\n",
      "epoch: 100 loss:0.370517 auc:0.9438\n",
      "epoch: 120 loss:0.369633 auc:0.9438\n",
      "epoch: 140 loss:0.368412 auc:0.9439\n",
      "epoch: 160 loss:0.366181 auc:0.9437\n",
      "epoch: 180 loss:0.361616 auc:0.9435\n"
     ]
    },
    {
     "name": "stderr",
     "output_type": "stream",
     "text": [
      " 15%|█▍        | 111/756 [20:05<1:32:01,  8.56s/it]"
     ]
    },
    {
     "name": "stdout",
     "output_type": "stream",
     "text": [
      "epoch: 200 loss:0.356299 auc:0.9426\n",
      "Fit finished.\n",
      "epoch:   0 loss:0.694001 auc:0.5813\n",
      "epoch:  20 loss:0.391552 auc:0.8696\n",
      "epoch:  40 loss:0.375456 auc:0.8718\n",
      "epoch:  60 loss:0.372169 auc:0.8713\n",
      "epoch:  80 loss:0.370730 auc:0.8719\n",
      "epoch: 100 loss:0.369401 auc:0.8719\n",
      "epoch: 120 loss:0.367309 auc:0.8721\n",
      "epoch: 140 loss:0.363629 auc:0.8728\n",
      "epoch: 160 loss:0.358606 auc:0.8746\n",
      "epoch: 180 loss:0.353217 auc:0.8767\n",
      "epoch: 200 loss:0.348610 auc:0.8766\n",
      "epoch: 220 loss:0.339927 auc:0.8758\n"
     ]
    },
    {
     "name": "stderr",
     "output_type": "stream",
     "text": [
      " 15%|█▍        | 112/756 [20:15<1:35:52,  8.93s/it]"
     ]
    },
    {
     "name": "stdout",
     "output_type": "stream",
     "text": [
      "epoch: 240 loss:0.331604 auc:0.8707\n",
      "Fit finished.\n",
      "epoch:   0 loss:0.711625 auc:0.7142\n",
      "epoch:  20 loss:0.389215 auc:0.9468\n",
      "epoch:  40 loss:0.376067 auc:0.9434\n",
      "epoch:  60 loss:0.372455 auc:0.9456\n",
      "epoch:  80 loss:0.370947 auc:0.9443\n",
      "epoch: 100 loss:0.369528 auc:0.9451\n",
      "epoch: 120 loss:0.367010 auc:0.9456\n",
      "epoch: 140 loss:0.361012 auc:0.9488\n",
      "epoch: 160 loss:0.354004 auc:0.9536\n",
      "epoch: 180 loss:0.345569 auc:0.9570\n",
      "epoch: 200 loss:0.336413 auc:0.9581\n",
      "epoch: 220 loss:0.327037 auc:0.9520\n"
     ]
    },
    {
     "name": "stderr",
     "output_type": "stream",
     "text": [
      " 15%|█▍        | 113/756 [20:24<1:36:59,  9.05s/it]"
     ]
    },
    {
     "name": "stdout",
     "output_type": "stream",
     "text": [
      "epoch: 240 loss:0.320314 auc:0.9407\n",
      "Fit finished.\n",
      "epoch:   0 loss:0.766136 auc:0.4233\n",
      "epoch:  20 loss:0.389386 auc:0.8817\n",
      "epoch:  40 loss:0.377128 auc:0.8861\n",
      "epoch:  60 loss:0.372886 auc:0.8891\n",
      "epoch:  80 loss:0.371446 auc:0.8886\n",
      "epoch: 100 loss:0.370556 auc:0.8882\n",
      "epoch: 120 loss:0.369521 auc:0.8882\n",
      "epoch: 140 loss:0.367962 auc:0.8879\n",
      "epoch: 160 loss:0.365145 auc:0.8874\n",
      "epoch: 180 loss:0.360428 auc:0.8870\n",
      "epoch: 200 loss:0.355397 auc:0.8873\n"
     ]
    },
    {
     "name": "stderr",
     "output_type": "stream",
     "text": [
      " 15%|█▌        | 114/756 [20:33<1:37:50,  9.14s/it]"
     ]
    },
    {
     "name": "stdout",
     "output_type": "stream",
     "text": [
      "epoch: 220 loss:0.350551 auc:0.8859\n",
      "Fit finished.\n",
      "epoch:   0 loss:0.774286 auc:0.5562\n",
      "epoch:  20 loss:0.392698 auc:0.9281\n",
      "epoch:  40 loss:0.376431 auc:0.9308\n",
      "epoch:  60 loss:0.372490 auc:0.9311\n",
      "epoch:  80 loss:0.371193 auc:0.9311\n",
      "epoch: 100 loss:0.370303 auc:0.9312\n",
      "epoch: 120 loss:0.369154 auc:0.9312\n",
      "epoch: 140 loss:0.367185 auc:0.9316\n",
      "epoch: 160 loss:0.363334 auc:0.9321\n",
      "epoch: 180 loss:0.358086 auc:0.9333\n",
      "epoch: 200 loss:0.352371 auc:0.9339\n",
      "epoch: 220 loss:0.348232 auc:0.9331\n",
      "epoch: 240 loss:0.341302 auc:0.9319\n",
      "epoch: 260 loss:0.333475 auc:0.9317\n"
     ]
    },
    {
     "name": "stderr",
     "output_type": "stream",
     "text": [
      " 15%|█▌        | 115/756 [20:45<1:45:41,  9.89s/it]"
     ]
    },
    {
     "name": "stdout",
     "output_type": "stream",
     "text": [
      "epoch: 280 loss:0.326367 auc:0.9283\n",
      "Fit finished.\n",
      "epoch:   0 loss:0.706634 auc:0.5326\n",
      "epoch:  20 loss:0.386777 auc:0.9384\n",
      "epoch:  40 loss:0.374985 auc:0.9387\n",
      "epoch:  60 loss:0.372523 auc:0.9406\n",
      "epoch:  80 loss:0.371518 auc:0.9408\n",
      "epoch: 100 loss:0.370793 auc:0.9416\n",
      "epoch: 120 loss:0.369950 auc:0.9413\n",
      "epoch: 140 loss:0.368617 auc:0.9417\n",
      "epoch: 160 loss:0.365811 auc:0.9419\n",
      "epoch: 180 loss:0.359411 auc:0.9419\n",
      "epoch: 200 loss:0.352805 auc:0.9438\n",
      "epoch: 220 loss:0.346308 auc:0.9445\n",
      "epoch: 240 loss:0.336397 auc:0.9434\n",
      "epoch: 260 loss:0.328171 auc:0.9443\n",
      "epoch: 280 loss:0.320220 auc:0.9436\n",
      "epoch: 300 loss:0.306858 auc:0.9426\n"
     ]
    },
    {
     "name": "stderr",
     "output_type": "stream",
     "text": [
      " 15%|█▌        | 116/756 [20:59<1:57:32, 11.02s/it]"
     ]
    },
    {
     "name": "stdout",
     "output_type": "stream",
     "text": [
      "epoch: 320 loss:0.298087 auc:0.9386\n",
      "Fit finished.\n",
      "epoch:   0 loss:0.823253 auc:0.5889\n",
      "epoch:  20 loss:0.403401 auc:0.9412\n",
      "epoch:  40 loss:0.379592 auc:0.9444\n",
      "epoch:  60 loss:0.374033 auc:0.9439\n",
      "epoch:  80 loss:0.372093 auc:0.9450\n",
      "epoch: 100 loss:0.371320 auc:0.9446\n",
      "epoch: 120 loss:0.370746 auc:0.9449\n",
      "epoch: 140 loss:0.370117 auc:0.9447\n",
      "epoch: 160 loss:0.369251 auc:0.9450\n",
      "epoch: 180 loss:0.367858 auc:0.9453\n",
      "epoch: 200 loss:0.365393 auc:0.9457\n",
      "epoch: 220 loss:0.361417 auc:0.9462\n",
      "epoch: 240 loss:0.357036 auc:0.9479\n",
      "epoch: 260 loss:0.352188 auc:0.9481\n",
      "epoch: 280 loss:0.345813 auc:0.9478\n"
     ]
    },
    {
     "name": "stderr",
     "output_type": "stream",
     "text": [
      " 15%|█▌        | 117/756 [21:10<1:58:56, 11.17s/it]"
     ]
    },
    {
     "name": "stdout",
     "output_type": "stream",
     "text": [
      "epoch: 300 loss:0.338346 auc:0.9433\n",
      "Fit finished.\n",
      "epoch:   0 loss:0.841402 auc:0.3499\n",
      "epoch:  20 loss:0.390684 auc:0.9449\n",
      "epoch:  40 loss:0.377549 auc:0.9425\n",
      "epoch:  60 loss:0.373070 auc:0.9440\n",
      "epoch:  80 loss:0.371753 auc:0.9442\n",
      "epoch: 100 loss:0.370920 auc:0.9441\n",
      "epoch: 120 loss:0.370001 auc:0.9444\n",
      "epoch: 140 loss:0.368516 auc:0.9449\n",
      "epoch: 160 loss:0.365624 auc:0.9461\n",
      "epoch: 180 loss:0.360953 auc:0.9478\n",
      "epoch: 200 loss:0.356129 auc:0.9482\n",
      "epoch: 220 loss:0.350697 auc:0.9476\n",
      "epoch: 240 loss:0.344325 auc:0.9473\n"
     ]
    },
    {
     "name": "stderr",
     "output_type": "stream",
     "text": [
      " 16%|█▌        | 118/756 [21:21<1:56:19, 10.94s/it]"
     ]
    },
    {
     "name": "stdout",
     "output_type": "stream",
     "text": [
      "epoch: 260 loss:0.334966 auc:0.9440\n",
      "Fit finished.\n",
      "epoch:   0 loss:0.855796 auc:0.3904\n",
      "epoch:  20 loss:0.391820 auc:0.8545\n",
      "epoch:  40 loss:0.375185 auc:0.8580\n",
      "epoch:  60 loss:0.372172 auc:0.8586\n",
      "epoch:  80 loss:0.370870 auc:0.8580\n",
      "epoch: 100 loss:0.369931 auc:0.8581\n",
      "epoch: 120 loss:0.368773 auc:0.8583\n",
      "epoch: 140 loss:0.366739 auc:0.8581\n",
      "epoch: 160 loss:0.362752 auc:0.8564\n"
     ]
    },
    {
     "name": "stderr",
     "output_type": "stream",
     "text": [
      " 16%|█▌        | 119/756 [21:28<1:44:27,  9.84s/it]"
     ]
    },
    {
     "name": "stdout",
     "output_type": "stream",
     "text": [
      "epoch: 180 loss:0.357546 auc:0.8523\n",
      "Fit finished.\n",
      "epoch:   0 loss:1.297901 auc:0.5010\n",
      "epoch:  20 loss:0.404850 auc:0.8923\n",
      "epoch:  40 loss:0.377560 auc:0.9058\n",
      "epoch:  60 loss:0.373016 auc:0.9061\n",
      "epoch:  80 loss:0.371549 auc:0.9063\n",
      "epoch: 100 loss:0.370725 auc:0.9061\n",
      "epoch: 120 loss:0.369891 auc:0.9064\n",
      "epoch: 140 loss:0.368717 auc:0.9057\n",
      "epoch: 160 loss:0.366579 auc:0.9049\n",
      "epoch: 180 loss:0.362678 auc:0.9044\n"
     ]
    },
    {
     "name": "stderr",
     "output_type": "stream",
     "text": [
      " 16%|█▌        | 120/756 [21:36<1:39:26,  9.38s/it]"
     ]
    },
    {
     "name": "stdout",
     "output_type": "stream",
     "text": [
      "epoch: 200 loss:0.357928 auc:0.9024\n",
      "Fit finished.\n",
      "epoch:   0 loss:0.739058 auc:0.4260\n",
      "epoch:  20 loss:0.388169 auc:0.8457\n",
      "epoch:  40 loss:0.374991 auc:0.8522\n",
      "epoch:  60 loss:0.371710 auc:0.8537\n",
      "epoch:  80 loss:0.370561 auc:0.8543\n",
      "epoch: 100 loss:0.369482 auc:0.8547\n",
      "epoch: 120 loss:0.367854 auc:0.8537\n",
      "epoch: 140 loss:0.364589 auc:0.8534\n",
      "epoch: 160 loss:0.358862 auc:0.8463\n",
      "epoch: 180 loss:0.351827 auc:0.8459\n"
     ]
    },
    {
     "name": "stderr",
     "output_type": "stream",
     "text": [
      " 16%|█▌        | 121/756 [21:45<1:36:51,  9.15s/it]"
     ]
    },
    {
     "name": "stdout",
     "output_type": "stream",
     "text": [
      "epoch: 200 loss:0.345348 auc:0.8463\n",
      "Fit finished.\n",
      "epoch:   0 loss:0.806300 auc:0.5032\n",
      "epoch:  20 loss:0.411921 auc:0.8766\n",
      "epoch:  40 loss:0.380788 auc:0.8944\n",
      "epoch:  60 loss:0.373467 auc:0.8998\n",
      "epoch:  80 loss:0.371735 auc:0.8996\n",
      "epoch: 100 loss:0.370935 auc:0.9002\n",
      "epoch: 120 loss:0.370210 auc:0.9000\n",
      "epoch: 140 loss:0.369286 auc:0.8997\n",
      "epoch: 160 loss:0.367847 auc:0.8995\n",
      "epoch: 180 loss:0.365322 auc:0.8996\n",
      "epoch: 200 loss:0.361138 auc:0.8986\n"
     ]
    },
    {
     "name": "stderr",
     "output_type": "stream",
     "text": [
      " 16%|█▌        | 122/756 [21:54<1:37:53,  9.26s/it]"
     ]
    },
    {
     "name": "stdout",
     "output_type": "stream",
     "text": [
      "epoch: 220 loss:0.356284 auc:0.8986\n",
      "Fit finished.\n",
      "epoch:   0 loss:0.713395 auc:0.5380\n",
      "epoch:  20 loss:0.403989 auc:0.7861\n",
      "epoch:  40 loss:0.379586 auc:0.8030\n",
      "epoch:  60 loss:0.373569 auc:0.8111\n",
      "epoch:  80 loss:0.371637 auc:0.8119\n",
      "epoch: 100 loss:0.370538 auc:0.8140\n",
      "epoch: 120 loss:0.369388 auc:0.8146\n",
      "epoch: 140 loss:0.367686 auc:0.8143\n",
      "epoch: 160 loss:0.364643 auc:0.8143\n",
      "epoch: 180 loss:0.360265 auc:0.8130\n",
      "epoch: 200 loss:0.356180 auc:0.8116\n",
      "epoch: 220 loss:0.352382 auc:0.8132\n",
      "epoch: 240 loss:0.348534 auc:0.8183\n",
      "epoch: 260 loss:0.344628 auc:0.8216\n",
      "epoch: 280 loss:0.340528 auc:0.8181\n",
      "epoch: 300 loss:0.331999 auc:0.8173\n"
     ]
    },
    {
     "name": "stderr",
     "output_type": "stream",
     "text": [
      " 16%|█▋        | 123/756 [22:07<1:49:13, 10.35s/it]"
     ]
    },
    {
     "name": "stdout",
     "output_type": "stream",
     "text": [
      "epoch: 320 loss:0.323551 auc:0.8041\n",
      "Fit finished.\n",
      "epoch:   0 loss:0.678342 auc:0.6905\n",
      "epoch:  20 loss:0.389023 auc:0.9538\n",
      "epoch:  40 loss:0.376921 auc:0.9556\n",
      "epoch:  60 loss:0.372794 auc:0.9560\n",
      "epoch:  80 loss:0.371495 auc:0.9559\n",
      "epoch: 100 loss:0.370556 auc:0.9561\n",
      "epoch: 120 loss:0.369456 auc:0.9561\n",
      "epoch: 140 loss:0.367663 auc:0.9566\n",
      "epoch: 160 loss:0.363916 auc:0.9576\n",
      "epoch: 180 loss:0.357719 auc:0.9598\n",
      "epoch: 200 loss:0.350429 auc:0.9620\n",
      "epoch: 220 loss:0.341637 auc:0.9642\n",
      "epoch: 240 loss:0.332469 auc:0.9659\n",
      "epoch: 260 loss:0.325183 auc:0.9615\n",
      "epoch: 280 loss:0.315448 auc:0.9599\n"
     ]
    },
    {
     "name": "stderr",
     "output_type": "stream",
     "text": [
      " 16%|█▋        | 124/756 [22:20<1:55:04, 10.92s/it]"
     ]
    },
    {
     "name": "stdout",
     "output_type": "stream",
     "text": [
      "epoch: 300 loss:0.309279 auc:0.9555\n",
      "Fit finished.\n",
      "epoch:   0 loss:0.807114 auc:0.4524\n",
      "epoch:  20 loss:0.394962 auc:0.8916\n",
      "epoch:  40 loss:0.376770 auc:0.8974\n",
      "epoch:  60 loss:0.372597 auc:0.8979\n",
      "epoch:  80 loss:0.371176 auc:0.8975\n",
      "epoch: 100 loss:0.369838 auc:0.8981\n",
      "epoch: 120 loss:0.367451 auc:0.8989\n",
      "epoch: 140 loss:0.362383 auc:0.9010\n",
      "epoch: 160 loss:0.356000 auc:0.9055\n",
      "epoch: 180 loss:0.350436 auc:0.9098\n",
      "epoch: 200 loss:0.341940 auc:0.9128\n",
      "epoch: 220 loss:0.333478 auc:0.9122\n",
      "epoch: 240 loss:0.327026 auc:0.9193\n",
      "epoch: 260 loss:0.317966 auc:0.9128\n",
      "epoch: 280 loss:0.309748 auc:0.9042\n",
      "epoch: 300 loss:0.303282 auc:0.9032\n"
     ]
    },
    {
     "name": "stderr",
     "output_type": "stream",
     "text": [
      " 17%|█▋        | 125/756 [22:33<2:02:02, 11.60s/it]"
     ]
    },
    {
     "name": "stdout",
     "output_type": "stream",
     "text": [
      "epoch: 320 loss:0.296611 auc:0.8935\n",
      "Fit finished.\n",
      "epoch:   0 loss:0.712561 auc:0.5039\n",
      "epoch:  20 loss:0.385201 auc:0.9434\n",
      "epoch:  40 loss:0.373332 auc:0.9451\n",
      "epoch:  60 loss:0.370690 auc:0.9451\n",
      "epoch:  80 loss:0.368835 auc:0.9458\n",
      "epoch: 100 loss:0.365342 auc:0.9462\n",
      "epoch: 120 loss:0.359028 auc:0.9499\n",
      "epoch: 140 loss:0.351408 auc:0.9515\n",
      "epoch: 160 loss:0.341403 auc:0.9506\n",
      "epoch: 180 loss:0.330336 auc:0.9517\n",
      "epoch: 200 loss:0.320020 auc:0.9538\n",
      "epoch: 220 loss:0.310239 auc:0.9528\n",
      "epoch: 240 loss:0.301096 auc:0.9503\n",
      "epoch: 260 loss:0.330109 auc:0.9494\n"
     ]
    },
    {
     "name": "stderr",
     "output_type": "stream",
     "text": [
      " 17%|█▋        | 126/756 [22:44<2:01:01, 11.53s/it]"
     ]
    },
    {
     "name": "stdout",
     "output_type": "stream",
     "text": [
      "epoch: 280 loss:0.294662 auc:0.9466\n",
      "Fit finished.\n",
      "epoch:   0 loss:0.746451 auc:0.5388\n",
      "epoch:  20 loss:0.404100 auc:0.9388\n",
      "epoch:  40 loss:0.380114 auc:0.9433\n",
      "epoch:  60 loss:0.374421 auc:0.9441\n",
      "epoch:  80 loss:0.372225 auc:0.9429\n",
      "epoch: 100 loss:0.371102 auc:0.9432\n",
      "epoch: 120 loss:0.370088 auc:0.9429\n",
      "epoch: 140 loss:0.368671 auc:0.9427\n",
      "epoch: 160 loss:0.366082 auc:0.9424\n",
      "epoch: 180 loss:0.361349 auc:0.9430\n"
     ]
    },
    {
     "name": "stderr",
     "output_type": "stream",
     "text": [
      " 17%|█▋        | 127/756 [22:52<1:50:51, 10.57s/it]"
     ]
    },
    {
     "name": "stdout",
     "output_type": "stream",
     "text": [
      "epoch: 200 loss:0.356465 auc:0.9429\n",
      "Fit finished.\n",
      "epoch:   0 loss:0.832969 auc:0.3602\n",
      "epoch:  20 loss:0.396773 auc:0.9405\n",
      "epoch:  40 loss:0.376449 auc:0.9412\n",
      "epoch:  60 loss:0.372003 auc:0.9419\n",
      "epoch:  80 loss:0.370655 auc:0.9417\n",
      "epoch: 100 loss:0.369508 auc:0.9429\n",
      "epoch: 120 loss:0.367925 auc:0.9441\n",
      "epoch: 140 loss:0.364958 auc:0.9457\n",
      "epoch: 160 loss:0.359736 auc:0.9510\n",
      "epoch: 180 loss:0.357863 auc:0.9554\n",
      "epoch: 200 loss:0.349834 auc:0.9594\n",
      "epoch: 220 loss:0.341451 auc:0.9630\n",
      "epoch: 240 loss:0.332890 auc:0.9655\n",
      "epoch: 260 loss:0.322684 auc:0.9622\n",
      "epoch: 280 loss:0.325860 auc:0.9653\n",
      "epoch: 300 loss:0.310910 auc:0.9579\n"
     ]
    },
    {
     "name": "stderr",
     "output_type": "stream",
     "text": [
      " 17%|█▋        | 128/756 [23:06<2:01:11, 11.58s/it]"
     ]
    },
    {
     "name": "stdout",
     "output_type": "stream",
     "text": [
      "epoch: 320 loss:0.303127 auc:0.9499\n",
      "Fit finished.\n",
      "epoch:   0 loss:0.733361 auc:0.6031\n",
      "epoch:  20 loss:0.387427 auc:0.9121\n",
      "epoch:  40 loss:0.374145 auc:0.9147\n",
      "epoch:  60 loss:0.371384 auc:0.9147\n",
      "epoch:  80 loss:0.369860 auc:0.9142\n",
      "epoch: 100 loss:0.368113 auc:0.9134\n",
      "epoch: 120 loss:0.364656 auc:0.9110\n",
      "epoch: 140 loss:0.358441 auc:0.9066\n",
      "epoch: 160 loss:0.350568 auc:0.9031\n"
     ]
    },
    {
     "name": "stderr",
     "output_type": "stream",
     "text": [
      " 17%|█▋        | 129/756 [23:14<1:48:41, 10.40s/it]"
     ]
    },
    {
     "name": "stdout",
     "output_type": "stream",
     "text": [
      "epoch: 180 loss:0.343674 auc:0.8856\n",
      "Fit finished.\n",
      "epoch:   0 loss:1.053034 auc:0.5069\n",
      "epoch:  20 loss:0.417304 auc:0.9273\n",
      "epoch:  40 loss:0.384021 auc:0.9322\n",
      "epoch:  60 loss:0.375089 auc:0.9334\n",
      "epoch:  80 loss:0.372674 auc:0.9323\n",
      "epoch: 100 loss:0.371736 auc:0.9323\n",
      "epoch: 120 loss:0.371154 auc:0.9319\n",
      "epoch: 140 loss:0.370627 auc:0.9319\n",
      "epoch: 160 loss:0.370056 auc:0.9317\n",
      "epoch: 180 loss:0.369352 auc:0.9318\n"
     ]
    },
    {
     "name": "stderr",
     "output_type": "stream",
     "text": [
      " 17%|█▋        | 130/756 [23:22<1:40:34,  9.64s/it]"
     ]
    },
    {
     "name": "stdout",
     "output_type": "stream",
     "text": [
      "epoch: 200 loss:0.368361 auc:0.9319\n",
      "Fit finished.\n",
      "epoch:   0 loss:0.755753 auc:0.5418\n",
      "epoch:  20 loss:0.391868 auc:0.9143\n",
      "epoch:  40 loss:0.375556 auc:0.9194\n",
      "epoch:  60 loss:0.371556 auc:0.9195\n",
      "epoch:  80 loss:0.370317 auc:0.9196\n",
      "epoch: 100 loss:0.369119 auc:0.9203\n",
      "epoch: 120 loss:0.367236 auc:0.9208\n",
      "epoch: 140 loss:0.363810 auc:0.9223\n",
      "epoch: 160 loss:0.358969 auc:0.9246\n",
      "epoch: 180 loss:0.353543 auc:0.9266\n",
      "epoch: 200 loss:0.346366 auc:0.9320\n",
      "epoch: 220 loss:0.339418 auc:0.9385\n",
      "epoch: 240 loss:0.330941 auc:0.9359\n",
      "epoch: 260 loss:0.322629 auc:0.9314\n",
      "epoch: 280 loss:0.317868 auc:0.9292\n"
     ]
    },
    {
     "name": "stderr",
     "output_type": "stream",
     "text": [
      " 17%|█▋        | 131/756 [23:33<1:46:35, 10.23s/it]"
     ]
    },
    {
     "name": "stdout",
     "output_type": "stream",
     "text": [
      "epoch: 300 loss:0.306859 auc:0.9195\n",
      "Fit finished.\n",
      "epoch:   0 loss:0.863355 auc:0.5810\n",
      "epoch:  20 loss:0.409249 auc:0.9079\n",
      "epoch:  40 loss:0.380147 auc:0.9076\n",
      "epoch:  60 loss:0.373514 auc:0.9066\n",
      "epoch:  80 loss:0.371643 auc:0.9068\n",
      "epoch: 100 loss:0.370728 auc:0.9077\n",
      "epoch: 120 loss:0.369993 auc:0.9077\n",
      "epoch: 140 loss:0.369194 auc:0.9079\n",
      "epoch: 160 loss:0.368133 auc:0.9081\n",
      "epoch: 180 loss:0.366498 auc:0.9083\n",
      "epoch: 200 loss:0.363730 auc:0.9089\n",
      "epoch: 220 loss:0.359814 auc:0.9086\n"
     ]
    },
    {
     "name": "stderr",
     "output_type": "stream",
     "text": [
      " 17%|█▋        | 132/756 [23:43<1:44:27, 10.04s/it]"
     ]
    },
    {
     "name": "stdout",
     "output_type": "stream",
     "text": [
      "epoch: 240 loss:0.355640 auc:0.9060\n",
      "Fit finished.\n",
      "epoch:   0 loss:0.791460 auc:0.4198\n",
      "epoch:  20 loss:0.398971 auc:0.9628\n",
      "epoch:  40 loss:0.377372 auc:0.9652\n",
      "epoch:  60 loss:0.373594 auc:0.9648\n",
      "epoch:  80 loss:0.372159 auc:0.9647\n",
      "epoch: 100 loss:0.371327 auc:0.9646\n",
      "epoch: 120 loss:0.370556 auc:0.9645\n",
      "epoch: 140 loss:0.369477 auc:0.9645\n",
      "epoch: 160 loss:0.367508 auc:0.9638\n"
     ]
    },
    {
     "name": "stderr",
     "output_type": "stream",
     "text": [
      " 18%|█▊        | 133/756 [23:50<1:35:47,  9.23s/it]"
     ]
    },
    {
     "name": "stdout",
     "output_type": "stream",
     "text": [
      "epoch: 180 loss:0.363747 auc:0.9627\n",
      "Fit finished.\n",
      "epoch:   0 loss:0.762585 auc:0.4664\n",
      "epoch:  20 loss:0.407332 auc:0.9234\n",
      "epoch:  40 loss:0.379920 auc:0.9284\n",
      "epoch:  60 loss:0.373852 auc:0.9278\n",
      "epoch:  80 loss:0.372003 auc:0.9287\n",
      "epoch: 100 loss:0.371023 auc:0.9284\n",
      "epoch: 120 loss:0.370108 auc:0.9285\n",
      "epoch: 140 loss:0.368874 auc:0.9283\n",
      "epoch: 160 loss:0.366750 auc:0.9281\n",
      "epoch: 180 loss:0.362879 auc:0.9264\n"
     ]
    },
    {
     "name": "stderr",
     "output_type": "stream",
     "text": [
      " 18%|█▊        | 134/756 [23:59<1:32:59,  8.97s/it]"
     ]
    },
    {
     "name": "stdout",
     "output_type": "stream",
     "text": [
      "epoch: 200 loss:0.358582 auc:0.9243\n",
      "Fit finished.\n",
      "epoch:   0 loss:0.895828 auc:0.2419\n",
      "epoch:  20 loss:0.398479 auc:0.9175\n",
      "epoch:  40 loss:0.376837 auc:0.9255\n",
      "epoch:  60 loss:0.372871 auc:0.9245\n",
      "epoch:  80 loss:0.371436 auc:0.9249\n",
      "epoch: 100 loss:0.370428 auc:0.9245\n",
      "epoch: 120 loss:0.369284 auc:0.9245\n",
      "epoch: 140 loss:0.367381 auc:0.9243\n",
      "epoch: 160 loss:0.363566 auc:0.9237\n",
      "epoch: 180 loss:0.358090 auc:0.9227\n"
     ]
    },
    {
     "name": "stderr",
     "output_type": "stream",
     "text": [
      " 18%|█▊        | 135/756 [24:08<1:33:18,  9.02s/it]"
     ]
    },
    {
     "name": "stdout",
     "output_type": "stream",
     "text": [
      "epoch: 200 loss:0.352597 auc:0.9218\n",
      "Fit finished.\n",
      "epoch:   0 loss:0.869889 auc:0.4494\n",
      "epoch:  20 loss:0.400972 auc:0.9475\n",
      "epoch:  40 loss:0.377752 auc:0.9531\n",
      "epoch:  60 loss:0.372996 auc:0.9533\n",
      "epoch:  80 loss:0.371737 auc:0.9526\n",
      "epoch: 100 loss:0.371000 auc:0.9527\n",
      "epoch: 120 loss:0.370303 auc:0.9525\n",
      "epoch: 140 loss:0.369405 auc:0.9532\n",
      "epoch: 160 loss:0.367912 auc:0.9535\n",
      "epoch: 180 loss:0.364943 auc:0.9549\n",
      "epoch: 200 loss:0.360297 auc:0.9571\n",
      "epoch: 220 loss:0.355257 auc:0.9592\n",
      "epoch: 240 loss:0.349934 auc:0.9587\n",
      "epoch: 260 loss:0.342710 auc:0.9619\n",
      "epoch: 280 loss:0.334022 auc:0.9606\n",
      "epoch: 300 loss:0.325574 auc:0.9581\n"
     ]
    },
    {
     "name": "stderr",
     "output_type": "stream",
     "text": [
      " 18%|█▊        | 136/756 [24:20<1:42:00,  9.87s/it]"
     ]
    },
    {
     "name": "stdout",
     "output_type": "stream",
     "text": [
      "epoch: 320 loss:0.317880 auc:0.9476\n",
      "Fit finished.\n",
      "epoch:   0 loss:0.705891 auc:0.5181\n",
      "epoch:  20 loss:0.390274 auc:0.9337\n",
      "epoch:  40 loss:0.374898 auc:0.9401\n",
      "epoch:  60 loss:0.371425 auc:0.9390\n",
      "epoch:  80 loss:0.369973 auc:0.9391\n",
      "epoch: 100 loss:0.368134 auc:0.9385\n",
      "epoch: 120 loss:0.364705 auc:0.9386\n",
      "epoch: 140 loss:0.359133 auc:0.9362\n",
      "epoch: 160 loss:0.353559 auc:0.9328\n"
     ]
    },
    {
     "name": "stderr",
     "output_type": "stream",
     "text": [
      " 18%|█▊        | 137/756 [24:26<1:30:45,  8.80s/it]"
     ]
    },
    {
     "name": "stdout",
     "output_type": "stream",
     "text": [
      "epoch: 180 loss:0.348221 auc:0.9309\n",
      "Fit finished.\n",
      "epoch:   0 loss:0.856312 auc:0.5866\n",
      "epoch:  20 loss:0.401477 auc:0.9401\n",
      "epoch:  40 loss:0.378771 auc:0.9458\n",
      "epoch:  60 loss:0.373795 auc:0.9465\n",
      "epoch:  80 loss:0.371959 auc:0.9457\n",
      "epoch: 100 loss:0.371174 auc:0.9454\n",
      "epoch: 120 loss:0.370605 auc:0.9454\n",
      "epoch: 140 loss:0.370018 auc:0.9455\n",
      "epoch: 160 loss:0.369261 auc:0.9453\n",
      "epoch: 180 loss:0.368053 auc:0.9454\n"
     ]
    },
    {
     "name": "stderr",
     "output_type": "stream",
     "text": [
      " 18%|█▊        | 138/756 [24:34<1:28:07,  8.56s/it]"
     ]
    },
    {
     "name": "stdout",
     "output_type": "stream",
     "text": [
      "epoch: 200 loss:0.365696 auc:0.9452\n",
      "Fit finished.\n",
      "epoch:   0 loss:0.815662 auc:0.4293\n",
      "epoch:  20 loss:0.386898 auc:0.8929\n",
      "epoch:  40 loss:0.374680 auc:0.9014\n",
      "epoch:  60 loss:0.371385 auc:0.9013\n",
      "epoch:  80 loss:0.369931 auc:0.9014\n",
      "epoch: 100 loss:0.368016 auc:0.9014\n",
      "epoch: 120 loss:0.364048 auc:0.9014\n",
      "epoch: 140 loss:0.358161 auc:0.9030\n",
      "epoch: 160 loss:0.352072 auc:0.9045\n",
      "epoch: 180 loss:0.345286 auc:0.9033\n"
     ]
    },
    {
     "name": "stderr",
     "output_type": "stream",
     "text": [
      " 18%|█▊        | 139/756 [24:42<1:26:54,  8.45s/it]"
     ]
    },
    {
     "name": "stdout",
     "output_type": "stream",
     "text": [
      "epoch: 200 loss:0.335050 auc:0.8989\n",
      "Fit finished.\n",
      "epoch:   0 loss:0.933973 auc:0.4228\n",
      "epoch:  20 loss:0.402081 auc:0.9150\n",
      "epoch:  40 loss:0.378463 auc:0.9165\n",
      "epoch:  60 loss:0.372927 auc:0.9164\n",
      "epoch:  80 loss:0.371389 auc:0.9168\n",
      "epoch: 100 loss:0.370502 auc:0.9168\n",
      "epoch: 120 loss:0.369636 auc:0.9171\n",
      "epoch: 140 loss:0.368458 auc:0.9177\n",
      "epoch: 160 loss:0.366319 auc:0.9181\n",
      "epoch: 180 loss:0.362064 auc:0.9192\n",
      "epoch: 200 loss:0.357195 auc:0.9211\n",
      "epoch: 220 loss:0.352630 auc:0.9216\n",
      "epoch: 240 loss:0.348473 auc:0.9188\n"
     ]
    },
    {
     "name": "stderr",
     "output_type": "stream",
     "text": [
      " 19%|█▊        | 140/756 [24:54<1:37:53,  9.53s/it]"
     ]
    },
    {
     "name": "stdout",
     "output_type": "stream",
     "text": [
      "epoch: 260 loss:0.341600 auc:0.9139\n",
      "Fit finished.\n",
      "epoch:   0 loss:0.772687 auc:0.4379\n",
      "epoch:  20 loss:0.387333 auc:0.9081\n",
      "epoch:  40 loss:0.376625 auc:0.9134\n",
      "epoch:  60 loss:0.372733 auc:0.9144\n",
      "epoch:  80 loss:0.371402 auc:0.9137\n",
      "epoch: 100 loss:0.370517 auc:0.9137\n",
      "epoch: 120 loss:0.369428 auc:0.9134\n",
      "epoch: 140 loss:0.367587 auc:0.9135\n",
      "epoch: 160 loss:0.364150 auc:0.9146\n",
      "epoch: 180 loss:0.359443 auc:0.9145\n",
      "epoch: 200 loss:0.354827 auc:0.9145\n"
     ]
    },
    {
     "name": "stderr",
     "output_type": "stream",
     "text": [
      " 19%|█▊        | 141/756 [25:03<1:33:46,  9.15s/it]"
     ]
    },
    {
     "name": "stdout",
     "output_type": "stream",
     "text": [
      "epoch: 220 loss:0.349804 auc:0.9117\n",
      "Fit finished.\n",
      "epoch:   0 loss:0.756545 auc:0.4572\n",
      "epoch:  20 loss:0.390416 auc:0.8421\n",
      "epoch:  40 loss:0.375424 auc:0.8482\n",
      "epoch:  60 loss:0.372364 auc:0.8492\n",
      "epoch:  80 loss:0.371058 auc:0.8485\n",
      "epoch: 100 loss:0.370106 auc:0.8489\n",
      "epoch: 120 loss:0.368931 auc:0.8489\n",
      "epoch: 140 loss:0.366904 auc:0.8501\n",
      "epoch: 160 loss:0.363026 auc:0.8526\n",
      "epoch: 180 loss:0.358095 auc:0.8557\n",
      "epoch: 200 loss:0.352800 auc:0.8575\n",
      "epoch: 220 loss:0.347852 auc:0.8590\n",
      "epoch: 240 loss:0.339881 auc:0.8622\n",
      "epoch: 260 loss:0.334856 auc:0.8603\n",
      "epoch: 280 loss:0.325301 auc:0.8628\n",
      "epoch: 300 loss:0.316357 auc:0.8587\n"
     ]
    },
    {
     "name": "stderr",
     "output_type": "stream",
     "text": [
      " 19%|█▉        | 142/756 [25:14<1:41:33,  9.92s/it]"
     ]
    },
    {
     "name": "stdout",
     "output_type": "stream",
     "text": [
      "epoch: 320 loss:0.309040 auc:0.8485\n",
      "Fit finished.\n",
      "epoch:   0 loss:0.943357 auc:0.5312\n",
      "epoch:  20 loss:0.431827 auc:0.9202\n",
      "epoch:  40 loss:0.385393 auc:0.9254\n",
      "epoch:  60 loss:0.374783 auc:0.9259\n",
      "epoch:  80 loss:0.372450 auc:0.9278\n",
      "epoch: 100 loss:0.371580 auc:0.9274\n",
      "epoch: 120 loss:0.371068 auc:0.9275\n",
      "epoch: 140 loss:0.370612 auc:0.9275\n",
      "epoch: 160 loss:0.370103 auc:0.9275\n",
      "epoch: 180 loss:0.369455 auc:0.9275\n",
      "epoch: 200 loss:0.368519 auc:0.9278\n",
      "epoch: 220 loss:0.366933 auc:0.9271\n"
     ]
    },
    {
     "name": "stderr",
     "output_type": "stream",
     "text": [
      " 19%|█▉        | 143/756 [25:23<1:37:21,  9.53s/it]"
     ]
    },
    {
     "name": "stdout",
     "output_type": "stream",
     "text": [
      "epoch: 240 loss:0.363971 auc:0.9262\n",
      "Fit finished.\n",
      "epoch:   0 loss:0.777800 auc:0.4315\n",
      "epoch:  20 loss:0.394313 auc:0.8990\n",
      "epoch:  40 loss:0.375848 auc:0.9082\n",
      "epoch:  60 loss:0.372189 auc:0.9077\n",
      "epoch:  80 loss:0.370885 auc:0.9088\n",
      "epoch: 100 loss:0.369814 auc:0.9085\n",
      "epoch: 120 loss:0.368281 auc:0.9083\n",
      "epoch: 140 loss:0.365063 auc:0.9075\n",
      "epoch: 160 loss:0.358648 auc:0.9061\n",
      "epoch: 180 loss:0.350602 auc:0.9049\n"
     ]
    },
    {
     "name": "stderr",
     "output_type": "stream",
     "text": [
      " 19%|█▉        | 144/756 [25:30<1:29:07,  8.74s/it]"
     ]
    },
    {
     "name": "stdout",
     "output_type": "stream",
     "text": [
      "epoch: 200 loss:0.340205 auc:0.8963\n",
      "Fit finished.\n",
      "epoch:   0 loss:0.752219 auc:0.6183\n",
      "epoch:  20 loss:0.391804 auc:0.9645\n",
      "epoch:  40 loss:0.375690 auc:0.9675\n",
      "epoch:  60 loss:0.372388 auc:0.9688\n",
      "epoch:  80 loss:0.371229 auc:0.9686\n",
      "epoch: 100 loss:0.370292 auc:0.9687\n",
      "epoch: 120 loss:0.369047 auc:0.9690\n",
      "epoch: 140 loss:0.366854 auc:0.9691\n",
      "epoch: 160 loss:0.362908 auc:0.9699\n",
      "epoch: 180 loss:0.358253 auc:0.9712\n",
      "epoch: 200 loss:0.353584 auc:0.9707\n",
      "epoch: 220 loss:0.347839 auc:0.9695\n",
      "epoch: 240 loss:0.344717 auc:0.9686\n"
     ]
    },
    {
     "name": "stderr",
     "output_type": "stream",
     "text": [
      " 19%|█▉        | 145/756 [25:39<1:31:49,  9.02s/it]"
     ]
    },
    {
     "name": "stdout",
     "output_type": "stream",
     "text": [
      "epoch: 260 loss:0.330276 auc:0.9673\n",
      "Fit finished.\n",
      "epoch:   0 loss:0.733967 auc:0.4800\n",
      "epoch:  20 loss:0.383342 auc:0.9382\n",
      "epoch:  40 loss:0.373123 auc:0.9393\n",
      "epoch:  60 loss:0.370862 auc:0.9397\n",
      "epoch:  80 loss:0.368517 auc:0.9392\n",
      "epoch: 100 loss:0.363932 auc:0.9410\n",
      "epoch: 120 loss:0.356663 auc:0.9433\n",
      "epoch: 140 loss:0.348877 auc:0.9441\n",
      "epoch: 160 loss:0.339961 auc:0.9360\n"
     ]
    },
    {
     "name": "stderr",
     "output_type": "stream",
     "text": [
      " 19%|█▉        | 146/756 [25:47<1:26:04,  8.47s/it]"
     ]
    },
    {
     "name": "stdout",
     "output_type": "stream",
     "text": [
      "epoch: 180 loss:0.328159 auc:0.9298\n",
      "Fit finished.\n",
      "epoch:   0 loss:0.782773 auc:0.4790\n",
      "epoch:  20 loss:0.397194 auc:0.8894\n",
      "epoch:  40 loss:0.377452 auc:0.8951\n",
      "epoch:  60 loss:0.372670 auc:0.8954\n",
      "epoch:  80 loss:0.371158 auc:0.8957\n",
      "epoch: 100 loss:0.370086 auc:0.8960\n",
      "epoch: 120 loss:0.368784 auc:0.8962\n",
      "epoch: 140 loss:0.366606 auc:0.8969\n",
      "epoch: 160 loss:0.362817 auc:0.8978\n",
      "epoch: 180 loss:0.358328 auc:0.9004\n",
      "epoch: 200 loss:0.353814 auc:0.9025\n",
      "epoch: 220 loss:0.348245 auc:0.9035\n",
      "epoch: 240 loss:0.343470 auc:0.8983\n"
     ]
    },
    {
     "name": "stderr",
     "output_type": "stream",
     "text": [
      " 19%|█▉        | 147/756 [25:58<1:33:26,  9.21s/it]"
     ]
    },
    {
     "name": "stdout",
     "output_type": "stream",
     "text": [
      "epoch: 260 loss:0.331761 auc:0.8948\n",
      "Fit finished.\n",
      "epoch:   0 loss:0.763031 auc:0.4480\n",
      "epoch:  20 loss:0.406540 auc:0.9398\n",
      "epoch:  40 loss:0.380218 auc:0.9436\n",
      "epoch:  60 loss:0.374219 auc:0.9428\n",
      "epoch:  80 loss:0.372365 auc:0.9437\n",
      "epoch: 100 loss:0.371488 auc:0.9431\n",
      "epoch: 120 loss:0.370793 auc:0.9432\n",
      "epoch: 140 loss:0.369954 auc:0.9431\n",
      "epoch: 160 loss:0.368645 auc:0.9433\n",
      "epoch: 180 loss:0.366149 auc:0.9448\n",
      "epoch: 200 loss:0.361723 auc:0.9470\n",
      "epoch: 220 loss:0.356914 auc:0.9502\n",
      "epoch: 240 loss:0.352243 auc:0.9522\n",
      "epoch: 260 loss:0.347380 auc:0.9521\n",
      "epoch: 280 loss:0.341900 auc:0.9442\n"
     ]
    },
    {
     "name": "stderr",
     "output_type": "stream",
     "text": [
      " 20%|█▉        | 148/756 [26:09<1:39:51,  9.85s/it]"
     ]
    },
    {
     "name": "stdout",
     "output_type": "stream",
     "text": [
      "epoch: 300 loss:0.335164 auc:0.9357\n",
      "Fit finished.\n",
      "epoch:   0 loss:0.751040 auc:0.4518\n",
      "epoch:  20 loss:0.389738 auc:0.8339\n",
      "epoch:  40 loss:0.374570 auc:0.8377\n",
      "epoch:  60 loss:0.371786 auc:0.8371\n",
      "epoch:  80 loss:0.370627 auc:0.8374\n",
      "epoch: 100 loss:0.369731 auc:0.8377\n",
      "epoch: 120 loss:0.368614 auc:0.8374\n",
      "epoch: 140 loss:0.366663 auc:0.8354\n",
      "epoch: 160 loss:0.362430 auc:0.8312\n"
     ]
    },
    {
     "name": "stderr",
     "output_type": "stream",
     "text": [
      " 20%|█▉        | 149/756 [26:16<1:32:28,  9.14s/it]"
     ]
    },
    {
     "name": "stdout",
     "output_type": "stream",
     "text": [
      "epoch: 180 loss:0.357922 auc:0.8207\n",
      "Fit finished.\n",
      "epoch:   0 loss:0.790130 auc:0.4823\n",
      "epoch:  20 loss:0.394379 auc:0.8469\n",
      "epoch:  40 loss:0.376135 auc:0.8534\n",
      "epoch:  60 loss:0.372621 auc:0.8544\n",
      "epoch:  80 loss:0.371356 auc:0.8548\n",
      "epoch: 100 loss:0.370513 auc:0.8544\n",
      "epoch: 120 loss:0.369605 auc:0.8550\n",
      "epoch: 140 loss:0.368353 auc:0.8549\n",
      "epoch: 160 loss:0.366245 auc:0.8535\n",
      "epoch: 180 loss:0.362503 auc:0.8528\n"
     ]
    },
    {
     "name": "stderr",
     "output_type": "stream",
     "text": [
      " 20%|█▉        | 150/756 [26:24<1:26:30,  8.56s/it]"
     ]
    },
    {
     "name": "stdout",
     "output_type": "stream",
     "text": [
      "epoch: 200 loss:0.357970 auc:0.8504\n",
      "Fit finished.\n",
      "epoch:   0 loss:0.801006 auc:0.4793\n",
      "epoch:  20 loss:0.385369 auc:0.9364\n",
      "epoch:  40 loss:0.373337 auc:0.9375\n",
      "epoch:  60 loss:0.370790 auc:0.9376\n",
      "epoch:  80 loss:0.368927 auc:0.9365\n",
      "epoch: 100 loss:0.365701 auc:0.9354\n",
      "epoch: 120 loss:0.359671 auc:0.9328\n",
      "epoch: 140 loss:0.351690 auc:0.9327\n",
      "epoch: 160 loss:0.342549 auc:0.9364\n",
      "epoch: 180 loss:0.330401 auc:0.9483\n",
      "epoch: 200 loss:0.318929 auc:0.9399\n"
     ]
    },
    {
     "name": "stderr",
     "output_type": "stream",
     "text": [
      " 20%|█▉        | 151/756 [26:33<1:29:49,  8.91s/it]"
     ]
    },
    {
     "name": "stdout",
     "output_type": "stream",
     "text": [
      "epoch: 220 loss:0.310325 auc:0.9279\n",
      "Fit finished.\n",
      "epoch:   0 loss:0.766745 auc:0.3899\n",
      "epoch:  20 loss:0.392728 auc:0.9136\n",
      "epoch:  40 loss:0.375644 auc:0.9169\n",
      "epoch:  60 loss:0.372088 auc:0.9177\n",
      "epoch:  80 loss:0.370941 auc:0.9171\n",
      "epoch: 100 loss:0.369884 auc:0.9171\n",
      "epoch: 120 loss:0.368251 auc:0.9167\n",
      "epoch: 140 loss:0.364675 auc:0.9160\n",
      "epoch: 160 loss:0.358735 auc:0.9147\n",
      "epoch: 180 loss:0.352209 auc:0.9150\n"
     ]
    },
    {
     "name": "stderr",
     "output_type": "stream",
     "text": [
      " 20%|██        | 152/756 [26:41<1:27:13,  8.67s/it]"
     ]
    },
    {
     "name": "stdout",
     "output_type": "stream",
     "text": [
      "epoch: 200 loss:0.345289 auc:0.9154\n",
      "Fit finished.\n",
      "epoch:   0 loss:0.726635 auc:0.4655\n",
      "epoch:  20 loss:0.385751 auc:0.9702\n",
      "epoch:  40 loss:0.375073 auc:0.9717\n",
      "epoch:  60 loss:0.371782 auc:0.9715\n",
      "epoch:  80 loss:0.370445 auc:0.9718\n",
      "epoch: 100 loss:0.369055 auc:0.9720\n",
      "epoch: 120 loss:0.366606 auc:0.9723\n",
      "epoch: 140 loss:0.361493 auc:0.9737\n",
      "epoch: 160 loss:0.354287 auc:0.9743\n",
      "epoch: 180 loss:0.347242 auc:0.9741\n",
      "epoch: 200 loss:0.336887 auc:0.9736\n",
      "epoch: 220 loss:0.329230 auc:0.9743\n",
      "epoch: 240 loss:0.320322 auc:0.9734\n"
     ]
    },
    {
     "name": "stderr",
     "output_type": "stream",
     "text": [
      " 20%|██        | 153/756 [26:51<1:29:42,  8.93s/it]"
     ]
    },
    {
     "name": "stdout",
     "output_type": "stream",
     "text": [
      "epoch: 260 loss:0.316247 auc:0.9635\n",
      "Fit finished.\n",
      "epoch:   0 loss:0.797671 auc:0.5662\n",
      "epoch:  20 loss:0.394190 auc:0.9186\n",
      "epoch:  40 loss:0.377972 auc:0.9200\n",
      "epoch:  60 loss:0.373266 auc:0.9213\n",
      "epoch:  80 loss:0.371798 auc:0.9222\n",
      "epoch: 100 loss:0.370935 auc:0.9222\n",
      "epoch: 120 loss:0.370029 auc:0.9222\n",
      "epoch: 140 loss:0.368702 auc:0.9224\n",
      "epoch: 160 loss:0.366074 auc:0.9225\n",
      "epoch: 180 loss:0.361111 auc:0.9233\n",
      "epoch: 200 loss:0.355497 auc:0.9249\n",
      "epoch: 220 loss:0.351188 auc:0.9258\n",
      "epoch: 240 loss:0.341445 auc:0.9282\n",
      "epoch: 260 loss:0.333475 auc:0.9331\n",
      "epoch: 280 loss:0.326097 auc:0.9359\n"
     ]
    },
    {
     "name": "stderr",
     "output_type": "stream",
     "text": [
      " 20%|██        | 154/756 [27:03<1:39:43,  9.94s/it]"
     ]
    },
    {
     "name": "stdout",
     "output_type": "stream",
     "text": [
      "epoch: 300 loss:0.318223 auc:0.9181\n",
      "Fit finished.\n",
      "epoch:   0 loss:0.826744 auc:0.4157\n",
      "epoch:  20 loss:0.387015 auc:0.9106\n",
      "epoch:  40 loss:0.376664 auc:0.9143\n",
      "epoch:  60 loss:0.372618 auc:0.9152\n",
      "epoch:  80 loss:0.371321 auc:0.9150\n",
      "epoch: 100 loss:0.370360 auc:0.9146\n",
      "epoch: 120 loss:0.369097 auc:0.9142\n",
      "epoch: 140 loss:0.366811 auc:0.9132\n",
      "epoch: 160 loss:0.362087 auc:0.9106\n"
     ]
    },
    {
     "name": "stderr",
     "output_type": "stream",
     "text": [
      " 21%|██        | 155/756 [27:11<1:33:30,  9.33s/it]"
     ]
    },
    {
     "name": "stdout",
     "output_type": "stream",
     "text": [
      "epoch: 180 loss:0.355821 auc:0.9054\n",
      "Fit finished.\n",
      "epoch:   0 loss:0.746502 auc:0.5854\n",
      "epoch:  20 loss:0.406607 auc:0.9437\n",
      "epoch:  40 loss:0.379329 auc:0.9474\n",
      "epoch:  60 loss:0.373713 auc:0.9460\n",
      "epoch:  80 loss:0.371754 auc:0.9446\n",
      "epoch: 100 loss:0.370795 auc:0.9452\n",
      "epoch: 120 loss:0.369843 auc:0.9452\n",
      "epoch: 140 loss:0.368445 auc:0.9453\n",
      "epoch: 160 loss:0.365795 auc:0.9456\n",
      "epoch: 180 loss:0.361021 auc:0.9458\n"
     ]
    },
    {
     "name": "stderr",
     "output_type": "stream",
     "text": [
      " 21%|██        | 156/756 [27:19<1:29:32,  8.95s/it]"
     ]
    },
    {
     "name": "stdout",
     "output_type": "stream",
     "text": [
      "epoch: 200 loss:0.356215 auc:0.9456\n",
      "Fit finished.\n",
      "epoch:   0 loss:0.877230 auc:0.4013\n",
      "epoch:  20 loss:0.398607 auc:0.8754\n",
      "epoch:  40 loss:0.376091 auc:0.8780\n",
      "epoch:  60 loss:0.372569 auc:0.8777\n",
      "epoch:  80 loss:0.371435 auc:0.8780\n",
      "epoch: 100 loss:0.370740 auc:0.8782\n",
      "epoch: 120 loss:0.369999 auc:0.8782\n",
      "epoch: 140 loss:0.368979 auc:0.8776\n",
      "epoch: 160 loss:0.367289 auc:0.8768\n",
      "epoch: 180 loss:0.364134 auc:0.8767\n"
     ]
    },
    {
     "name": "stderr",
     "output_type": "stream",
     "text": [
      " 21%|██        | 157/756 [27:27<1:26:09,  8.63s/it]"
     ]
    },
    {
     "name": "stdout",
     "output_type": "stream",
     "text": [
      "epoch: 200 loss:0.359210 auc:0.8756\n",
      "Fit finished.\n",
      "epoch:   0 loss:0.776116 auc:0.4000\n",
      "epoch:  20 loss:0.395338 auc:0.8854\n",
      "epoch:  40 loss:0.375999 auc:0.8943\n",
      "epoch:  60 loss:0.372211 auc:0.8961\n",
      "epoch:  80 loss:0.370785 auc:0.8957\n",
      "epoch: 100 loss:0.369717 auc:0.8960\n",
      "epoch: 120 loss:0.368299 auc:0.8957\n",
      "epoch: 140 loss:0.365678 auc:0.8956\n",
      "epoch: 160 loss:0.361005 auc:0.8949\n",
      "epoch: 180 loss:0.355915 auc:0.8921\n"
     ]
    },
    {
     "name": "stderr",
     "output_type": "stream",
     "text": [
      " 21%|██        | 158/756 [27:36<1:26:34,  8.69s/it]"
     ]
    },
    {
     "name": "stdout",
     "output_type": "stream",
     "text": [
      "epoch: 200 loss:0.350789 auc:0.8869\n",
      "Fit finished.\n",
      "epoch:   0 loss:0.931952 auc:0.6766\n",
      "epoch:  20 loss:0.429165 auc:0.9343\n",
      "epoch:  40 loss:0.385293 auc:0.9403\n",
      "epoch:  60 loss:0.374812 auc:0.9420\n",
      "epoch:  80 loss:0.372347 auc:0.9431\n",
      "epoch: 100 loss:0.371381 auc:0.9435\n",
      "epoch: 120 loss:0.370710 auc:0.9437\n",
      "epoch: 140 loss:0.370045 auc:0.9437\n",
      "epoch: 160 loss:0.369243 auc:0.9437\n",
      "epoch: 180 loss:0.368108 auc:0.9436\n",
      "epoch: 200 loss:0.366292 auc:0.9440\n",
      "epoch: 220 loss:0.363473 auc:0.9437\n"
     ]
    },
    {
     "name": "stderr",
     "output_type": "stream",
     "text": [
      " 21%|██        | 159/756 [27:45<1:27:33,  8.80s/it]"
     ]
    },
    {
     "name": "stdout",
     "output_type": "stream",
     "text": [
      "epoch: 240 loss:0.360209 auc:0.9427\n",
      "Fit finished.\n",
      "epoch:   0 loss:0.738152 auc:0.5540\n",
      "epoch:  20 loss:0.389345 auc:0.9210\n",
      "epoch:  40 loss:0.374458 auc:0.9215\n",
      "epoch:  60 loss:0.372000 auc:0.9223\n",
      "epoch:  80 loss:0.370835 auc:0.9227\n",
      "epoch: 100 loss:0.369621 auc:0.9224\n",
      "epoch: 120 loss:0.367313 auc:0.9220\n",
      "epoch: 140 loss:0.362019 auc:0.9217\n",
      "epoch: 160 loss:0.354989 auc:0.9212\n"
     ]
    },
    {
     "name": "stderr",
     "output_type": "stream",
     "text": [
      " 21%|██        | 160/756 [27:53<1:24:52,  8.54s/it]"
     ]
    },
    {
     "name": "stdout",
     "output_type": "stream",
     "text": [
      "epoch: 180 loss:0.347900 auc:0.9194\n",
      "Fit finished.\n",
      "epoch:   0 loss:0.983428 auc:0.5180\n",
      "epoch:  20 loss:0.403183 auc:0.9162\n",
      "epoch:  40 loss:0.378783 auc:0.9220\n",
      "epoch:  60 loss:0.373473 auc:0.9244\n",
      "epoch:  80 loss:0.371656 auc:0.9242\n",
      "epoch: 100 loss:0.370691 auc:0.9239\n",
      "epoch: 120 loss:0.369802 auc:0.9240\n",
      "epoch: 140 loss:0.368665 auc:0.9239\n",
      "epoch: 160 loss:0.366799 auc:0.9236\n",
      "epoch: 180 loss:0.363308 auc:0.9229\n"
     ]
    },
    {
     "name": "stderr",
     "output_type": "stream",
     "text": [
      " 21%|██▏       | 161/756 [28:01<1:22:52,  8.36s/it]"
     ]
    },
    {
     "name": "stdout",
     "output_type": "stream",
     "text": [
      "epoch: 200 loss:0.358852 auc:0.9218\n",
      "Fit finished.\n",
      "epoch:   0 loss:0.785171 auc:0.5825\n",
      "epoch:  20 loss:0.405649 auc:0.9265\n",
      "epoch:  40 loss:0.377761 auc:0.9268\n",
      "epoch:  60 loss:0.373237 auc:0.9279\n",
      "epoch:  80 loss:0.371579 auc:0.9281\n",
      "epoch: 100 loss:0.370599 auc:0.9279\n",
      "epoch: 120 loss:0.369634 auc:0.9284\n",
      "epoch: 140 loss:0.368357 auc:0.9287\n",
      "epoch: 160 loss:0.366370 auc:0.9292\n",
      "epoch: 180 loss:0.363093 auc:0.9298\n",
      "epoch: 200 loss:0.358533 auc:0.9313\n",
      "epoch: 220 loss:0.353573 auc:0.9320\n",
      "epoch: 240 loss:0.347665 auc:0.9334\n",
      "epoch: 260 loss:0.339235 auc:0.9354\n",
      "epoch: 280 loss:0.328896 auc:0.9369\n"
     ]
    },
    {
     "name": "stderr",
     "output_type": "stream",
     "text": [
      " 21%|██▏       | 162/756 [28:12<1:30:46,  9.17s/it]"
     ]
    },
    {
     "name": "stdout",
     "output_type": "stream",
     "text": [
      "epoch: 300 loss:0.318559 auc:0.9265\n",
      "Fit finished.\n",
      "epoch:   0 loss:0.813334 auc:0.5318\n",
      "epoch:  20 loss:0.424484 auc:0.9496\n",
      "epoch:  40 loss:0.384760 auc:0.9506\n",
      "epoch:  60 loss:0.375002 auc:0.9479\n",
      "epoch:  80 loss:0.372636 auc:0.9479\n",
      "epoch: 100 loss:0.371675 auc:0.9479\n",
      "epoch: 120 loss:0.370982 auc:0.9478\n",
      "epoch: 140 loss:0.370159 auc:0.9479\n",
      "epoch: 160 loss:0.368917 auc:0.9481\n"
     ]
    },
    {
     "name": "stderr",
     "output_type": "stream",
     "text": [
      " 22%|██▏       | 163/756 [28:19<1:24:05,  8.51s/it]"
     ]
    },
    {
     "name": "stdout",
     "output_type": "stream",
     "text": [
      "epoch: 180 loss:0.366731 auc:0.9485\n",
      "Fit finished.\n",
      "epoch:   0 loss:0.702425 auc:0.4791\n",
      "epoch:  20 loss:0.396494 auc:0.7857\n",
      "epoch:  40 loss:0.376771 auc:0.7920\n",
      "epoch:  60 loss:0.372720 auc:0.7910\n",
      "epoch:  80 loss:0.371318 auc:0.7921\n",
      "epoch: 100 loss:0.370462 auc:0.7922\n",
      "epoch: 120 loss:0.369536 auc:0.7917\n",
      "epoch: 140 loss:0.368118 auc:0.7914\n",
      "epoch: 160 loss:0.365450 auc:0.7902\n",
      "epoch: 180 loss:0.360874 auc:0.7863\n"
     ]
    },
    {
     "name": "stderr",
     "output_type": "stream",
     "text": [
      " 22%|██▏       | 164/756 [28:28<1:25:46,  8.69s/it]"
     ]
    },
    {
     "name": "stdout",
     "output_type": "stream",
     "text": [
      "epoch: 200 loss:0.355895 auc:0.7823\n",
      "Fit finished.\n",
      "epoch:   0 loss:0.867885 auc:0.4903\n",
      "epoch:  20 loss:0.394595 auc:0.9526\n",
      "epoch:  40 loss:0.377346 auc:0.9543\n",
      "epoch:  60 loss:0.372844 auc:0.9551\n",
      "epoch:  80 loss:0.371629 auc:0.9546\n",
      "epoch: 100 loss:0.370882 auc:0.9551\n",
      "epoch: 120 loss:0.370115 auc:0.9555\n",
      "epoch: 140 loss:0.369065 auc:0.9555\n",
      "epoch: 160 loss:0.367258 auc:0.9554\n",
      "epoch: 180 loss:0.363768 auc:0.9560\n",
      "epoch: 200 loss:0.358537 auc:0.9581\n",
      "epoch: 220 loss:0.353804 auc:0.9601\n",
      "epoch: 240 loss:0.346750 auc:0.9609\n",
      "epoch: 260 loss:0.337731 auc:0.9623\n",
      "epoch: 280 loss:0.328068 auc:0.9653\n",
      "epoch: 300 loss:0.318360 auc:0.9665\n",
      "epoch: 320 loss:0.311040 auc:0.9610\n"
     ]
    },
    {
     "name": "stderr",
     "output_type": "stream",
     "text": [
      " 22%|██▏       | 165/756 [28:40<1:35:34,  9.70s/it]"
     ]
    },
    {
     "name": "stdout",
     "output_type": "stream",
     "text": [
      "epoch: 340 loss:0.311513 auc:0.9469\n",
      "Fit finished.\n",
      "epoch:   0 loss:0.768403 auc:0.4669\n",
      "epoch:  20 loss:0.390445 auc:0.8269\n",
      "epoch:  40 loss:0.377401 auc:0.8252\n",
      "epoch:  60 loss:0.372830 auc:0.8266\n",
      "epoch:  80 loss:0.371507 auc:0.8257\n",
      "epoch: 100 loss:0.370762 auc:0.8258\n",
      "epoch: 120 loss:0.370087 auc:0.8259\n",
      "epoch: 140 loss:0.369262 auc:0.8259\n",
      "epoch: 160 loss:0.368030 auc:0.8259\n"
     ]
    },
    {
     "name": "stderr",
     "output_type": "stream",
     "text": [
      " 22%|██▏       | 166/756 [28:47<1:26:39,  8.81s/it]"
     ]
    },
    {
     "name": "stdout",
     "output_type": "stream",
     "text": [
      "epoch: 180 loss:0.365796 auc:0.8254\n",
      "Fit finished.\n",
      "epoch:   0 loss:1.095212 auc:0.4017\n",
      "epoch:  20 loss:0.416280 auc:0.8991\n",
      "epoch:  40 loss:0.382163 auc:0.9063\n",
      "epoch:  60 loss:0.374235 auc:0.9072\n",
      "epoch:  80 loss:0.372409 auc:0.9063\n",
      "epoch: 100 loss:0.371625 auc:0.9064\n",
      "epoch: 120 loss:0.371017 auc:0.9063\n",
      "epoch: 140 loss:0.370376 auc:0.9063\n",
      "epoch: 160 loss:0.369575 auc:0.9064\n",
      "epoch: 180 loss:0.368490 auc:0.9061\n"
     ]
    },
    {
     "name": "stderr",
     "output_type": "stream",
     "text": [
      " 22%|██▏       | 167/756 [28:55<1:23:14,  8.48s/it]"
     ]
    },
    {
     "name": "stdout",
     "output_type": "stream",
     "text": [
      "epoch: 200 loss:0.366914 auc:0.9060\n",
      "Fit finished.\n",
      "epoch:   0 loss:0.807491 auc:0.5200\n",
      "epoch:  20 loss:0.389809 auc:0.9487\n",
      "epoch:  40 loss:0.375324 auc:0.9536\n",
      "epoch:  60 loss:0.372377 auc:0.9573\n",
      "epoch:  80 loss:0.371199 auc:0.9568\n",
      "epoch: 100 loss:0.370332 auc:0.9568\n",
      "epoch: 120 loss:0.369189 auc:0.9569\n",
      "epoch: 140 loss:0.366972 auc:0.9570\n",
      "epoch: 160 loss:0.362099 auc:0.9576\n",
      "epoch: 180 loss:0.356081 auc:0.9608\n",
      "epoch: 200 loss:0.351214 auc:0.9640\n",
      "epoch: 220 loss:0.342716 auc:0.9655\n",
      "epoch: 240 loss:0.332983 auc:0.9580\n"
     ]
    },
    {
     "name": "stderr",
     "output_type": "stream",
     "text": [
      " 22%|██▏       | 168/756 [29:05<1:28:34,  9.04s/it]"
     ]
    },
    {
     "name": "stdout",
     "output_type": "stream",
     "text": [
      "epoch: 260 loss:0.323523 auc:0.9513\n",
      "Fit finished.\n",
      "epoch:   0 loss:0.850197 auc:0.2692\n",
      "epoch:  20 loss:0.389735 auc:0.9359\n",
      "epoch:  40 loss:0.374593 auc:0.9356\n",
      "epoch:  60 loss:0.372430 auc:0.9357\n",
      "epoch:  80 loss:0.371357 auc:0.9360\n",
      "epoch: 100 loss:0.370478 auc:0.9358\n",
      "epoch: 120 loss:0.369257 auc:0.9355\n",
      "epoch: 140 loss:0.367119 auc:0.9348\n",
      "epoch: 160 loss:0.363115 auc:0.9332\n"
     ]
    },
    {
     "name": "stderr",
     "output_type": "stream",
     "text": [
      " 22%|██▏       | 169/756 [29:12<1:23:35,  8.54s/it]"
     ]
    },
    {
     "name": "stdout",
     "output_type": "stream",
     "text": [
      "epoch: 180 loss:0.357996 auc:0.9299\n",
      "Fit finished.\n",
      "epoch:   0 loss:0.861609 auc:0.4391\n",
      "epoch:  20 loss:0.403009 auc:0.9336\n",
      "epoch:  40 loss:0.378904 auc:0.9350\n",
      "epoch:  60 loss:0.373412 auc:0.9340\n",
      "epoch:  80 loss:0.371819 auc:0.9343\n",
      "epoch: 100 loss:0.371015 auc:0.9340\n",
      "epoch: 120 loss:0.370353 auc:0.9343\n",
      "epoch: 140 loss:0.369579 auc:0.9337\n",
      "epoch: 160 loss:0.368458 auc:0.9334\n"
     ]
    },
    {
     "name": "stderr",
     "output_type": "stream",
     "text": [
      " 22%|██▏       | 170/756 [29:18<1:16:31,  7.83s/it]"
     ]
    },
    {
     "name": "stdout",
     "output_type": "stream",
     "text": [
      "epoch: 180 loss:0.366501 auc:0.9331\n",
      "Fit finished.\n",
      "epoch:   0 loss:0.779546 auc:0.4217\n",
      "epoch:  20 loss:0.391008 auc:0.8771\n",
      "epoch:  40 loss:0.375891 auc:0.8810\n",
      "epoch:  60 loss:0.372260 auc:0.8808\n",
      "epoch:  80 loss:0.371263 auc:0.8813\n",
      "epoch: 100 loss:0.370471 auc:0.8805\n",
      "epoch: 120 loss:0.369482 auc:0.8804\n",
      "epoch: 140 loss:0.367916 auc:0.8798\n",
      "epoch: 160 loss:0.365063 auc:0.8785\n"
     ]
    },
    {
     "name": "stderr",
     "output_type": "stream",
     "text": [
      " 23%|██▎       | 171/756 [29:24<1:10:56,  7.28s/it]"
     ]
    },
    {
     "name": "stdout",
     "output_type": "stream",
     "text": [
      "epoch: 180 loss:0.360102 auc:0.8756\n",
      "Fit finished.\n",
      "epoch:   0 loss:0.848684 auc:0.6166\n",
      "epoch:  20 loss:0.402551 auc:0.9120\n",
      "epoch:  40 loss:0.378310 auc:0.9219\n",
      "epoch:  60 loss:0.373098 auc:0.9220\n",
      "epoch:  80 loss:0.371349 auc:0.9230\n",
      "epoch: 100 loss:0.370298 auc:0.9228\n",
      "epoch: 120 loss:0.369101 auc:0.9223\n",
      "epoch: 140 loss:0.367478 auc:0.9215\n",
      "epoch: 160 loss:0.364757 auc:0.9199\n",
      "epoch: 180 loss:0.360258 auc:0.9167\n"
     ]
    },
    {
     "name": "stderr",
     "output_type": "stream",
     "text": [
      " 23%|██▎       | 172/756 [29:34<1:16:02,  7.81s/it]"
     ]
    },
    {
     "name": "stdout",
     "output_type": "stream",
     "text": [
      "epoch: 200 loss:0.356228 auc:0.9135\n",
      "Fit finished.\n",
      "epoch:   0 loss:0.872072 auc:0.4840\n",
      "epoch:  20 loss:0.391783 auc:0.9120\n",
      "epoch:  40 loss:0.375659 auc:0.9105\n",
      "epoch:  60 loss:0.372622 auc:0.9104\n",
      "epoch:  80 loss:0.371415 auc:0.9101\n",
      "epoch: 100 loss:0.370614 auc:0.9100\n",
      "epoch: 120 loss:0.369689 auc:0.9098\n",
      "epoch: 140 loss:0.368255 auc:0.9095\n",
      "epoch: 160 loss:0.365653 auc:0.9093\n"
     ]
    },
    {
     "name": "stderr",
     "output_type": "stream",
     "text": [
      " 23%|██▎       | 173/756 [29:41<1:15:29,  7.77s/it]"
     ]
    },
    {
     "name": "stdout",
     "output_type": "stream",
     "text": [
      "epoch: 180 loss:0.361230 auc:0.9070\n",
      "Fit finished.\n",
      "epoch:   0 loss:0.827630 auc:0.2859\n",
      "epoch:  20 loss:0.387064 auc:0.9551\n",
      "epoch:  40 loss:0.375122 auc:0.9554\n",
      "epoch:  60 loss:0.372207 auc:0.9559\n",
      "epoch:  80 loss:0.370974 auc:0.9561\n",
      "epoch: 100 loss:0.369864 auc:0.9559\n",
      "epoch: 120 loss:0.368104 auc:0.9556\n",
      "epoch: 140 loss:0.364260 auc:0.9551\n",
      "epoch: 160 loss:0.357225 auc:0.9543\n"
     ]
    },
    {
     "name": "stderr",
     "output_type": "stream",
     "text": [
      " 23%|██▎       | 175/756 [29:48<56:13,  5.81s/it]  "
     ]
    },
    {
     "name": "stdout",
     "output_type": "stream",
     "text": [
      "epoch: 180 loss:0.350439 auc:0.9519\n",
      "Fit finished.\n",
      "epoch:   0 loss:0.869833 auc:0.3145\n",
      "epoch:  20 loss:0.400722 auc:0.9315\n",
      "epoch:  40 loss:0.376262 auc:0.9374\n",
      "epoch:  60 loss:0.372652 auc:0.9373\n",
      "epoch:  80 loss:0.371190 auc:0.9369\n",
      "epoch: 100 loss:0.370279 auc:0.9367\n",
      "epoch: 120 loss:0.369262 auc:0.9361\n",
      "epoch: 140 loss:0.367753 auc:0.9359\n",
      "epoch: 160 loss:0.365039 auc:0.9350\n",
      "epoch: 180 loss:0.360600 auc:0.9328\n"
     ]
    },
    {
     "name": "stderr",
     "output_type": "stream",
     "text": [
      " 23%|██▎       | 176/756 [29:56<1:01:23,  6.35s/it]"
     ]
    },
    {
     "name": "stdout",
     "output_type": "stream",
     "text": [
      "epoch: 200 loss:0.355651 auc:0.9318\n",
      "Fit finished.\n",
      "epoch:   0 loss:0.883552 auc:0.4880\n",
      "epoch:  20 loss:0.406086 auc:0.8808\n",
      "epoch:  40 loss:0.380640 auc:0.8932\n",
      "epoch:  60 loss:0.373677 auc:0.8980\n",
      "epoch:  80 loss:0.371799 auc:0.8982\n",
      "epoch: 100 loss:0.370917 auc:0.8978\n",
      "epoch: 120 loss:0.370205 auc:0.8977\n",
      "epoch: 140 loss:0.369315 auc:0.8981\n",
      "epoch: 160 loss:0.367832 auc:0.8978\n",
      "epoch: 180 loss:0.364747 auc:0.8973\n",
      "epoch: 200 loss:0.359453 auc:0.8962\n"
     ]
    },
    {
     "name": "stderr",
     "output_type": "stream",
     "text": [
      " 23%|██▎       | 177/756 [30:03<1:03:09,  6.55s/it]"
     ]
    },
    {
     "name": "stdout",
     "output_type": "stream",
     "text": [
      "epoch: 220 loss:0.353821 auc:0.8928\n",
      "Fit finished.\n",
      "epoch:   0 loss:0.758886 auc:0.4786\n",
      "epoch:  20 loss:0.400298 auc:0.9498\n",
      "epoch:  40 loss:0.377680 auc:0.9526\n",
      "epoch:  60 loss:0.372775 auc:0.9517\n",
      "epoch:  80 loss:0.371106 auc:0.9517\n",
      "epoch: 100 loss:0.370002 auc:0.9518\n",
      "epoch: 120 loss:0.368532 auc:0.9517\n",
      "epoch: 140 loss:0.365720 auc:0.9515\n",
      "epoch: 160 loss:0.360470 auc:0.9519\n",
      "epoch: 180 loss:0.355061 auc:0.9522\n"
     ]
    },
    {
     "name": "stderr",
     "output_type": "stream",
     "text": [
      " 24%|██▎       | 178/756 [30:12<1:07:22,  6.99s/it]"
     ]
    },
    {
     "name": "stdout",
     "output_type": "stream",
     "text": [
      "epoch: 200 loss:0.349368 auc:0.9518\n",
      "Fit finished.\n",
      "epoch:   0 loss:0.693706 auc:0.7495\n",
      "epoch:  20 loss:0.397047 auc:0.9237\n",
      "epoch:  40 loss:0.377426 auc:0.9277\n",
      "epoch:  60 loss:0.372643 auc:0.9283\n",
      "epoch:  80 loss:0.371242 auc:0.9278\n",
      "epoch: 100 loss:0.370365 auc:0.9279\n",
      "epoch: 120 loss:0.369194 auc:0.9277\n",
      "epoch: 140 loss:0.366915 auc:0.9268\n",
      "epoch: 160 loss:0.362565 auc:0.9257\n",
      "epoch: 180 loss:0.357598 auc:0.9250\n"
     ]
    },
    {
     "name": "stderr",
     "output_type": "stream",
     "text": [
      " 24%|██▎       | 179/756 [30:20<1:10:37,  7.34s/it]"
     ]
    },
    {
     "name": "stdout",
     "output_type": "stream",
     "text": [
      "epoch: 200 loss:0.353311 auc:0.9249\n",
      "Fit finished.\n",
      "epoch:   0 loss:0.717957 auc:0.5626\n",
      "epoch:  20 loss:0.387700 auc:0.9049\n",
      "epoch:  40 loss:0.374761 auc:0.9052\n",
      "epoch:  60 loss:0.372112 auc:0.9060\n",
      "epoch:  80 loss:0.371032 auc:0.9052\n",
      "epoch: 100 loss:0.370106 auc:0.9055\n",
      "epoch: 120 loss:0.368822 auc:0.9054\n",
      "epoch: 140 loss:0.366436 auc:0.9046\n",
      "epoch: 160 loss:0.361786 auc:0.9022\n"
     ]
    },
    {
     "name": "stderr",
     "output_type": "stream",
     "text": [
      " 24%|██▍       | 180/756 [30:27<1:10:39,  7.36s/it]"
     ]
    },
    {
     "name": "stdout",
     "output_type": "stream",
     "text": [
      "epoch: 180 loss:0.356049 auc:0.8967\n",
      "Fit finished.\n",
      "epoch:   0 loss:0.770508 auc:0.5552\n",
      "epoch:  20 loss:0.398275 auc:0.9028\n",
      "epoch:  40 loss:0.377497 auc:0.9102\n",
      "epoch:  60 loss:0.373005 auc:0.9135\n",
      "epoch:  80 loss:0.371414 auc:0.9129\n",
      "epoch: 100 loss:0.370652 auc:0.9130\n",
      "epoch: 120 loss:0.370022 auc:0.9129\n",
      "epoch: 140 loss:0.369326 auc:0.9128\n",
      "epoch: 160 loss:0.368386 auc:0.9122\n",
      "epoch: 180 loss:0.366910 auc:0.9120\n",
      "epoch: 200 loss:0.364328 auc:0.9104\n"
     ]
    },
    {
     "name": "stderr",
     "output_type": "stream",
     "text": [
      " 24%|██▍       | 181/756 [30:36<1:13:17,  7.65s/it]"
     ]
    },
    {
     "name": "stdout",
     "output_type": "stream",
     "text": [
      "epoch: 220 loss:0.360432 auc:0.9069\n",
      "Fit finished.\n",
      "epoch:   0 loss:0.748273 auc:0.5619\n",
      "epoch:  20 loss:0.388078 auc:0.8182\n",
      "epoch:  40 loss:0.375791 auc:0.8294\n",
      "epoch:  60 loss:0.372075 auc:0.8299\n",
      "epoch:  80 loss:0.370805 auc:0.8295\n",
      "epoch: 100 loss:0.369751 auc:0.8300\n",
      "epoch: 120 loss:0.368240 auc:0.8295\n",
      "epoch: 140 loss:0.365049 auc:0.8290\n",
      "epoch: 160 loss:0.358693 auc:0.8257\n",
      "epoch: 180 loss:0.351133 auc:0.8246\n"
     ]
    },
    {
     "name": "stderr",
     "output_type": "stream",
     "text": [
      " 24%|██▍       | 182/756 [30:43<1:13:22,  7.67s/it]"
     ]
    },
    {
     "name": "stdout",
     "output_type": "stream",
     "text": [
      "epoch: 200 loss:0.342765 auc:0.8258\n",
      "Fit finished.\n",
      "epoch:   0 loss:0.725523 auc:0.6380\n",
      "epoch:  20 loss:0.395229 auc:0.8957\n",
      "epoch:  40 loss:0.376539 auc:0.9039\n",
      "epoch:  60 loss:0.372919 auc:0.9055\n",
      "epoch:  80 loss:0.371531 auc:0.9047\n",
      "epoch: 100 loss:0.370676 auc:0.9049\n",
      "epoch: 120 loss:0.369657 auc:0.9044\n",
      "epoch: 140 loss:0.368028 auc:0.9038\n",
      "epoch: 160 loss:0.364840 auc:0.9030\n",
      "epoch: 180 loss:0.359377 auc:0.9020\n"
     ]
    },
    {
     "name": "stderr",
     "output_type": "stream",
     "text": [
      " 24%|██▍       | 183/756 [30:52<1:17:16,  8.09s/it]"
     ]
    },
    {
     "name": "stdout",
     "output_type": "stream",
     "text": [
      "epoch: 200 loss:0.353725 auc:0.9033\n",
      "Fit finished.\n",
      "epoch:   0 loss:0.825869 auc:0.4340\n",
      "epoch:  20 loss:0.391210 auc:0.8587\n",
      "epoch:  40 loss:0.377231 auc:0.8618\n",
      "epoch:  60 loss:0.372769 auc:0.8629\n",
      "epoch:  80 loss:0.371412 auc:0.8626\n",
      "epoch: 100 loss:0.370649 auc:0.8627\n",
      "epoch: 120 loss:0.369872 auc:0.8625\n",
      "epoch: 140 loss:0.368799 auc:0.8626\n",
      "epoch: 160 loss:0.366771 auc:0.8631\n",
      "epoch: 180 loss:0.361636 auc:0.8635\n"
     ]
    },
    {
     "name": "stderr",
     "output_type": "stream",
     "text": [
      " 24%|██▍       | 184/756 [31:00<1:16:53,  8.06s/it]"
     ]
    },
    {
     "name": "stdout",
     "output_type": "stream",
     "text": [
      "epoch: 200 loss:0.354533 auc:0.8608\n",
      "Fit finished.\n",
      "epoch:   0 loss:0.759340 auc:0.5356\n",
      "epoch:  20 loss:0.389463 auc:0.8701\n",
      "epoch:  40 loss:0.374887 auc:0.8755\n",
      "epoch:  60 loss:0.371425 auc:0.8792\n",
      "epoch:  80 loss:0.369860 auc:0.8771\n",
      "epoch: 100 loss:0.367664 auc:0.8751\n",
      "epoch: 120 loss:0.363148 auc:0.8701\n",
      "epoch: 140 loss:0.356832 auc:0.8584\n",
      "epoch: 160 loss:0.350733 auc:0.8534\n"
     ]
    },
    {
     "name": "stderr",
     "output_type": "stream",
     "text": [
      " 24%|██▍       | 185/756 [31:07<1:13:26,  7.72s/it]"
     ]
    },
    {
     "name": "stdout",
     "output_type": "stream",
     "text": [
      "epoch: 180 loss:0.344480 auc:0.8455\n",
      "Fit finished.\n",
      "epoch:   0 loss:0.747279 auc:0.5756\n",
      "epoch:  20 loss:0.398038 auc:0.9419\n",
      "epoch:  40 loss:0.376241 auc:0.9446\n",
      "epoch:  60 loss:0.372468 auc:0.9455\n",
      "epoch:  80 loss:0.371044 auc:0.9451\n",
      "epoch: 100 loss:0.369951 auc:0.9455\n",
      "epoch: 120 loss:0.368411 auc:0.9452\n",
      "epoch: 140 loss:0.365647 auc:0.9443\n",
      "epoch: 160 loss:0.361169 auc:0.9429\n"
     ]
    },
    {
     "name": "stderr",
     "output_type": "stream",
     "text": [
      " 25%|██▍       | 186/756 [31:15<1:14:49,  7.88s/it]"
     ]
    },
    {
     "name": "stdout",
     "output_type": "stream",
     "text": [
      "epoch: 180 loss:0.356288 auc:0.9412\n",
      "Fit finished.\n",
      "epoch:   0 loss:0.799352 auc:0.5796\n",
      "epoch:  20 loss:0.399361 auc:0.9174\n",
      "epoch:  40 loss:0.377420 auc:0.9208\n",
      "epoch:  60 loss:0.372645 auc:0.9211\n",
      "epoch:  80 loss:0.371099 auc:0.9205\n",
      "epoch: 100 loss:0.369919 auc:0.9200\n",
      "epoch: 120 loss:0.368165 auc:0.9196\n",
      "epoch: 140 loss:0.364603 auc:0.9185\n",
      "epoch: 160 loss:0.359685 auc:0.9162\n"
     ]
    },
    {
     "name": "stderr",
     "output_type": "stream",
     "text": [
      " 25%|██▍       | 187/756 [31:23<1:13:26,  7.74s/it]"
     ]
    },
    {
     "name": "stdout",
     "output_type": "stream",
     "text": [
      "epoch: 180 loss:0.354770 auc:0.9150\n",
      "Fit finished.\n",
      "epoch:   0 loss:0.783056 auc:0.4739\n",
      "epoch:  20 loss:0.405480 auc:0.8696\n",
      "epoch:  40 loss:0.379661 auc:0.8804\n",
      "epoch:  60 loss:0.373691 auc:0.8817\n",
      "epoch:  80 loss:0.371845 auc:0.8819\n",
      "epoch: 100 loss:0.370890 auc:0.8816\n",
      "epoch: 120 loss:0.369901 auc:0.8818\n",
      "epoch: 140 loss:0.368459 auc:0.8818\n",
      "epoch: 160 loss:0.365936 auc:0.8813\n",
      "epoch: 180 loss:0.361262 auc:0.8790\n"
     ]
    },
    {
     "name": "stderr",
     "output_type": "stream",
     "text": [
      " 25%|██▍       | 188/756 [31:31<1:14:45,  7.90s/it]"
     ]
    },
    {
     "name": "stdout",
     "output_type": "stream",
     "text": [
      "epoch: 200 loss:0.355993 auc:0.8778\n",
      "Fit finished.\n",
      "epoch:   0 loss:0.814425 auc:0.4760\n",
      "epoch:  20 loss:0.405610 auc:0.8187\n",
      "epoch:  40 loss:0.377826 auc:0.8234\n",
      "epoch:  60 loss:0.372954 auc:0.8226\n",
      "epoch:  80 loss:0.371308 auc:0.8223\n",
      "epoch: 100 loss:0.370447 auc:0.8224\n",
      "epoch: 120 loss:0.369562 auc:0.8219\n",
      "epoch: 140 loss:0.368154 auc:0.8216\n",
      "epoch: 160 loss:0.365291 auc:0.8198\n"
     ]
    },
    {
     "name": "stderr",
     "output_type": "stream",
     "text": [
      " 25%|██▌       | 189/756 [31:40<1:16:00,  8.04s/it]"
     ]
    },
    {
     "name": "stdout",
     "output_type": "stream",
     "text": [
      "epoch: 180 loss:0.360798 auc:0.8180\n",
      "Fit finished.\n",
      "epoch:   0 loss:0.897023 auc:0.5156\n",
      "epoch:  20 loss:0.409315 auc:0.8024\n",
      "epoch:  40 loss:0.381914 auc:0.8205\n",
      "epoch:  60 loss:0.374204 auc:0.8262\n",
      "epoch:  80 loss:0.372034 auc:0.8255\n",
      "epoch: 100 loss:0.371095 auc:0.8254\n",
      "epoch: 120 loss:0.370310 auc:0.8250\n",
      "epoch: 140 loss:0.369306 auc:0.8254\n",
      "epoch: 160 loss:0.367641 auc:0.8255\n",
      "epoch: 180 loss:0.364684 auc:0.8242\n",
      "epoch: 200 loss:0.360647 auc:0.8224\n"
     ]
    },
    {
     "name": "stderr",
     "output_type": "stream",
     "text": [
      " 25%|██▌       | 190/756 [31:49<1:19:38,  8.44s/it]"
     ]
    },
    {
     "name": "stdout",
     "output_type": "stream",
     "text": [
      "epoch: 220 loss:0.356760 auc:0.8201\n",
      "Fit finished.\n",
      "epoch:   0 loss:0.808066 auc:0.3117\n",
      "epoch:  20 loss:0.401163 auc:0.9565\n",
      "epoch:  40 loss:0.378023 auc:0.9591\n",
      "epoch:  60 loss:0.373782 auc:0.9599\n",
      "epoch:  80 loss:0.372178 auc:0.9595\n",
      "epoch: 100 loss:0.371370 auc:0.9595\n",
      "epoch: 120 loss:0.370705 auc:0.9594\n",
      "epoch: 140 loss:0.369953 auc:0.9592\n",
      "epoch: 160 loss:0.368931 auc:0.9592\n",
      "epoch: 180 loss:0.367287 auc:0.9594\n",
      "epoch: 200 loss:0.364136 auc:0.9600\n",
      "epoch: 220 loss:0.359027 auc:0.9607\n",
      "epoch: 240 loss:0.353559 auc:0.9611\n",
      "epoch: 260 loss:0.347258 auc:0.9615\n",
      "epoch: 280 loss:0.339431 auc:0.9614\n"
     ]
    },
    {
     "name": "stderr",
     "output_type": "stream",
     "text": [
      " 25%|██▌       | 191/756 [32:01<1:29:24,  9.49s/it]"
     ]
    },
    {
     "name": "stdout",
     "output_type": "stream",
     "text": [
      "epoch: 300 loss:0.332241 auc:0.9532\n",
      "Fit finished.\n",
      "epoch:   0 loss:0.819590 auc:0.4363\n",
      "epoch:  20 loss:0.394783 auc:0.9091\n",
      "epoch:  40 loss:0.376234 auc:0.9175\n",
      "epoch:  60 loss:0.372230 auc:0.9175\n",
      "epoch:  80 loss:0.370952 auc:0.9174\n",
      "epoch: 100 loss:0.369910 auc:0.9174\n",
      "epoch: 120 loss:0.368416 auc:0.9172\n",
      "epoch: 140 loss:0.365431 auc:0.9165\n",
      "epoch: 160 loss:0.360299 auc:0.9139\n",
      "epoch: 180 loss:0.354738 auc:0.9110\n"
     ]
    },
    {
     "name": "stderr",
     "output_type": "stream",
     "text": [
      " 25%|██▌       | 192/756 [32:10<1:28:35,  9.43s/it]"
     ]
    },
    {
     "name": "stdout",
     "output_type": "stream",
     "text": [
      "epoch: 200 loss:0.348790 auc:0.9056\n",
      "Fit finished.\n",
      "epoch:   0 loss:0.693729 auc:0.5821\n",
      "epoch:  20 loss:0.392728 auc:0.9449\n",
      "epoch:  40 loss:0.375893 auc:0.9461\n",
      "epoch:  60 loss:0.372598 auc:0.9453\n",
      "epoch:  80 loss:0.371536 auc:0.9456\n",
      "epoch: 100 loss:0.370795 auc:0.9457\n",
      "epoch: 120 loss:0.369867 auc:0.9457\n",
      "epoch: 140 loss:0.368236 auc:0.9457\n",
      "epoch: 160 loss:0.364738 auc:0.9454\n"
     ]
    },
    {
     "name": "stderr",
     "output_type": "stream",
     "text": [
      " 26%|██▌       | 193/756 [32:18<1:23:08,  8.86s/it]"
     ]
    },
    {
     "name": "stdout",
     "output_type": "stream",
     "text": [
      "epoch: 180 loss:0.359198 auc:0.9442\n",
      "Fit finished.\n",
      "epoch:   0 loss:0.784130 auc:0.4146\n",
      "epoch:  20 loss:0.390886 auc:0.7832\n",
      "epoch:  40 loss:0.375396 auc:0.7972\n",
      "epoch:  60 loss:0.372191 auc:0.7988\n",
      "epoch:  80 loss:0.370953 auc:0.7981\n",
      "epoch: 100 loss:0.370112 auc:0.7968\n",
      "epoch: 120 loss:0.369093 auc:0.7972\n",
      "epoch: 140 loss:0.367468 auc:0.7971\n",
      "epoch: 160 loss:0.364425 auc:0.7963\n",
      "epoch: 180 loss:0.359750 auc:0.7944\n"
     ]
    },
    {
     "name": "stderr",
     "output_type": "stream",
     "text": [
      " 26%|██▌       | 194/756 [32:27<1:23:54,  8.96s/it]"
     ]
    },
    {
     "name": "stdout",
     "output_type": "stream",
     "text": [
      "epoch: 200 loss:0.354420 auc:0.7907\n",
      "Fit finished.\n",
      "epoch:   0 loss:0.690405 auc:0.6381\n",
      "epoch:  20 loss:0.393947 auc:0.9656\n",
      "epoch:  40 loss:0.375552 auc:0.9653\n",
      "epoch:  60 loss:0.371782 auc:0.9649\n",
      "epoch:  80 loss:0.370285 auc:0.9652\n",
      "epoch: 100 loss:0.368645 auc:0.9646\n",
      "epoch: 120 loss:0.365490 auc:0.9639\n",
      "epoch: 140 loss:0.359939 auc:0.9629\n",
      "epoch: 160 loss:0.354289 auc:0.9627\n"
     ]
    },
    {
     "name": "stderr",
     "output_type": "stream",
     "text": [
      " 26%|██▌       | 195/756 [32:35<1:21:23,  8.70s/it]"
     ]
    },
    {
     "name": "stdout",
     "output_type": "stream",
     "text": [
      "epoch: 180 loss:0.348680 auc:0.9610\n",
      "Fit finished.\n",
      "epoch:   0 loss:0.813407 auc:0.4860\n",
      "epoch:  20 loss:0.401229 auc:0.9509\n",
      "epoch:  40 loss:0.377260 auc:0.9560\n",
      "epoch:  60 loss:0.372739 auc:0.9554\n",
      "epoch:  80 loss:0.371309 auc:0.9560\n",
      "epoch: 100 loss:0.370362 auc:0.9556\n",
      "epoch: 120 loss:0.369346 auc:0.9554\n",
      "epoch: 140 loss:0.367891 auc:0.9551\n",
      "epoch: 160 loss:0.365421 auc:0.9545\n",
      "epoch: 180 loss:0.361338 auc:0.9535\n"
     ]
    },
    {
     "name": "stderr",
     "output_type": "stream",
     "text": [
      " 26%|██▌       | 196/756 [32:44<1:20:54,  8.67s/it]"
     ]
    },
    {
     "name": "stdout",
     "output_type": "stream",
     "text": [
      "epoch: 200 loss:0.356311 auc:0.9503\n",
      "Fit finished.\n",
      "epoch:   0 loss:0.826368 auc:0.4983\n",
      "epoch:  20 loss:0.401656 auc:0.9427\n",
      "epoch:  40 loss:0.379784 auc:0.9439\n",
      "epoch:  60 loss:0.373877 auc:0.9449\n",
      "epoch:  80 loss:0.372119 auc:0.9446\n",
      "epoch: 100 loss:0.371277 auc:0.9447\n",
      "epoch: 120 loss:0.370617 auc:0.9449\n",
      "epoch: 140 loss:0.369947 auc:0.9450\n",
      "epoch: 160 loss:0.369150 auc:0.9451\n",
      "epoch: 180 loss:0.368020 auc:0.9451\n",
      "epoch: 200 loss:0.365991 auc:0.9453\n",
      "epoch: 220 loss:0.362159 auc:0.9454\n",
      "epoch: 240 loss:0.357502 auc:0.9454\n",
      "epoch: 260 loss:0.352928 auc:0.9453\n"
     ]
    },
    {
     "name": "stderr",
     "output_type": "stream",
     "text": [
      " 26%|██▌       | 197/756 [32:57<1:32:38,  9.94s/it]"
     ]
    },
    {
     "name": "stdout",
     "output_type": "stream",
     "text": [
      "epoch: 280 loss:0.346226 auc:0.9440\n",
      "Fit finished.\n",
      "epoch:   0 loss:0.820203 auc:0.4368\n",
      "epoch:  20 loss:0.404155 auc:0.9361\n",
      "epoch:  40 loss:0.379631 auc:0.9489\n",
      "epoch:  60 loss:0.373719 auc:0.9480\n",
      "epoch:  80 loss:0.371865 auc:0.9480\n",
      "epoch: 100 loss:0.370894 auc:0.9478\n",
      "epoch: 120 loss:0.369950 auc:0.9477\n",
      "epoch: 140 loss:0.368618 auc:0.9472\n",
      "epoch: 160 loss:0.366013 auc:0.9465\n",
      "epoch: 180 loss:0.361279 auc:0.9437\n"
     ]
    },
    {
     "name": "stderr",
     "output_type": "stream",
     "text": [
      " 26%|██▌       | 198/756 [33:06<1:30:30,  9.73s/it]"
     ]
    },
    {
     "name": "stdout",
     "output_type": "stream",
     "text": [
      "epoch: 200 loss:0.356267 auc:0.9390\n",
      "Fit finished.\n",
      "epoch:   0 loss:0.717646 auc:0.5173\n",
      "epoch:  20 loss:0.400797 auc:0.9289\n",
      "epoch:  40 loss:0.377613 auc:0.9295\n",
      "epoch:  60 loss:0.372768 auc:0.9306\n",
      "epoch:  80 loss:0.371113 auc:0.9308\n",
      "epoch: 100 loss:0.370119 auc:0.9302\n",
      "epoch: 120 loss:0.369004 auc:0.9300\n",
      "epoch: 140 loss:0.367286 auc:0.9295\n",
      "epoch: 160 loss:0.364103 auc:0.9278\n"
     ]
    },
    {
     "name": "stderr",
     "output_type": "stream",
     "text": [
      " 26%|██▋       | 199/756 [33:13<1:24:30,  9.10s/it]"
     ]
    },
    {
     "name": "stdout",
     "output_type": "stream",
     "text": [
      "epoch: 180 loss:0.359427 auc:0.9241\n",
      "Fit finished.\n",
      "epoch:   0 loss:0.725019 auc:0.6045\n",
      "epoch:  20 loss:0.387038 auc:0.9510\n",
      "epoch:  40 loss:0.374210 auc:0.9504\n",
      "epoch:  60 loss:0.371423 auc:0.9497\n",
      "epoch:  80 loss:0.369818 auc:0.9501\n",
      "epoch: 100 loss:0.367551 auc:0.9496\n",
      "epoch: 120 loss:0.362661 auc:0.9495\n",
      "epoch: 140 loss:0.356034 auc:0.9472\n",
      "epoch: 160 loss:0.348935 auc:0.9454\n"
     ]
    },
    {
     "name": "stderr",
     "output_type": "stream",
     "text": [
      " 26%|██▋       | 200/756 [33:22<1:22:27,  8.90s/it]"
     ]
    },
    {
     "name": "stdout",
     "output_type": "stream",
     "text": [
      "epoch: 180 loss:0.339722 auc:0.9467\n",
      "Fit finished.\n",
      "epoch:   0 loss:1.075373 auc:0.5305\n",
      "epoch:  20 loss:0.418672 auc:0.9361\n",
      "epoch:  40 loss:0.384535 auc:0.9425\n",
      "epoch:  60 loss:0.374730 auc:0.9457\n",
      "epoch:  80 loss:0.372402 auc:0.9462\n",
      "epoch: 100 loss:0.371445 auc:0.9460\n",
      "epoch: 120 loss:0.370763 auc:0.9461\n",
      "epoch: 140 loss:0.370042 auc:0.9461\n",
      "epoch: 160 loss:0.369100 auc:0.9462\n",
      "epoch: 180 loss:0.367687 auc:0.9460\n",
      "epoch: 200 loss:0.365251 auc:0.9461\n",
      "epoch: 220 loss:0.361222 auc:0.9462\n"
     ]
    },
    {
     "name": "stderr",
     "output_type": "stream",
     "text": [
      " 27%|██▋       | 201/756 [33:32<1:27:01,  9.41s/it]"
     ]
    },
    {
     "name": "stdout",
     "output_type": "stream",
     "text": [
      "epoch: 240 loss:0.356536 auc:0.9462\n",
      "Fit finished.\n",
      "epoch:   0 loss:0.838711 auc:0.3797\n",
      "epoch:  20 loss:0.385910 auc:0.9211\n",
      "epoch:  40 loss:0.374963 auc:0.9271\n",
      "epoch:  60 loss:0.371865 auc:0.9263\n",
      "epoch:  80 loss:0.370592 auc:0.9255\n",
      "epoch: 100 loss:0.369308 auc:0.9261\n",
      "epoch: 120 loss:0.367069 auc:0.9255\n",
      "epoch: 140 loss:0.362505 auc:0.9234\n",
      "epoch: 160 loss:0.356479 auc:0.9207\n"
     ]
    },
    {
     "name": "stderr",
     "output_type": "stream",
     "text": [
      " 27%|██▋       | 202/756 [33:40<1:22:24,  8.92s/it]"
     ]
    },
    {
     "name": "stdout",
     "output_type": "stream",
     "text": [
      "epoch: 180 loss:0.349446 auc:0.9188\n",
      "Fit finished.\n",
      "epoch:   0 loss:0.764835 auc:0.3961\n",
      "epoch:  20 loss:0.390549 auc:0.8676\n",
      "epoch:  40 loss:0.375394 auc:0.8702\n",
      "epoch:  60 loss:0.372311 auc:0.8721\n",
      "epoch:  80 loss:0.371088 auc:0.8716\n",
      "epoch: 100 loss:0.370076 auc:0.8719\n",
      "epoch: 120 loss:0.368587 auc:0.8725\n",
      "epoch: 140 loss:0.365687 auc:0.8735\n",
      "epoch: 160 loss:0.360730 auc:0.8754\n",
      "epoch: 180 loss:0.355250 auc:0.8792\n",
      "epoch: 200 loss:0.349538 auc:0.8806\n",
      "epoch: 220 loss:0.343114 auc:0.8780\n",
      "epoch: 240 loss:0.332693 auc:0.8726\n"
     ]
    },
    {
     "name": "stderr",
     "output_type": "stream",
     "text": [
      " 27%|██▋       | 203/756 [33:51<1:27:50,  9.53s/it]"
     ]
    },
    {
     "name": "stdout",
     "output_type": "stream",
     "text": [
      "epoch: 260 loss:0.321986 auc:0.8610\n",
      "Fit finished.\n",
      "epoch:   0 loss:0.764743 auc:0.4356\n",
      "epoch:  20 loss:0.379134 auc:0.8640\n",
      "epoch:  40 loss:0.372592 auc:0.8654\n",
      "epoch:  60 loss:0.370483 auc:0.8680\n",
      "epoch:  80 loss:0.368586 auc:0.8678\n",
      "epoch: 100 loss:0.364733 auc:0.8676\n",
      "epoch: 120 loss:0.359122 auc:0.8677\n",
      "epoch: 140 loss:0.350894 auc:0.8662\n",
      "epoch: 160 loss:0.338004 auc:0.8613\n"
     ]
    },
    {
     "name": "stderr",
     "output_type": "stream",
     "text": [
      " 27%|██▋       | 204/756 [33:58<1:19:37,  8.65s/it]"
     ]
    },
    {
     "name": "stdout",
     "output_type": "stream",
     "text": [
      "epoch: 180 loss:0.330185 auc:0.8493\n",
      "Fit finished.\n",
      "epoch:   0 loss:0.763216 auc:0.6345\n",
      "epoch:  20 loss:0.387864 auc:0.9509\n",
      "epoch:  40 loss:0.375715 auc:0.9502\n",
      "epoch:  60 loss:0.372316 auc:0.9501\n",
      "epoch:  80 loss:0.371062 auc:0.9507\n",
      "epoch: 100 loss:0.369998 auc:0.9506\n",
      "epoch: 120 loss:0.368525 auc:0.9500\n",
      "epoch: 140 loss:0.365795 auc:0.9499\n",
      "epoch: 160 loss:0.361345 auc:0.9497\n"
     ]
    },
    {
     "name": "stderr",
     "output_type": "stream",
     "text": [
      " 27%|██▋       | 205/756 [34:05<1:16:12,  8.30s/it]"
     ]
    },
    {
     "name": "stdout",
     "output_type": "stream",
     "text": [
      "epoch: 180 loss:0.356690 auc:0.9491\n",
      "Fit finished.\n",
      "epoch:   0 loss:0.836732 auc:0.4724\n",
      "epoch:  20 loss:0.392663 auc:0.9418\n",
      "epoch:  40 loss:0.375860 auc:0.9417\n",
      "epoch:  60 loss:0.372265 auc:0.9432\n",
      "epoch:  80 loss:0.370996 auc:0.9437\n",
      "epoch: 100 loss:0.369948 auc:0.9437\n",
      "epoch: 120 loss:0.368509 auc:0.9439\n",
      "epoch: 140 loss:0.365917 auc:0.9442\n",
      "epoch: 160 loss:0.361182 auc:0.9437\n",
      "epoch: 180 loss:0.355506 auc:0.9426\n"
     ]
    },
    {
     "name": "stderr",
     "output_type": "stream",
     "text": [
      " 27%|██▋       | 206/756 [34:13<1:15:26,  8.23s/it]"
     ]
    },
    {
     "name": "stdout",
     "output_type": "stream",
     "text": [
      "epoch: 200 loss:0.348933 auc:0.9406\n",
      "Fit finished.\n",
      "epoch:   0 loss:0.731783 auc:0.6929\n",
      "epoch:  20 loss:0.393478 auc:0.9060\n",
      "epoch:  40 loss:0.377757 auc:0.9114\n",
      "epoch:  60 loss:0.372836 auc:0.9108\n",
      "epoch:  80 loss:0.371392 auc:0.9118\n",
      "epoch: 100 loss:0.370356 auc:0.9115\n",
      "epoch: 120 loss:0.369046 auc:0.9118\n",
      "epoch: 140 loss:0.366720 auc:0.9126\n",
      "epoch: 160 loss:0.362473 auc:0.9128\n",
      "epoch: 180 loss:0.357489 auc:0.9148\n",
      "epoch: 200 loss:0.352521 auc:0.9185\n",
      "epoch: 220 loss:0.348934 auc:0.9210\n",
      "epoch: 240 loss:0.339982 auc:0.9210\n",
      "epoch: 260 loss:0.328974 auc:0.9182\n",
      "epoch: 280 loss:0.320980 auc:0.9135\n",
      "epoch: 300 loss:0.314004 auc:0.9158\n",
      "epoch: 320 loss:0.306963 auc:0.9174\n",
      "epoch: 340 loss:0.300347 auc:0.9157\n"
     ]
    },
    {
     "name": "stderr",
     "output_type": "stream",
     "text": [
      " 27%|██▋       | 207/756 [34:26<1:26:42,  9.48s/it]"
     ]
    },
    {
     "name": "stdout",
     "output_type": "stream",
     "text": [
      "epoch: 360 loss:0.294691 auc:0.9137\n",
      "Fit finished.\n",
      "epoch:   0 loss:0.862342 auc:0.5836\n",
      "epoch:  20 loss:0.401125 auc:0.8956\n",
      "epoch:  40 loss:0.379507 auc:0.9052\n",
      "epoch:  60 loss:0.373700 auc:0.9074\n",
      "epoch:  80 loss:0.371922 auc:0.9078\n",
      "epoch: 100 loss:0.371062 auc:0.9079\n",
      "epoch: 120 loss:0.370336 auc:0.9081\n",
      "epoch: 140 loss:0.369445 auc:0.9080\n",
      "epoch: 160 loss:0.368095 auc:0.9085\n",
      "epoch: 180 loss:0.365709 auc:0.9087\n",
      "epoch: 200 loss:0.361706 auc:0.9105\n",
      "epoch: 220 loss:0.357343 auc:0.9131\n",
      "epoch: 240 loss:0.352736 auc:0.9150\n",
      "epoch: 260 loss:0.346858 auc:0.9150\n"
     ]
    },
    {
     "name": "stderr",
     "output_type": "stream",
     "text": [
      " 28%|██▊       | 208/756 [34:36<1:29:48,  9.83s/it]"
     ]
    },
    {
     "name": "stdout",
     "output_type": "stream",
     "text": [
      "epoch: 280 loss:0.342777 auc:0.9011\n",
      "Fit finished.\n",
      "epoch:   0 loss:0.803496 auc:0.6521\n",
      "epoch:  20 loss:0.409231 auc:0.9074\n",
      "epoch:  40 loss:0.380231 auc:0.9213\n",
      "epoch:  60 loss:0.373864 auc:0.9253\n",
      "epoch:  80 loss:0.371994 auc:0.9258\n",
      "epoch: 100 loss:0.371173 auc:0.9258\n",
      "epoch: 120 loss:0.370577 auc:0.9255\n",
      "epoch: 140 loss:0.369936 auc:0.9255\n",
      "epoch: 160 loss:0.369073 auc:0.9252\n",
      "epoch: 180 loss:0.367728 auc:0.9247\n",
      "epoch: 200 loss:0.365511 auc:0.9240\n"
     ]
    },
    {
     "name": "stderr",
     "output_type": "stream",
     "text": [
      " 28%|██▊       | 209/756 [34:45<1:27:25,  9.59s/it]"
     ]
    },
    {
     "name": "stdout",
     "output_type": "stream",
     "text": [
      "epoch: 220 loss:0.362299 auc:0.9236\n",
      "Fit finished.\n",
      "epoch:   0 loss:0.711246 auc:0.5911\n",
      "epoch:  20 loss:0.393894 auc:0.8956\n",
      "epoch:  40 loss:0.375780 auc:0.8974\n",
      "epoch:  60 loss:0.371710 auc:0.9004\n",
      "epoch:  80 loss:0.370263 auc:0.9012\n",
      "epoch: 100 loss:0.368660 auc:0.9020\n",
      "epoch: 120 loss:0.365588 auc:0.9022\n",
      "epoch: 140 loss:0.360400 auc:0.9034\n",
      "epoch: 160 loss:0.355086 auc:0.9029\n",
      "epoch: 180 loss:0.349740 auc:0.9032\n",
      "epoch: 200 loss:0.345811 auc:0.9022\n"
     ]
    },
    {
     "name": "stderr",
     "output_type": "stream",
     "text": [
      " 28%|██▊       | 210/756 [34:54<1:25:36,  9.41s/it]"
     ]
    },
    {
     "name": "stdout",
     "output_type": "stream",
     "text": [
      "epoch: 220 loss:0.338147 auc:0.8986\n",
      "Fit finished.\n",
      "epoch:   0 loss:0.769495 auc:0.4844\n",
      "epoch:  20 loss:0.405252 auc:0.9433\n",
      "epoch:  40 loss:0.377541 auc:0.9449\n",
      "epoch:  60 loss:0.373264 auc:0.9429\n",
      "epoch:  80 loss:0.371778 auc:0.9435\n",
      "epoch: 100 loss:0.370935 auc:0.9435\n",
      "epoch: 120 loss:0.370097 auc:0.9436\n",
      "epoch: 140 loss:0.368949 auc:0.9436\n",
      "epoch: 160 loss:0.366977 auc:0.9438\n",
      "epoch: 180 loss:0.363204 auc:0.9444\n",
      "epoch: 200 loss:0.358208 auc:0.9455\n",
      "epoch: 220 loss:0.353461 auc:0.9462\n",
      "epoch: 240 loss:0.351106 auc:0.9469\n",
      "epoch: 260 loss:0.343330 auc:0.9477\n"
     ]
    },
    {
     "name": "stderr",
     "output_type": "stream",
     "text": [
      " 28%|██▊       | 211/756 [35:05<1:29:35,  9.86s/it]"
     ]
    },
    {
     "name": "stdout",
     "output_type": "stream",
     "text": [
      "epoch: 280 loss:0.334692 auc:0.9406\n",
      "Fit finished.\n",
      "epoch:   0 loss:1.003850 auc:0.2992\n",
      "epoch:  20 loss:0.403387 auc:0.9396\n",
      "epoch:  40 loss:0.380653 auc:0.9485\n",
      "epoch:  60 loss:0.373644 auc:0.9505\n",
      "epoch:  80 loss:0.371621 auc:0.9497\n",
      "epoch: 100 loss:0.370550 auc:0.9498\n",
      "epoch: 120 loss:0.369518 auc:0.9499\n",
      "epoch: 140 loss:0.368097 auc:0.9503\n",
      "epoch: 160 loss:0.365606 auc:0.9500\n",
      "epoch: 180 loss:0.361147 auc:0.9497\n",
      "epoch: 200 loss:0.355916 auc:0.9500\n"
     ]
    },
    {
     "name": "stderr",
     "output_type": "stream",
     "text": [
      " 28%|██▊       | 212/756 [35:15<1:28:42,  9.78s/it]"
     ]
    },
    {
     "name": "stdout",
     "output_type": "stream",
     "text": [
      "epoch: 220 loss:0.349646 auc:0.9490\n",
      "Fit finished.\n",
      "epoch:   0 loss:0.769226 auc:0.4903\n",
      "epoch:  20 loss:0.394785 auc:0.9393\n",
      "epoch:  40 loss:0.375660 auc:0.9407\n",
      "epoch:  60 loss:0.372393 auc:0.9413\n",
      "epoch:  80 loss:0.370970 auc:0.9406\n",
      "epoch: 100 loss:0.369815 auc:0.9407\n",
      "epoch: 120 loss:0.368048 auc:0.9407\n",
      "epoch: 140 loss:0.364754 auc:0.9411\n",
      "epoch: 160 loss:0.359930 auc:0.9420\n",
      "epoch: 180 loss:0.354815 auc:0.9434\n",
      "epoch: 200 loss:0.348785 auc:0.9436\n",
      "epoch: 220 loss:0.343109 auc:0.9421\n",
      "epoch: 240 loss:0.331745 auc:0.9436\n",
      "epoch: 260 loss:0.323193 auc:0.9420\n"
     ]
    },
    {
     "name": "stderr",
     "output_type": "stream",
     "text": [
      " 28%|██▊       | 213/756 [35:25<1:30:05,  9.95s/it]"
     ]
    },
    {
     "name": "stdout",
     "output_type": "stream",
     "text": [
      "epoch: 280 loss:0.314102 auc:0.9367\n",
      "Fit finished.\n",
      "epoch:   0 loss:0.782066 auc:0.6217\n",
      "epoch:  20 loss:0.410722 auc:0.9285\n",
      "epoch:  40 loss:0.380852 auc:0.9391\n",
      "epoch:  60 loss:0.374409 auc:0.9402\n",
      "epoch:  80 loss:0.372432 auc:0.9405\n",
      "epoch: 100 loss:0.371632 auc:0.9406\n",
      "epoch: 120 loss:0.371056 auc:0.9405\n",
      "epoch: 140 loss:0.370473 auc:0.9405\n",
      "epoch: 160 loss:0.369756 auc:0.9404\n",
      "epoch: 180 loss:0.368743 auc:0.9405\n",
      "epoch: 200 loss:0.367041 auc:0.9406\n",
      "epoch: 220 loss:0.363788 auc:0.9413\n",
      "epoch: 240 loss:0.358817 auc:0.9429\n",
      "epoch: 260 loss:0.353515 auc:0.9442\n",
      "epoch: 280 loss:0.347578 auc:0.9455\n",
      "epoch: 300 loss:0.340484 auc:0.9479\n",
      "epoch: 320 loss:0.334874 auc:0.9504\n",
      "epoch: 340 loss:0.326071 auc:0.9515\n",
      "epoch: 360 loss:0.318349 auc:0.9436\n",
      "epoch: 380 loss:0.309409 auc:0.9425\n"
     ]
    },
    {
     "name": "stderr",
     "output_type": "stream",
     "text": [
      " 28%|██▊       | 214/756 [35:41<1:45:11, 11.64s/it]"
     ]
    },
    {
     "name": "stdout",
     "output_type": "stream",
     "text": [
      "epoch: 400 loss:0.302117 auc:0.9421\n",
      "Fit finished.\n",
      "epoch:   0 loss:1.156436 auc:0.4369\n",
      "epoch:  20 loss:0.410219 auc:0.8967\n",
      "epoch:  40 loss:0.381808 auc:0.9012\n",
      "epoch:  60 loss:0.373980 auc:0.9012\n",
      "epoch:  80 loss:0.372253 auc:0.9014\n",
      "epoch: 100 loss:0.371448 auc:0.9013\n",
      "epoch: 120 loss:0.370808 auc:0.9014\n",
      "epoch: 140 loss:0.370110 auc:0.9011\n",
      "epoch: 160 loss:0.369177 auc:0.9004\n",
      "epoch: 180 loss:0.367746 auc:0.8995\n"
     ]
    },
    {
     "name": "stderr",
     "output_type": "stream",
     "text": [
      " 28%|██▊       | 215/756 [35:49<1:35:06, 10.55s/it]"
     ]
    },
    {
     "name": "stdout",
     "output_type": "stream",
     "text": [
      "epoch: 200 loss:0.365336 auc:0.8985\n",
      "Fit finished.\n",
      "epoch:   0 loss:0.805104 auc:0.5267\n",
      "epoch:  20 loss:0.403115 auc:0.9349\n",
      "epoch:  40 loss:0.376160 auc:0.9331\n",
      "epoch:  60 loss:0.372535 auc:0.9319\n",
      "epoch:  80 loss:0.371293 auc:0.9327\n",
      "epoch: 100 loss:0.370394 auc:0.9326\n",
      "epoch: 120 loss:0.369266 auc:0.9330\n",
      "epoch: 140 loss:0.367296 auc:0.9336\n",
      "epoch: 160 loss:0.362796 auc:0.9356\n",
      "epoch: 180 loss:0.355942 auc:0.9386\n",
      "epoch: 200 loss:0.349558 auc:0.9456\n",
      "epoch: 220 loss:0.341906 auc:0.9527\n",
      "epoch: 240 loss:0.332447 auc:0.9483\n",
      "epoch: 260 loss:0.324576 auc:0.9486\n"
     ]
    },
    {
     "name": "stderr",
     "output_type": "stream",
     "text": [
      " 29%|██▊       | 216/756 [35:59<1:34:37, 10.51s/it]"
     ]
    },
    {
     "name": "stdout",
     "output_type": "stream",
     "text": [
      "epoch: 280 loss:0.316384 auc:0.9297\n",
      "Fit finished.\n",
      "epoch:   0 loss:0.814279 auc:0.4488\n",
      "epoch:  20 loss:0.398202 auc:0.8985\n",
      "epoch:  40 loss:0.377421 auc:0.9083\n",
      "epoch:  60 loss:0.373656 auc:0.9103\n",
      "epoch:  80 loss:0.372072 auc:0.9114\n",
      "epoch: 100 loss:0.371324 auc:0.9109\n",
      "epoch: 120 loss:0.370726 auc:0.9108\n",
      "epoch: 140 loss:0.370043 auc:0.9110\n",
      "epoch: 160 loss:0.369066 auc:0.9110\n",
      "epoch: 180 loss:0.367079 auc:0.9113\n",
      "epoch: 200 loss:0.362682 auc:0.9120\n",
      "epoch: 220 loss:0.356935 auc:0.9115\n",
      "epoch: 240 loss:0.351992 auc:0.9132\n",
      "epoch: 260 loss:0.345983 auc:0.9172\n",
      "epoch: 280 loss:0.339460 auc:0.9276\n",
      "epoch: 300 loss:0.331893 auc:0.9318\n",
      "epoch: 320 loss:0.324434 auc:0.9290\n",
      "epoch: 340 loss:0.317096 auc:0.9255\n",
      "epoch: 360 loss:0.310580 auc:0.9197\n",
      "epoch: 380 loss:0.302867 auc:0.9175\n",
      "epoch: 400 loss:0.304228 auc:0.9153\n",
      "epoch: 420 loss:0.294263 auc:0.9219\n"
     ]
    },
    {
     "name": "stderr",
     "output_type": "stream",
     "text": [
      " 29%|██▊       | 217/756 [36:18<1:55:54, 12.90s/it]"
     ]
    },
    {
     "name": "stdout",
     "output_type": "stream",
     "text": [
      "epoch: 440 loss:0.289085 auc:0.9191\n",
      "Fit finished.\n",
      "epoch:   0 loss:0.798732 auc:0.5613\n",
      "epoch:  20 loss:0.407062 auc:0.9340\n",
      "epoch:  40 loss:0.380486 auc:0.9407\n",
      "epoch:  60 loss:0.373856 auc:0.9425\n",
      "epoch:  80 loss:0.371859 auc:0.9418\n",
      "epoch: 100 loss:0.370847 auc:0.9425\n",
      "epoch: 120 loss:0.369821 auc:0.9422\n",
      "epoch: 140 loss:0.368329 auc:0.9420\n",
      "epoch: 160 loss:0.365653 auc:0.9416\n",
      "epoch: 180 loss:0.360714 auc:0.9406\n"
     ]
    },
    {
     "name": "stderr",
     "output_type": "stream",
     "text": [
      " 29%|██▉       | 218/756 [36:26<1:42:28, 11.43s/it]"
     ]
    },
    {
     "name": "stdout",
     "output_type": "stream",
     "text": [
      "epoch: 200 loss:0.355134 auc:0.9389\n",
      "Fit finished.\n",
      "epoch:   0 loss:0.884323 auc:0.5260\n",
      "epoch:  20 loss:0.420646 auc:0.8790\n",
      "epoch:  40 loss:0.382985 auc:0.8881\n",
      "epoch:  60 loss:0.374545 auc:0.8938\n",
      "epoch:  80 loss:0.372024 auc:0.8929\n",
      "epoch: 100 loss:0.370916 auc:0.8935\n",
      "epoch: 120 loss:0.370048 auc:0.8934\n",
      "epoch: 140 loss:0.369064 auc:0.8934\n",
      "epoch: 160 loss:0.367693 auc:0.8936\n",
      "epoch: 180 loss:0.365469 auc:0.8935\n",
      "epoch: 200 loss:0.361604 auc:0.8926\n"
     ]
    },
    {
     "name": "stderr",
     "output_type": "stream",
     "text": [
      " 29%|██▉       | 219/756 [36:34<1:34:11, 10.52s/it]"
     ]
    },
    {
     "name": "stdout",
     "output_type": "stream",
     "text": [
      "epoch: 220 loss:0.356860 auc:0.8900\n",
      "Fit finished.\n",
      "epoch:   0 loss:0.793378 auc:0.3394\n",
      "epoch:  20 loss:0.397819 auc:0.9422\n",
      "epoch:  40 loss:0.377420 auc:0.9435\n",
      "epoch:  60 loss:0.373027 auc:0.9425\n",
      "epoch:  80 loss:0.371720 auc:0.9428\n",
      "epoch: 100 loss:0.370826 auc:0.9422\n",
      "epoch: 120 loss:0.369870 auc:0.9420\n",
      "epoch: 140 loss:0.368466 auc:0.9420\n",
      "epoch: 160 loss:0.365947 auc:0.9418\n"
     ]
    },
    {
     "name": "stderr",
     "output_type": "stream",
     "text": [
      " 29%|██▉       | 220/756 [36:42<1:25:40,  9.59s/it]"
     ]
    },
    {
     "name": "stdout",
     "output_type": "stream",
     "text": [
      "epoch: 180 loss:0.361727 auc:0.9405\n",
      "Fit finished.\n",
      "epoch:   0 loss:0.798532 auc:0.4525\n",
      "epoch:  20 loss:0.392267 auc:0.9493\n",
      "epoch:  40 loss:0.376150 auc:0.9540\n",
      "epoch:  60 loss:0.372324 auc:0.9547\n",
      "epoch:  80 loss:0.371090 auc:0.9545\n",
      "epoch: 100 loss:0.370037 auc:0.9541\n",
      "epoch: 120 loss:0.368572 auc:0.9542\n",
      "epoch: 140 loss:0.365785 auc:0.9542\n",
      "epoch: 160 loss:0.361023 auc:0.9547\n",
      "epoch: 180 loss:0.355965 auc:0.9546\n"
     ]
    },
    {
     "name": "stderr",
     "output_type": "stream",
     "text": [
      " 29%|██▉       | 221/756 [36:49<1:19:55,  8.96s/it]"
     ]
    },
    {
     "name": "stdout",
     "output_type": "stream",
     "text": [
      "epoch: 200 loss:0.350192 auc:0.9530\n",
      "Fit finished.\n",
      "epoch:   0 loss:0.758128 auc:0.6117\n",
      "epoch:  20 loss:0.392877 auc:0.8803\n",
      "epoch:  40 loss:0.377215 auc:0.8748\n",
      "epoch:  60 loss:0.372864 auc:0.8758\n",
      "epoch:  80 loss:0.371444 auc:0.8771\n",
      "epoch: 100 loss:0.370508 auc:0.8768\n",
      "epoch: 120 loss:0.369226 auc:0.8770\n",
      "epoch: 140 loss:0.366814 auc:0.8766\n",
      "epoch: 160 loss:0.362370 auc:0.8743\n"
     ]
    },
    {
     "name": "stderr",
     "output_type": "stream",
     "text": [
      " 29%|██▉       | 222/756 [36:56<1:15:37,  8.50s/it]"
     ]
    },
    {
     "name": "stdout",
     "output_type": "stream",
     "text": [
      "epoch: 180 loss:0.357222 auc:0.8719\n",
      "Fit finished.\n",
      "epoch:   0 loss:0.893673 auc:0.5099\n",
      "epoch:  20 loss:0.411279 auc:0.9188\n",
      "epoch:  40 loss:0.381124 auc:0.9243\n",
      "epoch:  60 loss:0.373969 auc:0.9236\n",
      "epoch:  80 loss:0.372143 auc:0.9246\n",
      "epoch: 100 loss:0.371384 auc:0.9243\n",
      "epoch: 120 loss:0.370835 auc:0.9242\n",
      "epoch: 140 loss:0.370289 auc:0.9242\n",
      "epoch: 160 loss:0.369652 auc:0.9245\n",
      "epoch: 180 loss:0.368795 auc:0.9246\n",
      "epoch: 200 loss:0.367332 auc:0.9248\n",
      "epoch: 220 loss:0.364158 auc:0.9250\n"
     ]
    },
    {
     "name": "stderr",
     "output_type": "stream",
     "text": [
      " 29%|██▉       | 223/756 [37:06<1:18:26,  8.83s/it]"
     ]
    },
    {
     "name": "stdout",
     "output_type": "stream",
     "text": [
      "epoch: 240 loss:0.358480 auc:0.9244\n",
      "Fit finished.\n",
      "epoch:   0 loss:0.888981 auc:0.4897\n",
      "epoch:  20 loss:0.402286 auc:0.7785\n",
      "epoch:  40 loss:0.377691 auc:0.7873\n",
      "epoch:  60 loss:0.373371 auc:0.7886\n",
      "epoch:  80 loss:0.371772 auc:0.7889\n",
      "epoch: 100 loss:0.370900 auc:0.7894\n",
      "epoch: 120 loss:0.370168 auc:0.7892\n",
      "epoch: 140 loss:0.369311 auc:0.7888\n",
      "epoch: 160 loss:0.367986 auc:0.7885\n",
      "epoch: 180 loss:0.365565 auc:0.7872\n"
     ]
    },
    {
     "name": "stderr",
     "output_type": "stream",
     "text": [
      " 30%|██▉       | 224/756 [37:14<1:17:05,  8.69s/it]"
     ]
    },
    {
     "name": "stdout",
     "output_type": "stream",
     "text": [
      "epoch: 200 loss:0.361554 auc:0.7831\n",
      "Fit finished.\n",
      "epoch:   0 loss:0.741688 auc:0.6284\n",
      "epoch:  20 loss:0.381661 auc:0.9050\n",
      "epoch:  40 loss:0.373754 auc:0.9057\n",
      "epoch:  60 loss:0.371019 auc:0.9065\n",
      "epoch:  80 loss:0.369526 auc:0.9062\n",
      "epoch: 100 loss:0.367363 auc:0.9063\n",
      "epoch: 120 loss:0.362656 auc:0.9050\n",
      "epoch: 140 loss:0.355346 auc:0.9001\n",
      "epoch: 160 loss:0.346924 auc:0.8961\n"
     ]
    },
    {
     "name": "stderr",
     "output_type": "stream",
     "text": [
      " 30%|██▉       | 225/756 [37:21<1:12:37,  8.21s/it]"
     ]
    },
    {
     "name": "stdout",
     "output_type": "stream",
     "text": [
      "epoch: 180 loss:0.336639 auc:0.8913\n",
      "Fit finished.\n",
      "epoch:   0 loss:0.817260 auc:0.3805\n",
      "epoch:  20 loss:0.389877 auc:0.9349\n",
      "epoch:  40 loss:0.377225 auc:0.9345\n",
      "epoch:  60 loss:0.372808 auc:0.9356\n",
      "epoch:  80 loss:0.371484 auc:0.9360\n",
      "epoch: 100 loss:0.370626 auc:0.9357\n",
      "epoch: 120 loss:0.369714 auc:0.9355\n",
      "epoch: 140 loss:0.368399 auc:0.9353\n",
      "epoch: 160 loss:0.366050 auc:0.9342\n"
     ]
    },
    {
     "name": "stderr",
     "output_type": "stream",
     "text": [
      " 30%|██▉       | 226/756 [37:29<1:09:35,  7.88s/it]"
     ]
    },
    {
     "name": "stdout",
     "output_type": "stream",
     "text": [
      "epoch: 180 loss:0.361714 auc:0.9322\n",
      "Fit finished.\n",
      "epoch:   0 loss:0.751702 auc:0.5034\n",
      "epoch:  20 loss:0.393354 auc:0.8867\n",
      "epoch:  40 loss:0.376105 auc:0.8850\n",
      "epoch:  60 loss:0.372445 auc:0.8848\n",
      "epoch:  80 loss:0.371381 auc:0.8845\n",
      "epoch: 100 loss:0.370596 auc:0.8844\n",
      "epoch: 120 loss:0.369680 auc:0.8844\n",
      "epoch: 140 loss:0.368189 auc:0.8836\n",
      "epoch: 160 loss:0.364892 auc:0.8824\n"
     ]
    },
    {
     "name": "stderr",
     "output_type": "stream",
     "text": [
      " 30%|███       | 227/756 [37:35<1:06:05,  7.50s/it]"
     ]
    },
    {
     "name": "stdout",
     "output_type": "stream",
     "text": [
      "epoch: 180 loss:0.358918 auc:0.8784\n",
      "Fit finished.\n",
      "epoch:   0 loss:0.806154 auc:0.3200\n",
      "epoch:  20 loss:0.392343 auc:0.9204\n",
      "epoch:  40 loss:0.375871 auc:0.9237\n",
      "epoch:  60 loss:0.372810 auc:0.9253\n",
      "epoch:  80 loss:0.371853 auc:0.9260\n",
      "epoch: 100 loss:0.371158 auc:0.9257\n",
      "epoch: 120 loss:0.370387 auc:0.9255\n",
      "epoch: 140 loss:0.369181 auc:0.9254\n",
      "epoch: 160 loss:0.366709 auc:0.9232\n"
     ]
    },
    {
     "name": "stderr",
     "output_type": "stream",
     "text": [
      " 30%|███       | 228/756 [37:43<1:07:53,  7.71s/it]"
     ]
    },
    {
     "name": "stdout",
     "output_type": "stream",
     "text": [
      "epoch: 180 loss:0.361733 auc:0.9195\n",
      "Fit finished.\n",
      "epoch:   0 loss:0.853673 auc:0.4805\n",
      "epoch:  20 loss:0.404740 auc:0.8569\n",
      "epoch:  40 loss:0.377271 auc:0.8645\n",
      "epoch:  60 loss:0.372597 auc:0.8638\n",
      "epoch:  80 loss:0.371031 auc:0.8632\n",
      "epoch: 100 loss:0.370128 auc:0.8628\n",
      "epoch: 120 loss:0.369214 auc:0.8626\n",
      "epoch: 140 loss:0.367958 auc:0.8621\n",
      "epoch: 160 loss:0.365722 auc:0.8619\n",
      "epoch: 180 loss:0.361400 auc:0.8597\n"
     ]
    },
    {
     "name": "stderr",
     "output_type": "stream",
     "text": [
      " 30%|███       | 229/756 [37:51<1:07:08,  7.65s/it]"
     ]
    },
    {
     "name": "stdout",
     "output_type": "stream",
     "text": [
      "epoch: 200 loss:0.355884 auc:0.8569\n",
      "Fit finished.\n",
      "epoch:   0 loss:0.782429 auc:0.5625\n",
      "epoch:  20 loss:0.399837 auc:0.9391\n",
      "epoch:  40 loss:0.378233 auc:0.9387\n",
      "epoch:  60 loss:0.373284 auc:0.9386\n",
      "epoch:  80 loss:0.371687 auc:0.9388\n",
      "epoch: 100 loss:0.370805 auc:0.9388\n",
      "epoch: 120 loss:0.369977 auc:0.9387\n",
      "epoch: 140 loss:0.368857 auc:0.9390\n",
      "epoch: 160 loss:0.366905 auc:0.9392\n",
      "epoch: 180 loss:0.363287 auc:0.9398\n",
      "epoch: 200 loss:0.358717 auc:0.9400\n",
      "epoch: 220 loss:0.354240 auc:0.9391\n",
      "epoch: 240 loss:0.350067 auc:0.9395\n"
     ]
    },
    {
     "name": "stderr",
     "output_type": "stream",
     "text": [
      " 30%|███       | 230/756 [38:01<1:12:12,  8.24s/it]"
     ]
    },
    {
     "name": "stdout",
     "output_type": "stream",
     "text": [
      "epoch: 260 loss:0.343348 auc:0.9383\n",
      "Fit finished.\n",
      "epoch:   0 loss:0.769331 auc:0.5389\n",
      "epoch:  20 loss:0.393206 auc:0.8933\n",
      "epoch:  40 loss:0.375573 auc:0.8984\n",
      "epoch:  60 loss:0.371953 auc:0.8993\n",
      "epoch:  80 loss:0.370669 auc:0.8996\n",
      "epoch: 100 loss:0.369374 auc:0.8996\n",
      "epoch: 120 loss:0.367194 auc:0.9005\n",
      "epoch: 140 loss:0.362964 auc:0.8997\n",
      "epoch: 160 loss:0.357595 auc:0.8976\n",
      "epoch: 180 loss:0.351974 auc:0.8962\n"
     ]
    },
    {
     "name": "stderr",
     "output_type": "stream",
     "text": [
      " 31%|███       | 231/756 [38:09<1:11:47,  8.20s/it]"
     ]
    },
    {
     "name": "stdout",
     "output_type": "stream",
     "text": [
      "epoch: 200 loss:0.344555 auc:0.8940\n",
      "Fit finished.\n",
      "epoch:   0 loss:0.790474 auc:0.3892\n",
      "epoch:  20 loss:0.390922 auc:0.9487\n",
      "epoch:  40 loss:0.377445 auc:0.9510\n",
      "epoch:  60 loss:0.373178 auc:0.9511\n",
      "epoch:  80 loss:0.371925 auc:0.9514\n",
      "epoch: 100 loss:0.371236 auc:0.9513\n",
      "epoch: 120 loss:0.370564 auc:0.9512\n",
      "epoch: 140 loss:0.369669 auc:0.9513\n",
      "epoch: 160 loss:0.368191 auc:0.9513\n",
      "epoch: 180 loss:0.365412 auc:0.9507\n"
     ]
    },
    {
     "name": "stderr",
     "output_type": "stream",
     "text": [
      " 31%|███       | 232/756 [38:17<1:12:03,  8.25s/it]"
     ]
    },
    {
     "name": "stdout",
     "output_type": "stream",
     "text": [
      "epoch: 200 loss:0.361051 auc:0.9497\n",
      "Fit finished.\n",
      "epoch:   0 loss:0.729027 auc:0.5192\n",
      "epoch:  20 loss:0.391306 auc:0.9375\n",
      "epoch:  40 loss:0.375035 auc:0.9379\n",
      "epoch:  60 loss:0.371826 auc:0.9383\n",
      "epoch:  80 loss:0.370646 auc:0.9384\n",
      "epoch: 100 loss:0.369470 auc:0.9388\n",
      "epoch: 120 loss:0.367566 auc:0.9387\n",
      "epoch: 140 loss:0.363868 auc:0.9382\n",
      "epoch: 160 loss:0.358020 auc:0.9370\n"
     ]
    },
    {
     "name": "stderr",
     "output_type": "stream",
     "text": [
      " 31%|███       | 233/756 [38:25<1:10:10,  8.05s/it]"
     ]
    },
    {
     "name": "stdout",
     "output_type": "stream",
     "text": [
      "epoch: 180 loss:0.351168 auc:0.9350\n",
      "Fit finished.\n",
      "epoch:   0 loss:0.958875 auc:0.4582\n",
      "epoch:  20 loss:0.414434 auc:0.7091\n",
      "epoch:  40 loss:0.382368 auc:0.7228\n",
      "epoch:  60 loss:0.374019 auc:0.7293\n",
      "epoch:  80 loss:0.371612 auc:0.7310\n",
      "epoch: 100 loss:0.370584 auc:0.7310\n",
      "epoch: 120 loss:0.369745 auc:0.7306\n",
      "epoch: 140 loss:0.368739 auc:0.7308\n",
      "epoch: 160 loss:0.367185 auc:0.7305\n",
      "epoch: 180 loss:0.364017 auc:0.7297\n",
      "epoch: 200 loss:0.358446 auc:0.7274\n"
     ]
    },
    {
     "name": "stderr",
     "output_type": "stream",
     "text": [
      " 31%|███       | 234/756 [38:34<1:12:46,  8.37s/it]"
     ]
    },
    {
     "name": "stdout",
     "output_type": "stream",
     "text": [
      "epoch: 220 loss:0.353134 auc:0.7216\n",
      "Fit finished.\n",
      "epoch:   0 loss:0.768854 auc:0.4408\n",
      "epoch:  20 loss:0.385768 auc:0.9327\n",
      "epoch:  40 loss:0.374033 auc:0.9352\n",
      "epoch:  60 loss:0.371478 auc:0.9351\n",
      "epoch:  80 loss:0.370107 auc:0.9345\n",
      "epoch: 100 loss:0.368081 auc:0.9343\n",
      "epoch: 120 loss:0.364211 auc:0.9330\n",
      "epoch: 140 loss:0.358599 auc:0.9302\n",
      "epoch: 160 loss:0.352250 auc:0.9233\n"
     ]
    },
    {
     "name": "stderr",
     "output_type": "stream",
     "text": [
      " 31%|███       | 235/756 [38:41<1:10:25,  8.11s/it]"
     ]
    },
    {
     "name": "stdout",
     "output_type": "stream",
     "text": [
      "epoch: 180 loss:0.344072 auc:0.9161\n",
      "Fit finished.\n",
      "epoch:   0 loss:0.812669 auc:0.3958\n",
      "epoch:  20 loss:0.403799 auc:0.9300\n",
      "epoch:  40 loss:0.379009 auc:0.9303\n",
      "epoch:  60 loss:0.373865 auc:0.9300\n",
      "epoch:  80 loss:0.371973 auc:0.9302\n",
      "epoch: 100 loss:0.371094 auc:0.9298\n",
      "epoch: 120 loss:0.370315 auc:0.9295\n",
      "epoch: 140 loss:0.369305 auc:0.9292\n",
      "epoch: 160 loss:0.367669 auc:0.9287\n"
     ]
    },
    {
     "name": "stderr",
     "output_type": "stream",
     "text": [
      " 31%|███       | 236/756 [38:48<1:07:19,  7.77s/it]"
     ]
    },
    {
     "name": "stdout",
     "output_type": "stream",
     "text": [
      "epoch: 180 loss:0.364837 auc:0.9274\n",
      "Fit finished.\n",
      "epoch:   0 loss:0.729577 auc:0.6275\n",
      "epoch:  20 loss:0.391133 auc:0.8520\n",
      "epoch:  40 loss:0.376299 auc:0.8606\n",
      "epoch:  60 loss:0.372314 auc:0.8656\n",
      "epoch:  80 loss:0.370965 auc:0.8655\n",
      "epoch: 100 loss:0.369993 auc:0.8661\n",
      "epoch: 120 loss:0.368748 auc:0.8656\n",
      "epoch: 140 loss:0.366419 auc:0.8651\n",
      "epoch: 160 loss:0.361394 auc:0.8633\n",
      "epoch: 180 loss:0.354771 auc:0.8576\n"
     ]
    },
    {
     "name": "stderr",
     "output_type": "stream",
     "text": [
      " 31%|███▏      | 237/756 [38:56<1:07:50,  7.84s/it]"
     ]
    },
    {
     "name": "stdout",
     "output_type": "stream",
     "text": [
      "epoch: 200 loss:0.346873 auc:0.8509\n",
      "Fit finished.\n",
      "epoch:   0 loss:0.854271 auc:0.4031\n",
      "epoch:  20 loss:0.402949 auc:0.7080\n",
      "epoch:  40 loss:0.377179 auc:0.7188\n",
      "epoch:  60 loss:0.372255 auc:0.7190\n",
      "epoch:  80 loss:0.370665 auc:0.7175\n",
      "epoch: 100 loss:0.369810 auc:0.7181\n",
      "epoch: 120 loss:0.368978 auc:0.7180\n",
      "epoch: 140 loss:0.367901 auc:0.7178\n",
      "epoch: 160 loss:0.365967 auc:0.7187\n",
      "epoch: 180 loss:0.361115 auc:0.7191\n"
     ]
    },
    {
     "name": "stderr",
     "output_type": "stream",
     "text": [
      " 31%|███▏      | 238/756 [39:05<1:09:05,  8.00s/it]"
     ]
    },
    {
     "name": "stdout",
     "output_type": "stream",
     "text": [
      "epoch: 200 loss:0.355249 auc:0.7176\n",
      "Fit finished.\n",
      "epoch:   0 loss:0.682146 auc:0.5651\n",
      "epoch:  20 loss:0.382741 auc:0.7695\n",
      "epoch:  40 loss:0.374020 auc:0.7748\n",
      "epoch:  60 loss:0.371158 auc:0.7731\n",
      "epoch:  80 loss:0.369843 auc:0.7727\n",
      "epoch: 100 loss:0.368145 auc:0.7724\n",
      "epoch: 120 loss:0.364675 auc:0.7722\n",
      "epoch: 140 loss:0.359024 auc:0.7740\n",
      "epoch: 160 loss:0.353560 auc:0.7721\n",
      "epoch: 180 loss:0.348128 auc:0.7701\n"
     ]
    },
    {
     "name": "stderr",
     "output_type": "stream",
     "text": [
      " 32%|███▏      | 239/756 [39:13<1:09:07,  8.02s/it]"
     ]
    },
    {
     "name": "stdout",
     "output_type": "stream",
     "text": [
      "epoch: 200 loss:0.339566 auc:0.7722\n",
      "Fit finished.\n",
      "epoch:   0 loss:0.748188 auc:0.5090\n",
      "epoch:  20 loss:0.394920 auc:0.8935\n",
      "epoch:  40 loss:0.375790 auc:0.8974\n",
      "epoch:  60 loss:0.372291 auc:0.8985\n",
      "epoch:  80 loss:0.371138 auc:0.8978\n",
      "epoch: 100 loss:0.370309 auc:0.8979\n",
      "epoch: 120 loss:0.369223 auc:0.8980\n",
      "epoch: 140 loss:0.367255 auc:0.8974\n",
      "epoch: 160 loss:0.363189 auc:0.8967\n",
      "epoch: 180 loss:0.357332 auc:0.8952\n"
     ]
    },
    {
     "name": "stderr",
     "output_type": "stream",
     "text": [
      " 32%|███▏      | 240/756 [39:21<1:10:56,  8.25s/it]"
     ]
    },
    {
     "name": "stdout",
     "output_type": "stream",
     "text": [
      "epoch: 200 loss:0.349462 auc:0.8946\n",
      "Fit finished.\n",
      "epoch:   0 loss:0.774895 auc:0.4858\n",
      "epoch:  20 loss:0.391899 auc:0.8283\n",
      "epoch:  40 loss:0.376291 auc:0.8303\n",
      "epoch:  60 loss:0.372065 auc:0.8305\n",
      "epoch:  80 loss:0.370756 auc:0.8314\n",
      "epoch: 100 loss:0.369628 auc:0.8315\n",
      "epoch: 120 loss:0.367910 auc:0.8318\n",
      "epoch: 140 loss:0.364771 auc:0.8306\n",
      "epoch: 160 loss:0.360176 auc:0.8281\n"
     ]
    },
    {
     "name": "stderr",
     "output_type": "stream",
     "text": [
      " 32%|███▏      | 241/756 [39:28<1:07:41,  7.89s/it]"
     ]
    },
    {
     "name": "stdout",
     "output_type": "stream",
     "text": [
      "epoch: 180 loss:0.355576 auc:0.8246\n",
      "Fit finished.\n",
      "epoch:   0 loss:0.860811 auc:0.3717\n",
      "epoch:  20 loss:0.395587 auc:0.8635\n",
      "epoch:  40 loss:0.376501 auc:0.8732\n",
      "epoch:  60 loss:0.372694 auc:0.8761\n",
      "epoch:  80 loss:0.371446 auc:0.8760\n",
      "epoch: 100 loss:0.370614 auc:0.8760\n",
      "epoch: 120 loss:0.369677 auc:0.8764\n",
      "epoch: 140 loss:0.368247 auc:0.8759\n",
      "epoch: 160 loss:0.365503 auc:0.8754\n",
      "epoch: 180 loss:0.360050 auc:0.8731\n"
     ]
    },
    {
     "name": "stderr",
     "output_type": "stream",
     "text": [
      " 32%|███▏      | 242/756 [39:37<1:08:11,  7.96s/it]"
     ]
    },
    {
     "name": "stdout",
     "output_type": "stream",
     "text": [
      "epoch: 200 loss:0.355448 auc:0.8700\n",
      "Fit finished.\n",
      "epoch:   0 loss:0.857581 auc:0.5452\n",
      "epoch:  20 loss:0.393907 auc:0.6914\n",
      "epoch:  40 loss:0.377618 auc:0.6990\n",
      "epoch:  60 loss:0.372938 auc:0.7022\n",
      "epoch:  80 loss:0.371656 auc:0.7016\n",
      "epoch: 100 loss:0.370957 auc:0.7021\n",
      "epoch: 120 loss:0.370416 auc:0.7026\n",
      "epoch: 140 loss:0.369834 auc:0.7024\n",
      "epoch: 160 loss:0.369074 auc:0.7021\n",
      "epoch: 180 loss:0.367913 auc:0.7021\n",
      "epoch: 200 loss:0.365829 auc:0.7008\n"
     ]
    },
    {
     "name": "stderr",
     "output_type": "stream",
     "text": [
      " 32%|███▏      | 243/756 [39:44<1:07:06,  7.85s/it]"
     ]
    },
    {
     "name": "stdout",
     "output_type": "stream",
     "text": [
      "epoch: 220 loss:0.361805 auc:0.6996\n",
      "Fit finished.\n",
      "epoch:   0 loss:0.782623 auc:0.4242\n",
      "epoch:  20 loss:0.389125 auc:0.8852\n",
      "epoch:  40 loss:0.374967 auc:0.8867\n",
      "epoch:  60 loss:0.372314 auc:0.8873\n",
      "epoch:  80 loss:0.371072 auc:0.8879\n",
      "epoch: 100 loss:0.370077 auc:0.8879\n",
      "epoch: 120 loss:0.368709 auc:0.8874\n",
      "epoch: 140 loss:0.366133 auc:0.8870\n",
      "epoch: 160 loss:0.361020 auc:0.8856\n",
      "epoch: 180 loss:0.354935 auc:0.8853\n"
     ]
    },
    {
     "name": "stderr",
     "output_type": "stream",
     "text": [
      " 32%|███▏      | 244/756 [39:52<1:07:35,  7.92s/it]"
     ]
    },
    {
     "name": "stdout",
     "output_type": "stream",
     "text": [
      "epoch: 200 loss:0.348987 auc:0.8848\n",
      "Fit finished.\n",
      "epoch:   0 loss:0.840545 auc:0.4625\n",
      "epoch:  20 loss:0.390861 auc:0.7695\n",
      "epoch:  40 loss:0.375054 auc:0.7733\n",
      "epoch:  60 loss:0.372048 auc:0.7747\n",
      "epoch:  80 loss:0.370690 auc:0.7754\n",
      "epoch: 100 loss:0.369844 auc:0.7751\n",
      "epoch: 120 loss:0.368917 auc:0.7750\n",
      "epoch: 140 loss:0.367603 auc:0.7741\n",
      "epoch: 160 loss:0.365440 auc:0.7727\n"
     ]
    },
    {
     "name": "stderr",
     "output_type": "stream",
     "text": [
      " 32%|███▏      | 245/756 [39:59<1:05:25,  7.68s/it]"
     ]
    },
    {
     "name": "stdout",
     "output_type": "stream",
     "text": [
      "epoch: 180 loss:0.361916 auc:0.7691\n",
      "Fit finished.\n",
      "epoch:   0 loss:0.730281 auc:0.3985\n",
      "epoch:  20 loss:0.396058 auc:0.9273\n",
      "epoch:  40 loss:0.375710 auc:0.9329\n",
      "epoch:  60 loss:0.372211 auc:0.9324\n",
      "epoch:  80 loss:0.370879 auc:0.9326\n",
      "epoch: 100 loss:0.369805 auc:0.9329\n",
      "epoch: 120 loss:0.368371 auc:0.9331\n",
      "epoch: 140 loss:0.365615 auc:0.9342\n",
      "epoch: 160 loss:0.360910 auc:0.9347\n",
      "epoch: 180 loss:0.355902 auc:0.9340\n"
     ]
    },
    {
     "name": "stderr",
     "output_type": "stream",
     "text": [
      " 33%|███▎      | 246/756 [40:08<1:08:40,  8.08s/it]"
     ]
    },
    {
     "name": "stdout",
     "output_type": "stream",
     "text": [
      "epoch: 200 loss:0.350294 auc:0.9311\n",
      "Fit finished.\n",
      "epoch:   0 loss:0.759967 auc:0.6694\n",
      "epoch:  20 loss:0.387123 auc:0.9118\n",
      "epoch:  40 loss:0.375122 auc:0.9140\n",
      "epoch:  60 loss:0.371967 auc:0.9140\n",
      "epoch:  80 loss:0.370785 auc:0.9136\n",
      "epoch: 100 loss:0.369549 auc:0.9134\n",
      "epoch: 120 loss:0.367385 auc:0.9129\n",
      "epoch: 140 loss:0.362826 auc:0.9117\n",
      "epoch: 160 loss:0.357025 auc:0.9090\n"
     ]
    },
    {
     "name": "stderr",
     "output_type": "stream",
     "text": [
      " 33%|███▎      | 247/756 [40:16<1:07:23,  7.94s/it]"
     ]
    },
    {
     "name": "stdout",
     "output_type": "stream",
     "text": [
      "epoch: 180 loss:0.351044 auc:0.9064\n",
      "Fit finished.\n",
      "epoch:   0 loss:0.882255 auc:0.3280\n",
      "epoch:  20 loss:0.401662 auc:0.9056\n",
      "epoch:  40 loss:0.378399 auc:0.9149\n",
      "epoch:  60 loss:0.373495 auc:0.9160\n",
      "epoch:  80 loss:0.372082 auc:0.9164\n",
      "epoch: 100 loss:0.371319 auc:0.9162\n",
      "epoch: 120 loss:0.370639 auc:0.9163\n",
      "epoch: 140 loss:0.369796 auc:0.9163\n",
      "epoch: 160 loss:0.368472 auc:0.9166\n",
      "epoch: 180 loss:0.366074 auc:0.9163\n",
      "epoch: 200 loss:0.362009 auc:0.9150\n"
     ]
    },
    {
     "name": "stderr",
     "output_type": "stream",
     "text": [
      " 33%|███▎      | 248/756 [40:24<1:07:19,  7.95s/it]"
     ]
    },
    {
     "name": "stdout",
     "output_type": "stream",
     "text": [
      "epoch: 220 loss:0.357293 auc:0.9129\n",
      "Fit finished.\n",
      "epoch:   0 loss:0.750055 auc:0.4765\n",
      "epoch:  20 loss:0.387132 auc:0.9012\n",
      "epoch:  40 loss:0.375063 auc:0.9028\n",
      "epoch:  60 loss:0.371765 auc:0.9037\n",
      "epoch:  80 loss:0.370109 auc:0.9024\n",
      "epoch: 100 loss:0.368012 auc:0.9014\n",
      "epoch: 120 loss:0.363841 auc:0.8986\n",
      "epoch: 140 loss:0.357968 auc:0.8906\n",
      "epoch: 160 loss:0.352312 auc:0.8833\n"
     ]
    },
    {
     "name": "stderr",
     "output_type": "stream",
     "text": [
      " 33%|███▎      | 249/756 [40:31<1:05:32,  7.76s/it]"
     ]
    },
    {
     "name": "stdout",
     "output_type": "stream",
     "text": [
      "epoch: 180 loss:0.346523 auc:0.8760\n",
      "Fit finished.\n",
      "epoch:   0 loss:0.797617 auc:0.3943\n",
      "epoch:  20 loss:0.394699 auc:0.8759\n",
      "epoch:  40 loss:0.377520 auc:0.8772\n",
      "epoch:  60 loss:0.373030 auc:0.8800\n",
      "epoch:  80 loss:0.371546 auc:0.8804\n",
      "epoch: 100 loss:0.370624 auc:0.8807\n",
      "epoch: 120 loss:0.369664 auc:0.8800\n",
      "epoch: 140 loss:0.368318 auc:0.8800\n",
      "epoch: 160 loss:0.366040 auc:0.8790\n",
      "epoch: 180 loss:0.362278 auc:0.8766\n"
     ]
    },
    {
     "name": "stderr",
     "output_type": "stream",
     "text": [
      " 33%|███▎      | 250/756 [40:39<1:05:02,  7.71s/it]"
     ]
    },
    {
     "name": "stdout",
     "output_type": "stream",
     "text": [
      "epoch: 200 loss:0.358079 auc:0.8726\n",
      "Fit finished.\n",
      "epoch:   0 loss:0.764262 auc:0.5238\n",
      "epoch:  20 loss:0.401183 auc:0.9756\n",
      "epoch:  40 loss:0.379132 auc:0.9773\n",
      "epoch:  60 loss:0.373693 auc:0.9781\n",
      "epoch:  80 loss:0.371989 auc:0.9780\n",
      "epoch: 100 loss:0.371013 auc:0.9781\n",
      "epoch: 120 loss:0.370091 auc:0.9781\n",
      "epoch: 140 loss:0.369017 auc:0.9784\n",
      "epoch: 160 loss:0.367584 auc:0.9787\n",
      "epoch: 180 loss:0.365117 auc:0.9790\n",
      "epoch: 200 loss:0.360856 auc:0.9800\n",
      "epoch: 220 loss:0.356058 auc:0.9814\n",
      "epoch: 240 loss:0.350801 auc:0.9831\n",
      "epoch: 260 loss:0.344396 auc:0.9839\n",
      "epoch: 280 loss:0.337645 auc:0.9832\n",
      "epoch: 300 loss:0.331275 auc:0.9849\n",
      "epoch: 320 loss:0.323115 auc:0.9787\n"
     ]
    },
    {
     "name": "stderr",
     "output_type": "stream",
     "text": [
      " 33%|███▎      | 251/756 [40:53<1:20:01,  9.51s/it]"
     ]
    },
    {
     "name": "stdout",
     "output_type": "stream",
     "text": [
      "epoch: 340 loss:0.315834 auc:0.9765\n",
      "Fit finished.\n",
      "epoch:   0 loss:1.040940 auc:0.5793\n",
      "epoch:  20 loss:0.424952 auc:0.8744\n",
      "epoch:  40 loss:0.384397 auc:0.8839\n",
      "epoch:  60 loss:0.374767 auc:0.8840\n",
      "epoch:  80 loss:0.372147 auc:0.8845\n",
      "epoch: 100 loss:0.371048 auc:0.8840\n",
      "epoch: 120 loss:0.370251 auc:0.8836\n",
      "epoch: 140 loss:0.369349 auc:0.8837\n",
      "epoch: 160 loss:0.368074 auc:0.8835\n",
      "epoch: 180 loss:0.365838 auc:0.8839\n",
      "epoch: 200 loss:0.361603 auc:0.8847\n",
      "epoch: 220 loss:0.357526 auc:0.8854\n",
      "epoch: 240 loss:0.353699 auc:0.8870\n",
      "epoch: 260 loss:0.349504 auc:0.8898\n",
      "epoch: 280 loss:0.344118 auc:0.8916\n",
      "epoch: 300 loss:0.336485 auc:0.8902\n"
     ]
    },
    {
     "name": "stderr",
     "output_type": "stream",
     "text": [
      " 33%|███▎      | 252/756 [41:05<1:26:42, 10.32s/it]"
     ]
    },
    {
     "name": "stdout",
     "output_type": "stream",
     "text": [
      "epoch: 320 loss:0.329712 auc:0.8764\n",
      "Fit finished.\n",
      "epoch:   0 loss:0.722026 auc:0.5467\n",
      "epoch:  20 loss:0.393366 auc:0.7908\n",
      "epoch:  40 loss:0.375138 auc:0.8020\n",
      "epoch:  60 loss:0.371553 auc:0.8026\n",
      "epoch:  80 loss:0.370286 auc:0.8024\n",
      "epoch: 100 loss:0.369135 auc:0.8027\n",
      "epoch: 120 loss:0.367298 auc:0.8018\n",
      "epoch: 140 loss:0.363582 auc:0.7993\n",
      "epoch: 160 loss:0.357333 auc:0.7982\n",
      "epoch: 180 loss:0.350011 auc:0.7960\n"
     ]
    },
    {
     "name": "stderr",
     "output_type": "stream",
     "text": [
      " 33%|███▎      | 253/756 [41:12<1:19:48,  9.52s/it]"
     ]
    },
    {
     "name": "stdout",
     "output_type": "stream",
     "text": [
      "epoch: 200 loss:0.342332 auc:0.7975\n",
      "Fit finished.\n",
      "epoch:   0 loss:0.738262 auc:0.5552\n",
      "epoch:  20 loss:0.390433 auc:0.8951\n",
      "epoch:  40 loss:0.375321 auc:0.8993\n",
      "epoch:  60 loss:0.372116 auc:0.8999\n",
      "epoch:  80 loss:0.371146 auc:0.8999\n",
      "epoch: 100 loss:0.370307 auc:0.8995\n",
      "epoch: 120 loss:0.369177 auc:0.8997\n",
      "epoch: 140 loss:0.367235 auc:0.8996\n",
      "epoch: 160 loss:0.363531 auc:0.8992\n",
      "epoch: 180 loss:0.358176 auc:0.8985\n",
      "epoch: 200 loss:0.352064 auc:0.8997\n",
      "epoch: 220 loss:0.344744 auc:0.9024\n",
      "epoch: 240 loss:0.334618 auc:0.9032\n",
      "epoch: 260 loss:0.326893 auc:0.9017\n"
     ]
    },
    {
     "name": "stderr",
     "output_type": "stream",
     "text": [
      " 34%|███▎      | 254/756 [41:24<1:24:41, 10.12s/it]"
     ]
    },
    {
     "name": "stdout",
     "output_type": "stream",
     "text": [
      "epoch: 280 loss:0.317625 auc:0.8924\n",
      "Fit finished.\n",
      "epoch:   0 loss:0.843401 auc:0.5754\n",
      "epoch:  20 loss:0.403341 auc:0.8988\n",
      "epoch:  40 loss:0.378779 auc:0.8978\n",
      "epoch:  60 loss:0.373040 auc:0.8979\n",
      "epoch:  80 loss:0.371218 auc:0.8979\n",
      "epoch: 100 loss:0.370151 auc:0.8976\n",
      "epoch: 120 loss:0.368992 auc:0.8979\n",
      "epoch: 140 loss:0.367180 auc:0.8980\n",
      "epoch: 160 loss:0.364188 auc:0.8979\n"
     ]
    },
    {
     "name": "stderr",
     "output_type": "stream",
     "text": [
      " 34%|███▎      | 255/756 [41:31<1:17:45,  9.31s/it]"
     ]
    },
    {
     "name": "stdout",
     "output_type": "stream",
     "text": [
      "epoch: 180 loss:0.360470 auc:0.8976\n",
      "Fit finished.\n",
      "epoch:   0 loss:0.900337 auc:0.5717\n",
      "epoch:  20 loss:0.407417 auc:0.9262\n",
      "epoch:  40 loss:0.377715 auc:0.9329\n",
      "epoch:  60 loss:0.372812 auc:0.9332\n",
      "epoch:  80 loss:0.371222 auc:0.9330\n",
      "epoch: 100 loss:0.370285 auc:0.9333\n",
      "epoch: 120 loss:0.369362 auc:0.9333\n",
      "epoch: 140 loss:0.368118 auc:0.9334\n",
      "epoch: 160 loss:0.366117 auc:0.9332\n",
      "epoch: 180 loss:0.362828 auc:0.9329\n"
     ]
    },
    {
     "name": "stderr",
     "output_type": "stream",
     "text": [
      " 34%|███▍      | 256/756 [41:39<1:13:51,  8.86s/it]"
     ]
    },
    {
     "name": "stdout",
     "output_type": "stream",
     "text": [
      "epoch: 200 loss:0.358333 auc:0.9315\n",
      "Fit finished.\n",
      "epoch:   0 loss:0.871718 auc:0.5358\n",
      "epoch:  20 loss:0.398605 auc:0.9229\n",
      "epoch:  40 loss:0.378174 auc:0.9266\n",
      "epoch:  60 loss:0.373374 auc:0.9266\n",
      "epoch:  80 loss:0.371584 auc:0.9270\n",
      "epoch: 100 loss:0.370692 auc:0.9266\n",
      "epoch: 120 loss:0.369912 auc:0.9270\n",
      "epoch: 140 loss:0.368876 auc:0.9268\n",
      "epoch: 160 loss:0.367012 auc:0.9266\n",
      "epoch: 180 loss:0.363032 auc:0.9265\n"
     ]
    },
    {
     "name": "stderr",
     "output_type": "stream",
     "text": [
      " 34%|███▍      | 257/756 [41:48<1:12:51,  8.76s/it]"
     ]
    },
    {
     "name": "stdout",
     "output_type": "stream",
     "text": [
      "epoch: 200 loss:0.357202 auc:0.9260\n",
      "Fit finished.\n",
      "epoch:   0 loss:0.720801 auc:0.6267\n",
      "epoch:  20 loss:0.395603 auc:0.8890\n",
      "epoch:  40 loss:0.375089 auc:0.8924\n",
      "epoch:  60 loss:0.371489 auc:0.8908\n",
      "epoch:  80 loss:0.369983 auc:0.8906\n",
      "epoch: 100 loss:0.368391 auc:0.8911\n",
      "epoch: 120 loss:0.365229 auc:0.8912\n",
      "epoch: 140 loss:0.359538 auc:0.8941\n",
      "epoch: 160 loss:0.353121 auc:0.8958\n",
      "epoch: 180 loss:0.346499 auc:0.9005\n",
      "epoch: 200 loss:0.334597 auc:0.8990\n",
      "epoch: 220 loss:0.323788 auc:0.8992\n"
     ]
    },
    {
     "name": "stderr",
     "output_type": "stream",
     "text": [
      " 34%|███▍      | 258/756 [41:57<1:12:44,  8.77s/it]"
     ]
    },
    {
     "name": "stdout",
     "output_type": "stream",
     "text": [
      "epoch: 240 loss:0.313457 auc:0.8874\n",
      "Fit finished.\n",
      "epoch:   0 loss:0.840513 auc:0.6004\n",
      "epoch:  20 loss:0.407137 auc:0.8888\n",
      "epoch:  40 loss:0.381160 auc:0.8961\n",
      "epoch:  60 loss:0.373860 auc:0.8991\n",
      "epoch:  80 loss:0.372091 auc:0.8984\n",
      "epoch: 100 loss:0.371300 auc:0.8988\n",
      "epoch: 120 loss:0.370690 auc:0.8985\n",
      "epoch: 140 loss:0.369999 auc:0.8985\n",
      "epoch: 160 loss:0.369064 auc:0.8981\n",
      "epoch: 180 loss:0.367602 auc:0.8983\n",
      "epoch: 200 loss:0.365172 auc:0.8976\n"
     ]
    },
    {
     "name": "stderr",
     "output_type": "stream",
     "text": [
      " 34%|███▍      | 259/756 [42:06<1:15:34,  9.12s/it]"
     ]
    },
    {
     "name": "stdout",
     "output_type": "stream",
     "text": [
      "epoch: 220 loss:0.361509 auc:0.8952\n",
      "Fit finished.\n",
      "epoch:   0 loss:0.810278 auc:0.5025\n",
      "epoch:  20 loss:0.401068 auc:0.9076\n",
      "epoch:  40 loss:0.376986 auc:0.9064\n",
      "epoch:  60 loss:0.372921 auc:0.9073\n",
      "epoch:  80 loss:0.371436 auc:0.9083\n",
      "epoch: 100 loss:0.370529 auc:0.9077\n",
      "epoch: 120 loss:0.369546 auc:0.9081\n",
      "epoch: 140 loss:0.368062 auc:0.9085\n",
      "epoch: 160 loss:0.365201 auc:0.9086\n",
      "epoch: 180 loss:0.359898 auc:0.9083\n",
      "epoch: 200 loss:0.355092 auc:0.9086\n"
     ]
    },
    {
     "name": "stderr",
     "output_type": "stream",
     "text": [
      " 34%|███▍      | 260/756 [42:15<1:14:32,  9.02s/it]"
     ]
    },
    {
     "name": "stdout",
     "output_type": "stream",
     "text": [
      "epoch: 220 loss:0.348892 auc:0.9067\n",
      "Fit finished.\n",
      "epoch:   0 loss:0.810264 auc:0.4900\n",
      "epoch:  20 loss:0.398849 auc:0.8874\n",
      "epoch:  40 loss:0.378762 auc:0.8907\n",
      "epoch:  60 loss:0.373688 auc:0.8888\n",
      "epoch:  80 loss:0.371875 auc:0.8888\n",
      "epoch: 100 loss:0.371085 auc:0.8887\n",
      "epoch: 120 loss:0.370479 auc:0.8888\n",
      "epoch: 140 loss:0.369823 auc:0.8891\n",
      "epoch: 160 loss:0.368950 auc:0.8892\n",
      "epoch: 180 loss:0.367549 auc:0.8893\n"
     ]
    },
    {
     "name": "stderr",
     "output_type": "stream",
     "text": [
      " 35%|███▍      | 261/756 [42:22<1:09:03,  8.37s/it]"
     ]
    },
    {
     "name": "stdout",
     "output_type": "stream",
     "text": [
      "epoch: 200 loss:0.364892 auc:0.8891\n",
      "Fit finished.\n",
      "epoch:   0 loss:0.839054 auc:0.3557\n",
      "epoch:  20 loss:0.385390 auc:0.8766\n",
      "epoch:  40 loss:0.374536 auc:0.8832\n",
      "epoch:  60 loss:0.372025 auc:0.8862\n",
      "epoch:  80 loss:0.370690 auc:0.8856\n",
      "epoch: 100 loss:0.369492 auc:0.8859\n",
      "epoch: 120 loss:0.367591 auc:0.8860\n",
      "epoch: 140 loss:0.364006 auc:0.8862\n",
      "epoch: 160 loss:0.358889 auc:0.8861\n",
      "epoch: 180 loss:0.353649 auc:0.8862\n",
      "epoch: 200 loss:0.346578 auc:0.8866\n",
      "epoch: 220 loss:0.338562 auc:0.8925\n",
      "epoch: 240 loss:0.327257 auc:0.8898\n",
      "epoch: 260 loss:0.317201 auc:0.8993\n",
      "epoch: 280 loss:0.309513 auc:0.8988\n",
      "epoch: 300 loss:0.301727 auc:0.8955\n",
      "epoch: 320 loss:0.294340 auc:0.8911\n",
      "epoch: 340 loss:0.288467 auc:0.8924\n",
      "epoch: 360 loss:0.284031 auc:0.8935\n",
      "epoch: 380 loss:0.280266 auc:0.8977\n",
      "epoch: 400 loss:0.276924 auc:0.8924\n"
     ]
    },
    {
     "name": "stderr",
     "output_type": "stream",
     "text": [
      " 35%|███▍      | 262/756 [42:38<1:26:50, 10.55s/it]"
     ]
    },
    {
     "name": "stdout",
     "output_type": "stream",
     "text": [
      "epoch: 420 loss:0.274946 auc:0.8911\n",
      "Fit finished.\n",
      "epoch:   0 loss:0.748771 auc:0.6122\n",
      "epoch:  20 loss:0.407583 auc:0.9203\n",
      "epoch:  40 loss:0.377950 auc:0.9244\n",
      "epoch:  60 loss:0.372988 auc:0.9248\n",
      "epoch:  80 loss:0.371284 auc:0.9247\n",
      "epoch: 100 loss:0.370230 auc:0.9245\n",
      "epoch: 120 loss:0.368923 auc:0.9245\n",
      "epoch: 140 loss:0.366590 auc:0.9244\n",
      "epoch: 160 loss:0.362171 auc:0.9254\n",
      "epoch: 180 loss:0.357049 auc:0.9265\n",
      "epoch: 200 loss:0.351857 auc:0.9265\n",
      "epoch: 220 loss:0.347317 auc:0.9268\n",
      "epoch: 240 loss:0.339165 auc:0.9275\n"
     ]
    },
    {
     "name": "stderr",
     "output_type": "stream",
     "text": [
      " 35%|███▍      | 263/756 [42:48<1:25:37, 10.42s/it]"
     ]
    },
    {
     "name": "stdout",
     "output_type": "stream",
     "text": [
      "epoch: 260 loss:0.331083 auc:0.9237\n",
      "Fit finished.\n",
      "epoch:   0 loss:0.769485 auc:0.5229\n",
      "epoch:  20 loss:0.391544 auc:0.8953\n",
      "epoch:  40 loss:0.376300 auc:0.9011\n",
      "epoch:  60 loss:0.372859 auc:0.9021\n",
      "epoch:  80 loss:0.371458 auc:0.9027\n",
      "epoch: 100 loss:0.370567 auc:0.9026\n",
      "epoch: 120 loss:0.369575 auc:0.9021\n",
      "epoch: 140 loss:0.368158 auc:0.9018\n",
      "epoch: 160 loss:0.365647 auc:0.9010\n",
      "epoch: 180 loss:0.360975 auc:0.9005\n"
     ]
    },
    {
     "name": "stderr",
     "output_type": "stream",
     "text": [
      " 35%|███▍      | 264/756 [42:56<1:19:15,  9.67s/it]"
     ]
    },
    {
     "name": "stdout",
     "output_type": "stream",
     "text": [
      "epoch: 200 loss:0.355044 auc:0.8974\n",
      "Fit finished.\n",
      "epoch:   0 loss:0.694994 auc:0.5987\n",
      "epoch:  20 loss:0.386687 auc:0.9292\n",
      "epoch:  40 loss:0.375186 auc:0.9313\n",
      "epoch:  60 loss:0.372427 auc:0.9314\n",
      "epoch:  80 loss:0.371285 auc:0.9312\n",
      "epoch: 100 loss:0.370199 auc:0.9315\n",
      "epoch: 120 loss:0.368497 auc:0.9313\n",
      "epoch: 140 loss:0.365473 auc:0.9310\n",
      "epoch: 160 loss:0.359379 auc:0.9292\n",
      "epoch: 180 loss:0.352144 auc:0.9300\n"
     ]
    },
    {
     "name": "stderr",
     "output_type": "stream",
     "text": [
      " 35%|███▌      | 265/756 [43:03<1:14:16,  9.08s/it]"
     ]
    },
    {
     "name": "stdout",
     "output_type": "stream",
     "text": [
      "epoch: 200 loss:0.342727 auc:0.9289\n",
      "Fit finished.\n",
      "epoch:   0 loss:0.983324 auc:0.4148\n",
      "epoch:  20 loss:0.409741 auc:0.9137\n",
      "epoch:  40 loss:0.380449 auc:0.9235\n",
      "epoch:  60 loss:0.373770 auc:0.9240\n",
      "epoch:  80 loss:0.371988 auc:0.9231\n",
      "epoch: 100 loss:0.371233 auc:0.9229\n",
      "epoch: 120 loss:0.370644 auc:0.9228\n",
      "epoch: 140 loss:0.369994 auc:0.9228\n",
      "epoch: 160 loss:0.369131 auc:0.9226\n",
      "epoch: 180 loss:0.367834 auc:0.9226\n"
     ]
    },
    {
     "name": "stderr",
     "output_type": "stream",
     "text": [
      " 35%|███▌      | 266/756 [43:12<1:12:11,  8.84s/it]"
     ]
    },
    {
     "name": "stdout",
     "output_type": "stream",
     "text": [
      "epoch: 200 loss:0.365726 auc:0.9224\n",
      "Fit finished.\n",
      "epoch:   0 loss:0.858036 auc:0.4753\n",
      "epoch:  20 loss:0.404791 auc:0.7142\n",
      "epoch:  40 loss:0.377517 auc:0.7167\n",
      "epoch:  60 loss:0.372526 auc:0.7218\n",
      "epoch:  80 loss:0.370893 auc:0.7227\n",
      "epoch: 100 loss:0.369984 auc:0.7222\n",
      "epoch: 120 loss:0.369048 auc:0.7225\n",
      "epoch: 140 loss:0.367668 auc:0.7224\n",
      "epoch: 160 loss:0.365159 auc:0.7217\n",
      "epoch: 180 loss:0.361041 auc:0.7219\n",
      "epoch: 200 loss:0.356733 auc:0.7213\n"
     ]
    },
    {
     "name": "stderr",
     "output_type": "stream",
     "text": [
      " 35%|███▌      | 267/756 [43:21<1:13:39,  9.04s/it]"
     ]
    },
    {
     "name": "stdout",
     "output_type": "stream",
     "text": [
      "epoch: 220 loss:0.352126 auc:0.7187\n",
      "Fit finished.\n",
      "epoch:   0 loss:0.786102 auc:0.5157\n",
      "epoch:  20 loss:0.392161 auc:0.9288\n",
      "epoch:  40 loss:0.374841 auc:0.9310\n",
      "epoch:  60 loss:0.371959 auc:0.9317\n",
      "epoch:  80 loss:0.370776 auc:0.9314\n",
      "epoch: 100 loss:0.369722 auc:0.9315\n",
      "epoch: 120 loss:0.368195 auc:0.9313\n",
      "epoch: 140 loss:0.365201 auc:0.9309\n",
      "epoch: 160 loss:0.358651 auc:0.9292\n"
     ]
    },
    {
     "name": "stderr",
     "output_type": "stream",
     "text": [
      " 35%|███▌      | 268/756 [43:29<1:09:20,  8.53s/it]"
     ]
    },
    {
     "name": "stdout",
     "output_type": "stream",
     "text": [
      "epoch: 180 loss:0.349833 auc:0.9246\n",
      "Fit finished.\n",
      "epoch:   0 loss:0.829957 auc:0.3751\n",
      "epoch:  20 loss:0.392731 auc:0.9206\n",
      "epoch:  40 loss:0.375796 auc:0.9237\n",
      "epoch:  60 loss:0.372257 auc:0.9241\n",
      "epoch:  80 loss:0.371114 auc:0.9238\n",
      "epoch: 100 loss:0.370181 auc:0.9241\n",
      "epoch: 120 loss:0.369005 auc:0.9240\n",
      "epoch: 140 loss:0.367047 auc:0.9235\n",
      "epoch: 160 loss:0.363151 auc:0.9226\n"
     ]
    },
    {
     "name": "stderr",
     "output_type": "stream",
     "text": [
      " 36%|███▌      | 269/756 [43:35<1:03:32,  7.83s/it]"
     ]
    },
    {
     "name": "stdout",
     "output_type": "stream",
     "text": [
      "epoch: 180 loss:0.356743 auc:0.9190\n",
      "Fit finished.\n",
      "epoch:   0 loss:0.736826 auc:0.5067\n",
      "epoch:  20 loss:0.400044 auc:0.9161\n",
      "epoch:  40 loss:0.376934 auc:0.9244\n",
      "epoch:  60 loss:0.373190 auc:0.9282\n",
      "epoch:  80 loss:0.371688 auc:0.9276\n",
      "epoch: 100 loss:0.370838 auc:0.9281\n",
      "epoch: 120 loss:0.369896 auc:0.9276\n",
      "epoch: 140 loss:0.368300 auc:0.9275\n",
      "epoch: 160 loss:0.364998 auc:0.9260\n",
      "epoch: 180 loss:0.359748 auc:0.9239\n",
      "epoch: 200 loss:0.354205 auc:0.9247\n"
     ]
    },
    {
     "name": "stderr",
     "output_type": "stream",
     "text": [
      " 36%|███▌      | 270/756 [43:43<1:04:37,  7.98s/it]"
     ]
    },
    {
     "name": "stdout",
     "output_type": "stream",
     "text": [
      "epoch: 220 loss:0.348434 auc:0.9268\n",
      "Fit finished.\n",
      "epoch:   0 loss:0.807406 auc:0.4203\n",
      "epoch:  20 loss:0.393578 auc:0.9271\n",
      "epoch:  40 loss:0.375564 auc:0.9272\n",
      "epoch:  60 loss:0.372016 auc:0.9262\n",
      "epoch:  80 loss:0.370798 auc:0.9266\n",
      "epoch: 100 loss:0.369686 auc:0.9264\n",
      "epoch: 120 loss:0.367962 auc:0.9273\n",
      "epoch: 140 loss:0.364604 auc:0.9289\n",
      "epoch: 160 loss:0.359167 auc:0.9300\n",
      "epoch: 180 loss:0.353670 auc:0.9306\n",
      "epoch: 200 loss:0.347738 auc:0.9311\n",
      "epoch: 220 loss:0.340137 auc:0.9342\n",
      "epoch: 240 loss:0.329603 auc:0.9311\n",
      "epoch: 260 loss:0.319252 auc:0.9268\n"
     ]
    },
    {
     "name": "stderr",
     "output_type": "stream",
     "text": [
      " 36%|███▌      | 271/756 [43:55<1:13:22,  9.08s/it]"
     ]
    },
    {
     "name": "stdout",
     "output_type": "stream",
     "text": [
      "epoch: 280 loss:0.311119 auc:0.9226\n",
      "Fit finished.\n",
      "epoch:   0 loss:0.740428 auc:0.6694\n",
      "epoch:  20 loss:0.402352 auc:0.9333\n",
      "epoch:  40 loss:0.380257 auc:0.9314\n",
      "epoch:  60 loss:0.373815 auc:0.9312\n",
      "epoch:  80 loss:0.371993 auc:0.9312\n",
      "epoch: 100 loss:0.371134 auc:0.9309\n",
      "epoch: 120 loss:0.370449 auc:0.9305\n",
      "epoch: 140 loss:0.369678 auc:0.9310\n",
      "epoch: 160 loss:0.368595 auc:0.9313\n"
     ]
    },
    {
     "name": "stderr",
     "output_type": "stream",
     "text": [
      " 36%|███▌      | 272/756 [44:02<1:09:31,  8.62s/it]"
     ]
    },
    {
     "name": "stdout",
     "output_type": "stream",
     "text": [
      "epoch: 180 loss:0.366706 auc:0.9318\n",
      "Fit finished.\n",
      "epoch:   0 loss:0.771778 auc:0.4994\n",
      "epoch:  20 loss:0.393216 auc:0.8968\n",
      "epoch:  40 loss:0.375141 auc:0.9072\n",
      "epoch:  60 loss:0.372161 auc:0.9049\n",
      "epoch:  80 loss:0.370953 auc:0.9058\n",
      "epoch: 100 loss:0.369922 auc:0.9054\n",
      "epoch: 120 loss:0.368453 auc:0.9055\n",
      "epoch: 140 loss:0.365681 auc:0.9057\n",
      "epoch: 160 loss:0.360179 auc:0.9040\n",
      "epoch: 180 loss:0.353586 auc:0.9030\n"
     ]
    },
    {
     "name": "stderr",
     "output_type": "stream",
     "text": [
      " 36%|███▌      | 273/756 [44:10<1:07:56,  8.44s/it]"
     ]
    },
    {
     "name": "stdout",
     "output_type": "stream",
     "text": [
      "epoch: 200 loss:0.346220 auc:0.8995\n",
      "Fit finished.\n",
      "epoch:   0 loss:0.736411 auc:0.5272\n",
      "epoch:  20 loss:0.387294 auc:0.9376\n",
      "epoch:  40 loss:0.375954 auc:0.9414\n",
      "epoch:  60 loss:0.372102 auc:0.9438\n",
      "epoch:  80 loss:0.370926 auc:0.9435\n",
      "epoch: 100 loss:0.369819 auc:0.9435\n",
      "epoch: 120 loss:0.368266 auc:0.9441\n",
      "epoch: 140 loss:0.365576 auc:0.9450\n",
      "epoch: 160 loss:0.361157 auc:0.9463\n",
      "epoch: 180 loss:0.355788 auc:0.9482\n",
      "epoch: 200 loss:0.349053 auc:0.9498\n",
      "epoch: 220 loss:0.341569 auc:0.9481\n"
     ]
    },
    {
     "name": "stderr",
     "output_type": "stream",
     "text": [
      " 36%|███▌      | 274/756 [44:21<1:12:09,  8.98s/it]"
     ]
    },
    {
     "name": "stdout",
     "output_type": "stream",
     "text": [
      "epoch: 240 loss:0.330184 auc:0.9393\n",
      "Fit finished.\n",
      "epoch:   0 loss:0.819560 auc:0.4175\n",
      "epoch:  20 loss:0.391745 auc:0.8989\n",
      "epoch:  40 loss:0.376752 auc:0.8978\n",
      "epoch:  60 loss:0.372445 auc:0.8983\n",
      "epoch:  80 loss:0.371203 auc:0.8993\n",
      "epoch: 100 loss:0.370317 auc:0.8997\n",
      "epoch: 120 loss:0.369277 auc:0.8999\n",
      "epoch: 140 loss:0.367665 auc:0.9011\n",
      "epoch: 160 loss:0.364899 auc:0.9019\n",
      "epoch: 180 loss:0.360828 auc:0.9027\n",
      "epoch: 200 loss:0.356471 auc:0.9026\n",
      "epoch: 220 loss:0.351440 auc:0.9040\n",
      "epoch: 240 loss:0.351579 auc:0.9078\n",
      "epoch: 260 loss:0.337266 auc:0.9092\n",
      "epoch: 280 loss:0.328494 auc:0.9073\n"
     ]
    },
    {
     "name": "stderr",
     "output_type": "stream",
     "text": [
      " 36%|███▋      | 275/756 [44:32<1:17:30,  9.67s/it]"
     ]
    },
    {
     "name": "stdout",
     "output_type": "stream",
     "text": [
      "epoch: 300 loss:0.320663 auc:0.8992\n",
      "Fit finished.\n",
      "epoch:   0 loss:0.807088 auc:0.5108\n",
      "epoch:  20 loss:0.389314 auc:0.8388\n",
      "epoch:  40 loss:0.374625 auc:0.8407\n",
      "epoch:  60 loss:0.371732 auc:0.8429\n",
      "epoch:  80 loss:0.370424 auc:0.8424\n",
      "epoch: 100 loss:0.369163 auc:0.8418\n",
      "epoch: 120 loss:0.367295 auc:0.8413\n",
      "epoch: 140 loss:0.363989 auc:0.8396\n",
      "epoch: 160 loss:0.358893 auc:0.8371\n"
     ]
    },
    {
     "name": "stderr",
     "output_type": "stream",
     "text": [
      " 37%|███▋      | 276/756 [44:39<1:11:53,  8.99s/it]"
     ]
    },
    {
     "name": "stdout",
     "output_type": "stream",
     "text": [
      "epoch: 180 loss:0.353154 auc:0.8329\n",
      "Fit finished.\n",
      "epoch:   0 loss:0.750418 auc:0.6549\n",
      "epoch:  20 loss:0.401046 auc:0.9198\n",
      "epoch:  40 loss:0.378043 auc:0.9211\n",
      "epoch:  60 loss:0.373387 auc:0.9197\n",
      "epoch:  80 loss:0.371646 auc:0.9207\n",
      "epoch: 100 loss:0.370942 auc:0.9206\n",
      "epoch: 120 loss:0.370370 auc:0.9208\n",
      "epoch: 140 loss:0.369686 auc:0.9211\n",
      "epoch: 160 loss:0.368533 auc:0.9211\n",
      "epoch: 180 loss:0.365840 auc:0.9217\n",
      "epoch: 200 loss:0.360563 auc:0.9243\n",
      "epoch: 220 loss:0.355393 auc:0.9265\n",
      "epoch: 240 loss:0.350481 auc:0.9285\n",
      "epoch: 260 loss:0.345056 auc:0.9283\n",
      "epoch: 280 loss:0.340028 auc:0.9208\n",
      "epoch: 300 loss:0.334800 auc:0.9217\n"
     ]
    },
    {
     "name": "stderr",
     "output_type": "stream",
     "text": [
      " 37%|███▋      | 277/756 [44:52<1:21:08, 10.16s/it]"
     ]
    },
    {
     "name": "stdout",
     "output_type": "stream",
     "text": [
      "epoch: 320 loss:0.330246 auc:0.9114\n",
      "Fit finished.\n",
      "epoch:   0 loss:0.755045 auc:0.4452\n",
      "epoch:  20 loss:0.390425 auc:0.9506\n",
      "epoch:  40 loss:0.375329 auc:0.9520\n",
      "epoch:  60 loss:0.372018 auc:0.9529\n",
      "epoch:  80 loss:0.370559 auc:0.9523\n",
      "epoch: 100 loss:0.369101 auc:0.9527\n",
      "epoch: 120 loss:0.366782 auc:0.9527\n",
      "epoch: 140 loss:0.362279 auc:0.9525\n",
      "epoch: 160 loss:0.356106 auc:0.9514\n"
     ]
    },
    {
     "name": "stderr",
     "output_type": "stream",
     "text": [
      " 37%|███▋      | 278/756 [44:59<1:13:40,  9.25s/it]"
     ]
    },
    {
     "name": "stdout",
     "output_type": "stream",
     "text": [
      "epoch: 180 loss:0.349751 auc:0.9499\n",
      "Fit finished.\n",
      "epoch:   0 loss:0.695545 auc:0.6462\n",
      "epoch:  20 loss:0.386061 auc:0.8880\n",
      "epoch:  40 loss:0.374435 auc:0.8889\n",
      "epoch:  60 loss:0.372114 auc:0.8881\n",
      "epoch:  80 loss:0.370936 auc:0.8904\n",
      "epoch: 100 loss:0.369768 auc:0.8897\n",
      "epoch: 120 loss:0.367229 auc:0.8906\n",
      "epoch: 140 loss:0.361007 auc:0.8900\n",
      "epoch: 160 loss:0.353960 auc:0.8907\n",
      "epoch: 180 loss:0.348216 auc:0.8903\n",
      "epoch: 200 loss:0.341060 auc:0.8893\n"
     ]
    },
    {
     "name": "stderr",
     "output_type": "stream",
     "text": [
      " 37%|███▋      | 279/756 [45:09<1:14:10,  9.33s/it]"
     ]
    },
    {
     "name": "stdout",
     "output_type": "stream",
     "text": [
      "epoch: 220 loss:0.332605 auc:0.8875\n",
      "Fit finished.\n",
      "epoch:   0 loss:0.879355 auc:0.3531\n",
      "epoch:  20 loss:0.406254 auc:0.9497\n",
      "epoch:  40 loss:0.380682 auc:0.9525\n",
      "epoch:  60 loss:0.374346 auc:0.9518\n",
      "epoch:  80 loss:0.372308 auc:0.9525\n",
      "epoch: 100 loss:0.371338 auc:0.9521\n",
      "epoch: 120 loss:0.370542 auc:0.9523\n",
      "epoch: 140 loss:0.369506 auc:0.9524\n",
      "epoch: 160 loss:0.367667 auc:0.9528\n",
      "epoch: 180 loss:0.364092 auc:0.9539\n",
      "epoch: 200 loss:0.358982 auc:0.9545\n",
      "epoch: 220 loss:0.353884 auc:0.9551\n",
      "epoch: 240 loss:0.348318 auc:0.9553\n",
      "epoch: 260 loss:0.344369 auc:0.9522\n"
     ]
    },
    {
     "name": "stderr",
     "output_type": "stream",
     "text": [
      " 37%|███▋      | 280/756 [45:19<1:16:47,  9.68s/it]"
     ]
    },
    {
     "name": "stdout",
     "output_type": "stream",
     "text": [
      "epoch: 280 loss:0.336797 auc:0.9369\n",
      "Fit finished.\n",
      "epoch:   0 loss:0.749175 auc:0.4906\n",
      "epoch:  20 loss:0.386467 auc:0.9556\n",
      "epoch:  40 loss:0.374513 auc:0.9574\n",
      "epoch:  60 loss:0.371845 auc:0.9583\n",
      "epoch:  80 loss:0.370703 auc:0.9577\n",
      "epoch: 100 loss:0.369321 auc:0.9586\n",
      "epoch: 120 loss:0.366898 auc:0.9588\n",
      "epoch: 140 loss:0.362100 auc:0.9599\n",
      "epoch: 160 loss:0.355670 auc:0.9618\n",
      "epoch: 180 loss:0.348123 auc:0.9625\n",
      "epoch: 200 loss:0.338370 auc:0.9621\n",
      "epoch: 220 loss:0.331161 auc:0.9608\n",
      "epoch: 240 loss:0.324406 auc:0.9591\n"
     ]
    },
    {
     "name": "stderr",
     "output_type": "stream",
     "text": [
      " 37%|███▋      | 281/756 [45:30<1:18:45,  9.95s/it]"
     ]
    },
    {
     "name": "stdout",
     "output_type": "stream",
     "text": [
      "epoch: 260 loss:0.314418 auc:0.9532\n",
      "Fit finished.\n",
      "epoch:   0 loss:0.722406 auc:0.6465\n",
      "epoch:  20 loss:0.391880 auc:0.9368\n",
      "epoch:  40 loss:0.376606 auc:0.9352\n",
      "epoch:  60 loss:0.372578 auc:0.9352\n",
      "epoch:  80 loss:0.371102 auc:0.9360\n",
      "epoch: 100 loss:0.370110 auc:0.9359\n",
      "epoch: 120 loss:0.368856 auc:0.9359\n",
      "epoch: 140 loss:0.366537 auc:0.9364\n",
      "epoch: 160 loss:0.362558 auc:0.9372\n",
      "epoch: 180 loss:0.358367 auc:0.9387\n",
      "epoch: 200 loss:0.353930 auc:0.9390\n",
      "epoch: 220 loss:0.348618 auc:0.9377\n"
     ]
    },
    {
     "name": "stderr",
     "output_type": "stream",
     "text": [
      " 37%|███▋      | 282/756 [45:38<1:14:26,  9.42s/it]"
     ]
    },
    {
     "name": "stdout",
     "output_type": "stream",
     "text": [
      "epoch: 240 loss:0.342677 auc:0.9350\n",
      "Fit finished.\n",
      "epoch:   0 loss:0.835811 auc:0.5213\n",
      "epoch:  20 loss:0.398719 auc:0.9064\n",
      "epoch:  40 loss:0.376787 auc:0.9146\n",
      "epoch:  60 loss:0.373447 auc:0.9147\n",
      "epoch:  80 loss:0.372087 auc:0.9139\n",
      "epoch: 100 loss:0.371361 auc:0.9137\n",
      "epoch: 120 loss:0.370687 auc:0.9141\n",
      "epoch: 140 loss:0.369825 auc:0.9138\n",
      "epoch: 160 loss:0.368489 auc:0.9133\n",
      "epoch: 180 loss:0.366050 auc:0.9120\n"
     ]
    },
    {
     "name": "stderr",
     "output_type": "stream",
     "text": [
      " 37%|███▋      | 283/756 [45:46<1:09:51,  8.86s/it]"
     ]
    },
    {
     "name": "stdout",
     "output_type": "stream",
     "text": [
      "epoch: 200 loss:0.362012 auc:0.9113\n",
      "Fit finished.\n",
      "epoch:   0 loss:0.719418 auc:0.5988\n",
      "epoch:  20 loss:0.390263 auc:0.9057\n",
      "epoch:  40 loss:0.376322 auc:0.9093\n",
      "epoch:  60 loss:0.372898 auc:0.9097\n",
      "epoch:  80 loss:0.371711 auc:0.9094\n",
      "epoch: 100 loss:0.370990 auc:0.9096\n",
      "epoch: 120 loss:0.370256 auc:0.9096\n",
      "epoch: 140 loss:0.369249 auc:0.9093\n",
      "epoch: 160 loss:0.367502 auc:0.9094\n",
      "epoch: 180 loss:0.364021 auc:0.9090\n"
     ]
    },
    {
     "name": "stderr",
     "output_type": "stream",
     "text": [
      " 38%|███▊      | 284/756 [45:54<1:08:39,  8.73s/it]"
     ]
    },
    {
     "name": "stdout",
     "output_type": "stream",
     "text": [
      "epoch: 200 loss:0.358875 auc:0.9091\n",
      "Fit finished.\n",
      "epoch:   0 loss:0.801702 auc:0.4345\n",
      "epoch:  20 loss:0.389404 auc:0.9351\n",
      "epoch:  40 loss:0.374567 auc:0.9358\n",
      "epoch:  60 loss:0.371898 auc:0.9364\n",
      "epoch:  80 loss:0.370474 auc:0.9357\n",
      "epoch: 100 loss:0.368684 auc:0.9363\n",
      "epoch: 120 loss:0.365148 auc:0.9367\n",
      "epoch: 140 loss:0.359368 auc:0.9394\n",
      "epoch: 160 loss:0.352961 auc:0.9416\n",
      "epoch: 180 loss:0.345391 auc:0.9428\n"
     ]
    },
    {
     "name": "stderr",
     "output_type": "stream",
     "text": [
      " 38%|███▊      | 285/756 [46:02<1:06:20,  8.45s/it]"
     ]
    },
    {
     "name": "stdout",
     "output_type": "stream",
     "text": [
      "epoch: 200 loss:0.336875 auc:0.9307\n",
      "Fit finished.\n",
      "epoch:   0 loss:0.782826 auc:0.4983\n",
      "epoch:  20 loss:0.395388 auc:0.6112\n",
      "epoch:  40 loss:0.374860 auc:0.6164\n",
      "epoch:  60 loss:0.371863 auc:0.6159\n",
      "epoch:  80 loss:0.370774 auc:0.6159\n",
      "epoch: 100 loss:0.370076 auc:0.6164\n",
      "epoch: 120 loss:0.369288 auc:0.6163\n",
      "epoch: 140 loss:0.368063 auc:0.6161\n",
      "epoch: 160 loss:0.365758 auc:0.6157\n",
      "epoch: 180 loss:0.361480 auc:0.6130\n"
     ]
    },
    {
     "name": "stderr",
     "output_type": "stream",
     "text": [
      " 38%|███▊      | 286/756 [46:10<1:06:19,  8.47s/it]"
     ]
    },
    {
     "name": "stdout",
     "output_type": "stream",
     "text": [
      "epoch: 200 loss:0.356024 auc:0.6095\n",
      "Fit finished.\n",
      "epoch:   0 loss:0.928661 auc:0.6294\n",
      "epoch:  20 loss:0.418723 auc:0.9275\n",
      "epoch:  40 loss:0.383419 auc:0.9261\n",
      "epoch:  60 loss:0.374838 auc:0.9270\n",
      "epoch:  80 loss:0.372487 auc:0.9275\n",
      "epoch: 100 loss:0.371571 auc:0.9280\n",
      "epoch: 120 loss:0.370990 auc:0.9279\n",
      "epoch: 140 loss:0.370421 auc:0.9282\n",
      "epoch: 160 loss:0.369710 auc:0.9284\n",
      "epoch: 180 loss:0.368635 auc:0.9287\n",
      "epoch: 200 loss:0.366708 auc:0.9292\n",
      "epoch: 220 loss:0.363364 auc:0.9301\n",
      "epoch: 240 loss:0.359864 auc:0.9317\n",
      "epoch: 260 loss:0.356521 auc:0.9320\n",
      "epoch: 280 loss:0.353022 auc:0.9315\n"
     ]
    },
    {
     "name": "stderr",
     "output_type": "stream",
     "text": [
      " 38%|███▊      | 287/756 [46:22<1:14:00,  9.47s/it]"
     ]
    },
    {
     "name": "stdout",
     "output_type": "stream",
     "text": [
      "epoch: 300 loss:0.352551 auc:0.9274\n",
      "Fit finished.\n",
      "epoch:   0 loss:0.763118 auc:0.5396\n",
      "epoch:  20 loss:0.394652 auc:0.9271\n",
      "epoch:  40 loss:0.376749 auc:0.9333\n",
      "epoch:  60 loss:0.372461 auc:0.9320\n",
      "epoch:  80 loss:0.371201 auc:0.9317\n",
      "epoch: 100 loss:0.370187 auc:0.9316\n",
      "epoch: 120 loss:0.368817 auc:0.9320\n",
      "epoch: 140 loss:0.366304 auc:0.9327\n",
      "epoch: 160 loss:0.361797 auc:0.9333\n",
      "epoch: 180 loss:0.356840 auc:0.9370\n",
      "epoch: 200 loss:0.351694 auc:0.9395\n",
      "epoch: 220 loss:0.345309 auc:0.9406\n",
      "epoch: 240 loss:0.336581 auc:0.9401\n",
      "epoch: 260 loss:0.324632 auc:0.9319\n",
      "epoch: 280 loss:0.313528 auc:0.9370\n",
      "epoch: 300 loss:0.304887 auc:0.9417\n",
      "epoch: 320 loss:0.301443 auc:0.9409\n",
      "epoch: 340 loss:0.292865 auc:0.9459\n",
      "epoch: 360 loss:0.287474 auc:0.9462\n",
      "epoch: 380 loss:0.283057 auc:0.9468\n",
      "epoch: 400 loss:0.279458 auc:0.9488\n",
      "epoch: 420 loss:0.276648 auc:0.9465\n",
      "epoch: 440 loss:0.274255 auc:0.9516\n",
      "epoch: 460 loss:0.271922 auc:0.9481\n",
      "epoch: 480 loss:0.270801 auc:0.9531\n",
      "epoch: 500 loss:0.268648 auc:0.9512\n",
      "epoch: 520 loss:0.267247 auc:0.9492\n",
      "epoch: 540 loss:0.266609 auc:0.9509\n",
      "epoch: 560 loss:0.265848 auc:0.9514\n",
      "epoch: 580 loss:0.264182 auc:0.9494\n",
      "epoch: 600 loss:0.263684 auc:0.9521\n",
      "epoch: 620 loss:0.262867 auc:0.9514\n"
     ]
    },
    {
     "name": "stderr",
     "output_type": "stream",
     "text": [
      " 38%|███▊      | 288/756 [46:45<1:46:14, 13.62s/it]"
     ]
    },
    {
     "name": "stdout",
     "output_type": "stream",
     "text": [
      "epoch: 640 loss:0.262396 auc:0.9459\n",
      "Fit finished.\n",
      "epoch:   0 loss:0.844914 auc:0.4022\n",
      "epoch:  20 loss:0.384820 auc:0.8608\n",
      "epoch:  40 loss:0.375024 auc:0.8653\n",
      "epoch:  60 loss:0.371855 auc:0.8673\n",
      "epoch:  80 loss:0.370597 auc:0.8678\n",
      "epoch: 100 loss:0.369413 auc:0.8676\n",
      "epoch: 120 loss:0.367545 auc:0.8676\n",
      "epoch: 140 loss:0.363880 auc:0.8678\n",
      "epoch: 160 loss:0.358522 auc:0.8670\n",
      "epoch: 180 loss:0.352196 auc:0.8647\n"
     ]
    },
    {
     "name": "stderr",
     "output_type": "stream",
     "text": [
      " 38%|███▊      | 289/756 [46:53<1:31:43, 11.79s/it]"
     ]
    },
    {
     "name": "stdout",
     "output_type": "stream",
     "text": [
      "epoch: 200 loss:0.343077 auc:0.8617\n",
      "Fit finished.\n",
      "epoch:   0 loss:0.766752 auc:0.4781\n",
      "epoch:  20 loss:0.392121 auc:0.9344\n",
      "epoch:  40 loss:0.375011 auc:0.9379\n",
      "epoch:  60 loss:0.371733 auc:0.9376\n",
      "epoch:  80 loss:0.370418 auc:0.9375\n",
      "epoch: 100 loss:0.369066 auc:0.9376\n",
      "epoch: 120 loss:0.366626 auc:0.9381\n",
      "epoch: 140 loss:0.361992 auc:0.9386\n",
      "epoch: 160 loss:0.356624 auc:0.9398\n",
      "epoch: 180 loss:0.350736 auc:0.9418\n",
      "epoch: 200 loss:0.343376 auc:0.9461\n",
      "epoch: 220 loss:0.334897 auc:0.9462\n",
      "epoch: 240 loss:0.324466 auc:0.9455\n",
      "epoch: 260 loss:0.319916 auc:0.9415\n",
      "epoch: 280 loss:0.309147 auc:0.9403\n"
     ]
    },
    {
     "name": "stderr",
     "output_type": "stream",
     "text": [
      " 38%|███▊      | 290/756 [47:04<1:30:42, 11.68s/it]"
     ]
    },
    {
     "name": "stdout",
     "output_type": "stream",
     "text": [
      "epoch: 300 loss:0.301623 auc:0.9371\n",
      "Fit finished.\n",
      "epoch:   0 loss:0.755332 auc:0.3695\n",
      "epoch:  20 loss:0.391630 auc:0.9380\n",
      "epoch:  40 loss:0.378019 auc:0.9377\n",
      "epoch:  60 loss:0.373436 auc:0.9389\n",
      "epoch:  80 loss:0.372017 auc:0.9390\n",
      "epoch: 100 loss:0.371329 auc:0.9394\n",
      "epoch: 120 loss:0.370739 auc:0.9395\n",
      "epoch: 140 loss:0.370046 auc:0.9395\n",
      "epoch: 160 loss:0.369048 auc:0.9399\n",
      "epoch: 180 loss:0.367268 auc:0.9405\n",
      "epoch: 200 loss:0.363704 auc:0.9415\n",
      "epoch: 220 loss:0.358815 auc:0.9443\n",
      "epoch: 240 loss:0.353271 auc:0.9468\n",
      "epoch: 260 loss:0.344704 auc:0.9504\n",
      "epoch: 280 loss:0.336954 auc:0.9523\n",
      "epoch: 300 loss:0.330383 auc:0.9397\n",
      "epoch: 320 loss:0.322109 auc:0.9407\n"
     ]
    },
    {
     "name": "stderr",
     "output_type": "stream",
     "text": [
      " 38%|███▊      | 291/756 [47:18<1:36:07, 12.40s/it]"
     ]
    },
    {
     "name": "stdout",
     "output_type": "stream",
     "text": [
      "epoch: 340 loss:0.314328 auc:0.9305\n",
      "Fit finished.\n",
      "epoch:   0 loss:0.737510 auc:0.5165\n",
      "epoch:  20 loss:0.384950 auc:0.8289\n",
      "epoch:  40 loss:0.374817 auc:0.8299\n",
      "epoch:  60 loss:0.371691 auc:0.8288\n",
      "epoch:  80 loss:0.370398 auc:0.8287\n",
      "epoch: 100 loss:0.369214 auc:0.8284\n",
      "epoch: 120 loss:0.367319 auc:0.8279\n",
      "epoch: 140 loss:0.363486 auc:0.8254\n",
      "epoch: 160 loss:0.357819 auc:0.8192\n"
     ]
    },
    {
     "name": "stderr",
     "output_type": "stream",
     "text": [
      " 39%|███▊      | 292/756 [47:25<1:23:09, 10.75s/it]"
     ]
    },
    {
     "name": "stdout",
     "output_type": "stream",
     "text": [
      "epoch: 180 loss:0.351735 auc:0.8131\n",
      "Fit finished.\n",
      "epoch:   0 loss:0.746865 auc:0.5832\n",
      "epoch:  20 loss:0.388821 auc:0.9541\n",
      "epoch:  40 loss:0.374988 auc:0.9532\n",
      "epoch:  60 loss:0.372472 auc:0.9534\n",
      "epoch:  80 loss:0.371195 auc:0.9542\n",
      "epoch: 100 loss:0.370024 auc:0.9543\n",
      "epoch: 120 loss:0.368104 auc:0.9546\n",
      "epoch: 140 loss:0.364028 auc:0.9559\n",
      "epoch: 160 loss:0.357833 auc:0.9582\n",
      "epoch: 180 loss:0.352136 auc:0.9626\n",
      "epoch: 200 loss:0.343904 auc:0.9648\n"
     ]
    },
    {
     "name": "stderr",
     "output_type": "stream",
     "text": [
      " 39%|███▉      | 293/756 [47:34<1:17:57, 10.10s/it]"
     ]
    },
    {
     "name": "stdout",
     "output_type": "stream",
     "text": [
      "epoch: 220 loss:0.338946 auc:0.9239\n",
      "Fit finished.\n",
      "epoch:   0 loss:0.715216 auc:0.5827\n",
      "epoch:  20 loss:0.393120 auc:0.9464\n",
      "epoch:  40 loss:0.377099 auc:0.9516\n",
      "epoch:  60 loss:0.372472 auc:0.9512\n",
      "epoch:  80 loss:0.370982 auc:0.9511\n",
      "epoch: 100 loss:0.369755 auc:0.9517\n",
      "epoch: 120 loss:0.368028 auc:0.9526\n",
      "epoch: 140 loss:0.364903 auc:0.9552\n",
      "epoch: 160 loss:0.360087 auc:0.9591\n",
      "epoch: 180 loss:0.355229 auc:0.9591\n",
      "epoch: 200 loss:0.349801 auc:0.9576\n"
     ]
    },
    {
     "name": "stderr",
     "output_type": "stream",
     "text": [
      " 39%|███▉      | 294/756 [47:43<1:15:09,  9.76s/it]"
     ]
    },
    {
     "name": "stdout",
     "output_type": "stream",
     "text": [
      "epoch: 220 loss:0.344499 auc:0.9492\n",
      "Fit finished.\n",
      "epoch:   0 loss:0.800254 auc:0.4802\n",
      "epoch:  20 loss:0.393287 auc:0.9185\n",
      "epoch:  40 loss:0.376647 auc:0.9224\n",
      "epoch:  60 loss:0.372225 auc:0.9210\n",
      "epoch:  80 loss:0.370788 auc:0.9228\n",
      "epoch: 100 loss:0.369583 auc:0.9224\n",
      "epoch: 120 loss:0.367831 auc:0.9227\n",
      "epoch: 140 loss:0.364296 auc:0.9221\n",
      "epoch: 160 loss:0.358895 auc:0.9229\n",
      "epoch: 180 loss:0.353679 auc:0.9227\n",
      "epoch: 200 loss:0.347533 auc:0.9231\n",
      "epoch: 220 loss:0.339528 auc:0.9217\n",
      "epoch: 240 loss:0.333117 auc:0.9234\n"
     ]
    },
    {
     "name": "stderr",
     "output_type": "stream",
     "text": [
      " 39%|███▉      | 295/756 [47:53<1:15:12,  9.79s/it]"
     ]
    },
    {
     "name": "stdout",
     "output_type": "stream",
     "text": [
      "epoch: 260 loss:0.323494 auc:0.9163\n",
      "Fit finished.\n",
      "epoch:   0 loss:0.877916 auc:0.4871\n",
      "epoch:  20 loss:0.401162 auc:0.8554\n",
      "epoch:  40 loss:0.377224 auc:0.8601\n",
      "epoch:  60 loss:0.373262 auc:0.8600\n",
      "epoch:  80 loss:0.371751 auc:0.8606\n",
      "epoch: 100 loss:0.370985 auc:0.8614\n",
      "epoch: 120 loss:0.370268 auc:0.8613\n",
      "epoch: 140 loss:0.369342 auc:0.8613\n",
      "epoch: 160 loss:0.367910 auc:0.8608\n",
      "epoch: 180 loss:0.365234 auc:0.8594\n"
     ]
    },
    {
     "name": "stderr",
     "output_type": "stream",
     "text": [
      " 39%|███▉      | 296/756 [48:00<1:09:35,  9.08s/it]"
     ]
    },
    {
     "name": "stdout",
     "output_type": "stream",
     "text": [
      "epoch: 200 loss:0.360324 auc:0.8574\n",
      "Fit finished.\n",
      "epoch:   0 loss:0.785809 auc:0.4989\n",
      "epoch:  20 loss:0.401554 auc:0.9284\n",
      "epoch:  40 loss:0.376967 auc:0.9322\n",
      "epoch:  60 loss:0.373074 auc:0.9329\n",
      "epoch:  80 loss:0.371589 auc:0.9320\n",
      "epoch: 100 loss:0.370650 auc:0.9319\n",
      "epoch: 120 loss:0.369569 auc:0.9320\n",
      "epoch: 140 loss:0.367889 auc:0.9321\n",
      "epoch: 160 loss:0.364590 auc:0.9326\n",
      "epoch: 180 loss:0.359409 auc:0.9326\n",
      "epoch: 200 loss:0.354617 auc:0.9331\n",
      "epoch: 220 loss:0.349963 auc:0.9342\n"
     ]
    },
    {
     "name": "stderr",
     "output_type": "stream",
     "text": [
      " 39%|███▉      | 297/756 [48:10<1:12:12,  9.44s/it]"
     ]
    },
    {
     "name": "stdout",
     "output_type": "stream",
     "text": [
      "epoch: 240 loss:0.344491 auc:0.9313\n",
      "Fit finished.\n",
      "epoch:   0 loss:0.971349 auc:0.3543\n",
      "epoch:  20 loss:0.402834 auc:0.8814\n",
      "epoch:  40 loss:0.379716 auc:0.8927\n",
      "epoch:  60 loss:0.373831 auc:0.8930\n",
      "epoch:  80 loss:0.371862 auc:0.8924\n",
      "epoch: 100 loss:0.370834 auc:0.8929\n",
      "epoch: 120 loss:0.369989 auc:0.8937\n",
      "epoch: 140 loss:0.369019 auc:0.8943\n",
      "epoch: 160 loss:0.367553 auc:0.8952\n",
      "epoch: 180 loss:0.364588 auc:0.8964\n",
      "epoch: 200 loss:0.359861 auc:0.8974\n",
      "epoch: 220 loss:0.355311 auc:0.8972\n",
      "epoch: 240 loss:0.351363 auc:0.8982\n",
      "epoch: 260 loss:0.346975 auc:0.8982\n",
      "epoch: 280 loss:0.343302 auc:0.8962\n",
      "epoch: 300 loss:0.341631 auc:0.9000\n",
      "epoch: 320 loss:0.328071 auc:0.8953\n"
     ]
    },
    {
     "name": "stderr",
     "output_type": "stream",
     "text": [
      " 39%|███▉      | 298/756 [48:24<1:22:03, 10.75s/it]"
     ]
    },
    {
     "name": "stdout",
     "output_type": "stream",
     "text": [
      "epoch: 340 loss:0.320679 auc:0.8890\n",
      "Fit finished.\n",
      "epoch:   0 loss:1.033158 auc:0.4663\n",
      "epoch:  20 loss:0.410539 auc:0.9045\n",
      "epoch:  40 loss:0.379021 auc:0.9210\n",
      "epoch:  60 loss:0.373520 auc:0.9208\n",
      "epoch:  80 loss:0.371876 auc:0.9199\n",
      "epoch: 100 loss:0.371078 auc:0.9199\n",
      "epoch: 120 loss:0.370233 auc:0.9201\n",
      "epoch: 140 loss:0.368906 auc:0.9195\n",
      "epoch: 160 loss:0.366255 auc:0.9196\n",
      "epoch: 180 loss:0.361749 auc:0.9177\n"
     ]
    },
    {
     "name": "stderr",
     "output_type": "stream",
     "text": [
      " 40%|███▉      | 299/756 [48:32<1:15:26,  9.91s/it]"
     ]
    },
    {
     "name": "stdout",
     "output_type": "stream",
     "text": [
      "epoch: 200 loss:0.357432 auc:0.9136\n",
      "Fit finished.\n",
      "epoch:   0 loss:0.775765 auc:0.5173\n",
      "epoch:  20 loss:0.400678 auc:0.6783\n",
      "epoch:  40 loss:0.376874 auc:0.6937\n",
      "epoch:  60 loss:0.372198 auc:0.6942\n",
      "epoch:  80 loss:0.370596 auc:0.6937\n",
      "epoch: 100 loss:0.369272 auc:0.6934\n",
      "epoch: 120 loss:0.367060 auc:0.6930\n",
      "epoch: 140 loss:0.362437 auc:0.6930\n",
      "epoch: 160 loss:0.355767 auc:0.6930\n",
      "epoch: 180 loss:0.348952 auc:0.6957\n",
      "epoch: 200 loss:0.340879 auc:0.6966\n",
      "epoch: 220 loss:0.333565 auc:0.6997\n",
      "epoch: 240 loss:0.325511 auc:0.7002\n",
      "epoch: 260 loss:0.317983 auc:0.6983\n",
      "epoch: 280 loss:0.312076 auc:0.7062\n",
      "epoch: 300 loss:0.308690 auc:0.7052\n",
      "epoch: 320 loss:0.299333 auc:0.7001\n",
      "epoch: 340 loss:0.293604 auc:0.6957\n"
     ]
    },
    {
     "name": "stderr",
     "output_type": "stream",
     "text": [
      " 40%|███▉      | 300/756 [48:46<1:24:50, 11.16s/it]"
     ]
    },
    {
     "name": "stdout",
     "output_type": "stream",
     "text": [
      "epoch: 360 loss:0.288827 auc:0.6914\n",
      "Fit finished.\n",
      "epoch:   0 loss:0.698381 auc:0.7169\n",
      "epoch:  20 loss:0.398647 auc:0.9580\n",
      "epoch:  40 loss:0.376017 auc:0.9590\n",
      "epoch:  60 loss:0.372328 auc:0.9601\n",
      "epoch:  80 loss:0.371169 auc:0.9604\n",
      "epoch: 100 loss:0.370345 auc:0.9603\n",
      "epoch: 120 loss:0.369330 auc:0.9599\n",
      "epoch: 140 loss:0.367633 auc:0.9595\n",
      "epoch: 160 loss:0.364437 auc:0.9591\n"
     ]
    },
    {
     "name": "stderr",
     "output_type": "stream",
     "text": [
      " 40%|███▉      | 301/756 [48:53<1:15:02,  9.89s/it]"
     ]
    },
    {
     "name": "stdout",
     "output_type": "stream",
     "text": [
      "epoch: 180 loss:0.359593 auc:0.9576\n",
      "Fit finished.\n",
      "epoch:   0 loss:0.733341 auc:0.4948\n",
      "epoch:  20 loss:0.388111 auc:0.8793\n",
      "epoch:  40 loss:0.374465 auc:0.8798\n",
      "epoch:  60 loss:0.371607 auc:0.8785\n",
      "epoch:  80 loss:0.370269 auc:0.8778\n",
      "epoch: 100 loss:0.368870 auc:0.8775\n",
      "epoch: 120 loss:0.366302 auc:0.8769\n",
      "epoch: 140 loss:0.361351 auc:0.8756\n",
      "epoch: 160 loss:0.355868 auc:0.8727\n"
     ]
    },
    {
     "name": "stderr",
     "output_type": "stream",
     "text": [
      " 40%|███▉      | 302/756 [49:00<1:07:01,  8.86s/it]"
     ]
    },
    {
     "name": "stdout",
     "output_type": "stream",
     "text": [
      "epoch: 180 loss:0.349763 auc:0.8687\n",
      "Fit finished.\n",
      "epoch:   0 loss:0.831720 auc:0.3443\n",
      "epoch:  20 loss:0.405138 auc:0.9290\n",
      "epoch:  40 loss:0.378874 auc:0.9297\n",
      "epoch:  60 loss:0.373954 auc:0.9288\n",
      "epoch:  80 loss:0.372218 auc:0.9281\n",
      "epoch: 100 loss:0.371369 auc:0.9282\n",
      "epoch: 120 loss:0.370686 auc:0.9282\n",
      "epoch: 140 loss:0.369895 auc:0.9281\n",
      "epoch: 160 loss:0.368673 auc:0.9278\n"
     ]
    },
    {
     "name": "stderr",
     "output_type": "stream",
     "text": [
      " 40%|████      | 303/756 [49:06<1:01:40,  8.17s/it]"
     ]
    },
    {
     "name": "stdout",
     "output_type": "stream",
     "text": [
      "epoch: 180 loss:0.366510 auc:0.9273\n",
      "Fit finished.\n",
      "epoch:   0 loss:0.813723 auc:0.4941\n",
      "epoch:  20 loss:0.390843 auc:0.8690\n",
      "epoch:  40 loss:0.374823 auc:0.8698\n",
      "epoch:  60 loss:0.372157 auc:0.8692\n",
      "epoch:  80 loss:0.370981 auc:0.8704\n",
      "epoch: 100 loss:0.369938 auc:0.8707\n",
      "epoch: 120 loss:0.368347 auc:0.8704\n",
      "epoch: 140 loss:0.365160 auc:0.8680\n",
      "epoch: 160 loss:0.359534 auc:0.8647\n"
     ]
    },
    {
     "name": "stderr",
     "output_type": "stream",
     "text": [
      " 40%|████      | 304/756 [49:13<58:17,  7.74s/it]  "
     ]
    },
    {
     "name": "stdout",
     "output_type": "stream",
     "text": [
      "epoch: 180 loss:0.353569 auc:0.8603\n",
      "Fit finished.\n",
      "epoch:   0 loss:0.840094 auc:0.3838\n",
      "epoch:  20 loss:0.397980 auc:0.9290\n",
      "epoch:  40 loss:0.377713 auc:0.9292\n",
      "epoch:  60 loss:0.373007 auc:0.9305\n",
      "epoch:  80 loss:0.371464 auc:0.9310\n",
      "epoch: 100 loss:0.370599 auc:0.9311\n",
      "epoch: 120 loss:0.369683 auc:0.9314\n",
      "epoch: 140 loss:0.368333 auc:0.9322\n",
      "epoch: 160 loss:0.365887 auc:0.9329\n",
      "epoch: 180 loss:0.361839 auc:0.9352\n",
      "epoch: 200 loss:0.357579 auc:0.9379\n",
      "epoch: 220 loss:0.353450 auc:0.9389\n",
      "epoch: 240 loss:0.348607 auc:0.9421\n",
      "epoch: 260 loss:0.343040 auc:0.9443\n",
      "epoch: 280 loss:0.335564 auc:0.9429\n",
      "epoch: 300 loss:0.325570 auc:0.9361\n"
     ]
    },
    {
     "name": "stderr",
     "output_type": "stream",
     "text": [
      " 40%|████      | 305/756 [49:26<1:09:18,  9.22s/it]"
     ]
    },
    {
     "name": "stdout",
     "output_type": "stream",
     "text": [
      "epoch: 320 loss:0.316815 auc:0.9266\n",
      "Fit finished.\n",
      "epoch:   0 loss:0.704746 auc:0.6594\n",
      "epoch:  20 loss:0.389916 auc:0.9347\n",
      "epoch:  40 loss:0.375565 auc:0.9386\n",
      "epoch:  60 loss:0.372127 auc:0.9391\n",
      "epoch:  80 loss:0.370828 auc:0.9385\n",
      "epoch: 100 loss:0.369558 auc:0.9388\n",
      "epoch: 120 loss:0.367518 auc:0.9392\n",
      "epoch: 140 loss:0.363452 auc:0.9397\n",
      "epoch: 160 loss:0.357341 auc:0.9417\n",
      "epoch: 180 loss:0.350946 auc:0.9398\n"
     ]
    },
    {
     "name": "stderr",
     "output_type": "stream",
     "text": [
      " 40%|████      | 306/756 [49:34<1:06:53,  8.92s/it]"
     ]
    },
    {
     "name": "stdout",
     "output_type": "stream",
     "text": [
      "epoch: 200 loss:0.343054 auc:0.9334\n",
      "Fit finished.\n",
      "epoch:   0 loss:0.702101 auc:0.5183\n",
      "epoch:  20 loss:0.394440 auc:0.9347\n",
      "epoch:  40 loss:0.376181 auc:0.9452\n",
      "epoch:  60 loss:0.372475 auc:0.9431\n",
      "epoch:  80 loss:0.370974 auc:0.9437\n",
      "epoch: 100 loss:0.369840 auc:0.9435\n",
      "epoch: 120 loss:0.368309 auc:0.9441\n",
      "epoch: 140 loss:0.365543 auc:0.9451\n",
      "epoch: 160 loss:0.360590 auc:0.9458\n",
      "epoch: 180 loss:0.354502 auc:0.9464\n"
     ]
    },
    {
     "name": "stderr",
     "output_type": "stream",
     "text": [
      " 41%|████      | 307/756 [49:42<1:03:47,  8.52s/it]"
     ]
    },
    {
     "name": "stdout",
     "output_type": "stream",
     "text": [
      "epoch: 200 loss:0.347581 auc:0.9448\n",
      "Fit finished.\n",
      "epoch:   0 loss:0.800105 auc:0.3472\n",
      "epoch:  20 loss:0.391608 auc:0.9148\n",
      "epoch:  40 loss:0.377184 auc:0.9190\n",
      "epoch:  60 loss:0.373072 auc:0.9201\n",
      "epoch:  80 loss:0.371657 auc:0.9203\n",
      "epoch: 100 loss:0.370836 auc:0.9202\n",
      "epoch: 120 loss:0.370042 auc:0.9202\n",
      "epoch: 140 loss:0.368993 auc:0.9202\n",
      "epoch: 160 loss:0.367277 auc:0.9209\n",
      "epoch: 180 loss:0.364209 auc:0.9218\n",
      "epoch: 200 loss:0.359949 auc:0.9233\n",
      "epoch: 220 loss:0.355476 auc:0.9245\n",
      "epoch: 240 loss:0.350619 auc:0.9250\n",
      "epoch: 260 loss:0.344999 auc:0.9233\n"
     ]
    },
    {
     "name": "stderr",
     "output_type": "stream",
     "text": [
      " 41%|████      | 308/756 [49:53<1:09:32,  9.31s/it]"
     ]
    },
    {
     "name": "stdout",
     "output_type": "stream",
     "text": [
      "epoch: 280 loss:0.338854 auc:0.9113\n",
      "Fit finished.\n",
      "epoch:   0 loss:0.786624 auc:0.3074\n",
      "epoch:  20 loss:0.397693 auc:0.9333\n",
      "epoch:  40 loss:0.376579 auc:0.9352\n",
      "epoch:  60 loss:0.372616 auc:0.9348\n",
      "epoch:  80 loss:0.371294 auc:0.9358\n",
      "epoch: 100 loss:0.370350 auc:0.9354\n",
      "epoch: 120 loss:0.369208 auc:0.9357\n",
      "epoch: 140 loss:0.367215 auc:0.9364\n",
      "epoch: 160 loss:0.363079 auc:0.9381\n",
      "epoch: 180 loss:0.357120 auc:0.9393\n",
      "epoch: 200 loss:0.350364 auc:0.9412\n",
      "epoch: 220 loss:0.342394 auc:0.9419\n",
      "epoch: 240 loss:0.333005 auc:0.9395\n"
     ]
    },
    {
     "name": "stderr",
     "output_type": "stream",
     "text": [
      " 41%|████      | 309/756 [50:02<1:10:02,  9.40s/it]"
     ]
    },
    {
     "name": "stdout",
     "output_type": "stream",
     "text": [
      "epoch: 260 loss:0.320686 auc:0.9204\n",
      "Fit finished.\n",
      "epoch:   0 loss:0.858316 auc:0.2263\n",
      "epoch:  20 loss:0.403884 auc:0.9768\n",
      "epoch:  40 loss:0.377307 auc:0.9773\n",
      "epoch:  60 loss:0.372944 auc:0.9757\n",
      "epoch:  80 loss:0.371574 auc:0.9767\n",
      "epoch: 100 loss:0.370663 auc:0.9764\n",
      "epoch: 120 loss:0.369648 auc:0.9766\n",
      "epoch: 140 loss:0.368142 auc:0.9766\n",
      "epoch: 160 loss:0.365526 auc:0.9761\n",
      "epoch: 180 loss:0.361404 auc:0.9768\n",
      "epoch: 200 loss:0.356982 auc:0.9780\n",
      "epoch: 220 loss:0.352481 auc:0.9798\n",
      "epoch: 240 loss:0.347670 auc:0.9806\n",
      "epoch: 260 loss:0.339971 auc:0.9803\n"
     ]
    },
    {
     "name": "stderr",
     "output_type": "stream",
     "text": [
      " 41%|████      | 310/756 [50:14<1:14:17,  9.99s/it]"
     ]
    },
    {
     "name": "stdout",
     "output_type": "stream",
     "text": [
      "epoch: 280 loss:0.331834 auc:0.9688\n",
      "Fit finished.\n",
      "epoch:   0 loss:0.709214 auc:0.6745\n",
      "epoch:  20 loss:0.401080 auc:0.8590\n",
      "epoch:  40 loss:0.376144 auc:0.8584\n",
      "epoch:  60 loss:0.372147 auc:0.8596\n",
      "epoch:  80 loss:0.370510 auc:0.8603\n",
      "epoch: 100 loss:0.368858 auc:0.8606\n",
      "epoch: 120 loss:0.365917 auc:0.8612\n",
      "epoch: 140 loss:0.360519 auc:0.8613\n",
      "epoch: 160 loss:0.355182 auc:0.8623\n",
      "epoch: 180 loss:0.350332 auc:0.8641\n",
      "epoch: 200 loss:0.344431 auc:0.8658\n",
      "epoch: 220 loss:0.336395 auc:0.8653\n"
     ]
    },
    {
     "name": "stderr",
     "output_type": "stream",
     "text": [
      " 41%|████      | 311/756 [50:23<1:12:36,  9.79s/it]"
     ]
    },
    {
     "name": "stdout",
     "output_type": "stream",
     "text": [
      "epoch: 240 loss:0.325393 auc:0.8497\n",
      "Fit finished.\n",
      "epoch:   0 loss:0.846529 auc:0.4650\n",
      "epoch:  20 loss:0.396892 auc:0.9028\n",
      "epoch:  40 loss:0.377842 auc:0.9074\n",
      "epoch:  60 loss:0.372990 auc:0.9079\n",
      "epoch:  80 loss:0.371487 auc:0.9079\n",
      "epoch: 100 loss:0.370585 auc:0.9085\n",
      "epoch: 120 loss:0.369666 auc:0.9086\n",
      "epoch: 140 loss:0.368324 auc:0.9090\n",
      "epoch: 160 loss:0.365722 auc:0.9096\n",
      "epoch: 180 loss:0.360579 auc:0.9136\n",
      "epoch: 200 loss:0.354453 auc:0.9173\n",
      "epoch: 220 loss:0.348749 auc:0.9230\n",
      "epoch: 240 loss:0.338237 auc:0.9255\n",
      "epoch: 260 loss:0.329024 auc:0.9206\n",
      "epoch: 280 loss:0.320676 auc:0.9156\n"
     ]
    },
    {
     "name": "stderr",
     "output_type": "stream",
     "text": [
      " 41%|████▏     | 312/756 [50:34<1:14:12, 10.03s/it]"
     ]
    },
    {
     "name": "stdout",
     "output_type": "stream",
     "text": [
      "epoch: 300 loss:0.313969 auc:0.9055\n",
      "Fit finished.\n",
      "epoch:   0 loss:0.954911 auc:0.5818\n",
      "epoch:  20 loss:0.420711 auc:0.8800\n",
      "epoch:  40 loss:0.384957 auc:0.8896\n",
      "epoch:  60 loss:0.375355 auc:0.8917\n",
      "epoch:  80 loss:0.372859 auc:0.8915\n",
      "epoch: 100 loss:0.371921 auc:0.8920\n",
      "epoch: 120 loss:0.371327 auc:0.8917\n",
      "epoch: 140 loss:0.370747 auc:0.8915\n",
      "epoch: 160 loss:0.370050 auc:0.8919\n",
      "epoch: 180 loss:0.369267 auc:0.8921\n",
      "epoch: 200 loss:0.368381 auc:0.8924\n",
      "epoch: 220 loss:0.367191 auc:0.8931\n",
      "epoch: 240 loss:0.365259 auc:0.8942\n",
      "epoch: 260 loss:0.361752 auc:0.8980\n",
      "epoch: 280 loss:0.357308 auc:0.9011\n",
      "epoch: 300 loss:0.352752 auc:0.9021\n",
      "epoch: 320 loss:0.347105 auc:0.9001\n",
      "epoch: 340 loss:0.340075 auc:0.8995\n",
      "epoch: 360 loss:0.333525 auc:0.9032\n",
      "epoch: 380 loss:0.327203 auc:0.9031\n",
      "epoch: 400 loss:0.321619 auc:0.8980\n"
     ]
    },
    {
     "name": "stderr",
     "output_type": "stream",
     "text": [
      " 41%|████▏     | 313/756 [50:49<1:25:54, 11.63s/it]"
     ]
    },
    {
     "name": "stdout",
     "output_type": "stream",
     "text": [
      "epoch: 420 loss:0.316675 auc:0.8848\n",
      "Fit finished.\n",
      "epoch:   0 loss:0.796905 auc:0.5590\n",
      "epoch:  20 loss:0.401824 auc:0.8758\n",
      "epoch:  40 loss:0.378194 auc:0.8802\n",
      "epoch:  60 loss:0.373106 auc:0.8826\n",
      "epoch:  80 loss:0.371563 auc:0.8824\n",
      "epoch: 100 loss:0.370811 auc:0.8830\n",
      "epoch: 120 loss:0.370188 auc:0.8827\n",
      "epoch: 140 loss:0.369436 auc:0.8823\n",
      "epoch: 160 loss:0.368244 auc:0.8823\n",
      "epoch: 180 loss:0.365788 auc:0.8814\n"
     ]
    },
    {
     "name": "stderr",
     "output_type": "stream",
     "text": [
      " 42%|████▏     | 314/756 [50:57<1:17:37, 10.54s/it]"
     ]
    },
    {
     "name": "stdout",
     "output_type": "stream",
     "text": [
      "epoch: 200 loss:0.360873 auc:0.8793\n",
      "Fit finished.\n",
      "epoch:   0 loss:0.791368 auc:0.6272\n",
      "epoch:  20 loss:0.397799 auc:0.9227\n",
      "epoch:  40 loss:0.376865 auc:0.9303\n",
      "epoch:  60 loss:0.373054 auc:0.9319\n",
      "epoch:  80 loss:0.371582 auc:0.9318\n",
      "epoch: 100 loss:0.370604 auc:0.9326\n",
      "epoch: 120 loss:0.369482 auc:0.9328\n",
      "epoch: 140 loss:0.367694 auc:0.9335\n",
      "epoch: 160 loss:0.364354 auc:0.9339\n",
      "epoch: 180 loss:0.359406 auc:0.9344\n",
      "epoch: 200 loss:0.354119 auc:0.9340\n",
      "epoch: 220 loss:0.350602 auc:0.9322\n",
      "epoch: 240 loss:0.341328 auc:0.9330\n"
     ]
    },
    {
     "name": "stderr",
     "output_type": "stream",
     "text": [
      " 42%|████▏     | 315/756 [51:07<1:15:42, 10.30s/it]"
     ]
    },
    {
     "name": "stdout",
     "output_type": "stream",
     "text": [
      "epoch: 260 loss:0.332515 auc:0.9288\n",
      "Fit finished.\n",
      "epoch:   0 loss:0.746059 auc:0.5155\n",
      "epoch:  20 loss:0.390457 auc:0.9089\n",
      "epoch:  40 loss:0.376321 auc:0.9163\n",
      "epoch:  60 loss:0.372281 auc:0.9178\n",
      "epoch:  80 loss:0.370947 auc:0.9177\n",
      "epoch: 100 loss:0.369853 auc:0.9179\n",
      "epoch: 120 loss:0.368212 auc:0.9187\n",
      "epoch: 140 loss:0.365074 auc:0.9202\n",
      "epoch: 160 loss:0.359669 auc:0.9223\n",
      "epoch: 180 loss:0.353838 auc:0.9245\n",
      "epoch: 200 loss:0.346433 auc:0.9237\n",
      "epoch: 220 loss:0.342474 auc:0.9253\n",
      "epoch: 240 loss:0.332835 auc:0.9232\n"
     ]
    },
    {
     "name": "stderr",
     "output_type": "stream",
     "text": [
      " 42%|████▏     | 316/756 [51:17<1:16:35, 10.44s/it]"
     ]
    },
    {
     "name": "stdout",
     "output_type": "stream",
     "text": [
      "epoch: 260 loss:0.324952 auc:0.9177\n",
      "Fit finished.\n",
      "epoch:   0 loss:0.797789 auc:0.5104\n",
      "epoch:  20 loss:0.397577 auc:0.9119\n",
      "epoch:  40 loss:0.376836 auc:0.9186\n",
      "epoch:  60 loss:0.372090 auc:0.9187\n",
      "epoch:  80 loss:0.370533 auc:0.9179\n",
      "epoch: 100 loss:0.369278 auc:0.9182\n",
      "epoch: 120 loss:0.367537 auc:0.9175\n",
      "epoch: 140 loss:0.364432 auc:0.9173\n",
      "epoch: 160 loss:0.359506 auc:0.9174\n",
      "epoch: 180 loss:0.355554 auc:0.9145\n"
     ]
    },
    {
     "name": "stderr",
     "output_type": "stream",
     "text": [
      " 42%|████▏     | 317/756 [51:25<1:09:28,  9.50s/it]"
     ]
    },
    {
     "name": "stdout",
     "output_type": "stream",
     "text": [
      "epoch: 200 loss:0.348116 auc:0.9121\n",
      "Fit finished.\n",
      "epoch:   0 loss:0.663069 auc:0.6248\n",
      "epoch:  20 loss:0.389097 auc:0.9166\n",
      "epoch:  40 loss:0.374299 auc:0.9185\n",
      "epoch:  60 loss:0.371324 auc:0.9181\n",
      "epoch:  80 loss:0.369856 auc:0.9179\n",
      "epoch: 100 loss:0.368018 auc:0.9183\n",
      "epoch: 120 loss:0.364570 auc:0.9172\n",
      "epoch: 140 loss:0.358902 auc:0.9155\n",
      "epoch: 160 loss:0.351818 auc:0.9147\n"
     ]
    },
    {
     "name": "stderr",
     "output_type": "stream",
     "text": [
      " 42%|████▏     | 318/756 [51:32<1:04:03,  8.78s/it]"
     ]
    },
    {
     "name": "stdout",
     "output_type": "stream",
     "text": [
      "epoch: 180 loss:0.344739 auc:0.9110\n",
      "Fit finished.\n",
      "epoch:   0 loss:0.872142 auc:0.3300\n",
      "epoch:  20 loss:0.406269 auc:0.9657\n",
      "epoch:  40 loss:0.379457 auc:0.9674\n",
      "epoch:  60 loss:0.374291 auc:0.9677\n",
      "epoch:  80 loss:0.372310 auc:0.9673\n",
      "epoch: 100 loss:0.371310 auc:0.9675\n",
      "epoch: 120 loss:0.370463 auc:0.9675\n",
      "epoch: 140 loss:0.369448 auc:0.9675\n",
      "epoch: 160 loss:0.367929 auc:0.9676\n",
      "epoch: 180 loss:0.365296 auc:0.9673\n",
      "epoch: 200 loss:0.361408 auc:0.9682\n",
      "epoch: 220 loss:0.357285 auc:0.9694\n",
      "epoch: 240 loss:0.352936 auc:0.9711\n",
      "epoch: 260 loss:0.348986 auc:0.9696\n"
     ]
    },
    {
     "name": "stderr",
     "output_type": "stream",
     "text": [
      " 42%|████▏     | 319/756 [51:43<1:09:41,  9.57s/it]"
     ]
    },
    {
     "name": "stdout",
     "output_type": "stream",
     "text": [
      "epoch: 280 loss:0.339607 auc:0.9668\n",
      "Fit finished.\n",
      "epoch:   0 loss:0.798052 auc:0.5035\n",
      "epoch:  20 loss:0.404365 auc:0.7503\n",
      "epoch:  40 loss:0.376302 auc:0.7524\n",
      "epoch:  60 loss:0.372609 auc:0.7485\n",
      "epoch:  80 loss:0.371225 auc:0.7484\n",
      "epoch: 100 loss:0.370452 auc:0.7488\n",
      "epoch: 120 loss:0.369732 auc:0.7490\n",
      "epoch: 140 loss:0.368812 auc:0.7489\n",
      "epoch: 160 loss:0.367324 auc:0.7487\n"
     ]
    },
    {
     "name": "stderr",
     "output_type": "stream",
     "text": [
      " 42%|████▏     | 320/756 [51:50<1:03:29,  8.74s/it]"
     ]
    },
    {
     "name": "stdout",
     "output_type": "stream",
     "text": [
      "epoch: 180 loss:0.364342 auc:0.7493\n",
      "Fit finished.\n",
      "epoch:   0 loss:0.780827 auc:0.4730\n",
      "epoch:  20 loss:0.405819 auc:0.9287\n",
      "epoch:  40 loss:0.379462 auc:0.9297\n",
      "epoch:  60 loss:0.373674 auc:0.9317\n",
      "epoch:  80 loss:0.372156 auc:0.9317\n",
      "epoch: 100 loss:0.371460 auc:0.9322\n",
      "epoch: 120 loss:0.370992 auc:0.9324\n",
      "epoch: 140 loss:0.370541 auc:0.9324\n",
      "epoch: 160 loss:0.370005 auc:0.9322\n",
      "epoch: 180 loss:0.369251 auc:0.9323\n",
      "epoch: 200 loss:0.367898 auc:0.9326\n",
      "epoch: 220 loss:0.364991 auc:0.9335\n",
      "epoch: 240 loss:0.359902 auc:0.9351\n",
      "epoch: 260 loss:0.354295 auc:0.9365\n",
      "epoch: 280 loss:0.347755 auc:0.9373\n",
      "epoch: 300 loss:0.341269 auc:0.9373\n",
      "epoch: 320 loss:0.335734 auc:0.9359\n",
      "epoch: 340 loss:0.333118 auc:0.9364\n",
      "epoch: 360 loss:0.325703 auc:0.9333\n"
     ]
    },
    {
     "name": "stderr",
     "output_type": "stream",
     "text": [
      " 42%|████▏     | 321/756 [52:04<1:15:34, 10.42s/it]"
     ]
    },
    {
     "name": "stdout",
     "output_type": "stream",
     "text": [
      "epoch: 380 loss:0.321245 auc:0.9319\n",
      "Fit finished.\n",
      "epoch:   0 loss:0.831779 auc:0.5718\n",
      "epoch:  20 loss:0.400213 auc:0.6499\n",
      "epoch:  40 loss:0.378882 auc:0.6486\n",
      "epoch:  60 loss:0.373640 auc:0.6487\n",
      "epoch:  80 loss:0.371588 auc:0.6498\n",
      "epoch: 100 loss:0.370733 auc:0.6481\n",
      "epoch: 120 loss:0.370122 auc:0.6484\n",
      "epoch: 140 loss:0.369487 auc:0.6486\n",
      "epoch: 160 loss:0.368642 auc:0.6487\n"
     ]
    },
    {
     "name": "stderr",
     "output_type": "stream",
     "text": [
      " 43%|████▎     | 322/756 [52:10<1:06:00,  9.12s/it]"
     ]
    },
    {
     "name": "stdout",
     "output_type": "stream",
     "text": [
      "epoch: 180 loss:0.367224 auc:0.6490\n",
      "Fit finished.\n",
      "epoch:   0 loss:0.903464 auc:0.6283\n",
      "epoch:  20 loss:0.408693 auc:0.8865\n",
      "epoch:  40 loss:0.380526 auc:0.8914\n",
      "epoch:  60 loss:0.373928 auc:0.8906\n",
      "epoch:  80 loss:0.371790 auc:0.8905\n",
      "epoch: 100 loss:0.370757 auc:0.8908\n",
      "epoch: 120 loss:0.369815 auc:0.8905\n",
      "epoch: 140 loss:0.368609 auc:0.8907\n",
      "epoch: 160 loss:0.366714 auc:0.8908\n",
      "epoch: 180 loss:0.363558 auc:0.8909\n"
     ]
    },
    {
     "name": "stderr",
     "output_type": "stream",
     "text": [
      " 43%|████▎     | 323/756 [52:17<1:00:17,  8.35s/it]"
     ]
    },
    {
     "name": "stdout",
     "output_type": "stream",
     "text": [
      "epoch: 200 loss:0.359697 auc:0.8910\n",
      "Fit finished.\n",
      "epoch:   0 loss:0.866275 auc:0.4974\n",
      "epoch:  20 loss:0.399145 auc:0.9060\n",
      "epoch:  40 loss:0.379436 auc:0.9086\n",
      "epoch:  60 loss:0.374056 auc:0.9091\n",
      "epoch:  80 loss:0.372234 auc:0.9085\n",
      "epoch: 100 loss:0.371258 auc:0.9086\n",
      "epoch: 120 loss:0.370436 auc:0.9086\n",
      "epoch: 140 loss:0.369427 auc:0.9089\n",
      "epoch: 160 loss:0.367834 auc:0.9095\n",
      "epoch: 180 loss:0.364892 auc:0.9103\n",
      "epoch: 200 loss:0.360211 auc:0.9126\n",
      "epoch: 220 loss:0.355274 auc:0.9142\n",
      "epoch: 240 loss:0.350147 auc:0.9149\n",
      "epoch: 260 loss:0.347612 auc:0.9117\n",
      "epoch: 280 loss:0.339530 auc:0.9146\n",
      "epoch: 300 loss:0.334037 auc:0.9121\n"
     ]
    },
    {
     "name": "stderr",
     "output_type": "stream",
     "text": [
      " 43%|████▎     | 324/756 [52:29<1:07:46,  9.41s/it]"
     ]
    },
    {
     "name": "stdout",
     "output_type": "stream",
     "text": [
      "epoch: 320 loss:0.328025 auc:0.9079\n",
      "Fit finished.\n",
      "epoch:   0 loss:0.822320 auc:0.5697\n",
      "epoch:  20 loss:0.404805 auc:0.8684\n",
      "epoch:  40 loss:0.377408 auc:0.8723\n",
      "epoch:  60 loss:0.373175 auc:0.8705\n",
      "epoch:  80 loss:0.371761 auc:0.8700\n",
      "epoch: 100 loss:0.370871 auc:0.8704\n",
      "epoch: 120 loss:0.369830 auc:0.8697\n",
      "epoch: 140 loss:0.368096 auc:0.8688\n",
      "epoch: 160 loss:0.364627 auc:0.8655\n"
     ]
    },
    {
     "name": "stderr",
     "output_type": "stream",
     "text": [
      " 43%|████▎     | 325/756 [52:37<1:04:28,  8.97s/it]"
     ]
    },
    {
     "name": "stdout",
     "output_type": "stream",
     "text": [
      "epoch: 180 loss:0.359350 auc:0.8581\n",
      "Fit finished.\n",
      "epoch:   0 loss:0.794918 auc:0.4272\n",
      "epoch:  20 loss:0.394329 auc:0.9365\n",
      "epoch:  40 loss:0.375586 auc:0.9382\n",
      "epoch:  60 loss:0.372706 auc:0.9385\n",
      "epoch:  80 loss:0.371321 auc:0.9381\n",
      "epoch: 100 loss:0.370124 auc:0.9382\n",
      "epoch: 120 loss:0.368036 auc:0.9378\n",
      "epoch: 140 loss:0.363219 auc:0.9381\n",
      "epoch: 160 loss:0.356824 auc:0.9404\n",
      "epoch: 180 loss:0.350158 auc:0.9411\n"
     ]
    },
    {
     "name": "stderr",
     "output_type": "stream",
     "text": [
      " 43%|████▎     | 326/756 [52:45<1:03:33,  8.87s/it]"
     ]
    },
    {
     "name": "stdout",
     "output_type": "stream",
     "text": [
      "epoch: 200 loss:0.343573 auc:0.9371\n",
      "Fit finished.\n",
      "epoch:   0 loss:0.847462 auc:0.4658\n",
      "epoch:  20 loss:0.405838 auc:0.9351\n",
      "epoch:  40 loss:0.378493 auc:0.9358\n",
      "epoch:  60 loss:0.373104 auc:0.9367\n",
      "epoch:  80 loss:0.371525 auc:0.9374\n",
      "epoch: 100 loss:0.370652 auc:0.9380\n",
      "epoch: 120 loss:0.369793 auc:0.9382\n",
      "epoch: 140 loss:0.368639 auc:0.9387\n",
      "epoch: 160 loss:0.366801 auc:0.9402\n",
      "epoch: 180 loss:0.363498 auc:0.9418\n",
      "epoch: 200 loss:0.358609 auc:0.9436\n",
      "epoch: 220 loss:0.353347 auc:0.9447\n",
      "epoch: 240 loss:0.349281 auc:0.9447\n",
      "epoch: 260 loss:0.341320 auc:0.9390\n",
      "epoch: 280 loss:0.335279 auc:0.9390\n"
     ]
    },
    {
     "name": "stderr",
     "output_type": "stream",
     "text": [
      " 43%|████▎     | 327/756 [52:57<1:09:18,  9.69s/it]"
     ]
    },
    {
     "name": "stdout",
     "output_type": "stream",
     "text": [
      "epoch: 300 loss:0.328409 auc:0.9360\n",
      "Fit finished.\n",
      "epoch:   0 loss:1.084509 auc:0.4786\n",
      "epoch:  20 loss:0.402457 auc:0.8884\n",
      "epoch:  40 loss:0.380686 auc:0.8993\n",
      "epoch:  60 loss:0.374076 auc:0.8995\n",
      "epoch:  80 loss:0.372073 auc:0.8984\n",
      "epoch: 100 loss:0.371048 auc:0.8989\n",
      "epoch: 120 loss:0.370232 auc:0.8985\n",
      "epoch: 140 loss:0.369250 auc:0.8981\n",
      "epoch: 160 loss:0.367737 auc:0.8980\n",
      "epoch: 180 loss:0.365099 auc:0.8968\n"
     ]
    },
    {
     "name": "stderr",
     "output_type": "stream",
     "text": [
      " 43%|████▎     | 328/756 [53:05<1:05:36,  9.20s/it]"
     ]
    },
    {
     "name": "stdout",
     "output_type": "stream",
     "text": [
      "epoch: 200 loss:0.360874 auc:0.8941\n",
      "Fit finished.\n",
      "epoch:   0 loss:0.860460 auc:0.4150\n",
      "epoch:  20 loss:0.427094 auc:0.9333\n",
      "epoch:  40 loss:0.385341 auc:0.9404\n",
      "epoch:  60 loss:0.374843 auc:0.9407\n",
      "epoch:  80 loss:0.372544 auc:0.9411\n",
      "epoch: 100 loss:0.371674 auc:0.9417\n",
      "epoch: 120 loss:0.371092 auc:0.9416\n",
      "epoch: 140 loss:0.370524 auc:0.9417\n",
      "epoch: 160 loss:0.369858 auc:0.9419\n",
      "epoch: 180 loss:0.368984 auc:0.9417\n",
      "epoch: 200 loss:0.367634 auc:0.9415\n",
      "epoch: 220 loss:0.365147 auc:0.9413\n"
     ]
    },
    {
     "name": "stderr",
     "output_type": "stream",
     "text": [
      " 44%|████▎     | 329/756 [53:15<1:06:23,  9.33s/it]"
     ]
    },
    {
     "name": "stdout",
     "output_type": "stream",
     "text": [
      "epoch: 240 loss:0.361134 auc:0.9407\n",
      "Fit finished.\n",
      "epoch:   0 loss:0.980937 auc:0.5445\n",
      "epoch:  20 loss:0.402300 auc:0.9293\n",
      "epoch:  40 loss:0.379251 auc:0.9372\n",
      "epoch:  60 loss:0.373622 auc:0.9372\n",
      "epoch:  80 loss:0.371839 auc:0.9388\n",
      "epoch: 100 loss:0.370963 auc:0.9382\n",
      "epoch: 120 loss:0.370223 auc:0.9382\n",
      "epoch: 140 loss:0.369235 auc:0.9378\n",
      "epoch: 160 loss:0.367301 auc:0.9370\n",
      "epoch: 180 loss:0.363135 auc:0.9363\n"
     ]
    },
    {
     "name": "stderr",
     "output_type": "stream",
     "text": [
      " 44%|████▎     | 330/756 [53:22<1:02:43,  8.84s/it]"
     ]
    },
    {
     "name": "stdout",
     "output_type": "stream",
     "text": [
      "epoch: 200 loss:0.357909 auc:0.9333\n",
      "Fit finished.\n",
      "epoch:   0 loss:0.736791 auc:0.5178\n",
      "epoch:  20 loss:0.388421 auc:0.9389\n",
      "epoch:  40 loss:0.376560 auc:0.9470\n",
      "epoch:  60 loss:0.372672 auc:0.9456\n",
      "epoch:  80 loss:0.371281 auc:0.9461\n",
      "epoch: 100 loss:0.369995 auc:0.9456\n",
      "epoch: 120 loss:0.367719 auc:0.9452\n",
      "epoch: 140 loss:0.363160 auc:0.9439\n",
      "epoch: 160 loss:0.357678 auc:0.9413\n",
      "epoch: 180 loss:0.352847 auc:0.9423\n"
     ]
    },
    {
     "name": "stderr",
     "output_type": "stream",
     "text": [
      " 44%|████▍     | 331/756 [53:29<57:48,  8.16s/it]  "
     ]
    },
    {
     "name": "stdout",
     "output_type": "stream",
     "text": [
      "epoch: 200 loss:0.347840 auc:0.9454\n",
      "Fit finished.\n",
      "epoch:   0 loss:0.830131 auc:0.3690\n",
      "epoch:  20 loss:0.392181 auc:0.9215\n",
      "epoch:  40 loss:0.374598 auc:0.9217\n",
      "epoch:  60 loss:0.372094 auc:0.9223\n",
      "epoch:  80 loss:0.371056 auc:0.9220\n",
      "epoch: 100 loss:0.370022 auc:0.9219\n",
      "epoch: 120 loss:0.368382 auc:0.9219\n",
      "epoch: 140 loss:0.365222 auc:0.9221\n",
      "epoch: 160 loss:0.360297 auc:0.9203\n"
     ]
    },
    {
     "name": "stderr",
     "output_type": "stream",
     "text": [
      " 44%|████▍     | 332/756 [53:35<54:01,  7.65s/it]"
     ]
    },
    {
     "name": "stdout",
     "output_type": "stream",
     "text": [
      "epoch: 180 loss:0.355003 auc:0.9161\n",
      "Fit finished.\n",
      "epoch:   0 loss:0.697068 auc:0.5602\n",
      "epoch:  20 loss:0.402325 auc:0.9316\n",
      "epoch:  40 loss:0.378326 auc:0.9415\n",
      "epoch:  60 loss:0.373638 auc:0.9409\n",
      "epoch:  80 loss:0.372156 auc:0.9409\n",
      "epoch: 100 loss:0.371390 auc:0.9409\n",
      "epoch: 120 loss:0.370720 auc:0.9410\n",
      "epoch: 140 loss:0.369878 auc:0.9410\n",
      "epoch: 160 loss:0.368494 auc:0.9412\n",
      "epoch: 180 loss:0.365880 auc:0.9405\n"
     ]
    },
    {
     "name": "stderr",
     "output_type": "stream",
     "text": [
      " 44%|████▍     | 333/756 [53:43<52:40,  7.47s/it]"
     ]
    },
    {
     "name": "stdout",
     "output_type": "stream",
     "text": [
      "epoch: 200 loss:0.361703 auc:0.9397\n",
      "Fit finished.\n",
      "epoch:   0 loss:0.760225 auc:0.5195\n",
      "epoch:  20 loss:0.390925 auc:0.9141\n",
      "epoch:  40 loss:0.376650 auc:0.9192\n",
      "epoch:  60 loss:0.372373 auc:0.9212\n",
      "epoch:  80 loss:0.370924 auc:0.9216\n",
      "epoch: 100 loss:0.369873 auc:0.9215\n",
      "epoch: 120 loss:0.368519 auc:0.9218\n",
      "epoch: 140 loss:0.366124 auc:0.9221\n",
      "epoch: 160 loss:0.361744 auc:0.9229\n",
      "epoch: 180 loss:0.356397 auc:0.9236\n",
      "epoch: 200 loss:0.349830 auc:0.9236\n",
      "epoch: 220 loss:0.341259 auc:0.9246\n"
     ]
    },
    {
     "name": "stderr",
     "output_type": "stream",
     "text": [
      " 44%|████▍     | 334/756 [53:51<54:14,  7.71s/it]"
     ]
    },
    {
     "name": "stdout",
     "output_type": "stream",
     "text": [
      "epoch: 240 loss:0.328154 auc:0.9088\n",
      "Fit finished.\n",
      "epoch:   0 loss:0.982415 auc:0.5715\n",
      "epoch:  20 loss:0.405048 auc:0.9301\n",
      "epoch:  40 loss:0.378792 auc:0.9366\n",
      "epoch:  60 loss:0.373506 auc:0.9352\n",
      "epoch:  80 loss:0.371874 auc:0.9371\n",
      "epoch: 100 loss:0.371042 auc:0.9368\n",
      "epoch: 120 loss:0.370280 auc:0.9368\n",
      "epoch: 140 loss:0.369299 auc:0.9366\n",
      "epoch: 160 loss:0.367679 auc:0.9365\n",
      "epoch: 180 loss:0.364712 auc:0.9355\n"
     ]
    },
    {
     "name": "stderr",
     "output_type": "stream",
     "text": [
      " 44%|████▍     | 335/756 [54:00<57:05,  8.14s/it]"
     ]
    },
    {
     "name": "stdout",
     "output_type": "stream",
     "text": [
      "epoch: 200 loss:0.360690 auc:0.9343\n",
      "Fit finished.\n",
      "epoch:   0 loss:0.762903 auc:0.4797\n",
      "epoch:  20 loss:0.394209 auc:0.9249\n",
      "epoch:  40 loss:0.377493 auc:0.9294\n",
      "epoch:  60 loss:0.372975 auc:0.9298\n",
      "epoch:  80 loss:0.371371 auc:0.9297\n",
      "epoch: 100 loss:0.370248 auc:0.9296\n",
      "epoch: 120 loss:0.368861 auc:0.9291\n",
      "epoch: 140 loss:0.366335 auc:0.9280\n",
      "epoch: 160 loss:0.361603 auc:0.9265\n",
      "epoch: 180 loss:0.356567 auc:0.9257\n"
     ]
    },
    {
     "name": "stderr",
     "output_type": "stream",
     "text": [
      " 44%|████▍     | 336/756 [54:07<55:00,  7.86s/it]"
     ]
    },
    {
     "name": "stdout",
     "output_type": "stream",
     "text": [
      "epoch: 200 loss:0.351496 auc:0.9262\n",
      "Fit finished.\n",
      "epoch:   0 loss:0.772211 auc:0.5266\n",
      "epoch:  20 loss:0.406655 auc:0.9389\n",
      "epoch:  40 loss:0.379410 auc:0.9405\n",
      "epoch:  60 loss:0.373609 auc:0.9398\n",
      "epoch:  80 loss:0.371916 auc:0.9399\n",
      "epoch: 100 loss:0.371054 auc:0.9400\n",
      "epoch: 120 loss:0.370325 auc:0.9400\n",
      "epoch: 140 loss:0.369432 auc:0.9406\n",
      "epoch: 160 loss:0.368026 auc:0.9406\n",
      "epoch: 180 loss:0.365371 auc:0.9413\n",
      "epoch: 200 loss:0.360987 auc:0.9426\n",
      "epoch: 220 loss:0.356433 auc:0.9430\n",
      "epoch: 240 loss:0.352023 auc:0.9437\n",
      "epoch: 260 loss:0.346885 auc:0.9444\n",
      "epoch: 280 loss:0.340751 auc:0.9422\n"
     ]
    },
    {
     "name": "stderr",
     "output_type": "stream",
     "text": [
      " 45%|████▍     | 337/756 [54:17<58:45,  8.41s/it]"
     ]
    },
    {
     "name": "stdout",
     "output_type": "stream",
     "text": [
      "epoch: 300 loss:0.332476 auc:0.9350\n",
      "Fit finished.\n",
      "epoch:   0 loss:0.765381 auc:0.4196\n",
      "epoch:  20 loss:0.380851 auc:0.8061\n",
      "epoch:  40 loss:0.373274 auc:0.8108\n",
      "epoch:  60 loss:0.371336 auc:0.8094\n",
      "epoch:  80 loss:0.370263 auc:0.8108\n",
      "epoch: 100 loss:0.368881 auc:0.8100\n",
      "epoch: 120 loss:0.366206 auc:0.8098\n",
      "epoch: 140 loss:0.360012 auc:0.8096\n",
      "epoch: 160 loss:0.352026 auc:0.8032\n"
     ]
    },
    {
     "name": "stderr",
     "output_type": "stream",
     "text": [
      " 45%|████▍     | 338/756 [54:25<57:08,  8.20s/it]"
     ]
    },
    {
     "name": "stdout",
     "output_type": "stream",
     "text": [
      "epoch: 180 loss:0.342885 auc:0.7841\n",
      "Fit finished.\n",
      "epoch:   0 loss:0.820149 auc:0.4523\n",
      "epoch:  20 loss:0.403367 auc:0.9500\n",
      "epoch:  40 loss:0.378306 auc:0.9512\n",
      "epoch:  60 loss:0.373392 auc:0.9504\n",
      "epoch:  80 loss:0.371634 auc:0.9513\n",
      "epoch: 100 loss:0.370648 auc:0.9511\n",
      "epoch: 120 loss:0.369604 auc:0.9515\n",
      "epoch: 140 loss:0.367761 auc:0.9521\n",
      "epoch: 160 loss:0.363880 auc:0.9534\n",
      "epoch: 180 loss:0.358866 auc:0.9563\n",
      "epoch: 200 loss:0.354307 auc:0.9579\n",
      "epoch: 220 loss:0.349370 auc:0.9579\n",
      "epoch: 240 loss:0.344553 auc:0.9548\n"
     ]
    },
    {
     "name": "stderr",
     "output_type": "stream",
     "text": [
      " 45%|████▍     | 339/756 [54:35<1:02:22,  8.98s/it]"
     ]
    },
    {
     "name": "stdout",
     "output_type": "stream",
     "text": [
      "epoch: 260 loss:0.338274 auc:0.9201\n",
      "Fit finished.\n",
      "epoch:   0 loss:0.716933 auc:0.5908\n",
      "epoch:  20 loss:0.394013 auc:0.9345\n",
      "epoch:  40 loss:0.375856 auc:0.9389\n",
      "epoch:  60 loss:0.372347 auc:0.9395\n",
      "epoch:  80 loss:0.370972 auc:0.9390\n",
      "epoch: 100 loss:0.369710 auc:0.9397\n",
      "epoch: 120 loss:0.367705 auc:0.9397\n",
      "epoch: 140 loss:0.363785 auc:0.9402\n",
      "epoch: 160 loss:0.358466 auc:0.9416\n",
      "epoch: 180 loss:0.352781 auc:0.9423\n",
      "epoch: 200 loss:0.348444 auc:0.9431\n",
      "epoch: 220 loss:0.339910 auc:0.9424\n",
      "epoch: 240 loss:0.328584 auc:0.9419\n"
     ]
    },
    {
     "name": "stderr",
     "output_type": "stream",
     "text": [
      " 45%|████▍     | 340/756 [54:45<1:03:13,  9.12s/it]"
     ]
    },
    {
     "name": "stdout",
     "output_type": "stream",
     "text": [
      "epoch: 260 loss:0.319078 auc:0.9392\n",
      "Fit finished.\n",
      "epoch:   0 loss:1.161594 auc:0.8138\n",
      "epoch:  20 loss:0.401945 auc:0.9404\n",
      "epoch:  40 loss:0.379484 auc:0.9448\n",
      "epoch:  60 loss:0.374061 auc:0.9453\n",
      "epoch:  80 loss:0.372196 auc:0.9450\n",
      "epoch: 100 loss:0.371380 auc:0.9454\n",
      "epoch: 120 loss:0.370736 auc:0.9452\n",
      "epoch: 140 loss:0.370016 auc:0.9454\n",
      "epoch: 160 loss:0.369033 auc:0.9454\n",
      "epoch: 180 loss:0.367455 auc:0.9463\n",
      "epoch: 200 loss:0.364653 auc:0.9469\n",
      "epoch: 220 loss:0.360363 auc:0.9475\n",
      "epoch: 240 loss:0.355491 auc:0.9482\n",
      "epoch: 260 loss:0.349615 auc:0.9498\n",
      "epoch: 280 loss:0.344148 auc:0.9497\n"
     ]
    },
    {
     "name": "stderr",
     "output_type": "stream",
     "text": [
      " 45%|████▌     | 341/756 [54:56<1:08:03,  9.84s/it]"
     ]
    },
    {
     "name": "stdout",
     "output_type": "stream",
     "text": [
      "epoch: 300 loss:0.334352 auc:0.9350\n",
      "Fit finished.\n",
      "epoch:   0 loss:0.792041 auc:0.5563\n",
      "epoch:  20 loss:0.391451 auc:0.9270\n",
      "epoch:  40 loss:0.376920 auc:0.9330\n",
      "epoch:  60 loss:0.372742 auc:0.9333\n",
      "epoch:  80 loss:0.371445 auc:0.9335\n",
      "epoch: 100 loss:0.370601 auc:0.9333\n",
      "epoch: 120 loss:0.369574 auc:0.9336\n",
      "epoch: 140 loss:0.367835 auc:0.9337\n",
      "epoch: 160 loss:0.364454 auc:0.9342\n",
      "epoch: 180 loss:0.359550 auc:0.9337\n",
      "epoch: 200 loss:0.355105 auc:0.9345\n",
      "epoch: 220 loss:0.350158 auc:0.9351\n"
     ]
    },
    {
     "name": "stderr",
     "output_type": "stream",
     "text": [
      " 45%|████▌     | 342/756 [55:05<1:04:56,  9.41s/it]"
     ]
    },
    {
     "name": "stdout",
     "output_type": "stream",
     "text": [
      "epoch: 240 loss:0.344389 auc:0.9330\n",
      "Fit finished.\n",
      "epoch:   0 loss:0.748727 auc:0.5140\n",
      "epoch:  20 loss:0.395919 auc:0.9143\n",
      "epoch:  40 loss:0.375716 auc:0.9162\n",
      "epoch:  60 loss:0.371913 auc:0.9168\n",
      "epoch:  80 loss:0.370662 auc:0.9172\n",
      "epoch: 100 loss:0.369637 auc:0.9171\n",
      "epoch: 120 loss:0.368194 auc:0.9173\n",
      "epoch: 140 loss:0.365393 auc:0.9175\n",
      "epoch: 160 loss:0.360396 auc:0.9178\n",
      "epoch: 180 loss:0.354845 auc:0.9168\n"
     ]
    },
    {
     "name": "stderr",
     "output_type": "stream",
     "text": [
      " 45%|████▌     | 343/756 [55:12<1:00:22,  8.77s/it]"
     ]
    },
    {
     "name": "stdout",
     "output_type": "stream",
     "text": [
      "epoch: 200 loss:0.350637 auc:0.9152\n",
      "Fit finished.\n",
      "epoch:   0 loss:0.808711 auc:0.5153\n",
      "epoch:  20 loss:0.391220 auc:0.6747\n",
      "epoch:  40 loss:0.376133 auc:0.6594\n",
      "epoch:  60 loss:0.372219 auc:0.6645\n",
      "epoch:  80 loss:0.370943 auc:0.6645\n",
      "epoch: 100 loss:0.370034 auc:0.6671\n",
      "epoch: 120 loss:0.368839 auc:0.6684\n",
      "epoch: 140 loss:0.366771 auc:0.6671\n",
      "epoch: 160 loss:0.362630 auc:0.6645\n"
     ]
    },
    {
     "name": "stderr",
     "output_type": "stream",
     "text": [
      " 46%|████▌     | 344/756 [55:18<55:21,  8.06s/it]  "
     ]
    },
    {
     "name": "stdout",
     "output_type": "stream",
     "text": [
      "epoch: 180 loss:0.357271 auc:0.6645\n",
      "Fit finished.\n",
      "epoch:   0 loss:0.847537 auc:0.4199\n",
      "epoch:  20 loss:0.391941 auc:0.9128\n",
      "epoch:  40 loss:0.375973 auc:0.9140\n",
      "epoch:  60 loss:0.372330 auc:0.9133\n",
      "epoch:  80 loss:0.371025 auc:0.9131\n",
      "epoch: 100 loss:0.369923 auc:0.9128\n",
      "epoch: 120 loss:0.368022 auc:0.9120\n",
      "epoch: 140 loss:0.363663 auc:0.9111\n",
      "epoch: 160 loss:0.357339 auc:0.9096\n"
     ]
    },
    {
     "name": "stderr",
     "output_type": "stream",
     "text": [
      " 46%|████▌     | 345/756 [55:26<53:36,  7.83s/it]"
     ]
    },
    {
     "name": "stdout",
     "output_type": "stream",
     "text": [
      "epoch: 180 loss:0.351165 auc:0.9085\n",
      "Fit finished.\n",
      "epoch:   0 loss:0.819534 auc:0.4214\n",
      "epoch:  20 loss:0.392758 auc:0.9298\n",
      "epoch:  40 loss:0.378535 auc:0.9312\n",
      "epoch:  60 loss:0.373591 auc:0.9298\n",
      "epoch:  80 loss:0.372114 auc:0.9313\n",
      "epoch: 100 loss:0.371427 auc:0.9305\n",
      "epoch: 120 loss:0.370834 auc:0.9307\n",
      "epoch: 140 loss:0.370134 auc:0.9306\n",
      "epoch: 160 loss:0.369086 auc:0.9307\n",
      "epoch: 180 loss:0.367143 auc:0.9302\n"
     ]
    },
    {
     "name": "stderr",
     "output_type": "stream",
     "text": [
      " 46%|████▌     | 346/756 [55:34<53:50,  7.88s/it]"
     ]
    },
    {
     "name": "stdout",
     "output_type": "stream",
     "text": [
      "epoch: 200 loss:0.363332 auc:0.9307\n",
      "Fit finished.\n",
      "epoch:   0 loss:0.658380 auc:0.6223\n",
      "epoch:  20 loss:0.388988 auc:0.9333\n",
      "epoch:  40 loss:0.377278 auc:0.9353\n",
      "epoch:  60 loss:0.372774 auc:0.9349\n",
      "epoch:  80 loss:0.371386 auc:0.9349\n",
      "epoch: 100 loss:0.370450 auc:0.9353\n",
      "epoch: 120 loss:0.369336 auc:0.9354\n",
      "epoch: 140 loss:0.367569 auc:0.9361\n",
      "epoch: 160 loss:0.364376 auc:0.9375\n",
      "epoch: 180 loss:0.359313 auc:0.9385\n",
      "epoch: 200 loss:0.353564 auc:0.9397\n",
      "epoch: 220 loss:0.347256 auc:0.9389\n",
      "epoch: 240 loss:0.340480 auc:0.9370\n"
     ]
    },
    {
     "name": "stderr",
     "output_type": "stream",
     "text": [
      " 46%|████▌     | 347/756 [55:43<56:58,  8.36s/it]"
     ]
    },
    {
     "name": "stdout",
     "output_type": "stream",
     "text": [
      "epoch: 260 loss:0.330275 auc:0.9342\n",
      "Fit finished.\n",
      "epoch:   0 loss:0.739201 auc:0.4407\n",
      "epoch:  20 loss:0.390113 auc:0.9293\n",
      "epoch:  40 loss:0.375605 auc:0.9269\n",
      "epoch:  60 loss:0.371760 auc:0.9270\n",
      "epoch:  80 loss:0.370464 auc:0.9275\n",
      "epoch: 100 loss:0.369271 auc:0.9278\n",
      "epoch: 120 loss:0.367165 auc:0.9284\n",
      "epoch: 140 loss:0.362364 auc:0.9292\n",
      "epoch: 160 loss:0.355502 auc:0.9297\n",
      "epoch: 180 loss:0.348774 auc:0.9310\n",
      "epoch: 200 loss:0.340806 auc:0.9384\n",
      "epoch: 220 loss:0.331960 auc:0.9403\n",
      "epoch: 240 loss:0.322443 auc:0.9378\n"
     ]
    },
    {
     "name": "stderr",
     "output_type": "stream",
     "text": [
      " 46%|████▌     | 348/756 [55:52<57:14,  8.42s/it]"
     ]
    },
    {
     "name": "stdout",
     "output_type": "stream",
     "text": [
      "epoch: 260 loss:0.312815 auc:0.9272\n",
      "Fit finished.\n",
      "epoch:   0 loss:0.921801 auc:0.7349\n",
      "epoch:  20 loss:0.401296 auc:0.9215\n",
      "epoch:  40 loss:0.379296 auc:0.9285\n",
      "epoch:  60 loss:0.373646 auc:0.9274\n",
      "epoch:  80 loss:0.372000 auc:0.9278\n",
      "epoch: 100 loss:0.371207 auc:0.9271\n",
      "epoch: 120 loss:0.370467 auc:0.9267\n",
      "epoch: 140 loss:0.369473 auc:0.9264\n",
      "epoch: 160 loss:0.367770 auc:0.9260\n",
      "epoch: 180 loss:0.364356 auc:0.9251\n"
     ]
    },
    {
     "name": "stderr",
     "output_type": "stream",
     "text": [
      " 46%|████▌     | 349/756 [56:00<55:51,  8.23s/it]"
     ]
    },
    {
     "name": "stdout",
     "output_type": "stream",
     "text": [
      "epoch: 200 loss:0.358829 auc:0.9235\n",
      "Fit finished.\n",
      "epoch:   0 loss:0.767991 auc:0.4293\n",
      "epoch:  20 loss:0.395655 auc:0.9236\n",
      "epoch:  40 loss:0.375603 auc:0.9262\n",
      "epoch:  60 loss:0.372213 auc:0.9273\n",
      "epoch:  80 loss:0.370729 auc:0.9280\n",
      "epoch: 100 loss:0.369380 auc:0.9275\n",
      "epoch: 120 loss:0.367136 auc:0.9266\n",
      "epoch: 140 loss:0.362424 auc:0.9239\n",
      "epoch: 160 loss:0.356125 auc:0.9187\n"
     ]
    },
    {
     "name": "stderr",
     "output_type": "stream",
     "text": [
      " 46%|████▋     | 350/756 [56:07<54:20,  8.03s/it]"
     ]
    },
    {
     "name": "stdout",
     "output_type": "stream",
     "text": [
      "epoch: 180 loss:0.351997 auc:0.9140\n",
      "Fit finished.\n",
      "epoch:   0 loss:0.811555 auc:0.5271\n",
      "epoch:  20 loss:0.400219 auc:0.9181\n",
      "epoch:  40 loss:0.378651 auc:0.9283\n",
      "epoch:  60 loss:0.373913 auc:0.9298\n",
      "epoch:  80 loss:0.372133 auc:0.9298\n",
      "epoch: 100 loss:0.371337 auc:0.9299\n",
      "epoch: 120 loss:0.370751 auc:0.9299\n",
      "epoch: 140 loss:0.370117 auc:0.9300\n",
      "epoch: 160 loss:0.369243 auc:0.9304\n",
      "epoch: 180 loss:0.367715 auc:0.9313\n",
      "epoch: 200 loss:0.364491 auc:0.9327\n",
      "epoch: 220 loss:0.359028 auc:0.9340\n",
      "epoch: 240 loss:0.352769 auc:0.9320\n",
      "epoch: 260 loss:0.346528 auc:0.9308\n",
      "epoch: 280 loss:0.338345 auc:0.9303\n"
     ]
    },
    {
     "name": "stderr",
     "output_type": "stream",
     "text": [
      " 46%|████▋     | 351/756 [56:18<1:00:16,  8.93s/it]"
     ]
    },
    {
     "name": "stdout",
     "output_type": "stream",
     "text": [
      "epoch: 300 loss:0.332826 auc:0.9272\n",
      "Fit finished.\n",
      "epoch:   0 loss:0.781979 auc:0.5098\n",
      "epoch:  20 loss:0.404681 auc:0.9098\n",
      "epoch:  40 loss:0.379554 auc:0.9125\n",
      "epoch:  60 loss:0.373729 auc:0.9120\n",
      "epoch:  80 loss:0.371899 auc:0.9124\n",
      "epoch: 100 loss:0.370931 auc:0.9129\n",
      "epoch: 120 loss:0.369973 auc:0.9131\n",
      "epoch: 140 loss:0.368604 auc:0.9132\n",
      "epoch: 160 loss:0.366073 auc:0.9128\n",
      "epoch: 180 loss:0.361489 auc:0.9115\n"
     ]
    },
    {
     "name": "stderr",
     "output_type": "stream",
     "text": [
      " 47%|████▋     | 352/756 [56:27<59:42,  8.87s/it]  "
     ]
    },
    {
     "name": "stdout",
     "output_type": "stream",
     "text": [
      "epoch: 200 loss:0.356566 auc:0.9102\n",
      "Fit finished.\n",
      "epoch:   0 loss:0.863595 auc:0.3198\n",
      "epoch:  20 loss:0.392613 auc:0.9366\n",
      "epoch:  40 loss:0.375643 auc:0.9421\n",
      "epoch:  60 loss:0.372444 auc:0.9431\n",
      "epoch:  80 loss:0.371035 auc:0.9427\n",
      "epoch: 100 loss:0.369969 auc:0.9430\n",
      "epoch: 120 loss:0.368456 auc:0.9427\n",
      "epoch: 140 loss:0.365430 auc:0.9430\n",
      "epoch: 160 loss:0.359949 auc:0.9439\n",
      "epoch: 180 loss:0.353998 auc:0.9445\n",
      "epoch: 200 loss:0.346952 auc:0.9437\n"
     ]
    },
    {
     "name": "stderr",
     "output_type": "stream",
     "text": [
      " 47%|████▋     | 353/756 [56:35<58:15,  8.67s/it]"
     ]
    },
    {
     "name": "stdout",
     "output_type": "stream",
     "text": [
      "epoch: 220 loss:0.343303 auc:0.9145\n",
      "Fit finished.\n",
      "epoch:   0 loss:0.953158 auc:0.6096\n",
      "epoch:  20 loss:0.403479 auc:0.9321\n",
      "epoch:  40 loss:0.377397 auc:0.9387\n",
      "epoch:  60 loss:0.373027 auc:0.9405\n",
      "epoch:  80 loss:0.371524 auc:0.9405\n",
      "epoch: 100 loss:0.370571 auc:0.9402\n",
      "epoch: 120 loss:0.369539 auc:0.9400\n",
      "epoch: 140 loss:0.368032 auc:0.9400\n",
      "epoch: 160 loss:0.365328 auc:0.9401\n",
      "epoch: 180 loss:0.360874 auc:0.9403\n",
      "epoch: 200 loss:0.356029 auc:0.9394\n"
     ]
    },
    {
     "name": "stderr",
     "output_type": "stream",
     "text": [
      " 47%|████▋     | 354/756 [56:43<57:18,  8.55s/it]"
     ]
    },
    {
     "name": "stdout",
     "output_type": "stream",
     "text": [
      "epoch: 220 loss:0.350476 auc:0.9375\n",
      "Fit finished.\n",
      "epoch:   0 loss:0.930521 auc:0.3087\n",
      "epoch:  20 loss:0.394514 auc:0.9383\n",
      "epoch:  40 loss:0.377851 auc:0.9455\n",
      "epoch:  60 loss:0.373396 auc:0.9468\n",
      "epoch:  80 loss:0.371930 auc:0.9463\n",
      "epoch: 100 loss:0.371191 auc:0.9465\n",
      "epoch: 120 loss:0.370512 auc:0.9461\n",
      "epoch: 140 loss:0.369686 auc:0.9458\n",
      "epoch: 160 loss:0.368489 auc:0.9455\n",
      "epoch: 180 loss:0.366558 auc:0.9453\n"
     ]
    },
    {
     "name": "stderr",
     "output_type": "stream",
     "text": [
      " 47%|████▋     | 355/756 [56:50<53:44,  8.04s/it]"
     ]
    },
    {
     "name": "stdout",
     "output_type": "stream",
     "text": [
      "epoch: 200 loss:0.363522 auc:0.9442\n",
      "Fit finished.\n",
      "epoch:   0 loss:0.898708 auc:0.2449\n",
      "epoch:  20 loss:0.403886 auc:0.9342\n",
      "epoch:  40 loss:0.378751 auc:0.9321\n",
      "epoch:  60 loss:0.373960 auc:0.9336\n",
      "epoch:  80 loss:0.372183 auc:0.9333\n",
      "epoch: 100 loss:0.371269 auc:0.9329\n",
      "epoch: 120 loss:0.370512 auc:0.9332\n",
      "epoch: 140 loss:0.369684 auc:0.9331\n",
      "epoch: 160 loss:0.368595 auc:0.9329\n"
     ]
    },
    {
     "name": "stderr",
     "output_type": "stream",
     "text": [
      " 47%|████▋     | 356/756 [56:58<52:16,  7.84s/it]"
     ]
    },
    {
     "name": "stdout",
     "output_type": "stream",
     "text": [
      "epoch: 180 loss:0.366877 auc:0.9329\n",
      "Fit finished.\n",
      "epoch:   0 loss:0.831114 auc:0.4510\n",
      "epoch:  20 loss:0.394956 auc:0.8727\n",
      "epoch:  40 loss:0.377215 auc:0.8766\n",
      "epoch:  60 loss:0.372669 auc:0.8764\n",
      "epoch:  80 loss:0.371267 auc:0.8756\n",
      "epoch: 100 loss:0.370479 auc:0.8752\n",
      "epoch: 120 loss:0.369644 auc:0.8752\n",
      "epoch: 140 loss:0.368428 auc:0.8752\n",
      "epoch: 160 loss:0.366303 auc:0.8751\n",
      "epoch: 180 loss:0.362823 auc:0.8746\n"
     ]
    },
    {
     "name": "stderr",
     "output_type": "stream",
     "text": [
      " 47%|████▋     | 357/756 [57:06<53:48,  8.09s/it]"
     ]
    },
    {
     "name": "stdout",
     "output_type": "stream",
     "text": [
      "epoch: 200 loss:0.359003 auc:0.8726\n",
      "Fit finished.\n",
      "epoch:   0 loss:0.759931 auc:0.5044\n",
      "epoch:  20 loss:0.401791 auc:0.9206\n",
      "epoch:  40 loss:0.377966 auc:0.9203\n",
      "epoch:  60 loss:0.373365 auc:0.9230\n",
      "epoch:  80 loss:0.371737 auc:0.9240\n",
      "epoch: 100 loss:0.370920 auc:0.9240\n",
      "epoch: 120 loss:0.370165 auc:0.9241\n",
      "epoch: 140 loss:0.369201 auc:0.9234\n",
      "epoch: 160 loss:0.367627 auc:0.9234\n",
      "epoch: 180 loss:0.364735 auc:0.9224\n"
     ]
    },
    {
     "name": "stderr",
     "output_type": "stream",
     "text": [
      " 47%|████▋     | 358/756 [57:13<51:43,  7.80s/it]"
     ]
    },
    {
     "name": "stdout",
     "output_type": "stream",
     "text": [
      "epoch: 200 loss:0.360420 auc:0.9198\n",
      "Fit finished.\n",
      "epoch:   0 loss:0.809354 auc:0.3872\n",
      "epoch:  20 loss:0.392547 auc:0.9368\n",
      "epoch:  40 loss:0.374658 auc:0.9376\n",
      "epoch:  60 loss:0.372015 auc:0.9381\n",
      "epoch:  80 loss:0.370770 auc:0.9376\n",
      "epoch: 100 loss:0.369666 auc:0.9377\n",
      "epoch: 120 loss:0.367971 auc:0.9374\n",
      "epoch: 140 loss:0.364270 auc:0.9366\n",
      "epoch: 160 loss:0.357853 auc:0.9330\n"
     ]
    },
    {
     "name": "stderr",
     "output_type": "stream",
     "text": [
      " 47%|████▋     | 359/756 [57:21<50:58,  7.71s/it]"
     ]
    },
    {
     "name": "stdout",
     "output_type": "stream",
     "text": [
      "epoch: 180 loss:0.350677 auc:0.9320\n",
      "Fit finished.\n",
      "epoch:   0 loss:0.762246 auc:0.3736\n",
      "epoch:  20 loss:0.390102 auc:0.8473\n",
      "epoch:  40 loss:0.375388 auc:0.8575\n",
      "epoch:  60 loss:0.372482 auc:0.8566\n",
      "epoch:  80 loss:0.371402 auc:0.8573\n",
      "epoch: 100 loss:0.370632 auc:0.8568\n",
      "epoch: 120 loss:0.369764 auc:0.8573\n",
      "epoch: 140 loss:0.368398 auc:0.8579\n",
      "epoch: 160 loss:0.365709 auc:0.8584\n",
      "epoch: 180 loss:0.360187 auc:0.8582\n"
     ]
    },
    {
     "name": "stderr",
     "output_type": "stream",
     "text": [
      " 48%|████▊     | 360/756 [57:29<50:44,  7.69s/it]"
     ]
    },
    {
     "name": "stdout",
     "output_type": "stream",
     "text": [
      "epoch: 200 loss:0.354610 auc:0.8567\n",
      "Fit finished.\n",
      "epoch:   0 loss:0.814743 auc:0.3900\n",
      "epoch:  20 loss:0.393780 auc:0.9514\n",
      "epoch:  40 loss:0.375641 auc:0.9512\n",
      "epoch:  60 loss:0.372738 auc:0.9518\n",
      "epoch:  80 loss:0.371807 auc:0.9514\n",
      "epoch: 100 loss:0.371177 auc:0.9518\n",
      "epoch: 120 loss:0.370527 auc:0.9518\n",
      "epoch: 140 loss:0.369676 auc:0.9519\n",
      "epoch: 160 loss:0.368352 auc:0.9520\n",
      "epoch: 180 loss:0.365920 auc:0.9520\n",
      "epoch: 200 loss:0.361223 auc:0.9530\n",
      "epoch: 220 loss:0.355096 auc:0.9535\n"
     ]
    },
    {
     "name": "stderr",
     "output_type": "stream",
     "text": [
      " 48%|████▊     | 361/756 [57:38<54:11,  8.23s/it]"
     ]
    },
    {
     "name": "stdout",
     "output_type": "stream",
     "text": [
      "epoch: 240 loss:0.349015 auc:0.9506\n",
      "Fit finished.\n",
      "epoch:   0 loss:0.878962 auc:0.4965\n",
      "epoch:  20 loss:0.401433 auc:0.8840\n",
      "epoch:  40 loss:0.378939 auc:0.8904\n",
      "epoch:  60 loss:0.373227 auc:0.8926\n",
      "epoch:  80 loss:0.371618 auc:0.8925\n",
      "epoch: 100 loss:0.370769 auc:0.8928\n",
      "epoch: 120 loss:0.369947 auc:0.8922\n",
      "epoch: 140 loss:0.368778 auc:0.8923\n",
      "epoch: 160 loss:0.366671 auc:0.8915\n",
      "epoch: 180 loss:0.362830 auc:0.8905\n"
     ]
    },
    {
     "name": "stderr",
     "output_type": "stream",
     "text": [
      " 48%|████▊     | 362/756 [57:46<53:37,  8.17s/it]"
     ]
    },
    {
     "name": "stdout",
     "output_type": "stream",
     "text": [
      "epoch: 200 loss:0.358634 auc:0.8903\n",
      "Fit finished.\n",
      "epoch:   0 loss:0.736002 auc:0.6021\n",
      "epoch:  20 loss:0.386202 auc:0.9187\n",
      "epoch:  40 loss:0.373515 auc:0.9220\n",
      "epoch:  60 loss:0.371210 auc:0.9205\n",
      "epoch:  80 loss:0.369779 auc:0.9214\n",
      "epoch: 100 loss:0.367782 auc:0.9208\n",
      "epoch: 120 loss:0.363617 auc:0.9202\n",
      "epoch: 140 loss:0.356536 auc:0.9163\n",
      "epoch: 160 loss:0.349093 auc:0.9080\n"
     ]
    },
    {
     "name": "stderr",
     "output_type": "stream",
     "text": [
      " 48%|████▊     | 363/756 [57:53<51:27,  7.86s/it]"
     ]
    },
    {
     "name": "stdout",
     "output_type": "stream",
     "text": [
      "epoch: 180 loss:0.338602 auc:0.8968\n",
      "Fit finished.\n",
      "epoch:   0 loss:0.702152 auc:0.6176\n",
      "epoch:  20 loss:0.396771 auc:0.8986\n",
      "epoch:  40 loss:0.376443 auc:0.8973\n",
      "epoch:  60 loss:0.372172 auc:0.8985\n",
      "epoch:  80 loss:0.370702 auc:0.8987\n",
      "epoch: 100 loss:0.369511 auc:0.8994\n",
      "epoch: 120 loss:0.367678 auc:0.8992\n",
      "epoch: 140 loss:0.364140 auc:0.8991\n",
      "epoch: 160 loss:0.359006 auc:0.8992\n",
      "epoch: 180 loss:0.353523 auc:0.8988\n",
      "epoch: 200 loss:0.347329 auc:0.8999\n",
      "epoch: 220 loss:0.340711 auc:0.9020\n"
     ]
    },
    {
     "name": "stderr",
     "output_type": "stream",
     "text": [
      " 48%|████▊     | 364/756 [58:03<55:56,  8.56s/it]"
     ]
    },
    {
     "name": "stdout",
     "output_type": "stream",
     "text": [
      "epoch: 240 loss:0.332422 auc:0.8969\n",
      "Fit finished.\n",
      "epoch:   0 loss:0.782395 auc:0.4960\n",
      "epoch:  20 loss:0.389038 auc:0.8913\n",
      "epoch:  40 loss:0.374999 auc:0.8985\n",
      "epoch:  60 loss:0.372162 auc:0.8984\n",
      "epoch:  80 loss:0.370963 auc:0.8987\n",
      "epoch: 100 loss:0.369807 auc:0.8985\n",
      "epoch: 120 loss:0.367824 auc:0.8985\n",
      "epoch: 140 loss:0.363676 auc:0.8979\n",
      "epoch: 160 loss:0.358084 auc:0.8955\n"
     ]
    },
    {
     "name": "stderr",
     "output_type": "stream",
     "text": [
      " 48%|████▊     | 365/756 [58:11<53:40,  8.24s/it]"
     ]
    },
    {
     "name": "stdout",
     "output_type": "stream",
     "text": [
      "epoch: 180 loss:0.352128 auc:0.8912\n",
      "Fit finished.\n",
      "epoch:   0 loss:0.976260 auc:0.6981\n",
      "epoch:  20 loss:0.408839 auc:0.9071\n",
      "epoch:  40 loss:0.378890 auc:0.9146\n",
      "epoch:  60 loss:0.373562 auc:0.9140\n",
      "epoch:  80 loss:0.371729 auc:0.9142\n",
      "epoch: 100 loss:0.370896 auc:0.9149\n",
      "epoch: 120 loss:0.370239 auc:0.9149\n",
      "epoch: 140 loss:0.369511 auc:0.9151\n",
      "epoch: 160 loss:0.368519 auc:0.9150\n",
      "epoch: 180 loss:0.366926 auc:0.9153\n",
      "epoch: 200 loss:0.364202 auc:0.9163\n",
      "epoch: 220 loss:0.360385 auc:0.9177\n",
      "epoch: 240 loss:0.356109 auc:0.9202\n",
      "epoch: 260 loss:0.352544 auc:0.9234\n",
      "epoch: 280 loss:0.346773 auc:0.9243\n",
      "epoch: 300 loss:0.339427 auc:0.9211\n"
     ]
    },
    {
     "name": "stderr",
     "output_type": "stream",
     "text": [
      " 48%|████▊     | 366/756 [58:23<1:01:46,  9.50s/it]"
     ]
    },
    {
     "name": "stdout",
     "output_type": "stream",
     "text": [
      "epoch: 320 loss:0.332109 auc:0.9016\n",
      "Fit finished.\n",
      "epoch:   0 loss:0.769732 auc:0.5477\n",
      "epoch:  20 loss:0.387854 auc:0.9433\n",
      "epoch:  40 loss:0.375526 auc:0.9448\n",
      "epoch:  60 loss:0.372308 auc:0.9453\n",
      "epoch:  80 loss:0.371144 auc:0.9451\n",
      "epoch: 100 loss:0.370213 auc:0.9451\n",
      "epoch: 120 loss:0.369022 auc:0.9452\n",
      "epoch: 140 loss:0.366993 auc:0.9449\n",
      "epoch: 160 loss:0.363247 auc:0.9454\n",
      "epoch: 180 loss:0.357777 auc:0.9444\n"
     ]
    },
    {
     "name": "stderr",
     "output_type": "stream",
     "text": [
      " 49%|████▊     | 367/756 [58:31<58:11,  8.98s/it]  "
     ]
    },
    {
     "name": "stdout",
     "output_type": "stream",
     "text": [
      "epoch: 200 loss:0.351510 auc:0.9446\n",
      "Fit finished.\n",
      "epoch:   0 loss:0.840623 auc:0.4326\n",
      "epoch:  20 loss:0.391242 auc:0.8701\n",
      "epoch:  40 loss:0.375602 auc:0.8704\n",
      "epoch:  60 loss:0.372482 auc:0.8711\n",
      "epoch:  80 loss:0.371258 auc:0.8708\n",
      "epoch: 100 loss:0.370319 auc:0.8713\n",
      "epoch: 120 loss:0.369110 auc:0.8713\n",
      "epoch: 140 loss:0.367106 auc:0.8718\n",
      "epoch: 160 loss:0.363490 auc:0.8714\n",
      "epoch: 180 loss:0.358561 auc:0.8713\n",
      "epoch: 200 loss:0.353586 auc:0.8728\n",
      "epoch: 220 loss:0.347499 auc:0.8743\n",
      "epoch: 240 loss:0.340105 auc:0.8732\n"
     ]
    },
    {
     "name": "stderr",
     "output_type": "stream",
     "text": [
      " 49%|████▊     | 368/756 [58:42<1:00:56,  9.42s/it]"
     ]
    },
    {
     "name": "stdout",
     "output_type": "stream",
     "text": [
      "epoch: 260 loss:0.331374 auc:0.8680\n",
      "Fit finished.\n",
      "epoch:   0 loss:0.857775 auc:0.4657\n",
      "epoch:  20 loss:0.403041 auc:0.8944\n",
      "epoch:  40 loss:0.379059 auc:0.8960\n",
      "epoch:  60 loss:0.373536 auc:0.8955\n",
      "epoch:  80 loss:0.371974 auc:0.8958\n",
      "epoch: 100 loss:0.371113 auc:0.8961\n",
      "epoch: 120 loss:0.370239 auc:0.8961\n",
      "epoch: 140 loss:0.368923 auc:0.8961\n",
      "epoch: 160 loss:0.366380 auc:0.8959\n",
      "epoch: 180 loss:0.362145 auc:0.8971\n",
      "epoch: 200 loss:0.357965 auc:0.8984\n",
      "epoch: 220 loss:0.353592 auc:0.9005\n",
      "epoch: 240 loss:0.348432 auc:0.9014\n",
      "epoch: 260 loss:0.345008 auc:0.9039\n",
      "epoch: 280 loss:0.335819 auc:0.9004\n",
      "epoch: 300 loss:0.334237 auc:0.8982\n"
     ]
    },
    {
     "name": "stderr",
     "output_type": "stream",
     "text": [
      " 49%|████▉     | 369/756 [58:54<1:06:08, 10.25s/it]"
     ]
    },
    {
     "name": "stdout",
     "output_type": "stream",
     "text": [
      "epoch: 320 loss:0.319097 auc:0.8835\n",
      "Fit finished.\n",
      "epoch:   0 loss:0.825897 auc:0.4183\n",
      "epoch:  20 loss:0.385717 auc:0.8791\n",
      "epoch:  40 loss:0.374671 auc:0.8808\n",
      "epoch:  60 loss:0.372324 auc:0.8814\n",
      "epoch:  80 loss:0.371136 auc:0.8827\n",
      "epoch: 100 loss:0.370281 auc:0.8824\n",
      "epoch: 120 loss:0.369158 auc:0.8824\n",
      "epoch: 140 loss:0.367053 auc:0.8823\n",
      "epoch: 160 loss:0.362372 auc:0.8821\n",
      "epoch: 180 loss:0.356020 auc:0.8807\n"
     ]
    },
    {
     "name": "stderr",
     "output_type": "stream",
     "text": [
      " 49%|████▉     | 370/756 [59:02<1:01:44,  9.60s/it]"
     ]
    },
    {
     "name": "stdout",
     "output_type": "stream",
     "text": [
      "epoch: 200 loss:0.352615 auc:0.8756\n",
      "Fit finished.\n",
      "epoch:   0 loss:0.873056 auc:0.4885\n",
      "epoch:  20 loss:0.398085 auc:0.9161\n",
      "epoch:  40 loss:0.378374 auc:0.9232\n",
      "epoch:  60 loss:0.373124 auc:0.9228\n",
      "epoch:  80 loss:0.371810 auc:0.9223\n",
      "epoch: 100 loss:0.371189 auc:0.9223\n",
      "epoch: 120 loss:0.370691 auc:0.9221\n",
      "epoch: 140 loss:0.370145 auc:0.9218\n",
      "epoch: 160 loss:0.369435 auc:0.9219\n",
      "epoch: 180 loss:0.368365 auc:0.9214\n"
     ]
    },
    {
     "name": "stderr",
     "output_type": "stream",
     "text": [
      " 49%|████▉     | 371/756 [59:10<59:12,  9.23s/it]  "
     ]
    },
    {
     "name": "stdout",
     "output_type": "stream",
     "text": [
      "epoch: 200 loss:0.366509 auc:0.9206\n",
      "Fit finished.\n",
      "epoch:   0 loss:0.728705 auc:0.4916\n",
      "epoch:  20 loss:0.391922 auc:0.8474\n",
      "epoch:  40 loss:0.375429 auc:0.8553\n",
      "epoch:  60 loss:0.371833 auc:0.8571\n",
      "epoch:  80 loss:0.370409 auc:0.8576\n",
      "epoch: 100 loss:0.368915 auc:0.8580\n",
      "epoch: 120 loss:0.366147 auc:0.8574\n",
      "epoch: 140 loss:0.361176 auc:0.8557\n",
      "epoch: 160 loss:0.355544 auc:0.8533\n",
      "epoch: 180 loss:0.349431 auc:0.8509\n"
     ]
    },
    {
     "name": "stderr",
     "output_type": "stream",
     "text": [
      " 49%|████▉     | 372/756 [59:18<56:50,  8.88s/it]"
     ]
    },
    {
     "name": "stdout",
     "output_type": "stream",
     "text": [
      "epoch: 200 loss:0.342154 auc:0.8498\n",
      "Fit finished.\n",
      "epoch:   0 loss:0.821345 auc:0.4253\n",
      "epoch:  20 loss:0.406223 auc:0.8567\n",
      "epoch:  40 loss:0.380994 auc:0.8818\n",
      "epoch:  60 loss:0.374454 auc:0.8892\n",
      "epoch:  80 loss:0.372421 auc:0.8906\n",
      "epoch: 100 loss:0.371478 auc:0.8899\n",
      "epoch: 120 loss:0.370782 auc:0.8889\n",
      "epoch: 140 loss:0.370075 auc:0.8884\n",
      "epoch: 160 loss:0.369179 auc:0.8877\n",
      "epoch: 180 loss:0.367825 auc:0.8875\n",
      "epoch: 200 loss:0.365440 auc:0.8862\n"
     ]
    },
    {
     "name": "stderr",
     "output_type": "stream",
     "text": [
      " 49%|████▉     | 373/756 [59:27<55:40,  8.72s/it]"
     ]
    },
    {
     "name": "stdout",
     "output_type": "stream",
     "text": [
      "epoch: 220 loss:0.361341 auc:0.8850\n",
      "Fit finished.\n",
      "epoch:   0 loss:0.811402 auc:0.4223\n",
      "epoch:  20 loss:0.389400 auc:0.9276\n",
      "epoch:  40 loss:0.377086 auc:0.9317\n",
      "epoch:  60 loss:0.372961 auc:0.9317\n",
      "epoch:  80 loss:0.371681 auc:0.9316\n",
      "epoch: 100 loss:0.370816 auc:0.9316\n",
      "epoch: 120 loss:0.369823 auc:0.9313\n",
      "epoch: 140 loss:0.368329 auc:0.9314\n",
      "epoch: 160 loss:0.365704 auc:0.9306\n",
      "epoch: 180 loss:0.361493 auc:0.9278\n"
     ]
    },
    {
     "name": "stderr",
     "output_type": "stream",
     "text": [
      " 49%|████▉     | 374/756 [59:33<51:29,  8.09s/it]"
     ]
    },
    {
     "name": "stdout",
     "output_type": "stream",
     "text": [
      "epoch: 200 loss:0.356991 auc:0.9237\n",
      "Fit finished.\n",
      "epoch:   0 loss:0.941078 auc:0.5738\n",
      "epoch:  20 loss:0.403600 auc:0.8716\n",
      "epoch:  40 loss:0.379245 auc:0.8789\n",
      "epoch:  60 loss:0.374004 auc:0.8813\n",
      "epoch:  80 loss:0.372046 auc:0.8823\n",
      "epoch: 100 loss:0.371253 auc:0.8823\n",
      "epoch: 120 loss:0.370695 auc:0.8824\n",
      "epoch: 140 loss:0.370116 auc:0.8826\n",
      "epoch: 160 loss:0.369371 auc:0.8829\n",
      "epoch: 180 loss:0.368274 auc:0.8831\n",
      "epoch: 200 loss:0.366454 auc:0.8833\n",
      "epoch: 220 loss:0.363399 auc:0.8819\n"
     ]
    },
    {
     "name": "stderr",
     "output_type": "stream",
     "text": [
      " 50%|████▉     | 375/756 [59:42<53:25,  8.41s/it]"
     ]
    },
    {
     "name": "stdout",
     "output_type": "stream",
     "text": [
      "epoch: 240 loss:0.359313 auc:0.8819\n",
      "Fit finished.\n",
      "epoch:   0 loss:0.744174 auc:0.5731\n",
      "epoch:  20 loss:0.403819 auc:0.9313\n",
      "epoch:  40 loss:0.377869 auc:0.9355\n",
      "epoch:  60 loss:0.372811 auc:0.9358\n",
      "epoch:  80 loss:0.371534 auc:0.9363\n",
      "epoch: 100 loss:0.370669 auc:0.9363\n",
      "epoch: 120 loss:0.369697 auc:0.9366\n",
      "epoch: 140 loss:0.368139 auc:0.9368\n",
      "epoch: 160 loss:0.364902 auc:0.9371\n",
      "epoch: 180 loss:0.359158 auc:0.9387\n",
      "epoch: 200 loss:0.353621 auc:0.9380\n"
     ]
    },
    {
     "name": "stderr",
     "output_type": "stream",
     "text": [
      " 50%|████▉     | 376/756 [59:50<51:08,  8.07s/it]"
     ]
    },
    {
     "name": "stdout",
     "output_type": "stream",
     "text": [
      "epoch: 220 loss:0.346524 auc:0.9350\n",
      "Fit finished.\n",
      "epoch:   0 loss:0.794431 auc:0.4659\n",
      "epoch:  20 loss:0.400880 auc:0.9049\n",
      "epoch:  40 loss:0.378726 auc:0.9060\n",
      "epoch:  60 loss:0.372960 auc:0.9071\n",
      "epoch:  80 loss:0.371497 auc:0.9064\n",
      "epoch: 100 loss:0.370661 auc:0.9069\n",
      "epoch: 120 loss:0.369882 auc:0.9068\n",
      "epoch: 140 loss:0.368860 auc:0.9068\n",
      "epoch: 160 loss:0.367092 auc:0.9060\n",
      "epoch: 180 loss:0.363381 auc:0.9050\n"
     ]
    },
    {
     "name": "stderr",
     "output_type": "stream",
     "text": [
      " 50%|████▉     | 377/756 [59:57<50:21,  7.97s/it]"
     ]
    },
    {
     "name": "stdout",
     "output_type": "stream",
     "text": [
      "epoch: 200 loss:0.357335 auc:0.9038\n",
      "Fit finished.\n",
      "epoch:   0 loss:0.763634 auc:0.4703\n",
      "epoch:  20 loss:0.392255 auc:0.8613\n",
      "epoch:  40 loss:0.375429 auc:0.8746\n",
      "epoch:  60 loss:0.371960 auc:0.8732\n",
      "epoch:  80 loss:0.370420 auc:0.8725\n",
      "epoch: 100 loss:0.368857 auc:0.8724\n",
      "epoch: 120 loss:0.366289 auc:0.8726\n",
      "epoch: 140 loss:0.362203 auc:0.8729\n",
      "epoch: 160 loss:0.357499 auc:0.8728\n",
      "epoch: 180 loss:0.352467 auc:0.8742\n",
      "epoch: 200 loss:0.346991 auc:0.8763\n",
      "epoch: 220 loss:0.339718 auc:0.8789\n",
      "epoch: 240 loss:0.330791 auc:0.8793\n",
      "epoch: 260 loss:0.322860 auc:0.8761\n"
     ]
    },
    {
     "name": "stderr",
     "output_type": "stream",
     "text": [
      " 50%|█████     | 378/756 [1:00:08<54:55,  8.72s/it]"
     ]
    },
    {
     "name": "stdout",
     "output_type": "stream",
     "text": [
      "epoch: 280 loss:0.313263 auc:0.8704\n",
      "Fit finished.\n",
      "epoch:   0 loss:0.742417 auc:0.6157\n",
      "epoch:  20 loss:0.392360 auc:0.9652\n",
      "epoch:  40 loss:0.374999 auc:0.9643\n",
      "epoch:  60 loss:0.371848 auc:0.9651\n",
      "epoch:  80 loss:0.370295 auc:0.9653\n",
      "epoch: 100 loss:0.368510 auc:0.9653\n",
      "epoch: 120 loss:0.365102 auc:0.9653\n",
      "epoch: 140 loss:0.359476 auc:0.9664\n",
      "epoch: 160 loss:0.354210 auc:0.9677\n",
      "epoch: 180 loss:0.349811 auc:0.9687\n",
      "epoch: 200 loss:0.342469 auc:0.9671\n"
     ]
    },
    {
     "name": "stderr",
     "output_type": "stream",
     "text": [
      " 50%|█████     | 379/756 [1:00:17<54:50,  8.73s/it]"
     ]
    },
    {
     "name": "stdout",
     "output_type": "stream",
     "text": [
      "epoch: 220 loss:0.334454 auc:0.9577\n",
      "Fit finished.\n",
      "epoch:   0 loss:0.765764 auc:0.5537\n",
      "epoch:  20 loss:0.392428 auc:0.9134\n",
      "epoch:  40 loss:0.377239 auc:0.9102\n",
      "epoch:  60 loss:0.372582 auc:0.9117\n",
      "epoch:  80 loss:0.370960 auc:0.9111\n",
      "epoch: 100 loss:0.369775 auc:0.9114\n",
      "epoch: 120 loss:0.368134 auc:0.9117\n",
      "epoch: 140 loss:0.365110 auc:0.9109\n",
      "epoch: 160 loss:0.359941 auc:0.9094\n"
     ]
    },
    {
     "name": "stderr",
     "output_type": "stream",
     "text": [
      " 50%|█████     | 380/756 [1:00:24<51:44,  8.26s/it]"
     ]
    },
    {
     "name": "stdout",
     "output_type": "stream",
     "text": [
      "epoch: 180 loss:0.354057 auc:0.9085\n",
      "Fit finished.\n",
      "epoch:   0 loss:0.736536 auc:0.4451\n",
      "epoch:  20 loss:0.390576 auc:0.9147\n",
      "epoch:  40 loss:0.374249 auc:0.9112\n",
      "epoch:  60 loss:0.371932 auc:0.9117\n",
      "epoch:  80 loss:0.370825 auc:0.9122\n",
      "epoch: 100 loss:0.369725 auc:0.9126\n",
      "epoch: 120 loss:0.367945 auc:0.9127\n",
      "epoch: 140 loss:0.364326 auc:0.9123\n",
      "epoch: 160 loss:0.359063 auc:0.9115\n"
     ]
    },
    {
     "name": "stderr",
     "output_type": "stream",
     "text": [
      " 50%|█████     | 381/756 [1:00:31<49:43,  7.95s/it]"
     ]
    },
    {
     "name": "stdout",
     "output_type": "stream",
     "text": [
      "epoch: 180 loss:0.353869 auc:0.9111\n",
      "Fit finished.\n",
      "epoch:   0 loss:0.805719 auc:0.6440\n",
      "epoch:  20 loss:0.399811 auc:0.9202\n",
      "epoch:  40 loss:0.378973 auc:0.9317\n",
      "epoch:  60 loss:0.374081 auc:0.9330\n",
      "epoch:  80 loss:0.372354 auc:0.9327\n",
      "epoch: 100 loss:0.371584 auc:0.9323\n",
      "epoch: 120 loss:0.371053 auc:0.9324\n",
      "epoch: 140 loss:0.370540 auc:0.9322\n",
      "epoch: 160 loss:0.369932 auc:0.9320\n",
      "epoch: 180 loss:0.369111 auc:0.9320\n",
      "epoch: 200 loss:0.367863 auc:0.9323\n"
     ]
    },
    {
     "name": "stderr",
     "output_type": "stream",
     "text": [
      " 51%|█████     | 382/756 [1:00:39<50:02,  8.03s/it]"
     ]
    },
    {
     "name": "stdout",
     "output_type": "stream",
     "text": [
      "epoch: 220 loss:0.365747 auc:0.9324\n",
      "Fit finished.\n",
      "epoch:   0 loss:0.989373 auc:0.4509\n",
      "epoch:  20 loss:0.411583 auc:0.9589\n",
      "epoch:  40 loss:0.381694 auc:0.9631\n",
      "epoch:  60 loss:0.374822 auc:0.9651\n",
      "epoch:  80 loss:0.372546 auc:0.9657\n",
      "epoch: 100 loss:0.371622 auc:0.9656\n",
      "epoch: 120 loss:0.370961 auc:0.9653\n",
      "epoch: 140 loss:0.370285 auc:0.9656\n",
      "epoch: 160 loss:0.369417 auc:0.9658\n",
      "epoch: 180 loss:0.368127 auc:0.9657\n",
      "epoch: 200 loss:0.366041 auc:0.9659\n",
      "epoch: 220 loss:0.362832 auc:0.9662\n"
     ]
    },
    {
     "name": "stderr",
     "output_type": "stream",
     "text": [
      " 51%|█████     | 383/756 [1:00:49<52:49,  8.50s/it]"
     ]
    },
    {
     "name": "stdout",
     "output_type": "stream",
     "text": [
      "epoch: 240 loss:0.359000 auc:0.9654\n",
      "Fit finished.\n",
      "epoch:   0 loss:0.835532 auc:0.4996\n",
      "epoch:  20 loss:0.405248 auc:0.9020\n",
      "epoch:  40 loss:0.377621 auc:0.9106\n",
      "epoch:  60 loss:0.372579 auc:0.9134\n",
      "epoch:  80 loss:0.371047 auc:0.9126\n",
      "epoch: 100 loss:0.369952 auc:0.9132\n",
      "epoch: 120 loss:0.368591 auc:0.9127\n",
      "epoch: 140 loss:0.366226 auc:0.9129\n",
      "epoch: 160 loss:0.362144 auc:0.9143\n",
      "epoch: 180 loss:0.357858 auc:0.9154\n",
      "epoch: 200 loss:0.353754 auc:0.9154\n",
      "epoch: 220 loss:0.349922 auc:0.9148\n",
      "epoch: 240 loss:0.343902 auc:0.9150\n",
      "epoch: 260 loss:0.336395 auc:0.9143\n"
     ]
    },
    {
     "name": "stderr",
     "output_type": "stream",
     "text": [
      " 51%|█████     | 384/756 [1:00:58<54:32,  8.80s/it]"
     ]
    },
    {
     "name": "stdout",
     "output_type": "stream",
     "text": [
      "epoch: 280 loss:0.328828 auc:0.9123\n",
      "Fit finished.\n",
      "epoch:   0 loss:0.754512 auc:0.4704\n",
      "epoch:  20 loss:0.392515 auc:0.8247\n",
      "epoch:  40 loss:0.375927 auc:0.8304\n",
      "epoch:  60 loss:0.372332 auc:0.8309\n",
      "epoch:  80 loss:0.371210 auc:0.8310\n",
      "epoch: 100 loss:0.370375 auc:0.8311\n",
      "epoch: 120 loss:0.369387 auc:0.8318\n",
      "epoch: 140 loss:0.367839 auc:0.8324\n",
      "epoch: 160 loss:0.364937 auc:0.8351\n",
      "epoch: 180 loss:0.359927 auc:0.8398\n",
      "epoch: 200 loss:0.354222 auc:0.8441\n",
      "epoch: 220 loss:0.348772 auc:0.8457\n",
      "epoch: 240 loss:0.340402 auc:0.8470\n",
      "epoch: 260 loss:0.331692 auc:0.8384\n"
     ]
    },
    {
     "name": "stderr",
     "output_type": "stream",
     "text": [
      " 51%|█████     | 385/756 [1:01:10<59:45,  9.66s/it]"
     ]
    },
    {
     "name": "stdout",
     "output_type": "stream",
     "text": [
      "epoch: 280 loss:0.325236 auc:0.8300\n",
      "Fit finished.\n",
      "epoch:   0 loss:0.706568 auc:0.6381\n",
      "epoch:  20 loss:0.404939 auc:0.9009\n",
      "epoch:  40 loss:0.380860 auc:0.9007\n",
      "epoch:  60 loss:0.374492 auc:0.8991\n",
      "epoch:  80 loss:0.372296 auc:0.8997\n",
      "epoch: 100 loss:0.371328 auc:0.8998\n",
      "epoch: 120 loss:0.370587 auc:0.8998\n",
      "epoch: 140 loss:0.369807 auc:0.9000\n",
      "epoch: 160 loss:0.368783 auc:0.9001\n"
     ]
    },
    {
     "name": "stderr",
     "output_type": "stream",
     "text": [
      " 51%|█████     | 386/756 [1:01:17<54:46,  8.88s/it]"
     ]
    },
    {
     "name": "stdout",
     "output_type": "stream",
     "text": [
      "epoch: 180 loss:0.367157 auc:0.9000\n",
      "Fit finished.\n",
      "epoch:   0 loss:0.732713 auc:0.5012\n",
      "epoch:  20 loss:0.388641 auc:0.9517\n",
      "epoch:  40 loss:0.374042 auc:0.9506\n",
      "epoch:  60 loss:0.371481 auc:0.9508\n",
      "epoch:  80 loss:0.370261 auc:0.9510\n",
      "epoch: 100 loss:0.368889 auc:0.9517\n",
      "epoch: 120 loss:0.366554 auc:0.9525\n",
      "epoch: 140 loss:0.362289 auc:0.9543\n",
      "epoch: 160 loss:0.356933 auc:0.9568\n",
      "epoch: 180 loss:0.350336 auc:0.9585\n",
      "epoch: 200 loss:0.340338 auc:0.9613\n",
      "epoch: 220 loss:0.330788 auc:0.9536\n",
      "epoch: 240 loss:0.319190 auc:0.9571\n"
     ]
    },
    {
     "name": "stderr",
     "output_type": "stream",
     "text": [
      " 51%|█████     | 387/756 [1:01:26<55:36,  9.04s/it]"
     ]
    },
    {
     "name": "stdout",
     "output_type": "stream",
     "text": [
      "epoch: 260 loss:0.314252 auc:0.9407\n",
      "Fit finished.\n",
      "epoch:   0 loss:0.787917 auc:0.5598\n",
      "epoch:  20 loss:0.405740 auc:0.8888\n",
      "epoch:  40 loss:0.378783 auc:0.9088\n",
      "epoch:  60 loss:0.373071 auc:0.9127\n",
      "epoch:  80 loss:0.371524 auc:0.9130\n",
      "epoch: 100 loss:0.370673 auc:0.9127\n",
      "epoch: 120 loss:0.369861 auc:0.9126\n",
      "epoch: 140 loss:0.368725 auc:0.9121\n",
      "epoch: 160 loss:0.366610 auc:0.9127\n",
      "epoch: 180 loss:0.362490 auc:0.9136\n",
      "epoch: 200 loss:0.357422 auc:0.9153\n",
      "epoch: 220 loss:0.352125 auc:0.9166\n",
      "epoch: 240 loss:0.346586 auc:0.9182\n",
      "epoch: 260 loss:0.339321 auc:0.9142\n"
     ]
    },
    {
     "name": "stderr",
     "output_type": "stream",
     "text": [
      " 51%|█████▏    | 388/756 [1:01:38<1:00:58,  9.94s/it]"
     ]
    },
    {
     "name": "stdout",
     "output_type": "stream",
     "text": [
      "epoch: 280 loss:0.331847 auc:0.9064\n",
      "Fit finished.\n",
      "epoch:   0 loss:0.741940 auc:0.5121\n",
      "epoch:  20 loss:0.389590 auc:0.9573\n",
      "epoch:  40 loss:0.374586 auc:0.9591\n",
      "epoch:  60 loss:0.371808 auc:0.9575\n",
      "epoch:  80 loss:0.370494 auc:0.9584\n",
      "epoch: 100 loss:0.369077 auc:0.9583\n",
      "epoch: 120 loss:0.366352 auc:0.9584\n",
      "epoch: 140 loss:0.361382 auc:0.9589\n",
      "epoch: 160 loss:0.355988 auc:0.9584\n"
     ]
    },
    {
     "name": "stderr",
     "output_type": "stream",
     "text": [
      " 51%|█████▏    | 389/756 [1:01:45<55:13,  9.03s/it]  "
     ]
    },
    {
     "name": "stdout",
     "output_type": "stream",
     "text": [
      "epoch: 180 loss:0.350034 auc:0.9547\n",
      "Fit finished.\n",
      "epoch:   0 loss:0.856694 auc:0.3357\n",
      "epoch:  20 loss:0.395657 auc:0.8056\n",
      "epoch:  40 loss:0.377533 auc:0.8172\n",
      "epoch:  60 loss:0.372958 auc:0.8145\n",
      "epoch:  80 loss:0.371331 auc:0.8128\n",
      "epoch: 100 loss:0.370300 auc:0.8114\n",
      "epoch: 120 loss:0.369076 auc:0.8110\n",
      "epoch: 140 loss:0.367020 auc:0.8104\n",
      "epoch: 160 loss:0.363364 auc:0.8083\n",
      "epoch: 180 loss:0.358916 auc:0.8090\n"
     ]
    },
    {
     "name": "stderr",
     "output_type": "stream",
     "text": [
      " 52%|█████▏    | 390/756 [1:01:53<52:12,  8.56s/it]"
     ]
    },
    {
     "name": "stdout",
     "output_type": "stream",
     "text": [
      "epoch: 200 loss:0.354197 auc:0.8114\n",
      "Fit finished.\n",
      "epoch:   0 loss:0.815129 auc:0.6427\n",
      "epoch:  20 loss:0.420205 auc:0.8523\n",
      "epoch:  40 loss:0.382725 auc:0.8504\n",
      "epoch:  60 loss:0.374420 auc:0.8514\n",
      "epoch:  80 loss:0.372102 auc:0.8514\n",
      "epoch: 100 loss:0.371162 auc:0.8515\n",
      "epoch: 120 loss:0.370470 auc:0.8515\n",
      "epoch: 140 loss:0.369715 auc:0.8515\n",
      "epoch: 160 loss:0.368700 auc:0.8514\n"
     ]
    },
    {
     "name": "stderr",
     "output_type": "stream",
     "text": [
      " 52%|█████▏    | 391/756 [1:02:00<49:22,  8.12s/it]"
     ]
    },
    {
     "name": "stdout",
     "output_type": "stream",
     "text": [
      "epoch: 180 loss:0.367134 auc:0.8514\n",
      "Fit finished.\n",
      "epoch:   0 loss:0.840642 auc:0.3812\n",
      "epoch:  20 loss:0.398210 auc:0.8749\n",
      "epoch:  40 loss:0.377060 auc:0.8817\n",
      "epoch:  60 loss:0.372845 auc:0.8842\n",
      "epoch:  80 loss:0.371453 auc:0.8836\n",
      "epoch: 100 loss:0.370568 auc:0.8836\n",
      "epoch: 120 loss:0.369640 auc:0.8835\n",
      "epoch: 140 loss:0.368368 auc:0.8834\n",
      "epoch: 160 loss:0.366362 auc:0.8836\n",
      "epoch: 180 loss:0.362815 auc:0.8826\n"
     ]
    },
    {
     "name": "stderr",
     "output_type": "stream",
     "text": [
      " 52%|█████▏    | 392/756 [1:02:08<48:43,  8.03s/it]"
     ]
    },
    {
     "name": "stdout",
     "output_type": "stream",
     "text": [
      "epoch: 200 loss:0.357762 auc:0.8812\n",
      "Fit finished.\n",
      "epoch:   0 loss:0.790951 auc:0.4259\n",
      "epoch:  20 loss:0.384999 auc:0.9082\n",
      "epoch:  40 loss:0.373588 auc:0.9129\n",
      "epoch:  60 loss:0.371060 auc:0.9129\n",
      "epoch:  80 loss:0.369582 auc:0.9129\n",
      "epoch: 100 loss:0.367189 auc:0.9126\n",
      "epoch: 120 loss:0.362062 auc:0.9107\n",
      "epoch: 140 loss:0.355363 auc:0.9080\n",
      "epoch: 160 loss:0.351734 auc:0.9099\n"
     ]
    },
    {
     "name": "stderr",
     "output_type": "stream",
     "text": [
      " 52%|█████▏    | 393/756 [1:02:15<47:05,  7.78s/it]"
     ]
    },
    {
     "name": "stdout",
     "output_type": "stream",
     "text": [
      "epoch: 180 loss:0.340373 auc:0.9046\n",
      "Fit finished.\n",
      "epoch:   0 loss:0.904670 auc:0.3789\n",
      "epoch:  20 loss:0.407261 auc:0.8852\n",
      "epoch:  40 loss:0.380242 auc:0.8876\n",
      "epoch:  60 loss:0.373611 auc:0.8882\n",
      "epoch:  80 loss:0.371867 auc:0.8896\n",
      "epoch: 100 loss:0.371071 auc:0.8900\n",
      "epoch: 120 loss:0.370437 auc:0.8901\n",
      "epoch: 140 loss:0.369673 auc:0.8900\n",
      "epoch: 160 loss:0.368475 auc:0.8893\n",
      "epoch: 180 loss:0.366136 auc:0.8893\n",
      "epoch: 200 loss:0.361287 auc:0.8889\n"
     ]
    },
    {
     "name": "stderr",
     "output_type": "stream",
     "text": [
      " 52%|█████▏    | 394/756 [1:02:23<48:10,  7.99s/it]"
     ]
    },
    {
     "name": "stdout",
     "output_type": "stream",
     "text": [
      "epoch: 220 loss:0.355784 auc:0.8856\n",
      "Fit finished.\n",
      "epoch:   0 loss:0.809721 auc:0.4944\n",
      "epoch:  20 loss:0.396907 auc:0.9075\n",
      "epoch:  40 loss:0.375800 auc:0.9033\n",
      "epoch:  60 loss:0.372423 auc:0.9056\n",
      "epoch:  80 loss:0.371073 auc:0.9053\n",
      "epoch: 100 loss:0.370192 auc:0.9055\n",
      "epoch: 120 loss:0.369131 auc:0.9057\n",
      "epoch: 140 loss:0.367436 auc:0.9058\n",
      "epoch: 160 loss:0.364198 auc:0.9056\n"
     ]
    },
    {
     "name": "stderr",
     "output_type": "stream",
     "text": [
      " 52%|█████▏    | 395/756 [1:02:31<46:36,  7.75s/it]"
     ]
    },
    {
     "name": "stdout",
     "output_type": "stream",
     "text": [
      "epoch: 180 loss:0.359222 auc:0.9049\n",
      "Fit finished.\n",
      "epoch:   0 loss:0.814564 auc:0.4178\n",
      "epoch:  20 loss:0.401119 auc:0.9203\n",
      "epoch:  40 loss:0.376244 auc:0.9182\n",
      "epoch:  60 loss:0.372436 auc:0.9175\n",
      "epoch:  80 loss:0.370890 auc:0.9191\n",
      "epoch: 100 loss:0.369677 auc:0.9190\n",
      "epoch: 120 loss:0.367898 auc:0.9200\n",
      "epoch: 140 loss:0.364682 auc:0.9213\n",
      "epoch: 160 loss:0.359990 auc:0.9239\n",
      "epoch: 180 loss:0.354822 auc:0.9267\n",
      "epoch: 200 loss:0.348548 auc:0.9304\n",
      "epoch: 220 loss:0.344667 auc:0.9300\n",
      "epoch: 240 loss:0.330651 auc:0.9314\n",
      "epoch: 260 loss:0.319304 auc:0.9310\n",
      "epoch: 280 loss:0.309584 auc:0.9307\n",
      "epoch: 300 loss:0.301450 auc:0.9303\n",
      "epoch: 320 loss:0.293823 auc:0.9321\n"
     ]
    },
    {
     "name": "stderr",
     "output_type": "stream",
     "text": [
      " 52%|█████▏    | 396/756 [1:02:44<57:21,  9.56s/it]"
     ]
    },
    {
     "name": "stdout",
     "output_type": "stream",
     "text": [
      "epoch: 340 loss:0.287799 auc:0.9260\n",
      "Fit finished.\n",
      "epoch:   0 loss:0.976077 auc:0.7083\n",
      "epoch:  20 loss:0.399156 auc:0.9115\n",
      "epoch:  40 loss:0.379533 auc:0.9159\n",
      "epoch:  60 loss:0.374211 auc:0.9158\n",
      "epoch:  80 loss:0.372442 auc:0.9163\n",
      "epoch: 100 loss:0.371666 auc:0.9161\n",
      "epoch: 120 loss:0.371140 auc:0.9159\n",
      "epoch: 140 loss:0.370648 auc:0.9160\n",
      "epoch: 160 loss:0.370084 auc:0.9159\n",
      "epoch: 180 loss:0.369357 auc:0.9157\n"
     ]
    },
    {
     "name": "stderr",
     "output_type": "stream",
     "text": [
      " 53%|█████▎    | 397/756 [1:02:52<54:11,  9.06s/it]"
     ]
    },
    {
     "name": "stdout",
     "output_type": "stream",
     "text": [
      "epoch: 200 loss:0.368320 auc:0.9157\n",
      "Fit finished.\n",
      "epoch:   0 loss:0.827900 auc:0.4987\n",
      "epoch:  20 loss:0.403450 auc:0.9253\n",
      "epoch:  40 loss:0.377137 auc:0.9268\n",
      "epoch:  60 loss:0.372782 auc:0.9267\n",
      "epoch:  80 loss:0.371322 auc:0.9262\n",
      "epoch: 100 loss:0.370377 auc:0.9264\n",
      "epoch: 120 loss:0.369273 auc:0.9269\n",
      "epoch: 140 loss:0.367431 auc:0.9274\n",
      "epoch: 160 loss:0.363831 auc:0.9288\n",
      "epoch: 180 loss:0.358859 auc:0.9327\n",
      "epoch: 200 loss:0.353848 auc:0.9344\n",
      "epoch: 220 loss:0.348143 auc:0.9353\n",
      "epoch: 240 loss:0.343475 auc:0.9320\n"
     ]
    },
    {
     "name": "stderr",
     "output_type": "stream",
     "text": [
      " 53%|█████▎    | 398/756 [1:03:04<58:06,  9.74s/it]"
     ]
    },
    {
     "name": "stdout",
     "output_type": "stream",
     "text": [
      "epoch: 260 loss:0.334793 auc:0.9254\n",
      "Fit finished.\n",
      "epoch:   0 loss:1.194589 auc:0.7338\n",
      "epoch:  20 loss:0.400698 auc:0.9320\n",
      "epoch:  40 loss:0.378444 auc:0.9333\n",
      "epoch:  60 loss:0.373211 auc:0.9338\n",
      "epoch:  80 loss:0.371678 auc:0.9344\n",
      "epoch: 100 loss:0.370909 auc:0.9345\n",
      "epoch: 120 loss:0.370153 auc:0.9345\n",
      "epoch: 140 loss:0.369103 auc:0.9349\n",
      "epoch: 160 loss:0.367129 auc:0.9351\n",
      "epoch: 180 loss:0.362805 auc:0.9370\n",
      "epoch: 200 loss:0.356883 auc:0.9382\n",
      "epoch: 220 loss:0.351607 auc:0.9390\n",
      "epoch: 240 loss:0.345439 auc:0.9388\n",
      "epoch: 260 loss:0.339038 auc:0.9347\n"
     ]
    },
    {
     "name": "stderr",
     "output_type": "stream",
     "text": [
      " 53%|█████▎    | 399/756 [1:03:14<59:39, 10.03s/it]"
     ]
    },
    {
     "name": "stdout",
     "output_type": "stream",
     "text": [
      "epoch: 280 loss:0.333386 auc:0.9333\n",
      "Fit finished.\n",
      "epoch:   0 loss:0.907421 auc:0.6262\n",
      "epoch:  20 loss:0.408864 auc:0.9519\n",
      "epoch:  40 loss:0.379844 auc:0.9571\n",
      "epoch:  60 loss:0.373771 auc:0.9568\n",
      "epoch:  80 loss:0.371872 auc:0.9568\n",
      "epoch: 100 loss:0.370991 auc:0.9568\n",
      "epoch: 120 loss:0.370219 auc:0.9568\n",
      "epoch: 140 loss:0.369216 auc:0.9569\n",
      "epoch: 160 loss:0.367541 auc:0.9573\n",
      "epoch: 180 loss:0.364344 auc:0.9587\n",
      "epoch: 200 loss:0.359204 auc:0.9593\n",
      "epoch: 220 loss:0.354651 auc:0.9602\n",
      "epoch: 240 loss:0.348901 auc:0.9622\n",
      "epoch: 260 loss:0.342693 auc:0.9622\n",
      "epoch: 280 loss:0.334435 auc:0.9647\n",
      "epoch: 300 loss:0.328206 auc:0.9654\n",
      "epoch: 320 loss:0.319478 auc:0.9689\n",
      "epoch: 340 loss:0.312927 auc:0.9698\n",
      "epoch: 360 loss:0.320660 auc:0.9598\n",
      "epoch: 380 loss:0.306016 auc:0.9701\n",
      "epoch: 400 loss:0.298290 auc:0.9627\n"
     ]
    },
    {
     "name": "stderr",
     "output_type": "stream",
     "text": [
      " 53%|█████▎    | 400/756 [1:03:31<1:10:31, 11.89s/it]"
     ]
    },
    {
     "name": "stdout",
     "output_type": "stream",
     "text": [
      "epoch: 420 loss:0.293200 auc:0.9610\n",
      "Fit finished.\n",
      "epoch:   0 loss:0.716037 auc:0.5528\n",
      "epoch:  20 loss:0.394910 auc:0.9239\n",
      "epoch:  40 loss:0.376252 auc:0.9273\n",
      "epoch:  60 loss:0.372628 auc:0.9267\n",
      "epoch:  80 loss:0.371153 auc:0.9273\n",
      "epoch: 100 loss:0.370072 auc:0.9268\n",
      "epoch: 120 loss:0.368651 auc:0.9276\n",
      "epoch: 140 loss:0.366072 auc:0.9281\n",
      "epoch: 160 loss:0.360318 auc:0.9296\n",
      "epoch: 180 loss:0.352944 auc:0.9327\n",
      "epoch: 200 loss:0.347375 auc:0.9376\n",
      "epoch: 220 loss:0.339419 auc:0.9289\n"
     ]
    },
    {
     "name": "stderr",
     "output_type": "stream",
     "text": [
      " 53%|█████▎    | 401/756 [1:03:40<1:05:30, 11.07s/it]"
     ]
    },
    {
     "name": "stdout",
     "output_type": "stream",
     "text": [
      "epoch: 240 loss:0.330087 auc:0.9226\n",
      "Fit finished.\n",
      "epoch:   0 loss:0.737675 auc:0.5441\n",
      "epoch:  20 loss:0.392694 auc:0.9364\n",
      "epoch:  40 loss:0.377420 auc:0.9351\n",
      "epoch:  60 loss:0.372760 auc:0.9365\n",
      "epoch:  80 loss:0.371405 auc:0.9370\n",
      "epoch: 100 loss:0.370512 auc:0.9369\n",
      "epoch: 120 loss:0.369570 auc:0.9372\n",
      "epoch: 140 loss:0.368169 auc:0.9381\n",
      "epoch: 160 loss:0.365222 auc:0.9391\n",
      "epoch: 180 loss:0.359188 auc:0.9430\n",
      "epoch: 200 loss:0.352593 auc:0.9462\n",
      "epoch: 220 loss:0.346899 auc:0.9537\n",
      "epoch: 240 loss:0.335771 auc:0.9517\n",
      "epoch: 260 loss:0.325990 auc:0.9517\n",
      "epoch: 280 loss:0.318595 auc:0.9546\n"
     ]
    },
    {
     "name": "stderr",
     "output_type": "stream",
     "text": [
      " 53%|█████▎    | 402/756 [1:03:52<1:06:58, 11.35s/it]"
     ]
    },
    {
     "name": "stdout",
     "output_type": "stream",
     "text": [
      "epoch: 300 loss:0.308838 auc:0.9340\n",
      "Fit finished.\n",
      "epoch:   0 loss:0.736514 auc:0.5227\n",
      "epoch:  20 loss:0.392488 auc:0.9158\n",
      "epoch:  40 loss:0.375129 auc:0.9166\n",
      "epoch:  60 loss:0.371809 auc:0.9172\n",
      "epoch:  80 loss:0.370717 auc:0.9172\n",
      "epoch: 100 loss:0.369776 auc:0.9173\n",
      "epoch: 120 loss:0.368424 auc:0.9168\n",
      "epoch: 140 loss:0.365851 auc:0.9167\n",
      "epoch: 160 loss:0.360501 auc:0.9169\n"
     ]
    },
    {
     "name": "stderr",
     "output_type": "stream",
     "text": [
      " 53%|█████▎    | 403/756 [1:03:58<57:47,  9.82s/it]  "
     ]
    },
    {
     "name": "stdout",
     "output_type": "stream",
     "text": [
      "epoch: 180 loss:0.354149 auc:0.9157\n",
      "Fit finished.\n",
      "epoch:   0 loss:0.812560 auc:0.5421\n",
      "epoch:  20 loss:0.397564 auc:0.8178\n",
      "epoch:  40 loss:0.377787 auc:0.8233\n",
      "epoch:  60 loss:0.373168 auc:0.8239\n",
      "epoch:  80 loss:0.371462 auc:0.8246\n",
      "epoch: 100 loss:0.370642 auc:0.8250\n",
      "epoch: 120 loss:0.369784 auc:0.8248\n",
      "epoch: 140 loss:0.368551 auc:0.8252\n",
      "epoch: 160 loss:0.366412 auc:0.8255\n",
      "epoch: 180 loss:0.362682 auc:0.8261\n",
      "epoch: 200 loss:0.358145 auc:0.8260\n",
      "epoch: 220 loss:0.353584 auc:0.8270\n",
      "epoch: 240 loss:0.348288 auc:0.8277\n",
      "epoch: 260 loss:0.342078 auc:0.8323\n",
      "epoch: 280 loss:0.337162 auc:0.8331\n",
      "epoch: 300 loss:0.329121 auc:0.8347\n",
      "epoch: 320 loss:0.321505 auc:0.8316\n",
      "epoch: 340 loss:0.318286 auc:0.8306\n",
      "epoch: 360 loss:0.309920 auc:0.8318\n",
      "epoch: 380 loss:0.303060 auc:0.8305\n",
      "epoch: 400 loss:0.297794 auc:0.8387\n",
      "epoch: 420 loss:0.292047 auc:0.8393\n",
      "epoch: 440 loss:0.287363 auc:0.8368\n"
     ]
    },
    {
     "name": "stderr",
     "output_type": "stream",
     "text": [
      " 53%|█████▎    | 404/756 [1:04:16<1:11:58, 12.27s/it]"
     ]
    },
    {
     "name": "stdout",
     "output_type": "stream",
     "text": [
      "epoch: 460 loss:0.283910 auc:0.8331\n",
      "Fit finished.\n",
      "epoch:   0 loss:0.711776 auc:0.6823\n",
      "epoch:  20 loss:0.391466 auc:0.9300\n",
      "epoch:  40 loss:0.375396 auc:0.9307\n",
      "epoch:  60 loss:0.372301 auc:0.9301\n",
      "epoch:  80 loss:0.371042 auc:0.9297\n",
      "epoch: 100 loss:0.370106 auc:0.9299\n",
      "epoch: 120 loss:0.368916 auc:0.9295\n",
      "epoch: 140 loss:0.366928 auc:0.9300\n",
      "epoch: 160 loss:0.363396 auc:0.9292\n"
     ]
    },
    {
     "name": "stderr",
     "output_type": "stream",
     "text": [
      " 54%|█████▎    | 405/756 [1:04:23<1:03:03, 10.78s/it]"
     ]
    },
    {
     "name": "stdout",
     "output_type": "stream",
     "text": [
      "epoch: 180 loss:0.358739 auc:0.9279\n",
      "Fit finished.\n",
      "epoch:   0 loss:0.677562 auc:0.6501\n",
      "epoch:  20 loss:0.396763 auc:0.9231\n",
      "epoch:  40 loss:0.376295 auc:0.9283\n",
      "epoch:  60 loss:0.372749 auc:0.9303\n",
      "epoch:  80 loss:0.371201 auc:0.9297\n",
      "epoch: 100 loss:0.370123 auc:0.9303\n",
      "epoch: 120 loss:0.368709 auc:0.9304\n",
      "epoch: 140 loss:0.366221 auc:0.9320\n",
      "epoch: 160 loss:0.361489 auc:0.9336\n",
      "epoch: 180 loss:0.356444 auc:0.9355\n",
      "epoch: 200 loss:0.351828 auc:0.9369\n",
      "epoch: 220 loss:0.346509 auc:0.9401\n",
      "epoch: 240 loss:0.338447 auc:0.9432\n",
      "epoch: 260 loss:0.327435 auc:0.9411\n",
      "epoch: 280 loss:0.319014 auc:0.9330\n"
     ]
    },
    {
     "name": "stderr",
     "output_type": "stream",
     "text": [
      " 54%|█████▎    | 406/756 [1:04:35<1:04:29, 11.05s/it]"
     ]
    },
    {
     "name": "stdout",
     "output_type": "stream",
     "text": [
      "epoch: 300 loss:0.310370 auc:0.9214\n",
      "Fit finished.\n",
      "epoch:   0 loss:0.771373 auc:0.5034\n",
      "epoch:  20 loss:0.393618 auc:0.9107\n",
      "epoch:  40 loss:0.375933 auc:0.9120\n",
      "epoch:  60 loss:0.372357 auc:0.9123\n",
      "epoch:  80 loss:0.371003 auc:0.9130\n",
      "epoch: 100 loss:0.369826 auc:0.9130\n",
      "epoch: 120 loss:0.368138 auc:0.9135\n",
      "epoch: 140 loss:0.365018 auc:0.9139\n",
      "epoch: 160 loss:0.359694 auc:0.9138\n",
      "epoch: 180 loss:0.353903 auc:0.9134\n",
      "epoch: 200 loss:0.347545 auc:0.9148\n"
     ]
    },
    {
     "name": "stderr",
     "output_type": "stream",
     "text": [
      " 54%|█████▍    | 407/756 [1:04:43<58:16, 10.02s/it]  "
     ]
    },
    {
     "name": "stdout",
     "output_type": "stream",
     "text": [
      "epoch: 220 loss:0.339110 auc:0.9108\n",
      "Fit finished.\n",
      "epoch:   0 loss:0.789351 auc:0.4307\n",
      "epoch:  20 loss:0.403677 auc:0.9128\n",
      "epoch:  40 loss:0.378502 auc:0.9132\n",
      "epoch:  60 loss:0.373732 auc:0.9130\n",
      "epoch:  80 loss:0.372047 auc:0.9138\n",
      "epoch: 100 loss:0.371334 auc:0.9136\n",
      "epoch: 120 loss:0.370813 auc:0.9137\n",
      "epoch: 140 loss:0.370296 auc:0.9138\n",
      "epoch: 160 loss:0.369705 auc:0.9140\n",
      "epoch: 180 loss:0.368963 auc:0.9141\n",
      "epoch: 200 loss:0.367865 auc:0.9144\n",
      "epoch: 220 loss:0.365852 auc:0.9147\n",
      "epoch: 240 loss:0.361738 auc:0.9148\n",
      "epoch: 260 loss:0.356297 auc:0.9143\n"
     ]
    },
    {
     "name": "stderr",
     "output_type": "stream",
     "text": [
      " 54%|█████▍    | 408/756 [1:04:52<57:34,  9.93s/it]"
     ]
    },
    {
     "name": "stdout",
     "output_type": "stream",
     "text": [
      "epoch: 280 loss:0.351255 auc:0.9126\n",
      "Fit finished.\n",
      "epoch:   0 loss:0.733241 auc:0.4480\n",
      "epoch:  20 loss:0.391587 auc:0.8838\n",
      "epoch:  40 loss:0.374516 auc:0.8845\n",
      "epoch:  60 loss:0.371995 auc:0.8869\n",
      "epoch:  80 loss:0.370909 auc:0.8864\n",
      "epoch: 100 loss:0.369916 auc:0.8866\n",
      "epoch: 120 loss:0.368474 auc:0.8868\n",
      "epoch: 140 loss:0.365714 auc:0.8873\n",
      "epoch: 160 loss:0.360574 auc:0.8861\n",
      "epoch: 180 loss:0.354723 auc:0.8855\n",
      "epoch: 200 loss:0.349573 auc:0.8878\n",
      "epoch: 220 loss:0.341036 auc:0.8907\n"
     ]
    },
    {
     "name": "stderr",
     "output_type": "stream",
     "text": [
      " 54%|█████▍    | 409/756 [1:05:02<57:15,  9.90s/it]"
     ]
    },
    {
     "name": "stdout",
     "output_type": "stream",
     "text": [
      "epoch: 240 loss:0.337433 auc:0.8812\n",
      "Fit finished.\n",
      "epoch:   0 loss:0.803251 auc:0.3931\n",
      "epoch:  20 loss:0.390303 auc:0.7635\n",
      "epoch:  40 loss:0.376904 auc:0.7741\n",
      "epoch:  60 loss:0.372858 auc:0.7793\n",
      "epoch:  80 loss:0.371517 auc:0.7796\n",
      "epoch: 100 loss:0.370609 auc:0.7801\n",
      "epoch: 120 loss:0.369482 auc:0.7799\n",
      "epoch: 140 loss:0.367645 auc:0.7808\n",
      "epoch: 160 loss:0.363905 auc:0.7808\n",
      "epoch: 180 loss:0.358568 auc:0.7779\n",
      "epoch: 200 loss:0.354409 auc:0.7753\n"
     ]
    },
    {
     "name": "stderr",
     "output_type": "stream",
     "text": [
      " 54%|█████▍    | 410/756 [1:05:11<55:19,  9.59s/it]"
     ]
    },
    {
     "name": "stdout",
     "output_type": "stream",
     "text": [
      "epoch: 220 loss:0.350761 auc:0.7724\n",
      "Fit finished.\n",
      "epoch:   0 loss:0.844203 auc:0.4448\n",
      "epoch:  20 loss:0.393746 auc:0.9380\n",
      "epoch:  40 loss:0.375682 auc:0.9401\n",
      "epoch:  60 loss:0.372229 auc:0.9394\n",
      "epoch:  80 loss:0.370841 auc:0.9394\n",
      "epoch: 100 loss:0.369606 auc:0.9396\n",
      "epoch: 120 loss:0.367478 auc:0.9398\n",
      "epoch: 140 loss:0.362828 auc:0.9405\n",
      "epoch: 160 loss:0.358317 auc:0.9394\n"
     ]
    },
    {
     "name": "stderr",
     "output_type": "stream",
     "text": [
      " 54%|█████▍    | 411/756 [1:05:18<51:11,  8.90s/it]"
     ]
    },
    {
     "name": "stdout",
     "output_type": "stream",
     "text": [
      "epoch: 180 loss:0.350569 auc:0.9374\n",
      "Fit finished.\n",
      "epoch:   0 loss:0.830799 auc:0.4128\n",
      "epoch:  20 loss:0.397601 auc:0.9305\n",
      "epoch:  40 loss:0.376058 auc:0.9273\n",
      "epoch:  60 loss:0.372266 auc:0.9259\n",
      "epoch:  80 loss:0.370764 auc:0.9257\n",
      "epoch: 100 loss:0.369563 auc:0.9260\n",
      "epoch: 120 loss:0.367993 auc:0.9261\n",
      "epoch: 140 loss:0.365208 auc:0.9278\n",
      "epoch: 160 loss:0.360245 auc:0.9308\n",
      "epoch: 180 loss:0.353814 auc:0.9349\n",
      "epoch: 200 loss:0.347404 auc:0.9352\n",
      "epoch: 220 loss:0.336551 auc:0.9405\n",
      "epoch: 240 loss:0.330259 auc:0.9406\n",
      "epoch: 260 loss:0.320439 auc:0.9371\n",
      "epoch: 280 loss:0.325315 auc:0.9409\n",
      "epoch: 300 loss:0.308366 auc:0.9303\n"
     ]
    },
    {
     "name": "stderr",
     "output_type": "stream",
     "text": [
      " 54%|█████▍    | 412/756 [1:05:30<56:21,  9.83s/it]"
     ]
    },
    {
     "name": "stdout",
     "output_type": "stream",
     "text": [
      "epoch: 320 loss:0.299580 auc:0.9268\n",
      "Fit finished.\n",
      "epoch:   0 loss:0.795647 auc:0.4936\n",
      "epoch:  20 loss:0.403794 auc:0.9346\n",
      "epoch:  40 loss:0.376383 auc:0.9372\n",
      "epoch:  60 loss:0.372552 auc:0.9381\n",
      "epoch:  80 loss:0.371243 auc:0.9387\n",
      "epoch: 100 loss:0.370275 auc:0.9384\n",
      "epoch: 120 loss:0.369062 auc:0.9387\n",
      "epoch: 140 loss:0.366921 auc:0.9389\n",
      "epoch: 160 loss:0.362884 auc:0.9401\n",
      "epoch: 180 loss:0.358005 auc:0.9414\n",
      "epoch: 200 loss:0.352914 auc:0.9425\n",
      "epoch: 220 loss:0.347099 auc:0.9426\n"
     ]
    },
    {
     "name": "stderr",
     "output_type": "stream",
     "text": [
      " 55%|█████▍    | 413/756 [1:05:40<56:23,  9.86s/it]"
     ]
    },
    {
     "name": "stdout",
     "output_type": "stream",
     "text": [
      "epoch: 240 loss:0.337703 auc:0.9322\n",
      "Fit finished.\n",
      "epoch:   0 loss:0.827457 auc:0.4457\n",
      "epoch:  20 loss:0.388508 auc:0.9545\n",
      "epoch:  40 loss:0.375180 auc:0.9572\n",
      "epoch:  60 loss:0.371873 auc:0.9585\n",
      "epoch:  80 loss:0.370473 auc:0.9590\n",
      "epoch: 100 loss:0.369085 auc:0.9598\n",
      "epoch: 120 loss:0.366730 auc:0.9623\n",
      "epoch: 140 loss:0.361870 auc:0.9666\n",
      "epoch: 160 loss:0.355001 auc:0.9727\n",
      "epoch: 180 loss:0.350796 auc:0.9753\n",
      "epoch: 200 loss:0.341131 auc:0.9758\n",
      "epoch: 220 loss:0.330672 auc:0.9673\n"
     ]
    },
    {
     "name": "stderr",
     "output_type": "stream",
     "text": [
      " 55%|█████▍    | 414/756 [1:05:50<55:24,  9.72s/it]"
     ]
    },
    {
     "name": "stdout",
     "output_type": "stream",
     "text": [
      "epoch: 240 loss:0.322321 auc:0.9548\n",
      "Fit finished.\n",
      "epoch:   0 loss:0.842691 auc:0.4648\n",
      "epoch:  20 loss:0.407880 auc:0.9690\n",
      "epoch:  40 loss:0.380442 auc:0.9696\n",
      "epoch:  60 loss:0.373541 auc:0.9688\n",
      "epoch:  80 loss:0.371706 auc:0.9696\n",
      "epoch: 100 loss:0.370779 auc:0.9693\n",
      "epoch: 120 loss:0.369876 auc:0.9695\n",
      "epoch: 140 loss:0.368650 auc:0.9696\n",
      "epoch: 160 loss:0.366606 auc:0.9698\n",
      "epoch: 180 loss:0.363285 auc:0.9707\n",
      "epoch: 200 loss:0.359348 auc:0.9716\n",
      "epoch: 220 loss:0.354759 auc:0.9721\n",
      "epoch: 240 loss:0.349967 auc:0.9720\n"
     ]
    },
    {
     "name": "stderr",
     "output_type": "stream",
     "text": [
      " 55%|█████▍    | 415/756 [1:05:59<55:29,  9.76s/it]"
     ]
    },
    {
     "name": "stdout",
     "output_type": "stream",
     "text": [
      "epoch: 260 loss:0.340826 auc:0.9655\n",
      "Fit finished.\n",
      "epoch:   0 loss:0.855186 auc:0.4126\n",
      "epoch:  20 loss:0.404870 auc:0.9228\n",
      "epoch:  40 loss:0.378369 auc:0.9257\n",
      "epoch:  60 loss:0.373499 auc:0.9240\n",
      "epoch:  80 loss:0.371859 auc:0.9249\n",
      "epoch: 100 loss:0.371076 auc:0.9248\n",
      "epoch: 120 loss:0.370380 auc:0.9249\n",
      "epoch: 140 loss:0.369536 auc:0.9252\n",
      "epoch: 160 loss:0.368328 auc:0.9258\n",
      "epoch: 180 loss:0.366283 auc:0.9271\n",
      "epoch: 200 loss:0.362640 auc:0.9292\n",
      "epoch: 220 loss:0.357939 auc:0.9323\n",
      "epoch: 240 loss:0.353135 auc:0.9368\n",
      "epoch: 260 loss:0.347475 auc:0.9383\n",
      "epoch: 280 loss:0.341934 auc:0.9368\n",
      "epoch: 300 loss:0.334083 auc:0.9364\n"
     ]
    },
    {
     "name": "stderr",
     "output_type": "stream",
     "text": [
      " 55%|█████▌    | 416/756 [1:06:12<1:00:05, 10.61s/it]"
     ]
    },
    {
     "name": "stdout",
     "output_type": "stream",
     "text": [
      "epoch: 320 loss:0.330232 auc:0.9217\n",
      "Fit finished.\n",
      "epoch:   0 loss:0.810862 auc:0.3917\n",
      "epoch:  20 loss:0.393407 auc:0.9293\n",
      "epoch:  40 loss:0.376570 auc:0.9342\n",
      "epoch:  60 loss:0.372838 auc:0.9345\n",
      "epoch:  80 loss:0.371799 auc:0.9338\n",
      "epoch: 100 loss:0.371169 auc:0.9330\n",
      "epoch: 120 loss:0.370539 auc:0.9328\n",
      "epoch: 140 loss:0.369690 auc:0.9322\n",
      "epoch: 160 loss:0.368238 auc:0.9325\n",
      "epoch: 180 loss:0.365173 auc:0.9321\n"
     ]
    },
    {
     "name": "stderr",
     "output_type": "stream",
     "text": [
      " 55%|█████▌    | 417/756 [1:06:20<54:47,  9.70s/it]  "
     ]
    },
    {
     "name": "stdout",
     "output_type": "stream",
     "text": [
      "epoch: 200 loss:0.359576 auc:0.9309\n",
      "Fit finished.\n",
      "epoch:   0 loss:0.761261 auc:0.4773\n",
      "epoch:  20 loss:0.395381 auc:0.8899\n",
      "epoch:  40 loss:0.376317 auc:0.8976\n",
      "epoch:  60 loss:0.372743 auc:0.8971\n",
      "epoch:  80 loss:0.371538 auc:0.8976\n",
      "epoch: 100 loss:0.370735 auc:0.8976\n",
      "epoch: 120 loss:0.369816 auc:0.8975\n",
      "epoch: 140 loss:0.368425 auc:0.8977\n",
      "epoch: 160 loss:0.365797 auc:0.8972\n",
      "epoch: 180 loss:0.360948 auc:0.8956\n"
     ]
    },
    {
     "name": "stderr",
     "output_type": "stream",
     "text": [
      " 55%|█████▌    | 418/756 [1:06:27<51:23,  9.12s/it]"
     ]
    },
    {
     "name": "stdout",
     "output_type": "stream",
     "text": [
      "epoch: 200 loss:0.355507 auc:0.8928\n",
      "Fit finished.\n",
      "epoch:   0 loss:0.932801 auc:0.4847\n",
      "epoch:  20 loss:0.392779 auc:0.8893\n",
      "epoch:  40 loss:0.376464 auc:0.8969\n",
      "epoch:  60 loss:0.372849 auc:0.8978\n",
      "epoch:  80 loss:0.371792 auc:0.8991\n",
      "epoch: 100 loss:0.371145 auc:0.8992\n",
      "epoch: 120 loss:0.370444 auc:0.8998\n",
      "epoch: 140 loss:0.369402 auc:0.8998\n",
      "epoch: 160 loss:0.367507 auc:0.9006\n",
      "epoch: 180 loss:0.363708 auc:0.9015\n",
      "epoch: 200 loss:0.358611 auc:0.9037\n",
      "epoch: 220 loss:0.352950 auc:0.9067\n",
      "epoch: 240 loss:0.348341 auc:0.9120\n",
      "epoch: 260 loss:0.338154 auc:0.9194\n",
      "epoch: 280 loss:0.327476 auc:0.9225\n",
      "epoch: 300 loss:0.321426 auc:0.9192\n",
      "epoch: 320 loss:0.311416 auc:0.9185\n",
      "epoch: 340 loss:0.303912 auc:0.9176\n",
      "epoch: 360 loss:0.298885 auc:0.9107\n",
      "epoch: 380 loss:0.293671 auc:0.9174\n",
      "epoch: 400 loss:0.288025 auc:0.9179\n"
     ]
    },
    {
     "name": "stderr",
     "output_type": "stream",
     "text": [
      " 55%|█████▌    | 419/756 [1:06:42<1:00:54, 10.85s/it]"
     ]
    },
    {
     "name": "stdout",
     "output_type": "stream",
     "text": [
      "epoch: 420 loss:0.283093 auc:0.9172\n",
      "Fit finished.\n",
      "epoch:   0 loss:0.774806 auc:0.4777\n",
      "epoch:  20 loss:0.397551 auc:0.8998\n",
      "epoch:  40 loss:0.378773 auc:0.9042\n",
      "epoch:  60 loss:0.373434 auc:0.9040\n",
      "epoch:  80 loss:0.371888 auc:0.9037\n",
      "epoch: 100 loss:0.371098 auc:0.9032\n",
      "epoch: 120 loss:0.370380 auc:0.9034\n",
      "epoch: 140 loss:0.369429 auc:0.9030\n",
      "epoch: 160 loss:0.367853 auc:0.9029\n",
      "epoch: 180 loss:0.364781 auc:0.9027\n"
     ]
    },
    {
     "name": "stderr",
     "output_type": "stream",
     "text": [
      " 56%|█████▌    | 420/756 [1:06:51<57:36, 10.29s/it]  "
     ]
    },
    {
     "name": "stdout",
     "output_type": "stream",
     "text": [
      "epoch: 200 loss:0.359830 auc:0.9026\n",
      "Fit finished.\n",
      "epoch:   0 loss:0.988986 auc:0.6523\n",
      "epoch:  20 loss:0.420819 auc:0.9275\n",
      "epoch:  40 loss:0.383054 auc:0.9355\n",
      "epoch:  60 loss:0.374898 auc:0.9365\n",
      "epoch:  80 loss:0.372417 auc:0.9370\n",
      "epoch: 100 loss:0.371411 auc:0.9364\n",
      "epoch: 120 loss:0.370758 auc:0.9368\n",
      "epoch: 140 loss:0.370139 auc:0.9368\n",
      "epoch: 160 loss:0.369390 auc:0.9366\n",
      "epoch: 180 loss:0.368331 auc:0.9363\n",
      "epoch: 200 loss:0.366670 auc:0.9361\n"
     ]
    },
    {
     "name": "stderr",
     "output_type": "stream",
     "text": [
      " 56%|█████▌    | 421/756 [1:07:00<54:44,  9.80s/it]"
     ]
    },
    {
     "name": "stdout",
     "output_type": "stream",
     "text": [
      "epoch: 220 loss:0.364055 auc:0.9353\n",
      "Fit finished.\n",
      "epoch:   0 loss:0.699486 auc:0.6195\n",
      "epoch:  20 loss:0.393870 auc:0.9695\n",
      "epoch:  40 loss:0.375635 auc:0.9737\n",
      "epoch:  60 loss:0.372613 auc:0.9725\n",
      "epoch:  80 loss:0.371335 auc:0.9734\n",
      "epoch: 100 loss:0.370428 auc:0.9733\n",
      "epoch: 120 loss:0.369269 auc:0.9734\n",
      "epoch: 140 loss:0.367289 auc:0.9739\n",
      "epoch: 160 loss:0.363074 auc:0.9757\n",
      "epoch: 180 loss:0.356910 auc:0.9785\n",
      "epoch: 200 loss:0.350590 auc:0.9806\n",
      "epoch: 220 loss:0.345797 auc:0.9816\n",
      "epoch: 240 loss:0.338742 auc:0.9791\n"
     ]
    },
    {
     "name": "stderr",
     "output_type": "stream",
     "text": [
      " 56%|█████▌    | 422/756 [1:07:11<56:11, 10.09s/it]"
     ]
    },
    {
     "name": "stdout",
     "output_type": "stream",
     "text": [
      "epoch: 260 loss:0.326256 auc:0.9540\n",
      "Fit finished.\n",
      "epoch:   0 loss:0.824639 auc:0.5815\n",
      "epoch:  20 loss:0.390423 auc:0.9450\n",
      "epoch:  40 loss:0.377102 auc:0.9507\n",
      "epoch:  60 loss:0.372681 auc:0.9499\n",
      "epoch:  80 loss:0.371198 auc:0.9502\n",
      "epoch: 100 loss:0.370209 auc:0.9504\n",
      "epoch: 120 loss:0.368966 auc:0.9505\n",
      "epoch: 140 loss:0.366869 auc:0.9503\n",
      "epoch: 160 loss:0.363038 auc:0.9513\n",
      "epoch: 180 loss:0.358202 auc:0.9517\n",
      "epoch: 200 loss:0.353303 auc:0.9514\n",
      "epoch: 220 loss:0.348154 auc:0.9514\n"
     ]
    },
    {
     "name": "stderr",
     "output_type": "stream",
     "text": [
      " 56%|█████▌    | 423/756 [1:07:19<53:32,  9.65s/it]"
     ]
    },
    {
     "name": "stdout",
     "output_type": "stream",
     "text": [
      "epoch: 240 loss:0.340909 auc:0.9472\n",
      "Fit finished.\n",
      "epoch:   0 loss:0.754998 auc:0.5042\n",
      "epoch:  20 loss:0.400109 auc:0.9003\n",
      "epoch:  40 loss:0.376421 auc:0.9049\n",
      "epoch:  60 loss:0.372691 auc:0.9067\n",
      "epoch:  80 loss:0.371209 auc:0.9061\n",
      "epoch: 100 loss:0.370336 auc:0.9061\n",
      "epoch: 120 loss:0.369413 auc:0.9059\n",
      "epoch: 140 loss:0.368077 auc:0.9053\n",
      "epoch: 160 loss:0.365746 auc:0.9044\n",
      "epoch: 180 loss:0.361703 auc:0.9033\n"
     ]
    },
    {
     "name": "stderr",
     "output_type": "stream",
     "text": [
      " 56%|█████▌    | 424/756 [1:07:27<49:45,  8.99s/it]"
     ]
    },
    {
     "name": "stdout",
     "output_type": "stream",
     "text": [
      "epoch: 200 loss:0.356988 auc:0.9005\n",
      "Fit finished.\n",
      "epoch:   0 loss:0.711597 auc:0.6070\n",
      "epoch:  20 loss:0.402392 auc:0.9307\n",
      "epoch:  40 loss:0.377395 auc:0.9323\n",
      "epoch:  60 loss:0.372337 auc:0.9301\n",
      "epoch:  80 loss:0.370841 auc:0.9303\n",
      "epoch: 100 loss:0.369767 auc:0.9303\n",
      "epoch: 120 loss:0.368258 auc:0.9299\n",
      "epoch: 140 loss:0.365103 auc:0.9290\n",
      "epoch: 160 loss:0.359594 auc:0.9267\n"
     ]
    },
    {
     "name": "stderr",
     "output_type": "stream",
     "text": [
      " 56%|█████▌    | 425/756 [1:07:34<47:23,  8.59s/it]"
     ]
    },
    {
     "name": "stdout",
     "output_type": "stream",
     "text": [
      "epoch: 180 loss:0.354386 auc:0.9266\n",
      "Fit finished.\n",
      "epoch:   0 loss:0.710691 auc:0.5611\n",
      "epoch:  20 loss:0.387090 auc:0.7840\n",
      "epoch:  40 loss:0.373222 auc:0.7909\n",
      "epoch:  60 loss:0.370981 auc:0.7932\n",
      "epoch:  80 loss:0.369505 auc:0.7922\n",
      "epoch: 100 loss:0.367304 auc:0.7930\n",
      "epoch: 120 loss:0.362777 auc:0.7901\n",
      "epoch: 140 loss:0.356632 auc:0.7888\n",
      "epoch: 160 loss:0.353427 auc:0.7799\n"
     ]
    },
    {
     "name": "stderr",
     "output_type": "stream",
     "text": [
      " 56%|█████▋    | 426/756 [1:07:42<45:56,  8.35s/it]"
     ]
    },
    {
     "name": "stdout",
     "output_type": "stream",
     "text": [
      "epoch: 180 loss:0.342065 auc:0.7687\n",
      "Fit finished.\n",
      "epoch:   0 loss:0.791950 auc:0.5310\n",
      "epoch:  20 loss:0.385328 auc:0.8498\n",
      "epoch:  40 loss:0.375194 auc:0.8502\n",
      "epoch:  60 loss:0.371673 auc:0.8512\n",
      "epoch:  80 loss:0.370196 auc:0.8508\n",
      "epoch: 100 loss:0.368559 auc:0.8504\n",
      "epoch: 120 loss:0.365549 auc:0.8494\n",
      "epoch: 140 loss:0.359910 auc:0.8462\n",
      "epoch: 160 loss:0.354277 auc:0.8405\n"
     ]
    },
    {
     "name": "stderr",
     "output_type": "stream",
     "text": [
      " 56%|█████▋    | 427/756 [1:07:49<43:47,  7.99s/it]"
     ]
    },
    {
     "name": "stdout",
     "output_type": "stream",
     "text": [
      "epoch: 180 loss:0.347257 auc:0.8324\n",
      "Fit finished.\n",
      "epoch:   0 loss:0.751196 auc:0.5775\n",
      "epoch:  20 loss:0.408816 auc:0.8089\n",
      "epoch:  40 loss:0.376719 auc:0.8310\n",
      "epoch:  60 loss:0.372322 auc:0.8315\n",
      "epoch:  80 loss:0.370625 auc:0.8312\n",
      "epoch: 100 loss:0.369516 auc:0.8330\n",
      "epoch: 120 loss:0.368075 auc:0.8339\n",
      "epoch: 140 loss:0.365519 auc:0.8356\n",
      "epoch: 160 loss:0.361158 auc:0.8357\n",
      "epoch: 180 loss:0.356176 auc:0.8376\n",
      "epoch: 200 loss:0.351335 auc:0.8396\n",
      "epoch: 220 loss:0.345088 auc:0.8391\n",
      "epoch: 240 loss:0.336971 auc:0.8391\n",
      "epoch: 260 loss:0.329184 auc:0.8383\n",
      "epoch: 280 loss:0.321115 auc:0.8359\n",
      "epoch: 300 loss:0.312568 auc:0.8374\n",
      "epoch: 320 loss:0.305128 auc:0.8401\n",
      "epoch: 340 loss:0.312447 auc:0.8377\n",
      "epoch: 360 loss:0.298419 auc:0.8443\n",
      "epoch: 380 loss:0.292574 auc:0.8453\n",
      "epoch: 400 loss:0.288487 auc:0.8460\n",
      "epoch: 420 loss:0.285156 auc:0.8469\n",
      "epoch: 440 loss:0.282264 auc:0.8479\n",
      "epoch: 460 loss:0.279792 auc:0.8496\n",
      "epoch: 480 loss:0.278585 auc:0.8499\n",
      "epoch: 500 loss:0.275630 auc:0.8511\n",
      "epoch: 520 loss:0.274812 auc:0.8502\n",
      "epoch: 540 loss:0.272408 auc:0.8528\n",
      "epoch: 560 loss:0.271699 auc:0.8524\n",
      "epoch: 580 loss:0.270137 auc:0.8512\n",
      "epoch: 600 loss:0.268783 auc:0.8504\n",
      "epoch: 620 loss:0.267782 auc:0.8512\n",
      "epoch: 640 loss:0.267773 auc:0.8501\n"
     ]
    },
    {
     "name": "stderr",
     "output_type": "stream",
     "text": [
      " 57%|█████▋    | 428/756 [1:08:15<1:12:45, 13.31s/it]"
     ]
    },
    {
     "name": "stdout",
     "output_type": "stream",
     "text": [
      "epoch: 660 loss:0.266012 auc:0.8490\n",
      "Fit finished.\n",
      "epoch:   0 loss:0.907187 auc:0.5252\n",
      "epoch:  20 loss:0.397714 auc:0.8274\n",
      "epoch:  40 loss:0.377891 auc:0.8335\n",
      "epoch:  60 loss:0.373150 auc:0.8359\n",
      "epoch:  80 loss:0.371363 auc:0.8369\n",
      "epoch: 100 loss:0.370529 auc:0.8362\n",
      "epoch: 120 loss:0.369798 auc:0.8359\n",
      "epoch: 140 loss:0.368794 auc:0.8355\n",
      "epoch: 160 loss:0.366984 auc:0.8344\n",
      "epoch: 180 loss:0.363453 auc:0.8311\n"
     ]
    },
    {
     "name": "stderr",
     "output_type": "stream",
     "text": [
      " 57%|█████▋    | 429/756 [1:08:23<1:03:57, 11.74s/it]"
     ]
    },
    {
     "name": "stdout",
     "output_type": "stream",
     "text": [
      "epoch: 200 loss:0.358909 auc:0.8260\n",
      "Fit finished.\n",
      "epoch:   0 loss:0.924908 auc:0.2924\n",
      "epoch:  20 loss:0.395090 auc:0.9411\n",
      "epoch:  40 loss:0.377965 auc:0.9436\n",
      "epoch:  60 loss:0.373283 auc:0.9431\n",
      "epoch:  80 loss:0.371789 auc:0.9430\n",
      "epoch: 100 loss:0.370914 auc:0.9428\n",
      "epoch: 120 loss:0.370060 auc:0.9423\n",
      "epoch: 140 loss:0.368939 auc:0.9421\n",
      "epoch: 160 loss:0.367121 auc:0.9419\n"
     ]
    },
    {
     "name": "stderr",
     "output_type": "stream",
     "text": [
      " 57%|█████▋    | 430/756 [1:08:30<55:38, 10.24s/it]  "
     ]
    },
    {
     "name": "stdout",
     "output_type": "stream",
     "text": [
      "epoch: 180 loss:0.363901 auc:0.9409\n",
      "Fit finished.\n",
      "epoch:   0 loss:0.802601 auc:0.4375\n",
      "epoch:  20 loss:0.379788 auc:0.8767\n",
      "epoch:  40 loss:0.372184 auc:0.8794\n",
      "epoch:  60 loss:0.370441 auc:0.8779\n",
      "epoch:  80 loss:0.368647 auc:0.8780\n",
      "epoch: 100 loss:0.365165 auc:0.8767\n",
      "epoch: 120 loss:0.359366 auc:0.8740\n",
      "epoch: 140 loss:0.353081 auc:0.8699\n",
      "epoch: 160 loss:0.347048 auc:0.8686\n"
     ]
    },
    {
     "name": "stderr",
     "output_type": "stream",
     "text": [
      " 57%|█████▋    | 431/756 [1:08:37<50:21,  9.30s/it]"
     ]
    },
    {
     "name": "stdout",
     "output_type": "stream",
     "text": [
      "epoch: 180 loss:0.335447 auc:0.8751\n",
      "Fit finished.\n",
      "epoch:   0 loss:0.794575 auc:0.5206\n",
      "epoch:  20 loss:0.404197 auc:0.9304\n",
      "epoch:  40 loss:0.378513 auc:0.9331\n",
      "epoch:  60 loss:0.373847 auc:0.9322\n",
      "epoch:  80 loss:0.372105 auc:0.9323\n",
      "epoch: 100 loss:0.371217 auc:0.9321\n",
      "epoch: 120 loss:0.370436 auc:0.9320\n",
      "epoch: 140 loss:0.369479 auc:0.9318\n",
      "epoch: 160 loss:0.368028 auc:0.9314\n",
      "epoch: 180 loss:0.365505 auc:0.9310\n"
     ]
    },
    {
     "name": "stderr",
     "output_type": "stream",
     "text": [
      " 57%|█████▋    | 432/756 [1:08:45<47:54,  8.87s/it]"
     ]
    },
    {
     "name": "stdout",
     "output_type": "stream",
     "text": [
      "epoch: 200 loss:0.361625 auc:0.9305\n",
      "Fit finished.\n",
      "epoch:   0 loss:0.786609 auc:0.5000\n",
      "epoch:  20 loss:0.387820 auc:0.9182\n",
      "epoch:  40 loss:0.374582 auc:0.9226\n",
      "epoch:  60 loss:0.371973 auc:0.9203\n",
      "epoch:  80 loss:0.370525 auc:0.9209\n",
      "epoch: 100 loss:0.369027 auc:0.9206\n",
      "epoch: 120 loss:0.366482 auc:0.9204\n",
      "epoch: 140 loss:0.361425 auc:0.9193\n",
      "epoch: 160 loss:0.354487 auc:0.9191\n"
     ]
    },
    {
     "name": "stderr",
     "output_type": "stream",
     "text": [
      " 57%|█████▋    | 433/756 [1:08:51<43:42,  8.12s/it]"
     ]
    },
    {
     "name": "stdout",
     "output_type": "stream",
     "text": [
      "epoch: 180 loss:0.346033 auc:0.9154\n",
      "Fit finished.\n",
      "epoch:   0 loss:0.830785 auc:0.3103\n",
      "epoch:  20 loss:0.396433 auc:0.9164\n",
      "epoch:  40 loss:0.376011 auc:0.9204\n",
      "epoch:  60 loss:0.372491 auc:0.9212\n",
      "epoch:  80 loss:0.371069 auc:0.9209\n",
      "epoch: 100 loss:0.370073 auc:0.9201\n",
      "epoch: 120 loss:0.368814 auc:0.9201\n",
      "epoch: 140 loss:0.366694 auc:0.9182\n",
      "epoch: 160 loss:0.362852 auc:0.9170\n"
     ]
    },
    {
     "name": "stderr",
     "output_type": "stream",
     "text": [
      " 57%|█████▋    | 434/756 [1:08:58<41:29,  7.73s/it]"
     ]
    },
    {
     "name": "stdout",
     "output_type": "stream",
     "text": [
      "epoch: 180 loss:0.358283 auc:0.9145\n",
      "Fit finished.\n",
      "epoch:   0 loss:0.910558 auc:0.3118\n",
      "epoch:  20 loss:0.403058 auc:0.8510\n",
      "epoch:  40 loss:0.378215 auc:0.8680\n",
      "epoch:  60 loss:0.373513 auc:0.8711\n",
      "epoch:  80 loss:0.371684 auc:0.8715\n",
      "epoch: 100 loss:0.370726 auc:0.8721\n",
      "epoch: 120 loss:0.369791 auc:0.8715\n",
      "epoch: 140 loss:0.368449 auc:0.8709\n",
      "epoch: 160 loss:0.366114 auc:0.8704\n",
      "epoch: 180 loss:0.362101 auc:0.8692\n",
      "epoch: 200 loss:0.357269 auc:0.8693\n"
     ]
    },
    {
     "name": "stderr",
     "output_type": "stream",
     "text": [
      " 58%|█████▊    | 435/756 [1:09:07<43:17,  8.09s/it]"
     ]
    },
    {
     "name": "stdout",
     "output_type": "stream",
     "text": [
      "epoch: 220 loss:0.352424 auc:0.8685\n",
      "Fit finished.\n",
      "epoch:   0 loss:0.792915 auc:0.4701\n",
      "epoch:  20 loss:0.404002 auc:0.8916\n",
      "epoch:  40 loss:0.378042 auc:0.8980\n",
      "epoch:  60 loss:0.373681 auc:0.8995\n",
      "epoch:  80 loss:0.371973 auc:0.8995\n",
      "epoch: 100 loss:0.371164 auc:0.8995\n",
      "epoch: 120 loss:0.370458 auc:0.8994\n",
      "epoch: 140 loss:0.369610 auc:0.8991\n",
      "epoch: 160 loss:0.368318 auc:0.8983\n",
      "epoch: 180 loss:0.365986 auc:0.8973\n"
     ]
    },
    {
     "name": "stderr",
     "output_type": "stream",
     "text": [
      " 58%|█████▊    | 436/756 [1:09:15<42:27,  7.96s/it]"
     ]
    },
    {
     "name": "stdout",
     "output_type": "stream",
     "text": [
      "epoch: 200 loss:0.362082 auc:0.8948\n",
      "Fit finished.\n",
      "epoch:   0 loss:0.803878 auc:0.4382\n",
      "epoch:  20 loss:0.390725 auc:0.8952\n",
      "epoch:  40 loss:0.374608 auc:0.9044\n",
      "epoch:  60 loss:0.372022 auc:0.9034\n",
      "epoch:  80 loss:0.370801 auc:0.9038\n",
      "epoch: 100 loss:0.369839 auc:0.9029\n",
      "epoch: 120 loss:0.368562 auc:0.9023\n",
      "epoch: 140 loss:0.366175 auc:0.9007\n",
      "epoch: 160 loss:0.361298 auc:0.8965\n"
     ]
    },
    {
     "name": "stderr",
     "output_type": "stream",
     "text": [
      " 58%|█████▊    | 437/756 [1:09:21<40:14,  7.57s/it]"
     ]
    },
    {
     "name": "stdout",
     "output_type": "stream",
     "text": [
      "epoch: 180 loss:0.354859 auc:0.8897\n",
      "Fit finished.\n",
      "epoch:   0 loss:0.736061 auc:0.6525\n",
      "epoch:  20 loss:0.400085 auc:0.9232\n",
      "epoch:  40 loss:0.377612 auc:0.9316\n",
      "epoch:  60 loss:0.373053 auc:0.9324\n",
      "epoch:  80 loss:0.371463 auc:0.9314\n",
      "epoch: 100 loss:0.370505 auc:0.9316\n",
      "epoch: 120 loss:0.369328 auc:0.9315\n",
      "epoch: 140 loss:0.367257 auc:0.9317\n",
      "epoch: 160 loss:0.362841 auc:0.9316\n",
      "epoch: 180 loss:0.357054 auc:0.9310\n"
     ]
    },
    {
     "name": "stderr",
     "output_type": "stream",
     "text": [
      " 58%|█████▊    | 438/756 [1:09:29<40:48,  7.70s/it]"
     ]
    },
    {
     "name": "stdout",
     "output_type": "stream",
     "text": [
      "epoch: 200 loss:0.351159 auc:0.9313\n",
      "Fit finished.\n",
      "epoch:   0 loss:0.906939 auc:0.5731\n",
      "epoch:  20 loss:0.412451 auc:0.9376\n",
      "epoch:  40 loss:0.382185 auc:0.9458\n",
      "epoch:  60 loss:0.374222 auc:0.9479\n",
      "epoch:  80 loss:0.372371 auc:0.9483\n",
      "epoch: 100 loss:0.371540 auc:0.9481\n",
      "epoch: 120 loss:0.370935 auc:0.9481\n",
      "epoch: 140 loss:0.370314 auc:0.9482\n",
      "epoch: 160 loss:0.369544 auc:0.9482\n",
      "epoch: 180 loss:0.368448 auc:0.9482\n",
      "epoch: 200 loss:0.366673 auc:0.9488\n",
      "epoch: 220 loss:0.363650 auc:0.9493\n",
      "epoch: 240 loss:0.359650 auc:0.9506\n",
      "epoch: 260 loss:0.355258 auc:0.9502\n",
      "epoch: 280 loss:0.349664 auc:0.9499\n"
     ]
    },
    {
     "name": "stderr",
     "output_type": "stream",
     "text": [
      " 58%|█████▊    | 439/756 [1:09:41<46:19,  8.77s/it]"
     ]
    },
    {
     "name": "stdout",
     "output_type": "stream",
     "text": [
      "epoch: 300 loss:0.341289 auc:0.9478\n",
      "Fit finished.\n",
      "epoch:   0 loss:0.754710 auc:0.5614\n",
      "epoch:  20 loss:0.393061 auc:0.9443\n",
      "epoch:  40 loss:0.375938 auc:0.9453\n",
      "epoch:  60 loss:0.372411 auc:0.9460\n",
      "epoch:  80 loss:0.371124 auc:0.9461\n",
      "epoch: 100 loss:0.370186 auc:0.9460\n",
      "epoch: 120 loss:0.369036 auc:0.9460\n",
      "epoch: 140 loss:0.367169 auc:0.9460\n",
      "epoch: 160 loss:0.363658 auc:0.9456\n",
      "epoch: 180 loss:0.358740 auc:0.9448\n"
     ]
    },
    {
     "name": "stderr",
     "output_type": "stream",
     "text": [
      " 58%|█████▊    | 440/756 [1:09:49<45:32,  8.65s/it]"
     ]
    },
    {
     "name": "stdout",
     "output_type": "stream",
     "text": [
      "epoch: 200 loss:0.353367 auc:0.9437\n",
      "Fit finished.\n",
      "epoch:   0 loss:0.773098 auc:0.4349\n",
      "epoch:  20 loss:0.399902 auc:0.8670\n",
      "epoch:  40 loss:0.378757 auc:0.8765\n",
      "epoch:  60 loss:0.373006 auc:0.8772\n",
      "epoch:  80 loss:0.371202 auc:0.8777\n",
      "epoch: 100 loss:0.370138 auc:0.8770\n",
      "epoch: 120 loss:0.368902 auc:0.8767\n",
      "epoch: 140 loss:0.366853 auc:0.8754\n",
      "epoch: 160 loss:0.362899 auc:0.8722\n",
      "epoch: 180 loss:0.357648 auc:0.8677\n"
     ]
    },
    {
     "name": "stderr",
     "output_type": "stream",
     "text": [
      " 58%|█████▊    | 441/756 [1:09:58<46:00,  8.76s/it]"
     ]
    },
    {
     "name": "stdout",
     "output_type": "stream",
     "text": [
      "epoch: 200 loss:0.351898 auc:0.8614\n",
      "Fit finished.\n",
      "epoch:   0 loss:1.079486 auc:0.6192\n",
      "epoch:  20 loss:0.403776 auc:0.8947\n",
      "epoch:  40 loss:0.381838 auc:0.8999\n",
      "epoch:  60 loss:0.374871 auc:0.8997\n",
      "epoch:  80 loss:0.372740 auc:0.9000\n",
      "epoch: 100 loss:0.371848 auc:0.9003\n",
      "epoch: 120 loss:0.371295 auc:0.9004\n",
      "epoch: 140 loss:0.370812 auc:0.9004\n",
      "epoch: 160 loss:0.370283 auc:0.9005\n",
      "epoch: 180 loss:0.369604 auc:0.9006\n",
      "epoch: 200 loss:0.368598 auc:0.9005\n",
      "epoch: 220 loss:0.366915 auc:0.9003\n"
     ]
    },
    {
     "name": "stderr",
     "output_type": "stream",
     "text": [
      " 58%|█████▊    | 442/756 [1:10:07<46:13,  8.83s/it]"
     ]
    },
    {
     "name": "stdout",
     "output_type": "stream",
     "text": [
      "epoch: 240 loss:0.364039 auc:0.8994\n",
      "Fit finished.\n",
      "epoch:   0 loss:0.802829 auc:0.5244\n",
      "epoch:  20 loss:0.394086 auc:0.8296\n",
      "epoch:  40 loss:0.376952 auc:0.8331\n",
      "epoch:  60 loss:0.372289 auc:0.8348\n",
      "epoch:  80 loss:0.370736 auc:0.8345\n",
      "epoch: 100 loss:0.369597 auc:0.8349\n",
      "epoch: 120 loss:0.368119 auc:0.8343\n",
      "epoch: 140 loss:0.365509 auc:0.8324\n",
      "epoch: 160 loss:0.360952 auc:0.8290\n"
     ]
    },
    {
     "name": "stderr",
     "output_type": "stream",
     "text": [
      " 59%|█████▊    | 443/756 [1:10:14<43:12,  8.28s/it]"
     ]
    },
    {
     "name": "stdout",
     "output_type": "stream",
     "text": [
      "epoch: 180 loss:0.355454 auc:0.8230\n",
      "Fit finished.\n",
      "epoch:   0 loss:0.941859 auc:0.4898\n",
      "epoch:  20 loss:0.410999 auc:0.9007\n",
      "epoch:  40 loss:0.381131 auc:0.9073\n",
      "epoch:  60 loss:0.374283 auc:0.9083\n",
      "epoch:  80 loss:0.372209 auc:0.9077\n",
      "epoch: 100 loss:0.371436 auc:0.9084\n",
      "epoch: 120 loss:0.370889 auc:0.9088\n",
      "epoch: 140 loss:0.370302 auc:0.9088\n",
      "epoch: 160 loss:0.369521 auc:0.9087\n",
      "epoch: 180 loss:0.368319 auc:0.9090\n",
      "epoch: 200 loss:0.366270 auc:0.9082\n"
     ]
    },
    {
     "name": "stderr",
     "output_type": "stream",
     "text": [
      " 59%|█████▊    | 444/756 [1:10:23<44:06,  8.48s/it]"
     ]
    },
    {
     "name": "stdout",
     "output_type": "stream",
     "text": [
      "epoch: 220 loss:0.362921 auc:0.9069\n",
      "Fit finished.\n",
      "epoch:   0 loss:0.840335 auc:0.3903\n",
      "epoch:  20 loss:0.399979 auc:0.9075\n",
      "epoch:  40 loss:0.377887 auc:0.9140\n",
      "epoch:  60 loss:0.373469 auc:0.9152\n",
      "epoch:  80 loss:0.371921 auc:0.9153\n",
      "epoch: 100 loss:0.371198 auc:0.9152\n",
      "epoch: 120 loss:0.370594 auc:0.9150\n",
      "epoch: 140 loss:0.369885 auc:0.9150\n",
      "epoch: 160 loss:0.368815 auc:0.9149\n",
      "epoch: 180 loss:0.366814 auc:0.9145\n"
     ]
    },
    {
     "name": "stderr",
     "output_type": "stream",
     "text": [
      " 59%|█████▉    | 445/756 [1:10:32<44:23,  8.57s/it]"
     ]
    },
    {
     "name": "stdout",
     "output_type": "stream",
     "text": [
      "epoch: 200 loss:0.363078 auc:0.9138\n",
      "Fit finished.\n",
      "epoch:   0 loss:0.700893 auc:0.5656\n",
      "epoch:  20 loss:0.388137 auc:0.8988\n",
      "epoch:  40 loss:0.375229 auc:0.9017\n",
      "epoch:  60 loss:0.372380 auc:0.9014\n",
      "epoch:  80 loss:0.371279 auc:0.9014\n",
      "epoch: 100 loss:0.370391 auc:0.9016\n",
      "epoch: 120 loss:0.369185 auc:0.9019\n",
      "epoch: 140 loss:0.367050 auc:0.9026\n",
      "epoch: 160 loss:0.363054 auc:0.9021\n",
      "epoch: 180 loss:0.357778 auc:0.9006\n"
     ]
    },
    {
     "name": "stderr",
     "output_type": "stream",
     "text": [
      " 59%|█████▉    | 446/756 [1:10:39<42:32,  8.23s/it]"
     ]
    },
    {
     "name": "stdout",
     "output_type": "stream",
     "text": [
      "epoch: 200 loss:0.352002 auc:0.8952\n",
      "Fit finished.\n",
      "epoch:   0 loss:0.762263 auc:0.4948\n",
      "epoch:  20 loss:0.379174 auc:0.9225\n",
      "epoch:  40 loss:0.372923 auc:0.9199\n",
      "epoch:  60 loss:0.370880 auc:0.9200\n",
      "epoch:  80 loss:0.369372 auc:0.9204\n",
      "epoch: 100 loss:0.366799 auc:0.9211\n",
      "epoch: 120 loss:0.361537 auc:0.9212\n",
      "epoch: 140 loss:0.354973 auc:0.9190\n",
      "epoch: 160 loss:0.350066 auc:0.9155\n"
     ]
    },
    {
     "name": "stderr",
     "output_type": "stream",
     "text": [
      " 59%|█████▉    | 447/756 [1:10:46<40:14,  7.81s/it]"
     ]
    },
    {
     "name": "stdout",
     "output_type": "stream",
     "text": [
      "epoch: 180 loss:0.339422 auc:0.9117\n",
      "Fit finished.\n",
      "epoch:   0 loss:0.729864 auc:0.4971\n",
      "epoch:  20 loss:0.388279 auc:0.9312\n",
      "epoch:  40 loss:0.373129 auc:0.9304\n",
      "epoch:  60 loss:0.370571 auc:0.9314\n",
      "epoch:  80 loss:0.368275 auc:0.9310\n",
      "epoch: 100 loss:0.364101 auc:0.9308\n",
      "epoch: 120 loss:0.357477 auc:0.9254\n",
      "epoch: 140 loss:0.349771 auc:0.9161\n",
      "epoch: 160 loss:0.340804 auc:0.9061\n"
     ]
    },
    {
     "name": "stderr",
     "output_type": "stream",
     "text": [
      " 59%|█████▉    | 448/756 [1:10:53<38:56,  7.59s/it]"
     ]
    },
    {
     "name": "stdout",
     "output_type": "stream",
     "text": [
      "epoch: 180 loss:0.328972 auc:0.9004\n",
      "Fit finished.\n",
      "epoch:   0 loss:0.676953 auc:0.6705\n",
      "epoch:  20 loss:0.379702 auc:0.9351\n",
      "epoch:  40 loss:0.373560 auc:0.9351\n",
      "epoch:  60 loss:0.371166 auc:0.9362\n",
      "epoch:  80 loss:0.369694 auc:0.9366\n",
      "epoch: 100 loss:0.367175 auc:0.9356\n",
      "epoch: 120 loss:0.361584 auc:0.9339\n",
      "epoch: 140 loss:0.353588 auc:0.9319\n",
      "epoch: 160 loss:0.344389 auc:0.9270\n"
     ]
    },
    {
     "name": "stderr",
     "output_type": "stream",
     "text": [
      " 59%|█████▉    | 449/756 [1:11:01<39:18,  7.68s/it]"
     ]
    },
    {
     "name": "stdout",
     "output_type": "stream",
     "text": [
      "epoch: 180 loss:0.333808 auc:0.9129\n",
      "Fit finished.\n",
      "epoch:   0 loss:0.751013 auc:0.6300\n",
      "epoch:  20 loss:0.389688 auc:0.9369\n",
      "epoch:  40 loss:0.375190 auc:0.9351\n",
      "epoch:  60 loss:0.372143 auc:0.9359\n",
      "epoch:  80 loss:0.370609 auc:0.9362\n",
      "epoch: 100 loss:0.368845 auc:0.9360\n",
      "epoch: 120 loss:0.365651 auc:0.9365\n",
      "epoch: 140 loss:0.360560 auc:0.9353\n",
      "epoch: 160 loss:0.354859 auc:0.9322\n"
     ]
    },
    {
     "name": "stderr",
     "output_type": "stream",
     "text": [
      " 60%|█████▉    | 450/756 [1:11:08<38:54,  7.63s/it]"
     ]
    },
    {
     "name": "stdout",
     "output_type": "stream",
     "text": [
      "epoch: 180 loss:0.348262 auc:0.9284\n",
      "Fit finished.\n",
      "epoch:   0 loss:0.842609 auc:0.5189\n",
      "epoch:  20 loss:0.431015 auc:0.8896\n",
      "epoch:  40 loss:0.384710 auc:0.8922\n",
      "epoch:  60 loss:0.374545 auc:0.8913\n",
      "epoch:  80 loss:0.372128 auc:0.8919\n",
      "epoch: 100 loss:0.371135 auc:0.8913\n",
      "epoch: 120 loss:0.370398 auc:0.8913\n",
      "epoch: 140 loss:0.369575 auc:0.8911\n",
      "epoch: 160 loss:0.368423 auc:0.8905\n"
     ]
    },
    {
     "name": "stderr",
     "output_type": "stream",
     "text": [
      " 60%|█████▉    | 451/756 [1:11:15<36:43,  7.23s/it]"
     ]
    },
    {
     "name": "stdout",
     "output_type": "stream",
     "text": [
      "epoch: 180 loss:0.366518 auc:0.8891\n",
      "Fit finished.\n",
      "epoch:   0 loss:0.795640 auc:0.4240\n",
      "epoch:  20 loss:0.392391 auc:0.8898\n",
      "epoch:  40 loss:0.376165 auc:0.8957\n",
      "epoch:  60 loss:0.372655 auc:0.8975\n",
      "epoch:  80 loss:0.371499 auc:0.8968\n",
      "epoch: 100 loss:0.370772 auc:0.8969\n",
      "epoch: 120 loss:0.369927 auc:0.8972\n",
      "epoch: 140 loss:0.368514 auc:0.8970\n",
      "epoch: 160 loss:0.365440 auc:0.8963\n",
      "epoch: 180 loss:0.359658 auc:0.8952\n"
     ]
    },
    {
     "name": "stderr",
     "output_type": "stream",
     "text": [
      " 60%|█████▉    | 452/756 [1:11:23<38:53,  7.68s/it]"
     ]
    },
    {
     "name": "stdout",
     "output_type": "stream",
     "text": [
      "epoch: 200 loss:0.353884 auc:0.8942\n",
      "Fit finished.\n",
      "epoch:   0 loss:0.725214 auc:0.5002\n",
      "epoch:  20 loss:0.394704 auc:0.9216\n",
      "epoch:  40 loss:0.376031 auc:0.9226\n",
      "epoch:  60 loss:0.372024 auc:0.9247\n",
      "epoch:  80 loss:0.370703 auc:0.9234\n",
      "epoch: 100 loss:0.369511 auc:0.9231\n",
      "epoch: 120 loss:0.367562 auc:0.9221\n",
      "epoch: 140 loss:0.363347 auc:0.9203\n",
      "epoch: 160 loss:0.357086 auc:0.9153\n"
     ]
    },
    {
     "name": "stderr",
     "output_type": "stream",
     "text": [
      " 60%|█████▉    | 453/756 [1:11:30<37:14,  7.37s/it]"
     ]
    },
    {
     "name": "stdout",
     "output_type": "stream",
     "text": [
      "epoch: 180 loss:0.349851 auc:0.9089\n",
      "Fit finished.\n",
      "epoch:   0 loss:0.822036 auc:0.6547\n",
      "epoch:  20 loss:0.394500 auc:0.9113\n",
      "epoch:  40 loss:0.377392 auc:0.9130\n",
      "epoch:  60 loss:0.373070 auc:0.9135\n",
      "epoch:  80 loss:0.371536 auc:0.9128\n",
      "epoch: 100 loss:0.370760 auc:0.9128\n",
      "epoch: 120 loss:0.370054 auc:0.9126\n",
      "epoch: 140 loss:0.369175 auc:0.9122\n",
      "epoch: 160 loss:0.367803 auc:0.9121\n",
      "epoch: 180 loss:0.365374 auc:0.9119\n"
     ]
    },
    {
     "name": "stderr",
     "output_type": "stream",
     "text": [
      " 60%|██████    | 454/756 [1:11:38<37:37,  7.47s/it]"
     ]
    },
    {
     "name": "stdout",
     "output_type": "stream",
     "text": [
      "epoch: 200 loss:0.361584 auc:0.9114\n",
      "Fit finished.\n",
      "epoch:   0 loss:0.817741 auc:0.3474\n",
      "epoch:  20 loss:0.393075 auc:0.8911\n",
      "epoch:  40 loss:0.377641 auc:0.9005\n",
      "epoch:  60 loss:0.373059 auc:0.9031\n",
      "epoch:  80 loss:0.371818 auc:0.9027\n",
      "epoch: 100 loss:0.371136 auc:0.9026\n",
      "epoch: 120 loss:0.370526 auc:0.9028\n",
      "epoch: 140 loss:0.369759 auc:0.9028\n",
      "epoch: 160 loss:0.368542 auc:0.9036\n",
      "epoch: 180 loss:0.366194 auc:0.9041\n",
      "epoch: 200 loss:0.361750 auc:0.9047\n",
      "epoch: 220 loss:0.356562 auc:0.9054\n",
      "epoch: 240 loss:0.355219 auc:0.9066\n",
      "epoch: 260 loss:0.347311 auc:0.9084\n",
      "epoch: 280 loss:0.338606 auc:0.9088\n"
     ]
    },
    {
     "name": "stderr",
     "output_type": "stream",
     "text": [
      " 60%|██████    | 455/756 [1:11:50<45:14,  9.02s/it]"
     ]
    },
    {
     "name": "stdout",
     "output_type": "stream",
     "text": [
      "epoch: 300 loss:0.329657 auc:0.9024\n",
      "Fit finished.\n",
      "epoch:   0 loss:0.770369 auc:0.4781\n",
      "epoch:  20 loss:0.394871 auc:0.8865\n",
      "epoch:  40 loss:0.377091 auc:0.8923\n",
      "epoch:  60 loss:0.372612 auc:0.8925\n",
      "epoch:  80 loss:0.371045 auc:0.8912\n",
      "epoch: 100 loss:0.369928 auc:0.8915\n",
      "epoch: 120 loss:0.368490 auc:0.8914\n",
      "epoch: 140 loss:0.365983 auc:0.8901\n",
      "epoch: 160 loss:0.361857 auc:0.8858\n"
     ]
    },
    {
     "name": "stderr",
     "output_type": "stream",
     "text": [
      " 60%|██████    | 456/756 [1:11:58<42:23,  8.48s/it]"
     ]
    },
    {
     "name": "stdout",
     "output_type": "stream",
     "text": [
      "epoch: 180 loss:0.357483 auc:0.8800\n",
      "Fit finished.\n",
      "epoch:   0 loss:0.784364 auc:0.5172\n",
      "epoch:  20 loss:0.395246 auc:0.8413\n",
      "epoch:  40 loss:0.375729 auc:0.8955\n",
      "epoch:  60 loss:0.371843 auc:0.8955\n",
      "epoch:  80 loss:0.370523 auc:0.8955\n",
      "epoch: 100 loss:0.369313 auc:0.8955\n",
      "epoch: 120 loss:0.367446 auc:0.8981\n",
      "epoch: 140 loss:0.363723 auc:0.8968\n",
      "epoch: 160 loss:0.358198 auc:0.9008\n",
      "epoch: 180 loss:0.352437 auc:0.9061\n",
      "epoch: 200 loss:0.346537 auc:0.9101\n",
      "epoch: 220 loss:0.337816 auc:0.9220\n",
      "epoch: 240 loss:0.329570 auc:0.9259\n",
      "epoch: 260 loss:0.320686 auc:0.9286\n",
      "epoch: 280 loss:0.310404 auc:0.9101\n",
      "epoch: 300 loss:0.302268 auc:0.8981\n"
     ]
    },
    {
     "name": "stderr",
     "output_type": "stream",
     "text": [
      " 60%|██████    | 457/756 [1:12:10<48:44,  9.78s/it]"
     ]
    },
    {
     "name": "stdout",
     "output_type": "stream",
     "text": [
      "epoch: 320 loss:0.295409 auc:0.8902\n",
      "Fit finished.\n",
      "epoch:   0 loss:0.725606 auc:0.5892\n",
      "epoch:  20 loss:0.395561 auc:0.8642\n",
      "epoch:  40 loss:0.376695 auc:0.8664\n",
      "epoch:  60 loss:0.372386 auc:0.8682\n",
      "epoch:  80 loss:0.370807 auc:0.8674\n",
      "epoch: 100 loss:0.369816 auc:0.8673\n",
      "epoch: 120 loss:0.368674 auc:0.8671\n",
      "epoch: 140 loss:0.366857 auc:0.8662\n",
      "epoch: 160 loss:0.363611 auc:0.8644\n"
     ]
    },
    {
     "name": "stderr",
     "output_type": "stream",
     "text": [
      " 61%|██████    | 458/756 [1:12:18<45:04,  9.08s/it]"
     ]
    },
    {
     "name": "stdout",
     "output_type": "stream",
     "text": [
      "epoch: 180 loss:0.359169 auc:0.8619\n",
      "Fit finished.\n",
      "epoch:   0 loss:0.727740 auc:0.4233\n",
      "epoch:  20 loss:0.395806 auc:0.9315\n",
      "epoch:  40 loss:0.376008 auc:0.9347\n",
      "epoch:  60 loss:0.372420 auc:0.9345\n",
      "epoch:  80 loss:0.371106 auc:0.9351\n",
      "epoch: 100 loss:0.370001 auc:0.9354\n",
      "epoch: 120 loss:0.368384 auc:0.9354\n",
      "epoch: 140 loss:0.365196 auc:0.9360\n",
      "epoch: 160 loss:0.359906 auc:0.9376\n",
      "epoch: 180 loss:0.354073 auc:0.9390\n",
      "epoch: 200 loss:0.349573 auc:0.9366\n"
     ]
    },
    {
     "name": "stderr",
     "output_type": "stream",
     "text": [
      " 61%|██████    | 459/756 [1:12:26<43:57,  8.88s/it]"
     ]
    },
    {
     "name": "stdout",
     "output_type": "stream",
     "text": [
      "epoch: 220 loss:0.340454 auc:0.9313\n",
      "Fit finished.\n",
      "epoch:   0 loss:0.817984 auc:0.4101\n",
      "epoch:  20 loss:0.397339 auc:0.9534\n",
      "epoch:  40 loss:0.378429 auc:0.9591\n",
      "epoch:  60 loss:0.373122 auc:0.9608\n",
      "epoch:  80 loss:0.371299 auc:0.9609\n",
      "epoch: 100 loss:0.370177 auc:0.9610\n",
      "epoch: 120 loss:0.368872 auc:0.9615\n",
      "epoch: 140 loss:0.366771 auc:0.9613\n",
      "epoch: 160 loss:0.362686 auc:0.9612\n",
      "epoch: 180 loss:0.357145 auc:0.9612\n",
      "epoch: 200 loss:0.350576 auc:0.9600\n"
     ]
    },
    {
     "name": "stderr",
     "output_type": "stream",
     "text": [
      " 61%|██████    | 460/756 [1:12:35<43:54,  8.90s/it]"
     ]
    },
    {
     "name": "stdout",
     "output_type": "stream",
     "text": [
      "epoch: 220 loss:0.341276 auc:0.9563\n",
      "Fit finished.\n",
      "epoch:   0 loss:0.814373 auc:0.4561\n",
      "epoch:  20 loss:0.395827 auc:0.8885\n",
      "epoch:  40 loss:0.376898 auc:0.8888\n",
      "epoch:  60 loss:0.372534 auc:0.8894\n",
      "epoch:  80 loss:0.371167 auc:0.8886\n",
      "epoch: 100 loss:0.370165 auc:0.8892\n",
      "epoch: 120 loss:0.368711 auc:0.8897\n",
      "epoch: 140 loss:0.365829 auc:0.8902\n",
      "epoch: 160 loss:0.360756 auc:0.8918\n",
      "epoch: 180 loss:0.355547 auc:0.8901\n"
     ]
    },
    {
     "name": "stderr",
     "output_type": "stream",
     "text": [
      " 61%|██████    | 461/756 [1:12:44<43:36,  8.87s/it]"
     ]
    },
    {
     "name": "stdout",
     "output_type": "stream",
     "text": [
      "epoch: 200 loss:0.349551 auc:0.8887\n",
      "Fit finished.\n",
      "epoch:   0 loss:1.111596 auc:0.5931\n",
      "epoch:  20 loss:0.410420 auc:0.9102\n",
      "epoch:  40 loss:0.378564 auc:0.9179\n",
      "epoch:  60 loss:0.373406 auc:0.9199\n",
      "epoch:  80 loss:0.371670 auc:0.9201\n",
      "epoch: 100 loss:0.370787 auc:0.9205\n",
      "epoch: 120 loss:0.369974 auc:0.9204\n",
      "epoch: 140 loss:0.368980 auc:0.9203\n",
      "epoch: 160 loss:0.367461 auc:0.9202\n",
      "epoch: 180 loss:0.364770 auc:0.9190\n"
     ]
    },
    {
     "name": "stderr",
     "output_type": "stream",
     "text": [
      " 61%|██████    | 462/756 [1:12:52<42:06,  8.59s/it]"
     ]
    },
    {
     "name": "stdout",
     "output_type": "stream",
     "text": [
      "epoch: 200 loss:0.360645 auc:0.9171\n",
      "Fit finished.\n",
      "epoch:   0 loss:0.706406 auc:0.6263\n",
      "epoch:  20 loss:0.404418 auc:0.8760\n",
      "epoch:  40 loss:0.377872 auc:0.8775\n",
      "epoch:  60 loss:0.373149 auc:0.8759\n",
      "epoch:  80 loss:0.371615 auc:0.8746\n",
      "epoch: 100 loss:0.370774 auc:0.8748\n",
      "epoch: 120 loss:0.369920 auc:0.8743\n",
      "epoch: 140 loss:0.368617 auc:0.8739\n",
      "epoch: 160 loss:0.366031 auc:0.8732\n"
     ]
    },
    {
     "name": "stderr",
     "output_type": "stream",
     "text": [
      " 61%|██████    | 463/756 [1:13:00<40:38,  8.32s/it]"
     ]
    },
    {
     "name": "stdout",
     "output_type": "stream",
     "text": [
      "epoch: 180 loss:0.361236 auc:0.8705\n",
      "Fit finished.\n",
      "epoch:   0 loss:0.793099 auc:0.5551\n",
      "epoch:  20 loss:0.382273 auc:0.9438\n",
      "epoch:  40 loss:0.373033 auc:0.9457\n",
      "epoch:  60 loss:0.371299 auc:0.9459\n",
      "epoch:  80 loss:0.369900 auc:0.9457\n",
      "epoch: 100 loss:0.367450 auc:0.9456\n",
      "epoch: 120 loss:0.361761 auc:0.9431\n",
      "epoch: 140 loss:0.357387 auc:0.9393\n",
      "epoch: 160 loss:0.349114 auc:0.9376\n"
     ]
    },
    {
     "name": "stderr",
     "output_type": "stream",
     "text": [
      " 61%|██████▏   | 464/756 [1:13:06<37:14,  7.65s/it]"
     ]
    },
    {
     "name": "stdout",
     "output_type": "stream",
     "text": [
      "epoch: 180 loss:0.342117 auc:0.9282\n",
      "Fit finished.\n",
      "epoch:   0 loss:0.739074 auc:0.5397\n",
      "epoch:  20 loss:0.389557 auc:0.9338\n",
      "epoch:  40 loss:0.376167 auc:0.9366\n",
      "epoch:  60 loss:0.372919 auc:0.9394\n",
      "epoch:  80 loss:0.371533 auc:0.9411\n",
      "epoch: 100 loss:0.370623 auc:0.9417\n",
      "epoch: 120 loss:0.369585 auc:0.9409\n",
      "epoch: 140 loss:0.367992 auc:0.9408\n",
      "epoch: 160 loss:0.365057 auc:0.9423\n",
      "epoch: 180 loss:0.360303 auc:0.9420\n",
      "epoch: 200 loss:0.355271 auc:0.9423\n",
      "epoch: 220 loss:0.350577 auc:0.9419\n"
     ]
    },
    {
     "name": "stderr",
     "output_type": "stream",
     "text": [
      " 62%|██████▏   | 465/756 [1:13:12<35:38,  7.35s/it]"
     ]
    },
    {
     "name": "stdout",
     "output_type": "stream",
     "text": [
      "epoch: 240 loss:0.342567 auc:0.9403\n",
      "Fit finished.\n",
      "epoch:   0 loss:0.709787 auc:0.5564\n",
      "epoch:  20 loss:0.394532 auc:0.8439\n",
      "epoch:  40 loss:0.376132 auc:0.8408\n",
      "epoch:  60 loss:0.372648 auc:0.8423\n",
      "epoch:  80 loss:0.371191 auc:0.8424\n",
      "epoch: 100 loss:0.370126 auc:0.8424\n",
      "epoch: 120 loss:0.368787 auc:0.8419\n",
      "epoch: 140 loss:0.366347 auc:0.8418\n",
      "epoch: 160 loss:0.361930 auc:0.8387\n"
     ]
    },
    {
     "name": "stderr",
     "output_type": "stream",
     "text": [
      " 62%|██████▏   | 466/756 [1:13:17<32:00,  6.62s/it]"
     ]
    },
    {
     "name": "stdout",
     "output_type": "stream",
     "text": [
      "epoch: 180 loss:0.356753 auc:0.8349\n",
      "Fit finished.\n",
      "epoch:   0 loss:0.790676 auc:0.4264\n",
      "epoch:  20 loss:0.398629 auc:0.9002\n",
      "epoch:  40 loss:0.376497 auc:0.9049\n",
      "epoch:  60 loss:0.372306 auc:0.9059\n",
      "epoch:  80 loss:0.370662 auc:0.9064\n",
      "epoch: 100 loss:0.369469 auc:0.9069\n",
      "epoch: 120 loss:0.367879 auc:0.9071\n",
      "epoch: 140 loss:0.365039 auc:0.9067\n",
      "epoch: 160 loss:0.359833 auc:0.9050\n",
      "epoch: 180 loss:0.353771 auc:0.9044\n",
      "epoch: 200 loss:0.347004 auc:0.9053\n",
      "epoch: 220 loss:0.338837 auc:0.9090\n",
      "epoch: 240 loss:0.330267 auc:0.9169\n",
      "epoch: 260 loss:0.321674 auc:0.9138\n",
      "epoch: 280 loss:0.313421 auc:0.9100\n"
     ]
    },
    {
     "name": "stderr",
     "output_type": "stream",
     "text": [
      " 62%|██████▏   | 467/756 [1:13:26<34:37,  7.19s/it]"
     ]
    },
    {
     "name": "stdout",
     "output_type": "stream",
     "text": [
      "epoch: 300 loss:0.307970 auc:0.9060\n",
      "Fit finished.\n",
      "epoch:   0 loss:0.667639 auc:0.6847\n",
      "epoch:  20 loss:0.389730 auc:0.8495\n",
      "epoch:  40 loss:0.374983 auc:0.8508\n",
      "epoch:  60 loss:0.372280 auc:0.8516\n",
      "epoch:  80 loss:0.370882 auc:0.8516\n",
      "epoch: 100 loss:0.369628 auc:0.8515\n",
      "epoch: 120 loss:0.367703 auc:0.8513\n",
      "epoch: 140 loss:0.363884 auc:0.8520\n",
      "epoch: 160 loss:0.358247 auc:0.8522\n",
      "epoch: 180 loss:0.352152 auc:0.8528\n",
      "epoch: 200 loss:0.345124 auc:0.8537\n",
      "epoch: 220 loss:0.336527 auc:0.8546\n",
      "epoch: 240 loss:0.328804 auc:0.8520\n",
      "epoch: 260 loss:0.319807 auc:0.8573\n",
      "epoch: 280 loss:0.313056 auc:0.8532\n"
     ]
    },
    {
     "name": "stderr",
     "output_type": "stream",
     "text": [
      " 62%|██████▏   | 468/756 [1:13:35<37:58,  7.91s/it]"
     ]
    },
    {
     "name": "stdout",
     "output_type": "stream",
     "text": [
      "epoch: 300 loss:0.310574 auc:0.8510\n",
      "Fit finished.\n",
      "epoch:   0 loss:0.800901 auc:0.4903\n",
      "epoch:  20 loss:0.391718 auc:0.8507\n",
      "epoch:  40 loss:0.376459 auc:0.8540\n",
      "epoch:  60 loss:0.372385 auc:0.8547\n",
      "epoch:  80 loss:0.370996 auc:0.8548\n",
      "epoch: 100 loss:0.370088 auc:0.8549\n",
      "epoch: 120 loss:0.368948 auc:0.8548\n",
      "epoch: 140 loss:0.366994 auc:0.8543\n",
      "epoch: 160 loss:0.362910 auc:0.8536\n",
      "epoch: 180 loss:0.357012 auc:0.8523\n"
     ]
    },
    {
     "name": "stderr",
     "output_type": "stream",
     "text": [
      " 62%|██████▏   | 469/756 [1:13:42<35:11,  7.36s/it]"
     ]
    },
    {
     "name": "stdout",
     "output_type": "stream",
     "text": [
      "epoch: 200 loss:0.351426 auc:0.8493\n",
      "Fit finished.\n",
      "epoch:   0 loss:1.116644 auc:0.7038\n",
      "epoch:  20 loss:0.403980 auc:0.8966\n",
      "epoch:  40 loss:0.379667 auc:0.9041\n",
      "epoch:  60 loss:0.373567 auc:0.9041\n",
      "epoch:  80 loss:0.371635 auc:0.9037\n",
      "epoch: 100 loss:0.370763 auc:0.9043\n",
      "epoch: 120 loss:0.370058 auc:0.9038\n",
      "epoch: 140 loss:0.369255 auc:0.9040\n",
      "epoch: 160 loss:0.368181 auc:0.9042\n",
      "epoch: 180 loss:0.366545 auc:0.9042\n",
      "epoch: 200 loss:0.363861 auc:0.9048\n",
      "epoch: 220 loss:0.359916 auc:0.9043\n",
      "epoch: 240 loss:0.355611 auc:0.9050\n",
      "epoch: 260 loss:0.350988 auc:0.9053\n"
     ]
    },
    {
     "name": "stderr",
     "output_type": "stream",
     "text": [
      " 62%|██████▏   | 470/756 [1:13:51<37:40,  7.90s/it]"
     ]
    },
    {
     "name": "stdout",
     "output_type": "stream",
     "text": [
      "epoch: 280 loss:0.345530 auc:0.9032\n",
      "Fit finished.\n",
      "epoch:   0 loss:0.755623 auc:0.4793\n",
      "epoch:  20 loss:0.392381 auc:0.8567\n",
      "epoch:  40 loss:0.375385 auc:0.8616\n",
      "epoch:  60 loss:0.372041 auc:0.8594\n",
      "epoch:  80 loss:0.370732 auc:0.8592\n",
      "epoch: 100 loss:0.369469 auc:0.8591\n",
      "epoch: 120 loss:0.367248 auc:0.8573\n",
      "epoch: 140 loss:0.362394 auc:0.8544\n",
      "epoch: 160 loss:0.356117 auc:0.8476\n"
     ]
    },
    {
     "name": "stderr",
     "output_type": "stream",
     "text": [
      " 62%|██████▏   | 471/756 [1:13:56<34:18,  7.22s/it]"
     ]
    },
    {
     "name": "stdout",
     "output_type": "stream",
     "text": [
      "epoch: 180 loss:0.350799 auc:0.8408\n",
      "Fit finished.\n",
      "epoch:   0 loss:0.851302 auc:0.5527\n",
      "epoch:  20 loss:0.403785 auc:0.9599\n",
      "epoch:  40 loss:0.380166 auc:0.9673\n",
      "epoch:  60 loss:0.373918 auc:0.9661\n",
      "epoch:  80 loss:0.372325 auc:0.9669\n",
      "epoch: 100 loss:0.371576 auc:0.9669\n",
      "epoch: 120 loss:0.370950 auc:0.9669\n",
      "epoch: 140 loss:0.370232 auc:0.9669\n",
      "epoch: 160 loss:0.369230 auc:0.9670\n",
      "epoch: 180 loss:0.367593 auc:0.9670\n"
     ]
    },
    {
     "name": "stderr",
     "output_type": "stream",
     "text": [
      " 62%|██████▏   | 472/756 [1:14:03<33:35,  7.10s/it]"
     ]
    },
    {
     "name": "stdout",
     "output_type": "stream",
     "text": [
      "epoch: 200 loss:0.364657 auc:0.9668\n",
      "Fit finished.\n",
      "epoch:   0 loss:0.760611 auc:0.6113\n",
      "epoch:  20 loss:0.399026 auc:0.8957\n",
      "epoch:  40 loss:0.377706 auc:0.9030\n",
      "epoch:  60 loss:0.372586 auc:0.9022\n",
      "epoch:  80 loss:0.371091 auc:0.9020\n",
      "epoch: 100 loss:0.370235 auc:0.9019\n",
      "epoch: 120 loss:0.369296 auc:0.9015\n",
      "epoch: 140 loss:0.367798 auc:0.9004\n",
      "epoch: 160 loss:0.364715 auc:0.8987\n"
     ]
    },
    {
     "name": "stderr",
     "output_type": "stream",
     "text": [
      " 63%|██████▎   | 473/756 [1:14:09<31:44,  6.73s/it]"
     ]
    },
    {
     "name": "stdout",
     "output_type": "stream",
     "text": [
      "epoch: 180 loss:0.359438 auc:0.8941\n",
      "Fit finished.\n",
      "epoch:   0 loss:0.746854 auc:0.6086\n",
      "epoch:  20 loss:0.398569 auc:0.9176\n",
      "epoch:  40 loss:0.376534 auc:0.9202\n",
      "epoch:  60 loss:0.372283 auc:0.9202\n",
      "epoch:  80 loss:0.370996 auc:0.9203\n",
      "epoch: 100 loss:0.370032 auc:0.9200\n",
      "epoch: 120 loss:0.368730 auc:0.9195\n",
      "epoch: 140 loss:0.366222 auc:0.9191\n",
      "epoch: 160 loss:0.361145 auc:0.9168\n"
     ]
    },
    {
     "name": "stderr",
     "output_type": "stream",
     "text": [
      " 63%|██████▎   | 474/756 [1:14:15<30:28,  6.48s/it]"
     ]
    },
    {
     "name": "stdout",
     "output_type": "stream",
     "text": [
      "epoch: 180 loss:0.355694 auc:0.9142\n",
      "Fit finished.\n",
      "epoch:   0 loss:0.749313 auc:0.5602\n",
      "epoch:  20 loss:0.393950 auc:0.8087\n",
      "epoch:  40 loss:0.376005 auc:0.8146\n",
      "epoch:  60 loss:0.372118 auc:0.8150\n",
      "epoch:  80 loss:0.370902 auc:0.8154\n",
      "epoch: 100 loss:0.369893 auc:0.8162\n",
      "epoch: 120 loss:0.368612 auc:0.8159\n",
      "epoch: 140 loss:0.366473 auc:0.8158\n",
      "epoch: 160 loss:0.361637 auc:0.8127\n"
     ]
    },
    {
     "name": "stderr",
     "output_type": "stream",
     "text": [
      " 63%|██████▎   | 475/756 [1:14:21<29:22,  6.27s/it]"
     ]
    },
    {
     "name": "stdout",
     "output_type": "stream",
     "text": [
      "epoch: 180 loss:0.354044 auc:0.8021\n",
      "Fit finished.\n",
      "epoch:   0 loss:0.708895 auc:0.6770\n",
      "epoch:  20 loss:0.394910 auc:0.8919\n",
      "epoch:  40 loss:0.377013 auc:0.8871\n",
      "epoch:  60 loss:0.372753 auc:0.8871\n",
      "epoch:  80 loss:0.371450 auc:0.8881\n",
      "epoch: 100 loss:0.370418 auc:0.8883\n",
      "epoch: 120 loss:0.368999 auc:0.8884\n",
      "epoch: 140 loss:0.366410 auc:0.8883\n",
      "epoch: 160 loss:0.361824 auc:0.8871\n"
     ]
    },
    {
     "name": "stderr",
     "output_type": "stream",
     "text": [
      " 63%|██████▎   | 476/756 [1:14:27<28:54,  6.19s/it]"
     ]
    },
    {
     "name": "stdout",
     "output_type": "stream",
     "text": [
      "epoch: 180 loss:0.356963 auc:0.8855\n",
      "Fit finished.\n",
      "epoch:   0 loss:0.716755 auc:0.6333\n",
      "epoch:  20 loss:0.392982 auc:0.9507\n",
      "epoch:  40 loss:0.375959 auc:0.9501\n",
      "epoch:  60 loss:0.372675 auc:0.9504\n",
      "epoch:  80 loss:0.371343 auc:0.9507\n",
      "epoch: 100 loss:0.370154 auc:0.9506\n",
      "epoch: 120 loss:0.368141 auc:0.9511\n",
      "epoch: 140 loss:0.363742 auc:0.9507\n",
      "epoch: 160 loss:0.357477 auc:0.9497\n"
     ]
    },
    {
     "name": "stderr",
     "output_type": "stream",
     "text": [
      " 63%|██████▎   | 477/756 [1:14:33<28:26,  6.11s/it]"
     ]
    },
    {
     "name": "stdout",
     "output_type": "stream",
     "text": [
      "epoch: 180 loss:0.352189 auc:0.9488\n",
      "Fit finished.\n",
      "epoch:   0 loss:0.757398 auc:0.4925\n",
      "epoch:  20 loss:0.385261 auc:0.8749\n",
      "epoch:  40 loss:0.374288 auc:0.8832\n",
      "epoch:  60 loss:0.371525 auc:0.8833\n",
      "epoch:  80 loss:0.370392 auc:0.8836\n",
      "epoch: 100 loss:0.369109 auc:0.8831\n",
      "epoch: 120 loss:0.366816 auc:0.8822\n",
      "epoch: 140 loss:0.361976 auc:0.8786\n",
      "epoch: 160 loss:0.356248 auc:0.8729\n"
     ]
    },
    {
     "name": "stderr",
     "output_type": "stream",
     "text": [
      " 63%|██████▎   | 478/756 [1:14:39<28:31,  6.16s/it]"
     ]
    },
    {
     "name": "stdout",
     "output_type": "stream",
     "text": [
      "epoch: 180 loss:0.349720 auc:0.8658\n",
      "Fit finished.\n",
      "epoch:   0 loss:0.724695 auc:0.6701\n",
      "epoch:  20 loss:0.389485 auc:0.9381\n",
      "epoch:  40 loss:0.375793 auc:0.9398\n",
      "epoch:  60 loss:0.371924 auc:0.9409\n",
      "epoch:  80 loss:0.370504 auc:0.9404\n",
      "epoch: 100 loss:0.369211 auc:0.9409\n",
      "epoch: 120 loss:0.367254 auc:0.9411\n",
      "epoch: 140 loss:0.363621 auc:0.9415\n",
      "epoch: 160 loss:0.358196 auc:0.9422\n",
      "epoch: 180 loss:0.351958 auc:0.9412\n"
     ]
    },
    {
     "name": "stderr",
     "output_type": "stream",
     "text": [
      " 63%|██████▎   | 479/756 [1:14:46<30:17,  6.56s/it]"
     ]
    },
    {
     "name": "stdout",
     "output_type": "stream",
     "text": [
      "epoch: 200 loss:0.344757 auc:0.9397\n",
      "Fit finished.\n",
      "epoch:   0 loss:0.839283 auc:0.5039\n",
      "epoch:  20 loss:0.397065 auc:0.8562\n",
      "epoch:  40 loss:0.376954 auc:0.8591\n",
      "epoch:  60 loss:0.372057 auc:0.8586\n",
      "epoch:  80 loss:0.370201 auc:0.8600\n",
      "epoch: 100 loss:0.368578 auc:0.8603\n",
      "epoch: 120 loss:0.366123 auc:0.8618\n",
      "epoch: 140 loss:0.361834 auc:0.8633\n",
      "epoch: 160 loss:0.356533 auc:0.8631\n",
      "epoch: 180 loss:0.354742 auc:0.8617\n",
      "epoch: 200 loss:0.344386 auc:0.8613\n",
      "epoch: 220 loss:0.335197 auc:0.8653\n"
     ]
    },
    {
     "name": "stderr",
     "output_type": "stream",
     "text": [
      " 63%|██████▎   | 480/756 [1:14:54<31:16,  6.80s/it]"
     ]
    },
    {
     "name": "stdout",
     "output_type": "stream",
     "text": [
      "epoch: 240 loss:0.331274 auc:0.8579\n",
      "Fit finished.\n",
      "epoch:   0 loss:0.814127 auc:0.5363\n",
      "epoch:  20 loss:0.389031 auc:0.9068\n",
      "epoch:  40 loss:0.376531 auc:0.9085\n",
      "epoch:  60 loss:0.372339 auc:0.9093\n",
      "epoch:  80 loss:0.371014 auc:0.9085\n",
      "epoch: 100 loss:0.370024 auc:0.9090\n",
      "epoch: 120 loss:0.368808 auc:0.9088\n",
      "epoch: 140 loss:0.366683 auc:0.9089\n",
      "epoch: 160 loss:0.362572 auc:0.9091\n",
      "epoch: 180 loss:0.357444 auc:0.9083\n"
     ]
    },
    {
     "name": "stderr",
     "output_type": "stream",
     "text": [
      " 64%|██████▎   | 481/756 [1:15:00<30:37,  6.68s/it]"
     ]
    },
    {
     "name": "stdout",
     "output_type": "stream",
     "text": [
      "epoch: 200 loss:0.351469 auc:0.9064\n",
      "Fit finished.\n",
      "epoch:   0 loss:0.792265 auc:0.5889\n",
      "epoch:  20 loss:0.395588 auc:0.6833\n",
      "epoch:  40 loss:0.376214 auc:0.6972\n",
      "epoch:  60 loss:0.372155 auc:0.7000\n",
      "epoch:  80 loss:0.370922 auc:0.7028\n",
      "epoch: 100 loss:0.369874 auc:0.7028\n",
      "epoch: 120 loss:0.368243 auc:0.7028\n",
      "epoch: 140 loss:0.364759 auc:0.7028\n",
      "epoch: 160 loss:0.359370 auc:0.7028\n",
      "epoch: 180 loss:0.353763 auc:0.6972\n",
      "epoch: 200 loss:0.348826 auc:0.7000\n",
      "epoch: 220 loss:0.344125 auc:0.7000\n"
     ]
    },
    {
     "name": "stderr",
     "output_type": "stream",
     "text": [
      " 64%|██████▍   | 482/756 [1:15:09<32:53,  7.20s/it]"
     ]
    },
    {
     "name": "stdout",
     "output_type": "stream",
     "text": [
      "epoch: 240 loss:0.336695 auc:0.7000\n",
      "Fit finished.\n",
      "epoch:   0 loss:0.759391 auc:0.5131\n",
      "epoch:  20 loss:0.390578 auc:0.9378\n",
      "epoch:  40 loss:0.375247 auc:0.9390\n",
      "epoch:  60 loss:0.372289 auc:0.9393\n",
      "epoch:  80 loss:0.370923 auc:0.9399\n",
      "epoch: 100 loss:0.369622 auc:0.9400\n",
      "epoch: 120 loss:0.367642 auc:0.9406\n",
      "epoch: 140 loss:0.363783 auc:0.9412\n",
      "epoch: 160 loss:0.358269 auc:0.9419\n",
      "epoch: 180 loss:0.351648 auc:0.9425\n",
      "epoch: 200 loss:0.342053 auc:0.9453\n",
      "epoch: 220 loss:0.332704 auc:0.9461\n",
      "epoch: 240 loss:0.325724 auc:0.9467\n",
      "epoch: 260 loss:0.315660 auc:0.9404\n"
     ]
    },
    {
     "name": "stderr",
     "output_type": "stream",
     "text": [
      " 64%|██████▍   | 483/756 [1:15:17<34:43,  7.63s/it]"
     ]
    },
    {
     "name": "stdout",
     "output_type": "stream",
     "text": [
      "epoch: 280 loss:0.306632 auc:0.9277\n",
      "Fit finished.\n",
      "epoch:   0 loss:0.748209 auc:0.5327\n",
      "epoch:  20 loss:0.391205 auc:0.9294\n",
      "epoch:  40 loss:0.376970 auc:0.9328\n",
      "epoch:  60 loss:0.372777 auc:0.9338\n",
      "epoch:  80 loss:0.371527 auc:0.9338\n",
      "epoch: 100 loss:0.370706 auc:0.9339\n",
      "epoch: 120 loss:0.369874 auc:0.9337\n",
      "epoch: 140 loss:0.368730 auc:0.9337\n",
      "epoch: 160 loss:0.366699 auc:0.9333\n",
      "epoch: 180 loss:0.362558 auc:0.9328\n"
     ]
    },
    {
     "name": "stderr",
     "output_type": "stream",
     "text": [
      " 64%|██████▍   | 484/756 [1:15:25<34:38,  7.64s/it]"
     ]
    },
    {
     "name": "stdout",
     "output_type": "stream",
     "text": [
      "epoch: 200 loss:0.357149 auc:0.9324\n",
      "Fit finished.\n",
      "epoch:   0 loss:0.982932 auc:0.5920\n",
      "epoch:  20 loss:0.400194 auc:0.9019\n",
      "epoch:  40 loss:0.379004 auc:0.9271\n",
      "epoch:  60 loss:0.373516 auc:0.9314\n",
      "epoch:  80 loss:0.371805 auc:0.9310\n",
      "epoch: 100 loss:0.370958 auc:0.9332\n",
      "epoch: 120 loss:0.370199 auc:0.9336\n",
      "epoch: 140 loss:0.369313 auc:0.9336\n",
      "epoch: 160 loss:0.368051 auc:0.9332\n",
      "epoch: 180 loss:0.365805 auc:0.9332\n",
      "epoch: 200 loss:0.361046 auc:0.9323\n",
      "epoch: 220 loss:0.355376 auc:0.9358\n",
      "epoch: 240 loss:0.348655 auc:0.9345\n"
     ]
    },
    {
     "name": "stderr",
     "output_type": "stream",
     "text": [
      " 64%|██████▍   | 485/756 [1:15:34<36:39,  8.12s/it]"
     ]
    },
    {
     "name": "stdout",
     "output_type": "stream",
     "text": [
      "epoch: 260 loss:0.341837 auc:0.9271\n",
      "Fit finished.\n",
      "epoch:   0 loss:0.748457 auc:0.4790\n",
      "epoch:  20 loss:0.379711 auc:0.9178\n",
      "epoch:  40 loss:0.372634 auc:0.9179\n",
      "epoch:  60 loss:0.370694 auc:0.9171\n",
      "epoch:  80 loss:0.368817 auc:0.9172\n",
      "epoch: 100 loss:0.365064 auc:0.9176\n",
      "epoch: 120 loss:0.358606 auc:0.9196\n",
      "epoch: 140 loss:0.351722 auc:0.9221\n",
      "epoch: 160 loss:0.341849 auc:0.9125\n"
     ]
    },
    {
     "name": "stderr",
     "output_type": "stream",
     "text": [
      " 64%|██████▍   | 486/756 [1:15:40<33:48,  7.51s/it]"
     ]
    },
    {
     "name": "stdout",
     "output_type": "stream",
     "text": [
      "epoch: 180 loss:0.335351 auc:0.8859\n",
      "Fit finished.\n",
      "epoch:   0 loss:0.747794 auc:0.6555\n",
      "epoch:  20 loss:0.399338 auc:0.9580\n",
      "epoch:  40 loss:0.376539 auc:0.9615\n",
      "epoch:  60 loss:0.372644 auc:0.9615\n",
      "epoch:  80 loss:0.371412 auc:0.9611\n",
      "epoch: 100 loss:0.370533 auc:0.9612\n",
      "epoch: 120 loss:0.369355 auc:0.9612\n",
      "epoch: 140 loss:0.367220 auc:0.9607\n",
      "epoch: 160 loss:0.363105 auc:0.9596\n"
     ]
    },
    {
     "name": "stderr",
     "output_type": "stream",
     "text": [
      " 64%|██████▍   | 487/756 [1:15:46<31:07,  6.94s/it]"
     ]
    },
    {
     "name": "stdout",
     "output_type": "stream",
     "text": [
      "epoch: 180 loss:0.358327 auc:0.9579\n",
      "Fit finished.\n",
      "epoch:   0 loss:0.744200 auc:0.4431\n",
      "epoch:  20 loss:0.387579 auc:0.9196\n",
      "epoch:  40 loss:0.376121 auc:0.9191\n",
      "epoch:  60 loss:0.372225 auc:0.9186\n",
      "epoch:  80 loss:0.370942 auc:0.9197\n",
      "epoch: 100 loss:0.369932 auc:0.9188\n",
      "epoch: 120 loss:0.368616 auc:0.9186\n",
      "epoch: 140 loss:0.366384 auc:0.9185\n",
      "epoch: 160 loss:0.362208 auc:0.9208\n",
      "epoch: 180 loss:0.356736 auc:0.9224\n",
      "epoch: 200 loss:0.350152 auc:0.9229\n",
      "epoch: 220 loss:0.346130 auc:0.9221\n"
     ]
    },
    {
     "name": "stderr",
     "output_type": "stream",
     "text": [
      " 65%|██████▍   | 488/756 [1:15:54<32:33,  7.29s/it]"
     ]
    },
    {
     "name": "stdout",
     "output_type": "stream",
     "text": [
      "epoch: 240 loss:0.333120 auc:0.9179\n",
      "Fit finished.\n",
      "epoch:   0 loss:0.772583 auc:0.4873\n",
      "epoch:  20 loss:0.392599 auc:0.7547\n",
      "epoch:  40 loss:0.376743 auc:0.7565\n",
      "epoch:  60 loss:0.372345 auc:0.7599\n",
      "epoch:  80 loss:0.371097 auc:0.7617\n",
      "epoch: 100 loss:0.370196 auc:0.7617\n",
      "epoch: 120 loss:0.369069 auc:0.7620\n",
      "epoch: 140 loss:0.367035 auc:0.7630\n",
      "epoch: 160 loss:0.362950 auc:0.7614\n",
      "epoch: 180 loss:0.357873 auc:0.7596\n",
      "epoch: 200 loss:0.352637 auc:0.7609\n"
     ]
    },
    {
     "name": "stderr",
     "output_type": "stream",
     "text": [
      " 65%|██████▍   | 489/756 [1:16:01<32:06,  7.22s/it]"
     ]
    },
    {
     "name": "stdout",
     "output_type": "stream",
     "text": [
      "epoch: 220 loss:0.346556 auc:0.7586\n",
      "Fit finished.\n",
      "epoch:   0 loss:0.695910 auc:0.5690\n",
      "epoch:  20 loss:0.394016 auc:0.9616\n",
      "epoch:  40 loss:0.375107 auc:0.9587\n",
      "epoch:  60 loss:0.371887 auc:0.9594\n",
      "epoch:  80 loss:0.370098 auc:0.9591\n",
      "epoch: 100 loss:0.367849 auc:0.9587\n",
      "epoch: 120 loss:0.363581 auc:0.9575\n",
      "epoch: 140 loss:0.358067 auc:0.9569\n",
      "epoch: 160 loss:0.351475 auc:0.9549\n"
     ]
    },
    {
     "name": "stderr",
     "output_type": "stream",
     "text": [
      " 65%|██████▍   | 490/756 [1:16:07<30:37,  6.91s/it]"
     ]
    },
    {
     "name": "stdout",
     "output_type": "stream",
     "text": [
      "epoch: 180 loss:0.347256 auc:0.9548\n",
      "Fit finished.\n",
      "epoch:   0 loss:0.946412 auc:0.4462\n",
      "epoch:  20 loss:0.404924 auc:0.9100\n",
      "epoch:  40 loss:0.378007 auc:0.9089\n",
      "epoch:  60 loss:0.373159 auc:0.9112\n",
      "epoch:  80 loss:0.371746 auc:0.9107\n",
      "epoch: 100 loss:0.370969 auc:0.9106\n",
      "epoch: 120 loss:0.370170 auc:0.9108\n",
      "epoch: 140 loss:0.369015 auc:0.9107\n",
      "epoch: 160 loss:0.367088 auc:0.9106\n"
     ]
    },
    {
     "name": "stderr",
     "output_type": "stream",
     "text": [
      " 65%|██████▍   | 491/756 [1:16:13<29:33,  6.69s/it]"
     ]
    },
    {
     "name": "stdout",
     "output_type": "stream",
     "text": [
      "epoch: 180 loss:0.363538 auc:0.9099\n",
      "Fit finished.\n",
      "epoch:   0 loss:0.773229 auc:0.5459\n",
      "epoch:  20 loss:0.399942 auc:0.9121\n",
      "epoch:  40 loss:0.379045 auc:0.9152\n",
      "epoch:  60 loss:0.374119 auc:0.9155\n",
      "epoch:  80 loss:0.372163 auc:0.9160\n",
      "epoch: 100 loss:0.371230 auc:0.9156\n",
      "epoch: 120 loss:0.370455 auc:0.9155\n",
      "epoch: 140 loss:0.369504 auc:0.9151\n",
      "epoch: 160 loss:0.367979 auc:0.9147\n",
      "epoch: 180 loss:0.365133 auc:0.9142\n"
     ]
    },
    {
     "name": "stderr",
     "output_type": "stream",
     "text": [
      " 65%|██████▌   | 492/756 [1:16:21<30:14,  6.87s/it]"
     ]
    },
    {
     "name": "stdout",
     "output_type": "stream",
     "text": [
      "epoch: 200 loss:0.360933 auc:0.9132\n",
      "Fit finished.\n",
      "epoch:   0 loss:0.733793 auc:0.5265\n",
      "epoch:  20 loss:0.390069 auc:0.9214\n",
      "epoch:  40 loss:0.374820 auc:0.9234\n",
      "epoch:  60 loss:0.372148 auc:0.9235\n",
      "epoch:  80 loss:0.371034 auc:0.9233\n",
      "epoch: 100 loss:0.369969 auc:0.9231\n",
      "epoch: 120 loss:0.368324 auc:0.9226\n",
      "epoch: 140 loss:0.365309 auc:0.9209\n",
      "epoch: 160 loss:0.360711 auc:0.9175\n"
     ]
    },
    {
     "name": "stderr",
     "output_type": "stream",
     "text": [
      " 65%|██████▌   | 493/756 [1:16:27<29:58,  6.84s/it]"
     ]
    },
    {
     "name": "stdout",
     "output_type": "stream",
     "text": [
      "epoch: 180 loss:0.355789 auc:0.9136\n",
      "Fit finished.\n",
      "epoch:   0 loss:0.758082 auc:0.4604\n",
      "epoch:  20 loss:0.393770 auc:0.8992\n",
      "epoch:  40 loss:0.376038 auc:0.9078\n",
      "epoch:  60 loss:0.372192 auc:0.9078\n",
      "epoch:  80 loss:0.370845 auc:0.9074\n",
      "epoch: 100 loss:0.369655 auc:0.9069\n",
      "epoch: 120 loss:0.367691 auc:0.9059\n",
      "epoch: 140 loss:0.363675 auc:0.9033\n",
      "epoch: 160 loss:0.357639 auc:0.8988\n"
     ]
    },
    {
     "name": "stderr",
     "output_type": "stream",
     "text": [
      " 65%|██████▌   | 494/756 [1:16:32<27:14,  6.24s/it]"
     ]
    },
    {
     "name": "stdout",
     "output_type": "stream",
     "text": [
      "epoch: 180 loss:0.351364 auc:0.8956\n",
      "Fit finished.\n",
      "epoch:   0 loss:0.830832 auc:0.3376\n",
      "epoch:  20 loss:0.418665 auc:0.9120\n",
      "epoch:  40 loss:0.382020 auc:0.9221\n",
      "epoch:  60 loss:0.373873 auc:0.9225\n",
      "epoch:  80 loss:0.371780 auc:0.9226\n",
      "epoch: 100 loss:0.370848 auc:0.9223\n",
      "epoch: 120 loss:0.370069 auc:0.9220\n",
      "epoch: 140 loss:0.369149 auc:0.9220\n",
      "epoch: 160 loss:0.367827 auc:0.9214\n",
      "epoch: 180 loss:0.365745 auc:0.9209\n"
     ]
    },
    {
     "name": "stderr",
     "output_type": "stream",
     "text": [
      " 65%|██████▌   | 495/756 [1:16:39<27:34,  6.34s/it]"
     ]
    },
    {
     "name": "stdout",
     "output_type": "stream",
     "text": [
      "epoch: 200 loss:0.362589 auc:0.9201\n",
      "Fit finished.\n",
      "epoch:   0 loss:0.737236 auc:0.6018\n",
      "epoch:  20 loss:0.385533 auc:0.9573\n",
      "epoch:  40 loss:0.375002 auc:0.9578\n",
      "epoch:  60 loss:0.371620 auc:0.9576\n",
      "epoch:  80 loss:0.370096 auc:0.9576\n",
      "epoch: 100 loss:0.368470 auc:0.9579\n",
      "epoch: 120 loss:0.365440 auc:0.9572\n",
      "epoch: 140 loss:0.358775 auc:0.9580\n",
      "epoch: 160 loss:0.350441 auc:0.9582\n"
     ]
    },
    {
     "name": "stderr",
     "output_type": "stream",
     "text": [
      " 66%|██████▌   | 496/756 [1:16:45<27:32,  6.36s/it]"
     ]
    },
    {
     "name": "stdout",
     "output_type": "stream",
     "text": [
      "epoch: 180 loss:0.340557 auc:0.9562\n",
      "Fit finished.\n",
      "epoch:   0 loss:0.744376 auc:0.5129\n",
      "epoch:  20 loss:0.392509 auc:0.9371\n",
      "epoch:  40 loss:0.377363 auc:0.9421\n",
      "epoch:  60 loss:0.373278 auc:0.9439\n",
      "epoch:  80 loss:0.371916 auc:0.9432\n",
      "epoch: 100 loss:0.371018 auc:0.9433\n",
      "epoch: 120 loss:0.369891 auc:0.9428\n",
      "epoch: 140 loss:0.367732 auc:0.9425\n",
      "epoch: 160 loss:0.363397 auc:0.9421\n",
      "epoch: 180 loss:0.357440 auc:0.9416\n",
      "epoch: 200 loss:0.352017 auc:0.9421\n"
     ]
    },
    {
     "name": "stderr",
     "output_type": "stream",
     "text": [
      " 66%|██████▌   | 497/756 [1:16:52<28:16,  6.55s/it]"
     ]
    },
    {
     "name": "stdout",
     "output_type": "stream",
     "text": [
      "epoch: 220 loss:0.346249 auc:0.9420\n",
      "Fit finished.\n",
      "epoch:   0 loss:0.796336 auc:0.5041\n",
      "epoch:  20 loss:0.392059 auc:0.8601\n",
      "epoch:  40 loss:0.375214 auc:0.8686\n",
      "epoch:  60 loss:0.371518 auc:0.8697\n",
      "epoch:  80 loss:0.370205 auc:0.8694\n",
      "epoch: 100 loss:0.368869 auc:0.8694\n",
      "epoch: 120 loss:0.366631 auc:0.8692\n",
      "epoch: 140 loss:0.361960 auc:0.8683\n",
      "epoch: 160 loss:0.355813 auc:0.8677\n",
      "epoch: 180 loss:0.349522 auc:0.8685\n",
      "epoch: 200 loss:0.339551 auc:0.8715\n",
      "epoch: 220 loss:0.326266 auc:0.8721\n"
     ]
    },
    {
     "name": "stderr",
     "output_type": "stream",
     "text": [
      " 66%|██████▌   | 498/756 [1:16:59<29:03,  6.76s/it]"
     ]
    },
    {
     "name": "stdout",
     "output_type": "stream",
     "text": [
      "epoch: 240 loss:0.314912 auc:0.8691\n",
      "Fit finished.\n",
      "epoch:   0 loss:0.876597 auc:0.4507\n",
      "epoch:  20 loss:0.412898 auc:0.9392\n",
      "epoch:  40 loss:0.379482 auc:0.9385\n",
      "epoch:  60 loss:0.373415 auc:0.9375\n",
      "epoch:  80 loss:0.371511 auc:0.9381\n",
      "epoch: 100 loss:0.370569 auc:0.9377\n",
      "epoch: 120 loss:0.369646 auc:0.9379\n",
      "epoch: 140 loss:0.368366 auc:0.9378\n",
      "epoch: 160 loss:0.366228 auc:0.9382\n"
     ]
    },
    {
     "name": "stderr",
     "output_type": "stream",
     "text": [
      " 66%|██████▌   | 499/756 [1:17:06<29:03,  6.78s/it]"
     ]
    },
    {
     "name": "stdout",
     "output_type": "stream",
     "text": [
      "epoch: 180 loss:0.362698 auc:0.9381\n",
      "Fit finished.\n",
      "epoch:   0 loss:0.957068 auc:0.4067\n",
      "epoch:  20 loss:0.412021 auc:0.9337\n",
      "epoch:  40 loss:0.378573 auc:0.9451\n",
      "epoch:  60 loss:0.373780 auc:0.9465\n",
      "epoch:  80 loss:0.372264 auc:0.9468\n",
      "epoch: 100 loss:0.371607 auc:0.9468\n",
      "epoch: 120 loss:0.371175 auc:0.9467\n",
      "epoch: 140 loss:0.370757 auc:0.9468\n",
      "epoch: 160 loss:0.370265 auc:0.9466\n",
      "epoch: 180 loss:0.369614 auc:0.9465\n",
      "epoch: 200 loss:0.368646 auc:0.9464\n"
     ]
    },
    {
     "name": "stderr",
     "output_type": "stream",
     "text": [
      " 66%|██████▌   | 500/756 [1:17:13<28:22,  6.65s/it]"
     ]
    },
    {
     "name": "stdout",
     "output_type": "stream",
     "text": [
      "epoch: 220 loss:0.366943 auc:0.9464\n",
      "Fit finished.\n",
      "epoch:   0 loss:0.758422 auc:0.4488\n",
      "epoch:  20 loss:0.383762 auc:0.9440\n",
      "epoch:  40 loss:0.373714 auc:0.9467\n",
      "epoch:  60 loss:0.371416 auc:0.9466\n",
      "epoch:  80 loss:0.370352 auc:0.9469\n",
      "epoch: 100 loss:0.368826 auc:0.9472\n",
      "epoch: 120 loss:0.365563 auc:0.9485\n",
      "epoch: 140 loss:0.359974 auc:0.9504\n",
      "epoch: 160 loss:0.355011 auc:0.9515\n",
      "epoch: 180 loss:0.350051 auc:0.9531\n",
      "epoch: 200 loss:0.344519 auc:0.9545\n",
      "epoch: 220 loss:0.334441 auc:0.9564\n",
      "epoch: 240 loss:0.325019 auc:0.9556\n",
      "epoch: 260 loss:0.314389 auc:0.9556\n",
      "epoch: 280 loss:0.305980 auc:0.9523\n"
     ]
    },
    {
     "name": "stderr",
     "output_type": "stream",
     "text": [
      " 66%|██████▋   | 501/756 [1:17:23<32:32,  7.66s/it]"
     ]
    },
    {
     "name": "stdout",
     "output_type": "stream",
     "text": [
      "epoch: 300 loss:0.299829 auc:0.9491\n",
      "Fit finished.\n",
      "epoch:   0 loss:0.754869 auc:0.4175\n",
      "epoch:  20 loss:0.390933 auc:0.9342\n",
      "epoch:  40 loss:0.375481 auc:0.9411\n",
      "epoch:  60 loss:0.371946 auc:0.9408\n",
      "epoch:  80 loss:0.370792 auc:0.9413\n",
      "epoch: 100 loss:0.369842 auc:0.9410\n",
      "epoch: 120 loss:0.368530 auc:0.9410\n",
      "epoch: 140 loss:0.366139 auc:0.9411\n",
      "epoch: 160 loss:0.361548 auc:0.9410\n",
      "epoch: 180 loss:0.355739 auc:0.9409\n"
     ]
    },
    {
     "name": "stderr",
     "output_type": "stream",
     "text": [
      " 66%|██████▋   | 502/756 [1:17:29<31:00,  7.33s/it]"
     ]
    },
    {
     "name": "stdout",
     "output_type": "stream",
     "text": [
      "epoch: 200 loss:0.350920 auc:0.9402\n",
      "Fit finished.\n",
      "epoch:   0 loss:0.972195 auc:0.4485\n",
      "epoch:  20 loss:0.417728 auc:0.8648\n",
      "epoch:  40 loss:0.382202 auc:0.8706\n",
      "epoch:  60 loss:0.373962 auc:0.8727\n",
      "epoch:  80 loss:0.371975 auc:0.8735\n",
      "epoch: 100 loss:0.371221 auc:0.8735\n",
      "epoch: 120 loss:0.370726 auc:0.8733\n",
      "epoch: 140 loss:0.370261 auc:0.8733\n",
      "epoch: 160 loss:0.369704 auc:0.8736\n",
      "epoch: 180 loss:0.368873 auc:0.8737\n",
      "epoch: 200 loss:0.367310 auc:0.8736\n",
      "epoch: 220 loss:0.364071 auc:0.8730\n"
     ]
    },
    {
     "name": "stderr",
     "output_type": "stream",
     "text": [
      " 67%|██████▋   | 503/756 [1:17:37<31:13,  7.41s/it]"
     ]
    },
    {
     "name": "stdout",
     "output_type": "stream",
     "text": [
      "epoch: 240 loss:0.359375 auc:0.8718\n",
      "Fit finished.\n",
      "epoch:   0 loss:0.740291 auc:0.5221\n",
      "epoch:  20 loss:0.389225 auc:0.9200\n",
      "epoch:  40 loss:0.374585 auc:0.9235\n",
      "epoch:  60 loss:0.372123 auc:0.9242\n",
      "epoch:  80 loss:0.371068 auc:0.9241\n",
      "epoch: 100 loss:0.370134 auc:0.9239\n",
      "epoch: 120 loss:0.368745 auc:0.9237\n",
      "epoch: 140 loss:0.365926 auc:0.9248\n",
      "epoch: 160 loss:0.359349 auc:0.9265\n",
      "epoch: 180 loss:0.350615 auc:0.9251\n"
     ]
    },
    {
     "name": "stderr",
     "output_type": "stream",
     "text": [
      " 67%|██████▋   | 504/756 [1:17:43<30:03,  7.16s/it]"
     ]
    },
    {
     "name": "stdout",
     "output_type": "stream",
     "text": [
      "epoch: 200 loss:0.339041 auc:0.9162\n",
      "Fit finished.\n",
      "epoch:   0 loss:0.869727 auc:0.4229\n",
      "epoch:  20 loss:0.389381 auc:0.9289\n",
      "epoch:  40 loss:0.375296 auc:0.9264\n",
      "epoch:  60 loss:0.372278 auc:0.9272\n",
      "epoch:  80 loss:0.371237 auc:0.9276\n",
      "epoch: 100 loss:0.370421 auc:0.9276\n",
      "epoch: 120 loss:0.369454 auc:0.9280\n",
      "epoch: 140 loss:0.367951 auc:0.9284\n",
      "epoch: 160 loss:0.364975 auc:0.9296\n",
      "epoch: 180 loss:0.358619 auc:0.9329\n",
      "epoch: 200 loss:0.352107 auc:0.9347\n",
      "epoch: 220 loss:0.345837 auc:0.9336\n",
      "epoch: 240 loss:0.336871 auc:0.9287\n",
      "epoch: 260 loss:0.327583 auc:0.9303\n"
     ]
    },
    {
     "name": "stderr",
     "output_type": "stream",
     "text": [
      " 67%|██████▋   | 505/756 [1:17:53<32:53,  7.86s/it]"
     ]
    },
    {
     "name": "stdout",
     "output_type": "stream",
     "text": [
      "epoch: 280 loss:0.318102 auc:0.9260\n",
      "Fit finished.\n",
      "epoch:   0 loss:0.856054 auc:0.4694\n",
      "epoch:  20 loss:0.389460 auc:0.9261\n",
      "epoch:  40 loss:0.374559 auc:0.9257\n",
      "epoch:  60 loss:0.371810 auc:0.9254\n",
      "epoch:  80 loss:0.370426 auc:0.9258\n",
      "epoch: 100 loss:0.368828 auc:0.9260\n",
      "epoch: 120 loss:0.365746 auc:0.9254\n",
      "epoch: 140 loss:0.359662 auc:0.9228\n",
      "epoch: 160 loss:0.351899 auc:0.9218\n"
     ]
    },
    {
     "name": "stderr",
     "output_type": "stream",
     "text": [
      " 67%|██████▋   | 506/756 [1:17:59<30:06,  7.22s/it]"
     ]
    },
    {
     "name": "stdout",
     "output_type": "stream",
     "text": [
      "epoch: 180 loss:0.344539 auc:0.9170\n",
      "Fit finished.\n",
      "epoch:   0 loss:0.719559 auc:0.5520\n",
      "epoch:  20 loss:0.385532 auc:0.9216\n",
      "epoch:  40 loss:0.373269 auc:0.9240\n",
      "epoch:  60 loss:0.370744 auc:0.9226\n",
      "epoch:  80 loss:0.368659 auc:0.9222\n",
      "epoch: 100 loss:0.364950 auc:0.9208\n",
      "epoch: 120 loss:0.358686 auc:0.9189\n",
      "epoch: 140 loss:0.352841 auc:0.9197\n",
      "epoch: 160 loss:0.343461 auc:0.9170\n"
     ]
    },
    {
     "name": "stderr",
     "output_type": "stream",
     "text": [
      " 67%|██████▋   | 507/756 [1:18:05<28:41,  6.91s/it]"
     ]
    },
    {
     "name": "stdout",
     "output_type": "stream",
     "text": [
      "epoch: 180 loss:0.333363 auc:0.9012\n",
      "Fit finished.\n",
      "epoch:   0 loss:0.821041 auc:0.4640\n",
      "epoch:  20 loss:0.402361 auc:0.8749\n",
      "epoch:  40 loss:0.377097 auc:0.8791\n",
      "epoch:  60 loss:0.372916 auc:0.8806\n",
      "epoch:  80 loss:0.371520 auc:0.8801\n",
      "epoch: 100 loss:0.370735 auc:0.8800\n",
      "epoch: 120 loss:0.369908 auc:0.8797\n",
      "epoch: 140 loss:0.368768 auc:0.8797\n",
      "epoch: 160 loss:0.366820 auc:0.8800\n",
      "epoch: 180 loss:0.362877 auc:0.8791\n"
     ]
    },
    {
     "name": "stderr",
     "output_type": "stream",
     "text": [
      " 67%|██████▋   | 508/756 [1:18:13<29:35,  7.16s/it]"
     ]
    },
    {
     "name": "stdout",
     "output_type": "stream",
     "text": [
      "epoch: 200 loss:0.356736 auc:0.8778\n",
      "Fit finished.\n",
      "epoch:   0 loss:0.809884 auc:0.4149\n",
      "epoch:  20 loss:0.405576 auc:0.9276\n",
      "epoch:  40 loss:0.377208 auc:0.9270\n",
      "epoch:  60 loss:0.372791 auc:0.9271\n",
      "epoch:  80 loss:0.371341 auc:0.9280\n",
      "epoch: 100 loss:0.370347 auc:0.9280\n",
      "epoch: 120 loss:0.369107 auc:0.9280\n",
      "epoch: 140 loss:0.366905 auc:0.9281\n",
      "epoch: 160 loss:0.362439 auc:0.9274\n"
     ]
    },
    {
     "name": "stderr",
     "output_type": "stream",
     "text": [
      " 67%|██████▋   | 509/756 [1:18:19<28:03,  6.82s/it]"
     ]
    },
    {
     "name": "stdout",
     "output_type": "stream",
     "text": [
      "epoch: 180 loss:0.356969 auc:0.9270\n",
      "Fit finished.\n",
      "epoch:   0 loss:0.808339 auc:0.4762\n",
      "epoch:  20 loss:0.388344 auc:0.9353\n",
      "epoch:  40 loss:0.375896 auc:0.9380\n",
      "epoch:  60 loss:0.371972 auc:0.9384\n",
      "epoch:  80 loss:0.370648 auc:0.9395\n",
      "epoch: 100 loss:0.369530 auc:0.9394\n",
      "epoch: 120 loss:0.367937 auc:0.9402\n",
      "epoch: 140 loss:0.364916 auc:0.9415\n",
      "epoch: 160 loss:0.359968 auc:0.9431\n",
      "epoch: 180 loss:0.354974 auc:0.9455\n",
      "epoch: 200 loss:0.350277 auc:0.9491\n",
      "epoch: 220 loss:0.342913 auc:0.9518\n",
      "epoch: 240 loss:0.333839 auc:0.9450\n",
      "epoch: 260 loss:0.324248 auc:0.9466\n"
     ]
    },
    {
     "name": "stderr",
     "output_type": "stream",
     "text": [
      " 67%|██████▋   | 510/756 [1:18:26<28:57,  7.06s/it]"
     ]
    },
    {
     "name": "stdout",
     "output_type": "stream",
     "text": [
      "epoch: 280 loss:0.314488 auc:0.9365\n",
      "Fit finished.\n",
      "epoch:   0 loss:0.810903 auc:0.3631\n",
      "epoch:  20 loss:0.384712 auc:0.9420\n",
      "epoch:  40 loss:0.373591 auc:0.9449\n",
      "epoch:  60 loss:0.371164 auc:0.9449\n",
      "epoch:  80 loss:0.369715 auc:0.9454\n",
      "epoch: 100 loss:0.367679 auc:0.9460\n",
      "epoch: 120 loss:0.363229 auc:0.9481\n",
      "epoch: 140 loss:0.356455 auc:0.9509\n",
      "epoch: 160 loss:0.353181 auc:0.9525\n",
      "epoch: 180 loss:0.339750 auc:0.9521\n",
      "epoch: 200 loss:0.330954 auc:0.9497\n"
     ]
    },
    {
     "name": "stderr",
     "output_type": "stream",
     "text": [
      " 68%|██████▊   | 511/756 [1:18:33<28:11,  6.90s/it]"
     ]
    },
    {
     "name": "stdout",
     "output_type": "stream",
     "text": [
      "epoch: 220 loss:0.318430 auc:0.9439\n",
      "Fit finished.\n",
      "epoch:   0 loss:0.775472 auc:0.4957\n",
      "epoch:  20 loss:0.394785 auc:0.9278\n",
      "epoch:  40 loss:0.376240 auc:0.9365\n",
      "epoch:  60 loss:0.372527 auc:0.9364\n",
      "epoch:  80 loss:0.371198 auc:0.9363\n",
      "epoch: 100 loss:0.370364 auc:0.9366\n",
      "epoch: 120 loss:0.369425 auc:0.9364\n",
      "epoch: 140 loss:0.368019 auc:0.9364\n",
      "epoch: 160 loss:0.365378 auc:0.9370\n",
      "epoch: 180 loss:0.360814 auc:0.9395\n",
      "epoch: 200 loss:0.355809 auc:0.9420\n",
      "epoch: 220 loss:0.349976 auc:0.9442\n",
      "epoch: 240 loss:0.342389 auc:0.9400\n",
      "epoch: 260 loss:0.332482 auc:0.9401\n"
     ]
    },
    {
     "name": "stderr",
     "output_type": "stream",
     "text": [
      " 68%|██████▊   | 512/756 [1:18:42<31:23,  7.72s/it]"
     ]
    },
    {
     "name": "stdout",
     "output_type": "stream",
     "text": [
      "epoch: 280 loss:0.321348 auc:0.9297\n",
      "Fit finished.\n",
      "epoch:   0 loss:0.905975 auc:0.4295\n",
      "epoch:  20 loss:0.401456 auc:0.9093\n",
      "epoch:  40 loss:0.377262 auc:0.9133\n",
      "epoch:  60 loss:0.373078 auc:0.9128\n",
      "epoch:  80 loss:0.371598 auc:0.9135\n",
      "epoch: 100 loss:0.370647 auc:0.9135\n",
      "epoch: 120 loss:0.369543 auc:0.9137\n",
      "epoch: 140 loss:0.367649 auc:0.9139\n",
      "epoch: 160 loss:0.363480 auc:0.9154\n",
      "epoch: 180 loss:0.357810 auc:0.9169\n",
      "epoch: 200 loss:0.352691 auc:0.9182\n",
      "epoch: 220 loss:0.347842 auc:0.9211\n",
      "epoch: 240 loss:0.342734 auc:0.9265\n",
      "epoch: 260 loss:0.334660 auc:0.9245\n",
      "epoch: 280 loss:0.327155 auc:0.9259\n",
      "epoch: 300 loss:0.318944 auc:0.9282\n",
      "epoch: 320 loss:0.311145 auc:0.9269\n",
      "epoch: 340 loss:0.303920 auc:0.9245\n",
      "epoch: 360 loss:0.299767 auc:0.9306\n",
      "epoch: 380 loss:0.292941 auc:0.9244\n"
     ]
    },
    {
     "name": "stderr",
     "output_type": "stream",
     "text": [
      " 68%|██████▊   | 513/756 [1:18:55<37:42,  9.31s/it]"
     ]
    },
    {
     "name": "stdout",
     "output_type": "stream",
     "text": [
      "epoch: 400 loss:0.287679 auc:0.9241\n",
      "Fit finished.\n",
      "epoch:   0 loss:0.818818 auc:0.4267\n",
      "epoch:  20 loss:0.397050 auc:0.8675\n",
      "epoch:  40 loss:0.376137 auc:0.8749\n",
      "epoch:  60 loss:0.372138 auc:0.8747\n",
      "epoch:  80 loss:0.370978 auc:0.8759\n",
      "epoch: 100 loss:0.370151 auc:0.8760\n",
      "epoch: 120 loss:0.369172 auc:0.8756\n",
      "epoch: 140 loss:0.367635 auc:0.8763\n",
      "epoch: 160 loss:0.364720 auc:0.8773\n",
      "epoch: 180 loss:0.359743 auc:0.8779\n",
      "epoch: 200 loss:0.354090 auc:0.8797\n",
      "epoch: 220 loss:0.346907 auc:0.8782\n"
     ]
    },
    {
     "name": "stderr",
     "output_type": "stream",
     "text": [
      " 68%|██████▊   | 514/756 [1:19:02<34:38,  8.59s/it]"
     ]
    },
    {
     "name": "stdout",
     "output_type": "stream",
     "text": [
      "epoch: 240 loss:0.340207 auc:0.8703\n",
      "Fit finished.\n",
      "epoch:   0 loss:0.688788 auc:0.5940\n",
      "epoch:  20 loss:0.392711 auc:0.9113\n",
      "epoch:  40 loss:0.375606 auc:0.9143\n",
      "epoch:  60 loss:0.372132 auc:0.9164\n",
      "epoch:  80 loss:0.371016 auc:0.9167\n",
      "epoch: 100 loss:0.369907 auc:0.9166\n",
      "epoch: 120 loss:0.368101 auc:0.9173\n",
      "epoch: 140 loss:0.364354 auc:0.9188\n",
      "epoch: 160 loss:0.357995 auc:0.9230\n",
      "epoch: 180 loss:0.352013 auc:0.9238\n",
      "epoch: 200 loss:0.344817 auc:0.9235\n"
     ]
    },
    {
     "name": "stderr",
     "output_type": "stream",
     "text": [
      " 68%|██████▊   | 515/756 [1:19:09<32:43,  8.15s/it]"
     ]
    },
    {
     "name": "stdout",
     "output_type": "stream",
     "text": [
      "epoch: 220 loss:0.335208 auc:0.9128\n",
      "Fit finished.\n",
      "epoch:   0 loss:0.765998 auc:0.4746\n",
      "epoch:  20 loss:0.393265 auc:0.9079\n",
      "epoch:  40 loss:0.375425 auc:0.9088\n",
      "epoch:  60 loss:0.372424 auc:0.9085\n",
      "epoch:  80 loss:0.371176 auc:0.9090\n",
      "epoch: 100 loss:0.370143 auc:0.9085\n",
      "epoch: 120 loss:0.368620 auc:0.9091\n",
      "epoch: 140 loss:0.365798 auc:0.9098\n",
      "epoch: 160 loss:0.361214 auc:0.9108\n",
      "epoch: 180 loss:0.356682 auc:0.9121\n",
      "epoch: 200 loss:0.352584 auc:0.9137\n",
      "epoch: 220 loss:0.347929 auc:0.9159\n",
      "epoch: 240 loss:0.341502 auc:0.9180\n",
      "epoch: 260 loss:0.333174 auc:0.9191\n",
      "epoch: 280 loss:0.323295 auc:0.9112\n"
     ]
    },
    {
     "name": "stderr",
     "output_type": "stream",
     "text": [
      " 68%|██████▊   | 516/756 [1:19:19<34:12,  8.55s/it]"
     ]
    },
    {
     "name": "stdout",
     "output_type": "stream",
     "text": [
      "epoch: 300 loss:0.314677 auc:0.9047\n",
      "Fit finished.\n",
      "epoch:   0 loss:0.678727 auc:0.5647\n",
      "epoch:  20 loss:0.386198 auc:0.8989\n",
      "epoch:  40 loss:0.374381 auc:0.8956\n",
      "epoch:  60 loss:0.371779 auc:0.8957\n",
      "epoch:  80 loss:0.370633 auc:0.8961\n",
      "epoch: 100 loss:0.369505 auc:0.8961\n",
      "epoch: 120 loss:0.367873 auc:0.8967\n",
      "epoch: 140 loss:0.364445 auc:0.8988\n",
      "epoch: 160 loss:0.357713 auc:0.9028\n",
      "epoch: 180 loss:0.350428 auc:0.9046\n",
      "epoch: 200 loss:0.340171 auc:0.9015\n"
     ]
    },
    {
     "name": "stderr",
     "output_type": "stream",
     "text": [
      " 68%|██████▊   | 517/756 [1:19:26<32:46,  8.23s/it]"
     ]
    },
    {
     "name": "stdout",
     "output_type": "stream",
     "text": [
      "epoch: 220 loss:0.328995 auc:0.8907\n",
      "Fit finished.\n",
      "epoch:   0 loss:0.900174 auc:0.4853\n",
      "epoch:  20 loss:0.412994 auc:0.8621\n",
      "epoch:  40 loss:0.377422 auc:0.8669\n",
      "epoch:  60 loss:0.372789 auc:0.8661\n",
      "epoch:  80 loss:0.371297 auc:0.8659\n",
      "epoch: 100 loss:0.370395 auc:0.8661\n",
      "epoch: 120 loss:0.369440 auc:0.8664\n",
      "epoch: 140 loss:0.367922 auc:0.8665\n",
      "epoch: 160 loss:0.364758 auc:0.8669\n",
      "epoch: 180 loss:0.359336 auc:0.8661\n"
     ]
    },
    {
     "name": "stderr",
     "output_type": "stream",
     "text": [
      " 69%|██████▊   | 518/756 [1:19:33<30:43,  7.75s/it]"
     ]
    },
    {
     "name": "stdout",
     "output_type": "stream",
     "text": [
      "epoch: 200 loss:0.353808 auc:0.8668\n",
      "Fit finished.\n",
      "epoch:   0 loss:0.826690 auc:0.5041\n",
      "epoch:  20 loss:0.405475 auc:0.8502\n",
      "epoch:  40 loss:0.381230 auc:0.8692\n",
      "epoch:  60 loss:0.373795 auc:0.8728\n",
      "epoch:  80 loss:0.371687 auc:0.8728\n",
      "epoch: 100 loss:0.370800 auc:0.8728\n",
      "epoch: 120 loss:0.370050 auc:0.8729\n",
      "epoch: 140 loss:0.369164 auc:0.8729\n",
      "epoch: 160 loss:0.367838 auc:0.8726\n",
      "epoch: 180 loss:0.365445 auc:0.8721\n",
      "epoch: 200 loss:0.361248 auc:0.8713\n"
     ]
    },
    {
     "name": "stderr",
     "output_type": "stream",
     "text": [
      " 69%|██████▊   | 519/756 [1:19:40<29:34,  7.49s/it]"
     ]
    },
    {
     "name": "stdout",
     "output_type": "stream",
     "text": [
      "epoch: 220 loss:0.356545 auc:0.8702\n",
      "Fit finished.\n",
      "epoch:   0 loss:0.772589 auc:0.4958\n",
      "epoch:  20 loss:0.393189 auc:0.9517\n",
      "epoch:  40 loss:0.376234 auc:0.9516\n",
      "epoch:  60 loss:0.372901 auc:0.9499\n",
      "epoch:  80 loss:0.371675 auc:0.9499\n",
      "epoch: 100 loss:0.370813 auc:0.9493\n",
      "epoch: 120 loss:0.369758 auc:0.9491\n",
      "epoch: 140 loss:0.368010 auc:0.9483\n",
      "epoch: 160 loss:0.364927 auc:0.9471\n"
     ]
    },
    {
     "name": "stderr",
     "output_type": "stream",
     "text": [
      " 69%|██████▉   | 520/756 [1:19:46<27:23,  6.96s/it]"
     ]
    },
    {
     "name": "stdout",
     "output_type": "stream",
     "text": [
      "epoch: 180 loss:0.360488 auc:0.9441\n",
      "Fit finished.\n",
      "epoch:   0 loss:0.792612 auc:0.5978\n",
      "epoch:  20 loss:0.394949 auc:0.9470\n",
      "epoch:  40 loss:0.377108 auc:0.9494\n",
      "epoch:  60 loss:0.372982 auc:0.9494\n",
      "epoch:  80 loss:0.371304 auc:0.9496\n",
      "epoch: 100 loss:0.370318 auc:0.9494\n",
      "epoch: 120 loss:0.369164 auc:0.9492\n",
      "epoch: 140 loss:0.367054 auc:0.9491\n",
      "epoch: 160 loss:0.362912 auc:0.9483\n",
      "epoch: 180 loss:0.358056 auc:0.9473\n"
     ]
    },
    {
     "name": "stderr",
     "output_type": "stream",
     "text": [
      " 69%|██████▉   | 521/756 [1:19:52<26:52,  6.86s/it]"
     ]
    },
    {
     "name": "stdout",
     "output_type": "stream",
     "text": [
      "epoch: 200 loss:0.353930 auc:0.9456\n",
      "Fit finished.\n",
      "epoch:   0 loss:0.742859 auc:0.5963\n",
      "epoch:  20 loss:0.408881 auc:0.9004\n",
      "epoch:  40 loss:0.377421 auc:0.9129\n",
      "epoch:  60 loss:0.373068 auc:0.9159\n",
      "epoch:  80 loss:0.371772 auc:0.9153\n",
      "epoch: 100 loss:0.371067 auc:0.9158\n",
      "epoch: 120 loss:0.370406 auc:0.9155\n",
      "epoch: 140 loss:0.369515 auc:0.9156\n",
      "epoch: 160 loss:0.367993 auc:0.9161\n",
      "epoch: 180 loss:0.365073 auc:0.9173\n",
      "epoch: 200 loss:0.360359 auc:0.9198\n",
      "epoch: 220 loss:0.355540 auc:0.9211\n",
      "epoch: 240 loss:0.352339 auc:0.9193\n",
      "epoch: 260 loss:0.344810 auc:0.9169\n"
     ]
    },
    {
     "name": "stderr",
     "output_type": "stream",
     "text": [
      " 69%|██████▉   | 522/756 [1:20:02<29:57,  7.68s/it]"
     ]
    },
    {
     "name": "stdout",
     "output_type": "stream",
     "text": [
      "epoch: 280 loss:0.339245 auc:0.9130\n",
      "Fit finished.\n",
      "epoch:   0 loss:1.142136 auc:0.5019\n",
      "epoch:  20 loss:0.405540 auc:0.8977\n",
      "epoch:  40 loss:0.378965 auc:0.8986\n",
      "epoch:  60 loss:0.373514 auc:0.8985\n",
      "epoch:  80 loss:0.371820 auc:0.8990\n",
      "epoch: 100 loss:0.371090 auc:0.8988\n",
      "epoch: 120 loss:0.370510 auc:0.8989\n",
      "epoch: 140 loss:0.369868 auc:0.8991\n",
      "epoch: 160 loss:0.368965 auc:0.8992\n",
      "epoch: 180 loss:0.367401 auc:0.8986\n"
     ]
    },
    {
     "name": "stderr",
     "output_type": "stream",
     "text": [
      " 69%|██████▉   | 523/756 [1:20:09<28:54,  7.44s/it]"
     ]
    },
    {
     "name": "stdout",
     "output_type": "stream",
     "text": [
      "epoch: 200 loss:0.364268 auc:0.8964\n",
      "Fit finished.\n",
      "epoch:   0 loss:0.801267 auc:0.4886\n",
      "epoch:  20 loss:0.390201 auc:0.8734\n",
      "epoch:  40 loss:0.375240 auc:0.8778\n",
      "epoch:  60 loss:0.371900 auc:0.8776\n",
      "epoch:  80 loss:0.370752 auc:0.8776\n",
      "epoch: 100 loss:0.369754 auc:0.8775\n",
      "epoch: 120 loss:0.368347 auc:0.8763\n",
      "epoch: 140 loss:0.365608 auc:0.8743\n",
      "epoch: 160 loss:0.360442 auc:0.8688\n"
     ]
    },
    {
     "name": "stderr",
     "output_type": "stream",
     "text": [
      " 69%|██████▉   | 524/756 [1:20:14<26:52,  6.95s/it]"
     ]
    },
    {
     "name": "stdout",
     "output_type": "stream",
     "text": [
      "epoch: 180 loss:0.355060 auc:0.8649\n",
      "Fit finished.\n",
      "epoch:   0 loss:0.796923 auc:0.4912\n",
      "epoch:  20 loss:0.396494 auc:0.9129\n",
      "epoch:  40 loss:0.376958 auc:0.9238\n",
      "epoch:  60 loss:0.372879 auc:0.9237\n",
      "epoch:  80 loss:0.371740 auc:0.9241\n",
      "epoch: 100 loss:0.370952 auc:0.9239\n",
      "epoch: 120 loss:0.370045 auc:0.9241\n",
      "epoch: 140 loss:0.368627 auc:0.9237\n",
      "epoch: 160 loss:0.365971 auc:0.9233\n",
      "epoch: 180 loss:0.361127 auc:0.9223\n"
     ]
    },
    {
     "name": "stderr",
     "output_type": "stream",
     "text": [
      " 69%|██████▉   | 525/756 [1:20:21<26:33,  6.90s/it]"
     ]
    },
    {
     "name": "stdout",
     "output_type": "stream",
     "text": [
      "epoch: 200 loss:0.355637 auc:0.9219\n",
      "Fit finished.\n",
      "epoch:   0 loss:0.731796 auc:0.5689\n",
      "epoch:  20 loss:0.400531 auc:0.9100\n",
      "epoch:  40 loss:0.379270 auc:0.9129\n",
      "epoch:  60 loss:0.373997 auc:0.9146\n",
      "epoch:  80 loss:0.372014 auc:0.9155\n",
      "epoch: 100 loss:0.371067 auc:0.9157\n",
      "epoch: 120 loss:0.370304 auc:0.9157\n",
      "epoch: 140 loss:0.369408 auc:0.9155\n",
      "epoch: 160 loss:0.368094 auc:0.9157\n",
      "epoch: 180 loss:0.365822 auc:0.9162\n",
      "epoch: 200 loss:0.362058 auc:0.9165\n",
      "epoch: 220 loss:0.357817 auc:0.9176\n",
      "epoch: 240 loss:0.353885 auc:0.9195\n",
      "epoch: 260 loss:0.349792 auc:0.9201\n",
      "epoch: 280 loss:0.345415 auc:0.9170\n"
     ]
    },
    {
     "name": "stderr",
     "output_type": "stream",
     "text": [
      " 70%|██████▉   | 526/756 [1:20:31<30:04,  7.84s/it]"
     ]
    },
    {
     "name": "stdout",
     "output_type": "stream",
     "text": [
      "epoch: 300 loss:0.338410 auc:0.9136\n",
      "Fit finished.\n",
      "epoch:   0 loss:0.689259 auc:0.5442\n",
      "epoch:  20 loss:0.385544 auc:0.9118\n",
      "epoch:  40 loss:0.374494 auc:0.9146\n",
      "epoch:  60 loss:0.371618 auc:0.9156\n",
      "epoch:  80 loss:0.370418 auc:0.9150\n",
      "epoch: 100 loss:0.368937 auc:0.9147\n",
      "epoch: 120 loss:0.365898 auc:0.9141\n",
      "epoch: 140 loss:0.359939 auc:0.9130\n",
      "epoch: 160 loss:0.353807 auc:0.9116\n"
     ]
    },
    {
     "name": "stderr",
     "output_type": "stream",
     "text": [
      " 70%|██████▉   | 527/756 [1:20:37<27:30,  7.21s/it]"
     ]
    },
    {
     "name": "stdout",
     "output_type": "stream",
     "text": [
      "epoch: 180 loss:0.347704 auc:0.9083\n",
      "Fit finished.\n",
      "epoch:   0 loss:0.935882 auc:0.3423\n",
      "epoch:  20 loss:0.406847 auc:0.9219\n",
      "epoch:  40 loss:0.381428 auc:0.9343\n",
      "epoch:  60 loss:0.374626 auc:0.9356\n",
      "epoch:  80 loss:0.372707 auc:0.9367\n",
      "epoch: 100 loss:0.372005 auc:0.9360\n",
      "epoch: 120 loss:0.371585 auc:0.9364\n",
      "epoch: 140 loss:0.371225 auc:0.9364\n",
      "epoch: 160 loss:0.370851 auc:0.9366\n",
      "epoch: 180 loss:0.370419 auc:0.9366\n",
      "epoch: 200 loss:0.369864 auc:0.9365\n",
      "epoch: 220 loss:0.369059 auc:0.9368\n"
     ]
    },
    {
     "name": "stderr",
     "output_type": "stream",
     "text": [
      " 70%|██████▉   | 528/756 [1:20:44<27:28,  7.23s/it]"
     ]
    },
    {
     "name": "stdout",
     "output_type": "stream",
     "text": [
      "epoch: 240 loss:0.367678 auc:0.9366\n",
      "Fit finished.\n",
      "epoch:   0 loss:0.728237 auc:0.5828\n",
      "epoch:  20 loss:0.393161 auc:0.8855\n",
      "epoch:  40 loss:0.374443 auc:0.8902\n",
      "epoch:  60 loss:0.371911 auc:0.8929\n",
      "epoch:  80 loss:0.370629 auc:0.8935\n",
      "epoch: 100 loss:0.369442 auc:0.8926\n",
      "epoch: 120 loss:0.367558 auc:0.8919\n",
      "epoch: 140 loss:0.363760 auc:0.8905\n",
      "epoch: 160 loss:0.358271 auc:0.8860\n"
     ]
    },
    {
     "name": "stderr",
     "output_type": "stream",
     "text": [
      " 70%|██████▉   | 529/756 [1:20:50<25:49,  6.83s/it]"
     ]
    },
    {
     "name": "stdout",
     "output_type": "stream",
     "text": [
      "epoch: 180 loss:0.352340 auc:0.8831\n",
      "Fit finished.\n",
      "epoch:   0 loss:0.763065 auc:0.5362\n",
      "epoch:  20 loss:0.404699 auc:0.9566\n",
      "epoch:  40 loss:0.377163 auc:0.9577\n",
      "epoch:  60 loss:0.372600 auc:0.9562\n",
      "epoch:  80 loss:0.371075 auc:0.9575\n",
      "epoch: 100 loss:0.370101 auc:0.9571\n",
      "epoch: 120 loss:0.369100 auc:0.9571\n",
      "epoch: 140 loss:0.367627 auc:0.9566\n",
      "epoch: 160 loss:0.364811 auc:0.9564\n",
      "epoch: 180 loss:0.359928 auc:0.9566\n"
     ]
    },
    {
     "name": "stderr",
     "output_type": "stream",
     "text": [
      " 70%|███████   | 530/756 [1:20:57<25:38,  6.81s/it]"
     ]
    },
    {
     "name": "stdout",
     "output_type": "stream",
     "text": [
      "epoch: 200 loss:0.354283 auc:0.9570\n",
      "Fit finished.\n",
      "epoch:   0 loss:0.767088 auc:0.5383\n",
      "epoch:  20 loss:0.393839 auc:0.8849\n",
      "epoch:  40 loss:0.376809 auc:0.8908\n",
      "epoch:  60 loss:0.372593 auc:0.8905\n",
      "epoch:  80 loss:0.371518 auc:0.8902\n",
      "epoch: 100 loss:0.370945 auc:0.8901\n",
      "epoch: 120 loss:0.370362 auc:0.8899\n",
      "epoch: 140 loss:0.369565 auc:0.8898\n",
      "epoch: 160 loss:0.368245 auc:0.8899\n",
      "epoch: 180 loss:0.365664 auc:0.8903\n"
     ]
    },
    {
     "name": "stderr",
     "output_type": "stream",
     "text": [
      " 70%|███████   | 531/756 [1:21:02<23:59,  6.40s/it]"
     ]
    },
    {
     "name": "stdout",
     "output_type": "stream",
     "text": [
      "epoch: 200 loss:0.360797 auc:0.8877\n",
      "Fit finished.\n",
      "epoch:   0 loss:0.840907 auc:0.4370\n",
      "epoch:  20 loss:0.390877 auc:0.9267\n",
      "epoch:  40 loss:0.374992 auc:0.9241\n",
      "epoch:  60 loss:0.372167 auc:0.9250\n",
      "epoch:  80 loss:0.370911 auc:0.9246\n",
      "epoch: 100 loss:0.369863 auc:0.9244\n",
      "epoch: 120 loss:0.368285 auc:0.9238\n",
      "epoch: 140 loss:0.365085 auc:0.9223\n",
      "epoch: 160 loss:0.359027 auc:0.9180\n"
     ]
    },
    {
     "name": "stderr",
     "output_type": "stream",
     "text": [
      " 70%|███████   | 532/756 [1:21:09<23:55,  6.41s/it]"
     ]
    },
    {
     "name": "stdout",
     "output_type": "stream",
     "text": [
      "epoch: 180 loss:0.351949 auc:0.9163\n",
      "Fit finished.\n",
      "epoch:   0 loss:0.862027 auc:0.4076\n",
      "epoch:  20 loss:0.404904 auc:0.9401\n",
      "epoch:  40 loss:0.377863 auc:0.9417\n",
      "epoch:  60 loss:0.373271 auc:0.9420\n",
      "epoch:  80 loss:0.371723 auc:0.9423\n",
      "epoch: 100 loss:0.370935 auc:0.9423\n",
      "epoch: 120 loss:0.370127 auc:0.9426\n",
      "epoch: 140 loss:0.368984 auc:0.9426\n",
      "epoch: 160 loss:0.366956 auc:0.9434\n",
      "epoch: 180 loss:0.363057 auc:0.9454\n",
      "epoch: 200 loss:0.358101 auc:0.9485\n",
      "epoch: 220 loss:0.353006 auc:0.9525\n",
      "epoch: 240 loss:0.347267 auc:0.9564\n",
      "epoch: 260 loss:0.340807 auc:0.9462\n",
      "epoch: 280 loss:0.331907 auc:0.9469\n",
      "epoch: 300 loss:0.324853 auc:0.9433\n"
     ]
    },
    {
     "name": "stderr",
     "output_type": "stream",
     "text": [
      " 71%|███████   | 533/756 [1:21:19<27:45,  7.47s/it]"
     ]
    },
    {
     "name": "stdout",
     "output_type": "stream",
     "text": [
      "epoch: 320 loss:0.316795 auc:0.9351\n",
      "Fit finished.\n",
      "epoch:   0 loss:0.773935 auc:0.4103\n",
      "epoch:  20 loss:0.388217 auc:0.9587\n",
      "epoch:  40 loss:0.374366 auc:0.9570\n",
      "epoch:  60 loss:0.371339 auc:0.9577\n",
      "epoch:  80 loss:0.369964 auc:0.9578\n",
      "epoch: 100 loss:0.368043 auc:0.9583\n",
      "epoch: 120 loss:0.363891 auc:0.9595\n",
      "epoch: 140 loss:0.357115 auc:0.9612\n",
      "epoch: 160 loss:0.348252 auc:0.9630\n",
      "epoch: 180 loss:0.337840 auc:0.9679\n",
      "epoch: 200 loss:0.325367 auc:0.9629\n",
      "epoch: 220 loss:0.317077 auc:0.9581\n"
     ]
    },
    {
     "name": "stderr",
     "output_type": "stream",
     "text": [
      " 71%|███████   | 534/756 [1:21:26<27:49,  7.52s/it]"
     ]
    },
    {
     "name": "stdout",
     "output_type": "stream",
     "text": [
      "epoch: 240 loss:0.305472 auc:0.9542\n",
      "Fit finished.\n",
      "epoch:   0 loss:0.752573 auc:0.5552\n",
      "epoch:  20 loss:0.397948 auc:0.7254\n",
      "epoch:  40 loss:0.375074 auc:0.7258\n",
      "epoch:  60 loss:0.371897 auc:0.7271\n",
      "epoch:  80 loss:0.370701 auc:0.7275\n",
      "epoch: 100 loss:0.369954 auc:0.7277\n",
      "epoch: 120 loss:0.369157 auc:0.7271\n",
      "epoch: 140 loss:0.367997 auc:0.7268\n",
      "epoch: 160 loss:0.365869 auc:0.7264\n",
      "epoch: 180 loss:0.361890 auc:0.7254\n"
     ]
    },
    {
     "name": "stderr",
     "output_type": "stream",
     "text": [
      " 71%|███████   | 535/756 [1:21:32<26:03,  7.07s/it]"
     ]
    },
    {
     "name": "stdout",
     "output_type": "stream",
     "text": [
      "epoch: 200 loss:0.357242 auc:0.7248\n",
      "Fit finished.\n",
      "epoch:   0 loss:0.797535 auc:0.4833\n",
      "epoch:  20 loss:0.392207 auc:0.8435\n",
      "epoch:  40 loss:0.376460 auc:0.8434\n",
      "epoch:  60 loss:0.372756 auc:0.8440\n",
      "epoch:  80 loss:0.371436 auc:0.8439\n",
      "epoch: 100 loss:0.370603 auc:0.8445\n",
      "epoch: 120 loss:0.369583 auc:0.8449\n",
      "epoch: 140 loss:0.367844 auc:0.8443\n",
      "epoch: 160 loss:0.364438 auc:0.8440\n"
     ]
    },
    {
     "name": "stderr",
     "output_type": "stream",
     "text": [
      " 71%|███████   | 536/756 [1:21:39<25:02,  6.83s/it]"
     ]
    },
    {
     "name": "stdout",
     "output_type": "stream",
     "text": [
      "epoch: 180 loss:0.359305 auc:0.8432\n",
      "Fit finished.\n",
      "epoch:   0 loss:0.750405 auc:0.5253\n",
      "epoch:  20 loss:0.393443 auc:0.9091\n",
      "epoch:  40 loss:0.375429 auc:0.9134\n",
      "epoch:  60 loss:0.371633 auc:0.9135\n",
      "epoch:  80 loss:0.370317 auc:0.9140\n",
      "epoch: 100 loss:0.368982 auc:0.9136\n",
      "epoch: 120 loss:0.366723 auc:0.9134\n",
      "epoch: 140 loss:0.361909 auc:0.9104\n",
      "epoch: 160 loss:0.354896 auc:0.9063\n"
     ]
    },
    {
     "name": "stderr",
     "output_type": "stream",
     "text": [
      " 71%|███████   | 537/756 [1:21:45<23:55,  6.55s/it]"
     ]
    },
    {
     "name": "stdout",
     "output_type": "stream",
     "text": [
      "epoch: 180 loss:0.348225 auc:0.9073\n",
      "Fit finished.\n",
      "epoch:   0 loss:0.881037 auc:0.4602\n",
      "epoch:  20 loss:0.392981 auc:0.9033\n",
      "epoch:  40 loss:0.375353 auc:0.9087\n",
      "epoch:  60 loss:0.372379 auc:0.9073\n",
      "epoch:  80 loss:0.371279 auc:0.9082\n",
      "epoch: 100 loss:0.370573 auc:0.9081\n",
      "epoch: 120 loss:0.369800 auc:0.9086\n",
      "epoch: 140 loss:0.368664 auc:0.9091\n",
      "epoch: 160 loss:0.366596 auc:0.9098\n",
      "epoch: 180 loss:0.362526 auc:0.9101\n",
      "epoch: 200 loss:0.357090 auc:0.9099\n",
      "epoch: 220 loss:0.350641 auc:0.9095\n"
     ]
    },
    {
     "name": "stderr",
     "output_type": "stream",
     "text": [
      " 71%|███████   | 538/756 [1:21:53<25:55,  7.14s/it]"
     ]
    },
    {
     "name": "stdout",
     "output_type": "stream",
     "text": [
      "epoch: 240 loss:0.343228 auc:0.9059\n",
      "Fit finished.\n",
      "epoch:   0 loss:0.728536 auc:0.5333\n",
      "epoch:  20 loss:0.399782 auc:0.9425\n",
      "epoch:  40 loss:0.377981 auc:0.9544\n",
      "epoch:  60 loss:0.373538 auc:0.9541\n",
      "epoch:  80 loss:0.371891 auc:0.9542\n",
      "epoch: 100 loss:0.371044 auc:0.9534\n",
      "epoch: 120 loss:0.370256 auc:0.9536\n",
      "epoch: 140 loss:0.369277 auc:0.9536\n",
      "epoch: 160 loss:0.367683 auc:0.9534\n",
      "epoch: 180 loss:0.364527 auc:0.9532\n"
     ]
    },
    {
     "name": "stderr",
     "output_type": "stream",
     "text": [
      " 71%|███████▏  | 539/756 [1:21:59<24:51,  6.87s/it]"
     ]
    },
    {
     "name": "stdout",
     "output_type": "stream",
     "text": [
      "epoch: 200 loss:0.359750 auc:0.9532\n",
      "Fit finished.\n",
      "epoch:   0 loss:0.763625 auc:0.4985\n",
      "epoch:  20 loss:0.392883 auc:0.9675\n",
      "epoch:  40 loss:0.377712 auc:0.9721\n",
      "epoch:  60 loss:0.373372 auc:0.9712\n",
      "epoch:  80 loss:0.371955 auc:0.9714\n",
      "epoch: 100 loss:0.371164 auc:0.9714\n",
      "epoch: 120 loss:0.370416 auc:0.9713\n",
      "epoch: 140 loss:0.369428 auc:0.9712\n",
      "epoch: 160 loss:0.367774 auc:0.9712\n",
      "epoch: 180 loss:0.363816 auc:0.9706\n"
     ]
    },
    {
     "name": "stderr",
     "output_type": "stream",
     "text": [
      " 71%|███████▏  | 540/756 [1:22:05<23:48,  6.62s/it]"
     ]
    },
    {
     "name": "stdout",
     "output_type": "stream",
     "text": [
      "epoch: 200 loss:0.357605 auc:0.9698\n",
      "Fit finished.\n",
      "epoch:   0 loss:0.845538 auc:0.4957\n",
      "epoch:  20 loss:0.405457 auc:0.9280\n",
      "epoch:  40 loss:0.380349 auc:0.9454\n",
      "epoch:  60 loss:0.374667 auc:0.9485\n",
      "epoch:  80 loss:0.372611 auc:0.9500\n",
      "epoch: 100 loss:0.371817 auc:0.9503\n",
      "epoch: 120 loss:0.371308 auc:0.9502\n",
      "epoch: 140 loss:0.370805 auc:0.9502\n",
      "epoch: 160 loss:0.370191 auc:0.9501\n",
      "epoch: 180 loss:0.369341 auc:0.9499\n",
      "epoch: 200 loss:0.367972 auc:0.9496\n",
      "epoch: 220 loss:0.365624 auc:0.9492\n"
     ]
    },
    {
     "name": "stderr",
     "output_type": "stream",
     "text": [
      " 72%|███████▏  | 541/756 [1:22:13<24:51,  6.94s/it]"
     ]
    },
    {
     "name": "stdout",
     "output_type": "stream",
     "text": [
      "epoch: 240 loss:0.362224 auc:0.9489\n",
      "Fit finished.\n",
      "epoch:   0 loss:0.726501 auc:0.5454\n",
      "epoch:  20 loss:0.393141 auc:0.9672\n",
      "epoch:  40 loss:0.375718 auc:0.9677\n",
      "epoch:  60 loss:0.372385 auc:0.9681\n",
      "epoch:  80 loss:0.371005 auc:0.9680\n",
      "epoch: 100 loss:0.369815 auc:0.9679\n",
      "epoch: 120 loss:0.368047 auc:0.9680\n",
      "epoch: 140 loss:0.364800 auc:0.9682\n",
      "epoch: 160 loss:0.359793 auc:0.9680\n"
     ]
    },
    {
     "name": "stderr",
     "output_type": "stream",
     "text": [
      " 72%|███████▏  | 542/756 [1:22:19<23:58,  6.72s/it]"
     ]
    },
    {
     "name": "stdout",
     "output_type": "stream",
     "text": [
      "epoch: 180 loss:0.354270 auc:0.9667\n",
      "Fit finished.\n",
      "epoch:   0 loss:0.725969 auc:0.6539\n",
      "epoch:  20 loss:0.382143 auc:0.9385\n",
      "epoch:  40 loss:0.373428 auc:0.9396\n",
      "epoch:  60 loss:0.371368 auc:0.9398\n",
      "epoch:  80 loss:0.369844 auc:0.9399\n",
      "epoch: 100 loss:0.367517 auc:0.9402\n",
      "epoch: 120 loss:0.362315 auc:0.9402\n",
      "epoch: 140 loss:0.355227 auc:0.9412\n",
      "epoch: 160 loss:0.346723 auc:0.9391\n"
     ]
    },
    {
     "name": "stderr",
     "output_type": "stream",
     "text": [
      " 72%|███████▏  | 543/756 [1:22:25<22:57,  6.47s/it]"
     ]
    },
    {
     "name": "stdout",
     "output_type": "stream",
     "text": [
      "epoch: 180 loss:0.336494 auc:0.9275\n",
      "Fit finished.\n",
      "epoch:   0 loss:0.952655 auc:0.4888\n",
      "epoch:  20 loss:0.409594 auc:0.9348\n",
      "epoch:  40 loss:0.379969 auc:0.9365\n",
      "epoch:  60 loss:0.373918 auc:0.9377\n",
      "epoch:  80 loss:0.371864 auc:0.9380\n",
      "epoch: 100 loss:0.370839 auc:0.9375\n",
      "epoch: 120 loss:0.369953 auc:0.9377\n",
      "epoch: 140 loss:0.368764 auc:0.9379\n",
      "epoch: 160 loss:0.366596 auc:0.9391\n",
      "epoch: 180 loss:0.362492 auc:0.9410\n",
      "epoch: 200 loss:0.358154 auc:0.9420\n",
      "epoch: 220 loss:0.353789 auc:0.9431\n",
      "epoch: 240 loss:0.349571 auc:0.9451\n",
      "epoch: 260 loss:0.343358 auc:0.9442\n",
      "epoch: 280 loss:0.335994 auc:0.9383\n"
     ]
    },
    {
     "name": "stderr",
     "output_type": "stream",
     "text": [
      " 72%|███████▏  | 544/756 [1:22:35<26:37,  7.54s/it]"
     ]
    },
    {
     "name": "stdout",
     "output_type": "stream",
     "text": [
      "epoch: 300 loss:0.328516 auc:0.9325\n",
      "Fit finished.\n",
      "epoch:   0 loss:0.752517 auc:0.5888\n",
      "epoch:  20 loss:0.396626 auc:0.9103\n",
      "epoch:  40 loss:0.376889 auc:0.9192\n",
      "epoch:  60 loss:0.372409 auc:0.9217\n",
      "epoch:  80 loss:0.370884 auc:0.9218\n",
      "epoch: 100 loss:0.369576 auc:0.9215\n",
      "epoch: 120 loss:0.367214 auc:0.9213\n",
      "epoch: 140 loss:0.362007 auc:0.9203\n",
      "epoch: 160 loss:0.355665 auc:0.9180\n",
      "epoch: 180 loss:0.349145 auc:0.9182\n"
     ]
    },
    {
     "name": "stderr",
     "output_type": "stream",
     "text": [
      " 72%|███████▏  | 545/756 [1:22:41<25:09,  7.16s/it]"
     ]
    },
    {
     "name": "stdout",
     "output_type": "stream",
     "text": [
      "epoch: 200 loss:0.341623 auc:0.9174\n",
      "Fit finished.\n",
      "epoch:   0 loss:0.758263 auc:0.4374\n",
      "epoch:  20 loss:0.394684 auc:0.8556\n",
      "epoch:  40 loss:0.375333 auc:0.8613\n",
      "epoch:  60 loss:0.372337 auc:0.8616\n",
      "epoch:  80 loss:0.371172 auc:0.8615\n",
      "epoch: 100 loss:0.370331 auc:0.8618\n",
      "epoch: 120 loss:0.369332 auc:0.8621\n",
      "epoch: 140 loss:0.367683 auc:0.8618\n",
      "epoch: 160 loss:0.364127 auc:0.8612\n",
      "epoch: 180 loss:0.358147 auc:0.8600\n"
     ]
    },
    {
     "name": "stderr",
     "output_type": "stream",
     "text": [
      " 72%|███████▏  | 546/756 [1:22:48<24:16,  6.93s/it]"
     ]
    },
    {
     "name": "stdout",
     "output_type": "stream",
     "text": [
      "epoch: 200 loss:0.351904 auc:0.8567\n",
      "Fit finished.\n",
      "epoch:   0 loss:0.938047 auc:0.5180\n",
      "epoch:  20 loss:0.437474 auc:0.9124\n",
      "epoch:  40 loss:0.386969 auc:0.9172\n",
      "epoch:  60 loss:0.375307 auc:0.9165\n",
      "epoch:  80 loss:0.372635 auc:0.9166\n",
      "epoch: 100 loss:0.371589 auc:0.9165\n",
      "epoch: 120 loss:0.370918 auc:0.9164\n",
      "epoch: 140 loss:0.370264 auc:0.9164\n",
      "epoch: 160 loss:0.369466 auc:0.9164\n",
      "epoch: 180 loss:0.368323 auc:0.9163\n"
     ]
    },
    {
     "name": "stderr",
     "output_type": "stream",
     "text": [
      " 72%|███████▏  | 547/756 [1:22:54<23:28,  6.74s/it]"
     ]
    },
    {
     "name": "stdout",
     "output_type": "stream",
     "text": [
      "epoch: 200 loss:0.366447 auc:0.9154\n",
      "Fit finished.\n",
      "epoch:   0 loss:0.925685 auc:0.3746\n",
      "epoch:  20 loss:0.409827 auc:0.9330\n",
      "epoch:  40 loss:0.377616 auc:0.9368\n",
      "epoch:  60 loss:0.372678 auc:0.9366\n",
      "epoch:  80 loss:0.371332 auc:0.9367\n",
      "epoch: 100 loss:0.370456 auc:0.9368\n",
      "epoch: 120 loss:0.369322 auc:0.9369\n",
      "epoch: 140 loss:0.367372 auc:0.9367\n",
      "epoch: 160 loss:0.363852 auc:0.9363\n",
      "epoch: 180 loss:0.359106 auc:0.9362\n",
      "epoch: 200 loss:0.354207 auc:0.9387\n",
      "epoch: 220 loss:0.355308 auc:0.9395\n",
      "epoch: 240 loss:0.343857 auc:0.9412\n",
      "epoch: 260 loss:0.336014 auc:0.9430\n",
      "epoch: 280 loss:0.328783 auc:0.9428\n",
      "epoch: 300 loss:0.321672 auc:0.9405\n"
     ]
    },
    {
     "name": "stderr",
     "output_type": "stream",
     "text": [
      " 72%|███████▏  | 548/756 [1:23:05<27:40,  7.98s/it]"
     ]
    },
    {
     "name": "stdout",
     "output_type": "stream",
     "text": [
      "epoch: 320 loss:0.314730 auc:0.9332\n",
      "Fit finished.\n",
      "epoch:   0 loss:0.899868 auc:0.4047\n",
      "epoch:  20 loss:0.399192 auc:0.9205\n",
      "epoch:  40 loss:0.378149 auc:0.9292\n",
      "epoch:  60 loss:0.373155 auc:0.9300\n",
      "epoch:  80 loss:0.371601 auc:0.9309\n",
      "epoch: 100 loss:0.370723 auc:0.9312\n",
      "epoch: 120 loss:0.369816 auc:0.9316\n",
      "epoch: 140 loss:0.368525 auc:0.9319\n",
      "epoch: 160 loss:0.366219 auc:0.9328\n",
      "epoch: 180 loss:0.362078 auc:0.9343\n",
      "epoch: 200 loss:0.357324 auc:0.9374\n",
      "epoch: 220 loss:0.352377 auc:0.9389\n",
      "epoch: 240 loss:0.346474 auc:0.9417\n",
      "epoch: 260 loss:0.337575 auc:0.9436\n",
      "epoch: 280 loss:0.329095 auc:0.9419\n",
      "epoch: 300 loss:0.321518 auc:0.9431\n",
      "epoch: 320 loss:0.315119 auc:0.9413\n",
      "epoch: 340 loss:0.308622 auc:0.9394\n"
     ]
    },
    {
     "name": "stderr",
     "output_type": "stream",
     "text": [
      " 73%|███████▎  | 549/756 [1:23:17<31:19,  9.08s/it]"
     ]
    },
    {
     "name": "stdout",
     "output_type": "stream",
     "text": [
      "epoch: 360 loss:0.301223 auc:0.9355\n",
      "Fit finished.\n",
      "epoch:   0 loss:0.778885 auc:0.3928\n",
      "epoch:  20 loss:0.383156 auc:0.9437\n",
      "epoch:  40 loss:0.372907 auc:0.9446\n",
      "epoch:  60 loss:0.370758 auc:0.9448\n",
      "epoch:  80 loss:0.368620 auc:0.9446\n",
      "epoch: 100 loss:0.363759 auc:0.9444\n",
      "epoch: 120 loss:0.358323 auc:0.9436\n",
      "epoch: 140 loss:0.348933 auc:0.9444\n",
      "epoch: 160 loss:0.347616 auc:0.9470\n",
      "epoch: 180 loss:0.327085 auc:0.9493\n",
      "epoch: 200 loss:0.315383 auc:0.9482\n"
     ]
    },
    {
     "name": "stderr",
     "output_type": "stream",
     "text": [
      " 73%|███████▎  | 550/756 [1:23:24<28:53,  8.42s/it]"
     ]
    },
    {
     "name": "stdout",
     "output_type": "stream",
     "text": [
      "epoch: 220 loss:0.305146 auc:0.9425\n",
      "Fit finished.\n",
      "epoch:   0 loss:0.710938 auc:0.5216\n",
      "epoch:  20 loss:0.396614 auc:0.9593\n",
      "epoch:  40 loss:0.377049 auc:0.9611\n",
      "epoch:  60 loss:0.372844 auc:0.9618\n",
      "epoch:  80 loss:0.371691 auc:0.9617\n",
      "epoch: 100 loss:0.370838 auc:0.9619\n",
      "epoch: 120 loss:0.369845 auc:0.9616\n",
      "epoch: 140 loss:0.368283 auc:0.9613\n",
      "epoch: 160 loss:0.365372 auc:0.9609\n",
      "epoch: 180 loss:0.360710 auc:0.9602\n"
     ]
    },
    {
     "name": "stderr",
     "output_type": "stream",
     "text": [
      " 73%|███████▎  | 551/756 [1:23:30<26:43,  7.82s/it]"
     ]
    },
    {
     "name": "stdout",
     "output_type": "stream",
     "text": [
      "epoch: 200 loss:0.355629 auc:0.9598\n",
      "Fit finished.\n",
      "epoch:   0 loss:0.791749 auc:0.5355\n",
      "epoch:  20 loss:0.400266 auc:0.9210\n",
      "epoch:  40 loss:0.378963 auc:0.9332\n",
      "epoch:  60 loss:0.373331 auc:0.9346\n",
      "epoch:  80 loss:0.371562 auc:0.9346\n",
      "epoch: 100 loss:0.370611 auc:0.9346\n",
      "epoch: 120 loss:0.369641 auc:0.9345\n",
      "epoch: 140 loss:0.368276 auc:0.9347\n",
      "epoch: 160 loss:0.365919 auc:0.9341\n",
      "epoch: 180 loss:0.361986 auc:0.9331\n"
     ]
    },
    {
     "name": "stderr",
     "output_type": "stream",
     "text": [
      " 73%|███████▎  | 552/756 [1:23:37<26:07,  7.69s/it]"
     ]
    },
    {
     "name": "stdout",
     "output_type": "stream",
     "text": [
      "epoch: 200 loss:0.357440 auc:0.9326\n",
      "Fit finished.\n",
      "epoch:   0 loss:0.793398 auc:0.3819\n",
      "epoch:  20 loss:0.393269 auc:0.9177\n",
      "epoch:  40 loss:0.375080 auc:0.9260\n",
      "epoch:  60 loss:0.372515 auc:0.9259\n",
      "epoch:  80 loss:0.371414 auc:0.9267\n",
      "epoch: 100 loss:0.370441 auc:0.9270\n",
      "epoch: 120 loss:0.368884 auc:0.9264\n",
      "epoch: 140 loss:0.365531 auc:0.9243\n",
      "epoch: 160 loss:0.359605 auc:0.9207\n",
      "epoch: 180 loss:0.353459 auc:0.9184\n"
     ]
    },
    {
     "name": "stderr",
     "output_type": "stream",
     "text": [
      " 73%|███████▎  | 553/756 [1:23:43<24:25,  7.22s/it]"
     ]
    },
    {
     "name": "stdout",
     "output_type": "stream",
     "text": [
      "epoch: 200 loss:0.348861 auc:0.9135\n",
      "Fit finished.\n",
      "epoch:   0 loss:0.772326 auc:0.4806\n",
      "epoch:  20 loss:0.397300 auc:0.9129\n",
      "epoch:  40 loss:0.378313 auc:0.9200\n",
      "epoch:  60 loss:0.373266 auc:0.9227\n",
      "epoch:  80 loss:0.371681 auc:0.9229\n",
      "epoch: 100 loss:0.370766 auc:0.9227\n",
      "epoch: 120 loss:0.369862 auc:0.9223\n",
      "epoch: 140 loss:0.368715 auc:0.9223\n",
      "epoch: 160 loss:0.366896 auc:0.9220\n",
      "epoch: 180 loss:0.363492 auc:0.9211\n"
     ]
    },
    {
     "name": "stderr",
     "output_type": "stream",
     "text": [
      " 73%|███████▎  | 554/756 [1:23:50<23:35,  7.01s/it]"
     ]
    },
    {
     "name": "stdout",
     "output_type": "stream",
     "text": [
      "epoch: 200 loss:0.358426 auc:0.9171\n",
      "Fit finished.\n",
      "epoch:   0 loss:0.741538 auc:0.5655\n",
      "epoch:  20 loss:0.384302 auc:0.8861\n",
      "epoch:  40 loss:0.373581 auc:0.8857\n",
      "epoch:  60 loss:0.371289 auc:0.8869\n",
      "epoch:  80 loss:0.369763 auc:0.8871\n",
      "epoch: 100 loss:0.366992 auc:0.8876\n",
      "epoch: 120 loss:0.361394 auc:0.8887\n",
      "epoch: 140 loss:0.354769 auc:0.8909\n",
      "epoch: 160 loss:0.346648 auc:0.8912\n",
      "epoch: 180 loss:0.336495 auc:0.8926\n",
      "epoch: 200 loss:0.326027 auc:0.8921\n",
      "epoch: 220 loss:0.318707 auc:0.8974\n",
      "epoch: 240 loss:0.308319 auc:0.8975\n",
      "epoch: 260 loss:0.300540 auc:0.8952\n",
      "epoch: 280 loss:0.294356 auc:0.8940\n",
      "epoch: 300 loss:0.288122 auc:0.8955\n"
     ]
    },
    {
     "name": "stderr",
     "output_type": "stream",
     "text": [
      " 73%|███████▎  | 555/756 [1:24:00<26:55,  8.04s/it]"
     ]
    },
    {
     "name": "stdout",
     "output_type": "stream",
     "text": [
      "epoch: 320 loss:0.283116 auc:0.8878\n",
      "Fit finished.\n",
      "epoch:   0 loss:0.795725 auc:0.5758\n",
      "epoch:  20 loss:0.388247 auc:0.9116\n",
      "epoch:  40 loss:0.374139 auc:0.9148\n",
      "epoch:  60 loss:0.371325 auc:0.9159\n",
      "epoch:  80 loss:0.369929 auc:0.9159\n",
      "epoch: 100 loss:0.368305 auc:0.9163\n",
      "epoch: 120 loss:0.365591 auc:0.9161\n",
      "epoch: 140 loss:0.361000 auc:0.9156\n",
      "epoch: 160 loss:0.355353 auc:0.9155\n",
      "epoch: 180 loss:0.347951 auc:0.9159\n"
     ]
    },
    {
     "name": "stderr",
     "output_type": "stream",
     "text": [
      " 74%|███████▎  | 556/756 [1:24:07<24:59,  7.50s/it]"
     ]
    },
    {
     "name": "stdout",
     "output_type": "stream",
     "text": [
      "epoch: 200 loss:0.343467 auc:0.9138\n",
      "Fit finished.\n",
      "epoch:   0 loss:0.816672 auc:0.5201\n",
      "epoch:  20 loss:0.386022 auc:0.8730\n",
      "epoch:  40 loss:0.373579 auc:0.8782\n",
      "epoch:  60 loss:0.370978 auc:0.8775\n",
      "epoch:  80 loss:0.369594 auc:0.8765\n",
      "epoch: 100 loss:0.367489 auc:0.8759\n",
      "epoch: 120 loss:0.363245 auc:0.8739\n",
      "epoch: 140 loss:0.356990 auc:0.8701\n",
      "epoch: 160 loss:0.349708 auc:0.8658\n"
     ]
    },
    {
     "name": "stderr",
     "output_type": "stream",
     "text": [
      " 74%|███████▎  | 557/756 [1:24:13<24:05,  7.26s/it]"
     ]
    },
    {
     "name": "stdout",
     "output_type": "stream",
     "text": [
      "epoch: 180 loss:0.345611 auc:0.8606\n",
      "Fit finished.\n",
      "epoch:   0 loss:0.880606 auc:0.3348\n",
      "epoch:  20 loss:0.400955 auc:0.9161\n",
      "epoch:  40 loss:0.378330 auc:0.9172\n",
      "epoch:  60 loss:0.374016 auc:0.9166\n",
      "epoch:  80 loss:0.372224 auc:0.9171\n",
      "epoch: 100 loss:0.371320 auc:0.9171\n",
      "epoch: 120 loss:0.370563 auc:0.9173\n",
      "epoch: 140 loss:0.369665 auc:0.9173\n",
      "epoch: 160 loss:0.368299 auc:0.9180\n",
      "epoch: 180 loss:0.365840 auc:0.9190\n",
      "epoch: 200 loss:0.361694 auc:0.9210\n",
      "epoch: 220 loss:0.356898 auc:0.9227\n",
      "epoch: 240 loss:0.352245 auc:0.9240\n",
      "epoch: 260 loss:0.354158 auc:0.9277\n",
      "epoch: 280 loss:0.344742 auc:0.9249\n"
     ]
    },
    {
     "name": "stderr",
     "output_type": "stream",
     "text": [
      " 74%|███████▍  | 558/756 [1:24:23<26:40,  8.08s/it]"
     ]
    },
    {
     "name": "stdout",
     "output_type": "stream",
     "text": [
      "epoch: 300 loss:0.339418 auc:0.9120\n",
      "Fit finished.\n",
      "epoch:   0 loss:0.737404 auc:0.5615\n",
      "epoch:  20 loss:0.402049 auc:0.9167\n",
      "epoch:  40 loss:0.377655 auc:0.9215\n",
      "epoch:  60 loss:0.373410 auc:0.9227\n",
      "epoch:  80 loss:0.371773 auc:0.9227\n",
      "epoch: 100 loss:0.370841 auc:0.9233\n",
      "epoch: 120 loss:0.369627 auc:0.9232\n",
      "epoch: 140 loss:0.367239 auc:0.9232\n",
      "epoch: 160 loss:0.362840 auc:0.9224\n",
      "epoch: 180 loss:0.358008 auc:0.9200\n"
     ]
    },
    {
     "name": "stderr",
     "output_type": "stream",
     "text": [
      " 74%|███████▍  | 559/756 [1:24:30<24:53,  7.58s/it]"
     ]
    },
    {
     "name": "stdout",
     "output_type": "stream",
     "text": [
      "epoch: 200 loss:0.353768 auc:0.9195\n",
      "Fit finished.\n",
      "epoch:   0 loss:0.854883 auc:0.6419\n",
      "epoch:  20 loss:0.424151 auc:0.9674\n",
      "epoch:  40 loss:0.381143 auc:0.9728\n",
      "epoch:  60 loss:0.374003 auc:0.9734\n",
      "epoch:  80 loss:0.372093 auc:0.9736\n",
      "epoch: 100 loss:0.371244 auc:0.9735\n",
      "epoch: 120 loss:0.370538 auc:0.9735\n",
      "epoch: 140 loss:0.369631 auc:0.9734\n",
      "epoch: 160 loss:0.368049 auc:0.9733\n",
      "epoch: 180 loss:0.364688 auc:0.9734\n",
      "epoch: 200 loss:0.360171 auc:0.9736\n",
      "epoch: 220 loss:0.356023 auc:0.9735\n"
     ]
    },
    {
     "name": "stderr",
     "output_type": "stream",
     "text": [
      " 74%|███████▍  | 560/756 [1:24:38<25:39,  7.86s/it]"
     ]
    },
    {
     "name": "stdout",
     "output_type": "stream",
     "text": [
      "epoch: 240 loss:0.351913 auc:0.9727\n",
      "Fit finished.\n",
      "epoch:   0 loss:0.779741 auc:0.4895\n",
      "epoch:  20 loss:0.404832 auc:0.6047\n",
      "epoch:  40 loss:0.377284 auc:0.6040\n",
      "epoch:  60 loss:0.372131 auc:0.6051\n",
      "epoch:  80 loss:0.370643 auc:0.6036\n",
      "epoch: 100 loss:0.369883 auc:0.6031\n",
      "epoch: 120 loss:0.369198 auc:0.6030\n",
      "epoch: 140 loss:0.368359 auc:0.6027\n",
      "epoch: 160 loss:0.367146 auc:0.6024\n"
     ]
    },
    {
     "name": "stderr",
     "output_type": "stream",
     "text": [
      " 74%|███████▍  | 561/756 [1:24:44<23:31,  7.24s/it]"
     ]
    },
    {
     "name": "stdout",
     "output_type": "stream",
     "text": [
      "epoch: 180 loss:0.365163 auc:0.6016\n",
      "Fit finished.\n",
      "epoch:   0 loss:0.860561 auc:0.5335\n",
      "epoch:  20 loss:0.401896 auc:0.9440\n",
      "epoch:  40 loss:0.376519 auc:0.9527\n",
      "epoch:  60 loss:0.372997 auc:0.9534\n",
      "epoch:  80 loss:0.371666 auc:0.9523\n",
      "epoch: 100 loss:0.370918 auc:0.9525\n",
      "epoch: 120 loss:0.370143 auc:0.9520\n",
      "epoch: 140 loss:0.369135 auc:0.9520\n",
      "epoch: 160 loss:0.367543 auc:0.9519\n",
      "epoch: 180 loss:0.364510 auc:0.9509\n"
     ]
    },
    {
     "name": "stderr",
     "output_type": "stream",
     "text": [
      " 74%|███████▍  | 562/756 [1:24:50<22:27,  6.94s/it]"
     ]
    },
    {
     "name": "stdout",
     "output_type": "stream",
     "text": [
      "epoch: 200 loss:0.359675 auc:0.9496\n",
      "Fit finished.\n",
      "epoch:   0 loss:0.808224 auc:0.4688\n",
      "epoch:  20 loss:0.401364 auc:0.6302\n",
      "epoch:  40 loss:0.375641 auc:0.6329\n",
      "epoch:  60 loss:0.371544 auc:0.6329\n",
      "epoch:  80 loss:0.369850 auc:0.6329\n",
      "epoch: 100 loss:0.368686 auc:0.6332\n",
      "epoch: 120 loss:0.367184 auc:0.6326\n",
      "epoch: 140 loss:0.364485 auc:0.6314\n",
      "epoch: 160 loss:0.359491 auc:0.6283\n"
     ]
    },
    {
     "name": "stderr",
     "output_type": "stream",
     "text": [
      " 74%|███████▍  | 563/756 [1:24:57<21:38,  6.73s/it]"
     ]
    },
    {
     "name": "stdout",
     "output_type": "stream",
     "text": [
      "epoch: 180 loss:0.353905 auc:0.6255\n",
      "Fit finished.\n",
      "epoch:   0 loss:0.751918 auc:0.3382\n",
      "epoch:  20 loss:0.392510 auc:0.9252\n",
      "epoch:  40 loss:0.376242 auc:0.9322\n",
      "epoch:  60 loss:0.372671 auc:0.9338\n",
      "epoch:  80 loss:0.371473 auc:0.9325\n",
      "epoch: 100 loss:0.370636 auc:0.9331\n",
      "epoch: 120 loss:0.369630 auc:0.9330\n",
      "epoch: 140 loss:0.368055 auc:0.9332\n",
      "epoch: 160 loss:0.365122 auc:0.9336\n",
      "epoch: 180 loss:0.360513 auc:0.9325\n"
     ]
    },
    {
     "name": "stderr",
     "output_type": "stream",
     "text": [
      " 75%|███████▍  | 564/756 [1:25:04<22:17,  6.96s/it]"
     ]
    },
    {
     "name": "stdout",
     "output_type": "stream",
     "text": [
      "epoch: 200 loss:0.355590 auc:0.9303\n",
      "Fit finished.\n",
      "epoch:   0 loss:0.754655 auc:0.5192\n",
      "epoch:  20 loss:0.388565 auc:0.9397\n",
      "epoch:  40 loss:0.373741 auc:0.9411\n",
      "epoch:  60 loss:0.371525 auc:0.9408\n",
      "epoch:  80 loss:0.370273 auc:0.9419\n",
      "epoch: 100 loss:0.368600 auc:0.9422\n",
      "epoch: 120 loss:0.365259 auc:0.9431\n",
      "epoch: 140 loss:0.359225 auc:0.9462\n",
      "epoch: 160 loss:0.352877 auc:0.9479\n",
      "epoch: 180 loss:0.345579 auc:0.9475\n",
      "epoch: 200 loss:0.335281 auc:0.9465\n",
      "epoch: 220 loss:0.325681 auc:0.9459\n",
      "epoch: 240 loss:0.314437 auc:0.9443\n",
      "epoch: 260 loss:0.305392 auc:0.9437\n",
      "epoch: 280 loss:0.297323 auc:0.9446\n"
     ]
    },
    {
     "name": "stderr",
     "output_type": "stream",
     "text": [
      " 75%|███████▍  | 565/756 [1:25:13<24:17,  7.63s/it]"
     ]
    },
    {
     "name": "stdout",
     "output_type": "stream",
     "text": [
      "epoch: 300 loss:0.290781 auc:0.9431\n",
      "Fit finished.\n",
      "epoch:   0 loss:0.737844 auc:0.4403\n",
      "epoch:  20 loss:0.391100 auc:0.9659\n",
      "epoch:  40 loss:0.375257 auc:0.9673\n",
      "epoch:  60 loss:0.371711 auc:0.9668\n",
      "epoch:  80 loss:0.370285 auc:0.9671\n",
      "epoch: 100 loss:0.368693 auc:0.9668\n",
      "epoch: 120 loss:0.365830 auc:0.9671\n",
      "epoch: 140 loss:0.360970 auc:0.9675\n",
      "epoch: 160 loss:0.355512 auc:0.9682\n",
      "epoch: 180 loss:0.349306 auc:0.9698\n",
      "epoch: 200 loss:0.340793 auc:0.9734\n"
     ]
    },
    {
     "name": "stderr",
     "output_type": "stream",
     "text": [
      " 75%|███████▍  | 566/756 [1:25:21<23:47,  7.51s/it]"
     ]
    },
    {
     "name": "stdout",
     "output_type": "stream",
     "text": [
      "epoch: 220 loss:0.332034 auc:0.9522\n",
      "Fit finished.\n",
      "epoch:   0 loss:0.813626 auc:0.4661\n",
      "epoch:  20 loss:0.383842 auc:0.9186\n",
      "epoch:  40 loss:0.374797 auc:0.9188\n",
      "epoch:  60 loss:0.371807 auc:0.9192\n",
      "epoch:  80 loss:0.370521 auc:0.9185\n",
      "epoch: 100 loss:0.368959 auc:0.9184\n",
      "epoch: 120 loss:0.366032 auc:0.9183\n",
      "epoch: 140 loss:0.360712 auc:0.9177\n",
      "epoch: 160 loss:0.354689 auc:0.9145\n"
     ]
    },
    {
     "name": "stderr",
     "output_type": "stream",
     "text": [
      " 75%|███████▌  | 567/756 [1:25:27<22:46,  7.23s/it]"
     ]
    },
    {
     "name": "stdout",
     "output_type": "stream",
     "text": [
      "epoch: 180 loss:0.348405 auc:0.9091\n",
      "Fit finished.\n",
      "epoch:   0 loss:0.756484 auc:0.4485\n",
      "epoch:  20 loss:0.387867 auc:0.9009\n",
      "epoch:  40 loss:0.374809 auc:0.9059\n",
      "epoch:  60 loss:0.371642 auc:0.9039\n",
      "epoch:  80 loss:0.370353 auc:0.9043\n",
      "epoch: 100 loss:0.369109 auc:0.9034\n",
      "epoch: 120 loss:0.367081 auc:0.9036\n",
      "epoch: 140 loss:0.362878 auc:0.9023\n",
      "epoch: 160 loss:0.356628 auc:0.9022\n",
      "epoch: 180 loss:0.350476 auc:0.9024\n"
     ]
    },
    {
     "name": "stderr",
     "output_type": "stream",
     "text": [
      " 75%|███████▌  | 568/756 [1:25:34<21:53,  6.98s/it]"
     ]
    },
    {
     "name": "stdout",
     "output_type": "stream",
     "text": [
      "epoch: 200 loss:0.340183 auc:0.9031\n",
      "Fit finished.\n",
      "epoch:   0 loss:0.724436 auc:0.5220\n",
      "epoch:  20 loss:0.391969 auc:0.8969\n",
      "epoch:  40 loss:0.376447 auc:0.9018\n",
      "epoch:  60 loss:0.372146 auc:0.9025\n",
      "epoch:  80 loss:0.370657 auc:0.9026\n",
      "epoch: 100 loss:0.369424 auc:0.9024\n",
      "epoch: 120 loss:0.367311 auc:0.9023\n",
      "epoch: 140 loss:0.362794 auc:0.9013\n",
      "epoch: 160 loss:0.356963 auc:0.9012\n",
      "epoch: 180 loss:0.351783 auc:0.9007\n"
     ]
    },
    {
     "name": "stderr",
     "output_type": "stream",
     "text": [
      " 75%|███████▌  | 569/756 [1:25:40<21:33,  6.92s/it]"
     ]
    },
    {
     "name": "stdout",
     "output_type": "stream",
     "text": [
      "epoch: 200 loss:0.341113 auc:0.8940\n",
      "Fit finished.\n",
      "epoch:   0 loss:0.866170 auc:0.3841\n",
      "epoch:  20 loss:0.401845 auc:0.9551\n",
      "epoch:  40 loss:0.377769 auc:0.9557\n",
      "epoch:  60 loss:0.373196 auc:0.9558\n",
      "epoch:  80 loss:0.371729 auc:0.9555\n",
      "epoch: 100 loss:0.370848 auc:0.9554\n",
      "epoch: 120 loss:0.369943 auc:0.9556\n",
      "epoch: 140 loss:0.368578 auc:0.9559\n",
      "epoch: 160 loss:0.366063 auc:0.9566\n",
      "epoch: 180 loss:0.361951 auc:0.9580\n",
      "epoch: 200 loss:0.357603 auc:0.9585\n",
      "epoch: 220 loss:0.352786 auc:0.9579\n"
     ]
    },
    {
     "name": "stderr",
     "output_type": "stream",
     "text": [
      " 75%|███████▌  | 570/756 [1:25:48<21:56,  7.08s/it]"
     ]
    },
    {
     "name": "stdout",
     "output_type": "stream",
     "text": [
      "epoch: 240 loss:0.347056 auc:0.9531\n",
      "Fit finished.\n",
      "epoch:   0 loss:0.796510 auc:0.3318\n",
      "epoch:  20 loss:0.388207 auc:0.9662\n",
      "epoch:  40 loss:0.374887 auc:0.9666\n",
      "epoch:  60 loss:0.371924 auc:0.9670\n",
      "epoch:  80 loss:0.370821 auc:0.9669\n",
      "epoch: 100 loss:0.369707 auc:0.9666\n",
      "epoch: 120 loss:0.367902 auc:0.9663\n",
      "epoch: 140 loss:0.364210 auc:0.9659\n",
      "epoch: 160 loss:0.358140 auc:0.9650\n"
     ]
    },
    {
     "name": "stderr",
     "output_type": "stream",
     "text": [
      " 76%|███████▌  | 571/756 [1:25:53<19:48,  6.42s/it]"
     ]
    },
    {
     "name": "stdout",
     "output_type": "stream",
     "text": [
      "epoch: 180 loss:0.351808 auc:0.9662\n",
      "Fit finished.\n",
      "epoch:   0 loss:0.702017 auc:0.5853\n",
      "epoch:  20 loss:0.390703 auc:0.8833\n",
      "epoch:  40 loss:0.374708 auc:0.8895\n",
      "epoch:  60 loss:0.371982 auc:0.8884\n",
      "epoch:  80 loss:0.370622 auc:0.8885\n",
      "epoch: 100 loss:0.369030 auc:0.8879\n",
      "epoch: 120 loss:0.366211 auc:0.8867\n",
      "epoch: 140 loss:0.361696 auc:0.8835\n",
      "epoch: 160 loss:0.357120 auc:0.8793\n"
     ]
    },
    {
     "name": "stderr",
     "output_type": "stream",
     "text": [
      " 76%|███████▌  | 572/756 [1:25:59<19:12,  6.27s/it]"
     ]
    },
    {
     "name": "stdout",
     "output_type": "stream",
     "text": [
      "epoch: 180 loss:0.352607 auc:0.8741\n",
      "Fit finished.\n",
      "epoch:   0 loss:0.972652 auc:0.4717\n",
      "epoch:  20 loss:0.402777 auc:0.9206\n",
      "epoch:  40 loss:0.378995 auc:0.9195\n",
      "epoch:  60 loss:0.373374 auc:0.9189\n",
      "epoch:  80 loss:0.371639 auc:0.9194\n",
      "epoch: 100 loss:0.370750 auc:0.9196\n",
      "epoch: 120 loss:0.369934 auc:0.9195\n",
      "epoch: 140 loss:0.368858 auc:0.9197\n",
      "epoch: 160 loss:0.367087 auc:0.9198\n",
      "epoch: 180 loss:0.363991 auc:0.9207\n",
      "epoch: 200 loss:0.359720 auc:0.9219\n",
      "epoch: 220 loss:0.355511 auc:0.9249\n",
      "epoch: 240 loss:0.351118 auc:0.9268\n",
      "epoch: 260 loss:0.347895 auc:0.9272\n",
      "epoch: 280 loss:0.341122 auc:0.9210\n"
     ]
    },
    {
     "name": "stderr",
     "output_type": "stream",
     "text": [
      " 76%|███████▌  | 573/756 [1:26:08<22:01,  7.22s/it]"
     ]
    },
    {
     "name": "stdout",
     "output_type": "stream",
     "text": [
      "epoch: 300 loss:0.333279 auc:0.9019\n",
      "Fit finished.\n",
      "epoch:   0 loss:0.730786 auc:0.6632\n",
      "epoch:  20 loss:0.406778 auc:0.9569\n",
      "epoch:  40 loss:0.379845 auc:0.9602\n",
      "epoch:  60 loss:0.373796 auc:0.9595\n",
      "epoch:  80 loss:0.372094 auc:0.9603\n",
      "epoch: 100 loss:0.371183 auc:0.9602\n",
      "epoch: 120 loss:0.370373 auc:0.9602\n",
      "epoch: 140 loss:0.369354 auc:0.9598\n",
      "epoch: 160 loss:0.367686 auc:0.9594\n",
      "epoch: 180 loss:0.364192 auc:0.9587\n"
     ]
    },
    {
     "name": "stderr",
     "output_type": "stream",
     "text": [
      " 76%|███████▌  | 574/756 [1:26:15<21:23,  7.05s/it]"
     ]
    },
    {
     "name": "stdout",
     "output_type": "stream",
     "text": [
      "epoch: 200 loss:0.358063 auc:0.9568\n",
      "Fit finished.\n",
      "epoch:   0 loss:0.876373 auc:0.2991\n",
      "epoch:  20 loss:0.398238 auc:0.9401\n",
      "epoch:  40 loss:0.377472 auc:0.9420\n",
      "epoch:  60 loss:0.373182 auc:0.9421\n",
      "epoch:  80 loss:0.371882 auc:0.9423\n",
      "epoch: 100 loss:0.371205 auc:0.9423\n",
      "epoch: 120 loss:0.370544 auc:0.9425\n",
      "epoch: 140 loss:0.369617 auc:0.9427\n",
      "epoch: 160 loss:0.367982 auc:0.9434\n",
      "epoch: 180 loss:0.364742 auc:0.9446\n",
      "epoch: 200 loss:0.359763 auc:0.9462\n",
      "epoch: 220 loss:0.354974 auc:0.9470\n",
      "epoch: 240 loss:0.350812 auc:0.9473\n",
      "epoch: 260 loss:0.345680 auc:0.9447\n"
     ]
    },
    {
     "name": "stderr",
     "output_type": "stream",
     "text": [
      " 76%|███████▌  | 575/756 [1:26:24<23:39,  7.84s/it]"
     ]
    },
    {
     "name": "stdout",
     "output_type": "stream",
     "text": [
      "epoch: 280 loss:0.339037 auc:0.9343\n",
      "Fit finished.\n",
      "epoch:   0 loss:0.887127 auc:0.4735\n",
      "epoch:  20 loss:0.414722 auc:0.8993\n",
      "epoch:  40 loss:0.381481 auc:0.8972\n",
      "epoch:  60 loss:0.373832 auc:0.8966\n",
      "epoch:  80 loss:0.371830 auc:0.8964\n",
      "epoch: 100 loss:0.370846 auc:0.8969\n",
      "epoch: 120 loss:0.369860 auc:0.8973\n",
      "epoch: 140 loss:0.368366 auc:0.8979\n",
      "epoch: 160 loss:0.365518 auc:0.8997\n",
      "epoch: 180 loss:0.360900 auc:0.9021\n",
      "epoch: 200 loss:0.355968 auc:0.9054\n",
      "epoch: 220 loss:0.350459 auc:0.9076\n",
      "epoch: 240 loss:0.343784 auc:0.9103\n",
      "epoch: 260 loss:0.336206 auc:0.9008\n"
     ]
    },
    {
     "name": "stderr",
     "output_type": "stream",
     "text": [
      " 76%|███████▌  | 576/756 [1:26:34<25:24,  8.47s/it]"
     ]
    },
    {
     "name": "stdout",
     "output_type": "stream",
     "text": [
      "epoch: 280 loss:0.329993 auc:0.8930\n",
      "Fit finished.\n",
      "epoch:   0 loss:0.804680 auc:0.6003\n",
      "epoch:  20 loss:0.409425 auc:0.9400\n",
      "epoch:  40 loss:0.380269 auc:0.9408\n",
      "epoch:  60 loss:0.373820 auc:0.9396\n",
      "epoch:  80 loss:0.371884 auc:0.9403\n",
      "epoch: 100 loss:0.370905 auc:0.9402\n",
      "epoch: 120 loss:0.369909 auc:0.9401\n",
      "epoch: 140 loss:0.368365 auc:0.9401\n",
      "epoch: 160 loss:0.365240 auc:0.9404\n",
      "epoch: 180 loss:0.359829 auc:0.9403\n"
     ]
    },
    {
     "name": "stderr",
     "output_type": "stream",
     "text": [
      " 76%|███████▋  | 577/756 [1:26:40<23:02,  7.72s/it]"
     ]
    },
    {
     "name": "stdout",
     "output_type": "stream",
     "text": [
      "epoch: 200 loss:0.354213 auc:0.9380\n",
      "Fit finished.\n",
      "epoch:   0 loss:0.883073 auc:0.4491\n",
      "epoch:  20 loss:0.405221 auc:0.8878\n",
      "epoch:  40 loss:0.377060 auc:0.8914\n",
      "epoch:  60 loss:0.373360 auc:0.8916\n",
      "epoch:  80 loss:0.371889 auc:0.8924\n",
      "epoch: 100 loss:0.371161 auc:0.8926\n",
      "epoch: 120 loss:0.370491 auc:0.8927\n",
      "epoch: 140 loss:0.369572 auc:0.8928\n",
      "epoch: 160 loss:0.367942 auc:0.8928\n",
      "epoch: 180 loss:0.364544 auc:0.8925\n",
      "epoch: 200 loss:0.359206 auc:0.8914\n"
     ]
    },
    {
     "name": "stderr",
     "output_type": "stream",
     "text": [
      " 76%|███████▋  | 578/756 [1:26:47<22:12,  7.48s/it]"
     ]
    },
    {
     "name": "stdout",
     "output_type": "stream",
     "text": [
      "epoch: 220 loss:0.354382 auc:0.8899\n",
      "Fit finished.\n",
      "epoch:   0 loss:0.786937 auc:0.3278\n",
      "epoch:  20 loss:0.391982 auc:0.8780\n",
      "epoch:  40 loss:0.375223 auc:0.8768\n",
      "epoch:  60 loss:0.371823 auc:0.8765\n",
      "epoch:  80 loss:0.370670 auc:0.8762\n",
      "epoch: 100 loss:0.369633 auc:0.8764\n",
      "epoch: 120 loss:0.368205 auc:0.8761\n",
      "epoch: 140 loss:0.365524 auc:0.8760\n",
      "epoch: 160 loss:0.360083 auc:0.8745\n"
     ]
    },
    {
     "name": "stderr",
     "output_type": "stream",
     "text": [
      " 77%|███████▋  | 579/756 [1:26:53<20:50,  7.07s/it]"
     ]
    },
    {
     "name": "stdout",
     "output_type": "stream",
     "text": [
      "epoch: 180 loss:0.353406 auc:0.8727\n",
      "Fit finished.\n",
      "epoch:   0 loss:0.760428 auc:0.4589\n",
      "epoch:  20 loss:0.387050 auc:0.8680\n",
      "epoch:  40 loss:0.373270 auc:0.8681\n",
      "epoch:  60 loss:0.370692 auc:0.8689\n",
      "epoch:  80 loss:0.368720 auc:0.8702\n",
      "epoch: 100 loss:0.365334 auc:0.8710\n",
      "epoch: 120 loss:0.359161 auc:0.8707\n",
      "epoch: 140 loss:0.352429 auc:0.8720\n",
      "epoch: 160 loss:0.345405 auc:0.8685\n"
     ]
    },
    {
     "name": "stderr",
     "output_type": "stream",
     "text": [
      " 77%|███████▋  | 580/756 [1:26:59<19:59,  6.82s/it]"
     ]
    },
    {
     "name": "stdout",
     "output_type": "stream",
     "text": [
      "epoch: 180 loss:0.336590 auc:0.8573\n",
      "Fit finished.\n",
      "epoch:   0 loss:0.864229 auc:0.3422\n",
      "epoch:  20 loss:0.403008 auc:0.8628\n",
      "epoch:  40 loss:0.379593 auc:0.8721\n",
      "epoch:  60 loss:0.373782 auc:0.8717\n",
      "epoch:  80 loss:0.371847 auc:0.8706\n",
      "epoch: 100 loss:0.370935 auc:0.8711\n",
      "epoch: 120 loss:0.370168 auc:0.8706\n",
      "epoch: 140 loss:0.369162 auc:0.8711\n",
      "epoch: 160 loss:0.367501 auc:0.8715\n",
      "epoch: 180 loss:0.364334 auc:0.8710\n"
     ]
    },
    {
     "name": "stderr",
     "output_type": "stream",
     "text": [
      " 77%|███████▋  | 581/756 [1:27:07<20:31,  7.04s/it]"
     ]
    },
    {
     "name": "stdout",
     "output_type": "stream",
     "text": [
      "epoch: 200 loss:0.359508 auc:0.8717\n",
      "Fit finished.\n",
      "epoch:   0 loss:0.821159 auc:0.4993\n",
      "epoch:  20 loss:0.402044 auc:0.9185\n",
      "epoch:  40 loss:0.377943 auc:0.9224\n",
      "epoch:  60 loss:0.373035 auc:0.9250\n",
      "epoch:  80 loss:0.371635 auc:0.9253\n",
      "epoch: 100 loss:0.370855 auc:0.9254\n",
      "epoch: 120 loss:0.370118 auc:0.9248\n",
      "epoch: 140 loss:0.369153 auc:0.9246\n",
      "epoch: 160 loss:0.367601 auc:0.9246\n",
      "epoch: 180 loss:0.364770 auc:0.9239\n",
      "epoch: 200 loss:0.360427 auc:0.9226\n"
     ]
    },
    {
     "name": "stderr",
     "output_type": "stream",
     "text": [
      " 77%|███████▋  | 582/756 [1:27:13<19:46,  6.82s/it]"
     ]
    },
    {
     "name": "stdout",
     "output_type": "stream",
     "text": [
      "epoch: 220 loss:0.355923 auc:0.9224\n",
      "Fit finished.\n",
      "epoch:   0 loss:0.845123 auc:0.4943\n",
      "epoch:  20 loss:0.398277 auc:0.9000\n",
      "epoch:  40 loss:0.377861 auc:0.9029\n",
      "epoch:  60 loss:0.372988 auc:0.9041\n",
      "epoch:  80 loss:0.371629 auc:0.9044\n",
      "epoch: 100 loss:0.370848 auc:0.9040\n",
      "epoch: 120 loss:0.370100 auc:0.9045\n",
      "epoch: 140 loss:0.369022 auc:0.9045\n",
      "epoch: 160 loss:0.366884 auc:0.9050\n",
      "epoch: 180 loss:0.362207 auc:0.9043\n"
     ]
    },
    {
     "name": "stderr",
     "output_type": "stream",
     "text": [
      " 77%|███████▋  | 583/756 [1:27:20<19:18,  6.70s/it]"
     ]
    },
    {
     "name": "stdout",
     "output_type": "stream",
     "text": [
      "epoch: 200 loss:0.356764 auc:0.9021\n",
      "Fit finished.\n",
      "epoch:   0 loss:0.736483 auc:0.6686\n",
      "epoch:  20 loss:0.388535 auc:0.9490\n",
      "epoch:  40 loss:0.375852 auc:0.9533\n",
      "epoch:  60 loss:0.372364 auc:0.9528\n",
      "epoch:  80 loss:0.371260 auc:0.9523\n",
      "epoch: 100 loss:0.370412 auc:0.9527\n",
      "epoch: 120 loss:0.369291 auc:0.9524\n",
      "epoch: 140 loss:0.367222 auc:0.9522\n",
      "epoch: 160 loss:0.362686 auc:0.9511\n",
      "epoch: 180 loss:0.356440 auc:0.9513\n"
     ]
    },
    {
     "name": "stderr",
     "output_type": "stream",
     "text": [
      " 77%|███████▋  | 584/756 [1:27:26<18:47,  6.56s/it]"
     ]
    },
    {
     "name": "stdout",
     "output_type": "stream",
     "text": [
      "epoch: 200 loss:0.350141 auc:0.9511\n",
      "Fit finished.\n",
      "epoch:   0 loss:0.756173 auc:0.4048\n",
      "epoch:  20 loss:0.389751 auc:0.9618\n",
      "epoch:  40 loss:0.375609 auc:0.9667\n",
      "epoch:  60 loss:0.371754 auc:0.9663\n",
      "epoch:  80 loss:0.370085 auc:0.9669\n",
      "epoch: 100 loss:0.368157 auc:0.9667\n",
      "epoch: 120 loss:0.364093 auc:0.9669\n",
      "epoch: 140 loss:0.357540 auc:0.9670\n",
      "epoch: 160 loss:0.350996 auc:0.9654\n",
      "epoch: 180 loss:0.342206 auc:0.9650\n"
     ]
    },
    {
     "name": "stderr",
     "output_type": "stream",
     "text": [
      " 78%|███████▊  | 586/756 [1:27:33<14:16,  5.04s/it]"
     ]
    },
    {
     "name": "stdout",
     "output_type": "stream",
     "text": [
      "epoch: 200 loss:0.331574 auc:0.9622\n",
      "Fit finished.\n",
      "epoch:   0 loss:0.980465 auc:0.5689\n",
      "epoch:  20 loss:0.404101 auc:0.8493\n",
      "epoch:  40 loss:0.380433 auc:0.8638\n",
      "epoch:  60 loss:0.374065 auc:0.8698\n",
      "epoch:  80 loss:0.371930 auc:0.8708\n",
      "epoch: 100 loss:0.370890 auc:0.8702\n",
      "epoch: 120 loss:0.369949 auc:0.8707\n",
      "epoch: 140 loss:0.368722 auc:0.8711\n",
      "epoch: 160 loss:0.366727 auc:0.8723\n",
      "epoch: 180 loss:0.363381 auc:0.8745\n",
      "epoch: 200 loss:0.359400 auc:0.8770\n",
      "epoch: 220 loss:0.355462 auc:0.8789\n",
      "epoch: 240 loss:0.351260 auc:0.8809\n",
      "epoch: 260 loss:0.345817 auc:0.8829\n",
      "epoch: 280 loss:0.340134 auc:0.8841\n",
      "epoch: 300 loss:0.331668 auc:0.8714\n"
     ]
    },
    {
     "name": "stderr",
     "output_type": "stream",
     "text": [
      " 78%|███████▊  | 587/756 [1:27:43<18:04,  6.42s/it]"
     ]
    },
    {
     "name": "stdout",
     "output_type": "stream",
     "text": [
      "epoch: 320 loss:0.323675 auc:0.8580\n",
      "Fit finished.\n",
      "epoch:   0 loss:0.806074 auc:0.4008\n",
      "epoch:  20 loss:0.391793 auc:0.9259\n",
      "epoch:  40 loss:0.375627 auc:0.9252\n",
      "epoch:  60 loss:0.372046 auc:0.9254\n",
      "epoch:  80 loss:0.370602 auc:0.9253\n",
      "epoch: 100 loss:0.369358 auc:0.9256\n",
      "epoch: 120 loss:0.367414 auc:0.9259\n",
      "epoch: 140 loss:0.363694 auc:0.9265\n",
      "epoch: 160 loss:0.358495 auc:0.9281\n",
      "epoch: 180 loss:0.353113 auc:0.9285\n",
      "epoch: 200 loss:0.347364 auc:0.9284\n",
      "epoch: 220 loss:0.339378 auc:0.9269\n"
     ]
    },
    {
     "name": "stderr",
     "output_type": "stream",
     "text": [
      " 78%|███████▊  | 588/756 [1:27:51<18:44,  6.69s/it]"
     ]
    },
    {
     "name": "stdout",
     "output_type": "stream",
     "text": [
      "epoch: 240 loss:0.330449 auc:0.9237\n",
      "Fit finished.\n",
      "epoch:   0 loss:0.828126 auc:0.4883\n",
      "epoch:  20 loss:0.385472 auc:0.9410\n",
      "epoch:  40 loss:0.374373 auc:0.9412\n",
      "epoch:  60 loss:0.371298 auc:0.9420\n",
      "epoch:  80 loss:0.369933 auc:0.9419\n",
      "epoch: 100 loss:0.368075 auc:0.9418\n",
      "epoch: 120 loss:0.364585 auc:0.9418\n",
      "epoch: 140 loss:0.359361 auc:0.9424\n",
      "epoch: 160 loss:0.353461 auc:0.9422\n"
     ]
    },
    {
     "name": "stderr",
     "output_type": "stream",
     "text": [
      " 78%|███████▊  | 589/756 [1:27:56<17:47,  6.39s/it]"
     ]
    },
    {
     "name": "stdout",
     "output_type": "stream",
     "text": [
      "epoch: 180 loss:0.345229 auc:0.9400\n",
      "Fit finished.\n",
      "epoch:   0 loss:0.854095 auc:0.4161\n",
      "epoch:  20 loss:0.403686 auc:0.9171\n",
      "epoch:  40 loss:0.378953 auc:0.9209\n",
      "epoch:  60 loss:0.373444 auc:0.9219\n",
      "epoch:  80 loss:0.371828 auc:0.9227\n",
      "epoch: 100 loss:0.370974 auc:0.9234\n",
      "epoch: 120 loss:0.370239 auc:0.9238\n",
      "epoch: 140 loss:0.369394 auc:0.9239\n",
      "epoch: 160 loss:0.368163 auc:0.9245\n",
      "epoch: 180 loss:0.366013 auc:0.9244\n",
      "epoch: 200 loss:0.362289 auc:0.9252\n",
      "epoch: 220 loss:0.357810 auc:0.9265\n",
      "epoch: 240 loss:0.352941 auc:0.9285\n",
      "epoch: 260 loss:0.346383 auc:0.9316\n",
      "epoch: 280 loss:0.338828 auc:0.9326\n",
      "epoch: 300 loss:0.329660 auc:0.9338\n",
      "epoch: 320 loss:0.321857 auc:0.9319\n",
      "epoch: 340 loss:0.314351 auc:0.9270\n"
     ]
    },
    {
     "name": "stderr",
     "output_type": "stream",
     "text": [
      " 78%|███████▊  | 590/756 [1:28:08<21:52,  7.90s/it]"
     ]
    },
    {
     "name": "stdout",
     "output_type": "stream",
     "text": [
      "epoch: 360 loss:0.316142 auc:0.9231\n",
      "Fit finished.\n",
      "epoch:   0 loss:0.688151 auc:0.5003\n",
      "epoch:  20 loss:0.396070 auc:0.7896\n",
      "epoch:  40 loss:0.376570 auc:0.7991\n",
      "epoch:  60 loss:0.372607 auc:0.8000\n",
      "epoch:  80 loss:0.371335 auc:0.7993\n",
      "epoch: 100 loss:0.370557 auc:0.7996\n",
      "epoch: 120 loss:0.369780 auc:0.7995\n",
      "epoch: 140 loss:0.368686 auc:0.7990\n",
      "epoch: 160 loss:0.366481 auc:0.7987\n",
      "epoch: 180 loss:0.361578 auc:0.7971\n"
     ]
    },
    {
     "name": "stderr",
     "output_type": "stream",
     "text": [
      " 78%|███████▊  | 591/756 [1:28:14<20:34,  7.48s/it]"
     ]
    },
    {
     "name": "stdout",
     "output_type": "stream",
     "text": [
      "epoch: 200 loss:0.355198 auc:0.7958\n",
      "Fit finished.\n",
      "epoch:   0 loss:0.750972 auc:0.4932\n",
      "epoch:  20 loss:0.395960 auc:0.9062\n",
      "epoch:  40 loss:0.375798 auc:0.9102\n",
      "epoch:  60 loss:0.371932 auc:0.9094\n",
      "epoch:  80 loss:0.370364 auc:0.9104\n",
      "epoch: 100 loss:0.368839 auc:0.9101\n",
      "epoch: 120 loss:0.366306 auc:0.9103\n",
      "epoch: 140 loss:0.361845 auc:0.9102\n",
      "epoch: 160 loss:0.356294 auc:0.9095\n"
     ]
    },
    {
     "name": "stderr",
     "output_type": "stream",
     "text": [
      " 78%|███████▊  | 592/756 [1:28:20<18:53,  6.91s/it]"
     ]
    },
    {
     "name": "stdout",
     "output_type": "stream",
     "text": [
      "epoch: 180 loss:0.349211 auc:0.9059\n",
      "Fit finished.\n",
      "epoch:   0 loss:0.812542 auc:0.5205\n",
      "epoch:  20 loss:0.406204 auc:0.9493\n",
      "epoch:  40 loss:0.378123 auc:0.9469\n",
      "epoch:  60 loss:0.373892 auc:0.9467\n",
      "epoch:  80 loss:0.372321 auc:0.9469\n",
      "epoch: 100 loss:0.371636 auc:0.9469\n",
      "epoch: 120 loss:0.371091 auc:0.9471\n",
      "epoch: 140 loss:0.370472 auc:0.9473\n",
      "epoch: 160 loss:0.369604 auc:0.9477\n"
     ]
    },
    {
     "name": "stderr",
     "output_type": "stream",
     "text": [
      " 78%|███████▊  | 593/756 [1:28:27<18:41,  6.88s/it]"
     ]
    },
    {
     "name": "stdout",
     "output_type": "stream",
     "text": [
      "epoch: 180 loss:0.368136 auc:0.9482\n",
      "Fit finished.\n",
      "epoch:   0 loss:0.882205 auc:0.4708\n",
      "epoch:  20 loss:0.406836 auc:0.9402\n",
      "epoch:  40 loss:0.378067 auc:0.9428\n",
      "epoch:  60 loss:0.373484 auc:0.9430\n",
      "epoch:  80 loss:0.371681 auc:0.9423\n",
      "epoch: 100 loss:0.370645 auc:0.9426\n",
      "epoch: 120 loss:0.369568 auc:0.9432\n",
      "epoch: 140 loss:0.367996 auc:0.9432\n",
      "epoch: 160 loss:0.365138 auc:0.9430\n",
      "epoch: 180 loss:0.360491 auc:0.9428\n",
      "epoch: 200 loss:0.355422 auc:0.9435\n",
      "epoch: 220 loss:0.350325 auc:0.9437\n",
      "epoch: 240 loss:0.341917 auc:0.9428\n"
     ]
    },
    {
     "name": "stderr",
     "output_type": "stream",
     "text": [
      " 79%|███████▊  | 594/756 [1:28:35<19:38,  7.27s/it]"
     ]
    },
    {
     "name": "stdout",
     "output_type": "stream",
     "text": [
      "epoch: 260 loss:0.335480 auc:0.9267\n",
      "Fit finished.\n",
      "epoch:   0 loss:0.872303 auc:0.5019\n",
      "epoch:  20 loss:0.399280 auc:0.9000\n",
      "epoch:  40 loss:0.378672 auc:0.8995\n",
      "epoch:  60 loss:0.373506 auc:0.9001\n",
      "epoch:  80 loss:0.371704 auc:0.9003\n",
      "epoch: 100 loss:0.370865 auc:0.9004\n",
      "epoch: 120 loss:0.370138 auc:0.9003\n",
      "epoch: 140 loss:0.369234 auc:0.9004\n",
      "epoch: 160 loss:0.367833 auc:0.8997\n"
     ]
    },
    {
     "name": "stderr",
     "output_type": "stream",
     "text": [
      " 79%|███████▊  | 595/756 [1:28:41<18:18,  6.82s/it]"
     ]
    },
    {
     "name": "stdout",
     "output_type": "stream",
     "text": [
      "epoch: 180 loss:0.365258 auc:0.8986\n",
      "Fit finished.\n",
      "epoch:   0 loss:0.890983 auc:0.4654\n",
      "epoch:  20 loss:0.395965 auc:0.9078\n",
      "epoch:  40 loss:0.378030 auc:0.9122\n",
      "epoch:  60 loss:0.373266 auc:0.9135\n",
      "epoch:  80 loss:0.371908 auc:0.9137\n",
      "epoch: 100 loss:0.371049 auc:0.9144\n",
      "epoch: 120 loss:0.370138 auc:0.9145\n",
      "epoch: 140 loss:0.368829 auc:0.9139\n",
      "epoch: 160 loss:0.366368 auc:0.9142\n",
      "epoch: 180 loss:0.361668 auc:0.9141\n"
     ]
    },
    {
     "name": "stderr",
     "output_type": "stream",
     "text": [
      " 79%|███████▉  | 596/756 [1:28:48<18:20,  6.88s/it]"
     ]
    },
    {
     "name": "stdout",
     "output_type": "stream",
     "text": [
      "epoch: 200 loss:0.356562 auc:0.9113\n",
      "Fit finished.\n",
      "epoch:   0 loss:0.808009 auc:0.4449\n",
      "epoch:  20 loss:0.390249 auc:0.9128\n",
      "epoch:  40 loss:0.375569 auc:0.9153\n",
      "epoch:  60 loss:0.372011 auc:0.9160\n",
      "epoch:  80 loss:0.370863 auc:0.9155\n",
      "epoch: 100 loss:0.369931 auc:0.9153\n",
      "epoch: 120 loss:0.368740 auc:0.9151\n",
      "epoch: 140 loss:0.366548 auc:0.9149\n",
      "epoch: 160 loss:0.361551 auc:0.9139\n"
     ]
    },
    {
     "name": "stderr",
     "output_type": "stream",
     "text": [
      " 79%|███████▉  | 597/756 [1:28:54<17:41,  6.68s/it]"
     ]
    },
    {
     "name": "stdout",
     "output_type": "stream",
     "text": [
      "epoch: 180 loss:0.354979 auc:0.9127\n",
      "Fit finished.\n",
      "epoch:   0 loss:0.901122 auc:0.2739\n",
      "epoch:  20 loss:0.392235 auc:0.9388\n",
      "epoch:  40 loss:0.376109 auc:0.9430\n",
      "epoch:  60 loss:0.372929 auc:0.9438\n",
      "epoch:  80 loss:0.371787 auc:0.9438\n",
      "epoch: 100 loss:0.371059 auc:0.9438\n",
      "epoch: 120 loss:0.370256 auc:0.9439\n",
      "epoch: 140 loss:0.369135 auc:0.9439\n",
      "epoch: 160 loss:0.367337 auc:0.9439\n",
      "epoch: 180 loss:0.364073 auc:0.9455\n",
      "epoch: 200 loss:0.359273 auc:0.9480\n",
      "epoch: 220 loss:0.355325 auc:0.9483\n",
      "epoch: 240 loss:0.350290 auc:0.9491\n",
      "epoch: 260 loss:0.344015 auc:0.9498\n",
      "epoch: 280 loss:0.335555 auc:0.9469\n"
     ]
    },
    {
     "name": "stderr",
     "output_type": "stream",
     "text": [
      " 79%|███████▉  | 598/756 [1:29:03<19:38,  7.46s/it]"
     ]
    },
    {
     "name": "stdout",
     "output_type": "stream",
     "text": [
      "epoch: 300 loss:0.326865 auc:0.9413\n",
      "Fit finished.\n",
      "epoch:   0 loss:0.837454 auc:0.6271\n",
      "epoch:  20 loss:0.399811 auc:0.9157\n",
      "epoch:  40 loss:0.379263 auc:0.9306\n",
      "epoch:  60 loss:0.373711 auc:0.9331\n",
      "epoch:  80 loss:0.371938 auc:0.9341\n",
      "epoch: 100 loss:0.371088 auc:0.9343\n",
      "epoch: 120 loss:0.370340 auc:0.9343\n",
      "epoch: 140 loss:0.369436 auc:0.9343\n",
      "epoch: 160 loss:0.368103 auc:0.9344\n",
      "epoch: 180 loss:0.365812 auc:0.9349\n",
      "epoch: 200 loss:0.361816 auc:0.9343\n",
      "epoch: 220 loss:0.356794 auc:0.9334\n"
     ]
    },
    {
     "name": "stderr",
     "output_type": "stream",
     "text": [
      " 79%|███████▉  | 599/756 [1:29:12<20:17,  7.75s/it]"
     ]
    },
    {
     "name": "stdout",
     "output_type": "stream",
     "text": [
      "epoch: 240 loss:0.351152 auc:0.9325\n",
      "Fit finished.\n",
      "epoch:   0 loss:0.797625 auc:0.4685\n",
      "epoch:  20 loss:0.391420 auc:0.9182\n",
      "epoch:  40 loss:0.376717 auc:0.9280\n",
      "epoch:  60 loss:0.372603 auc:0.9284\n",
      "epoch:  80 loss:0.371238 auc:0.9287\n",
      "epoch: 100 loss:0.370270 auc:0.9292\n",
      "epoch: 120 loss:0.369016 auc:0.9295\n",
      "epoch: 140 loss:0.366767 auc:0.9299\n",
      "epoch: 160 loss:0.362793 auc:0.9319\n",
      "epoch: 180 loss:0.357962 auc:0.9331\n",
      "epoch: 200 loss:0.352680 auc:0.9328\n",
      "epoch: 220 loss:0.345916 auc:0.9323\n",
      "epoch: 240 loss:0.338135 auc:0.9310\n"
     ]
    },
    {
     "name": "stderr",
     "output_type": "stream",
     "text": [
      " 79%|███████▉  | 600/756 [1:29:21<21:26,  8.25s/it]"
     ]
    },
    {
     "name": "stdout",
     "output_type": "stream",
     "text": [
      "epoch: 260 loss:0.328863 auc:0.9265\n",
      "Fit finished.\n",
      "epoch:   0 loss:0.824193 auc:0.4928\n",
      "epoch:  20 loss:0.396089 auc:0.9238\n",
      "epoch:  40 loss:0.377546 auc:0.9215\n",
      "epoch:  60 loss:0.373206 auc:0.9207\n",
      "epoch:  80 loss:0.371623 auc:0.9220\n",
      "epoch: 100 loss:0.370549 auc:0.9212\n",
      "epoch: 120 loss:0.369343 auc:0.9213\n",
      "epoch: 140 loss:0.367324 auc:0.9207\n",
      "epoch: 160 loss:0.363035 auc:0.9192\n"
     ]
    },
    {
     "name": "stderr",
     "output_type": "stream",
     "text": [
      " 79%|███████▉  | 601/756 [1:29:27<19:24,  7.51s/it]"
     ]
    },
    {
     "name": "stdout",
     "output_type": "stream",
     "text": [
      "epoch: 180 loss:0.356994 auc:0.9162\n",
      "Fit finished.\n",
      "epoch:   0 loss:0.893209 auc:0.4513\n",
      "epoch:  20 loss:0.400750 auc:0.9012\n",
      "epoch:  40 loss:0.379237 auc:0.9024\n",
      "epoch:  60 loss:0.373556 auc:0.9038\n",
      "epoch:  80 loss:0.371646 auc:0.9041\n",
      "epoch: 100 loss:0.370718 auc:0.9047\n",
      "epoch: 120 loss:0.369934 auc:0.9050\n",
      "epoch: 140 loss:0.368919 auc:0.9044\n",
      "epoch: 160 loss:0.367139 auc:0.9042\n",
      "epoch: 180 loss:0.363511 auc:0.9021\n"
     ]
    },
    {
     "name": "stderr",
     "output_type": "stream",
     "text": [
      " 80%|███████▉  | 602/756 [1:29:34<18:54,  7.37s/it]"
     ]
    },
    {
     "name": "stdout",
     "output_type": "stream",
     "text": [
      "epoch: 200 loss:0.358528 auc:0.8985\n",
      "Fit finished.\n",
      "epoch:   0 loss:0.795869 auc:0.4696\n",
      "epoch:  20 loss:0.402497 auc:0.6886\n",
      "epoch:  40 loss:0.376349 auc:0.7014\n",
      "epoch:  60 loss:0.372336 auc:0.7023\n",
      "epoch:  80 loss:0.370942 auc:0.7034\n",
      "epoch: 100 loss:0.370055 auc:0.7037\n",
      "epoch: 120 loss:0.369050 auc:0.7039\n",
      "epoch: 140 loss:0.367525 auc:0.7038\n",
      "epoch: 160 loss:0.364575 auc:0.7042\n",
      "epoch: 180 loss:0.359439 auc:0.7040\n",
      "epoch: 200 loss:0.353837 auc:0.7049\n",
      "epoch: 220 loss:0.347187 auc:0.7077\n",
      "epoch: 240 loss:0.337866 auc:0.7188\n",
      "epoch: 260 loss:0.326914 auc:0.7333\n",
      "epoch: 280 loss:0.318659 auc:0.7436\n",
      "epoch: 300 loss:0.311651 auc:0.7549\n",
      "epoch: 320 loss:0.305583 auc:0.7571\n",
      "epoch: 340 loss:0.298129 auc:0.7546\n",
      "epoch: 360 loss:0.293313 auc:0.7671\n",
      "epoch: 380 loss:0.290173 auc:0.7647\n",
      "epoch: 400 loss:0.284776 auc:0.7710\n",
      "epoch: 420 loss:0.282757 auc:0.7746\n",
      "epoch: 440 loss:0.279035 auc:0.7749\n",
      "epoch: 460 loss:0.276444 auc:0.7723\n",
      "epoch: 480 loss:0.274920 auc:0.7683\n",
      "epoch: 500 loss:0.272656 auc:0.7640\n"
     ]
    },
    {
     "name": "stderr",
     "output_type": "stream",
     "text": [
      " 80%|███████▉  | 603/756 [1:29:51<26:13, 10.28s/it]"
     ]
    },
    {
     "name": "stdout",
     "output_type": "stream",
     "text": [
      "epoch: 520 loss:0.271083 auc:0.7656\n",
      "Fit finished.\n",
      "epoch:   0 loss:0.827578 auc:0.4023\n",
      "epoch:  20 loss:0.409543 auc:0.8614\n",
      "epoch:  40 loss:0.379813 auc:0.8732\n",
      "epoch:  60 loss:0.374133 auc:0.8775\n",
      "epoch:  80 loss:0.371995 auc:0.8781\n",
      "epoch: 100 loss:0.371009 auc:0.8794\n",
      "epoch: 120 loss:0.370260 auc:0.8796\n",
      "epoch: 140 loss:0.369450 auc:0.8796\n",
      "epoch: 160 loss:0.368364 auc:0.8794\n",
      "epoch: 180 loss:0.366695 auc:0.8788\n",
      "epoch: 200 loss:0.363947 auc:0.8776\n"
     ]
    },
    {
     "name": "stderr",
     "output_type": "stream",
     "text": [
      " 80%|███████▉  | 604/756 [1:29:58<23:20,  9.22s/it]"
     ]
    },
    {
     "name": "stdout",
     "output_type": "stream",
     "text": [
      "epoch: 220 loss:0.360221 auc:0.8765\n",
      "Fit finished.\n",
      "epoch:   0 loss:0.907811 auc:0.5441\n",
      "epoch:  20 loss:0.402247 auc:0.7813\n",
      "epoch:  40 loss:0.378883 auc:0.7877\n",
      "epoch:  60 loss:0.373447 auc:0.7894\n",
      "epoch:  80 loss:0.371727 auc:0.7895\n",
      "epoch: 100 loss:0.370854 auc:0.7894\n",
      "epoch: 120 loss:0.370048 auc:0.7895\n",
      "epoch: 140 loss:0.368985 auc:0.7896\n",
      "epoch: 160 loss:0.367253 auc:0.7900\n",
      "epoch: 180 loss:0.363851 auc:0.7898\n",
      "epoch: 200 loss:0.358937 auc:0.7878\n"
     ]
    },
    {
     "name": "stderr",
     "output_type": "stream",
     "text": [
      " 80%|████████  | 605/756 [1:30:05<21:33,  8.57s/it]"
     ]
    },
    {
     "name": "stdout",
     "output_type": "stream",
     "text": [
      "epoch: 220 loss:0.354473 auc:0.7860\n",
      "Fit finished.\n",
      "epoch:   0 loss:0.791290 auc:0.4787\n",
      "epoch:  20 loss:0.395329 auc:0.8608\n",
      "epoch:  40 loss:0.376952 auc:0.8642\n",
      "epoch:  60 loss:0.372527 auc:0.8631\n",
      "epoch:  80 loss:0.371072 auc:0.8626\n",
      "epoch: 100 loss:0.370111 auc:0.8628\n",
      "epoch: 120 loss:0.369012 auc:0.8623\n",
      "epoch: 140 loss:0.367192 auc:0.8624\n",
      "epoch: 160 loss:0.363181 auc:0.8624\n"
     ]
    },
    {
     "name": "stderr",
     "output_type": "stream",
     "text": [
      " 80%|████████  | 606/756 [1:30:11<19:43,  7.89s/it]"
     ]
    },
    {
     "name": "stdout",
     "output_type": "stream",
     "text": [
      "epoch: 180 loss:0.356552 auc:0.8602\n",
      "Fit finished.\n",
      "epoch:   0 loss:0.823771 auc:0.4444\n",
      "epoch:  20 loss:0.398522 auc:0.9071\n",
      "epoch:  40 loss:0.377104 auc:0.9123\n",
      "epoch:  60 loss:0.372715 auc:0.9111\n",
      "epoch:  80 loss:0.371183 auc:0.9110\n",
      "epoch: 100 loss:0.370198 auc:0.9108\n",
      "epoch: 120 loss:0.369006 auc:0.9110\n",
      "epoch: 140 loss:0.366833 auc:0.9098\n",
      "epoch: 160 loss:0.362100 auc:0.9079\n"
     ]
    },
    {
     "name": "stderr",
     "output_type": "stream",
     "text": [
      " 80%|████████  | 607/756 [1:30:17<18:15,  7.35s/it]"
     ]
    },
    {
     "name": "stdout",
     "output_type": "stream",
     "text": [
      "epoch: 180 loss:0.356366 auc:0.9057\n",
      "Fit finished.\n",
      "epoch:   0 loss:0.865326 auc:0.5010\n",
      "epoch:  20 loss:0.401268 auc:0.9104\n",
      "epoch:  40 loss:0.376967 auc:0.9154\n",
      "epoch:  60 loss:0.372808 auc:0.9188\n",
      "epoch:  80 loss:0.371443 auc:0.9186\n",
      "epoch: 100 loss:0.370516 auc:0.9183\n",
      "epoch: 120 loss:0.369472 auc:0.9182\n",
      "epoch: 140 loss:0.367840 auc:0.9176\n",
      "epoch: 160 loss:0.364695 auc:0.9164\n",
      "epoch: 180 loss:0.359489 auc:0.9148\n"
     ]
    },
    {
     "name": "stderr",
     "output_type": "stream",
     "text": [
      " 80%|████████  | 608/756 [1:30:24<17:32,  7.11s/it]"
     ]
    },
    {
     "name": "stdout",
     "output_type": "stream",
     "text": [
      "epoch: 200 loss:0.354085 auc:0.9137\n",
      "Fit finished.\n",
      "epoch:   0 loss:0.789922 auc:0.5004\n",
      "epoch:  20 loss:0.390578 auc:0.9493\n",
      "epoch:  40 loss:0.375183 auc:0.9553\n",
      "epoch:  60 loss:0.371870 auc:0.9552\n",
      "epoch:  80 loss:0.370620 auc:0.9549\n",
      "epoch: 100 loss:0.369182 auc:0.9548\n",
      "epoch: 120 loss:0.366627 auc:0.9537\n",
      "epoch: 140 loss:0.361684 auc:0.9512\n",
      "epoch: 160 loss:0.355672 auc:0.9470\n"
     ]
    },
    {
     "name": "stderr",
     "output_type": "stream",
     "text": [
      " 81%|████████  | 609/756 [1:30:30<16:36,  6.78s/it]"
     ]
    },
    {
     "name": "stdout",
     "output_type": "stream",
     "text": [
      "epoch: 180 loss:0.349320 auc:0.9429\n",
      "Fit finished.\n",
      "epoch:   0 loss:0.787425 auc:0.5673\n",
      "epoch:  20 loss:0.395510 auc:0.9564\n",
      "epoch:  40 loss:0.375537 auc:0.9651\n",
      "epoch:  60 loss:0.371972 auc:0.9647\n",
      "epoch:  80 loss:0.370563 auc:0.9655\n",
      "epoch: 100 loss:0.369442 auc:0.9653\n",
      "epoch: 120 loss:0.367831 auc:0.9658\n",
      "epoch: 140 loss:0.364435 auc:0.9662\n",
      "epoch: 160 loss:0.358770 auc:0.9666\n",
      "epoch: 180 loss:0.353137 auc:0.9661\n",
      "epoch: 200 loss:0.346676 auc:0.9657\n",
      "epoch: 220 loss:0.340373 auc:0.9663\n"
     ]
    },
    {
     "name": "stderr",
     "output_type": "stream",
     "text": [
      " 81%|████████  | 610/756 [1:30:38<17:34,  7.22s/it]"
     ]
    },
    {
     "name": "stdout",
     "output_type": "stream",
     "text": [
      "epoch: 240 loss:0.332035 auc:0.9536\n",
      "Fit finished.\n",
      "epoch:   0 loss:0.788650 auc:0.5331\n",
      "epoch:  20 loss:0.398010 auc:0.8944\n",
      "epoch:  40 loss:0.376222 auc:0.9101\n",
      "epoch:  60 loss:0.371894 auc:0.9088\n",
      "epoch:  80 loss:0.370595 auc:0.9089\n",
      "epoch: 100 loss:0.369449 auc:0.9084\n",
      "epoch: 120 loss:0.367692 auc:0.9082\n",
      "epoch: 140 loss:0.364318 auc:0.9076\n",
      "epoch: 160 loss:0.359459 auc:0.9078\n",
      "epoch: 180 loss:0.354803 auc:0.9076\n"
     ]
    },
    {
     "name": "stderr",
     "output_type": "stream",
     "text": [
      " 81%|████████  | 611/756 [1:30:45<17:01,  7.04s/it]"
     ]
    },
    {
     "name": "stdout",
     "output_type": "stream",
     "text": [
      "epoch: 200 loss:0.350217 auc:0.9067\n",
      "Fit finished.\n",
      "epoch:   0 loss:0.870849 auc:0.6993\n",
      "epoch:  20 loss:0.415177 auc:0.9169\n",
      "epoch:  40 loss:0.382895 auc:0.9178\n",
      "epoch:  60 loss:0.374871 auc:0.9167\n",
      "epoch:  80 loss:0.372263 auc:0.9176\n",
      "epoch: 100 loss:0.371167 auc:0.9178\n",
      "epoch: 120 loss:0.370394 auc:0.9179\n",
      "epoch: 140 loss:0.369607 auc:0.9179\n",
      "epoch: 160 loss:0.368599 auc:0.9184\n",
      "epoch: 180 loss:0.367051 auc:0.9191\n",
      "epoch: 200 loss:0.364315 auc:0.9195\n",
      "epoch: 220 loss:0.360187 auc:0.9209\n",
      "epoch: 240 loss:0.355950 auc:0.9206\n",
      "epoch: 260 loss:0.351935 auc:0.9186\n"
     ]
    },
    {
     "name": "stderr",
     "output_type": "stream",
     "text": [
      " 81%|████████  | 612/756 [1:30:54<18:18,  7.63s/it]"
     ]
    },
    {
     "name": "stdout",
     "output_type": "stream",
     "text": [
      "epoch: 280 loss:0.346628 auc:0.9166\n",
      "Fit finished.\n",
      "epoch:   0 loss:0.729990 auc:0.5914\n",
      "epoch:  20 loss:0.391339 auc:0.9625\n",
      "epoch:  40 loss:0.375254 auc:0.9619\n",
      "epoch:  60 loss:0.372296 auc:0.9619\n",
      "epoch:  80 loss:0.371337 auc:0.9619\n",
      "epoch: 100 loss:0.370529 auc:0.9619\n",
      "epoch: 120 loss:0.369507 auc:0.9619\n",
      "epoch: 140 loss:0.367804 auc:0.9625\n",
      "epoch: 160 loss:0.364472 auc:0.9637\n",
      "epoch: 180 loss:0.359048 auc:0.9661\n",
      "epoch: 200 loss:0.352901 auc:0.9674\n",
      "epoch: 220 loss:0.345359 auc:0.9685\n"
     ]
    },
    {
     "name": "stderr",
     "output_type": "stream",
     "text": [
      " 81%|████████  | 613/756 [1:31:01<18:01,  7.56s/it]"
     ]
    },
    {
     "name": "stdout",
     "output_type": "stream",
     "text": [
      "epoch: 240 loss:0.337983 auc:0.9612\n",
      "Fit finished.\n",
      "epoch:   0 loss:0.827925 auc:0.3675\n",
      "epoch:  20 loss:0.404824 auc:0.9363\n",
      "epoch:  40 loss:0.379598 auc:0.9411\n",
      "epoch:  60 loss:0.373600 auc:0.9399\n",
      "epoch:  80 loss:0.372051 auc:0.9409\n",
      "epoch: 100 loss:0.371319 auc:0.9409\n",
      "epoch: 120 loss:0.370769 auc:0.9408\n",
      "epoch: 140 loss:0.370203 auc:0.9410\n",
      "epoch: 160 loss:0.369485 auc:0.9412\n",
      "epoch: 180 loss:0.368339 auc:0.9416\n",
      "epoch: 200 loss:0.366037 auc:0.9420\n",
      "epoch: 220 loss:0.361309 auc:0.9424\n",
      "epoch: 240 loss:0.355043 auc:0.9433\n",
      "epoch: 260 loss:0.348232 auc:0.9434\n",
      "epoch: 280 loss:0.340506 auc:0.9428\n",
      "epoch: 300 loss:0.334051 auc:0.9418\n",
      "epoch: 320 loss:0.327700 auc:0.9437\n"
     ]
    },
    {
     "name": "stderr",
     "output_type": "stream",
     "text": [
      " 81%|████████  | 614/756 [1:31:11<19:58,  8.44s/it]"
     ]
    },
    {
     "name": "stdout",
     "output_type": "stream",
     "text": [
      "epoch: 340 loss:0.319298 auc:0.9408\n",
      "Fit finished.\n",
      "epoch:   0 loss:0.773808 auc:0.4758\n",
      "epoch:  20 loss:0.403688 auc:0.9405\n",
      "epoch:  40 loss:0.378474 auc:0.9441\n",
      "epoch:  60 loss:0.373628 auc:0.9430\n",
      "epoch:  80 loss:0.371927 auc:0.9435\n",
      "epoch: 100 loss:0.371035 auc:0.9432\n",
      "epoch: 120 loss:0.370195 auc:0.9434\n",
      "epoch: 140 loss:0.369025 auc:0.9431\n",
      "epoch: 160 loss:0.366896 auc:0.9427\n",
      "epoch: 180 loss:0.362484 auc:0.9417\n"
     ]
    },
    {
     "name": "stderr",
     "output_type": "stream",
     "text": [
      " 81%|████████▏ | 615/756 [1:31:18<18:20,  7.81s/it]"
     ]
    },
    {
     "name": "stdout",
     "output_type": "stream",
     "text": [
      "epoch: 200 loss:0.357016 auc:0.9410\n",
      "Fit finished.\n",
      "epoch:   0 loss:0.817690 auc:0.5295\n",
      "epoch:  20 loss:0.406772 auc:0.9070\n",
      "epoch:  40 loss:0.377509 auc:0.9167\n",
      "epoch:  60 loss:0.373214 auc:0.9180\n",
      "epoch:  80 loss:0.371696 auc:0.9195\n",
      "epoch: 100 loss:0.370896 auc:0.9188\n",
      "epoch: 120 loss:0.370133 auc:0.9188\n",
      "epoch: 140 loss:0.369109 auc:0.9187\n",
      "epoch: 160 loss:0.367404 auc:0.9190\n",
      "epoch: 180 loss:0.364167 auc:0.9189\n",
      "epoch: 200 loss:0.358985 auc:0.9195\n",
      "epoch: 220 loss:0.353822 auc:0.9214\n",
      "epoch: 240 loss:0.348706 auc:0.9270\n",
      "epoch: 260 loss:0.342885 auc:0.9312\n",
      "epoch: 280 loss:0.336733 auc:0.9318\n",
      "epoch: 300 loss:0.326909 auc:0.9337\n",
      "epoch: 320 loss:0.317413 auc:0.9320\n",
      "epoch: 340 loss:0.315838 auc:0.9220\n",
      "epoch: 360 loss:0.304187 auc:0.9303\n",
      "epoch: 380 loss:0.297149 auc:0.9272\n",
      "epoch: 400 loss:0.291937 auc:0.9279\n",
      "epoch: 420 loss:0.288422 auc:0.9312\n",
      "epoch: 440 loss:0.284528 auc:0.9325\n"
     ]
    },
    {
     "name": "stderr",
     "output_type": "stream",
     "text": [
      " 81%|████████▏ | 616/756 [1:31:32<22:59,  9.85s/it]"
     ]
    },
    {
     "name": "stdout",
     "output_type": "stream",
     "text": [
      "epoch: 460 loss:0.281953 auc:0.9335\n",
      "Fit finished.\n",
      "epoch:   0 loss:0.775121 auc:0.3994\n",
      "epoch:  20 loss:0.389555 auc:0.9195\n",
      "epoch:  40 loss:0.375480 auc:0.9200\n",
      "epoch:  60 loss:0.372081 auc:0.9212\n",
      "epoch:  80 loss:0.371127 auc:0.9213\n",
      "epoch: 100 loss:0.370362 auc:0.9213\n",
      "epoch: 120 loss:0.369390 auc:0.9212\n",
      "epoch: 140 loss:0.367641 auc:0.9214\n",
      "epoch: 160 loss:0.363952 auc:0.9211\n",
      "epoch: 180 loss:0.358790 auc:0.9207\n"
     ]
    },
    {
     "name": "stderr",
     "output_type": "stream",
     "text": [
      " 82%|████████▏ | 617/756 [1:31:39<20:44,  8.96s/it]"
     ]
    },
    {
     "name": "stdout",
     "output_type": "stream",
     "text": [
      "epoch: 200 loss:0.353223 auc:0.9185\n",
      "Fit finished.\n",
      "epoch:   0 loss:0.810818 auc:0.4480\n",
      "epoch:  20 loss:0.403589 auc:0.9163\n",
      "epoch:  40 loss:0.376666 auc:0.9209\n",
      "epoch:  60 loss:0.372986 auc:0.9205\n",
      "epoch:  80 loss:0.371686 auc:0.9207\n",
      "epoch: 100 loss:0.371031 auc:0.9208\n",
      "epoch: 120 loss:0.370448 auc:0.9207\n",
      "epoch: 140 loss:0.369739 auc:0.9205\n",
      "epoch: 160 loss:0.368629 auc:0.9207\n",
      "epoch: 180 loss:0.366309 auc:0.9202\n"
     ]
    },
    {
     "name": "stderr",
     "output_type": "stream",
     "text": [
      " 82%|████████▏ | 618/756 [1:31:46<18:51,  8.20s/it]"
     ]
    },
    {
     "name": "stdout",
     "output_type": "stream",
     "text": [
      "epoch: 200 loss:0.361592 auc:0.9196\n",
      "Fit finished.\n",
      "epoch:   0 loss:0.803786 auc:0.3653\n",
      "epoch:  20 loss:0.394036 auc:0.9516\n",
      "epoch:  40 loss:0.375898 auc:0.9542\n",
      "epoch:  60 loss:0.372232 auc:0.9557\n",
      "epoch:  80 loss:0.371122 auc:0.9552\n",
      "epoch: 100 loss:0.370232 auc:0.9554\n",
      "epoch: 120 loss:0.369050 auc:0.9553\n",
      "epoch: 140 loss:0.366866 auc:0.9549\n",
      "epoch: 160 loss:0.362110 auc:0.9550\n",
      "epoch: 180 loss:0.355332 auc:0.9542\n"
     ]
    },
    {
     "name": "stderr",
     "output_type": "stream",
     "text": [
      " 82%|████████▏ | 619/756 [1:31:53<18:14,  7.99s/it]"
     ]
    },
    {
     "name": "stdout",
     "output_type": "stream",
     "text": [
      "epoch: 200 loss:0.348441 auc:0.9534\n",
      "Fit finished.\n",
      "epoch:   0 loss:0.815895 auc:0.5067\n",
      "epoch:  20 loss:0.385901 auc:0.8563\n",
      "epoch:  40 loss:0.373902 auc:0.8638\n",
      "epoch:  60 loss:0.371685 auc:0.8649\n",
      "epoch:  80 loss:0.370630 auc:0.8657\n",
      "epoch: 100 loss:0.369513 auc:0.8658\n",
      "epoch: 120 loss:0.367616 auc:0.8649\n",
      "epoch: 140 loss:0.363965 auc:0.8628\n",
      "epoch: 160 loss:0.358614 auc:0.8595\n",
      "epoch: 180 loss:0.352693 auc:0.8585\n"
     ]
    },
    {
     "name": "stderr",
     "output_type": "stream",
     "text": [
      " 82%|████████▏ | 620/756 [1:31:59<16:26,  7.26s/it]"
     ]
    },
    {
     "name": "stdout",
     "output_type": "stream",
     "text": [
      "epoch: 200 loss:0.357767 auc:0.8547\n",
      "Fit finished.\n",
      "epoch:   0 loss:0.823489 auc:0.4793\n",
      "epoch:  20 loss:0.401461 auc:0.8943\n",
      "epoch:  40 loss:0.378451 auc:0.9008\n",
      "epoch:  60 loss:0.373632 auc:0.9015\n",
      "epoch:  80 loss:0.371806 auc:0.9014\n",
      "epoch: 100 loss:0.370856 auc:0.9014\n",
      "epoch: 120 loss:0.369981 auc:0.9010\n",
      "epoch: 140 loss:0.368895 auc:0.9006\n",
      "epoch: 160 loss:0.367258 auc:0.8996\n",
      "epoch: 180 loss:0.364391 auc:0.8984\n"
     ]
    },
    {
     "name": "stderr",
     "output_type": "stream",
     "text": [
      " 82%|████████▏ | 621/756 [1:32:06<16:17,  7.24s/it]"
     ]
    },
    {
     "name": "stdout",
     "output_type": "stream",
     "text": [
      "epoch: 200 loss:0.360027 auc:0.8952\n",
      "Fit finished.\n",
      "epoch:   0 loss:0.947131 auc:0.4570\n",
      "epoch:  20 loss:0.403385 auc:0.9090\n",
      "epoch:  40 loss:0.379485 auc:0.9242\n",
      "epoch:  60 loss:0.373673 auc:0.9265\n",
      "epoch:  80 loss:0.371918 auc:0.9258\n",
      "epoch: 100 loss:0.371036 auc:0.9253\n",
      "epoch: 120 loss:0.370166 auc:0.9253\n",
      "epoch: 140 loss:0.368944 auc:0.9244\n",
      "epoch: 160 loss:0.366778 auc:0.9232\n",
      "epoch: 180 loss:0.362894 auc:0.9206\n"
     ]
    },
    {
     "name": "stderr",
     "output_type": "stream",
     "text": [
      " 82%|████████▏ | 622/756 [1:32:13<16:04,  7.20s/it]"
     ]
    },
    {
     "name": "stdout",
     "output_type": "stream",
     "text": [
      "epoch: 200 loss:0.358328 auc:0.9178\n",
      "Fit finished.\n",
      "epoch:   0 loss:0.762588 auc:0.5878\n",
      "epoch:  20 loss:0.393012 auc:0.9562\n",
      "epoch:  40 loss:0.376150 auc:0.9652\n",
      "epoch:  60 loss:0.372461 auc:0.9650\n",
      "epoch:  80 loss:0.371294 auc:0.9657\n",
      "epoch: 100 loss:0.370155 auc:0.9652\n",
      "epoch: 120 loss:0.368295 auc:0.9649\n",
      "epoch: 140 loss:0.364423 auc:0.9651\n",
      "epoch: 160 loss:0.358772 auc:0.9639\n",
      "epoch: 180 loss:0.352837 auc:0.9602\n"
     ]
    },
    {
     "name": "stderr",
     "output_type": "stream",
     "text": [
      " 82%|████████▏ | 623/756 [1:32:20<15:32,  7.01s/it]"
     ]
    },
    {
     "name": "stdout",
     "output_type": "stream",
     "text": [
      "epoch: 200 loss:0.348095 auc:0.9527\n",
      "Fit finished.\n",
      "epoch:   0 loss:0.722292 auc:0.6495\n",
      "epoch:  20 loss:0.388259 auc:0.8689\n",
      "epoch:  40 loss:0.375501 auc:0.8683\n",
      "epoch:  60 loss:0.372008 auc:0.8719\n",
      "epoch:  80 loss:0.370746 auc:0.8717\n",
      "epoch: 100 loss:0.369598 auc:0.8709\n",
      "epoch: 120 loss:0.367783 auc:0.8712\n",
      "epoch: 140 loss:0.363986 auc:0.8705\n",
      "epoch: 160 loss:0.358800 auc:0.8689\n"
     ]
    },
    {
     "name": "stderr",
     "output_type": "stream",
     "text": [
      " 83%|████████▎ | 624/756 [1:32:26<14:45,  6.71s/it]"
     ]
    },
    {
     "name": "stdout",
     "output_type": "stream",
     "text": [
      "epoch: 180 loss:0.353486 auc:0.8651\n",
      "Fit finished.\n",
      "epoch:   0 loss:0.806575 auc:0.5254\n",
      "epoch:  20 loss:0.404840 auc:0.8854\n",
      "epoch:  40 loss:0.376409 auc:0.8889\n",
      "epoch:  60 loss:0.372728 auc:0.8912\n",
      "epoch:  80 loss:0.371489 auc:0.8901\n",
      "epoch: 100 loss:0.370790 auc:0.8907\n",
      "epoch: 120 loss:0.370144 auc:0.8904\n",
      "epoch: 140 loss:0.369325 auc:0.8905\n",
      "epoch: 160 loss:0.368007 auc:0.8909\n",
      "epoch: 180 loss:0.365311 auc:0.8909\n",
      "epoch: 200 loss:0.359763 auc:0.8905\n"
     ]
    },
    {
     "name": "stderr",
     "output_type": "stream",
     "text": [
      " 83%|████████▎ | 625/756 [1:32:32<14:44,  6.75s/it]"
     ]
    },
    {
     "name": "stdout",
     "output_type": "stream",
     "text": [
      "epoch: 220 loss:0.353664 auc:0.8896\n",
      "Fit finished.\n",
      "epoch:   0 loss:0.695848 auc:0.4567\n",
      "epoch:  20 loss:0.397238 auc:0.9037\n",
      "epoch:  40 loss:0.376289 auc:0.9069\n",
      "epoch:  60 loss:0.372376 auc:0.9058\n",
      "epoch:  80 loss:0.370699 auc:0.9056\n",
      "epoch: 100 loss:0.369307 auc:0.9053\n",
      "epoch: 120 loss:0.367016 auc:0.9052\n",
      "epoch: 140 loss:0.362381 auc:0.9036\n",
      "epoch: 160 loss:0.356800 auc:0.9003\n"
     ]
    },
    {
     "name": "stderr",
     "output_type": "stream",
     "text": [
      " 83%|████████▎ | 626/756 [1:32:38<14:07,  6.52s/it]"
     ]
    },
    {
     "name": "stdout",
     "output_type": "stream",
     "text": [
      "epoch: 180 loss:0.350766 auc:0.8934\n",
      "Fit finished.\n",
      "epoch:   0 loss:0.794734 auc:0.3787\n",
      "epoch:  20 loss:0.391413 auc:0.9021\n",
      "epoch:  40 loss:0.377518 auc:0.9059\n",
      "epoch:  60 loss:0.372967 auc:0.9072\n",
      "epoch:  80 loss:0.371637 auc:0.9083\n",
      "epoch: 100 loss:0.370828 auc:0.9079\n",
      "epoch: 120 loss:0.369991 auc:0.9081\n",
      "epoch: 140 loss:0.368817 auc:0.9074\n",
      "epoch: 160 loss:0.366807 auc:0.9070\n",
      "epoch: 180 loss:0.363221 auc:0.9044\n"
     ]
    },
    {
     "name": "stderr",
     "output_type": "stream",
     "text": [
      " 83%|████████▎ | 627/756 [1:32:45<13:55,  6.48s/it]"
     ]
    },
    {
     "name": "stdout",
     "output_type": "stream",
     "text": [
      "epoch: 200 loss:0.358813 auc:0.9005\n",
      "Fit finished.\n",
      "epoch:   0 loss:0.809530 auc:0.4902\n",
      "epoch:  20 loss:0.408763 auc:0.9381\n",
      "epoch:  40 loss:0.380764 auc:0.9446\n",
      "epoch:  60 loss:0.373878 auc:0.9460\n",
      "epoch:  80 loss:0.371965 auc:0.9450\n",
      "epoch: 100 loss:0.371055 auc:0.9452\n",
      "epoch: 120 loss:0.370241 auc:0.9449\n",
      "epoch: 140 loss:0.369188 auc:0.9445\n",
      "epoch: 160 loss:0.367474 auc:0.9438\n",
      "epoch: 180 loss:0.364399 auc:0.9426\n"
     ]
    },
    {
     "name": "stderr",
     "output_type": "stream",
     "text": [
      " 83%|████████▎ | 628/756 [1:32:51<13:51,  6.50s/it]"
     ]
    },
    {
     "name": "stdout",
     "output_type": "stream",
     "text": [
      "epoch: 200 loss:0.359971 auc:0.9398\n",
      "Fit finished.\n",
      "epoch:   0 loss:0.780745 auc:0.4099\n",
      "epoch:  20 loss:0.398742 auc:0.9438\n",
      "epoch:  40 loss:0.377071 auc:0.9463\n",
      "epoch:  60 loss:0.373167 auc:0.9467\n",
      "epoch:  80 loss:0.371647 auc:0.9468\n",
      "epoch: 100 loss:0.370798 auc:0.9471\n",
      "epoch: 120 loss:0.369992 auc:0.9471\n",
      "epoch: 140 loss:0.368916 auc:0.9469\n",
      "epoch: 160 loss:0.367129 auc:0.9466\n",
      "epoch: 180 loss:0.363815 auc:0.9454\n"
     ]
    },
    {
     "name": "stderr",
     "output_type": "stream",
     "text": [
      " 83%|████████▎ | 629/756 [1:32:59<14:25,  6.81s/it]"
     ]
    },
    {
     "name": "stdout",
     "output_type": "stream",
     "text": [
      "epoch: 200 loss:0.359097 auc:0.9426\n",
      "Fit finished.\n",
      "epoch:   0 loss:0.810895 auc:0.4881\n",
      "epoch:  20 loss:0.392447 auc:0.8266\n",
      "epoch:  40 loss:0.375795 auc:0.8317\n",
      "epoch:  60 loss:0.372244 auc:0.8320\n",
      "epoch:  80 loss:0.371173 auc:0.8321\n",
      "epoch: 100 loss:0.370399 auc:0.8316\n",
      "epoch: 120 loss:0.369466 auc:0.8321\n",
      "epoch: 140 loss:0.367974 auc:0.8317\n",
      "epoch: 160 loss:0.365288 auc:0.8308\n",
      "epoch: 180 loss:0.361175 auc:0.8296\n"
     ]
    },
    {
     "name": "stderr",
     "output_type": "stream",
     "text": [
      " 83%|████████▎ | 630/756 [1:33:06<14:26,  6.87s/it]"
     ]
    },
    {
     "name": "stdout",
     "output_type": "stream",
     "text": [
      "epoch: 200 loss:0.356835 auc:0.8285\n",
      "Fit finished.\n",
      "epoch:   0 loss:0.905561 auc:0.6480\n",
      "epoch:  20 loss:0.414532 auc:0.7955\n",
      "epoch:  40 loss:0.382825 auc:0.8331\n",
      "epoch:  60 loss:0.374660 auc:0.8400\n",
      "epoch:  80 loss:0.372141 auc:0.8421\n",
      "epoch: 100 loss:0.371150 auc:0.8414\n",
      "epoch: 120 loss:0.370427 auc:0.8412\n",
      "epoch: 140 loss:0.369652 auc:0.8395\n",
      "epoch: 160 loss:0.368602 auc:0.8379\n",
      "epoch: 180 loss:0.366955 auc:0.8376\n",
      "epoch: 200 loss:0.364172 auc:0.8346\n"
     ]
    },
    {
     "name": "stderr",
     "output_type": "stream",
     "text": [
      " 83%|████████▎ | 631/756 [1:33:13<14:37,  7.02s/it]"
     ]
    },
    {
     "name": "stdout",
     "output_type": "stream",
     "text": [
      "epoch: 220 loss:0.360473 auc:0.8296\n",
      "Fit finished.\n",
      "epoch:   0 loss:0.746225 auc:0.4626\n",
      "epoch:  20 loss:0.394990 auc:0.9368\n",
      "epoch:  40 loss:0.376248 auc:0.9357\n",
      "epoch:  60 loss:0.372386 auc:0.9338\n",
      "epoch:  80 loss:0.371104 auc:0.9338\n",
      "epoch: 100 loss:0.370057 auc:0.9337\n",
      "epoch: 120 loss:0.368598 auc:0.9337\n",
      "epoch: 140 loss:0.365906 auc:0.9327\n",
      "epoch: 160 loss:0.360985 auc:0.9307\n"
     ]
    },
    {
     "name": "stderr",
     "output_type": "stream",
     "text": [
      " 84%|████████▎ | 632/756 [1:33:20<14:00,  6.78s/it]"
     ]
    },
    {
     "name": "stdout",
     "output_type": "stream",
     "text": [
      "epoch: 180 loss:0.354797 auc:0.9260\n",
      "Fit finished.\n",
      "epoch:   0 loss:0.740528 auc:0.5663\n",
      "epoch:  20 loss:0.402556 auc:0.7947\n",
      "epoch:  40 loss:0.375657 auc:0.8005\n",
      "epoch:  60 loss:0.371926 auc:0.8017\n",
      "epoch:  80 loss:0.370625 auc:0.8026\n",
      "epoch: 100 loss:0.369599 auc:0.8024\n",
      "epoch: 120 loss:0.368145 auc:0.8021\n",
      "epoch: 140 loss:0.365390 auc:0.8011\n",
      "epoch: 160 loss:0.360570 auc:0.7980\n"
     ]
    },
    {
     "name": "stderr",
     "output_type": "stream",
     "text": [
      " 84%|████████▎ | 633/756 [1:33:25<13:18,  6.49s/it]"
     ]
    },
    {
     "name": "stdout",
     "output_type": "stream",
     "text": [
      "epoch: 180 loss:0.355171 auc:0.7946\n",
      "Fit finished.\n",
      "epoch:   0 loss:0.775983 auc:0.4310\n",
      "epoch:  20 loss:0.393463 auc:0.8342\n",
      "epoch:  40 loss:0.377903 auc:0.8394\n",
      "epoch:  60 loss:0.372843 auc:0.8407\n",
      "epoch:  80 loss:0.371268 auc:0.8400\n",
      "epoch: 100 loss:0.370297 auc:0.8401\n",
      "epoch: 120 loss:0.369199 auc:0.8402\n",
      "epoch: 140 loss:0.367259 auc:0.8398\n",
      "epoch: 160 loss:0.363377 auc:0.8386\n",
      "epoch: 180 loss:0.358333 auc:0.8346\n"
     ]
    },
    {
     "name": "stderr",
     "output_type": "stream",
     "text": [
      " 84%|████████▍ | 634/756 [1:33:32<13:24,  6.59s/it]"
     ]
    },
    {
     "name": "stdout",
     "output_type": "stream",
     "text": [
      "epoch: 200 loss:0.353754 auc:0.8324\n",
      "Fit finished.\n",
      "epoch:   0 loss:0.856384 auc:0.3348\n",
      "epoch:  20 loss:0.400927 auc:0.9121\n",
      "epoch:  40 loss:0.379704 auc:0.9230\n",
      "epoch:  60 loss:0.373832 auc:0.9252\n",
      "epoch:  80 loss:0.372136 auc:0.9260\n",
      "epoch: 100 loss:0.371344 auc:0.9268\n",
      "epoch: 120 loss:0.370693 auc:0.9266\n",
      "epoch: 140 loss:0.369957 auc:0.9268\n",
      "epoch: 160 loss:0.368951 auc:0.9270\n",
      "epoch: 180 loss:0.367262 auc:0.9268\n",
      "epoch: 200 loss:0.364089 auc:0.9268\n",
      "epoch: 220 loss:0.359574 auc:0.9261\n"
     ]
    },
    {
     "name": "stderr",
     "output_type": "stream",
     "text": [
      " 84%|████████▍ | 635/756 [1:33:40<13:52,  6.88s/it]"
     ]
    },
    {
     "name": "stdout",
     "output_type": "stream",
     "text": [
      "epoch: 240 loss:0.355047 auc:0.9246\n",
      "Fit finished.\n",
      "epoch:   0 loss:0.739579 auc:0.5568\n",
      "epoch:  20 loss:0.395988 auc:0.8796\n",
      "epoch:  40 loss:0.376127 auc:0.8847\n",
      "epoch:  60 loss:0.372574 auc:0.8879\n",
      "epoch:  80 loss:0.371214 auc:0.8890\n",
      "epoch: 100 loss:0.370255 auc:0.8879\n",
      "epoch: 120 loss:0.369057 auc:0.8877\n",
      "epoch: 140 loss:0.366944 auc:0.8866\n",
      "epoch: 160 loss:0.362769 auc:0.8855\n",
      "epoch: 180 loss:0.357700 auc:0.8796\n"
     ]
    },
    {
     "name": "stderr",
     "output_type": "stream",
     "text": [
      " 84%|████████▍ | 636/756 [1:33:47<14:17,  7.15s/it]"
     ]
    },
    {
     "name": "stdout",
     "output_type": "stream",
     "text": [
      "epoch: 200 loss:0.352085 auc:0.8791\n",
      "Fit finished.\n",
      "epoch:   0 loss:0.809082 auc:0.4038\n",
      "epoch:  20 loss:0.401567 auc:0.9210\n",
      "epoch:  40 loss:0.377924 auc:0.9236\n",
      "epoch:  60 loss:0.373008 auc:0.9235\n",
      "epoch:  80 loss:0.371301 auc:0.9245\n",
      "epoch: 100 loss:0.370216 auc:0.9244\n",
      "epoch: 120 loss:0.368938 auc:0.9242\n",
      "epoch: 140 loss:0.366854 auc:0.9238\n",
      "epoch: 160 loss:0.362941 auc:0.9220\n"
     ]
    },
    {
     "name": "stderr",
     "output_type": "stream",
     "text": [
      " 84%|████████▍ | 637/756 [1:33:53<13:21,  6.73s/it]"
     ]
    },
    {
     "name": "stdout",
     "output_type": "stream",
     "text": [
      "epoch: 180 loss:0.357717 auc:0.9192\n",
      "Fit finished.\n",
      "epoch:   0 loss:0.771279 auc:0.4852\n",
      "epoch:  20 loss:0.388377 auc:0.9038\n",
      "epoch:  40 loss:0.374287 auc:0.9060\n",
      "epoch:  60 loss:0.371507 auc:0.9059\n",
      "epoch:  80 loss:0.370125 auc:0.9061\n",
      "epoch: 100 loss:0.368675 auc:0.9062\n",
      "epoch: 120 loss:0.366314 auc:0.9060\n",
      "epoch: 140 loss:0.361600 auc:0.9059\n",
      "epoch: 160 loss:0.355430 auc:0.9053\n",
      "epoch: 180 loss:0.349201 auc:0.9056\n"
     ]
    },
    {
     "name": "stderr",
     "output_type": "stream",
     "text": [
      " 84%|████████▍ | 638/756 [1:34:00<13:00,  6.62s/it]"
     ]
    },
    {
     "name": "stdout",
     "output_type": "stream",
     "text": [
      "epoch: 200 loss:0.342856 auc:0.9028\n",
      "Fit finished.\n",
      "epoch:   0 loss:0.815051 auc:0.4249\n",
      "epoch:  20 loss:0.394565 auc:0.8475\n",
      "epoch:  40 loss:0.375714 auc:0.8555\n",
      "epoch:  60 loss:0.372633 auc:0.8562\n",
      "epoch:  80 loss:0.371418 auc:0.8558\n",
      "epoch: 100 loss:0.370643 auc:0.8556\n",
      "epoch: 120 loss:0.369765 auc:0.8557\n",
      "epoch: 140 loss:0.368417 auc:0.8556\n",
      "epoch: 160 loss:0.365933 auc:0.8558\n",
      "epoch: 180 loss:0.361870 auc:0.8563\n",
      "epoch: 200 loss:0.357486 auc:0.8564\n",
      "epoch: 220 loss:0.352841 auc:0.8573\n",
      "epoch: 240 loss:0.348352 auc:0.8566\n"
     ]
    },
    {
     "name": "stderr",
     "output_type": "stream",
     "text": [
      " 85%|████████▍ | 639/756 [1:34:08<14:10,  7.27s/it]"
     ]
    },
    {
     "name": "stdout",
     "output_type": "stream",
     "text": [
      "epoch: 260 loss:0.339343 auc:0.8528\n",
      "Fit finished.\n",
      "epoch:   0 loss:0.842366 auc:0.5089\n",
      "epoch:  20 loss:0.403926 auc:0.9438\n",
      "epoch:  40 loss:0.377151 auc:0.9482\n",
      "epoch:  60 loss:0.373350 auc:0.9492\n",
      "epoch:  80 loss:0.371998 auc:0.9489\n",
      "epoch: 100 loss:0.371205 auc:0.9491\n",
      "epoch: 120 loss:0.370491 auc:0.9489\n",
      "epoch: 140 loss:0.369623 auc:0.9490\n",
      "epoch: 160 loss:0.368317 auc:0.9490\n",
      "epoch: 180 loss:0.365754 auc:0.9479\n"
     ]
    },
    {
     "name": "stderr",
     "output_type": "stream",
     "text": [
      " 85%|████████▍ | 640/756 [1:34:15<13:48,  7.14s/it]"
     ]
    },
    {
     "name": "stdout",
     "output_type": "stream",
     "text": [
      "epoch: 200 loss:0.360644 auc:0.9470\n",
      "Fit finished.\n",
      "epoch:   0 loss:0.752752 auc:0.5030\n",
      "epoch:  20 loss:0.392365 auc:0.7469\n",
      "epoch:  40 loss:0.374072 auc:0.7486\n",
      "epoch:  60 loss:0.371281 auc:0.7479\n",
      "epoch:  80 loss:0.369995 auc:0.7476\n",
      "epoch: 100 loss:0.368570 auc:0.7475\n",
      "epoch: 120 loss:0.366089 auc:0.7473\n",
      "epoch: 140 loss:0.361156 auc:0.7455\n",
      "epoch: 160 loss:0.355062 auc:0.7435\n"
     ]
    },
    {
     "name": "stderr",
     "output_type": "stream",
     "text": [
      " 85%|████████▍ | 641/756 [1:34:21<12:59,  6.78s/it]"
     ]
    },
    {
     "name": "stdout",
     "output_type": "stream",
     "text": [
      "epoch: 180 loss:0.350747 auc:0.7449\n",
      "Fit finished.\n",
      "epoch:   0 loss:0.803221 auc:0.4088\n",
      "epoch:  20 loss:0.388512 auc:0.9616\n",
      "epoch:  40 loss:0.374803 auc:0.9620\n",
      "epoch:  60 loss:0.371728 auc:0.9632\n",
      "epoch:  80 loss:0.370380 auc:0.9631\n",
      "epoch: 100 loss:0.368782 auc:0.9634\n",
      "epoch: 120 loss:0.365388 auc:0.9641\n",
      "epoch: 140 loss:0.359203 auc:0.9640\n",
      "epoch: 160 loss:0.352213 auc:0.9631\n"
     ]
    },
    {
     "name": "stderr",
     "output_type": "stream",
     "text": [
      " 85%|████████▍ | 642/756 [1:34:28<12:39,  6.66s/it]"
     ]
    },
    {
     "name": "stdout",
     "output_type": "stream",
     "text": [
      "epoch: 180 loss:0.343760 auc:0.9535\n",
      "Fit finished.\n",
      "epoch:   0 loss:0.775914 auc:0.4908\n",
      "epoch:  20 loss:0.400273 auc:0.9241\n",
      "epoch:  40 loss:0.378584 auc:0.9303\n",
      "epoch:  60 loss:0.373487 auc:0.9322\n",
      "epoch:  80 loss:0.371776 auc:0.9325\n",
      "epoch: 100 loss:0.370921 auc:0.9325\n",
      "epoch: 120 loss:0.370162 auc:0.9323\n",
      "epoch: 140 loss:0.369185 auc:0.9325\n",
      "epoch: 160 loss:0.367565 auc:0.9326\n",
      "epoch: 180 loss:0.364389 auc:0.9322\n",
      "epoch: 200 loss:0.359764 auc:0.9306\n"
     ]
    },
    {
     "name": "stderr",
     "output_type": "stream",
     "text": [
      " 85%|████████▌ | 643/756 [1:34:35<13:14,  7.03s/it]"
     ]
    },
    {
     "name": "stdout",
     "output_type": "stream",
     "text": [
      "epoch: 220 loss:0.355400 auc:0.9291\n",
      "Fit finished.\n",
      "epoch:   0 loss:0.788345 auc:0.4981\n",
      "epoch:  20 loss:0.403644 auc:0.8394\n",
      "epoch:  40 loss:0.379270 auc:0.8473\n",
      "epoch:  60 loss:0.373372 auc:0.8468\n",
      "epoch:  80 loss:0.371750 auc:0.8483\n",
      "epoch: 100 loss:0.370918 auc:0.8479\n",
      "epoch: 120 loss:0.370200 auc:0.8475\n",
      "epoch: 140 loss:0.369317 auc:0.8472\n",
      "epoch: 160 loss:0.367987 auc:0.8461\n",
      "epoch: 180 loss:0.365763 auc:0.8445\n"
     ]
    },
    {
     "name": "stderr",
     "output_type": "stream",
     "text": [
      " 85%|████████▌ | 644/756 [1:34:42<12:45,  6.84s/it]"
     ]
    },
    {
     "name": "stdout",
     "output_type": "stream",
     "text": [
      "epoch: 200 loss:0.362161 auc:0.8419\n",
      "Fit finished.\n",
      "epoch:   0 loss:0.740595 auc:0.4617\n",
      "epoch:  20 loss:0.397439 auc:0.8871\n",
      "epoch:  40 loss:0.375958 auc:0.8883\n",
      "epoch:  60 loss:0.372518 auc:0.8886\n",
      "epoch:  80 loss:0.371250 auc:0.8876\n",
      "epoch: 100 loss:0.370263 auc:0.8868\n",
      "epoch: 120 loss:0.368767 auc:0.8858\n",
      "epoch: 140 loss:0.365570 auc:0.8842\n",
      "epoch: 160 loss:0.359796 auc:0.8803\n"
     ]
    },
    {
     "name": "stderr",
     "output_type": "stream",
     "text": [
      " 85%|████████▌ | 645/756 [1:34:48<12:01,  6.50s/it]"
     ]
    },
    {
     "name": "stdout",
     "output_type": "stream",
     "text": [
      "epoch: 180 loss:0.354152 auc:0.8789\n",
      "Fit finished.\n",
      "epoch:   0 loss:0.705084 auc:0.6279\n",
      "epoch:  20 loss:0.393853 auc:0.8514\n",
      "epoch:  40 loss:0.375398 auc:0.8547\n",
      "epoch:  60 loss:0.372485 auc:0.8551\n",
      "epoch:  80 loss:0.371148 auc:0.8558\n",
      "epoch: 100 loss:0.370318 auc:0.8554\n",
      "epoch: 120 loss:0.369491 auc:0.8557\n",
      "epoch: 140 loss:0.368415 auc:0.8560\n",
      "epoch: 160 loss:0.366736 auc:0.8560\n",
      "epoch: 180 loss:0.363889 auc:0.8560\n",
      "epoch: 200 loss:0.359833 auc:0.8565\n",
      "epoch: 220 loss:0.355574 auc:0.8560\n",
      "epoch: 240 loss:0.350663 auc:0.8567\n",
      "epoch: 260 loss:0.344535 auc:0.8614\n",
      "epoch: 280 loss:0.337312 auc:0.8635\n",
      "epoch: 300 loss:0.329126 auc:0.8646\n",
      "epoch: 320 loss:0.321340 auc:0.8649\n",
      "epoch: 340 loss:0.311787 auc:0.8647\n",
      "epoch: 360 loss:0.304278 auc:0.8661\n",
      "epoch: 380 loss:0.300010 auc:0.8686\n",
      "epoch: 400 loss:0.291821 auc:0.8596\n"
     ]
    },
    {
     "name": "stderr",
     "output_type": "stream",
     "text": [
      " 85%|████████▌ | 646/756 [1:35:01<15:39,  8.54s/it]"
     ]
    },
    {
     "name": "stdout",
     "output_type": "stream",
     "text": [
      "epoch: 420 loss:0.287272 auc:0.8564\n",
      "Fit finished.\n",
      "epoch:   0 loss:0.713914 auc:0.4481\n",
      "epoch:  20 loss:0.395179 auc:0.9586\n",
      "epoch:  40 loss:0.376455 auc:0.9622\n",
      "epoch:  60 loss:0.372430 auc:0.9612\n",
      "epoch:  80 loss:0.371166 auc:0.9612\n",
      "epoch: 100 loss:0.370003 auc:0.9613\n",
      "epoch: 120 loss:0.368072 auc:0.9613\n",
      "epoch: 140 loss:0.363832 auc:0.9600\n",
      "epoch: 160 loss:0.357367 auc:0.9584\n"
     ]
    },
    {
     "name": "stderr",
     "output_type": "stream",
     "text": [
      " 86%|████████▌ | 647/756 [1:35:07<14:16,  7.86s/it]"
     ]
    },
    {
     "name": "stdout",
     "output_type": "stream",
     "text": [
      "epoch: 180 loss:0.350334 auc:0.9545\n",
      "Fit finished.\n",
      "epoch:   0 loss:0.668949 auc:0.6533\n",
      "epoch:  20 loss:0.391071 auc:0.9170\n",
      "epoch:  40 loss:0.376921 auc:0.9183\n",
      "epoch:  60 loss:0.372860 auc:0.9159\n",
      "epoch:  80 loss:0.371615 auc:0.9161\n",
      "epoch: 100 loss:0.370827 auc:0.9159\n",
      "epoch: 120 loss:0.370016 auc:0.9158\n",
      "epoch: 140 loss:0.368867 auc:0.9157\n",
      "epoch: 160 loss:0.366869 auc:0.9156\n"
     ]
    },
    {
     "name": "stderr",
     "output_type": "stream",
     "text": [
      " 86%|████████▌ | 648/756 [1:35:13<12:51,  7.14s/it]"
     ]
    },
    {
     "name": "stdout",
     "output_type": "stream",
     "text": [
      "epoch: 180 loss:0.362979 auc:0.9165\n",
      "Fit finished.\n",
      "epoch:   0 loss:0.844961 auc:0.6095\n",
      "epoch:  20 loss:0.404423 auc:0.9317\n",
      "epoch:  40 loss:0.378551 auc:0.9313\n",
      "epoch:  60 loss:0.373445 auc:0.9298\n",
      "epoch:  80 loss:0.371958 auc:0.9304\n",
      "epoch: 100 loss:0.371114 auc:0.9306\n",
      "epoch: 120 loss:0.370255 auc:0.9308\n",
      "epoch: 140 loss:0.369002 auc:0.9306\n",
      "epoch: 160 loss:0.366503 auc:0.9314\n",
      "epoch: 180 loss:0.361331 auc:0.9344\n",
      "epoch: 200 loss:0.355314 auc:0.9318\n"
     ]
    },
    {
     "name": "stderr",
     "output_type": "stream",
     "text": [
      " 86%|████████▌ | 649/756 [1:35:18<11:50,  6.64s/it]"
     ]
    },
    {
     "name": "stdout",
     "output_type": "stream",
     "text": [
      "epoch: 220 loss:0.349308 auc:0.9291\n",
      "Fit finished.\n",
      "epoch:   0 loss:0.860214 auc:0.3145\n",
      "epoch:  20 loss:0.402554 auc:0.8870\n",
      "epoch:  40 loss:0.377629 auc:0.8916\n",
      "epoch:  60 loss:0.373402 auc:0.8901\n",
      "epoch:  80 loss:0.371788 auc:0.8910\n",
      "epoch: 100 loss:0.370979 auc:0.8913\n",
      "epoch: 120 loss:0.370142 auc:0.8912\n",
      "epoch: 140 loss:0.368837 auc:0.8912\n",
      "epoch: 160 loss:0.366395 auc:0.8909\n",
      "epoch: 180 loss:0.362354 auc:0.8894\n"
     ]
    },
    {
     "name": "stderr",
     "output_type": "stream",
     "text": [
      " 86%|████████▌ | 650/756 [1:35:26<12:13,  6.92s/it]"
     ]
    },
    {
     "name": "stdout",
     "output_type": "stream",
     "text": [
      "epoch: 200 loss:0.357785 auc:0.8882\n",
      "Fit finished.\n",
      "epoch:   0 loss:0.697942 auc:0.6335\n",
      "epoch:  20 loss:0.386664 auc:0.9303\n",
      "epoch:  40 loss:0.375200 auc:0.9312\n",
      "epoch:  60 loss:0.371994 auc:0.9339\n",
      "epoch:  80 loss:0.370798 auc:0.9335\n",
      "epoch: 100 loss:0.369627 auc:0.9334\n",
      "epoch: 120 loss:0.367579 auc:0.9335\n",
      "epoch: 140 loss:0.363164 auc:0.9339\n",
      "epoch: 160 loss:0.357228 auc:0.9330\n",
      "epoch: 180 loss:0.353869 auc:0.9312\n"
     ]
    },
    {
     "name": "stderr",
     "output_type": "stream",
     "text": [
      " 86%|████████▌ | 651/756 [1:35:32<11:52,  6.79s/it]"
     ]
    },
    {
     "name": "stdout",
     "output_type": "stream",
     "text": [
      "epoch: 200 loss:0.344689 auc:0.9240\n",
      "Fit finished.\n",
      "epoch:   0 loss:0.727211 auc:0.6070\n",
      "epoch:  20 loss:0.389143 auc:0.8915\n",
      "epoch:  40 loss:0.374680 auc:0.8950\n",
      "epoch:  60 loss:0.371685 auc:0.8964\n",
      "epoch:  80 loss:0.370400 auc:0.8957\n",
      "epoch: 100 loss:0.368923 auc:0.8958\n",
      "epoch: 120 loss:0.366199 auc:0.8968\n",
      "epoch: 140 loss:0.361377 auc:0.8970\n",
      "epoch: 160 loss:0.356028 auc:0.8974\n",
      "epoch: 180 loss:0.349683 auc:0.8973\n"
     ]
    },
    {
     "name": "stderr",
     "output_type": "stream",
     "text": [
      " 86%|████████▌ | 652/756 [1:35:38<11:24,  6.58s/it]"
     ]
    },
    {
     "name": "stdout",
     "output_type": "stream",
     "text": [
      "epoch: 200 loss:0.340809 auc:0.8932\n",
      "Fit finished.\n",
      "epoch:   0 loss:0.726575 auc:0.3909\n",
      "epoch:  20 loss:0.399044 auc:0.8799\n",
      "epoch:  40 loss:0.377241 auc:0.8822\n",
      "epoch:  60 loss:0.372788 auc:0.8815\n",
      "epoch:  80 loss:0.371203 auc:0.8826\n",
      "epoch: 100 loss:0.370121 auc:0.8828\n",
      "epoch: 120 loss:0.368723 auc:0.8829\n",
      "epoch: 140 loss:0.366278 auc:0.8830\n",
      "epoch: 160 loss:0.361936 auc:0.8835\n",
      "epoch: 180 loss:0.356619 auc:0.8828\n"
     ]
    },
    {
     "name": "stderr",
     "output_type": "stream",
     "text": [
      " 86%|████████▋ | 653/756 [1:35:44<10:52,  6.33s/it]"
     ]
    },
    {
     "name": "stdout",
     "output_type": "stream",
     "text": [
      "epoch: 200 loss:0.351037 auc:0.8814\n",
      "Fit finished.\n",
      "epoch:   0 loss:0.840266 auc:0.3746\n",
      "epoch:  20 loss:0.400942 auc:0.9233\n",
      "epoch:  40 loss:0.380291 auc:0.9317\n",
      "epoch:  60 loss:0.374571 auc:0.9311\n",
      "epoch:  80 loss:0.372479 auc:0.9304\n",
      "epoch: 100 loss:0.371506 auc:0.9305\n",
      "epoch: 120 loss:0.370733 auc:0.9305\n",
      "epoch: 140 loss:0.369900 auc:0.9302\n",
      "epoch: 160 loss:0.368830 auc:0.9303\n",
      "epoch: 180 loss:0.367190 auc:0.9300\n"
     ]
    },
    {
     "name": "stderr",
     "output_type": "stream",
     "text": [
      " 87%|████████▋ | 654/756 [1:35:50<10:49,  6.37s/it]"
     ]
    },
    {
     "name": "stdout",
     "output_type": "stream",
     "text": [
      "epoch: 200 loss:0.364345 auc:0.9288\n",
      "Fit finished.\n",
      "epoch:   0 loss:0.722605 auc:0.5806\n",
      "epoch:  20 loss:0.398763 auc:0.9406\n",
      "epoch:  40 loss:0.375470 auc:0.9455\n",
      "epoch:  60 loss:0.372106 auc:0.9462\n",
      "epoch:  80 loss:0.370917 auc:0.9468\n",
      "epoch: 100 loss:0.369940 auc:0.9467\n",
      "epoch: 120 loss:0.368614 auc:0.9469\n",
      "epoch: 140 loss:0.366259 auc:0.9469\n",
      "epoch: 160 loss:0.362162 auc:0.9473\n",
      "epoch: 180 loss:0.357367 auc:0.9485\n",
      "epoch: 200 loss:0.351693 auc:0.9491\n",
      "epoch: 220 loss:0.345454 auc:0.9517\n",
      "epoch: 240 loss:0.335139 auc:0.9528\n",
      "epoch: 260 loss:0.326928 auc:0.9535\n",
      "epoch: 280 loss:0.318284 auc:0.9515\n",
      "epoch: 300 loss:0.311876 auc:0.9538\n",
      "epoch: 320 loss:0.305201 auc:0.9565\n",
      "epoch: 340 loss:0.298852 auc:0.9485\n"
     ]
    },
    {
     "name": "stderr",
     "output_type": "stream",
     "text": [
      " 87%|████████▋ | 655/756 [1:36:02<13:09,  7.81s/it]"
     ]
    },
    {
     "name": "stdout",
     "output_type": "stream",
     "text": [
      "epoch: 360 loss:0.294002 auc:0.9451\n",
      "Fit finished.\n",
      "epoch:   0 loss:0.700617 auc:0.5810\n",
      "epoch:  20 loss:0.385681 auc:0.9289\n",
      "epoch:  40 loss:0.374180 auc:0.9295\n",
      "epoch:  60 loss:0.371456 auc:0.9299\n",
      "epoch:  80 loss:0.369963 auc:0.9300\n",
      "epoch: 100 loss:0.368196 auc:0.9291\n",
      "epoch: 120 loss:0.364853 auc:0.9274\n",
      "epoch: 140 loss:0.359666 auc:0.9239\n",
      "epoch: 160 loss:0.353577 auc:0.9200\n"
     ]
    },
    {
     "name": "stderr",
     "output_type": "stream",
     "text": [
      " 87%|████████▋ | 656/756 [1:36:06<11:31,  6.92s/it]"
     ]
    },
    {
     "name": "stdout",
     "output_type": "stream",
     "text": [
      "epoch: 180 loss:0.347397 auc:0.9143\n",
      "Fit finished.\n",
      "epoch:   0 loss:0.765588 auc:0.4776\n",
      "epoch:  20 loss:0.398779 auc:0.9381\n",
      "epoch:  40 loss:0.377044 auc:0.9422\n",
      "epoch:  60 loss:0.372558 auc:0.9415\n",
      "epoch:  80 loss:0.371090 auc:0.9417\n",
      "epoch: 100 loss:0.370031 auc:0.9417\n",
      "epoch: 120 loss:0.368704 auc:0.9417\n",
      "epoch: 140 loss:0.366538 auc:0.9420\n",
      "epoch: 160 loss:0.362471 auc:0.9418\n",
      "epoch: 180 loss:0.356353 auc:0.9412\n"
     ]
    },
    {
     "name": "stderr",
     "output_type": "stream",
     "text": [
      " 87%|████████▋ | 657/756 [1:36:13<11:19,  6.86s/it]"
     ]
    },
    {
     "name": "stdout",
     "output_type": "stream",
     "text": [
      "epoch: 200 loss:0.350723 auc:0.9411\n",
      "Fit finished.\n",
      "epoch:   0 loss:0.878515 auc:0.5817\n",
      "epoch:  20 loss:0.400653 auc:0.8756\n",
      "epoch:  40 loss:0.376217 auc:0.8807\n",
      "epoch:  60 loss:0.372739 auc:0.8810\n",
      "epoch:  80 loss:0.371599 auc:0.8807\n",
      "epoch: 100 loss:0.370969 auc:0.8814\n",
      "epoch: 120 loss:0.370392 auc:0.8813\n",
      "epoch: 140 loss:0.369685 auc:0.8809\n",
      "epoch: 160 loss:0.368680 auc:0.8803\n",
      "epoch: 180 loss:0.366953 auc:0.8791\n"
     ]
    },
    {
     "name": "stderr",
     "output_type": "stream",
     "text": [
      " 87%|████████▋ | 658/756 [1:36:19<10:55,  6.69s/it]"
     ]
    },
    {
     "name": "stdout",
     "output_type": "stream",
     "text": [
      "epoch: 200 loss:0.363511 auc:0.8767\n",
      "Fit finished.\n",
      "epoch:   0 loss:0.737707 auc:0.5526\n",
      "epoch:  20 loss:0.403632 auc:0.9504\n",
      "epoch:  40 loss:0.378221 auc:0.9535\n",
      "epoch:  60 loss:0.373242 auc:0.9529\n",
      "epoch:  80 loss:0.371650 auc:0.9529\n",
      "epoch: 100 loss:0.370754 auc:0.9529\n",
      "epoch: 120 loss:0.369879 auc:0.9527\n",
      "epoch: 140 loss:0.368596 auc:0.9526\n",
      "epoch: 160 loss:0.366044 auc:0.9519\n",
      "epoch: 180 loss:0.361202 auc:0.9506\n"
     ]
    },
    {
     "name": "stderr",
     "output_type": "stream",
     "text": [
      " 87%|████████▋ | 659/756 [1:36:26<10:47,  6.68s/it]"
     ]
    },
    {
     "name": "stdout",
     "output_type": "stream",
     "text": [
      "epoch: 200 loss:0.356023 auc:0.9490\n",
      "Fit finished.\n",
      "epoch:   0 loss:0.746806 auc:0.5097\n",
      "epoch:  20 loss:0.392329 auc:0.7281\n",
      "epoch:  40 loss:0.375997 auc:0.7323\n",
      "epoch:  60 loss:0.372291 auc:0.7359\n",
      "epoch:  80 loss:0.371162 auc:0.7381\n",
      "epoch: 100 loss:0.370296 auc:0.7386\n",
      "epoch: 120 loss:0.369350 auc:0.7391\n",
      "epoch: 140 loss:0.367937 auc:0.7382\n",
      "epoch: 160 loss:0.364616 auc:0.7379\n",
      "epoch: 180 loss:0.358165 auc:0.7352\n"
     ]
    },
    {
     "name": "stderr",
     "output_type": "stream",
     "text": [
      " 87%|████████▋ | 660/756 [1:36:31<10:01,  6.27s/it]"
     ]
    },
    {
     "name": "stdout",
     "output_type": "stream",
     "text": [
      "epoch: 200 loss:0.350913 auc:0.7286\n",
      "Fit finished.\n",
      "epoch:   0 loss:0.814169 auc:0.7097\n",
      "epoch:  20 loss:0.404846 auc:0.9043\n",
      "epoch:  40 loss:0.378967 auc:0.9113\n",
      "epoch:  60 loss:0.373423 auc:0.9112\n",
      "epoch:  80 loss:0.371736 auc:0.9122\n",
      "epoch: 100 loss:0.370873 auc:0.9125\n",
      "epoch: 120 loss:0.370092 auc:0.9123\n",
      "epoch: 140 loss:0.369113 auc:0.9119\n",
      "epoch: 160 loss:0.367672 auc:0.9117\n",
      "epoch: 180 loss:0.365345 auc:0.9112\n"
     ]
    },
    {
     "name": "stderr",
     "output_type": "stream",
     "text": [
      " 87%|████████▋ | 661/756 [1:36:38<10:03,  6.35s/it]"
     ]
    },
    {
     "name": "stdout",
     "output_type": "stream",
     "text": [
      "epoch: 200 loss:0.361815 auc:0.9096\n",
      "Fit finished.\n",
      "epoch:   0 loss:0.700269 auc:0.5071\n",
      "epoch:  20 loss:0.383036 auc:0.9142\n",
      "epoch:  40 loss:0.373031 auc:0.9139\n",
      "epoch:  60 loss:0.370450 auc:0.9141\n",
      "epoch:  80 loss:0.368194 auc:0.9134\n",
      "epoch: 100 loss:0.363556 auc:0.9133\n",
      "epoch: 120 loss:0.356157 auc:0.9135\n",
      "epoch: 140 loss:0.349560 auc:0.9115\n",
      "epoch: 160 loss:0.337766 auc:0.9120\n"
     ]
    },
    {
     "name": "stderr",
     "output_type": "stream",
     "text": [
      " 88%|████████▊ | 662/756 [1:36:44<09:39,  6.17s/it]"
     ]
    },
    {
     "name": "stdout",
     "output_type": "stream",
     "text": [
      "epoch: 180 loss:0.325786 auc:0.9140\n",
      "Fit finished.\n",
      "epoch:   0 loss:0.781703 auc:0.5700\n",
      "epoch:  20 loss:0.403062 auc:0.9294\n",
      "epoch:  40 loss:0.379371 auc:0.9325\n",
      "epoch:  60 loss:0.373955 auc:0.9330\n",
      "epoch:  80 loss:0.372184 auc:0.9332\n",
      "epoch: 100 loss:0.371402 auc:0.9327\n",
      "epoch: 120 loss:0.370788 auc:0.9330\n",
      "epoch: 140 loss:0.370101 auc:0.9328\n",
      "epoch: 160 loss:0.369140 auc:0.9326\n",
      "epoch: 180 loss:0.367501 auc:0.9319\n"
     ]
    },
    {
     "name": "stderr",
     "output_type": "stream",
     "text": [
      " 88%|████████▊ | 663/756 [1:36:50<09:43,  6.28s/it]"
     ]
    },
    {
     "name": "stdout",
     "output_type": "stream",
     "text": [
      "epoch: 200 loss:0.364256 auc:0.9316\n",
      "Fit finished.\n",
      "epoch:   0 loss:0.811377 auc:0.4613\n",
      "epoch:  20 loss:0.394596 auc:0.8151\n",
      "epoch:  40 loss:0.376269 auc:0.8173\n",
      "epoch:  60 loss:0.372566 auc:0.8193\n",
      "epoch:  80 loss:0.371011 auc:0.8183\n",
      "epoch: 100 loss:0.369869 auc:0.8192\n",
      "epoch: 120 loss:0.368411 auc:0.8196\n",
      "epoch: 140 loss:0.365894 auc:0.8202\n",
      "epoch: 160 loss:0.361646 auc:0.8199\n",
      "epoch: 180 loss:0.356740 auc:0.8207\n",
      "epoch: 200 loss:0.350871 auc:0.8209\n"
     ]
    },
    {
     "name": "stderr",
     "output_type": "stream",
     "text": [
      " 88%|████████▊ | 664/756 [1:36:58<10:27,  6.82s/it]"
     ]
    },
    {
     "name": "stdout",
     "output_type": "stream",
     "text": [
      "epoch: 220 loss:0.346099 auc:0.8184\n",
      "Fit finished.\n",
      "epoch:   0 loss:0.808732 auc:0.4059\n",
      "epoch:  20 loss:0.390121 auc:0.9305\n",
      "epoch:  40 loss:0.375020 auc:0.9321\n",
      "epoch:  60 loss:0.372267 auc:0.9323\n",
      "epoch:  80 loss:0.371174 auc:0.9318\n",
      "epoch: 100 loss:0.370259 auc:0.9318\n",
      "epoch: 120 loss:0.368966 auc:0.9310\n",
      "epoch: 140 loss:0.366532 auc:0.9290\n",
      "epoch: 160 loss:0.361816 auc:0.9263\n"
     ]
    },
    {
     "name": "stderr",
     "output_type": "stream",
     "text": [
      " 88%|████████▊ | 665/756 [1:37:05<10:25,  6.87s/it]"
     ]
    },
    {
     "name": "stdout",
     "output_type": "stream",
     "text": [
      "epoch: 180 loss:0.356342 auc:0.9236\n",
      "Fit finished.\n",
      "epoch:   0 loss:0.805712 auc:0.4453\n",
      "epoch:  20 loss:0.391065 auc:0.9170\n",
      "epoch:  40 loss:0.374846 auc:0.9185\n",
      "epoch:  60 loss:0.372045 auc:0.9181\n",
      "epoch:  80 loss:0.371034 auc:0.9176\n",
      "epoch: 100 loss:0.370265 auc:0.9172\n",
      "epoch: 120 loss:0.369328 auc:0.9173\n",
      "epoch: 140 loss:0.367730 auc:0.9173\n",
      "epoch: 160 loss:0.364137 auc:0.9167\n"
     ]
    },
    {
     "name": "stderr",
     "output_type": "stream",
     "text": [
      " 88%|████████▊ | 666/756 [1:37:14<10:59,  7.32s/it]"
     ]
    },
    {
     "name": "stdout",
     "output_type": "stream",
     "text": [
      "epoch: 180 loss:0.358215 auc:0.9143\n",
      "Fit finished.\n",
      "epoch:   0 loss:0.818794 auc:0.5626\n",
      "epoch:  20 loss:0.404689 auc:0.9115\n",
      "epoch:  40 loss:0.378020 auc:0.9335\n",
      "epoch:  60 loss:0.373203 auc:0.9333\n",
      "epoch:  80 loss:0.371694 auc:0.9330\n",
      "epoch: 100 loss:0.370857 auc:0.9329\n",
      "epoch: 120 loss:0.369970 auc:0.9324\n",
      "epoch: 140 loss:0.368651 auc:0.9323\n",
      "epoch: 160 loss:0.366246 auc:0.9313\n",
      "epoch: 180 loss:0.361929 auc:0.9296\n"
     ]
    },
    {
     "name": "stderr",
     "output_type": "stream",
     "text": [
      " 88%|████████▊ | 667/756 [1:37:22<11:11,  7.55s/it]"
     ]
    },
    {
     "name": "stdout",
     "output_type": "stream",
     "text": [
      "epoch: 200 loss:0.356647 auc:0.9283\n",
      "Fit finished.\n",
      "epoch:   0 loss:0.831955 auc:0.6665\n",
      "epoch:  20 loss:0.399795 auc:0.9292\n",
      "epoch:  40 loss:0.378696 auc:0.9303\n",
      "epoch:  60 loss:0.373900 auc:0.9303\n",
      "epoch:  80 loss:0.372185 auc:0.9309\n",
      "epoch: 100 loss:0.371381 auc:0.9308\n",
      "epoch: 120 loss:0.370758 auc:0.9308\n",
      "epoch: 140 loss:0.370055 auc:0.9305\n",
      "epoch: 160 loss:0.369090 auc:0.9307\n",
      "epoch: 180 loss:0.367598 auc:0.9304\n"
     ]
    },
    {
     "name": "stderr",
     "output_type": "stream",
     "text": [
      " 88%|████████▊ | 668/756 [1:37:31<11:54,  8.12s/it]"
     ]
    },
    {
     "name": "stdout",
     "output_type": "stream",
     "text": [
      "epoch: 200 loss:0.365051 auc:0.9300\n",
      "Fit finished.\n",
      "epoch:   0 loss:0.821596 auc:0.3628\n",
      "epoch:  20 loss:0.387555 auc:0.9512\n",
      "epoch:  40 loss:0.375687 auc:0.9511\n",
      "epoch:  60 loss:0.372566 auc:0.9521\n",
      "epoch:  80 loss:0.371421 auc:0.9521\n",
      "epoch: 100 loss:0.370502 auc:0.9518\n",
      "epoch: 120 loss:0.369246 auc:0.9519\n",
      "epoch: 140 loss:0.366985 auc:0.9518\n",
      "epoch: 160 loss:0.362532 auc:0.9510\n",
      "epoch: 180 loss:0.357031 auc:0.9524\n",
      "epoch: 200 loss:0.352744 auc:0.9537\n",
      "epoch: 220 loss:0.346008 auc:0.9547\n"
     ]
    },
    {
     "name": "stderr",
     "output_type": "stream",
     "text": [
      " 88%|████████▊ | 669/756 [1:37:40<11:56,  8.24s/it]"
     ]
    },
    {
     "name": "stdout",
     "output_type": "stream",
     "text": [
      "epoch: 240 loss:0.337643 auc:0.9470\n",
      "Fit finished.\n",
      "epoch:   0 loss:0.772730 auc:0.5710\n",
      "epoch:  20 loss:0.393658 auc:0.9347\n",
      "epoch:  40 loss:0.375815 auc:0.9317\n",
      "epoch:  60 loss:0.372426 auc:0.9326\n",
      "epoch:  80 loss:0.371319 auc:0.9319\n",
      "epoch: 100 loss:0.370455 auc:0.9322\n",
      "epoch: 120 loss:0.369325 auc:0.9326\n",
      "epoch: 140 loss:0.367300 auc:0.9329\n",
      "epoch: 160 loss:0.363570 auc:0.9339\n",
      "epoch: 180 loss:0.358945 auc:0.9372\n",
      "epoch: 200 loss:0.354167 auc:0.9393\n",
      "epoch: 220 loss:0.348624 auc:0.9430\n",
      "epoch: 240 loss:0.342838 auc:0.9431\n",
      "epoch: 260 loss:0.333459 auc:0.9378\n",
      "epoch: 280 loss:0.323698 auc:0.9334\n"
     ]
    },
    {
     "name": "stderr",
     "output_type": "stream",
     "text": [
      " 89%|████████▊ | 670/756 [1:37:52<13:23,  9.34s/it]"
     ]
    },
    {
     "name": "stdout",
     "output_type": "stream",
     "text": [
      "epoch: 300 loss:0.316048 auc:0.9324\n",
      "Fit finished.\n",
      "epoch:   0 loss:0.725535 auc:0.4753\n",
      "epoch:  20 loss:0.393749 auc:0.9239\n",
      "epoch:  40 loss:0.375611 auc:0.9262\n",
      "epoch:  60 loss:0.372002 auc:0.9260\n",
      "epoch:  80 loss:0.370872 auc:0.9263\n",
      "epoch: 100 loss:0.369789 auc:0.9264\n",
      "epoch: 120 loss:0.368039 auc:0.9264\n",
      "epoch: 140 loss:0.364571 auc:0.9264\n",
      "epoch: 160 loss:0.359871 auc:0.9264\n",
      "epoch: 180 loss:0.355049 auc:0.9267\n"
     ]
    },
    {
     "name": "stderr",
     "output_type": "stream",
     "text": [
      " 89%|████████▉ | 671/756 [2:37:23<25:27:16, 1078.07s/it]"
     ]
    },
    {
     "name": "stdout",
     "output_type": "stream",
     "text": [
      "epoch: 200 loss:0.350222 auc:0.9251\n",
      "Fit finished.\n",
      "epoch:   0 loss:0.911696 auc:0.4897\n",
      "epoch:  20 loss:0.405044 auc:0.9336\n",
      "epoch:  40 loss:0.380395 auc:0.9373\n",
      "epoch:  60 loss:0.373695 auc:0.9371\n",
      "epoch:  80 loss:0.371978 auc:0.9379\n",
      "epoch: 100 loss:0.371096 auc:0.9381\n",
      "epoch: 120 loss:0.370265 auc:0.9385\n",
      "epoch: 140 loss:0.369026 auc:0.9388\n",
      "epoch: 160 loss:0.366546 auc:0.9394\n",
      "epoch: 180 loss:0.361751 auc:0.9419\n",
      "epoch: 200 loss:0.356594 auc:0.9451\n",
      "epoch: 220 loss:0.352041 auc:0.9458\n",
      "epoch: 240 loss:0.347546 auc:0.9459\n",
      "epoch: 260 loss:0.341281 auc:0.9421\n"
     ]
    },
    {
     "name": "stderr",
     "output_type": "stream",
     "text": [
      " 89%|████████▉ | 672/756 [2:37:33<17:40:36, 757.58s/it] "
     ]
    },
    {
     "name": "stdout",
     "output_type": "stream",
     "text": [
      "epoch: 280 loss:0.334765 auc:0.9256\n",
      "Fit finished.\n",
      "epoch:   0 loss:1.029668 auc:0.5660\n",
      "epoch:  20 loss:0.415805 auc:0.9296\n",
      "epoch:  40 loss:0.382690 auc:0.9334\n",
      "epoch:  60 loss:0.374355 auc:0.9363\n",
      "epoch:  80 loss:0.372101 auc:0.9357\n",
      "epoch: 100 loss:0.371090 auc:0.9359\n",
      "epoch: 120 loss:0.370266 auc:0.9362\n",
      "epoch: 140 loss:0.369305 auc:0.9364\n",
      "epoch: 160 loss:0.367919 auc:0.9367\n",
      "epoch: 180 loss:0.365539 auc:0.9381\n",
      "epoch: 200 loss:0.361171 auc:0.9405\n",
      "epoch: 220 loss:0.355378 auc:0.9436\n",
      "epoch: 240 loss:0.350628 auc:0.9479\n",
      "epoch: 260 loss:0.340961 auc:0.9533\n",
      "epoch: 280 loss:0.335951 auc:0.9460\n",
      "epoch: 300 loss:0.326745 auc:0.9466\n",
      "epoch: 320 loss:0.323809 auc:0.9450\n",
      "epoch: 340 loss:0.314894 auc:0.9513\n",
      "epoch: 360 loss:0.306385 auc:0.9437\n",
      "epoch: 380 loss:0.299981 auc:0.9438\n"
     ]
    },
    {
     "name": "stderr",
     "output_type": "stream",
     "text": [
      " 89%|████████▉ | 673/756 [2:37:47<12:19:21, 534.48s/it]"
     ]
    },
    {
     "name": "stdout",
     "output_type": "stream",
     "text": [
      "epoch: 400 loss:0.295172 auc:0.9452\n",
      "Fit finished.\n",
      "epoch:   0 loss:0.914667 auc:0.4456\n",
      "epoch:  20 loss:0.404962 auc:0.9223\n",
      "epoch:  40 loss:0.379007 auc:0.9268\n",
      "epoch:  60 loss:0.373332 auc:0.9270\n",
      "epoch:  80 loss:0.371668 auc:0.9272\n",
      "epoch: 100 loss:0.370772 auc:0.9274\n",
      "epoch: 120 loss:0.369883 auc:0.9281\n",
      "epoch: 140 loss:0.368656 auc:0.9287\n",
      "epoch: 160 loss:0.366545 auc:0.9293\n",
      "epoch: 180 loss:0.362741 auc:0.9313\n",
      "epoch: 200 loss:0.357821 auc:0.9332\n",
      "epoch: 220 loss:0.352515 auc:0.9329\n",
      "epoch: 240 loss:0.347778 auc:0.9325\n"
     ]
    },
    {
     "name": "stderr",
     "output_type": "stream",
     "text": [
      " 89%|████████▉ | 674/756 [2:37:59<8:36:13, 377.72s/it] "
     ]
    },
    {
     "name": "stdout",
     "output_type": "stream",
     "text": [
      "epoch: 260 loss:0.339780 auc:0.9114\n",
      "Fit finished.\n",
      "epoch:   0 loss:0.794034 auc:0.5162\n",
      "epoch:  20 loss:0.404473 auc:0.9097\n",
      "epoch:  40 loss:0.378520 auc:0.9105\n",
      "epoch:  60 loss:0.373490 auc:0.9089\n",
      "epoch:  80 loss:0.371602 auc:0.9085\n",
      "epoch: 100 loss:0.370701 auc:0.9091\n",
      "epoch: 120 loss:0.369870 auc:0.9088\n",
      "epoch: 140 loss:0.368802 auc:0.9088\n",
      "epoch: 160 loss:0.367161 auc:0.9090\n",
      "epoch: 180 loss:0.364187 auc:0.9099\n",
      "epoch: 200 loss:0.359546 auc:0.9106\n",
      "epoch: 220 loss:0.354491 auc:0.9118\n",
      "epoch: 240 loss:0.348948 auc:0.9122\n"
     ]
    },
    {
     "name": "stderr",
     "output_type": "stream",
     "text": [
      " 89%|████████▉ | 675/756 [2:38:11<6:01:48, 268.01s/it]"
     ]
    },
    {
     "name": "stdout",
     "output_type": "stream",
     "text": [
      "epoch: 260 loss:0.342428 auc:0.9074\n",
      "Fit finished.\n",
      "epoch:   0 loss:0.836548 auc:0.4946\n",
      "epoch:  20 loss:0.403795 auc:0.8648\n",
      "epoch:  40 loss:0.379504 auc:0.8715\n",
      "epoch:  60 loss:0.373580 auc:0.8731\n",
      "epoch:  80 loss:0.371864 auc:0.8723\n",
      "epoch: 100 loss:0.370981 auc:0.8727\n",
      "epoch: 120 loss:0.370208 auc:0.8725\n",
      "epoch: 140 loss:0.369281 auc:0.8725\n",
      "epoch: 160 loss:0.367938 auc:0.8719\n",
      "epoch: 180 loss:0.365467 auc:0.8718\n"
     ]
    },
    {
     "name": "stderr",
     "output_type": "stream",
     "text": [
      " 89%|████████▉ | 676/756 [2:38:19<4:13:07, 189.85s/it]"
     ]
    },
    {
     "name": "stdout",
     "output_type": "stream",
     "text": [
      "epoch: 200 loss:0.360580 auc:0.8693\n",
      "Fit finished.\n",
      "epoch:   0 loss:0.864913 auc:0.5273\n",
      "epoch:  20 loss:0.412629 auc:0.9339\n",
      "epoch:  40 loss:0.380740 auc:0.9370\n",
      "epoch:  60 loss:0.373784 auc:0.9379\n",
      "epoch:  80 loss:0.371795 auc:0.9388\n",
      "epoch: 100 loss:0.370865 auc:0.9384\n",
      "epoch: 120 loss:0.370011 auc:0.9389\n",
      "epoch: 140 loss:0.368913 auc:0.9392\n",
      "epoch: 160 loss:0.367126 auc:0.9396\n",
      "epoch: 180 loss:0.363594 auc:0.9403\n",
      "epoch: 200 loss:0.358469 auc:0.9421\n",
      "epoch: 220 loss:0.353782 auc:0.9448\n",
      "epoch: 240 loss:0.348944 auc:0.9479\n",
      "epoch: 260 loss:0.344794 auc:0.9511\n",
      "epoch: 280 loss:0.335005 auc:0.9419\n",
      "epoch: 300 loss:0.327088 auc:0.9450\n"
     ]
    },
    {
     "name": "stderr",
     "output_type": "stream",
     "text": [
      " 90%|████████▉ | 677/756 [2:38:29<2:59:04, 136.01s/it]"
     ]
    },
    {
     "name": "stdout",
     "output_type": "stream",
     "text": [
      "epoch: 320 loss:0.319894 auc:0.9363\n",
      "Fit finished.\n",
      "epoch:   0 loss:0.731601 auc:0.4881\n",
      "epoch:  20 loss:0.394697 auc:0.9373\n",
      "epoch:  40 loss:0.375677 auc:0.9419\n",
      "epoch:  60 loss:0.372357 auc:0.9422\n",
      "epoch:  80 loss:0.371062 auc:0.9418\n",
      "epoch: 100 loss:0.370091 auc:0.9423\n",
      "epoch: 120 loss:0.368790 auc:0.9427\n",
      "epoch: 140 loss:0.366442 auc:0.9439\n",
      "epoch: 160 loss:0.361490 auc:0.9445\n",
      "epoch: 180 loss:0.355343 auc:0.9463\n",
      "epoch: 200 loss:0.348948 auc:0.9472\n",
      "epoch: 220 loss:0.340972 auc:0.9488\n",
      "epoch: 240 loss:0.331278 auc:0.9487\n",
      "epoch: 260 loss:0.320454 auc:0.9459\n"
     ]
    },
    {
     "name": "stderr",
     "output_type": "stream",
     "text": [
      " 90%|████████▉ | 678/756 [2:38:40<2:08:06, 98.55s/it] "
     ]
    },
    {
     "name": "stdout",
     "output_type": "stream",
     "text": [
      "epoch: 280 loss:0.310529 auc:0.9404\n",
      "Fit finished.\n",
      "epoch:   0 loss:0.783839 auc:0.5169\n",
      "epoch:  20 loss:0.409061 auc:0.9178\n",
      "epoch:  40 loss:0.379497 auc:0.9266\n",
      "epoch:  60 loss:0.373564 auc:0.9299\n",
      "epoch:  80 loss:0.371731 auc:0.9300\n",
      "epoch: 100 loss:0.370871 auc:0.9297\n",
      "epoch: 120 loss:0.370198 auc:0.9303\n",
      "epoch: 140 loss:0.369384 auc:0.9308\n",
      "epoch: 160 loss:0.367839 auc:0.9316\n",
      "epoch: 180 loss:0.364131 auc:0.9332\n",
      "epoch: 200 loss:0.357986 auc:0.9379\n",
      "epoch: 220 loss:0.352870 auc:0.9396\n",
      "epoch: 240 loss:0.347974 auc:0.9398\n",
      "epoch: 260 loss:0.339158 auc:0.9393\n",
      "epoch: 280 loss:0.330678 auc:0.9364\n",
      "epoch: 300 loss:0.321998 auc:0.9316\n"
     ]
    },
    {
     "name": "stderr",
     "output_type": "stream",
     "text": [
      " 90%|████████▉ | 679/756 [2:38:51<1:32:38, 72.19s/it]"
     ]
    },
    {
     "name": "stdout",
     "output_type": "stream",
     "text": [
      "epoch: 320 loss:0.315645 auc:0.9305\n",
      "Fit finished.\n",
      "epoch:   0 loss:0.797741 auc:0.4782\n",
      "epoch:  20 loss:0.392556 auc:0.8912\n",
      "epoch:  40 loss:0.376182 auc:0.8930\n",
      "epoch:  60 loss:0.372198 auc:0.8937\n",
      "epoch:  80 loss:0.370629 auc:0.8937\n",
      "epoch: 100 loss:0.369152 auc:0.8936\n",
      "epoch: 120 loss:0.366874 auc:0.8939\n",
      "epoch: 140 loss:0.362574 auc:0.8947\n",
      "epoch: 160 loss:0.356748 auc:0.8937\n",
      "epoch: 180 loss:0.350863 auc:0.8935\n",
      "epoch: 200 loss:0.343926 auc:0.8949\n"
     ]
    },
    {
     "name": "stderr",
     "output_type": "stream",
     "text": [
      " 90%|████████▉ | 680/756 [3:38:24<23:41:53, 1122.54s/it]"
     ]
    },
    {
     "name": "stdout",
     "output_type": "stream",
     "text": [
      "epoch: 220 loss:0.334036 auc:0.8907\n",
      "Fit finished.\n",
      "epoch:   0 loss:0.834021 auc:0.6042\n",
      "epoch:  20 loss:0.410311 auc:0.9177\n",
      "epoch:  40 loss:0.381056 auc:0.9215\n",
      "epoch:  60 loss:0.374402 auc:0.9218\n",
      "epoch:  80 loss:0.372218 auc:0.9220\n",
      "epoch: 100 loss:0.371259 auc:0.9222\n",
      "epoch: 120 loss:0.370544 auc:0.9221\n",
      "epoch: 140 loss:0.369741 auc:0.9222\n",
      "epoch: 160 loss:0.368584 auc:0.9224\n",
      "epoch: 180 loss:0.366589 auc:0.9223\n",
      "epoch: 200 loss:0.362945 auc:0.9218\n"
     ]
    },
    {
     "name": "stderr",
     "output_type": "stream",
     "text": [
      " 90%|█████████ | 681/756 [3:38:32<16:25:11, 788.15s/it] "
     ]
    },
    {
     "name": "stdout",
     "output_type": "stream",
     "text": [
      "epoch: 220 loss:0.358320 auc:0.9210\n",
      "Fit finished.\n",
      "epoch:   0 loss:0.842848 auc:0.5079\n",
      "epoch:  20 loss:0.411533 auc:0.8751\n",
      "epoch:  40 loss:0.380607 auc:0.8833\n",
      "epoch:  60 loss:0.374198 auc:0.8850\n",
      "epoch:  80 loss:0.372192 auc:0.8860\n",
      "epoch: 100 loss:0.371395 auc:0.8865\n",
      "epoch: 120 loss:0.370819 auc:0.8863\n",
      "epoch: 140 loss:0.370218 auc:0.8858\n",
      "epoch: 160 loss:0.369420 auc:0.8856\n",
      "epoch: 180 loss:0.368143 auc:0.8846\n",
      "epoch: 200 loss:0.365851 auc:0.8834\n"
     ]
    },
    {
     "name": "stderr",
     "output_type": "stream",
     "text": [
      " 90%|█████████ | 682/756 [3:38:40<11:23:29, 554.18s/it]"
     ]
    },
    {
     "name": "stdout",
     "output_type": "stream",
     "text": [
      "epoch: 220 loss:0.362090 auc:0.8805\n",
      "Fit finished.\n",
      "epoch:   0 loss:0.809823 auc:0.4194\n",
      "epoch:  20 loss:0.402960 auc:0.9438\n",
      "epoch:  40 loss:0.377948 auc:0.9441\n",
      "epoch:  60 loss:0.373671 auc:0.9433\n",
      "epoch:  80 loss:0.372089 auc:0.9442\n",
      "epoch: 100 loss:0.371182 auc:0.9440\n",
      "epoch: 120 loss:0.370374 auc:0.9442\n",
      "epoch: 140 loss:0.369358 auc:0.9441\n",
      "epoch: 160 loss:0.367671 auc:0.9441\n",
      "epoch: 180 loss:0.364352 auc:0.9440\n"
     ]
    },
    {
     "name": "stderr",
     "output_type": "stream",
     "text": [
      " 90%|█████████ | 683/756 [3:38:47<7:54:36, 390.09s/it] "
     ]
    },
    {
     "name": "stdout",
     "output_type": "stream",
     "text": [
      "epoch: 200 loss:0.359382 auc:0.9426\n",
      "Fit finished.\n",
      "epoch:   0 loss:0.784313 auc:0.5135\n",
      "epoch:  20 loss:0.390970 auc:0.7511\n",
      "epoch:  40 loss:0.374839 auc:0.7517\n",
      "epoch:  60 loss:0.371728 auc:0.7535\n",
      "epoch:  80 loss:0.370822 auc:0.7547\n",
      "epoch: 100 loss:0.370065 auc:0.7540\n",
      "epoch: 120 loss:0.369128 auc:0.7540\n",
      "epoch: 140 loss:0.367581 auc:0.7540\n",
      "epoch: 160 loss:0.364175 auc:0.7533\n",
      "epoch: 180 loss:0.357429 auc:0.7523\n"
     ]
    },
    {
     "name": "stderr",
     "output_type": "stream",
     "text": [
      " 90%|█████████ | 684/756 [3:38:55<5:30:23, 275.32s/it]"
     ]
    },
    {
     "name": "stdout",
     "output_type": "stream",
     "text": [
      "epoch: 200 loss:0.349560 auc:0.7461\n",
      "Fit finished.\n",
      "epoch:   0 loss:0.760559 auc:0.5284\n",
      "epoch:  20 loss:0.391094 auc:0.7287\n",
      "epoch:  40 loss:0.374969 auc:0.7356\n",
      "epoch:  60 loss:0.371163 auc:0.7357\n",
      "epoch:  80 loss:0.369813 auc:0.7361\n",
      "epoch: 100 loss:0.368473 auc:0.7361\n",
      "epoch: 120 loss:0.366372 auc:0.7357\n",
      "epoch: 140 loss:0.362552 auc:0.7355\n",
      "epoch: 160 loss:0.357055 auc:0.7348\n",
      "epoch: 180 loss:0.350519 auc:0.7299\n"
     ]
    },
    {
     "name": "stderr",
     "output_type": "stream",
     "text": [
      " 91%|█████████ | 685/756 [3:39:03<3:50:58, 195.18s/it]"
     ]
    },
    {
     "name": "stdout",
     "output_type": "stream",
     "text": [
      "epoch: 200 loss:0.343204 auc:0.7272\n",
      "Fit finished.\n",
      "epoch:   0 loss:0.758021 auc:0.4332\n",
      "epoch:  20 loss:0.395896 auc:0.9246\n",
      "epoch:  40 loss:0.375617 auc:0.9262\n",
      "epoch:  60 loss:0.372000 auc:0.9252\n",
      "epoch:  80 loss:0.370617 auc:0.9257\n",
      "epoch: 100 loss:0.369424 auc:0.9248\n",
      "epoch: 120 loss:0.367379 auc:0.9243\n",
      "epoch: 140 loss:0.362706 auc:0.9233\n",
      "epoch: 160 loss:0.356531 auc:0.9211\n"
     ]
    },
    {
     "name": "stderr",
     "output_type": "stream",
     "text": [
      " 91%|█████████ | 686/756 [4:39:23<23:46:28, 1222.70s/it]"
     ]
    },
    {
     "name": "stdout",
     "output_type": "stream",
     "text": [
      "epoch: 180 loss:0.350777 auc:0.9155\n",
      "Fit finished.\n",
      "epoch:   0 loss:0.780126 auc:0.5705\n",
      "epoch:  20 loss:0.408712 auc:0.8776\n",
      "epoch:  40 loss:0.378003 auc:0.8815\n",
      "epoch:  60 loss:0.372577 auc:0.8854\n",
      "epoch:  80 loss:0.370818 auc:0.8869\n",
      "epoch: 100 loss:0.369547 auc:0.8866\n",
      "epoch: 120 loss:0.367867 auc:0.8868\n",
      "epoch: 140 loss:0.365011 auc:0.8867\n",
      "epoch: 160 loss:0.360915 auc:0.8842\n",
      "epoch: 180 loss:0.356849 auc:0.8834\n",
      "epoch: 200 loss:0.352676 auc:0.8846\n"
     ]
    },
    {
     "name": "stderr",
     "output_type": "stream",
     "text": [
      " 91%|█████████ | 687/756 [4:39:31<16:27:00, 858.27s/it] "
     ]
    },
    {
     "name": "stdout",
     "output_type": "stream",
     "text": [
      "epoch: 220 loss:0.347788 auc:0.8851\n",
      "Fit finished.\n",
      "epoch:   0 loss:0.681162 auc:0.6481\n",
      "epoch:  20 loss:0.399156 auc:0.8549\n",
      "epoch:  40 loss:0.375694 auc:0.8596\n",
      "epoch:  60 loss:0.371732 auc:0.8588\n",
      "epoch:  80 loss:0.370021 auc:0.8592\n",
      "epoch: 100 loss:0.368174 auc:0.8594\n",
      "epoch: 120 loss:0.364779 auc:0.8579\n",
      "epoch: 140 loss:0.359062 auc:0.8545\n",
      "epoch: 160 loss:0.352689 auc:0.8480\n"
     ]
    },
    {
     "name": "stderr",
     "output_type": "stream",
     "text": [
      " 91%|█████████ | 688/756 [4:39:38<11:23:09, 602.78s/it]"
     ]
    },
    {
     "name": "stdout",
     "output_type": "stream",
     "text": [
      "epoch: 180 loss:0.347358 auc:0.8428\n",
      "Fit finished.\n",
      "epoch:   0 loss:0.740400 auc:0.4543\n",
      "epoch:  20 loss:0.395310 auc:0.9041\n",
      "epoch:  40 loss:0.376077 auc:0.9103\n",
      "epoch:  60 loss:0.372278 auc:0.9100\n",
      "epoch:  80 loss:0.371054 auc:0.9101\n",
      "epoch: 100 loss:0.369948 auc:0.9102\n",
      "epoch: 120 loss:0.368306 auc:0.9101\n",
      "epoch: 140 loss:0.365168 auc:0.9095\n",
      "epoch: 160 loss:0.360322 auc:0.9068\n",
      "epoch: 180 loss:0.355452 auc:0.9043\n"
     ]
    },
    {
     "name": "stderr",
     "output_type": "stream",
     "text": [
      " 91%|█████████ | 689/756 [4:39:46<7:53:46, 424.28s/it] "
     ]
    },
    {
     "name": "stdout",
     "output_type": "stream",
     "text": [
      "epoch: 200 loss:0.350293 auc:0.9030\n",
      "Fit finished.\n",
      "epoch:   0 loss:0.793041 auc:0.5884\n",
      "epoch:  20 loss:0.399378 auc:0.7921\n",
      "epoch:  40 loss:0.376200 auc:0.8114\n",
      "epoch:  60 loss:0.371887 auc:0.8241\n",
      "epoch:  80 loss:0.370292 auc:0.8232\n",
      "epoch: 100 loss:0.368912 auc:0.8241\n",
      "epoch: 120 loss:0.366692 auc:0.8224\n",
      "epoch: 140 loss:0.362360 auc:0.8182\n",
      "epoch: 160 loss:0.357345 auc:0.8157\n",
      "epoch: 180 loss:0.352692 auc:0.8089\n",
      "epoch: 200 loss:0.347840 auc:0.8114\n"
     ]
    },
    {
     "name": "stderr",
     "output_type": "stream",
     "text": [
      " 91%|█████████▏| 690/756 [4:39:54<5:29:19, 299.39s/it]"
     ]
    },
    {
     "name": "stdout",
     "output_type": "stream",
     "text": [
      "epoch: 220 loss:0.341706 auc:0.8131\n",
      "Fit finished.\n",
      "epoch:   0 loss:0.818416 auc:0.5047\n",
      "epoch:  20 loss:0.391947 auc:0.9472\n",
      "epoch:  40 loss:0.377089 auc:0.9474\n",
      "epoch:  60 loss:0.373060 auc:0.9475\n",
      "epoch:  80 loss:0.371874 auc:0.9476\n",
      "epoch: 100 loss:0.371132 auc:0.9475\n",
      "epoch: 120 loss:0.370417 auc:0.9476\n",
      "epoch: 140 loss:0.369513 auc:0.9476\n",
      "epoch: 160 loss:0.368157 auc:0.9473\n",
      "epoch: 180 loss:0.365708 auc:0.9475\n"
     ]
    },
    {
     "name": "stderr",
     "output_type": "stream",
     "text": [
      " 91%|█████████▏| 691/756 [4:40:00<3:49:12, 211.57s/it]"
     ]
    },
    {
     "name": "stdout",
     "output_type": "stream",
     "text": [
      "epoch: 200 loss:0.361451 auc:0.9468\n",
      "Fit finished.\n",
      "epoch:   0 loss:0.751727 auc:0.6486\n",
      "epoch:  20 loss:0.406156 auc:0.9361\n",
      "epoch:  40 loss:0.378640 auc:0.9350\n",
      "epoch:  60 loss:0.373569 auc:0.9351\n",
      "epoch:  80 loss:0.371997 auc:0.9363\n",
      "epoch: 100 loss:0.371129 auc:0.9359\n",
      "epoch: 120 loss:0.370321 auc:0.9362\n",
      "epoch: 140 loss:0.369292 auc:0.9361\n",
      "epoch: 160 loss:0.367691 auc:0.9363\n",
      "epoch: 180 loss:0.364713 auc:0.9366\n",
      "epoch: 200 loss:0.360141 auc:0.9362\n"
     ]
    },
    {
     "name": "stderr",
     "output_type": "stream",
     "text": [
      " 92%|█████████▏| 692/756 [4:40:08<2:40:16, 150.26s/it]"
     ]
    },
    {
     "name": "stdout",
     "output_type": "stream",
     "text": [
      "epoch: 220 loss:0.355677 auc:0.9349\n",
      "Fit finished.\n",
      "epoch:   0 loss:0.909021 auc:0.4245\n",
      "epoch:  20 loss:0.402195 auc:0.9062\n",
      "epoch:  40 loss:0.376927 auc:0.9137\n",
      "epoch:  60 loss:0.373297 auc:0.9134\n",
      "epoch:  80 loss:0.372127 auc:0.9131\n",
      "epoch: 100 loss:0.371436 auc:0.9132\n",
      "epoch: 120 loss:0.370803 auc:0.9129\n",
      "epoch: 140 loss:0.370011 auc:0.9130\n",
      "epoch: 160 loss:0.368792 auc:0.9129\n",
      "epoch: 180 loss:0.366656 auc:0.9126\n"
     ]
    },
    {
     "name": "stderr",
     "output_type": "stream",
     "text": [
      " 92%|█████████▏| 693/756 [5:23:42<15:33:59, 889.52s/it]"
     ]
    },
    {
     "name": "stdout",
     "output_type": "stream",
     "text": [
      "epoch: 200 loss:0.363022 auc:0.9125\n",
      "Fit finished.\n",
      "epoch:   0 loss:0.992323 auc:0.3952\n",
      "epoch:  20 loss:0.411402 auc:0.8805\n",
      "epoch:  40 loss:0.379698 auc:0.8868\n",
      "epoch:  60 loss:0.373848 auc:0.8889\n",
      "epoch:  80 loss:0.371983 auc:0.8887\n",
      "epoch: 100 loss:0.371179 auc:0.8887\n",
      "epoch: 120 loss:0.370528 auc:0.8885\n",
      "epoch: 140 loss:0.369749 auc:0.8884\n",
      "epoch: 160 loss:0.368555 auc:0.8886\n",
      "epoch: 180 loss:0.366327 auc:0.8884\n",
      "epoch: 200 loss:0.361780 auc:0.8882\n"
     ]
    },
    {
     "name": "stderr",
     "output_type": "stream",
     "text": [
      " 92%|█████████▏| 694/756 [5:23:50<10:45:47, 624.96s/it]"
     ]
    },
    {
     "name": "stdout",
     "output_type": "stream",
     "text": [
      "epoch: 220 loss:0.355873 auc:0.8888\n",
      "Fit finished.\n",
      "epoch:   0 loss:0.817161 auc:0.4294\n",
      "epoch:  20 loss:0.395911 auc:0.9467\n",
      "epoch:  40 loss:0.375354 auc:0.9507\n",
      "epoch:  60 loss:0.372261 auc:0.9513\n",
      "epoch:  80 loss:0.371016 auc:0.9520\n",
      "epoch: 100 loss:0.369889 auc:0.9520\n",
      "epoch: 120 loss:0.368127 auc:0.9520\n",
      "epoch: 140 loss:0.364563 auc:0.9530\n",
      "epoch: 160 loss:0.359603 auc:0.9541\n",
      "epoch: 180 loss:0.354873 auc:0.9544\n",
      "epoch: 200 loss:0.349675 auc:0.9530\n"
     ]
    },
    {
     "name": "stderr",
     "output_type": "stream",
     "text": [
      " 92%|█████████▏| 695/756 [5:23:58<7:27:11, 439.86s/it] "
     ]
    },
    {
     "name": "stdout",
     "output_type": "stream",
     "text": [
      "epoch: 220 loss:0.343213 auc:0.9498\n",
      "Fit finished.\n",
      "epoch:   0 loss:0.788635 auc:0.5666\n",
      "epoch:  20 loss:0.391290 auc:0.9344\n",
      "epoch:  40 loss:0.375449 auc:0.9360\n",
      "epoch:  60 loss:0.371701 auc:0.9359\n",
      "epoch:  80 loss:0.369975 auc:0.9353\n",
      "epoch: 100 loss:0.367950 auc:0.9358\n",
      "epoch: 120 loss:0.363985 auc:0.9367\n",
      "epoch: 140 loss:0.357912 auc:0.9367\n",
      "epoch: 160 loss:0.351350 auc:0.9366\n",
      "epoch: 180 loss:0.344676 auc:0.9371\n"
     ]
    },
    {
     "name": "stderr",
     "output_type": "stream",
     "text": [
      " 92%|█████████▏| 696/756 [5:24:05<5:10:05, 310.09s/it]"
     ]
    },
    {
     "name": "stdout",
     "output_type": "stream",
     "text": [
      "epoch: 200 loss:0.334344 auc:0.9351\n",
      "Fit finished.\n",
      "epoch:   0 loss:0.878377 auc:0.3285\n",
      "epoch:  20 loss:0.390096 auc:0.8846\n",
      "epoch:  40 loss:0.375001 auc:0.8865\n",
      "epoch:  60 loss:0.372396 auc:0.8854\n",
      "epoch:  80 loss:0.371454 auc:0.8859\n",
      "epoch: 100 loss:0.370827 auc:0.8853\n",
      "epoch: 120 loss:0.370082 auc:0.8852\n",
      "epoch: 140 loss:0.368859 auc:0.8847\n",
      "epoch: 160 loss:0.366377 auc:0.8829\n"
     ]
    },
    {
     "name": "stderr",
     "output_type": "stream",
     "text": [
      " 92%|█████████▏| 697/756 [5:24:11<3:35:22, 219.02s/it]"
     ]
    },
    {
     "name": "stdout",
     "output_type": "stream",
     "text": [
      "epoch: 180 loss:0.361209 auc:0.8786\n",
      "Fit finished.\n",
      "epoch:   0 loss:0.817341 auc:0.4377\n",
      "epoch:  20 loss:0.403204 auc:0.8847\n",
      "epoch:  40 loss:0.378792 auc:0.8933\n",
      "epoch:  60 loss:0.373171 auc:0.8952\n",
      "epoch:  80 loss:0.371637 auc:0.8955\n",
      "epoch: 100 loss:0.370791 auc:0.8960\n",
      "epoch: 120 loss:0.369970 auc:0.8965\n",
      "epoch: 140 loss:0.368876 auc:0.8968\n",
      "epoch: 160 loss:0.367055 auc:0.8962\n",
      "epoch: 180 loss:0.363859 auc:0.8961\n",
      "epoch: 200 loss:0.359763 auc:0.8950\n"
     ]
    },
    {
     "name": "stderr",
     "output_type": "stream",
     "text": [
      " 92%|█████████▏| 698/756 [5:24:18<2:30:11, 155.37s/it]"
     ]
    },
    {
     "name": "stdout",
     "output_type": "stream",
     "text": [
      "epoch: 220 loss:0.355527 auc:0.8935\n",
      "Fit finished.\n",
      "epoch:   0 loss:0.841508 auc:0.3250\n",
      "epoch:  20 loss:0.397274 auc:0.8806\n",
      "epoch:  40 loss:0.376572 auc:0.8884\n",
      "epoch:  60 loss:0.372449 auc:0.8901\n",
      "epoch:  80 loss:0.370942 auc:0.8911\n",
      "epoch: 100 loss:0.369570 auc:0.8910\n",
      "epoch: 120 loss:0.367350 auc:0.8907\n",
      "epoch: 140 loss:0.363052 auc:0.8896\n",
      "epoch: 160 loss:0.357806 auc:0.8887\n",
      "epoch: 180 loss:0.352369 auc:0.8880\n",
      "epoch: 200 loss:0.346986 auc:0.8884\n"
     ]
    },
    {
     "name": "stderr",
     "output_type": "stream",
     "text": [
      " 92%|█████████▏| 699/756 [5:24:27<1:45:51, 111.44s/it]"
     ]
    },
    {
     "name": "stdout",
     "output_type": "stream",
     "text": [
      "epoch: 220 loss:0.339399 auc:0.8869\n",
      "Fit finished.\n",
      "epoch:   0 loss:0.776806 auc:0.5171\n",
      "epoch:  20 loss:0.397096 auc:0.9523\n",
      "epoch:  40 loss:0.378155 auc:0.9580\n",
      "epoch:  60 loss:0.373488 auc:0.9592\n",
      "epoch:  80 loss:0.371720 auc:0.9587\n",
      "epoch: 100 loss:0.370651 auc:0.9588\n",
      "epoch: 120 loss:0.369478 auc:0.9588\n",
      "epoch: 140 loss:0.368074 auc:0.9592\n",
      "epoch: 160 loss:0.365635 auc:0.9593\n",
      "epoch: 180 loss:0.360297 auc:0.9589\n",
      "epoch: 200 loss:0.353640 auc:0.9582\n"
     ]
    },
    {
     "name": "stderr",
     "output_type": "stream",
     "text": [
      " 93%|█████████▎| 700/756 [5:24:37<1:15:25, 80.82s/it] "
     ]
    },
    {
     "name": "stdout",
     "output_type": "stream",
     "text": [
      "epoch: 220 loss:0.346638 auc:0.9539\n",
      "Fit finished.\n",
      "epoch:   0 loss:0.724877 auc:0.5962\n",
      "epoch:  20 loss:0.398834 auc:0.8601\n",
      "epoch:  40 loss:0.377149 auc:0.8695\n",
      "epoch:  60 loss:0.372879 auc:0.8694\n",
      "epoch:  80 loss:0.371459 auc:0.8697\n",
      "epoch: 100 loss:0.370612 auc:0.8691\n",
      "epoch: 120 loss:0.369747 auc:0.8692\n",
      "epoch: 140 loss:0.368453 auc:0.8689\n",
      "epoch: 160 loss:0.366042 auc:0.8688\n",
      "epoch: 180 loss:0.362023 auc:0.8682\n"
     ]
    },
    {
     "name": "stderr",
     "output_type": "stream",
     "text": [
      " 93%|█████████▎| 701/756 [5:24:45<54:13, 59.15s/it]  "
     ]
    },
    {
     "name": "stdout",
     "output_type": "stream",
     "text": [
      "epoch: 200 loss:0.357533 auc:0.8678\n",
      "Fit finished.\n",
      "epoch:   0 loss:0.792600 auc:0.5240\n",
      "epoch:  20 loss:0.392034 auc:0.9458\n",
      "epoch:  40 loss:0.375725 auc:0.9499\n",
      "epoch:  60 loss:0.372274 auc:0.9513\n",
      "epoch:  80 loss:0.370807 auc:0.9516\n",
      "epoch: 100 loss:0.369763 auc:0.9513\n",
      "epoch: 120 loss:0.368537 auc:0.9517\n",
      "epoch: 140 loss:0.366582 auc:0.9525\n",
      "epoch: 160 loss:0.362937 auc:0.9537\n",
      "epoch: 180 loss:0.357789 auc:0.9561\n",
      "epoch: 200 loss:0.352163 auc:0.9604\n",
      "epoch: 220 loss:0.347393 auc:0.9626\n",
      "epoch: 240 loss:0.339442 auc:0.9618\n"
     ]
    },
    {
     "name": "stderr",
     "output_type": "stream",
     "text": [
      " 93%|█████████▎| 702/756 [5:24:56<40:13, 44.69s/it]"
     ]
    },
    {
     "name": "stdout",
     "output_type": "stream",
     "text": [
      "epoch: 260 loss:0.334068 auc:0.9510\n",
      "Fit finished.\n",
      "epoch:   0 loss:0.752243 auc:0.5229\n",
      "epoch:  20 loss:0.385968 auc:0.9320\n",
      "epoch:  40 loss:0.374778 auc:0.9344\n",
      "epoch:  60 loss:0.371821 auc:0.9345\n",
      "epoch:  80 loss:0.370494 auc:0.9337\n",
      "epoch: 100 loss:0.368967 auc:0.9334\n",
      "epoch: 120 loss:0.365834 auc:0.9327\n",
      "epoch: 140 loss:0.360281 auc:0.9285\n",
      "epoch: 160 loss:0.356269 auc:0.9230\n"
     ]
    },
    {
     "name": "stderr",
     "output_type": "stream",
     "text": [
      " 93%|█████████▎| 703/756 [5:25:03<29:30, 33.41s/it]"
     ]
    },
    {
     "name": "stdout",
     "output_type": "stream",
     "text": [
      "epoch: 180 loss:0.350088 auc:0.9206\n",
      "Fit finished.\n",
      "epoch:   0 loss:0.759774 auc:0.4821\n",
      "epoch:  20 loss:0.390031 auc:0.8952\n",
      "epoch:  40 loss:0.375952 auc:0.8957\n",
      "epoch:  60 loss:0.372235 auc:0.8953\n",
      "epoch:  80 loss:0.371036 auc:0.8960\n",
      "epoch: 100 loss:0.369946 auc:0.8957\n",
      "epoch: 120 loss:0.368295 auc:0.8961\n",
      "epoch: 140 loss:0.365095 auc:0.8959\n",
      "epoch: 160 loss:0.359928 auc:0.8967\n",
      "epoch: 180 loss:0.354285 auc:0.8968\n",
      "epoch: 200 loss:0.348652 auc:0.8963\n",
      "epoch: 220 loss:0.341100 auc:0.8985\n",
      "epoch: 240 loss:0.331155 auc:0.9008\n"
     ]
    },
    {
     "name": "stderr",
     "output_type": "stream",
     "text": [
      " 93%|█████████▎| 704/756 [5:25:14<23:07, 26.68s/it]"
     ]
    },
    {
     "name": "stdout",
     "output_type": "stream",
     "text": [
      "epoch: 260 loss:0.320053 auc:0.8919\n",
      "Fit finished.\n",
      "epoch:   0 loss:0.776771 auc:0.4560\n",
      "epoch:  20 loss:0.389206 auc:0.9579\n",
      "epoch:  40 loss:0.373824 auc:0.9584\n",
      "epoch:  60 loss:0.371633 auc:0.9578\n",
      "epoch:  80 loss:0.370473 auc:0.9581\n",
      "epoch: 100 loss:0.368944 auc:0.9584\n",
      "epoch: 120 loss:0.366061 auc:0.9588\n",
      "epoch: 140 loss:0.360762 auc:0.9580\n",
      "epoch: 160 loss:0.353913 auc:0.9562\n"
     ]
    },
    {
     "name": "stderr",
     "output_type": "stream",
     "text": [
      " 93%|█████████▎| 705/756 [5:25:20<17:18, 20.37s/it]"
     ]
    },
    {
     "name": "stdout",
     "output_type": "stream",
     "text": [
      "epoch: 180 loss:0.344651 auc:0.9550\n",
      "Fit finished.\n",
      "epoch:   0 loss:0.723076 auc:0.6060\n",
      "epoch:  20 loss:0.392284 auc:0.9265\n",
      "epoch:  40 loss:0.375471 auc:0.9298\n",
      "epoch:  60 loss:0.372031 auc:0.9307\n",
      "epoch:  80 loss:0.370832 auc:0.9309\n",
      "epoch: 100 loss:0.369841 auc:0.9300\n",
      "epoch: 120 loss:0.368491 auc:0.9289\n",
      "epoch: 140 loss:0.366114 auc:0.9273\n",
      "epoch: 160 loss:0.361937 auc:0.9228\n"
     ]
    },
    {
     "name": "stderr",
     "output_type": "stream",
     "text": [
      " 93%|█████████▎| 706/756 [5:25:26<13:28, 16.18s/it]"
     ]
    },
    {
     "name": "stdout",
     "output_type": "stream",
     "text": [
      "epoch: 180 loss:0.357115 auc:0.9187\n",
      "Fit finished.\n",
      "epoch:   0 loss:0.748011 auc:0.5612\n",
      "epoch:  20 loss:0.399692 auc:0.9427\n",
      "epoch:  40 loss:0.377398 auc:0.9404\n",
      "epoch:  60 loss:0.372767 auc:0.9418\n",
      "epoch:  80 loss:0.371393 auc:0.9418\n",
      "epoch: 100 loss:0.370492 auc:0.9416\n",
      "epoch: 120 loss:0.369512 auc:0.9418\n",
      "epoch: 140 loss:0.368030 auc:0.9414\n",
      "epoch: 160 loss:0.365281 auc:0.9409\n"
     ]
    },
    {
     "name": "stderr",
     "output_type": "stream",
     "text": [
      " 94%|█████████▎| 707/756 [5:25:36<11:41, 14.31s/it]"
     ]
    },
    {
     "name": "stdout",
     "output_type": "stream",
     "text": [
      "epoch: 180 loss:0.360590 auc:0.9397\n",
      "Fit finished.\n",
      "epoch:   0 loss:0.811282 auc:0.4534\n",
      "epoch:  20 loss:0.387542 auc:0.9442\n",
      "epoch:  40 loss:0.375838 auc:0.9512\n",
      "epoch:  60 loss:0.372401 auc:0.9520\n",
      "epoch:  80 loss:0.371229 auc:0.9513\n",
      "epoch: 100 loss:0.370314 auc:0.9514\n",
      "epoch: 120 loss:0.369152 auc:0.9512\n",
      "epoch: 140 loss:0.367248 auc:0.9509\n",
      "epoch: 160 loss:0.363727 auc:0.9506\n",
      "epoch: 180 loss:0.358606 auc:0.9499\n"
     ]
    },
    {
     "name": "stderr",
     "output_type": "stream",
     "text": [
      " 94%|█████████▎| 708/756 [5:25:45<10:09, 12.71s/it]"
     ]
    },
    {
     "name": "stdout",
     "output_type": "stream",
     "text": [
      "epoch: 200 loss:0.352083 auc:0.9483\n",
      "Fit finished.\n",
      "epoch:   0 loss:0.890548 auc:0.3034\n",
      "epoch:  20 loss:0.386566 auc:0.9502\n",
      "epoch:  40 loss:0.373794 auc:0.9521\n",
      "epoch:  60 loss:0.371385 auc:0.9522\n",
      "epoch:  80 loss:0.370083 auc:0.9522\n",
      "epoch: 100 loss:0.368297 auc:0.9516\n",
      "epoch: 120 loss:0.364847 auc:0.9505\n",
      "epoch: 140 loss:0.359281 auc:0.9496\n",
      "epoch: 160 loss:0.352964 auc:0.9478\n"
     ]
    },
    {
     "name": "stderr",
     "output_type": "stream",
     "text": [
      " 94%|█████████▍| 709/756 [5:25:52<08:33, 10.92s/it]"
     ]
    },
    {
     "name": "stdout",
     "output_type": "stream",
     "text": [
      "epoch: 180 loss:0.348120 auc:0.9470\n",
      "Fit finished.\n",
      "epoch:   0 loss:0.918722 auc:0.4288\n",
      "epoch:  20 loss:0.406076 auc:0.8911\n",
      "epoch:  40 loss:0.380182 auc:0.8991\n",
      "epoch:  60 loss:0.373711 auc:0.9024\n",
      "epoch:  80 loss:0.371794 auc:0.9020\n",
      "epoch: 100 loss:0.370682 auc:0.9013\n",
      "epoch: 120 loss:0.369523 auc:0.9011\n",
      "epoch: 140 loss:0.367863 auc:0.9007\n",
      "epoch: 160 loss:0.365066 auc:0.8996\n",
      "epoch: 180 loss:0.360829 auc:0.8971\n"
     ]
    },
    {
     "name": "stderr",
     "output_type": "stream",
     "text": [
      " 94%|█████████▍| 710/756 [5:40:23<3:26:09, 268.91s/it]"
     ]
    },
    {
     "name": "stdout",
     "output_type": "stream",
     "text": [
      "epoch: 200 loss:0.356356 auc:0.8956\n",
      "Fit finished.\n",
      "epoch:   0 loss:0.801248 auc:0.6012\n",
      "epoch:  20 loss:0.401211 auc:0.9539\n",
      "epoch:  40 loss:0.380824 auc:0.9605\n",
      "epoch:  60 loss:0.374494 auc:0.9624\n",
      "epoch:  80 loss:0.372360 auc:0.9614\n",
      "epoch: 100 loss:0.371325 auc:0.9615\n",
      "epoch: 120 loss:0.370500 auc:0.9616\n",
      "epoch: 140 loss:0.369467 auc:0.9620\n",
      "epoch: 160 loss:0.367849 auc:0.9619\n",
      "epoch: 180 loss:0.365003 auc:0.9614\n"
     ]
    },
    {
     "name": "stderr",
     "output_type": "stream",
     "text": [
      " 94%|█████████▍| 711/756 [5:40:30<2:22:51, 190.49s/it]"
     ]
    },
    {
     "name": "stdout",
     "output_type": "stream",
     "text": [
      "epoch: 200 loss:0.360905 auc:0.9601\n",
      "Fit finished.\n",
      "epoch:   0 loss:0.779723 auc:0.4286\n",
      "epoch:  20 loss:0.390804 auc:0.8850\n",
      "epoch:  40 loss:0.375620 auc:0.8907\n",
      "epoch:  60 loss:0.372653 auc:0.8897\n",
      "epoch:  80 loss:0.371277 auc:0.8900\n",
      "epoch: 100 loss:0.370281 auc:0.8902\n",
      "epoch: 120 loss:0.369028 auc:0.8901\n",
      "epoch: 140 loss:0.366917 auc:0.8890\n",
      "epoch: 160 loss:0.363144 auc:0.8874\n",
      "epoch: 180 loss:0.358332 auc:0.8852\n"
     ]
    },
    {
     "name": "stderr",
     "output_type": "stream",
     "text": [
      " 94%|█████████▍| 712/756 [5:40:38<1:39:27, 135.61s/it]"
     ]
    },
    {
     "name": "stdout",
     "output_type": "stream",
     "text": [
      "epoch: 200 loss:0.353521 auc:0.8847\n",
      "Fit finished.\n",
      "epoch:   0 loss:0.707646 auc:0.5812\n",
      "epoch:  20 loss:0.390944 auc:0.9264\n",
      "epoch:  40 loss:0.376897 auc:0.9287\n",
      "epoch:  60 loss:0.372729 auc:0.9290\n",
      "epoch:  80 loss:0.371501 auc:0.9286\n",
      "epoch: 100 loss:0.370616 auc:0.9282\n",
      "epoch: 120 loss:0.369561 auc:0.9278\n",
      "epoch: 140 loss:0.367880 auc:0.9274\n",
      "epoch: 160 loss:0.364666 auc:0.9257\n"
     ]
    },
    {
     "name": "stderr",
     "output_type": "stream",
     "text": [
      " 94%|█████████▍| 713/756 [5:40:45<1:09:28, 96.95s/it] "
     ]
    },
    {
     "name": "stdout",
     "output_type": "stream",
     "text": [
      "epoch: 180 loss:0.359173 auc:0.9233\n",
      "Fit finished.\n",
      "epoch:   0 loss:0.746687 auc:0.4543\n",
      "epoch:  20 loss:0.390417 auc:0.9225\n",
      "epoch:  40 loss:0.374907 auc:0.9286\n",
      "epoch:  60 loss:0.372054 auc:0.9286\n",
      "epoch:  80 loss:0.370811 auc:0.9288\n",
      "epoch: 100 loss:0.369807 auc:0.9284\n",
      "epoch: 120 loss:0.368401 auc:0.9283\n",
      "epoch: 140 loss:0.365727 auc:0.9272\n",
      "epoch: 160 loss:0.360854 auc:0.9250\n",
      "epoch: 180 loss:0.355414 auc:0.9248\n"
     ]
    },
    {
     "name": "stderr",
     "output_type": "stream",
     "text": [
      " 94%|█████████▍| 714/756 [5:40:52<49:03, 70.08s/it]  "
     ]
    },
    {
     "name": "stdout",
     "output_type": "stream",
     "text": [
      "epoch: 200 loss:0.350033 auc:0.9244\n",
      "Fit finished.\n",
      "epoch:   0 loss:0.773012 auc:0.5041\n",
      "epoch:  20 loss:0.392948 auc:0.9141\n",
      "epoch:  40 loss:0.376089 auc:0.9188\n",
      "epoch:  60 loss:0.372591 auc:0.9193\n",
      "epoch:  80 loss:0.371389 auc:0.9197\n",
      "epoch: 100 loss:0.370619 auc:0.9193\n",
      "epoch: 120 loss:0.369741 auc:0.9195\n",
      "epoch: 140 loss:0.368372 auc:0.9194\n",
      "epoch: 160 loss:0.365743 auc:0.9196\n",
      "epoch: 180 loss:0.361100 auc:0.9204\n",
      "epoch: 200 loss:0.356185 auc:0.9234\n",
      "epoch: 220 loss:0.351180 auc:0.9273\n",
      "epoch: 240 loss:0.346985 auc:0.9306\n",
      "epoch: 260 loss:0.339752 auc:0.9307\n"
     ]
    },
    {
     "name": "stderr",
     "output_type": "stream",
     "text": [
      " 95%|█████████▍| 715/756 [5:41:02<35:39, 52.18s/it]"
     ]
    },
    {
     "name": "stdout",
     "output_type": "stream",
     "text": [
      "epoch: 280 loss:0.330576 auc:0.9140\n",
      "Fit finished.\n",
      "epoch:   0 loss:0.790911 auc:0.6462\n",
      "epoch:  20 loss:0.404642 auc:0.9146\n",
      "epoch:  40 loss:0.379604 auc:0.9233\n",
      "epoch:  60 loss:0.373257 auc:0.9231\n",
      "epoch:  80 loss:0.371583 auc:0.9223\n",
      "epoch: 100 loss:0.370701 auc:0.9226\n",
      "epoch: 120 loss:0.369892 auc:0.9225\n",
      "epoch: 140 loss:0.368921 auc:0.9227\n",
      "epoch: 160 loss:0.367441 auc:0.9230\n",
      "epoch: 180 loss:0.364654 auc:0.9238\n",
      "epoch: 200 loss:0.360018 auc:0.9258\n",
      "epoch: 220 loss:0.355148 auc:0.9257\n",
      "epoch: 240 loss:0.350294 auc:0.9255\n",
      "epoch: 260 loss:0.344998 auc:0.9254\n",
      "epoch: 280 loss:0.338758 auc:0.9233\n"
     ]
    },
    {
     "name": "stderr",
     "output_type": "stream",
     "text": [
      " 95%|█████████▍| 716/756 [5:41:13<26:30, 39.77s/it]"
     ]
    },
    {
     "name": "stdout",
     "output_type": "stream",
     "text": [
      "epoch: 300 loss:0.333276 auc:0.9202\n",
      "Fit finished.\n",
      "epoch:   0 loss:0.861335 auc:0.4237\n",
      "epoch:  20 loss:0.393070 auc:0.9266\n",
      "epoch:  40 loss:0.378178 auc:0.9335\n",
      "epoch:  60 loss:0.373272 auc:0.9351\n",
      "epoch:  80 loss:0.371580 auc:0.9352\n",
      "epoch: 100 loss:0.370471 auc:0.9358\n",
      "epoch: 120 loss:0.369034 auc:0.9353\n",
      "epoch: 140 loss:0.366459 auc:0.9358\n",
      "epoch: 160 loss:0.361748 auc:0.9367\n",
      "epoch: 180 loss:0.356690 auc:0.9392\n",
      "epoch: 200 loss:0.351980 auc:0.9402\n",
      "epoch: 220 loss:0.347744 auc:0.9405\n",
      "epoch: 240 loss:0.343305 auc:0.9404\n",
      "epoch: 260 loss:0.337209 auc:0.9419\n",
      "epoch: 280 loss:0.330003 auc:0.9428\n",
      "epoch: 300 loss:0.322792 auc:0.9411\n",
      "epoch: 320 loss:0.316619 auc:0.9404\n",
      "epoch: 340 loss:0.308288 auc:0.9418\n",
      "epoch: 360 loss:0.301608 auc:0.9413\n",
      "epoch: 380 loss:0.297095 auc:0.9408\n"
     ]
    },
    {
     "name": "stderr",
     "output_type": "stream",
     "text": [
      " 95%|█████████▍| 717/756 [5:41:28<20:53, 32.15s/it]"
     ]
    },
    {
     "name": "stdout",
     "output_type": "stream",
     "text": [
      "epoch: 400 loss:0.291962 auc:0.9343\n",
      "Fit finished.\n",
      "epoch:   0 loss:0.783779 auc:0.4316\n",
      "epoch:  20 loss:0.399987 auc:0.9107\n",
      "epoch:  40 loss:0.377285 auc:0.9153\n",
      "epoch:  60 loss:0.373008 auc:0.9159\n",
      "epoch:  80 loss:0.371472 auc:0.9157\n",
      "epoch: 100 loss:0.370635 auc:0.9154\n",
      "epoch: 120 loss:0.369775 auc:0.9150\n",
      "epoch: 140 loss:0.368567 auc:0.9146\n",
      "epoch: 160 loss:0.366512 auc:0.9141\n",
      "epoch: 180 loss:0.362873 auc:0.9134\n"
     ]
    },
    {
     "name": "stderr",
     "output_type": "stream",
     "text": [
      " 95%|█████████▍| 718/756 [5:41:37<16:04, 25.38s/it]"
     ]
    },
    {
     "name": "stdout",
     "output_type": "stream",
     "text": [
      "epoch: 200 loss:0.358292 auc:0.9135\n",
      "Fit finished.\n",
      "epoch:   0 loss:0.810734 auc:0.5439\n",
      "epoch:  20 loss:0.406787 auc:0.9129\n",
      "epoch:  40 loss:0.381591 auc:0.9151\n",
      "epoch:  60 loss:0.374619 auc:0.9168\n",
      "epoch:  80 loss:0.372431 auc:0.9168\n",
      "epoch: 100 loss:0.371505 auc:0.9162\n",
      "epoch: 120 loss:0.370842 auc:0.9161\n",
      "epoch: 140 loss:0.370119 auc:0.9162\n",
      "epoch: 160 loss:0.369030 auc:0.9157\n",
      "epoch: 180 loss:0.367023 auc:0.9149\n"
     ]
    },
    {
     "name": "stderr",
     "output_type": "stream",
     "text": [
      " 95%|█████████▌| 719/756 [5:41:45<12:25, 20.15s/it]"
     ]
    },
    {
     "name": "stdout",
     "output_type": "stream",
     "text": [
      "epoch: 200 loss:0.363437 auc:0.9144\n",
      "Fit finished.\n",
      "epoch:   0 loss:1.006537 auc:0.3838\n",
      "epoch:  20 loss:0.404232 auc:0.9198\n",
      "epoch:  40 loss:0.377898 auc:0.9256\n",
      "epoch:  60 loss:0.373669 auc:0.9255\n",
      "epoch:  80 loss:0.372066 auc:0.9252\n",
      "epoch: 100 loss:0.371347 auc:0.9256\n",
      "epoch: 120 loss:0.370733 auc:0.9254\n",
      "epoch: 140 loss:0.369975 auc:0.9256\n",
      "epoch: 160 loss:0.368796 auc:0.9260\n",
      "epoch: 180 loss:0.366692 auc:0.9266\n",
      "epoch: 200 loss:0.362999 auc:0.9274\n",
      "epoch: 220 loss:0.358213 auc:0.9273\n",
      "epoch: 240 loss:0.352955 auc:0.9269\n",
      "epoch: 260 loss:0.346534 auc:0.9267\n"
     ]
    },
    {
     "name": "stderr",
     "output_type": "stream",
     "text": [
      " 95%|█████████▌| 720/756 [5:41:55<10:15, 17.11s/it]"
     ]
    },
    {
     "name": "stdout",
     "output_type": "stream",
     "text": [
      "epoch: 280 loss:0.341818 auc:0.9253\n",
      "Fit finished.\n",
      "epoch:   0 loss:0.976064 auc:0.4261\n",
      "epoch:  20 loss:0.423539 auc:0.7913\n",
      "epoch:  40 loss:0.383624 auc:0.7923\n",
      "epoch:  60 loss:0.373914 auc:0.7920\n",
      "epoch:  80 loss:0.371682 auc:0.7927\n",
      "epoch: 100 loss:0.370728 auc:0.7917\n",
      "epoch: 120 loss:0.369871 auc:0.7912\n",
      "epoch: 140 loss:0.368830 auc:0.7910\n",
      "epoch: 160 loss:0.367415 auc:0.7903\n"
     ]
    },
    {
     "name": "stderr",
     "output_type": "stream",
     "text": [
      " 95%|█████████▌| 721/756 [5:42:04<08:28, 14.53s/it]"
     ]
    },
    {
     "name": "stdout",
     "output_type": "stream",
     "text": [
      "epoch: 180 loss:0.365030 auc:0.7902\n",
      "Fit finished.\n",
      "epoch:   0 loss:0.776663 auc:0.5192\n",
      "epoch:  20 loss:0.405838 auc:0.6918\n",
      "epoch:  40 loss:0.378650 auc:0.6857\n",
      "epoch:  60 loss:0.372988 auc:0.6840\n",
      "epoch:  80 loss:0.371446 auc:0.6829\n",
      "epoch: 100 loss:0.370674 auc:0.6829\n",
      "epoch: 120 loss:0.370047 auc:0.6826\n",
      "epoch: 140 loss:0.369332 auc:0.6829\n",
      "epoch: 160 loss:0.368270 auc:0.6829\n"
     ]
    },
    {
     "name": "stderr",
     "output_type": "stream",
     "text": [
      " 96%|█████████▌| 722/756 [5:42:10<06:51, 12.11s/it]"
     ]
    },
    {
     "name": "stdout",
     "output_type": "stream",
     "text": [
      "epoch: 180 loss:0.366283 auc:0.6827\n",
      "Fit finished.\n",
      "epoch:   0 loss:0.759354 auc:0.5739\n",
      "epoch:  20 loss:0.390462 auc:0.9355\n",
      "epoch:  40 loss:0.375480 auc:0.9393\n",
      "epoch:  60 loss:0.372174 auc:0.9380\n",
      "epoch:  80 loss:0.370857 auc:0.9382\n",
      "epoch: 100 loss:0.369460 auc:0.9378\n",
      "epoch: 120 loss:0.366873 auc:0.9377\n",
      "epoch: 140 loss:0.361649 auc:0.9358\n",
      "epoch: 160 loss:0.355217 auc:0.9358\n",
      "epoch: 180 loss:0.349121 auc:0.9356\n"
     ]
    },
    {
     "name": "stderr",
     "output_type": "stream",
     "text": [
      " 96%|█████████▌| 723/756 [5:42:17<05:51, 10.65s/it]"
     ]
    },
    {
     "name": "stdout",
     "output_type": "stream",
     "text": [
      "epoch: 200 loss:0.339515 auc:0.9335\n",
      "Fit finished.\n",
      "epoch:   0 loss:0.831515 auc:0.4608\n",
      "epoch:  20 loss:0.408173 auc:0.9090\n",
      "epoch:  40 loss:0.379695 auc:0.9156\n",
      "epoch:  60 loss:0.373247 auc:0.9155\n",
      "epoch:  80 loss:0.371352 auc:0.9145\n",
      "epoch: 100 loss:0.370331 auc:0.9150\n",
      "epoch: 120 loss:0.369203 auc:0.9147\n",
      "epoch: 140 loss:0.367590 auc:0.9148\n",
      "epoch: 160 loss:0.365142 auc:0.9142\n",
      "epoch: 180 loss:0.361797 auc:0.9132\n"
     ]
    },
    {
     "name": "stderr",
     "output_type": "stream",
     "text": [
      " 96%|█████████▌| 724/756 [5:42:25<05:06,  9.58s/it]"
     ]
    },
    {
     "name": "stdout",
     "output_type": "stream",
     "text": [
      "epoch: 200 loss:0.358061 auc:0.9122\n",
      "Fit finished.\n",
      "epoch:   0 loss:0.800668 auc:0.4149\n",
      "epoch:  20 loss:0.401644 auc:0.6944\n",
      "epoch:  40 loss:0.375680 auc:0.7094\n",
      "epoch:  60 loss:0.371741 auc:0.7130\n",
      "epoch:  80 loss:0.370284 auc:0.7130\n",
      "epoch: 100 loss:0.369044 auc:0.7139\n",
      "epoch: 120 loss:0.367298 auc:0.7142\n",
      "epoch: 140 loss:0.363974 auc:0.7151\n",
      "epoch: 160 loss:0.358460 auc:0.7156\n",
      "epoch: 180 loss:0.352777 auc:0.7151\n",
      "epoch: 200 loss:0.346462 auc:0.7127\n",
      "epoch: 220 loss:0.338035 auc:0.7173\n",
      "epoch: 240 loss:0.328381 auc:0.7175\n"
     ]
    },
    {
     "name": "stderr",
     "output_type": "stream",
     "text": [
      " 96%|█████████▌| 725/756 [5:42:35<05:05,  9.84s/it]"
     ]
    },
    {
     "name": "stdout",
     "output_type": "stream",
     "text": [
      "epoch: 260 loss:0.320287 auc:0.7106\n",
      "Fit finished.\n",
      "epoch:   0 loss:0.967320 auc:0.5473\n",
      "epoch:  20 loss:0.405254 auc:0.8721\n",
      "epoch:  40 loss:0.380007 auc:0.8744\n",
      "epoch:  60 loss:0.374062 auc:0.8760\n",
      "epoch:  80 loss:0.372069 auc:0.8753\n",
      "epoch: 100 loss:0.371285 auc:0.8753\n",
      "epoch: 120 loss:0.370718 auc:0.8754\n",
      "epoch: 140 loss:0.370092 auc:0.8754\n",
      "epoch: 160 loss:0.369252 auc:0.8755\n",
      "epoch: 180 loss:0.367922 auc:0.8757\n",
      "epoch: 200 loss:0.365535 auc:0.8761\n"
     ]
    },
    {
     "name": "stderr",
     "output_type": "stream",
     "text": [
      " 96%|█████████▌| 726/756 [5:42:45<04:53,  9.78s/it]"
     ]
    },
    {
     "name": "stdout",
     "output_type": "stream",
     "text": [
      "epoch: 220 loss:0.361766 auc:0.8756\n",
      "Fit finished.\n",
      "epoch:   0 loss:0.636227 auc:0.6746\n",
      "epoch:  20 loss:0.391021 auc:0.8715\n",
      "epoch:  40 loss:0.375000 auc:0.8735\n",
      "epoch:  60 loss:0.371614 auc:0.8742\n",
      "epoch:  80 loss:0.370245 auc:0.8740\n",
      "epoch: 100 loss:0.368691 auc:0.8735\n",
      "epoch: 120 loss:0.365992 auc:0.8734\n",
      "epoch: 140 loss:0.360868 auc:0.8722\n",
      "epoch: 160 loss:0.354633 auc:0.8718\n"
     ]
    },
    {
     "name": "stderr",
     "output_type": "stream",
     "text": [
      " 96%|█████████▌| 727/756 [5:42:54<04:36,  9.55s/it]"
     ]
    },
    {
     "name": "stdout",
     "output_type": "stream",
     "text": [
      "epoch: 180 loss:0.348366 auc:0.8692\n",
      "Fit finished.\n",
      "epoch:   0 loss:0.744569 auc:0.4844\n",
      "epoch:  20 loss:0.390105 auc:0.9167\n",
      "epoch:  40 loss:0.377104 auc:0.9232\n",
      "epoch:  60 loss:0.372501 auc:0.9230\n",
      "epoch:  80 loss:0.370985 auc:0.9229\n",
      "epoch: 100 loss:0.369758 auc:0.9232\n",
      "epoch: 120 loss:0.367981 auc:0.9234\n",
      "epoch: 140 loss:0.364455 auc:0.9249\n",
      "epoch: 160 loss:0.358545 auc:0.9269\n",
      "epoch: 180 loss:0.353517 auc:0.9290\n",
      "epoch: 200 loss:0.345922 auc:0.9297\n"
     ]
    },
    {
     "name": "stderr",
     "output_type": "stream",
     "text": [
      " 96%|█████████▋| 728/756 [5:43:03<04:28,  9.58s/it]"
     ]
    },
    {
     "name": "stdout",
     "output_type": "stream",
     "text": [
      "epoch: 220 loss:0.338152 auc:0.9221\n",
      "Fit finished.\n",
      "epoch:   0 loss:0.808992 auc:0.3861\n",
      "epoch:  20 loss:0.384032 auc:0.9330\n",
      "epoch:  40 loss:0.375041 auc:0.9382\n",
      "epoch:  60 loss:0.371804 auc:0.9387\n",
      "epoch:  80 loss:0.370362 auc:0.9386\n",
      "epoch: 100 loss:0.368702 auc:0.9385\n",
      "epoch: 120 loss:0.365637 auc:0.9392\n",
      "epoch: 140 loss:0.360147 auc:0.9379\n",
      "epoch: 160 loss:0.353998 auc:0.9372\n",
      "epoch: 180 loss:0.347073 auc:0.9331\n"
     ]
    },
    {
     "name": "stderr",
     "output_type": "stream",
     "text": [
      " 96%|█████████▋| 729/756 [5:43:14<04:26,  9.88s/it]"
     ]
    },
    {
     "name": "stdout",
     "output_type": "stream",
     "text": [
      "epoch: 200 loss:0.337049 auc:0.9287\n",
      "Fit finished.\n",
      "epoch:   0 loss:0.805507 auc:0.3234\n",
      "epoch:  20 loss:0.389493 auc:0.9523\n",
      "epoch:  40 loss:0.375760 auc:0.9564\n",
      "epoch:  60 loss:0.372553 auc:0.9554\n",
      "epoch:  80 loss:0.371378 auc:0.9559\n",
      "epoch: 100 loss:0.370356 auc:0.9561\n",
      "epoch: 120 loss:0.368915 auc:0.9559\n",
      "epoch: 140 loss:0.366397 auc:0.9561\n",
      "epoch: 160 loss:0.362208 auc:0.9561\n",
      "epoch: 180 loss:0.357761 auc:0.9566\n",
      "epoch: 200 loss:0.353561 auc:0.9570\n",
      "epoch: 220 loss:0.348229 auc:0.9562\n"
     ]
    },
    {
     "name": "stderr",
     "output_type": "stream",
     "text": [
      " 97%|█████████▋| 730/756 [5:43:25<04:26, 10.26s/it]"
     ]
    },
    {
     "name": "stdout",
     "output_type": "stream",
     "text": [
      "epoch: 240 loss:0.341389 auc:0.9466\n",
      "Fit finished.\n",
      "epoch:   0 loss:0.809183 auc:0.4115\n",
      "epoch:  20 loss:0.403907 auc:0.8559\n",
      "epoch:  40 loss:0.379264 auc:0.8619\n",
      "epoch:  60 loss:0.373387 auc:0.8610\n",
      "epoch:  80 loss:0.371778 auc:0.8607\n",
      "epoch: 100 loss:0.370974 auc:0.8605\n",
      "epoch: 120 loss:0.370228 auc:0.8600\n",
      "epoch: 140 loss:0.369267 auc:0.8598\n",
      "epoch: 160 loss:0.367721 auc:0.8593\n",
      "epoch: 180 loss:0.364930 auc:0.8578\n"
     ]
    },
    {
     "name": "stderr",
     "output_type": "stream",
     "text": [
      " 97%|█████████▋| 731/756 [5:43:37<04:30, 10.82s/it]"
     ]
    },
    {
     "name": "stdout",
     "output_type": "stream",
     "text": [
      "epoch: 200 loss:0.360644 auc:0.8560\n",
      "Fit finished.\n",
      "epoch:   0 loss:0.915519 auc:0.3434\n",
      "epoch:  20 loss:0.389330 auc:0.8867\n",
      "epoch:  40 loss:0.374820 auc:0.8905\n",
      "epoch:  60 loss:0.371885 auc:0.8897\n",
      "epoch:  80 loss:0.370785 auc:0.8902\n",
      "epoch: 100 loss:0.369801 auc:0.8899\n",
      "epoch: 120 loss:0.368464 auc:0.8900\n",
      "epoch: 140 loss:0.365986 auc:0.8909\n",
      "epoch: 160 loss:0.361218 auc:0.8931\n",
      "epoch: 180 loss:0.355746 auc:0.8969\n",
      "epoch: 200 loss:0.348893 auc:0.8983\n",
      "epoch: 220 loss:0.340273 auc:0.9020\n",
      "epoch: 240 loss:0.331403 auc:0.8934\n",
      "epoch: 260 loss:0.327265 auc:0.8947\n",
      "epoch: 280 loss:0.313902 auc:0.9030\n",
      "epoch: 300 loss:0.305610 auc:0.9010\n",
      "epoch: 320 loss:0.298565 auc:0.8991\n"
     ]
    },
    {
     "name": "stderr",
     "output_type": "stream",
     "text": [
      " 97%|█████████▋| 732/756 [5:43:53<04:55, 12.30s/it]"
     ]
    },
    {
     "name": "stdout",
     "output_type": "stream",
     "text": [
      "epoch: 340 loss:0.292673 auc:0.8883\n",
      "Fit finished.\n",
      "epoch:   0 loss:0.759090 auc:0.4367\n",
      "epoch:  20 loss:0.395253 auc:0.7747\n",
      "epoch:  40 loss:0.376143 auc:0.8008\n",
      "epoch:  60 loss:0.372361 auc:0.8033\n",
      "epoch:  80 loss:0.370814 auc:0.8041\n",
      "epoch: 100 loss:0.369433 auc:0.8049\n",
      "epoch: 120 loss:0.367157 auc:0.8041\n",
      "epoch: 140 loss:0.362387 auc:0.8000\n",
      "epoch: 160 loss:0.356192 auc:0.7902\n",
      "epoch: 180 loss:0.350514 auc:0.7861\n"
     ]
    },
    {
     "name": "stderr",
     "output_type": "stream",
     "text": [
      " 97%|█████████▋| 733/756 [5:44:04<04:37, 12.07s/it]"
     ]
    },
    {
     "name": "stdout",
     "output_type": "stream",
     "text": [
      "epoch: 200 loss:0.343164 auc:0.7869\n",
      "Fit finished.\n",
      "epoch:   0 loss:0.806563 auc:0.5891\n",
      "epoch:  20 loss:0.388658 auc:0.9114\n",
      "epoch:  40 loss:0.376247 auc:0.9172\n",
      "epoch:  60 loss:0.372338 auc:0.9171\n",
      "epoch:  80 loss:0.370994 auc:0.9180\n",
      "epoch: 100 loss:0.369911 auc:0.9180\n",
      "epoch: 120 loss:0.368271 auc:0.9182\n",
      "epoch: 140 loss:0.365024 auc:0.9179\n",
      "epoch: 160 loss:0.360034 auc:0.9196\n",
      "epoch: 180 loss:0.355212 auc:0.9219\n",
      "epoch: 200 loss:0.349284 auc:0.9233\n"
     ]
    },
    {
     "name": "stderr",
     "output_type": "stream",
     "text": [
      " 97%|█████████▋| 734/756 [5:44:17<04:26, 12.11s/it]"
     ]
    },
    {
     "name": "stdout",
     "output_type": "stream",
     "text": [
      "epoch: 220 loss:0.342083 auc:0.9152\n",
      "Fit finished.\n",
      "epoch:   0 loss:0.755678 auc:0.4948\n",
      "epoch:  20 loss:0.404336 auc:0.9141\n",
      "epoch:  40 loss:0.379932 auc:0.9193\n",
      "epoch:  60 loss:0.373955 auc:0.9196\n",
      "epoch:  80 loss:0.371978 auc:0.9193\n",
      "epoch: 100 loss:0.371038 auc:0.9196\n",
      "epoch: 120 loss:0.370287 auc:0.9193\n",
      "epoch: 140 loss:0.369449 auc:0.9192\n",
      "epoch: 160 loss:0.368228 auc:0.9188\n",
      "epoch: 180 loss:0.366068 auc:0.9186\n"
     ]
    },
    {
     "name": "stderr",
     "output_type": "stream",
     "text": [
      " 97%|█████████▋| 735/756 [5:44:28<04:10, 11.94s/it]"
     ]
    },
    {
     "name": "stdout",
     "output_type": "stream",
     "text": [
      "epoch: 200 loss:0.362435 auc:0.9185\n",
      "Fit finished.\n",
      "epoch:   0 loss:0.735283 auc:0.5055\n",
      "epoch:  20 loss:0.398581 auc:0.8908\n",
      "epoch:  40 loss:0.376160 auc:0.8948\n",
      "epoch:  60 loss:0.372704 auc:0.8953\n",
      "epoch:  80 loss:0.371388 auc:0.8953\n",
      "epoch: 100 loss:0.370549 auc:0.8956\n",
      "epoch: 120 loss:0.369576 auc:0.8958\n",
      "epoch: 140 loss:0.368035 auc:0.8961\n",
      "epoch: 160 loss:0.365163 auc:0.8970\n",
      "epoch: 180 loss:0.360386 auc:0.8971\n",
      "epoch: 200 loss:0.354970 auc:0.8975\n",
      "epoch: 220 loss:0.348497 auc:0.8964\n"
     ]
    },
    {
     "name": "stderr",
     "output_type": "stream",
     "text": [
      " 97%|█████████▋| 736/756 [5:44:42<04:10, 12.51s/it]"
     ]
    },
    {
     "name": "stdout",
     "output_type": "stream",
     "text": [
      "epoch: 240 loss:0.342454 auc:0.8868\n",
      "Fit finished.\n",
      "epoch:   0 loss:0.825171 auc:0.4971\n",
      "epoch:  20 loss:0.404087 auc:0.9726\n",
      "epoch:  40 loss:0.379990 auc:0.9772\n",
      "epoch:  60 loss:0.373707 auc:0.9771\n",
      "epoch:  80 loss:0.371966 auc:0.9771\n",
      "epoch: 100 loss:0.371075 auc:0.9768\n",
      "epoch: 120 loss:0.370277 auc:0.9769\n",
      "epoch: 140 loss:0.369244 auc:0.9768\n",
      "epoch: 160 loss:0.367558 auc:0.9767\n",
      "epoch: 180 loss:0.364435 auc:0.9761\n"
     ]
    },
    {
     "name": "stderr",
     "output_type": "stream",
     "text": [
      " 97%|█████████▋| 737/756 [5:44:58<04:17, 13.56s/it]"
     ]
    },
    {
     "name": "stdout",
     "output_type": "stream",
     "text": [
      "epoch: 200 loss:0.360046 auc:0.9749\n",
      "Fit finished.\n",
      "epoch:   0 loss:0.882189 auc:0.5965\n",
      "epoch:  20 loss:0.400383 auc:0.9308\n",
      "epoch:  40 loss:0.378295 auc:0.9384\n",
      "epoch:  60 loss:0.373092 auc:0.9417\n",
      "epoch:  80 loss:0.371620 auc:0.9405\n",
      "epoch: 100 loss:0.370759 auc:0.9406\n",
      "epoch: 120 loss:0.369946 auc:0.9407\n",
      "epoch: 140 loss:0.368842 auc:0.9407\n",
      "epoch: 160 loss:0.366891 auc:0.9409\n",
      "epoch: 180 loss:0.362953 auc:0.9405\n",
      "epoch: 200 loss:0.357360 auc:0.9411\n"
     ]
    },
    {
     "name": "stderr",
     "output_type": "stream",
     "text": [
      " 98%|█████████▊| 738/756 [5:45:16<04:28, 14.90s/it]"
     ]
    },
    {
     "name": "stdout",
     "output_type": "stream",
     "text": [
      "epoch: 220 loss:0.350890 auc:0.9410\n",
      "Fit finished.\n",
      "epoch:   0 loss:0.780234 auc:0.4703\n",
      "epoch:  20 loss:0.398336 auc:0.9066\n",
      "epoch:  40 loss:0.376671 auc:0.9116\n",
      "epoch:  60 loss:0.372790 auc:0.9117\n",
      "epoch:  80 loss:0.371335 auc:0.9120\n",
      "epoch: 100 loss:0.370288 auc:0.9118\n",
      "epoch: 120 loss:0.369002 auc:0.9115\n",
      "epoch: 140 loss:0.366803 auc:0.9107\n",
      "epoch: 160 loss:0.362813 auc:0.9086\n"
     ]
    },
    {
     "name": "stderr",
     "output_type": "stream",
     "text": [
      " 98%|█████████▊| 739/756 [5:45:25<03:43, 13.14s/it]"
     ]
    },
    {
     "name": "stdout",
     "output_type": "stream",
     "text": [
      "epoch: 180 loss:0.357691 auc:0.9035\n",
      "Fit finished.\n",
      "epoch:   0 loss:0.791205 auc:0.4116\n",
      "epoch:  20 loss:0.393850 auc:0.8831\n",
      "epoch:  40 loss:0.374876 auc:0.8940\n",
      "epoch:  60 loss:0.372071 auc:0.8948\n",
      "epoch:  80 loss:0.370972 auc:0.8960\n",
      "epoch: 100 loss:0.370014 auc:0.8960\n",
      "epoch: 120 loss:0.368661 auc:0.8956\n",
      "epoch: 140 loss:0.366089 auc:0.8949\n",
      "epoch: 160 loss:0.361117 auc:0.8928\n",
      "epoch: 180 loss:0.355020 auc:0.8880\n"
     ]
    },
    {
     "name": "stderr",
     "output_type": "stream",
     "text": [
      " 98%|█████████▊| 740/756 [5:45:33<03:03, 11.49s/it]"
     ]
    },
    {
     "name": "stdout",
     "output_type": "stream",
     "text": [
      "epoch: 200 loss:0.347957 auc:0.8849\n",
      "Fit finished.\n",
      "epoch:   0 loss:0.885732 auc:0.4849\n",
      "epoch:  20 loss:0.404820 auc:0.8770\n",
      "epoch:  40 loss:0.378601 auc:0.8891\n",
      "epoch:  60 loss:0.373301 auc:0.8914\n",
      "epoch:  80 loss:0.371740 auc:0.8911\n",
      "epoch: 100 loss:0.370943 auc:0.8914\n",
      "epoch: 120 loss:0.370235 auc:0.8914\n",
      "epoch: 140 loss:0.369333 auc:0.8918\n",
      "epoch: 160 loss:0.367882 auc:0.8916\n",
      "epoch: 180 loss:0.365181 auc:0.8908\n",
      "epoch: 200 loss:0.360917 auc:0.8893\n"
     ]
    },
    {
     "name": "stderr",
     "output_type": "stream",
     "text": [
      " 98%|█████████▊| 741/756 [5:45:40<02:33, 10.25s/it]"
     ]
    },
    {
     "name": "stdout",
     "output_type": "stream",
     "text": [
      "epoch: 220 loss:0.356768 auc:0.8884\n",
      "Fit finished.\n",
      "epoch:   0 loss:0.722034 auc:0.6199\n",
      "epoch:  20 loss:0.391148 auc:0.8736\n",
      "epoch:  40 loss:0.374969 auc:0.8761\n",
      "epoch:  60 loss:0.371754 auc:0.8774\n",
      "epoch:  80 loss:0.370560 auc:0.8767\n",
      "epoch: 100 loss:0.369151 auc:0.8766\n",
      "epoch: 120 loss:0.365927 auc:0.8761\n",
      "epoch: 140 loss:0.359651 auc:0.8763\n",
      "epoch: 160 loss:0.353282 auc:0.8763\n",
      "epoch: 180 loss:0.347142 auc:0.8785\n",
      "epoch: 200 loss:0.340495 auc:0.8982\n",
      "epoch: 220 loss:0.332026 auc:0.9075\n",
      "epoch: 240 loss:0.322410 auc:0.9018\n",
      "epoch: 260 loss:0.314457 auc:0.8893\n"
     ]
    },
    {
     "name": "stderr",
     "output_type": "stream",
     "text": [
      " 98%|█████████▊| 742/756 [5:45:49<02:17,  9.85s/it]"
     ]
    },
    {
     "name": "stdout",
     "output_type": "stream",
     "text": [
      "epoch: 280 loss:0.305938 auc:0.8749\n",
      "Fit finished.\n",
      "epoch:   0 loss:0.790610 auc:0.4134\n",
      "epoch:  20 loss:0.389405 auc:0.9236\n",
      "epoch:  40 loss:0.374986 auc:0.9251\n",
      "epoch:  60 loss:0.372053 auc:0.9241\n",
      "epoch:  80 loss:0.370865 auc:0.9245\n",
      "epoch: 100 loss:0.369855 auc:0.9246\n",
      "epoch: 120 loss:0.368422 auc:0.9242\n",
      "epoch: 140 loss:0.365711 auc:0.9232\n",
      "epoch: 160 loss:0.360819 auc:0.9196\n"
     ]
    },
    {
     "name": "stderr",
     "output_type": "stream",
     "text": [
      " 98%|█████████▊| 743/756 [5:45:55<01:54,  8.84s/it]"
     ]
    },
    {
     "name": "stdout",
     "output_type": "stream",
     "text": [
      "epoch: 180 loss:0.355346 auc:0.9172\n",
      "Fit finished.\n",
      "epoch:   0 loss:0.725131 auc:0.4861\n",
      "epoch:  20 loss:0.391202 auc:0.9218\n",
      "epoch:  40 loss:0.375716 auc:0.9276\n",
      "epoch:  60 loss:0.372280 auc:0.9276\n",
      "epoch:  80 loss:0.370926 auc:0.9277\n",
      "epoch: 100 loss:0.369739 auc:0.9275\n",
      "epoch: 120 loss:0.368025 auc:0.9276\n",
      "epoch: 140 loss:0.364994 auc:0.9277\n",
      "epoch: 160 loss:0.360389 auc:0.9276\n",
      "epoch: 180 loss:0.355162 auc:0.9272\n"
     ]
    },
    {
     "name": "stderr",
     "output_type": "stream",
     "text": [
      " 98%|█████████▊| 744/756 [6:41:24<3:20:58, 1004.85s/it]"
     ]
    },
    {
     "name": "stdout",
     "output_type": "stream",
     "text": [
      "epoch: 200 loss:0.348979 auc:0.9257\n",
      "Fit finished.\n",
      "epoch:   0 loss:0.798505 auc:0.5260\n",
      "epoch:  20 loss:0.403691 auc:0.9262\n",
      "epoch:  40 loss:0.378615 auc:0.9325\n",
      "epoch:  60 loss:0.373324 auc:0.9329\n",
      "epoch:  80 loss:0.371528 auc:0.9332\n",
      "epoch: 100 loss:0.370426 auc:0.9335\n",
      "epoch: 120 loss:0.369147 auc:0.9333\n",
      "epoch: 140 loss:0.367056 auc:0.9334\n",
      "epoch: 160 loss:0.363423 auc:0.9339\n",
      "epoch: 180 loss:0.358741 auc:0.9333\n",
      "epoch: 200 loss:0.354450 auc:0.9331\n"
     ]
    },
    {
     "name": "stderr",
     "output_type": "stream",
     "text": [
      " 99%|█████████▊| 745/756 [6:41:32<2:09:23, 705.76s/it] "
     ]
    },
    {
     "name": "stdout",
     "output_type": "stream",
     "text": [
      "epoch: 220 loss:0.350298 auc:0.9315\n",
      "Fit finished.\n",
      "epoch:   0 loss:0.763246 auc:0.5662\n",
      "epoch:  20 loss:0.400014 auc:0.9060\n",
      "epoch:  40 loss:0.375983 auc:0.9114\n",
      "epoch:  60 loss:0.372569 auc:0.9111\n",
      "epoch:  80 loss:0.371256 auc:0.9107\n",
      "epoch: 100 loss:0.370400 auc:0.9108\n",
      "epoch: 120 loss:0.369473 auc:0.9107\n",
      "epoch: 140 loss:0.368089 auc:0.9103\n",
      "epoch: 160 loss:0.365425 auc:0.9093\n",
      "epoch: 180 loss:0.360196 auc:0.9069\n"
     ]
    },
    {
     "name": "stderr",
     "output_type": "stream",
     "text": [
      " 99%|█████████▊| 746/756 [6:41:39<1:22:42, 496.20s/it]"
     ]
    },
    {
     "name": "stdout",
     "output_type": "stream",
     "text": [
      "epoch: 200 loss:0.353907 auc:0.9048\n",
      "Fit finished.\n",
      "epoch:   0 loss:0.827639 auc:0.5503\n",
      "epoch:  20 loss:0.404949 auc:0.9353\n",
      "epoch:  40 loss:0.379296 auc:0.9326\n",
      "epoch:  60 loss:0.373482 auc:0.9325\n",
      "epoch:  80 loss:0.371663 auc:0.9328\n",
      "epoch: 100 loss:0.370770 auc:0.9329\n",
      "epoch: 120 loss:0.369850 auc:0.9329\n",
      "epoch: 140 loss:0.368429 auc:0.9332\n",
      "epoch: 160 loss:0.365621 auc:0.9332\n"
     ]
    },
    {
     "name": "stderr",
     "output_type": "stream",
     "text": [
      " 99%|█████████▉| 747/756 [6:41:47<52:25, 349.46s/it]  "
     ]
    },
    {
     "name": "stdout",
     "output_type": "stream",
     "text": [
      "epoch: 180 loss:0.360837 auc:0.9336\n",
      "Fit finished.\n",
      "epoch:   0 loss:0.692174 auc:0.5125\n",
      "epoch:  20 loss:0.389185 auc:0.9132\n",
      "epoch:  40 loss:0.376059 auc:0.9142\n",
      "epoch:  60 loss:0.371997 auc:0.9150\n",
      "epoch:  80 loss:0.370439 auc:0.9145\n",
      "epoch: 100 loss:0.368574 auc:0.9137\n",
      "epoch: 120 loss:0.365148 auc:0.9119\n",
      "epoch: 140 loss:0.360143 auc:0.9080\n",
      "epoch: 160 loss:0.355306 auc:0.9027\n"
     ]
    },
    {
     "name": "stderr",
     "output_type": "stream",
     "text": [
      " 99%|█████████▉| 748/756 [6:41:53<32:53, 246.68s/it]"
     ]
    },
    {
     "name": "stdout",
     "output_type": "stream",
     "text": [
      "epoch: 180 loss:0.350109 auc:0.8998\n",
      "Fit finished.\n",
      "epoch:   0 loss:0.917253 auc:0.3622\n",
      "epoch:  20 loss:0.390320 auc:0.9006\n",
      "epoch:  40 loss:0.377104 auc:0.9069\n",
      "epoch:  60 loss:0.372524 auc:0.9070\n",
      "epoch:  80 loss:0.370976 auc:0.9067\n",
      "epoch: 100 loss:0.369835 auc:0.9064\n",
      "epoch: 120 loss:0.368193 auc:0.9060\n",
      "epoch: 140 loss:0.365042 auc:0.9051\n",
      "epoch: 160 loss:0.359616 auc:0.9032\n",
      "epoch: 180 loss:0.354168 auc:0.9032\n"
     ]
    },
    {
     "name": "stderr",
     "output_type": "stream",
     "text": [
      " 99%|█████████▉| 749/756 [6:42:01<20:23, 174.82s/it]"
     ]
    },
    {
     "name": "stdout",
     "output_type": "stream",
     "text": [
      "epoch: 200 loss:0.347115 auc:0.9014\n",
      "Fit finished.\n",
      "epoch:   0 loss:0.825908 auc:0.3985\n",
      "epoch:  20 loss:0.389450 auc:0.9468\n",
      "epoch:  40 loss:0.375019 auc:0.9483\n",
      "epoch:  60 loss:0.372336 auc:0.9504\n",
      "epoch:  80 loss:0.371044 auc:0.9498\n",
      "epoch: 100 loss:0.369853 auc:0.9502\n",
      "epoch: 120 loss:0.367830 auc:0.9503\n",
      "epoch: 140 loss:0.363546 auc:0.9498\n",
      "epoch: 160 loss:0.358008 auc:0.9482\n",
      "epoch: 180 loss:0.352428 auc:0.9482\n"
     ]
    },
    {
     "name": "stderr",
     "output_type": "stream",
     "text": [
      " 99%|█████████▉| 750/756 [6:42:07<12:26, 124.45s/it]"
     ]
    },
    {
     "name": "stdout",
     "output_type": "stream",
     "text": [
      "epoch: 200 loss:0.346738 auc:0.9478\n",
      "Fit finished.\n",
      "epoch:   0 loss:0.941180 auc:0.4554\n",
      "epoch:  20 loss:0.404355 auc:0.9583\n",
      "epoch:  40 loss:0.379765 auc:0.9612\n",
      "epoch:  60 loss:0.373394 auc:0.9612\n",
      "epoch:  80 loss:0.371532 auc:0.9613\n",
      "epoch: 100 loss:0.370394 auc:0.9614\n",
      "epoch: 120 loss:0.369133 auc:0.9612\n",
      "epoch: 140 loss:0.367239 auc:0.9607\n",
      "epoch: 160 loss:0.363993 auc:0.9597\n"
     ]
    },
    {
     "name": "stderr",
     "output_type": "stream",
     "text": [
      " 99%|█████████▉| 751/756 [6:42:15<07:26, 89.34s/it] "
     ]
    },
    {
     "name": "stdout",
     "output_type": "stream",
     "text": [
      "epoch: 180 loss:0.359829 auc:0.9570\n",
      "Fit finished.\n",
      "epoch:   0 loss:0.986697 auc:0.6461\n",
      "epoch:  20 loss:0.399718 auc:0.9019\n",
      "epoch:  40 loss:0.378981 auc:0.9068\n",
      "epoch:  60 loss:0.373861 auc:0.9069\n",
      "epoch:  80 loss:0.372234 auc:0.9076\n",
      "epoch: 100 loss:0.371480 auc:0.9076\n",
      "epoch: 120 loss:0.370757 auc:0.9078\n",
      "epoch: 140 loss:0.369783 auc:0.9077\n",
      "epoch: 160 loss:0.368168 auc:0.9073\n",
      "epoch: 180 loss:0.365173 auc:0.9064\n"
     ]
    },
    {
     "name": "stderr",
     "output_type": "stream",
     "text": [
      " 99%|█████████▉| 752/756 [6:42:21<04:17, 64.37s/it]"
     ]
    },
    {
     "name": "stdout",
     "output_type": "stream",
     "text": [
      "epoch: 200 loss:0.360456 auc:0.9054\n",
      "Fit finished.\n",
      "epoch:   0 loss:0.799137 auc:0.4507\n",
      "epoch:  20 loss:0.391414 auc:0.9377\n",
      "epoch:  40 loss:0.374879 auc:0.9399\n",
      "epoch:  60 loss:0.372052 auc:0.9394\n",
      "epoch:  80 loss:0.370861 auc:0.9401\n",
      "epoch: 100 loss:0.369831 auc:0.9404\n",
      "epoch: 120 loss:0.368172 auc:0.9408\n",
      "epoch: 140 loss:0.364107 auc:0.9427\n",
      "epoch: 160 loss:0.356995 auc:0.9461\n",
      "epoch: 180 loss:0.349643 auc:0.9499\n",
      "epoch: 200 loss:0.339997 auc:0.9530\n",
      "epoch: 220 loss:0.328501 auc:0.9517\n",
      "epoch: 240 loss:0.322732 auc:0.9503\n",
      "epoch: 260 loss:0.314154 auc:0.9529\n",
      "epoch: 280 loss:0.305772 auc:0.9558\n",
      "epoch: 300 loss:0.300025 auc:0.9620\n",
      "epoch: 320 loss:0.292620 auc:0.9626\n",
      "epoch: 340 loss:0.288951 auc:0.9527\n",
      "epoch: 360 loss:0.284080 auc:0.9563\n",
      "epoch: 380 loss:0.281097 auc:0.9548\n",
      "epoch: 400 loss:0.278494 auc:0.9540\n",
      "epoch: 420 loss:0.276532 auc:0.9600\n"
     ]
    },
    {
     "name": "stderr",
     "output_type": "stream",
     "text": [
      "100%|█████████▉| 753/756 [6:42:40<02:32, 50.71s/it]"
     ]
    },
    {
     "name": "stdout",
     "output_type": "stream",
     "text": [
      "epoch: 440 loss:0.273765 auc:0.9534\n",
      "Fit finished.\n",
      "epoch:   0 loss:0.834138 auc:0.5089\n",
      "epoch:  20 loss:0.395250 auc:0.9456\n",
      "epoch:  40 loss:0.375930 auc:0.9602\n",
      "epoch:  60 loss:0.372093 auc:0.9609\n",
      "epoch:  80 loss:0.370679 auc:0.9611\n",
      "epoch: 100 loss:0.369354 auc:0.9609\n",
      "epoch: 120 loss:0.367157 auc:0.9614\n",
      "epoch: 140 loss:0.362828 auc:0.9616\n",
      "epoch: 160 loss:0.357313 auc:0.9609\n",
      "epoch: 180 loss:0.352327 auc:0.9593\n"
     ]
    },
    {
     "name": "stderr",
     "output_type": "stream",
     "text": [
      "100%|█████████▉| 754/756 [6:42:47<01:15, 37.65s/it]"
     ]
    },
    {
     "name": "stdout",
     "output_type": "stream",
     "text": [
      "epoch: 200 loss:0.347592 auc:0.9598\n",
      "Fit finished.\n",
      "epoch:   0 loss:0.814100 auc:0.4132\n",
      "epoch:  20 loss:0.401617 auc:0.8589\n",
      "epoch:  40 loss:0.377700 auc:0.8655\n",
      "epoch:  60 loss:0.373417 auc:0.8689\n",
      "epoch:  80 loss:0.371879 auc:0.8691\n",
      "epoch: 100 loss:0.371115 auc:0.8690\n",
      "epoch: 120 loss:0.370432 auc:0.8691\n",
      "epoch: 140 loss:0.369573 auc:0.8688\n",
      "epoch: 160 loss:0.368219 auc:0.8679\n",
      "epoch: 180 loss:0.365830 auc:0.8664\n"
     ]
    },
    {
     "name": "stderr",
     "output_type": "stream",
     "text": [
      "100%|█████████▉| 755/756 [6:42:54<00:28, 28.53s/it]"
     ]
    },
    {
     "name": "stdout",
     "output_type": "stream",
     "text": [
      "epoch: 200 loss:0.362100 auc:0.8625\n",
      "Fit finished.\n",
      "epoch:   0 loss:0.686440 auc:0.6165\n",
      "epoch:  20 loss:0.389037 auc:0.8454\n",
      "epoch:  40 loss:0.374115 auc:0.8504\n",
      "epoch:  60 loss:0.371334 auc:0.8511\n",
      "epoch:  80 loss:0.369908 auc:0.8512\n",
      "epoch: 100 loss:0.368319 auc:0.8511\n",
      "epoch: 120 loss:0.365261 auc:0.8504\n",
      "epoch: 140 loss:0.359531 auc:0.8467\n",
      "epoch: 160 loss:0.352526 auc:0.8471\n",
      "epoch: 180 loss:0.344504 auc:0.8465\n",
      "epoch: 200 loss:0.333013 auc:0.8521\n",
      "epoch: 220 loss:0.322290 auc:0.8544\n",
      "epoch: 240 loss:0.311787 auc:0.8547\n",
      "epoch: 260 loss:0.304316 auc:0.8680\n"
     ]
    },
    {
     "name": "stderr",
     "output_type": "stream",
     "text": [
      "100%|██████████| 756/756 [6:43:06<00:00, 31.99s/it]"
     ]
    },
    {
     "name": "stdout",
     "output_type": "stream",
     "text": [
      "epoch: 280 loss:0.294550 auc:0.8491\n",
      "Fit finished.\n"
     ]
    },
    {
     "name": "stderr",
     "output_type": "stream",
     "text": [
      "\n"
     ]
    }
   ],
   "source": [
    "n_kfold = 1\n",
    "true_data_s = pd.DataFrame()\n",
    "predict_data_s = pd.DataFrame()\n",
    "for dim in target_dim:\n",
    "    for seed, target_index in enumerate(tqdm(np.arange(res.shape[dim]))):\n",
    "        if dim:\n",
    "            if drug_sum[target_index] < 10:\n",
    "                continue\n",
    "        else:\n",
    "            if cell_sum[target_index] < 10:\n",
    "                continue\n",
    "        epochs = []\n",
    "        for fold in range(n_kfold):\n",
    "            true_data, predict_data = mofgcn_new(\n",
    "                exprs=exprs,\n",
    "                cna=cna,\n",
    "                mut=mut,\n",
    "                drug_finger=drug_finger,\n",
    "                res_mat=res,\n",
    "                null_mask=null_mask,\n",
    "                target_dim=dim,\n",
    "                target_index=target_index,\n",
    "                evaluate_fun=roc_auc,\n",
    "                args=args,\n",
    "                seed=seed,\n",
    "                device=device,\n",
    "            )\n",
    "\n",
    "        true_data_s = pd.concat(\n",
    "            [true_data_s, translate_result(true_data)], ignore_index=True\n",
    "        )\n",
    "        predict_data_s = pd.concat(\n",
    "            [predict_data_s, translate_result(predict_data)], ignore_index=True\n",
    "        )"
   ]
  },
  {
   "cell_type": "code",
   "execution_count": 7,
   "id": "ee74598b-d6ba-4763-81e3-4b54516ce071",
   "metadata": {},
   "outputs": [],
   "source": [
    "true_data_s.to_csv(f\"new_cell_true_{args.data}.csv\")\n",
    "predict_data_s.to_csv(f\"new_cell_pred_{args.data}.csv\")"
   ]
  },
  {
   "cell_type": "code",
   "execution_count": null,
   "id": "ffc0c1e3-9f77-41a8-829f-8e9a1bf52edb",
   "metadata": {},
   "outputs": [],
   "source": []
  },
  {
   "cell_type": "code",
   "execution_count": null,
   "id": "e68325c4-cbaa-4dc5-8958-2020b8ae7162",
   "metadata": {},
   "outputs": [],
   "source": []
  },
  {
   "cell_type": "code",
   "execution_count": null,
   "id": "185a0098-e177-4b95-82cc-58c735363c60",
   "metadata": {},
   "outputs": [],
   "source": []
  },
  {
   "cell_type": "code",
   "execution_count": null,
   "id": "ee3e9e61-1f5a-4e9c-abcd-c8a6a99201e3",
   "metadata": {},
   "outputs": [],
   "source": []
  },
  {
   "cell_type": "code",
   "execution_count": null,
   "id": "3c602424-24bb-4876-ad7c-157226a1db15",
   "metadata": {},
   "outputs": [],
   "source": []
  },
  {
   "cell_type": "code",
   "execution_count": null,
   "id": "bc598152-9bfd-49cb-94a1-e06bf3b9adfa",
   "metadata": {},
   "outputs": [],
   "source": []
  },
  {
   "cell_type": "code",
   "execution_count": null,
   "id": "3b2ae018-e508-46da-b0e6-0c4d3c803692",
   "metadata": {},
   "outputs": [],
   "source": []
  },
  {
   "cell_type": "code",
   "execution_count": null,
   "id": "d9e0d7b0-9ce2-47c3-8bfa-735a490a5792",
   "metadata": {},
   "outputs": [],
   "source": []
  }
 ],
 "metadata": {
  "kernelspec": {
   "display_name": "torch",
   "language": "python",
   "name": "torch"
  },
  "language_info": {
   "codemirror_mode": {
    "name": "ipython",
    "version": 3
   },
   "file_extension": ".py",
   "mimetype": "text/x-python",
   "name": "python",
   "nbconvert_exporter": "python",
   "pygments_lexer": "ipython3",
   "version": "3.10.15"
  }
 },
 "nbformat": 4,
 "nbformat_minor": 5
}
