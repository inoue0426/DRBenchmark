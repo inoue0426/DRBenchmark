{
 "cells": [
  {
   "cell_type": "code",
   "execution_count": 29,
   "id": "f4370fc1-8231-4984-b07d-02e4fab19211",
   "metadata": {},
   "outputs": [],
   "source": [
    "import argparse\n",
    "import os\n",
    "import random\n",
    "import time\n",
    "\n",
    "import numpy as np\n",
    "import pandas as pd\n",
    "import torch\n",
    "import torch.utils.data as Data\n",
    "from molFrags import *\n",
    "from sklearn.model_selection import KFold\n",
    "from torch_dataset import *"
   ]
  },
  {
   "cell_type": "code",
   "execution_count": 30,
   "id": "65ac870f-3e1b-4cb4-925d-479b2e3d088b",
   "metadata": {},
   "outputs": [
    {
     "name": "stdout",
     "output_type": "stream",
     "text": [
      "The autoreload extension is already loaded. To reload it, use:\n",
      "  %reload_ext autoreload\n"
     ]
    }
   ],
   "source": [
    "%load_ext autoreload\n",
    "%autoreload 2\n",
    "\n",
    "from data_process import data_process\n",
    "from load_data import load_data\n",
    "from main_classify import *\n",
    "from MF import *\n",
    "from models_classify import *\n",
    "from sampler import Sampler\n",
    "from utils import *"
   ]
  },
  {
   "cell_type": "code",
   "execution_count": 31,
   "id": "3a74c714-b933-47b1-84aa-324775cfc237",
   "metadata": {},
   "outputs": [],
   "source": [
    "class Args:\n",
    "    def __init__(self):\n",
    "        self.lr = 0.0001  # 学習率\n",
    "        self.bs = 50  # バッチサイズ\n",
    "        self.ep = 100  # エポック数\n",
    "        self.o = \"./output_dir/\"  # 出力ディレクトリ\n",
    "        self.data = \"nci\"\n",
    "\n",
    "\n",
    "# argsオブジェクトを作成\n",
    "args = Args()"
   ]
  },
  {
   "cell_type": "code",
   "execution_count": 32,
   "id": "02f6a906-9ddc-48b5-8358-adbf65d5bf7e",
   "metadata": {
    "scrolled": true
   },
   "outputs": [
    {
     "name": "stdout",
     "output_type": "stream",
     "text": [
      "Loading data files...\n",
      "Processing drug data...\n"
     ]
    },
    {
     "name": "stderr",
     "output_type": "stream",
     "text": [
      "1005it [00:04, 248.21it/s]"
     ]
    },
    {
     "name": "stdout",
     "output_type": "stream",
     "text": [
      "Drug processing complete.\n",
      "Processing cell line data...\n",
      "Cell line processing complete.\n"
     ]
    },
    {
     "name": "stderr",
     "output_type": "stream",
     "text": [
      "\n"
     ]
    }
   ],
   "source": [
    "os.makedirs(args.o, exist_ok=True)\n",
    "# ---data process\n",
    "start_time = time.time()\n",
    "seed = 42\n",
    "device = torch.device(\"cuda:0\" if torch.cuda.is_available() else \"cpu\")\n",
    "\n",
    "drug_subfeat, cline_subfeat, drug_dim, drug_compo_elem, cline_compos_elem = (\n",
    "    data_process(args)\n",
    ")"
   ]
  },
  {
   "cell_type": "code",
   "execution_count": 33,
   "id": "548fc90d-74be-4963-8128-3b718f1c50a6",
   "metadata": {},
   "outputs": [],
   "source": [
    "def prepare_matrix_factorization(train_set):\n",
    "    \"\"\"Matrix factorization preparation and execution\"\"\"\n",
    "    print(\"Building known matrix...\")\n",
    "    CDR_known = train_set.set_index([\"Cline\", \"Drug\"]).unstack(\"Cline\")\n",
    "    CDR_known.columns = CDR_known.columns.droplevel()\n",
    "\n",
    "    CDR_matrix = np.array(CDR_known)\n",
    "    CDR_mask = 1 - np.float32(np.isnan(CDR_matrix))\n",
    "    CDR_matrix[np.isnan(CDR_matrix)] = 0\n",
    "\n",
    "    print(\"Performing matrix factorization...\")\n",
    "    drug_glofeat, cline_glofeat = svt_solve(A=CDR_matrix, mask=CDR_mask)\n",
    "    drug_glofeat = pd.DataFrame(drug_glofeat, index=list(CDR_known.index))\n",
    "    cline_glofeat = pd.DataFrame(cline_glofeat, index=list(CDR_known.columns))\n",
    "\n",
    "    return drug_glofeat, cline_glofeat\n",
    "\n",
    "\n",
    "def prepare_data_loaders(\n",
    "    train_set, validation_set, drug_glofeat, cline_glofeat, batch_sizes\n",
    "):\n",
    "    \"\"\"Prepare train and validation data loaders\"\"\"\n",
    "    print(\"Preparing data loaders...\")\n",
    "    # Shuffle data\n",
    "    train_set = train_set.sample(frac=1, random_state=seed)\n",
    "    validation_set = validation_set.sample(frac=1, random_state=seed)\n",
    "\n",
    "    # Create train loaders\n",
    "    print(\"Preparing train data loaders...\")\n",
    "    drug_loader_train, cline_loader_train, glo_loader_train, _, _, label_train = (\n",
    "        BatchGenerate(\n",
    "            train_set,\n",
    "            drug_subfeat,\n",
    "            cline_subfeat,\n",
    "            drug_glofeat,\n",
    "            cline_glofeat,\n",
    "            drug_compo_elem,\n",
    "            cline_compos_elem,\n",
    "            bs=batch_sizes,\n",
    "        )\n",
    "    )\n",
    "\n",
    "    # Create validation loaders\n",
    "    print(\"Preparing test data loaders...\")\n",
    "    (\n",
    "        drug_loader_valid,\n",
    "        cline_loader_valid,\n",
    "        glo_loader_valid,\n",
    "        dc_valid,\n",
    "        cc_valid,\n",
    "        label_valid,\n",
    "    ) = BatchGenerate(\n",
    "        validation_set,\n",
    "        drug_subfeat,\n",
    "        cline_subfeat,\n",
    "        drug_glofeat,\n",
    "        cline_glofeat,\n",
    "        drug_compo_elem,\n",
    "        cline_compos_elem,\n",
    "        bs=batch_sizes,\n",
    "    )\n",
    "\n",
    "    return (\n",
    "        drug_loader_train,\n",
    "        cline_loader_train,\n",
    "        glo_loader_train,\n",
    "        label_train,\n",
    "        drug_loader_valid,\n",
    "        cline_loader_valid,\n",
    "        glo_loader_valid,\n",
    "        label_valid,\n",
    "        dc_valid,\n",
    "        cc_valid,\n",
    "    )\n",
    "\n",
    "\n",
    "def setup_model(drug_dim, glo_dim, device, args):\n",
    "    \"\"\"Initialize model and optimizer\"\"\"\n",
    "    print(\"Initializing model and optimizer...\")\n",
    "    model = SubCDR(\n",
    "        SubEncoder(in_drug=drug_dim, in_cline=8, out=82),\n",
    "        GraphEncoder(in_channels=32, out_channels=16),\n",
    "        GloEncoder(in_channels=glo_dim, out_channels=128),\n",
    "        Decoder(in_channels=160),\n",
    "    ).to(device)\n",
    "\n",
    "    optimizer = torch.optim.Adam(model.parameters(), lr=args.lr, weight_decay=1e-4)\n",
    "    myloss = torch.nn.BCELoss()\n",
    "\n",
    "    return model, optimizer, myloss\n",
    "\n",
    "\n",
    "def train_epoch(model, loaders, optimizer, myloss):\n",
    "    \"\"\"Train for one epoch\"\"\"\n",
    "    model.train()\n",
    "    drug_loader_train, cline_loader_train, glo_loader_train, label_train = loaders\n",
    "    train(\n",
    "        model,\n",
    "        optimizer,\n",
    "        myloss,\n",
    "        drug_loader_train,\n",
    "        cline_loader_train,\n",
    "        glo_loader_train,\n",
    "        label_train,\n",
    "    )\n",
    "\n",
    "\n",
    "def validate(model, loaders, myloss):\n",
    "    \"\"\"Perform validation\"\"\"\n",
    "    drug_loader_valid, cline_loader_valid, glo_loader_valid, label_valid = loaders\n",
    "    auc, aupr, y_true, y_pred = test(\n",
    "        model,\n",
    "        myloss,\n",
    "        drug_loader_valid,\n",
    "        cline_loader_valid,\n",
    "        glo_loader_valid,\n",
    "        label_valid,\n",
    "    )\n",
    "    return auc, aupr, y_true, y_pred\n",
    "\n",
    "\n",
    "def train_and_validate_fold(train_set, validation_set, args):\n",
    "    \"\"\"Main training and validation function for one fold\"\"\"\n",
    "    print(\n",
    "        f\"Train set size: {len(train_set)}, Validation set size: {len(validation_set)}\"\n",
    "    )\n",
    "\n",
    "    # Matrix factorization\n",
    "    drug_glofeat, cline_glofeat = prepare_matrix_factorization(train_set)\n",
    "    glo_dim = 2 * drug_glofeat.shape[1]\n",
    "\n",
    "    # Prepare data\n",
    "    batch_sizes = args.bs\n",
    "    loaders = prepare_data_loaders(\n",
    "        train_set, validation_set, drug_glofeat, cline_glofeat, batch_sizes\n",
    "    )\n",
    "    train_loaders = loaders[:4]\n",
    "    valid_loaders = loaders[4:8]\n",
    "\n",
    "    # Setup model\n",
    "    model, optimizer, myloss = setup_model(drug_dim, glo_dim, device, args)\n",
    "\n",
    "    # Training loop\n",
    "    print(\"\\nStarting training...\")\n",
    "    start = time.time()\n",
    "    best_auc = 0\n",
    "    best_aupr = 0\n",
    "\n",
    "    for epoch in range(args.ep):\n",
    "        print(f\"\\nEpoch {epoch + 1}/{args.ep}\")\n",
    "\n",
    "        # Train\n",
    "        print(\"Training...\")\n",
    "        train_epoch(model, train_loaders, optimizer, myloss)\n",
    "\n",
    "        # Validate\n",
    "        print(\"Validating...\")\n",
    "        auc, aupr, y_true, y_pred = validate(model, valid_loaders, myloss)\n",
    "        print(f\"Test AUC: {auc:.4f}, Test AUPR: {aupr:.4f}\")\n",
    "\n",
    "        # Save best model\n",
    "        if auc > best_auc:\n",
    "            print(\"New best model found! Saving...\")\n",
    "            best_auc = auc\n",
    "            best_aupr = aupr\n",
    "            best_pred = y_pred\n",
    "            torch.save(model.state_dict(), f\"{args.o}classification_model.pkl\")\n",
    "\n",
    "    training_time = time.time() - start\n",
    "    print(f\"Best AUC: {best_auc:.4f}, Best AUPR: {best_aupr:.4f}\")\n",
    "    return best_pred, y_true"
   ]
  },
  {
   "cell_type": "code",
   "execution_count": 34,
   "id": "3c680a58-efc5-4337-aa85-9564ad60eba7",
   "metadata": {
    "scrolled": true
   },
   "outputs": [
    {
     "name": "stdout",
     "output_type": "stream",
     "text": [
      "load nci\n"
     ]
    }
   ],
   "source": [
    "res, exprs, moa, pos_num, null_mask = load_data(args)\n",
    "cells = {i: j for i, j in enumerate(res.index)}\n",
    "drugs = {i: j for i, j in enumerate(res.columns)}\n",
    "k = 5\n",
    "\n",
    "\n",
    "def run_cross_validation(args):\n",
    "    \"\"\"Run k-fold cross validation\"\"\"\n",
    "    print(\"\\nStarting 5-fold cross validation...\")\n",
    "    kfold = KFold(n_splits=k, shuffle=True, random_state=42)\n",
    "    best_preds = []\n",
    "    y_trues = []\n",
    "\n",
    "    for train_index, test_index in kfold.split(np.arange(pos_num)):\n",
    "\n",
    "        sampler = Sampler(res, train_index, test_index, null_mask)\n",
    "\n",
    "        train_data = pd.DataFrame(\n",
    "            sampler.train_data, index=res.index, columns=res.columns\n",
    "        )\n",
    "        test_data = pd.DataFrame(\n",
    "            sampler.test_data, index=res.index, columns=res.columns\n",
    "        )\n",
    "\n",
    "        train_mask = pd.DataFrame(\n",
    "            sampler.train_mask, index=res.index, columns=res.columns\n",
    "        )\n",
    "        test_mask = pd.DataFrame(\n",
    "            sampler.test_mask, index=res.index, columns=res.columns\n",
    "        )\n",
    "\n",
    "        train = pd.DataFrame(train_mask.values.nonzero()).T\n",
    "        train[2] = train_data.values[train_mask.values.nonzero()].astype(int)\n",
    "\n",
    "        test = pd.DataFrame(test_mask.values.nonzero()).T\n",
    "        test[2] = test_data.values[test_mask.values.nonzero()].astype(int)\n",
    "\n",
    "        train[0] = [cells[i] for i in train[0]]\n",
    "        train[1] = [drugs[i] for i in train[1]]\n",
    "\n",
    "        test[0] = [cells[i] for i in test[0]]\n",
    "        test[1] = [drugs[i] for i in test[1]]\n",
    "\n",
    "        cols = [\"Cline\", \"Drug\", \"Values\"]\n",
    "\n",
    "        train.columns = cols\n",
    "        test.columns = cols\n",
    "\n",
    "        train_set = train\n",
    "        validation_set = test\n",
    "        best_pred, y_true = train_and_validate_fold(train_set, validation_set, args)\n",
    "        best_preds.append(best_pred)\n",
    "        y_trues.append(y_true)\n",
    "\n",
    "    pd.DataFrame(best_preds).to_csv(\"pred_nci.csv\")\n",
    "    pd.DataFrame(y_trues).to_csv(\"true_nci.csv\")\n",
    "\n",
    "    return pd.DataFrame(best_preds), pd.DataFrame(y_trues)"
   ]
  },
  {
   "cell_type": "code",
   "execution_count": 35,
   "id": "70098482-6e1c-4e61-bcfe-b1c76ad95f76",
   "metadata": {
    "scrolled": true
   },
   "outputs": [
    {
     "name": "stdout",
     "output_type": "stream",
     "text": [
      "\n",
      "Starting 5-fold cross validation...\n",
      "Train set size: 47243, Validation set size: 10776\n",
      "Building known matrix...\n",
      "Performing matrix factorization...\n",
      "Preparing data loaders...\n",
      "Preparing train data loaders...\n"
     ]
    },
    {
     "name": "stderr",
     "output_type": "stream",
     "text": [
      "/Users/inouey2/code/Benchmark/SubCDR/main_classify.py:42: FutureWarning: Series.__getitem__ treating keys as positions is deprecated. In a future version, integer keys will always be treated as labels (consistent with DataFrame behavior). To access a value by position, use `ser.iloc[pos]`\n",
      "  cline_subs.append(cline_subfeat[str(row[0])])\n",
      "/Users/inouey2/code/Benchmark/SubCDR/main_classify.py:43: FutureWarning: Series.__getitem__ treating keys as positions is deprecated. In a future version, integer keys will always be treated as labels (consistent with DataFrame behavior). To access a value by position, use `ser.iloc[pos]`\n",
      "  drug_subs.append(drug_subfeat[str(row[1])])\n",
      "/Users/inouey2/code/Benchmark/SubCDR/main_classify.py:44: FutureWarning: Series.__getitem__ treating keys as positions is deprecated. In a future version, integer keys will always be treated as labels (consistent with DataFrame behavior). To access a value by position, use `ser.iloc[pos]`\n",
      "  cline_glos.append(np.array(cline_glofeat.loc[row[0]]))\n",
      "/Users/inouey2/code/Benchmark/SubCDR/main_classify.py:45: FutureWarning: Series.__getitem__ treating keys as positions is deprecated. In a future version, integer keys will always be treated as labels (consistent with DataFrame behavior). To access a value by position, use `ser.iloc[pos]`\n",
      "  drug_glos.append(np.array(drug_glofeat.loc[row[1]]))\n",
      "/Users/inouey2/code/Benchmark/SubCDR/main_classify.py:46: FutureWarning: Series.__getitem__ treating keys as positions is deprecated. In a future version, integer keys will always be treated as labels (consistent with DataFrame behavior). To access a value by position, use `ser.iloc[pos]`\n",
      "  drug_compos.append([row[1], drug_compo_elem[str(row[1])]])\n",
      "/Users/inouey2/code/Benchmark/SubCDR/main_classify.py:47: FutureWarning: Series.__getitem__ treating keys as positions is deprecated. In a future version, integer keys will always be treated as labels (consistent with DataFrame behavior). To access a value by position, use `ser.iloc[pos]`\n",
      "  cline_compos.append([row[0], cline_compos_elem])\n",
      "/Users/inouey2/code/Benchmark/SubCDR/main_classify.py:48: FutureWarning: Series.__getitem__ treating keys as positions is deprecated. In a future version, integer keys will always be treated as labels (consistent with DataFrame behavior). To access a value by position, use `ser.iloc[pos]`\n",
      "  label.append(row[2])\n"
     ]
    },
    {
     "name": "stdout",
     "output_type": "stream",
     "text": [
      "Preparing test data loaders...\n",
      "Initializing model and optimizer...\n",
      "\n",
      "Starting training...\n",
      "\n",
      "Epoch 1/2\n",
      "Training...\n"
     ]
    },
    {
     "name": "stderr",
     "output_type": "stream",
     "text": [
      "/Users/inouey2/miniconda3/envs/torch/lib/python3.10/site-packages/torch_geometric/data/in_memory_dataset.py:300: UserWarning: It is not recommended to directly access the internal storage format `data` of an 'InMemoryDataset'. If you are absolutely certain what you are doing, access the internal storage via `InMemoryDataset._data` instead to suppress this warning. Alternatively, you can access stacked individual attributes of every graph via `dataset.{attr_name}`.\n",
      "  warnings.warn(msg)\n"
     ]
    },
    {
     "name": "stdout",
     "output_type": "stream",
     "text": [
      "train-loss= 0.012734049857400821\n",
      "train-AUC:0.6842 train-AUPR:0.7112\n",
      "Validating...\n"
     ]
    },
    {
     "name": "stderr",
     "output_type": "stream",
     "text": [
      "/Users/inouey2/miniconda3/envs/torch/lib/python3.10/site-packages/torch_geometric/data/in_memory_dataset.py:300: UserWarning: It is not recommended to directly access the internal storage format `data` of an 'InMemoryDataset'. If you are absolutely certain what you are doing, access the internal storage via `InMemoryDataset._data` instead to suppress this warning. Alternatively, you can access stacked individual attributes of every graph via `dataset.{attr_name}`.\n",
      "  warnings.warn(msg)\n"
     ]
    },
    {
     "name": "stdout",
     "output_type": "stream",
     "text": [
      "test-loss= 5.69857186800299e-05\n",
      "Test AUC: 0.6861, Test AUPR: 0.6654\n",
      "New best model found! Saving...\n",
      "\n",
      "Epoch 2/2\n",
      "Training...\n"
     ]
    },
    {
     "name": "stderr",
     "output_type": "stream",
     "text": [
      "/Users/inouey2/miniconda3/envs/torch/lib/python3.10/site-packages/torch_geometric/data/in_memory_dataset.py:300: UserWarning: It is not recommended to directly access the internal storage format `data` of an 'InMemoryDataset'. If you are absolutely certain what you are doing, access the internal storage via `InMemoryDataset._data` instead to suppress this warning. Alternatively, you can access stacked individual attributes of every graph via `dataset.{attr_name}`.\n",
      "  warnings.warn(msg)\n"
     ]
    },
    {
     "name": "stdout",
     "output_type": "stream",
     "text": [
      "train-loss= 0.011174285266491384\n",
      "train-AUC:0.7869 train-AUPR:0.809\n",
      "Validating...\n"
     ]
    },
    {
     "name": "stderr",
     "output_type": "stream",
     "text": [
      "/Users/inouey2/miniconda3/envs/torch/lib/python3.10/site-packages/torch_geometric/data/in_memory_dataset.py:300: UserWarning: It is not recommended to directly access the internal storage format `data` of an 'InMemoryDataset'. If you are absolutely certain what you are doing, access the internal storage via `InMemoryDataset._data` instead to suppress this warning. Alternatively, you can access stacked individual attributes of every graph via `dataset.{attr_name}`.\n",
      "  warnings.warn(msg)\n"
     ]
    },
    {
     "name": "stdout",
     "output_type": "stream",
     "text": [
      "test-loss= 5.589171126761433e-05\n",
      "Test AUC: 0.7172, Test AUPR: 0.6950\n",
      "New best model found! Saving...\n",
      "Best AUC: 0.7172, Best AUPR: 0.6950\n",
      "Train set size: 47243, Validation set size: 10776\n",
      "Building known matrix...\n",
      "Performing matrix factorization...\n",
      "Preparing data loaders...\n",
      "Preparing train data loaders...\n"
     ]
    },
    {
     "name": "stderr",
     "output_type": "stream",
     "text": [
      "/Users/inouey2/code/Benchmark/SubCDR/main_classify.py:42: FutureWarning: Series.__getitem__ treating keys as positions is deprecated. In a future version, integer keys will always be treated as labels (consistent with DataFrame behavior). To access a value by position, use `ser.iloc[pos]`\n",
      "  cline_subs.append(cline_subfeat[str(row[0])])\n",
      "/Users/inouey2/code/Benchmark/SubCDR/main_classify.py:43: FutureWarning: Series.__getitem__ treating keys as positions is deprecated. In a future version, integer keys will always be treated as labels (consistent with DataFrame behavior). To access a value by position, use `ser.iloc[pos]`\n",
      "  drug_subs.append(drug_subfeat[str(row[1])])\n",
      "/Users/inouey2/code/Benchmark/SubCDR/main_classify.py:44: FutureWarning: Series.__getitem__ treating keys as positions is deprecated. In a future version, integer keys will always be treated as labels (consistent with DataFrame behavior). To access a value by position, use `ser.iloc[pos]`\n",
      "  cline_glos.append(np.array(cline_glofeat.loc[row[0]]))\n",
      "/Users/inouey2/code/Benchmark/SubCDR/main_classify.py:45: FutureWarning: Series.__getitem__ treating keys as positions is deprecated. In a future version, integer keys will always be treated as labels (consistent with DataFrame behavior). To access a value by position, use `ser.iloc[pos]`\n",
      "  drug_glos.append(np.array(drug_glofeat.loc[row[1]]))\n",
      "/Users/inouey2/code/Benchmark/SubCDR/main_classify.py:46: FutureWarning: Series.__getitem__ treating keys as positions is deprecated. In a future version, integer keys will always be treated as labels (consistent with DataFrame behavior). To access a value by position, use `ser.iloc[pos]`\n",
      "  drug_compos.append([row[1], drug_compo_elem[str(row[1])]])\n",
      "/Users/inouey2/code/Benchmark/SubCDR/main_classify.py:47: FutureWarning: Series.__getitem__ treating keys as positions is deprecated. In a future version, integer keys will always be treated as labels (consistent with DataFrame behavior). To access a value by position, use `ser.iloc[pos]`\n",
      "  cline_compos.append([row[0], cline_compos_elem])\n",
      "/Users/inouey2/code/Benchmark/SubCDR/main_classify.py:48: FutureWarning: Series.__getitem__ treating keys as positions is deprecated. In a future version, integer keys will always be treated as labels (consistent with DataFrame behavior). To access a value by position, use `ser.iloc[pos]`\n",
      "  label.append(row[2])\n"
     ]
    },
    {
     "name": "stdout",
     "output_type": "stream",
     "text": [
      "Preparing test data loaders...\n",
      "Initializing model and optimizer...\n",
      "\n",
      "Starting training...\n",
      "\n",
      "Epoch 1/2\n",
      "Training...\n"
     ]
    },
    {
     "name": "stderr",
     "output_type": "stream",
     "text": [
      "/Users/inouey2/miniconda3/envs/torch/lib/python3.10/site-packages/torch_geometric/data/in_memory_dataset.py:300: UserWarning: It is not recommended to directly access the internal storage format `data` of an 'InMemoryDataset'. If you are absolutely certain what you are doing, access the internal storage via `InMemoryDataset._data` instead to suppress this warning. Alternatively, you can access stacked individual attributes of every graph via `dataset.{attr_name}`.\n",
      "  warnings.warn(msg)\n"
     ]
    },
    {
     "name": "stdout",
     "output_type": "stream",
     "text": [
      "train-loss= 0.012855881018927581\n",
      "train-AUC:0.6815 train-AUPR:0.7123\n",
      "Validating...\n"
     ]
    },
    {
     "name": "stderr",
     "output_type": "stream",
     "text": [
      "/Users/inouey2/miniconda3/envs/torch/lib/python3.10/site-packages/torch_geometric/data/in_memory_dataset.py:300: UserWarning: It is not recommended to directly access the internal storage format `data` of an 'InMemoryDataset'. If you are absolutely certain what you are doing, access the internal storage via `InMemoryDataset._data` instead to suppress this warning. Alternatively, you can access stacked individual attributes of every graph via `dataset.{attr_name}`.\n",
      "  warnings.warn(msg)\n"
     ]
    },
    {
     "name": "stdout",
     "output_type": "stream",
     "text": [
      "test-loss= 5.3927081110925255e-05\n",
      "Test AUC: 0.6677, Test AUPR: 0.6486\n",
      "New best model found! Saving...\n",
      "\n",
      "Epoch 2/2\n",
      "Training...\n"
     ]
    },
    {
     "name": "stderr",
     "output_type": "stream",
     "text": [
      "/Users/inouey2/miniconda3/envs/torch/lib/python3.10/site-packages/torch_geometric/data/in_memory_dataset.py:300: UserWarning: It is not recommended to directly access the internal storage format `data` of an 'InMemoryDataset'. If you are absolutely certain what you are doing, access the internal storage via `InMemoryDataset._data` instead to suppress this warning. Alternatively, you can access stacked individual attributes of every graph via `dataset.{attr_name}`.\n",
      "  warnings.warn(msg)\n"
     ]
    },
    {
     "name": "stdout",
     "output_type": "stream",
     "text": [
      "train-loss= 0.011142893287987813\n",
      "train-AUC:0.7908 train-AUPR:0.8155\n",
      "Validating...\n"
     ]
    },
    {
     "name": "stderr",
     "output_type": "stream",
     "text": [
      "/Users/inouey2/miniconda3/envs/torch/lib/python3.10/site-packages/torch_geometric/data/in_memory_dataset.py:300: UserWarning: It is not recommended to directly access the internal storage format `data` of an 'InMemoryDataset'. If you are absolutely certain what you are doing, access the internal storage via `InMemoryDataset._data` instead to suppress this warning. Alternatively, you can access stacked individual attributes of every graph via `dataset.{attr_name}`.\n",
      "  warnings.warn(msg)\n"
     ]
    },
    {
     "name": "stdout",
     "output_type": "stream",
     "text": [
      "test-loss= 4.9343602296238754e-05\n",
      "Test AUC: 0.7010, Test AUPR: 0.6817\n",
      "New best model found! Saving...\n",
      "Best AUC: 0.7010, Best AUPR: 0.6817\n",
      "Train set size: 47245, Validation set size: 10774\n",
      "Building known matrix...\n",
      "Performing matrix factorization...\n",
      "Preparing data loaders...\n",
      "Preparing train data loaders...\n"
     ]
    },
    {
     "name": "stderr",
     "output_type": "stream",
     "text": [
      "/Users/inouey2/code/Benchmark/SubCDR/main_classify.py:42: FutureWarning: Series.__getitem__ treating keys as positions is deprecated. In a future version, integer keys will always be treated as labels (consistent with DataFrame behavior). To access a value by position, use `ser.iloc[pos]`\n",
      "  cline_subs.append(cline_subfeat[str(row[0])])\n",
      "/Users/inouey2/code/Benchmark/SubCDR/main_classify.py:43: FutureWarning: Series.__getitem__ treating keys as positions is deprecated. In a future version, integer keys will always be treated as labels (consistent with DataFrame behavior). To access a value by position, use `ser.iloc[pos]`\n",
      "  drug_subs.append(drug_subfeat[str(row[1])])\n",
      "/Users/inouey2/code/Benchmark/SubCDR/main_classify.py:44: FutureWarning: Series.__getitem__ treating keys as positions is deprecated. In a future version, integer keys will always be treated as labels (consistent with DataFrame behavior). To access a value by position, use `ser.iloc[pos]`\n",
      "  cline_glos.append(np.array(cline_glofeat.loc[row[0]]))\n",
      "/Users/inouey2/code/Benchmark/SubCDR/main_classify.py:45: FutureWarning: Series.__getitem__ treating keys as positions is deprecated. In a future version, integer keys will always be treated as labels (consistent with DataFrame behavior). To access a value by position, use `ser.iloc[pos]`\n",
      "  drug_glos.append(np.array(drug_glofeat.loc[row[1]]))\n",
      "/Users/inouey2/code/Benchmark/SubCDR/main_classify.py:46: FutureWarning: Series.__getitem__ treating keys as positions is deprecated. In a future version, integer keys will always be treated as labels (consistent with DataFrame behavior). To access a value by position, use `ser.iloc[pos]`\n",
      "  drug_compos.append([row[1], drug_compo_elem[str(row[1])]])\n",
      "/Users/inouey2/code/Benchmark/SubCDR/main_classify.py:47: FutureWarning: Series.__getitem__ treating keys as positions is deprecated. In a future version, integer keys will always be treated as labels (consistent with DataFrame behavior). To access a value by position, use `ser.iloc[pos]`\n",
      "  cline_compos.append([row[0], cline_compos_elem])\n",
      "/Users/inouey2/code/Benchmark/SubCDR/main_classify.py:48: FutureWarning: Series.__getitem__ treating keys as positions is deprecated. In a future version, integer keys will always be treated as labels (consistent with DataFrame behavior). To access a value by position, use `ser.iloc[pos]`\n",
      "  label.append(row[2])\n"
     ]
    },
    {
     "name": "stdout",
     "output_type": "stream",
     "text": [
      "Preparing test data loaders...\n",
      "Initializing model and optimizer...\n",
      "\n",
      "Starting training...\n",
      "\n",
      "Epoch 1/2\n",
      "Training...\n"
     ]
    },
    {
     "name": "stderr",
     "output_type": "stream",
     "text": [
      "/Users/inouey2/miniconda3/envs/torch/lib/python3.10/site-packages/torch_geometric/data/in_memory_dataset.py:300: UserWarning: It is not recommended to directly access the internal storage format `data` of an 'InMemoryDataset'. If you are absolutely certain what you are doing, access the internal storage via `InMemoryDataset._data` instead to suppress this warning. Alternatively, you can access stacked individual attributes of every graph via `dataset.{attr_name}`.\n",
      "  warnings.warn(msg)\n"
     ]
    },
    {
     "name": "stdout",
     "output_type": "stream",
     "text": [
      "train-loss= 0.012740711630784793\n",
      "train-AUC:0.685 train-AUPR:0.7117\n",
      "Validating...\n"
     ]
    },
    {
     "name": "stderr",
     "output_type": "stream",
     "text": [
      "/Users/inouey2/miniconda3/envs/torch/lib/python3.10/site-packages/torch_geometric/data/in_memory_dataset.py:300: UserWarning: It is not recommended to directly access the internal storage format `data` of an 'InMemoryDataset'. If you are absolutely certain what you are doing, access the internal storage via `InMemoryDataset._data` instead to suppress this warning. Alternatively, you can access stacked individual attributes of every graph via `dataset.{attr_name}`.\n",
      "  warnings.warn(msg)\n"
     ]
    },
    {
     "name": "stdout",
     "output_type": "stream",
     "text": [
      "test-loss= 5.1731360252965287e-05\n",
      "Test AUC: 0.6730, Test AUPR: 0.6610\n",
      "New best model found! Saving...\n",
      "\n",
      "Epoch 2/2\n",
      "Training...\n"
     ]
    },
    {
     "name": "stderr",
     "output_type": "stream",
     "text": [
      "/Users/inouey2/miniconda3/envs/torch/lib/python3.10/site-packages/torch_geometric/data/in_memory_dataset.py:300: UserWarning: It is not recommended to directly access the internal storage format `data` of an 'InMemoryDataset'. If you are absolutely certain what you are doing, access the internal storage via `InMemoryDataset._data` instead to suppress this warning. Alternatively, you can access stacked individual attributes of every graph via `dataset.{attr_name}`.\n",
      "  warnings.warn(msg)\n"
     ]
    },
    {
     "name": "stdout",
     "output_type": "stream",
     "text": [
      "train-loss= 0.011227390811940149\n",
      "train-AUC:0.7849 train-AUPR:0.8086\n",
      "Validating...\n"
     ]
    },
    {
     "name": "stderr",
     "output_type": "stream",
     "text": [
      "/Users/inouey2/miniconda3/envs/torch/lib/python3.10/site-packages/torch_geometric/data/in_memory_dataset.py:300: UserWarning: It is not recommended to directly access the internal storage format `data` of an 'InMemoryDataset'. If you are absolutely certain what you are doing, access the internal storage via `InMemoryDataset._data` instead to suppress this warning. Alternatively, you can access stacked individual attributes of every graph via `dataset.{attr_name}`.\n",
      "  warnings.warn(msg)\n"
     ]
    },
    {
     "name": "stdout",
     "output_type": "stream",
     "text": [
      "test-loss= 4.312635320047733e-05\n",
      "Test AUC: 0.7186, Test AUPR: 0.6993\n",
      "New best model found! Saving...\n",
      "Best AUC: 0.7186, Best AUPR: 0.6993\n",
      "Train set size: 47245, Validation set size: 10774\n",
      "Building known matrix...\n",
      "Performing matrix factorization...\n",
      "Preparing data loaders...\n",
      "Preparing train data loaders...\n"
     ]
    },
    {
     "name": "stderr",
     "output_type": "stream",
     "text": [
      "/Users/inouey2/code/Benchmark/SubCDR/main_classify.py:42: FutureWarning: Series.__getitem__ treating keys as positions is deprecated. In a future version, integer keys will always be treated as labels (consistent with DataFrame behavior). To access a value by position, use `ser.iloc[pos]`\n",
      "  cline_subs.append(cline_subfeat[str(row[0])])\n",
      "/Users/inouey2/code/Benchmark/SubCDR/main_classify.py:43: FutureWarning: Series.__getitem__ treating keys as positions is deprecated. In a future version, integer keys will always be treated as labels (consistent with DataFrame behavior). To access a value by position, use `ser.iloc[pos]`\n",
      "  drug_subs.append(drug_subfeat[str(row[1])])\n",
      "/Users/inouey2/code/Benchmark/SubCDR/main_classify.py:44: FutureWarning: Series.__getitem__ treating keys as positions is deprecated. In a future version, integer keys will always be treated as labels (consistent with DataFrame behavior). To access a value by position, use `ser.iloc[pos]`\n",
      "  cline_glos.append(np.array(cline_glofeat.loc[row[0]]))\n",
      "/Users/inouey2/code/Benchmark/SubCDR/main_classify.py:45: FutureWarning: Series.__getitem__ treating keys as positions is deprecated. In a future version, integer keys will always be treated as labels (consistent with DataFrame behavior). To access a value by position, use `ser.iloc[pos]`\n",
      "  drug_glos.append(np.array(drug_glofeat.loc[row[1]]))\n",
      "/Users/inouey2/code/Benchmark/SubCDR/main_classify.py:46: FutureWarning: Series.__getitem__ treating keys as positions is deprecated. In a future version, integer keys will always be treated as labels (consistent with DataFrame behavior). To access a value by position, use `ser.iloc[pos]`\n",
      "  drug_compos.append([row[1], drug_compo_elem[str(row[1])]])\n",
      "/Users/inouey2/code/Benchmark/SubCDR/main_classify.py:47: FutureWarning: Series.__getitem__ treating keys as positions is deprecated. In a future version, integer keys will always be treated as labels (consistent with DataFrame behavior). To access a value by position, use `ser.iloc[pos]`\n",
      "  cline_compos.append([row[0], cline_compos_elem])\n",
      "/Users/inouey2/code/Benchmark/SubCDR/main_classify.py:48: FutureWarning: Series.__getitem__ treating keys as positions is deprecated. In a future version, integer keys will always be treated as labels (consistent with DataFrame behavior). To access a value by position, use `ser.iloc[pos]`\n",
      "  label.append(row[2])\n"
     ]
    },
    {
     "name": "stdout",
     "output_type": "stream",
     "text": [
      "Preparing test data loaders...\n",
      "Initializing model and optimizer...\n",
      "\n",
      "Starting training...\n",
      "\n",
      "Epoch 1/2\n",
      "Training...\n"
     ]
    },
    {
     "name": "stderr",
     "output_type": "stream",
     "text": [
      "/Users/inouey2/miniconda3/envs/torch/lib/python3.10/site-packages/torch_geometric/data/in_memory_dataset.py:300: UserWarning: It is not recommended to directly access the internal storage format `data` of an 'InMemoryDataset'. If you are absolutely certain what you are doing, access the internal storage via `InMemoryDataset._data` instead to suppress this warning. Alternatively, you can access stacked individual attributes of every graph via `dataset.{attr_name}`.\n",
      "  warnings.warn(msg)\n"
     ]
    },
    {
     "name": "stdout",
     "output_type": "stream",
     "text": [
      "train-loss= 0.012844571206592128\n",
      "train-AUC:0.6818 train-AUPR:0.7081\n",
      "Validating...\n"
     ]
    },
    {
     "name": "stderr",
     "output_type": "stream",
     "text": [
      "/Users/inouey2/miniconda3/envs/torch/lib/python3.10/site-packages/torch_geometric/data/in_memory_dataset.py:300: UserWarning: It is not recommended to directly access the internal storage format `data` of an 'InMemoryDataset'. If you are absolutely certain what you are doing, access the internal storage via `InMemoryDataset._data` instead to suppress this warning. Alternatively, you can access stacked individual attributes of every graph via `dataset.{attr_name}`.\n",
      "  warnings.warn(msg)\n"
     ]
    },
    {
     "name": "stdout",
     "output_type": "stream",
     "text": [
      "test-loss= 6.68118332851701e-05\n",
      "Test AUC: 0.6782, Test AUPR: 0.6666\n",
      "New best model found! Saving...\n",
      "\n",
      "Epoch 2/2\n",
      "Training...\n"
     ]
    },
    {
     "name": "stderr",
     "output_type": "stream",
     "text": [
      "/Users/inouey2/miniconda3/envs/torch/lib/python3.10/site-packages/torch_geometric/data/in_memory_dataset.py:300: UserWarning: It is not recommended to directly access the internal storage format `data` of an 'InMemoryDataset'. If you are absolutely certain what you are doing, access the internal storage via `InMemoryDataset._data` instead to suppress this warning. Alternatively, you can access stacked individual attributes of every graph via `dataset.{attr_name}`.\n",
      "  warnings.warn(msg)\n"
     ]
    },
    {
     "name": "stdout",
     "output_type": "stream",
     "text": [
      "train-loss= 0.011210739218327012\n",
      "train-AUC:0.7894 train-AUPR:0.8101\n",
      "Validating...\n"
     ]
    },
    {
     "name": "stderr",
     "output_type": "stream",
     "text": [
      "/Users/inouey2/miniconda3/envs/torch/lib/python3.10/site-packages/torch_geometric/data/in_memory_dataset.py:300: UserWarning: It is not recommended to directly access the internal storage format `data` of an 'InMemoryDataset'. If you are absolutely certain what you are doing, access the internal storage via `InMemoryDataset._data` instead to suppress this warning. Alternatively, you can access stacked individual attributes of every graph via `dataset.{attr_name}`.\n",
      "  warnings.warn(msg)\n"
     ]
    },
    {
     "name": "stdout",
     "output_type": "stream",
     "text": [
      "test-loss= 6.764329429103864e-05\n",
      "Test AUC: 0.7157, Test AUPR: 0.7021\n",
      "New best model found! Saving...\n",
      "Best AUC: 0.7157, Best AUPR: 0.7021\n",
      "Train set size: 47245, Validation set size: 10774\n",
      "Building known matrix...\n",
      "Performing matrix factorization...\n",
      "Preparing data loaders...\n",
      "Preparing train data loaders...\n"
     ]
    },
    {
     "name": "stderr",
     "output_type": "stream",
     "text": [
      "/Users/inouey2/code/Benchmark/SubCDR/main_classify.py:42: FutureWarning: Series.__getitem__ treating keys as positions is deprecated. In a future version, integer keys will always be treated as labels (consistent with DataFrame behavior). To access a value by position, use `ser.iloc[pos]`\n",
      "  cline_subs.append(cline_subfeat[str(row[0])])\n",
      "/Users/inouey2/code/Benchmark/SubCDR/main_classify.py:43: FutureWarning: Series.__getitem__ treating keys as positions is deprecated. In a future version, integer keys will always be treated as labels (consistent with DataFrame behavior). To access a value by position, use `ser.iloc[pos]`\n",
      "  drug_subs.append(drug_subfeat[str(row[1])])\n",
      "/Users/inouey2/code/Benchmark/SubCDR/main_classify.py:44: FutureWarning: Series.__getitem__ treating keys as positions is deprecated. In a future version, integer keys will always be treated as labels (consistent with DataFrame behavior). To access a value by position, use `ser.iloc[pos]`\n",
      "  cline_glos.append(np.array(cline_glofeat.loc[row[0]]))\n",
      "/Users/inouey2/code/Benchmark/SubCDR/main_classify.py:45: FutureWarning: Series.__getitem__ treating keys as positions is deprecated. In a future version, integer keys will always be treated as labels (consistent with DataFrame behavior). To access a value by position, use `ser.iloc[pos]`\n",
      "  drug_glos.append(np.array(drug_glofeat.loc[row[1]]))\n",
      "/Users/inouey2/code/Benchmark/SubCDR/main_classify.py:46: FutureWarning: Series.__getitem__ treating keys as positions is deprecated. In a future version, integer keys will always be treated as labels (consistent with DataFrame behavior). To access a value by position, use `ser.iloc[pos]`\n",
      "  drug_compos.append([row[1], drug_compo_elem[str(row[1])]])\n",
      "/Users/inouey2/code/Benchmark/SubCDR/main_classify.py:47: FutureWarning: Series.__getitem__ treating keys as positions is deprecated. In a future version, integer keys will always be treated as labels (consistent with DataFrame behavior). To access a value by position, use `ser.iloc[pos]`\n",
      "  cline_compos.append([row[0], cline_compos_elem])\n",
      "/Users/inouey2/code/Benchmark/SubCDR/main_classify.py:48: FutureWarning: Series.__getitem__ treating keys as positions is deprecated. In a future version, integer keys will always be treated as labels (consistent with DataFrame behavior). To access a value by position, use `ser.iloc[pos]`\n",
      "  label.append(row[2])\n"
     ]
    },
    {
     "name": "stdout",
     "output_type": "stream",
     "text": [
      "Preparing test data loaders...\n",
      "Initializing model and optimizer...\n",
      "\n",
      "Starting training...\n",
      "\n",
      "Epoch 1/2\n",
      "Training...\n"
     ]
    },
    {
     "name": "stderr",
     "output_type": "stream",
     "text": [
      "/Users/inouey2/miniconda3/envs/torch/lib/python3.10/site-packages/torch_geometric/data/in_memory_dataset.py:300: UserWarning: It is not recommended to directly access the internal storage format `data` of an 'InMemoryDataset'. If you are absolutely certain what you are doing, access the internal storage via `InMemoryDataset._data` instead to suppress this warning. Alternatively, you can access stacked individual attributes of every graph via `dataset.{attr_name}`.\n",
      "  warnings.warn(msg)\n"
     ]
    },
    {
     "name": "stdout",
     "output_type": "stream",
     "text": [
      "train-loss= 0.012850926936473881\n",
      "train-AUC:0.6735 train-AUPR:0.7014\n",
      "Validating...\n"
     ]
    },
    {
     "name": "stderr",
     "output_type": "stream",
     "text": [
      "/Users/inouey2/miniconda3/envs/torch/lib/python3.10/site-packages/torch_geometric/data/in_memory_dataset.py:300: UserWarning: It is not recommended to directly access the internal storage format `data` of an 'InMemoryDataset'. If you are absolutely certain what you are doing, access the internal storage via `InMemoryDataset._data` instead to suppress this warning. Alternatively, you can access stacked individual attributes of every graph via `dataset.{attr_name}`.\n",
      "  warnings.warn(msg)\n"
     ]
    },
    {
     "name": "stdout",
     "output_type": "stream",
     "text": [
      "test-loss= 7.084061821958274e-05\n",
      "Test AUC: 0.6811, Test AUPR: 0.6591\n",
      "New best model found! Saving...\n",
      "\n",
      "Epoch 2/2\n",
      "Training...\n"
     ]
    },
    {
     "name": "stderr",
     "output_type": "stream",
     "text": [
      "/Users/inouey2/miniconda3/envs/torch/lib/python3.10/site-packages/torch_geometric/data/in_memory_dataset.py:300: UserWarning: It is not recommended to directly access the internal storage format `data` of an 'InMemoryDataset'. If you are absolutely certain what you are doing, access the internal storage via `InMemoryDataset._data` instead to suppress this warning. Alternatively, you can access stacked individual attributes of every graph via `dataset.{attr_name}`.\n",
      "  warnings.warn(msg)\n"
     ]
    },
    {
     "name": "stdout",
     "output_type": "stream",
     "text": [
      "train-loss= 0.011342677469290883\n",
      "train-AUC:0.7795 train-AUPR:0.8011\n",
      "Validating...\n"
     ]
    },
    {
     "name": "stderr",
     "output_type": "stream",
     "text": [
      "/Users/inouey2/miniconda3/envs/torch/lib/python3.10/site-packages/torch_geometric/data/in_memory_dataset.py:300: UserWarning: It is not recommended to directly access the internal storage format `data` of an 'InMemoryDataset'. If you are absolutely certain what you are doing, access the internal storage via `InMemoryDataset._data` instead to suppress this warning. Alternatively, you can access stacked individual attributes of every graph via `dataset.{attr_name}`.\n",
      "  warnings.warn(msg)\n"
     ]
    },
    {
     "name": "stdout",
     "output_type": "stream",
     "text": [
      "test-loss= 6.839816106014134e-05\n",
      "Test AUC: 0.7249, Test AUPR: 0.7026\n",
      "New best model found! Saving...\n",
      "Best AUC: 0.7249, Best AUPR: 0.7026\n"
     ]
    }
   ],
   "source": [
    "best, true = run_cross_validation(args)"
   ]
  },
  {
   "cell_type": "code",
   "execution_count": 39,
   "id": "97506070-e7c1-4c45-97ee-882145c9358f",
   "metadata": {
    "scrolled": true
   },
   "outputs": [
    {
     "data": {
      "text/html": [
       "<div>\n",
       "<style scoped>\n",
       "    .dataframe tbody tr th:only-of-type {\n",
       "        vertical-align: middle;\n",
       "    }\n",
       "\n",
       "    .dataframe tbody tr th {\n",
       "        vertical-align: top;\n",
       "    }\n",
       "\n",
       "    .dataframe thead th {\n",
       "        text-align: right;\n",
       "    }\n",
       "</style>\n",
       "<table border=\"1\" class=\"dataframe\">\n",
       "  <thead>\n",
       "    <tr style=\"text-align: right;\">\n",
       "      <th></th>\n",
       "      <th>0</th>\n",
       "      <th>1</th>\n",
       "      <th>2</th>\n",
       "      <th>3</th>\n",
       "      <th>4</th>\n",
       "      <th>5</th>\n",
       "      <th>6</th>\n",
       "      <th>7</th>\n",
       "      <th>8</th>\n",
       "      <th>9</th>\n",
       "      <th>...</th>\n",
       "      <th>10766</th>\n",
       "      <th>10767</th>\n",
       "      <th>10768</th>\n",
       "      <th>10769</th>\n",
       "      <th>10770</th>\n",
       "      <th>10771</th>\n",
       "      <th>10772</th>\n",
       "      <th>10773</th>\n",
       "      <th>10774</th>\n",
       "      <th>10775</th>\n",
       "    </tr>\n",
       "  </thead>\n",
       "  <tbody>\n",
       "    <tr>\n",
       "      <th>0</th>\n",
       "      <td>0.0</td>\n",
       "      <td>0.0</td>\n",
       "      <td>0.0</td>\n",
       "      <td>0.0</td>\n",
       "      <td>0.0</td>\n",
       "      <td>0.0</td>\n",
       "      <td>0.0</td>\n",
       "      <td>0.0</td>\n",
       "      <td>1.0</td>\n",
       "      <td>1.0</td>\n",
       "      <td>...</td>\n",
       "      <td>1.0</td>\n",
       "      <td>1.0</td>\n",
       "      <td>1.0</td>\n",
       "      <td>1.0</td>\n",
       "      <td>1.0</td>\n",
       "      <td>1.0</td>\n",
       "      <td>1.0</td>\n",
       "      <td>0.0</td>\n",
       "      <td>0.0</td>\n",
       "      <td>0.0</td>\n",
       "    </tr>\n",
       "    <tr>\n",
       "      <th>1</th>\n",
       "      <td>1.0</td>\n",
       "      <td>0.0</td>\n",
       "      <td>1.0</td>\n",
       "      <td>1.0</td>\n",
       "      <td>0.0</td>\n",
       "      <td>0.0</td>\n",
       "      <td>1.0</td>\n",
       "      <td>0.0</td>\n",
       "      <td>1.0</td>\n",
       "      <td>1.0</td>\n",
       "      <td>...</td>\n",
       "      <td>0.0</td>\n",
       "      <td>1.0</td>\n",
       "      <td>0.0</td>\n",
       "      <td>1.0</td>\n",
       "      <td>0.0</td>\n",
       "      <td>1.0</td>\n",
       "      <td>1.0</td>\n",
       "      <td>1.0</td>\n",
       "      <td>1.0</td>\n",
       "      <td>0.0</td>\n",
       "    </tr>\n",
       "    <tr>\n",
       "      <th>2</th>\n",
       "      <td>1.0</td>\n",
       "      <td>1.0</td>\n",
       "      <td>1.0</td>\n",
       "      <td>1.0</td>\n",
       "      <td>1.0</td>\n",
       "      <td>0.0</td>\n",
       "      <td>0.0</td>\n",
       "      <td>0.0</td>\n",
       "      <td>0.0</td>\n",
       "      <td>0.0</td>\n",
       "      <td>...</td>\n",
       "      <td>0.0</td>\n",
       "      <td>0.0</td>\n",
       "      <td>1.0</td>\n",
       "      <td>0.0</td>\n",
       "      <td>0.0</td>\n",
       "      <td>1.0</td>\n",
       "      <td>1.0</td>\n",
       "      <td>0.0</td>\n",
       "      <td>NaN</td>\n",
       "      <td>NaN</td>\n",
       "    </tr>\n",
       "    <tr>\n",
       "      <th>3</th>\n",
       "      <td>1.0</td>\n",
       "      <td>1.0</td>\n",
       "      <td>1.0</td>\n",
       "      <td>1.0</td>\n",
       "      <td>0.0</td>\n",
       "      <td>1.0</td>\n",
       "      <td>1.0</td>\n",
       "      <td>1.0</td>\n",
       "      <td>1.0</td>\n",
       "      <td>0.0</td>\n",
       "      <td>...</td>\n",
       "      <td>0.0</td>\n",
       "      <td>1.0</td>\n",
       "      <td>0.0</td>\n",
       "      <td>0.0</td>\n",
       "      <td>1.0</td>\n",
       "      <td>0.0</td>\n",
       "      <td>1.0</td>\n",
       "      <td>0.0</td>\n",
       "      <td>NaN</td>\n",
       "      <td>NaN</td>\n",
       "    </tr>\n",
       "    <tr>\n",
       "      <th>4</th>\n",
       "      <td>0.0</td>\n",
       "      <td>0.0</td>\n",
       "      <td>1.0</td>\n",
       "      <td>0.0</td>\n",
       "      <td>0.0</td>\n",
       "      <td>0.0</td>\n",
       "      <td>0.0</td>\n",
       "      <td>0.0</td>\n",
       "      <td>0.0</td>\n",
       "      <td>0.0</td>\n",
       "      <td>...</td>\n",
       "      <td>0.0</td>\n",
       "      <td>0.0</td>\n",
       "      <td>0.0</td>\n",
       "      <td>1.0</td>\n",
       "      <td>1.0</td>\n",
       "      <td>0.0</td>\n",
       "      <td>1.0</td>\n",
       "      <td>1.0</td>\n",
       "      <td>NaN</td>\n",
       "      <td>NaN</td>\n",
       "    </tr>\n",
       "  </tbody>\n",
       "</table>\n",
       "<p>5 rows × 10776 columns</p>\n",
       "</div>"
      ],
      "text/plain": [
       "   0      1      2      3      4      5      6      7      8      9      ...  \\\n",
       "0    0.0    0.0    0.0    0.0    0.0    0.0    0.0    0.0    1.0    1.0  ...   \n",
       "1    1.0    0.0    1.0    1.0    0.0    0.0    1.0    0.0    1.0    1.0  ...   \n",
       "2    1.0    1.0    1.0    1.0    1.0    0.0    0.0    0.0    0.0    0.0  ...   \n",
       "3    1.0    1.0    1.0    1.0    0.0    1.0    1.0    1.0    1.0    0.0  ...   \n",
       "4    0.0    0.0    1.0    0.0    0.0    0.0    0.0    0.0    0.0    0.0  ...   \n",
       "\n",
       "   10766  10767  10768  10769  10770  10771  10772  10773  10774  10775  \n",
       "0    1.0    1.0    1.0    1.0    1.0    1.0    1.0    0.0    0.0    0.0  \n",
       "1    0.0    1.0    0.0    1.0    0.0    1.0    1.0    1.0    1.0    0.0  \n",
       "2    0.0    0.0    1.0    0.0    0.0    1.0    1.0    0.0    NaN    NaN  \n",
       "3    0.0    1.0    0.0    0.0    1.0    0.0    1.0    0.0    NaN    NaN  \n",
       "4    0.0    0.0    0.0    1.0    1.0    0.0    1.0    1.0    NaN    NaN  \n",
       "\n",
       "[5 rows x 10776 columns]"
      ]
     },
     "execution_count": 39,
     "metadata": {},
     "output_type": "execute_result"
    }
   ],
   "source": []
  },
  {
   "cell_type": "code",
   "execution_count": null,
   "id": "9c6a7c5c-9fe1-425b-81c7-39ca738d2f66",
   "metadata": {},
   "outputs": [],
   "source": []
  },
  {
   "cell_type": "code",
   "execution_count": null,
   "id": "1b277777-1da9-417f-aba0-ab87f8fcbdb3",
   "metadata": {},
   "outputs": [],
   "source": []
  },
  {
   "cell_type": "code",
   "execution_count": null,
   "id": "fe2d515c-c1cf-448f-9f0b-188235acbac3",
   "metadata": {},
   "outputs": [],
   "source": []
  },
  {
   "cell_type": "code",
   "execution_count": null,
   "id": "b2983b61-dccf-431f-ae3a-b602818cbeab",
   "metadata": {},
   "outputs": [],
   "source": []
  },
  {
   "cell_type": "code",
   "execution_count": null,
   "id": "72396eac-9482-4c08-b5fd-1561c09df274",
   "metadata": {},
   "outputs": [],
   "source": []
  },
  {
   "cell_type": "code",
   "execution_count": null,
   "id": "d32aba7d-63bb-4fb7-82c1-cc6117926664",
   "metadata": {},
   "outputs": [],
   "source": []
  },
  {
   "cell_type": "code",
   "execution_count": null,
   "id": "cf813734-2057-4efa-a4c9-9bd253cc93fb",
   "metadata": {},
   "outputs": [],
   "source": []
  },
  {
   "cell_type": "code",
   "execution_count": null,
   "id": "be883e4a-dc79-432f-a1f3-e39caf48bd4f",
   "metadata": {},
   "outputs": [],
   "source": []
  }
 ],
 "metadata": {
  "kernelspec": {
   "display_name": "torch",
   "language": "python",
   "name": "torch"
  },
  "language_info": {
   "codemirror_mode": {
    "name": "ipython",
    "version": 3
   },
   "file_extension": ".py",
   "mimetype": "text/x-python",
   "name": "python",
   "nbconvert_exporter": "python",
   "pygments_lexer": "ipython3",
   "version": "3.10.15"
  }
 },
 "nbformat": 4,
 "nbformat_minor": 5
}
