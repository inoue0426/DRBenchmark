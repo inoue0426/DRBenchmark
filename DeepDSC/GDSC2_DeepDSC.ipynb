{
 "cells": [
  {
   "cell_type": "code",
   "execution_count": 1,
   "id": "4cd655df",
   "metadata": {},
   "outputs": [],
   "source": [
    "import random\n",
    "\n",
    "import numpy as np\n",
    "import pandas as pd\n",
    "import torch\n",
    "from tqdm import tqdm\n",
    "\n",
    "device = torch.device(\"cuda\" if torch.cuda.is_available() else \"cpu\")\n",
    "\n",
    "torch.manual_seed(0)\n",
    "random.seed(0)\n",
    "np.random.seed(0)"
   ]
  },
  {
   "cell_type": "code",
   "execution_count": 2,
   "id": "a484437d-cb07-445d-b169-9b10ccd31a0a",
   "metadata": {},
   "outputs": [],
   "source": [
    "%load_ext autoreload\n",
    "%autoreload 2\n",
    "\n",
    "from DeepDSC.DeepDSC import *"
   ]
  },
  {
   "cell_type": "code",
   "execution_count": 5,
   "id": "f688aabe",
   "metadata": {
    "scrolled": true
   },
   "outputs": [],
   "source": [
    "def main(PATH):\n",
    "    normalized_gene_exp_tensor, gene_exp = prepare_data(\n",
    "        data1=PATH + \"/gene_exp_part1.csv.gz\", data2=PATH + \"gene_exp_part2.csv.gz\"\n",
    "    )\n",
    "    normalized_gene_exp_dataset = GeneExpressionDataset(normalized_gene_exp_tensor)\n",
    "    normalized_gene_exp_dataloader = DataLoader(\n",
    "        normalized_gene_exp_dataset, batch_size=10000, shuffle=True\n",
    "    )\n",
    "\n",
    "    # オートエンコーダーのトレーニング\n",
    "    autoencoder = AE(normalized_gene_exp_tensor.shape[1]).to(device)\n",
    "    train_autoencoder(autoencoder, normalized_gene_exp_dataloader)\n",
    "\n",
    "    # 圧縮特徴の抽出\n",
    "    compressed_features_tensor = autoencoder.encoder(normalized_gene_exp_tensor)\n",
    "    compressed_features = pd.DataFrame(\n",
    "        compressed_features_tensor.cpu().detach().numpy(), index=gene_exp.columns\n",
    "    )\n",
    "\n",
    "    # 薬物応答データの準備\n",
    "    drug_response, nsc_sm = prepare_drug_data(is_nsc=False, is_gdsc=True, is_1=False)\n",
    "    mfp = calculate_morgan_fingerprints(drug_response, nsc_sm)\n",
    "\n",
    "    train_data = pd.read_csv(PATH + \"train.csv\")\n",
    "    val_data = pd.read_csv(PATH + \"val.csv\")\n",
    "    test_data = pd.read_csv(PATH + \"test.csv\")\n",
    "\n",
    "    train_labels = torch.tensor(np.load(PATH + \"train_labels.npy\")).to(device)\n",
    "    val_labels = torch.tensor(np.load(PATH + \"val_labels.npy\")).to(device)\n",
    "    test_labels = torch.tensor(np.load(PATH + \"test_labels.npy\")).to(device)\n",
    "\n",
    "    # トレーニング、検証、テストデータの準備\n",
    "    train_data, val_data, test_data = prepare_train_val_test_data(\n",
    "        train_data, val_data, test_data, compressed_features, mfp\n",
    "    )\n",
    "\n",
    "    # DFモデルのトレーニング\n",
    "    df_model = DF().to(device)\n",
    "    train_df_model(df_model, train_data, val_data, train_labels, val_labels)\n",
    "    test_results = evaluate_model(df_model, test_data, test_labels)\n",
    "    return print_binary_classification_metrics(test_labels, test_results)"
   ]
  },
  {
   "cell_type": "code",
   "execution_count": 6,
   "id": "504f684c-8a81-4b75-a1ea-80ee04220c82",
   "metadata": {
    "scrolled": true
   },
   "outputs": [
    {
     "name": "stderr",
     "output_type": "stream",
     "text": [
      "100%|██████████| 5/5 [06:05<00:00, 73.19s/it]\n"
     ]
    }
   ],
   "source": [
    "res = pd.DataFrame()\n",
    "PATH = \"../gdsc2_data/\"\n",
    "\n",
    "for i in tqdm(range(5)):\n",
    "    tmp = main(PATH)\n",
    "    res = pd.concat([res, tmp])"
   ]
  },
  {
   "cell_type": "code",
   "execution_count": 7,
   "id": "23121ca2-2a22-471e-8321-e006c13ff6db",
   "metadata": {},
   "outputs": [
    {
     "data": {
      "text/html": [
       "<div>\n",
       "<style scoped>\n",
       "    .dataframe tbody tr th:only-of-type {\n",
       "        vertical-align: middle;\n",
       "    }\n",
       "\n",
       "    .dataframe tbody tr th {\n",
       "        vertical-align: top;\n",
       "    }\n",
       "\n",
       "    .dataframe thead th {\n",
       "        text-align: right;\n",
       "    }\n",
       "</style>\n",
       "<table border=\"1\" class=\"dataframe\">\n",
       "  <thead>\n",
       "    <tr style=\"text-align: right;\">\n",
       "      <th></th>\n",
       "      <th>Accuracy</th>\n",
       "      <th>Precision</th>\n",
       "      <th>Recall</th>\n",
       "      <th>F1 Score</th>\n",
       "      <th>AUROC</th>\n",
       "      <th>AUPR</th>\n",
       "    </tr>\n",
       "  </thead>\n",
       "  <tbody>\n",
       "    <tr>\n",
       "      <th>0</th>\n",
       "      <td>0.641304</td>\n",
       "      <td>0.716287</td>\n",
       "      <td>0.467963</td>\n",
       "      <td>0.56609</td>\n",
       "      <td>0.58861</td>\n",
       "      <td>0.622377</td>\n",
       "    </tr>\n",
       "    <tr>\n",
       "      <th>0</th>\n",
       "      <td>0.641304</td>\n",
       "      <td>0.716287</td>\n",
       "      <td>0.467963</td>\n",
       "      <td>0.56609</td>\n",
       "      <td>0.58861</td>\n",
       "      <td>0.622377</td>\n",
       "    </tr>\n",
       "    <tr>\n",
       "      <th>0</th>\n",
       "      <td>0.641304</td>\n",
       "      <td>0.716287</td>\n",
       "      <td>0.467963</td>\n",
       "      <td>0.56609</td>\n",
       "      <td>0.58861</td>\n",
       "      <td>0.622377</td>\n",
       "    </tr>\n",
       "    <tr>\n",
       "      <th>0</th>\n",
       "      <td>0.641304</td>\n",
       "      <td>0.716287</td>\n",
       "      <td>0.467963</td>\n",
       "      <td>0.56609</td>\n",
       "      <td>0.58861</td>\n",
       "      <td>0.622377</td>\n",
       "    </tr>\n",
       "    <tr>\n",
       "      <th>0</th>\n",
       "      <td>0.641304</td>\n",
       "      <td>0.716287</td>\n",
       "      <td>0.467963</td>\n",
       "      <td>0.56609</td>\n",
       "      <td>0.58861</td>\n",
       "      <td>0.622377</td>\n",
       "    </tr>\n",
       "  </tbody>\n",
       "</table>\n",
       "</div>"
      ],
      "text/plain": [
       "   Accuracy  Precision    Recall  F1 Score    AUROC      AUPR\n",
       "0  0.641304   0.716287  0.467963   0.56609  0.58861  0.622377\n",
       "0  0.641304   0.716287  0.467963   0.56609  0.58861  0.622377\n",
       "0  0.641304   0.716287  0.467963   0.56609  0.58861  0.622377\n",
       "0  0.641304   0.716287  0.467963   0.56609  0.58861  0.622377\n",
       "0  0.641304   0.716287  0.467963   0.56609  0.58861  0.622377"
      ]
     },
     "execution_count": 7,
     "metadata": {},
     "output_type": "execute_result"
    }
   ],
   "source": [
    "res"
   ]
  },
  {
   "cell_type": "code",
   "execution_count": null,
   "id": "90439c10-4c8d-4b72-bf9d-1d2c18a8a5ff",
   "metadata": {},
   "outputs": [],
   "source": []
  }
 ],
 "metadata": {
  "kernelspec": {
   "display_name": "genex",
   "language": "python",
   "name": "genex"
  },
  "language_info": {
   "codemirror_mode": {
    "name": "ipython",
    "version": 3
   },
   "file_extension": ".py",
   "mimetype": "text/x-python",
   "name": "python",
   "nbconvert_exporter": "python",
   "pygments_lexer": "ipython3",
   "version": "3.10.14"
  }
 },
 "nbformat": 4,
 "nbformat_minor": 5
}
