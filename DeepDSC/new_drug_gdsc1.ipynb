{
 "cells": [
  {
   "cell_type": "code",
   "execution_count": 1,
   "id": "874334de-4e40-4786-82f8-a6abfd5939f3",
   "metadata": {},
   "outputs": [],
   "source": [
    "import argparse\n",
    "import random\n",
    "\n",
    "import numpy as np\n",
    "\n",
    "import pandas as pd\n",
    "import scipy.sparse as sp\n",
    "import torch\n",
    "from sklearn.model_selection import KFold\n",
    "from torch.utils.data import DataLoader, Dataset\n",
    "from tqdm import tqdm"
   ]
  },
  {
   "cell_type": "code",
   "execution_count": 2,
   "id": "c8044c5c-f48a-490a-829f-e3eef1878c70",
   "metadata": {},
   "outputs": [],
   "source": [
    "%load_ext autoreload\n",
    "%autoreload 2\n",
    "\n",
    "from load_data import load_data\n",
    "from sampler import NewSampler\n",
    "\n",
    "from DeepDSC.DeepDSC import (AE, DF, GeneExpressionDataset,\n",
    "                             calculate_morgan_fingerprints, prepare_data,\n",
    "                             prepare_drug_data, prepare_train_val_test_data,\n",
    "                             train_autoencoder, train_df_model)"
   ]
  },
  {
   "cell_type": "code",
   "execution_count": 3,
   "id": "25cc69ef-c29e-4c90-a347-cef3ebf18ae8",
   "metadata": {},
   "outputs": [],
   "source": [
    "data = \"gdsc1\"\n",
    "PATH = \"../gdsc1_data/\""
   ]
  },
  {
   "cell_type": "code",
   "execution_count": 4,
   "id": "fbcf3b16-9be3-4bd4-82ee-b9495131eb87",
   "metadata": {},
   "outputs": [],
   "source": [
    "device = torch.device(\"cuda\" if torch.cuda.is_available() else \"cpu\")"
   ]
  },
  {
   "cell_type": "code",
   "execution_count": 5,
   "id": "f525656d-e3d7-49b8-9ea9-7f8741a77f1d",
   "metadata": {},
   "outputs": [
    {
     "name": "stdout",
     "output_type": "stream",
     "text": [
      "load gdsc1\n"
     ]
    }
   ],
   "source": [
    "class Args:\n",
    "    def __init__(self):\n",
    "        self.device = device  # cuda:number or cpu\n",
    "        self.data = \"gdsc1\"  # Dataset{gdsc or ccle}\n",
    "\n",
    "\n",
    "args = Args()\n",
    "res, drug_feature, exprs, mut, cna, null_mask, pos_num = load_data(args)\n",
    "cells = {i: j for i, j in enumerate(res.index)}\n",
    "drugs = {i: j for i, j in enumerate(res.columns)}"
   ]
  },
  {
   "cell_type": "code",
   "execution_count": 6,
   "id": "8c8485f0-121b-4163-9154-35440784d414",
   "metadata": {},
   "outputs": [],
   "source": [
    "cell_sum = np.sum(res, axis=1)\n",
    "drug_sum = np.sum(res, axis=0)\n",
    "\n",
    "target_dim = [\n",
    "    # 0,  # Drug\n",
    "    1  # Cell\n",
    "]"
   ]
  },
  {
   "cell_type": "code",
   "execution_count": 7,
   "id": "aea98472-4653-4130-b581-c55469df9f6b",
   "metadata": {},
   "outputs": [],
   "source": [
    "def main(PATH, train, val):\n",
    "    normalized_gene_exp_tensor, gene_exp = prepare_data(\n",
    "        data1=PATH + \"/gene_exp_part1.csv.gz\", data2=PATH + \"gene_exp_part2.csv.gz\"\n",
    "    )\n",
    "    normalized_gene_exp_dataset = GeneExpressionDataset(normalized_gene_exp_tensor)\n",
    "    normalized_gene_exp_dataloader = DataLoader(\n",
    "        normalized_gene_exp_dataset, batch_size=10000, shuffle=True\n",
    "    )\n",
    "\n",
    "    # オートエンコーダーのトレーニング\n",
    "    autoencoder = AE(normalized_gene_exp_tensor.shape[1]).to(device)\n",
    "    train_autoencoder(autoencoder, normalized_gene_exp_dataloader)\n",
    "\n",
    "    # 圧縮特徴の抽出\n",
    "    compressed_features_tensor = autoencoder.encoder(normalized_gene_exp_tensor)\n",
    "    compressed_features = pd.DataFrame(\n",
    "        compressed_features_tensor.cpu().detach().numpy(), index=gene_exp.columns\n",
    "    )\n",
    "\n",
    "    # 薬物応答データの準備\n",
    "    drug_response, nsc_sm = prepare_drug_data(is_nsc=False, is_gdsc=True, is_1=False)\n",
    "    mfp = calculate_morgan_fingerprints(drug_response, nsc_sm)\n",
    "    print(f\"Morgan fingerprints shape: {mfp.shape}\")\n",
    "\n",
    "    train_labels = train[2]\n",
    "    val_labels = val[2]\n",
    "    train_data = train[[0, 1]]\n",
    "    val_data = val[[0, 1]]\n",
    "    val_data.columns = [0, 1]\n",
    "\n",
    "    print(\n",
    "        f\"Training data size: {len(train_data)}, Validation data size: {len(val_data)}\"\n",
    "    )\n",
    "    train_data, val_data = prepare_train_val_test_data(\n",
    "        train_data, val_data, compressed_features, mfp\n",
    "    )\n",
    "    df_model = DF().to(device)\n",
    "    val_labels, best_val_out = train_df_model(\n",
    "        df_model,\n",
    "        train_data,\n",
    "        val_data,\n",
    "        torch.tensor(train_labels).double().to(device),\n",
    "        torch.tensor(val_labels).double().to(device),\n",
    "    )\n",
    "    print(\"DF model training completed.\")\n",
    "    return val_labels, best_val_out"
   ]
  },
  {
   "cell_type": "code",
   "execution_count": 8,
   "id": "85f6219d-3df5-4bb4-92e3-c54b6eae9fdd",
   "metadata": {},
   "outputs": [],
   "source": [
    "def DeepDSC(res_mat, null_mask, target_dim, target_index, seed):\n",
    "    sampler = NewSampler(res_mat, null_mask, target_dim, target_index, seed)\n",
    "\n",
    "    train_data = pd.DataFrame(sampler.train_data, index=res.index, columns=res.columns)\n",
    "    test_data = pd.DataFrame(sampler.test_data, index=res.index, columns=res.columns)\n",
    "\n",
    "    train_mask = pd.DataFrame(sampler.train_mask, index=res.index, columns=res.columns)\n",
    "    test_mask = pd.DataFrame(sampler.test_mask, index=res.index, columns=res.columns)\n",
    "\n",
    "    train = pd.DataFrame(train_mask.values.nonzero()).T\n",
    "    train[2] = train_data.values[train_mask.values.nonzero()].astype(int)\n",
    "\n",
    "    test = pd.DataFrame(test_mask.values.nonzero()).T\n",
    "    test[2] = test_data.values[test_mask.values.nonzero()].astype(int)\n",
    "\n",
    "    val_labels = test[2]\n",
    "\n",
    "    if len(np.unique(val_labels)) < 2:\n",
    "        print(f\"Target {target_index} skipped: Validation set has only one class.\")\n",
    "        return None, None\n",
    "\n",
    "    train[0] = [cells[i] for i in train[0]]\n",
    "    train[1] = [drugs[i] for i in train[1]]\n",
    "    test[0] = [cells[i] for i in test[0]]\n",
    "    test[1] = [drugs[i] for i in test[1]]\n",
    "\n",
    "    val_labels, best_val_out = main(PATH, train, test)\n",
    "    return val_labels, best_val_out"
   ]
  },
  {
   "cell_type": "code",
   "execution_count": 9,
   "id": "34b72e12-7cab-41f8-af92-3a899170fcb9",
   "metadata": {
    "scrolled": true
   },
   "outputs": [
    {
     "name": "stderr",
     "output_type": "stream",
     "text": [
      "  0%|                                                                                                 | 0/916 [00:00<?, ?it/s]/var/folders/y3/ssnk1ytd3m5bjmrchh2lt74srg76p8/T/ipykernel_82813/464527099.py:7: FutureWarning: Series.__getitem__ treating keys as positions is deprecated. In a future version, integer keys will always be treated as labels (consistent with DataFrame behavior). To access a value by position, use `ser.iloc[pos]`\n",
      "  if drug_sum[target_index] < 10:\n",
      "\n",
      "  0%|                                                                                                 | 0/800 [00:00<?, ?it/s]\u001b[A\n",
      "  0%|                                                                                         | 1/800 [00:01<13:55,  1.05s/it]\u001b[A\n",
      "  0%|▏                                                                                        | 2/800 [00:01<13:02,  1.02it/s]\u001b[A\n",
      "  0%|▎                                                                                        | 3/800 [00:02<12:44,  1.04it/s]\u001b[A\n",
      "  0%|▍                                                                                        | 4/800 [00:03<12:38,  1.05it/s]\u001b[A\n",
      "  1%|▌                                                                                        | 5/800 [00:04<12:31,  1.06it/s]\u001b[A\n",
      "  1%|▋                                                                                        | 6/800 [00:05<12:28,  1.06it/s]\u001b[A\n",
      "  1%|▊                                                                                        | 7/800 [00:06<12:25,  1.06it/s]\u001b[A\n",
      "  1%|▉                                                                                        | 8/800 [00:07<12:19,  1.07it/s]\u001b[A\n",
      "  1%|█                                                                                        | 9/800 [00:08<12:15,  1.08it/s]\u001b[A\n",
      "  1%|█                                                                                       | 10/800 [00:09<12:12,  1.08it/s]\u001b[A\n",
      "  1%|█▏                                                                                      | 11/800 [00:10<12:09,  1.08it/s]\u001b[A\n",
      "  2%|█▎                                                                                      | 12/800 [00:11<12:09,  1.08it/s]\u001b[A\n",
      "  2%|█▍                                                                                      | 13/800 [00:12<12:08,  1.08it/s]\u001b[A\n",
      "  2%|█▌                                                                                      | 14/800 [00:13<12:11,  1.07it/s]\u001b[A\n",
      "  2%|█▋                                                                                      | 15/800 [00:14<12:15,  1.07it/s]\u001b[A\n",
      "  2%|█▊                                                                                      | 16/800 [00:15<12:20,  1.06it/s]\u001b[A\n",
      "  2%|█▊                                                                                      | 17/800 [00:15<12:16,  1.06it/s]\u001b[A\n",
      "  2%|█▉                                                                                      | 18/800 [00:17<12:26,  1.05it/s]\u001b[A\n",
      "  0%|                                                                                                 | 0/916 [00:22<?, ?it/s]\n",
      "\n",
      "KeyboardInterrupt\n",
      "\n"
     ]
    }
   ],
   "source": [
    "n_kfold = 1\n",
    "true_datas = pd.DataFrame()\n",
    "predict_datas = pd.DataFrame()\n",
    "for dim in target_dim:\n",
    "    for seed, target_index in enumerate(tqdm(np.arange(res.shape[dim]))):\n",
    "        if dim:\n",
    "            if drug_sum[target_index] < 10:\n",
    "                continue\n",
    "        else:\n",
    "            if cell_sum[target_index] < 10:\n",
    "                continue\n",
    "        val_labels, best_val_out = DeepDSC(\n",
    "            res.values, null_mask.T.values, dim, target_index, seed\n",
    "        )\n",
    "\n",
    "        if val_labels is not None:\n",
    "            true_datas = pd.concat(\n",
    "                [true_datas, pd.DataFrame(val_labels.cpu().numpy())], axis=1\n",
    "            )\n",
    "            predict_datas = pd.concat(\n",
    "                [predict_datas, pd.DataFrame(best_val_out.cpu().numpy())], axis=1\n",
    "            )"
   ]
  },
  {
   "cell_type": "code",
   "execution_count": null,
   "id": "01d3c23e-46b4-4336-bf2f-abb938e0556d",
   "metadata": {},
   "outputs": [],
   "source": []
  },
  {
   "cell_type": "code",
   "execution_count": null,
   "id": "39826a76-a8b0-4322-aa68-d77d0f9977ca",
   "metadata": {
    "scrolled": true
   },
   "outputs": [],
   "source": [
    "true_datas.to_csv(f\"new_drug_true_{args.data}.csv\")\n",
    "predict_datas.to_csv(f\"new_drug_pred_{args.data}.csv\")"
   ]
  },
  {
   "cell_type": "code",
   "execution_count": null,
   "id": "9c6f4626-f8db-43c8-8c8a-5e6008c44e84",
   "metadata": {},
   "outputs": [],
   "source": []
  },
  {
   "cell_type": "code",
   "execution_count": null,
   "id": "3d64b3ec-4dc8-44a2-8a00-33264652bae5",
   "metadata": {},
   "outputs": [],
   "source": []
  },
  {
   "cell_type": "code",
   "execution_count": null,
   "id": "2b609460-8eab-4f83-bac0-9b655b4290d6",
   "metadata": {},
   "outputs": [],
   "source": []
  },
  {
   "cell_type": "code",
   "execution_count": null,
   "id": "03ec400d-4112-4a47-b6e0-1bae975cee93",
   "metadata": {},
   "outputs": [],
   "source": []
  },
  {
   "cell_type": "code",
   "execution_count": null,
   "id": "07de4624-5b82-458d-8ec6-a28ca4108a09",
   "metadata": {},
   "outputs": [],
   "source": []
  },
  {
   "cell_type": "code",
   "execution_count": null,
   "id": "56c7e78f-adb6-4c96-9e13-a11d70f9c888",
   "metadata": {},
   "outputs": [],
   "source": []
  }
 ],
 "metadata": {
  "kernelspec": {
   "display_name": "torch",
   "language": "python",
   "name": "torch"
  },
  "language_info": {
   "codemirror_mode": {
    "name": "ipython",
    "version": 3
   },
   "file_extension": ".py",
   "mimetype": "text/x-python",
   "name": "python",
   "nbconvert_exporter": "python",
   "pygments_lexer": "ipython3",
   "version": "3.10.15"
  }
 },
 "nbformat": 4,
 "nbformat_minor": 5
}
