{
 "cells": [
  {
   "cell_type": "code",
   "execution_count": 68,
   "id": "68a056c7-440f-4ec4-901b-318cc9c4e703",
   "metadata": {
    "scrolled": true
   },
   "outputs": [],
   "source": [
    "import os\n",
    "\n",
    "import deepchem as dc\n",
    "import hickle as hkl\n",
    "import pandas as pd\n",
    "from rdkit import Chem, RDLogger\n",
    "from tqdm import tqdm"
   ]
  },
  {
   "cell_type": "code",
   "execution_count": 69,
   "id": "1a8413cf-f3b7-4ea6-aaaa-433752b1af5f",
   "metadata": {},
   "outputs": [],
   "source": [
    "tmp = pd.read_csv(\"../data/drugSynonym.csv\")\n",
    "tmp = tmp[\n",
    "    (~tmp.nci60.isna() & ~tmp.ctrp.isna())\n",
    "    | (~tmp.nci60.isna() & ~tmp.gdsc1.isna())\n",
    "    | (~tmp.nci60.isna() & ~tmp.gdsc2.isna())\n",
    "]\n",
    "tmp = [int(i) for i in set(tmp[\"nci60\"].str.split(\"|\").explode())]\n",
    "df = pd.read_csv(\"../data/nsc_cid_smiles_class_name.csv\")\n",
    "df = pd.concat([df[df.NSC.isin(tmp)], df[df.MECHANISM != \"Other\"]]).drop_duplicates()\n",
    "drugAct = pd.read_csv('../nci_data/drugAct.csv', index_col=0)\n",
    "df = df[df.NSC.isin(drugAct.index)]"
   ]
  },
  {
   "cell_type": "code",
   "execution_count": 70,
   "id": "f7e3c888-95ca-4773-ba3f-682eb869fd62",
   "metadata": {},
   "outputs": [
    {
     "name": "stderr",
     "output_type": "stream",
     "text": [
      "100%|████████████████████████████████████████████████████████████████████████████████████| 1005/1005 [00:06<00:00, 159.09it/s]\n"
     ]
    }
   ],
   "source": [
    "save_dir = \"../nci_data/drug_graph_feat/\"\n",
    "os.makedirs(save_dir, exist_ok=True)  # より安全なディレクトリ作成\n",
    "\n",
    "# データ読み込み\n",
    "nsc2smile = dict(zip(df[\"NSC\"], df[\"SMILES\"]))\n",
    "\n",
    "featurizer = dc.feat.graph_features.ConvMolFeaturizer()\n",
    "\n",
    "for nsc, smile in tqdm(nsc2smile.items()):\n",
    "    try:\n",
    "        # RDKitで分子オブジェクトの生成を試みる\n",
    "        mol = Chem.MolFromSmiles(smile)\n",
    "        if mol is None:\n",
    "            print(f\"分子の生成に失敗: NSC {nsc}\")\n",
    "            continue\n",
    "\n",
    "        # 原子価の明示的な設定（Tin原子用）\n",
    "        for atom in mol.GetAtoms():\n",
    "            if atom.GetSymbol() == \"Sn\":\n",
    "                atom.SetFormalCharge(-1)  # 電荷を明示的に設定\n",
    "\n",
    "        # 特徴量抽出\n",
    "        mol_object = featurizer.featurize([mol])\n",
    "        if len(mol_object) == 0:\n",
    "            print(f\"特徴量抽出失敗: NSC {nsc}\")\n",
    "            continue\n",
    "\n",
    "        # データ保存\n",
    "        hkl.dump(\n",
    "            [\n",
    "                mol_object[0].atom_features,\n",
    "                mol_object[0].canon_adj_list,\n",
    "                mol_object[0].deg_list,\n",
    "            ],\n",
    "            os.path.join(save_dir, f\"{nsc}.hkl\"),\n",
    "        )\n",
    "\n",
    "    except Exception as e:\n",
    "        print(f\"エラー発生: NSC {nsc} - {str(e)}\")\n",
    "        continue"
   ]
  },
  {
   "cell_type": "code",
   "execution_count": 55,
   "id": "eb6ae07a-2ae0-4db1-b529-ab2f4c34aced",
   "metadata": {},
   "outputs": [],
   "source": [
    "def get_feature(df, save_dir):\n",
    "    # データ読み込み\n",
    "    nsc2smile = dict(zip(df[\"drugs\"], df[\"SMILES\"]))\n",
    "    \n",
    "    featurizer = dc.feat.graph_features.ConvMolFeaturizer()\n",
    "    \n",
    "    for nsc, smile in tqdm(nsc2smile.items()):\n",
    "        try:\n",
    "            # RDKitで分子オブジェクトの生成を試みる\n",
    "            mol = Chem.MolFromSmiles(smile)\n",
    "            if mol is None:\n",
    "                print(f\"分子の生成に失敗: NSC {nsc}\")\n",
    "                continue\n",
    "    \n",
    "            # 原子価の明示的な設定（Tin原子用）\n",
    "            for atom in mol.GetAtoms():\n",
    "                if atom.GetSymbol() == \"Sn\":\n",
    "                    atom.SetFormalCharge(-1)  # 電荷を明示的に設定\n",
    "    \n",
    "            # 特徴量抽出\n",
    "            mol_object = featurizer.featurize([mol])\n",
    "            if len(mol_object) == 0:\n",
    "                print(f\"特徴量抽出失敗: NSC {nsc}\")\n",
    "                continue\n",
    "    \n",
    "            # データ保存\n",
    "            hkl.dump(\n",
    "                [\n",
    "                    mol_object[0].atom_features,\n",
    "                    mol_object[0].canon_adj_list,\n",
    "                    mol_object[0].deg_list,\n",
    "                ],\n",
    "                os.path.join(save_dir, f\"{nsc}.hkl\"),\n",
    "            )\n",
    "    \n",
    "        except Exception as e:\n",
    "            print(f\"エラー発生: NSC {nsc} - {str(e)}\")\n",
    "            continue"
   ]
  },
  {
   "cell_type": "code",
   "execution_count": 52,
   "id": "5dfcb2ce-3215-4dc0-8f13-bc62857c7fe3",
   "metadata": {
    "scrolled": true
   },
   "outputs": [],
   "source": [
    "PATH = '../gdsc1_data/'\n",
    "df = pd.read_csv(f\"{PATH}drug2smiles.csv\")\n",
    "save_dir = f\"{PATH}drug_graph_feat/\"\n",
    "os.makedirs(save_dir, exist_ok=True)  # より安全なディレクトリ作成"
   ]
  },
  {
   "cell_type": "code",
   "execution_count": 53,
   "id": "bcd16060-3df6-4a05-be89-b5f15c41e62b",
   "metadata": {
    "scrolled": true
   },
   "outputs": [
    {
     "name": "stderr",
     "output_type": "stream",
     "text": [
      "100%|██████████████████████████████████████████████████████████████████████████████████████| 331/331 [00:02<00:00, 155.37it/s]\n"
     ]
    }
   ],
   "source": [
    "get_feature(df, save_dir)"
   ]
  },
  {
   "cell_type": "code",
   "execution_count": null,
   "id": "eb3e600e-8ff2-464d-92d6-a8a757fef0d7",
   "metadata": {},
   "outputs": [],
   "source": []
  },
  {
   "cell_type": "code",
   "execution_count": 56,
   "id": "1befbf03-10cd-4060-b88f-9b3d67f2595b",
   "metadata": {},
   "outputs": [],
   "source": [
    "PATH = '../gdsc2_data/'\n",
    "df = pd.read_csv(f\"{PATH}drug2smiles.csv\")\n",
    "save_dir = f\"{PATH}drug_graph_feat/\"\n",
    "os.makedirs(save_dir, exist_ok=True)  # より安全なディレクトリ作成"
   ]
  },
  {
   "cell_type": "code",
   "execution_count": 57,
   "id": "87528e28-9efd-4aec-93f5-33e1c69bcc9d",
   "metadata": {},
   "outputs": [
    {
     "name": "stderr",
     "output_type": "stream",
     "text": [
      "100%|██████████████████████████████████████████████████████████████████████████████████████| 240/240 [00:01<00:00, 134.53it/s]\n"
     ]
    }
   ],
   "source": [
    "get_feature(df, save_dir)"
   ]
  },
  {
   "cell_type": "code",
   "execution_count": null,
   "id": "ce3a7ffa-b297-4b52-9a0e-846d01d207f8",
   "metadata": {},
   "outputs": [],
   "source": []
  },
  {
   "cell_type": "code",
   "execution_count": 58,
   "id": "daf8c9c9-4ddd-4e41-8cc6-430989e5fad7",
   "metadata": {},
   "outputs": [],
   "source": [
    "PATH = '../ctrp_data/'\n",
    "df = pd.read_csv(f\"{PATH}drug2smiles.csv\")\n",
    "save_dir = f\"{PATH}drug_graph_feat/\"\n",
    "os.makedirs(save_dir, exist_ok=True)  # より安全なディレクトリ作成"
   ]
  },
  {
   "cell_type": "code",
   "execution_count": 59,
   "id": "fa1082ac-b9e3-4ebc-bb50-2424ef3bbc16",
   "metadata": {},
   "outputs": [
    {
     "name": "stderr",
     "output_type": "stream",
     "text": [
      "100%|██████████████████████████████████████████████████████████████████████████████████████| 460/460 [00:02<00:00, 162.79it/s]\n"
     ]
    }
   ],
   "source": [
    "get_feature(df, save_dir)"
   ]
  },
  {
   "cell_type": "code",
   "execution_count": null,
   "id": "34e88598-9b72-45a8-96bc-237aad0f16e6",
   "metadata": {},
   "outputs": [],
   "source": []
  }
 ],
 "metadata": {
  "kernelspec": {
   "display_name": "torch",
   "language": "python",
   "name": "torch"
  },
  "language_info": {
   "codemirror_mode": {
    "name": "ipython",
    "version": 3
   },
   "file_extension": ".py",
   "mimetype": "text/x-python",
   "name": "python",
   "nbconvert_exporter": "python",
   "pygments_lexer": "ipython3",
   "version": "3.10.15"
  }
 },
 "nbformat": 4,
 "nbformat_minor": 5
}
