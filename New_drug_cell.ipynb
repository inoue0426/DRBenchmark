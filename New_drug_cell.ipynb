{
 "cells": [
  {
   "cell_type": "code",
   "execution_count": 10,
   "id": "6517d6f1-3837-46e8-9500-4e4381293be3",
   "metadata": {},
   "outputs": [],
   "source": [
    "import numpy as np\n",
    "import pandas as pd\n",
    "\n",
    "from metrics import get_result"
   ]
  },
  {
   "cell_type": "code",
   "execution_count": 11,
   "id": "fdacdfba-c3d1-4c90-b0ff-38813a9acf9a",
   "metadata": {
    "scrolled": true
   },
   "outputs": [
    {
     "name": "stderr",
     "output_type": "stream",
     "text": [
      "/spin1/home/linux/inouey2/DRBenchmark/metrics.py:45: RuntimeWarning: divide by zero encountered in scalar divide\n",
      "  precision_score(true_labels, pred_labels, zero_division=0)\n",
      "/data/inouey2/conda/lib/python3.10/site-packages/pandas/core/nanops.py:1016: RuntimeWarning: invalid value encountered in subtract\n",
      "  sqr = _ensure_numeric((avg - values) ** 2)\n"
     ]
    },
    {
     "data": {
      "text/html": [
       "<div>\n",
       "<style scoped>\n",
       "    .dataframe tbody tr th:only-of-type {\n",
       "        vertical-align: middle;\n",
       "    }\n",
       "\n",
       "    .dataframe tbody tr th {\n",
       "        vertical-align: top;\n",
       "    }\n",
       "\n",
       "    .dataframe thead th {\n",
       "        text-align: right;\n",
       "    }\n",
       "</style>\n",
       "<table border=\"1\" class=\"dataframe\">\n",
       "  <thead>\n",
       "    <tr style=\"text-align: right;\">\n",
       "      <th></th>\n",
       "      <th>ACC</th>\n",
       "      <th>Precision</th>\n",
       "      <th>Recall</th>\n",
       "      <th>Specificity</th>\n",
       "      <th>F1</th>\n",
       "      <th>F2</th>\n",
       "      <th>Balanced ACC</th>\n",
       "      <th>G-Mean</th>\n",
       "      <th>AUROC</th>\n",
       "      <th>AUPR</th>\n",
       "      <th>LogLoss</th>\n",
       "      <th>Brier</th>\n",
       "      <th>MCC</th>\n",
       "      <th>Kappa</th>\n",
       "      <th>Youden J</th>\n",
       "      <th>Cost Ratio</th>\n",
       "    </tr>\n",
       "  </thead>\n",
       "  <tbody>\n",
       "    <tr>\n",
       "      <th>NIHGCN</th>\n",
       "      <td>0.619 (± 0.090)</td>\n",
       "      <td>0.625 (± 0.098)</td>\n",
       "      <td>0.776 (± 0.139)</td>\n",
       "      <td>0.452 (± 0.256)</td>\n",
       "      <td>0.683 (± 0.064)</td>\n",
       "      <td>0.732 (± 0.085)</td>\n",
       "      <td>0.614 (± 0.087)</td>\n",
       "      <td>0.528 (± 0.251)</td>\n",
       "      <td>0.687 (± 0.083)</td>\n",
       "      <td>0.700 (± 0.111)</td>\n",
       "      <td>0.659 (± 0.088)</td>\n",
       "      <td>0.233 (± 0.038)</td>\n",
       "      <td>0.243 (± 0.160)</td>\n",
       "      <td>0.230 (± 0.175)</td>\n",
       "      <td>0.374 (± 0.165)</td>\n",
       "      <td>inf (± nan)</td>\n",
       "    </tr>\n",
       "  </tbody>\n",
       "</table>\n",
       "</div>"
      ],
      "text/plain": [
       "                    ACC        Precision           Recall      Specificity  \\\n",
       "NIHGCN  0.619 (± 0.090)  0.625 (± 0.098)  0.776 (± 0.139)  0.452 (± 0.256)   \n",
       "\n",
       "                     F1               F2     Balanced ACC           G-Mean  \\\n",
       "NIHGCN  0.683 (± 0.064)  0.732 (± 0.085)  0.614 (± 0.087)  0.528 (± 0.251)   \n",
       "\n",
       "                  AUROC             AUPR          LogLoss            Brier  \\\n",
       "NIHGCN  0.687 (± 0.083)  0.700 (± 0.111)  0.659 (± 0.088)  0.233 (± 0.038)   \n",
       "\n",
       "                    MCC            Kappa         Youden J   Cost Ratio  \n",
       "NIHGCN  0.243 (± 0.160)  0.230 (± 0.175)  0.374 (± 0.165)  inf (± nan)  "
      ]
     },
     "execution_count": 11,
     "metadata": {},
     "output_type": "execute_result"
    }
   ],
   "source": [
    "true = pd.read_csv(\"NIHGCN/new_cell_true_nci.csv\", index_col=0)\n",
    "pred = pd.read_csv(\"NIHGCN/new_cell_pred_nci.csv\", index_col=0)\n",
    "get_result(true, pred, \"NIHGCN\").T"
   ]
  },
  {
   "cell_type": "code",
   "execution_count": 12,
   "id": "b62fc1c5-e865-40f1-9a91-9fe3c0f11960",
   "metadata": {
    "scrolled": true
   },
   "outputs": [
    {
     "data": {
      "text/html": [
       "<div>\n",
       "<style scoped>\n",
       "    .dataframe tbody tr th:only-of-type {\n",
       "        vertical-align: middle;\n",
       "    }\n",
       "\n",
       "    .dataframe tbody tr th {\n",
       "        vertical-align: top;\n",
       "    }\n",
       "\n",
       "    .dataframe thead th {\n",
       "        text-align: right;\n",
       "    }\n",
       "</style>\n",
       "<table border=\"1\" class=\"dataframe\">\n",
       "  <thead>\n",
       "    <tr style=\"text-align: right;\">\n",
       "      <th></th>\n",
       "      <th>ACC</th>\n",
       "      <th>Precision</th>\n",
       "      <th>Recall</th>\n",
       "      <th>Specificity</th>\n",
       "      <th>F1</th>\n",
       "      <th>F2</th>\n",
       "      <th>Balanced ACC</th>\n",
       "      <th>G-Mean</th>\n",
       "      <th>AUROC</th>\n",
       "      <th>AUPR</th>\n",
       "      <th>LogLoss</th>\n",
       "      <th>Brier</th>\n",
       "      <th>MCC</th>\n",
       "      <th>Kappa</th>\n",
       "      <th>Youden J</th>\n",
       "      <th>Cost Ratio</th>\n",
       "    </tr>\n",
       "  </thead>\n",
       "  <tbody>\n",
       "    <tr>\n",
       "      <th>NIHGCN</th>\n",
       "      <td>0.590 (± 0.148)</td>\n",
       "      <td>0.375 (± 0.514)</td>\n",
       "      <td>0.189 (± 0.307)</td>\n",
       "      <td>0.990 (± 0.013)</td>\n",
       "      <td>0.239 (± 0.362)</td>\n",
       "      <td>0.205 (± 0.326)</td>\n",
       "      <td>0.590 (± 0.148)</td>\n",
       "      <td>0.262 (± 0.380)</td>\n",
       "      <td>0.896 (± 0.075)</td>\n",
       "      <td>0.898 (± 0.071)</td>\n",
       "      <td>1.079 (± 0.546)</td>\n",
       "      <td>0.328 (± 0.150)</td>\n",
       "      <td>0.205 (± 0.313)</td>\n",
       "      <td>0.179 (± 0.296)</td>\n",
       "      <td>0.793 (± 0.150)</td>\n",
       "      <td>0.896 (± 1.433)</td>\n",
       "    </tr>\n",
       "  </tbody>\n",
       "</table>\n",
       "</div>"
      ],
      "text/plain": [
       "                    ACC        Precision           Recall      Specificity  \\\n",
       "NIHGCN  0.590 (± 0.148)  0.375 (± 0.514)  0.189 (± 0.307)  0.990 (± 0.013)   \n",
       "\n",
       "                     F1               F2     Balanced ACC           G-Mean  \\\n",
       "NIHGCN  0.239 (± 0.362)  0.205 (± 0.326)  0.590 (± 0.148)  0.262 (± 0.380)   \n",
       "\n",
       "                  AUROC             AUPR          LogLoss            Brier  \\\n",
       "NIHGCN  0.896 (± 0.075)  0.898 (± 0.071)  1.079 (± 0.546)  0.328 (± 0.150)   \n",
       "\n",
       "                    MCC            Kappa         Youden J       Cost Ratio  \n",
       "NIHGCN  0.205 (± 0.313)  0.179 (± 0.296)  0.793 (± 0.150)  0.896 (± 1.433)  "
      ]
     },
     "execution_count": 12,
     "metadata": {},
     "output_type": "execute_result"
    }
   ],
   "source": [
    "true = pd.read_csv(\"NIHGCN/new_drug_true_gdsc2.csv\", index_col=0)\n",
    "pred = pd.read_csv(\"NIHGCN/new_drug_pred_gdsc2.csv\", index_col=0)\n",
    "get_result(true, pred, \"NIHGCN\").T"
   ]
  },
  {
   "cell_type": "code",
   "execution_count": null,
   "id": "9756d21d-5151-45b5-8cc0-a5d4bead9b52",
   "metadata": {},
   "outputs": [],
   "source": []
  }
 ],
 "metadata": {
  "kernelspec": {
   "display_name": "torch",
   "language": "python",
   "name": "base"
  },
  "language_info": {
   "codemirror_mode": {
    "name": "ipython",
    "version": 3
   },
   "file_extension": ".py",
   "mimetype": "text/x-python",
   "name": "python",
   "nbconvert_exporter": "python",
   "pygments_lexer": "ipython3",
   "version": "3.10.13"
  }
 },
 "nbformat": 4,
 "nbformat_minor": 5
}
