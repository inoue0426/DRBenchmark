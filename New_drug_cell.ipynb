{
 "cells": [
  {
   "cell_type": "code",
   "execution_count": 18,
   "id": "6517d6f1-3837-46e8-9500-4e4381293be3",
   "metadata": {},
   "outputs": [],
   "source": [
    "import numpy as np\n",
    "import pandas as pd\n",
    "\n",
    "from metrics import new_get_result"
   ]
  },
  {
   "cell_type": "code",
   "execution_count": 30,
   "id": "fdacdfba-c3d1-4c90-b0ff-38813a9acf9a",
   "metadata": {},
   "outputs": [
    {
     "data": {
      "text/html": [
       "<div>\n",
       "<style scoped>\n",
       "    .dataframe tbody tr th:only-of-type {\n",
       "        vertical-align: middle;\n",
       "    }\n",
       "\n",
       "    .dataframe tbody tr th {\n",
       "        vertical-align: top;\n",
       "    }\n",
       "\n",
       "    .dataframe thead th {\n",
       "        text-align: right;\n",
       "    }\n",
       "</style>\n",
       "<table border=\"1\" class=\"dataframe\">\n",
       "  <thead>\n",
       "    <tr style=\"text-align: right;\">\n",
       "      <th></th>\n",
       "      <th>ACC</th>\n",
       "      <th>Precision</th>\n",
       "      <th>Recall</th>\n",
       "      <th>Specificity</th>\n",
       "      <th>F1</th>\n",
       "      <th>F2</th>\n",
       "      <th>Balanced ACC</th>\n",
       "      <th>G-Mean</th>\n",
       "      <th>AUROC</th>\n",
       "      <th>AUPR</th>\n",
       "      <th>LogLoss</th>\n",
       "      <th>Brier</th>\n",
       "      <th>MCC</th>\n",
       "      <th>Kappa</th>\n",
       "      <th>Youden J</th>\n",
       "      <th>Cost Ratio</th>\n",
       "    </tr>\n",
       "  </thead>\n",
       "  <tbody>\n",
       "    <tr>\n",
       "      <th>0</th>\n",
       "      <td>0.667333</td>\n",
       "      <td>0.829851</td>\n",
       "      <td>0.501805</td>\n",
       "      <td>0.872483</td>\n",
       "      <td>0.625422</td>\n",
       "      <td>0.544884</td>\n",
       "      <td>0.687144</td>\n",
       "      <td>0.661677</td>\n",
       "      <td>0.751165</td>\n",
       "      <td>0.802273</td>\n",
       "      <td>0.629472</td>\n",
       "      <td>0.219378</td>\n",
       "      <td>0.394326</td>\n",
       "      <td>0.35738</td>\n",
       "      <td>0.50233</td>\n",
       "      <td>1.665715</td>\n",
       "    </tr>\n",
       "  </tbody>\n",
       "</table>\n",
       "</div>"
      ],
      "text/plain": [
       "        ACC  Precision    Recall  Specificity        F1        F2  \\\n",
       "0  0.667333   0.829851  0.501805     0.872483  0.625422  0.544884   \n",
       "\n",
       "   Balanced ACC    G-Mean     AUROC      AUPR   LogLoss     Brier       MCC  \\\n",
       "0      0.687144  0.661677  0.751165  0.802273  0.629472  0.219378  0.394326   \n",
       "\n",
       "     Kappa  Youden J  Cost Ratio  \n",
       "0  0.35738   0.50233    1.665715  "
      ]
     },
     "execution_count": 30,
     "metadata": {},
     "output_type": "execute_result"
    }
   ],
   "source": [
    "true = pd.read_csv(\"NIHGCN/new_cell_true_nci.csv\", index_col=0).astype(int).values[0]\n",
    "pred = pd.read_csv(\"NIHGCN/new_cell_pred_nci.csv\", index_col=0).values[0]\n",
    "new_get_result(true, pred, \"NIHGCN\")"
   ]
  },
  {
   "cell_type": "code",
   "execution_count": 31,
   "id": "b62fc1c5-e865-40f1-9a91-9fe3c0f11960",
   "metadata": {
    "scrolled": true
   },
   "outputs": [
    {
     "data": {
      "text/html": [
       "<div>\n",
       "<style scoped>\n",
       "    .dataframe tbody tr th:only-of-type {\n",
       "        vertical-align: middle;\n",
       "    }\n",
       "\n",
       "    .dataframe tbody tr th {\n",
       "        vertical-align: top;\n",
       "    }\n",
       "\n",
       "    .dataframe thead th {\n",
       "        text-align: right;\n",
       "    }\n",
       "</style>\n",
       "<table border=\"1\" class=\"dataframe\">\n",
       "  <thead>\n",
       "    <tr style=\"text-align: right;\">\n",
       "      <th></th>\n",
       "      <th>ACC</th>\n",
       "      <th>Precision</th>\n",
       "      <th>Recall</th>\n",
       "      <th>Specificity</th>\n",
       "      <th>F1</th>\n",
       "      <th>F2</th>\n",
       "      <th>Balanced ACC</th>\n",
       "      <th>G-Mean</th>\n",
       "      <th>AUROC</th>\n",
       "      <th>AUPR</th>\n",
       "      <th>LogLoss</th>\n",
       "      <th>Brier</th>\n",
       "      <th>MCC</th>\n",
       "      <th>Kappa</th>\n",
       "      <th>Youden J</th>\n",
       "      <th>Cost Ratio</th>\n",
       "    </tr>\n",
       "  </thead>\n",
       "  <tbody>\n",
       "    <tr>\n",
       "      <th>0</th>\n",
       "      <td>0.5</td>\n",
       "      <td>0.0</td>\n",
       "      <td>0.0</td>\n",
       "      <td>1.0</td>\n",
       "      <td>0.0</td>\n",
       "      <td>0.0</td>\n",
       "      <td>0.5</td>\n",
       "      <td>0.0</td>\n",
       "      <td>0.874528</td>\n",
       "      <td>0.823554</td>\n",
       "      <td>1.462742</td>\n",
       "      <td>0.432529</td>\n",
       "      <td>0.0</td>\n",
       "      <td>0.0</td>\n",
       "      <td>0.749055</td>\n",
       "      <td>0.0</td>\n",
       "    </tr>\n",
       "  </tbody>\n",
       "</table>\n",
       "</div>"
      ],
      "text/plain": [
       "   ACC  Precision  Recall  Specificity   F1   F2  Balanced ACC  G-Mean  \\\n",
       "0  0.5        0.0     0.0          1.0  0.0  0.0           0.5     0.0   \n",
       "\n",
       "      AUROC      AUPR   LogLoss     Brier  MCC  Kappa  Youden J  Cost Ratio  \n",
       "0  0.874528  0.823554  1.462742  0.432529  0.0    0.0  0.749055         0.0  "
      ]
     },
     "execution_count": 31,
     "metadata": {},
     "output_type": "execute_result"
    }
   ],
   "source": [
    "true = pd.read_csv(\"NIHGCN/new_drug_true_gdsc2.csv\", index_col=0).astype(int).values[0]\n",
    "pred = pd.read_csv(\"NIHGCN/new_drug_pred_gdsc2.csv\", index_col=0).values[0]\n",
    "new_get_result(true, pred, \"NIHGCN\")"
   ]
  },
  {
   "cell_type": "code",
   "execution_count": null,
   "id": "9756d21d-5151-45b5-8cc0-a5d4bead9b52",
   "metadata": {},
   "outputs": [],
   "source": []
  }
 ],
 "metadata": {
  "kernelspec": {
   "display_name": "torch",
   "language": "python",
   "name": "base"
  },
  "language_info": {
   "codemirror_mode": {
    "name": "ipython",
    "version": 3
   },
   "file_extension": ".py",
   "mimetype": "text/x-python",
   "name": "python",
   "nbconvert_exporter": "python",
   "pygments_lexer": "ipython3",
   "version": "3.10.13"
  }
 },
 "nbformat": 4,
 "nbformat_minor": 5
}
