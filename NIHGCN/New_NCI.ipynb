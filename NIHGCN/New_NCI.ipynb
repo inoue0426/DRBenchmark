{
 "cells": [
  {
   "cell_type": "code",
   "execution_count": 1,
   "id": "c20439e7-025d-4489-8a64-3dd3cba26832",
   "metadata": {},
   "outputs": [],
   "source": [
    "import argparse"
   ]
  },
  {
   "cell_type": "code",
   "execution_count": 2,
   "id": "cd02a138-b06d-4cff-93b8-8fd9c0f73c77",
   "metadata": {},
   "outputs": [],
   "source": [
    "%load_ext autoreload\n",
    "%autoreload 2\n",
    "\n",
    "from load_data import load_data\n",
    "from model import Optimizer, nihgcn\n",
    "from myutils import *\n",
    "from sampler import NewSampler\n",
    "from sklearn.model_selection import KFold"
   ]
  },
  {
   "cell_type": "code",
   "execution_count": 3,
   "id": "914e98a0-69fc-4c61-97d3-e5ee0a37cc7b",
   "metadata": {},
   "outputs": [],
   "source": [
    "class Args:\n",
    "    def __init__(self):\n",
    "        self.device = torch.device(\n",
    "            \"cuda\" if torch.cuda.is_available() else \"cpu\"\n",
    "        )  # cuda:number or cpu\n",
    "        self.data = \"nci\"  # Dataset{gdsc or ccle}\n",
    "        self.lr = 0.001  # the learning rate\n",
    "        self.wd = 1e-5  # the weight decay for l2 normalizaton\n",
    "        self.layer_size = [1024, 1024]  # Output sizes of every layer\n",
    "        self.alpha = 0.25  # the scale for balance gcn and ni\n",
    "        self.gamma = 8  # the scale for sigmod\n",
    "        self.epochs = 1000  # the epochs for model\n",
    "\n",
    "\n",
    "args = Args()"
   ]
  },
  {
   "cell_type": "code",
   "execution_count": 4,
   "id": "3810b16a-58a3-4de8-a739-478968f466af",
   "metadata": {
    "scrolled": true
   },
   "outputs": [
    {
     "name": "stdout",
     "output_type": "stream",
     "text": [
      "load nci\n"
     ]
    }
   ],
   "source": [
    "res, drug_finger, exprs, null_mask, pos_num = load_data(args)\n",
    "cell_sum = np.sum(res, axis=1)\n",
    "drug_sum = np.sum(res, axis=0)\n",
    "\n",
    "target_dim = [\n",
    "    0,  # Cell\n",
    "    # 1  # Drug\n",
    "]"
   ]
  },
  {
   "cell_type": "code",
   "execution_count": 5,
   "id": "c03e6709-b358-4c5b-91bf-082f827a81d8",
   "metadata": {},
   "outputs": [],
   "source": [
    "def nihgcn_new(\n",
    "    cell_exprs,\n",
    "    drug_finger,\n",
    "    res_mat,\n",
    "    null_mask,\n",
    "    target_dim,\n",
    "    target_index,\n",
    "    evaluate_fun,\n",
    "    args,\n",
    "):\n",
    "\n",
    "    sampler = NewSampler(res_mat, null_mask, target_dim, target_index)\n",
    "    model = nihgcn(\n",
    "        sampler.train_data,\n",
    "        cell_exprs=cell_exprs,\n",
    "        drug_finger=drug_finger,\n",
    "        layer_size=args.layer_size,\n",
    "        alpha=args.alpha,\n",
    "        gamma=args.gamma,\n",
    "        device=args.device,\n",
    "    )\n",
    "    opt = Optimizer(\n",
    "        model,\n",
    "        sampler.train_data,\n",
    "        sampler.test_data,\n",
    "        sampler.test_mask,\n",
    "        sampler.train_mask,\n",
    "        evaluate_fun,\n",
    "        lr=args.lr,\n",
    "        wd=args.wd,\n",
    "        epochs=args.epochs,\n",
    "        device=args.device,\n",
    "    )\n",
    "    true_data, predict_data = opt()\n",
    "    return true_data, predict_data"
   ]
  },
  {
   "cell_type": "code",
   "execution_count": null,
   "id": "4138fc51-acbb-46b5-960d-9c9aa20c2cde",
   "metadata": {
    "scrolled": true
   },
   "outputs": [
    {
     "name": "stdout",
     "output_type": "stream",
     "text": [
      "0\n",
      "epoch:   0 loss:0.705260 auc:0.4680\n",
      "epoch:  20 loss:0.496013 auc:0.5064\n",
      "epoch:  40 loss:0.405864 auc:0.5644\n",
      "epoch:  60 loss:0.361345 auc:0.5351\n",
      "epoch:  80 loss:0.330091 auc:0.5679\n",
      "epoch: 100 loss:0.316184 auc:0.5712\n",
      "epoch: 120 loss:0.304791 auc:0.5769\n",
      "epoch: 140 loss:0.297101 auc:0.5573\n",
      "epoch: 160 loss:0.290345 auc:0.5677\n",
      "epoch: 180 loss:0.287181 auc:0.5577\n",
      "epoch: 200 loss:0.283710 auc:0.5463\n",
      "epoch: 220 loss:0.280644 auc:0.5616\n",
      "epoch: 240 loss:0.277712 auc:0.5538\n",
      "epoch: 260 loss:0.276374 auc:0.5382\n",
      "epoch: 280 loss:0.273135 auc:0.5347\n",
      "epoch: 300 loss:0.271020 auc:0.5346\n",
      "epoch: 320 loss:0.270131 auc:0.5272\n",
      "epoch: 340 loss:0.270153 auc:0.5330\n",
      "epoch: 360 loss:0.265967 auc:0.5331\n",
      "epoch: 380 loss:0.264377 auc:0.5150\n",
      "epoch: 400 loss:0.262643 auc:0.5340\n",
      "epoch: 420 loss:0.261665 auc:0.5187\n",
      "epoch: 440 loss:0.260486 auc:0.5161\n",
      "epoch: 460 loss:0.259704 auc:0.5535\n",
      "epoch: 480 loss:0.257955 auc:0.5394\n",
      "epoch: 500 loss:0.257235 auc:0.5367\n",
      "epoch: 520 loss:0.255477 auc:0.5226\n",
      "epoch: 540 loss:0.254327 auc:0.5364\n",
      "epoch: 560 loss:0.251457 auc:0.5090\n",
      "epoch: 580 loss:0.252271 auc:0.4893\n",
      "epoch: 600 loss:0.249040 auc:0.5113\n",
      "epoch: 620 loss:0.248534 auc:0.5185\n",
      "epoch: 640 loss:0.247623 auc:0.4949\n",
      "epoch: 660 loss:0.246791 auc:0.4843\n",
      "epoch: 680 loss:0.246909 auc:0.4786\n",
      "epoch: 700 loss:0.244836 auc:0.4828\n",
      "epoch: 720 loss:0.244207 auc:0.4901\n",
      "epoch: 740 loss:0.243316 auc:0.4630\n",
      "epoch: 760 loss:0.242517 auc:0.4769\n",
      "epoch: 780 loss:0.242126 auc:0.4851\n",
      "epoch: 800 loss:0.243425 auc:0.4688\n",
      "epoch: 820 loss:0.241194 auc:0.4634\n",
      "epoch: 840 loss:0.241353 auc:0.4742\n",
      "epoch: 860 loss:0.242544 auc:0.4621\n",
      "epoch: 880 loss:0.241473 auc:0.4567\n",
      "epoch: 900 loss:0.241198 auc:0.4499\n",
      "epoch: 920 loss:0.239392 auc:0.4654\n",
      "epoch: 940 loss:0.240069 auc:0.4473\n",
      "epoch: 960 loss:0.239608 auc:0.4554\n",
      "epoch: 980 loss:0.238803 auc:0.4913\n",
      "Fit finished.\n",
      "0\n",
      "epoch:   0 loss:0.699716 auc:0.4826\n",
      "epoch:  20 loss:0.492604 auc:0.6334\n",
      "epoch:  40 loss:0.402618 auc:0.6426\n",
      "epoch:  60 loss:0.356717 auc:0.6096\n",
      "epoch:  80 loss:0.334739 auc:0.6347\n",
      "epoch: 100 loss:0.319759 auc:0.5969\n",
      "epoch: 120 loss:0.303932 auc:0.6261\n",
      "epoch: 140 loss:0.297088 auc:0.6327\n",
      "epoch: 160 loss:0.289416 auc:0.6383\n",
      "epoch: 180 loss:0.286989 auc:0.6388\n",
      "epoch: 200 loss:0.284683 auc:0.6576\n",
      "epoch: 220 loss:0.281877 auc:0.6582\n",
      "epoch: 240 loss:0.276594 auc:0.6534\n",
      "epoch: 260 loss:0.272995 auc:0.6656\n",
      "epoch: 280 loss:0.271297 auc:0.6460\n",
      "epoch: 300 loss:0.271933 auc:0.6785\n",
      "epoch: 320 loss:0.268662 auc:0.6772\n",
      "epoch: 340 loss:0.265275 auc:0.6679\n",
      "epoch: 360 loss:0.263807 auc:0.6672\n",
      "epoch: 380 loss:0.263331 auc:0.6528\n",
      "epoch: 400 loss:0.261472 auc:0.6828\n",
      "epoch: 420 loss:0.261168 auc:0.6583\n",
      "epoch: 440 loss:0.258467 auc:0.6745\n",
      "epoch: 460 loss:0.256116 auc:0.6716\n",
      "epoch: 480 loss:0.255230 auc:0.6470\n",
      "epoch: 500 loss:0.253192 auc:0.6536\n",
      "epoch: 520 loss:0.251701 auc:0.6505\n",
      "epoch: 540 loss:0.251111 auc:0.6433\n",
      "epoch: 560 loss:0.254445 auc:0.6410\n",
      "epoch: 580 loss:0.250201 auc:0.6265\n",
      "epoch: 600 loss:0.248293 auc:0.6291\n",
      "epoch: 620 loss:0.246191 auc:0.6130\n",
      "epoch: 640 loss:0.246063 auc:0.6356\n",
      "epoch: 660 loss:0.246401 auc:0.6129\n",
      "epoch: 680 loss:0.245395 auc:0.6385\n",
      "epoch: 700 loss:0.246256 auc:0.6454\n",
      "epoch: 720 loss:0.247021 auc:0.5704\n",
      "epoch: 740 loss:0.243140 auc:0.5959\n",
      "epoch: 760 loss:0.242840 auc:0.5863\n",
      "epoch: 780 loss:0.241862 auc:0.5712\n",
      "epoch: 800 loss:0.240566 auc:0.5744\n",
      "epoch: 820 loss:0.241533 auc:0.5823\n",
      "epoch: 840 loss:0.241316 auc:0.5653\n",
      "epoch: 860 loss:0.239651 auc:0.5922\n",
      "epoch: 880 loss:0.239257 auc:0.5462\n"
     ]
    }
   ],
   "source": [
    "n_kfold = 1\n",
    "for dim in target_dim:\n",
    "    for target_index in np.arange(res.shape[dim]):\n",
    "        print(dim)\n",
    "        if dim:\n",
    "            if drug_sum[target_index] < 10:\n",
    "                continue\n",
    "        else:\n",
    "            if cell_sum[target_index] < 10:\n",
    "                continue\n",
    "        epochs = []\n",
    "        true_data_s = pd.DataFrame()\n",
    "        predict_data_s = pd.DataFrame()\n",
    "        for fold in range(n_kfold):\n",
    "            true_data, predict_data = nihgcn_new(\n",
    "                cell_exprs=exprs,\n",
    "                drug_finger=drug_finger,\n",
    "                res_mat=res,\n",
    "                null_mask=null_mask,\n",
    "                target_dim=dim,\n",
    "                target_index=target_index,\n",
    "                evaluate_fun=roc_auc,\n",
    "                args=args,\n",
    "            )\n",
    "            true_data_s = pd.concat(\n",
    "                [true_data_s, translate_result(true_data)], ignore_index=True\n",
    "            )\n",
    "            predict_data_s = pd.concat(\n",
    "                [predict_data_s, translate_result(predict_data)], ignore_index=True\n",
    "            )"
   ]
  },
  {
   "cell_type": "code",
   "execution_count": null,
   "id": "5a87fb88-253c-46b5-a367-df7ea05cbf30",
   "metadata": {},
   "outputs": [],
   "source": [
    "true_datas.to_csv(f\"new_true_{args.data}.csv\")\n",
    "predict_datas.to_csv(f\"new_pred_{args.data}.csv\")"
   ]
  },
  {
   "cell_type": "code",
   "execution_count": null,
   "id": "6b1c9fa6-be4b-45fd-8945-020b34cc8893",
   "metadata": {},
   "outputs": [],
   "source": []
  },
  {
   "cell_type": "code",
   "execution_count": null,
   "id": "7ed64e71-4dd5-451b-a2dc-c27ba7d4b672",
   "metadata": {},
   "outputs": [],
   "source": []
  },
  {
   "cell_type": "code",
   "execution_count": null,
   "id": "b9d0ffaa-48a8-42f9-94b1-60bdb71adb10",
   "metadata": {},
   "outputs": [],
   "source": []
  },
  {
   "cell_type": "code",
   "execution_count": null,
   "id": "60eae61b-c4a7-4de7-be31-2d926db853ef",
   "metadata": {},
   "outputs": [],
   "source": []
  },
  {
   "cell_type": "code",
   "execution_count": null,
   "id": "2fc5100b-b457-42a8-83d4-68b22be18637",
   "metadata": {},
   "outputs": [],
   "source": []
  },
  {
   "cell_type": "code",
   "execution_count": null,
   "id": "e90b507b-cec7-41ad-8b8e-b7fc574e3eb1",
   "metadata": {},
   "outputs": [],
   "source": []
  },
  {
   "cell_type": "code",
   "execution_count": null,
   "id": "940db47e-7ca3-46e1-b156-7735a576081a",
   "metadata": {},
   "outputs": [],
   "source": []
  },
  {
   "cell_type": "code",
   "execution_count": null,
   "id": "935ec736-f5a9-4fa0-b134-103cd1f4aba7",
   "metadata": {},
   "outputs": [],
   "source": []
  }
 ],
 "metadata": {
  "kernelspec": {
   "display_name": "torch",
   "language": "python",
   "name": "torch"
  },
  "language_info": {
   "codemirror_mode": {
    "name": "ipython",
    "version": 3
   },
   "file_extension": ".py",
   "mimetype": "text/x-python",
   "name": "python",
   "nbconvert_exporter": "python",
   "pygments_lexer": "ipython3",
   "version": "3.10.15"
  }
 },
 "nbformat": 4,
 "nbformat_minor": 5
}
