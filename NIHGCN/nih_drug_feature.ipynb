{
 "cells": [
  {
   "cell_type": "code",
   "execution_count": 1,
   "id": "49b8fa11-f031-4123-b5a6-fa8d663c45ad",
   "metadata": {},
   "outputs": [],
   "source": [
    "import numpy as np\n",
    "import pandas as pd\n",
    "import pubchempy as pcp\n",
    "from joblib import Memory\n",
    "from tqdm import tqdm"
   ]
  },
  {
   "cell_type": "code",
   "execution_count": 2,
   "id": "7c6fa71d-b464-47c6-8757-d0f377d960f8",
   "metadata": {},
   "outputs": [],
   "source": [
    "# キャッシュ設定\n",
    "memory = Memory(\"cache/\", verbose=0)\n",
    "\n",
    "@memory.cache\n",
    "def get_fingerprint_from_smiles(smiles):\n",
    "    try:\n",
    "        # PubChem → CID取得\n",
    "        compounds = pcp.get_compounds(smiles, namespace=\"smiles\")\n",
    "        if compounds and compounds[0].cid:\n",
    "            drug_data = pcp.Compound.from_cid(compounds[0].cid)\n",
    "            if drug_data.fingerprint:\n",
    "                bits = []\n",
    "                for x in drug_data.fingerprint:\n",
    "                    try:\n",
    "                        bits.extend([int(b) for b in f\"{int(x, 16):04b}\"])\n",
    "                    except Exception:\n",
    "                        continue\n",
    "                return np.array(bits, dtype=np.float32)\n",
    "    except Exception as e:\n",
    "        print(f\"[PubChem FAIL] {smiles}: {e}\")\n",
    "\n",
    "    # フォールバック：ゼロで埋める（フェアなベースライン）\n",
    "    return np.zeros(920, dtype=np.float32)"
   ]
  },
  {
   "cell_type": "code",
   "execution_count": 3,
   "id": "4b50e86e-c556-4205-803a-caf1a2ce8ad3",
   "metadata": {
    "scrolled": true
   },
   "outputs": [
    {
     "name": "stderr",
     "output_type": "stream",
     "text": [
      "100%|███████████████████████████████████████████████████████████████████████████████████████| 300/300 [02:45<00:00,  1.81it/s]\n"
     ]
    }
   ],
   "source": [
    "PATH = \"../gdsc1_data/\"\n",
    "SMILES = (\n",
    "    pd.read_csv(PATH + \"drug2smiles.csv\", index_col=0)\n",
    "    .reset_index(drop=True)\n",
    "    .sort_values(\"Drug\")\n",
    ")\n",
    "tmp = [get_fingerprint_from_smiles(i) for i in tqdm(SMILES[\"SMILES\"])]\n",
    "pd.DataFrame(tmp, index=list(SMILES[\"Drug\"])).to_csv(PATH + \"nih_drug_feature.csv\")"
   ]
  },
  {
   "cell_type": "code",
   "execution_count": 4,
   "id": "5ebea576-93d2-42d6-b121-0311a359dcd0",
   "metadata": {
    "scrolled": true
   },
   "outputs": [
    {
     "name": "stderr",
     "output_type": "stream",
     "text": [
      "100%|███████████████████████████████████████████████████████████████████████████████████████| 154/154 [00:37<00:00,  4.14it/s]\n"
     ]
    }
   ],
   "source": [
    "PATH = \"../gdsc2_data/\"\n",
    "SMILES = (\n",
    "    pd.read_csv(PATH + \"drug2smiles.csv\", index_col=0)\n",
    "    .reset_index(drop=True)\n",
    "    .sort_values(\"Drug\")\n",
    ")\n",
    "tmp = [get_fingerprint_from_smiles(i) for i in tqdm(SMILES[\"SMILES\"])]\n",
    "pd.DataFrame(tmp, index=list(SMILES[\"Drug\"])).to_csv(PATH + \"nih_drug_feature.csv\")"
   ]
  },
  {
   "cell_type": "code",
   "execution_count": 5,
   "id": "327b53a4-7133-44bc-8dae-e4fc689370e0",
   "metadata": {
    "scrolled": true
   },
   "outputs": [
    {
     "name": "stderr",
     "output_type": "stream",
     "text": [
      "100%|███████████████████████████████████████████████████████████████████████████████████████| 494/494 [04:29<00:00,  1.84it/s]\n"
     ]
    }
   ],
   "source": [
    "PATH = \"../ctrp_data/\"\n",
    "SMILES = (\n",
    "    pd.read_csv(PATH + \"drug2smiles.csv\", index_col=0)\n",
    "    .reset_index(drop=True)\n",
    "    .sort_values(\"Drug\")\n",
    ")\n",
    "tmp = [get_fingerprint_from_smiles(i) for i in tqdm(SMILES[\"SMILES\"])]\n",
    "pd.DataFrame(tmp, index=list(SMILES[\"Drug\"])).to_csv(PATH + \"nih_drug_feature.csv\")"
   ]
  },
  {
   "cell_type": "code",
   "execution_count": 6,
   "id": "28fba44d-ba11-4053-8b09-5fad12041cd1",
   "metadata": {
    "scrolled": true
   },
   "outputs": [
    {
     "name": "stderr",
     "output_type": "stream",
     "text": [
      "Processing SMILES: 100%|████████████████████████████████████████████████████████████████████| 976/976 [06:36<00:00,  2.46it/s]\n"
     ]
    }
   ],
   "source": [
    "PATH = \"../nci_data/\"\n",
    "drugAct = pd.read_csv(PATH + \"drugAct.csv\", index_col=0)\n",
    "\n",
    "# Load mechanism of action (moa) data\n",
    "moa = pd.read_csv(\"../data/nsc_cid_smiles_class_name.csv\", index_col=0)\n",
    "\n",
    "# Filter drugs that have SMILES information\n",
    "drugAct = drugAct[drugAct.index.isin(moa.NSC)]\n",
    "\n",
    "# Load drug synonyms and filter based on availability in other datasets\n",
    "tmp = pd.read_csv(\"../data/drugSynonym.csv\")\n",
    "tmp = tmp[\n",
    "    (~tmp.nci60.isna() & ~tmp.ctrp.isna())\n",
    "    | (~tmp.nci60.isna() & ~tmp.gdsc1.isna())\n",
    "    | (~tmp.nci60.isna() & ~tmp.gdsc2.isna())\n",
    "]\n",
    "tmp = [int(i) for i in set(tmp[\"nci60\"].str.split(\"|\").explode())]\n",
    "\n",
    "# Select drugs not classified as 'Other' in MOA and included in other datasets\n",
    "drugAct = drugAct.loc[\n",
    "    sorted(\n",
    "        set(drugAct.index) & (set(moa[moa[\"MECHANISM\"] != \"Other\"][\"NSC\"]) | set(tmp))\n",
    "    )\n",
    "]\n",
    "SMILES = moa[moa.NSC.isin(drugAct.index)]\n",
    "target_smiles = \"C(C(C(=O)O)N)[N+](=NO)[O-].[Na+]\"\n",
    "\n",
    "tmp = [\n",
    "    get_fingerprint_from_smiles(i.split(\".\")[0] if i == target_smiles else i)\n",
    "    for i in tqdm(SMILES[\"SMILES\"], desc=\"Processing SMILES\")\n",
    "]\n",
    "pd.DataFrame(tmp, index=list(SMILES[\"NSC\"])).to_csv(PATH + \"nih_drug_feature.csv\")"
   ]
  },
  {
   "cell_type": "code",
   "execution_count": null,
   "id": "799896ea-432d-4a12-adee-f063f67d0596",
   "metadata": {},
   "outputs": [],
   "source": []
  }
 ],
 "metadata": {
  "kernelspec": {
   "display_name": "torch",
   "language": "python",
   "name": "torch"
  },
  "language_info": {
   "codemirror_mode": {
    "name": "ipython",
    "version": 3
   },
   "file_extension": ".py",
   "mimetype": "text/x-python",
   "name": "python",
   "nbconvert_exporter": "python",
   "pygments_lexer": "ipython3",
   "version": "3.10.15"
  }
 },
 "nbformat": 4,
 "nbformat_minor": 5
}
