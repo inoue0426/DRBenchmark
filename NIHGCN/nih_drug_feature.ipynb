{
 "cells": [
  {
   "cell_type": "code",
   "execution_count": 1,
   "id": "49b8fa11-f031-4123-b5a6-fa8d663c45ad",
   "metadata": {},
   "outputs": [],
   "source": [
    "import numpy as np\n",
    "import pandas as pd\n",
    "import pubchempy as pcp\n",
    "from joblib import Memory\n",
    "from tqdm import tqdm"
   ]
  },
  {
   "cell_type": "code",
   "execution_count": 4,
   "id": "7c6fa71d-b464-47c6-8757-d0f377d960f8",
   "metadata": {},
   "outputs": [],
   "source": [
    "# キャッシュ設定\n",
    "memory = Memory(\"cache/\", verbose=0)\n",
    "\n",
    "\n",
    "@memory.cache\n",
    "def get_fingerprint_from_smiles(smiles):\n",
    "    compounds = pcp.get_compounds(smiles, namespace=\"smiles\")\n",
    "    if not compounds:\n",
    "        raise ValueError(\"No compounds related to the SMILES\")\n",
    "\n",
    "    compound = compounds[0]\n",
    "    fingerprint = \"\"\n",
    "    for hex_char in compound.fingerprint:\n",
    "        fingerprint += f\"{int(hex_char, 16):04b}\"\n",
    "\n",
    "    return np.array([int(bit) for bit in fingerprint])"
   ]
  },
  {
   "cell_type": "code",
   "execution_count": 6,
   "id": "4b50e86e-c556-4205-803a-caf1a2ce8ad3",
   "metadata": {
    "scrolled": true
   },
   "outputs": [
    {
     "name": "stderr",
     "output_type": "stream",
     "text": [
      "100%|███████████████████████████████████████████████████████████████████████████████████████| 331/331 [02:04<00:00,  2.67it/s]\n"
     ]
    }
   ],
   "source": [
    "PATH = \"../gdsc1_data/\"\n",
    "SMILES = (\n",
    "    pd.read_csv(PATH + \"drug2smiles.csv\", index_col=0)\n",
    "    .reset_index(drop=True)\n",
    "    .sort_values(\"drugs\")\n",
    ")\n",
    "tmp = [get_fingerprint_from_smiles(i) for i in tqdm(SMILES[\"SMILES\"])]\n",
    "pd.DataFrame(tmp, index=list(SMILES[\"drugs\"])).to_csv(PATH + \"nih_drug_feature.csv\")"
   ]
  },
  {
   "cell_type": "code",
   "execution_count": 7,
   "id": "5ebea576-93d2-42d6-b121-0311a359dcd0",
   "metadata": {
    "scrolled": true
   },
   "outputs": [
    {
     "name": "stderr",
     "output_type": "stream",
     "text": [
      "100%|███████████████████████████████████████████████████████████████████████████████████████| 240/240 [00:43<00:00,  5.46it/s]\n"
     ]
    }
   ],
   "source": [
    "PATH = \"../gdsc2_data/\"\n",
    "SMILES = (\n",
    "    pd.read_csv(PATH + \"drug2smiles.csv\", index_col=0)\n",
    "    .reset_index(drop=True)\n",
    "    .sort_values(\"drugs\")\n",
    ")\n",
    "tmp = [get_fingerprint_from_smiles(i) for i in tqdm(SMILES[\"SMILES\"])]\n",
    "pd.DataFrame(tmp, index=list(SMILES[\"drugs\"])).to_csv(PATH + \"nih_drug_feature.csv\")"
   ]
  },
  {
   "cell_type": "code",
   "execution_count": 8,
   "id": "327b53a4-7133-44bc-8dae-e4fc689370e0",
   "metadata": {
    "scrolled": true
   },
   "outputs": [
    {
     "name": "stderr",
     "output_type": "stream",
     "text": [
      "100%|███████████████████████████████████████████████████████████████████████████████████████| 460/460 [02:10<00:00,  3.53it/s]\n"
     ]
    }
   ],
   "source": [
    "PATH = \"../ctrp_data/\"\n",
    "SMILES = (\n",
    "    pd.read_csv(PATH + \"drug2smiles.csv\", index_col=0)\n",
    "    .reset_index(drop=True)\n",
    "    .sort_values(\"drugs\")\n",
    ")\n",
    "tmp = [get_fingerprint_from_smiles(i) for i in tqdm(SMILES[\"SMILES\"])]\n",
    "pd.DataFrame(tmp, index=list(SMILES[\"drugs\"])).to_csv(PATH + \"nih_drug_feature.csv\")"
   ]
  },
  {
   "cell_type": "code",
   "execution_count": 29,
   "id": "28fba44d-ba11-4053-8b09-5fad12041cd1",
   "metadata": {},
   "outputs": [
    {
     "name": "stderr",
     "output_type": "stream",
     "text": [
      "Processing SMILES: 100%|████████████████████████████████████████████████████████████████| 1005/1005 [00:00<00:00, 2644.36it/s]\n"
     ]
    }
   ],
   "source": [
    "PATH = \"../nci_data/\"\n",
    "drugAct = pd.read_csv(PATH + \"drugAct.csv\", index_col=0)\n",
    "\n",
    "# Load mechanism of action (moa) data\n",
    "moa = pd.read_csv(\"../data/nsc_cid_smiles_class_name.csv\", index_col=0)\n",
    "\n",
    "# Filter drugs that have SMILES information\n",
    "drugAct = drugAct[drugAct.index.isin(moa.NSC)]\n",
    "\n",
    "# Load drug synonyms and filter based on availability in other datasets\n",
    "tmp = pd.read_csv(\"../data/drugSynonym.csv\")\n",
    "tmp = tmp[\n",
    "    (~tmp.nci60.isna() & ~tmp.ctrp.isna())\n",
    "    | (~tmp.nci60.isna() & ~tmp.gdsc1.isna())\n",
    "    | (~tmp.nci60.isna() & ~tmp.gdsc2.isna())\n",
    "]\n",
    "tmp = [int(i) for i in set(tmp[\"nci60\"].str.split(\"|\").explode())]\n",
    "\n",
    "# Select drugs not classified as 'Other' in MOA and included in other datasets\n",
    "drugAct = drugAct.loc[\n",
    "    sorted(\n",
    "        set(drugAct.index) & (set(moa[moa[\"MECHANISM\"] != \"Other\"][\"NSC\"]) | set(tmp))\n",
    "    )\n",
    "]\n",
    "SMILES = moa[moa.NSC.isin(drugAct.index)]\n",
    "target_smiles = \"C(C(C(=O)O)N)[N+](=NO)[O-].[Na+]\"\n",
    "\n",
    "tmp = [\n",
    "    get_fingerprint_from_smiles(i.split(\".\")[0] if i == target_smiles else i)\n",
    "    for i in tqdm(SMILES[\"SMILES\"], desc=\"Processing SMILES\")\n",
    "]\n",
    "pd.DataFrame(tmp, index=list(SMILES[\"NSC\"])).to_csv(PATH + \"nih_drug_feature.csv\")"
   ]
  },
  {
   "cell_type": "code",
   "execution_count": null,
   "id": "de1bad08-c3c9-4443-a04d-bbb455f6739f",
   "metadata": {
    "scrolled": true
   },
   "outputs": [],
   "source": []
  }
 ],
 "metadata": {
  "kernelspec": {
   "display_name": "torch",
   "language": "python",
   "name": "torch"
  },
  "language_info": {
   "codemirror_mode": {
    "name": "ipython",
    "version": 3
   },
   "file_extension": ".py",
   "mimetype": "text/x-python",
   "name": "python",
   "nbconvert_exporter": "python",
   "pygments_lexer": "ipython3",
   "version": "3.10.15"
  }
 },
 "nbformat": 4,
 "nbformat_minor": 5
}
