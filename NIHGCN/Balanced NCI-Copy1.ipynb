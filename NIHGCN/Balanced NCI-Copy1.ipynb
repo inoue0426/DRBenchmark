{
 "cells": [
  {
   "cell_type": "code",
   "execution_count": 1,
   "id": "c20439e7-025d-4489-8a64-3dd3cba26832",
   "metadata": {},
   "outputs": [],
   "source": [
    "import argparse"
   ]
  },
  {
   "cell_type": "code",
   "execution_count": 2,
   "id": "cd02a138-b06d-4cff-93b8-8fd9c0f73c77",
   "metadata": {},
   "outputs": [],
   "source": [
    "%load_ext autoreload\n",
    "%autoreload 2\n",
    "\n",
    "from load_data import load_data\n",
    "from model import Optimizer, nihgcn\n",
    "from myutils import *\n",
    "from sampler import BalancedSampler\n",
    "from sklearn.model_selection import KFold"
   ]
  },
  {
   "cell_type": "code",
   "execution_count": 3,
   "id": "914e98a0-69fc-4c61-97d3-e5ee0a37cc7b",
   "metadata": {},
   "outputs": [],
   "source": [
    "class Args:\n",
    "    def __init__(self):\n",
    "        self.device = \"cpu\"  # cuda:number or cpu\n",
    "        self.data = \"nci\"  # Dataset{gdsc or ccle}\n",
    "        self.lr = 0.001  # the learning rate\n",
    "        self.wd = 1e-5  # the weight decay for l2 normalizaton\n",
    "        self.layer_size = [1024, 1024]  # Output sizes of every layer\n",
    "        self.alpha = 0.25  # the scale for balance gcn and ni\n",
    "        self.gamma = 8  # the scale for sigmod\n",
    "        self.epochs = 1000  # the epochs for model\n",
    "\n",
    "\n",
    "args = Args()"
   ]
  },
  {
   "cell_type": "code",
   "execution_count": 4,
   "id": "3810b16a-58a3-4de8-a739-478968f466af",
   "metadata": {
    "scrolled": true
   },
   "outputs": [
    {
     "name": "stdout",
     "output_type": "stream",
     "text": [
      "load nci\n"
     ]
    }
   ],
   "source": [
    "res, drug_finger, exprs, null_mask = load_data(args)"
   ]
  },
  {
   "cell_type": "code",
   "execution_count": 5,
   "id": "c83d7f49-ffd4-4607-8dc5-843425eec1b4",
   "metadata": {},
   "outputs": [
    {
     "data": {
      "text/plain": [
       "(59, 976)"
      ]
     },
     "execution_count": 5,
     "metadata": {},
     "output_type": "execute_result"
    }
   ],
   "source": [
    "res.shape"
   ]
  },
  {
   "cell_type": "code",
   "execution_count": 6,
   "id": "a34fa459-dd1c-4535-a860-9cf53d94654e",
   "metadata": {},
   "outputs": [
    {
     "data": {
      "text/plain": [
       "(59, 976)"
      ]
     },
     "execution_count": 6,
     "metadata": {},
     "output_type": "execute_result"
    }
   ],
   "source": [
    "null_mask.shape"
   ]
  },
  {
   "cell_type": "code",
   "execution_count": 7,
   "id": "7e7732f1-1673-40d3-9ee2-061484155044",
   "metadata": {},
   "outputs": [],
   "source": [
    "adj_coo = sp.coo_matrix(res)\n",
    "pos_edges = np.vstack((adj_coo.row, adj_coo.col)).T\n",
    "\n",
    "# ネガティブエッジ候補作成\n",
    "adj_dense = adj_coo.toarray()\n",
    "\n",
    "# ポジティブ（接続ありかつ null_mask==0）\n",
    "pos_mask = np.logical_and(adj_dense == 1, null_mask == 0)\n",
    "pos_row, pos_col = np.where(pos_mask)\n",
    "pos_edges = np.vstack((pos_row, pos_col)).T\n",
    "pos_labels = np.ones(len(pos_edges), dtype=int)\n",
    "\n",
    "# ネガティブ（接続なしかつ null_mask==0）\n",
    "neg_mask = np.logical_and(adj_dense == 0, null_mask == 0)\n",
    "neg_row, neg_col = np.where(neg_mask)\n",
    "neg_edges = np.vstack((neg_row, neg_col)).T\n",
    "neg_labels = np.zeros(len(neg_edges), dtype=int)\n",
    "\n",
    "# 統合\n",
    "all_edges = np.vstack((pos_edges, neg_edges))\n",
    "all_labels = np.concatenate((pos_labels, neg_labels))"
   ]
  },
  {
   "cell_type": "code",
   "execution_count": 39,
   "id": "838ba91c-69e3-494d-9f89-47d69e76642e",
   "metadata": {
    "scrolled": true
   },
   "outputs": [
    {
     "name": "stdout",
     "output_type": "stream",
     "text": [
      "total: 14312\n",
      "train: 11449\n",
      "test: 2863\n",
      "total pos: 7050\n",
      "total neg: 7262\n",
      "train pos: 5644\n",
      "train neg: 5805\n",
      "train pos: 1406\n",
      "train neg: 1457\n",
      "total: 14312\n",
      "train: 11449\n",
      "test: 2863\n",
      "total pos: 7050\n",
      "total neg: 7262\n",
      "train pos: 5643\n",
      "train neg: 5806\n",
      "train pos: 1407\n",
      "train neg: 1456\n",
      "total: 14312\n",
      "train: 11450\n",
      "test: 2862\n",
      "total pos: 7050\n",
      "total neg: 7262\n",
      "train pos: 5615\n",
      "train neg: 5835\n",
      "train pos: 1435\n",
      "train neg: 1427\n",
      "total: 14312\n",
      "train: 11450\n",
      "test: 2862\n",
      "total pos: 7050\n",
      "total neg: 7262\n",
      "train pos: 5632\n",
      "train neg: 5818\n",
      "train pos: 1418\n",
      "train neg: 1444\n",
      "total: 14312\n",
      "train: 11450\n",
      "test: 2862\n",
      "total pos: 7050\n",
      "total neg: 7262\n",
      "train pos: 5666\n",
      "train neg: 5784\n",
      "train pos: 1384\n",
      "train neg: 1478\n"
     ]
    }
   ],
   "source": [
    "k = 5\n",
    "kf = KFold(n_splits=5, shuffle=True, random_state=42)\n",
    "\n",
    "true_datas = pd.DataFrame()\n",
    "predict_datas = pd.DataFrame()\n",
    "\n",
    "for train_idx, test_idx in kf.split(all_edges):\n",
    "    train_edges = all_edges[train_idx]\n",
    "    train_labels = all_labels[train_idx]\n",
    "    test_edges = all_edges[test_idx]\n",
    "    test_labels = all_labels[test_idx]\n",
    "\n",
    "    sampler = BalancedSampler(\n",
    "        edge_train=train_edges,\n",
    "        label_train=train_labels,\n",
    "        edge_test=test_edges,\n",
    "        label_test=test_labels,\n",
    "        adj_shape=res.shape\n",
    "    )\n",
    "    train = (sampler.train_data[sampler.train_mask.to(bool)])\n",
    "    test = (sampler.test_data[sampler.test_mask.to(bool)])\n",
    "    print('total:', len(train)+len(test))\n",
    "    print('train:', len(train))\n",
    "    print('test:', len(test))\n",
    "    print('total pos:', int(sum(train)+sum(test)))\n",
    "    print('total neg:', (len(train) + len(test))-int(sum(train)+sum(test)))\n",
    "    print('train pos:', int(sum(train)))\n",
    "    print('train neg:', int(len(train) - sum(train)))\n",
    "    print('train pos:', int(sum(test)))\n",
    "    print('train neg:', int(len(test) - sum(test)))"
   ]
  },
  {
   "cell_type": "code",
   "execution_count": null,
   "id": "062f7617-c3dc-4033-a7d0-907994f31ff0",
   "metadata": {},
   "outputs": [],
   "source": []
  },
  {
   "cell_type": "code",
   "execution_count": null,
   "id": "4c7d0e8d-02f9-4048-b0c5-89a68f7d1230",
   "metadata": {},
   "outputs": [],
   "source": []
  },
  {
   "cell_type": "code",
   "execution_count": null,
   "id": "960b4a82-0c50-4420-aef5-e812cb0a4461",
   "metadata": {},
   "outputs": [],
   "source": []
  },
  {
   "cell_type": "code",
   "execution_count": null,
   "id": "3aa9929c-8374-48d7-88cf-8e5b19310070",
   "metadata": {},
   "outputs": [],
   "source": []
  },
  {
   "cell_type": "code",
   "execution_count": null,
   "id": "be335ae8-294a-4e3c-b562-f6c508952057",
   "metadata": {},
   "outputs": [],
   "source": []
  },
  {
   "cell_type": "code",
   "execution_count": null,
   "id": "24d2f951-9471-4a0f-bc96-506d86437ec4",
   "metadata": {},
   "outputs": [],
   "source": []
  },
  {
   "cell_type": "code",
   "execution_count": null,
   "id": "b027c9c4-28dd-4eba-baba-d5224b6fbabd",
   "metadata": {},
   "outputs": [],
   "source": []
  },
  {
   "cell_type": "code",
   "execution_count": null,
   "id": "be5acc60-2c7d-4fe1-b1ad-6cc0c62fc27c",
   "metadata": {},
   "outputs": [],
   "source": []
  },
  {
   "cell_type": "code",
   "execution_count": null,
   "id": "f591cbb1-9aa9-4074-87f1-ee2fb66961d8",
   "metadata": {},
   "outputs": [],
   "source": []
  },
  {
   "cell_type": "code",
   "execution_count": null,
   "id": "79177696-90d4-430b-93c4-6c878e540a30",
   "metadata": {},
   "outputs": [],
   "source": []
  },
  {
   "cell_type": "code",
   "execution_count": null,
   "id": "a0aa9ca5-c6f9-442d-a66e-e47bf0a8828f",
   "metadata": {},
   "outputs": [],
   "source": []
  },
  {
   "cell_type": "code",
   "execution_count": null,
   "id": "b34958c2-0a87-4974-878c-7585231e69cf",
   "metadata": {},
   "outputs": [],
   "source": []
  },
  {
   "cell_type": "code",
   "execution_count": null,
   "id": "21bc4a8d-0fb4-4c47-967c-e42bcecf5565",
   "metadata": {},
   "outputs": [],
   "source": []
  },
  {
   "cell_type": "code",
   "execution_count": null,
   "id": "2208cef7-5de2-4ab1-89d2-ee241e9efc59",
   "metadata": {},
   "outputs": [],
   "source": []
  },
  {
   "cell_type": "code",
   "execution_count": null,
   "id": "f895e8cb-3d55-40ce-a9fe-fd5043abe163",
   "metadata": {},
   "outputs": [],
   "source": []
  }
 ],
 "metadata": {
  "kernelspec": {
   "display_name": "torch",
   "language": "python",
   "name": "torch"
  },
  "language_info": {
   "codemirror_mode": {
    "name": "ipython",
    "version": 3
   },
   "file_extension": ".py",
   "mimetype": "text/x-python",
   "name": "python",
   "nbconvert_exporter": "python",
   "pygments_lexer": "ipython3",
   "version": "3.10.15"
  }
 },
 "nbformat": 4,
 "nbformat_minor": 5
}
