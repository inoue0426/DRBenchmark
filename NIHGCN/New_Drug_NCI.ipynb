{
 "cells": [
  {
   "cell_type": "code",
   "execution_count": 1,
   "id": "c20439e7-025d-4489-8a64-3dd3cba26832",
   "metadata": {},
   "outputs": [],
   "source": [
    "import argparse\n",
    "\n",
    "from tqdm import tqdm"
   ]
  },
  {
   "cell_type": "code",
   "execution_count": 2,
   "id": "cd02a138-b06d-4cff-93b8-8fd9c0f73c77",
   "metadata": {},
   "outputs": [],
   "source": [
    "%load_ext autoreload\n",
    "%autoreload 2\n",
    "\n",
    "from load_data import load_data\n",
    "from model import Optimizer, nihgcn\n",
    "from myutils import *\n",
    "from sampler import NewSampler\n",
    "from sklearn.model_selection import KFold"
   ]
  },
  {
   "cell_type": "code",
   "execution_count": 3,
   "id": "914e98a0-69fc-4c61-97d3-e5ee0a37cc7b",
   "metadata": {},
   "outputs": [],
   "source": [
    "class Args:\n",
    "    def __init__(self):\n",
    "        self.device = torch.device(\"cuda\" if torch.cuda.is_available() else \"cpu\")  # cuda:number or cpu\n",
    "        self.data = \"gdsc2\"  # Dataset{gdsc or ccle}\n",
    "        self.lr = 0.001  # the learning rate\n",
    "        self.wd = 1e-5  # the weight decay for l2 normalizaton\n",
    "        self.layer_size = [1024, 1024]  # Output sizes of every layer\n",
    "        self.alpha = 0.25  # the scale for balance gcn and ni\n",
    "        self.gamma = 8  # the scale for sigmod\n",
    "        self.epochs = 1000  # the epochs for model\n",
    "\n",
    "\n",
    "args = Args()"
   ]
  },
  {
   "cell_type": "code",
   "execution_count": 4,
   "id": "3810b16a-58a3-4de8-a739-478968f466af",
   "metadata": {
    "scrolled": true
   },
   "outputs": [
    {
     "name": "stdout",
     "output_type": "stream",
     "text": [
      "load gdsc2\n"
     ]
    }
   ],
   "source": [
    "res, drug_finger, exprs, null_mask, pos_num = load_data(args)\n",
    "cell_sum = np.sum(res, axis=1)\n",
    "drug_sum = np.sum(res, axis=0)\n",
    "\n",
    "target_dim = [\n",
    "    # 0,  # Cell\n",
    "    1  # Drug\n",
    "]"
   ]
  },
  {
   "cell_type": "code",
   "execution_count": 5,
   "id": "c03e6709-b358-4c5b-91bf-082f827a81d8",
   "metadata": {},
   "outputs": [],
   "source": [
    "def nihgcn_new(\n",
    "    cell_exprs,\n",
    "    drug_finger,\n",
    "    res_mat,\n",
    "    null_mask,\n",
    "    target_dim,\n",
    "    target_index,\n",
    "    evaluate_fun,\n",
    "    args,\n",
    "):\n",
    "\n",
    "    sampler = NewSampler(res_mat, null_mask, target_dim, target_index)\n",
    "    model = nihgcn(\n",
    "        sampler.train_data,\n",
    "        cell_exprs=cell_exprs,\n",
    "        drug_finger=drug_finger,\n",
    "        layer_size=args.layer_size,\n",
    "        alpha=args.alpha,\n",
    "        gamma=args.gamma,\n",
    "        device=args.device,\n",
    "    )\n",
    "    opt = Optimizer(\n",
    "        model,\n",
    "        sampler.train_data,\n",
    "        sampler.test_data,\n",
    "        sampler.test_mask,\n",
    "        sampler.train_mask,\n",
    "        evaluate_fun,\n",
    "        lr=args.lr,\n",
    "        wd=args.wd,\n",
    "        epochs=args.epochs,\n",
    "        device=args.device,\n",
    "    )\n",
    "    true_data, predict_data = opt()\n",
    "    return true_data, predict_data"
   ]
  },
  {
   "cell_type": "code",
   "execution_count": null,
   "id": "4138fc51-acbb-46b5-960d-9c9aa20c2cde",
   "metadata": {
    "scrolled": true
   },
   "outputs": [
    {
     "name": "stderr",
     "output_type": "stream",
     "text": [
      "  0%|          | 0/240 [00:00<?, ?it/s]"
     ]
    },
    {
     "name": "stdout",
     "output_type": "stream",
     "text": [
      "epoch:   0 loss:0.709002 auc:0.4520\n",
      "epoch:  20 loss:0.153209 auc:0.7782\n",
      "epoch:  40 loss:0.136905 auc:0.7480\n",
      "epoch:  60 loss:0.123181 auc:0.7450\n",
      "epoch:  80 loss:0.114529 auc:0.7411\n",
      "epoch: 100 loss:0.108614 auc:0.7862\n",
      "epoch: 120 loss:0.102904 auc:0.8392\n",
      "epoch: 140 loss:0.097554 auc:0.8728\n",
      "epoch: 160 loss:0.093757 auc:0.8831\n",
      "epoch: 180 loss:0.089240 auc:0.8947\n",
      "epoch: 200 loss:0.088499 auc:0.8843\n",
      "epoch: 220 loss:0.083874 auc:0.9143\n",
      "epoch: 240 loss:0.081974 auc:0.9151\n",
      "epoch: 260 loss:0.079845 auc:0.9091\n",
      "epoch: 280 loss:0.079814 auc:0.9015\n",
      "epoch: 300 loss:0.077965 auc:0.9287\n",
      "epoch: 320 loss:0.076641 auc:0.9257\n",
      "epoch: 340 loss:0.076715 auc:0.9249\n",
      "epoch: 360 loss:0.076369 auc:0.9216\n",
      "epoch: 380 loss:0.075000 auc:0.9233\n",
      "epoch: 400 loss:0.074535 auc:0.9273\n",
      "epoch: 420 loss:0.074820 auc:0.9299\n",
      "epoch: 440 loss:0.073995 auc:0.9334\n",
      "epoch: 460 loss:0.074004 auc:0.9199\n",
      "epoch: 480 loss:0.073494 auc:0.9366\n",
      "epoch: 500 loss:0.074390 auc:0.9322\n",
      "epoch: 520 loss:0.074599 auc:0.9098\n",
      "epoch: 540 loss:0.073108 auc:0.9312\n",
      "epoch: 560 loss:0.073449 auc:0.9262\n",
      "epoch: 580 loss:0.072745 auc:0.9389\n",
      "epoch: 600 loss:0.074225 auc:0.9480\n",
      "epoch: 620 loss:0.073134 auc:0.9425\n",
      "epoch: 640 loss:0.072537 auc:0.9486\n",
      "epoch: 660 loss:0.076340 auc:0.9573\n",
      "epoch: 680 loss:0.072730 auc:0.9544\n",
      "epoch: 700 loss:0.072456 auc:0.9481\n",
      "epoch: 720 loss:0.072182 auc:0.9485\n",
      "epoch: 740 loss:0.073424 auc:0.9413\n",
      "epoch: 760 loss:0.072361 auc:0.9525\n",
      "epoch: 780 loss:0.072685 auc:0.9394\n",
      "epoch: 800 loss:0.072288 auc:0.9510\n",
      "epoch: 820 loss:0.072083 auc:0.9521\n",
      "epoch: 840 loss:0.072800 auc:0.9549\n",
      "epoch: 860 loss:0.072036 auc:0.9498\n",
      "epoch: 880 loss:0.073044 auc:0.9539\n",
      "epoch: 900 loss:0.072296 auc:0.9571\n",
      "epoch: 920 loss:0.071875 auc:0.9534\n",
      "epoch: 940 loss:0.076108 auc:0.9360\n",
      "epoch: 960 loss:0.076667 auc:0.9482\n",
      "epoch: 980 loss:0.072780 auc:0.9520\n"
     ]
    },
    {
     "name": "stderr",
     "output_type": "stream",
     "text": [
      "  2%|▏         | 4/240 [00:26<26:08,  6.64s/it]"
     ]
    },
    {
     "name": "stdout",
     "output_type": "stream",
     "text": [
      "Fit finished.\n",
      "epoch:   0 loss:0.698697 auc:0.4932\n",
      "epoch:  20 loss:0.153377 auc:0.7558\n",
      "epoch:  40 loss:0.137354 auc:0.8113\n",
      "epoch:  60 loss:0.123877 auc:0.8148\n",
      "epoch:  80 loss:0.115146 auc:0.8062\n",
      "epoch: 100 loss:0.109181 auc:0.7927\n",
      "epoch: 120 loss:0.103416 auc:0.7716\n",
      "epoch: 140 loss:0.098962 auc:0.7643\n",
      "epoch: 160 loss:0.093636 auc:0.7479\n",
      "epoch: 180 loss:0.091060 auc:0.6975\n",
      "epoch: 200 loss:0.086107 auc:0.7798\n",
      "epoch: 220 loss:0.084773 auc:0.8030\n",
      "epoch: 240 loss:0.081823 auc:0.7354\n",
      "epoch: 260 loss:0.080202 auc:0.7794\n",
      "epoch: 280 loss:0.078778 auc:0.7577\n",
      "epoch: 300 loss:0.077666 auc:0.7669\n",
      "epoch: 320 loss:0.077196 auc:0.7720\n",
      "epoch: 340 loss:0.076178 auc:0.7720\n",
      "epoch: 360 loss:0.075723 auc:0.7613\n",
      "epoch: 380 loss:0.075019 auc:0.7896\n",
      "epoch: 400 loss:0.074900 auc:0.7876\n",
      "epoch: 420 loss:0.074671 auc:0.8020\n",
      "epoch: 440 loss:0.074495 auc:0.7952\n",
      "epoch: 460 loss:0.076313 auc:0.8188\n",
      "epoch: 480 loss:0.073850 auc:0.7855\n",
      "epoch: 500 loss:0.073621 auc:0.7843\n",
      "epoch: 520 loss:0.075731 auc:0.7240\n",
      "epoch: 540 loss:0.073315 auc:0.7650\n",
      "epoch: 560 loss:0.073228 auc:0.7595\n",
      "epoch: 580 loss:0.073661 auc:0.7816\n",
      "epoch: 600 loss:0.072805 auc:0.7797\n",
      "epoch: 620 loss:0.075966 auc:0.6966\n",
      "epoch: 640 loss:0.072864 auc:0.7872\n",
      "epoch: 660 loss:0.072664 auc:0.7743\n",
      "epoch: 680 loss:0.072677 auc:0.7577\n",
      "epoch: 700 loss:0.072800 auc:0.7310\n",
      "epoch: 720 loss:0.072948 auc:0.7521\n",
      "epoch: 740 loss:0.072353 auc:0.7722\n",
      "epoch: 760 loss:0.073396 auc:0.7840\n",
      "epoch: 780 loss:0.072256 auc:0.7672\n",
      "epoch: 800 loss:0.072923 auc:0.7491\n",
      "epoch: 820 loss:0.072208 auc:0.7730\n",
      "epoch: 840 loss:0.072689 auc:0.7443\n",
      "epoch: 860 loss:0.072268 auc:0.7520\n",
      "epoch: 880 loss:0.072531 auc:0.7728\n",
      "epoch: 900 loss:0.074149 auc:0.7000\n",
      "epoch: 920 loss:0.072326 auc:0.7090\n",
      "epoch: 940 loss:0.072001 auc:0.7125\n",
      "epoch: 960 loss:0.071957 auc:0.7116\n",
      "epoch: 980 loss:0.072681 auc:0.7277\n"
     ]
    },
    {
     "name": "stderr",
     "output_type": "stream",
     "text": [
      "  5%|▍         | 11/240 [00:43<13:55,  3.65s/it]"
     ]
    },
    {
     "name": "stdout",
     "output_type": "stream",
     "text": [
      "Fit finished.\n",
      "epoch:   0 loss:0.696007 auc:0.4439\n",
      "epoch:  20 loss:0.153072 auc:0.7483\n",
      "epoch:  40 loss:0.137128 auc:0.7971\n",
      "epoch:  60 loss:0.123688 auc:0.8679\n",
      "epoch:  80 loss:0.115158 auc:0.9161\n",
      "epoch: 100 loss:0.109111 auc:0.9325\n",
      "epoch: 120 loss:0.103064 auc:0.9189\n",
      "epoch: 140 loss:0.097247 auc:0.8912\n",
      "epoch: 160 loss:0.092599 auc:0.8713\n",
      "epoch: 180 loss:0.088466 auc:0.8759\n",
      "epoch: 200 loss:0.085378 auc:0.8787\n",
      "epoch: 220 loss:0.083088 auc:0.8702\n",
      "epoch: 240 loss:0.083404 auc:0.8685\n",
      "epoch: 260 loss:0.080147 auc:0.8673\n",
      "epoch: 280 loss:0.078351 auc:0.8787\n",
      "epoch: 300 loss:0.079286 auc:0.8923\n",
      "epoch: 320 loss:0.077195 auc:0.9082\n",
      "epoch: 340 loss:0.076209 auc:0.8889\n",
      "epoch: 360 loss:0.075608 auc:0.8957\n",
      "epoch: 380 loss:0.075277 auc:0.8985\n",
      "epoch: 400 loss:0.074761 auc:0.8968\n",
      "epoch: 420 loss:0.074311 auc:0.8980\n",
      "epoch: 440 loss:0.074994 auc:0.8929\n",
      "epoch: 460 loss:0.073950 auc:0.8957\n",
      "epoch: 480 loss:0.073949 auc:0.8963\n",
      "epoch: 500 loss:0.073621 auc:0.9019\n",
      "epoch: 520 loss:0.074145 auc:0.9070\n",
      "epoch: 540 loss:0.073525 auc:0.8974\n",
      "epoch: 560 loss:0.073155 auc:0.9042\n",
      "epoch: 580 loss:0.073963 auc:0.8991\n",
      "epoch: 600 loss:0.077057 auc:0.8929\n",
      "epoch: 620 loss:0.073102 auc:0.8985\n",
      "epoch: 640 loss:0.072732 auc:0.9053\n",
      "epoch: 660 loss:0.073317 auc:0.8963\n"
     ]
    }
   ],
   "source": [
    "n_kfold = 1\n",
    "true_data_s = pd.DataFrame()\n",
    "predict_data_s = pd.DataFrame()\n",
    "for dim in target_dim:\n",
    "    for target_index in tqdm(np.arange(res.shape[dim])):\n",
    "        if dim:\n",
    "            if drug_sum[target_index] < 10:\n",
    "                continue\n",
    "        else:\n",
    "            if cell_sum[target_index] < 10:\n",
    "                continue\n",
    "        epochs = []\n",
    "        for fold in range(n_kfold):\n",
    "            true_data, predict_data = nihgcn_new(\n",
    "                cell_exprs=exprs,\n",
    "                drug_finger=drug_finger,\n",
    "                res_mat=res,\n",
    "                null_mask=null_mask,\n",
    "                target_dim=dim,\n",
    "                target_index=target_index,\n",
    "                evaluate_fun=roc_auc,\n",
    "                args=args,\n",
    "            )\n",
    "\n",
    "        true_data_s = pd.concat(\n",
    "            [true_data_s, translate_result(true_data)], ignore_index=True\n",
    "        )\n",
    "        predict_data_s = pd.concat(\n",
    "            [predict_data_s, translate_result(predict_data)], ignore_index=True\n",
    "        )"
   ]
  },
  {
   "cell_type": "code",
   "execution_count": null,
   "id": "5a87fb88-253c-46b5-a367-df7ea05cbf30",
   "metadata": {},
   "outputs": [],
   "source": [
    "true_data_s.to_csv(f\"new_drug_true_{args.data}.csv\")\n",
    "predict_data_s.to_csv(f\"new_drug_pred_{args.data}.csv\")"
   ]
  },
  {
   "cell_type": "code",
   "execution_count": null,
   "id": "60eae61b-c4a7-4de7-be31-2d926db853ef",
   "metadata": {},
   "outputs": [],
   "source": []
  },
  {
   "cell_type": "code",
   "execution_count": null,
   "id": "2fc5100b-b457-42a8-83d4-68b22be18637",
   "metadata": {},
   "outputs": [],
   "source": []
  },
  {
   "cell_type": "code",
   "execution_count": null,
   "id": "e90b507b-cec7-41ad-8b8e-b7fc574e3eb1",
   "metadata": {},
   "outputs": [],
   "source": []
  },
  {
   "cell_type": "code",
   "execution_count": null,
   "id": "940db47e-7ca3-46e1-b156-7735a576081a",
   "metadata": {},
   "outputs": [],
   "source": []
  },
  {
   "cell_type": "code",
   "execution_count": null,
   "id": "935ec736-f5a9-4fa0-b134-103cd1f4aba7",
   "metadata": {},
   "outputs": [],
   "source": []
  }
 ],
 "metadata": {
  "kernelspec": {
   "display_name": "genex",
   "language": "python",
   "name": "genex"
  },
  "language_info": {
   "codemirror_mode": {
    "name": "ipython",
    "version": 3
   },
   "file_extension": ".py",
   "mimetype": "text/x-python",
   "name": "python",
   "nbconvert_exporter": "python",
   "pygments_lexer": "ipython3",
   "version": "3.10.14"
  }
 },
 "nbformat": 4,
 "nbformat_minor": 5
}
