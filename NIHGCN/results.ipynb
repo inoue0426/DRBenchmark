{
 "cells": [
  {
   "cell_type": "code",
   "execution_count": 1,
   "id": "9f6669c5-50f2-4110-9b32-a0843a937cd1",
   "metadata": {},
   "outputs": [],
   "source": [
    "import numpy as np\n",
    "import pandas as pd\n",
    "from sklearn.metrics import (accuracy_score, average_precision_score, f1_score,\n",
    "                             roc_auc_score)"
   ]
  },
  {
   "cell_type": "code",
   "execution_count": 6,
   "id": "f8932cc7-b74d-4332-818e-bd6d32b32e3f",
   "metadata": {},
   "outputs": [],
   "source": [
    "def get_result(true, pred, data):\n",
    "    res = pd.DataFrame()\n",
    "    for i in range(5):\n",
    "        true_labels = true.loc[i].dropna()\n",
    "        pred_values = pred.loc[i].dropna()\n",
    "        pred_labels = np.round(pred_values)\n",
    "        metrics = {\n",
    "            'ACC': accuracy_score(true_labels, pred_labels),\n",
    "            'AUROC': roc_auc_score(true_labels, pred_values),\n",
    "            'AUPR': average_precision_score(true_labels, pred_values),\n",
    "            'F1': f1_score(true_labels, pred_labels)\n",
    "        }\n",
    "        res = pd.concat([res, pd.DataFrame([metrics])])\n",
    "    \n",
    "    means = res.mean()\n",
    "    stds = res.std()\n",
    "    \n",
    "    # 平均 (± 分散) の形式に整形\n",
    "    formatted = means.map(\"{:.3f}\".format) + \" (± \" + stds.map(\"{:.3f}\".format) + \")\"\n",
    "    \n",
    "    # データフレームとして表示\n",
    "    result_table = pd.DataFrame({\n",
    "        data.upper(): formatted.values\n",
    "    })\n",
    "    \n",
    "    result_table.index = means.index\n",
    "    return result_table"
   ]
  },
  {
   "cell_type": "code",
   "execution_count": 7,
   "id": "9d05b5be-6f14-4098-a810-4a14ee9b07e8",
   "metadata": {},
   "outputs": [],
   "source": [
    "true = pd.read_csv(\"true_nci.csv\", index_col=0)\n",
    "pred = pd.read_csv(\"pred_nci.csv\", index_col=0)"
   ]
  },
  {
   "cell_type": "code",
   "execution_count": 8,
   "id": "2d16eb77-5f8c-468a-ba85-d2245adb9a39",
   "metadata": {},
   "outputs": [],
   "source": [
    "res = pd.DataFrame()\n",
    "for i in ['nci', 'gdsc1', 'gdsc2', 'ctrp']:\n",
    "    true = pd.read_csv(f'true_{i}.csv', index_col=0)\n",
    "    pred = pd.read_csv(f'pred_{i}.csv', index_col=0)\n",
    "    res = pd.concat([res, get_result(true, pred, i)], axis=1)"
   ]
  },
  {
   "cell_type": "code",
   "execution_count": 9,
   "id": "ded8fd18-66dd-4b99-a5f4-9ac0fb5a3ab7",
   "metadata": {},
   "outputs": [
    {
     "data": {
      "text/html": [
       "<div>\n",
       "<style scoped>\n",
       "    .dataframe tbody tr th:only-of-type {\n",
       "        vertical-align: middle;\n",
       "    }\n",
       "\n",
       "    .dataframe tbody tr th {\n",
       "        vertical-align: top;\n",
       "    }\n",
       "\n",
       "    .dataframe thead th {\n",
       "        text-align: right;\n",
       "    }\n",
       "</style>\n",
       "<table border=\"1\" class=\"dataframe\">\n",
       "  <thead>\n",
       "    <tr style=\"text-align: right;\">\n",
       "      <th></th>\n",
       "      <th>ACC</th>\n",
       "      <th>AUROC</th>\n",
       "      <th>AUPR</th>\n",
       "      <th>F1</th>\n",
       "    </tr>\n",
       "  </thead>\n",
       "  <tbody>\n",
       "    <tr>\n",
       "      <th>NCI</th>\n",
       "      <td>0.780 (± 0.006)</td>\n",
       "      <td>0.864 (± 0.005)</td>\n",
       "      <td>0.867 (± 0.005)</td>\n",
       "      <td>0.769 (± 0.007)</td>\n",
       "    </tr>\n",
       "    <tr>\n",
       "      <th>GDSC1</th>\n",
       "      <td>0.881 (± 0.002)</td>\n",
       "      <td>0.977 (± 0.001)</td>\n",
       "      <td>0.978 (± 0.000)</td>\n",
       "      <td>0.868 (± 0.003)</td>\n",
       "    </tr>\n",
       "    <tr>\n",
       "      <th>GDSC2</th>\n",
       "      <td>0.878 (± 0.005)</td>\n",
       "      <td>0.984 (± 0.001)</td>\n",
       "      <td>0.984 (± 0.001)</td>\n",
       "      <td>0.864 (± 0.006)</td>\n",
       "    </tr>\n",
       "    <tr>\n",
       "      <th>CTRP</th>\n",
       "      <td>0.863 (± 0.002)</td>\n",
       "      <td>0.944 (± 0.001)</td>\n",
       "      <td>0.946 (± 0.001)</td>\n",
       "      <td>0.856 (± 0.002)</td>\n",
       "    </tr>\n",
       "  </tbody>\n",
       "</table>\n",
       "</div>"
      ],
      "text/plain": [
       "                   ACC            AUROC             AUPR               F1\n",
       "NCI    0.780 (± 0.006)  0.864 (± 0.005)  0.867 (± 0.005)  0.769 (± 0.007)\n",
       "GDSC1  0.881 (± 0.002)  0.977 (± 0.001)  0.978 (± 0.000)  0.868 (± 0.003)\n",
       "GDSC2  0.878 (± 0.005)  0.984 (± 0.001)  0.984 (± 0.001)  0.864 (± 0.006)\n",
       "CTRP   0.863 (± 0.002)  0.944 (± 0.001)  0.946 (± 0.001)  0.856 (± 0.002)"
      ]
     },
     "execution_count": 9,
     "metadata": {},
     "output_type": "execute_result"
    }
   ],
   "source": [
    "res.T"
   ]
  },
  {
   "cell_type": "code",
   "execution_count": null,
   "id": "c0ce2243-3273-4667-a7e0-e0dc1e4c307f",
   "metadata": {},
   "outputs": [],
   "source": []
  }
 ],
 "metadata": {
  "kernelspec": {
   "display_name": "genex",
   "language": "python",
   "name": "genex"
  },
  "language_info": {
   "codemirror_mode": {
    "name": "ipython",
    "version": 3
   },
   "file_extension": ".py",
   "mimetype": "text/x-python",
   "name": "python",
   "nbconvert_exporter": "python",
   "pygments_lexer": "ipython3",
   "version": "3.10.14"
  }
 },
 "nbformat": 4,
 "nbformat_minor": 5
}
