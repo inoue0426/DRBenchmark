{
 "cells": [
  {
   "cell_type": "code",
   "execution_count": 10,
   "id": "c20439e7-025d-4489-8a64-3dd3cba26832",
   "metadata": {},
   "outputs": [],
   "source": [
    "import argparse\n",
    "\n",
    "import numpy as np\n",
    "import pandas as pd"
   ]
  },
  {
   "cell_type": "code",
   "execution_count": 2,
   "id": "cd02a138-b06d-4cff-93b8-8fd9c0f73c77",
   "metadata": {},
   "outputs": [],
   "source": [
    "%load_ext autoreload\n",
    "%autoreload 2\n",
    "\n",
    "from load_data import load_data\n",
    "from model import Optimizer, nihgcn\n",
    "from myutils import *\n",
    "from sampler import RandomSampler\n",
    "from sklearn.model_selection import KFold"
   ]
  },
  {
   "cell_type": "code",
   "execution_count": 3,
   "id": "914e98a0-69fc-4c61-97d3-e5ee0a37cc7b",
   "metadata": {},
   "outputs": [],
   "source": [
    "class Args:\n",
    "    def __init__(self):\n",
    "        self.device = \"cuda:0\"  # cuda:number or cpu\n",
    "        self.data = \"nci\"  # Dataset{gdsc or ccle}\n",
    "        self.lr = 0.001  # the learning rate\n",
    "        self.wd = 1e-5  # the weight decay for l2 normalizaton\n",
    "        self.layer_size = [1024, 1024]  # Output sizes of every layer\n",
    "        self.alpha = 0.25  # the scale for balance gcn and ni\n",
    "        self.gamma = 8  # the scale for sigmod\n",
    "        self.epochs = 1000  # the epochs for model\n",
    "\n",
    "\n",
    "args = Args()"
   ]
  },
  {
   "cell_type": "code",
   "execution_count": 4,
   "id": "3810b16a-58a3-4de8-a739-478968f466af",
   "metadata": {
    "scrolled": true
   },
   "outputs": [
    {
     "name": "stdout",
     "output_type": "stream",
     "text": [
      "load nci\n"
     ]
    }
   ],
   "source": [
    "res, drug_finger, exprs, null_mask, pos_num = load_data(args)"
   ]
  },
  {
   "cell_type": "code",
   "execution_count": 6,
   "id": "9ed3f681-7304-47e5-8fea-dd6bc6a19ae8",
   "metadata": {},
   "outputs": [
    {
     "data": {
      "text/plain": [
       "(60, 1005)"
      ]
     },
     "execution_count": 6,
     "metadata": {},
     "output_type": "execute_result"
    }
   ],
   "source": [
    "res.shape"
   ]
  },
  {
   "cell_type": "code",
   "execution_count": 9,
   "id": "05f677b8-dd91-487d-bccc-bdf7b8886592",
   "metadata": {},
   "outputs": [],
   "source": [
    "drugAct = pd.read_csv(\"../../drGAT/Untitled Folder/tmp.csv\", index_col=0)"
   ]
  },
  {
   "cell_type": "code",
   "execution_count": 12,
   "id": "88b8f5cd-bfe0-47ab-b3a7-f9335c45ac3e",
   "metadata": {},
   "outputs": [
    {
     "data": {
      "text/plain": [
       "True"
      ]
     },
     "execution_count": 12,
     "metadata": {},
     "output_type": "execute_result"
    }
   ],
   "source": [
    "np.alltrue(drugAct.values.T == res)"
   ]
  },
  {
   "cell_type": "code",
   "execution_count": null,
   "id": "cbad0c37-f25d-4a96-9914-2c536bc0f91b",
   "metadata": {},
   "outputs": [],
   "source": []
  },
  {
   "cell_type": "code",
   "execution_count": 15,
   "id": "838ba91c-69e3-494d-9f89-47d69e76642e",
   "metadata": {
    "scrolled": true
   },
   "outputs": [],
   "source": [
    "k = 5\n",
    "kfold = KFold(n_splits=k, shuffle=True, random_state=42)\n",
    "\n",
    "for seed, (train_index, test_index) in enumerate(kfold.split(np.arange(pos_num))):\n",
    "    sampler = RandomSampler(res, train_index, test_index, null_mask, seed)\n",
    "    break"
   ]
  },
  {
   "cell_type": "code",
   "execution_count": 16,
   "id": "5a87fb88-253c-46b5-a367-df7ea05cbf30",
   "metadata": {},
   "outputs": [
    {
     "data": {
      "text/plain": [
       "tensor([[1., 1., 1.,  ..., 0., 1., 0.],\n",
       "        [0., 0., 0.,  ..., 1., 1., 1.],\n",
       "        [1., 0., 0.,  ..., 0., 0., 0.],\n",
       "        ...,\n",
       "        [0., 0., 0.,  ..., 0., 0., 0.],\n",
       "        [1., 1., 0.,  ..., 1., 0., 1.],\n",
       "        [0., 0., 0.,  ..., 0., 1., 1.]])"
      ]
     },
     "execution_count": 16,
     "metadata": {},
     "output_type": "execute_result"
    }
   ],
   "source": [
    "sampler.train_data"
   ]
  },
  {
   "cell_type": "code",
   "execution_count": 17,
   "id": "6b1c9fa6-be4b-45fd-8945-020b34cc8893",
   "metadata": {},
   "outputs": [],
   "source": [
    "train_data = pd.read_csv(\"../../drGAT/Untitled Folder/data.csv\", index_col=0)"
   ]
  },
  {
   "cell_type": "code",
   "execution_count": 18,
   "id": "7ed64e71-4dd5-451b-a2dc-c27ba7d4b672",
   "metadata": {},
   "outputs": [
    {
     "data": {
      "text/plain": [
       "True"
      ]
     },
     "execution_count": 18,
     "metadata": {},
     "output_type": "execute_result"
    }
   ],
   "source": [
    "np.alltrue(train_data.values == sampler.train_data.numpy())"
   ]
  },
  {
   "cell_type": "code",
   "execution_count": null,
   "id": "52048af4-b436-4181-819f-0022836bc4f9",
   "metadata": {},
   "outputs": [],
   "source": []
  }
 ],
 "metadata": {
  "kernelspec": {
   "display_name": "genex",
   "language": "python",
   "name": "genex"
  },
  "language_info": {
   "codemirror_mode": {
    "name": "ipython",
    "version": 3
   },
   "file_extension": ".py",
   "mimetype": "text/x-python",
   "name": "python",
   "nbconvert_exporter": "python",
   "pygments_lexer": "ipython3",
   "version": "3.10.14"
  }
 },
 "nbformat": 4,
 "nbformat_minor": 5
}
