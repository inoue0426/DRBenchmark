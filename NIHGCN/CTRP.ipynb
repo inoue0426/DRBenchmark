{
 "cells": [
  {
   "cell_type": "code",
   "execution_count": 1,
   "id": "c20439e7-025d-4489-8a64-3dd3cba26832",
   "metadata": {},
   "outputs": [],
   "source": [
    "import argparse"
   ]
  },
  {
   "cell_type": "code",
   "execution_count": 2,
   "id": "cd02a138-b06d-4cff-93b8-8fd9c0f73c77",
   "metadata": {},
   "outputs": [],
   "source": [
    "%load_ext autoreload\n",
    "%autoreload 2\n",
    "\n",
    "from load_data import load_data\n",
    "from model import Optimizer, nihgcn\n",
    "from myutils import *\n",
    "from sampler import RandomSampler\n",
    "from sklearn.model_selection import KFold"
   ]
  },
  {
   "cell_type": "code",
   "execution_count": 3,
   "id": "914e98a0-69fc-4c61-97d3-e5ee0a37cc7b",
   "metadata": {},
   "outputs": [],
   "source": [
    "class Args:\n",
    "    def __init__(self):\n",
    "        self.device = \"cuda:0\"  # cuda:number or cpu\n",
    "        self.data = \"ctrp\"  # Dataset{gdsc or ccle}\n",
    "        self.lr = 0.001  # the learning rate\n",
    "        self.wd = 1e-5  # the weight decay for l2 normalizaton\n",
    "        self.layer_size = [1024, 1024]  # Output sizes of every layer\n",
    "        self.alpha = 0.25  # the scale for balance gcn and ni\n",
    "        self.gamma = 8  # the scale for sigmod\n",
    "        self.epochs = 1000  # the epochs for model\n",
    "\n",
    "\n",
    "args = Args()"
   ]
  },
  {
   "cell_type": "code",
   "execution_count": 4,
   "id": "3810b16a-58a3-4de8-a739-478968f466af",
   "metadata": {
    "scrolled": true
   },
   "outputs": [],
   "source": [
    "res, drug_finger, exprs, null_mask, pos_num = load_data(args)"
   ]
  },
  {
   "cell_type": "code",
   "execution_count": 5,
   "id": "838ba91c-69e3-494d-9f89-47d69e76642e",
   "metadata": {},
   "outputs": [
    {
     "ename": "ValueError",
     "evalue": "Cannot take a larger sample than population when 'replace=False'",
     "output_type": "error",
     "traceback": [
      "\u001b[0;31m---------------------------------------------------------------------------\u001b[0m",
      "\u001b[0;31mValueError\u001b[0m                                Traceback (most recent call last)",
      "Cell \u001b[0;32mIn[5], line 8\u001b[0m\n\u001b[1;32m      5\u001b[0m predict_datas \u001b[38;5;241m=\u001b[39m pd\u001b[38;5;241m.\u001b[39mDataFrame()\n\u001b[1;32m      7\u001b[0m \u001b[38;5;28;01mfor\u001b[39;00m train_index, test_index \u001b[38;5;129;01min\u001b[39;00m kfold\u001b[38;5;241m.\u001b[39msplit(np\u001b[38;5;241m.\u001b[39marange(pos_num)):\n\u001b[0;32m----> 8\u001b[0m     sampler \u001b[38;5;241m=\u001b[39m \u001b[43mRandomSampler\u001b[49m\u001b[43m(\u001b[49m\u001b[43mres\u001b[49m\u001b[43m,\u001b[49m\u001b[43m \u001b[49m\u001b[43mtrain_index\u001b[49m\u001b[43m,\u001b[49m\u001b[43m \u001b[49m\u001b[43mtest_index\u001b[49m\u001b[43m,\u001b[49m\u001b[43m \u001b[49m\u001b[43mnull_mask\u001b[49m\u001b[43m)\u001b[49m\n\u001b[1;32m      9\u001b[0m     model \u001b[38;5;241m=\u001b[39m nihgcn(\n\u001b[1;32m     10\u001b[0m         adj_mat\u001b[38;5;241m=\u001b[39msampler\u001b[38;5;241m.\u001b[39mtrain_data,\n\u001b[1;32m     11\u001b[0m         cell_exprs\u001b[38;5;241m=\u001b[39mexprs,\n\u001b[0;32m   (...)\u001b[0m\n\u001b[1;32m     16\u001b[0m         device\u001b[38;5;241m=\u001b[39margs\u001b[38;5;241m.\u001b[39mdevice,\n\u001b[1;32m     17\u001b[0m     )\u001b[38;5;241m.\u001b[39mto(args\u001b[38;5;241m.\u001b[39mdevice)\n\u001b[1;32m     18\u001b[0m     opt \u001b[38;5;241m=\u001b[39m Optimizer(\n\u001b[1;32m     19\u001b[0m         model,\n\u001b[1;32m     20\u001b[0m         sampler\u001b[38;5;241m.\u001b[39mtrain_data,\n\u001b[0;32m   (...)\u001b[0m\n\u001b[1;32m     28\u001b[0m         device\u001b[38;5;241m=\u001b[39margs\u001b[38;5;241m.\u001b[39mdevice,\n\u001b[1;32m     29\u001b[0m     )\u001b[38;5;241m.\u001b[39mto(args\u001b[38;5;241m.\u001b[39mdevice)\n",
      "File \u001b[0;32m/spin1/home/linux/inouey2/DRBenchmark/NIHGCN/sampler.py:20\u001b[0m, in \u001b[0;36mRandomSampler.__init__\u001b[0;34m(self, adj_mat_original, train_index, test_index, null_mask)\u001b[0m\n\u001b[1;32m     18\u001b[0m \u001b[38;5;28mself\u001b[39m\u001b[38;5;241m.\u001b[39mtrain_pos \u001b[38;5;241m=\u001b[39m \u001b[38;5;28mself\u001b[39m\u001b[38;5;241m.\u001b[39msample(train_index)\n\u001b[1;32m     19\u001b[0m \u001b[38;5;28mself\u001b[39m\u001b[38;5;241m.\u001b[39mtest_pos \u001b[38;5;241m=\u001b[39m \u001b[38;5;28mself\u001b[39m\u001b[38;5;241m.\u001b[39msample(test_index)\n\u001b[0;32m---> 20\u001b[0m \u001b[38;5;28mself\u001b[39m\u001b[38;5;241m.\u001b[39mtrain_neg, \u001b[38;5;28mself\u001b[39m\u001b[38;5;241m.\u001b[39mtest_neg \u001b[38;5;241m=\u001b[39m \u001b[38;5;28;43mself\u001b[39;49m\u001b[38;5;241;43m.\u001b[39;49m\u001b[43msample_negative\u001b[49m\u001b[43m(\u001b[49m\u001b[43m)\u001b[49m\n\u001b[1;32m     21\u001b[0m \u001b[38;5;28mself\u001b[39m\u001b[38;5;241m.\u001b[39mtrain_mask \u001b[38;5;241m=\u001b[39m mask(\u001b[38;5;28mself\u001b[39m\u001b[38;5;241m.\u001b[39mtrain_pos, \u001b[38;5;28mself\u001b[39m\u001b[38;5;241m.\u001b[39mtrain_neg, dtype\u001b[38;5;241m=\u001b[39m\u001b[38;5;28mint\u001b[39m)\n\u001b[1;32m     22\u001b[0m \u001b[38;5;28mself\u001b[39m\u001b[38;5;241m.\u001b[39mtest_mask \u001b[38;5;241m=\u001b[39m mask(\u001b[38;5;28mself\u001b[39m\u001b[38;5;241m.\u001b[39mtest_pos, \u001b[38;5;28mself\u001b[39m\u001b[38;5;241m.\u001b[39mtest_neg, dtype\u001b[38;5;241m=\u001b[39m\u001b[38;5;28mbool\u001b[39m)\n",
      "File \u001b[0;32m/spin1/home/linux/inouey2/DRBenchmark/NIHGCN/sampler.py:50\u001b[0m, in \u001b[0;36mRandomSampler.sample_negative\u001b[0;34m(self)\u001b[0m\n\u001b[1;32m     48\u001b[0m \u001b[38;5;66;03m# 采样负测试集\u001b[39;00m\n\u001b[1;32m     49\u001b[0m test_n \u001b[38;5;241m=\u001b[39m \u001b[38;5;28mself\u001b[39m\u001b[38;5;241m.\u001b[39mtest_index\u001b[38;5;241m.\u001b[39mshape[\u001b[38;5;241m0\u001b[39m]\n\u001b[0;32m---> 50\u001b[0m test_neg_index \u001b[38;5;241m=\u001b[39m \u001b[43mnp\u001b[49m\u001b[38;5;241;43m.\u001b[39;49m\u001b[43mrandom\u001b[49m\u001b[38;5;241;43m.\u001b[39;49m\u001b[43mchoice\u001b[49m\u001b[43m(\u001b[49m\u001b[43mindex\u001b[49m\u001b[43m,\u001b[49m\u001b[43m \u001b[49m\u001b[43mtest_n\u001b[49m\u001b[43m,\u001b[49m\u001b[43m \u001b[49m\u001b[43mreplace\u001b[49m\u001b[38;5;241;43m=\u001b[39;49m\u001b[38;5;28;43;01mFalse\u001b[39;49;00m\u001b[43m)\u001b[49m\n\u001b[1;32m     51\u001b[0m test_row \u001b[38;5;241m=\u001b[39m all_row[test_neg_index]\n\u001b[1;32m     52\u001b[0m test_col \u001b[38;5;241m=\u001b[39m all_col[test_neg_index]\n",
      "File \u001b[0;32mnumpy/random/mtrand.pyx:1001\u001b[0m, in \u001b[0;36mnumpy.random.mtrand.RandomState.choice\u001b[0;34m()\u001b[0m\n",
      "\u001b[0;31mValueError\u001b[0m: Cannot take a larger sample than population when 'replace=False'"
     ]
    }
   ],
   "source": [
    "k = 5\n",
    "kfold = KFold(n_splits=k, shuffle=True, random_state=42)\n",
    "\n",
    "true_datas = pd.DataFrame()\n",
    "predict_datas = pd.DataFrame()\n",
    "\n",
    "for train_index, test_index in kfold.split(np.arange(pos_num)):\n",
    "    sampler = RandomSampler(res, train_index, test_index, null_mask)\n",
    "    model = nihgcn(\n",
    "        adj_mat=sampler.train_data,\n",
    "        cell_exprs=exprs,\n",
    "        drug_finger=drug_finger,\n",
    "        layer_size=args.layer_size,\n",
    "        alpha=args.alpha,\n",
    "        gamma=args.gamma,\n",
    "        device=args.device,\n",
    "    ).to(args.device)\n",
    "    opt = Optimizer(\n",
    "        model,\n",
    "        sampler.train_data,\n",
    "        sampler.test_data,\n",
    "        sampler.test_mask,\n",
    "        sampler.train_mask,\n",
    "        roc_auc,\n",
    "        lr=args.lr,\n",
    "        wd=args.wd,\n",
    "        epochs=args.epochs,\n",
    "        device=args.device,\n",
    "    ).to(args.device)\n",
    "    true_data, predict_data = opt()\n",
    "    true_datas = pd.concat([true_datas, translate_result(true_data)], ignore_index=True)\n",
    "    predict_datas = pd.concat(\n",
    "        [predict_datas, translate_result(predict_data)], ignore_index=True\n",
    "    )"
   ]
  },
  {
   "cell_type": "code",
   "execution_count": null,
   "id": "5a87fb88-253c-46b5-a367-df7ea05cbf30",
   "metadata": {},
   "outputs": [],
   "source": [
    "true_datas.to_csv(\"true_ctrp.csv\")\n",
    "predict_datas.to_csv(\"pred_ctrp.csv\")"
   ]
  },
  {
   "cell_type": "code",
   "execution_count": null,
   "id": "be335ae8-294a-4e3c-b562-f6c508952057",
   "metadata": {},
   "outputs": [],
   "source": []
  }
 ],
 "metadata": {
  "kernelspec": {
   "display_name": "genex",
   "language": "python",
   "name": "genex"
  },
  "language_info": {
   "codemirror_mode": {
    "name": "ipython",
    "version": 3
   },
   "file_extension": ".py",
   "mimetype": "text/x-python",
   "name": "python",
   "nbconvert_exporter": "python",
   "pygments_lexer": "ipython3",
   "version": "3.10.14"
  }
 },
 "nbformat": 4,
 "nbformat_minor": 5
}
