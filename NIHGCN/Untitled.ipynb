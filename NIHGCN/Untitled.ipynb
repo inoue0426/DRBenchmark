{
 "cells": [
  {
   "cell_type": "code",
   "execution_count": 1,
   "id": "2ed2901a-2a1d-4519-b141-76399e11e9bb",
   "metadata": {},
   "outputs": [],
   "source": [
    "import pandas as pd\n",
    "import numpy as np"
   ]
  },
  {
   "cell_type": "code",
   "execution_count": 2,
   "id": "9ffe20eb-4708-4b6c-a56d-2e72bd036cd6",
   "metadata": {},
   "outputs": [],
   "source": [
    "%load_ext autoreload\n",
    "%autoreload 2\n",
    "\n",
    "from load_data import load_data"
   ]
  },
  {
   "cell_type": "code",
   "execution_count": 8,
   "id": "574b5c01-39f5-4fd7-a473-1f6ce2c8dc3d",
   "metadata": {},
   "outputs": [
    {
     "data": {
      "text/plain": [
       "Namespace(data='gdsc1')"
      ]
     },
     "execution_count": 8,
     "metadata": {},
     "output_type": "execute_result"
    }
   ],
   "source": [
    "def get_args():\n",
    "    parser = argparse.ArgumentParser()\n",
    "    parser.add_argument('--data', type=str, default='gdsc1')\n",
    "    args, _ = parser.parse_known_args()\n",
    "    return args\n",
    "\n",
    "args = get_args()\n",
    "args"
   ]
  },
  {
   "cell_type": "code",
   "execution_count": 46,
   "id": "3c36e63e-db76-489b-bd4a-8b39aa95c190",
   "metadata": {},
   "outputs": [
    {
     "data": {
      "text/plain": [
       "'gdsc1'"
      ]
     },
     "execution_count": 46,
     "metadata": {},
     "output_type": "execute_result"
    }
   ],
   "source": []
  },
  {
   "cell_type": "code",
   "execution_count": 137,
   "id": "adda09e4-ad0e-4968-996b-125da526c733",
   "metadata": {
    "scrolled": true
   },
   "outputs": [
    {
     "name": "stdout",
     "output_type": "stream",
     "text": [
      "load nci\n",
      "nci False\n",
      "50322\n",
      "(976, 59)\n",
      "(976, 230)\n",
      "(59, 23059)\n",
      "0 \n",
      "\n",
      "load gdsc1\n",
      "gdsc1 False\n",
      "261565\n",
      "(300, 925)\n",
      "(300, 230)\n",
      "(925, 19562)\n",
      "0 \n",
      "\n",
      "load gdsc2\n",
      "gdsc2 False\n",
      "95196\n",
      "(153, 654)\n",
      "(153, 230)\n",
      "(654, 19562)\n",
      "0 \n",
      "\n",
      "ctrp False\n",
      "357086\n",
      "(470, 807)\n",
      "(470, 881)\n",
      "(807, 19851)\n",
      "0 \n",
      "\n"
     ]
    }
   ],
   "source": [
    "for i in ['nci', 'gdsc1', 'gdsc2', 'ctrp']:\n",
    "    args.data = i\n",
    "    res, drug_feature, exprs, null_mask, pos_num = load_data(args)\n",
    "    print(i, (res.shape[1] == drug_feature.shape[0]) & (res.shape[0] == exprs.shape[0]))\n",
    "    print(pos_num)\n",
    "    print(res.shape)\n",
    "    print(drug_feature.shape)\n",
    "    print(exprs.shape)\n",
    "    print(\n",
    "        np.sum((res.fillna(0) != pd.read_csv(f'../../drGAT/Test1_random_split/Tuning_NCI/{i}.csv', index_col=0).fillna(0)).values), \n",
    "        '\\n')"
   ]
  },
  {
   "cell_type": "code",
   "execution_count": 135,
   "id": "6fe5892d-c175-4a78-99c5-863554d7736c",
   "metadata": {},
   "outputs": [
    {
     "data": {
      "text/plain": [
       "0"
      ]
     },
     "execution_count": 135,
     "metadata": {},
     "output_type": "execute_result"
    }
   ],
   "source": []
  },
  {
   "cell_type": "code",
   "execution_count": 118,
   "id": "8034b9ed-2b18-44ec-abfa-adcd4a707aac",
   "metadata": {},
   "outputs": [
    {
     "data": {
      "text/plain": [
       "(976, 59)"
      ]
     },
     "execution_count": 118,
     "metadata": {},
     "output_type": "execute_result"
    }
   ],
   "source": []
  },
  {
   "cell_type": "code",
   "execution_count": null,
   "id": "3c518620-f820-4e2f-b7da-8b303234b459",
   "metadata": {},
   "outputs": [],
   "source": []
  },
  {
   "cell_type": "markdown",
   "id": "e26bd8c6-134d-4e62-b687-5029c6f77147",
   "metadata": {},
   "source": [
    "drug_feature.shape"
   ]
  },
  {
   "cell_type": "code",
   "execution_count": 110,
   "id": "869fb624-3190-4911-bb07-9d0107b741c2",
   "metadata": {},
   "outputs": [
    {
     "ename": "AttributeError",
     "evalue": "'numpy.ndarray' object has no attribute 'index'",
     "output_type": "error",
     "traceback": [
      "\u001b[0;31m---------------------------------------------------------------------------\u001b[0m",
      "\u001b[0;31mAttributeError\u001b[0m                            Traceback (most recent call last)",
      "Cell \u001b[0;32mIn[110], line 1\u001b[0m\n\u001b[0;32m----> 1\u001b[0m drug_feature[(\u001b[43mres\u001b[49m\u001b[38;5;241;43m.\u001b[39;49m\u001b[43mindex\u001b[49m)]\n",
      "\u001b[0;31mAttributeError\u001b[0m: 'numpy.ndarray' object has no attribute 'index'"
     ]
    }
   ],
   "source": [
    "drug_feature[(res.index)]"
   ]
  },
  {
   "cell_type": "code",
   "execution_count": null,
   "id": "e1018803-b34d-475b-aafe-2edc6a1eda33",
   "metadata": {},
   "outputs": [],
   "source": [
    "drug_feature"
   ]
  },
  {
   "cell_type": "code",
   "execution_count": null,
   "id": "c002054c-b165-4aa3-9d0c-a4cd785314a2",
   "metadata": {},
   "outputs": [],
   "source": []
  }
 ],
 "metadata": {
  "kernelspec": {
   "display_name": "torch",
   "language": "python",
   "name": "torch"
  },
  "language_info": {
   "codemirror_mode": {
    "name": "ipython",
    "version": 3
   },
   "file_extension": ".py",
   "mimetype": "text/x-python",
   "name": "python",
   "nbconvert_exporter": "python",
   "pygments_lexer": "ipython3",
   "version": "3.10.15"
  }
 },
 "nbformat": 4,
 "nbformat_minor": 5
}
